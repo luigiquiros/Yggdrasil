{
 "cells": [
  {
   "cell_type": "code",
   "execution_count": 1,
   "metadata": {},
   "outputs": [],
   "source": [
    "import requests\n",
    "import pandas as pd\n",
    "import numpy as np\n",
    "import requests \n",
    "import os\n",
    "from io import StringIO  # Import StringIO from the io module\n",
    "import time  # Import the time module\n",
    "from urllib.parse import quote  # To URL encode SMILES\n",
    "import plotly.express as px\n",
    "import matplotlib.colors as mcolors\n",
    "\n",
    "\n",
    "#define function\n",
    "# Function to process a single CSV file and retrieve Q codes\n",
    "def process_csv_file(input_file, output_folder):\n",
    "    # Read the original CSV file containing the species names\n",
    "    df_species = pd.read_csv(input_file)\n",
    "    \n",
    "    # Define the Wikidata Query Service endpoint URL\n",
    "    endpoint_url = \"https://query.wikidata.org/sparql\"\n",
    "    \n",
    "    # Initialize an empty list to store the Q codes\n",
    "    q_codes = []\n",
    "    \n",
    "    # Initialize a placeholder value for cases where no Q code is found\n",
    "    placeholder_value = \"Not Found\"\n",
    "    \n",
    "    # Define the number of requests allowed per minute (adjust according to Wikidata's rate limits)\n",
    "    requests_per_minute = 30\n",
    "    \n",
    "    # Iterate through the species names in the CSV file\n",
    "    for index, row in df_species.iterrows():\n",
    "        species_name = row[species_header]\n",
    "    \n",
    "        # Check if the species_name is a valid string\n",
    "        if isinstance(species_name, str):\n",
    "            # Query Wikidata to retrieve the corresponding Q code for the species\n",
    "            sparql_query = f\"\"\"\n",
    "            SELECT ?species ?speciesLabel WHERE {{\n",
    "                \n",
    "                ?species rdfs:label \"{species_name}\"@en.\n",
    "                SERVICE wikibase:label {{ bd:serviceParam wikibase:language \"[AUTO_LANGUAGE],en\". }}\n",
    "            }}\n",
    "            \"\"\"\n",
    "    \n",
    "            response = requests.get(endpoint_url, headers={'Accept': 'text/csv'}, params={'query': sparql_query})\n",
    "    \n",
    "            if response.status_code == 200:\n",
    "                csv_data = response.text\n",
    "                df_qcode = pd.read_csv(StringIO(csv_data))\n",
    "    \n",
    "                if not df_qcode.empty:\n",
    "                    q_code = df_qcode['species'].values[0]  # Extract the Q code\n",
    "                    q_codes.append(q_code)  # Append the Q code to the list\n",
    "                    print(f\"Retrieved Q code {q_code} for species: {species_name}\")\n",
    "                else:\n",
    "                    q_codes.append(placeholder_value)  # Add a placeholder value\n",
    "                    print(f\"No Q code found for species: {species_name}\")\n",
    "            else:\n",
    "                q_codes.append(placeholder_value)  # Add a placeholder value for failed requests\n",
    "                print(f\"Failed to retrieve Q code for species: {species_name}. Status code: {response.status_code}\")\n",
    "    \n",
    "            # Implement rate limiting by waiting between requests\n",
    "            time.sleep(60 / requests_per_minute)  # Wait for one minute divided by the allowed requests per minute\n",
    "        else:\n",
    "            q_codes.append(placeholder_value)  # Add a placeholder value for invalid species names\n",
    "    \n",
    "    # Add the Q codes hyperlinks to the original CSV with a new column\n",
    "    df_species['wikidata_Qcode_hyperlink'] = q_codes\n",
    "    \n",
    "    # Add the Q codes only to the original CSV with a new column\n",
    "    df_species['wikidata_Qcode'] = df_species['wikidata_Qcode_hyperlink'].str.rsplit('/', n=1).str[-1]\n",
    "    \n",
    "    # Save the updated CSV file with Q codes in the output folder\n",
    "    output_csv_filename = os.path.join(output_folder, os.path.basename(input_file))\n",
    "    df_species.to_csv(output_csv_filename, index=False)\n",
    "    print(f\"Saved updated CSV with Q codes to {output_csv_filename}\")\n",
    "    \n",
    "def fetch_species_from_qcode(qcode):\n",
    "    \"\"\"\n",
    "    Fetches all species under a given genus using the Wikidata SPARQL endpoint.\n",
    "\n",
    "    Parameters:\n",
    "    genus_qcode (str): The Wikidata Q-code for the genus.\n",
    "\n",
    "    Returns:\n",
    "    pd.DataFrame: A DataFrame containing the species and their corresponding Q-codes.\n",
    "    \"\"\"\n",
    "\n",
    "    # SPARQL query to fetch species under a given genus\n",
    "    query = \"\"\"\n",
    "    SELECT ?species ?speciesLabel WHERE {\n",
    "      ?species wdt:P171* wd:%s .\n",
    "      ?species wdt:P105 wd:Q7432.\n",
    "      SERVICE wikibase:label { bd:serviceParam wikibase:language \"[AUTO_LANGUAGE],en\". }\n",
    "    }\n",
    "    \"\"\" % qcode\n",
    "\n",
    "    # URL for the Wikidata SPARQL endpoint\n",
    "    url = \"https://query.wikidata.org/sparql\"\n",
    "\n",
    "    # Request headers\n",
    "    headers = {\n",
    "        \"User-Agent\": \"Wikidata Species Fetcher/0.1 (https://www.wikidata.org/wiki/Wikidata:Data_access)\"\n",
    "    }\n",
    "\n",
    "    # Perform the request\n",
    "    response = requests.get(url, headers=headers, params={'query': query, 'format': 'json'})\n",
    "\n",
    "    if response.status_code != 200:\n",
    "        raise Exception(\"Failed to fetch data: HTTP status code {}\".format(response.status_code))\n",
    "\n",
    "    # Parse the JSON response\n",
    "    data = response.json()\n",
    "\n",
    "    # Extract results\n",
    "    species = []\n",
    "    for item in data['results']['bindings']:\n",
    "        species.append({\n",
    "            'wikidata_Qcode_species': item['species']['value'].split('/')[-1],\n",
    "            'Species': item['speciesLabel']['value']\n",
    "        })\n",
    "\n",
    "    return pd.DataFrame(species)\n",
    "\n",
    "def recover_LOTUS_data(input_file, output_folder):\n",
    "    # Load the LOTUSDB CSV\n",
    "    lotusdb_df = pd.read_csv(LOTUSDB, low_memory=False)\n",
    "    # Load the CSV file with Q codes\n",
    "    df_species = pd.read_csv(input_file)\n",
    "\n",
    "    # Iterate through the Q codes in the species CSV\n",
    "    for q_code in df_species['wikidata_Qcode']:  # Ensure this column name matches your species CSV\n",
    "        # Skip processing if Q code is 'Not Found'\n",
    "        if q_code == 'Not Found':\n",
    "            continue\n",
    "\n",
    "        # Filter LOTUSDB data for the current Q code\n",
    "        filtered_lotusdb = lotusdb_df[lotusdb_df['wikidata_Qcode'] == q_code]  # Ensure this column name matches your LOTUSDB CSV\n",
    "\n",
    "        # Group and aggregate the data\n",
    "        grouped_df = filtered_lotusdb.groupby(\"structure_inchikey\").agg({\n",
    "            # Add all the aggregation rules here\n",
    "            # Example:\n",
    "            \"structure_wikidata\": \"first\",\n",
    "            \"structure_inchi\": \"first\",\n",
    "            \"structure_smiles\": \"first\",\n",
    "            \"structure_molecular_formula\": \"first\",\n",
    "            \"structure_exact_mass\": \"first\",\n",
    "            \"structure_xlogp\": \"first\",\n",
    "            \"structure_smiles_2D\": \"first\",\n",
    "            \"structure_cid\": \"first\",\n",
    "            \"structure_nameIupac\": \"first\",\n",
    "            \"structure_nameTraditional\": \"first\",\n",
    "            \"structure_taxonomy_npclassifier_01pathway\": \"first\",\n",
    "            \"structure_taxonomy_npclassifier_02superclass\": \"first\",\n",
    "            \"structure_taxonomy_npclassifier_03class\": \"first\",\n",
    "            \"organism_wikidata\": \"first\",\n",
    "            \"organism_taxonomy_gbifid\": \"first\",\n",
    "            \"organism_taxonomy_ncbiid\": \"first\",\n",
    "            \"organism_taxonomy_ottid\": \"first\",\n",
    "            \"organism_taxonomy_01domain\": \"first\",\n",
    "            \"organism_taxonomy_02kingdom\": \"first\",\n",
    "            \"organism_taxonomy_03phylum\": \"first\",\n",
    "            \"organism_taxonomy_04class\": \"first\",\n",
    "            \"organism_taxonomy_05order\": \"first\",\n",
    "            \"organism_taxonomy_06family\": \"first\",\n",
    "            \"organism_taxonomy_07tribe\": \"first\",\n",
    "            \"organism_taxonomy_08genus\": \"first\",\n",
    "            \"organism_taxonomy_09species\": \"first\",\n",
    "            \"organism_taxonomy_10varietas\": \"first\",\n",
    "            \"reference_wikidata\": lambda x: \"|\".join(map(str, x)),\n",
    "            \"reference_doi\": lambda x: \"|\".join(map(str, x))\n",
    "        }).reset_index()\n",
    "        \n",
    "        # Create 'chemical_superclass' and 'chemical_class' columns\n",
    "        grouped_df['chemical_superclass'] = grouped_df['structure_taxonomy_npclassifier_01pathway'] + '-' + grouped_df['structure_taxonomy_npclassifier_02superclass']\n",
    "        grouped_df['chemical_class'] = grouped_df['structure_taxonomy_npclassifier_01pathway'] + '-' + grouped_df['structure_taxonomy_npclassifier_03class']\n",
    "        \n",
    "        # Save the grouped data as a TSV file with the Q code as the filename\n",
    "        #output_subfolder = os.path.join(output_folder, 'species_data')\n",
    "        #os.makedirs(output_subfolder, exist_ok=True)\n",
    "\n",
    "        output_filename = os.path.join(output_folder, f\"{q_code}.tsv\")\n",
    "        grouped_df.to_csv(output_filename, index=False, sep='\\t')\n",
    "\n",
    "        print(f\"Saved grouped data for Q code {q_code} to {output_filename}\")\n",
    "   \n",
    "\n",
    "def process_LOTUS_data(output_folder, input_folder, LOTUSDB_rc):\n",
    "    \"\"\"\n",
    "    Process LOTUS data and update a CSV file with combined information.\n",
    "\n",
    "    Parameters:\n",
    "    output_folder (str): Path to the folder containing .tsv files.\n",
    "    input_folder (str): Path to the folder containing input CSV files.\n",
    "    LOTUSDB_rc (str): Path to the LOTUS database CSV file.\n",
    "\n",
    "    Returns:\n",
    "    pandas.DataFrame: Updated DataFrame with combined information.\n",
    "    \"\"\"\n",
    "    # Step 1: Initialize variables to store data\n",
    "    total_compounds = {}\n",
    "    chemical_classes = {}\n",
    "    chemical_superclasses = {}\n",
    "    references = {}\n",
    "    hyperlinks = {}\n",
    "\n",
    "    # Step 2: Iterate through .tsv files in the folder\n",
    "    species_data_folder = os.path.join(output_folder)\n",
    "    for filename in os.listdir(species_data_folder):\n",
    "        if filename.endswith(\".tsv\"):\n",
    "            qcode = filename.split(\".\")[0]  # Extract Qcode from the filename\n",
    "\n",
    "            # Load the .tsv file into a DataFrame\n",
    "            df_compounds = pd.read_csv(os.path.join(species_data_folder, filename), sep='\\t')\n",
    "\n",
    "            # Step 3: Calculate frequencies of chemical classes for each Qcode (excluding 'not classified')\n",
    "            filtered_classes = df_compounds[df_compounds['structure_taxonomy_npclassifier_03class'] != 'Not Classified']\n",
    "            grouped = filtered_classes['structure_taxonomy_npclassifier_03class'].value_counts().reset_index()\n",
    "            frequencies = grouped.apply(lambda row: f\"{row.name} {row['structure_taxonomy_npclassifier_03class']}\", axis=1)\n",
    "            chemical_classes[qcode] = \"|\".join(frequencies)\n",
    "\n",
    "            # Step 4: Calculate frequencies of chemical superclasses for each Qcode (excluding 'not classified')\n",
    "            filtered_sclasses = df_compounds[df_compounds['structure_taxonomy_npclassifier_02superclass'] != 'Not Classified']\n",
    "            sgrouped = filtered_sclasses['structure_taxonomy_npclassifier_02superclass'].value_counts().reset_index()\n",
    "            frequencies = sgrouped.apply(lambda row: f\"{row.name} {row['structure_taxonomy_npclassifier_02superclass']}\", axis=1)\n",
    "            chemical_superclasses[qcode] = \"|\".join(frequencies)\n",
    "\n",
    "\n",
    "    # Step 7: Load the general info .csv into a DataFrame\n",
    "    csv_file = None\n",
    "    for filename in os.listdir(input_folder):\n",
    "        if filename.endswith(\".csv\"):\n",
    "            csv_file = os.path.join(input_folder, filename)\n",
    "            break  # Stop searching after finding the first CSV file\n",
    "\n",
    "    if csv_file is not None:\n",
    "        # Load the CSV file into the df_general_info DataFrame\n",
    "        df_general_info = pd.read_csv(csv_file)\n",
    "\n",
    "        # Step 7: Create new columns for combined information\n",
    "        df_general_info['predicted_class'] = df_general_info['wikidata_Qcode'].map(chemical_classes)\n",
    "        df_general_info['predicted_superclass'] = df_general_info['wikidata_Qcode'].map(chemical_superclasses)\n",
    "\n",
    "        # Step 7: Save the updated DataFrame to the .csv file\n",
    "        output_csv_file = os.path.join(input_folder, 'Full_results.csv')\n",
    "        df_general_info.to_csv(output_csv_file, index=False, sep=',')\n",
    "\n",
    "        # Replace values matching the pattern with an empty cell\n",
    "        df_general_info['predicted_class'] = df_general_info['predicted_class'].replace('index|predicted_class', '')\n",
    "        df_general_info['predicted_superclass'] = df_general_info['predicted_superclass'].replace('index|predicted_superclass', '')\n",
    "\n",
    "        # Add reported compounds to each Q code\n",
    "        LotusDB_rc = pd.read_csv(LOTUSDB_rc)\n",
    "        spDB = LotusDB_rc[['wikidata_Qcode', 'Reported_comp_Species']].drop_duplicates()\n",
    "        df = pd.merge(df_general_info, spDB, how='left', left_on='wikidata_Qcode', right_on='wikidata_Qcode')\n",
    "        df.drop('wikidata_Qcode', axis=1, inplace=True)\n",
    "        # Save the final DataFrame\n",
    "        df.to_csv(output_csv_file, index=False, sep=',')\n",
    "        print(\"CSV file updated in the input folder.\")\n",
    "    \n",
    "    else:\n",
    "        print(\"No CSV file found in the input folder.\")\n",
    "    \n",
    "    return df\n",
    "\n",
    "\n",
    "def interpolate_color(color1, color2, factor: float):\n",
    "    \"\"\"Interpolate between two colors\"\"\"\n",
    "    color1 = np.array(mcolors.to_rgb(color1))\n",
    "    color2 = np.array(mcolors.to_rgb(color2))\n",
    "    return mcolors.to_hex((1 - factor) * color1 + factor * color2)\n",
    "\n",
    "def generate_shades(pathway, num_shades):\n",
    "        \n",
    "    # Define base colors for each Pathway\n",
    "    pathway_shades= {\n",
    "        'Terpenoids': ('#618264', '#D0E7D2'),  # Green start and lighter green end\n",
    "        'Alkaloids': ('#305F72', '#5CBCE2'),   # Blue start and lighter blue end  \n",
    "        'Shikimates and Phenylpropanoids': ('#80558C', '#CBA0AE'),  # Purple start and lighter purple end\n",
    "        'Polyketides': ('#EF4B4B', '#EC8F6A'),  # Red start and lighter purple end\n",
    "        'Fatty acids': ('#FF6C22', '#FF9209'),  # Orange start and lighter purple end\n",
    "        'Amino acids and Peptides': ('#F4E869', '#FAF2D3'),  # Yellow start and lighter purple end\n",
    "        'Carbohydrates': ('#65451F','#C8AE7D')  # Brown start and lighter purple end\n",
    "    }\n",
    "    base_color, end_color = pathway_shades.get(pathway, ('gray', 'lightgray'))\n",
    "    if num_shades == 1:\n",
    "        return [base_color]  # Return the base color if only one shade is requested\n",
    "    shades = []\n",
    "    for i in range(num_shades):\n",
    "        factor = i / (num_shades - 1)\n",
    "        shades.append(interpolate_color(base_color, end_color, factor))\n",
    "    return shades\n",
    "\n",
    "def split_chemical_superclass(row):\n",
    "    # Check if the value is a string before splitting\n",
    "    if isinstance(row['chemical_superclass'], str):\n",
    "        parts = row['chemical_superclass'].split('-')\n",
    "        if len(parts) == 2:\n",
    "            return parts[0], parts[1]  # Pathway and Superclass are present\n",
    "        else:\n",
    "            return parts[0], 'Unknown'  # Only Pathway is present, or the format is not as expected\n",
    "    else:\n",
    "        # Return default values if the entry is NaN or not a string\n",
    "        return 'Unknown', 'Unknown'\n",
    "\n",
    "def barplot_sclass_species(output_folder):\n",
    "    \"\"\"\n",
    "    Process data from .tsv files in the output folder and visualize it with a stacked barplot.\n",
    "\n",
    "    Parameters:\n",
    "    output_folder (str): Path to the folder containing .tsv files.\n",
    "\n",
    "    Returns:\n",
    "    None\n",
    "    \"\"\"\n",
    "    # Step 1: Read data from all .tsv files in the output_folder\n",
    "    all_data = pd.concat([pd.read_csv(os.path.join(output_folder, filename), sep='\\t') \n",
    "                          for filename in os.listdir(output_folder) if filename.endswith(\".tsv\")])\n",
    "\n",
    "    # Step 2: Rename the \"organism_taxonomy_09species\" column to \"species\"\n",
    "    all_data.rename(columns={'organism_taxonomy_09species': 'species'}, inplace=True)\n",
    "\n",
    "    # Remove 'API Error-API Error' and 'Not Classified-Not Classified'\n",
    "    all_data = all_data[~all_data['chemical_superclass'].isin(['API Error-API Error', 'Not Classified-Not Classified'])]\n",
    "\n",
    "    # Step 3: Apply the function to each row\n",
    "    all_data[['Pathway', 'superclass']] = all_data.apply(lambda row: split_chemical_superclass(row), axis=1, result_type='expand')\n",
    "\n",
    "    # Step 4: Process data for color mapping\n",
    "    color_map = {}\n",
    "    for pathway, superclasses in all_data.groupby('Pathway')['superclass'].unique().items():\n",
    "        shades = generate_shades(pathway, len(superclasses))\n",
    "        for superclass, shade in zip(superclasses, shades):\n",
    "            color_map[f\"{pathway}-{superclass}\"] = shade\n",
    "\n",
    "    # Step 5: Group and aggregate data to calculate recurrence\n",
    "    agg_data = all_data.groupby(['species', 'chemical_superclass']).size().reset_index(name='recurrence')\n",
    "\n",
    "    # Convert 'species' column to categorical data\n",
    "    agg_data['species'] = pd.Categorical(agg_data['species'], categories=agg_data['species'].unique(), ordered=True)\n",
    "\n",
    "    # Get unique species names\n",
    "    unique_species = agg_data['species'].unique()\n",
    "\n",
    "    # Get unique chemical superclasses and sort them alphabetically\n",
    "    unique_superclasses = sorted(agg_data['chemical_superclass'].unique())\n",
    "\n",
    "    # Calculate total recurrence for each species\n",
    "    total_recurrence_per_species = agg_data.groupby('species')['recurrence'].sum()\n",
    "\n",
    "    # Create the stacked barplot with the custom color palette\n",
    "    fig = px.bar(agg_data, y='species', x='recurrence',\n",
    "                 title='Stacked Barplot of Predicted Superclasses Occurrence for Species',\n",
    "                 labels={'recurrence': 'Recurrence'},\n",
    "                 color='chemical_superclass',\n",
    "                 color_discrete_map=color_map,\n",
    "                 category_orders={'species': unique_species, 'chemical_superclass': unique_superclasses},\n",
    "                 orientation='h')\n",
    "\n",
    "    # Modify the y-axis label\n",
    "    fig.update_yaxes(title_text='<i>Species<i>')\n",
    "\n",
    "    # Set species labels in italics\n",
    "    fig.update_layout(yaxis=dict(tickmode='array',\n",
    "                                  tickvals=list(range(len(unique_species))),\n",
    "                                  ticktext=[f'<i>{species}</i>' for species in unique_species]\n",
    "                                  ))\n",
    "\n",
    "    # Set a white background\n",
    "    fig.update_layout(plot_bgcolor='white')\n",
    "\n",
    "    # Modify the size of the figure\n",
    "    fig.update_layout(width=1500, height=1500)\n",
    "\n",
    "    # Save the figure as an HTML file\n",
    "    fig.write_html(f'{output_folder}Wikidata_superclass_barplot_species.html')\n",
    "\n",
    "    # Show the figure\n",
    "    fig.show()\n",
    "\n",
    "\n",
    "def barplot_sclass_species_normalized(output_folder):\n",
    "    \"\"\"\n",
    "    Process data from .tsv files in the output folder and visualize it with a normalized stacked barplot.\n",
    "\n",
    "    Parameters:\n",
    "    output_folder (str): Path to the folder containing .tsv files.\n",
    "\n",
    "    Returns:\n",
    "    None\n",
    "    \"\"\"\n",
    "    # Step 1: Read data from all .tsv files in the output_folder\n",
    "    all_data = pd.concat([pd.read_csv(os.path.join(output_folder, filename), sep='\\t') \n",
    "                          for filename in os.listdir(output_folder) if filename.endswith(\".tsv\")])\n",
    "\n",
    "    # Step 2: Rename the \"organism_taxonomy_09species\" column to \"species\"\n",
    "    all_data.rename(columns={'organism_taxonomy_09species': 'species'}, inplace=True)\n",
    "\n",
    "    # Remove 'API Error-API Error' and 'Not Classified-Not Classified'\n",
    "    all_data = all_data[~all_data['chemical_superclass'].isin(['API Error-API Error', 'Not Classified-Not Classified'])]\n",
    "\n",
    "    # Apply the function to each row\n",
    "    all_data[['Pathway', 'superclass']] = all_data.apply(lambda row: split_chemical_superclass(row), axis=1, result_type='expand')\n",
    "\n",
    "    # Step 4: Process data for color mapping\n",
    "    color_map = {}\n",
    "    for pathway, superclasses in all_data.groupby('Pathway')['superclass'].unique().items():\n",
    "        shades = generate_shades(pathway, len(superclasses))\n",
    "        for superclass, shade in zip(superclasses, shades):\n",
    "            color_map[f\"{pathway}-{superclass}\"] = shade\n",
    "\n",
    "    # Step 5: Group and aggregate data to calculate recurrence\n",
    "    agg_data = all_data.groupby(['species', 'chemical_superclass']).size().reset_index(name='recurrence')\n",
    "\n",
    "    # Normalize the recurrence values within each species group\n",
    "    agg_data['recurrence_normalized'] = agg_data.groupby('species')['recurrence'].transform(lambda x: x / x.sum()) * 100\n",
    "\n",
    "    # Convert 'species' column to categorical data\n",
    "    agg_data['species'] = pd.Categorical(agg_data['species'], categories=agg_data['species'].unique(), ordered=True)\n",
    "\n",
    "    # Get unique species names\n",
    "    unique_species = agg_data['species'].unique()\n",
    "\n",
    "    # Get unique chemical superclasses and sort them alphabetically\n",
    "    unique_superclasses = sorted(agg_data['chemical_superclass'].unique())\n",
    "\n",
    "    # Calculate total recurrence for each species\n",
    "    total_recurrence_per_species = agg_data.groupby('species')['recurrence'].sum()\n",
    "\n",
    "    # Create the stacked barplot with the custom color palette\n",
    "    fig = px.bar(agg_data, y='species', x='recurrence_normalized',\n",
    "                 title='Normalized Stacked Barplot of Predicted Superclasses Occurrence for Species',\n",
    "                 labels={'recurrence_normalized': 'Recurrence'},\n",
    "                 color='chemical_superclass',\n",
    "                 color_discrete_map=color_map,\n",
    "                 category_orders={'species': unique_species, 'chemical_superclass': unique_superclasses},\n",
    "                 orientation='h')\n",
    "\n",
    "    # Modify the y-axis label\n",
    "    fig.update_yaxes(title_text='<i>Species<i>')\n",
    "\n",
    "    # Set species labels in italics\n",
    "    fig.update_layout(yaxis=dict(tickmode='array',\n",
    "                                  tickvals=list(range(len(unique_species))),\n",
    "                                  ticktext=[f'<i>{species}</i>' for species in unique_species]\n",
    "                                  ))\n",
    "\n",
    "    # Set a white background\n",
    "    fig.update_layout(plot_bgcolor='white')\n",
    "\n",
    "    # Get the maximum value of the x-axis\n",
    "    max_x = agg_data['recurrence_normalized'].max()\n",
    "\n",
    "    for species, total_recurrence in total_recurrence_per_species.items():\n",
    "        # Find the maximum recurrence for this species\n",
    "        max_recurrence = agg_data[agg_data['species'] == species]['recurrence_normalized'].max()\n",
    "\n",
    "        # Position the annotation at the end of the bar with a slight offset\n",
    "        x_position = max_x + 2\n",
    "        if x_position > 100:  # Ensure the label is not outside the plot area\n",
    "            x_position = 100  # Set it to 100 if it exceeds the maximum x-axis value\n",
    "\n",
    "        # Add annotation to the plot\n",
    "        fig.add_annotation(\n",
    "            x=x_position,\n",
    "            y=species,\n",
    "            text=f'Total compounds: {total_recurrence}',\n",
    "            showarrow=False,\n",
    "            font=dict(size=10, color='black'),\n",
    "            xanchor='left',\n",
    "            yanchor='middle'\n",
    "        )\n",
    "\n",
    "    # Modify the size of the figure\n",
    "    fig.update_layout(width=1500, height=1500)\n",
    "\n",
    "    # Save the figure as an HTML file\n",
    "    fig.write_html(f'{output_folder}Wikidata_superclass_barplot_species_normalized.html')\n",
    "\n",
    "    # Show the figure\n",
    "    fig.show()\n",
    "\n",
    "\n",
    "def barplot_pathway_species(output_folder):\n",
    "    \"\"\"\n",
    "    Process data from .tsv files in the output folder and visualize it with a stacked barplot.\n",
    "\n",
    "    Parameters:\n",
    "    output_folder (str): Path to the folder containing .tsv files.\n",
    "\n",
    "    Returns:\n",
    "    None\n",
    "    \"\"\"\n",
    "    # Define custom colors for the 7 pathway categories\n",
    "    pathway_colors = {\n",
    "        'Terpenoids': '#618264',  # Green start and lighter green end\n",
    "        'Alkaloids': '#305F72',   # Blue start and lighter blue end\n",
    "        'Shikimates and Phenylpropanoids': '#80558C',  # Purple start and lighter purple end\n",
    "        'Polyketides': '#EF4B4B',  # Red start and lighter purple end\n",
    "        'Fatty acids': '#FF6C22',  # Orange start and lighter purple end\n",
    "        'Amino acids and Peptides': '#F4E869',  # Yellow start and lighter purple end\n",
    "        'Carbohydrates': '#65451F' # Brown start and lighter purple end\n",
    "    }\n",
    "\n",
    "    # Step 1: Initialize an empty DataFrame to store all data\n",
    "    all_data = pd.DataFrame(columns=['organism_taxonomy_09species', 'structure_taxonomy_npclassifier_01pathway'])\n",
    "\n",
    "    # Step 2: Read data from all .tsv files in the output_folder\n",
    "    species_data_folder = os.path.join(output_folder)\n",
    "    for filename in os.listdir(species_data_folder):\n",
    "        if filename.endswith(\".tsv\"):\n",
    "            file_data = pd.read_csv(os.path.join(species_data_folder, filename), sep='\\t')\n",
    "            all_data = pd.concat([all_data, file_data])\n",
    "\n",
    "    # Step 3: Rename the \"queried_taxaLabel\" column to \"species\"\n",
    "    all_data.rename(columns={'organism_taxonomy_09species': 'species'}, inplace=True)\n",
    "    all_data.rename(columns={'structure_taxonomy_npclassifier_01pathway': 'Pathway'}, inplace=True)\n",
    "\n",
    "    # Remove 'API Error-API Error' and 'Not Classified-Not Classified'\n",
    "    all_data = all_data[(all_data['Pathway'] != 'API Error') & (all_data['Pathway'] != 'Not Classified')]\n",
    "\n",
    "    # Step 4: Group and aggregate data to calculate recurrence\n",
    "    agg_data = all_data.groupby(['species', 'Pathway']).size().reset_index(name='recurrence')\n",
    "\n",
    "    # Convert 'species' column to categorical data\n",
    "    agg_data['species'] = pd.Categorical(agg_data['species'], categories=agg_data['species'].unique(), ordered=True)\n",
    "\n",
    "    # Get unique species names\n",
    "    unique_species = agg_data['species'].unique()\n",
    "\n",
    "    # Get unique pathways and sort them alphabetically\n",
    "    unique_pathways = sorted(agg_data['Pathway'].unique())\n",
    "\n",
    "    # Calculate total recurrence for each species\n",
    "    total_recurrence_per_species = agg_data.groupby('species')['recurrence'].sum()\n",
    "\n",
    "\n",
    "    # Step 5: Create the stacked barplot with custom colors\n",
    "    fig = px.bar(agg_data, y='species', x='recurrence',\n",
    "                title='Stacked Barplot of Predicted Pathways Ocurrence for Species',\n",
    "                labels={'recurrence': 'Recurrence'},\n",
    "                color='Pathway',\n",
    "                color_discrete_map=pathway_colors,  # Use custom colors\n",
    "                category_orders={'species': unique_species, 'Pathway' :unique_pathways },\n",
    "                orientation='h'\n",
    "                )\n",
    "\n",
    "    # Modify the y-axis label\n",
    "    fig.update_yaxes(title_text='<i>Species<i>')\n",
    "\n",
    "    # Set species labels in italics\n",
    "    fig.update_layout(yaxis=dict(tickmode='array', \n",
    "                                tickvals=list(range(len(unique_species))), \n",
    "                                ticktext=[f'<i>{species}</i>' for species in unique_species]\n",
    "                                ))\n",
    "\n",
    "    # Set a white background\n",
    "    fig.update_layout(plot_bgcolor='white')\n",
    "\n",
    "    # Modify the size of the figure\n",
    "    fig.update_layout(width=1500, height=1500)\n",
    "\n",
    "    # Save the figure as an HTML file\n",
    "    fig.write_html(f'{output_folder}Wikidata_pathway_barplot_species.html')\n",
    "\n",
    "    # Show or save the figure\n",
    "    fig.show()\n",
    "\n",
    "def barplot_pathway_species_normalized(output_folder):\n",
    "    \"\"\"\n",
    "    Process data from .tsv files in the output folder and visualize it with a normalized stacked barplot.\n",
    "\n",
    "    Parameters:\n",
    "    output_folder (str): Path to the folder containing .tsv files.\n",
    "\n",
    "    Returns:\n",
    "    None\n",
    "    \"\"\"\n",
    "    # Define custom colors for the 7 pathway categories\n",
    "    pathway_colors = {\n",
    "        'Terpenoids': '#618264',  # Green start and lighter green end\n",
    "        'Alkaloids': '#305F72',   # Blue start and lighter blue end\n",
    "        'Shikimates and Phenylpropanoids': '#80558C',  # Purple start and lighter purple end\n",
    "        'Polyketides': '#EF4B4B',  # Red start and lighter purple end\n",
    "        'Fatty acids': '#FF6C22',  # Orange start and lighter purple end\n",
    "        'Amino acids and Peptides': '#F4E869',  # Yellow start and lighter purple end\n",
    "        'Carbohydrates': '#65451F' # Brown start and lighter purple end\n",
    "    } \n",
    "    # Step 1: Initialize an empty DataFrame to store all data\n",
    "    all_data = pd.DataFrame(columns=['organism_taxonomy_09species', 'structure_taxonomy_npclassifier_01pathway'])\n",
    "\n",
    "    # Step 2: Read data from all .tsv files in the output_folder\n",
    "    species_data_folder = os.path.join(output_folder)\n",
    "    for filename in os.listdir(species_data_folder):\n",
    "        if filename.endswith(\".tsv\"):\n",
    "            file_data = pd.read_csv(os.path.join(species_data_folder, filename), sep='\\t')\n",
    "            all_data = pd.concat([all_data, file_data])\n",
    "\n",
    "    # Step 3: Rename the \"queried_taxaLabel\" column to \"species\"\n",
    "    all_data.rename(columns={'organism_taxonomy_09species': 'species'}, inplace=True)\n",
    "    all_data.rename(columns={'structure_taxonomy_npclassifier_01pathway': 'Pathway'}, inplace=True)\n",
    "\n",
    "    # Remove 'API Error-API Error' and 'Not Classified-Not Classified'\n",
    "    all_data = all_data[(all_data['Pathway'] != 'API Error') & (all_data['Pathway'] != 'Not Classified')]\n",
    "\n",
    "    # Step 4: Group and aggregate data to calculate recurrence\n",
    "    agg_data = all_data.groupby(['species', 'Pathway']).size().reset_index(name='recurrence')\n",
    "\n",
    "    # Normalize the recurrence values within each species group\n",
    "    agg_data['recurrence_normalized'] = agg_data.groupby('species')['recurrence'].transform(lambda x: x / x.sum())*100\n",
    "\n",
    "    # Convert 'species' column to categorical data\n",
    "    agg_data['species'] = pd.Categorical(agg_data['species'], categories=agg_data['species'].unique(), ordered=True)\n",
    "\n",
    "    # Get unique species names\n",
    "    unique_species = agg_data['species'].unique()\n",
    "\n",
    "    # Get unique pathways and sort them alphabetically\n",
    "    unique_pathways = sorted(agg_data['Pathway'].unique())\n",
    "\n",
    "    # Calculate total recurrence for each species\n",
    "    total_recurrence_per_species = agg_data.groupby('species')['recurrence'].sum()\n",
    "\n",
    "\n",
    "    # Step 5: Create the stacked barplot with custom colors\n",
    "    fig = px.bar(agg_data, y='species', x='recurrence_normalized',\n",
    "                title='Normalized Stacked Barplot of Predicted Pathways Ocurrence for Species',\n",
    "                labels={'recurrence_normalized': 'Recurrence'},\n",
    "                color='Pathway',\n",
    "                color_discrete_map=pathway_colors,  # Use custom colors\n",
    "                category_orders={'species': unique_species, 'Pathway' :unique_pathways },\n",
    "                orientation='h'\n",
    "                )\n",
    "\n",
    "    # Modify the y-axis label\n",
    "    fig.update_yaxes(title_text='<i>Species<i>')\n",
    "\n",
    "    # Set species labels in italics\n",
    "    fig.update_layout(yaxis=dict(tickmode='array', \n",
    "                                tickvals=list(range(len(unique_species))), \n",
    "                                ticktext=[f'<i>{species}</i>' for species in unique_species]\n",
    "                                ))\n",
    "    # Get the maximum value of the x-axis\n",
    "    max_x = agg_data['recurrence_normalized'].max()\n",
    "\n",
    "    for species, total_recurrence in total_recurrence_per_species.items():\n",
    "        # Find the maximum recurrence for this species\n",
    "        max_recurrence = agg_data[agg_data['species'] == species]['recurrence_normalized'].max()\n",
    "        \n",
    "        # Position the annotation at the end of the bar with a slight offset\n",
    "        x_position = max_x + 2\n",
    "        if x_position > 100:  # Ensure the label is not outside the plot area\n",
    "            x_position = 100  # Set it to 100 if it exceeds the maximum x-axis value\n",
    "\n",
    "        # Add annotation to the plot\n",
    "        fig.add_annotation(\n",
    "            x=x_position,\n",
    "            y=species,\n",
    "            text=f'Total compounds: {total_recurrence}',\n",
    "            showarrow=False,\n",
    "            font=dict(size=10, color='black'),\n",
    "            xanchor='left',\n",
    "            yanchor='middle'\n",
    "        )\n",
    "        \n",
    "    # Set a white background\n",
    "    fig.update_layout(plot_bgcolor='white')\n",
    "\n",
    "    # Modify the size of the figure\n",
    "    fig.update_layout(width=1500, height=1500)\n",
    "\n",
    "    # Save the figure as an HTML file\n",
    "    fig.write_html(f'{output_folder}Wikidata_pathway_barplot_normalized.html')\n",
    "\n",
    "    # Show or save the figure\n",
    "    fig.show()\n",
    "\n",
    "def heatmap_pathway_species(output_folder):\n",
    "    \"\"\"\n",
    "    Process data from .tsv files in the output folder and visualize it with a normalized stacked barplot.\n",
    "\n",
    "    Parameters:\n",
    "    output_folder (str): Path to the folder containing .tsv files.\n",
    "\n",
    "    Returns:\n",
    "    None\n",
    "    \"\"\"\n",
    "    # Step 1: Initialize an empty DataFrame to store all data\n",
    "    all_data = pd.DataFrame(columns=['organism_taxonomy_09species', 'structure_taxonomy_npclassifier_01pathway'])\n",
    "\n",
    "    # Step 2: Read data from all .tsv files in the output_folder\n",
    "    species_data_folder = os.path.join(output_folder)\n",
    "    for filename in os.listdir(species_data_folder):\n",
    "        if filename.endswith(\".tsv\"):\n",
    "            file_data = pd.read_csv(os.path.join(species_data_folder, filename), sep='\\t')\n",
    "            all_data = pd.concat([all_data, file_data])\n",
    "\n",
    "    # Step 3: Rename the \"queried_taxaLabel\" column to \"species\"\n",
    "    all_data.rename(columns={'organism_taxonomy_09species': 'species'}, inplace=True)\n",
    "    all_data.rename(columns={'structure_taxonomy_npclassifier_01pathway': 'Pathway'}, inplace=True)\n",
    "\n",
    "    # Remove 'API Error-API Error' and 'Not Classified-Not Classified'\n",
    "    all_data = all_data[(all_data['Pathway'] != 'API Error') & (all_data['Pathway'] != 'Not Classified')]\n",
    "\n",
    "    # Step 4: Group and aggregate data to calculate recurrence\n",
    "    agg_data = all_data.groupby(['species', 'Pathway']).size().reset_index(name='recurrence')\n",
    "\n",
    "    # Normalize the recurrence values within each species group\n",
    "    agg_data['recurrence_normalized'] = agg_data.groupby('species')['recurrence'].transform(lambda x: x / x.sum())*100\n",
    "\n",
    "    # Convert 'species' column to categorical data\n",
    "    agg_data['species'] = pd.Categorical(agg_data['species'], categories=agg_data['species'].unique(), ordered=True)\n",
    "\n",
    "    \n",
    "    # Create a DataFrame with all possible combinations of species and pathways\n",
    "    all_species = all_data['species'].unique()\n",
    "    all_pathways = all_data['Pathway'].unique()\n",
    "    all_combinations = pd.DataFrame([(species, pathway) for species in all_species for pathway in all_pathways],\n",
    "                                    columns=['species', 'Pathway'])\n",
    "\n",
    "    # Merge the all_combinations DataFrame with the aggregated data to include all species\n",
    "    merged_data = pd.merge(all_combinations, agg_data, on=['species', 'Pathway'], how='left')\n",
    "\n",
    "    # Fill missing values (NaN) with 0 for recurrence and recurrence_normalized columns\n",
    "    merged_data['recurrence'].fillna(0, inplace=True)\n",
    "    merged_data['recurrence_normalized'].fillna(0, inplace=True)\n",
    "\n",
    "    # Pivot the merged data to have 'species' as rows and 'Pathway' as columns\n",
    "    pivot_data = merged_data.pivot_table(index='species', columns='Pathway', values='recurrence_normalized', fill_value=0)\n",
    "\n",
    "    # Create the heatmap\n",
    "    fig = px.imshow(pivot_data,\n",
    "                    labels=dict(x=\"Pathway\", y=\"Species\", color=\"Normalized Recurrence\"),\n",
    "                    x=pivot_data.columns,\n",
    "                    y=pivot_data.index,\n",
    "                    color_continuous_scale='tealrose',  # You can choose any other color scale\n",
    "                    title='Heatmap of Normalized Recurrence of Pathways for Species')\n",
    "\n",
    "    # Modify the y-axis label\n",
    "    fig.update_yaxes(title_text='<i>Species<i>')\n",
    "\n",
    "    # Set species labels in italics\n",
    "    fig.update_layout(yaxis=dict(tickmode='array', \n",
    "                                tickvals=list(range(len(unique_species))), \n",
    "                                ticktext=[f'<i>{species}</i>' for species in unique_species]\n",
    "                                ))\n",
    "    # Modify the size of the figure\n",
    "    fig.update_layout(width=1500, height=1500)\n",
    "\n",
    "    # Save the figure as an HTML file\n",
    "    fig.write_html(f'{output_folder}Wikidata_pathway_heatmap_species_normalized.html')\n",
    "\n",
    "    # Show the figure\n",
    "    fig.show()\n",
    "\n"
   ]
  },
  {
   "cell_type": "markdown",
   "metadata": {},
   "source": [
    "Befor runing this code: \n",
    "1) create a .csv file containing a 'species_header' like 'species', 'names', etc. this column should contain the name of the species (or genuses by default) resolved by Open Tree of Life.\n",
    "2) creta an empty folder (input_folder) and put the .csv file inside! \n",
    "\n",
    "That's all"
   ]
  },
  {
   "cell_type": "markdown",
   "metadata": {},
   "source": [
    "DEFINE THE FOLLOWING PARAMETERS"
   ]
  },
  {
   "cell_type": "code",
   "execution_count": 3,
   "metadata": {},
   "outputs": [],
   "source": [
    "#Paths\n",
    "# Input folder containing CSV files\n",
    "input_folder = 'C:/Users/quirosgu/Desktop/Inmuno/' #'/home/quirosgu/Desktop/FARMA-SHARE/RECHERCHE/FASIE_LAB/LuisQ/Yggdrasil/data_out/genus/'#'C:/Users/quirosgu/Desktop/JLW/genus/'# '/mnt/c/Users/quirosgu/Desktop/JLW/'\n",
    "\n",
    "species_header = 'query_otol_species'#'ATTRIBUTE_Species' #'full_species'\n",
    "\n",
    "#lotus databases\n",
    "LOTUSDB = 'C:/Users/quirosgu/Documents/Github/Yggdrasil/data_loc/LotusDB_inhouse_metadata.csv'#'/mnt/c/Users/quirosgu/Documents/Github/Yggdrasil/data_loc/LotusDB_inhouse_metadata.csv' #'/home/quirosgu/Desktop/FARMA-SHARE/RECHERCHE/FASIE_LAB/LuisQ/Yggdrasil/data_loc/LotusDB_inhouse_metadata.csv' #'/home/quirosgu/Desktop/FARMA-SHARE/RECHERCHE/FASIE_LAB/LuisQ/Yggdrasil/data_loc/LotusDB_inhouse_metadata.csv' #'C:/Users/quirosgu/Documents/Github/Yggdrasil/data_loc/LotusDB_inhouse_metadata.csv'#'/mnt/c/Users/quirosgu/Documents/Github/Yggdrasil/data_loc/LotusDB_inhouse_metadata.csv' #'/home/quirosgu/Desktop/FARMA-SHARE/RECHERCHE/FASIE_LAB/LuisQ/Yggdrasil/data_loc/LotusDB_inhouse_metadata.csv'\n",
    "LOTUSDB_rc = 'C:/Users/quirosgu/Documents/Github/Yggdrasil/data_loc/LotusDB_inhouse_rc.csv'#'/mnt/c/Users/quirosgu/Documents/Github/Yggdrasil/data_loc/LotusDB_inhouse_rc.csv' #'C:/Users/quirosgu/Documents/Github/Yggdrasil/data_loc/LotusDB_inhouse_rc.csv'#'/mnt/c/Users/quirosgu/Documents/Github/Yggdrasil/data_loc/LotusDB_inhouse_rc.csv' #'/home/quirosgu/Desktop/FARMA-SHARE/RECHERCHE/FASIE_LAB/LuisQ/Yggdrasil/data_loc/LotusDB_inhouse_rc.csv'\n",
    "\n",
    "# Output folder for the processed CSV files\n",
    "output_folder = f'{input_folder}output_data/'\n",
    "\n",
    "# Create the output folder if it doesn't exist\n",
    "if not os.path.exists(output_folder):\n",
    "    os.makedirs(output_folder)"
   ]
  },
  {
   "cell_type": "markdown",
   "metadata": {},
   "source": [
    "FIRST RECOVER THE Q CODES FROM WIKIDATA AND UPDATE THE METADATA FILE"
   ]
  },
  {
   "cell_type": "code",
   "execution_count": 3,
   "metadata": {},
   "outputs": [
    {
     "name": "stdout",
     "output_type": "stream",
     "text": [
      "Retrieved Q code http://www.wikidata.org/entity/Q15287263 for species: Acacia hayesii\n",
      "Retrieved Q code http://www.wikidata.org/entity/Q8186515 for species: Acalypha aristata\n",
      "Retrieved Q code http://www.wikidata.org/entity/Q1882542 for species: Acrocomia aculeata\n",
      "Retrieved Q code http://www.wikidata.org/entity/Q4676527 for species: Acrostichum aureum\n",
      "Retrieved Q code http://www.wikidata.org/entity/Q5657528 for species: Adelia triloba\n",
      "Retrieved Q code http://www.wikidata.org/entity/Q11079071 for species: Aeschynomene americana\n",
      "Retrieved Q code http://www.wikidata.org/entity/Q104912462 for species: Ageratina ixiocladon\n",
      "Retrieved Q code http://www.wikidata.org/entity/Q4692127 for species: Ageratina ligustrina\n",
      "Retrieved Q code http://www.wikidata.org/entity/Q1949712 for species: Ageratum conyzoides\n",
      "Retrieved Q code http://www.wikidata.org/entity/Q159717 for species: Agrostis capillaris\n",
      "Retrieved Q code http://www.wikidata.org/entity/Q15492162 for species: Albizia adinocephala\n",
      "Retrieved Q code http://www.wikidata.org/entity/Q15384605 for species: Alchornea costaricensis\n",
      "Retrieved Q code http://www.wikidata.org/entity/Q15396944 for species: Alibertia edulis\n",
      "Retrieved Q code http://www.wikidata.org/entity/Q15395163 for species: Alseis costaricensis\n",
      "Retrieved Q code http://www.wikidata.org/entity/Q15577068 for species: Amphitecna latifolia\n",
      "Retrieved Q code http://www.wikidata.org/entity/Q15318795 for species: Anthurium clavigerum\n",
      "Retrieved Q code http://www.wikidata.org/entity/Q15320656 for species: Anthurium solitarium\n",
      "Retrieved Q code http://www.wikidata.org/entity/Q4779309 for species: Apeiba tibourbou\n",
      "Retrieved Q code http://www.wikidata.org/entity/Q15598546 for species: Archibaccharis schiedeana\n",
      "Retrieved Q code http://www.wikidata.org/entity/Q15324297 for species: Ardisia opegrapha\n",
      "Retrieved Q code http://www.wikidata.org/entity/Q15464421 for species: Aristolochia leuconeura\n",
      "Retrieved Q code http://www.wikidata.org/entity/Q5702217 for species: Arthraxon hispidus\n",
      "Retrieved Q code http://www.wikidata.org/entity/Q15506735 for species: Arundinella deppeana\n",
      "Retrieved Q code http://www.wikidata.org/entity/Q15396304 for species: Aspidosperma myristicifolium\n",
      "Retrieved Q code http://www.wikidata.org/entity/Q15344491 for species: Avicennia bicolor\n",
      "Retrieved Q code http://www.wikidata.org/entity/Q570551 for species: Avicennia germinans\n",
      "Retrieved Q code http://www.wikidata.org/entity/Q15457484 for species: Bactris bifida\n",
      "Retrieved Q code http://www.wikidata.org/entity/Q15476416 for species: Batocarpus costaricensis\n",
      "Retrieved Q code http://www.wikidata.org/entity/Q15331063 for species: Begonia involucrata\n",
      "Retrieved Q code http://www.wikidata.org/entity/Q15393186 for species: Bellucia pentamera\n",
      "Retrieved Q code http://www.wikidata.org/entity/Q15490685 for species: Besleria columneoides\n",
      "Retrieved Q code http://www.wikidata.org/entity/Q15547718 for species: Billia rosea\n",
      "Retrieved Q code http://www.wikidata.org/entity/Q15588567 for species: Bixa urucurana\n",
      "Retrieved Q code http://www.wikidata.org/entity/Q42746921 for species: Lomariocycas aurata\n",
      "Retrieved Q code http://www.wikidata.org/entity/Q10890773 for species: Spermacoce assurgens\n",
      "Retrieved Q code http://www.wikidata.org/entity/Q5733430 for species: Bravaisia integerrima\n",
      "Retrieved Q code http://www.wikidata.org/entity/Q990886 for species: Brosimum alicastrum\n",
      "Retrieved Q code http://www.wikidata.org/entity/Q15471496 for species: Brosimum costaricanum\n",
      "Retrieved Q code http://www.wikidata.org/entity/Q15387620 for species: Bunchosia nitida\n",
      "Retrieved Q code http://www.wikidata.org/entity/Q21874434 for species: Guilandina bonduc\n",
      "Retrieved Q code http://www.wikidata.org/entity/Q1428973 for species: Caesalpinia pulcherrima\n",
      "Retrieved Q code http://www.wikidata.org/entity/Q92367804 for species: Goeppertia donnell-smithii\n",
      "Retrieved Q code http://www.wikidata.org/entity/Q92368903 for species: Goeppertia gymnocarpa\n",
      "Retrieved Q code http://www.wikidata.org/entity/Q18082984 for species: Calatola costaricensis\n",
      "Retrieved Q code http://www.wikidata.org/entity/Q15348798 for species: Calceolaria irazuensis\n",
      "Retrieved Q code http://www.wikidata.org/entity/Q15554410 for species: Calea urticifolia\n",
      "Retrieved Q code http://www.wikidata.org/entity/Q5741578 for species: Calycophyllum candidissimum\n",
      "Retrieved Q code http://www.wikidata.org/entity/Q1317365 for species: Canavalia rosea\n",
      "Retrieved Q code http://www.wikidata.org/entity/Q15593376 for species: Vasconcellea cauliflora\n",
      "Retrieved Q code http://www.wikidata.org/entity/Q1043450 for species: Carludovica drudei\n",
      "Retrieved Q code http://www.wikidata.org/entity/Q164094 for species: Cassia grandis\n",
      "Retrieved Q code http://www.wikidata.org/entity/Q15348729 for species: Castilleja talamancensis\n",
      "Retrieved Q code http://www.wikidata.org/entity/Q161093 for species: Catharanthus roseus\n",
      "Retrieved Q code http://www.wikidata.org/entity/Q15371226 for species: Cavendishia callista\n",
      "Retrieved Q code http://www.wikidata.org/entity/Q2998776 for species: Cecropia peltata\n",
      "Retrieved Q code http://www.wikidata.org/entity/Q4744662 for species: Celtis iguanaea\n",
      "Retrieved Q code http://www.wikidata.org/entity/Q15604947 for species: Centropogon valerii\n",
      "Retrieved Q code http://www.wikidata.org/entity/Q12488371 for species: Centrosema plumieri\n",
      "Retrieved Q code http://www.wikidata.org/entity/Q15387668 for species: Cespedesia spathulata\n",
      "Retrieved Q code http://www.wikidata.org/entity/Q15526424 for species: Cestrum microcalyx\n",
      "Retrieved Q code http://www.wikidata.org/entity/Q21250345 for species: Cestrum strigilatum\n",
      "Retrieved Q code http://www.wikidata.org/entity/Q15387384 for species: Chaetolepis cufodontisii\n",
      "Retrieved Q code http://www.wikidata.org/entity/Q15232465 for species: Euphorbia hypericifolia\n",
      "Retrieved Q code http://www.wikidata.org/entity/Q49522122 for species: Chionolaena lavandulifolia\n",
      "Retrieved Q code http://www.wikidata.org/entity/Q15399421 for species: Chomelia microloba\n",
      "Retrieved Q code http://www.wikidata.org/entity/Q9191371 for species: Chrysophyllum argenteum\n",
      "Retrieved Q code http://www.wikidata.org/entity/Q15513903 for species: Chusquea subtessellata\n",
      "Retrieved Q code http://www.wikidata.org/entity/Q50839388 for species: Cinnamomum cinnamomifolium\n",
      "Retrieved Q code http://www.wikidata.org/entity/Q15565299 for species: Cissus trianae\n",
      "Retrieved Q code http://www.wikidata.org/entity/Q2714097 for species: Cissus verticillata\n",
      "Retrieved Q code http://www.wikidata.org/entity/Q15471701 for species: Clarisia biflora\n",
      "Retrieved Q code http://www.wikidata.org/entity/Q5771221 for species: Clarisia racemosa\n",
      "Retrieved Q code http://www.wikidata.org/entity/Q15391131 for species: Clethra mexicana\n",
      "Retrieved Q code http://www.wikidata.org/entity/Q15394067 for species: Clidemia ciliata\n",
      "Retrieved Q code http://www.wikidata.org/entity/Q15581202 for species: Cnestidium rufescens\n",
      "Retrieved Q code http://www.wikidata.org/entity/Q2980990 for species: Cnidoscolus urens\n",
      "Retrieved Q code http://www.wikidata.org/entity/Q5141681 for species: Cojoba arborea\n",
      "Retrieved Q code http://www.wikidata.org/entity/Q15536508 for species: Colubrina spinosa\n",
      "Retrieved Q code http://www.wikidata.org/entity/Q15493816 for species: Columnea nicaraguensis\n",
      "Retrieved Q code http://www.wikidata.org/entity/Q15401274 for species: Conostegia setosa\n",
      "Retrieved Q code http://www.wikidata.org/entity/Q15250450 for species: Costus speciosus\n",
      "Retrieved Q code http://www.wikidata.org/entity/Q214542 for species: Crescentia cujete\n",
      "Retrieved Q code http://www.wikidata.org/entity/Q1140089 for species: Crinum erubescens\n",
      "Retrieved Q code http://www.wikidata.org/entity/Q3004011 for species: Croton billbergianus\n",
      "Retrieved Q code http://www.wikidata.org/entity/Q15397864 for species: Cryptostegia madagascariensis\n",
      "Retrieved Q code http://www.wikidata.org/entity/Q15337356 for species: Cuervea kappleriana\n",
      "Retrieved Q code http://www.wikidata.org/entity/Q15547182 for species: Cupania rufescens\n",
      "Retrieved Q code http://www.wikidata.org/entity/Q33913 for species: Cymbopogon citratus\n",
      "Retrieved Q code http://www.wikidata.org/entity/Q5795462 for species: Cynometra hemitomophylla\n",
      "Retrieved Q code http://www.wikidata.org/entity/Q5795507 for species: Cyperus ligularis\n",
      "Retrieved Q code http://www.wikidata.org/entity/Q5208908 for species: Dahlia imperialis\n",
      "Retrieved Q code http://www.wikidata.org/entity/Q15531517 for species: Dalbergia brownei\n",
      "Retrieved Q code http://www.wikidata.org/entity/Q17024682 for species: Danaea nodosa\n",
      "Retrieved Q code http://www.wikidata.org/entity/Q238486 for species: Delonix regia\n",
      "Retrieved Q code http://www.wikidata.org/entity/Q5764728 for species: Desmodium heterocarpon\n",
      "Retrieved Q code http://www.wikidata.org/entity/Q10306429 for species: Dialium guianense\n",
      "Retrieved Q code http://www.wikidata.org/entity/Q15560885 for species: Dichorisandra amabilis\n",
      "Retrieved Q code http://www.wikidata.org/entity/Q15546614 for species: Dicranopygium umbrophilum\n",
      "Retrieved Q code http://www.wikidata.org/entity/Q15339270 for species: Dieffenbachia oerstedii\n",
      "Retrieved Q code http://www.wikidata.org/entity/Q89188901 for species: Piofontia costaricensis\n",
      "Retrieved Q code http://www.wikidata.org/entity/Q17398458 for species: Doliocarpus major\n",
      "Retrieved Q code http://www.wikidata.org/entity/Q15313056 for species: Dracontium soconuscum\n",
      "Retrieved Q code http://www.wikidata.org/entity/Q15500679 for species: Drymonia pilifera\n",
      "Retrieved Q code http://www.wikidata.org/entity/Q15507751 for species: Echinochloa polystachya\n",
      "Retrieved Q code http://www.wikidata.org/entity/Q15586829 for species: Ehretia latifolia\n",
      "Retrieved Q code http://www.wikidata.org/entity/Q690645 for species: Eichhornia crassipes\n",
      "Retrieved Q code http://www.wikidata.org/entity/Q15473365 for species: Entada polystachya\n",
      "Retrieved Q code http://www.wikidata.org/entity/Q135127 for species: Enterolobium cyclocarpum\n",
      "Retrieved Q code http://www.wikidata.org/entity/Q15575790 for species: Eryngium humile\n",
      "Retrieved Q code http://www.wikidata.org/entity/Q5837307 for species: Erythrina berteroana\n",
      "Retrieved Q code http://www.wikidata.org/entity/Q5396455 for species: Erythrochiton gymnanthus\n",
      "Retrieved Q code http://www.wikidata.org/entity/Q15376475 for species: Erythroxylum fimbriatum\n",
      "Retrieved Q code http://www.wikidata.org/entity/Q5397254 for species: Eschweilera longirachis\n",
      "Retrieved Q code http://www.wikidata.org/entity/Q6433663 for species: Eugenia acapulcensis\n",
      "Retrieved Q code http://www.wikidata.org/entity/Q15443900 for species: Faramea occidentalis\n",
      "Retrieved Q code http://www.wikidata.org/entity/Q81748456 for species: Faramea parvibractea\n",
      "Retrieved Q code http://www.wikidata.org/entity/Q275160 for species: Ficus benjamina\n",
      "Retrieved Q code http://www.wikidata.org/entity/Q3585414 for species: Ficus maxima\n",
      "Retrieved Q code http://www.wikidata.org/entity/Q5446654 for species: Ficus yoponensis\n",
      "Retrieved Q code http://www.wikidata.org/entity/Q12175320 for species: Fuchsia splendens\n",
      "Retrieved Q code http://www.wikidata.org/entity/Q1353278 for species: Genipa americana\n",
      "Retrieved Q code http://www.wikidata.org/entity/Q15457271 for species: Geophila repens\n",
      "Retrieved Q code http://www.wikidata.org/entity/Q2717303 for species: Gliricidia sepium\n",
      "Retrieved Q code http://www.wikidata.org/entity/Q15602003 for species: Pseudognaphalium roseum\n",
      "Retrieved Q code http://www.wikidata.org/entity/Q15399631 for species: Bertiera bracteosa\n",
      "Retrieved Q code http://www.wikidata.org/entity/Q17246257 for species: Guapira costaricana\n",
      "Retrieved Q code http://www.wikidata.org/entity/Q15458083 for species: Guettarda macrosperma\n",
      "Retrieved Q code http://www.wikidata.org/entity/Q15459428 for species: Guettarda sanblasensis\n",
      "Retrieved Q code http://www.wikidata.org/entity/Q15341503 for species: Gunnera talamancana\n",
      "Retrieved Q code http://www.wikidata.org/entity/Q15536135 for species: Gurania makoyana\n",
      "Retrieved Q code http://www.wikidata.org/entity/Q15460898 for species: Hamelia xerocarpa\n",
      "Retrieved Q code http://www.wikidata.org/entity/Q15373210 for species: Hampea platanifolia\n",
      "Retrieved Q code http://www.wikidata.org/entity/Q17395072 for species: Hedyosmum bonplandianum\n",
      "Retrieved Q code http://www.wikidata.org/entity/Q15383418 for species: Heisteria concinna\n",
      "Retrieved Q code http://www.wikidata.org/entity/Q1602492 for species: Heliconia imbricata\n",
      "Retrieved Q code http://www.wikidata.org/entity/Q15373239 for species: Herrania purpurea\n",
      "Retrieved Q code http://www.wikidata.org/entity/Q15462028 for species: Hippotis albiflora\n",
      "Retrieved Q code http://www.wikidata.org/entity/Q15393584 for species: Hirtella racemosa\n",
      "Retrieved Q code http://www.wikidata.org/entity/Q158110 for species: Holcus lanatus\n",
      "Retrieved Q code http://www.wikidata.org/entity/Q15392758 for species: Homalium racemosum\n",
      "Retrieved Q code http://www.wikidata.org/entity/Q92422947 for species: Phlegmariurus hippurideus\n",
      "Retrieved Q code http://www.wikidata.org/entity/Q2001703 for species: Hura crepitans\n",
      "Retrieved Q code http://www.wikidata.org/entity/Q10299053 for species: Hymenachne amplexicaulis\n",
      "Retrieved Q code http://www.wikidata.org/entity/Q2234016 for species: Hymenaea courbaril\n",
      "Retrieved Q code http://www.wikidata.org/entity/Q3144082 for species: Hyparrhenia rufa\n",
      "Retrieved Q code http://www.wikidata.org/entity/Q50846819 for species: Mesosphaerum suaveolens\n",
      "Retrieved Q code http://www.wikidata.org/entity/Q15502494 for species: Ichnanthus nemorosus\n",
      "Retrieved Q code http://www.wikidata.org/entity/Q43372103 for species: Hildaea pallens\n",
      "Retrieved Q code http://www.wikidata.org/entity/Q11127145 for species: Indigofera hirsuta\n",
      "Retrieved Q code http://www.wikidata.org/entity/Q1330992 for species: Inga acrocephala\n",
      "Retrieved Q code http://www.wikidata.org/entity/Q162117 for species: Ipomoea nil\n",
      "Retrieved Q code http://www.wikidata.org/entity/Q1672259 for species: Ipomoea setosa\n",
      "Retrieved Q code http://www.wikidata.org/entity/Q15568994 for species: Jamesonia scammaniae\n",
      "Retrieved Q code http://www.wikidata.org/entity/Q3163048 for species: Jatropha gossypiifolia\n",
      "Retrieved Q code http://www.wikidata.org/entity/Q15467921 for species: Joosia umbellifera\n",
      "Retrieved Q code http://www.wikidata.org/entity/Q15288897 for species: Alchemilla pectinata\n",
      "Retrieved Q code http://www.wikidata.org/entity/Q15598153 for species: Laestadia costaricensis\n",
      "Retrieved Q code http://www.wikidata.org/entity/Q1760533 for species: Laguncularia racemosa\n",
      "Retrieved Q code http://www.wikidata.org/entity/Q332469 for species: Lantana camara\n",
      "Retrieved Q code http://www.wikidata.org/entity/Q182448 for species: Lawsonia inermis\n",
      "Retrieved Q code http://www.wikidata.org/entity/Q15337880 for species: Lepechinia schiedeana\n",
      "Retrieved Q code http://www.wikidata.org/entity/Q15613116 for species: Licaria misantlae\n",
      "Retrieved Q code http://www.wikidata.org/entity/Q15432557 for species: Lippia cardiostegia\n",
      "Retrieved Q code http://www.wikidata.org/entity/Q15471009 for species: Lonchocarpus heptaphyllus\n",
      "Retrieved Q code http://www.wikidata.org/entity/Q17551560 for species: Lophanthera hammelii\n",
      "Retrieved Q code http://www.wikidata.org/entity/Q17584503 for species: Bellucia mespiloides\n",
      "Retrieved Q code http://www.wikidata.org/entity/Q15469680 for species: Lupinus costaricensis\n",
      "No Q code found for species: Lycianthes multinervium\n",
      "Retrieved Q code http://www.wikidata.org/entity/Q15357631 for species: Mabea occidentalis\n",
      "Retrieved Q code http://www.wikidata.org/entity/Q15477328 for species: Machaerium biovulatum\n",
      "Retrieved Q code http://www.wikidata.org/entity/Q168042 for species: Maclura tinctoria\n",
      "Retrieved Q code http://www.wikidata.org/entity/Q15531888 for species: Macrolobium costaricense\n",
      "Retrieved Q code http://www.wikidata.org/entity/Q15523112 for species: Maianthemum paludicola\n",
      "Retrieved Q code http://www.wikidata.org/entity/Q15375506 for species: Malvaviscus concinnus\n",
      "Retrieved Q code http://www.wikidata.org/entity/Q15364734 for species: Marila laxiflora\n",
      "Retrieved Q code http://www.wikidata.org/entity/Q55879736 for species: Maytenus woodsonii\n",
      "Retrieved Q code http://www.wikidata.org/entity/Q18112872 for species: Meliosma allenii\n",
      "Retrieved Q code http://www.wikidata.org/entity/Q43373466 for species: Camonea umbellata\n",
      "Retrieved Q code http://www.wikidata.org/entity/Q15393683 for species: Miconia argentea\n",
      "Retrieved Q code http://www.wikidata.org/entity/Q15396943 for species: Miconia ligulata\n",
      "Retrieved Q code http://www.wikidata.org/entity/Q15397711 for species: Miconia trinervia\n",
      "Retrieved Q code http://www.wikidata.org/entity/Q2717688 for species: Mikania micrantha\n",
      "Retrieved Q code http://www.wikidata.org/entity/Q15447942 for species: Mimosa debilis\n",
      "Retrieved Q code http://www.wikidata.org/entity/Q148532 for species: Mimosa pudica\n",
      "Retrieved Q code http://www.wikidata.org/entity/Q234238 for species: Morinda citrifolia\n",
      "No Q code found for species: Myrciaria floribunda\n",
      "Retrieved Q code http://www.wikidata.org/entity/Q150452 for species: Nasturtium officinale\n",
      "Retrieved Q code http://www.wikidata.org/entity/Q144670 for species: Neonicholsonia watsonii\n",
      "Retrieved Q code http://www.wikidata.org/entity/Q15608959 for species: Ocotea atirrensis\n",
      "Retrieved Q code http://www.wikidata.org/entity/Q15478932 for species: Trophis caucana\n",
      "Retrieved Q code http://www.wikidata.org/entity/Q6050389 for species: Olyra latifolia\n",
      "Retrieved Q code http://www.wikidata.org/entity/Q15367938 for species: Omphalea diandra\n",
      "Retrieved Q code http://www.wikidata.org/entity/Q15573034 for species: Onoseris onoseroides\n",
      "Retrieved Q code http://www.wikidata.org/entity/Q15553498 for species: Oreopanax capitatus\n",
      "Retrieved Q code http://www.wikidata.org/entity/Q3887771 for species: Oxalis spiralis\n",
      "Retrieved Q code http://www.wikidata.org/entity/Q15484900 for species: Palicourea guianensis\n",
      "Retrieved Q code http://www.wikidata.org/entity/Q50846435 for species: Megathyrsus maximus\n",
      "Retrieved Q code http://www.wikidata.org/entity/Q2063965 for species: Paullinia pinnata\n",
      "Retrieved Q code http://www.wikidata.org/entity/Q2321967 for species: Pelliciera rhizophorae\n",
      "Retrieved Q code http://www.wikidata.org/entity/Q15488531 for species: Pentagonia tinajita\n",
      "Retrieved Q code http://www.wikidata.org/entity/Q5972602 for species: Legousia pentagonia\n",
      "Retrieved Q code http://www.wikidata.org/entity/Q11815583 for species: Peperomia galioides\n",
      "Retrieved Q code http://www.wikidata.org/entity/Q15606062 for species: Peperomia hernandiifolia\n",
      "Retrieved Q code http://www.wikidata.org/entity/Q1606492 for species: Persea schiedeana\n",
      "Retrieved Q code http://www.wikidata.org/entity/Q15610265 for species: Phenax angustifolius\n",
      "Retrieved Q code http://www.wikidata.org/entity/Q15312826 for species: Philodendron aurantiifolium\n",
      "Retrieved Q code http://www.wikidata.org/entity/Q144322 for species: Phoradendron\n",
      "Retrieved Q code http://www.wikidata.org/entity/Q7188495 for species: Phyllanthus acuminatus\n",
      "Retrieved Q code http://www.wikidata.org/entity/Q12219768 for species: Phytolacca rivinoides\n",
      "Retrieved Q code http://www.wikidata.org/entity/Q17586813 for species: Picramnia latifolia\n",
      "Retrieved Q code http://www.wikidata.org/entity/Q110666042 for species: Piper caudatifolium\n",
      "Retrieved Q code http://www.wikidata.org/entity/Q15601163 for species: Piper garagaranum\n",
      "Retrieved Q code http://www.wikidata.org/entity/Q15603602 for species: Piper multiplinervium\n",
      "Retrieved Q code http://www.wikidata.org/entity/Q15604543 for species: Piper reticulatum\n",
      "Retrieved Q code http://www.wikidata.org/entity/Q15606320 for species: Piper tuberculatum\n",
      "Retrieved Q code http://www.wikidata.org/entity/Q15591891 for species: Piptocarpha poeppigiana\n",
      "Retrieved Q code http://www.wikidata.org/entity/Q5476022 for species: Pithecellobium johansenii\n",
      "Retrieved Q code http://www.wikidata.org/entity/Q55935331 for species: Platymiscium curuense\n",
      "Retrieved Q code http://www.wikidata.org/entity/Q15553281 for species: Pleuropetalum pleiogynum\n",
      "Retrieved Q code http://www.wikidata.org/entity/Q1097328 for species: Plumeria rubra\n",
      "Retrieved Q code http://www.wikidata.org/entity/Q5980290 for species: Persicaria pubescens\n",
      "Retrieved Q code http://www.wikidata.org/entity/Q10352100 for species: Posoqueria latifolia\n",
      "Retrieved Q code http://www.wikidata.org/entity/Q600793 for species: Prosopis juliflora\n",
      "Retrieved Q code http://www.wikidata.org/entity/Q6089768 for species: Pseudobombax septenatum\n",
      "Retrieved Q code http://www.wikidata.org/entity/Q15479818 for species: Pseudolmedia glabrata\n",
      "Retrieved Q code http://www.wikidata.org/entity/Q15537084 for species: Psiguria warscewiczii\n",
      "Retrieved Q code http://www.wikidata.org/entity/Q28819997 for species: Palicourea eurycarpa\n",
      "Retrieved Q code http://www.wikidata.org/entity/Q15495113 for species: Psychotria hoffmannseggiana\n",
      "Retrieved Q code http://www.wikidata.org/entity/Q67193328 for species: Psychotria microdon\n",
      "Retrieved Q code http://www.wikidata.org/entity/Q7262580 for species: Puya dasylirioides\n",
      "Retrieved Q code http://www.wikidata.org/entity/Q135389 for species: Quassia amara\n",
      "Retrieved Q code http://www.wikidata.org/entity/Q15338790 for species: Quercus seemannii\n",
      "Retrieved Q code http://www.wikidata.org/entity/Q15375053 for species: Quiina macrophylla\n",
      "Retrieved Q code http://www.wikidata.org/entity/Q15435840 for species: Randia altiscandens\n",
      "Retrieved Q code http://www.wikidata.org/entity/Q15436074 for species: Randia armata\n",
      "Retrieved Q code http://www.wikidata.org/entity/Q15376747 for species: Ranunculus peruvianus\n",
      "Retrieved Q code http://www.wikidata.org/entity/Q15374366 for species: Rauvolfia littoralis\n",
      "Retrieved Q code http://www.wikidata.org/entity/Q15334943 for species: Renealmia pluriplicata\n",
      "Retrieved Q code http://www.wikidata.org/entity/Q853914 for species: Rhizophora mangle\n",
      "Retrieved Q code http://www.wikidata.org/entity/Q15555200 for species: Rhynchospora polyphylla\n",
      "Retrieved Q code http://www.wikidata.org/entity/Q5436334 for species: Rinorea squamata\n",
      "Retrieved Q code http://www.wikidata.org/entity/Q15549873 for species: Roldana scandens\n",
      "Retrieved Q code http://www.wikidata.org/entity/Q15057501 for species: Rottboellia cochinchinensis\n",
      "Retrieved Q code http://www.wikidata.org/entity/Q7377841 for species: Ruellia macrantha\n",
      "Retrieved Q code http://www.wikidata.org/entity/Q3391243 for species: Saccharum officinarum\n",
      "Retrieved Q code http://www.wikidata.org/entity/Q17566084 for species: Sacoglottis trichogyna\n",
      "Retrieved Q code http://www.wikidata.org/entity/Q259500 for species: Samanea saman\n",
      "Retrieved Q code http://www.wikidata.org/entity/Q5859273 for species: Sansevieria trifasciata\n",
      "Retrieved Q code http://www.wikidata.org/entity/Q15379566 for species: Sapium laurifolium\n",
      "Retrieved Q code http://www.wikidata.org/entity/Q15366241 for species: Sapranthus viridiflorus\n",
      "Retrieved Q code http://www.wikidata.org/entity/Q15345651 for species: Sarcaulus brasiliensis\n",
      "Retrieved Q code http://www.wikidata.org/entity/Q2711230 for species: Schizolobium parahyba\n",
      "Retrieved Q code http://www.wikidata.org/entity/Q15562981 for species: Scleria eggersiana\n",
      "Retrieved Q code http://www.wikidata.org/entity/Q17351916 for species: Scleria gaertneri\n",
      "Retrieved Q code http://www.wikidata.org/entity/Q15563877 for species: Scleria microcarpa\n",
      "Retrieved Q code http://www.wikidata.org/entity/Q50326244 for species: Monticalia andicola\n",
      "Retrieved Q code http://www.wikidata.org/entity/Q15557984 for species: Telanthophora grandifolia\n",
      "Retrieved Q code http://www.wikidata.org/entity/Q15535713 for species: Senna cobanensis\n",
      "Retrieved Q code http://www.wikidata.org/entity/Q15599569 for species: Siparuna grandiflora\n",
      "Retrieved Q code http://www.wikidata.org/entity/Q15348500 for species: Sloanea terniflora\n",
      "Retrieved Q code http://www.wikidata.org/entity/Q2295155 for species: Smilax officinalis\n",
      "Retrieved Q code http://www.wikidata.org/entity/Q15532787 for species: Solanum acerifolium\n",
      "Retrieved Q code http://www.wikidata.org/entity/Q15533130 for species: Solanum adhaerens\n",
      "Retrieved Q code http://www.wikidata.org/entity/Q15534583 for species: Solanum circinatum\n",
      "Retrieved Q code http://www.wikidata.org/entity/Q15536849 for species: Solanum roblense\n",
      "Retrieved Q code http://www.wikidata.org/entity/Q15537449 for species: Solanum rudepannum\n",
      "Retrieved Q code http://www.wikidata.org/entity/Q15538200 for species: Solanum schlechtendalianum\n",
      "Retrieved Q code http://www.wikidata.org/entity/Q17401125 for species: Solanum storkii\n",
      "Retrieved Q code http://www.wikidata.org/entity/Q15538442 for species: Solanum valerianum\n",
      "Retrieved Q code http://www.wikidata.org/entity/Q15480762 for species: Sorocea pubivena\n",
      "Retrieved Q code http://www.wikidata.org/entity/Q15594912 for species: Sparattanthelium amazonum\n",
      "Retrieved Q code http://www.wikidata.org/entity/Q9340113 for species: Spathiphyllum laeve\n",
      "Retrieved Q code http://www.wikidata.org/entity/Q7578948 for species: Spondias radlkoferi\n",
      "Retrieved Q code http://www.wikidata.org/entity/Q15348772 for species: Stenospermation angustifolium\n",
      "Retrieved Q code http://www.wikidata.org/entity/Q17565541 for species: Stephanopodium costaricense\n",
      "Retrieved Q code http://www.wikidata.org/entity/Q15544832 for species: Steriphoma paradoxum\n",
      "Retrieved Q code http://www.wikidata.org/entity/Q15349206 for species: Strychnos nigricans\n",
      "Retrieved Q code http://www.wikidata.org/entity/Q49523637 for species: Stylogyne laevis\n",
      "Retrieved Q code http://www.wikidata.org/entity/Q13403357 for species: Syngonium podophyllum\n",
      "Retrieved Q code http://www.wikidata.org/entity/Q31936 for species: Syzygium malaccense\n",
      "No Q code found for species: Handroanthus chrysanthus\n",
      "Retrieved Q code http://www.wikidata.org/entity/Q715899 for species: Talipariti tiliaceum\n",
      "Retrieved Q code http://www.wikidata.org/entity/Q15529660 for species: Talisia macrophylla\n",
      "Retrieved Q code http://www.wikidata.org/entity/Q17248087 for species: Ternstroemia multiovulata\n",
      "Retrieved Q code http://www.wikidata.org/entity/Q15598512 for species: Tournefortia hirsutissima\n",
      "Retrieved Q code http://www.wikidata.org/entity/Q15384264 for species: Tovomita longifolia\n",
      "Retrieved Q code http://www.wikidata.org/entity/Q15525761 for species: Trattinnickia aspera\n",
      "Retrieved Q code http://www.wikidata.org/entity/Q15526615 for species: Trichilia pallida\n",
      "Retrieved Q code http://www.wikidata.org/entity/Q10280832 for species: Trophis racemosa\n",
      "Retrieved Q code http://www.wikidata.org/entity/Q50876289 for species: Turnera angustifolia\n",
      "Retrieved Q code http://www.wikidata.org/entity/Q15553726 for species: Urera simplex\n",
      "Retrieved Q code http://www.wikidata.org/entity/Q21304319 for species: Urochloa decumbens\n",
      "Retrieved Q code http://www.wikidata.org/entity/Q48682711 for species: Verbesina myriocephala\n",
      "Retrieved Q code http://www.wikidata.org/entity/Q15490748 for species: Virola multiflora\n",
      "Retrieved Q code http://www.wikidata.org/entity/Q15332877 for species: Vochysia megalophylla\n",
      "Retrieved Q code http://www.wikidata.org/entity/Q15601401 for species: Weinmannia fagaroides\n",
      "Retrieved Q code http://www.wikidata.org/entity/Q7983179 for species: Werauhia ororiensis\n",
      "Retrieved Q code http://www.wikidata.org/entity/Q17140701 for species: Xylopia frutescens\n",
      "Retrieved Q code http://www.wikidata.org/entity/Q4118130 for species: Zoysia matrella\n",
      "Retrieved Q code http://www.wikidata.org/entity/Q10395363 for species: Zuelania guidonia\n",
      "Saved updated CSV with Q codes to C:/Users/quirosgu/Desktop/Inmuno\\Clean_collection_taxonomical_data.csv\n"
     ]
    }
   ],
   "source": [
    "for filename in os.listdir(input_folder):\n",
    "    if filename.endswith('.csv'):\n",
    "        input_file = os.path.join(input_folder, filename)\n",
    "        process_csv_file(input_file, input_folder)"
   ]
  },
  {
   "cell_type": "markdown",
   "metadata": {},
   "source": [
    "NOW, LETS USE THE QCODES TO RECOVER ALL THE COMPOUNDS (WITH REFERENCES) PRESENT IN EACH QCODE AND SAVE THEM AS INDIVIDUAL CSV FILES FROM LOTUS_DB FROZEN METADATA"
   ]
  },
  {
   "cell_type": "code",
   "execution_count": 5,
   "metadata": {},
   "outputs": [
    {
     "name": "stdout",
     "output_type": "stream",
     "text": [
      "Saved grouped data for Q code Q15287263 to C:/Users/quirosgu/Desktop/Inmuno/output_data/Q15287263.tsv\n",
      "Saved grouped data for Q code Q8186515 to C:/Users/quirosgu/Desktop/Inmuno/output_data/Q8186515.tsv\n",
      "Saved grouped data for Q code Q1882542 to C:/Users/quirosgu/Desktop/Inmuno/output_data/Q1882542.tsv\n",
      "Saved grouped data for Q code Q4676527 to C:/Users/quirosgu/Desktop/Inmuno/output_data/Q4676527.tsv\n",
      "Saved grouped data for Q code Q5657528 to C:/Users/quirosgu/Desktop/Inmuno/output_data/Q5657528.tsv\n",
      "Saved grouped data for Q code Q11079071 to C:/Users/quirosgu/Desktop/Inmuno/output_data/Q11079071.tsv\n",
      "Saved grouped data for Q code Q104912462 to C:/Users/quirosgu/Desktop/Inmuno/output_data/Q104912462.tsv\n",
      "Saved grouped data for Q code Q4692127 to C:/Users/quirosgu/Desktop/Inmuno/output_data/Q4692127.tsv\n",
      "Saved grouped data for Q code Q1949712 to C:/Users/quirosgu/Desktop/Inmuno/output_data/Q1949712.tsv\n",
      "Saved grouped data for Q code Q159717 to C:/Users/quirosgu/Desktop/Inmuno/output_data/Q159717.tsv\n",
      "Saved grouped data for Q code Q15492162 to C:/Users/quirosgu/Desktop/Inmuno/output_data/Q15492162.tsv\n",
      "Saved grouped data for Q code Q15384605 to C:/Users/quirosgu/Desktop/Inmuno/output_data/Q15384605.tsv\n",
      "Saved grouped data for Q code Q15396944 to C:/Users/quirosgu/Desktop/Inmuno/output_data/Q15396944.tsv\n",
      "Saved grouped data for Q code Q15395163 to C:/Users/quirosgu/Desktop/Inmuno/output_data/Q15395163.tsv\n",
      "Saved grouped data for Q code Q15577068 to C:/Users/quirosgu/Desktop/Inmuno/output_data/Q15577068.tsv\n",
      "Saved grouped data for Q code Q15318795 to C:/Users/quirosgu/Desktop/Inmuno/output_data/Q15318795.tsv\n",
      "Saved grouped data for Q code Q15320656 to C:/Users/quirosgu/Desktop/Inmuno/output_data/Q15320656.tsv\n",
      "Saved grouped data for Q code Q4779309 to C:/Users/quirosgu/Desktop/Inmuno/output_data/Q4779309.tsv\n",
      "Saved grouped data for Q code Q15598546 to C:/Users/quirosgu/Desktop/Inmuno/output_data/Q15598546.tsv\n",
      "Saved grouped data for Q code Q15324297 to C:/Users/quirosgu/Desktop/Inmuno/output_data/Q15324297.tsv\n",
      "Saved grouped data for Q code Q15464421 to C:/Users/quirosgu/Desktop/Inmuno/output_data/Q15464421.tsv\n",
      "Saved grouped data for Q code Q5702217 to C:/Users/quirosgu/Desktop/Inmuno/output_data/Q5702217.tsv\n",
      "Saved grouped data for Q code Q15506735 to C:/Users/quirosgu/Desktop/Inmuno/output_data/Q15506735.tsv\n",
      "Saved grouped data for Q code Q15396304 to C:/Users/quirosgu/Desktop/Inmuno/output_data/Q15396304.tsv\n",
      "Saved grouped data for Q code Q15344491 to C:/Users/quirosgu/Desktop/Inmuno/output_data/Q15344491.tsv\n",
      "Saved grouped data for Q code Q570551 to C:/Users/quirosgu/Desktop/Inmuno/output_data/Q570551.tsv\n",
      "Saved grouped data for Q code Q15457484 to C:/Users/quirosgu/Desktop/Inmuno/output_data/Q15457484.tsv\n",
      "Saved grouped data for Q code Q15476416 to C:/Users/quirosgu/Desktop/Inmuno/output_data/Q15476416.tsv\n",
      "Saved grouped data for Q code Q15331063 to C:/Users/quirosgu/Desktop/Inmuno/output_data/Q15331063.tsv\n",
      "Saved grouped data for Q code Q15393186 to C:/Users/quirosgu/Desktop/Inmuno/output_data/Q15393186.tsv\n",
      "Saved grouped data for Q code Q15490685 to C:/Users/quirosgu/Desktop/Inmuno/output_data/Q15490685.tsv\n",
      "Saved grouped data for Q code Q15547718 to C:/Users/quirosgu/Desktop/Inmuno/output_data/Q15547718.tsv\n",
      "Saved grouped data for Q code Q15588567 to C:/Users/quirosgu/Desktop/Inmuno/output_data/Q15588567.tsv\n",
      "Saved grouped data for Q code Q42746921 to C:/Users/quirosgu/Desktop/Inmuno/output_data/Q42746921.tsv\n",
      "Saved grouped data for Q code Q10890773 to C:/Users/quirosgu/Desktop/Inmuno/output_data/Q10890773.tsv\n",
      "Saved grouped data for Q code Q5733430 to C:/Users/quirosgu/Desktop/Inmuno/output_data/Q5733430.tsv\n",
      "Saved grouped data for Q code Q990886 to C:/Users/quirosgu/Desktop/Inmuno/output_data/Q990886.tsv\n",
      "Saved grouped data for Q code Q15471496 to C:/Users/quirosgu/Desktop/Inmuno/output_data/Q15471496.tsv\n",
      "Saved grouped data for Q code Q15387620 to C:/Users/quirosgu/Desktop/Inmuno/output_data/Q15387620.tsv\n",
      "Saved grouped data for Q code Q21874434 to C:/Users/quirosgu/Desktop/Inmuno/output_data/Q21874434.tsv\n",
      "Saved grouped data for Q code Q1428973 to C:/Users/quirosgu/Desktop/Inmuno/output_data/Q1428973.tsv\n",
      "Saved grouped data for Q code Q92367804 to C:/Users/quirosgu/Desktop/Inmuno/output_data/Q92367804.tsv\n",
      "Saved grouped data for Q code Q92368903 to C:/Users/quirosgu/Desktop/Inmuno/output_data/Q92368903.tsv\n",
      "Saved grouped data for Q code Q18082984 to C:/Users/quirosgu/Desktop/Inmuno/output_data/Q18082984.tsv\n",
      "Saved grouped data for Q code Q15348798 to C:/Users/quirosgu/Desktop/Inmuno/output_data/Q15348798.tsv\n",
      "Saved grouped data for Q code Q15554410 to C:/Users/quirosgu/Desktop/Inmuno/output_data/Q15554410.tsv\n",
      "Saved grouped data for Q code Q5741578 to C:/Users/quirosgu/Desktop/Inmuno/output_data/Q5741578.tsv\n",
      "Saved grouped data for Q code Q1317365 to C:/Users/quirosgu/Desktop/Inmuno/output_data/Q1317365.tsv\n",
      "Saved grouped data for Q code Q15593376 to C:/Users/quirosgu/Desktop/Inmuno/output_data/Q15593376.tsv\n",
      "Saved grouped data for Q code Q1043450 to C:/Users/quirosgu/Desktop/Inmuno/output_data/Q1043450.tsv\n",
      "Saved grouped data for Q code Q164094 to C:/Users/quirosgu/Desktop/Inmuno/output_data/Q164094.tsv\n",
      "Saved grouped data for Q code Q15348729 to C:/Users/quirosgu/Desktop/Inmuno/output_data/Q15348729.tsv\n",
      "Saved grouped data for Q code Q161093 to C:/Users/quirosgu/Desktop/Inmuno/output_data/Q161093.tsv\n",
      "Saved grouped data for Q code Q15371226 to C:/Users/quirosgu/Desktop/Inmuno/output_data/Q15371226.tsv\n",
      "Saved grouped data for Q code Q2998776 to C:/Users/quirosgu/Desktop/Inmuno/output_data/Q2998776.tsv\n",
      "Saved grouped data for Q code Q4744662 to C:/Users/quirosgu/Desktop/Inmuno/output_data/Q4744662.tsv\n",
      "Saved grouped data for Q code Q15604947 to C:/Users/quirosgu/Desktop/Inmuno/output_data/Q15604947.tsv\n",
      "Saved grouped data for Q code Q12488371 to C:/Users/quirosgu/Desktop/Inmuno/output_data/Q12488371.tsv\n",
      "Saved grouped data for Q code Q15387668 to C:/Users/quirosgu/Desktop/Inmuno/output_data/Q15387668.tsv\n",
      "Saved grouped data for Q code Q15526424 to C:/Users/quirosgu/Desktop/Inmuno/output_data/Q15526424.tsv\n",
      "Saved grouped data for Q code Q21250345 to C:/Users/quirosgu/Desktop/Inmuno/output_data/Q21250345.tsv\n",
      "Saved grouped data for Q code Q15387384 to C:/Users/quirosgu/Desktop/Inmuno/output_data/Q15387384.tsv\n",
      "Saved grouped data for Q code Q15232465 to C:/Users/quirosgu/Desktop/Inmuno/output_data/Q15232465.tsv\n",
      "Saved grouped data for Q code Q49522122 to C:/Users/quirosgu/Desktop/Inmuno/output_data/Q49522122.tsv\n",
      "Saved grouped data for Q code Q15399421 to C:/Users/quirosgu/Desktop/Inmuno/output_data/Q15399421.tsv\n",
      "Saved grouped data for Q code Q9191371 to C:/Users/quirosgu/Desktop/Inmuno/output_data/Q9191371.tsv\n",
      "Saved grouped data for Q code Q15513903 to C:/Users/quirosgu/Desktop/Inmuno/output_data/Q15513903.tsv\n",
      "Saved grouped data for Q code Q50839388 to C:/Users/quirosgu/Desktop/Inmuno/output_data/Q50839388.tsv\n",
      "Saved grouped data for Q code Q15565299 to C:/Users/quirosgu/Desktop/Inmuno/output_data/Q15565299.tsv\n",
      "Saved grouped data for Q code Q2714097 to C:/Users/quirosgu/Desktop/Inmuno/output_data/Q2714097.tsv\n",
      "Saved grouped data for Q code Q15471701 to C:/Users/quirosgu/Desktop/Inmuno/output_data/Q15471701.tsv\n",
      "Saved grouped data for Q code Q5771221 to C:/Users/quirosgu/Desktop/Inmuno/output_data/Q5771221.tsv\n",
      "Saved grouped data for Q code Q15391131 to C:/Users/quirosgu/Desktop/Inmuno/output_data/Q15391131.tsv\n",
      "Saved grouped data for Q code Q15394067 to C:/Users/quirosgu/Desktop/Inmuno/output_data/Q15394067.tsv\n",
      "Saved grouped data for Q code Q15581202 to C:/Users/quirosgu/Desktop/Inmuno/output_data/Q15581202.tsv\n",
      "Saved grouped data for Q code Q2980990 to C:/Users/quirosgu/Desktop/Inmuno/output_data/Q2980990.tsv\n",
      "Saved grouped data for Q code Q5141681 to C:/Users/quirosgu/Desktop/Inmuno/output_data/Q5141681.tsv\n",
      "Saved grouped data for Q code Q15536508 to C:/Users/quirosgu/Desktop/Inmuno/output_data/Q15536508.tsv\n",
      "Saved grouped data for Q code Q15493816 to C:/Users/quirosgu/Desktop/Inmuno/output_data/Q15493816.tsv\n",
      "Saved grouped data for Q code Q15401274 to C:/Users/quirosgu/Desktop/Inmuno/output_data/Q15401274.tsv\n",
      "Saved grouped data for Q code Q15250450 to C:/Users/quirosgu/Desktop/Inmuno/output_data/Q15250450.tsv\n",
      "Saved grouped data for Q code Q214542 to C:/Users/quirosgu/Desktop/Inmuno/output_data/Q214542.tsv\n",
      "Saved grouped data for Q code Q1140089 to C:/Users/quirosgu/Desktop/Inmuno/output_data/Q1140089.tsv\n",
      "Saved grouped data for Q code Q3004011 to C:/Users/quirosgu/Desktop/Inmuno/output_data/Q3004011.tsv\n",
      "Saved grouped data for Q code Q15397864 to C:/Users/quirosgu/Desktop/Inmuno/output_data/Q15397864.tsv\n",
      "Saved grouped data for Q code Q15337356 to C:/Users/quirosgu/Desktop/Inmuno/output_data/Q15337356.tsv\n",
      "Saved grouped data for Q code Q15547182 to C:/Users/quirosgu/Desktop/Inmuno/output_data/Q15547182.tsv\n",
      "Saved grouped data for Q code Q33913 to C:/Users/quirosgu/Desktop/Inmuno/output_data/Q33913.tsv\n",
      "Saved grouped data for Q code Q5795462 to C:/Users/quirosgu/Desktop/Inmuno/output_data/Q5795462.tsv\n",
      "Saved grouped data for Q code Q5795507 to C:/Users/quirosgu/Desktop/Inmuno/output_data/Q5795507.tsv\n",
      "Saved grouped data for Q code Q5208908 to C:/Users/quirosgu/Desktop/Inmuno/output_data/Q5208908.tsv\n",
      "Saved grouped data for Q code Q15531517 to C:/Users/quirosgu/Desktop/Inmuno/output_data/Q15531517.tsv\n",
      "Saved grouped data for Q code Q17024682 to C:/Users/quirosgu/Desktop/Inmuno/output_data/Q17024682.tsv\n",
      "Saved grouped data for Q code Q238486 to C:/Users/quirosgu/Desktop/Inmuno/output_data/Q238486.tsv\n",
      "Saved grouped data for Q code Q5764728 to C:/Users/quirosgu/Desktop/Inmuno/output_data/Q5764728.tsv\n",
      "Saved grouped data for Q code Q10306429 to C:/Users/quirosgu/Desktop/Inmuno/output_data/Q10306429.tsv\n",
      "Saved grouped data for Q code Q15560885 to C:/Users/quirosgu/Desktop/Inmuno/output_data/Q15560885.tsv\n",
      "Saved grouped data for Q code Q15546614 to C:/Users/quirosgu/Desktop/Inmuno/output_data/Q15546614.tsv\n",
      "Saved grouped data for Q code Q15339270 to C:/Users/quirosgu/Desktop/Inmuno/output_data/Q15339270.tsv\n",
      "Saved grouped data for Q code Q89188901 to C:/Users/quirosgu/Desktop/Inmuno/output_data/Q89188901.tsv\n",
      "Saved grouped data for Q code Q17398458 to C:/Users/quirosgu/Desktop/Inmuno/output_data/Q17398458.tsv\n",
      "Saved grouped data for Q code Q15313056 to C:/Users/quirosgu/Desktop/Inmuno/output_data/Q15313056.tsv\n",
      "Saved grouped data for Q code Q15500679 to C:/Users/quirosgu/Desktop/Inmuno/output_data/Q15500679.tsv\n",
      "Saved grouped data for Q code Q15507751 to C:/Users/quirosgu/Desktop/Inmuno/output_data/Q15507751.tsv\n",
      "Saved grouped data for Q code Q15586829 to C:/Users/quirosgu/Desktop/Inmuno/output_data/Q15586829.tsv\n",
      "Saved grouped data for Q code Q690645 to C:/Users/quirosgu/Desktop/Inmuno/output_data/Q690645.tsv\n",
      "Saved grouped data for Q code Q15473365 to C:/Users/quirosgu/Desktop/Inmuno/output_data/Q15473365.tsv\n",
      "Saved grouped data for Q code Q135127 to C:/Users/quirosgu/Desktop/Inmuno/output_data/Q135127.tsv\n",
      "Saved grouped data for Q code Q15575790 to C:/Users/quirosgu/Desktop/Inmuno/output_data/Q15575790.tsv\n",
      "Saved grouped data for Q code Q5837307 to C:/Users/quirosgu/Desktop/Inmuno/output_data/Q5837307.tsv\n",
      "Saved grouped data for Q code Q5396455 to C:/Users/quirosgu/Desktop/Inmuno/output_data/Q5396455.tsv\n",
      "Saved grouped data for Q code Q15376475 to C:/Users/quirosgu/Desktop/Inmuno/output_data/Q15376475.tsv\n",
      "Saved grouped data for Q code Q5397254 to C:/Users/quirosgu/Desktop/Inmuno/output_data/Q5397254.tsv\n",
      "Saved grouped data for Q code Q6433663 to C:/Users/quirosgu/Desktop/Inmuno/output_data/Q6433663.tsv\n",
      "Saved grouped data for Q code Q15443900 to C:/Users/quirosgu/Desktop/Inmuno/output_data/Q15443900.tsv\n",
      "Saved grouped data for Q code Q81748456 to C:/Users/quirosgu/Desktop/Inmuno/output_data/Q81748456.tsv\n",
      "Saved grouped data for Q code Q275160 to C:/Users/quirosgu/Desktop/Inmuno/output_data/Q275160.tsv\n",
      "Saved grouped data for Q code Q3585414 to C:/Users/quirosgu/Desktop/Inmuno/output_data/Q3585414.tsv\n",
      "Saved grouped data for Q code Q5446654 to C:/Users/quirosgu/Desktop/Inmuno/output_data/Q5446654.tsv\n",
      "Saved grouped data for Q code Q12175320 to C:/Users/quirosgu/Desktop/Inmuno/output_data/Q12175320.tsv\n",
      "Saved grouped data for Q code Q1353278 to C:/Users/quirosgu/Desktop/Inmuno/output_data/Q1353278.tsv\n",
      "Saved grouped data for Q code Q15457271 to C:/Users/quirosgu/Desktop/Inmuno/output_data/Q15457271.tsv\n",
      "Saved grouped data for Q code Q2717303 to C:/Users/quirosgu/Desktop/Inmuno/output_data/Q2717303.tsv\n",
      "Saved grouped data for Q code Q15602003 to C:/Users/quirosgu/Desktop/Inmuno/output_data/Q15602003.tsv\n",
      "Saved grouped data for Q code Q15399631 to C:/Users/quirosgu/Desktop/Inmuno/output_data/Q15399631.tsv\n",
      "Saved grouped data for Q code Q17246257 to C:/Users/quirosgu/Desktop/Inmuno/output_data/Q17246257.tsv\n",
      "Saved grouped data for Q code Q15458083 to C:/Users/quirosgu/Desktop/Inmuno/output_data/Q15458083.tsv\n",
      "Saved grouped data for Q code Q15459428 to C:/Users/quirosgu/Desktop/Inmuno/output_data/Q15459428.tsv\n",
      "Saved grouped data for Q code Q15341503 to C:/Users/quirosgu/Desktop/Inmuno/output_data/Q15341503.tsv\n",
      "Saved grouped data for Q code Q15536135 to C:/Users/quirosgu/Desktop/Inmuno/output_data/Q15536135.tsv\n",
      "Saved grouped data for Q code Q15460898 to C:/Users/quirosgu/Desktop/Inmuno/output_data/Q15460898.tsv\n",
      "Saved grouped data for Q code Q15373210 to C:/Users/quirosgu/Desktop/Inmuno/output_data/Q15373210.tsv\n",
      "Saved grouped data for Q code Q17395072 to C:/Users/quirosgu/Desktop/Inmuno/output_data/Q17395072.tsv\n",
      "Saved grouped data for Q code Q15383418 to C:/Users/quirosgu/Desktop/Inmuno/output_data/Q15383418.tsv\n",
      "Saved grouped data for Q code Q1602492 to C:/Users/quirosgu/Desktop/Inmuno/output_data/Q1602492.tsv\n",
      "Saved grouped data for Q code Q15373239 to C:/Users/quirosgu/Desktop/Inmuno/output_data/Q15373239.tsv\n",
      "Saved grouped data for Q code Q15462028 to C:/Users/quirosgu/Desktop/Inmuno/output_data/Q15462028.tsv\n",
      "Saved grouped data for Q code Q15393584 to C:/Users/quirosgu/Desktop/Inmuno/output_data/Q15393584.tsv\n",
      "Saved grouped data for Q code Q158110 to C:/Users/quirosgu/Desktop/Inmuno/output_data/Q158110.tsv\n",
      "Saved grouped data for Q code Q15392758 to C:/Users/quirosgu/Desktop/Inmuno/output_data/Q15392758.tsv\n",
      "Saved grouped data for Q code Q92422947 to C:/Users/quirosgu/Desktop/Inmuno/output_data/Q92422947.tsv\n",
      "Saved grouped data for Q code Q2001703 to C:/Users/quirosgu/Desktop/Inmuno/output_data/Q2001703.tsv\n",
      "Saved grouped data for Q code Q10299053 to C:/Users/quirosgu/Desktop/Inmuno/output_data/Q10299053.tsv\n",
      "Saved grouped data for Q code Q2234016 to C:/Users/quirosgu/Desktop/Inmuno/output_data/Q2234016.tsv\n",
      "Saved grouped data for Q code Q3144082 to C:/Users/quirosgu/Desktop/Inmuno/output_data/Q3144082.tsv\n",
      "Saved grouped data for Q code Q50846819 to C:/Users/quirosgu/Desktop/Inmuno/output_data/Q50846819.tsv\n",
      "Saved grouped data for Q code Q15502494 to C:/Users/quirosgu/Desktop/Inmuno/output_data/Q15502494.tsv\n",
      "Saved grouped data for Q code Q43372103 to C:/Users/quirosgu/Desktop/Inmuno/output_data/Q43372103.tsv\n",
      "Saved grouped data for Q code Q11127145 to C:/Users/quirosgu/Desktop/Inmuno/output_data/Q11127145.tsv\n",
      "Saved grouped data for Q code Q1330992 to C:/Users/quirosgu/Desktop/Inmuno/output_data/Q1330992.tsv\n",
      "Saved grouped data for Q code Q162117 to C:/Users/quirosgu/Desktop/Inmuno/output_data/Q162117.tsv\n",
      "Saved grouped data for Q code Q1672259 to C:/Users/quirosgu/Desktop/Inmuno/output_data/Q1672259.tsv\n",
      "Saved grouped data for Q code Q15568994 to C:/Users/quirosgu/Desktop/Inmuno/output_data/Q15568994.tsv\n",
      "Saved grouped data for Q code Q3163048 to C:/Users/quirosgu/Desktop/Inmuno/output_data/Q3163048.tsv\n",
      "Saved grouped data for Q code Q15467921 to C:/Users/quirosgu/Desktop/Inmuno/output_data/Q15467921.tsv\n",
      "Saved grouped data for Q code Q15288897 to C:/Users/quirosgu/Desktop/Inmuno/output_data/Q15288897.tsv\n",
      "Saved grouped data for Q code Q15598153 to C:/Users/quirosgu/Desktop/Inmuno/output_data/Q15598153.tsv\n",
      "Saved grouped data for Q code Q1760533 to C:/Users/quirosgu/Desktop/Inmuno/output_data/Q1760533.tsv\n",
      "Saved grouped data for Q code Q332469 to C:/Users/quirosgu/Desktop/Inmuno/output_data/Q332469.tsv\n",
      "Saved grouped data for Q code Q182448 to C:/Users/quirosgu/Desktop/Inmuno/output_data/Q182448.tsv\n",
      "Saved grouped data for Q code Q15337880 to C:/Users/quirosgu/Desktop/Inmuno/output_data/Q15337880.tsv\n",
      "Saved grouped data for Q code Q15613116 to C:/Users/quirosgu/Desktop/Inmuno/output_data/Q15613116.tsv\n",
      "Saved grouped data for Q code Q15432557 to C:/Users/quirosgu/Desktop/Inmuno/output_data/Q15432557.tsv\n",
      "Saved grouped data for Q code Q15471009 to C:/Users/quirosgu/Desktop/Inmuno/output_data/Q15471009.tsv\n",
      "Saved grouped data for Q code Q17551560 to C:/Users/quirosgu/Desktop/Inmuno/output_data/Q17551560.tsv\n",
      "Saved grouped data for Q code Q17584503 to C:/Users/quirosgu/Desktop/Inmuno/output_data/Q17584503.tsv\n",
      "Saved grouped data for Q code Q15469680 to C:/Users/quirosgu/Desktop/Inmuno/output_data/Q15469680.tsv\n",
      "Saved grouped data for Q code Q15357631 to C:/Users/quirosgu/Desktop/Inmuno/output_data/Q15357631.tsv\n",
      "Saved grouped data for Q code Q15477328 to C:/Users/quirosgu/Desktop/Inmuno/output_data/Q15477328.tsv\n",
      "Saved grouped data for Q code Q168042 to C:/Users/quirosgu/Desktop/Inmuno/output_data/Q168042.tsv\n",
      "Saved grouped data for Q code Q15531888 to C:/Users/quirosgu/Desktop/Inmuno/output_data/Q15531888.tsv\n",
      "Saved grouped data for Q code Q15523112 to C:/Users/quirosgu/Desktop/Inmuno/output_data/Q15523112.tsv\n",
      "Saved grouped data for Q code Q15375506 to C:/Users/quirosgu/Desktop/Inmuno/output_data/Q15375506.tsv\n",
      "Saved grouped data for Q code Q15364734 to C:/Users/quirosgu/Desktop/Inmuno/output_data/Q15364734.tsv\n",
      "Saved grouped data for Q code Q55879736 to C:/Users/quirosgu/Desktop/Inmuno/output_data/Q55879736.tsv\n",
      "Saved grouped data for Q code Q18112872 to C:/Users/quirosgu/Desktop/Inmuno/output_data/Q18112872.tsv\n",
      "Saved grouped data for Q code Q43373466 to C:/Users/quirosgu/Desktop/Inmuno/output_data/Q43373466.tsv\n",
      "Saved grouped data for Q code Q15393683 to C:/Users/quirosgu/Desktop/Inmuno/output_data/Q15393683.tsv\n",
      "Saved grouped data for Q code Q15396943 to C:/Users/quirosgu/Desktop/Inmuno/output_data/Q15396943.tsv\n",
      "Saved grouped data for Q code Q15397711 to C:/Users/quirosgu/Desktop/Inmuno/output_data/Q15397711.tsv\n",
      "Saved grouped data for Q code Q2717688 to C:/Users/quirosgu/Desktop/Inmuno/output_data/Q2717688.tsv\n",
      "Saved grouped data for Q code Q15447942 to C:/Users/quirosgu/Desktop/Inmuno/output_data/Q15447942.tsv\n",
      "Saved grouped data for Q code Q148532 to C:/Users/quirosgu/Desktop/Inmuno/output_data/Q148532.tsv\n",
      "Saved grouped data for Q code Q234238 to C:/Users/quirosgu/Desktop/Inmuno/output_data/Q234238.tsv\n",
      "Saved grouped data for Q code Q2464662 to C:/Users/quirosgu/Desktop/Inmuno/output_data/Q2464662.tsv\n",
      "Saved grouped data for Q code Q150452 to C:/Users/quirosgu/Desktop/Inmuno/output_data/Q150452.tsv\n",
      "Saved grouped data for Q code Q144670 to C:/Users/quirosgu/Desktop/Inmuno/output_data/Q144670.tsv\n",
      "Saved grouped data for Q code Q15608959 to C:/Users/quirosgu/Desktop/Inmuno/output_data/Q15608959.tsv\n",
      "Saved grouped data for Q code Q15478932 to C:/Users/quirosgu/Desktop/Inmuno/output_data/Q15478932.tsv\n",
      "Saved grouped data for Q code Q6050389 to C:/Users/quirosgu/Desktop/Inmuno/output_data/Q6050389.tsv\n",
      "Saved grouped data for Q code Q15367938 to C:/Users/quirosgu/Desktop/Inmuno/output_data/Q15367938.tsv\n",
      "Saved grouped data for Q code Q15573034 to C:/Users/quirosgu/Desktop/Inmuno/output_data/Q15573034.tsv\n",
      "Saved grouped data for Q code Q15553498 to C:/Users/quirosgu/Desktop/Inmuno/output_data/Q15553498.tsv\n",
      "Saved grouped data for Q code Q3887771 to C:/Users/quirosgu/Desktop/Inmuno/output_data/Q3887771.tsv\n",
      "Saved grouped data for Q code Q15484900 to C:/Users/quirosgu/Desktop/Inmuno/output_data/Q15484900.tsv\n",
      "Saved grouped data for Q code Q50846435 to C:/Users/quirosgu/Desktop/Inmuno/output_data/Q50846435.tsv\n",
      "Saved grouped data for Q code Q2063965 to C:/Users/quirosgu/Desktop/Inmuno/output_data/Q2063965.tsv\n",
      "Saved grouped data for Q code Q2321967 to C:/Users/quirosgu/Desktop/Inmuno/output_data/Q2321967.tsv\n",
      "Saved grouped data for Q code Q15488531 to C:/Users/quirosgu/Desktop/Inmuno/output_data/Q15488531.tsv\n",
      "Saved grouped data for Q code Q5972602 to C:/Users/quirosgu/Desktop/Inmuno/output_data/Q5972602.tsv\n",
      "Saved grouped data for Q code Q11815583 to C:/Users/quirosgu/Desktop/Inmuno/output_data/Q11815583.tsv\n",
      "Saved grouped data for Q code Q15606062 to C:/Users/quirosgu/Desktop/Inmuno/output_data/Q15606062.tsv\n",
      "Saved grouped data for Q code Q1606492 to C:/Users/quirosgu/Desktop/Inmuno/output_data/Q1606492.tsv\n",
      "Saved grouped data for Q code Q15610265 to C:/Users/quirosgu/Desktop/Inmuno/output_data/Q15610265.tsv\n",
      "Saved grouped data for Q code Q15312826 to C:/Users/quirosgu/Desktop/Inmuno/output_data/Q15312826.tsv\n",
      "Saved grouped data for Q code Q144322 to C:/Users/quirosgu/Desktop/Inmuno/output_data/Q144322.tsv\n",
      "Saved grouped data for Q code Q7188495 to C:/Users/quirosgu/Desktop/Inmuno/output_data/Q7188495.tsv\n",
      "Saved grouped data for Q code Q12219768 to C:/Users/quirosgu/Desktop/Inmuno/output_data/Q12219768.tsv\n",
      "Saved grouped data for Q code Q17586813 to C:/Users/quirosgu/Desktop/Inmuno/output_data/Q17586813.tsv\n",
      "Saved grouped data for Q code Q110666042 to C:/Users/quirosgu/Desktop/Inmuno/output_data/Q110666042.tsv\n",
      "Saved grouped data for Q code Q15601163 to C:/Users/quirosgu/Desktop/Inmuno/output_data/Q15601163.tsv\n",
      "Saved grouped data for Q code Q15603602 to C:/Users/quirosgu/Desktop/Inmuno/output_data/Q15603602.tsv\n",
      "Saved grouped data for Q code Q15604543 to C:/Users/quirosgu/Desktop/Inmuno/output_data/Q15604543.tsv\n",
      "Saved grouped data for Q code Q15606320 to C:/Users/quirosgu/Desktop/Inmuno/output_data/Q15606320.tsv\n",
      "Saved grouped data for Q code Q15591891 to C:/Users/quirosgu/Desktop/Inmuno/output_data/Q15591891.tsv\n",
      "Saved grouped data for Q code Q5476022 to C:/Users/quirosgu/Desktop/Inmuno/output_data/Q5476022.tsv\n",
      "Saved grouped data for Q code Q55935331 to C:/Users/quirosgu/Desktop/Inmuno/output_data/Q55935331.tsv\n",
      "Saved grouped data for Q code Q15553281 to C:/Users/quirosgu/Desktop/Inmuno/output_data/Q15553281.tsv\n",
      "Saved grouped data for Q code Q1097328 to C:/Users/quirosgu/Desktop/Inmuno/output_data/Q1097328.tsv\n",
      "Saved grouped data for Q code Q5980290 to C:/Users/quirosgu/Desktop/Inmuno/output_data/Q5980290.tsv\n",
      "Saved grouped data for Q code Q10352100 to C:/Users/quirosgu/Desktop/Inmuno/output_data/Q10352100.tsv\n",
      "Saved grouped data for Q code Q600793 to C:/Users/quirosgu/Desktop/Inmuno/output_data/Q600793.tsv\n",
      "Saved grouped data for Q code Q6089768 to C:/Users/quirosgu/Desktop/Inmuno/output_data/Q6089768.tsv\n",
      "Saved grouped data for Q code Q15479818 to C:/Users/quirosgu/Desktop/Inmuno/output_data/Q15479818.tsv\n",
      "Saved grouped data for Q code Q15537084 to C:/Users/quirosgu/Desktop/Inmuno/output_data/Q15537084.tsv\n",
      "Saved grouped data for Q code Q28819997 to C:/Users/quirosgu/Desktop/Inmuno/output_data/Q28819997.tsv\n",
      "Saved grouped data for Q code Q15495113 to C:/Users/quirosgu/Desktop/Inmuno/output_data/Q15495113.tsv\n",
      "Saved grouped data for Q code Q67193328 to C:/Users/quirosgu/Desktop/Inmuno/output_data/Q67193328.tsv\n",
      "Saved grouped data for Q code Q7262580 to C:/Users/quirosgu/Desktop/Inmuno/output_data/Q7262580.tsv\n",
      "Saved grouped data for Q code Q135389 to C:/Users/quirosgu/Desktop/Inmuno/output_data/Q135389.tsv\n",
      "Saved grouped data for Q code Q15338790 to C:/Users/quirosgu/Desktop/Inmuno/output_data/Q15338790.tsv\n",
      "Saved grouped data for Q code Q15375053 to C:/Users/quirosgu/Desktop/Inmuno/output_data/Q15375053.tsv\n",
      "Saved grouped data for Q code Q15435840 to C:/Users/quirosgu/Desktop/Inmuno/output_data/Q15435840.tsv\n",
      "Saved grouped data for Q code Q15436074 to C:/Users/quirosgu/Desktop/Inmuno/output_data/Q15436074.tsv\n",
      "Saved grouped data for Q code Q15376747 to C:/Users/quirosgu/Desktop/Inmuno/output_data/Q15376747.tsv\n",
      "Saved grouped data for Q code Q15374366 to C:/Users/quirosgu/Desktop/Inmuno/output_data/Q15374366.tsv\n",
      "Saved grouped data for Q code Q15334943 to C:/Users/quirosgu/Desktop/Inmuno/output_data/Q15334943.tsv\n",
      "Saved grouped data for Q code Q853914 to C:/Users/quirosgu/Desktop/Inmuno/output_data/Q853914.tsv\n",
      "Saved grouped data for Q code Q15555200 to C:/Users/quirosgu/Desktop/Inmuno/output_data/Q15555200.tsv\n",
      "Saved grouped data for Q code Q5436334 to C:/Users/quirosgu/Desktop/Inmuno/output_data/Q5436334.tsv\n",
      "Saved grouped data for Q code Q15549873 to C:/Users/quirosgu/Desktop/Inmuno/output_data/Q15549873.tsv\n",
      "Saved grouped data for Q code Q15057501 to C:/Users/quirosgu/Desktop/Inmuno/output_data/Q15057501.tsv\n",
      "Saved grouped data for Q code Q7377841 to C:/Users/quirosgu/Desktop/Inmuno/output_data/Q7377841.tsv\n",
      "Saved grouped data for Q code Q3391243 to C:/Users/quirosgu/Desktop/Inmuno/output_data/Q3391243.tsv\n",
      "Saved grouped data for Q code Q17566084 to C:/Users/quirosgu/Desktop/Inmuno/output_data/Q17566084.tsv\n",
      "Saved grouped data for Q code Q259500 to C:/Users/quirosgu/Desktop/Inmuno/output_data/Q259500.tsv\n",
      "Saved grouped data for Q code Q5859273 to C:/Users/quirosgu/Desktop/Inmuno/output_data/Q5859273.tsv\n",
      "Saved grouped data for Q code Q15379566 to C:/Users/quirosgu/Desktop/Inmuno/output_data/Q15379566.tsv\n",
      "Saved grouped data for Q code Q15366241 to C:/Users/quirosgu/Desktop/Inmuno/output_data/Q15366241.tsv\n",
      "Saved grouped data for Q code Q15345651 to C:/Users/quirosgu/Desktop/Inmuno/output_data/Q15345651.tsv\n",
      "Saved grouped data for Q code Q2711230 to C:/Users/quirosgu/Desktop/Inmuno/output_data/Q2711230.tsv\n",
      "Saved grouped data for Q code Q15562981 to C:/Users/quirosgu/Desktop/Inmuno/output_data/Q15562981.tsv\n",
      "Saved grouped data for Q code Q17351916 to C:/Users/quirosgu/Desktop/Inmuno/output_data/Q17351916.tsv\n",
      "Saved grouped data for Q code Q15563877 to C:/Users/quirosgu/Desktop/Inmuno/output_data/Q15563877.tsv\n",
      "Saved grouped data for Q code Q50326244 to C:/Users/quirosgu/Desktop/Inmuno/output_data/Q50326244.tsv\n",
      "Saved grouped data for Q code Q15557984 to C:/Users/quirosgu/Desktop/Inmuno/output_data/Q15557984.tsv\n",
      "Saved grouped data for Q code Q15535713 to C:/Users/quirosgu/Desktop/Inmuno/output_data/Q15535713.tsv\n",
      "Saved grouped data for Q code Q15599569 to C:/Users/quirosgu/Desktop/Inmuno/output_data/Q15599569.tsv\n",
      "Saved grouped data for Q code Q15348500 to C:/Users/quirosgu/Desktop/Inmuno/output_data/Q15348500.tsv\n",
      "Saved grouped data for Q code Q2295155 to C:/Users/quirosgu/Desktop/Inmuno/output_data/Q2295155.tsv\n",
      "Saved grouped data for Q code Q15532787 to C:/Users/quirosgu/Desktop/Inmuno/output_data/Q15532787.tsv\n",
      "Saved grouped data for Q code Q15533130 to C:/Users/quirosgu/Desktop/Inmuno/output_data/Q15533130.tsv\n",
      "Saved grouped data for Q code Q15534583 to C:/Users/quirosgu/Desktop/Inmuno/output_data/Q15534583.tsv\n",
      "Saved grouped data for Q code Q15536849 to C:/Users/quirosgu/Desktop/Inmuno/output_data/Q15536849.tsv\n",
      "Saved grouped data for Q code Q15537449 to C:/Users/quirosgu/Desktop/Inmuno/output_data/Q15537449.tsv\n",
      "Saved grouped data for Q code Q15538200 to C:/Users/quirosgu/Desktop/Inmuno/output_data/Q15538200.tsv\n",
      "Saved grouped data for Q code Q17401125 to C:/Users/quirosgu/Desktop/Inmuno/output_data/Q17401125.tsv\n",
      "Saved grouped data for Q code Q15538442 to C:/Users/quirosgu/Desktop/Inmuno/output_data/Q15538442.tsv\n",
      "Saved grouped data for Q code Q15480762 to C:/Users/quirosgu/Desktop/Inmuno/output_data/Q15480762.tsv\n",
      "Saved grouped data for Q code Q15594912 to C:/Users/quirosgu/Desktop/Inmuno/output_data/Q15594912.tsv\n",
      "Saved grouped data for Q code Q9340113 to C:/Users/quirosgu/Desktop/Inmuno/output_data/Q9340113.tsv\n",
      "Saved grouped data for Q code Q7578948 to C:/Users/quirosgu/Desktop/Inmuno/output_data/Q7578948.tsv\n",
      "Saved grouped data for Q code Q15348772 to C:/Users/quirosgu/Desktop/Inmuno/output_data/Q15348772.tsv\n",
      "Saved grouped data for Q code Q17565541 to C:/Users/quirosgu/Desktop/Inmuno/output_data/Q17565541.tsv\n",
      "Saved grouped data for Q code Q15544832 to C:/Users/quirosgu/Desktop/Inmuno/output_data/Q15544832.tsv\n",
      "Saved grouped data for Q code Q15349206 to C:/Users/quirosgu/Desktop/Inmuno/output_data/Q15349206.tsv\n",
      "Saved grouped data for Q code Q49523637 to C:/Users/quirosgu/Desktop/Inmuno/output_data/Q49523637.tsv\n",
      "Saved grouped data for Q code Q13403357 to C:/Users/quirosgu/Desktop/Inmuno/output_data/Q13403357.tsv\n",
      "Saved grouped data for Q code Q31936 to C:/Users/quirosgu/Desktop/Inmuno/output_data/Q31936.tsv\n",
      "Saved grouped data for Q code Q15549607 to C:/Users/quirosgu/Desktop/Inmuno/output_data/Q15549607.tsv\n",
      "Saved grouped data for Q code Q715899 to C:/Users/quirosgu/Desktop/Inmuno/output_data/Q715899.tsv\n",
      "Saved grouped data for Q code Q15529660 to C:/Users/quirosgu/Desktop/Inmuno/output_data/Q15529660.tsv\n",
      "Saved grouped data for Q code Q17248087 to C:/Users/quirosgu/Desktop/Inmuno/output_data/Q17248087.tsv\n",
      "Saved grouped data for Q code Q15598512 to C:/Users/quirosgu/Desktop/Inmuno/output_data/Q15598512.tsv\n",
      "Saved grouped data for Q code Q15384264 to C:/Users/quirosgu/Desktop/Inmuno/output_data/Q15384264.tsv\n",
      "Saved grouped data for Q code Q15525761 to C:/Users/quirosgu/Desktop/Inmuno/output_data/Q15525761.tsv\n",
      "Saved grouped data for Q code Q15526615 to C:/Users/quirosgu/Desktop/Inmuno/output_data/Q15526615.tsv\n",
      "Saved grouped data for Q code Q10280832 to C:/Users/quirosgu/Desktop/Inmuno/output_data/Q10280832.tsv\n",
      "Saved grouped data for Q code Q50876289 to C:/Users/quirosgu/Desktop/Inmuno/output_data/Q50876289.tsv\n",
      "Saved grouped data for Q code Q15553726 to C:/Users/quirosgu/Desktop/Inmuno/output_data/Q15553726.tsv\n",
      "Saved grouped data for Q code Q21304319 to C:/Users/quirosgu/Desktop/Inmuno/output_data/Q21304319.tsv\n",
      "Saved grouped data for Q code Q48682711 to C:/Users/quirosgu/Desktop/Inmuno/output_data/Q48682711.tsv\n",
      "Saved grouped data for Q code Q15490748 to C:/Users/quirosgu/Desktop/Inmuno/output_data/Q15490748.tsv\n",
      "Saved grouped data for Q code Q15332877 to C:/Users/quirosgu/Desktop/Inmuno/output_data/Q15332877.tsv\n",
      "Saved grouped data for Q code Q15601401 to C:/Users/quirosgu/Desktop/Inmuno/output_data/Q15601401.tsv\n",
      "Saved grouped data for Q code Q7983179 to C:/Users/quirosgu/Desktop/Inmuno/output_data/Q7983179.tsv\n",
      "Saved grouped data for Q code Q17140701 to C:/Users/quirosgu/Desktop/Inmuno/output_data/Q17140701.tsv\n",
      "Saved grouped data for Q code Q4118130 to C:/Users/quirosgu/Desktop/Inmuno/output_data/Q4118130.tsv\n",
      "Saved grouped data for Q code Q10395363 to C:/Users/quirosgu/Desktop/Inmuno/output_data/Q10395363.tsv\n"
     ]
    }
   ],
   "source": [
    "# Iterate through all CSV files in the input folder\n",
    "for filename in os.listdir(input_folder):\n",
    "    if filename.endswith('.csv'):\n",
    "        input_file = os.path.join(input_folder, filename)\n",
    "        recover_LOTUS_data(input_file, output_folder)"
   ]
  },
  {
   "cell_type": "markdown",
   "metadata": {},
   "source": [
    "RECOVER THE FRECUENCE BY CHEMICAL CLASS AND ADDED TO THE GENERAL TABLE"
   ]
  },
  {
   "cell_type": "code",
   "execution_count": 14,
   "metadata": {},
   "outputs": [
    {
     "name": "stdout",
     "output_type": "stream",
     "text": [
      "CSV file updated in the input folder.\n"
     ]
    },
    {
     "data": {
      "text/html": [
       "<div>\n",
       "<style scoped>\n",
       "    .dataframe tbody tr th:only-of-type {\n",
       "        vertical-align: middle;\n",
       "    }\n",
       "\n",
       "    .dataframe tbody tr th {\n",
       "        vertical-align: top;\n",
       "    }\n",
       "\n",
       "    .dataframe thead th {\n",
       "        text-align: right;\n",
       "    }\n",
       "</style>\n",
       "<table border=\"1\" class=\"dataframe\">\n",
       "  <thead>\n",
       "    <tr style=\"text-align: right;\">\n",
       "      <th></th>\n",
       "      <th>Species|part</th>\n",
       "      <th>Family</th>\n",
       "      <th>Genus</th>\n",
       "      <th>source_taxon</th>\n",
       "      <th>Part</th>\n",
       "      <th>Sscode</th>\n",
       "      <th>Extracto</th>\n",
       "      <th>matched_name</th>\n",
       "      <th>taxon.synonyms</th>\n",
       "      <th>NCBITaxonomy</th>\n",
       "      <th>...</th>\n",
       "      <th>query_otol_family</th>\n",
       "      <th>query_otol_genus</th>\n",
       "      <th>query_otol_species</th>\n",
       "      <th>Reported_comp_Species_x</th>\n",
       "      <th>Reported_comp_Genus</th>\n",
       "      <th>Reported_comp_Family</th>\n",
       "      <th>wikidata_Qcode_hyperlink</th>\n",
       "      <th>predicted_class</th>\n",
       "      <th>predicted_superclass</th>\n",
       "      <th>Reported_comp_Species_y</th>\n",
       "    </tr>\n",
       "  </thead>\n",
       "  <tbody>\n",
       "    <tr>\n",
       "      <th>0</th>\n",
       "      <td>Acacia hayesii|L</td>\n",
       "      <td>fabaceae/mim.</td>\n",
       "      <td>Acacia</td>\n",
       "      <td>Acacia hayesii</td>\n",
       "      <td>L</td>\n",
       "      <td>93873</td>\n",
       "      <td>84975</td>\n",
       "      <td>Acacia hayesii</td>\n",
       "      <td>['Acacia acanthophylla', 'Acacia telensis', 'S...</td>\n",
       "      <td>1504162|Acacia hayesii</td>\n",
       "      <td>...</td>\n",
       "      <td>Fabaceae</td>\n",
       "      <td>Acacia</td>\n",
       "      <td>Acacia hayesii</td>\n",
       "      <td>0.0</td>\n",
       "      <td>65.0</td>\n",
       "      <td>430.0</td>\n",
       "      <td>http://www.wikidata.org/entity/Q15287263</td>\n",
       "      <td></td>\n",
       "      <td></td>\n",
       "      <td>NaN</td>\n",
       "    </tr>\n",
       "    <tr>\n",
       "      <th>1</th>\n",
       "      <td>Acalypha arvensis|WP</td>\n",
       "      <td>euphorbiaceae</td>\n",
       "      <td>Acalypha</td>\n",
       "      <td>Acalypha aristata</td>\n",
       "      <td>WP</td>\n",
       "      <td>94094</td>\n",
       "      <td>85196</td>\n",
       "      <td>Acalypha arvensis</td>\n",
       "      <td>['Acalypha arvensis', 'Acalypha arvensis belan...</td>\n",
       "      <td>NaN</td>\n",
       "      <td>...</td>\n",
       "      <td>Euphorbiaceae</td>\n",
       "      <td>Acalypha</td>\n",
       "      <td>Acalypha aristata</td>\n",
       "      <td>0.0</td>\n",
       "      <td>423.0</td>\n",
       "      <td>3201.0</td>\n",
       "      <td>http://www.wikidata.org/entity/Q8186515</td>\n",
       "      <td></td>\n",
       "      <td></td>\n",
       "      <td>NaN</td>\n",
       "    </tr>\n",
       "    <tr>\n",
       "      <th>2</th>\n",
       "      <td>Acrocomia aculeata|L</td>\n",
       "      <td>arecaceae</td>\n",
       "      <td>Acrocomia</td>\n",
       "      <td>Acrocomia aculeata</td>\n",
       "      <td>L</td>\n",
       "      <td>93911</td>\n",
       "      <td>85013/87684</td>\n",
       "      <td>Acrocomia aculeata</td>\n",
       "      <td>['Acrocomia antiguana', 'Acrocomia antioquiens...</td>\n",
       "      <td>169987|Acrocomia aculeata</td>\n",
       "      <td>...</td>\n",
       "      <td>Arecaceae</td>\n",
       "      <td>Acrocomia</td>\n",
       "      <td>Acrocomia aculeata</td>\n",
       "      <td>0.0</td>\n",
       "      <td>915.0</td>\n",
       "      <td>978.0</td>\n",
       "      <td>http://www.wikidata.org/entity/Q1882542</td>\n",
       "      <td>0 Disaccharides</td>\n",
       "      <td>0 Saccharides</td>\n",
       "      <td>1.0</td>\n",
       "    </tr>\n",
       "    <tr>\n",
       "      <th>3</th>\n",
       "      <td>Acrostichum aureum|L</td>\n",
       "      <td>pteridaceae</td>\n",
       "      <td>Acrostichum</td>\n",
       "      <td>Acrostichum aureum</td>\n",
       "      <td>L</td>\n",
       "      <td>93979</td>\n",
       "      <td>85081</td>\n",
       "      <td>Acrostichum aureum</td>\n",
       "      <td>['Acrostichum aureum hirsutum', 'Acrostichum a...</td>\n",
       "      <td>29594|Acrostichum aureum</td>\n",
       "      <td>...</td>\n",
       "      <td>Pteridaceae</td>\n",
       "      <td>Acrostichum</td>\n",
       "      <td>Acrostichum aureum</td>\n",
       "      <td>0.0</td>\n",
       "      <td>8.0</td>\n",
       "      <td>8.0</td>\n",
       "      <td>http://www.wikidata.org/entity/Q4676527</td>\n",
       "      <td>0 Illudalane sesquiterpenoids|1 Hydrocarbons</td>\n",
       "      <td>0 Sesquiterpenoids|1 Fatty acyls</td>\n",
       "      <td>5.0</td>\n",
       "    </tr>\n",
       "    <tr>\n",
       "      <th>4</th>\n",
       "      <td>Adelia triloba|AE</td>\n",
       "      <td>euphorbiaceae</td>\n",
       "      <td>Adelia</td>\n",
       "      <td>Adelia triloba</td>\n",
       "      <td>AE</td>\n",
       "      <td>93988</td>\n",
       "      <td>85090</td>\n",
       "      <td>Adelia triloba</td>\n",
       "      <td>['Ricinella triloba']</td>\n",
       "      <td>353064|Adelia triloba</td>\n",
       "      <td>...</td>\n",
       "      <td>Euphorbiaceae</td>\n",
       "      <td>Adelia</td>\n",
       "      <td>Adelia triloba</td>\n",
       "      <td>0.0</td>\n",
       "      <td>232.0</td>\n",
       "      <td>4337.0</td>\n",
       "      <td>http://www.wikidata.org/entity/Q5657528</td>\n",
       "      <td></td>\n",
       "      <td></td>\n",
       "      <td>NaN</td>\n",
       "    </tr>\n",
       "  </tbody>\n",
       "</table>\n",
       "<p>5 rows × 25 columns</p>\n",
       "</div>"
      ],
      "text/plain": [
       "           Species|part         Family        Genus        source_taxon Part  \\\n",
       "0      Acacia hayesii|L  fabaceae/mim.       Acacia      Acacia hayesii    L   \n",
       "1  Acalypha arvensis|WP  euphorbiaceae     Acalypha   Acalypha aristata   WP   \n",
       "2  Acrocomia aculeata|L      arecaceae    Acrocomia  Acrocomia aculeata    L   \n",
       "3  Acrostichum aureum|L    pteridaceae  Acrostichum  Acrostichum aureum    L   \n",
       "4     Adelia triloba|AE  euphorbiaceae       Adelia      Adelia triloba   AE   \n",
       "\n",
       "   Sscode     Extracto        matched_name  \\\n",
       "0   93873        84975      Acacia hayesii   \n",
       "1   94094        85196   Acalypha arvensis   \n",
       "2   93911  85013/87684  Acrocomia aculeata   \n",
       "3   93979        85081  Acrostichum aureum   \n",
       "4   93988        85090      Adelia triloba   \n",
       "\n",
       "                                      taxon.synonyms  \\\n",
       "0  ['Acacia acanthophylla', 'Acacia telensis', 'S...   \n",
       "1  ['Acalypha arvensis', 'Acalypha arvensis belan...   \n",
       "2  ['Acrocomia antiguana', 'Acrocomia antioquiens...   \n",
       "3  ['Acrostichum aureum hirsutum', 'Acrostichum a...   \n",
       "4                              ['Ricinella triloba']   \n",
       "\n",
       "                NCBITaxonomy  ...  query_otol_family query_otol_genus  \\\n",
       "0     1504162|Acacia hayesii  ...           Fabaceae           Acacia   \n",
       "1                        NaN  ...      Euphorbiaceae         Acalypha   \n",
       "2  169987|Acrocomia aculeata  ...          Arecaceae        Acrocomia   \n",
       "3   29594|Acrostichum aureum  ...        Pteridaceae      Acrostichum   \n",
       "4      353064|Adelia triloba  ...      Euphorbiaceae           Adelia   \n",
       "\n",
       "   query_otol_species Reported_comp_Species_x Reported_comp_Genus  \\\n",
       "0      Acacia hayesii                     0.0                65.0   \n",
       "1   Acalypha aristata                     0.0               423.0   \n",
       "2  Acrocomia aculeata                     0.0               915.0   \n",
       "3  Acrostichum aureum                     0.0                 8.0   \n",
       "4      Adelia triloba                     0.0               232.0   \n",
       "\n",
       "  Reported_comp_Family                  wikidata_Qcode_hyperlink  \\\n",
       "0                430.0  http://www.wikidata.org/entity/Q15287263   \n",
       "1               3201.0   http://www.wikidata.org/entity/Q8186515   \n",
       "2                978.0   http://www.wikidata.org/entity/Q1882542   \n",
       "3                  8.0   http://www.wikidata.org/entity/Q4676527   \n",
       "4               4337.0   http://www.wikidata.org/entity/Q5657528   \n",
       "\n",
       "                                predicted_class  \\\n",
       "0                                                 \n",
       "1                                                 \n",
       "2                               0 Disaccharides   \n",
       "3  0 Illudalane sesquiterpenoids|1 Hydrocarbons   \n",
       "4                                                 \n",
       "\n",
       "               predicted_superclass  Reported_comp_Species_y  \n",
       "0                                                        NaN  \n",
       "1                                                        NaN  \n",
       "2                     0 Saccharides                      1.0  \n",
       "3  0 Sesquiterpenoids|1 Fatty acyls                      5.0  \n",
       "4                                                        NaN  \n",
       "\n",
       "[5 rows x 25 columns]"
      ]
     },
     "execution_count": 14,
     "metadata": {},
     "output_type": "execute_result"
    }
   ],
   "source": [
    "processed_data = process_LOTUS_data(output_folder, input_folder, LOTUSDB_rc)\n",
    "processed_data.head()"
   ]
  },
  {
   "cell_type": "markdown",
   "metadata": {},
   "source": [
    "Generate une plot by species (samples) and the chemical class"
   ]
  },
  {
   "cell_type": "code",
   "execution_count": 4,
   "metadata": {},
   "outputs": [
    {
     "ename": "ValueError",
     "evalue": "No objects to concatenate",
     "output_type": "error",
     "traceback": [
      "\u001b[1;31m---------------------------------------------------------------------------\u001b[0m",
      "\u001b[1;31mValueError\u001b[0m                                Traceback (most recent call last)",
      "Cell \u001b[1;32mIn[4], line 1\u001b[0m\n\u001b[1;32m----> 1\u001b[0m barplot_sclass_species(output_folder)\n\u001b[0;32m      2\u001b[0m barplot_sclass_species_normalized(output_folder)\n",
      "Cell \u001b[1;32mIn[1], line 319\u001b[0m, in \u001b[0;36mbarplot_sclass_species\u001b[1;34m(output_folder)\u001b[0m\n\u001b[0;32m    309\u001b[0m \u001b[38;5;250m\u001b[39m\u001b[38;5;124;03m\"\"\"\u001b[39;00m\n\u001b[0;32m    310\u001b[0m \u001b[38;5;124;03mProcess data from .tsv files in the output folder and visualize it with a stacked barplot.\u001b[39;00m\n\u001b[0;32m    311\u001b[0m \n\u001b[1;32m   (...)\u001b[0m\n\u001b[0;32m    316\u001b[0m \u001b[38;5;124;03mNone\u001b[39;00m\n\u001b[0;32m    317\u001b[0m \u001b[38;5;124;03m\"\"\"\u001b[39;00m\n\u001b[0;32m    318\u001b[0m \u001b[38;5;66;03m# Step 1: Read data from all .tsv files in the output_folder\u001b[39;00m\n\u001b[1;32m--> 319\u001b[0m all_data \u001b[38;5;241m=\u001b[39m pd\u001b[38;5;241m.\u001b[39mconcat([pd\u001b[38;5;241m.\u001b[39mread_csv(os\u001b[38;5;241m.\u001b[39mpath\u001b[38;5;241m.\u001b[39mjoin(output_folder, filename), sep\u001b[38;5;241m=\u001b[39m\u001b[38;5;124m'\u001b[39m\u001b[38;5;130;01m\\t\u001b[39;00m\u001b[38;5;124m'\u001b[39m) \n\u001b[0;32m    320\u001b[0m                       \u001b[38;5;28;01mfor\u001b[39;00m filename \u001b[38;5;129;01min\u001b[39;00m os\u001b[38;5;241m.\u001b[39mlistdir(output_folder) \u001b[38;5;28;01mif\u001b[39;00m filename\u001b[38;5;241m.\u001b[39mendswith(\u001b[38;5;124m\"\u001b[39m\u001b[38;5;124m.tsv\u001b[39m\u001b[38;5;124m\"\u001b[39m)])\n\u001b[0;32m    322\u001b[0m \u001b[38;5;66;03m# Step 2: Rename the \"organism_taxonomy_09species\" column to \"species\"\u001b[39;00m\n\u001b[0;32m    323\u001b[0m all_data\u001b[38;5;241m.\u001b[39mrename(columns\u001b[38;5;241m=\u001b[39m{\u001b[38;5;124m'\u001b[39m\u001b[38;5;124morganism_taxonomy_09species\u001b[39m\u001b[38;5;124m'\u001b[39m: \u001b[38;5;124m'\u001b[39m\u001b[38;5;124mspecies\u001b[39m\u001b[38;5;124m'\u001b[39m}, inplace\u001b[38;5;241m=\u001b[39m\u001b[38;5;28;01mTrue\u001b[39;00m)\n",
      "File \u001b[1;32mc:\\Users\\quirosgu\\AppData\\Local\\anaconda3\\Lib\\site-packages\\pandas\\core\\reshape\\concat.py:380\u001b[0m, in \u001b[0;36mconcat\u001b[1;34m(objs, axis, join, ignore_index, keys, levels, names, verify_integrity, sort, copy)\u001b[0m\n\u001b[0;32m    377\u001b[0m \u001b[38;5;28;01melif\u001b[39;00m copy \u001b[38;5;129;01mand\u001b[39;00m using_copy_on_write():\n\u001b[0;32m    378\u001b[0m     copy \u001b[38;5;241m=\u001b[39m \u001b[38;5;28;01mFalse\u001b[39;00m\n\u001b[1;32m--> 380\u001b[0m op \u001b[38;5;241m=\u001b[39m _Concatenator(\n\u001b[0;32m    381\u001b[0m     objs,\n\u001b[0;32m    382\u001b[0m     axis\u001b[38;5;241m=\u001b[39maxis,\n\u001b[0;32m    383\u001b[0m     ignore_index\u001b[38;5;241m=\u001b[39mignore_index,\n\u001b[0;32m    384\u001b[0m     join\u001b[38;5;241m=\u001b[39mjoin,\n\u001b[0;32m    385\u001b[0m     keys\u001b[38;5;241m=\u001b[39mkeys,\n\u001b[0;32m    386\u001b[0m     levels\u001b[38;5;241m=\u001b[39mlevels,\n\u001b[0;32m    387\u001b[0m     names\u001b[38;5;241m=\u001b[39mnames,\n\u001b[0;32m    388\u001b[0m     verify_integrity\u001b[38;5;241m=\u001b[39mverify_integrity,\n\u001b[0;32m    389\u001b[0m     copy\u001b[38;5;241m=\u001b[39mcopy,\n\u001b[0;32m    390\u001b[0m     sort\u001b[38;5;241m=\u001b[39msort,\n\u001b[0;32m    391\u001b[0m )\n\u001b[0;32m    393\u001b[0m \u001b[38;5;28;01mreturn\u001b[39;00m op\u001b[38;5;241m.\u001b[39mget_result()\n",
      "File \u001b[1;32mc:\\Users\\quirosgu\\AppData\\Local\\anaconda3\\Lib\\site-packages\\pandas\\core\\reshape\\concat.py:443\u001b[0m, in \u001b[0;36m_Concatenator.__init__\u001b[1;34m(self, objs, axis, join, keys, levels, names, ignore_index, verify_integrity, copy, sort)\u001b[0m\n\u001b[0;32m    440\u001b[0m \u001b[38;5;28mself\u001b[39m\u001b[38;5;241m.\u001b[39mverify_integrity \u001b[38;5;241m=\u001b[39m verify_integrity\n\u001b[0;32m    441\u001b[0m \u001b[38;5;28mself\u001b[39m\u001b[38;5;241m.\u001b[39mcopy \u001b[38;5;241m=\u001b[39m copy\n\u001b[1;32m--> 443\u001b[0m objs, keys \u001b[38;5;241m=\u001b[39m \u001b[38;5;28mself\u001b[39m\u001b[38;5;241m.\u001b[39m_clean_keys_and_objs(objs, keys)\n\u001b[0;32m    445\u001b[0m \u001b[38;5;66;03m# figure out what our result ndim is going to be\u001b[39;00m\n\u001b[0;32m    446\u001b[0m ndims \u001b[38;5;241m=\u001b[39m \u001b[38;5;28mself\u001b[39m\u001b[38;5;241m.\u001b[39m_get_ndims(objs)\n",
      "File \u001b[1;32mc:\\Users\\quirosgu\\AppData\\Local\\anaconda3\\Lib\\site-packages\\pandas\\core\\reshape\\concat.py:505\u001b[0m, in \u001b[0;36m_Concatenator._clean_keys_and_objs\u001b[1;34m(self, objs, keys)\u001b[0m\n\u001b[0;32m    502\u001b[0m     objs_list \u001b[38;5;241m=\u001b[39m \u001b[38;5;28mlist\u001b[39m(objs)\n\u001b[0;32m    504\u001b[0m \u001b[38;5;28;01mif\u001b[39;00m \u001b[38;5;28mlen\u001b[39m(objs_list) \u001b[38;5;241m==\u001b[39m \u001b[38;5;241m0\u001b[39m:\n\u001b[1;32m--> 505\u001b[0m     \u001b[38;5;28;01mraise\u001b[39;00m \u001b[38;5;167;01mValueError\u001b[39;00m(\u001b[38;5;124m\"\u001b[39m\u001b[38;5;124mNo objects to concatenate\u001b[39m\u001b[38;5;124m\"\u001b[39m)\n\u001b[0;32m    507\u001b[0m \u001b[38;5;28;01mif\u001b[39;00m keys \u001b[38;5;129;01mis\u001b[39;00m \u001b[38;5;28;01mNone\u001b[39;00m:\n\u001b[0;32m    508\u001b[0m     objs_list \u001b[38;5;241m=\u001b[39m \u001b[38;5;28mlist\u001b[39m(com\u001b[38;5;241m.\u001b[39mnot_none(\u001b[38;5;241m*\u001b[39mobjs_list))\n",
      "\u001b[1;31mValueError\u001b[0m: No objects to concatenate"
     ]
    }
   ],
   "source": [
    "barplot_sclass_species(output_folder)\n",
    "barplot_sclass_species_normalized(output_folder)"
   ]
  },
  {
   "cell_type": "markdown",
   "metadata": {},
   "source": [
    "# BARPLOT PATHWAY - SPECIES "
   ]
  },
  {
   "cell_type": "code",
   "execution_count": 58,
   "metadata": {},
   "outputs": [
    {
     "name": "stderr",
     "output_type": "stream",
     "text": [
      "C:\\Users\\quirosgu\\AppData\\Local\\Temp\\ipykernel_16932\\3574602687.py:514: FutureWarning:\n",
      "\n",
      "The behavior of DataFrame concatenation with empty or all-NA entries is deprecated. In a future version, this will no longer exclude empty or all-NA columns when determining the result dtypes. To retain the old behavior, exclude the relevant entries before the concat operation.\n",
      "\n",
      "C:\\Users\\quirosgu\\AppData\\Local\\Temp\\ipykernel_16932\\3574602687.py:514: FutureWarning:\n",
      "\n",
      "The behavior of DataFrame concatenation with empty or all-NA entries is deprecated. In a future version, this will no longer exclude empty or all-NA columns when determining the result dtypes. To retain the old behavior, exclude the relevant entries before the concat operation.\n",
      "\n",
      "C:\\Users\\quirosgu\\AppData\\Local\\Temp\\ipykernel_16932\\3574602687.py:536: FutureWarning:\n",
      "\n",
      "The default of observed=False is deprecated and will be changed to True in a future version of pandas. Pass observed=False to retain current behavior or observed=True to adopt the future default and silence this warning.\n",
      "\n"
     ]
    },
    {
     "data": {
      "application/vnd.plotly.v1+json": {
       "config": {
        "plotlyServerURL": "https://plot.ly"
       },
       "data": [
        {
         "alignmentgroup": "True",
         "hovertemplate": "Pathway=Alkaloids<br>Recurrence=%{x}<br>species=%{y}<extra></extra>",
         "legendgroup": "Alkaloids",
         "marker": {
          "color": "#305F72",
          "pattern": {
           "shape": ""
          }
         },
         "name": "Alkaloids",
         "offsetgroup": "Alkaloids",
         "orientation": "h",
         "showlegend": true,
         "textposition": "auto",
         "type": "bar",
         "x": [
          9,
          119,
          8
         ],
         "xaxis": "x",
         "y": [
          "Aristolochia argentina",
          "Buxus sempervirens",
          "Zanthoxylum coco"
         ],
         "yaxis": "y"
        },
        {
         "alignmentgroup": "True",
         "hovertemplate": "Pathway=Fatty acids<br>Recurrence=%{x}<br>species=%{y}<extra></extra>",
         "legendgroup": "Fatty acids",
         "marker": {
          "color": "#FF6C22",
          "pattern": {
           "shape": ""
          }
         },
         "name": "Fatty acids",
         "offsetgroup": "Fatty acids",
         "orientation": "h",
         "showlegend": true,
         "textposition": "auto",
         "type": "bar",
         "x": [
          4,
          1,
          1
         ],
         "xaxis": "x",
         "y": [
          "Ambrosia artemisiifolia",
          "Buxus sempervirens",
          "Vernonanthura nudiflora"
         ],
         "yaxis": "y"
        },
        {
         "alignmentgroup": "True",
         "hovertemplate": "Pathway=Polyketides<br>Recurrence=%{x}<br>species=%{y}<extra></extra>",
         "legendgroup": "Polyketides",
         "marker": {
          "color": "#EF4B4B",
          "pattern": {
           "shape": ""
          }
         },
         "name": "Polyketides",
         "offsetgroup": "Polyketides",
         "orientation": "h",
         "showlegend": true,
         "textposition": "auto",
         "type": "bar",
         "x": [
          5
         ],
         "xaxis": "x",
         "y": [
          "Ophryosporus charua"
         ],
         "yaxis": "y"
        },
        {
         "alignmentgroup": "True",
         "hovertemplate": "Pathway=Shikimates and Phenylpropanoids<br>Recurrence=%{x}<br>species=%{y}<extra></extra>",
         "legendgroup": "Shikimates and Phenylpropanoids",
         "marker": {
          "color": "#80558C",
          "pattern": {
           "shape": ""
          }
         },
         "name": "Shikimates and Phenylpropanoids",
         "offsetgroup": "Shikimates and Phenylpropanoids",
         "orientation": "h",
         "showlegend": true,
         "textposition": "auto",
         "type": "bar",
         "x": [
          2,
          7,
          1,
          3,
          2,
          4,
          6,
          13,
          4,
          2
         ],
         "xaxis": "x",
         "y": [
          "Ambrosia artemisiifolia",
          "Anthemis cotula",
          "Aristolochia argentina",
          "Buxus sempervirens",
          "Gaillardia megapotamica",
          "Microliabum candidum",
          "Ophryosporus charua",
          "Petunia axillaris",
          "Vernonanthura nudiflora",
          "Zanthoxylum coco"
         ],
         "yaxis": "y"
        },
        {
         "alignmentgroup": "True",
         "hovertemplate": "Pathway=Terpenoids<br>Recurrence=%{x}<br>species=%{y}<extra></extra>",
         "legendgroup": "Terpenoids",
         "marker": {
          "color": "#618264",
          "pattern": {
           "shape": ""
          }
         },
         "name": "Terpenoids",
         "offsetgroup": "Terpenoids",
         "orientation": "h",
         "showlegend": true,
         "textposition": "auto",
         "type": "bar",
         "x": [
          48,
          27,
          7,
          3,
          5,
          21,
          20,
          16,
          1
         ],
         "xaxis": "x",
         "y": [
          "Ambrosia artemisiifolia",
          "Anthemis cotula",
          "Buxus sempervirens",
          "Gaillardia megapotamica",
          "Microliabum candidum",
          "Ophryosporus charua",
          "Petunia axillaris",
          "Vernonanthura nudiflora",
          "Zanthoxylum coco"
         ],
         "yaxis": "y"
        }
       ],
       "layout": {
        "barmode": "relative",
        "height": 1500,
        "legend": {
         "title": {
          "text": "Pathway"
         },
         "tracegroupgap": 0
        },
        "plot_bgcolor": "white",
        "template": {
         "data": {
          "bar": [
           {
            "error_x": {
             "color": "#2a3f5f"
            },
            "error_y": {
             "color": "#2a3f5f"
            },
            "marker": {
             "line": {
              "color": "#E5ECF6",
              "width": 0.5
             },
             "pattern": {
              "fillmode": "overlay",
              "size": 10,
              "solidity": 0.2
             }
            },
            "type": "bar"
           }
          ],
          "barpolar": [
           {
            "marker": {
             "line": {
              "color": "#E5ECF6",
              "width": 0.5
             },
             "pattern": {
              "fillmode": "overlay",
              "size": 10,
              "solidity": 0.2
             }
            },
            "type": "barpolar"
           }
          ],
          "carpet": [
           {
            "aaxis": {
             "endlinecolor": "#2a3f5f",
             "gridcolor": "white",
             "linecolor": "white",
             "minorgridcolor": "white",
             "startlinecolor": "#2a3f5f"
            },
            "baxis": {
             "endlinecolor": "#2a3f5f",
             "gridcolor": "white",
             "linecolor": "white",
             "minorgridcolor": "white",
             "startlinecolor": "#2a3f5f"
            },
            "type": "carpet"
           }
          ],
          "choropleth": [
           {
            "colorbar": {
             "outlinewidth": 0,
             "ticks": ""
            },
            "type": "choropleth"
           }
          ],
          "contour": [
           {
            "colorbar": {
             "outlinewidth": 0,
             "ticks": ""
            },
            "colorscale": [
             [
              0,
              "#0d0887"
             ],
             [
              0.1111111111111111,
              "#46039f"
             ],
             [
              0.2222222222222222,
              "#7201a8"
             ],
             [
              0.3333333333333333,
              "#9c179e"
             ],
             [
              0.4444444444444444,
              "#bd3786"
             ],
             [
              0.5555555555555556,
              "#d8576b"
             ],
             [
              0.6666666666666666,
              "#ed7953"
             ],
             [
              0.7777777777777778,
              "#fb9f3a"
             ],
             [
              0.8888888888888888,
              "#fdca26"
             ],
             [
              1,
              "#f0f921"
             ]
            ],
            "type": "contour"
           }
          ],
          "contourcarpet": [
           {
            "colorbar": {
             "outlinewidth": 0,
             "ticks": ""
            },
            "type": "contourcarpet"
           }
          ],
          "heatmap": [
           {
            "colorbar": {
             "outlinewidth": 0,
             "ticks": ""
            },
            "colorscale": [
             [
              0,
              "#0d0887"
             ],
             [
              0.1111111111111111,
              "#46039f"
             ],
             [
              0.2222222222222222,
              "#7201a8"
             ],
             [
              0.3333333333333333,
              "#9c179e"
             ],
             [
              0.4444444444444444,
              "#bd3786"
             ],
             [
              0.5555555555555556,
              "#d8576b"
             ],
             [
              0.6666666666666666,
              "#ed7953"
             ],
             [
              0.7777777777777778,
              "#fb9f3a"
             ],
             [
              0.8888888888888888,
              "#fdca26"
             ],
             [
              1,
              "#f0f921"
             ]
            ],
            "type": "heatmap"
           }
          ],
          "heatmapgl": [
           {
            "colorbar": {
             "outlinewidth": 0,
             "ticks": ""
            },
            "colorscale": [
             [
              0,
              "#0d0887"
             ],
             [
              0.1111111111111111,
              "#46039f"
             ],
             [
              0.2222222222222222,
              "#7201a8"
             ],
             [
              0.3333333333333333,
              "#9c179e"
             ],
             [
              0.4444444444444444,
              "#bd3786"
             ],
             [
              0.5555555555555556,
              "#d8576b"
             ],
             [
              0.6666666666666666,
              "#ed7953"
             ],
             [
              0.7777777777777778,
              "#fb9f3a"
             ],
             [
              0.8888888888888888,
              "#fdca26"
             ],
             [
              1,
              "#f0f921"
             ]
            ],
            "type": "heatmapgl"
           }
          ],
          "histogram": [
           {
            "marker": {
             "pattern": {
              "fillmode": "overlay",
              "size": 10,
              "solidity": 0.2
             }
            },
            "type": "histogram"
           }
          ],
          "histogram2d": [
           {
            "colorbar": {
             "outlinewidth": 0,
             "ticks": ""
            },
            "colorscale": [
             [
              0,
              "#0d0887"
             ],
             [
              0.1111111111111111,
              "#46039f"
             ],
             [
              0.2222222222222222,
              "#7201a8"
             ],
             [
              0.3333333333333333,
              "#9c179e"
             ],
             [
              0.4444444444444444,
              "#bd3786"
             ],
             [
              0.5555555555555556,
              "#d8576b"
             ],
             [
              0.6666666666666666,
              "#ed7953"
             ],
             [
              0.7777777777777778,
              "#fb9f3a"
             ],
             [
              0.8888888888888888,
              "#fdca26"
             ],
             [
              1,
              "#f0f921"
             ]
            ],
            "type": "histogram2d"
           }
          ],
          "histogram2dcontour": [
           {
            "colorbar": {
             "outlinewidth": 0,
             "ticks": ""
            },
            "colorscale": [
             [
              0,
              "#0d0887"
             ],
             [
              0.1111111111111111,
              "#46039f"
             ],
             [
              0.2222222222222222,
              "#7201a8"
             ],
             [
              0.3333333333333333,
              "#9c179e"
             ],
             [
              0.4444444444444444,
              "#bd3786"
             ],
             [
              0.5555555555555556,
              "#d8576b"
             ],
             [
              0.6666666666666666,
              "#ed7953"
             ],
             [
              0.7777777777777778,
              "#fb9f3a"
             ],
             [
              0.8888888888888888,
              "#fdca26"
             ],
             [
              1,
              "#f0f921"
             ]
            ],
            "type": "histogram2dcontour"
           }
          ],
          "mesh3d": [
           {
            "colorbar": {
             "outlinewidth": 0,
             "ticks": ""
            },
            "type": "mesh3d"
           }
          ],
          "parcoords": [
           {
            "line": {
             "colorbar": {
              "outlinewidth": 0,
              "ticks": ""
             }
            },
            "type": "parcoords"
           }
          ],
          "pie": [
           {
            "automargin": true,
            "type": "pie"
           }
          ],
          "scatter": [
           {
            "fillpattern": {
             "fillmode": "overlay",
             "size": 10,
             "solidity": 0.2
            },
            "type": "scatter"
           }
          ],
          "scatter3d": [
           {
            "line": {
             "colorbar": {
              "outlinewidth": 0,
              "ticks": ""
             }
            },
            "marker": {
             "colorbar": {
              "outlinewidth": 0,
              "ticks": ""
             }
            },
            "type": "scatter3d"
           }
          ],
          "scattercarpet": [
           {
            "marker": {
             "colorbar": {
              "outlinewidth": 0,
              "ticks": ""
             }
            },
            "type": "scattercarpet"
           }
          ],
          "scattergeo": [
           {
            "marker": {
             "colorbar": {
              "outlinewidth": 0,
              "ticks": ""
             }
            },
            "type": "scattergeo"
           }
          ],
          "scattergl": [
           {
            "marker": {
             "colorbar": {
              "outlinewidth": 0,
              "ticks": ""
             }
            },
            "type": "scattergl"
           }
          ],
          "scattermapbox": [
           {
            "marker": {
             "colorbar": {
              "outlinewidth": 0,
              "ticks": ""
             }
            },
            "type": "scattermapbox"
           }
          ],
          "scatterpolar": [
           {
            "marker": {
             "colorbar": {
              "outlinewidth": 0,
              "ticks": ""
             }
            },
            "type": "scatterpolar"
           }
          ],
          "scatterpolargl": [
           {
            "marker": {
             "colorbar": {
              "outlinewidth": 0,
              "ticks": ""
             }
            },
            "type": "scatterpolargl"
           }
          ],
          "scatterternary": [
           {
            "marker": {
             "colorbar": {
              "outlinewidth": 0,
              "ticks": ""
             }
            },
            "type": "scatterternary"
           }
          ],
          "surface": [
           {
            "colorbar": {
             "outlinewidth": 0,
             "ticks": ""
            },
            "colorscale": [
             [
              0,
              "#0d0887"
             ],
             [
              0.1111111111111111,
              "#46039f"
             ],
             [
              0.2222222222222222,
              "#7201a8"
             ],
             [
              0.3333333333333333,
              "#9c179e"
             ],
             [
              0.4444444444444444,
              "#bd3786"
             ],
             [
              0.5555555555555556,
              "#d8576b"
             ],
             [
              0.6666666666666666,
              "#ed7953"
             ],
             [
              0.7777777777777778,
              "#fb9f3a"
             ],
             [
              0.8888888888888888,
              "#fdca26"
             ],
             [
              1,
              "#f0f921"
             ]
            ],
            "type": "surface"
           }
          ],
          "table": [
           {
            "cells": {
             "fill": {
              "color": "#EBF0F8"
             },
             "line": {
              "color": "white"
             }
            },
            "header": {
             "fill": {
              "color": "#C8D4E3"
             },
             "line": {
              "color": "white"
             }
            },
            "type": "table"
           }
          ]
         },
         "layout": {
          "annotationdefaults": {
           "arrowcolor": "#2a3f5f",
           "arrowhead": 0,
           "arrowwidth": 1
          },
          "autotypenumbers": "strict",
          "coloraxis": {
           "colorbar": {
            "outlinewidth": 0,
            "ticks": ""
           }
          },
          "colorscale": {
           "diverging": [
            [
             0,
             "#8e0152"
            ],
            [
             0.1,
             "#c51b7d"
            ],
            [
             0.2,
             "#de77ae"
            ],
            [
             0.3,
             "#f1b6da"
            ],
            [
             0.4,
             "#fde0ef"
            ],
            [
             0.5,
             "#f7f7f7"
            ],
            [
             0.6,
             "#e6f5d0"
            ],
            [
             0.7,
             "#b8e186"
            ],
            [
             0.8,
             "#7fbc41"
            ],
            [
             0.9,
             "#4d9221"
            ],
            [
             1,
             "#276419"
            ]
           ],
           "sequential": [
            [
             0,
             "#0d0887"
            ],
            [
             0.1111111111111111,
             "#46039f"
            ],
            [
             0.2222222222222222,
             "#7201a8"
            ],
            [
             0.3333333333333333,
             "#9c179e"
            ],
            [
             0.4444444444444444,
             "#bd3786"
            ],
            [
             0.5555555555555556,
             "#d8576b"
            ],
            [
             0.6666666666666666,
             "#ed7953"
            ],
            [
             0.7777777777777778,
             "#fb9f3a"
            ],
            [
             0.8888888888888888,
             "#fdca26"
            ],
            [
             1,
             "#f0f921"
            ]
           ],
           "sequentialminus": [
            [
             0,
             "#0d0887"
            ],
            [
             0.1111111111111111,
             "#46039f"
            ],
            [
             0.2222222222222222,
             "#7201a8"
            ],
            [
             0.3333333333333333,
             "#9c179e"
            ],
            [
             0.4444444444444444,
             "#bd3786"
            ],
            [
             0.5555555555555556,
             "#d8576b"
            ],
            [
             0.6666666666666666,
             "#ed7953"
            ],
            [
             0.7777777777777778,
             "#fb9f3a"
            ],
            [
             0.8888888888888888,
             "#fdca26"
            ],
            [
             1,
             "#f0f921"
            ]
           ]
          },
          "colorway": [
           "#636efa",
           "#EF553B",
           "#00cc96",
           "#ab63fa",
           "#FFA15A",
           "#19d3f3",
           "#FF6692",
           "#B6E880",
           "#FF97FF",
           "#FECB52"
          ],
          "font": {
           "color": "#2a3f5f"
          },
          "geo": {
           "bgcolor": "white",
           "lakecolor": "white",
           "landcolor": "#E5ECF6",
           "showlakes": true,
           "showland": true,
           "subunitcolor": "white"
          },
          "hoverlabel": {
           "align": "left"
          },
          "hovermode": "closest",
          "mapbox": {
           "style": "light"
          },
          "paper_bgcolor": "white",
          "plot_bgcolor": "#E5ECF6",
          "polar": {
           "angularaxis": {
            "gridcolor": "white",
            "linecolor": "white",
            "ticks": ""
           },
           "bgcolor": "#E5ECF6",
           "radialaxis": {
            "gridcolor": "white",
            "linecolor": "white",
            "ticks": ""
           }
          },
          "scene": {
           "xaxis": {
            "backgroundcolor": "#E5ECF6",
            "gridcolor": "white",
            "gridwidth": 2,
            "linecolor": "white",
            "showbackground": true,
            "ticks": "",
            "zerolinecolor": "white"
           },
           "yaxis": {
            "backgroundcolor": "#E5ECF6",
            "gridcolor": "white",
            "gridwidth": 2,
            "linecolor": "white",
            "showbackground": true,
            "ticks": "",
            "zerolinecolor": "white"
           },
           "zaxis": {
            "backgroundcolor": "#E5ECF6",
            "gridcolor": "white",
            "gridwidth": 2,
            "linecolor": "white",
            "showbackground": true,
            "ticks": "",
            "zerolinecolor": "white"
           }
          },
          "shapedefaults": {
           "line": {
            "color": "#2a3f5f"
           }
          },
          "ternary": {
           "aaxis": {
            "gridcolor": "white",
            "linecolor": "white",
            "ticks": ""
           },
           "baxis": {
            "gridcolor": "white",
            "linecolor": "white",
            "ticks": ""
           },
           "bgcolor": "#E5ECF6",
           "caxis": {
            "gridcolor": "white",
            "linecolor": "white",
            "ticks": ""
           }
          },
          "title": {
           "x": 0.05
          },
          "xaxis": {
           "automargin": true,
           "gridcolor": "white",
           "linecolor": "white",
           "ticks": "",
           "title": {
            "standoff": 15
           },
           "zerolinecolor": "white",
           "zerolinewidth": 2
          },
          "yaxis": {
           "automargin": true,
           "gridcolor": "white",
           "linecolor": "white",
           "ticks": "",
           "title": {
            "standoff": 15
           },
           "zerolinecolor": "white",
           "zerolinewidth": 2
          }
         }
        },
        "title": {
         "text": "Stacked Barplot of Predicted Pathways Ocurrence for Species"
        },
        "width": 1500,
        "xaxis": {
         "anchor": "y",
         "domain": [
          0,
          1
         ],
         "title": {
          "text": "Recurrence"
         }
        },
        "yaxis": {
         "anchor": "x",
         "categoryarray": [
          "Zanthoxylum coco",
          "Vernonanthura nudiflora",
          "Petunia axillaris",
          "Ophryosporus charua",
          "Microliabum candidum",
          "Gaillardia megapotamica",
          "Buxus sempervirens",
          "Aristolochia argentina",
          "Anthemis cotula",
          "Ambrosia artemisiifolia"
         ],
         "categoryorder": "array",
         "domain": [
          0,
          1
         ],
         "tickmode": "array",
         "ticktext": [
          "<i>Ambrosia artemisiifolia</i>",
          "<i>Anthemis cotula</i>",
          "<i>Aristolochia argentina</i>",
          "<i>Buxus sempervirens</i>",
          "<i>Gaillardia megapotamica</i>",
          "<i>Microliabum candidum</i>",
          "<i>Ophryosporus charua</i>",
          "<i>Petunia axillaris</i>",
          "<i>Vernonanthura nudiflora</i>",
          "<i>Zanthoxylum coco</i>"
         ],
         "tickvals": [
          0,
          1,
          2,
          3,
          4,
          5,
          6,
          7,
          8,
          9
         ],
         "title": {
          "text": "<i>Species<i>"
         }
        }
       }
      }
     },
     "metadata": {},
     "output_type": "display_data"
    },
    {
     "name": "stderr",
     "output_type": "stream",
     "text": [
      "C:\\Users\\quirosgu\\AppData\\Local\\Temp\\ipykernel_16932\\3574602687.py:598: FutureWarning:\n",
      "\n",
      "The behavior of DataFrame concatenation with empty or all-NA entries is deprecated. In a future version, this will no longer exclude empty or all-NA columns when determining the result dtypes. To retain the old behavior, exclude the relevant entries before the concat operation.\n",
      "\n",
      "C:\\Users\\quirosgu\\AppData\\Local\\Temp\\ipykernel_16932\\3574602687.py:598: FutureWarning:\n",
      "\n",
      "The behavior of DataFrame concatenation with empty or all-NA entries is deprecated. In a future version, this will no longer exclude empty or all-NA columns when determining the result dtypes. To retain the old behavior, exclude the relevant entries before the concat operation.\n",
      "\n",
      "C:\\Users\\quirosgu\\AppData\\Local\\Temp\\ipykernel_16932\\3574602687.py:623: FutureWarning:\n",
      "\n",
      "The default of observed=False is deprecated and will be changed to True in a future version of pandas. Pass observed=False to retain current behavior or observed=True to adopt the future default and silence this warning.\n",
      "\n"
     ]
    },
    {
     "data": {
      "application/vnd.plotly.v1+json": {
       "config": {
        "plotlyServerURL": "https://plot.ly"
       },
       "data": [
        {
         "alignmentgroup": "True",
         "hovertemplate": "Pathway=Alkaloids<br>Recurrence=%{x}<br>species=%{y}<extra></extra>",
         "legendgroup": "Alkaloids",
         "marker": {
          "color": "#305F72",
          "pattern": {
           "shape": ""
          }
         },
         "name": "Alkaloids",
         "offsetgroup": "Alkaloids",
         "orientation": "h",
         "showlegend": true,
         "textposition": "auto",
         "type": "bar",
         "x": [
          90,
          91.53846153846153,
          72.72727272727273
         ],
         "xaxis": "x",
         "y": [
          "Aristolochia argentina",
          "Buxus sempervirens",
          "Zanthoxylum coco"
         ],
         "yaxis": "y"
        },
        {
         "alignmentgroup": "True",
         "hovertemplate": "Pathway=Fatty acids<br>Recurrence=%{x}<br>species=%{y}<extra></extra>",
         "legendgroup": "Fatty acids",
         "marker": {
          "color": "#FF6C22",
          "pattern": {
           "shape": ""
          }
         },
         "name": "Fatty acids",
         "offsetgroup": "Fatty acids",
         "orientation": "h",
         "showlegend": true,
         "textposition": "auto",
         "type": "bar",
         "x": [
          7.4074074074074066,
          0.7692307692307693,
          4.761904761904762
         ],
         "xaxis": "x",
         "y": [
          "Ambrosia artemisiifolia",
          "Buxus sempervirens",
          "Vernonanthura nudiflora"
         ],
         "yaxis": "y"
        },
        {
         "alignmentgroup": "True",
         "hovertemplate": "Pathway=Polyketides<br>Recurrence=%{x}<br>species=%{y}<extra></extra>",
         "legendgroup": "Polyketides",
         "marker": {
          "color": "#EF4B4B",
          "pattern": {
           "shape": ""
          }
         },
         "name": "Polyketides",
         "offsetgroup": "Polyketides",
         "orientation": "h",
         "showlegend": true,
         "textposition": "auto",
         "type": "bar",
         "x": [
          15.625
         ],
         "xaxis": "x",
         "y": [
          "Ophryosporus charua"
         ],
         "yaxis": "y"
        },
        {
         "alignmentgroup": "True",
         "hovertemplate": "Pathway=Shikimates and Phenylpropanoids<br>Recurrence=%{x}<br>species=%{y}<extra></extra>",
         "legendgroup": "Shikimates and Phenylpropanoids",
         "marker": {
          "color": "#80558C",
          "pattern": {
           "shape": ""
          }
         },
         "name": "Shikimates and Phenylpropanoids",
         "offsetgroup": "Shikimates and Phenylpropanoids",
         "orientation": "h",
         "showlegend": true,
         "textposition": "auto",
         "type": "bar",
         "x": [
          3.7037037037037033,
          20.588235294117645,
          10,
          2.307692307692308,
          40,
          44.44444444444444,
          18.75,
          39.39393939393939,
          19.047619047619047,
          18.181818181818183
         ],
         "xaxis": "x",
         "y": [
          "Ambrosia artemisiifolia",
          "Anthemis cotula",
          "Aristolochia argentina",
          "Buxus sempervirens",
          "Gaillardia megapotamica",
          "Microliabum candidum",
          "Ophryosporus charua",
          "Petunia axillaris",
          "Vernonanthura nudiflora",
          "Zanthoxylum coco"
         ],
         "yaxis": "y"
        },
        {
         "alignmentgroup": "True",
         "hovertemplate": "Pathway=Terpenoids<br>Recurrence=%{x}<br>species=%{y}<extra></extra>",
         "legendgroup": "Terpenoids",
         "marker": {
          "color": "#618264",
          "pattern": {
           "shape": ""
          }
         },
         "name": "Terpenoids",
         "offsetgroup": "Terpenoids",
         "orientation": "h",
         "showlegend": true,
         "textposition": "auto",
         "type": "bar",
         "x": [
          88.88888888888889,
          79.41176470588235,
          5.384615384615385,
          60,
          55.55555555555556,
          65.625,
          60.60606060606061,
          76.19047619047619,
          9.090909090909092
         ],
         "xaxis": "x",
         "y": [
          "Ambrosia artemisiifolia",
          "Anthemis cotula",
          "Buxus sempervirens",
          "Gaillardia megapotamica",
          "Microliabum candidum",
          "Ophryosporus charua",
          "Petunia axillaris",
          "Vernonanthura nudiflora",
          "Zanthoxylum coco"
         ],
         "yaxis": "y"
        }
       ],
       "layout": {
        "annotations": [
         {
          "font": {
           "color": "black",
           "size": 10
          },
          "showarrow": false,
          "text": "Total compounds: 54",
          "x": 93.53846153846153,
          "xanchor": "left",
          "y": "Ambrosia artemisiifolia",
          "yanchor": "middle"
         },
         {
          "font": {
           "color": "black",
           "size": 10
          },
          "showarrow": false,
          "text": "Total compounds: 34",
          "x": 93.53846153846153,
          "xanchor": "left",
          "y": "Anthemis cotula",
          "yanchor": "middle"
         },
         {
          "font": {
           "color": "black",
           "size": 10
          },
          "showarrow": false,
          "text": "Total compounds: 10",
          "x": 93.53846153846153,
          "xanchor": "left",
          "y": "Aristolochia argentina",
          "yanchor": "middle"
         },
         {
          "font": {
           "color": "black",
           "size": 10
          },
          "showarrow": false,
          "text": "Total compounds: 130",
          "x": 93.53846153846153,
          "xanchor": "left",
          "y": "Buxus sempervirens",
          "yanchor": "middle"
         },
         {
          "font": {
           "color": "black",
           "size": 10
          },
          "showarrow": false,
          "text": "Total compounds: 5",
          "x": 93.53846153846153,
          "xanchor": "left",
          "y": "Gaillardia megapotamica",
          "yanchor": "middle"
         },
         {
          "font": {
           "color": "black",
           "size": 10
          },
          "showarrow": false,
          "text": "Total compounds: 9",
          "x": 93.53846153846153,
          "xanchor": "left",
          "y": "Microliabum candidum",
          "yanchor": "middle"
         },
         {
          "font": {
           "color": "black",
           "size": 10
          },
          "showarrow": false,
          "text": "Total compounds: 32",
          "x": 93.53846153846153,
          "xanchor": "left",
          "y": "Ophryosporus charua",
          "yanchor": "middle"
         },
         {
          "font": {
           "color": "black",
           "size": 10
          },
          "showarrow": false,
          "text": "Total compounds: 33",
          "x": 93.53846153846153,
          "xanchor": "left",
          "y": "Petunia axillaris",
          "yanchor": "middle"
         },
         {
          "font": {
           "color": "black",
           "size": 10
          },
          "showarrow": false,
          "text": "Total compounds: 21",
          "x": 93.53846153846153,
          "xanchor": "left",
          "y": "Vernonanthura nudiflora",
          "yanchor": "middle"
         },
         {
          "font": {
           "color": "black",
           "size": 10
          },
          "showarrow": false,
          "text": "Total compounds: 11",
          "x": 93.53846153846153,
          "xanchor": "left",
          "y": "Zanthoxylum coco",
          "yanchor": "middle"
         }
        ],
        "barmode": "relative",
        "height": 1500,
        "legend": {
         "title": {
          "text": "Pathway"
         },
         "tracegroupgap": 0
        },
        "plot_bgcolor": "white",
        "template": {
         "data": {
          "bar": [
           {
            "error_x": {
             "color": "#2a3f5f"
            },
            "error_y": {
             "color": "#2a3f5f"
            },
            "marker": {
             "line": {
              "color": "#E5ECF6",
              "width": 0.5
             },
             "pattern": {
              "fillmode": "overlay",
              "size": 10,
              "solidity": 0.2
             }
            },
            "type": "bar"
           }
          ],
          "barpolar": [
           {
            "marker": {
             "line": {
              "color": "#E5ECF6",
              "width": 0.5
             },
             "pattern": {
              "fillmode": "overlay",
              "size": 10,
              "solidity": 0.2
             }
            },
            "type": "barpolar"
           }
          ],
          "carpet": [
           {
            "aaxis": {
             "endlinecolor": "#2a3f5f",
             "gridcolor": "white",
             "linecolor": "white",
             "minorgridcolor": "white",
             "startlinecolor": "#2a3f5f"
            },
            "baxis": {
             "endlinecolor": "#2a3f5f",
             "gridcolor": "white",
             "linecolor": "white",
             "minorgridcolor": "white",
             "startlinecolor": "#2a3f5f"
            },
            "type": "carpet"
           }
          ],
          "choropleth": [
           {
            "colorbar": {
             "outlinewidth": 0,
             "ticks": ""
            },
            "type": "choropleth"
           }
          ],
          "contour": [
           {
            "colorbar": {
             "outlinewidth": 0,
             "ticks": ""
            },
            "colorscale": [
             [
              0,
              "#0d0887"
             ],
             [
              0.1111111111111111,
              "#46039f"
             ],
             [
              0.2222222222222222,
              "#7201a8"
             ],
             [
              0.3333333333333333,
              "#9c179e"
             ],
             [
              0.4444444444444444,
              "#bd3786"
             ],
             [
              0.5555555555555556,
              "#d8576b"
             ],
             [
              0.6666666666666666,
              "#ed7953"
             ],
             [
              0.7777777777777778,
              "#fb9f3a"
             ],
             [
              0.8888888888888888,
              "#fdca26"
             ],
             [
              1,
              "#f0f921"
             ]
            ],
            "type": "contour"
           }
          ],
          "contourcarpet": [
           {
            "colorbar": {
             "outlinewidth": 0,
             "ticks": ""
            },
            "type": "contourcarpet"
           }
          ],
          "heatmap": [
           {
            "colorbar": {
             "outlinewidth": 0,
             "ticks": ""
            },
            "colorscale": [
             [
              0,
              "#0d0887"
             ],
             [
              0.1111111111111111,
              "#46039f"
             ],
             [
              0.2222222222222222,
              "#7201a8"
             ],
             [
              0.3333333333333333,
              "#9c179e"
             ],
             [
              0.4444444444444444,
              "#bd3786"
             ],
             [
              0.5555555555555556,
              "#d8576b"
             ],
             [
              0.6666666666666666,
              "#ed7953"
             ],
             [
              0.7777777777777778,
              "#fb9f3a"
             ],
             [
              0.8888888888888888,
              "#fdca26"
             ],
             [
              1,
              "#f0f921"
             ]
            ],
            "type": "heatmap"
           }
          ],
          "heatmapgl": [
           {
            "colorbar": {
             "outlinewidth": 0,
             "ticks": ""
            },
            "colorscale": [
             [
              0,
              "#0d0887"
             ],
             [
              0.1111111111111111,
              "#46039f"
             ],
             [
              0.2222222222222222,
              "#7201a8"
             ],
             [
              0.3333333333333333,
              "#9c179e"
             ],
             [
              0.4444444444444444,
              "#bd3786"
             ],
             [
              0.5555555555555556,
              "#d8576b"
             ],
             [
              0.6666666666666666,
              "#ed7953"
             ],
             [
              0.7777777777777778,
              "#fb9f3a"
             ],
             [
              0.8888888888888888,
              "#fdca26"
             ],
             [
              1,
              "#f0f921"
             ]
            ],
            "type": "heatmapgl"
           }
          ],
          "histogram": [
           {
            "marker": {
             "pattern": {
              "fillmode": "overlay",
              "size": 10,
              "solidity": 0.2
             }
            },
            "type": "histogram"
           }
          ],
          "histogram2d": [
           {
            "colorbar": {
             "outlinewidth": 0,
             "ticks": ""
            },
            "colorscale": [
             [
              0,
              "#0d0887"
             ],
             [
              0.1111111111111111,
              "#46039f"
             ],
             [
              0.2222222222222222,
              "#7201a8"
             ],
             [
              0.3333333333333333,
              "#9c179e"
             ],
             [
              0.4444444444444444,
              "#bd3786"
             ],
             [
              0.5555555555555556,
              "#d8576b"
             ],
             [
              0.6666666666666666,
              "#ed7953"
             ],
             [
              0.7777777777777778,
              "#fb9f3a"
             ],
             [
              0.8888888888888888,
              "#fdca26"
             ],
             [
              1,
              "#f0f921"
             ]
            ],
            "type": "histogram2d"
           }
          ],
          "histogram2dcontour": [
           {
            "colorbar": {
             "outlinewidth": 0,
             "ticks": ""
            },
            "colorscale": [
             [
              0,
              "#0d0887"
             ],
             [
              0.1111111111111111,
              "#46039f"
             ],
             [
              0.2222222222222222,
              "#7201a8"
             ],
             [
              0.3333333333333333,
              "#9c179e"
             ],
             [
              0.4444444444444444,
              "#bd3786"
             ],
             [
              0.5555555555555556,
              "#d8576b"
             ],
             [
              0.6666666666666666,
              "#ed7953"
             ],
             [
              0.7777777777777778,
              "#fb9f3a"
             ],
             [
              0.8888888888888888,
              "#fdca26"
             ],
             [
              1,
              "#f0f921"
             ]
            ],
            "type": "histogram2dcontour"
           }
          ],
          "mesh3d": [
           {
            "colorbar": {
             "outlinewidth": 0,
             "ticks": ""
            },
            "type": "mesh3d"
           }
          ],
          "parcoords": [
           {
            "line": {
             "colorbar": {
              "outlinewidth": 0,
              "ticks": ""
             }
            },
            "type": "parcoords"
           }
          ],
          "pie": [
           {
            "automargin": true,
            "type": "pie"
           }
          ],
          "scatter": [
           {
            "fillpattern": {
             "fillmode": "overlay",
             "size": 10,
             "solidity": 0.2
            },
            "type": "scatter"
           }
          ],
          "scatter3d": [
           {
            "line": {
             "colorbar": {
              "outlinewidth": 0,
              "ticks": ""
             }
            },
            "marker": {
             "colorbar": {
              "outlinewidth": 0,
              "ticks": ""
             }
            },
            "type": "scatter3d"
           }
          ],
          "scattercarpet": [
           {
            "marker": {
             "colorbar": {
              "outlinewidth": 0,
              "ticks": ""
             }
            },
            "type": "scattercarpet"
           }
          ],
          "scattergeo": [
           {
            "marker": {
             "colorbar": {
              "outlinewidth": 0,
              "ticks": ""
             }
            },
            "type": "scattergeo"
           }
          ],
          "scattergl": [
           {
            "marker": {
             "colorbar": {
              "outlinewidth": 0,
              "ticks": ""
             }
            },
            "type": "scattergl"
           }
          ],
          "scattermapbox": [
           {
            "marker": {
             "colorbar": {
              "outlinewidth": 0,
              "ticks": ""
             }
            },
            "type": "scattermapbox"
           }
          ],
          "scatterpolar": [
           {
            "marker": {
             "colorbar": {
              "outlinewidth": 0,
              "ticks": ""
             }
            },
            "type": "scatterpolar"
           }
          ],
          "scatterpolargl": [
           {
            "marker": {
             "colorbar": {
              "outlinewidth": 0,
              "ticks": ""
             }
            },
            "type": "scatterpolargl"
           }
          ],
          "scatterternary": [
           {
            "marker": {
             "colorbar": {
              "outlinewidth": 0,
              "ticks": ""
             }
            },
            "type": "scatterternary"
           }
          ],
          "surface": [
           {
            "colorbar": {
             "outlinewidth": 0,
             "ticks": ""
            },
            "colorscale": [
             [
              0,
              "#0d0887"
             ],
             [
              0.1111111111111111,
              "#46039f"
             ],
             [
              0.2222222222222222,
              "#7201a8"
             ],
             [
              0.3333333333333333,
              "#9c179e"
             ],
             [
              0.4444444444444444,
              "#bd3786"
             ],
             [
              0.5555555555555556,
              "#d8576b"
             ],
             [
              0.6666666666666666,
              "#ed7953"
             ],
             [
              0.7777777777777778,
              "#fb9f3a"
             ],
             [
              0.8888888888888888,
              "#fdca26"
             ],
             [
              1,
              "#f0f921"
             ]
            ],
            "type": "surface"
           }
          ],
          "table": [
           {
            "cells": {
             "fill": {
              "color": "#EBF0F8"
             },
             "line": {
              "color": "white"
             }
            },
            "header": {
             "fill": {
              "color": "#C8D4E3"
             },
             "line": {
              "color": "white"
             }
            },
            "type": "table"
           }
          ]
         },
         "layout": {
          "annotationdefaults": {
           "arrowcolor": "#2a3f5f",
           "arrowhead": 0,
           "arrowwidth": 1
          },
          "autotypenumbers": "strict",
          "coloraxis": {
           "colorbar": {
            "outlinewidth": 0,
            "ticks": ""
           }
          },
          "colorscale": {
           "diverging": [
            [
             0,
             "#8e0152"
            ],
            [
             0.1,
             "#c51b7d"
            ],
            [
             0.2,
             "#de77ae"
            ],
            [
             0.3,
             "#f1b6da"
            ],
            [
             0.4,
             "#fde0ef"
            ],
            [
             0.5,
             "#f7f7f7"
            ],
            [
             0.6,
             "#e6f5d0"
            ],
            [
             0.7,
             "#b8e186"
            ],
            [
             0.8,
             "#7fbc41"
            ],
            [
             0.9,
             "#4d9221"
            ],
            [
             1,
             "#276419"
            ]
           ],
           "sequential": [
            [
             0,
             "#0d0887"
            ],
            [
             0.1111111111111111,
             "#46039f"
            ],
            [
             0.2222222222222222,
             "#7201a8"
            ],
            [
             0.3333333333333333,
             "#9c179e"
            ],
            [
             0.4444444444444444,
             "#bd3786"
            ],
            [
             0.5555555555555556,
             "#d8576b"
            ],
            [
             0.6666666666666666,
             "#ed7953"
            ],
            [
             0.7777777777777778,
             "#fb9f3a"
            ],
            [
             0.8888888888888888,
             "#fdca26"
            ],
            [
             1,
             "#f0f921"
            ]
           ],
           "sequentialminus": [
            [
             0,
             "#0d0887"
            ],
            [
             0.1111111111111111,
             "#46039f"
            ],
            [
             0.2222222222222222,
             "#7201a8"
            ],
            [
             0.3333333333333333,
             "#9c179e"
            ],
            [
             0.4444444444444444,
             "#bd3786"
            ],
            [
             0.5555555555555556,
             "#d8576b"
            ],
            [
             0.6666666666666666,
             "#ed7953"
            ],
            [
             0.7777777777777778,
             "#fb9f3a"
            ],
            [
             0.8888888888888888,
             "#fdca26"
            ],
            [
             1,
             "#f0f921"
            ]
           ]
          },
          "colorway": [
           "#636efa",
           "#EF553B",
           "#00cc96",
           "#ab63fa",
           "#FFA15A",
           "#19d3f3",
           "#FF6692",
           "#B6E880",
           "#FF97FF",
           "#FECB52"
          ],
          "font": {
           "color": "#2a3f5f"
          },
          "geo": {
           "bgcolor": "white",
           "lakecolor": "white",
           "landcolor": "#E5ECF6",
           "showlakes": true,
           "showland": true,
           "subunitcolor": "white"
          },
          "hoverlabel": {
           "align": "left"
          },
          "hovermode": "closest",
          "mapbox": {
           "style": "light"
          },
          "paper_bgcolor": "white",
          "plot_bgcolor": "#E5ECF6",
          "polar": {
           "angularaxis": {
            "gridcolor": "white",
            "linecolor": "white",
            "ticks": ""
           },
           "bgcolor": "#E5ECF6",
           "radialaxis": {
            "gridcolor": "white",
            "linecolor": "white",
            "ticks": ""
           }
          },
          "scene": {
           "xaxis": {
            "backgroundcolor": "#E5ECF6",
            "gridcolor": "white",
            "gridwidth": 2,
            "linecolor": "white",
            "showbackground": true,
            "ticks": "",
            "zerolinecolor": "white"
           },
           "yaxis": {
            "backgroundcolor": "#E5ECF6",
            "gridcolor": "white",
            "gridwidth": 2,
            "linecolor": "white",
            "showbackground": true,
            "ticks": "",
            "zerolinecolor": "white"
           },
           "zaxis": {
            "backgroundcolor": "#E5ECF6",
            "gridcolor": "white",
            "gridwidth": 2,
            "linecolor": "white",
            "showbackground": true,
            "ticks": "",
            "zerolinecolor": "white"
           }
          },
          "shapedefaults": {
           "line": {
            "color": "#2a3f5f"
           }
          },
          "ternary": {
           "aaxis": {
            "gridcolor": "white",
            "linecolor": "white",
            "ticks": ""
           },
           "baxis": {
            "gridcolor": "white",
            "linecolor": "white",
            "ticks": ""
           },
           "bgcolor": "#E5ECF6",
           "caxis": {
            "gridcolor": "white",
            "linecolor": "white",
            "ticks": ""
           }
          },
          "title": {
           "x": 0.05
          },
          "xaxis": {
           "automargin": true,
           "gridcolor": "white",
           "linecolor": "white",
           "ticks": "",
           "title": {
            "standoff": 15
           },
           "zerolinecolor": "white",
           "zerolinewidth": 2
          },
          "yaxis": {
           "automargin": true,
           "gridcolor": "white",
           "linecolor": "white",
           "ticks": "",
           "title": {
            "standoff": 15
           },
           "zerolinecolor": "white",
           "zerolinewidth": 2
          }
         }
        },
        "title": {
         "text": "Normalized Stacked Barplot of Predicted Pathways Ocurrence for Species"
        },
        "width": 1500,
        "xaxis": {
         "anchor": "y",
         "domain": [
          0,
          1
         ],
         "title": {
          "text": "Recurrence"
         }
        },
        "yaxis": {
         "anchor": "x",
         "categoryarray": [
          "Zanthoxylum coco",
          "Vernonanthura nudiflora",
          "Petunia axillaris",
          "Ophryosporus charua",
          "Microliabum candidum",
          "Gaillardia megapotamica",
          "Buxus sempervirens",
          "Aristolochia argentina",
          "Anthemis cotula",
          "Ambrosia artemisiifolia"
         ],
         "categoryorder": "array",
         "domain": [
          0,
          1
         ],
         "tickmode": "array",
         "ticktext": [
          "<i>Ambrosia artemisiifolia</i>",
          "<i>Anthemis cotula</i>",
          "<i>Aristolochia argentina</i>",
          "<i>Buxus sempervirens</i>",
          "<i>Gaillardia megapotamica</i>",
          "<i>Microliabum candidum</i>",
          "<i>Ophryosporus charua</i>",
          "<i>Petunia axillaris</i>",
          "<i>Vernonanthura nudiflora</i>",
          "<i>Zanthoxylum coco</i>"
         ],
         "tickvals": [
          0,
          1,
          2,
          3,
          4,
          5,
          6,
          7,
          8,
          9
         ],
         "title": {
          "text": "<i>Species<i>"
         }
        }
       }
      }
     },
     "metadata": {},
     "output_type": "display_data"
    }
   ],
   "source": [
    "barplot_pathway_species(output_folder)\n",
    "barplot_pathway_species_normalized(output_folder)"
   ]
  },
  {
   "cell_type": "code",
   "execution_count": 53,
   "metadata": {},
   "outputs": [
    {
     "name": "stderr",
     "output_type": "stream",
     "text": [
      "C:\\Users\\quirosgu\\AppData\\Local\\Temp\\ipykernel_16932\\2845121227.py:19: FutureWarning:\n",
      "\n",
      "The behavior of DataFrame concatenation with empty or all-NA entries is deprecated. In a future version, this will no longer exclude empty or all-NA columns when determining the result dtypes. To retain the old behavior, exclude the relevant entries before the concat operation.\n",
      "\n",
      "C:\\Users\\quirosgu\\AppData\\Local\\Temp\\ipykernel_16932\\2845121227.py:19: FutureWarning:\n",
      "\n",
      "The behavior of DataFrame concatenation with empty or all-NA entries is deprecated. In a future version, this will no longer exclude empty or all-NA columns when determining the result dtypes. To retain the old behavior, exclude the relevant entries before the concat operation.\n",
      "\n"
     ]
    },
    {
     "data": {
      "application/vnd.plotly.v1+json": {
       "config": {
        "plotlyServerURL": "https://plot.ly"
       },
       "data": [
        {
         "coloraxis": "coloraxis",
         "hovertemplate": "Pathway: %{x}<br>Species: %{y}<br>Normalized Recurrence: %{z}<extra></extra>",
         "name": "0",
         "type": "heatmap",
         "x": [
          "Alkaloids",
          "Fatty acids",
          "Polyketides",
          "Shikimates and Phenylpropanoids",
          "Terpenoids"
         ],
         "xaxis": "x",
         "y": [
          "Ambrosia artemisiifolia",
          "Anthemis cotula",
          "Aristolochia argentina",
          "Buxus sempervirens",
          "Gaillardia megapotamica",
          "Microliabum candidum",
          "Ophryosporus charua",
          "Petunia axillaris",
          "Vernonanthura nudiflora",
          "Zanthoxylum coco"
         ],
         "yaxis": "y",
         "z": [
          [
           0,
           7.4074074074074066,
           0,
           3.7037037037037033,
           88.88888888888889
          ],
          [
           0,
           0,
           0,
           20.588235294117645,
           79.41176470588235
          ],
          [
           90,
           0,
           0,
           10,
           0
          ],
          [
           91.53846153846153,
           0.7692307692307693,
           0,
           2.307692307692308,
           5.384615384615385
          ],
          [
           0,
           0,
           0,
           40,
           60
          ],
          [
           0,
           0,
           0,
           44.44444444444444,
           55.55555555555556
          ],
          [
           0,
           0,
           15.625,
           18.75,
           65.625
          ],
          [
           0,
           0,
           0,
           39.39393939393939,
           60.60606060606061
          ],
          [
           0,
           4.761904761904762,
           0,
           19.047619047619047,
           76.19047619047619
          ],
          [
           72.72727272727273,
           0,
           0,
           18.181818181818183,
           9.090909090909092
          ]
         ]
        }
       ],
       "layout": {
        "coloraxis": {
         "colorbar": {
          "title": {
           "text": "Normalized Recurrence"
          }
         },
         "colorscale": [
          [
           0,
           "rgb(0, 147, 146)"
          ],
          [
           0.16666666666666666,
           "rgb(114, 170, 161)"
          ],
          [
           0.3333333333333333,
           "rgb(177, 199, 179)"
          ],
          [
           0.5,
           "rgb(241, 234, 200)"
          ],
          [
           0.6666666666666666,
           "rgb(229, 185, 173)"
          ],
          [
           0.8333333333333334,
           "rgb(217, 137, 148)"
          ],
          [
           1,
           "rgb(208, 88, 126)"
          ]
         ]
        },
        "height": 1500,
        "template": {
         "data": {
          "bar": [
           {
            "error_x": {
             "color": "#2a3f5f"
            },
            "error_y": {
             "color": "#2a3f5f"
            },
            "marker": {
             "line": {
              "color": "#E5ECF6",
              "width": 0.5
             },
             "pattern": {
              "fillmode": "overlay",
              "size": 10,
              "solidity": 0.2
             }
            },
            "type": "bar"
           }
          ],
          "barpolar": [
           {
            "marker": {
             "line": {
              "color": "#E5ECF6",
              "width": 0.5
             },
             "pattern": {
              "fillmode": "overlay",
              "size": 10,
              "solidity": 0.2
             }
            },
            "type": "barpolar"
           }
          ],
          "carpet": [
           {
            "aaxis": {
             "endlinecolor": "#2a3f5f",
             "gridcolor": "white",
             "linecolor": "white",
             "minorgridcolor": "white",
             "startlinecolor": "#2a3f5f"
            },
            "baxis": {
             "endlinecolor": "#2a3f5f",
             "gridcolor": "white",
             "linecolor": "white",
             "minorgridcolor": "white",
             "startlinecolor": "#2a3f5f"
            },
            "type": "carpet"
           }
          ],
          "choropleth": [
           {
            "colorbar": {
             "outlinewidth": 0,
             "ticks": ""
            },
            "type": "choropleth"
           }
          ],
          "contour": [
           {
            "colorbar": {
             "outlinewidth": 0,
             "ticks": ""
            },
            "colorscale": [
             [
              0,
              "#0d0887"
             ],
             [
              0.1111111111111111,
              "#46039f"
             ],
             [
              0.2222222222222222,
              "#7201a8"
             ],
             [
              0.3333333333333333,
              "#9c179e"
             ],
             [
              0.4444444444444444,
              "#bd3786"
             ],
             [
              0.5555555555555556,
              "#d8576b"
             ],
             [
              0.6666666666666666,
              "#ed7953"
             ],
             [
              0.7777777777777778,
              "#fb9f3a"
             ],
             [
              0.8888888888888888,
              "#fdca26"
             ],
             [
              1,
              "#f0f921"
             ]
            ],
            "type": "contour"
           }
          ],
          "contourcarpet": [
           {
            "colorbar": {
             "outlinewidth": 0,
             "ticks": ""
            },
            "type": "contourcarpet"
           }
          ],
          "heatmap": [
           {
            "colorbar": {
             "outlinewidth": 0,
             "ticks": ""
            },
            "colorscale": [
             [
              0,
              "#0d0887"
             ],
             [
              0.1111111111111111,
              "#46039f"
             ],
             [
              0.2222222222222222,
              "#7201a8"
             ],
             [
              0.3333333333333333,
              "#9c179e"
             ],
             [
              0.4444444444444444,
              "#bd3786"
             ],
             [
              0.5555555555555556,
              "#d8576b"
             ],
             [
              0.6666666666666666,
              "#ed7953"
             ],
             [
              0.7777777777777778,
              "#fb9f3a"
             ],
             [
              0.8888888888888888,
              "#fdca26"
             ],
             [
              1,
              "#f0f921"
             ]
            ],
            "type": "heatmap"
           }
          ],
          "heatmapgl": [
           {
            "colorbar": {
             "outlinewidth": 0,
             "ticks": ""
            },
            "colorscale": [
             [
              0,
              "#0d0887"
             ],
             [
              0.1111111111111111,
              "#46039f"
             ],
             [
              0.2222222222222222,
              "#7201a8"
             ],
             [
              0.3333333333333333,
              "#9c179e"
             ],
             [
              0.4444444444444444,
              "#bd3786"
             ],
             [
              0.5555555555555556,
              "#d8576b"
             ],
             [
              0.6666666666666666,
              "#ed7953"
             ],
             [
              0.7777777777777778,
              "#fb9f3a"
             ],
             [
              0.8888888888888888,
              "#fdca26"
             ],
             [
              1,
              "#f0f921"
             ]
            ],
            "type": "heatmapgl"
           }
          ],
          "histogram": [
           {
            "marker": {
             "pattern": {
              "fillmode": "overlay",
              "size": 10,
              "solidity": 0.2
             }
            },
            "type": "histogram"
           }
          ],
          "histogram2d": [
           {
            "colorbar": {
             "outlinewidth": 0,
             "ticks": ""
            },
            "colorscale": [
             [
              0,
              "#0d0887"
             ],
             [
              0.1111111111111111,
              "#46039f"
             ],
             [
              0.2222222222222222,
              "#7201a8"
             ],
             [
              0.3333333333333333,
              "#9c179e"
             ],
             [
              0.4444444444444444,
              "#bd3786"
             ],
             [
              0.5555555555555556,
              "#d8576b"
             ],
             [
              0.6666666666666666,
              "#ed7953"
             ],
             [
              0.7777777777777778,
              "#fb9f3a"
             ],
             [
              0.8888888888888888,
              "#fdca26"
             ],
             [
              1,
              "#f0f921"
             ]
            ],
            "type": "histogram2d"
           }
          ],
          "histogram2dcontour": [
           {
            "colorbar": {
             "outlinewidth": 0,
             "ticks": ""
            },
            "colorscale": [
             [
              0,
              "#0d0887"
             ],
             [
              0.1111111111111111,
              "#46039f"
             ],
             [
              0.2222222222222222,
              "#7201a8"
             ],
             [
              0.3333333333333333,
              "#9c179e"
             ],
             [
              0.4444444444444444,
              "#bd3786"
             ],
             [
              0.5555555555555556,
              "#d8576b"
             ],
             [
              0.6666666666666666,
              "#ed7953"
             ],
             [
              0.7777777777777778,
              "#fb9f3a"
             ],
             [
              0.8888888888888888,
              "#fdca26"
             ],
             [
              1,
              "#f0f921"
             ]
            ],
            "type": "histogram2dcontour"
           }
          ],
          "mesh3d": [
           {
            "colorbar": {
             "outlinewidth": 0,
             "ticks": ""
            },
            "type": "mesh3d"
           }
          ],
          "parcoords": [
           {
            "line": {
             "colorbar": {
              "outlinewidth": 0,
              "ticks": ""
             }
            },
            "type": "parcoords"
           }
          ],
          "pie": [
           {
            "automargin": true,
            "type": "pie"
           }
          ],
          "scatter": [
           {
            "fillpattern": {
             "fillmode": "overlay",
             "size": 10,
             "solidity": 0.2
            },
            "type": "scatter"
           }
          ],
          "scatter3d": [
           {
            "line": {
             "colorbar": {
              "outlinewidth": 0,
              "ticks": ""
             }
            },
            "marker": {
             "colorbar": {
              "outlinewidth": 0,
              "ticks": ""
             }
            },
            "type": "scatter3d"
           }
          ],
          "scattercarpet": [
           {
            "marker": {
             "colorbar": {
              "outlinewidth": 0,
              "ticks": ""
             }
            },
            "type": "scattercarpet"
           }
          ],
          "scattergeo": [
           {
            "marker": {
             "colorbar": {
              "outlinewidth": 0,
              "ticks": ""
             }
            },
            "type": "scattergeo"
           }
          ],
          "scattergl": [
           {
            "marker": {
             "colorbar": {
              "outlinewidth": 0,
              "ticks": ""
             }
            },
            "type": "scattergl"
           }
          ],
          "scattermapbox": [
           {
            "marker": {
             "colorbar": {
              "outlinewidth": 0,
              "ticks": ""
             }
            },
            "type": "scattermapbox"
           }
          ],
          "scatterpolar": [
           {
            "marker": {
             "colorbar": {
              "outlinewidth": 0,
              "ticks": ""
             }
            },
            "type": "scatterpolar"
           }
          ],
          "scatterpolargl": [
           {
            "marker": {
             "colorbar": {
              "outlinewidth": 0,
              "ticks": ""
             }
            },
            "type": "scatterpolargl"
           }
          ],
          "scatterternary": [
           {
            "marker": {
             "colorbar": {
              "outlinewidth": 0,
              "ticks": ""
             }
            },
            "type": "scatterternary"
           }
          ],
          "surface": [
           {
            "colorbar": {
             "outlinewidth": 0,
             "ticks": ""
            },
            "colorscale": [
             [
              0,
              "#0d0887"
             ],
             [
              0.1111111111111111,
              "#46039f"
             ],
             [
              0.2222222222222222,
              "#7201a8"
             ],
             [
              0.3333333333333333,
              "#9c179e"
             ],
             [
              0.4444444444444444,
              "#bd3786"
             ],
             [
              0.5555555555555556,
              "#d8576b"
             ],
             [
              0.6666666666666666,
              "#ed7953"
             ],
             [
              0.7777777777777778,
              "#fb9f3a"
             ],
             [
              0.8888888888888888,
              "#fdca26"
             ],
             [
              1,
              "#f0f921"
             ]
            ],
            "type": "surface"
           }
          ],
          "table": [
           {
            "cells": {
             "fill": {
              "color": "#EBF0F8"
             },
             "line": {
              "color": "white"
             }
            },
            "header": {
             "fill": {
              "color": "#C8D4E3"
             },
             "line": {
              "color": "white"
             }
            },
            "type": "table"
           }
          ]
         },
         "layout": {
          "annotationdefaults": {
           "arrowcolor": "#2a3f5f",
           "arrowhead": 0,
           "arrowwidth": 1
          },
          "autotypenumbers": "strict",
          "coloraxis": {
           "colorbar": {
            "outlinewidth": 0,
            "ticks": ""
           }
          },
          "colorscale": {
           "diverging": [
            [
             0,
             "#8e0152"
            ],
            [
             0.1,
             "#c51b7d"
            ],
            [
             0.2,
             "#de77ae"
            ],
            [
             0.3,
             "#f1b6da"
            ],
            [
             0.4,
             "#fde0ef"
            ],
            [
             0.5,
             "#f7f7f7"
            ],
            [
             0.6,
             "#e6f5d0"
            ],
            [
             0.7,
             "#b8e186"
            ],
            [
             0.8,
             "#7fbc41"
            ],
            [
             0.9,
             "#4d9221"
            ],
            [
             1,
             "#276419"
            ]
           ],
           "sequential": [
            [
             0,
             "#0d0887"
            ],
            [
             0.1111111111111111,
             "#46039f"
            ],
            [
             0.2222222222222222,
             "#7201a8"
            ],
            [
             0.3333333333333333,
             "#9c179e"
            ],
            [
             0.4444444444444444,
             "#bd3786"
            ],
            [
             0.5555555555555556,
             "#d8576b"
            ],
            [
             0.6666666666666666,
             "#ed7953"
            ],
            [
             0.7777777777777778,
             "#fb9f3a"
            ],
            [
             0.8888888888888888,
             "#fdca26"
            ],
            [
             1,
             "#f0f921"
            ]
           ],
           "sequentialminus": [
            [
             0,
             "#0d0887"
            ],
            [
             0.1111111111111111,
             "#46039f"
            ],
            [
             0.2222222222222222,
             "#7201a8"
            ],
            [
             0.3333333333333333,
             "#9c179e"
            ],
            [
             0.4444444444444444,
             "#bd3786"
            ],
            [
             0.5555555555555556,
             "#d8576b"
            ],
            [
             0.6666666666666666,
             "#ed7953"
            ],
            [
             0.7777777777777778,
             "#fb9f3a"
            ],
            [
             0.8888888888888888,
             "#fdca26"
            ],
            [
             1,
             "#f0f921"
            ]
           ]
          },
          "colorway": [
           "#636efa",
           "#EF553B",
           "#00cc96",
           "#ab63fa",
           "#FFA15A",
           "#19d3f3",
           "#FF6692",
           "#B6E880",
           "#FF97FF",
           "#FECB52"
          ],
          "font": {
           "color": "#2a3f5f"
          },
          "geo": {
           "bgcolor": "white",
           "lakecolor": "white",
           "landcolor": "#E5ECF6",
           "showlakes": true,
           "showland": true,
           "subunitcolor": "white"
          },
          "hoverlabel": {
           "align": "left"
          },
          "hovermode": "closest",
          "mapbox": {
           "style": "light"
          },
          "paper_bgcolor": "white",
          "plot_bgcolor": "#E5ECF6",
          "polar": {
           "angularaxis": {
            "gridcolor": "white",
            "linecolor": "white",
            "ticks": ""
           },
           "bgcolor": "#E5ECF6",
           "radialaxis": {
            "gridcolor": "white",
            "linecolor": "white",
            "ticks": ""
           }
          },
          "scene": {
           "xaxis": {
            "backgroundcolor": "#E5ECF6",
            "gridcolor": "white",
            "gridwidth": 2,
            "linecolor": "white",
            "showbackground": true,
            "ticks": "",
            "zerolinecolor": "white"
           },
           "yaxis": {
            "backgroundcolor": "#E5ECF6",
            "gridcolor": "white",
            "gridwidth": 2,
            "linecolor": "white",
            "showbackground": true,
            "ticks": "",
            "zerolinecolor": "white"
           },
           "zaxis": {
            "backgroundcolor": "#E5ECF6",
            "gridcolor": "white",
            "gridwidth": 2,
            "linecolor": "white",
            "showbackground": true,
            "ticks": "",
            "zerolinecolor": "white"
           }
          },
          "shapedefaults": {
           "line": {
            "color": "#2a3f5f"
           }
          },
          "ternary": {
           "aaxis": {
            "gridcolor": "white",
            "linecolor": "white",
            "ticks": ""
           },
           "baxis": {
            "gridcolor": "white",
            "linecolor": "white",
            "ticks": ""
           },
           "bgcolor": "#E5ECF6",
           "caxis": {
            "gridcolor": "white",
            "linecolor": "white",
            "ticks": ""
           }
          },
          "title": {
           "x": 0.05
          },
          "xaxis": {
           "automargin": true,
           "gridcolor": "white",
           "linecolor": "white",
           "ticks": "",
           "title": {
            "standoff": 15
           },
           "zerolinecolor": "white",
           "zerolinewidth": 2
          },
          "yaxis": {
           "automargin": true,
           "gridcolor": "white",
           "linecolor": "white",
           "ticks": "",
           "title": {
            "standoff": 15
           },
           "zerolinecolor": "white",
           "zerolinewidth": 2
          }
         }
        },
        "title": {
         "text": "Heatmap of Normalized Recurrence of Pathways for Species"
        },
        "width": 1500,
        "xaxis": {
         "anchor": "y",
         "constrain": "domain",
         "domain": [
          0,
          1
         ],
         "scaleanchor": "y",
         "title": {
          "text": "Pathway"
         }
        },
        "yaxis": {
         "anchor": "x",
         "autorange": "reversed",
         "constrain": "domain",
         "domain": [
          0,
          1
         ],
         "tickmode": "array",
         "ticktext": [
          "<i>Ambrosia artemisiifolia</i>",
          "<i>Anthemis cotula</i>",
          "<i>Aristolochia argentina</i>",
          "<i>Buxus sempervirens</i>",
          "<i>Gaillardia megapotamica</i>",
          "<i>Microliabum candidum</i>",
          "<i>Ophryosporus charua</i>",
          "<i>Petunia axillaris</i>",
          "<i>Vernonanthura nudiflora</i>",
          "<i>Zanthoxylum coco</i>"
         ],
         "tickvals": [
          0,
          1,
          2,
          3,
          4,
          5,
          6,
          7,
          8,
          9
         ],
         "title": {
          "text": "<i>Species<i>"
         }
        }
       }
      }
     },
     "metadata": {},
     "output_type": "display_data"
    }
   ],
   "source": [
    "heatmap_pathway_species(output_folder)"
   ]
  }
 ],
 "metadata": {
  "interpreter": {
   "hash": "2c38b6a57c2d4f85bcd8a646c69c70f453ebfd581092159d4a2b022d1b3585cd"
  },
  "kernelspec": {
   "display_name": "Python 3.8.5 64-bit ('base': conda)",
   "language": "python",
   "name": "python3"
  },
  "language_info": {
   "codemirror_mode": {
    "name": "ipython",
    "version": 3
   },
   "file_extension": ".py",
   "mimetype": "text/x-python",
   "name": "python",
   "nbconvert_exporter": "python",
   "pygments_lexer": "ipython3",
   "version": "3.11.7"
  },
  "orig_nbformat": 4
 },
 "nbformat": 4,
 "nbformat_minor": 2
}
