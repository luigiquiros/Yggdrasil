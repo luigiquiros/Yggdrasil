{
 "cells": [
  {
   "cell_type": "code",
   "execution_count": 1,
   "metadata": {},
   "outputs": [],
   "source": [
    "import requests\n",
    "import pandas as pd\n",
    "import numpy as np\n",
    "import requests \n",
    "import os\n",
    "from io import StringIO  # Import StringIO from the io module\n",
    "import time  # Import the time module\n",
    "from urllib.parse import quote  # To URL encode SMILES\n",
    "import plotly.express as px\n",
    "import matplotlib.colors as mcolors"
   ]
  },
  {
   "cell_type": "markdown",
   "metadata": {},
   "source": [
    "Befor runing this code: \n",
    "1) creaea an empty folder (input_folder) in your desired location and writhe down the path below! \n",
    "2) Change the corresponding Q CODE from wikidata for a given Genus in the code below!\n",
    "\n",
    "That's all"
   ]
  },
  {
   "cell_type": "markdown",
   "metadata": {},
   "source": [
    "DEFINE THE FOLLOWING PARAMETERS"
   ]
  },
  {
   "cell_type": "code",
   "execution_count": 2,
   "metadata": {},
   "outputs": [],
   "source": [
    "#Paths\n",
    "# Input folder containing CSV files\n",
    "input_folder = 'C:/Users/quirosgu/Desktop/JLW/genus/' #'/home/quirosgu/Desktop/FARMA-SHARE/RECHERCHE/FASIE_LAB/LuisQ/Yggdrasil/data_out/genus/'#'C:/Users/quirosgu/Desktop/JLW/genus/'# '/mnt/c/Users/quirosgu/Desktop/JLW/'\n",
    "\n",
    "#Swertia chirayita (Q21318003)\n",
    "#Swertia (Q163970)\n",
    "#Gentianaceae (Q157216)\n",
    "\n",
    "qcode = \"Q163970\"  # Replace with the actual Q-code for the genus\n",
    "\n",
    "#lotus databases\n",
    "LOTUSDB = 'C:/Users/quirosgu/Documents/Github/Yggdrasil/data_loc/LotusDB_inhouse_metadata.csv'#'/mnt/c/Users/quirosgu/Documents/Github/Yggdrasil/data_loc/LotusDB_inhouse_metadata.csv' #'/home/quirosgu/Desktop/FARMA-SHARE/RECHERCHE/FASIE_LAB/LuisQ/Yggdrasil/data_loc/LotusDB_inhouse_metadata.csv' #'/home/quirosgu/Desktop/FARMA-SHARE/RECHERCHE/FASIE_LAB/LuisQ/Yggdrasil/data_loc/LotusDB_inhouse_metadata.csv' #'C:/Users/quirosgu/Documents/Github/Yggdrasil/data_loc/LotusDB_inhouse_metadata.csv'#'/mnt/c/Users/quirosgu/Documents/Github/Yggdrasil/data_loc/LotusDB_inhouse_metadata.csv' #'/home/quirosgu/Desktop/FARMA-SHARE/RECHERCHE/FASIE_LAB/LuisQ/Yggdrasil/data_loc/LotusDB_inhouse_metadata.csv'\n",
    "LOTUSDB_rc = 'C:/Users/quirosgu/Documents/Github/Yggdrasil/data_loc/LotusDB_inhouse_rc.csv'#'/mnt/c/Users/quirosgu/Documents/Github/Yggdrasil/data_loc/LotusDB_inhouse_rc.csv' #'C:/Users/quirosgu/Documents/Github/Yggdrasil/data_loc/LotusDB_inhouse_rc.csv'#'/mnt/c/Users/quirosgu/Documents/Github/Yggdrasil/data_loc/LotusDB_inhouse_rc.csv' #'/home/quirosgu/Desktop/FARMA-SHARE/RECHERCHE/FASIE_LAB/LuisQ/Yggdrasil/data_loc/LotusDB_inhouse_rc.csv'\n",
    "\n",
    "# Output folder for the processed CSV files\n",
    "output_folder = f'{input_folder}output_data/'\n",
    "\n",
    "# Create the output folder if it doesn't exist\n",
    "if not os.path.exists(output_folder):\n",
    "    os.makedirs(output_folder)"
   ]
  },
  {
   "cell_type": "code",
   "execution_count": 7,
   "metadata": {},
   "outputs": [],
   "source": [
    "\n",
    "#functions to colors palets, etc\n",
    "def fetch_species_from_qcode(qcode):\n",
    "    \"\"\"\n",
    "    Fetches all species under a given genus using the Wikidata SPARQL endpoint.\n",
    "\n",
    "    Parameters:\n",
    "    genus_qcode (str): The Wikidata Q-code for the genus.\n",
    "\n",
    "    Returns:\n",
    "    pd.DataFrame: A DataFrame containing the species and their corresponding Q-codes.\n",
    "    \"\"\"\n",
    "\n",
    "    # SPARQL query to fetch species under a given genus\n",
    "    query = \"\"\"\n",
    "    SELECT ?species ?speciesLabel WHERE {\n",
    "      ?species wdt:P171* wd:%s .\n",
    "      ?species wdt:P105 wd:Q7432.\n",
    "      SERVICE wikibase:label { bd:serviceParam wikibase:language \"[AUTO_LANGUAGE],en\". }\n",
    "    }\n",
    "    \"\"\" % qcode\n",
    "\n",
    "    # URL for the Wikidata SPARQL endpoint\n",
    "    url = \"https://query.wikidata.org/sparql\"\n",
    "\n",
    "    # Request headers\n",
    "    headers = {\n",
    "        \"User-Agent\": \"Wikidata Species Fetcher/0.1 (https://www.wikidata.org/wiki/Wikidata:Data_access)\"\n",
    "    }\n",
    "\n",
    "    # Perform the request\n",
    "    response = requests.get(url, headers=headers, params={'query': query, 'format': 'json'})\n",
    "\n",
    "    if response.status_code != 200:\n",
    "        raise Exception(\"Failed to fetch data: HTTP status code {}\".format(response.status_code))\n",
    "\n",
    "    # Parse the JSON response\n",
    "    data = response.json()\n",
    "\n",
    "    # Extract results\n",
    "    species = []\n",
    "    for item in data['results']['bindings']:\n",
    "        species.append({\n",
    "            'wikidata_Qcode_species': item['species']['value'].split('/')[-1],\n",
    "            'Species': item['speciesLabel']['value']\n",
    "        })\n",
    "\n",
    "    return pd.DataFrame(species)\n",
    "\n",
    "# Define base colors for each Pathway\n",
    "pathway_shades= {\n",
    "    'Terpenoids': ('#618264', '#D0E7D2'),  # Green start and lighter green end\n",
    "    'Alkaloids': ('#305F72', '#5CBCE2'),   # Blue start and lighter blue end  \n",
    "    'Shikimates and Phenylpropanoids': ('#80558C', '#CBA0AE'),  # Purple start and lighter purple end\n",
    "    'Polyketides': ('#EF4B4B', '#EC8F6A'),  # Red start and lighter purple end\n",
    "    'Fatty acids': ('#FF6C22', '#FF9209'),  # Orange start and lighter purple end\n",
    "    'Amino acids and Peptides': ('#F4E869', '#FAF2D3'),  # Yellow start and lighter purple end\n",
    "    'Carbohydrates': ('#65451F','#C8AE7D')  # Brown start and lighter purple end\n",
    "}\n",
    "\n",
    "# Define custom colors for the 7 pathway categories\n",
    "pathway_colors = {\n",
    "    'Terpenoids': '#618264',  # Green start and lighter green end\n",
    "    'Alkaloids': '#305F72',   # Blue start and lighter blue end\n",
    "    'Shikimates and Phenylpropanoids': '#80558C',  # Purple start and lighter purple end\n",
    "    'Polyketides': '#EF4B4B',  # Red start and lighter purple end\n",
    "    'Fatty acids': '#FF6C22',  # Orange start and lighter purple end\n",
    "    'Amino acids and Peptides': '#F4E869',  # Yellow start and lighter purple end\n",
    "    'Carbohydrates': '#65451F' # Brown start and lighter purple end\n",
    "}\n",
    "\n",
    "def interpolate_color(color1, color2, factor: float):\n",
    "    \"\"\"Interpolate between two colors\"\"\"\n",
    "    color1 = np.array(mcolors.to_rgb(color1))\n",
    "    color2 = np.array(mcolors.to_rgb(color2))\n",
    "    return mcolors.to_hex((1 - factor) * color1 + factor * color2)\n",
    "\n",
    "def generate_shades(pathway, num_shades):\n",
    "    base_color, end_color = pathway_shades.get(pathway, ('gray', 'lightgray'))\n",
    "    if num_shades == 1:\n",
    "        return [base_color]  # Return the base color if only one shade is requested\n",
    "    shades = []\n",
    "    for i in range(num_shades):\n",
    "        factor = i / (num_shades - 1)\n",
    "        shades.append(interpolate_color(base_color, end_color, factor))\n",
    "    return shades\n",
    "\n",
    "def split_chemical_superclass(row):\n",
    "    # Check if the value is a string before splitting\n",
    "    if isinstance(row['chemical_superclass'], str):\n",
    "        parts = row['chemical_superclass'].split('-')\n",
    "        if len(parts) == 2:\n",
    "            return parts[0], parts[1]  # Pathway and Superclass are present\n",
    "        else:\n",
    "            return parts[0], 'Unknown'  # Only Pathway is present, or the format is not as expected\n",
    "    else:\n",
    "        # Return default values if the entry is NaN or not a string\n",
    "        return 'Unknown', 'Unknown'"
   ]
  },
  {
   "cell_type": "markdown",
   "metadata": {},
   "source": [
    "FIRST RECOVER THE SPECIES (and Q codes) BELONGING TO A PARTICULAR GENUS "
   ]
  },
  {
   "cell_type": "code",
   "execution_count": 8,
   "metadata": {},
   "outputs": [],
   "source": [
    "# Usage\n",
    "species_df = fetch_species_from_qcode(qcode)\n",
    "species_df.head()  # Display the first few rows\n",
    "\n",
    "# Filename for the CSV file\n",
    "file_name = \"species_list.csv\"\n",
    "\n",
    "# Full path for the CSV file\n",
    "full_file_path = f\"{input_folder}/{file_name}\"\n",
    "\n",
    "# Save the DataFrame to a CSV file in the specified folder\n",
    "species_df.to_csv(full_file_path, index=False)"
   ]
  },
  {
   "cell_type": "markdown",
   "metadata": {},
   "source": [
    "NOW, LETS USE THE QCODES TO RECOVER ALL THE COMPOUNDS (WITH REFERENCES) PRESENT IN EACH QCODE AND SAVE THEM AS INDIVIDUAL CSV FILES FROM LOTUS_DB FROZEN METADATA"
   ]
  },
  {
   "cell_type": "code",
   "execution_count": 9,
   "metadata": {},
   "outputs": [
    {
     "name": "stdout",
     "output_type": "stream",
     "text": [
      "Saved grouped data for Q code Q98123288 to C:/Users/quirosgu/Desktop/JLW/genus/output_data/species_data\\Q98123288.tsv\n"
     ]
    }
   ],
   "source": [
    "# Load the LOTUSDB CSV\n",
    "lotusdb_df = pd.read_csv(LOTUSDB, low_memory=False)\n",
    "\n",
    "# Iterate through all CSV files in the input folder\n",
    "for filename in os.listdir(input_folder):\n",
    "    if filename.endswith('.csv'):\n",
    "        input_file = os.path.join(input_folder, filename)\n",
    "\n",
    "        # Load the CSV file with Q codes\n",
    "        df_species = pd.read_csv(input_file)\n",
    "\n",
    "        # Iterate through the Q codes in the species CSV\n",
    "        for q_code in df_species['wikidata_Qcode_species']:  # Ensure this column name matches your species CSV\n",
    "            # Skip processing if Q code is 'Not Found'\n",
    "            if q_code == 'Not Found':\n",
    "                continue\n",
    "\n",
    "            # Filter LOTUSDB data for the current Q code\n",
    "            filtered_lotusdb = lotusdb_df[lotusdb_df['wikidata_Qcode'] == q_code]  # Ensure this column name matches your LOTUSDB CSV\n",
    "\n",
    "            # Group and aggregate the data\n",
    "            grouped_df = filtered_lotusdb.groupby(\"structure_inchikey\").agg({\n",
    "                # Add all the aggregation rules here\n",
    "                # Example:\n",
    "                \"structure_wikidata\": \"first\",\n",
    "                \"structure_inchi\": \"first\",\n",
    "                \"structure_smiles\": \"first\",\n",
    "                \"structure_molecular_formula\": \"first\",\n",
    "                \"structure_exact_mass\": \"first\",\n",
    "                \"structure_xlogp\": \"first\",\n",
    "                \"structure_smiles_2D\": \"first\",\n",
    "                \"structure_cid\": \"first\",\n",
    "                \"structure_nameIupac\": \"first\",\n",
    "                \"structure_nameTraditional\": \"first\",\n",
    "                \"structure_taxonomy_npclassifier_01pathway\": \"first\",\n",
    "                \"structure_taxonomy_npclassifier_02superclass\": \"first\",\n",
    "                \"structure_taxonomy_npclassifier_03class\": \"first\",\n",
    "                \"organism_wikidata\": \"first\",\n",
    "                \"organism_taxonomy_gbifid\": \"first\",\n",
    "                \"organism_taxonomy_ncbiid\": \"first\",\n",
    "                \"organism_taxonomy_ottid\": \"first\",\n",
    "                \"organism_taxonomy_01domain\": \"first\",\n",
    "                \"organism_taxonomy_02kingdom\": \"first\",\n",
    "                \"organism_taxonomy_03phylum\": \"first\",\n",
    "                \"organism_taxonomy_04class\": \"first\",\n",
    "                \"organism_taxonomy_05order\": \"first\",\n",
    "                \"organism_taxonomy_06family\": \"first\",\n",
    "                \"organism_taxonomy_07tribe\": \"first\",\n",
    "                \"organism_taxonomy_08genus\": \"first\",\n",
    "                \"organism_taxonomy_09species\": \"first\",\n",
    "                \"organism_taxonomy_10varietas\": \"first\",\n",
    "                \"reference_wikidata\": lambda x: \"|\".join(map(str, x)),\n",
    "                \"reference_doi\": lambda x: \"|\".join(map(str, x))\n",
    "            }).reset_index()\n",
    "            \n",
    "            # Create 'chemical_superclass' and 'chemical_class' columns\n",
    "            grouped_df['chemical_superclass'] = grouped_df['structure_taxonomy_npclassifier_01pathway'] + '-' + grouped_df['structure_taxonomy_npclassifier_02superclass']\n",
    "            grouped_df['chemical_class'] = grouped_df['structure_taxonomy_npclassifier_01pathway'] + '-' + grouped_df['structure_taxonomy_npclassifier_03class']\n",
    "            \n",
    "            # Save the grouped data as a TSV file with the Q code as the filename\n",
    "            output_subfolder = os.path.join(output_folder, 'species_data')\n",
    "            #if not os.path.exists(output_subfolder):\n",
    "            os.makedirs(output_subfolder, exist_ok=True)\n",
    "\n",
    "            output_filename = os.path.join(output_subfolder, f\"{q_code}.tsv\")\n",
    "            grouped_df.to_csv(output_filename, index=False, sep='\\t')\n",
    "\n",
    "            print(f\"Saved grouped data for Q code {q_code} to {output_filename}\")\n"
   ]
  },
  {
   "cell_type": "markdown",
   "metadata": {},
   "source": [
    "RECOVER THE FRECUENCE BY CHEMICAL CLASS AND ADDED TO THE GENERAL TABLE"
   ]
  },
  {
   "cell_type": "code",
   "execution_count": 10,
   "metadata": {},
   "outputs": [],
   "source": [
    "# Step 1: Initialize variables to store data\n",
    "total_compounds = {}\n",
    "chemical_classes = {}\n",
    "chemical_superclasses = {}\n",
    "references = {}\n",
    "hyperlinks = {}\n",
    "\n",
    "# Step 2: Iterate through .tsv files in the folder\n",
    "\n",
    "species_data_folder = os.path.join(output_folder, 'species_data')\n",
    "for filename in os.listdir(species_data_folder):\n",
    "    if filename.endswith(\".tsv\"):\n",
    "        qcode = filename.split(\".\")[0]  # Extract Qcode from the filename\n",
    "\n",
    "        # Load the .tsv file into a DataFrame\n",
    "        df_compounds = pd.read_csv(os.path.join(species_data_folder, filename), sep='\\t')\n",
    "\n",
    "        # Step 3: Calculate frequencies of chemical classes for each Qcode (excluding 'not classified')\n",
    "        filtered_classes = df_compounds[df_compounds['structure_taxonomy_npclassifier_03class'] != 'Not Classified']\n",
    "        grouped = filtered_classes['structure_taxonomy_npclassifier_03class'].value_counts().reset_index()\n",
    "        frequencies = grouped.apply(lambda row: f\"{row.name} {row['structure_taxonomy_npclassifier_03class']}\", axis=1)\n",
    "        chemical_classes[qcode] = \"|\".join(frequencies)\n",
    "\n",
    "        # Step 4: Calculate frequencies of chemical superclasses for each Qcode (excluding 'not classified')\n",
    "        filtered_sclasses = df_compounds[df_compounds['structure_taxonomy_npclassifier_02superclass'] != 'Not Classified']\n",
    "        sgrouped = filtered_sclasses['structure_taxonomy_npclassifier_02superclass'].value_counts().reset_index()\n",
    "        frequencies = sgrouped.apply(lambda row: f\"{row.name} {row['structure_taxonomy_npclassifier_02superclass']}\", axis=1)\n",
    "        chemical_superclasses[qcode] = \"|\".join(frequencies)\n",
    "        chemical_classes[qcode] = \"|\".join(frequencies)\n",
    "        \n",
    "        # Step 5: Combine references and hyperlinks\n",
    "        #references[qcode] = \"|\".join(df_compounds['reference_wikidata'].dropna())\n",
    "        #hyperlinks[qcode] = \"|\".join(df_compounds['reference_doi'].dropna())\n",
    "\n",
    "        # Step 6: Calculate the total number of reported compounds\n",
    "        #total_compounds[qcode] = len(df_compounds)\n",
    "\n",
    "# Step 7: Load the general info .csv into a DataFrame\n",
    "csv_file = None\n",
    "for filename in os.listdir(input_folder):\n",
    "    if filename.endswith(\".csv\"):\n",
    "        csv_file = os.path.join(input_folder, filename)\n",
    "        break  # Stop searching after finding the first CSV file\n",
    "\n",
    "if csv_file is not None:\n",
    "    # Load the CSV file into the df_general_info DataFrame\n",
    "    df_general_info = pd.read_csv(csv_file)\n",
    "\n",
    "# Step 7: Create new columns for combined information\n",
    "df_general_info['predicted_class'] = df_general_info['wikidata_Qcode_species'].map(chemical_classes)\n",
    "df_general_info['predicted_superclass'] = df_general_info['wikidata_Qcode_species'].map(chemical_superclasses)\n",
    "#df_general_info['references'] = df_general_info['wikidata_Qcode_species'].map(references)\n",
    "#df_general_info['referenceLabel'] = df_general_info['wikidata_Qcode_species'].map(hyperlinks)\n",
    "\n",
    "# Step 7: Save the updated DataFrame to the .csv file\n",
    "\n",
    "# Replace values matching the pattern with an empty cell\n",
    "df_general_info['predicted_class'] = df_general_info['predicted_class'].replace('index|predicted_class', '')\n",
    "df_general_info['predicted_superclass'] = df_general_info['predicted_superclass'].replace('index|predicted_superclass', '')\n",
    "\n",
    "#add reported compounds to each Q code\n",
    "LotusDB_rc = pd.read_csv(LOTUSDB_rc)\n",
    "\n",
    "spDB = LotusDB_rc[['wikidata_Qcode', 'Reported_comp_Species']].drop_duplicates()\n",
    "gDB = LotusDB_rc[['organism_taxonomy_08genus', 'Reported_comp_Genus']].drop_duplicates()\n",
    "fDB = LotusDB_rc[['organism_taxonomy_06family', 'Reported_comp_Family']].drop_duplicates()\n",
    "\n",
    "df = pd.merge(df_general_info, spDB,\n",
    "            how= 'left', left_on='wikidata_Qcode_species', right_on='wikidata_Qcode')#.drop_duplicates(subset=['CODE'])\n",
    "df.drop('wikidata_Qcode', axis=1, inplace=True)\n",
    "\n",
    "#df = pd.merge(df, gDB,\n",
    "#            how= 'left', left_on='genus', right_on='organism_taxonomy_08genus')#.drop_duplicates(subset=['full_species'])\n",
    "#df.drop('organism_taxonomy_08genus', axis=1, inplace=True)\n",
    "\n",
    "#df = pd.merge(df, fDB,\n",
    "#            how= 'left', left_on='family', right_on='organism_taxonomy_06family')#.drop_duplicates(subset=['full_species'])\n",
    "#df.drop('organism_taxonomy_06family', axis=1, inplace=True)\n",
    "\n",
    "output_csv_file = output_folder + 'Full_results.csv'\n",
    "df.to_csv(output_csv_file, index=False, sep =',')"
   ]
  },
  {
   "cell_type": "markdown",
   "metadata": {},
   "source": [
    "# BARPLOT CHEMICAL_SUPERCLASS - SPECIES "
   ]
  },
  {
   "cell_type": "code",
   "execution_count": 14,
   "metadata": {},
   "outputs": [
    {
     "name": "stderr",
     "output_type": "stream",
     "text": [
      "C:\\Users\\quirosgu\\AppData\\Local\\Temp\\ipykernel_6524\\3754485692.py:2: FutureWarning:\n",
      "\n",
      "The behavior of DataFrame concatenation with empty or all-NA entries is deprecated. In a future version, this will no longer exclude empty or all-NA columns when determining the result dtypes. To retain the old behavior, exclude the relevant entries before the concat operation.\n",
      "\n",
      "C:\\Users\\quirosgu\\AppData\\Local\\Temp\\ipykernel_6524\\3754485692.py:33: FutureWarning:\n",
      "\n",
      "The default of observed=False is deprecated and will be changed to True in a future version of pandas. Pass observed=False to retain current behavior or observed=True to adopt the future default and silence this warning.\n",
      "\n"
     ]
    },
    {
     "data": {
      "application/vnd.plotly.v1+json": {
       "config": {
        "plotlyServerURL": "https://plot.ly"
       },
       "data": [
        {
         "alignmentgroup": "True",
         "hovertemplate": "chemical_superclass=Alkaloids-Nicotinic acid alkaloids<br>Recurrence=%{x}<br>species=%{y}<extra></extra>",
         "legendgroup": "Alkaloids-Nicotinic acid alkaloids",
         "marker": {
          "color": "#305F72",
          "pattern": {
           "shape": ""
          }
         },
         "name": "Alkaloids-Nicotinic acid alkaloids",
         "offsetgroup": "Alkaloids-Nicotinic acid alkaloids",
         "orientation": "h",
         "showlegend": true,
         "textposition": "auto",
         "type": "bar",
         "x": [
          1,
          2,
          1
         ],
         "xaxis": "x",
         "y": [
          "Swertia angustifolia",
          "Swertia ciliata",
          "Swertia marginata"
         ],
         "yaxis": "y"
        },
        {
         "alignmentgroup": "True",
         "hovertemplate": "chemical_superclass=Carbohydrates-Nucleosides<br>Recurrence=%{x}<br>species=%{y}<extra></extra>",
         "legendgroup": "Carbohydrates-Nucleosides",
         "marker": {
          "color": "#967a4e",
          "pattern": {
           "shape": ""
          }
         },
         "name": "Carbohydrates-Nucleosides",
         "offsetgroup": "Carbohydrates-Nucleosides",
         "orientation": "h",
         "showlegend": true,
         "textposition": "auto",
         "type": "bar",
         "x": [
          1
         ],
         "xaxis": "x",
         "y": [
          "Swertia obtusa"
         ],
         "yaxis": "y"
        },
        {
         "alignmentgroup": "True",
         "hovertemplate": "chemical_superclass=Carbohydrates-Polyols<br>Recurrence=%{x}<br>species=%{y}<extra></extra>",
         "legendgroup": "Carbohydrates-Polyols",
         "marker": {
          "color": "#c8ae7d",
          "pattern": {
           "shape": ""
          }
         },
         "name": "Carbohydrates-Polyols",
         "offsetgroup": "Carbohydrates-Polyols",
         "orientation": "h",
         "showlegend": true,
         "textposition": "auto",
         "type": "bar",
         "x": [
          1
         ],
         "xaxis": "x",
         "y": [
          "Swertia punicea"
         ],
         "yaxis": "y"
        },
        {
         "alignmentgroup": "True",
         "hovertemplate": "chemical_superclass=Carbohydrates-Saccharides<br>Recurrence=%{x}<br>species=%{y}<extra></extra>",
         "legendgroup": "Carbohydrates-Saccharides",
         "marker": {
          "color": "#65451f",
          "pattern": {
           "shape": ""
          }
         },
         "name": "Carbohydrates-Saccharides",
         "offsetgroup": "Carbohydrates-Saccharides",
         "orientation": "h",
         "showlegend": true,
         "textposition": "auto",
         "type": "bar",
         "x": [
          2
         ],
         "xaxis": "x",
         "y": [
          "Swertia pubescens"
         ],
         "yaxis": "y"
        },
        {
         "alignmentgroup": "True",
         "hovertemplate": "chemical_superclass=Fatty acids-Fatty acyls<br>Recurrence=%{x}<br>species=%{y}<extra></extra>",
         "legendgroup": "Fatty acids-Fatty acyls",
         "marker": {
          "color": "#ff6c22",
          "pattern": {
           "shape": ""
          }
         },
         "name": "Fatty acids-Fatty acyls",
         "offsetgroup": "Fatty acids-Fatty acyls",
         "orientation": "h",
         "showlegend": true,
         "textposition": "auto",
         "type": "bar",
         "x": [
          4
         ],
         "xaxis": "x",
         "y": [
          "Swertia japonica"
         ],
         "yaxis": "y"
        },
        {
         "alignmentgroup": "True",
         "hovertemplate": "chemical_superclass=Fatty acids-Fatty esters<br>Recurrence=%{x}<br>species=%{y}<extra></extra>",
         "legendgroup": "Fatty acids-Fatty esters",
         "marker": {
          "color": "#ff9209",
          "pattern": {
           "shape": ""
          }
         },
         "name": "Fatty acids-Fatty esters",
         "offsetgroup": "Fatty acids-Fatty esters",
         "orientation": "h",
         "showlegend": true,
         "textposition": "auto",
         "type": "bar",
         "x": [
          1
         ],
         "xaxis": "x",
         "y": [
          "Swertia japonica"
         ],
         "yaxis": "y"
        },
        {
         "alignmentgroup": "True",
         "hovertemplate": "chemical_superclass=Polyketides-Cyclic polyketides<br>Recurrence=%{x}<br>species=%{y}<extra></extra>",
         "legendgroup": "Polyketides-Cyclic polyketides",
         "marker": {
          "color": "#ed7860",
          "pattern": {
           "shape": ""
          }
         },
         "name": "Polyketides-Cyclic polyketides",
         "offsetgroup": "Polyketides-Cyclic polyketides",
         "orientation": "h",
         "showlegend": true,
         "textposition": "auto",
         "type": "bar",
         "x": [
          4
         ],
         "xaxis": "x",
         "y": [
          "Swertia japonica"
         ],
         "yaxis": "y"
        },
        {
         "alignmentgroup": "True",
         "hovertemplate": "chemical_superclass=Polyketides-Naphthalenes<br>Recurrence=%{x}<br>species=%{y}<extra></extra>",
         "legendgroup": "Polyketides-Naphthalenes",
         "marker": {
          "color": "#ee6255",
          "pattern": {
           "shape": ""
          }
         },
         "name": "Polyketides-Naphthalenes",
         "offsetgroup": "Polyketides-Naphthalenes",
         "orientation": "h",
         "showlegend": true,
         "textposition": "auto",
         "type": "bar",
         "x": [
          1
         ],
         "xaxis": "x",
         "y": [
          "Swertia calycina"
         ],
         "yaxis": "y"
        },
        {
         "alignmentgroup": "True",
         "hovertemplate": "chemical_superclass=Polyketides-Polycyclic aromatic polyketides<br>Recurrence=%{x}<br>species=%{y}<extra></extra>",
         "legendgroup": "Polyketides-Polycyclic aromatic polyketides",
         "marker": {
          "color": "#ec8f6a",
          "pattern": {
           "shape": ""
          }
         },
         "name": "Polyketides-Polycyclic aromatic polyketides",
         "offsetgroup": "Polyketides-Polycyclic aromatic polyketides",
         "orientation": "h",
         "showlegend": true,
         "textposition": "auto",
         "type": "bar",
         "x": [
          1
         ],
         "xaxis": "x",
         "y": [
          "Swertia japonica"
         ],
         "yaxis": "y"
        },
        {
         "alignmentgroup": "True",
         "hovertemplate": "chemical_superclass=Polyketides-Xanthones<br>Recurrence=%{x}<br>species=%{y}<extra></extra>",
         "legendgroup": "Polyketides-Xanthones",
         "marker": {
          "color": "#ef4b4b",
          "pattern": {
           "shape": ""
          }
         },
         "name": "Polyketides-Xanthones",
         "offsetgroup": "Polyketides-Xanthones",
         "orientation": "h",
         "showlegend": true,
         "textposition": "auto",
         "type": "bar",
         "x": [
          1,
          3,
          10,
          4,
          1,
          1,
          3,
          6,
          1,
          1,
          4,
          5,
          6,
          2,
          2,
          2,
          1,
          1,
          2,
          4,
          4,
          1,
          3,
          4,
          1,
          1
         ],
         "xaxis": "x",
         "y": [
          "Swertia bimaculata",
          "Swertia calycina",
          "Swertia chirayita",
          "Swertia ciliata",
          "Swertia corymbosa",
          "Swertia davidii",
          "Swertia decora",
          "Swertia densifolia",
          "Swertia dilatata",
          "Swertia erythrosticta",
          "Swertia hookeri",
          "Swertia iberica",
          "Swertia japonica",
          "Swertia lawii",
          "Swertia macrosperma",
          "Swertia nervosa",
          "Swertia obtusa",
          "Swertia paniculata",
          "Swertia perennis",
          "Swertia pseudochinensis",
          "Swertia punicea",
          "Swertia racemosa",
          "Swertia souliei",
          "Swertia swertopsis",
          "Swertia teres",
          "Swertia thomsonii"
         ],
         "yaxis": "y"
        },
        {
         "alignmentgroup": "True",
         "hovertemplate": "chemical_superclass=Shikimates and Phenylpropanoids-Flavonoids<br>Recurrence=%{x}<br>species=%{y}<extra></extra>",
         "legendgroup": "Shikimates and Phenylpropanoids-Flavonoids",
         "marker": {
          "color": "#a57a9d",
          "pattern": {
           "shape": ""
          }
         },
         "name": "Shikimates and Phenylpropanoids-Flavonoids",
         "offsetgroup": "Shikimates and Phenylpropanoids-Flavonoids",
         "orientation": "h",
         "showlegend": true,
         "textposition": "auto",
         "type": "bar",
         "x": [
          2,
          2,
          2,
          1,
          1,
          7,
          2,
          1,
          2,
          4,
          5,
          1,
          2,
          2,
          2
         ],
         "xaxis": "x",
         "y": [
          "Swertia ciliata",
          "Swertia decora",
          "Swertia delavayi",
          "Swertia franchetiana",
          "Swertia hookeri",
          "Swertia japonica",
          "Swertia leducii",
          "Swertia mussotii",
          "Swertia paniculata",
          "Swertia perennis",
          "Swertia pseudochinensis",
          "Swertia pubescens",
          "Swertia punicea",
          "Swertia swertopsis",
          "Swertia tetrapetala"
         ],
         "yaxis": "y"
        },
        {
         "alignmentgroup": "True",
         "hovertemplate": "chemical_superclass=Shikimates and Phenylpropanoids-Lignans<br>Recurrence=%{x}<br>species=%{y}<extra></extra>",
         "legendgroup": "Shikimates and Phenylpropanoids-Lignans",
         "marker": {
          "color": "#b88da5",
          "pattern": {
           "shape": ""
          }
         },
         "name": "Shikimates and Phenylpropanoids-Lignans",
         "offsetgroup": "Shikimates and Phenylpropanoids-Lignans",
         "orientation": "h",
         "showlegend": true,
         "textposition": "auto",
         "type": "bar",
         "x": [
          1
         ],
         "xaxis": "x",
         "y": [
          "Swertia japonica"
         ],
         "yaxis": "y"
        },
        {
         "alignmentgroup": "True",
         "hovertemplate": "chemical_superclass=Shikimates and Phenylpropanoids-Phenanthrenoids<br>Recurrence=%{x}<br>species=%{y}<extra></extra>",
         "legendgroup": "Shikimates and Phenylpropanoids-Phenanthrenoids",
         "marker": {
          "color": "#cba0ae",
          "pattern": {
           "shape": ""
          }
         },
         "name": "Shikimates and Phenylpropanoids-Phenanthrenoids",
         "offsetgroup": "Shikimates and Phenylpropanoids-Phenanthrenoids",
         "orientation": "h",
         "showlegend": true,
         "textposition": "auto",
         "type": "bar",
         "x": [
          2
         ],
         "xaxis": "x",
         "y": [
          "Swertia japonica"
         ],
         "yaxis": "y"
        },
        {
         "alignmentgroup": "True",
         "hovertemplate": "chemical_superclass=Shikimates and Phenylpropanoids-Phenolic acids (C6-C1)<br>Recurrence=%{x}<br>species=%{y}<extra></extra>",
         "legendgroup": "Shikimates and Phenylpropanoids-Phenolic acids (C6-C1)",
         "marker": {
          "color": "#00cc96",
          "pattern": {
           "shape": ""
          }
         },
         "name": "Shikimates and Phenylpropanoids-Phenolic acids (C6-C1)",
         "offsetgroup": "Shikimates and Phenylpropanoids-Phenolic acids (C6-C1)",
         "orientation": "h",
         "showlegend": true,
         "textposition": "auto",
         "type": "bar",
         "x": [
          1,
          2,
          1,
          1
         ],
         "xaxis": "x",
         "y": [
          "Swertia chirayita",
          "Swertia japonica",
          "Swertia perennis",
          "Swertia petiolata"
         ],
         "yaxis": "y"
        },
        {
         "alignmentgroup": "True",
         "hovertemplate": "chemical_superclass=Shikimates and Phenylpropanoids-Phenylethanoids (C6-C2)<br>Recurrence=%{x}<br>species=%{y}<extra></extra>",
         "legendgroup": "Shikimates and Phenylpropanoids-Phenylethanoids (C6-C2)",
         "marker": {
          "color": "#ab63fa",
          "pattern": {
           "shape": ""
          }
         },
         "name": "Shikimates and Phenylpropanoids-Phenylethanoids (C6-C2)",
         "offsetgroup": "Shikimates and Phenylpropanoids-Phenylethanoids (C6-C2)",
         "orientation": "h",
         "showlegend": true,
         "textposition": "auto",
         "type": "bar",
         "x": [
          2
         ],
         "xaxis": "x",
         "y": [
          "Swertia japonica"
         ],
         "yaxis": "y"
        },
        {
         "alignmentgroup": "True",
         "hovertemplate": "chemical_superclass=Shikimates and Phenylpropanoids-Phenylpropanoids (C6-C3)<br>Recurrence=%{x}<br>species=%{y}<extra></extra>",
         "legendgroup": "Shikimates and Phenylpropanoids-Phenylpropanoids (C6-C3)",
         "marker": {
          "color": "#FFA15A",
          "pattern": {
           "shape": ""
          }
         },
         "name": "Shikimates and Phenylpropanoids-Phenylpropanoids (C6-C3)",
         "offsetgroup": "Shikimates and Phenylpropanoids-Phenylpropanoids (C6-C3)",
         "orientation": "h",
         "showlegend": true,
         "textposition": "auto",
         "type": "bar",
         "x": [
          12
         ],
         "xaxis": "x",
         "y": [
          "Swertia japonica"
         ],
         "yaxis": "y"
        },
        {
         "alignmentgroup": "True",
         "hovertemplate": "chemical_superclass=Shikimates and Phenylpropanoids-Xanthones<br>Recurrence=%{x}<br>species=%{y}<extra></extra>",
         "legendgroup": "Shikimates and Phenylpropanoids-Xanthones",
         "marker": {
          "color": "#80558c",
          "pattern": {
           "shape": ""
          }
         },
         "name": "Shikimates and Phenylpropanoids-Xanthones",
         "offsetgroup": "Shikimates and Phenylpropanoids-Xanthones",
         "orientation": "h",
         "showlegend": true,
         "textposition": "auto",
         "type": "bar",
         "x": [
          2,
          1,
          8,
          14,
          6,
          1,
          1,
          2,
          1,
          1,
          1,
          1,
          4,
          1,
          8,
          13,
          2,
          2,
          1,
          2,
          2,
          4,
          5,
          3,
          1,
          16,
          2,
          2,
          1
         ],
         "xaxis": "x",
         "y": [
          "Swertia angustifolia",
          "Swertia bimaculata",
          "Swertia calycina",
          "Swertia chirayita",
          "Swertia ciliata",
          "Swertia cincta",
          "Swertia cordata",
          "Swertia corymbosa",
          "Swertia cuneata",
          "Swertia dilatata",
          "Swertia fasciculata",
          "Swertia franchetiana",
          "Swertia hookeri",
          "Swertia iberica",
          "Swertia japonica",
          "Swertia kouitchensis",
          "Swertia macrosperma",
          "Swertia mussotii",
          "Swertia nervosa",
          "Swertia obtusa",
          "Swertia paniculata",
          "Swertia perennis",
          "Swertia petiolata",
          "Swertia pseudochinensis",
          "Swertia pubescens",
          "Swertia punicea",
          "Swertia souliei",
          "Swertia swertopsis",
          "Swertia tosaensis"
         ],
         "yaxis": "y"
        },
        {
         "alignmentgroup": "True",
         "hovertemplate": "chemical_superclass=Terpenoids-Apocarotenoids<br>Recurrence=%{x}<br>species=%{y}<extra></extra>",
         "legendgroup": "Terpenoids-Apocarotenoids",
         "marker": {
          "color": "#bad3bc",
          "pattern": {
           "shape": ""
          }
         },
         "name": "Terpenoids-Apocarotenoids",
         "offsetgroup": "Terpenoids-Apocarotenoids",
         "orientation": "h",
         "showlegend": true,
         "textposition": "auto",
         "type": "bar",
         "x": [
          4
         ],
         "xaxis": "x",
         "y": [
          "Swertia japonica"
         ],
         "yaxis": "y"
        },
        {
         "alignmentgroup": "True",
         "hovertemplate": "chemical_superclass=Terpenoids-Meroterpenoids<br>Recurrence=%{x}<br>species=%{y}<extra></extra>",
         "legendgroup": "Terpenoids-Meroterpenoids",
         "marker": {
          "color": "#d0e7d2",
          "pattern": {
           "shape": ""
          }
         },
         "name": "Terpenoids-Meroterpenoids",
         "offsetgroup": "Terpenoids-Meroterpenoids",
         "orientation": "h",
         "showlegend": true,
         "textposition": "auto",
         "type": "bar",
         "x": [
          1
         ],
         "xaxis": "x",
         "y": [
          "Swertia angustifolia"
         ],
         "yaxis": "y"
        },
        {
         "alignmentgroup": "True",
         "hovertemplate": "chemical_superclass=Terpenoids-Monoterpenoids<br>Recurrence=%{x}<br>species=%{y}<extra></extra>",
         "legendgroup": "Terpenoids-Monoterpenoids",
         "marker": {
          "color": "#618264",
          "pattern": {
           "shape": ""
          }
         },
         "name": "Terpenoids-Monoterpenoids",
         "offsetgroup": "Terpenoids-Monoterpenoids",
         "orientation": "h",
         "showlegend": true,
         "textposition": "auto",
         "type": "bar",
         "x": [
          2,
          1,
          4,
          2,
          5,
          1,
          2,
          2,
          1,
          12,
          58,
          31,
          1,
          1,
          2,
          5,
          2,
          5
         ],
         "xaxis": "x",
         "y": [
          "Swertia angustifolia",
          "Swertia arisanensis",
          "Swertia calycina",
          "Swertia chinensis",
          "Swertia chirayita",
          "Swertia cincta",
          "Swertia decora",
          "Swertia delavayi",
          "Swertia fasciculata",
          "Swertia franchetiana",
          "Swertia japonica",
          "Swertia leducii",
          "Swertia macrosperma",
          "Swertia nervosa",
          "Swertia obtusa",
          "Swertia pseudochinensis",
          "Swertia pubescens",
          "Swertia punicea"
         ],
         "yaxis": "y"
        },
        {
         "alignmentgroup": "True",
         "hovertemplate": "chemical_superclass=Terpenoids-Sesquiterpenoids<br>Recurrence=%{x}<br>species=%{y}<extra></extra>",
         "legendgroup": "Terpenoids-Sesquiterpenoids",
         "marker": {
          "color": "#a4bfa6",
          "pattern": {
           "shape": ""
          }
         },
         "name": "Terpenoids-Sesquiterpenoids",
         "offsetgroup": "Terpenoids-Sesquiterpenoids",
         "orientation": "h",
         "showlegend": true,
         "textposition": "auto",
         "type": "bar",
         "x": [
          17
         ],
         "xaxis": "x",
         "y": [
          "Swertia japonica"
         ],
         "yaxis": "y"
        },
        {
         "alignmentgroup": "True",
         "hovertemplate": "chemical_superclass=Terpenoids-Steroids<br>Recurrence=%{x}<br>species=%{y}<extra></extra>",
         "legendgroup": "Terpenoids-Steroids",
         "marker": {
          "color": "#8daa90",
          "pattern": {
           "shape": ""
          }
         },
         "name": "Terpenoids-Steroids",
         "offsetgroup": "Terpenoids-Steroids",
         "orientation": "h",
         "showlegend": true,
         "textposition": "auto",
         "type": "bar",
         "x": [
          1,
          3,
          1,
          1
         ],
         "xaxis": "x",
         "y": [
          "Swertia chirayita",
          "Swertia ciliata",
          "Swertia punicea",
          "Swertia verticillifolia"
         ],
         "yaxis": "y"
        },
        {
         "alignmentgroup": "True",
         "hovertemplate": "chemical_superclass=Terpenoids-Triterpenoids<br>Recurrence=%{x}<br>species=%{y}<extra></extra>",
         "legendgroup": "Terpenoids-Triterpenoids",
         "marker": {
          "color": "#77967a",
          "pattern": {
           "shape": ""
          }
         },
         "name": "Terpenoids-Triterpenoids",
         "offsetgroup": "Terpenoids-Triterpenoids",
         "orientation": "h",
         "showlegend": true,
         "textposition": "auto",
         "type": "bar",
         "x": [
          1,
          4,
          2,
          30,
          3,
          9,
          1,
          2,
          2,
          2,
          1,
          2,
          5,
          1,
          1,
          1,
          9,
          1,
          1,
          1
         ],
         "xaxis": "x",
         "y": [
          "Swertia alata",
          "Swertia angustifolia",
          "Swertia arisanensis",
          "Swertia chirayita",
          "Swertia ciliata",
          "Swertia corymbosa",
          "Swertia franchetiana",
          "Swertia japonica",
          "Swertia leducii",
          "Swertia macrosperma",
          "Swertia mussotii",
          "Swertia paniculata",
          "Swertia petiolata",
          "Swertia przewalskii",
          "Swertia pubescens",
          "Swertia punicea",
          "Swertia souliei",
          "Swertia tetrapetala",
          "Swertia thomsonii",
          "Swertia verticillifolia"
         ],
         "yaxis": "y"
        }
       ],
       "layout": {
        "barmode": "relative",
        "height": 1500,
        "legend": {
         "title": {
          "text": "chemical_superclass"
         },
         "tracegroupgap": 0
        },
        "plot_bgcolor": "white",
        "template": {
         "data": {
          "bar": [
           {
            "error_x": {
             "color": "#2a3f5f"
            },
            "error_y": {
             "color": "#2a3f5f"
            },
            "marker": {
             "line": {
              "color": "#E5ECF6",
              "width": 0.5
             },
             "pattern": {
              "fillmode": "overlay",
              "size": 10,
              "solidity": 0.2
             }
            },
            "type": "bar"
           }
          ],
          "barpolar": [
           {
            "marker": {
             "line": {
              "color": "#E5ECF6",
              "width": 0.5
             },
             "pattern": {
              "fillmode": "overlay",
              "size": 10,
              "solidity": 0.2
             }
            },
            "type": "barpolar"
           }
          ],
          "carpet": [
           {
            "aaxis": {
             "endlinecolor": "#2a3f5f",
             "gridcolor": "white",
             "linecolor": "white",
             "minorgridcolor": "white",
             "startlinecolor": "#2a3f5f"
            },
            "baxis": {
             "endlinecolor": "#2a3f5f",
             "gridcolor": "white",
             "linecolor": "white",
             "minorgridcolor": "white",
             "startlinecolor": "#2a3f5f"
            },
            "type": "carpet"
           }
          ],
          "choropleth": [
           {
            "colorbar": {
             "outlinewidth": 0,
             "ticks": ""
            },
            "type": "choropleth"
           }
          ],
          "contour": [
           {
            "colorbar": {
             "outlinewidth": 0,
             "ticks": ""
            },
            "colorscale": [
             [
              0,
              "#0d0887"
             ],
             [
              0.1111111111111111,
              "#46039f"
             ],
             [
              0.2222222222222222,
              "#7201a8"
             ],
             [
              0.3333333333333333,
              "#9c179e"
             ],
             [
              0.4444444444444444,
              "#bd3786"
             ],
             [
              0.5555555555555556,
              "#d8576b"
             ],
             [
              0.6666666666666666,
              "#ed7953"
             ],
             [
              0.7777777777777778,
              "#fb9f3a"
             ],
             [
              0.8888888888888888,
              "#fdca26"
             ],
             [
              1,
              "#f0f921"
             ]
            ],
            "type": "contour"
           }
          ],
          "contourcarpet": [
           {
            "colorbar": {
             "outlinewidth": 0,
             "ticks": ""
            },
            "type": "contourcarpet"
           }
          ],
          "heatmap": [
           {
            "colorbar": {
             "outlinewidth": 0,
             "ticks": ""
            },
            "colorscale": [
             [
              0,
              "#0d0887"
             ],
             [
              0.1111111111111111,
              "#46039f"
             ],
             [
              0.2222222222222222,
              "#7201a8"
             ],
             [
              0.3333333333333333,
              "#9c179e"
             ],
             [
              0.4444444444444444,
              "#bd3786"
             ],
             [
              0.5555555555555556,
              "#d8576b"
             ],
             [
              0.6666666666666666,
              "#ed7953"
             ],
             [
              0.7777777777777778,
              "#fb9f3a"
             ],
             [
              0.8888888888888888,
              "#fdca26"
             ],
             [
              1,
              "#f0f921"
             ]
            ],
            "type": "heatmap"
           }
          ],
          "heatmapgl": [
           {
            "colorbar": {
             "outlinewidth": 0,
             "ticks": ""
            },
            "colorscale": [
             [
              0,
              "#0d0887"
             ],
             [
              0.1111111111111111,
              "#46039f"
             ],
             [
              0.2222222222222222,
              "#7201a8"
             ],
             [
              0.3333333333333333,
              "#9c179e"
             ],
             [
              0.4444444444444444,
              "#bd3786"
             ],
             [
              0.5555555555555556,
              "#d8576b"
             ],
             [
              0.6666666666666666,
              "#ed7953"
             ],
             [
              0.7777777777777778,
              "#fb9f3a"
             ],
             [
              0.8888888888888888,
              "#fdca26"
             ],
             [
              1,
              "#f0f921"
             ]
            ],
            "type": "heatmapgl"
           }
          ],
          "histogram": [
           {
            "marker": {
             "pattern": {
              "fillmode": "overlay",
              "size": 10,
              "solidity": 0.2
             }
            },
            "type": "histogram"
           }
          ],
          "histogram2d": [
           {
            "colorbar": {
             "outlinewidth": 0,
             "ticks": ""
            },
            "colorscale": [
             [
              0,
              "#0d0887"
             ],
             [
              0.1111111111111111,
              "#46039f"
             ],
             [
              0.2222222222222222,
              "#7201a8"
             ],
             [
              0.3333333333333333,
              "#9c179e"
             ],
             [
              0.4444444444444444,
              "#bd3786"
             ],
             [
              0.5555555555555556,
              "#d8576b"
             ],
             [
              0.6666666666666666,
              "#ed7953"
             ],
             [
              0.7777777777777778,
              "#fb9f3a"
             ],
             [
              0.8888888888888888,
              "#fdca26"
             ],
             [
              1,
              "#f0f921"
             ]
            ],
            "type": "histogram2d"
           }
          ],
          "histogram2dcontour": [
           {
            "colorbar": {
             "outlinewidth": 0,
             "ticks": ""
            },
            "colorscale": [
             [
              0,
              "#0d0887"
             ],
             [
              0.1111111111111111,
              "#46039f"
             ],
             [
              0.2222222222222222,
              "#7201a8"
             ],
             [
              0.3333333333333333,
              "#9c179e"
             ],
             [
              0.4444444444444444,
              "#bd3786"
             ],
             [
              0.5555555555555556,
              "#d8576b"
             ],
             [
              0.6666666666666666,
              "#ed7953"
             ],
             [
              0.7777777777777778,
              "#fb9f3a"
             ],
             [
              0.8888888888888888,
              "#fdca26"
             ],
             [
              1,
              "#f0f921"
             ]
            ],
            "type": "histogram2dcontour"
           }
          ],
          "mesh3d": [
           {
            "colorbar": {
             "outlinewidth": 0,
             "ticks": ""
            },
            "type": "mesh3d"
           }
          ],
          "parcoords": [
           {
            "line": {
             "colorbar": {
              "outlinewidth": 0,
              "ticks": ""
             }
            },
            "type": "parcoords"
           }
          ],
          "pie": [
           {
            "automargin": true,
            "type": "pie"
           }
          ],
          "scatter": [
           {
            "fillpattern": {
             "fillmode": "overlay",
             "size": 10,
             "solidity": 0.2
            },
            "type": "scatter"
           }
          ],
          "scatter3d": [
           {
            "line": {
             "colorbar": {
              "outlinewidth": 0,
              "ticks": ""
             }
            },
            "marker": {
             "colorbar": {
              "outlinewidth": 0,
              "ticks": ""
             }
            },
            "type": "scatter3d"
           }
          ],
          "scattercarpet": [
           {
            "marker": {
             "colorbar": {
              "outlinewidth": 0,
              "ticks": ""
             }
            },
            "type": "scattercarpet"
           }
          ],
          "scattergeo": [
           {
            "marker": {
             "colorbar": {
              "outlinewidth": 0,
              "ticks": ""
             }
            },
            "type": "scattergeo"
           }
          ],
          "scattergl": [
           {
            "marker": {
             "colorbar": {
              "outlinewidth": 0,
              "ticks": ""
             }
            },
            "type": "scattergl"
           }
          ],
          "scattermapbox": [
           {
            "marker": {
             "colorbar": {
              "outlinewidth": 0,
              "ticks": ""
             }
            },
            "type": "scattermapbox"
           }
          ],
          "scatterpolar": [
           {
            "marker": {
             "colorbar": {
              "outlinewidth": 0,
              "ticks": ""
             }
            },
            "type": "scatterpolar"
           }
          ],
          "scatterpolargl": [
           {
            "marker": {
             "colorbar": {
              "outlinewidth": 0,
              "ticks": ""
             }
            },
            "type": "scatterpolargl"
           }
          ],
          "scatterternary": [
           {
            "marker": {
             "colorbar": {
              "outlinewidth": 0,
              "ticks": ""
             }
            },
            "type": "scatterternary"
           }
          ],
          "surface": [
           {
            "colorbar": {
             "outlinewidth": 0,
             "ticks": ""
            },
            "colorscale": [
             [
              0,
              "#0d0887"
             ],
             [
              0.1111111111111111,
              "#46039f"
             ],
             [
              0.2222222222222222,
              "#7201a8"
             ],
             [
              0.3333333333333333,
              "#9c179e"
             ],
             [
              0.4444444444444444,
              "#bd3786"
             ],
             [
              0.5555555555555556,
              "#d8576b"
             ],
             [
              0.6666666666666666,
              "#ed7953"
             ],
             [
              0.7777777777777778,
              "#fb9f3a"
             ],
             [
              0.8888888888888888,
              "#fdca26"
             ],
             [
              1,
              "#f0f921"
             ]
            ],
            "type": "surface"
           }
          ],
          "table": [
           {
            "cells": {
             "fill": {
              "color": "#EBF0F8"
             },
             "line": {
              "color": "white"
             }
            },
            "header": {
             "fill": {
              "color": "#C8D4E3"
             },
             "line": {
              "color": "white"
             }
            },
            "type": "table"
           }
          ]
         },
         "layout": {
          "annotationdefaults": {
           "arrowcolor": "#2a3f5f",
           "arrowhead": 0,
           "arrowwidth": 1
          },
          "autotypenumbers": "strict",
          "coloraxis": {
           "colorbar": {
            "outlinewidth": 0,
            "ticks": ""
           }
          },
          "colorscale": {
           "diverging": [
            [
             0,
             "#8e0152"
            ],
            [
             0.1,
             "#c51b7d"
            ],
            [
             0.2,
             "#de77ae"
            ],
            [
             0.3,
             "#f1b6da"
            ],
            [
             0.4,
             "#fde0ef"
            ],
            [
             0.5,
             "#f7f7f7"
            ],
            [
             0.6,
             "#e6f5d0"
            ],
            [
             0.7,
             "#b8e186"
            ],
            [
             0.8,
             "#7fbc41"
            ],
            [
             0.9,
             "#4d9221"
            ],
            [
             1,
             "#276419"
            ]
           ],
           "sequential": [
            [
             0,
             "#0d0887"
            ],
            [
             0.1111111111111111,
             "#46039f"
            ],
            [
             0.2222222222222222,
             "#7201a8"
            ],
            [
             0.3333333333333333,
             "#9c179e"
            ],
            [
             0.4444444444444444,
             "#bd3786"
            ],
            [
             0.5555555555555556,
             "#d8576b"
            ],
            [
             0.6666666666666666,
             "#ed7953"
            ],
            [
             0.7777777777777778,
             "#fb9f3a"
            ],
            [
             0.8888888888888888,
             "#fdca26"
            ],
            [
             1,
             "#f0f921"
            ]
           ],
           "sequentialminus": [
            [
             0,
             "#0d0887"
            ],
            [
             0.1111111111111111,
             "#46039f"
            ],
            [
             0.2222222222222222,
             "#7201a8"
            ],
            [
             0.3333333333333333,
             "#9c179e"
            ],
            [
             0.4444444444444444,
             "#bd3786"
            ],
            [
             0.5555555555555556,
             "#d8576b"
            ],
            [
             0.6666666666666666,
             "#ed7953"
            ],
            [
             0.7777777777777778,
             "#fb9f3a"
            ],
            [
             0.8888888888888888,
             "#fdca26"
            ],
            [
             1,
             "#f0f921"
            ]
           ]
          },
          "colorway": [
           "#636efa",
           "#EF553B",
           "#00cc96",
           "#ab63fa",
           "#FFA15A",
           "#19d3f3",
           "#FF6692",
           "#B6E880",
           "#FF97FF",
           "#FECB52"
          ],
          "font": {
           "color": "#2a3f5f"
          },
          "geo": {
           "bgcolor": "white",
           "lakecolor": "white",
           "landcolor": "#E5ECF6",
           "showlakes": true,
           "showland": true,
           "subunitcolor": "white"
          },
          "hoverlabel": {
           "align": "left"
          },
          "hovermode": "closest",
          "mapbox": {
           "style": "light"
          },
          "paper_bgcolor": "white",
          "plot_bgcolor": "#E5ECF6",
          "polar": {
           "angularaxis": {
            "gridcolor": "white",
            "linecolor": "white",
            "ticks": ""
           },
           "bgcolor": "#E5ECF6",
           "radialaxis": {
            "gridcolor": "white",
            "linecolor": "white",
            "ticks": ""
           }
          },
          "scene": {
           "xaxis": {
            "backgroundcolor": "#E5ECF6",
            "gridcolor": "white",
            "gridwidth": 2,
            "linecolor": "white",
            "showbackground": true,
            "ticks": "",
            "zerolinecolor": "white"
           },
           "yaxis": {
            "backgroundcolor": "#E5ECF6",
            "gridcolor": "white",
            "gridwidth": 2,
            "linecolor": "white",
            "showbackground": true,
            "ticks": "",
            "zerolinecolor": "white"
           },
           "zaxis": {
            "backgroundcolor": "#E5ECF6",
            "gridcolor": "white",
            "gridwidth": 2,
            "linecolor": "white",
            "showbackground": true,
            "ticks": "",
            "zerolinecolor": "white"
           }
          },
          "shapedefaults": {
           "line": {
            "color": "#2a3f5f"
           }
          },
          "ternary": {
           "aaxis": {
            "gridcolor": "white",
            "linecolor": "white",
            "ticks": ""
           },
           "baxis": {
            "gridcolor": "white",
            "linecolor": "white",
            "ticks": ""
           },
           "bgcolor": "#E5ECF6",
           "caxis": {
            "gridcolor": "white",
            "linecolor": "white",
            "ticks": ""
           }
          },
          "title": {
           "x": 0.05
          },
          "xaxis": {
           "automargin": true,
           "gridcolor": "white",
           "linecolor": "white",
           "ticks": "",
           "title": {
            "standoff": 15
           },
           "zerolinecolor": "white",
           "zerolinewidth": 2
          },
          "yaxis": {
           "automargin": true,
           "gridcolor": "white",
           "linecolor": "white",
           "ticks": "",
           "title": {
            "standoff": 15
           },
           "zerolinecolor": "white",
           "zerolinewidth": 2
          }
         }
        },
        "title": {
         "text": "Stacked Barplot of Predicted Superclasses Occurrence for Species"
        },
        "width": 1500,
        "xaxis": {
         "anchor": "y",
         "domain": [
          0,
          1
         ],
         "title": {
          "text": "Recurrence"
         }
        },
        "yaxis": {
         "anchor": "x",
         "categoryarray": [
          "Swertia verticillifolia",
          "Swertia tosaensis",
          "Swertia thomsonii",
          "Swertia tetrapetala",
          "Swertia teres",
          "Swertia swertopsis",
          "Swertia souliei",
          "Swertia racemosa",
          "Swertia punicea",
          "Swertia pubescens",
          "Swertia pseudochinensis",
          "Swertia przewalskii",
          "Swertia petiolata",
          "Swertia perennis",
          "Swertia paniculata",
          "Swertia obtusa",
          "Swertia nervosa",
          "Swertia mussotii",
          "Swertia marginata",
          "Swertia macrosperma",
          "Swertia leducii",
          "Swertia lawii",
          "Swertia kouitchensis",
          "Swertia japonica",
          "Swertia iberica",
          "Swertia hookeri",
          "Swertia franchetiana",
          "Swertia fasciculata",
          "Swertia erythrosticta",
          "Swertia dilatata",
          "Swertia densifolia",
          "Swertia delavayi",
          "Swertia decora",
          "Swertia davidii",
          "Swertia cuneata",
          "Swertia corymbosa",
          "Swertia cordata",
          "Swertia cincta",
          "Swertia ciliata",
          "Swertia chirayita",
          "Swertia chinensis",
          "Swertia calycina",
          "Swertia bimaculata",
          "Swertia arisanensis",
          "Swertia angustifolia",
          "Swertia alata"
         ],
         "categoryorder": "array",
         "domain": [
          0,
          1
         ],
         "tickmode": "array",
         "ticktext": [
          "<i>Swertia alata</i>",
          "<i>Swertia angustifolia</i>",
          "<i>Swertia arisanensis</i>",
          "<i>Swertia bimaculata</i>",
          "<i>Swertia calycina</i>",
          "<i>Swertia chinensis</i>",
          "<i>Swertia chirayita</i>",
          "<i>Swertia ciliata</i>",
          "<i>Swertia cincta</i>",
          "<i>Swertia cordata</i>",
          "<i>Swertia corymbosa</i>",
          "<i>Swertia cuneata</i>",
          "<i>Swertia davidii</i>",
          "<i>Swertia decora</i>",
          "<i>Swertia delavayi</i>",
          "<i>Swertia densifolia</i>",
          "<i>Swertia dilatata</i>",
          "<i>Swertia erythrosticta</i>",
          "<i>Swertia fasciculata</i>",
          "<i>Swertia franchetiana</i>",
          "<i>Swertia hookeri</i>",
          "<i>Swertia iberica</i>",
          "<i>Swertia japonica</i>",
          "<i>Swertia kouitchensis</i>",
          "<i>Swertia lawii</i>",
          "<i>Swertia leducii</i>",
          "<i>Swertia macrosperma</i>",
          "<i>Swertia marginata</i>",
          "<i>Swertia mussotii</i>",
          "<i>Swertia nervosa</i>",
          "<i>Swertia obtusa</i>",
          "<i>Swertia paniculata</i>",
          "<i>Swertia perennis</i>",
          "<i>Swertia petiolata</i>",
          "<i>Swertia przewalskii</i>",
          "<i>Swertia pseudochinensis</i>",
          "<i>Swertia pubescens</i>",
          "<i>Swertia punicea</i>",
          "<i>Swertia racemosa</i>",
          "<i>Swertia souliei</i>",
          "<i>Swertia swertopsis</i>",
          "<i>Swertia teres</i>",
          "<i>Swertia tetrapetala</i>",
          "<i>Swertia thomsonii</i>",
          "<i>Swertia tosaensis</i>",
          "<i>Swertia verticillifolia</i>"
         ],
         "tickvals": [
          0,
          1,
          2,
          3,
          4,
          5,
          6,
          7,
          8,
          9,
          10,
          11,
          12,
          13,
          14,
          15,
          16,
          17,
          18,
          19,
          20,
          21,
          22,
          23,
          24,
          25,
          26,
          27,
          28,
          29,
          30,
          31,
          32,
          33,
          34,
          35,
          36,
          37,
          38,
          39,
          40,
          41,
          42,
          43,
          44,
          45
         ],
         "title": {
          "text": "<i>Species<i>"
         }
        }
       }
      }
     },
     "metadata": {},
     "output_type": "display_data"
    }
   ],
   "source": [
    "# Step 1: Read data from all .tsv files in the output_folder\n",
    "all_data = pd.concat([pd.read_csv(os.path.join(output_folder, 'species_data', filename), sep='\\t') for filename in os.listdir(os.path.join(output_folder, 'species_data')) if filename.endswith(\".tsv\")])\n",
    "\n",
    "# Step 2: Rename the \"organism_taxonomy_09species\" column to \"species\"\n",
    "all_data.rename(columns={'organism_taxonomy_09species': 'species'}, inplace=True)\n",
    "\n",
    "# Remove 'API Error-API Error' and 'Not Classified-Not Classified'\n",
    "all_data = all_data[~all_data['chemical_superclass'].isin(['API Error-API Error', 'Not Classified-Not Classified'])]\n",
    "\n",
    "# Apply the function to each row\n",
    "all_data[['Pathway', 'superclass']] = all_data.apply(lambda row: split_chemical_superclass(row), axis=1, result_type='expand')\n",
    "\n",
    "# Step 4: Process data for color mapping\n",
    "color_map = {}\n",
    "for pathway, superclasses in all_data.groupby('Pathway')['superclass'].unique().items():\n",
    "    shades = generate_shades(pathway, len(superclasses))\n",
    "    for superclass, shade in zip(superclasses, shades):\n",
    "        color_map[f\"{pathway}-{superclass}\"] = shade\n",
    "\n",
    "# Step 5: Group and aggregate data to calculate recurrence\n",
    "agg_data = all_data.groupby(['species', 'chemical_superclass']).size().reset_index(name='recurrence')\n",
    "\n",
    "# Convert 'species' column to categorical data\n",
    "agg_data['species'] = pd.Categorical(agg_data['species'], categories=agg_data['species'].unique(), ordered=True)\n",
    "\n",
    "# Get unique species names\n",
    "unique_species = agg_data['species'].unique()\n",
    "\n",
    "# Get unique chemical superclasses and sort them alphabetically\n",
    "unique_superclasses = sorted(agg_data['chemical_superclass'].unique())\n",
    "\n",
    "# Calculate total recurrence for each species\n",
    "total_recurrence_per_species = agg_data.groupby('species')['recurrence'].sum()\n",
    "\n",
    "# Create the stacked barplot with the custom color palette\n",
    "fig = px.bar(agg_data, y='species', x='recurrence',\n",
    "             title='Stacked Barplot of Predicted Superclasses Occurrence for Species',\n",
    "             labels={'recurrence': 'Recurrence'},\n",
    "             color='chemical_superclass',\n",
    "             color_discrete_map=color_map,\n",
    "             category_orders={'species': unique_species, 'chemical_superclass': unique_superclasses},\n",
    "             orientation='h')\n",
    "\n",
    "# Modify the y-axis label\n",
    "fig.update_yaxes(title_text='<i>Species<i>')\n",
    "\n",
    "# Set species labels in italics\n",
    "fig.update_layout(yaxis=dict(tickmode='array',\n",
    "                              tickvals=list(range(len(unique_species))),\n",
    "                              ticktext=[f'<i>{species}</i>' for species in unique_species]\n",
    "                              ))\n",
    "\n",
    "# Set a white background\n",
    "fig.update_layout(plot_bgcolor='white')\n",
    "\n",
    "# Modify the size of the figure\n",
    "fig.update_layout(width=1500, height=1500)\n",
    "\n",
    "# Save the figure as an HTML file\n",
    "fig.write_html(f'{output_folder}Wikidata_superclass_barplot_species.html')\n",
    "\n",
    "# Show the figure\n",
    "fig.show()\n"
   ]
  },
  {
   "cell_type": "code",
   "execution_count": 16,
   "metadata": {},
   "outputs": [
    {
     "name": "stderr",
     "output_type": "stream",
     "text": [
      "C:\\Users\\quirosgu\\AppData\\Local\\Temp\\ipykernel_6524\\1941301309.py:2: FutureWarning:\n",
      "\n",
      "The behavior of DataFrame concatenation with empty or all-NA entries is deprecated. In a future version, this will no longer exclude empty or all-NA columns when determining the result dtypes. To retain the old behavior, exclude the relevant entries before the concat operation.\n",
      "\n",
      "C:\\Users\\quirosgu\\AppData\\Local\\Temp\\ipykernel_6524\\1941301309.py:36: FutureWarning:\n",
      "\n",
      "The default of observed=False is deprecated and will be changed to True in a future version of pandas. Pass observed=False to retain current behavior or observed=True to adopt the future default and silence this warning.\n",
      "\n"
     ]
    },
    {
     "data": {
      "application/vnd.plotly.v1+json": {
       "config": {
        "plotlyServerURL": "https://plot.ly"
       },
       "data": [
        {
         "alignmentgroup": "True",
         "hovertemplate": "chemical_superclass=Alkaloids-Nicotinic acid alkaloids<br>Recurrence=%{x}<br>species=%{y}<extra></extra>",
         "legendgroup": "Alkaloids-Nicotinic acid alkaloids",
         "marker": {
          "color": "#305F72",
          "pattern": {
           "shape": ""
          }
         },
         "name": "Alkaloids-Nicotinic acid alkaloids",
         "offsetgroup": "Alkaloids-Nicotinic acid alkaloids",
         "orientation": "h",
         "showlegend": true,
         "textposition": "auto",
         "type": "bar",
         "x": [
          10,
          10,
          100
         ],
         "xaxis": "x",
         "y": [
          "Swertia angustifolia",
          "Swertia ciliata",
          "Swertia marginata"
         ],
         "yaxis": "y"
        },
        {
         "alignmentgroup": "True",
         "hovertemplate": "chemical_superclass=Carbohydrates-Nucleosides<br>Recurrence=%{x}<br>species=%{y}<extra></extra>",
         "legendgroup": "Carbohydrates-Nucleosides",
         "marker": {
          "color": "#967a4e",
          "pattern": {
           "shape": ""
          }
         },
         "name": "Carbohydrates-Nucleosides",
         "offsetgroup": "Carbohydrates-Nucleosides",
         "orientation": "h",
         "showlegend": true,
         "textposition": "auto",
         "type": "bar",
         "x": [
          16.666666666666664
         ],
         "xaxis": "x",
         "y": [
          "Swertia obtusa"
         ],
         "yaxis": "y"
        },
        {
         "alignmentgroup": "True",
         "hovertemplate": "chemical_superclass=Carbohydrates-Polyols<br>Recurrence=%{x}<br>species=%{y}<extra></extra>",
         "legendgroup": "Carbohydrates-Polyols",
         "marker": {
          "color": "#c8ae7d",
          "pattern": {
           "shape": ""
          }
         },
         "name": "Carbohydrates-Polyols",
         "offsetgroup": "Carbohydrates-Polyols",
         "orientation": "h",
         "showlegend": true,
         "textposition": "auto",
         "type": "bar",
         "x": [
          3.3333333333333335
         ],
         "xaxis": "x",
         "y": [
          "Swertia punicea"
         ],
         "yaxis": "y"
        },
        {
         "alignmentgroup": "True",
         "hovertemplate": "chemical_superclass=Carbohydrates-Saccharides<br>Recurrence=%{x}<br>species=%{y}<extra></extra>",
         "legendgroup": "Carbohydrates-Saccharides",
         "marker": {
          "color": "#65451f",
          "pattern": {
           "shape": ""
          }
         },
         "name": "Carbohydrates-Saccharides",
         "offsetgroup": "Carbohydrates-Saccharides",
         "orientation": "h",
         "showlegend": true,
         "textposition": "auto",
         "type": "bar",
         "x": [
          28.57142857142857
         ],
         "xaxis": "x",
         "y": [
          "Swertia pubescens"
         ],
         "yaxis": "y"
        },
        {
         "alignmentgroup": "True",
         "hovertemplate": "chemical_superclass=Fatty acids-Fatty acyls<br>Recurrence=%{x}<br>species=%{y}<extra></extra>",
         "legendgroup": "Fatty acids-Fatty acyls",
         "marker": {
          "color": "#ff6c22",
          "pattern": {
           "shape": ""
          }
         },
         "name": "Fatty acids-Fatty acyls",
         "offsetgroup": "Fatty acids-Fatty acyls",
         "orientation": "h",
         "showlegend": true,
         "textposition": "auto",
         "type": "bar",
         "x": [
          3.0534351145038165
         ],
         "xaxis": "x",
         "y": [
          "Swertia japonica"
         ],
         "yaxis": "y"
        },
        {
         "alignmentgroup": "True",
         "hovertemplate": "chemical_superclass=Fatty acids-Fatty esters<br>Recurrence=%{x}<br>species=%{y}<extra></extra>",
         "legendgroup": "Fatty acids-Fatty esters",
         "marker": {
          "color": "#ff9209",
          "pattern": {
           "shape": ""
          }
         },
         "name": "Fatty acids-Fatty esters",
         "offsetgroup": "Fatty acids-Fatty esters",
         "orientation": "h",
         "showlegend": true,
         "textposition": "auto",
         "type": "bar",
         "x": [
          0.7633587786259541
         ],
         "xaxis": "x",
         "y": [
          "Swertia japonica"
         ],
         "yaxis": "y"
        },
        {
         "alignmentgroup": "True",
         "hovertemplate": "chemical_superclass=Polyketides-Cyclic polyketides<br>Recurrence=%{x}<br>species=%{y}<extra></extra>",
         "legendgroup": "Polyketides-Cyclic polyketides",
         "marker": {
          "color": "#ed7860",
          "pattern": {
           "shape": ""
          }
         },
         "name": "Polyketides-Cyclic polyketides",
         "offsetgroup": "Polyketides-Cyclic polyketides",
         "orientation": "h",
         "showlegend": true,
         "textposition": "auto",
         "type": "bar",
         "x": [
          3.0534351145038165
         ],
         "xaxis": "x",
         "y": [
          "Swertia japonica"
         ],
         "yaxis": "y"
        },
        {
         "alignmentgroup": "True",
         "hovertemplate": "chemical_superclass=Polyketides-Naphthalenes<br>Recurrence=%{x}<br>species=%{y}<extra></extra>",
         "legendgroup": "Polyketides-Naphthalenes",
         "marker": {
          "color": "#ee6255",
          "pattern": {
           "shape": ""
          }
         },
         "name": "Polyketides-Naphthalenes",
         "offsetgroup": "Polyketides-Naphthalenes",
         "orientation": "h",
         "showlegend": true,
         "textposition": "auto",
         "type": "bar",
         "x": [
          6.25
         ],
         "xaxis": "x",
         "y": [
          "Swertia calycina"
         ],
         "yaxis": "y"
        },
        {
         "alignmentgroup": "True",
         "hovertemplate": "chemical_superclass=Polyketides-Polycyclic aromatic polyketides<br>Recurrence=%{x}<br>species=%{y}<extra></extra>",
         "legendgroup": "Polyketides-Polycyclic aromatic polyketides",
         "marker": {
          "color": "#ec8f6a",
          "pattern": {
           "shape": ""
          }
         },
         "name": "Polyketides-Polycyclic aromatic polyketides",
         "offsetgroup": "Polyketides-Polycyclic aromatic polyketides",
         "orientation": "h",
         "showlegend": true,
         "textposition": "auto",
         "type": "bar",
         "x": [
          0.7633587786259541
         ],
         "xaxis": "x",
         "y": [
          "Swertia japonica"
         ],
         "yaxis": "y"
        },
        {
         "alignmentgroup": "True",
         "hovertemplate": "chemical_superclass=Polyketides-Xanthones<br>Recurrence=%{x}<br>species=%{y}<extra></extra>",
         "legendgroup": "Polyketides-Xanthones",
         "marker": {
          "color": "#ef4b4b",
          "pattern": {
           "shape": ""
          }
         },
         "name": "Polyketides-Xanthones",
         "offsetgroup": "Polyketides-Xanthones",
         "orientation": "h",
         "showlegend": true,
         "textposition": "auto",
         "type": "bar",
         "x": [
          50,
          18.75,
          16.39344262295082,
          20,
          8.333333333333332,
          100,
          42.857142857142854,
          100,
          50,
          100,
          44.44444444444444,
          83.33333333333334,
          4.580152671755725,
          100,
          28.57142857142857,
          50,
          16.666666666666664,
          14.285714285714285,
          18.181818181818183,
          23.52941176470588,
          13.333333333333334,
          100,
          21.428571428571427,
          50,
          100,
          50
         ],
         "xaxis": "x",
         "y": [
          "Swertia bimaculata",
          "Swertia calycina",
          "Swertia chirayita",
          "Swertia ciliata",
          "Swertia corymbosa",
          "Swertia davidii",
          "Swertia decora",
          "Swertia densifolia",
          "Swertia dilatata",
          "Swertia erythrosticta",
          "Swertia hookeri",
          "Swertia iberica",
          "Swertia japonica",
          "Swertia lawii",
          "Swertia macrosperma",
          "Swertia nervosa",
          "Swertia obtusa",
          "Swertia paniculata",
          "Swertia perennis",
          "Swertia pseudochinensis",
          "Swertia punicea",
          "Swertia racemosa",
          "Swertia souliei",
          "Swertia swertopsis",
          "Swertia teres",
          "Swertia thomsonii"
         ],
         "yaxis": "y"
        },
        {
         "alignmentgroup": "True",
         "hovertemplate": "chemical_superclass=Shikimates and Phenylpropanoids-Flavonoids<br>Recurrence=%{x}<br>species=%{y}<extra></extra>",
         "legendgroup": "Shikimates and Phenylpropanoids-Flavonoids",
         "marker": {
          "color": "#a57a9d",
          "pattern": {
           "shape": ""
          }
         },
         "name": "Shikimates and Phenylpropanoids-Flavonoids",
         "offsetgroup": "Shikimates and Phenylpropanoids-Flavonoids",
         "orientation": "h",
         "showlegend": true,
         "textposition": "auto",
         "type": "bar",
         "x": [
          10,
          28.57142857142857,
          50,
          6.666666666666667,
          11.11111111111111,
          5.343511450381679,
          5.714285714285714,
          25,
          28.57142857142857,
          36.36363636363637,
          29.411764705882355,
          14.285714285714285,
          6.666666666666667,
          25,
          66.66666666666666
         ],
         "xaxis": "x",
         "y": [
          "Swertia ciliata",
          "Swertia decora",
          "Swertia delavayi",
          "Swertia franchetiana",
          "Swertia hookeri",
          "Swertia japonica",
          "Swertia leducii",
          "Swertia mussotii",
          "Swertia paniculata",
          "Swertia perennis",
          "Swertia pseudochinensis",
          "Swertia pubescens",
          "Swertia punicea",
          "Swertia swertopsis",
          "Swertia tetrapetala"
         ],
         "yaxis": "y"
        },
        {
         "alignmentgroup": "True",
         "hovertemplate": "chemical_superclass=Shikimates and Phenylpropanoids-Lignans<br>Recurrence=%{x}<br>species=%{y}<extra></extra>",
         "legendgroup": "Shikimates and Phenylpropanoids-Lignans",
         "marker": {
          "color": "#b88da5",
          "pattern": {
           "shape": ""
          }
         },
         "name": "Shikimates and Phenylpropanoids-Lignans",
         "offsetgroup": "Shikimates and Phenylpropanoids-Lignans",
         "orientation": "h",
         "showlegend": true,
         "textposition": "auto",
         "type": "bar",
         "x": [
          0.7633587786259541
         ],
         "xaxis": "x",
         "y": [
          "Swertia japonica"
         ],
         "yaxis": "y"
        },
        {
         "alignmentgroup": "True",
         "hovertemplate": "chemical_superclass=Shikimates and Phenylpropanoids-Phenanthrenoids<br>Recurrence=%{x}<br>species=%{y}<extra></extra>",
         "legendgroup": "Shikimates and Phenylpropanoids-Phenanthrenoids",
         "marker": {
          "color": "#cba0ae",
          "pattern": {
           "shape": ""
          }
         },
         "name": "Shikimates and Phenylpropanoids-Phenanthrenoids",
         "offsetgroup": "Shikimates and Phenylpropanoids-Phenanthrenoids",
         "orientation": "h",
         "showlegend": true,
         "textposition": "auto",
         "type": "bar",
         "x": [
          1.5267175572519083
         ],
         "xaxis": "x",
         "y": [
          "Swertia japonica"
         ],
         "yaxis": "y"
        },
        {
         "alignmentgroup": "True",
         "hovertemplate": "chemical_superclass=Shikimates and Phenylpropanoids-Phenolic acids (C6-C1)<br>Recurrence=%{x}<br>species=%{y}<extra></extra>",
         "legendgroup": "Shikimates and Phenylpropanoids-Phenolic acids (C6-C1)",
         "marker": {
          "color": "#00cc96",
          "pattern": {
           "shape": ""
          }
         },
         "name": "Shikimates and Phenylpropanoids-Phenolic acids (C6-C1)",
         "offsetgroup": "Shikimates and Phenylpropanoids-Phenolic acids (C6-C1)",
         "orientation": "h",
         "showlegend": true,
         "textposition": "auto",
         "type": "bar",
         "x": [
          1.639344262295082,
          1.5267175572519083,
          9.090909090909092,
          9.090909090909092
         ],
         "xaxis": "x",
         "y": [
          "Swertia chirayita",
          "Swertia japonica",
          "Swertia perennis",
          "Swertia petiolata"
         ],
         "yaxis": "y"
        },
        {
         "alignmentgroup": "True",
         "hovertemplate": "chemical_superclass=Shikimates and Phenylpropanoids-Phenylethanoids (C6-C2)<br>Recurrence=%{x}<br>species=%{y}<extra></extra>",
         "legendgroup": "Shikimates and Phenylpropanoids-Phenylethanoids (C6-C2)",
         "marker": {
          "color": "#ab63fa",
          "pattern": {
           "shape": ""
          }
         },
         "name": "Shikimates and Phenylpropanoids-Phenylethanoids (C6-C2)",
         "offsetgroup": "Shikimates and Phenylpropanoids-Phenylethanoids (C6-C2)",
         "orientation": "h",
         "showlegend": true,
         "textposition": "auto",
         "type": "bar",
         "x": [
          1.5267175572519083
         ],
         "xaxis": "x",
         "y": [
          "Swertia japonica"
         ],
         "yaxis": "y"
        },
        {
         "alignmentgroup": "True",
         "hovertemplate": "chemical_superclass=Shikimates and Phenylpropanoids-Phenylpropanoids (C6-C3)<br>Recurrence=%{x}<br>species=%{y}<extra></extra>",
         "legendgroup": "Shikimates and Phenylpropanoids-Phenylpropanoids (C6-C3)",
         "marker": {
          "color": "#FFA15A",
          "pattern": {
           "shape": ""
          }
         },
         "name": "Shikimates and Phenylpropanoids-Phenylpropanoids (C6-C3)",
         "offsetgroup": "Shikimates and Phenylpropanoids-Phenylpropanoids (C6-C3)",
         "orientation": "h",
         "showlegend": true,
         "textposition": "auto",
         "type": "bar",
         "x": [
          9.16030534351145
         ],
         "xaxis": "x",
         "y": [
          "Swertia japonica"
         ],
         "yaxis": "y"
        },
        {
         "alignmentgroup": "True",
         "hovertemplate": "chemical_superclass=Shikimates and Phenylpropanoids-Xanthones<br>Recurrence=%{x}<br>species=%{y}<extra></extra>",
         "legendgroup": "Shikimates and Phenylpropanoids-Xanthones",
         "marker": {
          "color": "#80558c",
          "pattern": {
           "shape": ""
          }
         },
         "name": "Shikimates and Phenylpropanoids-Xanthones",
         "offsetgroup": "Shikimates and Phenylpropanoids-Xanthones",
         "orientation": "h",
         "showlegend": true,
         "textposition": "auto",
         "type": "bar",
         "x": [
          20,
          50,
          50,
          22.950819672131146,
          30,
          50,
          100,
          16.666666666666664,
          100,
          50,
          50,
          6.666666666666667,
          44.44444444444444,
          16.666666666666664,
          6.106870229007633,
          100,
          28.57142857142857,
          50,
          25,
          33.33333333333333,
          28.57142857142857,
          36.36363636363637,
          45.45454545454545,
          17.647058823529413,
          14.285714285714285,
          53.333333333333336,
          14.285714285714285,
          25,
          100
         ],
         "xaxis": "x",
         "y": [
          "Swertia angustifolia",
          "Swertia bimaculata",
          "Swertia calycina",
          "Swertia chirayita",
          "Swertia ciliata",
          "Swertia cincta",
          "Swertia cordata",
          "Swertia corymbosa",
          "Swertia cuneata",
          "Swertia dilatata",
          "Swertia fasciculata",
          "Swertia franchetiana",
          "Swertia hookeri",
          "Swertia iberica",
          "Swertia japonica",
          "Swertia kouitchensis",
          "Swertia macrosperma",
          "Swertia mussotii",
          "Swertia nervosa",
          "Swertia obtusa",
          "Swertia paniculata",
          "Swertia perennis",
          "Swertia petiolata",
          "Swertia pseudochinensis",
          "Swertia pubescens",
          "Swertia punicea",
          "Swertia souliei",
          "Swertia swertopsis",
          "Swertia tosaensis"
         ],
         "yaxis": "y"
        },
        {
         "alignmentgroup": "True",
         "hovertemplate": "chemical_superclass=Terpenoids-Apocarotenoids<br>Recurrence=%{x}<br>species=%{y}<extra></extra>",
         "legendgroup": "Terpenoids-Apocarotenoids",
         "marker": {
          "color": "#bad3bc",
          "pattern": {
           "shape": ""
          }
         },
         "name": "Terpenoids-Apocarotenoids",
         "offsetgroup": "Terpenoids-Apocarotenoids",
         "orientation": "h",
         "showlegend": true,
         "textposition": "auto",
         "type": "bar",
         "x": [
          3.0534351145038165
         ],
         "xaxis": "x",
         "y": [
          "Swertia japonica"
         ],
         "yaxis": "y"
        },
        {
         "alignmentgroup": "True",
         "hovertemplate": "chemical_superclass=Terpenoids-Meroterpenoids<br>Recurrence=%{x}<br>species=%{y}<extra></extra>",
         "legendgroup": "Terpenoids-Meroterpenoids",
         "marker": {
          "color": "#d0e7d2",
          "pattern": {
           "shape": ""
          }
         },
         "name": "Terpenoids-Meroterpenoids",
         "offsetgroup": "Terpenoids-Meroterpenoids",
         "orientation": "h",
         "showlegend": true,
         "textposition": "auto",
         "type": "bar",
         "x": [
          10
         ],
         "xaxis": "x",
         "y": [
          "Swertia angustifolia"
         ],
         "yaxis": "y"
        },
        {
         "alignmentgroup": "True",
         "hovertemplate": "chemical_superclass=Terpenoids-Monoterpenoids<br>Recurrence=%{x}<br>species=%{y}<extra></extra>",
         "legendgroup": "Terpenoids-Monoterpenoids",
         "marker": {
          "color": "#618264",
          "pattern": {
           "shape": ""
          }
         },
         "name": "Terpenoids-Monoterpenoids",
         "offsetgroup": "Terpenoids-Monoterpenoids",
         "orientation": "h",
         "showlegend": true,
         "textposition": "auto",
         "type": "bar",
         "x": [
          20,
          33.33333333333333,
          25,
          100,
          8.19672131147541,
          50,
          28.57142857142857,
          50,
          50,
          80,
          44.274809160305345,
          88.57142857142857,
          14.285714285714285,
          25,
          33.33333333333333,
          29.411764705882355,
          28.57142857142857,
          16.666666666666664
         ],
         "xaxis": "x",
         "y": [
          "Swertia angustifolia",
          "Swertia arisanensis",
          "Swertia calycina",
          "Swertia chinensis",
          "Swertia chirayita",
          "Swertia cincta",
          "Swertia decora",
          "Swertia delavayi",
          "Swertia fasciculata",
          "Swertia franchetiana",
          "Swertia japonica",
          "Swertia leducii",
          "Swertia macrosperma",
          "Swertia nervosa",
          "Swertia obtusa",
          "Swertia pseudochinensis",
          "Swertia pubescens",
          "Swertia punicea"
         ],
         "yaxis": "y"
        },
        {
         "alignmentgroup": "True",
         "hovertemplate": "chemical_superclass=Terpenoids-Sesquiterpenoids<br>Recurrence=%{x}<br>species=%{y}<extra></extra>",
         "legendgroup": "Terpenoids-Sesquiterpenoids",
         "marker": {
          "color": "#a4bfa6",
          "pattern": {
           "shape": ""
          }
         },
         "name": "Terpenoids-Sesquiterpenoids",
         "offsetgroup": "Terpenoids-Sesquiterpenoids",
         "orientation": "h",
         "showlegend": true,
         "textposition": "auto",
         "type": "bar",
         "x": [
          12.977099236641221
         ],
         "xaxis": "x",
         "y": [
          "Swertia japonica"
         ],
         "yaxis": "y"
        },
        {
         "alignmentgroup": "True",
         "hovertemplate": "chemical_superclass=Terpenoids-Steroids<br>Recurrence=%{x}<br>species=%{y}<extra></extra>",
         "legendgroup": "Terpenoids-Steroids",
         "marker": {
          "color": "#8daa90",
          "pattern": {
           "shape": ""
          }
         },
         "name": "Terpenoids-Steroids",
         "offsetgroup": "Terpenoids-Steroids",
         "orientation": "h",
         "showlegend": true,
         "textposition": "auto",
         "type": "bar",
         "x": [
          1.639344262295082,
          15,
          3.3333333333333335,
          50
         ],
         "xaxis": "x",
         "y": [
          "Swertia chirayita",
          "Swertia ciliata",
          "Swertia punicea",
          "Swertia verticillifolia"
         ],
         "yaxis": "y"
        },
        {
         "alignmentgroup": "True",
         "hovertemplate": "chemical_superclass=Terpenoids-Triterpenoids<br>Recurrence=%{x}<br>species=%{y}<extra></extra>",
         "legendgroup": "Terpenoids-Triterpenoids",
         "marker": {
          "color": "#77967a",
          "pattern": {
           "shape": ""
          }
         },
         "name": "Terpenoids-Triterpenoids",
         "offsetgroup": "Terpenoids-Triterpenoids",
         "orientation": "h",
         "showlegend": true,
         "textposition": "auto",
         "type": "bar",
         "x": [
          100,
          40,
          66.66666666666666,
          49.18032786885246,
          15,
          75,
          6.666666666666667,
          1.5267175572519083,
          5.714285714285714,
          28.57142857142857,
          25,
          28.57142857142857,
          45.45454545454545,
          100,
          14.285714285714285,
          3.3333333333333335,
          64.28571428571429,
          33.33333333333333,
          50,
          50
         ],
         "xaxis": "x",
         "y": [
          "Swertia alata",
          "Swertia angustifolia",
          "Swertia arisanensis",
          "Swertia chirayita",
          "Swertia ciliata",
          "Swertia corymbosa",
          "Swertia franchetiana",
          "Swertia japonica",
          "Swertia leducii",
          "Swertia macrosperma",
          "Swertia mussotii",
          "Swertia paniculata",
          "Swertia petiolata",
          "Swertia przewalskii",
          "Swertia pubescens",
          "Swertia punicea",
          "Swertia souliei",
          "Swertia tetrapetala",
          "Swertia thomsonii",
          "Swertia verticillifolia"
         ],
         "yaxis": "y"
        }
       ],
       "layout": {
        "annotations": [
         {
          "font": {
           "color": "black",
           "size": 10
          },
          "showarrow": false,
          "text": "Total compounds: 1",
          "x": 100,
          "xanchor": "left",
          "y": "Swertia alata",
          "yanchor": "middle"
         },
         {
          "font": {
           "color": "black",
           "size": 10
          },
          "showarrow": false,
          "text": "Total compounds: 10",
          "x": 100,
          "xanchor": "left",
          "y": "Swertia angustifolia",
          "yanchor": "middle"
         },
         {
          "font": {
           "color": "black",
           "size": 10
          },
          "showarrow": false,
          "text": "Total compounds: 3",
          "x": 100,
          "xanchor": "left",
          "y": "Swertia arisanensis",
          "yanchor": "middle"
         },
         {
          "font": {
           "color": "black",
           "size": 10
          },
          "showarrow": false,
          "text": "Total compounds: 2",
          "x": 100,
          "xanchor": "left",
          "y": "Swertia bimaculata",
          "yanchor": "middle"
         },
         {
          "font": {
           "color": "black",
           "size": 10
          },
          "showarrow": false,
          "text": "Total compounds: 16",
          "x": 100,
          "xanchor": "left",
          "y": "Swertia calycina",
          "yanchor": "middle"
         },
         {
          "font": {
           "color": "black",
           "size": 10
          },
          "showarrow": false,
          "text": "Total compounds: 2",
          "x": 100,
          "xanchor": "left",
          "y": "Swertia chinensis",
          "yanchor": "middle"
         },
         {
          "font": {
           "color": "black",
           "size": 10
          },
          "showarrow": false,
          "text": "Total compounds: 61",
          "x": 100,
          "xanchor": "left",
          "y": "Swertia chirayita",
          "yanchor": "middle"
         },
         {
          "font": {
           "color": "black",
           "size": 10
          },
          "showarrow": false,
          "text": "Total compounds: 20",
          "x": 100,
          "xanchor": "left",
          "y": "Swertia ciliata",
          "yanchor": "middle"
         },
         {
          "font": {
           "color": "black",
           "size": 10
          },
          "showarrow": false,
          "text": "Total compounds: 2",
          "x": 100,
          "xanchor": "left",
          "y": "Swertia cincta",
          "yanchor": "middle"
         },
         {
          "font": {
           "color": "black",
           "size": 10
          },
          "showarrow": false,
          "text": "Total compounds: 1",
          "x": 100,
          "xanchor": "left",
          "y": "Swertia cordata",
          "yanchor": "middle"
         },
         {
          "font": {
           "color": "black",
           "size": 10
          },
          "showarrow": false,
          "text": "Total compounds: 12",
          "x": 100,
          "xanchor": "left",
          "y": "Swertia corymbosa",
          "yanchor": "middle"
         },
         {
          "font": {
           "color": "black",
           "size": 10
          },
          "showarrow": false,
          "text": "Total compounds: 1",
          "x": 100,
          "xanchor": "left",
          "y": "Swertia cuneata",
          "yanchor": "middle"
         },
         {
          "font": {
           "color": "black",
           "size": 10
          },
          "showarrow": false,
          "text": "Total compounds: 1",
          "x": 100,
          "xanchor": "left",
          "y": "Swertia davidii",
          "yanchor": "middle"
         },
         {
          "font": {
           "color": "black",
           "size": 10
          },
          "showarrow": false,
          "text": "Total compounds: 7",
          "x": 100,
          "xanchor": "left",
          "y": "Swertia decora",
          "yanchor": "middle"
         },
         {
          "font": {
           "color": "black",
           "size": 10
          },
          "showarrow": false,
          "text": "Total compounds: 4",
          "x": 100,
          "xanchor": "left",
          "y": "Swertia delavayi",
          "yanchor": "middle"
         },
         {
          "font": {
           "color": "black",
           "size": 10
          },
          "showarrow": false,
          "text": "Total compounds: 6",
          "x": 100,
          "xanchor": "left",
          "y": "Swertia densifolia",
          "yanchor": "middle"
         },
         {
          "font": {
           "color": "black",
           "size": 10
          },
          "showarrow": false,
          "text": "Total compounds: 2",
          "x": 100,
          "xanchor": "left",
          "y": "Swertia dilatata",
          "yanchor": "middle"
         },
         {
          "font": {
           "color": "black",
           "size": 10
          },
          "showarrow": false,
          "text": "Total compounds: 1",
          "x": 100,
          "xanchor": "left",
          "y": "Swertia erythrosticta",
          "yanchor": "middle"
         },
         {
          "font": {
           "color": "black",
           "size": 10
          },
          "showarrow": false,
          "text": "Total compounds: 2",
          "x": 100,
          "xanchor": "left",
          "y": "Swertia fasciculata",
          "yanchor": "middle"
         },
         {
          "font": {
           "color": "black",
           "size": 10
          },
          "showarrow": false,
          "text": "Total compounds: 15",
          "x": 100,
          "xanchor": "left",
          "y": "Swertia franchetiana",
          "yanchor": "middle"
         },
         {
          "font": {
           "color": "black",
           "size": 10
          },
          "showarrow": false,
          "text": "Total compounds: 9",
          "x": 100,
          "xanchor": "left",
          "y": "Swertia hookeri",
          "yanchor": "middle"
         },
         {
          "font": {
           "color": "black",
           "size": 10
          },
          "showarrow": false,
          "text": "Total compounds: 6",
          "x": 100,
          "xanchor": "left",
          "y": "Swertia iberica",
          "yanchor": "middle"
         },
         {
          "font": {
           "color": "black",
           "size": 10
          },
          "showarrow": false,
          "text": "Total compounds: 131",
          "x": 100,
          "xanchor": "left",
          "y": "Swertia japonica",
          "yanchor": "middle"
         },
         {
          "font": {
           "color": "black",
           "size": 10
          },
          "showarrow": false,
          "text": "Total compounds: 13",
          "x": 100,
          "xanchor": "left",
          "y": "Swertia kouitchensis",
          "yanchor": "middle"
         },
         {
          "font": {
           "color": "black",
           "size": 10
          },
          "showarrow": false,
          "text": "Total compounds: 2",
          "x": 100,
          "xanchor": "left",
          "y": "Swertia lawii",
          "yanchor": "middle"
         },
         {
          "font": {
           "color": "black",
           "size": 10
          },
          "showarrow": false,
          "text": "Total compounds: 35",
          "x": 100,
          "xanchor": "left",
          "y": "Swertia leducii",
          "yanchor": "middle"
         },
         {
          "font": {
           "color": "black",
           "size": 10
          },
          "showarrow": false,
          "text": "Total compounds: 7",
          "x": 100,
          "xanchor": "left",
          "y": "Swertia macrosperma",
          "yanchor": "middle"
         },
         {
          "font": {
           "color": "black",
           "size": 10
          },
          "showarrow": false,
          "text": "Total compounds: 1",
          "x": 100,
          "xanchor": "left",
          "y": "Swertia marginata",
          "yanchor": "middle"
         },
         {
          "font": {
           "color": "black",
           "size": 10
          },
          "showarrow": false,
          "text": "Total compounds: 4",
          "x": 100,
          "xanchor": "left",
          "y": "Swertia mussotii",
          "yanchor": "middle"
         },
         {
          "font": {
           "color": "black",
           "size": 10
          },
          "showarrow": false,
          "text": "Total compounds: 4",
          "x": 100,
          "xanchor": "left",
          "y": "Swertia nervosa",
          "yanchor": "middle"
         },
         {
          "font": {
           "color": "black",
           "size": 10
          },
          "showarrow": false,
          "text": "Total compounds: 6",
          "x": 100,
          "xanchor": "left",
          "y": "Swertia obtusa",
          "yanchor": "middle"
         },
         {
          "font": {
           "color": "black",
           "size": 10
          },
          "showarrow": false,
          "text": "Total compounds: 7",
          "x": 100,
          "xanchor": "left",
          "y": "Swertia paniculata",
          "yanchor": "middle"
         },
         {
          "font": {
           "color": "black",
           "size": 10
          },
          "showarrow": false,
          "text": "Total compounds: 11",
          "x": 100,
          "xanchor": "left",
          "y": "Swertia perennis",
          "yanchor": "middle"
         },
         {
          "font": {
           "color": "black",
           "size": 10
          },
          "showarrow": false,
          "text": "Total compounds: 11",
          "x": 100,
          "xanchor": "left",
          "y": "Swertia petiolata",
          "yanchor": "middle"
         },
         {
          "font": {
           "color": "black",
           "size": 10
          },
          "showarrow": false,
          "text": "Total compounds: 1",
          "x": 100,
          "xanchor": "left",
          "y": "Swertia przewalskii",
          "yanchor": "middle"
         },
         {
          "font": {
           "color": "black",
           "size": 10
          },
          "showarrow": false,
          "text": "Total compounds: 17",
          "x": 100,
          "xanchor": "left",
          "y": "Swertia pseudochinensis",
          "yanchor": "middle"
         },
         {
          "font": {
           "color": "black",
           "size": 10
          },
          "showarrow": false,
          "text": "Total compounds: 7",
          "x": 100,
          "xanchor": "left",
          "y": "Swertia pubescens",
          "yanchor": "middle"
         },
         {
          "font": {
           "color": "black",
           "size": 10
          },
          "showarrow": false,
          "text": "Total compounds: 30",
          "x": 100,
          "xanchor": "left",
          "y": "Swertia punicea",
          "yanchor": "middle"
         },
         {
          "font": {
           "color": "black",
           "size": 10
          },
          "showarrow": false,
          "text": "Total compounds: 1",
          "x": 100,
          "xanchor": "left",
          "y": "Swertia racemosa",
          "yanchor": "middle"
         },
         {
          "font": {
           "color": "black",
           "size": 10
          },
          "showarrow": false,
          "text": "Total compounds: 14",
          "x": 100,
          "xanchor": "left",
          "y": "Swertia souliei",
          "yanchor": "middle"
         },
         {
          "font": {
           "color": "black",
           "size": 10
          },
          "showarrow": false,
          "text": "Total compounds: 8",
          "x": 100,
          "xanchor": "left",
          "y": "Swertia swertopsis",
          "yanchor": "middle"
         },
         {
          "font": {
           "color": "black",
           "size": 10
          },
          "showarrow": false,
          "text": "Total compounds: 1",
          "x": 100,
          "xanchor": "left",
          "y": "Swertia teres",
          "yanchor": "middle"
         },
         {
          "font": {
           "color": "black",
           "size": 10
          },
          "showarrow": false,
          "text": "Total compounds: 3",
          "x": 100,
          "xanchor": "left",
          "y": "Swertia tetrapetala",
          "yanchor": "middle"
         },
         {
          "font": {
           "color": "black",
           "size": 10
          },
          "showarrow": false,
          "text": "Total compounds: 2",
          "x": 100,
          "xanchor": "left",
          "y": "Swertia thomsonii",
          "yanchor": "middle"
         },
         {
          "font": {
           "color": "black",
           "size": 10
          },
          "showarrow": false,
          "text": "Total compounds: 1",
          "x": 100,
          "xanchor": "left",
          "y": "Swertia tosaensis",
          "yanchor": "middle"
         },
         {
          "font": {
           "color": "black",
           "size": 10
          },
          "showarrow": false,
          "text": "Total compounds: 2",
          "x": 100,
          "xanchor": "left",
          "y": "Swertia verticillifolia",
          "yanchor": "middle"
         }
        ],
        "barmode": "relative",
        "height": 1500,
        "legend": {
         "title": {
          "text": "chemical_superclass"
         },
         "tracegroupgap": 0
        },
        "plot_bgcolor": "white",
        "template": {
         "data": {
          "bar": [
           {
            "error_x": {
             "color": "#2a3f5f"
            },
            "error_y": {
             "color": "#2a3f5f"
            },
            "marker": {
             "line": {
              "color": "#E5ECF6",
              "width": 0.5
             },
             "pattern": {
              "fillmode": "overlay",
              "size": 10,
              "solidity": 0.2
             }
            },
            "type": "bar"
           }
          ],
          "barpolar": [
           {
            "marker": {
             "line": {
              "color": "#E5ECF6",
              "width": 0.5
             },
             "pattern": {
              "fillmode": "overlay",
              "size": 10,
              "solidity": 0.2
             }
            },
            "type": "barpolar"
           }
          ],
          "carpet": [
           {
            "aaxis": {
             "endlinecolor": "#2a3f5f",
             "gridcolor": "white",
             "linecolor": "white",
             "minorgridcolor": "white",
             "startlinecolor": "#2a3f5f"
            },
            "baxis": {
             "endlinecolor": "#2a3f5f",
             "gridcolor": "white",
             "linecolor": "white",
             "minorgridcolor": "white",
             "startlinecolor": "#2a3f5f"
            },
            "type": "carpet"
           }
          ],
          "choropleth": [
           {
            "colorbar": {
             "outlinewidth": 0,
             "ticks": ""
            },
            "type": "choropleth"
           }
          ],
          "contour": [
           {
            "colorbar": {
             "outlinewidth": 0,
             "ticks": ""
            },
            "colorscale": [
             [
              0,
              "#0d0887"
             ],
             [
              0.1111111111111111,
              "#46039f"
             ],
             [
              0.2222222222222222,
              "#7201a8"
             ],
             [
              0.3333333333333333,
              "#9c179e"
             ],
             [
              0.4444444444444444,
              "#bd3786"
             ],
             [
              0.5555555555555556,
              "#d8576b"
             ],
             [
              0.6666666666666666,
              "#ed7953"
             ],
             [
              0.7777777777777778,
              "#fb9f3a"
             ],
             [
              0.8888888888888888,
              "#fdca26"
             ],
             [
              1,
              "#f0f921"
             ]
            ],
            "type": "contour"
           }
          ],
          "contourcarpet": [
           {
            "colorbar": {
             "outlinewidth": 0,
             "ticks": ""
            },
            "type": "contourcarpet"
           }
          ],
          "heatmap": [
           {
            "colorbar": {
             "outlinewidth": 0,
             "ticks": ""
            },
            "colorscale": [
             [
              0,
              "#0d0887"
             ],
             [
              0.1111111111111111,
              "#46039f"
             ],
             [
              0.2222222222222222,
              "#7201a8"
             ],
             [
              0.3333333333333333,
              "#9c179e"
             ],
             [
              0.4444444444444444,
              "#bd3786"
             ],
             [
              0.5555555555555556,
              "#d8576b"
             ],
             [
              0.6666666666666666,
              "#ed7953"
             ],
             [
              0.7777777777777778,
              "#fb9f3a"
             ],
             [
              0.8888888888888888,
              "#fdca26"
             ],
             [
              1,
              "#f0f921"
             ]
            ],
            "type": "heatmap"
           }
          ],
          "heatmapgl": [
           {
            "colorbar": {
             "outlinewidth": 0,
             "ticks": ""
            },
            "colorscale": [
             [
              0,
              "#0d0887"
             ],
             [
              0.1111111111111111,
              "#46039f"
             ],
             [
              0.2222222222222222,
              "#7201a8"
             ],
             [
              0.3333333333333333,
              "#9c179e"
             ],
             [
              0.4444444444444444,
              "#bd3786"
             ],
             [
              0.5555555555555556,
              "#d8576b"
             ],
             [
              0.6666666666666666,
              "#ed7953"
             ],
             [
              0.7777777777777778,
              "#fb9f3a"
             ],
             [
              0.8888888888888888,
              "#fdca26"
             ],
             [
              1,
              "#f0f921"
             ]
            ],
            "type": "heatmapgl"
           }
          ],
          "histogram": [
           {
            "marker": {
             "pattern": {
              "fillmode": "overlay",
              "size": 10,
              "solidity": 0.2
             }
            },
            "type": "histogram"
           }
          ],
          "histogram2d": [
           {
            "colorbar": {
             "outlinewidth": 0,
             "ticks": ""
            },
            "colorscale": [
             [
              0,
              "#0d0887"
             ],
             [
              0.1111111111111111,
              "#46039f"
             ],
             [
              0.2222222222222222,
              "#7201a8"
             ],
             [
              0.3333333333333333,
              "#9c179e"
             ],
             [
              0.4444444444444444,
              "#bd3786"
             ],
             [
              0.5555555555555556,
              "#d8576b"
             ],
             [
              0.6666666666666666,
              "#ed7953"
             ],
             [
              0.7777777777777778,
              "#fb9f3a"
             ],
             [
              0.8888888888888888,
              "#fdca26"
             ],
             [
              1,
              "#f0f921"
             ]
            ],
            "type": "histogram2d"
           }
          ],
          "histogram2dcontour": [
           {
            "colorbar": {
             "outlinewidth": 0,
             "ticks": ""
            },
            "colorscale": [
             [
              0,
              "#0d0887"
             ],
             [
              0.1111111111111111,
              "#46039f"
             ],
             [
              0.2222222222222222,
              "#7201a8"
             ],
             [
              0.3333333333333333,
              "#9c179e"
             ],
             [
              0.4444444444444444,
              "#bd3786"
             ],
             [
              0.5555555555555556,
              "#d8576b"
             ],
             [
              0.6666666666666666,
              "#ed7953"
             ],
             [
              0.7777777777777778,
              "#fb9f3a"
             ],
             [
              0.8888888888888888,
              "#fdca26"
             ],
             [
              1,
              "#f0f921"
             ]
            ],
            "type": "histogram2dcontour"
           }
          ],
          "mesh3d": [
           {
            "colorbar": {
             "outlinewidth": 0,
             "ticks": ""
            },
            "type": "mesh3d"
           }
          ],
          "parcoords": [
           {
            "line": {
             "colorbar": {
              "outlinewidth": 0,
              "ticks": ""
             }
            },
            "type": "parcoords"
           }
          ],
          "pie": [
           {
            "automargin": true,
            "type": "pie"
           }
          ],
          "scatter": [
           {
            "fillpattern": {
             "fillmode": "overlay",
             "size": 10,
             "solidity": 0.2
            },
            "type": "scatter"
           }
          ],
          "scatter3d": [
           {
            "line": {
             "colorbar": {
              "outlinewidth": 0,
              "ticks": ""
             }
            },
            "marker": {
             "colorbar": {
              "outlinewidth": 0,
              "ticks": ""
             }
            },
            "type": "scatter3d"
           }
          ],
          "scattercarpet": [
           {
            "marker": {
             "colorbar": {
              "outlinewidth": 0,
              "ticks": ""
             }
            },
            "type": "scattercarpet"
           }
          ],
          "scattergeo": [
           {
            "marker": {
             "colorbar": {
              "outlinewidth": 0,
              "ticks": ""
             }
            },
            "type": "scattergeo"
           }
          ],
          "scattergl": [
           {
            "marker": {
             "colorbar": {
              "outlinewidth": 0,
              "ticks": ""
             }
            },
            "type": "scattergl"
           }
          ],
          "scattermapbox": [
           {
            "marker": {
             "colorbar": {
              "outlinewidth": 0,
              "ticks": ""
             }
            },
            "type": "scattermapbox"
           }
          ],
          "scatterpolar": [
           {
            "marker": {
             "colorbar": {
              "outlinewidth": 0,
              "ticks": ""
             }
            },
            "type": "scatterpolar"
           }
          ],
          "scatterpolargl": [
           {
            "marker": {
             "colorbar": {
              "outlinewidth": 0,
              "ticks": ""
             }
            },
            "type": "scatterpolargl"
           }
          ],
          "scatterternary": [
           {
            "marker": {
             "colorbar": {
              "outlinewidth": 0,
              "ticks": ""
             }
            },
            "type": "scatterternary"
           }
          ],
          "surface": [
           {
            "colorbar": {
             "outlinewidth": 0,
             "ticks": ""
            },
            "colorscale": [
             [
              0,
              "#0d0887"
             ],
             [
              0.1111111111111111,
              "#46039f"
             ],
             [
              0.2222222222222222,
              "#7201a8"
             ],
             [
              0.3333333333333333,
              "#9c179e"
             ],
             [
              0.4444444444444444,
              "#bd3786"
             ],
             [
              0.5555555555555556,
              "#d8576b"
             ],
             [
              0.6666666666666666,
              "#ed7953"
             ],
             [
              0.7777777777777778,
              "#fb9f3a"
             ],
             [
              0.8888888888888888,
              "#fdca26"
             ],
             [
              1,
              "#f0f921"
             ]
            ],
            "type": "surface"
           }
          ],
          "table": [
           {
            "cells": {
             "fill": {
              "color": "#EBF0F8"
             },
             "line": {
              "color": "white"
             }
            },
            "header": {
             "fill": {
              "color": "#C8D4E3"
             },
             "line": {
              "color": "white"
             }
            },
            "type": "table"
           }
          ]
         },
         "layout": {
          "annotationdefaults": {
           "arrowcolor": "#2a3f5f",
           "arrowhead": 0,
           "arrowwidth": 1
          },
          "autotypenumbers": "strict",
          "coloraxis": {
           "colorbar": {
            "outlinewidth": 0,
            "ticks": ""
           }
          },
          "colorscale": {
           "diverging": [
            [
             0,
             "#8e0152"
            ],
            [
             0.1,
             "#c51b7d"
            ],
            [
             0.2,
             "#de77ae"
            ],
            [
             0.3,
             "#f1b6da"
            ],
            [
             0.4,
             "#fde0ef"
            ],
            [
             0.5,
             "#f7f7f7"
            ],
            [
             0.6,
             "#e6f5d0"
            ],
            [
             0.7,
             "#b8e186"
            ],
            [
             0.8,
             "#7fbc41"
            ],
            [
             0.9,
             "#4d9221"
            ],
            [
             1,
             "#276419"
            ]
           ],
           "sequential": [
            [
             0,
             "#0d0887"
            ],
            [
             0.1111111111111111,
             "#46039f"
            ],
            [
             0.2222222222222222,
             "#7201a8"
            ],
            [
             0.3333333333333333,
             "#9c179e"
            ],
            [
             0.4444444444444444,
             "#bd3786"
            ],
            [
             0.5555555555555556,
             "#d8576b"
            ],
            [
             0.6666666666666666,
             "#ed7953"
            ],
            [
             0.7777777777777778,
             "#fb9f3a"
            ],
            [
             0.8888888888888888,
             "#fdca26"
            ],
            [
             1,
             "#f0f921"
            ]
           ],
           "sequentialminus": [
            [
             0,
             "#0d0887"
            ],
            [
             0.1111111111111111,
             "#46039f"
            ],
            [
             0.2222222222222222,
             "#7201a8"
            ],
            [
             0.3333333333333333,
             "#9c179e"
            ],
            [
             0.4444444444444444,
             "#bd3786"
            ],
            [
             0.5555555555555556,
             "#d8576b"
            ],
            [
             0.6666666666666666,
             "#ed7953"
            ],
            [
             0.7777777777777778,
             "#fb9f3a"
            ],
            [
             0.8888888888888888,
             "#fdca26"
            ],
            [
             1,
             "#f0f921"
            ]
           ]
          },
          "colorway": [
           "#636efa",
           "#EF553B",
           "#00cc96",
           "#ab63fa",
           "#FFA15A",
           "#19d3f3",
           "#FF6692",
           "#B6E880",
           "#FF97FF",
           "#FECB52"
          ],
          "font": {
           "color": "#2a3f5f"
          },
          "geo": {
           "bgcolor": "white",
           "lakecolor": "white",
           "landcolor": "#E5ECF6",
           "showlakes": true,
           "showland": true,
           "subunitcolor": "white"
          },
          "hoverlabel": {
           "align": "left"
          },
          "hovermode": "closest",
          "mapbox": {
           "style": "light"
          },
          "paper_bgcolor": "white",
          "plot_bgcolor": "#E5ECF6",
          "polar": {
           "angularaxis": {
            "gridcolor": "white",
            "linecolor": "white",
            "ticks": ""
           },
           "bgcolor": "#E5ECF6",
           "radialaxis": {
            "gridcolor": "white",
            "linecolor": "white",
            "ticks": ""
           }
          },
          "scene": {
           "xaxis": {
            "backgroundcolor": "#E5ECF6",
            "gridcolor": "white",
            "gridwidth": 2,
            "linecolor": "white",
            "showbackground": true,
            "ticks": "",
            "zerolinecolor": "white"
           },
           "yaxis": {
            "backgroundcolor": "#E5ECF6",
            "gridcolor": "white",
            "gridwidth": 2,
            "linecolor": "white",
            "showbackground": true,
            "ticks": "",
            "zerolinecolor": "white"
           },
           "zaxis": {
            "backgroundcolor": "#E5ECF6",
            "gridcolor": "white",
            "gridwidth": 2,
            "linecolor": "white",
            "showbackground": true,
            "ticks": "",
            "zerolinecolor": "white"
           }
          },
          "shapedefaults": {
           "line": {
            "color": "#2a3f5f"
           }
          },
          "ternary": {
           "aaxis": {
            "gridcolor": "white",
            "linecolor": "white",
            "ticks": ""
           },
           "baxis": {
            "gridcolor": "white",
            "linecolor": "white",
            "ticks": ""
           },
           "bgcolor": "#E5ECF6",
           "caxis": {
            "gridcolor": "white",
            "linecolor": "white",
            "ticks": ""
           }
          },
          "title": {
           "x": 0.05
          },
          "xaxis": {
           "automargin": true,
           "gridcolor": "white",
           "linecolor": "white",
           "ticks": "",
           "title": {
            "standoff": 15
           },
           "zerolinecolor": "white",
           "zerolinewidth": 2
          },
          "yaxis": {
           "automargin": true,
           "gridcolor": "white",
           "linecolor": "white",
           "ticks": "",
           "title": {
            "standoff": 15
           },
           "zerolinecolor": "white",
           "zerolinewidth": 2
          }
         }
        },
        "title": {
         "text": "Normalized Stacked Barplot of Predicted Superclasses Occurrence for Species"
        },
        "width": 1500,
        "xaxis": {
         "anchor": "y",
         "domain": [
          0,
          1
         ],
         "title": {
          "text": "Recurrence"
         }
        },
        "yaxis": {
         "anchor": "x",
         "categoryarray": [
          "Swertia verticillifolia",
          "Swertia tosaensis",
          "Swertia thomsonii",
          "Swertia tetrapetala",
          "Swertia teres",
          "Swertia swertopsis",
          "Swertia souliei",
          "Swertia racemosa",
          "Swertia punicea",
          "Swertia pubescens",
          "Swertia pseudochinensis",
          "Swertia przewalskii",
          "Swertia petiolata",
          "Swertia perennis",
          "Swertia paniculata",
          "Swertia obtusa",
          "Swertia nervosa",
          "Swertia mussotii",
          "Swertia marginata",
          "Swertia macrosperma",
          "Swertia leducii",
          "Swertia lawii",
          "Swertia kouitchensis",
          "Swertia japonica",
          "Swertia iberica",
          "Swertia hookeri",
          "Swertia franchetiana",
          "Swertia fasciculata",
          "Swertia erythrosticta",
          "Swertia dilatata",
          "Swertia densifolia",
          "Swertia delavayi",
          "Swertia decora",
          "Swertia davidii",
          "Swertia cuneata",
          "Swertia corymbosa",
          "Swertia cordata",
          "Swertia cincta",
          "Swertia ciliata",
          "Swertia chirayita",
          "Swertia chinensis",
          "Swertia calycina",
          "Swertia bimaculata",
          "Swertia arisanensis",
          "Swertia angustifolia",
          "Swertia alata"
         ],
         "categoryorder": "array",
         "domain": [
          0,
          1
         ],
         "tickmode": "array",
         "ticktext": [
          "<i>Swertia alata</i>",
          "<i>Swertia angustifolia</i>",
          "<i>Swertia arisanensis</i>",
          "<i>Swertia bimaculata</i>",
          "<i>Swertia calycina</i>",
          "<i>Swertia chinensis</i>",
          "<i>Swertia chirayita</i>",
          "<i>Swertia ciliata</i>",
          "<i>Swertia cincta</i>",
          "<i>Swertia cordata</i>",
          "<i>Swertia corymbosa</i>",
          "<i>Swertia cuneata</i>",
          "<i>Swertia davidii</i>",
          "<i>Swertia decora</i>",
          "<i>Swertia delavayi</i>",
          "<i>Swertia densifolia</i>",
          "<i>Swertia dilatata</i>",
          "<i>Swertia erythrosticta</i>",
          "<i>Swertia fasciculata</i>",
          "<i>Swertia franchetiana</i>",
          "<i>Swertia hookeri</i>",
          "<i>Swertia iberica</i>",
          "<i>Swertia japonica</i>",
          "<i>Swertia kouitchensis</i>",
          "<i>Swertia lawii</i>",
          "<i>Swertia leducii</i>",
          "<i>Swertia macrosperma</i>",
          "<i>Swertia marginata</i>",
          "<i>Swertia mussotii</i>",
          "<i>Swertia nervosa</i>",
          "<i>Swertia obtusa</i>",
          "<i>Swertia paniculata</i>",
          "<i>Swertia perennis</i>",
          "<i>Swertia petiolata</i>",
          "<i>Swertia przewalskii</i>",
          "<i>Swertia pseudochinensis</i>",
          "<i>Swertia pubescens</i>",
          "<i>Swertia punicea</i>",
          "<i>Swertia racemosa</i>",
          "<i>Swertia souliei</i>",
          "<i>Swertia swertopsis</i>",
          "<i>Swertia teres</i>",
          "<i>Swertia tetrapetala</i>",
          "<i>Swertia thomsonii</i>",
          "<i>Swertia tosaensis</i>",
          "<i>Swertia verticillifolia</i>"
         ],
         "tickvals": [
          0,
          1,
          2,
          3,
          4,
          5,
          6,
          7,
          8,
          9,
          10,
          11,
          12,
          13,
          14,
          15,
          16,
          17,
          18,
          19,
          20,
          21,
          22,
          23,
          24,
          25,
          26,
          27,
          28,
          29,
          30,
          31,
          32,
          33,
          34,
          35,
          36,
          37,
          38,
          39,
          40,
          41,
          42,
          43,
          44,
          45
         ],
         "title": {
          "text": "<i>Species<i>"
         }
        }
       }
      }
     },
     "metadata": {},
     "output_type": "display_data"
    }
   ],
   "source": [
    "# Step 1: Read data from all .tsv files in the output_folder\n",
    "all_data = pd.concat([pd.read_csv(os.path.join(output_folder, 'species_data', filename), sep='\\t') for filename in os.listdir(os.path.join(output_folder, 'species_data')) if filename.endswith(\".tsv\")])\n",
    "\n",
    "# Step 2: Rename the \"organism_taxonomy_09species\" column to \"species\"\n",
    "all_data.rename(columns={'organism_taxonomy_09species': 'species'}, inplace=True)\n",
    "\n",
    "# Remove 'API Error-API Error' and 'Not Classified-Not Classified'\n",
    "all_data = all_data[~all_data['chemical_superclass'].isin(['API Error-API Error', 'Not Classified-Not Classified'])]\n",
    "\n",
    "# Apply the function to each row\n",
    "all_data[['Pathway', 'superclass']] = all_data.apply(lambda row: split_chemical_superclass(row), axis=1, result_type='expand')\n",
    "\n",
    "# Step 4: Process data for color mapping\n",
    "color_map = {}\n",
    "for pathway, superclasses in all_data.groupby('Pathway')['superclass'].unique().items():\n",
    "    shades = generate_shades(pathway, len(superclasses))\n",
    "    for superclass, shade in zip(superclasses, shades):\n",
    "        color_map[f\"{pathway}-{superclass}\"] = shade\n",
    "\n",
    "# Step 5: Group and aggregate data to calculate recurrence\n",
    "agg_data = all_data.groupby(['species', 'chemical_superclass']).size().reset_index(name='recurrence')\n",
    "\n",
    "# Normalize the recurrence values within each species group\n",
    "agg_data['recurrence_normalized'] = agg_data.groupby('species')['recurrence'].transform(lambda x: x / x.sum())*100\n",
    "\n",
    "# Convert 'species' column to categorical data\n",
    "agg_data['species'] = pd.Categorical(agg_data['species'], categories=agg_data['species'].unique(), ordered=True)\n",
    "\n",
    "# Get unique species names\n",
    "unique_species = agg_data['species'].unique()\n",
    "\n",
    "# Get unique chemical superclasses and sort them alphabetically\n",
    "unique_superclasses = sorted(agg_data['chemical_superclass'].unique())\n",
    "\n",
    "# Calculate total recurrence for each species\n",
    "total_recurrence_per_species = agg_data.groupby('species')['recurrence'].sum()\n",
    "\n",
    "# Create the stacked barplot with the custom color palette\n",
    "fig = px.bar(agg_data, y='species', x='recurrence_normalized',\n",
    "             title='Normalized Stacked Barplot of Predicted Superclasses Occurrence for Species',\n",
    "             labels={'recurrence_normalized': 'Recurrence'},\n",
    "             color='chemical_superclass',\n",
    "             color_discrete_map=color_map,\n",
    "             category_orders={'species': unique_species, 'chemical_superclass': unique_superclasses},\n",
    "             orientation='h')\n",
    "\n",
    "# Modify the y-axis label\n",
    "fig.update_yaxes(title_text='<i>Species<i>')\n",
    "\n",
    "# Set species labels in italics\n",
    "fig.update_layout(yaxis=dict(tickmode='array',\n",
    "                              tickvals=list(range(len(unique_species))),\n",
    "                              ticktext=[f'<i>{species}</i>' for species in unique_species]\n",
    "                              ))\n",
    "\n",
    "# Set a white background\n",
    "fig.update_layout(plot_bgcolor='white')\n",
    "\n",
    "# Get the maximum value of the x-axis\n",
    "max_x = agg_data['recurrence_normalized'].max()\n",
    "\n",
    "for species, total_recurrence in total_recurrence_per_species.items():\n",
    "    # Find the maximum recurrence for this species\n",
    "    max_recurrence = agg_data[agg_data['species'] == species]['recurrence_normalized'].max()\n",
    "    \n",
    "    # Position the annotation at the end of the bar with a slight offset\n",
    "    x_position = max_x + 2\n",
    "    if x_position > 100:  # Ensure the label is not outside the plot area\n",
    "        x_position = 100  # Set it to 100 if it exceeds the maximum x-axis value\n",
    "\n",
    "    # Add annotation to the plot\n",
    "    fig.add_annotation(\n",
    "        x=x_position,\n",
    "        y=species,\n",
    "        text=f'Total compounds: {total_recurrence}',\n",
    "        showarrow=False,\n",
    "        font=dict(size=10, color='black'),\n",
    "        xanchor='left',\n",
    "        yanchor='middle'\n",
    "    )\n",
    "\n",
    "# Modify the size of the figure\n",
    "fig.update_layout(width=1500, height=1500)\n",
    "\n",
    "# Save the figure as an HTML file\n",
    "fig.write_html(f'{output_folder}Wikidata_superclass_barplot_species_normalized.html')\n",
    "\n",
    "# Show the figure\n",
    "fig.show()\n"
   ]
  },
  {
   "cell_type": "markdown",
   "metadata": {},
   "source": [
    "# BARPLOT PATHWAY - SPECIES "
   ]
  },
  {
   "cell_type": "code",
   "execution_count": 18,
   "metadata": {},
   "outputs": [
    {
     "name": "stderr",
     "output_type": "stream",
     "text": [
      "C:\\Users\\quirosgu\\AppData\\Local\\Temp\\ipykernel_6524\\4072444705.py:9: FutureWarning:\n",
      "\n",
      "The behavior of DataFrame concatenation with empty or all-NA entries is deprecated. In a future version, this will no longer exclude empty or all-NA columns when determining the result dtypes. To retain the old behavior, exclude the relevant entries before the concat operation.\n",
      "\n",
      "C:\\Users\\quirosgu\\AppData\\Local\\Temp\\ipykernel_6524\\4072444705.py:9: FutureWarning:\n",
      "\n",
      "The behavior of DataFrame concatenation with empty or all-NA entries is deprecated. In a future version, this will no longer exclude empty or all-NA columns when determining the result dtypes. To retain the old behavior, exclude the relevant entries before the concat operation.\n",
      "\n",
      "C:\\Users\\quirosgu\\AppData\\Local\\Temp\\ipykernel_6524\\4072444705.py:9: FutureWarning:\n",
      "\n",
      "The behavior of DataFrame concatenation with empty or all-NA entries is deprecated. In a future version, this will no longer exclude empty or all-NA columns when determining the result dtypes. To retain the old behavior, exclude the relevant entries before the concat operation.\n",
      "\n",
      "C:\\Users\\quirosgu\\AppData\\Local\\Temp\\ipykernel_6524\\4072444705.py:9: FutureWarning:\n",
      "\n",
      "The behavior of DataFrame concatenation with empty or all-NA entries is deprecated. In a future version, this will no longer exclude empty or all-NA columns when determining the result dtypes. To retain the old behavior, exclude the relevant entries before the concat operation.\n",
      "\n",
      "C:\\Users\\quirosgu\\AppData\\Local\\Temp\\ipykernel_6524\\4072444705.py:9: FutureWarning:\n",
      "\n",
      "The behavior of DataFrame concatenation with empty or all-NA entries is deprecated. In a future version, this will no longer exclude empty or all-NA columns when determining the result dtypes. To retain the old behavior, exclude the relevant entries before the concat operation.\n",
      "\n",
      "C:\\Users\\quirosgu\\AppData\\Local\\Temp\\ipykernel_6524\\4072444705.py:9: FutureWarning:\n",
      "\n",
      "The behavior of DataFrame concatenation with empty or all-NA entries is deprecated. In a future version, this will no longer exclude empty or all-NA columns when determining the result dtypes. To retain the old behavior, exclude the relevant entries before the concat operation.\n",
      "\n",
      "C:\\Users\\quirosgu\\AppData\\Local\\Temp\\ipykernel_6524\\4072444705.py:9: FutureWarning:\n",
      "\n",
      "The behavior of DataFrame concatenation with empty or all-NA entries is deprecated. In a future version, this will no longer exclude empty or all-NA columns when determining the result dtypes. To retain the old behavior, exclude the relevant entries before the concat operation.\n",
      "\n",
      "C:\\Users\\quirosgu\\AppData\\Local\\Temp\\ipykernel_6524\\4072444705.py:9: FutureWarning:\n",
      "\n",
      "The behavior of DataFrame concatenation with empty or all-NA entries is deprecated. In a future version, this will no longer exclude empty or all-NA columns when determining the result dtypes. To retain the old behavior, exclude the relevant entries before the concat operation.\n",
      "\n",
      "C:\\Users\\quirosgu\\AppData\\Local\\Temp\\ipykernel_6524\\4072444705.py:9: FutureWarning:\n",
      "\n",
      "The behavior of DataFrame concatenation with empty or all-NA entries is deprecated. In a future version, this will no longer exclude empty or all-NA columns when determining the result dtypes. To retain the old behavior, exclude the relevant entries before the concat operation.\n",
      "\n",
      "C:\\Users\\quirosgu\\AppData\\Local\\Temp\\ipykernel_6524\\4072444705.py:9: FutureWarning:\n",
      "\n",
      "The behavior of DataFrame concatenation with empty or all-NA entries is deprecated. In a future version, this will no longer exclude empty or all-NA columns when determining the result dtypes. To retain the old behavior, exclude the relevant entries before the concat operation.\n",
      "\n",
      "C:\\Users\\quirosgu\\AppData\\Local\\Temp\\ipykernel_6524\\4072444705.py:9: FutureWarning:\n",
      "\n",
      "The behavior of DataFrame concatenation with empty or all-NA entries is deprecated. In a future version, this will no longer exclude empty or all-NA columns when determining the result dtypes. To retain the old behavior, exclude the relevant entries before the concat operation.\n",
      "\n",
      "C:\\Users\\quirosgu\\AppData\\Local\\Temp\\ipykernel_6524\\4072444705.py:9: FutureWarning:\n",
      "\n",
      "The behavior of DataFrame concatenation with empty or all-NA entries is deprecated. In a future version, this will no longer exclude empty or all-NA columns when determining the result dtypes. To retain the old behavior, exclude the relevant entries before the concat operation.\n",
      "\n",
      "C:\\Users\\quirosgu\\AppData\\Local\\Temp\\ipykernel_6524\\4072444705.py:9: FutureWarning:\n",
      "\n",
      "The behavior of DataFrame concatenation with empty or all-NA entries is deprecated. In a future version, this will no longer exclude empty or all-NA columns when determining the result dtypes. To retain the old behavior, exclude the relevant entries before the concat operation.\n",
      "\n",
      "C:\\Users\\quirosgu\\AppData\\Local\\Temp\\ipykernel_6524\\4072444705.py:9: FutureWarning:\n",
      "\n",
      "The behavior of DataFrame concatenation with empty or all-NA entries is deprecated. In a future version, this will no longer exclude empty or all-NA columns when determining the result dtypes. To retain the old behavior, exclude the relevant entries before the concat operation.\n",
      "\n",
      "C:\\Users\\quirosgu\\AppData\\Local\\Temp\\ipykernel_6524\\4072444705.py:9: FutureWarning:\n",
      "\n",
      "The behavior of DataFrame concatenation with empty or all-NA entries is deprecated. In a future version, this will no longer exclude empty or all-NA columns when determining the result dtypes. To retain the old behavior, exclude the relevant entries before the concat operation.\n",
      "\n",
      "C:\\Users\\quirosgu\\AppData\\Local\\Temp\\ipykernel_6524\\4072444705.py:9: FutureWarning:\n",
      "\n",
      "The behavior of DataFrame concatenation with empty or all-NA entries is deprecated. In a future version, this will no longer exclude empty or all-NA columns when determining the result dtypes. To retain the old behavior, exclude the relevant entries before the concat operation.\n",
      "\n",
      "C:\\Users\\quirosgu\\AppData\\Local\\Temp\\ipykernel_6524\\4072444705.py:9: FutureWarning:\n",
      "\n",
      "The behavior of DataFrame concatenation with empty or all-NA entries is deprecated. In a future version, this will no longer exclude empty or all-NA columns when determining the result dtypes. To retain the old behavior, exclude the relevant entries before the concat operation.\n",
      "\n",
      "C:\\Users\\quirosgu\\AppData\\Local\\Temp\\ipykernel_6524\\4072444705.py:9: FutureWarning:\n",
      "\n",
      "The behavior of DataFrame concatenation with empty or all-NA entries is deprecated. In a future version, this will no longer exclude empty or all-NA columns when determining the result dtypes. To retain the old behavior, exclude the relevant entries before the concat operation.\n",
      "\n",
      "C:\\Users\\quirosgu\\AppData\\Local\\Temp\\ipykernel_6524\\4072444705.py:9: FutureWarning:\n",
      "\n",
      "The behavior of DataFrame concatenation with empty or all-NA entries is deprecated. In a future version, this will no longer exclude empty or all-NA columns when determining the result dtypes. To retain the old behavior, exclude the relevant entries before the concat operation.\n",
      "\n",
      "C:\\Users\\quirosgu\\AppData\\Local\\Temp\\ipykernel_6524\\4072444705.py:9: FutureWarning:\n",
      "\n",
      "The behavior of DataFrame concatenation with empty or all-NA entries is deprecated. In a future version, this will no longer exclude empty or all-NA columns when determining the result dtypes. To retain the old behavior, exclude the relevant entries before the concat operation.\n",
      "\n",
      "C:\\Users\\quirosgu\\AppData\\Local\\Temp\\ipykernel_6524\\4072444705.py:9: FutureWarning:\n",
      "\n",
      "The behavior of DataFrame concatenation with empty or all-NA entries is deprecated. In a future version, this will no longer exclude empty or all-NA columns when determining the result dtypes. To retain the old behavior, exclude the relevant entries before the concat operation.\n",
      "\n",
      "C:\\Users\\quirosgu\\AppData\\Local\\Temp\\ipykernel_6524\\4072444705.py:9: FutureWarning:\n",
      "\n",
      "The behavior of DataFrame concatenation with empty or all-NA entries is deprecated. In a future version, this will no longer exclude empty or all-NA columns when determining the result dtypes. To retain the old behavior, exclude the relevant entries before the concat operation.\n",
      "\n",
      "C:\\Users\\quirosgu\\AppData\\Local\\Temp\\ipykernel_6524\\4072444705.py:9: FutureWarning:\n",
      "\n",
      "The behavior of DataFrame concatenation with empty or all-NA entries is deprecated. In a future version, this will no longer exclude empty or all-NA columns when determining the result dtypes. To retain the old behavior, exclude the relevant entries before the concat operation.\n",
      "\n",
      "C:\\Users\\quirosgu\\AppData\\Local\\Temp\\ipykernel_6524\\4072444705.py:9: FutureWarning:\n",
      "\n",
      "The behavior of DataFrame concatenation with empty or all-NA entries is deprecated. In a future version, this will no longer exclude empty or all-NA columns when determining the result dtypes. To retain the old behavior, exclude the relevant entries before the concat operation.\n",
      "\n",
      "C:\\Users\\quirosgu\\AppData\\Local\\Temp\\ipykernel_6524\\4072444705.py:9: FutureWarning:\n",
      "\n",
      "The behavior of DataFrame concatenation with empty or all-NA entries is deprecated. In a future version, this will no longer exclude empty or all-NA columns when determining the result dtypes. To retain the old behavior, exclude the relevant entries before the concat operation.\n",
      "\n",
      "C:\\Users\\quirosgu\\AppData\\Local\\Temp\\ipykernel_6524\\4072444705.py:9: FutureWarning:\n",
      "\n",
      "The behavior of DataFrame concatenation with empty or all-NA entries is deprecated. In a future version, this will no longer exclude empty or all-NA columns when determining the result dtypes. To retain the old behavior, exclude the relevant entries before the concat operation.\n",
      "\n",
      "C:\\Users\\quirosgu\\AppData\\Local\\Temp\\ipykernel_6524\\4072444705.py:9: FutureWarning:\n",
      "\n",
      "The behavior of DataFrame concatenation with empty or all-NA entries is deprecated. In a future version, this will no longer exclude empty or all-NA columns when determining the result dtypes. To retain the old behavior, exclude the relevant entries before the concat operation.\n",
      "\n",
      "C:\\Users\\quirosgu\\AppData\\Local\\Temp\\ipykernel_6524\\4072444705.py:9: FutureWarning:\n",
      "\n",
      "The behavior of DataFrame concatenation with empty or all-NA entries is deprecated. In a future version, this will no longer exclude empty or all-NA columns when determining the result dtypes. To retain the old behavior, exclude the relevant entries before the concat operation.\n",
      "\n",
      "C:\\Users\\quirosgu\\AppData\\Local\\Temp\\ipykernel_6524\\4072444705.py:9: FutureWarning:\n",
      "\n",
      "The behavior of DataFrame concatenation with empty or all-NA entries is deprecated. In a future version, this will no longer exclude empty or all-NA columns when determining the result dtypes. To retain the old behavior, exclude the relevant entries before the concat operation.\n",
      "\n",
      "C:\\Users\\quirosgu\\AppData\\Local\\Temp\\ipykernel_6524\\4072444705.py:9: FutureWarning:\n",
      "\n",
      "The behavior of DataFrame concatenation with empty or all-NA entries is deprecated. In a future version, this will no longer exclude empty or all-NA columns when determining the result dtypes. To retain the old behavior, exclude the relevant entries before the concat operation.\n",
      "\n",
      "C:\\Users\\quirosgu\\AppData\\Local\\Temp\\ipykernel_6524\\4072444705.py:9: FutureWarning:\n",
      "\n",
      "The behavior of DataFrame concatenation with empty or all-NA entries is deprecated. In a future version, this will no longer exclude empty or all-NA columns when determining the result dtypes. To retain the old behavior, exclude the relevant entries before the concat operation.\n",
      "\n",
      "C:\\Users\\quirosgu\\AppData\\Local\\Temp\\ipykernel_6524\\4072444705.py:9: FutureWarning:\n",
      "\n",
      "The behavior of DataFrame concatenation with empty or all-NA entries is deprecated. In a future version, this will no longer exclude empty or all-NA columns when determining the result dtypes. To retain the old behavior, exclude the relevant entries before the concat operation.\n",
      "\n",
      "C:\\Users\\quirosgu\\AppData\\Local\\Temp\\ipykernel_6524\\4072444705.py:9: FutureWarning:\n",
      "\n",
      "The behavior of DataFrame concatenation with empty or all-NA entries is deprecated. In a future version, this will no longer exclude empty or all-NA columns when determining the result dtypes. To retain the old behavior, exclude the relevant entries before the concat operation.\n",
      "\n",
      "C:\\Users\\quirosgu\\AppData\\Local\\Temp\\ipykernel_6524\\4072444705.py:9: FutureWarning:\n",
      "\n",
      "The behavior of DataFrame concatenation with empty or all-NA entries is deprecated. In a future version, this will no longer exclude empty or all-NA columns when determining the result dtypes. To retain the old behavior, exclude the relevant entries before the concat operation.\n",
      "\n",
      "C:\\Users\\quirosgu\\AppData\\Local\\Temp\\ipykernel_6524\\4072444705.py:9: FutureWarning:\n",
      "\n",
      "The behavior of DataFrame concatenation with empty or all-NA entries is deprecated. In a future version, this will no longer exclude empty or all-NA columns when determining the result dtypes. To retain the old behavior, exclude the relevant entries before the concat operation.\n",
      "\n",
      "C:\\Users\\quirosgu\\AppData\\Local\\Temp\\ipykernel_6524\\4072444705.py:9: FutureWarning:\n",
      "\n",
      "The behavior of DataFrame concatenation with empty or all-NA entries is deprecated. In a future version, this will no longer exclude empty or all-NA columns when determining the result dtypes. To retain the old behavior, exclude the relevant entries before the concat operation.\n",
      "\n",
      "C:\\Users\\quirosgu\\AppData\\Local\\Temp\\ipykernel_6524\\4072444705.py:9: FutureWarning:\n",
      "\n",
      "The behavior of DataFrame concatenation with empty or all-NA entries is deprecated. In a future version, this will no longer exclude empty or all-NA columns when determining the result dtypes. To retain the old behavior, exclude the relevant entries before the concat operation.\n",
      "\n",
      "C:\\Users\\quirosgu\\AppData\\Local\\Temp\\ipykernel_6524\\4072444705.py:9: FutureWarning:\n",
      "\n",
      "The behavior of DataFrame concatenation with empty or all-NA entries is deprecated. In a future version, this will no longer exclude empty or all-NA columns when determining the result dtypes. To retain the old behavior, exclude the relevant entries before the concat operation.\n",
      "\n",
      "C:\\Users\\quirosgu\\AppData\\Local\\Temp\\ipykernel_6524\\4072444705.py:9: FutureWarning:\n",
      "\n",
      "The behavior of DataFrame concatenation with empty or all-NA entries is deprecated. In a future version, this will no longer exclude empty or all-NA columns when determining the result dtypes. To retain the old behavior, exclude the relevant entries before the concat operation.\n",
      "\n",
      "C:\\Users\\quirosgu\\AppData\\Local\\Temp\\ipykernel_6524\\4072444705.py:9: FutureWarning:\n",
      "\n",
      "The behavior of DataFrame concatenation with empty or all-NA entries is deprecated. In a future version, this will no longer exclude empty or all-NA columns when determining the result dtypes. To retain the old behavior, exclude the relevant entries before the concat operation.\n",
      "\n",
      "C:\\Users\\quirosgu\\AppData\\Local\\Temp\\ipykernel_6524\\4072444705.py:9: FutureWarning:\n",
      "\n",
      "The behavior of DataFrame concatenation with empty or all-NA entries is deprecated. In a future version, this will no longer exclude empty or all-NA columns when determining the result dtypes. To retain the old behavior, exclude the relevant entries before the concat operation.\n",
      "\n",
      "C:\\Users\\quirosgu\\AppData\\Local\\Temp\\ipykernel_6524\\4072444705.py:9: FutureWarning:\n",
      "\n",
      "The behavior of DataFrame concatenation with empty or all-NA entries is deprecated. In a future version, this will no longer exclude empty or all-NA columns when determining the result dtypes. To retain the old behavior, exclude the relevant entries before the concat operation.\n",
      "\n",
      "C:\\Users\\quirosgu\\AppData\\Local\\Temp\\ipykernel_6524\\4072444705.py:9: FutureWarning:\n",
      "\n",
      "The behavior of DataFrame concatenation with empty or all-NA entries is deprecated. In a future version, this will no longer exclude empty or all-NA columns when determining the result dtypes. To retain the old behavior, exclude the relevant entries before the concat operation.\n",
      "\n",
      "C:\\Users\\quirosgu\\AppData\\Local\\Temp\\ipykernel_6524\\4072444705.py:9: FutureWarning:\n",
      "\n",
      "The behavior of DataFrame concatenation with empty or all-NA entries is deprecated. In a future version, this will no longer exclude empty or all-NA columns when determining the result dtypes. To retain the old behavior, exclude the relevant entries before the concat operation.\n",
      "\n",
      "C:\\Users\\quirosgu\\AppData\\Local\\Temp\\ipykernel_6524\\4072444705.py:9: FutureWarning:\n",
      "\n",
      "The behavior of DataFrame concatenation with empty or all-NA entries is deprecated. In a future version, this will no longer exclude empty or all-NA columns when determining the result dtypes. To retain the old behavior, exclude the relevant entries before the concat operation.\n",
      "\n",
      "C:\\Users\\quirosgu\\AppData\\Local\\Temp\\ipykernel_6524\\4072444705.py:9: FutureWarning:\n",
      "\n",
      "The behavior of DataFrame concatenation with empty or all-NA entries is deprecated. In a future version, this will no longer exclude empty or all-NA columns when determining the result dtypes. To retain the old behavior, exclude the relevant entries before the concat operation.\n",
      "\n",
      "C:\\Users\\quirosgu\\AppData\\Local\\Temp\\ipykernel_6524\\4072444705.py:9: FutureWarning:\n",
      "\n",
      "The behavior of DataFrame concatenation with empty or all-NA entries is deprecated. In a future version, this will no longer exclude empty or all-NA columns when determining the result dtypes. To retain the old behavior, exclude the relevant entries before the concat operation.\n",
      "\n",
      "C:\\Users\\quirosgu\\AppData\\Local\\Temp\\ipykernel_6524\\4072444705.py:9: FutureWarning:\n",
      "\n",
      "The behavior of DataFrame concatenation with empty or all-NA entries is deprecated. In a future version, this will no longer exclude empty or all-NA columns when determining the result dtypes. To retain the old behavior, exclude the relevant entries before the concat operation.\n",
      "\n",
      "C:\\Users\\quirosgu\\AppData\\Local\\Temp\\ipykernel_6524\\4072444705.py:9: FutureWarning:\n",
      "\n",
      "The behavior of DataFrame concatenation with empty or all-NA entries is deprecated. In a future version, this will no longer exclude empty or all-NA columns when determining the result dtypes. To retain the old behavior, exclude the relevant entries before the concat operation.\n",
      "\n",
      "C:\\Users\\quirosgu\\AppData\\Local\\Temp\\ipykernel_6524\\4072444705.py:9: FutureWarning:\n",
      "\n",
      "The behavior of DataFrame concatenation with empty or all-NA entries is deprecated. In a future version, this will no longer exclude empty or all-NA columns when determining the result dtypes. To retain the old behavior, exclude the relevant entries before the concat operation.\n",
      "\n",
      "C:\\Users\\quirosgu\\AppData\\Local\\Temp\\ipykernel_6524\\4072444705.py:9: FutureWarning:\n",
      "\n",
      "The behavior of DataFrame concatenation with empty or all-NA entries is deprecated. In a future version, this will no longer exclude empty or all-NA columns when determining the result dtypes. To retain the old behavior, exclude the relevant entries before the concat operation.\n",
      "\n",
      "C:\\Users\\quirosgu\\AppData\\Local\\Temp\\ipykernel_6524\\4072444705.py:9: FutureWarning:\n",
      "\n",
      "The behavior of DataFrame concatenation with empty or all-NA entries is deprecated. In a future version, this will no longer exclude empty or all-NA columns when determining the result dtypes. To retain the old behavior, exclude the relevant entries before the concat operation.\n",
      "\n",
      "C:\\Users\\quirosgu\\AppData\\Local\\Temp\\ipykernel_6524\\4072444705.py:9: FutureWarning:\n",
      "\n",
      "The behavior of DataFrame concatenation with empty or all-NA entries is deprecated. In a future version, this will no longer exclude empty or all-NA columns when determining the result dtypes. To retain the old behavior, exclude the relevant entries before the concat operation.\n",
      "\n",
      "C:\\Users\\quirosgu\\AppData\\Local\\Temp\\ipykernel_6524\\4072444705.py:9: FutureWarning:\n",
      "\n",
      "The behavior of DataFrame concatenation with empty or all-NA entries is deprecated. In a future version, this will no longer exclude empty or all-NA columns when determining the result dtypes. To retain the old behavior, exclude the relevant entries before the concat operation.\n",
      "\n",
      "C:\\Users\\quirosgu\\AppData\\Local\\Temp\\ipykernel_6524\\4072444705.py:9: FutureWarning:\n",
      "\n",
      "The behavior of DataFrame concatenation with empty or all-NA entries is deprecated. In a future version, this will no longer exclude empty or all-NA columns when determining the result dtypes. To retain the old behavior, exclude the relevant entries before the concat operation.\n",
      "\n",
      "C:\\Users\\quirosgu\\AppData\\Local\\Temp\\ipykernel_6524\\4072444705.py:9: FutureWarning:\n",
      "\n",
      "The behavior of DataFrame concatenation with empty or all-NA entries is deprecated. In a future version, this will no longer exclude empty or all-NA columns when determining the result dtypes. To retain the old behavior, exclude the relevant entries before the concat operation.\n",
      "\n",
      "C:\\Users\\quirosgu\\AppData\\Local\\Temp\\ipykernel_6524\\4072444705.py:9: FutureWarning:\n",
      "\n",
      "The behavior of DataFrame concatenation with empty or all-NA entries is deprecated. In a future version, this will no longer exclude empty or all-NA columns when determining the result dtypes. To retain the old behavior, exclude the relevant entries before the concat operation.\n",
      "\n",
      "C:\\Users\\quirosgu\\AppData\\Local\\Temp\\ipykernel_6524\\4072444705.py:9: FutureWarning:\n",
      "\n",
      "The behavior of DataFrame concatenation with empty or all-NA entries is deprecated. In a future version, this will no longer exclude empty or all-NA columns when determining the result dtypes. To retain the old behavior, exclude the relevant entries before the concat operation.\n",
      "\n",
      "C:\\Users\\quirosgu\\AppData\\Local\\Temp\\ipykernel_6524\\4072444705.py:9: FutureWarning:\n",
      "\n",
      "The behavior of DataFrame concatenation with empty or all-NA entries is deprecated. In a future version, this will no longer exclude empty or all-NA columns when determining the result dtypes. To retain the old behavior, exclude the relevant entries before the concat operation.\n",
      "\n",
      "C:\\Users\\quirosgu\\AppData\\Local\\Temp\\ipykernel_6524\\4072444705.py:9: FutureWarning:\n",
      "\n",
      "The behavior of DataFrame concatenation with empty or all-NA entries is deprecated. In a future version, this will no longer exclude empty or all-NA columns when determining the result dtypes. To retain the old behavior, exclude the relevant entries before the concat operation.\n",
      "\n",
      "C:\\Users\\quirosgu\\AppData\\Local\\Temp\\ipykernel_6524\\4072444705.py:9: FutureWarning:\n",
      "\n",
      "The behavior of DataFrame concatenation with empty or all-NA entries is deprecated. In a future version, this will no longer exclude empty or all-NA columns when determining the result dtypes. To retain the old behavior, exclude the relevant entries before the concat operation.\n",
      "\n",
      "C:\\Users\\quirosgu\\AppData\\Local\\Temp\\ipykernel_6524\\4072444705.py:9: FutureWarning:\n",
      "\n",
      "The behavior of DataFrame concatenation with empty or all-NA entries is deprecated. In a future version, this will no longer exclude empty or all-NA columns when determining the result dtypes. To retain the old behavior, exclude the relevant entries before the concat operation.\n",
      "\n",
      "C:\\Users\\quirosgu\\AppData\\Local\\Temp\\ipykernel_6524\\4072444705.py:9: FutureWarning:\n",
      "\n",
      "The behavior of DataFrame concatenation with empty or all-NA entries is deprecated. In a future version, this will no longer exclude empty or all-NA columns when determining the result dtypes. To retain the old behavior, exclude the relevant entries before the concat operation.\n",
      "\n",
      "C:\\Users\\quirosgu\\AppData\\Local\\Temp\\ipykernel_6524\\4072444705.py:9: FutureWarning:\n",
      "\n",
      "The behavior of DataFrame concatenation with empty or all-NA entries is deprecated. In a future version, this will no longer exclude empty or all-NA columns when determining the result dtypes. To retain the old behavior, exclude the relevant entries before the concat operation.\n",
      "\n",
      "C:\\Users\\quirosgu\\AppData\\Local\\Temp\\ipykernel_6524\\4072444705.py:9: FutureWarning:\n",
      "\n",
      "The behavior of DataFrame concatenation with empty or all-NA entries is deprecated. In a future version, this will no longer exclude empty or all-NA columns when determining the result dtypes. To retain the old behavior, exclude the relevant entries before the concat operation.\n",
      "\n",
      "C:\\Users\\quirosgu\\AppData\\Local\\Temp\\ipykernel_6524\\4072444705.py:9: FutureWarning:\n",
      "\n",
      "The behavior of DataFrame concatenation with empty or all-NA entries is deprecated. In a future version, this will no longer exclude empty or all-NA columns when determining the result dtypes. To retain the old behavior, exclude the relevant entries before the concat operation.\n",
      "\n",
      "C:\\Users\\quirosgu\\AppData\\Local\\Temp\\ipykernel_6524\\4072444705.py:9: FutureWarning:\n",
      "\n",
      "The behavior of DataFrame concatenation with empty or all-NA entries is deprecated. In a future version, this will no longer exclude empty or all-NA columns when determining the result dtypes. To retain the old behavior, exclude the relevant entries before the concat operation.\n",
      "\n",
      "C:\\Users\\quirosgu\\AppData\\Local\\Temp\\ipykernel_6524\\4072444705.py:9: FutureWarning:\n",
      "\n",
      "The behavior of DataFrame concatenation with empty or all-NA entries is deprecated. In a future version, this will no longer exclude empty or all-NA columns when determining the result dtypes. To retain the old behavior, exclude the relevant entries before the concat operation.\n",
      "\n",
      "C:\\Users\\quirosgu\\AppData\\Local\\Temp\\ipykernel_6524\\4072444705.py:9: FutureWarning:\n",
      "\n",
      "The behavior of DataFrame concatenation with empty or all-NA entries is deprecated. In a future version, this will no longer exclude empty or all-NA columns when determining the result dtypes. To retain the old behavior, exclude the relevant entries before the concat operation.\n",
      "\n",
      "C:\\Users\\quirosgu\\AppData\\Local\\Temp\\ipykernel_6524\\4072444705.py:9: FutureWarning:\n",
      "\n",
      "The behavior of DataFrame concatenation with empty or all-NA entries is deprecated. In a future version, this will no longer exclude empty or all-NA columns when determining the result dtypes. To retain the old behavior, exclude the relevant entries before the concat operation.\n",
      "\n",
      "C:\\Users\\quirosgu\\AppData\\Local\\Temp\\ipykernel_6524\\4072444705.py:9: FutureWarning:\n",
      "\n",
      "The behavior of DataFrame concatenation with empty or all-NA entries is deprecated. In a future version, this will no longer exclude empty or all-NA columns when determining the result dtypes. To retain the old behavior, exclude the relevant entries before the concat operation.\n",
      "\n",
      "C:\\Users\\quirosgu\\AppData\\Local\\Temp\\ipykernel_6524\\4072444705.py:9: FutureWarning:\n",
      "\n",
      "The behavior of DataFrame concatenation with empty or all-NA entries is deprecated. In a future version, this will no longer exclude empty or all-NA columns when determining the result dtypes. To retain the old behavior, exclude the relevant entries before the concat operation.\n",
      "\n",
      "C:\\Users\\quirosgu\\AppData\\Local\\Temp\\ipykernel_6524\\4072444705.py:9: FutureWarning:\n",
      "\n",
      "The behavior of DataFrame concatenation with empty or all-NA entries is deprecated. In a future version, this will no longer exclude empty or all-NA columns when determining the result dtypes. To retain the old behavior, exclude the relevant entries before the concat operation.\n",
      "\n",
      "C:\\Users\\quirosgu\\AppData\\Local\\Temp\\ipykernel_6524\\4072444705.py:9: FutureWarning:\n",
      "\n",
      "The behavior of DataFrame concatenation with empty or all-NA entries is deprecated. In a future version, this will no longer exclude empty or all-NA columns when determining the result dtypes. To retain the old behavior, exclude the relevant entries before the concat operation.\n",
      "\n",
      "C:\\Users\\quirosgu\\AppData\\Local\\Temp\\ipykernel_6524\\4072444705.py:9: FutureWarning:\n",
      "\n",
      "The behavior of DataFrame concatenation with empty or all-NA entries is deprecated. In a future version, this will no longer exclude empty or all-NA columns when determining the result dtypes. To retain the old behavior, exclude the relevant entries before the concat operation.\n",
      "\n",
      "C:\\Users\\quirosgu\\AppData\\Local\\Temp\\ipykernel_6524\\4072444705.py:9: FutureWarning:\n",
      "\n",
      "The behavior of DataFrame concatenation with empty or all-NA entries is deprecated. In a future version, this will no longer exclude empty or all-NA columns when determining the result dtypes. To retain the old behavior, exclude the relevant entries before the concat operation.\n",
      "\n",
      "C:\\Users\\quirosgu\\AppData\\Local\\Temp\\ipykernel_6524\\4072444705.py:9: FutureWarning:\n",
      "\n",
      "The behavior of DataFrame concatenation with empty or all-NA entries is deprecated. In a future version, this will no longer exclude empty or all-NA columns when determining the result dtypes. To retain the old behavior, exclude the relevant entries before the concat operation.\n",
      "\n",
      "C:\\Users\\quirosgu\\AppData\\Local\\Temp\\ipykernel_6524\\4072444705.py:9: FutureWarning:\n",
      "\n",
      "The behavior of DataFrame concatenation with empty or all-NA entries is deprecated. In a future version, this will no longer exclude empty or all-NA columns when determining the result dtypes. To retain the old behavior, exclude the relevant entries before the concat operation.\n",
      "\n",
      "C:\\Users\\quirosgu\\AppData\\Local\\Temp\\ipykernel_6524\\4072444705.py:9: FutureWarning:\n",
      "\n",
      "The behavior of DataFrame concatenation with empty or all-NA entries is deprecated. In a future version, this will no longer exclude empty or all-NA columns when determining the result dtypes. To retain the old behavior, exclude the relevant entries before the concat operation.\n",
      "\n",
      "C:\\Users\\quirosgu\\AppData\\Local\\Temp\\ipykernel_6524\\4072444705.py:9: FutureWarning:\n",
      "\n",
      "The behavior of DataFrame concatenation with empty or all-NA entries is deprecated. In a future version, this will no longer exclude empty or all-NA columns when determining the result dtypes. To retain the old behavior, exclude the relevant entries before the concat operation.\n",
      "\n",
      "C:\\Users\\quirosgu\\AppData\\Local\\Temp\\ipykernel_6524\\4072444705.py:9: FutureWarning:\n",
      "\n",
      "The behavior of DataFrame concatenation with empty or all-NA entries is deprecated. In a future version, this will no longer exclude empty or all-NA columns when determining the result dtypes. To retain the old behavior, exclude the relevant entries before the concat operation.\n",
      "\n",
      "C:\\Users\\quirosgu\\AppData\\Local\\Temp\\ipykernel_6524\\4072444705.py:9: FutureWarning:\n",
      "\n",
      "The behavior of DataFrame concatenation with empty or all-NA entries is deprecated. In a future version, this will no longer exclude empty or all-NA columns when determining the result dtypes. To retain the old behavior, exclude the relevant entries before the concat operation.\n",
      "\n",
      "C:\\Users\\quirosgu\\AppData\\Local\\Temp\\ipykernel_6524\\4072444705.py:9: FutureWarning:\n",
      "\n",
      "The behavior of DataFrame concatenation with empty or all-NA entries is deprecated. In a future version, this will no longer exclude empty or all-NA columns when determining the result dtypes. To retain the old behavior, exclude the relevant entries before the concat operation.\n",
      "\n",
      "C:\\Users\\quirosgu\\AppData\\Local\\Temp\\ipykernel_6524\\4072444705.py:9: FutureWarning:\n",
      "\n",
      "The behavior of DataFrame concatenation with empty or all-NA entries is deprecated. In a future version, this will no longer exclude empty or all-NA columns when determining the result dtypes. To retain the old behavior, exclude the relevant entries before the concat operation.\n",
      "\n",
      "C:\\Users\\quirosgu\\AppData\\Local\\Temp\\ipykernel_6524\\4072444705.py:9: FutureWarning:\n",
      "\n",
      "The behavior of DataFrame concatenation with empty or all-NA entries is deprecated. In a future version, this will no longer exclude empty or all-NA columns when determining the result dtypes. To retain the old behavior, exclude the relevant entries before the concat operation.\n",
      "\n",
      "C:\\Users\\quirosgu\\AppData\\Local\\Temp\\ipykernel_6524\\4072444705.py:9: FutureWarning:\n",
      "\n",
      "The behavior of DataFrame concatenation with empty or all-NA entries is deprecated. In a future version, this will no longer exclude empty or all-NA columns when determining the result dtypes. To retain the old behavior, exclude the relevant entries before the concat operation.\n",
      "\n",
      "C:\\Users\\quirosgu\\AppData\\Local\\Temp\\ipykernel_6524\\4072444705.py:9: FutureWarning:\n",
      "\n",
      "The behavior of DataFrame concatenation with empty or all-NA entries is deprecated. In a future version, this will no longer exclude empty or all-NA columns when determining the result dtypes. To retain the old behavior, exclude the relevant entries before the concat operation.\n",
      "\n",
      "C:\\Users\\quirosgu\\AppData\\Local\\Temp\\ipykernel_6524\\4072444705.py:9: FutureWarning:\n",
      "\n",
      "The behavior of DataFrame concatenation with empty or all-NA entries is deprecated. In a future version, this will no longer exclude empty or all-NA columns when determining the result dtypes. To retain the old behavior, exclude the relevant entries before the concat operation.\n",
      "\n",
      "C:\\Users\\quirosgu\\AppData\\Local\\Temp\\ipykernel_6524\\4072444705.py:9: FutureWarning:\n",
      "\n",
      "The behavior of DataFrame concatenation with empty or all-NA entries is deprecated. In a future version, this will no longer exclude empty or all-NA columns when determining the result dtypes. To retain the old behavior, exclude the relevant entries before the concat operation.\n",
      "\n",
      "C:\\Users\\quirosgu\\AppData\\Local\\Temp\\ipykernel_6524\\4072444705.py:9: FutureWarning:\n",
      "\n",
      "The behavior of DataFrame concatenation with empty or all-NA entries is deprecated. In a future version, this will no longer exclude empty or all-NA columns when determining the result dtypes. To retain the old behavior, exclude the relevant entries before the concat operation.\n",
      "\n",
      "C:\\Users\\quirosgu\\AppData\\Local\\Temp\\ipykernel_6524\\4072444705.py:9: FutureWarning:\n",
      "\n",
      "The behavior of DataFrame concatenation with empty or all-NA entries is deprecated. In a future version, this will no longer exclude empty or all-NA columns when determining the result dtypes. To retain the old behavior, exclude the relevant entries before the concat operation.\n",
      "\n",
      "C:\\Users\\quirosgu\\AppData\\Local\\Temp\\ipykernel_6524\\4072444705.py:9: FutureWarning:\n",
      "\n",
      "The behavior of DataFrame concatenation with empty or all-NA entries is deprecated. In a future version, this will no longer exclude empty or all-NA columns when determining the result dtypes. To retain the old behavior, exclude the relevant entries before the concat operation.\n",
      "\n",
      "C:\\Users\\quirosgu\\AppData\\Local\\Temp\\ipykernel_6524\\4072444705.py:9: FutureWarning:\n",
      "\n",
      "The behavior of DataFrame concatenation with empty or all-NA entries is deprecated. In a future version, this will no longer exclude empty or all-NA columns when determining the result dtypes. To retain the old behavior, exclude the relevant entries before the concat operation.\n",
      "\n",
      "C:\\Users\\quirosgu\\AppData\\Local\\Temp\\ipykernel_6524\\4072444705.py:9: FutureWarning:\n",
      "\n",
      "The behavior of DataFrame concatenation with empty or all-NA entries is deprecated. In a future version, this will no longer exclude empty or all-NA columns when determining the result dtypes. To retain the old behavior, exclude the relevant entries before the concat operation.\n",
      "\n",
      "C:\\Users\\quirosgu\\AppData\\Local\\Temp\\ipykernel_6524\\4072444705.py:9: FutureWarning:\n",
      "\n",
      "The behavior of DataFrame concatenation with empty or all-NA entries is deprecated. In a future version, this will no longer exclude empty or all-NA columns when determining the result dtypes. To retain the old behavior, exclude the relevant entries before the concat operation.\n",
      "\n",
      "C:\\Users\\quirosgu\\AppData\\Local\\Temp\\ipykernel_6524\\4072444705.py:9: FutureWarning:\n",
      "\n",
      "The behavior of DataFrame concatenation with empty or all-NA entries is deprecated. In a future version, this will no longer exclude empty or all-NA columns when determining the result dtypes. To retain the old behavior, exclude the relevant entries before the concat operation.\n",
      "\n",
      "C:\\Users\\quirosgu\\AppData\\Local\\Temp\\ipykernel_6524\\4072444705.py:9: FutureWarning:\n",
      "\n",
      "The behavior of DataFrame concatenation with empty or all-NA entries is deprecated. In a future version, this will no longer exclude empty or all-NA columns when determining the result dtypes. To retain the old behavior, exclude the relevant entries before the concat operation.\n",
      "\n",
      "C:\\Users\\quirosgu\\AppData\\Local\\Temp\\ipykernel_6524\\4072444705.py:9: FutureWarning:\n",
      "\n",
      "The behavior of DataFrame concatenation with empty or all-NA entries is deprecated. In a future version, this will no longer exclude empty or all-NA columns when determining the result dtypes. To retain the old behavior, exclude the relevant entries before the concat operation.\n",
      "\n",
      "C:\\Users\\quirosgu\\AppData\\Local\\Temp\\ipykernel_6524\\4072444705.py:9: FutureWarning:\n",
      "\n",
      "The behavior of DataFrame concatenation with empty or all-NA entries is deprecated. In a future version, this will no longer exclude empty or all-NA columns when determining the result dtypes. To retain the old behavior, exclude the relevant entries before the concat operation.\n",
      "\n",
      "C:\\Users\\quirosgu\\AppData\\Local\\Temp\\ipykernel_6524\\4072444705.py:9: FutureWarning:\n",
      "\n",
      "The behavior of DataFrame concatenation with empty or all-NA entries is deprecated. In a future version, this will no longer exclude empty or all-NA columns when determining the result dtypes. To retain the old behavior, exclude the relevant entries before the concat operation.\n",
      "\n",
      "C:\\Users\\quirosgu\\AppData\\Local\\Temp\\ipykernel_6524\\4072444705.py:9: FutureWarning:\n",
      "\n",
      "The behavior of DataFrame concatenation with empty or all-NA entries is deprecated. In a future version, this will no longer exclude empty or all-NA columns when determining the result dtypes. To retain the old behavior, exclude the relevant entries before the concat operation.\n",
      "\n",
      "C:\\Users\\quirosgu\\AppData\\Local\\Temp\\ipykernel_6524\\4072444705.py:9: FutureWarning:\n",
      "\n",
      "The behavior of DataFrame concatenation with empty or all-NA entries is deprecated. In a future version, this will no longer exclude empty or all-NA columns when determining the result dtypes. To retain the old behavior, exclude the relevant entries before the concat operation.\n",
      "\n",
      "C:\\Users\\quirosgu\\AppData\\Local\\Temp\\ipykernel_6524\\4072444705.py:9: FutureWarning:\n",
      "\n",
      "The behavior of DataFrame concatenation with empty or all-NA entries is deprecated. In a future version, this will no longer exclude empty or all-NA columns when determining the result dtypes. To retain the old behavior, exclude the relevant entries before the concat operation.\n",
      "\n",
      "C:\\Users\\quirosgu\\AppData\\Local\\Temp\\ipykernel_6524\\4072444705.py:9: FutureWarning:\n",
      "\n",
      "The behavior of DataFrame concatenation with empty or all-NA entries is deprecated. In a future version, this will no longer exclude empty or all-NA columns when determining the result dtypes. To retain the old behavior, exclude the relevant entries before the concat operation.\n",
      "\n",
      "C:\\Users\\quirosgu\\AppData\\Local\\Temp\\ipykernel_6524\\4072444705.py:9: FutureWarning:\n",
      "\n",
      "The behavior of DataFrame concatenation with empty or all-NA entries is deprecated. In a future version, this will no longer exclude empty or all-NA columns when determining the result dtypes. To retain the old behavior, exclude the relevant entries before the concat operation.\n",
      "\n",
      "C:\\Users\\quirosgu\\AppData\\Local\\Temp\\ipykernel_6524\\4072444705.py:9: FutureWarning:\n",
      "\n",
      "The behavior of DataFrame concatenation with empty or all-NA entries is deprecated. In a future version, this will no longer exclude empty or all-NA columns when determining the result dtypes. To retain the old behavior, exclude the relevant entries before the concat operation.\n",
      "\n",
      "C:\\Users\\quirosgu\\AppData\\Local\\Temp\\ipykernel_6524\\4072444705.py:9: FutureWarning:\n",
      "\n",
      "The behavior of DataFrame concatenation with empty or all-NA entries is deprecated. In a future version, this will no longer exclude empty or all-NA columns when determining the result dtypes. To retain the old behavior, exclude the relevant entries before the concat operation.\n",
      "\n",
      "C:\\Users\\quirosgu\\AppData\\Local\\Temp\\ipykernel_6524\\4072444705.py:9: FutureWarning:\n",
      "\n",
      "The behavior of DataFrame concatenation with empty or all-NA entries is deprecated. In a future version, this will no longer exclude empty or all-NA columns when determining the result dtypes. To retain the old behavior, exclude the relevant entries before the concat operation.\n",
      "\n",
      "C:\\Users\\quirosgu\\AppData\\Local\\Temp\\ipykernel_6524\\4072444705.py:9: FutureWarning:\n",
      "\n",
      "The behavior of DataFrame concatenation with empty or all-NA entries is deprecated. In a future version, this will no longer exclude empty or all-NA columns when determining the result dtypes. To retain the old behavior, exclude the relevant entries before the concat operation.\n",
      "\n",
      "C:\\Users\\quirosgu\\AppData\\Local\\Temp\\ipykernel_6524\\4072444705.py:9: FutureWarning:\n",
      "\n",
      "The behavior of DataFrame concatenation with empty or all-NA entries is deprecated. In a future version, this will no longer exclude empty or all-NA columns when determining the result dtypes. To retain the old behavior, exclude the relevant entries before the concat operation.\n",
      "\n",
      "C:\\Users\\quirosgu\\AppData\\Local\\Temp\\ipykernel_6524\\4072444705.py:9: FutureWarning:\n",
      "\n",
      "The behavior of DataFrame concatenation with empty or all-NA entries is deprecated. In a future version, this will no longer exclude empty or all-NA columns when determining the result dtypes. To retain the old behavior, exclude the relevant entries before the concat operation.\n",
      "\n",
      "C:\\Users\\quirosgu\\AppData\\Local\\Temp\\ipykernel_6524\\4072444705.py:9: FutureWarning:\n",
      "\n",
      "The behavior of DataFrame concatenation with empty or all-NA entries is deprecated. In a future version, this will no longer exclude empty or all-NA columns when determining the result dtypes. To retain the old behavior, exclude the relevant entries before the concat operation.\n",
      "\n",
      "C:\\Users\\quirosgu\\AppData\\Local\\Temp\\ipykernel_6524\\4072444705.py:9: FutureWarning:\n",
      "\n",
      "The behavior of DataFrame concatenation with empty or all-NA entries is deprecated. In a future version, this will no longer exclude empty or all-NA columns when determining the result dtypes. To retain the old behavior, exclude the relevant entries before the concat operation.\n",
      "\n",
      "C:\\Users\\quirosgu\\AppData\\Local\\Temp\\ipykernel_6524\\4072444705.py:9: FutureWarning:\n",
      "\n",
      "The behavior of DataFrame concatenation with empty or all-NA entries is deprecated. In a future version, this will no longer exclude empty or all-NA columns when determining the result dtypes. To retain the old behavior, exclude the relevant entries before the concat operation.\n",
      "\n",
      "C:\\Users\\quirosgu\\AppData\\Local\\Temp\\ipykernel_6524\\4072444705.py:9: FutureWarning:\n",
      "\n",
      "The behavior of DataFrame concatenation with empty or all-NA entries is deprecated. In a future version, this will no longer exclude empty or all-NA columns when determining the result dtypes. To retain the old behavior, exclude the relevant entries before the concat operation.\n",
      "\n",
      "C:\\Users\\quirosgu\\AppData\\Local\\Temp\\ipykernel_6524\\4072444705.py:9: FutureWarning:\n",
      "\n",
      "The behavior of DataFrame concatenation with empty or all-NA entries is deprecated. In a future version, this will no longer exclude empty or all-NA columns when determining the result dtypes. To retain the old behavior, exclude the relevant entries before the concat operation.\n",
      "\n",
      "C:\\Users\\quirosgu\\AppData\\Local\\Temp\\ipykernel_6524\\4072444705.py:9: FutureWarning:\n",
      "\n",
      "The behavior of DataFrame concatenation with empty or all-NA entries is deprecated. In a future version, this will no longer exclude empty or all-NA columns when determining the result dtypes. To retain the old behavior, exclude the relevant entries before the concat operation.\n",
      "\n",
      "C:\\Users\\quirosgu\\AppData\\Local\\Temp\\ipykernel_6524\\4072444705.py:9: FutureWarning:\n",
      "\n",
      "The behavior of DataFrame concatenation with empty or all-NA entries is deprecated. In a future version, this will no longer exclude empty or all-NA columns when determining the result dtypes. To retain the old behavior, exclude the relevant entries before the concat operation.\n",
      "\n",
      "C:\\Users\\quirosgu\\AppData\\Local\\Temp\\ipykernel_6524\\4072444705.py:9: FutureWarning:\n",
      "\n",
      "The behavior of DataFrame concatenation with empty or all-NA entries is deprecated. In a future version, this will no longer exclude empty or all-NA columns when determining the result dtypes. To retain the old behavior, exclude the relevant entries before the concat operation.\n",
      "\n",
      "C:\\Users\\quirosgu\\AppData\\Local\\Temp\\ipykernel_6524\\4072444705.py:9: FutureWarning:\n",
      "\n",
      "The behavior of DataFrame concatenation with empty or all-NA entries is deprecated. In a future version, this will no longer exclude empty or all-NA columns when determining the result dtypes. To retain the old behavior, exclude the relevant entries before the concat operation.\n",
      "\n",
      "C:\\Users\\quirosgu\\AppData\\Local\\Temp\\ipykernel_6524\\4072444705.py:9: FutureWarning:\n",
      "\n",
      "The behavior of DataFrame concatenation with empty or all-NA entries is deprecated. In a future version, this will no longer exclude empty or all-NA columns when determining the result dtypes. To retain the old behavior, exclude the relevant entries before the concat operation.\n",
      "\n",
      "C:\\Users\\quirosgu\\AppData\\Local\\Temp\\ipykernel_6524\\4072444705.py:9: FutureWarning:\n",
      "\n",
      "The behavior of DataFrame concatenation with empty or all-NA entries is deprecated. In a future version, this will no longer exclude empty or all-NA columns when determining the result dtypes. To retain the old behavior, exclude the relevant entries before the concat operation.\n",
      "\n",
      "C:\\Users\\quirosgu\\AppData\\Local\\Temp\\ipykernel_6524\\4072444705.py:9: FutureWarning:\n",
      "\n",
      "The behavior of DataFrame concatenation with empty or all-NA entries is deprecated. In a future version, this will no longer exclude empty or all-NA columns when determining the result dtypes. To retain the old behavior, exclude the relevant entries before the concat operation.\n",
      "\n",
      "C:\\Users\\quirosgu\\AppData\\Local\\Temp\\ipykernel_6524\\4072444705.py:9: FutureWarning:\n",
      "\n",
      "The behavior of DataFrame concatenation with empty or all-NA entries is deprecated. In a future version, this will no longer exclude empty or all-NA columns when determining the result dtypes. To retain the old behavior, exclude the relevant entries before the concat operation.\n",
      "\n",
      "C:\\Users\\quirosgu\\AppData\\Local\\Temp\\ipykernel_6524\\4072444705.py:9: FutureWarning:\n",
      "\n",
      "The behavior of DataFrame concatenation with empty or all-NA entries is deprecated. In a future version, this will no longer exclude empty or all-NA columns when determining the result dtypes. To retain the old behavior, exclude the relevant entries before the concat operation.\n",
      "\n",
      "C:\\Users\\quirosgu\\AppData\\Local\\Temp\\ipykernel_6524\\4072444705.py:9: FutureWarning:\n",
      "\n",
      "The behavior of DataFrame concatenation with empty or all-NA entries is deprecated. In a future version, this will no longer exclude empty or all-NA columns when determining the result dtypes. To retain the old behavior, exclude the relevant entries before the concat operation.\n",
      "\n",
      "C:\\Users\\quirosgu\\AppData\\Local\\Temp\\ipykernel_6524\\4072444705.py:9: FutureWarning:\n",
      "\n",
      "The behavior of DataFrame concatenation with empty or all-NA entries is deprecated. In a future version, this will no longer exclude empty or all-NA columns when determining the result dtypes. To retain the old behavior, exclude the relevant entries before the concat operation.\n",
      "\n",
      "C:\\Users\\quirosgu\\AppData\\Local\\Temp\\ipykernel_6524\\4072444705.py:9: FutureWarning:\n",
      "\n",
      "The behavior of DataFrame concatenation with empty or all-NA entries is deprecated. In a future version, this will no longer exclude empty or all-NA columns when determining the result dtypes. To retain the old behavior, exclude the relevant entries before the concat operation.\n",
      "\n",
      "C:\\Users\\quirosgu\\AppData\\Local\\Temp\\ipykernel_6524\\4072444705.py:9: FutureWarning:\n",
      "\n",
      "The behavior of DataFrame concatenation with empty or all-NA entries is deprecated. In a future version, this will no longer exclude empty or all-NA columns when determining the result dtypes. To retain the old behavior, exclude the relevant entries before the concat operation.\n",
      "\n",
      "C:\\Users\\quirosgu\\AppData\\Local\\Temp\\ipykernel_6524\\4072444705.py:9: FutureWarning:\n",
      "\n",
      "The behavior of DataFrame concatenation with empty or all-NA entries is deprecated. In a future version, this will no longer exclude empty or all-NA columns when determining the result dtypes. To retain the old behavior, exclude the relevant entries before the concat operation.\n",
      "\n",
      "C:\\Users\\quirosgu\\AppData\\Local\\Temp\\ipykernel_6524\\4072444705.py:9: FutureWarning:\n",
      "\n",
      "The behavior of DataFrame concatenation with empty or all-NA entries is deprecated. In a future version, this will no longer exclude empty or all-NA columns when determining the result dtypes. To retain the old behavior, exclude the relevant entries before the concat operation.\n",
      "\n",
      "C:\\Users\\quirosgu\\AppData\\Local\\Temp\\ipykernel_6524\\4072444705.py:9: FutureWarning:\n",
      "\n",
      "The behavior of DataFrame concatenation with empty or all-NA entries is deprecated. In a future version, this will no longer exclude empty or all-NA columns when determining the result dtypes. To retain the old behavior, exclude the relevant entries before the concat operation.\n",
      "\n",
      "C:\\Users\\quirosgu\\AppData\\Local\\Temp\\ipykernel_6524\\4072444705.py:9: FutureWarning:\n",
      "\n",
      "The behavior of DataFrame concatenation with empty or all-NA entries is deprecated. In a future version, this will no longer exclude empty or all-NA columns when determining the result dtypes. To retain the old behavior, exclude the relevant entries before the concat operation.\n",
      "\n",
      "C:\\Users\\quirosgu\\AppData\\Local\\Temp\\ipykernel_6524\\4072444705.py:9: FutureWarning:\n",
      "\n",
      "The behavior of DataFrame concatenation with empty or all-NA entries is deprecated. In a future version, this will no longer exclude empty or all-NA columns when determining the result dtypes. To retain the old behavior, exclude the relevant entries before the concat operation.\n",
      "\n",
      "C:\\Users\\quirosgu\\AppData\\Local\\Temp\\ipykernel_6524\\4072444705.py:9: FutureWarning:\n",
      "\n",
      "The behavior of DataFrame concatenation with empty or all-NA entries is deprecated. In a future version, this will no longer exclude empty or all-NA columns when determining the result dtypes. To retain the old behavior, exclude the relevant entries before the concat operation.\n",
      "\n",
      "C:\\Users\\quirosgu\\AppData\\Local\\Temp\\ipykernel_6524\\4072444705.py:9: FutureWarning:\n",
      "\n",
      "The behavior of DataFrame concatenation with empty or all-NA entries is deprecated. In a future version, this will no longer exclude empty or all-NA columns when determining the result dtypes. To retain the old behavior, exclude the relevant entries before the concat operation.\n",
      "\n",
      "C:\\Users\\quirosgu\\AppData\\Local\\Temp\\ipykernel_6524\\4072444705.py:9: FutureWarning:\n",
      "\n",
      "The behavior of DataFrame concatenation with empty or all-NA entries is deprecated. In a future version, this will no longer exclude empty or all-NA columns when determining the result dtypes. To retain the old behavior, exclude the relevant entries before the concat operation.\n",
      "\n",
      "C:\\Users\\quirosgu\\AppData\\Local\\Temp\\ipykernel_6524\\4072444705.py:9: FutureWarning:\n",
      "\n",
      "The behavior of DataFrame concatenation with empty or all-NA entries is deprecated. In a future version, this will no longer exclude empty or all-NA columns when determining the result dtypes. To retain the old behavior, exclude the relevant entries before the concat operation.\n",
      "\n",
      "C:\\Users\\quirosgu\\AppData\\Local\\Temp\\ipykernel_6524\\4072444705.py:9: FutureWarning:\n",
      "\n",
      "The behavior of DataFrame concatenation with empty or all-NA entries is deprecated. In a future version, this will no longer exclude empty or all-NA columns when determining the result dtypes. To retain the old behavior, exclude the relevant entries before the concat operation.\n",
      "\n",
      "C:\\Users\\quirosgu\\AppData\\Local\\Temp\\ipykernel_6524\\4072444705.py:9: FutureWarning:\n",
      "\n",
      "The behavior of DataFrame concatenation with empty or all-NA entries is deprecated. In a future version, this will no longer exclude empty or all-NA columns when determining the result dtypes. To retain the old behavior, exclude the relevant entries before the concat operation.\n",
      "\n",
      "C:\\Users\\quirosgu\\AppData\\Local\\Temp\\ipykernel_6524\\4072444705.py:9: FutureWarning:\n",
      "\n",
      "The behavior of DataFrame concatenation with empty or all-NA entries is deprecated. In a future version, this will no longer exclude empty or all-NA columns when determining the result dtypes. To retain the old behavior, exclude the relevant entries before the concat operation.\n",
      "\n",
      "C:\\Users\\quirosgu\\AppData\\Local\\Temp\\ipykernel_6524\\4072444705.py:9: FutureWarning:\n",
      "\n",
      "The behavior of DataFrame concatenation with empty or all-NA entries is deprecated. In a future version, this will no longer exclude empty or all-NA columns when determining the result dtypes. To retain the old behavior, exclude the relevant entries before the concat operation.\n",
      "\n",
      "C:\\Users\\quirosgu\\AppData\\Local\\Temp\\ipykernel_6524\\4072444705.py:9: FutureWarning:\n",
      "\n",
      "The behavior of DataFrame concatenation with empty or all-NA entries is deprecated. In a future version, this will no longer exclude empty or all-NA columns when determining the result dtypes. To retain the old behavior, exclude the relevant entries before the concat operation.\n",
      "\n",
      "C:\\Users\\quirosgu\\AppData\\Local\\Temp\\ipykernel_6524\\4072444705.py:9: FutureWarning:\n",
      "\n",
      "The behavior of DataFrame concatenation with empty or all-NA entries is deprecated. In a future version, this will no longer exclude empty or all-NA columns when determining the result dtypes. To retain the old behavior, exclude the relevant entries before the concat operation.\n",
      "\n",
      "C:\\Users\\quirosgu\\AppData\\Local\\Temp\\ipykernel_6524\\4072444705.py:9: FutureWarning:\n",
      "\n",
      "The behavior of DataFrame concatenation with empty or all-NA entries is deprecated. In a future version, this will no longer exclude empty or all-NA columns when determining the result dtypes. To retain the old behavior, exclude the relevant entries before the concat operation.\n",
      "\n",
      "C:\\Users\\quirosgu\\AppData\\Local\\Temp\\ipykernel_6524\\4072444705.py:9: FutureWarning:\n",
      "\n",
      "The behavior of DataFrame concatenation with empty or all-NA entries is deprecated. In a future version, this will no longer exclude empty or all-NA columns when determining the result dtypes. To retain the old behavior, exclude the relevant entries before the concat operation.\n",
      "\n",
      "C:\\Users\\quirosgu\\AppData\\Local\\Temp\\ipykernel_6524\\4072444705.py:9: FutureWarning:\n",
      "\n",
      "The behavior of DataFrame concatenation with empty or all-NA entries is deprecated. In a future version, this will no longer exclude empty or all-NA columns when determining the result dtypes. To retain the old behavior, exclude the relevant entries before the concat operation.\n",
      "\n",
      "C:\\Users\\quirosgu\\AppData\\Local\\Temp\\ipykernel_6524\\4072444705.py:9: FutureWarning:\n",
      "\n",
      "The behavior of DataFrame concatenation with empty or all-NA entries is deprecated. In a future version, this will no longer exclude empty or all-NA columns when determining the result dtypes. To retain the old behavior, exclude the relevant entries before the concat operation.\n",
      "\n",
      "C:\\Users\\quirosgu\\AppData\\Local\\Temp\\ipykernel_6524\\4072444705.py:9: FutureWarning:\n",
      "\n",
      "The behavior of DataFrame concatenation with empty or all-NA entries is deprecated. In a future version, this will no longer exclude empty or all-NA columns when determining the result dtypes. To retain the old behavior, exclude the relevant entries before the concat operation.\n",
      "\n",
      "C:\\Users\\quirosgu\\AppData\\Local\\Temp\\ipykernel_6524\\4072444705.py:9: FutureWarning:\n",
      "\n",
      "The behavior of DataFrame concatenation with empty or all-NA entries is deprecated. In a future version, this will no longer exclude empty or all-NA columns when determining the result dtypes. To retain the old behavior, exclude the relevant entries before the concat operation.\n",
      "\n",
      "C:\\Users\\quirosgu\\AppData\\Local\\Temp\\ipykernel_6524\\4072444705.py:9: FutureWarning:\n",
      "\n",
      "The behavior of DataFrame concatenation with empty or all-NA entries is deprecated. In a future version, this will no longer exclude empty or all-NA columns when determining the result dtypes. To retain the old behavior, exclude the relevant entries before the concat operation.\n",
      "\n",
      "C:\\Users\\quirosgu\\AppData\\Local\\Temp\\ipykernel_6524\\4072444705.py:9: FutureWarning:\n",
      "\n",
      "The behavior of DataFrame concatenation with empty or all-NA entries is deprecated. In a future version, this will no longer exclude empty or all-NA columns when determining the result dtypes. To retain the old behavior, exclude the relevant entries before the concat operation.\n",
      "\n",
      "C:\\Users\\quirosgu\\AppData\\Local\\Temp\\ipykernel_6524\\4072444705.py:9: FutureWarning:\n",
      "\n",
      "The behavior of DataFrame concatenation with empty or all-NA entries is deprecated. In a future version, this will no longer exclude empty or all-NA columns when determining the result dtypes. To retain the old behavior, exclude the relevant entries before the concat operation.\n",
      "\n",
      "C:\\Users\\quirosgu\\AppData\\Local\\Temp\\ipykernel_6524\\4072444705.py:9: FutureWarning:\n",
      "\n",
      "The behavior of DataFrame concatenation with empty or all-NA entries is deprecated. In a future version, this will no longer exclude empty or all-NA columns when determining the result dtypes. To retain the old behavior, exclude the relevant entries before the concat operation.\n",
      "\n",
      "C:\\Users\\quirosgu\\AppData\\Local\\Temp\\ipykernel_6524\\4072444705.py:9: FutureWarning:\n",
      "\n",
      "The behavior of DataFrame concatenation with empty or all-NA entries is deprecated. In a future version, this will no longer exclude empty or all-NA columns when determining the result dtypes. To retain the old behavior, exclude the relevant entries before the concat operation.\n",
      "\n",
      "C:\\Users\\quirosgu\\AppData\\Local\\Temp\\ipykernel_6524\\4072444705.py:9: FutureWarning:\n",
      "\n",
      "The behavior of DataFrame concatenation with empty or all-NA entries is deprecated. In a future version, this will no longer exclude empty or all-NA columns when determining the result dtypes. To retain the old behavior, exclude the relevant entries before the concat operation.\n",
      "\n",
      "C:\\Users\\quirosgu\\AppData\\Local\\Temp\\ipykernel_6524\\4072444705.py:9: FutureWarning:\n",
      "\n",
      "The behavior of DataFrame concatenation with empty or all-NA entries is deprecated. In a future version, this will no longer exclude empty or all-NA columns when determining the result dtypes. To retain the old behavior, exclude the relevant entries before the concat operation.\n",
      "\n",
      "C:\\Users\\quirosgu\\AppData\\Local\\Temp\\ipykernel_6524\\4072444705.py:9: FutureWarning:\n",
      "\n",
      "The behavior of DataFrame concatenation with empty or all-NA entries is deprecated. In a future version, this will no longer exclude empty or all-NA columns when determining the result dtypes. To retain the old behavior, exclude the relevant entries before the concat operation.\n",
      "\n",
      "C:\\Users\\quirosgu\\AppData\\Local\\Temp\\ipykernel_6524\\4072444705.py:9: FutureWarning:\n",
      "\n",
      "The behavior of DataFrame concatenation with empty or all-NA entries is deprecated. In a future version, this will no longer exclude empty or all-NA columns when determining the result dtypes. To retain the old behavior, exclude the relevant entries before the concat operation.\n",
      "\n",
      "C:\\Users\\quirosgu\\AppData\\Local\\Temp\\ipykernel_6524\\4072444705.py:9: FutureWarning:\n",
      "\n",
      "The behavior of DataFrame concatenation with empty or all-NA entries is deprecated. In a future version, this will no longer exclude empty or all-NA columns when determining the result dtypes. To retain the old behavior, exclude the relevant entries before the concat operation.\n",
      "\n",
      "C:\\Users\\quirosgu\\AppData\\Local\\Temp\\ipykernel_6524\\4072444705.py:9: FutureWarning:\n",
      "\n",
      "The behavior of DataFrame concatenation with empty or all-NA entries is deprecated. In a future version, this will no longer exclude empty or all-NA columns when determining the result dtypes. To retain the old behavior, exclude the relevant entries before the concat operation.\n",
      "\n",
      "C:\\Users\\quirosgu\\AppData\\Local\\Temp\\ipykernel_6524\\4072444705.py:9: FutureWarning:\n",
      "\n",
      "The behavior of DataFrame concatenation with empty or all-NA entries is deprecated. In a future version, this will no longer exclude empty or all-NA columns when determining the result dtypes. To retain the old behavior, exclude the relevant entries before the concat operation.\n",
      "\n",
      "C:\\Users\\quirosgu\\AppData\\Local\\Temp\\ipykernel_6524\\4072444705.py:9: FutureWarning:\n",
      "\n",
      "The behavior of DataFrame concatenation with empty or all-NA entries is deprecated. In a future version, this will no longer exclude empty or all-NA columns when determining the result dtypes. To retain the old behavior, exclude the relevant entries before the concat operation.\n",
      "\n",
      "C:\\Users\\quirosgu\\AppData\\Local\\Temp\\ipykernel_6524\\4072444705.py:9: FutureWarning:\n",
      "\n",
      "The behavior of DataFrame concatenation with empty or all-NA entries is deprecated. In a future version, this will no longer exclude empty or all-NA columns when determining the result dtypes. To retain the old behavior, exclude the relevant entries before the concat operation.\n",
      "\n",
      "C:\\Users\\quirosgu\\AppData\\Local\\Temp\\ipykernel_6524\\4072444705.py:9: FutureWarning:\n",
      "\n",
      "The behavior of DataFrame concatenation with empty or all-NA entries is deprecated. In a future version, this will no longer exclude empty or all-NA columns when determining the result dtypes. To retain the old behavior, exclude the relevant entries before the concat operation.\n",
      "\n",
      "C:\\Users\\quirosgu\\AppData\\Local\\Temp\\ipykernel_6524\\4072444705.py:9: FutureWarning:\n",
      "\n",
      "The behavior of DataFrame concatenation with empty or all-NA entries is deprecated. In a future version, this will no longer exclude empty or all-NA columns when determining the result dtypes. To retain the old behavior, exclude the relevant entries before the concat operation.\n",
      "\n",
      "C:\\Users\\quirosgu\\AppData\\Local\\Temp\\ipykernel_6524\\4072444705.py:9: FutureWarning:\n",
      "\n",
      "The behavior of DataFrame concatenation with empty or all-NA entries is deprecated. In a future version, this will no longer exclude empty or all-NA columns when determining the result dtypes. To retain the old behavior, exclude the relevant entries before the concat operation.\n",
      "\n",
      "C:\\Users\\quirosgu\\AppData\\Local\\Temp\\ipykernel_6524\\4072444705.py:9: FutureWarning:\n",
      "\n",
      "The behavior of DataFrame concatenation with empty or all-NA entries is deprecated. In a future version, this will no longer exclude empty or all-NA columns when determining the result dtypes. To retain the old behavior, exclude the relevant entries before the concat operation.\n",
      "\n",
      "C:\\Users\\quirosgu\\AppData\\Local\\Temp\\ipykernel_6524\\4072444705.py:9: FutureWarning:\n",
      "\n",
      "The behavior of DataFrame concatenation with empty or all-NA entries is deprecated. In a future version, this will no longer exclude empty or all-NA columns when determining the result dtypes. To retain the old behavior, exclude the relevant entries before the concat operation.\n",
      "\n",
      "C:\\Users\\quirosgu\\AppData\\Local\\Temp\\ipykernel_6524\\4072444705.py:9: FutureWarning:\n",
      "\n",
      "The behavior of DataFrame concatenation with empty or all-NA entries is deprecated. In a future version, this will no longer exclude empty or all-NA columns when determining the result dtypes. To retain the old behavior, exclude the relevant entries before the concat operation.\n",
      "\n",
      "C:\\Users\\quirosgu\\AppData\\Local\\Temp\\ipykernel_6524\\4072444705.py:9: FutureWarning:\n",
      "\n",
      "The behavior of DataFrame concatenation with empty or all-NA entries is deprecated. In a future version, this will no longer exclude empty or all-NA columns when determining the result dtypes. To retain the old behavior, exclude the relevant entries before the concat operation.\n",
      "\n",
      "C:\\Users\\quirosgu\\AppData\\Local\\Temp\\ipykernel_6524\\4072444705.py:9: FutureWarning:\n",
      "\n",
      "The behavior of DataFrame concatenation with empty or all-NA entries is deprecated. In a future version, this will no longer exclude empty or all-NA columns when determining the result dtypes. To retain the old behavior, exclude the relevant entries before the concat operation.\n",
      "\n",
      "C:\\Users\\quirosgu\\AppData\\Local\\Temp\\ipykernel_6524\\4072444705.py:9: FutureWarning:\n",
      "\n",
      "The behavior of DataFrame concatenation with empty or all-NA entries is deprecated. In a future version, this will no longer exclude empty or all-NA columns when determining the result dtypes. To retain the old behavior, exclude the relevant entries before the concat operation.\n",
      "\n",
      "C:\\Users\\quirosgu\\AppData\\Local\\Temp\\ipykernel_6524\\4072444705.py:9: FutureWarning:\n",
      "\n",
      "The behavior of DataFrame concatenation with empty or all-NA entries is deprecated. In a future version, this will no longer exclude empty or all-NA columns when determining the result dtypes. To retain the old behavior, exclude the relevant entries before the concat operation.\n",
      "\n",
      "C:\\Users\\quirosgu\\AppData\\Local\\Temp\\ipykernel_6524\\4072444705.py:9: FutureWarning:\n",
      "\n",
      "The behavior of DataFrame concatenation with empty or all-NA entries is deprecated. In a future version, this will no longer exclude empty or all-NA columns when determining the result dtypes. To retain the old behavior, exclude the relevant entries before the concat operation.\n",
      "\n",
      "C:\\Users\\quirosgu\\AppData\\Local\\Temp\\ipykernel_6524\\4072444705.py:9: FutureWarning:\n",
      "\n",
      "The behavior of DataFrame concatenation with empty or all-NA entries is deprecated. In a future version, this will no longer exclude empty or all-NA columns when determining the result dtypes. To retain the old behavior, exclude the relevant entries before the concat operation.\n",
      "\n",
      "C:\\Users\\quirosgu\\AppData\\Local\\Temp\\ipykernel_6524\\4072444705.py:9: FutureWarning:\n",
      "\n",
      "The behavior of DataFrame concatenation with empty or all-NA entries is deprecated. In a future version, this will no longer exclude empty or all-NA columns when determining the result dtypes. To retain the old behavior, exclude the relevant entries before the concat operation.\n",
      "\n",
      "C:\\Users\\quirosgu\\AppData\\Local\\Temp\\ipykernel_6524\\4072444705.py:9: FutureWarning:\n",
      "\n",
      "The behavior of DataFrame concatenation with empty or all-NA entries is deprecated. In a future version, this will no longer exclude empty or all-NA columns when determining the result dtypes. To retain the old behavior, exclude the relevant entries before the concat operation.\n",
      "\n",
      "C:\\Users\\quirosgu\\AppData\\Local\\Temp\\ipykernel_6524\\4072444705.py:9: FutureWarning:\n",
      "\n",
      "The behavior of DataFrame concatenation with empty or all-NA entries is deprecated. In a future version, this will no longer exclude empty or all-NA columns when determining the result dtypes. To retain the old behavior, exclude the relevant entries before the concat operation.\n",
      "\n",
      "C:\\Users\\quirosgu\\AppData\\Local\\Temp\\ipykernel_6524\\4072444705.py:9: FutureWarning:\n",
      "\n",
      "The behavior of DataFrame concatenation with empty or all-NA entries is deprecated. In a future version, this will no longer exclude empty or all-NA columns when determining the result dtypes. To retain the old behavior, exclude the relevant entries before the concat operation.\n",
      "\n",
      "C:\\Users\\quirosgu\\AppData\\Local\\Temp\\ipykernel_6524\\4072444705.py:9: FutureWarning:\n",
      "\n",
      "The behavior of DataFrame concatenation with empty or all-NA entries is deprecated. In a future version, this will no longer exclude empty or all-NA columns when determining the result dtypes. To retain the old behavior, exclude the relevant entries before the concat operation.\n",
      "\n",
      "C:\\Users\\quirosgu\\AppData\\Local\\Temp\\ipykernel_6524\\4072444705.py:9: FutureWarning:\n",
      "\n",
      "The behavior of DataFrame concatenation with empty or all-NA entries is deprecated. In a future version, this will no longer exclude empty or all-NA columns when determining the result dtypes. To retain the old behavior, exclude the relevant entries before the concat operation.\n",
      "\n",
      "C:\\Users\\quirosgu\\AppData\\Local\\Temp\\ipykernel_6524\\4072444705.py:9: FutureWarning:\n",
      "\n",
      "The behavior of DataFrame concatenation with empty or all-NA entries is deprecated. In a future version, this will no longer exclude empty or all-NA columns when determining the result dtypes. To retain the old behavior, exclude the relevant entries before the concat operation.\n",
      "\n",
      "C:\\Users\\quirosgu\\AppData\\Local\\Temp\\ipykernel_6524\\4072444705.py:9: FutureWarning:\n",
      "\n",
      "The behavior of DataFrame concatenation with empty or all-NA entries is deprecated. In a future version, this will no longer exclude empty or all-NA columns when determining the result dtypes. To retain the old behavior, exclude the relevant entries before the concat operation.\n",
      "\n",
      "C:\\Users\\quirosgu\\AppData\\Local\\Temp\\ipykernel_6524\\4072444705.py:9: FutureWarning:\n",
      "\n",
      "The behavior of DataFrame concatenation with empty or all-NA entries is deprecated. In a future version, this will no longer exclude empty or all-NA columns when determining the result dtypes. To retain the old behavior, exclude the relevant entries before the concat operation.\n",
      "\n",
      "C:\\Users\\quirosgu\\AppData\\Local\\Temp\\ipykernel_6524\\4072444705.py:9: FutureWarning:\n",
      "\n",
      "The behavior of DataFrame concatenation with empty or all-NA entries is deprecated. In a future version, this will no longer exclude empty or all-NA columns when determining the result dtypes. To retain the old behavior, exclude the relevant entries before the concat operation.\n",
      "\n",
      "C:\\Users\\quirosgu\\AppData\\Local\\Temp\\ipykernel_6524\\4072444705.py:9: FutureWarning:\n",
      "\n",
      "The behavior of DataFrame concatenation with empty or all-NA entries is deprecated. In a future version, this will no longer exclude empty or all-NA columns when determining the result dtypes. To retain the old behavior, exclude the relevant entries before the concat operation.\n",
      "\n",
      "C:\\Users\\quirosgu\\AppData\\Local\\Temp\\ipykernel_6524\\4072444705.py:9: FutureWarning:\n",
      "\n",
      "The behavior of DataFrame concatenation with empty or all-NA entries is deprecated. In a future version, this will no longer exclude empty or all-NA columns when determining the result dtypes. To retain the old behavior, exclude the relevant entries before the concat operation.\n",
      "\n",
      "C:\\Users\\quirosgu\\AppData\\Local\\Temp\\ipykernel_6524\\4072444705.py:9: FutureWarning:\n",
      "\n",
      "The behavior of DataFrame concatenation with empty or all-NA entries is deprecated. In a future version, this will no longer exclude empty or all-NA columns when determining the result dtypes. To retain the old behavior, exclude the relevant entries before the concat operation.\n",
      "\n",
      "C:\\Users\\quirosgu\\AppData\\Local\\Temp\\ipykernel_6524\\4072444705.py:9: FutureWarning:\n",
      "\n",
      "The behavior of DataFrame concatenation with empty or all-NA entries is deprecated. In a future version, this will no longer exclude empty or all-NA columns when determining the result dtypes. To retain the old behavior, exclude the relevant entries before the concat operation.\n",
      "\n",
      "C:\\Users\\quirosgu\\AppData\\Local\\Temp\\ipykernel_6524\\4072444705.py:9: FutureWarning:\n",
      "\n",
      "The behavior of DataFrame concatenation with empty or all-NA entries is deprecated. In a future version, this will no longer exclude empty or all-NA columns when determining the result dtypes. To retain the old behavior, exclude the relevant entries before the concat operation.\n",
      "\n",
      "C:\\Users\\quirosgu\\AppData\\Local\\Temp\\ipykernel_6524\\4072444705.py:9: FutureWarning:\n",
      "\n",
      "The behavior of DataFrame concatenation with empty or all-NA entries is deprecated. In a future version, this will no longer exclude empty or all-NA columns when determining the result dtypes. To retain the old behavior, exclude the relevant entries before the concat operation.\n",
      "\n",
      "C:\\Users\\quirosgu\\AppData\\Local\\Temp\\ipykernel_6524\\4072444705.py:9: FutureWarning:\n",
      "\n",
      "The behavior of DataFrame concatenation with empty or all-NA entries is deprecated. In a future version, this will no longer exclude empty or all-NA columns when determining the result dtypes. To retain the old behavior, exclude the relevant entries before the concat operation.\n",
      "\n",
      "C:\\Users\\quirosgu\\AppData\\Local\\Temp\\ipykernel_6524\\4072444705.py:9: FutureWarning:\n",
      "\n",
      "The behavior of DataFrame concatenation with empty or all-NA entries is deprecated. In a future version, this will no longer exclude empty or all-NA columns when determining the result dtypes. To retain the old behavior, exclude the relevant entries before the concat operation.\n",
      "\n",
      "C:\\Users\\quirosgu\\AppData\\Local\\Temp\\ipykernel_6524\\4072444705.py:9: FutureWarning:\n",
      "\n",
      "The behavior of DataFrame concatenation with empty or all-NA entries is deprecated. In a future version, this will no longer exclude empty or all-NA columns when determining the result dtypes. To retain the old behavior, exclude the relevant entries before the concat operation.\n",
      "\n",
      "C:\\Users\\quirosgu\\AppData\\Local\\Temp\\ipykernel_6524\\4072444705.py:9: FutureWarning:\n",
      "\n",
      "The behavior of DataFrame concatenation with empty or all-NA entries is deprecated. In a future version, this will no longer exclude empty or all-NA columns when determining the result dtypes. To retain the old behavior, exclude the relevant entries before the concat operation.\n",
      "\n",
      "C:\\Users\\quirosgu\\AppData\\Local\\Temp\\ipykernel_6524\\4072444705.py:9: FutureWarning:\n",
      "\n",
      "The behavior of DataFrame concatenation with empty or all-NA entries is deprecated. In a future version, this will no longer exclude empty or all-NA columns when determining the result dtypes. To retain the old behavior, exclude the relevant entries before the concat operation.\n",
      "\n",
      "C:\\Users\\quirosgu\\AppData\\Local\\Temp\\ipykernel_6524\\4072444705.py:9: FutureWarning:\n",
      "\n",
      "The behavior of DataFrame concatenation with empty or all-NA entries is deprecated. In a future version, this will no longer exclude empty or all-NA columns when determining the result dtypes. To retain the old behavior, exclude the relevant entries before the concat operation.\n",
      "\n",
      "C:\\Users\\quirosgu\\AppData\\Local\\Temp\\ipykernel_6524\\4072444705.py:9: FutureWarning:\n",
      "\n",
      "The behavior of DataFrame concatenation with empty or all-NA entries is deprecated. In a future version, this will no longer exclude empty or all-NA columns when determining the result dtypes. To retain the old behavior, exclude the relevant entries before the concat operation.\n",
      "\n",
      "C:\\Users\\quirosgu\\AppData\\Local\\Temp\\ipykernel_6524\\4072444705.py:9: FutureWarning:\n",
      "\n",
      "The behavior of DataFrame concatenation with empty or all-NA entries is deprecated. In a future version, this will no longer exclude empty or all-NA columns when determining the result dtypes. To retain the old behavior, exclude the relevant entries before the concat operation.\n",
      "\n",
      "C:\\Users\\quirosgu\\AppData\\Local\\Temp\\ipykernel_6524\\4072444705.py:9: FutureWarning:\n",
      "\n",
      "The behavior of DataFrame concatenation with empty or all-NA entries is deprecated. In a future version, this will no longer exclude empty or all-NA columns when determining the result dtypes. To retain the old behavior, exclude the relevant entries before the concat operation.\n",
      "\n",
      "C:\\Users\\quirosgu\\AppData\\Local\\Temp\\ipykernel_6524\\4072444705.py:9: FutureWarning:\n",
      "\n",
      "The behavior of DataFrame concatenation with empty or all-NA entries is deprecated. In a future version, this will no longer exclude empty or all-NA columns when determining the result dtypes. To retain the old behavior, exclude the relevant entries before the concat operation.\n",
      "\n",
      "C:\\Users\\quirosgu\\AppData\\Local\\Temp\\ipykernel_6524\\4072444705.py:9: FutureWarning:\n",
      "\n",
      "The behavior of DataFrame concatenation with empty or all-NA entries is deprecated. In a future version, this will no longer exclude empty or all-NA columns when determining the result dtypes. To retain the old behavior, exclude the relevant entries before the concat operation.\n",
      "\n",
      "C:\\Users\\quirosgu\\AppData\\Local\\Temp\\ipykernel_6524\\4072444705.py:9: FutureWarning:\n",
      "\n",
      "The behavior of DataFrame concatenation with empty or all-NA entries is deprecated. In a future version, this will no longer exclude empty or all-NA columns when determining the result dtypes. To retain the old behavior, exclude the relevant entries before the concat operation.\n",
      "\n",
      "C:\\Users\\quirosgu\\AppData\\Local\\Temp\\ipykernel_6524\\4072444705.py:9: FutureWarning:\n",
      "\n",
      "The behavior of DataFrame concatenation with empty or all-NA entries is deprecated. In a future version, this will no longer exclude empty or all-NA columns when determining the result dtypes. To retain the old behavior, exclude the relevant entries before the concat operation.\n",
      "\n",
      "C:\\Users\\quirosgu\\AppData\\Local\\Temp\\ipykernel_6524\\4072444705.py:9: FutureWarning:\n",
      "\n",
      "The behavior of DataFrame concatenation with empty or all-NA entries is deprecated. In a future version, this will no longer exclude empty or all-NA columns when determining the result dtypes. To retain the old behavior, exclude the relevant entries before the concat operation.\n",
      "\n",
      "C:\\Users\\quirosgu\\AppData\\Local\\Temp\\ipykernel_6524\\4072444705.py:9: FutureWarning:\n",
      "\n",
      "The behavior of DataFrame concatenation with empty or all-NA entries is deprecated. In a future version, this will no longer exclude empty or all-NA columns when determining the result dtypes. To retain the old behavior, exclude the relevant entries before the concat operation.\n",
      "\n",
      "C:\\Users\\quirosgu\\AppData\\Local\\Temp\\ipykernel_6524\\4072444705.py:9: FutureWarning:\n",
      "\n",
      "The behavior of DataFrame concatenation with empty or all-NA entries is deprecated. In a future version, this will no longer exclude empty or all-NA columns when determining the result dtypes. To retain the old behavior, exclude the relevant entries before the concat operation.\n",
      "\n",
      "C:\\Users\\quirosgu\\AppData\\Local\\Temp\\ipykernel_6524\\4072444705.py:9: FutureWarning:\n",
      "\n",
      "The behavior of DataFrame concatenation with empty or all-NA entries is deprecated. In a future version, this will no longer exclude empty or all-NA columns when determining the result dtypes. To retain the old behavior, exclude the relevant entries before the concat operation.\n",
      "\n",
      "C:\\Users\\quirosgu\\AppData\\Local\\Temp\\ipykernel_6524\\4072444705.py:9: FutureWarning:\n",
      "\n",
      "The behavior of DataFrame concatenation with empty or all-NA entries is deprecated. In a future version, this will no longer exclude empty or all-NA columns when determining the result dtypes. To retain the old behavior, exclude the relevant entries before the concat operation.\n",
      "\n",
      "C:\\Users\\quirosgu\\AppData\\Local\\Temp\\ipykernel_6524\\4072444705.py:9: FutureWarning:\n",
      "\n",
      "The behavior of DataFrame concatenation with empty or all-NA entries is deprecated. In a future version, this will no longer exclude empty or all-NA columns when determining the result dtypes. To retain the old behavior, exclude the relevant entries before the concat operation.\n",
      "\n",
      "C:\\Users\\quirosgu\\AppData\\Local\\Temp\\ipykernel_6524\\4072444705.py:9: FutureWarning:\n",
      "\n",
      "The behavior of DataFrame concatenation with empty or all-NA entries is deprecated. In a future version, this will no longer exclude empty or all-NA columns when determining the result dtypes. To retain the old behavior, exclude the relevant entries before the concat operation.\n",
      "\n",
      "C:\\Users\\quirosgu\\AppData\\Local\\Temp\\ipykernel_6524\\4072444705.py:9: FutureWarning:\n",
      "\n",
      "The behavior of DataFrame concatenation with empty or all-NA entries is deprecated. In a future version, this will no longer exclude empty or all-NA columns when determining the result dtypes. To retain the old behavior, exclude the relevant entries before the concat operation.\n",
      "\n",
      "C:\\Users\\quirosgu\\AppData\\Local\\Temp\\ipykernel_6524\\4072444705.py:9: FutureWarning:\n",
      "\n",
      "The behavior of DataFrame concatenation with empty or all-NA entries is deprecated. In a future version, this will no longer exclude empty or all-NA columns when determining the result dtypes. To retain the old behavior, exclude the relevant entries before the concat operation.\n",
      "\n",
      "C:\\Users\\quirosgu\\AppData\\Local\\Temp\\ipykernel_6524\\4072444705.py:9: FutureWarning:\n",
      "\n",
      "The behavior of DataFrame concatenation with empty or all-NA entries is deprecated. In a future version, this will no longer exclude empty or all-NA columns when determining the result dtypes. To retain the old behavior, exclude the relevant entries before the concat operation.\n",
      "\n",
      "C:\\Users\\quirosgu\\AppData\\Local\\Temp\\ipykernel_6524\\4072444705.py:9: FutureWarning:\n",
      "\n",
      "The behavior of DataFrame concatenation with empty or all-NA entries is deprecated. In a future version, this will no longer exclude empty or all-NA columns when determining the result dtypes. To retain the old behavior, exclude the relevant entries before the concat operation.\n",
      "\n",
      "C:\\Users\\quirosgu\\AppData\\Local\\Temp\\ipykernel_6524\\4072444705.py:9: FutureWarning:\n",
      "\n",
      "The behavior of DataFrame concatenation with empty or all-NA entries is deprecated. In a future version, this will no longer exclude empty or all-NA columns when determining the result dtypes. To retain the old behavior, exclude the relevant entries before the concat operation.\n",
      "\n",
      "C:\\Users\\quirosgu\\AppData\\Local\\Temp\\ipykernel_6524\\4072444705.py:9: FutureWarning:\n",
      "\n",
      "The behavior of DataFrame concatenation with empty or all-NA entries is deprecated. In a future version, this will no longer exclude empty or all-NA columns when determining the result dtypes. To retain the old behavior, exclude the relevant entries before the concat operation.\n",
      "\n",
      "C:\\Users\\quirosgu\\AppData\\Local\\Temp\\ipykernel_6524\\4072444705.py:9: FutureWarning:\n",
      "\n",
      "The behavior of DataFrame concatenation with empty or all-NA entries is deprecated. In a future version, this will no longer exclude empty or all-NA columns when determining the result dtypes. To retain the old behavior, exclude the relevant entries before the concat operation.\n",
      "\n",
      "C:\\Users\\quirosgu\\AppData\\Local\\Temp\\ipykernel_6524\\4072444705.py:9: FutureWarning:\n",
      "\n",
      "The behavior of DataFrame concatenation with empty or all-NA entries is deprecated. In a future version, this will no longer exclude empty or all-NA columns when determining the result dtypes. To retain the old behavior, exclude the relevant entries before the concat operation.\n",
      "\n",
      "C:\\Users\\quirosgu\\AppData\\Local\\Temp\\ipykernel_6524\\4072444705.py:9: FutureWarning:\n",
      "\n",
      "The behavior of DataFrame concatenation with empty or all-NA entries is deprecated. In a future version, this will no longer exclude empty or all-NA columns when determining the result dtypes. To retain the old behavior, exclude the relevant entries before the concat operation.\n",
      "\n",
      "C:\\Users\\quirosgu\\AppData\\Local\\Temp\\ipykernel_6524\\4072444705.py:9: FutureWarning:\n",
      "\n",
      "The behavior of DataFrame concatenation with empty or all-NA entries is deprecated. In a future version, this will no longer exclude empty or all-NA columns when determining the result dtypes. To retain the old behavior, exclude the relevant entries before the concat operation.\n",
      "\n",
      "C:\\Users\\quirosgu\\AppData\\Local\\Temp\\ipykernel_6524\\4072444705.py:9: FutureWarning:\n",
      "\n",
      "The behavior of DataFrame concatenation with empty or all-NA entries is deprecated. In a future version, this will no longer exclude empty or all-NA columns when determining the result dtypes. To retain the old behavior, exclude the relevant entries before the concat operation.\n",
      "\n",
      "C:\\Users\\quirosgu\\AppData\\Local\\Temp\\ipykernel_6524\\4072444705.py:9: FutureWarning:\n",
      "\n",
      "The behavior of DataFrame concatenation with empty or all-NA entries is deprecated. In a future version, this will no longer exclude empty or all-NA columns when determining the result dtypes. To retain the old behavior, exclude the relevant entries before the concat operation.\n",
      "\n",
      "C:\\Users\\quirosgu\\AppData\\Local\\Temp\\ipykernel_6524\\4072444705.py:9: FutureWarning:\n",
      "\n",
      "The behavior of DataFrame concatenation with empty or all-NA entries is deprecated. In a future version, this will no longer exclude empty or all-NA columns when determining the result dtypes. To retain the old behavior, exclude the relevant entries before the concat operation.\n",
      "\n",
      "C:\\Users\\quirosgu\\AppData\\Local\\Temp\\ipykernel_6524\\4072444705.py:9: FutureWarning:\n",
      "\n",
      "The behavior of DataFrame concatenation with empty or all-NA entries is deprecated. In a future version, this will no longer exclude empty or all-NA columns when determining the result dtypes. To retain the old behavior, exclude the relevant entries before the concat operation.\n",
      "\n",
      "C:\\Users\\quirosgu\\AppData\\Local\\Temp\\ipykernel_6524\\4072444705.py:9: FutureWarning:\n",
      "\n",
      "The behavior of DataFrame concatenation with empty or all-NA entries is deprecated. In a future version, this will no longer exclude empty or all-NA columns when determining the result dtypes. To retain the old behavior, exclude the relevant entries before the concat operation.\n",
      "\n",
      "C:\\Users\\quirosgu\\AppData\\Local\\Temp\\ipykernel_6524\\4072444705.py:9: FutureWarning:\n",
      "\n",
      "The behavior of DataFrame concatenation with empty or all-NA entries is deprecated. In a future version, this will no longer exclude empty or all-NA columns when determining the result dtypes. To retain the old behavior, exclude the relevant entries before the concat operation.\n",
      "\n",
      "C:\\Users\\quirosgu\\AppData\\Local\\Temp\\ipykernel_6524\\4072444705.py:9: FutureWarning:\n",
      "\n",
      "The behavior of DataFrame concatenation with empty or all-NA entries is deprecated. In a future version, this will no longer exclude empty or all-NA columns when determining the result dtypes. To retain the old behavior, exclude the relevant entries before the concat operation.\n",
      "\n",
      "C:\\Users\\quirosgu\\AppData\\Local\\Temp\\ipykernel_6524\\4072444705.py:9: FutureWarning:\n",
      "\n",
      "The behavior of DataFrame concatenation with empty or all-NA entries is deprecated. In a future version, this will no longer exclude empty or all-NA columns when determining the result dtypes. To retain the old behavior, exclude the relevant entries before the concat operation.\n",
      "\n",
      "C:\\Users\\quirosgu\\AppData\\Local\\Temp\\ipykernel_6524\\4072444705.py:9: FutureWarning:\n",
      "\n",
      "The behavior of DataFrame concatenation with empty or all-NA entries is deprecated. In a future version, this will no longer exclude empty or all-NA columns when determining the result dtypes. To retain the old behavior, exclude the relevant entries before the concat operation.\n",
      "\n",
      "C:\\Users\\quirosgu\\AppData\\Local\\Temp\\ipykernel_6524\\4072444705.py:9: FutureWarning:\n",
      "\n",
      "The behavior of DataFrame concatenation with empty or all-NA entries is deprecated. In a future version, this will no longer exclude empty or all-NA columns when determining the result dtypes. To retain the old behavior, exclude the relevant entries before the concat operation.\n",
      "\n",
      "C:\\Users\\quirosgu\\AppData\\Local\\Temp\\ipykernel_6524\\4072444705.py:9: FutureWarning:\n",
      "\n",
      "The behavior of DataFrame concatenation with empty or all-NA entries is deprecated. In a future version, this will no longer exclude empty or all-NA columns when determining the result dtypes. To retain the old behavior, exclude the relevant entries before the concat operation.\n",
      "\n",
      "C:\\Users\\quirosgu\\AppData\\Local\\Temp\\ipykernel_6524\\4072444705.py:9: FutureWarning:\n",
      "\n",
      "The behavior of DataFrame concatenation with empty or all-NA entries is deprecated. In a future version, this will no longer exclude empty or all-NA columns when determining the result dtypes. To retain the old behavior, exclude the relevant entries before the concat operation.\n",
      "\n",
      "C:\\Users\\quirosgu\\AppData\\Local\\Temp\\ipykernel_6524\\4072444705.py:9: FutureWarning:\n",
      "\n",
      "The behavior of DataFrame concatenation with empty or all-NA entries is deprecated. In a future version, this will no longer exclude empty or all-NA columns when determining the result dtypes. To retain the old behavior, exclude the relevant entries before the concat operation.\n",
      "\n",
      "C:\\Users\\quirosgu\\AppData\\Local\\Temp\\ipykernel_6524\\4072444705.py:9: FutureWarning:\n",
      "\n",
      "The behavior of DataFrame concatenation with empty or all-NA entries is deprecated. In a future version, this will no longer exclude empty or all-NA columns when determining the result dtypes. To retain the old behavior, exclude the relevant entries before the concat operation.\n",
      "\n",
      "C:\\Users\\quirosgu\\AppData\\Local\\Temp\\ipykernel_6524\\4072444705.py:9: FutureWarning:\n",
      "\n",
      "The behavior of DataFrame concatenation with empty or all-NA entries is deprecated. In a future version, this will no longer exclude empty or all-NA columns when determining the result dtypes. To retain the old behavior, exclude the relevant entries before the concat operation.\n",
      "\n",
      "C:\\Users\\quirosgu\\AppData\\Local\\Temp\\ipykernel_6524\\4072444705.py:9: FutureWarning:\n",
      "\n",
      "The behavior of DataFrame concatenation with empty or all-NA entries is deprecated. In a future version, this will no longer exclude empty or all-NA columns when determining the result dtypes. To retain the old behavior, exclude the relevant entries before the concat operation.\n",
      "\n",
      "C:\\Users\\quirosgu\\AppData\\Local\\Temp\\ipykernel_6524\\4072444705.py:9: FutureWarning:\n",
      "\n",
      "The behavior of DataFrame concatenation with empty or all-NA entries is deprecated. In a future version, this will no longer exclude empty or all-NA columns when determining the result dtypes. To retain the old behavior, exclude the relevant entries before the concat operation.\n",
      "\n",
      "C:\\Users\\quirosgu\\AppData\\Local\\Temp\\ipykernel_6524\\4072444705.py:9: FutureWarning:\n",
      "\n",
      "The behavior of DataFrame concatenation with empty or all-NA entries is deprecated. In a future version, this will no longer exclude empty or all-NA columns when determining the result dtypes. To retain the old behavior, exclude the relevant entries before the concat operation.\n",
      "\n",
      "C:\\Users\\quirosgu\\AppData\\Local\\Temp\\ipykernel_6524\\4072444705.py:9: FutureWarning:\n",
      "\n",
      "The behavior of DataFrame concatenation with empty or all-NA entries is deprecated. In a future version, this will no longer exclude empty or all-NA columns when determining the result dtypes. To retain the old behavior, exclude the relevant entries before the concat operation.\n",
      "\n",
      "C:\\Users\\quirosgu\\AppData\\Local\\Temp\\ipykernel_6524\\4072444705.py:9: FutureWarning:\n",
      "\n",
      "The behavior of DataFrame concatenation with empty or all-NA entries is deprecated. In a future version, this will no longer exclude empty or all-NA columns when determining the result dtypes. To retain the old behavior, exclude the relevant entries before the concat operation.\n",
      "\n",
      "C:\\Users\\quirosgu\\AppData\\Local\\Temp\\ipykernel_6524\\4072444705.py:9: FutureWarning:\n",
      "\n",
      "The behavior of DataFrame concatenation with empty or all-NA entries is deprecated. In a future version, this will no longer exclude empty or all-NA columns when determining the result dtypes. To retain the old behavior, exclude the relevant entries before the concat operation.\n",
      "\n",
      "C:\\Users\\quirosgu\\AppData\\Local\\Temp\\ipykernel_6524\\4072444705.py:9: FutureWarning:\n",
      "\n",
      "The behavior of DataFrame concatenation with empty or all-NA entries is deprecated. In a future version, this will no longer exclude empty or all-NA columns when determining the result dtypes. To retain the old behavior, exclude the relevant entries before the concat operation.\n",
      "\n",
      "C:\\Users\\quirosgu\\AppData\\Local\\Temp\\ipykernel_6524\\4072444705.py:9: FutureWarning:\n",
      "\n",
      "The behavior of DataFrame concatenation with empty or all-NA entries is deprecated. In a future version, this will no longer exclude empty or all-NA columns when determining the result dtypes. To retain the old behavior, exclude the relevant entries before the concat operation.\n",
      "\n",
      "C:\\Users\\quirosgu\\AppData\\Local\\Temp\\ipykernel_6524\\4072444705.py:9: FutureWarning:\n",
      "\n",
      "The behavior of DataFrame concatenation with empty or all-NA entries is deprecated. In a future version, this will no longer exclude empty or all-NA columns when determining the result dtypes. To retain the old behavior, exclude the relevant entries before the concat operation.\n",
      "\n",
      "C:\\Users\\quirosgu\\AppData\\Local\\Temp\\ipykernel_6524\\4072444705.py:9: FutureWarning:\n",
      "\n",
      "The behavior of DataFrame concatenation with empty or all-NA entries is deprecated. In a future version, this will no longer exclude empty or all-NA columns when determining the result dtypes. To retain the old behavior, exclude the relevant entries before the concat operation.\n",
      "\n",
      "C:\\Users\\quirosgu\\AppData\\Local\\Temp\\ipykernel_6524\\4072444705.py:9: FutureWarning:\n",
      "\n",
      "The behavior of DataFrame concatenation with empty or all-NA entries is deprecated. In a future version, this will no longer exclude empty or all-NA columns when determining the result dtypes. To retain the old behavior, exclude the relevant entries before the concat operation.\n",
      "\n",
      "C:\\Users\\quirosgu\\AppData\\Local\\Temp\\ipykernel_6524\\4072444705.py:9: FutureWarning:\n",
      "\n",
      "The behavior of DataFrame concatenation with empty or all-NA entries is deprecated. In a future version, this will no longer exclude empty or all-NA columns when determining the result dtypes. To retain the old behavior, exclude the relevant entries before the concat operation.\n",
      "\n",
      "C:\\Users\\quirosgu\\AppData\\Local\\Temp\\ipykernel_6524\\4072444705.py:9: FutureWarning:\n",
      "\n",
      "The behavior of DataFrame concatenation with empty or all-NA entries is deprecated. In a future version, this will no longer exclude empty or all-NA columns when determining the result dtypes. To retain the old behavior, exclude the relevant entries before the concat operation.\n",
      "\n",
      "C:\\Users\\quirosgu\\AppData\\Local\\Temp\\ipykernel_6524\\4072444705.py:9: FutureWarning:\n",
      "\n",
      "The behavior of DataFrame concatenation with empty or all-NA entries is deprecated. In a future version, this will no longer exclude empty or all-NA columns when determining the result dtypes. To retain the old behavior, exclude the relevant entries before the concat operation.\n",
      "\n",
      "C:\\Users\\quirosgu\\AppData\\Local\\Temp\\ipykernel_6524\\4072444705.py:9: FutureWarning:\n",
      "\n",
      "The behavior of DataFrame concatenation with empty or all-NA entries is deprecated. In a future version, this will no longer exclude empty or all-NA columns when determining the result dtypes. To retain the old behavior, exclude the relevant entries before the concat operation.\n",
      "\n",
      "C:\\Users\\quirosgu\\AppData\\Local\\Temp\\ipykernel_6524\\4072444705.py:9: FutureWarning:\n",
      "\n",
      "The behavior of DataFrame concatenation with empty or all-NA entries is deprecated. In a future version, this will no longer exclude empty or all-NA columns when determining the result dtypes. To retain the old behavior, exclude the relevant entries before the concat operation.\n",
      "\n",
      "C:\\Users\\quirosgu\\AppData\\Local\\Temp\\ipykernel_6524\\4072444705.py:9: FutureWarning:\n",
      "\n",
      "The behavior of DataFrame concatenation with empty or all-NA entries is deprecated. In a future version, this will no longer exclude empty or all-NA columns when determining the result dtypes. To retain the old behavior, exclude the relevant entries before the concat operation.\n",
      "\n",
      "C:\\Users\\quirosgu\\AppData\\Local\\Temp\\ipykernel_6524\\4072444705.py:9: FutureWarning:\n",
      "\n",
      "The behavior of DataFrame concatenation with empty or all-NA entries is deprecated. In a future version, this will no longer exclude empty or all-NA columns when determining the result dtypes. To retain the old behavior, exclude the relevant entries before the concat operation.\n",
      "\n",
      "C:\\Users\\quirosgu\\AppData\\Local\\Temp\\ipykernel_6524\\4072444705.py:9: FutureWarning:\n",
      "\n",
      "The behavior of DataFrame concatenation with empty or all-NA entries is deprecated. In a future version, this will no longer exclude empty or all-NA columns when determining the result dtypes. To retain the old behavior, exclude the relevant entries before the concat operation.\n",
      "\n",
      "C:\\Users\\quirosgu\\AppData\\Local\\Temp\\ipykernel_6524\\4072444705.py:9: FutureWarning:\n",
      "\n",
      "The behavior of DataFrame concatenation with empty or all-NA entries is deprecated. In a future version, this will no longer exclude empty or all-NA columns when determining the result dtypes. To retain the old behavior, exclude the relevant entries before the concat operation.\n",
      "\n",
      "C:\\Users\\quirosgu\\AppData\\Local\\Temp\\ipykernel_6524\\4072444705.py:9: FutureWarning:\n",
      "\n",
      "The behavior of DataFrame concatenation with empty or all-NA entries is deprecated. In a future version, this will no longer exclude empty or all-NA columns when determining the result dtypes. To retain the old behavior, exclude the relevant entries before the concat operation.\n",
      "\n",
      "C:\\Users\\quirosgu\\AppData\\Local\\Temp\\ipykernel_6524\\4072444705.py:9: FutureWarning:\n",
      "\n",
      "The behavior of DataFrame concatenation with empty or all-NA entries is deprecated. In a future version, this will no longer exclude empty or all-NA columns when determining the result dtypes. To retain the old behavior, exclude the relevant entries before the concat operation.\n",
      "\n",
      "C:\\Users\\quirosgu\\AppData\\Local\\Temp\\ipykernel_6524\\4072444705.py:9: FutureWarning:\n",
      "\n",
      "The behavior of DataFrame concatenation with empty or all-NA entries is deprecated. In a future version, this will no longer exclude empty or all-NA columns when determining the result dtypes. To retain the old behavior, exclude the relevant entries before the concat operation.\n",
      "\n",
      "C:\\Users\\quirosgu\\AppData\\Local\\Temp\\ipykernel_6524\\4072444705.py:9: FutureWarning:\n",
      "\n",
      "The behavior of DataFrame concatenation with empty or all-NA entries is deprecated. In a future version, this will no longer exclude empty or all-NA columns when determining the result dtypes. To retain the old behavior, exclude the relevant entries before the concat operation.\n",
      "\n",
      "C:\\Users\\quirosgu\\AppData\\Local\\Temp\\ipykernel_6524\\4072444705.py:9: FutureWarning:\n",
      "\n",
      "The behavior of DataFrame concatenation with empty or all-NA entries is deprecated. In a future version, this will no longer exclude empty or all-NA columns when determining the result dtypes. To retain the old behavior, exclude the relevant entries before the concat operation.\n",
      "\n",
      "C:\\Users\\quirosgu\\AppData\\Local\\Temp\\ipykernel_6524\\4072444705.py:9: FutureWarning:\n",
      "\n",
      "The behavior of DataFrame concatenation with empty or all-NA entries is deprecated. In a future version, this will no longer exclude empty or all-NA columns when determining the result dtypes. To retain the old behavior, exclude the relevant entries before the concat operation.\n",
      "\n",
      "C:\\Users\\quirosgu\\AppData\\Local\\Temp\\ipykernel_6524\\4072444705.py:9: FutureWarning:\n",
      "\n",
      "The behavior of DataFrame concatenation with empty or all-NA entries is deprecated. In a future version, this will no longer exclude empty or all-NA columns when determining the result dtypes. To retain the old behavior, exclude the relevant entries before the concat operation.\n",
      "\n",
      "C:\\Users\\quirosgu\\AppData\\Local\\Temp\\ipykernel_6524\\4072444705.py:9: FutureWarning:\n",
      "\n",
      "The behavior of DataFrame concatenation with empty or all-NA entries is deprecated. In a future version, this will no longer exclude empty or all-NA columns when determining the result dtypes. To retain the old behavior, exclude the relevant entries before the concat operation.\n",
      "\n",
      "C:\\Users\\quirosgu\\AppData\\Local\\Temp\\ipykernel_6524\\4072444705.py:9: FutureWarning:\n",
      "\n",
      "The behavior of DataFrame concatenation with empty or all-NA entries is deprecated. In a future version, this will no longer exclude empty or all-NA columns when determining the result dtypes. To retain the old behavior, exclude the relevant entries before the concat operation.\n",
      "\n",
      "C:\\Users\\quirosgu\\AppData\\Local\\Temp\\ipykernel_6524\\4072444705.py:9: FutureWarning:\n",
      "\n",
      "The behavior of DataFrame concatenation with empty or all-NA entries is deprecated. In a future version, this will no longer exclude empty or all-NA columns when determining the result dtypes. To retain the old behavior, exclude the relevant entries before the concat operation.\n",
      "\n",
      "C:\\Users\\quirosgu\\AppData\\Local\\Temp\\ipykernel_6524\\4072444705.py:9: FutureWarning:\n",
      "\n",
      "The behavior of DataFrame concatenation with empty or all-NA entries is deprecated. In a future version, this will no longer exclude empty or all-NA columns when determining the result dtypes. To retain the old behavior, exclude the relevant entries before the concat operation.\n",
      "\n",
      "C:\\Users\\quirosgu\\AppData\\Local\\Temp\\ipykernel_6524\\4072444705.py:9: FutureWarning:\n",
      "\n",
      "The behavior of DataFrame concatenation with empty or all-NA entries is deprecated. In a future version, this will no longer exclude empty or all-NA columns when determining the result dtypes. To retain the old behavior, exclude the relevant entries before the concat operation.\n",
      "\n",
      "C:\\Users\\quirosgu\\AppData\\Local\\Temp\\ipykernel_6524\\4072444705.py:9: FutureWarning:\n",
      "\n",
      "The behavior of DataFrame concatenation with empty or all-NA entries is deprecated. In a future version, this will no longer exclude empty or all-NA columns when determining the result dtypes. To retain the old behavior, exclude the relevant entries before the concat operation.\n",
      "\n",
      "C:\\Users\\quirosgu\\AppData\\Local\\Temp\\ipykernel_6524\\4072444705.py:9: FutureWarning:\n",
      "\n",
      "The behavior of DataFrame concatenation with empty or all-NA entries is deprecated. In a future version, this will no longer exclude empty or all-NA columns when determining the result dtypes. To retain the old behavior, exclude the relevant entries before the concat operation.\n",
      "\n",
      "C:\\Users\\quirosgu\\AppData\\Local\\Temp\\ipykernel_6524\\4072444705.py:31: FutureWarning:\n",
      "\n",
      "The default of observed=False is deprecated and will be changed to True in a future version of pandas. Pass observed=False to retain current behavior or observed=True to adopt the future default and silence this warning.\n",
      "\n"
     ]
    },
    {
     "data": {
      "application/vnd.plotly.v1+json": {
       "config": {
        "plotlyServerURL": "https://plot.ly"
       },
       "data": [
        {
         "alignmentgroup": "True",
         "hovertemplate": "Pathway=Alkaloids<br>Recurrence=%{x}<br>species=%{y}<extra></extra>",
         "legendgroup": "Alkaloids",
         "marker": {
          "color": "#305F72",
          "pattern": {
           "shape": ""
          }
         },
         "name": "Alkaloids",
         "offsetgroup": "Alkaloids",
         "orientation": "h",
         "showlegend": true,
         "textposition": "auto",
         "type": "bar",
         "x": [
          1,
          2,
          1
         ],
         "xaxis": "x",
         "y": [
          "Swertia angustifolia",
          "Swertia ciliata",
          "Swertia marginata"
         ],
         "yaxis": "y"
        },
        {
         "alignmentgroup": "True",
         "hovertemplate": "Pathway=Carbohydrates<br>Recurrence=%{x}<br>species=%{y}<extra></extra>",
         "legendgroup": "Carbohydrates",
         "marker": {
          "color": "#65451F",
          "pattern": {
           "shape": ""
          }
         },
         "name": "Carbohydrates",
         "offsetgroup": "Carbohydrates",
         "orientation": "h",
         "showlegend": true,
         "textposition": "auto",
         "type": "bar",
         "x": [
          1,
          2,
          1
         ],
         "xaxis": "x",
         "y": [
          "Swertia obtusa",
          "Swertia pubescens",
          "Swertia punicea"
         ],
         "yaxis": "y"
        },
        {
         "alignmentgroup": "True",
         "hovertemplate": "Pathway=Fatty acids<br>Recurrence=%{x}<br>species=%{y}<extra></extra>",
         "legendgroup": "Fatty acids",
         "marker": {
          "color": "#FF6C22",
          "pattern": {
           "shape": ""
          }
         },
         "name": "Fatty acids",
         "offsetgroup": "Fatty acids",
         "orientation": "h",
         "showlegend": true,
         "textposition": "auto",
         "type": "bar",
         "x": [
          5
         ],
         "xaxis": "x",
         "y": [
          "Swertia japonica"
         ],
         "yaxis": "y"
        },
        {
         "alignmentgroup": "True",
         "hovertemplate": "Pathway=Polyketides<br>Recurrence=%{x}<br>species=%{y}<extra></extra>",
         "legendgroup": "Polyketides",
         "marker": {
          "color": "#EF4B4B",
          "pattern": {
           "shape": ""
          }
         },
         "name": "Polyketides",
         "offsetgroup": "Polyketides",
         "orientation": "h",
         "showlegend": true,
         "textposition": "auto",
         "type": "bar",
         "x": [
          1,
          4,
          10,
          4,
          1,
          1,
          3,
          6,
          1,
          1,
          4,
          5,
          14,
          2,
          2,
          2,
          2,
          2,
          1,
          2,
          5,
          5,
          1,
          3,
          4,
          1,
          1
         ],
         "xaxis": "x",
         "y": [
          "Swertia bimaculata",
          "Swertia calycina",
          "Swertia chirayita",
          "Swertia ciliata",
          "Swertia corymbosa",
          "Swertia davidii",
          "Swertia decora",
          "Swertia densifolia",
          "Swertia dilatata",
          "Swertia erythrosticta",
          "Swertia hookeri",
          "Swertia iberica",
          "Swertia japonica",
          "Swertia lawii",
          "Swertia leducii",
          "Swertia macrosperma",
          "Swertia nervosa",
          "Swertia obtusa",
          "Swertia paniculata",
          "Swertia perennis",
          "Swertia pseudochinensis",
          "Swertia punicea",
          "Swertia racemosa",
          "Swertia souliei",
          "Swertia swertopsis",
          "Swertia teres",
          "Swertia thomsonii"
         ],
         "yaxis": "y"
        },
        {
         "alignmentgroup": "True",
         "hovertemplate": "Pathway=Shikimates and Phenylpropanoids<br>Recurrence=%{x}<br>species=%{y}<extra></extra>",
         "legendgroup": "Shikimates and Phenylpropanoids",
         "marker": {
          "color": "#80558C",
          "pattern": {
           "shape": ""
          }
         },
         "name": "Shikimates and Phenylpropanoids",
         "offsetgroup": "Shikimates and Phenylpropanoids",
         "orientation": "h",
         "showlegend": true,
         "textposition": "auto",
         "type": "bar",
         "x": [
          2,
          1,
          8,
          15,
          8,
          1,
          1,
          2,
          1,
          2,
          2,
          1,
          1,
          2,
          6,
          1,
          39,
          13,
          8,
          2,
          3,
          1,
          2,
          4,
          9,
          6,
          8,
          2,
          18,
          2,
          4,
          2,
          1
         ],
         "xaxis": "x",
         "y": [
          "Swertia angustifolia",
          "Swertia bimaculata",
          "Swertia calycina",
          "Swertia chirayita",
          "Swertia ciliata",
          "Swertia cincta",
          "Swertia cordata",
          "Swertia corymbosa",
          "Swertia cuneata",
          "Swertia decora",
          "Swertia delavayi",
          "Swertia dilatata",
          "Swertia fasciculata",
          "Swertia franchetiana",
          "Swertia hookeri",
          "Swertia iberica",
          "Swertia japonica",
          "Swertia kouitchensis",
          "Swertia leducii",
          "Swertia macrosperma",
          "Swertia mussotii",
          "Swertia nervosa",
          "Swertia obtusa",
          "Swertia paniculata",
          "Swertia perennis",
          "Swertia petiolata",
          "Swertia pseudochinensis",
          "Swertia pubescens",
          "Swertia punicea",
          "Swertia souliei",
          "Swertia swertopsis",
          "Swertia tetrapetala",
          "Swertia tosaensis"
         ],
         "yaxis": "y"
        },
        {
         "alignmentgroup": "True",
         "hovertemplate": "Pathway=Terpenoids<br>Recurrence=%{x}<br>species=%{y}<extra></extra>",
         "legendgroup": "Terpenoids",
         "marker": {
          "color": "#618264",
          "pattern": {
           "shape": ""
          }
         },
         "name": "Terpenoids",
         "offsetgroup": "Terpenoids",
         "orientation": "h",
         "showlegend": true,
         "textposition": "auto",
         "type": "bar",
         "x": [
          1,
          7,
          3,
          4,
          2,
          36,
          6,
          1,
          9,
          2,
          2,
          1,
          13,
          81,
          37,
          3,
          1,
          1,
          2,
          2,
          5,
          1,
          5,
          3,
          7,
          9,
          1,
          1,
          2
         ],
         "xaxis": "x",
         "y": [
          "Swertia alata",
          "Swertia angustifolia",
          "Swertia arisanensis",
          "Swertia calycina",
          "Swertia chinensis",
          "Swertia chirayita",
          "Swertia ciliata",
          "Swertia cincta",
          "Swertia corymbosa",
          "Swertia decora",
          "Swertia delavayi",
          "Swertia fasciculata",
          "Swertia franchetiana",
          "Swertia japonica",
          "Swertia leducii",
          "Swertia macrosperma",
          "Swertia mussotii",
          "Swertia nervosa",
          "Swertia obtusa",
          "Swertia paniculata",
          "Swertia petiolata",
          "Swertia przewalskii",
          "Swertia pseudochinensis",
          "Swertia pubescens",
          "Swertia punicea",
          "Swertia souliei",
          "Swertia tetrapetala",
          "Swertia thomsonii",
          "Swertia verticillifolia"
         ],
         "yaxis": "y"
        }
       ],
       "layout": {
        "barmode": "relative",
        "height": 1500,
        "legend": {
         "title": {
          "text": "Pathway"
         },
         "tracegroupgap": 0
        },
        "plot_bgcolor": "white",
        "template": {
         "data": {
          "bar": [
           {
            "error_x": {
             "color": "#2a3f5f"
            },
            "error_y": {
             "color": "#2a3f5f"
            },
            "marker": {
             "line": {
              "color": "#E5ECF6",
              "width": 0.5
             },
             "pattern": {
              "fillmode": "overlay",
              "size": 10,
              "solidity": 0.2
             }
            },
            "type": "bar"
           }
          ],
          "barpolar": [
           {
            "marker": {
             "line": {
              "color": "#E5ECF6",
              "width": 0.5
             },
             "pattern": {
              "fillmode": "overlay",
              "size": 10,
              "solidity": 0.2
             }
            },
            "type": "barpolar"
           }
          ],
          "carpet": [
           {
            "aaxis": {
             "endlinecolor": "#2a3f5f",
             "gridcolor": "white",
             "linecolor": "white",
             "minorgridcolor": "white",
             "startlinecolor": "#2a3f5f"
            },
            "baxis": {
             "endlinecolor": "#2a3f5f",
             "gridcolor": "white",
             "linecolor": "white",
             "minorgridcolor": "white",
             "startlinecolor": "#2a3f5f"
            },
            "type": "carpet"
           }
          ],
          "choropleth": [
           {
            "colorbar": {
             "outlinewidth": 0,
             "ticks": ""
            },
            "type": "choropleth"
           }
          ],
          "contour": [
           {
            "colorbar": {
             "outlinewidth": 0,
             "ticks": ""
            },
            "colorscale": [
             [
              0,
              "#0d0887"
             ],
             [
              0.1111111111111111,
              "#46039f"
             ],
             [
              0.2222222222222222,
              "#7201a8"
             ],
             [
              0.3333333333333333,
              "#9c179e"
             ],
             [
              0.4444444444444444,
              "#bd3786"
             ],
             [
              0.5555555555555556,
              "#d8576b"
             ],
             [
              0.6666666666666666,
              "#ed7953"
             ],
             [
              0.7777777777777778,
              "#fb9f3a"
             ],
             [
              0.8888888888888888,
              "#fdca26"
             ],
             [
              1,
              "#f0f921"
             ]
            ],
            "type": "contour"
           }
          ],
          "contourcarpet": [
           {
            "colorbar": {
             "outlinewidth": 0,
             "ticks": ""
            },
            "type": "contourcarpet"
           }
          ],
          "heatmap": [
           {
            "colorbar": {
             "outlinewidth": 0,
             "ticks": ""
            },
            "colorscale": [
             [
              0,
              "#0d0887"
             ],
             [
              0.1111111111111111,
              "#46039f"
             ],
             [
              0.2222222222222222,
              "#7201a8"
             ],
             [
              0.3333333333333333,
              "#9c179e"
             ],
             [
              0.4444444444444444,
              "#bd3786"
             ],
             [
              0.5555555555555556,
              "#d8576b"
             ],
             [
              0.6666666666666666,
              "#ed7953"
             ],
             [
              0.7777777777777778,
              "#fb9f3a"
             ],
             [
              0.8888888888888888,
              "#fdca26"
             ],
             [
              1,
              "#f0f921"
             ]
            ],
            "type": "heatmap"
           }
          ],
          "heatmapgl": [
           {
            "colorbar": {
             "outlinewidth": 0,
             "ticks": ""
            },
            "colorscale": [
             [
              0,
              "#0d0887"
             ],
             [
              0.1111111111111111,
              "#46039f"
             ],
             [
              0.2222222222222222,
              "#7201a8"
             ],
             [
              0.3333333333333333,
              "#9c179e"
             ],
             [
              0.4444444444444444,
              "#bd3786"
             ],
             [
              0.5555555555555556,
              "#d8576b"
             ],
             [
              0.6666666666666666,
              "#ed7953"
             ],
             [
              0.7777777777777778,
              "#fb9f3a"
             ],
             [
              0.8888888888888888,
              "#fdca26"
             ],
             [
              1,
              "#f0f921"
             ]
            ],
            "type": "heatmapgl"
           }
          ],
          "histogram": [
           {
            "marker": {
             "pattern": {
              "fillmode": "overlay",
              "size": 10,
              "solidity": 0.2
             }
            },
            "type": "histogram"
           }
          ],
          "histogram2d": [
           {
            "colorbar": {
             "outlinewidth": 0,
             "ticks": ""
            },
            "colorscale": [
             [
              0,
              "#0d0887"
             ],
             [
              0.1111111111111111,
              "#46039f"
             ],
             [
              0.2222222222222222,
              "#7201a8"
             ],
             [
              0.3333333333333333,
              "#9c179e"
             ],
             [
              0.4444444444444444,
              "#bd3786"
             ],
             [
              0.5555555555555556,
              "#d8576b"
             ],
             [
              0.6666666666666666,
              "#ed7953"
             ],
             [
              0.7777777777777778,
              "#fb9f3a"
             ],
             [
              0.8888888888888888,
              "#fdca26"
             ],
             [
              1,
              "#f0f921"
             ]
            ],
            "type": "histogram2d"
           }
          ],
          "histogram2dcontour": [
           {
            "colorbar": {
             "outlinewidth": 0,
             "ticks": ""
            },
            "colorscale": [
             [
              0,
              "#0d0887"
             ],
             [
              0.1111111111111111,
              "#46039f"
             ],
             [
              0.2222222222222222,
              "#7201a8"
             ],
             [
              0.3333333333333333,
              "#9c179e"
             ],
             [
              0.4444444444444444,
              "#bd3786"
             ],
             [
              0.5555555555555556,
              "#d8576b"
             ],
             [
              0.6666666666666666,
              "#ed7953"
             ],
             [
              0.7777777777777778,
              "#fb9f3a"
             ],
             [
              0.8888888888888888,
              "#fdca26"
             ],
             [
              1,
              "#f0f921"
             ]
            ],
            "type": "histogram2dcontour"
           }
          ],
          "mesh3d": [
           {
            "colorbar": {
             "outlinewidth": 0,
             "ticks": ""
            },
            "type": "mesh3d"
           }
          ],
          "parcoords": [
           {
            "line": {
             "colorbar": {
              "outlinewidth": 0,
              "ticks": ""
             }
            },
            "type": "parcoords"
           }
          ],
          "pie": [
           {
            "automargin": true,
            "type": "pie"
           }
          ],
          "scatter": [
           {
            "fillpattern": {
             "fillmode": "overlay",
             "size": 10,
             "solidity": 0.2
            },
            "type": "scatter"
           }
          ],
          "scatter3d": [
           {
            "line": {
             "colorbar": {
              "outlinewidth": 0,
              "ticks": ""
             }
            },
            "marker": {
             "colorbar": {
              "outlinewidth": 0,
              "ticks": ""
             }
            },
            "type": "scatter3d"
           }
          ],
          "scattercarpet": [
           {
            "marker": {
             "colorbar": {
              "outlinewidth": 0,
              "ticks": ""
             }
            },
            "type": "scattercarpet"
           }
          ],
          "scattergeo": [
           {
            "marker": {
             "colorbar": {
              "outlinewidth": 0,
              "ticks": ""
             }
            },
            "type": "scattergeo"
           }
          ],
          "scattergl": [
           {
            "marker": {
             "colorbar": {
              "outlinewidth": 0,
              "ticks": ""
             }
            },
            "type": "scattergl"
           }
          ],
          "scattermapbox": [
           {
            "marker": {
             "colorbar": {
              "outlinewidth": 0,
              "ticks": ""
             }
            },
            "type": "scattermapbox"
           }
          ],
          "scatterpolar": [
           {
            "marker": {
             "colorbar": {
              "outlinewidth": 0,
              "ticks": ""
             }
            },
            "type": "scatterpolar"
           }
          ],
          "scatterpolargl": [
           {
            "marker": {
             "colorbar": {
              "outlinewidth": 0,
              "ticks": ""
             }
            },
            "type": "scatterpolargl"
           }
          ],
          "scatterternary": [
           {
            "marker": {
             "colorbar": {
              "outlinewidth": 0,
              "ticks": ""
             }
            },
            "type": "scatterternary"
           }
          ],
          "surface": [
           {
            "colorbar": {
             "outlinewidth": 0,
             "ticks": ""
            },
            "colorscale": [
             [
              0,
              "#0d0887"
             ],
             [
              0.1111111111111111,
              "#46039f"
             ],
             [
              0.2222222222222222,
              "#7201a8"
             ],
             [
              0.3333333333333333,
              "#9c179e"
             ],
             [
              0.4444444444444444,
              "#bd3786"
             ],
             [
              0.5555555555555556,
              "#d8576b"
             ],
             [
              0.6666666666666666,
              "#ed7953"
             ],
             [
              0.7777777777777778,
              "#fb9f3a"
             ],
             [
              0.8888888888888888,
              "#fdca26"
             ],
             [
              1,
              "#f0f921"
             ]
            ],
            "type": "surface"
           }
          ],
          "table": [
           {
            "cells": {
             "fill": {
              "color": "#EBF0F8"
             },
             "line": {
              "color": "white"
             }
            },
            "header": {
             "fill": {
              "color": "#C8D4E3"
             },
             "line": {
              "color": "white"
             }
            },
            "type": "table"
           }
          ]
         },
         "layout": {
          "annotationdefaults": {
           "arrowcolor": "#2a3f5f",
           "arrowhead": 0,
           "arrowwidth": 1
          },
          "autotypenumbers": "strict",
          "coloraxis": {
           "colorbar": {
            "outlinewidth": 0,
            "ticks": ""
           }
          },
          "colorscale": {
           "diverging": [
            [
             0,
             "#8e0152"
            ],
            [
             0.1,
             "#c51b7d"
            ],
            [
             0.2,
             "#de77ae"
            ],
            [
             0.3,
             "#f1b6da"
            ],
            [
             0.4,
             "#fde0ef"
            ],
            [
             0.5,
             "#f7f7f7"
            ],
            [
             0.6,
             "#e6f5d0"
            ],
            [
             0.7,
             "#b8e186"
            ],
            [
             0.8,
             "#7fbc41"
            ],
            [
             0.9,
             "#4d9221"
            ],
            [
             1,
             "#276419"
            ]
           ],
           "sequential": [
            [
             0,
             "#0d0887"
            ],
            [
             0.1111111111111111,
             "#46039f"
            ],
            [
             0.2222222222222222,
             "#7201a8"
            ],
            [
             0.3333333333333333,
             "#9c179e"
            ],
            [
             0.4444444444444444,
             "#bd3786"
            ],
            [
             0.5555555555555556,
             "#d8576b"
            ],
            [
             0.6666666666666666,
             "#ed7953"
            ],
            [
             0.7777777777777778,
             "#fb9f3a"
            ],
            [
             0.8888888888888888,
             "#fdca26"
            ],
            [
             1,
             "#f0f921"
            ]
           ],
           "sequentialminus": [
            [
             0,
             "#0d0887"
            ],
            [
             0.1111111111111111,
             "#46039f"
            ],
            [
             0.2222222222222222,
             "#7201a8"
            ],
            [
             0.3333333333333333,
             "#9c179e"
            ],
            [
             0.4444444444444444,
             "#bd3786"
            ],
            [
             0.5555555555555556,
             "#d8576b"
            ],
            [
             0.6666666666666666,
             "#ed7953"
            ],
            [
             0.7777777777777778,
             "#fb9f3a"
            ],
            [
             0.8888888888888888,
             "#fdca26"
            ],
            [
             1,
             "#f0f921"
            ]
           ]
          },
          "colorway": [
           "#636efa",
           "#EF553B",
           "#00cc96",
           "#ab63fa",
           "#FFA15A",
           "#19d3f3",
           "#FF6692",
           "#B6E880",
           "#FF97FF",
           "#FECB52"
          ],
          "font": {
           "color": "#2a3f5f"
          },
          "geo": {
           "bgcolor": "white",
           "lakecolor": "white",
           "landcolor": "#E5ECF6",
           "showlakes": true,
           "showland": true,
           "subunitcolor": "white"
          },
          "hoverlabel": {
           "align": "left"
          },
          "hovermode": "closest",
          "mapbox": {
           "style": "light"
          },
          "paper_bgcolor": "white",
          "plot_bgcolor": "#E5ECF6",
          "polar": {
           "angularaxis": {
            "gridcolor": "white",
            "linecolor": "white",
            "ticks": ""
           },
           "bgcolor": "#E5ECF6",
           "radialaxis": {
            "gridcolor": "white",
            "linecolor": "white",
            "ticks": ""
           }
          },
          "scene": {
           "xaxis": {
            "backgroundcolor": "#E5ECF6",
            "gridcolor": "white",
            "gridwidth": 2,
            "linecolor": "white",
            "showbackground": true,
            "ticks": "",
            "zerolinecolor": "white"
           },
           "yaxis": {
            "backgroundcolor": "#E5ECF6",
            "gridcolor": "white",
            "gridwidth": 2,
            "linecolor": "white",
            "showbackground": true,
            "ticks": "",
            "zerolinecolor": "white"
           },
           "zaxis": {
            "backgroundcolor": "#E5ECF6",
            "gridcolor": "white",
            "gridwidth": 2,
            "linecolor": "white",
            "showbackground": true,
            "ticks": "",
            "zerolinecolor": "white"
           }
          },
          "shapedefaults": {
           "line": {
            "color": "#2a3f5f"
           }
          },
          "ternary": {
           "aaxis": {
            "gridcolor": "white",
            "linecolor": "white",
            "ticks": ""
           },
           "baxis": {
            "gridcolor": "white",
            "linecolor": "white",
            "ticks": ""
           },
           "bgcolor": "#E5ECF6",
           "caxis": {
            "gridcolor": "white",
            "linecolor": "white",
            "ticks": ""
           }
          },
          "title": {
           "x": 0.05
          },
          "xaxis": {
           "automargin": true,
           "gridcolor": "white",
           "linecolor": "white",
           "ticks": "",
           "title": {
            "standoff": 15
           },
           "zerolinecolor": "white",
           "zerolinewidth": 2
          },
          "yaxis": {
           "automargin": true,
           "gridcolor": "white",
           "linecolor": "white",
           "ticks": "",
           "title": {
            "standoff": 15
           },
           "zerolinecolor": "white",
           "zerolinewidth": 2
          }
         }
        },
        "title": {
         "text": "Stacked Barplot of Predicted Pathways Ocurrence for Species"
        },
        "width": 1500,
        "xaxis": {
         "anchor": "y",
         "domain": [
          0,
          1
         ],
         "title": {
          "text": "Recurrence"
         }
        },
        "yaxis": {
         "anchor": "x",
         "categoryarray": [
          "Swertia verticillifolia",
          "Swertia tosaensis",
          "Swertia thomsonii",
          "Swertia tetrapetala",
          "Swertia teres",
          "Swertia swertopsis",
          "Swertia souliei",
          "Swertia racemosa",
          "Swertia punicea",
          "Swertia pubescens",
          "Swertia pseudochinensis",
          "Swertia przewalskii",
          "Swertia petiolata",
          "Swertia perennis",
          "Swertia paniculata",
          "Swertia obtusa",
          "Swertia nervosa",
          "Swertia mussotii",
          "Swertia marginata",
          "Swertia macrosperma",
          "Swertia leducii",
          "Swertia lawii",
          "Swertia kouitchensis",
          "Swertia japonica",
          "Swertia iberica",
          "Swertia hookeri",
          "Swertia franchetiana",
          "Swertia fasciculata",
          "Swertia erythrosticta",
          "Swertia dilatata",
          "Swertia densifolia",
          "Swertia delavayi",
          "Swertia decora",
          "Swertia davidii",
          "Swertia cuneata",
          "Swertia corymbosa",
          "Swertia cordata",
          "Swertia cincta",
          "Swertia ciliata",
          "Swertia chirayita",
          "Swertia chinensis",
          "Swertia calycina",
          "Swertia bimaculata",
          "Swertia arisanensis",
          "Swertia angustifolia",
          "Swertia alata"
         ],
         "categoryorder": "array",
         "domain": [
          0,
          1
         ],
         "tickmode": "array",
         "ticktext": [
          "<i>Swertia alata</i>",
          "<i>Swertia angustifolia</i>",
          "<i>Swertia arisanensis</i>",
          "<i>Swertia bimaculata</i>",
          "<i>Swertia calycina</i>",
          "<i>Swertia chinensis</i>",
          "<i>Swertia chirayita</i>",
          "<i>Swertia ciliata</i>",
          "<i>Swertia cincta</i>",
          "<i>Swertia cordata</i>",
          "<i>Swertia corymbosa</i>",
          "<i>Swertia cuneata</i>",
          "<i>Swertia davidii</i>",
          "<i>Swertia decora</i>",
          "<i>Swertia delavayi</i>",
          "<i>Swertia densifolia</i>",
          "<i>Swertia dilatata</i>",
          "<i>Swertia erythrosticta</i>",
          "<i>Swertia fasciculata</i>",
          "<i>Swertia franchetiana</i>",
          "<i>Swertia hookeri</i>",
          "<i>Swertia iberica</i>",
          "<i>Swertia japonica</i>",
          "<i>Swertia kouitchensis</i>",
          "<i>Swertia lawii</i>",
          "<i>Swertia leducii</i>",
          "<i>Swertia macrosperma</i>",
          "<i>Swertia marginata</i>",
          "<i>Swertia mussotii</i>",
          "<i>Swertia nervosa</i>",
          "<i>Swertia obtusa</i>",
          "<i>Swertia paniculata</i>",
          "<i>Swertia perennis</i>",
          "<i>Swertia petiolata</i>",
          "<i>Swertia przewalskii</i>",
          "<i>Swertia pseudochinensis</i>",
          "<i>Swertia pubescens</i>",
          "<i>Swertia punicea</i>",
          "<i>Swertia racemosa</i>",
          "<i>Swertia souliei</i>",
          "<i>Swertia swertopsis</i>",
          "<i>Swertia teres</i>",
          "<i>Swertia tetrapetala</i>",
          "<i>Swertia thomsonii</i>",
          "<i>Swertia tosaensis</i>",
          "<i>Swertia verticillifolia</i>"
         ],
         "tickvals": [
          0,
          1,
          2,
          3,
          4,
          5,
          6,
          7,
          8,
          9,
          10,
          11,
          12,
          13,
          14,
          15,
          16,
          17,
          18,
          19,
          20,
          21,
          22,
          23,
          24,
          25,
          26,
          27,
          28,
          29,
          30,
          31,
          32,
          33,
          34,
          35,
          36,
          37,
          38,
          39,
          40,
          41,
          42,
          43,
          44,
          45
         ],
         "title": {
          "text": "<i>Species<i>"
         }
        }
       }
      }
     },
     "metadata": {},
     "output_type": "display_data"
    }
   ],
   "source": [
    "\n",
    "# Step 1: Initialize an empty DataFrame to store all data\n",
    "all_data = pd.DataFrame(columns=['organism_taxonomy_09species', 'structure_taxonomy_npclassifier_01pathway'])\n",
    "\n",
    "# Step 2: Read data from all .tsv files in the output_folder\n",
    "species_data_folder = os.path.join(output_folder, 'species_data')\n",
    "for filename in os.listdir(species_data_folder):\n",
    "    if filename.endswith(\".tsv\"):\n",
    "        file_data = pd.read_csv(os.path.join(species_data_folder, filename), sep='\\t')\n",
    "        all_data = pd.concat([all_data, file_data])\n",
    "\n",
    "# Step 3: Rename the \"queried_taxaLabel\" column to \"species\"\n",
    "all_data.rename(columns={'organism_taxonomy_09species': 'species'}, inplace=True)\n",
    "all_data.rename(columns={'structure_taxonomy_npclassifier_01pathway': 'Pathway'}, inplace=True)\n",
    "\n",
    "# Remove 'API Error-API Error' and 'Not Classified-Not Classified'\n",
    "all_data = all_data[(all_data['Pathway'] != 'API Error') & (all_data['Pathway'] != 'Not Classified')]\n",
    "\n",
    "# Step 4: Group and aggregate data to calculate recurrence\n",
    "agg_data = all_data.groupby(['species', 'Pathway']).size().reset_index(name='recurrence')\n",
    "\n",
    "# Convert 'species' column to categorical data\n",
    "agg_data['species'] = pd.Categorical(agg_data['species'], categories=agg_data['species'].unique(), ordered=True)\n",
    "\n",
    "# Get unique species names\n",
    "unique_species = agg_data['species'].unique()\n",
    "\n",
    "# Get unique pathways and sort them alphabetically\n",
    "unique_pathways = sorted(agg_data['Pathway'].unique())\n",
    "\n",
    "# Calculate total recurrence for each species\n",
    "total_recurrence_per_species = agg_data.groupby('species')['recurrence'].sum()\n",
    "\n",
    "\n",
    "# Step 5: Create the stacked barplot with custom colors\n",
    "fig = px.bar(agg_data, y='species', x='recurrence',\n",
    "             title='Stacked Barplot of Predicted Pathways Ocurrence for Species',\n",
    "             labels={'recurrence': 'Recurrence'},\n",
    "             color='Pathway',\n",
    "             color_discrete_map=pathway_colors,  # Use custom colors\n",
    "             category_orders={'species': unique_species, 'Pathway' :unique_pathways },\n",
    "             orientation='h'\n",
    "            )\n",
    "\n",
    "# Modify the y-axis label\n",
    "fig.update_yaxes(title_text='<i>Species<i>')\n",
    "\n",
    "# Set species labels in italics\n",
    "fig.update_layout(yaxis=dict(tickmode='array', \n",
    "                              tickvals=list(range(len(unique_species))), \n",
    "                              ticktext=[f'<i>{species}</i>' for species in unique_species]\n",
    "                              ))\n",
    "\n",
    "# Set a white background\n",
    "fig.update_layout(plot_bgcolor='white')\n",
    "\n",
    "# Modify the size of the figure\n",
    "fig.update_layout(width=1500, height=1500)\n",
    "\n",
    "# Save the figure as an HTML file\n",
    "fig.write_html(f'{output_folder}Wikidata_pathway_barplot_species.html')\n",
    "\n",
    "# Show or save the figure\n",
    "fig.show()\n"
   ]
  },
  {
   "cell_type": "code",
   "execution_count": 20,
   "metadata": {},
   "outputs": [
    {
     "name": "stderr",
     "output_type": "stream",
     "text": [
      "C:\\Users\\quirosgu\\AppData\\Local\\Temp\\ipykernel_6524\\2300309733.py:9: FutureWarning:\n",
      "\n",
      "The behavior of DataFrame concatenation with empty or all-NA entries is deprecated. In a future version, this will no longer exclude empty or all-NA columns when determining the result dtypes. To retain the old behavior, exclude the relevant entries before the concat operation.\n",
      "\n",
      "C:\\Users\\quirosgu\\AppData\\Local\\Temp\\ipykernel_6524\\2300309733.py:9: FutureWarning:\n",
      "\n",
      "The behavior of DataFrame concatenation with empty or all-NA entries is deprecated. In a future version, this will no longer exclude empty or all-NA columns when determining the result dtypes. To retain the old behavior, exclude the relevant entries before the concat operation.\n",
      "\n",
      "C:\\Users\\quirosgu\\AppData\\Local\\Temp\\ipykernel_6524\\2300309733.py:9: FutureWarning:\n",
      "\n",
      "The behavior of DataFrame concatenation with empty or all-NA entries is deprecated. In a future version, this will no longer exclude empty or all-NA columns when determining the result dtypes. To retain the old behavior, exclude the relevant entries before the concat operation.\n",
      "\n",
      "C:\\Users\\quirosgu\\AppData\\Local\\Temp\\ipykernel_6524\\2300309733.py:9: FutureWarning:\n",
      "\n",
      "The behavior of DataFrame concatenation with empty or all-NA entries is deprecated. In a future version, this will no longer exclude empty or all-NA columns when determining the result dtypes. To retain the old behavior, exclude the relevant entries before the concat operation.\n",
      "\n",
      "C:\\Users\\quirosgu\\AppData\\Local\\Temp\\ipykernel_6524\\2300309733.py:9: FutureWarning:\n",
      "\n",
      "The behavior of DataFrame concatenation with empty or all-NA entries is deprecated. In a future version, this will no longer exclude empty or all-NA columns when determining the result dtypes. To retain the old behavior, exclude the relevant entries before the concat operation.\n",
      "\n",
      "C:\\Users\\quirosgu\\AppData\\Local\\Temp\\ipykernel_6524\\2300309733.py:9: FutureWarning:\n",
      "\n",
      "The behavior of DataFrame concatenation with empty or all-NA entries is deprecated. In a future version, this will no longer exclude empty or all-NA columns when determining the result dtypes. To retain the old behavior, exclude the relevant entries before the concat operation.\n",
      "\n",
      "C:\\Users\\quirosgu\\AppData\\Local\\Temp\\ipykernel_6524\\2300309733.py:9: FutureWarning:\n",
      "\n",
      "The behavior of DataFrame concatenation with empty or all-NA entries is deprecated. In a future version, this will no longer exclude empty or all-NA columns when determining the result dtypes. To retain the old behavior, exclude the relevant entries before the concat operation.\n",
      "\n",
      "C:\\Users\\quirosgu\\AppData\\Local\\Temp\\ipykernel_6524\\2300309733.py:9: FutureWarning:\n",
      "\n",
      "The behavior of DataFrame concatenation with empty or all-NA entries is deprecated. In a future version, this will no longer exclude empty or all-NA columns when determining the result dtypes. To retain the old behavior, exclude the relevant entries before the concat operation.\n",
      "\n",
      "C:\\Users\\quirosgu\\AppData\\Local\\Temp\\ipykernel_6524\\2300309733.py:9: FutureWarning:\n",
      "\n",
      "The behavior of DataFrame concatenation with empty or all-NA entries is deprecated. In a future version, this will no longer exclude empty or all-NA columns when determining the result dtypes. To retain the old behavior, exclude the relevant entries before the concat operation.\n",
      "\n",
      "C:\\Users\\quirosgu\\AppData\\Local\\Temp\\ipykernel_6524\\2300309733.py:9: FutureWarning:\n",
      "\n",
      "The behavior of DataFrame concatenation with empty or all-NA entries is deprecated. In a future version, this will no longer exclude empty or all-NA columns when determining the result dtypes. To retain the old behavior, exclude the relevant entries before the concat operation.\n",
      "\n",
      "C:\\Users\\quirosgu\\AppData\\Local\\Temp\\ipykernel_6524\\2300309733.py:9: FutureWarning:\n",
      "\n",
      "The behavior of DataFrame concatenation with empty or all-NA entries is deprecated. In a future version, this will no longer exclude empty or all-NA columns when determining the result dtypes. To retain the old behavior, exclude the relevant entries before the concat operation.\n",
      "\n",
      "C:\\Users\\quirosgu\\AppData\\Local\\Temp\\ipykernel_6524\\2300309733.py:9: FutureWarning:\n",
      "\n",
      "The behavior of DataFrame concatenation with empty or all-NA entries is deprecated. In a future version, this will no longer exclude empty or all-NA columns when determining the result dtypes. To retain the old behavior, exclude the relevant entries before the concat operation.\n",
      "\n",
      "C:\\Users\\quirosgu\\AppData\\Local\\Temp\\ipykernel_6524\\2300309733.py:9: FutureWarning:\n",
      "\n",
      "The behavior of DataFrame concatenation with empty or all-NA entries is deprecated. In a future version, this will no longer exclude empty or all-NA columns when determining the result dtypes. To retain the old behavior, exclude the relevant entries before the concat operation.\n",
      "\n",
      "C:\\Users\\quirosgu\\AppData\\Local\\Temp\\ipykernel_6524\\2300309733.py:9: FutureWarning:\n",
      "\n",
      "The behavior of DataFrame concatenation with empty or all-NA entries is deprecated. In a future version, this will no longer exclude empty or all-NA columns when determining the result dtypes. To retain the old behavior, exclude the relevant entries before the concat operation.\n",
      "\n",
      "C:\\Users\\quirosgu\\AppData\\Local\\Temp\\ipykernel_6524\\2300309733.py:9: FutureWarning:\n",
      "\n",
      "The behavior of DataFrame concatenation with empty or all-NA entries is deprecated. In a future version, this will no longer exclude empty or all-NA columns when determining the result dtypes. To retain the old behavior, exclude the relevant entries before the concat operation.\n",
      "\n",
      "C:\\Users\\quirosgu\\AppData\\Local\\Temp\\ipykernel_6524\\2300309733.py:9: FutureWarning:\n",
      "\n",
      "The behavior of DataFrame concatenation with empty or all-NA entries is deprecated. In a future version, this will no longer exclude empty or all-NA columns when determining the result dtypes. To retain the old behavior, exclude the relevant entries before the concat operation.\n",
      "\n",
      "C:\\Users\\quirosgu\\AppData\\Local\\Temp\\ipykernel_6524\\2300309733.py:9: FutureWarning:\n",
      "\n",
      "The behavior of DataFrame concatenation with empty or all-NA entries is deprecated. In a future version, this will no longer exclude empty or all-NA columns when determining the result dtypes. To retain the old behavior, exclude the relevant entries before the concat operation.\n",
      "\n",
      "C:\\Users\\quirosgu\\AppData\\Local\\Temp\\ipykernel_6524\\2300309733.py:9: FutureWarning:\n",
      "\n",
      "The behavior of DataFrame concatenation with empty or all-NA entries is deprecated. In a future version, this will no longer exclude empty or all-NA columns when determining the result dtypes. To retain the old behavior, exclude the relevant entries before the concat operation.\n",
      "\n",
      "C:\\Users\\quirosgu\\AppData\\Local\\Temp\\ipykernel_6524\\2300309733.py:9: FutureWarning:\n",
      "\n",
      "The behavior of DataFrame concatenation with empty or all-NA entries is deprecated. In a future version, this will no longer exclude empty or all-NA columns when determining the result dtypes. To retain the old behavior, exclude the relevant entries before the concat operation.\n",
      "\n",
      "C:\\Users\\quirosgu\\AppData\\Local\\Temp\\ipykernel_6524\\2300309733.py:9: FutureWarning:\n",
      "\n",
      "The behavior of DataFrame concatenation with empty or all-NA entries is deprecated. In a future version, this will no longer exclude empty or all-NA columns when determining the result dtypes. To retain the old behavior, exclude the relevant entries before the concat operation.\n",
      "\n",
      "C:\\Users\\quirosgu\\AppData\\Local\\Temp\\ipykernel_6524\\2300309733.py:9: FutureWarning:\n",
      "\n",
      "The behavior of DataFrame concatenation with empty or all-NA entries is deprecated. In a future version, this will no longer exclude empty or all-NA columns when determining the result dtypes. To retain the old behavior, exclude the relevant entries before the concat operation.\n",
      "\n",
      "C:\\Users\\quirosgu\\AppData\\Local\\Temp\\ipykernel_6524\\2300309733.py:9: FutureWarning:\n",
      "\n",
      "The behavior of DataFrame concatenation with empty or all-NA entries is deprecated. In a future version, this will no longer exclude empty or all-NA columns when determining the result dtypes. To retain the old behavior, exclude the relevant entries before the concat operation.\n",
      "\n",
      "C:\\Users\\quirosgu\\AppData\\Local\\Temp\\ipykernel_6524\\2300309733.py:9: FutureWarning:\n",
      "\n",
      "The behavior of DataFrame concatenation with empty or all-NA entries is deprecated. In a future version, this will no longer exclude empty or all-NA columns when determining the result dtypes. To retain the old behavior, exclude the relevant entries before the concat operation.\n",
      "\n",
      "C:\\Users\\quirosgu\\AppData\\Local\\Temp\\ipykernel_6524\\2300309733.py:9: FutureWarning:\n",
      "\n",
      "The behavior of DataFrame concatenation with empty or all-NA entries is deprecated. In a future version, this will no longer exclude empty or all-NA columns when determining the result dtypes. To retain the old behavior, exclude the relevant entries before the concat operation.\n",
      "\n",
      "C:\\Users\\quirosgu\\AppData\\Local\\Temp\\ipykernel_6524\\2300309733.py:9: FutureWarning:\n",
      "\n",
      "The behavior of DataFrame concatenation with empty or all-NA entries is deprecated. In a future version, this will no longer exclude empty or all-NA columns when determining the result dtypes. To retain the old behavior, exclude the relevant entries before the concat operation.\n",
      "\n",
      "C:\\Users\\quirosgu\\AppData\\Local\\Temp\\ipykernel_6524\\2300309733.py:9: FutureWarning:\n",
      "\n",
      "The behavior of DataFrame concatenation with empty or all-NA entries is deprecated. In a future version, this will no longer exclude empty or all-NA columns when determining the result dtypes. To retain the old behavior, exclude the relevant entries before the concat operation.\n",
      "\n",
      "C:\\Users\\quirosgu\\AppData\\Local\\Temp\\ipykernel_6524\\2300309733.py:9: FutureWarning:\n",
      "\n",
      "The behavior of DataFrame concatenation with empty or all-NA entries is deprecated. In a future version, this will no longer exclude empty or all-NA columns when determining the result dtypes. To retain the old behavior, exclude the relevant entries before the concat operation.\n",
      "\n",
      "C:\\Users\\quirosgu\\AppData\\Local\\Temp\\ipykernel_6524\\2300309733.py:9: FutureWarning:\n",
      "\n",
      "The behavior of DataFrame concatenation with empty or all-NA entries is deprecated. In a future version, this will no longer exclude empty or all-NA columns when determining the result dtypes. To retain the old behavior, exclude the relevant entries before the concat operation.\n",
      "\n",
      "C:\\Users\\quirosgu\\AppData\\Local\\Temp\\ipykernel_6524\\2300309733.py:9: FutureWarning:\n",
      "\n",
      "The behavior of DataFrame concatenation with empty or all-NA entries is deprecated. In a future version, this will no longer exclude empty or all-NA columns when determining the result dtypes. To retain the old behavior, exclude the relevant entries before the concat operation.\n",
      "\n",
      "C:\\Users\\quirosgu\\AppData\\Local\\Temp\\ipykernel_6524\\2300309733.py:9: FutureWarning:\n",
      "\n",
      "The behavior of DataFrame concatenation with empty or all-NA entries is deprecated. In a future version, this will no longer exclude empty or all-NA columns when determining the result dtypes. To retain the old behavior, exclude the relevant entries before the concat operation.\n",
      "\n",
      "C:\\Users\\quirosgu\\AppData\\Local\\Temp\\ipykernel_6524\\2300309733.py:9: FutureWarning:\n",
      "\n",
      "The behavior of DataFrame concatenation with empty or all-NA entries is deprecated. In a future version, this will no longer exclude empty or all-NA columns when determining the result dtypes. To retain the old behavior, exclude the relevant entries before the concat operation.\n",
      "\n",
      "C:\\Users\\quirosgu\\AppData\\Local\\Temp\\ipykernel_6524\\2300309733.py:9: FutureWarning:\n",
      "\n",
      "The behavior of DataFrame concatenation with empty or all-NA entries is deprecated. In a future version, this will no longer exclude empty or all-NA columns when determining the result dtypes. To retain the old behavior, exclude the relevant entries before the concat operation.\n",
      "\n",
      "C:\\Users\\quirosgu\\AppData\\Local\\Temp\\ipykernel_6524\\2300309733.py:9: FutureWarning:\n",
      "\n",
      "The behavior of DataFrame concatenation with empty or all-NA entries is deprecated. In a future version, this will no longer exclude empty or all-NA columns when determining the result dtypes. To retain the old behavior, exclude the relevant entries before the concat operation.\n",
      "\n",
      "C:\\Users\\quirosgu\\AppData\\Local\\Temp\\ipykernel_6524\\2300309733.py:9: FutureWarning:\n",
      "\n",
      "The behavior of DataFrame concatenation with empty or all-NA entries is deprecated. In a future version, this will no longer exclude empty or all-NA columns when determining the result dtypes. To retain the old behavior, exclude the relevant entries before the concat operation.\n",
      "\n",
      "C:\\Users\\quirosgu\\AppData\\Local\\Temp\\ipykernel_6524\\2300309733.py:9: FutureWarning:\n",
      "\n",
      "The behavior of DataFrame concatenation with empty or all-NA entries is deprecated. In a future version, this will no longer exclude empty or all-NA columns when determining the result dtypes. To retain the old behavior, exclude the relevant entries before the concat operation.\n",
      "\n",
      "C:\\Users\\quirosgu\\AppData\\Local\\Temp\\ipykernel_6524\\2300309733.py:9: FutureWarning:\n",
      "\n",
      "The behavior of DataFrame concatenation with empty or all-NA entries is deprecated. In a future version, this will no longer exclude empty or all-NA columns when determining the result dtypes. To retain the old behavior, exclude the relevant entries before the concat operation.\n",
      "\n",
      "C:\\Users\\quirosgu\\AppData\\Local\\Temp\\ipykernel_6524\\2300309733.py:9: FutureWarning:\n",
      "\n",
      "The behavior of DataFrame concatenation with empty or all-NA entries is deprecated. In a future version, this will no longer exclude empty or all-NA columns when determining the result dtypes. To retain the old behavior, exclude the relevant entries before the concat operation.\n",
      "\n",
      "C:\\Users\\quirosgu\\AppData\\Local\\Temp\\ipykernel_6524\\2300309733.py:9: FutureWarning:\n",
      "\n",
      "The behavior of DataFrame concatenation with empty or all-NA entries is deprecated. In a future version, this will no longer exclude empty or all-NA columns when determining the result dtypes. To retain the old behavior, exclude the relevant entries before the concat operation.\n",
      "\n",
      "C:\\Users\\quirosgu\\AppData\\Local\\Temp\\ipykernel_6524\\2300309733.py:9: FutureWarning:\n",
      "\n",
      "The behavior of DataFrame concatenation with empty or all-NA entries is deprecated. In a future version, this will no longer exclude empty or all-NA columns when determining the result dtypes. To retain the old behavior, exclude the relevant entries before the concat operation.\n",
      "\n",
      "C:\\Users\\quirosgu\\AppData\\Local\\Temp\\ipykernel_6524\\2300309733.py:9: FutureWarning:\n",
      "\n",
      "The behavior of DataFrame concatenation with empty or all-NA entries is deprecated. In a future version, this will no longer exclude empty or all-NA columns when determining the result dtypes. To retain the old behavior, exclude the relevant entries before the concat operation.\n",
      "\n",
      "C:\\Users\\quirosgu\\AppData\\Local\\Temp\\ipykernel_6524\\2300309733.py:9: FutureWarning:\n",
      "\n",
      "The behavior of DataFrame concatenation with empty or all-NA entries is deprecated. In a future version, this will no longer exclude empty or all-NA columns when determining the result dtypes. To retain the old behavior, exclude the relevant entries before the concat operation.\n",
      "\n",
      "C:\\Users\\quirosgu\\AppData\\Local\\Temp\\ipykernel_6524\\2300309733.py:9: FutureWarning:\n",
      "\n",
      "The behavior of DataFrame concatenation with empty or all-NA entries is deprecated. In a future version, this will no longer exclude empty or all-NA columns when determining the result dtypes. To retain the old behavior, exclude the relevant entries before the concat operation.\n",
      "\n",
      "C:\\Users\\quirosgu\\AppData\\Local\\Temp\\ipykernel_6524\\2300309733.py:9: FutureWarning:\n",
      "\n",
      "The behavior of DataFrame concatenation with empty or all-NA entries is deprecated. In a future version, this will no longer exclude empty or all-NA columns when determining the result dtypes. To retain the old behavior, exclude the relevant entries before the concat operation.\n",
      "\n",
      "C:\\Users\\quirosgu\\AppData\\Local\\Temp\\ipykernel_6524\\2300309733.py:9: FutureWarning:\n",
      "\n",
      "The behavior of DataFrame concatenation with empty or all-NA entries is deprecated. In a future version, this will no longer exclude empty or all-NA columns when determining the result dtypes. To retain the old behavior, exclude the relevant entries before the concat operation.\n",
      "\n",
      "C:\\Users\\quirosgu\\AppData\\Local\\Temp\\ipykernel_6524\\2300309733.py:9: FutureWarning:\n",
      "\n",
      "The behavior of DataFrame concatenation with empty or all-NA entries is deprecated. In a future version, this will no longer exclude empty or all-NA columns when determining the result dtypes. To retain the old behavior, exclude the relevant entries before the concat operation.\n",
      "\n",
      "C:\\Users\\quirosgu\\AppData\\Local\\Temp\\ipykernel_6524\\2300309733.py:9: FutureWarning:\n",
      "\n",
      "The behavior of DataFrame concatenation with empty or all-NA entries is deprecated. In a future version, this will no longer exclude empty or all-NA columns when determining the result dtypes. To retain the old behavior, exclude the relevant entries before the concat operation.\n",
      "\n",
      "C:\\Users\\quirosgu\\AppData\\Local\\Temp\\ipykernel_6524\\2300309733.py:9: FutureWarning:\n",
      "\n",
      "The behavior of DataFrame concatenation with empty or all-NA entries is deprecated. In a future version, this will no longer exclude empty or all-NA columns when determining the result dtypes. To retain the old behavior, exclude the relevant entries before the concat operation.\n",
      "\n",
      "C:\\Users\\quirosgu\\AppData\\Local\\Temp\\ipykernel_6524\\2300309733.py:9: FutureWarning:\n",
      "\n",
      "The behavior of DataFrame concatenation with empty or all-NA entries is deprecated. In a future version, this will no longer exclude empty or all-NA columns when determining the result dtypes. To retain the old behavior, exclude the relevant entries before the concat operation.\n",
      "\n",
      "C:\\Users\\quirosgu\\AppData\\Local\\Temp\\ipykernel_6524\\2300309733.py:9: FutureWarning:\n",
      "\n",
      "The behavior of DataFrame concatenation with empty or all-NA entries is deprecated. In a future version, this will no longer exclude empty or all-NA columns when determining the result dtypes. To retain the old behavior, exclude the relevant entries before the concat operation.\n",
      "\n",
      "C:\\Users\\quirosgu\\AppData\\Local\\Temp\\ipykernel_6524\\2300309733.py:9: FutureWarning:\n",
      "\n",
      "The behavior of DataFrame concatenation with empty or all-NA entries is deprecated. In a future version, this will no longer exclude empty or all-NA columns when determining the result dtypes. To retain the old behavior, exclude the relevant entries before the concat operation.\n",
      "\n",
      "C:\\Users\\quirosgu\\AppData\\Local\\Temp\\ipykernel_6524\\2300309733.py:9: FutureWarning:\n",
      "\n",
      "The behavior of DataFrame concatenation with empty or all-NA entries is deprecated. In a future version, this will no longer exclude empty or all-NA columns when determining the result dtypes. To retain the old behavior, exclude the relevant entries before the concat operation.\n",
      "\n",
      "C:\\Users\\quirosgu\\AppData\\Local\\Temp\\ipykernel_6524\\2300309733.py:9: FutureWarning:\n",
      "\n",
      "The behavior of DataFrame concatenation with empty or all-NA entries is deprecated. In a future version, this will no longer exclude empty or all-NA columns when determining the result dtypes. To retain the old behavior, exclude the relevant entries before the concat operation.\n",
      "\n",
      "C:\\Users\\quirosgu\\AppData\\Local\\Temp\\ipykernel_6524\\2300309733.py:9: FutureWarning:\n",
      "\n",
      "The behavior of DataFrame concatenation with empty or all-NA entries is deprecated. In a future version, this will no longer exclude empty or all-NA columns when determining the result dtypes. To retain the old behavior, exclude the relevant entries before the concat operation.\n",
      "\n",
      "C:\\Users\\quirosgu\\AppData\\Local\\Temp\\ipykernel_6524\\2300309733.py:9: FutureWarning:\n",
      "\n",
      "The behavior of DataFrame concatenation with empty or all-NA entries is deprecated. In a future version, this will no longer exclude empty or all-NA columns when determining the result dtypes. To retain the old behavior, exclude the relevant entries before the concat operation.\n",
      "\n",
      "C:\\Users\\quirosgu\\AppData\\Local\\Temp\\ipykernel_6524\\2300309733.py:9: FutureWarning:\n",
      "\n",
      "The behavior of DataFrame concatenation with empty or all-NA entries is deprecated. In a future version, this will no longer exclude empty or all-NA columns when determining the result dtypes. To retain the old behavior, exclude the relevant entries before the concat operation.\n",
      "\n",
      "C:\\Users\\quirosgu\\AppData\\Local\\Temp\\ipykernel_6524\\2300309733.py:9: FutureWarning:\n",
      "\n",
      "The behavior of DataFrame concatenation with empty or all-NA entries is deprecated. In a future version, this will no longer exclude empty or all-NA columns when determining the result dtypes. To retain the old behavior, exclude the relevant entries before the concat operation.\n",
      "\n",
      "C:\\Users\\quirosgu\\AppData\\Local\\Temp\\ipykernel_6524\\2300309733.py:9: FutureWarning:\n",
      "\n",
      "The behavior of DataFrame concatenation with empty or all-NA entries is deprecated. In a future version, this will no longer exclude empty or all-NA columns when determining the result dtypes. To retain the old behavior, exclude the relevant entries before the concat operation.\n",
      "\n",
      "C:\\Users\\quirosgu\\AppData\\Local\\Temp\\ipykernel_6524\\2300309733.py:9: FutureWarning:\n",
      "\n",
      "The behavior of DataFrame concatenation with empty or all-NA entries is deprecated. In a future version, this will no longer exclude empty or all-NA columns when determining the result dtypes. To retain the old behavior, exclude the relevant entries before the concat operation.\n",
      "\n",
      "C:\\Users\\quirosgu\\AppData\\Local\\Temp\\ipykernel_6524\\2300309733.py:9: FutureWarning:\n",
      "\n",
      "The behavior of DataFrame concatenation with empty or all-NA entries is deprecated. In a future version, this will no longer exclude empty or all-NA columns when determining the result dtypes. To retain the old behavior, exclude the relevant entries before the concat operation.\n",
      "\n",
      "C:\\Users\\quirosgu\\AppData\\Local\\Temp\\ipykernel_6524\\2300309733.py:9: FutureWarning:\n",
      "\n",
      "The behavior of DataFrame concatenation with empty or all-NA entries is deprecated. In a future version, this will no longer exclude empty or all-NA columns when determining the result dtypes. To retain the old behavior, exclude the relevant entries before the concat operation.\n",
      "\n",
      "C:\\Users\\quirosgu\\AppData\\Local\\Temp\\ipykernel_6524\\2300309733.py:9: FutureWarning:\n",
      "\n",
      "The behavior of DataFrame concatenation with empty or all-NA entries is deprecated. In a future version, this will no longer exclude empty or all-NA columns when determining the result dtypes. To retain the old behavior, exclude the relevant entries before the concat operation.\n",
      "\n",
      "C:\\Users\\quirosgu\\AppData\\Local\\Temp\\ipykernel_6524\\2300309733.py:9: FutureWarning:\n",
      "\n",
      "The behavior of DataFrame concatenation with empty or all-NA entries is deprecated. In a future version, this will no longer exclude empty or all-NA columns when determining the result dtypes. To retain the old behavior, exclude the relevant entries before the concat operation.\n",
      "\n",
      "C:\\Users\\quirosgu\\AppData\\Local\\Temp\\ipykernel_6524\\2300309733.py:9: FutureWarning:\n",
      "\n",
      "The behavior of DataFrame concatenation with empty or all-NA entries is deprecated. In a future version, this will no longer exclude empty or all-NA columns when determining the result dtypes. To retain the old behavior, exclude the relevant entries before the concat operation.\n",
      "\n",
      "C:\\Users\\quirosgu\\AppData\\Local\\Temp\\ipykernel_6524\\2300309733.py:9: FutureWarning:\n",
      "\n",
      "The behavior of DataFrame concatenation with empty or all-NA entries is deprecated. In a future version, this will no longer exclude empty or all-NA columns when determining the result dtypes. To retain the old behavior, exclude the relevant entries before the concat operation.\n",
      "\n",
      "C:\\Users\\quirosgu\\AppData\\Local\\Temp\\ipykernel_6524\\2300309733.py:9: FutureWarning:\n",
      "\n",
      "The behavior of DataFrame concatenation with empty or all-NA entries is deprecated. In a future version, this will no longer exclude empty or all-NA columns when determining the result dtypes. To retain the old behavior, exclude the relevant entries before the concat operation.\n",
      "\n",
      "C:\\Users\\quirosgu\\AppData\\Local\\Temp\\ipykernel_6524\\2300309733.py:9: FutureWarning:\n",
      "\n",
      "The behavior of DataFrame concatenation with empty or all-NA entries is deprecated. In a future version, this will no longer exclude empty or all-NA columns when determining the result dtypes. To retain the old behavior, exclude the relevant entries before the concat operation.\n",
      "\n",
      "C:\\Users\\quirosgu\\AppData\\Local\\Temp\\ipykernel_6524\\2300309733.py:9: FutureWarning:\n",
      "\n",
      "The behavior of DataFrame concatenation with empty or all-NA entries is deprecated. In a future version, this will no longer exclude empty or all-NA columns when determining the result dtypes. To retain the old behavior, exclude the relevant entries before the concat operation.\n",
      "\n",
      "C:\\Users\\quirosgu\\AppData\\Local\\Temp\\ipykernel_6524\\2300309733.py:9: FutureWarning:\n",
      "\n",
      "The behavior of DataFrame concatenation with empty or all-NA entries is deprecated. In a future version, this will no longer exclude empty or all-NA columns when determining the result dtypes. To retain the old behavior, exclude the relevant entries before the concat operation.\n",
      "\n",
      "C:\\Users\\quirosgu\\AppData\\Local\\Temp\\ipykernel_6524\\2300309733.py:9: FutureWarning:\n",
      "\n",
      "The behavior of DataFrame concatenation with empty or all-NA entries is deprecated. In a future version, this will no longer exclude empty or all-NA columns when determining the result dtypes. To retain the old behavior, exclude the relevant entries before the concat operation.\n",
      "\n",
      "C:\\Users\\quirosgu\\AppData\\Local\\Temp\\ipykernel_6524\\2300309733.py:9: FutureWarning:\n",
      "\n",
      "The behavior of DataFrame concatenation with empty or all-NA entries is deprecated. In a future version, this will no longer exclude empty or all-NA columns when determining the result dtypes. To retain the old behavior, exclude the relevant entries before the concat operation.\n",
      "\n",
      "C:\\Users\\quirosgu\\AppData\\Local\\Temp\\ipykernel_6524\\2300309733.py:9: FutureWarning:\n",
      "\n",
      "The behavior of DataFrame concatenation with empty or all-NA entries is deprecated. In a future version, this will no longer exclude empty or all-NA columns when determining the result dtypes. To retain the old behavior, exclude the relevant entries before the concat operation.\n",
      "\n",
      "C:\\Users\\quirosgu\\AppData\\Local\\Temp\\ipykernel_6524\\2300309733.py:9: FutureWarning:\n",
      "\n",
      "The behavior of DataFrame concatenation with empty or all-NA entries is deprecated. In a future version, this will no longer exclude empty or all-NA columns when determining the result dtypes. To retain the old behavior, exclude the relevant entries before the concat operation.\n",
      "\n",
      "C:\\Users\\quirosgu\\AppData\\Local\\Temp\\ipykernel_6524\\2300309733.py:9: FutureWarning:\n",
      "\n",
      "The behavior of DataFrame concatenation with empty or all-NA entries is deprecated. In a future version, this will no longer exclude empty or all-NA columns when determining the result dtypes. To retain the old behavior, exclude the relevant entries before the concat operation.\n",
      "\n",
      "C:\\Users\\quirosgu\\AppData\\Local\\Temp\\ipykernel_6524\\2300309733.py:9: FutureWarning:\n",
      "\n",
      "The behavior of DataFrame concatenation with empty or all-NA entries is deprecated. In a future version, this will no longer exclude empty or all-NA columns when determining the result dtypes. To retain the old behavior, exclude the relevant entries before the concat operation.\n",
      "\n",
      "C:\\Users\\quirosgu\\AppData\\Local\\Temp\\ipykernel_6524\\2300309733.py:9: FutureWarning:\n",
      "\n",
      "The behavior of DataFrame concatenation with empty or all-NA entries is deprecated. In a future version, this will no longer exclude empty or all-NA columns when determining the result dtypes. To retain the old behavior, exclude the relevant entries before the concat operation.\n",
      "\n",
      "C:\\Users\\quirosgu\\AppData\\Local\\Temp\\ipykernel_6524\\2300309733.py:9: FutureWarning:\n",
      "\n",
      "The behavior of DataFrame concatenation with empty or all-NA entries is deprecated. In a future version, this will no longer exclude empty or all-NA columns when determining the result dtypes. To retain the old behavior, exclude the relevant entries before the concat operation.\n",
      "\n",
      "C:\\Users\\quirosgu\\AppData\\Local\\Temp\\ipykernel_6524\\2300309733.py:9: FutureWarning:\n",
      "\n",
      "The behavior of DataFrame concatenation with empty or all-NA entries is deprecated. In a future version, this will no longer exclude empty or all-NA columns when determining the result dtypes. To retain the old behavior, exclude the relevant entries before the concat operation.\n",
      "\n",
      "C:\\Users\\quirosgu\\AppData\\Local\\Temp\\ipykernel_6524\\2300309733.py:9: FutureWarning:\n",
      "\n",
      "The behavior of DataFrame concatenation with empty or all-NA entries is deprecated. In a future version, this will no longer exclude empty or all-NA columns when determining the result dtypes. To retain the old behavior, exclude the relevant entries before the concat operation.\n",
      "\n",
      "C:\\Users\\quirosgu\\AppData\\Local\\Temp\\ipykernel_6524\\2300309733.py:9: FutureWarning:\n",
      "\n",
      "The behavior of DataFrame concatenation with empty or all-NA entries is deprecated. In a future version, this will no longer exclude empty or all-NA columns when determining the result dtypes. To retain the old behavior, exclude the relevant entries before the concat operation.\n",
      "\n",
      "C:\\Users\\quirosgu\\AppData\\Local\\Temp\\ipykernel_6524\\2300309733.py:9: FutureWarning:\n",
      "\n",
      "The behavior of DataFrame concatenation with empty or all-NA entries is deprecated. In a future version, this will no longer exclude empty or all-NA columns when determining the result dtypes. To retain the old behavior, exclude the relevant entries before the concat operation.\n",
      "\n",
      "C:\\Users\\quirosgu\\AppData\\Local\\Temp\\ipykernel_6524\\2300309733.py:9: FutureWarning:\n",
      "\n",
      "The behavior of DataFrame concatenation with empty or all-NA entries is deprecated. In a future version, this will no longer exclude empty or all-NA columns when determining the result dtypes. To retain the old behavior, exclude the relevant entries before the concat operation.\n",
      "\n",
      "C:\\Users\\quirosgu\\AppData\\Local\\Temp\\ipykernel_6524\\2300309733.py:9: FutureWarning:\n",
      "\n",
      "The behavior of DataFrame concatenation with empty or all-NA entries is deprecated. In a future version, this will no longer exclude empty or all-NA columns when determining the result dtypes. To retain the old behavior, exclude the relevant entries before the concat operation.\n",
      "\n",
      "C:\\Users\\quirosgu\\AppData\\Local\\Temp\\ipykernel_6524\\2300309733.py:9: FutureWarning:\n",
      "\n",
      "The behavior of DataFrame concatenation with empty or all-NA entries is deprecated. In a future version, this will no longer exclude empty or all-NA columns when determining the result dtypes. To retain the old behavior, exclude the relevant entries before the concat operation.\n",
      "\n",
      "C:\\Users\\quirosgu\\AppData\\Local\\Temp\\ipykernel_6524\\2300309733.py:9: FutureWarning:\n",
      "\n",
      "The behavior of DataFrame concatenation with empty or all-NA entries is deprecated. In a future version, this will no longer exclude empty or all-NA columns when determining the result dtypes. To retain the old behavior, exclude the relevant entries before the concat operation.\n",
      "\n",
      "C:\\Users\\quirosgu\\AppData\\Local\\Temp\\ipykernel_6524\\2300309733.py:9: FutureWarning:\n",
      "\n",
      "The behavior of DataFrame concatenation with empty or all-NA entries is deprecated. In a future version, this will no longer exclude empty or all-NA columns when determining the result dtypes. To retain the old behavior, exclude the relevant entries before the concat operation.\n",
      "\n",
      "C:\\Users\\quirosgu\\AppData\\Local\\Temp\\ipykernel_6524\\2300309733.py:9: FutureWarning:\n",
      "\n",
      "The behavior of DataFrame concatenation with empty or all-NA entries is deprecated. In a future version, this will no longer exclude empty or all-NA columns when determining the result dtypes. To retain the old behavior, exclude the relevant entries before the concat operation.\n",
      "\n",
      "C:\\Users\\quirosgu\\AppData\\Local\\Temp\\ipykernel_6524\\2300309733.py:9: FutureWarning:\n",
      "\n",
      "The behavior of DataFrame concatenation with empty or all-NA entries is deprecated. In a future version, this will no longer exclude empty or all-NA columns when determining the result dtypes. To retain the old behavior, exclude the relevant entries before the concat operation.\n",
      "\n",
      "C:\\Users\\quirosgu\\AppData\\Local\\Temp\\ipykernel_6524\\2300309733.py:9: FutureWarning:\n",
      "\n",
      "The behavior of DataFrame concatenation with empty or all-NA entries is deprecated. In a future version, this will no longer exclude empty or all-NA columns when determining the result dtypes. To retain the old behavior, exclude the relevant entries before the concat operation.\n",
      "\n",
      "C:\\Users\\quirosgu\\AppData\\Local\\Temp\\ipykernel_6524\\2300309733.py:9: FutureWarning:\n",
      "\n",
      "The behavior of DataFrame concatenation with empty or all-NA entries is deprecated. In a future version, this will no longer exclude empty or all-NA columns when determining the result dtypes. To retain the old behavior, exclude the relevant entries before the concat operation.\n",
      "\n",
      "C:\\Users\\quirosgu\\AppData\\Local\\Temp\\ipykernel_6524\\2300309733.py:9: FutureWarning:\n",
      "\n",
      "The behavior of DataFrame concatenation with empty or all-NA entries is deprecated. In a future version, this will no longer exclude empty or all-NA columns when determining the result dtypes. To retain the old behavior, exclude the relevant entries before the concat operation.\n",
      "\n",
      "C:\\Users\\quirosgu\\AppData\\Local\\Temp\\ipykernel_6524\\2300309733.py:9: FutureWarning:\n",
      "\n",
      "The behavior of DataFrame concatenation with empty or all-NA entries is deprecated. In a future version, this will no longer exclude empty or all-NA columns when determining the result dtypes. To retain the old behavior, exclude the relevant entries before the concat operation.\n",
      "\n",
      "C:\\Users\\quirosgu\\AppData\\Local\\Temp\\ipykernel_6524\\2300309733.py:9: FutureWarning:\n",
      "\n",
      "The behavior of DataFrame concatenation with empty or all-NA entries is deprecated. In a future version, this will no longer exclude empty or all-NA columns when determining the result dtypes. To retain the old behavior, exclude the relevant entries before the concat operation.\n",
      "\n",
      "C:\\Users\\quirosgu\\AppData\\Local\\Temp\\ipykernel_6524\\2300309733.py:9: FutureWarning:\n",
      "\n",
      "The behavior of DataFrame concatenation with empty or all-NA entries is deprecated. In a future version, this will no longer exclude empty or all-NA columns when determining the result dtypes. To retain the old behavior, exclude the relevant entries before the concat operation.\n",
      "\n",
      "C:\\Users\\quirosgu\\AppData\\Local\\Temp\\ipykernel_6524\\2300309733.py:9: FutureWarning:\n",
      "\n",
      "The behavior of DataFrame concatenation with empty or all-NA entries is deprecated. In a future version, this will no longer exclude empty or all-NA columns when determining the result dtypes. To retain the old behavior, exclude the relevant entries before the concat operation.\n",
      "\n",
      "C:\\Users\\quirosgu\\AppData\\Local\\Temp\\ipykernel_6524\\2300309733.py:9: FutureWarning:\n",
      "\n",
      "The behavior of DataFrame concatenation with empty or all-NA entries is deprecated. In a future version, this will no longer exclude empty or all-NA columns when determining the result dtypes. To retain the old behavior, exclude the relevant entries before the concat operation.\n",
      "\n",
      "C:\\Users\\quirosgu\\AppData\\Local\\Temp\\ipykernel_6524\\2300309733.py:9: FutureWarning:\n",
      "\n",
      "The behavior of DataFrame concatenation with empty or all-NA entries is deprecated. In a future version, this will no longer exclude empty or all-NA columns when determining the result dtypes. To retain the old behavior, exclude the relevant entries before the concat operation.\n",
      "\n",
      "C:\\Users\\quirosgu\\AppData\\Local\\Temp\\ipykernel_6524\\2300309733.py:9: FutureWarning:\n",
      "\n",
      "The behavior of DataFrame concatenation with empty or all-NA entries is deprecated. In a future version, this will no longer exclude empty or all-NA columns when determining the result dtypes. To retain the old behavior, exclude the relevant entries before the concat operation.\n",
      "\n",
      "C:\\Users\\quirosgu\\AppData\\Local\\Temp\\ipykernel_6524\\2300309733.py:9: FutureWarning:\n",
      "\n",
      "The behavior of DataFrame concatenation with empty or all-NA entries is deprecated. In a future version, this will no longer exclude empty or all-NA columns when determining the result dtypes. To retain the old behavior, exclude the relevant entries before the concat operation.\n",
      "\n",
      "C:\\Users\\quirosgu\\AppData\\Local\\Temp\\ipykernel_6524\\2300309733.py:9: FutureWarning:\n",
      "\n",
      "The behavior of DataFrame concatenation with empty or all-NA entries is deprecated. In a future version, this will no longer exclude empty or all-NA columns when determining the result dtypes. To retain the old behavior, exclude the relevant entries before the concat operation.\n",
      "\n",
      "C:\\Users\\quirosgu\\AppData\\Local\\Temp\\ipykernel_6524\\2300309733.py:9: FutureWarning:\n",
      "\n",
      "The behavior of DataFrame concatenation with empty or all-NA entries is deprecated. In a future version, this will no longer exclude empty or all-NA columns when determining the result dtypes. To retain the old behavior, exclude the relevant entries before the concat operation.\n",
      "\n",
      "C:\\Users\\quirosgu\\AppData\\Local\\Temp\\ipykernel_6524\\2300309733.py:9: FutureWarning:\n",
      "\n",
      "The behavior of DataFrame concatenation with empty or all-NA entries is deprecated. In a future version, this will no longer exclude empty or all-NA columns when determining the result dtypes. To retain the old behavior, exclude the relevant entries before the concat operation.\n",
      "\n",
      "C:\\Users\\quirosgu\\AppData\\Local\\Temp\\ipykernel_6524\\2300309733.py:9: FutureWarning:\n",
      "\n",
      "The behavior of DataFrame concatenation with empty or all-NA entries is deprecated. In a future version, this will no longer exclude empty or all-NA columns when determining the result dtypes. To retain the old behavior, exclude the relevant entries before the concat operation.\n",
      "\n",
      "C:\\Users\\quirosgu\\AppData\\Local\\Temp\\ipykernel_6524\\2300309733.py:9: FutureWarning:\n",
      "\n",
      "The behavior of DataFrame concatenation with empty or all-NA entries is deprecated. In a future version, this will no longer exclude empty or all-NA columns when determining the result dtypes. To retain the old behavior, exclude the relevant entries before the concat operation.\n",
      "\n",
      "C:\\Users\\quirosgu\\AppData\\Local\\Temp\\ipykernel_6524\\2300309733.py:9: FutureWarning:\n",
      "\n",
      "The behavior of DataFrame concatenation with empty or all-NA entries is deprecated. In a future version, this will no longer exclude empty or all-NA columns when determining the result dtypes. To retain the old behavior, exclude the relevant entries before the concat operation.\n",
      "\n",
      "C:\\Users\\quirosgu\\AppData\\Local\\Temp\\ipykernel_6524\\2300309733.py:9: FutureWarning:\n",
      "\n",
      "The behavior of DataFrame concatenation with empty or all-NA entries is deprecated. In a future version, this will no longer exclude empty or all-NA columns when determining the result dtypes. To retain the old behavior, exclude the relevant entries before the concat operation.\n",
      "\n",
      "C:\\Users\\quirosgu\\AppData\\Local\\Temp\\ipykernel_6524\\2300309733.py:9: FutureWarning:\n",
      "\n",
      "The behavior of DataFrame concatenation with empty or all-NA entries is deprecated. In a future version, this will no longer exclude empty or all-NA columns when determining the result dtypes. To retain the old behavior, exclude the relevant entries before the concat operation.\n",
      "\n",
      "C:\\Users\\quirosgu\\AppData\\Local\\Temp\\ipykernel_6524\\2300309733.py:9: FutureWarning:\n",
      "\n",
      "The behavior of DataFrame concatenation with empty or all-NA entries is deprecated. In a future version, this will no longer exclude empty or all-NA columns when determining the result dtypes. To retain the old behavior, exclude the relevant entries before the concat operation.\n",
      "\n",
      "C:\\Users\\quirosgu\\AppData\\Local\\Temp\\ipykernel_6524\\2300309733.py:9: FutureWarning:\n",
      "\n",
      "The behavior of DataFrame concatenation with empty or all-NA entries is deprecated. In a future version, this will no longer exclude empty or all-NA columns when determining the result dtypes. To retain the old behavior, exclude the relevant entries before the concat operation.\n",
      "\n",
      "C:\\Users\\quirosgu\\AppData\\Local\\Temp\\ipykernel_6524\\2300309733.py:9: FutureWarning:\n",
      "\n",
      "The behavior of DataFrame concatenation with empty or all-NA entries is deprecated. In a future version, this will no longer exclude empty or all-NA columns when determining the result dtypes. To retain the old behavior, exclude the relevant entries before the concat operation.\n",
      "\n",
      "C:\\Users\\quirosgu\\AppData\\Local\\Temp\\ipykernel_6524\\2300309733.py:9: FutureWarning:\n",
      "\n",
      "The behavior of DataFrame concatenation with empty or all-NA entries is deprecated. In a future version, this will no longer exclude empty or all-NA columns when determining the result dtypes. To retain the old behavior, exclude the relevant entries before the concat operation.\n",
      "\n",
      "C:\\Users\\quirosgu\\AppData\\Local\\Temp\\ipykernel_6524\\2300309733.py:9: FutureWarning:\n",
      "\n",
      "The behavior of DataFrame concatenation with empty or all-NA entries is deprecated. In a future version, this will no longer exclude empty or all-NA columns when determining the result dtypes. To retain the old behavior, exclude the relevant entries before the concat operation.\n",
      "\n",
      "C:\\Users\\quirosgu\\AppData\\Local\\Temp\\ipykernel_6524\\2300309733.py:9: FutureWarning:\n",
      "\n",
      "The behavior of DataFrame concatenation with empty or all-NA entries is deprecated. In a future version, this will no longer exclude empty or all-NA columns when determining the result dtypes. To retain the old behavior, exclude the relevant entries before the concat operation.\n",
      "\n",
      "C:\\Users\\quirosgu\\AppData\\Local\\Temp\\ipykernel_6524\\2300309733.py:9: FutureWarning:\n",
      "\n",
      "The behavior of DataFrame concatenation with empty or all-NA entries is deprecated. In a future version, this will no longer exclude empty or all-NA columns when determining the result dtypes. To retain the old behavior, exclude the relevant entries before the concat operation.\n",
      "\n",
      "C:\\Users\\quirosgu\\AppData\\Local\\Temp\\ipykernel_6524\\2300309733.py:9: FutureWarning:\n",
      "\n",
      "The behavior of DataFrame concatenation with empty or all-NA entries is deprecated. In a future version, this will no longer exclude empty or all-NA columns when determining the result dtypes. To retain the old behavior, exclude the relevant entries before the concat operation.\n",
      "\n",
      "C:\\Users\\quirosgu\\AppData\\Local\\Temp\\ipykernel_6524\\2300309733.py:9: FutureWarning:\n",
      "\n",
      "The behavior of DataFrame concatenation with empty or all-NA entries is deprecated. In a future version, this will no longer exclude empty or all-NA columns when determining the result dtypes. To retain the old behavior, exclude the relevant entries before the concat operation.\n",
      "\n",
      "C:\\Users\\quirosgu\\AppData\\Local\\Temp\\ipykernel_6524\\2300309733.py:9: FutureWarning:\n",
      "\n",
      "The behavior of DataFrame concatenation with empty or all-NA entries is deprecated. In a future version, this will no longer exclude empty or all-NA columns when determining the result dtypes. To retain the old behavior, exclude the relevant entries before the concat operation.\n",
      "\n",
      "C:\\Users\\quirosgu\\AppData\\Local\\Temp\\ipykernel_6524\\2300309733.py:9: FutureWarning:\n",
      "\n",
      "The behavior of DataFrame concatenation with empty or all-NA entries is deprecated. In a future version, this will no longer exclude empty or all-NA columns when determining the result dtypes. To retain the old behavior, exclude the relevant entries before the concat operation.\n",
      "\n",
      "C:\\Users\\quirosgu\\AppData\\Local\\Temp\\ipykernel_6524\\2300309733.py:9: FutureWarning:\n",
      "\n",
      "The behavior of DataFrame concatenation with empty or all-NA entries is deprecated. In a future version, this will no longer exclude empty or all-NA columns when determining the result dtypes. To retain the old behavior, exclude the relevant entries before the concat operation.\n",
      "\n",
      "C:\\Users\\quirosgu\\AppData\\Local\\Temp\\ipykernel_6524\\2300309733.py:9: FutureWarning:\n",
      "\n",
      "The behavior of DataFrame concatenation with empty or all-NA entries is deprecated. In a future version, this will no longer exclude empty or all-NA columns when determining the result dtypes. To retain the old behavior, exclude the relevant entries before the concat operation.\n",
      "\n",
      "C:\\Users\\quirosgu\\AppData\\Local\\Temp\\ipykernel_6524\\2300309733.py:9: FutureWarning:\n",
      "\n",
      "The behavior of DataFrame concatenation with empty or all-NA entries is deprecated. In a future version, this will no longer exclude empty or all-NA columns when determining the result dtypes. To retain the old behavior, exclude the relevant entries before the concat operation.\n",
      "\n",
      "C:\\Users\\quirosgu\\AppData\\Local\\Temp\\ipykernel_6524\\2300309733.py:9: FutureWarning:\n",
      "\n",
      "The behavior of DataFrame concatenation with empty or all-NA entries is deprecated. In a future version, this will no longer exclude empty or all-NA columns when determining the result dtypes. To retain the old behavior, exclude the relevant entries before the concat operation.\n",
      "\n",
      "C:\\Users\\quirosgu\\AppData\\Local\\Temp\\ipykernel_6524\\2300309733.py:9: FutureWarning:\n",
      "\n",
      "The behavior of DataFrame concatenation with empty or all-NA entries is deprecated. In a future version, this will no longer exclude empty or all-NA columns when determining the result dtypes. To retain the old behavior, exclude the relevant entries before the concat operation.\n",
      "\n",
      "C:\\Users\\quirosgu\\AppData\\Local\\Temp\\ipykernel_6524\\2300309733.py:9: FutureWarning:\n",
      "\n",
      "The behavior of DataFrame concatenation with empty or all-NA entries is deprecated. In a future version, this will no longer exclude empty or all-NA columns when determining the result dtypes. To retain the old behavior, exclude the relevant entries before the concat operation.\n",
      "\n",
      "C:\\Users\\quirosgu\\AppData\\Local\\Temp\\ipykernel_6524\\2300309733.py:9: FutureWarning:\n",
      "\n",
      "The behavior of DataFrame concatenation with empty or all-NA entries is deprecated. In a future version, this will no longer exclude empty or all-NA columns when determining the result dtypes. To retain the old behavior, exclude the relevant entries before the concat operation.\n",
      "\n",
      "C:\\Users\\quirosgu\\AppData\\Local\\Temp\\ipykernel_6524\\2300309733.py:9: FutureWarning:\n",
      "\n",
      "The behavior of DataFrame concatenation with empty or all-NA entries is deprecated. In a future version, this will no longer exclude empty or all-NA columns when determining the result dtypes. To retain the old behavior, exclude the relevant entries before the concat operation.\n",
      "\n",
      "C:\\Users\\quirosgu\\AppData\\Local\\Temp\\ipykernel_6524\\2300309733.py:9: FutureWarning:\n",
      "\n",
      "The behavior of DataFrame concatenation with empty or all-NA entries is deprecated. In a future version, this will no longer exclude empty or all-NA columns when determining the result dtypes. To retain the old behavior, exclude the relevant entries before the concat operation.\n",
      "\n",
      "C:\\Users\\quirosgu\\AppData\\Local\\Temp\\ipykernel_6524\\2300309733.py:9: FutureWarning:\n",
      "\n",
      "The behavior of DataFrame concatenation with empty or all-NA entries is deprecated. In a future version, this will no longer exclude empty or all-NA columns when determining the result dtypes. To retain the old behavior, exclude the relevant entries before the concat operation.\n",
      "\n",
      "C:\\Users\\quirosgu\\AppData\\Local\\Temp\\ipykernel_6524\\2300309733.py:9: FutureWarning:\n",
      "\n",
      "The behavior of DataFrame concatenation with empty or all-NA entries is deprecated. In a future version, this will no longer exclude empty or all-NA columns when determining the result dtypes. To retain the old behavior, exclude the relevant entries before the concat operation.\n",
      "\n",
      "C:\\Users\\quirosgu\\AppData\\Local\\Temp\\ipykernel_6524\\2300309733.py:9: FutureWarning:\n",
      "\n",
      "The behavior of DataFrame concatenation with empty or all-NA entries is deprecated. In a future version, this will no longer exclude empty or all-NA columns when determining the result dtypes. To retain the old behavior, exclude the relevant entries before the concat operation.\n",
      "\n",
      "C:\\Users\\quirosgu\\AppData\\Local\\Temp\\ipykernel_6524\\2300309733.py:9: FutureWarning:\n",
      "\n",
      "The behavior of DataFrame concatenation with empty or all-NA entries is deprecated. In a future version, this will no longer exclude empty or all-NA columns when determining the result dtypes. To retain the old behavior, exclude the relevant entries before the concat operation.\n",
      "\n",
      "C:\\Users\\quirosgu\\AppData\\Local\\Temp\\ipykernel_6524\\2300309733.py:9: FutureWarning:\n",
      "\n",
      "The behavior of DataFrame concatenation with empty or all-NA entries is deprecated. In a future version, this will no longer exclude empty or all-NA columns when determining the result dtypes. To retain the old behavior, exclude the relevant entries before the concat operation.\n",
      "\n",
      "C:\\Users\\quirosgu\\AppData\\Local\\Temp\\ipykernel_6524\\2300309733.py:9: FutureWarning:\n",
      "\n",
      "The behavior of DataFrame concatenation with empty or all-NA entries is deprecated. In a future version, this will no longer exclude empty or all-NA columns when determining the result dtypes. To retain the old behavior, exclude the relevant entries before the concat operation.\n",
      "\n",
      "C:\\Users\\quirosgu\\AppData\\Local\\Temp\\ipykernel_6524\\2300309733.py:9: FutureWarning:\n",
      "\n",
      "The behavior of DataFrame concatenation with empty or all-NA entries is deprecated. In a future version, this will no longer exclude empty or all-NA columns when determining the result dtypes. To retain the old behavior, exclude the relevant entries before the concat operation.\n",
      "\n",
      "C:\\Users\\quirosgu\\AppData\\Local\\Temp\\ipykernel_6524\\2300309733.py:9: FutureWarning:\n",
      "\n",
      "The behavior of DataFrame concatenation with empty or all-NA entries is deprecated. In a future version, this will no longer exclude empty or all-NA columns when determining the result dtypes. To retain the old behavior, exclude the relevant entries before the concat operation.\n",
      "\n",
      "C:\\Users\\quirosgu\\AppData\\Local\\Temp\\ipykernel_6524\\2300309733.py:9: FutureWarning:\n",
      "\n",
      "The behavior of DataFrame concatenation with empty or all-NA entries is deprecated. In a future version, this will no longer exclude empty or all-NA columns when determining the result dtypes. To retain the old behavior, exclude the relevant entries before the concat operation.\n",
      "\n",
      "C:\\Users\\quirosgu\\AppData\\Local\\Temp\\ipykernel_6524\\2300309733.py:9: FutureWarning:\n",
      "\n",
      "The behavior of DataFrame concatenation with empty or all-NA entries is deprecated. In a future version, this will no longer exclude empty or all-NA columns when determining the result dtypes. To retain the old behavior, exclude the relevant entries before the concat operation.\n",
      "\n",
      "C:\\Users\\quirosgu\\AppData\\Local\\Temp\\ipykernel_6524\\2300309733.py:9: FutureWarning:\n",
      "\n",
      "The behavior of DataFrame concatenation with empty or all-NA entries is deprecated. In a future version, this will no longer exclude empty or all-NA columns when determining the result dtypes. To retain the old behavior, exclude the relevant entries before the concat operation.\n",
      "\n",
      "C:\\Users\\quirosgu\\AppData\\Local\\Temp\\ipykernel_6524\\2300309733.py:9: FutureWarning:\n",
      "\n",
      "The behavior of DataFrame concatenation with empty or all-NA entries is deprecated. In a future version, this will no longer exclude empty or all-NA columns when determining the result dtypes. To retain the old behavior, exclude the relevant entries before the concat operation.\n",
      "\n",
      "C:\\Users\\quirosgu\\AppData\\Local\\Temp\\ipykernel_6524\\2300309733.py:9: FutureWarning:\n",
      "\n",
      "The behavior of DataFrame concatenation with empty or all-NA entries is deprecated. In a future version, this will no longer exclude empty or all-NA columns when determining the result dtypes. To retain the old behavior, exclude the relevant entries before the concat operation.\n",
      "\n",
      "C:\\Users\\quirosgu\\AppData\\Local\\Temp\\ipykernel_6524\\2300309733.py:9: FutureWarning:\n",
      "\n",
      "The behavior of DataFrame concatenation with empty or all-NA entries is deprecated. In a future version, this will no longer exclude empty or all-NA columns when determining the result dtypes. To retain the old behavior, exclude the relevant entries before the concat operation.\n",
      "\n",
      "C:\\Users\\quirosgu\\AppData\\Local\\Temp\\ipykernel_6524\\2300309733.py:9: FutureWarning:\n",
      "\n",
      "The behavior of DataFrame concatenation with empty or all-NA entries is deprecated. In a future version, this will no longer exclude empty or all-NA columns when determining the result dtypes. To retain the old behavior, exclude the relevant entries before the concat operation.\n",
      "\n",
      "C:\\Users\\quirosgu\\AppData\\Local\\Temp\\ipykernel_6524\\2300309733.py:9: FutureWarning:\n",
      "\n",
      "The behavior of DataFrame concatenation with empty or all-NA entries is deprecated. In a future version, this will no longer exclude empty or all-NA columns when determining the result dtypes. To retain the old behavior, exclude the relevant entries before the concat operation.\n",
      "\n",
      "C:\\Users\\quirosgu\\AppData\\Local\\Temp\\ipykernel_6524\\2300309733.py:9: FutureWarning:\n",
      "\n",
      "The behavior of DataFrame concatenation with empty or all-NA entries is deprecated. In a future version, this will no longer exclude empty or all-NA columns when determining the result dtypes. To retain the old behavior, exclude the relevant entries before the concat operation.\n",
      "\n",
      "C:\\Users\\quirosgu\\AppData\\Local\\Temp\\ipykernel_6524\\2300309733.py:9: FutureWarning:\n",
      "\n",
      "The behavior of DataFrame concatenation with empty or all-NA entries is deprecated. In a future version, this will no longer exclude empty or all-NA columns when determining the result dtypes. To retain the old behavior, exclude the relevant entries before the concat operation.\n",
      "\n",
      "C:\\Users\\quirosgu\\AppData\\Local\\Temp\\ipykernel_6524\\2300309733.py:9: FutureWarning:\n",
      "\n",
      "The behavior of DataFrame concatenation with empty or all-NA entries is deprecated. In a future version, this will no longer exclude empty or all-NA columns when determining the result dtypes. To retain the old behavior, exclude the relevant entries before the concat operation.\n",
      "\n",
      "C:\\Users\\quirosgu\\AppData\\Local\\Temp\\ipykernel_6524\\2300309733.py:9: FutureWarning:\n",
      "\n",
      "The behavior of DataFrame concatenation with empty or all-NA entries is deprecated. In a future version, this will no longer exclude empty or all-NA columns when determining the result dtypes. To retain the old behavior, exclude the relevant entries before the concat operation.\n",
      "\n",
      "C:\\Users\\quirosgu\\AppData\\Local\\Temp\\ipykernel_6524\\2300309733.py:9: FutureWarning:\n",
      "\n",
      "The behavior of DataFrame concatenation with empty or all-NA entries is deprecated. In a future version, this will no longer exclude empty or all-NA columns when determining the result dtypes. To retain the old behavior, exclude the relevant entries before the concat operation.\n",
      "\n",
      "C:\\Users\\quirosgu\\AppData\\Local\\Temp\\ipykernel_6524\\2300309733.py:9: FutureWarning:\n",
      "\n",
      "The behavior of DataFrame concatenation with empty or all-NA entries is deprecated. In a future version, this will no longer exclude empty or all-NA columns when determining the result dtypes. To retain the old behavior, exclude the relevant entries before the concat operation.\n",
      "\n",
      "C:\\Users\\quirosgu\\AppData\\Local\\Temp\\ipykernel_6524\\2300309733.py:9: FutureWarning:\n",
      "\n",
      "The behavior of DataFrame concatenation with empty or all-NA entries is deprecated. In a future version, this will no longer exclude empty or all-NA columns when determining the result dtypes. To retain the old behavior, exclude the relevant entries before the concat operation.\n",
      "\n",
      "C:\\Users\\quirosgu\\AppData\\Local\\Temp\\ipykernel_6524\\2300309733.py:9: FutureWarning:\n",
      "\n",
      "The behavior of DataFrame concatenation with empty or all-NA entries is deprecated. In a future version, this will no longer exclude empty or all-NA columns when determining the result dtypes. To retain the old behavior, exclude the relevant entries before the concat operation.\n",
      "\n",
      "C:\\Users\\quirosgu\\AppData\\Local\\Temp\\ipykernel_6524\\2300309733.py:9: FutureWarning:\n",
      "\n",
      "The behavior of DataFrame concatenation with empty or all-NA entries is deprecated. In a future version, this will no longer exclude empty or all-NA columns when determining the result dtypes. To retain the old behavior, exclude the relevant entries before the concat operation.\n",
      "\n",
      "C:\\Users\\quirosgu\\AppData\\Local\\Temp\\ipykernel_6524\\2300309733.py:9: FutureWarning:\n",
      "\n",
      "The behavior of DataFrame concatenation with empty or all-NA entries is deprecated. In a future version, this will no longer exclude empty or all-NA columns when determining the result dtypes. To retain the old behavior, exclude the relevant entries before the concat operation.\n",
      "\n",
      "C:\\Users\\quirosgu\\AppData\\Local\\Temp\\ipykernel_6524\\2300309733.py:9: FutureWarning:\n",
      "\n",
      "The behavior of DataFrame concatenation with empty or all-NA entries is deprecated. In a future version, this will no longer exclude empty or all-NA columns when determining the result dtypes. To retain the old behavior, exclude the relevant entries before the concat operation.\n",
      "\n",
      "C:\\Users\\quirosgu\\AppData\\Local\\Temp\\ipykernel_6524\\2300309733.py:9: FutureWarning:\n",
      "\n",
      "The behavior of DataFrame concatenation with empty or all-NA entries is deprecated. In a future version, this will no longer exclude empty or all-NA columns when determining the result dtypes. To retain the old behavior, exclude the relevant entries before the concat operation.\n",
      "\n",
      "C:\\Users\\quirosgu\\AppData\\Local\\Temp\\ipykernel_6524\\2300309733.py:9: FutureWarning:\n",
      "\n",
      "The behavior of DataFrame concatenation with empty or all-NA entries is deprecated. In a future version, this will no longer exclude empty or all-NA columns when determining the result dtypes. To retain the old behavior, exclude the relevant entries before the concat operation.\n",
      "\n",
      "C:\\Users\\quirosgu\\AppData\\Local\\Temp\\ipykernel_6524\\2300309733.py:9: FutureWarning:\n",
      "\n",
      "The behavior of DataFrame concatenation with empty or all-NA entries is deprecated. In a future version, this will no longer exclude empty or all-NA columns when determining the result dtypes. To retain the old behavior, exclude the relevant entries before the concat operation.\n",
      "\n",
      "C:\\Users\\quirosgu\\AppData\\Local\\Temp\\ipykernel_6524\\2300309733.py:9: FutureWarning:\n",
      "\n",
      "The behavior of DataFrame concatenation with empty or all-NA entries is deprecated. In a future version, this will no longer exclude empty or all-NA columns when determining the result dtypes. To retain the old behavior, exclude the relevant entries before the concat operation.\n",
      "\n",
      "C:\\Users\\quirosgu\\AppData\\Local\\Temp\\ipykernel_6524\\2300309733.py:9: FutureWarning:\n",
      "\n",
      "The behavior of DataFrame concatenation with empty or all-NA entries is deprecated. In a future version, this will no longer exclude empty or all-NA columns when determining the result dtypes. To retain the old behavior, exclude the relevant entries before the concat operation.\n",
      "\n",
      "C:\\Users\\quirosgu\\AppData\\Local\\Temp\\ipykernel_6524\\2300309733.py:9: FutureWarning:\n",
      "\n",
      "The behavior of DataFrame concatenation with empty or all-NA entries is deprecated. In a future version, this will no longer exclude empty or all-NA columns when determining the result dtypes. To retain the old behavior, exclude the relevant entries before the concat operation.\n",
      "\n",
      "C:\\Users\\quirosgu\\AppData\\Local\\Temp\\ipykernel_6524\\2300309733.py:9: FutureWarning:\n",
      "\n",
      "The behavior of DataFrame concatenation with empty or all-NA entries is deprecated. In a future version, this will no longer exclude empty or all-NA columns when determining the result dtypes. To retain the old behavior, exclude the relevant entries before the concat operation.\n",
      "\n",
      "C:\\Users\\quirosgu\\AppData\\Local\\Temp\\ipykernel_6524\\2300309733.py:9: FutureWarning:\n",
      "\n",
      "The behavior of DataFrame concatenation with empty or all-NA entries is deprecated. In a future version, this will no longer exclude empty or all-NA columns when determining the result dtypes. To retain the old behavior, exclude the relevant entries before the concat operation.\n",
      "\n",
      "C:\\Users\\quirosgu\\AppData\\Local\\Temp\\ipykernel_6524\\2300309733.py:9: FutureWarning:\n",
      "\n",
      "The behavior of DataFrame concatenation with empty or all-NA entries is deprecated. In a future version, this will no longer exclude empty or all-NA columns when determining the result dtypes. To retain the old behavior, exclude the relevant entries before the concat operation.\n",
      "\n",
      "C:\\Users\\quirosgu\\AppData\\Local\\Temp\\ipykernel_6524\\2300309733.py:9: FutureWarning:\n",
      "\n",
      "The behavior of DataFrame concatenation with empty or all-NA entries is deprecated. In a future version, this will no longer exclude empty or all-NA columns when determining the result dtypes. To retain the old behavior, exclude the relevant entries before the concat operation.\n",
      "\n",
      "C:\\Users\\quirosgu\\AppData\\Local\\Temp\\ipykernel_6524\\2300309733.py:9: FutureWarning:\n",
      "\n",
      "The behavior of DataFrame concatenation with empty or all-NA entries is deprecated. In a future version, this will no longer exclude empty or all-NA columns when determining the result dtypes. To retain the old behavior, exclude the relevant entries before the concat operation.\n",
      "\n",
      "C:\\Users\\quirosgu\\AppData\\Local\\Temp\\ipykernel_6524\\2300309733.py:9: FutureWarning:\n",
      "\n",
      "The behavior of DataFrame concatenation with empty or all-NA entries is deprecated. In a future version, this will no longer exclude empty or all-NA columns when determining the result dtypes. To retain the old behavior, exclude the relevant entries before the concat operation.\n",
      "\n",
      "C:\\Users\\quirosgu\\AppData\\Local\\Temp\\ipykernel_6524\\2300309733.py:9: FutureWarning:\n",
      "\n",
      "The behavior of DataFrame concatenation with empty or all-NA entries is deprecated. In a future version, this will no longer exclude empty or all-NA columns when determining the result dtypes. To retain the old behavior, exclude the relevant entries before the concat operation.\n",
      "\n",
      "C:\\Users\\quirosgu\\AppData\\Local\\Temp\\ipykernel_6524\\2300309733.py:9: FutureWarning:\n",
      "\n",
      "The behavior of DataFrame concatenation with empty or all-NA entries is deprecated. In a future version, this will no longer exclude empty or all-NA columns when determining the result dtypes. To retain the old behavior, exclude the relevant entries before the concat operation.\n",
      "\n",
      "C:\\Users\\quirosgu\\AppData\\Local\\Temp\\ipykernel_6524\\2300309733.py:9: FutureWarning:\n",
      "\n",
      "The behavior of DataFrame concatenation with empty or all-NA entries is deprecated. In a future version, this will no longer exclude empty or all-NA columns when determining the result dtypes. To retain the old behavior, exclude the relevant entries before the concat operation.\n",
      "\n",
      "C:\\Users\\quirosgu\\AppData\\Local\\Temp\\ipykernel_6524\\2300309733.py:9: FutureWarning:\n",
      "\n",
      "The behavior of DataFrame concatenation with empty or all-NA entries is deprecated. In a future version, this will no longer exclude empty or all-NA columns when determining the result dtypes. To retain the old behavior, exclude the relevant entries before the concat operation.\n",
      "\n",
      "C:\\Users\\quirosgu\\AppData\\Local\\Temp\\ipykernel_6524\\2300309733.py:9: FutureWarning:\n",
      "\n",
      "The behavior of DataFrame concatenation with empty or all-NA entries is deprecated. In a future version, this will no longer exclude empty or all-NA columns when determining the result dtypes. To retain the old behavior, exclude the relevant entries before the concat operation.\n",
      "\n",
      "C:\\Users\\quirosgu\\AppData\\Local\\Temp\\ipykernel_6524\\2300309733.py:9: FutureWarning:\n",
      "\n",
      "The behavior of DataFrame concatenation with empty or all-NA entries is deprecated. In a future version, this will no longer exclude empty or all-NA columns when determining the result dtypes. To retain the old behavior, exclude the relevant entries before the concat operation.\n",
      "\n",
      "C:\\Users\\quirosgu\\AppData\\Local\\Temp\\ipykernel_6524\\2300309733.py:9: FutureWarning:\n",
      "\n",
      "The behavior of DataFrame concatenation with empty or all-NA entries is deprecated. In a future version, this will no longer exclude empty or all-NA columns when determining the result dtypes. To retain the old behavior, exclude the relevant entries before the concat operation.\n",
      "\n",
      "C:\\Users\\quirosgu\\AppData\\Local\\Temp\\ipykernel_6524\\2300309733.py:9: FutureWarning:\n",
      "\n",
      "The behavior of DataFrame concatenation with empty or all-NA entries is deprecated. In a future version, this will no longer exclude empty or all-NA columns when determining the result dtypes. To retain the old behavior, exclude the relevant entries before the concat operation.\n",
      "\n",
      "C:\\Users\\quirosgu\\AppData\\Local\\Temp\\ipykernel_6524\\2300309733.py:9: FutureWarning:\n",
      "\n",
      "The behavior of DataFrame concatenation with empty or all-NA entries is deprecated. In a future version, this will no longer exclude empty or all-NA columns when determining the result dtypes. To retain the old behavior, exclude the relevant entries before the concat operation.\n",
      "\n",
      "C:\\Users\\quirosgu\\AppData\\Local\\Temp\\ipykernel_6524\\2300309733.py:9: FutureWarning:\n",
      "\n",
      "The behavior of DataFrame concatenation with empty or all-NA entries is deprecated. In a future version, this will no longer exclude empty or all-NA columns when determining the result dtypes. To retain the old behavior, exclude the relevant entries before the concat operation.\n",
      "\n",
      "C:\\Users\\quirosgu\\AppData\\Local\\Temp\\ipykernel_6524\\2300309733.py:9: FutureWarning:\n",
      "\n",
      "The behavior of DataFrame concatenation with empty or all-NA entries is deprecated. In a future version, this will no longer exclude empty or all-NA columns when determining the result dtypes. To retain the old behavior, exclude the relevant entries before the concat operation.\n",
      "\n",
      "C:\\Users\\quirosgu\\AppData\\Local\\Temp\\ipykernel_6524\\2300309733.py:9: FutureWarning:\n",
      "\n",
      "The behavior of DataFrame concatenation with empty or all-NA entries is deprecated. In a future version, this will no longer exclude empty or all-NA columns when determining the result dtypes. To retain the old behavior, exclude the relevant entries before the concat operation.\n",
      "\n",
      "C:\\Users\\quirosgu\\AppData\\Local\\Temp\\ipykernel_6524\\2300309733.py:9: FutureWarning:\n",
      "\n",
      "The behavior of DataFrame concatenation with empty or all-NA entries is deprecated. In a future version, this will no longer exclude empty or all-NA columns when determining the result dtypes. To retain the old behavior, exclude the relevant entries before the concat operation.\n",
      "\n",
      "C:\\Users\\quirosgu\\AppData\\Local\\Temp\\ipykernel_6524\\2300309733.py:9: FutureWarning:\n",
      "\n",
      "The behavior of DataFrame concatenation with empty or all-NA entries is deprecated. In a future version, this will no longer exclude empty or all-NA columns when determining the result dtypes. To retain the old behavior, exclude the relevant entries before the concat operation.\n",
      "\n",
      "C:\\Users\\quirosgu\\AppData\\Local\\Temp\\ipykernel_6524\\2300309733.py:9: FutureWarning:\n",
      "\n",
      "The behavior of DataFrame concatenation with empty or all-NA entries is deprecated. In a future version, this will no longer exclude empty or all-NA columns when determining the result dtypes. To retain the old behavior, exclude the relevant entries before the concat operation.\n",
      "\n",
      "C:\\Users\\quirosgu\\AppData\\Local\\Temp\\ipykernel_6524\\2300309733.py:9: FutureWarning:\n",
      "\n",
      "The behavior of DataFrame concatenation with empty or all-NA entries is deprecated. In a future version, this will no longer exclude empty or all-NA columns when determining the result dtypes. To retain the old behavior, exclude the relevant entries before the concat operation.\n",
      "\n",
      "C:\\Users\\quirosgu\\AppData\\Local\\Temp\\ipykernel_6524\\2300309733.py:9: FutureWarning:\n",
      "\n",
      "The behavior of DataFrame concatenation with empty or all-NA entries is deprecated. In a future version, this will no longer exclude empty or all-NA columns when determining the result dtypes. To retain the old behavior, exclude the relevant entries before the concat operation.\n",
      "\n",
      "C:\\Users\\quirosgu\\AppData\\Local\\Temp\\ipykernel_6524\\2300309733.py:9: FutureWarning:\n",
      "\n",
      "The behavior of DataFrame concatenation with empty or all-NA entries is deprecated. In a future version, this will no longer exclude empty or all-NA columns when determining the result dtypes. To retain the old behavior, exclude the relevant entries before the concat operation.\n",
      "\n",
      "C:\\Users\\quirosgu\\AppData\\Local\\Temp\\ipykernel_6524\\2300309733.py:9: FutureWarning:\n",
      "\n",
      "The behavior of DataFrame concatenation with empty or all-NA entries is deprecated. In a future version, this will no longer exclude empty or all-NA columns when determining the result dtypes. To retain the old behavior, exclude the relevant entries before the concat operation.\n",
      "\n",
      "C:\\Users\\quirosgu\\AppData\\Local\\Temp\\ipykernel_6524\\2300309733.py:9: FutureWarning:\n",
      "\n",
      "The behavior of DataFrame concatenation with empty or all-NA entries is deprecated. In a future version, this will no longer exclude empty or all-NA columns when determining the result dtypes. To retain the old behavior, exclude the relevant entries before the concat operation.\n",
      "\n",
      "C:\\Users\\quirosgu\\AppData\\Local\\Temp\\ipykernel_6524\\2300309733.py:9: FutureWarning:\n",
      "\n",
      "The behavior of DataFrame concatenation with empty or all-NA entries is deprecated. In a future version, this will no longer exclude empty or all-NA columns when determining the result dtypes. To retain the old behavior, exclude the relevant entries before the concat operation.\n",
      "\n",
      "C:\\Users\\quirosgu\\AppData\\Local\\Temp\\ipykernel_6524\\2300309733.py:9: FutureWarning:\n",
      "\n",
      "The behavior of DataFrame concatenation with empty or all-NA entries is deprecated. In a future version, this will no longer exclude empty or all-NA columns when determining the result dtypes. To retain the old behavior, exclude the relevant entries before the concat operation.\n",
      "\n",
      "C:\\Users\\quirosgu\\AppData\\Local\\Temp\\ipykernel_6524\\2300309733.py:9: FutureWarning:\n",
      "\n",
      "The behavior of DataFrame concatenation with empty or all-NA entries is deprecated. In a future version, this will no longer exclude empty or all-NA columns when determining the result dtypes. To retain the old behavior, exclude the relevant entries before the concat operation.\n",
      "\n",
      "C:\\Users\\quirosgu\\AppData\\Local\\Temp\\ipykernel_6524\\2300309733.py:9: FutureWarning:\n",
      "\n",
      "The behavior of DataFrame concatenation with empty or all-NA entries is deprecated. In a future version, this will no longer exclude empty or all-NA columns when determining the result dtypes. To retain the old behavior, exclude the relevant entries before the concat operation.\n",
      "\n",
      "C:\\Users\\quirosgu\\AppData\\Local\\Temp\\ipykernel_6524\\2300309733.py:9: FutureWarning:\n",
      "\n",
      "The behavior of DataFrame concatenation with empty or all-NA entries is deprecated. In a future version, this will no longer exclude empty or all-NA columns when determining the result dtypes. To retain the old behavior, exclude the relevant entries before the concat operation.\n",
      "\n",
      "C:\\Users\\quirosgu\\AppData\\Local\\Temp\\ipykernel_6524\\2300309733.py:9: FutureWarning:\n",
      "\n",
      "The behavior of DataFrame concatenation with empty or all-NA entries is deprecated. In a future version, this will no longer exclude empty or all-NA columns when determining the result dtypes. To retain the old behavior, exclude the relevant entries before the concat operation.\n",
      "\n",
      "C:\\Users\\quirosgu\\AppData\\Local\\Temp\\ipykernel_6524\\2300309733.py:9: FutureWarning:\n",
      "\n",
      "The behavior of DataFrame concatenation with empty or all-NA entries is deprecated. In a future version, this will no longer exclude empty or all-NA columns when determining the result dtypes. To retain the old behavior, exclude the relevant entries before the concat operation.\n",
      "\n",
      "C:\\Users\\quirosgu\\AppData\\Local\\Temp\\ipykernel_6524\\2300309733.py:9: FutureWarning:\n",
      "\n",
      "The behavior of DataFrame concatenation with empty or all-NA entries is deprecated. In a future version, this will no longer exclude empty or all-NA columns when determining the result dtypes. To retain the old behavior, exclude the relevant entries before the concat operation.\n",
      "\n",
      "C:\\Users\\quirosgu\\AppData\\Local\\Temp\\ipykernel_6524\\2300309733.py:9: FutureWarning:\n",
      "\n",
      "The behavior of DataFrame concatenation with empty or all-NA entries is deprecated. In a future version, this will no longer exclude empty or all-NA columns when determining the result dtypes. To retain the old behavior, exclude the relevant entries before the concat operation.\n",
      "\n",
      "C:\\Users\\quirosgu\\AppData\\Local\\Temp\\ipykernel_6524\\2300309733.py:9: FutureWarning:\n",
      "\n",
      "The behavior of DataFrame concatenation with empty or all-NA entries is deprecated. In a future version, this will no longer exclude empty or all-NA columns when determining the result dtypes. To retain the old behavior, exclude the relevant entries before the concat operation.\n",
      "\n",
      "C:\\Users\\quirosgu\\AppData\\Local\\Temp\\ipykernel_6524\\2300309733.py:9: FutureWarning:\n",
      "\n",
      "The behavior of DataFrame concatenation with empty or all-NA entries is deprecated. In a future version, this will no longer exclude empty or all-NA columns when determining the result dtypes. To retain the old behavior, exclude the relevant entries before the concat operation.\n",
      "\n",
      "C:\\Users\\quirosgu\\AppData\\Local\\Temp\\ipykernel_6524\\2300309733.py:9: FutureWarning:\n",
      "\n",
      "The behavior of DataFrame concatenation with empty or all-NA entries is deprecated. In a future version, this will no longer exclude empty or all-NA columns when determining the result dtypes. To retain the old behavior, exclude the relevant entries before the concat operation.\n",
      "\n",
      "C:\\Users\\quirosgu\\AppData\\Local\\Temp\\ipykernel_6524\\2300309733.py:9: FutureWarning:\n",
      "\n",
      "The behavior of DataFrame concatenation with empty or all-NA entries is deprecated. In a future version, this will no longer exclude empty or all-NA columns when determining the result dtypes. To retain the old behavior, exclude the relevant entries before the concat operation.\n",
      "\n",
      "C:\\Users\\quirosgu\\AppData\\Local\\Temp\\ipykernel_6524\\2300309733.py:9: FutureWarning:\n",
      "\n",
      "The behavior of DataFrame concatenation with empty or all-NA entries is deprecated. In a future version, this will no longer exclude empty or all-NA columns when determining the result dtypes. To retain the old behavior, exclude the relevant entries before the concat operation.\n",
      "\n",
      "C:\\Users\\quirosgu\\AppData\\Local\\Temp\\ipykernel_6524\\2300309733.py:9: FutureWarning:\n",
      "\n",
      "The behavior of DataFrame concatenation with empty or all-NA entries is deprecated. In a future version, this will no longer exclude empty or all-NA columns when determining the result dtypes. To retain the old behavior, exclude the relevant entries before the concat operation.\n",
      "\n",
      "C:\\Users\\quirosgu\\AppData\\Local\\Temp\\ipykernel_6524\\2300309733.py:9: FutureWarning:\n",
      "\n",
      "The behavior of DataFrame concatenation with empty or all-NA entries is deprecated. In a future version, this will no longer exclude empty or all-NA columns when determining the result dtypes. To retain the old behavior, exclude the relevant entries before the concat operation.\n",
      "\n",
      "C:\\Users\\quirosgu\\AppData\\Local\\Temp\\ipykernel_6524\\2300309733.py:9: FutureWarning:\n",
      "\n",
      "The behavior of DataFrame concatenation with empty or all-NA entries is deprecated. In a future version, this will no longer exclude empty or all-NA columns when determining the result dtypes. To retain the old behavior, exclude the relevant entries before the concat operation.\n",
      "\n",
      "C:\\Users\\quirosgu\\AppData\\Local\\Temp\\ipykernel_6524\\2300309733.py:9: FutureWarning:\n",
      "\n",
      "The behavior of DataFrame concatenation with empty or all-NA entries is deprecated. In a future version, this will no longer exclude empty or all-NA columns when determining the result dtypes. To retain the old behavior, exclude the relevant entries before the concat operation.\n",
      "\n",
      "C:\\Users\\quirosgu\\AppData\\Local\\Temp\\ipykernel_6524\\2300309733.py:9: FutureWarning:\n",
      "\n",
      "The behavior of DataFrame concatenation with empty or all-NA entries is deprecated. In a future version, this will no longer exclude empty or all-NA columns when determining the result dtypes. To retain the old behavior, exclude the relevant entries before the concat operation.\n",
      "\n",
      "C:\\Users\\quirosgu\\AppData\\Local\\Temp\\ipykernel_6524\\2300309733.py:9: FutureWarning:\n",
      "\n",
      "The behavior of DataFrame concatenation with empty or all-NA entries is deprecated. In a future version, this will no longer exclude empty or all-NA columns when determining the result dtypes. To retain the old behavior, exclude the relevant entries before the concat operation.\n",
      "\n",
      "C:\\Users\\quirosgu\\AppData\\Local\\Temp\\ipykernel_6524\\2300309733.py:9: FutureWarning:\n",
      "\n",
      "The behavior of DataFrame concatenation with empty or all-NA entries is deprecated. In a future version, this will no longer exclude empty or all-NA columns when determining the result dtypes. To retain the old behavior, exclude the relevant entries before the concat operation.\n",
      "\n",
      "C:\\Users\\quirosgu\\AppData\\Local\\Temp\\ipykernel_6524\\2300309733.py:9: FutureWarning:\n",
      "\n",
      "The behavior of DataFrame concatenation with empty or all-NA entries is deprecated. In a future version, this will no longer exclude empty or all-NA columns when determining the result dtypes. To retain the old behavior, exclude the relevant entries before the concat operation.\n",
      "\n",
      "C:\\Users\\quirosgu\\AppData\\Local\\Temp\\ipykernel_6524\\2300309733.py:9: FutureWarning:\n",
      "\n",
      "The behavior of DataFrame concatenation with empty or all-NA entries is deprecated. In a future version, this will no longer exclude empty or all-NA columns when determining the result dtypes. To retain the old behavior, exclude the relevant entries before the concat operation.\n",
      "\n",
      "C:\\Users\\quirosgu\\AppData\\Local\\Temp\\ipykernel_6524\\2300309733.py:9: FutureWarning:\n",
      "\n",
      "The behavior of DataFrame concatenation with empty or all-NA entries is deprecated. In a future version, this will no longer exclude empty or all-NA columns when determining the result dtypes. To retain the old behavior, exclude the relevant entries before the concat operation.\n",
      "\n",
      "C:\\Users\\quirosgu\\AppData\\Local\\Temp\\ipykernel_6524\\2300309733.py:9: FutureWarning:\n",
      "\n",
      "The behavior of DataFrame concatenation with empty or all-NA entries is deprecated. In a future version, this will no longer exclude empty or all-NA columns when determining the result dtypes. To retain the old behavior, exclude the relevant entries before the concat operation.\n",
      "\n",
      "C:\\Users\\quirosgu\\AppData\\Local\\Temp\\ipykernel_6524\\2300309733.py:9: FutureWarning:\n",
      "\n",
      "The behavior of DataFrame concatenation with empty or all-NA entries is deprecated. In a future version, this will no longer exclude empty or all-NA columns when determining the result dtypes. To retain the old behavior, exclude the relevant entries before the concat operation.\n",
      "\n",
      "C:\\Users\\quirosgu\\AppData\\Local\\Temp\\ipykernel_6524\\2300309733.py:9: FutureWarning:\n",
      "\n",
      "The behavior of DataFrame concatenation with empty or all-NA entries is deprecated. In a future version, this will no longer exclude empty or all-NA columns when determining the result dtypes. To retain the old behavior, exclude the relevant entries before the concat operation.\n",
      "\n",
      "C:\\Users\\quirosgu\\AppData\\Local\\Temp\\ipykernel_6524\\2300309733.py:9: FutureWarning:\n",
      "\n",
      "The behavior of DataFrame concatenation with empty or all-NA entries is deprecated. In a future version, this will no longer exclude empty or all-NA columns when determining the result dtypes. To retain the old behavior, exclude the relevant entries before the concat operation.\n",
      "\n",
      "C:\\Users\\quirosgu\\AppData\\Local\\Temp\\ipykernel_6524\\2300309733.py:9: FutureWarning:\n",
      "\n",
      "The behavior of DataFrame concatenation with empty or all-NA entries is deprecated. In a future version, this will no longer exclude empty or all-NA columns when determining the result dtypes. To retain the old behavior, exclude the relevant entries before the concat operation.\n",
      "\n",
      "C:\\Users\\quirosgu\\AppData\\Local\\Temp\\ipykernel_6524\\2300309733.py:9: FutureWarning:\n",
      "\n",
      "The behavior of DataFrame concatenation with empty or all-NA entries is deprecated. In a future version, this will no longer exclude empty or all-NA columns when determining the result dtypes. To retain the old behavior, exclude the relevant entries before the concat operation.\n",
      "\n",
      "C:\\Users\\quirosgu\\AppData\\Local\\Temp\\ipykernel_6524\\2300309733.py:9: FutureWarning:\n",
      "\n",
      "The behavior of DataFrame concatenation with empty or all-NA entries is deprecated. In a future version, this will no longer exclude empty or all-NA columns when determining the result dtypes. To retain the old behavior, exclude the relevant entries before the concat operation.\n",
      "\n",
      "C:\\Users\\quirosgu\\AppData\\Local\\Temp\\ipykernel_6524\\2300309733.py:9: FutureWarning:\n",
      "\n",
      "The behavior of DataFrame concatenation with empty or all-NA entries is deprecated. In a future version, this will no longer exclude empty or all-NA columns when determining the result dtypes. To retain the old behavior, exclude the relevant entries before the concat operation.\n",
      "\n",
      "C:\\Users\\quirosgu\\AppData\\Local\\Temp\\ipykernel_6524\\2300309733.py:9: FutureWarning:\n",
      "\n",
      "The behavior of DataFrame concatenation with empty or all-NA entries is deprecated. In a future version, this will no longer exclude empty or all-NA columns when determining the result dtypes. To retain the old behavior, exclude the relevant entries before the concat operation.\n",
      "\n",
      "C:\\Users\\quirosgu\\AppData\\Local\\Temp\\ipykernel_6524\\2300309733.py:9: FutureWarning:\n",
      "\n",
      "The behavior of DataFrame concatenation with empty or all-NA entries is deprecated. In a future version, this will no longer exclude empty or all-NA columns when determining the result dtypes. To retain the old behavior, exclude the relevant entries before the concat operation.\n",
      "\n",
      "C:\\Users\\quirosgu\\AppData\\Local\\Temp\\ipykernel_6524\\2300309733.py:9: FutureWarning:\n",
      "\n",
      "The behavior of DataFrame concatenation with empty or all-NA entries is deprecated. In a future version, this will no longer exclude empty or all-NA columns when determining the result dtypes. To retain the old behavior, exclude the relevant entries before the concat operation.\n",
      "\n",
      "C:\\Users\\quirosgu\\AppData\\Local\\Temp\\ipykernel_6524\\2300309733.py:9: FutureWarning:\n",
      "\n",
      "The behavior of DataFrame concatenation with empty or all-NA entries is deprecated. In a future version, this will no longer exclude empty or all-NA columns when determining the result dtypes. To retain the old behavior, exclude the relevant entries before the concat operation.\n",
      "\n",
      "C:\\Users\\quirosgu\\AppData\\Local\\Temp\\ipykernel_6524\\2300309733.py:9: FutureWarning:\n",
      "\n",
      "The behavior of DataFrame concatenation with empty or all-NA entries is deprecated. In a future version, this will no longer exclude empty or all-NA columns when determining the result dtypes. To retain the old behavior, exclude the relevant entries before the concat operation.\n",
      "\n",
      "C:\\Users\\quirosgu\\AppData\\Local\\Temp\\ipykernel_6524\\2300309733.py:9: FutureWarning:\n",
      "\n",
      "The behavior of DataFrame concatenation with empty or all-NA entries is deprecated. In a future version, this will no longer exclude empty or all-NA columns when determining the result dtypes. To retain the old behavior, exclude the relevant entries before the concat operation.\n",
      "\n",
      "C:\\Users\\quirosgu\\AppData\\Local\\Temp\\ipykernel_6524\\2300309733.py:9: FutureWarning:\n",
      "\n",
      "The behavior of DataFrame concatenation with empty or all-NA entries is deprecated. In a future version, this will no longer exclude empty or all-NA columns when determining the result dtypes. To retain the old behavior, exclude the relevant entries before the concat operation.\n",
      "\n",
      "C:\\Users\\quirosgu\\AppData\\Local\\Temp\\ipykernel_6524\\2300309733.py:9: FutureWarning:\n",
      "\n",
      "The behavior of DataFrame concatenation with empty or all-NA entries is deprecated. In a future version, this will no longer exclude empty or all-NA columns when determining the result dtypes. To retain the old behavior, exclude the relevant entries before the concat operation.\n",
      "\n",
      "C:\\Users\\quirosgu\\AppData\\Local\\Temp\\ipykernel_6524\\2300309733.py:9: FutureWarning:\n",
      "\n",
      "The behavior of DataFrame concatenation with empty or all-NA entries is deprecated. In a future version, this will no longer exclude empty or all-NA columns when determining the result dtypes. To retain the old behavior, exclude the relevant entries before the concat operation.\n",
      "\n",
      "C:\\Users\\quirosgu\\AppData\\Local\\Temp\\ipykernel_6524\\2300309733.py:9: FutureWarning:\n",
      "\n",
      "The behavior of DataFrame concatenation with empty or all-NA entries is deprecated. In a future version, this will no longer exclude empty or all-NA columns when determining the result dtypes. To retain the old behavior, exclude the relevant entries before the concat operation.\n",
      "\n",
      "C:\\Users\\quirosgu\\AppData\\Local\\Temp\\ipykernel_6524\\2300309733.py:9: FutureWarning:\n",
      "\n",
      "The behavior of DataFrame concatenation with empty or all-NA entries is deprecated. In a future version, this will no longer exclude empty or all-NA columns when determining the result dtypes. To retain the old behavior, exclude the relevant entries before the concat operation.\n",
      "\n",
      "C:\\Users\\quirosgu\\AppData\\Local\\Temp\\ipykernel_6524\\2300309733.py:9: FutureWarning:\n",
      "\n",
      "The behavior of DataFrame concatenation with empty or all-NA entries is deprecated. In a future version, this will no longer exclude empty or all-NA columns when determining the result dtypes. To retain the old behavior, exclude the relevant entries before the concat operation.\n",
      "\n",
      "C:\\Users\\quirosgu\\AppData\\Local\\Temp\\ipykernel_6524\\2300309733.py:9: FutureWarning:\n",
      "\n",
      "The behavior of DataFrame concatenation with empty or all-NA entries is deprecated. In a future version, this will no longer exclude empty or all-NA columns when determining the result dtypes. To retain the old behavior, exclude the relevant entries before the concat operation.\n",
      "\n",
      "C:\\Users\\quirosgu\\AppData\\Local\\Temp\\ipykernel_6524\\2300309733.py:9: FutureWarning:\n",
      "\n",
      "The behavior of DataFrame concatenation with empty or all-NA entries is deprecated. In a future version, this will no longer exclude empty or all-NA columns when determining the result dtypes. To retain the old behavior, exclude the relevant entries before the concat operation.\n",
      "\n",
      "C:\\Users\\quirosgu\\AppData\\Local\\Temp\\ipykernel_6524\\2300309733.py:9: FutureWarning:\n",
      "\n",
      "The behavior of DataFrame concatenation with empty or all-NA entries is deprecated. In a future version, this will no longer exclude empty or all-NA columns when determining the result dtypes. To retain the old behavior, exclude the relevant entries before the concat operation.\n",
      "\n",
      "C:\\Users\\quirosgu\\AppData\\Local\\Temp\\ipykernel_6524\\2300309733.py:9: FutureWarning:\n",
      "\n",
      "The behavior of DataFrame concatenation with empty or all-NA entries is deprecated. In a future version, this will no longer exclude empty or all-NA columns when determining the result dtypes. To retain the old behavior, exclude the relevant entries before the concat operation.\n",
      "\n",
      "C:\\Users\\quirosgu\\AppData\\Local\\Temp\\ipykernel_6524\\2300309733.py:9: FutureWarning:\n",
      "\n",
      "The behavior of DataFrame concatenation with empty or all-NA entries is deprecated. In a future version, this will no longer exclude empty or all-NA columns when determining the result dtypes. To retain the old behavior, exclude the relevant entries before the concat operation.\n",
      "\n",
      "C:\\Users\\quirosgu\\AppData\\Local\\Temp\\ipykernel_6524\\2300309733.py:9: FutureWarning:\n",
      "\n",
      "The behavior of DataFrame concatenation with empty or all-NA entries is deprecated. In a future version, this will no longer exclude empty or all-NA columns when determining the result dtypes. To retain the old behavior, exclude the relevant entries before the concat operation.\n",
      "\n",
      "C:\\Users\\quirosgu\\AppData\\Local\\Temp\\ipykernel_6524\\2300309733.py:9: FutureWarning:\n",
      "\n",
      "The behavior of DataFrame concatenation with empty or all-NA entries is deprecated. In a future version, this will no longer exclude empty or all-NA columns when determining the result dtypes. To retain the old behavior, exclude the relevant entries before the concat operation.\n",
      "\n",
      "C:\\Users\\quirosgu\\AppData\\Local\\Temp\\ipykernel_6524\\2300309733.py:9: FutureWarning:\n",
      "\n",
      "The behavior of DataFrame concatenation with empty or all-NA entries is deprecated. In a future version, this will no longer exclude empty or all-NA columns when determining the result dtypes. To retain the old behavior, exclude the relevant entries before the concat operation.\n",
      "\n",
      "C:\\Users\\quirosgu\\AppData\\Local\\Temp\\ipykernel_6524\\2300309733.py:9: FutureWarning:\n",
      "\n",
      "The behavior of DataFrame concatenation with empty or all-NA entries is deprecated. In a future version, this will no longer exclude empty or all-NA columns when determining the result dtypes. To retain the old behavior, exclude the relevant entries before the concat operation.\n",
      "\n",
      "C:\\Users\\quirosgu\\AppData\\Local\\Temp\\ipykernel_6524\\2300309733.py:9: FutureWarning:\n",
      "\n",
      "The behavior of DataFrame concatenation with empty or all-NA entries is deprecated. In a future version, this will no longer exclude empty or all-NA columns when determining the result dtypes. To retain the old behavior, exclude the relevant entries before the concat operation.\n",
      "\n",
      "C:\\Users\\quirosgu\\AppData\\Local\\Temp\\ipykernel_6524\\2300309733.py:9: FutureWarning:\n",
      "\n",
      "The behavior of DataFrame concatenation with empty or all-NA entries is deprecated. In a future version, this will no longer exclude empty or all-NA columns when determining the result dtypes. To retain the old behavior, exclude the relevant entries before the concat operation.\n",
      "\n",
      "C:\\Users\\quirosgu\\AppData\\Local\\Temp\\ipykernel_6524\\2300309733.py:9: FutureWarning:\n",
      "\n",
      "The behavior of DataFrame concatenation with empty or all-NA entries is deprecated. In a future version, this will no longer exclude empty or all-NA columns when determining the result dtypes. To retain the old behavior, exclude the relevant entries before the concat operation.\n",
      "\n",
      "C:\\Users\\quirosgu\\AppData\\Local\\Temp\\ipykernel_6524\\2300309733.py:9: FutureWarning:\n",
      "\n",
      "The behavior of DataFrame concatenation with empty or all-NA entries is deprecated. In a future version, this will no longer exclude empty or all-NA columns when determining the result dtypes. To retain the old behavior, exclude the relevant entries before the concat operation.\n",
      "\n",
      "C:\\Users\\quirosgu\\AppData\\Local\\Temp\\ipykernel_6524\\2300309733.py:9: FutureWarning:\n",
      "\n",
      "The behavior of DataFrame concatenation with empty or all-NA entries is deprecated. In a future version, this will no longer exclude empty or all-NA columns when determining the result dtypes. To retain the old behavior, exclude the relevant entries before the concat operation.\n",
      "\n",
      "C:\\Users\\quirosgu\\AppData\\Local\\Temp\\ipykernel_6524\\2300309733.py:9: FutureWarning:\n",
      "\n",
      "The behavior of DataFrame concatenation with empty or all-NA entries is deprecated. In a future version, this will no longer exclude empty or all-NA columns when determining the result dtypes. To retain the old behavior, exclude the relevant entries before the concat operation.\n",
      "\n",
      "C:\\Users\\quirosgu\\AppData\\Local\\Temp\\ipykernel_6524\\2300309733.py:9: FutureWarning:\n",
      "\n",
      "The behavior of DataFrame concatenation with empty or all-NA entries is deprecated. In a future version, this will no longer exclude empty or all-NA columns when determining the result dtypes. To retain the old behavior, exclude the relevant entries before the concat operation.\n",
      "\n",
      "C:\\Users\\quirosgu\\AppData\\Local\\Temp\\ipykernel_6524\\2300309733.py:9: FutureWarning:\n",
      "\n",
      "The behavior of DataFrame concatenation with empty or all-NA entries is deprecated. In a future version, this will no longer exclude empty or all-NA columns when determining the result dtypes. To retain the old behavior, exclude the relevant entries before the concat operation.\n",
      "\n",
      "C:\\Users\\quirosgu\\AppData\\Local\\Temp\\ipykernel_6524\\2300309733.py:9: FutureWarning:\n",
      "\n",
      "The behavior of DataFrame concatenation with empty or all-NA entries is deprecated. In a future version, this will no longer exclude empty or all-NA columns when determining the result dtypes. To retain the old behavior, exclude the relevant entries before the concat operation.\n",
      "\n",
      "C:\\Users\\quirosgu\\AppData\\Local\\Temp\\ipykernel_6524\\2300309733.py:9: FutureWarning:\n",
      "\n",
      "The behavior of DataFrame concatenation with empty or all-NA entries is deprecated. In a future version, this will no longer exclude empty or all-NA columns when determining the result dtypes. To retain the old behavior, exclude the relevant entries before the concat operation.\n",
      "\n",
      "C:\\Users\\quirosgu\\AppData\\Local\\Temp\\ipykernel_6524\\2300309733.py:9: FutureWarning:\n",
      "\n",
      "The behavior of DataFrame concatenation with empty or all-NA entries is deprecated. In a future version, this will no longer exclude empty or all-NA columns when determining the result dtypes. To retain the old behavior, exclude the relevant entries before the concat operation.\n",
      "\n",
      "C:\\Users\\quirosgu\\AppData\\Local\\Temp\\ipykernel_6524\\2300309733.py:9: FutureWarning:\n",
      "\n",
      "The behavior of DataFrame concatenation with empty or all-NA entries is deprecated. In a future version, this will no longer exclude empty or all-NA columns when determining the result dtypes. To retain the old behavior, exclude the relevant entries before the concat operation.\n",
      "\n",
      "C:\\Users\\quirosgu\\AppData\\Local\\Temp\\ipykernel_6524\\2300309733.py:9: FutureWarning:\n",
      "\n",
      "The behavior of DataFrame concatenation with empty or all-NA entries is deprecated. In a future version, this will no longer exclude empty or all-NA columns when determining the result dtypes. To retain the old behavior, exclude the relevant entries before the concat operation.\n",
      "\n",
      "C:\\Users\\quirosgu\\AppData\\Local\\Temp\\ipykernel_6524\\2300309733.py:9: FutureWarning:\n",
      "\n",
      "The behavior of DataFrame concatenation with empty or all-NA entries is deprecated. In a future version, this will no longer exclude empty or all-NA columns when determining the result dtypes. To retain the old behavior, exclude the relevant entries before the concat operation.\n",
      "\n",
      "C:\\Users\\quirosgu\\AppData\\Local\\Temp\\ipykernel_6524\\2300309733.py:9: FutureWarning:\n",
      "\n",
      "The behavior of DataFrame concatenation with empty or all-NA entries is deprecated. In a future version, this will no longer exclude empty or all-NA columns when determining the result dtypes. To retain the old behavior, exclude the relevant entries before the concat operation.\n",
      "\n",
      "C:\\Users\\quirosgu\\AppData\\Local\\Temp\\ipykernel_6524\\2300309733.py:9: FutureWarning:\n",
      "\n",
      "The behavior of DataFrame concatenation with empty or all-NA entries is deprecated. In a future version, this will no longer exclude empty or all-NA columns when determining the result dtypes. To retain the old behavior, exclude the relevant entries before the concat operation.\n",
      "\n",
      "C:\\Users\\quirosgu\\AppData\\Local\\Temp\\ipykernel_6524\\2300309733.py:9: FutureWarning:\n",
      "\n",
      "The behavior of DataFrame concatenation with empty or all-NA entries is deprecated. In a future version, this will no longer exclude empty or all-NA columns when determining the result dtypes. To retain the old behavior, exclude the relevant entries before the concat operation.\n",
      "\n",
      "C:\\Users\\quirosgu\\AppData\\Local\\Temp\\ipykernel_6524\\2300309733.py:9: FutureWarning:\n",
      "\n",
      "The behavior of DataFrame concatenation with empty or all-NA entries is deprecated. In a future version, this will no longer exclude empty or all-NA columns when determining the result dtypes. To retain the old behavior, exclude the relevant entries before the concat operation.\n",
      "\n",
      "C:\\Users\\quirosgu\\AppData\\Local\\Temp\\ipykernel_6524\\2300309733.py:9: FutureWarning:\n",
      "\n",
      "The behavior of DataFrame concatenation with empty or all-NA entries is deprecated. In a future version, this will no longer exclude empty or all-NA columns when determining the result dtypes. To retain the old behavior, exclude the relevant entries before the concat operation.\n",
      "\n",
      "C:\\Users\\quirosgu\\AppData\\Local\\Temp\\ipykernel_6524\\2300309733.py:9: FutureWarning:\n",
      "\n",
      "The behavior of DataFrame concatenation with empty or all-NA entries is deprecated. In a future version, this will no longer exclude empty or all-NA columns when determining the result dtypes. To retain the old behavior, exclude the relevant entries before the concat operation.\n",
      "\n",
      "C:\\Users\\quirosgu\\AppData\\Local\\Temp\\ipykernel_6524\\2300309733.py:9: FutureWarning:\n",
      "\n",
      "The behavior of DataFrame concatenation with empty or all-NA entries is deprecated. In a future version, this will no longer exclude empty or all-NA columns when determining the result dtypes. To retain the old behavior, exclude the relevant entries before the concat operation.\n",
      "\n",
      "C:\\Users\\quirosgu\\AppData\\Local\\Temp\\ipykernel_6524\\2300309733.py:9: FutureWarning:\n",
      "\n",
      "The behavior of DataFrame concatenation with empty or all-NA entries is deprecated. In a future version, this will no longer exclude empty or all-NA columns when determining the result dtypes. To retain the old behavior, exclude the relevant entries before the concat operation.\n",
      "\n",
      "C:\\Users\\quirosgu\\AppData\\Local\\Temp\\ipykernel_6524\\2300309733.py:9: FutureWarning:\n",
      "\n",
      "The behavior of DataFrame concatenation with empty or all-NA entries is deprecated. In a future version, this will no longer exclude empty or all-NA columns when determining the result dtypes. To retain the old behavior, exclude the relevant entries before the concat operation.\n",
      "\n",
      "C:\\Users\\quirosgu\\AppData\\Local\\Temp\\ipykernel_6524\\2300309733.py:9: FutureWarning:\n",
      "\n",
      "The behavior of DataFrame concatenation with empty or all-NA entries is deprecated. In a future version, this will no longer exclude empty or all-NA columns when determining the result dtypes. To retain the old behavior, exclude the relevant entries before the concat operation.\n",
      "\n",
      "C:\\Users\\quirosgu\\AppData\\Local\\Temp\\ipykernel_6524\\2300309733.py:9: FutureWarning:\n",
      "\n",
      "The behavior of DataFrame concatenation with empty or all-NA entries is deprecated. In a future version, this will no longer exclude empty or all-NA columns when determining the result dtypes. To retain the old behavior, exclude the relevant entries before the concat operation.\n",
      "\n",
      "C:\\Users\\quirosgu\\AppData\\Local\\Temp\\ipykernel_6524\\2300309733.py:9: FutureWarning:\n",
      "\n",
      "The behavior of DataFrame concatenation with empty or all-NA entries is deprecated. In a future version, this will no longer exclude empty or all-NA columns when determining the result dtypes. To retain the old behavior, exclude the relevant entries before the concat operation.\n",
      "\n",
      "C:\\Users\\quirosgu\\AppData\\Local\\Temp\\ipykernel_6524\\2300309733.py:9: FutureWarning:\n",
      "\n",
      "The behavior of DataFrame concatenation with empty or all-NA entries is deprecated. In a future version, this will no longer exclude empty or all-NA columns when determining the result dtypes. To retain the old behavior, exclude the relevant entries before the concat operation.\n",
      "\n",
      "C:\\Users\\quirosgu\\AppData\\Local\\Temp\\ipykernel_6524\\2300309733.py:9: FutureWarning:\n",
      "\n",
      "The behavior of DataFrame concatenation with empty or all-NA entries is deprecated. In a future version, this will no longer exclude empty or all-NA columns when determining the result dtypes. To retain the old behavior, exclude the relevant entries before the concat operation.\n",
      "\n",
      "C:\\Users\\quirosgu\\AppData\\Local\\Temp\\ipykernel_6524\\2300309733.py:9: FutureWarning:\n",
      "\n",
      "The behavior of DataFrame concatenation with empty or all-NA entries is deprecated. In a future version, this will no longer exclude empty or all-NA columns when determining the result dtypes. To retain the old behavior, exclude the relevant entries before the concat operation.\n",
      "\n",
      "C:\\Users\\quirosgu\\AppData\\Local\\Temp\\ipykernel_6524\\2300309733.py:9: FutureWarning:\n",
      "\n",
      "The behavior of DataFrame concatenation with empty or all-NA entries is deprecated. In a future version, this will no longer exclude empty or all-NA columns when determining the result dtypes. To retain the old behavior, exclude the relevant entries before the concat operation.\n",
      "\n",
      "C:\\Users\\quirosgu\\AppData\\Local\\Temp\\ipykernel_6524\\2300309733.py:9: FutureWarning:\n",
      "\n",
      "The behavior of DataFrame concatenation with empty or all-NA entries is deprecated. In a future version, this will no longer exclude empty or all-NA columns when determining the result dtypes. To retain the old behavior, exclude the relevant entries before the concat operation.\n",
      "\n",
      "C:\\Users\\quirosgu\\AppData\\Local\\Temp\\ipykernel_6524\\2300309733.py:9: FutureWarning:\n",
      "\n",
      "The behavior of DataFrame concatenation with empty or all-NA entries is deprecated. In a future version, this will no longer exclude empty or all-NA columns when determining the result dtypes. To retain the old behavior, exclude the relevant entries before the concat operation.\n",
      "\n",
      "C:\\Users\\quirosgu\\AppData\\Local\\Temp\\ipykernel_6524\\2300309733.py:9: FutureWarning:\n",
      "\n",
      "The behavior of DataFrame concatenation with empty or all-NA entries is deprecated. In a future version, this will no longer exclude empty or all-NA columns when determining the result dtypes. To retain the old behavior, exclude the relevant entries before the concat operation.\n",
      "\n",
      "C:\\Users\\quirosgu\\AppData\\Local\\Temp\\ipykernel_6524\\2300309733.py:34: FutureWarning:\n",
      "\n",
      "The default of observed=False is deprecated and will be changed to True in a future version of pandas. Pass observed=False to retain current behavior or observed=True to adopt the future default and silence this warning.\n",
      "\n"
     ]
    },
    {
     "data": {
      "application/vnd.plotly.v1+json": {
       "config": {
        "plotlyServerURL": "https://plot.ly"
       },
       "data": [
        {
         "alignmentgroup": "True",
         "hovertemplate": "Pathway=Alkaloids<br>Recurrence=%{x}<br>species=%{y}<extra></extra>",
         "legendgroup": "Alkaloids",
         "marker": {
          "color": "#305F72",
          "pattern": {
           "shape": ""
          }
         },
         "name": "Alkaloids",
         "offsetgroup": "Alkaloids",
         "orientation": "h",
         "showlegend": true,
         "textposition": "auto",
         "type": "bar",
         "x": [
          10,
          10,
          100
         ],
         "xaxis": "x",
         "y": [
          "Swertia angustifolia",
          "Swertia ciliata",
          "Swertia marginata"
         ],
         "yaxis": "y"
        },
        {
         "alignmentgroup": "True",
         "hovertemplate": "Pathway=Carbohydrates<br>Recurrence=%{x}<br>species=%{y}<extra></extra>",
         "legendgroup": "Carbohydrates",
         "marker": {
          "color": "#65451F",
          "pattern": {
           "shape": ""
          }
         },
         "name": "Carbohydrates",
         "offsetgroup": "Carbohydrates",
         "orientation": "h",
         "showlegend": true,
         "textposition": "auto",
         "type": "bar",
         "x": [
          14.285714285714285,
          28.57142857142857,
          3.225806451612903
         ],
         "xaxis": "x",
         "y": [
          "Swertia obtusa",
          "Swertia pubescens",
          "Swertia punicea"
         ],
         "yaxis": "y"
        },
        {
         "alignmentgroup": "True",
         "hovertemplate": "Pathway=Fatty acids<br>Recurrence=%{x}<br>species=%{y}<extra></extra>",
         "legendgroup": "Fatty acids",
         "marker": {
          "color": "#FF6C22",
          "pattern": {
           "shape": ""
          }
         },
         "name": "Fatty acids",
         "offsetgroup": "Fatty acids",
         "orientation": "h",
         "showlegend": true,
         "textposition": "auto",
         "type": "bar",
         "x": [
          3.597122302158273
         ],
         "xaxis": "x",
         "y": [
          "Swertia japonica"
         ],
         "yaxis": "y"
        },
        {
         "alignmentgroup": "True",
         "hovertemplate": "Pathway=Polyketides<br>Recurrence=%{x}<br>species=%{y}<extra></extra>",
         "legendgroup": "Polyketides",
         "marker": {
          "color": "#EF4B4B",
          "pattern": {
           "shape": ""
          }
         },
         "name": "Polyketides",
         "offsetgroup": "Polyketides",
         "orientation": "h",
         "showlegend": true,
         "textposition": "auto",
         "type": "bar",
         "x": [
          50,
          25,
          16.39344262295082,
          20,
          8.333333333333332,
          100,
          42.857142857142854,
          100,
          50,
          100,
          40,
          83.33333333333334,
          10.071942446043165,
          100,
          4.25531914893617,
          28.57142857142857,
          50,
          28.57142857142857,
          14.285714285714285,
          18.181818181818183,
          27.77777777777778,
          16.129032258064516,
          100,
          21.428571428571427,
          50,
          100,
          50
         ],
         "xaxis": "x",
         "y": [
          "Swertia bimaculata",
          "Swertia calycina",
          "Swertia chirayita",
          "Swertia ciliata",
          "Swertia corymbosa",
          "Swertia davidii",
          "Swertia decora",
          "Swertia densifolia",
          "Swertia dilatata",
          "Swertia erythrosticta",
          "Swertia hookeri",
          "Swertia iberica",
          "Swertia japonica",
          "Swertia lawii",
          "Swertia leducii",
          "Swertia macrosperma",
          "Swertia nervosa",
          "Swertia obtusa",
          "Swertia paniculata",
          "Swertia perennis",
          "Swertia pseudochinensis",
          "Swertia punicea",
          "Swertia racemosa",
          "Swertia souliei",
          "Swertia swertopsis",
          "Swertia teres",
          "Swertia thomsonii"
         ],
         "yaxis": "y"
        },
        {
         "alignmentgroup": "True",
         "hovertemplate": "Pathway=Shikimates and Phenylpropanoids<br>Recurrence=%{x}<br>species=%{y}<extra></extra>",
         "legendgroup": "Shikimates and Phenylpropanoids",
         "marker": {
          "color": "#80558C",
          "pattern": {
           "shape": ""
          }
         },
         "name": "Shikimates and Phenylpropanoids",
         "offsetgroup": "Shikimates and Phenylpropanoids",
         "orientation": "h",
         "showlegend": true,
         "textposition": "auto",
         "type": "bar",
         "x": [
          20,
          50,
          50,
          24.59016393442623,
          40,
          50,
          100,
          16.666666666666664,
          100,
          28.57142857142857,
          50,
          50,
          50,
          13.333333333333334,
          60,
          16.666666666666664,
          28.05755395683453,
          100,
          17.02127659574468,
          28.57142857142857,
          75,
          25,
          28.57142857142857,
          57.14285714285714,
          81.81818181818183,
          54.54545454545454,
          44.44444444444444,
          28.57142857142857,
          58.06451612903226,
          14.285714285714285,
          50,
          66.66666666666666,
          100
         ],
         "xaxis": "x",
         "y": [
          "Swertia angustifolia",
          "Swertia bimaculata",
          "Swertia calycina",
          "Swertia chirayita",
          "Swertia ciliata",
          "Swertia cincta",
          "Swertia cordata",
          "Swertia corymbosa",
          "Swertia cuneata",
          "Swertia decora",
          "Swertia delavayi",
          "Swertia dilatata",
          "Swertia fasciculata",
          "Swertia franchetiana",
          "Swertia hookeri",
          "Swertia iberica",
          "Swertia japonica",
          "Swertia kouitchensis",
          "Swertia leducii",
          "Swertia macrosperma",
          "Swertia mussotii",
          "Swertia nervosa",
          "Swertia obtusa",
          "Swertia paniculata",
          "Swertia perennis",
          "Swertia petiolata",
          "Swertia pseudochinensis",
          "Swertia pubescens",
          "Swertia punicea",
          "Swertia souliei",
          "Swertia swertopsis",
          "Swertia tetrapetala",
          "Swertia tosaensis"
         ],
         "yaxis": "y"
        },
        {
         "alignmentgroup": "True",
         "hovertemplate": "Pathway=Terpenoids<br>Recurrence=%{x}<br>species=%{y}<extra></extra>",
         "legendgroup": "Terpenoids",
         "marker": {
          "color": "#618264",
          "pattern": {
           "shape": ""
          }
         },
         "name": "Terpenoids",
         "offsetgroup": "Terpenoids",
         "orientation": "h",
         "showlegend": true,
         "textposition": "auto",
         "type": "bar",
         "x": [
          100,
          70,
          100,
          25,
          100,
          59.01639344262295,
          30,
          50,
          75,
          28.57142857142857,
          50,
          50,
          86.66666666666667,
          58.27338129496403,
          78.72340425531915,
          42.857142857142854,
          25,
          25,
          28.57142857142857,
          28.57142857142857,
          45.45454545454545,
          100,
          27.77777777777778,
          42.857142857142854,
          22.58064516129032,
          64.28571428571429,
          33.33333333333333,
          50,
          100
         ],
         "xaxis": "x",
         "y": [
          "Swertia alata",
          "Swertia angustifolia",
          "Swertia arisanensis",
          "Swertia calycina",
          "Swertia chinensis",
          "Swertia chirayita",
          "Swertia ciliata",
          "Swertia cincta",
          "Swertia corymbosa",
          "Swertia decora",
          "Swertia delavayi",
          "Swertia fasciculata",
          "Swertia franchetiana",
          "Swertia japonica",
          "Swertia leducii",
          "Swertia macrosperma",
          "Swertia mussotii",
          "Swertia nervosa",
          "Swertia obtusa",
          "Swertia paniculata",
          "Swertia petiolata",
          "Swertia przewalskii",
          "Swertia pseudochinensis",
          "Swertia pubescens",
          "Swertia punicea",
          "Swertia souliei",
          "Swertia tetrapetala",
          "Swertia thomsonii",
          "Swertia verticillifolia"
         ],
         "yaxis": "y"
        }
       ],
       "layout": {
        "annotations": [
         {
          "font": {
           "color": "black",
           "size": 10
          },
          "showarrow": false,
          "text": "Total compounds: 1",
          "x": 100,
          "xanchor": "left",
          "y": "Swertia alata",
          "yanchor": "middle"
         },
         {
          "font": {
           "color": "black",
           "size": 10
          },
          "showarrow": false,
          "text": "Total compounds: 10",
          "x": 100,
          "xanchor": "left",
          "y": "Swertia angustifolia",
          "yanchor": "middle"
         },
         {
          "font": {
           "color": "black",
           "size": 10
          },
          "showarrow": false,
          "text": "Total compounds: 3",
          "x": 100,
          "xanchor": "left",
          "y": "Swertia arisanensis",
          "yanchor": "middle"
         },
         {
          "font": {
           "color": "black",
           "size": 10
          },
          "showarrow": false,
          "text": "Total compounds: 2",
          "x": 100,
          "xanchor": "left",
          "y": "Swertia bimaculata",
          "yanchor": "middle"
         },
         {
          "font": {
           "color": "black",
           "size": 10
          },
          "showarrow": false,
          "text": "Total compounds: 16",
          "x": 100,
          "xanchor": "left",
          "y": "Swertia calycina",
          "yanchor": "middle"
         },
         {
          "font": {
           "color": "black",
           "size": 10
          },
          "showarrow": false,
          "text": "Total compounds: 2",
          "x": 100,
          "xanchor": "left",
          "y": "Swertia chinensis",
          "yanchor": "middle"
         },
         {
          "font": {
           "color": "black",
           "size": 10
          },
          "showarrow": false,
          "text": "Total compounds: 61",
          "x": 100,
          "xanchor": "left",
          "y": "Swertia chirayita",
          "yanchor": "middle"
         },
         {
          "font": {
           "color": "black",
           "size": 10
          },
          "showarrow": false,
          "text": "Total compounds: 20",
          "x": 100,
          "xanchor": "left",
          "y": "Swertia ciliata",
          "yanchor": "middle"
         },
         {
          "font": {
           "color": "black",
           "size": 10
          },
          "showarrow": false,
          "text": "Total compounds: 2",
          "x": 100,
          "xanchor": "left",
          "y": "Swertia cincta",
          "yanchor": "middle"
         },
         {
          "font": {
           "color": "black",
           "size": 10
          },
          "showarrow": false,
          "text": "Total compounds: 1",
          "x": 100,
          "xanchor": "left",
          "y": "Swertia cordata",
          "yanchor": "middle"
         },
         {
          "font": {
           "color": "black",
           "size": 10
          },
          "showarrow": false,
          "text": "Total compounds: 12",
          "x": 100,
          "xanchor": "left",
          "y": "Swertia corymbosa",
          "yanchor": "middle"
         },
         {
          "font": {
           "color": "black",
           "size": 10
          },
          "showarrow": false,
          "text": "Total compounds: 1",
          "x": 100,
          "xanchor": "left",
          "y": "Swertia cuneata",
          "yanchor": "middle"
         },
         {
          "font": {
           "color": "black",
           "size": 10
          },
          "showarrow": false,
          "text": "Total compounds: 1",
          "x": 100,
          "xanchor": "left",
          "y": "Swertia davidii",
          "yanchor": "middle"
         },
         {
          "font": {
           "color": "black",
           "size": 10
          },
          "showarrow": false,
          "text": "Total compounds: 7",
          "x": 100,
          "xanchor": "left",
          "y": "Swertia decora",
          "yanchor": "middle"
         },
         {
          "font": {
           "color": "black",
           "size": 10
          },
          "showarrow": false,
          "text": "Total compounds: 4",
          "x": 100,
          "xanchor": "left",
          "y": "Swertia delavayi",
          "yanchor": "middle"
         },
         {
          "font": {
           "color": "black",
           "size": 10
          },
          "showarrow": false,
          "text": "Total compounds: 6",
          "x": 100,
          "xanchor": "left",
          "y": "Swertia densifolia",
          "yanchor": "middle"
         },
         {
          "font": {
           "color": "black",
           "size": 10
          },
          "showarrow": false,
          "text": "Total compounds: 2",
          "x": 100,
          "xanchor": "left",
          "y": "Swertia dilatata",
          "yanchor": "middle"
         },
         {
          "font": {
           "color": "black",
           "size": 10
          },
          "showarrow": false,
          "text": "Total compounds: 1",
          "x": 100,
          "xanchor": "left",
          "y": "Swertia erythrosticta",
          "yanchor": "middle"
         },
         {
          "font": {
           "color": "black",
           "size": 10
          },
          "showarrow": false,
          "text": "Total compounds: 2",
          "x": 100,
          "xanchor": "left",
          "y": "Swertia fasciculata",
          "yanchor": "middle"
         },
         {
          "font": {
           "color": "black",
           "size": 10
          },
          "showarrow": false,
          "text": "Total compounds: 15",
          "x": 100,
          "xanchor": "left",
          "y": "Swertia franchetiana",
          "yanchor": "middle"
         },
         {
          "font": {
           "color": "black",
           "size": 10
          },
          "showarrow": false,
          "text": "Total compounds: 10",
          "x": 100,
          "xanchor": "left",
          "y": "Swertia hookeri",
          "yanchor": "middle"
         },
         {
          "font": {
           "color": "black",
           "size": 10
          },
          "showarrow": false,
          "text": "Total compounds: 6",
          "x": 100,
          "xanchor": "left",
          "y": "Swertia iberica",
          "yanchor": "middle"
         },
         {
          "font": {
           "color": "black",
           "size": 10
          },
          "showarrow": false,
          "text": "Total compounds: 139",
          "x": 100,
          "xanchor": "left",
          "y": "Swertia japonica",
          "yanchor": "middle"
         },
         {
          "font": {
           "color": "black",
           "size": 10
          },
          "showarrow": false,
          "text": "Total compounds: 13",
          "x": 100,
          "xanchor": "left",
          "y": "Swertia kouitchensis",
          "yanchor": "middle"
         },
         {
          "font": {
           "color": "black",
           "size": 10
          },
          "showarrow": false,
          "text": "Total compounds: 2",
          "x": 100,
          "xanchor": "left",
          "y": "Swertia lawii",
          "yanchor": "middle"
         },
         {
          "font": {
           "color": "black",
           "size": 10
          },
          "showarrow": false,
          "text": "Total compounds: 47",
          "x": 100,
          "xanchor": "left",
          "y": "Swertia leducii",
          "yanchor": "middle"
         },
         {
          "font": {
           "color": "black",
           "size": 10
          },
          "showarrow": false,
          "text": "Total compounds: 7",
          "x": 100,
          "xanchor": "left",
          "y": "Swertia macrosperma",
          "yanchor": "middle"
         },
         {
          "font": {
           "color": "black",
           "size": 10
          },
          "showarrow": false,
          "text": "Total compounds: 1",
          "x": 100,
          "xanchor": "left",
          "y": "Swertia marginata",
          "yanchor": "middle"
         },
         {
          "font": {
           "color": "black",
           "size": 10
          },
          "showarrow": false,
          "text": "Total compounds: 4",
          "x": 100,
          "xanchor": "left",
          "y": "Swertia mussotii",
          "yanchor": "middle"
         },
         {
          "font": {
           "color": "black",
           "size": 10
          },
          "showarrow": false,
          "text": "Total compounds: 4",
          "x": 100,
          "xanchor": "left",
          "y": "Swertia nervosa",
          "yanchor": "middle"
         },
         {
          "font": {
           "color": "black",
           "size": 10
          },
          "showarrow": false,
          "text": "Total compounds: 7",
          "x": 100,
          "xanchor": "left",
          "y": "Swertia obtusa",
          "yanchor": "middle"
         },
         {
          "font": {
           "color": "black",
           "size": 10
          },
          "showarrow": false,
          "text": "Total compounds: 7",
          "x": 100,
          "xanchor": "left",
          "y": "Swertia paniculata",
          "yanchor": "middle"
         },
         {
          "font": {
           "color": "black",
           "size": 10
          },
          "showarrow": false,
          "text": "Total compounds: 11",
          "x": 100,
          "xanchor": "left",
          "y": "Swertia perennis",
          "yanchor": "middle"
         },
         {
          "font": {
           "color": "black",
           "size": 10
          },
          "showarrow": false,
          "text": "Total compounds: 11",
          "x": 100,
          "xanchor": "left",
          "y": "Swertia petiolata",
          "yanchor": "middle"
         },
         {
          "font": {
           "color": "black",
           "size": 10
          },
          "showarrow": false,
          "text": "Total compounds: 1",
          "x": 100,
          "xanchor": "left",
          "y": "Swertia przewalskii",
          "yanchor": "middle"
         },
         {
          "font": {
           "color": "black",
           "size": 10
          },
          "showarrow": false,
          "text": "Total compounds: 18",
          "x": 100,
          "xanchor": "left",
          "y": "Swertia pseudochinensis",
          "yanchor": "middle"
         },
         {
          "font": {
           "color": "black",
           "size": 10
          },
          "showarrow": false,
          "text": "Total compounds: 7",
          "x": 100,
          "xanchor": "left",
          "y": "Swertia pubescens",
          "yanchor": "middle"
         },
         {
          "font": {
           "color": "black",
           "size": 10
          },
          "showarrow": false,
          "text": "Total compounds: 31",
          "x": 100,
          "xanchor": "left",
          "y": "Swertia punicea",
          "yanchor": "middle"
         },
         {
          "font": {
           "color": "black",
           "size": 10
          },
          "showarrow": false,
          "text": "Total compounds: 1",
          "x": 100,
          "xanchor": "left",
          "y": "Swertia racemosa",
          "yanchor": "middle"
         },
         {
          "font": {
           "color": "black",
           "size": 10
          },
          "showarrow": false,
          "text": "Total compounds: 14",
          "x": 100,
          "xanchor": "left",
          "y": "Swertia souliei",
          "yanchor": "middle"
         },
         {
          "font": {
           "color": "black",
           "size": 10
          },
          "showarrow": false,
          "text": "Total compounds: 8",
          "x": 100,
          "xanchor": "left",
          "y": "Swertia swertopsis",
          "yanchor": "middle"
         },
         {
          "font": {
           "color": "black",
           "size": 10
          },
          "showarrow": false,
          "text": "Total compounds: 1",
          "x": 100,
          "xanchor": "left",
          "y": "Swertia teres",
          "yanchor": "middle"
         },
         {
          "font": {
           "color": "black",
           "size": 10
          },
          "showarrow": false,
          "text": "Total compounds: 3",
          "x": 100,
          "xanchor": "left",
          "y": "Swertia tetrapetala",
          "yanchor": "middle"
         },
         {
          "font": {
           "color": "black",
           "size": 10
          },
          "showarrow": false,
          "text": "Total compounds: 2",
          "x": 100,
          "xanchor": "left",
          "y": "Swertia thomsonii",
          "yanchor": "middle"
         },
         {
          "font": {
           "color": "black",
           "size": 10
          },
          "showarrow": false,
          "text": "Total compounds: 1",
          "x": 100,
          "xanchor": "left",
          "y": "Swertia tosaensis",
          "yanchor": "middle"
         },
         {
          "font": {
           "color": "black",
           "size": 10
          },
          "showarrow": false,
          "text": "Total compounds: 2",
          "x": 100,
          "xanchor": "left",
          "y": "Swertia verticillifolia",
          "yanchor": "middle"
         }
        ],
        "barmode": "relative",
        "height": 1500,
        "legend": {
         "title": {
          "text": "Pathway"
         },
         "tracegroupgap": 0
        },
        "plot_bgcolor": "white",
        "template": {
         "data": {
          "bar": [
           {
            "error_x": {
             "color": "#2a3f5f"
            },
            "error_y": {
             "color": "#2a3f5f"
            },
            "marker": {
             "line": {
              "color": "#E5ECF6",
              "width": 0.5
             },
             "pattern": {
              "fillmode": "overlay",
              "size": 10,
              "solidity": 0.2
             }
            },
            "type": "bar"
           }
          ],
          "barpolar": [
           {
            "marker": {
             "line": {
              "color": "#E5ECF6",
              "width": 0.5
             },
             "pattern": {
              "fillmode": "overlay",
              "size": 10,
              "solidity": 0.2
             }
            },
            "type": "barpolar"
           }
          ],
          "carpet": [
           {
            "aaxis": {
             "endlinecolor": "#2a3f5f",
             "gridcolor": "white",
             "linecolor": "white",
             "minorgridcolor": "white",
             "startlinecolor": "#2a3f5f"
            },
            "baxis": {
             "endlinecolor": "#2a3f5f",
             "gridcolor": "white",
             "linecolor": "white",
             "minorgridcolor": "white",
             "startlinecolor": "#2a3f5f"
            },
            "type": "carpet"
           }
          ],
          "choropleth": [
           {
            "colorbar": {
             "outlinewidth": 0,
             "ticks": ""
            },
            "type": "choropleth"
           }
          ],
          "contour": [
           {
            "colorbar": {
             "outlinewidth": 0,
             "ticks": ""
            },
            "colorscale": [
             [
              0,
              "#0d0887"
             ],
             [
              0.1111111111111111,
              "#46039f"
             ],
             [
              0.2222222222222222,
              "#7201a8"
             ],
             [
              0.3333333333333333,
              "#9c179e"
             ],
             [
              0.4444444444444444,
              "#bd3786"
             ],
             [
              0.5555555555555556,
              "#d8576b"
             ],
             [
              0.6666666666666666,
              "#ed7953"
             ],
             [
              0.7777777777777778,
              "#fb9f3a"
             ],
             [
              0.8888888888888888,
              "#fdca26"
             ],
             [
              1,
              "#f0f921"
             ]
            ],
            "type": "contour"
           }
          ],
          "contourcarpet": [
           {
            "colorbar": {
             "outlinewidth": 0,
             "ticks": ""
            },
            "type": "contourcarpet"
           }
          ],
          "heatmap": [
           {
            "colorbar": {
             "outlinewidth": 0,
             "ticks": ""
            },
            "colorscale": [
             [
              0,
              "#0d0887"
             ],
             [
              0.1111111111111111,
              "#46039f"
             ],
             [
              0.2222222222222222,
              "#7201a8"
             ],
             [
              0.3333333333333333,
              "#9c179e"
             ],
             [
              0.4444444444444444,
              "#bd3786"
             ],
             [
              0.5555555555555556,
              "#d8576b"
             ],
             [
              0.6666666666666666,
              "#ed7953"
             ],
             [
              0.7777777777777778,
              "#fb9f3a"
             ],
             [
              0.8888888888888888,
              "#fdca26"
             ],
             [
              1,
              "#f0f921"
             ]
            ],
            "type": "heatmap"
           }
          ],
          "heatmapgl": [
           {
            "colorbar": {
             "outlinewidth": 0,
             "ticks": ""
            },
            "colorscale": [
             [
              0,
              "#0d0887"
             ],
             [
              0.1111111111111111,
              "#46039f"
             ],
             [
              0.2222222222222222,
              "#7201a8"
             ],
             [
              0.3333333333333333,
              "#9c179e"
             ],
             [
              0.4444444444444444,
              "#bd3786"
             ],
             [
              0.5555555555555556,
              "#d8576b"
             ],
             [
              0.6666666666666666,
              "#ed7953"
             ],
             [
              0.7777777777777778,
              "#fb9f3a"
             ],
             [
              0.8888888888888888,
              "#fdca26"
             ],
             [
              1,
              "#f0f921"
             ]
            ],
            "type": "heatmapgl"
           }
          ],
          "histogram": [
           {
            "marker": {
             "pattern": {
              "fillmode": "overlay",
              "size": 10,
              "solidity": 0.2
             }
            },
            "type": "histogram"
           }
          ],
          "histogram2d": [
           {
            "colorbar": {
             "outlinewidth": 0,
             "ticks": ""
            },
            "colorscale": [
             [
              0,
              "#0d0887"
             ],
             [
              0.1111111111111111,
              "#46039f"
             ],
             [
              0.2222222222222222,
              "#7201a8"
             ],
             [
              0.3333333333333333,
              "#9c179e"
             ],
             [
              0.4444444444444444,
              "#bd3786"
             ],
             [
              0.5555555555555556,
              "#d8576b"
             ],
             [
              0.6666666666666666,
              "#ed7953"
             ],
             [
              0.7777777777777778,
              "#fb9f3a"
             ],
             [
              0.8888888888888888,
              "#fdca26"
             ],
             [
              1,
              "#f0f921"
             ]
            ],
            "type": "histogram2d"
           }
          ],
          "histogram2dcontour": [
           {
            "colorbar": {
             "outlinewidth": 0,
             "ticks": ""
            },
            "colorscale": [
             [
              0,
              "#0d0887"
             ],
             [
              0.1111111111111111,
              "#46039f"
             ],
             [
              0.2222222222222222,
              "#7201a8"
             ],
             [
              0.3333333333333333,
              "#9c179e"
             ],
             [
              0.4444444444444444,
              "#bd3786"
             ],
             [
              0.5555555555555556,
              "#d8576b"
             ],
             [
              0.6666666666666666,
              "#ed7953"
             ],
             [
              0.7777777777777778,
              "#fb9f3a"
             ],
             [
              0.8888888888888888,
              "#fdca26"
             ],
             [
              1,
              "#f0f921"
             ]
            ],
            "type": "histogram2dcontour"
           }
          ],
          "mesh3d": [
           {
            "colorbar": {
             "outlinewidth": 0,
             "ticks": ""
            },
            "type": "mesh3d"
           }
          ],
          "parcoords": [
           {
            "line": {
             "colorbar": {
              "outlinewidth": 0,
              "ticks": ""
             }
            },
            "type": "parcoords"
           }
          ],
          "pie": [
           {
            "automargin": true,
            "type": "pie"
           }
          ],
          "scatter": [
           {
            "fillpattern": {
             "fillmode": "overlay",
             "size": 10,
             "solidity": 0.2
            },
            "type": "scatter"
           }
          ],
          "scatter3d": [
           {
            "line": {
             "colorbar": {
              "outlinewidth": 0,
              "ticks": ""
             }
            },
            "marker": {
             "colorbar": {
              "outlinewidth": 0,
              "ticks": ""
             }
            },
            "type": "scatter3d"
           }
          ],
          "scattercarpet": [
           {
            "marker": {
             "colorbar": {
              "outlinewidth": 0,
              "ticks": ""
             }
            },
            "type": "scattercarpet"
           }
          ],
          "scattergeo": [
           {
            "marker": {
             "colorbar": {
              "outlinewidth": 0,
              "ticks": ""
             }
            },
            "type": "scattergeo"
           }
          ],
          "scattergl": [
           {
            "marker": {
             "colorbar": {
              "outlinewidth": 0,
              "ticks": ""
             }
            },
            "type": "scattergl"
           }
          ],
          "scattermapbox": [
           {
            "marker": {
             "colorbar": {
              "outlinewidth": 0,
              "ticks": ""
             }
            },
            "type": "scattermapbox"
           }
          ],
          "scatterpolar": [
           {
            "marker": {
             "colorbar": {
              "outlinewidth": 0,
              "ticks": ""
             }
            },
            "type": "scatterpolar"
           }
          ],
          "scatterpolargl": [
           {
            "marker": {
             "colorbar": {
              "outlinewidth": 0,
              "ticks": ""
             }
            },
            "type": "scatterpolargl"
           }
          ],
          "scatterternary": [
           {
            "marker": {
             "colorbar": {
              "outlinewidth": 0,
              "ticks": ""
             }
            },
            "type": "scatterternary"
           }
          ],
          "surface": [
           {
            "colorbar": {
             "outlinewidth": 0,
             "ticks": ""
            },
            "colorscale": [
             [
              0,
              "#0d0887"
             ],
             [
              0.1111111111111111,
              "#46039f"
             ],
             [
              0.2222222222222222,
              "#7201a8"
             ],
             [
              0.3333333333333333,
              "#9c179e"
             ],
             [
              0.4444444444444444,
              "#bd3786"
             ],
             [
              0.5555555555555556,
              "#d8576b"
             ],
             [
              0.6666666666666666,
              "#ed7953"
             ],
             [
              0.7777777777777778,
              "#fb9f3a"
             ],
             [
              0.8888888888888888,
              "#fdca26"
             ],
             [
              1,
              "#f0f921"
             ]
            ],
            "type": "surface"
           }
          ],
          "table": [
           {
            "cells": {
             "fill": {
              "color": "#EBF0F8"
             },
             "line": {
              "color": "white"
             }
            },
            "header": {
             "fill": {
              "color": "#C8D4E3"
             },
             "line": {
              "color": "white"
             }
            },
            "type": "table"
           }
          ]
         },
         "layout": {
          "annotationdefaults": {
           "arrowcolor": "#2a3f5f",
           "arrowhead": 0,
           "arrowwidth": 1
          },
          "autotypenumbers": "strict",
          "coloraxis": {
           "colorbar": {
            "outlinewidth": 0,
            "ticks": ""
           }
          },
          "colorscale": {
           "diverging": [
            [
             0,
             "#8e0152"
            ],
            [
             0.1,
             "#c51b7d"
            ],
            [
             0.2,
             "#de77ae"
            ],
            [
             0.3,
             "#f1b6da"
            ],
            [
             0.4,
             "#fde0ef"
            ],
            [
             0.5,
             "#f7f7f7"
            ],
            [
             0.6,
             "#e6f5d0"
            ],
            [
             0.7,
             "#b8e186"
            ],
            [
             0.8,
             "#7fbc41"
            ],
            [
             0.9,
             "#4d9221"
            ],
            [
             1,
             "#276419"
            ]
           ],
           "sequential": [
            [
             0,
             "#0d0887"
            ],
            [
             0.1111111111111111,
             "#46039f"
            ],
            [
             0.2222222222222222,
             "#7201a8"
            ],
            [
             0.3333333333333333,
             "#9c179e"
            ],
            [
             0.4444444444444444,
             "#bd3786"
            ],
            [
             0.5555555555555556,
             "#d8576b"
            ],
            [
             0.6666666666666666,
             "#ed7953"
            ],
            [
             0.7777777777777778,
             "#fb9f3a"
            ],
            [
             0.8888888888888888,
             "#fdca26"
            ],
            [
             1,
             "#f0f921"
            ]
           ],
           "sequentialminus": [
            [
             0,
             "#0d0887"
            ],
            [
             0.1111111111111111,
             "#46039f"
            ],
            [
             0.2222222222222222,
             "#7201a8"
            ],
            [
             0.3333333333333333,
             "#9c179e"
            ],
            [
             0.4444444444444444,
             "#bd3786"
            ],
            [
             0.5555555555555556,
             "#d8576b"
            ],
            [
             0.6666666666666666,
             "#ed7953"
            ],
            [
             0.7777777777777778,
             "#fb9f3a"
            ],
            [
             0.8888888888888888,
             "#fdca26"
            ],
            [
             1,
             "#f0f921"
            ]
           ]
          },
          "colorway": [
           "#636efa",
           "#EF553B",
           "#00cc96",
           "#ab63fa",
           "#FFA15A",
           "#19d3f3",
           "#FF6692",
           "#B6E880",
           "#FF97FF",
           "#FECB52"
          ],
          "font": {
           "color": "#2a3f5f"
          },
          "geo": {
           "bgcolor": "white",
           "lakecolor": "white",
           "landcolor": "#E5ECF6",
           "showlakes": true,
           "showland": true,
           "subunitcolor": "white"
          },
          "hoverlabel": {
           "align": "left"
          },
          "hovermode": "closest",
          "mapbox": {
           "style": "light"
          },
          "paper_bgcolor": "white",
          "plot_bgcolor": "#E5ECF6",
          "polar": {
           "angularaxis": {
            "gridcolor": "white",
            "linecolor": "white",
            "ticks": ""
           },
           "bgcolor": "#E5ECF6",
           "radialaxis": {
            "gridcolor": "white",
            "linecolor": "white",
            "ticks": ""
           }
          },
          "scene": {
           "xaxis": {
            "backgroundcolor": "#E5ECF6",
            "gridcolor": "white",
            "gridwidth": 2,
            "linecolor": "white",
            "showbackground": true,
            "ticks": "",
            "zerolinecolor": "white"
           },
           "yaxis": {
            "backgroundcolor": "#E5ECF6",
            "gridcolor": "white",
            "gridwidth": 2,
            "linecolor": "white",
            "showbackground": true,
            "ticks": "",
            "zerolinecolor": "white"
           },
           "zaxis": {
            "backgroundcolor": "#E5ECF6",
            "gridcolor": "white",
            "gridwidth": 2,
            "linecolor": "white",
            "showbackground": true,
            "ticks": "",
            "zerolinecolor": "white"
           }
          },
          "shapedefaults": {
           "line": {
            "color": "#2a3f5f"
           }
          },
          "ternary": {
           "aaxis": {
            "gridcolor": "white",
            "linecolor": "white",
            "ticks": ""
           },
           "baxis": {
            "gridcolor": "white",
            "linecolor": "white",
            "ticks": ""
           },
           "bgcolor": "#E5ECF6",
           "caxis": {
            "gridcolor": "white",
            "linecolor": "white",
            "ticks": ""
           }
          },
          "title": {
           "x": 0.05
          },
          "xaxis": {
           "automargin": true,
           "gridcolor": "white",
           "linecolor": "white",
           "ticks": "",
           "title": {
            "standoff": 15
           },
           "zerolinecolor": "white",
           "zerolinewidth": 2
          },
          "yaxis": {
           "automargin": true,
           "gridcolor": "white",
           "linecolor": "white",
           "ticks": "",
           "title": {
            "standoff": 15
           },
           "zerolinecolor": "white",
           "zerolinewidth": 2
          }
         }
        },
        "title": {
         "text": "Normalized Stacked Barplot of Predicted Pathways Ocurrence for Species"
        },
        "width": 1500,
        "xaxis": {
         "anchor": "y",
         "domain": [
          0,
          1
         ],
         "title": {
          "text": "Recurrence"
         }
        },
        "yaxis": {
         "anchor": "x",
         "categoryarray": [
          "Swertia verticillifolia",
          "Swertia tosaensis",
          "Swertia thomsonii",
          "Swertia tetrapetala",
          "Swertia teres",
          "Swertia swertopsis",
          "Swertia souliei",
          "Swertia racemosa",
          "Swertia punicea",
          "Swertia pubescens",
          "Swertia pseudochinensis",
          "Swertia przewalskii",
          "Swertia petiolata",
          "Swertia perennis",
          "Swertia paniculata",
          "Swertia obtusa",
          "Swertia nervosa",
          "Swertia mussotii",
          "Swertia marginata",
          "Swertia macrosperma",
          "Swertia leducii",
          "Swertia lawii",
          "Swertia kouitchensis",
          "Swertia japonica",
          "Swertia iberica",
          "Swertia hookeri",
          "Swertia franchetiana",
          "Swertia fasciculata",
          "Swertia erythrosticta",
          "Swertia dilatata",
          "Swertia densifolia",
          "Swertia delavayi",
          "Swertia decora",
          "Swertia davidii",
          "Swertia cuneata",
          "Swertia corymbosa",
          "Swertia cordata",
          "Swertia cincta",
          "Swertia ciliata",
          "Swertia chirayita",
          "Swertia chinensis",
          "Swertia calycina",
          "Swertia bimaculata",
          "Swertia arisanensis",
          "Swertia angustifolia",
          "Swertia alata"
         ],
         "categoryorder": "array",
         "domain": [
          0,
          1
         ],
         "tickmode": "array",
         "ticktext": [
          "<i>Swertia alata</i>",
          "<i>Swertia angustifolia</i>",
          "<i>Swertia arisanensis</i>",
          "<i>Swertia bimaculata</i>",
          "<i>Swertia calycina</i>",
          "<i>Swertia chinensis</i>",
          "<i>Swertia chirayita</i>",
          "<i>Swertia ciliata</i>",
          "<i>Swertia cincta</i>",
          "<i>Swertia cordata</i>",
          "<i>Swertia corymbosa</i>",
          "<i>Swertia cuneata</i>",
          "<i>Swertia davidii</i>",
          "<i>Swertia decora</i>",
          "<i>Swertia delavayi</i>",
          "<i>Swertia densifolia</i>",
          "<i>Swertia dilatata</i>",
          "<i>Swertia erythrosticta</i>",
          "<i>Swertia fasciculata</i>",
          "<i>Swertia franchetiana</i>",
          "<i>Swertia hookeri</i>",
          "<i>Swertia iberica</i>",
          "<i>Swertia japonica</i>",
          "<i>Swertia kouitchensis</i>",
          "<i>Swertia lawii</i>",
          "<i>Swertia leducii</i>",
          "<i>Swertia macrosperma</i>",
          "<i>Swertia marginata</i>",
          "<i>Swertia mussotii</i>",
          "<i>Swertia nervosa</i>",
          "<i>Swertia obtusa</i>",
          "<i>Swertia paniculata</i>",
          "<i>Swertia perennis</i>",
          "<i>Swertia petiolata</i>",
          "<i>Swertia przewalskii</i>",
          "<i>Swertia pseudochinensis</i>",
          "<i>Swertia pubescens</i>",
          "<i>Swertia punicea</i>",
          "<i>Swertia racemosa</i>",
          "<i>Swertia souliei</i>",
          "<i>Swertia swertopsis</i>",
          "<i>Swertia teres</i>",
          "<i>Swertia tetrapetala</i>",
          "<i>Swertia thomsonii</i>",
          "<i>Swertia tosaensis</i>",
          "<i>Swertia verticillifolia</i>"
         ],
         "tickvals": [
          0,
          1,
          2,
          3,
          4,
          5,
          6,
          7,
          8,
          9,
          10,
          11,
          12,
          13,
          14,
          15,
          16,
          17,
          18,
          19,
          20,
          21,
          22,
          23,
          24,
          25,
          26,
          27,
          28,
          29,
          30,
          31,
          32,
          33,
          34,
          35,
          36,
          37,
          38,
          39,
          40,
          41,
          42,
          43,
          44,
          45
         ],
         "title": {
          "text": "<i>Species<i>"
         }
        }
       }
      }
     },
     "metadata": {},
     "output_type": "display_data"
    }
   ],
   "source": [
    "\n",
    "# Step 1: Initialize an empty DataFrame to store all data\n",
    "all_data = pd.DataFrame(columns=['organism_taxonomy_09species', 'structure_taxonomy_npclassifier_01pathway'])\n",
    "\n",
    "# Step 2: Read data from all .tsv files in the output_folder\n",
    "species_data_folder = os.path.join(output_folder, 'species_data')\n",
    "for filename in os.listdir(species_data_folder):\n",
    "    if filename.endswith(\".tsv\"):\n",
    "        file_data = pd.read_csv(os.path.join(species_data_folder, filename), sep='\\t')\n",
    "        all_data = pd.concat([all_data, file_data])\n",
    "\n",
    "# Step 3: Rename the \"queried_taxaLabel\" column to \"species\"\n",
    "all_data.rename(columns={'organism_taxonomy_09species': 'species'}, inplace=True)\n",
    "all_data.rename(columns={'structure_taxonomy_npclassifier_01pathway': 'Pathway'}, inplace=True)\n",
    "\n",
    "# Remove 'API Error-API Error' and 'Not Classified-Not Classified'\n",
    "all_data = all_data[(all_data['Pathway'] != 'API Error') & (all_data['Pathway'] != 'Not Classified')]\n",
    "\n",
    "# Step 4: Group and aggregate data to calculate recurrence\n",
    "agg_data = all_data.groupby(['species', 'Pathway']).size().reset_index(name='recurrence')\n",
    "\n",
    "# Normalize the recurrence values within each species group\n",
    "agg_data['recurrence_normalized'] = agg_data.groupby('species')['recurrence'].transform(lambda x: x / x.sum())*100\n",
    "\n",
    "# Convert 'species' column to categorical data\n",
    "agg_data['species'] = pd.Categorical(agg_data['species'], categories=agg_data['species'].unique(), ordered=True)\n",
    "\n",
    "# Get unique species names\n",
    "unique_species = agg_data['species'].unique()\n",
    "\n",
    "# Get unique pathways and sort them alphabetically\n",
    "unique_pathways = sorted(agg_data['Pathway'].unique())\n",
    "\n",
    "# Calculate total recurrence for each species\n",
    "total_recurrence_per_species = agg_data.groupby('species')['recurrence'].sum()\n",
    "\n",
    "\n",
    "# Step 5: Create the stacked barplot with custom colors\n",
    "fig = px.bar(agg_data, y='species', x='recurrence_normalized',\n",
    "             title='Normalized Stacked Barplot of Predicted Pathways Ocurrence for Species',\n",
    "             labels={'recurrence_normalized': 'Recurrence'},\n",
    "             color='Pathway',\n",
    "             color_discrete_map=pathway_colors,  # Use custom colors\n",
    "             category_orders={'species': unique_species, 'Pathway' :unique_pathways },\n",
    "             orientation='h'\n",
    "            )\n",
    "\n",
    "# Modify the y-axis label\n",
    "fig.update_yaxes(title_text='<i>Species<i>')\n",
    "\n",
    "# Set species labels in italics\n",
    "fig.update_layout(yaxis=dict(tickmode='array', \n",
    "                              tickvals=list(range(len(unique_species))), \n",
    "                              ticktext=[f'<i>{species}</i>' for species in unique_species]\n",
    "                              ))\n",
    "# Get the maximum value of the x-axis\n",
    "max_x = agg_data['recurrence_normalized'].max()\n",
    "\n",
    "for species, total_recurrence in total_recurrence_per_species.items():\n",
    "    # Find the maximum recurrence for this species\n",
    "    max_recurrence = agg_data[agg_data['species'] == species]['recurrence_normalized'].max()\n",
    "    \n",
    "    # Position the annotation at the end of the bar with a slight offset\n",
    "    x_position = max_x + 2\n",
    "    if x_position > 100:  # Ensure the label is not outside the plot area\n",
    "        x_position = 100  # Set it to 100 if it exceeds the maximum x-axis value\n",
    "\n",
    "    # Add annotation to the plot\n",
    "    fig.add_annotation(\n",
    "        x=x_position,\n",
    "        y=species,\n",
    "        text=f'Total compounds: {total_recurrence}',\n",
    "        showarrow=False,\n",
    "        font=dict(size=10, color='black'),\n",
    "        xanchor='left',\n",
    "        yanchor='middle'\n",
    "    )\n",
    "    \n",
    "# Set a white background\n",
    "fig.update_layout(plot_bgcolor='white')\n",
    "\n",
    "# Modify the size of the figure\n",
    "fig.update_layout(width=1500, height=1500)\n",
    "\n",
    "# Save the figure as an HTML file\n",
    "fig.write_html(f'{output_folder}Wikidata_pathway_barplot_normalized.html')\n",
    "\n",
    "# Show or save the figure\n",
    "fig.show()\n"
   ]
  },
  {
   "cell_type": "code",
   "execution_count": 26,
   "metadata": {},
   "outputs": [
    {
     "data": {
      "application/vnd.plotly.v1+json": {
       "config": {
        "plotlyServerURL": "https://plot.ly"
       },
       "data": [
        {
         "coloraxis": "coloraxis",
         "hovertemplate": "Pathway: %{x}<br>Species: %{y}<br>Normalized Recurrence: %{z}<extra></extra>",
         "name": "0",
         "type": "heatmap",
         "x": [
          "Alkaloids",
          "Carbohydrates",
          "Fatty acids",
          "Polyketides",
          "Shikimates and Phenylpropanoids",
          "Terpenoids"
         ],
         "xaxis": "x",
         "y": [
          "Swertia alata",
          "Swertia angustifolia",
          "Swertia arisanensis",
          "Swertia bimaculata",
          "Swertia calycina",
          "Swertia chinensis",
          "Swertia chirayita",
          "Swertia ciliata",
          "Swertia cincta",
          "Swertia cordata",
          "Swertia corymbosa",
          "Swertia cuneata",
          "Swertia davidii",
          "Swertia decora",
          "Swertia delavayi",
          "Swertia densifolia",
          "Swertia dilatata",
          "Swertia erythrosticta",
          "Swertia fasciculata",
          "Swertia franchetiana",
          "Swertia hookeri",
          "Swertia iberica",
          "Swertia japonica",
          "Swertia kouitchensis",
          "Swertia lawii",
          "Swertia leducii",
          "Swertia macrosperma",
          "Swertia marginata",
          "Swertia mussotii",
          "Swertia nervosa",
          "Swertia obtusa",
          "Swertia paniculata",
          "Swertia perennis",
          "Swertia petiolata",
          "Swertia przewalskii",
          "Swertia pseudochinensis",
          "Swertia pubescens",
          "Swertia punicea",
          "Swertia racemosa",
          "Swertia souliei",
          "Swertia swertopsis",
          "Swertia teres",
          "Swertia tetrapetala",
          "Swertia thomsonii",
          "Swertia tosaensis",
          "Swertia verticillifolia"
         ],
         "yaxis": "y",
         "z": [
          [
           0,
           0,
           0,
           0,
           0,
           100
          ],
          [
           10,
           0,
           0,
           0,
           20,
           70
          ],
          [
           0,
           0,
           0,
           0,
           0,
           100
          ],
          [
           0,
           0,
           0,
           50,
           50,
           0
          ],
          [
           0,
           0,
           0,
           25,
           50,
           25
          ],
          [
           0,
           0,
           0,
           0,
           0,
           100
          ],
          [
           0,
           0,
           0,
           16.39344262295082,
           24.59016393442623,
           59.01639344262295
          ],
          [
           10,
           0,
           0,
           20,
           40,
           30
          ],
          [
           0,
           0,
           0,
           0,
           50,
           50
          ],
          [
           0,
           0,
           0,
           0,
           100,
           0
          ],
          [
           0,
           0,
           0,
           8.333333333333332,
           16.666666666666664,
           75
          ],
          [
           0,
           0,
           0,
           0,
           100,
           0
          ],
          [
           0,
           0,
           0,
           100,
           0,
           0
          ],
          [
           0,
           0,
           0,
           42.857142857142854,
           28.57142857142857,
           28.57142857142857
          ],
          [
           0,
           0,
           0,
           0,
           50,
           50
          ],
          [
           0,
           0,
           0,
           100,
           0,
           0
          ],
          [
           0,
           0,
           0,
           50,
           50,
           0
          ],
          [
           0,
           0,
           0,
           100,
           0,
           0
          ],
          [
           0,
           0,
           0,
           0,
           50,
           50
          ],
          [
           0,
           0,
           0,
           0,
           13.333333333333334,
           86.66666666666667
          ],
          [
           0,
           0,
           0,
           40,
           60,
           0
          ],
          [
           0,
           0,
           0,
           83.33333333333334,
           16.666666666666664,
           0
          ],
          [
           0,
           0,
           3.597122302158273,
           10.071942446043165,
           28.05755395683453,
           58.27338129496403
          ],
          [
           0,
           0,
           0,
           0,
           100,
           0
          ],
          [
           0,
           0,
           0,
           100,
           0,
           0
          ],
          [
           0,
           0,
           0,
           4.25531914893617,
           17.02127659574468,
           78.72340425531915
          ],
          [
           0,
           0,
           0,
           28.57142857142857,
           28.57142857142857,
           42.857142857142854
          ],
          [
           100,
           0,
           0,
           0,
           0,
           0
          ],
          [
           0,
           0,
           0,
           0,
           75,
           25
          ],
          [
           0,
           0,
           0,
           50,
           25,
           25
          ],
          [
           0,
           14.285714285714285,
           0,
           28.57142857142857,
           28.57142857142857,
           28.57142857142857
          ],
          [
           0,
           0,
           0,
           14.285714285714285,
           57.14285714285714,
           28.57142857142857
          ],
          [
           0,
           0,
           0,
           18.181818181818183,
           81.81818181818183,
           0
          ],
          [
           0,
           0,
           0,
           0,
           54.54545454545454,
           45.45454545454545
          ],
          [
           0,
           0,
           0,
           0,
           0,
           100
          ],
          [
           0,
           0,
           0,
           27.77777777777778,
           44.44444444444444,
           27.77777777777778
          ],
          [
           0,
           28.57142857142857,
           0,
           0,
           28.57142857142857,
           42.857142857142854
          ],
          [
           0,
           3.225806451612903,
           0,
           16.129032258064516,
           58.06451612903226,
           22.58064516129032
          ],
          [
           0,
           0,
           0,
           100,
           0,
           0
          ],
          [
           0,
           0,
           0,
           21.428571428571427,
           14.285714285714285,
           64.28571428571429
          ],
          [
           0,
           0,
           0,
           50,
           50,
           0
          ],
          [
           0,
           0,
           0,
           100,
           0,
           0
          ],
          [
           0,
           0,
           0,
           0,
           66.66666666666666,
           33.33333333333333
          ],
          [
           0,
           0,
           0,
           50,
           0,
           50
          ],
          [
           0,
           0,
           0,
           0,
           100,
           0
          ],
          [
           0,
           0,
           0,
           0,
           0,
           100
          ]
         ]
        }
       ],
       "layout": {
        "coloraxis": {
         "colorbar": {
          "title": {
           "text": "Normalized Recurrence"
          }
         },
         "colorscale": [
          [
           0,
           "rgb(0, 147, 146)"
          ],
          [
           0.16666666666666666,
           "rgb(114, 170, 161)"
          ],
          [
           0.3333333333333333,
           "rgb(177, 199, 179)"
          ],
          [
           0.5,
           "rgb(241, 234, 200)"
          ],
          [
           0.6666666666666666,
           "rgb(229, 185, 173)"
          ],
          [
           0.8333333333333334,
           "rgb(217, 137, 148)"
          ],
          [
           1,
           "rgb(208, 88, 126)"
          ]
         ]
        },
        "height": 1500,
        "template": {
         "data": {
          "bar": [
           {
            "error_x": {
             "color": "#2a3f5f"
            },
            "error_y": {
             "color": "#2a3f5f"
            },
            "marker": {
             "line": {
              "color": "#E5ECF6",
              "width": 0.5
             },
             "pattern": {
              "fillmode": "overlay",
              "size": 10,
              "solidity": 0.2
             }
            },
            "type": "bar"
           }
          ],
          "barpolar": [
           {
            "marker": {
             "line": {
              "color": "#E5ECF6",
              "width": 0.5
             },
             "pattern": {
              "fillmode": "overlay",
              "size": 10,
              "solidity": 0.2
             }
            },
            "type": "barpolar"
           }
          ],
          "carpet": [
           {
            "aaxis": {
             "endlinecolor": "#2a3f5f",
             "gridcolor": "white",
             "linecolor": "white",
             "minorgridcolor": "white",
             "startlinecolor": "#2a3f5f"
            },
            "baxis": {
             "endlinecolor": "#2a3f5f",
             "gridcolor": "white",
             "linecolor": "white",
             "minorgridcolor": "white",
             "startlinecolor": "#2a3f5f"
            },
            "type": "carpet"
           }
          ],
          "choropleth": [
           {
            "colorbar": {
             "outlinewidth": 0,
             "ticks": ""
            },
            "type": "choropleth"
           }
          ],
          "contour": [
           {
            "colorbar": {
             "outlinewidth": 0,
             "ticks": ""
            },
            "colorscale": [
             [
              0,
              "#0d0887"
             ],
             [
              0.1111111111111111,
              "#46039f"
             ],
             [
              0.2222222222222222,
              "#7201a8"
             ],
             [
              0.3333333333333333,
              "#9c179e"
             ],
             [
              0.4444444444444444,
              "#bd3786"
             ],
             [
              0.5555555555555556,
              "#d8576b"
             ],
             [
              0.6666666666666666,
              "#ed7953"
             ],
             [
              0.7777777777777778,
              "#fb9f3a"
             ],
             [
              0.8888888888888888,
              "#fdca26"
             ],
             [
              1,
              "#f0f921"
             ]
            ],
            "type": "contour"
           }
          ],
          "contourcarpet": [
           {
            "colorbar": {
             "outlinewidth": 0,
             "ticks": ""
            },
            "type": "contourcarpet"
           }
          ],
          "heatmap": [
           {
            "colorbar": {
             "outlinewidth": 0,
             "ticks": ""
            },
            "colorscale": [
             [
              0,
              "#0d0887"
             ],
             [
              0.1111111111111111,
              "#46039f"
             ],
             [
              0.2222222222222222,
              "#7201a8"
             ],
             [
              0.3333333333333333,
              "#9c179e"
             ],
             [
              0.4444444444444444,
              "#bd3786"
             ],
             [
              0.5555555555555556,
              "#d8576b"
             ],
             [
              0.6666666666666666,
              "#ed7953"
             ],
             [
              0.7777777777777778,
              "#fb9f3a"
             ],
             [
              0.8888888888888888,
              "#fdca26"
             ],
             [
              1,
              "#f0f921"
             ]
            ],
            "type": "heatmap"
           }
          ],
          "heatmapgl": [
           {
            "colorbar": {
             "outlinewidth": 0,
             "ticks": ""
            },
            "colorscale": [
             [
              0,
              "#0d0887"
             ],
             [
              0.1111111111111111,
              "#46039f"
             ],
             [
              0.2222222222222222,
              "#7201a8"
             ],
             [
              0.3333333333333333,
              "#9c179e"
             ],
             [
              0.4444444444444444,
              "#bd3786"
             ],
             [
              0.5555555555555556,
              "#d8576b"
             ],
             [
              0.6666666666666666,
              "#ed7953"
             ],
             [
              0.7777777777777778,
              "#fb9f3a"
             ],
             [
              0.8888888888888888,
              "#fdca26"
             ],
             [
              1,
              "#f0f921"
             ]
            ],
            "type": "heatmapgl"
           }
          ],
          "histogram": [
           {
            "marker": {
             "pattern": {
              "fillmode": "overlay",
              "size": 10,
              "solidity": 0.2
             }
            },
            "type": "histogram"
           }
          ],
          "histogram2d": [
           {
            "colorbar": {
             "outlinewidth": 0,
             "ticks": ""
            },
            "colorscale": [
             [
              0,
              "#0d0887"
             ],
             [
              0.1111111111111111,
              "#46039f"
             ],
             [
              0.2222222222222222,
              "#7201a8"
             ],
             [
              0.3333333333333333,
              "#9c179e"
             ],
             [
              0.4444444444444444,
              "#bd3786"
             ],
             [
              0.5555555555555556,
              "#d8576b"
             ],
             [
              0.6666666666666666,
              "#ed7953"
             ],
             [
              0.7777777777777778,
              "#fb9f3a"
             ],
             [
              0.8888888888888888,
              "#fdca26"
             ],
             [
              1,
              "#f0f921"
             ]
            ],
            "type": "histogram2d"
           }
          ],
          "histogram2dcontour": [
           {
            "colorbar": {
             "outlinewidth": 0,
             "ticks": ""
            },
            "colorscale": [
             [
              0,
              "#0d0887"
             ],
             [
              0.1111111111111111,
              "#46039f"
             ],
             [
              0.2222222222222222,
              "#7201a8"
             ],
             [
              0.3333333333333333,
              "#9c179e"
             ],
             [
              0.4444444444444444,
              "#bd3786"
             ],
             [
              0.5555555555555556,
              "#d8576b"
             ],
             [
              0.6666666666666666,
              "#ed7953"
             ],
             [
              0.7777777777777778,
              "#fb9f3a"
             ],
             [
              0.8888888888888888,
              "#fdca26"
             ],
             [
              1,
              "#f0f921"
             ]
            ],
            "type": "histogram2dcontour"
           }
          ],
          "mesh3d": [
           {
            "colorbar": {
             "outlinewidth": 0,
             "ticks": ""
            },
            "type": "mesh3d"
           }
          ],
          "parcoords": [
           {
            "line": {
             "colorbar": {
              "outlinewidth": 0,
              "ticks": ""
             }
            },
            "type": "parcoords"
           }
          ],
          "pie": [
           {
            "automargin": true,
            "type": "pie"
           }
          ],
          "scatter": [
           {
            "fillpattern": {
             "fillmode": "overlay",
             "size": 10,
             "solidity": 0.2
            },
            "type": "scatter"
           }
          ],
          "scatter3d": [
           {
            "line": {
             "colorbar": {
              "outlinewidth": 0,
              "ticks": ""
             }
            },
            "marker": {
             "colorbar": {
              "outlinewidth": 0,
              "ticks": ""
             }
            },
            "type": "scatter3d"
           }
          ],
          "scattercarpet": [
           {
            "marker": {
             "colorbar": {
              "outlinewidth": 0,
              "ticks": ""
             }
            },
            "type": "scattercarpet"
           }
          ],
          "scattergeo": [
           {
            "marker": {
             "colorbar": {
              "outlinewidth": 0,
              "ticks": ""
             }
            },
            "type": "scattergeo"
           }
          ],
          "scattergl": [
           {
            "marker": {
             "colorbar": {
              "outlinewidth": 0,
              "ticks": ""
             }
            },
            "type": "scattergl"
           }
          ],
          "scattermapbox": [
           {
            "marker": {
             "colorbar": {
              "outlinewidth": 0,
              "ticks": ""
             }
            },
            "type": "scattermapbox"
           }
          ],
          "scatterpolar": [
           {
            "marker": {
             "colorbar": {
              "outlinewidth": 0,
              "ticks": ""
             }
            },
            "type": "scatterpolar"
           }
          ],
          "scatterpolargl": [
           {
            "marker": {
             "colorbar": {
              "outlinewidth": 0,
              "ticks": ""
             }
            },
            "type": "scatterpolargl"
           }
          ],
          "scatterternary": [
           {
            "marker": {
             "colorbar": {
              "outlinewidth": 0,
              "ticks": ""
             }
            },
            "type": "scatterternary"
           }
          ],
          "surface": [
           {
            "colorbar": {
             "outlinewidth": 0,
             "ticks": ""
            },
            "colorscale": [
             [
              0,
              "#0d0887"
             ],
             [
              0.1111111111111111,
              "#46039f"
             ],
             [
              0.2222222222222222,
              "#7201a8"
             ],
             [
              0.3333333333333333,
              "#9c179e"
             ],
             [
              0.4444444444444444,
              "#bd3786"
             ],
             [
              0.5555555555555556,
              "#d8576b"
             ],
             [
              0.6666666666666666,
              "#ed7953"
             ],
             [
              0.7777777777777778,
              "#fb9f3a"
             ],
             [
              0.8888888888888888,
              "#fdca26"
             ],
             [
              1,
              "#f0f921"
             ]
            ],
            "type": "surface"
           }
          ],
          "table": [
           {
            "cells": {
             "fill": {
              "color": "#EBF0F8"
             },
             "line": {
              "color": "white"
             }
            },
            "header": {
             "fill": {
              "color": "#C8D4E3"
             },
             "line": {
              "color": "white"
             }
            },
            "type": "table"
           }
          ]
         },
         "layout": {
          "annotationdefaults": {
           "arrowcolor": "#2a3f5f",
           "arrowhead": 0,
           "arrowwidth": 1
          },
          "autotypenumbers": "strict",
          "coloraxis": {
           "colorbar": {
            "outlinewidth": 0,
            "ticks": ""
           }
          },
          "colorscale": {
           "diverging": [
            [
             0,
             "#8e0152"
            ],
            [
             0.1,
             "#c51b7d"
            ],
            [
             0.2,
             "#de77ae"
            ],
            [
             0.3,
             "#f1b6da"
            ],
            [
             0.4,
             "#fde0ef"
            ],
            [
             0.5,
             "#f7f7f7"
            ],
            [
             0.6,
             "#e6f5d0"
            ],
            [
             0.7,
             "#b8e186"
            ],
            [
             0.8,
             "#7fbc41"
            ],
            [
             0.9,
             "#4d9221"
            ],
            [
             1,
             "#276419"
            ]
           ],
           "sequential": [
            [
             0,
             "#0d0887"
            ],
            [
             0.1111111111111111,
             "#46039f"
            ],
            [
             0.2222222222222222,
             "#7201a8"
            ],
            [
             0.3333333333333333,
             "#9c179e"
            ],
            [
             0.4444444444444444,
             "#bd3786"
            ],
            [
             0.5555555555555556,
             "#d8576b"
            ],
            [
             0.6666666666666666,
             "#ed7953"
            ],
            [
             0.7777777777777778,
             "#fb9f3a"
            ],
            [
             0.8888888888888888,
             "#fdca26"
            ],
            [
             1,
             "#f0f921"
            ]
           ],
           "sequentialminus": [
            [
             0,
             "#0d0887"
            ],
            [
             0.1111111111111111,
             "#46039f"
            ],
            [
             0.2222222222222222,
             "#7201a8"
            ],
            [
             0.3333333333333333,
             "#9c179e"
            ],
            [
             0.4444444444444444,
             "#bd3786"
            ],
            [
             0.5555555555555556,
             "#d8576b"
            ],
            [
             0.6666666666666666,
             "#ed7953"
            ],
            [
             0.7777777777777778,
             "#fb9f3a"
            ],
            [
             0.8888888888888888,
             "#fdca26"
            ],
            [
             1,
             "#f0f921"
            ]
           ]
          },
          "colorway": [
           "#636efa",
           "#EF553B",
           "#00cc96",
           "#ab63fa",
           "#FFA15A",
           "#19d3f3",
           "#FF6692",
           "#B6E880",
           "#FF97FF",
           "#FECB52"
          ],
          "font": {
           "color": "#2a3f5f"
          },
          "geo": {
           "bgcolor": "white",
           "lakecolor": "white",
           "landcolor": "#E5ECF6",
           "showlakes": true,
           "showland": true,
           "subunitcolor": "white"
          },
          "hoverlabel": {
           "align": "left"
          },
          "hovermode": "closest",
          "mapbox": {
           "style": "light"
          },
          "paper_bgcolor": "white",
          "plot_bgcolor": "#E5ECF6",
          "polar": {
           "angularaxis": {
            "gridcolor": "white",
            "linecolor": "white",
            "ticks": ""
           },
           "bgcolor": "#E5ECF6",
           "radialaxis": {
            "gridcolor": "white",
            "linecolor": "white",
            "ticks": ""
           }
          },
          "scene": {
           "xaxis": {
            "backgroundcolor": "#E5ECF6",
            "gridcolor": "white",
            "gridwidth": 2,
            "linecolor": "white",
            "showbackground": true,
            "ticks": "",
            "zerolinecolor": "white"
           },
           "yaxis": {
            "backgroundcolor": "#E5ECF6",
            "gridcolor": "white",
            "gridwidth": 2,
            "linecolor": "white",
            "showbackground": true,
            "ticks": "",
            "zerolinecolor": "white"
           },
           "zaxis": {
            "backgroundcolor": "#E5ECF6",
            "gridcolor": "white",
            "gridwidth": 2,
            "linecolor": "white",
            "showbackground": true,
            "ticks": "",
            "zerolinecolor": "white"
           }
          },
          "shapedefaults": {
           "line": {
            "color": "#2a3f5f"
           }
          },
          "ternary": {
           "aaxis": {
            "gridcolor": "white",
            "linecolor": "white",
            "ticks": ""
           },
           "baxis": {
            "gridcolor": "white",
            "linecolor": "white",
            "ticks": ""
           },
           "bgcolor": "#E5ECF6",
           "caxis": {
            "gridcolor": "white",
            "linecolor": "white",
            "ticks": ""
           }
          },
          "title": {
           "x": 0.05
          },
          "xaxis": {
           "automargin": true,
           "gridcolor": "white",
           "linecolor": "white",
           "ticks": "",
           "title": {
            "standoff": 15
           },
           "zerolinecolor": "white",
           "zerolinewidth": 2
          },
          "yaxis": {
           "automargin": true,
           "gridcolor": "white",
           "linecolor": "white",
           "ticks": "",
           "title": {
            "standoff": 15
           },
           "zerolinecolor": "white",
           "zerolinewidth": 2
          }
         }
        },
        "title": {
         "text": "Heatmap of Normalized Recurrence of Pathways for Species"
        },
        "width": 1500,
        "xaxis": {
         "anchor": "y",
         "constrain": "domain",
         "domain": [
          0,
          1
         ],
         "scaleanchor": "y",
         "title": {
          "text": "Pathway"
         }
        },
        "yaxis": {
         "anchor": "x",
         "autorange": "reversed",
         "constrain": "domain",
         "domain": [
          0,
          1
         ],
         "title": {
          "text": "Species"
         }
        }
       }
      }
     },
     "metadata": {},
     "output_type": "display_data"
    }
   ],
   "source": [
    "import pandas as pd\n",
    "import plotly.express as px\n",
    "\n",
    "# Create a DataFrame with all possible combinations of species and pathways\n",
    "all_species = all_data['species'].unique()\n",
    "all_pathways = all_data['Pathway'].unique()\n",
    "all_combinations = pd.DataFrame([(species, pathway) for species in all_species for pathway in all_pathways],\n",
    "                                columns=['species', 'Pathway'])\n",
    "\n",
    "# Merge the all_combinations DataFrame with the aggregated data to include all species\n",
    "merged_data = pd.merge(all_combinations, agg_data, on=['species', 'Pathway'], how='left')\n",
    "\n",
    "# Fill missing values (NaN) with 0 for recurrence and recurrence_normalized columns\n",
    "merged_data['recurrence'].fillna(0, inplace=True)\n",
    "merged_data['recurrence_normalized'].fillna(0, inplace=True)\n",
    "\n",
    "# Pivot the merged data to have 'species' as rows and 'Pathway' as columns\n",
    "pivot_data = merged_data.pivot_table(index='species', columns='Pathway', values='recurrence_normalized', fill_value=0)\n",
    "\n",
    "# Create the heatmap\n",
    "fig = px.imshow(pivot_data,\n",
    "                labels=dict(x=\"Pathway\", y=\"Species\", color=\"Normalized Recurrence\"),\n",
    "                x=pivot_data.columns,\n",
    "                y=pivot_data.index,\n",
    "                color_continuous_scale='tealrose',  # You can choose any other color scale\n",
    "                title='Heatmap of Normalized Recurrence of Pathways for Species')\n",
    "\n",
    "# Modify the size of the figure\n",
    "fig.update_layout(width=1500, height=1500)\n",
    "\n",
    "# Save the figure as an HTML file\n",
    "fig.write_html(f'{output_folder}Wikidata_pathway_heatmap_species_normalized.html')\n",
    "\n",
    "# Show the figure\n",
    "fig.show()\n"
   ]
  },
  {
   "cell_type": "code",
   "execution_count": 30,
   "metadata": {},
   "outputs": [
    {
     "ename": "KeyError",
     "evalue": "'chemical_superclass'",
     "output_type": "error",
     "traceback": [
      "\u001b[1;31m---------------------------------------------------------------------------\u001b[0m",
      "\u001b[1;31mKeyError\u001b[0m                                  Traceback (most recent call last)",
      "File \u001b[1;32mc:\\ProgramData\\anaconda3\\Lib\\site-packages\\pandas\\core\\indexes\\base.py:3791\u001b[0m, in \u001b[0;36mIndex.get_loc\u001b[1;34m(self, key)\u001b[0m\n\u001b[0;32m   3790\u001b[0m \u001b[38;5;28;01mtry\u001b[39;00m:\n\u001b[1;32m-> 3791\u001b[0m     \u001b[38;5;28;01mreturn\u001b[39;00m \u001b[38;5;28mself\u001b[39m\u001b[38;5;241m.\u001b[39m_engine\u001b[38;5;241m.\u001b[39mget_loc(casted_key)\n\u001b[0;32m   3792\u001b[0m \u001b[38;5;28;01mexcept\u001b[39;00m \u001b[38;5;167;01mKeyError\u001b[39;00m \u001b[38;5;28;01mas\u001b[39;00m err:\n",
      "File \u001b[1;32mindex.pyx:152\u001b[0m, in \u001b[0;36mpandas._libs.index.IndexEngine.get_loc\u001b[1;34m()\u001b[0m\n",
      "File \u001b[1;32mindex.pyx:181\u001b[0m, in \u001b[0;36mpandas._libs.index.IndexEngine.get_loc\u001b[1;34m()\u001b[0m\n",
      "File \u001b[1;32mpandas\\_libs\\hashtable_class_helper.pxi:7080\u001b[0m, in \u001b[0;36mpandas._libs.hashtable.PyObjectHashTable.get_item\u001b[1;34m()\u001b[0m\n",
      "File \u001b[1;32mpandas\\_libs\\hashtable_class_helper.pxi:7088\u001b[0m, in \u001b[0;36mpandas._libs.hashtable.PyObjectHashTable.get_item\u001b[1;34m()\u001b[0m\n",
      "\u001b[1;31mKeyError\u001b[0m: 'chemical_superclass'",
      "\nThe above exception was the direct cause of the following exception:\n",
      "\u001b[1;31mKeyError\u001b[0m                                  Traceback (most recent call last)",
      "Cell \u001b[1;32mIn[30], line 3\u001b[0m\n\u001b[0;32m      1\u001b[0m \u001b[38;5;66;03m# Convert 'species' and 'chemical_superclass' to categorical data for proper ordering\u001b[39;00m\n\u001b[0;32m      2\u001b[0m agg_data[\u001b[38;5;124m'\u001b[39m\u001b[38;5;124mspecies\u001b[39m\u001b[38;5;124m'\u001b[39m] \u001b[38;5;241m=\u001b[39m pd\u001b[38;5;241m.\u001b[39mCategorical(agg_data[\u001b[38;5;124m'\u001b[39m\u001b[38;5;124mspecies\u001b[39m\u001b[38;5;124m'\u001b[39m], categories\u001b[38;5;241m=\u001b[39m\u001b[38;5;28msorted\u001b[39m(agg_data[\u001b[38;5;124m'\u001b[39m\u001b[38;5;124mspecies\u001b[39m\u001b[38;5;124m'\u001b[39m]\u001b[38;5;241m.\u001b[39munique()))\n\u001b[1;32m----> 3\u001b[0m agg_data[\u001b[38;5;124m'\u001b[39m\u001b[38;5;124mchemical_superclass\u001b[39m\u001b[38;5;124m'\u001b[39m] \u001b[38;5;241m=\u001b[39m pd\u001b[38;5;241m.\u001b[39mCategorical(agg_data[\u001b[38;5;124m'\u001b[39m\u001b[38;5;124mchemical_superclass\u001b[39m\u001b[38;5;124m'\u001b[39m], categories\u001b[38;5;241m=\u001b[39m\u001b[38;5;28msorted\u001b[39m(agg_data[\u001b[38;5;124m'\u001b[39m\u001b[38;5;124mchemical_superclass\u001b[39m\u001b[38;5;124m'\u001b[39m]\u001b[38;5;241m.\u001b[39munique()))\n\u001b[0;32m      5\u001b[0m \u001b[38;5;66;03m# Pivot the data to have 'species' as rows and 'chemical_superclass' as columns\u001b[39;00m\n\u001b[0;32m      6\u001b[0m pivot_data \u001b[38;5;241m=\u001b[39m agg_data\u001b[38;5;241m.\u001b[39mpivot_table(index\u001b[38;5;241m=\u001b[39m\u001b[38;5;124m'\u001b[39m\u001b[38;5;124mspecies\u001b[39m\u001b[38;5;124m'\u001b[39m, columns\u001b[38;5;241m=\u001b[39m\u001b[38;5;124m'\u001b[39m\u001b[38;5;124mchemical_superclass\u001b[39m\u001b[38;5;124m'\u001b[39m, values\u001b[38;5;241m=\u001b[39m\u001b[38;5;124m'\u001b[39m\u001b[38;5;124mrecurrence_normalized\u001b[39m\u001b[38;5;124m'\u001b[39m, fill_value\u001b[38;5;241m=\u001b[39m\u001b[38;5;241m0\u001b[39m)\n",
      "File \u001b[1;32mc:\\ProgramData\\anaconda3\\Lib\\site-packages\\pandas\\core\\frame.py:3893\u001b[0m, in \u001b[0;36mDataFrame.__getitem__\u001b[1;34m(self, key)\u001b[0m\n\u001b[0;32m   3891\u001b[0m \u001b[38;5;28;01mif\u001b[39;00m \u001b[38;5;28mself\u001b[39m\u001b[38;5;241m.\u001b[39mcolumns\u001b[38;5;241m.\u001b[39mnlevels \u001b[38;5;241m>\u001b[39m \u001b[38;5;241m1\u001b[39m:\n\u001b[0;32m   3892\u001b[0m     \u001b[38;5;28;01mreturn\u001b[39;00m \u001b[38;5;28mself\u001b[39m\u001b[38;5;241m.\u001b[39m_getitem_multilevel(key)\n\u001b[1;32m-> 3893\u001b[0m indexer \u001b[38;5;241m=\u001b[39m \u001b[38;5;28mself\u001b[39m\u001b[38;5;241m.\u001b[39mcolumns\u001b[38;5;241m.\u001b[39mget_loc(key)\n\u001b[0;32m   3894\u001b[0m \u001b[38;5;28;01mif\u001b[39;00m is_integer(indexer):\n\u001b[0;32m   3895\u001b[0m     indexer \u001b[38;5;241m=\u001b[39m [indexer]\n",
      "File \u001b[1;32mc:\\ProgramData\\anaconda3\\Lib\\site-packages\\pandas\\core\\indexes\\base.py:3798\u001b[0m, in \u001b[0;36mIndex.get_loc\u001b[1;34m(self, key)\u001b[0m\n\u001b[0;32m   3793\u001b[0m     \u001b[38;5;28;01mif\u001b[39;00m \u001b[38;5;28misinstance\u001b[39m(casted_key, \u001b[38;5;28mslice\u001b[39m) \u001b[38;5;129;01mor\u001b[39;00m (\n\u001b[0;32m   3794\u001b[0m         \u001b[38;5;28misinstance\u001b[39m(casted_key, abc\u001b[38;5;241m.\u001b[39mIterable)\n\u001b[0;32m   3795\u001b[0m         \u001b[38;5;129;01mand\u001b[39;00m \u001b[38;5;28many\u001b[39m(\u001b[38;5;28misinstance\u001b[39m(x, \u001b[38;5;28mslice\u001b[39m) \u001b[38;5;28;01mfor\u001b[39;00m x \u001b[38;5;129;01min\u001b[39;00m casted_key)\n\u001b[0;32m   3796\u001b[0m     ):\n\u001b[0;32m   3797\u001b[0m         \u001b[38;5;28;01mraise\u001b[39;00m InvalidIndexError(key)\n\u001b[1;32m-> 3798\u001b[0m     \u001b[38;5;28;01mraise\u001b[39;00m \u001b[38;5;167;01mKeyError\u001b[39;00m(key) \u001b[38;5;28;01mfrom\u001b[39;00m \u001b[38;5;21;01merr\u001b[39;00m\n\u001b[0;32m   3799\u001b[0m \u001b[38;5;28;01mexcept\u001b[39;00m \u001b[38;5;167;01mTypeError\u001b[39;00m:\n\u001b[0;32m   3800\u001b[0m     \u001b[38;5;66;03m# If we have a listlike key, _check_indexing_error will raise\u001b[39;00m\n\u001b[0;32m   3801\u001b[0m     \u001b[38;5;66;03m#  InvalidIndexError. Otherwise we fall through and re-raise\u001b[39;00m\n\u001b[0;32m   3802\u001b[0m     \u001b[38;5;66;03m#  the TypeError.\u001b[39;00m\n\u001b[0;32m   3803\u001b[0m     \u001b[38;5;28mself\u001b[39m\u001b[38;5;241m.\u001b[39m_check_indexing_error(key)\n",
      "\u001b[1;31mKeyError\u001b[0m: 'chemical_superclass'"
     ]
    }
   ],
   "source": [
    "# Convert 'species' and 'chemical_superclass' to categorical data for proper ordering\n",
    "agg_data['species'] = pd.Categorical(agg_data['species'], categories=sorted(agg_data['species'].unique()))\n",
    "agg_data['chemical_superclass'] = pd.Categorical(agg_data['chemical_superclass'], categories=sorted(agg_data['chemical_superclass'].unique()))\n",
    "\n",
    "# Pivot the data to have 'species' as rows and 'chemical_superclass' as columns\n",
    "pivot_data = agg_data.pivot_table(index='species', columns='chemical_superclass', values='recurrence_normalized', fill_value=0)\n",
    "# Multiply the normalized values by 100 to scale them to 100\n",
    "pivot_data *= 100\n",
    "\n",
    "# Create the heatmap\n",
    "fig = px.imshow(pivot_data,\n",
    "                labels=dict(x=\"Chemical Superclass\", y=\"Species\", color=\"Normalized Recurrence\"),\n",
    "                x=pivot_data.columns,\n",
    "                y=pivot_data.index,\n",
    "                color_continuous_scale='tealrose',  # You can choose any other color scale\n",
    "                title='Heatmap of Normalized Recurrence of Chemical Superclasses for Species')\n",
    "\n",
    "# Modify the size of the figure\n",
    "fig.update_layout(width=1500, height=1500)\n",
    "\n",
    "# Save the figure as an HTML file\n",
    "fig.write_html(f'{output_folder}Wikidata_superclass_heatmap_species_normalized.html')\n",
    "\n",
    "# Show the figure\n",
    "fig.show()\n"
   ]
  }
 ],
 "metadata": {
  "interpreter": {
   "hash": "2c38b6a57c2d4f85bcd8a646c69c70f453ebfd581092159d4a2b022d1b3585cd"
  },
  "kernelspec": {
   "display_name": "Python 3.8.5 64-bit ('base': conda)",
   "language": "python",
   "name": "python3"
  },
  "language_info": {
   "codemirror_mode": {
    "name": "ipython",
    "version": 3
   },
   "file_extension": ".py",
   "mimetype": "text/x-python",
   "name": "python",
   "nbconvert_exporter": "python",
   "pygments_lexer": "ipython3",
   "version": "3.11.5"
  },
  "orig_nbformat": 4
 },
 "nbformat": 4,
 "nbformat_minor": 2
}
