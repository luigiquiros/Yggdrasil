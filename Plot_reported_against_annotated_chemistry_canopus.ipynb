{
 "cells": [
  {
   "cell_type": "code",
   "execution_count": 1,
   "metadata": {},
   "outputs": [],
   "source": [
    "import requests\n",
    "import pandas as pd\n",
    "import numpy as np\n",
    "import requests \n",
    "import os\n",
    "from io import StringIO  # Import StringIO from the io module\n",
    "import time  # Import the time module\n",
    "from urllib.parse import quote  # To URL encode SMILES\n",
    "import plotly.express as px\n",
    "import matplotlib.colors as mcolors"
   ]
  },
  {
   "cell_type": "code",
   "execution_count": 16,
   "metadata": {},
   "outputs": [],
   "source": [
    "#functions to recover information and process data\n",
    "def recover_LOTUS_data(q_code, output_folder):\n",
    "    # Load the LOTUSDB CSV\n",
    "    lotusdb_df = pd.read_csv(LOTUSDB, low_memory=False)\n",
    "    \n",
    "    # Filter LOTUSDB data for the specified Q code\n",
    "    filtered_lotusdb = lotusdb_df[lotusdb_df['wikidata_Qcode'] == q_code]  # Ensure this column name matches your LOTUSDB CSV\n",
    "    \n",
    "    # Group and aggregate the data\n",
    "    grouped_df = filtered_lotusdb.groupby(\"structure_inchikey\").agg({\n",
    "        # Add all the aggregation rules here\n",
    "        # Example:\n",
    "        \"structure_wikidata\": \"first\",\n",
    "        \"structure_inchi\": \"first\",\n",
    "        \"structure_smiles\": \"first\",\n",
    "        \"structure_molecular_formula\": \"first\",\n",
    "        \"structure_exact_mass\": \"first\",\n",
    "        \"structure_xlogp\": \"first\",\n",
    "        \"structure_smiles_2D\": \"first\",\n",
    "        \"structure_cid\": \"first\",\n",
    "        \"structure_nameIupac\": \"first\",\n",
    "        \"structure_nameTraditional\": \"first\",\n",
    "        \"structure_taxonomy_npclassifier_01pathway\": \"first\",\n",
    "        \"structure_taxonomy_npclassifier_02superclass\": \"first\",\n",
    "        \"structure_taxonomy_npclassifier_03class\": \"first\",\n",
    "        \"organism_wikidata\": \"first\",\n",
    "        \"organism_taxonomy_gbifid\": \"first\",\n",
    "        \"organism_taxonomy_ncbiid\": \"first\",\n",
    "        \"organism_taxonomy_ottid\": \"first\",\n",
    "        \"organism_taxonomy_01domain\": \"first\",\n",
    "        \"organism_taxonomy_02kingdom\": \"first\",\n",
    "        \"organism_taxonomy_03phylum\": \"first\",\n",
    "        \"organism_taxonomy_04class\": \"first\",\n",
    "        \"organism_taxonomy_05order\": \"first\",\n",
    "        \"organism_taxonomy_06family\": \"first\",\n",
    "        \"organism_taxonomy_07tribe\": \"first\",\n",
    "        \"organism_taxonomy_08genus\": \"first\",\n",
    "        \"organism_taxonomy_09species\": \"first\",\n",
    "        \"organism_taxonomy_10varietas\": \"first\",\n",
    "        \"reference_wikidata\": lambda x: \"|\".join(map(str, x)),\n",
    "        \"reference_doi\": lambda x: \"|\".join(map(str, x))\n",
    "    }).reset_index()\n",
    "    \n",
    "    # Create 'chemical_superclass' and 'chemical_class' columns\n",
    "    grouped_df['chemical_superclass'] = grouped_df['structure_taxonomy_npclassifier_01pathway'] + '-' + grouped_df['structure_taxonomy_npclassifier_02superclass']\n",
    "    grouped_df['chemical_class'] = grouped_df['structure_taxonomy_npclassifier_01pathway'] + '-' + grouped_df['structure_taxonomy_npclassifier_03class']\n",
    "    \n",
    "    # Save the grouped data as a TSV file with the Q code as the filename\n",
    "    output_filename = os.path.join(output_folder, f\"{q_code}_reported.tsv\")\n",
    "    grouped_df.to_csv(output_filename, index=False, sep='\\t')\n",
    "\n",
    "    print(f\"Saved grouped data for Q code {q_code} to {output_filename}\")\n",
    "\n",
    "def process_canopus_output(input_folder, output_folder, q_code, min_class_confidence=0.8):\n",
    "    \"\"\"\n",
    "    Convert Canopus output to the format suitable for FBMN.\n",
    "\n",
    "    Args:\n",
    "    repository_path (str): Path to the Canopus output directory.\n",
    "    pathout (str): Path to the output directory for the converted file.\n",
    "    min_class_confidence (float, optional): Minimum class confidence cutoff. Defaults to 0.8.\n",
    "\n",
    "    Returns:\n",
    "    None\n",
    "    \"\"\"\n",
    "\n",
    "    canopus_path = os.path.join(input_folder, \"canopus_compound_summary.tsv\")\n",
    "    canopus_df = pd.read_csv(canopus_path, usecols=['id', 'molecularFormula', 'adduct', 'NPC#pathway',\n",
    "                                                    'NPC#pathway Probability', 'NPC#superclass',\n",
    "                                                    'NPC#superclass Probability', 'NPC#class',\n",
    "                                                    'NPC#class Probability'], sep='\\t')\n",
    "    canopus_df.rename(columns={'NPC#class Probability': 'classProbability'}, inplace=True)\n",
    "    canopus_df['shared name'] = canopus_df['id'].str.split('_').str[-1].astype(int)\n",
    "    canopus_df.drop('id', axis=1, inplace=True)\n",
    "    \n",
    "    # Filter based on class probability\n",
    "    canopus_df.drop(canopus_df[canopus_df.classProbability > min_class_confidence].index, inplace=True)\n",
    "    \n",
    "    # Drop unnecessary columns\n",
    "    canopus_df.drop(['classProbability', 'NPC#superclass Probability', 'NPC#pathway Probability', ],\n",
    "                    axis=1, inplace=True)\n",
    "    #rename columns\n",
    "    canopus_df.rename(columns={'shared name': 'row ID', 'adduct': 'adduct (canopus)',\n",
    "                               'molecularFormula': 'MF (canopus)', \n",
    "                               'NPC#pathway':'structure_taxonomy_npclassifier_01pathway',\n",
    "                               'NPC#superclass':'structure_taxonomy_npclassifier_02superclass',\n",
    "                               'NPC#class':'structure_taxonomy_npclassifier_03class'}, inplace=True)\n",
    "\n",
    "    # Create 'chemical_superclass' and 'chemical_class' columns\n",
    "    canopus_df['chemical_superclass'] = canopus_df['structure_taxonomy_npclassifier_01pathway'] + '-' + canopus_df['structure_taxonomy_npclassifier_02superclass']\n",
    "    canopus_df['chemical_class'] = canopus_df['structure_taxonomy_npclassifier_01pathway'] + '-' + canopus_df['structure_taxonomy_npclassifier_03class']\n",
    "        \n",
    "    # Write the converted data to a new file\n",
    "    canopus_path_out = os.path.join(output_folder, q_code + \"_annotated.tsv\")\n",
    "    canopus_df.to_csv(canopus_path_out, sep='\\t', index=False)\n",
    "\n",
    "    return None\n",
    "\n",
    "def interpolate_color(color1, color2, factor: float):\n",
    "    \"\"\"Interpolate between two colors\"\"\"\n",
    "    color1 = np.array(mcolors.to_rgb(color1))\n",
    "    color2 = np.array(mcolors.to_rgb(color2))\n",
    "    return mcolors.to_hex((1 - factor) * color1 + factor * color2)\n",
    "\n",
    "def generate_shades(pathway, num_shades):\n",
    "    # Define base colors for each Pathway\n",
    "    pathway_shades= {\n",
    "        'Terpenoids': ('#618264', '#D0E7D2'),  # Green start and lighter green end\n",
    "        'Alkaloids': ('#305F72', '#5CBCE2'),   # Blue start and lighter blue end  \n",
    "        'Shikimates and Phenylpropanoids': ('#80558C', '#CBA0AE'),  # Purple start and lighter purple end\n",
    "        'Polyketides': ('#EF4B4B', '#EC8F6A'),  # Red start and lighter purple end\n",
    "        'Fatty acids': ('#FF6C22', '#FF9209'),  # Orange start and lighter purple end\n",
    "        'Amino acids and Peptides': ('#F4E869', '#FAF2D3'),  # Yellow start and lighter purple end\n",
    "        'Carbohydrates': ('#65451F','#C8AE7D')  # Brown start and lighter purple end\n",
    "    }\n",
    "    base_color, end_color = pathway_shades.get(pathway, ('gray', 'lightgray'))\n",
    "\n",
    "    if num_shades == 1:\n",
    "        return [base_color]  # Return the base color if only one shade is requested\n",
    "    shades = []\n",
    "    for i in range(num_shades):\n",
    "        factor = i / (num_shades - 1)\n",
    "        shades.append(interpolate_color(base_color, end_color, factor))\n",
    "    return shades\n",
    "\n",
    "def split_chemical_superclass(row):\n",
    "    # Check if the value is a string before splitting\n",
    "    if isinstance(row['chemical_superclass'], str):\n",
    "        parts = row['chemical_superclass'].split('-')\n",
    "        if len(parts) == 2:\n",
    "            return parts[0], parts[1]  # Pathway and Superclass are present\n",
    "        else:\n",
    "            return parts[0], 'Unknown'  # Only Pathway is present, or the format is not as expected\n",
    "    else:\n",
    "        # Return default values if the entry is NaN or not a string\n",
    "        return 'Unknown', 'Unknown'\n",
    "        \n",
    "def barplot_sclass_species(output_folder, q_code, organims):\n",
    "    \"\"\"\n",
    "    Process data from .tsv files in the output folder and visualize it with a stacked barplot.\n",
    "\n",
    "    Parameters:\n",
    "    output_folder (str): Path to the folder containing .tsv files.\n",
    "\n",
    "    Returns:\n",
    "    None\n",
    "    \"\"\"\n",
    "    # Read reported data\n",
    "    reported_data = pd.read_csv(os.path.join(output_folder, q_code+\"_reported.tsv\"), sep='\\t')\n",
    "\n",
    "    # Read annotated data\n",
    "    annotated_data = pd.read_csv(os.path.join(output_folder, q_code+\"_annotated.tsv\"), sep='\\t')\n",
    "\n",
    "    # Combine reported and annotated data\n",
    "    reported_data['Type'] = 'Reported'\n",
    "    annotated_data['Type'] = 'Annotated'\n",
    "    all_data = pd.concat([reported_data, annotated_data])\n",
    "\n",
    "    # Rename the \"organism_taxonomy_09species\" column to \"species\"\n",
    "    all_data.rename(columns={'organism_taxonomy_09species': 'species'}, inplace=True)\n",
    "\n",
    "    # Remove 'API Error-API Error' and 'Not Classified-Not Classified'\n",
    "    all_data = all_data[~all_data['chemical_superclass'].isin(['API Error-API Error', 'Not Classified-Not Classified'])]\n",
    "\n",
    "    # Apply the function to each row\n",
    "    all_data[['Pathway', 'superclass']] = all_data.apply(lambda row: split_chemical_superclass(row), axis=1, result_type='expand')\n",
    "\n",
    "    # Process data for color mapping\n",
    "    color_map = {}\n",
    "    for pathway, superclasses in all_data.groupby('Pathway')['superclass'].unique().items():\n",
    "        shades = generate_shades(pathway, len(superclasses))\n",
    "        for superclass, shade in zip(superclasses, shades):\n",
    "            color_map[f\"{pathway}-{superclass}\"] = shade\n",
    "\n",
    "    # Group and aggregate data to calculate recurrence\n",
    "    agg_data = all_data.groupby(['Type', 'chemical_superclass']).size().reset_index(name='recurrence')\n",
    "\n",
    "    # Convert 'species' column to categorical data\n",
    "    agg_data['Type'] = pd.Categorical(agg_data['Type'], categories=agg_data['Type'].unique(), ordered=True)\n",
    "\n",
    "    # Get unique species names\n",
    "    unique_species = agg_data['Type'].unique()\n",
    "\n",
    "    # Get unique chemical superclasses and sort them alphabetically\n",
    "    unique_superclasses = sorted(agg_data['chemical_superclass'].unique())\n",
    "\n",
    "    # Calculate total recurrence for each species\n",
    "    total_recurrence_per_species = agg_data.groupby('Type')['recurrence'].sum()\n",
    "\n",
    "    # Create the stacked barplot with the custom color palette\n",
    "    fig = px.bar(agg_data, y='Type', x='recurrence',\n",
    "                 title='Stacked Barplot of reported and annotated Superclasses Occurrence for ' +organism,\n",
    "                 labels={'recurrence': 'Recurrence'},\n",
    "                 color='chemical_superclass',\n",
    "                 color_discrete_map=color_map,\n",
    "                 category_orders={'Type': unique_species, 'chemical_superclass': unique_superclasses},\n",
    "                 orientation='h')\n",
    "\n",
    "    # Modify the y-axis label\n",
    "    #fig.update_yaxes(title_text='<i>Species<i>')\n",
    "    \n",
    "    # Set a white background\n",
    "    fig.update_layout(plot_bgcolor='white')\n",
    "\n",
    "    # Modify the size of the figure\n",
    "    fig.update_layout(width=1500, height=1500)\n",
    "\n",
    "    # Save the figure as an HTML file\n",
    "    fig.write_html(os.path.join(output_folder, q_code+\"_Wikidata_superclass_barplot_vs_annotations.html\"))\n",
    "\n",
    "    # Show the figure\n",
    "    fig.show()\n",
    "\n",
    "    return None\n",
    "\n",
    "def barplot_pathway_species(output_folder, q_code, organims):\n",
    "    \"\"\"\n",
    "    Process data from .tsv files in the output folder and visualize it with a stacked barplot.\n",
    "\n",
    "    Parameters:\n",
    "    output_folder (str): Path to the folder containing .tsv files.\n",
    "\n",
    "    Returns:\n",
    "    None\n",
    "    \"\"\"\n",
    "    # Read reported data\n",
    "    reported_data = pd.read_csv(os.path.join(output_folder, q_code+\"_reported.tsv\"), sep='\\t')\n",
    "\n",
    "    # Read annotated data\n",
    "    annotated_data = pd.read_csv(os.path.join(output_folder, q_code+\"_annotated.tsv\"), sep='\\t')\n",
    "\n",
    "    # Combine reported and annotated data\n",
    "    reported_data['Type'] = 'Reported'\n",
    "    annotated_data['Type'] = 'Annotated'\n",
    "    all_data = pd.concat([reported_data, annotated_data])\n",
    "\n",
    "    # Rename the \"organism_taxonomy_09species\" column to \"species\"\n",
    "    all_data.rename(columns={'organism_taxonomy_09species': 'species'}, inplace=True)\n",
    "    all_data.rename(columns={'structure_taxonomy_npclassifier_01pathway': 'Pathway'}, inplace=True)\n",
    "\n",
    "    # Remove 'API Error-API Error' and 'Not Classified-Not Classified'\n",
    "    all_data = all_data[(all_data['Pathway'] != 'API Error') & (all_data['Pathway'] != 'Not Classified')]\n",
    "\n",
    "    # Apply the function to each row\n",
    "    all_data[['Pathway', 'superclass']] = all_data.apply(lambda row: split_chemical_superclass(row), axis=1, result_type='expand')\n",
    "\n",
    "    # Define custom colors for the 7 pathway categories\n",
    "    pathway_colors = {\n",
    "        'Terpenoids': '#618264',  # Green start and lighter green end\n",
    "        'Alkaloids': '#305F72',   # Blue start and lighter blue end\n",
    "        'Shikimates and Phenylpropanoids': '#80558C',  # Purple start and lighter purple end\n",
    "        'Polyketides': '#EF4B4B',  # Red start and lighter purple end\n",
    "        'Fatty acids': '#FF6C22',  # Orange start and lighter purple end\n",
    "        'Amino acids and Peptides': '#F4E869',  # Yellow start and lighter purple end\n",
    "        'Carbohydrates': '#65451F' # Brown start and lighter purple end\n",
    "    }\n",
    "\n",
    "    # Group and aggregate data to calculate recurrence\n",
    "    agg_data = all_data.groupby(['Type', 'Pathway']).size().reset_index(name='recurrence')\n",
    "\n",
    "    # Convert 'species' column to categorical data\n",
    "    agg_data['Type'] = pd.Categorical(agg_data['Type'], categories=agg_data['Type'].unique(), ordered=True)\n",
    "\n",
    "    # Get unique species names\n",
    "    unique_species = agg_data['Type'].unique()\n",
    "\n",
    "    # Get unique chemical superclasses and sort them alphabetically\n",
    "    unique_pathway = sorted(agg_data['Pathway'].unique())\n",
    "\n",
    "    # Calculate total recurrence for each species\n",
    "    total_recurrence_per_species = agg_data.groupby('Type')['recurrence'].sum()\n",
    "\n",
    "    # Create the stacked barplot with the custom color palette\n",
    "    fig = px.bar(agg_data, y='Type', x='recurrence',\n",
    "                 title='Stacked Barplot of reported and annotated Superclasses Occurrence for ' +organism,\n",
    "                 labels={'recurrence': 'Recurrence'},\n",
    "                 color='Pathway',\n",
    "                 color_discrete_map=pathway_colors,\n",
    "                 category_orders={'Type': unique_species, 'Pathway': unique_pathway},\n",
    "                 orientation='h')\n",
    "\n",
    "    # Set a white background\n",
    "    fig.update_layout(plot_bgcolor='white')\n",
    "\n",
    "    # Modify the size of the figure\n",
    "    fig.update_layout(width=1500, height=1500)\n",
    "\n",
    "    # Save the figure as an HTML file\n",
    "    fig.write_html(os.path.join(output_folder, q_code+\"_Wikidata_pathway_barplot_vs_annotations.html\"))\n",
    "\n",
    "    # Show the figure\n",
    "    fig.show()\n",
    "\n",
    "    return None"
   ]
  },
  {
   "cell_type": "markdown",
   "metadata": {},
   "source": [
    "Make sure you have everything indicated in the next cell"
   ]
  },
  {
   "cell_type": "code",
   "execution_count": 10,
   "metadata": {},
   "outputs": [],
   "source": [
    "#before starting be sure you have the latest LOTUS frozen metadata in your compouter and set the path below.\n",
    "\n",
    "LOTUSDB = 'C:/Users/quirosgu/Documents/Github/Yggdrasil/data_loc/LotusDB_inhouse_metadata.csv'#'/mnt/c/Users/quirosgu/Documents/Github/Yggdrasil/data_loc/LotusDB_inhouse_metadata.csv' #'/home/quirosgu/Desktop/FARMA-SHARE/RECHERCHE/FASIE_LAB/LuisQ/Yggdrasil/data_loc/LotusDB_inhouse_metadata.csv' #'/home/quirosgu/Desktop/FARMA-SHARE/RECHERCHE/FASIE_LAB/LuisQ/Yggdrasil/data_loc/LotusDB_inhouse_metadata.csv' #'C:/Users/quirosgu/Documents/Github/Yggdrasil/data_loc/LotusDB_inhouse_metadata.csv'#'/mnt/c/Users/quirosgu/Documents/Github/Yggdrasil/data_loc/LotusDB_inhouse_metadata.csv' #'/home/quirosgu/Desktop/FARMA-SHARE/RECHERCHE/FASIE_LAB/LuisQ/Yggdrasil/data_loc/LotusDB_inhouse_metadata.csv'\n",
    "\n",
    "#Define the folder where you have your data : \n",
    "\n",
    "# Define the folder where you want to recover all processed data\n",
    "\n",
    "input_folder = 'C:/Users/quirosgu/Desktop/Inmuno/Sirius_pos/' #put your path here\n",
    "\n",
    "#you need to put in the root of this folder he 'canopus_compound_summary.tsv' obtained from SIRIUS\n",
    "\n",
    "#do not modify from this line on\n",
    "\n",
    "# Output folder for the processed CSV files\n",
    "output_folder = f'{input_folder}output_data/'\n",
    "if not os.path.exists(output_folder):\n",
    "    os.makedirs(output_folder)"
   ]
  },
  {
   "cell_type": "markdown",
   "metadata": {},
   "source": [
    "Recover the reported chemistry of one species from Lotus"
   ]
  },
  {
   "cell_type": "code",
   "execution_count": 11,
   "metadata": {},
   "outputs": [
    {
     "name": "stdout",
     "output_type": "stream",
     "text": [
      "Saved grouped data for Q code Q55879736 to C:/Users/quirosgu/Desktop/Inmuno/Sirius_pos/output_data/Q55879736_reported.tsv\n"
     ]
    }
   ],
   "source": [
    "#1) recover the reported compounds in a species from Lotus \n",
    "\n",
    "#1.1 Look for the WikiData Qcode of the species here https://www.wikidata.org/wiki/Wikidata:Main_Page\n",
    "\n",
    "q_code = 'Q55879736'#'Q1424919' #yourQCodegoeshere #example for the species Tripterygium wilfordii\n",
    "organism = 'Maytenus woodsonii'#'Tripterygium wilfordii'\n",
    "\n",
    "#1.2 Recover the reported chemistry from Lotus \n",
    "\n",
    "# Process the single Q code\n",
    "recover_LOTUS_data(q_code, output_folder)\n"
   ]
  },
  {
   "cell_type": "markdown",
   "metadata": {},
   "source": [
    "Process the data from Sirius of the samples we want to compare against the reported data"
   ]
  },
  {
   "cell_type": "code",
   "execution_count": 12,
   "metadata": {},
   "outputs": [],
   "source": [
    "# just run the line, no need to do modifications. \n",
    "\n",
    "process_canopus_output(input_folder, output_folder, q_code, min_class_confidence=0.8)"
   ]
  },
  {
   "cell_type": "markdown",
   "metadata": {},
   "source": [
    "Lets plot the reported chemistry agains the annotated one!"
   ]
  },
  {
   "cell_type": "code",
   "execution_count": 13,
   "metadata": {},
   "outputs": [
    {
     "name": "stderr",
     "output_type": "stream",
     "text": [
      "C:\\Users\\quirosgu\\AppData\\Local\\Temp\\ipykernel_32380\\2943718948.py:188: FutureWarning:\n",
      "\n",
      "The default of observed=False is deprecated and will be changed to True in a future version of pandas. Pass observed=False to retain current behavior or observed=True to adopt the future default and silence this warning.\n",
      "\n"
     ]
    },
    {
     "data": {
      "application/vnd.plotly.v1+json": {
       "config": {
        "plotlyServerURL": "https://plot.ly"
       },
       "data": [
        {
         "alignmentgroup": "True",
         "hovertemplate": "chemical_superclass=Alkaloids-Anthranilic acid alkaloids<br>Recurrence=%{x}<br>Type=%{y}<extra></extra>",
         "legendgroup": "Alkaloids-Anthranilic acid alkaloids",
         "marker": {
          "color": "#366b81",
          "pattern": {
           "shape": ""
          }
         },
         "name": "Alkaloids-Anthranilic acid alkaloids",
         "offsetgroup": "Alkaloids-Anthranilic acid alkaloids",
         "orientation": "h",
         "showlegend": true,
         "textposition": "auto",
         "type": "bar",
         "x": [
          10
         ],
         "xaxis": "x",
         "y": [
          "Annotated"
         ],
         "yaxis": "y"
        },
        {
         "alignmentgroup": "True",
         "hovertemplate": "chemical_superclass=Alkaloids-Cyclic polyketides<br>Recurrence=%{x}<br>Type=%{y}<extra></extra>",
         "legendgroup": "Alkaloids-Cyclic polyketides",
         "marker": {
          "color": "#56b0d3",
          "pattern": {
           "shape": ""
          }
         },
         "name": "Alkaloids-Cyclic polyketides",
         "offsetgroup": "Alkaloids-Cyclic polyketides",
         "orientation": "h",
         "showlegend": true,
         "textposition": "auto",
         "type": "bar",
         "x": [
          1
         ],
         "xaxis": "x",
         "y": [
          "Annotated"
         ],
         "yaxis": "y"
        },
        {
         "alignmentgroup": "True",
         "hovertemplate": "chemical_superclass=Alkaloids-Diterpenoids<br>Recurrence=%{x}<br>Type=%{y}<extra></extra>",
         "legendgroup": "Alkaloids-Diterpenoids",
         "marker": {
          "color": "#51a4c5",
          "pattern": {
           "shape": ""
          }
         },
         "name": "Alkaloids-Diterpenoids",
         "offsetgroup": "Alkaloids-Diterpenoids",
         "orientation": "h",
         "showlegend": true,
         "textposition": "auto",
         "type": "bar",
         "x": [
          1
         ],
         "xaxis": "x",
         "y": [
          "Annotated"
         ],
         "yaxis": "y"
        },
        {
         "alignmentgroup": "True",
         "hovertemplate": "chemical_superclass=Alkaloids-Fatty amides<br>Recurrence=%{x}<br>Type=%{y}<extra></extra>",
         "legendgroup": "Alkaloids-Fatty amides",
         "marker": {
          "color": "#3f7f99",
          "pattern": {
           "shape": ""
          }
         },
         "name": "Alkaloids-Fatty amides",
         "offsetgroup": "Alkaloids-Fatty amides",
         "orientation": "h",
         "showlegend": true,
         "textposition": "auto",
         "type": "bar",
         "x": [
          4
         ],
         "xaxis": "x",
         "y": [
          "Annotated"
         ],
         "yaxis": "y"
        },
        {
         "alignmentgroup": "True",
         "hovertemplate": "chemical_superclass=Alkaloids-Fatty esters<br>Recurrence=%{x}<br>Type=%{y}<extra></extra>",
         "legendgroup": "Alkaloids-Fatty esters",
         "marker": {
          "color": "#4fa0c0",
          "pattern": {
           "shape": ""
          }
         },
         "name": "Alkaloids-Fatty esters",
         "offsetgroup": "Alkaloids-Fatty esters",
         "orientation": "h",
         "showlegend": true,
         "textposition": "auto",
         "type": "bar",
         "x": [
          2
         ],
         "xaxis": "x",
         "y": [
          "Annotated"
         ],
         "yaxis": "y"
        },
        {
         "alignmentgroup": "True",
         "hovertemplate": "chemical_superclass=Alkaloids-Flavonoids<br>Recurrence=%{x}<br>Type=%{y}<extra></extra>",
         "legendgroup": "Alkaloids-Flavonoids",
         "marker": {
          "color": "#5cbce2",
          "pattern": {
           "shape": ""
          }
         },
         "name": "Alkaloids-Flavonoids",
         "offsetgroup": "Alkaloids-Flavonoids",
         "orientation": "h",
         "showlegend": true,
         "textposition": "auto",
         "type": "bar",
         "x": [
          1
         ],
         "xaxis": "x",
         "y": [
          "Annotated"
         ],
         "yaxis": "y"
        },
        {
         "alignmentgroup": "True",
         "hovertemplate": "chemical_superclass=Alkaloids-Histidine alkaloids<br>Recurrence=%{x}<br>Type=%{y}<extra></extra>",
         "legendgroup": "Alkaloids-Histidine alkaloids",
         "marker": {
          "color": "#5ab8dd",
          "pattern": {
           "shape": ""
          }
         },
         "name": "Alkaloids-Histidine alkaloids",
         "offsetgroup": "Alkaloids-Histidine alkaloids",
         "orientation": "h",
         "showlegend": true,
         "textposition": "auto",
         "type": "bar",
         "x": [
          1
         ],
         "xaxis": "x",
         "y": [
          "Annotated"
         ],
         "yaxis": "y"
        },
        {
         "alignmentgroup": "True",
         "hovertemplate": "chemical_superclass=Alkaloids-Linear polyketides<br>Recurrence=%{x}<br>Type=%{y}<extra></extra>",
         "legendgroup": "Alkaloids-Linear polyketides",
         "marker": {
          "color": "#4790ac",
          "pattern": {
           "shape": ""
          }
         },
         "name": "Alkaloids-Linear polyketides",
         "offsetgroup": "Alkaloids-Linear polyketides",
         "orientation": "h",
         "showlegend": true,
         "textposition": "auto",
         "type": "bar",
         "x": [
          5
         ],
         "xaxis": "x",
         "y": [
          "Annotated"
         ],
         "yaxis": "y"
        },
        {
         "alignmentgroup": "True",
         "hovertemplate": "chemical_superclass=Alkaloids-Lysine alkaloids<br>Recurrence=%{x}<br>Type=%{y}<extra></extra>",
         "legendgroup": "Alkaloids-Lysine alkaloids",
         "marker": {
          "color": "#3b778f",
          "pattern": {
           "shape": ""
          }
         },
         "name": "Alkaloids-Lysine alkaloids",
         "offsetgroup": "Alkaloids-Lysine alkaloids",
         "orientation": "h",
         "showlegend": true,
         "textposition": "auto",
         "type": "bar",
         "x": [
          12
         ],
         "xaxis": "x",
         "y": [
          "Annotated"
         ],
         "yaxis": "y"
        },
        {
         "alignmentgroup": "True",
         "hovertemplate": "chemical_superclass=Alkaloids-Nicotinic acid alkaloids<br>Recurrence=%{x}<br>Type=%{y}<extra></extra>",
         "legendgroup": "Alkaloids-Nicotinic acid alkaloids",
         "marker": {
          "color": "#305f72",
          "pattern": {
           "shape": ""
          }
         },
         "name": "Alkaloids-Nicotinic acid alkaloids",
         "offsetgroup": "Alkaloids-Nicotinic acid alkaloids",
         "orientation": "h",
         "showlegend": true,
         "textposition": "auto",
         "type": "bar",
         "x": [
          41
         ],
         "xaxis": "x",
         "y": [
          "Annotated"
         ],
         "yaxis": "y"
        },
        {
         "alignmentgroup": "True",
         "hovertemplate": "chemical_superclass=Alkaloids-Nucleosides<br>Recurrence=%{x}<br>Type=%{y}<extra></extra>",
         "legendgroup": "Alkaloids-Nucleosides",
         "marker": {
          "color": "#54accf",
          "pattern": {
           "shape": ""
          }
         },
         "name": "Alkaloids-Nucleosides",
         "offsetgroup": "Alkaloids-Nucleosides",
         "orientation": "h",
         "showlegend": true,
         "textposition": "auto",
         "type": "bar",
         "x": [
          1
         ],
         "xaxis": "x",
         "y": [
          "Annotated"
         ],
         "yaxis": "y"
        },
        {
         "alignmentgroup": "True",
         "hovertemplate": "chemical_superclass=Alkaloids-Oligopeptides<br>Recurrence=%{x}<br>Type=%{y}<extra></extra>",
         "legendgroup": "Alkaloids-Oligopeptides",
         "marker": {
          "color": "#58b4d8",
          "pattern": {
           "shape": ""
          }
         },
         "name": "Alkaloids-Oligopeptides",
         "offsetgroup": "Alkaloids-Oligopeptides",
         "orientation": "h",
         "showlegend": true,
         "textposition": "auto",
         "type": "bar",
         "x": [
          4
         ],
         "xaxis": "x",
         "y": [
          "Annotated"
         ],
         "yaxis": "y"
        },
        {
         "alignmentgroup": "True",
         "hovertemplate": "chemical_superclass=Alkaloids-Ornithine alkaloids<br>Recurrence=%{x}<br>Type=%{y}<extra></extra>",
         "legendgroup": "Alkaloids-Ornithine alkaloids",
         "marker": {
          "color": "#386f85",
          "pattern": {
           "shape": ""
          }
         },
         "name": "Alkaloids-Ornithine alkaloids",
         "offsetgroup": "Alkaloids-Ornithine alkaloids",
         "orientation": "h",
         "showlegend": true,
         "textposition": "auto",
         "type": "bar",
         "x": [
          18
         ],
         "xaxis": "x",
         "y": [
          "Annotated"
         ],
         "yaxis": "y"
        },
        {
         "alignmentgroup": "True",
         "hovertemplate": "chemical_superclass=Alkaloids-Peptide alkaloids<br>Recurrence=%{x}<br>Type=%{y}<extra></extra>",
         "legendgroup": "Alkaloids-Peptide alkaloids",
         "marker": {
          "color": "#4d9cbb",
          "pattern": {
           "shape": ""
          }
         },
         "name": "Alkaloids-Peptide alkaloids",
         "offsetgroup": "Alkaloids-Peptide alkaloids",
         "orientation": "h",
         "showlegend": true,
         "textposition": "auto",
         "type": "bar",
         "x": [
          1
         ],
         "xaxis": "x",
         "y": [
          "Annotated"
         ],
         "yaxis": "y"
        },
        {
         "alignmentgroup": "True",
         "hovertemplate": "chemical_superclass=Alkaloids-Phenylpropanoids (C6-C3)<br>Recurrence=%{x}<br>Type=%{y}<extra></extra>",
         "legendgroup": "Alkaloids-Phenylpropanoids (C6-C3)",
         "marker": {
          "color": "#FFA15A",
          "pattern": {
           "shape": ""
          }
         },
         "name": "Alkaloids-Phenylpropanoids (C6-C3)",
         "offsetgroup": "Alkaloids-Phenylpropanoids (C6-C3)",
         "orientation": "h",
         "showlegend": true,
         "textposition": "auto",
         "type": "bar",
         "x": [
          1
         ],
         "xaxis": "x",
         "y": [
          "Annotated"
         ],
         "yaxis": "y"
        },
        {
         "alignmentgroup": "True",
         "hovertemplate": "chemical_superclass=Alkaloids-Polycyclic aromatic polyketides<br>Recurrence=%{x}<br>Type=%{y}<extra></extra>",
         "legendgroup": "Alkaloids-Polycyclic aromatic polyketides",
         "marker": {
          "color": "#41839e",
          "pattern": {
           "shape": ""
          }
         },
         "name": "Alkaloids-Polycyclic aromatic polyketides",
         "offsetgroup": "Alkaloids-Polycyclic aromatic polyketides",
         "orientation": "h",
         "showlegend": true,
         "textposition": "auto",
         "type": "bar",
         "x": [
          2
         ],
         "xaxis": "x",
         "y": [
          "Annotated"
         ],
         "yaxis": "y"
        },
        {
         "alignmentgroup": "True",
         "hovertemplate": "chemical_superclass=Alkaloids-Pseudoalkaloids<br>Recurrence=%{x}<br>Type=%{y}<extra></extra>",
         "legendgroup": "Alkaloids-Pseudoalkaloids",
         "marker": {
          "color": "#3d7b94",
          "pattern": {
           "shape": ""
          }
         },
         "name": "Alkaloids-Pseudoalkaloids",
         "offsetgroup": "Alkaloids-Pseudoalkaloids",
         "orientation": "h",
         "showlegend": true,
         "textposition": "auto",
         "type": "bar",
         "x": [
          27
         ],
         "xaxis": "x",
         "y": [
          "Annotated"
         ],
         "yaxis": "y"
        },
        {
         "alignmentgroup": "True",
         "hovertemplate": "chemical_superclass=Alkaloids-Pseudoalkaloids (transamidation)<br>Recurrence=%{x}<br>Type=%{y}<extra></extra>",
         "legendgroup": "Alkaloids-Pseudoalkaloids (transamidation)",
         "marker": {
          "color": "#52a8ca",
          "pattern": {
           "shape": ""
          }
         },
         "name": "Alkaloids-Pseudoalkaloids (transamidation)",
         "offsetgroup": "Alkaloids-Pseudoalkaloids (transamidation)",
         "orientation": "h",
         "showlegend": true,
         "textposition": "auto",
         "type": "bar",
         "x": [
          2
         ],
         "xaxis": "x",
         "y": [
          "Annotated"
         ],
         "yaxis": "y"
        },
        {
         "alignmentgroup": "True",
         "hovertemplate": "chemical_superclass=Alkaloids-Saccharides<br>Recurrence=%{x}<br>Type=%{y}<extra></extra>",
         "legendgroup": "Alkaloids-Saccharides",
         "marker": {
          "color": "#4994b1",
          "pattern": {
           "shape": ""
          }
         },
         "name": "Alkaloids-Saccharides",
         "offsetgroup": "Alkaloids-Saccharides",
         "orientation": "h",
         "showlegend": true,
         "textposition": "auto",
         "type": "bar",
         "x": [
          1
         ],
         "xaxis": "x",
         "y": [
          "Annotated"
         ],
         "yaxis": "y"
        },
        {
         "alignmentgroup": "True",
         "hovertemplate": "chemical_superclass=Alkaloids-Sesquiterpenoids<br>Recurrence=%{x}<br>Type=%{y}<extra></extra>",
         "legendgroup": "Alkaloids-Sesquiterpenoids",
         "marker": {
          "color": "#458ba8",
          "pattern": {
           "shape": ""
          }
         },
         "name": "Alkaloids-Sesquiterpenoids",
         "offsetgroup": "Alkaloids-Sesquiterpenoids",
         "orientation": "h",
         "showlegend": true,
         "textposition": "auto",
         "type": "bar",
         "x": [
          3
         ],
         "xaxis": "x",
         "y": [
          "Annotated"
         ],
         "yaxis": "y"
        },
        {
         "alignmentgroup": "True",
         "hovertemplate": "chemical_superclass=Alkaloids-Small peptides<br>Recurrence=%{x}<br>Type=%{y}<extra></extra>",
         "legendgroup": "Alkaloids-Small peptides",
         "marker": {
          "color": "#34677c",
          "pattern": {
           "shape": ""
          }
         },
         "name": "Alkaloids-Small peptides",
         "offsetgroup": "Alkaloids-Small peptides",
         "orientation": "h",
         "showlegend": true,
         "textposition": "auto",
         "type": "bar",
         "x": [
          10
         ],
         "xaxis": "x",
         "y": [
          "Annotated"
         ],
         "yaxis": "y"
        },
        {
         "alignmentgroup": "True",
         "hovertemplate": "chemical_superclass=Alkaloids-Steroids<br>Recurrence=%{x}<br>Type=%{y}<extra></extra>",
         "legendgroup": "Alkaloids-Steroids",
         "marker": {
          "color": "#4b98b6",
          "pattern": {
           "shape": ""
          }
         },
         "name": "Alkaloids-Steroids",
         "offsetgroup": "Alkaloids-Steroids",
         "orientation": "h",
         "showlegend": true,
         "textposition": "auto",
         "type": "bar",
         "x": [
          2
         ],
         "xaxis": "x",
         "y": [
          "Annotated"
         ],
         "yaxis": "y"
        },
        {
         "alignmentgroup": "True",
         "hovertemplate": "chemical_superclass=Alkaloids-Tryptophan alkaloids<br>Recurrence=%{x}<br>Type=%{y}<extra></extra>",
         "legendgroup": "Alkaloids-Tryptophan alkaloids",
         "marker": {
          "color": "#3a738a",
          "pattern": {
           "shape": ""
          }
         },
         "name": "Alkaloids-Tryptophan alkaloids",
         "offsetgroup": "Alkaloids-Tryptophan alkaloids",
         "orientation": "h",
         "showlegend": true,
         "textposition": "auto",
         "type": "bar",
         "x": [
          31
         ],
         "xaxis": "x",
         "y": [
          "Annotated"
         ],
         "yaxis": "y"
        },
        {
         "alignmentgroup": "True",
         "hovertemplate": "chemical_superclass=Alkaloids-Tyrosine alkaloids<br>Recurrence=%{x}<br>Type=%{y}<extra></extra>",
         "legendgroup": "Alkaloids-Tyrosine alkaloids",
         "marker": {
          "color": "#326377",
          "pattern": {
           "shape": ""
          }
         },
         "name": "Alkaloids-Tyrosine alkaloids",
         "offsetgroup": "Alkaloids-Tyrosine alkaloids",
         "orientation": "h",
         "showlegend": true,
         "textposition": "auto",
         "type": "bar",
         "x": [
          7
         ],
         "xaxis": "x",
         "y": [
          "Annotated"
         ],
         "yaxis": "y"
        },
        {
         "alignmentgroup": "True",
         "hovertemplate": "chemical_superclass=Amino acids and Peptides-Amino acid glycosides<br>Recurrence=%{x}<br>Type=%{y}<extra></extra>",
         "legendgroup": "Amino acids and Peptides-Amino acid glycosides",
         "marker": {
          "color": "#f8efb0",
          "pattern": {
           "shape": ""
          }
         },
         "name": "Amino acids and Peptides-Amino acid glycosides",
         "offsetgroup": "Amino acids and Peptides-Amino acid glycosides",
         "orientation": "h",
         "showlegend": true,
         "textposition": "auto",
         "type": "bar",
         "x": [
          1
         ],
         "xaxis": "x",
         "y": [
          "Annotated"
         ],
         "yaxis": "y"
        },
        {
         "alignmentgroup": "True",
         "hovertemplate": "chemical_superclass=Amino acids and Peptides-Fatty amides<br>Recurrence=%{x}<br>Type=%{y}<extra></extra>",
         "legendgroup": "Amino acids and Peptides-Fatty amides",
         "marker": {
          "color": "#f9f1c7",
          "pattern": {
           "shape": ""
          }
         },
         "name": "Amino acids and Peptides-Fatty amides",
         "offsetgroup": "Amino acids and Peptides-Fatty amides",
         "orientation": "h",
         "showlegend": true,
         "textposition": "auto",
         "type": "bar",
         "x": [
          1
         ],
         "xaxis": "x",
         "y": [
          "Annotated"
         ],
         "yaxis": "y"
        },
        {
         "alignmentgroup": "True",
         "hovertemplate": "chemical_superclass=Amino acids and Peptides-Linear polyketides<br>Recurrence=%{x}<br>Type=%{y}<extra></extra>",
         "legendgroup": "Amino acids and Peptides-Linear polyketides",
         "marker": {
          "color": "#f4e869",
          "pattern": {
           "shape": ""
          }
         },
         "name": "Amino acids and Peptides-Linear polyketides",
         "offsetgroup": "Amino acids and Peptides-Linear polyketides",
         "orientation": "h",
         "showlegend": true,
         "textposition": "auto",
         "type": "bar",
         "x": [
          2
         ],
         "xaxis": "x",
         "y": [
          "Annotated"
         ],
         "yaxis": "y"
        },
        {
         "alignmentgroup": "True",
         "hovertemplate": "chemical_superclass=Amino acids and Peptides-Lysine alkaloids<br>Recurrence=%{x}<br>Type=%{y}<extra></extra>",
         "legendgroup": "Amino acids and Peptides-Lysine alkaloids",
         "marker": {
          "color": "#f7eea4",
          "pattern": {
           "shape": ""
          }
         },
         "name": "Amino acids and Peptides-Lysine alkaloids",
         "offsetgroup": "Amino acids and Peptides-Lysine alkaloids",
         "orientation": "h",
         "showlegend": true,
         "textposition": "auto",
         "type": "bar",
         "x": [
          2
         ],
         "xaxis": "x",
         "y": [
          "Annotated"
         ],
         "yaxis": "y"
        },
        {
         "alignmentgroup": "True",
         "hovertemplate": "chemical_superclass=Amino acids and Peptides-Oligopeptides<br>Recurrence=%{x}<br>Type=%{y}<extra></extra>",
         "legendgroup": "Amino acids and Peptides-Oligopeptides",
         "marker": {
          "color": "#f5ea81",
          "pattern": {
           "shape": ""
          }
         },
         "name": "Amino acids and Peptides-Oligopeptides",
         "offsetgroup": "Amino acids and Peptides-Oligopeptides",
         "orientation": "h",
         "showlegend": true,
         "textposition": "auto",
         "type": "bar",
         "x": [
          62
         ],
         "xaxis": "x",
         "y": [
          "Annotated"
         ],
         "yaxis": "y"
        },
        {
         "alignmentgroup": "True",
         "hovertemplate": "chemical_superclass=Amino acids and Peptides-Ornithine alkaloids<br>Recurrence=%{x}<br>Type=%{y}<extra></extra>",
         "legendgroup": "Amino acids and Peptides-Ornithine alkaloids",
         "marker": {
          "color": "#faf2d3",
          "pattern": {
           "shape": ""
          }
         },
         "name": "Amino acids and Peptides-Ornithine alkaloids",
         "offsetgroup": "Amino acids and Peptides-Ornithine alkaloids",
         "orientation": "h",
         "showlegend": true,
         "textposition": "auto",
         "type": "bar",
         "x": [
          1
         ],
         "xaxis": "x",
         "y": [
          "Annotated"
         ],
         "yaxis": "y"
        },
        {
         "alignmentgroup": "True",
         "hovertemplate": "chemical_superclass=Amino acids and Peptides-Peptide alkaloids<br>Recurrence=%{x}<br>Type=%{y}<extra></extra>",
         "legendgroup": "Amino acids and Peptides-Peptide alkaloids",
         "marker": {
          "color": "#f7ec98",
          "pattern": {
           "shape": ""
          }
         },
         "name": "Amino acids and Peptides-Peptide alkaloids",
         "offsetgroup": "Amino acids and Peptides-Peptide alkaloids",
         "orientation": "h",
         "showlegend": true,
         "textposition": "auto",
         "type": "bar",
         "x": [
          1
         ],
         "xaxis": "x",
         "y": [
          "Annotated"
         ],
         "yaxis": "y"
        },
        {
         "alignmentgroup": "True",
         "hovertemplate": "chemical_superclass=Amino acids and Peptides-Phenylpropanoids (C6-C3)<br>Recurrence=%{x}<br>Type=%{y}<extra></extra>",
         "legendgroup": "Amino acids and Peptides-Phenylpropanoids (C6-C3)",
         "marker": {
          "color": "#19d3f3",
          "pattern": {
           "shape": ""
          }
         },
         "name": "Amino acids and Peptides-Phenylpropanoids (C6-C3)",
         "offsetgroup": "Amino acids and Peptides-Phenylpropanoids (C6-C3)",
         "orientation": "h",
         "showlegend": true,
         "textposition": "auto",
         "type": "bar",
         "x": [
          1
         ],
         "xaxis": "x",
         "y": [
          "Annotated"
         ],
         "yaxis": "y"
        },
        {
         "alignmentgroup": "True",
         "hovertemplate": "chemical_superclass=Amino acids and Peptides-Small peptides<br>Recurrence=%{x}<br>Type=%{y}<extra></extra>",
         "legendgroup": "Amino acids and Peptides-Small peptides",
         "marker": {
          "color": "#f5e975",
          "pattern": {
           "shape": ""
          }
         },
         "name": "Amino acids and Peptides-Small peptides",
         "offsetgroup": "Amino acids and Peptides-Small peptides",
         "orientation": "h",
         "showlegend": true,
         "textposition": "auto",
         "type": "bar",
         "x": [
          57
         ],
         "xaxis": "x",
         "y": [
          "Annotated"
         ],
         "yaxis": "y"
        },
        {
         "alignmentgroup": "True",
         "hovertemplate": "chemical_superclass=Amino acids and Peptides-Steroids<br>Recurrence=%{x}<br>Type=%{y}<extra></extra>",
         "legendgroup": "Amino acids and Peptides-Steroids",
         "marker": {
          "color": "#f6eb8c",
          "pattern": {
           "shape": ""
          }
         },
         "name": "Amino acids and Peptides-Steroids",
         "offsetgroup": "Amino acids and Peptides-Steroids",
         "orientation": "h",
         "showlegend": true,
         "textposition": "auto",
         "type": "bar",
         "x": [
          2
         ],
         "xaxis": "x",
         "y": [
          "Annotated"
         ],
         "yaxis": "y"
        },
        {
         "alignmentgroup": "True",
         "hovertemplate": "chemical_superclass=Carbohydrates-Aminosugars and aminoglycosides<br>Recurrence=%{x}<br>Type=%{y}<extra></extra>",
         "legendgroup": "Carbohydrates-Aminosugars and aminoglycosides",
         "marker": {
          "color": "#6c4c26",
          "pattern": {
           "shape": ""
          }
         },
         "name": "Carbohydrates-Aminosugars and aminoglycosides",
         "offsetgroup": "Carbohydrates-Aminosugars and aminoglycosides",
         "orientation": "h",
         "showlegend": true,
         "textposition": "auto",
         "type": "bar",
         "x": [
          20
         ],
         "xaxis": "x",
         "y": [
          "Annotated"
         ],
         "yaxis": "y"
        },
        {
         "alignmentgroup": "True",
         "hovertemplate": "chemical_superclass=Carbohydrates-Fatty esters<br>Recurrence=%{x}<br>Type=%{y}<extra></extra>",
         "legendgroup": "Carbohydrates-Fatty esters",
         "marker": {
          "color": "#65451f",
          "pattern": {
           "shape": ""
          }
         },
         "name": "Carbohydrates-Fatty esters",
         "offsetgroup": "Carbohydrates-Fatty esters",
         "orientation": "h",
         "showlegend": true,
         "textposition": "auto",
         "type": "bar",
         "x": [
          2
         ],
         "xaxis": "x",
         "y": [
          "Annotated"
         ],
         "yaxis": "y"
        },
        {
         "alignmentgroup": "True",
         "hovertemplate": "chemical_superclass=Carbohydrates-Glycerolipids<br>Recurrence=%{x}<br>Type=%{y}<extra></extra>",
         "legendgroup": "Carbohydrates-Glycerolipids",
         "marker": {
          "color": "#8f7247",
          "pattern": {
           "shape": ""
          }
         },
         "name": "Carbohydrates-Glycerolipids",
         "offsetgroup": "Carbohydrates-Glycerolipids",
         "orientation": "h",
         "showlegend": true,
         "textposition": "auto",
         "type": "bar",
         "x": [
          2
         ],
         "xaxis": "x",
         "y": [
          "Annotated"
         ],
         "yaxis": "y"
        },
        {
         "alignmentgroup": "True",
         "hovertemplate": "chemical_superclass=Carbohydrates-Linear polyketides<br>Recurrence=%{x}<br>Type=%{y}<extra></extra>",
         "legendgroup": "Carbohydrates-Linear polyketides",
         "marker": {
          "color": "#967a4e",
          "pattern": {
           "shape": ""
          }
         },
         "name": "Carbohydrates-Linear polyketides",
         "offsetgroup": "Carbohydrates-Linear polyketides",
         "orientation": "h",
         "showlegend": true,
         "textposition": "auto",
         "type": "bar",
         "x": [
          1
         ],
         "xaxis": "x",
         "y": [
          "Annotated"
         ],
         "yaxis": "y"
        },
        {
         "alignmentgroup": "True",
         "hovertemplate": "chemical_superclass=Carbohydrates-Lysine alkaloids<br>Recurrence=%{x}<br>Type=%{y}<extra></extra>",
         "legendgroup": "Carbohydrates-Lysine alkaloids",
         "marker": {
          "color": "#886a41",
          "pattern": {
           "shape": ""
          }
         },
         "name": "Carbohydrates-Lysine alkaloids",
         "offsetgroup": "Carbohydrates-Lysine alkaloids",
         "orientation": "h",
         "showlegend": true,
         "textposition": "auto",
         "type": "bar",
         "x": [
          1
         ],
         "xaxis": "x",
         "y": [
          "Annotated"
         ],
         "yaxis": "y"
        },
        {
         "alignmentgroup": "True",
         "hovertemplate": "chemical_superclass=Carbohydrates-Monoterpenoids<br>Recurrence=%{x}<br>Type=%{y}<extra></extra>",
         "legendgroup": "Carbohydrates-Monoterpenoids",
         "marker": {
          "color": "#9e8155",
          "pattern": {
           "shape": ""
          }
         },
         "name": "Carbohydrates-Monoterpenoids",
         "offsetgroup": "Carbohydrates-Monoterpenoids",
         "orientation": "h",
         "showlegend": true,
         "textposition": "auto",
         "type": "bar",
         "x": [
          3
         ],
         "xaxis": "x",
         "y": [
          "Annotated"
         ],
         "yaxis": "y"
        },
        {
         "alignmentgroup": "True",
         "hovertemplate": "chemical_superclass=Carbohydrates-Mycosporine derivatives<br>Recurrence=%{x}<br>Type=%{y}<extra></extra>",
         "legendgroup": "Carbohydrates-Mycosporine derivatives",
         "marker": {
          "color": "#ac9062",
          "pattern": {
           "shape": ""
          }
         },
         "name": "Carbohydrates-Mycosporine derivatives",
         "offsetgroup": "Carbohydrates-Mycosporine derivatives",
         "orientation": "h",
         "showlegend": true,
         "textposition": "auto",
         "type": "bar",
         "x": [
          1
         ],
         "xaxis": "x",
         "y": [
          "Annotated"
         ],
         "yaxis": "y"
        },
        {
         "alignmentgroup": "True",
         "hovertemplate": "chemical_superclass=Carbohydrates-Nucleosides<br>Recurrence=%{x}<br>Type=%{y}<extra></extra>",
         "legendgroup": "Carbohydrates-Nucleosides",
         "marker": {
          "color": "#a5885b",
          "pattern": {
           "shape": ""
          }
         },
         "name": "Carbohydrates-Nucleosides",
         "offsetgroup": "Carbohydrates-Nucleosides",
         "orientation": "h",
         "showlegend": true,
         "textposition": "auto",
         "type": "bar",
         "x": [
          9
         ],
         "xaxis": "x",
         "y": [
          "Annotated"
         ],
         "yaxis": "y"
        },
        {
         "alignmentgroup": "True",
         "hovertemplate": "chemical_superclass=Carbohydrates-Oligopeptides<br>Recurrence=%{x}<br>Type=%{y}<extra></extra>",
         "legendgroup": "Carbohydrates-Oligopeptides",
         "marker": {
          "color": "#b39869",
          "pattern": {
           "shape": ""
          }
         },
         "name": "Carbohydrates-Oligopeptides",
         "offsetgroup": "Carbohydrates-Oligopeptides",
         "orientation": "h",
         "showlegend": true,
         "textposition": "auto",
         "type": "bar",
         "x": [
          1
         ],
         "xaxis": "x",
         "y": [
          "Annotated"
         ],
         "yaxis": "y"
        },
        {
         "alignmentgroup": "True",
         "hovertemplate": "chemical_superclass=Carbohydrates-Ornithine alkaloids<br>Recurrence=%{x}<br>Type=%{y}<extra></extra>",
         "legendgroup": "Carbohydrates-Ornithine alkaloids",
         "marker": {
          "color": "#ba9f70",
          "pattern": {
           "shape": ""
          }
         },
         "name": "Carbohydrates-Ornithine alkaloids",
         "offsetgroup": "Carbohydrates-Ornithine alkaloids",
         "orientation": "h",
         "showlegend": true,
         "textposition": "auto",
         "type": "bar",
         "x": [
          2
         ],
         "xaxis": "x",
         "y": [
          "Annotated"
         ],
         "yaxis": "y"
        },
        {
         "alignmentgroup": "True",
         "hovertemplate": "chemical_superclass=Carbohydrates-Polyols<br>Recurrence=%{x}<br>Type=%{y}<extra></extra>",
         "legendgroup": "Carbohydrates-Polyols",
         "marker": {
          "color": "#7a5c33",
          "pattern": {
           "shape": ""
          }
         },
         "name": "Carbohydrates-Polyols",
         "offsetgroup": "Carbohydrates-Polyols",
         "orientation": "h",
         "showlegend": true,
         "textposition": "auto",
         "type": "bar",
         "x": [
          6
         ],
         "xaxis": "x",
         "y": [
          "Annotated"
         ],
         "yaxis": "y"
        },
        {
         "alignmentgroup": "True",
         "hovertemplate": "chemical_superclass=Carbohydrates-Pseudoalkaloids<br>Recurrence=%{x}<br>Type=%{y}<extra></extra>",
         "legendgroup": "Carbohydrates-Pseudoalkaloids",
         "marker": {
          "color": "#c8ae7d",
          "pattern": {
           "shape": ""
          }
         },
         "name": "Carbohydrates-Pseudoalkaloids",
         "offsetgroup": "Carbohydrates-Pseudoalkaloids",
         "orientation": "h",
         "showlegend": true,
         "textposition": "auto",
         "type": "bar",
         "x": [
          3
         ],
         "xaxis": "x",
         "y": [
          "Annotated"
         ],
         "yaxis": "y"
        },
        {
         "alignmentgroup": "True",
         "hovertemplate": "chemical_superclass=Carbohydrates-Pseudoalkaloids (transamidation)<br>Recurrence=%{x}<br>Type=%{y}<extra></extra>",
         "legendgroup": "Carbohydrates-Pseudoalkaloids (transamidation)",
         "marker": {
          "color": "#c1a776",
          "pattern": {
           "shape": ""
          }
         },
         "name": "Carbohydrates-Pseudoalkaloids (transamidation)",
         "offsetgroup": "Carbohydrates-Pseudoalkaloids (transamidation)",
         "orientation": "h",
         "showlegend": true,
         "textposition": "auto",
         "type": "bar",
         "x": [
          1
         ],
         "xaxis": "x",
         "y": [
          "Annotated"
         ],
         "yaxis": "y"
        },
        {
         "alignmentgroup": "True",
         "hovertemplate": "chemical_superclass=Carbohydrates-Saccharides<br>Recurrence=%{x}<br>Type=%{y}<extra></extra>",
         "legendgroup": "Carbohydrates-Saccharides",
         "marker": {
          "color": "#81633a",
          "pattern": {
           "shape": ""
          }
         },
         "name": "Carbohydrates-Saccharides",
         "offsetgroup": "Carbohydrates-Saccharides",
         "orientation": "h",
         "showlegend": true,
         "textposition": "auto",
         "type": "bar",
         "x": [
          24
         ],
         "xaxis": "x",
         "y": [
          "Annotated"
         ],
         "yaxis": "y"
        },
        {
         "alignmentgroup": "True",
         "hovertemplate": "chemical_superclass=Carbohydrates-Small peptides<br>Recurrence=%{x}<br>Type=%{y}<extra></extra>",
         "legendgroup": "Carbohydrates-Small peptides",
         "marker": {
          "color": "#73542c",
          "pattern": {
           "shape": ""
          }
         },
         "name": "Carbohydrates-Small peptides",
         "offsetgroup": "Carbohydrates-Small peptides",
         "orientation": "h",
         "showlegend": true,
         "textposition": "auto",
         "type": "bar",
         "x": [
          2
         ],
         "xaxis": "x",
         "y": [
          "Annotated"
         ],
         "yaxis": "y"
        },
        {
         "alignmentgroup": "True",
         "hovertemplate": "chemical_superclass=Fatty acids-Eicosanoids<br>Recurrence=%{x}<br>Type=%{y}<extra></extra>",
         "legendgroup": "Fatty acids-Eicosanoids",
         "marker": {
          "color": "#ff8015",
          "pattern": {
           "shape": ""
          }
         },
         "name": "Fatty acids-Eicosanoids",
         "offsetgroup": "Fatty acids-Eicosanoids",
         "orientation": "h",
         "showlegend": true,
         "textposition": "auto",
         "type": "bar",
         "x": [
          3
         ],
         "xaxis": "x",
         "y": [
          "Annotated"
         ],
         "yaxis": "y"
        },
        {
         "alignmentgroup": "True",
         "hovertemplate": "chemical_superclass=Fatty acids-Fatty Acids and Conjugates<br>Recurrence=%{x}<br>Type=%{y}<extra></extra>",
         "legendgroup": "Fatty acids-Fatty Acids and Conjugates",
         "marker": {
          "color": "#ff7c17",
          "pattern": {
           "shape": ""
          }
         },
         "name": "Fatty acids-Fatty Acids and Conjugates",
         "offsetgroup": "Fatty acids-Fatty Acids and Conjugates",
         "orientation": "h",
         "showlegend": true,
         "textposition": "auto",
         "type": "bar",
         "x": [
          9
         ],
         "xaxis": "x",
         "y": [
          "Annotated"
         ],
         "yaxis": "y"
        },
        {
         "alignmentgroup": "True",
         "hovertemplate": "chemical_superclass=Fatty acids-Fatty acyl glycosides<br>Recurrence=%{x}<br>Type=%{y}<extra></extra>",
         "legendgroup": "Fatty acids-Fatty acyl glycosides",
         "marker": {
          "color": "#ff8c0d",
          "pattern": {
           "shape": ""
          }
         },
         "name": "Fatty acids-Fatty acyl glycosides",
         "offsetgroup": "Fatty acids-Fatty acyl glycosides",
         "orientation": "h",
         "showlegend": true,
         "textposition": "auto",
         "type": "bar",
         "x": [
          5
         ],
         "xaxis": "x",
         "y": [
          "Annotated"
         ],
         "yaxis": "y"
        },
        {
         "alignmentgroup": "True",
         "hovertemplate": "chemical_superclass=Fatty acids-Fatty acyls<br>Recurrence=%{x}<br>Type=%{y}<extra></extra>",
         "legendgroup": "Fatty acids-Fatty acyls",
         "marker": {
          "color": "#ff8214",
          "pattern": {
           "shape": ""
          }
         },
         "name": "Fatty acids-Fatty acyls",
         "offsetgroup": "Fatty acids-Fatty acyls",
         "orientation": "h",
         "showlegend": true,
         "textposition": "auto",
         "type": "bar",
         "x": [
          1
         ],
         "xaxis": "x",
         "y": [
          "Annotated"
         ],
         "yaxis": "y"
        },
        {
         "alignmentgroup": "True",
         "hovertemplate": "chemical_superclass=Fatty acids-Fatty amides<br>Recurrence=%{x}<br>Type=%{y}<extra></extra>",
         "legendgroup": "Fatty acids-Fatty amides",
         "marker": {
          "color": "#ff6c22",
          "pattern": {
           "shape": ""
          }
         },
         "name": "Fatty acids-Fatty amides",
         "offsetgroup": "Fatty acids-Fatty amides",
         "orientation": "h",
         "showlegend": true,
         "textposition": "auto",
         "type": "bar",
         "x": [
          16
         ],
         "xaxis": "x",
         "y": [
          "Annotated"
         ],
         "yaxis": "y"
        },
        {
         "alignmentgroup": "True",
         "hovertemplate": "chemical_superclass=Fatty acids-Fatty esters<br>Recurrence=%{x}<br>Type=%{y}<extra></extra>",
         "legendgroup": "Fatty acids-Fatty esters",
         "marker": {
          "color": "#ff8611",
          "pattern": {
           "shape": ""
          }
         },
         "name": "Fatty acids-Fatty esters",
         "offsetgroup": "Fatty acids-Fatty esters",
         "orientation": "h",
         "showlegend": true,
         "textposition": "auto",
         "type": "bar",
         "x": [
          3
         ],
         "xaxis": "x",
         "y": [
          "Annotated"
         ],
         "yaxis": "y"
        },
        {
         "alignmentgroup": "True",
         "hovertemplate": "chemical_superclass=Fatty acids-Glycerolipids<br>Recurrence=%{x}<br>Type=%{y}<extra></extra>",
         "legendgroup": "Fatty acids-Glycerolipids",
         "marker": {
          "color": "#ff741d",
          "pattern": {
           "shape": ""
          }
         },
         "name": "Fatty acids-Glycerolipids",
         "offsetgroup": "Fatty acids-Glycerolipids",
         "orientation": "h",
         "showlegend": true,
         "textposition": "auto",
         "type": "bar",
         "x": [
          5
         ],
         "xaxis": "x",
         "y": [
          "Annotated"
         ],
         "yaxis": "y"
        },
        {
         "alignmentgroup": "True",
         "hovertemplate": "chemical_superclass=Fatty acids-Glycerophospholipids<br>Recurrence=%{x}<br>Type=%{y}<extra></extra>",
         "legendgroup": "Fatty acids-Glycerophospholipids",
         "marker": {
          "color": "#ff781a",
          "pattern": {
           "shape": ""
          }
         },
         "name": "Fatty acids-Glycerophospholipids",
         "offsetgroup": "Fatty acids-Glycerophospholipids",
         "orientation": "h",
         "showlegend": true,
         "textposition": "auto",
         "type": "bar",
         "x": [
          6
         ],
         "xaxis": "x",
         "y": [
          "Annotated"
         ],
         "yaxis": "y"
        },
        {
         "alignmentgroup": "True",
         "hovertemplate": "chemical_superclass=Fatty acids-Linear polyketides<br>Recurrence=%{x}<br>Type=%{y}<extra></extra>",
         "legendgroup": "Fatty acids-Linear polyketides",
         "marker": {
          "color": "#ff701f",
          "pattern": {
           "shape": ""
          }
         },
         "name": "Fatty acids-Linear polyketides",
         "offsetgroup": "Fatty acids-Linear polyketides",
         "orientation": "h",
         "showlegend": true,
         "textposition": "auto",
         "type": "bar",
         "x": [
          5
         ],
         "xaxis": "x",
         "y": [
          "Annotated"
         ],
         "yaxis": "y"
        },
        {
         "alignmentgroup": "True",
         "hovertemplate": "chemical_superclass=Fatty acids-Monoterpenoids<br>Recurrence=%{x}<br>Type=%{y}<extra></extra>",
         "legendgroup": "Fatty acids-Monoterpenoids",
         "marker": {
          "color": "#ff6e21",
          "pattern": {
           "shape": ""
          }
         },
         "name": "Fatty acids-Monoterpenoids",
         "offsetgroup": "Fatty acids-Monoterpenoids",
         "orientation": "h",
         "showlegend": true,
         "textposition": "auto",
         "type": "bar",
         "x": [
          2
         ],
         "xaxis": "x",
         "y": [
          "Annotated"
         ],
         "yaxis": "y"
        },
        {
         "alignmentgroup": "True",
         "hovertemplate": "chemical_superclass=Fatty acids-Nucleosides<br>Recurrence=%{x}<br>Type=%{y}<extra></extra>",
         "legendgroup": "Fatty acids-Nucleosides",
         "marker": {
          "color": "#ff8a0e",
          "pattern": {
           "shape": ""
          }
         },
         "name": "Fatty acids-Nucleosides",
         "offsetgroup": "Fatty acids-Nucleosides",
         "orientation": "h",
         "showlegend": true,
         "textposition": "auto",
         "type": "bar",
         "x": [
          1
         ],
         "xaxis": "x",
         "y": [
          "Annotated"
         ],
         "yaxis": "y"
        },
        {
         "alignmentgroup": "True",
         "hovertemplate": "chemical_superclass=Fatty acids-Octadecanoids<br>Recurrence=%{x}<br>Type=%{y}<extra></extra>",
         "legendgroup": "Fatty acids-Octadecanoids",
         "marker": {
          "color": "#ff7a19",
          "pattern": {
           "shape": ""
          }
         },
         "name": "Fatty acids-Octadecanoids",
         "offsetgroup": "Fatty acids-Octadecanoids",
         "orientation": "h",
         "showlegend": true,
         "textposition": "auto",
         "type": "bar",
         "x": [
          1
         ],
         "xaxis": "x",
         "y": [
          "Annotated"
         ],
         "yaxis": "y"
        },
        {
         "alignmentgroup": "True",
         "hovertemplate": "chemical_superclass=Fatty acids-Oligopeptides<br>Recurrence=%{x}<br>Type=%{y}<extra></extra>",
         "legendgroup": "Fatty acids-Oligopeptides",
         "marker": {
          "color": "#ff9209",
          "pattern": {
           "shape": ""
          }
         },
         "name": "Fatty acids-Oligopeptides",
         "offsetgroup": "Fatty acids-Oligopeptides",
         "orientation": "h",
         "showlegend": true,
         "textposition": "auto",
         "type": "bar",
         "x": [
          1
         ],
         "xaxis": "x",
         "y": [
          "Annotated"
         ],
         "yaxis": "y"
        },
        {
         "alignmentgroup": "True",
         "hovertemplate": "chemical_superclass=Fatty acids-Ornithine alkaloids<br>Recurrence=%{x}<br>Type=%{y}<extra></extra>",
         "legendgroup": "Fatty acids-Ornithine alkaloids",
         "marker": {
          "color": "#ff721e",
          "pattern": {
           "shape": ""
          }
         },
         "name": "Fatty acids-Ornithine alkaloids",
         "offsetgroup": "Fatty acids-Ornithine alkaloids",
         "orientation": "h",
         "showlegend": true,
         "textposition": "auto",
         "type": "bar",
         "x": [
          3
         ],
         "xaxis": "x",
         "y": [
          "Annotated"
         ],
         "yaxis": "y"
        },
        {
         "alignmentgroup": "True",
         "hovertemplate": "chemical_superclass=Fatty acids-Phenylpropanoids (C6-C3)<br>Recurrence=%{x}<br>Type=%{y}<extra></extra>",
         "legendgroup": "Fatty acids-Phenylpropanoids (C6-C3)",
         "marker": {
          "color": "#FF6692",
          "pattern": {
           "shape": ""
          }
         },
         "name": "Fatty acids-Phenylpropanoids (C6-C3)",
         "offsetgroup": "Fatty acids-Phenylpropanoids (C6-C3)",
         "orientation": "h",
         "showlegend": true,
         "textposition": "auto",
         "type": "bar",
         "x": [
          1
         ],
         "xaxis": "x",
         "y": [
          "Annotated"
         ],
         "yaxis": "y"
        },
        {
         "alignmentgroup": "True",
         "hovertemplate": "chemical_superclass=Fatty acids-Sesquiterpenoids<br>Recurrence=%{x}<br>Type=%{y}<extra></extra>",
         "legendgroup": "Fatty acids-Sesquiterpenoids",
         "marker": {
          "color": "#ff900a",
          "pattern": {
           "shape": ""
          }
         },
         "name": "Fatty acids-Sesquiterpenoids",
         "offsetgroup": "Fatty acids-Sesquiterpenoids",
         "orientation": "h",
         "showlegend": true,
         "textposition": "auto",
         "type": "bar",
         "x": [
          1
         ],
         "xaxis": "x",
         "y": [
          "Annotated"
         ],
         "yaxis": "y"
        },
        {
         "alignmentgroup": "True",
         "hovertemplate": "chemical_superclass=Fatty acids-Small peptides<br>Recurrence=%{x}<br>Type=%{y}<extra></extra>",
         "legendgroup": "Fatty acids-Small peptides",
         "marker": {
          "color": "#ff7e16",
          "pattern": {
           "shape": ""
          }
         },
         "name": "Fatty acids-Small peptides",
         "offsetgroup": "Fatty acids-Small peptides",
         "orientation": "h",
         "showlegend": true,
         "textposition": "auto",
         "type": "bar",
         "x": [
          2
         ],
         "xaxis": "x",
         "y": [
          "Annotated"
         ],
         "yaxis": "y"
        },
        {
         "alignmentgroup": "True",
         "hovertemplate": "chemical_superclass=Fatty acids-Sphingolipids<br>Recurrence=%{x}<br>Type=%{y}<extra></extra>",
         "legendgroup": "Fatty acids-Sphingolipids",
         "marker": {
          "color": "#ff8412",
          "pattern": {
           "shape": ""
          }
         },
         "name": "Fatty acids-Sphingolipids",
         "offsetgroup": "Fatty acids-Sphingolipids",
         "orientation": "h",
         "showlegend": true,
         "textposition": "auto",
         "type": "bar",
         "x": [
          5
         ],
         "xaxis": "x",
         "y": [
          "Annotated"
         ],
         "yaxis": "y"
        },
        {
         "alignmentgroup": "True",
         "hovertemplate": "chemical_superclass=Fatty acids-Steroids<br>Recurrence=%{x}<br>Type=%{y}<extra></extra>",
         "legendgroup": "Fatty acids-Steroids",
         "marker": {
          "color": "#ff761b",
          "pattern": {
           "shape": ""
          }
         },
         "name": "Fatty acids-Steroids",
         "offsetgroup": "Fatty acids-Steroids",
         "orientation": "h",
         "showlegend": true,
         "textposition": "auto",
         "type": "bar",
         "x": [
          2
         ],
         "xaxis": "x",
         "y": [
          "Annotated"
         ],
         "yaxis": "y"
        },
        {
         "alignmentgroup": "True",
         "hovertemplate": "chemical_superclass=Fatty acids-Triterpenoids<br>Recurrence=%{x}<br>Type=%{y}<extra></extra>",
         "legendgroup": "Fatty acids-Triterpenoids",
         "marker": {
          "color": "#ff8e0c",
          "pattern": {
           "shape": ""
          }
         },
         "name": "Fatty acids-Triterpenoids",
         "offsetgroup": "Fatty acids-Triterpenoids",
         "orientation": "h",
         "showlegend": true,
         "textposition": "auto",
         "type": "bar",
         "x": [
          1
         ],
         "xaxis": "x",
         "y": [
          "Annotated"
         ],
         "yaxis": "y"
        },
        {
         "alignmentgroup": "True",
         "hovertemplate": "chemical_superclass=Polyketides-Coumarins<br>Recurrence=%{x}<br>Type=%{y}<extra></extra>",
         "legendgroup": "Polyketides-Coumarins",
         "marker": {
          "color": "#ee6557",
          "pattern": {
           "shape": ""
          }
         },
         "name": "Polyketides-Coumarins",
         "offsetgroup": "Polyketides-Coumarins",
         "orientation": "h",
         "showlegend": true,
         "textposition": "auto",
         "type": "bar",
         "x": [
          1
         ],
         "xaxis": "x",
         "y": [
          "Annotated"
         ],
         "yaxis": "y"
        },
        {
         "alignmentgroup": "True",
         "hovertemplate": "chemical_superclass=Polyketides-Diterpenoids<br>Recurrence=%{x}<br>Type=%{y}<extra></extra>",
         "legendgroup": "Polyketides-Diterpenoids",
         "marker": {
          "color": "#ec8767",
          "pattern": {
           "shape": ""
          }
         },
         "name": "Polyketides-Diterpenoids",
         "offsetgroup": "Polyketides-Diterpenoids",
         "orientation": "h",
         "showlegend": true,
         "textposition": "auto",
         "type": "bar",
         "x": [
          4
         ],
         "xaxis": "x",
         "y": [
          "Annotated"
         ],
         "yaxis": "y"
        },
        {
         "alignmentgroup": "True",
         "hovertemplate": "chemical_superclass=Polyketides-Lignans<br>Recurrence=%{x}<br>Type=%{y}<extra></extra>",
         "legendgroup": "Polyketides-Lignans",
         "marker": {
          "color": "#ec8465",
          "pattern": {
           "shape": ""
          }
         },
         "name": "Polyketides-Lignans",
         "offsetgroup": "Polyketides-Lignans",
         "orientation": "h",
         "showlegend": true,
         "textposition": "auto",
         "type": "bar",
         "x": [
          1
         ],
         "xaxis": "x",
         "y": [
          "Annotated"
         ],
         "yaxis": "y"
        },
        {
         "alignmentgroup": "True",
         "hovertemplate": "chemical_superclass=Polyketides-Linear polyketides<br>Recurrence=%{x}<br>Type=%{y}<extra></extra>",
         "legendgroup": "Polyketides-Linear polyketides",
         "marker": {
          "color": "#ef4b4b",
          "pattern": {
           "shape": ""
          }
         },
         "name": "Polyketides-Linear polyketides",
         "offsetgroup": "Polyketides-Linear polyketides",
         "orientation": "h",
         "showlegend": true,
         "textposition": "auto",
         "type": "bar",
         "x": [
          4
         ],
         "xaxis": "x",
         "y": [
          "Annotated"
         ],
         "yaxis": "y"
        },
        {
         "alignmentgroup": "True",
         "hovertemplate": "chemical_superclass=Polyketides-Lysine alkaloids<br>Recurrence=%{x}<br>Type=%{y}<extra></extra>",
         "legendgroup": "Polyketides-Lysine alkaloids",
         "marker": {
          "color": "#ec8f6a",
          "pattern": {
           "shape": ""
          }
         },
         "name": "Polyketides-Lysine alkaloids",
         "offsetgroup": "Polyketides-Lysine alkaloids",
         "orientation": "h",
         "showlegend": true,
         "textposition": "auto",
         "type": "bar",
         "x": [
          1
         ],
         "xaxis": "x",
         "y": [
          "Annotated"
         ],
         "yaxis": "y"
        },
        {
         "alignmentgroup": "True",
         "hovertemplate": "chemical_superclass=Polyketides-Macrolides<br>Recurrence=%{x}<br>Type=%{y}<extra></extra>",
         "legendgroup": "Polyketides-Macrolides",
         "marker": {
          "color": "#ef534e",
          "pattern": {
           "shape": ""
          }
         },
         "name": "Polyketides-Macrolides",
         "offsetgroup": "Polyketides-Macrolides",
         "orientation": "h",
         "showlegend": true,
         "textposition": "auto",
         "type": "bar",
         "x": [
          22
         ],
         "xaxis": "x",
         "y": [
          "Annotated"
         ],
         "yaxis": "y"
        },
        {
         "alignmentgroup": "True",
         "hovertemplate": "chemical_superclass=Polyketides-Naphthalenes<br>Recurrence=%{x}<br>Type=%{y}<extra></extra>",
         "legendgroup": "Polyketides-Naphthalenes",
         "marker": {
          "color": "#ee6255",
          "pattern": {
           "shape": ""
          }
         },
         "name": "Polyketides-Naphthalenes",
         "offsetgroup": "Polyketides-Naphthalenes",
         "orientation": "h",
         "showlegend": true,
         "textposition": "auto",
         "type": "bar",
         "x": [
          1
         ],
         "xaxis": "x",
         "y": [
          "Annotated"
         ],
         "yaxis": "y"
        },
        {
         "alignmentgroup": "True",
         "hovertemplate": "chemical_superclass=Polyketides-Nicotinic acid alkaloids<br>Recurrence=%{x}<br>Type=%{y}<extra></extra>",
         "legendgroup": "Polyketides-Nicotinic acid alkaloids",
         "marker": {
          "color": "#ee6959",
          "pattern": {
           "shape": ""
          }
         },
         "name": "Polyketides-Nicotinic acid alkaloids",
         "offsetgroup": "Polyketides-Nicotinic acid alkaloids",
         "orientation": "h",
         "showlegend": true,
         "textposition": "auto",
         "type": "bar",
         "x": [
          2
         ],
         "xaxis": "x",
         "y": [
          "Annotated"
         ],
         "yaxis": "y"
        },
        {
         "alignmentgroup": "True",
         "hovertemplate": "chemical_superclass=Polyketides-Oligopeptides<br>Recurrence=%{x}<br>Type=%{y}<extra></extra>",
         "legendgroup": "Polyketides-Oligopeptides",
         "marker": {
          "color": "#ee5650",
          "pattern": {
           "shape": ""
          }
         },
         "name": "Polyketides-Oligopeptides",
         "offsetgroup": "Polyketides-Oligopeptides",
         "orientation": "h",
         "showlegend": true,
         "textposition": "auto",
         "type": "bar",
         "x": [
          6
         ],
         "xaxis": "x",
         "y": [
          "Annotated"
         ],
         "yaxis": "y"
        },
        {
         "alignmentgroup": "True",
         "hovertemplate": "chemical_superclass=Polyketides-Peptide alkaloids<br>Recurrence=%{x}<br>Type=%{y}<extra></extra>",
         "legendgroup": "Polyketides-Peptide alkaloids",
         "marker": {
          "color": "#ec8b68",
          "pattern": {
           "shape": ""
          }
         },
         "name": "Polyketides-Peptide alkaloids",
         "offsetgroup": "Polyketides-Peptide alkaloids",
         "orientation": "h",
         "showlegend": true,
         "textposition": "auto",
         "type": "bar",
         "x": [
          1
         ],
         "xaxis": "x",
         "y": [
          "Annotated"
         ],
         "yaxis": "y"
        },
        {
         "alignmentgroup": "True",
         "hovertemplate": "chemical_superclass=Polyketides-Phenylpropanoids (C6-C3)<br>Recurrence=%{x}<br>Type=%{y}<extra></extra>",
         "legendgroup": "Polyketides-Phenylpropanoids (C6-C3)",
         "marker": {
          "color": "#B6E880",
          "pattern": {
           "shape": ""
          }
         },
         "name": "Polyketides-Phenylpropanoids (C6-C3)",
         "offsetgroup": "Polyketides-Phenylpropanoids (C6-C3)",
         "orientation": "h",
         "showlegend": true,
         "textposition": "auto",
         "type": "bar",
         "x": [
          1
         ],
         "xaxis": "x",
         "y": [
          "Annotated"
         ],
         "yaxis": "y"
        },
        {
         "alignmentgroup": "True",
         "hovertemplate": "chemical_superclass=Polyketides-Polycyclic aromatic polyketides<br>Recurrence=%{x}<br>Type=%{y}<extra></extra>",
         "legendgroup": "Polyketides-Polycyclic aromatic polyketides",
         "marker": {
          "color": "#ed755e",
          "pattern": {
           "shape": ""
          }
         },
         "name": "Polyketides-Polycyclic aromatic polyketides",
         "offsetgroup": "Polyketides-Polycyclic aromatic polyketides",
         "orientation": "h",
         "showlegend": true,
         "textposition": "auto",
         "type": "bar",
         "x": [
          3
         ],
         "xaxis": "x",
         "y": [
          "Annotated"
         ],
         "yaxis": "y"
        },
        {
         "alignmentgroup": "True",
         "hovertemplate": "chemical_superclass=Polyketides-Polyethers<br>Recurrence=%{x}<br>Type=%{y}<extra></extra>",
         "legendgroup": "Polyketides-Polyethers",
         "marker": {
          "color": "#ed8063",
          "pattern": {
           "shape": ""
          }
         },
         "name": "Polyketides-Polyethers",
         "offsetgroup": "Polyketides-Polyethers",
         "orientation": "h",
         "showlegend": true,
         "textposition": "auto",
         "type": "bar",
         "x": [
          1
         ],
         "xaxis": "x",
         "y": [
          "Annotated"
         ],
         "yaxis": "y"
        },
        {
         "alignmentgroup": "True",
         "hovertemplate": "chemical_superclass=Polyketides-Pseudoalkaloids<br>Recurrence=%{x}<br>Type=%{y}<extra></extra>",
         "legendgroup": "Polyketides-Pseudoalkaloids",
         "marker": {
          "color": "#ee5a52",
          "pattern": {
           "shape": ""
          }
         },
         "name": "Polyketides-Pseudoalkaloids",
         "offsetgroup": "Polyketides-Pseudoalkaloids",
         "orientation": "h",
         "showlegend": true,
         "textposition": "auto",
         "type": "bar",
         "x": [
          1
         ],
         "xaxis": "x",
         "y": [
          "Annotated"
         ],
         "yaxis": "y"
        },
        {
         "alignmentgroup": "True",
         "hovertemplate": "chemical_superclass=Polyketides-Pseudoalkaloids (transamidation)<br>Recurrence=%{x}<br>Type=%{y}<extra></extra>",
         "legendgroup": "Polyketides-Pseudoalkaloids (transamidation)",
         "marker": {
          "color": "#ed7860",
          "pattern": {
           "shape": ""
          }
         },
         "name": "Polyketides-Pseudoalkaloids (transamidation)",
         "offsetgroup": "Polyketides-Pseudoalkaloids (transamidation)",
         "orientation": "h",
         "showlegend": true,
         "textposition": "auto",
         "type": "bar",
         "x": [
          1
         ],
         "xaxis": "x",
         "y": [
          "Annotated"
         ],
         "yaxis": "y"
        },
        {
         "alignmentgroup": "True",
         "hovertemplate": "chemical_superclass=Polyketides-Small peptides<br>Recurrence=%{x}<br>Type=%{y}<extra></extra>",
         "legendgroup": "Polyketides-Small peptides",
         "marker": {
          "color": "#ed715c",
          "pattern": {
           "shape": ""
          }
         },
         "name": "Polyketides-Small peptides",
         "offsetgroup": "Polyketides-Small peptides",
         "orientation": "h",
         "showlegend": true,
         "textposition": "auto",
         "type": "bar",
         "x": [
          3
         ],
         "xaxis": "x",
         "y": [
          "Annotated"
         ],
         "yaxis": "y"
        },
        {
         "alignmentgroup": "True",
         "hovertemplate": "chemical_superclass=Polyketides-Sphingolipids<br>Recurrence=%{x}<br>Type=%{y}<extra></extra>",
         "legendgroup": "Polyketides-Sphingolipids",
         "marker": {
          "color": "#ee6d5a",
          "pattern": {
           "shape": ""
          }
         },
         "name": "Polyketides-Sphingolipids",
         "offsetgroup": "Polyketides-Sphingolipids",
         "orientation": "h",
         "showlegend": true,
         "textposition": "auto",
         "type": "bar",
         "x": [
          1
         ],
         "xaxis": "x",
         "y": [
          "Annotated"
         ],
         "yaxis": "y"
        },
        {
         "alignmentgroup": "True",
         "hovertemplate": "chemical_superclass=Polyketides-Tryptophan alkaloids<br>Recurrence=%{x}<br>Type=%{y}<extra></extra>",
         "legendgroup": "Polyketides-Tryptophan alkaloids",
         "marker": {
          "color": "#ed7c61",
          "pattern": {
           "shape": ""
          }
         },
         "name": "Polyketides-Tryptophan alkaloids",
         "offsetgroup": "Polyketides-Tryptophan alkaloids",
         "orientation": "h",
         "showlegend": true,
         "textposition": "auto",
         "type": "bar",
         "x": [
          2
         ],
         "xaxis": "x",
         "y": [
          "Annotated"
         ],
         "yaxis": "y"
        },
        {
         "alignmentgroup": "True",
         "hovertemplate": "chemical_superclass=Polyketides-Tyrosine alkaloids<br>Recurrence=%{x}<br>Type=%{y}<extra></extra>",
         "legendgroup": "Polyketides-Tyrosine alkaloids",
         "marker": {
          "color": "#ee5e54",
          "pattern": {
           "shape": ""
          }
         },
         "name": "Polyketides-Tyrosine alkaloids",
         "offsetgroup": "Polyketides-Tyrosine alkaloids",
         "orientation": "h",
         "showlegend": true,
         "textposition": "auto",
         "type": "bar",
         "x": [
          2
         ],
         "xaxis": "x",
         "y": [
          "Annotated"
         ],
         "yaxis": "y"
        },
        {
         "alignmentgroup": "True",
         "hovertemplate": "chemical_superclass=Shikimates and Phenylpropanoids-Anthranilic acid alkaloids<br>Recurrence=%{x}<br>Type=%{y}<extra></extra>",
         "legendgroup": "Shikimates and Phenylpropanoids-Anthranilic acid alkaloids",
         "marker": {
          "color": "#bb90a7",
          "pattern": {
           "shape": ""
          }
         },
         "name": "Shikimates and Phenylpropanoids-Anthranilic acid alkaloids",
         "offsetgroup": "Shikimates and Phenylpropanoids-Anthranilic acid alkaloids",
         "orientation": "h",
         "showlegend": true,
         "textposition": "auto",
         "type": "bar",
         "x": [
          1
         ],
         "xaxis": "x",
         "y": [
          "Annotated"
         ],
         "yaxis": "y"
        },
        {
         "alignmentgroup": "True",
         "hovertemplate": "chemical_superclass=Shikimates and Phenylpropanoids-Coumarins<br>Recurrence=%{x}<br>Type=%{y}<extra></extra>",
         "legendgroup": "Shikimates and Phenylpropanoids-Coumarins",
         "marker": {
          "color": "#956a96",
          "pattern": {
           "shape": ""
          }
         },
         "name": "Shikimates and Phenylpropanoids-Coumarins",
         "offsetgroup": "Shikimates and Phenylpropanoids-Coumarins",
         "orientation": "h",
         "showlegend": true,
         "textposition": "auto",
         "type": "bar",
         "x": [
          8
         ],
         "xaxis": "x",
         "y": [
          "Annotated"
         ],
         "yaxis": "y"
        },
        {
         "alignmentgroup": "True",
         "hovertemplate": "chemical_superclass=Shikimates and Phenylpropanoids-Diphenyl ethers (DPEs)<br>Recurrence=%{x}<br>Type=%{y}<extra></extra>",
         "legendgroup": "Shikimates and Phenylpropanoids-Diphenyl ethers (DPEs)",
         "marker": {
          "color": "#b68ba4",
          "pattern": {
           "shape": ""
          }
         },
         "name": "Shikimates and Phenylpropanoids-Diphenyl ethers (DPEs)",
         "offsetgroup": "Shikimates and Phenylpropanoids-Diphenyl ethers (DPEs)",
         "orientation": "h",
         "showlegend": true,
         "textposition": "auto",
         "type": "bar",
         "x": [
          2
         ],
         "xaxis": "x",
         "y": [
          "Annotated"
         ],
         "yaxis": "y"
        },
        {
         "alignmentgroup": "True",
         "hovertemplate": "chemical_superclass=Shikimates and Phenylpropanoids-Diterpenoids<br>Recurrence=%{x}<br>Type=%{y}<extra></extra>",
         "legendgroup": "Shikimates and Phenylpropanoids-Diterpenoids",
         "marker": {
          "color": "#c095a9",
          "pattern": {
           "shape": ""
          }
         },
         "name": "Shikimates and Phenylpropanoids-Diterpenoids",
         "offsetgroup": "Shikimates and Phenylpropanoids-Diterpenoids",
         "orientation": "h",
         "showlegend": true,
         "textposition": "auto",
         "type": "bar",
         "x": [
          1
         ],
         "xaxis": "x",
         "y": [
          "Annotated"
         ],
         "yaxis": "y"
        },
        {
         "alignmentgroup": "True",
         "hovertemplate": "chemical_superclass=Shikimates and Phenylpropanoids-Flavonoids<br>Recurrence=%{x}<br>Type=%{y}<extra></extra>",
         "legendgroup": "Shikimates and Phenylpropanoids-Flavonoids",
         "marker": {
          "color": "#906593",
          "pattern": {
           "shape": ""
          }
         },
         "name": "Shikimates and Phenylpropanoids-Flavonoids",
         "offsetgroup": "Shikimates and Phenylpropanoids-Flavonoids",
         "orientation": "h",
         "showlegend": true,
         "textposition": "auto",
         "type": "bar",
         "x": [
          10
         ],
         "xaxis": "x",
         "y": [
          "Annotated"
         ],
         "yaxis": "y"
        },
        {
         "alignmentgroup": "True",
         "hovertemplate": "chemical_superclass=Shikimates and Phenylpropanoids-Lignans<br>Recurrence=%{x}<br>Type=%{y}<extra></extra>",
         "legendgroup": "Shikimates and Phenylpropanoids-Lignans",
         "marker": {
          "color": "#855a8e",
          "pattern": {
           "shape": ""
          }
         },
         "name": "Shikimates and Phenylpropanoids-Lignans",
         "offsetgroup": "Shikimates and Phenylpropanoids-Lignans",
         "orientation": "h",
         "showlegend": true,
         "textposition": "auto",
         "type": "bar",
         "x": [
          9
         ],
         "xaxis": "x",
         "y": [
          "Annotated"
         ],
         "yaxis": "y"
        },
        {
         "alignmentgroup": "True",
         "hovertemplate": "chemical_superclass=Shikimates and Phenylpropanoids-Linear polyketides<br>Recurrence=%{x}<br>Type=%{y}<extra></extra>",
         "legendgroup": "Shikimates and Phenylpropanoids-Linear polyketides",
         "marker": {
          "color": "#ab809f",
          "pattern": {
           "shape": ""
          }
         },
         "name": "Shikimates and Phenylpropanoids-Linear polyketides",
         "offsetgroup": "Shikimates and Phenylpropanoids-Linear polyketides",
         "orientation": "h",
         "showlegend": true,
         "textposition": "auto",
         "type": "bar",
         "x": [
          1
         ],
         "xaxis": "x",
         "y": [
          "Annotated"
         ],
         "yaxis": "y"
        },
        {
         "alignmentgroup": "True",
         "hovertemplate": "chemical_superclass=Shikimates and Phenylpropanoids-Macrolides<br>Recurrence=%{x}<br>Type=%{y}<extra></extra>",
         "legendgroup": "Shikimates and Phenylpropanoids-Macrolides",
         "marker": {
          "color": "#c69bac",
          "pattern": {
           "shape": ""
          }
         },
         "name": "Shikimates and Phenylpropanoids-Macrolides",
         "offsetgroup": "Shikimates and Phenylpropanoids-Macrolides",
         "orientation": "h",
         "showlegend": true,
         "textposition": "auto",
         "type": "bar",
         "x": [
          2
         ],
         "xaxis": "x",
         "y": [
          "Annotated"
         ],
         "yaxis": "y"
        },
        {
         "alignmentgroup": "True",
         "hovertemplate": "chemical_superclass=Shikimates and Phenylpropanoids-Meroterpenoids<br>Recurrence=%{x}<br>Type=%{y}<extra></extra>",
         "legendgroup": "Shikimates and Phenylpropanoids-Meroterpenoids",
         "marker": {
          "color": "#a0759b",
          "pattern": {
           "shape": ""
          }
         },
         "name": "Shikimates and Phenylpropanoids-Meroterpenoids",
         "offsetgroup": "Shikimates and Phenylpropanoids-Meroterpenoids",
         "orientation": "h",
         "showlegend": true,
         "textposition": "auto",
         "type": "bar",
         "x": [
          1
         ],
         "xaxis": "x",
         "y": [
          "Annotated"
         ],
         "yaxis": "y"
        },
        {
         "alignmentgroup": "True",
         "hovertemplate": "chemical_superclass=Shikimates and Phenylpropanoids-Monoterpenoids<br>Recurrence=%{x}<br>Type=%{y}<extra></extra>",
         "legendgroup": "Shikimates and Phenylpropanoids-Monoterpenoids",
         "marker": {
          "color": "#80558c",
          "pattern": {
           "shape": ""
          }
         },
         "name": "Shikimates and Phenylpropanoids-Monoterpenoids",
         "offsetgroup": "Shikimates and Phenylpropanoids-Monoterpenoids",
         "orientation": "h",
         "showlegend": true,
         "textposition": "auto",
         "type": "bar",
         "x": [
          4
         ],
         "xaxis": "x",
         "y": [
          "Annotated"
         ],
         "yaxis": "y"
        },
        {
         "alignmentgroup": "True",
         "hovertemplate": "chemical_superclass=Shikimates and Phenylpropanoids-Phenolic acids (C6-C1)<br>Recurrence=%{x}<br>Type=%{y}<extra></extra>",
         "legendgroup": "Shikimates and Phenylpropanoids-Phenolic acids (C6-C1)",
         "marker": {
          "color": "#FF97FF",
          "pattern": {
           "shape": ""
          }
         },
         "name": "Shikimates and Phenylpropanoids-Phenolic acids (C6-C1)",
         "offsetgroup": "Shikimates and Phenylpropanoids-Phenolic acids (C6-C1)",
         "orientation": "h",
         "showlegend": true,
         "textposition": "auto",
         "type": "bar",
         "x": [
          1
         ],
         "xaxis": "x",
         "y": [
          "Annotated"
         ],
         "yaxis": "y"
        },
        {
         "alignmentgroup": "True",
         "hovertemplate": "chemical_superclass=Shikimates and Phenylpropanoids-Phenylpropanoids (C6-C3)<br>Recurrence=%{x}<br>Type=%{y}<extra></extra>",
         "legendgroup": "Shikimates and Phenylpropanoids-Phenylpropanoids (C6-C3)",
         "marker": {
          "color": "#FECB52",
          "pattern": {
           "shape": ""
          }
         },
         "name": "Shikimates and Phenylpropanoids-Phenylpropanoids (C6-C3)",
         "offsetgroup": "Shikimates and Phenylpropanoids-Phenylpropanoids (C6-C3)",
         "orientation": "h",
         "showlegend": true,
         "textposition": "auto",
         "type": "bar",
         "x": [
          7
         ],
         "xaxis": "x",
         "y": [
          "Annotated"
         ],
         "yaxis": "y"
        },
        {
         "alignmentgroup": "True",
         "hovertemplate": "chemical_superclass=Shikimates and Phenylpropanoids-Small peptides<br>Recurrence=%{x}<br>Type=%{y}<extra></extra>",
         "legendgroup": "Shikimates and Phenylpropanoids-Small peptides",
         "marker": {
          "color": "#b085a2",
          "pattern": {
           "shape": ""
          }
         },
         "name": "Shikimates and Phenylpropanoids-Small peptides",
         "offsetgroup": "Shikimates and Phenylpropanoids-Small peptides",
         "orientation": "h",
         "showlegend": true,
         "textposition": "auto",
         "type": "bar",
         "x": [
          1
         ],
         "xaxis": "x",
         "y": [
          "Annotated"
         ],
         "yaxis": "y"
        },
        {
         "alignmentgroup": "True",
         "hovertemplate": "chemical_superclass=Shikimates and Phenylpropanoids-Stilbenoids<br>Recurrence=%{x}<br>Type=%{y}<extra></extra>",
         "legendgroup": "Shikimates and Phenylpropanoids-Stilbenoids",
         "marker": {
          "color": "#cba0ae",
          "pattern": {
           "shape": ""
          }
         },
         "name": "Shikimates and Phenylpropanoids-Stilbenoids",
         "offsetgroup": "Shikimates and Phenylpropanoids-Stilbenoids",
         "orientation": "h",
         "showlegend": true,
         "textposition": "auto",
         "type": "bar",
         "x": [
          1
         ],
         "xaxis": "x",
         "y": [
          "Annotated"
         ],
         "yaxis": "y"
        },
        {
         "alignmentgroup": "True",
         "hovertemplate": "chemical_superclass=Shikimates and Phenylpropanoids-Triterpenoids<br>Recurrence=%{x}<br>Type=%{y}<extra></extra>",
         "legendgroup": "Shikimates and Phenylpropanoids-Triterpenoids",
         "marker": {
          "color": "#9b7098",
          "pattern": {
           "shape": ""
          }
         },
         "name": "Shikimates and Phenylpropanoids-Triterpenoids",
         "offsetgroup": "Shikimates and Phenylpropanoids-Triterpenoids",
         "orientation": "h",
         "showlegend": true,
         "textposition": "auto",
         "type": "bar",
         "x": [
          2
         ],
         "xaxis": "x",
         "y": [
          "Annotated"
         ],
         "yaxis": "y"
        },
        {
         "alignmentgroup": "True",
         "hovertemplate": "chemical_superclass=Shikimates and Phenylpropanoids-Tryptophan alkaloids<br>Recurrence=%{x}<br>Type=%{y}<extra></extra>",
         "legendgroup": "Shikimates and Phenylpropanoids-Tryptophan alkaloids",
         "marker": {
          "color": "#a57a9d",
          "pattern": {
           "shape": ""
          }
         },
         "name": "Shikimates and Phenylpropanoids-Tryptophan alkaloids",
         "offsetgroup": "Shikimates and Phenylpropanoids-Tryptophan alkaloids",
         "orientation": "h",
         "showlegend": true,
         "textposition": "auto",
         "type": "bar",
         "x": [
          1
         ],
         "xaxis": "x",
         "y": [
          "Annotated"
         ],
         "yaxis": "y"
        },
        {
         "alignmentgroup": "True",
         "hovertemplate": "chemical_superclass=Terpenoids-Apocarotenoids<br>Recurrence=%{x}<br>Type=%{y}<extra></extra>",
         "legendgroup": "Terpenoids-Apocarotenoids",
         "marker": {
          "color": "#a1bca4",
          "pattern": {
           "shape": ""
          }
         },
         "name": "Terpenoids-Apocarotenoids",
         "offsetgroup": "Terpenoids-Apocarotenoids",
         "orientation": "h",
         "showlegend": true,
         "textposition": "auto",
         "type": "bar",
         "x": [
          1
         ],
         "xaxis": "x",
         "y": [
          "Annotated"
         ],
         "yaxis": "y"
        },
        {
         "alignmentgroup": "True",
         "hovertemplate": "chemical_superclass=Terpenoids-Coumarins<br>Recurrence=%{x}<br>Type=%{y}<extra></extra>",
         "legendgroup": "Terpenoids-Coumarins",
         "marker": {
          "color": "#b3ccb5",
          "pattern": {
           "shape": ""
          }
         },
         "name": "Terpenoids-Coumarins",
         "offsetgroup": "Terpenoids-Coumarins",
         "orientation": "h",
         "showlegend": true,
         "textposition": "auto",
         "type": "bar",
         "x": [
          2
         ],
         "xaxis": "x",
         "y": [
          "Annotated"
         ],
         "yaxis": "y"
        },
        {
         "alignmentgroup": "True",
         "hovertemplate": "chemical_superclass=Terpenoids-Diterpenoids<br>Recurrence=%{x}<br>Type=%{y}<extra></extra>",
         "legendgroup": "Terpenoids-Diterpenoids",
         "marker": {
          "color": "#739275",
          "pattern": {
           "shape": ""
          }
         },
         "name": "Terpenoids-Diterpenoids",
         "offsetgroup": "Terpenoids-Diterpenoids",
         "orientation": "h",
         "showlegend": true,
         "textposition": "auto",
         "type": "bar",
         "x": [
          62
         ],
         "xaxis": "x",
         "y": [
          "Annotated"
         ],
         "yaxis": "y"
        },
        {
         "alignmentgroup": "True",
         "hovertemplate": "chemical_superclass=Terpenoids-Fatty acyl glycosides<br>Recurrence=%{x}<br>Type=%{y}<extra></extra>",
         "legendgroup": "Terpenoids-Fatty acyl glycosides",
         "marker": {
          "color": "#96b298",
          "pattern": {
           "shape": ""
          }
         },
         "name": "Terpenoids-Fatty acyl glycosides",
         "offsetgroup": "Terpenoids-Fatty acyl glycosides",
         "orientation": "h",
         "showlegend": true,
         "textposition": "auto",
         "type": "bar",
         "x": [
          1
         ],
         "xaxis": "x",
         "y": [
          "Annotated"
         ],
         "yaxis": "y"
        },
        {
         "alignmentgroup": "True",
         "hovertemplate": "chemical_superclass=Terpenoids-Lignans<br>Recurrence=%{x}<br>Type=%{y}<extra></extra>",
         "legendgroup": "Terpenoids-Lignans",
         "marker": {
          "color": "#cae2cc",
          "pattern": {
           "shape": ""
          }
         },
         "name": "Terpenoids-Lignans",
         "offsetgroup": "Terpenoids-Lignans",
         "orientation": "h",
         "showlegend": true,
         "textposition": "auto",
         "type": "bar",
         "x": [
          1
         ],
         "xaxis": "x",
         "y": [
          "Annotated"
         ],
         "yaxis": "y"
        },
        {
         "alignmentgroup": "True",
         "hovertemplate": "chemical_superclass=Terpenoids-Linear polyketides<br>Recurrence=%{x}<br>Type=%{y}<extra></extra>",
         "legendgroup": "Terpenoids-Linear polyketides",
         "marker": {
          "color": "#adc7af",
          "pattern": {
           "shape": ""
          }
         },
         "name": "Terpenoids-Linear polyketides",
         "offsetgroup": "Terpenoids-Linear polyketides",
         "orientation": "h",
         "showlegend": true,
         "textposition": "auto",
         "type": "bar",
         "x": [
          3
         ],
         "xaxis": "x",
         "y": [
          "Annotated"
         ],
         "yaxis": "y"
        },
        {
         "alignmentgroup": "True",
         "hovertemplate": "chemical_superclass=Terpenoids-Macrolides<br>Recurrence=%{x}<br>Type=%{y}<extra></extra>",
         "legendgroup": "Terpenoids-Macrolides",
         "marker": {
          "color": "#90ad92",
          "pattern": {
           "shape": ""
          }
         },
         "name": "Terpenoids-Macrolides",
         "offsetgroup": "Terpenoids-Macrolides",
         "orientation": "h",
         "showlegend": true,
         "textposition": "auto",
         "type": "bar",
         "x": [
          5
         ],
         "xaxis": "x",
         "y": [
          "Annotated"
         ],
         "yaxis": "y"
        },
        {
         "alignmentgroup": "True",
         "hovertemplate": "chemical_superclass=Terpenoids-Meroterpenoids<br>Recurrence=%{x}<br>Type=%{y}<extra></extra>",
         "legendgroup": "Terpenoids-Meroterpenoids",
         "marker": {
          "color": "#8aa78d",
          "pattern": {
           "shape": ""
          }
         },
         "name": "Terpenoids-Meroterpenoids",
         "offsetgroup": "Terpenoids-Meroterpenoids",
         "orientation": "h",
         "showlegend": true,
         "textposition": "auto",
         "type": "bar",
         "x": [
          9
         ],
         "xaxis": "x",
         "y": [
          "Annotated"
         ],
         "yaxis": "y"
        },
        {
         "alignmentgroup": "True",
         "hovertemplate": "chemical_superclass=Terpenoids-Monoterpenoids<br>Recurrence=%{x}<br>Type=%{y}<extra></extra>",
         "legendgroup": "Terpenoids-Monoterpenoids",
         "marker": {
          "color": "#6d8d70",
          "pattern": {
           "shape": ""
          }
         },
         "name": "Terpenoids-Monoterpenoids",
         "offsetgroup": "Terpenoids-Monoterpenoids",
         "orientation": "h",
         "showlegend": true,
         "textposition": "auto",
         "type": "bar",
         "x": [
          32
         ],
         "xaxis": "x",
         "y": [
          "Annotated"
         ],
         "yaxis": "y"
        },
        {
         "alignmentgroup": "True",
         "hovertemplate": "chemical_superclass=Terpenoids-Naphthalenes<br>Recurrence=%{x}<br>Type=%{y}<extra></extra>",
         "legendgroup": "Terpenoids-Naphthalenes",
         "marker": {
          "color": "#c4dcc6",
          "pattern": {
           "shape": ""
          }
         },
         "name": "Terpenoids-Naphthalenes",
         "offsetgroup": "Terpenoids-Naphthalenes",
         "orientation": "h",
         "showlegend": true,
         "textposition": "auto",
         "type": "bar",
         "x": [
          2
         ],
         "xaxis": "x",
         "y": [
          "Annotated"
         ],
         "yaxis": "y"
        },
        {
         "alignmentgroup": "True",
         "hovertemplate": "chemical_superclass=Terpenoids-Nicotinic acid alkaloids<br>Recurrence=%{x}<br>Type=%{y}<extra></extra>",
         "legendgroup": "Terpenoids-Nicotinic acid alkaloids",
         "marker": {
          "color": "#bed7c1",
          "pattern": {
           "shape": ""
          }
         },
         "name": "Terpenoids-Nicotinic acid alkaloids",
         "offsetgroup": "Terpenoids-Nicotinic acid alkaloids",
         "orientation": "h",
         "showlegend": true,
         "textposition": "auto",
         "type": "bar",
         "x": [
          1
         ],
         "xaxis": "x",
         "y": [
          "Annotated"
         ],
         "yaxis": "y"
        },
        {
         "alignmentgroup": "True",
         "hovertemplate": "chemical_superclass=Terpenoids-Oligopeptides<br>Recurrence=%{x}<br>Type=%{y}<extra></extra>",
         "legendgroup": "Terpenoids-Oligopeptides",
         "marker": {
          "color": "#7e9d81",
          "pattern": {
           "shape": ""
          }
         },
         "name": "Terpenoids-Oligopeptides",
         "offsetgroup": "Terpenoids-Oligopeptides",
         "orientation": "h",
         "showlegend": true,
         "textposition": "auto",
         "type": "bar",
         "x": [
          2
         ],
         "xaxis": "x",
         "y": [
          "Annotated"
         ],
         "yaxis": "y"
        },
        {
         "alignmentgroup": "True",
         "hovertemplate": "chemical_superclass=Terpenoids-Phenylpropanoids (C6-C3)<br>Recurrence=%{x}<br>Type=%{y}<extra></extra>",
         "legendgroup": "Terpenoids-Phenylpropanoids (C6-C3)",
         "marker": {
          "color": "#636efa",
          "pattern": {
           "shape": ""
          }
         },
         "name": "Terpenoids-Phenylpropanoids (C6-C3)",
         "offsetgroup": "Terpenoids-Phenylpropanoids (C6-C3)",
         "orientation": "h",
         "showlegend": true,
         "textposition": "auto",
         "type": "bar",
         "x": [
          2
         ],
         "xaxis": "x",
         "y": [
          "Annotated"
         ],
         "yaxis": "y"
        },
        {
         "alignmentgroup": "True",
         "hovertemplate": "chemical_superclass=Terpenoids-Phloroglucinols<br>Recurrence=%{x}<br>Type=%{y}<extra></extra>",
         "legendgroup": "Terpenoids-Phloroglucinols",
         "marker": {
          "color": "#9bb79e",
          "pattern": {
           "shape": ""
          }
         },
         "name": "Terpenoids-Phloroglucinols",
         "offsetgroup": "Terpenoids-Phloroglucinols",
         "orientation": "h",
         "showlegend": true,
         "textposition": "auto",
         "type": "bar",
         "x": [
          1
         ],
         "xaxis": "x",
         "y": [
          "Annotated"
         ],
         "yaxis": "y"
        },
        {
         "alignmentgroup": "True",
         "hovertemplate": "chemical_superclass=Terpenoids-Pseudoalkaloids<br>Recurrence=%{x}<br>Type=%{y}<extra></extra>",
         "legendgroup": "Terpenoids-Pseudoalkaloids",
         "marker": {
          "color": "#a7c2a9",
          "pattern": {
           "shape": ""
          }
         },
         "name": "Terpenoids-Pseudoalkaloids",
         "offsetgroup": "Terpenoids-Pseudoalkaloids",
         "orientation": "h",
         "showlegend": true,
         "textposition": "auto",
         "type": "bar",
         "x": [
          4
         ],
         "xaxis": "x",
         "y": [
          "Annotated"
         ],
         "yaxis": "y"
        },
        {
         "alignmentgroup": "True",
         "hovertemplate": "chemical_superclass=Terpenoids-Saccharides<br>Recurrence=%{x}<br>Type=%{y}<extra></extra>",
         "legendgroup": "Terpenoids-Saccharides",
         "marker": {
          "color": "#84a287",
          "pattern": {
           "shape": ""
          }
         },
         "name": "Terpenoids-Saccharides",
         "offsetgroup": "Terpenoids-Saccharides",
         "orientation": "h",
         "showlegend": true,
         "textposition": "auto",
         "type": "bar",
         "x": [
          3
         ],
         "xaxis": "x",
         "y": [
          "Annotated"
         ],
         "yaxis": "y"
        },
        {
         "alignmentgroup": "True",
         "hovertemplate": "chemical_superclass=Terpenoids-Sesquiterpenoids<br>Recurrence=%{x}<br>Type=%{y}<extra></extra>",
         "legendgroup": "Terpenoids-Sesquiterpenoids",
         "marker": {
          "color": "#67876a",
          "pattern": {
           "shape": ""
          }
         },
         "name": "Terpenoids-Sesquiterpenoids",
         "offsetgroup": "Terpenoids-Sesquiterpenoids",
         "orientation": "h",
         "showlegend": true,
         "textposition": "auto",
         "type": "bar",
         "x": [
          74,
          1
         ],
         "xaxis": "x",
         "y": [
          "Annotated",
          "Reported"
         ],
         "yaxis": "y"
        },
        {
         "alignmentgroup": "True",
         "hovertemplate": "chemical_superclass=Terpenoids-Steroids<br>Recurrence=%{x}<br>Type=%{y}<extra></extra>",
         "legendgroup": "Terpenoids-Steroids",
         "marker": {
          "color": "#78977b",
          "pattern": {
           "shape": ""
          }
         },
         "name": "Terpenoids-Steroids",
         "offsetgroup": "Terpenoids-Steroids",
         "orientation": "h",
         "showlegend": true,
         "textposition": "auto",
         "type": "bar",
         "x": [
          18
         ],
         "xaxis": "x",
         "y": [
          "Annotated"
         ],
         "yaxis": "y"
        },
        {
         "alignmentgroup": "True",
         "hovertemplate": "chemical_superclass=Terpenoids-Triterpenoids<br>Recurrence=%{x}<br>Type=%{y}<extra></extra>",
         "legendgroup": "Terpenoids-Triterpenoids",
         "marker": {
          "color": "#618264",
          "pattern": {
           "shape": ""
          }
         },
         "name": "Terpenoids-Triterpenoids",
         "offsetgroup": "Terpenoids-Triterpenoids",
         "orientation": "h",
         "showlegend": true,
         "textposition": "auto",
         "type": "bar",
         "x": [
          37,
          20
         ],
         "xaxis": "x",
         "y": [
          "Annotated",
          "Reported"
         ],
         "yaxis": "y"
        },
        {
         "alignmentgroup": "True",
         "hovertemplate": "chemical_superclass=Terpenoids-Tryptophan alkaloids<br>Recurrence=%{x}<br>Type=%{y}<extra></extra>",
         "legendgroup": "Terpenoids-Tryptophan alkaloids",
         "marker": {
          "color": "#b9d2bb",
          "pattern": {
           "shape": ""
          }
         },
         "name": "Terpenoids-Tryptophan alkaloids",
         "offsetgroup": "Terpenoids-Tryptophan alkaloids",
         "orientation": "h",
         "showlegend": true,
         "textposition": "auto",
         "type": "bar",
         "x": [
          3
         ],
         "xaxis": "x",
         "y": [
          "Annotated"
         ],
         "yaxis": "y"
        }
       ],
       "layout": {
        "barmode": "relative",
        "height": 1500,
        "legend": {
         "title": {
          "text": "chemical_superclass"
         },
         "tracegroupgap": 0
        },
        "plot_bgcolor": "white",
        "template": {
         "data": {
          "bar": [
           {
            "error_x": {
             "color": "#2a3f5f"
            },
            "error_y": {
             "color": "#2a3f5f"
            },
            "marker": {
             "line": {
              "color": "#E5ECF6",
              "width": 0.5
             },
             "pattern": {
              "fillmode": "overlay",
              "size": 10,
              "solidity": 0.2
             }
            },
            "type": "bar"
           }
          ],
          "barpolar": [
           {
            "marker": {
             "line": {
              "color": "#E5ECF6",
              "width": 0.5
             },
             "pattern": {
              "fillmode": "overlay",
              "size": 10,
              "solidity": 0.2
             }
            },
            "type": "barpolar"
           }
          ],
          "carpet": [
           {
            "aaxis": {
             "endlinecolor": "#2a3f5f",
             "gridcolor": "white",
             "linecolor": "white",
             "minorgridcolor": "white",
             "startlinecolor": "#2a3f5f"
            },
            "baxis": {
             "endlinecolor": "#2a3f5f",
             "gridcolor": "white",
             "linecolor": "white",
             "minorgridcolor": "white",
             "startlinecolor": "#2a3f5f"
            },
            "type": "carpet"
           }
          ],
          "choropleth": [
           {
            "colorbar": {
             "outlinewidth": 0,
             "ticks": ""
            },
            "type": "choropleth"
           }
          ],
          "contour": [
           {
            "colorbar": {
             "outlinewidth": 0,
             "ticks": ""
            },
            "colorscale": [
             [
              0,
              "#0d0887"
             ],
             [
              0.1111111111111111,
              "#46039f"
             ],
             [
              0.2222222222222222,
              "#7201a8"
             ],
             [
              0.3333333333333333,
              "#9c179e"
             ],
             [
              0.4444444444444444,
              "#bd3786"
             ],
             [
              0.5555555555555556,
              "#d8576b"
             ],
             [
              0.6666666666666666,
              "#ed7953"
             ],
             [
              0.7777777777777778,
              "#fb9f3a"
             ],
             [
              0.8888888888888888,
              "#fdca26"
             ],
             [
              1,
              "#f0f921"
             ]
            ],
            "type": "contour"
           }
          ],
          "contourcarpet": [
           {
            "colorbar": {
             "outlinewidth": 0,
             "ticks": ""
            },
            "type": "contourcarpet"
           }
          ],
          "heatmap": [
           {
            "colorbar": {
             "outlinewidth": 0,
             "ticks": ""
            },
            "colorscale": [
             [
              0,
              "#0d0887"
             ],
             [
              0.1111111111111111,
              "#46039f"
             ],
             [
              0.2222222222222222,
              "#7201a8"
             ],
             [
              0.3333333333333333,
              "#9c179e"
             ],
             [
              0.4444444444444444,
              "#bd3786"
             ],
             [
              0.5555555555555556,
              "#d8576b"
             ],
             [
              0.6666666666666666,
              "#ed7953"
             ],
             [
              0.7777777777777778,
              "#fb9f3a"
             ],
             [
              0.8888888888888888,
              "#fdca26"
             ],
             [
              1,
              "#f0f921"
             ]
            ],
            "type": "heatmap"
           }
          ],
          "heatmapgl": [
           {
            "colorbar": {
             "outlinewidth": 0,
             "ticks": ""
            },
            "colorscale": [
             [
              0,
              "#0d0887"
             ],
             [
              0.1111111111111111,
              "#46039f"
             ],
             [
              0.2222222222222222,
              "#7201a8"
             ],
             [
              0.3333333333333333,
              "#9c179e"
             ],
             [
              0.4444444444444444,
              "#bd3786"
             ],
             [
              0.5555555555555556,
              "#d8576b"
             ],
             [
              0.6666666666666666,
              "#ed7953"
             ],
             [
              0.7777777777777778,
              "#fb9f3a"
             ],
             [
              0.8888888888888888,
              "#fdca26"
             ],
             [
              1,
              "#f0f921"
             ]
            ],
            "type": "heatmapgl"
           }
          ],
          "histogram": [
           {
            "marker": {
             "pattern": {
              "fillmode": "overlay",
              "size": 10,
              "solidity": 0.2
             }
            },
            "type": "histogram"
           }
          ],
          "histogram2d": [
           {
            "colorbar": {
             "outlinewidth": 0,
             "ticks": ""
            },
            "colorscale": [
             [
              0,
              "#0d0887"
             ],
             [
              0.1111111111111111,
              "#46039f"
             ],
             [
              0.2222222222222222,
              "#7201a8"
             ],
             [
              0.3333333333333333,
              "#9c179e"
             ],
             [
              0.4444444444444444,
              "#bd3786"
             ],
             [
              0.5555555555555556,
              "#d8576b"
             ],
             [
              0.6666666666666666,
              "#ed7953"
             ],
             [
              0.7777777777777778,
              "#fb9f3a"
             ],
             [
              0.8888888888888888,
              "#fdca26"
             ],
             [
              1,
              "#f0f921"
             ]
            ],
            "type": "histogram2d"
           }
          ],
          "histogram2dcontour": [
           {
            "colorbar": {
             "outlinewidth": 0,
             "ticks": ""
            },
            "colorscale": [
             [
              0,
              "#0d0887"
             ],
             [
              0.1111111111111111,
              "#46039f"
             ],
             [
              0.2222222222222222,
              "#7201a8"
             ],
             [
              0.3333333333333333,
              "#9c179e"
             ],
             [
              0.4444444444444444,
              "#bd3786"
             ],
             [
              0.5555555555555556,
              "#d8576b"
             ],
             [
              0.6666666666666666,
              "#ed7953"
             ],
             [
              0.7777777777777778,
              "#fb9f3a"
             ],
             [
              0.8888888888888888,
              "#fdca26"
             ],
             [
              1,
              "#f0f921"
             ]
            ],
            "type": "histogram2dcontour"
           }
          ],
          "mesh3d": [
           {
            "colorbar": {
             "outlinewidth": 0,
             "ticks": ""
            },
            "type": "mesh3d"
           }
          ],
          "parcoords": [
           {
            "line": {
             "colorbar": {
              "outlinewidth": 0,
              "ticks": ""
             }
            },
            "type": "parcoords"
           }
          ],
          "pie": [
           {
            "automargin": true,
            "type": "pie"
           }
          ],
          "scatter": [
           {
            "fillpattern": {
             "fillmode": "overlay",
             "size": 10,
             "solidity": 0.2
            },
            "type": "scatter"
           }
          ],
          "scatter3d": [
           {
            "line": {
             "colorbar": {
              "outlinewidth": 0,
              "ticks": ""
             }
            },
            "marker": {
             "colorbar": {
              "outlinewidth": 0,
              "ticks": ""
             }
            },
            "type": "scatter3d"
           }
          ],
          "scattercarpet": [
           {
            "marker": {
             "colorbar": {
              "outlinewidth": 0,
              "ticks": ""
             }
            },
            "type": "scattercarpet"
           }
          ],
          "scattergeo": [
           {
            "marker": {
             "colorbar": {
              "outlinewidth": 0,
              "ticks": ""
             }
            },
            "type": "scattergeo"
           }
          ],
          "scattergl": [
           {
            "marker": {
             "colorbar": {
              "outlinewidth": 0,
              "ticks": ""
             }
            },
            "type": "scattergl"
           }
          ],
          "scattermapbox": [
           {
            "marker": {
             "colorbar": {
              "outlinewidth": 0,
              "ticks": ""
             }
            },
            "type": "scattermapbox"
           }
          ],
          "scatterpolar": [
           {
            "marker": {
             "colorbar": {
              "outlinewidth": 0,
              "ticks": ""
             }
            },
            "type": "scatterpolar"
           }
          ],
          "scatterpolargl": [
           {
            "marker": {
             "colorbar": {
              "outlinewidth": 0,
              "ticks": ""
             }
            },
            "type": "scatterpolargl"
           }
          ],
          "scatterternary": [
           {
            "marker": {
             "colorbar": {
              "outlinewidth": 0,
              "ticks": ""
             }
            },
            "type": "scatterternary"
           }
          ],
          "surface": [
           {
            "colorbar": {
             "outlinewidth": 0,
             "ticks": ""
            },
            "colorscale": [
             [
              0,
              "#0d0887"
             ],
             [
              0.1111111111111111,
              "#46039f"
             ],
             [
              0.2222222222222222,
              "#7201a8"
             ],
             [
              0.3333333333333333,
              "#9c179e"
             ],
             [
              0.4444444444444444,
              "#bd3786"
             ],
             [
              0.5555555555555556,
              "#d8576b"
             ],
             [
              0.6666666666666666,
              "#ed7953"
             ],
             [
              0.7777777777777778,
              "#fb9f3a"
             ],
             [
              0.8888888888888888,
              "#fdca26"
             ],
             [
              1,
              "#f0f921"
             ]
            ],
            "type": "surface"
           }
          ],
          "table": [
           {
            "cells": {
             "fill": {
              "color": "#EBF0F8"
             },
             "line": {
              "color": "white"
             }
            },
            "header": {
             "fill": {
              "color": "#C8D4E3"
             },
             "line": {
              "color": "white"
             }
            },
            "type": "table"
           }
          ]
         },
         "layout": {
          "annotationdefaults": {
           "arrowcolor": "#2a3f5f",
           "arrowhead": 0,
           "arrowwidth": 1
          },
          "autotypenumbers": "strict",
          "coloraxis": {
           "colorbar": {
            "outlinewidth": 0,
            "ticks": ""
           }
          },
          "colorscale": {
           "diverging": [
            [
             0,
             "#8e0152"
            ],
            [
             0.1,
             "#c51b7d"
            ],
            [
             0.2,
             "#de77ae"
            ],
            [
             0.3,
             "#f1b6da"
            ],
            [
             0.4,
             "#fde0ef"
            ],
            [
             0.5,
             "#f7f7f7"
            ],
            [
             0.6,
             "#e6f5d0"
            ],
            [
             0.7,
             "#b8e186"
            ],
            [
             0.8,
             "#7fbc41"
            ],
            [
             0.9,
             "#4d9221"
            ],
            [
             1,
             "#276419"
            ]
           ],
           "sequential": [
            [
             0,
             "#0d0887"
            ],
            [
             0.1111111111111111,
             "#46039f"
            ],
            [
             0.2222222222222222,
             "#7201a8"
            ],
            [
             0.3333333333333333,
             "#9c179e"
            ],
            [
             0.4444444444444444,
             "#bd3786"
            ],
            [
             0.5555555555555556,
             "#d8576b"
            ],
            [
             0.6666666666666666,
             "#ed7953"
            ],
            [
             0.7777777777777778,
             "#fb9f3a"
            ],
            [
             0.8888888888888888,
             "#fdca26"
            ],
            [
             1,
             "#f0f921"
            ]
           ],
           "sequentialminus": [
            [
             0,
             "#0d0887"
            ],
            [
             0.1111111111111111,
             "#46039f"
            ],
            [
             0.2222222222222222,
             "#7201a8"
            ],
            [
             0.3333333333333333,
             "#9c179e"
            ],
            [
             0.4444444444444444,
             "#bd3786"
            ],
            [
             0.5555555555555556,
             "#d8576b"
            ],
            [
             0.6666666666666666,
             "#ed7953"
            ],
            [
             0.7777777777777778,
             "#fb9f3a"
            ],
            [
             0.8888888888888888,
             "#fdca26"
            ],
            [
             1,
             "#f0f921"
            ]
           ]
          },
          "colorway": [
           "#636efa",
           "#EF553B",
           "#00cc96",
           "#ab63fa",
           "#FFA15A",
           "#19d3f3",
           "#FF6692",
           "#B6E880",
           "#FF97FF",
           "#FECB52"
          ],
          "font": {
           "color": "#2a3f5f"
          },
          "geo": {
           "bgcolor": "white",
           "lakecolor": "white",
           "landcolor": "#E5ECF6",
           "showlakes": true,
           "showland": true,
           "subunitcolor": "white"
          },
          "hoverlabel": {
           "align": "left"
          },
          "hovermode": "closest",
          "mapbox": {
           "style": "light"
          },
          "paper_bgcolor": "white",
          "plot_bgcolor": "#E5ECF6",
          "polar": {
           "angularaxis": {
            "gridcolor": "white",
            "linecolor": "white",
            "ticks": ""
           },
           "bgcolor": "#E5ECF6",
           "radialaxis": {
            "gridcolor": "white",
            "linecolor": "white",
            "ticks": ""
           }
          },
          "scene": {
           "xaxis": {
            "backgroundcolor": "#E5ECF6",
            "gridcolor": "white",
            "gridwidth": 2,
            "linecolor": "white",
            "showbackground": true,
            "ticks": "",
            "zerolinecolor": "white"
           },
           "yaxis": {
            "backgroundcolor": "#E5ECF6",
            "gridcolor": "white",
            "gridwidth": 2,
            "linecolor": "white",
            "showbackground": true,
            "ticks": "",
            "zerolinecolor": "white"
           },
           "zaxis": {
            "backgroundcolor": "#E5ECF6",
            "gridcolor": "white",
            "gridwidth": 2,
            "linecolor": "white",
            "showbackground": true,
            "ticks": "",
            "zerolinecolor": "white"
           }
          },
          "shapedefaults": {
           "line": {
            "color": "#2a3f5f"
           }
          },
          "ternary": {
           "aaxis": {
            "gridcolor": "white",
            "linecolor": "white",
            "ticks": ""
           },
           "baxis": {
            "gridcolor": "white",
            "linecolor": "white",
            "ticks": ""
           },
           "bgcolor": "#E5ECF6",
           "caxis": {
            "gridcolor": "white",
            "linecolor": "white",
            "ticks": ""
           }
          },
          "title": {
           "x": 0.05
          },
          "xaxis": {
           "automargin": true,
           "gridcolor": "white",
           "linecolor": "white",
           "ticks": "",
           "title": {
            "standoff": 15
           },
           "zerolinecolor": "white",
           "zerolinewidth": 2
          },
          "yaxis": {
           "automargin": true,
           "gridcolor": "white",
           "linecolor": "white",
           "ticks": "",
           "title": {
            "standoff": 15
           },
           "zerolinecolor": "white",
           "zerolinewidth": 2
          }
         }
        },
        "title": {
         "text": "Stacked Barplot of reported and annotated Superclasses Occurrence for Maytenus woodsonii"
        },
        "width": 1500,
        "xaxis": {
         "anchor": "y",
         "domain": [
          0,
          1
         ],
         "title": {
          "text": "Recurrence"
         }
        },
        "yaxis": {
         "anchor": "x",
         "categoryarray": [
          "Reported",
          "Annotated"
         ],
         "categoryorder": "array",
         "domain": [
          0,
          1
         ],
         "title": {
          "text": "Type"
         }
        }
       }
      }
     },
     "metadata": {},
     "output_type": "display_data"
    }
   ],
   "source": [
    "barplot_sclass_species(output_folder, q_code, organism)"
   ]
  },
  {
   "cell_type": "code",
   "execution_count": 15,
   "metadata": {},
   "outputs": [
    {
     "name": "stderr",
     "output_type": "stream",
     "text": [
      "C:\\Users\\quirosgu\\AppData\\Local\\Temp\\ipykernel_32380\\829308689.py:57: FutureWarning:\n",
      "\n",
      "The default of observed=False is deprecated and will be changed to True in a future version of pandas. Pass observed=False to retain current behavior or observed=True to adopt the future default and silence this warning.\n",
      "\n"
     ]
    },
    {
     "data": {
      "application/vnd.plotly.v1+json": {
       "config": {
        "plotlyServerURL": "https://plot.ly"
       },
       "data": [
        {
         "alignmentgroup": "True",
         "hovertemplate": "Pathway=Alkaloids<br>Recurrence=%{x}<br>Type=%{y}<extra></extra>",
         "legendgroup": "Alkaloids",
         "marker": {
          "color": "#305F72",
          "pattern": {
           "shape": ""
          }
         },
         "name": "Alkaloids",
         "offsetgroup": "Alkaloids",
         "orientation": "h",
         "showlegend": true,
         "textposition": "auto",
         "type": "bar",
         "x": [
          188
         ],
         "xaxis": "x",
         "y": [
          "Annotated"
         ],
         "yaxis": "y"
        },
        {
         "alignmentgroup": "True",
         "hovertemplate": "Pathway=Amino acids and Peptides<br>Recurrence=%{x}<br>Type=%{y}<extra></extra>",
         "legendgroup": "Amino acids and Peptides",
         "marker": {
          "color": "#F4E869",
          "pattern": {
           "shape": ""
          }
         },
         "name": "Amino acids and Peptides",
         "offsetgroup": "Amino acids and Peptides",
         "orientation": "h",
         "showlegend": true,
         "textposition": "auto",
         "type": "bar",
         "x": [
          130
         ],
         "xaxis": "x",
         "y": [
          "Annotated"
         ],
         "yaxis": "y"
        },
        {
         "alignmentgroup": "True",
         "hovertemplate": "Pathway=Carbohydrates<br>Recurrence=%{x}<br>Type=%{y}<extra></extra>",
         "legendgroup": "Carbohydrates",
         "marker": {
          "color": "#65451F",
          "pattern": {
           "shape": ""
          }
         },
         "name": "Carbohydrates",
         "offsetgroup": "Carbohydrates",
         "orientation": "h",
         "showlegend": true,
         "textposition": "auto",
         "type": "bar",
         "x": [
          78
         ],
         "xaxis": "x",
         "y": [
          "Annotated"
         ],
         "yaxis": "y"
        },
        {
         "alignmentgroup": "True",
         "hovertemplate": "Pathway=Fatty acids<br>Recurrence=%{x}<br>Type=%{y}<extra></extra>",
         "legendgroup": "Fatty acids",
         "marker": {
          "color": "#FF6C22",
          "pattern": {
           "shape": ""
          }
         },
         "name": "Fatty acids",
         "offsetgroup": "Fatty acids",
         "orientation": "h",
         "showlegend": true,
         "textposition": "auto",
         "type": "bar",
         "x": [
          73
         ],
         "xaxis": "x",
         "y": [
          "Annotated"
         ],
         "yaxis": "y"
        },
        {
         "alignmentgroup": "True",
         "hovertemplate": "Pathway=Polyketides<br>Recurrence=%{x}<br>Type=%{y}<extra></extra>",
         "legendgroup": "Polyketides",
         "marker": {
          "color": "#EF4B4B",
          "pattern": {
           "shape": ""
          }
         },
         "name": "Polyketides",
         "offsetgroup": "Polyketides",
         "orientation": "h",
         "showlegend": true,
         "textposition": "auto",
         "type": "bar",
         "x": [
          58
         ],
         "xaxis": "x",
         "y": [
          "Annotated"
         ],
         "yaxis": "y"
        },
        {
         "alignmentgroup": "True",
         "hovertemplate": "Pathway=Shikimates and Phenylpropanoids<br>Recurrence=%{x}<br>Type=%{y}<extra></extra>",
         "legendgroup": "Shikimates and Phenylpropanoids",
         "marker": {
          "color": "#80558C",
          "pattern": {
           "shape": ""
          }
         },
         "name": "Shikimates and Phenylpropanoids",
         "offsetgroup": "Shikimates and Phenylpropanoids",
         "orientation": "h",
         "showlegend": true,
         "textposition": "auto",
         "type": "bar",
         "x": [
          52
         ],
         "xaxis": "x",
         "y": [
          "Annotated"
         ],
         "yaxis": "y"
        },
        {
         "alignmentgroup": "True",
         "hovertemplate": "Pathway=Terpenoids<br>Recurrence=%{x}<br>Type=%{y}<extra></extra>",
         "legendgroup": "Terpenoids",
         "marker": {
          "color": "#618264",
          "pattern": {
           "shape": ""
          }
         },
         "name": "Terpenoids",
         "offsetgroup": "Terpenoids",
         "orientation": "h",
         "showlegend": true,
         "textposition": "auto",
         "type": "bar",
         "x": [
          263,
          21
         ],
         "xaxis": "x",
         "y": [
          "Annotated",
          "Reported"
         ],
         "yaxis": "y"
        },
        {
         "alignmentgroup": "True",
         "hovertemplate": "Pathway=Unknown<br>Recurrence=%{x}<br>Type=%{y}<extra></extra>",
         "legendgroup": "Unknown",
         "marker": {
          "color": "#B6E880",
          "pattern": {
           "shape": ""
          }
         },
         "name": "Unknown",
         "offsetgroup": "Unknown",
         "orientation": "h",
         "showlegend": true,
         "textposition": "auto",
         "type": "bar",
         "x": [
          1
         ],
         "xaxis": "x",
         "y": [
          "Reported"
         ],
         "yaxis": "y"
        }
       ],
       "layout": {
        "barmode": "relative",
        "height": 1500,
        "legend": {
         "title": {
          "text": "Pathway"
         },
         "tracegroupgap": 0
        },
        "plot_bgcolor": "white",
        "template": {
         "data": {
          "bar": [
           {
            "error_x": {
             "color": "#2a3f5f"
            },
            "error_y": {
             "color": "#2a3f5f"
            },
            "marker": {
             "line": {
              "color": "#E5ECF6",
              "width": 0.5
             },
             "pattern": {
              "fillmode": "overlay",
              "size": 10,
              "solidity": 0.2
             }
            },
            "type": "bar"
           }
          ],
          "barpolar": [
           {
            "marker": {
             "line": {
              "color": "#E5ECF6",
              "width": 0.5
             },
             "pattern": {
              "fillmode": "overlay",
              "size": 10,
              "solidity": 0.2
             }
            },
            "type": "barpolar"
           }
          ],
          "carpet": [
           {
            "aaxis": {
             "endlinecolor": "#2a3f5f",
             "gridcolor": "white",
             "linecolor": "white",
             "minorgridcolor": "white",
             "startlinecolor": "#2a3f5f"
            },
            "baxis": {
             "endlinecolor": "#2a3f5f",
             "gridcolor": "white",
             "linecolor": "white",
             "minorgridcolor": "white",
             "startlinecolor": "#2a3f5f"
            },
            "type": "carpet"
           }
          ],
          "choropleth": [
           {
            "colorbar": {
             "outlinewidth": 0,
             "ticks": ""
            },
            "type": "choropleth"
           }
          ],
          "contour": [
           {
            "colorbar": {
             "outlinewidth": 0,
             "ticks": ""
            },
            "colorscale": [
             [
              0,
              "#0d0887"
             ],
             [
              0.1111111111111111,
              "#46039f"
             ],
             [
              0.2222222222222222,
              "#7201a8"
             ],
             [
              0.3333333333333333,
              "#9c179e"
             ],
             [
              0.4444444444444444,
              "#bd3786"
             ],
             [
              0.5555555555555556,
              "#d8576b"
             ],
             [
              0.6666666666666666,
              "#ed7953"
             ],
             [
              0.7777777777777778,
              "#fb9f3a"
             ],
             [
              0.8888888888888888,
              "#fdca26"
             ],
             [
              1,
              "#f0f921"
             ]
            ],
            "type": "contour"
           }
          ],
          "contourcarpet": [
           {
            "colorbar": {
             "outlinewidth": 0,
             "ticks": ""
            },
            "type": "contourcarpet"
           }
          ],
          "heatmap": [
           {
            "colorbar": {
             "outlinewidth": 0,
             "ticks": ""
            },
            "colorscale": [
             [
              0,
              "#0d0887"
             ],
             [
              0.1111111111111111,
              "#46039f"
             ],
             [
              0.2222222222222222,
              "#7201a8"
             ],
             [
              0.3333333333333333,
              "#9c179e"
             ],
             [
              0.4444444444444444,
              "#bd3786"
             ],
             [
              0.5555555555555556,
              "#d8576b"
             ],
             [
              0.6666666666666666,
              "#ed7953"
             ],
             [
              0.7777777777777778,
              "#fb9f3a"
             ],
             [
              0.8888888888888888,
              "#fdca26"
             ],
             [
              1,
              "#f0f921"
             ]
            ],
            "type": "heatmap"
           }
          ],
          "heatmapgl": [
           {
            "colorbar": {
             "outlinewidth": 0,
             "ticks": ""
            },
            "colorscale": [
             [
              0,
              "#0d0887"
             ],
             [
              0.1111111111111111,
              "#46039f"
             ],
             [
              0.2222222222222222,
              "#7201a8"
             ],
             [
              0.3333333333333333,
              "#9c179e"
             ],
             [
              0.4444444444444444,
              "#bd3786"
             ],
             [
              0.5555555555555556,
              "#d8576b"
             ],
             [
              0.6666666666666666,
              "#ed7953"
             ],
             [
              0.7777777777777778,
              "#fb9f3a"
             ],
             [
              0.8888888888888888,
              "#fdca26"
             ],
             [
              1,
              "#f0f921"
             ]
            ],
            "type": "heatmapgl"
           }
          ],
          "histogram": [
           {
            "marker": {
             "pattern": {
              "fillmode": "overlay",
              "size": 10,
              "solidity": 0.2
             }
            },
            "type": "histogram"
           }
          ],
          "histogram2d": [
           {
            "colorbar": {
             "outlinewidth": 0,
             "ticks": ""
            },
            "colorscale": [
             [
              0,
              "#0d0887"
             ],
             [
              0.1111111111111111,
              "#46039f"
             ],
             [
              0.2222222222222222,
              "#7201a8"
             ],
             [
              0.3333333333333333,
              "#9c179e"
             ],
             [
              0.4444444444444444,
              "#bd3786"
             ],
             [
              0.5555555555555556,
              "#d8576b"
             ],
             [
              0.6666666666666666,
              "#ed7953"
             ],
             [
              0.7777777777777778,
              "#fb9f3a"
             ],
             [
              0.8888888888888888,
              "#fdca26"
             ],
             [
              1,
              "#f0f921"
             ]
            ],
            "type": "histogram2d"
           }
          ],
          "histogram2dcontour": [
           {
            "colorbar": {
             "outlinewidth": 0,
             "ticks": ""
            },
            "colorscale": [
             [
              0,
              "#0d0887"
             ],
             [
              0.1111111111111111,
              "#46039f"
             ],
             [
              0.2222222222222222,
              "#7201a8"
             ],
             [
              0.3333333333333333,
              "#9c179e"
             ],
             [
              0.4444444444444444,
              "#bd3786"
             ],
             [
              0.5555555555555556,
              "#d8576b"
             ],
             [
              0.6666666666666666,
              "#ed7953"
             ],
             [
              0.7777777777777778,
              "#fb9f3a"
             ],
             [
              0.8888888888888888,
              "#fdca26"
             ],
             [
              1,
              "#f0f921"
             ]
            ],
            "type": "histogram2dcontour"
           }
          ],
          "mesh3d": [
           {
            "colorbar": {
             "outlinewidth": 0,
             "ticks": ""
            },
            "type": "mesh3d"
           }
          ],
          "parcoords": [
           {
            "line": {
             "colorbar": {
              "outlinewidth": 0,
              "ticks": ""
             }
            },
            "type": "parcoords"
           }
          ],
          "pie": [
           {
            "automargin": true,
            "type": "pie"
           }
          ],
          "scatter": [
           {
            "fillpattern": {
             "fillmode": "overlay",
             "size": 10,
             "solidity": 0.2
            },
            "type": "scatter"
           }
          ],
          "scatter3d": [
           {
            "line": {
             "colorbar": {
              "outlinewidth": 0,
              "ticks": ""
             }
            },
            "marker": {
             "colorbar": {
              "outlinewidth": 0,
              "ticks": ""
             }
            },
            "type": "scatter3d"
           }
          ],
          "scattercarpet": [
           {
            "marker": {
             "colorbar": {
              "outlinewidth": 0,
              "ticks": ""
             }
            },
            "type": "scattercarpet"
           }
          ],
          "scattergeo": [
           {
            "marker": {
             "colorbar": {
              "outlinewidth": 0,
              "ticks": ""
             }
            },
            "type": "scattergeo"
           }
          ],
          "scattergl": [
           {
            "marker": {
             "colorbar": {
              "outlinewidth": 0,
              "ticks": ""
             }
            },
            "type": "scattergl"
           }
          ],
          "scattermapbox": [
           {
            "marker": {
             "colorbar": {
              "outlinewidth": 0,
              "ticks": ""
             }
            },
            "type": "scattermapbox"
           }
          ],
          "scatterpolar": [
           {
            "marker": {
             "colorbar": {
              "outlinewidth": 0,
              "ticks": ""
             }
            },
            "type": "scatterpolar"
           }
          ],
          "scatterpolargl": [
           {
            "marker": {
             "colorbar": {
              "outlinewidth": 0,
              "ticks": ""
             }
            },
            "type": "scatterpolargl"
           }
          ],
          "scatterternary": [
           {
            "marker": {
             "colorbar": {
              "outlinewidth": 0,
              "ticks": ""
             }
            },
            "type": "scatterternary"
           }
          ],
          "surface": [
           {
            "colorbar": {
             "outlinewidth": 0,
             "ticks": ""
            },
            "colorscale": [
             [
              0,
              "#0d0887"
             ],
             [
              0.1111111111111111,
              "#46039f"
             ],
             [
              0.2222222222222222,
              "#7201a8"
             ],
             [
              0.3333333333333333,
              "#9c179e"
             ],
             [
              0.4444444444444444,
              "#bd3786"
             ],
             [
              0.5555555555555556,
              "#d8576b"
             ],
             [
              0.6666666666666666,
              "#ed7953"
             ],
             [
              0.7777777777777778,
              "#fb9f3a"
             ],
             [
              0.8888888888888888,
              "#fdca26"
             ],
             [
              1,
              "#f0f921"
             ]
            ],
            "type": "surface"
           }
          ],
          "table": [
           {
            "cells": {
             "fill": {
              "color": "#EBF0F8"
             },
             "line": {
              "color": "white"
             }
            },
            "header": {
             "fill": {
              "color": "#C8D4E3"
             },
             "line": {
              "color": "white"
             }
            },
            "type": "table"
           }
          ]
         },
         "layout": {
          "annotationdefaults": {
           "arrowcolor": "#2a3f5f",
           "arrowhead": 0,
           "arrowwidth": 1
          },
          "autotypenumbers": "strict",
          "coloraxis": {
           "colorbar": {
            "outlinewidth": 0,
            "ticks": ""
           }
          },
          "colorscale": {
           "diverging": [
            [
             0,
             "#8e0152"
            ],
            [
             0.1,
             "#c51b7d"
            ],
            [
             0.2,
             "#de77ae"
            ],
            [
             0.3,
             "#f1b6da"
            ],
            [
             0.4,
             "#fde0ef"
            ],
            [
             0.5,
             "#f7f7f7"
            ],
            [
             0.6,
             "#e6f5d0"
            ],
            [
             0.7,
             "#b8e186"
            ],
            [
             0.8,
             "#7fbc41"
            ],
            [
             0.9,
             "#4d9221"
            ],
            [
             1,
             "#276419"
            ]
           ],
           "sequential": [
            [
             0,
             "#0d0887"
            ],
            [
             0.1111111111111111,
             "#46039f"
            ],
            [
             0.2222222222222222,
             "#7201a8"
            ],
            [
             0.3333333333333333,
             "#9c179e"
            ],
            [
             0.4444444444444444,
             "#bd3786"
            ],
            [
             0.5555555555555556,
             "#d8576b"
            ],
            [
             0.6666666666666666,
             "#ed7953"
            ],
            [
             0.7777777777777778,
             "#fb9f3a"
            ],
            [
             0.8888888888888888,
             "#fdca26"
            ],
            [
             1,
             "#f0f921"
            ]
           ],
           "sequentialminus": [
            [
             0,
             "#0d0887"
            ],
            [
             0.1111111111111111,
             "#46039f"
            ],
            [
             0.2222222222222222,
             "#7201a8"
            ],
            [
             0.3333333333333333,
             "#9c179e"
            ],
            [
             0.4444444444444444,
             "#bd3786"
            ],
            [
             0.5555555555555556,
             "#d8576b"
            ],
            [
             0.6666666666666666,
             "#ed7953"
            ],
            [
             0.7777777777777778,
             "#fb9f3a"
            ],
            [
             0.8888888888888888,
             "#fdca26"
            ],
            [
             1,
             "#f0f921"
            ]
           ]
          },
          "colorway": [
           "#636efa",
           "#EF553B",
           "#00cc96",
           "#ab63fa",
           "#FFA15A",
           "#19d3f3",
           "#FF6692",
           "#B6E880",
           "#FF97FF",
           "#FECB52"
          ],
          "font": {
           "color": "#2a3f5f"
          },
          "geo": {
           "bgcolor": "white",
           "lakecolor": "white",
           "landcolor": "#E5ECF6",
           "showlakes": true,
           "showland": true,
           "subunitcolor": "white"
          },
          "hoverlabel": {
           "align": "left"
          },
          "hovermode": "closest",
          "mapbox": {
           "style": "light"
          },
          "paper_bgcolor": "white",
          "plot_bgcolor": "#E5ECF6",
          "polar": {
           "angularaxis": {
            "gridcolor": "white",
            "linecolor": "white",
            "ticks": ""
           },
           "bgcolor": "#E5ECF6",
           "radialaxis": {
            "gridcolor": "white",
            "linecolor": "white",
            "ticks": ""
           }
          },
          "scene": {
           "xaxis": {
            "backgroundcolor": "#E5ECF6",
            "gridcolor": "white",
            "gridwidth": 2,
            "linecolor": "white",
            "showbackground": true,
            "ticks": "",
            "zerolinecolor": "white"
           },
           "yaxis": {
            "backgroundcolor": "#E5ECF6",
            "gridcolor": "white",
            "gridwidth": 2,
            "linecolor": "white",
            "showbackground": true,
            "ticks": "",
            "zerolinecolor": "white"
           },
           "zaxis": {
            "backgroundcolor": "#E5ECF6",
            "gridcolor": "white",
            "gridwidth": 2,
            "linecolor": "white",
            "showbackground": true,
            "ticks": "",
            "zerolinecolor": "white"
           }
          },
          "shapedefaults": {
           "line": {
            "color": "#2a3f5f"
           }
          },
          "ternary": {
           "aaxis": {
            "gridcolor": "white",
            "linecolor": "white",
            "ticks": ""
           },
           "baxis": {
            "gridcolor": "white",
            "linecolor": "white",
            "ticks": ""
           },
           "bgcolor": "#E5ECF6",
           "caxis": {
            "gridcolor": "white",
            "linecolor": "white",
            "ticks": ""
           }
          },
          "title": {
           "x": 0.05
          },
          "xaxis": {
           "automargin": true,
           "gridcolor": "white",
           "linecolor": "white",
           "ticks": "",
           "title": {
            "standoff": 15
           },
           "zerolinecolor": "white",
           "zerolinewidth": 2
          },
          "yaxis": {
           "automargin": true,
           "gridcolor": "white",
           "linecolor": "white",
           "ticks": "",
           "title": {
            "standoff": 15
           },
           "zerolinecolor": "white",
           "zerolinewidth": 2
          }
         }
        },
        "title": {
         "text": "Stacked Barplot of reported and annotated Superclasses Occurrence for Maytenus woodsonii"
        },
        "width": 1500,
        "xaxis": {
         "anchor": "y",
         "domain": [
          0,
          1
         ],
         "title": {
          "text": "Recurrence"
         }
        },
        "yaxis": {
         "anchor": "x",
         "categoryarray": [
          "Reported",
          "Annotated"
         ],
         "categoryorder": "array",
         "domain": [
          0,
          1
         ],
         "title": {
          "text": "Type"
         }
        }
       }
      }
     },
     "metadata": {},
     "output_type": "display_data"
    }
   ],
   "source": [
    "barplot_pathway_species(output_folder, q_code, organism)"
   ]
  }
 ],
 "metadata": {
  "interpreter": {
   "hash": "2c38b6a57c2d4f85bcd8a646c69c70f453ebfd581092159d4a2b022d1b3585cd"
  },
  "kernelspec": {
   "display_name": "Python 3.8.5 64-bit ('base': conda)",
   "language": "python",
   "name": "python3"
  },
  "language_info": {
   "codemirror_mode": {
    "name": "ipython",
    "version": 3
   },
   "file_extension": ".py",
   "mimetype": "text/x-python",
   "name": "python",
   "nbconvert_exporter": "python",
   "pygments_lexer": "ipython3",
   "version": "3.11.7"
  },
  "orig_nbformat": 4
 },
 "nbformat": 4,
 "nbformat_minor": 2
}
