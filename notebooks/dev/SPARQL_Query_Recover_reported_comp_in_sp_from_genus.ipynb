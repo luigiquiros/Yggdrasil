{
 "cells": [
  {
   "cell_type": "code",
   "execution_count": 2,
   "metadata": {},
   "outputs": [],
   "source": [
    "import requests\n",
    "import pandas as pd\n",
    "import numpy as np\n",
    "import requests \n",
    "import os\n",
    "from io import StringIO  # Import StringIO from the io module\n",
    "import time  # Import the time module\n",
    "from urllib.parse import quote  # To URL encode SMILES\n",
    "import plotly.express as px\n",
    "import matplotlib.colors as mcolors"
   ]
  },
  {
   "cell_type": "markdown",
   "metadata": {},
   "source": [
    "Befor runing this code: \n",
    "1) creaea an empty folder (input_folder) in your desired location and writhe down the path below! \n",
    "2) Change the corresponding Q CODE from wikidata for a given Genus in the code below!\n",
    "\n",
    "That's all"
   ]
  },
  {
   "cell_type": "markdown",
   "metadata": {},
   "source": [
    "DEFINE THE FOLLOWING PARAMETERS"
   ]
  },
  {
   "cell_type": "code",
   "execution_count": 3,
   "metadata": {},
   "outputs": [],
   "source": [
    "#Paths\n",
    "# Input folder containing CSV files\n",
    "input_folder = 'C:/Users/quirosgu/Desktop/Maytenus/Literature/' #'/home/quirosgu/Desktop/FARMA-SHARE/RECHERCHE/FASIE_LAB/LuisQ/Yggdrasil/data_out/genus/'#'C:/Users/quirosgu/Desktop/JLW/genus/'# '/mnt/c/Users/quirosgu/Desktop/JLW/'\n",
    "\n",
    "#Swertia chirayita (Q21318003)\n",
    "#Swertia (Q163970)\n",
    "#Gentianaceae (Q157216)\n",
    "\n",
    "qcode = \"Q2633580\"  # Replace with the actual Q-code for the genus\n",
    "\n",
    "#lotus databases\n",
    "LOTUSDB = 'C:/Users/quirosgu/Documents/Github/Yggdrasil/data_loc/LotusDB_inhouse_metadata.csv'#'/mnt/c/Users/quirosgu/Documents/Github/Yggdrasil/data_loc/LotusDB_inhouse_metadata.csv' #'/home/quirosgu/Desktop/FARMA-SHARE/RECHERCHE/FASIE_LAB/LuisQ/Yggdrasil/data_loc/LotusDB_inhouse_metadata.csv' #'/home/quirosgu/Desktop/FARMA-SHARE/RECHERCHE/FASIE_LAB/LuisQ/Yggdrasil/data_loc/LotusDB_inhouse_metadata.csv' #'C:/Users/quirosgu/Documents/Github/Yggdrasil/data_loc/LotusDB_inhouse_metadata.csv'#'/mnt/c/Users/quirosgu/Documents/Github/Yggdrasil/data_loc/LotusDB_inhouse_metadata.csv' #'/home/quirosgu/Desktop/FARMA-SHARE/RECHERCHE/FASIE_LAB/LuisQ/Yggdrasil/data_loc/LotusDB_inhouse_metadata.csv'\n",
    "LOTUSDB_rc = 'C:/Users/quirosgu/Documents/Github/Yggdrasil/data_loc/LotusDB_inhouse_rc.csv'#'/mnt/c/Users/quirosgu/Documents/Github/Yggdrasil/data_loc/LotusDB_inhouse_rc.csv' #'C:/Users/quirosgu/Documents/Github/Yggdrasil/data_loc/LotusDB_inhouse_rc.csv'#'/mnt/c/Users/quirosgu/Documents/Github/Yggdrasil/data_loc/LotusDB_inhouse_rc.csv' #'/home/quirosgu/Desktop/FARMA-SHARE/RECHERCHE/FASIE_LAB/LuisQ/Yggdrasil/data_loc/LotusDB_inhouse_rc.csv'\n",
    "\n",
    "# Output folder for the processed CSV files\n",
    "output_folder = f'{input_folder}output_data/'\n",
    "\n",
    "# Create the output folder if it doesn't exist\n",
    "if not os.path.exists(output_folder):\n",
    "    os.makedirs(output_folder)"
   ]
  },
  {
   "cell_type": "code",
   "execution_count": 4,
   "metadata": {},
   "outputs": [],
   "source": [
    "\n",
    "#functions to colors palets, etc\n",
    "def fetch_species_from_qcode(qcode):\n",
    "    \"\"\"\n",
    "    Fetches all species under a given genus using the Wikidata SPARQL endpoint.\n",
    "\n",
    "    Parameters:\n",
    "    genus_qcode (str): The Wikidata Q-code for the genus.\n",
    "\n",
    "    Returns:\n",
    "    pd.DataFrame: A DataFrame containing the species and their corresponding Q-codes.\n",
    "    \"\"\"\n",
    "\n",
    "    # SPARQL query to fetch species under a given genus\n",
    "    query = \"\"\"\n",
    "    SELECT ?species ?speciesLabel WHERE {\n",
    "      ?species wdt:P171* wd:%s .\n",
    "      ?species wdt:P105 wd:Q7432.\n",
    "      SERVICE wikibase:label { bd:serviceParam wikibase:language \"[AUTO_LANGUAGE],en\". }\n",
    "    }\n",
    "    \"\"\" % qcode\n",
    "\n",
    "    # URL for the Wikidata SPARQL endpoint\n",
    "    url = \"https://query.wikidata.org/sparql\"\n",
    "\n",
    "    # Request headers\n",
    "    headers = {\n",
    "        \"User-Agent\": \"Wikidata Species Fetcher/0.1 (https://www.wikidata.org/wiki/Wikidata:Data_access)\"\n",
    "    }\n",
    "\n",
    "    # Perform the request\n",
    "    response = requests.get(url, headers=headers, params={'query': query, 'format': 'json'})\n",
    "\n",
    "    if response.status_code != 200:\n",
    "        raise Exception(\"Failed to fetch data: HTTP status code {}\".format(response.status_code))\n",
    "\n",
    "    # Parse the JSON response\n",
    "    data = response.json()\n",
    "\n",
    "    # Extract results\n",
    "    species = []\n",
    "    for item in data['results']['bindings']:\n",
    "        species.append({\n",
    "            'wikidata_Qcode_species': item['species']['value'].split('/')[-1],\n",
    "            'Species': item['speciesLabel']['value']\n",
    "        })\n",
    "\n",
    "    return pd.DataFrame(species)\n",
    "\n",
    "# Define base colors for each Pathway\n",
    "pathway_shades= {\n",
    "    'Terpenoids': ('#618264', '#D0E7D2'),  # Green start and lighter green end\n",
    "    'Alkaloids': ('#305F72', '#5CBCE2'),   # Blue start and lighter blue end  \n",
    "    'Shikimates and Phenylpropanoids': ('#80558C', '#CBA0AE'),  # Purple start and lighter purple end\n",
    "    'Polyketides': ('#EF4B4B', '#EC8F6A'),  # Red start and lighter purple end\n",
    "    'Fatty acids': ('#FF6C22', '#FF9209'),  # Orange start and lighter purple end\n",
    "    'Amino acids and Peptides': ('#F4E869', '#FAF2D3'),  # Yellow start and lighter purple end\n",
    "    'Carbohydrates': ('#65451F','#C8AE7D')  # Brown start and lighter purple end\n",
    "}\n",
    "\n",
    "# Define custom colors for the 7 pathway categories\n",
    "pathway_colors = {\n",
    "    'Terpenoids': '#618264',  # Green start and lighter green end\n",
    "    'Alkaloids': '#305F72',   # Blue start and lighter blue end\n",
    "    'Shikimates and Phenylpropanoids': '#80558C',  # Purple start and lighter purple end\n",
    "    'Polyketides': '#EF4B4B',  # Red start and lighter purple end\n",
    "    'Fatty acids': '#FF6C22',  # Orange start and lighter purple end\n",
    "    'Amino acids and Peptides': '#F4E869',  # Yellow start and lighter purple end\n",
    "    'Carbohydrates': '#65451F' # Brown start and lighter purple end\n",
    "}\n",
    "\n",
    "def interpolate_color(color1, color2, factor: float):\n",
    "    \"\"\"Interpolate between two colors\"\"\"\n",
    "    color1 = np.array(mcolors.to_rgb(color1))\n",
    "    color2 = np.array(mcolors.to_rgb(color2))\n",
    "    return mcolors.to_hex((1 - factor) * color1 + factor * color2)\n",
    "\n",
    "def generate_shades(pathway, num_shades):\n",
    "    base_color, end_color = pathway_shades.get(pathway, ('gray', 'lightgray'))\n",
    "    if num_shades == 1:\n",
    "        return [base_color]  # Return the base color if only one shade is requested\n",
    "    shades = []\n",
    "    for i in range(num_shades):\n",
    "        factor = i / (num_shades - 1)\n",
    "        shades.append(interpolate_color(base_color, end_color, factor))\n",
    "    return shades\n",
    "\n",
    "def split_chemical_superclass(row):\n",
    "    # Check if the value is a string before splitting\n",
    "    if isinstance(row['chemical_superclass'], str):\n",
    "        parts = row['chemical_superclass'].split('-')\n",
    "        if len(parts) == 2:\n",
    "            return parts[0], parts[1]  # Pathway and Superclass are present\n",
    "        else:\n",
    "            return parts[0], 'Unknown'  # Only Pathway is present, or the format is not as expected\n",
    "    else:\n",
    "        # Return default values if the entry is NaN or not a string\n",
    "        return 'Unknown', 'Unknown'"
   ]
  },
  {
   "cell_type": "markdown",
   "metadata": {},
   "source": [
    "FIRST RECOVER THE SPECIES (and Q codes) BELONGING TO A PARTICULAR GENUS "
   ]
  },
  {
   "cell_type": "code",
   "execution_count": 5,
   "metadata": {},
   "outputs": [],
   "source": [
    "# Usage\n",
    "species_df = fetch_species_from_qcode(qcode)\n",
    "species_df.head()  # Display the first few rows\n",
    "\n",
    "# Filename for the CSV file\n",
    "file_name = \"species_list.csv\"\n",
    "\n",
    "# Full path for the CSV file\n",
    "full_file_path = f\"{input_folder}/{file_name}\"\n",
    "\n",
    "# Save the DataFrame to a CSV file in the specified folder\n",
    "species_df.to_csv(full_file_path, index=False)"
   ]
  },
  {
   "cell_type": "markdown",
   "metadata": {},
   "source": [
    "NOW, LETS USE THE QCODES TO RECOVER ALL THE COMPOUNDS (WITH REFERENCES) PRESENT IN EACH QCODE AND SAVE THEM AS INDIVIDUAL CSV FILES FROM LOTUS_DB FROZEN METADATA"
   ]
  },
  {
   "cell_type": "code",
   "execution_count": 6,
   "metadata": {},
   "outputs": [
    {
     "name": "stdout",
     "output_type": "stream",
     "text": [
      "Saved grouped data for Q code Q537145 to C:/Users/quirosgu/Desktop/Maytenus/Literature/output_data/species_data\\Q537145.tsv\n",
      "Saved grouped data for Q code Q549692 to C:/Users/quirosgu/Desktop/Maytenus/Literature/output_data/species_data\\Q549692.tsv\n",
      "Saved grouped data for Q code Q1152753 to C:/Users/quirosgu/Desktop/Maytenus/Literature/output_data/species_data\\Q1152753.tsv\n",
      "Saved grouped data for Q code Q1330457 to C:/Users/quirosgu/Desktop/Maytenus/Literature/output_data/species_data\\Q1330457.tsv\n",
      "Saved grouped data for Q code Q1330822 to C:/Users/quirosgu/Desktop/Maytenus/Literature/output_data/species_data\\Q1330822.tsv\n",
      "Saved grouped data for Q code Q2600704 to C:/Users/quirosgu/Desktop/Maytenus/Literature/output_data/species_data\\Q2600704.tsv\n",
      "Saved grouped data for Q code Q2843257 to C:/Users/quirosgu/Desktop/Maytenus/Literature/output_data/species_data\\Q2843257.tsv\n",
      "Saved grouped data for Q code Q2882626 to C:/Users/quirosgu/Desktop/Maytenus/Literature/output_data/species_data\\Q2882626.tsv\n",
      "Saved grouped data for Q code Q5434619 to C:/Users/quirosgu/Desktop/Maytenus/Literature/output_data/species_data\\Q5434619.tsv\n",
      "Saved grouped data for Q code Q5434623 to C:/Users/quirosgu/Desktop/Maytenus/Literature/output_data/species_data\\Q5434623.tsv\n",
      "Saved grouped data for Q code Q5434628 to C:/Users/quirosgu/Desktop/Maytenus/Literature/output_data/species_data\\Q5434628.tsv\n",
      "Saved grouped data for Q code Q5458789 to C:/Users/quirosgu/Desktop/Maytenus/Literature/output_data/species_data\\Q5458789.tsv\n",
      "Saved grouped data for Q code Q5458797 to C:/Users/quirosgu/Desktop/Maytenus/Literature/output_data/species_data\\Q5458797.tsv\n",
      "Saved grouped data for Q code Q5458801 to C:/Users/quirosgu/Desktop/Maytenus/Literature/output_data/species_data\\Q5458801.tsv\n",
      "Saved grouped data for Q code Q5458805 to C:/Users/quirosgu/Desktop/Maytenus/Literature/output_data/species_data\\Q5458805.tsv\n",
      "Saved grouped data for Q code Q5458807 to C:/Users/quirosgu/Desktop/Maytenus/Literature/output_data/species_data\\Q5458807.tsv\n",
      "Saved grouped data for Q code Q5473304 to C:/Users/quirosgu/Desktop/Maytenus/Literature/output_data/species_data\\Q5473304.tsv\n",
      "Saved grouped data for Q code Q5473307 to C:/Users/quirosgu/Desktop/Maytenus/Literature/output_data/species_data\\Q5473307.tsv\n",
      "Saved grouped data for Q code Q5487368 to C:/Users/quirosgu/Desktop/Maytenus/Literature/output_data/species_data\\Q5487368.tsv\n",
      "Saved grouped data for Q code Q5487372 to C:/Users/quirosgu/Desktop/Maytenus/Literature/output_data/species_data\\Q5487372.tsv\n",
      "Saved grouped data for Q code Q5487376 to C:/Users/quirosgu/Desktop/Maytenus/Literature/output_data/species_data\\Q5487376.tsv\n",
      "Saved grouped data for Q code Q5487380 to C:/Users/quirosgu/Desktop/Maytenus/Literature/output_data/species_data\\Q5487380.tsv\n",
      "Saved grouped data for Q code Q5790250 to C:/Users/quirosgu/Desktop/Maytenus/Literature/output_data/species_data\\Q5790250.tsv\n",
      "Saved grouped data for Q code Q6007781 to C:/Users/quirosgu/Desktop/Maytenus/Literature/output_data/species_data\\Q6007781.tsv\n",
      "Saved grouped data for Q code Q6798018 to C:/Users/quirosgu/Desktop/Maytenus/Literature/output_data/species_data\\Q6798018.tsv\n",
      "Saved grouped data for Q code Q6798020 to C:/Users/quirosgu/Desktop/Maytenus/Literature/output_data/species_data\\Q6798020.tsv\n",
      "Saved grouped data for Q code Q6798024 to C:/Users/quirosgu/Desktop/Maytenus/Literature/output_data/species_data\\Q6798024.tsv\n",
      "Saved grouped data for Q code Q6798026 to C:/Users/quirosgu/Desktop/Maytenus/Literature/output_data/species_data\\Q6798026.tsv\n",
      "Saved grouped data for Q code Q6798028 to C:/Users/quirosgu/Desktop/Maytenus/Literature/output_data/species_data\\Q6798028.tsv\n",
      "Saved grouped data for Q code Q9030839 to C:/Users/quirosgu/Desktop/Maytenus/Literature/output_data/species_data\\Q9030839.tsv\n",
      "Saved grouped data for Q code Q10327859 to C:/Users/quirosgu/Desktop/Maytenus/Literature/output_data/species_data\\Q10327859.tsv\n",
      "Saved grouped data for Q code Q10327860 to C:/Users/quirosgu/Desktop/Maytenus/Literature/output_data/species_data\\Q10327860.tsv\n",
      "Saved grouped data for Q code Q10327861 to C:/Users/quirosgu/Desktop/Maytenus/Literature/output_data/species_data\\Q10327861.tsv\n",
      "Saved grouped data for Q code Q10890205 to C:/Users/quirosgu/Desktop/Maytenus/Literature/output_data/species_data\\Q10890205.tsv\n",
      "Saved grouped data for Q code Q10898684 to C:/Users/quirosgu/Desktop/Maytenus/Literature/output_data/species_data\\Q10898684.tsv\n",
      "Saved grouped data for Q code Q10902495 to C:/Users/quirosgu/Desktop/Maytenus/Literature/output_data/species_data\\Q10902495.tsv\n",
      "Saved grouped data for Q code Q10912860 to C:/Users/quirosgu/Desktop/Maytenus/Literature/output_data/species_data\\Q10912860.tsv\n",
      "Saved grouped data for Q code Q10914958 to C:/Users/quirosgu/Desktop/Maytenus/Literature/output_data/species_data\\Q10914958.tsv\n",
      "Saved grouped data for Q code Q10917481 to C:/Users/quirosgu/Desktop/Maytenus/Literature/output_data/species_data\\Q10917481.tsv\n",
      "Saved grouped data for Q code Q10926408 to C:/Users/quirosgu/Desktop/Maytenus/Literature/output_data/species_data\\Q10926408.tsv\n",
      "Saved grouped data for Q code Q10953546 to C:/Users/quirosgu/Desktop/Maytenus/Literature/output_data/species_data\\Q10953546.tsv\n",
      "Saved grouped data for Q code Q10959361 to C:/Users/quirosgu/Desktop/Maytenus/Literature/output_data/species_data\\Q10959361.tsv\n",
      "Saved grouped data for Q code Q11062497 to C:/Users/quirosgu/Desktop/Maytenus/Literature/output_data/species_data\\Q11062497.tsv\n",
      "Saved grouped data for Q code Q11066003 to C:/Users/quirosgu/Desktop/Maytenus/Literature/output_data/species_data\\Q11066003.tsv\n",
      "Saved grouped data for Q code Q11150139 to C:/Users/quirosgu/Desktop/Maytenus/Literature/output_data/species_data\\Q11150139.tsv\n",
      "Saved grouped data for Q code Q13023077 to C:/Users/quirosgu/Desktop/Maytenus/Literature/output_data/species_data\\Q13023077.tsv\n",
      "Saved grouped data for Q code Q13035203 to C:/Users/quirosgu/Desktop/Maytenus/Literature/output_data/species_data\\Q13035203.tsv\n",
      "Saved grouped data for Q code Q14831026 to C:/Users/quirosgu/Desktop/Maytenus/Literature/output_data/species_data\\Q14831026.tsv\n",
      "Saved grouped data for Q code Q15059707 to C:/Users/quirosgu/Desktop/Maytenus/Literature/output_data/species_data\\Q15059707.tsv\n",
      "Saved grouped data for Q code Q15225784 to C:/Users/quirosgu/Desktop/Maytenus/Literature/output_data/species_data\\Q15225784.tsv\n",
      "Saved grouped data for Q code Q15226312 to C:/Users/quirosgu/Desktop/Maytenus/Literature/output_data/species_data\\Q15226312.tsv\n",
      "Saved grouped data for Q code Q15226313 to C:/Users/quirosgu/Desktop/Maytenus/Literature/output_data/species_data\\Q15226313.tsv\n",
      "Saved grouped data for Q code Q15226384 to C:/Users/quirosgu/Desktop/Maytenus/Literature/output_data/species_data\\Q15226384.tsv\n",
      "Saved grouped data for Q code Q15226385 to C:/Users/quirosgu/Desktop/Maytenus/Literature/output_data/species_data\\Q15226385.tsv\n",
      "Saved grouped data for Q code Q15226386 to C:/Users/quirosgu/Desktop/Maytenus/Literature/output_data/species_data\\Q15226386.tsv\n",
      "Saved grouped data for Q code Q15226388 to C:/Users/quirosgu/Desktop/Maytenus/Literature/output_data/species_data\\Q15226388.tsv\n",
      "Saved grouped data for Q code Q15226413 to C:/Users/quirosgu/Desktop/Maytenus/Literature/output_data/species_data\\Q15226413.tsv\n",
      "Saved grouped data for Q code Q15250578 to C:/Users/quirosgu/Desktop/Maytenus/Literature/output_data/species_data\\Q15250578.tsv\n",
      "Saved grouped data for Q code Q15329450 to C:/Users/quirosgu/Desktop/Maytenus/Literature/output_data/species_data\\Q15329450.tsv\n",
      "Saved grouped data for Q code Q15329531 to C:/Users/quirosgu/Desktop/Maytenus/Literature/output_data/species_data\\Q15329531.tsv\n",
      "Saved grouped data for Q code Q15329568 to C:/Users/quirosgu/Desktop/Maytenus/Literature/output_data/species_data\\Q15329568.tsv\n",
      "Saved grouped data for Q code Q15329581 to C:/Users/quirosgu/Desktop/Maytenus/Literature/output_data/species_data\\Q15329581.tsv\n",
      "Saved grouped data for Q code Q15329607 to C:/Users/quirosgu/Desktop/Maytenus/Literature/output_data/species_data\\Q15329607.tsv\n",
      "Saved grouped data for Q code Q15329615 to C:/Users/quirosgu/Desktop/Maytenus/Literature/output_data/species_data\\Q15329615.tsv\n",
      "Saved grouped data for Q code Q15329626 to C:/Users/quirosgu/Desktop/Maytenus/Literature/output_data/species_data\\Q15329626.tsv\n",
      "Saved grouped data for Q code Q15329657 to C:/Users/quirosgu/Desktop/Maytenus/Literature/output_data/species_data\\Q15329657.tsv\n",
      "Saved grouped data for Q code Q15329662 to C:/Users/quirosgu/Desktop/Maytenus/Literature/output_data/species_data\\Q15329662.tsv\n",
      "Saved grouped data for Q code Q15329679 to C:/Users/quirosgu/Desktop/Maytenus/Literature/output_data/species_data\\Q15329679.tsv\n",
      "Saved grouped data for Q code Q15329695 to C:/Users/quirosgu/Desktop/Maytenus/Literature/output_data/species_data\\Q15329695.tsv\n",
      "Saved grouped data for Q code Q15329704 to C:/Users/quirosgu/Desktop/Maytenus/Literature/output_data/species_data\\Q15329704.tsv\n",
      "Saved grouped data for Q code Q15329742 to C:/Users/quirosgu/Desktop/Maytenus/Literature/output_data/species_data\\Q15329742.tsv\n",
      "Saved grouped data for Q code Q15329755 to C:/Users/quirosgu/Desktop/Maytenus/Literature/output_data/species_data\\Q15329755.tsv\n",
      "Saved grouped data for Q code Q15329768 to C:/Users/quirosgu/Desktop/Maytenus/Literature/output_data/species_data\\Q15329768.tsv\n",
      "Saved grouped data for Q code Q15329796 to C:/Users/quirosgu/Desktop/Maytenus/Literature/output_data/species_data\\Q15329796.tsv\n",
      "Saved grouped data for Q code Q15329822 to C:/Users/quirosgu/Desktop/Maytenus/Literature/output_data/species_data\\Q15329822.tsv\n",
      "Saved grouped data for Q code Q15329824 to C:/Users/quirosgu/Desktop/Maytenus/Literature/output_data/species_data\\Q15329824.tsv\n",
      "Saved grouped data for Q code Q15329827 to C:/Users/quirosgu/Desktop/Maytenus/Literature/output_data/species_data\\Q15329827.tsv\n",
      "Saved grouped data for Q code Q15329831 to C:/Users/quirosgu/Desktop/Maytenus/Literature/output_data/species_data\\Q15329831.tsv\n",
      "Saved grouped data for Q code Q15329838 to C:/Users/quirosgu/Desktop/Maytenus/Literature/output_data/species_data\\Q15329838.tsv\n",
      "Saved grouped data for Q code Q15329868 to C:/Users/quirosgu/Desktop/Maytenus/Literature/output_data/species_data\\Q15329868.tsv\n",
      "Saved grouped data for Q code Q15329873 to C:/Users/quirosgu/Desktop/Maytenus/Literature/output_data/species_data\\Q15329873.tsv\n",
      "Saved grouped data for Q code Q15329895 to C:/Users/quirosgu/Desktop/Maytenus/Literature/output_data/species_data\\Q15329895.tsv\n",
      "Saved grouped data for Q code Q15329919 to C:/Users/quirosgu/Desktop/Maytenus/Literature/output_data/species_data\\Q15329919.tsv\n",
      "Saved grouped data for Q code Q15329924 to C:/Users/quirosgu/Desktop/Maytenus/Literature/output_data/species_data\\Q15329924.tsv\n",
      "Saved grouped data for Q code Q15329945 to C:/Users/quirosgu/Desktop/Maytenus/Literature/output_data/species_data\\Q15329945.tsv\n",
      "Saved grouped data for Q code Q15329974 to C:/Users/quirosgu/Desktop/Maytenus/Literature/output_data/species_data\\Q15329974.tsv\n",
      "Saved grouped data for Q code Q15329979 to C:/Users/quirosgu/Desktop/Maytenus/Literature/output_data/species_data\\Q15329979.tsv\n",
      "Saved grouped data for Q code Q15330010 to C:/Users/quirosgu/Desktop/Maytenus/Literature/output_data/species_data\\Q15330010.tsv\n",
      "Saved grouped data for Q code Q15330011 to C:/Users/quirosgu/Desktop/Maytenus/Literature/output_data/species_data\\Q15330011.tsv\n",
      "Saved grouped data for Q code Q15330014 to C:/Users/quirosgu/Desktop/Maytenus/Literature/output_data/species_data\\Q15330014.tsv\n",
      "Saved grouped data for Q code Q15330035 to C:/Users/quirosgu/Desktop/Maytenus/Literature/output_data/species_data\\Q15330035.tsv\n",
      "Saved grouped data for Q code Q15330055 to C:/Users/quirosgu/Desktop/Maytenus/Literature/output_data/species_data\\Q15330055.tsv\n",
      "Saved grouped data for Q code Q15330081 to C:/Users/quirosgu/Desktop/Maytenus/Literature/output_data/species_data\\Q15330081.tsv\n",
      "Saved grouped data for Q code Q15330098 to C:/Users/quirosgu/Desktop/Maytenus/Literature/output_data/species_data\\Q15330098.tsv\n",
      "Saved grouped data for Q code Q15330106 to C:/Users/quirosgu/Desktop/Maytenus/Literature/output_data/species_data\\Q15330106.tsv\n",
      "Saved grouped data for Q code Q15330123 to C:/Users/quirosgu/Desktop/Maytenus/Literature/output_data/species_data\\Q15330123.tsv\n",
      "Saved grouped data for Q code Q15330159 to C:/Users/quirosgu/Desktop/Maytenus/Literature/output_data/species_data\\Q15330159.tsv\n",
      "Saved grouped data for Q code Q15330189 to C:/Users/quirosgu/Desktop/Maytenus/Literature/output_data/species_data\\Q15330189.tsv\n",
      "Saved grouped data for Q code Q15330191 to C:/Users/quirosgu/Desktop/Maytenus/Literature/output_data/species_data\\Q15330191.tsv\n",
      "Saved grouped data for Q code Q17250549 to C:/Users/quirosgu/Desktop/Maytenus/Literature/output_data/species_data\\Q17250549.tsv\n",
      "Saved grouped data for Q code Q17250550 to C:/Users/quirosgu/Desktop/Maytenus/Literature/output_data/species_data\\Q17250550.tsv\n",
      "Saved grouped data for Q code Q17250596 to C:/Users/quirosgu/Desktop/Maytenus/Literature/output_data/species_data\\Q17250596.tsv\n",
      "Saved grouped data for Q code Q17250598 to C:/Users/quirosgu/Desktop/Maytenus/Literature/output_data/species_data\\Q17250598.tsv\n",
      "Saved grouped data for Q code Q17250742 to C:/Users/quirosgu/Desktop/Maytenus/Literature/output_data/species_data\\Q17250742.tsv\n",
      "Saved grouped data for Q code Q17250756 to C:/Users/quirosgu/Desktop/Maytenus/Literature/output_data/species_data\\Q17250756.tsv\n",
      "Saved grouped data for Q code Q17250797 to C:/Users/quirosgu/Desktop/Maytenus/Literature/output_data/species_data\\Q17250797.tsv\n",
      "Saved grouped data for Q code Q17250954 to C:/Users/quirosgu/Desktop/Maytenus/Literature/output_data/species_data\\Q17250954.tsv\n",
      "Saved grouped data for Q code Q17251043 to C:/Users/quirosgu/Desktop/Maytenus/Literature/output_data/species_data\\Q17251043.tsv\n",
      "Saved grouped data for Q code Q17251283 to C:/Users/quirosgu/Desktop/Maytenus/Literature/output_data/species_data\\Q17251283.tsv\n",
      "Saved grouped data for Q code Q17251294 to C:/Users/quirosgu/Desktop/Maytenus/Literature/output_data/species_data\\Q17251294.tsv\n",
      "Saved grouped data for Q code Q17251349 to C:/Users/quirosgu/Desktop/Maytenus/Literature/output_data/species_data\\Q17251349.tsv\n",
      "Saved grouped data for Q code Q17251396 to C:/Users/quirosgu/Desktop/Maytenus/Literature/output_data/species_data\\Q17251396.tsv\n",
      "Saved grouped data for Q code Q17251571 to C:/Users/quirosgu/Desktop/Maytenus/Literature/output_data/species_data\\Q17251571.tsv\n",
      "Saved grouped data for Q code Q17251725 to C:/Users/quirosgu/Desktop/Maytenus/Literature/output_data/species_data\\Q17251725.tsv\n",
      "Saved grouped data for Q code Q17251805 to C:/Users/quirosgu/Desktop/Maytenus/Literature/output_data/species_data\\Q17251805.tsv\n",
      "Saved grouped data for Q code Q17251907 to C:/Users/quirosgu/Desktop/Maytenus/Literature/output_data/species_data\\Q17251907.tsv\n",
      "Saved grouped data for Q code Q17251911 to C:/Users/quirosgu/Desktop/Maytenus/Literature/output_data/species_data\\Q17251911.tsv\n",
      "Saved grouped data for Q code Q17252104 to C:/Users/quirosgu/Desktop/Maytenus/Literature/output_data/species_data\\Q17252104.tsv\n",
      "Saved grouped data for Q code Q17252121 to C:/Users/quirosgu/Desktop/Maytenus/Literature/output_data/species_data\\Q17252121.tsv\n",
      "Saved grouped data for Q code Q17271386 to C:/Users/quirosgu/Desktop/Maytenus/Literature/output_data/species_data\\Q17271386.tsv\n",
      "Saved grouped data for Q code Q17271405 to C:/Users/quirosgu/Desktop/Maytenus/Literature/output_data/species_data\\Q17271405.tsv\n",
      "Saved grouped data for Q code Q17271413 to C:/Users/quirosgu/Desktop/Maytenus/Literature/output_data/species_data\\Q17271413.tsv\n",
      "Saved grouped data for Q code Q17271430 to C:/Users/quirosgu/Desktop/Maytenus/Literature/output_data/species_data\\Q17271430.tsv\n",
      "Saved grouped data for Q code Q17271432 to C:/Users/quirosgu/Desktop/Maytenus/Literature/output_data/species_data\\Q17271432.tsv\n",
      "Saved grouped data for Q code Q17271440 to C:/Users/quirosgu/Desktop/Maytenus/Literature/output_data/species_data\\Q17271440.tsv\n",
      "Saved grouped data for Q code Q17271505 to C:/Users/quirosgu/Desktop/Maytenus/Literature/output_data/species_data\\Q17271505.tsv\n",
      "Saved grouped data for Q code Q21324359 to C:/Users/quirosgu/Desktop/Maytenus/Literature/output_data/species_data\\Q21324359.tsv\n",
      "Saved grouped data for Q code Q25701166 to C:/Users/quirosgu/Desktop/Maytenus/Literature/output_data/species_data\\Q25701166.tsv\n",
      "Saved grouped data for Q code Q25701436 to C:/Users/quirosgu/Desktop/Maytenus/Literature/output_data/species_data\\Q25701436.tsv\n",
      "Saved grouped data for Q code Q25702153 to C:/Users/quirosgu/Desktop/Maytenus/Literature/output_data/species_data\\Q25702153.tsv\n",
      "Saved grouped data for Q code Q38622144 to C:/Users/quirosgu/Desktop/Maytenus/Literature/output_data/species_data\\Q38622144.tsv\n",
      "Saved grouped data for Q code Q38622447 to C:/Users/quirosgu/Desktop/Maytenus/Literature/output_data/species_data\\Q38622447.tsv\n",
      "Saved grouped data for Q code Q38622489 to C:/Users/quirosgu/Desktop/Maytenus/Literature/output_data/species_data\\Q38622489.tsv\n",
      "Saved grouped data for Q code Q38622627 to C:/Users/quirosgu/Desktop/Maytenus/Literature/output_data/species_data\\Q38622627.tsv\n",
      "Saved grouped data for Q code Q38622680 to C:/Users/quirosgu/Desktop/Maytenus/Literature/output_data/species_data\\Q38622680.tsv\n",
      "Saved grouped data for Q code Q38622822 to C:/Users/quirosgu/Desktop/Maytenus/Literature/output_data/species_data\\Q38622822.tsv\n",
      "Saved grouped data for Q code Q38623114 to C:/Users/quirosgu/Desktop/Maytenus/Literature/output_data/species_data\\Q38623114.tsv\n",
      "Saved grouped data for Q code Q38624605 to C:/Users/quirosgu/Desktop/Maytenus/Literature/output_data/species_data\\Q38624605.tsv\n",
      "Saved grouped data for Q code Q38624636 to C:/Users/quirosgu/Desktop/Maytenus/Literature/output_data/species_data\\Q38624636.tsv\n",
      "Saved grouped data for Q code Q42747684 to C:/Users/quirosgu/Desktop/Maytenus/Literature/output_data/species_data\\Q42747684.tsv\n",
      "Saved grouped data for Q code Q50844030 to C:/Users/quirosgu/Desktop/Maytenus/Literature/output_data/species_data\\Q50844030.tsv\n",
      "Saved grouped data for Q code Q50844033 to C:/Users/quirosgu/Desktop/Maytenus/Literature/output_data/species_data\\Q50844033.tsv\n",
      "Saved grouped data for Q code Q50844907 to C:/Users/quirosgu/Desktop/Maytenus/Literature/output_data/species_data\\Q50844907.tsv\n",
      "Saved grouped data for Q code Q50975869 to C:/Users/quirosgu/Desktop/Maytenus/Literature/output_data/species_data\\Q50975869.tsv\n",
      "Saved grouped data for Q code Q50975886 to C:/Users/quirosgu/Desktop/Maytenus/Literature/output_data/species_data\\Q50975886.tsv\n",
      "Saved grouped data for Q code Q50975893 to C:/Users/quirosgu/Desktop/Maytenus/Literature/output_data/species_data\\Q50975893.tsv\n",
      "Saved grouped data for Q code Q55879695 to C:/Users/quirosgu/Desktop/Maytenus/Literature/output_data/species_data\\Q55879695.tsv\n",
      "Saved grouped data for Q code Q55879712 to C:/Users/quirosgu/Desktop/Maytenus/Literature/output_data/species_data\\Q55879712.tsv\n",
      "Saved grouped data for Q code Q55879736 to C:/Users/quirosgu/Desktop/Maytenus/Literature/output_data/species_data\\Q55879736.tsv\n",
      "Saved grouped data for Q code Q63182302 to C:/Users/quirosgu/Desktop/Maytenus/Literature/output_data/species_data\\Q63182302.tsv\n",
      "Saved grouped data for Q code Q65929659 to C:/Users/quirosgu/Desktop/Maytenus/Literature/output_data/species_data\\Q65929659.tsv\n",
      "Saved grouped data for Q code Q65929660 to C:/Users/quirosgu/Desktop/Maytenus/Literature/output_data/species_data\\Q65929660.tsv\n",
      "Saved grouped data for Q code Q65929661 to C:/Users/quirosgu/Desktop/Maytenus/Literature/output_data/species_data\\Q65929661.tsv\n",
      "Saved grouped data for Q code Q65943158 to C:/Users/quirosgu/Desktop/Maytenus/Literature/output_data/species_data\\Q65943158.tsv\n",
      "Saved grouped data for Q code Q65943160 to C:/Users/quirosgu/Desktop/Maytenus/Literature/output_data/species_data\\Q65943160.tsv\n",
      "Saved grouped data for Q code Q65943161 to C:/Users/quirosgu/Desktop/Maytenus/Literature/output_data/species_data\\Q65943161.tsv\n",
      "Saved grouped data for Q code Q67193053 to C:/Users/quirosgu/Desktop/Maytenus/Literature/output_data/species_data\\Q67193053.tsv\n",
      "Saved grouped data for Q code Q67193054 to C:/Users/quirosgu/Desktop/Maytenus/Literature/output_data/species_data\\Q67193054.tsv\n",
      "Saved grouped data for Q code Q87580434 to C:/Users/quirosgu/Desktop/Maytenus/Literature/output_data/species_data\\Q87580434.tsv\n",
      "Saved grouped data for Q code Q87580444 to C:/Users/quirosgu/Desktop/Maytenus/Literature/output_data/species_data\\Q87580444.tsv\n",
      "Saved grouped data for Q code Q91439416 to C:/Users/quirosgu/Desktop/Maytenus/Literature/output_data/species_data\\Q91439416.tsv\n",
      "Saved grouped data for Q code Q91439459 to C:/Users/quirosgu/Desktop/Maytenus/Literature/output_data/species_data\\Q91439459.tsv\n",
      "Saved grouped data for Q code Q93190418 to C:/Users/quirosgu/Desktop/Maytenus/Literature/output_data/species_data\\Q93190418.tsv\n",
      "Saved grouped data for Q code Q93312205 to C:/Users/quirosgu/Desktop/Maytenus/Literature/output_data/species_data\\Q93312205.tsv\n",
      "Saved grouped data for Q code Q93434729 to C:/Users/quirosgu/Desktop/Maytenus/Literature/output_data/species_data\\Q93434729.tsv\n",
      "Saved grouped data for Q code Q96067615 to C:/Users/quirosgu/Desktop/Maytenus/Literature/output_data/species_data\\Q96067615.tsv\n",
      "Saved grouped data for Q code Q96067620 to C:/Users/quirosgu/Desktop/Maytenus/Literature/output_data/species_data\\Q96067620.tsv\n",
      "Saved grouped data for Q code Q96093367 to C:/Users/quirosgu/Desktop/Maytenus/Literature/output_data/species_data\\Q96093367.tsv\n",
      "Saved grouped data for Q code Q96093371 to C:/Users/quirosgu/Desktop/Maytenus/Literature/output_data/species_data\\Q96093371.tsv\n",
      "Saved grouped data for Q code Q96093377 to C:/Users/quirosgu/Desktop/Maytenus/Literature/output_data/species_data\\Q96093377.tsv\n",
      "Saved grouped data for Q code Q96093385 to C:/Users/quirosgu/Desktop/Maytenus/Literature/output_data/species_data\\Q96093385.tsv\n",
      "Saved grouped data for Q code Q96154552 to C:/Users/quirosgu/Desktop/Maytenus/Literature/output_data/species_data\\Q96154552.tsv\n",
      "Saved grouped data for Q code Q96180092 to C:/Users/quirosgu/Desktop/Maytenus/Literature/output_data/species_data\\Q96180092.tsv\n",
      "Saved grouped data for Q code Q96193724 to C:/Users/quirosgu/Desktop/Maytenus/Literature/output_data/species_data\\Q96193724.tsv\n",
      "Saved grouped data for Q code Q96193745 to C:/Users/quirosgu/Desktop/Maytenus/Literature/output_data/species_data\\Q96193745.tsv\n",
      "Saved grouped data for Q code Q96193749 to C:/Users/quirosgu/Desktop/Maytenus/Literature/output_data/species_data\\Q96193749.tsv\n",
      "Saved grouped data for Q code Q98103164 to C:/Users/quirosgu/Desktop/Maytenus/Literature/output_data/species_data\\Q98103164.tsv\n",
      "Saved grouped data for Q code Q98103167 to C:/Users/quirosgu/Desktop/Maytenus/Literature/output_data/species_data\\Q98103167.tsv\n",
      "Saved grouped data for Q code Q98103172 to C:/Users/quirosgu/Desktop/Maytenus/Literature/output_data/species_data\\Q98103172.tsv\n",
      "Saved grouped data for Q code Q98103175 to C:/Users/quirosgu/Desktop/Maytenus/Literature/output_data/species_data\\Q98103175.tsv\n",
      "Saved grouped data for Q code Q98103178 to C:/Users/quirosgu/Desktop/Maytenus/Literature/output_data/species_data\\Q98103178.tsv\n",
      "Saved grouped data for Q code Q98103182 to C:/Users/quirosgu/Desktop/Maytenus/Literature/output_data/species_data\\Q98103182.tsv\n",
      "Saved grouped data for Q code Q98103185 to C:/Users/quirosgu/Desktop/Maytenus/Literature/output_data/species_data\\Q98103185.tsv\n",
      "Saved grouped data for Q code Q98103187 to C:/Users/quirosgu/Desktop/Maytenus/Literature/output_data/species_data\\Q98103187.tsv\n",
      "Saved grouped data for Q code Q98103191 to C:/Users/quirosgu/Desktop/Maytenus/Literature/output_data/species_data\\Q98103191.tsv\n",
      "Saved grouped data for Q code Q98103194 to C:/Users/quirosgu/Desktop/Maytenus/Literature/output_data/species_data\\Q98103194.tsv\n",
      "Saved grouped data for Q code Q98103196 to C:/Users/quirosgu/Desktop/Maytenus/Literature/output_data/species_data\\Q98103196.tsv\n",
      "Saved grouped data for Q code Q98103199 to C:/Users/quirosgu/Desktop/Maytenus/Literature/output_data/species_data\\Q98103199.tsv\n",
      "Saved grouped data for Q code Q104415371 to C:/Users/quirosgu/Desktop/Maytenus/Literature/output_data/species_data\\Q104415371.tsv\n",
      "Saved grouped data for Q code Q111008720 to C:/Users/quirosgu/Desktop/Maytenus/Literature/output_data/species_data\\Q111008720.tsv\n",
      "Saved grouped data for Q code Q111008726 to C:/Users/quirosgu/Desktop/Maytenus/Literature/output_data/species_data\\Q111008726.tsv\n",
      "Saved grouped data for Q code Q111008727 to C:/Users/quirosgu/Desktop/Maytenus/Literature/output_data/species_data\\Q111008727.tsv\n",
      "Saved grouped data for Q code Q111008728 to C:/Users/quirosgu/Desktop/Maytenus/Literature/output_data/species_data\\Q111008728.tsv\n",
      "Saved grouped data for Q code Q111008730 to C:/Users/quirosgu/Desktop/Maytenus/Literature/output_data/species_data\\Q111008730.tsv\n",
      "Saved grouped data for Q code Q111008732 to C:/Users/quirosgu/Desktop/Maytenus/Literature/output_data/species_data\\Q111008732.tsv\n",
      "Saved grouped data for Q code Q111008733 to C:/Users/quirosgu/Desktop/Maytenus/Literature/output_data/species_data\\Q111008733.tsv\n",
      "Saved grouped data for Q code Q111008735 to C:/Users/quirosgu/Desktop/Maytenus/Literature/output_data/species_data\\Q111008735.tsv\n",
      "Saved grouped data for Q code Q111008736 to C:/Users/quirosgu/Desktop/Maytenus/Literature/output_data/species_data\\Q111008736.tsv\n",
      "Saved grouped data for Q code Q15330239 to C:/Users/quirosgu/Desktop/Maytenus/Literature/output_data/species_data\\Q15330239.tsv\n",
      "Saved grouped data for Q code Q15330240 to C:/Users/quirosgu/Desktop/Maytenus/Literature/output_data/species_data\\Q15330240.tsv\n",
      "Saved grouped data for Q code Q15330308 to C:/Users/quirosgu/Desktop/Maytenus/Literature/output_data/species_data\\Q15330308.tsv\n",
      "Saved grouped data for Q code Q15330317 to C:/Users/quirosgu/Desktop/Maytenus/Literature/output_data/species_data\\Q15330317.tsv\n",
      "Saved grouped data for Q code Q15330318 to C:/Users/quirosgu/Desktop/Maytenus/Literature/output_data/species_data\\Q15330318.tsv\n",
      "Saved grouped data for Q code Q15330320 to C:/Users/quirosgu/Desktop/Maytenus/Literature/output_data/species_data\\Q15330320.tsv\n",
      "Saved grouped data for Q code Q15330343 to C:/Users/quirosgu/Desktop/Maytenus/Literature/output_data/species_data\\Q15330343.tsv\n",
      "Saved grouped data for Q code Q15330417 to C:/Users/quirosgu/Desktop/Maytenus/Literature/output_data/species_data\\Q15330417.tsv\n",
      "Saved grouped data for Q code Q15330418 to C:/Users/quirosgu/Desktop/Maytenus/Literature/output_data/species_data\\Q15330418.tsv\n",
      "Saved grouped data for Q code Q15330426 to C:/Users/quirosgu/Desktop/Maytenus/Literature/output_data/species_data\\Q15330426.tsv\n",
      "Saved grouped data for Q code Q15330470 to C:/Users/quirosgu/Desktop/Maytenus/Literature/output_data/species_data\\Q15330470.tsv\n",
      "Saved grouped data for Q code Q15330475 to C:/Users/quirosgu/Desktop/Maytenus/Literature/output_data/species_data\\Q15330475.tsv\n",
      "Saved grouped data for Q code Q15330480 to C:/Users/quirosgu/Desktop/Maytenus/Literature/output_data/species_data\\Q15330480.tsv\n",
      "Saved grouped data for Q code Q15330483 to C:/Users/quirosgu/Desktop/Maytenus/Literature/output_data/species_data\\Q15330483.tsv\n",
      "Saved grouped data for Q code Q15330505 to C:/Users/quirosgu/Desktop/Maytenus/Literature/output_data/species_data\\Q15330505.tsv\n",
      "Saved grouped data for Q code Q15330537 to C:/Users/quirosgu/Desktop/Maytenus/Literature/output_data/species_data\\Q15330537.tsv\n",
      "Saved grouped data for Q code Q15330582 to C:/Users/quirosgu/Desktop/Maytenus/Literature/output_data/species_data\\Q15330582.tsv\n",
      "Saved grouped data for Q code Q15330598 to C:/Users/quirosgu/Desktop/Maytenus/Literature/output_data/species_data\\Q15330598.tsv\n",
      "Saved grouped data for Q code Q15330601 to C:/Users/quirosgu/Desktop/Maytenus/Literature/output_data/species_data\\Q15330601.tsv\n",
      "Saved grouped data for Q code Q15330620 to C:/Users/quirosgu/Desktop/Maytenus/Literature/output_data/species_data\\Q15330620.tsv\n",
      "Saved grouped data for Q code Q15330687 to C:/Users/quirosgu/Desktop/Maytenus/Literature/output_data/species_data\\Q15330687.tsv\n",
      "Saved grouped data for Q code Q15330691 to C:/Users/quirosgu/Desktop/Maytenus/Literature/output_data/species_data\\Q15330691.tsv\n",
      "Saved grouped data for Q code Q15330698 to C:/Users/quirosgu/Desktop/Maytenus/Literature/output_data/species_data\\Q15330698.tsv\n",
      "Saved grouped data for Q code Q15330714 to C:/Users/quirosgu/Desktop/Maytenus/Literature/output_data/species_data\\Q15330714.tsv\n",
      "Saved grouped data for Q code Q15330739 to C:/Users/quirosgu/Desktop/Maytenus/Literature/output_data/species_data\\Q15330739.tsv\n",
      "Saved grouped data for Q code Q15330741 to C:/Users/quirosgu/Desktop/Maytenus/Literature/output_data/species_data\\Q15330741.tsv\n",
      "Saved grouped data for Q code Q15330757 to C:/Users/quirosgu/Desktop/Maytenus/Literature/output_data/species_data\\Q15330757.tsv\n",
      "Saved grouped data for Q code Q15330759 to C:/Users/quirosgu/Desktop/Maytenus/Literature/output_data/species_data\\Q15330759.tsv\n",
      "Saved grouped data for Q code Q15330779 to C:/Users/quirosgu/Desktop/Maytenus/Literature/output_data/species_data\\Q15330779.tsv\n",
      "Saved grouped data for Q code Q15330793 to C:/Users/quirosgu/Desktop/Maytenus/Literature/output_data/species_data\\Q15330793.tsv\n",
      "Saved grouped data for Q code Q15330809 to C:/Users/quirosgu/Desktop/Maytenus/Literature/output_data/species_data\\Q15330809.tsv\n",
      "Saved grouped data for Q code Q15330874 to C:/Users/quirosgu/Desktop/Maytenus/Literature/output_data/species_data\\Q15330874.tsv\n",
      "Saved grouped data for Q code Q15330896 to C:/Users/quirosgu/Desktop/Maytenus/Literature/output_data/species_data\\Q15330896.tsv\n",
      "Saved grouped data for Q code Q15330917 to C:/Users/quirosgu/Desktop/Maytenus/Literature/output_data/species_data\\Q15330917.tsv\n",
      "Saved grouped data for Q code Q15330945 to C:/Users/quirosgu/Desktop/Maytenus/Literature/output_data/species_data\\Q15330945.tsv\n",
      "Saved grouped data for Q code Q15330953 to C:/Users/quirosgu/Desktop/Maytenus/Literature/output_data/species_data\\Q15330953.tsv\n",
      "Saved grouped data for Q code Q15330957 to C:/Users/quirosgu/Desktop/Maytenus/Literature/output_data/species_data\\Q15330957.tsv\n",
      "Saved grouped data for Q code Q15330969 to C:/Users/quirosgu/Desktop/Maytenus/Literature/output_data/species_data\\Q15330969.tsv\n",
      "Saved grouped data for Q code Q15330989 to C:/Users/quirosgu/Desktop/Maytenus/Literature/output_data/species_data\\Q15330989.tsv\n",
      "Saved grouped data for Q code Q15331087 to C:/Users/quirosgu/Desktop/Maytenus/Literature/output_data/species_data\\Q15331087.tsv\n",
      "Saved grouped data for Q code Q15331119 to C:/Users/quirosgu/Desktop/Maytenus/Literature/output_data/species_data\\Q15331119.tsv\n",
      "Saved grouped data for Q code Q15331155 to C:/Users/quirosgu/Desktop/Maytenus/Literature/output_data/species_data\\Q15331155.tsv\n",
      "Saved grouped data for Q code Q15331188 to C:/Users/quirosgu/Desktop/Maytenus/Literature/output_data/species_data\\Q15331188.tsv\n",
      "Saved grouped data for Q code Q15331205 to C:/Users/quirosgu/Desktop/Maytenus/Literature/output_data/species_data\\Q15331205.tsv\n",
      "Saved grouped data for Q code Q15331261 to C:/Users/quirosgu/Desktop/Maytenus/Literature/output_data/species_data\\Q15331261.tsv\n",
      "Saved grouped data for Q code Q15331282 to C:/Users/quirosgu/Desktop/Maytenus/Literature/output_data/species_data\\Q15331282.tsv\n",
      "Saved grouped data for Q code Q15331368 to C:/Users/quirosgu/Desktop/Maytenus/Literature/output_data/species_data\\Q15331368.tsv\n",
      "Saved grouped data for Q code Q15331495 to C:/Users/quirosgu/Desktop/Maytenus/Literature/output_data/species_data\\Q15331495.tsv\n",
      "Saved grouped data for Q code Q15331593 to C:/Users/quirosgu/Desktop/Maytenus/Literature/output_data/species_data\\Q15331593.tsv\n",
      "Saved grouped data for Q code Q15331713 to C:/Users/quirosgu/Desktop/Maytenus/Literature/output_data/species_data\\Q15331713.tsv\n",
      "Saved grouped data for Q code Q16968641 to C:/Users/quirosgu/Desktop/Maytenus/Literature/output_data/species_data\\Q16968641.tsv\n",
      "Saved grouped data for Q code Q17246590 to C:/Users/quirosgu/Desktop/Maytenus/Literature/output_data/species_data\\Q17246590.tsv\n",
      "Saved grouped data for Q code Q17246715 to C:/Users/quirosgu/Desktop/Maytenus/Literature/output_data/species_data\\Q17246715.tsv\n",
      "Saved grouped data for Q code Q17246777 to C:/Users/quirosgu/Desktop/Maytenus/Literature/output_data/species_data\\Q17246777.tsv\n",
      "Saved grouped data for Q code Q17246864 to C:/Users/quirosgu/Desktop/Maytenus/Literature/output_data/species_data\\Q17246864.tsv\n",
      "Saved grouped data for Q code Q17246949 to C:/Users/quirosgu/Desktop/Maytenus/Literature/output_data/species_data\\Q17246949.tsv\n",
      "Saved grouped data for Q code Q17247126 to C:/Users/quirosgu/Desktop/Maytenus/Literature/output_data/species_data\\Q17247126.tsv\n",
      "Saved grouped data for Q code Q17247197 to C:/Users/quirosgu/Desktop/Maytenus/Literature/output_data/species_data\\Q17247197.tsv\n",
      "Saved grouped data for Q code Q17247234 to C:/Users/quirosgu/Desktop/Maytenus/Literature/output_data/species_data\\Q17247234.tsv\n",
      "Saved grouped data for Q code Q17247367 to C:/Users/quirosgu/Desktop/Maytenus/Literature/output_data/species_data\\Q17247367.tsv\n",
      "Saved grouped data for Q code Q17247371 to C:/Users/quirosgu/Desktop/Maytenus/Literature/output_data/species_data\\Q17247371.tsv\n",
      "Saved grouped data for Q code Q17247484 to C:/Users/quirosgu/Desktop/Maytenus/Literature/output_data/species_data\\Q17247484.tsv\n",
      "Saved grouped data for Q code Q17247495 to C:/Users/quirosgu/Desktop/Maytenus/Literature/output_data/species_data\\Q17247495.tsv\n",
      "Saved grouped data for Q code Q17247512 to C:/Users/quirosgu/Desktop/Maytenus/Literature/output_data/species_data\\Q17247512.tsv\n",
      "Saved grouped data for Q code Q17247534 to C:/Users/quirosgu/Desktop/Maytenus/Literature/output_data/species_data\\Q17247534.tsv\n",
      "Saved grouped data for Q code Q17247664 to C:/Users/quirosgu/Desktop/Maytenus/Literature/output_data/species_data\\Q17247664.tsv\n",
      "Saved grouped data for Q code Q17247755 to C:/Users/quirosgu/Desktop/Maytenus/Literature/output_data/species_data\\Q17247755.tsv\n",
      "Saved grouped data for Q code Q17247853 to C:/Users/quirosgu/Desktop/Maytenus/Literature/output_data/species_data\\Q17247853.tsv\n",
      "Saved grouped data for Q code Q17247990 to C:/Users/quirosgu/Desktop/Maytenus/Literature/output_data/species_data\\Q17247990.tsv\n",
      "Saved grouped data for Q code Q17248029 to C:/Users/quirosgu/Desktop/Maytenus/Literature/output_data/species_data\\Q17248029.tsv\n",
      "Saved grouped data for Q code Q17248170 to C:/Users/quirosgu/Desktop/Maytenus/Literature/output_data/species_data\\Q17248170.tsv\n",
      "Saved grouped data for Q code Q17248312 to C:/Users/quirosgu/Desktop/Maytenus/Literature/output_data/species_data\\Q17248312.tsv\n",
      "Saved grouped data for Q code Q17248369 to C:/Users/quirosgu/Desktop/Maytenus/Literature/output_data/species_data\\Q17248369.tsv\n",
      "Saved grouped data for Q code Q17248460 to C:/Users/quirosgu/Desktop/Maytenus/Literature/output_data/species_data\\Q17248460.tsv\n",
      "Saved grouped data for Q code Q17248490 to C:/Users/quirosgu/Desktop/Maytenus/Literature/output_data/species_data\\Q17248490.tsv\n",
      "Saved grouped data for Q code Q17248552 to C:/Users/quirosgu/Desktop/Maytenus/Literature/output_data/species_data\\Q17248552.tsv\n",
      "Saved grouped data for Q code Q17248643 to C:/Users/quirosgu/Desktop/Maytenus/Literature/output_data/species_data\\Q17248643.tsv\n",
      "Saved grouped data for Q code Q17248740 to C:/Users/quirosgu/Desktop/Maytenus/Literature/output_data/species_data\\Q17248740.tsv\n",
      "Saved grouped data for Q code Q17248747 to C:/Users/quirosgu/Desktop/Maytenus/Literature/output_data/species_data\\Q17248747.tsv\n",
      "Saved grouped data for Q code Q17248800 to C:/Users/quirosgu/Desktop/Maytenus/Literature/output_data/species_data\\Q17248800.tsv\n",
      "Saved grouped data for Q code Q17248818 to C:/Users/quirosgu/Desktop/Maytenus/Literature/output_data/species_data\\Q17248818.tsv\n",
      "Saved grouped data for Q code Q17248853 to C:/Users/quirosgu/Desktop/Maytenus/Literature/output_data/species_data\\Q17248853.tsv\n",
      "Saved grouped data for Q code Q17249016 to C:/Users/quirosgu/Desktop/Maytenus/Literature/output_data/species_data\\Q17249016.tsv\n",
      "Saved grouped data for Q code Q17249049 to C:/Users/quirosgu/Desktop/Maytenus/Literature/output_data/species_data\\Q17249049.tsv\n",
      "Saved grouped data for Q code Q17249121 to C:/Users/quirosgu/Desktop/Maytenus/Literature/output_data/species_data\\Q17249121.tsv\n",
      "Saved grouped data for Q code Q17249196 to C:/Users/quirosgu/Desktop/Maytenus/Literature/output_data/species_data\\Q17249196.tsv\n",
      "Saved grouped data for Q code Q17249525 to C:/Users/quirosgu/Desktop/Maytenus/Literature/output_data/species_data\\Q17249525.tsv\n",
      "Saved grouped data for Q code Q17249593 to C:/Users/quirosgu/Desktop/Maytenus/Literature/output_data/species_data\\Q17249593.tsv\n",
      "Saved grouped data for Q code Q17249620 to C:/Users/quirosgu/Desktop/Maytenus/Literature/output_data/species_data\\Q17249620.tsv\n",
      "Saved grouped data for Q code Q17249703 to C:/Users/quirosgu/Desktop/Maytenus/Literature/output_data/species_data\\Q17249703.tsv\n",
      "Saved grouped data for Q code Q17249782 to C:/Users/quirosgu/Desktop/Maytenus/Literature/output_data/species_data\\Q17249782.tsv\n",
      "Saved grouped data for Q code Q17249811 to C:/Users/quirosgu/Desktop/Maytenus/Literature/output_data/species_data\\Q17249811.tsv\n",
      "Saved grouped data for Q code Q17249848 to C:/Users/quirosgu/Desktop/Maytenus/Literature/output_data/species_data\\Q17249848.tsv\n",
      "Saved grouped data for Q code Q17249915 to C:/Users/quirosgu/Desktop/Maytenus/Literature/output_data/species_data\\Q17249915.tsv\n",
      "Saved grouped data for Q code Q17250049 to C:/Users/quirosgu/Desktop/Maytenus/Literature/output_data/species_data\\Q17250049.tsv\n",
      "Saved grouped data for Q code Q17250123 to C:/Users/quirosgu/Desktop/Maytenus/Literature/output_data/species_data\\Q17250123.tsv\n",
      "Saved grouped data for Q code Q17250144 to C:/Users/quirosgu/Desktop/Maytenus/Literature/output_data/species_data\\Q17250144.tsv\n",
      "Saved grouped data for Q code Q17250357 to C:/Users/quirosgu/Desktop/Maytenus/Literature/output_data/species_data\\Q17250357.tsv\n",
      "Saved grouped data for Q code Q17250491 to C:/Users/quirosgu/Desktop/Maytenus/Literature/output_data/species_data\\Q17250491.tsv\n",
      "Saved grouped data for Q code Q17250535 to C:/Users/quirosgu/Desktop/Maytenus/Literature/output_data/species_data\\Q17250535.tsv\n",
      "Saved grouped data for Q code Q111008737 to C:/Users/quirosgu/Desktop/Maytenus/Literature/output_data/species_data\\Q111008737.tsv\n",
      "Saved grouped data for Q code Q111008738 to C:/Users/quirosgu/Desktop/Maytenus/Literature/output_data/species_data\\Q111008738.tsv\n",
      "Saved grouped data for Q code Q111008739 to C:/Users/quirosgu/Desktop/Maytenus/Literature/output_data/species_data\\Q111008739.tsv\n",
      "Saved grouped data for Q code Q111008740 to C:/Users/quirosgu/Desktop/Maytenus/Literature/output_data/species_data\\Q111008740.tsv\n",
      "Saved grouped data for Q code Q111008741 to C:/Users/quirosgu/Desktop/Maytenus/Literature/output_data/species_data\\Q111008741.tsv\n",
      "Saved grouped data for Q code Q111008742 to C:/Users/quirosgu/Desktop/Maytenus/Literature/output_data/species_data\\Q111008742.tsv\n",
      "Saved grouped data for Q code Q111008744 to C:/Users/quirosgu/Desktop/Maytenus/Literature/output_data/species_data\\Q111008744.tsv\n",
      "Saved grouped data for Q code Q111008746 to C:/Users/quirosgu/Desktop/Maytenus/Literature/output_data/species_data\\Q111008746.tsv\n",
      "Saved grouped data for Q code Q111008747 to C:/Users/quirosgu/Desktop/Maytenus/Literature/output_data/species_data\\Q111008747.tsv\n",
      "Saved grouped data for Q code Q111008751 to C:/Users/quirosgu/Desktop/Maytenus/Literature/output_data/species_data\\Q111008751.tsv\n",
      "Saved grouped data for Q code Q111008754 to C:/Users/quirosgu/Desktop/Maytenus/Literature/output_data/species_data\\Q111008754.tsv\n",
      "Saved grouped data for Q code Q111008756 to C:/Users/quirosgu/Desktop/Maytenus/Literature/output_data/species_data\\Q111008756.tsv\n",
      "Saved grouped data for Q code Q111008757 to C:/Users/quirosgu/Desktop/Maytenus/Literature/output_data/species_data\\Q111008757.tsv\n",
      "Saved grouped data for Q code Q111008759 to C:/Users/quirosgu/Desktop/Maytenus/Literature/output_data/species_data\\Q111008759.tsv\n",
      "Saved grouped data for Q code Q111008760 to C:/Users/quirosgu/Desktop/Maytenus/Literature/output_data/species_data\\Q111008760.tsv\n",
      "Saved grouped data for Q code Q111008761 to C:/Users/quirosgu/Desktop/Maytenus/Literature/output_data/species_data\\Q111008761.tsv\n",
      "Saved grouped data for Q code Q111008763 to C:/Users/quirosgu/Desktop/Maytenus/Literature/output_data/species_data\\Q111008763.tsv\n",
      "Saved grouped data for Q code Q111008764 to C:/Users/quirosgu/Desktop/Maytenus/Literature/output_data/species_data\\Q111008764.tsv\n",
      "Saved grouped data for Q code Q111008766 to C:/Users/quirosgu/Desktop/Maytenus/Literature/output_data/species_data\\Q111008766.tsv\n",
      "Saved grouped data for Q code Q111008770 to C:/Users/quirosgu/Desktop/Maytenus/Literature/output_data/species_data\\Q111008770.tsv\n",
      "Saved grouped data for Q code Q111008782 to C:/Users/quirosgu/Desktop/Maytenus/Literature/output_data/species_data\\Q111008782.tsv\n",
      "Saved grouped data for Q code Q111008784 to C:/Users/quirosgu/Desktop/Maytenus/Literature/output_data/species_data\\Q111008784.tsv\n",
      "Saved grouped data for Q code Q111008789 to C:/Users/quirosgu/Desktop/Maytenus/Literature/output_data/species_data\\Q111008789.tsv\n",
      "Saved grouped data for Q code Q111008790 to C:/Users/quirosgu/Desktop/Maytenus/Literature/output_data/species_data\\Q111008790.tsv\n",
      "Saved grouped data for Q code Q111008791 to C:/Users/quirosgu/Desktop/Maytenus/Literature/output_data/species_data\\Q111008791.tsv\n",
      "Saved grouped data for Q code Q111008807 to C:/Users/quirosgu/Desktop/Maytenus/Literature/output_data/species_data\\Q111008807.tsv\n",
      "Saved grouped data for Q code Q111008813 to C:/Users/quirosgu/Desktop/Maytenus/Literature/output_data/species_data\\Q111008813.tsv\n",
      "Saved grouped data for Q code Q111008814 to C:/Users/quirosgu/Desktop/Maytenus/Literature/output_data/species_data\\Q111008814.tsv\n",
      "Saved grouped data for Q code Q111008815 to C:/Users/quirosgu/Desktop/Maytenus/Literature/output_data/species_data\\Q111008815.tsv\n",
      "Saved grouped data for Q code Q111008816 to C:/Users/quirosgu/Desktop/Maytenus/Literature/output_data/species_data\\Q111008816.tsv\n",
      "Saved grouped data for Q code Q111008818 to C:/Users/quirosgu/Desktop/Maytenus/Literature/output_data/species_data\\Q111008818.tsv\n",
      "Saved grouped data for Q code Q111008819 to C:/Users/quirosgu/Desktop/Maytenus/Literature/output_data/species_data\\Q111008819.tsv\n",
      "Saved grouped data for Q code Q111008820 to C:/Users/quirosgu/Desktop/Maytenus/Literature/output_data/species_data\\Q111008820.tsv\n",
      "Saved grouped data for Q code Q111008821 to C:/Users/quirosgu/Desktop/Maytenus/Literature/output_data/species_data\\Q111008821.tsv\n",
      "Saved grouped data for Q code Q111008823 to C:/Users/quirosgu/Desktop/Maytenus/Literature/output_data/species_data\\Q111008823.tsv\n",
      "Saved grouped data for Q code Q111008824 to C:/Users/quirosgu/Desktop/Maytenus/Literature/output_data/species_data\\Q111008824.tsv\n",
      "Saved grouped data for Q code Q111008826 to C:/Users/quirosgu/Desktop/Maytenus/Literature/output_data/species_data\\Q111008826.tsv\n",
      "Saved grouped data for Q code Q111008827 to C:/Users/quirosgu/Desktop/Maytenus/Literature/output_data/species_data\\Q111008827.tsv\n",
      "Saved grouped data for Q code Q111008828 to C:/Users/quirosgu/Desktop/Maytenus/Literature/output_data/species_data\\Q111008828.tsv\n",
      "Saved grouped data for Q code Q111009129 to C:/Users/quirosgu/Desktop/Maytenus/Literature/output_data/species_data\\Q111009129.tsv\n",
      "Saved grouped data for Q code Q111009131 to C:/Users/quirosgu/Desktop/Maytenus/Literature/output_data/species_data\\Q111009131.tsv\n",
      "Saved grouped data for Q code Q111009134 to C:/Users/quirosgu/Desktop/Maytenus/Literature/output_data/species_data\\Q111009134.tsv\n",
      "Saved grouped data for Q code Q111009136 to C:/Users/quirosgu/Desktop/Maytenus/Literature/output_data/species_data\\Q111009136.tsv\n",
      "Saved grouped data for Q code Q111009138 to C:/Users/quirosgu/Desktop/Maytenus/Literature/output_data/species_data\\Q111009138.tsv\n",
      "Saved grouped data for Q code Q111009140 to C:/Users/quirosgu/Desktop/Maytenus/Literature/output_data/species_data\\Q111009140.tsv\n",
      "Saved grouped data for Q code Q111009142 to C:/Users/quirosgu/Desktop/Maytenus/Literature/output_data/species_data\\Q111009142.tsv\n",
      "Saved grouped data for Q code Q111009143 to C:/Users/quirosgu/Desktop/Maytenus/Literature/output_data/species_data\\Q111009143.tsv\n",
      "Saved grouped data for Q code Q111009144 to C:/Users/quirosgu/Desktop/Maytenus/Literature/output_data/species_data\\Q111009144.tsv\n",
      "Saved grouped data for Q code Q111009972 to C:/Users/quirosgu/Desktop/Maytenus/Literature/output_data/species_data\\Q111009972.tsv\n",
      "Saved grouped data for Q code Q111009978 to C:/Users/quirosgu/Desktop/Maytenus/Literature/output_data/species_data\\Q111009978.tsv\n",
      "Saved grouped data for Q code Q111009981 to C:/Users/quirosgu/Desktop/Maytenus/Literature/output_data/species_data\\Q111009981.tsv\n",
      "Saved grouped data for Q code Q111010031 to C:/Users/quirosgu/Desktop/Maytenus/Literature/output_data/species_data\\Q111010031.tsv\n",
      "Saved grouped data for Q code Q111010059 to C:/Users/quirosgu/Desktop/Maytenus/Literature/output_data/species_data\\Q111010059.tsv\n",
      "Saved grouped data for Q code Q111010109 to C:/Users/quirosgu/Desktop/Maytenus/Literature/output_data/species_data\\Q111010109.tsv\n",
      "Saved grouped data for Q code Q111010137 to C:/Users/quirosgu/Desktop/Maytenus/Literature/output_data/species_data\\Q111010137.tsv\n",
      "Saved grouped data for Q code Q111010145 to C:/Users/quirosgu/Desktop/Maytenus/Literature/output_data/species_data\\Q111010145.tsv\n",
      "Saved grouped data for Q code Q111010148 to C:/Users/quirosgu/Desktop/Maytenus/Literature/output_data/species_data\\Q111010148.tsv\n",
      "Saved grouped data for Q code Q111010158 to C:/Users/quirosgu/Desktop/Maytenus/Literature/output_data/species_data\\Q111010158.tsv\n",
      "Saved grouped data for Q code Q111010159 to C:/Users/quirosgu/Desktop/Maytenus/Literature/output_data/species_data\\Q111010159.tsv\n",
      "Saved grouped data for Q code Q111010160 to C:/Users/quirosgu/Desktop/Maytenus/Literature/output_data/species_data\\Q111010160.tsv\n",
      "Saved grouped data for Q code Q111010163 to C:/Users/quirosgu/Desktop/Maytenus/Literature/output_data/species_data\\Q111010163.tsv\n",
      "Saved grouped data for Q code Q111010165 to C:/Users/quirosgu/Desktop/Maytenus/Literature/output_data/species_data\\Q111010165.tsv\n",
      "Saved grouped data for Q code Q111010167 to C:/Users/quirosgu/Desktop/Maytenus/Literature/output_data/species_data\\Q111010167.tsv\n",
      "Saved grouped data for Q code Q111010179 to C:/Users/quirosgu/Desktop/Maytenus/Literature/output_data/species_data\\Q111010179.tsv\n",
      "Saved grouped data for Q code Q117054239 to C:/Users/quirosgu/Desktop/Maytenus/Literature/output_data/species_data\\Q117054239.tsv\n"
     ]
    }
   ],
   "source": [
    "# Load the LOTUSDB CSV\n",
    "lotusdb_df = pd.read_csv(LOTUSDB, low_memory=False)\n",
    "\n",
    "# Iterate through all CSV files in the input folder\n",
    "for filename in os.listdir(input_folder):\n",
    "    if filename.endswith('.csv'):\n",
    "        input_file = os.path.join(input_folder, filename)\n",
    "\n",
    "        # Load the CSV file with Q codes\n",
    "        df_species = pd.read_csv(input_file)\n",
    "\n",
    "        # Iterate through the Q codes in the species CSV\n",
    "        for q_code in df_species['wikidata_Qcode_species']:  # Ensure this column name matches your species CSV\n",
    "            # Skip processing if Q code is 'Not Found'\n",
    "            if q_code == 'Not Found':\n",
    "                continue\n",
    "\n",
    "            # Filter LOTUSDB data for the current Q code\n",
    "            filtered_lotusdb = lotusdb_df[lotusdb_df['wikidata_Qcode'] == q_code]  # Ensure this column name matches your LOTUSDB CSV\n",
    "\n",
    "            # Group and aggregate the data\n",
    "            grouped_df = filtered_lotusdb.groupby(\"structure_inchikey\").agg({\n",
    "                # Add all the aggregation rules here\n",
    "                # Example:\n",
    "                \"structure_wikidata\": \"first\",\n",
    "                \"structure_inchi\": \"first\",\n",
    "                \"structure_smiles\": \"first\",\n",
    "                \"structure_molecular_formula\": \"first\",\n",
    "                \"structure_exact_mass\": \"first\",\n",
    "                \"structure_xlogp\": \"first\",\n",
    "                \"structure_smiles_2D\": \"first\",\n",
    "                \"structure_cid\": \"first\",\n",
    "                \"structure_nameIupac\": \"first\",\n",
    "                \"structure_nameTraditional\": \"first\",\n",
    "                \"structure_taxonomy_npclassifier_01pathway\": \"first\",\n",
    "                \"structure_taxonomy_npclassifier_02superclass\": \"first\",\n",
    "                \"structure_taxonomy_npclassifier_03class\": \"first\",\n",
    "                \"organism_wikidata\": \"first\",\n",
    "                \"organism_taxonomy_gbifid\": \"first\",\n",
    "                \"organism_taxonomy_ncbiid\": \"first\",\n",
    "                \"organism_taxonomy_ottid\": \"first\",\n",
    "                \"organism_taxonomy_01domain\": \"first\",\n",
    "                \"organism_taxonomy_02kingdom\": \"first\",\n",
    "                \"organism_taxonomy_03phylum\": \"first\",\n",
    "                \"organism_taxonomy_04class\": \"first\",\n",
    "                \"organism_taxonomy_05order\": \"first\",\n",
    "                \"organism_taxonomy_06family\": \"first\",\n",
    "                \"organism_taxonomy_07tribe\": \"first\",\n",
    "                \"organism_taxonomy_08genus\": \"first\",\n",
    "                \"organism_taxonomy_09species\": \"first\",\n",
    "                \"organism_taxonomy_10varietas\": \"first\",\n",
    "                \"reference_wikidata\": lambda x: \"|\".join(map(str, x)),\n",
    "                \"reference_doi\": lambda x: \"|\".join(map(str, x))\n",
    "            }).reset_index()\n",
    "            \n",
    "            # Create 'chemical_superclass' and 'chemical_class' columns\n",
    "            grouped_df['chemical_superclass'] = grouped_df['structure_taxonomy_npclassifier_01pathway'] + '-' + grouped_df['structure_taxonomy_npclassifier_02superclass']\n",
    "            grouped_df['chemical_class'] = grouped_df['structure_taxonomy_npclassifier_01pathway'] + '-' + grouped_df['structure_taxonomy_npclassifier_03class']\n",
    "            \n",
    "            # Save the grouped data as a TSV file with the Q code as the filename\n",
    "            output_subfolder = os.path.join(output_folder, 'species_data')\n",
    "            #if not os.path.exists(output_subfolder):\n",
    "            os.makedirs(output_subfolder, exist_ok=True)\n",
    "\n",
    "            output_filename = os.path.join(output_subfolder, f\"{q_code}.tsv\")\n",
    "            grouped_df.to_csv(output_filename, index=False, sep='\\t')\n",
    "\n",
    "            print(f\"Saved grouped data for Q code {q_code} to {output_filename}\")\n"
   ]
  },
  {
   "cell_type": "code",
   "execution_count": 2,
   "metadata": {},
   "outputs": [
    {
     "name": "stdout",
     "output_type": "stream",
     "text": [
      "Combined and unique DataFrame saved successfully.\n"
     ]
    },
    {
     "name": "stderr",
     "output_type": "stream",
     "text": [
      "C:\\Users\\quirosgu\\AppData\\Local\\Temp\\ipykernel_27660\\3946952289.py:21: FutureWarning: The behavior of DataFrame concatenation with empty or all-NA entries is deprecated. In a future version, this will no longer exclude empty or all-NA columns when determining the result dtypes. To retain the old behavior, exclude the relevant entries before the concat operation.\n",
      "  combined_df = pd.concat(dfs, ignore_index=True)\n"
     ]
    }
   ],
   "source": [
    "#Create a unique file containining unique inchi \n",
    "import os\n",
    "import pandas as pd\n",
    "\n",
    "# Define the directory containing the .tsv files\n",
    "directory_path = 'C:/Users/quirosgu/Desktop/Maytenus/Literature/output_data/species_data/'  # Adjust this path to your directory containing the .tsv files\n",
    "\n",
    "# List all .tsv files in the directory\n",
    "tsv_files = [f for f in os.listdir(directory_path) if f.endswith('.tsv')]\n",
    "\n",
    "# Initialize an empty list to store DataFrames\n",
    "dfs = []\n",
    "\n",
    "# Loop through the list of files and read each one into a DataFrame\n",
    "for file in tsv_files:\n",
    "    file_path = os.path.join(directory_path, file)\n",
    "    df = pd.read_csv(file_path, sep='\\t')\n",
    "    dfs.append(df)\n",
    "\n",
    "# Concatenate all DataFrames into one\n",
    "combined_df = pd.concat(dfs, ignore_index=True)\n",
    "\n",
    "# Drop duplicate values based on the 'structure_inchi' column\n",
    "unique_df = combined_df.drop_duplicates(subset='structure_inchi')\n",
    "\n",
    "# Define the output path and save the combined DataFrame to a TSV file\n",
    "output_path = os.path.join(directory_path, 'Compounds_reported_in_genus.tsv')\n",
    "unique_df.to_csv(output_path, sep='\\t', index=False)\n",
    "\n",
    "print(\"Combined and unique DataFrame saved successfully.\")\n"
   ]
  },
  {
   "cell_type": "markdown",
   "metadata": {},
   "source": [
    "RECOVER THE FRECUENCE BY CHEMICAL CLASS AND ADDED TO THE GENERAL TABLE"
   ]
  },
  {
   "cell_type": "code",
   "execution_count": 7,
   "metadata": {},
   "outputs": [
    {
     "ename": "KeyError",
     "evalue": "\"['wikidata_Qcode'] not in index\"",
     "output_type": "error",
     "traceback": [
      "\u001b[1;31m---------------------------------------------------------------------------\u001b[0m",
      "\u001b[1;31mKeyError\u001b[0m                                  Traceback (most recent call last)",
      "Cell \u001b[1;32mIn[7], line 64\u001b[0m\n\u001b[0;32m     61\u001b[0m \u001b[38;5;66;03m#add reported compounds to each Q code\u001b[39;00m\n\u001b[0;32m     62\u001b[0m LotusDB_rc \u001b[38;5;241m=\u001b[39m pd\u001b[38;5;241m.\u001b[39mread_csv(LOTUSDB_rc)\n\u001b[1;32m---> 64\u001b[0m spDB \u001b[38;5;241m=\u001b[39m \u001b[43mLotusDB_rc\u001b[49m\u001b[43m[\u001b[49m\u001b[43m[\u001b[49m\u001b[38;5;124;43m'\u001b[39;49m\u001b[38;5;124;43mwikidata_Qcode\u001b[39;49m\u001b[38;5;124;43m'\u001b[39;49m\u001b[43m,\u001b[49m\u001b[43m \u001b[49m\u001b[38;5;124;43m'\u001b[39;49m\u001b[38;5;124;43mReported_comp_Species\u001b[39;49m\u001b[38;5;124;43m'\u001b[39;49m\u001b[43m]\u001b[49m\u001b[43m]\u001b[49m\u001b[38;5;241m.\u001b[39mdrop_duplicates()\n\u001b[0;32m     65\u001b[0m gDB \u001b[38;5;241m=\u001b[39m LotusDB_rc[[\u001b[38;5;124m'\u001b[39m\u001b[38;5;124morganism_taxonomy_08genus\u001b[39m\u001b[38;5;124m'\u001b[39m, \u001b[38;5;124m'\u001b[39m\u001b[38;5;124mReported_comp_Genus\u001b[39m\u001b[38;5;124m'\u001b[39m]]\u001b[38;5;241m.\u001b[39mdrop_duplicates()\n\u001b[0;32m     66\u001b[0m fDB \u001b[38;5;241m=\u001b[39m LotusDB_rc[[\u001b[38;5;124m'\u001b[39m\u001b[38;5;124morganism_taxonomy_06family\u001b[39m\u001b[38;5;124m'\u001b[39m, \u001b[38;5;124m'\u001b[39m\u001b[38;5;124mReported_comp_Family\u001b[39m\u001b[38;5;124m'\u001b[39m]]\u001b[38;5;241m.\u001b[39mdrop_duplicates()\n",
      "File \u001b[1;32mc:\\Users\\quirosgu\\.conda\\envs\\inventa\\Lib\\site-packages\\pandas\\core\\frame.py:4108\u001b[0m, in \u001b[0;36mDataFrame.__getitem__\u001b[1;34m(self, key)\u001b[0m\n\u001b[0;32m   4106\u001b[0m     \u001b[38;5;28;01mif\u001b[39;00m is_iterator(key):\n\u001b[0;32m   4107\u001b[0m         key \u001b[38;5;241m=\u001b[39m \u001b[38;5;28mlist\u001b[39m(key)\n\u001b[1;32m-> 4108\u001b[0m     indexer \u001b[38;5;241m=\u001b[39m \u001b[38;5;28;43mself\u001b[39;49m\u001b[38;5;241;43m.\u001b[39;49m\u001b[43mcolumns\u001b[49m\u001b[38;5;241;43m.\u001b[39;49m\u001b[43m_get_indexer_strict\u001b[49m\u001b[43m(\u001b[49m\u001b[43mkey\u001b[49m\u001b[43m,\u001b[49m\u001b[43m \u001b[49m\u001b[38;5;124;43m\"\u001b[39;49m\u001b[38;5;124;43mcolumns\u001b[39;49m\u001b[38;5;124;43m\"\u001b[39;49m\u001b[43m)\u001b[49m[\u001b[38;5;241m1\u001b[39m]\n\u001b[0;32m   4110\u001b[0m \u001b[38;5;66;03m# take() does not accept boolean indexers\u001b[39;00m\n\u001b[0;32m   4111\u001b[0m \u001b[38;5;28;01mif\u001b[39;00m \u001b[38;5;28mgetattr\u001b[39m(indexer, \u001b[38;5;124m\"\u001b[39m\u001b[38;5;124mdtype\u001b[39m\u001b[38;5;124m\"\u001b[39m, \u001b[38;5;28;01mNone\u001b[39;00m) \u001b[38;5;241m==\u001b[39m \u001b[38;5;28mbool\u001b[39m:\n",
      "File \u001b[1;32mc:\\Users\\quirosgu\\.conda\\envs\\inventa\\Lib\\site-packages\\pandas\\core\\indexes\\base.py:6200\u001b[0m, in \u001b[0;36mIndex._get_indexer_strict\u001b[1;34m(self, key, axis_name)\u001b[0m\n\u001b[0;32m   6197\u001b[0m \u001b[38;5;28;01melse\u001b[39;00m:\n\u001b[0;32m   6198\u001b[0m     keyarr, indexer, new_indexer \u001b[38;5;241m=\u001b[39m \u001b[38;5;28mself\u001b[39m\u001b[38;5;241m.\u001b[39m_reindex_non_unique(keyarr)\n\u001b[1;32m-> 6200\u001b[0m \u001b[38;5;28;43mself\u001b[39;49m\u001b[38;5;241;43m.\u001b[39;49m\u001b[43m_raise_if_missing\u001b[49m\u001b[43m(\u001b[49m\u001b[43mkeyarr\u001b[49m\u001b[43m,\u001b[49m\u001b[43m \u001b[49m\u001b[43mindexer\u001b[49m\u001b[43m,\u001b[49m\u001b[43m \u001b[49m\u001b[43maxis_name\u001b[49m\u001b[43m)\u001b[49m\n\u001b[0;32m   6202\u001b[0m keyarr \u001b[38;5;241m=\u001b[39m \u001b[38;5;28mself\u001b[39m\u001b[38;5;241m.\u001b[39mtake(indexer)\n\u001b[0;32m   6203\u001b[0m \u001b[38;5;28;01mif\u001b[39;00m \u001b[38;5;28misinstance\u001b[39m(key, Index):\n\u001b[0;32m   6204\u001b[0m     \u001b[38;5;66;03m# GH 42790 - Preserve name from an Index\u001b[39;00m\n",
      "File \u001b[1;32mc:\\Users\\quirosgu\\.conda\\envs\\inventa\\Lib\\site-packages\\pandas\\core\\indexes\\base.py:6252\u001b[0m, in \u001b[0;36mIndex._raise_if_missing\u001b[1;34m(self, key, indexer, axis_name)\u001b[0m\n\u001b[0;32m   6249\u001b[0m     \u001b[38;5;28;01mraise\u001b[39;00m \u001b[38;5;167;01mKeyError\u001b[39;00m(\u001b[38;5;124mf\u001b[39m\u001b[38;5;124m\"\u001b[39m\u001b[38;5;124mNone of [\u001b[39m\u001b[38;5;132;01m{\u001b[39;00mkey\u001b[38;5;132;01m}\u001b[39;00m\u001b[38;5;124m] are in the [\u001b[39m\u001b[38;5;132;01m{\u001b[39;00maxis_name\u001b[38;5;132;01m}\u001b[39;00m\u001b[38;5;124m]\u001b[39m\u001b[38;5;124m\"\u001b[39m)\n\u001b[0;32m   6251\u001b[0m not_found \u001b[38;5;241m=\u001b[39m \u001b[38;5;28mlist\u001b[39m(ensure_index(key)[missing_mask\u001b[38;5;241m.\u001b[39mnonzero()[\u001b[38;5;241m0\u001b[39m]]\u001b[38;5;241m.\u001b[39munique())\n\u001b[1;32m-> 6252\u001b[0m \u001b[38;5;28;01mraise\u001b[39;00m \u001b[38;5;167;01mKeyError\u001b[39;00m(\u001b[38;5;124mf\u001b[39m\u001b[38;5;124m\"\u001b[39m\u001b[38;5;132;01m{\u001b[39;00mnot_found\u001b[38;5;132;01m}\u001b[39;00m\u001b[38;5;124m not in index\u001b[39m\u001b[38;5;124m\"\u001b[39m)\n",
      "\u001b[1;31mKeyError\u001b[0m: \"['wikidata_Qcode'] not in index\""
     ]
    }
   ],
   "source": [
    "# Step 1: Initialize variables to store data\n",
    "total_compounds = {}\n",
    "chemical_classes = {}\n",
    "chemical_superclasses = {}\n",
    "references = {}\n",
    "hyperlinks = {}\n",
    "\n",
    "# Step 2: Iterate through .tsv files in the folder\n",
    "\n",
    "species_data_folder = os.path.join(output_folder, 'species_data')\n",
    "for filename in os.listdir(species_data_folder):\n",
    "    if filename.endswith(\".tsv\"):\n",
    "        qcode = filename.split(\".\")[0]  # Extract Qcode from the filename\n",
    "\n",
    "        # Load the .tsv file into a DataFrame\n",
    "        df_compounds = pd.read_csv(os.path.join(species_data_folder, filename), sep='\\t')\n",
    "\n",
    "        # Step 3: Calculate frequencies of chemical classes for each Qcode (excluding 'not classified')\n",
    "        filtered_classes = df_compounds[df_compounds['structure_taxonomy_npclassifier_03class'] != 'Not Classified']\n",
    "        grouped = filtered_classes['structure_taxonomy_npclassifier_03class'].value_counts().reset_index()\n",
    "        frequencies = grouped.apply(lambda row: f\"{row.name} {row['structure_taxonomy_npclassifier_03class']}\", axis=1)\n",
    "        chemical_classes[qcode] = \"|\".join(frequencies)\n",
    "\n",
    "        # Step 4: Calculate frequencies of chemical superclasses for each Qcode (excluding 'not classified')\n",
    "        filtered_sclasses = df_compounds[df_compounds['structure_taxonomy_npclassifier_02superclass'] != 'Not Classified']\n",
    "        sgrouped = filtered_sclasses['structure_taxonomy_npclassifier_02superclass'].value_counts().reset_index()\n",
    "        frequencies = sgrouped.apply(lambda row: f\"{row.name} {row['structure_taxonomy_npclassifier_02superclass']}\", axis=1)\n",
    "        chemical_superclasses[qcode] = \"|\".join(frequencies)\n",
    "        chemical_classes[qcode] = \"|\".join(frequencies)\n",
    "        \n",
    "        # Step 5: Combine references and hyperlinks\n",
    "        #references[qcode] = \"|\".join(df_compounds['reference_wikidata'].dropna())\n",
    "        #hyperlinks[qcode] = \"|\".join(df_compounds['reference_doi'].dropna())\n",
    "\n",
    "        # Step 6: Calculate the total number of reported compounds\n",
    "        #total_compounds[qcode] = len(df_compounds)\n",
    "\n",
    "# Step 7: Load the general info .csv into a DataFrame\n",
    "csv_file = None\n",
    "for filename in os.listdir(input_folder):\n",
    "    if filename.endswith(\".csv\"):\n",
    "        csv_file = os.path.join(input_folder, filename)\n",
    "        break  # Stop searching after finding the first CSV file\n",
    "\n",
    "if csv_file is not None:\n",
    "    # Load the CSV file into the df_general_info DataFrame\n",
    "    df_general_info = pd.read_csv(csv_file)\n",
    "\n",
    "# Step 7: Create new columns for combined information\n",
    "df_general_info['predicted_class'] = df_general_info['wikidata_Qcode_species'].map(chemical_classes)\n",
    "df_general_info['predicted_superclass'] = df_general_info['wikidata_Qcode_species'].map(chemical_superclasses)\n",
    "#df_general_info['references'] = df_general_info['wikidata_Qcode_species'].map(references)\n",
    "#df_general_info['referenceLabel'] = df_general_info['wikidata_Qcode_species'].map(hyperlinks)\n",
    "\n",
    "# Step 7: Save the updated DataFrame to the .csv file\n",
    "\n",
    "# Replace values matching the pattern with an empty cell\n",
    "df_general_info['predicted_class'] = df_general_info['predicted_class'].replace('index|predicted_class', '')\n",
    "df_general_info['predicted_superclass'] = df_general_info['predicted_superclass'].replace('index|predicted_superclass', '')\n",
    "\n",
    "#add reported compounds to each Q code\n",
    "LotusDB_rc = pd.read_csv(LOTUSDB_rc)\n",
    "\n",
    "spDB = LotusDB_rc[['wikidata_Qcode', 'Reported_comp_Species']].drop_duplicates()\n",
    "gDB = LotusDB_rc[['organism_taxonomy_08genus', 'Reported_comp_Genus']].drop_duplicates()\n",
    "fDB = LotusDB_rc[['organism_taxonomy_06family', 'Reported_comp_Family']].drop_duplicates()\n",
    "\n",
    "df = pd.merge(df_general_info, spDB,\n",
    "            how= 'left', left_on='wikidata_Qcode_species', right_on='wikidata_Qcode')#.drop_duplicates(subset=['CODE'])\n",
    "df.drop('wikidata_Qcode', axis=1, inplace=True)\n",
    "\n",
    "#df = pd.merge(df, gDB,\n",
    "#            how= 'left', left_on='genus', right_on='organism_taxonomy_08genus')#.drop_duplicates(subset=['full_species'])\n",
    "#df.drop('organism_taxonomy_08genus', axis=1, inplace=True)\n",
    "\n",
    "#df = pd.merge(df, fDB,\n",
    "#            how= 'left', left_on='family', right_on='organism_taxonomy_06family')#.drop_duplicates(subset=['full_species'])\n",
    "#df.drop('organism_taxonomy_06family', axis=1, inplace=True)\n",
    "\n",
    "output_csv_file = output_folder + 'Full_results.csv'\n",
    "df.to_csv(output_csv_file, index=False, sep =',')"
   ]
  },
  {
   "cell_type": "markdown",
   "metadata": {},
   "source": [
    "# BARPLOT CHEMICAL_SUPERCLASS - SPECIES "
   ]
  },
  {
   "cell_type": "code",
   "execution_count": 8,
   "metadata": {},
   "outputs": [],
   "source": [
    "import plotly.express as px\n",
    "\n",
    "def create_stacked_barplot(agg_data, unique_species, unique_superclasses, color_map, output_folder):\n",
    "    \"\"\"\n",
    "    Create a stacked barplot with custom color palette.\n",
    "\n",
    "    Parameters:\n",
    "    agg_data (DataFrame): Dataframe containing aggregated data.\n",
    "    unique_species (list): List of unique species.\n",
    "    unique_superclasses (list): List of unique superclasses.\n",
    "    color_map (dict): Custom color map for the barplot.\n",
    "    output_folder (str): Path to the output folder.\n",
    "\n",
    "    Returns:\n",
    "    None\n",
    "    \"\"\"\n",
    "    # Create the stacked barplot with the custom color palette\n",
    "    fig = px.bar(agg_data, y='species', x='recurrence',\n",
    "                 title='Stacked Barplot of Predicted Superclasses Occurrence for Species',\n",
    "                 labels={'recurrence': 'Recurrence'},\n",
    "                 color='chemical_superclass',\n",
    "                 color_discrete_map=color_map,\n",
    "                 category_orders={'species': unique_species, 'chemical_superclass': unique_superclasses},\n",
    "                 orientation='h')\n",
    "\n",
    "    # Modify the y-axis label\n",
    "    fig.update_yaxes(title_text='<i>Species</i>')\n",
    "\n",
    "    # Set species labels in italics\n",
    "    fig.update_layout(yaxis=dict(tickmode='array',\n",
    "                                  tickvals=list(range(len(unique_species))),\n",
    "                                  ticktext=[f'<i>{species}</i>' for species in unique_species]\n",
    "                                  ))\n",
    "\n",
    "    # Set a white background\n",
    "    fig.update_layout(plot_bgcolor='white')\n",
    "\n",
    "    # Modify the size of the figure\n",
    "    fig.update_layout(width=1500, height=1500)\n",
    "\n",
    "    # Save the figure as an HTML file\n",
    "    fig.write_html(f'{output_folder}Wikidata_superclass_barplot_species.html')\n",
    "\n",
    "    # Show the figure\n",
    "    fig.show()\n",
    "\n",
    "# Example usage:\n",
    "# create_stacked_barplot(agg_data, unique_species, unique_superclasses, color_map, output_folder)\n"
   ]
  },
  {
   "cell_type": "code",
   "execution_count": 9,
   "metadata": {},
   "outputs": [
    {
     "ename": "FileNotFoundError",
     "evalue": "[Errno 2] No such file or directory: 'C:/Users/quirosgu/Desktop/Maytenus/Literature/output_data/Q10327859.tsv'",
     "output_type": "error",
     "traceback": [
      "\u001b[1;31m---------------------------------------------------------------------------\u001b[0m",
      "\u001b[1;31mFileNotFoundError\u001b[0m                         Traceback (most recent call last)",
      "Cell \u001b[1;32mIn[9], line 2\u001b[0m\n\u001b[0;32m      1\u001b[0m \u001b[38;5;66;03m# Step 1: Read data from all .tsv files in the output_folder\u001b[39;00m\n\u001b[1;32m----> 2\u001b[0m all_data \u001b[38;5;241m=\u001b[39m pd\u001b[38;5;241m.\u001b[39mconcat(\u001b[43m[\u001b[49m\u001b[43mpd\u001b[49m\u001b[38;5;241;43m.\u001b[39;49m\u001b[43mread_csv\u001b[49m\u001b[43m(\u001b[49m\u001b[43mos\u001b[49m\u001b[38;5;241;43m.\u001b[39;49m\u001b[43mpath\u001b[49m\u001b[38;5;241;43m.\u001b[39;49m\u001b[43mjoin\u001b[49m\u001b[43m(\u001b[49m\u001b[43moutput_folder\u001b[49m\u001b[43m,\u001b[49m\u001b[43m \u001b[49m\u001b[43mfilename\u001b[49m\u001b[43m)\u001b[49m\u001b[43m,\u001b[49m\u001b[43m \u001b[49m\u001b[43msep\u001b[49m\u001b[38;5;241;43m=\u001b[39;49m\u001b[38;5;124;43m'\u001b[39;49m\u001b[38;5;130;43;01m\\t\u001b[39;49;00m\u001b[38;5;124;43m'\u001b[39;49m\u001b[43m)\u001b[49m\u001b[43m \u001b[49m\u001b[38;5;28;43;01mfor\u001b[39;49;00m\u001b[43m \u001b[49m\u001b[43mfilename\u001b[49m\u001b[43m \u001b[49m\u001b[38;5;129;43;01min\u001b[39;49;00m\u001b[43m \u001b[49m\u001b[43mos\u001b[49m\u001b[38;5;241;43m.\u001b[39;49m\u001b[43mlistdir\u001b[49m\u001b[43m(\u001b[49m\u001b[43mos\u001b[49m\u001b[38;5;241;43m.\u001b[39;49m\u001b[43mpath\u001b[49m\u001b[38;5;241;43m.\u001b[39;49m\u001b[43mjoin\u001b[49m\u001b[43m(\u001b[49m\u001b[43moutput_folder\u001b[49m\u001b[43m,\u001b[49m\u001b[43m \u001b[49m\u001b[38;5;124;43m'\u001b[39;49m\u001b[38;5;124;43mspecies_data\u001b[39;49m\u001b[38;5;124;43m'\u001b[39;49m\u001b[43m)\u001b[49m\u001b[43m)\u001b[49m\u001b[43m \u001b[49m\u001b[38;5;28;43;01mif\u001b[39;49;00m\u001b[43m \u001b[49m\u001b[43mfilename\u001b[49m\u001b[38;5;241;43m.\u001b[39;49m\u001b[43mendswith\u001b[49m\u001b[43m(\u001b[49m\u001b[38;5;124;43m\"\u001b[39;49m\u001b[38;5;124;43m.tsv\u001b[39;49m\u001b[38;5;124;43m\"\u001b[39;49m\u001b[43m)\u001b[49m\u001b[43m]\u001b[49m)\n\u001b[0;32m      4\u001b[0m \u001b[38;5;66;03m# Step 2: Rename the \"organism_taxonomy_09species\" column to \"species\"\u001b[39;00m\n\u001b[0;32m      5\u001b[0m all_data\u001b[38;5;241m.\u001b[39mrename(columns\u001b[38;5;241m=\u001b[39m{\u001b[38;5;124m'\u001b[39m\u001b[38;5;124morganism_taxonomy_09species\u001b[39m\u001b[38;5;124m'\u001b[39m: \u001b[38;5;124m'\u001b[39m\u001b[38;5;124mspecies\u001b[39m\u001b[38;5;124m'\u001b[39m}, inplace\u001b[38;5;241m=\u001b[39m\u001b[38;5;28;01mTrue\u001b[39;00m)\n",
      "Cell \u001b[1;32mIn[9], line 2\u001b[0m, in \u001b[0;36m<listcomp>\u001b[1;34m(.0)\u001b[0m\n\u001b[0;32m      1\u001b[0m \u001b[38;5;66;03m# Step 1: Read data from all .tsv files in the output_folder\u001b[39;00m\n\u001b[1;32m----> 2\u001b[0m all_data \u001b[38;5;241m=\u001b[39m pd\u001b[38;5;241m.\u001b[39mconcat([\u001b[43mpd\u001b[49m\u001b[38;5;241;43m.\u001b[39;49m\u001b[43mread_csv\u001b[49m\u001b[43m(\u001b[49m\u001b[43mos\u001b[49m\u001b[38;5;241;43m.\u001b[39;49m\u001b[43mpath\u001b[49m\u001b[38;5;241;43m.\u001b[39;49m\u001b[43mjoin\u001b[49m\u001b[43m(\u001b[49m\u001b[43moutput_folder\u001b[49m\u001b[43m,\u001b[49m\u001b[43m \u001b[49m\u001b[43mfilename\u001b[49m\u001b[43m)\u001b[49m\u001b[43m,\u001b[49m\u001b[43m \u001b[49m\u001b[43msep\u001b[49m\u001b[38;5;241;43m=\u001b[39;49m\u001b[38;5;124;43m'\u001b[39;49m\u001b[38;5;130;43;01m\\t\u001b[39;49;00m\u001b[38;5;124;43m'\u001b[39;49m\u001b[43m)\u001b[49m \u001b[38;5;28;01mfor\u001b[39;00m filename \u001b[38;5;129;01min\u001b[39;00m os\u001b[38;5;241m.\u001b[39mlistdir(os\u001b[38;5;241m.\u001b[39mpath\u001b[38;5;241m.\u001b[39mjoin(output_folder, \u001b[38;5;124m'\u001b[39m\u001b[38;5;124mspecies_data\u001b[39m\u001b[38;5;124m'\u001b[39m)) \u001b[38;5;28;01mif\u001b[39;00m filename\u001b[38;5;241m.\u001b[39mendswith(\u001b[38;5;124m\"\u001b[39m\u001b[38;5;124m.tsv\u001b[39m\u001b[38;5;124m\"\u001b[39m)])\n\u001b[0;32m      4\u001b[0m \u001b[38;5;66;03m# Step 2: Rename the \"organism_taxonomy_09species\" column to \"species\"\u001b[39;00m\n\u001b[0;32m      5\u001b[0m all_data\u001b[38;5;241m.\u001b[39mrename(columns\u001b[38;5;241m=\u001b[39m{\u001b[38;5;124m'\u001b[39m\u001b[38;5;124morganism_taxonomy_09species\u001b[39m\u001b[38;5;124m'\u001b[39m: \u001b[38;5;124m'\u001b[39m\u001b[38;5;124mspecies\u001b[39m\u001b[38;5;124m'\u001b[39m}, inplace\u001b[38;5;241m=\u001b[39m\u001b[38;5;28;01mTrue\u001b[39;00m)\n",
      "File \u001b[1;32mc:\\Users\\quirosgu\\.conda\\envs\\inventa\\Lib\\site-packages\\pandas\\io\\parsers\\readers.py:1026\u001b[0m, in \u001b[0;36mread_csv\u001b[1;34m(filepath_or_buffer, sep, delimiter, header, names, index_col, usecols, dtype, engine, converters, true_values, false_values, skipinitialspace, skiprows, skipfooter, nrows, na_values, keep_default_na, na_filter, verbose, skip_blank_lines, parse_dates, infer_datetime_format, keep_date_col, date_parser, date_format, dayfirst, cache_dates, iterator, chunksize, compression, thousands, decimal, lineterminator, quotechar, quoting, doublequote, escapechar, comment, encoding, encoding_errors, dialect, on_bad_lines, delim_whitespace, low_memory, memory_map, float_precision, storage_options, dtype_backend)\u001b[0m\n\u001b[0;32m   1013\u001b[0m kwds_defaults \u001b[38;5;241m=\u001b[39m _refine_defaults_read(\n\u001b[0;32m   1014\u001b[0m     dialect,\n\u001b[0;32m   1015\u001b[0m     delimiter,\n\u001b[1;32m   (...)\u001b[0m\n\u001b[0;32m   1022\u001b[0m     dtype_backend\u001b[38;5;241m=\u001b[39mdtype_backend,\n\u001b[0;32m   1023\u001b[0m )\n\u001b[0;32m   1024\u001b[0m kwds\u001b[38;5;241m.\u001b[39mupdate(kwds_defaults)\n\u001b[1;32m-> 1026\u001b[0m \u001b[38;5;28;01mreturn\u001b[39;00m \u001b[43m_read\u001b[49m\u001b[43m(\u001b[49m\u001b[43mfilepath_or_buffer\u001b[49m\u001b[43m,\u001b[49m\u001b[43m \u001b[49m\u001b[43mkwds\u001b[49m\u001b[43m)\u001b[49m\n",
      "File \u001b[1;32mc:\\Users\\quirosgu\\.conda\\envs\\inventa\\Lib\\site-packages\\pandas\\io\\parsers\\readers.py:620\u001b[0m, in \u001b[0;36m_read\u001b[1;34m(filepath_or_buffer, kwds)\u001b[0m\n\u001b[0;32m    617\u001b[0m _validate_names(kwds\u001b[38;5;241m.\u001b[39mget(\u001b[38;5;124m\"\u001b[39m\u001b[38;5;124mnames\u001b[39m\u001b[38;5;124m\"\u001b[39m, \u001b[38;5;28;01mNone\u001b[39;00m))\n\u001b[0;32m    619\u001b[0m \u001b[38;5;66;03m# Create the parser.\u001b[39;00m\n\u001b[1;32m--> 620\u001b[0m parser \u001b[38;5;241m=\u001b[39m \u001b[43mTextFileReader\u001b[49m\u001b[43m(\u001b[49m\u001b[43mfilepath_or_buffer\u001b[49m\u001b[43m,\u001b[49m\u001b[43m \u001b[49m\u001b[38;5;241;43m*\u001b[39;49m\u001b[38;5;241;43m*\u001b[39;49m\u001b[43mkwds\u001b[49m\u001b[43m)\u001b[49m\n\u001b[0;32m    622\u001b[0m \u001b[38;5;28;01mif\u001b[39;00m chunksize \u001b[38;5;129;01mor\u001b[39;00m iterator:\n\u001b[0;32m    623\u001b[0m     \u001b[38;5;28;01mreturn\u001b[39;00m parser\n",
      "File \u001b[1;32mc:\\Users\\quirosgu\\.conda\\envs\\inventa\\Lib\\site-packages\\pandas\\io\\parsers\\readers.py:1620\u001b[0m, in \u001b[0;36mTextFileReader.__init__\u001b[1;34m(self, f, engine, **kwds)\u001b[0m\n\u001b[0;32m   1617\u001b[0m     \u001b[38;5;28mself\u001b[39m\u001b[38;5;241m.\u001b[39moptions[\u001b[38;5;124m\"\u001b[39m\u001b[38;5;124mhas_index_names\u001b[39m\u001b[38;5;124m\"\u001b[39m] \u001b[38;5;241m=\u001b[39m kwds[\u001b[38;5;124m\"\u001b[39m\u001b[38;5;124mhas_index_names\u001b[39m\u001b[38;5;124m\"\u001b[39m]\n\u001b[0;32m   1619\u001b[0m \u001b[38;5;28mself\u001b[39m\u001b[38;5;241m.\u001b[39mhandles: IOHandles \u001b[38;5;241m|\u001b[39m \u001b[38;5;28;01mNone\u001b[39;00m \u001b[38;5;241m=\u001b[39m \u001b[38;5;28;01mNone\u001b[39;00m\n\u001b[1;32m-> 1620\u001b[0m \u001b[38;5;28mself\u001b[39m\u001b[38;5;241m.\u001b[39m_engine \u001b[38;5;241m=\u001b[39m \u001b[38;5;28;43mself\u001b[39;49m\u001b[38;5;241;43m.\u001b[39;49m\u001b[43m_make_engine\u001b[49m\u001b[43m(\u001b[49m\u001b[43mf\u001b[49m\u001b[43m,\u001b[49m\u001b[43m \u001b[49m\u001b[38;5;28;43mself\u001b[39;49m\u001b[38;5;241;43m.\u001b[39;49m\u001b[43mengine\u001b[49m\u001b[43m)\u001b[49m\n",
      "File \u001b[1;32mc:\\Users\\quirosgu\\.conda\\envs\\inventa\\Lib\\site-packages\\pandas\\io\\parsers\\readers.py:1880\u001b[0m, in \u001b[0;36mTextFileReader._make_engine\u001b[1;34m(self, f, engine)\u001b[0m\n\u001b[0;32m   1878\u001b[0m     \u001b[38;5;28;01mif\u001b[39;00m \u001b[38;5;124m\"\u001b[39m\u001b[38;5;124mb\u001b[39m\u001b[38;5;124m\"\u001b[39m \u001b[38;5;129;01mnot\u001b[39;00m \u001b[38;5;129;01min\u001b[39;00m mode:\n\u001b[0;32m   1879\u001b[0m         mode \u001b[38;5;241m+\u001b[39m\u001b[38;5;241m=\u001b[39m \u001b[38;5;124m\"\u001b[39m\u001b[38;5;124mb\u001b[39m\u001b[38;5;124m\"\u001b[39m\n\u001b[1;32m-> 1880\u001b[0m \u001b[38;5;28mself\u001b[39m\u001b[38;5;241m.\u001b[39mhandles \u001b[38;5;241m=\u001b[39m \u001b[43mget_handle\u001b[49m\u001b[43m(\u001b[49m\n\u001b[0;32m   1881\u001b[0m \u001b[43m    \u001b[49m\u001b[43mf\u001b[49m\u001b[43m,\u001b[49m\n\u001b[0;32m   1882\u001b[0m \u001b[43m    \u001b[49m\u001b[43mmode\u001b[49m\u001b[43m,\u001b[49m\n\u001b[0;32m   1883\u001b[0m \u001b[43m    \u001b[49m\u001b[43mencoding\u001b[49m\u001b[38;5;241;43m=\u001b[39;49m\u001b[38;5;28;43mself\u001b[39;49m\u001b[38;5;241;43m.\u001b[39;49m\u001b[43moptions\u001b[49m\u001b[38;5;241;43m.\u001b[39;49m\u001b[43mget\u001b[49m\u001b[43m(\u001b[49m\u001b[38;5;124;43m\"\u001b[39;49m\u001b[38;5;124;43mencoding\u001b[39;49m\u001b[38;5;124;43m\"\u001b[39;49m\u001b[43m,\u001b[49m\u001b[43m \u001b[49m\u001b[38;5;28;43;01mNone\u001b[39;49;00m\u001b[43m)\u001b[49m\u001b[43m,\u001b[49m\n\u001b[0;32m   1884\u001b[0m \u001b[43m    \u001b[49m\u001b[43mcompression\u001b[49m\u001b[38;5;241;43m=\u001b[39;49m\u001b[38;5;28;43mself\u001b[39;49m\u001b[38;5;241;43m.\u001b[39;49m\u001b[43moptions\u001b[49m\u001b[38;5;241;43m.\u001b[39;49m\u001b[43mget\u001b[49m\u001b[43m(\u001b[49m\u001b[38;5;124;43m\"\u001b[39;49m\u001b[38;5;124;43mcompression\u001b[39;49m\u001b[38;5;124;43m\"\u001b[39;49m\u001b[43m,\u001b[49m\u001b[43m \u001b[49m\u001b[38;5;28;43;01mNone\u001b[39;49;00m\u001b[43m)\u001b[49m\u001b[43m,\u001b[49m\n\u001b[0;32m   1885\u001b[0m \u001b[43m    \u001b[49m\u001b[43mmemory_map\u001b[49m\u001b[38;5;241;43m=\u001b[39;49m\u001b[38;5;28;43mself\u001b[39;49m\u001b[38;5;241;43m.\u001b[39;49m\u001b[43moptions\u001b[49m\u001b[38;5;241;43m.\u001b[39;49m\u001b[43mget\u001b[49m\u001b[43m(\u001b[49m\u001b[38;5;124;43m\"\u001b[39;49m\u001b[38;5;124;43mmemory_map\u001b[39;49m\u001b[38;5;124;43m\"\u001b[39;49m\u001b[43m,\u001b[49m\u001b[43m \u001b[49m\u001b[38;5;28;43;01mFalse\u001b[39;49;00m\u001b[43m)\u001b[49m\u001b[43m,\u001b[49m\n\u001b[0;32m   1886\u001b[0m \u001b[43m    \u001b[49m\u001b[43mis_text\u001b[49m\u001b[38;5;241;43m=\u001b[39;49m\u001b[43mis_text\u001b[49m\u001b[43m,\u001b[49m\n\u001b[0;32m   1887\u001b[0m \u001b[43m    \u001b[49m\u001b[43merrors\u001b[49m\u001b[38;5;241;43m=\u001b[39;49m\u001b[38;5;28;43mself\u001b[39;49m\u001b[38;5;241;43m.\u001b[39;49m\u001b[43moptions\u001b[49m\u001b[38;5;241;43m.\u001b[39;49m\u001b[43mget\u001b[49m\u001b[43m(\u001b[49m\u001b[38;5;124;43m\"\u001b[39;49m\u001b[38;5;124;43mencoding_errors\u001b[39;49m\u001b[38;5;124;43m\"\u001b[39;49m\u001b[43m,\u001b[49m\u001b[43m \u001b[49m\u001b[38;5;124;43m\"\u001b[39;49m\u001b[38;5;124;43mstrict\u001b[39;49m\u001b[38;5;124;43m\"\u001b[39;49m\u001b[43m)\u001b[49m\u001b[43m,\u001b[49m\n\u001b[0;32m   1888\u001b[0m \u001b[43m    \u001b[49m\u001b[43mstorage_options\u001b[49m\u001b[38;5;241;43m=\u001b[39;49m\u001b[38;5;28;43mself\u001b[39;49m\u001b[38;5;241;43m.\u001b[39;49m\u001b[43moptions\u001b[49m\u001b[38;5;241;43m.\u001b[39;49m\u001b[43mget\u001b[49m\u001b[43m(\u001b[49m\u001b[38;5;124;43m\"\u001b[39;49m\u001b[38;5;124;43mstorage_options\u001b[39;49m\u001b[38;5;124;43m\"\u001b[39;49m\u001b[43m,\u001b[49m\u001b[43m \u001b[49m\u001b[38;5;28;43;01mNone\u001b[39;49;00m\u001b[43m)\u001b[49m\u001b[43m,\u001b[49m\n\u001b[0;32m   1889\u001b[0m \u001b[43m\u001b[49m\u001b[43m)\u001b[49m\n\u001b[0;32m   1890\u001b[0m \u001b[38;5;28;01massert\u001b[39;00m \u001b[38;5;28mself\u001b[39m\u001b[38;5;241m.\u001b[39mhandles \u001b[38;5;129;01mis\u001b[39;00m \u001b[38;5;129;01mnot\u001b[39;00m \u001b[38;5;28;01mNone\u001b[39;00m\n\u001b[0;32m   1891\u001b[0m f \u001b[38;5;241m=\u001b[39m \u001b[38;5;28mself\u001b[39m\u001b[38;5;241m.\u001b[39mhandles\u001b[38;5;241m.\u001b[39mhandle\n",
      "File \u001b[1;32mc:\\Users\\quirosgu\\.conda\\envs\\inventa\\Lib\\site-packages\\pandas\\io\\common.py:873\u001b[0m, in \u001b[0;36mget_handle\u001b[1;34m(path_or_buf, mode, encoding, compression, memory_map, is_text, errors, storage_options)\u001b[0m\n\u001b[0;32m    868\u001b[0m \u001b[38;5;28;01melif\u001b[39;00m \u001b[38;5;28misinstance\u001b[39m(handle, \u001b[38;5;28mstr\u001b[39m):\n\u001b[0;32m    869\u001b[0m     \u001b[38;5;66;03m# Check whether the filename is to be opened in binary mode.\u001b[39;00m\n\u001b[0;32m    870\u001b[0m     \u001b[38;5;66;03m# Binary mode does not support 'encoding' and 'newline'.\u001b[39;00m\n\u001b[0;32m    871\u001b[0m     \u001b[38;5;28;01mif\u001b[39;00m ioargs\u001b[38;5;241m.\u001b[39mencoding \u001b[38;5;129;01mand\u001b[39;00m \u001b[38;5;124m\"\u001b[39m\u001b[38;5;124mb\u001b[39m\u001b[38;5;124m\"\u001b[39m \u001b[38;5;129;01mnot\u001b[39;00m \u001b[38;5;129;01min\u001b[39;00m ioargs\u001b[38;5;241m.\u001b[39mmode:\n\u001b[0;32m    872\u001b[0m         \u001b[38;5;66;03m# Encoding\u001b[39;00m\n\u001b[1;32m--> 873\u001b[0m         handle \u001b[38;5;241m=\u001b[39m \u001b[38;5;28mopen\u001b[39m(\n\u001b[0;32m    874\u001b[0m             handle,\n\u001b[0;32m    875\u001b[0m             ioargs\u001b[38;5;241m.\u001b[39mmode,\n\u001b[0;32m    876\u001b[0m             encoding\u001b[38;5;241m=\u001b[39mioargs\u001b[38;5;241m.\u001b[39mencoding,\n\u001b[0;32m    877\u001b[0m             errors\u001b[38;5;241m=\u001b[39merrors,\n\u001b[0;32m    878\u001b[0m             newline\u001b[38;5;241m=\u001b[39m\u001b[38;5;124m\"\u001b[39m\u001b[38;5;124m\"\u001b[39m,\n\u001b[0;32m    879\u001b[0m         )\n\u001b[0;32m    880\u001b[0m     \u001b[38;5;28;01melse\u001b[39;00m:\n\u001b[0;32m    881\u001b[0m         \u001b[38;5;66;03m# Binary mode\u001b[39;00m\n\u001b[0;32m    882\u001b[0m         handle \u001b[38;5;241m=\u001b[39m \u001b[38;5;28mopen\u001b[39m(handle, ioargs\u001b[38;5;241m.\u001b[39mmode)\n",
      "\u001b[1;31mFileNotFoundError\u001b[0m: [Errno 2] No such file or directory: 'C:/Users/quirosgu/Desktop/Maytenus/Literature/output_data/Q10327859.tsv'"
     ]
    }
   ],
   "source": [
    "# Step 1: Read data from all .tsv files in the output_folder\n",
    "all_data = pd.concat([pd.read_csv(os.path.join(output_folder, filename), sep='\\t') for filename in os.listdir(os.path.join(output_folder, 'species_data')) if filename.endswith(\".tsv\")])\n",
    "\n",
    "# Step 2: Rename the \"organism_taxonomy_09species\" column to \"species\"\n",
    "all_data.rename(columns={'organism_taxonomy_09species': 'species'}, inplace=True)\n",
    "\n",
    "# Remove 'API Error-API Error' and 'Not Classified-Not Classified'\n",
    "all_data = all_data[~all_data['chemical_superclass'].isin(['API Error-API Error', 'Not Classified-Not Classified'])]\n",
    "\n",
    "# Apply the function to each row\n",
    "all_data[['Pathway', 'superclass']] = all_data.apply(lambda row: split_chemical_superclass(row), axis=1, result_type='expand')\n",
    "\n",
    "# Step 4: Process data for color mapping\n",
    "color_map = {}\n",
    "for pathway, superclasses in all_data.groupby('Pathway')['superclass'].unique().items():\n",
    "    shades = generate_shades(pathway, len(superclasses))\n",
    "    for superclass, shade in zip(superclasses, shades):\n",
    "        color_map[f\"{pathway}-{superclass}\"] = shade\n",
    "\n",
    "# Step 5: Group and aggregate data to calculate recurrence\n",
    "agg_data = all_data.groupby(['species', 'chemical_superclass']).size().reset_index(name='recurrence')\n",
    "\n",
    "# Convert 'species' column to categorical data\n",
    "agg_data['species'] = pd.Categorical(agg_data['species'], categories=agg_data['species'].unique(), ordered=True)\n",
    "\n",
    "# Get unique species names\n",
    "unique_species = agg_data['species'].unique()\n",
    "\n",
    "# Get unique chemical superclasses and sort them alphabetically\n",
    "unique_superclasses = sorted(agg_data['chemical_superclass'].unique())\n",
    "\n",
    "# Calculate total recurrence for each species\n",
    "total_recurrence_per_species = agg_data.groupby('species')['recurrence'].sum()\n",
    "\n",
    "create_stacked_barplot(agg_data, unique_species, unique_superclasses, color_map, output_folder)\n"
   ]
  },
  {
   "cell_type": "code",
   "execution_count": 10,
   "metadata": {},
   "outputs": [
    {
     "name": "stderr",
     "output_type": "stream",
     "text": [
      "C:\\Users\\quirosgu\\AppData\\Local\\Temp\\ipykernel_32328\\1941301309.py:2: FutureWarning: The behavior of DataFrame concatenation with empty or all-NA entries is deprecated. In a future version, this will no longer exclude empty or all-NA columns when determining the result dtypes. To retain the old behavior, exclude the relevant entries before the concat operation.\n",
      "  all_data = pd.concat([pd.read_csv(os.path.join(output_folder, 'species_data', filename), sep='\\t') for filename in os.listdir(os.path.join(output_folder, 'species_data')) if filename.endswith(\".tsv\")])\n",
      "C:\\Users\\quirosgu\\AppData\\Local\\Temp\\ipykernel_32328\\1941301309.py:36: FutureWarning: The default of observed=False is deprecated and will be changed to True in a future version of pandas. Pass observed=False to retain current behavior or observed=True to adopt the future default and silence this warning.\n",
      "  total_recurrence_per_species = agg_data.groupby('species')['recurrence'].sum()\n"
     ]
    },
    {
     "data": {
      "application/vnd.plotly.v1+json": {
       "config": {
        "plotlyServerURL": "https://plot.ly"
       },
       "data": [
        {
         "alignmentgroup": "True",
         "hovertemplate": "chemical_superclass=Alkaloids-Lysine alkaloids<br>Recurrence=%{x}<br>species=%{y}<extra></extra>",
         "legendgroup": "Alkaloids-Lysine alkaloids",
         "marker": {
          "color": "#305f72",
          "pattern": {
           "shape": ""
          }
         },
         "name": "Alkaloids-Lysine alkaloids",
         "offsetgroup": "Alkaloids-Lysine alkaloids",
         "orientation": "h",
         "showlegend": true,
         "textposition": "auto",
         "type": "bar",
         "x": [
          33.33333333333333
         ],
         "xaxis": "x",
         "y": [
          "Maytenus buxifolia"
         ],
         "yaxis": "y"
        },
        {
         "alignmentgroup": "True",
         "hovertemplate": "chemical_superclass=Alkaloids-Ornithine alkaloids<br>Recurrence=%{x}<br>species=%{y}<extra></extra>",
         "legendgroup": "Alkaloids-Ornithine alkaloids",
         "marker": {
          "color": "#5cbce2",
          "pattern": {
           "shape": ""
          }
         },
         "name": "Alkaloids-Ornithine alkaloids",
         "offsetgroup": "Alkaloids-Ornithine alkaloids",
         "orientation": "h",
         "showlegend": true,
         "textposition": "auto",
         "type": "bar",
         "x": [
          33.33333333333333
         ],
         "xaxis": "x",
         "y": [
          "Maytenus buxifolia"
         ],
         "yaxis": "y"
        },
        {
         "alignmentgroup": "True",
         "hovertemplate": "chemical_superclass=Polyketides-Macrolides<br>Recurrence=%{x}<br>species=%{y}<extra></extra>",
         "legendgroup": "Polyketides-Macrolides",
         "marker": {
          "color": "#ef4b4b",
          "pattern": {
           "shape": ""
          }
         },
         "name": "Polyketides-Macrolides",
         "offsetgroup": "Polyketides-Macrolides",
         "orientation": "h",
         "showlegend": true,
         "textposition": "auto",
         "type": "bar",
         "x": [
          100,
          100
         ],
         "xaxis": "x",
         "y": [
          "Gymnosporia wightiana",
          "Maytenus phyllanthoides"
         ],
         "yaxis": "y"
        },
        {
         "alignmentgroup": "True",
         "hovertemplate": "chemical_superclass=Polyketides-Meroterpenoids<br>Recurrence=%{x}<br>species=%{y}<extra></extra>",
         "legendgroup": "Polyketides-Meroterpenoids",
         "marker": {
          "color": "#ec8f6a",
          "pattern": {
           "shape": ""
          }
         },
         "name": "Polyketides-Meroterpenoids",
         "offsetgroup": "Polyketides-Meroterpenoids",
         "orientation": "h",
         "showlegend": true,
         "textposition": "auto",
         "type": "bar",
         "x": [
          7.142857142857142
         ],
         "xaxis": "x",
         "y": [
          "Monteverdia amazonica"
         ],
         "yaxis": "y"
        },
        {
         "alignmentgroup": "True",
         "hovertemplate": "chemical_superclass=Shikimates and Phenylpropanoids-Flavonoids<br>Recurrence=%{x}<br>species=%{y}<extra></extra>",
         "legendgroup": "Shikimates and Phenylpropanoids-Flavonoids",
         "marker": {
          "color": "#80558c",
          "pattern": {
           "shape": ""
          }
         },
         "name": "Shikimates and Phenylpropanoids-Flavonoids",
         "offsetgroup": "Shikimates and Phenylpropanoids-Flavonoids",
         "orientation": "h",
         "showlegend": true,
         "textposition": "auto",
         "type": "bar",
         "x": [
          4.878048780487805,
          6.25,
          25,
          4.545454545454546
         ],
         "xaxis": "x",
         "y": [
          "Maytenus boaria",
          "Maytenus chubutensis",
          "Maytenus disticha",
          "Monteverdia retusa"
         ],
         "yaxis": "y"
        },
        {
         "alignmentgroup": "True",
         "hovertemplate": "chemical_superclass=Shikimates and Phenylpropanoids-Phenolic acids (C6-C1)<br>Recurrence=%{x}<br>species=%{y}<extra></extra>",
         "legendgroup": "Shikimates and Phenylpropanoids-Phenolic acids (C6-C1)",
         "marker": {
          "color": "#00cc96",
          "pattern": {
           "shape": ""
          }
         },
         "name": "Shikimates and Phenylpropanoids-Phenolic acids (C6-C1)",
         "offsetgroup": "Shikimates and Phenylpropanoids-Phenolic acids (C6-C1)",
         "orientation": "h",
         "showlegend": true,
         "textposition": "auto",
         "type": "bar",
         "x": [
          2.4390243902439024
         ],
         "xaxis": "x",
         "y": [
          "Maytenus boaria"
         ],
         "yaxis": "y"
        },
        {
         "alignmentgroup": "True",
         "hovertemplate": "chemical_superclass=Terpenoids-Diterpenoids<br>Recurrence=%{x}<br>species=%{y}<extra></extra>",
         "legendgroup": "Terpenoids-Diterpenoids",
         "marker": {
          "color": "#98b49b",
          "pattern": {
           "shape": ""
          }
         },
         "name": "Terpenoids-Diterpenoids",
         "offsetgroup": "Terpenoids-Diterpenoids",
         "orientation": "h",
         "showlegend": true,
         "textposition": "auto",
         "type": "bar",
         "x": [
          8.333333333333332,
          5.88235294117647,
          2.272727272727273,
          5.88235294117647
         ],
         "xaxis": "x",
         "y": [
          "Maytenus magellanica",
          "Maytenus scutioides",
          "Monteverdia retusa",
          "Monteverdia spinosa"
         ],
         "yaxis": "y"
        },
        {
         "alignmentgroup": "True",
         "hovertemplate": "chemical_superclass=Terpenoids-Monoterpenoids<br>Recurrence=%{x}<br>species=%{y}<extra></extra>",
         "legendgroup": "Terpenoids-Monoterpenoids",
         "marker": {
          "color": "#d0e7d2",
          "pattern": {
           "shape": ""
          }
         },
         "name": "Terpenoids-Monoterpenoids",
         "offsetgroup": "Terpenoids-Monoterpenoids",
         "orientation": "h",
         "showlegend": true,
         "textposition": "auto",
         "type": "bar",
         "x": [
          100
         ],
         "xaxis": "x",
         "y": [
          "Maytenus acuminata"
         ],
         "yaxis": "y"
        },
        {
         "alignmentgroup": "True",
         "hovertemplate": "chemical_superclass=Terpenoids-Sesquiterpenoids<br>Recurrence=%{x}<br>species=%{y}<extra></extra>",
         "legendgroup": "Terpenoids-Sesquiterpenoids",
         "marker": {
          "color": "#7d9b80",
          "pattern": {
           "shape": ""
          }
         },
         "name": "Terpenoids-Sesquiterpenoids",
         "offsetgroup": "Terpenoids-Sesquiterpenoids",
         "orientation": "h",
         "showlegend": true,
         "textposition": "auto",
         "type": "bar",
         "x": [
          39.473684210526315,
          78.04878048780488,
          50,
          75,
          100,
          54.166666666666664,
          4.761904761904762,
          100,
          2.272727272727273
         ],
         "xaxis": "x",
         "y": [
          "Gymnosporia cassinoides",
          "Maytenus boaria",
          "Maytenus chubutensis",
          "Maytenus disticha",
          "Maytenus jelskii",
          "Maytenus magellanica",
          "Maytenus woodsonii",
          "Monteverdia myrsinoides",
          "Monteverdia retusa"
         ],
         "yaxis": "y"
        },
        {
         "alignmentgroup": "True",
         "hovertemplate": "chemical_superclass=Terpenoids-Steroids<br>Recurrence=%{x}<br>species=%{y}<extra></extra>",
         "legendgroup": "Terpenoids-Steroids",
         "marker": {
          "color": "#b4ceb6",
          "pattern": {
           "shape": ""
          }
         },
         "name": "Terpenoids-Steroids",
         "offsetgroup": "Terpenoids-Steroids",
         "orientation": "h",
         "showlegend": true,
         "textposition": "auto",
         "type": "bar",
         "x": [
          2.631578947368421,
          33.33333333333333
         ],
         "xaxis": "x",
         "y": [
          "Gymnosporia cassinoides",
          "Maytenus buxifolia"
         ],
         "yaxis": "y"
        },
        {
         "alignmentgroup": "True",
         "hovertemplate": "chemical_superclass=Terpenoids-Triterpenoids<br>Recurrence=%{x}<br>species=%{y}<extra></extra>",
         "legendgroup": "Terpenoids-Triterpenoids",
         "marker": {
          "color": "#618264",
          "pattern": {
           "shape": ""
          }
         },
         "name": "Terpenoids-Triterpenoids",
         "offsetgroup": "Terpenoids-Triterpenoids",
         "orientation": "h",
         "showlegend": true,
         "textposition": "auto",
         "type": "bar",
         "x": [
          57.89473684210527,
          100,
          14.634146341463413,
          43.75,
          37.5,
          100,
          94.11764705882352,
          100,
          95.23809523809523,
          92.85714285714286,
          100,
          90.9090909090909,
          94.11764705882352
         ],
         "xaxis": "x",
         "y": [
          "Gymnosporia cassinoides",
          "Gymnosporia dryandri",
          "Maytenus boaria",
          "Maytenus chubutensis",
          "Maytenus magellanica",
          "Maytenus salicifolia",
          "Maytenus scutioides",
          "Maytenus undata",
          "Maytenus woodsonii",
          "Monteverdia amazonica",
          "Monteverdia gonoclada",
          "Monteverdia retusa",
          "Monteverdia spinosa"
         ],
         "yaxis": "y"
        }
       ],
       "layout": {
        "annotations": [
         {
          "font": {
           "color": "black",
           "size": 10
          },
          "showarrow": false,
          "text": "Total compounds: 38",
          "x": 100,
          "xanchor": "left",
          "y": "Gymnosporia cassinoides",
          "yanchor": "middle"
         },
         {
          "font": {
           "color": "black",
           "size": 10
          },
          "showarrow": false,
          "text": "Total compounds: 8",
          "x": 100,
          "xanchor": "left",
          "y": "Gymnosporia dryandri",
          "yanchor": "middle"
         },
         {
          "font": {
           "color": "black",
           "size": 10
          },
          "showarrow": false,
          "text": "Total compounds: 3",
          "x": 100,
          "xanchor": "left",
          "y": "Gymnosporia wightiana",
          "yanchor": "middle"
         },
         {
          "font": {
           "color": "black",
           "size": 10
          },
          "showarrow": false,
          "text": "Total compounds: 1",
          "x": 100,
          "xanchor": "left",
          "y": "Maytenus acuminata",
          "yanchor": "middle"
         },
         {
          "font": {
           "color": "black",
           "size": 10
          },
          "showarrow": false,
          "text": "Total compounds: 41",
          "x": 100,
          "xanchor": "left",
          "y": "Maytenus boaria",
          "yanchor": "middle"
         },
         {
          "font": {
           "color": "black",
           "size": 10
          },
          "showarrow": false,
          "text": "Total compounds: 3",
          "x": 100,
          "xanchor": "left",
          "y": "Maytenus buxifolia",
          "yanchor": "middle"
         },
         {
          "font": {
           "color": "black",
           "size": 10
          },
          "showarrow": false,
          "text": "Total compounds: 16",
          "x": 100,
          "xanchor": "left",
          "y": "Maytenus chubutensis",
          "yanchor": "middle"
         },
         {
          "font": {
           "color": "black",
           "size": 10
          },
          "showarrow": false,
          "text": "Total compounds: 8",
          "x": 100,
          "xanchor": "left",
          "y": "Maytenus disticha",
          "yanchor": "middle"
         },
         {
          "font": {
           "color": "black",
           "size": 10
          },
          "showarrow": false,
          "text": "Total compounds: 12",
          "x": 100,
          "xanchor": "left",
          "y": "Maytenus jelskii",
          "yanchor": "middle"
         },
         {
          "font": {
           "color": "black",
           "size": 10
          },
          "showarrow": false,
          "text": "Total compounds: 24",
          "x": 100,
          "xanchor": "left",
          "y": "Maytenus magellanica",
          "yanchor": "middle"
         },
         {
          "font": {
           "color": "black",
           "size": 10
          },
          "showarrow": false,
          "text": "Total compounds: 1",
          "x": 100,
          "xanchor": "left",
          "y": "Maytenus phyllanthoides",
          "yanchor": "middle"
         },
         {
          "font": {
           "color": "black",
           "size": 10
          },
          "showarrow": false,
          "text": "Total compounds: 9",
          "x": 100,
          "xanchor": "left",
          "y": "Maytenus salicifolia",
          "yanchor": "middle"
         },
         {
          "font": {
           "color": "black",
           "size": 10
          },
          "showarrow": false,
          "text": "Total compounds: 17",
          "x": 100,
          "xanchor": "left",
          "y": "Maytenus scutioides",
          "yanchor": "middle"
         },
         {
          "font": {
           "color": "black",
           "size": 10
          },
          "showarrow": false,
          "text": "Total compounds: 8",
          "x": 100,
          "xanchor": "left",
          "y": "Maytenus undata",
          "yanchor": "middle"
         },
         {
          "font": {
           "color": "black",
           "size": 10
          },
          "showarrow": false,
          "text": "Total compounds: 21",
          "x": 100,
          "xanchor": "left",
          "y": "Maytenus woodsonii",
          "yanchor": "middle"
         },
         {
          "font": {
           "color": "black",
           "size": 10
          },
          "showarrow": false,
          "text": "Total compounds: 14",
          "x": 100,
          "xanchor": "left",
          "y": "Monteverdia amazonica",
          "yanchor": "middle"
         },
         {
          "font": {
           "color": "black",
           "size": 10
          },
          "showarrow": false,
          "text": "Total compounds: 5",
          "x": 100,
          "xanchor": "left",
          "y": "Monteverdia gonoclada",
          "yanchor": "middle"
         },
         {
          "font": {
           "color": "black",
           "size": 10
          },
          "showarrow": false,
          "text": "Total compounds: 2",
          "x": 100,
          "xanchor": "left",
          "y": "Monteverdia myrsinoides",
          "yanchor": "middle"
         },
         {
          "font": {
           "color": "black",
           "size": 10
          },
          "showarrow": false,
          "text": "Total compounds: 44",
          "x": 100,
          "xanchor": "left",
          "y": "Monteverdia retusa",
          "yanchor": "middle"
         },
         {
          "font": {
           "color": "black",
           "size": 10
          },
          "showarrow": false,
          "text": "Total compounds: 17",
          "x": 100,
          "xanchor": "left",
          "y": "Monteverdia spinosa",
          "yanchor": "middle"
         }
        ],
        "barmode": "relative",
        "height": 1500,
        "legend": {
         "title": {
          "text": "chemical_superclass"
         },
         "tracegroupgap": 0
        },
        "plot_bgcolor": "white",
        "template": {
         "data": {
          "bar": [
           {
            "error_x": {
             "color": "#2a3f5f"
            },
            "error_y": {
             "color": "#2a3f5f"
            },
            "marker": {
             "line": {
              "color": "#E5ECF6",
              "width": 0.5
             },
             "pattern": {
              "fillmode": "overlay",
              "size": 10,
              "solidity": 0.2
             }
            },
            "type": "bar"
           }
          ],
          "barpolar": [
           {
            "marker": {
             "line": {
              "color": "#E5ECF6",
              "width": 0.5
             },
             "pattern": {
              "fillmode": "overlay",
              "size": 10,
              "solidity": 0.2
             }
            },
            "type": "barpolar"
           }
          ],
          "carpet": [
           {
            "aaxis": {
             "endlinecolor": "#2a3f5f",
             "gridcolor": "white",
             "linecolor": "white",
             "minorgridcolor": "white",
             "startlinecolor": "#2a3f5f"
            },
            "baxis": {
             "endlinecolor": "#2a3f5f",
             "gridcolor": "white",
             "linecolor": "white",
             "minorgridcolor": "white",
             "startlinecolor": "#2a3f5f"
            },
            "type": "carpet"
           }
          ],
          "choropleth": [
           {
            "colorbar": {
             "outlinewidth": 0,
             "ticks": ""
            },
            "type": "choropleth"
           }
          ],
          "contour": [
           {
            "colorbar": {
             "outlinewidth": 0,
             "ticks": ""
            },
            "colorscale": [
             [
              0,
              "#0d0887"
             ],
             [
              0.1111111111111111,
              "#46039f"
             ],
             [
              0.2222222222222222,
              "#7201a8"
             ],
             [
              0.3333333333333333,
              "#9c179e"
             ],
             [
              0.4444444444444444,
              "#bd3786"
             ],
             [
              0.5555555555555556,
              "#d8576b"
             ],
             [
              0.6666666666666666,
              "#ed7953"
             ],
             [
              0.7777777777777778,
              "#fb9f3a"
             ],
             [
              0.8888888888888888,
              "#fdca26"
             ],
             [
              1,
              "#f0f921"
             ]
            ],
            "type": "contour"
           }
          ],
          "contourcarpet": [
           {
            "colorbar": {
             "outlinewidth": 0,
             "ticks": ""
            },
            "type": "contourcarpet"
           }
          ],
          "heatmap": [
           {
            "colorbar": {
             "outlinewidth": 0,
             "ticks": ""
            },
            "colorscale": [
             [
              0,
              "#0d0887"
             ],
             [
              0.1111111111111111,
              "#46039f"
             ],
             [
              0.2222222222222222,
              "#7201a8"
             ],
             [
              0.3333333333333333,
              "#9c179e"
             ],
             [
              0.4444444444444444,
              "#bd3786"
             ],
             [
              0.5555555555555556,
              "#d8576b"
             ],
             [
              0.6666666666666666,
              "#ed7953"
             ],
             [
              0.7777777777777778,
              "#fb9f3a"
             ],
             [
              0.8888888888888888,
              "#fdca26"
             ],
             [
              1,
              "#f0f921"
             ]
            ],
            "type": "heatmap"
           }
          ],
          "heatmapgl": [
           {
            "colorbar": {
             "outlinewidth": 0,
             "ticks": ""
            },
            "colorscale": [
             [
              0,
              "#0d0887"
             ],
             [
              0.1111111111111111,
              "#46039f"
             ],
             [
              0.2222222222222222,
              "#7201a8"
             ],
             [
              0.3333333333333333,
              "#9c179e"
             ],
             [
              0.4444444444444444,
              "#bd3786"
             ],
             [
              0.5555555555555556,
              "#d8576b"
             ],
             [
              0.6666666666666666,
              "#ed7953"
             ],
             [
              0.7777777777777778,
              "#fb9f3a"
             ],
             [
              0.8888888888888888,
              "#fdca26"
             ],
             [
              1,
              "#f0f921"
             ]
            ],
            "type": "heatmapgl"
           }
          ],
          "histogram": [
           {
            "marker": {
             "pattern": {
              "fillmode": "overlay",
              "size": 10,
              "solidity": 0.2
             }
            },
            "type": "histogram"
           }
          ],
          "histogram2d": [
           {
            "colorbar": {
             "outlinewidth": 0,
             "ticks": ""
            },
            "colorscale": [
             [
              0,
              "#0d0887"
             ],
             [
              0.1111111111111111,
              "#46039f"
             ],
             [
              0.2222222222222222,
              "#7201a8"
             ],
             [
              0.3333333333333333,
              "#9c179e"
             ],
             [
              0.4444444444444444,
              "#bd3786"
             ],
             [
              0.5555555555555556,
              "#d8576b"
             ],
             [
              0.6666666666666666,
              "#ed7953"
             ],
             [
              0.7777777777777778,
              "#fb9f3a"
             ],
             [
              0.8888888888888888,
              "#fdca26"
             ],
             [
              1,
              "#f0f921"
             ]
            ],
            "type": "histogram2d"
           }
          ],
          "histogram2dcontour": [
           {
            "colorbar": {
             "outlinewidth": 0,
             "ticks": ""
            },
            "colorscale": [
             [
              0,
              "#0d0887"
             ],
             [
              0.1111111111111111,
              "#46039f"
             ],
             [
              0.2222222222222222,
              "#7201a8"
             ],
             [
              0.3333333333333333,
              "#9c179e"
             ],
             [
              0.4444444444444444,
              "#bd3786"
             ],
             [
              0.5555555555555556,
              "#d8576b"
             ],
             [
              0.6666666666666666,
              "#ed7953"
             ],
             [
              0.7777777777777778,
              "#fb9f3a"
             ],
             [
              0.8888888888888888,
              "#fdca26"
             ],
             [
              1,
              "#f0f921"
             ]
            ],
            "type": "histogram2dcontour"
           }
          ],
          "mesh3d": [
           {
            "colorbar": {
             "outlinewidth": 0,
             "ticks": ""
            },
            "type": "mesh3d"
           }
          ],
          "parcoords": [
           {
            "line": {
             "colorbar": {
              "outlinewidth": 0,
              "ticks": ""
             }
            },
            "type": "parcoords"
           }
          ],
          "pie": [
           {
            "automargin": true,
            "type": "pie"
           }
          ],
          "scatter": [
           {
            "fillpattern": {
             "fillmode": "overlay",
             "size": 10,
             "solidity": 0.2
            },
            "type": "scatter"
           }
          ],
          "scatter3d": [
           {
            "line": {
             "colorbar": {
              "outlinewidth": 0,
              "ticks": ""
             }
            },
            "marker": {
             "colorbar": {
              "outlinewidth": 0,
              "ticks": ""
             }
            },
            "type": "scatter3d"
           }
          ],
          "scattercarpet": [
           {
            "marker": {
             "colorbar": {
              "outlinewidth": 0,
              "ticks": ""
             }
            },
            "type": "scattercarpet"
           }
          ],
          "scattergeo": [
           {
            "marker": {
             "colorbar": {
              "outlinewidth": 0,
              "ticks": ""
             }
            },
            "type": "scattergeo"
           }
          ],
          "scattergl": [
           {
            "marker": {
             "colorbar": {
              "outlinewidth": 0,
              "ticks": ""
             }
            },
            "type": "scattergl"
           }
          ],
          "scattermapbox": [
           {
            "marker": {
             "colorbar": {
              "outlinewidth": 0,
              "ticks": ""
             }
            },
            "type": "scattermapbox"
           }
          ],
          "scatterpolar": [
           {
            "marker": {
             "colorbar": {
              "outlinewidth": 0,
              "ticks": ""
             }
            },
            "type": "scatterpolar"
           }
          ],
          "scatterpolargl": [
           {
            "marker": {
             "colorbar": {
              "outlinewidth": 0,
              "ticks": ""
             }
            },
            "type": "scatterpolargl"
           }
          ],
          "scatterternary": [
           {
            "marker": {
             "colorbar": {
              "outlinewidth": 0,
              "ticks": ""
             }
            },
            "type": "scatterternary"
           }
          ],
          "surface": [
           {
            "colorbar": {
             "outlinewidth": 0,
             "ticks": ""
            },
            "colorscale": [
             [
              0,
              "#0d0887"
             ],
             [
              0.1111111111111111,
              "#46039f"
             ],
             [
              0.2222222222222222,
              "#7201a8"
             ],
             [
              0.3333333333333333,
              "#9c179e"
             ],
             [
              0.4444444444444444,
              "#bd3786"
             ],
             [
              0.5555555555555556,
              "#d8576b"
             ],
             [
              0.6666666666666666,
              "#ed7953"
             ],
             [
              0.7777777777777778,
              "#fb9f3a"
             ],
             [
              0.8888888888888888,
              "#fdca26"
             ],
             [
              1,
              "#f0f921"
             ]
            ],
            "type": "surface"
           }
          ],
          "table": [
           {
            "cells": {
             "fill": {
              "color": "#EBF0F8"
             },
             "line": {
              "color": "white"
             }
            },
            "header": {
             "fill": {
              "color": "#C8D4E3"
             },
             "line": {
              "color": "white"
             }
            },
            "type": "table"
           }
          ]
         },
         "layout": {
          "annotationdefaults": {
           "arrowcolor": "#2a3f5f",
           "arrowhead": 0,
           "arrowwidth": 1
          },
          "autotypenumbers": "strict",
          "coloraxis": {
           "colorbar": {
            "outlinewidth": 0,
            "ticks": ""
           }
          },
          "colorscale": {
           "diverging": [
            [
             0,
             "#8e0152"
            ],
            [
             0.1,
             "#c51b7d"
            ],
            [
             0.2,
             "#de77ae"
            ],
            [
             0.3,
             "#f1b6da"
            ],
            [
             0.4,
             "#fde0ef"
            ],
            [
             0.5,
             "#f7f7f7"
            ],
            [
             0.6,
             "#e6f5d0"
            ],
            [
             0.7,
             "#b8e186"
            ],
            [
             0.8,
             "#7fbc41"
            ],
            [
             0.9,
             "#4d9221"
            ],
            [
             1,
             "#276419"
            ]
           ],
           "sequential": [
            [
             0,
             "#0d0887"
            ],
            [
             0.1111111111111111,
             "#46039f"
            ],
            [
             0.2222222222222222,
             "#7201a8"
            ],
            [
             0.3333333333333333,
             "#9c179e"
            ],
            [
             0.4444444444444444,
             "#bd3786"
            ],
            [
             0.5555555555555556,
             "#d8576b"
            ],
            [
             0.6666666666666666,
             "#ed7953"
            ],
            [
             0.7777777777777778,
             "#fb9f3a"
            ],
            [
             0.8888888888888888,
             "#fdca26"
            ],
            [
             1,
             "#f0f921"
            ]
           ],
           "sequentialminus": [
            [
             0,
             "#0d0887"
            ],
            [
             0.1111111111111111,
             "#46039f"
            ],
            [
             0.2222222222222222,
             "#7201a8"
            ],
            [
             0.3333333333333333,
             "#9c179e"
            ],
            [
             0.4444444444444444,
             "#bd3786"
            ],
            [
             0.5555555555555556,
             "#d8576b"
            ],
            [
             0.6666666666666666,
             "#ed7953"
            ],
            [
             0.7777777777777778,
             "#fb9f3a"
            ],
            [
             0.8888888888888888,
             "#fdca26"
            ],
            [
             1,
             "#f0f921"
            ]
           ]
          },
          "colorway": [
           "#636efa",
           "#EF553B",
           "#00cc96",
           "#ab63fa",
           "#FFA15A",
           "#19d3f3",
           "#FF6692",
           "#B6E880",
           "#FF97FF",
           "#FECB52"
          ],
          "font": {
           "color": "#2a3f5f"
          },
          "geo": {
           "bgcolor": "white",
           "lakecolor": "white",
           "landcolor": "#E5ECF6",
           "showlakes": true,
           "showland": true,
           "subunitcolor": "white"
          },
          "hoverlabel": {
           "align": "left"
          },
          "hovermode": "closest",
          "mapbox": {
           "style": "light"
          },
          "paper_bgcolor": "white",
          "plot_bgcolor": "#E5ECF6",
          "polar": {
           "angularaxis": {
            "gridcolor": "white",
            "linecolor": "white",
            "ticks": ""
           },
           "bgcolor": "#E5ECF6",
           "radialaxis": {
            "gridcolor": "white",
            "linecolor": "white",
            "ticks": ""
           }
          },
          "scene": {
           "xaxis": {
            "backgroundcolor": "#E5ECF6",
            "gridcolor": "white",
            "gridwidth": 2,
            "linecolor": "white",
            "showbackground": true,
            "ticks": "",
            "zerolinecolor": "white"
           },
           "yaxis": {
            "backgroundcolor": "#E5ECF6",
            "gridcolor": "white",
            "gridwidth": 2,
            "linecolor": "white",
            "showbackground": true,
            "ticks": "",
            "zerolinecolor": "white"
           },
           "zaxis": {
            "backgroundcolor": "#E5ECF6",
            "gridcolor": "white",
            "gridwidth": 2,
            "linecolor": "white",
            "showbackground": true,
            "ticks": "",
            "zerolinecolor": "white"
           }
          },
          "shapedefaults": {
           "line": {
            "color": "#2a3f5f"
           }
          },
          "ternary": {
           "aaxis": {
            "gridcolor": "white",
            "linecolor": "white",
            "ticks": ""
           },
           "baxis": {
            "gridcolor": "white",
            "linecolor": "white",
            "ticks": ""
           },
           "bgcolor": "#E5ECF6",
           "caxis": {
            "gridcolor": "white",
            "linecolor": "white",
            "ticks": ""
           }
          },
          "title": {
           "x": 0.05
          },
          "xaxis": {
           "automargin": true,
           "gridcolor": "white",
           "linecolor": "white",
           "ticks": "",
           "title": {
            "standoff": 15
           },
           "zerolinecolor": "white",
           "zerolinewidth": 2
          },
          "yaxis": {
           "automargin": true,
           "gridcolor": "white",
           "linecolor": "white",
           "ticks": "",
           "title": {
            "standoff": 15
           },
           "zerolinecolor": "white",
           "zerolinewidth": 2
          }
         }
        },
        "title": {
         "text": "Normalized Stacked Barplot of Predicted Superclasses Occurrence for Species"
        },
        "width": 1500,
        "xaxis": {
         "anchor": "y",
         "domain": [
          0,
          1
         ],
         "title": {
          "text": "Recurrence"
         }
        },
        "yaxis": {
         "anchor": "x",
         "categoryarray": [
          "Monteverdia spinosa",
          "Monteverdia retusa",
          "Monteverdia myrsinoides",
          "Monteverdia gonoclada",
          "Monteverdia amazonica",
          "Maytenus woodsonii",
          "Maytenus undata",
          "Maytenus scutioides",
          "Maytenus salicifolia",
          "Maytenus phyllanthoides",
          "Maytenus magellanica",
          "Maytenus jelskii",
          "Maytenus disticha",
          "Maytenus chubutensis",
          "Maytenus buxifolia",
          "Maytenus boaria",
          "Maytenus acuminata",
          "Gymnosporia wightiana",
          "Gymnosporia dryandri",
          "Gymnosporia cassinoides"
         ],
         "categoryorder": "array",
         "domain": [
          0,
          1
         ],
         "tickmode": "array",
         "ticktext": [
          "<i>Gymnosporia cassinoides</i>",
          "<i>Gymnosporia dryandri</i>",
          "<i>Gymnosporia wightiana</i>",
          "<i>Maytenus acuminata</i>",
          "<i>Maytenus boaria</i>",
          "<i>Maytenus buxifolia</i>",
          "<i>Maytenus chubutensis</i>",
          "<i>Maytenus disticha</i>",
          "<i>Maytenus jelskii</i>",
          "<i>Maytenus magellanica</i>",
          "<i>Maytenus phyllanthoides</i>",
          "<i>Maytenus salicifolia</i>",
          "<i>Maytenus scutioides</i>",
          "<i>Maytenus undata</i>",
          "<i>Maytenus woodsonii</i>",
          "<i>Monteverdia amazonica</i>",
          "<i>Monteverdia gonoclada</i>",
          "<i>Monteverdia myrsinoides</i>",
          "<i>Monteverdia retusa</i>",
          "<i>Monteverdia spinosa</i>"
         ],
         "tickvals": [
          0,
          1,
          2,
          3,
          4,
          5,
          6,
          7,
          8,
          9,
          10,
          11,
          12,
          13,
          14,
          15,
          16,
          17,
          18,
          19
         ],
         "title": {
          "text": "<i>Species<i>"
         }
        }
       }
      }
     },
     "metadata": {},
     "output_type": "display_data"
    }
   ],
   "source": [
    "# Step 1: Read data from all .tsv files in the output_folder\n",
    "all_data = pd.concat([pd.read_csv(os.path.join(output_folder, 'species_data', filename), sep='\\t') for filename in os.listdir(os.path.join(output_folder, 'species_data')) if filename.endswith(\".tsv\")])\n",
    "\n",
    "# Step 2: Rename the \"organism_taxonomy_09species\" column to \"species\"\n",
    "all_data.rename(columns={'organism_taxonomy_09species': 'species'}, inplace=True)\n",
    "\n",
    "# Remove 'API Error-API Error' and 'Not Classified-Not Classified'\n",
    "all_data = all_data[~all_data['chemical_superclass'].isin(['API Error-API Error', 'Not Classified-Not Classified'])]\n",
    "\n",
    "# Apply the function to each row\n",
    "all_data[['Pathway', 'superclass']] = all_data.apply(lambda row: split_chemical_superclass(row), axis=1, result_type='expand')\n",
    "\n",
    "# Step 4: Process data for color mapping\n",
    "color_map = {}\n",
    "for pathway, superclasses in all_data.groupby('Pathway')['superclass'].unique().items():\n",
    "    shades = generate_shades(pathway, len(superclasses))\n",
    "    for superclass, shade in zip(superclasses, shades):\n",
    "        color_map[f\"{pathway}-{superclass}\"] = shade\n",
    "\n",
    "# Step 5: Group and aggregate data to calculate recurrence\n",
    "agg_data = all_data.groupby(['species', 'chemical_superclass']).size().reset_index(name='recurrence')\n",
    "\n",
    "# Normalize the recurrence values within each species group\n",
    "agg_data['recurrence_normalized'] = agg_data.groupby('species')['recurrence'].transform(lambda x: x / x.sum())*100\n",
    "\n",
    "# Convert 'species' column to categorical data\n",
    "agg_data['species'] = pd.Categorical(agg_data['species'], categories=agg_data['species'].unique(), ordered=True)\n",
    "\n",
    "# Get unique species names\n",
    "unique_species = agg_data['species'].unique()\n",
    "\n",
    "# Get unique chemical superclasses and sort them alphabetically\n",
    "unique_superclasses = sorted(agg_data['chemical_superclass'].unique())\n",
    "\n",
    "# Calculate total recurrence for each species\n",
    "total_recurrence_per_species = agg_data.groupby('species')['recurrence'].sum()\n",
    "\n",
    "# Create the stacked barplot with the custom color palette\n",
    "fig = px.bar(agg_data, y='species', x='recurrence_normalized',\n",
    "             title='Normalized Stacked Barplot of Predicted Superclasses Occurrence for Species',\n",
    "             labels={'recurrence_normalized': 'Recurrence'},\n",
    "             color='chemical_superclass',\n",
    "             color_discrete_map=color_map,\n",
    "             category_orders={'species': unique_species, 'chemical_superclass': unique_superclasses},\n",
    "             orientation='h')\n",
    "\n",
    "# Modify the y-axis label\n",
    "fig.update_yaxes(title_text='<i>Species<i>')\n",
    "\n",
    "# Set species labels in italics\n",
    "fig.update_layout(yaxis=dict(tickmode='array',\n",
    "                              tickvals=list(range(len(unique_species))),\n",
    "                              ticktext=[f'<i>{species}</i>' for species in unique_species]\n",
    "                              ))\n",
    "\n",
    "# Set a white background\n",
    "fig.update_layout(plot_bgcolor='white')\n",
    "\n",
    "# Get the maximum value of the x-axis\n",
    "max_x = agg_data['recurrence_normalized'].max()\n",
    "\n",
    "for species, total_recurrence in total_recurrence_per_species.items():\n",
    "    # Find the maximum recurrence for this species\n",
    "    max_recurrence = agg_data[agg_data['species'] == species]['recurrence_normalized'].max()\n",
    "    \n",
    "    # Position the annotation at the end of the bar with a slight offset\n",
    "    x_position = max_x + 2\n",
    "    if x_position > 100:  # Ensure the label is not outside the plot area\n",
    "        x_position = 100  # Set it to 100 if it exceeds the maximum x-axis value\n",
    "\n",
    "    # Add annotation to the plot\n",
    "    fig.add_annotation(\n",
    "        x=x_position,\n",
    "        y=species,\n",
    "        text=f'Total compounds: {total_recurrence}',\n",
    "        showarrow=False,\n",
    "        font=dict(size=10, color='black'),\n",
    "        xanchor='left',\n",
    "        yanchor='middle'\n",
    "    )\n",
    "\n",
    "# Modify the size of the figure\n",
    "fig.update_layout(width=1500, height=1500)\n",
    "\n",
    "# Save the figure as an HTML file\n",
    "fig.write_html(f'{output_folder}Wikidata_superclass_barplot_species_normalized.html')\n",
    "\n",
    "# Show the figure\n",
    "fig.show()\n"
   ]
  },
  {
   "cell_type": "markdown",
   "metadata": {},
   "source": [
    "# BARPLOT PATHWAY - SPECIES "
   ]
  },
  {
   "cell_type": "code",
   "execution_count": 11,
   "metadata": {},
   "outputs": [
    {
     "name": "stderr",
     "output_type": "stream",
     "text": [
      "C:\\Users\\quirosgu\\AppData\\Local\\Temp\\ipykernel_32328\\4072444705.py:9: FutureWarning:\n",
      "\n",
      "The behavior of DataFrame concatenation with empty or all-NA entries is deprecated. In a future version, this will no longer exclude empty or all-NA columns when determining the result dtypes. To retain the old behavior, exclude the relevant entries before the concat operation.\n",
      "\n",
      "C:\\Users\\quirosgu\\AppData\\Local\\Temp\\ipykernel_32328\\4072444705.py:9: FutureWarning:\n",
      "\n",
      "The behavior of DataFrame concatenation with empty or all-NA entries is deprecated. In a future version, this will no longer exclude empty or all-NA columns when determining the result dtypes. To retain the old behavior, exclude the relevant entries before the concat operation.\n",
      "\n",
      "C:\\Users\\quirosgu\\AppData\\Local\\Temp\\ipykernel_32328\\4072444705.py:9: FutureWarning:\n",
      "\n",
      "The behavior of DataFrame concatenation with empty or all-NA entries is deprecated. In a future version, this will no longer exclude empty or all-NA columns when determining the result dtypes. To retain the old behavior, exclude the relevant entries before the concat operation.\n",
      "\n",
      "C:\\Users\\quirosgu\\AppData\\Local\\Temp\\ipykernel_32328\\4072444705.py:9: FutureWarning:\n",
      "\n",
      "The behavior of DataFrame concatenation with empty or all-NA entries is deprecated. In a future version, this will no longer exclude empty or all-NA columns when determining the result dtypes. To retain the old behavior, exclude the relevant entries before the concat operation.\n",
      "\n",
      "C:\\Users\\quirosgu\\AppData\\Local\\Temp\\ipykernel_32328\\4072444705.py:9: FutureWarning:\n",
      "\n",
      "The behavior of DataFrame concatenation with empty or all-NA entries is deprecated. In a future version, this will no longer exclude empty or all-NA columns when determining the result dtypes. To retain the old behavior, exclude the relevant entries before the concat operation.\n",
      "\n",
      "C:\\Users\\quirosgu\\AppData\\Local\\Temp\\ipykernel_32328\\4072444705.py:9: FutureWarning:\n",
      "\n",
      "The behavior of DataFrame concatenation with empty or all-NA entries is deprecated. In a future version, this will no longer exclude empty or all-NA columns when determining the result dtypes. To retain the old behavior, exclude the relevant entries before the concat operation.\n",
      "\n",
      "C:\\Users\\quirosgu\\AppData\\Local\\Temp\\ipykernel_32328\\4072444705.py:9: FutureWarning:\n",
      "\n",
      "The behavior of DataFrame concatenation with empty or all-NA entries is deprecated. In a future version, this will no longer exclude empty or all-NA columns when determining the result dtypes. To retain the old behavior, exclude the relevant entries before the concat operation.\n",
      "\n",
      "C:\\Users\\quirosgu\\AppData\\Local\\Temp\\ipykernel_32328\\4072444705.py:9: FutureWarning:\n",
      "\n",
      "The behavior of DataFrame concatenation with empty or all-NA entries is deprecated. In a future version, this will no longer exclude empty or all-NA columns when determining the result dtypes. To retain the old behavior, exclude the relevant entries before the concat operation.\n",
      "\n",
      "C:\\Users\\quirosgu\\AppData\\Local\\Temp\\ipykernel_32328\\4072444705.py:9: FutureWarning:\n",
      "\n",
      "The behavior of DataFrame concatenation with empty or all-NA entries is deprecated. In a future version, this will no longer exclude empty or all-NA columns when determining the result dtypes. To retain the old behavior, exclude the relevant entries before the concat operation.\n",
      "\n",
      "C:\\Users\\quirosgu\\AppData\\Local\\Temp\\ipykernel_32328\\4072444705.py:9: FutureWarning:\n",
      "\n",
      "The behavior of DataFrame concatenation with empty or all-NA entries is deprecated. In a future version, this will no longer exclude empty or all-NA columns when determining the result dtypes. To retain the old behavior, exclude the relevant entries before the concat operation.\n",
      "\n",
      "C:\\Users\\quirosgu\\AppData\\Local\\Temp\\ipykernel_32328\\4072444705.py:9: FutureWarning:\n",
      "\n",
      "The behavior of DataFrame concatenation with empty or all-NA entries is deprecated. In a future version, this will no longer exclude empty or all-NA columns when determining the result dtypes. To retain the old behavior, exclude the relevant entries before the concat operation.\n",
      "\n",
      "C:\\Users\\quirosgu\\AppData\\Local\\Temp\\ipykernel_32328\\4072444705.py:9: FutureWarning:\n",
      "\n",
      "The behavior of DataFrame concatenation with empty or all-NA entries is deprecated. In a future version, this will no longer exclude empty or all-NA columns when determining the result dtypes. To retain the old behavior, exclude the relevant entries before the concat operation.\n",
      "\n",
      "C:\\Users\\quirosgu\\AppData\\Local\\Temp\\ipykernel_32328\\4072444705.py:9: FutureWarning:\n",
      "\n",
      "The behavior of DataFrame concatenation with empty or all-NA entries is deprecated. In a future version, this will no longer exclude empty or all-NA columns when determining the result dtypes. To retain the old behavior, exclude the relevant entries before the concat operation.\n",
      "\n",
      "C:\\Users\\quirosgu\\AppData\\Local\\Temp\\ipykernel_32328\\4072444705.py:9: FutureWarning:\n",
      "\n",
      "The behavior of DataFrame concatenation with empty or all-NA entries is deprecated. In a future version, this will no longer exclude empty or all-NA columns when determining the result dtypes. To retain the old behavior, exclude the relevant entries before the concat operation.\n",
      "\n",
      "C:\\Users\\quirosgu\\AppData\\Local\\Temp\\ipykernel_32328\\4072444705.py:9: FutureWarning:\n",
      "\n",
      "The behavior of DataFrame concatenation with empty or all-NA entries is deprecated. In a future version, this will no longer exclude empty or all-NA columns when determining the result dtypes. To retain the old behavior, exclude the relevant entries before the concat operation.\n",
      "\n",
      "C:\\Users\\quirosgu\\AppData\\Local\\Temp\\ipykernel_32328\\4072444705.py:9: FutureWarning:\n",
      "\n",
      "The behavior of DataFrame concatenation with empty or all-NA entries is deprecated. In a future version, this will no longer exclude empty or all-NA columns when determining the result dtypes. To retain the old behavior, exclude the relevant entries before the concat operation.\n",
      "\n",
      "C:\\Users\\quirosgu\\AppData\\Local\\Temp\\ipykernel_32328\\4072444705.py:9: FutureWarning:\n",
      "\n",
      "The behavior of DataFrame concatenation with empty or all-NA entries is deprecated. In a future version, this will no longer exclude empty or all-NA columns when determining the result dtypes. To retain the old behavior, exclude the relevant entries before the concat operation.\n",
      "\n",
      "C:\\Users\\quirosgu\\AppData\\Local\\Temp\\ipykernel_32328\\4072444705.py:9: FutureWarning:\n",
      "\n",
      "The behavior of DataFrame concatenation with empty or all-NA entries is deprecated. In a future version, this will no longer exclude empty or all-NA columns when determining the result dtypes. To retain the old behavior, exclude the relevant entries before the concat operation.\n",
      "\n",
      "C:\\Users\\quirosgu\\AppData\\Local\\Temp\\ipykernel_32328\\4072444705.py:9: FutureWarning:\n",
      "\n",
      "The behavior of DataFrame concatenation with empty or all-NA entries is deprecated. In a future version, this will no longer exclude empty or all-NA columns when determining the result dtypes. To retain the old behavior, exclude the relevant entries before the concat operation.\n",
      "\n",
      "C:\\Users\\quirosgu\\AppData\\Local\\Temp\\ipykernel_32328\\4072444705.py:9: FutureWarning:\n",
      "\n",
      "The behavior of DataFrame concatenation with empty or all-NA entries is deprecated. In a future version, this will no longer exclude empty or all-NA columns when determining the result dtypes. To retain the old behavior, exclude the relevant entries before the concat operation.\n",
      "\n",
      "C:\\Users\\quirosgu\\AppData\\Local\\Temp\\ipykernel_32328\\4072444705.py:9: FutureWarning:\n",
      "\n",
      "The behavior of DataFrame concatenation with empty or all-NA entries is deprecated. In a future version, this will no longer exclude empty or all-NA columns when determining the result dtypes. To retain the old behavior, exclude the relevant entries before the concat operation.\n",
      "\n",
      "C:\\Users\\quirosgu\\AppData\\Local\\Temp\\ipykernel_32328\\4072444705.py:9: FutureWarning:\n",
      "\n",
      "The behavior of DataFrame concatenation with empty or all-NA entries is deprecated. In a future version, this will no longer exclude empty or all-NA columns when determining the result dtypes. To retain the old behavior, exclude the relevant entries before the concat operation.\n",
      "\n",
      "C:\\Users\\quirosgu\\AppData\\Local\\Temp\\ipykernel_32328\\4072444705.py:9: FutureWarning:\n",
      "\n",
      "The behavior of DataFrame concatenation with empty or all-NA entries is deprecated. In a future version, this will no longer exclude empty or all-NA columns when determining the result dtypes. To retain the old behavior, exclude the relevant entries before the concat operation.\n",
      "\n",
      "C:\\Users\\quirosgu\\AppData\\Local\\Temp\\ipykernel_32328\\4072444705.py:9: FutureWarning:\n",
      "\n",
      "The behavior of DataFrame concatenation with empty or all-NA entries is deprecated. In a future version, this will no longer exclude empty or all-NA columns when determining the result dtypes. To retain the old behavior, exclude the relevant entries before the concat operation.\n",
      "\n",
      "C:\\Users\\quirosgu\\AppData\\Local\\Temp\\ipykernel_32328\\4072444705.py:9: FutureWarning:\n",
      "\n",
      "The behavior of DataFrame concatenation with empty or all-NA entries is deprecated. In a future version, this will no longer exclude empty or all-NA columns when determining the result dtypes. To retain the old behavior, exclude the relevant entries before the concat operation.\n",
      "\n",
      "C:\\Users\\quirosgu\\AppData\\Local\\Temp\\ipykernel_32328\\4072444705.py:9: FutureWarning:\n",
      "\n",
      "The behavior of DataFrame concatenation with empty or all-NA entries is deprecated. In a future version, this will no longer exclude empty or all-NA columns when determining the result dtypes. To retain the old behavior, exclude the relevant entries before the concat operation.\n",
      "\n",
      "C:\\Users\\quirosgu\\AppData\\Local\\Temp\\ipykernel_32328\\4072444705.py:9: FutureWarning:\n",
      "\n",
      "The behavior of DataFrame concatenation with empty or all-NA entries is deprecated. In a future version, this will no longer exclude empty or all-NA columns when determining the result dtypes. To retain the old behavior, exclude the relevant entries before the concat operation.\n",
      "\n",
      "C:\\Users\\quirosgu\\AppData\\Local\\Temp\\ipykernel_32328\\4072444705.py:9: FutureWarning:\n",
      "\n",
      "The behavior of DataFrame concatenation with empty or all-NA entries is deprecated. In a future version, this will no longer exclude empty or all-NA columns when determining the result dtypes. To retain the old behavior, exclude the relevant entries before the concat operation.\n",
      "\n",
      "C:\\Users\\quirosgu\\AppData\\Local\\Temp\\ipykernel_32328\\4072444705.py:9: FutureWarning:\n",
      "\n",
      "The behavior of DataFrame concatenation with empty or all-NA entries is deprecated. In a future version, this will no longer exclude empty or all-NA columns when determining the result dtypes. To retain the old behavior, exclude the relevant entries before the concat operation.\n",
      "\n",
      "C:\\Users\\quirosgu\\AppData\\Local\\Temp\\ipykernel_32328\\4072444705.py:9: FutureWarning:\n",
      "\n",
      "The behavior of DataFrame concatenation with empty or all-NA entries is deprecated. In a future version, this will no longer exclude empty or all-NA columns when determining the result dtypes. To retain the old behavior, exclude the relevant entries before the concat operation.\n",
      "\n",
      "C:\\Users\\quirosgu\\AppData\\Local\\Temp\\ipykernel_32328\\4072444705.py:9: FutureWarning:\n",
      "\n",
      "The behavior of DataFrame concatenation with empty or all-NA entries is deprecated. In a future version, this will no longer exclude empty or all-NA columns when determining the result dtypes. To retain the old behavior, exclude the relevant entries before the concat operation.\n",
      "\n",
      "C:\\Users\\quirosgu\\AppData\\Local\\Temp\\ipykernel_32328\\4072444705.py:9: FutureWarning:\n",
      "\n",
      "The behavior of DataFrame concatenation with empty or all-NA entries is deprecated. In a future version, this will no longer exclude empty or all-NA columns when determining the result dtypes. To retain the old behavior, exclude the relevant entries before the concat operation.\n",
      "\n",
      "C:\\Users\\quirosgu\\AppData\\Local\\Temp\\ipykernel_32328\\4072444705.py:9: FutureWarning:\n",
      "\n",
      "The behavior of DataFrame concatenation with empty or all-NA entries is deprecated. In a future version, this will no longer exclude empty or all-NA columns when determining the result dtypes. To retain the old behavior, exclude the relevant entries before the concat operation.\n",
      "\n",
      "C:\\Users\\quirosgu\\AppData\\Local\\Temp\\ipykernel_32328\\4072444705.py:9: FutureWarning:\n",
      "\n",
      "The behavior of DataFrame concatenation with empty or all-NA entries is deprecated. In a future version, this will no longer exclude empty or all-NA columns when determining the result dtypes. To retain the old behavior, exclude the relevant entries before the concat operation.\n",
      "\n",
      "C:\\Users\\quirosgu\\AppData\\Local\\Temp\\ipykernel_32328\\4072444705.py:9: FutureWarning:\n",
      "\n",
      "The behavior of DataFrame concatenation with empty or all-NA entries is deprecated. In a future version, this will no longer exclude empty or all-NA columns when determining the result dtypes. To retain the old behavior, exclude the relevant entries before the concat operation.\n",
      "\n",
      "C:\\Users\\quirosgu\\AppData\\Local\\Temp\\ipykernel_32328\\4072444705.py:9: FutureWarning:\n",
      "\n",
      "The behavior of DataFrame concatenation with empty or all-NA entries is deprecated. In a future version, this will no longer exclude empty or all-NA columns when determining the result dtypes. To retain the old behavior, exclude the relevant entries before the concat operation.\n",
      "\n",
      "C:\\Users\\quirosgu\\AppData\\Local\\Temp\\ipykernel_32328\\4072444705.py:9: FutureWarning:\n",
      "\n",
      "The behavior of DataFrame concatenation with empty or all-NA entries is deprecated. In a future version, this will no longer exclude empty or all-NA columns when determining the result dtypes. To retain the old behavior, exclude the relevant entries before the concat operation.\n",
      "\n",
      "C:\\Users\\quirosgu\\AppData\\Local\\Temp\\ipykernel_32328\\4072444705.py:9: FutureWarning:\n",
      "\n",
      "The behavior of DataFrame concatenation with empty or all-NA entries is deprecated. In a future version, this will no longer exclude empty or all-NA columns when determining the result dtypes. To retain the old behavior, exclude the relevant entries before the concat operation.\n",
      "\n",
      "C:\\Users\\quirosgu\\AppData\\Local\\Temp\\ipykernel_32328\\4072444705.py:9: FutureWarning:\n",
      "\n",
      "The behavior of DataFrame concatenation with empty or all-NA entries is deprecated. In a future version, this will no longer exclude empty or all-NA columns when determining the result dtypes. To retain the old behavior, exclude the relevant entries before the concat operation.\n",
      "\n",
      "C:\\Users\\quirosgu\\AppData\\Local\\Temp\\ipykernel_32328\\4072444705.py:9: FutureWarning:\n",
      "\n",
      "The behavior of DataFrame concatenation with empty or all-NA entries is deprecated. In a future version, this will no longer exclude empty or all-NA columns when determining the result dtypes. To retain the old behavior, exclude the relevant entries before the concat operation.\n",
      "\n",
      "C:\\Users\\quirosgu\\AppData\\Local\\Temp\\ipykernel_32328\\4072444705.py:9: FutureWarning:\n",
      "\n",
      "The behavior of DataFrame concatenation with empty or all-NA entries is deprecated. In a future version, this will no longer exclude empty or all-NA columns when determining the result dtypes. To retain the old behavior, exclude the relevant entries before the concat operation.\n",
      "\n",
      "C:\\Users\\quirosgu\\AppData\\Local\\Temp\\ipykernel_32328\\4072444705.py:9: FutureWarning:\n",
      "\n",
      "The behavior of DataFrame concatenation with empty or all-NA entries is deprecated. In a future version, this will no longer exclude empty or all-NA columns when determining the result dtypes. To retain the old behavior, exclude the relevant entries before the concat operation.\n",
      "\n",
      "C:\\Users\\quirosgu\\AppData\\Local\\Temp\\ipykernel_32328\\4072444705.py:9: FutureWarning:\n",
      "\n",
      "The behavior of DataFrame concatenation with empty or all-NA entries is deprecated. In a future version, this will no longer exclude empty or all-NA columns when determining the result dtypes. To retain the old behavior, exclude the relevant entries before the concat operation.\n",
      "\n",
      "C:\\Users\\quirosgu\\AppData\\Local\\Temp\\ipykernel_32328\\4072444705.py:9: FutureWarning:\n",
      "\n",
      "The behavior of DataFrame concatenation with empty or all-NA entries is deprecated. In a future version, this will no longer exclude empty or all-NA columns when determining the result dtypes. To retain the old behavior, exclude the relevant entries before the concat operation.\n",
      "\n",
      "C:\\Users\\quirosgu\\AppData\\Local\\Temp\\ipykernel_32328\\4072444705.py:9: FutureWarning:\n",
      "\n",
      "The behavior of DataFrame concatenation with empty or all-NA entries is deprecated. In a future version, this will no longer exclude empty or all-NA columns when determining the result dtypes. To retain the old behavior, exclude the relevant entries before the concat operation.\n",
      "\n",
      "C:\\Users\\quirosgu\\AppData\\Local\\Temp\\ipykernel_32328\\4072444705.py:9: FutureWarning:\n",
      "\n",
      "The behavior of DataFrame concatenation with empty or all-NA entries is deprecated. In a future version, this will no longer exclude empty or all-NA columns when determining the result dtypes. To retain the old behavior, exclude the relevant entries before the concat operation.\n",
      "\n",
      "C:\\Users\\quirosgu\\AppData\\Local\\Temp\\ipykernel_32328\\4072444705.py:9: FutureWarning:\n",
      "\n",
      "The behavior of DataFrame concatenation with empty or all-NA entries is deprecated. In a future version, this will no longer exclude empty or all-NA columns when determining the result dtypes. To retain the old behavior, exclude the relevant entries before the concat operation.\n",
      "\n",
      "C:\\Users\\quirosgu\\AppData\\Local\\Temp\\ipykernel_32328\\4072444705.py:9: FutureWarning:\n",
      "\n",
      "The behavior of DataFrame concatenation with empty or all-NA entries is deprecated. In a future version, this will no longer exclude empty or all-NA columns when determining the result dtypes. To retain the old behavior, exclude the relevant entries before the concat operation.\n",
      "\n",
      "C:\\Users\\quirosgu\\AppData\\Local\\Temp\\ipykernel_32328\\4072444705.py:9: FutureWarning:\n",
      "\n",
      "The behavior of DataFrame concatenation with empty or all-NA entries is deprecated. In a future version, this will no longer exclude empty or all-NA columns when determining the result dtypes. To retain the old behavior, exclude the relevant entries before the concat operation.\n",
      "\n",
      "C:\\Users\\quirosgu\\AppData\\Local\\Temp\\ipykernel_32328\\4072444705.py:9: FutureWarning:\n",
      "\n",
      "The behavior of DataFrame concatenation with empty or all-NA entries is deprecated. In a future version, this will no longer exclude empty or all-NA columns when determining the result dtypes. To retain the old behavior, exclude the relevant entries before the concat operation.\n",
      "\n",
      "C:\\Users\\quirosgu\\AppData\\Local\\Temp\\ipykernel_32328\\4072444705.py:9: FutureWarning:\n",
      "\n",
      "The behavior of DataFrame concatenation with empty or all-NA entries is deprecated. In a future version, this will no longer exclude empty or all-NA columns when determining the result dtypes. To retain the old behavior, exclude the relevant entries before the concat operation.\n",
      "\n",
      "C:\\Users\\quirosgu\\AppData\\Local\\Temp\\ipykernel_32328\\4072444705.py:9: FutureWarning:\n",
      "\n",
      "The behavior of DataFrame concatenation with empty or all-NA entries is deprecated. In a future version, this will no longer exclude empty or all-NA columns when determining the result dtypes. To retain the old behavior, exclude the relevant entries before the concat operation.\n",
      "\n",
      "C:\\Users\\quirosgu\\AppData\\Local\\Temp\\ipykernel_32328\\4072444705.py:9: FutureWarning:\n",
      "\n",
      "The behavior of DataFrame concatenation with empty or all-NA entries is deprecated. In a future version, this will no longer exclude empty or all-NA columns when determining the result dtypes. To retain the old behavior, exclude the relevant entries before the concat operation.\n",
      "\n",
      "C:\\Users\\quirosgu\\AppData\\Local\\Temp\\ipykernel_32328\\4072444705.py:9: FutureWarning:\n",
      "\n",
      "The behavior of DataFrame concatenation with empty or all-NA entries is deprecated. In a future version, this will no longer exclude empty or all-NA columns when determining the result dtypes. To retain the old behavior, exclude the relevant entries before the concat operation.\n",
      "\n",
      "C:\\Users\\quirosgu\\AppData\\Local\\Temp\\ipykernel_32328\\4072444705.py:9: FutureWarning:\n",
      "\n",
      "The behavior of DataFrame concatenation with empty or all-NA entries is deprecated. In a future version, this will no longer exclude empty or all-NA columns when determining the result dtypes. To retain the old behavior, exclude the relevant entries before the concat operation.\n",
      "\n",
      "C:\\Users\\quirosgu\\AppData\\Local\\Temp\\ipykernel_32328\\4072444705.py:9: FutureWarning:\n",
      "\n",
      "The behavior of DataFrame concatenation with empty or all-NA entries is deprecated. In a future version, this will no longer exclude empty or all-NA columns when determining the result dtypes. To retain the old behavior, exclude the relevant entries before the concat operation.\n",
      "\n",
      "C:\\Users\\quirosgu\\AppData\\Local\\Temp\\ipykernel_32328\\4072444705.py:9: FutureWarning:\n",
      "\n",
      "The behavior of DataFrame concatenation with empty or all-NA entries is deprecated. In a future version, this will no longer exclude empty or all-NA columns when determining the result dtypes. To retain the old behavior, exclude the relevant entries before the concat operation.\n",
      "\n",
      "C:\\Users\\quirosgu\\AppData\\Local\\Temp\\ipykernel_32328\\4072444705.py:9: FutureWarning:\n",
      "\n",
      "The behavior of DataFrame concatenation with empty or all-NA entries is deprecated. In a future version, this will no longer exclude empty or all-NA columns when determining the result dtypes. To retain the old behavior, exclude the relevant entries before the concat operation.\n",
      "\n",
      "C:\\Users\\quirosgu\\AppData\\Local\\Temp\\ipykernel_32328\\4072444705.py:9: FutureWarning:\n",
      "\n",
      "The behavior of DataFrame concatenation with empty or all-NA entries is deprecated. In a future version, this will no longer exclude empty or all-NA columns when determining the result dtypes. To retain the old behavior, exclude the relevant entries before the concat operation.\n",
      "\n",
      "C:\\Users\\quirosgu\\AppData\\Local\\Temp\\ipykernel_32328\\4072444705.py:9: FutureWarning:\n",
      "\n",
      "The behavior of DataFrame concatenation with empty or all-NA entries is deprecated. In a future version, this will no longer exclude empty or all-NA columns when determining the result dtypes. To retain the old behavior, exclude the relevant entries before the concat operation.\n",
      "\n",
      "C:\\Users\\quirosgu\\AppData\\Local\\Temp\\ipykernel_32328\\4072444705.py:9: FutureWarning:\n",
      "\n",
      "The behavior of DataFrame concatenation with empty or all-NA entries is deprecated. In a future version, this will no longer exclude empty or all-NA columns when determining the result dtypes. To retain the old behavior, exclude the relevant entries before the concat operation.\n",
      "\n",
      "C:\\Users\\quirosgu\\AppData\\Local\\Temp\\ipykernel_32328\\4072444705.py:9: FutureWarning:\n",
      "\n",
      "The behavior of DataFrame concatenation with empty or all-NA entries is deprecated. In a future version, this will no longer exclude empty or all-NA columns when determining the result dtypes. To retain the old behavior, exclude the relevant entries before the concat operation.\n",
      "\n",
      "C:\\Users\\quirosgu\\AppData\\Local\\Temp\\ipykernel_32328\\4072444705.py:9: FutureWarning:\n",
      "\n",
      "The behavior of DataFrame concatenation with empty or all-NA entries is deprecated. In a future version, this will no longer exclude empty or all-NA columns when determining the result dtypes. To retain the old behavior, exclude the relevant entries before the concat operation.\n",
      "\n",
      "C:\\Users\\quirosgu\\AppData\\Local\\Temp\\ipykernel_32328\\4072444705.py:9: FutureWarning:\n",
      "\n",
      "The behavior of DataFrame concatenation with empty or all-NA entries is deprecated. In a future version, this will no longer exclude empty or all-NA columns when determining the result dtypes. To retain the old behavior, exclude the relevant entries before the concat operation.\n",
      "\n",
      "C:\\Users\\quirosgu\\AppData\\Local\\Temp\\ipykernel_32328\\4072444705.py:9: FutureWarning:\n",
      "\n",
      "The behavior of DataFrame concatenation with empty or all-NA entries is deprecated. In a future version, this will no longer exclude empty or all-NA columns when determining the result dtypes. To retain the old behavior, exclude the relevant entries before the concat operation.\n",
      "\n",
      "C:\\Users\\quirosgu\\AppData\\Local\\Temp\\ipykernel_32328\\4072444705.py:9: FutureWarning:\n",
      "\n",
      "The behavior of DataFrame concatenation with empty or all-NA entries is deprecated. In a future version, this will no longer exclude empty or all-NA columns when determining the result dtypes. To retain the old behavior, exclude the relevant entries before the concat operation.\n",
      "\n",
      "C:\\Users\\quirosgu\\AppData\\Local\\Temp\\ipykernel_32328\\4072444705.py:9: FutureWarning:\n",
      "\n",
      "The behavior of DataFrame concatenation with empty or all-NA entries is deprecated. In a future version, this will no longer exclude empty or all-NA columns when determining the result dtypes. To retain the old behavior, exclude the relevant entries before the concat operation.\n",
      "\n",
      "C:\\Users\\quirosgu\\AppData\\Local\\Temp\\ipykernel_32328\\4072444705.py:9: FutureWarning:\n",
      "\n",
      "The behavior of DataFrame concatenation with empty or all-NA entries is deprecated. In a future version, this will no longer exclude empty or all-NA columns when determining the result dtypes. To retain the old behavior, exclude the relevant entries before the concat operation.\n",
      "\n",
      "C:\\Users\\quirosgu\\AppData\\Local\\Temp\\ipykernel_32328\\4072444705.py:9: FutureWarning:\n",
      "\n",
      "The behavior of DataFrame concatenation with empty or all-NA entries is deprecated. In a future version, this will no longer exclude empty or all-NA columns when determining the result dtypes. To retain the old behavior, exclude the relevant entries before the concat operation.\n",
      "\n",
      "C:\\Users\\quirosgu\\AppData\\Local\\Temp\\ipykernel_32328\\4072444705.py:9: FutureWarning:\n",
      "\n",
      "The behavior of DataFrame concatenation with empty or all-NA entries is deprecated. In a future version, this will no longer exclude empty or all-NA columns when determining the result dtypes. To retain the old behavior, exclude the relevant entries before the concat operation.\n",
      "\n",
      "C:\\Users\\quirosgu\\AppData\\Local\\Temp\\ipykernel_32328\\4072444705.py:9: FutureWarning:\n",
      "\n",
      "The behavior of DataFrame concatenation with empty or all-NA entries is deprecated. In a future version, this will no longer exclude empty or all-NA columns when determining the result dtypes. To retain the old behavior, exclude the relevant entries before the concat operation.\n",
      "\n",
      "C:\\Users\\quirosgu\\AppData\\Local\\Temp\\ipykernel_32328\\4072444705.py:9: FutureWarning:\n",
      "\n",
      "The behavior of DataFrame concatenation with empty or all-NA entries is deprecated. In a future version, this will no longer exclude empty or all-NA columns when determining the result dtypes. To retain the old behavior, exclude the relevant entries before the concat operation.\n",
      "\n",
      "C:\\Users\\quirosgu\\AppData\\Local\\Temp\\ipykernel_32328\\4072444705.py:9: FutureWarning:\n",
      "\n",
      "The behavior of DataFrame concatenation with empty or all-NA entries is deprecated. In a future version, this will no longer exclude empty or all-NA columns when determining the result dtypes. To retain the old behavior, exclude the relevant entries before the concat operation.\n",
      "\n",
      "C:\\Users\\quirosgu\\AppData\\Local\\Temp\\ipykernel_32328\\4072444705.py:9: FutureWarning:\n",
      "\n",
      "The behavior of DataFrame concatenation with empty or all-NA entries is deprecated. In a future version, this will no longer exclude empty or all-NA columns when determining the result dtypes. To retain the old behavior, exclude the relevant entries before the concat operation.\n",
      "\n",
      "C:\\Users\\quirosgu\\AppData\\Local\\Temp\\ipykernel_32328\\4072444705.py:9: FutureWarning:\n",
      "\n",
      "The behavior of DataFrame concatenation with empty or all-NA entries is deprecated. In a future version, this will no longer exclude empty or all-NA columns when determining the result dtypes. To retain the old behavior, exclude the relevant entries before the concat operation.\n",
      "\n",
      "C:\\Users\\quirosgu\\AppData\\Local\\Temp\\ipykernel_32328\\4072444705.py:9: FutureWarning:\n",
      "\n",
      "The behavior of DataFrame concatenation with empty or all-NA entries is deprecated. In a future version, this will no longer exclude empty or all-NA columns when determining the result dtypes. To retain the old behavior, exclude the relevant entries before the concat operation.\n",
      "\n",
      "C:\\Users\\quirosgu\\AppData\\Local\\Temp\\ipykernel_32328\\4072444705.py:9: FutureWarning:\n",
      "\n",
      "The behavior of DataFrame concatenation with empty or all-NA entries is deprecated. In a future version, this will no longer exclude empty or all-NA columns when determining the result dtypes. To retain the old behavior, exclude the relevant entries before the concat operation.\n",
      "\n",
      "C:\\Users\\quirosgu\\AppData\\Local\\Temp\\ipykernel_32328\\4072444705.py:9: FutureWarning:\n",
      "\n",
      "The behavior of DataFrame concatenation with empty or all-NA entries is deprecated. In a future version, this will no longer exclude empty or all-NA columns when determining the result dtypes. To retain the old behavior, exclude the relevant entries before the concat operation.\n",
      "\n",
      "C:\\Users\\quirosgu\\AppData\\Local\\Temp\\ipykernel_32328\\4072444705.py:9: FutureWarning:\n",
      "\n",
      "The behavior of DataFrame concatenation with empty or all-NA entries is deprecated. In a future version, this will no longer exclude empty or all-NA columns when determining the result dtypes. To retain the old behavior, exclude the relevant entries before the concat operation.\n",
      "\n",
      "C:\\Users\\quirosgu\\AppData\\Local\\Temp\\ipykernel_32328\\4072444705.py:9: FutureWarning:\n",
      "\n",
      "The behavior of DataFrame concatenation with empty or all-NA entries is deprecated. In a future version, this will no longer exclude empty or all-NA columns when determining the result dtypes. To retain the old behavior, exclude the relevant entries before the concat operation.\n",
      "\n",
      "C:\\Users\\quirosgu\\AppData\\Local\\Temp\\ipykernel_32328\\4072444705.py:9: FutureWarning:\n",
      "\n",
      "The behavior of DataFrame concatenation with empty or all-NA entries is deprecated. In a future version, this will no longer exclude empty or all-NA columns when determining the result dtypes. To retain the old behavior, exclude the relevant entries before the concat operation.\n",
      "\n",
      "C:\\Users\\quirosgu\\AppData\\Local\\Temp\\ipykernel_32328\\4072444705.py:9: FutureWarning:\n",
      "\n",
      "The behavior of DataFrame concatenation with empty or all-NA entries is deprecated. In a future version, this will no longer exclude empty or all-NA columns when determining the result dtypes. To retain the old behavior, exclude the relevant entries before the concat operation.\n",
      "\n",
      "C:\\Users\\quirosgu\\AppData\\Local\\Temp\\ipykernel_32328\\4072444705.py:9: FutureWarning:\n",
      "\n",
      "The behavior of DataFrame concatenation with empty or all-NA entries is deprecated. In a future version, this will no longer exclude empty or all-NA columns when determining the result dtypes. To retain the old behavior, exclude the relevant entries before the concat operation.\n",
      "\n",
      "C:\\Users\\quirosgu\\AppData\\Local\\Temp\\ipykernel_32328\\4072444705.py:9: FutureWarning:\n",
      "\n",
      "The behavior of DataFrame concatenation with empty or all-NA entries is deprecated. In a future version, this will no longer exclude empty or all-NA columns when determining the result dtypes. To retain the old behavior, exclude the relevant entries before the concat operation.\n",
      "\n",
      "C:\\Users\\quirosgu\\AppData\\Local\\Temp\\ipykernel_32328\\4072444705.py:9: FutureWarning:\n",
      "\n",
      "The behavior of DataFrame concatenation with empty or all-NA entries is deprecated. In a future version, this will no longer exclude empty or all-NA columns when determining the result dtypes. To retain the old behavior, exclude the relevant entries before the concat operation.\n",
      "\n",
      "C:\\Users\\quirosgu\\AppData\\Local\\Temp\\ipykernel_32328\\4072444705.py:9: FutureWarning:\n",
      "\n",
      "The behavior of DataFrame concatenation with empty or all-NA entries is deprecated. In a future version, this will no longer exclude empty or all-NA columns when determining the result dtypes. To retain the old behavior, exclude the relevant entries before the concat operation.\n",
      "\n",
      "C:\\Users\\quirosgu\\AppData\\Local\\Temp\\ipykernel_32328\\4072444705.py:9: FutureWarning:\n",
      "\n",
      "The behavior of DataFrame concatenation with empty or all-NA entries is deprecated. In a future version, this will no longer exclude empty or all-NA columns when determining the result dtypes. To retain the old behavior, exclude the relevant entries before the concat operation.\n",
      "\n",
      "C:\\Users\\quirosgu\\AppData\\Local\\Temp\\ipykernel_32328\\4072444705.py:9: FutureWarning:\n",
      "\n",
      "The behavior of DataFrame concatenation with empty or all-NA entries is deprecated. In a future version, this will no longer exclude empty or all-NA columns when determining the result dtypes. To retain the old behavior, exclude the relevant entries before the concat operation.\n",
      "\n",
      "C:\\Users\\quirosgu\\AppData\\Local\\Temp\\ipykernel_32328\\4072444705.py:9: FutureWarning:\n",
      "\n",
      "The behavior of DataFrame concatenation with empty or all-NA entries is deprecated. In a future version, this will no longer exclude empty or all-NA columns when determining the result dtypes. To retain the old behavior, exclude the relevant entries before the concat operation.\n",
      "\n",
      "C:\\Users\\quirosgu\\AppData\\Local\\Temp\\ipykernel_32328\\4072444705.py:9: FutureWarning:\n",
      "\n",
      "The behavior of DataFrame concatenation with empty or all-NA entries is deprecated. In a future version, this will no longer exclude empty or all-NA columns when determining the result dtypes. To retain the old behavior, exclude the relevant entries before the concat operation.\n",
      "\n",
      "C:\\Users\\quirosgu\\AppData\\Local\\Temp\\ipykernel_32328\\4072444705.py:9: FutureWarning:\n",
      "\n",
      "The behavior of DataFrame concatenation with empty or all-NA entries is deprecated. In a future version, this will no longer exclude empty or all-NA columns when determining the result dtypes. To retain the old behavior, exclude the relevant entries before the concat operation.\n",
      "\n",
      "C:\\Users\\quirosgu\\AppData\\Local\\Temp\\ipykernel_32328\\4072444705.py:9: FutureWarning:\n",
      "\n",
      "The behavior of DataFrame concatenation with empty or all-NA entries is deprecated. In a future version, this will no longer exclude empty or all-NA columns when determining the result dtypes. To retain the old behavior, exclude the relevant entries before the concat operation.\n",
      "\n",
      "C:\\Users\\quirosgu\\AppData\\Local\\Temp\\ipykernel_32328\\4072444705.py:9: FutureWarning:\n",
      "\n",
      "The behavior of DataFrame concatenation with empty or all-NA entries is deprecated. In a future version, this will no longer exclude empty or all-NA columns when determining the result dtypes. To retain the old behavior, exclude the relevant entries before the concat operation.\n",
      "\n",
      "C:\\Users\\quirosgu\\AppData\\Local\\Temp\\ipykernel_32328\\4072444705.py:9: FutureWarning:\n",
      "\n",
      "The behavior of DataFrame concatenation with empty or all-NA entries is deprecated. In a future version, this will no longer exclude empty or all-NA columns when determining the result dtypes. To retain the old behavior, exclude the relevant entries before the concat operation.\n",
      "\n",
      "C:\\Users\\quirosgu\\AppData\\Local\\Temp\\ipykernel_32328\\4072444705.py:9: FutureWarning:\n",
      "\n",
      "The behavior of DataFrame concatenation with empty or all-NA entries is deprecated. In a future version, this will no longer exclude empty or all-NA columns when determining the result dtypes. To retain the old behavior, exclude the relevant entries before the concat operation.\n",
      "\n",
      "C:\\Users\\quirosgu\\AppData\\Local\\Temp\\ipykernel_32328\\4072444705.py:9: FutureWarning:\n",
      "\n",
      "The behavior of DataFrame concatenation with empty or all-NA entries is deprecated. In a future version, this will no longer exclude empty or all-NA columns when determining the result dtypes. To retain the old behavior, exclude the relevant entries before the concat operation.\n",
      "\n",
      "C:\\Users\\quirosgu\\AppData\\Local\\Temp\\ipykernel_32328\\4072444705.py:9: FutureWarning:\n",
      "\n",
      "The behavior of DataFrame concatenation with empty or all-NA entries is deprecated. In a future version, this will no longer exclude empty or all-NA columns when determining the result dtypes. To retain the old behavior, exclude the relevant entries before the concat operation.\n",
      "\n",
      "C:\\Users\\quirosgu\\AppData\\Local\\Temp\\ipykernel_32328\\4072444705.py:9: FutureWarning:\n",
      "\n",
      "The behavior of DataFrame concatenation with empty or all-NA entries is deprecated. In a future version, this will no longer exclude empty or all-NA columns when determining the result dtypes. To retain the old behavior, exclude the relevant entries before the concat operation.\n",
      "\n",
      "C:\\Users\\quirosgu\\AppData\\Local\\Temp\\ipykernel_32328\\4072444705.py:9: FutureWarning:\n",
      "\n",
      "The behavior of DataFrame concatenation with empty or all-NA entries is deprecated. In a future version, this will no longer exclude empty or all-NA columns when determining the result dtypes. To retain the old behavior, exclude the relevant entries before the concat operation.\n",
      "\n",
      "C:\\Users\\quirosgu\\AppData\\Local\\Temp\\ipykernel_32328\\4072444705.py:9: FutureWarning:\n",
      "\n",
      "The behavior of DataFrame concatenation with empty or all-NA entries is deprecated. In a future version, this will no longer exclude empty or all-NA columns when determining the result dtypes. To retain the old behavior, exclude the relevant entries before the concat operation.\n",
      "\n",
      "C:\\Users\\quirosgu\\AppData\\Local\\Temp\\ipykernel_32328\\4072444705.py:9: FutureWarning:\n",
      "\n",
      "The behavior of DataFrame concatenation with empty or all-NA entries is deprecated. In a future version, this will no longer exclude empty or all-NA columns when determining the result dtypes. To retain the old behavior, exclude the relevant entries before the concat operation.\n",
      "\n",
      "C:\\Users\\quirosgu\\AppData\\Local\\Temp\\ipykernel_32328\\4072444705.py:9: FutureWarning:\n",
      "\n",
      "The behavior of DataFrame concatenation with empty or all-NA entries is deprecated. In a future version, this will no longer exclude empty or all-NA columns when determining the result dtypes. To retain the old behavior, exclude the relevant entries before the concat operation.\n",
      "\n",
      "C:\\Users\\quirosgu\\AppData\\Local\\Temp\\ipykernel_32328\\4072444705.py:9: FutureWarning:\n",
      "\n",
      "The behavior of DataFrame concatenation with empty or all-NA entries is deprecated. In a future version, this will no longer exclude empty or all-NA columns when determining the result dtypes. To retain the old behavior, exclude the relevant entries before the concat operation.\n",
      "\n",
      "C:\\Users\\quirosgu\\AppData\\Local\\Temp\\ipykernel_32328\\4072444705.py:9: FutureWarning:\n",
      "\n",
      "The behavior of DataFrame concatenation with empty or all-NA entries is deprecated. In a future version, this will no longer exclude empty or all-NA columns when determining the result dtypes. To retain the old behavior, exclude the relevant entries before the concat operation.\n",
      "\n",
      "C:\\Users\\quirosgu\\AppData\\Local\\Temp\\ipykernel_32328\\4072444705.py:9: FutureWarning:\n",
      "\n",
      "The behavior of DataFrame concatenation with empty or all-NA entries is deprecated. In a future version, this will no longer exclude empty or all-NA columns when determining the result dtypes. To retain the old behavior, exclude the relevant entries before the concat operation.\n",
      "\n",
      "C:\\Users\\quirosgu\\AppData\\Local\\Temp\\ipykernel_32328\\4072444705.py:9: FutureWarning:\n",
      "\n",
      "The behavior of DataFrame concatenation with empty or all-NA entries is deprecated. In a future version, this will no longer exclude empty or all-NA columns when determining the result dtypes. To retain the old behavior, exclude the relevant entries before the concat operation.\n",
      "\n",
      "C:\\Users\\quirosgu\\AppData\\Local\\Temp\\ipykernel_32328\\4072444705.py:9: FutureWarning:\n",
      "\n",
      "The behavior of DataFrame concatenation with empty or all-NA entries is deprecated. In a future version, this will no longer exclude empty or all-NA columns when determining the result dtypes. To retain the old behavior, exclude the relevant entries before the concat operation.\n",
      "\n",
      "C:\\Users\\quirosgu\\AppData\\Local\\Temp\\ipykernel_32328\\4072444705.py:9: FutureWarning:\n",
      "\n",
      "The behavior of DataFrame concatenation with empty or all-NA entries is deprecated. In a future version, this will no longer exclude empty or all-NA columns when determining the result dtypes. To retain the old behavior, exclude the relevant entries before the concat operation.\n",
      "\n",
      "C:\\Users\\quirosgu\\AppData\\Local\\Temp\\ipykernel_32328\\4072444705.py:9: FutureWarning:\n",
      "\n",
      "The behavior of DataFrame concatenation with empty or all-NA entries is deprecated. In a future version, this will no longer exclude empty or all-NA columns when determining the result dtypes. To retain the old behavior, exclude the relevant entries before the concat operation.\n",
      "\n",
      "C:\\Users\\quirosgu\\AppData\\Local\\Temp\\ipykernel_32328\\4072444705.py:9: FutureWarning:\n",
      "\n",
      "The behavior of DataFrame concatenation with empty or all-NA entries is deprecated. In a future version, this will no longer exclude empty or all-NA columns when determining the result dtypes. To retain the old behavior, exclude the relevant entries before the concat operation.\n",
      "\n",
      "C:\\Users\\quirosgu\\AppData\\Local\\Temp\\ipykernel_32328\\4072444705.py:9: FutureWarning:\n",
      "\n",
      "The behavior of DataFrame concatenation with empty or all-NA entries is deprecated. In a future version, this will no longer exclude empty or all-NA columns when determining the result dtypes. To retain the old behavior, exclude the relevant entries before the concat operation.\n",
      "\n",
      "C:\\Users\\quirosgu\\AppData\\Local\\Temp\\ipykernel_32328\\4072444705.py:9: FutureWarning:\n",
      "\n",
      "The behavior of DataFrame concatenation with empty or all-NA entries is deprecated. In a future version, this will no longer exclude empty or all-NA columns when determining the result dtypes. To retain the old behavior, exclude the relevant entries before the concat operation.\n",
      "\n",
      "C:\\Users\\quirosgu\\AppData\\Local\\Temp\\ipykernel_32328\\4072444705.py:9: FutureWarning:\n",
      "\n",
      "The behavior of DataFrame concatenation with empty or all-NA entries is deprecated. In a future version, this will no longer exclude empty or all-NA columns when determining the result dtypes. To retain the old behavior, exclude the relevant entries before the concat operation.\n",
      "\n",
      "C:\\Users\\quirosgu\\AppData\\Local\\Temp\\ipykernel_32328\\4072444705.py:9: FutureWarning:\n",
      "\n",
      "The behavior of DataFrame concatenation with empty or all-NA entries is deprecated. In a future version, this will no longer exclude empty or all-NA columns when determining the result dtypes. To retain the old behavior, exclude the relevant entries before the concat operation.\n",
      "\n",
      "C:\\Users\\quirosgu\\AppData\\Local\\Temp\\ipykernel_32328\\4072444705.py:9: FutureWarning:\n",
      "\n",
      "The behavior of DataFrame concatenation with empty or all-NA entries is deprecated. In a future version, this will no longer exclude empty or all-NA columns when determining the result dtypes. To retain the old behavior, exclude the relevant entries before the concat operation.\n",
      "\n",
      "C:\\Users\\quirosgu\\AppData\\Local\\Temp\\ipykernel_32328\\4072444705.py:9: FutureWarning:\n",
      "\n",
      "The behavior of DataFrame concatenation with empty or all-NA entries is deprecated. In a future version, this will no longer exclude empty or all-NA columns when determining the result dtypes. To retain the old behavior, exclude the relevant entries before the concat operation.\n",
      "\n",
      "C:\\Users\\quirosgu\\AppData\\Local\\Temp\\ipykernel_32328\\4072444705.py:9: FutureWarning:\n",
      "\n",
      "The behavior of DataFrame concatenation with empty or all-NA entries is deprecated. In a future version, this will no longer exclude empty or all-NA columns when determining the result dtypes. To retain the old behavior, exclude the relevant entries before the concat operation.\n",
      "\n",
      "C:\\Users\\quirosgu\\AppData\\Local\\Temp\\ipykernel_32328\\4072444705.py:9: FutureWarning:\n",
      "\n",
      "The behavior of DataFrame concatenation with empty or all-NA entries is deprecated. In a future version, this will no longer exclude empty or all-NA columns when determining the result dtypes. To retain the old behavior, exclude the relevant entries before the concat operation.\n",
      "\n",
      "C:\\Users\\quirosgu\\AppData\\Local\\Temp\\ipykernel_32328\\4072444705.py:9: FutureWarning:\n",
      "\n",
      "The behavior of DataFrame concatenation with empty or all-NA entries is deprecated. In a future version, this will no longer exclude empty or all-NA columns when determining the result dtypes. To retain the old behavior, exclude the relevant entries before the concat operation.\n",
      "\n",
      "C:\\Users\\quirosgu\\AppData\\Local\\Temp\\ipykernel_32328\\4072444705.py:9: FutureWarning:\n",
      "\n",
      "The behavior of DataFrame concatenation with empty or all-NA entries is deprecated. In a future version, this will no longer exclude empty or all-NA columns when determining the result dtypes. To retain the old behavior, exclude the relevant entries before the concat operation.\n",
      "\n",
      "C:\\Users\\quirosgu\\AppData\\Local\\Temp\\ipykernel_32328\\4072444705.py:9: FutureWarning:\n",
      "\n",
      "The behavior of DataFrame concatenation with empty or all-NA entries is deprecated. In a future version, this will no longer exclude empty or all-NA columns when determining the result dtypes. To retain the old behavior, exclude the relevant entries before the concat operation.\n",
      "\n",
      "C:\\Users\\quirosgu\\AppData\\Local\\Temp\\ipykernel_32328\\4072444705.py:9: FutureWarning:\n",
      "\n",
      "The behavior of DataFrame concatenation with empty or all-NA entries is deprecated. In a future version, this will no longer exclude empty or all-NA columns when determining the result dtypes. To retain the old behavior, exclude the relevant entries before the concat operation.\n",
      "\n",
      "C:\\Users\\quirosgu\\AppData\\Local\\Temp\\ipykernel_32328\\4072444705.py:9: FutureWarning:\n",
      "\n",
      "The behavior of DataFrame concatenation with empty or all-NA entries is deprecated. In a future version, this will no longer exclude empty or all-NA columns when determining the result dtypes. To retain the old behavior, exclude the relevant entries before the concat operation.\n",
      "\n",
      "C:\\Users\\quirosgu\\AppData\\Local\\Temp\\ipykernel_32328\\4072444705.py:9: FutureWarning:\n",
      "\n",
      "The behavior of DataFrame concatenation with empty or all-NA entries is deprecated. In a future version, this will no longer exclude empty or all-NA columns when determining the result dtypes. To retain the old behavior, exclude the relevant entries before the concat operation.\n",
      "\n",
      "C:\\Users\\quirosgu\\AppData\\Local\\Temp\\ipykernel_32328\\4072444705.py:9: FutureWarning:\n",
      "\n",
      "The behavior of DataFrame concatenation with empty or all-NA entries is deprecated. In a future version, this will no longer exclude empty or all-NA columns when determining the result dtypes. To retain the old behavior, exclude the relevant entries before the concat operation.\n",
      "\n",
      "C:\\Users\\quirosgu\\AppData\\Local\\Temp\\ipykernel_32328\\4072444705.py:9: FutureWarning:\n",
      "\n",
      "The behavior of DataFrame concatenation with empty or all-NA entries is deprecated. In a future version, this will no longer exclude empty or all-NA columns when determining the result dtypes. To retain the old behavior, exclude the relevant entries before the concat operation.\n",
      "\n",
      "C:\\Users\\quirosgu\\AppData\\Local\\Temp\\ipykernel_32328\\4072444705.py:9: FutureWarning:\n",
      "\n",
      "The behavior of DataFrame concatenation with empty or all-NA entries is deprecated. In a future version, this will no longer exclude empty or all-NA columns when determining the result dtypes. To retain the old behavior, exclude the relevant entries before the concat operation.\n",
      "\n",
      "C:\\Users\\quirosgu\\AppData\\Local\\Temp\\ipykernel_32328\\4072444705.py:9: FutureWarning:\n",
      "\n",
      "The behavior of DataFrame concatenation with empty or all-NA entries is deprecated. In a future version, this will no longer exclude empty or all-NA columns when determining the result dtypes. To retain the old behavior, exclude the relevant entries before the concat operation.\n",
      "\n",
      "C:\\Users\\quirosgu\\AppData\\Local\\Temp\\ipykernel_32328\\4072444705.py:9: FutureWarning:\n",
      "\n",
      "The behavior of DataFrame concatenation with empty or all-NA entries is deprecated. In a future version, this will no longer exclude empty or all-NA columns when determining the result dtypes. To retain the old behavior, exclude the relevant entries before the concat operation.\n",
      "\n",
      "C:\\Users\\quirosgu\\AppData\\Local\\Temp\\ipykernel_32328\\4072444705.py:9: FutureWarning:\n",
      "\n",
      "The behavior of DataFrame concatenation with empty or all-NA entries is deprecated. In a future version, this will no longer exclude empty or all-NA columns when determining the result dtypes. To retain the old behavior, exclude the relevant entries before the concat operation.\n",
      "\n",
      "C:\\Users\\quirosgu\\AppData\\Local\\Temp\\ipykernel_32328\\4072444705.py:9: FutureWarning:\n",
      "\n",
      "The behavior of DataFrame concatenation with empty or all-NA entries is deprecated. In a future version, this will no longer exclude empty or all-NA columns when determining the result dtypes. To retain the old behavior, exclude the relevant entries before the concat operation.\n",
      "\n",
      "C:\\Users\\quirosgu\\AppData\\Local\\Temp\\ipykernel_32328\\4072444705.py:9: FutureWarning:\n",
      "\n",
      "The behavior of DataFrame concatenation with empty or all-NA entries is deprecated. In a future version, this will no longer exclude empty or all-NA columns when determining the result dtypes. To retain the old behavior, exclude the relevant entries before the concat operation.\n",
      "\n",
      "C:\\Users\\quirosgu\\AppData\\Local\\Temp\\ipykernel_32328\\4072444705.py:9: FutureWarning:\n",
      "\n",
      "The behavior of DataFrame concatenation with empty or all-NA entries is deprecated. In a future version, this will no longer exclude empty or all-NA columns when determining the result dtypes. To retain the old behavior, exclude the relevant entries before the concat operation.\n",
      "\n",
      "C:\\Users\\quirosgu\\AppData\\Local\\Temp\\ipykernel_32328\\4072444705.py:9: FutureWarning:\n",
      "\n",
      "The behavior of DataFrame concatenation with empty or all-NA entries is deprecated. In a future version, this will no longer exclude empty or all-NA columns when determining the result dtypes. To retain the old behavior, exclude the relevant entries before the concat operation.\n",
      "\n",
      "C:\\Users\\quirosgu\\AppData\\Local\\Temp\\ipykernel_32328\\4072444705.py:9: FutureWarning:\n",
      "\n",
      "The behavior of DataFrame concatenation with empty or all-NA entries is deprecated. In a future version, this will no longer exclude empty or all-NA columns when determining the result dtypes. To retain the old behavior, exclude the relevant entries before the concat operation.\n",
      "\n",
      "C:\\Users\\quirosgu\\AppData\\Local\\Temp\\ipykernel_32328\\4072444705.py:9: FutureWarning:\n",
      "\n",
      "The behavior of DataFrame concatenation with empty or all-NA entries is deprecated. In a future version, this will no longer exclude empty or all-NA columns when determining the result dtypes. To retain the old behavior, exclude the relevant entries before the concat operation.\n",
      "\n",
      "C:\\Users\\quirosgu\\AppData\\Local\\Temp\\ipykernel_32328\\4072444705.py:9: FutureWarning:\n",
      "\n",
      "The behavior of DataFrame concatenation with empty or all-NA entries is deprecated. In a future version, this will no longer exclude empty or all-NA columns when determining the result dtypes. To retain the old behavior, exclude the relevant entries before the concat operation.\n",
      "\n",
      "C:\\Users\\quirosgu\\AppData\\Local\\Temp\\ipykernel_32328\\4072444705.py:9: FutureWarning:\n",
      "\n",
      "The behavior of DataFrame concatenation with empty or all-NA entries is deprecated. In a future version, this will no longer exclude empty or all-NA columns when determining the result dtypes. To retain the old behavior, exclude the relevant entries before the concat operation.\n",
      "\n",
      "C:\\Users\\quirosgu\\AppData\\Local\\Temp\\ipykernel_32328\\4072444705.py:9: FutureWarning:\n",
      "\n",
      "The behavior of DataFrame concatenation with empty or all-NA entries is deprecated. In a future version, this will no longer exclude empty or all-NA columns when determining the result dtypes. To retain the old behavior, exclude the relevant entries before the concat operation.\n",
      "\n",
      "C:\\Users\\quirosgu\\AppData\\Local\\Temp\\ipykernel_32328\\4072444705.py:9: FutureWarning:\n",
      "\n",
      "The behavior of DataFrame concatenation with empty or all-NA entries is deprecated. In a future version, this will no longer exclude empty or all-NA columns when determining the result dtypes. To retain the old behavior, exclude the relevant entries before the concat operation.\n",
      "\n",
      "C:\\Users\\quirosgu\\AppData\\Local\\Temp\\ipykernel_32328\\4072444705.py:9: FutureWarning:\n",
      "\n",
      "The behavior of DataFrame concatenation with empty or all-NA entries is deprecated. In a future version, this will no longer exclude empty or all-NA columns when determining the result dtypes. To retain the old behavior, exclude the relevant entries before the concat operation.\n",
      "\n",
      "C:\\Users\\quirosgu\\AppData\\Local\\Temp\\ipykernel_32328\\4072444705.py:9: FutureWarning:\n",
      "\n",
      "The behavior of DataFrame concatenation with empty or all-NA entries is deprecated. In a future version, this will no longer exclude empty or all-NA columns when determining the result dtypes. To retain the old behavior, exclude the relevant entries before the concat operation.\n",
      "\n",
      "C:\\Users\\quirosgu\\AppData\\Local\\Temp\\ipykernel_32328\\4072444705.py:9: FutureWarning:\n",
      "\n",
      "The behavior of DataFrame concatenation with empty or all-NA entries is deprecated. In a future version, this will no longer exclude empty or all-NA columns when determining the result dtypes. To retain the old behavior, exclude the relevant entries before the concat operation.\n",
      "\n",
      "C:\\Users\\quirosgu\\AppData\\Local\\Temp\\ipykernel_32328\\4072444705.py:9: FutureWarning:\n",
      "\n",
      "The behavior of DataFrame concatenation with empty or all-NA entries is deprecated. In a future version, this will no longer exclude empty or all-NA columns when determining the result dtypes. To retain the old behavior, exclude the relevant entries before the concat operation.\n",
      "\n",
      "C:\\Users\\quirosgu\\AppData\\Local\\Temp\\ipykernel_32328\\4072444705.py:9: FutureWarning:\n",
      "\n",
      "The behavior of DataFrame concatenation with empty or all-NA entries is deprecated. In a future version, this will no longer exclude empty or all-NA columns when determining the result dtypes. To retain the old behavior, exclude the relevant entries before the concat operation.\n",
      "\n",
      "C:\\Users\\quirosgu\\AppData\\Local\\Temp\\ipykernel_32328\\4072444705.py:9: FutureWarning:\n",
      "\n",
      "The behavior of DataFrame concatenation with empty or all-NA entries is deprecated. In a future version, this will no longer exclude empty or all-NA columns when determining the result dtypes. To retain the old behavior, exclude the relevant entries before the concat operation.\n",
      "\n",
      "C:\\Users\\quirosgu\\AppData\\Local\\Temp\\ipykernel_32328\\4072444705.py:9: FutureWarning:\n",
      "\n",
      "The behavior of DataFrame concatenation with empty or all-NA entries is deprecated. In a future version, this will no longer exclude empty or all-NA columns when determining the result dtypes. To retain the old behavior, exclude the relevant entries before the concat operation.\n",
      "\n",
      "C:\\Users\\quirosgu\\AppData\\Local\\Temp\\ipykernel_32328\\4072444705.py:9: FutureWarning:\n",
      "\n",
      "The behavior of DataFrame concatenation with empty or all-NA entries is deprecated. In a future version, this will no longer exclude empty or all-NA columns when determining the result dtypes. To retain the old behavior, exclude the relevant entries before the concat operation.\n",
      "\n",
      "C:\\Users\\quirosgu\\AppData\\Local\\Temp\\ipykernel_32328\\4072444705.py:9: FutureWarning:\n",
      "\n",
      "The behavior of DataFrame concatenation with empty or all-NA entries is deprecated. In a future version, this will no longer exclude empty or all-NA columns when determining the result dtypes. To retain the old behavior, exclude the relevant entries before the concat operation.\n",
      "\n",
      "C:\\Users\\quirosgu\\AppData\\Local\\Temp\\ipykernel_32328\\4072444705.py:9: FutureWarning:\n",
      "\n",
      "The behavior of DataFrame concatenation with empty or all-NA entries is deprecated. In a future version, this will no longer exclude empty or all-NA columns when determining the result dtypes. To retain the old behavior, exclude the relevant entries before the concat operation.\n",
      "\n",
      "C:\\Users\\quirosgu\\AppData\\Local\\Temp\\ipykernel_32328\\4072444705.py:9: FutureWarning:\n",
      "\n",
      "The behavior of DataFrame concatenation with empty or all-NA entries is deprecated. In a future version, this will no longer exclude empty or all-NA columns when determining the result dtypes. To retain the old behavior, exclude the relevant entries before the concat operation.\n",
      "\n",
      "C:\\Users\\quirosgu\\AppData\\Local\\Temp\\ipykernel_32328\\4072444705.py:9: FutureWarning:\n",
      "\n",
      "The behavior of DataFrame concatenation with empty or all-NA entries is deprecated. In a future version, this will no longer exclude empty or all-NA columns when determining the result dtypes. To retain the old behavior, exclude the relevant entries before the concat operation.\n",
      "\n",
      "C:\\Users\\quirosgu\\AppData\\Local\\Temp\\ipykernel_32328\\4072444705.py:9: FutureWarning:\n",
      "\n",
      "The behavior of DataFrame concatenation with empty or all-NA entries is deprecated. In a future version, this will no longer exclude empty or all-NA columns when determining the result dtypes. To retain the old behavior, exclude the relevant entries before the concat operation.\n",
      "\n",
      "C:\\Users\\quirosgu\\AppData\\Local\\Temp\\ipykernel_32328\\4072444705.py:9: FutureWarning:\n",
      "\n",
      "The behavior of DataFrame concatenation with empty or all-NA entries is deprecated. In a future version, this will no longer exclude empty or all-NA columns when determining the result dtypes. To retain the old behavior, exclude the relevant entries before the concat operation.\n",
      "\n",
      "C:\\Users\\quirosgu\\AppData\\Local\\Temp\\ipykernel_32328\\4072444705.py:9: FutureWarning:\n",
      "\n",
      "The behavior of DataFrame concatenation with empty or all-NA entries is deprecated. In a future version, this will no longer exclude empty or all-NA columns when determining the result dtypes. To retain the old behavior, exclude the relevant entries before the concat operation.\n",
      "\n",
      "C:\\Users\\quirosgu\\AppData\\Local\\Temp\\ipykernel_32328\\4072444705.py:9: FutureWarning:\n",
      "\n",
      "The behavior of DataFrame concatenation with empty or all-NA entries is deprecated. In a future version, this will no longer exclude empty or all-NA columns when determining the result dtypes. To retain the old behavior, exclude the relevant entries before the concat operation.\n",
      "\n",
      "C:\\Users\\quirosgu\\AppData\\Local\\Temp\\ipykernel_32328\\4072444705.py:9: FutureWarning:\n",
      "\n",
      "The behavior of DataFrame concatenation with empty or all-NA entries is deprecated. In a future version, this will no longer exclude empty or all-NA columns when determining the result dtypes. To retain the old behavior, exclude the relevant entries before the concat operation.\n",
      "\n",
      "C:\\Users\\quirosgu\\AppData\\Local\\Temp\\ipykernel_32328\\4072444705.py:9: FutureWarning:\n",
      "\n",
      "The behavior of DataFrame concatenation with empty or all-NA entries is deprecated. In a future version, this will no longer exclude empty or all-NA columns when determining the result dtypes. To retain the old behavior, exclude the relevant entries before the concat operation.\n",
      "\n",
      "C:\\Users\\quirosgu\\AppData\\Local\\Temp\\ipykernel_32328\\4072444705.py:9: FutureWarning:\n",
      "\n",
      "The behavior of DataFrame concatenation with empty or all-NA entries is deprecated. In a future version, this will no longer exclude empty or all-NA columns when determining the result dtypes. To retain the old behavior, exclude the relevant entries before the concat operation.\n",
      "\n",
      "C:\\Users\\quirosgu\\AppData\\Local\\Temp\\ipykernel_32328\\4072444705.py:9: FutureWarning:\n",
      "\n",
      "The behavior of DataFrame concatenation with empty or all-NA entries is deprecated. In a future version, this will no longer exclude empty or all-NA columns when determining the result dtypes. To retain the old behavior, exclude the relevant entries before the concat operation.\n",
      "\n",
      "C:\\Users\\quirosgu\\AppData\\Local\\Temp\\ipykernel_32328\\4072444705.py:9: FutureWarning:\n",
      "\n",
      "The behavior of DataFrame concatenation with empty or all-NA entries is deprecated. In a future version, this will no longer exclude empty or all-NA columns when determining the result dtypes. To retain the old behavior, exclude the relevant entries before the concat operation.\n",
      "\n",
      "C:\\Users\\quirosgu\\AppData\\Local\\Temp\\ipykernel_32328\\4072444705.py:9: FutureWarning:\n",
      "\n",
      "The behavior of DataFrame concatenation with empty or all-NA entries is deprecated. In a future version, this will no longer exclude empty or all-NA columns when determining the result dtypes. To retain the old behavior, exclude the relevant entries before the concat operation.\n",
      "\n",
      "C:\\Users\\quirosgu\\AppData\\Local\\Temp\\ipykernel_32328\\4072444705.py:9: FutureWarning:\n",
      "\n",
      "The behavior of DataFrame concatenation with empty or all-NA entries is deprecated. In a future version, this will no longer exclude empty or all-NA columns when determining the result dtypes. To retain the old behavior, exclude the relevant entries before the concat operation.\n",
      "\n",
      "C:\\Users\\quirosgu\\AppData\\Local\\Temp\\ipykernel_32328\\4072444705.py:9: FutureWarning:\n",
      "\n",
      "The behavior of DataFrame concatenation with empty or all-NA entries is deprecated. In a future version, this will no longer exclude empty or all-NA columns when determining the result dtypes. To retain the old behavior, exclude the relevant entries before the concat operation.\n",
      "\n",
      "C:\\Users\\quirosgu\\AppData\\Local\\Temp\\ipykernel_32328\\4072444705.py:9: FutureWarning:\n",
      "\n",
      "The behavior of DataFrame concatenation with empty or all-NA entries is deprecated. In a future version, this will no longer exclude empty or all-NA columns when determining the result dtypes. To retain the old behavior, exclude the relevant entries before the concat operation.\n",
      "\n",
      "C:\\Users\\quirosgu\\AppData\\Local\\Temp\\ipykernel_32328\\4072444705.py:9: FutureWarning:\n",
      "\n",
      "The behavior of DataFrame concatenation with empty or all-NA entries is deprecated. In a future version, this will no longer exclude empty or all-NA columns when determining the result dtypes. To retain the old behavior, exclude the relevant entries before the concat operation.\n",
      "\n",
      "C:\\Users\\quirosgu\\AppData\\Local\\Temp\\ipykernel_32328\\4072444705.py:9: FutureWarning:\n",
      "\n",
      "The behavior of DataFrame concatenation with empty or all-NA entries is deprecated. In a future version, this will no longer exclude empty or all-NA columns when determining the result dtypes. To retain the old behavior, exclude the relevant entries before the concat operation.\n",
      "\n",
      "C:\\Users\\quirosgu\\AppData\\Local\\Temp\\ipykernel_32328\\4072444705.py:9: FutureWarning:\n",
      "\n",
      "The behavior of DataFrame concatenation with empty or all-NA entries is deprecated. In a future version, this will no longer exclude empty or all-NA columns when determining the result dtypes. To retain the old behavior, exclude the relevant entries before the concat operation.\n",
      "\n",
      "C:\\Users\\quirosgu\\AppData\\Local\\Temp\\ipykernel_32328\\4072444705.py:9: FutureWarning:\n",
      "\n",
      "The behavior of DataFrame concatenation with empty or all-NA entries is deprecated. In a future version, this will no longer exclude empty or all-NA columns when determining the result dtypes. To retain the old behavior, exclude the relevant entries before the concat operation.\n",
      "\n",
      "C:\\Users\\quirosgu\\AppData\\Local\\Temp\\ipykernel_32328\\4072444705.py:9: FutureWarning:\n",
      "\n",
      "The behavior of DataFrame concatenation with empty or all-NA entries is deprecated. In a future version, this will no longer exclude empty or all-NA columns when determining the result dtypes. To retain the old behavior, exclude the relevant entries before the concat operation.\n",
      "\n",
      "C:\\Users\\quirosgu\\AppData\\Local\\Temp\\ipykernel_32328\\4072444705.py:9: FutureWarning:\n",
      "\n",
      "The behavior of DataFrame concatenation with empty or all-NA entries is deprecated. In a future version, this will no longer exclude empty or all-NA columns when determining the result dtypes. To retain the old behavior, exclude the relevant entries before the concat operation.\n",
      "\n",
      "C:\\Users\\quirosgu\\AppData\\Local\\Temp\\ipykernel_32328\\4072444705.py:9: FutureWarning:\n",
      "\n",
      "The behavior of DataFrame concatenation with empty or all-NA entries is deprecated. In a future version, this will no longer exclude empty or all-NA columns when determining the result dtypes. To retain the old behavior, exclude the relevant entries before the concat operation.\n",
      "\n",
      "C:\\Users\\quirosgu\\AppData\\Local\\Temp\\ipykernel_32328\\4072444705.py:9: FutureWarning:\n",
      "\n",
      "The behavior of DataFrame concatenation with empty or all-NA entries is deprecated. In a future version, this will no longer exclude empty or all-NA columns when determining the result dtypes. To retain the old behavior, exclude the relevant entries before the concat operation.\n",
      "\n",
      "C:\\Users\\quirosgu\\AppData\\Local\\Temp\\ipykernel_32328\\4072444705.py:9: FutureWarning:\n",
      "\n",
      "The behavior of DataFrame concatenation with empty or all-NA entries is deprecated. In a future version, this will no longer exclude empty or all-NA columns when determining the result dtypes. To retain the old behavior, exclude the relevant entries before the concat operation.\n",
      "\n",
      "C:\\Users\\quirosgu\\AppData\\Local\\Temp\\ipykernel_32328\\4072444705.py:9: FutureWarning:\n",
      "\n",
      "The behavior of DataFrame concatenation with empty or all-NA entries is deprecated. In a future version, this will no longer exclude empty or all-NA columns when determining the result dtypes. To retain the old behavior, exclude the relevant entries before the concat operation.\n",
      "\n",
      "C:\\Users\\quirosgu\\AppData\\Local\\Temp\\ipykernel_32328\\4072444705.py:9: FutureWarning:\n",
      "\n",
      "The behavior of DataFrame concatenation with empty or all-NA entries is deprecated. In a future version, this will no longer exclude empty or all-NA columns when determining the result dtypes. To retain the old behavior, exclude the relevant entries before the concat operation.\n",
      "\n",
      "C:\\Users\\quirosgu\\AppData\\Local\\Temp\\ipykernel_32328\\4072444705.py:9: FutureWarning:\n",
      "\n",
      "The behavior of DataFrame concatenation with empty or all-NA entries is deprecated. In a future version, this will no longer exclude empty or all-NA columns when determining the result dtypes. To retain the old behavior, exclude the relevant entries before the concat operation.\n",
      "\n",
      "C:\\Users\\quirosgu\\AppData\\Local\\Temp\\ipykernel_32328\\4072444705.py:9: FutureWarning:\n",
      "\n",
      "The behavior of DataFrame concatenation with empty or all-NA entries is deprecated. In a future version, this will no longer exclude empty or all-NA columns when determining the result dtypes. To retain the old behavior, exclude the relevant entries before the concat operation.\n",
      "\n",
      "C:\\Users\\quirosgu\\AppData\\Local\\Temp\\ipykernel_32328\\4072444705.py:9: FutureWarning:\n",
      "\n",
      "The behavior of DataFrame concatenation with empty or all-NA entries is deprecated. In a future version, this will no longer exclude empty or all-NA columns when determining the result dtypes. To retain the old behavior, exclude the relevant entries before the concat operation.\n",
      "\n",
      "C:\\Users\\quirosgu\\AppData\\Local\\Temp\\ipykernel_32328\\4072444705.py:9: FutureWarning:\n",
      "\n",
      "The behavior of DataFrame concatenation with empty or all-NA entries is deprecated. In a future version, this will no longer exclude empty or all-NA columns when determining the result dtypes. To retain the old behavior, exclude the relevant entries before the concat operation.\n",
      "\n",
      "C:\\Users\\quirosgu\\AppData\\Local\\Temp\\ipykernel_32328\\4072444705.py:9: FutureWarning:\n",
      "\n",
      "The behavior of DataFrame concatenation with empty or all-NA entries is deprecated. In a future version, this will no longer exclude empty or all-NA columns when determining the result dtypes. To retain the old behavior, exclude the relevant entries before the concat operation.\n",
      "\n",
      "C:\\Users\\quirosgu\\AppData\\Local\\Temp\\ipykernel_32328\\4072444705.py:9: FutureWarning:\n",
      "\n",
      "The behavior of DataFrame concatenation with empty or all-NA entries is deprecated. In a future version, this will no longer exclude empty or all-NA columns when determining the result dtypes. To retain the old behavior, exclude the relevant entries before the concat operation.\n",
      "\n",
      "C:\\Users\\quirosgu\\AppData\\Local\\Temp\\ipykernel_32328\\4072444705.py:9: FutureWarning:\n",
      "\n",
      "The behavior of DataFrame concatenation with empty or all-NA entries is deprecated. In a future version, this will no longer exclude empty or all-NA columns when determining the result dtypes. To retain the old behavior, exclude the relevant entries before the concat operation.\n",
      "\n",
      "C:\\Users\\quirosgu\\AppData\\Local\\Temp\\ipykernel_32328\\4072444705.py:9: FutureWarning:\n",
      "\n",
      "The behavior of DataFrame concatenation with empty or all-NA entries is deprecated. In a future version, this will no longer exclude empty or all-NA columns when determining the result dtypes. To retain the old behavior, exclude the relevant entries before the concat operation.\n",
      "\n",
      "C:\\Users\\quirosgu\\AppData\\Local\\Temp\\ipykernel_32328\\4072444705.py:9: FutureWarning:\n",
      "\n",
      "The behavior of DataFrame concatenation with empty or all-NA entries is deprecated. In a future version, this will no longer exclude empty or all-NA columns when determining the result dtypes. To retain the old behavior, exclude the relevant entries before the concat operation.\n",
      "\n",
      "C:\\Users\\quirosgu\\AppData\\Local\\Temp\\ipykernel_32328\\4072444705.py:9: FutureWarning:\n",
      "\n",
      "The behavior of DataFrame concatenation with empty or all-NA entries is deprecated. In a future version, this will no longer exclude empty or all-NA columns when determining the result dtypes. To retain the old behavior, exclude the relevant entries before the concat operation.\n",
      "\n",
      "C:\\Users\\quirosgu\\AppData\\Local\\Temp\\ipykernel_32328\\4072444705.py:9: FutureWarning:\n",
      "\n",
      "The behavior of DataFrame concatenation with empty or all-NA entries is deprecated. In a future version, this will no longer exclude empty or all-NA columns when determining the result dtypes. To retain the old behavior, exclude the relevant entries before the concat operation.\n",
      "\n",
      "C:\\Users\\quirosgu\\AppData\\Local\\Temp\\ipykernel_32328\\4072444705.py:9: FutureWarning:\n",
      "\n",
      "The behavior of DataFrame concatenation with empty or all-NA entries is deprecated. In a future version, this will no longer exclude empty or all-NA columns when determining the result dtypes. To retain the old behavior, exclude the relevant entries before the concat operation.\n",
      "\n",
      "C:\\Users\\quirosgu\\AppData\\Local\\Temp\\ipykernel_32328\\4072444705.py:9: FutureWarning:\n",
      "\n",
      "The behavior of DataFrame concatenation with empty or all-NA entries is deprecated. In a future version, this will no longer exclude empty or all-NA columns when determining the result dtypes. To retain the old behavior, exclude the relevant entries before the concat operation.\n",
      "\n",
      "C:\\Users\\quirosgu\\AppData\\Local\\Temp\\ipykernel_32328\\4072444705.py:9: FutureWarning:\n",
      "\n",
      "The behavior of DataFrame concatenation with empty or all-NA entries is deprecated. In a future version, this will no longer exclude empty or all-NA columns when determining the result dtypes. To retain the old behavior, exclude the relevant entries before the concat operation.\n",
      "\n",
      "C:\\Users\\quirosgu\\AppData\\Local\\Temp\\ipykernel_32328\\4072444705.py:9: FutureWarning:\n",
      "\n",
      "The behavior of DataFrame concatenation with empty or all-NA entries is deprecated. In a future version, this will no longer exclude empty or all-NA columns when determining the result dtypes. To retain the old behavior, exclude the relevant entries before the concat operation.\n",
      "\n",
      "C:\\Users\\quirosgu\\AppData\\Local\\Temp\\ipykernel_32328\\4072444705.py:9: FutureWarning:\n",
      "\n",
      "The behavior of DataFrame concatenation with empty or all-NA entries is deprecated. In a future version, this will no longer exclude empty or all-NA columns when determining the result dtypes. To retain the old behavior, exclude the relevant entries before the concat operation.\n",
      "\n",
      "C:\\Users\\quirosgu\\AppData\\Local\\Temp\\ipykernel_32328\\4072444705.py:9: FutureWarning:\n",
      "\n",
      "The behavior of DataFrame concatenation with empty or all-NA entries is deprecated. In a future version, this will no longer exclude empty or all-NA columns when determining the result dtypes. To retain the old behavior, exclude the relevant entries before the concat operation.\n",
      "\n",
      "C:\\Users\\quirosgu\\AppData\\Local\\Temp\\ipykernel_32328\\4072444705.py:9: FutureWarning:\n",
      "\n",
      "The behavior of DataFrame concatenation with empty or all-NA entries is deprecated. In a future version, this will no longer exclude empty or all-NA columns when determining the result dtypes. To retain the old behavior, exclude the relevant entries before the concat operation.\n",
      "\n",
      "C:\\Users\\quirosgu\\AppData\\Local\\Temp\\ipykernel_32328\\4072444705.py:9: FutureWarning:\n",
      "\n",
      "The behavior of DataFrame concatenation with empty or all-NA entries is deprecated. In a future version, this will no longer exclude empty or all-NA columns when determining the result dtypes. To retain the old behavior, exclude the relevant entries before the concat operation.\n",
      "\n",
      "C:\\Users\\quirosgu\\AppData\\Local\\Temp\\ipykernel_32328\\4072444705.py:9: FutureWarning:\n",
      "\n",
      "The behavior of DataFrame concatenation with empty or all-NA entries is deprecated. In a future version, this will no longer exclude empty or all-NA columns when determining the result dtypes. To retain the old behavior, exclude the relevant entries before the concat operation.\n",
      "\n",
      "C:\\Users\\quirosgu\\AppData\\Local\\Temp\\ipykernel_32328\\4072444705.py:9: FutureWarning:\n",
      "\n",
      "The behavior of DataFrame concatenation with empty or all-NA entries is deprecated. In a future version, this will no longer exclude empty or all-NA columns when determining the result dtypes. To retain the old behavior, exclude the relevant entries before the concat operation.\n",
      "\n",
      "C:\\Users\\quirosgu\\AppData\\Local\\Temp\\ipykernel_32328\\4072444705.py:9: FutureWarning:\n",
      "\n",
      "The behavior of DataFrame concatenation with empty or all-NA entries is deprecated. In a future version, this will no longer exclude empty or all-NA columns when determining the result dtypes. To retain the old behavior, exclude the relevant entries before the concat operation.\n",
      "\n",
      "C:\\Users\\quirosgu\\AppData\\Local\\Temp\\ipykernel_32328\\4072444705.py:9: FutureWarning:\n",
      "\n",
      "The behavior of DataFrame concatenation with empty or all-NA entries is deprecated. In a future version, this will no longer exclude empty or all-NA columns when determining the result dtypes. To retain the old behavior, exclude the relevant entries before the concat operation.\n",
      "\n",
      "C:\\Users\\quirosgu\\AppData\\Local\\Temp\\ipykernel_32328\\4072444705.py:9: FutureWarning:\n",
      "\n",
      "The behavior of DataFrame concatenation with empty or all-NA entries is deprecated. In a future version, this will no longer exclude empty or all-NA columns when determining the result dtypes. To retain the old behavior, exclude the relevant entries before the concat operation.\n",
      "\n",
      "C:\\Users\\quirosgu\\AppData\\Local\\Temp\\ipykernel_32328\\4072444705.py:9: FutureWarning:\n",
      "\n",
      "The behavior of DataFrame concatenation with empty or all-NA entries is deprecated. In a future version, this will no longer exclude empty or all-NA columns when determining the result dtypes. To retain the old behavior, exclude the relevant entries before the concat operation.\n",
      "\n",
      "C:\\Users\\quirosgu\\AppData\\Local\\Temp\\ipykernel_32328\\4072444705.py:9: FutureWarning:\n",
      "\n",
      "The behavior of DataFrame concatenation with empty or all-NA entries is deprecated. In a future version, this will no longer exclude empty or all-NA columns when determining the result dtypes. To retain the old behavior, exclude the relevant entries before the concat operation.\n",
      "\n",
      "C:\\Users\\quirosgu\\AppData\\Local\\Temp\\ipykernel_32328\\4072444705.py:9: FutureWarning:\n",
      "\n",
      "The behavior of DataFrame concatenation with empty or all-NA entries is deprecated. In a future version, this will no longer exclude empty or all-NA columns when determining the result dtypes. To retain the old behavior, exclude the relevant entries before the concat operation.\n",
      "\n",
      "C:\\Users\\quirosgu\\AppData\\Local\\Temp\\ipykernel_32328\\4072444705.py:9: FutureWarning:\n",
      "\n",
      "The behavior of DataFrame concatenation with empty or all-NA entries is deprecated. In a future version, this will no longer exclude empty or all-NA columns when determining the result dtypes. To retain the old behavior, exclude the relevant entries before the concat operation.\n",
      "\n",
      "C:\\Users\\quirosgu\\AppData\\Local\\Temp\\ipykernel_32328\\4072444705.py:9: FutureWarning:\n",
      "\n",
      "The behavior of DataFrame concatenation with empty or all-NA entries is deprecated. In a future version, this will no longer exclude empty or all-NA columns when determining the result dtypes. To retain the old behavior, exclude the relevant entries before the concat operation.\n",
      "\n",
      "C:\\Users\\quirosgu\\AppData\\Local\\Temp\\ipykernel_32328\\4072444705.py:9: FutureWarning:\n",
      "\n",
      "The behavior of DataFrame concatenation with empty or all-NA entries is deprecated. In a future version, this will no longer exclude empty or all-NA columns when determining the result dtypes. To retain the old behavior, exclude the relevant entries before the concat operation.\n",
      "\n",
      "C:\\Users\\quirosgu\\AppData\\Local\\Temp\\ipykernel_32328\\4072444705.py:9: FutureWarning:\n",
      "\n",
      "The behavior of DataFrame concatenation with empty or all-NA entries is deprecated. In a future version, this will no longer exclude empty or all-NA columns when determining the result dtypes. To retain the old behavior, exclude the relevant entries before the concat operation.\n",
      "\n",
      "C:\\Users\\quirosgu\\AppData\\Local\\Temp\\ipykernel_32328\\4072444705.py:9: FutureWarning:\n",
      "\n",
      "The behavior of DataFrame concatenation with empty or all-NA entries is deprecated. In a future version, this will no longer exclude empty or all-NA columns when determining the result dtypes. To retain the old behavior, exclude the relevant entries before the concat operation.\n",
      "\n",
      "C:\\Users\\quirosgu\\AppData\\Local\\Temp\\ipykernel_32328\\4072444705.py:9: FutureWarning:\n",
      "\n",
      "The behavior of DataFrame concatenation with empty or all-NA entries is deprecated. In a future version, this will no longer exclude empty or all-NA columns when determining the result dtypes. To retain the old behavior, exclude the relevant entries before the concat operation.\n",
      "\n",
      "C:\\Users\\quirosgu\\AppData\\Local\\Temp\\ipykernel_32328\\4072444705.py:9: FutureWarning:\n",
      "\n",
      "The behavior of DataFrame concatenation with empty or all-NA entries is deprecated. In a future version, this will no longer exclude empty or all-NA columns when determining the result dtypes. To retain the old behavior, exclude the relevant entries before the concat operation.\n",
      "\n",
      "C:\\Users\\quirosgu\\AppData\\Local\\Temp\\ipykernel_32328\\4072444705.py:9: FutureWarning:\n",
      "\n",
      "The behavior of DataFrame concatenation with empty or all-NA entries is deprecated. In a future version, this will no longer exclude empty or all-NA columns when determining the result dtypes. To retain the old behavior, exclude the relevant entries before the concat operation.\n",
      "\n",
      "C:\\Users\\quirosgu\\AppData\\Local\\Temp\\ipykernel_32328\\4072444705.py:9: FutureWarning:\n",
      "\n",
      "The behavior of DataFrame concatenation with empty or all-NA entries is deprecated. In a future version, this will no longer exclude empty or all-NA columns when determining the result dtypes. To retain the old behavior, exclude the relevant entries before the concat operation.\n",
      "\n",
      "C:\\Users\\quirosgu\\AppData\\Local\\Temp\\ipykernel_32328\\4072444705.py:9: FutureWarning:\n",
      "\n",
      "The behavior of DataFrame concatenation with empty or all-NA entries is deprecated. In a future version, this will no longer exclude empty or all-NA columns when determining the result dtypes. To retain the old behavior, exclude the relevant entries before the concat operation.\n",
      "\n",
      "C:\\Users\\quirosgu\\AppData\\Local\\Temp\\ipykernel_32328\\4072444705.py:9: FutureWarning:\n",
      "\n",
      "The behavior of DataFrame concatenation with empty or all-NA entries is deprecated. In a future version, this will no longer exclude empty or all-NA columns when determining the result dtypes. To retain the old behavior, exclude the relevant entries before the concat operation.\n",
      "\n",
      "C:\\Users\\quirosgu\\AppData\\Local\\Temp\\ipykernel_32328\\4072444705.py:9: FutureWarning:\n",
      "\n",
      "The behavior of DataFrame concatenation with empty or all-NA entries is deprecated. In a future version, this will no longer exclude empty or all-NA columns when determining the result dtypes. To retain the old behavior, exclude the relevant entries before the concat operation.\n",
      "\n",
      "C:\\Users\\quirosgu\\AppData\\Local\\Temp\\ipykernel_32328\\4072444705.py:9: FutureWarning:\n",
      "\n",
      "The behavior of DataFrame concatenation with empty or all-NA entries is deprecated. In a future version, this will no longer exclude empty or all-NA columns when determining the result dtypes. To retain the old behavior, exclude the relevant entries before the concat operation.\n",
      "\n",
      "C:\\Users\\quirosgu\\AppData\\Local\\Temp\\ipykernel_32328\\4072444705.py:9: FutureWarning:\n",
      "\n",
      "The behavior of DataFrame concatenation with empty or all-NA entries is deprecated. In a future version, this will no longer exclude empty or all-NA columns when determining the result dtypes. To retain the old behavior, exclude the relevant entries before the concat operation.\n",
      "\n",
      "C:\\Users\\quirosgu\\AppData\\Local\\Temp\\ipykernel_32328\\4072444705.py:9: FutureWarning:\n",
      "\n",
      "The behavior of DataFrame concatenation with empty or all-NA entries is deprecated. In a future version, this will no longer exclude empty or all-NA columns when determining the result dtypes. To retain the old behavior, exclude the relevant entries before the concat operation.\n",
      "\n",
      "C:\\Users\\quirosgu\\AppData\\Local\\Temp\\ipykernel_32328\\4072444705.py:9: FutureWarning:\n",
      "\n",
      "The behavior of DataFrame concatenation with empty or all-NA entries is deprecated. In a future version, this will no longer exclude empty or all-NA columns when determining the result dtypes. To retain the old behavior, exclude the relevant entries before the concat operation.\n",
      "\n",
      "C:\\Users\\quirosgu\\AppData\\Local\\Temp\\ipykernel_32328\\4072444705.py:9: FutureWarning:\n",
      "\n",
      "The behavior of DataFrame concatenation with empty or all-NA entries is deprecated. In a future version, this will no longer exclude empty or all-NA columns when determining the result dtypes. To retain the old behavior, exclude the relevant entries before the concat operation.\n",
      "\n",
      "C:\\Users\\quirosgu\\AppData\\Local\\Temp\\ipykernel_32328\\4072444705.py:9: FutureWarning:\n",
      "\n",
      "The behavior of DataFrame concatenation with empty or all-NA entries is deprecated. In a future version, this will no longer exclude empty or all-NA columns when determining the result dtypes. To retain the old behavior, exclude the relevant entries before the concat operation.\n",
      "\n",
      "C:\\Users\\quirosgu\\AppData\\Local\\Temp\\ipykernel_32328\\4072444705.py:9: FutureWarning:\n",
      "\n",
      "The behavior of DataFrame concatenation with empty or all-NA entries is deprecated. In a future version, this will no longer exclude empty or all-NA columns when determining the result dtypes. To retain the old behavior, exclude the relevant entries before the concat operation.\n",
      "\n",
      "C:\\Users\\quirosgu\\AppData\\Local\\Temp\\ipykernel_32328\\4072444705.py:9: FutureWarning:\n",
      "\n",
      "The behavior of DataFrame concatenation with empty or all-NA entries is deprecated. In a future version, this will no longer exclude empty or all-NA columns when determining the result dtypes. To retain the old behavior, exclude the relevant entries before the concat operation.\n",
      "\n",
      "C:\\Users\\quirosgu\\AppData\\Local\\Temp\\ipykernel_32328\\4072444705.py:9: FutureWarning:\n",
      "\n",
      "The behavior of DataFrame concatenation with empty or all-NA entries is deprecated. In a future version, this will no longer exclude empty or all-NA columns when determining the result dtypes. To retain the old behavior, exclude the relevant entries before the concat operation.\n",
      "\n",
      "C:\\Users\\quirosgu\\AppData\\Local\\Temp\\ipykernel_32328\\4072444705.py:9: FutureWarning:\n",
      "\n",
      "The behavior of DataFrame concatenation with empty or all-NA entries is deprecated. In a future version, this will no longer exclude empty or all-NA columns when determining the result dtypes. To retain the old behavior, exclude the relevant entries before the concat operation.\n",
      "\n",
      "C:\\Users\\quirosgu\\AppData\\Local\\Temp\\ipykernel_32328\\4072444705.py:9: FutureWarning:\n",
      "\n",
      "The behavior of DataFrame concatenation with empty or all-NA entries is deprecated. In a future version, this will no longer exclude empty or all-NA columns when determining the result dtypes. To retain the old behavior, exclude the relevant entries before the concat operation.\n",
      "\n",
      "C:\\Users\\quirosgu\\AppData\\Local\\Temp\\ipykernel_32328\\4072444705.py:9: FutureWarning:\n",
      "\n",
      "The behavior of DataFrame concatenation with empty or all-NA entries is deprecated. In a future version, this will no longer exclude empty or all-NA columns when determining the result dtypes. To retain the old behavior, exclude the relevant entries before the concat operation.\n",
      "\n",
      "C:\\Users\\quirosgu\\AppData\\Local\\Temp\\ipykernel_32328\\4072444705.py:9: FutureWarning:\n",
      "\n",
      "The behavior of DataFrame concatenation with empty or all-NA entries is deprecated. In a future version, this will no longer exclude empty or all-NA columns when determining the result dtypes. To retain the old behavior, exclude the relevant entries before the concat operation.\n",
      "\n",
      "C:\\Users\\quirosgu\\AppData\\Local\\Temp\\ipykernel_32328\\4072444705.py:9: FutureWarning:\n",
      "\n",
      "The behavior of DataFrame concatenation with empty or all-NA entries is deprecated. In a future version, this will no longer exclude empty or all-NA columns when determining the result dtypes. To retain the old behavior, exclude the relevant entries before the concat operation.\n",
      "\n",
      "C:\\Users\\quirosgu\\AppData\\Local\\Temp\\ipykernel_32328\\4072444705.py:9: FutureWarning:\n",
      "\n",
      "The behavior of DataFrame concatenation with empty or all-NA entries is deprecated. In a future version, this will no longer exclude empty or all-NA columns when determining the result dtypes. To retain the old behavior, exclude the relevant entries before the concat operation.\n",
      "\n",
      "C:\\Users\\quirosgu\\AppData\\Local\\Temp\\ipykernel_32328\\4072444705.py:9: FutureWarning:\n",
      "\n",
      "The behavior of DataFrame concatenation with empty or all-NA entries is deprecated. In a future version, this will no longer exclude empty or all-NA columns when determining the result dtypes. To retain the old behavior, exclude the relevant entries before the concat operation.\n",
      "\n",
      "C:\\Users\\quirosgu\\AppData\\Local\\Temp\\ipykernel_32328\\4072444705.py:9: FutureWarning:\n",
      "\n",
      "The behavior of DataFrame concatenation with empty or all-NA entries is deprecated. In a future version, this will no longer exclude empty or all-NA columns when determining the result dtypes. To retain the old behavior, exclude the relevant entries before the concat operation.\n",
      "\n",
      "C:\\Users\\quirosgu\\AppData\\Local\\Temp\\ipykernel_32328\\4072444705.py:9: FutureWarning:\n",
      "\n",
      "The behavior of DataFrame concatenation with empty or all-NA entries is deprecated. In a future version, this will no longer exclude empty or all-NA columns when determining the result dtypes. To retain the old behavior, exclude the relevant entries before the concat operation.\n",
      "\n",
      "C:\\Users\\quirosgu\\AppData\\Local\\Temp\\ipykernel_32328\\4072444705.py:9: FutureWarning:\n",
      "\n",
      "The behavior of DataFrame concatenation with empty or all-NA entries is deprecated. In a future version, this will no longer exclude empty or all-NA columns when determining the result dtypes. To retain the old behavior, exclude the relevant entries before the concat operation.\n",
      "\n",
      "C:\\Users\\quirosgu\\AppData\\Local\\Temp\\ipykernel_32328\\4072444705.py:9: FutureWarning:\n",
      "\n",
      "The behavior of DataFrame concatenation with empty or all-NA entries is deprecated. In a future version, this will no longer exclude empty or all-NA columns when determining the result dtypes. To retain the old behavior, exclude the relevant entries before the concat operation.\n",
      "\n",
      "C:\\Users\\quirosgu\\AppData\\Local\\Temp\\ipykernel_32328\\4072444705.py:9: FutureWarning:\n",
      "\n",
      "The behavior of DataFrame concatenation with empty or all-NA entries is deprecated. In a future version, this will no longer exclude empty or all-NA columns when determining the result dtypes. To retain the old behavior, exclude the relevant entries before the concat operation.\n",
      "\n",
      "C:\\Users\\quirosgu\\AppData\\Local\\Temp\\ipykernel_32328\\4072444705.py:9: FutureWarning:\n",
      "\n",
      "The behavior of DataFrame concatenation with empty or all-NA entries is deprecated. In a future version, this will no longer exclude empty or all-NA columns when determining the result dtypes. To retain the old behavior, exclude the relevant entries before the concat operation.\n",
      "\n",
      "C:\\Users\\quirosgu\\AppData\\Local\\Temp\\ipykernel_32328\\4072444705.py:9: FutureWarning:\n",
      "\n",
      "The behavior of DataFrame concatenation with empty or all-NA entries is deprecated. In a future version, this will no longer exclude empty or all-NA columns when determining the result dtypes. To retain the old behavior, exclude the relevant entries before the concat operation.\n",
      "\n",
      "C:\\Users\\quirosgu\\AppData\\Local\\Temp\\ipykernel_32328\\4072444705.py:9: FutureWarning:\n",
      "\n",
      "The behavior of DataFrame concatenation with empty or all-NA entries is deprecated. In a future version, this will no longer exclude empty or all-NA columns when determining the result dtypes. To retain the old behavior, exclude the relevant entries before the concat operation.\n",
      "\n",
      "C:\\Users\\quirosgu\\AppData\\Local\\Temp\\ipykernel_32328\\4072444705.py:9: FutureWarning:\n",
      "\n",
      "The behavior of DataFrame concatenation with empty or all-NA entries is deprecated. In a future version, this will no longer exclude empty or all-NA columns when determining the result dtypes. To retain the old behavior, exclude the relevant entries before the concat operation.\n",
      "\n",
      "C:\\Users\\quirosgu\\AppData\\Local\\Temp\\ipykernel_32328\\4072444705.py:9: FutureWarning:\n",
      "\n",
      "The behavior of DataFrame concatenation with empty or all-NA entries is deprecated. In a future version, this will no longer exclude empty or all-NA columns when determining the result dtypes. To retain the old behavior, exclude the relevant entries before the concat operation.\n",
      "\n",
      "C:\\Users\\quirosgu\\AppData\\Local\\Temp\\ipykernel_32328\\4072444705.py:9: FutureWarning:\n",
      "\n",
      "The behavior of DataFrame concatenation with empty or all-NA entries is deprecated. In a future version, this will no longer exclude empty or all-NA columns when determining the result dtypes. To retain the old behavior, exclude the relevant entries before the concat operation.\n",
      "\n",
      "C:\\Users\\quirosgu\\AppData\\Local\\Temp\\ipykernel_32328\\4072444705.py:9: FutureWarning:\n",
      "\n",
      "The behavior of DataFrame concatenation with empty or all-NA entries is deprecated. In a future version, this will no longer exclude empty or all-NA columns when determining the result dtypes. To retain the old behavior, exclude the relevant entries before the concat operation.\n",
      "\n",
      "C:\\Users\\quirosgu\\AppData\\Local\\Temp\\ipykernel_32328\\4072444705.py:9: FutureWarning:\n",
      "\n",
      "The behavior of DataFrame concatenation with empty or all-NA entries is deprecated. In a future version, this will no longer exclude empty or all-NA columns when determining the result dtypes. To retain the old behavior, exclude the relevant entries before the concat operation.\n",
      "\n",
      "C:\\Users\\quirosgu\\AppData\\Local\\Temp\\ipykernel_32328\\4072444705.py:9: FutureWarning:\n",
      "\n",
      "The behavior of DataFrame concatenation with empty or all-NA entries is deprecated. In a future version, this will no longer exclude empty or all-NA columns when determining the result dtypes. To retain the old behavior, exclude the relevant entries before the concat operation.\n",
      "\n",
      "C:\\Users\\quirosgu\\AppData\\Local\\Temp\\ipykernel_32328\\4072444705.py:9: FutureWarning:\n",
      "\n",
      "The behavior of DataFrame concatenation with empty or all-NA entries is deprecated. In a future version, this will no longer exclude empty or all-NA columns when determining the result dtypes. To retain the old behavior, exclude the relevant entries before the concat operation.\n",
      "\n",
      "C:\\Users\\quirosgu\\AppData\\Local\\Temp\\ipykernel_32328\\4072444705.py:9: FutureWarning:\n",
      "\n",
      "The behavior of DataFrame concatenation with empty or all-NA entries is deprecated. In a future version, this will no longer exclude empty or all-NA columns when determining the result dtypes. To retain the old behavior, exclude the relevant entries before the concat operation.\n",
      "\n",
      "C:\\Users\\quirosgu\\AppData\\Local\\Temp\\ipykernel_32328\\4072444705.py:9: FutureWarning:\n",
      "\n",
      "The behavior of DataFrame concatenation with empty or all-NA entries is deprecated. In a future version, this will no longer exclude empty or all-NA columns when determining the result dtypes. To retain the old behavior, exclude the relevant entries before the concat operation.\n",
      "\n",
      "C:\\Users\\quirosgu\\AppData\\Local\\Temp\\ipykernel_32328\\4072444705.py:9: FutureWarning:\n",
      "\n",
      "The behavior of DataFrame concatenation with empty or all-NA entries is deprecated. In a future version, this will no longer exclude empty or all-NA columns when determining the result dtypes. To retain the old behavior, exclude the relevant entries before the concat operation.\n",
      "\n",
      "C:\\Users\\quirosgu\\AppData\\Local\\Temp\\ipykernel_32328\\4072444705.py:9: FutureWarning:\n",
      "\n",
      "The behavior of DataFrame concatenation with empty or all-NA entries is deprecated. In a future version, this will no longer exclude empty or all-NA columns when determining the result dtypes. To retain the old behavior, exclude the relevant entries before the concat operation.\n",
      "\n",
      "C:\\Users\\quirosgu\\AppData\\Local\\Temp\\ipykernel_32328\\4072444705.py:9: FutureWarning:\n",
      "\n",
      "The behavior of DataFrame concatenation with empty or all-NA entries is deprecated. In a future version, this will no longer exclude empty or all-NA columns when determining the result dtypes. To retain the old behavior, exclude the relevant entries before the concat operation.\n",
      "\n",
      "C:\\Users\\quirosgu\\AppData\\Local\\Temp\\ipykernel_32328\\4072444705.py:9: FutureWarning:\n",
      "\n",
      "The behavior of DataFrame concatenation with empty or all-NA entries is deprecated. In a future version, this will no longer exclude empty or all-NA columns when determining the result dtypes. To retain the old behavior, exclude the relevant entries before the concat operation.\n",
      "\n",
      "C:\\Users\\quirosgu\\AppData\\Local\\Temp\\ipykernel_32328\\4072444705.py:9: FutureWarning:\n",
      "\n",
      "The behavior of DataFrame concatenation with empty or all-NA entries is deprecated. In a future version, this will no longer exclude empty or all-NA columns when determining the result dtypes. To retain the old behavior, exclude the relevant entries before the concat operation.\n",
      "\n",
      "C:\\Users\\quirosgu\\AppData\\Local\\Temp\\ipykernel_32328\\4072444705.py:9: FutureWarning:\n",
      "\n",
      "The behavior of DataFrame concatenation with empty or all-NA entries is deprecated. In a future version, this will no longer exclude empty or all-NA columns when determining the result dtypes. To retain the old behavior, exclude the relevant entries before the concat operation.\n",
      "\n",
      "C:\\Users\\quirosgu\\AppData\\Local\\Temp\\ipykernel_32328\\4072444705.py:9: FutureWarning:\n",
      "\n",
      "The behavior of DataFrame concatenation with empty or all-NA entries is deprecated. In a future version, this will no longer exclude empty or all-NA columns when determining the result dtypes. To retain the old behavior, exclude the relevant entries before the concat operation.\n",
      "\n",
      "C:\\Users\\quirosgu\\AppData\\Local\\Temp\\ipykernel_32328\\4072444705.py:9: FutureWarning:\n",
      "\n",
      "The behavior of DataFrame concatenation with empty or all-NA entries is deprecated. In a future version, this will no longer exclude empty or all-NA columns when determining the result dtypes. To retain the old behavior, exclude the relevant entries before the concat operation.\n",
      "\n",
      "C:\\Users\\quirosgu\\AppData\\Local\\Temp\\ipykernel_32328\\4072444705.py:9: FutureWarning:\n",
      "\n",
      "The behavior of DataFrame concatenation with empty or all-NA entries is deprecated. In a future version, this will no longer exclude empty or all-NA columns when determining the result dtypes. To retain the old behavior, exclude the relevant entries before the concat operation.\n",
      "\n",
      "C:\\Users\\quirosgu\\AppData\\Local\\Temp\\ipykernel_32328\\4072444705.py:9: FutureWarning:\n",
      "\n",
      "The behavior of DataFrame concatenation with empty or all-NA entries is deprecated. In a future version, this will no longer exclude empty or all-NA columns when determining the result dtypes. To retain the old behavior, exclude the relevant entries before the concat operation.\n",
      "\n",
      "C:\\Users\\quirosgu\\AppData\\Local\\Temp\\ipykernel_32328\\4072444705.py:9: FutureWarning:\n",
      "\n",
      "The behavior of DataFrame concatenation with empty or all-NA entries is deprecated. In a future version, this will no longer exclude empty or all-NA columns when determining the result dtypes. To retain the old behavior, exclude the relevant entries before the concat operation.\n",
      "\n",
      "C:\\Users\\quirosgu\\AppData\\Local\\Temp\\ipykernel_32328\\4072444705.py:9: FutureWarning:\n",
      "\n",
      "The behavior of DataFrame concatenation with empty or all-NA entries is deprecated. In a future version, this will no longer exclude empty or all-NA columns when determining the result dtypes. To retain the old behavior, exclude the relevant entries before the concat operation.\n",
      "\n",
      "C:\\Users\\quirosgu\\AppData\\Local\\Temp\\ipykernel_32328\\4072444705.py:9: FutureWarning:\n",
      "\n",
      "The behavior of DataFrame concatenation with empty or all-NA entries is deprecated. In a future version, this will no longer exclude empty or all-NA columns when determining the result dtypes. To retain the old behavior, exclude the relevant entries before the concat operation.\n",
      "\n",
      "C:\\Users\\quirosgu\\AppData\\Local\\Temp\\ipykernel_32328\\4072444705.py:9: FutureWarning:\n",
      "\n",
      "The behavior of DataFrame concatenation with empty or all-NA entries is deprecated. In a future version, this will no longer exclude empty or all-NA columns when determining the result dtypes. To retain the old behavior, exclude the relevant entries before the concat operation.\n",
      "\n",
      "C:\\Users\\quirosgu\\AppData\\Local\\Temp\\ipykernel_32328\\4072444705.py:9: FutureWarning:\n",
      "\n",
      "The behavior of DataFrame concatenation with empty or all-NA entries is deprecated. In a future version, this will no longer exclude empty or all-NA columns when determining the result dtypes. To retain the old behavior, exclude the relevant entries before the concat operation.\n",
      "\n",
      "C:\\Users\\quirosgu\\AppData\\Local\\Temp\\ipykernel_32328\\4072444705.py:9: FutureWarning:\n",
      "\n",
      "The behavior of DataFrame concatenation with empty or all-NA entries is deprecated. In a future version, this will no longer exclude empty or all-NA columns when determining the result dtypes. To retain the old behavior, exclude the relevant entries before the concat operation.\n",
      "\n",
      "C:\\Users\\quirosgu\\AppData\\Local\\Temp\\ipykernel_32328\\4072444705.py:9: FutureWarning:\n",
      "\n",
      "The behavior of DataFrame concatenation with empty or all-NA entries is deprecated. In a future version, this will no longer exclude empty or all-NA columns when determining the result dtypes. To retain the old behavior, exclude the relevant entries before the concat operation.\n",
      "\n",
      "C:\\Users\\quirosgu\\AppData\\Local\\Temp\\ipykernel_32328\\4072444705.py:9: FutureWarning:\n",
      "\n",
      "The behavior of DataFrame concatenation with empty or all-NA entries is deprecated. In a future version, this will no longer exclude empty or all-NA columns when determining the result dtypes. To retain the old behavior, exclude the relevant entries before the concat operation.\n",
      "\n",
      "C:\\Users\\quirosgu\\AppData\\Local\\Temp\\ipykernel_32328\\4072444705.py:9: FutureWarning:\n",
      "\n",
      "The behavior of DataFrame concatenation with empty or all-NA entries is deprecated. In a future version, this will no longer exclude empty or all-NA columns when determining the result dtypes. To retain the old behavior, exclude the relevant entries before the concat operation.\n",
      "\n",
      "C:\\Users\\quirosgu\\AppData\\Local\\Temp\\ipykernel_32328\\4072444705.py:9: FutureWarning:\n",
      "\n",
      "The behavior of DataFrame concatenation with empty or all-NA entries is deprecated. In a future version, this will no longer exclude empty or all-NA columns when determining the result dtypes. To retain the old behavior, exclude the relevant entries before the concat operation.\n",
      "\n",
      "C:\\Users\\quirosgu\\AppData\\Local\\Temp\\ipykernel_32328\\4072444705.py:9: FutureWarning:\n",
      "\n",
      "The behavior of DataFrame concatenation with empty or all-NA entries is deprecated. In a future version, this will no longer exclude empty or all-NA columns when determining the result dtypes. To retain the old behavior, exclude the relevant entries before the concat operation.\n",
      "\n",
      "C:\\Users\\quirosgu\\AppData\\Local\\Temp\\ipykernel_32328\\4072444705.py:9: FutureWarning:\n",
      "\n",
      "The behavior of DataFrame concatenation with empty or all-NA entries is deprecated. In a future version, this will no longer exclude empty or all-NA columns when determining the result dtypes. To retain the old behavior, exclude the relevant entries before the concat operation.\n",
      "\n",
      "C:\\Users\\quirosgu\\AppData\\Local\\Temp\\ipykernel_32328\\4072444705.py:9: FutureWarning:\n",
      "\n",
      "The behavior of DataFrame concatenation with empty or all-NA entries is deprecated. In a future version, this will no longer exclude empty or all-NA columns when determining the result dtypes. To retain the old behavior, exclude the relevant entries before the concat operation.\n",
      "\n",
      "C:\\Users\\quirosgu\\AppData\\Local\\Temp\\ipykernel_32328\\4072444705.py:9: FutureWarning:\n",
      "\n",
      "The behavior of DataFrame concatenation with empty or all-NA entries is deprecated. In a future version, this will no longer exclude empty or all-NA columns when determining the result dtypes. To retain the old behavior, exclude the relevant entries before the concat operation.\n",
      "\n",
      "C:\\Users\\quirosgu\\AppData\\Local\\Temp\\ipykernel_32328\\4072444705.py:9: FutureWarning:\n",
      "\n",
      "The behavior of DataFrame concatenation with empty or all-NA entries is deprecated. In a future version, this will no longer exclude empty or all-NA columns when determining the result dtypes. To retain the old behavior, exclude the relevant entries before the concat operation.\n",
      "\n",
      "C:\\Users\\quirosgu\\AppData\\Local\\Temp\\ipykernel_32328\\4072444705.py:9: FutureWarning:\n",
      "\n",
      "The behavior of DataFrame concatenation with empty or all-NA entries is deprecated. In a future version, this will no longer exclude empty or all-NA columns when determining the result dtypes. To retain the old behavior, exclude the relevant entries before the concat operation.\n",
      "\n",
      "C:\\Users\\quirosgu\\AppData\\Local\\Temp\\ipykernel_32328\\4072444705.py:9: FutureWarning:\n",
      "\n",
      "The behavior of DataFrame concatenation with empty or all-NA entries is deprecated. In a future version, this will no longer exclude empty or all-NA columns when determining the result dtypes. To retain the old behavior, exclude the relevant entries before the concat operation.\n",
      "\n",
      "C:\\Users\\quirosgu\\AppData\\Local\\Temp\\ipykernel_32328\\4072444705.py:9: FutureWarning:\n",
      "\n",
      "The behavior of DataFrame concatenation with empty or all-NA entries is deprecated. In a future version, this will no longer exclude empty or all-NA columns when determining the result dtypes. To retain the old behavior, exclude the relevant entries before the concat operation.\n",
      "\n",
      "C:\\Users\\quirosgu\\AppData\\Local\\Temp\\ipykernel_32328\\4072444705.py:9: FutureWarning:\n",
      "\n",
      "The behavior of DataFrame concatenation with empty or all-NA entries is deprecated. In a future version, this will no longer exclude empty or all-NA columns when determining the result dtypes. To retain the old behavior, exclude the relevant entries before the concat operation.\n",
      "\n",
      "C:\\Users\\quirosgu\\AppData\\Local\\Temp\\ipykernel_32328\\4072444705.py:9: FutureWarning:\n",
      "\n",
      "The behavior of DataFrame concatenation with empty or all-NA entries is deprecated. In a future version, this will no longer exclude empty or all-NA columns when determining the result dtypes. To retain the old behavior, exclude the relevant entries before the concat operation.\n",
      "\n",
      "C:\\Users\\quirosgu\\AppData\\Local\\Temp\\ipykernel_32328\\4072444705.py:9: FutureWarning:\n",
      "\n",
      "The behavior of DataFrame concatenation with empty or all-NA entries is deprecated. In a future version, this will no longer exclude empty or all-NA columns when determining the result dtypes. To retain the old behavior, exclude the relevant entries before the concat operation.\n",
      "\n",
      "C:\\Users\\quirosgu\\AppData\\Local\\Temp\\ipykernel_32328\\4072444705.py:9: FutureWarning:\n",
      "\n",
      "The behavior of DataFrame concatenation with empty or all-NA entries is deprecated. In a future version, this will no longer exclude empty or all-NA columns when determining the result dtypes. To retain the old behavior, exclude the relevant entries before the concat operation.\n",
      "\n",
      "C:\\Users\\quirosgu\\AppData\\Local\\Temp\\ipykernel_32328\\4072444705.py:9: FutureWarning:\n",
      "\n",
      "The behavior of DataFrame concatenation with empty or all-NA entries is deprecated. In a future version, this will no longer exclude empty or all-NA columns when determining the result dtypes. To retain the old behavior, exclude the relevant entries before the concat operation.\n",
      "\n",
      "C:\\Users\\quirosgu\\AppData\\Local\\Temp\\ipykernel_32328\\4072444705.py:9: FutureWarning:\n",
      "\n",
      "The behavior of DataFrame concatenation with empty or all-NA entries is deprecated. In a future version, this will no longer exclude empty or all-NA columns when determining the result dtypes. To retain the old behavior, exclude the relevant entries before the concat operation.\n",
      "\n",
      "C:\\Users\\quirosgu\\AppData\\Local\\Temp\\ipykernel_32328\\4072444705.py:9: FutureWarning:\n",
      "\n",
      "The behavior of DataFrame concatenation with empty or all-NA entries is deprecated. In a future version, this will no longer exclude empty or all-NA columns when determining the result dtypes. To retain the old behavior, exclude the relevant entries before the concat operation.\n",
      "\n",
      "C:\\Users\\quirosgu\\AppData\\Local\\Temp\\ipykernel_32328\\4072444705.py:9: FutureWarning:\n",
      "\n",
      "The behavior of DataFrame concatenation with empty or all-NA entries is deprecated. In a future version, this will no longer exclude empty or all-NA columns when determining the result dtypes. To retain the old behavior, exclude the relevant entries before the concat operation.\n",
      "\n",
      "C:\\Users\\quirosgu\\AppData\\Local\\Temp\\ipykernel_32328\\4072444705.py:9: FutureWarning:\n",
      "\n",
      "The behavior of DataFrame concatenation with empty or all-NA entries is deprecated. In a future version, this will no longer exclude empty or all-NA columns when determining the result dtypes. To retain the old behavior, exclude the relevant entries before the concat operation.\n",
      "\n",
      "C:\\Users\\quirosgu\\AppData\\Local\\Temp\\ipykernel_32328\\4072444705.py:9: FutureWarning:\n",
      "\n",
      "The behavior of DataFrame concatenation with empty or all-NA entries is deprecated. In a future version, this will no longer exclude empty or all-NA columns when determining the result dtypes. To retain the old behavior, exclude the relevant entries before the concat operation.\n",
      "\n",
      "C:\\Users\\quirosgu\\AppData\\Local\\Temp\\ipykernel_32328\\4072444705.py:9: FutureWarning:\n",
      "\n",
      "The behavior of DataFrame concatenation with empty or all-NA entries is deprecated. In a future version, this will no longer exclude empty or all-NA columns when determining the result dtypes. To retain the old behavior, exclude the relevant entries before the concat operation.\n",
      "\n",
      "C:\\Users\\quirosgu\\AppData\\Local\\Temp\\ipykernel_32328\\4072444705.py:9: FutureWarning:\n",
      "\n",
      "The behavior of DataFrame concatenation with empty or all-NA entries is deprecated. In a future version, this will no longer exclude empty or all-NA columns when determining the result dtypes. To retain the old behavior, exclude the relevant entries before the concat operation.\n",
      "\n",
      "C:\\Users\\quirosgu\\AppData\\Local\\Temp\\ipykernel_32328\\4072444705.py:9: FutureWarning:\n",
      "\n",
      "The behavior of DataFrame concatenation with empty or all-NA entries is deprecated. In a future version, this will no longer exclude empty or all-NA columns when determining the result dtypes. To retain the old behavior, exclude the relevant entries before the concat operation.\n",
      "\n",
      "C:\\Users\\quirosgu\\AppData\\Local\\Temp\\ipykernel_32328\\4072444705.py:9: FutureWarning:\n",
      "\n",
      "The behavior of DataFrame concatenation with empty or all-NA entries is deprecated. In a future version, this will no longer exclude empty or all-NA columns when determining the result dtypes. To retain the old behavior, exclude the relevant entries before the concat operation.\n",
      "\n",
      "C:\\Users\\quirosgu\\AppData\\Local\\Temp\\ipykernel_32328\\4072444705.py:9: FutureWarning:\n",
      "\n",
      "The behavior of DataFrame concatenation with empty or all-NA entries is deprecated. In a future version, this will no longer exclude empty or all-NA columns when determining the result dtypes. To retain the old behavior, exclude the relevant entries before the concat operation.\n",
      "\n",
      "C:\\Users\\quirosgu\\AppData\\Local\\Temp\\ipykernel_32328\\4072444705.py:9: FutureWarning:\n",
      "\n",
      "The behavior of DataFrame concatenation with empty or all-NA entries is deprecated. In a future version, this will no longer exclude empty or all-NA columns when determining the result dtypes. To retain the old behavior, exclude the relevant entries before the concat operation.\n",
      "\n",
      "C:\\Users\\quirosgu\\AppData\\Local\\Temp\\ipykernel_32328\\4072444705.py:9: FutureWarning:\n",
      "\n",
      "The behavior of DataFrame concatenation with empty or all-NA entries is deprecated. In a future version, this will no longer exclude empty or all-NA columns when determining the result dtypes. To retain the old behavior, exclude the relevant entries before the concat operation.\n",
      "\n",
      "C:\\Users\\quirosgu\\AppData\\Local\\Temp\\ipykernel_32328\\4072444705.py:9: FutureWarning:\n",
      "\n",
      "The behavior of DataFrame concatenation with empty or all-NA entries is deprecated. In a future version, this will no longer exclude empty or all-NA columns when determining the result dtypes. To retain the old behavior, exclude the relevant entries before the concat operation.\n",
      "\n",
      "C:\\Users\\quirosgu\\AppData\\Local\\Temp\\ipykernel_32328\\4072444705.py:9: FutureWarning:\n",
      "\n",
      "The behavior of DataFrame concatenation with empty or all-NA entries is deprecated. In a future version, this will no longer exclude empty or all-NA columns when determining the result dtypes. To retain the old behavior, exclude the relevant entries before the concat operation.\n",
      "\n",
      "C:\\Users\\quirosgu\\AppData\\Local\\Temp\\ipykernel_32328\\4072444705.py:9: FutureWarning:\n",
      "\n",
      "The behavior of DataFrame concatenation with empty or all-NA entries is deprecated. In a future version, this will no longer exclude empty or all-NA columns when determining the result dtypes. To retain the old behavior, exclude the relevant entries before the concat operation.\n",
      "\n",
      "C:\\Users\\quirosgu\\AppData\\Local\\Temp\\ipykernel_32328\\4072444705.py:9: FutureWarning:\n",
      "\n",
      "The behavior of DataFrame concatenation with empty or all-NA entries is deprecated. In a future version, this will no longer exclude empty or all-NA columns when determining the result dtypes. To retain the old behavior, exclude the relevant entries before the concat operation.\n",
      "\n",
      "C:\\Users\\quirosgu\\AppData\\Local\\Temp\\ipykernel_32328\\4072444705.py:9: FutureWarning:\n",
      "\n",
      "The behavior of DataFrame concatenation with empty or all-NA entries is deprecated. In a future version, this will no longer exclude empty or all-NA columns when determining the result dtypes. To retain the old behavior, exclude the relevant entries before the concat operation.\n",
      "\n",
      "C:\\Users\\quirosgu\\AppData\\Local\\Temp\\ipykernel_32328\\4072444705.py:9: FutureWarning:\n",
      "\n",
      "The behavior of DataFrame concatenation with empty or all-NA entries is deprecated. In a future version, this will no longer exclude empty or all-NA columns when determining the result dtypes. To retain the old behavior, exclude the relevant entries before the concat operation.\n",
      "\n",
      "C:\\Users\\quirosgu\\AppData\\Local\\Temp\\ipykernel_32328\\4072444705.py:9: FutureWarning:\n",
      "\n",
      "The behavior of DataFrame concatenation with empty or all-NA entries is deprecated. In a future version, this will no longer exclude empty or all-NA columns when determining the result dtypes. To retain the old behavior, exclude the relevant entries before the concat operation.\n",
      "\n",
      "C:\\Users\\quirosgu\\AppData\\Local\\Temp\\ipykernel_32328\\4072444705.py:9: FutureWarning:\n",
      "\n",
      "The behavior of DataFrame concatenation with empty or all-NA entries is deprecated. In a future version, this will no longer exclude empty or all-NA columns when determining the result dtypes. To retain the old behavior, exclude the relevant entries before the concat operation.\n",
      "\n",
      "C:\\Users\\quirosgu\\AppData\\Local\\Temp\\ipykernel_32328\\4072444705.py:9: FutureWarning:\n",
      "\n",
      "The behavior of DataFrame concatenation with empty or all-NA entries is deprecated. In a future version, this will no longer exclude empty or all-NA columns when determining the result dtypes. To retain the old behavior, exclude the relevant entries before the concat operation.\n",
      "\n",
      "C:\\Users\\quirosgu\\AppData\\Local\\Temp\\ipykernel_32328\\4072444705.py:9: FutureWarning:\n",
      "\n",
      "The behavior of DataFrame concatenation with empty or all-NA entries is deprecated. In a future version, this will no longer exclude empty or all-NA columns when determining the result dtypes. To retain the old behavior, exclude the relevant entries before the concat operation.\n",
      "\n",
      "C:\\Users\\quirosgu\\AppData\\Local\\Temp\\ipykernel_32328\\4072444705.py:9: FutureWarning:\n",
      "\n",
      "The behavior of DataFrame concatenation with empty or all-NA entries is deprecated. In a future version, this will no longer exclude empty or all-NA columns when determining the result dtypes. To retain the old behavior, exclude the relevant entries before the concat operation.\n",
      "\n",
      "C:\\Users\\quirosgu\\AppData\\Local\\Temp\\ipykernel_32328\\4072444705.py:9: FutureWarning:\n",
      "\n",
      "The behavior of DataFrame concatenation with empty or all-NA entries is deprecated. In a future version, this will no longer exclude empty or all-NA columns when determining the result dtypes. To retain the old behavior, exclude the relevant entries before the concat operation.\n",
      "\n",
      "C:\\Users\\quirosgu\\AppData\\Local\\Temp\\ipykernel_32328\\4072444705.py:9: FutureWarning:\n",
      "\n",
      "The behavior of DataFrame concatenation with empty or all-NA entries is deprecated. In a future version, this will no longer exclude empty or all-NA columns when determining the result dtypes. To retain the old behavior, exclude the relevant entries before the concat operation.\n",
      "\n",
      "C:\\Users\\quirosgu\\AppData\\Local\\Temp\\ipykernel_32328\\4072444705.py:9: FutureWarning:\n",
      "\n",
      "The behavior of DataFrame concatenation with empty or all-NA entries is deprecated. In a future version, this will no longer exclude empty or all-NA columns when determining the result dtypes. To retain the old behavior, exclude the relevant entries before the concat operation.\n",
      "\n",
      "C:\\Users\\quirosgu\\AppData\\Local\\Temp\\ipykernel_32328\\4072444705.py:9: FutureWarning:\n",
      "\n",
      "The behavior of DataFrame concatenation with empty or all-NA entries is deprecated. In a future version, this will no longer exclude empty or all-NA columns when determining the result dtypes. To retain the old behavior, exclude the relevant entries before the concat operation.\n",
      "\n",
      "C:\\Users\\quirosgu\\AppData\\Local\\Temp\\ipykernel_32328\\4072444705.py:9: FutureWarning:\n",
      "\n",
      "The behavior of DataFrame concatenation with empty or all-NA entries is deprecated. In a future version, this will no longer exclude empty or all-NA columns when determining the result dtypes. To retain the old behavior, exclude the relevant entries before the concat operation.\n",
      "\n",
      "C:\\Users\\quirosgu\\AppData\\Local\\Temp\\ipykernel_32328\\4072444705.py:9: FutureWarning:\n",
      "\n",
      "The behavior of DataFrame concatenation with empty or all-NA entries is deprecated. In a future version, this will no longer exclude empty or all-NA columns when determining the result dtypes. To retain the old behavior, exclude the relevant entries before the concat operation.\n",
      "\n",
      "C:\\Users\\quirosgu\\AppData\\Local\\Temp\\ipykernel_32328\\4072444705.py:9: FutureWarning:\n",
      "\n",
      "The behavior of DataFrame concatenation with empty or all-NA entries is deprecated. In a future version, this will no longer exclude empty or all-NA columns when determining the result dtypes. To retain the old behavior, exclude the relevant entries before the concat operation.\n",
      "\n",
      "C:\\Users\\quirosgu\\AppData\\Local\\Temp\\ipykernel_32328\\4072444705.py:9: FutureWarning:\n",
      "\n",
      "The behavior of DataFrame concatenation with empty or all-NA entries is deprecated. In a future version, this will no longer exclude empty or all-NA columns when determining the result dtypes. To retain the old behavior, exclude the relevant entries before the concat operation.\n",
      "\n",
      "C:\\Users\\quirosgu\\AppData\\Local\\Temp\\ipykernel_32328\\4072444705.py:9: FutureWarning:\n",
      "\n",
      "The behavior of DataFrame concatenation with empty or all-NA entries is deprecated. In a future version, this will no longer exclude empty or all-NA columns when determining the result dtypes. To retain the old behavior, exclude the relevant entries before the concat operation.\n",
      "\n",
      "C:\\Users\\quirosgu\\AppData\\Local\\Temp\\ipykernel_32328\\4072444705.py:9: FutureWarning:\n",
      "\n",
      "The behavior of DataFrame concatenation with empty or all-NA entries is deprecated. In a future version, this will no longer exclude empty or all-NA columns when determining the result dtypes. To retain the old behavior, exclude the relevant entries before the concat operation.\n",
      "\n",
      "C:\\Users\\quirosgu\\AppData\\Local\\Temp\\ipykernel_32328\\4072444705.py:9: FutureWarning:\n",
      "\n",
      "The behavior of DataFrame concatenation with empty or all-NA entries is deprecated. In a future version, this will no longer exclude empty or all-NA columns when determining the result dtypes. To retain the old behavior, exclude the relevant entries before the concat operation.\n",
      "\n",
      "C:\\Users\\quirosgu\\AppData\\Local\\Temp\\ipykernel_32328\\4072444705.py:9: FutureWarning:\n",
      "\n",
      "The behavior of DataFrame concatenation with empty or all-NA entries is deprecated. In a future version, this will no longer exclude empty or all-NA columns when determining the result dtypes. To retain the old behavior, exclude the relevant entries before the concat operation.\n",
      "\n",
      "C:\\Users\\quirosgu\\AppData\\Local\\Temp\\ipykernel_32328\\4072444705.py:9: FutureWarning:\n",
      "\n",
      "The behavior of DataFrame concatenation with empty or all-NA entries is deprecated. In a future version, this will no longer exclude empty or all-NA columns when determining the result dtypes. To retain the old behavior, exclude the relevant entries before the concat operation.\n",
      "\n",
      "C:\\Users\\quirosgu\\AppData\\Local\\Temp\\ipykernel_32328\\4072444705.py:9: FutureWarning:\n",
      "\n",
      "The behavior of DataFrame concatenation with empty or all-NA entries is deprecated. In a future version, this will no longer exclude empty or all-NA columns when determining the result dtypes. To retain the old behavior, exclude the relevant entries before the concat operation.\n",
      "\n",
      "C:\\Users\\quirosgu\\AppData\\Local\\Temp\\ipykernel_32328\\4072444705.py:9: FutureWarning:\n",
      "\n",
      "The behavior of DataFrame concatenation with empty or all-NA entries is deprecated. In a future version, this will no longer exclude empty or all-NA columns when determining the result dtypes. To retain the old behavior, exclude the relevant entries before the concat operation.\n",
      "\n",
      "C:\\Users\\quirosgu\\AppData\\Local\\Temp\\ipykernel_32328\\4072444705.py:9: FutureWarning:\n",
      "\n",
      "The behavior of DataFrame concatenation with empty or all-NA entries is deprecated. In a future version, this will no longer exclude empty or all-NA columns when determining the result dtypes. To retain the old behavior, exclude the relevant entries before the concat operation.\n",
      "\n",
      "C:\\Users\\quirosgu\\AppData\\Local\\Temp\\ipykernel_32328\\4072444705.py:9: FutureWarning:\n",
      "\n",
      "The behavior of DataFrame concatenation with empty or all-NA entries is deprecated. In a future version, this will no longer exclude empty or all-NA columns when determining the result dtypes. To retain the old behavior, exclude the relevant entries before the concat operation.\n",
      "\n",
      "C:\\Users\\quirosgu\\AppData\\Local\\Temp\\ipykernel_32328\\4072444705.py:9: FutureWarning:\n",
      "\n",
      "The behavior of DataFrame concatenation with empty or all-NA entries is deprecated. In a future version, this will no longer exclude empty or all-NA columns when determining the result dtypes. To retain the old behavior, exclude the relevant entries before the concat operation.\n",
      "\n",
      "C:\\Users\\quirosgu\\AppData\\Local\\Temp\\ipykernel_32328\\4072444705.py:9: FutureWarning:\n",
      "\n",
      "The behavior of DataFrame concatenation with empty or all-NA entries is deprecated. In a future version, this will no longer exclude empty or all-NA columns when determining the result dtypes. To retain the old behavior, exclude the relevant entries before the concat operation.\n",
      "\n",
      "C:\\Users\\quirosgu\\AppData\\Local\\Temp\\ipykernel_32328\\4072444705.py:9: FutureWarning:\n",
      "\n",
      "The behavior of DataFrame concatenation with empty or all-NA entries is deprecated. In a future version, this will no longer exclude empty or all-NA columns when determining the result dtypes. To retain the old behavior, exclude the relevant entries before the concat operation.\n",
      "\n",
      "C:\\Users\\quirosgu\\AppData\\Local\\Temp\\ipykernel_32328\\4072444705.py:9: FutureWarning:\n",
      "\n",
      "The behavior of DataFrame concatenation with empty or all-NA entries is deprecated. In a future version, this will no longer exclude empty or all-NA columns when determining the result dtypes. To retain the old behavior, exclude the relevant entries before the concat operation.\n",
      "\n",
      "C:\\Users\\quirosgu\\AppData\\Local\\Temp\\ipykernel_32328\\4072444705.py:9: FutureWarning:\n",
      "\n",
      "The behavior of DataFrame concatenation with empty or all-NA entries is deprecated. In a future version, this will no longer exclude empty or all-NA columns when determining the result dtypes. To retain the old behavior, exclude the relevant entries before the concat operation.\n",
      "\n",
      "C:\\Users\\quirosgu\\AppData\\Local\\Temp\\ipykernel_32328\\4072444705.py:9: FutureWarning:\n",
      "\n",
      "The behavior of DataFrame concatenation with empty or all-NA entries is deprecated. In a future version, this will no longer exclude empty or all-NA columns when determining the result dtypes. To retain the old behavior, exclude the relevant entries before the concat operation.\n",
      "\n",
      "C:\\Users\\quirosgu\\AppData\\Local\\Temp\\ipykernel_32328\\4072444705.py:9: FutureWarning:\n",
      "\n",
      "The behavior of DataFrame concatenation with empty or all-NA entries is deprecated. In a future version, this will no longer exclude empty or all-NA columns when determining the result dtypes. To retain the old behavior, exclude the relevant entries before the concat operation.\n",
      "\n",
      "C:\\Users\\quirosgu\\AppData\\Local\\Temp\\ipykernel_32328\\4072444705.py:9: FutureWarning:\n",
      "\n",
      "The behavior of DataFrame concatenation with empty or all-NA entries is deprecated. In a future version, this will no longer exclude empty or all-NA columns when determining the result dtypes. To retain the old behavior, exclude the relevant entries before the concat operation.\n",
      "\n",
      "C:\\Users\\quirosgu\\AppData\\Local\\Temp\\ipykernel_32328\\4072444705.py:9: FutureWarning:\n",
      "\n",
      "The behavior of DataFrame concatenation with empty or all-NA entries is deprecated. In a future version, this will no longer exclude empty or all-NA columns when determining the result dtypes. To retain the old behavior, exclude the relevant entries before the concat operation.\n",
      "\n",
      "C:\\Users\\quirosgu\\AppData\\Local\\Temp\\ipykernel_32328\\4072444705.py:9: FutureWarning:\n",
      "\n",
      "The behavior of DataFrame concatenation with empty or all-NA entries is deprecated. In a future version, this will no longer exclude empty or all-NA columns when determining the result dtypes. To retain the old behavior, exclude the relevant entries before the concat operation.\n",
      "\n",
      "C:\\Users\\quirosgu\\AppData\\Local\\Temp\\ipykernel_32328\\4072444705.py:9: FutureWarning:\n",
      "\n",
      "The behavior of DataFrame concatenation with empty or all-NA entries is deprecated. In a future version, this will no longer exclude empty or all-NA columns when determining the result dtypes. To retain the old behavior, exclude the relevant entries before the concat operation.\n",
      "\n",
      "C:\\Users\\quirosgu\\AppData\\Local\\Temp\\ipykernel_32328\\4072444705.py:9: FutureWarning:\n",
      "\n",
      "The behavior of DataFrame concatenation with empty or all-NA entries is deprecated. In a future version, this will no longer exclude empty or all-NA columns when determining the result dtypes. To retain the old behavior, exclude the relevant entries before the concat operation.\n",
      "\n",
      "C:\\Users\\quirosgu\\AppData\\Local\\Temp\\ipykernel_32328\\4072444705.py:9: FutureWarning:\n",
      "\n",
      "The behavior of DataFrame concatenation with empty or all-NA entries is deprecated. In a future version, this will no longer exclude empty or all-NA columns when determining the result dtypes. To retain the old behavior, exclude the relevant entries before the concat operation.\n",
      "\n",
      "C:\\Users\\quirosgu\\AppData\\Local\\Temp\\ipykernel_32328\\4072444705.py:9: FutureWarning:\n",
      "\n",
      "The behavior of DataFrame concatenation with empty or all-NA entries is deprecated. In a future version, this will no longer exclude empty or all-NA columns when determining the result dtypes. To retain the old behavior, exclude the relevant entries before the concat operation.\n",
      "\n",
      "C:\\Users\\quirosgu\\AppData\\Local\\Temp\\ipykernel_32328\\4072444705.py:9: FutureWarning:\n",
      "\n",
      "The behavior of DataFrame concatenation with empty or all-NA entries is deprecated. In a future version, this will no longer exclude empty or all-NA columns when determining the result dtypes. To retain the old behavior, exclude the relevant entries before the concat operation.\n",
      "\n",
      "C:\\Users\\quirosgu\\AppData\\Local\\Temp\\ipykernel_32328\\4072444705.py:9: FutureWarning:\n",
      "\n",
      "The behavior of DataFrame concatenation with empty or all-NA entries is deprecated. In a future version, this will no longer exclude empty or all-NA columns when determining the result dtypes. To retain the old behavior, exclude the relevant entries before the concat operation.\n",
      "\n",
      "C:\\Users\\quirosgu\\AppData\\Local\\Temp\\ipykernel_32328\\4072444705.py:9: FutureWarning:\n",
      "\n",
      "The behavior of DataFrame concatenation with empty or all-NA entries is deprecated. In a future version, this will no longer exclude empty or all-NA columns when determining the result dtypes. To retain the old behavior, exclude the relevant entries before the concat operation.\n",
      "\n",
      "C:\\Users\\quirosgu\\AppData\\Local\\Temp\\ipykernel_32328\\4072444705.py:9: FutureWarning:\n",
      "\n",
      "The behavior of DataFrame concatenation with empty or all-NA entries is deprecated. In a future version, this will no longer exclude empty or all-NA columns when determining the result dtypes. To retain the old behavior, exclude the relevant entries before the concat operation.\n",
      "\n",
      "C:\\Users\\quirosgu\\AppData\\Local\\Temp\\ipykernel_32328\\4072444705.py:9: FutureWarning:\n",
      "\n",
      "The behavior of DataFrame concatenation with empty or all-NA entries is deprecated. In a future version, this will no longer exclude empty or all-NA columns when determining the result dtypes. To retain the old behavior, exclude the relevant entries before the concat operation.\n",
      "\n",
      "C:\\Users\\quirosgu\\AppData\\Local\\Temp\\ipykernel_32328\\4072444705.py:9: FutureWarning:\n",
      "\n",
      "The behavior of DataFrame concatenation with empty or all-NA entries is deprecated. In a future version, this will no longer exclude empty or all-NA columns when determining the result dtypes. To retain the old behavior, exclude the relevant entries before the concat operation.\n",
      "\n",
      "C:\\Users\\quirosgu\\AppData\\Local\\Temp\\ipykernel_32328\\4072444705.py:9: FutureWarning:\n",
      "\n",
      "The behavior of DataFrame concatenation with empty or all-NA entries is deprecated. In a future version, this will no longer exclude empty or all-NA columns when determining the result dtypes. To retain the old behavior, exclude the relevant entries before the concat operation.\n",
      "\n",
      "C:\\Users\\quirosgu\\AppData\\Local\\Temp\\ipykernel_32328\\4072444705.py:9: FutureWarning:\n",
      "\n",
      "The behavior of DataFrame concatenation with empty or all-NA entries is deprecated. In a future version, this will no longer exclude empty or all-NA columns when determining the result dtypes. To retain the old behavior, exclude the relevant entries before the concat operation.\n",
      "\n",
      "C:\\Users\\quirosgu\\AppData\\Local\\Temp\\ipykernel_32328\\4072444705.py:31: FutureWarning:\n",
      "\n",
      "The default of observed=False is deprecated and will be changed to True in a future version of pandas. Pass observed=False to retain current behavior or observed=True to adopt the future default and silence this warning.\n",
      "\n"
     ]
    },
    {
     "data": {
      "application/vnd.plotly.v1+json": {
       "config": {
        "plotlyServerURL": "https://plot.ly"
       },
       "data": [
        {
         "alignmentgroup": "True",
         "hovertemplate": "Pathway=Alkaloids<br>Recurrence=%{x}<br>species=%{y}<extra></extra>",
         "legendgroup": "Alkaloids",
         "marker": {
          "color": "#305F72",
          "pattern": {
           "shape": ""
          }
         },
         "name": "Alkaloids",
         "offsetgroup": "Alkaloids",
         "orientation": "h",
         "showlegend": true,
         "textposition": "auto",
         "type": "bar",
         "x": [
          2,
          1
         ],
         "xaxis": "x",
         "y": [
          "Maytenus buxifolia",
          "Maytenus magellanica"
         ],
         "yaxis": "y"
        },
        {
         "alignmentgroup": "True",
         "hovertemplate": "Pathway=Polyketides<br>Recurrence=%{x}<br>species=%{y}<extra></extra>",
         "legendgroup": "Polyketides",
         "marker": {
          "color": "#EF4B4B",
          "pattern": {
           "shape": ""
          }
         },
         "name": "Polyketides",
         "offsetgroup": "Polyketides",
         "orientation": "h",
         "showlegend": true,
         "textposition": "auto",
         "type": "bar",
         "x": [
          3,
          1,
          1
         ],
         "xaxis": "x",
         "y": [
          "Gymnosporia wightiana",
          "Maytenus phyllanthoides",
          "Monteverdia amazonica"
         ],
         "yaxis": "y"
        },
        {
         "alignmentgroup": "True",
         "hovertemplate": "Pathway=Shikimates and Phenylpropanoids<br>Recurrence=%{x}<br>species=%{y}<extra></extra>",
         "legendgroup": "Shikimates and Phenylpropanoids",
         "marker": {
          "color": "#80558C",
          "pattern": {
           "shape": ""
          }
         },
         "name": "Shikimates and Phenylpropanoids",
         "offsetgroup": "Shikimates and Phenylpropanoids",
         "orientation": "h",
         "showlegend": true,
         "textposition": "auto",
         "type": "bar",
         "x": [
          3,
          1,
          2,
          2
         ],
         "xaxis": "x",
         "y": [
          "Maytenus boaria",
          "Maytenus chubutensis",
          "Maytenus disticha",
          "Monteverdia retusa"
         ],
         "yaxis": "y"
        },
        {
         "alignmentgroup": "True",
         "hovertemplate": "Pathway=Terpenoids<br>Recurrence=%{x}<br>species=%{y}<extra></extra>",
         "legendgroup": "Terpenoids",
         "marker": {
          "color": "#618264",
          "pattern": {
           "shape": ""
          }
         },
         "name": "Terpenoids",
         "offsetgroup": "Terpenoids",
         "orientation": "h",
         "showlegend": true,
         "textposition": "auto",
         "type": "bar",
         "x": [
          39,
          8,
          1,
          38,
          1,
          15,
          6,
          12,
          24,
          9,
          19,
          8,
          22,
          14,
          5,
          2,
          42,
          19
         ],
         "xaxis": "x",
         "y": [
          "Gymnosporia cassinoides",
          "Gymnosporia dryandri",
          "Maytenus acuminata",
          "Maytenus boaria",
          "Maytenus buxifolia",
          "Maytenus chubutensis",
          "Maytenus disticha",
          "Maytenus jelskii",
          "Maytenus magellanica",
          "Maytenus salicifolia",
          "Maytenus scutioides",
          "Maytenus undata",
          "Maytenus woodsonii",
          "Monteverdia amazonica",
          "Monteverdia gonoclada",
          "Monteverdia myrsinoides",
          "Monteverdia retusa",
          "Monteverdia spinosa"
         ],
         "yaxis": "y"
        }
       ],
       "layout": {
        "barmode": "relative",
        "height": 1500,
        "legend": {
         "title": {
          "text": "Pathway"
         },
         "tracegroupgap": 0
        },
        "plot_bgcolor": "white",
        "template": {
         "data": {
          "bar": [
           {
            "error_x": {
             "color": "#2a3f5f"
            },
            "error_y": {
             "color": "#2a3f5f"
            },
            "marker": {
             "line": {
              "color": "#E5ECF6",
              "width": 0.5
             },
             "pattern": {
              "fillmode": "overlay",
              "size": 10,
              "solidity": 0.2
             }
            },
            "type": "bar"
           }
          ],
          "barpolar": [
           {
            "marker": {
             "line": {
              "color": "#E5ECF6",
              "width": 0.5
             },
             "pattern": {
              "fillmode": "overlay",
              "size": 10,
              "solidity": 0.2
             }
            },
            "type": "barpolar"
           }
          ],
          "carpet": [
           {
            "aaxis": {
             "endlinecolor": "#2a3f5f",
             "gridcolor": "white",
             "linecolor": "white",
             "minorgridcolor": "white",
             "startlinecolor": "#2a3f5f"
            },
            "baxis": {
             "endlinecolor": "#2a3f5f",
             "gridcolor": "white",
             "linecolor": "white",
             "minorgridcolor": "white",
             "startlinecolor": "#2a3f5f"
            },
            "type": "carpet"
           }
          ],
          "choropleth": [
           {
            "colorbar": {
             "outlinewidth": 0,
             "ticks": ""
            },
            "type": "choropleth"
           }
          ],
          "contour": [
           {
            "colorbar": {
             "outlinewidth": 0,
             "ticks": ""
            },
            "colorscale": [
             [
              0,
              "#0d0887"
             ],
             [
              0.1111111111111111,
              "#46039f"
             ],
             [
              0.2222222222222222,
              "#7201a8"
             ],
             [
              0.3333333333333333,
              "#9c179e"
             ],
             [
              0.4444444444444444,
              "#bd3786"
             ],
             [
              0.5555555555555556,
              "#d8576b"
             ],
             [
              0.6666666666666666,
              "#ed7953"
             ],
             [
              0.7777777777777778,
              "#fb9f3a"
             ],
             [
              0.8888888888888888,
              "#fdca26"
             ],
             [
              1,
              "#f0f921"
             ]
            ],
            "type": "contour"
           }
          ],
          "contourcarpet": [
           {
            "colorbar": {
             "outlinewidth": 0,
             "ticks": ""
            },
            "type": "contourcarpet"
           }
          ],
          "heatmap": [
           {
            "colorbar": {
             "outlinewidth": 0,
             "ticks": ""
            },
            "colorscale": [
             [
              0,
              "#0d0887"
             ],
             [
              0.1111111111111111,
              "#46039f"
             ],
             [
              0.2222222222222222,
              "#7201a8"
             ],
             [
              0.3333333333333333,
              "#9c179e"
             ],
             [
              0.4444444444444444,
              "#bd3786"
             ],
             [
              0.5555555555555556,
              "#d8576b"
             ],
             [
              0.6666666666666666,
              "#ed7953"
             ],
             [
              0.7777777777777778,
              "#fb9f3a"
             ],
             [
              0.8888888888888888,
              "#fdca26"
             ],
             [
              1,
              "#f0f921"
             ]
            ],
            "type": "heatmap"
           }
          ],
          "heatmapgl": [
           {
            "colorbar": {
             "outlinewidth": 0,
             "ticks": ""
            },
            "colorscale": [
             [
              0,
              "#0d0887"
             ],
             [
              0.1111111111111111,
              "#46039f"
             ],
             [
              0.2222222222222222,
              "#7201a8"
             ],
             [
              0.3333333333333333,
              "#9c179e"
             ],
             [
              0.4444444444444444,
              "#bd3786"
             ],
             [
              0.5555555555555556,
              "#d8576b"
             ],
             [
              0.6666666666666666,
              "#ed7953"
             ],
             [
              0.7777777777777778,
              "#fb9f3a"
             ],
             [
              0.8888888888888888,
              "#fdca26"
             ],
             [
              1,
              "#f0f921"
             ]
            ],
            "type": "heatmapgl"
           }
          ],
          "histogram": [
           {
            "marker": {
             "pattern": {
              "fillmode": "overlay",
              "size": 10,
              "solidity": 0.2
             }
            },
            "type": "histogram"
           }
          ],
          "histogram2d": [
           {
            "colorbar": {
             "outlinewidth": 0,
             "ticks": ""
            },
            "colorscale": [
             [
              0,
              "#0d0887"
             ],
             [
              0.1111111111111111,
              "#46039f"
             ],
             [
              0.2222222222222222,
              "#7201a8"
             ],
             [
              0.3333333333333333,
              "#9c179e"
             ],
             [
              0.4444444444444444,
              "#bd3786"
             ],
             [
              0.5555555555555556,
              "#d8576b"
             ],
             [
              0.6666666666666666,
              "#ed7953"
             ],
             [
              0.7777777777777778,
              "#fb9f3a"
             ],
             [
              0.8888888888888888,
              "#fdca26"
             ],
             [
              1,
              "#f0f921"
             ]
            ],
            "type": "histogram2d"
           }
          ],
          "histogram2dcontour": [
           {
            "colorbar": {
             "outlinewidth": 0,
             "ticks": ""
            },
            "colorscale": [
             [
              0,
              "#0d0887"
             ],
             [
              0.1111111111111111,
              "#46039f"
             ],
             [
              0.2222222222222222,
              "#7201a8"
             ],
             [
              0.3333333333333333,
              "#9c179e"
             ],
             [
              0.4444444444444444,
              "#bd3786"
             ],
             [
              0.5555555555555556,
              "#d8576b"
             ],
             [
              0.6666666666666666,
              "#ed7953"
             ],
             [
              0.7777777777777778,
              "#fb9f3a"
             ],
             [
              0.8888888888888888,
              "#fdca26"
             ],
             [
              1,
              "#f0f921"
             ]
            ],
            "type": "histogram2dcontour"
           }
          ],
          "mesh3d": [
           {
            "colorbar": {
             "outlinewidth": 0,
             "ticks": ""
            },
            "type": "mesh3d"
           }
          ],
          "parcoords": [
           {
            "line": {
             "colorbar": {
              "outlinewidth": 0,
              "ticks": ""
             }
            },
            "type": "parcoords"
           }
          ],
          "pie": [
           {
            "automargin": true,
            "type": "pie"
           }
          ],
          "scatter": [
           {
            "fillpattern": {
             "fillmode": "overlay",
             "size": 10,
             "solidity": 0.2
            },
            "type": "scatter"
           }
          ],
          "scatter3d": [
           {
            "line": {
             "colorbar": {
              "outlinewidth": 0,
              "ticks": ""
             }
            },
            "marker": {
             "colorbar": {
              "outlinewidth": 0,
              "ticks": ""
             }
            },
            "type": "scatter3d"
           }
          ],
          "scattercarpet": [
           {
            "marker": {
             "colorbar": {
              "outlinewidth": 0,
              "ticks": ""
             }
            },
            "type": "scattercarpet"
           }
          ],
          "scattergeo": [
           {
            "marker": {
             "colorbar": {
              "outlinewidth": 0,
              "ticks": ""
             }
            },
            "type": "scattergeo"
           }
          ],
          "scattergl": [
           {
            "marker": {
             "colorbar": {
              "outlinewidth": 0,
              "ticks": ""
             }
            },
            "type": "scattergl"
           }
          ],
          "scattermapbox": [
           {
            "marker": {
             "colorbar": {
              "outlinewidth": 0,
              "ticks": ""
             }
            },
            "type": "scattermapbox"
           }
          ],
          "scatterpolar": [
           {
            "marker": {
             "colorbar": {
              "outlinewidth": 0,
              "ticks": ""
             }
            },
            "type": "scatterpolar"
           }
          ],
          "scatterpolargl": [
           {
            "marker": {
             "colorbar": {
              "outlinewidth": 0,
              "ticks": ""
             }
            },
            "type": "scatterpolargl"
           }
          ],
          "scatterternary": [
           {
            "marker": {
             "colorbar": {
              "outlinewidth": 0,
              "ticks": ""
             }
            },
            "type": "scatterternary"
           }
          ],
          "surface": [
           {
            "colorbar": {
             "outlinewidth": 0,
             "ticks": ""
            },
            "colorscale": [
             [
              0,
              "#0d0887"
             ],
             [
              0.1111111111111111,
              "#46039f"
             ],
             [
              0.2222222222222222,
              "#7201a8"
             ],
             [
              0.3333333333333333,
              "#9c179e"
             ],
             [
              0.4444444444444444,
              "#bd3786"
             ],
             [
              0.5555555555555556,
              "#d8576b"
             ],
             [
              0.6666666666666666,
              "#ed7953"
             ],
             [
              0.7777777777777778,
              "#fb9f3a"
             ],
             [
              0.8888888888888888,
              "#fdca26"
             ],
             [
              1,
              "#f0f921"
             ]
            ],
            "type": "surface"
           }
          ],
          "table": [
           {
            "cells": {
             "fill": {
              "color": "#EBF0F8"
             },
             "line": {
              "color": "white"
             }
            },
            "header": {
             "fill": {
              "color": "#C8D4E3"
             },
             "line": {
              "color": "white"
             }
            },
            "type": "table"
           }
          ]
         },
         "layout": {
          "annotationdefaults": {
           "arrowcolor": "#2a3f5f",
           "arrowhead": 0,
           "arrowwidth": 1
          },
          "autotypenumbers": "strict",
          "coloraxis": {
           "colorbar": {
            "outlinewidth": 0,
            "ticks": ""
           }
          },
          "colorscale": {
           "diverging": [
            [
             0,
             "#8e0152"
            ],
            [
             0.1,
             "#c51b7d"
            ],
            [
             0.2,
             "#de77ae"
            ],
            [
             0.3,
             "#f1b6da"
            ],
            [
             0.4,
             "#fde0ef"
            ],
            [
             0.5,
             "#f7f7f7"
            ],
            [
             0.6,
             "#e6f5d0"
            ],
            [
             0.7,
             "#b8e186"
            ],
            [
             0.8,
             "#7fbc41"
            ],
            [
             0.9,
             "#4d9221"
            ],
            [
             1,
             "#276419"
            ]
           ],
           "sequential": [
            [
             0,
             "#0d0887"
            ],
            [
             0.1111111111111111,
             "#46039f"
            ],
            [
             0.2222222222222222,
             "#7201a8"
            ],
            [
             0.3333333333333333,
             "#9c179e"
            ],
            [
             0.4444444444444444,
             "#bd3786"
            ],
            [
             0.5555555555555556,
             "#d8576b"
            ],
            [
             0.6666666666666666,
             "#ed7953"
            ],
            [
             0.7777777777777778,
             "#fb9f3a"
            ],
            [
             0.8888888888888888,
             "#fdca26"
            ],
            [
             1,
             "#f0f921"
            ]
           ],
           "sequentialminus": [
            [
             0,
             "#0d0887"
            ],
            [
             0.1111111111111111,
             "#46039f"
            ],
            [
             0.2222222222222222,
             "#7201a8"
            ],
            [
             0.3333333333333333,
             "#9c179e"
            ],
            [
             0.4444444444444444,
             "#bd3786"
            ],
            [
             0.5555555555555556,
             "#d8576b"
            ],
            [
             0.6666666666666666,
             "#ed7953"
            ],
            [
             0.7777777777777778,
             "#fb9f3a"
            ],
            [
             0.8888888888888888,
             "#fdca26"
            ],
            [
             1,
             "#f0f921"
            ]
           ]
          },
          "colorway": [
           "#636efa",
           "#EF553B",
           "#00cc96",
           "#ab63fa",
           "#FFA15A",
           "#19d3f3",
           "#FF6692",
           "#B6E880",
           "#FF97FF",
           "#FECB52"
          ],
          "font": {
           "color": "#2a3f5f"
          },
          "geo": {
           "bgcolor": "white",
           "lakecolor": "white",
           "landcolor": "#E5ECF6",
           "showlakes": true,
           "showland": true,
           "subunitcolor": "white"
          },
          "hoverlabel": {
           "align": "left"
          },
          "hovermode": "closest",
          "mapbox": {
           "style": "light"
          },
          "paper_bgcolor": "white",
          "plot_bgcolor": "#E5ECF6",
          "polar": {
           "angularaxis": {
            "gridcolor": "white",
            "linecolor": "white",
            "ticks": ""
           },
           "bgcolor": "#E5ECF6",
           "radialaxis": {
            "gridcolor": "white",
            "linecolor": "white",
            "ticks": ""
           }
          },
          "scene": {
           "xaxis": {
            "backgroundcolor": "#E5ECF6",
            "gridcolor": "white",
            "gridwidth": 2,
            "linecolor": "white",
            "showbackground": true,
            "ticks": "",
            "zerolinecolor": "white"
           },
           "yaxis": {
            "backgroundcolor": "#E5ECF6",
            "gridcolor": "white",
            "gridwidth": 2,
            "linecolor": "white",
            "showbackground": true,
            "ticks": "",
            "zerolinecolor": "white"
           },
           "zaxis": {
            "backgroundcolor": "#E5ECF6",
            "gridcolor": "white",
            "gridwidth": 2,
            "linecolor": "white",
            "showbackground": true,
            "ticks": "",
            "zerolinecolor": "white"
           }
          },
          "shapedefaults": {
           "line": {
            "color": "#2a3f5f"
           }
          },
          "ternary": {
           "aaxis": {
            "gridcolor": "white",
            "linecolor": "white",
            "ticks": ""
           },
           "baxis": {
            "gridcolor": "white",
            "linecolor": "white",
            "ticks": ""
           },
           "bgcolor": "#E5ECF6",
           "caxis": {
            "gridcolor": "white",
            "linecolor": "white",
            "ticks": ""
           }
          },
          "title": {
           "x": 0.05
          },
          "xaxis": {
           "automargin": true,
           "gridcolor": "white",
           "linecolor": "white",
           "ticks": "",
           "title": {
            "standoff": 15
           },
           "zerolinecolor": "white",
           "zerolinewidth": 2
          },
          "yaxis": {
           "automargin": true,
           "gridcolor": "white",
           "linecolor": "white",
           "ticks": "",
           "title": {
            "standoff": 15
           },
           "zerolinecolor": "white",
           "zerolinewidth": 2
          }
         }
        },
        "title": {
         "text": "Stacked Barplot of Predicted Pathways Ocurrence for Species"
        },
        "width": 1500,
        "xaxis": {
         "anchor": "y",
         "domain": [
          0,
          1
         ],
         "title": {
          "text": "Recurrence"
         }
        },
        "yaxis": {
         "anchor": "x",
         "categoryarray": [
          "Monteverdia spinosa",
          "Monteverdia retusa",
          "Monteverdia myrsinoides",
          "Monteverdia gonoclada",
          "Monteverdia amazonica",
          "Maytenus woodsonii",
          "Maytenus undata",
          "Maytenus scutioides",
          "Maytenus salicifolia",
          "Maytenus phyllanthoides",
          "Maytenus magellanica",
          "Maytenus jelskii",
          "Maytenus disticha",
          "Maytenus chubutensis",
          "Maytenus buxifolia",
          "Maytenus boaria",
          "Maytenus acuminata",
          "Gymnosporia wightiana",
          "Gymnosporia dryandri",
          "Gymnosporia cassinoides"
         ],
         "categoryorder": "array",
         "domain": [
          0,
          1
         ],
         "tickmode": "array",
         "ticktext": [
          "<i>Gymnosporia cassinoides</i>",
          "<i>Gymnosporia dryandri</i>",
          "<i>Gymnosporia wightiana</i>",
          "<i>Maytenus acuminata</i>",
          "<i>Maytenus boaria</i>",
          "<i>Maytenus buxifolia</i>",
          "<i>Maytenus chubutensis</i>",
          "<i>Maytenus disticha</i>",
          "<i>Maytenus jelskii</i>",
          "<i>Maytenus magellanica</i>",
          "<i>Maytenus phyllanthoides</i>",
          "<i>Maytenus salicifolia</i>",
          "<i>Maytenus scutioides</i>",
          "<i>Maytenus undata</i>",
          "<i>Maytenus woodsonii</i>",
          "<i>Monteverdia amazonica</i>",
          "<i>Monteverdia gonoclada</i>",
          "<i>Monteverdia myrsinoides</i>",
          "<i>Monteverdia retusa</i>",
          "<i>Monteverdia spinosa</i>"
         ],
         "tickvals": [
          0,
          1,
          2,
          3,
          4,
          5,
          6,
          7,
          8,
          9,
          10,
          11,
          12,
          13,
          14,
          15,
          16,
          17,
          18,
          19
         ],
         "title": {
          "text": "<i>Species<i>"
         }
        }
       }
      }
     },
     "metadata": {},
     "output_type": "display_data"
    }
   ],
   "source": [
    "\n",
    "# Step 1: Initialize an empty DataFrame to store all data\n",
    "all_data = pd.DataFrame(columns=['organism_taxonomy_09species', 'structure_taxonomy_npclassifier_01pathway'])\n",
    "\n",
    "# Step 2: Read data from all .tsv files in the output_folder\n",
    "species_data_folder = os.path.join(output_folder, 'species_data')\n",
    "for filename in os.listdir(species_data_folder):\n",
    "    if filename.endswith(\".tsv\"):\n",
    "        file_data = pd.read_csv(os.path.join(species_data_folder, filename), sep='\\t')\n",
    "        all_data = pd.concat([all_data, file_data])\n",
    "\n",
    "# Step 3: Rename the \"queried_taxaLabel\" column to \"species\"\n",
    "all_data.rename(columns={'organism_taxonomy_09species': 'species'}, inplace=True)\n",
    "all_data.rename(columns={'structure_taxonomy_npclassifier_01pathway': 'Pathway'}, inplace=True)\n",
    "\n",
    "# Remove 'API Error-API Error' and 'Not Classified-Not Classified'\n",
    "all_data = all_data[(all_data['Pathway'] != 'API Error') & (all_data['Pathway'] != 'Not Classified')]\n",
    "\n",
    "# Step 4: Group and aggregate data to calculate recurrence\n",
    "agg_data = all_data.groupby(['species', 'Pathway']).size().reset_index(name='recurrence')\n",
    "\n",
    "# Convert 'species' column to categorical data\n",
    "agg_data['species'] = pd.Categorical(agg_data['species'], categories=agg_data['species'].unique(), ordered=True)\n",
    "\n",
    "# Get unique species names\n",
    "unique_species = agg_data['species'].unique()\n",
    "\n",
    "# Get unique pathways and sort them alphabetically\n",
    "unique_pathways = sorted(agg_data['Pathway'].unique())\n",
    "\n",
    "# Calculate total recurrence for each species\n",
    "total_recurrence_per_species = agg_data.groupby('species')['recurrence'].sum()\n",
    "\n",
    "\n",
    "# Step 5: Create the stacked barplot with custom colors\n",
    "fig = px.bar(agg_data, y='species', x='recurrence',\n",
    "             title='Stacked Barplot of Predicted Pathways Ocurrence for Species',\n",
    "             labels={'recurrence': 'Recurrence'},\n",
    "             color='Pathway',\n",
    "             color_discrete_map=pathway_colors,  # Use custom colors\n",
    "             category_orders={'species': unique_species, 'Pathway' :unique_pathways },\n",
    "             orientation='h'\n",
    "            )\n",
    "\n",
    "# Modify the y-axis label\n",
    "fig.update_yaxes(title_text='<i>Species<i>')\n",
    "\n",
    "# Set species labels in italics\n",
    "fig.update_layout(yaxis=dict(tickmode='array', \n",
    "                              tickvals=list(range(len(unique_species))), \n",
    "                              ticktext=[f'<i>{species}</i>' for species in unique_species]\n",
    "                              ))\n",
    "\n",
    "# Set a white background\n",
    "fig.update_layout(plot_bgcolor='white')\n",
    "\n",
    "# Modify the size of the figure\n",
    "fig.update_layout(width=1500, height=1500)\n",
    "\n",
    "# Save the figure as an HTML file\n",
    "fig.write_html(f'{output_folder}Wikidata_pathway_barplot_species.html')\n",
    "\n",
    "# Show or save the figure\n",
    "fig.show()\n"
   ]
  },
  {
   "cell_type": "code",
   "execution_count": 12,
   "metadata": {},
   "outputs": [
    {
     "name": "stderr",
     "output_type": "stream",
     "text": [
      "C:\\Users\\quirosgu\\AppData\\Local\\Temp\\ipykernel_32328\\848878991.py:4: FutureWarning:\n",
      "\n",
      "The default of observed=False is deprecated and will be changed to True in a future version of pandas. Pass observed=False to retain current behavior or observed=True to adopt the future default and silence this warning.\n",
      "\n",
      "C:\\Users\\quirosgu\\AppData\\Local\\Temp\\ipykernel_32328\\848878991.py:16: FutureWarning:\n",
      "\n",
      "The default of observed=False is deprecated and will be changed to True in a future version of pandas. Pass observed=False to retain current behavior or observed=True to adopt the future default and silence this warning.\n",
      "\n"
     ]
    },
    {
     "data": {
      "application/vnd.plotly.v1+json": {
       "config": {
        "plotlyServerURL": "https://plot.ly"
       },
       "data": [
        {
         "alignmentgroup": "True",
         "hovertemplate": "Pathway=Alkaloids<br>Recurrence=%{x}<br>species=%{y}<extra></extra>",
         "legendgroup": "Alkaloids",
         "marker": {
          "color": "#305F72",
          "pattern": {
           "shape": ""
          }
         },
         "name": "Alkaloids",
         "offsetgroup": "Alkaloids",
         "orientation": "h",
         "showlegend": true,
         "textposition": "auto",
         "type": "bar",
         "x": [
          66.66666666666666,
          4
         ],
         "xaxis": "x",
         "y": [
          "Maytenus buxifolia",
          "Maytenus magellanica"
         ],
         "yaxis": "y"
        },
        {
         "alignmentgroup": "True",
         "hovertemplate": "Pathway=Polyketides<br>Recurrence=%{x}<br>species=%{y}<extra></extra>",
         "legendgroup": "Polyketides",
         "marker": {
          "color": "#EF4B4B",
          "pattern": {
           "shape": ""
          }
         },
         "name": "Polyketides",
         "offsetgroup": "Polyketides",
         "orientation": "h",
         "showlegend": true,
         "textposition": "auto",
         "type": "bar",
         "x": [
          100,
          100,
          6.666666666666667
         ],
         "xaxis": "x",
         "y": [
          "Gymnosporia wightiana",
          "Maytenus phyllanthoides",
          "Monteverdia amazonica"
         ],
         "yaxis": "y"
        },
        {
         "alignmentgroup": "True",
         "hovertemplate": "Pathway=Shikimates and Phenylpropanoids<br>Recurrence=%{x}<br>species=%{y}<extra></extra>",
         "legendgroup": "Shikimates and Phenylpropanoids",
         "marker": {
          "color": "#80558C",
          "pattern": {
           "shape": ""
          }
         },
         "name": "Shikimates and Phenylpropanoids",
         "offsetgroup": "Shikimates and Phenylpropanoids",
         "orientation": "h",
         "showlegend": true,
         "textposition": "auto",
         "type": "bar",
         "x": [
          7.317073170731707,
          6.25,
          25,
          4.545454545454546
         ],
         "xaxis": "x",
         "y": [
          "Maytenus boaria",
          "Maytenus chubutensis",
          "Maytenus disticha",
          "Monteverdia retusa"
         ],
         "yaxis": "y"
        },
        {
         "alignmentgroup": "True",
         "hovertemplate": "Pathway=Terpenoids<br>Recurrence=%{x}<br>species=%{y}<extra></extra>",
         "legendgroup": "Terpenoids",
         "marker": {
          "color": "#618264",
          "pattern": {
           "shape": ""
          }
         },
         "name": "Terpenoids",
         "offsetgroup": "Terpenoids",
         "orientation": "h",
         "showlegend": true,
         "textposition": "auto",
         "type": "bar",
         "x": [
          100,
          100,
          100,
          92.6829268292683,
          33.33333333333333,
          93.75,
          75,
          100,
          96,
          100,
          100,
          100,
          100,
          93.33333333333333,
          100,
          100,
          95.45454545454545,
          100
         ],
         "xaxis": "x",
         "y": [
          "Gymnosporia cassinoides",
          "Gymnosporia dryandri",
          "Maytenus acuminata",
          "Maytenus boaria",
          "Maytenus buxifolia",
          "Maytenus chubutensis",
          "Maytenus disticha",
          "Maytenus jelskii",
          "Maytenus magellanica",
          "Maytenus salicifolia",
          "Maytenus scutioides",
          "Maytenus undata",
          "Maytenus woodsonii",
          "Monteverdia amazonica",
          "Monteverdia gonoclada",
          "Monteverdia myrsinoides",
          "Monteverdia retusa",
          "Monteverdia spinosa"
         ],
         "yaxis": "y"
        }
       ],
       "layout": {
        "annotations": [
         {
          "font": {
           "color": "black",
           "size": 10
          },
          "showarrow": false,
          "text": "Total compounds: 39",
          "x": 100,
          "xanchor": "left",
          "y": "Gymnosporia cassinoides",
          "yanchor": "middle"
         },
         {
          "font": {
           "color": "black",
           "size": 10
          },
          "showarrow": false,
          "text": "Total compounds: 8",
          "x": 100,
          "xanchor": "left",
          "y": "Gymnosporia dryandri",
          "yanchor": "middle"
         },
         {
          "font": {
           "color": "black",
           "size": 10
          },
          "showarrow": false,
          "text": "Total compounds: 3",
          "x": 100,
          "xanchor": "left",
          "y": "Gymnosporia wightiana",
          "yanchor": "middle"
         },
         {
          "font": {
           "color": "black",
           "size": 10
          },
          "showarrow": false,
          "text": "Total compounds: 1",
          "x": 100,
          "xanchor": "left",
          "y": "Maytenus acuminata",
          "yanchor": "middle"
         },
         {
          "font": {
           "color": "black",
           "size": 10
          },
          "showarrow": false,
          "text": "Total compounds: 41",
          "x": 100,
          "xanchor": "left",
          "y": "Maytenus boaria",
          "yanchor": "middle"
         },
         {
          "font": {
           "color": "black",
           "size": 10
          },
          "showarrow": false,
          "text": "Total compounds: 3",
          "x": 100,
          "xanchor": "left",
          "y": "Maytenus buxifolia",
          "yanchor": "middle"
         },
         {
          "font": {
           "color": "black",
           "size": 10
          },
          "showarrow": false,
          "text": "Total compounds: 16",
          "x": 100,
          "xanchor": "left",
          "y": "Maytenus chubutensis",
          "yanchor": "middle"
         },
         {
          "font": {
           "color": "black",
           "size": 10
          },
          "showarrow": false,
          "text": "Total compounds: 8",
          "x": 100,
          "xanchor": "left",
          "y": "Maytenus disticha",
          "yanchor": "middle"
         },
         {
          "font": {
           "color": "black",
           "size": 10
          },
          "showarrow": false,
          "text": "Total compounds: 12",
          "x": 100,
          "xanchor": "left",
          "y": "Maytenus jelskii",
          "yanchor": "middle"
         },
         {
          "font": {
           "color": "black",
           "size": 10
          },
          "showarrow": false,
          "text": "Total compounds: 25",
          "x": 100,
          "xanchor": "left",
          "y": "Maytenus magellanica",
          "yanchor": "middle"
         },
         {
          "font": {
           "color": "black",
           "size": 10
          },
          "showarrow": false,
          "text": "Total compounds: 1",
          "x": 100,
          "xanchor": "left",
          "y": "Maytenus phyllanthoides",
          "yanchor": "middle"
         },
         {
          "font": {
           "color": "black",
           "size": 10
          },
          "showarrow": false,
          "text": "Total compounds: 9",
          "x": 100,
          "xanchor": "left",
          "y": "Maytenus salicifolia",
          "yanchor": "middle"
         },
         {
          "font": {
           "color": "black",
           "size": 10
          },
          "showarrow": false,
          "text": "Total compounds: 19",
          "x": 100,
          "xanchor": "left",
          "y": "Maytenus scutioides",
          "yanchor": "middle"
         },
         {
          "font": {
           "color": "black",
           "size": 10
          },
          "showarrow": false,
          "text": "Total compounds: 8",
          "x": 100,
          "xanchor": "left",
          "y": "Maytenus undata",
          "yanchor": "middle"
         },
         {
          "font": {
           "color": "black",
           "size": 10
          },
          "showarrow": false,
          "text": "Total compounds: 22",
          "x": 100,
          "xanchor": "left",
          "y": "Maytenus woodsonii",
          "yanchor": "middle"
         },
         {
          "font": {
           "color": "black",
           "size": 10
          },
          "showarrow": false,
          "text": "Total compounds: 15",
          "x": 100,
          "xanchor": "left",
          "y": "Monteverdia amazonica",
          "yanchor": "middle"
         },
         {
          "font": {
           "color": "black",
           "size": 10
          },
          "showarrow": false,
          "text": "Total compounds: 5",
          "x": 100,
          "xanchor": "left",
          "y": "Monteverdia gonoclada",
          "yanchor": "middle"
         },
         {
          "font": {
           "color": "black",
           "size": 10
          },
          "showarrow": false,
          "text": "Total compounds: 2",
          "x": 100,
          "xanchor": "left",
          "y": "Monteverdia myrsinoides",
          "yanchor": "middle"
         },
         {
          "font": {
           "color": "black",
           "size": 10
          },
          "showarrow": false,
          "text": "Total compounds: 44",
          "x": 100,
          "xanchor": "left",
          "y": "Monteverdia retusa",
          "yanchor": "middle"
         },
         {
          "font": {
           "color": "black",
           "size": 10
          },
          "showarrow": false,
          "text": "Total compounds: 19",
          "x": 100,
          "xanchor": "left",
          "y": "Monteverdia spinosa",
          "yanchor": "middle"
         }
        ],
        "barmode": "relative",
        "height": 1500,
        "legend": {
         "title": {
          "text": "Pathway"
         },
         "tracegroupgap": 0
        },
        "plot_bgcolor": "white",
        "template": {
         "data": {
          "bar": [
           {
            "error_x": {
             "color": "#2a3f5f"
            },
            "error_y": {
             "color": "#2a3f5f"
            },
            "marker": {
             "line": {
              "color": "#E5ECF6",
              "width": 0.5
             },
             "pattern": {
              "fillmode": "overlay",
              "size": 10,
              "solidity": 0.2
             }
            },
            "type": "bar"
           }
          ],
          "barpolar": [
           {
            "marker": {
             "line": {
              "color": "#E5ECF6",
              "width": 0.5
             },
             "pattern": {
              "fillmode": "overlay",
              "size": 10,
              "solidity": 0.2
             }
            },
            "type": "barpolar"
           }
          ],
          "carpet": [
           {
            "aaxis": {
             "endlinecolor": "#2a3f5f",
             "gridcolor": "white",
             "linecolor": "white",
             "minorgridcolor": "white",
             "startlinecolor": "#2a3f5f"
            },
            "baxis": {
             "endlinecolor": "#2a3f5f",
             "gridcolor": "white",
             "linecolor": "white",
             "minorgridcolor": "white",
             "startlinecolor": "#2a3f5f"
            },
            "type": "carpet"
           }
          ],
          "choropleth": [
           {
            "colorbar": {
             "outlinewidth": 0,
             "ticks": ""
            },
            "type": "choropleth"
           }
          ],
          "contour": [
           {
            "colorbar": {
             "outlinewidth": 0,
             "ticks": ""
            },
            "colorscale": [
             [
              0,
              "#0d0887"
             ],
             [
              0.1111111111111111,
              "#46039f"
             ],
             [
              0.2222222222222222,
              "#7201a8"
             ],
             [
              0.3333333333333333,
              "#9c179e"
             ],
             [
              0.4444444444444444,
              "#bd3786"
             ],
             [
              0.5555555555555556,
              "#d8576b"
             ],
             [
              0.6666666666666666,
              "#ed7953"
             ],
             [
              0.7777777777777778,
              "#fb9f3a"
             ],
             [
              0.8888888888888888,
              "#fdca26"
             ],
             [
              1,
              "#f0f921"
             ]
            ],
            "type": "contour"
           }
          ],
          "contourcarpet": [
           {
            "colorbar": {
             "outlinewidth": 0,
             "ticks": ""
            },
            "type": "contourcarpet"
           }
          ],
          "heatmap": [
           {
            "colorbar": {
             "outlinewidth": 0,
             "ticks": ""
            },
            "colorscale": [
             [
              0,
              "#0d0887"
             ],
             [
              0.1111111111111111,
              "#46039f"
             ],
             [
              0.2222222222222222,
              "#7201a8"
             ],
             [
              0.3333333333333333,
              "#9c179e"
             ],
             [
              0.4444444444444444,
              "#bd3786"
             ],
             [
              0.5555555555555556,
              "#d8576b"
             ],
             [
              0.6666666666666666,
              "#ed7953"
             ],
             [
              0.7777777777777778,
              "#fb9f3a"
             ],
             [
              0.8888888888888888,
              "#fdca26"
             ],
             [
              1,
              "#f0f921"
             ]
            ],
            "type": "heatmap"
           }
          ],
          "heatmapgl": [
           {
            "colorbar": {
             "outlinewidth": 0,
             "ticks": ""
            },
            "colorscale": [
             [
              0,
              "#0d0887"
             ],
             [
              0.1111111111111111,
              "#46039f"
             ],
             [
              0.2222222222222222,
              "#7201a8"
             ],
             [
              0.3333333333333333,
              "#9c179e"
             ],
             [
              0.4444444444444444,
              "#bd3786"
             ],
             [
              0.5555555555555556,
              "#d8576b"
             ],
             [
              0.6666666666666666,
              "#ed7953"
             ],
             [
              0.7777777777777778,
              "#fb9f3a"
             ],
             [
              0.8888888888888888,
              "#fdca26"
             ],
             [
              1,
              "#f0f921"
             ]
            ],
            "type": "heatmapgl"
           }
          ],
          "histogram": [
           {
            "marker": {
             "pattern": {
              "fillmode": "overlay",
              "size": 10,
              "solidity": 0.2
             }
            },
            "type": "histogram"
           }
          ],
          "histogram2d": [
           {
            "colorbar": {
             "outlinewidth": 0,
             "ticks": ""
            },
            "colorscale": [
             [
              0,
              "#0d0887"
             ],
             [
              0.1111111111111111,
              "#46039f"
             ],
             [
              0.2222222222222222,
              "#7201a8"
             ],
             [
              0.3333333333333333,
              "#9c179e"
             ],
             [
              0.4444444444444444,
              "#bd3786"
             ],
             [
              0.5555555555555556,
              "#d8576b"
             ],
             [
              0.6666666666666666,
              "#ed7953"
             ],
             [
              0.7777777777777778,
              "#fb9f3a"
             ],
             [
              0.8888888888888888,
              "#fdca26"
             ],
             [
              1,
              "#f0f921"
             ]
            ],
            "type": "histogram2d"
           }
          ],
          "histogram2dcontour": [
           {
            "colorbar": {
             "outlinewidth": 0,
             "ticks": ""
            },
            "colorscale": [
             [
              0,
              "#0d0887"
             ],
             [
              0.1111111111111111,
              "#46039f"
             ],
             [
              0.2222222222222222,
              "#7201a8"
             ],
             [
              0.3333333333333333,
              "#9c179e"
             ],
             [
              0.4444444444444444,
              "#bd3786"
             ],
             [
              0.5555555555555556,
              "#d8576b"
             ],
             [
              0.6666666666666666,
              "#ed7953"
             ],
             [
              0.7777777777777778,
              "#fb9f3a"
             ],
             [
              0.8888888888888888,
              "#fdca26"
             ],
             [
              1,
              "#f0f921"
             ]
            ],
            "type": "histogram2dcontour"
           }
          ],
          "mesh3d": [
           {
            "colorbar": {
             "outlinewidth": 0,
             "ticks": ""
            },
            "type": "mesh3d"
           }
          ],
          "parcoords": [
           {
            "line": {
             "colorbar": {
              "outlinewidth": 0,
              "ticks": ""
             }
            },
            "type": "parcoords"
           }
          ],
          "pie": [
           {
            "automargin": true,
            "type": "pie"
           }
          ],
          "scatter": [
           {
            "fillpattern": {
             "fillmode": "overlay",
             "size": 10,
             "solidity": 0.2
            },
            "type": "scatter"
           }
          ],
          "scatter3d": [
           {
            "line": {
             "colorbar": {
              "outlinewidth": 0,
              "ticks": ""
             }
            },
            "marker": {
             "colorbar": {
              "outlinewidth": 0,
              "ticks": ""
             }
            },
            "type": "scatter3d"
           }
          ],
          "scattercarpet": [
           {
            "marker": {
             "colorbar": {
              "outlinewidth": 0,
              "ticks": ""
             }
            },
            "type": "scattercarpet"
           }
          ],
          "scattergeo": [
           {
            "marker": {
             "colorbar": {
              "outlinewidth": 0,
              "ticks": ""
             }
            },
            "type": "scattergeo"
           }
          ],
          "scattergl": [
           {
            "marker": {
             "colorbar": {
              "outlinewidth": 0,
              "ticks": ""
             }
            },
            "type": "scattergl"
           }
          ],
          "scattermapbox": [
           {
            "marker": {
             "colorbar": {
              "outlinewidth": 0,
              "ticks": ""
             }
            },
            "type": "scattermapbox"
           }
          ],
          "scatterpolar": [
           {
            "marker": {
             "colorbar": {
              "outlinewidth": 0,
              "ticks": ""
             }
            },
            "type": "scatterpolar"
           }
          ],
          "scatterpolargl": [
           {
            "marker": {
             "colorbar": {
              "outlinewidth": 0,
              "ticks": ""
             }
            },
            "type": "scatterpolargl"
           }
          ],
          "scatterternary": [
           {
            "marker": {
             "colorbar": {
              "outlinewidth": 0,
              "ticks": ""
             }
            },
            "type": "scatterternary"
           }
          ],
          "surface": [
           {
            "colorbar": {
             "outlinewidth": 0,
             "ticks": ""
            },
            "colorscale": [
             [
              0,
              "#0d0887"
             ],
             [
              0.1111111111111111,
              "#46039f"
             ],
             [
              0.2222222222222222,
              "#7201a8"
             ],
             [
              0.3333333333333333,
              "#9c179e"
             ],
             [
              0.4444444444444444,
              "#bd3786"
             ],
             [
              0.5555555555555556,
              "#d8576b"
             ],
             [
              0.6666666666666666,
              "#ed7953"
             ],
             [
              0.7777777777777778,
              "#fb9f3a"
             ],
             [
              0.8888888888888888,
              "#fdca26"
             ],
             [
              1,
              "#f0f921"
             ]
            ],
            "type": "surface"
           }
          ],
          "table": [
           {
            "cells": {
             "fill": {
              "color": "#EBF0F8"
             },
             "line": {
              "color": "white"
             }
            },
            "header": {
             "fill": {
              "color": "#C8D4E3"
             },
             "line": {
              "color": "white"
             }
            },
            "type": "table"
           }
          ]
         },
         "layout": {
          "annotationdefaults": {
           "arrowcolor": "#2a3f5f",
           "arrowhead": 0,
           "arrowwidth": 1
          },
          "autotypenumbers": "strict",
          "coloraxis": {
           "colorbar": {
            "outlinewidth": 0,
            "ticks": ""
           }
          },
          "colorscale": {
           "diverging": [
            [
             0,
             "#8e0152"
            ],
            [
             0.1,
             "#c51b7d"
            ],
            [
             0.2,
             "#de77ae"
            ],
            [
             0.3,
             "#f1b6da"
            ],
            [
             0.4,
             "#fde0ef"
            ],
            [
             0.5,
             "#f7f7f7"
            ],
            [
             0.6,
             "#e6f5d0"
            ],
            [
             0.7,
             "#b8e186"
            ],
            [
             0.8,
             "#7fbc41"
            ],
            [
             0.9,
             "#4d9221"
            ],
            [
             1,
             "#276419"
            ]
           ],
           "sequential": [
            [
             0,
             "#0d0887"
            ],
            [
             0.1111111111111111,
             "#46039f"
            ],
            [
             0.2222222222222222,
             "#7201a8"
            ],
            [
             0.3333333333333333,
             "#9c179e"
            ],
            [
             0.4444444444444444,
             "#bd3786"
            ],
            [
             0.5555555555555556,
             "#d8576b"
            ],
            [
             0.6666666666666666,
             "#ed7953"
            ],
            [
             0.7777777777777778,
             "#fb9f3a"
            ],
            [
             0.8888888888888888,
             "#fdca26"
            ],
            [
             1,
             "#f0f921"
            ]
           ],
           "sequentialminus": [
            [
             0,
             "#0d0887"
            ],
            [
             0.1111111111111111,
             "#46039f"
            ],
            [
             0.2222222222222222,
             "#7201a8"
            ],
            [
             0.3333333333333333,
             "#9c179e"
            ],
            [
             0.4444444444444444,
             "#bd3786"
            ],
            [
             0.5555555555555556,
             "#d8576b"
            ],
            [
             0.6666666666666666,
             "#ed7953"
            ],
            [
             0.7777777777777778,
             "#fb9f3a"
            ],
            [
             0.8888888888888888,
             "#fdca26"
            ],
            [
             1,
             "#f0f921"
            ]
           ]
          },
          "colorway": [
           "#636efa",
           "#EF553B",
           "#00cc96",
           "#ab63fa",
           "#FFA15A",
           "#19d3f3",
           "#FF6692",
           "#B6E880",
           "#FF97FF",
           "#FECB52"
          ],
          "font": {
           "color": "#2a3f5f"
          },
          "geo": {
           "bgcolor": "white",
           "lakecolor": "white",
           "landcolor": "#E5ECF6",
           "showlakes": true,
           "showland": true,
           "subunitcolor": "white"
          },
          "hoverlabel": {
           "align": "left"
          },
          "hovermode": "closest",
          "mapbox": {
           "style": "light"
          },
          "paper_bgcolor": "white",
          "plot_bgcolor": "#E5ECF6",
          "polar": {
           "angularaxis": {
            "gridcolor": "white",
            "linecolor": "white",
            "ticks": ""
           },
           "bgcolor": "#E5ECF6",
           "radialaxis": {
            "gridcolor": "white",
            "linecolor": "white",
            "ticks": ""
           }
          },
          "scene": {
           "xaxis": {
            "backgroundcolor": "#E5ECF6",
            "gridcolor": "white",
            "gridwidth": 2,
            "linecolor": "white",
            "showbackground": true,
            "ticks": "",
            "zerolinecolor": "white"
           },
           "yaxis": {
            "backgroundcolor": "#E5ECF6",
            "gridcolor": "white",
            "gridwidth": 2,
            "linecolor": "white",
            "showbackground": true,
            "ticks": "",
            "zerolinecolor": "white"
           },
           "zaxis": {
            "backgroundcolor": "#E5ECF6",
            "gridcolor": "white",
            "gridwidth": 2,
            "linecolor": "white",
            "showbackground": true,
            "ticks": "",
            "zerolinecolor": "white"
           }
          },
          "shapedefaults": {
           "line": {
            "color": "#2a3f5f"
           }
          },
          "ternary": {
           "aaxis": {
            "gridcolor": "white",
            "linecolor": "white",
            "ticks": ""
           },
           "baxis": {
            "gridcolor": "white",
            "linecolor": "white",
            "ticks": ""
           },
           "bgcolor": "#E5ECF6",
           "caxis": {
            "gridcolor": "white",
            "linecolor": "white",
            "ticks": ""
           }
          },
          "title": {
           "x": 0.05
          },
          "xaxis": {
           "automargin": true,
           "gridcolor": "white",
           "linecolor": "white",
           "ticks": "",
           "title": {
            "standoff": 15
           },
           "zerolinecolor": "white",
           "zerolinewidth": 2
          },
          "yaxis": {
           "automargin": true,
           "gridcolor": "white",
           "linecolor": "white",
           "ticks": "",
           "title": {
            "standoff": 15
           },
           "zerolinecolor": "white",
           "zerolinewidth": 2
          }
         }
        },
        "title": {
         "text": "Normalized Stacked Barplot of Predicted Pathways Ocurrence for Species"
        },
        "width": 1500,
        "xaxis": {
         "anchor": "y",
         "domain": [
          0,
          1
         ],
         "title": {
          "text": "Recurrence"
         }
        },
        "yaxis": {
         "anchor": "x",
         "categoryarray": [
          "Monteverdia spinosa",
          "Monteverdia retusa",
          "Monteverdia myrsinoides",
          "Monteverdia gonoclada",
          "Monteverdia amazonica",
          "Maytenus woodsonii",
          "Maytenus undata",
          "Maytenus scutioides",
          "Maytenus salicifolia",
          "Maytenus phyllanthoides",
          "Maytenus magellanica",
          "Maytenus jelskii",
          "Maytenus disticha",
          "Maytenus chubutensis",
          "Maytenus buxifolia",
          "Maytenus boaria",
          "Maytenus acuminata",
          "Gymnosporia wightiana",
          "Gymnosporia dryandri",
          "Gymnosporia cassinoides"
         ],
         "categoryorder": "array",
         "domain": [
          0,
          1
         ],
         "tickmode": "array",
         "ticktext": [
          "<i>Gymnosporia cassinoides</i>",
          "<i>Gymnosporia dryandri</i>",
          "<i>Gymnosporia wightiana</i>",
          "<i>Maytenus acuminata</i>",
          "<i>Maytenus boaria</i>",
          "<i>Maytenus buxifolia</i>",
          "<i>Maytenus chubutensis</i>",
          "<i>Maytenus disticha</i>",
          "<i>Maytenus jelskii</i>",
          "<i>Maytenus magellanica</i>",
          "<i>Maytenus phyllanthoides</i>",
          "<i>Maytenus salicifolia</i>",
          "<i>Maytenus scutioides</i>",
          "<i>Maytenus undata</i>",
          "<i>Maytenus woodsonii</i>",
          "<i>Monteverdia amazonica</i>",
          "<i>Monteverdia gonoclada</i>",
          "<i>Monteverdia myrsinoides</i>",
          "<i>Monteverdia retusa</i>",
          "<i>Monteverdia spinosa</i>"
         ],
         "tickvals": [
          0,
          1,
          2,
          3,
          4,
          5,
          6,
          7,
          8,
          9,
          10,
          11,
          12,
          13,
          14,
          15,
          16,
          17,
          18,
          19
         ],
         "title": {
          "text": "<i>Species<i>"
         }
        }
       }
      }
     },
     "metadata": {},
     "output_type": "display_data"
    }
   ],
   "source": [
    "\n",
    "#create a normalized figure\n",
    "\n",
    "# Normalize the recurrence values within each species group\n",
    "agg_data['recurrence_normalized'] = agg_data.groupby('species')['recurrence'].transform(lambda x: x / x.sum())*100\n",
    "\n",
    "# Convert 'species' column to categorical data\n",
    "agg_data['species'] = pd.Categorical(agg_data['species'], categories=agg_data['species'].unique(), ordered=True)\n",
    "\n",
    "# Get unique species names\n",
    "unique_species = agg_data['species'].unique()\n",
    "\n",
    "# Get unique pathways and sort them alphabetically\n",
    "unique_pathways = sorted(agg_data['Pathway'].unique())\n",
    "\n",
    "# Calculate total recurrence for each species\n",
    "total_recurrence_per_species = agg_data.groupby('species')['recurrence'].sum()\n",
    "\n",
    "\n",
    "# Step 5: Create the stacked barplot with custom colors\n",
    "fig = px.bar(agg_data, y='species', x='recurrence_normalized',\n",
    "             title='Normalized Stacked Barplot of Predicted Pathways Ocurrence for Species',\n",
    "             labels={'recurrence_normalized': 'Recurrence'},\n",
    "             color='Pathway',\n",
    "             color_discrete_map=pathway_colors,  # Use custom colors\n",
    "             category_orders={'species': unique_species, 'Pathway' :unique_pathways },\n",
    "             orientation='h'\n",
    "            )\n",
    "\n",
    "# Modify the y-axis label\n",
    "fig.update_yaxes(title_text='<i>Species<i>')\n",
    "\n",
    "# Set species labels in italics\n",
    "fig.update_layout(yaxis=dict(tickmode='array', \n",
    "                              tickvals=list(range(len(unique_species))), \n",
    "                              ticktext=[f'<i>{species}</i>' for species in unique_species]\n",
    "                              ))\n",
    "# Get the maximum value of the x-axis\n",
    "max_x = agg_data['recurrence_normalized'].max()\n",
    "\n",
    "for species, total_recurrence in total_recurrence_per_species.items():\n",
    "    # Find the maximum recurrence for this species\n",
    "    max_recurrence = agg_data[agg_data['species'] == species]['recurrence_normalized'].max()\n",
    "    \n",
    "    # Position the annotation at the end of the bar with a slight offset\n",
    "    x_position = max_x + 2\n",
    "    if x_position > 100:  # Ensure the label is not outside the plot area\n",
    "        x_position = 100  # Set it to 100 if it exceeds the maximum x-axis value\n",
    "\n",
    "    # Add annotation to the plot\n",
    "    fig.add_annotation(\n",
    "        x=x_position,\n",
    "        y=species,\n",
    "        text=f'Total compounds: {total_recurrence}',\n",
    "        showarrow=False,\n",
    "        font=dict(size=10, color='black'),\n",
    "        xanchor='left',\n",
    "        yanchor='middle'\n",
    "    )\n",
    "    \n",
    "# Set a white background\n",
    "fig.update_layout(plot_bgcolor='white')\n",
    "\n",
    "# Modify the size of the figure\n",
    "fig.update_layout(width=1500, height=1500)\n",
    "\n",
    "# Save the figure as an HTML file\n",
    "fig.write_html(f'{output_folder}Wikidata_pathway_barplot_normalized.html')\n",
    "\n",
    "# Show or save the figure\n",
    "fig.show()\n"
   ]
  },
  {
   "cell_type": "code",
   "execution_count": 13,
   "metadata": {},
   "outputs": [
    {
     "name": "stderr",
     "output_type": "stream",
     "text": [
      "C:\\Users\\quirosgu\\AppData\\Local\\Temp\\ipykernel_32328\\876206520.py:14: FutureWarning:\n",
      "\n",
      "A value is trying to be set on a copy of a DataFrame or Series through chained assignment using an inplace method.\n",
      "The behavior will change in pandas 3.0. This inplace method will never work because the intermediate object on which we are setting values always behaves as a copy.\n",
      "\n",
      "For example, when doing 'df[col].method(value, inplace=True)', try using 'df.method({col: value}, inplace=True)' or df[col] = df[col].method(value) instead, to perform the operation inplace on the original object.\n",
      "\n",
      "\n",
      "\n",
      "C:\\Users\\quirosgu\\AppData\\Local\\Temp\\ipykernel_32328\\876206520.py:15: FutureWarning:\n",
      "\n",
      "A value is trying to be set on a copy of a DataFrame or Series through chained assignment using an inplace method.\n",
      "The behavior will change in pandas 3.0. This inplace method will never work because the intermediate object on which we are setting values always behaves as a copy.\n",
      "\n",
      "For example, when doing 'df[col].method(value, inplace=True)', try using 'df.method({col: value}, inplace=True)' or df[col] = df[col].method(value) instead, to perform the operation inplace on the original object.\n",
      "\n",
      "\n",
      "\n"
     ]
    },
    {
     "data": {
      "application/vnd.plotly.v1+json": {
       "config": {
        "plotlyServerURL": "https://plot.ly"
       },
       "data": [
        {
         "coloraxis": "coloraxis",
         "hovertemplate": "Pathway: %{x}<br>Species: %{y}<br>Normalized Recurrence: %{z}<extra></extra>",
         "name": "0",
         "type": "heatmap",
         "x": [
          "Alkaloids",
          "Polyketides",
          "Shikimates and Phenylpropanoids",
          "Terpenoids"
         ],
         "xaxis": "x",
         "y": [
          "Gymnosporia cassinoides",
          "Gymnosporia dryandri",
          "Gymnosporia wightiana",
          "Maytenus acuminata",
          "Maytenus boaria",
          "Maytenus buxifolia",
          "Maytenus chubutensis",
          "Maytenus disticha",
          "Maytenus jelskii",
          "Maytenus magellanica",
          "Maytenus phyllanthoides",
          "Maytenus salicifolia",
          "Maytenus scutioides",
          "Maytenus undata",
          "Maytenus woodsonii",
          "Monteverdia amazonica",
          "Monteverdia gonoclada",
          "Monteverdia myrsinoides",
          "Monteverdia retusa",
          "Monteverdia spinosa"
         ],
         "yaxis": "y",
         "z": [
          [
           0,
           0,
           0,
           100
          ],
          [
           0,
           0,
           0,
           100
          ],
          [
           0,
           100,
           0,
           0
          ],
          [
           0,
           0,
           0,
           100
          ],
          [
           0,
           0,
           7.317073170731707,
           92.6829268292683
          ],
          [
           66.66666666666666,
           0,
           0,
           33.33333333333333
          ],
          [
           0,
           0,
           6.25,
           93.75
          ],
          [
           0,
           0,
           25,
           75
          ],
          [
           0,
           0,
           0,
           100
          ],
          [
           4,
           0,
           0,
           96
          ],
          [
           0,
           100,
           0,
           0
          ],
          [
           0,
           0,
           0,
           100
          ],
          [
           0,
           0,
           0,
           100
          ],
          [
           0,
           0,
           0,
           100
          ],
          [
           0,
           0,
           0,
           100
          ],
          [
           0,
           6.666666666666667,
           0,
           93.33333333333333
          ],
          [
           0,
           0,
           0,
           100
          ],
          [
           0,
           0,
           0,
           100
          ],
          [
           0,
           0,
           4.545454545454546,
           95.45454545454545
          ],
          [
           0,
           0,
           0,
           100
          ]
         ]
        }
       ],
       "layout": {
        "coloraxis": {
         "colorbar": {
          "title": {
           "text": "Normalized Recurrence"
          }
         },
         "colorscale": [
          [
           0,
           "rgb(0, 147, 146)"
          ],
          [
           0.16666666666666666,
           "rgb(114, 170, 161)"
          ],
          [
           0.3333333333333333,
           "rgb(177, 199, 179)"
          ],
          [
           0.5,
           "rgb(241, 234, 200)"
          ],
          [
           0.6666666666666666,
           "rgb(229, 185, 173)"
          ],
          [
           0.8333333333333334,
           "rgb(217, 137, 148)"
          ],
          [
           1,
           "rgb(208, 88, 126)"
          ]
         ]
        },
        "height": 1500,
        "template": {
         "data": {
          "bar": [
           {
            "error_x": {
             "color": "#2a3f5f"
            },
            "error_y": {
             "color": "#2a3f5f"
            },
            "marker": {
             "line": {
              "color": "#E5ECF6",
              "width": 0.5
             },
             "pattern": {
              "fillmode": "overlay",
              "size": 10,
              "solidity": 0.2
             }
            },
            "type": "bar"
           }
          ],
          "barpolar": [
           {
            "marker": {
             "line": {
              "color": "#E5ECF6",
              "width": 0.5
             },
             "pattern": {
              "fillmode": "overlay",
              "size": 10,
              "solidity": 0.2
             }
            },
            "type": "barpolar"
           }
          ],
          "carpet": [
           {
            "aaxis": {
             "endlinecolor": "#2a3f5f",
             "gridcolor": "white",
             "linecolor": "white",
             "minorgridcolor": "white",
             "startlinecolor": "#2a3f5f"
            },
            "baxis": {
             "endlinecolor": "#2a3f5f",
             "gridcolor": "white",
             "linecolor": "white",
             "minorgridcolor": "white",
             "startlinecolor": "#2a3f5f"
            },
            "type": "carpet"
           }
          ],
          "choropleth": [
           {
            "colorbar": {
             "outlinewidth": 0,
             "ticks": ""
            },
            "type": "choropleth"
           }
          ],
          "contour": [
           {
            "colorbar": {
             "outlinewidth": 0,
             "ticks": ""
            },
            "colorscale": [
             [
              0,
              "#0d0887"
             ],
             [
              0.1111111111111111,
              "#46039f"
             ],
             [
              0.2222222222222222,
              "#7201a8"
             ],
             [
              0.3333333333333333,
              "#9c179e"
             ],
             [
              0.4444444444444444,
              "#bd3786"
             ],
             [
              0.5555555555555556,
              "#d8576b"
             ],
             [
              0.6666666666666666,
              "#ed7953"
             ],
             [
              0.7777777777777778,
              "#fb9f3a"
             ],
             [
              0.8888888888888888,
              "#fdca26"
             ],
             [
              1,
              "#f0f921"
             ]
            ],
            "type": "contour"
           }
          ],
          "contourcarpet": [
           {
            "colorbar": {
             "outlinewidth": 0,
             "ticks": ""
            },
            "type": "contourcarpet"
           }
          ],
          "heatmap": [
           {
            "colorbar": {
             "outlinewidth": 0,
             "ticks": ""
            },
            "colorscale": [
             [
              0,
              "#0d0887"
             ],
             [
              0.1111111111111111,
              "#46039f"
             ],
             [
              0.2222222222222222,
              "#7201a8"
             ],
             [
              0.3333333333333333,
              "#9c179e"
             ],
             [
              0.4444444444444444,
              "#bd3786"
             ],
             [
              0.5555555555555556,
              "#d8576b"
             ],
             [
              0.6666666666666666,
              "#ed7953"
             ],
             [
              0.7777777777777778,
              "#fb9f3a"
             ],
             [
              0.8888888888888888,
              "#fdca26"
             ],
             [
              1,
              "#f0f921"
             ]
            ],
            "type": "heatmap"
           }
          ],
          "heatmapgl": [
           {
            "colorbar": {
             "outlinewidth": 0,
             "ticks": ""
            },
            "colorscale": [
             [
              0,
              "#0d0887"
             ],
             [
              0.1111111111111111,
              "#46039f"
             ],
             [
              0.2222222222222222,
              "#7201a8"
             ],
             [
              0.3333333333333333,
              "#9c179e"
             ],
             [
              0.4444444444444444,
              "#bd3786"
             ],
             [
              0.5555555555555556,
              "#d8576b"
             ],
             [
              0.6666666666666666,
              "#ed7953"
             ],
             [
              0.7777777777777778,
              "#fb9f3a"
             ],
             [
              0.8888888888888888,
              "#fdca26"
             ],
             [
              1,
              "#f0f921"
             ]
            ],
            "type": "heatmapgl"
           }
          ],
          "histogram": [
           {
            "marker": {
             "pattern": {
              "fillmode": "overlay",
              "size": 10,
              "solidity": 0.2
             }
            },
            "type": "histogram"
           }
          ],
          "histogram2d": [
           {
            "colorbar": {
             "outlinewidth": 0,
             "ticks": ""
            },
            "colorscale": [
             [
              0,
              "#0d0887"
             ],
             [
              0.1111111111111111,
              "#46039f"
             ],
             [
              0.2222222222222222,
              "#7201a8"
             ],
             [
              0.3333333333333333,
              "#9c179e"
             ],
             [
              0.4444444444444444,
              "#bd3786"
             ],
             [
              0.5555555555555556,
              "#d8576b"
             ],
             [
              0.6666666666666666,
              "#ed7953"
             ],
             [
              0.7777777777777778,
              "#fb9f3a"
             ],
             [
              0.8888888888888888,
              "#fdca26"
             ],
             [
              1,
              "#f0f921"
             ]
            ],
            "type": "histogram2d"
           }
          ],
          "histogram2dcontour": [
           {
            "colorbar": {
             "outlinewidth": 0,
             "ticks": ""
            },
            "colorscale": [
             [
              0,
              "#0d0887"
             ],
             [
              0.1111111111111111,
              "#46039f"
             ],
             [
              0.2222222222222222,
              "#7201a8"
             ],
             [
              0.3333333333333333,
              "#9c179e"
             ],
             [
              0.4444444444444444,
              "#bd3786"
             ],
             [
              0.5555555555555556,
              "#d8576b"
             ],
             [
              0.6666666666666666,
              "#ed7953"
             ],
             [
              0.7777777777777778,
              "#fb9f3a"
             ],
             [
              0.8888888888888888,
              "#fdca26"
             ],
             [
              1,
              "#f0f921"
             ]
            ],
            "type": "histogram2dcontour"
           }
          ],
          "mesh3d": [
           {
            "colorbar": {
             "outlinewidth": 0,
             "ticks": ""
            },
            "type": "mesh3d"
           }
          ],
          "parcoords": [
           {
            "line": {
             "colorbar": {
              "outlinewidth": 0,
              "ticks": ""
             }
            },
            "type": "parcoords"
           }
          ],
          "pie": [
           {
            "automargin": true,
            "type": "pie"
           }
          ],
          "scatter": [
           {
            "fillpattern": {
             "fillmode": "overlay",
             "size": 10,
             "solidity": 0.2
            },
            "type": "scatter"
           }
          ],
          "scatter3d": [
           {
            "line": {
             "colorbar": {
              "outlinewidth": 0,
              "ticks": ""
             }
            },
            "marker": {
             "colorbar": {
              "outlinewidth": 0,
              "ticks": ""
             }
            },
            "type": "scatter3d"
           }
          ],
          "scattercarpet": [
           {
            "marker": {
             "colorbar": {
              "outlinewidth": 0,
              "ticks": ""
             }
            },
            "type": "scattercarpet"
           }
          ],
          "scattergeo": [
           {
            "marker": {
             "colorbar": {
              "outlinewidth": 0,
              "ticks": ""
             }
            },
            "type": "scattergeo"
           }
          ],
          "scattergl": [
           {
            "marker": {
             "colorbar": {
              "outlinewidth": 0,
              "ticks": ""
             }
            },
            "type": "scattergl"
           }
          ],
          "scattermapbox": [
           {
            "marker": {
             "colorbar": {
              "outlinewidth": 0,
              "ticks": ""
             }
            },
            "type": "scattermapbox"
           }
          ],
          "scatterpolar": [
           {
            "marker": {
             "colorbar": {
              "outlinewidth": 0,
              "ticks": ""
             }
            },
            "type": "scatterpolar"
           }
          ],
          "scatterpolargl": [
           {
            "marker": {
             "colorbar": {
              "outlinewidth": 0,
              "ticks": ""
             }
            },
            "type": "scatterpolargl"
           }
          ],
          "scatterternary": [
           {
            "marker": {
             "colorbar": {
              "outlinewidth": 0,
              "ticks": ""
             }
            },
            "type": "scatterternary"
           }
          ],
          "surface": [
           {
            "colorbar": {
             "outlinewidth": 0,
             "ticks": ""
            },
            "colorscale": [
             [
              0,
              "#0d0887"
             ],
             [
              0.1111111111111111,
              "#46039f"
             ],
             [
              0.2222222222222222,
              "#7201a8"
             ],
             [
              0.3333333333333333,
              "#9c179e"
             ],
             [
              0.4444444444444444,
              "#bd3786"
             ],
             [
              0.5555555555555556,
              "#d8576b"
             ],
             [
              0.6666666666666666,
              "#ed7953"
             ],
             [
              0.7777777777777778,
              "#fb9f3a"
             ],
             [
              0.8888888888888888,
              "#fdca26"
             ],
             [
              1,
              "#f0f921"
             ]
            ],
            "type": "surface"
           }
          ],
          "table": [
           {
            "cells": {
             "fill": {
              "color": "#EBF0F8"
             },
             "line": {
              "color": "white"
             }
            },
            "header": {
             "fill": {
              "color": "#C8D4E3"
             },
             "line": {
              "color": "white"
             }
            },
            "type": "table"
           }
          ]
         },
         "layout": {
          "annotationdefaults": {
           "arrowcolor": "#2a3f5f",
           "arrowhead": 0,
           "arrowwidth": 1
          },
          "autotypenumbers": "strict",
          "coloraxis": {
           "colorbar": {
            "outlinewidth": 0,
            "ticks": ""
           }
          },
          "colorscale": {
           "diverging": [
            [
             0,
             "#8e0152"
            ],
            [
             0.1,
             "#c51b7d"
            ],
            [
             0.2,
             "#de77ae"
            ],
            [
             0.3,
             "#f1b6da"
            ],
            [
             0.4,
             "#fde0ef"
            ],
            [
             0.5,
             "#f7f7f7"
            ],
            [
             0.6,
             "#e6f5d0"
            ],
            [
             0.7,
             "#b8e186"
            ],
            [
             0.8,
             "#7fbc41"
            ],
            [
             0.9,
             "#4d9221"
            ],
            [
             1,
             "#276419"
            ]
           ],
           "sequential": [
            [
             0,
             "#0d0887"
            ],
            [
             0.1111111111111111,
             "#46039f"
            ],
            [
             0.2222222222222222,
             "#7201a8"
            ],
            [
             0.3333333333333333,
             "#9c179e"
            ],
            [
             0.4444444444444444,
             "#bd3786"
            ],
            [
             0.5555555555555556,
             "#d8576b"
            ],
            [
             0.6666666666666666,
             "#ed7953"
            ],
            [
             0.7777777777777778,
             "#fb9f3a"
            ],
            [
             0.8888888888888888,
             "#fdca26"
            ],
            [
             1,
             "#f0f921"
            ]
           ],
           "sequentialminus": [
            [
             0,
             "#0d0887"
            ],
            [
             0.1111111111111111,
             "#46039f"
            ],
            [
             0.2222222222222222,
             "#7201a8"
            ],
            [
             0.3333333333333333,
             "#9c179e"
            ],
            [
             0.4444444444444444,
             "#bd3786"
            ],
            [
             0.5555555555555556,
             "#d8576b"
            ],
            [
             0.6666666666666666,
             "#ed7953"
            ],
            [
             0.7777777777777778,
             "#fb9f3a"
            ],
            [
             0.8888888888888888,
             "#fdca26"
            ],
            [
             1,
             "#f0f921"
            ]
           ]
          },
          "colorway": [
           "#636efa",
           "#EF553B",
           "#00cc96",
           "#ab63fa",
           "#FFA15A",
           "#19d3f3",
           "#FF6692",
           "#B6E880",
           "#FF97FF",
           "#FECB52"
          ],
          "font": {
           "color": "#2a3f5f"
          },
          "geo": {
           "bgcolor": "white",
           "lakecolor": "white",
           "landcolor": "#E5ECF6",
           "showlakes": true,
           "showland": true,
           "subunitcolor": "white"
          },
          "hoverlabel": {
           "align": "left"
          },
          "hovermode": "closest",
          "mapbox": {
           "style": "light"
          },
          "paper_bgcolor": "white",
          "plot_bgcolor": "#E5ECF6",
          "polar": {
           "angularaxis": {
            "gridcolor": "white",
            "linecolor": "white",
            "ticks": ""
           },
           "bgcolor": "#E5ECF6",
           "radialaxis": {
            "gridcolor": "white",
            "linecolor": "white",
            "ticks": ""
           }
          },
          "scene": {
           "xaxis": {
            "backgroundcolor": "#E5ECF6",
            "gridcolor": "white",
            "gridwidth": 2,
            "linecolor": "white",
            "showbackground": true,
            "ticks": "",
            "zerolinecolor": "white"
           },
           "yaxis": {
            "backgroundcolor": "#E5ECF6",
            "gridcolor": "white",
            "gridwidth": 2,
            "linecolor": "white",
            "showbackground": true,
            "ticks": "",
            "zerolinecolor": "white"
           },
           "zaxis": {
            "backgroundcolor": "#E5ECF6",
            "gridcolor": "white",
            "gridwidth": 2,
            "linecolor": "white",
            "showbackground": true,
            "ticks": "",
            "zerolinecolor": "white"
           }
          },
          "shapedefaults": {
           "line": {
            "color": "#2a3f5f"
           }
          },
          "ternary": {
           "aaxis": {
            "gridcolor": "white",
            "linecolor": "white",
            "ticks": ""
           },
           "baxis": {
            "gridcolor": "white",
            "linecolor": "white",
            "ticks": ""
           },
           "bgcolor": "#E5ECF6",
           "caxis": {
            "gridcolor": "white",
            "linecolor": "white",
            "ticks": ""
           }
          },
          "title": {
           "x": 0.05
          },
          "xaxis": {
           "automargin": true,
           "gridcolor": "white",
           "linecolor": "white",
           "ticks": "",
           "title": {
            "standoff": 15
           },
           "zerolinecolor": "white",
           "zerolinewidth": 2
          },
          "yaxis": {
           "automargin": true,
           "gridcolor": "white",
           "linecolor": "white",
           "ticks": "",
           "title": {
            "standoff": 15
           },
           "zerolinecolor": "white",
           "zerolinewidth": 2
          }
         }
        },
        "title": {
         "text": "Heatmap of Normalized Recurrence of Pathways for Species"
        },
        "width": 1500,
        "xaxis": {
         "anchor": "y",
         "constrain": "domain",
         "domain": [
          0,
          1
         ],
         "scaleanchor": "y",
         "title": {
          "text": "Pathway"
         }
        },
        "yaxis": {
         "anchor": "x",
         "autorange": "reversed",
         "constrain": "domain",
         "domain": [
          0,
          1
         ],
         "title": {
          "text": "Species"
         }
        }
       }
      }
     },
     "metadata": {},
     "output_type": "display_data"
    }
   ],
   "source": [
    "import pandas as pd\n",
    "import plotly.express as px\n",
    "\n",
    "# Create a DataFrame with all possible combinations of species and pathways\n",
    "all_species = all_data['species'].unique()\n",
    "all_pathways = all_data['Pathway'].unique()\n",
    "all_combinations = pd.DataFrame([(species, pathway) for species in all_species for pathway in all_pathways],\n",
    "                                columns=['species', 'Pathway'])\n",
    "\n",
    "# Merge the all_combinations DataFrame with the aggregated data to include all species\n",
    "merged_data = pd.merge(all_combinations, agg_data, on=['species', 'Pathway'], how='left')\n",
    "\n",
    "# Fill missing values (NaN) with 0 for recurrence and recurrence_normalized columns\n",
    "merged_data['recurrence'].fillna(0, inplace=True)\n",
    "merged_data['recurrence_normalized'].fillna(0, inplace=True)\n",
    "\n",
    "# Pivot the merged data to have 'species' as rows and 'Pathway' as columns\n",
    "pivot_data = merged_data.pivot_table(index='species', columns='Pathway', values='recurrence_normalized', fill_value=0)\n",
    "\n",
    "# Create the heatmap\n",
    "fig = px.imshow(pivot_data,\n",
    "                labels=dict(x=\"Pathway\", y=\"Species\", color=\"Normalized Recurrence\"),\n",
    "                x=pivot_data.columns,\n",
    "                y=pivot_data.index,\n",
    "                color_continuous_scale='tealrose',  # You can choose any other color scale\n",
    "                title='Heatmap of Normalized Recurrence of Pathways for Species')\n",
    "\n",
    "# Modify the size of the figure\n",
    "fig.update_layout(width=1500, height=1500)\n",
    "\n",
    "# Save the figure as an HTML file\n",
    "fig.write_html(f'{output_folder}Wikidata_pathway_heatmap_species_normalized.html')\n",
    "\n",
    "# Show the figure\n",
    "fig.show()\n"
   ]
  },
  {
   "cell_type": "code",
   "execution_count": 14,
   "metadata": {},
   "outputs": [
    {
     "ename": "KeyError",
     "evalue": "'chemical_superclass'",
     "output_type": "error",
     "traceback": [
      "\u001b[1;31m---------------------------------------------------------------------------\u001b[0m",
      "\u001b[1;31mKeyError\u001b[0m                                  Traceback (most recent call last)",
      "File \u001b[1;32mc:\\Users\\quirosgu\\.conda\\envs\\inventa\\Lib\\site-packages\\pandas\\core\\indexes\\base.py:3805\u001b[0m, in \u001b[0;36mIndex.get_loc\u001b[1;34m(self, key)\u001b[0m\n\u001b[0;32m   3804\u001b[0m \u001b[38;5;28;01mtry\u001b[39;00m:\n\u001b[1;32m-> 3805\u001b[0m     \u001b[38;5;28;01mreturn\u001b[39;00m \u001b[38;5;28;43mself\u001b[39;49m\u001b[38;5;241;43m.\u001b[39;49m\u001b[43m_engine\u001b[49m\u001b[38;5;241;43m.\u001b[39;49m\u001b[43mget_loc\u001b[49m\u001b[43m(\u001b[49m\u001b[43mcasted_key\u001b[49m\u001b[43m)\u001b[49m\n\u001b[0;32m   3806\u001b[0m \u001b[38;5;28;01mexcept\u001b[39;00m \u001b[38;5;167;01mKeyError\u001b[39;00m \u001b[38;5;28;01mas\u001b[39;00m err:\n",
      "File \u001b[1;32mindex.pyx:167\u001b[0m, in \u001b[0;36mpandas._libs.index.IndexEngine.get_loc\u001b[1;34m()\u001b[0m\n",
      "File \u001b[1;32mindex.pyx:196\u001b[0m, in \u001b[0;36mpandas._libs.index.IndexEngine.get_loc\u001b[1;34m()\u001b[0m\n",
      "File \u001b[1;32mpandas\\\\_libs\\\\hashtable_class_helper.pxi:7081\u001b[0m, in \u001b[0;36mpandas._libs.hashtable.PyObjectHashTable.get_item\u001b[1;34m()\u001b[0m\n",
      "File \u001b[1;32mpandas\\\\_libs\\\\hashtable_class_helper.pxi:7089\u001b[0m, in \u001b[0;36mpandas._libs.hashtable.PyObjectHashTable.get_item\u001b[1;34m()\u001b[0m\n",
      "\u001b[1;31mKeyError\u001b[0m: 'chemical_superclass'",
      "\nThe above exception was the direct cause of the following exception:\n",
      "\u001b[1;31mKeyError\u001b[0m                                  Traceback (most recent call last)",
      "Cell \u001b[1;32mIn[14], line 3\u001b[0m\n\u001b[0;32m      1\u001b[0m \u001b[38;5;66;03m# Convert 'species' and 'chemical_superclass' to categorical data for proper ordering\u001b[39;00m\n\u001b[0;32m      2\u001b[0m agg_data[\u001b[38;5;124m'\u001b[39m\u001b[38;5;124mspecies\u001b[39m\u001b[38;5;124m'\u001b[39m] \u001b[38;5;241m=\u001b[39m pd\u001b[38;5;241m.\u001b[39mCategorical(agg_data[\u001b[38;5;124m'\u001b[39m\u001b[38;5;124mspecies\u001b[39m\u001b[38;5;124m'\u001b[39m], categories\u001b[38;5;241m=\u001b[39m\u001b[38;5;28msorted\u001b[39m(agg_data[\u001b[38;5;124m'\u001b[39m\u001b[38;5;124mspecies\u001b[39m\u001b[38;5;124m'\u001b[39m]\u001b[38;5;241m.\u001b[39munique()))\n\u001b[1;32m----> 3\u001b[0m agg_data[\u001b[38;5;124m'\u001b[39m\u001b[38;5;124mchemical_superclass\u001b[39m\u001b[38;5;124m'\u001b[39m] \u001b[38;5;241m=\u001b[39m pd\u001b[38;5;241m.\u001b[39mCategorical(\u001b[43magg_data\u001b[49m\u001b[43m[\u001b[49m\u001b[38;5;124;43m'\u001b[39;49m\u001b[38;5;124;43mchemical_superclass\u001b[39;49m\u001b[38;5;124;43m'\u001b[39;49m\u001b[43m]\u001b[49m, categories\u001b[38;5;241m=\u001b[39m\u001b[38;5;28msorted\u001b[39m(agg_data[\u001b[38;5;124m'\u001b[39m\u001b[38;5;124mchemical_superclass\u001b[39m\u001b[38;5;124m'\u001b[39m]\u001b[38;5;241m.\u001b[39munique()))\n\u001b[0;32m      5\u001b[0m \u001b[38;5;66;03m# Pivot the data to have 'species' as rows and 'chemical_superclass' as columns\u001b[39;00m\n\u001b[0;32m      6\u001b[0m pivot_data \u001b[38;5;241m=\u001b[39m agg_data\u001b[38;5;241m.\u001b[39mpivot_table(index\u001b[38;5;241m=\u001b[39m\u001b[38;5;124m'\u001b[39m\u001b[38;5;124mspecies\u001b[39m\u001b[38;5;124m'\u001b[39m, columns\u001b[38;5;241m=\u001b[39m\u001b[38;5;124m'\u001b[39m\u001b[38;5;124mchemical_superclass\u001b[39m\u001b[38;5;124m'\u001b[39m, values\u001b[38;5;241m=\u001b[39m\u001b[38;5;124m'\u001b[39m\u001b[38;5;124mrecurrence_normalized\u001b[39m\u001b[38;5;124m'\u001b[39m, fill_value\u001b[38;5;241m=\u001b[39m\u001b[38;5;241m0\u001b[39m)\n",
      "File \u001b[1;32mc:\\Users\\quirosgu\\.conda\\envs\\inventa\\Lib\\site-packages\\pandas\\core\\frame.py:4102\u001b[0m, in \u001b[0;36mDataFrame.__getitem__\u001b[1;34m(self, key)\u001b[0m\n\u001b[0;32m   4100\u001b[0m \u001b[38;5;28;01mif\u001b[39;00m \u001b[38;5;28mself\u001b[39m\u001b[38;5;241m.\u001b[39mcolumns\u001b[38;5;241m.\u001b[39mnlevels \u001b[38;5;241m>\u001b[39m \u001b[38;5;241m1\u001b[39m:\n\u001b[0;32m   4101\u001b[0m     \u001b[38;5;28;01mreturn\u001b[39;00m \u001b[38;5;28mself\u001b[39m\u001b[38;5;241m.\u001b[39m_getitem_multilevel(key)\n\u001b[1;32m-> 4102\u001b[0m indexer \u001b[38;5;241m=\u001b[39m \u001b[38;5;28;43mself\u001b[39;49m\u001b[38;5;241;43m.\u001b[39;49m\u001b[43mcolumns\u001b[49m\u001b[38;5;241;43m.\u001b[39;49m\u001b[43mget_loc\u001b[49m\u001b[43m(\u001b[49m\u001b[43mkey\u001b[49m\u001b[43m)\u001b[49m\n\u001b[0;32m   4103\u001b[0m \u001b[38;5;28;01mif\u001b[39;00m is_integer(indexer):\n\u001b[0;32m   4104\u001b[0m     indexer \u001b[38;5;241m=\u001b[39m [indexer]\n",
      "File \u001b[1;32mc:\\Users\\quirosgu\\.conda\\envs\\inventa\\Lib\\site-packages\\pandas\\core\\indexes\\base.py:3812\u001b[0m, in \u001b[0;36mIndex.get_loc\u001b[1;34m(self, key)\u001b[0m\n\u001b[0;32m   3807\u001b[0m     \u001b[38;5;28;01mif\u001b[39;00m \u001b[38;5;28misinstance\u001b[39m(casted_key, \u001b[38;5;28mslice\u001b[39m) \u001b[38;5;129;01mor\u001b[39;00m (\n\u001b[0;32m   3808\u001b[0m         \u001b[38;5;28misinstance\u001b[39m(casted_key, abc\u001b[38;5;241m.\u001b[39mIterable)\n\u001b[0;32m   3809\u001b[0m         \u001b[38;5;129;01mand\u001b[39;00m \u001b[38;5;28many\u001b[39m(\u001b[38;5;28misinstance\u001b[39m(x, \u001b[38;5;28mslice\u001b[39m) \u001b[38;5;28;01mfor\u001b[39;00m x \u001b[38;5;129;01min\u001b[39;00m casted_key)\n\u001b[0;32m   3810\u001b[0m     ):\n\u001b[0;32m   3811\u001b[0m         \u001b[38;5;28;01mraise\u001b[39;00m InvalidIndexError(key)\n\u001b[1;32m-> 3812\u001b[0m     \u001b[38;5;28;01mraise\u001b[39;00m \u001b[38;5;167;01mKeyError\u001b[39;00m(key) \u001b[38;5;28;01mfrom\u001b[39;00m \u001b[38;5;21;01merr\u001b[39;00m\n\u001b[0;32m   3813\u001b[0m \u001b[38;5;28;01mexcept\u001b[39;00m \u001b[38;5;167;01mTypeError\u001b[39;00m:\n\u001b[0;32m   3814\u001b[0m     \u001b[38;5;66;03m# If we have a listlike key, _check_indexing_error will raise\u001b[39;00m\n\u001b[0;32m   3815\u001b[0m     \u001b[38;5;66;03m#  InvalidIndexError. Otherwise we fall through and re-raise\u001b[39;00m\n\u001b[0;32m   3816\u001b[0m     \u001b[38;5;66;03m#  the TypeError.\u001b[39;00m\n\u001b[0;32m   3817\u001b[0m     \u001b[38;5;28mself\u001b[39m\u001b[38;5;241m.\u001b[39m_check_indexing_error(key)\n",
      "\u001b[1;31mKeyError\u001b[0m: 'chemical_superclass'"
     ]
    }
   ],
   "source": [
    "# Convert 'species' and 'chemical_superclass' to categorical data for proper ordering\n",
    "agg_data['species'] = pd.Categorical(agg_data['species'], categories=sorted(agg_data['species'].unique()))\n",
    "agg_data['chemical_superclass'] = pd.Categorical(agg_data['chemical_superclass'], categories=sorted(agg_data['chemical_superclass'].unique()))\n",
    "\n",
    "# Pivot the data to have 'species' as rows and 'chemical_superclass' as columns\n",
    "pivot_data = agg_data.pivot_table(index='species', columns='chemical_superclass', values='recurrence_normalized', fill_value=0)\n",
    "# Multiply the normalized values by 100 to scale them to 100\n",
    "pivot_data *= 100\n",
    "\n",
    "# Create the heatmap\n",
    "fig = px.imshow(pivot_data,\n",
    "                labels=dict(x=\"Chemical Superclass\", y=\"Species\", color=\"Normalized Recurrence\"),\n",
    "                x=pivot_data.columns,\n",
    "                y=pivot_data.index,\n",
    "                color_continuous_scale='tealrose',  # You can choose any other color scale\n",
    "                title='Heatmap of Normalized Recurrence of Chemical Superclasses for Species')\n",
    "\n",
    "# Modify the size of the figure\n",
    "fig.update_layout(width=1500, height=1500)\n",
    "\n",
    "# Save the figure as an HTML file\n",
    "fig.write_html(f'{output_folder}Wikidata_superclass_heatmap_species_normalized.html')\n",
    "\n",
    "# Show the figure\n",
    "fig.show()\n"
   ]
  }
 ],
 "metadata": {
  "interpreter": {
   "hash": "2c38b6a57c2d4f85bcd8a646c69c70f453ebfd581092159d4a2b022d1b3585cd"
  },
  "kernelspec": {
   "display_name": "Python 3.8.5 64-bit ('base': conda)",
   "language": "python",
   "name": "python3"
  },
  "language_info": {
   "codemirror_mode": {
    "name": "ipython",
    "version": 3
   },
   "file_extension": ".py",
   "mimetype": "text/x-python",
   "name": "python",
   "nbconvert_exporter": "python",
   "pygments_lexer": "ipython3",
   "version": "3.11.9"
  },
  "orig_nbformat": 4
 },
 "nbformat": 4,
 "nbformat_minor": 2
}
