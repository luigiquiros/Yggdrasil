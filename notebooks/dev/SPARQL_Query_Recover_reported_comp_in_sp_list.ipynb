{
 "cells": [
  {
   "cell_type": "code",
   "execution_count": 29,
   "metadata": {},
   "outputs": [],
   "source": [
    "import requests\n",
    "import pandas as pd\n",
    "import numpy as np\n",
    "import os\n",
    "from io import StringIO  # Import StringIO from the io module\n",
    "import time  # Import the time module\n",
    "from urllib.parse import quote  # To URL encode SMILES\n",
    "import plotly.express as px\n",
    "import matplotlib.colors as mcolors\n",
    "\n",
    "\n",
    "#define function\n",
    "# Function to process a single CSV file and retrieve Q codes\n",
    "def process_csv_file(input_file, output_folder):\n",
    "    # Read the original CSV file containing the species names\n",
    "    df_species = pd.read_csv(input_file)\n",
    "    \n",
    "    # Define the Wikidata Query Service endpoint URL\n",
    "    endpoint_url = \"https://query.wikidata.org/sparql\"\n",
    "    \n",
    "    # Initialize an empty list to store the Q codes\n",
    "    q_codes = []\n",
    "    \n",
    "    # Initialize a placeholder value for cases where no Q code is found\n",
    "    placeholder_value = \"Not Found\"\n",
    "    \n",
    "    # Define the number of requests allowed per minute (adjust according to Wikidata's rate limits)\n",
    "    requests_per_minute = 30\n",
    "    \n",
    "    # Iterate through the species names in the CSV file\n",
    "    for index, row in df_species.iterrows():\n",
    "        species_name = row[species_header]\n",
    "    \n",
    "        # Check if the species_name is a valid string\n",
    "        if isinstance(species_name, str):\n",
    "            # Query Wikidata to retrieve the corresponding Q code for the species\n",
    "            sparql_query = f\"\"\"\n",
    "            SELECT ?species ?speciesLabel WHERE {{\n",
    "                \n",
    "                ?species rdfs:label \"{species_name}\"@en.\n",
    "                SERVICE wikibase:label {{ bd:serviceParam wikibase:language \"[AUTO_LANGUAGE],en\". }}\n",
    "            }}\n",
    "            \"\"\"\n",
    "    \n",
    "            response = requests.get(endpoint_url, headers={'Accept': 'text/csv'}, params={'query': sparql_query})\n",
    "    \n",
    "            if response.status_code == 200:\n",
    "                csv_data = response.text\n",
    "                df_qcode = pd.read_csv(StringIO(csv_data))\n",
    "    \n",
    "                if not df_qcode.empty:\n",
    "                    q_code = df_qcode['species'].values[0]  # Extract the Q code\n",
    "                    q_codes.append(q_code)  # Append the Q code to the list\n",
    "                    print(f\"Retrieved Q code {q_code} for species: {species_name}\")\n",
    "                else:\n",
    "                    q_codes.append(placeholder_value)  # Add a placeholder value\n",
    "                    print(f\"No Q code found for species: {species_name}\")\n",
    "            else:\n",
    "                q_codes.append(placeholder_value)  # Add a placeholder value for failed requests\n",
    "                print(f\"Failed to retrieve Q code for species: {species_name}. Status code: {response.status_code}\")\n",
    "    \n",
    "            # Implement rate limiting by waiting between requests\n",
    "            time.sleep(60 / requests_per_minute)  # Wait for one minute divided by the allowed requests per minute\n",
    "        else:\n",
    "            q_codes.append(placeholder_value)  # Add a placeholder value for invalid species names\n",
    "    \n",
    "    # Add the Q codes hyperlinks to the original CSV with a new column\n",
    "    df_species['wikidata_Qcode_hyperlink'] = q_codes\n",
    "    \n",
    "    # Add the Q codes only to the original CSV with a new column\n",
    "    df_species['wikidata_Qcode'] = df_species['wikidata_Qcode_hyperlink'].str.rsplit('/', n=1).str[-1]\n",
    "    \n",
    "    # Save the updated CSV file with Q codes in the output folder\n",
    "    output_csv_filename = os.path.join(output_folder, os.path.basename(input_file))\n",
    "    df_species.to_csv(output_csv_filename, index=False)\n",
    "    print(f\"Saved updated CSV with Q codes to {output_csv_filename}\")\n",
    "    \n",
    "def fetch_species_from_qcode(qcode):\n",
    "    \"\"\"\n",
    "    Fetches all species under a given genus using the Wikidata SPARQL endpoint.\n",
    "\n",
    "    Parameters:\n",
    "    genus_qcode (str): The Wikidata Q-code for the genus.\n",
    "\n",
    "    Returns:\n",
    "    pd.DataFrame: A DataFrame containing the species and their corresponding Q-codes.\n",
    "    \"\"\"\n",
    "\n",
    "    # SPARQL query to fetch species under a given genus\n",
    "    query = \"\"\"\n",
    "    SELECT ?species ?speciesLabel WHERE {\n",
    "      ?species wdt:P171* wd:%s .\n",
    "      ?species wdt:P105 wd:Q7432.\n",
    "      SERVICE wikibase:label { bd:serviceParam wikibase:language \"[AUTO_LANGUAGE],en\". }\n",
    "    }\n",
    "    \"\"\" % qcode\n",
    "\n",
    "    # URL for the Wikidata SPARQL endpoint\n",
    "    url = \"https://query.wikidata.org/sparql\"\n",
    "\n",
    "    # Request headers\n",
    "    headers = {\n",
    "        \"User-Agent\": \"Wikidata Species Fetcher/0.1 (https://www.wikidata.org/wiki/Wikidata:Data_access)\"\n",
    "    }\n",
    "\n",
    "    # Perform the request\n",
    "    response = requests.get(url, headers=headers, params={'query': query, 'format': 'json'})\n",
    "\n",
    "    if response.status_code != 200:\n",
    "        raise Exception(\"Failed to fetch data: HTTP status code {}\".format(response.status_code))\n",
    "\n",
    "    # Parse the JSON response\n",
    "    data = response.json()\n",
    "\n",
    "    # Extract results\n",
    "    species = []\n",
    "    for item in data['results']['bindings']:\n",
    "        species.append({\n",
    "            'wikidata_Qcode_species': item['species']['value'].split('/')[-1],\n",
    "            'Species': item['speciesLabel']['value']\n",
    "        })\n",
    "\n",
    "    return pd.DataFrame(species)\n",
    "\n",
    "def recover_LOTUS_data(input_file, output_folder):\n",
    "    # Load the LOTUSDB CSV\n",
    "    lotusdb_df = pd.read_csv(LOTUSDB, low_memory=False)\n",
    "    # Load the CSV file with Q codes\n",
    "    df_species = pd.read_csv(input_file)\n",
    "\n",
    "    # Iterate through the Q codes in the species CSV\n",
    "    for q_code in df_species['wikidata_Qcode']:  # Ensure this column name matches your species CSV\n",
    "        # Skip processing if Q code is 'Not Found'\n",
    "        if q_code == 'Not Found':\n",
    "            continue\n",
    "\n",
    "        # Filter LOTUSDB data for the current Q code\n",
    "        filtered_lotusdb = lotusdb_df[lotusdb_df['wikidata_Qcode'] == q_code]  # Ensure this column name matches your LOTUSDB CSV\n",
    "\n",
    "        # Group and aggregate the data\n",
    "        grouped_df = filtered_lotusdb.groupby(\"structure_inchikey\").agg({\n",
    "            # Add all the aggregation rules here\n",
    "            # Example:\n",
    "            \"structure_wikidata\": \"first\",\n",
    "            \"structure_inchi\": \"first\",\n",
    "            \"structure_smiles\": \"first\",\n",
    "            \"structure_molecular_formula\": \"first\",\n",
    "            \"structure_exact_mass\": \"first\",\n",
    "            \"structure_xlogp\": \"first\",\n",
    "            \"structure_smiles_2D\": \"first\",\n",
    "            \"structure_cid\": \"first\",\n",
    "            \"structure_nameIupac\": \"first\",\n",
    "            \"structure_nameTraditional\": \"first\",\n",
    "            \"structure_taxonomy_npclassifier_01pathway\": \"first\",\n",
    "            \"structure_taxonomy_npclassifier_02superclass\": \"first\",\n",
    "            \"structure_taxonomy_npclassifier_03class\": \"first\",\n",
    "            \"organism_wikidata\": \"first\",\n",
    "            \"organism_taxonomy_gbifid\": \"first\",\n",
    "            \"organism_taxonomy_ncbiid\": \"first\",\n",
    "            \"organism_taxonomy_ottid\": \"first\",\n",
    "            \"organism_taxonomy_01domain\": \"first\",\n",
    "            \"organism_taxonomy_02kingdom\": \"first\",\n",
    "            \"organism_taxonomy_03phylum\": \"first\",\n",
    "            \"organism_taxonomy_04class\": \"first\",\n",
    "            \"organism_taxonomy_05order\": \"first\",\n",
    "            \"organism_taxonomy_06family\": \"first\",\n",
    "            \"organism_taxonomy_07tribe\": \"first\",\n",
    "            \"organism_taxonomy_08genus\": \"first\",\n",
    "            \"organism_taxonomy_09species\": \"first\",\n",
    "            \"organism_taxonomy_10varietas\": \"first\",\n",
    "            \"reference_wikidata\": lambda x: \"|\".join(map(str, x)),\n",
    "            \"reference_doi\": lambda x: \"|\".join(map(str, x))\n",
    "        }).reset_index()\n",
    "        \n",
    "        # Create 'chemical_superclass' and 'chemical_class' columns\n",
    "        grouped_df['chemical_superclass'] = grouped_df['structure_taxonomy_npclassifier_01pathway'] + '-' + grouped_df['structure_taxonomy_npclassifier_02superclass']\n",
    "        grouped_df['chemical_class'] = grouped_df['structure_taxonomy_npclassifier_01pathway'] + '-' + grouped_df['structure_taxonomy_npclassifier_03class']\n",
    "        \n",
    "        # Save the grouped data as a TSV file with the Q code as the filename\n",
    "        #output_subfolder = os.path.join(output_folder, 'species_data')\n",
    "        #os.makedirs(output_subfolder, exist_ok=True)\n",
    "\n",
    "        output_filename = os.path.join(output_folder, f\"{q_code}.tsv\")\n",
    "        grouped_df.to_csv(output_filename, index=False, sep='\\t')\n",
    "\n",
    "        print(f\"Saved grouped data for Q code {q_code} to {output_filename}\")\n",
    "   \n",
    "\n",
    "def process_LOTUS_data(output_folder, input_folder, LOTUSDB_rc):\n",
    "    \"\"\"\n",
    "    Process LOTUS data and update a CSV file with combined information.\n",
    "\n",
    "    Parameters:\n",
    "    output_folder (str): Path to the folder containing .tsv files.\n",
    "    input_folder (str): Path to the folder containing input CSV files.\n",
    "    LOTUSDB_rc (str): Path to the LOTUS database CSV file.\n",
    "\n",
    "    Returns:\n",
    "    pandas.DataFrame: Updated DataFrame with combined information.\n",
    "    \"\"\"\n",
    "    # Step 1: Initialize variables to store data\n",
    "    total_compounds = {}\n",
    "    chemical_classes = {}\n",
    "    chemical_superclasses = {}\n",
    "    references = {}\n",
    "    hyperlinks = {}\n",
    "\n",
    "    # Step 2: Iterate through .tsv files in the folder\n",
    "    species_data_folder = os.path.join(output_folder)\n",
    "    for filename in os.listdir(species_data_folder):\n",
    "        if filename.endswith(\".tsv\"):\n",
    "            qcode = filename.split(\".\")[0]  # Extract Qcode from the filename\n",
    "\n",
    "            # Load the .tsv file into a DataFrame\n",
    "            df_compounds = pd.read_csv(os.path.join(species_data_folder, filename), sep='\\t')\n",
    "\n",
    "            # Step 3: Calculate frequencies of chemical classes for each Qcode (excluding 'not classified')\n",
    "            filtered_classes = df_compounds[df_compounds['structure_taxonomy_npclassifier_03class'] != 'Not Classified']\n",
    "            grouped = filtered_classes['structure_taxonomy_npclassifier_03class'].value_counts().reset_index()\n",
    "            frequencies = grouped.apply(lambda row: f\"{row.name} {row['structure_taxonomy_npclassifier_03class']}\", axis=1)\n",
    "            chemical_classes[qcode] = \"|\".join(frequencies)\n",
    "\n",
    "            # Step 4: Calculate frequencies of chemical superclasses for each Qcode (excluding 'not classified')\n",
    "            filtered_sclasses = df_compounds[df_compounds['structure_taxonomy_npclassifier_02superclass'] != 'Not Classified']\n",
    "            sgrouped = filtered_sclasses['structure_taxonomy_npclassifier_02superclass'].value_counts().reset_index()\n",
    "            frequencies = sgrouped.apply(lambda row: f\"{row.name} {row['structure_taxonomy_npclassifier_02superclass']}\", axis=1)\n",
    "            chemical_superclasses[qcode] = \"|\".join(frequencies)\n",
    "\n",
    "\n",
    "    # Step 7: Load the general info .csv into a DataFrame\n",
    "    csv_file = None\n",
    "    for filename in os.listdir(input_folder):\n",
    "        if filename.endswith(\".csv\"):\n",
    "            csv_file = os.path.join(input_folder, filename)\n",
    "            break  # Stop searching after finding the first CSV file\n",
    "\n",
    "    if csv_file is not None:\n",
    "        # Load the CSV file into the df_general_info DataFrame\n",
    "        df_general_info = pd.read_csv(csv_file)\n",
    "\n",
    "        # Step 7: Create new columns for combined information\n",
    "        df_general_info['predicted_class'] = df_general_info['wikidata_Qcode'].map(chemical_classes)\n",
    "        df_general_info['predicted_superclass'] = df_general_info['wikidata_Qcode'].map(chemical_superclasses)\n",
    "\n",
    "        # Step 7: Save the updated DataFrame to the .csv file\n",
    "        output_csv_file = os.path.join(input_folder, 'Full_results.csv')\n",
    "        df_general_info.to_csv(output_csv_file, index=False, sep=',')\n",
    "\n",
    "        # Replace values matching the pattern with an empty cell\n",
    "        df_general_info['predicted_class'] = df_general_info['predicted_class'].replace('index|predicted_class', '')\n",
    "        df_general_info['predicted_superclass'] = df_general_info['predicted_superclass'].replace('index|predicted_superclass', '')\n",
    "\n",
    "        # Add reported compounds to each Q code\n",
    "        LotusDB_rc = pd.read_csv(LOTUSDB_rc)\n",
    "        spDB = LotusDB_rc[['wikidata_Qcode', 'Reported_comp_Species']].drop_duplicates()\n",
    "        df = pd.merge(df_general_info, spDB, how='left', left_on='wikidata_Qcode', right_on='wikidata_Qcode')\n",
    "        df.drop('wikidata_Qcode', axis=1, inplace=True)\n",
    "        # Save the final DataFrame\n",
    "        df.to_csv(output_csv_file, index=False, sep=',')\n",
    "        print(\"CSV file updated in the input folder.\")\n",
    "    \n",
    "    else:\n",
    "        print(\"No CSV file found in the input folder.\")\n",
    "    \n",
    "    return df\n",
    "\n",
    "\n",
    "def generate_shades(pathway, num_shades):\n",
    "   \n",
    "    # defien inne function \n",
    "    def interpolate_color(color1, color2, factor: float):\n",
    "        \"\"\"Interpolate between two colors\"\"\"\n",
    "        color1 = np.array(mcolors.to_rgb(color1))\n",
    "        color2 = np.array(mcolors.to_rgb(color2))\n",
    "    return mcolors.to_hex((1 - factor) * color1 + factor * color2)\n",
    "\n",
    "    # Define base colors for each Pathway\n",
    "    pathway_shades= {\n",
    "        'Terpenoids': ('#618264', '#D0E7D2'),  # Green start and lighter green end\n",
    "        'Alkaloids': ('#305F72', '#5CBCE2'),   # Blue start and lighter blue end  \n",
    "        'Shikimates and Phenylpropanoids': ('#80558C', '#CBA0AE'),  # Purple start and lighter purple end\n",
    "        'Polyketides': ('#EF4B4B', '#EC8F6A'),  # Red start and lighter purple end\n",
    "        'Fatty acids': ('#FF6C22', '#FF9209'),  # Orange start and lighter purple end\n",
    "        'Amino acids and Peptides': ('#F4E869', '#FAF2D3'),  # Yellow start and lighter purple end\n",
    "        'Carbohydrates': ('#65451F','#C8AE7D')  # Brown start and lighter purple end\n",
    "    }\n",
    "    base_color, end_color = pathway_shades.get(pathway, ('gray', 'lightgray'))\n",
    "\n",
    "    if num_shades == 1:\n",
    "        return [base_color]  # Return the base color if only one shade is requested\n",
    "    shades = []\n",
    "    for i in range(num_shades):\n",
    "        factor = i / (num_shades - 1)\n",
    "        shades.append(interpolate_color(base_color, end_color, factor))\n",
    "    return shades\n",
    "\n",
    "def split_chemical_superclass(row):\n",
    "    # Check if the value is a string before splitting\n",
    "    if isinstance(row['chemical_superclass'], str):\n",
    "        parts = row['chemical_superclass'].split('-')\n",
    "        if len(parts) == 2:\n",
    "            return parts[0], parts[1]  # Pathway and Superclass are present\n",
    "        else:\n",
    "            return parts[0], 'Unknown'  # Only Pathway is present, or the format is not as expected\n",
    "    else:\n",
    "        # Return default values if the entry is NaN or not a string\n",
    "        return 'Unknown', 'Unknown'\n",
    "\n",
    "def barplot_sclass_species(output_folder):\n",
    "    \"\"\"\n",
    "    Process data from .tsv files in the output folder and visualize it with a stacked barplot.\n",
    "\n",
    "    Parameters:\n",
    "    output_folder (str): Path to the folder containing .tsv files.\n",
    "\n",
    "    Returns:\n",
    "    None\n",
    "    \"\"\"\n",
    "    # Step 1: Read data from all .tsv files in the output_folder\n",
    "    all_data = pd.concat([pd.read_csv(os.path.join(output_folder, filename), sep='\\t') \n",
    "                          for filename in os.listdir(output_folder) if filename.endswith(\".tsv\")])\n",
    "\n",
    "    # Step 2: Rename the \"organism_taxonomy_09species\" column to \"species\"\n",
    "    all_data.rename(columns={'organism_taxonomy_09species': 'species'}, inplace=True)\n",
    "\n",
    "    # Remove 'API Error-API Error' and 'Not Classified-Not Classified'\n",
    "    all_data = all_data[~all_data['chemical_superclass'].isin(['API Error-API Error', 'Not Classified-Not Classified'])]\n",
    "\n",
    "    # Step 3: Apply the function to each row\n",
    "    all_data[['Pathway', 'superclass']] = all_data.apply(lambda row: split_chemical_superclass(row), axis=1, result_type='expand')\n",
    "\n",
    "    # Step 4: Process data for color mapping\n",
    "    color_map = {}\n",
    "    for pathway, superclasses in all_data.groupby('Pathway')['superclass'].unique().items():\n",
    "        shades = generate_shades(pathway, len(superclasses))\n",
    "        for superclass, shade in zip(superclasses, shades):\n",
    "            color_map[f\"{pathway}-{superclass}\"] = shade\n",
    "\n",
    "    # Step 5: Group and aggregate data to calculate recurrence\n",
    "    agg_data = all_data.groupby(['species', 'chemical_superclass']).size().reset_index(name='recurrence')\n",
    "\n",
    "    # Convert 'species' column to categorical data\n",
    "    agg_data['species'] = pd.Categorical(agg_data['species'], categories=agg_data['species'].unique(), ordered=True)\n",
    "\n",
    "    # Get unique species names\n",
    "    unique_species = agg_data['species'].unique()\n",
    "\n",
    "    # Get unique chemical superclasses and sort them alphabetically\n",
    "    unique_superclasses = sorted(agg_data['chemical_superclass'].unique())\n",
    "\n",
    "    # Calculate total recurrence for each species\n",
    "    total_recurrence_per_species = agg_data.groupby('species')['recurrence'].sum()\n",
    "\n",
    "    # Create the stacked barplot with the custom color palette\n",
    "    fig = px.bar(agg_data, y='species', x='recurrence',\n",
    "                 title='Stacked Barplot of Predicted Superclasses Occurrence for Species',\n",
    "                 labels={'recurrence': 'Recurrence'},\n",
    "                 color='chemical_superclass',\n",
    "                 color_discrete_map=color_map,\n",
    "                 category_orders={'species': unique_species, 'chemical_superclass': unique_superclasses},\n",
    "                 orientation='h')\n",
    "\n",
    "    # Modify the y-axis label\n",
    "    fig.update_yaxes(title_text='<i>Species<i>')\n",
    "\n",
    "    # Set species labels in italics\n",
    "    fig.update_layout(yaxis=dict(tickmode='array',\n",
    "                                  tickvals=list(range(len(unique_species))),\n",
    "                                  ticktext=[f'<i>{species}</i>' for species in unique_species]\n",
    "                                  ))\n",
    "\n",
    "    # Set a white background\n",
    "    fig.update_layout(plot_bgcolor='white')\n",
    "\n",
    "    # Modify the size of the figure\n",
    "    fig.update_layout(width=1500, height=1500)\n",
    "\n",
    "    # Save the figure as an HTML file\n",
    "    fig.write_html(f'{output_folder}Wikidata_superclass_barplot_species.html')\n",
    "\n",
    "    # Show the figure\n",
    "    fig.show()\n",
    "\n",
    "\n",
    "def barplot_sclass_species_normalized(output_folder):\n",
    "    \"\"\"\n",
    "    Process data from .tsv files in the output folder and visualize it with a normalized stacked barplot.\n",
    "\n",
    "    Parameters:\n",
    "    output_folder (str): Path to the folder containing .tsv files.\n",
    "\n",
    "    Returns:\n",
    "    None\n",
    "    \"\"\"\n",
    "    # Step 1: Read data from all .tsv files in the output_folder\n",
    "    all_data = pd.concat([pd.read_csv(os.path.join(output_folder, filename), sep='\\t') \n",
    "                          for filename in os.listdir(output_folder) if filename.endswith(\".tsv\")])\n",
    "\n",
    "    # Step 2: Rename the \"organism_taxonomy_09species\" column to \"species\"\n",
    "    all_data.rename(columns={'organism_taxonomy_09species': 'species'}, inplace=True)\n",
    "\n",
    "    # Remove 'API Error-API Error' and 'Not Classified-Not Classified'\n",
    "    all_data = all_data[~all_data['chemical_superclass'].isin(['API Error-API Error', 'Not Classified-Not Classified'])]\n",
    "\n",
    "    # Apply the function to each row\n",
    "    all_data[['Pathway', 'superclass']] = all_data.apply(lambda row: split_chemical_superclass(row), axis=1, result_type='expand')\n",
    "\n",
    "    # Step 4: Process data for color mapping\n",
    "    color_map = {}\n",
    "    for pathway, superclasses in all_data.groupby('Pathway')['superclass'].unique().items():\n",
    "        shades = generate_shades(pathway, len(superclasses))\n",
    "        for superclass, shade in zip(superclasses, shades):\n",
    "            color_map[f\"{pathway}-{superclass}\"] = shade\n",
    "\n",
    "    # Step 5: Group and aggregate data to calculate recurrence\n",
    "    agg_data = all_data.groupby(['species', 'chemical_superclass']).size().reset_index(name='recurrence')\n",
    "\n",
    "    # Normalize the recurrence values within each species group\n",
    "    agg_data['recurrence_normalized'] = agg_data.groupby('species')['recurrence'].transform(lambda x: x / x.sum()) * 100\n",
    "\n",
    "    # Convert 'species' column to categorical data\n",
    "    agg_data['species'] = pd.Categorical(agg_data['species'], categories=agg_data['species'].unique(), ordered=True)\n",
    "\n",
    "    # Get unique species names\n",
    "    unique_species = agg_data['species'].unique()\n",
    "\n",
    "    # Get unique chemical superclasses and sort them alphabetically\n",
    "    unique_superclasses = sorted(agg_data['chemical_superclass'].unique())\n",
    "\n",
    "    # Calculate total recurrence for each species\n",
    "    total_recurrence_per_species = agg_data.groupby('species')['recurrence'].sum()\n",
    "\n",
    "    # Create the stacked barplot with the custom color palette\n",
    "    fig = px.bar(agg_data, y='species', x='recurrence_normalized',\n",
    "                 title='Normalized Stacked Barplot of Predicted Superclasses Occurrence for Species',\n",
    "                 labels={'recurrence_normalized': 'Recurrence'},\n",
    "                 color='chemical_superclass',\n",
    "                 color_discrete_map=color_map,\n",
    "                 category_orders={'species': unique_species, 'chemical_superclass': unique_superclasses},\n",
    "                 orientation='h')\n",
    "\n",
    "    # Modify the y-axis label\n",
    "    fig.update_yaxes(title_text='<i>Species<i>')\n",
    "\n",
    "    # Set species labels in italics\n",
    "    fig.update_layout(yaxis=dict(tickmode='array',\n",
    "                                  tickvals=list(range(len(unique_species))),\n",
    "                                  ticktext=[f'<i>{species}</i>' for species in unique_species]\n",
    "                                  ))\n",
    "\n",
    "    # Set a white background\n",
    "    fig.update_layout(plot_bgcolor='white')\n",
    "\n",
    "    # Get the maximum value of the x-axis\n",
    "    max_x = agg_data['recurrence_normalized'].max()\n",
    "\n",
    "    for species, total_recurrence in total_recurrence_per_species.items():\n",
    "        # Find the maximum recurrence for this species\n",
    "        max_recurrence = agg_data[agg_data['species'] == species]['recurrence_normalized'].max()\n",
    "\n",
    "        # Position the annotation at the end of the bar with a slight offset\n",
    "        x_position = max_x + 2\n",
    "        if x_position > 100:  # Ensure the label is not outside the plot area\n",
    "            x_position = 100  # Set it to 100 if it exceeds the maximum x-axis value\n",
    "\n",
    "        # Add annotation to the plot\n",
    "        fig.add_annotation(\n",
    "            x=x_position,\n",
    "            y=species,\n",
    "            text=f'Total compounds: {total_recurrence}',\n",
    "            showarrow=False,\n",
    "            font=dict(size=10, color='black'),\n",
    "            xanchor='left',\n",
    "            yanchor='middle'\n",
    "        )\n",
    "\n",
    "    # Modify the size of the figure\n",
    "    fig.update_layout(width=1500, height=1500)\n",
    "\n",
    "    # Save the figure as an HTML file\n",
    "    fig.write_html(f'{output_folder}Wikidata_superclass_barplot_species_normalized.html')\n",
    "\n",
    "    # Show the figure\n",
    "    fig.show()\n",
    "\n",
    "\n",
    "def barplot_pathway_species(output_folder):\n",
    "    \"\"\"\n",
    "    Process data from .tsv files in the output folder and visualize it with a stacked barplot.\n",
    "\n",
    "    Parameters:\n",
    "    output_folder (str): Path to the folder containing .tsv files.\n",
    "\n",
    "    Returns:\n",
    "    None\n",
    "    \"\"\"\n",
    "    # Define custom colors for the 7 pathway categories\n",
    "    pathway_colors = {\n",
    "        'Terpenoids': '#618264',  # Green start and lighter green end\n",
    "        'Alkaloids': '#305F72',   # Blue start and lighter blue end\n",
    "        'Shikimates and Phenylpropanoids': '#80558C',  # Purple start and lighter purple end\n",
    "        'Polyketides': '#EF4B4B',  # Red start and lighter purple end\n",
    "        'Fatty acids': '#FF6C22',  # Orange start and lighter purple end\n",
    "        'Amino acids and Peptides': '#F4E869',  # Yellow start and lighter purple end\n",
    "        'Carbohydrates': '#65451F' # Brown start and lighter purple end\n",
    "    }\n",
    "\n",
    "    # Step 1: Initialize an empty DataFrame to store all data\n",
    "    all_data = pd.DataFrame(columns=['organism_taxonomy_09species', 'structure_taxonomy_npclassifier_01pathway'])\n",
    "\n",
    "    # Step 2: Read data from all .tsv files in the output_folder\n",
    "    species_data_folder = os.path.join(output_folder)\n",
    "    for filename in os.listdir(species_data_folder):\n",
    "        if filename.endswith(\".tsv\"):\n",
    "            file_data = pd.read_csv(os.path.join(species_data_folder, filename), sep='\\t')\n",
    "            all_data = pd.concat([all_data, file_data])\n",
    "\n",
    "    # Step 3: Rename the \"queried_taxaLabel\" column to \"species\"\n",
    "    all_data.rename(columns={'organism_taxonomy_09species': 'species'}, inplace=True)\n",
    "    all_data.rename(columns={'structure_taxonomy_npclassifier_01pathway': 'Pathway'}, inplace=True)\n",
    "\n",
    "    # Remove 'API Error-API Error' and 'Not Classified-Not Classified'\n",
    "    all_data = all_data[(all_data['Pathway'] != 'API Error') & (all_data['Pathway'] != 'Not Classified')]\n",
    "\n",
    "    # Step 4: Group and aggregate data to calculate recurrence\n",
    "    agg_data = all_data.groupby(['species', 'Pathway']).size().reset_index(name='recurrence')\n",
    "\n",
    "    # Convert 'species' column to categorical data\n",
    "    agg_data['species'] = pd.Categorical(agg_data['species'], categories=agg_data['species'].unique(), ordered=True)\n",
    "\n",
    "    # Get unique species names\n",
    "    unique_species = agg_data['species'].unique()\n",
    "\n",
    "    # Get unique pathways and sort them alphabetically\n",
    "    unique_pathways = sorted(agg_data['Pathway'].unique())\n",
    "\n",
    "    # Calculate total recurrence for each species\n",
    "    total_recurrence_per_species = agg_data.groupby('species')['recurrence'].sum()\n",
    "\n",
    "\n",
    "    # Step 5: Create the stacked barplot with custom colors\n",
    "    fig = px.bar(agg_data, y='species', x='recurrence',\n",
    "                title='Stacked Barplot of Predicted Pathways Ocurrence for Species',\n",
    "                labels={'recurrence': 'Recurrence'},\n",
    "                color='Pathway',\n",
    "                color_discrete_map=pathway_colors,  # Use custom colors\n",
    "                category_orders={'species': unique_species, 'Pathway' :unique_pathways },\n",
    "                orientation='h'\n",
    "                )\n",
    "\n",
    "    # Modify the y-axis label\n",
    "    fig.update_yaxes(title_text='<i>Species<i>')\n",
    "\n",
    "    # Set species labels in italics\n",
    "    fig.update_layout(yaxis=dict(tickmode='array', \n",
    "                                tickvals=list(range(len(unique_species))), \n",
    "                                ticktext=[f'<i>{species}</i>' for species in unique_species]\n",
    "                                ))\n",
    "\n",
    "    # Set a white background\n",
    "    fig.update_layout(plot_bgcolor='white')\n",
    "\n",
    "    # Modify the size of the figure\n",
    "    fig.update_layout(width=1500, height=1500)\n",
    "\n",
    "    # Save the figure as an HTML file\n",
    "    fig.write_html(f'{output_folder}Wikidata_pathway_barplot_species.html')\n",
    "\n",
    "    # Show or save the figure\n",
    "    fig.show()\n",
    "\n",
    "def barplot_pathway_species_normalized(output_folder):\n",
    "    \"\"\"\n",
    "    Process data from .tsv files in the output folder and visualize it with a normalized stacked barplot.\n",
    "\n",
    "    Parameters:\n",
    "    output_folder (str): Path to the folder containing .tsv files.\n",
    "\n",
    "    Returns:\n",
    "    None\n",
    "    \"\"\"\n",
    "    # Define custom colors for the 7 pathway categories\n",
    "    pathway_colors = {\n",
    "        'Terpenoids': '#618264',  # Green start and lighter green end\n",
    "        'Alkaloids': '#305F72',   # Blue start and lighter blue end\n",
    "        'Shikimates and Phenylpropanoids': '#80558C',  # Purple start and lighter purple end\n",
    "        'Polyketides': '#EF4B4B',  # Red start and lighter purple end\n",
    "        'Fatty acids': '#FF6C22',  # Orange start and lighter purple end\n",
    "        'Amino acids and Peptides': '#F4E869',  # Yellow start and lighter purple end\n",
    "        'Carbohydrates': '#65451F' # Brown start and lighter purple end\n",
    "    } \n",
    "    # Step 1: Initialize an empty DataFrame to store all data\n",
    "    all_data = pd.DataFrame(columns=['organism_taxonomy_09species', 'structure_taxonomy_npclassifier_01pathway'])\n",
    "\n",
    "    # Step 2: Read data from all .tsv files in the output_folder\n",
    "    species_data_folder = os.path.join(output_folder)\n",
    "    for filename in os.listdir(species_data_folder):\n",
    "        if filename.endswith(\".tsv\"):\n",
    "            file_data = pd.read_csv(os.path.join(species_data_folder, filename), sep='\\t')\n",
    "            all_data = pd.concat([all_data, file_data])\n",
    "\n",
    "    # Step 3: Rename the \"queried_taxaLabel\" column to \"species\"\n",
    "    all_data.rename(columns={'organism_taxonomy_09species': 'species'}, inplace=True)\n",
    "    all_data.rename(columns={'structure_taxonomy_npclassifier_01pathway': 'Pathway'}, inplace=True)\n",
    "\n",
    "    # Remove 'API Error-API Error' and 'Not Classified-Not Classified'\n",
    "    all_data = all_data[(all_data['Pathway'] != 'API Error') & (all_data['Pathway'] != 'Not Classified')]\n",
    "\n",
    "    # Step 4: Group and aggregate data to calculate recurrence\n",
    "    agg_data = all_data.groupby(['species', 'Pathway']).size().reset_index(name='recurrence')\n",
    "\n",
    "    # Normalize the recurrence values within each species group\n",
    "    agg_data['recurrence_normalized'] = agg_data.groupby('species')['recurrence'].transform(lambda x: x / x.sum())*100\n",
    "\n",
    "    # Convert 'species' column to categorical data\n",
    "    agg_data['species'] = pd.Categorical(agg_data['species'], categories=agg_data['species'].unique(), ordered=True)\n",
    "\n",
    "    # Get unique species names\n",
    "    unique_species = agg_data['species'].unique()\n",
    "\n",
    "    # Get unique pathways and sort them alphabetically\n",
    "    unique_pathways = sorted(agg_data['Pathway'].unique())\n",
    "\n",
    "    # Calculate total recurrence for each species\n",
    "    total_recurrence_per_species = agg_data.groupby('species')['recurrence'].sum()\n",
    "\n",
    "\n",
    "    # Step 5: Create the stacked barplot with custom colors\n",
    "    fig = px.bar(agg_data, y='species', x='recurrence_normalized',\n",
    "                title='Normalized Stacked Barplot of Predicted Pathways Ocurrence for Species',\n",
    "                labels={'recurrence_normalized': 'Recurrence'},\n",
    "                color='Pathway',\n",
    "                color_discrete_map=pathway_colors,  # Use custom colors\n",
    "                category_orders={'species': unique_species, 'Pathway' :unique_pathways },\n",
    "                orientation='h'\n",
    "                )\n",
    "\n",
    "    # Modify the y-axis label\n",
    "    fig.update_yaxes(title_text='<i>Species<i>')\n",
    "\n",
    "    # Set species labels in italics\n",
    "    fig.update_layout(yaxis=dict(tickmode='array', \n",
    "                                tickvals=list(range(len(unique_species))), \n",
    "                                ticktext=[f'<i>{species}</i>' for species in unique_species]\n",
    "                                ))\n",
    "    # Get the maximum value of the x-axis\n",
    "    max_x = agg_data['recurrence_normalized'].max()\n",
    "\n",
    "    for species, total_recurrence in total_recurrence_per_species.items():\n",
    "        # Find the maximum recurrence for this species\n",
    "        max_recurrence = agg_data[agg_data['species'] == species]['recurrence_normalized'].max()\n",
    "        \n",
    "        # Position the annotation at the end of the bar with a slight offset\n",
    "        x_position = max_x + 2\n",
    "        if x_position > 100:  # Ensure the label is not outside the plot area\n",
    "            x_position = 100  # Set it to 100 if it exceeds the maximum x-axis value\n",
    "\n",
    "        # Add annotation to the plot\n",
    "        fig.add_annotation(\n",
    "            x=x_position,\n",
    "            y=species,\n",
    "            text=f'Total compounds: {total_recurrence}',\n",
    "            showarrow=False,\n",
    "            font=dict(size=10, color='black'),\n",
    "            xanchor='left',\n",
    "            yanchor='middle'\n",
    "        )\n",
    "        \n",
    "    # Set a white background\n",
    "    fig.update_layout(plot_bgcolor='white')\n",
    "\n",
    "    # Modify the size of the figure\n",
    "    fig.update_layout(width=1500, height=1500)\n",
    "\n",
    "    # Save the figure as an HTML file\n",
    "    fig.write_html(f'{output_folder}Wikidata_pathway_barplot_normalized.html')\n",
    "\n",
    "    # Show or save the figure\n",
    "    fig.show()\n",
    "\n",
    "def heatmap_pathway_species(output_folder):\n",
    "    \"\"\"\n",
    "    Process data from .tsv files in the output folder and visualize it with a normalized stacked barplot.\n",
    "\n",
    "    Parameters:\n",
    "    output_folder (str): Path to the folder containing .tsv files.\n",
    "\n",
    "    Returns:\n",
    "    None\n",
    "    \"\"\"\n",
    "    # Step 1: Initialize an empty DataFrame to store all data\n",
    "    all_data = pd.DataFrame(columns=['organism_taxonomy_09species', 'structure_taxonomy_npclassifier_01pathway'])\n",
    "\n",
    "    # Step 2: Read data from all .tsv files in the output_folder\n",
    "    species_data_folder = os.path.join(output_folder)\n",
    "    for filename in os.listdir(species_data_folder):\n",
    "        if filename.endswith(\".tsv\"):\n",
    "            file_data = pd.read_csv(os.path.join(species_data_folder, filename), sep='\\t')\n",
    "            all_data = pd.concat([all_data, file_data])\n",
    "\n",
    "    # Step 3: Rename the \"queried_taxaLabel\" column to \"species\"\n",
    "    all_data.rename(columns={'organism_taxonomy_09species': 'species'}, inplace=True)\n",
    "    all_data.rename(columns={'structure_taxonomy_npclassifier_01pathway': 'Pathway'}, inplace=True)\n",
    "\n",
    "    # Remove 'API Error-API Error' and 'Not Classified-Not Classified'\n",
    "    all_data = all_data[(all_data['Pathway'] != 'API Error') & (all_data['Pathway'] != 'Not Classified')]\n",
    "\n",
    "    # Step 4: Group and aggregate data to calculate recurrence\n",
    "    agg_data = all_data.groupby(['species', 'Pathway']).size().reset_index(name='recurrence')\n",
    "\n",
    "    # Normalize the recurrence values within each species group\n",
    "    agg_data['recurrence_normalized'] = agg_data.groupby('species')['recurrence'].transform(lambda x: x / x.sum())*100\n",
    "\n",
    "    # Convert 'species' column to categorical data\n",
    "    agg_data['species'] = pd.Categorical(agg_data['species'], categories=agg_data['species'].unique(), ordered=True)\n",
    "\n",
    "    \n",
    "    # Create a DataFrame with all possible combinations of species and pathways\n",
    "    all_species = all_data['species'].unique()\n",
    "    all_pathways = all_data['Pathway'].unique()\n",
    "    all_combinations = pd.DataFrame([(species, pathway) for species in all_species for pathway in all_pathways],\n",
    "                                    columns=['species', 'Pathway'])\n",
    "\n",
    "    # Merge the all_combinations DataFrame with the aggregated data to include all species\n",
    "    merged_data = pd.merge(all_combinations, agg_data, on=['species', 'Pathway'], how='left')\n",
    "\n",
    "    # Fill missing values (NaN) with 0 for recurrence and recurrence_normalized columns\n",
    "    merged_data['recurrence'].fillna(0, inplace=True)\n",
    "    merged_data['recurrence_normalized'].fillna(0, inplace=True)\n",
    "\n",
    "    # Pivot the merged data to have 'species' as rows and 'Pathway' as columns\n",
    "    pivot_data = merged_data.pivot_table(index='species', columns='Pathway', values='recurrence_normalized', fill_value=0)\n",
    "\n",
    "    # Create the heatmap\n",
    "    fig = px.imshow(pivot_data,\n",
    "                    labels=dict(x=\"Pathway\", y=\"Species\", color=\"Normalized Recurrence\"),\n",
    "                    x=pivot_data.columns,\n",
    "                    y=pivot_data.index,\n",
    "                    color_continuous_scale='tealrose',  # You can choose any other color scale\n",
    "                    title='Heatmap of Normalized Recurrence of Pathways for Species')\n",
    "\n",
    "    # Modify the y-axis label\n",
    "    fig.update_yaxes(title_text='<i>Species<i>')\n",
    "\n",
    "    # Set species labels in italics\n",
    "    fig.update_layout(yaxis=dict(tickmode='array', \n",
    "                                tickvals=list(range(len(unique_species))), \n",
    "                                ticktext=[f'<i>{species}</i>' for species in unique_species]\n",
    "                                ))\n",
    "    # Modify the size of the figure\n",
    "    fig.update_layout(width=1500, height=1500)\n",
    "\n",
    "    # Save the figure as an HTML file\n",
    "    fig.write_html(f'{output_folder}Wikidata_pathway_heatmap_species_normalized.html')\n",
    "\n",
    "    # Show the figure\n",
    "    fig.show()\n",
    "\n",
    "\n",
    "def dotplot_sclass_species(output_folder):\n",
    "    \"\"\"\n",
    "    Process data from .tsv files in the output folder and visualize it with a dot plot.\n",
    "\n",
    "    Parameters:\n",
    "    output_folder (str): Path to the folder containing .tsv files.\n",
    "\n",
    "    Returns:\n",
    "    None\n",
    "    \"\"\"\n",
    "    try:\n",
    "        # Define base colors for each Pathway\n",
    "        pathway_shades = {\n",
    "            'Terpenoids': '#618264',  # Green start and lighter green end\n",
    "            'Alkaloids': '#305F72',   # Blue start and lighter blue end\n",
    "            'Shikimates and Phenylpropanoids': '#80558C',  # Purple start and lighter purple end\n",
    "            'Polyketides': '#EF4B4B',  # Red start and lighter purple end\n",
    "            'Fatty acids': '#FF6C22',  # Orange start and lighter purple end\n",
    "            'Amino acids and Peptides': '#F4E869',  # Yellow start and lighter purple end\n",
    "            'Carbohydrates': '#65451F' # Brown start and lighter purple end\n",
    "        }\n",
    "\n",
    "        # Read data from all .tsv files in the output_folder\n",
    "        all_data = pd.concat([pd.read_csv(os.path.join(output_folder, filename), sep='\\t') \n",
    "                              for filename in os.listdir(output_folder) if filename.endswith(\".tsv\")])\n",
    "\n",
    "        # Rename the \"organism_taxonomy_09species\" column to \"species\"\n",
    "        all_data.rename(columns={'organism_taxonomy_09species': 'species'}, inplace=True)\n",
    "\n",
    "        # Remove 'API Error-API Error' and 'Not Classified-Not Classified'\n",
    "        all_data = all_data[~all_data['chemical_superclass'].isin(['API Error-API Error', 'Not Classified-Not Classified'])]\n",
    "\n",
    "        # Apply the function to each row\n",
    "        all_data[['Pathway', 'superclass']] = all_data.apply(lambda row: split_chemical_superclass(row), axis=1, result_type='expand')\n",
    "\n",
    "        # Process data for color mapping\n",
    "        color_map = {}\n",
    "        for pathway, color in pathway_shades.items():\n",
    "            for superclass in all_data['chemical_superclass'].unique():\n",
    "                color_map[f\"{pathway}-{superclass}\"] = color\n",
    "\n",
    "        # Group and aggregate data to calculate recurrence\n",
    "        agg_data = all_data.groupby(['species', 'Pathway', 'chemical_superclass']).size().reset_index(name='recurrence')\n",
    "\n",
    "        # Convert 'species' column to categorical data\n",
    "        agg_data['species'] = pd.Categorical(agg_data['species'], categories=agg_data['species'].unique(), ordered=True)\n",
    "\n",
    "        # Get unique species names\n",
    "        unique_species = agg_data['species'].unique()\n",
    "\n",
    "        # Sort unique chemical superclasses alphabetically\n",
    "        unique_superclasses = sorted(agg_data['chemical_superclass'].unique())\n",
    "\n",
    "        # Create a dot plot\n",
    "        fig = px.scatter(agg_data, x='chemical_superclass', y='species', size='recurrence',\n",
    "                        labels={'chemical_superclass': 'Chemical Superclass', 'species': 'Species', 'recurrence': 'Recurrence'},\n",
    "                        title='Dot Plot of Recurrence of Chemical Superclasses for Species',\n",
    "                        color='Pathway',\n",
    "                        color_discrete_map=color_map,  # Use the color map\n",
    "                        category_orders={'chemical_superclass': unique_superclasses},\n",
    "                        width=1500, height=1500)\n",
    "\n",
    "        # Set species labels in italics\n",
    "        fig.update_layout(yaxis=dict(tickmode='array',\n",
    "                                      tickvals=list(range(len(unique_species))),\n",
    "                                      ticktext=[f'<i>{species}</i>' for species in unique_species]\n",
    "                                      ))\n",
    "\n",
    "        # Set a white background\n",
    "        fig.update_layout(plot_bgcolor='white')\n",
    "\n",
    "        # Save the figure as an HTML file\n",
    "        fig.write_html(os.path.join(output_folder, 'Wikidata_sclass_dotplot_species.html'))\n",
    "\n",
    "        # Show the figure\n",
    "        fig.show()\n",
    "        \n",
    "        print(\"Dot plot successfully created and saved.\")\n",
    "    except Exception as e:\n",
    "        print(\"An error occurred:\", str(e))\n",
    "\n",
    "\n",
    "def dotplot_pathway_species(output_folder):\n",
    "    \"\"\"\n",
    "    Process data from .tsv files in the output folder and visualize it with a dot plot.\n",
    "\n",
    "    Parameters:\n",
    "    output_folder (str): Path to the folder containing .tsv files.\n",
    "\n",
    "    Returns:\n",
    "    None\n",
    "    \"\"\"\n",
    "    try:\n",
    "        # Step 1: Initialize an empty DataFrame to store all data\n",
    "        all_data = pd.DataFrame(columns=['organism_taxonomy_09species', 'structure_taxonomy_npclassifier_01pathway'])\n",
    "\n",
    "        # Step 2: Read data from all .tsv files in the output_folder\n",
    "        species_data_folder = os.path.join(output_folder)\n",
    "        for filename in os.listdir(species_data_folder):\n",
    "            if filename.endswith(\".tsv\"):\n",
    "                file_data = pd.read_csv(os.path.join(species_data_folder, filename), sep='\\t')\n",
    "                all_data = pd.concat([all_data, file_data])\n",
    "\n",
    "        # Step 3: Rename the \"organism_taxonomy_09species\" column to \"species\"\n",
    "        all_data.rename(columns={'organism_taxonomy_09species': 'species'}, inplace=True)\n",
    "        all_data.rename(columns={'structure_taxonomy_npclassifier_01pathway': 'Pathway'}, inplace=True)\n",
    "\n",
    "        # Remove 'API Error-API Error' and 'Not Classified-Not Classified'\n",
    "        all_data = all_data[(all_data['Pathway'] != 'API Error') & (all_data['Pathway'] != 'Not Classified')]\n",
    "\n",
    "        # Step 4: Group and aggregate data to calculate recurrence\n",
    "        agg_data = all_data.groupby(['species', 'Pathway']).size().reset_index(name='recurrence')\n",
    "\n",
    "        # Define fixed colors for each Pathway\n",
    "        pathway_colors = {\n",
    "            'Terpenoids': '#618264',  # Green start and lighter green end\n",
    "            'Alkaloids': '#305F72',   # Blue start and lighter blue end\n",
    "            'Shikimates and Phenylpropanoids': '#80558C',  # Purple start and lighter purple end\n",
    "            'Polyketides': '#EF4B4B',  # Red start and lighter purple end\n",
    "            'Fatty acids': '#FF6C22',  # Orange start and lighter purple end\n",
    "            'Amino acids and Peptides': '#F4E869',  # Yellow start and lighter purple end\n",
    "            'Carbohydrates': '#65451F' # Brown start and lighter purple end\n",
    "        }\n",
    "\n",
    "        # Create a dot plot\n",
    "        fig = px.scatter(agg_data, x='Pathway', y='species', size='recurrence',\n",
    "                         labels={'Pathway': 'Pathway', 'species': 'Species', 'recurrence': 'Recurrence'},\n",
    "                         title='Dot Plot of Recurrence of Pathways for Species',\n",
    "                         color='Pathway',\n",
    "                         color_discrete_map=pathway_colors,\n",
    "                         width=1500, height=1500)\n",
    "        # Set species labels in italic\n",
    "        fig.update_layout(yaxis=dict(tickmode='array', \n",
    "                                      tickvals=agg_data['species'].unique(), \n",
    "                                      ticktext=[f'<i>{species}</i>' for species in agg_data['species'].unique()]\n",
    "                                    ))\n",
    "\n",
    "        # Set plot background color and font\n",
    "        fig.update_layout(\n",
    "            plot_bgcolor='white',  # Set background color to white\n",
    "            font=dict(family='Times New Roman')#,  # Set font to Times New Roman\n",
    "            #xaxis=dict(side='top', tickangle=-90),  # Set x-axis position to top with labels rotated vertically\n",
    "        )\n",
    "\n",
    "        # Save the figure as an HTML file\n",
    "        output_file = os.path.join(output_folder, 'Wikidata_pathway_dotplot_species.html')\n",
    "        fig.write_html(output_file)\n",
    "\n",
    "        # Show the figure\n",
    "        fig.show()\n",
    "        \n",
    "        print(\"Dot plot successfully created and saved:\", output_file)\n",
    "    except Exception as e:\n",
    "        print(\"An error occurred:\", str(e))"
   ]
  },
  {
   "cell_type": "markdown",
   "metadata": {},
   "source": [
    "Befor runing this code: \n",
    "1) create a .csv file containing a 'species_header' like 'species', 'names', etc. this column should contain the name of the species (or genuses by default) resolved by Open Tree of Life.\n",
    "2) creta an empty folder (input_folder) and put the .csv file inside! \n",
    "\n",
    "That's all"
   ]
  },
  {
   "cell_type": "markdown",
   "metadata": {},
   "source": [
    "DEFINE THE FOLLOWING PARAMETERS"
   ]
  },
  {
   "cell_type": "code",
   "execution_count": 3,
   "metadata": {},
   "outputs": [],
   "source": [
    "#Paths\n",
    "# Input folder containing CSV files\n",
    "input_folder = 'C:/Users/quirosgu/Desktop/test/' #'/home/quirosgu/Desktop/FARMA-SHARE/RECHERCHE/FASIE_LAB/LuisQ/Yggdrasil/data_out/genus/'#'C:/Users/quirosgu/Desktop/JLW/genus/'# '/mnt/c/Users/quirosgu/Desktop/JLW/'\n",
    "\n",
    "species_header = 'query_otol_species'#'ATTRIBUTE_Species' #'full_species'\n",
    "\n",
    "#lotus databases\n",
    "LOTUSDB = 'C:/Users/quirosgu/Documents/Github/Yggdrasil/data_loc/LotusDB_inhouse_metadata.csv'#'/mnt/c/Users/quirosgu/Documents/Github/Yggdrasil/data_loc/LotusDB_inhouse_metadata.csv' #'/home/quirosgu/Desktop/FARMA-SHARE/RECHERCHE/FASIE_LAB/LuisQ/Yggdrasil/data_loc/LotusDB_inhouse_metadata.csv' #'/home/quirosgu/Desktop/FARMA-SHARE/RECHERCHE/FASIE_LAB/LuisQ/Yggdrasil/data_loc/LotusDB_inhouse_metadata.csv' #'C:/Users/quirosgu/Documents/Github/Yggdrasil/data_loc/LotusDB_inhouse_metadata.csv'#'/mnt/c/Users/quirosgu/Documents/Github/Yggdrasil/data_loc/LotusDB_inhouse_metadata.csv' #'/home/quirosgu/Desktop/FARMA-SHARE/RECHERCHE/FASIE_LAB/LuisQ/Yggdrasil/data_loc/LotusDB_inhouse_metadata.csv'\n",
    "LOTUSDB_rc = 'C:/Users/quirosgu/Documents/Github/Yggdrasil/data_loc/LotusDB_inhouse_rc.csv'#'/mnt/c/Users/quirosgu/Documents/Github/Yggdrasil/data_loc/LotusDB_inhouse_rc.csv' #'C:/Users/quirosgu/Documents/Github/Yggdrasil/data_loc/LotusDB_inhouse_rc.csv'#'/mnt/c/Users/quirosgu/Documents/Github/Yggdrasil/data_loc/LotusDB_inhouse_rc.csv' #'/home/quirosgu/Desktop/FARMA-SHARE/RECHERCHE/FASIE_LAB/LuisQ/Yggdrasil/data_loc/LotusDB_inhouse_rc.csv'\n",
    "\n",
    "# Output folder for the processed CSV files\n",
    "output_folder = f'{input_folder}output_data/'\n",
    "\n",
    "# Create the output folder if it doesn't exist\n",
    "if not os.path.exists(output_folder):\n",
    "    os.makedirs(output_folder)"
   ]
  },
  {
   "cell_type": "markdown",
   "metadata": {},
   "source": [
    "FIRST RECOVER THE Q CODES FROM WIKIDATA AND UPDATE THE METADATA FILE"
   ]
  },
  {
   "cell_type": "code",
   "execution_count": 67,
   "metadata": {},
   "outputs": [
    {
     "name": "stdout",
     "output_type": "stream",
     "text": [
      "Retrieved Q code http://www.wikidata.org/entity/Q15287263 for species: Acacia hayesii\n"
     ]
    },
    {
     "ename": "KeyboardInterrupt",
     "evalue": "",
     "output_type": "error",
     "traceback": [
      "\u001b[1;31m---------------------------------------------------------------------------\u001b[0m",
      "\u001b[1;31mKeyboardInterrupt\u001b[0m                         Traceback (most recent call last)",
      "Cell \u001b[1;32mIn[67], line 4\u001b[0m\n\u001b[0;32m      2\u001b[0m \u001b[38;5;28;01mif\u001b[39;00m filename\u001b[38;5;241m.\u001b[39mendswith(\u001b[38;5;124m'\u001b[39m\u001b[38;5;124m.csv\u001b[39m\u001b[38;5;124m'\u001b[39m):\n\u001b[0;32m      3\u001b[0m     input_file \u001b[38;5;241m=\u001b[39m os\u001b[38;5;241m.\u001b[39mpath\u001b[38;5;241m.\u001b[39mjoin(input_folder, filename)\n\u001b[1;32m----> 4\u001b[0m     process_csv_file(input_file, input_folder)\n",
      "Cell \u001b[1;32mIn[65], line 46\u001b[0m, in \u001b[0;36mprocess_csv_file\u001b[1;34m(input_file, output_folder)\u001b[0m\n\u001b[0;32m     36\u001b[0m \u001b[38;5;28;01mif\u001b[39;00m \u001b[38;5;28misinstance\u001b[39m(species_name, \u001b[38;5;28mstr\u001b[39m):\n\u001b[0;32m     37\u001b[0m     \u001b[38;5;66;03m# Query Wikidata to retrieve the corresponding Q code for the species\u001b[39;00m\n\u001b[0;32m     38\u001b[0m     sparql_query \u001b[38;5;241m=\u001b[39m \u001b[38;5;124mf\u001b[39m\u001b[38;5;124m\"\"\"\u001b[39m\n\u001b[0;32m     39\u001b[0m \u001b[38;5;124m    SELECT ?species ?speciesLabel WHERE \u001b[39m\u001b[38;5;130;01m{{\u001b[39;00m\n\u001b[0;32m     40\u001b[0m \u001b[38;5;124m        \u001b[39m\n\u001b[1;32m   (...)\u001b[0m\n\u001b[0;32m     43\u001b[0m \u001b[38;5;124m    \u001b[39m\u001b[38;5;130;01m}}\u001b[39;00m\n\u001b[0;32m     44\u001b[0m \u001b[38;5;124m    \u001b[39m\u001b[38;5;124m\"\"\"\u001b[39m\n\u001b[1;32m---> 46\u001b[0m     response \u001b[38;5;241m=\u001b[39m requests\u001b[38;5;241m.\u001b[39mget(endpoint_url, headers\u001b[38;5;241m=\u001b[39m{\u001b[38;5;124m'\u001b[39m\u001b[38;5;124mAccept\u001b[39m\u001b[38;5;124m'\u001b[39m: \u001b[38;5;124m'\u001b[39m\u001b[38;5;124mtext/csv\u001b[39m\u001b[38;5;124m'\u001b[39m}, params\u001b[38;5;241m=\u001b[39m{\u001b[38;5;124m'\u001b[39m\u001b[38;5;124mquery\u001b[39m\u001b[38;5;124m'\u001b[39m: sparql_query})\n\u001b[0;32m     48\u001b[0m     \u001b[38;5;28;01mif\u001b[39;00m response\u001b[38;5;241m.\u001b[39mstatus_code \u001b[38;5;241m==\u001b[39m \u001b[38;5;241m200\u001b[39m:\n\u001b[0;32m     49\u001b[0m         csv_data \u001b[38;5;241m=\u001b[39m response\u001b[38;5;241m.\u001b[39mtext\n",
      "File \u001b[1;32mc:\\Users\\quirosgu\\AppData\\Local\\anaconda3\\Lib\\site-packages\\requests\\api.py:73\u001b[0m, in \u001b[0;36mget\u001b[1;34m(url, params, **kwargs)\u001b[0m\n\u001b[0;32m     62\u001b[0m \u001b[38;5;28;01mdef\u001b[39;00m \u001b[38;5;21mget\u001b[39m(url, params\u001b[38;5;241m=\u001b[39m\u001b[38;5;28;01mNone\u001b[39;00m, \u001b[38;5;241m*\u001b[39m\u001b[38;5;241m*\u001b[39mkwargs):\n\u001b[0;32m     63\u001b[0m \u001b[38;5;250m    \u001b[39m\u001b[38;5;124mr\u001b[39m\u001b[38;5;124;03m\"\"\"Sends a GET request.\u001b[39;00m\n\u001b[0;32m     64\u001b[0m \n\u001b[0;32m     65\u001b[0m \u001b[38;5;124;03m    :param url: URL for the new :class:`Request` object.\u001b[39;00m\n\u001b[1;32m   (...)\u001b[0m\n\u001b[0;32m     70\u001b[0m \u001b[38;5;124;03m    :rtype: requests.Response\u001b[39;00m\n\u001b[0;32m     71\u001b[0m \u001b[38;5;124;03m    \"\"\"\u001b[39;00m\n\u001b[1;32m---> 73\u001b[0m     \u001b[38;5;28;01mreturn\u001b[39;00m request(\u001b[38;5;124m\"\u001b[39m\u001b[38;5;124mget\u001b[39m\u001b[38;5;124m\"\u001b[39m, url, params\u001b[38;5;241m=\u001b[39mparams, \u001b[38;5;241m*\u001b[39m\u001b[38;5;241m*\u001b[39mkwargs)\n",
      "File \u001b[1;32mc:\\Users\\quirosgu\\AppData\\Local\\anaconda3\\Lib\\site-packages\\requests\\api.py:59\u001b[0m, in \u001b[0;36mrequest\u001b[1;34m(method, url, **kwargs)\u001b[0m\n\u001b[0;32m     55\u001b[0m \u001b[38;5;66;03m# By using the 'with' statement we are sure the session is closed, thus we\u001b[39;00m\n\u001b[0;32m     56\u001b[0m \u001b[38;5;66;03m# avoid leaving sockets open which can trigger a ResourceWarning in some\u001b[39;00m\n\u001b[0;32m     57\u001b[0m \u001b[38;5;66;03m# cases, and look like a memory leak in others.\u001b[39;00m\n\u001b[0;32m     58\u001b[0m \u001b[38;5;28;01mwith\u001b[39;00m sessions\u001b[38;5;241m.\u001b[39mSession() \u001b[38;5;28;01mas\u001b[39;00m session:\n\u001b[1;32m---> 59\u001b[0m     \u001b[38;5;28;01mreturn\u001b[39;00m session\u001b[38;5;241m.\u001b[39mrequest(method\u001b[38;5;241m=\u001b[39mmethod, url\u001b[38;5;241m=\u001b[39murl, \u001b[38;5;241m*\u001b[39m\u001b[38;5;241m*\u001b[39mkwargs)\n",
      "File \u001b[1;32mc:\\Users\\quirosgu\\AppData\\Local\\anaconda3\\Lib\\site-packages\\requests\\sessions.py:589\u001b[0m, in \u001b[0;36mSession.request\u001b[1;34m(self, method, url, params, data, headers, cookies, files, auth, timeout, allow_redirects, proxies, hooks, stream, verify, cert, json)\u001b[0m\n\u001b[0;32m    584\u001b[0m send_kwargs \u001b[38;5;241m=\u001b[39m {\n\u001b[0;32m    585\u001b[0m     \u001b[38;5;124m\"\u001b[39m\u001b[38;5;124mtimeout\u001b[39m\u001b[38;5;124m\"\u001b[39m: timeout,\n\u001b[0;32m    586\u001b[0m     \u001b[38;5;124m\"\u001b[39m\u001b[38;5;124mallow_redirects\u001b[39m\u001b[38;5;124m\"\u001b[39m: allow_redirects,\n\u001b[0;32m    587\u001b[0m }\n\u001b[0;32m    588\u001b[0m send_kwargs\u001b[38;5;241m.\u001b[39mupdate(settings)\n\u001b[1;32m--> 589\u001b[0m resp \u001b[38;5;241m=\u001b[39m \u001b[38;5;28mself\u001b[39m\u001b[38;5;241m.\u001b[39msend(prep, \u001b[38;5;241m*\u001b[39m\u001b[38;5;241m*\u001b[39msend_kwargs)\n\u001b[0;32m    591\u001b[0m \u001b[38;5;28;01mreturn\u001b[39;00m resp\n",
      "File \u001b[1;32mc:\\Users\\quirosgu\\AppData\\Local\\anaconda3\\Lib\\site-packages\\requests\\sessions.py:703\u001b[0m, in \u001b[0;36mSession.send\u001b[1;34m(self, request, **kwargs)\u001b[0m\n\u001b[0;32m    700\u001b[0m start \u001b[38;5;241m=\u001b[39m preferred_clock()\n\u001b[0;32m    702\u001b[0m \u001b[38;5;66;03m# Send the request\u001b[39;00m\n\u001b[1;32m--> 703\u001b[0m r \u001b[38;5;241m=\u001b[39m adapter\u001b[38;5;241m.\u001b[39msend(request, \u001b[38;5;241m*\u001b[39m\u001b[38;5;241m*\u001b[39mkwargs)\n\u001b[0;32m    705\u001b[0m \u001b[38;5;66;03m# Total elapsed time of the request (approximately)\u001b[39;00m\n\u001b[0;32m    706\u001b[0m elapsed \u001b[38;5;241m=\u001b[39m preferred_clock() \u001b[38;5;241m-\u001b[39m start\n",
      "File \u001b[1;32mc:\\Users\\quirosgu\\AppData\\Local\\anaconda3\\Lib\\site-packages\\requests\\adapters.py:486\u001b[0m, in \u001b[0;36mHTTPAdapter.send\u001b[1;34m(self, request, stream, timeout, verify, cert, proxies)\u001b[0m\n\u001b[0;32m    483\u001b[0m     timeout \u001b[38;5;241m=\u001b[39m TimeoutSauce(connect\u001b[38;5;241m=\u001b[39mtimeout, read\u001b[38;5;241m=\u001b[39mtimeout)\n\u001b[0;32m    485\u001b[0m \u001b[38;5;28;01mtry\u001b[39;00m:\n\u001b[1;32m--> 486\u001b[0m     resp \u001b[38;5;241m=\u001b[39m conn\u001b[38;5;241m.\u001b[39murlopen(\n\u001b[0;32m    487\u001b[0m         method\u001b[38;5;241m=\u001b[39mrequest\u001b[38;5;241m.\u001b[39mmethod,\n\u001b[0;32m    488\u001b[0m         url\u001b[38;5;241m=\u001b[39murl,\n\u001b[0;32m    489\u001b[0m         body\u001b[38;5;241m=\u001b[39mrequest\u001b[38;5;241m.\u001b[39mbody,\n\u001b[0;32m    490\u001b[0m         headers\u001b[38;5;241m=\u001b[39mrequest\u001b[38;5;241m.\u001b[39mheaders,\n\u001b[0;32m    491\u001b[0m         redirect\u001b[38;5;241m=\u001b[39m\u001b[38;5;28;01mFalse\u001b[39;00m,\n\u001b[0;32m    492\u001b[0m         assert_same_host\u001b[38;5;241m=\u001b[39m\u001b[38;5;28;01mFalse\u001b[39;00m,\n\u001b[0;32m    493\u001b[0m         preload_content\u001b[38;5;241m=\u001b[39m\u001b[38;5;28;01mFalse\u001b[39;00m,\n\u001b[0;32m    494\u001b[0m         decode_content\u001b[38;5;241m=\u001b[39m\u001b[38;5;28;01mFalse\u001b[39;00m,\n\u001b[0;32m    495\u001b[0m         retries\u001b[38;5;241m=\u001b[39m\u001b[38;5;28mself\u001b[39m\u001b[38;5;241m.\u001b[39mmax_retries,\n\u001b[0;32m    496\u001b[0m         timeout\u001b[38;5;241m=\u001b[39mtimeout,\n\u001b[0;32m    497\u001b[0m         chunked\u001b[38;5;241m=\u001b[39mchunked,\n\u001b[0;32m    498\u001b[0m     )\n\u001b[0;32m    500\u001b[0m \u001b[38;5;28;01mexcept\u001b[39;00m (ProtocolError, \u001b[38;5;167;01mOSError\u001b[39;00m) \u001b[38;5;28;01mas\u001b[39;00m err:\n\u001b[0;32m    501\u001b[0m     \u001b[38;5;28;01mraise\u001b[39;00m \u001b[38;5;167;01mConnectionError\u001b[39;00m(err, request\u001b[38;5;241m=\u001b[39mrequest)\n",
      "File \u001b[1;32mc:\\Users\\quirosgu\\AppData\\Local\\anaconda3\\Lib\\site-packages\\urllib3\\connectionpool.py:791\u001b[0m, in \u001b[0;36mHTTPConnectionPool.urlopen\u001b[1;34m(self, method, url, body, headers, retries, redirect, assert_same_host, timeout, pool_timeout, release_conn, chunked, body_pos, preload_content, decode_content, **response_kw)\u001b[0m\n\u001b[0;32m    788\u001b[0m response_conn \u001b[38;5;241m=\u001b[39m conn \u001b[38;5;28;01mif\u001b[39;00m \u001b[38;5;129;01mnot\u001b[39;00m release_conn \u001b[38;5;28;01melse\u001b[39;00m \u001b[38;5;28;01mNone\u001b[39;00m\n\u001b[0;32m    790\u001b[0m \u001b[38;5;66;03m# Make the request on the HTTPConnection object\u001b[39;00m\n\u001b[1;32m--> 791\u001b[0m response \u001b[38;5;241m=\u001b[39m \u001b[38;5;28mself\u001b[39m\u001b[38;5;241m.\u001b[39m_make_request(\n\u001b[0;32m    792\u001b[0m     conn,\n\u001b[0;32m    793\u001b[0m     method,\n\u001b[0;32m    794\u001b[0m     url,\n\u001b[0;32m    795\u001b[0m     timeout\u001b[38;5;241m=\u001b[39mtimeout_obj,\n\u001b[0;32m    796\u001b[0m     body\u001b[38;5;241m=\u001b[39mbody,\n\u001b[0;32m    797\u001b[0m     headers\u001b[38;5;241m=\u001b[39mheaders,\n\u001b[0;32m    798\u001b[0m     chunked\u001b[38;5;241m=\u001b[39mchunked,\n\u001b[0;32m    799\u001b[0m     retries\u001b[38;5;241m=\u001b[39mretries,\n\u001b[0;32m    800\u001b[0m     response_conn\u001b[38;5;241m=\u001b[39mresponse_conn,\n\u001b[0;32m    801\u001b[0m     preload_content\u001b[38;5;241m=\u001b[39mpreload_content,\n\u001b[0;32m    802\u001b[0m     decode_content\u001b[38;5;241m=\u001b[39mdecode_content,\n\u001b[0;32m    803\u001b[0m     \u001b[38;5;241m*\u001b[39m\u001b[38;5;241m*\u001b[39mresponse_kw,\n\u001b[0;32m    804\u001b[0m )\n\u001b[0;32m    806\u001b[0m \u001b[38;5;66;03m# Everything went great!\u001b[39;00m\n\u001b[0;32m    807\u001b[0m clean_exit \u001b[38;5;241m=\u001b[39m \u001b[38;5;28;01mTrue\u001b[39;00m\n",
      "File \u001b[1;32mc:\\Users\\quirosgu\\AppData\\Local\\anaconda3\\Lib\\site-packages\\urllib3\\connectionpool.py:468\u001b[0m, in \u001b[0;36mHTTPConnectionPool._make_request\u001b[1;34m(self, conn, method, url, body, headers, retries, timeout, chunked, response_conn, preload_content, decode_content, enforce_content_length)\u001b[0m\n\u001b[0;32m    465\u001b[0m \u001b[38;5;28;01mtry\u001b[39;00m:\n\u001b[0;32m    466\u001b[0m     \u001b[38;5;66;03m# Trigger any extra validation we need to do.\u001b[39;00m\n\u001b[0;32m    467\u001b[0m     \u001b[38;5;28;01mtry\u001b[39;00m:\n\u001b[1;32m--> 468\u001b[0m         \u001b[38;5;28mself\u001b[39m\u001b[38;5;241m.\u001b[39m_validate_conn(conn)\n\u001b[0;32m    469\u001b[0m     \u001b[38;5;28;01mexcept\u001b[39;00m (SocketTimeout, BaseSSLError) \u001b[38;5;28;01mas\u001b[39;00m e:\n\u001b[0;32m    470\u001b[0m         \u001b[38;5;28mself\u001b[39m\u001b[38;5;241m.\u001b[39m_raise_timeout(err\u001b[38;5;241m=\u001b[39me, url\u001b[38;5;241m=\u001b[39murl, timeout_value\u001b[38;5;241m=\u001b[39mconn\u001b[38;5;241m.\u001b[39mtimeout)\n",
      "File \u001b[1;32mc:\\Users\\quirosgu\\AppData\\Local\\anaconda3\\Lib\\site-packages\\urllib3\\connectionpool.py:1097\u001b[0m, in \u001b[0;36mHTTPSConnectionPool._validate_conn\u001b[1;34m(self, conn)\u001b[0m\n\u001b[0;32m   1095\u001b[0m \u001b[38;5;66;03m# Force connect early to allow us to validate the connection.\u001b[39;00m\n\u001b[0;32m   1096\u001b[0m \u001b[38;5;28;01mif\u001b[39;00m conn\u001b[38;5;241m.\u001b[39mis_closed:\n\u001b[1;32m-> 1097\u001b[0m     conn\u001b[38;5;241m.\u001b[39mconnect()\n\u001b[0;32m   1099\u001b[0m \u001b[38;5;28;01mif\u001b[39;00m \u001b[38;5;129;01mnot\u001b[39;00m conn\u001b[38;5;241m.\u001b[39mis_verified:\n\u001b[0;32m   1100\u001b[0m     warnings\u001b[38;5;241m.\u001b[39mwarn(\n\u001b[0;32m   1101\u001b[0m         (\n\u001b[0;32m   1102\u001b[0m             \u001b[38;5;124mf\u001b[39m\u001b[38;5;124m\"\u001b[39m\u001b[38;5;124mUnverified HTTPS request is being made to host \u001b[39m\u001b[38;5;124m'\u001b[39m\u001b[38;5;132;01m{\u001b[39;00mconn\u001b[38;5;241m.\u001b[39mhost\u001b[38;5;132;01m}\u001b[39;00m\u001b[38;5;124m'\u001b[39m\u001b[38;5;124m. \u001b[39m\u001b[38;5;124m\"\u001b[39m\n\u001b[1;32m   (...)\u001b[0m\n\u001b[0;32m   1107\u001b[0m         InsecureRequestWarning,\n\u001b[0;32m   1108\u001b[0m     )\n",
      "File \u001b[1;32mc:\\Users\\quirosgu\\AppData\\Local\\anaconda3\\Lib\\site-packages\\urllib3\\connection.py:611\u001b[0m, in \u001b[0;36mHTTPSConnection.connect\u001b[1;34m(self)\u001b[0m\n\u001b[0;32m    609\u001b[0m \u001b[38;5;28;01mdef\u001b[39;00m \u001b[38;5;21mconnect\u001b[39m(\u001b[38;5;28mself\u001b[39m) \u001b[38;5;241m-\u001b[39m\u001b[38;5;241m>\u001b[39m \u001b[38;5;28;01mNone\u001b[39;00m:\n\u001b[0;32m    610\u001b[0m     sock: socket\u001b[38;5;241m.\u001b[39msocket \u001b[38;5;241m|\u001b[39m ssl\u001b[38;5;241m.\u001b[39mSSLSocket\n\u001b[1;32m--> 611\u001b[0m     \u001b[38;5;28mself\u001b[39m\u001b[38;5;241m.\u001b[39msock \u001b[38;5;241m=\u001b[39m sock \u001b[38;5;241m=\u001b[39m \u001b[38;5;28mself\u001b[39m\u001b[38;5;241m.\u001b[39m_new_conn()\n\u001b[0;32m    612\u001b[0m     server_hostname: \u001b[38;5;28mstr\u001b[39m \u001b[38;5;241m=\u001b[39m \u001b[38;5;28mself\u001b[39m\u001b[38;5;241m.\u001b[39mhost\n\u001b[0;32m    613\u001b[0m     tls_in_tls \u001b[38;5;241m=\u001b[39m \u001b[38;5;28;01mFalse\u001b[39;00m\n",
      "File \u001b[1;32mc:\\Users\\quirosgu\\AppData\\Local\\anaconda3\\Lib\\site-packages\\urllib3\\connection.py:203\u001b[0m, in \u001b[0;36mHTTPConnection._new_conn\u001b[1;34m(self)\u001b[0m\n\u001b[0;32m    198\u001b[0m \u001b[38;5;250m\u001b[39m\u001b[38;5;124;03m\"\"\"Establish a socket connection and set nodelay settings on it.\u001b[39;00m\n\u001b[0;32m    199\u001b[0m \n\u001b[0;32m    200\u001b[0m \u001b[38;5;124;03m:return: New socket connection.\u001b[39;00m\n\u001b[0;32m    201\u001b[0m \u001b[38;5;124;03m\"\"\"\u001b[39;00m\n\u001b[0;32m    202\u001b[0m \u001b[38;5;28;01mtry\u001b[39;00m:\n\u001b[1;32m--> 203\u001b[0m     sock \u001b[38;5;241m=\u001b[39m connection\u001b[38;5;241m.\u001b[39mcreate_connection(\n\u001b[0;32m    204\u001b[0m         (\u001b[38;5;28mself\u001b[39m\u001b[38;5;241m.\u001b[39m_dns_host, \u001b[38;5;28mself\u001b[39m\u001b[38;5;241m.\u001b[39mport),\n\u001b[0;32m    205\u001b[0m         \u001b[38;5;28mself\u001b[39m\u001b[38;5;241m.\u001b[39mtimeout,\n\u001b[0;32m    206\u001b[0m         source_address\u001b[38;5;241m=\u001b[39m\u001b[38;5;28mself\u001b[39m\u001b[38;5;241m.\u001b[39msource_address,\n\u001b[0;32m    207\u001b[0m         socket_options\u001b[38;5;241m=\u001b[39m\u001b[38;5;28mself\u001b[39m\u001b[38;5;241m.\u001b[39msocket_options,\n\u001b[0;32m    208\u001b[0m     )\n\u001b[0;32m    209\u001b[0m \u001b[38;5;28;01mexcept\u001b[39;00m socket\u001b[38;5;241m.\u001b[39mgaierror \u001b[38;5;28;01mas\u001b[39;00m e:\n\u001b[0;32m    210\u001b[0m     \u001b[38;5;28;01mraise\u001b[39;00m NameResolutionError(\u001b[38;5;28mself\u001b[39m\u001b[38;5;241m.\u001b[39mhost, \u001b[38;5;28mself\u001b[39m, e) \u001b[38;5;28;01mfrom\u001b[39;00m \u001b[38;5;21;01me\u001b[39;00m\n",
      "File \u001b[1;32mc:\\Users\\quirosgu\\AppData\\Local\\anaconda3\\Lib\\site-packages\\urllib3\\util\\connection.py:73\u001b[0m, in \u001b[0;36mcreate_connection\u001b[1;34m(address, timeout, source_address, socket_options)\u001b[0m\n\u001b[0;32m     71\u001b[0m \u001b[38;5;28;01mif\u001b[39;00m source_address:\n\u001b[0;32m     72\u001b[0m     sock\u001b[38;5;241m.\u001b[39mbind(source_address)\n\u001b[1;32m---> 73\u001b[0m sock\u001b[38;5;241m.\u001b[39mconnect(sa)\n\u001b[0;32m     74\u001b[0m \u001b[38;5;66;03m# Break explicitly a reference cycle\u001b[39;00m\n\u001b[0;32m     75\u001b[0m err \u001b[38;5;241m=\u001b[39m \u001b[38;5;28;01mNone\u001b[39;00m\n",
      "\u001b[1;31mKeyboardInterrupt\u001b[0m: "
     ]
    }
   ],
   "source": [
    "for filename in os.listdir(input_folder):\n",
    "    if filename.endswith('.csv'):\n",
    "        input_file = os.path.join(input_folder, filename)\n",
    "        process_csv_file(input_file, input_folder)"
   ]
  },
  {
   "cell_type": "markdown",
   "metadata": {},
   "source": [
    "NOW, LETS USE THE QCODES TO RECOVER ALL THE COMPOUNDS (WITH REFERENCES) PRESENT IN EACH QCODE AND SAVE THEM AS INDIVIDUAL CSV FILES FROM LOTUS_DB FROZEN METADATA"
   ]
  },
  {
   "cell_type": "code",
   "execution_count": 72,
   "metadata": {},
   "outputs": [
    {
     "name": "stdout",
     "output_type": "stream",
     "text": [
      "Saved grouped data for Q code Q15287263 to C:/Users/quirosgu/Desktop/test/output_data/Q15287263.tsv\n",
      "Saved grouped data for Q code Q8186515 to C:/Users/quirosgu/Desktop/test/output_data/Q8186515.tsv\n",
      "Saved grouped data for Q code Q1882542 to C:/Users/quirosgu/Desktop/test/output_data/Q1882542.tsv\n",
      "Saved grouped data for Q code Q4676527 to C:/Users/quirosgu/Desktop/test/output_data/Q4676527.tsv\n",
      "Saved grouped data for Q code Q5657528 to C:/Users/quirosgu/Desktop/test/output_data/Q5657528.tsv\n",
      "Saved grouped data for Q code Q11079071 to C:/Users/quirosgu/Desktop/test/output_data/Q11079071.tsv\n",
      "Saved grouped data for Q code Q104912462 to C:/Users/quirosgu/Desktop/test/output_data/Q104912462.tsv\n",
      "Saved grouped data for Q code Q4692127 to C:/Users/quirosgu/Desktop/test/output_data/Q4692127.tsv\n",
      "Saved grouped data for Q code Q1949712 to C:/Users/quirosgu/Desktop/test/output_data/Q1949712.tsv\n",
      "Saved grouped data for Q code Q159717 to C:/Users/quirosgu/Desktop/test/output_data/Q159717.tsv\n",
      "Saved grouped data for Q code Q15492162 to C:/Users/quirosgu/Desktop/test/output_data/Q15492162.tsv\n",
      "Saved grouped data for Q code Q15384605 to C:/Users/quirosgu/Desktop/test/output_data/Q15384605.tsv\n",
      "Saved grouped data for Q code Q15396944 to C:/Users/quirosgu/Desktop/test/output_data/Q15396944.tsv\n",
      "Saved grouped data for Q code Q15395163 to C:/Users/quirosgu/Desktop/test/output_data/Q15395163.tsv\n",
      "Saved grouped data for Q code Q15577068 to C:/Users/quirosgu/Desktop/test/output_data/Q15577068.tsv\n",
      "Saved grouped data for Q code Q15318795 to C:/Users/quirosgu/Desktop/test/output_data/Q15318795.tsv\n",
      "Saved grouped data for Q code Q15320656 to C:/Users/quirosgu/Desktop/test/output_data/Q15320656.tsv\n",
      "Saved grouped data for Q code Q4779309 to C:/Users/quirosgu/Desktop/test/output_data/Q4779309.tsv\n",
      "Saved grouped data for Q code Q15598546 to C:/Users/quirosgu/Desktop/test/output_data/Q15598546.tsv\n",
      "Saved grouped data for Q code Q15324297 to C:/Users/quirosgu/Desktop/test/output_data/Q15324297.tsv\n",
      "Saved grouped data for Q code Q15464421 to C:/Users/quirosgu/Desktop/test/output_data/Q15464421.tsv\n",
      "Saved grouped data for Q code Q5702217 to C:/Users/quirosgu/Desktop/test/output_data/Q5702217.tsv\n",
      "Saved grouped data for Q code Q15506735 to C:/Users/quirosgu/Desktop/test/output_data/Q15506735.tsv\n",
      "Saved grouped data for Q code Q15396304 to C:/Users/quirosgu/Desktop/test/output_data/Q15396304.tsv\n",
      "Saved grouped data for Q code Q15344491 to C:/Users/quirosgu/Desktop/test/output_data/Q15344491.tsv\n",
      "Saved grouped data for Q code Q570551 to C:/Users/quirosgu/Desktop/test/output_data/Q570551.tsv\n",
      "Saved grouped data for Q code Q15457484 to C:/Users/quirosgu/Desktop/test/output_data/Q15457484.tsv\n",
      "Saved grouped data for Q code Q15476416 to C:/Users/quirosgu/Desktop/test/output_data/Q15476416.tsv\n",
      "Saved grouped data for Q code Q15331063 to C:/Users/quirosgu/Desktop/test/output_data/Q15331063.tsv\n",
      "Saved grouped data for Q code Q15393186 to C:/Users/quirosgu/Desktop/test/output_data/Q15393186.tsv\n",
      "Saved grouped data for Q code Q15490685 to C:/Users/quirosgu/Desktop/test/output_data/Q15490685.tsv\n",
      "Saved grouped data for Q code Q15547718 to C:/Users/quirosgu/Desktop/test/output_data/Q15547718.tsv\n",
      "Saved grouped data for Q code Q15588567 to C:/Users/quirosgu/Desktop/test/output_data/Q15588567.tsv\n",
      "Saved grouped data for Q code Q42746921 to C:/Users/quirosgu/Desktop/test/output_data/Q42746921.tsv\n",
      "Saved grouped data for Q code Q10890773 to C:/Users/quirosgu/Desktop/test/output_data/Q10890773.tsv\n",
      "Saved grouped data for Q code Q5733430 to C:/Users/quirosgu/Desktop/test/output_data/Q5733430.tsv\n",
      "Saved grouped data for Q code Q990886 to C:/Users/quirosgu/Desktop/test/output_data/Q990886.tsv\n",
      "Saved grouped data for Q code Q15471496 to C:/Users/quirosgu/Desktop/test/output_data/Q15471496.tsv\n",
      "Saved grouped data for Q code Q15387620 to C:/Users/quirosgu/Desktop/test/output_data/Q15387620.tsv\n",
      "Saved grouped data for Q code Q21874434 to C:/Users/quirosgu/Desktop/test/output_data/Q21874434.tsv\n",
      "Saved grouped data for Q code Q1428973 to C:/Users/quirosgu/Desktop/test/output_data/Q1428973.tsv\n",
      "Saved grouped data for Q code Q92367804 to C:/Users/quirosgu/Desktop/test/output_data/Q92367804.tsv\n",
      "Saved grouped data for Q code Q92368903 to C:/Users/quirosgu/Desktop/test/output_data/Q92368903.tsv\n",
      "Saved grouped data for Q code Q18082984 to C:/Users/quirosgu/Desktop/test/output_data/Q18082984.tsv\n",
      "Saved grouped data for Q code Q15348798 to C:/Users/quirosgu/Desktop/test/output_data/Q15348798.tsv\n",
      "Saved grouped data for Q code Q15554410 to C:/Users/quirosgu/Desktop/test/output_data/Q15554410.tsv\n",
      "Saved grouped data for Q code Q5741578 to C:/Users/quirosgu/Desktop/test/output_data/Q5741578.tsv\n",
      "Saved grouped data for Q code Q1317365 to C:/Users/quirosgu/Desktop/test/output_data/Q1317365.tsv\n",
      "Saved grouped data for Q code Q15593376 to C:/Users/quirosgu/Desktop/test/output_data/Q15593376.tsv\n",
      "Saved grouped data for Q code Q1043450 to C:/Users/quirosgu/Desktop/test/output_data/Q1043450.tsv\n",
      "Saved grouped data for Q code Q164094 to C:/Users/quirosgu/Desktop/test/output_data/Q164094.tsv\n",
      "Saved grouped data for Q code Q15348729 to C:/Users/quirosgu/Desktop/test/output_data/Q15348729.tsv\n",
      "Saved grouped data for Q code Q161093 to C:/Users/quirosgu/Desktop/test/output_data/Q161093.tsv\n",
      "Saved grouped data for Q code Q15371226 to C:/Users/quirosgu/Desktop/test/output_data/Q15371226.tsv\n",
      "Saved grouped data for Q code Q2998776 to C:/Users/quirosgu/Desktop/test/output_data/Q2998776.tsv\n",
      "Saved grouped data for Q code Q4744662 to C:/Users/quirosgu/Desktop/test/output_data/Q4744662.tsv\n",
      "Saved grouped data for Q code Q15604947 to C:/Users/quirosgu/Desktop/test/output_data/Q15604947.tsv\n",
      "Saved grouped data for Q code Q12488371 to C:/Users/quirosgu/Desktop/test/output_data/Q12488371.tsv\n",
      "Saved grouped data for Q code Q15387668 to C:/Users/quirosgu/Desktop/test/output_data/Q15387668.tsv\n",
      "Saved grouped data for Q code Q15526424 to C:/Users/quirosgu/Desktop/test/output_data/Q15526424.tsv\n",
      "Saved grouped data for Q code Q21250345 to C:/Users/quirosgu/Desktop/test/output_data/Q21250345.tsv\n",
      "Saved grouped data for Q code Q15387384 to C:/Users/quirosgu/Desktop/test/output_data/Q15387384.tsv\n",
      "Saved grouped data for Q code Q15232465 to C:/Users/quirosgu/Desktop/test/output_data/Q15232465.tsv\n",
      "Saved grouped data for Q code Q49522122 to C:/Users/quirosgu/Desktop/test/output_data/Q49522122.tsv\n",
      "Saved grouped data for Q code Q15399421 to C:/Users/quirosgu/Desktop/test/output_data/Q15399421.tsv\n",
      "Saved grouped data for Q code Q9191371 to C:/Users/quirosgu/Desktop/test/output_data/Q9191371.tsv\n",
      "Saved grouped data for Q code Q15513903 to C:/Users/quirosgu/Desktop/test/output_data/Q15513903.tsv\n",
      "Saved grouped data for Q code Q50839388 to C:/Users/quirosgu/Desktop/test/output_data/Q50839388.tsv\n",
      "Saved grouped data for Q code Q15565299 to C:/Users/quirosgu/Desktop/test/output_data/Q15565299.tsv\n",
      "Saved grouped data for Q code Q2714097 to C:/Users/quirosgu/Desktop/test/output_data/Q2714097.tsv\n",
      "Saved grouped data for Q code Q15471701 to C:/Users/quirosgu/Desktop/test/output_data/Q15471701.tsv\n",
      "Saved grouped data for Q code Q5771221 to C:/Users/quirosgu/Desktop/test/output_data/Q5771221.tsv\n",
      "Saved grouped data for Q code Q15391131 to C:/Users/quirosgu/Desktop/test/output_data/Q15391131.tsv\n",
      "Saved grouped data for Q code Q15394067 to C:/Users/quirosgu/Desktop/test/output_data/Q15394067.tsv\n",
      "Saved grouped data for Q code Q15581202 to C:/Users/quirosgu/Desktop/test/output_data/Q15581202.tsv\n",
      "Saved grouped data for Q code Q2980990 to C:/Users/quirosgu/Desktop/test/output_data/Q2980990.tsv\n",
      "Saved grouped data for Q code Q5141681 to C:/Users/quirosgu/Desktop/test/output_data/Q5141681.tsv\n",
      "Saved grouped data for Q code Q15536508 to C:/Users/quirosgu/Desktop/test/output_data/Q15536508.tsv\n",
      "Saved grouped data for Q code Q15493816 to C:/Users/quirosgu/Desktop/test/output_data/Q15493816.tsv\n",
      "Saved grouped data for Q code Q15401274 to C:/Users/quirosgu/Desktop/test/output_data/Q15401274.tsv\n",
      "Saved grouped data for Q code Q15250450 to C:/Users/quirosgu/Desktop/test/output_data/Q15250450.tsv\n",
      "Saved grouped data for Q code Q214542 to C:/Users/quirosgu/Desktop/test/output_data/Q214542.tsv\n",
      "Saved grouped data for Q code Q1140089 to C:/Users/quirosgu/Desktop/test/output_data/Q1140089.tsv\n",
      "Saved grouped data for Q code Q3004011 to C:/Users/quirosgu/Desktop/test/output_data/Q3004011.tsv\n",
      "Saved grouped data for Q code Q15397864 to C:/Users/quirosgu/Desktop/test/output_data/Q15397864.tsv\n",
      "Saved grouped data for Q code Q15337356 to C:/Users/quirosgu/Desktop/test/output_data/Q15337356.tsv\n",
      "Saved grouped data for Q code Q15547182 to C:/Users/quirosgu/Desktop/test/output_data/Q15547182.tsv\n",
      "Saved grouped data for Q code Q33913 to C:/Users/quirosgu/Desktop/test/output_data/Q33913.tsv\n",
      "Saved grouped data for Q code Q5795462 to C:/Users/quirosgu/Desktop/test/output_data/Q5795462.tsv\n",
      "Saved grouped data for Q code Q5795507 to C:/Users/quirosgu/Desktop/test/output_data/Q5795507.tsv\n",
      "Saved grouped data for Q code Q5208908 to C:/Users/quirosgu/Desktop/test/output_data/Q5208908.tsv\n",
      "Saved grouped data for Q code Q15531517 to C:/Users/quirosgu/Desktop/test/output_data/Q15531517.tsv\n",
      "Saved grouped data for Q code Q17024682 to C:/Users/quirosgu/Desktop/test/output_data/Q17024682.tsv\n",
      "Saved grouped data for Q code Q238486 to C:/Users/quirosgu/Desktop/test/output_data/Q238486.tsv\n",
      "Saved grouped data for Q code Q5764728 to C:/Users/quirosgu/Desktop/test/output_data/Q5764728.tsv\n",
      "Saved grouped data for Q code Q10306429 to C:/Users/quirosgu/Desktop/test/output_data/Q10306429.tsv\n",
      "Saved grouped data for Q code Q15560885 to C:/Users/quirosgu/Desktop/test/output_data/Q15560885.tsv\n",
      "Saved grouped data for Q code Q15546614 to C:/Users/quirosgu/Desktop/test/output_data/Q15546614.tsv\n",
      "Saved grouped data for Q code Q15339270 to C:/Users/quirosgu/Desktop/test/output_data/Q15339270.tsv\n",
      "Saved grouped data for Q code Q89188901 to C:/Users/quirosgu/Desktop/test/output_data/Q89188901.tsv\n",
      "Saved grouped data for Q code Q17398458 to C:/Users/quirosgu/Desktop/test/output_data/Q17398458.tsv\n",
      "Saved grouped data for Q code Q15313056 to C:/Users/quirosgu/Desktop/test/output_data/Q15313056.tsv\n",
      "Saved grouped data for Q code Q15500679 to C:/Users/quirosgu/Desktop/test/output_data/Q15500679.tsv\n",
      "Saved grouped data for Q code Q15507751 to C:/Users/quirosgu/Desktop/test/output_data/Q15507751.tsv\n",
      "Saved grouped data for Q code Q15586829 to C:/Users/quirosgu/Desktop/test/output_data/Q15586829.tsv\n",
      "Saved grouped data for Q code Q690645 to C:/Users/quirosgu/Desktop/test/output_data/Q690645.tsv\n",
      "Saved grouped data for Q code Q15473365 to C:/Users/quirosgu/Desktop/test/output_data/Q15473365.tsv\n",
      "Saved grouped data for Q code Q135127 to C:/Users/quirosgu/Desktop/test/output_data/Q135127.tsv\n",
      "Saved grouped data for Q code Q15575790 to C:/Users/quirosgu/Desktop/test/output_data/Q15575790.tsv\n",
      "Saved grouped data for Q code Q5837307 to C:/Users/quirosgu/Desktop/test/output_data/Q5837307.tsv\n",
      "Saved grouped data for Q code Q5396455 to C:/Users/quirosgu/Desktop/test/output_data/Q5396455.tsv\n",
      "Saved grouped data for Q code Q15376475 to C:/Users/quirosgu/Desktop/test/output_data/Q15376475.tsv\n",
      "Saved grouped data for Q code Q5397254 to C:/Users/quirosgu/Desktop/test/output_data/Q5397254.tsv\n",
      "Saved grouped data for Q code Q6433663 to C:/Users/quirosgu/Desktop/test/output_data/Q6433663.tsv\n",
      "Saved grouped data for Q code Q15443900 to C:/Users/quirosgu/Desktop/test/output_data/Q15443900.tsv\n",
      "Saved grouped data for Q code Q81748456 to C:/Users/quirosgu/Desktop/test/output_data/Q81748456.tsv\n",
      "Saved grouped data for Q code Q275160 to C:/Users/quirosgu/Desktop/test/output_data/Q275160.tsv\n",
      "Saved grouped data for Q code Q3585414 to C:/Users/quirosgu/Desktop/test/output_data/Q3585414.tsv\n",
      "Saved grouped data for Q code Q5446654 to C:/Users/quirosgu/Desktop/test/output_data/Q5446654.tsv\n",
      "Saved grouped data for Q code Q12175320 to C:/Users/quirosgu/Desktop/test/output_data/Q12175320.tsv\n",
      "Saved grouped data for Q code Q1353278 to C:/Users/quirosgu/Desktop/test/output_data/Q1353278.tsv\n",
      "Saved grouped data for Q code Q15457271 to C:/Users/quirosgu/Desktop/test/output_data/Q15457271.tsv\n",
      "Saved grouped data for Q code Q2717303 to C:/Users/quirosgu/Desktop/test/output_data/Q2717303.tsv\n",
      "Saved grouped data for Q code Q15602003 to C:/Users/quirosgu/Desktop/test/output_data/Q15602003.tsv\n",
      "Saved grouped data for Q code Q15399631 to C:/Users/quirosgu/Desktop/test/output_data/Q15399631.tsv\n",
      "Saved grouped data for Q code Q17246257 to C:/Users/quirosgu/Desktop/test/output_data/Q17246257.tsv\n",
      "Saved grouped data for Q code Q15458083 to C:/Users/quirosgu/Desktop/test/output_data/Q15458083.tsv\n",
      "Saved grouped data for Q code Q15459428 to C:/Users/quirosgu/Desktop/test/output_data/Q15459428.tsv\n",
      "Saved grouped data for Q code Q15341503 to C:/Users/quirosgu/Desktop/test/output_data/Q15341503.tsv\n",
      "Saved grouped data for Q code Q15536135 to C:/Users/quirosgu/Desktop/test/output_data/Q15536135.tsv\n",
      "Saved grouped data for Q code Q15460898 to C:/Users/quirosgu/Desktop/test/output_data/Q15460898.tsv\n",
      "Saved grouped data for Q code Q15373210 to C:/Users/quirosgu/Desktop/test/output_data/Q15373210.tsv\n",
      "Saved grouped data for Q code Q17395072 to C:/Users/quirosgu/Desktop/test/output_data/Q17395072.tsv\n",
      "Saved grouped data for Q code Q15383418 to C:/Users/quirosgu/Desktop/test/output_data/Q15383418.tsv\n",
      "Saved grouped data for Q code Q1602492 to C:/Users/quirosgu/Desktop/test/output_data/Q1602492.tsv\n",
      "Saved grouped data for Q code Q15373239 to C:/Users/quirosgu/Desktop/test/output_data/Q15373239.tsv\n",
      "Saved grouped data for Q code Q15462028 to C:/Users/quirosgu/Desktop/test/output_data/Q15462028.tsv\n",
      "Saved grouped data for Q code Q15393584 to C:/Users/quirosgu/Desktop/test/output_data/Q15393584.tsv\n",
      "Saved grouped data for Q code Q158110 to C:/Users/quirosgu/Desktop/test/output_data/Q158110.tsv\n",
      "Saved grouped data for Q code Q15392758 to C:/Users/quirosgu/Desktop/test/output_data/Q15392758.tsv\n",
      "Saved grouped data for Q code Q92422947 to C:/Users/quirosgu/Desktop/test/output_data/Q92422947.tsv\n",
      "Saved grouped data for Q code Q2001703 to C:/Users/quirosgu/Desktop/test/output_data/Q2001703.tsv\n",
      "Saved grouped data for Q code Q10299053 to C:/Users/quirosgu/Desktop/test/output_data/Q10299053.tsv\n",
      "Saved grouped data for Q code Q2234016 to C:/Users/quirosgu/Desktop/test/output_data/Q2234016.tsv\n",
      "Saved grouped data for Q code Q3144082 to C:/Users/quirosgu/Desktop/test/output_data/Q3144082.tsv\n",
      "Saved grouped data for Q code Q50846819 to C:/Users/quirosgu/Desktop/test/output_data/Q50846819.tsv\n",
      "Saved grouped data for Q code Q15502494 to C:/Users/quirosgu/Desktop/test/output_data/Q15502494.tsv\n",
      "Saved grouped data for Q code Q43372103 to C:/Users/quirosgu/Desktop/test/output_data/Q43372103.tsv\n",
      "Saved grouped data for Q code Q11127145 to C:/Users/quirosgu/Desktop/test/output_data/Q11127145.tsv\n",
      "Saved grouped data for Q code Q1330992 to C:/Users/quirosgu/Desktop/test/output_data/Q1330992.tsv\n",
      "Saved grouped data for Q code Q162117 to C:/Users/quirosgu/Desktop/test/output_data/Q162117.tsv\n",
      "Saved grouped data for Q code Q1672259 to C:/Users/quirosgu/Desktop/test/output_data/Q1672259.tsv\n",
      "Saved grouped data for Q code Q15568994 to C:/Users/quirosgu/Desktop/test/output_data/Q15568994.tsv\n",
      "Saved grouped data for Q code Q3163048 to C:/Users/quirosgu/Desktop/test/output_data/Q3163048.tsv\n",
      "Saved grouped data for Q code Q15467921 to C:/Users/quirosgu/Desktop/test/output_data/Q15467921.tsv\n",
      "Saved grouped data for Q code Q15288897 to C:/Users/quirosgu/Desktop/test/output_data/Q15288897.tsv\n",
      "Saved grouped data for Q code Q15598153 to C:/Users/quirosgu/Desktop/test/output_data/Q15598153.tsv\n",
      "Saved grouped data for Q code Q1760533 to C:/Users/quirosgu/Desktop/test/output_data/Q1760533.tsv\n",
      "Saved grouped data for Q code Q332469 to C:/Users/quirosgu/Desktop/test/output_data/Q332469.tsv\n",
      "Saved grouped data for Q code Q182448 to C:/Users/quirosgu/Desktop/test/output_data/Q182448.tsv\n",
      "Saved grouped data for Q code Q15337880 to C:/Users/quirosgu/Desktop/test/output_data/Q15337880.tsv\n",
      "Saved grouped data for Q code Q15613116 to C:/Users/quirosgu/Desktop/test/output_data/Q15613116.tsv\n",
      "Saved grouped data for Q code Q15432557 to C:/Users/quirosgu/Desktop/test/output_data/Q15432557.tsv\n",
      "Saved grouped data for Q code Q15471009 to C:/Users/quirosgu/Desktop/test/output_data/Q15471009.tsv\n",
      "Saved grouped data for Q code Q17551560 to C:/Users/quirosgu/Desktop/test/output_data/Q17551560.tsv\n",
      "Saved grouped data for Q code Q17584503 to C:/Users/quirosgu/Desktop/test/output_data/Q17584503.tsv\n",
      "Saved grouped data for Q code Q15469680 to C:/Users/quirosgu/Desktop/test/output_data/Q15469680.tsv\n",
      "Saved grouped data for Q code Q15357631 to C:/Users/quirosgu/Desktop/test/output_data/Q15357631.tsv\n",
      "Saved grouped data for Q code Q15477328 to C:/Users/quirosgu/Desktop/test/output_data/Q15477328.tsv\n",
      "Saved grouped data for Q code Q168042 to C:/Users/quirosgu/Desktop/test/output_data/Q168042.tsv\n",
      "Saved grouped data for Q code Q15531888 to C:/Users/quirosgu/Desktop/test/output_data/Q15531888.tsv\n",
      "Saved grouped data for Q code Q15523112 to C:/Users/quirosgu/Desktop/test/output_data/Q15523112.tsv\n",
      "Saved grouped data for Q code Q15375506 to C:/Users/quirosgu/Desktop/test/output_data/Q15375506.tsv\n",
      "Saved grouped data for Q code Q15364734 to C:/Users/quirosgu/Desktop/test/output_data/Q15364734.tsv\n",
      "Saved grouped data for Q code Q55879736 to C:/Users/quirosgu/Desktop/test/output_data/Q55879736.tsv\n",
      "Saved grouped data for Q code Q18112872 to C:/Users/quirosgu/Desktop/test/output_data/Q18112872.tsv\n",
      "Saved grouped data for Q code Q43373466 to C:/Users/quirosgu/Desktop/test/output_data/Q43373466.tsv\n",
      "Saved grouped data for Q code Q15393683 to C:/Users/quirosgu/Desktop/test/output_data/Q15393683.tsv\n",
      "Saved grouped data for Q code Q15396943 to C:/Users/quirosgu/Desktop/test/output_data/Q15396943.tsv\n",
      "Saved grouped data for Q code Q15397711 to C:/Users/quirosgu/Desktop/test/output_data/Q15397711.tsv\n",
      "Saved grouped data for Q code Q2717688 to C:/Users/quirosgu/Desktop/test/output_data/Q2717688.tsv\n",
      "Saved grouped data for Q code Q15447942 to C:/Users/quirosgu/Desktop/test/output_data/Q15447942.tsv\n",
      "Saved grouped data for Q code Q148532 to C:/Users/quirosgu/Desktop/test/output_data/Q148532.tsv\n",
      "Saved grouped data for Q code Q234238 to C:/Users/quirosgu/Desktop/test/output_data/Q234238.tsv\n",
      "Saved grouped data for Q code Q2464662 to C:/Users/quirosgu/Desktop/test/output_data/Q2464662.tsv\n",
      "Saved grouped data for Q code Q150452 to C:/Users/quirosgu/Desktop/test/output_data/Q150452.tsv\n",
      "Saved grouped data for Q code Q144670 to C:/Users/quirosgu/Desktop/test/output_data/Q144670.tsv\n",
      "Saved grouped data for Q code Q15608959 to C:/Users/quirosgu/Desktop/test/output_data/Q15608959.tsv\n",
      "Saved grouped data for Q code Q15478932 to C:/Users/quirosgu/Desktop/test/output_data/Q15478932.tsv\n",
      "Saved grouped data for Q code Q6050389 to C:/Users/quirosgu/Desktop/test/output_data/Q6050389.tsv\n",
      "Saved grouped data for Q code Q15367938 to C:/Users/quirosgu/Desktop/test/output_data/Q15367938.tsv\n",
      "Saved grouped data for Q code Q15573034 to C:/Users/quirosgu/Desktop/test/output_data/Q15573034.tsv\n",
      "Saved grouped data for Q code Q15553498 to C:/Users/quirosgu/Desktop/test/output_data/Q15553498.tsv\n",
      "Saved grouped data for Q code Q3887771 to C:/Users/quirosgu/Desktop/test/output_data/Q3887771.tsv\n",
      "Saved grouped data for Q code Q15484900 to C:/Users/quirosgu/Desktop/test/output_data/Q15484900.tsv\n",
      "Saved grouped data for Q code Q50846435 to C:/Users/quirosgu/Desktop/test/output_data/Q50846435.tsv\n",
      "Saved grouped data for Q code Q2063965 to C:/Users/quirosgu/Desktop/test/output_data/Q2063965.tsv\n",
      "Saved grouped data for Q code Q2321967 to C:/Users/quirosgu/Desktop/test/output_data/Q2321967.tsv\n",
      "Saved grouped data for Q code Q15488531 to C:/Users/quirosgu/Desktop/test/output_data/Q15488531.tsv\n",
      "Saved grouped data for Q code Q5972602 to C:/Users/quirosgu/Desktop/test/output_data/Q5972602.tsv\n",
      "Saved grouped data for Q code Q11815583 to C:/Users/quirosgu/Desktop/test/output_data/Q11815583.tsv\n",
      "Saved grouped data for Q code Q15606062 to C:/Users/quirosgu/Desktop/test/output_data/Q15606062.tsv\n",
      "Saved grouped data for Q code Q1606492 to C:/Users/quirosgu/Desktop/test/output_data/Q1606492.tsv\n",
      "Saved grouped data for Q code Q15610265 to C:/Users/quirosgu/Desktop/test/output_data/Q15610265.tsv\n",
      "Saved grouped data for Q code Q15312826 to C:/Users/quirosgu/Desktop/test/output_data/Q15312826.tsv\n",
      "Saved grouped data for Q code Q144322 to C:/Users/quirosgu/Desktop/test/output_data/Q144322.tsv\n",
      "Saved grouped data for Q code Q7188495 to C:/Users/quirosgu/Desktop/test/output_data/Q7188495.tsv\n",
      "Saved grouped data for Q code Q12219768 to C:/Users/quirosgu/Desktop/test/output_data/Q12219768.tsv\n",
      "Saved grouped data for Q code Q17586813 to C:/Users/quirosgu/Desktop/test/output_data/Q17586813.tsv\n",
      "Saved grouped data for Q code Q110666042 to C:/Users/quirosgu/Desktop/test/output_data/Q110666042.tsv\n",
      "Saved grouped data for Q code Q15601163 to C:/Users/quirosgu/Desktop/test/output_data/Q15601163.tsv\n",
      "Saved grouped data for Q code Q15603602 to C:/Users/quirosgu/Desktop/test/output_data/Q15603602.tsv\n",
      "Saved grouped data for Q code Q15604543 to C:/Users/quirosgu/Desktop/test/output_data/Q15604543.tsv\n",
      "Saved grouped data for Q code Q15606320 to C:/Users/quirosgu/Desktop/test/output_data/Q15606320.tsv\n",
      "Saved grouped data for Q code Q15591891 to C:/Users/quirosgu/Desktop/test/output_data/Q15591891.tsv\n",
      "Saved grouped data for Q code Q5476022 to C:/Users/quirosgu/Desktop/test/output_data/Q5476022.tsv\n",
      "Saved grouped data for Q code Q55935331 to C:/Users/quirosgu/Desktop/test/output_data/Q55935331.tsv\n",
      "Saved grouped data for Q code Q15553281 to C:/Users/quirosgu/Desktop/test/output_data/Q15553281.tsv\n",
      "Saved grouped data for Q code Q1097328 to C:/Users/quirosgu/Desktop/test/output_data/Q1097328.tsv\n",
      "Saved grouped data for Q code Q5980290 to C:/Users/quirosgu/Desktop/test/output_data/Q5980290.tsv\n",
      "Saved grouped data for Q code Q10352100 to C:/Users/quirosgu/Desktop/test/output_data/Q10352100.tsv\n",
      "Saved grouped data for Q code Q600793 to C:/Users/quirosgu/Desktop/test/output_data/Q600793.tsv\n",
      "Saved grouped data for Q code Q6089768 to C:/Users/quirosgu/Desktop/test/output_data/Q6089768.tsv\n",
      "Saved grouped data for Q code Q15479818 to C:/Users/quirosgu/Desktop/test/output_data/Q15479818.tsv\n",
      "Saved grouped data for Q code Q15537084 to C:/Users/quirosgu/Desktop/test/output_data/Q15537084.tsv\n",
      "Saved grouped data for Q code Q28819997 to C:/Users/quirosgu/Desktop/test/output_data/Q28819997.tsv\n",
      "Saved grouped data for Q code Q15495113 to C:/Users/quirosgu/Desktop/test/output_data/Q15495113.tsv\n",
      "Saved grouped data for Q code Q67193328 to C:/Users/quirosgu/Desktop/test/output_data/Q67193328.tsv\n",
      "Saved grouped data for Q code Q7262580 to C:/Users/quirosgu/Desktop/test/output_data/Q7262580.tsv\n",
      "Saved grouped data for Q code Q135389 to C:/Users/quirosgu/Desktop/test/output_data/Q135389.tsv\n",
      "Saved grouped data for Q code Q15338790 to C:/Users/quirosgu/Desktop/test/output_data/Q15338790.tsv\n",
      "Saved grouped data for Q code Q15375053 to C:/Users/quirosgu/Desktop/test/output_data/Q15375053.tsv\n",
      "Saved grouped data for Q code Q15435840 to C:/Users/quirosgu/Desktop/test/output_data/Q15435840.tsv\n",
      "Saved grouped data for Q code Q15436074 to C:/Users/quirosgu/Desktop/test/output_data/Q15436074.tsv\n",
      "Saved grouped data for Q code Q15376747 to C:/Users/quirosgu/Desktop/test/output_data/Q15376747.tsv\n",
      "Saved grouped data for Q code Q15374366 to C:/Users/quirosgu/Desktop/test/output_data/Q15374366.tsv\n",
      "Saved grouped data for Q code Q15334943 to C:/Users/quirosgu/Desktop/test/output_data/Q15334943.tsv\n",
      "Saved grouped data for Q code Q853914 to C:/Users/quirosgu/Desktop/test/output_data/Q853914.tsv\n",
      "Saved grouped data for Q code Q15555200 to C:/Users/quirosgu/Desktop/test/output_data/Q15555200.tsv\n",
      "Saved grouped data for Q code Q5436334 to C:/Users/quirosgu/Desktop/test/output_data/Q5436334.tsv\n",
      "Saved grouped data for Q code Q15549873 to C:/Users/quirosgu/Desktop/test/output_data/Q15549873.tsv\n",
      "Saved grouped data for Q code Q15057501 to C:/Users/quirosgu/Desktop/test/output_data/Q15057501.tsv\n",
      "Saved grouped data for Q code Q7377841 to C:/Users/quirosgu/Desktop/test/output_data/Q7377841.tsv\n",
      "Saved grouped data for Q code Q3391243 to C:/Users/quirosgu/Desktop/test/output_data/Q3391243.tsv\n",
      "Saved grouped data for Q code Q17566084 to C:/Users/quirosgu/Desktop/test/output_data/Q17566084.tsv\n",
      "Saved grouped data for Q code Q259500 to C:/Users/quirosgu/Desktop/test/output_data/Q259500.tsv\n",
      "Saved grouped data for Q code Q5859273 to C:/Users/quirosgu/Desktop/test/output_data/Q5859273.tsv\n",
      "Saved grouped data for Q code Q15379566 to C:/Users/quirosgu/Desktop/test/output_data/Q15379566.tsv\n",
      "Saved grouped data for Q code Q15366241 to C:/Users/quirosgu/Desktop/test/output_data/Q15366241.tsv\n",
      "Saved grouped data for Q code Q15345651 to C:/Users/quirosgu/Desktop/test/output_data/Q15345651.tsv\n",
      "Saved grouped data for Q code Q2711230 to C:/Users/quirosgu/Desktop/test/output_data/Q2711230.tsv\n",
      "Saved grouped data for Q code Q15562981 to C:/Users/quirosgu/Desktop/test/output_data/Q15562981.tsv\n",
      "Saved grouped data for Q code Q17351916 to C:/Users/quirosgu/Desktop/test/output_data/Q17351916.tsv\n",
      "Saved grouped data for Q code Q15563877 to C:/Users/quirosgu/Desktop/test/output_data/Q15563877.tsv\n",
      "Saved grouped data for Q code Q50326244 to C:/Users/quirosgu/Desktop/test/output_data/Q50326244.tsv\n",
      "Saved grouped data for Q code Q15557984 to C:/Users/quirosgu/Desktop/test/output_data/Q15557984.tsv\n",
      "Saved grouped data for Q code Q15535713 to C:/Users/quirosgu/Desktop/test/output_data/Q15535713.tsv\n",
      "Saved grouped data for Q code Q15599569 to C:/Users/quirosgu/Desktop/test/output_data/Q15599569.tsv\n",
      "Saved grouped data for Q code Q15348500 to C:/Users/quirosgu/Desktop/test/output_data/Q15348500.tsv\n",
      "Saved grouped data for Q code Q2295155 to C:/Users/quirosgu/Desktop/test/output_data/Q2295155.tsv\n",
      "Saved grouped data for Q code Q15532787 to C:/Users/quirosgu/Desktop/test/output_data/Q15532787.tsv\n",
      "Saved grouped data for Q code Q15533130 to C:/Users/quirosgu/Desktop/test/output_data/Q15533130.tsv\n",
      "Saved grouped data for Q code Q15534583 to C:/Users/quirosgu/Desktop/test/output_data/Q15534583.tsv\n",
      "Saved grouped data for Q code Q15536849 to C:/Users/quirosgu/Desktop/test/output_data/Q15536849.tsv\n",
      "Saved grouped data for Q code Q15537449 to C:/Users/quirosgu/Desktop/test/output_data/Q15537449.tsv\n",
      "Saved grouped data for Q code Q15538200 to C:/Users/quirosgu/Desktop/test/output_data/Q15538200.tsv\n",
      "Saved grouped data for Q code Q17401125 to C:/Users/quirosgu/Desktop/test/output_data/Q17401125.tsv\n",
      "Saved grouped data for Q code Q15538442 to C:/Users/quirosgu/Desktop/test/output_data/Q15538442.tsv\n",
      "Saved grouped data for Q code Q15480762 to C:/Users/quirosgu/Desktop/test/output_data/Q15480762.tsv\n",
      "Saved grouped data for Q code Q15594912 to C:/Users/quirosgu/Desktop/test/output_data/Q15594912.tsv\n",
      "Saved grouped data for Q code Q9340113 to C:/Users/quirosgu/Desktop/test/output_data/Q9340113.tsv\n",
      "Saved grouped data for Q code Q7578948 to C:/Users/quirosgu/Desktop/test/output_data/Q7578948.tsv\n",
      "Saved grouped data for Q code Q15348772 to C:/Users/quirosgu/Desktop/test/output_data/Q15348772.tsv\n",
      "Saved grouped data for Q code Q17565541 to C:/Users/quirosgu/Desktop/test/output_data/Q17565541.tsv\n",
      "Saved grouped data for Q code Q15544832 to C:/Users/quirosgu/Desktop/test/output_data/Q15544832.tsv\n",
      "Saved grouped data for Q code Q15349206 to C:/Users/quirosgu/Desktop/test/output_data/Q15349206.tsv\n",
      "Saved grouped data for Q code Q49523637 to C:/Users/quirosgu/Desktop/test/output_data/Q49523637.tsv\n",
      "Saved grouped data for Q code Q13403357 to C:/Users/quirosgu/Desktop/test/output_data/Q13403357.tsv\n",
      "Saved grouped data for Q code Q31936 to C:/Users/quirosgu/Desktop/test/output_data/Q31936.tsv\n",
      "Saved grouped data for Q code Q15549607 to C:/Users/quirosgu/Desktop/test/output_data/Q15549607.tsv\n",
      "Saved grouped data for Q code Q715899 to C:/Users/quirosgu/Desktop/test/output_data/Q715899.tsv\n",
      "Saved grouped data for Q code Q15529660 to C:/Users/quirosgu/Desktop/test/output_data/Q15529660.tsv\n",
      "Saved grouped data for Q code Q17248087 to C:/Users/quirosgu/Desktop/test/output_data/Q17248087.tsv\n",
      "Saved grouped data for Q code Q15598512 to C:/Users/quirosgu/Desktop/test/output_data/Q15598512.tsv\n",
      "Saved grouped data for Q code Q15384264 to C:/Users/quirosgu/Desktop/test/output_data/Q15384264.tsv\n",
      "Saved grouped data for Q code Q15525761 to C:/Users/quirosgu/Desktop/test/output_data/Q15525761.tsv\n",
      "Saved grouped data for Q code Q15526615 to C:/Users/quirosgu/Desktop/test/output_data/Q15526615.tsv\n",
      "Saved grouped data for Q code Q10280832 to C:/Users/quirosgu/Desktop/test/output_data/Q10280832.tsv\n",
      "Saved grouped data for Q code Q50876289 to C:/Users/quirosgu/Desktop/test/output_data/Q50876289.tsv\n",
      "Saved grouped data for Q code Q15553726 to C:/Users/quirosgu/Desktop/test/output_data/Q15553726.tsv\n",
      "Saved grouped data for Q code Q21304319 to C:/Users/quirosgu/Desktop/test/output_data/Q21304319.tsv\n",
      "Saved grouped data for Q code Q48682711 to C:/Users/quirosgu/Desktop/test/output_data/Q48682711.tsv\n",
      "Saved grouped data for Q code Q15490748 to C:/Users/quirosgu/Desktop/test/output_data/Q15490748.tsv\n",
      "Saved grouped data for Q code Q15332877 to C:/Users/quirosgu/Desktop/test/output_data/Q15332877.tsv\n",
      "Saved grouped data for Q code Q15601401 to C:/Users/quirosgu/Desktop/test/output_data/Q15601401.tsv\n",
      "Saved grouped data for Q code Q7983179 to C:/Users/quirosgu/Desktop/test/output_data/Q7983179.tsv\n",
      "Saved grouped data for Q code Q17140701 to C:/Users/quirosgu/Desktop/test/output_data/Q17140701.tsv\n",
      "Saved grouped data for Q code Q4118130 to C:/Users/quirosgu/Desktop/test/output_data/Q4118130.tsv\n",
      "Saved grouped data for Q code Q10395363 to C:/Users/quirosgu/Desktop/test/output_data/Q10395363.tsv\n"
     ]
    }
   ],
   "source": [
    "# Iterate through all CSV files in the input folder\n",
    "for filename in os.listdir(input_folder):\n",
    "    if filename.endswith('.csv'):\n",
    "        input_file = os.path.join(input_folder, filename)\n",
    "        recover_LOTUS_data(input_file, output_folder)"
   ]
  },
  {
   "cell_type": "markdown",
   "metadata": {},
   "source": [
    "RECOVER THE FRECUENCE BY CHEMICAL CLASS AND ADDED TO THE GENERAL TABLE"
   ]
  },
  {
   "cell_type": "code",
   "execution_count": 73,
   "metadata": {},
   "outputs": [
    {
     "name": "stdout",
     "output_type": "stream",
     "text": [
      "CSV file updated in the input folder.\n"
     ]
    }
   ],
   "source": [
    "processed_data = process_LOTUS_data(output_folder, input_folder, LOTUSDB_rc)\n",
    "#processed_data.head()"
   ]
  },
  {
   "cell_type": "markdown",
   "metadata": {},
   "source": [
    "Generate une plot by species (samples) and the chemical class"
   ]
  },
  {
   "cell_type": "code",
   "execution_count": 93,
   "metadata": {},
   "outputs": [
    {
     "name": "stderr",
     "output_type": "stream",
     "text": [
      "C:\\Users\\quirosgu\\AppData\\Local\\Temp\\ipykernel_10612\\1021957334.py:319: FutureWarning:\n",
      "\n",
      "The behavior of DataFrame concatenation with empty or all-NA entries is deprecated. In a future version, this will no longer exclude empty or all-NA columns when determining the result dtypes. To retain the old behavior, exclude the relevant entries before the concat operation.\n",
      "\n"
     ]
    },
    {
     "ename": "TypeError",
     "evalue": "generate_shades() missing 1 required positional argument: 'num_shades'",
     "output_type": "error",
     "traceback": [
      "\u001b[1;31m---------------------------------------------------------------------------\u001b[0m",
      "\u001b[1;31mTypeError\u001b[0m                                 Traceback (most recent call last)",
      "Cell \u001b[1;32mIn[93], line 1\u001b[0m\n\u001b[1;32m----> 1\u001b[0m barplot_sclass_species(output_folder)\n\u001b[0;32m      2\u001b[0m barplot_sclass_species_normalized(output_folder)\n",
      "Cell \u001b[1;32mIn[82], line 334\u001b[0m, in \u001b[0;36mbarplot_sclass_species\u001b[1;34m(output_folder)\u001b[0m\n\u001b[0;32m    332\u001b[0m color_map \u001b[38;5;241m=\u001b[39m {}\n\u001b[0;32m    333\u001b[0m \u001b[38;5;28;01mfor\u001b[39;00m pathway, superclasses \u001b[38;5;129;01min\u001b[39;00m all_data\u001b[38;5;241m.\u001b[39mgroupby(\u001b[38;5;124m'\u001b[39m\u001b[38;5;124mPathway\u001b[39m\u001b[38;5;124m'\u001b[39m)[\u001b[38;5;124m'\u001b[39m\u001b[38;5;124msuperclass\u001b[39m\u001b[38;5;124m'\u001b[39m]\u001b[38;5;241m.\u001b[39munique()\u001b[38;5;241m.\u001b[39mitems():\n\u001b[1;32m--> 334\u001b[0m     shades \u001b[38;5;241m=\u001b[39m generate_shades(pathway, \u001b[38;5;28mlen\u001b[39m(superclasses))\n\u001b[0;32m    335\u001b[0m     \u001b[38;5;28;01mfor\u001b[39;00m superclass, shade \u001b[38;5;129;01min\u001b[39;00m \u001b[38;5;28mzip\u001b[39m(superclasses, shades):\n\u001b[0;32m    336\u001b[0m         color_map[\u001b[38;5;124mf\u001b[39m\u001b[38;5;124m\"\u001b[39m\u001b[38;5;132;01m{\u001b[39;00mpathway\u001b[38;5;132;01m}\u001b[39;00m\u001b[38;5;124m-\u001b[39m\u001b[38;5;132;01m{\u001b[39;00msuperclass\u001b[38;5;132;01m}\u001b[39;00m\u001b[38;5;124m\"\u001b[39m] \u001b[38;5;241m=\u001b[39m shade\n",
      "\u001b[1;31mTypeError\u001b[0m: generate_shades() missing 1 required positional argument: 'num_shades'"
     ]
    }
   ],
   "source": [
    "barplot_sclass_species(output_folder)\n",
    "barplot_sclass_species_normalized(output_folder)"
   ]
  },
  {
   "cell_type": "markdown",
   "metadata": {},
   "source": [
    "# BARPLOT PATHWAY - SPECIES "
   ]
  },
  {
   "cell_type": "code",
   "execution_count": 92,
   "metadata": {},
   "outputs": [
    {
     "name": "stderr",
     "output_type": "stream",
     "text": [
      "C:\\Users\\quirosgu\\AppData\\Local\\Temp\\ipykernel_10612\\1021957334.py:515: FutureWarning:\n",
      "\n",
      "The behavior of DataFrame concatenation with empty or all-NA entries is deprecated. In a future version, this will no longer exclude empty or all-NA columns when determining the result dtypes. To retain the old behavior, exclude the relevant entries before the concat operation.\n",
      "\n",
      "C:\\Users\\quirosgu\\AppData\\Local\\Temp\\ipykernel_10612\\1021957334.py:515: FutureWarning:\n",
      "\n",
      "The behavior of DataFrame concatenation with empty or all-NA entries is deprecated. In a future version, this will no longer exclude empty or all-NA columns when determining the result dtypes. To retain the old behavior, exclude the relevant entries before the concat operation.\n",
      "\n",
      "C:\\Users\\quirosgu\\AppData\\Local\\Temp\\ipykernel_10612\\1021957334.py:515: FutureWarning:\n",
      "\n",
      "The behavior of DataFrame concatenation with empty or all-NA entries is deprecated. In a future version, this will no longer exclude empty or all-NA columns when determining the result dtypes. To retain the old behavior, exclude the relevant entries before the concat operation.\n",
      "\n",
      "C:\\Users\\quirosgu\\AppData\\Local\\Temp\\ipykernel_10612\\1021957334.py:515: FutureWarning:\n",
      "\n",
      "The behavior of DataFrame concatenation with empty or all-NA entries is deprecated. In a future version, this will no longer exclude empty or all-NA columns when determining the result dtypes. To retain the old behavior, exclude the relevant entries before the concat operation.\n",
      "\n",
      "C:\\Users\\quirosgu\\AppData\\Local\\Temp\\ipykernel_10612\\1021957334.py:515: FutureWarning:\n",
      "\n",
      "The behavior of DataFrame concatenation with empty or all-NA entries is deprecated. In a future version, this will no longer exclude empty or all-NA columns when determining the result dtypes. To retain the old behavior, exclude the relevant entries before the concat operation.\n",
      "\n",
      "C:\\Users\\quirosgu\\AppData\\Local\\Temp\\ipykernel_10612\\1021957334.py:515: FutureWarning:\n",
      "\n",
      "The behavior of DataFrame concatenation with empty or all-NA entries is deprecated. In a future version, this will no longer exclude empty or all-NA columns when determining the result dtypes. To retain the old behavior, exclude the relevant entries before the concat operation.\n",
      "\n",
      "C:\\Users\\quirosgu\\AppData\\Local\\Temp\\ipykernel_10612\\1021957334.py:515: FutureWarning:\n",
      "\n",
      "The behavior of DataFrame concatenation with empty or all-NA entries is deprecated. In a future version, this will no longer exclude empty or all-NA columns when determining the result dtypes. To retain the old behavior, exclude the relevant entries before the concat operation.\n",
      "\n",
      "C:\\Users\\quirosgu\\AppData\\Local\\Temp\\ipykernel_10612\\1021957334.py:515: FutureWarning:\n",
      "\n",
      "The behavior of DataFrame concatenation with empty or all-NA entries is deprecated. In a future version, this will no longer exclude empty or all-NA columns when determining the result dtypes. To retain the old behavior, exclude the relevant entries before the concat operation.\n",
      "\n",
      "C:\\Users\\quirosgu\\AppData\\Local\\Temp\\ipykernel_10612\\1021957334.py:515: FutureWarning:\n",
      "\n",
      "The behavior of DataFrame concatenation with empty or all-NA entries is deprecated. In a future version, this will no longer exclude empty or all-NA columns when determining the result dtypes. To retain the old behavior, exclude the relevant entries before the concat operation.\n",
      "\n",
      "C:\\Users\\quirosgu\\AppData\\Local\\Temp\\ipykernel_10612\\1021957334.py:515: FutureWarning:\n",
      "\n",
      "The behavior of DataFrame concatenation with empty or all-NA entries is deprecated. In a future version, this will no longer exclude empty or all-NA columns when determining the result dtypes. To retain the old behavior, exclude the relevant entries before the concat operation.\n",
      "\n",
      "C:\\Users\\quirosgu\\AppData\\Local\\Temp\\ipykernel_10612\\1021957334.py:515: FutureWarning:\n",
      "\n",
      "The behavior of DataFrame concatenation with empty or all-NA entries is deprecated. In a future version, this will no longer exclude empty or all-NA columns when determining the result dtypes. To retain the old behavior, exclude the relevant entries before the concat operation.\n",
      "\n",
      "C:\\Users\\quirosgu\\AppData\\Local\\Temp\\ipykernel_10612\\1021957334.py:515: FutureWarning:\n",
      "\n",
      "The behavior of DataFrame concatenation with empty or all-NA entries is deprecated. In a future version, this will no longer exclude empty or all-NA columns when determining the result dtypes. To retain the old behavior, exclude the relevant entries before the concat operation.\n",
      "\n",
      "C:\\Users\\quirosgu\\AppData\\Local\\Temp\\ipykernel_10612\\1021957334.py:515: FutureWarning:\n",
      "\n",
      "The behavior of DataFrame concatenation with empty or all-NA entries is deprecated. In a future version, this will no longer exclude empty or all-NA columns when determining the result dtypes. To retain the old behavior, exclude the relevant entries before the concat operation.\n",
      "\n",
      "C:\\Users\\quirosgu\\AppData\\Local\\Temp\\ipykernel_10612\\1021957334.py:515: FutureWarning:\n",
      "\n",
      "The behavior of DataFrame concatenation with empty or all-NA entries is deprecated. In a future version, this will no longer exclude empty or all-NA columns when determining the result dtypes. To retain the old behavior, exclude the relevant entries before the concat operation.\n",
      "\n",
      "C:\\Users\\quirosgu\\AppData\\Local\\Temp\\ipykernel_10612\\1021957334.py:515: FutureWarning:\n",
      "\n",
      "The behavior of DataFrame concatenation with empty or all-NA entries is deprecated. In a future version, this will no longer exclude empty or all-NA columns when determining the result dtypes. To retain the old behavior, exclude the relevant entries before the concat operation.\n",
      "\n",
      "C:\\Users\\quirosgu\\AppData\\Local\\Temp\\ipykernel_10612\\1021957334.py:515: FutureWarning:\n",
      "\n",
      "The behavior of DataFrame concatenation with empty or all-NA entries is deprecated. In a future version, this will no longer exclude empty or all-NA columns when determining the result dtypes. To retain the old behavior, exclude the relevant entries before the concat operation.\n",
      "\n",
      "C:\\Users\\quirosgu\\AppData\\Local\\Temp\\ipykernel_10612\\1021957334.py:515: FutureWarning:\n",
      "\n",
      "The behavior of DataFrame concatenation with empty or all-NA entries is deprecated. In a future version, this will no longer exclude empty or all-NA columns when determining the result dtypes. To retain the old behavior, exclude the relevant entries before the concat operation.\n",
      "\n",
      "C:\\Users\\quirosgu\\AppData\\Local\\Temp\\ipykernel_10612\\1021957334.py:515: FutureWarning:\n",
      "\n",
      "The behavior of DataFrame concatenation with empty or all-NA entries is deprecated. In a future version, this will no longer exclude empty or all-NA columns when determining the result dtypes. To retain the old behavior, exclude the relevant entries before the concat operation.\n",
      "\n",
      "C:\\Users\\quirosgu\\AppData\\Local\\Temp\\ipykernel_10612\\1021957334.py:515: FutureWarning:\n",
      "\n",
      "The behavior of DataFrame concatenation with empty or all-NA entries is deprecated. In a future version, this will no longer exclude empty or all-NA columns when determining the result dtypes. To retain the old behavior, exclude the relevant entries before the concat operation.\n",
      "\n",
      "C:\\Users\\quirosgu\\AppData\\Local\\Temp\\ipykernel_10612\\1021957334.py:515: FutureWarning:\n",
      "\n",
      "The behavior of DataFrame concatenation with empty or all-NA entries is deprecated. In a future version, this will no longer exclude empty or all-NA columns when determining the result dtypes. To retain the old behavior, exclude the relevant entries before the concat operation.\n",
      "\n",
      "C:\\Users\\quirosgu\\AppData\\Local\\Temp\\ipykernel_10612\\1021957334.py:515: FutureWarning:\n",
      "\n",
      "The behavior of DataFrame concatenation with empty or all-NA entries is deprecated. In a future version, this will no longer exclude empty or all-NA columns when determining the result dtypes. To retain the old behavior, exclude the relevant entries before the concat operation.\n",
      "\n",
      "C:\\Users\\quirosgu\\AppData\\Local\\Temp\\ipykernel_10612\\1021957334.py:515: FutureWarning:\n",
      "\n",
      "The behavior of DataFrame concatenation with empty or all-NA entries is deprecated. In a future version, this will no longer exclude empty or all-NA columns when determining the result dtypes. To retain the old behavior, exclude the relevant entries before the concat operation.\n",
      "\n",
      "C:\\Users\\quirosgu\\AppData\\Local\\Temp\\ipykernel_10612\\1021957334.py:515: FutureWarning:\n",
      "\n",
      "The behavior of DataFrame concatenation with empty or all-NA entries is deprecated. In a future version, this will no longer exclude empty or all-NA columns when determining the result dtypes. To retain the old behavior, exclude the relevant entries before the concat operation.\n",
      "\n",
      "C:\\Users\\quirosgu\\AppData\\Local\\Temp\\ipykernel_10612\\1021957334.py:515: FutureWarning:\n",
      "\n",
      "The behavior of DataFrame concatenation with empty or all-NA entries is deprecated. In a future version, this will no longer exclude empty or all-NA columns when determining the result dtypes. To retain the old behavior, exclude the relevant entries before the concat operation.\n",
      "\n",
      "C:\\Users\\quirosgu\\AppData\\Local\\Temp\\ipykernel_10612\\1021957334.py:515: FutureWarning:\n",
      "\n",
      "The behavior of DataFrame concatenation with empty or all-NA entries is deprecated. In a future version, this will no longer exclude empty or all-NA columns when determining the result dtypes. To retain the old behavior, exclude the relevant entries before the concat operation.\n",
      "\n",
      "C:\\Users\\quirosgu\\AppData\\Local\\Temp\\ipykernel_10612\\1021957334.py:515: FutureWarning:\n",
      "\n",
      "The behavior of DataFrame concatenation with empty or all-NA entries is deprecated. In a future version, this will no longer exclude empty or all-NA columns when determining the result dtypes. To retain the old behavior, exclude the relevant entries before the concat operation.\n",
      "\n",
      "C:\\Users\\quirosgu\\AppData\\Local\\Temp\\ipykernel_10612\\1021957334.py:515: FutureWarning:\n",
      "\n",
      "The behavior of DataFrame concatenation with empty or all-NA entries is deprecated. In a future version, this will no longer exclude empty or all-NA columns when determining the result dtypes. To retain the old behavior, exclude the relevant entries before the concat operation.\n",
      "\n",
      "C:\\Users\\quirosgu\\AppData\\Local\\Temp\\ipykernel_10612\\1021957334.py:515: FutureWarning:\n",
      "\n",
      "The behavior of DataFrame concatenation with empty or all-NA entries is deprecated. In a future version, this will no longer exclude empty or all-NA columns when determining the result dtypes. To retain the old behavior, exclude the relevant entries before the concat operation.\n",
      "\n",
      "C:\\Users\\quirosgu\\AppData\\Local\\Temp\\ipykernel_10612\\1021957334.py:515: FutureWarning:\n",
      "\n",
      "The behavior of DataFrame concatenation with empty or all-NA entries is deprecated. In a future version, this will no longer exclude empty or all-NA columns when determining the result dtypes. To retain the old behavior, exclude the relevant entries before the concat operation.\n",
      "\n",
      "C:\\Users\\quirosgu\\AppData\\Local\\Temp\\ipykernel_10612\\1021957334.py:515: FutureWarning:\n",
      "\n",
      "The behavior of DataFrame concatenation with empty or all-NA entries is deprecated. In a future version, this will no longer exclude empty or all-NA columns when determining the result dtypes. To retain the old behavior, exclude the relevant entries before the concat operation.\n",
      "\n",
      "C:\\Users\\quirosgu\\AppData\\Local\\Temp\\ipykernel_10612\\1021957334.py:515: FutureWarning:\n",
      "\n",
      "The behavior of DataFrame concatenation with empty or all-NA entries is deprecated. In a future version, this will no longer exclude empty or all-NA columns when determining the result dtypes. To retain the old behavior, exclude the relevant entries before the concat operation.\n",
      "\n",
      "C:\\Users\\quirosgu\\AppData\\Local\\Temp\\ipykernel_10612\\1021957334.py:515: FutureWarning:\n",
      "\n",
      "The behavior of DataFrame concatenation with empty or all-NA entries is deprecated. In a future version, this will no longer exclude empty or all-NA columns when determining the result dtypes. To retain the old behavior, exclude the relevant entries before the concat operation.\n",
      "\n",
      "C:\\Users\\quirosgu\\AppData\\Local\\Temp\\ipykernel_10612\\1021957334.py:515: FutureWarning:\n",
      "\n",
      "The behavior of DataFrame concatenation with empty or all-NA entries is deprecated. In a future version, this will no longer exclude empty or all-NA columns when determining the result dtypes. To retain the old behavior, exclude the relevant entries before the concat operation.\n",
      "\n",
      "C:\\Users\\quirosgu\\AppData\\Local\\Temp\\ipykernel_10612\\1021957334.py:515: FutureWarning:\n",
      "\n",
      "The behavior of DataFrame concatenation with empty or all-NA entries is deprecated. In a future version, this will no longer exclude empty or all-NA columns when determining the result dtypes. To retain the old behavior, exclude the relevant entries before the concat operation.\n",
      "\n",
      "C:\\Users\\quirosgu\\AppData\\Local\\Temp\\ipykernel_10612\\1021957334.py:515: FutureWarning:\n",
      "\n",
      "The behavior of DataFrame concatenation with empty or all-NA entries is deprecated. In a future version, this will no longer exclude empty or all-NA columns when determining the result dtypes. To retain the old behavior, exclude the relevant entries before the concat operation.\n",
      "\n",
      "C:\\Users\\quirosgu\\AppData\\Local\\Temp\\ipykernel_10612\\1021957334.py:515: FutureWarning:\n",
      "\n",
      "The behavior of DataFrame concatenation with empty or all-NA entries is deprecated. In a future version, this will no longer exclude empty or all-NA columns when determining the result dtypes. To retain the old behavior, exclude the relevant entries before the concat operation.\n",
      "\n",
      "C:\\Users\\quirosgu\\AppData\\Local\\Temp\\ipykernel_10612\\1021957334.py:515: FutureWarning:\n",
      "\n",
      "The behavior of DataFrame concatenation with empty or all-NA entries is deprecated. In a future version, this will no longer exclude empty or all-NA columns when determining the result dtypes. To retain the old behavior, exclude the relevant entries before the concat operation.\n",
      "\n",
      "C:\\Users\\quirosgu\\AppData\\Local\\Temp\\ipykernel_10612\\1021957334.py:515: FutureWarning:\n",
      "\n",
      "The behavior of DataFrame concatenation with empty or all-NA entries is deprecated. In a future version, this will no longer exclude empty or all-NA columns when determining the result dtypes. To retain the old behavior, exclude the relevant entries before the concat operation.\n",
      "\n",
      "C:\\Users\\quirosgu\\AppData\\Local\\Temp\\ipykernel_10612\\1021957334.py:515: FutureWarning:\n",
      "\n",
      "The behavior of DataFrame concatenation with empty or all-NA entries is deprecated. In a future version, this will no longer exclude empty or all-NA columns when determining the result dtypes. To retain the old behavior, exclude the relevant entries before the concat operation.\n",
      "\n",
      "C:\\Users\\quirosgu\\AppData\\Local\\Temp\\ipykernel_10612\\1021957334.py:515: FutureWarning:\n",
      "\n",
      "The behavior of DataFrame concatenation with empty or all-NA entries is deprecated. In a future version, this will no longer exclude empty or all-NA columns when determining the result dtypes. To retain the old behavior, exclude the relevant entries before the concat operation.\n",
      "\n",
      "C:\\Users\\quirosgu\\AppData\\Local\\Temp\\ipykernel_10612\\1021957334.py:515: FutureWarning:\n",
      "\n",
      "The behavior of DataFrame concatenation with empty or all-NA entries is deprecated. In a future version, this will no longer exclude empty or all-NA columns when determining the result dtypes. To retain the old behavior, exclude the relevant entries before the concat operation.\n",
      "\n",
      "C:\\Users\\quirosgu\\AppData\\Local\\Temp\\ipykernel_10612\\1021957334.py:515: FutureWarning:\n",
      "\n",
      "The behavior of DataFrame concatenation with empty or all-NA entries is deprecated. In a future version, this will no longer exclude empty or all-NA columns when determining the result dtypes. To retain the old behavior, exclude the relevant entries before the concat operation.\n",
      "\n",
      "C:\\Users\\quirosgu\\AppData\\Local\\Temp\\ipykernel_10612\\1021957334.py:515: FutureWarning:\n",
      "\n",
      "The behavior of DataFrame concatenation with empty or all-NA entries is deprecated. In a future version, this will no longer exclude empty or all-NA columns when determining the result dtypes. To retain the old behavior, exclude the relevant entries before the concat operation.\n",
      "\n",
      "C:\\Users\\quirosgu\\AppData\\Local\\Temp\\ipykernel_10612\\1021957334.py:515: FutureWarning:\n",
      "\n",
      "The behavior of DataFrame concatenation with empty or all-NA entries is deprecated. In a future version, this will no longer exclude empty or all-NA columns when determining the result dtypes. To retain the old behavior, exclude the relevant entries before the concat operation.\n",
      "\n",
      "C:\\Users\\quirosgu\\AppData\\Local\\Temp\\ipykernel_10612\\1021957334.py:515: FutureWarning:\n",
      "\n",
      "The behavior of DataFrame concatenation with empty or all-NA entries is deprecated. In a future version, this will no longer exclude empty or all-NA columns when determining the result dtypes. To retain the old behavior, exclude the relevant entries before the concat operation.\n",
      "\n",
      "C:\\Users\\quirosgu\\AppData\\Local\\Temp\\ipykernel_10612\\1021957334.py:515: FutureWarning:\n",
      "\n",
      "The behavior of DataFrame concatenation with empty or all-NA entries is deprecated. In a future version, this will no longer exclude empty or all-NA columns when determining the result dtypes. To retain the old behavior, exclude the relevant entries before the concat operation.\n",
      "\n",
      "C:\\Users\\quirosgu\\AppData\\Local\\Temp\\ipykernel_10612\\1021957334.py:515: FutureWarning:\n",
      "\n",
      "The behavior of DataFrame concatenation with empty or all-NA entries is deprecated. In a future version, this will no longer exclude empty or all-NA columns when determining the result dtypes. To retain the old behavior, exclude the relevant entries before the concat operation.\n",
      "\n",
      "C:\\Users\\quirosgu\\AppData\\Local\\Temp\\ipykernel_10612\\1021957334.py:515: FutureWarning:\n",
      "\n",
      "The behavior of DataFrame concatenation with empty or all-NA entries is deprecated. In a future version, this will no longer exclude empty or all-NA columns when determining the result dtypes. To retain the old behavior, exclude the relevant entries before the concat operation.\n",
      "\n",
      "C:\\Users\\quirosgu\\AppData\\Local\\Temp\\ipykernel_10612\\1021957334.py:515: FutureWarning:\n",
      "\n",
      "The behavior of DataFrame concatenation with empty or all-NA entries is deprecated. In a future version, this will no longer exclude empty or all-NA columns when determining the result dtypes. To retain the old behavior, exclude the relevant entries before the concat operation.\n",
      "\n",
      "C:\\Users\\quirosgu\\AppData\\Local\\Temp\\ipykernel_10612\\1021957334.py:515: FutureWarning:\n",
      "\n",
      "The behavior of DataFrame concatenation with empty or all-NA entries is deprecated. In a future version, this will no longer exclude empty or all-NA columns when determining the result dtypes. To retain the old behavior, exclude the relevant entries before the concat operation.\n",
      "\n",
      "C:\\Users\\quirosgu\\AppData\\Local\\Temp\\ipykernel_10612\\1021957334.py:515: FutureWarning:\n",
      "\n",
      "The behavior of DataFrame concatenation with empty or all-NA entries is deprecated. In a future version, this will no longer exclude empty or all-NA columns when determining the result dtypes. To retain the old behavior, exclude the relevant entries before the concat operation.\n",
      "\n",
      "C:\\Users\\quirosgu\\AppData\\Local\\Temp\\ipykernel_10612\\1021957334.py:515: FutureWarning:\n",
      "\n",
      "The behavior of DataFrame concatenation with empty or all-NA entries is deprecated. In a future version, this will no longer exclude empty or all-NA columns when determining the result dtypes. To retain the old behavior, exclude the relevant entries before the concat operation.\n",
      "\n",
      "C:\\Users\\quirosgu\\AppData\\Local\\Temp\\ipykernel_10612\\1021957334.py:515: FutureWarning:\n",
      "\n",
      "The behavior of DataFrame concatenation with empty or all-NA entries is deprecated. In a future version, this will no longer exclude empty or all-NA columns when determining the result dtypes. To retain the old behavior, exclude the relevant entries before the concat operation.\n",
      "\n",
      "C:\\Users\\quirosgu\\AppData\\Local\\Temp\\ipykernel_10612\\1021957334.py:515: FutureWarning:\n",
      "\n",
      "The behavior of DataFrame concatenation with empty or all-NA entries is deprecated. In a future version, this will no longer exclude empty or all-NA columns when determining the result dtypes. To retain the old behavior, exclude the relevant entries before the concat operation.\n",
      "\n",
      "C:\\Users\\quirosgu\\AppData\\Local\\Temp\\ipykernel_10612\\1021957334.py:515: FutureWarning:\n",
      "\n",
      "The behavior of DataFrame concatenation with empty or all-NA entries is deprecated. In a future version, this will no longer exclude empty or all-NA columns when determining the result dtypes. To retain the old behavior, exclude the relevant entries before the concat operation.\n",
      "\n",
      "C:\\Users\\quirosgu\\AppData\\Local\\Temp\\ipykernel_10612\\1021957334.py:515: FutureWarning:\n",
      "\n",
      "The behavior of DataFrame concatenation with empty or all-NA entries is deprecated. In a future version, this will no longer exclude empty or all-NA columns when determining the result dtypes. To retain the old behavior, exclude the relevant entries before the concat operation.\n",
      "\n",
      "C:\\Users\\quirosgu\\AppData\\Local\\Temp\\ipykernel_10612\\1021957334.py:515: FutureWarning:\n",
      "\n",
      "The behavior of DataFrame concatenation with empty or all-NA entries is deprecated. In a future version, this will no longer exclude empty or all-NA columns when determining the result dtypes. To retain the old behavior, exclude the relevant entries before the concat operation.\n",
      "\n",
      "C:\\Users\\quirosgu\\AppData\\Local\\Temp\\ipykernel_10612\\1021957334.py:515: FutureWarning:\n",
      "\n",
      "The behavior of DataFrame concatenation with empty or all-NA entries is deprecated. In a future version, this will no longer exclude empty or all-NA columns when determining the result dtypes. To retain the old behavior, exclude the relevant entries before the concat operation.\n",
      "\n",
      "C:\\Users\\quirosgu\\AppData\\Local\\Temp\\ipykernel_10612\\1021957334.py:515: FutureWarning:\n",
      "\n",
      "The behavior of DataFrame concatenation with empty or all-NA entries is deprecated. In a future version, this will no longer exclude empty or all-NA columns when determining the result dtypes. To retain the old behavior, exclude the relevant entries before the concat operation.\n",
      "\n",
      "C:\\Users\\quirosgu\\AppData\\Local\\Temp\\ipykernel_10612\\1021957334.py:515: FutureWarning:\n",
      "\n",
      "The behavior of DataFrame concatenation with empty or all-NA entries is deprecated. In a future version, this will no longer exclude empty or all-NA columns when determining the result dtypes. To retain the old behavior, exclude the relevant entries before the concat operation.\n",
      "\n",
      "C:\\Users\\quirosgu\\AppData\\Local\\Temp\\ipykernel_10612\\1021957334.py:515: FutureWarning:\n",
      "\n",
      "The behavior of DataFrame concatenation with empty or all-NA entries is deprecated. In a future version, this will no longer exclude empty or all-NA columns when determining the result dtypes. To retain the old behavior, exclude the relevant entries before the concat operation.\n",
      "\n",
      "C:\\Users\\quirosgu\\AppData\\Local\\Temp\\ipykernel_10612\\1021957334.py:515: FutureWarning:\n",
      "\n",
      "The behavior of DataFrame concatenation with empty or all-NA entries is deprecated. In a future version, this will no longer exclude empty or all-NA columns when determining the result dtypes. To retain the old behavior, exclude the relevant entries before the concat operation.\n",
      "\n",
      "C:\\Users\\quirosgu\\AppData\\Local\\Temp\\ipykernel_10612\\1021957334.py:515: FutureWarning:\n",
      "\n",
      "The behavior of DataFrame concatenation with empty or all-NA entries is deprecated. In a future version, this will no longer exclude empty or all-NA columns when determining the result dtypes. To retain the old behavior, exclude the relevant entries before the concat operation.\n",
      "\n",
      "C:\\Users\\quirosgu\\AppData\\Local\\Temp\\ipykernel_10612\\1021957334.py:515: FutureWarning:\n",
      "\n",
      "The behavior of DataFrame concatenation with empty or all-NA entries is deprecated. In a future version, this will no longer exclude empty or all-NA columns when determining the result dtypes. To retain the old behavior, exclude the relevant entries before the concat operation.\n",
      "\n",
      "C:\\Users\\quirosgu\\AppData\\Local\\Temp\\ipykernel_10612\\1021957334.py:515: FutureWarning:\n",
      "\n",
      "The behavior of DataFrame concatenation with empty or all-NA entries is deprecated. In a future version, this will no longer exclude empty or all-NA columns when determining the result dtypes. To retain the old behavior, exclude the relevant entries before the concat operation.\n",
      "\n",
      "C:\\Users\\quirosgu\\AppData\\Local\\Temp\\ipykernel_10612\\1021957334.py:515: FutureWarning:\n",
      "\n",
      "The behavior of DataFrame concatenation with empty or all-NA entries is deprecated. In a future version, this will no longer exclude empty or all-NA columns when determining the result dtypes. To retain the old behavior, exclude the relevant entries before the concat operation.\n",
      "\n",
      "C:\\Users\\quirosgu\\AppData\\Local\\Temp\\ipykernel_10612\\1021957334.py:515: FutureWarning:\n",
      "\n",
      "The behavior of DataFrame concatenation with empty or all-NA entries is deprecated. In a future version, this will no longer exclude empty or all-NA columns when determining the result dtypes. To retain the old behavior, exclude the relevant entries before the concat operation.\n",
      "\n",
      "C:\\Users\\quirosgu\\AppData\\Local\\Temp\\ipykernel_10612\\1021957334.py:515: FutureWarning:\n",
      "\n",
      "The behavior of DataFrame concatenation with empty or all-NA entries is deprecated. In a future version, this will no longer exclude empty or all-NA columns when determining the result dtypes. To retain the old behavior, exclude the relevant entries before the concat operation.\n",
      "\n",
      "C:\\Users\\quirosgu\\AppData\\Local\\Temp\\ipykernel_10612\\1021957334.py:515: FutureWarning:\n",
      "\n",
      "The behavior of DataFrame concatenation with empty or all-NA entries is deprecated. In a future version, this will no longer exclude empty or all-NA columns when determining the result dtypes. To retain the old behavior, exclude the relevant entries before the concat operation.\n",
      "\n",
      "C:\\Users\\quirosgu\\AppData\\Local\\Temp\\ipykernel_10612\\1021957334.py:515: FutureWarning:\n",
      "\n",
      "The behavior of DataFrame concatenation with empty or all-NA entries is deprecated. In a future version, this will no longer exclude empty or all-NA columns when determining the result dtypes. To retain the old behavior, exclude the relevant entries before the concat operation.\n",
      "\n",
      "C:\\Users\\quirosgu\\AppData\\Local\\Temp\\ipykernel_10612\\1021957334.py:515: FutureWarning:\n",
      "\n",
      "The behavior of DataFrame concatenation with empty or all-NA entries is deprecated. In a future version, this will no longer exclude empty or all-NA columns when determining the result dtypes. To retain the old behavior, exclude the relevant entries before the concat operation.\n",
      "\n",
      "C:\\Users\\quirosgu\\AppData\\Local\\Temp\\ipykernel_10612\\1021957334.py:515: FutureWarning:\n",
      "\n",
      "The behavior of DataFrame concatenation with empty or all-NA entries is deprecated. In a future version, this will no longer exclude empty or all-NA columns when determining the result dtypes. To retain the old behavior, exclude the relevant entries before the concat operation.\n",
      "\n",
      "C:\\Users\\quirosgu\\AppData\\Local\\Temp\\ipykernel_10612\\1021957334.py:515: FutureWarning:\n",
      "\n",
      "The behavior of DataFrame concatenation with empty or all-NA entries is deprecated. In a future version, this will no longer exclude empty or all-NA columns when determining the result dtypes. To retain the old behavior, exclude the relevant entries before the concat operation.\n",
      "\n",
      "C:\\Users\\quirosgu\\AppData\\Local\\Temp\\ipykernel_10612\\1021957334.py:515: FutureWarning:\n",
      "\n",
      "The behavior of DataFrame concatenation with empty or all-NA entries is deprecated. In a future version, this will no longer exclude empty or all-NA columns when determining the result dtypes. To retain the old behavior, exclude the relevant entries before the concat operation.\n",
      "\n",
      "C:\\Users\\quirosgu\\AppData\\Local\\Temp\\ipykernel_10612\\1021957334.py:515: FutureWarning:\n",
      "\n",
      "The behavior of DataFrame concatenation with empty or all-NA entries is deprecated. In a future version, this will no longer exclude empty or all-NA columns when determining the result dtypes. To retain the old behavior, exclude the relevant entries before the concat operation.\n",
      "\n",
      "C:\\Users\\quirosgu\\AppData\\Local\\Temp\\ipykernel_10612\\1021957334.py:515: FutureWarning:\n",
      "\n",
      "The behavior of DataFrame concatenation with empty or all-NA entries is deprecated. In a future version, this will no longer exclude empty or all-NA columns when determining the result dtypes. To retain the old behavior, exclude the relevant entries before the concat operation.\n",
      "\n",
      "C:\\Users\\quirosgu\\AppData\\Local\\Temp\\ipykernel_10612\\1021957334.py:515: FutureWarning:\n",
      "\n",
      "The behavior of DataFrame concatenation with empty or all-NA entries is deprecated. In a future version, this will no longer exclude empty or all-NA columns when determining the result dtypes. To retain the old behavior, exclude the relevant entries before the concat operation.\n",
      "\n",
      "C:\\Users\\quirosgu\\AppData\\Local\\Temp\\ipykernel_10612\\1021957334.py:515: FutureWarning:\n",
      "\n",
      "The behavior of DataFrame concatenation with empty or all-NA entries is deprecated. In a future version, this will no longer exclude empty or all-NA columns when determining the result dtypes. To retain the old behavior, exclude the relevant entries before the concat operation.\n",
      "\n",
      "C:\\Users\\quirosgu\\AppData\\Local\\Temp\\ipykernel_10612\\1021957334.py:515: FutureWarning:\n",
      "\n",
      "The behavior of DataFrame concatenation with empty or all-NA entries is deprecated. In a future version, this will no longer exclude empty or all-NA columns when determining the result dtypes. To retain the old behavior, exclude the relevant entries before the concat operation.\n",
      "\n",
      "C:\\Users\\quirosgu\\AppData\\Local\\Temp\\ipykernel_10612\\1021957334.py:515: FutureWarning:\n",
      "\n",
      "The behavior of DataFrame concatenation with empty or all-NA entries is deprecated. In a future version, this will no longer exclude empty or all-NA columns when determining the result dtypes. To retain the old behavior, exclude the relevant entries before the concat operation.\n",
      "\n",
      "C:\\Users\\quirosgu\\AppData\\Local\\Temp\\ipykernel_10612\\1021957334.py:515: FutureWarning:\n",
      "\n",
      "The behavior of DataFrame concatenation with empty or all-NA entries is deprecated. In a future version, this will no longer exclude empty or all-NA columns when determining the result dtypes. To retain the old behavior, exclude the relevant entries before the concat operation.\n",
      "\n",
      "C:\\Users\\quirosgu\\AppData\\Local\\Temp\\ipykernel_10612\\1021957334.py:515: FutureWarning:\n",
      "\n",
      "The behavior of DataFrame concatenation with empty or all-NA entries is deprecated. In a future version, this will no longer exclude empty or all-NA columns when determining the result dtypes. To retain the old behavior, exclude the relevant entries before the concat operation.\n",
      "\n",
      "C:\\Users\\quirosgu\\AppData\\Local\\Temp\\ipykernel_10612\\1021957334.py:515: FutureWarning:\n",
      "\n",
      "The behavior of DataFrame concatenation with empty or all-NA entries is deprecated. In a future version, this will no longer exclude empty or all-NA columns when determining the result dtypes. To retain the old behavior, exclude the relevant entries before the concat operation.\n",
      "\n",
      "C:\\Users\\quirosgu\\AppData\\Local\\Temp\\ipykernel_10612\\1021957334.py:515: FutureWarning:\n",
      "\n",
      "The behavior of DataFrame concatenation with empty or all-NA entries is deprecated. In a future version, this will no longer exclude empty or all-NA columns when determining the result dtypes. To retain the old behavior, exclude the relevant entries before the concat operation.\n",
      "\n",
      "C:\\Users\\quirosgu\\AppData\\Local\\Temp\\ipykernel_10612\\1021957334.py:515: FutureWarning:\n",
      "\n",
      "The behavior of DataFrame concatenation with empty or all-NA entries is deprecated. In a future version, this will no longer exclude empty or all-NA columns when determining the result dtypes. To retain the old behavior, exclude the relevant entries before the concat operation.\n",
      "\n",
      "C:\\Users\\quirosgu\\AppData\\Local\\Temp\\ipykernel_10612\\1021957334.py:515: FutureWarning:\n",
      "\n",
      "The behavior of DataFrame concatenation with empty or all-NA entries is deprecated. In a future version, this will no longer exclude empty or all-NA columns when determining the result dtypes. To retain the old behavior, exclude the relevant entries before the concat operation.\n",
      "\n",
      "C:\\Users\\quirosgu\\AppData\\Local\\Temp\\ipykernel_10612\\1021957334.py:515: FutureWarning:\n",
      "\n",
      "The behavior of DataFrame concatenation with empty or all-NA entries is deprecated. In a future version, this will no longer exclude empty or all-NA columns when determining the result dtypes. To retain the old behavior, exclude the relevant entries before the concat operation.\n",
      "\n",
      "C:\\Users\\quirosgu\\AppData\\Local\\Temp\\ipykernel_10612\\1021957334.py:515: FutureWarning:\n",
      "\n",
      "The behavior of DataFrame concatenation with empty or all-NA entries is deprecated. In a future version, this will no longer exclude empty or all-NA columns when determining the result dtypes. To retain the old behavior, exclude the relevant entries before the concat operation.\n",
      "\n",
      "C:\\Users\\quirosgu\\AppData\\Local\\Temp\\ipykernel_10612\\1021957334.py:515: FutureWarning:\n",
      "\n",
      "The behavior of DataFrame concatenation with empty or all-NA entries is deprecated. In a future version, this will no longer exclude empty or all-NA columns when determining the result dtypes. To retain the old behavior, exclude the relevant entries before the concat operation.\n",
      "\n",
      "C:\\Users\\quirosgu\\AppData\\Local\\Temp\\ipykernel_10612\\1021957334.py:515: FutureWarning:\n",
      "\n",
      "The behavior of DataFrame concatenation with empty or all-NA entries is deprecated. In a future version, this will no longer exclude empty or all-NA columns when determining the result dtypes. To retain the old behavior, exclude the relevant entries before the concat operation.\n",
      "\n",
      "C:\\Users\\quirosgu\\AppData\\Local\\Temp\\ipykernel_10612\\1021957334.py:515: FutureWarning:\n",
      "\n",
      "The behavior of DataFrame concatenation with empty or all-NA entries is deprecated. In a future version, this will no longer exclude empty or all-NA columns when determining the result dtypes. To retain the old behavior, exclude the relevant entries before the concat operation.\n",
      "\n",
      "C:\\Users\\quirosgu\\AppData\\Local\\Temp\\ipykernel_10612\\1021957334.py:515: FutureWarning:\n",
      "\n",
      "The behavior of DataFrame concatenation with empty or all-NA entries is deprecated. In a future version, this will no longer exclude empty or all-NA columns when determining the result dtypes. To retain the old behavior, exclude the relevant entries before the concat operation.\n",
      "\n",
      "C:\\Users\\quirosgu\\AppData\\Local\\Temp\\ipykernel_10612\\1021957334.py:515: FutureWarning:\n",
      "\n",
      "The behavior of DataFrame concatenation with empty or all-NA entries is deprecated. In a future version, this will no longer exclude empty or all-NA columns when determining the result dtypes. To retain the old behavior, exclude the relevant entries before the concat operation.\n",
      "\n",
      "C:\\Users\\quirosgu\\AppData\\Local\\Temp\\ipykernel_10612\\1021957334.py:515: FutureWarning:\n",
      "\n",
      "The behavior of DataFrame concatenation with empty or all-NA entries is deprecated. In a future version, this will no longer exclude empty or all-NA columns when determining the result dtypes. To retain the old behavior, exclude the relevant entries before the concat operation.\n",
      "\n",
      "C:\\Users\\quirosgu\\AppData\\Local\\Temp\\ipykernel_10612\\1021957334.py:515: FutureWarning:\n",
      "\n",
      "The behavior of DataFrame concatenation with empty or all-NA entries is deprecated. In a future version, this will no longer exclude empty or all-NA columns when determining the result dtypes. To retain the old behavior, exclude the relevant entries before the concat operation.\n",
      "\n",
      "C:\\Users\\quirosgu\\AppData\\Local\\Temp\\ipykernel_10612\\1021957334.py:515: FutureWarning:\n",
      "\n",
      "The behavior of DataFrame concatenation with empty or all-NA entries is deprecated. In a future version, this will no longer exclude empty or all-NA columns when determining the result dtypes. To retain the old behavior, exclude the relevant entries before the concat operation.\n",
      "\n",
      "C:\\Users\\quirosgu\\AppData\\Local\\Temp\\ipykernel_10612\\1021957334.py:515: FutureWarning:\n",
      "\n",
      "The behavior of DataFrame concatenation with empty or all-NA entries is deprecated. In a future version, this will no longer exclude empty or all-NA columns when determining the result dtypes. To retain the old behavior, exclude the relevant entries before the concat operation.\n",
      "\n",
      "C:\\Users\\quirosgu\\AppData\\Local\\Temp\\ipykernel_10612\\1021957334.py:515: FutureWarning:\n",
      "\n",
      "The behavior of DataFrame concatenation with empty or all-NA entries is deprecated. In a future version, this will no longer exclude empty or all-NA columns when determining the result dtypes. To retain the old behavior, exclude the relevant entries before the concat operation.\n",
      "\n",
      "C:\\Users\\quirosgu\\AppData\\Local\\Temp\\ipykernel_10612\\1021957334.py:515: FutureWarning:\n",
      "\n",
      "The behavior of DataFrame concatenation with empty or all-NA entries is deprecated. In a future version, this will no longer exclude empty or all-NA columns when determining the result dtypes. To retain the old behavior, exclude the relevant entries before the concat operation.\n",
      "\n",
      "C:\\Users\\quirosgu\\AppData\\Local\\Temp\\ipykernel_10612\\1021957334.py:515: FutureWarning:\n",
      "\n",
      "The behavior of DataFrame concatenation with empty or all-NA entries is deprecated. In a future version, this will no longer exclude empty or all-NA columns when determining the result dtypes. To retain the old behavior, exclude the relevant entries before the concat operation.\n",
      "\n",
      "C:\\Users\\quirosgu\\AppData\\Local\\Temp\\ipykernel_10612\\1021957334.py:515: FutureWarning:\n",
      "\n",
      "The behavior of DataFrame concatenation with empty or all-NA entries is deprecated. In a future version, this will no longer exclude empty or all-NA columns when determining the result dtypes. To retain the old behavior, exclude the relevant entries before the concat operation.\n",
      "\n",
      "C:\\Users\\quirosgu\\AppData\\Local\\Temp\\ipykernel_10612\\1021957334.py:515: FutureWarning:\n",
      "\n",
      "The behavior of DataFrame concatenation with empty or all-NA entries is deprecated. In a future version, this will no longer exclude empty or all-NA columns when determining the result dtypes. To retain the old behavior, exclude the relevant entries before the concat operation.\n",
      "\n",
      "C:\\Users\\quirosgu\\AppData\\Local\\Temp\\ipykernel_10612\\1021957334.py:515: FutureWarning:\n",
      "\n",
      "The behavior of DataFrame concatenation with empty or all-NA entries is deprecated. In a future version, this will no longer exclude empty or all-NA columns when determining the result dtypes. To retain the old behavior, exclude the relevant entries before the concat operation.\n",
      "\n",
      "C:\\Users\\quirosgu\\AppData\\Local\\Temp\\ipykernel_10612\\1021957334.py:515: FutureWarning:\n",
      "\n",
      "The behavior of DataFrame concatenation with empty or all-NA entries is deprecated. In a future version, this will no longer exclude empty or all-NA columns when determining the result dtypes. To retain the old behavior, exclude the relevant entries before the concat operation.\n",
      "\n",
      "C:\\Users\\quirosgu\\AppData\\Local\\Temp\\ipykernel_10612\\1021957334.py:515: FutureWarning:\n",
      "\n",
      "The behavior of DataFrame concatenation with empty or all-NA entries is deprecated. In a future version, this will no longer exclude empty or all-NA columns when determining the result dtypes. To retain the old behavior, exclude the relevant entries before the concat operation.\n",
      "\n",
      "C:\\Users\\quirosgu\\AppData\\Local\\Temp\\ipykernel_10612\\1021957334.py:515: FutureWarning:\n",
      "\n",
      "The behavior of DataFrame concatenation with empty or all-NA entries is deprecated. In a future version, this will no longer exclude empty or all-NA columns when determining the result dtypes. To retain the old behavior, exclude the relevant entries before the concat operation.\n",
      "\n",
      "C:\\Users\\quirosgu\\AppData\\Local\\Temp\\ipykernel_10612\\1021957334.py:515: FutureWarning:\n",
      "\n",
      "The behavior of DataFrame concatenation with empty or all-NA entries is deprecated. In a future version, this will no longer exclude empty or all-NA columns when determining the result dtypes. To retain the old behavior, exclude the relevant entries before the concat operation.\n",
      "\n",
      "C:\\Users\\quirosgu\\AppData\\Local\\Temp\\ipykernel_10612\\1021957334.py:515: FutureWarning:\n",
      "\n",
      "The behavior of DataFrame concatenation with empty or all-NA entries is deprecated. In a future version, this will no longer exclude empty or all-NA columns when determining the result dtypes. To retain the old behavior, exclude the relevant entries before the concat operation.\n",
      "\n",
      "C:\\Users\\quirosgu\\AppData\\Local\\Temp\\ipykernel_10612\\1021957334.py:515: FutureWarning:\n",
      "\n",
      "The behavior of DataFrame concatenation with empty or all-NA entries is deprecated. In a future version, this will no longer exclude empty or all-NA columns when determining the result dtypes. To retain the old behavior, exclude the relevant entries before the concat operation.\n",
      "\n",
      "C:\\Users\\quirosgu\\AppData\\Local\\Temp\\ipykernel_10612\\1021957334.py:515: FutureWarning:\n",
      "\n",
      "The behavior of DataFrame concatenation with empty or all-NA entries is deprecated. In a future version, this will no longer exclude empty or all-NA columns when determining the result dtypes. To retain the old behavior, exclude the relevant entries before the concat operation.\n",
      "\n",
      "C:\\Users\\quirosgu\\AppData\\Local\\Temp\\ipykernel_10612\\1021957334.py:515: FutureWarning:\n",
      "\n",
      "The behavior of DataFrame concatenation with empty or all-NA entries is deprecated. In a future version, this will no longer exclude empty or all-NA columns when determining the result dtypes. To retain the old behavior, exclude the relevant entries before the concat operation.\n",
      "\n",
      "C:\\Users\\quirosgu\\AppData\\Local\\Temp\\ipykernel_10612\\1021957334.py:515: FutureWarning:\n",
      "\n",
      "The behavior of DataFrame concatenation with empty or all-NA entries is deprecated. In a future version, this will no longer exclude empty or all-NA columns when determining the result dtypes. To retain the old behavior, exclude the relevant entries before the concat operation.\n",
      "\n",
      "C:\\Users\\quirosgu\\AppData\\Local\\Temp\\ipykernel_10612\\1021957334.py:515: FutureWarning:\n",
      "\n",
      "The behavior of DataFrame concatenation with empty or all-NA entries is deprecated. In a future version, this will no longer exclude empty or all-NA columns when determining the result dtypes. To retain the old behavior, exclude the relevant entries before the concat operation.\n",
      "\n",
      "C:\\Users\\quirosgu\\AppData\\Local\\Temp\\ipykernel_10612\\1021957334.py:515: FutureWarning:\n",
      "\n",
      "The behavior of DataFrame concatenation with empty or all-NA entries is deprecated. In a future version, this will no longer exclude empty or all-NA columns when determining the result dtypes. To retain the old behavior, exclude the relevant entries before the concat operation.\n",
      "\n",
      "C:\\Users\\quirosgu\\AppData\\Local\\Temp\\ipykernel_10612\\1021957334.py:515: FutureWarning:\n",
      "\n",
      "The behavior of DataFrame concatenation with empty or all-NA entries is deprecated. In a future version, this will no longer exclude empty or all-NA columns when determining the result dtypes. To retain the old behavior, exclude the relevant entries before the concat operation.\n",
      "\n",
      "C:\\Users\\quirosgu\\AppData\\Local\\Temp\\ipykernel_10612\\1021957334.py:515: FutureWarning:\n",
      "\n",
      "The behavior of DataFrame concatenation with empty or all-NA entries is deprecated. In a future version, this will no longer exclude empty or all-NA columns when determining the result dtypes. To retain the old behavior, exclude the relevant entries before the concat operation.\n",
      "\n",
      "C:\\Users\\quirosgu\\AppData\\Local\\Temp\\ipykernel_10612\\1021957334.py:515: FutureWarning:\n",
      "\n",
      "The behavior of DataFrame concatenation with empty or all-NA entries is deprecated. In a future version, this will no longer exclude empty or all-NA columns when determining the result dtypes. To retain the old behavior, exclude the relevant entries before the concat operation.\n",
      "\n",
      "C:\\Users\\quirosgu\\AppData\\Local\\Temp\\ipykernel_10612\\1021957334.py:515: FutureWarning:\n",
      "\n",
      "The behavior of DataFrame concatenation with empty or all-NA entries is deprecated. In a future version, this will no longer exclude empty or all-NA columns when determining the result dtypes. To retain the old behavior, exclude the relevant entries before the concat operation.\n",
      "\n",
      "C:\\Users\\quirosgu\\AppData\\Local\\Temp\\ipykernel_10612\\1021957334.py:515: FutureWarning:\n",
      "\n",
      "The behavior of DataFrame concatenation with empty or all-NA entries is deprecated. In a future version, this will no longer exclude empty or all-NA columns when determining the result dtypes. To retain the old behavior, exclude the relevant entries before the concat operation.\n",
      "\n",
      "C:\\Users\\quirosgu\\AppData\\Local\\Temp\\ipykernel_10612\\1021957334.py:515: FutureWarning:\n",
      "\n",
      "The behavior of DataFrame concatenation with empty or all-NA entries is deprecated. In a future version, this will no longer exclude empty or all-NA columns when determining the result dtypes. To retain the old behavior, exclude the relevant entries before the concat operation.\n",
      "\n",
      "C:\\Users\\quirosgu\\AppData\\Local\\Temp\\ipykernel_10612\\1021957334.py:515: FutureWarning:\n",
      "\n",
      "The behavior of DataFrame concatenation with empty or all-NA entries is deprecated. In a future version, this will no longer exclude empty or all-NA columns when determining the result dtypes. To retain the old behavior, exclude the relevant entries before the concat operation.\n",
      "\n",
      "C:\\Users\\quirosgu\\AppData\\Local\\Temp\\ipykernel_10612\\1021957334.py:515: FutureWarning:\n",
      "\n",
      "The behavior of DataFrame concatenation with empty or all-NA entries is deprecated. In a future version, this will no longer exclude empty or all-NA columns when determining the result dtypes. To retain the old behavior, exclude the relevant entries before the concat operation.\n",
      "\n",
      "C:\\Users\\quirosgu\\AppData\\Local\\Temp\\ipykernel_10612\\1021957334.py:515: FutureWarning:\n",
      "\n",
      "The behavior of DataFrame concatenation with empty or all-NA entries is deprecated. In a future version, this will no longer exclude empty or all-NA columns when determining the result dtypes. To retain the old behavior, exclude the relevant entries before the concat operation.\n",
      "\n",
      "C:\\Users\\quirosgu\\AppData\\Local\\Temp\\ipykernel_10612\\1021957334.py:515: FutureWarning:\n",
      "\n",
      "The behavior of DataFrame concatenation with empty or all-NA entries is deprecated. In a future version, this will no longer exclude empty or all-NA columns when determining the result dtypes. To retain the old behavior, exclude the relevant entries before the concat operation.\n",
      "\n",
      "C:\\Users\\quirosgu\\AppData\\Local\\Temp\\ipykernel_10612\\1021957334.py:515: FutureWarning:\n",
      "\n",
      "The behavior of DataFrame concatenation with empty or all-NA entries is deprecated. In a future version, this will no longer exclude empty or all-NA columns when determining the result dtypes. To retain the old behavior, exclude the relevant entries before the concat operation.\n",
      "\n",
      "C:\\Users\\quirosgu\\AppData\\Local\\Temp\\ipykernel_10612\\1021957334.py:515: FutureWarning:\n",
      "\n",
      "The behavior of DataFrame concatenation with empty or all-NA entries is deprecated. In a future version, this will no longer exclude empty or all-NA columns when determining the result dtypes. To retain the old behavior, exclude the relevant entries before the concat operation.\n",
      "\n",
      "C:\\Users\\quirosgu\\AppData\\Local\\Temp\\ipykernel_10612\\1021957334.py:515: FutureWarning:\n",
      "\n",
      "The behavior of DataFrame concatenation with empty or all-NA entries is deprecated. In a future version, this will no longer exclude empty or all-NA columns when determining the result dtypes. To retain the old behavior, exclude the relevant entries before the concat operation.\n",
      "\n",
      "C:\\Users\\quirosgu\\AppData\\Local\\Temp\\ipykernel_10612\\1021957334.py:515: FutureWarning:\n",
      "\n",
      "The behavior of DataFrame concatenation with empty or all-NA entries is deprecated. In a future version, this will no longer exclude empty or all-NA columns when determining the result dtypes. To retain the old behavior, exclude the relevant entries before the concat operation.\n",
      "\n",
      "C:\\Users\\quirosgu\\AppData\\Local\\Temp\\ipykernel_10612\\1021957334.py:515: FutureWarning:\n",
      "\n",
      "The behavior of DataFrame concatenation with empty or all-NA entries is deprecated. In a future version, this will no longer exclude empty or all-NA columns when determining the result dtypes. To retain the old behavior, exclude the relevant entries before the concat operation.\n",
      "\n",
      "C:\\Users\\quirosgu\\AppData\\Local\\Temp\\ipykernel_10612\\1021957334.py:515: FutureWarning:\n",
      "\n",
      "The behavior of DataFrame concatenation with empty or all-NA entries is deprecated. In a future version, this will no longer exclude empty or all-NA columns when determining the result dtypes. To retain the old behavior, exclude the relevant entries before the concat operation.\n",
      "\n",
      "C:\\Users\\quirosgu\\AppData\\Local\\Temp\\ipykernel_10612\\1021957334.py:515: FutureWarning:\n",
      "\n",
      "The behavior of DataFrame concatenation with empty or all-NA entries is deprecated. In a future version, this will no longer exclude empty or all-NA columns when determining the result dtypes. To retain the old behavior, exclude the relevant entries before the concat operation.\n",
      "\n",
      "C:\\Users\\quirosgu\\AppData\\Local\\Temp\\ipykernel_10612\\1021957334.py:515: FutureWarning:\n",
      "\n",
      "The behavior of DataFrame concatenation with empty or all-NA entries is deprecated. In a future version, this will no longer exclude empty or all-NA columns when determining the result dtypes. To retain the old behavior, exclude the relevant entries before the concat operation.\n",
      "\n",
      "C:\\Users\\quirosgu\\AppData\\Local\\Temp\\ipykernel_10612\\1021957334.py:515: FutureWarning:\n",
      "\n",
      "The behavior of DataFrame concatenation with empty or all-NA entries is deprecated. In a future version, this will no longer exclude empty or all-NA columns when determining the result dtypes. To retain the old behavior, exclude the relevant entries before the concat operation.\n",
      "\n",
      "C:\\Users\\quirosgu\\AppData\\Local\\Temp\\ipykernel_10612\\1021957334.py:515: FutureWarning:\n",
      "\n",
      "The behavior of DataFrame concatenation with empty or all-NA entries is deprecated. In a future version, this will no longer exclude empty or all-NA columns when determining the result dtypes. To retain the old behavior, exclude the relevant entries before the concat operation.\n",
      "\n",
      "C:\\Users\\quirosgu\\AppData\\Local\\Temp\\ipykernel_10612\\1021957334.py:515: FutureWarning:\n",
      "\n",
      "The behavior of DataFrame concatenation with empty or all-NA entries is deprecated. In a future version, this will no longer exclude empty or all-NA columns when determining the result dtypes. To retain the old behavior, exclude the relevant entries before the concat operation.\n",
      "\n",
      "C:\\Users\\quirosgu\\AppData\\Local\\Temp\\ipykernel_10612\\1021957334.py:515: FutureWarning:\n",
      "\n",
      "The behavior of DataFrame concatenation with empty or all-NA entries is deprecated. In a future version, this will no longer exclude empty or all-NA columns when determining the result dtypes. To retain the old behavior, exclude the relevant entries before the concat operation.\n",
      "\n",
      "C:\\Users\\quirosgu\\AppData\\Local\\Temp\\ipykernel_10612\\1021957334.py:515: FutureWarning:\n",
      "\n",
      "The behavior of DataFrame concatenation with empty or all-NA entries is deprecated. In a future version, this will no longer exclude empty or all-NA columns when determining the result dtypes. To retain the old behavior, exclude the relevant entries before the concat operation.\n",
      "\n",
      "C:\\Users\\quirosgu\\AppData\\Local\\Temp\\ipykernel_10612\\1021957334.py:515: FutureWarning:\n",
      "\n",
      "The behavior of DataFrame concatenation with empty or all-NA entries is deprecated. In a future version, this will no longer exclude empty or all-NA columns when determining the result dtypes. To retain the old behavior, exclude the relevant entries before the concat operation.\n",
      "\n",
      "C:\\Users\\quirosgu\\AppData\\Local\\Temp\\ipykernel_10612\\1021957334.py:515: FutureWarning:\n",
      "\n",
      "The behavior of DataFrame concatenation with empty or all-NA entries is deprecated. In a future version, this will no longer exclude empty or all-NA columns when determining the result dtypes. To retain the old behavior, exclude the relevant entries before the concat operation.\n",
      "\n",
      "C:\\Users\\quirosgu\\AppData\\Local\\Temp\\ipykernel_10612\\1021957334.py:515: FutureWarning:\n",
      "\n",
      "The behavior of DataFrame concatenation with empty or all-NA entries is deprecated. In a future version, this will no longer exclude empty or all-NA columns when determining the result dtypes. To retain the old behavior, exclude the relevant entries before the concat operation.\n",
      "\n",
      "C:\\Users\\quirosgu\\AppData\\Local\\Temp\\ipykernel_10612\\1021957334.py:515: FutureWarning:\n",
      "\n",
      "The behavior of DataFrame concatenation with empty or all-NA entries is deprecated. In a future version, this will no longer exclude empty or all-NA columns when determining the result dtypes. To retain the old behavior, exclude the relevant entries before the concat operation.\n",
      "\n",
      "C:\\Users\\quirosgu\\AppData\\Local\\Temp\\ipykernel_10612\\1021957334.py:515: FutureWarning:\n",
      "\n",
      "The behavior of DataFrame concatenation with empty or all-NA entries is deprecated. In a future version, this will no longer exclude empty or all-NA columns when determining the result dtypes. To retain the old behavior, exclude the relevant entries before the concat operation.\n",
      "\n",
      "C:\\Users\\quirosgu\\AppData\\Local\\Temp\\ipykernel_10612\\1021957334.py:515: FutureWarning:\n",
      "\n",
      "The behavior of DataFrame concatenation with empty or all-NA entries is deprecated. In a future version, this will no longer exclude empty or all-NA columns when determining the result dtypes. To retain the old behavior, exclude the relevant entries before the concat operation.\n",
      "\n",
      "C:\\Users\\quirosgu\\AppData\\Local\\Temp\\ipykernel_10612\\1021957334.py:515: FutureWarning:\n",
      "\n",
      "The behavior of DataFrame concatenation with empty or all-NA entries is deprecated. In a future version, this will no longer exclude empty or all-NA columns when determining the result dtypes. To retain the old behavior, exclude the relevant entries before the concat operation.\n",
      "\n",
      "C:\\Users\\quirosgu\\AppData\\Local\\Temp\\ipykernel_10612\\1021957334.py:515: FutureWarning:\n",
      "\n",
      "The behavior of DataFrame concatenation with empty or all-NA entries is deprecated. In a future version, this will no longer exclude empty or all-NA columns when determining the result dtypes. To retain the old behavior, exclude the relevant entries before the concat operation.\n",
      "\n",
      "C:\\Users\\quirosgu\\AppData\\Local\\Temp\\ipykernel_10612\\1021957334.py:515: FutureWarning:\n",
      "\n",
      "The behavior of DataFrame concatenation with empty or all-NA entries is deprecated. In a future version, this will no longer exclude empty or all-NA columns when determining the result dtypes. To retain the old behavior, exclude the relevant entries before the concat operation.\n",
      "\n",
      "C:\\Users\\quirosgu\\AppData\\Local\\Temp\\ipykernel_10612\\1021957334.py:515: FutureWarning:\n",
      "\n",
      "The behavior of DataFrame concatenation with empty or all-NA entries is deprecated. In a future version, this will no longer exclude empty or all-NA columns when determining the result dtypes. To retain the old behavior, exclude the relevant entries before the concat operation.\n",
      "\n",
      "C:\\Users\\quirosgu\\AppData\\Local\\Temp\\ipykernel_10612\\1021957334.py:515: FutureWarning:\n",
      "\n",
      "The behavior of DataFrame concatenation with empty or all-NA entries is deprecated. In a future version, this will no longer exclude empty or all-NA columns when determining the result dtypes. To retain the old behavior, exclude the relevant entries before the concat operation.\n",
      "\n",
      "C:\\Users\\quirosgu\\AppData\\Local\\Temp\\ipykernel_10612\\1021957334.py:515: FutureWarning:\n",
      "\n",
      "The behavior of DataFrame concatenation with empty or all-NA entries is deprecated. In a future version, this will no longer exclude empty or all-NA columns when determining the result dtypes. To retain the old behavior, exclude the relevant entries before the concat operation.\n",
      "\n",
      "C:\\Users\\quirosgu\\AppData\\Local\\Temp\\ipykernel_10612\\1021957334.py:515: FutureWarning:\n",
      "\n",
      "The behavior of DataFrame concatenation with empty or all-NA entries is deprecated. In a future version, this will no longer exclude empty or all-NA columns when determining the result dtypes. To retain the old behavior, exclude the relevant entries before the concat operation.\n",
      "\n",
      "C:\\Users\\quirosgu\\AppData\\Local\\Temp\\ipykernel_10612\\1021957334.py:515: FutureWarning:\n",
      "\n",
      "The behavior of DataFrame concatenation with empty or all-NA entries is deprecated. In a future version, this will no longer exclude empty or all-NA columns when determining the result dtypes. To retain the old behavior, exclude the relevant entries before the concat operation.\n",
      "\n",
      "C:\\Users\\quirosgu\\AppData\\Local\\Temp\\ipykernel_10612\\1021957334.py:515: FutureWarning:\n",
      "\n",
      "The behavior of DataFrame concatenation with empty or all-NA entries is deprecated. In a future version, this will no longer exclude empty or all-NA columns when determining the result dtypes. To retain the old behavior, exclude the relevant entries before the concat operation.\n",
      "\n",
      "C:\\Users\\quirosgu\\AppData\\Local\\Temp\\ipykernel_10612\\1021957334.py:515: FutureWarning:\n",
      "\n",
      "The behavior of DataFrame concatenation with empty or all-NA entries is deprecated. In a future version, this will no longer exclude empty or all-NA columns when determining the result dtypes. To retain the old behavior, exclude the relevant entries before the concat operation.\n",
      "\n",
      "C:\\Users\\quirosgu\\AppData\\Local\\Temp\\ipykernel_10612\\1021957334.py:515: FutureWarning:\n",
      "\n",
      "The behavior of DataFrame concatenation with empty or all-NA entries is deprecated. In a future version, this will no longer exclude empty or all-NA columns when determining the result dtypes. To retain the old behavior, exclude the relevant entries before the concat operation.\n",
      "\n",
      "C:\\Users\\quirosgu\\AppData\\Local\\Temp\\ipykernel_10612\\1021957334.py:515: FutureWarning:\n",
      "\n",
      "The behavior of DataFrame concatenation with empty or all-NA entries is deprecated. In a future version, this will no longer exclude empty or all-NA columns when determining the result dtypes. To retain the old behavior, exclude the relevant entries before the concat operation.\n",
      "\n",
      "C:\\Users\\quirosgu\\AppData\\Local\\Temp\\ipykernel_10612\\1021957334.py:515: FutureWarning:\n",
      "\n",
      "The behavior of DataFrame concatenation with empty or all-NA entries is deprecated. In a future version, this will no longer exclude empty or all-NA columns when determining the result dtypes. To retain the old behavior, exclude the relevant entries before the concat operation.\n",
      "\n",
      "C:\\Users\\quirosgu\\AppData\\Local\\Temp\\ipykernel_10612\\1021957334.py:515: FutureWarning:\n",
      "\n",
      "The behavior of DataFrame concatenation with empty or all-NA entries is deprecated. In a future version, this will no longer exclude empty or all-NA columns when determining the result dtypes. To retain the old behavior, exclude the relevant entries before the concat operation.\n",
      "\n",
      "C:\\Users\\quirosgu\\AppData\\Local\\Temp\\ipykernel_10612\\1021957334.py:515: FutureWarning:\n",
      "\n",
      "The behavior of DataFrame concatenation with empty or all-NA entries is deprecated. In a future version, this will no longer exclude empty or all-NA columns when determining the result dtypes. To retain the old behavior, exclude the relevant entries before the concat operation.\n",
      "\n",
      "C:\\Users\\quirosgu\\AppData\\Local\\Temp\\ipykernel_10612\\1021957334.py:515: FutureWarning:\n",
      "\n",
      "The behavior of DataFrame concatenation with empty or all-NA entries is deprecated. In a future version, this will no longer exclude empty or all-NA columns when determining the result dtypes. To retain the old behavior, exclude the relevant entries before the concat operation.\n",
      "\n",
      "C:\\Users\\quirosgu\\AppData\\Local\\Temp\\ipykernel_10612\\1021957334.py:515: FutureWarning:\n",
      "\n",
      "The behavior of DataFrame concatenation with empty or all-NA entries is deprecated. In a future version, this will no longer exclude empty or all-NA columns when determining the result dtypes. To retain the old behavior, exclude the relevant entries before the concat operation.\n",
      "\n",
      "C:\\Users\\quirosgu\\AppData\\Local\\Temp\\ipykernel_10612\\1021957334.py:515: FutureWarning:\n",
      "\n",
      "The behavior of DataFrame concatenation with empty or all-NA entries is deprecated. In a future version, this will no longer exclude empty or all-NA columns when determining the result dtypes. To retain the old behavior, exclude the relevant entries before the concat operation.\n",
      "\n",
      "C:\\Users\\quirosgu\\AppData\\Local\\Temp\\ipykernel_10612\\1021957334.py:515: FutureWarning:\n",
      "\n",
      "The behavior of DataFrame concatenation with empty or all-NA entries is deprecated. In a future version, this will no longer exclude empty or all-NA columns when determining the result dtypes. To retain the old behavior, exclude the relevant entries before the concat operation.\n",
      "\n",
      "C:\\Users\\quirosgu\\AppData\\Local\\Temp\\ipykernel_10612\\1021957334.py:515: FutureWarning:\n",
      "\n",
      "The behavior of DataFrame concatenation with empty or all-NA entries is deprecated. In a future version, this will no longer exclude empty or all-NA columns when determining the result dtypes. To retain the old behavior, exclude the relevant entries before the concat operation.\n",
      "\n",
      "C:\\Users\\quirosgu\\AppData\\Local\\Temp\\ipykernel_10612\\1021957334.py:515: FutureWarning:\n",
      "\n",
      "The behavior of DataFrame concatenation with empty or all-NA entries is deprecated. In a future version, this will no longer exclude empty or all-NA columns when determining the result dtypes. To retain the old behavior, exclude the relevant entries before the concat operation.\n",
      "\n",
      "C:\\Users\\quirosgu\\AppData\\Local\\Temp\\ipykernel_10612\\1021957334.py:515: FutureWarning:\n",
      "\n",
      "The behavior of DataFrame concatenation with empty or all-NA entries is deprecated. In a future version, this will no longer exclude empty or all-NA columns when determining the result dtypes. To retain the old behavior, exclude the relevant entries before the concat operation.\n",
      "\n",
      "C:\\Users\\quirosgu\\AppData\\Local\\Temp\\ipykernel_10612\\1021957334.py:515: FutureWarning:\n",
      "\n",
      "The behavior of DataFrame concatenation with empty or all-NA entries is deprecated. In a future version, this will no longer exclude empty or all-NA columns when determining the result dtypes. To retain the old behavior, exclude the relevant entries before the concat operation.\n",
      "\n",
      "C:\\Users\\quirosgu\\AppData\\Local\\Temp\\ipykernel_10612\\1021957334.py:515: FutureWarning:\n",
      "\n",
      "The behavior of DataFrame concatenation with empty or all-NA entries is deprecated. In a future version, this will no longer exclude empty or all-NA columns when determining the result dtypes. To retain the old behavior, exclude the relevant entries before the concat operation.\n",
      "\n",
      "C:\\Users\\quirosgu\\AppData\\Local\\Temp\\ipykernel_10612\\1021957334.py:515: FutureWarning:\n",
      "\n",
      "The behavior of DataFrame concatenation with empty or all-NA entries is deprecated. In a future version, this will no longer exclude empty or all-NA columns when determining the result dtypes. To retain the old behavior, exclude the relevant entries before the concat operation.\n",
      "\n",
      "C:\\Users\\quirosgu\\AppData\\Local\\Temp\\ipykernel_10612\\1021957334.py:515: FutureWarning:\n",
      "\n",
      "The behavior of DataFrame concatenation with empty or all-NA entries is deprecated. In a future version, this will no longer exclude empty or all-NA columns when determining the result dtypes. To retain the old behavior, exclude the relevant entries before the concat operation.\n",
      "\n",
      "C:\\Users\\quirosgu\\AppData\\Local\\Temp\\ipykernel_10612\\1021957334.py:515: FutureWarning:\n",
      "\n",
      "The behavior of DataFrame concatenation with empty or all-NA entries is deprecated. In a future version, this will no longer exclude empty or all-NA columns when determining the result dtypes. To retain the old behavior, exclude the relevant entries before the concat operation.\n",
      "\n",
      "C:\\Users\\quirosgu\\AppData\\Local\\Temp\\ipykernel_10612\\1021957334.py:515: FutureWarning:\n",
      "\n",
      "The behavior of DataFrame concatenation with empty or all-NA entries is deprecated. In a future version, this will no longer exclude empty or all-NA columns when determining the result dtypes. To retain the old behavior, exclude the relevant entries before the concat operation.\n",
      "\n",
      "C:\\Users\\quirosgu\\AppData\\Local\\Temp\\ipykernel_10612\\1021957334.py:515: FutureWarning:\n",
      "\n",
      "The behavior of DataFrame concatenation with empty or all-NA entries is deprecated. In a future version, this will no longer exclude empty or all-NA columns when determining the result dtypes. To retain the old behavior, exclude the relevant entries before the concat operation.\n",
      "\n",
      "C:\\Users\\quirosgu\\AppData\\Local\\Temp\\ipykernel_10612\\1021957334.py:515: FutureWarning:\n",
      "\n",
      "The behavior of DataFrame concatenation with empty or all-NA entries is deprecated. In a future version, this will no longer exclude empty or all-NA columns when determining the result dtypes. To retain the old behavior, exclude the relevant entries before the concat operation.\n",
      "\n",
      "C:\\Users\\quirosgu\\AppData\\Local\\Temp\\ipykernel_10612\\1021957334.py:515: FutureWarning:\n",
      "\n",
      "The behavior of DataFrame concatenation with empty or all-NA entries is deprecated. In a future version, this will no longer exclude empty or all-NA columns when determining the result dtypes. To retain the old behavior, exclude the relevant entries before the concat operation.\n",
      "\n",
      "C:\\Users\\quirosgu\\AppData\\Local\\Temp\\ipykernel_10612\\1021957334.py:515: FutureWarning:\n",
      "\n",
      "The behavior of DataFrame concatenation with empty or all-NA entries is deprecated. In a future version, this will no longer exclude empty or all-NA columns when determining the result dtypes. To retain the old behavior, exclude the relevant entries before the concat operation.\n",
      "\n",
      "C:\\Users\\quirosgu\\AppData\\Local\\Temp\\ipykernel_10612\\1021957334.py:515: FutureWarning:\n",
      "\n",
      "The behavior of DataFrame concatenation with empty or all-NA entries is deprecated. In a future version, this will no longer exclude empty or all-NA columns when determining the result dtypes. To retain the old behavior, exclude the relevant entries before the concat operation.\n",
      "\n",
      "C:\\Users\\quirosgu\\AppData\\Local\\Temp\\ipykernel_10612\\1021957334.py:515: FutureWarning:\n",
      "\n",
      "The behavior of DataFrame concatenation with empty or all-NA entries is deprecated. In a future version, this will no longer exclude empty or all-NA columns when determining the result dtypes. To retain the old behavior, exclude the relevant entries before the concat operation.\n",
      "\n",
      "C:\\Users\\quirosgu\\AppData\\Local\\Temp\\ipykernel_10612\\1021957334.py:515: FutureWarning:\n",
      "\n",
      "The behavior of DataFrame concatenation with empty or all-NA entries is deprecated. In a future version, this will no longer exclude empty or all-NA columns when determining the result dtypes. To retain the old behavior, exclude the relevant entries before the concat operation.\n",
      "\n",
      "C:\\Users\\quirosgu\\AppData\\Local\\Temp\\ipykernel_10612\\1021957334.py:515: FutureWarning:\n",
      "\n",
      "The behavior of DataFrame concatenation with empty or all-NA entries is deprecated. In a future version, this will no longer exclude empty or all-NA columns when determining the result dtypes. To retain the old behavior, exclude the relevant entries before the concat operation.\n",
      "\n",
      "C:\\Users\\quirosgu\\AppData\\Local\\Temp\\ipykernel_10612\\1021957334.py:515: FutureWarning:\n",
      "\n",
      "The behavior of DataFrame concatenation with empty or all-NA entries is deprecated. In a future version, this will no longer exclude empty or all-NA columns when determining the result dtypes. To retain the old behavior, exclude the relevant entries before the concat operation.\n",
      "\n",
      "C:\\Users\\quirosgu\\AppData\\Local\\Temp\\ipykernel_10612\\1021957334.py:515: FutureWarning:\n",
      "\n",
      "The behavior of DataFrame concatenation with empty or all-NA entries is deprecated. In a future version, this will no longer exclude empty or all-NA columns when determining the result dtypes. To retain the old behavior, exclude the relevant entries before the concat operation.\n",
      "\n",
      "C:\\Users\\quirosgu\\AppData\\Local\\Temp\\ipykernel_10612\\1021957334.py:515: FutureWarning:\n",
      "\n",
      "The behavior of DataFrame concatenation with empty or all-NA entries is deprecated. In a future version, this will no longer exclude empty or all-NA columns when determining the result dtypes. To retain the old behavior, exclude the relevant entries before the concat operation.\n",
      "\n",
      "C:\\Users\\quirosgu\\AppData\\Local\\Temp\\ipykernel_10612\\1021957334.py:515: FutureWarning:\n",
      "\n",
      "The behavior of DataFrame concatenation with empty or all-NA entries is deprecated. In a future version, this will no longer exclude empty or all-NA columns when determining the result dtypes. To retain the old behavior, exclude the relevant entries before the concat operation.\n",
      "\n",
      "C:\\Users\\quirosgu\\AppData\\Local\\Temp\\ipykernel_10612\\1021957334.py:515: FutureWarning:\n",
      "\n",
      "The behavior of DataFrame concatenation with empty or all-NA entries is deprecated. In a future version, this will no longer exclude empty or all-NA columns when determining the result dtypes. To retain the old behavior, exclude the relevant entries before the concat operation.\n",
      "\n",
      "C:\\Users\\quirosgu\\AppData\\Local\\Temp\\ipykernel_10612\\1021957334.py:515: FutureWarning:\n",
      "\n",
      "The behavior of DataFrame concatenation with empty or all-NA entries is deprecated. In a future version, this will no longer exclude empty or all-NA columns when determining the result dtypes. To retain the old behavior, exclude the relevant entries before the concat operation.\n",
      "\n",
      "C:\\Users\\quirosgu\\AppData\\Local\\Temp\\ipykernel_10612\\1021957334.py:515: FutureWarning:\n",
      "\n",
      "The behavior of DataFrame concatenation with empty or all-NA entries is deprecated. In a future version, this will no longer exclude empty or all-NA columns when determining the result dtypes. To retain the old behavior, exclude the relevant entries before the concat operation.\n",
      "\n",
      "C:\\Users\\quirosgu\\AppData\\Local\\Temp\\ipykernel_10612\\1021957334.py:515: FutureWarning:\n",
      "\n",
      "The behavior of DataFrame concatenation with empty or all-NA entries is deprecated. In a future version, this will no longer exclude empty or all-NA columns when determining the result dtypes. To retain the old behavior, exclude the relevant entries before the concat operation.\n",
      "\n",
      "C:\\Users\\quirosgu\\AppData\\Local\\Temp\\ipykernel_10612\\1021957334.py:515: FutureWarning:\n",
      "\n",
      "The behavior of DataFrame concatenation with empty or all-NA entries is deprecated. In a future version, this will no longer exclude empty or all-NA columns when determining the result dtypes. To retain the old behavior, exclude the relevant entries before the concat operation.\n",
      "\n",
      "C:\\Users\\quirosgu\\AppData\\Local\\Temp\\ipykernel_10612\\1021957334.py:515: FutureWarning:\n",
      "\n",
      "The behavior of DataFrame concatenation with empty or all-NA entries is deprecated. In a future version, this will no longer exclude empty or all-NA columns when determining the result dtypes. To retain the old behavior, exclude the relevant entries before the concat operation.\n",
      "\n",
      "C:\\Users\\quirosgu\\AppData\\Local\\Temp\\ipykernel_10612\\1021957334.py:515: FutureWarning:\n",
      "\n",
      "The behavior of DataFrame concatenation with empty or all-NA entries is deprecated. In a future version, this will no longer exclude empty or all-NA columns when determining the result dtypes. To retain the old behavior, exclude the relevant entries before the concat operation.\n",
      "\n",
      "C:\\Users\\quirosgu\\AppData\\Local\\Temp\\ipykernel_10612\\1021957334.py:515: FutureWarning:\n",
      "\n",
      "The behavior of DataFrame concatenation with empty or all-NA entries is deprecated. In a future version, this will no longer exclude empty or all-NA columns when determining the result dtypes. To retain the old behavior, exclude the relevant entries before the concat operation.\n",
      "\n",
      "C:\\Users\\quirosgu\\AppData\\Local\\Temp\\ipykernel_10612\\1021957334.py:515: FutureWarning:\n",
      "\n",
      "The behavior of DataFrame concatenation with empty or all-NA entries is deprecated. In a future version, this will no longer exclude empty or all-NA columns when determining the result dtypes. To retain the old behavior, exclude the relevant entries before the concat operation.\n",
      "\n",
      "C:\\Users\\quirosgu\\AppData\\Local\\Temp\\ipykernel_10612\\1021957334.py:515: FutureWarning:\n",
      "\n",
      "The behavior of DataFrame concatenation with empty or all-NA entries is deprecated. In a future version, this will no longer exclude empty or all-NA columns when determining the result dtypes. To retain the old behavior, exclude the relevant entries before the concat operation.\n",
      "\n",
      "C:\\Users\\quirosgu\\AppData\\Local\\Temp\\ipykernel_10612\\1021957334.py:515: FutureWarning:\n",
      "\n",
      "The behavior of DataFrame concatenation with empty or all-NA entries is deprecated. In a future version, this will no longer exclude empty or all-NA columns when determining the result dtypes. To retain the old behavior, exclude the relevant entries before the concat operation.\n",
      "\n",
      "C:\\Users\\quirosgu\\AppData\\Local\\Temp\\ipykernel_10612\\1021957334.py:515: FutureWarning:\n",
      "\n",
      "The behavior of DataFrame concatenation with empty or all-NA entries is deprecated. In a future version, this will no longer exclude empty or all-NA columns when determining the result dtypes. To retain the old behavior, exclude the relevant entries before the concat operation.\n",
      "\n",
      "C:\\Users\\quirosgu\\AppData\\Local\\Temp\\ipykernel_10612\\1021957334.py:515: FutureWarning:\n",
      "\n",
      "The behavior of DataFrame concatenation with empty or all-NA entries is deprecated. In a future version, this will no longer exclude empty or all-NA columns when determining the result dtypes. To retain the old behavior, exclude the relevant entries before the concat operation.\n",
      "\n",
      "C:\\Users\\quirosgu\\AppData\\Local\\Temp\\ipykernel_10612\\1021957334.py:515: FutureWarning:\n",
      "\n",
      "The behavior of DataFrame concatenation with empty or all-NA entries is deprecated. In a future version, this will no longer exclude empty or all-NA columns when determining the result dtypes. To retain the old behavior, exclude the relevant entries before the concat operation.\n",
      "\n",
      "C:\\Users\\quirosgu\\AppData\\Local\\Temp\\ipykernel_10612\\1021957334.py:515: FutureWarning:\n",
      "\n",
      "The behavior of DataFrame concatenation with empty or all-NA entries is deprecated. In a future version, this will no longer exclude empty or all-NA columns when determining the result dtypes. To retain the old behavior, exclude the relevant entries before the concat operation.\n",
      "\n",
      "C:\\Users\\quirosgu\\AppData\\Local\\Temp\\ipykernel_10612\\1021957334.py:515: FutureWarning:\n",
      "\n",
      "The behavior of DataFrame concatenation with empty or all-NA entries is deprecated. In a future version, this will no longer exclude empty or all-NA columns when determining the result dtypes. To retain the old behavior, exclude the relevant entries before the concat operation.\n",
      "\n",
      "C:\\Users\\quirosgu\\AppData\\Local\\Temp\\ipykernel_10612\\1021957334.py:515: FutureWarning:\n",
      "\n",
      "The behavior of DataFrame concatenation with empty or all-NA entries is deprecated. In a future version, this will no longer exclude empty or all-NA columns when determining the result dtypes. To retain the old behavior, exclude the relevant entries before the concat operation.\n",
      "\n",
      "C:\\Users\\quirosgu\\AppData\\Local\\Temp\\ipykernel_10612\\1021957334.py:515: FutureWarning:\n",
      "\n",
      "The behavior of DataFrame concatenation with empty or all-NA entries is deprecated. In a future version, this will no longer exclude empty or all-NA columns when determining the result dtypes. To retain the old behavior, exclude the relevant entries before the concat operation.\n",
      "\n",
      "C:\\Users\\quirosgu\\AppData\\Local\\Temp\\ipykernel_10612\\1021957334.py:515: FutureWarning:\n",
      "\n",
      "The behavior of DataFrame concatenation with empty or all-NA entries is deprecated. In a future version, this will no longer exclude empty or all-NA columns when determining the result dtypes. To retain the old behavior, exclude the relevant entries before the concat operation.\n",
      "\n",
      "C:\\Users\\quirosgu\\AppData\\Local\\Temp\\ipykernel_10612\\1021957334.py:515: FutureWarning:\n",
      "\n",
      "The behavior of DataFrame concatenation with empty or all-NA entries is deprecated. In a future version, this will no longer exclude empty or all-NA columns when determining the result dtypes. To retain the old behavior, exclude the relevant entries before the concat operation.\n",
      "\n",
      "C:\\Users\\quirosgu\\AppData\\Local\\Temp\\ipykernel_10612\\1021957334.py:515: FutureWarning:\n",
      "\n",
      "The behavior of DataFrame concatenation with empty or all-NA entries is deprecated. In a future version, this will no longer exclude empty or all-NA columns when determining the result dtypes. To retain the old behavior, exclude the relevant entries before the concat operation.\n",
      "\n",
      "C:\\Users\\quirosgu\\AppData\\Local\\Temp\\ipykernel_10612\\1021957334.py:537: FutureWarning:\n",
      "\n",
      "The default of observed=False is deprecated and will be changed to True in a future version of pandas. Pass observed=False to retain current behavior or observed=True to adopt the future default and silence this warning.\n",
      "\n"
     ]
    },
    {
     "data": {
      "application/vnd.plotly.v1+json": {
       "config": {
        "plotlyServerURL": "https://plot.ly"
       },
       "data": [
        {
         "alignmentgroup": "True",
         "hovertemplate": "Pathway=Alkaloids<br>Recurrence=%{x}<br>species=%{y}<extra></extra>",
         "legendgroup": "Alkaloids",
         "marker": {
          "color": "#305F72",
          "pattern": {
           "shape": ""
          }
         },
         "name": "Alkaloids",
         "offsetgroup": "Alkaloids",
         "orientation": "h",
         "showlegend": true,
         "textposition": "auto",
         "type": "bar",
         "x": [
          4,
          2,
          6,
          1,
          2,
          192,
          6,
          10,
          16,
          1,
          2,
          4,
          2,
          2,
          1,
          2,
          24,
          2,
          6,
          2,
          7,
          1,
          11,
          9,
          3
         ],
         "xaxis": "x",
         "y": [
          "Ageratina ligustrina",
          "Ageratum conyzoides",
          "Albizia adinocephala",
          "Alibertia edulis",
          "Caesalpinia pulcherrima",
          "Catharanthus roseus",
          "Cymbopogon citratus",
          "Eichhornia crassipes",
          "Erythrina berteroana",
          "Erythroxylum fimbriatum",
          "Herrania purpurea",
          "Ipomoea nil",
          "Mimosa pudica",
          "Morinda citrifolia",
          "Nasturtium officinale",
          "Piper reticulatum",
          "Piper tuberculatum",
          "Plumeria rubra",
          "Prosopis juliflora",
          "Quassia amara",
          "Rauvolfia littoralis",
          "Samanea saman",
          "Siparuna grandiflora",
          "Talipariti tiliaceum",
          "Telanthophora grandifolia"
         ],
         "yaxis": "y"
        },
        {
         "alignmentgroup": "True",
         "hovertemplate": "Pathway=Amino acids and Peptides<br>Recurrence=%{x}<br>species=%{y}<extra></extra>",
         "legendgroup": "Amino acids and Peptides",
         "marker": {
          "color": "#F4E869",
          "pattern": {
           "shape": ""
          }
         },
         "name": "Amino acids and Peptides",
         "offsetgroup": "Amino acids and Peptides",
         "orientation": "h",
         "showlegend": true,
         "textposition": "auto",
         "type": "bar",
         "x": [
          1,
          3,
          1,
          14,
          1,
          21,
          1,
          1,
          25,
          3,
          13,
          4,
          2,
          2,
          4,
          1,
          1,
          1,
          5,
          3
         ],
         "xaxis": "x",
         "y": [
          "Ageratum conyzoides",
          "Camonea umbellata",
          "Canavalia rosea",
          "Catharanthus roseus",
          "Delonix regia",
          "Eichhornia crassipes",
          "Gliricidia sepium",
          "Guilandina bonduc",
          "Indigofera hirsuta",
          "Ipomoea nil",
          "Jatropha gossypiifolia",
          "Lantana camara",
          "Mimosa pudica",
          "Nasturtium officinale",
          "Piper tuberculatum",
          "Plumeria rubra",
          "Prosopis juliflora",
          "Rauvolfia littoralis",
          "Talipariti tiliaceum",
          "Vasconcellea cauliflora"
         ],
         "yaxis": "y"
        },
        {
         "alignmentgroup": "True",
         "hovertemplate": "Pathway=Carbohydrates<br>Recurrence=%{x}<br>species=%{y}<extra></extra>",
         "legendgroup": "Carbohydrates",
         "marker": {
          "color": "#65451F",
          "pattern": {
           "shape": ""
          }
         },
         "name": "Carbohydrates",
         "offsetgroup": "Carbohydrates",
         "orientation": "h",
         "showlegend": true,
         "textposition": "auto",
         "type": "bar",
         "x": [
          1,
          11,
          1,
          1,
          3,
          6,
          3,
          7,
          4,
          1,
          18,
          5
         ],
         "xaxis": "x",
         "y": [
          "Acrocomia aculeata",
          "Catharanthus roseus",
          "Genipa americana",
          "Gliricidia sepium",
          "Jatropha gossypiifolia",
          "Lantana camara",
          "Lonchocarpus heptaphyllus",
          "Morinda citrifolia",
          "Omphalea diandra",
          "Quassia amara",
          "Saccharum officinarum",
          "Sapium laurifolium"
         ],
         "yaxis": "y"
        },
        {
         "alignmentgroup": "True",
         "hovertemplate": "Pathway=Fatty acids<br>Recurrence=%{x}<br>species=%{y}<extra></extra>",
         "legendgroup": "Fatty acids",
         "marker": {
          "color": "#FF6C22",
          "pattern": {
           "shape": ""
          }
         },
         "name": "Fatty acids",
         "offsetgroup": "Fatty acids",
         "orientation": "h",
         "showlegend": true,
         "textposition": "auto",
         "type": "bar",
         "x": [
          1,
          1,
          19,
          1,
          14,
          3,
          18,
          8,
          1,
          1,
          16,
          5,
          22,
          4,
          3,
          17,
          2,
          5,
          30,
          1,
          3,
          2
         ],
         "xaxis": "x",
         "y": [
          "Acrostichum aureum",
          "Ageratina ligustrina",
          "Ageratum conyzoides",
          "Caesalpinia pulcherrima",
          "Catharanthus roseus",
          "Crescentia cujete",
          "Cymbopogon citratus",
          "Delonix regia",
          "Ficus benjamina",
          "Gliricidia sepium",
          "Ipomoea nil",
          "Jatropha gossypiifolia",
          "Lantana camara",
          "Lawsonia inermis",
          "Mimosa pudica",
          "Morinda citrifolia",
          "Paullinia pinnata",
          "Piper tuberculatum",
          "Plumeria rubra",
          "Rhizophora mangle",
          "Saccharum officinarum",
          "Samanea saman"
         ],
         "yaxis": "y"
        },
        {
         "alignmentgroup": "True",
         "hovertemplate": "Pathway=Polyketides<br>Recurrence=%{x}<br>species=%{y}<extra></extra>",
         "legendgroup": "Polyketides",
         "marker": {
          "color": "#EF4B4B",
          "pattern": {
           "shape": ""
          }
         },
         "name": "Polyketides",
         "offsetgroup": "Polyketides",
         "orientation": "h",
         "showlegend": true,
         "textposition": "auto",
         "type": "bar",
         "x": [
          1,
          2,
          1,
          2,
          2,
          5,
          2,
          2,
          7,
          1,
          2,
          9,
          6,
          1,
          2,
          55,
          12,
          18,
          2,
          2,
          17,
          8
         ],
         "xaxis": "x",
         "y": [
          "Ageratina ixiocladon",
          "Ageratum conyzoides",
          "Avicennia germinans",
          "Caesalpinia pulcherrima",
          "Calea urticifolia",
          "Cassia grandis",
          "Crescentia cujete",
          "Eichhornia crassipes",
          "Faramea occidentalis",
          "Ipomoea nil",
          "Laguncularia racemosa",
          "Lantana camara",
          "Lawsonia inermis",
          "Maclura tinctoria",
          "Marila laxiflora",
          "Morinda citrifolia",
          "Peperomia galioides",
          "Picramnia latifolia",
          "Piper reticulatum",
          "Plumeria rubra",
          "Talipariti tiliaceum",
          "Tovomita longifolia"
         ],
         "yaxis": "y"
        },
        {
         "alignmentgroup": "True",
         "hovertemplate": "Pathway=Shikimates and Phenylpropanoids<br>Recurrence=%{x}<br>species=%{y}<extra></extra>",
         "legendgroup": "Shikimates and Phenylpropanoids",
         "marker": {
          "color": "#80558C",
          "pattern": {
           "shape": ""
          }
         },
         "name": "Shikimates and Phenylpropanoids",
         "offsetgroup": "Shikimates and Phenylpropanoids",
         "orientation": "h",
         "showlegend": true,
         "textposition": "auto",
         "type": "bar",
         "x": [
          12,
          23,
          2,
          2,
          2,
          43,
          6,
          6,
          5,
          8,
          32,
          19,
          1,
          6,
          35,
          18,
          4,
          1,
          1,
          4,
          7,
          43,
          4,
          2,
          1,
          48,
          8,
          27,
          20,
          32,
          21,
          30,
          4,
          5,
          14,
          57,
          18,
          4,
          10,
          5,
          3,
          2,
          1,
          7,
          29,
          12,
          1,
          18,
          2,
          6,
          9,
          2,
          5
         ],
         "xaxis": "x",
         "y": [
          "Ageratina ligustrina",
          "Ageratum conyzoides",
          "Apeiba tibourbou",
          "Arthraxon hispidus",
          "Avicennia germinans",
          "Caesalpinia pulcherrima",
          "Calceolaria irazuensis",
          "Camonea umbellata",
          "Canavalia rosea",
          "Cassia grandis",
          "Catharanthus roseus",
          "Cissus verticillata",
          "Clarisia racemosa",
          "Crescentia cujete",
          "Cymbopogon citratus",
          "Eichhornia crassipes",
          "Erythrina berteroana",
          "Euphorbia hypericifolia",
          "Faramea occidentalis",
          "Ficus maxima",
          "Fuchsia splendens",
          "Gliricidia sepium",
          "Guilandina bonduc",
          "Hedyosmum bonplandianum",
          "Hymenaea courbaril",
          "Ipomoea nil",
          "Jatropha gossypiifolia",
          "Laguncularia racemosa",
          "Lantana camara",
          "Lawsonia inermis",
          "Lonchocarpus heptaphyllus",
          "Maclura tinctoria",
          "Marila laxiflora",
          "Mikania micrantha",
          "Mimosa pudica",
          "Morinda citrifolia",
          "Nasturtium officinale",
          "Paullinia pinnata",
          "Persicaria pubescens",
          "Phenax angustifolius",
          "Phyllanthus acuminatus",
          "Picramnia latifolia",
          "Piper reticulatum",
          "Piper tuberculatum",
          "Plumeria rubra",
          "Prosopis juliflora",
          "Rhizophora mangle",
          "Saccharum officinarum",
          "Sapium laurifolium",
          "Syzygium malaccense",
          "Talipariti tiliaceum",
          "Urochloa decumbens",
          "Verbesina myriocephala"
         ],
         "yaxis": "y"
        },
        {
         "alignmentgroup": "True",
         "hovertemplate": "Pathway=Terpenoids<br>Recurrence=%{x}<br>species=%{y}<extra></extra>",
         "legendgroup": "Terpenoids",
         "marker": {
          "color": "#618264",
          "pattern": {
           "shape": ""
          }
         },
         "name": "Terpenoids",
         "offsetgroup": "Terpenoids",
         "orientation": "h",
         "showlegend": true,
         "textposition": "auto",
         "type": "bar",
         "x": [
          4,
          22,
          10,
          78,
          21,
          2,
          2,
          61,
          29,
          1,
          61,
          6,
          1,
          21,
          3,
          51,
          3,
          1,
          3,
          26,
          9,
          97,
          3,
          19,
          18,
          46,
          16,
          157,
          19,
          1,
          1,
          22,
          7,
          30,
          61,
          3,
          3,
          7,
          4,
          4,
          7,
          13,
          3,
          4,
          1,
          12,
          58,
          2,
          4,
          19,
          7,
          5,
          31,
          5,
          22,
          14,
          3,
          12,
          3,
          1,
          10
         ],
         "xaxis": "x",
         "y": [
          "Acrostichum aureum",
          "Ageratina ixiocladon",
          "Ageratina ligustrina",
          "Ageratum conyzoides",
          "Alibertia edulis",
          "Avicennia bicolor",
          "Avicennia germinans",
          "Caesalpinia pulcherrima",
          "Calea urticifolia",
          "Cassia grandis",
          "Catharanthus roseus",
          "Cnidoscolus urens",
          "Cojoba arborea",
          "Crescentia cujete",
          "Cryptostegia madagascariensis",
          "Cymbopogon citratus",
          "Eichhornia crassipes",
          "Faramea occidentalis",
          "Ficus benjamina",
          "Genipa americana",
          "Gliricidia sepium",
          "Guilandina bonduc",
          "Handroanthus chrysanthus",
          "Hedyosmum bonplandianum",
          "Hymenaea courbaril",
          "Ipomoea nil",
          "Jatropha gossypiifolia",
          "Lantana camara",
          "Lawsonia inermis",
          "Maclura tinctoria",
          "Marila laxiflora",
          "Maytenus woodsonii",
          "Mesosphaerum suaveolens",
          "Mikania micrantha",
          "Morinda citrifolia",
          "Myrciaria floribunda",
          "Nasturtium officinale",
          "Onoseris onoseroides",
          "Paullinia pinnata",
          "Peperomia galioides",
          "Persicaria pubescens",
          "Phyllanthus acuminatus",
          "Phytolacca rivinoides",
          "Picramnia latifolia",
          "Piper multiplinervium",
          "Piptocarpha poeppigiana",
          "Plumeria rubra",
          "Posoqueria latifolia",
          "Prosopis juliflora",
          "Quassia amara",
          "Rhizophora mangle",
          "Saccharum officinarum",
          "Sansevieria trifasciata",
          "Smilax officinalis",
          "Talipariti tiliaceum",
          "Telanthophora grandifolia",
          "Trattinnickia aspera",
          "Trichilia pallida",
          "Urochloa decumbens",
          "Verbesina myriocephala",
          "Xylopia frutescens"
         ],
         "yaxis": "y"
        }
       ],
       "layout": {
        "barmode": "relative",
        "height": 1500,
        "legend": {
         "title": {
          "text": "Pathway"
         },
         "tracegroupgap": 0
        },
        "plot_bgcolor": "white",
        "template": {
         "data": {
          "bar": [
           {
            "error_x": {
             "color": "#2a3f5f"
            },
            "error_y": {
             "color": "#2a3f5f"
            },
            "marker": {
             "line": {
              "color": "#E5ECF6",
              "width": 0.5
             },
             "pattern": {
              "fillmode": "overlay",
              "size": 10,
              "solidity": 0.2
             }
            },
            "type": "bar"
           }
          ],
          "barpolar": [
           {
            "marker": {
             "line": {
              "color": "#E5ECF6",
              "width": 0.5
             },
             "pattern": {
              "fillmode": "overlay",
              "size": 10,
              "solidity": 0.2
             }
            },
            "type": "barpolar"
           }
          ],
          "carpet": [
           {
            "aaxis": {
             "endlinecolor": "#2a3f5f",
             "gridcolor": "white",
             "linecolor": "white",
             "minorgridcolor": "white",
             "startlinecolor": "#2a3f5f"
            },
            "baxis": {
             "endlinecolor": "#2a3f5f",
             "gridcolor": "white",
             "linecolor": "white",
             "minorgridcolor": "white",
             "startlinecolor": "#2a3f5f"
            },
            "type": "carpet"
           }
          ],
          "choropleth": [
           {
            "colorbar": {
             "outlinewidth": 0,
             "ticks": ""
            },
            "type": "choropleth"
           }
          ],
          "contour": [
           {
            "colorbar": {
             "outlinewidth": 0,
             "ticks": ""
            },
            "colorscale": [
             [
              0,
              "#0d0887"
             ],
             [
              0.1111111111111111,
              "#46039f"
             ],
             [
              0.2222222222222222,
              "#7201a8"
             ],
             [
              0.3333333333333333,
              "#9c179e"
             ],
             [
              0.4444444444444444,
              "#bd3786"
             ],
             [
              0.5555555555555556,
              "#d8576b"
             ],
             [
              0.6666666666666666,
              "#ed7953"
             ],
             [
              0.7777777777777778,
              "#fb9f3a"
             ],
             [
              0.8888888888888888,
              "#fdca26"
             ],
             [
              1,
              "#f0f921"
             ]
            ],
            "type": "contour"
           }
          ],
          "contourcarpet": [
           {
            "colorbar": {
             "outlinewidth": 0,
             "ticks": ""
            },
            "type": "contourcarpet"
           }
          ],
          "heatmap": [
           {
            "colorbar": {
             "outlinewidth": 0,
             "ticks": ""
            },
            "colorscale": [
             [
              0,
              "#0d0887"
             ],
             [
              0.1111111111111111,
              "#46039f"
             ],
             [
              0.2222222222222222,
              "#7201a8"
             ],
             [
              0.3333333333333333,
              "#9c179e"
             ],
             [
              0.4444444444444444,
              "#bd3786"
             ],
             [
              0.5555555555555556,
              "#d8576b"
             ],
             [
              0.6666666666666666,
              "#ed7953"
             ],
             [
              0.7777777777777778,
              "#fb9f3a"
             ],
             [
              0.8888888888888888,
              "#fdca26"
             ],
             [
              1,
              "#f0f921"
             ]
            ],
            "type": "heatmap"
           }
          ],
          "heatmapgl": [
           {
            "colorbar": {
             "outlinewidth": 0,
             "ticks": ""
            },
            "colorscale": [
             [
              0,
              "#0d0887"
             ],
             [
              0.1111111111111111,
              "#46039f"
             ],
             [
              0.2222222222222222,
              "#7201a8"
             ],
             [
              0.3333333333333333,
              "#9c179e"
             ],
             [
              0.4444444444444444,
              "#bd3786"
             ],
             [
              0.5555555555555556,
              "#d8576b"
             ],
             [
              0.6666666666666666,
              "#ed7953"
             ],
             [
              0.7777777777777778,
              "#fb9f3a"
             ],
             [
              0.8888888888888888,
              "#fdca26"
             ],
             [
              1,
              "#f0f921"
             ]
            ],
            "type": "heatmapgl"
           }
          ],
          "histogram": [
           {
            "marker": {
             "pattern": {
              "fillmode": "overlay",
              "size": 10,
              "solidity": 0.2
             }
            },
            "type": "histogram"
           }
          ],
          "histogram2d": [
           {
            "colorbar": {
             "outlinewidth": 0,
             "ticks": ""
            },
            "colorscale": [
             [
              0,
              "#0d0887"
             ],
             [
              0.1111111111111111,
              "#46039f"
             ],
             [
              0.2222222222222222,
              "#7201a8"
             ],
             [
              0.3333333333333333,
              "#9c179e"
             ],
             [
              0.4444444444444444,
              "#bd3786"
             ],
             [
              0.5555555555555556,
              "#d8576b"
             ],
             [
              0.6666666666666666,
              "#ed7953"
             ],
             [
              0.7777777777777778,
              "#fb9f3a"
             ],
             [
              0.8888888888888888,
              "#fdca26"
             ],
             [
              1,
              "#f0f921"
             ]
            ],
            "type": "histogram2d"
           }
          ],
          "histogram2dcontour": [
           {
            "colorbar": {
             "outlinewidth": 0,
             "ticks": ""
            },
            "colorscale": [
             [
              0,
              "#0d0887"
             ],
             [
              0.1111111111111111,
              "#46039f"
             ],
             [
              0.2222222222222222,
              "#7201a8"
             ],
             [
              0.3333333333333333,
              "#9c179e"
             ],
             [
              0.4444444444444444,
              "#bd3786"
             ],
             [
              0.5555555555555556,
              "#d8576b"
             ],
             [
              0.6666666666666666,
              "#ed7953"
             ],
             [
              0.7777777777777778,
              "#fb9f3a"
             ],
             [
              0.8888888888888888,
              "#fdca26"
             ],
             [
              1,
              "#f0f921"
             ]
            ],
            "type": "histogram2dcontour"
           }
          ],
          "mesh3d": [
           {
            "colorbar": {
             "outlinewidth": 0,
             "ticks": ""
            },
            "type": "mesh3d"
           }
          ],
          "parcoords": [
           {
            "line": {
             "colorbar": {
              "outlinewidth": 0,
              "ticks": ""
             }
            },
            "type": "parcoords"
           }
          ],
          "pie": [
           {
            "automargin": true,
            "type": "pie"
           }
          ],
          "scatter": [
           {
            "fillpattern": {
             "fillmode": "overlay",
             "size": 10,
             "solidity": 0.2
            },
            "type": "scatter"
           }
          ],
          "scatter3d": [
           {
            "line": {
             "colorbar": {
              "outlinewidth": 0,
              "ticks": ""
             }
            },
            "marker": {
             "colorbar": {
              "outlinewidth": 0,
              "ticks": ""
             }
            },
            "type": "scatter3d"
           }
          ],
          "scattercarpet": [
           {
            "marker": {
             "colorbar": {
              "outlinewidth": 0,
              "ticks": ""
             }
            },
            "type": "scattercarpet"
           }
          ],
          "scattergeo": [
           {
            "marker": {
             "colorbar": {
              "outlinewidth": 0,
              "ticks": ""
             }
            },
            "type": "scattergeo"
           }
          ],
          "scattergl": [
           {
            "marker": {
             "colorbar": {
              "outlinewidth": 0,
              "ticks": ""
             }
            },
            "type": "scattergl"
           }
          ],
          "scattermapbox": [
           {
            "marker": {
             "colorbar": {
              "outlinewidth": 0,
              "ticks": ""
             }
            },
            "type": "scattermapbox"
           }
          ],
          "scatterpolar": [
           {
            "marker": {
             "colorbar": {
              "outlinewidth": 0,
              "ticks": ""
             }
            },
            "type": "scatterpolar"
           }
          ],
          "scatterpolargl": [
           {
            "marker": {
             "colorbar": {
              "outlinewidth": 0,
              "ticks": ""
             }
            },
            "type": "scatterpolargl"
           }
          ],
          "scatterternary": [
           {
            "marker": {
             "colorbar": {
              "outlinewidth": 0,
              "ticks": ""
             }
            },
            "type": "scatterternary"
           }
          ],
          "surface": [
           {
            "colorbar": {
             "outlinewidth": 0,
             "ticks": ""
            },
            "colorscale": [
             [
              0,
              "#0d0887"
             ],
             [
              0.1111111111111111,
              "#46039f"
             ],
             [
              0.2222222222222222,
              "#7201a8"
             ],
             [
              0.3333333333333333,
              "#9c179e"
             ],
             [
              0.4444444444444444,
              "#bd3786"
             ],
             [
              0.5555555555555556,
              "#d8576b"
             ],
             [
              0.6666666666666666,
              "#ed7953"
             ],
             [
              0.7777777777777778,
              "#fb9f3a"
             ],
             [
              0.8888888888888888,
              "#fdca26"
             ],
             [
              1,
              "#f0f921"
             ]
            ],
            "type": "surface"
           }
          ],
          "table": [
           {
            "cells": {
             "fill": {
              "color": "#EBF0F8"
             },
             "line": {
              "color": "white"
             }
            },
            "header": {
             "fill": {
              "color": "#C8D4E3"
             },
             "line": {
              "color": "white"
             }
            },
            "type": "table"
           }
          ]
         },
         "layout": {
          "annotationdefaults": {
           "arrowcolor": "#2a3f5f",
           "arrowhead": 0,
           "arrowwidth": 1
          },
          "autotypenumbers": "strict",
          "coloraxis": {
           "colorbar": {
            "outlinewidth": 0,
            "ticks": ""
           }
          },
          "colorscale": {
           "diverging": [
            [
             0,
             "#8e0152"
            ],
            [
             0.1,
             "#c51b7d"
            ],
            [
             0.2,
             "#de77ae"
            ],
            [
             0.3,
             "#f1b6da"
            ],
            [
             0.4,
             "#fde0ef"
            ],
            [
             0.5,
             "#f7f7f7"
            ],
            [
             0.6,
             "#e6f5d0"
            ],
            [
             0.7,
             "#b8e186"
            ],
            [
             0.8,
             "#7fbc41"
            ],
            [
             0.9,
             "#4d9221"
            ],
            [
             1,
             "#276419"
            ]
           ],
           "sequential": [
            [
             0,
             "#0d0887"
            ],
            [
             0.1111111111111111,
             "#46039f"
            ],
            [
             0.2222222222222222,
             "#7201a8"
            ],
            [
             0.3333333333333333,
             "#9c179e"
            ],
            [
             0.4444444444444444,
             "#bd3786"
            ],
            [
             0.5555555555555556,
             "#d8576b"
            ],
            [
             0.6666666666666666,
             "#ed7953"
            ],
            [
             0.7777777777777778,
             "#fb9f3a"
            ],
            [
             0.8888888888888888,
             "#fdca26"
            ],
            [
             1,
             "#f0f921"
            ]
           ],
           "sequentialminus": [
            [
             0,
             "#0d0887"
            ],
            [
             0.1111111111111111,
             "#46039f"
            ],
            [
             0.2222222222222222,
             "#7201a8"
            ],
            [
             0.3333333333333333,
             "#9c179e"
            ],
            [
             0.4444444444444444,
             "#bd3786"
            ],
            [
             0.5555555555555556,
             "#d8576b"
            ],
            [
             0.6666666666666666,
             "#ed7953"
            ],
            [
             0.7777777777777778,
             "#fb9f3a"
            ],
            [
             0.8888888888888888,
             "#fdca26"
            ],
            [
             1,
             "#f0f921"
            ]
           ]
          },
          "colorway": [
           "#636efa",
           "#EF553B",
           "#00cc96",
           "#ab63fa",
           "#FFA15A",
           "#19d3f3",
           "#FF6692",
           "#B6E880",
           "#FF97FF",
           "#FECB52"
          ],
          "font": {
           "color": "#2a3f5f"
          },
          "geo": {
           "bgcolor": "white",
           "lakecolor": "white",
           "landcolor": "#E5ECF6",
           "showlakes": true,
           "showland": true,
           "subunitcolor": "white"
          },
          "hoverlabel": {
           "align": "left"
          },
          "hovermode": "closest",
          "mapbox": {
           "style": "light"
          },
          "paper_bgcolor": "white",
          "plot_bgcolor": "#E5ECF6",
          "polar": {
           "angularaxis": {
            "gridcolor": "white",
            "linecolor": "white",
            "ticks": ""
           },
           "bgcolor": "#E5ECF6",
           "radialaxis": {
            "gridcolor": "white",
            "linecolor": "white",
            "ticks": ""
           }
          },
          "scene": {
           "xaxis": {
            "backgroundcolor": "#E5ECF6",
            "gridcolor": "white",
            "gridwidth": 2,
            "linecolor": "white",
            "showbackground": true,
            "ticks": "",
            "zerolinecolor": "white"
           },
           "yaxis": {
            "backgroundcolor": "#E5ECF6",
            "gridcolor": "white",
            "gridwidth": 2,
            "linecolor": "white",
            "showbackground": true,
            "ticks": "",
            "zerolinecolor": "white"
           },
           "zaxis": {
            "backgroundcolor": "#E5ECF6",
            "gridcolor": "white",
            "gridwidth": 2,
            "linecolor": "white",
            "showbackground": true,
            "ticks": "",
            "zerolinecolor": "white"
           }
          },
          "shapedefaults": {
           "line": {
            "color": "#2a3f5f"
           }
          },
          "ternary": {
           "aaxis": {
            "gridcolor": "white",
            "linecolor": "white",
            "ticks": ""
           },
           "baxis": {
            "gridcolor": "white",
            "linecolor": "white",
            "ticks": ""
           },
           "bgcolor": "#E5ECF6",
           "caxis": {
            "gridcolor": "white",
            "linecolor": "white",
            "ticks": ""
           }
          },
          "title": {
           "x": 0.05
          },
          "xaxis": {
           "automargin": true,
           "gridcolor": "white",
           "linecolor": "white",
           "ticks": "",
           "title": {
            "standoff": 15
           },
           "zerolinecolor": "white",
           "zerolinewidth": 2
          },
          "yaxis": {
           "automargin": true,
           "gridcolor": "white",
           "linecolor": "white",
           "ticks": "",
           "title": {
            "standoff": 15
           },
           "zerolinecolor": "white",
           "zerolinewidth": 2
          }
         }
        },
        "title": {
         "text": "Stacked Barplot of Predicted Pathways Ocurrence for Species"
        },
        "width": 1500,
        "xaxis": {
         "anchor": "y",
         "domain": [
          0,
          1
         ],
         "title": {
          "text": "Recurrence"
         }
        },
        "yaxis": {
         "anchor": "x",
         "categoryarray": [
          "Xylopia frutescens",
          "Verbesina myriocephala",
          "Vasconcellea cauliflora",
          "Urochloa decumbens",
          "Trichilia pallida",
          "Trattinnickia aspera",
          "Tovomita longifolia",
          "Telanthophora grandifolia",
          "Talipariti tiliaceum",
          "Syzygium malaccense",
          "Smilax officinalis",
          "Siparuna grandiflora",
          "Sapium laurifolium",
          "Sansevieria trifasciata",
          "Samanea saman",
          "Saccharum officinarum",
          "Rhizophora mangle",
          "Rauvolfia littoralis",
          "Quassia amara",
          "Prosopis juliflora",
          "Posoqueria latifolia",
          "Plumeria rubra",
          "Piptocarpha poeppigiana",
          "Piper tuberculatum",
          "Piper reticulatum",
          "Piper multiplinervium",
          "Picramnia latifolia",
          "Phytolacca rivinoides",
          "Phyllanthus acuminatus",
          "Phenax angustifolius",
          "Persicaria pubescens",
          "Peperomia galioides",
          "Paullinia pinnata",
          "Onoseris onoseroides",
          "Omphalea diandra",
          "Nasturtium officinale",
          "Myrciaria floribunda",
          "Morinda citrifolia",
          "Mimosa pudica",
          "Mikania micrantha",
          "Mesosphaerum suaveolens",
          "Maytenus woodsonii",
          "Marila laxiflora",
          "Maclura tinctoria",
          "Lonchocarpus heptaphyllus",
          "Lawsonia inermis",
          "Lantana camara",
          "Laguncularia racemosa",
          "Jatropha gossypiifolia",
          "Ipomoea nil",
          "Indigofera hirsuta",
          "Hymenaea courbaril",
          "Herrania purpurea",
          "Hedyosmum bonplandianum",
          "Handroanthus chrysanthus",
          "Guilandina bonduc",
          "Gliricidia sepium",
          "Genipa americana",
          "Fuchsia splendens",
          "Ficus maxima",
          "Ficus benjamina",
          "Faramea occidentalis",
          "Euphorbia hypericifolia",
          "Erythroxylum fimbriatum",
          "Erythrina berteroana",
          "Eichhornia crassipes",
          "Delonix regia",
          "Cymbopogon citratus",
          "Cryptostegia madagascariensis",
          "Crescentia cujete",
          "Cojoba arborea",
          "Cnidoscolus urens",
          "Clarisia racemosa",
          "Cissus verticillata",
          "Catharanthus roseus",
          "Cassia grandis",
          "Canavalia rosea",
          "Camonea umbellata",
          "Calea urticifolia",
          "Calceolaria irazuensis",
          "Caesalpinia pulcherrima",
          "Avicennia germinans",
          "Avicennia bicolor",
          "Arthraxon hispidus",
          "Apeiba tibourbou",
          "Alibertia edulis",
          "Albizia adinocephala",
          "Ageratum conyzoides",
          "Ageratina ligustrina",
          "Ageratina ixiocladon",
          "Acrostichum aureum",
          "Acrocomia aculeata"
         ],
         "categoryorder": "array",
         "domain": [
          0,
          1
         ],
         "tickmode": "array",
         "ticktext": [
          "<i>Acrocomia aculeata</i>",
          "<i>Acrostichum aureum</i>",
          "<i>Ageratina ixiocladon</i>",
          "<i>Ageratina ligustrina</i>",
          "<i>Ageratum conyzoides</i>",
          "<i>Albizia adinocephala</i>",
          "<i>Alibertia edulis</i>",
          "<i>Apeiba tibourbou</i>",
          "<i>Arthraxon hispidus</i>",
          "<i>Avicennia bicolor</i>",
          "<i>Avicennia germinans</i>",
          "<i>Caesalpinia pulcherrima</i>",
          "<i>Calceolaria irazuensis</i>",
          "<i>Calea urticifolia</i>",
          "<i>Camonea umbellata</i>",
          "<i>Canavalia rosea</i>",
          "<i>Cassia grandis</i>",
          "<i>Catharanthus roseus</i>",
          "<i>Cissus verticillata</i>",
          "<i>Clarisia racemosa</i>",
          "<i>Cnidoscolus urens</i>",
          "<i>Cojoba arborea</i>",
          "<i>Crescentia cujete</i>",
          "<i>Cryptostegia madagascariensis</i>",
          "<i>Cymbopogon citratus</i>",
          "<i>Delonix regia</i>",
          "<i>Eichhornia crassipes</i>",
          "<i>Erythrina berteroana</i>",
          "<i>Erythroxylum fimbriatum</i>",
          "<i>Euphorbia hypericifolia</i>",
          "<i>Faramea occidentalis</i>",
          "<i>Ficus benjamina</i>",
          "<i>Ficus maxima</i>",
          "<i>Fuchsia splendens</i>",
          "<i>Genipa americana</i>",
          "<i>Gliricidia sepium</i>",
          "<i>Guilandina bonduc</i>",
          "<i>Handroanthus chrysanthus</i>",
          "<i>Hedyosmum bonplandianum</i>",
          "<i>Herrania purpurea</i>",
          "<i>Hymenaea courbaril</i>",
          "<i>Indigofera hirsuta</i>",
          "<i>Ipomoea nil</i>",
          "<i>Jatropha gossypiifolia</i>",
          "<i>Laguncularia racemosa</i>",
          "<i>Lantana camara</i>",
          "<i>Lawsonia inermis</i>",
          "<i>Lonchocarpus heptaphyllus</i>",
          "<i>Maclura tinctoria</i>",
          "<i>Marila laxiflora</i>",
          "<i>Maytenus woodsonii</i>",
          "<i>Mesosphaerum suaveolens</i>",
          "<i>Mikania micrantha</i>",
          "<i>Mimosa pudica</i>",
          "<i>Morinda citrifolia</i>",
          "<i>Myrciaria floribunda</i>",
          "<i>Nasturtium officinale</i>",
          "<i>Omphalea diandra</i>",
          "<i>Onoseris onoseroides</i>",
          "<i>Paullinia pinnata</i>",
          "<i>Peperomia galioides</i>",
          "<i>Persicaria pubescens</i>",
          "<i>Phenax angustifolius</i>",
          "<i>Phyllanthus acuminatus</i>",
          "<i>Phytolacca rivinoides</i>",
          "<i>Picramnia latifolia</i>",
          "<i>Piper multiplinervium</i>",
          "<i>Piper reticulatum</i>",
          "<i>Piper tuberculatum</i>",
          "<i>Piptocarpha poeppigiana</i>",
          "<i>Plumeria rubra</i>",
          "<i>Posoqueria latifolia</i>",
          "<i>Prosopis juliflora</i>",
          "<i>Quassia amara</i>",
          "<i>Rauvolfia littoralis</i>",
          "<i>Rhizophora mangle</i>",
          "<i>Saccharum officinarum</i>",
          "<i>Samanea saman</i>",
          "<i>Sansevieria trifasciata</i>",
          "<i>Sapium laurifolium</i>",
          "<i>Siparuna grandiflora</i>",
          "<i>Smilax officinalis</i>",
          "<i>Syzygium malaccense</i>",
          "<i>Talipariti tiliaceum</i>",
          "<i>Telanthophora grandifolia</i>",
          "<i>Tovomita longifolia</i>",
          "<i>Trattinnickia aspera</i>",
          "<i>Trichilia pallida</i>",
          "<i>Urochloa decumbens</i>",
          "<i>Vasconcellea cauliflora</i>",
          "<i>Verbesina myriocephala</i>",
          "<i>Xylopia frutescens</i>"
         ],
         "tickvals": [
          0,
          1,
          2,
          3,
          4,
          5,
          6,
          7,
          8,
          9,
          10,
          11,
          12,
          13,
          14,
          15,
          16,
          17,
          18,
          19,
          20,
          21,
          22,
          23,
          24,
          25,
          26,
          27,
          28,
          29,
          30,
          31,
          32,
          33,
          34,
          35,
          36,
          37,
          38,
          39,
          40,
          41,
          42,
          43,
          44,
          45,
          46,
          47,
          48,
          49,
          50,
          51,
          52,
          53,
          54,
          55,
          56,
          57,
          58,
          59,
          60,
          61,
          62,
          63,
          64,
          65,
          66,
          67,
          68,
          69,
          70,
          71,
          72,
          73,
          74,
          75,
          76,
          77,
          78,
          79,
          80,
          81,
          82,
          83,
          84,
          85,
          86,
          87,
          88,
          89,
          90,
          91
         ],
         "title": {
          "text": "<i>Species<i>"
         }
        }
       }
      }
     },
     "metadata": {},
     "output_type": "display_data"
    },
    {
     "name": "stderr",
     "output_type": "stream",
     "text": [
      "C:\\Users\\quirosgu\\AppData\\Local\\Temp\\ipykernel_10612\\1021957334.py:599: FutureWarning:\n",
      "\n",
      "The behavior of DataFrame concatenation with empty or all-NA entries is deprecated. In a future version, this will no longer exclude empty or all-NA columns when determining the result dtypes. To retain the old behavior, exclude the relevant entries before the concat operation.\n",
      "\n",
      "C:\\Users\\quirosgu\\AppData\\Local\\Temp\\ipykernel_10612\\1021957334.py:599: FutureWarning:\n",
      "\n",
      "The behavior of DataFrame concatenation with empty or all-NA entries is deprecated. In a future version, this will no longer exclude empty or all-NA columns when determining the result dtypes. To retain the old behavior, exclude the relevant entries before the concat operation.\n",
      "\n",
      "C:\\Users\\quirosgu\\AppData\\Local\\Temp\\ipykernel_10612\\1021957334.py:599: FutureWarning:\n",
      "\n",
      "The behavior of DataFrame concatenation with empty or all-NA entries is deprecated. In a future version, this will no longer exclude empty or all-NA columns when determining the result dtypes. To retain the old behavior, exclude the relevant entries before the concat operation.\n",
      "\n",
      "C:\\Users\\quirosgu\\AppData\\Local\\Temp\\ipykernel_10612\\1021957334.py:599: FutureWarning:\n",
      "\n",
      "The behavior of DataFrame concatenation with empty or all-NA entries is deprecated. In a future version, this will no longer exclude empty or all-NA columns when determining the result dtypes. To retain the old behavior, exclude the relevant entries before the concat operation.\n",
      "\n",
      "C:\\Users\\quirosgu\\AppData\\Local\\Temp\\ipykernel_10612\\1021957334.py:599: FutureWarning:\n",
      "\n",
      "The behavior of DataFrame concatenation with empty or all-NA entries is deprecated. In a future version, this will no longer exclude empty or all-NA columns when determining the result dtypes. To retain the old behavior, exclude the relevant entries before the concat operation.\n",
      "\n",
      "C:\\Users\\quirosgu\\AppData\\Local\\Temp\\ipykernel_10612\\1021957334.py:599: FutureWarning:\n",
      "\n",
      "The behavior of DataFrame concatenation with empty or all-NA entries is deprecated. In a future version, this will no longer exclude empty or all-NA columns when determining the result dtypes. To retain the old behavior, exclude the relevant entries before the concat operation.\n",
      "\n",
      "C:\\Users\\quirosgu\\AppData\\Local\\Temp\\ipykernel_10612\\1021957334.py:599: FutureWarning:\n",
      "\n",
      "The behavior of DataFrame concatenation with empty or all-NA entries is deprecated. In a future version, this will no longer exclude empty or all-NA columns when determining the result dtypes. To retain the old behavior, exclude the relevant entries before the concat operation.\n",
      "\n",
      "C:\\Users\\quirosgu\\AppData\\Local\\Temp\\ipykernel_10612\\1021957334.py:599: FutureWarning:\n",
      "\n",
      "The behavior of DataFrame concatenation with empty or all-NA entries is deprecated. In a future version, this will no longer exclude empty or all-NA columns when determining the result dtypes. To retain the old behavior, exclude the relevant entries before the concat operation.\n",
      "\n",
      "C:\\Users\\quirosgu\\AppData\\Local\\Temp\\ipykernel_10612\\1021957334.py:599: FutureWarning:\n",
      "\n",
      "The behavior of DataFrame concatenation with empty or all-NA entries is deprecated. In a future version, this will no longer exclude empty or all-NA columns when determining the result dtypes. To retain the old behavior, exclude the relevant entries before the concat operation.\n",
      "\n",
      "C:\\Users\\quirosgu\\AppData\\Local\\Temp\\ipykernel_10612\\1021957334.py:599: FutureWarning:\n",
      "\n",
      "The behavior of DataFrame concatenation with empty or all-NA entries is deprecated. In a future version, this will no longer exclude empty or all-NA columns when determining the result dtypes. To retain the old behavior, exclude the relevant entries before the concat operation.\n",
      "\n",
      "C:\\Users\\quirosgu\\AppData\\Local\\Temp\\ipykernel_10612\\1021957334.py:599: FutureWarning:\n",
      "\n",
      "The behavior of DataFrame concatenation with empty or all-NA entries is deprecated. In a future version, this will no longer exclude empty or all-NA columns when determining the result dtypes. To retain the old behavior, exclude the relevant entries before the concat operation.\n",
      "\n",
      "C:\\Users\\quirosgu\\AppData\\Local\\Temp\\ipykernel_10612\\1021957334.py:599: FutureWarning:\n",
      "\n",
      "The behavior of DataFrame concatenation with empty or all-NA entries is deprecated. In a future version, this will no longer exclude empty or all-NA columns when determining the result dtypes. To retain the old behavior, exclude the relevant entries before the concat operation.\n",
      "\n",
      "C:\\Users\\quirosgu\\AppData\\Local\\Temp\\ipykernel_10612\\1021957334.py:599: FutureWarning:\n",
      "\n",
      "The behavior of DataFrame concatenation with empty or all-NA entries is deprecated. In a future version, this will no longer exclude empty or all-NA columns when determining the result dtypes. To retain the old behavior, exclude the relevant entries before the concat operation.\n",
      "\n",
      "C:\\Users\\quirosgu\\AppData\\Local\\Temp\\ipykernel_10612\\1021957334.py:599: FutureWarning:\n",
      "\n",
      "The behavior of DataFrame concatenation with empty or all-NA entries is deprecated. In a future version, this will no longer exclude empty or all-NA columns when determining the result dtypes. To retain the old behavior, exclude the relevant entries before the concat operation.\n",
      "\n",
      "C:\\Users\\quirosgu\\AppData\\Local\\Temp\\ipykernel_10612\\1021957334.py:599: FutureWarning:\n",
      "\n",
      "The behavior of DataFrame concatenation with empty or all-NA entries is deprecated. In a future version, this will no longer exclude empty or all-NA columns when determining the result dtypes. To retain the old behavior, exclude the relevant entries before the concat operation.\n",
      "\n",
      "C:\\Users\\quirosgu\\AppData\\Local\\Temp\\ipykernel_10612\\1021957334.py:599: FutureWarning:\n",
      "\n",
      "The behavior of DataFrame concatenation with empty or all-NA entries is deprecated. In a future version, this will no longer exclude empty or all-NA columns when determining the result dtypes. To retain the old behavior, exclude the relevant entries before the concat operation.\n",
      "\n",
      "C:\\Users\\quirosgu\\AppData\\Local\\Temp\\ipykernel_10612\\1021957334.py:599: FutureWarning:\n",
      "\n",
      "The behavior of DataFrame concatenation with empty or all-NA entries is deprecated. In a future version, this will no longer exclude empty or all-NA columns when determining the result dtypes. To retain the old behavior, exclude the relevant entries before the concat operation.\n",
      "\n",
      "C:\\Users\\quirosgu\\AppData\\Local\\Temp\\ipykernel_10612\\1021957334.py:599: FutureWarning:\n",
      "\n",
      "The behavior of DataFrame concatenation with empty or all-NA entries is deprecated. In a future version, this will no longer exclude empty or all-NA columns when determining the result dtypes. To retain the old behavior, exclude the relevant entries before the concat operation.\n",
      "\n",
      "C:\\Users\\quirosgu\\AppData\\Local\\Temp\\ipykernel_10612\\1021957334.py:599: FutureWarning:\n",
      "\n",
      "The behavior of DataFrame concatenation with empty or all-NA entries is deprecated. In a future version, this will no longer exclude empty or all-NA columns when determining the result dtypes. To retain the old behavior, exclude the relevant entries before the concat operation.\n",
      "\n",
      "C:\\Users\\quirosgu\\AppData\\Local\\Temp\\ipykernel_10612\\1021957334.py:599: FutureWarning:\n",
      "\n",
      "The behavior of DataFrame concatenation with empty or all-NA entries is deprecated. In a future version, this will no longer exclude empty or all-NA columns when determining the result dtypes. To retain the old behavior, exclude the relevant entries before the concat operation.\n",
      "\n",
      "C:\\Users\\quirosgu\\AppData\\Local\\Temp\\ipykernel_10612\\1021957334.py:599: FutureWarning:\n",
      "\n",
      "The behavior of DataFrame concatenation with empty or all-NA entries is deprecated. In a future version, this will no longer exclude empty or all-NA columns when determining the result dtypes. To retain the old behavior, exclude the relevant entries before the concat operation.\n",
      "\n",
      "C:\\Users\\quirosgu\\AppData\\Local\\Temp\\ipykernel_10612\\1021957334.py:599: FutureWarning:\n",
      "\n",
      "The behavior of DataFrame concatenation with empty or all-NA entries is deprecated. In a future version, this will no longer exclude empty or all-NA columns when determining the result dtypes. To retain the old behavior, exclude the relevant entries before the concat operation.\n",
      "\n",
      "C:\\Users\\quirosgu\\AppData\\Local\\Temp\\ipykernel_10612\\1021957334.py:599: FutureWarning:\n",
      "\n",
      "The behavior of DataFrame concatenation with empty or all-NA entries is deprecated. In a future version, this will no longer exclude empty or all-NA columns when determining the result dtypes. To retain the old behavior, exclude the relevant entries before the concat operation.\n",
      "\n",
      "C:\\Users\\quirosgu\\AppData\\Local\\Temp\\ipykernel_10612\\1021957334.py:599: FutureWarning:\n",
      "\n",
      "The behavior of DataFrame concatenation with empty or all-NA entries is deprecated. In a future version, this will no longer exclude empty or all-NA columns when determining the result dtypes. To retain the old behavior, exclude the relevant entries before the concat operation.\n",
      "\n",
      "C:\\Users\\quirosgu\\AppData\\Local\\Temp\\ipykernel_10612\\1021957334.py:599: FutureWarning:\n",
      "\n",
      "The behavior of DataFrame concatenation with empty or all-NA entries is deprecated. In a future version, this will no longer exclude empty or all-NA columns when determining the result dtypes. To retain the old behavior, exclude the relevant entries before the concat operation.\n",
      "\n",
      "C:\\Users\\quirosgu\\AppData\\Local\\Temp\\ipykernel_10612\\1021957334.py:599: FutureWarning:\n",
      "\n",
      "The behavior of DataFrame concatenation with empty or all-NA entries is deprecated. In a future version, this will no longer exclude empty or all-NA columns when determining the result dtypes. To retain the old behavior, exclude the relevant entries before the concat operation.\n",
      "\n",
      "C:\\Users\\quirosgu\\AppData\\Local\\Temp\\ipykernel_10612\\1021957334.py:599: FutureWarning:\n",
      "\n",
      "The behavior of DataFrame concatenation with empty or all-NA entries is deprecated. In a future version, this will no longer exclude empty or all-NA columns when determining the result dtypes. To retain the old behavior, exclude the relevant entries before the concat operation.\n",
      "\n",
      "C:\\Users\\quirosgu\\AppData\\Local\\Temp\\ipykernel_10612\\1021957334.py:599: FutureWarning:\n",
      "\n",
      "The behavior of DataFrame concatenation with empty or all-NA entries is deprecated. In a future version, this will no longer exclude empty or all-NA columns when determining the result dtypes. To retain the old behavior, exclude the relevant entries before the concat operation.\n",
      "\n",
      "C:\\Users\\quirosgu\\AppData\\Local\\Temp\\ipykernel_10612\\1021957334.py:599: FutureWarning:\n",
      "\n",
      "The behavior of DataFrame concatenation with empty or all-NA entries is deprecated. In a future version, this will no longer exclude empty or all-NA columns when determining the result dtypes. To retain the old behavior, exclude the relevant entries before the concat operation.\n",
      "\n",
      "C:\\Users\\quirosgu\\AppData\\Local\\Temp\\ipykernel_10612\\1021957334.py:599: FutureWarning:\n",
      "\n",
      "The behavior of DataFrame concatenation with empty or all-NA entries is deprecated. In a future version, this will no longer exclude empty or all-NA columns when determining the result dtypes. To retain the old behavior, exclude the relevant entries before the concat operation.\n",
      "\n",
      "C:\\Users\\quirosgu\\AppData\\Local\\Temp\\ipykernel_10612\\1021957334.py:599: FutureWarning:\n",
      "\n",
      "The behavior of DataFrame concatenation with empty or all-NA entries is deprecated. In a future version, this will no longer exclude empty or all-NA columns when determining the result dtypes. To retain the old behavior, exclude the relevant entries before the concat operation.\n",
      "\n",
      "C:\\Users\\quirosgu\\AppData\\Local\\Temp\\ipykernel_10612\\1021957334.py:599: FutureWarning:\n",
      "\n",
      "The behavior of DataFrame concatenation with empty or all-NA entries is deprecated. In a future version, this will no longer exclude empty or all-NA columns when determining the result dtypes. To retain the old behavior, exclude the relevant entries before the concat operation.\n",
      "\n",
      "C:\\Users\\quirosgu\\AppData\\Local\\Temp\\ipykernel_10612\\1021957334.py:599: FutureWarning:\n",
      "\n",
      "The behavior of DataFrame concatenation with empty or all-NA entries is deprecated. In a future version, this will no longer exclude empty or all-NA columns when determining the result dtypes. To retain the old behavior, exclude the relevant entries before the concat operation.\n",
      "\n",
      "C:\\Users\\quirosgu\\AppData\\Local\\Temp\\ipykernel_10612\\1021957334.py:599: FutureWarning:\n",
      "\n",
      "The behavior of DataFrame concatenation with empty or all-NA entries is deprecated. In a future version, this will no longer exclude empty or all-NA columns when determining the result dtypes. To retain the old behavior, exclude the relevant entries before the concat operation.\n",
      "\n",
      "C:\\Users\\quirosgu\\AppData\\Local\\Temp\\ipykernel_10612\\1021957334.py:599: FutureWarning:\n",
      "\n",
      "The behavior of DataFrame concatenation with empty or all-NA entries is deprecated. In a future version, this will no longer exclude empty or all-NA columns when determining the result dtypes. To retain the old behavior, exclude the relevant entries before the concat operation.\n",
      "\n",
      "C:\\Users\\quirosgu\\AppData\\Local\\Temp\\ipykernel_10612\\1021957334.py:599: FutureWarning:\n",
      "\n",
      "The behavior of DataFrame concatenation with empty or all-NA entries is deprecated. In a future version, this will no longer exclude empty or all-NA columns when determining the result dtypes. To retain the old behavior, exclude the relevant entries before the concat operation.\n",
      "\n",
      "C:\\Users\\quirosgu\\AppData\\Local\\Temp\\ipykernel_10612\\1021957334.py:599: FutureWarning:\n",
      "\n",
      "The behavior of DataFrame concatenation with empty or all-NA entries is deprecated. In a future version, this will no longer exclude empty or all-NA columns when determining the result dtypes. To retain the old behavior, exclude the relevant entries before the concat operation.\n",
      "\n",
      "C:\\Users\\quirosgu\\AppData\\Local\\Temp\\ipykernel_10612\\1021957334.py:599: FutureWarning:\n",
      "\n",
      "The behavior of DataFrame concatenation with empty or all-NA entries is deprecated. In a future version, this will no longer exclude empty or all-NA columns when determining the result dtypes. To retain the old behavior, exclude the relevant entries before the concat operation.\n",
      "\n",
      "C:\\Users\\quirosgu\\AppData\\Local\\Temp\\ipykernel_10612\\1021957334.py:599: FutureWarning:\n",
      "\n",
      "The behavior of DataFrame concatenation with empty or all-NA entries is deprecated. In a future version, this will no longer exclude empty or all-NA columns when determining the result dtypes. To retain the old behavior, exclude the relevant entries before the concat operation.\n",
      "\n",
      "C:\\Users\\quirosgu\\AppData\\Local\\Temp\\ipykernel_10612\\1021957334.py:599: FutureWarning:\n",
      "\n",
      "The behavior of DataFrame concatenation with empty or all-NA entries is deprecated. In a future version, this will no longer exclude empty or all-NA columns when determining the result dtypes. To retain the old behavior, exclude the relevant entries before the concat operation.\n",
      "\n",
      "C:\\Users\\quirosgu\\AppData\\Local\\Temp\\ipykernel_10612\\1021957334.py:599: FutureWarning:\n",
      "\n",
      "The behavior of DataFrame concatenation with empty or all-NA entries is deprecated. In a future version, this will no longer exclude empty or all-NA columns when determining the result dtypes. To retain the old behavior, exclude the relevant entries before the concat operation.\n",
      "\n",
      "C:\\Users\\quirosgu\\AppData\\Local\\Temp\\ipykernel_10612\\1021957334.py:599: FutureWarning:\n",
      "\n",
      "The behavior of DataFrame concatenation with empty or all-NA entries is deprecated. In a future version, this will no longer exclude empty or all-NA columns when determining the result dtypes. To retain the old behavior, exclude the relevant entries before the concat operation.\n",
      "\n",
      "C:\\Users\\quirosgu\\AppData\\Local\\Temp\\ipykernel_10612\\1021957334.py:599: FutureWarning:\n",
      "\n",
      "The behavior of DataFrame concatenation with empty or all-NA entries is deprecated. In a future version, this will no longer exclude empty or all-NA columns when determining the result dtypes. To retain the old behavior, exclude the relevant entries before the concat operation.\n",
      "\n",
      "C:\\Users\\quirosgu\\AppData\\Local\\Temp\\ipykernel_10612\\1021957334.py:599: FutureWarning:\n",
      "\n",
      "The behavior of DataFrame concatenation with empty or all-NA entries is deprecated. In a future version, this will no longer exclude empty or all-NA columns when determining the result dtypes. To retain the old behavior, exclude the relevant entries before the concat operation.\n",
      "\n",
      "C:\\Users\\quirosgu\\AppData\\Local\\Temp\\ipykernel_10612\\1021957334.py:599: FutureWarning:\n",
      "\n",
      "The behavior of DataFrame concatenation with empty or all-NA entries is deprecated. In a future version, this will no longer exclude empty or all-NA columns when determining the result dtypes. To retain the old behavior, exclude the relevant entries before the concat operation.\n",
      "\n",
      "C:\\Users\\quirosgu\\AppData\\Local\\Temp\\ipykernel_10612\\1021957334.py:599: FutureWarning:\n",
      "\n",
      "The behavior of DataFrame concatenation with empty or all-NA entries is deprecated. In a future version, this will no longer exclude empty or all-NA columns when determining the result dtypes. To retain the old behavior, exclude the relevant entries before the concat operation.\n",
      "\n",
      "C:\\Users\\quirosgu\\AppData\\Local\\Temp\\ipykernel_10612\\1021957334.py:599: FutureWarning:\n",
      "\n",
      "The behavior of DataFrame concatenation with empty or all-NA entries is deprecated. In a future version, this will no longer exclude empty or all-NA columns when determining the result dtypes. To retain the old behavior, exclude the relevant entries before the concat operation.\n",
      "\n",
      "C:\\Users\\quirosgu\\AppData\\Local\\Temp\\ipykernel_10612\\1021957334.py:599: FutureWarning:\n",
      "\n",
      "The behavior of DataFrame concatenation with empty or all-NA entries is deprecated. In a future version, this will no longer exclude empty or all-NA columns when determining the result dtypes. To retain the old behavior, exclude the relevant entries before the concat operation.\n",
      "\n",
      "C:\\Users\\quirosgu\\AppData\\Local\\Temp\\ipykernel_10612\\1021957334.py:599: FutureWarning:\n",
      "\n",
      "The behavior of DataFrame concatenation with empty or all-NA entries is deprecated. In a future version, this will no longer exclude empty or all-NA columns when determining the result dtypes. To retain the old behavior, exclude the relevant entries before the concat operation.\n",
      "\n",
      "C:\\Users\\quirosgu\\AppData\\Local\\Temp\\ipykernel_10612\\1021957334.py:599: FutureWarning:\n",
      "\n",
      "The behavior of DataFrame concatenation with empty or all-NA entries is deprecated. In a future version, this will no longer exclude empty or all-NA columns when determining the result dtypes. To retain the old behavior, exclude the relevant entries before the concat operation.\n",
      "\n",
      "C:\\Users\\quirosgu\\AppData\\Local\\Temp\\ipykernel_10612\\1021957334.py:599: FutureWarning:\n",
      "\n",
      "The behavior of DataFrame concatenation with empty or all-NA entries is deprecated. In a future version, this will no longer exclude empty or all-NA columns when determining the result dtypes. To retain the old behavior, exclude the relevant entries before the concat operation.\n",
      "\n",
      "C:\\Users\\quirosgu\\AppData\\Local\\Temp\\ipykernel_10612\\1021957334.py:599: FutureWarning:\n",
      "\n",
      "The behavior of DataFrame concatenation with empty or all-NA entries is deprecated. In a future version, this will no longer exclude empty or all-NA columns when determining the result dtypes. To retain the old behavior, exclude the relevant entries before the concat operation.\n",
      "\n",
      "C:\\Users\\quirosgu\\AppData\\Local\\Temp\\ipykernel_10612\\1021957334.py:599: FutureWarning:\n",
      "\n",
      "The behavior of DataFrame concatenation with empty or all-NA entries is deprecated. In a future version, this will no longer exclude empty or all-NA columns when determining the result dtypes. To retain the old behavior, exclude the relevant entries before the concat operation.\n",
      "\n",
      "C:\\Users\\quirosgu\\AppData\\Local\\Temp\\ipykernel_10612\\1021957334.py:599: FutureWarning:\n",
      "\n",
      "The behavior of DataFrame concatenation with empty or all-NA entries is deprecated. In a future version, this will no longer exclude empty or all-NA columns when determining the result dtypes. To retain the old behavior, exclude the relevant entries before the concat operation.\n",
      "\n",
      "C:\\Users\\quirosgu\\AppData\\Local\\Temp\\ipykernel_10612\\1021957334.py:599: FutureWarning:\n",
      "\n",
      "The behavior of DataFrame concatenation with empty or all-NA entries is deprecated. In a future version, this will no longer exclude empty or all-NA columns when determining the result dtypes. To retain the old behavior, exclude the relevant entries before the concat operation.\n",
      "\n",
      "C:\\Users\\quirosgu\\AppData\\Local\\Temp\\ipykernel_10612\\1021957334.py:599: FutureWarning:\n",
      "\n",
      "The behavior of DataFrame concatenation with empty or all-NA entries is deprecated. In a future version, this will no longer exclude empty or all-NA columns when determining the result dtypes. To retain the old behavior, exclude the relevant entries before the concat operation.\n",
      "\n",
      "C:\\Users\\quirosgu\\AppData\\Local\\Temp\\ipykernel_10612\\1021957334.py:599: FutureWarning:\n",
      "\n",
      "The behavior of DataFrame concatenation with empty or all-NA entries is deprecated. In a future version, this will no longer exclude empty or all-NA columns when determining the result dtypes. To retain the old behavior, exclude the relevant entries before the concat operation.\n",
      "\n",
      "C:\\Users\\quirosgu\\AppData\\Local\\Temp\\ipykernel_10612\\1021957334.py:599: FutureWarning:\n",
      "\n",
      "The behavior of DataFrame concatenation with empty or all-NA entries is deprecated. In a future version, this will no longer exclude empty or all-NA columns when determining the result dtypes. To retain the old behavior, exclude the relevant entries before the concat operation.\n",
      "\n",
      "C:\\Users\\quirosgu\\AppData\\Local\\Temp\\ipykernel_10612\\1021957334.py:599: FutureWarning:\n",
      "\n",
      "The behavior of DataFrame concatenation with empty or all-NA entries is deprecated. In a future version, this will no longer exclude empty or all-NA columns when determining the result dtypes. To retain the old behavior, exclude the relevant entries before the concat operation.\n",
      "\n",
      "C:\\Users\\quirosgu\\AppData\\Local\\Temp\\ipykernel_10612\\1021957334.py:599: FutureWarning:\n",
      "\n",
      "The behavior of DataFrame concatenation with empty or all-NA entries is deprecated. In a future version, this will no longer exclude empty or all-NA columns when determining the result dtypes. To retain the old behavior, exclude the relevant entries before the concat operation.\n",
      "\n",
      "C:\\Users\\quirosgu\\AppData\\Local\\Temp\\ipykernel_10612\\1021957334.py:599: FutureWarning:\n",
      "\n",
      "The behavior of DataFrame concatenation with empty or all-NA entries is deprecated. In a future version, this will no longer exclude empty or all-NA columns when determining the result dtypes. To retain the old behavior, exclude the relevant entries before the concat operation.\n",
      "\n",
      "C:\\Users\\quirosgu\\AppData\\Local\\Temp\\ipykernel_10612\\1021957334.py:599: FutureWarning:\n",
      "\n",
      "The behavior of DataFrame concatenation with empty or all-NA entries is deprecated. In a future version, this will no longer exclude empty or all-NA columns when determining the result dtypes. To retain the old behavior, exclude the relevant entries before the concat operation.\n",
      "\n",
      "C:\\Users\\quirosgu\\AppData\\Local\\Temp\\ipykernel_10612\\1021957334.py:599: FutureWarning:\n",
      "\n",
      "The behavior of DataFrame concatenation with empty or all-NA entries is deprecated. In a future version, this will no longer exclude empty or all-NA columns when determining the result dtypes. To retain the old behavior, exclude the relevant entries before the concat operation.\n",
      "\n",
      "C:\\Users\\quirosgu\\AppData\\Local\\Temp\\ipykernel_10612\\1021957334.py:599: FutureWarning:\n",
      "\n",
      "The behavior of DataFrame concatenation with empty or all-NA entries is deprecated. In a future version, this will no longer exclude empty or all-NA columns when determining the result dtypes. To retain the old behavior, exclude the relevant entries before the concat operation.\n",
      "\n",
      "C:\\Users\\quirosgu\\AppData\\Local\\Temp\\ipykernel_10612\\1021957334.py:599: FutureWarning:\n",
      "\n",
      "The behavior of DataFrame concatenation with empty or all-NA entries is deprecated. In a future version, this will no longer exclude empty or all-NA columns when determining the result dtypes. To retain the old behavior, exclude the relevant entries before the concat operation.\n",
      "\n",
      "C:\\Users\\quirosgu\\AppData\\Local\\Temp\\ipykernel_10612\\1021957334.py:599: FutureWarning:\n",
      "\n",
      "The behavior of DataFrame concatenation with empty or all-NA entries is deprecated. In a future version, this will no longer exclude empty or all-NA columns when determining the result dtypes. To retain the old behavior, exclude the relevant entries before the concat operation.\n",
      "\n",
      "C:\\Users\\quirosgu\\AppData\\Local\\Temp\\ipykernel_10612\\1021957334.py:599: FutureWarning:\n",
      "\n",
      "The behavior of DataFrame concatenation with empty or all-NA entries is deprecated. In a future version, this will no longer exclude empty or all-NA columns when determining the result dtypes. To retain the old behavior, exclude the relevant entries before the concat operation.\n",
      "\n",
      "C:\\Users\\quirosgu\\AppData\\Local\\Temp\\ipykernel_10612\\1021957334.py:599: FutureWarning:\n",
      "\n",
      "The behavior of DataFrame concatenation with empty or all-NA entries is deprecated. In a future version, this will no longer exclude empty or all-NA columns when determining the result dtypes. To retain the old behavior, exclude the relevant entries before the concat operation.\n",
      "\n",
      "C:\\Users\\quirosgu\\AppData\\Local\\Temp\\ipykernel_10612\\1021957334.py:599: FutureWarning:\n",
      "\n",
      "The behavior of DataFrame concatenation with empty or all-NA entries is deprecated. In a future version, this will no longer exclude empty or all-NA columns when determining the result dtypes. To retain the old behavior, exclude the relevant entries before the concat operation.\n",
      "\n",
      "C:\\Users\\quirosgu\\AppData\\Local\\Temp\\ipykernel_10612\\1021957334.py:599: FutureWarning:\n",
      "\n",
      "The behavior of DataFrame concatenation with empty or all-NA entries is deprecated. In a future version, this will no longer exclude empty or all-NA columns when determining the result dtypes. To retain the old behavior, exclude the relevant entries before the concat operation.\n",
      "\n",
      "C:\\Users\\quirosgu\\AppData\\Local\\Temp\\ipykernel_10612\\1021957334.py:599: FutureWarning:\n",
      "\n",
      "The behavior of DataFrame concatenation with empty or all-NA entries is deprecated. In a future version, this will no longer exclude empty or all-NA columns when determining the result dtypes. To retain the old behavior, exclude the relevant entries before the concat operation.\n",
      "\n",
      "C:\\Users\\quirosgu\\AppData\\Local\\Temp\\ipykernel_10612\\1021957334.py:599: FutureWarning:\n",
      "\n",
      "The behavior of DataFrame concatenation with empty or all-NA entries is deprecated. In a future version, this will no longer exclude empty or all-NA columns when determining the result dtypes. To retain the old behavior, exclude the relevant entries before the concat operation.\n",
      "\n",
      "C:\\Users\\quirosgu\\AppData\\Local\\Temp\\ipykernel_10612\\1021957334.py:599: FutureWarning:\n",
      "\n",
      "The behavior of DataFrame concatenation with empty or all-NA entries is deprecated. In a future version, this will no longer exclude empty or all-NA columns when determining the result dtypes. To retain the old behavior, exclude the relevant entries before the concat operation.\n",
      "\n",
      "C:\\Users\\quirosgu\\AppData\\Local\\Temp\\ipykernel_10612\\1021957334.py:599: FutureWarning:\n",
      "\n",
      "The behavior of DataFrame concatenation with empty or all-NA entries is deprecated. In a future version, this will no longer exclude empty or all-NA columns when determining the result dtypes. To retain the old behavior, exclude the relevant entries before the concat operation.\n",
      "\n",
      "C:\\Users\\quirosgu\\AppData\\Local\\Temp\\ipykernel_10612\\1021957334.py:599: FutureWarning:\n",
      "\n",
      "The behavior of DataFrame concatenation with empty or all-NA entries is deprecated. In a future version, this will no longer exclude empty or all-NA columns when determining the result dtypes. To retain the old behavior, exclude the relevant entries before the concat operation.\n",
      "\n",
      "C:\\Users\\quirosgu\\AppData\\Local\\Temp\\ipykernel_10612\\1021957334.py:599: FutureWarning:\n",
      "\n",
      "The behavior of DataFrame concatenation with empty or all-NA entries is deprecated. In a future version, this will no longer exclude empty or all-NA columns when determining the result dtypes. To retain the old behavior, exclude the relevant entries before the concat operation.\n",
      "\n",
      "C:\\Users\\quirosgu\\AppData\\Local\\Temp\\ipykernel_10612\\1021957334.py:599: FutureWarning:\n",
      "\n",
      "The behavior of DataFrame concatenation with empty or all-NA entries is deprecated. In a future version, this will no longer exclude empty or all-NA columns when determining the result dtypes. To retain the old behavior, exclude the relevant entries before the concat operation.\n",
      "\n",
      "C:\\Users\\quirosgu\\AppData\\Local\\Temp\\ipykernel_10612\\1021957334.py:599: FutureWarning:\n",
      "\n",
      "The behavior of DataFrame concatenation with empty or all-NA entries is deprecated. In a future version, this will no longer exclude empty or all-NA columns when determining the result dtypes. To retain the old behavior, exclude the relevant entries before the concat operation.\n",
      "\n",
      "C:\\Users\\quirosgu\\AppData\\Local\\Temp\\ipykernel_10612\\1021957334.py:599: FutureWarning:\n",
      "\n",
      "The behavior of DataFrame concatenation with empty or all-NA entries is deprecated. In a future version, this will no longer exclude empty or all-NA columns when determining the result dtypes. To retain the old behavior, exclude the relevant entries before the concat operation.\n",
      "\n",
      "C:\\Users\\quirosgu\\AppData\\Local\\Temp\\ipykernel_10612\\1021957334.py:599: FutureWarning:\n",
      "\n",
      "The behavior of DataFrame concatenation with empty or all-NA entries is deprecated. In a future version, this will no longer exclude empty or all-NA columns when determining the result dtypes. To retain the old behavior, exclude the relevant entries before the concat operation.\n",
      "\n",
      "C:\\Users\\quirosgu\\AppData\\Local\\Temp\\ipykernel_10612\\1021957334.py:599: FutureWarning:\n",
      "\n",
      "The behavior of DataFrame concatenation with empty or all-NA entries is deprecated. In a future version, this will no longer exclude empty or all-NA columns when determining the result dtypes. To retain the old behavior, exclude the relevant entries before the concat operation.\n",
      "\n",
      "C:\\Users\\quirosgu\\AppData\\Local\\Temp\\ipykernel_10612\\1021957334.py:599: FutureWarning:\n",
      "\n",
      "The behavior of DataFrame concatenation with empty or all-NA entries is deprecated. In a future version, this will no longer exclude empty or all-NA columns when determining the result dtypes. To retain the old behavior, exclude the relevant entries before the concat operation.\n",
      "\n",
      "C:\\Users\\quirosgu\\AppData\\Local\\Temp\\ipykernel_10612\\1021957334.py:599: FutureWarning:\n",
      "\n",
      "The behavior of DataFrame concatenation with empty or all-NA entries is deprecated. In a future version, this will no longer exclude empty or all-NA columns when determining the result dtypes. To retain the old behavior, exclude the relevant entries before the concat operation.\n",
      "\n",
      "C:\\Users\\quirosgu\\AppData\\Local\\Temp\\ipykernel_10612\\1021957334.py:599: FutureWarning:\n",
      "\n",
      "The behavior of DataFrame concatenation with empty or all-NA entries is deprecated. In a future version, this will no longer exclude empty or all-NA columns when determining the result dtypes. To retain the old behavior, exclude the relevant entries before the concat operation.\n",
      "\n",
      "C:\\Users\\quirosgu\\AppData\\Local\\Temp\\ipykernel_10612\\1021957334.py:599: FutureWarning:\n",
      "\n",
      "The behavior of DataFrame concatenation with empty or all-NA entries is deprecated. In a future version, this will no longer exclude empty or all-NA columns when determining the result dtypes. To retain the old behavior, exclude the relevant entries before the concat operation.\n",
      "\n",
      "C:\\Users\\quirosgu\\AppData\\Local\\Temp\\ipykernel_10612\\1021957334.py:599: FutureWarning:\n",
      "\n",
      "The behavior of DataFrame concatenation with empty or all-NA entries is deprecated. In a future version, this will no longer exclude empty or all-NA columns when determining the result dtypes. To retain the old behavior, exclude the relevant entries before the concat operation.\n",
      "\n",
      "C:\\Users\\quirosgu\\AppData\\Local\\Temp\\ipykernel_10612\\1021957334.py:599: FutureWarning:\n",
      "\n",
      "The behavior of DataFrame concatenation with empty or all-NA entries is deprecated. In a future version, this will no longer exclude empty or all-NA columns when determining the result dtypes. To retain the old behavior, exclude the relevant entries before the concat operation.\n",
      "\n",
      "C:\\Users\\quirosgu\\AppData\\Local\\Temp\\ipykernel_10612\\1021957334.py:599: FutureWarning:\n",
      "\n",
      "The behavior of DataFrame concatenation with empty or all-NA entries is deprecated. In a future version, this will no longer exclude empty or all-NA columns when determining the result dtypes. To retain the old behavior, exclude the relevant entries before the concat operation.\n",
      "\n",
      "C:\\Users\\quirosgu\\AppData\\Local\\Temp\\ipykernel_10612\\1021957334.py:599: FutureWarning:\n",
      "\n",
      "The behavior of DataFrame concatenation with empty or all-NA entries is deprecated. In a future version, this will no longer exclude empty or all-NA columns when determining the result dtypes. To retain the old behavior, exclude the relevant entries before the concat operation.\n",
      "\n",
      "C:\\Users\\quirosgu\\AppData\\Local\\Temp\\ipykernel_10612\\1021957334.py:599: FutureWarning:\n",
      "\n",
      "The behavior of DataFrame concatenation with empty or all-NA entries is deprecated. In a future version, this will no longer exclude empty or all-NA columns when determining the result dtypes. To retain the old behavior, exclude the relevant entries before the concat operation.\n",
      "\n",
      "C:\\Users\\quirosgu\\AppData\\Local\\Temp\\ipykernel_10612\\1021957334.py:599: FutureWarning:\n",
      "\n",
      "The behavior of DataFrame concatenation with empty or all-NA entries is deprecated. In a future version, this will no longer exclude empty or all-NA columns when determining the result dtypes. To retain the old behavior, exclude the relevant entries before the concat operation.\n",
      "\n",
      "C:\\Users\\quirosgu\\AppData\\Local\\Temp\\ipykernel_10612\\1021957334.py:599: FutureWarning:\n",
      "\n",
      "The behavior of DataFrame concatenation with empty or all-NA entries is deprecated. In a future version, this will no longer exclude empty or all-NA columns when determining the result dtypes. To retain the old behavior, exclude the relevant entries before the concat operation.\n",
      "\n",
      "C:\\Users\\quirosgu\\AppData\\Local\\Temp\\ipykernel_10612\\1021957334.py:599: FutureWarning:\n",
      "\n",
      "The behavior of DataFrame concatenation with empty or all-NA entries is deprecated. In a future version, this will no longer exclude empty or all-NA columns when determining the result dtypes. To retain the old behavior, exclude the relevant entries before the concat operation.\n",
      "\n",
      "C:\\Users\\quirosgu\\AppData\\Local\\Temp\\ipykernel_10612\\1021957334.py:599: FutureWarning:\n",
      "\n",
      "The behavior of DataFrame concatenation with empty or all-NA entries is deprecated. In a future version, this will no longer exclude empty or all-NA columns when determining the result dtypes. To retain the old behavior, exclude the relevant entries before the concat operation.\n",
      "\n",
      "C:\\Users\\quirosgu\\AppData\\Local\\Temp\\ipykernel_10612\\1021957334.py:599: FutureWarning:\n",
      "\n",
      "The behavior of DataFrame concatenation with empty or all-NA entries is deprecated. In a future version, this will no longer exclude empty or all-NA columns when determining the result dtypes. To retain the old behavior, exclude the relevant entries before the concat operation.\n",
      "\n",
      "C:\\Users\\quirosgu\\AppData\\Local\\Temp\\ipykernel_10612\\1021957334.py:599: FutureWarning:\n",
      "\n",
      "The behavior of DataFrame concatenation with empty or all-NA entries is deprecated. In a future version, this will no longer exclude empty or all-NA columns when determining the result dtypes. To retain the old behavior, exclude the relevant entries before the concat operation.\n",
      "\n",
      "C:\\Users\\quirosgu\\AppData\\Local\\Temp\\ipykernel_10612\\1021957334.py:599: FutureWarning:\n",
      "\n",
      "The behavior of DataFrame concatenation with empty or all-NA entries is deprecated. In a future version, this will no longer exclude empty or all-NA columns when determining the result dtypes. To retain the old behavior, exclude the relevant entries before the concat operation.\n",
      "\n",
      "C:\\Users\\quirosgu\\AppData\\Local\\Temp\\ipykernel_10612\\1021957334.py:599: FutureWarning:\n",
      "\n",
      "The behavior of DataFrame concatenation with empty or all-NA entries is deprecated. In a future version, this will no longer exclude empty or all-NA columns when determining the result dtypes. To retain the old behavior, exclude the relevant entries before the concat operation.\n",
      "\n",
      "C:\\Users\\quirosgu\\AppData\\Local\\Temp\\ipykernel_10612\\1021957334.py:599: FutureWarning:\n",
      "\n",
      "The behavior of DataFrame concatenation with empty or all-NA entries is deprecated. In a future version, this will no longer exclude empty or all-NA columns when determining the result dtypes. To retain the old behavior, exclude the relevant entries before the concat operation.\n",
      "\n",
      "C:\\Users\\quirosgu\\AppData\\Local\\Temp\\ipykernel_10612\\1021957334.py:599: FutureWarning:\n",
      "\n",
      "The behavior of DataFrame concatenation with empty or all-NA entries is deprecated. In a future version, this will no longer exclude empty or all-NA columns when determining the result dtypes. To retain the old behavior, exclude the relevant entries before the concat operation.\n",
      "\n",
      "C:\\Users\\quirosgu\\AppData\\Local\\Temp\\ipykernel_10612\\1021957334.py:599: FutureWarning:\n",
      "\n",
      "The behavior of DataFrame concatenation with empty or all-NA entries is deprecated. In a future version, this will no longer exclude empty or all-NA columns when determining the result dtypes. To retain the old behavior, exclude the relevant entries before the concat operation.\n",
      "\n",
      "C:\\Users\\quirosgu\\AppData\\Local\\Temp\\ipykernel_10612\\1021957334.py:599: FutureWarning:\n",
      "\n",
      "The behavior of DataFrame concatenation with empty or all-NA entries is deprecated. In a future version, this will no longer exclude empty or all-NA columns when determining the result dtypes. To retain the old behavior, exclude the relevant entries before the concat operation.\n",
      "\n",
      "C:\\Users\\quirosgu\\AppData\\Local\\Temp\\ipykernel_10612\\1021957334.py:599: FutureWarning:\n",
      "\n",
      "The behavior of DataFrame concatenation with empty or all-NA entries is deprecated. In a future version, this will no longer exclude empty or all-NA columns when determining the result dtypes. To retain the old behavior, exclude the relevant entries before the concat operation.\n",
      "\n",
      "C:\\Users\\quirosgu\\AppData\\Local\\Temp\\ipykernel_10612\\1021957334.py:599: FutureWarning:\n",
      "\n",
      "The behavior of DataFrame concatenation with empty or all-NA entries is deprecated. In a future version, this will no longer exclude empty or all-NA columns when determining the result dtypes. To retain the old behavior, exclude the relevant entries before the concat operation.\n",
      "\n",
      "C:\\Users\\quirosgu\\AppData\\Local\\Temp\\ipykernel_10612\\1021957334.py:599: FutureWarning:\n",
      "\n",
      "The behavior of DataFrame concatenation with empty or all-NA entries is deprecated. In a future version, this will no longer exclude empty or all-NA columns when determining the result dtypes. To retain the old behavior, exclude the relevant entries before the concat operation.\n",
      "\n",
      "C:\\Users\\quirosgu\\AppData\\Local\\Temp\\ipykernel_10612\\1021957334.py:599: FutureWarning:\n",
      "\n",
      "The behavior of DataFrame concatenation with empty or all-NA entries is deprecated. In a future version, this will no longer exclude empty or all-NA columns when determining the result dtypes. To retain the old behavior, exclude the relevant entries before the concat operation.\n",
      "\n",
      "C:\\Users\\quirosgu\\AppData\\Local\\Temp\\ipykernel_10612\\1021957334.py:599: FutureWarning:\n",
      "\n",
      "The behavior of DataFrame concatenation with empty or all-NA entries is deprecated. In a future version, this will no longer exclude empty or all-NA columns when determining the result dtypes. To retain the old behavior, exclude the relevant entries before the concat operation.\n",
      "\n",
      "C:\\Users\\quirosgu\\AppData\\Local\\Temp\\ipykernel_10612\\1021957334.py:599: FutureWarning:\n",
      "\n",
      "The behavior of DataFrame concatenation with empty or all-NA entries is deprecated. In a future version, this will no longer exclude empty or all-NA columns when determining the result dtypes. To retain the old behavior, exclude the relevant entries before the concat operation.\n",
      "\n",
      "C:\\Users\\quirosgu\\AppData\\Local\\Temp\\ipykernel_10612\\1021957334.py:599: FutureWarning:\n",
      "\n",
      "The behavior of DataFrame concatenation with empty or all-NA entries is deprecated. In a future version, this will no longer exclude empty or all-NA columns when determining the result dtypes. To retain the old behavior, exclude the relevant entries before the concat operation.\n",
      "\n",
      "C:\\Users\\quirosgu\\AppData\\Local\\Temp\\ipykernel_10612\\1021957334.py:599: FutureWarning:\n",
      "\n",
      "The behavior of DataFrame concatenation with empty or all-NA entries is deprecated. In a future version, this will no longer exclude empty or all-NA columns when determining the result dtypes. To retain the old behavior, exclude the relevant entries before the concat operation.\n",
      "\n",
      "C:\\Users\\quirosgu\\AppData\\Local\\Temp\\ipykernel_10612\\1021957334.py:599: FutureWarning:\n",
      "\n",
      "The behavior of DataFrame concatenation with empty or all-NA entries is deprecated. In a future version, this will no longer exclude empty or all-NA columns when determining the result dtypes. To retain the old behavior, exclude the relevant entries before the concat operation.\n",
      "\n",
      "C:\\Users\\quirosgu\\AppData\\Local\\Temp\\ipykernel_10612\\1021957334.py:599: FutureWarning:\n",
      "\n",
      "The behavior of DataFrame concatenation with empty or all-NA entries is deprecated. In a future version, this will no longer exclude empty or all-NA columns when determining the result dtypes. To retain the old behavior, exclude the relevant entries before the concat operation.\n",
      "\n",
      "C:\\Users\\quirosgu\\AppData\\Local\\Temp\\ipykernel_10612\\1021957334.py:599: FutureWarning:\n",
      "\n",
      "The behavior of DataFrame concatenation with empty or all-NA entries is deprecated. In a future version, this will no longer exclude empty or all-NA columns when determining the result dtypes. To retain the old behavior, exclude the relevant entries before the concat operation.\n",
      "\n",
      "C:\\Users\\quirosgu\\AppData\\Local\\Temp\\ipykernel_10612\\1021957334.py:599: FutureWarning:\n",
      "\n",
      "The behavior of DataFrame concatenation with empty or all-NA entries is deprecated. In a future version, this will no longer exclude empty or all-NA columns when determining the result dtypes. To retain the old behavior, exclude the relevant entries before the concat operation.\n",
      "\n",
      "C:\\Users\\quirosgu\\AppData\\Local\\Temp\\ipykernel_10612\\1021957334.py:599: FutureWarning:\n",
      "\n",
      "The behavior of DataFrame concatenation with empty or all-NA entries is deprecated. In a future version, this will no longer exclude empty or all-NA columns when determining the result dtypes. To retain the old behavior, exclude the relevant entries before the concat operation.\n",
      "\n",
      "C:\\Users\\quirosgu\\AppData\\Local\\Temp\\ipykernel_10612\\1021957334.py:599: FutureWarning:\n",
      "\n",
      "The behavior of DataFrame concatenation with empty or all-NA entries is deprecated. In a future version, this will no longer exclude empty or all-NA columns when determining the result dtypes. To retain the old behavior, exclude the relevant entries before the concat operation.\n",
      "\n",
      "C:\\Users\\quirosgu\\AppData\\Local\\Temp\\ipykernel_10612\\1021957334.py:599: FutureWarning:\n",
      "\n",
      "The behavior of DataFrame concatenation with empty or all-NA entries is deprecated. In a future version, this will no longer exclude empty or all-NA columns when determining the result dtypes. To retain the old behavior, exclude the relevant entries before the concat operation.\n",
      "\n",
      "C:\\Users\\quirosgu\\AppData\\Local\\Temp\\ipykernel_10612\\1021957334.py:599: FutureWarning:\n",
      "\n",
      "The behavior of DataFrame concatenation with empty or all-NA entries is deprecated. In a future version, this will no longer exclude empty or all-NA columns when determining the result dtypes. To retain the old behavior, exclude the relevant entries before the concat operation.\n",
      "\n",
      "C:\\Users\\quirosgu\\AppData\\Local\\Temp\\ipykernel_10612\\1021957334.py:599: FutureWarning:\n",
      "\n",
      "The behavior of DataFrame concatenation with empty or all-NA entries is deprecated. In a future version, this will no longer exclude empty or all-NA columns when determining the result dtypes. To retain the old behavior, exclude the relevant entries before the concat operation.\n",
      "\n",
      "C:\\Users\\quirosgu\\AppData\\Local\\Temp\\ipykernel_10612\\1021957334.py:599: FutureWarning:\n",
      "\n",
      "The behavior of DataFrame concatenation with empty or all-NA entries is deprecated. In a future version, this will no longer exclude empty or all-NA columns when determining the result dtypes. To retain the old behavior, exclude the relevant entries before the concat operation.\n",
      "\n",
      "C:\\Users\\quirosgu\\AppData\\Local\\Temp\\ipykernel_10612\\1021957334.py:599: FutureWarning:\n",
      "\n",
      "The behavior of DataFrame concatenation with empty or all-NA entries is deprecated. In a future version, this will no longer exclude empty or all-NA columns when determining the result dtypes. To retain the old behavior, exclude the relevant entries before the concat operation.\n",
      "\n",
      "C:\\Users\\quirosgu\\AppData\\Local\\Temp\\ipykernel_10612\\1021957334.py:599: FutureWarning:\n",
      "\n",
      "The behavior of DataFrame concatenation with empty or all-NA entries is deprecated. In a future version, this will no longer exclude empty or all-NA columns when determining the result dtypes. To retain the old behavior, exclude the relevant entries before the concat operation.\n",
      "\n",
      "C:\\Users\\quirosgu\\AppData\\Local\\Temp\\ipykernel_10612\\1021957334.py:599: FutureWarning:\n",
      "\n",
      "The behavior of DataFrame concatenation with empty or all-NA entries is deprecated. In a future version, this will no longer exclude empty or all-NA columns when determining the result dtypes. To retain the old behavior, exclude the relevant entries before the concat operation.\n",
      "\n",
      "C:\\Users\\quirosgu\\AppData\\Local\\Temp\\ipykernel_10612\\1021957334.py:599: FutureWarning:\n",
      "\n",
      "The behavior of DataFrame concatenation with empty or all-NA entries is deprecated. In a future version, this will no longer exclude empty or all-NA columns when determining the result dtypes. To retain the old behavior, exclude the relevant entries before the concat operation.\n",
      "\n",
      "C:\\Users\\quirosgu\\AppData\\Local\\Temp\\ipykernel_10612\\1021957334.py:599: FutureWarning:\n",
      "\n",
      "The behavior of DataFrame concatenation with empty or all-NA entries is deprecated. In a future version, this will no longer exclude empty or all-NA columns when determining the result dtypes. To retain the old behavior, exclude the relevant entries before the concat operation.\n",
      "\n",
      "C:\\Users\\quirosgu\\AppData\\Local\\Temp\\ipykernel_10612\\1021957334.py:599: FutureWarning:\n",
      "\n",
      "The behavior of DataFrame concatenation with empty or all-NA entries is deprecated. In a future version, this will no longer exclude empty or all-NA columns when determining the result dtypes. To retain the old behavior, exclude the relevant entries before the concat operation.\n",
      "\n",
      "C:\\Users\\quirosgu\\AppData\\Local\\Temp\\ipykernel_10612\\1021957334.py:599: FutureWarning:\n",
      "\n",
      "The behavior of DataFrame concatenation with empty or all-NA entries is deprecated. In a future version, this will no longer exclude empty or all-NA columns when determining the result dtypes. To retain the old behavior, exclude the relevant entries before the concat operation.\n",
      "\n",
      "C:\\Users\\quirosgu\\AppData\\Local\\Temp\\ipykernel_10612\\1021957334.py:599: FutureWarning:\n",
      "\n",
      "The behavior of DataFrame concatenation with empty or all-NA entries is deprecated. In a future version, this will no longer exclude empty or all-NA columns when determining the result dtypes. To retain the old behavior, exclude the relevant entries before the concat operation.\n",
      "\n",
      "C:\\Users\\quirosgu\\AppData\\Local\\Temp\\ipykernel_10612\\1021957334.py:599: FutureWarning:\n",
      "\n",
      "The behavior of DataFrame concatenation with empty or all-NA entries is deprecated. In a future version, this will no longer exclude empty or all-NA columns when determining the result dtypes. To retain the old behavior, exclude the relevant entries before the concat operation.\n",
      "\n",
      "C:\\Users\\quirosgu\\AppData\\Local\\Temp\\ipykernel_10612\\1021957334.py:599: FutureWarning:\n",
      "\n",
      "The behavior of DataFrame concatenation with empty or all-NA entries is deprecated. In a future version, this will no longer exclude empty or all-NA columns when determining the result dtypes. To retain the old behavior, exclude the relevant entries before the concat operation.\n",
      "\n",
      "C:\\Users\\quirosgu\\AppData\\Local\\Temp\\ipykernel_10612\\1021957334.py:599: FutureWarning:\n",
      "\n",
      "The behavior of DataFrame concatenation with empty or all-NA entries is deprecated. In a future version, this will no longer exclude empty or all-NA columns when determining the result dtypes. To retain the old behavior, exclude the relevant entries before the concat operation.\n",
      "\n",
      "C:\\Users\\quirosgu\\AppData\\Local\\Temp\\ipykernel_10612\\1021957334.py:599: FutureWarning:\n",
      "\n",
      "The behavior of DataFrame concatenation with empty or all-NA entries is deprecated. In a future version, this will no longer exclude empty or all-NA columns when determining the result dtypes. To retain the old behavior, exclude the relevant entries before the concat operation.\n",
      "\n",
      "C:\\Users\\quirosgu\\AppData\\Local\\Temp\\ipykernel_10612\\1021957334.py:599: FutureWarning:\n",
      "\n",
      "The behavior of DataFrame concatenation with empty or all-NA entries is deprecated. In a future version, this will no longer exclude empty or all-NA columns when determining the result dtypes. To retain the old behavior, exclude the relevant entries before the concat operation.\n",
      "\n",
      "C:\\Users\\quirosgu\\AppData\\Local\\Temp\\ipykernel_10612\\1021957334.py:599: FutureWarning:\n",
      "\n",
      "The behavior of DataFrame concatenation with empty or all-NA entries is deprecated. In a future version, this will no longer exclude empty or all-NA columns when determining the result dtypes. To retain the old behavior, exclude the relevant entries before the concat operation.\n",
      "\n",
      "C:\\Users\\quirosgu\\AppData\\Local\\Temp\\ipykernel_10612\\1021957334.py:599: FutureWarning:\n",
      "\n",
      "The behavior of DataFrame concatenation with empty or all-NA entries is deprecated. In a future version, this will no longer exclude empty or all-NA columns when determining the result dtypes. To retain the old behavior, exclude the relevant entries before the concat operation.\n",
      "\n",
      "C:\\Users\\quirosgu\\AppData\\Local\\Temp\\ipykernel_10612\\1021957334.py:599: FutureWarning:\n",
      "\n",
      "The behavior of DataFrame concatenation with empty or all-NA entries is deprecated. In a future version, this will no longer exclude empty or all-NA columns when determining the result dtypes. To retain the old behavior, exclude the relevant entries before the concat operation.\n",
      "\n",
      "C:\\Users\\quirosgu\\AppData\\Local\\Temp\\ipykernel_10612\\1021957334.py:599: FutureWarning:\n",
      "\n",
      "The behavior of DataFrame concatenation with empty or all-NA entries is deprecated. In a future version, this will no longer exclude empty or all-NA columns when determining the result dtypes. To retain the old behavior, exclude the relevant entries before the concat operation.\n",
      "\n",
      "C:\\Users\\quirosgu\\AppData\\Local\\Temp\\ipykernel_10612\\1021957334.py:599: FutureWarning:\n",
      "\n",
      "The behavior of DataFrame concatenation with empty or all-NA entries is deprecated. In a future version, this will no longer exclude empty or all-NA columns when determining the result dtypes. To retain the old behavior, exclude the relevant entries before the concat operation.\n",
      "\n",
      "C:\\Users\\quirosgu\\AppData\\Local\\Temp\\ipykernel_10612\\1021957334.py:599: FutureWarning:\n",
      "\n",
      "The behavior of DataFrame concatenation with empty or all-NA entries is deprecated. In a future version, this will no longer exclude empty or all-NA columns when determining the result dtypes. To retain the old behavior, exclude the relevant entries before the concat operation.\n",
      "\n",
      "C:\\Users\\quirosgu\\AppData\\Local\\Temp\\ipykernel_10612\\1021957334.py:599: FutureWarning:\n",
      "\n",
      "The behavior of DataFrame concatenation with empty or all-NA entries is deprecated. In a future version, this will no longer exclude empty or all-NA columns when determining the result dtypes. To retain the old behavior, exclude the relevant entries before the concat operation.\n",
      "\n",
      "C:\\Users\\quirosgu\\AppData\\Local\\Temp\\ipykernel_10612\\1021957334.py:599: FutureWarning:\n",
      "\n",
      "The behavior of DataFrame concatenation with empty or all-NA entries is deprecated. In a future version, this will no longer exclude empty or all-NA columns when determining the result dtypes. To retain the old behavior, exclude the relevant entries before the concat operation.\n",
      "\n",
      "C:\\Users\\quirosgu\\AppData\\Local\\Temp\\ipykernel_10612\\1021957334.py:599: FutureWarning:\n",
      "\n",
      "The behavior of DataFrame concatenation with empty or all-NA entries is deprecated. In a future version, this will no longer exclude empty or all-NA columns when determining the result dtypes. To retain the old behavior, exclude the relevant entries before the concat operation.\n",
      "\n",
      "C:\\Users\\quirosgu\\AppData\\Local\\Temp\\ipykernel_10612\\1021957334.py:599: FutureWarning:\n",
      "\n",
      "The behavior of DataFrame concatenation with empty or all-NA entries is deprecated. In a future version, this will no longer exclude empty or all-NA columns when determining the result dtypes. To retain the old behavior, exclude the relevant entries before the concat operation.\n",
      "\n",
      "C:\\Users\\quirosgu\\AppData\\Local\\Temp\\ipykernel_10612\\1021957334.py:599: FutureWarning:\n",
      "\n",
      "The behavior of DataFrame concatenation with empty or all-NA entries is deprecated. In a future version, this will no longer exclude empty or all-NA columns when determining the result dtypes. To retain the old behavior, exclude the relevant entries before the concat operation.\n",
      "\n",
      "C:\\Users\\quirosgu\\AppData\\Local\\Temp\\ipykernel_10612\\1021957334.py:599: FutureWarning:\n",
      "\n",
      "The behavior of DataFrame concatenation with empty or all-NA entries is deprecated. In a future version, this will no longer exclude empty or all-NA columns when determining the result dtypes. To retain the old behavior, exclude the relevant entries before the concat operation.\n",
      "\n",
      "C:\\Users\\quirosgu\\AppData\\Local\\Temp\\ipykernel_10612\\1021957334.py:599: FutureWarning:\n",
      "\n",
      "The behavior of DataFrame concatenation with empty or all-NA entries is deprecated. In a future version, this will no longer exclude empty or all-NA columns when determining the result dtypes. To retain the old behavior, exclude the relevant entries before the concat operation.\n",
      "\n",
      "C:\\Users\\quirosgu\\AppData\\Local\\Temp\\ipykernel_10612\\1021957334.py:599: FutureWarning:\n",
      "\n",
      "The behavior of DataFrame concatenation with empty or all-NA entries is deprecated. In a future version, this will no longer exclude empty or all-NA columns when determining the result dtypes. To retain the old behavior, exclude the relevant entries before the concat operation.\n",
      "\n",
      "C:\\Users\\quirosgu\\AppData\\Local\\Temp\\ipykernel_10612\\1021957334.py:599: FutureWarning:\n",
      "\n",
      "The behavior of DataFrame concatenation with empty or all-NA entries is deprecated. In a future version, this will no longer exclude empty or all-NA columns when determining the result dtypes. To retain the old behavior, exclude the relevant entries before the concat operation.\n",
      "\n",
      "C:\\Users\\quirosgu\\AppData\\Local\\Temp\\ipykernel_10612\\1021957334.py:599: FutureWarning:\n",
      "\n",
      "The behavior of DataFrame concatenation with empty or all-NA entries is deprecated. In a future version, this will no longer exclude empty or all-NA columns when determining the result dtypes. To retain the old behavior, exclude the relevant entries before the concat operation.\n",
      "\n",
      "C:\\Users\\quirosgu\\AppData\\Local\\Temp\\ipykernel_10612\\1021957334.py:599: FutureWarning:\n",
      "\n",
      "The behavior of DataFrame concatenation with empty or all-NA entries is deprecated. In a future version, this will no longer exclude empty or all-NA columns when determining the result dtypes. To retain the old behavior, exclude the relevant entries before the concat operation.\n",
      "\n",
      "C:\\Users\\quirosgu\\AppData\\Local\\Temp\\ipykernel_10612\\1021957334.py:599: FutureWarning:\n",
      "\n",
      "The behavior of DataFrame concatenation with empty or all-NA entries is deprecated. In a future version, this will no longer exclude empty or all-NA columns when determining the result dtypes. To retain the old behavior, exclude the relevant entries before the concat operation.\n",
      "\n",
      "C:\\Users\\quirosgu\\AppData\\Local\\Temp\\ipykernel_10612\\1021957334.py:599: FutureWarning:\n",
      "\n",
      "The behavior of DataFrame concatenation with empty or all-NA entries is deprecated. In a future version, this will no longer exclude empty or all-NA columns when determining the result dtypes. To retain the old behavior, exclude the relevant entries before the concat operation.\n",
      "\n",
      "C:\\Users\\quirosgu\\AppData\\Local\\Temp\\ipykernel_10612\\1021957334.py:599: FutureWarning:\n",
      "\n",
      "The behavior of DataFrame concatenation with empty or all-NA entries is deprecated. In a future version, this will no longer exclude empty or all-NA columns when determining the result dtypes. To retain the old behavior, exclude the relevant entries before the concat operation.\n",
      "\n",
      "C:\\Users\\quirosgu\\AppData\\Local\\Temp\\ipykernel_10612\\1021957334.py:599: FutureWarning:\n",
      "\n",
      "The behavior of DataFrame concatenation with empty or all-NA entries is deprecated. In a future version, this will no longer exclude empty or all-NA columns when determining the result dtypes. To retain the old behavior, exclude the relevant entries before the concat operation.\n",
      "\n",
      "C:\\Users\\quirosgu\\AppData\\Local\\Temp\\ipykernel_10612\\1021957334.py:599: FutureWarning:\n",
      "\n",
      "The behavior of DataFrame concatenation with empty or all-NA entries is deprecated. In a future version, this will no longer exclude empty or all-NA columns when determining the result dtypes. To retain the old behavior, exclude the relevant entries before the concat operation.\n",
      "\n",
      "C:\\Users\\quirosgu\\AppData\\Local\\Temp\\ipykernel_10612\\1021957334.py:599: FutureWarning:\n",
      "\n",
      "The behavior of DataFrame concatenation with empty or all-NA entries is deprecated. In a future version, this will no longer exclude empty or all-NA columns when determining the result dtypes. To retain the old behavior, exclude the relevant entries before the concat operation.\n",
      "\n",
      "C:\\Users\\quirosgu\\AppData\\Local\\Temp\\ipykernel_10612\\1021957334.py:599: FutureWarning:\n",
      "\n",
      "The behavior of DataFrame concatenation with empty or all-NA entries is deprecated. In a future version, this will no longer exclude empty or all-NA columns when determining the result dtypes. To retain the old behavior, exclude the relevant entries before the concat operation.\n",
      "\n",
      "C:\\Users\\quirosgu\\AppData\\Local\\Temp\\ipykernel_10612\\1021957334.py:599: FutureWarning:\n",
      "\n",
      "The behavior of DataFrame concatenation with empty or all-NA entries is deprecated. In a future version, this will no longer exclude empty or all-NA columns when determining the result dtypes. To retain the old behavior, exclude the relevant entries before the concat operation.\n",
      "\n",
      "C:\\Users\\quirosgu\\AppData\\Local\\Temp\\ipykernel_10612\\1021957334.py:599: FutureWarning:\n",
      "\n",
      "The behavior of DataFrame concatenation with empty or all-NA entries is deprecated. In a future version, this will no longer exclude empty or all-NA columns when determining the result dtypes. To retain the old behavior, exclude the relevant entries before the concat operation.\n",
      "\n",
      "C:\\Users\\quirosgu\\AppData\\Local\\Temp\\ipykernel_10612\\1021957334.py:599: FutureWarning:\n",
      "\n",
      "The behavior of DataFrame concatenation with empty or all-NA entries is deprecated. In a future version, this will no longer exclude empty or all-NA columns when determining the result dtypes. To retain the old behavior, exclude the relevant entries before the concat operation.\n",
      "\n",
      "C:\\Users\\quirosgu\\AppData\\Local\\Temp\\ipykernel_10612\\1021957334.py:599: FutureWarning:\n",
      "\n",
      "The behavior of DataFrame concatenation with empty or all-NA entries is deprecated. In a future version, this will no longer exclude empty or all-NA columns when determining the result dtypes. To retain the old behavior, exclude the relevant entries before the concat operation.\n",
      "\n",
      "C:\\Users\\quirosgu\\AppData\\Local\\Temp\\ipykernel_10612\\1021957334.py:599: FutureWarning:\n",
      "\n",
      "The behavior of DataFrame concatenation with empty or all-NA entries is deprecated. In a future version, this will no longer exclude empty or all-NA columns when determining the result dtypes. To retain the old behavior, exclude the relevant entries before the concat operation.\n",
      "\n",
      "C:\\Users\\quirosgu\\AppData\\Local\\Temp\\ipykernel_10612\\1021957334.py:599: FutureWarning:\n",
      "\n",
      "The behavior of DataFrame concatenation with empty or all-NA entries is deprecated. In a future version, this will no longer exclude empty or all-NA columns when determining the result dtypes. To retain the old behavior, exclude the relevant entries before the concat operation.\n",
      "\n",
      "C:\\Users\\quirosgu\\AppData\\Local\\Temp\\ipykernel_10612\\1021957334.py:599: FutureWarning:\n",
      "\n",
      "The behavior of DataFrame concatenation with empty or all-NA entries is deprecated. In a future version, this will no longer exclude empty or all-NA columns when determining the result dtypes. To retain the old behavior, exclude the relevant entries before the concat operation.\n",
      "\n",
      "C:\\Users\\quirosgu\\AppData\\Local\\Temp\\ipykernel_10612\\1021957334.py:599: FutureWarning:\n",
      "\n",
      "The behavior of DataFrame concatenation with empty or all-NA entries is deprecated. In a future version, this will no longer exclude empty or all-NA columns when determining the result dtypes. To retain the old behavior, exclude the relevant entries before the concat operation.\n",
      "\n",
      "C:\\Users\\quirosgu\\AppData\\Local\\Temp\\ipykernel_10612\\1021957334.py:599: FutureWarning:\n",
      "\n",
      "The behavior of DataFrame concatenation with empty or all-NA entries is deprecated. In a future version, this will no longer exclude empty or all-NA columns when determining the result dtypes. To retain the old behavior, exclude the relevant entries before the concat operation.\n",
      "\n",
      "C:\\Users\\quirosgu\\AppData\\Local\\Temp\\ipykernel_10612\\1021957334.py:599: FutureWarning:\n",
      "\n",
      "The behavior of DataFrame concatenation with empty or all-NA entries is deprecated. In a future version, this will no longer exclude empty or all-NA columns when determining the result dtypes. To retain the old behavior, exclude the relevant entries before the concat operation.\n",
      "\n",
      "C:\\Users\\quirosgu\\AppData\\Local\\Temp\\ipykernel_10612\\1021957334.py:599: FutureWarning:\n",
      "\n",
      "The behavior of DataFrame concatenation with empty or all-NA entries is deprecated. In a future version, this will no longer exclude empty or all-NA columns when determining the result dtypes. To retain the old behavior, exclude the relevant entries before the concat operation.\n",
      "\n",
      "C:\\Users\\quirosgu\\AppData\\Local\\Temp\\ipykernel_10612\\1021957334.py:599: FutureWarning:\n",
      "\n",
      "The behavior of DataFrame concatenation with empty or all-NA entries is deprecated. In a future version, this will no longer exclude empty or all-NA columns when determining the result dtypes. To retain the old behavior, exclude the relevant entries before the concat operation.\n",
      "\n",
      "C:\\Users\\quirosgu\\AppData\\Local\\Temp\\ipykernel_10612\\1021957334.py:599: FutureWarning:\n",
      "\n",
      "The behavior of DataFrame concatenation with empty or all-NA entries is deprecated. In a future version, this will no longer exclude empty or all-NA columns when determining the result dtypes. To retain the old behavior, exclude the relevant entries before the concat operation.\n",
      "\n",
      "C:\\Users\\quirosgu\\AppData\\Local\\Temp\\ipykernel_10612\\1021957334.py:599: FutureWarning:\n",
      "\n",
      "The behavior of DataFrame concatenation with empty or all-NA entries is deprecated. In a future version, this will no longer exclude empty or all-NA columns when determining the result dtypes. To retain the old behavior, exclude the relevant entries before the concat operation.\n",
      "\n",
      "C:\\Users\\quirosgu\\AppData\\Local\\Temp\\ipykernel_10612\\1021957334.py:599: FutureWarning:\n",
      "\n",
      "The behavior of DataFrame concatenation with empty or all-NA entries is deprecated. In a future version, this will no longer exclude empty or all-NA columns when determining the result dtypes. To retain the old behavior, exclude the relevant entries before the concat operation.\n",
      "\n",
      "C:\\Users\\quirosgu\\AppData\\Local\\Temp\\ipykernel_10612\\1021957334.py:599: FutureWarning:\n",
      "\n",
      "The behavior of DataFrame concatenation with empty or all-NA entries is deprecated. In a future version, this will no longer exclude empty or all-NA columns when determining the result dtypes. To retain the old behavior, exclude the relevant entries before the concat operation.\n",
      "\n",
      "C:\\Users\\quirosgu\\AppData\\Local\\Temp\\ipykernel_10612\\1021957334.py:599: FutureWarning:\n",
      "\n",
      "The behavior of DataFrame concatenation with empty or all-NA entries is deprecated. In a future version, this will no longer exclude empty or all-NA columns when determining the result dtypes. To retain the old behavior, exclude the relevant entries before the concat operation.\n",
      "\n",
      "C:\\Users\\quirosgu\\AppData\\Local\\Temp\\ipykernel_10612\\1021957334.py:599: FutureWarning:\n",
      "\n",
      "The behavior of DataFrame concatenation with empty or all-NA entries is deprecated. In a future version, this will no longer exclude empty or all-NA columns when determining the result dtypes. To retain the old behavior, exclude the relevant entries before the concat operation.\n",
      "\n",
      "C:\\Users\\quirosgu\\AppData\\Local\\Temp\\ipykernel_10612\\1021957334.py:599: FutureWarning:\n",
      "\n",
      "The behavior of DataFrame concatenation with empty or all-NA entries is deprecated. In a future version, this will no longer exclude empty or all-NA columns when determining the result dtypes. To retain the old behavior, exclude the relevant entries before the concat operation.\n",
      "\n",
      "C:\\Users\\quirosgu\\AppData\\Local\\Temp\\ipykernel_10612\\1021957334.py:599: FutureWarning:\n",
      "\n",
      "The behavior of DataFrame concatenation with empty or all-NA entries is deprecated. In a future version, this will no longer exclude empty or all-NA columns when determining the result dtypes. To retain the old behavior, exclude the relevant entries before the concat operation.\n",
      "\n",
      "C:\\Users\\quirosgu\\AppData\\Local\\Temp\\ipykernel_10612\\1021957334.py:599: FutureWarning:\n",
      "\n",
      "The behavior of DataFrame concatenation with empty or all-NA entries is deprecated. In a future version, this will no longer exclude empty or all-NA columns when determining the result dtypes. To retain the old behavior, exclude the relevant entries before the concat operation.\n",
      "\n",
      "C:\\Users\\quirosgu\\AppData\\Local\\Temp\\ipykernel_10612\\1021957334.py:599: FutureWarning:\n",
      "\n",
      "The behavior of DataFrame concatenation with empty or all-NA entries is deprecated. In a future version, this will no longer exclude empty or all-NA columns when determining the result dtypes. To retain the old behavior, exclude the relevant entries before the concat operation.\n",
      "\n",
      "C:\\Users\\quirosgu\\AppData\\Local\\Temp\\ipykernel_10612\\1021957334.py:599: FutureWarning:\n",
      "\n",
      "The behavior of DataFrame concatenation with empty or all-NA entries is deprecated. In a future version, this will no longer exclude empty or all-NA columns when determining the result dtypes. To retain the old behavior, exclude the relevant entries before the concat operation.\n",
      "\n",
      "C:\\Users\\quirosgu\\AppData\\Local\\Temp\\ipykernel_10612\\1021957334.py:599: FutureWarning:\n",
      "\n",
      "The behavior of DataFrame concatenation with empty or all-NA entries is deprecated. In a future version, this will no longer exclude empty or all-NA columns when determining the result dtypes. To retain the old behavior, exclude the relevant entries before the concat operation.\n",
      "\n",
      "C:\\Users\\quirosgu\\AppData\\Local\\Temp\\ipykernel_10612\\1021957334.py:599: FutureWarning:\n",
      "\n",
      "The behavior of DataFrame concatenation with empty or all-NA entries is deprecated. In a future version, this will no longer exclude empty or all-NA columns when determining the result dtypes. To retain the old behavior, exclude the relevant entries before the concat operation.\n",
      "\n",
      "C:\\Users\\quirosgu\\AppData\\Local\\Temp\\ipykernel_10612\\1021957334.py:599: FutureWarning:\n",
      "\n",
      "The behavior of DataFrame concatenation with empty or all-NA entries is deprecated. In a future version, this will no longer exclude empty or all-NA columns when determining the result dtypes. To retain the old behavior, exclude the relevant entries before the concat operation.\n",
      "\n",
      "C:\\Users\\quirosgu\\AppData\\Local\\Temp\\ipykernel_10612\\1021957334.py:599: FutureWarning:\n",
      "\n",
      "The behavior of DataFrame concatenation with empty or all-NA entries is deprecated. In a future version, this will no longer exclude empty or all-NA columns when determining the result dtypes. To retain the old behavior, exclude the relevant entries before the concat operation.\n",
      "\n",
      "C:\\Users\\quirosgu\\AppData\\Local\\Temp\\ipykernel_10612\\1021957334.py:599: FutureWarning:\n",
      "\n",
      "The behavior of DataFrame concatenation with empty or all-NA entries is deprecated. In a future version, this will no longer exclude empty or all-NA columns when determining the result dtypes. To retain the old behavior, exclude the relevant entries before the concat operation.\n",
      "\n",
      "C:\\Users\\quirosgu\\AppData\\Local\\Temp\\ipykernel_10612\\1021957334.py:599: FutureWarning:\n",
      "\n",
      "The behavior of DataFrame concatenation with empty or all-NA entries is deprecated. In a future version, this will no longer exclude empty or all-NA columns when determining the result dtypes. To retain the old behavior, exclude the relevant entries before the concat operation.\n",
      "\n",
      "C:\\Users\\quirosgu\\AppData\\Local\\Temp\\ipykernel_10612\\1021957334.py:599: FutureWarning:\n",
      "\n",
      "The behavior of DataFrame concatenation with empty or all-NA entries is deprecated. In a future version, this will no longer exclude empty or all-NA columns when determining the result dtypes. To retain the old behavior, exclude the relevant entries before the concat operation.\n",
      "\n",
      "C:\\Users\\quirosgu\\AppData\\Local\\Temp\\ipykernel_10612\\1021957334.py:599: FutureWarning:\n",
      "\n",
      "The behavior of DataFrame concatenation with empty or all-NA entries is deprecated. In a future version, this will no longer exclude empty or all-NA columns when determining the result dtypes. To retain the old behavior, exclude the relevant entries before the concat operation.\n",
      "\n",
      "C:\\Users\\quirosgu\\AppData\\Local\\Temp\\ipykernel_10612\\1021957334.py:599: FutureWarning:\n",
      "\n",
      "The behavior of DataFrame concatenation with empty or all-NA entries is deprecated. In a future version, this will no longer exclude empty or all-NA columns when determining the result dtypes. To retain the old behavior, exclude the relevant entries before the concat operation.\n",
      "\n",
      "C:\\Users\\quirosgu\\AppData\\Local\\Temp\\ipykernel_10612\\1021957334.py:599: FutureWarning:\n",
      "\n",
      "The behavior of DataFrame concatenation with empty or all-NA entries is deprecated. In a future version, this will no longer exclude empty or all-NA columns when determining the result dtypes. To retain the old behavior, exclude the relevant entries before the concat operation.\n",
      "\n",
      "C:\\Users\\quirosgu\\AppData\\Local\\Temp\\ipykernel_10612\\1021957334.py:599: FutureWarning:\n",
      "\n",
      "The behavior of DataFrame concatenation with empty or all-NA entries is deprecated. In a future version, this will no longer exclude empty or all-NA columns when determining the result dtypes. To retain the old behavior, exclude the relevant entries before the concat operation.\n",
      "\n",
      "C:\\Users\\quirosgu\\AppData\\Local\\Temp\\ipykernel_10612\\1021957334.py:599: FutureWarning:\n",
      "\n",
      "The behavior of DataFrame concatenation with empty or all-NA entries is deprecated. In a future version, this will no longer exclude empty or all-NA columns when determining the result dtypes. To retain the old behavior, exclude the relevant entries before the concat operation.\n",
      "\n",
      "C:\\Users\\quirosgu\\AppData\\Local\\Temp\\ipykernel_10612\\1021957334.py:599: FutureWarning:\n",
      "\n",
      "The behavior of DataFrame concatenation with empty or all-NA entries is deprecated. In a future version, this will no longer exclude empty or all-NA columns when determining the result dtypes. To retain the old behavior, exclude the relevant entries before the concat operation.\n",
      "\n",
      "C:\\Users\\quirosgu\\AppData\\Local\\Temp\\ipykernel_10612\\1021957334.py:599: FutureWarning:\n",
      "\n",
      "The behavior of DataFrame concatenation with empty or all-NA entries is deprecated. In a future version, this will no longer exclude empty or all-NA columns when determining the result dtypes. To retain the old behavior, exclude the relevant entries before the concat operation.\n",
      "\n",
      "C:\\Users\\quirosgu\\AppData\\Local\\Temp\\ipykernel_10612\\1021957334.py:599: FutureWarning:\n",
      "\n",
      "The behavior of DataFrame concatenation with empty or all-NA entries is deprecated. In a future version, this will no longer exclude empty or all-NA columns when determining the result dtypes. To retain the old behavior, exclude the relevant entries before the concat operation.\n",
      "\n",
      "C:\\Users\\quirosgu\\AppData\\Local\\Temp\\ipykernel_10612\\1021957334.py:599: FutureWarning:\n",
      "\n",
      "The behavior of DataFrame concatenation with empty or all-NA entries is deprecated. In a future version, this will no longer exclude empty or all-NA columns when determining the result dtypes. To retain the old behavior, exclude the relevant entries before the concat operation.\n",
      "\n",
      "C:\\Users\\quirosgu\\AppData\\Local\\Temp\\ipykernel_10612\\1021957334.py:599: FutureWarning:\n",
      "\n",
      "The behavior of DataFrame concatenation with empty or all-NA entries is deprecated. In a future version, this will no longer exclude empty or all-NA columns when determining the result dtypes. To retain the old behavior, exclude the relevant entries before the concat operation.\n",
      "\n",
      "C:\\Users\\quirosgu\\AppData\\Local\\Temp\\ipykernel_10612\\1021957334.py:599: FutureWarning:\n",
      "\n",
      "The behavior of DataFrame concatenation with empty or all-NA entries is deprecated. In a future version, this will no longer exclude empty or all-NA columns when determining the result dtypes. To retain the old behavior, exclude the relevant entries before the concat operation.\n",
      "\n",
      "C:\\Users\\quirosgu\\AppData\\Local\\Temp\\ipykernel_10612\\1021957334.py:599: FutureWarning:\n",
      "\n",
      "The behavior of DataFrame concatenation with empty or all-NA entries is deprecated. In a future version, this will no longer exclude empty or all-NA columns when determining the result dtypes. To retain the old behavior, exclude the relevant entries before the concat operation.\n",
      "\n",
      "C:\\Users\\quirosgu\\AppData\\Local\\Temp\\ipykernel_10612\\1021957334.py:599: FutureWarning:\n",
      "\n",
      "The behavior of DataFrame concatenation with empty or all-NA entries is deprecated. In a future version, this will no longer exclude empty or all-NA columns when determining the result dtypes. To retain the old behavior, exclude the relevant entries before the concat operation.\n",
      "\n",
      "C:\\Users\\quirosgu\\AppData\\Local\\Temp\\ipykernel_10612\\1021957334.py:599: FutureWarning:\n",
      "\n",
      "The behavior of DataFrame concatenation with empty or all-NA entries is deprecated. In a future version, this will no longer exclude empty or all-NA columns when determining the result dtypes. To retain the old behavior, exclude the relevant entries before the concat operation.\n",
      "\n",
      "C:\\Users\\quirosgu\\AppData\\Local\\Temp\\ipykernel_10612\\1021957334.py:599: FutureWarning:\n",
      "\n",
      "The behavior of DataFrame concatenation with empty or all-NA entries is deprecated. In a future version, this will no longer exclude empty or all-NA columns when determining the result dtypes. To retain the old behavior, exclude the relevant entries before the concat operation.\n",
      "\n",
      "C:\\Users\\quirosgu\\AppData\\Local\\Temp\\ipykernel_10612\\1021957334.py:599: FutureWarning:\n",
      "\n",
      "The behavior of DataFrame concatenation with empty or all-NA entries is deprecated. In a future version, this will no longer exclude empty or all-NA columns when determining the result dtypes. To retain the old behavior, exclude the relevant entries before the concat operation.\n",
      "\n",
      "C:\\Users\\quirosgu\\AppData\\Local\\Temp\\ipykernel_10612\\1021957334.py:599: FutureWarning:\n",
      "\n",
      "The behavior of DataFrame concatenation with empty or all-NA entries is deprecated. In a future version, this will no longer exclude empty or all-NA columns when determining the result dtypes. To retain the old behavior, exclude the relevant entries before the concat operation.\n",
      "\n",
      "C:\\Users\\quirosgu\\AppData\\Local\\Temp\\ipykernel_10612\\1021957334.py:624: FutureWarning:\n",
      "\n",
      "The default of observed=False is deprecated and will be changed to True in a future version of pandas. Pass observed=False to retain current behavior or observed=True to adopt the future default and silence this warning.\n",
      "\n"
     ]
    },
    {
     "data": {
      "application/vnd.plotly.v1+json": {
       "config": {
        "plotlyServerURL": "https://plot.ly"
       },
       "data": [
        {
         "alignmentgroup": "True",
         "hovertemplate": "Pathway=Alkaloids<br>Recurrence=%{x}<br>species=%{y}<extra></extra>",
         "legendgroup": "Alkaloids",
         "marker": {
          "color": "#305F72",
          "pattern": {
           "shape": ""
          }
         },
         "name": "Alkaloids",
         "offsetgroup": "Alkaloids",
         "orientation": "h",
         "showlegend": true,
         "textposition": "auto",
         "type": "bar",
         "x": [
          14.814814814814813,
          1.6,
          100,
          4.545454545454546,
          1.834862385321101,
          59.25925925925925,
          5.454545454545454,
          18.51851851851852,
          80,
          100,
          100,
          3.389830508474576,
          9.523809523809524,
          1.0050251256281406,
          4.166666666666666,
          40,
          60,
          1.639344262295082,
          26.08695652173913,
          9.090909090909092,
          87.5,
          33.33333333333333,
          100,
          14.516129032258066,
          17.647058823529413
         ],
         "xaxis": "x",
         "y": [
          "Ageratina ligustrina",
          "Ageratum conyzoides",
          "Albizia adinocephala",
          "Alibertia edulis",
          "Caesalpinia pulcherrima",
          "Catharanthus roseus",
          "Cymbopogon citratus",
          "Eichhornia crassipes",
          "Erythrina berteroana",
          "Erythroxylum fimbriatum",
          "Herrania purpurea",
          "Ipomoea nil",
          "Mimosa pudica",
          "Morinda citrifolia",
          "Nasturtium officinale",
          "Piper reticulatum",
          "Piper tuberculatum",
          "Plumeria rubra",
          "Prosopis juliflora",
          "Quassia amara",
          "Rauvolfia littoralis",
          "Samanea saman",
          "Siparuna grandiflora",
          "Talipariti tiliaceum",
          "Telanthophora grandifolia"
         ],
         "yaxis": "y"
        },
        {
         "alignmentgroup": "True",
         "hovertemplate": "Pathway=Amino acids and Peptides<br>Recurrence=%{x}<br>species=%{y}<extra></extra>",
         "legendgroup": "Amino acids and Peptides",
         "marker": {
          "color": "#F4E869",
          "pattern": {
           "shape": ""
          }
         },
         "name": "Amino acids and Peptides",
         "offsetgroup": "Amino acids and Peptides",
         "orientation": "h",
         "showlegend": true,
         "textposition": "auto",
         "type": "bar",
         "x": [
          0.8,
          33.33333333333333,
          16.666666666666664,
          4.320987654320987,
          11.11111111111111,
          38.88888888888889,
          1.8181818181818181,
          0.9803921568627451,
          100,
          2.5423728813559325,
          28.888888888888886,
          1.834862385321101,
          9.523809523809524,
          8.333333333333332,
          10,
          0.819672131147541,
          4.3478260869565215,
          12.5,
          8.064516129032258,
          100
         ],
         "xaxis": "x",
         "y": [
          "Ageratum conyzoides",
          "Camonea umbellata",
          "Canavalia rosea",
          "Catharanthus roseus",
          "Delonix regia",
          "Eichhornia crassipes",
          "Gliricidia sepium",
          "Guilandina bonduc",
          "Indigofera hirsuta",
          "Ipomoea nil",
          "Jatropha gossypiifolia",
          "Lantana camara",
          "Mimosa pudica",
          "Nasturtium officinale",
          "Piper tuberculatum",
          "Plumeria rubra",
          "Prosopis juliflora",
          "Rauvolfia littoralis",
          "Talipariti tiliaceum",
          "Vasconcellea cauliflora"
         ],
         "yaxis": "y"
        },
        {
         "alignmentgroup": "True",
         "hovertemplate": "Pathway=Carbohydrates<br>Recurrence=%{x}<br>species=%{y}<extra></extra>",
         "legendgroup": "Carbohydrates",
         "marker": {
          "color": "#65451F",
          "pattern": {
           "shape": ""
          }
         },
         "name": "Carbohydrates",
         "offsetgroup": "Carbohydrates",
         "orientation": "h",
         "showlegend": true,
         "textposition": "auto",
         "type": "bar",
         "x": [
          100,
          3.3950617283950617,
          3.7037037037037033,
          1.8181818181818181,
          6.666666666666667,
          2.7522935779816518,
          12.5,
          3.5175879396984926,
          100,
          4.545454545454546,
          40.909090909090914,
          71.42857142857143
         ],
         "xaxis": "x",
         "y": [
          "Acrocomia aculeata",
          "Catharanthus roseus",
          "Genipa americana",
          "Gliricidia sepium",
          "Jatropha gossypiifolia",
          "Lantana camara",
          "Lonchocarpus heptaphyllus",
          "Morinda citrifolia",
          "Omphalea diandra",
          "Quassia amara",
          "Saccharum officinarum",
          "Sapium laurifolium"
         ],
         "yaxis": "y"
        },
        {
         "alignmentgroup": "True",
         "hovertemplate": "Pathway=Fatty acids<br>Recurrence=%{x}<br>species=%{y}<extra></extra>",
         "legendgroup": "Fatty acids",
         "marker": {
          "color": "#FF6C22",
          "pattern": {
           "shape": ""
          }
         },
         "name": "Fatty acids",
         "offsetgroup": "Fatty acids",
         "orientation": "h",
         "showlegend": true,
         "textposition": "auto",
         "type": "bar",
         "x": [
          20,
          3.7037037037037033,
          15.2,
          0.9174311926605505,
          4.320987654320987,
          9.375,
          16.363636363636363,
          88.88888888888889,
          25,
          1.8181818181818181,
          13.559322033898304,
          11.11111111111111,
          10.091743119266056,
          6.557377049180328,
          14.285714285714285,
          8.542713567839195,
          20,
          12.5,
          24.59016393442623,
          11.11111111111111,
          6.8181818181818175,
          66.66666666666666
         ],
         "xaxis": "x",
         "y": [
          "Acrostichum aureum",
          "Ageratina ligustrina",
          "Ageratum conyzoides",
          "Caesalpinia pulcherrima",
          "Catharanthus roseus",
          "Crescentia cujete",
          "Cymbopogon citratus",
          "Delonix regia",
          "Ficus benjamina",
          "Gliricidia sepium",
          "Ipomoea nil",
          "Jatropha gossypiifolia",
          "Lantana camara",
          "Lawsonia inermis",
          "Mimosa pudica",
          "Morinda citrifolia",
          "Paullinia pinnata",
          "Piper tuberculatum",
          "Plumeria rubra",
          "Rhizophora mangle",
          "Saccharum officinarum",
          "Samanea saman"
         ],
         "yaxis": "y"
        },
        {
         "alignmentgroup": "True",
         "hovertemplate": "Pathway=Polyketides<br>Recurrence=%{x}<br>species=%{y}<extra></extra>",
         "legendgroup": "Polyketides",
         "marker": {
          "color": "#EF4B4B",
          "pattern": {
           "shape": ""
          }
         },
         "name": "Polyketides",
         "offsetgroup": "Polyketides",
         "orientation": "h",
         "showlegend": true,
         "textposition": "auto",
         "type": "bar",
         "x": [
          4.3478260869565215,
          1.6,
          20,
          1.834862385321101,
          6.451612903225806,
          35.714285714285715,
          6.25,
          3.7037037037037033,
          77.77777777777779,
          0.847457627118644,
          6.896551724137931,
          4.128440366972478,
          9.836065573770492,
          3.125,
          28.57142857142857,
          27.63819095477387,
          75,
          75,
          40,
          1.639344262295082,
          27.419354838709676,
          100
         ],
         "xaxis": "x",
         "y": [
          "Ageratina ixiocladon",
          "Ageratum conyzoides",
          "Avicennia germinans",
          "Caesalpinia pulcherrima",
          "Calea urticifolia",
          "Cassia grandis",
          "Crescentia cujete",
          "Eichhornia crassipes",
          "Faramea occidentalis",
          "Ipomoea nil",
          "Laguncularia racemosa",
          "Lantana camara",
          "Lawsonia inermis",
          "Maclura tinctoria",
          "Marila laxiflora",
          "Morinda citrifolia",
          "Peperomia galioides",
          "Picramnia latifolia",
          "Piper reticulatum",
          "Plumeria rubra",
          "Talipariti tiliaceum",
          "Tovomita longifolia"
         ],
         "yaxis": "y"
        },
        {
         "alignmentgroup": "True",
         "hovertemplate": "Pathway=Shikimates and Phenylpropanoids<br>Recurrence=%{x}<br>species=%{y}<extra></extra>",
         "legendgroup": "Shikimates and Phenylpropanoids",
         "marker": {
          "color": "#80558C",
          "pattern": {
           "shape": ""
          }
         },
         "name": "Shikimates and Phenylpropanoids",
         "offsetgroup": "Shikimates and Phenylpropanoids",
         "orientation": "h",
         "showlegend": true,
         "textposition": "auto",
         "type": "bar",
         "x": [
          44.44444444444444,
          18.4,
          100,
          100,
          40,
          39.44954128440367,
          100,
          66.66666666666666,
          83.33333333333334,
          57.14285714285714,
          9.876543209876543,
          100,
          100,
          18.75,
          31.818181818181817,
          33.33333333333333,
          20,
          100,
          11.11111111111111,
          100,
          100,
          78.18181818181819,
          3.9215686274509802,
          9.523809523809524,
          5.263157894736842,
          40.67796610169492,
          17.77777777777778,
          93.10344827586206,
          9.174311926605505,
          52.459016393442624,
          87.5,
          93.75,
          57.14285714285714,
          14.285714285714285,
          66.66666666666666,
          28.643216080402013,
          75,
          40,
          58.82352941176471,
          100,
          18.75,
          8.333333333333332,
          20,
          17.5,
          23.770491803278688,
          52.17391304347826,
          11.11111111111111,
          40.909090909090914,
          28.57142857142857,
          100,
          14.516129032258066,
          40,
          83.33333333333334
         ],
         "xaxis": "x",
         "y": [
          "Ageratina ligustrina",
          "Ageratum conyzoides",
          "Apeiba tibourbou",
          "Arthraxon hispidus",
          "Avicennia germinans",
          "Caesalpinia pulcherrima",
          "Calceolaria irazuensis",
          "Camonea umbellata",
          "Canavalia rosea",
          "Cassia grandis",
          "Catharanthus roseus",
          "Cissus verticillata",
          "Clarisia racemosa",
          "Crescentia cujete",
          "Cymbopogon citratus",
          "Eichhornia crassipes",
          "Erythrina berteroana",
          "Euphorbia hypericifolia",
          "Faramea occidentalis",
          "Ficus maxima",
          "Fuchsia splendens",
          "Gliricidia sepium",
          "Guilandina bonduc",
          "Hedyosmum bonplandianum",
          "Hymenaea courbaril",
          "Ipomoea nil",
          "Jatropha gossypiifolia",
          "Laguncularia racemosa",
          "Lantana camara",
          "Lawsonia inermis",
          "Lonchocarpus heptaphyllus",
          "Maclura tinctoria",
          "Marila laxiflora",
          "Mikania micrantha",
          "Mimosa pudica",
          "Morinda citrifolia",
          "Nasturtium officinale",
          "Paullinia pinnata",
          "Persicaria pubescens",
          "Phenax angustifolius",
          "Phyllanthus acuminatus",
          "Picramnia latifolia",
          "Piper reticulatum",
          "Piper tuberculatum",
          "Plumeria rubra",
          "Prosopis juliflora",
          "Rhizophora mangle",
          "Saccharum officinarum",
          "Sapium laurifolium",
          "Syzygium malaccense",
          "Talipariti tiliaceum",
          "Urochloa decumbens",
          "Verbesina myriocephala"
         ],
         "yaxis": "y"
        },
        {
         "alignmentgroup": "True",
         "hovertemplate": "Pathway=Terpenoids<br>Recurrence=%{x}<br>species=%{y}<extra></extra>",
         "legendgroup": "Terpenoids",
         "marker": {
          "color": "#618264",
          "pattern": {
           "shape": ""
          }
         },
         "name": "Terpenoids",
         "offsetgroup": "Terpenoids",
         "orientation": "h",
         "showlegend": true,
         "textposition": "auto",
         "type": "bar",
         "x": [
          80,
          95.65217391304348,
          37.03703703703704,
          62.4,
          95.45454545454545,
          100,
          40,
          55.96330275229357,
          93.54838709677419,
          7.142857142857142,
          18.82716049382716,
          100,
          100,
          65.625,
          100,
          46.36363636363636,
          5.555555555555555,
          11.11111111111111,
          75,
          96.29629629629629,
          16.363636363636363,
          95.09803921568627,
          100,
          90.47619047619048,
          94.73684210526315,
          38.983050847457626,
          35.55555555555556,
          72.01834862385321,
          31.147540983606557,
          3.125,
          14.285714285714285,
          100,
          100,
          85.71428571428571,
          30.65326633165829,
          100,
          12.5,
          100,
          40,
          25,
          41.17647058823529,
          81.25,
          100,
          16.666666666666664,
          100,
          100,
          47.540983606557376,
          100,
          17.391304347826086,
          86.36363636363636,
          77.77777777777779,
          11.363636363636363,
          100,
          100,
          35.483870967741936,
          82.35294117647058,
          100,
          100,
          60,
          16.666666666666664,
          100
         ],
         "xaxis": "x",
         "y": [
          "Acrostichum aureum",
          "Ageratina ixiocladon",
          "Ageratina ligustrina",
          "Ageratum conyzoides",
          "Alibertia edulis",
          "Avicennia bicolor",
          "Avicennia germinans",
          "Caesalpinia pulcherrima",
          "Calea urticifolia",
          "Cassia grandis",
          "Catharanthus roseus",
          "Cnidoscolus urens",
          "Cojoba arborea",
          "Crescentia cujete",
          "Cryptostegia madagascariensis",
          "Cymbopogon citratus",
          "Eichhornia crassipes",
          "Faramea occidentalis",
          "Ficus benjamina",
          "Genipa americana",
          "Gliricidia sepium",
          "Guilandina bonduc",
          "Handroanthus chrysanthus",
          "Hedyosmum bonplandianum",
          "Hymenaea courbaril",
          "Ipomoea nil",
          "Jatropha gossypiifolia",
          "Lantana camara",
          "Lawsonia inermis",
          "Maclura tinctoria",
          "Marila laxiflora",
          "Maytenus woodsonii",
          "Mesosphaerum suaveolens",
          "Mikania micrantha",
          "Morinda citrifolia",
          "Myrciaria floribunda",
          "Nasturtium officinale",
          "Onoseris onoseroides",
          "Paullinia pinnata",
          "Peperomia galioides",
          "Persicaria pubescens",
          "Phyllanthus acuminatus",
          "Phytolacca rivinoides",
          "Picramnia latifolia",
          "Piper multiplinervium",
          "Piptocarpha poeppigiana",
          "Plumeria rubra",
          "Posoqueria latifolia",
          "Prosopis juliflora",
          "Quassia amara",
          "Rhizophora mangle",
          "Saccharum officinarum",
          "Sansevieria trifasciata",
          "Smilax officinalis",
          "Talipariti tiliaceum",
          "Telanthophora grandifolia",
          "Trattinnickia aspera",
          "Trichilia pallida",
          "Urochloa decumbens",
          "Verbesina myriocephala",
          "Xylopia frutescens"
         ],
         "yaxis": "y"
        }
       ],
       "layout": {
        "annotations": [
         {
          "font": {
           "color": "black",
           "size": 10
          },
          "showarrow": false,
          "text": "Total compounds: 1",
          "x": 100,
          "xanchor": "left",
          "y": "Acrocomia aculeata",
          "yanchor": "middle"
         },
         {
          "font": {
           "color": "black",
           "size": 10
          },
          "showarrow": false,
          "text": "Total compounds: 5",
          "x": 100,
          "xanchor": "left",
          "y": "Acrostichum aureum",
          "yanchor": "middle"
         },
         {
          "font": {
           "color": "black",
           "size": 10
          },
          "showarrow": false,
          "text": "Total compounds: 23",
          "x": 100,
          "xanchor": "left",
          "y": "Ageratina ixiocladon",
          "yanchor": "middle"
         },
         {
          "font": {
           "color": "black",
           "size": 10
          },
          "showarrow": false,
          "text": "Total compounds: 27",
          "x": 100,
          "xanchor": "left",
          "y": "Ageratina ligustrina",
          "yanchor": "middle"
         },
         {
          "font": {
           "color": "black",
           "size": 10
          },
          "showarrow": false,
          "text": "Total compounds: 125",
          "x": 100,
          "xanchor": "left",
          "y": "Ageratum conyzoides",
          "yanchor": "middle"
         },
         {
          "font": {
           "color": "black",
           "size": 10
          },
          "showarrow": false,
          "text": "Total compounds: 6",
          "x": 100,
          "xanchor": "left",
          "y": "Albizia adinocephala",
          "yanchor": "middle"
         },
         {
          "font": {
           "color": "black",
           "size": 10
          },
          "showarrow": false,
          "text": "Total compounds: 22",
          "x": 100,
          "xanchor": "left",
          "y": "Alibertia edulis",
          "yanchor": "middle"
         },
         {
          "font": {
           "color": "black",
           "size": 10
          },
          "showarrow": false,
          "text": "Total compounds: 2",
          "x": 100,
          "xanchor": "left",
          "y": "Apeiba tibourbou",
          "yanchor": "middle"
         },
         {
          "font": {
           "color": "black",
           "size": 10
          },
          "showarrow": false,
          "text": "Total compounds: 2",
          "x": 100,
          "xanchor": "left",
          "y": "Arthraxon hispidus",
          "yanchor": "middle"
         },
         {
          "font": {
           "color": "black",
           "size": 10
          },
          "showarrow": false,
          "text": "Total compounds: 2",
          "x": 100,
          "xanchor": "left",
          "y": "Avicennia bicolor",
          "yanchor": "middle"
         },
         {
          "font": {
           "color": "black",
           "size": 10
          },
          "showarrow": false,
          "text": "Total compounds: 5",
          "x": 100,
          "xanchor": "left",
          "y": "Avicennia germinans",
          "yanchor": "middle"
         },
         {
          "font": {
           "color": "black",
           "size": 10
          },
          "showarrow": false,
          "text": "Total compounds: 109",
          "x": 100,
          "xanchor": "left",
          "y": "Caesalpinia pulcherrima",
          "yanchor": "middle"
         },
         {
          "font": {
           "color": "black",
           "size": 10
          },
          "showarrow": false,
          "text": "Total compounds: 6",
          "x": 100,
          "xanchor": "left",
          "y": "Calceolaria irazuensis",
          "yanchor": "middle"
         },
         {
          "font": {
           "color": "black",
           "size": 10
          },
          "showarrow": false,
          "text": "Total compounds: 31",
          "x": 100,
          "xanchor": "left",
          "y": "Calea urticifolia",
          "yanchor": "middle"
         },
         {
          "font": {
           "color": "black",
           "size": 10
          },
          "showarrow": false,
          "text": "Total compounds: 9",
          "x": 100,
          "xanchor": "left",
          "y": "Camonea umbellata",
          "yanchor": "middle"
         },
         {
          "font": {
           "color": "black",
           "size": 10
          },
          "showarrow": false,
          "text": "Total compounds: 6",
          "x": 100,
          "xanchor": "left",
          "y": "Canavalia rosea",
          "yanchor": "middle"
         },
         {
          "font": {
           "color": "black",
           "size": 10
          },
          "showarrow": false,
          "text": "Total compounds: 14",
          "x": 100,
          "xanchor": "left",
          "y": "Cassia grandis",
          "yanchor": "middle"
         },
         {
          "font": {
           "color": "black",
           "size": 10
          },
          "showarrow": false,
          "text": "Total compounds: 324",
          "x": 100,
          "xanchor": "left",
          "y": "Catharanthus roseus",
          "yanchor": "middle"
         },
         {
          "font": {
           "color": "black",
           "size": 10
          },
          "showarrow": false,
          "text": "Total compounds: 19",
          "x": 100,
          "xanchor": "left",
          "y": "Cissus verticillata",
          "yanchor": "middle"
         },
         {
          "font": {
           "color": "black",
           "size": 10
          },
          "showarrow": false,
          "text": "Total compounds: 1",
          "x": 100,
          "xanchor": "left",
          "y": "Clarisia racemosa",
          "yanchor": "middle"
         },
         {
          "font": {
           "color": "black",
           "size": 10
          },
          "showarrow": false,
          "text": "Total compounds: 6",
          "x": 100,
          "xanchor": "left",
          "y": "Cnidoscolus urens",
          "yanchor": "middle"
         },
         {
          "font": {
           "color": "black",
           "size": 10
          },
          "showarrow": false,
          "text": "Total compounds: 1",
          "x": 100,
          "xanchor": "left",
          "y": "Cojoba arborea",
          "yanchor": "middle"
         },
         {
          "font": {
           "color": "black",
           "size": 10
          },
          "showarrow": false,
          "text": "Total compounds: 32",
          "x": 100,
          "xanchor": "left",
          "y": "Crescentia cujete",
          "yanchor": "middle"
         },
         {
          "font": {
           "color": "black",
           "size": 10
          },
          "showarrow": false,
          "text": "Total compounds: 3",
          "x": 100,
          "xanchor": "left",
          "y": "Cryptostegia madagascariensis",
          "yanchor": "middle"
         },
         {
          "font": {
           "color": "black",
           "size": 10
          },
          "showarrow": false,
          "text": "Total compounds: 110",
          "x": 100,
          "xanchor": "left",
          "y": "Cymbopogon citratus",
          "yanchor": "middle"
         },
         {
          "font": {
           "color": "black",
           "size": 10
          },
          "showarrow": false,
          "text": "Total compounds: 9",
          "x": 100,
          "xanchor": "left",
          "y": "Delonix regia",
          "yanchor": "middle"
         },
         {
          "font": {
           "color": "black",
           "size": 10
          },
          "showarrow": false,
          "text": "Total compounds: 54",
          "x": 100,
          "xanchor": "left",
          "y": "Eichhornia crassipes",
          "yanchor": "middle"
         },
         {
          "font": {
           "color": "black",
           "size": 10
          },
          "showarrow": false,
          "text": "Total compounds: 20",
          "x": 100,
          "xanchor": "left",
          "y": "Erythrina berteroana",
          "yanchor": "middle"
         },
         {
          "font": {
           "color": "black",
           "size": 10
          },
          "showarrow": false,
          "text": "Total compounds: 1",
          "x": 100,
          "xanchor": "left",
          "y": "Erythroxylum fimbriatum",
          "yanchor": "middle"
         },
         {
          "font": {
           "color": "black",
           "size": 10
          },
          "showarrow": false,
          "text": "Total compounds: 1",
          "x": 100,
          "xanchor": "left",
          "y": "Euphorbia hypericifolia",
          "yanchor": "middle"
         },
         {
          "font": {
           "color": "black",
           "size": 10
          },
          "showarrow": false,
          "text": "Total compounds: 9",
          "x": 100,
          "xanchor": "left",
          "y": "Faramea occidentalis",
          "yanchor": "middle"
         },
         {
          "font": {
           "color": "black",
           "size": 10
          },
          "showarrow": false,
          "text": "Total compounds: 4",
          "x": 100,
          "xanchor": "left",
          "y": "Ficus benjamina",
          "yanchor": "middle"
         },
         {
          "font": {
           "color": "black",
           "size": 10
          },
          "showarrow": false,
          "text": "Total compounds: 4",
          "x": 100,
          "xanchor": "left",
          "y": "Ficus maxima",
          "yanchor": "middle"
         },
         {
          "font": {
           "color": "black",
           "size": 10
          },
          "showarrow": false,
          "text": "Total compounds: 7",
          "x": 100,
          "xanchor": "left",
          "y": "Fuchsia splendens",
          "yanchor": "middle"
         },
         {
          "font": {
           "color": "black",
           "size": 10
          },
          "showarrow": false,
          "text": "Total compounds: 27",
          "x": 100,
          "xanchor": "left",
          "y": "Genipa americana",
          "yanchor": "middle"
         },
         {
          "font": {
           "color": "black",
           "size": 10
          },
          "showarrow": false,
          "text": "Total compounds: 55",
          "x": 100,
          "xanchor": "left",
          "y": "Gliricidia sepium",
          "yanchor": "middle"
         },
         {
          "font": {
           "color": "black",
           "size": 10
          },
          "showarrow": false,
          "text": "Total compounds: 102",
          "x": 100,
          "xanchor": "left",
          "y": "Guilandina bonduc",
          "yanchor": "middle"
         },
         {
          "font": {
           "color": "black",
           "size": 10
          },
          "showarrow": false,
          "text": "Total compounds: 3",
          "x": 100,
          "xanchor": "left",
          "y": "Handroanthus chrysanthus",
          "yanchor": "middle"
         },
         {
          "font": {
           "color": "black",
           "size": 10
          },
          "showarrow": false,
          "text": "Total compounds: 21",
          "x": 100,
          "xanchor": "left",
          "y": "Hedyosmum bonplandianum",
          "yanchor": "middle"
         },
         {
          "font": {
           "color": "black",
           "size": 10
          },
          "showarrow": false,
          "text": "Total compounds: 2",
          "x": 100,
          "xanchor": "left",
          "y": "Herrania purpurea",
          "yanchor": "middle"
         },
         {
          "font": {
           "color": "black",
           "size": 10
          },
          "showarrow": false,
          "text": "Total compounds: 19",
          "x": 100,
          "xanchor": "left",
          "y": "Hymenaea courbaril",
          "yanchor": "middle"
         },
         {
          "font": {
           "color": "black",
           "size": 10
          },
          "showarrow": false,
          "text": "Total compounds: 25",
          "x": 100,
          "xanchor": "left",
          "y": "Indigofera hirsuta",
          "yanchor": "middle"
         },
         {
          "font": {
           "color": "black",
           "size": 10
          },
          "showarrow": false,
          "text": "Total compounds: 118",
          "x": 100,
          "xanchor": "left",
          "y": "Ipomoea nil",
          "yanchor": "middle"
         },
         {
          "font": {
           "color": "black",
           "size": 10
          },
          "showarrow": false,
          "text": "Total compounds: 45",
          "x": 100,
          "xanchor": "left",
          "y": "Jatropha gossypiifolia",
          "yanchor": "middle"
         },
         {
          "font": {
           "color": "black",
           "size": 10
          },
          "showarrow": false,
          "text": "Total compounds: 29",
          "x": 100,
          "xanchor": "left",
          "y": "Laguncularia racemosa",
          "yanchor": "middle"
         },
         {
          "font": {
           "color": "black",
           "size": 10
          },
          "showarrow": false,
          "text": "Total compounds: 218",
          "x": 100,
          "xanchor": "left",
          "y": "Lantana camara",
          "yanchor": "middle"
         },
         {
          "font": {
           "color": "black",
           "size": 10
          },
          "showarrow": false,
          "text": "Total compounds: 61",
          "x": 100,
          "xanchor": "left",
          "y": "Lawsonia inermis",
          "yanchor": "middle"
         },
         {
          "font": {
           "color": "black",
           "size": 10
          },
          "showarrow": false,
          "text": "Total compounds: 24",
          "x": 100,
          "xanchor": "left",
          "y": "Lonchocarpus heptaphyllus",
          "yanchor": "middle"
         },
         {
          "font": {
           "color": "black",
           "size": 10
          },
          "showarrow": false,
          "text": "Total compounds: 32",
          "x": 100,
          "xanchor": "left",
          "y": "Maclura tinctoria",
          "yanchor": "middle"
         },
         {
          "font": {
           "color": "black",
           "size": 10
          },
          "showarrow": false,
          "text": "Total compounds: 7",
          "x": 100,
          "xanchor": "left",
          "y": "Marila laxiflora",
          "yanchor": "middle"
         },
         {
          "font": {
           "color": "black",
           "size": 10
          },
          "showarrow": false,
          "text": "Total compounds: 22",
          "x": 100,
          "xanchor": "left",
          "y": "Maytenus woodsonii",
          "yanchor": "middle"
         },
         {
          "font": {
           "color": "black",
           "size": 10
          },
          "showarrow": false,
          "text": "Total compounds: 7",
          "x": 100,
          "xanchor": "left",
          "y": "Mesosphaerum suaveolens",
          "yanchor": "middle"
         },
         {
          "font": {
           "color": "black",
           "size": 10
          },
          "showarrow": false,
          "text": "Total compounds: 35",
          "x": 100,
          "xanchor": "left",
          "y": "Mikania micrantha",
          "yanchor": "middle"
         },
         {
          "font": {
           "color": "black",
           "size": 10
          },
          "showarrow": false,
          "text": "Total compounds: 21",
          "x": 100,
          "xanchor": "left",
          "y": "Mimosa pudica",
          "yanchor": "middle"
         },
         {
          "font": {
           "color": "black",
           "size": 10
          },
          "showarrow": false,
          "text": "Total compounds: 199",
          "x": 100,
          "xanchor": "left",
          "y": "Morinda citrifolia",
          "yanchor": "middle"
         },
         {
          "font": {
           "color": "black",
           "size": 10
          },
          "showarrow": false,
          "text": "Total compounds: 3",
          "x": 100,
          "xanchor": "left",
          "y": "Myrciaria floribunda",
          "yanchor": "middle"
         },
         {
          "font": {
           "color": "black",
           "size": 10
          },
          "showarrow": false,
          "text": "Total compounds: 24",
          "x": 100,
          "xanchor": "left",
          "y": "Nasturtium officinale",
          "yanchor": "middle"
         },
         {
          "font": {
           "color": "black",
           "size": 10
          },
          "showarrow": false,
          "text": "Total compounds: 4",
          "x": 100,
          "xanchor": "left",
          "y": "Omphalea diandra",
          "yanchor": "middle"
         },
         {
          "font": {
           "color": "black",
           "size": 10
          },
          "showarrow": false,
          "text": "Total compounds: 7",
          "x": 100,
          "xanchor": "left",
          "y": "Onoseris onoseroides",
          "yanchor": "middle"
         },
         {
          "font": {
           "color": "black",
           "size": 10
          },
          "showarrow": false,
          "text": "Total compounds: 10",
          "x": 100,
          "xanchor": "left",
          "y": "Paullinia pinnata",
          "yanchor": "middle"
         },
         {
          "font": {
           "color": "black",
           "size": 10
          },
          "showarrow": false,
          "text": "Total compounds: 16",
          "x": 100,
          "xanchor": "left",
          "y": "Peperomia galioides",
          "yanchor": "middle"
         },
         {
          "font": {
           "color": "black",
           "size": 10
          },
          "showarrow": false,
          "text": "Total compounds: 17",
          "x": 100,
          "xanchor": "left",
          "y": "Persicaria pubescens",
          "yanchor": "middle"
         },
         {
          "font": {
           "color": "black",
           "size": 10
          },
          "showarrow": false,
          "text": "Total compounds: 5",
          "x": 100,
          "xanchor": "left",
          "y": "Phenax angustifolius",
          "yanchor": "middle"
         },
         {
          "font": {
           "color": "black",
           "size": 10
          },
          "showarrow": false,
          "text": "Total compounds: 16",
          "x": 100,
          "xanchor": "left",
          "y": "Phyllanthus acuminatus",
          "yanchor": "middle"
         },
         {
          "font": {
           "color": "black",
           "size": 10
          },
          "showarrow": false,
          "text": "Total compounds: 3",
          "x": 100,
          "xanchor": "left",
          "y": "Phytolacca rivinoides",
          "yanchor": "middle"
         },
         {
          "font": {
           "color": "black",
           "size": 10
          },
          "showarrow": false,
          "text": "Total compounds: 24",
          "x": 100,
          "xanchor": "left",
          "y": "Picramnia latifolia",
          "yanchor": "middle"
         },
         {
          "font": {
           "color": "black",
           "size": 10
          },
          "showarrow": false,
          "text": "Total compounds: 1",
          "x": 100,
          "xanchor": "left",
          "y": "Piper multiplinervium",
          "yanchor": "middle"
         },
         {
          "font": {
           "color": "black",
           "size": 10
          },
          "showarrow": false,
          "text": "Total compounds: 5",
          "x": 100,
          "xanchor": "left",
          "y": "Piper reticulatum",
          "yanchor": "middle"
         },
         {
          "font": {
           "color": "black",
           "size": 10
          },
          "showarrow": false,
          "text": "Total compounds: 40",
          "x": 100,
          "xanchor": "left",
          "y": "Piper tuberculatum",
          "yanchor": "middle"
         },
         {
          "font": {
           "color": "black",
           "size": 10
          },
          "showarrow": false,
          "text": "Total compounds: 12",
          "x": 100,
          "xanchor": "left",
          "y": "Piptocarpha poeppigiana",
          "yanchor": "middle"
         },
         {
          "font": {
           "color": "black",
           "size": 10
          },
          "showarrow": false,
          "text": "Total compounds: 122",
          "x": 100,
          "xanchor": "left",
          "y": "Plumeria rubra",
          "yanchor": "middle"
         },
         {
          "font": {
           "color": "black",
           "size": 10
          },
          "showarrow": false,
          "text": "Total compounds: 2",
          "x": 100,
          "xanchor": "left",
          "y": "Posoqueria latifolia",
          "yanchor": "middle"
         },
         {
          "font": {
           "color": "black",
           "size": 10
          },
          "showarrow": false,
          "text": "Total compounds: 23",
          "x": 100,
          "xanchor": "left",
          "y": "Prosopis juliflora",
          "yanchor": "middle"
         },
         {
          "font": {
           "color": "black",
           "size": 10
          },
          "showarrow": false,
          "text": "Total compounds: 22",
          "x": 100,
          "xanchor": "left",
          "y": "Quassia amara",
          "yanchor": "middle"
         },
         {
          "font": {
           "color": "black",
           "size": 10
          },
          "showarrow": false,
          "text": "Total compounds: 8",
          "x": 100,
          "xanchor": "left",
          "y": "Rauvolfia littoralis",
          "yanchor": "middle"
         },
         {
          "font": {
           "color": "black",
           "size": 10
          },
          "showarrow": false,
          "text": "Total compounds: 9",
          "x": 100,
          "xanchor": "left",
          "y": "Rhizophora mangle",
          "yanchor": "middle"
         },
         {
          "font": {
           "color": "black",
           "size": 10
          },
          "showarrow": false,
          "text": "Total compounds: 44",
          "x": 100,
          "xanchor": "left",
          "y": "Saccharum officinarum",
          "yanchor": "middle"
         },
         {
          "font": {
           "color": "black",
           "size": 10
          },
          "showarrow": false,
          "text": "Total compounds: 3",
          "x": 100,
          "xanchor": "left",
          "y": "Samanea saman",
          "yanchor": "middle"
         },
         {
          "font": {
           "color": "black",
           "size": 10
          },
          "showarrow": false,
          "text": "Total compounds: 31",
          "x": 100,
          "xanchor": "left",
          "y": "Sansevieria trifasciata",
          "yanchor": "middle"
         },
         {
          "font": {
           "color": "black",
           "size": 10
          },
          "showarrow": false,
          "text": "Total compounds: 7",
          "x": 100,
          "xanchor": "left",
          "y": "Sapium laurifolium",
          "yanchor": "middle"
         },
         {
          "font": {
           "color": "black",
           "size": 10
          },
          "showarrow": false,
          "text": "Total compounds: 11",
          "x": 100,
          "xanchor": "left",
          "y": "Siparuna grandiflora",
          "yanchor": "middle"
         },
         {
          "font": {
           "color": "black",
           "size": 10
          },
          "showarrow": false,
          "text": "Total compounds: 5",
          "x": 100,
          "xanchor": "left",
          "y": "Smilax officinalis",
          "yanchor": "middle"
         },
         {
          "font": {
           "color": "black",
           "size": 10
          },
          "showarrow": false,
          "text": "Total compounds: 6",
          "x": 100,
          "xanchor": "left",
          "y": "Syzygium malaccense",
          "yanchor": "middle"
         },
         {
          "font": {
           "color": "black",
           "size": 10
          },
          "showarrow": false,
          "text": "Total compounds: 62",
          "x": 100,
          "xanchor": "left",
          "y": "Talipariti tiliaceum",
          "yanchor": "middle"
         },
         {
          "font": {
           "color": "black",
           "size": 10
          },
          "showarrow": false,
          "text": "Total compounds: 17",
          "x": 100,
          "xanchor": "left",
          "y": "Telanthophora grandifolia",
          "yanchor": "middle"
         },
         {
          "font": {
           "color": "black",
           "size": 10
          },
          "showarrow": false,
          "text": "Total compounds: 8",
          "x": 100,
          "xanchor": "left",
          "y": "Tovomita longifolia",
          "yanchor": "middle"
         },
         {
          "font": {
           "color": "black",
           "size": 10
          },
          "showarrow": false,
          "text": "Total compounds: 3",
          "x": 100,
          "xanchor": "left",
          "y": "Trattinnickia aspera",
          "yanchor": "middle"
         },
         {
          "font": {
           "color": "black",
           "size": 10
          },
          "showarrow": false,
          "text": "Total compounds: 12",
          "x": 100,
          "xanchor": "left",
          "y": "Trichilia pallida",
          "yanchor": "middle"
         },
         {
          "font": {
           "color": "black",
           "size": 10
          },
          "showarrow": false,
          "text": "Total compounds: 5",
          "x": 100,
          "xanchor": "left",
          "y": "Urochloa decumbens",
          "yanchor": "middle"
         },
         {
          "font": {
           "color": "black",
           "size": 10
          },
          "showarrow": false,
          "text": "Total compounds: 3",
          "x": 100,
          "xanchor": "left",
          "y": "Vasconcellea cauliflora",
          "yanchor": "middle"
         },
         {
          "font": {
           "color": "black",
           "size": 10
          },
          "showarrow": false,
          "text": "Total compounds: 6",
          "x": 100,
          "xanchor": "left",
          "y": "Verbesina myriocephala",
          "yanchor": "middle"
         },
         {
          "font": {
           "color": "black",
           "size": 10
          },
          "showarrow": false,
          "text": "Total compounds: 10",
          "x": 100,
          "xanchor": "left",
          "y": "Xylopia frutescens",
          "yanchor": "middle"
         }
        ],
        "barmode": "relative",
        "height": 1500,
        "legend": {
         "title": {
          "text": "Pathway"
         },
         "tracegroupgap": 0
        },
        "plot_bgcolor": "white",
        "template": {
         "data": {
          "bar": [
           {
            "error_x": {
             "color": "#2a3f5f"
            },
            "error_y": {
             "color": "#2a3f5f"
            },
            "marker": {
             "line": {
              "color": "#E5ECF6",
              "width": 0.5
             },
             "pattern": {
              "fillmode": "overlay",
              "size": 10,
              "solidity": 0.2
             }
            },
            "type": "bar"
           }
          ],
          "barpolar": [
           {
            "marker": {
             "line": {
              "color": "#E5ECF6",
              "width": 0.5
             },
             "pattern": {
              "fillmode": "overlay",
              "size": 10,
              "solidity": 0.2
             }
            },
            "type": "barpolar"
           }
          ],
          "carpet": [
           {
            "aaxis": {
             "endlinecolor": "#2a3f5f",
             "gridcolor": "white",
             "linecolor": "white",
             "minorgridcolor": "white",
             "startlinecolor": "#2a3f5f"
            },
            "baxis": {
             "endlinecolor": "#2a3f5f",
             "gridcolor": "white",
             "linecolor": "white",
             "minorgridcolor": "white",
             "startlinecolor": "#2a3f5f"
            },
            "type": "carpet"
           }
          ],
          "choropleth": [
           {
            "colorbar": {
             "outlinewidth": 0,
             "ticks": ""
            },
            "type": "choropleth"
           }
          ],
          "contour": [
           {
            "colorbar": {
             "outlinewidth": 0,
             "ticks": ""
            },
            "colorscale": [
             [
              0,
              "#0d0887"
             ],
             [
              0.1111111111111111,
              "#46039f"
             ],
             [
              0.2222222222222222,
              "#7201a8"
             ],
             [
              0.3333333333333333,
              "#9c179e"
             ],
             [
              0.4444444444444444,
              "#bd3786"
             ],
             [
              0.5555555555555556,
              "#d8576b"
             ],
             [
              0.6666666666666666,
              "#ed7953"
             ],
             [
              0.7777777777777778,
              "#fb9f3a"
             ],
             [
              0.8888888888888888,
              "#fdca26"
             ],
             [
              1,
              "#f0f921"
             ]
            ],
            "type": "contour"
           }
          ],
          "contourcarpet": [
           {
            "colorbar": {
             "outlinewidth": 0,
             "ticks": ""
            },
            "type": "contourcarpet"
           }
          ],
          "heatmap": [
           {
            "colorbar": {
             "outlinewidth": 0,
             "ticks": ""
            },
            "colorscale": [
             [
              0,
              "#0d0887"
             ],
             [
              0.1111111111111111,
              "#46039f"
             ],
             [
              0.2222222222222222,
              "#7201a8"
             ],
             [
              0.3333333333333333,
              "#9c179e"
             ],
             [
              0.4444444444444444,
              "#bd3786"
             ],
             [
              0.5555555555555556,
              "#d8576b"
             ],
             [
              0.6666666666666666,
              "#ed7953"
             ],
             [
              0.7777777777777778,
              "#fb9f3a"
             ],
             [
              0.8888888888888888,
              "#fdca26"
             ],
             [
              1,
              "#f0f921"
             ]
            ],
            "type": "heatmap"
           }
          ],
          "heatmapgl": [
           {
            "colorbar": {
             "outlinewidth": 0,
             "ticks": ""
            },
            "colorscale": [
             [
              0,
              "#0d0887"
             ],
             [
              0.1111111111111111,
              "#46039f"
             ],
             [
              0.2222222222222222,
              "#7201a8"
             ],
             [
              0.3333333333333333,
              "#9c179e"
             ],
             [
              0.4444444444444444,
              "#bd3786"
             ],
             [
              0.5555555555555556,
              "#d8576b"
             ],
             [
              0.6666666666666666,
              "#ed7953"
             ],
             [
              0.7777777777777778,
              "#fb9f3a"
             ],
             [
              0.8888888888888888,
              "#fdca26"
             ],
             [
              1,
              "#f0f921"
             ]
            ],
            "type": "heatmapgl"
           }
          ],
          "histogram": [
           {
            "marker": {
             "pattern": {
              "fillmode": "overlay",
              "size": 10,
              "solidity": 0.2
             }
            },
            "type": "histogram"
           }
          ],
          "histogram2d": [
           {
            "colorbar": {
             "outlinewidth": 0,
             "ticks": ""
            },
            "colorscale": [
             [
              0,
              "#0d0887"
             ],
             [
              0.1111111111111111,
              "#46039f"
             ],
             [
              0.2222222222222222,
              "#7201a8"
             ],
             [
              0.3333333333333333,
              "#9c179e"
             ],
             [
              0.4444444444444444,
              "#bd3786"
             ],
             [
              0.5555555555555556,
              "#d8576b"
             ],
             [
              0.6666666666666666,
              "#ed7953"
             ],
             [
              0.7777777777777778,
              "#fb9f3a"
             ],
             [
              0.8888888888888888,
              "#fdca26"
             ],
             [
              1,
              "#f0f921"
             ]
            ],
            "type": "histogram2d"
           }
          ],
          "histogram2dcontour": [
           {
            "colorbar": {
             "outlinewidth": 0,
             "ticks": ""
            },
            "colorscale": [
             [
              0,
              "#0d0887"
             ],
             [
              0.1111111111111111,
              "#46039f"
             ],
             [
              0.2222222222222222,
              "#7201a8"
             ],
             [
              0.3333333333333333,
              "#9c179e"
             ],
             [
              0.4444444444444444,
              "#bd3786"
             ],
             [
              0.5555555555555556,
              "#d8576b"
             ],
             [
              0.6666666666666666,
              "#ed7953"
             ],
             [
              0.7777777777777778,
              "#fb9f3a"
             ],
             [
              0.8888888888888888,
              "#fdca26"
             ],
             [
              1,
              "#f0f921"
             ]
            ],
            "type": "histogram2dcontour"
           }
          ],
          "mesh3d": [
           {
            "colorbar": {
             "outlinewidth": 0,
             "ticks": ""
            },
            "type": "mesh3d"
           }
          ],
          "parcoords": [
           {
            "line": {
             "colorbar": {
              "outlinewidth": 0,
              "ticks": ""
             }
            },
            "type": "parcoords"
           }
          ],
          "pie": [
           {
            "automargin": true,
            "type": "pie"
           }
          ],
          "scatter": [
           {
            "fillpattern": {
             "fillmode": "overlay",
             "size": 10,
             "solidity": 0.2
            },
            "type": "scatter"
           }
          ],
          "scatter3d": [
           {
            "line": {
             "colorbar": {
              "outlinewidth": 0,
              "ticks": ""
             }
            },
            "marker": {
             "colorbar": {
              "outlinewidth": 0,
              "ticks": ""
             }
            },
            "type": "scatter3d"
           }
          ],
          "scattercarpet": [
           {
            "marker": {
             "colorbar": {
              "outlinewidth": 0,
              "ticks": ""
             }
            },
            "type": "scattercarpet"
           }
          ],
          "scattergeo": [
           {
            "marker": {
             "colorbar": {
              "outlinewidth": 0,
              "ticks": ""
             }
            },
            "type": "scattergeo"
           }
          ],
          "scattergl": [
           {
            "marker": {
             "colorbar": {
              "outlinewidth": 0,
              "ticks": ""
             }
            },
            "type": "scattergl"
           }
          ],
          "scattermapbox": [
           {
            "marker": {
             "colorbar": {
              "outlinewidth": 0,
              "ticks": ""
             }
            },
            "type": "scattermapbox"
           }
          ],
          "scatterpolar": [
           {
            "marker": {
             "colorbar": {
              "outlinewidth": 0,
              "ticks": ""
             }
            },
            "type": "scatterpolar"
           }
          ],
          "scatterpolargl": [
           {
            "marker": {
             "colorbar": {
              "outlinewidth": 0,
              "ticks": ""
             }
            },
            "type": "scatterpolargl"
           }
          ],
          "scatterternary": [
           {
            "marker": {
             "colorbar": {
              "outlinewidth": 0,
              "ticks": ""
             }
            },
            "type": "scatterternary"
           }
          ],
          "surface": [
           {
            "colorbar": {
             "outlinewidth": 0,
             "ticks": ""
            },
            "colorscale": [
             [
              0,
              "#0d0887"
             ],
             [
              0.1111111111111111,
              "#46039f"
             ],
             [
              0.2222222222222222,
              "#7201a8"
             ],
             [
              0.3333333333333333,
              "#9c179e"
             ],
             [
              0.4444444444444444,
              "#bd3786"
             ],
             [
              0.5555555555555556,
              "#d8576b"
             ],
             [
              0.6666666666666666,
              "#ed7953"
             ],
             [
              0.7777777777777778,
              "#fb9f3a"
             ],
             [
              0.8888888888888888,
              "#fdca26"
             ],
             [
              1,
              "#f0f921"
             ]
            ],
            "type": "surface"
           }
          ],
          "table": [
           {
            "cells": {
             "fill": {
              "color": "#EBF0F8"
             },
             "line": {
              "color": "white"
             }
            },
            "header": {
             "fill": {
              "color": "#C8D4E3"
             },
             "line": {
              "color": "white"
             }
            },
            "type": "table"
           }
          ]
         },
         "layout": {
          "annotationdefaults": {
           "arrowcolor": "#2a3f5f",
           "arrowhead": 0,
           "arrowwidth": 1
          },
          "autotypenumbers": "strict",
          "coloraxis": {
           "colorbar": {
            "outlinewidth": 0,
            "ticks": ""
           }
          },
          "colorscale": {
           "diverging": [
            [
             0,
             "#8e0152"
            ],
            [
             0.1,
             "#c51b7d"
            ],
            [
             0.2,
             "#de77ae"
            ],
            [
             0.3,
             "#f1b6da"
            ],
            [
             0.4,
             "#fde0ef"
            ],
            [
             0.5,
             "#f7f7f7"
            ],
            [
             0.6,
             "#e6f5d0"
            ],
            [
             0.7,
             "#b8e186"
            ],
            [
             0.8,
             "#7fbc41"
            ],
            [
             0.9,
             "#4d9221"
            ],
            [
             1,
             "#276419"
            ]
           ],
           "sequential": [
            [
             0,
             "#0d0887"
            ],
            [
             0.1111111111111111,
             "#46039f"
            ],
            [
             0.2222222222222222,
             "#7201a8"
            ],
            [
             0.3333333333333333,
             "#9c179e"
            ],
            [
             0.4444444444444444,
             "#bd3786"
            ],
            [
             0.5555555555555556,
             "#d8576b"
            ],
            [
             0.6666666666666666,
             "#ed7953"
            ],
            [
             0.7777777777777778,
             "#fb9f3a"
            ],
            [
             0.8888888888888888,
             "#fdca26"
            ],
            [
             1,
             "#f0f921"
            ]
           ],
           "sequentialminus": [
            [
             0,
             "#0d0887"
            ],
            [
             0.1111111111111111,
             "#46039f"
            ],
            [
             0.2222222222222222,
             "#7201a8"
            ],
            [
             0.3333333333333333,
             "#9c179e"
            ],
            [
             0.4444444444444444,
             "#bd3786"
            ],
            [
             0.5555555555555556,
             "#d8576b"
            ],
            [
             0.6666666666666666,
             "#ed7953"
            ],
            [
             0.7777777777777778,
             "#fb9f3a"
            ],
            [
             0.8888888888888888,
             "#fdca26"
            ],
            [
             1,
             "#f0f921"
            ]
           ]
          },
          "colorway": [
           "#636efa",
           "#EF553B",
           "#00cc96",
           "#ab63fa",
           "#FFA15A",
           "#19d3f3",
           "#FF6692",
           "#B6E880",
           "#FF97FF",
           "#FECB52"
          ],
          "font": {
           "color": "#2a3f5f"
          },
          "geo": {
           "bgcolor": "white",
           "lakecolor": "white",
           "landcolor": "#E5ECF6",
           "showlakes": true,
           "showland": true,
           "subunitcolor": "white"
          },
          "hoverlabel": {
           "align": "left"
          },
          "hovermode": "closest",
          "mapbox": {
           "style": "light"
          },
          "paper_bgcolor": "white",
          "plot_bgcolor": "#E5ECF6",
          "polar": {
           "angularaxis": {
            "gridcolor": "white",
            "linecolor": "white",
            "ticks": ""
           },
           "bgcolor": "#E5ECF6",
           "radialaxis": {
            "gridcolor": "white",
            "linecolor": "white",
            "ticks": ""
           }
          },
          "scene": {
           "xaxis": {
            "backgroundcolor": "#E5ECF6",
            "gridcolor": "white",
            "gridwidth": 2,
            "linecolor": "white",
            "showbackground": true,
            "ticks": "",
            "zerolinecolor": "white"
           },
           "yaxis": {
            "backgroundcolor": "#E5ECF6",
            "gridcolor": "white",
            "gridwidth": 2,
            "linecolor": "white",
            "showbackground": true,
            "ticks": "",
            "zerolinecolor": "white"
           },
           "zaxis": {
            "backgroundcolor": "#E5ECF6",
            "gridcolor": "white",
            "gridwidth": 2,
            "linecolor": "white",
            "showbackground": true,
            "ticks": "",
            "zerolinecolor": "white"
           }
          },
          "shapedefaults": {
           "line": {
            "color": "#2a3f5f"
           }
          },
          "ternary": {
           "aaxis": {
            "gridcolor": "white",
            "linecolor": "white",
            "ticks": ""
           },
           "baxis": {
            "gridcolor": "white",
            "linecolor": "white",
            "ticks": ""
           },
           "bgcolor": "#E5ECF6",
           "caxis": {
            "gridcolor": "white",
            "linecolor": "white",
            "ticks": ""
           }
          },
          "title": {
           "x": 0.05
          },
          "xaxis": {
           "automargin": true,
           "gridcolor": "white",
           "linecolor": "white",
           "ticks": "",
           "title": {
            "standoff": 15
           },
           "zerolinecolor": "white",
           "zerolinewidth": 2
          },
          "yaxis": {
           "automargin": true,
           "gridcolor": "white",
           "linecolor": "white",
           "ticks": "",
           "title": {
            "standoff": 15
           },
           "zerolinecolor": "white",
           "zerolinewidth": 2
          }
         }
        },
        "title": {
         "text": "Normalized Stacked Barplot of Predicted Pathways Ocurrence for Species"
        },
        "width": 1500,
        "xaxis": {
         "anchor": "y",
         "domain": [
          0,
          1
         ],
         "title": {
          "text": "Recurrence"
         }
        },
        "yaxis": {
         "anchor": "x",
         "categoryarray": [
          "Xylopia frutescens",
          "Verbesina myriocephala",
          "Vasconcellea cauliflora",
          "Urochloa decumbens",
          "Trichilia pallida",
          "Trattinnickia aspera",
          "Tovomita longifolia",
          "Telanthophora grandifolia",
          "Talipariti tiliaceum",
          "Syzygium malaccense",
          "Smilax officinalis",
          "Siparuna grandiflora",
          "Sapium laurifolium",
          "Sansevieria trifasciata",
          "Samanea saman",
          "Saccharum officinarum",
          "Rhizophora mangle",
          "Rauvolfia littoralis",
          "Quassia amara",
          "Prosopis juliflora",
          "Posoqueria latifolia",
          "Plumeria rubra",
          "Piptocarpha poeppigiana",
          "Piper tuberculatum",
          "Piper reticulatum",
          "Piper multiplinervium",
          "Picramnia latifolia",
          "Phytolacca rivinoides",
          "Phyllanthus acuminatus",
          "Phenax angustifolius",
          "Persicaria pubescens",
          "Peperomia galioides",
          "Paullinia pinnata",
          "Onoseris onoseroides",
          "Omphalea diandra",
          "Nasturtium officinale",
          "Myrciaria floribunda",
          "Morinda citrifolia",
          "Mimosa pudica",
          "Mikania micrantha",
          "Mesosphaerum suaveolens",
          "Maytenus woodsonii",
          "Marila laxiflora",
          "Maclura tinctoria",
          "Lonchocarpus heptaphyllus",
          "Lawsonia inermis",
          "Lantana camara",
          "Laguncularia racemosa",
          "Jatropha gossypiifolia",
          "Ipomoea nil",
          "Indigofera hirsuta",
          "Hymenaea courbaril",
          "Herrania purpurea",
          "Hedyosmum bonplandianum",
          "Handroanthus chrysanthus",
          "Guilandina bonduc",
          "Gliricidia sepium",
          "Genipa americana",
          "Fuchsia splendens",
          "Ficus maxima",
          "Ficus benjamina",
          "Faramea occidentalis",
          "Euphorbia hypericifolia",
          "Erythroxylum fimbriatum",
          "Erythrina berteroana",
          "Eichhornia crassipes",
          "Delonix regia",
          "Cymbopogon citratus",
          "Cryptostegia madagascariensis",
          "Crescentia cujete",
          "Cojoba arborea",
          "Cnidoscolus urens",
          "Clarisia racemosa",
          "Cissus verticillata",
          "Catharanthus roseus",
          "Cassia grandis",
          "Canavalia rosea",
          "Camonea umbellata",
          "Calea urticifolia",
          "Calceolaria irazuensis",
          "Caesalpinia pulcherrima",
          "Avicennia germinans",
          "Avicennia bicolor",
          "Arthraxon hispidus",
          "Apeiba tibourbou",
          "Alibertia edulis",
          "Albizia adinocephala",
          "Ageratum conyzoides",
          "Ageratina ligustrina",
          "Ageratina ixiocladon",
          "Acrostichum aureum",
          "Acrocomia aculeata"
         ],
         "categoryorder": "array",
         "domain": [
          0,
          1
         ],
         "tickmode": "array",
         "ticktext": [
          "<i>Acrocomia aculeata</i>",
          "<i>Acrostichum aureum</i>",
          "<i>Ageratina ixiocladon</i>",
          "<i>Ageratina ligustrina</i>",
          "<i>Ageratum conyzoides</i>",
          "<i>Albizia adinocephala</i>",
          "<i>Alibertia edulis</i>",
          "<i>Apeiba tibourbou</i>",
          "<i>Arthraxon hispidus</i>",
          "<i>Avicennia bicolor</i>",
          "<i>Avicennia germinans</i>",
          "<i>Caesalpinia pulcherrima</i>",
          "<i>Calceolaria irazuensis</i>",
          "<i>Calea urticifolia</i>",
          "<i>Camonea umbellata</i>",
          "<i>Canavalia rosea</i>",
          "<i>Cassia grandis</i>",
          "<i>Catharanthus roseus</i>",
          "<i>Cissus verticillata</i>",
          "<i>Clarisia racemosa</i>",
          "<i>Cnidoscolus urens</i>",
          "<i>Cojoba arborea</i>",
          "<i>Crescentia cujete</i>",
          "<i>Cryptostegia madagascariensis</i>",
          "<i>Cymbopogon citratus</i>",
          "<i>Delonix regia</i>",
          "<i>Eichhornia crassipes</i>",
          "<i>Erythrina berteroana</i>",
          "<i>Erythroxylum fimbriatum</i>",
          "<i>Euphorbia hypericifolia</i>",
          "<i>Faramea occidentalis</i>",
          "<i>Ficus benjamina</i>",
          "<i>Ficus maxima</i>",
          "<i>Fuchsia splendens</i>",
          "<i>Genipa americana</i>",
          "<i>Gliricidia sepium</i>",
          "<i>Guilandina bonduc</i>",
          "<i>Handroanthus chrysanthus</i>",
          "<i>Hedyosmum bonplandianum</i>",
          "<i>Herrania purpurea</i>",
          "<i>Hymenaea courbaril</i>",
          "<i>Indigofera hirsuta</i>",
          "<i>Ipomoea nil</i>",
          "<i>Jatropha gossypiifolia</i>",
          "<i>Laguncularia racemosa</i>",
          "<i>Lantana camara</i>",
          "<i>Lawsonia inermis</i>",
          "<i>Lonchocarpus heptaphyllus</i>",
          "<i>Maclura tinctoria</i>",
          "<i>Marila laxiflora</i>",
          "<i>Maytenus woodsonii</i>",
          "<i>Mesosphaerum suaveolens</i>",
          "<i>Mikania micrantha</i>",
          "<i>Mimosa pudica</i>",
          "<i>Morinda citrifolia</i>",
          "<i>Myrciaria floribunda</i>",
          "<i>Nasturtium officinale</i>",
          "<i>Omphalea diandra</i>",
          "<i>Onoseris onoseroides</i>",
          "<i>Paullinia pinnata</i>",
          "<i>Peperomia galioides</i>",
          "<i>Persicaria pubescens</i>",
          "<i>Phenax angustifolius</i>",
          "<i>Phyllanthus acuminatus</i>",
          "<i>Phytolacca rivinoides</i>",
          "<i>Picramnia latifolia</i>",
          "<i>Piper multiplinervium</i>",
          "<i>Piper reticulatum</i>",
          "<i>Piper tuberculatum</i>",
          "<i>Piptocarpha poeppigiana</i>",
          "<i>Plumeria rubra</i>",
          "<i>Posoqueria latifolia</i>",
          "<i>Prosopis juliflora</i>",
          "<i>Quassia amara</i>",
          "<i>Rauvolfia littoralis</i>",
          "<i>Rhizophora mangle</i>",
          "<i>Saccharum officinarum</i>",
          "<i>Samanea saman</i>",
          "<i>Sansevieria trifasciata</i>",
          "<i>Sapium laurifolium</i>",
          "<i>Siparuna grandiflora</i>",
          "<i>Smilax officinalis</i>",
          "<i>Syzygium malaccense</i>",
          "<i>Talipariti tiliaceum</i>",
          "<i>Telanthophora grandifolia</i>",
          "<i>Tovomita longifolia</i>",
          "<i>Trattinnickia aspera</i>",
          "<i>Trichilia pallida</i>",
          "<i>Urochloa decumbens</i>",
          "<i>Vasconcellea cauliflora</i>",
          "<i>Verbesina myriocephala</i>",
          "<i>Xylopia frutescens</i>"
         ],
         "tickvals": [
          0,
          1,
          2,
          3,
          4,
          5,
          6,
          7,
          8,
          9,
          10,
          11,
          12,
          13,
          14,
          15,
          16,
          17,
          18,
          19,
          20,
          21,
          22,
          23,
          24,
          25,
          26,
          27,
          28,
          29,
          30,
          31,
          32,
          33,
          34,
          35,
          36,
          37,
          38,
          39,
          40,
          41,
          42,
          43,
          44,
          45,
          46,
          47,
          48,
          49,
          50,
          51,
          52,
          53,
          54,
          55,
          56,
          57,
          58,
          59,
          60,
          61,
          62,
          63,
          64,
          65,
          66,
          67,
          68,
          69,
          70,
          71,
          72,
          73,
          74,
          75,
          76,
          77,
          78,
          79,
          80,
          81,
          82,
          83,
          84,
          85,
          86,
          87,
          88,
          89,
          90,
          91
         ],
         "title": {
          "text": "<i>Species<i>"
         }
        }
       }
      }
     },
     "metadata": {},
     "output_type": "display_data"
    }
   ],
   "source": [
    "barplot_pathway_species(output_folder)\n",
    "barplot_pathway_species_normalized(output_folder)"
   ]
  },
  {
   "cell_type": "code",
   "execution_count": 28,
   "metadata": {},
   "outputs": [
    {
     "name": "stderr",
     "output_type": "stream",
     "text": [
      "C:\\Users\\quirosgu\\AppData\\Local\\Temp\\ipykernel_22840\\1651274787.py:781: FutureWarning:\n",
      "\n",
      "The behavior of DataFrame concatenation with empty or all-NA entries is deprecated. In a future version, this will no longer exclude empty or all-NA columns when determining the result dtypes. To retain the old behavior, exclude the relevant entries before the concat operation.\n",
      "\n",
      "C:\\Users\\quirosgu\\AppData\\Local\\Temp\\ipykernel_22840\\1651274787.py:854: FutureWarning:\n",
      "\n",
      "The behavior of DataFrame concatenation with empty or all-NA entries is deprecated. In a future version, this will no longer exclude empty or all-NA columns when determining the result dtypes. To retain the old behavior, exclude the relevant entries before the concat operation.\n",
      "\n",
      "C:\\Users\\quirosgu\\AppData\\Local\\Temp\\ipykernel_22840\\1651274787.py:854: FutureWarning:\n",
      "\n",
      "The behavior of DataFrame concatenation with empty or all-NA entries is deprecated. In a future version, this will no longer exclude empty or all-NA columns when determining the result dtypes. To retain the old behavior, exclude the relevant entries before the concat operation.\n",
      "\n",
      "C:\\Users\\quirosgu\\AppData\\Local\\Temp\\ipykernel_22840\\1651274787.py:854: FutureWarning:\n",
      "\n",
      "The behavior of DataFrame concatenation with empty or all-NA entries is deprecated. In a future version, this will no longer exclude empty or all-NA columns when determining the result dtypes. To retain the old behavior, exclude the relevant entries before the concat operation.\n",
      "\n",
      "C:\\Users\\quirosgu\\AppData\\Local\\Temp\\ipykernel_22840\\1651274787.py:854: FutureWarning:\n",
      "\n",
      "The behavior of DataFrame concatenation with empty or all-NA entries is deprecated. In a future version, this will no longer exclude empty or all-NA columns when determining the result dtypes. To retain the old behavior, exclude the relevant entries before the concat operation.\n",
      "\n",
      "C:\\Users\\quirosgu\\AppData\\Local\\Temp\\ipykernel_22840\\1651274787.py:854: FutureWarning:\n",
      "\n",
      "The behavior of DataFrame concatenation with empty or all-NA entries is deprecated. In a future version, this will no longer exclude empty or all-NA columns when determining the result dtypes. To retain the old behavior, exclude the relevant entries before the concat operation.\n",
      "\n",
      "C:\\Users\\quirosgu\\AppData\\Local\\Temp\\ipykernel_22840\\1651274787.py:854: FutureWarning:\n",
      "\n",
      "The behavior of DataFrame concatenation with empty or all-NA entries is deprecated. In a future version, this will no longer exclude empty or all-NA columns when determining the result dtypes. To retain the old behavior, exclude the relevant entries before the concat operation.\n",
      "\n",
      "C:\\Users\\quirosgu\\AppData\\Local\\Temp\\ipykernel_22840\\1651274787.py:854: FutureWarning:\n",
      "\n",
      "The behavior of DataFrame concatenation with empty or all-NA entries is deprecated. In a future version, this will no longer exclude empty or all-NA columns when determining the result dtypes. To retain the old behavior, exclude the relevant entries before the concat operation.\n",
      "\n",
      "C:\\Users\\quirosgu\\AppData\\Local\\Temp\\ipykernel_22840\\1651274787.py:854: FutureWarning:\n",
      "\n",
      "The behavior of DataFrame concatenation with empty or all-NA entries is deprecated. In a future version, this will no longer exclude empty or all-NA columns when determining the result dtypes. To retain the old behavior, exclude the relevant entries before the concat operation.\n",
      "\n",
      "C:\\Users\\quirosgu\\AppData\\Local\\Temp\\ipykernel_22840\\1651274787.py:854: FutureWarning:\n",
      "\n",
      "The behavior of DataFrame concatenation with empty or all-NA entries is deprecated. In a future version, this will no longer exclude empty or all-NA columns when determining the result dtypes. To retain the old behavior, exclude the relevant entries before the concat operation.\n",
      "\n",
      "C:\\Users\\quirosgu\\AppData\\Local\\Temp\\ipykernel_22840\\1651274787.py:854: FutureWarning:\n",
      "\n",
      "The behavior of DataFrame concatenation with empty or all-NA entries is deprecated. In a future version, this will no longer exclude empty or all-NA columns when determining the result dtypes. To retain the old behavior, exclude the relevant entries before the concat operation.\n",
      "\n",
      "C:\\Users\\quirosgu\\AppData\\Local\\Temp\\ipykernel_22840\\1651274787.py:854: FutureWarning:\n",
      "\n",
      "The behavior of DataFrame concatenation with empty or all-NA entries is deprecated. In a future version, this will no longer exclude empty or all-NA columns when determining the result dtypes. To retain the old behavior, exclude the relevant entries before the concat operation.\n",
      "\n",
      "C:\\Users\\quirosgu\\AppData\\Local\\Temp\\ipykernel_22840\\1651274787.py:854: FutureWarning:\n",
      "\n",
      "The behavior of DataFrame concatenation with empty or all-NA entries is deprecated. In a future version, this will no longer exclude empty or all-NA columns when determining the result dtypes. To retain the old behavior, exclude the relevant entries before the concat operation.\n",
      "\n",
      "C:\\Users\\quirosgu\\AppData\\Local\\Temp\\ipykernel_22840\\1651274787.py:854: FutureWarning:\n",
      "\n",
      "The behavior of DataFrame concatenation with empty or all-NA entries is deprecated. In a future version, this will no longer exclude empty or all-NA columns when determining the result dtypes. To retain the old behavior, exclude the relevant entries before the concat operation.\n",
      "\n"
     ]
    },
    {
     "name": "stdout",
     "output_type": "stream",
     "text": [
      "An error occurred: 'Unknown'\n"
     ]
    },
    {
     "name": "stderr",
     "output_type": "stream",
     "text": [
      "C:\\Users\\quirosgu\\AppData\\Local\\Temp\\ipykernel_22840\\1651274787.py:854: FutureWarning:\n",
      "\n",
      "The behavior of DataFrame concatenation with empty or all-NA entries is deprecated. In a future version, this will no longer exclude empty or all-NA columns when determining the result dtypes. To retain the old behavior, exclude the relevant entries before the concat operation.\n",
      "\n",
      "C:\\Users\\quirosgu\\AppData\\Local\\Temp\\ipykernel_22840\\1651274787.py:854: FutureWarning:\n",
      "\n",
      "The behavior of DataFrame concatenation with empty or all-NA entries is deprecated. In a future version, this will no longer exclude empty or all-NA columns when determining the result dtypes. To retain the old behavior, exclude the relevant entries before the concat operation.\n",
      "\n",
      "C:\\Users\\quirosgu\\AppData\\Local\\Temp\\ipykernel_22840\\1651274787.py:854: FutureWarning:\n",
      "\n",
      "The behavior of DataFrame concatenation with empty or all-NA entries is deprecated. In a future version, this will no longer exclude empty or all-NA columns when determining the result dtypes. To retain the old behavior, exclude the relevant entries before the concat operation.\n",
      "\n",
      "C:\\Users\\quirosgu\\AppData\\Local\\Temp\\ipykernel_22840\\1651274787.py:854: FutureWarning:\n",
      "\n",
      "The behavior of DataFrame concatenation with empty or all-NA entries is deprecated. In a future version, this will no longer exclude empty or all-NA columns when determining the result dtypes. To retain the old behavior, exclude the relevant entries before the concat operation.\n",
      "\n",
      "C:\\Users\\quirosgu\\AppData\\Local\\Temp\\ipykernel_22840\\1651274787.py:854: FutureWarning:\n",
      "\n",
      "The behavior of DataFrame concatenation with empty or all-NA entries is deprecated. In a future version, this will no longer exclude empty or all-NA columns when determining the result dtypes. To retain the old behavior, exclude the relevant entries before the concat operation.\n",
      "\n",
      "C:\\Users\\quirosgu\\AppData\\Local\\Temp\\ipykernel_22840\\1651274787.py:854: FutureWarning:\n",
      "\n",
      "The behavior of DataFrame concatenation with empty or all-NA entries is deprecated. In a future version, this will no longer exclude empty or all-NA columns when determining the result dtypes. To retain the old behavior, exclude the relevant entries before the concat operation.\n",
      "\n",
      "C:\\Users\\quirosgu\\AppData\\Local\\Temp\\ipykernel_22840\\1651274787.py:854: FutureWarning:\n",
      "\n",
      "The behavior of DataFrame concatenation with empty or all-NA entries is deprecated. In a future version, this will no longer exclude empty or all-NA columns when determining the result dtypes. To retain the old behavior, exclude the relevant entries before the concat operation.\n",
      "\n",
      "C:\\Users\\quirosgu\\AppData\\Local\\Temp\\ipykernel_22840\\1651274787.py:854: FutureWarning:\n",
      "\n",
      "The behavior of DataFrame concatenation with empty or all-NA entries is deprecated. In a future version, this will no longer exclude empty or all-NA columns when determining the result dtypes. To retain the old behavior, exclude the relevant entries before the concat operation.\n",
      "\n",
      "C:\\Users\\quirosgu\\AppData\\Local\\Temp\\ipykernel_22840\\1651274787.py:854: FutureWarning:\n",
      "\n",
      "The behavior of DataFrame concatenation with empty or all-NA entries is deprecated. In a future version, this will no longer exclude empty or all-NA columns when determining the result dtypes. To retain the old behavior, exclude the relevant entries before the concat operation.\n",
      "\n",
      "C:\\Users\\quirosgu\\AppData\\Local\\Temp\\ipykernel_22840\\1651274787.py:854: FutureWarning:\n",
      "\n",
      "The behavior of DataFrame concatenation with empty or all-NA entries is deprecated. In a future version, this will no longer exclude empty or all-NA columns when determining the result dtypes. To retain the old behavior, exclude the relevant entries before the concat operation.\n",
      "\n",
      "C:\\Users\\quirosgu\\AppData\\Local\\Temp\\ipykernel_22840\\1651274787.py:854: FutureWarning:\n",
      "\n",
      "The behavior of DataFrame concatenation with empty or all-NA entries is deprecated. In a future version, this will no longer exclude empty or all-NA columns when determining the result dtypes. To retain the old behavior, exclude the relevant entries before the concat operation.\n",
      "\n",
      "C:\\Users\\quirosgu\\AppData\\Local\\Temp\\ipykernel_22840\\1651274787.py:854: FutureWarning:\n",
      "\n",
      "The behavior of DataFrame concatenation with empty or all-NA entries is deprecated. In a future version, this will no longer exclude empty or all-NA columns when determining the result dtypes. To retain the old behavior, exclude the relevant entries before the concat operation.\n",
      "\n",
      "C:\\Users\\quirosgu\\AppData\\Local\\Temp\\ipykernel_22840\\1651274787.py:854: FutureWarning:\n",
      "\n",
      "The behavior of DataFrame concatenation with empty or all-NA entries is deprecated. In a future version, this will no longer exclude empty or all-NA columns when determining the result dtypes. To retain the old behavior, exclude the relevant entries before the concat operation.\n",
      "\n",
      "C:\\Users\\quirosgu\\AppData\\Local\\Temp\\ipykernel_22840\\1651274787.py:854: FutureWarning:\n",
      "\n",
      "The behavior of DataFrame concatenation with empty or all-NA entries is deprecated. In a future version, this will no longer exclude empty or all-NA columns when determining the result dtypes. To retain the old behavior, exclude the relevant entries before the concat operation.\n",
      "\n",
      "C:\\Users\\quirosgu\\AppData\\Local\\Temp\\ipykernel_22840\\1651274787.py:854: FutureWarning:\n",
      "\n",
      "The behavior of DataFrame concatenation with empty or all-NA entries is deprecated. In a future version, this will no longer exclude empty or all-NA columns when determining the result dtypes. To retain the old behavior, exclude the relevant entries before the concat operation.\n",
      "\n",
      "C:\\Users\\quirosgu\\AppData\\Local\\Temp\\ipykernel_22840\\1651274787.py:854: FutureWarning:\n",
      "\n",
      "The behavior of DataFrame concatenation with empty or all-NA entries is deprecated. In a future version, this will no longer exclude empty or all-NA columns when determining the result dtypes. To retain the old behavior, exclude the relevant entries before the concat operation.\n",
      "\n",
      "C:\\Users\\quirosgu\\AppData\\Local\\Temp\\ipykernel_22840\\1651274787.py:854: FutureWarning:\n",
      "\n",
      "The behavior of DataFrame concatenation with empty or all-NA entries is deprecated. In a future version, this will no longer exclude empty or all-NA columns when determining the result dtypes. To retain the old behavior, exclude the relevant entries before the concat operation.\n",
      "\n",
      "C:\\Users\\quirosgu\\AppData\\Local\\Temp\\ipykernel_22840\\1651274787.py:854: FutureWarning:\n",
      "\n",
      "The behavior of DataFrame concatenation with empty or all-NA entries is deprecated. In a future version, this will no longer exclude empty or all-NA columns when determining the result dtypes. To retain the old behavior, exclude the relevant entries before the concat operation.\n",
      "\n",
      "C:\\Users\\quirosgu\\AppData\\Local\\Temp\\ipykernel_22840\\1651274787.py:854: FutureWarning:\n",
      "\n",
      "The behavior of DataFrame concatenation with empty or all-NA entries is deprecated. In a future version, this will no longer exclude empty or all-NA columns when determining the result dtypes. To retain the old behavior, exclude the relevant entries before the concat operation.\n",
      "\n",
      "C:\\Users\\quirosgu\\AppData\\Local\\Temp\\ipykernel_22840\\1651274787.py:854: FutureWarning:\n",
      "\n",
      "The behavior of DataFrame concatenation with empty or all-NA entries is deprecated. In a future version, this will no longer exclude empty or all-NA columns when determining the result dtypes. To retain the old behavior, exclude the relevant entries before the concat operation.\n",
      "\n",
      "C:\\Users\\quirosgu\\AppData\\Local\\Temp\\ipykernel_22840\\1651274787.py:854: FutureWarning:\n",
      "\n",
      "The behavior of DataFrame concatenation with empty or all-NA entries is deprecated. In a future version, this will no longer exclude empty or all-NA columns when determining the result dtypes. To retain the old behavior, exclude the relevant entries before the concat operation.\n",
      "\n",
      "C:\\Users\\quirosgu\\AppData\\Local\\Temp\\ipykernel_22840\\1651274787.py:854: FutureWarning:\n",
      "\n",
      "The behavior of DataFrame concatenation with empty or all-NA entries is deprecated. In a future version, this will no longer exclude empty or all-NA columns when determining the result dtypes. To retain the old behavior, exclude the relevant entries before the concat operation.\n",
      "\n",
      "C:\\Users\\quirosgu\\AppData\\Local\\Temp\\ipykernel_22840\\1651274787.py:854: FutureWarning:\n",
      "\n",
      "The behavior of DataFrame concatenation with empty or all-NA entries is deprecated. In a future version, this will no longer exclude empty or all-NA columns when determining the result dtypes. To retain the old behavior, exclude the relevant entries before the concat operation.\n",
      "\n",
      "C:\\Users\\quirosgu\\AppData\\Local\\Temp\\ipykernel_22840\\1651274787.py:854: FutureWarning:\n",
      "\n",
      "The behavior of DataFrame concatenation with empty or all-NA entries is deprecated. In a future version, this will no longer exclude empty or all-NA columns when determining the result dtypes. To retain the old behavior, exclude the relevant entries before the concat operation.\n",
      "\n",
      "C:\\Users\\quirosgu\\AppData\\Local\\Temp\\ipykernel_22840\\1651274787.py:854: FutureWarning:\n",
      "\n",
      "The behavior of DataFrame concatenation with empty or all-NA entries is deprecated. In a future version, this will no longer exclude empty or all-NA columns when determining the result dtypes. To retain the old behavior, exclude the relevant entries before the concat operation.\n",
      "\n",
      "C:\\Users\\quirosgu\\AppData\\Local\\Temp\\ipykernel_22840\\1651274787.py:854: FutureWarning:\n",
      "\n",
      "The behavior of DataFrame concatenation with empty or all-NA entries is deprecated. In a future version, this will no longer exclude empty or all-NA columns when determining the result dtypes. To retain the old behavior, exclude the relevant entries before the concat operation.\n",
      "\n",
      "C:\\Users\\quirosgu\\AppData\\Local\\Temp\\ipykernel_22840\\1651274787.py:854: FutureWarning:\n",
      "\n",
      "The behavior of DataFrame concatenation with empty or all-NA entries is deprecated. In a future version, this will no longer exclude empty or all-NA columns when determining the result dtypes. To retain the old behavior, exclude the relevant entries before the concat operation.\n",
      "\n",
      "C:\\Users\\quirosgu\\AppData\\Local\\Temp\\ipykernel_22840\\1651274787.py:854: FutureWarning:\n",
      "\n",
      "The behavior of DataFrame concatenation with empty or all-NA entries is deprecated. In a future version, this will no longer exclude empty or all-NA columns when determining the result dtypes. To retain the old behavior, exclude the relevant entries before the concat operation.\n",
      "\n",
      "C:\\Users\\quirosgu\\AppData\\Local\\Temp\\ipykernel_22840\\1651274787.py:854: FutureWarning:\n",
      "\n",
      "The behavior of DataFrame concatenation with empty or all-NA entries is deprecated. In a future version, this will no longer exclude empty or all-NA columns when determining the result dtypes. To retain the old behavior, exclude the relevant entries before the concat operation.\n",
      "\n",
      "C:\\Users\\quirosgu\\AppData\\Local\\Temp\\ipykernel_22840\\1651274787.py:854: FutureWarning:\n",
      "\n",
      "The behavior of DataFrame concatenation with empty or all-NA entries is deprecated. In a future version, this will no longer exclude empty or all-NA columns when determining the result dtypes. To retain the old behavior, exclude the relevant entries before the concat operation.\n",
      "\n",
      "C:\\Users\\quirosgu\\AppData\\Local\\Temp\\ipykernel_22840\\1651274787.py:854: FutureWarning:\n",
      "\n",
      "The behavior of DataFrame concatenation with empty or all-NA entries is deprecated. In a future version, this will no longer exclude empty or all-NA columns when determining the result dtypes. To retain the old behavior, exclude the relevant entries before the concat operation.\n",
      "\n",
      "C:\\Users\\quirosgu\\AppData\\Local\\Temp\\ipykernel_22840\\1651274787.py:854: FutureWarning:\n",
      "\n",
      "The behavior of DataFrame concatenation with empty or all-NA entries is deprecated. In a future version, this will no longer exclude empty or all-NA columns when determining the result dtypes. To retain the old behavior, exclude the relevant entries before the concat operation.\n",
      "\n",
      "C:\\Users\\quirosgu\\AppData\\Local\\Temp\\ipykernel_22840\\1651274787.py:854: FutureWarning:\n",
      "\n",
      "The behavior of DataFrame concatenation with empty or all-NA entries is deprecated. In a future version, this will no longer exclude empty or all-NA columns when determining the result dtypes. To retain the old behavior, exclude the relevant entries before the concat operation.\n",
      "\n",
      "C:\\Users\\quirosgu\\AppData\\Local\\Temp\\ipykernel_22840\\1651274787.py:854: FutureWarning:\n",
      "\n",
      "The behavior of DataFrame concatenation with empty or all-NA entries is deprecated. In a future version, this will no longer exclude empty or all-NA columns when determining the result dtypes. To retain the old behavior, exclude the relevant entries before the concat operation.\n",
      "\n",
      "C:\\Users\\quirosgu\\AppData\\Local\\Temp\\ipykernel_22840\\1651274787.py:854: FutureWarning:\n",
      "\n",
      "The behavior of DataFrame concatenation with empty or all-NA entries is deprecated. In a future version, this will no longer exclude empty or all-NA columns when determining the result dtypes. To retain the old behavior, exclude the relevant entries before the concat operation.\n",
      "\n",
      "C:\\Users\\quirosgu\\AppData\\Local\\Temp\\ipykernel_22840\\1651274787.py:854: FutureWarning:\n",
      "\n",
      "The behavior of DataFrame concatenation with empty or all-NA entries is deprecated. In a future version, this will no longer exclude empty or all-NA columns when determining the result dtypes. To retain the old behavior, exclude the relevant entries before the concat operation.\n",
      "\n",
      "C:\\Users\\quirosgu\\AppData\\Local\\Temp\\ipykernel_22840\\1651274787.py:854: FutureWarning:\n",
      "\n",
      "The behavior of DataFrame concatenation with empty or all-NA entries is deprecated. In a future version, this will no longer exclude empty or all-NA columns when determining the result dtypes. To retain the old behavior, exclude the relevant entries before the concat operation.\n",
      "\n",
      "C:\\Users\\quirosgu\\AppData\\Local\\Temp\\ipykernel_22840\\1651274787.py:854: FutureWarning:\n",
      "\n",
      "The behavior of DataFrame concatenation with empty or all-NA entries is deprecated. In a future version, this will no longer exclude empty or all-NA columns when determining the result dtypes. To retain the old behavior, exclude the relevant entries before the concat operation.\n",
      "\n",
      "C:\\Users\\quirosgu\\AppData\\Local\\Temp\\ipykernel_22840\\1651274787.py:854: FutureWarning:\n",
      "\n",
      "The behavior of DataFrame concatenation with empty or all-NA entries is deprecated. In a future version, this will no longer exclude empty or all-NA columns when determining the result dtypes. To retain the old behavior, exclude the relevant entries before the concat operation.\n",
      "\n",
      "C:\\Users\\quirosgu\\AppData\\Local\\Temp\\ipykernel_22840\\1651274787.py:854: FutureWarning:\n",
      "\n",
      "The behavior of DataFrame concatenation with empty or all-NA entries is deprecated. In a future version, this will no longer exclude empty or all-NA columns when determining the result dtypes. To retain the old behavior, exclude the relevant entries before the concat operation.\n",
      "\n",
      "C:\\Users\\quirosgu\\AppData\\Local\\Temp\\ipykernel_22840\\1651274787.py:854: FutureWarning:\n",
      "\n",
      "The behavior of DataFrame concatenation with empty or all-NA entries is deprecated. In a future version, this will no longer exclude empty or all-NA columns when determining the result dtypes. To retain the old behavior, exclude the relevant entries before the concat operation.\n",
      "\n",
      "C:\\Users\\quirosgu\\AppData\\Local\\Temp\\ipykernel_22840\\1651274787.py:854: FutureWarning:\n",
      "\n",
      "The behavior of DataFrame concatenation with empty or all-NA entries is deprecated. In a future version, this will no longer exclude empty or all-NA columns when determining the result dtypes. To retain the old behavior, exclude the relevant entries before the concat operation.\n",
      "\n",
      "C:\\Users\\quirosgu\\AppData\\Local\\Temp\\ipykernel_22840\\1651274787.py:854: FutureWarning:\n",
      "\n",
      "The behavior of DataFrame concatenation with empty or all-NA entries is deprecated. In a future version, this will no longer exclude empty or all-NA columns when determining the result dtypes. To retain the old behavior, exclude the relevant entries before the concat operation.\n",
      "\n",
      "C:\\Users\\quirosgu\\AppData\\Local\\Temp\\ipykernel_22840\\1651274787.py:854: FutureWarning:\n",
      "\n",
      "The behavior of DataFrame concatenation with empty or all-NA entries is deprecated. In a future version, this will no longer exclude empty or all-NA columns when determining the result dtypes. To retain the old behavior, exclude the relevant entries before the concat operation.\n",
      "\n",
      "C:\\Users\\quirosgu\\AppData\\Local\\Temp\\ipykernel_22840\\1651274787.py:854: FutureWarning:\n",
      "\n",
      "The behavior of DataFrame concatenation with empty or all-NA entries is deprecated. In a future version, this will no longer exclude empty or all-NA columns when determining the result dtypes. To retain the old behavior, exclude the relevant entries before the concat operation.\n",
      "\n",
      "C:\\Users\\quirosgu\\AppData\\Local\\Temp\\ipykernel_22840\\1651274787.py:854: FutureWarning:\n",
      "\n",
      "The behavior of DataFrame concatenation with empty or all-NA entries is deprecated. In a future version, this will no longer exclude empty or all-NA columns when determining the result dtypes. To retain the old behavior, exclude the relevant entries before the concat operation.\n",
      "\n",
      "C:\\Users\\quirosgu\\AppData\\Local\\Temp\\ipykernel_22840\\1651274787.py:854: FutureWarning:\n",
      "\n",
      "The behavior of DataFrame concatenation with empty or all-NA entries is deprecated. In a future version, this will no longer exclude empty or all-NA columns when determining the result dtypes. To retain the old behavior, exclude the relevant entries before the concat operation.\n",
      "\n",
      "C:\\Users\\quirosgu\\AppData\\Local\\Temp\\ipykernel_22840\\1651274787.py:854: FutureWarning:\n",
      "\n",
      "The behavior of DataFrame concatenation with empty or all-NA entries is deprecated. In a future version, this will no longer exclude empty or all-NA columns when determining the result dtypes. To retain the old behavior, exclude the relevant entries before the concat operation.\n",
      "\n",
      "C:\\Users\\quirosgu\\AppData\\Local\\Temp\\ipykernel_22840\\1651274787.py:854: FutureWarning:\n",
      "\n",
      "The behavior of DataFrame concatenation with empty or all-NA entries is deprecated. In a future version, this will no longer exclude empty or all-NA columns when determining the result dtypes. To retain the old behavior, exclude the relevant entries before the concat operation.\n",
      "\n",
      "C:\\Users\\quirosgu\\AppData\\Local\\Temp\\ipykernel_22840\\1651274787.py:854: FutureWarning:\n",
      "\n",
      "The behavior of DataFrame concatenation with empty or all-NA entries is deprecated. In a future version, this will no longer exclude empty or all-NA columns when determining the result dtypes. To retain the old behavior, exclude the relevant entries before the concat operation.\n",
      "\n",
      "C:\\Users\\quirosgu\\AppData\\Local\\Temp\\ipykernel_22840\\1651274787.py:854: FutureWarning:\n",
      "\n",
      "The behavior of DataFrame concatenation with empty or all-NA entries is deprecated. In a future version, this will no longer exclude empty or all-NA columns when determining the result dtypes. To retain the old behavior, exclude the relevant entries before the concat operation.\n",
      "\n",
      "C:\\Users\\quirosgu\\AppData\\Local\\Temp\\ipykernel_22840\\1651274787.py:854: FutureWarning:\n",
      "\n",
      "The behavior of DataFrame concatenation with empty or all-NA entries is deprecated. In a future version, this will no longer exclude empty or all-NA columns when determining the result dtypes. To retain the old behavior, exclude the relevant entries before the concat operation.\n",
      "\n",
      "C:\\Users\\quirosgu\\AppData\\Local\\Temp\\ipykernel_22840\\1651274787.py:854: FutureWarning:\n",
      "\n",
      "The behavior of DataFrame concatenation with empty or all-NA entries is deprecated. In a future version, this will no longer exclude empty or all-NA columns when determining the result dtypes. To retain the old behavior, exclude the relevant entries before the concat operation.\n",
      "\n",
      "C:\\Users\\quirosgu\\AppData\\Local\\Temp\\ipykernel_22840\\1651274787.py:854: FutureWarning:\n",
      "\n",
      "The behavior of DataFrame concatenation with empty or all-NA entries is deprecated. In a future version, this will no longer exclude empty or all-NA columns when determining the result dtypes. To retain the old behavior, exclude the relevant entries before the concat operation.\n",
      "\n",
      "C:\\Users\\quirosgu\\AppData\\Local\\Temp\\ipykernel_22840\\1651274787.py:854: FutureWarning:\n",
      "\n",
      "The behavior of DataFrame concatenation with empty or all-NA entries is deprecated. In a future version, this will no longer exclude empty or all-NA columns when determining the result dtypes. To retain the old behavior, exclude the relevant entries before the concat operation.\n",
      "\n",
      "C:\\Users\\quirosgu\\AppData\\Local\\Temp\\ipykernel_22840\\1651274787.py:854: FutureWarning:\n",
      "\n",
      "The behavior of DataFrame concatenation with empty or all-NA entries is deprecated. In a future version, this will no longer exclude empty or all-NA columns when determining the result dtypes. To retain the old behavior, exclude the relevant entries before the concat operation.\n",
      "\n",
      "C:\\Users\\quirosgu\\AppData\\Local\\Temp\\ipykernel_22840\\1651274787.py:854: FutureWarning:\n",
      "\n",
      "The behavior of DataFrame concatenation with empty or all-NA entries is deprecated. In a future version, this will no longer exclude empty or all-NA columns when determining the result dtypes. To retain the old behavior, exclude the relevant entries before the concat operation.\n",
      "\n",
      "C:\\Users\\quirosgu\\AppData\\Local\\Temp\\ipykernel_22840\\1651274787.py:854: FutureWarning:\n",
      "\n",
      "The behavior of DataFrame concatenation with empty or all-NA entries is deprecated. In a future version, this will no longer exclude empty or all-NA columns when determining the result dtypes. To retain the old behavior, exclude the relevant entries before the concat operation.\n",
      "\n",
      "C:\\Users\\quirosgu\\AppData\\Local\\Temp\\ipykernel_22840\\1651274787.py:854: FutureWarning:\n",
      "\n",
      "The behavior of DataFrame concatenation with empty or all-NA entries is deprecated. In a future version, this will no longer exclude empty or all-NA columns when determining the result dtypes. To retain the old behavior, exclude the relevant entries before the concat operation.\n",
      "\n",
      "C:\\Users\\quirosgu\\AppData\\Local\\Temp\\ipykernel_22840\\1651274787.py:854: FutureWarning:\n",
      "\n",
      "The behavior of DataFrame concatenation with empty or all-NA entries is deprecated. In a future version, this will no longer exclude empty or all-NA columns when determining the result dtypes. To retain the old behavior, exclude the relevant entries before the concat operation.\n",
      "\n",
      "C:\\Users\\quirosgu\\AppData\\Local\\Temp\\ipykernel_22840\\1651274787.py:854: FutureWarning:\n",
      "\n",
      "The behavior of DataFrame concatenation with empty or all-NA entries is deprecated. In a future version, this will no longer exclude empty or all-NA columns when determining the result dtypes. To retain the old behavior, exclude the relevant entries before the concat operation.\n",
      "\n",
      "C:\\Users\\quirosgu\\AppData\\Local\\Temp\\ipykernel_22840\\1651274787.py:854: FutureWarning:\n",
      "\n",
      "The behavior of DataFrame concatenation with empty or all-NA entries is deprecated. In a future version, this will no longer exclude empty or all-NA columns when determining the result dtypes. To retain the old behavior, exclude the relevant entries before the concat operation.\n",
      "\n",
      "C:\\Users\\quirosgu\\AppData\\Local\\Temp\\ipykernel_22840\\1651274787.py:854: FutureWarning:\n",
      "\n",
      "The behavior of DataFrame concatenation with empty or all-NA entries is deprecated. In a future version, this will no longer exclude empty or all-NA columns when determining the result dtypes. To retain the old behavior, exclude the relevant entries before the concat operation.\n",
      "\n",
      "C:\\Users\\quirosgu\\AppData\\Local\\Temp\\ipykernel_22840\\1651274787.py:854: FutureWarning:\n",
      "\n",
      "The behavior of DataFrame concatenation with empty or all-NA entries is deprecated. In a future version, this will no longer exclude empty or all-NA columns when determining the result dtypes. To retain the old behavior, exclude the relevant entries before the concat operation.\n",
      "\n",
      "C:\\Users\\quirosgu\\AppData\\Local\\Temp\\ipykernel_22840\\1651274787.py:854: FutureWarning:\n",
      "\n",
      "The behavior of DataFrame concatenation with empty or all-NA entries is deprecated. In a future version, this will no longer exclude empty or all-NA columns when determining the result dtypes. To retain the old behavior, exclude the relevant entries before the concat operation.\n",
      "\n",
      "C:\\Users\\quirosgu\\AppData\\Local\\Temp\\ipykernel_22840\\1651274787.py:854: FutureWarning:\n",
      "\n",
      "The behavior of DataFrame concatenation with empty or all-NA entries is deprecated. In a future version, this will no longer exclude empty or all-NA columns when determining the result dtypes. To retain the old behavior, exclude the relevant entries before the concat operation.\n",
      "\n",
      "C:\\Users\\quirosgu\\AppData\\Local\\Temp\\ipykernel_22840\\1651274787.py:854: FutureWarning:\n",
      "\n",
      "The behavior of DataFrame concatenation with empty or all-NA entries is deprecated. In a future version, this will no longer exclude empty or all-NA columns when determining the result dtypes. To retain the old behavior, exclude the relevant entries before the concat operation.\n",
      "\n",
      "C:\\Users\\quirosgu\\AppData\\Local\\Temp\\ipykernel_22840\\1651274787.py:854: FutureWarning:\n",
      "\n",
      "The behavior of DataFrame concatenation with empty or all-NA entries is deprecated. In a future version, this will no longer exclude empty or all-NA columns when determining the result dtypes. To retain the old behavior, exclude the relevant entries before the concat operation.\n",
      "\n",
      "C:\\Users\\quirosgu\\AppData\\Local\\Temp\\ipykernel_22840\\1651274787.py:854: FutureWarning:\n",
      "\n",
      "The behavior of DataFrame concatenation with empty or all-NA entries is deprecated. In a future version, this will no longer exclude empty or all-NA columns when determining the result dtypes. To retain the old behavior, exclude the relevant entries before the concat operation.\n",
      "\n",
      "C:\\Users\\quirosgu\\AppData\\Local\\Temp\\ipykernel_22840\\1651274787.py:854: FutureWarning:\n",
      "\n",
      "The behavior of DataFrame concatenation with empty or all-NA entries is deprecated. In a future version, this will no longer exclude empty or all-NA columns when determining the result dtypes. To retain the old behavior, exclude the relevant entries before the concat operation.\n",
      "\n",
      "C:\\Users\\quirosgu\\AppData\\Local\\Temp\\ipykernel_22840\\1651274787.py:854: FutureWarning:\n",
      "\n",
      "The behavior of DataFrame concatenation with empty or all-NA entries is deprecated. In a future version, this will no longer exclude empty or all-NA columns when determining the result dtypes. To retain the old behavior, exclude the relevant entries before the concat operation.\n",
      "\n",
      "C:\\Users\\quirosgu\\AppData\\Local\\Temp\\ipykernel_22840\\1651274787.py:854: FutureWarning:\n",
      "\n",
      "The behavior of DataFrame concatenation with empty or all-NA entries is deprecated. In a future version, this will no longer exclude empty or all-NA columns when determining the result dtypes. To retain the old behavior, exclude the relevant entries before the concat operation.\n",
      "\n",
      "C:\\Users\\quirosgu\\AppData\\Local\\Temp\\ipykernel_22840\\1651274787.py:854: FutureWarning:\n",
      "\n",
      "The behavior of DataFrame concatenation with empty or all-NA entries is deprecated. In a future version, this will no longer exclude empty or all-NA columns when determining the result dtypes. To retain the old behavior, exclude the relevant entries before the concat operation.\n",
      "\n",
      "C:\\Users\\quirosgu\\AppData\\Local\\Temp\\ipykernel_22840\\1651274787.py:854: FutureWarning:\n",
      "\n",
      "The behavior of DataFrame concatenation with empty or all-NA entries is deprecated. In a future version, this will no longer exclude empty or all-NA columns when determining the result dtypes. To retain the old behavior, exclude the relevant entries before the concat operation.\n",
      "\n",
      "C:\\Users\\quirosgu\\AppData\\Local\\Temp\\ipykernel_22840\\1651274787.py:854: FutureWarning:\n",
      "\n",
      "The behavior of DataFrame concatenation with empty or all-NA entries is deprecated. In a future version, this will no longer exclude empty or all-NA columns when determining the result dtypes. To retain the old behavior, exclude the relevant entries before the concat operation.\n",
      "\n",
      "C:\\Users\\quirosgu\\AppData\\Local\\Temp\\ipykernel_22840\\1651274787.py:854: FutureWarning:\n",
      "\n",
      "The behavior of DataFrame concatenation with empty or all-NA entries is deprecated. In a future version, this will no longer exclude empty or all-NA columns when determining the result dtypes. To retain the old behavior, exclude the relevant entries before the concat operation.\n",
      "\n",
      "C:\\Users\\quirosgu\\AppData\\Local\\Temp\\ipykernel_22840\\1651274787.py:854: FutureWarning:\n",
      "\n",
      "The behavior of DataFrame concatenation with empty or all-NA entries is deprecated. In a future version, this will no longer exclude empty or all-NA columns when determining the result dtypes. To retain the old behavior, exclude the relevant entries before the concat operation.\n",
      "\n",
      "C:\\Users\\quirosgu\\AppData\\Local\\Temp\\ipykernel_22840\\1651274787.py:854: FutureWarning:\n",
      "\n",
      "The behavior of DataFrame concatenation with empty or all-NA entries is deprecated. In a future version, this will no longer exclude empty or all-NA columns when determining the result dtypes. To retain the old behavior, exclude the relevant entries before the concat operation.\n",
      "\n",
      "C:\\Users\\quirosgu\\AppData\\Local\\Temp\\ipykernel_22840\\1651274787.py:854: FutureWarning:\n",
      "\n",
      "The behavior of DataFrame concatenation with empty or all-NA entries is deprecated. In a future version, this will no longer exclude empty or all-NA columns when determining the result dtypes. To retain the old behavior, exclude the relevant entries before the concat operation.\n",
      "\n",
      "C:\\Users\\quirosgu\\AppData\\Local\\Temp\\ipykernel_22840\\1651274787.py:854: FutureWarning:\n",
      "\n",
      "The behavior of DataFrame concatenation with empty or all-NA entries is deprecated. In a future version, this will no longer exclude empty or all-NA columns when determining the result dtypes. To retain the old behavior, exclude the relevant entries before the concat operation.\n",
      "\n",
      "C:\\Users\\quirosgu\\AppData\\Local\\Temp\\ipykernel_22840\\1651274787.py:854: FutureWarning:\n",
      "\n",
      "The behavior of DataFrame concatenation with empty or all-NA entries is deprecated. In a future version, this will no longer exclude empty or all-NA columns when determining the result dtypes. To retain the old behavior, exclude the relevant entries before the concat operation.\n",
      "\n",
      "C:\\Users\\quirosgu\\AppData\\Local\\Temp\\ipykernel_22840\\1651274787.py:854: FutureWarning:\n",
      "\n",
      "The behavior of DataFrame concatenation with empty or all-NA entries is deprecated. In a future version, this will no longer exclude empty or all-NA columns when determining the result dtypes. To retain the old behavior, exclude the relevant entries before the concat operation.\n",
      "\n",
      "C:\\Users\\quirosgu\\AppData\\Local\\Temp\\ipykernel_22840\\1651274787.py:854: FutureWarning:\n",
      "\n",
      "The behavior of DataFrame concatenation with empty or all-NA entries is deprecated. In a future version, this will no longer exclude empty or all-NA columns when determining the result dtypes. To retain the old behavior, exclude the relevant entries before the concat operation.\n",
      "\n",
      "C:\\Users\\quirosgu\\AppData\\Local\\Temp\\ipykernel_22840\\1651274787.py:854: FutureWarning:\n",
      "\n",
      "The behavior of DataFrame concatenation with empty or all-NA entries is deprecated. In a future version, this will no longer exclude empty or all-NA columns when determining the result dtypes. To retain the old behavior, exclude the relevant entries before the concat operation.\n",
      "\n",
      "C:\\Users\\quirosgu\\AppData\\Local\\Temp\\ipykernel_22840\\1651274787.py:854: FutureWarning:\n",
      "\n",
      "The behavior of DataFrame concatenation with empty or all-NA entries is deprecated. In a future version, this will no longer exclude empty or all-NA columns when determining the result dtypes. To retain the old behavior, exclude the relevant entries before the concat operation.\n",
      "\n",
      "C:\\Users\\quirosgu\\AppData\\Local\\Temp\\ipykernel_22840\\1651274787.py:854: FutureWarning:\n",
      "\n",
      "The behavior of DataFrame concatenation with empty or all-NA entries is deprecated. In a future version, this will no longer exclude empty or all-NA columns when determining the result dtypes. To retain the old behavior, exclude the relevant entries before the concat operation.\n",
      "\n",
      "C:\\Users\\quirosgu\\AppData\\Local\\Temp\\ipykernel_22840\\1651274787.py:854: FutureWarning:\n",
      "\n",
      "The behavior of DataFrame concatenation with empty or all-NA entries is deprecated. In a future version, this will no longer exclude empty or all-NA columns when determining the result dtypes. To retain the old behavior, exclude the relevant entries before the concat operation.\n",
      "\n",
      "C:\\Users\\quirosgu\\AppData\\Local\\Temp\\ipykernel_22840\\1651274787.py:854: FutureWarning:\n",
      "\n",
      "The behavior of DataFrame concatenation with empty or all-NA entries is deprecated. In a future version, this will no longer exclude empty or all-NA columns when determining the result dtypes. To retain the old behavior, exclude the relevant entries before the concat operation.\n",
      "\n",
      "C:\\Users\\quirosgu\\AppData\\Local\\Temp\\ipykernel_22840\\1651274787.py:854: FutureWarning:\n",
      "\n",
      "The behavior of DataFrame concatenation with empty or all-NA entries is deprecated. In a future version, this will no longer exclude empty or all-NA columns when determining the result dtypes. To retain the old behavior, exclude the relevant entries before the concat operation.\n",
      "\n",
      "C:\\Users\\quirosgu\\AppData\\Local\\Temp\\ipykernel_22840\\1651274787.py:854: FutureWarning:\n",
      "\n",
      "The behavior of DataFrame concatenation with empty or all-NA entries is deprecated. In a future version, this will no longer exclude empty or all-NA columns when determining the result dtypes. To retain the old behavior, exclude the relevant entries before the concat operation.\n",
      "\n",
      "C:\\Users\\quirosgu\\AppData\\Local\\Temp\\ipykernel_22840\\1651274787.py:854: FutureWarning:\n",
      "\n",
      "The behavior of DataFrame concatenation with empty or all-NA entries is deprecated. In a future version, this will no longer exclude empty or all-NA columns when determining the result dtypes. To retain the old behavior, exclude the relevant entries before the concat operation.\n",
      "\n",
      "C:\\Users\\quirosgu\\AppData\\Local\\Temp\\ipykernel_22840\\1651274787.py:854: FutureWarning:\n",
      "\n",
      "The behavior of DataFrame concatenation with empty or all-NA entries is deprecated. In a future version, this will no longer exclude empty or all-NA columns when determining the result dtypes. To retain the old behavior, exclude the relevant entries before the concat operation.\n",
      "\n",
      "C:\\Users\\quirosgu\\AppData\\Local\\Temp\\ipykernel_22840\\1651274787.py:854: FutureWarning:\n",
      "\n",
      "The behavior of DataFrame concatenation with empty or all-NA entries is deprecated. In a future version, this will no longer exclude empty or all-NA columns when determining the result dtypes. To retain the old behavior, exclude the relevant entries before the concat operation.\n",
      "\n",
      "C:\\Users\\quirosgu\\AppData\\Local\\Temp\\ipykernel_22840\\1651274787.py:854: FutureWarning:\n",
      "\n",
      "The behavior of DataFrame concatenation with empty or all-NA entries is deprecated. In a future version, this will no longer exclude empty or all-NA columns when determining the result dtypes. To retain the old behavior, exclude the relevant entries before the concat operation.\n",
      "\n",
      "C:\\Users\\quirosgu\\AppData\\Local\\Temp\\ipykernel_22840\\1651274787.py:854: FutureWarning:\n",
      "\n",
      "The behavior of DataFrame concatenation with empty or all-NA entries is deprecated. In a future version, this will no longer exclude empty or all-NA columns when determining the result dtypes. To retain the old behavior, exclude the relevant entries before the concat operation.\n",
      "\n",
      "C:\\Users\\quirosgu\\AppData\\Local\\Temp\\ipykernel_22840\\1651274787.py:854: FutureWarning:\n",
      "\n",
      "The behavior of DataFrame concatenation with empty or all-NA entries is deprecated. In a future version, this will no longer exclude empty or all-NA columns when determining the result dtypes. To retain the old behavior, exclude the relevant entries before the concat operation.\n",
      "\n",
      "C:\\Users\\quirosgu\\AppData\\Local\\Temp\\ipykernel_22840\\1651274787.py:854: FutureWarning:\n",
      "\n",
      "The behavior of DataFrame concatenation with empty or all-NA entries is deprecated. In a future version, this will no longer exclude empty or all-NA columns when determining the result dtypes. To retain the old behavior, exclude the relevant entries before the concat operation.\n",
      "\n",
      "C:\\Users\\quirosgu\\AppData\\Local\\Temp\\ipykernel_22840\\1651274787.py:854: FutureWarning:\n",
      "\n",
      "The behavior of DataFrame concatenation with empty or all-NA entries is deprecated. In a future version, this will no longer exclude empty or all-NA columns when determining the result dtypes. To retain the old behavior, exclude the relevant entries before the concat operation.\n",
      "\n",
      "C:\\Users\\quirosgu\\AppData\\Local\\Temp\\ipykernel_22840\\1651274787.py:854: FutureWarning:\n",
      "\n",
      "The behavior of DataFrame concatenation with empty or all-NA entries is deprecated. In a future version, this will no longer exclude empty or all-NA columns when determining the result dtypes. To retain the old behavior, exclude the relevant entries before the concat operation.\n",
      "\n",
      "C:\\Users\\quirosgu\\AppData\\Local\\Temp\\ipykernel_22840\\1651274787.py:854: FutureWarning:\n",
      "\n",
      "The behavior of DataFrame concatenation with empty or all-NA entries is deprecated. In a future version, this will no longer exclude empty or all-NA columns when determining the result dtypes. To retain the old behavior, exclude the relevant entries before the concat operation.\n",
      "\n",
      "C:\\Users\\quirosgu\\AppData\\Local\\Temp\\ipykernel_22840\\1651274787.py:854: FutureWarning:\n",
      "\n",
      "The behavior of DataFrame concatenation with empty or all-NA entries is deprecated. In a future version, this will no longer exclude empty or all-NA columns when determining the result dtypes. To retain the old behavior, exclude the relevant entries before the concat operation.\n",
      "\n",
      "C:\\Users\\quirosgu\\AppData\\Local\\Temp\\ipykernel_22840\\1651274787.py:854: FutureWarning:\n",
      "\n",
      "The behavior of DataFrame concatenation with empty or all-NA entries is deprecated. In a future version, this will no longer exclude empty or all-NA columns when determining the result dtypes. To retain the old behavior, exclude the relevant entries before the concat operation.\n",
      "\n",
      "C:\\Users\\quirosgu\\AppData\\Local\\Temp\\ipykernel_22840\\1651274787.py:854: FutureWarning:\n",
      "\n",
      "The behavior of DataFrame concatenation with empty or all-NA entries is deprecated. In a future version, this will no longer exclude empty or all-NA columns when determining the result dtypes. To retain the old behavior, exclude the relevant entries before the concat operation.\n",
      "\n",
      "C:\\Users\\quirosgu\\AppData\\Local\\Temp\\ipykernel_22840\\1651274787.py:854: FutureWarning:\n",
      "\n",
      "The behavior of DataFrame concatenation with empty or all-NA entries is deprecated. In a future version, this will no longer exclude empty or all-NA columns when determining the result dtypes. To retain the old behavior, exclude the relevant entries before the concat operation.\n",
      "\n",
      "C:\\Users\\quirosgu\\AppData\\Local\\Temp\\ipykernel_22840\\1651274787.py:854: FutureWarning:\n",
      "\n",
      "The behavior of DataFrame concatenation with empty or all-NA entries is deprecated. In a future version, this will no longer exclude empty or all-NA columns when determining the result dtypes. To retain the old behavior, exclude the relevant entries before the concat operation.\n",
      "\n",
      "C:\\Users\\quirosgu\\AppData\\Local\\Temp\\ipykernel_22840\\1651274787.py:854: FutureWarning:\n",
      "\n",
      "The behavior of DataFrame concatenation with empty or all-NA entries is deprecated. In a future version, this will no longer exclude empty or all-NA columns when determining the result dtypes. To retain the old behavior, exclude the relevant entries before the concat operation.\n",
      "\n",
      "C:\\Users\\quirosgu\\AppData\\Local\\Temp\\ipykernel_22840\\1651274787.py:854: FutureWarning:\n",
      "\n",
      "The behavior of DataFrame concatenation with empty or all-NA entries is deprecated. In a future version, this will no longer exclude empty or all-NA columns when determining the result dtypes. To retain the old behavior, exclude the relevant entries before the concat operation.\n",
      "\n",
      "C:\\Users\\quirosgu\\AppData\\Local\\Temp\\ipykernel_22840\\1651274787.py:854: FutureWarning:\n",
      "\n",
      "The behavior of DataFrame concatenation with empty or all-NA entries is deprecated. In a future version, this will no longer exclude empty or all-NA columns when determining the result dtypes. To retain the old behavior, exclude the relevant entries before the concat operation.\n",
      "\n",
      "C:\\Users\\quirosgu\\AppData\\Local\\Temp\\ipykernel_22840\\1651274787.py:854: FutureWarning:\n",
      "\n",
      "The behavior of DataFrame concatenation with empty or all-NA entries is deprecated. In a future version, this will no longer exclude empty or all-NA columns when determining the result dtypes. To retain the old behavior, exclude the relevant entries before the concat operation.\n",
      "\n",
      "C:\\Users\\quirosgu\\AppData\\Local\\Temp\\ipykernel_22840\\1651274787.py:854: FutureWarning:\n",
      "\n",
      "The behavior of DataFrame concatenation with empty or all-NA entries is deprecated. In a future version, this will no longer exclude empty or all-NA columns when determining the result dtypes. To retain the old behavior, exclude the relevant entries before the concat operation.\n",
      "\n",
      "C:\\Users\\quirosgu\\AppData\\Local\\Temp\\ipykernel_22840\\1651274787.py:854: FutureWarning:\n",
      "\n",
      "The behavior of DataFrame concatenation with empty or all-NA entries is deprecated. In a future version, this will no longer exclude empty or all-NA columns when determining the result dtypes. To retain the old behavior, exclude the relevant entries before the concat operation.\n",
      "\n",
      "C:\\Users\\quirosgu\\AppData\\Local\\Temp\\ipykernel_22840\\1651274787.py:854: FutureWarning:\n",
      "\n",
      "The behavior of DataFrame concatenation with empty or all-NA entries is deprecated. In a future version, this will no longer exclude empty or all-NA columns when determining the result dtypes. To retain the old behavior, exclude the relevant entries before the concat operation.\n",
      "\n",
      "C:\\Users\\quirosgu\\AppData\\Local\\Temp\\ipykernel_22840\\1651274787.py:854: FutureWarning:\n",
      "\n",
      "The behavior of DataFrame concatenation with empty or all-NA entries is deprecated. In a future version, this will no longer exclude empty or all-NA columns when determining the result dtypes. To retain the old behavior, exclude the relevant entries before the concat operation.\n",
      "\n",
      "C:\\Users\\quirosgu\\AppData\\Local\\Temp\\ipykernel_22840\\1651274787.py:854: FutureWarning:\n",
      "\n",
      "The behavior of DataFrame concatenation with empty or all-NA entries is deprecated. In a future version, this will no longer exclude empty or all-NA columns when determining the result dtypes. To retain the old behavior, exclude the relevant entries before the concat operation.\n",
      "\n",
      "C:\\Users\\quirosgu\\AppData\\Local\\Temp\\ipykernel_22840\\1651274787.py:854: FutureWarning:\n",
      "\n",
      "The behavior of DataFrame concatenation with empty or all-NA entries is deprecated. In a future version, this will no longer exclude empty or all-NA columns when determining the result dtypes. To retain the old behavior, exclude the relevant entries before the concat operation.\n",
      "\n",
      "C:\\Users\\quirosgu\\AppData\\Local\\Temp\\ipykernel_22840\\1651274787.py:854: FutureWarning:\n",
      "\n",
      "The behavior of DataFrame concatenation with empty or all-NA entries is deprecated. In a future version, this will no longer exclude empty or all-NA columns when determining the result dtypes. To retain the old behavior, exclude the relevant entries before the concat operation.\n",
      "\n",
      "C:\\Users\\quirosgu\\AppData\\Local\\Temp\\ipykernel_22840\\1651274787.py:854: FutureWarning:\n",
      "\n",
      "The behavior of DataFrame concatenation with empty or all-NA entries is deprecated. In a future version, this will no longer exclude empty or all-NA columns when determining the result dtypes. To retain the old behavior, exclude the relevant entries before the concat operation.\n",
      "\n",
      "C:\\Users\\quirosgu\\AppData\\Local\\Temp\\ipykernel_22840\\1651274787.py:854: FutureWarning:\n",
      "\n",
      "The behavior of DataFrame concatenation with empty or all-NA entries is deprecated. In a future version, this will no longer exclude empty or all-NA columns when determining the result dtypes. To retain the old behavior, exclude the relevant entries before the concat operation.\n",
      "\n",
      "C:\\Users\\quirosgu\\AppData\\Local\\Temp\\ipykernel_22840\\1651274787.py:854: FutureWarning:\n",
      "\n",
      "The behavior of DataFrame concatenation with empty or all-NA entries is deprecated. In a future version, this will no longer exclude empty or all-NA columns when determining the result dtypes. To retain the old behavior, exclude the relevant entries before the concat operation.\n",
      "\n",
      "C:\\Users\\quirosgu\\AppData\\Local\\Temp\\ipykernel_22840\\1651274787.py:854: FutureWarning:\n",
      "\n",
      "The behavior of DataFrame concatenation with empty or all-NA entries is deprecated. In a future version, this will no longer exclude empty or all-NA columns when determining the result dtypes. To retain the old behavior, exclude the relevant entries before the concat operation.\n",
      "\n",
      "C:\\Users\\quirosgu\\AppData\\Local\\Temp\\ipykernel_22840\\1651274787.py:854: FutureWarning:\n",
      "\n",
      "The behavior of DataFrame concatenation with empty or all-NA entries is deprecated. In a future version, this will no longer exclude empty or all-NA columns when determining the result dtypes. To retain the old behavior, exclude the relevant entries before the concat operation.\n",
      "\n",
      "C:\\Users\\quirosgu\\AppData\\Local\\Temp\\ipykernel_22840\\1651274787.py:854: FutureWarning:\n",
      "\n",
      "The behavior of DataFrame concatenation with empty or all-NA entries is deprecated. In a future version, this will no longer exclude empty or all-NA columns when determining the result dtypes. To retain the old behavior, exclude the relevant entries before the concat operation.\n",
      "\n",
      "C:\\Users\\quirosgu\\AppData\\Local\\Temp\\ipykernel_22840\\1651274787.py:854: FutureWarning:\n",
      "\n",
      "The behavior of DataFrame concatenation with empty or all-NA entries is deprecated. In a future version, this will no longer exclude empty or all-NA columns when determining the result dtypes. To retain the old behavior, exclude the relevant entries before the concat operation.\n",
      "\n",
      "C:\\Users\\quirosgu\\AppData\\Local\\Temp\\ipykernel_22840\\1651274787.py:854: FutureWarning:\n",
      "\n",
      "The behavior of DataFrame concatenation with empty or all-NA entries is deprecated. In a future version, this will no longer exclude empty or all-NA columns when determining the result dtypes. To retain the old behavior, exclude the relevant entries before the concat operation.\n",
      "\n",
      "C:\\Users\\quirosgu\\AppData\\Local\\Temp\\ipykernel_22840\\1651274787.py:854: FutureWarning:\n",
      "\n",
      "The behavior of DataFrame concatenation with empty or all-NA entries is deprecated. In a future version, this will no longer exclude empty or all-NA columns when determining the result dtypes. To retain the old behavior, exclude the relevant entries before the concat operation.\n",
      "\n",
      "C:\\Users\\quirosgu\\AppData\\Local\\Temp\\ipykernel_22840\\1651274787.py:854: FutureWarning:\n",
      "\n",
      "The behavior of DataFrame concatenation with empty or all-NA entries is deprecated. In a future version, this will no longer exclude empty or all-NA columns when determining the result dtypes. To retain the old behavior, exclude the relevant entries before the concat operation.\n",
      "\n",
      "C:\\Users\\quirosgu\\AppData\\Local\\Temp\\ipykernel_22840\\1651274787.py:854: FutureWarning:\n",
      "\n",
      "The behavior of DataFrame concatenation with empty or all-NA entries is deprecated. In a future version, this will no longer exclude empty or all-NA columns when determining the result dtypes. To retain the old behavior, exclude the relevant entries before the concat operation.\n",
      "\n",
      "C:\\Users\\quirosgu\\AppData\\Local\\Temp\\ipykernel_22840\\1651274787.py:854: FutureWarning:\n",
      "\n",
      "The behavior of DataFrame concatenation with empty or all-NA entries is deprecated. In a future version, this will no longer exclude empty or all-NA columns when determining the result dtypes. To retain the old behavior, exclude the relevant entries before the concat operation.\n",
      "\n",
      "C:\\Users\\quirosgu\\AppData\\Local\\Temp\\ipykernel_22840\\1651274787.py:854: FutureWarning:\n",
      "\n",
      "The behavior of DataFrame concatenation with empty or all-NA entries is deprecated. In a future version, this will no longer exclude empty or all-NA columns when determining the result dtypes. To retain the old behavior, exclude the relevant entries before the concat operation.\n",
      "\n",
      "C:\\Users\\quirosgu\\AppData\\Local\\Temp\\ipykernel_22840\\1651274787.py:854: FutureWarning:\n",
      "\n",
      "The behavior of DataFrame concatenation with empty or all-NA entries is deprecated. In a future version, this will no longer exclude empty or all-NA columns when determining the result dtypes. To retain the old behavior, exclude the relevant entries before the concat operation.\n",
      "\n",
      "C:\\Users\\quirosgu\\AppData\\Local\\Temp\\ipykernel_22840\\1651274787.py:854: FutureWarning:\n",
      "\n",
      "The behavior of DataFrame concatenation with empty or all-NA entries is deprecated. In a future version, this will no longer exclude empty or all-NA columns when determining the result dtypes. To retain the old behavior, exclude the relevant entries before the concat operation.\n",
      "\n",
      "C:\\Users\\quirosgu\\AppData\\Local\\Temp\\ipykernel_22840\\1651274787.py:854: FutureWarning:\n",
      "\n",
      "The behavior of DataFrame concatenation with empty or all-NA entries is deprecated. In a future version, this will no longer exclude empty or all-NA columns when determining the result dtypes. To retain the old behavior, exclude the relevant entries before the concat operation.\n",
      "\n",
      "C:\\Users\\quirosgu\\AppData\\Local\\Temp\\ipykernel_22840\\1651274787.py:854: FutureWarning:\n",
      "\n",
      "The behavior of DataFrame concatenation with empty or all-NA entries is deprecated. In a future version, this will no longer exclude empty or all-NA columns when determining the result dtypes. To retain the old behavior, exclude the relevant entries before the concat operation.\n",
      "\n",
      "C:\\Users\\quirosgu\\AppData\\Local\\Temp\\ipykernel_22840\\1651274787.py:854: FutureWarning:\n",
      "\n",
      "The behavior of DataFrame concatenation with empty or all-NA entries is deprecated. In a future version, this will no longer exclude empty or all-NA columns when determining the result dtypes. To retain the old behavior, exclude the relevant entries before the concat operation.\n",
      "\n",
      "C:\\Users\\quirosgu\\AppData\\Local\\Temp\\ipykernel_22840\\1651274787.py:854: FutureWarning:\n",
      "\n",
      "The behavior of DataFrame concatenation with empty or all-NA entries is deprecated. In a future version, this will no longer exclude empty or all-NA columns when determining the result dtypes. To retain the old behavior, exclude the relevant entries before the concat operation.\n",
      "\n",
      "C:\\Users\\quirosgu\\AppData\\Local\\Temp\\ipykernel_22840\\1651274787.py:854: FutureWarning:\n",
      "\n",
      "The behavior of DataFrame concatenation with empty or all-NA entries is deprecated. In a future version, this will no longer exclude empty or all-NA columns when determining the result dtypes. To retain the old behavior, exclude the relevant entries before the concat operation.\n",
      "\n",
      "C:\\Users\\quirosgu\\AppData\\Local\\Temp\\ipykernel_22840\\1651274787.py:854: FutureWarning:\n",
      "\n",
      "The behavior of DataFrame concatenation with empty or all-NA entries is deprecated. In a future version, this will no longer exclude empty or all-NA columns when determining the result dtypes. To retain the old behavior, exclude the relevant entries before the concat operation.\n",
      "\n",
      "C:\\Users\\quirosgu\\AppData\\Local\\Temp\\ipykernel_22840\\1651274787.py:854: FutureWarning:\n",
      "\n",
      "The behavior of DataFrame concatenation with empty or all-NA entries is deprecated. In a future version, this will no longer exclude empty or all-NA columns when determining the result dtypes. To retain the old behavior, exclude the relevant entries before the concat operation.\n",
      "\n",
      "C:\\Users\\quirosgu\\AppData\\Local\\Temp\\ipykernel_22840\\1651274787.py:854: FutureWarning:\n",
      "\n",
      "The behavior of DataFrame concatenation with empty or all-NA entries is deprecated. In a future version, this will no longer exclude empty or all-NA columns when determining the result dtypes. To retain the old behavior, exclude the relevant entries before the concat operation.\n",
      "\n",
      "C:\\Users\\quirosgu\\AppData\\Local\\Temp\\ipykernel_22840\\1651274787.py:854: FutureWarning:\n",
      "\n",
      "The behavior of DataFrame concatenation with empty or all-NA entries is deprecated. In a future version, this will no longer exclude empty or all-NA columns when determining the result dtypes. To retain the old behavior, exclude the relevant entries before the concat operation.\n",
      "\n",
      "C:\\Users\\quirosgu\\AppData\\Local\\Temp\\ipykernel_22840\\1651274787.py:854: FutureWarning:\n",
      "\n",
      "The behavior of DataFrame concatenation with empty or all-NA entries is deprecated. In a future version, this will no longer exclude empty or all-NA columns when determining the result dtypes. To retain the old behavior, exclude the relevant entries before the concat operation.\n",
      "\n",
      "C:\\Users\\quirosgu\\AppData\\Local\\Temp\\ipykernel_22840\\1651274787.py:854: FutureWarning:\n",
      "\n",
      "The behavior of DataFrame concatenation with empty or all-NA entries is deprecated. In a future version, this will no longer exclude empty or all-NA columns when determining the result dtypes. To retain the old behavior, exclude the relevant entries before the concat operation.\n",
      "\n",
      "C:\\Users\\quirosgu\\AppData\\Local\\Temp\\ipykernel_22840\\1651274787.py:854: FutureWarning:\n",
      "\n",
      "The behavior of DataFrame concatenation with empty or all-NA entries is deprecated. In a future version, this will no longer exclude empty or all-NA columns when determining the result dtypes. To retain the old behavior, exclude the relevant entries before the concat operation.\n",
      "\n",
      "C:\\Users\\quirosgu\\AppData\\Local\\Temp\\ipykernel_22840\\1651274787.py:854: FutureWarning:\n",
      "\n",
      "The behavior of DataFrame concatenation with empty or all-NA entries is deprecated. In a future version, this will no longer exclude empty or all-NA columns when determining the result dtypes. To retain the old behavior, exclude the relevant entries before the concat operation.\n",
      "\n",
      "C:\\Users\\quirosgu\\AppData\\Local\\Temp\\ipykernel_22840\\1651274787.py:854: FutureWarning:\n",
      "\n",
      "The behavior of DataFrame concatenation with empty or all-NA entries is deprecated. In a future version, this will no longer exclude empty or all-NA columns when determining the result dtypes. To retain the old behavior, exclude the relevant entries before the concat operation.\n",
      "\n",
      "C:\\Users\\quirosgu\\AppData\\Local\\Temp\\ipykernel_22840\\1651274787.py:854: FutureWarning:\n",
      "\n",
      "The behavior of DataFrame concatenation with empty or all-NA entries is deprecated. In a future version, this will no longer exclude empty or all-NA columns when determining the result dtypes. To retain the old behavior, exclude the relevant entries before the concat operation.\n",
      "\n",
      "C:\\Users\\quirosgu\\AppData\\Local\\Temp\\ipykernel_22840\\1651274787.py:854: FutureWarning:\n",
      "\n",
      "The behavior of DataFrame concatenation with empty or all-NA entries is deprecated. In a future version, this will no longer exclude empty or all-NA columns when determining the result dtypes. To retain the old behavior, exclude the relevant entries before the concat operation.\n",
      "\n",
      "C:\\Users\\quirosgu\\AppData\\Local\\Temp\\ipykernel_22840\\1651274787.py:854: FutureWarning:\n",
      "\n",
      "The behavior of DataFrame concatenation with empty or all-NA entries is deprecated. In a future version, this will no longer exclude empty or all-NA columns when determining the result dtypes. To retain the old behavior, exclude the relevant entries before the concat operation.\n",
      "\n",
      "C:\\Users\\quirosgu\\AppData\\Local\\Temp\\ipykernel_22840\\1651274787.py:854: FutureWarning:\n",
      "\n",
      "The behavior of DataFrame concatenation with empty or all-NA entries is deprecated. In a future version, this will no longer exclude empty or all-NA columns when determining the result dtypes. To retain the old behavior, exclude the relevant entries before the concat operation.\n",
      "\n",
      "C:\\Users\\quirosgu\\AppData\\Local\\Temp\\ipykernel_22840\\1651274787.py:854: FutureWarning:\n",
      "\n",
      "The behavior of DataFrame concatenation with empty or all-NA entries is deprecated. In a future version, this will no longer exclude empty or all-NA columns when determining the result dtypes. To retain the old behavior, exclude the relevant entries before the concat operation.\n",
      "\n",
      "C:\\Users\\quirosgu\\AppData\\Local\\Temp\\ipykernel_22840\\1651274787.py:854: FutureWarning:\n",
      "\n",
      "The behavior of DataFrame concatenation with empty or all-NA entries is deprecated. In a future version, this will no longer exclude empty or all-NA columns when determining the result dtypes. To retain the old behavior, exclude the relevant entries before the concat operation.\n",
      "\n",
      "C:\\Users\\quirosgu\\AppData\\Local\\Temp\\ipykernel_22840\\1651274787.py:854: FutureWarning:\n",
      "\n",
      "The behavior of DataFrame concatenation with empty or all-NA entries is deprecated. In a future version, this will no longer exclude empty or all-NA columns when determining the result dtypes. To retain the old behavior, exclude the relevant entries before the concat operation.\n",
      "\n",
      "C:\\Users\\quirosgu\\AppData\\Local\\Temp\\ipykernel_22840\\1651274787.py:854: FutureWarning:\n",
      "\n",
      "The behavior of DataFrame concatenation with empty or all-NA entries is deprecated. In a future version, this will no longer exclude empty or all-NA columns when determining the result dtypes. To retain the old behavior, exclude the relevant entries before the concat operation.\n",
      "\n",
      "C:\\Users\\quirosgu\\AppData\\Local\\Temp\\ipykernel_22840\\1651274787.py:854: FutureWarning:\n",
      "\n",
      "The behavior of DataFrame concatenation with empty or all-NA entries is deprecated. In a future version, this will no longer exclude empty or all-NA columns when determining the result dtypes. To retain the old behavior, exclude the relevant entries before the concat operation.\n",
      "\n",
      "C:\\Users\\quirosgu\\AppData\\Local\\Temp\\ipykernel_22840\\1651274787.py:854: FutureWarning:\n",
      "\n",
      "The behavior of DataFrame concatenation with empty or all-NA entries is deprecated. In a future version, this will no longer exclude empty or all-NA columns when determining the result dtypes. To retain the old behavior, exclude the relevant entries before the concat operation.\n",
      "\n",
      "C:\\Users\\quirosgu\\AppData\\Local\\Temp\\ipykernel_22840\\1651274787.py:854: FutureWarning:\n",
      "\n",
      "The behavior of DataFrame concatenation with empty or all-NA entries is deprecated. In a future version, this will no longer exclude empty or all-NA columns when determining the result dtypes. To retain the old behavior, exclude the relevant entries before the concat operation.\n",
      "\n",
      "C:\\Users\\quirosgu\\AppData\\Local\\Temp\\ipykernel_22840\\1651274787.py:854: FutureWarning:\n",
      "\n",
      "The behavior of DataFrame concatenation with empty or all-NA entries is deprecated. In a future version, this will no longer exclude empty or all-NA columns when determining the result dtypes. To retain the old behavior, exclude the relevant entries before the concat operation.\n",
      "\n",
      "C:\\Users\\quirosgu\\AppData\\Local\\Temp\\ipykernel_22840\\1651274787.py:854: FutureWarning:\n",
      "\n",
      "The behavior of DataFrame concatenation with empty or all-NA entries is deprecated. In a future version, this will no longer exclude empty or all-NA columns when determining the result dtypes. To retain the old behavior, exclude the relevant entries before the concat operation.\n",
      "\n",
      "C:\\Users\\quirosgu\\AppData\\Local\\Temp\\ipykernel_22840\\1651274787.py:854: FutureWarning:\n",
      "\n",
      "The behavior of DataFrame concatenation with empty or all-NA entries is deprecated. In a future version, this will no longer exclude empty or all-NA columns when determining the result dtypes. To retain the old behavior, exclude the relevant entries before the concat operation.\n",
      "\n",
      "C:\\Users\\quirosgu\\AppData\\Local\\Temp\\ipykernel_22840\\1651274787.py:854: FutureWarning:\n",
      "\n",
      "The behavior of DataFrame concatenation with empty or all-NA entries is deprecated. In a future version, this will no longer exclude empty or all-NA columns when determining the result dtypes. To retain the old behavior, exclude the relevant entries before the concat operation.\n",
      "\n",
      "C:\\Users\\quirosgu\\AppData\\Local\\Temp\\ipykernel_22840\\1651274787.py:854: FutureWarning:\n",
      "\n",
      "The behavior of DataFrame concatenation with empty or all-NA entries is deprecated. In a future version, this will no longer exclude empty or all-NA columns when determining the result dtypes. To retain the old behavior, exclude the relevant entries before the concat operation.\n",
      "\n",
      "C:\\Users\\quirosgu\\AppData\\Local\\Temp\\ipykernel_22840\\1651274787.py:854: FutureWarning:\n",
      "\n",
      "The behavior of DataFrame concatenation with empty or all-NA entries is deprecated. In a future version, this will no longer exclude empty or all-NA columns when determining the result dtypes. To retain the old behavior, exclude the relevant entries before the concat operation.\n",
      "\n",
      "C:\\Users\\quirosgu\\AppData\\Local\\Temp\\ipykernel_22840\\1651274787.py:854: FutureWarning:\n",
      "\n",
      "The behavior of DataFrame concatenation with empty or all-NA entries is deprecated. In a future version, this will no longer exclude empty or all-NA columns when determining the result dtypes. To retain the old behavior, exclude the relevant entries before the concat operation.\n",
      "\n",
      "C:\\Users\\quirosgu\\AppData\\Local\\Temp\\ipykernel_22840\\1651274787.py:854: FutureWarning:\n",
      "\n",
      "The behavior of DataFrame concatenation with empty or all-NA entries is deprecated. In a future version, this will no longer exclude empty or all-NA columns when determining the result dtypes. To retain the old behavior, exclude the relevant entries before the concat operation.\n",
      "\n",
      "C:\\Users\\quirosgu\\AppData\\Local\\Temp\\ipykernel_22840\\1651274787.py:854: FutureWarning:\n",
      "\n",
      "The behavior of DataFrame concatenation with empty or all-NA entries is deprecated. In a future version, this will no longer exclude empty or all-NA columns when determining the result dtypes. To retain the old behavior, exclude the relevant entries before the concat operation.\n",
      "\n",
      "C:\\Users\\quirosgu\\AppData\\Local\\Temp\\ipykernel_22840\\1651274787.py:854: FutureWarning:\n",
      "\n",
      "The behavior of DataFrame concatenation with empty or all-NA entries is deprecated. In a future version, this will no longer exclude empty or all-NA columns when determining the result dtypes. To retain the old behavior, exclude the relevant entries before the concat operation.\n",
      "\n",
      "C:\\Users\\quirosgu\\AppData\\Local\\Temp\\ipykernel_22840\\1651274787.py:854: FutureWarning:\n",
      "\n",
      "The behavior of DataFrame concatenation with empty or all-NA entries is deprecated. In a future version, this will no longer exclude empty or all-NA columns when determining the result dtypes. To retain the old behavior, exclude the relevant entries before the concat operation.\n",
      "\n",
      "C:\\Users\\quirosgu\\AppData\\Local\\Temp\\ipykernel_22840\\1651274787.py:854: FutureWarning:\n",
      "\n",
      "The behavior of DataFrame concatenation with empty or all-NA entries is deprecated. In a future version, this will no longer exclude empty or all-NA columns when determining the result dtypes. To retain the old behavior, exclude the relevant entries before the concat operation.\n",
      "\n",
      "C:\\Users\\quirosgu\\AppData\\Local\\Temp\\ipykernel_22840\\1651274787.py:854: FutureWarning:\n",
      "\n",
      "The behavior of DataFrame concatenation with empty or all-NA entries is deprecated. In a future version, this will no longer exclude empty or all-NA columns when determining the result dtypes. To retain the old behavior, exclude the relevant entries before the concat operation.\n",
      "\n",
      "C:\\Users\\quirosgu\\AppData\\Local\\Temp\\ipykernel_22840\\1651274787.py:854: FutureWarning:\n",
      "\n",
      "The behavior of DataFrame concatenation with empty or all-NA entries is deprecated. In a future version, this will no longer exclude empty or all-NA columns when determining the result dtypes. To retain the old behavior, exclude the relevant entries before the concat operation.\n",
      "\n",
      "C:\\Users\\quirosgu\\AppData\\Local\\Temp\\ipykernel_22840\\1651274787.py:854: FutureWarning:\n",
      "\n",
      "The behavior of DataFrame concatenation with empty or all-NA entries is deprecated. In a future version, this will no longer exclude empty or all-NA columns when determining the result dtypes. To retain the old behavior, exclude the relevant entries before the concat operation.\n",
      "\n",
      "C:\\Users\\quirosgu\\AppData\\Local\\Temp\\ipykernel_22840\\1651274787.py:854: FutureWarning:\n",
      "\n",
      "The behavior of DataFrame concatenation with empty or all-NA entries is deprecated. In a future version, this will no longer exclude empty or all-NA columns when determining the result dtypes. To retain the old behavior, exclude the relevant entries before the concat operation.\n",
      "\n",
      "C:\\Users\\quirosgu\\AppData\\Local\\Temp\\ipykernel_22840\\1651274787.py:854: FutureWarning:\n",
      "\n",
      "The behavior of DataFrame concatenation with empty or all-NA entries is deprecated. In a future version, this will no longer exclude empty or all-NA columns when determining the result dtypes. To retain the old behavior, exclude the relevant entries before the concat operation.\n",
      "\n",
      "C:\\Users\\quirosgu\\AppData\\Local\\Temp\\ipykernel_22840\\1651274787.py:854: FutureWarning:\n",
      "\n",
      "The behavior of DataFrame concatenation with empty or all-NA entries is deprecated. In a future version, this will no longer exclude empty or all-NA columns when determining the result dtypes. To retain the old behavior, exclude the relevant entries before the concat operation.\n",
      "\n",
      "C:\\Users\\quirosgu\\AppData\\Local\\Temp\\ipykernel_22840\\1651274787.py:854: FutureWarning:\n",
      "\n",
      "The behavior of DataFrame concatenation with empty or all-NA entries is deprecated. In a future version, this will no longer exclude empty or all-NA columns when determining the result dtypes. To retain the old behavior, exclude the relevant entries before the concat operation.\n",
      "\n",
      "C:\\Users\\quirosgu\\AppData\\Local\\Temp\\ipykernel_22840\\1651274787.py:854: FutureWarning:\n",
      "\n",
      "The behavior of DataFrame concatenation with empty or all-NA entries is deprecated. In a future version, this will no longer exclude empty or all-NA columns when determining the result dtypes. To retain the old behavior, exclude the relevant entries before the concat operation.\n",
      "\n",
      "C:\\Users\\quirosgu\\AppData\\Local\\Temp\\ipykernel_22840\\1651274787.py:854: FutureWarning:\n",
      "\n",
      "The behavior of DataFrame concatenation with empty or all-NA entries is deprecated. In a future version, this will no longer exclude empty or all-NA columns when determining the result dtypes. To retain the old behavior, exclude the relevant entries before the concat operation.\n",
      "\n",
      "C:\\Users\\quirosgu\\AppData\\Local\\Temp\\ipykernel_22840\\1651274787.py:854: FutureWarning:\n",
      "\n",
      "The behavior of DataFrame concatenation with empty or all-NA entries is deprecated. In a future version, this will no longer exclude empty or all-NA columns when determining the result dtypes. To retain the old behavior, exclude the relevant entries before the concat operation.\n",
      "\n",
      "C:\\Users\\quirosgu\\AppData\\Local\\Temp\\ipykernel_22840\\1651274787.py:854: FutureWarning:\n",
      "\n",
      "The behavior of DataFrame concatenation with empty or all-NA entries is deprecated. In a future version, this will no longer exclude empty or all-NA columns when determining the result dtypes. To retain the old behavior, exclude the relevant entries before the concat operation.\n",
      "\n",
      "C:\\Users\\quirosgu\\AppData\\Local\\Temp\\ipykernel_22840\\1651274787.py:854: FutureWarning:\n",
      "\n",
      "The behavior of DataFrame concatenation with empty or all-NA entries is deprecated. In a future version, this will no longer exclude empty or all-NA columns when determining the result dtypes. To retain the old behavior, exclude the relevant entries before the concat operation.\n",
      "\n",
      "C:\\Users\\quirosgu\\AppData\\Local\\Temp\\ipykernel_22840\\1651274787.py:854: FutureWarning:\n",
      "\n",
      "The behavior of DataFrame concatenation with empty or all-NA entries is deprecated. In a future version, this will no longer exclude empty or all-NA columns when determining the result dtypes. To retain the old behavior, exclude the relevant entries before the concat operation.\n",
      "\n",
      "C:\\Users\\quirosgu\\AppData\\Local\\Temp\\ipykernel_22840\\1651274787.py:854: FutureWarning:\n",
      "\n",
      "The behavior of DataFrame concatenation with empty or all-NA entries is deprecated. In a future version, this will no longer exclude empty or all-NA columns when determining the result dtypes. To retain the old behavior, exclude the relevant entries before the concat operation.\n",
      "\n",
      "C:\\Users\\quirosgu\\AppData\\Local\\Temp\\ipykernel_22840\\1651274787.py:854: FutureWarning:\n",
      "\n",
      "The behavior of DataFrame concatenation with empty or all-NA entries is deprecated. In a future version, this will no longer exclude empty or all-NA columns when determining the result dtypes. To retain the old behavior, exclude the relevant entries before the concat operation.\n",
      "\n",
      "C:\\Users\\quirosgu\\AppData\\Local\\Temp\\ipykernel_22840\\1651274787.py:854: FutureWarning:\n",
      "\n",
      "The behavior of DataFrame concatenation with empty or all-NA entries is deprecated. In a future version, this will no longer exclude empty or all-NA columns when determining the result dtypes. To retain the old behavior, exclude the relevant entries before the concat operation.\n",
      "\n",
      "C:\\Users\\quirosgu\\AppData\\Local\\Temp\\ipykernel_22840\\1651274787.py:854: FutureWarning:\n",
      "\n",
      "The behavior of DataFrame concatenation with empty or all-NA entries is deprecated. In a future version, this will no longer exclude empty or all-NA columns when determining the result dtypes. To retain the old behavior, exclude the relevant entries before the concat operation.\n",
      "\n",
      "C:\\Users\\quirosgu\\AppData\\Local\\Temp\\ipykernel_22840\\1651274787.py:854: FutureWarning:\n",
      "\n",
      "The behavior of DataFrame concatenation with empty or all-NA entries is deprecated. In a future version, this will no longer exclude empty or all-NA columns when determining the result dtypes. To retain the old behavior, exclude the relevant entries before the concat operation.\n",
      "\n",
      "C:\\Users\\quirosgu\\AppData\\Local\\Temp\\ipykernel_22840\\1651274787.py:854: FutureWarning:\n",
      "\n",
      "The behavior of DataFrame concatenation with empty or all-NA entries is deprecated. In a future version, this will no longer exclude empty or all-NA columns when determining the result dtypes. To retain the old behavior, exclude the relevant entries before the concat operation.\n",
      "\n",
      "C:\\Users\\quirosgu\\AppData\\Local\\Temp\\ipykernel_22840\\1651274787.py:854: FutureWarning:\n",
      "\n",
      "The behavior of DataFrame concatenation with empty or all-NA entries is deprecated. In a future version, this will no longer exclude empty or all-NA columns when determining the result dtypes. To retain the old behavior, exclude the relevant entries before the concat operation.\n",
      "\n",
      "C:\\Users\\quirosgu\\AppData\\Local\\Temp\\ipykernel_22840\\1651274787.py:854: FutureWarning:\n",
      "\n",
      "The behavior of DataFrame concatenation with empty or all-NA entries is deprecated. In a future version, this will no longer exclude empty or all-NA columns when determining the result dtypes. To retain the old behavior, exclude the relevant entries before the concat operation.\n",
      "\n",
      "C:\\Users\\quirosgu\\AppData\\Local\\Temp\\ipykernel_22840\\1651274787.py:854: FutureWarning:\n",
      "\n",
      "The behavior of DataFrame concatenation with empty or all-NA entries is deprecated. In a future version, this will no longer exclude empty or all-NA columns when determining the result dtypes. To retain the old behavior, exclude the relevant entries before the concat operation.\n",
      "\n",
      "C:\\Users\\quirosgu\\AppData\\Local\\Temp\\ipykernel_22840\\1651274787.py:854: FutureWarning:\n",
      "\n",
      "The behavior of DataFrame concatenation with empty or all-NA entries is deprecated. In a future version, this will no longer exclude empty or all-NA columns when determining the result dtypes. To retain the old behavior, exclude the relevant entries before the concat operation.\n",
      "\n"
     ]
    },
    {
     "data": {
      "application/vnd.plotly.v1+json": {
       "config": {
        "plotlyServerURL": "https://plot.ly"
       },
       "data": [
        {
         "hovertemplate": "Pathway=%{x}<br>Species=%{y}<br>Recurrence=%{marker.size}<extra></extra>",
         "legendgroup": "Carbohydrates",
         "marker": {
          "color": "#65451F",
          "size": [
           1,
           11,
           1,
           1,
           3,
           6,
           3,
           7,
           4,
           1,
           18,
           5
          ],
          "sizemode": "area",
          "sizeref": 0.48,
          "symbol": "circle"
         },
         "mode": "markers",
         "name": "Carbohydrates",
         "orientation": "v",
         "showlegend": true,
         "type": "scatter",
         "x": [
          "Carbohydrates",
          "Carbohydrates",
          "Carbohydrates",
          "Carbohydrates",
          "Carbohydrates",
          "Carbohydrates",
          "Carbohydrates",
          "Carbohydrates",
          "Carbohydrates",
          "Carbohydrates",
          "Carbohydrates",
          "Carbohydrates"
         ],
         "xaxis": "x",
         "y": [
          "Acrocomia aculeata",
          "Catharanthus roseus",
          "Genipa americana",
          "Gliricidia sepium",
          "Jatropha gossypiifolia",
          "Lantana camara",
          "Lonchocarpus heptaphyllus",
          "Morinda citrifolia",
          "Omphalea diandra",
          "Quassia amara",
          "Saccharum officinarum",
          "Sapium laurifolium"
         ],
         "yaxis": "y"
        },
        {
         "hovertemplate": "Pathway=%{x}<br>Species=%{y}<br>Recurrence=%{marker.size}<extra></extra>",
         "legendgroup": "Fatty acids",
         "marker": {
          "color": "#FF6C22",
          "size": [
           1,
           1,
           19,
           1,
           14,
           3,
           18,
           8,
           1,
           1,
           16,
           5,
           22,
           4,
           3,
           17,
           2,
           5,
           30,
           1,
           3,
           2
          ],
          "sizemode": "area",
          "sizeref": 0.48,
          "symbol": "circle"
         },
         "mode": "markers",
         "name": "Fatty acids",
         "orientation": "v",
         "showlegend": true,
         "type": "scatter",
         "x": [
          "Fatty acids",
          "Fatty acids",
          "Fatty acids",
          "Fatty acids",
          "Fatty acids",
          "Fatty acids",
          "Fatty acids",
          "Fatty acids",
          "Fatty acids",
          "Fatty acids",
          "Fatty acids",
          "Fatty acids",
          "Fatty acids",
          "Fatty acids",
          "Fatty acids",
          "Fatty acids",
          "Fatty acids",
          "Fatty acids",
          "Fatty acids",
          "Fatty acids",
          "Fatty acids",
          "Fatty acids"
         ],
         "xaxis": "x",
         "y": [
          "Acrostichum aureum",
          "Ageratina ligustrina",
          "Ageratum conyzoides",
          "Caesalpinia pulcherrima",
          "Catharanthus roseus",
          "Crescentia cujete",
          "Cymbopogon citratus",
          "Delonix regia",
          "Ficus benjamina",
          "Gliricidia sepium",
          "Ipomoea nil",
          "Jatropha gossypiifolia",
          "Lantana camara",
          "Lawsonia inermis",
          "Mimosa pudica",
          "Morinda citrifolia",
          "Paullinia pinnata",
          "Piper tuberculatum",
          "Plumeria rubra",
          "Rhizophora mangle",
          "Saccharum officinarum",
          "Samanea saman"
         ],
         "yaxis": "y"
        },
        {
         "hovertemplate": "Pathway=%{x}<br>Species=%{y}<br>Recurrence=%{marker.size}<extra></extra>",
         "legendgroup": "Terpenoids",
         "marker": {
          "color": "#618264",
          "size": [
           4,
           22,
           10,
           78,
           21,
           2,
           2,
           61,
           29,
           1,
           61,
           6,
           1,
           21,
           3,
           51,
           3,
           1,
           3,
           26,
           9,
           97,
           3,
           19,
           18,
           46,
           16,
           157,
           19,
           1,
           1,
           22,
           7,
           30,
           61,
           3,
           3,
           7,
           4,
           4,
           7,
           13,
           3,
           4,
           1,
           12,
           58,
           2,
           4,
           19,
           7,
           5,
           31,
           5,
           22,
           14,
           3,
           12,
           3,
           1,
           10
          ],
          "sizemode": "area",
          "sizeref": 0.48,
          "symbol": "circle"
         },
         "mode": "markers",
         "name": "Terpenoids",
         "orientation": "v",
         "showlegend": true,
         "type": "scatter",
         "x": [
          "Terpenoids",
          "Terpenoids",
          "Terpenoids",
          "Terpenoids",
          "Terpenoids",
          "Terpenoids",
          "Terpenoids",
          "Terpenoids",
          "Terpenoids",
          "Terpenoids",
          "Terpenoids",
          "Terpenoids",
          "Terpenoids",
          "Terpenoids",
          "Terpenoids",
          "Terpenoids",
          "Terpenoids",
          "Terpenoids",
          "Terpenoids",
          "Terpenoids",
          "Terpenoids",
          "Terpenoids",
          "Terpenoids",
          "Terpenoids",
          "Terpenoids",
          "Terpenoids",
          "Terpenoids",
          "Terpenoids",
          "Terpenoids",
          "Terpenoids",
          "Terpenoids",
          "Terpenoids",
          "Terpenoids",
          "Terpenoids",
          "Terpenoids",
          "Terpenoids",
          "Terpenoids",
          "Terpenoids",
          "Terpenoids",
          "Terpenoids",
          "Terpenoids",
          "Terpenoids",
          "Terpenoids",
          "Terpenoids",
          "Terpenoids",
          "Terpenoids",
          "Terpenoids",
          "Terpenoids",
          "Terpenoids",
          "Terpenoids",
          "Terpenoids",
          "Terpenoids",
          "Terpenoids",
          "Terpenoids",
          "Terpenoids",
          "Terpenoids",
          "Terpenoids",
          "Terpenoids",
          "Terpenoids",
          "Terpenoids",
          "Terpenoids"
         ],
         "xaxis": "x",
         "y": [
          "Acrostichum aureum",
          "Ageratina ixiocladon",
          "Ageratina ligustrina",
          "Ageratum conyzoides",
          "Alibertia edulis",
          "Avicennia bicolor",
          "Avicennia germinans",
          "Caesalpinia pulcherrima",
          "Calea urticifolia",
          "Cassia grandis",
          "Catharanthus roseus",
          "Cnidoscolus urens",
          "Cojoba arborea",
          "Crescentia cujete",
          "Cryptostegia madagascariensis",
          "Cymbopogon citratus",
          "Eichhornia crassipes",
          "Faramea occidentalis",
          "Ficus benjamina",
          "Genipa americana",
          "Gliricidia sepium",
          "Guilandina bonduc",
          "Handroanthus chrysanthus",
          "Hedyosmum bonplandianum",
          "Hymenaea courbaril",
          "Ipomoea nil",
          "Jatropha gossypiifolia",
          "Lantana camara",
          "Lawsonia inermis",
          "Maclura tinctoria",
          "Marila laxiflora",
          "Maytenus woodsonii",
          "Mesosphaerum suaveolens",
          "Mikania micrantha",
          "Morinda citrifolia",
          "Myrciaria floribunda",
          "Nasturtium officinale",
          "Onoseris onoseroides",
          "Paullinia pinnata",
          "Peperomia galioides",
          "Persicaria pubescens",
          "Phyllanthus acuminatus",
          "Phytolacca rivinoides",
          "Picramnia latifolia",
          "Piper multiplinervium",
          "Piptocarpha poeppigiana",
          "Plumeria rubra",
          "Posoqueria latifolia",
          "Prosopis juliflora",
          "Quassia amara",
          "Rhizophora mangle",
          "Saccharum officinarum",
          "Sansevieria trifasciata",
          "Smilax officinalis",
          "Talipariti tiliaceum",
          "Telanthophora grandifolia",
          "Trattinnickia aspera",
          "Trichilia pallida",
          "Urochloa decumbens",
          "Verbesina myriocephala",
          "Xylopia frutescens"
         ],
         "yaxis": "y"
        },
        {
         "hovertemplate": "Pathway=%{x}<br>Species=%{y}<br>Recurrence=%{marker.size}<extra></extra>",
         "legendgroup": "Polyketides",
         "marker": {
          "color": "#EF4B4B",
          "size": [
           1,
           2,
           1,
           2,
           2,
           5,
           2,
           2,
           7,
           1,
           2,
           9,
           6,
           1,
           2,
           55,
           12,
           18,
           2,
           2,
           17,
           8
          ],
          "sizemode": "area",
          "sizeref": 0.48,
          "symbol": "circle"
         },
         "mode": "markers",
         "name": "Polyketides",
         "orientation": "v",
         "showlegend": true,
         "type": "scatter",
         "x": [
          "Polyketides",
          "Polyketides",
          "Polyketides",
          "Polyketides",
          "Polyketides",
          "Polyketides",
          "Polyketides",
          "Polyketides",
          "Polyketides",
          "Polyketides",
          "Polyketides",
          "Polyketides",
          "Polyketides",
          "Polyketides",
          "Polyketides",
          "Polyketides",
          "Polyketides",
          "Polyketides",
          "Polyketides",
          "Polyketides",
          "Polyketides",
          "Polyketides"
         ],
         "xaxis": "x",
         "y": [
          "Ageratina ixiocladon",
          "Ageratum conyzoides",
          "Avicennia germinans",
          "Caesalpinia pulcherrima",
          "Calea urticifolia",
          "Cassia grandis",
          "Crescentia cujete",
          "Eichhornia crassipes",
          "Faramea occidentalis",
          "Ipomoea nil",
          "Laguncularia racemosa",
          "Lantana camara",
          "Lawsonia inermis",
          "Maclura tinctoria",
          "Marila laxiflora",
          "Morinda citrifolia",
          "Peperomia galioides",
          "Picramnia latifolia",
          "Piper reticulatum",
          "Plumeria rubra",
          "Talipariti tiliaceum",
          "Tovomita longifolia"
         ],
         "yaxis": "y"
        },
        {
         "hovertemplate": "Pathway=%{x}<br>Species=%{y}<br>Recurrence=%{marker.size}<extra></extra>",
         "legendgroup": "Alkaloids",
         "marker": {
          "color": "#305F72",
          "size": [
           4,
           2,
           6,
           1,
           2,
           192,
           6,
           10,
           16,
           1,
           2,
           4,
           2,
           2,
           1,
           2,
           24,
           2,
           6,
           2,
           7,
           1,
           11,
           9,
           3
          ],
          "sizemode": "area",
          "sizeref": 0.48,
          "symbol": "circle"
         },
         "mode": "markers",
         "name": "Alkaloids",
         "orientation": "v",
         "showlegend": true,
         "type": "scatter",
         "x": [
          "Alkaloids",
          "Alkaloids",
          "Alkaloids",
          "Alkaloids",
          "Alkaloids",
          "Alkaloids",
          "Alkaloids",
          "Alkaloids",
          "Alkaloids",
          "Alkaloids",
          "Alkaloids",
          "Alkaloids",
          "Alkaloids",
          "Alkaloids",
          "Alkaloids",
          "Alkaloids",
          "Alkaloids",
          "Alkaloids",
          "Alkaloids",
          "Alkaloids",
          "Alkaloids",
          "Alkaloids",
          "Alkaloids",
          "Alkaloids",
          "Alkaloids"
         ],
         "xaxis": "x",
         "y": [
          "Ageratina ligustrina",
          "Ageratum conyzoides",
          "Albizia adinocephala",
          "Alibertia edulis",
          "Caesalpinia pulcherrima",
          "Catharanthus roseus",
          "Cymbopogon citratus",
          "Eichhornia crassipes",
          "Erythrina berteroana",
          "Erythroxylum fimbriatum",
          "Herrania purpurea",
          "Ipomoea nil",
          "Mimosa pudica",
          "Morinda citrifolia",
          "Nasturtium officinale",
          "Piper reticulatum",
          "Piper tuberculatum",
          "Plumeria rubra",
          "Prosopis juliflora",
          "Quassia amara",
          "Rauvolfia littoralis",
          "Samanea saman",
          "Siparuna grandiflora",
          "Talipariti tiliaceum",
          "Telanthophora grandifolia"
         ],
         "yaxis": "y"
        },
        {
         "hovertemplate": "Pathway=%{x}<br>Species=%{y}<br>Recurrence=%{marker.size}<extra></extra>",
         "legendgroup": "Shikimates and Phenylpropanoids",
         "marker": {
          "color": "#80558C",
          "size": [
           12,
           23,
           2,
           2,
           2,
           43,
           6,
           6,
           5,
           8,
           32,
           19,
           1,
           6,
           35,
           18,
           4,
           1,
           1,
           4,
           7,
           43,
           4,
           2,
           1,
           48,
           8,
           27,
           20,
           32,
           21,
           30,
           4,
           5,
           14,
           57,
           18,
           4,
           10,
           5,
           3,
           2,
           1,
           7,
           29,
           12,
           1,
           18,
           2,
           6,
           9,
           2,
           5
          ],
          "sizemode": "area",
          "sizeref": 0.48,
          "symbol": "circle"
         },
         "mode": "markers",
         "name": "Shikimates and Phenylpropanoids",
         "orientation": "v",
         "showlegend": true,
         "type": "scatter",
         "x": [
          "Shikimates and Phenylpropanoids",
          "Shikimates and Phenylpropanoids",
          "Shikimates and Phenylpropanoids",
          "Shikimates and Phenylpropanoids",
          "Shikimates and Phenylpropanoids",
          "Shikimates and Phenylpropanoids",
          "Shikimates and Phenylpropanoids",
          "Shikimates and Phenylpropanoids",
          "Shikimates and Phenylpropanoids",
          "Shikimates and Phenylpropanoids",
          "Shikimates and Phenylpropanoids",
          "Shikimates and Phenylpropanoids",
          "Shikimates and Phenylpropanoids",
          "Shikimates and Phenylpropanoids",
          "Shikimates and Phenylpropanoids",
          "Shikimates and Phenylpropanoids",
          "Shikimates and Phenylpropanoids",
          "Shikimates and Phenylpropanoids",
          "Shikimates and Phenylpropanoids",
          "Shikimates and Phenylpropanoids",
          "Shikimates and Phenylpropanoids",
          "Shikimates and Phenylpropanoids",
          "Shikimates and Phenylpropanoids",
          "Shikimates and Phenylpropanoids",
          "Shikimates and Phenylpropanoids",
          "Shikimates and Phenylpropanoids",
          "Shikimates and Phenylpropanoids",
          "Shikimates and Phenylpropanoids",
          "Shikimates and Phenylpropanoids",
          "Shikimates and Phenylpropanoids",
          "Shikimates and Phenylpropanoids",
          "Shikimates and Phenylpropanoids",
          "Shikimates and Phenylpropanoids",
          "Shikimates and Phenylpropanoids",
          "Shikimates and Phenylpropanoids",
          "Shikimates and Phenylpropanoids",
          "Shikimates and Phenylpropanoids",
          "Shikimates and Phenylpropanoids",
          "Shikimates and Phenylpropanoids",
          "Shikimates and Phenylpropanoids",
          "Shikimates and Phenylpropanoids",
          "Shikimates and Phenylpropanoids",
          "Shikimates and Phenylpropanoids",
          "Shikimates and Phenylpropanoids",
          "Shikimates and Phenylpropanoids",
          "Shikimates and Phenylpropanoids",
          "Shikimates and Phenylpropanoids",
          "Shikimates and Phenylpropanoids",
          "Shikimates and Phenylpropanoids",
          "Shikimates and Phenylpropanoids",
          "Shikimates and Phenylpropanoids",
          "Shikimates and Phenylpropanoids",
          "Shikimates and Phenylpropanoids"
         ],
         "xaxis": "x",
         "y": [
          "Ageratina ligustrina",
          "Ageratum conyzoides",
          "Apeiba tibourbou",
          "Arthraxon hispidus",
          "Avicennia germinans",
          "Caesalpinia pulcherrima",
          "Calceolaria irazuensis",
          "Camonea umbellata",
          "Canavalia rosea",
          "Cassia grandis",
          "Catharanthus roseus",
          "Cissus verticillata",
          "Clarisia racemosa",
          "Crescentia cujete",
          "Cymbopogon citratus",
          "Eichhornia crassipes",
          "Erythrina berteroana",
          "Euphorbia hypericifolia",
          "Faramea occidentalis",
          "Ficus maxima",
          "Fuchsia splendens",
          "Gliricidia sepium",
          "Guilandina bonduc",
          "Hedyosmum bonplandianum",
          "Hymenaea courbaril",
          "Ipomoea nil",
          "Jatropha gossypiifolia",
          "Laguncularia racemosa",
          "Lantana camara",
          "Lawsonia inermis",
          "Lonchocarpus heptaphyllus",
          "Maclura tinctoria",
          "Marila laxiflora",
          "Mikania micrantha",
          "Mimosa pudica",
          "Morinda citrifolia",
          "Nasturtium officinale",
          "Paullinia pinnata",
          "Persicaria pubescens",
          "Phenax angustifolius",
          "Phyllanthus acuminatus",
          "Picramnia latifolia",
          "Piper reticulatum",
          "Piper tuberculatum",
          "Plumeria rubra",
          "Prosopis juliflora",
          "Rhizophora mangle",
          "Saccharum officinarum",
          "Sapium laurifolium",
          "Syzygium malaccense",
          "Talipariti tiliaceum",
          "Urochloa decumbens",
          "Verbesina myriocephala"
         ],
         "yaxis": "y"
        },
        {
         "hovertemplate": "Pathway=%{x}<br>Species=%{y}<br>Recurrence=%{marker.size}<extra></extra>",
         "legendgroup": "Amino acids and Peptides",
         "marker": {
          "color": "#F4E869",
          "size": [
           1,
           3,
           1,
           14,
           1,
           21,
           1,
           1,
           25,
           3,
           13,
           4,
           2,
           2,
           4,
           1,
           1,
           1,
           5,
           3
          ],
          "sizemode": "area",
          "sizeref": 0.48,
          "symbol": "circle"
         },
         "mode": "markers",
         "name": "Amino acids and Peptides",
         "orientation": "v",
         "showlegend": true,
         "type": "scatter",
         "x": [
          "Amino acids and Peptides",
          "Amino acids and Peptides",
          "Amino acids and Peptides",
          "Amino acids and Peptides",
          "Amino acids and Peptides",
          "Amino acids and Peptides",
          "Amino acids and Peptides",
          "Amino acids and Peptides",
          "Amino acids and Peptides",
          "Amino acids and Peptides",
          "Amino acids and Peptides",
          "Amino acids and Peptides",
          "Amino acids and Peptides",
          "Amino acids and Peptides",
          "Amino acids and Peptides",
          "Amino acids and Peptides",
          "Amino acids and Peptides",
          "Amino acids and Peptides",
          "Amino acids and Peptides",
          "Amino acids and Peptides"
         ],
         "xaxis": "x",
         "y": [
          "Ageratum conyzoides",
          "Camonea umbellata",
          "Canavalia rosea",
          "Catharanthus roseus",
          "Delonix regia",
          "Eichhornia crassipes",
          "Gliricidia sepium",
          "Guilandina bonduc",
          "Indigofera hirsuta",
          "Ipomoea nil",
          "Jatropha gossypiifolia",
          "Lantana camara",
          "Mimosa pudica",
          "Nasturtium officinale",
          "Piper tuberculatum",
          "Plumeria rubra",
          "Prosopis juliflora",
          "Rauvolfia littoralis",
          "Talipariti tiliaceum",
          "Vasconcellea cauliflora"
         ],
         "yaxis": "y"
        }
       ],
       "layout": {
        "font": {
         "family": "Times New Roman"
        },
        "height": 1500,
        "legend": {
         "itemsizing": "constant",
         "title": {
          "text": "Pathway"
         },
         "tracegroupgap": 0
        },
        "plot_bgcolor": "white",
        "template": {
         "data": {
          "bar": [
           {
            "error_x": {
             "color": "#2a3f5f"
            },
            "error_y": {
             "color": "#2a3f5f"
            },
            "marker": {
             "line": {
              "color": "#E5ECF6",
              "width": 0.5
             },
             "pattern": {
              "fillmode": "overlay",
              "size": 10,
              "solidity": 0.2
             }
            },
            "type": "bar"
           }
          ],
          "barpolar": [
           {
            "marker": {
             "line": {
              "color": "#E5ECF6",
              "width": 0.5
             },
             "pattern": {
              "fillmode": "overlay",
              "size": 10,
              "solidity": 0.2
             }
            },
            "type": "barpolar"
           }
          ],
          "carpet": [
           {
            "aaxis": {
             "endlinecolor": "#2a3f5f",
             "gridcolor": "white",
             "linecolor": "white",
             "minorgridcolor": "white",
             "startlinecolor": "#2a3f5f"
            },
            "baxis": {
             "endlinecolor": "#2a3f5f",
             "gridcolor": "white",
             "linecolor": "white",
             "minorgridcolor": "white",
             "startlinecolor": "#2a3f5f"
            },
            "type": "carpet"
           }
          ],
          "choropleth": [
           {
            "colorbar": {
             "outlinewidth": 0,
             "ticks": ""
            },
            "type": "choropleth"
           }
          ],
          "contour": [
           {
            "colorbar": {
             "outlinewidth": 0,
             "ticks": ""
            },
            "colorscale": [
             [
              0,
              "#0d0887"
             ],
             [
              0.1111111111111111,
              "#46039f"
             ],
             [
              0.2222222222222222,
              "#7201a8"
             ],
             [
              0.3333333333333333,
              "#9c179e"
             ],
             [
              0.4444444444444444,
              "#bd3786"
             ],
             [
              0.5555555555555556,
              "#d8576b"
             ],
             [
              0.6666666666666666,
              "#ed7953"
             ],
             [
              0.7777777777777778,
              "#fb9f3a"
             ],
             [
              0.8888888888888888,
              "#fdca26"
             ],
             [
              1,
              "#f0f921"
             ]
            ],
            "type": "contour"
           }
          ],
          "contourcarpet": [
           {
            "colorbar": {
             "outlinewidth": 0,
             "ticks": ""
            },
            "type": "contourcarpet"
           }
          ],
          "heatmap": [
           {
            "colorbar": {
             "outlinewidth": 0,
             "ticks": ""
            },
            "colorscale": [
             [
              0,
              "#0d0887"
             ],
             [
              0.1111111111111111,
              "#46039f"
             ],
             [
              0.2222222222222222,
              "#7201a8"
             ],
             [
              0.3333333333333333,
              "#9c179e"
             ],
             [
              0.4444444444444444,
              "#bd3786"
             ],
             [
              0.5555555555555556,
              "#d8576b"
             ],
             [
              0.6666666666666666,
              "#ed7953"
             ],
             [
              0.7777777777777778,
              "#fb9f3a"
             ],
             [
              0.8888888888888888,
              "#fdca26"
             ],
             [
              1,
              "#f0f921"
             ]
            ],
            "type": "heatmap"
           }
          ],
          "heatmapgl": [
           {
            "colorbar": {
             "outlinewidth": 0,
             "ticks": ""
            },
            "colorscale": [
             [
              0,
              "#0d0887"
             ],
             [
              0.1111111111111111,
              "#46039f"
             ],
             [
              0.2222222222222222,
              "#7201a8"
             ],
             [
              0.3333333333333333,
              "#9c179e"
             ],
             [
              0.4444444444444444,
              "#bd3786"
             ],
             [
              0.5555555555555556,
              "#d8576b"
             ],
             [
              0.6666666666666666,
              "#ed7953"
             ],
             [
              0.7777777777777778,
              "#fb9f3a"
             ],
             [
              0.8888888888888888,
              "#fdca26"
             ],
             [
              1,
              "#f0f921"
             ]
            ],
            "type": "heatmapgl"
           }
          ],
          "histogram": [
           {
            "marker": {
             "pattern": {
              "fillmode": "overlay",
              "size": 10,
              "solidity": 0.2
             }
            },
            "type": "histogram"
           }
          ],
          "histogram2d": [
           {
            "colorbar": {
             "outlinewidth": 0,
             "ticks": ""
            },
            "colorscale": [
             [
              0,
              "#0d0887"
             ],
             [
              0.1111111111111111,
              "#46039f"
             ],
             [
              0.2222222222222222,
              "#7201a8"
             ],
             [
              0.3333333333333333,
              "#9c179e"
             ],
             [
              0.4444444444444444,
              "#bd3786"
             ],
             [
              0.5555555555555556,
              "#d8576b"
             ],
             [
              0.6666666666666666,
              "#ed7953"
             ],
             [
              0.7777777777777778,
              "#fb9f3a"
             ],
             [
              0.8888888888888888,
              "#fdca26"
             ],
             [
              1,
              "#f0f921"
             ]
            ],
            "type": "histogram2d"
           }
          ],
          "histogram2dcontour": [
           {
            "colorbar": {
             "outlinewidth": 0,
             "ticks": ""
            },
            "colorscale": [
             [
              0,
              "#0d0887"
             ],
             [
              0.1111111111111111,
              "#46039f"
             ],
             [
              0.2222222222222222,
              "#7201a8"
             ],
             [
              0.3333333333333333,
              "#9c179e"
             ],
             [
              0.4444444444444444,
              "#bd3786"
             ],
             [
              0.5555555555555556,
              "#d8576b"
             ],
             [
              0.6666666666666666,
              "#ed7953"
             ],
             [
              0.7777777777777778,
              "#fb9f3a"
             ],
             [
              0.8888888888888888,
              "#fdca26"
             ],
             [
              1,
              "#f0f921"
             ]
            ],
            "type": "histogram2dcontour"
           }
          ],
          "mesh3d": [
           {
            "colorbar": {
             "outlinewidth": 0,
             "ticks": ""
            },
            "type": "mesh3d"
           }
          ],
          "parcoords": [
           {
            "line": {
             "colorbar": {
              "outlinewidth": 0,
              "ticks": ""
             }
            },
            "type": "parcoords"
           }
          ],
          "pie": [
           {
            "automargin": true,
            "type": "pie"
           }
          ],
          "scatter": [
           {
            "fillpattern": {
             "fillmode": "overlay",
             "size": 10,
             "solidity": 0.2
            },
            "type": "scatter"
           }
          ],
          "scatter3d": [
           {
            "line": {
             "colorbar": {
              "outlinewidth": 0,
              "ticks": ""
             }
            },
            "marker": {
             "colorbar": {
              "outlinewidth": 0,
              "ticks": ""
             }
            },
            "type": "scatter3d"
           }
          ],
          "scattercarpet": [
           {
            "marker": {
             "colorbar": {
              "outlinewidth": 0,
              "ticks": ""
             }
            },
            "type": "scattercarpet"
           }
          ],
          "scattergeo": [
           {
            "marker": {
             "colorbar": {
              "outlinewidth": 0,
              "ticks": ""
             }
            },
            "type": "scattergeo"
           }
          ],
          "scattergl": [
           {
            "marker": {
             "colorbar": {
              "outlinewidth": 0,
              "ticks": ""
             }
            },
            "type": "scattergl"
           }
          ],
          "scattermapbox": [
           {
            "marker": {
             "colorbar": {
              "outlinewidth": 0,
              "ticks": ""
             }
            },
            "type": "scattermapbox"
           }
          ],
          "scatterpolar": [
           {
            "marker": {
             "colorbar": {
              "outlinewidth": 0,
              "ticks": ""
             }
            },
            "type": "scatterpolar"
           }
          ],
          "scatterpolargl": [
           {
            "marker": {
             "colorbar": {
              "outlinewidth": 0,
              "ticks": ""
             }
            },
            "type": "scatterpolargl"
           }
          ],
          "scatterternary": [
           {
            "marker": {
             "colorbar": {
              "outlinewidth": 0,
              "ticks": ""
             }
            },
            "type": "scatterternary"
           }
          ],
          "surface": [
           {
            "colorbar": {
             "outlinewidth": 0,
             "ticks": ""
            },
            "colorscale": [
             [
              0,
              "#0d0887"
             ],
             [
              0.1111111111111111,
              "#46039f"
             ],
             [
              0.2222222222222222,
              "#7201a8"
             ],
             [
              0.3333333333333333,
              "#9c179e"
             ],
             [
              0.4444444444444444,
              "#bd3786"
             ],
             [
              0.5555555555555556,
              "#d8576b"
             ],
             [
              0.6666666666666666,
              "#ed7953"
             ],
             [
              0.7777777777777778,
              "#fb9f3a"
             ],
             [
              0.8888888888888888,
              "#fdca26"
             ],
             [
              1,
              "#f0f921"
             ]
            ],
            "type": "surface"
           }
          ],
          "table": [
           {
            "cells": {
             "fill": {
              "color": "#EBF0F8"
             },
             "line": {
              "color": "white"
             }
            },
            "header": {
             "fill": {
              "color": "#C8D4E3"
             },
             "line": {
              "color": "white"
             }
            },
            "type": "table"
           }
          ]
         },
         "layout": {
          "annotationdefaults": {
           "arrowcolor": "#2a3f5f",
           "arrowhead": 0,
           "arrowwidth": 1
          },
          "autotypenumbers": "strict",
          "coloraxis": {
           "colorbar": {
            "outlinewidth": 0,
            "ticks": ""
           }
          },
          "colorscale": {
           "diverging": [
            [
             0,
             "#8e0152"
            ],
            [
             0.1,
             "#c51b7d"
            ],
            [
             0.2,
             "#de77ae"
            ],
            [
             0.3,
             "#f1b6da"
            ],
            [
             0.4,
             "#fde0ef"
            ],
            [
             0.5,
             "#f7f7f7"
            ],
            [
             0.6,
             "#e6f5d0"
            ],
            [
             0.7,
             "#b8e186"
            ],
            [
             0.8,
             "#7fbc41"
            ],
            [
             0.9,
             "#4d9221"
            ],
            [
             1,
             "#276419"
            ]
           ],
           "sequential": [
            [
             0,
             "#0d0887"
            ],
            [
             0.1111111111111111,
             "#46039f"
            ],
            [
             0.2222222222222222,
             "#7201a8"
            ],
            [
             0.3333333333333333,
             "#9c179e"
            ],
            [
             0.4444444444444444,
             "#bd3786"
            ],
            [
             0.5555555555555556,
             "#d8576b"
            ],
            [
             0.6666666666666666,
             "#ed7953"
            ],
            [
             0.7777777777777778,
             "#fb9f3a"
            ],
            [
             0.8888888888888888,
             "#fdca26"
            ],
            [
             1,
             "#f0f921"
            ]
           ],
           "sequentialminus": [
            [
             0,
             "#0d0887"
            ],
            [
             0.1111111111111111,
             "#46039f"
            ],
            [
             0.2222222222222222,
             "#7201a8"
            ],
            [
             0.3333333333333333,
             "#9c179e"
            ],
            [
             0.4444444444444444,
             "#bd3786"
            ],
            [
             0.5555555555555556,
             "#d8576b"
            ],
            [
             0.6666666666666666,
             "#ed7953"
            ],
            [
             0.7777777777777778,
             "#fb9f3a"
            ],
            [
             0.8888888888888888,
             "#fdca26"
            ],
            [
             1,
             "#f0f921"
            ]
           ]
          },
          "colorway": [
           "#636efa",
           "#EF553B",
           "#00cc96",
           "#ab63fa",
           "#FFA15A",
           "#19d3f3",
           "#FF6692",
           "#B6E880",
           "#FF97FF",
           "#FECB52"
          ],
          "font": {
           "color": "#2a3f5f"
          },
          "geo": {
           "bgcolor": "white",
           "lakecolor": "white",
           "landcolor": "#E5ECF6",
           "showlakes": true,
           "showland": true,
           "subunitcolor": "white"
          },
          "hoverlabel": {
           "align": "left"
          },
          "hovermode": "closest",
          "mapbox": {
           "style": "light"
          },
          "paper_bgcolor": "white",
          "plot_bgcolor": "#E5ECF6",
          "polar": {
           "angularaxis": {
            "gridcolor": "white",
            "linecolor": "white",
            "ticks": ""
           },
           "bgcolor": "#E5ECF6",
           "radialaxis": {
            "gridcolor": "white",
            "linecolor": "white",
            "ticks": ""
           }
          },
          "scene": {
           "xaxis": {
            "backgroundcolor": "#E5ECF6",
            "gridcolor": "white",
            "gridwidth": 2,
            "linecolor": "white",
            "showbackground": true,
            "ticks": "",
            "zerolinecolor": "white"
           },
           "yaxis": {
            "backgroundcolor": "#E5ECF6",
            "gridcolor": "white",
            "gridwidth": 2,
            "linecolor": "white",
            "showbackground": true,
            "ticks": "",
            "zerolinecolor": "white"
           },
           "zaxis": {
            "backgroundcolor": "#E5ECF6",
            "gridcolor": "white",
            "gridwidth": 2,
            "linecolor": "white",
            "showbackground": true,
            "ticks": "",
            "zerolinecolor": "white"
           }
          },
          "shapedefaults": {
           "line": {
            "color": "#2a3f5f"
           }
          },
          "ternary": {
           "aaxis": {
            "gridcolor": "white",
            "linecolor": "white",
            "ticks": ""
           },
           "baxis": {
            "gridcolor": "white",
            "linecolor": "white",
            "ticks": ""
           },
           "bgcolor": "#E5ECF6",
           "caxis": {
            "gridcolor": "white",
            "linecolor": "white",
            "ticks": ""
           }
          },
          "title": {
           "x": 0.05
          },
          "xaxis": {
           "automargin": true,
           "gridcolor": "white",
           "linecolor": "white",
           "ticks": "",
           "title": {
            "standoff": 15
           },
           "zerolinecolor": "white",
           "zerolinewidth": 2
          },
          "yaxis": {
           "automargin": true,
           "gridcolor": "white",
           "linecolor": "white",
           "ticks": "",
           "title": {
            "standoff": 15
           },
           "zerolinecolor": "white",
           "zerolinewidth": 2
          }
         }
        },
        "title": {
         "text": "Dot Plot of Recurrence of Pathways for Species"
        },
        "width": 1500,
        "xaxis": {
         "anchor": "y",
         "categoryarray": [
          "Carbohydrates",
          "Fatty acids",
          "Terpenoids",
          "Polyketides",
          "Alkaloids",
          "Shikimates and Phenylpropanoids",
          "Amino acids and Peptides"
         ],
         "categoryorder": "array",
         "domain": [
          0,
          1
         ],
         "title": {
          "text": "Pathway"
         }
        },
        "yaxis": {
         "anchor": "x",
         "domain": [
          0,
          1
         ],
         "tickmode": "array",
         "ticktext": [
          "<i>Acrocomia aculeata</i>",
          "<i>Acrostichum aureum</i>",
          "<i>Ageratina ixiocladon</i>",
          "<i>Ageratina ligustrina</i>",
          "<i>Ageratum conyzoides</i>",
          "<i>Albizia adinocephala</i>",
          "<i>Alibertia edulis</i>",
          "<i>Apeiba tibourbou</i>",
          "<i>Arthraxon hispidus</i>",
          "<i>Avicennia bicolor</i>",
          "<i>Avicennia germinans</i>",
          "<i>Caesalpinia pulcherrima</i>",
          "<i>Calceolaria irazuensis</i>",
          "<i>Calea urticifolia</i>",
          "<i>Camonea umbellata</i>",
          "<i>Canavalia rosea</i>",
          "<i>Cassia grandis</i>",
          "<i>Catharanthus roseus</i>",
          "<i>Cissus verticillata</i>",
          "<i>Clarisia racemosa</i>",
          "<i>Cnidoscolus urens</i>",
          "<i>Cojoba arborea</i>",
          "<i>Crescentia cujete</i>",
          "<i>Cryptostegia madagascariensis</i>",
          "<i>Cymbopogon citratus</i>",
          "<i>Delonix regia</i>",
          "<i>Eichhornia crassipes</i>",
          "<i>Erythrina berteroana</i>",
          "<i>Erythroxylum fimbriatum</i>",
          "<i>Euphorbia hypericifolia</i>",
          "<i>Faramea occidentalis</i>",
          "<i>Ficus benjamina</i>",
          "<i>Ficus maxima</i>",
          "<i>Fuchsia splendens</i>",
          "<i>Genipa americana</i>",
          "<i>Gliricidia sepium</i>",
          "<i>Guilandina bonduc</i>",
          "<i>Handroanthus chrysanthus</i>",
          "<i>Hedyosmum bonplandianum</i>",
          "<i>Herrania purpurea</i>",
          "<i>Hymenaea courbaril</i>",
          "<i>Indigofera hirsuta</i>",
          "<i>Ipomoea nil</i>",
          "<i>Jatropha gossypiifolia</i>",
          "<i>Laguncularia racemosa</i>",
          "<i>Lantana camara</i>",
          "<i>Lawsonia inermis</i>",
          "<i>Lonchocarpus heptaphyllus</i>",
          "<i>Maclura tinctoria</i>",
          "<i>Marila laxiflora</i>",
          "<i>Maytenus woodsonii</i>",
          "<i>Mesosphaerum suaveolens</i>",
          "<i>Mikania micrantha</i>",
          "<i>Mimosa pudica</i>",
          "<i>Morinda citrifolia</i>",
          "<i>Myrciaria floribunda</i>",
          "<i>Nasturtium officinale</i>",
          "<i>Omphalea diandra</i>",
          "<i>Onoseris onoseroides</i>",
          "<i>Paullinia pinnata</i>",
          "<i>Peperomia galioides</i>",
          "<i>Persicaria pubescens</i>",
          "<i>Phenax angustifolius</i>",
          "<i>Phyllanthus acuminatus</i>",
          "<i>Phytolacca rivinoides</i>",
          "<i>Picramnia latifolia</i>",
          "<i>Piper multiplinervium</i>",
          "<i>Piper reticulatum</i>",
          "<i>Piper tuberculatum</i>",
          "<i>Piptocarpha poeppigiana</i>",
          "<i>Plumeria rubra</i>",
          "<i>Posoqueria latifolia</i>",
          "<i>Prosopis juliflora</i>",
          "<i>Quassia amara</i>",
          "<i>Rauvolfia littoralis</i>",
          "<i>Rhizophora mangle</i>",
          "<i>Saccharum officinarum</i>",
          "<i>Samanea saman</i>",
          "<i>Sansevieria trifasciata</i>",
          "<i>Sapium laurifolium</i>",
          "<i>Siparuna grandiflora</i>",
          "<i>Smilax officinalis</i>",
          "<i>Syzygium malaccense</i>",
          "<i>Talipariti tiliaceum</i>",
          "<i>Telanthophora grandifolia</i>",
          "<i>Tovomita longifolia</i>",
          "<i>Trattinnickia aspera</i>",
          "<i>Trichilia pallida</i>",
          "<i>Urochloa decumbens</i>",
          "<i>Vasconcellea cauliflora</i>",
          "<i>Verbesina myriocephala</i>",
          "<i>Xylopia frutescens</i>"
         ],
         "tickvals": [
          "Acrocomia aculeata",
          "Acrostichum aureum",
          "Ageratina ixiocladon",
          "Ageratina ligustrina",
          "Ageratum conyzoides",
          "Albizia adinocephala",
          "Alibertia edulis",
          "Apeiba tibourbou",
          "Arthraxon hispidus",
          "Avicennia bicolor",
          "Avicennia germinans",
          "Caesalpinia pulcherrima",
          "Calceolaria irazuensis",
          "Calea urticifolia",
          "Camonea umbellata",
          "Canavalia rosea",
          "Cassia grandis",
          "Catharanthus roseus",
          "Cissus verticillata",
          "Clarisia racemosa",
          "Cnidoscolus urens",
          "Cojoba arborea",
          "Crescentia cujete",
          "Cryptostegia madagascariensis",
          "Cymbopogon citratus",
          "Delonix regia",
          "Eichhornia crassipes",
          "Erythrina berteroana",
          "Erythroxylum fimbriatum",
          "Euphorbia hypericifolia",
          "Faramea occidentalis",
          "Ficus benjamina",
          "Ficus maxima",
          "Fuchsia splendens",
          "Genipa americana",
          "Gliricidia sepium",
          "Guilandina bonduc",
          "Handroanthus chrysanthus",
          "Hedyosmum bonplandianum",
          "Herrania purpurea",
          "Hymenaea courbaril",
          "Indigofera hirsuta",
          "Ipomoea nil",
          "Jatropha gossypiifolia",
          "Laguncularia racemosa",
          "Lantana camara",
          "Lawsonia inermis",
          "Lonchocarpus heptaphyllus",
          "Maclura tinctoria",
          "Marila laxiflora",
          "Maytenus woodsonii",
          "Mesosphaerum suaveolens",
          "Mikania micrantha",
          "Mimosa pudica",
          "Morinda citrifolia",
          "Myrciaria floribunda",
          "Nasturtium officinale",
          "Omphalea diandra",
          "Onoseris onoseroides",
          "Paullinia pinnata",
          "Peperomia galioides",
          "Persicaria pubescens",
          "Phenax angustifolius",
          "Phyllanthus acuminatus",
          "Phytolacca rivinoides",
          "Picramnia latifolia",
          "Piper multiplinervium",
          "Piper reticulatum",
          "Piper tuberculatum",
          "Piptocarpha poeppigiana",
          "Plumeria rubra",
          "Posoqueria latifolia",
          "Prosopis juliflora",
          "Quassia amara",
          "Rauvolfia littoralis",
          "Rhizophora mangle",
          "Saccharum officinarum",
          "Samanea saman",
          "Sansevieria trifasciata",
          "Sapium laurifolium",
          "Siparuna grandiflora",
          "Smilax officinalis",
          "Syzygium malaccense",
          "Talipariti tiliaceum",
          "Telanthophora grandifolia",
          "Tovomita longifolia",
          "Trattinnickia aspera",
          "Trichilia pallida",
          "Urochloa decumbens",
          "Vasconcellea cauliflora",
          "Verbesina myriocephala",
          "Xylopia frutescens"
         ],
         "title": {
          "text": "Species"
         }
        }
       }
      }
     },
     "metadata": {},
     "output_type": "display_data"
    },
    {
     "name": "stdout",
     "output_type": "stream",
     "text": [
      "Dot plot successfully created and saved: C:/Users/quirosgu/Desktop/test/output_data/Wikidata_pathway_dotplot_species.html\n"
     ]
    }
   ],
   "source": [
    "dotplot_sclass_species(output_folder)\n",
    "dotplot_pathway_species(output_folder)"
   ]
  }
 ],
 "metadata": {
  "interpreter": {
   "hash": "2c38b6a57c2d4f85bcd8a646c69c70f453ebfd581092159d4a2b022d1b3585cd"
  },
  "kernelspec": {
   "display_name": "Python 3.8.5 64-bit ('base': conda)",
   "language": "python",
   "name": "python3"
  },
  "language_info": {
   "codemirror_mode": {
    "name": "ipython",
    "version": 3
   },
   "file_extension": ".py",
   "mimetype": "text/x-python",
   "name": "python",
   "nbconvert_exporter": "python",
   "pygments_lexer": "ipython3",
   "version": "3.11.7"
  },
  "orig_nbformat": 4
 },
 "nbformat": 4,
 "nbformat_minor": 2
}
