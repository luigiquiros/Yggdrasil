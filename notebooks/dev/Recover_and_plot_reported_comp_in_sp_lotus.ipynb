{
 "cells": [
  {
   "cell_type": "code",
   "execution_count": 1,
   "metadata": {},
   "outputs": [],
   "source": [
    "import requests\n",
    "import pandas as pd\n",
    "import numpy as np\n",
    "import requests \n",
    "import os\n",
    "from io import StringIO  # Import StringIO from the io module\n",
    "import time  # Import the time module\n",
    "from urllib.parse import quote  # To URL encode SMILES\n",
    "import plotly.express as px\n",
    "import plotly.io as pio\n",
    "import matplotlib.colors as mcolors"
   ]
  },
  {
   "cell_type": "markdown",
   "metadata": {},
   "source": [
    "Befor runing this code: \n",
    "1) create a .csv file containing a 'species_header' like 'species', 'names', etc. this column should contain the name of the species (or genuses by default) resolved by Open Tree of Life.\n",
    "2) creta an empty folder (input_folder) and put the .csv file inside! \n",
    "\n",
    "That's all"
   ]
  },
  {
   "cell_type": "markdown",
   "metadata": {},
   "source": [
    "DEFINE THE FOLLOWING PARAMETERS"
   ]
  },
  {
   "cell_type": "code",
   "execution_count": 1,
   "metadata": {},
   "outputs": [],
   "source": [
    "#Paths\n",
    "# Input folder containing CSV files\n",
    "input_folder = 'C:/Users/quirosgu/Desktop/test/' #/home/quirosgu/Desktop/FARMA-SHARE/RECHERCHE/FASIE_LAB/LuisQ/V1V2/'\n",
    "\n",
    "species_header = 'organism_species' #'query_otol_species' #put the column of your species\n",
    "genus_header = 'query_otol_genus'\n",
    "family_header = 'query_otol_family'\n",
    "\n",
    "LOTUSDB = 'C:/Users/quirosgu/Documents/Github/Yggdrasil/data_loc/LotusDB_inhouse_metadata.csv' #'/home/quirosgu/Desktop/FARMA-SHARE/RECHERCHE/FASIE_LAB/LuisQ/Yggdrasil/data_loc/LotusDB_inhouse_metadata.csv'\n",
    "LOTUSDB_rc = 'C:/Users/quirosgu/Documents/Github/Yggdrasil/data_loc/LotusDB_inhouse_rc.csv' #'/home/quirosgu/Desktop/FARMA-SHARE/RECHERCHE/FASIE_LAB/LuisQ/Yggdrasil/data_loc/LotusDB_inhouse_rc.csv'\n",
    "\n",
    "# Output folder for the processed CSV files\n",
    "output_folder = f'{input_folder}output_data/'"
   ]
  },
  {
   "cell_type": "markdown",
   "metadata": {},
   "source": [
    "FIRST RECOVER THE Q CODES FROM WIKIDATA AND UPDATE THE METADATA FILE"
   ]
  },
  {
   "cell_type": "code",
   "execution_count": 7,
   "metadata": {},
   "outputs": [
    {
     "name": "stdout",
     "output_type": "stream",
     "text": [
      "Retrieved Q code http://www.wikidata.org/entity/Q15287263 for species: Acacia hayesii\n",
      "Retrieved Q code http://www.wikidata.org/entity/Q8186515 for species: Acalypha aristata\n",
      "Retrieved Q code http://www.wikidata.org/entity/Q1882542 for species: Acrocomia aculeata\n",
      "Retrieved Q code http://www.wikidata.org/entity/Q4676527 for species: Acrostichum aureum\n",
      "Retrieved Q code http://www.wikidata.org/entity/Q5657528 for species: Adelia triloba\n",
      "Retrieved Q code http://www.wikidata.org/entity/Q11079071 for species: Aeschynomene americana\n",
      "Retrieved Q code http://www.wikidata.org/entity/Q104912462 for species: Ageratina ixiocladon\n",
      "Retrieved Q code http://www.wikidata.org/entity/Q4692127 for species: Ageratina ligustrina\n",
      "Retrieved Q code http://www.wikidata.org/entity/Q1949712 for species: Ageratum conyzoides\n",
      "Retrieved Q code http://www.wikidata.org/entity/Q159717 for species: Agrostis capillaris\n",
      "Retrieved Q code http://www.wikidata.org/entity/Q15492162 for species: Albizia adinocephala\n",
      "Retrieved Q code http://www.wikidata.org/entity/Q15384605 for species: Alchornea costaricensis\n",
      "Retrieved Q code http://www.wikidata.org/entity/Q15396944 for species: Alibertia edulis\n",
      "Retrieved Q code http://www.wikidata.org/entity/Q15395163 for species: Alseis costaricensis\n",
      "Retrieved Q code http://www.wikidata.org/entity/Q15577068 for species: Amphitecna latifolia\n",
      "Retrieved Q code http://www.wikidata.org/entity/Q15318795 for species: Anthurium clavigerum\n",
      "Retrieved Q code http://www.wikidata.org/entity/Q15320656 for species: Anthurium solitarium\n",
      "Retrieved Q code http://www.wikidata.org/entity/Q4779309 for species: Apeiba tibourbou\n",
      "Retrieved Q code http://www.wikidata.org/entity/Q15598546 for species: Archibaccharis schiedeana\n",
      "Retrieved Q code http://www.wikidata.org/entity/Q15324297 for species: Ardisia opegrapha\n",
      "Retrieved Q code http://www.wikidata.org/entity/Q15464421 for species: Aristolochia leuconeura\n",
      "Retrieved Q code http://www.wikidata.org/entity/Q5702217 for species: Arthraxon hispidus\n",
      "Retrieved Q code http://www.wikidata.org/entity/Q15506735 for species: Arundinella deppeana\n",
      "Retrieved Q code http://www.wikidata.org/entity/Q15396304 for species: Aspidosperma myristicifolium\n",
      "Retrieved Q code http://www.wikidata.org/entity/Q15344491 for species: Avicennia bicolor\n",
      "Retrieved Q code http://www.wikidata.org/entity/Q570551 for species: Avicennia germinans\n",
      "Retrieved Q code http://www.wikidata.org/entity/Q15457484 for species: Bactris bifida\n",
      "Retrieved Q code http://www.wikidata.org/entity/Q15476416 for species: Batocarpus costaricensis\n",
      "Retrieved Q code http://www.wikidata.org/entity/Q15331063 for species: Begonia involucrata\n",
      "Retrieved Q code http://www.wikidata.org/entity/Q15393186 for species: Bellucia pentamera\n",
      "Retrieved Q code http://www.wikidata.org/entity/Q15490685 for species: Besleria columneoides\n",
      "Retrieved Q code http://www.wikidata.org/entity/Q15547718 for species: Billia rosea\n",
      "Retrieved Q code http://www.wikidata.org/entity/Q15588567 for species: Bixa urucurana\n",
      "Retrieved Q code http://www.wikidata.org/entity/Q42746921 for species: Lomariocycas aurata\n",
      "Retrieved Q code http://www.wikidata.org/entity/Q10890773 for species: Spermacoce assurgens\n",
      "Retrieved Q code http://www.wikidata.org/entity/Q5733430 for species: Bravaisia integerrima\n",
      "Retrieved Q code http://www.wikidata.org/entity/Q990886 for species: Brosimum alicastrum\n",
      "Retrieved Q code http://www.wikidata.org/entity/Q15471496 for species: Brosimum costaricanum\n",
      "Retrieved Q code http://www.wikidata.org/entity/Q15387620 for species: Bunchosia nitida\n",
      "Retrieved Q code http://www.wikidata.org/entity/Q21874434 for species: Guilandina bonduc\n",
      "Retrieved Q code http://www.wikidata.org/entity/Q1428973 for species: Caesalpinia pulcherrima\n",
      "Retrieved Q code http://www.wikidata.org/entity/Q92367804 for species: Goeppertia donnell-smithii\n",
      "Retrieved Q code http://www.wikidata.org/entity/Q92368903 for species: Goeppertia gymnocarpa\n",
      "Retrieved Q code http://www.wikidata.org/entity/Q18082984 for species: Calatola costaricensis\n",
      "Retrieved Q code http://www.wikidata.org/entity/Q15348798 for species: Calceolaria irazuensis\n",
      "Retrieved Q code http://www.wikidata.org/entity/Q15554410 for species: Calea urticifolia\n",
      "Retrieved Q code http://www.wikidata.org/entity/Q5741578 for species: Calycophyllum candidissimum\n",
      "Retrieved Q code http://www.wikidata.org/entity/Q1317365 for species: Canavalia rosea\n",
      "Retrieved Q code http://www.wikidata.org/entity/Q15593376 for species: Vasconcellea cauliflora\n",
      "Retrieved Q code http://www.wikidata.org/entity/Q1043450 for species: Carludovica drudei\n",
      "Retrieved Q code http://www.wikidata.org/entity/Q164094 for species: Cassia grandis\n",
      "Retrieved Q code http://www.wikidata.org/entity/Q15348729 for species: Castilleja talamancensis\n",
      "Retrieved Q code http://www.wikidata.org/entity/Q161093 for species: Catharanthus roseus\n",
      "Retrieved Q code http://www.wikidata.org/entity/Q15371226 for species: Cavendishia callista\n",
      "Retrieved Q code http://www.wikidata.org/entity/Q2998776 for species: Cecropia peltata\n",
      "Retrieved Q code http://www.wikidata.org/entity/Q4744662 for species: Celtis iguanaea\n",
      "Retrieved Q code http://www.wikidata.org/entity/Q15604947 for species: Centropogon valerii\n",
      "Retrieved Q code http://www.wikidata.org/entity/Q12488371 for species: Centrosema plumieri\n",
      "Retrieved Q code http://www.wikidata.org/entity/Q15387668 for species: Cespedesia spathulata\n",
      "Retrieved Q code http://www.wikidata.org/entity/Q15526424 for species: Cestrum microcalyx\n",
      "Retrieved Q code http://www.wikidata.org/entity/Q21250345 for species: Cestrum strigilatum\n",
      "Retrieved Q code http://www.wikidata.org/entity/Q15387384 for species: Chaetolepis cufodontisii\n",
      "Retrieved Q code http://www.wikidata.org/entity/Q15232465 for species: Euphorbia hypericifolia\n",
      "Retrieved Q code http://www.wikidata.org/entity/Q49522122 for species: Chionolaena lavandulifolia\n",
      "Retrieved Q code http://www.wikidata.org/entity/Q15399421 for species: Chomelia microloba\n",
      "Retrieved Q code http://www.wikidata.org/entity/Q9191371 for species: Chrysophyllum argenteum\n",
      "Retrieved Q code http://www.wikidata.org/entity/Q15513903 for species: Chusquea subtessellata\n",
      "Retrieved Q code http://www.wikidata.org/entity/Q50839388 for species: Cinnamomum cinnamomifolium\n",
      "Retrieved Q code http://www.wikidata.org/entity/Q15565299 for species: Cissus trianae\n",
      "Retrieved Q code http://www.wikidata.org/entity/Q2714097 for species: Cissus verticillata\n",
      "Retrieved Q code http://www.wikidata.org/entity/Q15471701 for species: Clarisia biflora\n",
      "Retrieved Q code http://www.wikidata.org/entity/Q5771221 for species: Clarisia racemosa\n",
      "Retrieved Q code http://www.wikidata.org/entity/Q15391131 for species: Clethra mexicana\n"
     ]
    },
    {
     "ename": "KeyboardInterrupt",
     "evalue": "",
     "output_type": "error",
     "traceback": [
      "\u001b[1;31m---------------------------------------------------------------------------\u001b[0m",
      "\u001b[1;31mKeyboardInterrupt\u001b[0m                         Traceback (most recent call last)",
      "Cell \u001b[1;32mIn[7], line 73\u001b[0m\n\u001b[0;32m     71\u001b[0m \u001b[38;5;28;01mif\u001b[39;00m filename\u001b[38;5;241m.\u001b[39mendswith(\u001b[38;5;124m'\u001b[39m\u001b[38;5;124m.csv\u001b[39m\u001b[38;5;124m'\u001b[39m):\n\u001b[0;32m     72\u001b[0m     input_file \u001b[38;5;241m=\u001b[39m os\u001b[38;5;241m.\u001b[39mpath\u001b[38;5;241m.\u001b[39mjoin(input_folder, filename)\n\u001b[1;32m---> 73\u001b[0m     process_csv_file(input_file, output_folder)\n",
      "Cell \u001b[1;32mIn[7], line 33\u001b[0m, in \u001b[0;36mprocess_csv_file\u001b[1;34m(input_file, output_folder)\u001b[0m\n\u001b[0;32m     23\u001b[0m \u001b[38;5;28;01mif\u001b[39;00m \u001b[38;5;28misinstance\u001b[39m(species_name, \u001b[38;5;28mstr\u001b[39m):\n\u001b[0;32m     24\u001b[0m     \u001b[38;5;66;03m# Query Wikidata to retrieve the corresponding Q code for the species\u001b[39;00m\n\u001b[0;32m     25\u001b[0m     sparql_query \u001b[38;5;241m=\u001b[39m \u001b[38;5;124mf\u001b[39m\u001b[38;5;124m\"\"\"\u001b[39m\n\u001b[0;32m     26\u001b[0m \u001b[38;5;124m    SELECT ?species ?speciesLabel WHERE \u001b[39m\u001b[38;5;130;01m{{\u001b[39;00m\n\u001b[0;32m     27\u001b[0m \u001b[38;5;124m        \u001b[39m\n\u001b[1;32m   (...)\u001b[0m\n\u001b[0;32m     30\u001b[0m \u001b[38;5;124m    \u001b[39m\u001b[38;5;130;01m}}\u001b[39;00m\n\u001b[0;32m     31\u001b[0m \u001b[38;5;124m    \u001b[39m\u001b[38;5;124m\"\"\"\u001b[39m\n\u001b[1;32m---> 33\u001b[0m     response \u001b[38;5;241m=\u001b[39m requests\u001b[38;5;241m.\u001b[39mget(endpoint_url, headers\u001b[38;5;241m=\u001b[39m{\u001b[38;5;124m'\u001b[39m\u001b[38;5;124mAccept\u001b[39m\u001b[38;5;124m'\u001b[39m: \u001b[38;5;124m'\u001b[39m\u001b[38;5;124mtext/csv\u001b[39m\u001b[38;5;124m'\u001b[39m}, params\u001b[38;5;241m=\u001b[39m{\u001b[38;5;124m'\u001b[39m\u001b[38;5;124mquery\u001b[39m\u001b[38;5;124m'\u001b[39m: sparql_query})\n\u001b[0;32m     35\u001b[0m     \u001b[38;5;28;01mif\u001b[39;00m response\u001b[38;5;241m.\u001b[39mstatus_code \u001b[38;5;241m==\u001b[39m \u001b[38;5;241m200\u001b[39m:\n\u001b[0;32m     36\u001b[0m         csv_data \u001b[38;5;241m=\u001b[39m response\u001b[38;5;241m.\u001b[39mtext\n",
      "File \u001b[1;32mc:\\Users\\quirosgu\\AppData\\Local\\anaconda3\\Lib\\site-packages\\requests\\api.py:73\u001b[0m, in \u001b[0;36mget\u001b[1;34m(url, params, **kwargs)\u001b[0m\n\u001b[0;32m     62\u001b[0m \u001b[38;5;28;01mdef\u001b[39;00m \u001b[38;5;21mget\u001b[39m(url, params\u001b[38;5;241m=\u001b[39m\u001b[38;5;28;01mNone\u001b[39;00m, \u001b[38;5;241m*\u001b[39m\u001b[38;5;241m*\u001b[39mkwargs):\n\u001b[0;32m     63\u001b[0m \u001b[38;5;250m    \u001b[39m\u001b[38;5;124mr\u001b[39m\u001b[38;5;124;03m\"\"\"Sends a GET request.\u001b[39;00m\n\u001b[0;32m     64\u001b[0m \n\u001b[0;32m     65\u001b[0m \u001b[38;5;124;03m    :param url: URL for the new :class:`Request` object.\u001b[39;00m\n\u001b[1;32m   (...)\u001b[0m\n\u001b[0;32m     70\u001b[0m \u001b[38;5;124;03m    :rtype: requests.Response\u001b[39;00m\n\u001b[0;32m     71\u001b[0m \u001b[38;5;124;03m    \"\"\"\u001b[39;00m\n\u001b[1;32m---> 73\u001b[0m     \u001b[38;5;28;01mreturn\u001b[39;00m request(\u001b[38;5;124m\"\u001b[39m\u001b[38;5;124mget\u001b[39m\u001b[38;5;124m\"\u001b[39m, url, params\u001b[38;5;241m=\u001b[39mparams, \u001b[38;5;241m*\u001b[39m\u001b[38;5;241m*\u001b[39mkwargs)\n",
      "File \u001b[1;32mc:\\Users\\quirosgu\\AppData\\Local\\anaconda3\\Lib\\site-packages\\requests\\api.py:59\u001b[0m, in \u001b[0;36mrequest\u001b[1;34m(method, url, **kwargs)\u001b[0m\n\u001b[0;32m     55\u001b[0m \u001b[38;5;66;03m# By using the 'with' statement we are sure the session is closed, thus we\u001b[39;00m\n\u001b[0;32m     56\u001b[0m \u001b[38;5;66;03m# avoid leaving sockets open which can trigger a ResourceWarning in some\u001b[39;00m\n\u001b[0;32m     57\u001b[0m \u001b[38;5;66;03m# cases, and look like a memory leak in others.\u001b[39;00m\n\u001b[0;32m     58\u001b[0m \u001b[38;5;28;01mwith\u001b[39;00m sessions\u001b[38;5;241m.\u001b[39mSession() \u001b[38;5;28;01mas\u001b[39;00m session:\n\u001b[1;32m---> 59\u001b[0m     \u001b[38;5;28;01mreturn\u001b[39;00m session\u001b[38;5;241m.\u001b[39mrequest(method\u001b[38;5;241m=\u001b[39mmethod, url\u001b[38;5;241m=\u001b[39murl, \u001b[38;5;241m*\u001b[39m\u001b[38;5;241m*\u001b[39mkwargs)\n",
      "File \u001b[1;32mc:\\Users\\quirosgu\\AppData\\Local\\anaconda3\\Lib\\site-packages\\requests\\sessions.py:589\u001b[0m, in \u001b[0;36mSession.request\u001b[1;34m(self, method, url, params, data, headers, cookies, files, auth, timeout, allow_redirects, proxies, hooks, stream, verify, cert, json)\u001b[0m\n\u001b[0;32m    584\u001b[0m send_kwargs \u001b[38;5;241m=\u001b[39m {\n\u001b[0;32m    585\u001b[0m     \u001b[38;5;124m\"\u001b[39m\u001b[38;5;124mtimeout\u001b[39m\u001b[38;5;124m\"\u001b[39m: timeout,\n\u001b[0;32m    586\u001b[0m     \u001b[38;5;124m\"\u001b[39m\u001b[38;5;124mallow_redirects\u001b[39m\u001b[38;5;124m\"\u001b[39m: allow_redirects,\n\u001b[0;32m    587\u001b[0m }\n\u001b[0;32m    588\u001b[0m send_kwargs\u001b[38;5;241m.\u001b[39mupdate(settings)\n\u001b[1;32m--> 589\u001b[0m resp \u001b[38;5;241m=\u001b[39m \u001b[38;5;28mself\u001b[39m\u001b[38;5;241m.\u001b[39msend(prep, \u001b[38;5;241m*\u001b[39m\u001b[38;5;241m*\u001b[39msend_kwargs)\n\u001b[0;32m    591\u001b[0m \u001b[38;5;28;01mreturn\u001b[39;00m resp\n",
      "File \u001b[1;32mc:\\Users\\quirosgu\\AppData\\Local\\anaconda3\\Lib\\site-packages\\requests\\sessions.py:703\u001b[0m, in \u001b[0;36mSession.send\u001b[1;34m(self, request, **kwargs)\u001b[0m\n\u001b[0;32m    700\u001b[0m start \u001b[38;5;241m=\u001b[39m preferred_clock()\n\u001b[0;32m    702\u001b[0m \u001b[38;5;66;03m# Send the request\u001b[39;00m\n\u001b[1;32m--> 703\u001b[0m r \u001b[38;5;241m=\u001b[39m adapter\u001b[38;5;241m.\u001b[39msend(request, \u001b[38;5;241m*\u001b[39m\u001b[38;5;241m*\u001b[39mkwargs)\n\u001b[0;32m    705\u001b[0m \u001b[38;5;66;03m# Total elapsed time of the request (approximately)\u001b[39;00m\n\u001b[0;32m    706\u001b[0m elapsed \u001b[38;5;241m=\u001b[39m preferred_clock() \u001b[38;5;241m-\u001b[39m start\n",
      "File \u001b[1;32mc:\\Users\\quirosgu\\AppData\\Local\\anaconda3\\Lib\\site-packages\\requests\\adapters.py:486\u001b[0m, in \u001b[0;36mHTTPAdapter.send\u001b[1;34m(self, request, stream, timeout, verify, cert, proxies)\u001b[0m\n\u001b[0;32m    483\u001b[0m     timeout \u001b[38;5;241m=\u001b[39m TimeoutSauce(connect\u001b[38;5;241m=\u001b[39mtimeout, read\u001b[38;5;241m=\u001b[39mtimeout)\n\u001b[0;32m    485\u001b[0m \u001b[38;5;28;01mtry\u001b[39;00m:\n\u001b[1;32m--> 486\u001b[0m     resp \u001b[38;5;241m=\u001b[39m conn\u001b[38;5;241m.\u001b[39murlopen(\n\u001b[0;32m    487\u001b[0m         method\u001b[38;5;241m=\u001b[39mrequest\u001b[38;5;241m.\u001b[39mmethod,\n\u001b[0;32m    488\u001b[0m         url\u001b[38;5;241m=\u001b[39murl,\n\u001b[0;32m    489\u001b[0m         body\u001b[38;5;241m=\u001b[39mrequest\u001b[38;5;241m.\u001b[39mbody,\n\u001b[0;32m    490\u001b[0m         headers\u001b[38;5;241m=\u001b[39mrequest\u001b[38;5;241m.\u001b[39mheaders,\n\u001b[0;32m    491\u001b[0m         redirect\u001b[38;5;241m=\u001b[39m\u001b[38;5;28;01mFalse\u001b[39;00m,\n\u001b[0;32m    492\u001b[0m         assert_same_host\u001b[38;5;241m=\u001b[39m\u001b[38;5;28;01mFalse\u001b[39;00m,\n\u001b[0;32m    493\u001b[0m         preload_content\u001b[38;5;241m=\u001b[39m\u001b[38;5;28;01mFalse\u001b[39;00m,\n\u001b[0;32m    494\u001b[0m         decode_content\u001b[38;5;241m=\u001b[39m\u001b[38;5;28;01mFalse\u001b[39;00m,\n\u001b[0;32m    495\u001b[0m         retries\u001b[38;5;241m=\u001b[39m\u001b[38;5;28mself\u001b[39m\u001b[38;5;241m.\u001b[39mmax_retries,\n\u001b[0;32m    496\u001b[0m         timeout\u001b[38;5;241m=\u001b[39mtimeout,\n\u001b[0;32m    497\u001b[0m         chunked\u001b[38;5;241m=\u001b[39mchunked,\n\u001b[0;32m    498\u001b[0m     )\n\u001b[0;32m    500\u001b[0m \u001b[38;5;28;01mexcept\u001b[39;00m (ProtocolError, \u001b[38;5;167;01mOSError\u001b[39;00m) \u001b[38;5;28;01mas\u001b[39;00m err:\n\u001b[0;32m    501\u001b[0m     \u001b[38;5;28;01mraise\u001b[39;00m \u001b[38;5;167;01mConnectionError\u001b[39;00m(err, request\u001b[38;5;241m=\u001b[39mrequest)\n",
      "File \u001b[1;32mc:\\Users\\quirosgu\\AppData\\Local\\anaconda3\\Lib\\site-packages\\urllib3\\connectionpool.py:791\u001b[0m, in \u001b[0;36mHTTPConnectionPool.urlopen\u001b[1;34m(self, method, url, body, headers, retries, redirect, assert_same_host, timeout, pool_timeout, release_conn, chunked, body_pos, preload_content, decode_content, **response_kw)\u001b[0m\n\u001b[0;32m    788\u001b[0m response_conn \u001b[38;5;241m=\u001b[39m conn \u001b[38;5;28;01mif\u001b[39;00m \u001b[38;5;129;01mnot\u001b[39;00m release_conn \u001b[38;5;28;01melse\u001b[39;00m \u001b[38;5;28;01mNone\u001b[39;00m\n\u001b[0;32m    790\u001b[0m \u001b[38;5;66;03m# Make the request on the HTTPConnection object\u001b[39;00m\n\u001b[1;32m--> 791\u001b[0m response \u001b[38;5;241m=\u001b[39m \u001b[38;5;28mself\u001b[39m\u001b[38;5;241m.\u001b[39m_make_request(\n\u001b[0;32m    792\u001b[0m     conn,\n\u001b[0;32m    793\u001b[0m     method,\n\u001b[0;32m    794\u001b[0m     url,\n\u001b[0;32m    795\u001b[0m     timeout\u001b[38;5;241m=\u001b[39mtimeout_obj,\n\u001b[0;32m    796\u001b[0m     body\u001b[38;5;241m=\u001b[39mbody,\n\u001b[0;32m    797\u001b[0m     headers\u001b[38;5;241m=\u001b[39mheaders,\n\u001b[0;32m    798\u001b[0m     chunked\u001b[38;5;241m=\u001b[39mchunked,\n\u001b[0;32m    799\u001b[0m     retries\u001b[38;5;241m=\u001b[39mretries,\n\u001b[0;32m    800\u001b[0m     response_conn\u001b[38;5;241m=\u001b[39mresponse_conn,\n\u001b[0;32m    801\u001b[0m     preload_content\u001b[38;5;241m=\u001b[39mpreload_content,\n\u001b[0;32m    802\u001b[0m     decode_content\u001b[38;5;241m=\u001b[39mdecode_content,\n\u001b[0;32m    803\u001b[0m     \u001b[38;5;241m*\u001b[39m\u001b[38;5;241m*\u001b[39mresponse_kw,\n\u001b[0;32m    804\u001b[0m )\n\u001b[0;32m    806\u001b[0m \u001b[38;5;66;03m# Everything went great!\u001b[39;00m\n\u001b[0;32m    807\u001b[0m clean_exit \u001b[38;5;241m=\u001b[39m \u001b[38;5;28;01mTrue\u001b[39;00m\n",
      "File \u001b[1;32mc:\\Users\\quirosgu\\AppData\\Local\\anaconda3\\Lib\\site-packages\\urllib3\\connectionpool.py:468\u001b[0m, in \u001b[0;36mHTTPConnectionPool._make_request\u001b[1;34m(self, conn, method, url, body, headers, retries, timeout, chunked, response_conn, preload_content, decode_content, enforce_content_length)\u001b[0m\n\u001b[0;32m    465\u001b[0m \u001b[38;5;28;01mtry\u001b[39;00m:\n\u001b[0;32m    466\u001b[0m     \u001b[38;5;66;03m# Trigger any extra validation we need to do.\u001b[39;00m\n\u001b[0;32m    467\u001b[0m     \u001b[38;5;28;01mtry\u001b[39;00m:\n\u001b[1;32m--> 468\u001b[0m         \u001b[38;5;28mself\u001b[39m\u001b[38;5;241m.\u001b[39m_validate_conn(conn)\n\u001b[0;32m    469\u001b[0m     \u001b[38;5;28;01mexcept\u001b[39;00m (SocketTimeout, BaseSSLError) \u001b[38;5;28;01mas\u001b[39;00m e:\n\u001b[0;32m    470\u001b[0m         \u001b[38;5;28mself\u001b[39m\u001b[38;5;241m.\u001b[39m_raise_timeout(err\u001b[38;5;241m=\u001b[39me, url\u001b[38;5;241m=\u001b[39murl, timeout_value\u001b[38;5;241m=\u001b[39mconn\u001b[38;5;241m.\u001b[39mtimeout)\n",
      "File \u001b[1;32mc:\\Users\\quirosgu\\AppData\\Local\\anaconda3\\Lib\\site-packages\\urllib3\\connectionpool.py:1097\u001b[0m, in \u001b[0;36mHTTPSConnectionPool._validate_conn\u001b[1;34m(self, conn)\u001b[0m\n\u001b[0;32m   1095\u001b[0m \u001b[38;5;66;03m# Force connect early to allow us to validate the connection.\u001b[39;00m\n\u001b[0;32m   1096\u001b[0m \u001b[38;5;28;01mif\u001b[39;00m conn\u001b[38;5;241m.\u001b[39mis_closed:\n\u001b[1;32m-> 1097\u001b[0m     conn\u001b[38;5;241m.\u001b[39mconnect()\n\u001b[0;32m   1099\u001b[0m \u001b[38;5;28;01mif\u001b[39;00m \u001b[38;5;129;01mnot\u001b[39;00m conn\u001b[38;5;241m.\u001b[39mis_verified:\n\u001b[0;32m   1100\u001b[0m     warnings\u001b[38;5;241m.\u001b[39mwarn(\n\u001b[0;32m   1101\u001b[0m         (\n\u001b[0;32m   1102\u001b[0m             \u001b[38;5;124mf\u001b[39m\u001b[38;5;124m\"\u001b[39m\u001b[38;5;124mUnverified HTTPS request is being made to host \u001b[39m\u001b[38;5;124m'\u001b[39m\u001b[38;5;132;01m{\u001b[39;00mconn\u001b[38;5;241m.\u001b[39mhost\u001b[38;5;132;01m}\u001b[39;00m\u001b[38;5;124m'\u001b[39m\u001b[38;5;124m. \u001b[39m\u001b[38;5;124m\"\u001b[39m\n\u001b[1;32m   (...)\u001b[0m\n\u001b[0;32m   1107\u001b[0m         InsecureRequestWarning,\n\u001b[0;32m   1108\u001b[0m     )\n",
      "File \u001b[1;32mc:\\Users\\quirosgu\\AppData\\Local\\anaconda3\\Lib\\site-packages\\urllib3\\connection.py:642\u001b[0m, in \u001b[0;36mHTTPSConnection.connect\u001b[1;34m(self)\u001b[0m\n\u001b[0;32m    633\u001b[0m \u001b[38;5;28;01mif\u001b[39;00m is_time_off:\n\u001b[0;32m    634\u001b[0m     warnings\u001b[38;5;241m.\u001b[39mwarn(\n\u001b[0;32m    635\u001b[0m         (\n\u001b[0;32m    636\u001b[0m             \u001b[38;5;124mf\u001b[39m\u001b[38;5;124m\"\u001b[39m\u001b[38;5;124mSystem time is way off (before \u001b[39m\u001b[38;5;132;01m{\u001b[39;00mRECENT_DATE\u001b[38;5;132;01m}\u001b[39;00m\u001b[38;5;124m). This will probably \u001b[39m\u001b[38;5;124m\"\u001b[39m\n\u001b[1;32m   (...)\u001b[0m\n\u001b[0;32m    639\u001b[0m         SystemTimeWarning,\n\u001b[0;32m    640\u001b[0m     )\n\u001b[1;32m--> 642\u001b[0m sock_and_verified \u001b[38;5;241m=\u001b[39m _ssl_wrap_socket_and_match_hostname(\n\u001b[0;32m    643\u001b[0m     sock\u001b[38;5;241m=\u001b[39msock,\n\u001b[0;32m    644\u001b[0m     cert_reqs\u001b[38;5;241m=\u001b[39m\u001b[38;5;28mself\u001b[39m\u001b[38;5;241m.\u001b[39mcert_reqs,\n\u001b[0;32m    645\u001b[0m     ssl_version\u001b[38;5;241m=\u001b[39m\u001b[38;5;28mself\u001b[39m\u001b[38;5;241m.\u001b[39mssl_version,\n\u001b[0;32m    646\u001b[0m     ssl_minimum_version\u001b[38;5;241m=\u001b[39m\u001b[38;5;28mself\u001b[39m\u001b[38;5;241m.\u001b[39mssl_minimum_version,\n\u001b[0;32m    647\u001b[0m     ssl_maximum_version\u001b[38;5;241m=\u001b[39m\u001b[38;5;28mself\u001b[39m\u001b[38;5;241m.\u001b[39mssl_maximum_version,\n\u001b[0;32m    648\u001b[0m     ca_certs\u001b[38;5;241m=\u001b[39m\u001b[38;5;28mself\u001b[39m\u001b[38;5;241m.\u001b[39mca_certs,\n\u001b[0;32m    649\u001b[0m     ca_cert_dir\u001b[38;5;241m=\u001b[39m\u001b[38;5;28mself\u001b[39m\u001b[38;5;241m.\u001b[39mca_cert_dir,\n\u001b[0;32m    650\u001b[0m     ca_cert_data\u001b[38;5;241m=\u001b[39m\u001b[38;5;28mself\u001b[39m\u001b[38;5;241m.\u001b[39mca_cert_data,\n\u001b[0;32m    651\u001b[0m     cert_file\u001b[38;5;241m=\u001b[39m\u001b[38;5;28mself\u001b[39m\u001b[38;5;241m.\u001b[39mcert_file,\n\u001b[0;32m    652\u001b[0m     key_file\u001b[38;5;241m=\u001b[39m\u001b[38;5;28mself\u001b[39m\u001b[38;5;241m.\u001b[39mkey_file,\n\u001b[0;32m    653\u001b[0m     key_password\u001b[38;5;241m=\u001b[39m\u001b[38;5;28mself\u001b[39m\u001b[38;5;241m.\u001b[39mkey_password,\n\u001b[0;32m    654\u001b[0m     server_hostname\u001b[38;5;241m=\u001b[39mserver_hostname,\n\u001b[0;32m    655\u001b[0m     ssl_context\u001b[38;5;241m=\u001b[39m\u001b[38;5;28mself\u001b[39m\u001b[38;5;241m.\u001b[39mssl_context,\n\u001b[0;32m    656\u001b[0m     tls_in_tls\u001b[38;5;241m=\u001b[39mtls_in_tls,\n\u001b[0;32m    657\u001b[0m     assert_hostname\u001b[38;5;241m=\u001b[39m\u001b[38;5;28mself\u001b[39m\u001b[38;5;241m.\u001b[39massert_hostname,\n\u001b[0;32m    658\u001b[0m     assert_fingerprint\u001b[38;5;241m=\u001b[39m\u001b[38;5;28mself\u001b[39m\u001b[38;5;241m.\u001b[39massert_fingerprint,\n\u001b[0;32m    659\u001b[0m )\n\u001b[0;32m    660\u001b[0m \u001b[38;5;28mself\u001b[39m\u001b[38;5;241m.\u001b[39msock \u001b[38;5;241m=\u001b[39m sock_and_verified\u001b[38;5;241m.\u001b[39msocket\n\u001b[0;32m    661\u001b[0m \u001b[38;5;28mself\u001b[39m\u001b[38;5;241m.\u001b[39mis_verified \u001b[38;5;241m=\u001b[39m sock_and_verified\u001b[38;5;241m.\u001b[39mis_verified\n",
      "File \u001b[1;32mc:\\Users\\quirosgu\\AppData\\Local\\anaconda3\\Lib\\site-packages\\urllib3\\connection.py:783\u001b[0m, in \u001b[0;36m_ssl_wrap_socket_and_match_hostname\u001b[1;34m(sock, cert_reqs, ssl_version, ssl_minimum_version, ssl_maximum_version, cert_file, key_file, key_password, ca_certs, ca_cert_dir, ca_cert_data, assert_hostname, assert_fingerprint, server_hostname, ssl_context, tls_in_tls)\u001b[0m\n\u001b[0;32m    780\u001b[0m     \u001b[38;5;28;01mif\u001b[39;00m is_ipaddress(normalized):\n\u001b[0;32m    781\u001b[0m         server_hostname \u001b[38;5;241m=\u001b[39m normalized\n\u001b[1;32m--> 783\u001b[0m ssl_sock \u001b[38;5;241m=\u001b[39m ssl_wrap_socket(\n\u001b[0;32m    784\u001b[0m     sock\u001b[38;5;241m=\u001b[39msock,\n\u001b[0;32m    785\u001b[0m     keyfile\u001b[38;5;241m=\u001b[39mkey_file,\n\u001b[0;32m    786\u001b[0m     certfile\u001b[38;5;241m=\u001b[39mcert_file,\n\u001b[0;32m    787\u001b[0m     key_password\u001b[38;5;241m=\u001b[39mkey_password,\n\u001b[0;32m    788\u001b[0m     ca_certs\u001b[38;5;241m=\u001b[39mca_certs,\n\u001b[0;32m    789\u001b[0m     ca_cert_dir\u001b[38;5;241m=\u001b[39mca_cert_dir,\n\u001b[0;32m    790\u001b[0m     ca_cert_data\u001b[38;5;241m=\u001b[39mca_cert_data,\n\u001b[0;32m    791\u001b[0m     server_hostname\u001b[38;5;241m=\u001b[39mserver_hostname,\n\u001b[0;32m    792\u001b[0m     ssl_context\u001b[38;5;241m=\u001b[39mcontext,\n\u001b[0;32m    793\u001b[0m     tls_in_tls\u001b[38;5;241m=\u001b[39mtls_in_tls,\n\u001b[0;32m    794\u001b[0m )\n\u001b[0;32m    796\u001b[0m \u001b[38;5;28;01mtry\u001b[39;00m:\n\u001b[0;32m    797\u001b[0m     \u001b[38;5;28;01mif\u001b[39;00m assert_fingerprint:\n",
      "File \u001b[1;32mc:\\Users\\quirosgu\\AppData\\Local\\anaconda3\\Lib\\site-packages\\urllib3\\util\\ssl_.py:446\u001b[0m, in \u001b[0;36mssl_wrap_socket\u001b[1;34m(sock, keyfile, certfile, cert_reqs, ca_certs, server_hostname, ssl_version, ciphers, ssl_context, ca_cert_dir, key_password, ca_cert_data, tls_in_tls)\u001b[0m\n\u001b[0;32m    444\u001b[0m \u001b[38;5;28;01mif\u001b[39;00m ca_certs \u001b[38;5;129;01mor\u001b[39;00m ca_cert_dir \u001b[38;5;129;01mor\u001b[39;00m ca_cert_data:\n\u001b[0;32m    445\u001b[0m     \u001b[38;5;28;01mtry\u001b[39;00m:\n\u001b[1;32m--> 446\u001b[0m         context\u001b[38;5;241m.\u001b[39mload_verify_locations(ca_certs, ca_cert_dir, ca_cert_data)\n\u001b[0;32m    447\u001b[0m     \u001b[38;5;28;01mexcept\u001b[39;00m \u001b[38;5;167;01mOSError\u001b[39;00m \u001b[38;5;28;01mas\u001b[39;00m e:\n\u001b[0;32m    448\u001b[0m         \u001b[38;5;28;01mraise\u001b[39;00m SSLError(e) \u001b[38;5;28;01mfrom\u001b[39;00m \u001b[38;5;21;01me\u001b[39;00m\n",
      "\u001b[1;31mKeyboardInterrupt\u001b[0m: "
     ]
    }
   ],
   "source": [
    "# Function to process a single CSV file and retrieve Q codes\n",
    "def process_csv_file(input_file, output_folder):\n",
    "    # Read the original CSV file containing the species names\n",
    "    df_species = pd.read_csv(input_file)\n",
    "    \n",
    "    # Define the Wikidata Query Service endpoint URL\n",
    "    endpoint_url = \"https://query.wikidata.org/sparql\"\n",
    "    \n",
    "    # Initialize an empty list to store the Q codes\n",
    "    q_codes = []\n",
    "    \n",
    "    # Initialize a placeholder value for cases where no Q code is found\n",
    "    placeholder_value = \"Not Found\"\n",
    "    \n",
    "    # Define the number of requests allowed per minute (adjust according to Wikidata's rate limits)\n",
    "    requests_per_minute = 30\n",
    "    \n",
    "    # Iterate through the species names in the CSV file\n",
    "    for index, row in df_species.iterrows():\n",
    "        species_name = row[species_header]\n",
    "    \n",
    "        # Check if the species_name is a valid string\n",
    "        if isinstance(species_name, str):\n",
    "            # Query Wikidata to retrieve the corresponding Q code for the species\n",
    "            sparql_query = f\"\"\"\n",
    "            SELECT ?species ?speciesLabel WHERE {{\n",
    "                \n",
    "                ?species rdfs:label \"{species_name}\"@en.\n",
    "                SERVICE wikibase:label {{ bd:serviceParam wikibase:language \"[AUTO_LANGUAGE],en\". }}\n",
    "            }}\n",
    "            \"\"\"\n",
    "    \n",
    "            response = requests.get(endpoint_url, headers={'Accept': 'text/csv'}, params={'query': sparql_query})\n",
    "    \n",
    "            if response.status_code == 200:\n",
    "                csv_data = response.text\n",
    "                df_qcode = pd.read_csv(StringIO(csv_data))\n",
    "    \n",
    "                if not df_qcode.empty:\n",
    "                    q_code = df_qcode['species'].values[0]  # Extract the Q code\n",
    "                    q_codes.append(q_code)  # Append the Q code to the list\n",
    "                    print(f\"Retrieved Q code {q_code} for species: {species_name}\")\n",
    "                else:\n",
    "                    q_codes.append(placeholder_value)  # Add a placeholder value\n",
    "                    print(f\"No Q code found for species: {species_name}\")\n",
    "            else:\n",
    "                q_codes.append(placeholder_value)  # Add a placeholder value for failed requests\n",
    "                print(f\"Failed to retrieve Q code for species: {species_name}. Status code: {response.status_code}\")\n",
    "    \n",
    "            # Implement rate limiting by waiting between requests\n",
    "            time.sleep(60 / requests_per_minute)  # Wait for one minute divided by the allowed requests per minute\n",
    "        else:\n",
    "            q_codes.append(placeholder_value)  # Add a placeholder value for invalid species names\n",
    "    \n",
    "    # Add the Q codes hyperlinks to the original CSV with a new column\n",
    "    df_species['wikidata_Qcode_hyperlink'] = q_codes\n",
    "    \n",
    "    # Add the Q codes only to the original CSV with a new column\n",
    "    df_species['wikidata_Qcode_species'] = df_species['wikidata_Qcode_hyperlink'].str.rsplit('/', n=1).str[-1]\n",
    "    \n",
    "    # Save the updated CSV file with Q codes in the output folder\n",
    "    output_csv_filename = os.path.join(output_folder, os.path.basename(input_file))\n",
    "    df_species.to_csv(output_csv_filename, index=False)\n",
    "    print(f\"Saved updated CSV with Q codes to {output_csv_filename}\")\n",
    "\n",
    "# Create the output folder if it doesn't exist\n",
    "os.makedirs(output_folder, exist_ok=True)\n",
    "\n",
    "# List all CSV files in the input folder and process each one\n",
    "for filename in os.listdir(input_folder):\n",
    "    if filename.endswith('.csv'):\n",
    "        input_file = os.path.join(input_folder, filename)\n",
    "        process_csv_file(input_file, output_folder)\n",
    "\n",
    "#once finished... check the lines for 'NOT FOUND' manually"
   ]
  },
  {
   "cell_type": "markdown",
   "metadata": {},
   "source": [
    "NOW, LETS USE THE QCODES TO RECOVER ALL THE COMPOUNDS (WITH REFERENCES) PRESENT IN EACH QCODE AND SAVE THEM AS INDIVIDUAL CSV FILES FROM LOTUS_DB FROZEN METADATA"
   ]
  },
  {
   "cell_type": "code",
   "execution_count": 10,
   "metadata": {},
   "outputs": [
    {
     "name": "stdout",
     "output_type": "stream",
     "text": [
      "Saved grouped data for Q code Q15287263 to C:/Users/quirosgu/Desktop/Inmuno/output_data/species_data\\Q15287263.tsv\n",
      "Saved grouped data for Q code Q8186515 to C:/Users/quirosgu/Desktop/Inmuno/output_data/species_data\\Q8186515.tsv\n",
      "Saved grouped data for Q code Q1882542 to C:/Users/quirosgu/Desktop/Inmuno/output_data/species_data\\Q1882542.tsv\n",
      "Saved grouped data for Q code Q4676527 to C:/Users/quirosgu/Desktop/Inmuno/output_data/species_data\\Q4676527.tsv\n",
      "Saved grouped data for Q code Q5657528 to C:/Users/quirosgu/Desktop/Inmuno/output_data/species_data\\Q5657528.tsv\n",
      "Saved grouped data for Q code Q11079071 to C:/Users/quirosgu/Desktop/Inmuno/output_data/species_data\\Q11079071.tsv\n",
      "Saved grouped data for Q code Q104912462 to C:/Users/quirosgu/Desktop/Inmuno/output_data/species_data\\Q104912462.tsv\n",
      "Saved grouped data for Q code Q4692127 to C:/Users/quirosgu/Desktop/Inmuno/output_data/species_data\\Q4692127.tsv\n",
      "Saved grouped data for Q code Q1949712 to C:/Users/quirosgu/Desktop/Inmuno/output_data/species_data\\Q1949712.tsv\n",
      "Saved grouped data for Q code Q159717 to C:/Users/quirosgu/Desktop/Inmuno/output_data/species_data\\Q159717.tsv\n",
      "Saved grouped data for Q code Q15492162 to C:/Users/quirosgu/Desktop/Inmuno/output_data/species_data\\Q15492162.tsv\n",
      "Saved grouped data for Q code Q15384605 to C:/Users/quirosgu/Desktop/Inmuno/output_data/species_data\\Q15384605.tsv\n",
      "Saved grouped data for Q code Q15396944 to C:/Users/quirosgu/Desktop/Inmuno/output_data/species_data\\Q15396944.tsv\n",
      "Saved grouped data for Q code Q15395163 to C:/Users/quirosgu/Desktop/Inmuno/output_data/species_data\\Q15395163.tsv\n",
      "Saved grouped data for Q code Q15577068 to C:/Users/quirosgu/Desktop/Inmuno/output_data/species_data\\Q15577068.tsv\n",
      "Saved grouped data for Q code Q15318795 to C:/Users/quirosgu/Desktop/Inmuno/output_data/species_data\\Q15318795.tsv\n",
      "Saved grouped data for Q code Q15320656 to C:/Users/quirosgu/Desktop/Inmuno/output_data/species_data\\Q15320656.tsv\n",
      "Saved grouped data for Q code Q4779309 to C:/Users/quirosgu/Desktop/Inmuno/output_data/species_data\\Q4779309.tsv\n",
      "Saved grouped data for Q code Q15598546 to C:/Users/quirosgu/Desktop/Inmuno/output_data/species_data\\Q15598546.tsv\n",
      "Saved grouped data for Q code Q15324297 to C:/Users/quirosgu/Desktop/Inmuno/output_data/species_data\\Q15324297.tsv\n",
      "Saved grouped data for Q code Q15464421 to C:/Users/quirosgu/Desktop/Inmuno/output_data/species_data\\Q15464421.tsv\n",
      "Saved grouped data for Q code Q5702217 to C:/Users/quirosgu/Desktop/Inmuno/output_data/species_data\\Q5702217.tsv\n",
      "Saved grouped data for Q code Q15506735 to C:/Users/quirosgu/Desktop/Inmuno/output_data/species_data\\Q15506735.tsv\n",
      "Saved grouped data for Q code Q15396304 to C:/Users/quirosgu/Desktop/Inmuno/output_data/species_data\\Q15396304.tsv\n",
      "Saved grouped data for Q code Q15344491 to C:/Users/quirosgu/Desktop/Inmuno/output_data/species_data\\Q15344491.tsv\n",
      "Saved grouped data for Q code Q570551 to C:/Users/quirosgu/Desktop/Inmuno/output_data/species_data\\Q570551.tsv\n",
      "Saved grouped data for Q code Q15457484 to C:/Users/quirosgu/Desktop/Inmuno/output_data/species_data\\Q15457484.tsv\n",
      "Saved grouped data for Q code Q15476416 to C:/Users/quirosgu/Desktop/Inmuno/output_data/species_data\\Q15476416.tsv\n",
      "Saved grouped data for Q code Q15331063 to C:/Users/quirosgu/Desktop/Inmuno/output_data/species_data\\Q15331063.tsv\n",
      "Saved grouped data for Q code Q15393186 to C:/Users/quirosgu/Desktop/Inmuno/output_data/species_data\\Q15393186.tsv\n",
      "Saved grouped data for Q code Q15490685 to C:/Users/quirosgu/Desktop/Inmuno/output_data/species_data\\Q15490685.tsv\n",
      "Saved grouped data for Q code Q15547718 to C:/Users/quirosgu/Desktop/Inmuno/output_data/species_data\\Q15547718.tsv\n",
      "Saved grouped data for Q code Q15588567 to C:/Users/quirosgu/Desktop/Inmuno/output_data/species_data\\Q15588567.tsv\n",
      "Saved grouped data for Q code Q42746921 to C:/Users/quirosgu/Desktop/Inmuno/output_data/species_data\\Q42746921.tsv\n",
      "Saved grouped data for Q code Q10890773 to C:/Users/quirosgu/Desktop/Inmuno/output_data/species_data\\Q10890773.tsv\n",
      "Saved grouped data for Q code Q5733430 to C:/Users/quirosgu/Desktop/Inmuno/output_data/species_data\\Q5733430.tsv\n",
      "Saved grouped data for Q code Q990886 to C:/Users/quirosgu/Desktop/Inmuno/output_data/species_data\\Q990886.tsv\n",
      "Saved grouped data for Q code Q15471496 to C:/Users/quirosgu/Desktop/Inmuno/output_data/species_data\\Q15471496.tsv\n",
      "Saved grouped data for Q code Q15387620 to C:/Users/quirosgu/Desktop/Inmuno/output_data/species_data\\Q15387620.tsv\n",
      "Saved grouped data for Q code Q21874434 to C:/Users/quirosgu/Desktop/Inmuno/output_data/species_data\\Q21874434.tsv\n",
      "Saved grouped data for Q code Q1428973 to C:/Users/quirosgu/Desktop/Inmuno/output_data/species_data\\Q1428973.tsv\n",
      "Saved grouped data for Q code Q92367804 to C:/Users/quirosgu/Desktop/Inmuno/output_data/species_data\\Q92367804.tsv\n",
      "Saved grouped data for Q code Q92368903 to C:/Users/quirosgu/Desktop/Inmuno/output_data/species_data\\Q92368903.tsv\n",
      "Saved grouped data for Q code Q18082984 to C:/Users/quirosgu/Desktop/Inmuno/output_data/species_data\\Q18082984.tsv\n",
      "Saved grouped data for Q code Q15348798 to C:/Users/quirosgu/Desktop/Inmuno/output_data/species_data\\Q15348798.tsv\n",
      "Saved grouped data for Q code Q15554410 to C:/Users/quirosgu/Desktop/Inmuno/output_data/species_data\\Q15554410.tsv\n",
      "Saved grouped data for Q code Q5741578 to C:/Users/quirosgu/Desktop/Inmuno/output_data/species_data\\Q5741578.tsv\n",
      "Saved grouped data for Q code Q1317365 to C:/Users/quirosgu/Desktop/Inmuno/output_data/species_data\\Q1317365.tsv\n",
      "Saved grouped data for Q code Q15593376 to C:/Users/quirosgu/Desktop/Inmuno/output_data/species_data\\Q15593376.tsv\n",
      "Saved grouped data for Q code Q1043450 to C:/Users/quirosgu/Desktop/Inmuno/output_data/species_data\\Q1043450.tsv\n",
      "Saved grouped data for Q code Q164094 to C:/Users/quirosgu/Desktop/Inmuno/output_data/species_data\\Q164094.tsv\n",
      "Saved grouped data for Q code Q15348729 to C:/Users/quirosgu/Desktop/Inmuno/output_data/species_data\\Q15348729.tsv\n",
      "Saved grouped data for Q code Q161093 to C:/Users/quirosgu/Desktop/Inmuno/output_data/species_data\\Q161093.tsv\n",
      "Saved grouped data for Q code Q15371226 to C:/Users/quirosgu/Desktop/Inmuno/output_data/species_data\\Q15371226.tsv\n",
      "Saved grouped data for Q code Q2998776 to C:/Users/quirosgu/Desktop/Inmuno/output_data/species_data\\Q2998776.tsv\n",
      "Saved grouped data for Q code Q4744662 to C:/Users/quirosgu/Desktop/Inmuno/output_data/species_data\\Q4744662.tsv\n",
      "Saved grouped data for Q code Q15604947 to C:/Users/quirosgu/Desktop/Inmuno/output_data/species_data\\Q15604947.tsv\n",
      "Saved grouped data for Q code Q12488371 to C:/Users/quirosgu/Desktop/Inmuno/output_data/species_data\\Q12488371.tsv\n",
      "Saved grouped data for Q code Q15387668 to C:/Users/quirosgu/Desktop/Inmuno/output_data/species_data\\Q15387668.tsv\n",
      "Saved grouped data for Q code Q15526424 to C:/Users/quirosgu/Desktop/Inmuno/output_data/species_data\\Q15526424.tsv\n",
      "Saved grouped data for Q code Q21250345 to C:/Users/quirosgu/Desktop/Inmuno/output_data/species_data\\Q21250345.tsv\n",
      "Saved grouped data for Q code Q15387384 to C:/Users/quirosgu/Desktop/Inmuno/output_data/species_data\\Q15387384.tsv\n",
      "Saved grouped data for Q code Q15232465 to C:/Users/quirosgu/Desktop/Inmuno/output_data/species_data\\Q15232465.tsv\n",
      "Saved grouped data for Q code Q49522122 to C:/Users/quirosgu/Desktop/Inmuno/output_data/species_data\\Q49522122.tsv\n",
      "Saved grouped data for Q code Q15399421 to C:/Users/quirosgu/Desktop/Inmuno/output_data/species_data\\Q15399421.tsv\n",
      "Saved grouped data for Q code Q9191371 to C:/Users/quirosgu/Desktop/Inmuno/output_data/species_data\\Q9191371.tsv\n",
      "Saved grouped data for Q code Q15513903 to C:/Users/quirosgu/Desktop/Inmuno/output_data/species_data\\Q15513903.tsv\n",
      "Saved grouped data for Q code Q50839388 to C:/Users/quirosgu/Desktop/Inmuno/output_data/species_data\\Q50839388.tsv\n",
      "Saved grouped data for Q code Q15565299 to C:/Users/quirosgu/Desktop/Inmuno/output_data/species_data\\Q15565299.tsv\n",
      "Saved grouped data for Q code Q2714097 to C:/Users/quirosgu/Desktop/Inmuno/output_data/species_data\\Q2714097.tsv\n",
      "Saved grouped data for Q code Q15471701 to C:/Users/quirosgu/Desktop/Inmuno/output_data/species_data\\Q15471701.tsv\n",
      "Saved grouped data for Q code Q5771221 to C:/Users/quirosgu/Desktop/Inmuno/output_data/species_data\\Q5771221.tsv\n",
      "Saved grouped data for Q code Q15391131 to C:/Users/quirosgu/Desktop/Inmuno/output_data/species_data\\Q15391131.tsv\n",
      "Saved grouped data for Q code Q15394067 to C:/Users/quirosgu/Desktop/Inmuno/output_data/species_data\\Q15394067.tsv\n",
      "Saved grouped data for Q code Q15581202 to C:/Users/quirosgu/Desktop/Inmuno/output_data/species_data\\Q15581202.tsv\n",
      "Saved grouped data for Q code Q2980990 to C:/Users/quirosgu/Desktop/Inmuno/output_data/species_data\\Q2980990.tsv\n",
      "Saved grouped data for Q code Q5141681 to C:/Users/quirosgu/Desktop/Inmuno/output_data/species_data\\Q5141681.tsv\n",
      "Saved grouped data for Q code Q15536508 to C:/Users/quirosgu/Desktop/Inmuno/output_data/species_data\\Q15536508.tsv\n",
      "Saved grouped data for Q code Q15493816 to C:/Users/quirosgu/Desktop/Inmuno/output_data/species_data\\Q15493816.tsv\n",
      "Saved grouped data for Q code Q15401274 to C:/Users/quirosgu/Desktop/Inmuno/output_data/species_data\\Q15401274.tsv\n",
      "Saved grouped data for Q code Q15250450 to C:/Users/quirosgu/Desktop/Inmuno/output_data/species_data\\Q15250450.tsv\n",
      "Saved grouped data for Q code Q214542 to C:/Users/quirosgu/Desktop/Inmuno/output_data/species_data\\Q214542.tsv\n",
      "Saved grouped data for Q code Q1140089 to C:/Users/quirosgu/Desktop/Inmuno/output_data/species_data\\Q1140089.tsv\n",
      "Saved grouped data for Q code Q3004011 to C:/Users/quirosgu/Desktop/Inmuno/output_data/species_data\\Q3004011.tsv\n",
      "Saved grouped data for Q code Q15397864 to C:/Users/quirosgu/Desktop/Inmuno/output_data/species_data\\Q15397864.tsv\n",
      "Saved grouped data for Q code Q15337356 to C:/Users/quirosgu/Desktop/Inmuno/output_data/species_data\\Q15337356.tsv\n",
      "Saved grouped data for Q code Q15547182 to C:/Users/quirosgu/Desktop/Inmuno/output_data/species_data\\Q15547182.tsv\n",
      "Saved grouped data for Q code Q33913 to C:/Users/quirosgu/Desktop/Inmuno/output_data/species_data\\Q33913.tsv\n",
      "Saved grouped data for Q code Q5795462 to C:/Users/quirosgu/Desktop/Inmuno/output_data/species_data\\Q5795462.tsv\n",
      "Saved grouped data for Q code Q5795507 to C:/Users/quirosgu/Desktop/Inmuno/output_data/species_data\\Q5795507.tsv\n",
      "Saved grouped data for Q code Q5208908 to C:/Users/quirosgu/Desktop/Inmuno/output_data/species_data\\Q5208908.tsv\n",
      "Saved grouped data for Q code Q15531517 to C:/Users/quirosgu/Desktop/Inmuno/output_data/species_data\\Q15531517.tsv\n",
      "Saved grouped data for Q code Q17024682 to C:/Users/quirosgu/Desktop/Inmuno/output_data/species_data\\Q17024682.tsv\n",
      "Saved grouped data for Q code Q238486 to C:/Users/quirosgu/Desktop/Inmuno/output_data/species_data\\Q238486.tsv\n",
      "Saved grouped data for Q code Q5764728 to C:/Users/quirosgu/Desktop/Inmuno/output_data/species_data\\Q5764728.tsv\n",
      "Saved grouped data for Q code Q10306429 to C:/Users/quirosgu/Desktop/Inmuno/output_data/species_data\\Q10306429.tsv\n",
      "Saved grouped data for Q code Q15560885 to C:/Users/quirosgu/Desktop/Inmuno/output_data/species_data\\Q15560885.tsv\n",
      "Saved grouped data for Q code Q15546614 to C:/Users/quirosgu/Desktop/Inmuno/output_data/species_data\\Q15546614.tsv\n",
      "Saved grouped data for Q code Q15339270 to C:/Users/quirosgu/Desktop/Inmuno/output_data/species_data\\Q15339270.tsv\n",
      "Saved grouped data for Q code Q89188901 to C:/Users/quirosgu/Desktop/Inmuno/output_data/species_data\\Q89188901.tsv\n",
      "Saved grouped data for Q code Q17398458 to C:/Users/quirosgu/Desktop/Inmuno/output_data/species_data\\Q17398458.tsv\n",
      "Saved grouped data for Q code Q15313056 to C:/Users/quirosgu/Desktop/Inmuno/output_data/species_data\\Q15313056.tsv\n",
      "Saved grouped data for Q code Q15500679 to C:/Users/quirosgu/Desktop/Inmuno/output_data/species_data\\Q15500679.tsv\n",
      "Saved grouped data for Q code Q15507751 to C:/Users/quirosgu/Desktop/Inmuno/output_data/species_data\\Q15507751.tsv\n",
      "Saved grouped data for Q code Q15586829 to C:/Users/quirosgu/Desktop/Inmuno/output_data/species_data\\Q15586829.tsv\n",
      "Saved grouped data for Q code Q690645 to C:/Users/quirosgu/Desktop/Inmuno/output_data/species_data\\Q690645.tsv\n",
      "Saved grouped data for Q code Q15473365 to C:/Users/quirosgu/Desktop/Inmuno/output_data/species_data\\Q15473365.tsv\n",
      "Saved grouped data for Q code Q135127 to C:/Users/quirosgu/Desktop/Inmuno/output_data/species_data\\Q135127.tsv\n",
      "Saved grouped data for Q code Q15575790 to C:/Users/quirosgu/Desktop/Inmuno/output_data/species_data\\Q15575790.tsv\n",
      "Saved grouped data for Q code Q5837307 to C:/Users/quirosgu/Desktop/Inmuno/output_data/species_data\\Q5837307.tsv\n",
      "Saved grouped data for Q code Q5396455 to C:/Users/quirosgu/Desktop/Inmuno/output_data/species_data\\Q5396455.tsv\n",
      "Saved grouped data for Q code Q15376475 to C:/Users/quirosgu/Desktop/Inmuno/output_data/species_data\\Q15376475.tsv\n",
      "Saved grouped data for Q code Q5397254 to C:/Users/quirosgu/Desktop/Inmuno/output_data/species_data\\Q5397254.tsv\n",
      "Saved grouped data for Q code Q6433663 to C:/Users/quirosgu/Desktop/Inmuno/output_data/species_data\\Q6433663.tsv\n",
      "Saved grouped data for Q code Q15443900 to C:/Users/quirosgu/Desktop/Inmuno/output_data/species_data\\Q15443900.tsv\n",
      "Saved grouped data for Q code Q81748456 to C:/Users/quirosgu/Desktop/Inmuno/output_data/species_data\\Q81748456.tsv\n",
      "Saved grouped data for Q code Q275160 to C:/Users/quirosgu/Desktop/Inmuno/output_data/species_data\\Q275160.tsv\n",
      "Saved grouped data for Q code Q3585414 to C:/Users/quirosgu/Desktop/Inmuno/output_data/species_data\\Q3585414.tsv\n",
      "Saved grouped data for Q code Q5446654 to C:/Users/quirosgu/Desktop/Inmuno/output_data/species_data\\Q5446654.tsv\n",
      "Saved grouped data for Q code Q12175320 to C:/Users/quirosgu/Desktop/Inmuno/output_data/species_data\\Q12175320.tsv\n",
      "Saved grouped data for Q code Q1353278 to C:/Users/quirosgu/Desktop/Inmuno/output_data/species_data\\Q1353278.tsv\n",
      "Saved grouped data for Q code Q15457271 to C:/Users/quirosgu/Desktop/Inmuno/output_data/species_data\\Q15457271.tsv\n",
      "Saved grouped data for Q code Q2717303 to C:/Users/quirosgu/Desktop/Inmuno/output_data/species_data\\Q2717303.tsv\n",
      "Saved grouped data for Q code Q15602003 to C:/Users/quirosgu/Desktop/Inmuno/output_data/species_data\\Q15602003.tsv\n",
      "Saved grouped data for Q code Q15399631 to C:/Users/quirosgu/Desktop/Inmuno/output_data/species_data\\Q15399631.tsv\n",
      "Saved grouped data for Q code Q17246257 to C:/Users/quirosgu/Desktop/Inmuno/output_data/species_data\\Q17246257.tsv\n",
      "Saved grouped data for Q code Q15458083 to C:/Users/quirosgu/Desktop/Inmuno/output_data/species_data\\Q15458083.tsv\n",
      "Saved grouped data for Q code Q15459428 to C:/Users/quirosgu/Desktop/Inmuno/output_data/species_data\\Q15459428.tsv\n",
      "Saved grouped data for Q code Q15341503 to C:/Users/quirosgu/Desktop/Inmuno/output_data/species_data\\Q15341503.tsv\n",
      "Saved grouped data for Q code Q15536135 to C:/Users/quirosgu/Desktop/Inmuno/output_data/species_data\\Q15536135.tsv\n",
      "Saved grouped data for Q code Q15460898 to C:/Users/quirosgu/Desktop/Inmuno/output_data/species_data\\Q15460898.tsv\n",
      "Saved grouped data for Q code Q15373210 to C:/Users/quirosgu/Desktop/Inmuno/output_data/species_data\\Q15373210.tsv\n",
      "Saved grouped data for Q code Q17395072 to C:/Users/quirosgu/Desktop/Inmuno/output_data/species_data\\Q17395072.tsv\n",
      "Saved grouped data for Q code Q15383418 to C:/Users/quirosgu/Desktop/Inmuno/output_data/species_data\\Q15383418.tsv\n",
      "Saved grouped data for Q code Q1602492 to C:/Users/quirosgu/Desktop/Inmuno/output_data/species_data\\Q1602492.tsv\n",
      "Saved grouped data for Q code Q15373239 to C:/Users/quirosgu/Desktop/Inmuno/output_data/species_data\\Q15373239.tsv\n",
      "Saved grouped data for Q code Q15462028 to C:/Users/quirosgu/Desktop/Inmuno/output_data/species_data\\Q15462028.tsv\n",
      "Saved grouped data for Q code Q15393584 to C:/Users/quirosgu/Desktop/Inmuno/output_data/species_data\\Q15393584.tsv\n",
      "Saved grouped data for Q code Q158110 to C:/Users/quirosgu/Desktop/Inmuno/output_data/species_data\\Q158110.tsv\n",
      "Saved grouped data for Q code Q15392758 to C:/Users/quirosgu/Desktop/Inmuno/output_data/species_data\\Q15392758.tsv\n",
      "Saved grouped data for Q code Q92422947 to C:/Users/quirosgu/Desktop/Inmuno/output_data/species_data\\Q92422947.tsv\n",
      "Saved grouped data for Q code Q2001703 to C:/Users/quirosgu/Desktop/Inmuno/output_data/species_data\\Q2001703.tsv\n",
      "Saved grouped data for Q code Q10299053 to C:/Users/quirosgu/Desktop/Inmuno/output_data/species_data\\Q10299053.tsv\n",
      "Saved grouped data for Q code Q2234016 to C:/Users/quirosgu/Desktop/Inmuno/output_data/species_data\\Q2234016.tsv\n",
      "Saved grouped data for Q code Q3144082 to C:/Users/quirosgu/Desktop/Inmuno/output_data/species_data\\Q3144082.tsv\n",
      "Saved grouped data for Q code Q50846819 to C:/Users/quirosgu/Desktop/Inmuno/output_data/species_data\\Q50846819.tsv\n",
      "Saved grouped data for Q code Q15502494 to C:/Users/quirosgu/Desktop/Inmuno/output_data/species_data\\Q15502494.tsv\n",
      "Saved grouped data for Q code Q43372103 to C:/Users/quirosgu/Desktop/Inmuno/output_data/species_data\\Q43372103.tsv\n",
      "Saved grouped data for Q code Q11127145 to C:/Users/quirosgu/Desktop/Inmuno/output_data/species_data\\Q11127145.tsv\n",
      "Saved grouped data for Q code Q1330992 to C:/Users/quirosgu/Desktop/Inmuno/output_data/species_data\\Q1330992.tsv\n",
      "Saved grouped data for Q code Q162117 to C:/Users/quirosgu/Desktop/Inmuno/output_data/species_data\\Q162117.tsv\n",
      "Saved grouped data for Q code Q1672259 to C:/Users/quirosgu/Desktop/Inmuno/output_data/species_data\\Q1672259.tsv\n",
      "Saved grouped data for Q code Q15568994 to C:/Users/quirosgu/Desktop/Inmuno/output_data/species_data\\Q15568994.tsv\n",
      "Saved grouped data for Q code Q3163048 to C:/Users/quirosgu/Desktop/Inmuno/output_data/species_data\\Q3163048.tsv\n",
      "Saved grouped data for Q code Q15467921 to C:/Users/quirosgu/Desktop/Inmuno/output_data/species_data\\Q15467921.tsv\n",
      "Saved grouped data for Q code Q15288897 to C:/Users/quirosgu/Desktop/Inmuno/output_data/species_data\\Q15288897.tsv\n",
      "Saved grouped data for Q code Q15598153 to C:/Users/quirosgu/Desktop/Inmuno/output_data/species_data\\Q15598153.tsv\n",
      "Saved grouped data for Q code Q1760533 to C:/Users/quirosgu/Desktop/Inmuno/output_data/species_data\\Q1760533.tsv\n",
      "Saved grouped data for Q code Q332469 to C:/Users/quirosgu/Desktop/Inmuno/output_data/species_data\\Q332469.tsv\n",
      "Saved grouped data for Q code Q182448 to C:/Users/quirosgu/Desktop/Inmuno/output_data/species_data\\Q182448.tsv\n",
      "Saved grouped data for Q code Q15337880 to C:/Users/quirosgu/Desktop/Inmuno/output_data/species_data\\Q15337880.tsv\n",
      "Saved grouped data for Q code Q15613116 to C:/Users/quirosgu/Desktop/Inmuno/output_data/species_data\\Q15613116.tsv\n",
      "Saved grouped data for Q code Q15432557 to C:/Users/quirosgu/Desktop/Inmuno/output_data/species_data\\Q15432557.tsv\n",
      "Saved grouped data for Q code Q15471009 to C:/Users/quirosgu/Desktop/Inmuno/output_data/species_data\\Q15471009.tsv\n",
      "Saved grouped data for Q code Q17551560 to C:/Users/quirosgu/Desktop/Inmuno/output_data/species_data\\Q17551560.tsv\n",
      "Saved grouped data for Q code Q17584503 to C:/Users/quirosgu/Desktop/Inmuno/output_data/species_data\\Q17584503.tsv\n",
      "Saved grouped data for Q code Q15469680 to C:/Users/quirosgu/Desktop/Inmuno/output_data/species_data\\Q15469680.tsv\n",
      "Saved grouped data for Q code Q15357631 to C:/Users/quirosgu/Desktop/Inmuno/output_data/species_data\\Q15357631.tsv\n",
      "Saved grouped data for Q code Q15477328 to C:/Users/quirosgu/Desktop/Inmuno/output_data/species_data\\Q15477328.tsv\n",
      "Saved grouped data for Q code Q168042 to C:/Users/quirosgu/Desktop/Inmuno/output_data/species_data\\Q168042.tsv\n",
      "Saved grouped data for Q code Q15531888 to C:/Users/quirosgu/Desktop/Inmuno/output_data/species_data\\Q15531888.tsv\n",
      "Saved grouped data for Q code Q15523112 to C:/Users/quirosgu/Desktop/Inmuno/output_data/species_data\\Q15523112.tsv\n",
      "Saved grouped data for Q code Q15375506 to C:/Users/quirosgu/Desktop/Inmuno/output_data/species_data\\Q15375506.tsv\n",
      "Saved grouped data for Q code Q15364734 to C:/Users/quirosgu/Desktop/Inmuno/output_data/species_data\\Q15364734.tsv\n",
      "Saved grouped data for Q code Q55879736 to C:/Users/quirosgu/Desktop/Inmuno/output_data/species_data\\Q55879736.tsv\n",
      "Saved grouped data for Q code Q18112872 to C:/Users/quirosgu/Desktop/Inmuno/output_data/species_data\\Q18112872.tsv\n",
      "Saved grouped data for Q code Q43373466 to C:/Users/quirosgu/Desktop/Inmuno/output_data/species_data\\Q43373466.tsv\n",
      "Saved grouped data for Q code Q15393683 to C:/Users/quirosgu/Desktop/Inmuno/output_data/species_data\\Q15393683.tsv\n",
      "Saved grouped data for Q code Q15396943 to C:/Users/quirosgu/Desktop/Inmuno/output_data/species_data\\Q15396943.tsv\n",
      "Saved grouped data for Q code Q15397711 to C:/Users/quirosgu/Desktop/Inmuno/output_data/species_data\\Q15397711.tsv\n",
      "Saved grouped data for Q code Q2717688 to C:/Users/quirosgu/Desktop/Inmuno/output_data/species_data\\Q2717688.tsv\n",
      "Saved grouped data for Q code Q15447942 to C:/Users/quirosgu/Desktop/Inmuno/output_data/species_data\\Q15447942.tsv\n",
      "Saved grouped data for Q code Q148532 to C:/Users/quirosgu/Desktop/Inmuno/output_data/species_data\\Q148532.tsv\n",
      "Saved grouped data for Q code Q234238 to C:/Users/quirosgu/Desktop/Inmuno/output_data/species_data\\Q234238.tsv\n",
      "Saved grouped data for Q code Q2464662 to C:/Users/quirosgu/Desktop/Inmuno/output_data/species_data\\Q2464662.tsv\n",
      "Saved grouped data for Q code Q150452 to C:/Users/quirosgu/Desktop/Inmuno/output_data/species_data\\Q150452.tsv\n",
      "Saved grouped data for Q code Q144670 to C:/Users/quirosgu/Desktop/Inmuno/output_data/species_data\\Q144670.tsv\n",
      "Saved grouped data for Q code Q15608959 to C:/Users/quirosgu/Desktop/Inmuno/output_data/species_data\\Q15608959.tsv\n",
      "Saved grouped data for Q code Q15478932 to C:/Users/quirosgu/Desktop/Inmuno/output_data/species_data\\Q15478932.tsv\n",
      "Saved grouped data for Q code Q6050389 to C:/Users/quirosgu/Desktop/Inmuno/output_data/species_data\\Q6050389.tsv\n",
      "Saved grouped data for Q code Q15367938 to C:/Users/quirosgu/Desktop/Inmuno/output_data/species_data\\Q15367938.tsv\n",
      "Saved grouped data for Q code Q15573034 to C:/Users/quirosgu/Desktop/Inmuno/output_data/species_data\\Q15573034.tsv\n",
      "Saved grouped data for Q code Q15553498 to C:/Users/quirosgu/Desktop/Inmuno/output_data/species_data\\Q15553498.tsv\n",
      "Saved grouped data for Q code Q3887771 to C:/Users/quirosgu/Desktop/Inmuno/output_data/species_data\\Q3887771.tsv\n",
      "Saved grouped data for Q code Q15484900 to C:/Users/quirosgu/Desktop/Inmuno/output_data/species_data\\Q15484900.tsv\n",
      "Saved grouped data for Q code Q50846435 to C:/Users/quirosgu/Desktop/Inmuno/output_data/species_data\\Q50846435.tsv\n",
      "Saved grouped data for Q code Q2063965 to C:/Users/quirosgu/Desktop/Inmuno/output_data/species_data\\Q2063965.tsv\n",
      "Saved grouped data for Q code Q2321967 to C:/Users/quirosgu/Desktop/Inmuno/output_data/species_data\\Q2321967.tsv\n",
      "Saved grouped data for Q code Q15488531 to C:/Users/quirosgu/Desktop/Inmuno/output_data/species_data\\Q15488531.tsv\n",
      "Saved grouped data for Q code Q5972602 to C:/Users/quirosgu/Desktop/Inmuno/output_data/species_data\\Q5972602.tsv\n",
      "Saved grouped data for Q code Q11815583 to C:/Users/quirosgu/Desktop/Inmuno/output_data/species_data\\Q11815583.tsv\n",
      "Saved grouped data for Q code Q15606062 to C:/Users/quirosgu/Desktop/Inmuno/output_data/species_data\\Q15606062.tsv\n",
      "Saved grouped data for Q code Q1606492 to C:/Users/quirosgu/Desktop/Inmuno/output_data/species_data\\Q1606492.tsv\n",
      "Saved grouped data for Q code Q15610265 to C:/Users/quirosgu/Desktop/Inmuno/output_data/species_data\\Q15610265.tsv\n",
      "Saved grouped data for Q code Q15312826 to C:/Users/quirosgu/Desktop/Inmuno/output_data/species_data\\Q15312826.tsv\n",
      "Saved grouped data for Q code Q144322 to C:/Users/quirosgu/Desktop/Inmuno/output_data/species_data\\Q144322.tsv\n",
      "Saved grouped data for Q code Q7188495 to C:/Users/quirosgu/Desktop/Inmuno/output_data/species_data\\Q7188495.tsv\n",
      "Saved grouped data for Q code Q12219768 to C:/Users/quirosgu/Desktop/Inmuno/output_data/species_data\\Q12219768.tsv\n",
      "Saved grouped data for Q code Q17586813 to C:/Users/quirosgu/Desktop/Inmuno/output_data/species_data\\Q17586813.tsv\n",
      "Saved grouped data for Q code Q110666042 to C:/Users/quirosgu/Desktop/Inmuno/output_data/species_data\\Q110666042.tsv\n",
      "Saved grouped data for Q code Q15601163 to C:/Users/quirosgu/Desktop/Inmuno/output_data/species_data\\Q15601163.tsv\n",
      "Saved grouped data for Q code Q15603602 to C:/Users/quirosgu/Desktop/Inmuno/output_data/species_data\\Q15603602.tsv\n",
      "Saved grouped data for Q code Q15604543 to C:/Users/quirosgu/Desktop/Inmuno/output_data/species_data\\Q15604543.tsv\n",
      "Saved grouped data for Q code Q15606320 to C:/Users/quirosgu/Desktop/Inmuno/output_data/species_data\\Q15606320.tsv\n",
      "Saved grouped data for Q code Q15591891 to C:/Users/quirosgu/Desktop/Inmuno/output_data/species_data\\Q15591891.tsv\n",
      "Saved grouped data for Q code Q5476022 to C:/Users/quirosgu/Desktop/Inmuno/output_data/species_data\\Q5476022.tsv\n",
      "Saved grouped data for Q code Q55935331 to C:/Users/quirosgu/Desktop/Inmuno/output_data/species_data\\Q55935331.tsv\n",
      "Saved grouped data for Q code Q15553281 to C:/Users/quirosgu/Desktop/Inmuno/output_data/species_data\\Q15553281.tsv\n",
      "Saved grouped data for Q code Q1097328 to C:/Users/quirosgu/Desktop/Inmuno/output_data/species_data\\Q1097328.tsv\n",
      "Saved grouped data for Q code Q5980290 to C:/Users/quirosgu/Desktop/Inmuno/output_data/species_data\\Q5980290.tsv\n",
      "Saved grouped data for Q code Q10352100 to C:/Users/quirosgu/Desktop/Inmuno/output_data/species_data\\Q10352100.tsv\n",
      "Saved grouped data for Q code Q600793 to C:/Users/quirosgu/Desktop/Inmuno/output_data/species_data\\Q600793.tsv\n",
      "Saved grouped data for Q code Q6089768 to C:/Users/quirosgu/Desktop/Inmuno/output_data/species_data\\Q6089768.tsv\n",
      "Saved grouped data for Q code Q15479818 to C:/Users/quirosgu/Desktop/Inmuno/output_data/species_data\\Q15479818.tsv\n",
      "Saved grouped data for Q code Q15537084 to C:/Users/quirosgu/Desktop/Inmuno/output_data/species_data\\Q15537084.tsv\n",
      "Saved grouped data for Q code Q28819997 to C:/Users/quirosgu/Desktop/Inmuno/output_data/species_data\\Q28819997.tsv\n",
      "Saved grouped data for Q code Q15495113 to C:/Users/quirosgu/Desktop/Inmuno/output_data/species_data\\Q15495113.tsv\n",
      "Saved grouped data for Q code Q67193328 to C:/Users/quirosgu/Desktop/Inmuno/output_data/species_data\\Q67193328.tsv\n",
      "Saved grouped data for Q code Q7262580 to C:/Users/quirosgu/Desktop/Inmuno/output_data/species_data\\Q7262580.tsv\n",
      "Saved grouped data for Q code Q135389 to C:/Users/quirosgu/Desktop/Inmuno/output_data/species_data\\Q135389.tsv\n",
      "Saved grouped data for Q code Q15338790 to C:/Users/quirosgu/Desktop/Inmuno/output_data/species_data\\Q15338790.tsv\n",
      "Saved grouped data for Q code Q15375053 to C:/Users/quirosgu/Desktop/Inmuno/output_data/species_data\\Q15375053.tsv\n",
      "Saved grouped data for Q code Q15435840 to C:/Users/quirosgu/Desktop/Inmuno/output_data/species_data\\Q15435840.tsv\n",
      "Saved grouped data for Q code Q15436074 to C:/Users/quirosgu/Desktop/Inmuno/output_data/species_data\\Q15436074.tsv\n",
      "Saved grouped data for Q code Q15376747 to C:/Users/quirosgu/Desktop/Inmuno/output_data/species_data\\Q15376747.tsv\n",
      "Saved grouped data for Q code Q15374366 to C:/Users/quirosgu/Desktop/Inmuno/output_data/species_data\\Q15374366.tsv\n",
      "Saved grouped data for Q code Q15334943 to C:/Users/quirosgu/Desktop/Inmuno/output_data/species_data\\Q15334943.tsv\n",
      "Saved grouped data for Q code Q853914 to C:/Users/quirosgu/Desktop/Inmuno/output_data/species_data\\Q853914.tsv\n",
      "Saved grouped data for Q code Q15555200 to C:/Users/quirosgu/Desktop/Inmuno/output_data/species_data\\Q15555200.tsv\n",
      "Saved grouped data for Q code Q5436334 to C:/Users/quirosgu/Desktop/Inmuno/output_data/species_data\\Q5436334.tsv\n",
      "Saved grouped data for Q code Q15549873 to C:/Users/quirosgu/Desktop/Inmuno/output_data/species_data\\Q15549873.tsv\n",
      "Saved grouped data for Q code Q15057501 to C:/Users/quirosgu/Desktop/Inmuno/output_data/species_data\\Q15057501.tsv\n",
      "Saved grouped data for Q code Q7377841 to C:/Users/quirosgu/Desktop/Inmuno/output_data/species_data\\Q7377841.tsv\n",
      "Saved grouped data for Q code Q3391243 to C:/Users/quirosgu/Desktop/Inmuno/output_data/species_data\\Q3391243.tsv\n",
      "Saved grouped data for Q code Q17566084 to C:/Users/quirosgu/Desktop/Inmuno/output_data/species_data\\Q17566084.tsv\n",
      "Saved grouped data for Q code Q259500 to C:/Users/quirosgu/Desktop/Inmuno/output_data/species_data\\Q259500.tsv\n",
      "Saved grouped data for Q code Q5859273 to C:/Users/quirosgu/Desktop/Inmuno/output_data/species_data\\Q5859273.tsv\n",
      "Saved grouped data for Q code Q15379566 to C:/Users/quirosgu/Desktop/Inmuno/output_data/species_data\\Q15379566.tsv\n",
      "Saved grouped data for Q code Q15366241 to C:/Users/quirosgu/Desktop/Inmuno/output_data/species_data\\Q15366241.tsv\n",
      "Saved grouped data for Q code Q15345651 to C:/Users/quirosgu/Desktop/Inmuno/output_data/species_data\\Q15345651.tsv\n",
      "Saved grouped data for Q code Q2711230 to C:/Users/quirosgu/Desktop/Inmuno/output_data/species_data\\Q2711230.tsv\n",
      "Saved grouped data for Q code Q15562981 to C:/Users/quirosgu/Desktop/Inmuno/output_data/species_data\\Q15562981.tsv\n",
      "Saved grouped data for Q code Q17351916 to C:/Users/quirosgu/Desktop/Inmuno/output_data/species_data\\Q17351916.tsv\n",
      "Saved grouped data for Q code Q15563877 to C:/Users/quirosgu/Desktop/Inmuno/output_data/species_data\\Q15563877.tsv\n",
      "Saved grouped data for Q code Q50326244 to C:/Users/quirosgu/Desktop/Inmuno/output_data/species_data\\Q50326244.tsv\n",
      "Saved grouped data for Q code Q15557984 to C:/Users/quirosgu/Desktop/Inmuno/output_data/species_data\\Q15557984.tsv\n",
      "Saved grouped data for Q code Q15535713 to C:/Users/quirosgu/Desktop/Inmuno/output_data/species_data\\Q15535713.tsv\n",
      "Saved grouped data for Q code Q15599569 to C:/Users/quirosgu/Desktop/Inmuno/output_data/species_data\\Q15599569.tsv\n",
      "Saved grouped data for Q code Q15348500 to C:/Users/quirosgu/Desktop/Inmuno/output_data/species_data\\Q15348500.tsv\n",
      "Saved grouped data for Q code Q2295155 to C:/Users/quirosgu/Desktop/Inmuno/output_data/species_data\\Q2295155.tsv\n",
      "Saved grouped data for Q code Q15532787 to C:/Users/quirosgu/Desktop/Inmuno/output_data/species_data\\Q15532787.tsv\n",
      "Saved grouped data for Q code Q15533130 to C:/Users/quirosgu/Desktop/Inmuno/output_data/species_data\\Q15533130.tsv\n",
      "Saved grouped data for Q code Q15534583 to C:/Users/quirosgu/Desktop/Inmuno/output_data/species_data\\Q15534583.tsv\n",
      "Saved grouped data for Q code Q15536849 to C:/Users/quirosgu/Desktop/Inmuno/output_data/species_data\\Q15536849.tsv\n",
      "Saved grouped data for Q code Q15537449 to C:/Users/quirosgu/Desktop/Inmuno/output_data/species_data\\Q15537449.tsv\n",
      "Saved grouped data for Q code Q15538200 to C:/Users/quirosgu/Desktop/Inmuno/output_data/species_data\\Q15538200.tsv\n",
      "Saved grouped data for Q code Q17401125 to C:/Users/quirosgu/Desktop/Inmuno/output_data/species_data\\Q17401125.tsv\n",
      "Saved grouped data for Q code Q15538442 to C:/Users/quirosgu/Desktop/Inmuno/output_data/species_data\\Q15538442.tsv\n",
      "Saved grouped data for Q code Q15480762 to C:/Users/quirosgu/Desktop/Inmuno/output_data/species_data\\Q15480762.tsv\n",
      "Saved grouped data for Q code Q15594912 to C:/Users/quirosgu/Desktop/Inmuno/output_data/species_data\\Q15594912.tsv\n",
      "Saved grouped data for Q code Q9340113 to C:/Users/quirosgu/Desktop/Inmuno/output_data/species_data\\Q9340113.tsv\n",
      "Saved grouped data for Q code Q7578948 to C:/Users/quirosgu/Desktop/Inmuno/output_data/species_data\\Q7578948.tsv\n",
      "Saved grouped data for Q code Q15348772 to C:/Users/quirosgu/Desktop/Inmuno/output_data/species_data\\Q15348772.tsv\n",
      "Saved grouped data for Q code Q17565541 to C:/Users/quirosgu/Desktop/Inmuno/output_data/species_data\\Q17565541.tsv\n",
      "Saved grouped data for Q code Q15544832 to C:/Users/quirosgu/Desktop/Inmuno/output_data/species_data\\Q15544832.tsv\n",
      "Saved grouped data for Q code Q15349206 to C:/Users/quirosgu/Desktop/Inmuno/output_data/species_data\\Q15349206.tsv\n",
      "Saved grouped data for Q code Q49523637 to C:/Users/quirosgu/Desktop/Inmuno/output_data/species_data\\Q49523637.tsv\n",
      "Saved grouped data for Q code Q13403357 to C:/Users/quirosgu/Desktop/Inmuno/output_data/species_data\\Q13403357.tsv\n",
      "Saved grouped data for Q code Q31936 to C:/Users/quirosgu/Desktop/Inmuno/output_data/species_data\\Q31936.tsv\n",
      "Saved grouped data for Q code Q15549607 to C:/Users/quirosgu/Desktop/Inmuno/output_data/species_data\\Q15549607.tsv\n",
      "Saved grouped data for Q code Q715899 to C:/Users/quirosgu/Desktop/Inmuno/output_data/species_data\\Q715899.tsv\n",
      "Saved grouped data for Q code Q15529660 to C:/Users/quirosgu/Desktop/Inmuno/output_data/species_data\\Q15529660.tsv\n",
      "Saved grouped data for Q code Q17248087 to C:/Users/quirosgu/Desktop/Inmuno/output_data/species_data\\Q17248087.tsv\n",
      "Saved grouped data for Q code Q15598512 to C:/Users/quirosgu/Desktop/Inmuno/output_data/species_data\\Q15598512.tsv\n",
      "Saved grouped data for Q code Q15384264 to C:/Users/quirosgu/Desktop/Inmuno/output_data/species_data\\Q15384264.tsv\n",
      "Saved grouped data for Q code Q15525761 to C:/Users/quirosgu/Desktop/Inmuno/output_data/species_data\\Q15525761.tsv\n",
      "Saved grouped data for Q code Q15526615 to C:/Users/quirosgu/Desktop/Inmuno/output_data/species_data\\Q15526615.tsv\n",
      "Saved grouped data for Q code Q10280832 to C:/Users/quirosgu/Desktop/Inmuno/output_data/species_data\\Q10280832.tsv\n",
      "Saved grouped data for Q code Q50876289 to C:/Users/quirosgu/Desktop/Inmuno/output_data/species_data\\Q50876289.tsv\n",
      "Saved grouped data for Q code Q15553726 to C:/Users/quirosgu/Desktop/Inmuno/output_data/species_data\\Q15553726.tsv\n",
      "Saved grouped data for Q code Q21304319 to C:/Users/quirosgu/Desktop/Inmuno/output_data/species_data\\Q21304319.tsv\n",
      "Saved grouped data for Q code Q48682711 to C:/Users/quirosgu/Desktop/Inmuno/output_data/species_data\\Q48682711.tsv\n",
      "Saved grouped data for Q code Q15490748 to C:/Users/quirosgu/Desktop/Inmuno/output_data/species_data\\Q15490748.tsv\n",
      "Saved grouped data for Q code Q15332877 to C:/Users/quirosgu/Desktop/Inmuno/output_data/species_data\\Q15332877.tsv\n",
      "Saved grouped data for Q code Q15601401 to C:/Users/quirosgu/Desktop/Inmuno/output_data/species_data\\Q15601401.tsv\n",
      "Saved grouped data for Q code Q7983179 to C:/Users/quirosgu/Desktop/Inmuno/output_data/species_data\\Q7983179.tsv\n",
      "Saved grouped data for Q code Q17140701 to C:/Users/quirosgu/Desktop/Inmuno/output_data/species_data\\Q17140701.tsv\n",
      "Saved grouped data for Q code Q4118130 to C:/Users/quirosgu/Desktop/Inmuno/output_data/species_data\\Q4118130.tsv\n",
      "Saved grouped data for Q code Q10395363 to C:/Users/quirosgu/Desktop/Inmuno/output_data/species_data\\Q10395363.tsv\n"
     ]
    }
   ],
   "source": [
    "# Load the LOTUSDB CSV\n",
    "lotusdb_df = pd.read_csv(LOTUSDB, low_memory=False)\n",
    "\n",
    "# Iterate through all CSV files in the input folder\n",
    "for filename in os.listdir(output_folder):\n",
    "    if filename.endswith('.csv'):\n",
    "        input_file = os.path.join(output_folder, filename)\n",
    "\n",
    "        # Load the CSV file with Q codes\n",
    "        df_species = pd.read_csv(input_file)\n",
    "\n",
    "        # Iterate through the Q codes in the species CSV\n",
    "        for q_code in df_species['wikidata_Qcode_species']:  # Ensure this column name matches your species CSV\n",
    "            # Skip processing if Q code is 'Not Found'\n",
    "            if q_code == 'Not Found':\n",
    "                continue\n",
    "\n",
    "            # Filter LOTUSDB data for the current Q code\n",
    "            filtered_lotusdb = lotusdb_df[lotusdb_df['wikidata_Qcode'] == q_code]  # Ensure this column name matches your LOTUSDB CSV\n",
    "\n",
    "            # Group and aggregate the data\n",
    "            grouped_df = filtered_lotusdb.groupby(\"structure_inchikey\").agg({\n",
    "                # Add all the aggregation rules here\n",
    "                # Example:\n",
    "                \"structure_wikidata\": \"first\",\n",
    "                \"structure_inchi\": \"first\",\n",
    "                \"structure_smiles\": \"first\",\n",
    "                \"structure_molecular_formula\": \"first\",\n",
    "                \"structure_exact_mass\": \"first\",\n",
    "                \"structure_xlogp\": \"first\",\n",
    "                \"structure_smiles_2D\": \"first\",\n",
    "                \"structure_cid\": \"first\",\n",
    "                \"structure_nameIupac\": \"first\",\n",
    "                \"structure_nameTraditional\": \"first\",\n",
    "                \"structure_taxonomy_npclassifier_01pathway\": \"first\",\n",
    "                \"structure_taxonomy_npclassifier_02superclass\": \"first\",\n",
    "                \"structure_taxonomy_npclassifier_03class\": \"first\",\n",
    "                \"organism_wikidata\": \"first\",\n",
    "                \"organism_taxonomy_gbifid\": \"first\",\n",
    "                \"organism_taxonomy_ncbiid\": \"first\",\n",
    "                \"organism_taxonomy_ottid\": \"first\",\n",
    "                \"organism_taxonomy_01domain\": \"first\",\n",
    "                \"organism_taxonomy_02kingdom\": \"first\",\n",
    "                \"organism_taxonomy_03phylum\": \"first\",\n",
    "                \"organism_taxonomy_04class\": \"first\",\n",
    "                \"organism_taxonomy_05order\": \"first\",\n",
    "                \"organism_taxonomy_06family\": \"first\",\n",
    "                \"organism_taxonomy_07tribe\": \"first\",\n",
    "                \"organism_taxonomy_08genus\": \"first\",\n",
    "                \"organism_taxonomy_09species\": \"first\",\n",
    "                \"organism_taxonomy_10varietas\": \"first\",\n",
    "                \"reference_wikidata\": lambda x: \"|\".join(map(str, x)),\n",
    "                \"reference_doi\": lambda x: \"|\".join(map(str, x))\n",
    "            }).reset_index()\n",
    "            \n",
    "            #create a 'short_inchikey' column\n",
    "            grouped_df['short_inchikey'] =  grouped_df['structure_inchikey'].str[:14]\n",
    "            #create a 'chemical_superclass' column\n",
    "            grouped_df['chemical_superclass'] =  grouped_df['structure_taxonomy_npclassifier_01pathway'] + '-' +  grouped_df['structure_taxonomy_npclassifier_02superclass']\n",
    "            grouped_df['chemical_class'] =  grouped_df['structure_taxonomy_npclassifier_01pathway'] + '-' +  grouped_df['structure_taxonomy_npclassifier_03class']\n",
    "            \n",
    "            \n",
    "            # Save the grouped data as a TSV file with the Q code as the filename\n",
    "            output_subfolder = os.path.join(output_folder, 'species_data')\n",
    "            os.makedirs(output_subfolder, exist_ok=True)\n",
    "            output_filename = os.path.join(output_subfolder, f\"{q_code}.tsv\")\n",
    "            grouped_df.to_csv(output_filename, index=False, sep='\\t')\n",
    "\n",
    "            print(f\"Saved grouped data for Q code {q_code} to {output_filename}\")\n"
   ]
  },
  {
   "cell_type": "code",
   "execution_count": 3,
   "metadata": {},
   "outputs": [
    {
     "ename": "NameError",
     "evalue": "name 'lotusdb_df' is not defined",
     "output_type": "error",
     "traceback": [
      "\u001b[1;31m---------------------------------------------------------------------------\u001b[0m",
      "\u001b[1;31mNameError\u001b[0m                                 Traceback (most recent call last)",
      "Cell \u001b[1;32mIn[3], line 20\u001b[0m\n\u001b[0;32m     17\u001b[0m     \u001b[38;5;28;01mcontinue\u001b[39;00m\n\u001b[0;32m     19\u001b[0m \u001b[38;5;66;03m# Filter LOTUSDB data for the current Q code\u001b[39;00m\n\u001b[1;32m---> 20\u001b[0m filtered_lotusdb \u001b[38;5;241m=\u001b[39m lotusdb_df[lotusdb_df[\u001b[38;5;124m'\u001b[39m\u001b[38;5;124morganism_taxonomy_08genus\u001b[39m\u001b[38;5;124m'\u001b[39m] \u001b[38;5;241m==\u001b[39m genus]  \u001b[38;5;66;03m# Ensure this column name matches your LOTUSDB CSV\u001b[39;00m\n\u001b[0;32m     22\u001b[0m \u001b[38;5;66;03m# Group and aggregate the data at the genus level based on 'genus_header' column\u001b[39;00m\n\u001b[0;32m     23\u001b[0m grouped_df \u001b[38;5;241m=\u001b[39m filtered_lotusdb\u001b[38;5;241m.\u001b[39mgroupby(\u001b[38;5;124m\"\u001b[39m\u001b[38;5;124mstructure_inchikey\u001b[39m\u001b[38;5;124m\"\u001b[39m)\u001b[38;5;241m.\u001b[39magg({\n\u001b[0;32m     24\u001b[0m     \u001b[38;5;66;03m# Add all the aggregation rules here\u001b[39;00m\n\u001b[0;32m     25\u001b[0m     \u001b[38;5;66;03m# Example:\u001b[39;00m\n\u001b[1;32m   (...)\u001b[0m\n\u001b[0;32m     54\u001b[0m     \u001b[38;5;124m\"\u001b[39m\u001b[38;5;124mreference_doi\u001b[39m\u001b[38;5;124m\"\u001b[39m: \u001b[38;5;28;01mlambda\u001b[39;00m x: \u001b[38;5;124m\"\u001b[39m\u001b[38;5;124m|\u001b[39m\u001b[38;5;124m\"\u001b[39m\u001b[38;5;241m.\u001b[39mjoin(\u001b[38;5;28mmap\u001b[39m(\u001b[38;5;28mstr\u001b[39m, x))\n\u001b[0;32m     55\u001b[0m })\u001b[38;5;241m.\u001b[39mreset_index()\n",
      "\u001b[1;31mNameError\u001b[0m: name 'lotusdb_df' is not defined"
     ]
    }
   ],
   "source": [
    "# Create a subfolder for genus data\n",
    "genus_subfolder = os.path.join(output_folder, 'genus_data')\n",
    "os.makedirs(genus_subfolder, exist_ok=True)\n",
    "\n",
    "# Iterate through all CSV files in the input folder\n",
    "for filename in os.listdir(output_folder):\n",
    "    if filename.endswith('.csv'):\n",
    "        input_file = os.path.join(output_folder, filename)\n",
    "\n",
    "        # Load the CSV file with Q codes\n",
    "        df_species = pd.read_csv(input_file)\n",
    "\n",
    "        # Iterate through the Q codes in the species CSV\n",
    "        for genus in df_species[genus_header]:  # Ensure this column name matches your species CSV\n",
    "            # Skip processing if Q code is 'Not Found'\n",
    "            if genus == 'Not Found':\n",
    "                continue\n",
    "\n",
    "            # Filter LOTUSDB data for the current Q code\n",
    "            filtered_lotusdb = lotusdb_df[lotusdb_df['organism_taxonomy_08genus'] == genus]  # Ensure this column name matches your LOTUSDB CSV\n",
    "\n",
    "            # Group and aggregate the data at the genus level based on 'genus_header' column\n",
    "            grouped_df = filtered_lotusdb.groupby(\"structure_inchikey\").agg({\n",
    "                # Add all the aggregation rules here\n",
    "                # Example:\n",
    "                \"structure_wikidata\": \"first\",\n",
    "                \"structure_inchi\": \"first\",\n",
    "                \"structure_smiles\": \"first\",\n",
    "                \"structure_molecular_formula\": \"first\",\n",
    "                \"structure_exact_mass\": \"first\",\n",
    "                \"structure_xlogp\": \"first\",\n",
    "                \"structure_smiles_2D\": \"first\",\n",
    "                \"structure_cid\": \"first\",\n",
    "                \"structure_nameIupac\": \"first\",\n",
    "                \"structure_nameTraditional\": \"first\",\n",
    "                \"structure_taxonomy_npclassifier_01pathway\": \"first\",\n",
    "                \"structure_taxonomy_npclassifier_02superclass\": \"first\",\n",
    "                \"structure_taxonomy_npclassifier_03class\": \"first\",\n",
    "                \"organism_wikidata\": \"first\",\n",
    "                \"organism_taxonomy_gbifid\": \"first\",\n",
    "                \"organism_taxonomy_ncbiid\": \"first\",\n",
    "                \"organism_taxonomy_ottid\": \"first\",\n",
    "                \"organism_taxonomy_01domain\": \"first\",\n",
    "                \"organism_taxonomy_02kingdom\": \"first\",\n",
    "                \"organism_taxonomy_03phylum\": \"first\",\n",
    "                \"organism_taxonomy_04class\": \"first\",\n",
    "                \"organism_taxonomy_05order\": \"first\",\n",
    "                \"organism_taxonomy_06family\": \"first\",\n",
    "                \"organism_taxonomy_07tribe\": \"first\",\n",
    "                \"organism_taxonomy_08genus\": \"first\",\n",
    "                \"organism_taxonomy_09species\": \"first\",\n",
    "                \"organism_taxonomy_10varietas\": \"first\",\n",
    "                \"reference_wikidata\": lambda x: \"|\".join(map(str, x)),\n",
    "                \"reference_doi\": lambda x: \"|\".join(map(str, x))\n",
    "            }).reset_index()\n",
    "            \n",
    "            # Create a 'chemical_superclass' column\n",
    "            grouped_df['chemical_superclass'] =  grouped_df['structure_taxonomy_npclassifier_01pathway'] + '-' +  grouped_df['structure_taxonomy_npclassifier_02superclass']\n",
    "            grouped_df['chemical_class'] =  grouped_df['structure_taxonomy_npclassifier_01pathway'] + '-' +  grouped_df['structure_taxonomy_npclassifier_03class']\n",
    "            \n",
    "            # Save the grouped data as a TSV file in the genus_data subfolder\n",
    "            output_filename = os.path.join(genus_subfolder, f\"{genus}.tsv\")\n",
    "            grouped_df.to_csv(output_filename, index=False, sep='\\t')\n",
    "\n",
    "            print(f\"Saved grouped data for genus {genus} to {output_filename}\")\n"
   ]
  },
  {
   "cell_type": "markdown",
   "metadata": {},
   "source": [
    "RECOVER THE FRECUENCE BY CHEMICAL CLASS AND ADDED TO THE GENERAL TABLE"
   ]
  },
  {
   "cell_type": "code",
   "execution_count": 3,
   "metadata": {},
   "outputs": [],
   "source": [
    "# Step 1: Initialize variables to store data\n",
    "total_compounds = {}\n",
    "chemical_classes = {}\n",
    "chemical_superclasses = {}\n",
    "references = {}\n",
    "hyperlinks = {}\n",
    "\n",
    "# Step 2: Iterate through .tsv files in the folder\n",
    "\n",
    "species_data_folder = os.path.join(output_folder, 'species_data')\n",
    "for filename in os.listdir(species_data_folder):\n",
    "    if filename.endswith(\".tsv\"):\n",
    "        qcode = filename.split(\".\")[0]  # Extract Qcode from the filename\n",
    "\n",
    "        # Load the .tsv file into a DataFrame\n",
    "        df_compounds = pd.read_csv(os.path.join(species_data_folder, filename), sep='\\t')\n",
    "\n",
    "        # Step 3: Calculate frequencies of chemical classes for each Qcode (excluding 'not classified')\n",
    "        filtered_classes = df_compounds[df_compounds['structure_taxonomy_npclassifier_03class'] != 'Not Classified']\n",
    "        grouped = filtered_classes['structure_taxonomy_npclassifier_03class'].value_counts().reset_index()\n",
    "        frequencies = grouped.apply(lambda row: f\"{row.name} {row['structure_taxonomy_npclassifier_03class']}\", axis=1)\n",
    "        chemical_classes[qcode] = \"|\".join(frequencies)\n",
    "\n",
    "        # Step 4: Calculate frequencies of chemical superclasses for each Qcode (excluding 'not classified')\n",
    "        filtered_sclasses = df_compounds[df_compounds['structure_taxonomy_npclassifier_02superclass'] != 'Not Classified']\n",
    "        sgrouped = filtered_sclasses['structure_taxonomy_npclassifier_02superclass'].value_counts().reset_index()\n",
    "        frequencies = sgrouped.apply(lambda row: f\"{row.name} {row['structure_taxonomy_npclassifier_02superclass']}\", axis=1)\n",
    "        chemical_superclasses[qcode] = \"|\".join(frequencies)\n",
    "        chemical_classes[qcode] = \"|\".join(frequencies)\n",
    "        \n",
    "        # Step 5: Combine references and hyperlinks\n",
    "        #references[qcode] = \"|\".join(df_compounds['reference_wikidata'].dropna())\n",
    "        #hyperlinks[qcode] = \"|\".join(df_compounds['reference_doi'].dropna())\n",
    "\n",
    "        # Step 6: Calculate the total number of reported compounds\n",
    "        #total_compounds[qcode] = len(df_compounds)\n",
    "\n",
    "# Step 7: Load the general info .csv into a DataFrame\n",
    "csv_file = None\n",
    "for filename in os.listdir(output_folder):\n",
    "    if filename.endswith(\".csv\"):\n",
    "        csv_file = os.path.join(output_folder, filename)\n",
    "        break  # Stop searching after finding the first CSV file\n",
    "\n",
    "if csv_file is not None:\n",
    "    # Load the CSV file into the df_general_info DataFrame\n",
    "    df_general_info = pd.read_csv(csv_file)\n",
    "\n",
    "# Step 7: Create new columns for combined information\n",
    "df_general_info['predicted_class'] = df_general_info['wikidata_Qcode'].map(chemical_classes)\n",
    "df_general_info['predicted_superclass'] = df_general_info['wikidata_Qcode'].map(chemical_superclasses)\n",
    "#df_general_info['references'] = df_general_info['wikidata_Qcode_species'].map(references)\n",
    "#df_general_info['referenceLabel'] = df_general_info['wikidata_Qcode_species'].map(hyperlinks)\n",
    "\n",
    "# Step 7: Save the updated DataFrame to the .csv file\n",
    "\n",
    "# Replace values matching the pattern with an empty cell\n",
    "df_general_info['predicted_class'] = df_general_info['predicted_class'].replace('index|predicted_class', '')\n",
    "df_general_info['predicted_superclass'] = df_general_info['predicted_superclass'].replace('index|predicted_superclass', '')\n",
    "\n",
    "#add reported compounds to each Q code\n",
    "LotusDB_rc = pd.read_csv(LOTUSDB_rc)\n",
    "\n",
    "spDB = LotusDB_rc[['wikidata_Qcode', 'Reported_comp_Species']].drop_duplicates()\n",
    "gDB = LotusDB_rc[['organism_taxonomy_08genus', 'Reported_comp_Genus']].drop_duplicates()\n",
    "fDB = LotusDB_rc[['organism_taxonomy_06family', 'Reported_comp_Family']].drop_duplicates()\n",
    "\n",
    "df = pd.merge(df_general_info, spDB,\n",
    "            how= 'left', left_on='wikidata_Qcode', right_on='wikidata_Qcode')#.drop_duplicates(subset=['CODE'])\n",
    "df.drop('wikidata_Qcode', axis=1, inplace=True)\n",
    "\n",
    "df = pd.merge(df, gDB,\n",
    "            how= 'left', left_on=genus_header, right_on='organism_taxonomy_08genus')#.drop_duplicates(subset=['full_species'])\n",
    "df.drop('organism_taxonomy_08genus', axis=1, inplace=True)\n",
    "\n",
    "df = pd.merge(df, fDB,\n",
    "            how= 'left', left_on=family_header, right_on='organism_taxonomy_06family')#.drop_duplicates(subset=['full_species'])\n",
    "df.drop('organism_taxonomy_06family', axis=1, inplace=True)\n",
    "\n",
    "output_csv_file = output_folder + 'Full_results.csv'\n",
    "df.to_csv(output_csv_file, index=False, sep =',')"
   ]
  },
  {
   "cell_type": "markdown",
   "metadata": {},
   "source": [
    "Generate une plot by species (samples) and the chemical class"
   ]
  },
  {
   "cell_type": "code",
   "execution_count": 2,
   "metadata": {},
   "outputs": [],
   "source": [
    "# Define base colors for each Pathway\n",
    "\n",
    "pathway_colors = {\n",
    "    'Terpenoids': ('#618264', '#D0E7D2'),  # Green start and lighter green end\n",
    "    'Alkaloids': ('#305F72', '#5CBCE2'),   # Blue start and lighter blue end  \n",
    "    'Shikimates and Phenylpropanoids': ('#80558C', '#CBA0AE'),  # Purple start and lighter purple end\n",
    "    'Polyketides': ('#EF4B4B', '#EC8F6A'),  # Red start and lighter purple end\n",
    "    'Fatty acids': ('#FF6C22', '#FF9209'),  # Orange start and lighter purple end\n",
    "    'Amino acids and Peptides': ('#F4E869', '#FAF2D3'),  # Yellow start and lighter purple end\n",
    "    'Carbohydrates': ('#65451F','#C8AE7D')  # Brown start and lighter purple end\n",
    "}\n",
    "\n",
    "def interpolate_color(color1, color2, factor: float):\n",
    "    \"\"\"Interpolate between two colors\"\"\"\n",
    "    color1 = np.array(mcolors.to_rgb(color1))\n",
    "    color2 = np.array(mcolors.to_rgb(color2))\n",
    "    return mcolors.to_hex((1 - factor) * color1 + factor * color2)\n",
    "\n",
    "def generate_shades(pathway, num_shades):\n",
    "    base_color, end_color = pathway_colors.get(pathway, ('gray', 'lightgray'))\n",
    "    if num_shades == 1:\n",
    "        return [base_color]  # Return the base color if only one shade is requested\n",
    "    shades = []\n",
    "    for i in range(num_shades):\n",
    "        factor = i / (num_shades - 1)\n",
    "        shades.append(interpolate_color(base_color, end_color, factor))\n",
    "    return shades\n",
    "\n",
    "def split_chemical_superclass(row):\n",
    "    # Check if the value is a string before splitting\n",
    "    if isinstance(row['chemical_superclass'], str):\n",
    "        parts = row['chemical_superclass'].split('-')\n",
    "        if len(parts) == 2:\n",
    "            return parts[0], parts[1]  # Pathway and Superclass are present\n",
    "        else:\n",
    "            return parts[0], 'Unknown'  # Only Pathway is present, or the format is not as expected\n",
    "    else:\n",
    "        # Return default values if the entry is NaN or not a string\n",
    "        return 'Unknown', 'Unknown'"
   ]
  },
  {
   "cell_type": "code",
   "execution_count": 8,
   "metadata": {},
   "outputs": [
    {
     "name": "stderr",
     "output_type": "stream",
     "text": [
      "C:\\Users\\quirosgu\\AppData\\Local\\Temp\\ipykernel_13672\\2488201323.py:9: FutureWarning:\n",
      "\n",
      "The behavior of DataFrame concatenation with empty or all-NA entries is deprecated. In a future version, this will no longer exclude empty or all-NA columns when determining the result dtypes. To retain the old behavior, exclude the relevant entries before the concat operation.\n",
      "\n",
      "C:\\Users\\quirosgu\\AppData\\Local\\Temp\\ipykernel_13672\\2488201323.py:9: FutureWarning:\n",
      "\n",
      "The behavior of DataFrame concatenation with empty or all-NA entries is deprecated. In a future version, this will no longer exclude empty or all-NA columns when determining the result dtypes. To retain the old behavior, exclude the relevant entries before the concat operation.\n",
      "\n",
      "C:\\Users\\quirosgu\\AppData\\Local\\Temp\\ipykernel_13672\\2488201323.py:9: FutureWarning:\n",
      "\n",
      "The behavior of DataFrame concatenation with empty or all-NA entries is deprecated. In a future version, this will no longer exclude empty or all-NA columns when determining the result dtypes. To retain the old behavior, exclude the relevant entries before the concat operation.\n",
      "\n",
      "C:\\Users\\quirosgu\\AppData\\Local\\Temp\\ipykernel_13672\\2488201323.py:9: FutureWarning:\n",
      "\n",
      "The behavior of DataFrame concatenation with empty or all-NA entries is deprecated. In a future version, this will no longer exclude empty or all-NA columns when determining the result dtypes. To retain the old behavior, exclude the relevant entries before the concat operation.\n",
      "\n",
      "C:\\Users\\quirosgu\\AppData\\Local\\Temp\\ipykernel_13672\\2488201323.py:9: FutureWarning:\n",
      "\n",
      "The behavior of DataFrame concatenation with empty or all-NA entries is deprecated. In a future version, this will no longer exclude empty or all-NA columns when determining the result dtypes. To retain the old behavior, exclude the relevant entries before the concat operation.\n",
      "\n",
      "C:\\Users\\quirosgu\\AppData\\Local\\Temp\\ipykernel_13672\\2488201323.py:9: FutureWarning:\n",
      "\n",
      "The behavior of DataFrame concatenation with empty or all-NA entries is deprecated. In a future version, this will no longer exclude empty or all-NA columns when determining the result dtypes. To retain the old behavior, exclude the relevant entries before the concat operation.\n",
      "\n",
      "C:\\Users\\quirosgu\\AppData\\Local\\Temp\\ipykernel_13672\\2488201323.py:9: FutureWarning:\n",
      "\n",
      "The behavior of DataFrame concatenation with empty or all-NA entries is deprecated. In a future version, this will no longer exclude empty or all-NA columns when determining the result dtypes. To retain the old behavior, exclude the relevant entries before the concat operation.\n",
      "\n",
      "C:\\Users\\quirosgu\\AppData\\Local\\Temp\\ipykernel_13672\\2488201323.py:9: FutureWarning:\n",
      "\n",
      "The behavior of DataFrame concatenation with empty or all-NA entries is deprecated. In a future version, this will no longer exclude empty or all-NA columns when determining the result dtypes. To retain the old behavior, exclude the relevant entries before the concat operation.\n",
      "\n",
      "C:\\Users\\quirosgu\\AppData\\Local\\Temp\\ipykernel_13672\\2488201323.py:9: FutureWarning:\n",
      "\n",
      "The behavior of DataFrame concatenation with empty or all-NA entries is deprecated. In a future version, this will no longer exclude empty or all-NA columns when determining the result dtypes. To retain the old behavior, exclude the relevant entries before the concat operation.\n",
      "\n",
      "C:\\Users\\quirosgu\\AppData\\Local\\Temp\\ipykernel_13672\\2488201323.py:9: FutureWarning:\n",
      "\n",
      "The behavior of DataFrame concatenation with empty or all-NA entries is deprecated. In a future version, this will no longer exclude empty or all-NA columns when determining the result dtypes. To retain the old behavior, exclude the relevant entries before the concat operation.\n",
      "\n",
      "C:\\Users\\quirosgu\\AppData\\Local\\Temp\\ipykernel_13672\\2488201323.py:9: FutureWarning:\n",
      "\n",
      "The behavior of DataFrame concatenation with empty or all-NA entries is deprecated. In a future version, this will no longer exclude empty or all-NA columns when determining the result dtypes. To retain the old behavior, exclude the relevant entries before the concat operation.\n",
      "\n",
      "C:\\Users\\quirosgu\\AppData\\Local\\Temp\\ipykernel_13672\\2488201323.py:9: FutureWarning:\n",
      "\n",
      "The behavior of DataFrame concatenation with empty or all-NA entries is deprecated. In a future version, this will no longer exclude empty or all-NA columns when determining the result dtypes. To retain the old behavior, exclude the relevant entries before the concat operation.\n",
      "\n",
      "C:\\Users\\quirosgu\\AppData\\Local\\Temp\\ipykernel_13672\\2488201323.py:9: FutureWarning:\n",
      "\n",
      "The behavior of DataFrame concatenation with empty or all-NA entries is deprecated. In a future version, this will no longer exclude empty or all-NA columns when determining the result dtypes. To retain the old behavior, exclude the relevant entries before the concat operation.\n",
      "\n",
      "C:\\Users\\quirosgu\\AppData\\Local\\Temp\\ipykernel_13672\\2488201323.py:9: FutureWarning:\n",
      "\n",
      "The behavior of DataFrame concatenation with empty or all-NA entries is deprecated. In a future version, this will no longer exclude empty or all-NA columns when determining the result dtypes. To retain the old behavior, exclude the relevant entries before the concat operation.\n",
      "\n",
      "C:\\Users\\quirosgu\\AppData\\Local\\Temp\\ipykernel_13672\\2488201323.py:9: FutureWarning:\n",
      "\n",
      "The behavior of DataFrame concatenation with empty or all-NA entries is deprecated. In a future version, this will no longer exclude empty or all-NA columns when determining the result dtypes. To retain the old behavior, exclude the relevant entries before the concat operation.\n",
      "\n",
      "C:\\Users\\quirosgu\\AppData\\Local\\Temp\\ipykernel_13672\\2488201323.py:9: FutureWarning:\n",
      "\n",
      "The behavior of DataFrame concatenation with empty or all-NA entries is deprecated. In a future version, this will no longer exclude empty or all-NA columns when determining the result dtypes. To retain the old behavior, exclude the relevant entries before the concat operation.\n",
      "\n",
      "C:\\Users\\quirosgu\\AppData\\Local\\Temp\\ipykernel_13672\\2488201323.py:9: FutureWarning:\n",
      "\n",
      "The behavior of DataFrame concatenation with empty or all-NA entries is deprecated. In a future version, this will no longer exclude empty or all-NA columns when determining the result dtypes. To retain the old behavior, exclude the relevant entries before the concat operation.\n",
      "\n",
      "C:\\Users\\quirosgu\\AppData\\Local\\Temp\\ipykernel_13672\\2488201323.py:9: FutureWarning:\n",
      "\n",
      "The behavior of DataFrame concatenation with empty or all-NA entries is deprecated. In a future version, this will no longer exclude empty or all-NA columns when determining the result dtypes. To retain the old behavior, exclude the relevant entries before the concat operation.\n",
      "\n",
      "C:\\Users\\quirosgu\\AppData\\Local\\Temp\\ipykernel_13672\\2488201323.py:9: FutureWarning:\n",
      "\n",
      "The behavior of DataFrame concatenation with empty or all-NA entries is deprecated. In a future version, this will no longer exclude empty or all-NA columns when determining the result dtypes. To retain the old behavior, exclude the relevant entries before the concat operation.\n",
      "\n",
      "C:\\Users\\quirosgu\\AppData\\Local\\Temp\\ipykernel_13672\\2488201323.py:9: FutureWarning:\n",
      "\n",
      "The behavior of DataFrame concatenation with empty or all-NA entries is deprecated. In a future version, this will no longer exclude empty or all-NA columns when determining the result dtypes. To retain the old behavior, exclude the relevant entries before the concat operation.\n",
      "\n",
      "C:\\Users\\quirosgu\\AppData\\Local\\Temp\\ipykernel_13672\\2488201323.py:9: FutureWarning:\n",
      "\n",
      "The behavior of DataFrame concatenation with empty or all-NA entries is deprecated. In a future version, this will no longer exclude empty or all-NA columns when determining the result dtypes. To retain the old behavior, exclude the relevant entries before the concat operation.\n",
      "\n",
      "C:\\Users\\quirosgu\\AppData\\Local\\Temp\\ipykernel_13672\\2488201323.py:9: FutureWarning:\n",
      "\n",
      "The behavior of DataFrame concatenation with empty or all-NA entries is deprecated. In a future version, this will no longer exclude empty or all-NA columns when determining the result dtypes. To retain the old behavior, exclude the relevant entries before the concat operation.\n",
      "\n",
      "C:\\Users\\quirosgu\\AppData\\Local\\Temp\\ipykernel_13672\\2488201323.py:9: FutureWarning:\n",
      "\n",
      "The behavior of DataFrame concatenation with empty or all-NA entries is deprecated. In a future version, this will no longer exclude empty or all-NA columns when determining the result dtypes. To retain the old behavior, exclude the relevant entries before the concat operation.\n",
      "\n",
      "C:\\Users\\quirosgu\\AppData\\Local\\Temp\\ipykernel_13672\\2488201323.py:9: FutureWarning:\n",
      "\n",
      "The behavior of DataFrame concatenation with empty or all-NA entries is deprecated. In a future version, this will no longer exclude empty or all-NA columns when determining the result dtypes. To retain the old behavior, exclude the relevant entries before the concat operation.\n",
      "\n",
      "C:\\Users\\quirosgu\\AppData\\Local\\Temp\\ipykernel_13672\\2488201323.py:9: FutureWarning:\n",
      "\n",
      "The behavior of DataFrame concatenation with empty or all-NA entries is deprecated. In a future version, this will no longer exclude empty or all-NA columns when determining the result dtypes. To retain the old behavior, exclude the relevant entries before the concat operation.\n",
      "\n",
      "C:\\Users\\quirosgu\\AppData\\Local\\Temp\\ipykernel_13672\\2488201323.py:9: FutureWarning:\n",
      "\n",
      "The behavior of DataFrame concatenation with empty or all-NA entries is deprecated. In a future version, this will no longer exclude empty or all-NA columns when determining the result dtypes. To retain the old behavior, exclude the relevant entries before the concat operation.\n",
      "\n",
      "C:\\Users\\quirosgu\\AppData\\Local\\Temp\\ipykernel_13672\\2488201323.py:9: FutureWarning:\n",
      "\n",
      "The behavior of DataFrame concatenation with empty or all-NA entries is deprecated. In a future version, this will no longer exclude empty or all-NA columns when determining the result dtypes. To retain the old behavior, exclude the relevant entries before the concat operation.\n",
      "\n",
      "C:\\Users\\quirosgu\\AppData\\Local\\Temp\\ipykernel_13672\\2488201323.py:9: FutureWarning:\n",
      "\n",
      "The behavior of DataFrame concatenation with empty or all-NA entries is deprecated. In a future version, this will no longer exclude empty or all-NA columns when determining the result dtypes. To retain the old behavior, exclude the relevant entries before the concat operation.\n",
      "\n",
      "C:\\Users\\quirosgu\\AppData\\Local\\Temp\\ipykernel_13672\\2488201323.py:9: FutureWarning:\n",
      "\n",
      "The behavior of DataFrame concatenation with empty or all-NA entries is deprecated. In a future version, this will no longer exclude empty or all-NA columns when determining the result dtypes. To retain the old behavior, exclude the relevant entries before the concat operation.\n",
      "\n",
      "C:\\Users\\quirosgu\\AppData\\Local\\Temp\\ipykernel_13672\\2488201323.py:9: FutureWarning:\n",
      "\n",
      "The behavior of DataFrame concatenation with empty or all-NA entries is deprecated. In a future version, this will no longer exclude empty or all-NA columns when determining the result dtypes. To retain the old behavior, exclude the relevant entries before the concat operation.\n",
      "\n",
      "C:\\Users\\quirosgu\\AppData\\Local\\Temp\\ipykernel_13672\\2488201323.py:9: FutureWarning:\n",
      "\n",
      "The behavior of DataFrame concatenation with empty or all-NA entries is deprecated. In a future version, this will no longer exclude empty or all-NA columns when determining the result dtypes. To retain the old behavior, exclude the relevant entries before the concat operation.\n",
      "\n",
      "C:\\Users\\quirosgu\\AppData\\Local\\Temp\\ipykernel_13672\\2488201323.py:9: FutureWarning:\n",
      "\n",
      "The behavior of DataFrame concatenation with empty or all-NA entries is deprecated. In a future version, this will no longer exclude empty or all-NA columns when determining the result dtypes. To retain the old behavior, exclude the relevant entries before the concat operation.\n",
      "\n",
      "C:\\Users\\quirosgu\\AppData\\Local\\Temp\\ipykernel_13672\\2488201323.py:9: FutureWarning:\n",
      "\n",
      "The behavior of DataFrame concatenation with empty or all-NA entries is deprecated. In a future version, this will no longer exclude empty or all-NA columns when determining the result dtypes. To retain the old behavior, exclude the relevant entries before the concat operation.\n",
      "\n",
      "C:\\Users\\quirosgu\\AppData\\Local\\Temp\\ipykernel_13672\\2488201323.py:9: FutureWarning:\n",
      "\n",
      "The behavior of DataFrame concatenation with empty or all-NA entries is deprecated. In a future version, this will no longer exclude empty or all-NA columns when determining the result dtypes. To retain the old behavior, exclude the relevant entries before the concat operation.\n",
      "\n",
      "C:\\Users\\quirosgu\\AppData\\Local\\Temp\\ipykernel_13672\\2488201323.py:9: FutureWarning:\n",
      "\n",
      "The behavior of DataFrame concatenation with empty or all-NA entries is deprecated. In a future version, this will no longer exclude empty or all-NA columns when determining the result dtypes. To retain the old behavior, exclude the relevant entries before the concat operation.\n",
      "\n",
      "C:\\Users\\quirosgu\\AppData\\Local\\Temp\\ipykernel_13672\\2488201323.py:9: FutureWarning:\n",
      "\n",
      "The behavior of DataFrame concatenation with empty or all-NA entries is deprecated. In a future version, this will no longer exclude empty or all-NA columns when determining the result dtypes. To retain the old behavior, exclude the relevant entries before the concat operation.\n",
      "\n",
      "C:\\Users\\quirosgu\\AppData\\Local\\Temp\\ipykernel_13672\\2488201323.py:9: FutureWarning:\n",
      "\n",
      "The behavior of DataFrame concatenation with empty or all-NA entries is deprecated. In a future version, this will no longer exclude empty or all-NA columns when determining the result dtypes. To retain the old behavior, exclude the relevant entries before the concat operation.\n",
      "\n",
      "C:\\Users\\quirosgu\\AppData\\Local\\Temp\\ipykernel_13672\\2488201323.py:9: FutureWarning:\n",
      "\n",
      "The behavior of DataFrame concatenation with empty or all-NA entries is deprecated. In a future version, this will no longer exclude empty or all-NA columns when determining the result dtypes. To retain the old behavior, exclude the relevant entries before the concat operation.\n",
      "\n",
      "C:\\Users\\quirosgu\\AppData\\Local\\Temp\\ipykernel_13672\\2488201323.py:9: FutureWarning:\n",
      "\n",
      "The behavior of DataFrame concatenation with empty or all-NA entries is deprecated. In a future version, this will no longer exclude empty or all-NA columns when determining the result dtypes. To retain the old behavior, exclude the relevant entries before the concat operation.\n",
      "\n",
      "C:\\Users\\quirosgu\\AppData\\Local\\Temp\\ipykernel_13672\\2488201323.py:9: FutureWarning:\n",
      "\n",
      "The behavior of DataFrame concatenation with empty or all-NA entries is deprecated. In a future version, this will no longer exclude empty or all-NA columns when determining the result dtypes. To retain the old behavior, exclude the relevant entries before the concat operation.\n",
      "\n",
      "C:\\Users\\quirosgu\\AppData\\Local\\Temp\\ipykernel_13672\\2488201323.py:9: FutureWarning:\n",
      "\n",
      "The behavior of DataFrame concatenation with empty or all-NA entries is deprecated. In a future version, this will no longer exclude empty or all-NA columns when determining the result dtypes. To retain the old behavior, exclude the relevant entries before the concat operation.\n",
      "\n",
      "C:\\Users\\quirosgu\\AppData\\Local\\Temp\\ipykernel_13672\\2488201323.py:9: FutureWarning:\n",
      "\n",
      "The behavior of DataFrame concatenation with empty or all-NA entries is deprecated. In a future version, this will no longer exclude empty or all-NA columns when determining the result dtypes. To retain the old behavior, exclude the relevant entries before the concat operation.\n",
      "\n",
      "C:\\Users\\quirosgu\\AppData\\Local\\Temp\\ipykernel_13672\\2488201323.py:9: FutureWarning:\n",
      "\n",
      "The behavior of DataFrame concatenation with empty or all-NA entries is deprecated. In a future version, this will no longer exclude empty or all-NA columns when determining the result dtypes. To retain the old behavior, exclude the relevant entries before the concat operation.\n",
      "\n",
      "C:\\Users\\quirosgu\\AppData\\Local\\Temp\\ipykernel_13672\\2488201323.py:9: FutureWarning:\n",
      "\n",
      "The behavior of DataFrame concatenation with empty or all-NA entries is deprecated. In a future version, this will no longer exclude empty or all-NA columns when determining the result dtypes. To retain the old behavior, exclude the relevant entries before the concat operation.\n",
      "\n",
      "C:\\Users\\quirosgu\\AppData\\Local\\Temp\\ipykernel_13672\\2488201323.py:9: FutureWarning:\n",
      "\n",
      "The behavior of DataFrame concatenation with empty or all-NA entries is deprecated. In a future version, this will no longer exclude empty or all-NA columns when determining the result dtypes. To retain the old behavior, exclude the relevant entries before the concat operation.\n",
      "\n",
      "C:\\Users\\quirosgu\\AppData\\Local\\Temp\\ipykernel_13672\\2488201323.py:9: FutureWarning:\n",
      "\n",
      "The behavior of DataFrame concatenation with empty or all-NA entries is deprecated. In a future version, this will no longer exclude empty or all-NA columns when determining the result dtypes. To retain the old behavior, exclude the relevant entries before the concat operation.\n",
      "\n",
      "C:\\Users\\quirosgu\\AppData\\Local\\Temp\\ipykernel_13672\\2488201323.py:9: FutureWarning:\n",
      "\n",
      "The behavior of DataFrame concatenation with empty or all-NA entries is deprecated. In a future version, this will no longer exclude empty or all-NA columns when determining the result dtypes. To retain the old behavior, exclude the relevant entries before the concat operation.\n",
      "\n",
      "C:\\Users\\quirosgu\\AppData\\Local\\Temp\\ipykernel_13672\\2488201323.py:9: FutureWarning:\n",
      "\n",
      "The behavior of DataFrame concatenation with empty or all-NA entries is deprecated. In a future version, this will no longer exclude empty or all-NA columns when determining the result dtypes. To retain the old behavior, exclude the relevant entries before the concat operation.\n",
      "\n",
      "C:\\Users\\quirosgu\\AppData\\Local\\Temp\\ipykernel_13672\\2488201323.py:9: FutureWarning:\n",
      "\n",
      "The behavior of DataFrame concatenation with empty or all-NA entries is deprecated. In a future version, this will no longer exclude empty or all-NA columns when determining the result dtypes. To retain the old behavior, exclude the relevant entries before the concat operation.\n",
      "\n",
      "C:\\Users\\quirosgu\\AppData\\Local\\Temp\\ipykernel_13672\\2488201323.py:9: FutureWarning:\n",
      "\n",
      "The behavior of DataFrame concatenation with empty or all-NA entries is deprecated. In a future version, this will no longer exclude empty or all-NA columns when determining the result dtypes. To retain the old behavior, exclude the relevant entries before the concat operation.\n",
      "\n",
      "C:\\Users\\quirosgu\\AppData\\Local\\Temp\\ipykernel_13672\\2488201323.py:9: FutureWarning:\n",
      "\n",
      "The behavior of DataFrame concatenation with empty or all-NA entries is deprecated. In a future version, this will no longer exclude empty or all-NA columns when determining the result dtypes. To retain the old behavior, exclude the relevant entries before the concat operation.\n",
      "\n",
      "C:\\Users\\quirosgu\\AppData\\Local\\Temp\\ipykernel_13672\\2488201323.py:9: FutureWarning:\n",
      "\n",
      "The behavior of DataFrame concatenation with empty or all-NA entries is deprecated. In a future version, this will no longer exclude empty or all-NA columns when determining the result dtypes. To retain the old behavior, exclude the relevant entries before the concat operation.\n",
      "\n",
      "C:\\Users\\quirosgu\\AppData\\Local\\Temp\\ipykernel_13672\\2488201323.py:9: FutureWarning:\n",
      "\n",
      "The behavior of DataFrame concatenation with empty or all-NA entries is deprecated. In a future version, this will no longer exclude empty or all-NA columns when determining the result dtypes. To retain the old behavior, exclude the relevant entries before the concat operation.\n",
      "\n",
      "C:\\Users\\quirosgu\\AppData\\Local\\Temp\\ipykernel_13672\\2488201323.py:9: FutureWarning:\n",
      "\n",
      "The behavior of DataFrame concatenation with empty or all-NA entries is deprecated. In a future version, this will no longer exclude empty or all-NA columns when determining the result dtypes. To retain the old behavior, exclude the relevant entries before the concat operation.\n",
      "\n",
      "C:\\Users\\quirosgu\\AppData\\Local\\Temp\\ipykernel_13672\\2488201323.py:9: FutureWarning:\n",
      "\n",
      "The behavior of DataFrame concatenation with empty or all-NA entries is deprecated. In a future version, this will no longer exclude empty or all-NA columns when determining the result dtypes. To retain the old behavior, exclude the relevant entries before the concat operation.\n",
      "\n",
      "C:\\Users\\quirosgu\\AppData\\Local\\Temp\\ipykernel_13672\\2488201323.py:9: FutureWarning:\n",
      "\n",
      "The behavior of DataFrame concatenation with empty or all-NA entries is deprecated. In a future version, this will no longer exclude empty or all-NA columns when determining the result dtypes. To retain the old behavior, exclude the relevant entries before the concat operation.\n",
      "\n",
      "C:\\Users\\quirosgu\\AppData\\Local\\Temp\\ipykernel_13672\\2488201323.py:9: FutureWarning:\n",
      "\n",
      "The behavior of DataFrame concatenation with empty or all-NA entries is deprecated. In a future version, this will no longer exclude empty or all-NA columns when determining the result dtypes. To retain the old behavior, exclude the relevant entries before the concat operation.\n",
      "\n",
      "C:\\Users\\quirosgu\\AppData\\Local\\Temp\\ipykernel_13672\\2488201323.py:9: FutureWarning:\n",
      "\n",
      "The behavior of DataFrame concatenation with empty or all-NA entries is deprecated. In a future version, this will no longer exclude empty or all-NA columns when determining the result dtypes. To retain the old behavior, exclude the relevant entries before the concat operation.\n",
      "\n",
      "C:\\Users\\quirosgu\\AppData\\Local\\Temp\\ipykernel_13672\\2488201323.py:9: FutureWarning:\n",
      "\n",
      "The behavior of DataFrame concatenation with empty or all-NA entries is deprecated. In a future version, this will no longer exclude empty or all-NA columns when determining the result dtypes. To retain the old behavior, exclude the relevant entries before the concat operation.\n",
      "\n",
      "C:\\Users\\quirosgu\\AppData\\Local\\Temp\\ipykernel_13672\\2488201323.py:9: FutureWarning:\n",
      "\n",
      "The behavior of DataFrame concatenation with empty or all-NA entries is deprecated. In a future version, this will no longer exclude empty or all-NA columns when determining the result dtypes. To retain the old behavior, exclude the relevant entries before the concat operation.\n",
      "\n",
      "C:\\Users\\quirosgu\\AppData\\Local\\Temp\\ipykernel_13672\\2488201323.py:9: FutureWarning:\n",
      "\n",
      "The behavior of DataFrame concatenation with empty or all-NA entries is deprecated. In a future version, this will no longer exclude empty or all-NA columns when determining the result dtypes. To retain the old behavior, exclude the relevant entries before the concat operation.\n",
      "\n",
      "C:\\Users\\quirosgu\\AppData\\Local\\Temp\\ipykernel_13672\\2488201323.py:9: FutureWarning:\n",
      "\n",
      "The behavior of DataFrame concatenation with empty or all-NA entries is deprecated. In a future version, this will no longer exclude empty or all-NA columns when determining the result dtypes. To retain the old behavior, exclude the relevant entries before the concat operation.\n",
      "\n",
      "C:\\Users\\quirosgu\\AppData\\Local\\Temp\\ipykernel_13672\\2488201323.py:9: FutureWarning:\n",
      "\n",
      "The behavior of DataFrame concatenation with empty or all-NA entries is deprecated. In a future version, this will no longer exclude empty or all-NA columns when determining the result dtypes. To retain the old behavior, exclude the relevant entries before the concat operation.\n",
      "\n",
      "C:\\Users\\quirosgu\\AppData\\Local\\Temp\\ipykernel_13672\\2488201323.py:9: FutureWarning:\n",
      "\n",
      "The behavior of DataFrame concatenation with empty or all-NA entries is deprecated. In a future version, this will no longer exclude empty or all-NA columns when determining the result dtypes. To retain the old behavior, exclude the relevant entries before the concat operation.\n",
      "\n",
      "C:\\Users\\quirosgu\\AppData\\Local\\Temp\\ipykernel_13672\\2488201323.py:9: FutureWarning:\n",
      "\n",
      "The behavior of DataFrame concatenation with empty or all-NA entries is deprecated. In a future version, this will no longer exclude empty or all-NA columns when determining the result dtypes. To retain the old behavior, exclude the relevant entries before the concat operation.\n",
      "\n",
      "C:\\Users\\quirosgu\\AppData\\Local\\Temp\\ipykernel_13672\\2488201323.py:9: FutureWarning:\n",
      "\n",
      "The behavior of DataFrame concatenation with empty or all-NA entries is deprecated. In a future version, this will no longer exclude empty or all-NA columns when determining the result dtypes. To retain the old behavior, exclude the relevant entries before the concat operation.\n",
      "\n",
      "C:\\Users\\quirosgu\\AppData\\Local\\Temp\\ipykernel_13672\\2488201323.py:9: FutureWarning:\n",
      "\n",
      "The behavior of DataFrame concatenation with empty or all-NA entries is deprecated. In a future version, this will no longer exclude empty or all-NA columns when determining the result dtypes. To retain the old behavior, exclude the relevant entries before the concat operation.\n",
      "\n",
      "C:\\Users\\quirosgu\\AppData\\Local\\Temp\\ipykernel_13672\\2488201323.py:9: FutureWarning:\n",
      "\n",
      "The behavior of DataFrame concatenation with empty or all-NA entries is deprecated. In a future version, this will no longer exclude empty or all-NA columns when determining the result dtypes. To retain the old behavior, exclude the relevant entries before the concat operation.\n",
      "\n",
      "C:\\Users\\quirosgu\\AppData\\Local\\Temp\\ipykernel_13672\\2488201323.py:9: FutureWarning:\n",
      "\n",
      "The behavior of DataFrame concatenation with empty or all-NA entries is deprecated. In a future version, this will no longer exclude empty or all-NA columns when determining the result dtypes. To retain the old behavior, exclude the relevant entries before the concat operation.\n",
      "\n",
      "C:\\Users\\quirosgu\\AppData\\Local\\Temp\\ipykernel_13672\\2488201323.py:9: FutureWarning:\n",
      "\n",
      "The behavior of DataFrame concatenation with empty or all-NA entries is deprecated. In a future version, this will no longer exclude empty or all-NA columns when determining the result dtypes. To retain the old behavior, exclude the relevant entries before the concat operation.\n",
      "\n",
      "C:\\Users\\quirosgu\\AppData\\Local\\Temp\\ipykernel_13672\\2488201323.py:9: FutureWarning:\n",
      "\n",
      "The behavior of DataFrame concatenation with empty or all-NA entries is deprecated. In a future version, this will no longer exclude empty or all-NA columns when determining the result dtypes. To retain the old behavior, exclude the relevant entries before the concat operation.\n",
      "\n",
      "C:\\Users\\quirosgu\\AppData\\Local\\Temp\\ipykernel_13672\\2488201323.py:9: FutureWarning:\n",
      "\n",
      "The behavior of DataFrame concatenation with empty or all-NA entries is deprecated. In a future version, this will no longer exclude empty or all-NA columns when determining the result dtypes. To retain the old behavior, exclude the relevant entries before the concat operation.\n",
      "\n",
      "C:\\Users\\quirosgu\\AppData\\Local\\Temp\\ipykernel_13672\\2488201323.py:9: FutureWarning:\n",
      "\n",
      "The behavior of DataFrame concatenation with empty or all-NA entries is deprecated. In a future version, this will no longer exclude empty or all-NA columns when determining the result dtypes. To retain the old behavior, exclude the relevant entries before the concat operation.\n",
      "\n",
      "C:\\Users\\quirosgu\\AppData\\Local\\Temp\\ipykernel_13672\\2488201323.py:9: FutureWarning:\n",
      "\n",
      "The behavior of DataFrame concatenation with empty or all-NA entries is deprecated. In a future version, this will no longer exclude empty or all-NA columns when determining the result dtypes. To retain the old behavior, exclude the relevant entries before the concat operation.\n",
      "\n",
      "C:\\Users\\quirosgu\\AppData\\Local\\Temp\\ipykernel_13672\\2488201323.py:9: FutureWarning:\n",
      "\n",
      "The behavior of DataFrame concatenation with empty or all-NA entries is deprecated. In a future version, this will no longer exclude empty or all-NA columns when determining the result dtypes. To retain the old behavior, exclude the relevant entries before the concat operation.\n",
      "\n",
      "C:\\Users\\quirosgu\\AppData\\Local\\Temp\\ipykernel_13672\\2488201323.py:9: FutureWarning:\n",
      "\n",
      "The behavior of DataFrame concatenation with empty or all-NA entries is deprecated. In a future version, this will no longer exclude empty or all-NA columns when determining the result dtypes. To retain the old behavior, exclude the relevant entries before the concat operation.\n",
      "\n",
      "C:\\Users\\quirosgu\\AppData\\Local\\Temp\\ipykernel_13672\\2488201323.py:9: FutureWarning:\n",
      "\n",
      "The behavior of DataFrame concatenation with empty or all-NA entries is deprecated. In a future version, this will no longer exclude empty or all-NA columns when determining the result dtypes. To retain the old behavior, exclude the relevant entries before the concat operation.\n",
      "\n",
      "C:\\Users\\quirosgu\\AppData\\Local\\Temp\\ipykernel_13672\\2488201323.py:9: FutureWarning:\n",
      "\n",
      "The behavior of DataFrame concatenation with empty or all-NA entries is deprecated. In a future version, this will no longer exclude empty or all-NA columns when determining the result dtypes. To retain the old behavior, exclude the relevant entries before the concat operation.\n",
      "\n",
      "C:\\Users\\quirosgu\\AppData\\Local\\Temp\\ipykernel_13672\\2488201323.py:9: FutureWarning:\n",
      "\n",
      "The behavior of DataFrame concatenation with empty or all-NA entries is deprecated. In a future version, this will no longer exclude empty or all-NA columns when determining the result dtypes. To retain the old behavior, exclude the relevant entries before the concat operation.\n",
      "\n",
      "C:\\Users\\quirosgu\\AppData\\Local\\Temp\\ipykernel_13672\\2488201323.py:9: FutureWarning:\n",
      "\n",
      "The behavior of DataFrame concatenation with empty or all-NA entries is deprecated. In a future version, this will no longer exclude empty or all-NA columns when determining the result dtypes. To retain the old behavior, exclude the relevant entries before the concat operation.\n",
      "\n",
      "C:\\Users\\quirosgu\\AppData\\Local\\Temp\\ipykernel_13672\\2488201323.py:9: FutureWarning:\n",
      "\n",
      "The behavior of DataFrame concatenation with empty or all-NA entries is deprecated. In a future version, this will no longer exclude empty or all-NA columns when determining the result dtypes. To retain the old behavior, exclude the relevant entries before the concat operation.\n",
      "\n",
      "C:\\Users\\quirosgu\\AppData\\Local\\Temp\\ipykernel_13672\\2488201323.py:9: FutureWarning:\n",
      "\n",
      "The behavior of DataFrame concatenation with empty or all-NA entries is deprecated. In a future version, this will no longer exclude empty or all-NA columns when determining the result dtypes. To retain the old behavior, exclude the relevant entries before the concat operation.\n",
      "\n",
      "C:\\Users\\quirosgu\\AppData\\Local\\Temp\\ipykernel_13672\\2488201323.py:9: FutureWarning:\n",
      "\n",
      "The behavior of DataFrame concatenation with empty or all-NA entries is deprecated. In a future version, this will no longer exclude empty or all-NA columns when determining the result dtypes. To retain the old behavior, exclude the relevant entries before the concat operation.\n",
      "\n",
      "C:\\Users\\quirosgu\\AppData\\Local\\Temp\\ipykernel_13672\\2488201323.py:9: FutureWarning:\n",
      "\n",
      "The behavior of DataFrame concatenation with empty or all-NA entries is deprecated. In a future version, this will no longer exclude empty or all-NA columns when determining the result dtypes. To retain the old behavior, exclude the relevant entries before the concat operation.\n",
      "\n",
      "C:\\Users\\quirosgu\\AppData\\Local\\Temp\\ipykernel_13672\\2488201323.py:9: FutureWarning:\n",
      "\n",
      "The behavior of DataFrame concatenation with empty or all-NA entries is deprecated. In a future version, this will no longer exclude empty or all-NA columns when determining the result dtypes. To retain the old behavior, exclude the relevant entries before the concat operation.\n",
      "\n",
      "C:\\Users\\quirosgu\\AppData\\Local\\Temp\\ipykernel_13672\\2488201323.py:9: FutureWarning:\n",
      "\n",
      "The behavior of DataFrame concatenation with empty or all-NA entries is deprecated. In a future version, this will no longer exclude empty or all-NA columns when determining the result dtypes. To retain the old behavior, exclude the relevant entries before the concat operation.\n",
      "\n",
      "C:\\Users\\quirosgu\\AppData\\Local\\Temp\\ipykernel_13672\\2488201323.py:9: FutureWarning:\n",
      "\n",
      "The behavior of DataFrame concatenation with empty or all-NA entries is deprecated. In a future version, this will no longer exclude empty or all-NA columns when determining the result dtypes. To retain the old behavior, exclude the relevant entries before the concat operation.\n",
      "\n",
      "C:\\Users\\quirosgu\\AppData\\Local\\Temp\\ipykernel_13672\\2488201323.py:9: FutureWarning:\n",
      "\n",
      "The behavior of DataFrame concatenation with empty or all-NA entries is deprecated. In a future version, this will no longer exclude empty or all-NA columns when determining the result dtypes. To retain the old behavior, exclude the relevant entries before the concat operation.\n",
      "\n",
      "C:\\Users\\quirosgu\\AppData\\Local\\Temp\\ipykernel_13672\\2488201323.py:9: FutureWarning:\n",
      "\n",
      "The behavior of DataFrame concatenation with empty or all-NA entries is deprecated. In a future version, this will no longer exclude empty or all-NA columns when determining the result dtypes. To retain the old behavior, exclude the relevant entries before the concat operation.\n",
      "\n",
      "C:\\Users\\quirosgu\\AppData\\Local\\Temp\\ipykernel_13672\\2488201323.py:9: FutureWarning:\n",
      "\n",
      "The behavior of DataFrame concatenation with empty or all-NA entries is deprecated. In a future version, this will no longer exclude empty or all-NA columns when determining the result dtypes. To retain the old behavior, exclude the relevant entries before the concat operation.\n",
      "\n",
      "C:\\Users\\quirosgu\\AppData\\Local\\Temp\\ipykernel_13672\\2488201323.py:9: FutureWarning:\n",
      "\n",
      "The behavior of DataFrame concatenation with empty or all-NA entries is deprecated. In a future version, this will no longer exclude empty or all-NA columns when determining the result dtypes. To retain the old behavior, exclude the relevant entries before the concat operation.\n",
      "\n",
      "C:\\Users\\quirosgu\\AppData\\Local\\Temp\\ipykernel_13672\\2488201323.py:9: FutureWarning:\n",
      "\n",
      "The behavior of DataFrame concatenation with empty or all-NA entries is deprecated. In a future version, this will no longer exclude empty or all-NA columns when determining the result dtypes. To retain the old behavior, exclude the relevant entries before the concat operation.\n",
      "\n",
      "C:\\Users\\quirosgu\\AppData\\Local\\Temp\\ipykernel_13672\\2488201323.py:9: FutureWarning:\n",
      "\n",
      "The behavior of DataFrame concatenation with empty or all-NA entries is deprecated. In a future version, this will no longer exclude empty or all-NA columns when determining the result dtypes. To retain the old behavior, exclude the relevant entries before the concat operation.\n",
      "\n",
      "C:\\Users\\quirosgu\\AppData\\Local\\Temp\\ipykernel_13672\\2488201323.py:9: FutureWarning:\n",
      "\n",
      "The behavior of DataFrame concatenation with empty or all-NA entries is deprecated. In a future version, this will no longer exclude empty or all-NA columns when determining the result dtypes. To retain the old behavior, exclude the relevant entries before the concat operation.\n",
      "\n",
      "C:\\Users\\quirosgu\\AppData\\Local\\Temp\\ipykernel_13672\\2488201323.py:9: FutureWarning:\n",
      "\n",
      "The behavior of DataFrame concatenation with empty or all-NA entries is deprecated. In a future version, this will no longer exclude empty or all-NA columns when determining the result dtypes. To retain the old behavior, exclude the relevant entries before the concat operation.\n",
      "\n",
      "C:\\Users\\quirosgu\\AppData\\Local\\Temp\\ipykernel_13672\\2488201323.py:9: FutureWarning:\n",
      "\n",
      "The behavior of DataFrame concatenation with empty or all-NA entries is deprecated. In a future version, this will no longer exclude empty or all-NA columns when determining the result dtypes. To retain the old behavior, exclude the relevant entries before the concat operation.\n",
      "\n",
      "C:\\Users\\quirosgu\\AppData\\Local\\Temp\\ipykernel_13672\\2488201323.py:9: FutureWarning:\n",
      "\n",
      "The behavior of DataFrame concatenation with empty or all-NA entries is deprecated. In a future version, this will no longer exclude empty or all-NA columns when determining the result dtypes. To retain the old behavior, exclude the relevant entries before the concat operation.\n",
      "\n",
      "C:\\Users\\quirosgu\\AppData\\Local\\Temp\\ipykernel_13672\\2488201323.py:9: FutureWarning:\n",
      "\n",
      "The behavior of DataFrame concatenation with empty or all-NA entries is deprecated. In a future version, this will no longer exclude empty or all-NA columns when determining the result dtypes. To retain the old behavior, exclude the relevant entries before the concat operation.\n",
      "\n",
      "C:\\Users\\quirosgu\\AppData\\Local\\Temp\\ipykernel_13672\\2488201323.py:9: FutureWarning:\n",
      "\n",
      "The behavior of DataFrame concatenation with empty or all-NA entries is deprecated. In a future version, this will no longer exclude empty or all-NA columns when determining the result dtypes. To retain the old behavior, exclude the relevant entries before the concat operation.\n",
      "\n",
      "C:\\Users\\quirosgu\\AppData\\Local\\Temp\\ipykernel_13672\\2488201323.py:9: FutureWarning:\n",
      "\n",
      "The behavior of DataFrame concatenation with empty or all-NA entries is deprecated. In a future version, this will no longer exclude empty or all-NA columns when determining the result dtypes. To retain the old behavior, exclude the relevant entries before the concat operation.\n",
      "\n",
      "C:\\Users\\quirosgu\\AppData\\Local\\Temp\\ipykernel_13672\\2488201323.py:9: FutureWarning:\n",
      "\n",
      "The behavior of DataFrame concatenation with empty or all-NA entries is deprecated. In a future version, this will no longer exclude empty or all-NA columns when determining the result dtypes. To retain the old behavior, exclude the relevant entries before the concat operation.\n",
      "\n",
      "C:\\Users\\quirosgu\\AppData\\Local\\Temp\\ipykernel_13672\\2488201323.py:9: FutureWarning:\n",
      "\n",
      "The behavior of DataFrame concatenation with empty or all-NA entries is deprecated. In a future version, this will no longer exclude empty or all-NA columns when determining the result dtypes. To retain the old behavior, exclude the relevant entries before the concat operation.\n",
      "\n",
      "C:\\Users\\quirosgu\\AppData\\Local\\Temp\\ipykernel_13672\\2488201323.py:9: FutureWarning:\n",
      "\n",
      "The behavior of DataFrame concatenation with empty or all-NA entries is deprecated. In a future version, this will no longer exclude empty or all-NA columns when determining the result dtypes. To retain the old behavior, exclude the relevant entries before the concat operation.\n",
      "\n",
      "C:\\Users\\quirosgu\\AppData\\Local\\Temp\\ipykernel_13672\\2488201323.py:9: FutureWarning:\n",
      "\n",
      "The behavior of DataFrame concatenation with empty or all-NA entries is deprecated. In a future version, this will no longer exclude empty or all-NA columns when determining the result dtypes. To retain the old behavior, exclude the relevant entries before the concat operation.\n",
      "\n",
      "C:\\Users\\quirosgu\\AppData\\Local\\Temp\\ipykernel_13672\\2488201323.py:9: FutureWarning:\n",
      "\n",
      "The behavior of DataFrame concatenation with empty or all-NA entries is deprecated. In a future version, this will no longer exclude empty or all-NA columns when determining the result dtypes. To retain the old behavior, exclude the relevant entries before the concat operation.\n",
      "\n",
      "C:\\Users\\quirosgu\\AppData\\Local\\Temp\\ipykernel_13672\\2488201323.py:9: FutureWarning:\n",
      "\n",
      "The behavior of DataFrame concatenation with empty or all-NA entries is deprecated. In a future version, this will no longer exclude empty or all-NA columns when determining the result dtypes. To retain the old behavior, exclude the relevant entries before the concat operation.\n",
      "\n",
      "C:\\Users\\quirosgu\\AppData\\Local\\Temp\\ipykernel_13672\\2488201323.py:9: FutureWarning:\n",
      "\n",
      "The behavior of DataFrame concatenation with empty or all-NA entries is deprecated. In a future version, this will no longer exclude empty or all-NA columns when determining the result dtypes. To retain the old behavior, exclude the relevant entries before the concat operation.\n",
      "\n",
      "C:\\Users\\quirosgu\\AppData\\Local\\Temp\\ipykernel_13672\\2488201323.py:9: FutureWarning:\n",
      "\n",
      "The behavior of DataFrame concatenation with empty or all-NA entries is deprecated. In a future version, this will no longer exclude empty or all-NA columns when determining the result dtypes. To retain the old behavior, exclude the relevant entries before the concat operation.\n",
      "\n",
      "C:\\Users\\quirosgu\\AppData\\Local\\Temp\\ipykernel_13672\\2488201323.py:9: FutureWarning:\n",
      "\n",
      "The behavior of DataFrame concatenation with empty or all-NA entries is deprecated. In a future version, this will no longer exclude empty or all-NA columns when determining the result dtypes. To retain the old behavior, exclude the relevant entries before the concat operation.\n",
      "\n",
      "C:\\Users\\quirosgu\\AppData\\Local\\Temp\\ipykernel_13672\\2488201323.py:9: FutureWarning:\n",
      "\n",
      "The behavior of DataFrame concatenation with empty or all-NA entries is deprecated. In a future version, this will no longer exclude empty or all-NA columns when determining the result dtypes. To retain the old behavior, exclude the relevant entries before the concat operation.\n",
      "\n",
      "C:\\Users\\quirosgu\\AppData\\Local\\Temp\\ipykernel_13672\\2488201323.py:9: FutureWarning:\n",
      "\n",
      "The behavior of DataFrame concatenation with empty or all-NA entries is deprecated. In a future version, this will no longer exclude empty or all-NA columns when determining the result dtypes. To retain the old behavior, exclude the relevant entries before the concat operation.\n",
      "\n",
      "C:\\Users\\quirosgu\\AppData\\Local\\Temp\\ipykernel_13672\\2488201323.py:9: FutureWarning:\n",
      "\n",
      "The behavior of DataFrame concatenation with empty or all-NA entries is deprecated. In a future version, this will no longer exclude empty or all-NA columns when determining the result dtypes. To retain the old behavior, exclude the relevant entries before the concat operation.\n",
      "\n",
      "C:\\Users\\quirosgu\\AppData\\Local\\Temp\\ipykernel_13672\\2488201323.py:9: FutureWarning:\n",
      "\n",
      "The behavior of DataFrame concatenation with empty or all-NA entries is deprecated. In a future version, this will no longer exclude empty or all-NA columns when determining the result dtypes. To retain the old behavior, exclude the relevant entries before the concat operation.\n",
      "\n",
      "C:\\Users\\quirosgu\\AppData\\Local\\Temp\\ipykernel_13672\\2488201323.py:9: FutureWarning:\n",
      "\n",
      "The behavior of DataFrame concatenation with empty or all-NA entries is deprecated. In a future version, this will no longer exclude empty or all-NA columns when determining the result dtypes. To retain the old behavior, exclude the relevant entries before the concat operation.\n",
      "\n",
      "C:\\Users\\quirosgu\\AppData\\Local\\Temp\\ipykernel_13672\\2488201323.py:9: FutureWarning:\n",
      "\n",
      "The behavior of DataFrame concatenation with empty or all-NA entries is deprecated. In a future version, this will no longer exclude empty or all-NA columns when determining the result dtypes. To retain the old behavior, exclude the relevant entries before the concat operation.\n",
      "\n",
      "C:\\Users\\quirosgu\\AppData\\Local\\Temp\\ipykernel_13672\\2488201323.py:9: FutureWarning:\n",
      "\n",
      "The behavior of DataFrame concatenation with empty or all-NA entries is deprecated. In a future version, this will no longer exclude empty or all-NA columns when determining the result dtypes. To retain the old behavior, exclude the relevant entries before the concat operation.\n",
      "\n",
      "C:\\Users\\quirosgu\\AppData\\Local\\Temp\\ipykernel_13672\\2488201323.py:9: FutureWarning:\n",
      "\n",
      "The behavior of DataFrame concatenation with empty or all-NA entries is deprecated. In a future version, this will no longer exclude empty or all-NA columns when determining the result dtypes. To retain the old behavior, exclude the relevant entries before the concat operation.\n",
      "\n",
      "C:\\Users\\quirosgu\\AppData\\Local\\Temp\\ipykernel_13672\\2488201323.py:9: FutureWarning:\n",
      "\n",
      "The behavior of DataFrame concatenation with empty or all-NA entries is deprecated. In a future version, this will no longer exclude empty or all-NA columns when determining the result dtypes. To retain the old behavior, exclude the relevant entries before the concat operation.\n",
      "\n",
      "C:\\Users\\quirosgu\\AppData\\Local\\Temp\\ipykernel_13672\\2488201323.py:9: FutureWarning:\n",
      "\n",
      "The behavior of DataFrame concatenation with empty or all-NA entries is deprecated. In a future version, this will no longer exclude empty or all-NA columns when determining the result dtypes. To retain the old behavior, exclude the relevant entries before the concat operation.\n",
      "\n",
      "C:\\Users\\quirosgu\\AppData\\Local\\Temp\\ipykernel_13672\\2488201323.py:9: FutureWarning:\n",
      "\n",
      "The behavior of DataFrame concatenation with empty or all-NA entries is deprecated. In a future version, this will no longer exclude empty or all-NA columns when determining the result dtypes. To retain the old behavior, exclude the relevant entries before the concat operation.\n",
      "\n",
      "C:\\Users\\quirosgu\\AppData\\Local\\Temp\\ipykernel_13672\\2488201323.py:9: FutureWarning:\n",
      "\n",
      "The behavior of DataFrame concatenation with empty or all-NA entries is deprecated. In a future version, this will no longer exclude empty or all-NA columns when determining the result dtypes. To retain the old behavior, exclude the relevant entries before the concat operation.\n",
      "\n",
      "C:\\Users\\quirosgu\\AppData\\Local\\Temp\\ipykernel_13672\\2488201323.py:9: FutureWarning:\n",
      "\n",
      "The behavior of DataFrame concatenation with empty or all-NA entries is deprecated. In a future version, this will no longer exclude empty or all-NA columns when determining the result dtypes. To retain the old behavior, exclude the relevant entries before the concat operation.\n",
      "\n",
      "C:\\Users\\quirosgu\\AppData\\Local\\Temp\\ipykernel_13672\\2488201323.py:9: FutureWarning:\n",
      "\n",
      "The behavior of DataFrame concatenation with empty or all-NA entries is deprecated. In a future version, this will no longer exclude empty or all-NA columns when determining the result dtypes. To retain the old behavior, exclude the relevant entries before the concat operation.\n",
      "\n",
      "C:\\Users\\quirosgu\\AppData\\Local\\Temp\\ipykernel_13672\\2488201323.py:9: FutureWarning:\n",
      "\n",
      "The behavior of DataFrame concatenation with empty or all-NA entries is deprecated. In a future version, this will no longer exclude empty or all-NA columns when determining the result dtypes. To retain the old behavior, exclude the relevant entries before the concat operation.\n",
      "\n",
      "C:\\Users\\quirosgu\\AppData\\Local\\Temp\\ipykernel_13672\\2488201323.py:9: FutureWarning:\n",
      "\n",
      "The behavior of DataFrame concatenation with empty or all-NA entries is deprecated. In a future version, this will no longer exclude empty or all-NA columns when determining the result dtypes. To retain the old behavior, exclude the relevant entries before the concat operation.\n",
      "\n",
      "C:\\Users\\quirosgu\\AppData\\Local\\Temp\\ipykernel_13672\\2488201323.py:9: FutureWarning:\n",
      "\n",
      "The behavior of DataFrame concatenation with empty or all-NA entries is deprecated. In a future version, this will no longer exclude empty or all-NA columns when determining the result dtypes. To retain the old behavior, exclude the relevant entries before the concat operation.\n",
      "\n",
      "C:\\Users\\quirosgu\\AppData\\Local\\Temp\\ipykernel_13672\\2488201323.py:9: FutureWarning:\n",
      "\n",
      "The behavior of DataFrame concatenation with empty or all-NA entries is deprecated. In a future version, this will no longer exclude empty or all-NA columns when determining the result dtypes. To retain the old behavior, exclude the relevant entries before the concat operation.\n",
      "\n",
      "C:\\Users\\quirosgu\\AppData\\Local\\Temp\\ipykernel_13672\\2488201323.py:9: FutureWarning:\n",
      "\n",
      "The behavior of DataFrame concatenation with empty or all-NA entries is deprecated. In a future version, this will no longer exclude empty or all-NA columns when determining the result dtypes. To retain the old behavior, exclude the relevant entries before the concat operation.\n",
      "\n",
      "C:\\Users\\quirosgu\\AppData\\Local\\Temp\\ipykernel_13672\\2488201323.py:9: FutureWarning:\n",
      "\n",
      "The behavior of DataFrame concatenation with empty or all-NA entries is deprecated. In a future version, this will no longer exclude empty or all-NA columns when determining the result dtypes. To retain the old behavior, exclude the relevant entries before the concat operation.\n",
      "\n",
      "C:\\Users\\quirosgu\\AppData\\Local\\Temp\\ipykernel_13672\\2488201323.py:9: FutureWarning:\n",
      "\n",
      "The behavior of DataFrame concatenation with empty or all-NA entries is deprecated. In a future version, this will no longer exclude empty or all-NA columns when determining the result dtypes. To retain the old behavior, exclude the relevant entries before the concat operation.\n",
      "\n",
      "C:\\Users\\quirosgu\\AppData\\Local\\Temp\\ipykernel_13672\\2488201323.py:9: FutureWarning:\n",
      "\n",
      "The behavior of DataFrame concatenation with empty or all-NA entries is deprecated. In a future version, this will no longer exclude empty or all-NA columns when determining the result dtypes. To retain the old behavior, exclude the relevant entries before the concat operation.\n",
      "\n",
      "C:\\Users\\quirosgu\\AppData\\Local\\Temp\\ipykernel_13672\\2488201323.py:9: FutureWarning:\n",
      "\n",
      "The behavior of DataFrame concatenation with empty or all-NA entries is deprecated. In a future version, this will no longer exclude empty or all-NA columns when determining the result dtypes. To retain the old behavior, exclude the relevant entries before the concat operation.\n",
      "\n",
      "C:\\Users\\quirosgu\\AppData\\Local\\Temp\\ipykernel_13672\\2488201323.py:9: FutureWarning:\n",
      "\n",
      "The behavior of DataFrame concatenation with empty or all-NA entries is deprecated. In a future version, this will no longer exclude empty or all-NA columns when determining the result dtypes. To retain the old behavior, exclude the relevant entries before the concat operation.\n",
      "\n",
      "C:\\Users\\quirosgu\\AppData\\Local\\Temp\\ipykernel_13672\\2488201323.py:9: FutureWarning:\n",
      "\n",
      "The behavior of DataFrame concatenation with empty or all-NA entries is deprecated. In a future version, this will no longer exclude empty or all-NA columns when determining the result dtypes. To retain the old behavior, exclude the relevant entries before the concat operation.\n",
      "\n",
      "C:\\Users\\quirosgu\\AppData\\Local\\Temp\\ipykernel_13672\\2488201323.py:9: FutureWarning:\n",
      "\n",
      "The behavior of DataFrame concatenation with empty or all-NA entries is deprecated. In a future version, this will no longer exclude empty or all-NA columns when determining the result dtypes. To retain the old behavior, exclude the relevant entries before the concat operation.\n",
      "\n",
      "C:\\Users\\quirosgu\\AppData\\Local\\Temp\\ipykernel_13672\\2488201323.py:9: FutureWarning:\n",
      "\n",
      "The behavior of DataFrame concatenation with empty or all-NA entries is deprecated. In a future version, this will no longer exclude empty or all-NA columns when determining the result dtypes. To retain the old behavior, exclude the relevant entries before the concat operation.\n",
      "\n",
      "C:\\Users\\quirosgu\\AppData\\Local\\Temp\\ipykernel_13672\\2488201323.py:9: FutureWarning:\n",
      "\n",
      "The behavior of DataFrame concatenation with empty or all-NA entries is deprecated. In a future version, this will no longer exclude empty or all-NA columns when determining the result dtypes. To retain the old behavior, exclude the relevant entries before the concat operation.\n",
      "\n",
      "C:\\Users\\quirosgu\\AppData\\Local\\Temp\\ipykernel_13672\\2488201323.py:9: FutureWarning:\n",
      "\n",
      "The behavior of DataFrame concatenation with empty or all-NA entries is deprecated. In a future version, this will no longer exclude empty or all-NA columns when determining the result dtypes. To retain the old behavior, exclude the relevant entries before the concat operation.\n",
      "\n",
      "C:\\Users\\quirosgu\\AppData\\Local\\Temp\\ipykernel_13672\\2488201323.py:9: FutureWarning:\n",
      "\n",
      "The behavior of DataFrame concatenation with empty or all-NA entries is deprecated. In a future version, this will no longer exclude empty or all-NA columns when determining the result dtypes. To retain the old behavior, exclude the relevant entries before the concat operation.\n",
      "\n",
      "C:\\Users\\quirosgu\\AppData\\Local\\Temp\\ipykernel_13672\\2488201323.py:9: FutureWarning:\n",
      "\n",
      "The behavior of DataFrame concatenation with empty or all-NA entries is deprecated. In a future version, this will no longer exclude empty or all-NA columns when determining the result dtypes. To retain the old behavior, exclude the relevant entries before the concat operation.\n",
      "\n",
      "C:\\Users\\quirosgu\\AppData\\Local\\Temp\\ipykernel_13672\\2488201323.py:9: FutureWarning:\n",
      "\n",
      "The behavior of DataFrame concatenation with empty or all-NA entries is deprecated. In a future version, this will no longer exclude empty or all-NA columns when determining the result dtypes. To retain the old behavior, exclude the relevant entries before the concat operation.\n",
      "\n",
      "C:\\Users\\quirosgu\\AppData\\Local\\Temp\\ipykernel_13672\\2488201323.py:9: FutureWarning:\n",
      "\n",
      "The behavior of DataFrame concatenation with empty or all-NA entries is deprecated. In a future version, this will no longer exclude empty or all-NA columns when determining the result dtypes. To retain the old behavior, exclude the relevant entries before the concat operation.\n",
      "\n",
      "C:\\Users\\quirosgu\\AppData\\Local\\Temp\\ipykernel_13672\\2488201323.py:9: FutureWarning:\n",
      "\n",
      "The behavior of DataFrame concatenation with empty or all-NA entries is deprecated. In a future version, this will no longer exclude empty or all-NA columns when determining the result dtypes. To retain the old behavior, exclude the relevant entries before the concat operation.\n",
      "\n",
      "C:\\Users\\quirosgu\\AppData\\Local\\Temp\\ipykernel_13672\\2488201323.py:9: FutureWarning:\n",
      "\n",
      "The behavior of DataFrame concatenation with empty or all-NA entries is deprecated. In a future version, this will no longer exclude empty or all-NA columns when determining the result dtypes. To retain the old behavior, exclude the relevant entries before the concat operation.\n",
      "\n",
      "C:\\Users\\quirosgu\\AppData\\Local\\Temp\\ipykernel_13672\\2488201323.py:9: FutureWarning:\n",
      "\n",
      "The behavior of DataFrame concatenation with empty or all-NA entries is deprecated. In a future version, this will no longer exclude empty or all-NA columns when determining the result dtypes. To retain the old behavior, exclude the relevant entries before the concat operation.\n",
      "\n",
      "C:\\Users\\quirosgu\\AppData\\Local\\Temp\\ipykernel_13672\\2488201323.py:9: FutureWarning:\n",
      "\n",
      "The behavior of DataFrame concatenation with empty or all-NA entries is deprecated. In a future version, this will no longer exclude empty or all-NA columns when determining the result dtypes. To retain the old behavior, exclude the relevant entries before the concat operation.\n",
      "\n",
      "C:\\Users\\quirosgu\\AppData\\Local\\Temp\\ipykernel_13672\\2488201323.py:9: FutureWarning:\n",
      "\n",
      "The behavior of DataFrame concatenation with empty or all-NA entries is deprecated. In a future version, this will no longer exclude empty or all-NA columns when determining the result dtypes. To retain the old behavior, exclude the relevant entries before the concat operation.\n",
      "\n",
      "C:\\Users\\quirosgu\\AppData\\Local\\Temp\\ipykernel_13672\\2488201323.py:9: FutureWarning:\n",
      "\n",
      "The behavior of DataFrame concatenation with empty or all-NA entries is deprecated. In a future version, this will no longer exclude empty or all-NA columns when determining the result dtypes. To retain the old behavior, exclude the relevant entries before the concat operation.\n",
      "\n",
      "C:\\Users\\quirosgu\\AppData\\Local\\Temp\\ipykernel_13672\\2488201323.py:9: FutureWarning:\n",
      "\n",
      "The behavior of DataFrame concatenation with empty or all-NA entries is deprecated. In a future version, this will no longer exclude empty or all-NA columns when determining the result dtypes. To retain the old behavior, exclude the relevant entries before the concat operation.\n",
      "\n",
      "C:\\Users\\quirosgu\\AppData\\Local\\Temp\\ipykernel_13672\\2488201323.py:9: FutureWarning:\n",
      "\n",
      "The behavior of DataFrame concatenation with empty or all-NA entries is deprecated. In a future version, this will no longer exclude empty or all-NA columns when determining the result dtypes. To retain the old behavior, exclude the relevant entries before the concat operation.\n",
      "\n",
      "C:\\Users\\quirosgu\\AppData\\Local\\Temp\\ipykernel_13672\\2488201323.py:9: FutureWarning:\n",
      "\n",
      "The behavior of DataFrame concatenation with empty or all-NA entries is deprecated. In a future version, this will no longer exclude empty or all-NA columns when determining the result dtypes. To retain the old behavior, exclude the relevant entries before the concat operation.\n",
      "\n",
      "C:\\Users\\quirosgu\\AppData\\Local\\Temp\\ipykernel_13672\\2488201323.py:9: FutureWarning:\n",
      "\n",
      "The behavior of DataFrame concatenation with empty or all-NA entries is deprecated. In a future version, this will no longer exclude empty or all-NA columns when determining the result dtypes. To retain the old behavior, exclude the relevant entries before the concat operation.\n",
      "\n",
      "C:\\Users\\quirosgu\\AppData\\Local\\Temp\\ipykernel_13672\\2488201323.py:9: FutureWarning:\n",
      "\n",
      "The behavior of DataFrame concatenation with empty or all-NA entries is deprecated. In a future version, this will no longer exclude empty or all-NA columns when determining the result dtypes. To retain the old behavior, exclude the relevant entries before the concat operation.\n",
      "\n",
      "C:\\Users\\quirosgu\\AppData\\Local\\Temp\\ipykernel_13672\\2488201323.py:9: FutureWarning:\n",
      "\n",
      "The behavior of DataFrame concatenation with empty or all-NA entries is deprecated. In a future version, this will no longer exclude empty or all-NA columns when determining the result dtypes. To retain the old behavior, exclude the relevant entries before the concat operation.\n",
      "\n",
      "C:\\Users\\quirosgu\\AppData\\Local\\Temp\\ipykernel_13672\\2488201323.py:9: FutureWarning:\n",
      "\n",
      "The behavior of DataFrame concatenation with empty or all-NA entries is deprecated. In a future version, this will no longer exclude empty or all-NA columns when determining the result dtypes. To retain the old behavior, exclude the relevant entries before the concat operation.\n",
      "\n",
      "C:\\Users\\quirosgu\\AppData\\Local\\Temp\\ipykernel_13672\\2488201323.py:9: FutureWarning:\n",
      "\n",
      "The behavior of DataFrame concatenation with empty or all-NA entries is deprecated. In a future version, this will no longer exclude empty or all-NA columns when determining the result dtypes. To retain the old behavior, exclude the relevant entries before the concat operation.\n",
      "\n",
      "C:\\Users\\quirosgu\\AppData\\Local\\Temp\\ipykernel_13672\\2488201323.py:9: FutureWarning:\n",
      "\n",
      "The behavior of DataFrame concatenation with empty or all-NA entries is deprecated. In a future version, this will no longer exclude empty or all-NA columns when determining the result dtypes. To retain the old behavior, exclude the relevant entries before the concat operation.\n",
      "\n",
      "C:\\Users\\quirosgu\\AppData\\Local\\Temp\\ipykernel_13672\\2488201323.py:9: FutureWarning:\n",
      "\n",
      "The behavior of DataFrame concatenation with empty or all-NA entries is deprecated. In a future version, this will no longer exclude empty or all-NA columns when determining the result dtypes. To retain the old behavior, exclude the relevant entries before the concat operation.\n",
      "\n",
      "C:\\Users\\quirosgu\\AppData\\Local\\Temp\\ipykernel_13672\\2488201323.py:9: FutureWarning:\n",
      "\n",
      "The behavior of DataFrame concatenation with empty or all-NA entries is deprecated. In a future version, this will no longer exclude empty or all-NA columns when determining the result dtypes. To retain the old behavior, exclude the relevant entries before the concat operation.\n",
      "\n",
      "C:\\Users\\quirosgu\\AppData\\Local\\Temp\\ipykernel_13672\\2488201323.py:9: FutureWarning:\n",
      "\n",
      "The behavior of DataFrame concatenation with empty or all-NA entries is deprecated. In a future version, this will no longer exclude empty or all-NA columns when determining the result dtypes. To retain the old behavior, exclude the relevant entries before the concat operation.\n",
      "\n",
      "C:\\Users\\quirosgu\\AppData\\Local\\Temp\\ipykernel_13672\\2488201323.py:9: FutureWarning:\n",
      "\n",
      "The behavior of DataFrame concatenation with empty or all-NA entries is deprecated. In a future version, this will no longer exclude empty or all-NA columns when determining the result dtypes. To retain the old behavior, exclude the relevant entries before the concat operation.\n",
      "\n",
      "C:\\Users\\quirosgu\\AppData\\Local\\Temp\\ipykernel_13672\\2488201323.py:9: FutureWarning:\n",
      "\n",
      "The behavior of DataFrame concatenation with empty or all-NA entries is deprecated. In a future version, this will no longer exclude empty or all-NA columns when determining the result dtypes. To retain the old behavior, exclude the relevant entries before the concat operation.\n",
      "\n",
      "C:\\Users\\quirosgu\\AppData\\Local\\Temp\\ipykernel_13672\\2488201323.py:9: FutureWarning:\n",
      "\n",
      "The behavior of DataFrame concatenation with empty or all-NA entries is deprecated. In a future version, this will no longer exclude empty or all-NA columns when determining the result dtypes. To retain the old behavior, exclude the relevant entries before the concat operation.\n",
      "\n",
      "C:\\Users\\quirosgu\\AppData\\Local\\Temp\\ipykernel_13672\\2488201323.py:9: FutureWarning:\n",
      "\n",
      "The behavior of DataFrame concatenation with empty or all-NA entries is deprecated. In a future version, this will no longer exclude empty or all-NA columns when determining the result dtypes. To retain the old behavior, exclude the relevant entries before the concat operation.\n",
      "\n",
      "C:\\Users\\quirosgu\\AppData\\Local\\Temp\\ipykernel_13672\\2488201323.py:9: FutureWarning:\n",
      "\n",
      "The behavior of DataFrame concatenation with empty or all-NA entries is deprecated. In a future version, this will no longer exclude empty or all-NA columns when determining the result dtypes. To retain the old behavior, exclude the relevant entries before the concat operation.\n",
      "\n",
      "C:\\Users\\quirosgu\\AppData\\Local\\Temp\\ipykernel_13672\\2488201323.py:9: FutureWarning:\n",
      "\n",
      "The behavior of DataFrame concatenation with empty or all-NA entries is deprecated. In a future version, this will no longer exclude empty or all-NA columns when determining the result dtypes. To retain the old behavior, exclude the relevant entries before the concat operation.\n",
      "\n",
      "C:\\Users\\quirosgu\\AppData\\Local\\Temp\\ipykernel_13672\\2488201323.py:9: FutureWarning:\n",
      "\n",
      "The behavior of DataFrame concatenation with empty or all-NA entries is deprecated. In a future version, this will no longer exclude empty or all-NA columns when determining the result dtypes. To retain the old behavior, exclude the relevant entries before the concat operation.\n",
      "\n",
      "C:\\Users\\quirosgu\\AppData\\Local\\Temp\\ipykernel_13672\\2488201323.py:9: FutureWarning:\n",
      "\n",
      "The behavior of DataFrame concatenation with empty or all-NA entries is deprecated. In a future version, this will no longer exclude empty or all-NA columns when determining the result dtypes. To retain the old behavior, exclude the relevant entries before the concat operation.\n",
      "\n",
      "C:\\Users\\quirosgu\\AppData\\Local\\Temp\\ipykernel_13672\\2488201323.py:9: FutureWarning:\n",
      "\n",
      "The behavior of DataFrame concatenation with empty or all-NA entries is deprecated. In a future version, this will no longer exclude empty or all-NA columns when determining the result dtypes. To retain the old behavior, exclude the relevant entries before the concat operation.\n",
      "\n",
      "C:\\Users\\quirosgu\\AppData\\Local\\Temp\\ipykernel_13672\\2488201323.py:9: FutureWarning:\n",
      "\n",
      "The behavior of DataFrame concatenation with empty or all-NA entries is deprecated. In a future version, this will no longer exclude empty or all-NA columns when determining the result dtypes. To retain the old behavior, exclude the relevant entries before the concat operation.\n",
      "\n",
      "C:\\Users\\quirosgu\\AppData\\Local\\Temp\\ipykernel_13672\\2488201323.py:9: FutureWarning:\n",
      "\n",
      "The behavior of DataFrame concatenation with empty or all-NA entries is deprecated. In a future version, this will no longer exclude empty or all-NA columns when determining the result dtypes. To retain the old behavior, exclude the relevant entries before the concat operation.\n",
      "\n",
      "C:\\Users\\quirosgu\\AppData\\Local\\Temp\\ipykernel_13672\\2488201323.py:9: FutureWarning:\n",
      "\n",
      "The behavior of DataFrame concatenation with empty or all-NA entries is deprecated. In a future version, this will no longer exclude empty or all-NA columns when determining the result dtypes. To retain the old behavior, exclude the relevant entries before the concat operation.\n",
      "\n",
      "C:\\Users\\quirosgu\\AppData\\Local\\Temp\\ipykernel_13672\\2488201323.py:9: FutureWarning:\n",
      "\n",
      "The behavior of DataFrame concatenation with empty or all-NA entries is deprecated. In a future version, this will no longer exclude empty or all-NA columns when determining the result dtypes. To retain the old behavior, exclude the relevant entries before the concat operation.\n",
      "\n",
      "C:\\Users\\quirosgu\\AppData\\Local\\Temp\\ipykernel_13672\\2488201323.py:9: FutureWarning:\n",
      "\n",
      "The behavior of DataFrame concatenation with empty or all-NA entries is deprecated. In a future version, this will no longer exclude empty or all-NA columns when determining the result dtypes. To retain the old behavior, exclude the relevant entries before the concat operation.\n",
      "\n",
      "C:\\Users\\quirosgu\\AppData\\Local\\Temp\\ipykernel_13672\\2488201323.py:9: FutureWarning:\n",
      "\n",
      "The behavior of DataFrame concatenation with empty or all-NA entries is deprecated. In a future version, this will no longer exclude empty or all-NA columns when determining the result dtypes. To retain the old behavior, exclude the relevant entries before the concat operation.\n",
      "\n",
      "C:\\Users\\quirosgu\\AppData\\Local\\Temp\\ipykernel_13672\\2488201323.py:9: FutureWarning:\n",
      "\n",
      "The behavior of DataFrame concatenation with empty or all-NA entries is deprecated. In a future version, this will no longer exclude empty or all-NA columns when determining the result dtypes. To retain the old behavior, exclude the relevant entries before the concat operation.\n",
      "\n",
      "C:\\Users\\quirosgu\\AppData\\Local\\Temp\\ipykernel_13672\\2488201323.py:9: FutureWarning:\n",
      "\n",
      "The behavior of DataFrame concatenation with empty or all-NA entries is deprecated. In a future version, this will no longer exclude empty or all-NA columns when determining the result dtypes. To retain the old behavior, exclude the relevant entries before the concat operation.\n",
      "\n",
      "C:\\Users\\quirosgu\\AppData\\Local\\Temp\\ipykernel_13672\\2488201323.py:9: FutureWarning:\n",
      "\n",
      "The behavior of DataFrame concatenation with empty or all-NA entries is deprecated. In a future version, this will no longer exclude empty or all-NA columns when determining the result dtypes. To retain the old behavior, exclude the relevant entries before the concat operation.\n",
      "\n",
      "C:\\Users\\quirosgu\\AppData\\Local\\Temp\\ipykernel_13672\\2488201323.py:9: FutureWarning:\n",
      "\n",
      "The behavior of DataFrame concatenation with empty or all-NA entries is deprecated. In a future version, this will no longer exclude empty or all-NA columns when determining the result dtypes. To retain the old behavior, exclude the relevant entries before the concat operation.\n",
      "\n",
      "C:\\Users\\quirosgu\\AppData\\Local\\Temp\\ipykernel_13672\\2488201323.py:9: FutureWarning:\n",
      "\n",
      "The behavior of DataFrame concatenation with empty or all-NA entries is deprecated. In a future version, this will no longer exclude empty or all-NA columns when determining the result dtypes. To retain the old behavior, exclude the relevant entries before the concat operation.\n",
      "\n",
      "C:\\Users\\quirosgu\\AppData\\Local\\Temp\\ipykernel_13672\\2488201323.py:9: FutureWarning:\n",
      "\n",
      "The behavior of DataFrame concatenation with empty or all-NA entries is deprecated. In a future version, this will no longer exclude empty or all-NA columns when determining the result dtypes. To retain the old behavior, exclude the relevant entries before the concat operation.\n",
      "\n",
      "C:\\Users\\quirosgu\\AppData\\Local\\Temp\\ipykernel_13672\\2488201323.py:9: FutureWarning:\n",
      "\n",
      "The behavior of DataFrame concatenation with empty or all-NA entries is deprecated. In a future version, this will no longer exclude empty or all-NA columns when determining the result dtypes. To retain the old behavior, exclude the relevant entries before the concat operation.\n",
      "\n",
      "C:\\Users\\quirosgu\\AppData\\Local\\Temp\\ipykernel_13672\\2488201323.py:9: FutureWarning:\n",
      "\n",
      "The behavior of DataFrame concatenation with empty or all-NA entries is deprecated. In a future version, this will no longer exclude empty or all-NA columns when determining the result dtypes. To retain the old behavior, exclude the relevant entries before the concat operation.\n",
      "\n",
      "C:\\Users\\quirosgu\\AppData\\Local\\Temp\\ipykernel_13672\\2488201323.py:9: FutureWarning:\n",
      "\n",
      "The behavior of DataFrame concatenation with empty or all-NA entries is deprecated. In a future version, this will no longer exclude empty or all-NA columns when determining the result dtypes. To retain the old behavior, exclude the relevant entries before the concat operation.\n",
      "\n",
      "C:\\Users\\quirosgu\\AppData\\Local\\Temp\\ipykernel_13672\\2488201323.py:9: FutureWarning:\n",
      "\n",
      "The behavior of DataFrame concatenation with empty or all-NA entries is deprecated. In a future version, this will no longer exclude empty or all-NA columns when determining the result dtypes. To retain the old behavior, exclude the relevant entries before the concat operation.\n",
      "\n",
      "C:\\Users\\quirosgu\\AppData\\Local\\Temp\\ipykernel_13672\\2488201323.py:9: FutureWarning:\n",
      "\n",
      "The behavior of DataFrame concatenation with empty or all-NA entries is deprecated. In a future version, this will no longer exclude empty or all-NA columns when determining the result dtypes. To retain the old behavior, exclude the relevant entries before the concat operation.\n",
      "\n",
      "C:\\Users\\quirosgu\\AppData\\Local\\Temp\\ipykernel_13672\\2488201323.py:9: FutureWarning:\n",
      "\n",
      "The behavior of DataFrame concatenation with empty or all-NA entries is deprecated. In a future version, this will no longer exclude empty or all-NA columns when determining the result dtypes. To retain the old behavior, exclude the relevant entries before the concat operation.\n",
      "\n",
      "C:\\Users\\quirosgu\\AppData\\Local\\Temp\\ipykernel_13672\\2488201323.py:9: FutureWarning:\n",
      "\n",
      "The behavior of DataFrame concatenation with empty or all-NA entries is deprecated. In a future version, this will no longer exclude empty or all-NA columns when determining the result dtypes. To retain the old behavior, exclude the relevant entries before the concat operation.\n",
      "\n",
      "C:\\Users\\quirosgu\\AppData\\Local\\Temp\\ipykernel_13672\\2488201323.py:9: FutureWarning:\n",
      "\n",
      "The behavior of DataFrame concatenation with empty or all-NA entries is deprecated. In a future version, this will no longer exclude empty or all-NA columns when determining the result dtypes. To retain the old behavior, exclude the relevant entries before the concat operation.\n",
      "\n",
      "C:\\Users\\quirosgu\\AppData\\Local\\Temp\\ipykernel_13672\\2488201323.py:9: FutureWarning:\n",
      "\n",
      "The behavior of DataFrame concatenation with empty or all-NA entries is deprecated. In a future version, this will no longer exclude empty or all-NA columns when determining the result dtypes. To retain the old behavior, exclude the relevant entries before the concat operation.\n",
      "\n",
      "C:\\Users\\quirosgu\\AppData\\Local\\Temp\\ipykernel_13672\\2488201323.py:9: FutureWarning:\n",
      "\n",
      "The behavior of DataFrame concatenation with empty or all-NA entries is deprecated. In a future version, this will no longer exclude empty or all-NA columns when determining the result dtypes. To retain the old behavior, exclude the relevant entries before the concat operation.\n",
      "\n",
      "C:\\Users\\quirosgu\\AppData\\Local\\Temp\\ipykernel_13672\\2488201323.py:9: FutureWarning:\n",
      "\n",
      "The behavior of DataFrame concatenation with empty or all-NA entries is deprecated. In a future version, this will no longer exclude empty or all-NA columns when determining the result dtypes. To retain the old behavior, exclude the relevant entries before the concat operation.\n",
      "\n",
      "C:\\Users\\quirosgu\\AppData\\Local\\Temp\\ipykernel_13672\\2488201323.py:9: FutureWarning:\n",
      "\n",
      "The behavior of DataFrame concatenation with empty or all-NA entries is deprecated. In a future version, this will no longer exclude empty or all-NA columns when determining the result dtypes. To retain the old behavior, exclude the relevant entries before the concat operation.\n",
      "\n",
      "C:\\Users\\quirosgu\\AppData\\Local\\Temp\\ipykernel_13672\\2488201323.py:9: FutureWarning:\n",
      "\n",
      "The behavior of DataFrame concatenation with empty or all-NA entries is deprecated. In a future version, this will no longer exclude empty or all-NA columns when determining the result dtypes. To retain the old behavior, exclude the relevant entries before the concat operation.\n",
      "\n",
      "C:\\Users\\quirosgu\\AppData\\Local\\Temp\\ipykernel_13672\\2488201323.py:9: FutureWarning:\n",
      "\n",
      "The behavior of DataFrame concatenation with empty or all-NA entries is deprecated. In a future version, this will no longer exclude empty or all-NA columns when determining the result dtypes. To retain the old behavior, exclude the relevant entries before the concat operation.\n",
      "\n",
      "C:\\Users\\quirosgu\\AppData\\Local\\Temp\\ipykernel_13672\\2488201323.py:9: FutureWarning:\n",
      "\n",
      "The behavior of DataFrame concatenation with empty or all-NA entries is deprecated. In a future version, this will no longer exclude empty or all-NA columns when determining the result dtypes. To retain the old behavior, exclude the relevant entries before the concat operation.\n",
      "\n",
      "C:\\Users\\quirosgu\\AppData\\Local\\Temp\\ipykernel_13672\\2488201323.py:9: FutureWarning:\n",
      "\n",
      "The behavior of DataFrame concatenation with empty or all-NA entries is deprecated. In a future version, this will no longer exclude empty or all-NA columns when determining the result dtypes. To retain the old behavior, exclude the relevant entries before the concat operation.\n",
      "\n",
      "C:\\Users\\quirosgu\\AppData\\Local\\Temp\\ipykernel_13672\\2488201323.py:9: FutureWarning:\n",
      "\n",
      "The behavior of DataFrame concatenation with empty or all-NA entries is deprecated. In a future version, this will no longer exclude empty or all-NA columns when determining the result dtypes. To retain the old behavior, exclude the relevant entries before the concat operation.\n",
      "\n",
      "C:\\Users\\quirosgu\\AppData\\Local\\Temp\\ipykernel_13672\\2488201323.py:9: FutureWarning:\n",
      "\n",
      "The behavior of DataFrame concatenation with empty or all-NA entries is deprecated. In a future version, this will no longer exclude empty or all-NA columns when determining the result dtypes. To retain the old behavior, exclude the relevant entries before the concat operation.\n",
      "\n",
      "C:\\Users\\quirosgu\\AppData\\Local\\Temp\\ipykernel_13672\\2488201323.py:9: FutureWarning:\n",
      "\n",
      "The behavior of DataFrame concatenation with empty or all-NA entries is deprecated. In a future version, this will no longer exclude empty or all-NA columns when determining the result dtypes. To retain the old behavior, exclude the relevant entries before the concat operation.\n",
      "\n",
      "C:\\Users\\quirosgu\\AppData\\Local\\Temp\\ipykernel_13672\\2488201323.py:9: FutureWarning:\n",
      "\n",
      "The behavior of DataFrame concatenation with empty or all-NA entries is deprecated. In a future version, this will no longer exclude empty or all-NA columns when determining the result dtypes. To retain the old behavior, exclude the relevant entries before the concat operation.\n",
      "\n",
      "C:\\Users\\quirosgu\\AppData\\Local\\Temp\\ipykernel_13672\\2488201323.py:9: FutureWarning:\n",
      "\n",
      "The behavior of DataFrame concatenation with empty or all-NA entries is deprecated. In a future version, this will no longer exclude empty or all-NA columns when determining the result dtypes. To retain the old behavior, exclude the relevant entries before the concat operation.\n",
      "\n",
      "C:\\Users\\quirosgu\\AppData\\Local\\Temp\\ipykernel_13672\\2488201323.py:9: FutureWarning:\n",
      "\n",
      "The behavior of DataFrame concatenation with empty or all-NA entries is deprecated. In a future version, this will no longer exclude empty or all-NA columns when determining the result dtypes. To retain the old behavior, exclude the relevant entries before the concat operation.\n",
      "\n",
      "C:\\Users\\quirosgu\\AppData\\Local\\Temp\\ipykernel_13672\\2488201323.py:9: FutureWarning:\n",
      "\n",
      "The behavior of DataFrame concatenation with empty or all-NA entries is deprecated. In a future version, this will no longer exclude empty or all-NA columns when determining the result dtypes. To retain the old behavior, exclude the relevant entries before the concat operation.\n",
      "\n"
     ]
    },
    {
     "data": {
      "application/vnd.plotly.v1+json": {
       "config": {
        "plotlyServerURL": "https://plot.ly"
       },
       "data": [
        {
         "alignmentgroup": "True",
         "hovertemplate": "chemical_superclass=Alkaloids-Anthranilic acid alkaloids<br>Recurrence=%{x}<br>genus_family=%{y}<extra></extra>",
         "legendgroup": "Alkaloids-Anthranilic acid alkaloids",
         "marker": {
          "color": "#468eaa",
          "pattern": {
           "shape": ""
          }
         },
         "name": "Alkaloids-Anthranilic acid alkaloids",
         "offsetgroup": "Alkaloids-Anthranilic acid alkaloids",
         "orientation": "h",
         "showlegend": true,
         "textposition": "auto",
         "type": "bar",
         "x": [
          1
         ],
         "xaxis": "x",
         "y": [
          "Fabaceae - Mimosa pudica"
         ],
         "yaxis": "y"
        },
        {
         "alignmentgroup": "True",
         "hovertemplate": "chemical_superclass=Alkaloids-Lysine alkaloids<br>Recurrence=%{x}<br>genus_family=%{y}<extra></extra>",
         "legendgroup": "Alkaloids-Lysine alkaloids",
         "marker": {
          "color": "#305f72",
          "pattern": {
           "shape": ""
          }
         },
         "name": "Alkaloids-Lysine alkaloids",
         "offsetgroup": "Alkaloids-Lysine alkaloids",
         "orientation": "h",
         "showlegend": true,
         "textposition": "auto",
         "type": "bar",
         "x": [
          7,
          1,
          2,
          18,
          1,
          6
         ],
         "xaxis": "x",
         "y": [
          "Fabaceae - Erythrina berteroana",
          "Asteraceae - Ageratina ligustrina",
          "Piperaceae - Piper reticulatum",
          "Piperaceae - Piper tuberculatum",
          "Apocynaceae - Plumeria rubra",
          "Fabaceae - Prosopis juliflora"
         ],
         "yaxis": "y"
        },
        {
         "alignmentgroup": "True",
         "hovertemplate": "chemical_superclass=Alkaloids-Nicotinic acid alkaloids<br>Recurrence=%{x}<br>genus_family=%{y}<extra></extra>",
         "legendgroup": "Alkaloids-Nicotinic acid alkaloids",
         "marker": {
          "color": "#40829c",
          "pattern": {
           "shape": ""
          }
         },
         "name": "Alkaloids-Nicotinic acid alkaloids",
         "offsetgroup": "Alkaloids-Nicotinic acid alkaloids",
         "orientation": "h",
         "showlegend": true,
         "textposition": "auto",
         "type": "bar",
         "x": [
          1
         ],
         "xaxis": "x",
         "y": [
          "Fabaceae - Mimosa pudica"
         ],
         "yaxis": "y"
        },
        {
         "alignmentgroup": "True",
         "hovertemplate": "chemical_superclass=Alkaloids-Ornithine alkaloids<br>Recurrence=%{x}<br>genus_family=%{y}<extra></extra>",
         "legendgroup": "Alkaloids-Ornithine alkaloids",
         "marker": {
          "color": "#56b0d4",
          "pattern": {
           "shape": ""
          }
         },
         "name": "Alkaloids-Ornithine alkaloids",
         "offsetgroup": "Alkaloids-Ornithine alkaloids",
         "orientation": "h",
         "showlegend": true,
         "textposition": "auto",
         "type": "bar",
         "x": [
          4,
          1,
          2,
          1,
          6,
          2,
          1,
          3,
          3,
          1
         ],
         "xaxis": "x",
         "y": [
          "Pontederiaceae - Eichhornia crassipes",
          "Erythroxylaceae - Erythroxylum fimbriatum",
          "Convolvulaceae - Ipomoea nil",
          "Rubiaceae - Alibertia edulis",
          "Fabaceae - Albizia adinocephala",
          "Asteraceae - Ageratum conyzoides",
          "Apocynaceae - Catharanthus roseus",
          "Asteraceae - Telanthophora grandifolia",
          "Asteraceae - Ageratina ligustrina",
          "Fabaceae - Samanea saman"
         ],
         "yaxis": "y"
        },
        {
         "alignmentgroup": "True",
         "hovertemplate": "chemical_superclass=Alkaloids-Peptide alkaloids<br>Recurrence=%{x}<br>genus_family=%{y}<extra></extra>",
         "legendgroup": "Alkaloids-Peptide alkaloids",
         "marker": {
          "color": "#5cbce2",
          "pattern": {
           "shape": ""
          }
         },
         "name": "Alkaloids-Peptide alkaloids",
         "offsetgroup": "Alkaloids-Peptide alkaloids",
         "orientation": "h",
         "showlegend": true,
         "textposition": "auto",
         "type": "bar",
         "x": [
          9,
          1
         ],
         "xaxis": "x",
         "y": [
          "Malvaceae - Talipariti tiliaceum",
          "Poaceae - Cymbopogon citratus"
         ],
         "yaxis": "y"
        },
        {
         "alignmentgroup": "True",
         "hovertemplate": "chemical_superclass=Alkaloids-Pseudoalkaloids<br>Recurrence=%{x}<br>genus_family=%{y}<extra></extra>",
         "legendgroup": "Alkaloids-Pseudoalkaloids",
         "marker": {
          "color": "#51a5c6",
          "pattern": {
           "shape": ""
          }
         },
         "name": "Alkaloids-Pseudoalkaloids",
         "offsetgroup": "Alkaloids-Pseudoalkaloids",
         "orientation": "h",
         "showlegend": true,
         "textposition": "auto",
         "type": "bar",
         "x": [
          2,
          6,
          1
         ],
         "xaxis": "x",
         "y": [
          "Malvaceae - Herrania purpurea",
          "Apocynaceae - Catharanthus roseus",
          "Pontederiaceae - Eichhornia crassipes"
         ],
         "yaxis": "y"
        },
        {
         "alignmentgroup": "True",
         "hovertemplate": "chemical_superclass=Alkaloids-Tetramate alkaloids<br>Recurrence=%{x}<br>genus_family=%{y}<extra></extra>",
         "legendgroup": "Alkaloids-Tetramate alkaloids",
         "marker": {
          "color": "#3b768e",
          "pattern": {
           "shape": ""
          }
         },
         "name": "Alkaloids-Tetramate alkaloids",
         "offsetgroup": "Alkaloids-Tetramate alkaloids",
         "orientation": "h",
         "showlegend": true,
         "textposition": "auto",
         "type": "bar",
         "x": [
          1,
          2
         ],
         "xaxis": "x",
         "y": [
          "Poaceae - Cymbopogon citratus",
          "Fabaceae - Caesalpinia pulcherrima"
         ],
         "yaxis": "y"
        },
        {
         "alignmentgroup": "True",
         "hovertemplate": "chemical_superclass=Alkaloids-Tryptophan alkaloids<br>Recurrence=%{x}<br>genus_family=%{y}<extra></extra>",
         "legendgroup": "Alkaloids-Tryptophan alkaloids",
         "marker": {
          "color": "#366b80",
          "pattern": {
           "shape": ""
          }
         },
         "name": "Alkaloids-Tryptophan alkaloids",
         "offsetgroup": "Alkaloids-Tryptophan alkaloids",
         "orientation": "h",
         "showlegend": true,
         "textposition": "auto",
         "type": "bar",
         "x": [
          1,
          185,
          8,
          2,
          2,
          2,
          7
         ],
         "xaxis": "x",
         "y": [
          "Pontederiaceae - Eichhornia crassipes",
          "Apocynaceae - Catharanthus roseus",
          "Fabaceae - Erythrina berteroana",
          "Simaroubaceae - Quassia amara",
          "Rubiaceae - Morinda citrifolia",
          "Convolvulaceae - Ipomoea nil",
          "Apocynaceae - Rauvolfia littoralis"
         ],
         "yaxis": "y"
        },
        {
         "alignmentgroup": "True",
         "hovertemplate": "chemical_superclass=Alkaloids-Tyrosine alkaloids<br>Recurrence=%{x}<br>genus_family=%{y}<extra></extra>",
         "legendgroup": "Alkaloids-Tyrosine alkaloids",
         "marker": {
          "color": "#4c99b8",
          "pattern": {
           "shape": ""
          }
         },
         "name": "Alkaloids-Tyrosine alkaloids",
         "offsetgroup": "Alkaloids-Tyrosine alkaloids",
         "orientation": "h",
         "showlegend": true,
         "textposition": "auto",
         "type": "bar",
         "x": [
          2,
          2,
          1,
          3,
          11
         ],
         "xaxis": "x",
         "y": [
          "Pontederiaceae - Eichhornia crassipes",
          "Piperaceae - Piper tuberculatum",
          "Brassicaceae - Nasturtium officinale",
          "Poaceae - Cymbopogon citratus",
          "Siparunaceae - Siparuna grandiflora"
         ],
         "yaxis": "y"
        },
        {
         "alignmentgroup": "True",
         "hovertemplate": "chemical_superclass=Amino acids and Peptides-Amino acid glycosides<br>Recurrence=%{x}<br>genus_family=%{y}<extra></extra>",
         "legendgroup": "Amino acids and Peptides-Amino acid glycosides",
         "marker": {
          "color": "#f6eb8c",
          "pattern": {
           "shape": ""
          }
         },
         "name": "Amino acids and Peptides-Amino acid glycosides",
         "offsetgroup": "Amino acids and Peptides-Amino acid glycosides",
         "orientation": "h",
         "showlegend": true,
         "textposition": "auto",
         "type": "bar",
         "x": [
          2
         ],
         "xaxis": "x",
         "y": [
          "Caricaceae - Vasconcellea cauliflora"
         ],
         "yaxis": "y"
        },
        {
         "alignmentgroup": "True",
         "hovertemplate": "chemical_superclass=Amino acids and Peptides-Oligopeptides<br>Recurrence=%{x}<br>genus_family=%{y}<extra></extra>",
         "legendgroup": "Amino acids and Peptides-Oligopeptides",
         "marker": {
          "color": "#faf2d3",
          "pattern": {
           "shape": ""
          }
         },
         "name": "Amino acids and Peptides-Oligopeptides",
         "offsetgroup": "Amino acids and Peptides-Oligopeptides",
         "orientation": "h",
         "showlegend": true,
         "textposition": "auto",
         "type": "bar",
         "x": [
          1
         ],
         "xaxis": "x",
         "y": [
          "Euphorbiaceae - Jatropha gossypiifolia"
         ],
         "yaxis": "y"
        },
        {
         "alignmentgroup": "True",
         "hovertemplate": "chemical_superclass=Amino acids and Peptides-Phenylpropanoids (C6-C3)<br>Recurrence=%{x}<br>genus_family=%{y}<extra></extra>",
         "legendgroup": "Amino acids and Peptides-Phenylpropanoids (C6-C3)",
         "marker": {
          "color": "#636efa",
          "pattern": {
           "shape": ""
          }
         },
         "name": "Amino acids and Peptides-Phenylpropanoids (C6-C3)",
         "offsetgroup": "Amino acids and Peptides-Phenylpropanoids (C6-C3)",
         "orientation": "h",
         "showlegend": true,
         "textposition": "auto",
         "type": "bar",
         "x": [
          4,
          5,
          3,
          3
         ],
         "xaxis": "x",
         "y": [
          "Piperaceae - Piper tuberculatum",
          "Malvaceae - Talipariti tiliaceum",
          "Convolvulaceae - Ipomoea nil",
          "Convolvulaceae - Camonea umbellata"
         ],
         "yaxis": "y"
        },
        {
         "alignmentgroup": "True",
         "hovertemplate": "chemical_superclass=Amino acids and Peptides-Small peptides<br>Recurrence=%{x}<br>genus_family=%{y}<extra></extra>",
         "legendgroup": "Amino acids and Peptides-Small peptides",
         "marker": {
          "color": "#f4e869",
          "pattern": {
           "shape": ""
          }
         },
         "name": "Amino acids and Peptides-Small peptides",
         "offsetgroup": "Amino acids and Peptides-Small peptides",
         "orientation": "h",
         "showlegend": true,
         "textposition": "auto",
         "type": "bar",
         "x": [
          1,
          21,
          13,
          1,
          1,
          1,
          4,
          1,
          25,
          12,
          1,
          2,
          2,
          1
         ],
         "xaxis": "x",
         "y": [
          "Fabaceae - Canavalia rosea",
          "Pontederiaceae - Eichhornia crassipes",
          "Apocynaceae - Catharanthus roseus",
          "Fabaceae - Delonix regia",
          "Fabaceae - Gliricidia sepium",
          "Asteraceae - Ageratum conyzoides",
          "Verbenaceae - Lantana camara",
          "Fabaceae - Guilandina bonduc",
          "Fabaceae - Indigofera hirsuta",
          "Euphorbiaceae - Jatropha gossypiifolia",
          "Fabaceae - Prosopis juliflora",
          "Fabaceae - Mimosa pudica",
          "Brassicaceae - Nasturtium officinale",
          "Apocynaceae - Plumeria rubra"
         ],
         "yaxis": "y"
        },
        {
         "alignmentgroup": "True",
         "hovertemplate": "chemical_superclass=Carbohydrates-Aminosugars and aminoglycosides<br>Recurrence=%{x}<br>genus_family=%{y}<extra></extra>",
         "legendgroup": "Carbohydrates-Aminosugars and aminoglycosides",
         "marker": {
          "color": "#86683e",
          "pattern": {
           "shape": ""
          }
         },
         "name": "Carbohydrates-Aminosugars and aminoglycosides",
         "offsetgroup": "Carbohydrates-Aminosugars and aminoglycosides",
         "orientation": "h",
         "showlegend": true,
         "textposition": "auto",
         "type": "bar",
         "x": [
          3,
          4
         ],
         "xaxis": "x",
         "y": [
          "Fabaceae - Lonchocarpus heptaphyllus",
          "Euphorbiaceae - Omphalea diandra"
         ],
         "yaxis": "y"
        },
        {
         "alignmentgroup": "True",
         "hovertemplate": "chemical_superclass=Carbohydrates-Nucleosides<br>Recurrence=%{x}<br>genus_family=%{y}<extra></extra>",
         "legendgroup": "Carbohydrates-Nucleosides",
         "marker": {
          "color": "#a78b5e",
          "pattern": {
           "shape": ""
          }
         },
         "name": "Carbohydrates-Nucleosides",
         "offsetgroup": "Carbohydrates-Nucleosides",
         "orientation": "h",
         "showlegend": true,
         "textposition": "auto",
         "type": "bar",
         "x": [
          1,
          2
         ],
         "xaxis": "x",
         "y": [
          "Apocynaceae - Catharanthus roseus",
          "Rubiaceae - Morinda citrifolia"
         ],
         "yaxis": "y"
        },
        {
         "alignmentgroup": "True",
         "hovertemplate": "chemical_superclass=Carbohydrates-Polyols<br>Recurrence=%{x}<br>genus_family=%{y}<extra></extra>",
         "legendgroup": "Carbohydrates-Polyols",
         "marker": {
          "color": "#c8ae7d",
          "pattern": {
           "shape": ""
          }
         },
         "name": "Carbohydrates-Polyols",
         "offsetgroup": "Carbohydrates-Polyols",
         "orientation": "h",
         "showlegend": true,
         "textposition": "auto",
         "type": "bar",
         "x": [
          1
         ],
         "xaxis": "x",
         "y": [
          "Fabaceae - Gliricidia sepium"
         ],
         "yaxis": "y"
        },
        {
         "alignmentgroup": "True",
         "hovertemplate": "chemical_superclass=Carbohydrates-Saccharides<br>Recurrence=%{x}<br>genus_family=%{y}<extra></extra>",
         "legendgroup": "Carbohydrates-Saccharides",
         "marker": {
          "color": "#65451f",
          "pattern": {
           "shape": ""
          }
         },
         "name": "Carbohydrates-Saccharides",
         "offsetgroup": "Carbohydrates-Saccharides",
         "orientation": "h",
         "showlegend": true,
         "textposition": "auto",
         "type": "bar",
         "x": [
          1,
          10,
          1,
          5,
          6,
          3,
          18,
          5,
          1
         ],
         "xaxis": "x",
         "y": [
          "Simaroubaceae - Quassia amara",
          "Apocynaceae - Catharanthus roseus",
          "Rubiaceae - Genipa americana",
          "Euphorbiaceae - Sapium laurifolium",
          "Verbenaceae - Lantana camara",
          "Euphorbiaceae - Jatropha gossypiifolia",
          "Poaceae - Saccharum officinarum",
          "Rubiaceae - Morinda citrifolia",
          "Arecaceae - Acrocomia aculeata"
         ],
         "yaxis": "y"
        },
        {
         "alignmentgroup": "True",
         "hovertemplate": "chemical_superclass=Fatty acids-Fatty Acids and Conjugates<br>Recurrence=%{x}<br>genus_family=%{y}<extra></extra>",
         "legendgroup": "Fatty acids-Fatty Acids and Conjugates",
         "marker": {
          "color": "#ff771b",
          "pattern": {
           "shape": ""
          }
         },
         "name": "Fatty acids-Fatty Acids and Conjugates",
         "offsetgroup": "Fatty acids-Fatty Acids and Conjugates",
         "orientation": "h",
         "showlegend": true,
         "textposition": "auto",
         "type": "bar",
         "x": [
          5,
          5,
          8,
          2,
          1,
          1,
          10,
          2,
          1,
          3,
          11,
          3,
          7
         ],
         "xaxis": "x",
         "y": [
          "Euphorbiaceae - Jatropha gossypiifolia",
          "Convolvulaceae - Ipomoea nil",
          "Fabaceae - Delonix regia",
          "Rubiaceae - Morinda citrifolia",
          "Fabaceae - Samanea saman",
          "Asteraceae - Ageratina ligustrina",
          "Apocynaceae - Catharanthus roseus",
          "Lythraceae - Lawsonia inermis",
          "Fabaceae - Caesalpinia pulcherrima",
          "Asteraceae - Ageratum conyzoides",
          "Verbenaceae - Lantana camara",
          "Poaceae - Saccharum officinarum",
          "Apocynaceae - Plumeria rubra"
         ],
         "yaxis": "y"
        },
        {
         "alignmentgroup": "True",
         "hovertemplate": "chemical_superclass=Fatty acids-Fatty acyl glycosides<br>Recurrence=%{x}<br>genus_family=%{y}<extra></extra>",
         "legendgroup": "Fatty acids-Fatty acyl glycosides",
         "marker": {
          "color": "#ff9209",
          "pattern": {
           "shape": ""
          }
         },
         "name": "Fatty acids-Fatty acyl glycosides",
         "offsetgroup": "Fatty acids-Fatty acyl glycosides",
         "orientation": "h",
         "showlegend": true,
         "textposition": "auto",
         "type": "bar",
         "x": [
          9,
          3
         ],
         "xaxis": "x",
         "y": [
          "Rubiaceae - Morinda citrifolia",
          "Bignoniaceae - Crescentia cujete"
         ],
         "yaxis": "y"
        },
        {
         "alignmentgroup": "True",
         "hovertemplate": "chemical_superclass=Fatty acids-Fatty acyls<br>Recurrence=%{x}<br>genus_family=%{y}<extra></extra>",
         "legendgroup": "Fatty acids-Fatty acyls",
         "marker": {
          "color": "#ff6c22",
          "pattern": {
           "shape": ""
          }
         },
         "name": "Fatty acids-Fatty acyls",
         "offsetgroup": "Fatty acids-Fatty acyls",
         "orientation": "h",
         "showlegend": true,
         "textposition": "auto",
         "type": "bar",
         "x": [
          1,
          5,
          11,
          1,
          18,
          1,
          20,
          2,
          11
         ],
         "xaxis": "x",
         "y": [
          "Fabaceae - Gliricidia sepium",
          "Convolvulaceae - Ipomoea nil",
          "Verbenaceae - Lantana camara",
          "Lythraceae - Lawsonia inermis",
          "Poaceae - Cymbopogon citratus",
          "Pteridaceae - Acrostichum aureum",
          "Apocynaceae - Plumeria rubra",
          "Fabaceae - Mimosa pudica",
          "Asteraceae - Ageratum conyzoides"
         ],
         "yaxis": "y"
        },
        {
         "alignmentgroup": "True",
         "hovertemplate": "chemical_superclass=Fatty acids-Fatty amides<br>Recurrence=%{x}<br>genus_family=%{y}<extra></extra>",
         "legendgroup": "Fatty acids-Fatty amides",
         "marker": {
          "color": "#ff8710",
          "pattern": {
           "shape": ""
          }
         },
         "name": "Fatty acids-Fatty amides",
         "offsetgroup": "Fatty acids-Fatty amides",
         "orientation": "h",
         "showlegend": true,
         "textposition": "auto",
         "type": "bar",
         "x": [
          5
         ],
         "xaxis": "x",
         "y": [
          "Piperaceae - Piper tuberculatum"
         ],
         "yaxis": "y"
        },
        {
         "alignmentgroup": "True",
         "hovertemplate": "chemical_superclass=Fatty acids-Fatty esters<br>Recurrence=%{x}<br>genus_family=%{y}<extra></extra>",
         "legendgroup": "Fatty acids-Fatty esters",
         "marker": {
          "color": "#ff7c17",
          "pattern": {
           "shape": ""
          }
         },
         "name": "Fatty acids-Fatty esters",
         "offsetgroup": "Fatty acids-Fatty esters",
         "orientation": "h",
         "showlegend": true,
         "textposition": "auto",
         "type": "bar",
         "x": [
          1,
          1,
          4,
          2,
          2,
          1,
          2
         ],
         "xaxis": "x",
         "y": [
          "Moraceae - Ficus benjamina",
          "Rhizophoraceae - Rhizophora mangle",
          "Asteraceae - Ageratum conyzoides",
          "Rubiaceae - Morinda citrifolia",
          "Apocynaceae - Catharanthus roseus",
          "Lythraceae - Lawsonia inermis",
          "Apocynaceae - Plumeria rubra"
         ],
         "yaxis": "y"
        },
        {
         "alignmentgroup": "True",
         "hovertemplate": "chemical_superclass=Fatty acids-Glycerolipids<br>Recurrence=%{x}<br>genus_family=%{y}<extra></extra>",
         "legendgroup": "Fatty acids-Glycerolipids",
         "marker": {
          "color": "#ff711e",
          "pattern": {
           "shape": ""
          }
         },
         "name": "Fatty acids-Glycerolipids",
         "offsetgroup": "Fatty acids-Glycerolipids",
         "orientation": "h",
         "showlegend": true,
         "textposition": "auto",
         "type": "bar",
         "x": [
          1,
          3,
          3
         ],
         "xaxis": "x",
         "y": [
          "Apocynaceae - Plumeria rubra",
          "Convolvulaceae - Ipomoea nil",
          "Rubiaceae - Morinda citrifolia"
         ],
         "yaxis": "y"
        },
        {
         "alignmentgroup": "True",
         "hovertemplate": "chemical_superclass=Fatty acids-Octadecanoids<br>Recurrence=%{x}<br>genus_family=%{y}<extra></extra>",
         "legendgroup": "Fatty acids-Octadecanoids",
         "marker": {
          "color": "#ff8214",
          "pattern": {
           "shape": ""
          }
         },
         "name": "Fatty acids-Octadecanoids",
         "offsetgroup": "Fatty acids-Octadecanoids",
         "orientation": "h",
         "showlegend": true,
         "textposition": "auto",
         "type": "bar",
         "x": [
          1,
          3,
          2,
          1,
          1,
          1
         ],
         "xaxis": "x",
         "y": [
          "Fabaceae - Mimosa pudica",
          "Convolvulaceae - Ipomoea nil",
          "Apocynaceae - Catharanthus roseus",
          "Rubiaceae - Morinda citrifolia",
          "Fabaceae - Samanea saman",
          "Asteraceae - Ageratum conyzoides"
         ],
         "yaxis": "y"
        },
        {
         "alignmentgroup": "True",
         "hovertemplate": "chemical_superclass=Fatty acids-Sphingolipids<br>Recurrence=%{x}<br>genus_family=%{y}<extra></extra>",
         "legendgroup": "Fatty acids-Sphingolipids",
         "marker": {
          "color": "#ff8d0d",
          "pattern": {
           "shape": ""
          }
         },
         "name": "Fatty acids-Sphingolipids",
         "offsetgroup": "Fatty acids-Sphingolipids",
         "orientation": "h",
         "showlegend": true,
         "textposition": "auto",
         "type": "bar",
         "x": [
          2
         ],
         "xaxis": "x",
         "y": [
          "Sapindaceae - Paullinia pinnata"
         ],
         "yaxis": "y"
        },
        {
         "alignmentgroup": "True",
         "hovertemplate": "chemical_superclass=Polyketides-Aromatic polyketides<br>Recurrence=%{x}<br>genus_family=%{y}<extra></extra>",
         "legendgroup": "Polyketides-Aromatic polyketides",
         "marker": {
          "color": "#ef4b4b",
          "pattern": {
           "shape": ""
          }
         },
         "name": "Polyketides-Aromatic polyketides",
         "offsetgroup": "Polyketides-Aromatic polyketides",
         "orientation": "h",
         "showlegend": true,
         "textposition": "auto",
         "type": "bar",
         "x": [
          4,
          2,
          1,
          2,
          1
         ],
         "xaxis": "x",
         "y": [
          "Malvaceae - Talipariti tiliaceum",
          "Apocynaceae - Plumeria rubra",
          "Combretaceae - Laguncularia racemosa",
          "Rubiaceae - Morinda citrifolia",
          "Fabaceae - Caesalpinia pulcherrima"
         ],
         "yaxis": "y"
        },
        {
         "alignmentgroup": "True",
         "hovertemplate": "chemical_superclass=Polyketides-Chromanes<br>Recurrence=%{x}<br>genus_family=%{y}<extra></extra>",
         "legendgroup": "Polyketides-Chromanes",
         "marker": {
          "color": "#ec8f6a",
          "pattern": {
           "shape": ""
          }
         },
         "name": "Polyketides-Chromanes",
         "offsetgroup": "Polyketides-Chromanes",
         "orientation": "h",
         "showlegend": true,
         "textposition": "auto",
         "type": "bar",
         "x": [
          1,
          2
         ],
         "xaxis": "x",
         "y": [
          "Asteraceae - Ageratum conyzoides",
          "Malvaceae - Talipariti tiliaceum"
         ],
         "yaxis": "y"
        },
        {
         "alignmentgroup": "True",
         "hovertemplate": "chemical_superclass=Polyketides-Cyclic polyketides<br>Recurrence=%{x}<br>genus_family=%{y}<extra></extra>",
         "legendgroup": "Polyketides-Cyclic polyketides",
         "marker": {
          "color": "#ec8566",
          "pattern": {
           "shape": ""
          }
         },
         "name": "Polyketides-Cyclic polyketides",
         "offsetgroup": "Polyketides-Cyclic polyketides",
         "orientation": "h",
         "showlegend": true,
         "textposition": "auto",
         "type": "bar",
         "x": [
          2,
          1,
          1
         ],
         "xaxis": "x",
         "y": [
          "Piperaceae - Piper reticulatum",
          "Rubiaceae - Morinda citrifolia",
          "Verbenaceae - Lantana camara"
         ],
         "yaxis": "y"
        },
        {
         "alignmentgroup": "True",
         "hovertemplate": "chemical_superclass=Polyketides-Meroterpenoids<br>Recurrence=%{x}<br>genus_family=%{y}<extra></extra>",
         "legendgroup": "Polyketides-Meroterpenoids",
         "marker": {
          "color": "#ef554f",
          "pattern": {
           "shape": ""
          }
         },
         "name": "Polyketides-Meroterpenoids",
         "offsetgroup": "Polyketides-Meroterpenoids",
         "orientation": "h",
         "showlegend": true,
         "textposition": "auto",
         "type": "bar",
         "x": [
          2,
          12
         ],
         "xaxis": "x",
         "y": [
          "Calophyllaceae - Marila laxiflora",
          "Piperaceae - Peperomia galioides"
         ],
         "yaxis": "y"
        },
        {
         "alignmentgroup": "True",
         "hovertemplate": "chemical_superclass=Polyketides-Naphthalenes<br>Recurrence=%{x}<br>genus_family=%{y}<extra></extra>",
         "legendgroup": "Polyketides-Naphthalenes",
         "marker": {
          "color": "#ee5e54",
          "pattern": {
           "shape": ""
          }
         },
         "name": "Polyketides-Naphthalenes",
         "offsetgroup": "Polyketides-Naphthalenes",
         "orientation": "h",
         "showlegend": true,
         "textposition": "auto",
         "type": "bar",
         "x": [
          1,
          1,
          8,
          2,
          7,
          1,
          5,
          2
         ],
         "xaxis": "x",
         "y": [
          "Rubiaceae - Morinda citrifolia",
          "Acanthaceae - Avicennia germinans",
          "Verbenaceae - Lantana camara",
          "Bignoniaceae - Crescentia cujete",
          "Malvaceae - Talipariti tiliaceum",
          "Fabaceae - Caesalpinia pulcherrima",
          "Lythraceae - Lawsonia inermis",
          "Pontederiaceae - Eichhornia crassipes"
         ],
         "yaxis": "y"
        },
        {
         "alignmentgroup": "True",
         "hovertemplate": "chemical_superclass=Polyketides-Phloroglucinols<br>Recurrence=%{x}<br>genus_family=%{y}<extra></extra>",
         "legendgroup": "Polyketides-Phloroglucinols",
         "marker": {
          "color": "#ee6858",
          "pattern": {
           "shape": ""
          }
         },
         "name": "Polyketides-Phloroglucinols",
         "offsetgroup": "Polyketides-Phloroglucinols",
         "orientation": "h",
         "showlegend": true,
         "textposition": "auto",
         "type": "bar",
         "x": [
          1,
          1,
          8,
          1
         ],
         "xaxis": "x",
         "y": [
          "Lythraceae - Lawsonia inermis",
          "Fabaceae - Cassia grandis",
          "Clusiaceae - Tovomita longifolia",
          "Moraceae - Maclura tinctoria"
         ],
         "yaxis": "y"
        },
        {
         "alignmentgroup": "True",
         "hovertemplate": "chemical_superclass=Polyketides-Polycyclic aromatic polyketides<br>Recurrence=%{x}<br>genus_family=%{y}<extra></extra>",
         "legendgroup": "Polyketides-Polycyclic aromatic polyketides",
         "marker": {
          "color": "#ed725d",
          "pattern": {
           "shape": ""
          }
         },
         "name": "Polyketides-Polycyclic aromatic polyketides",
         "offsetgroup": "Polyketides-Polycyclic aromatic polyketides",
         "orientation": "h",
         "showlegend": true,
         "textposition": "auto",
         "type": "bar",
         "x": [
          18,
          6,
          4,
          51,
          1
         ],
         "xaxis": "x",
         "y": [
          "Picramniaceae - Picramnia latifolia",
          "Rubiaceae - Faramea occidentalis",
          "Fabaceae - Cassia grandis",
          "Rubiaceae - Morinda citrifolia",
          "Convolvulaceae - Ipomoea nil"
         ],
         "yaxis": "y"
        },
        {
         "alignmentgroup": "True",
         "hovertemplate": "chemical_superclass=Polyketides-Xanthones<br>Recurrence=%{x}<br>genus_family=%{y}<extra></extra>",
         "legendgroup": "Polyketides-Xanthones",
         "marker": {
          "color": "#ed7c61",
          "pattern": {
           "shape": ""
          }
         },
         "name": "Polyketides-Xanthones",
         "offsetgroup": "Polyketides-Xanthones",
         "orientation": "h",
         "showlegend": true,
         "textposition": "auto",
         "type": "bar",
         "x": [
          1
         ],
         "xaxis": "x",
         "y": [
          "Rubiaceae - Faramea occidentalis"
         ],
         "yaxis": "y"
        },
        {
         "alignmentgroup": "True",
         "hovertemplate": "chemical_superclass=Shikimates and Phenylpropanoids-Coumarins<br>Recurrence=%{x}<br>genus_family=%{y}<extra></extra>",
         "legendgroup": "Shikimates and Phenylpropanoids-Coumarins",
         "marker": {
          "color": "#a0759b",
          "pattern": {
           "shape": ""
          }
         },
         "name": "Shikimates and Phenylpropanoids-Coumarins",
         "offsetgroup": "Shikimates and Phenylpropanoids-Coumarins",
         "orientation": "h",
         "showlegend": true,
         "textposition": "auto",
         "type": "bar",
         "x": [
          2,
          4,
          1,
          1,
          4,
          1,
          4,
          1,
          3,
          1,
          2,
          1,
          4
         ],
         "xaxis": "x",
         "y": [
          "Fabaceae - Prosopis juliflora",
          "Convolvulaceae - Ipomoea nil",
          "Convolvulaceae - Camonea umbellata",
          "Apocynaceae - Plumeria rubra",
          "Lythraceae - Lawsonia inermis",
          "Asteraceae - Mikania micrantha",
          "Euphorbiaceae - Jatropha gossypiifolia",
          "Asteraceae - Ageratum conyzoides",
          "Malvaceae - Talipariti tiliaceum",
          "Fabaceae - Gliricidia sepium",
          "Picramniaceae - Picramnia latifolia",
          "Combretaceae - Laguncularia racemosa",
          "Rubiaceae - Morinda citrifolia"
         ],
         "yaxis": "y"
        },
        {
         "alignmentgroup": "True",
         "hovertemplate": "chemical_superclass=Shikimates and Phenylpropanoids-Flavonoids<br>Recurrence=%{x}<br>genus_family=%{y}<extra></extra>",
         "legendgroup": "Shikimates and Phenylpropanoids-Flavonoids",
         "marker": {
          "color": "#956a96",
          "pattern": {
           "shape": ""
          }
         },
         "name": "Shikimates and Phenylpropanoids-Flavonoids",
         "offsetgroup": "Shikimates and Phenylpropanoids-Flavonoids",
         "orientation": "h",
         "showlegend": true,
         "textposition": "auto",
         "type": "bar",
         "x": [
          4,
          8,
          1,
          9,
          15,
          20,
          1,
          17,
          14,
          14,
          22,
          2,
          1,
          16,
          4,
          3,
          12,
          1,
          11,
          7,
          4,
          1,
          2,
          13,
          10,
          4,
          4,
          19,
          2,
          1,
          16,
          1,
          24,
          3,
          30,
          7,
          3,
          4,
          1,
          8
         ],
         "xaxis": "x",
         "y": [
          "Sapindaceae - Paullinia pinnata",
          "Verbenaceae - Lantana camara",
          "Calophyllaceae - Marila laxiflora",
          "Polygonaceae - Persicaria pubescens",
          "Rubiaceae - Morinda citrifolia",
          "Lythraceae - Lawsonia inermis",
          "Malvaceae - Apeiba tibourbou",
          "Convolvulaceae - Ipomoea nil",
          "Brassicaceae - Nasturtium officinale",
          "Fabaceae - Lonchocarpus heptaphyllus",
          "Moraceae - Maclura tinctoria",
          "Poaceae - Arthraxon hispidus",
          "Piperaceae - Piper reticulatum",
          "Asteraceae - Ageratum conyzoides",
          "Asteraceae - Mikania micrantha",
          "Urticaceae - Phenax angustifolius",
          "Combretaceae - Laguncularia racemosa",
          "Fabaceae - Hymenaea courbaril",
          "Fabaceae - Mimosa pudica",
          "Onagraceae - Fuchsia splendens",
          "Moraceae - Ficus maxima",
          "Euphorbiaceae - Euphorbia hypericifolia",
          "Fabaceae - Erythrina berteroana",
          "Poaceae - Saccharum officinarum",
          "Asteraceae - Ageratina ligustrina",
          "Calceolariaceae - Calceolaria irazuensis",
          "Myrtaceae - Syzygium malaccense",
          "Poaceae - Cymbopogon citratus",
          "Convolvulaceae - Camonea umbellata",
          "Moraceae - Clarisia racemosa",
          "Vitaceae - Cissus verticillata",
          "Asteraceae - Verbesina myriocephala",
          "Apocynaceae - Catharanthus roseus",
          "Fabaceae - Cassia grandis",
          "Fabaceae - Caesalpinia pulcherrima",
          "Fabaceae - Gliricidia sepium",
          "Pontederiaceae - Eichhornia crassipes",
          "Apocynaceae - Plumeria rubra",
          "Chloranthaceae - Hedyosmum bonplandianum",
          "Fabaceae - Prosopis juliflora"
         ],
         "yaxis": "y"
        },
        {
         "alignmentgroup": "True",
         "hovertemplate": "chemical_superclass=Shikimates and Phenylpropanoids-Isoflavonoids<br>Recurrence=%{x}<br>genus_family=%{y}<extra></extra>",
         "legendgroup": "Shikimates and Phenylpropanoids-Isoflavonoids",
         "marker": {
          "color": "#ab809f",
          "pattern": {
           "shape": ""
          }
         },
         "name": "Shikimates and Phenylpropanoids-Isoflavonoids",
         "offsetgroup": "Shikimates and Phenylpropanoids-Isoflavonoids",
         "orientation": "h",
         "showlegend": true,
         "textposition": "auto",
         "type": "bar",
         "x": [
          1,
          2,
          7,
          1,
          2,
          5,
          4,
          1,
          4,
          5,
          18
         ],
         "xaxis": "x",
         "y": [
          "Fabaceae - Guilandina bonduc",
          "Fabaceae - Erythrina berteroana",
          "Poaceae - Cymbopogon citratus",
          "Asteraceae - Ageratum conyzoides",
          "Vitaceae - Cissus verticillata",
          "Fabaceae - Canavalia rosea",
          "Fabaceae - Caesalpinia pulcherrima",
          "Fabaceae - Prosopis juliflora",
          "Moraceae - Maclura tinctoria",
          "Fabaceae - Lonchocarpus heptaphyllus",
          "Fabaceae - Gliricidia sepium"
         ],
         "yaxis": "y"
        },
        {
         "alignmentgroup": "True",
         "hovertemplate": "chemical_superclass=Shikimates and Phenylpropanoids-Lignans<br>Recurrence=%{x}<br>genus_family=%{y}<extra></extra>",
         "legendgroup": "Shikimates and Phenylpropanoids-Lignans",
         "marker": {
          "color": "#8b6091",
          "pattern": {
           "shape": ""
          }
         },
         "name": "Shikimates and Phenylpropanoids-Lignans",
         "offsetgroup": "Shikimates and Phenylpropanoids-Lignans",
         "orientation": "h",
         "showlegend": true,
         "textposition": "auto",
         "type": "bar",
         "x": [
          1,
          4,
          32,
          2,
          1,
          5,
          2,
          1,
          1,
          1,
          2,
          3,
          5,
          1,
          1,
          1,
          2,
          3,
          2,
          2,
          1
         ],
         "xaxis": "x",
         "y": [
          "Vitaceae - Cissus verticillata",
          "Lythraceae - Lawsonia inermis",
          "Rubiaceae - Morinda citrifolia",
          "Fabaceae - Gliricidia sepium",
          "Asteraceae - Ageratum conyzoides",
          "Convolvulaceae - Ipomoea nil",
          "Brassicaceae - Nasturtium officinale",
          "Apocynaceae - Plumeria rubra",
          "Acanthaceae - Avicennia germinans",
          "Malvaceae - Talipariti tiliaceum",
          "Bignoniaceae - Crescentia cujete",
          "Euphorbiaceae - Jatropha gossypiifolia",
          "Combretaceae - Laguncularia racemosa",
          "Fabaceae - Cassia grandis",
          "Fabaceae - Prosopis juliflora",
          "Asteraceae - Ageratina ligustrina",
          "Verbenaceae - Lantana camara",
          "Phyllanthaceae - Phyllanthus acuminatus",
          "Urticaceae - Phenax angustifolius",
          "Poaceae - Saccharum officinarum",
          "Piperaceae - Piper tuberculatum"
         ],
         "yaxis": "y"
        },
        {
         "alignmentgroup": "True",
         "hovertemplate": "chemical_superclass=Shikimates and Phenylpropanoids-Phenanthrenoids<br>Recurrence=%{x}<br>genus_family=%{y}<extra></extra>",
         "legendgroup": "Shikimates and Phenylpropanoids-Phenanthrenoids",
         "marker": {
          "color": "#cba0ae",
          "pattern": {
           "shape": ""
          }
         },
         "name": "Shikimates and Phenylpropanoids-Phenanthrenoids",
         "offsetgroup": "Shikimates and Phenylpropanoids-Phenanthrenoids",
         "orientation": "h",
         "showlegend": true,
         "textposition": "auto",
         "type": "bar",
         "x": [
          4
         ],
         "xaxis": "x",
         "y": [
          "Pontederiaceae - Eichhornia crassipes"
         ],
         "yaxis": "y"
        },
        {
         "alignmentgroup": "True",
         "hovertemplate": "chemical_superclass=Shikimates and Phenylpropanoids-Phenolic acids (C6-C1)<br>Recurrence=%{x}<br>genus_family=%{y}<extra></extra>",
         "legendgroup": "Shikimates and Phenylpropanoids-Phenolic acids (C6-C1)",
         "marker": {
          "color": "#EF553B",
          "pattern": {
           "shape": ""
          }
         },
         "name": "Shikimates and Phenylpropanoids-Phenolic acids (C6-C1)",
         "offsetgroup": "Shikimates and Phenylpropanoids-Phenolic acids (C6-C1)",
         "orientation": "h",
         "showlegend": true,
         "textposition": "auto",
         "type": "bar",
         "x": [
          1,
          3,
          4,
          1,
          1,
          1,
          1,
          2,
          2,
          2,
          4,
          7,
          1,
          1,
          2,
          6,
          2,
          1,
          2,
          3
         ],
         "xaxis": "x",
         "y": [
          "Rubiaceae - Morinda citrifolia",
          "Malvaceae - Talipariti tiliaceum",
          "Apocynaceae - Catharanthus roseus",
          "Chloranthaceae - Hedyosmum bonplandianum",
          "Fabaceae - Cassia grandis",
          "Calophyllaceae - Marila laxiflora",
          "Convolvulaceae - Ipomoea nil",
          "Asteraceae - Verbesina myriocephala",
          "Myrtaceae - Syzygium malaccense",
          "Fabaceae - Mimosa pudica",
          "Bignoniaceae - Crescentia cujete",
          "Apocynaceae - Plumeria rubra",
          "Polygonaceae - Persicaria pubescens",
          "Lythraceae - Lawsonia inermis",
          "Euphorbiaceae - Sapium laurifolium",
          "Fabaceae - Gliricidia sepium",
          "Combretaceae - Laguncularia racemosa",
          "Asteraceae - Ageratina ligustrina",
          "Fabaceae - Caesalpinia pulcherrima",
          "Pontederiaceae - Eichhornia crassipes"
         ],
         "yaxis": "y"
        },
        {
         "alignmentgroup": "True",
         "hovertemplate": "chemical_superclass=Shikimates and Phenylpropanoids-Phenylethanoids (C6-C2)<br>Recurrence=%{x}<br>genus_family=%{y}<extra></extra>",
         "legendgroup": "Shikimates and Phenylpropanoids-Phenylethanoids (C6-C2)",
         "marker": {
          "color": "#00cc96",
          "pattern": {
           "shape": ""
          }
         },
         "name": "Shikimates and Phenylpropanoids-Phenylethanoids (C6-C2)",
         "offsetgroup": "Shikimates and Phenylpropanoids-Phenylethanoids (C6-C2)",
         "orientation": "h",
         "showlegend": true,
         "textposition": "auto",
         "type": "bar",
         "x": [
          5,
          1
         ],
         "xaxis": "x",
         "y": [
          "Convolvulaceae - Ipomoea nil",
          "Apocynaceae - Plumeria rubra"
         ],
         "yaxis": "y"
        },
        {
         "alignmentgroup": "True",
         "hovertemplate": "chemical_superclass=Shikimates and Phenylpropanoids-Phenylpropanoids (C6-C3)<br>Recurrence=%{x}<br>genus_family=%{y}<extra></extra>",
         "legendgroup": "Shikimates and Phenylpropanoids-Phenylpropanoids (C6-C3)",
         "marker": {
          "color": "#ab63fa",
          "pattern": {
           "shape": ""
          }
         },
         "name": "Shikimates and Phenylpropanoids-Phenylpropanoids (C6-C3)",
         "offsetgroup": "Shikimates and Phenylpropanoids-Phenylpropanoids (C6-C3)",
         "orientation": "h",
         "showlegend": true,
         "textposition": "auto",
         "type": "bar",
         "x": [
          5,
          1,
          2,
          3,
          2,
          6,
          2,
          2,
          1,
          16,
          1,
          1,
          1,
          1,
          10,
          1,
          8,
          2,
          7,
          3
         ],
         "xaxis": "x",
         "y": [
          "Apocynaceae - Plumeria rubra",
          "Asteraceae - Ageratum conyzoides",
          "Poaceae - Saccharum officinarum",
          "Rubiaceae - Morinda citrifolia",
          "Malvaceae - Talipariti tiliaceum",
          "Piperaceae - Piper tuberculatum",
          "Asteraceae - Verbesina myriocephala",
          "Poaceae - Urochloa decumbens",
          "Fabaceae - Cassia grandis",
          "Convolvulaceae - Ipomoea nil",
          "Acanthaceae - Avicennia germinans",
          "Fabaceae - Mimosa pudica",
          "Malvaceae - Apeiba tibourbou",
          "Combretaceae - Laguncularia racemosa",
          "Verbenaceae - Lantana camara",
          "Fabaceae - Guilandina bonduc",
          "Fabaceae - Gliricidia sepium",
          "Pontederiaceae - Eichhornia crassipes",
          "Poaceae - Cymbopogon citratus",
          "Convolvulaceae - Camonea umbellata"
         ],
         "yaxis": "y"
        },
        {
         "alignmentgroup": "True",
         "hovertemplate": "chemical_superclass=Shikimates and Phenylpropanoids-Stilbenoids<br>Recurrence=%{x}<br>genus_family=%{y}<extra></extra>",
         "legendgroup": "Shikimates and Phenylpropanoids-Stilbenoids",
         "marker": {
          "color": "#c095a9",
          "pattern": {
           "shape": ""
          }
         },
         "name": "Shikimates and Phenylpropanoids-Stilbenoids",
         "offsetgroup": "Shikimates and Phenylpropanoids-Stilbenoids",
         "orientation": "h",
         "showlegend": true,
         "textposition": "auto",
         "type": "bar",
         "x": [
          2,
          1
         ],
         "xaxis": "x",
         "y": [
          "Fabaceae - Lonchocarpus heptaphyllus",
          "Poaceae - Saccharum officinarum"
         ],
         "yaxis": "y"
        },
        {
         "alignmentgroup": "True",
         "hovertemplate": "chemical_superclass=Shikimates and Phenylpropanoids-Xanthones<br>Recurrence=%{x}<br>genus_family=%{y}<extra></extra>",
         "legendgroup": "Shikimates and Phenylpropanoids-Xanthones",
         "marker": {
          "color": "#b68ba4",
          "pattern": {
           "shape": ""
          }
         },
         "name": "Shikimates and Phenylpropanoids-Xanthones",
         "offsetgroup": "Shikimates and Phenylpropanoids-Xanthones",
         "orientation": "h",
         "showlegend": true,
         "textposition": "auto",
         "type": "bar",
         "x": [
          2,
          4,
          3
         ],
         "xaxis": "x",
         "y": [
          "Calophyllaceae - Marila laxiflora",
          "Moraceae - Maclura tinctoria",
          "Lythraceae - Lawsonia inermis"
         ],
         "yaxis": "y"
        },
        {
         "alignmentgroup": "True",
         "hovertemplate": "chemical_superclass=Terpenoids-Apocarotenoids<br>Recurrence=%{x}<br>genus_family=%{y}<extra></extra>",
         "legendgroup": "Terpenoids-Apocarotenoids",
         "marker": {
          "color": "#b0cab3",
          "pattern": {
           "shape": ""
          }
         },
         "name": "Terpenoids-Apocarotenoids",
         "offsetgroup": "Terpenoids-Apocarotenoids",
         "orientation": "h",
         "showlegend": true,
         "textposition": "auto",
         "type": "bar",
         "x": [
          2,
          2,
          1,
          2,
          6,
          2,
          1
         ],
         "xaxis": "x",
         "y": [
          "Convolvulaceae - Ipomoea nil",
          "Lythraceae - Lawsonia inermis",
          "Apocynaceae - Plumeria rubra",
          "Poaceae - Saccharum officinarum",
          "Apocynaceae - Catharanthus roseus",
          "Fabaceae - Prosopis juliflora",
          "Rubiaceae - Morinda citrifolia"
         ],
         "yaxis": "y"
        },
        {
         "alignmentgroup": "True",
         "hovertemplate": "chemical_superclass=Terpenoids-Carotenoids (C40)<br>Recurrence=%{x}<br>genus_family=%{y}<extra></extra>",
         "legendgroup": "Terpenoids-Carotenoids (C40)",
         "marker": {
          "color": "#d0e7d2",
          "pattern": {
           "shape": ""
          }
         },
         "name": "Terpenoids-Carotenoids (C40)",
         "offsetgroup": "Terpenoids-Carotenoids (C40)",
         "orientation": "h",
         "showlegend": true,
         "textposition": "auto",
         "type": "bar",
         "x": [
          4,
          3
         ],
         "xaxis": "x",
         "y": [
          "Apocynaceae - Catharanthus roseus",
          "Brassicaceae - Nasturtium officinale"
         ],
         "yaxis": "y"
        },
        {
         "alignmentgroup": "True",
         "hovertemplate": "chemical_superclass=Terpenoids-Diterpenoids<br>Recurrence=%{x}<br>genus_family=%{y}<extra></extra>",
         "legendgroup": "Terpenoids-Diterpenoids",
         "marker": {
          "color": "#719074",
          "pattern": {
           "shape": ""
          }
         },
         "name": "Terpenoids-Diterpenoids",
         "offsetgroup": "Terpenoids-Diterpenoids",
         "orientation": "h",
         "showlegend": true,
         "textposition": "auto",
         "type": "bar",
         "x": [
          18,
          39,
          85,
          11,
          9,
          1,
          15,
          46,
          5,
          4,
          1,
          2,
          3,
          1,
          2
         ],
         "xaxis": "x",
         "y": [
          "Fabaceae - Hymenaea courbaril",
          "Convolvulaceae - Ipomoea nil",
          "Fabaceae - Guilandina bonduc",
          "Euphorbiaceae - Jatropha gossypiifolia",
          "Annonaceae - Xylopia frutescens",
          "Poaceae - Cymbopogon citratus",
          "Asteraceae - Ageratina ixiocladon",
          "Fabaceae - Caesalpinia pulcherrima",
          "Phyllanthaceae - Phyllanthus acuminatus",
          "Rhizophoraceae - Rhizophora mangle",
          "Rubiaceae - Morinda citrifolia",
          "Apocynaceae - Catharanthus roseus",
          "Asteraceae - Mikania micrantha",
          "Euphorbiaceae - Cnidoscolus urens",
          "Rubiaceae - Alibertia edulis"
         ],
         "yaxis": "y"
        },
        {
         "alignmentgroup": "True",
         "hovertemplate": "chemical_superclass=Terpenoids-Meroterpenoids<br>Recurrence=%{x}<br>genus_family=%{y}<extra></extra>",
         "legendgroup": "Terpenoids-Meroterpenoids",
         "marker": {
          "color": "#91ad93",
          "pattern": {
           "shape": ""
          }
         },
         "name": "Terpenoids-Meroterpenoids",
         "offsetgroup": "Terpenoids-Meroterpenoids",
         "orientation": "h",
         "showlegend": true,
         "textposition": "auto",
         "type": "bar",
         "x": [
          9,
          1,
          2
         ],
         "xaxis": "x",
         "y": [
          "Asteraceae - Ageratum conyzoides",
          "Asteraceae - Ageratina ixiocladon",
          "Malvaceae - Talipariti tiliaceum"
         ],
         "yaxis": "y"
        },
        {
         "alignmentgroup": "True",
         "hovertemplate": "chemical_superclass=Terpenoids-Monoterpenoids<br>Recurrence=%{x}<br>genus_family=%{y}<extra></extra>",
         "legendgroup": "Terpenoids-Monoterpenoids",
         "marker": {
          "color": "#618264",
          "pattern": {
           "shape": ""
          }
         },
         "name": "Terpenoids-Monoterpenoids",
         "offsetgroup": "Terpenoids-Monoterpenoids",
         "orientation": "h",
         "showlegend": true,
         "textposition": "auto",
         "type": "bar",
         "x": [
          3,
          2,
          44,
          31,
          42,
          2,
          15,
          8,
          2,
          1,
          21,
          37,
          26,
          2,
          3,
          1,
          3,
          1,
          1,
          40,
          1
         ],
         "xaxis": "x",
         "y": [
          "Rubiaceae - Alibertia edulis",
          "Rubiaceae - Posoqueria latifolia",
          "Poaceae - Cymbopogon citratus",
          "Asteraceae - Ageratum conyzoides",
          "Apocynaceae - Plumeria rubra",
          "Fabaceae - Prosopis juliflora",
          "Apocynaceae - Catharanthus roseus",
          "Chloranthaceae - Hedyosmum bonplandianum",
          "Acanthaceae - Avicennia germinans",
          "Fabaceae - Caesalpinia pulcherrima",
          "Bignoniaceae - Crescentia cujete",
          "Rubiaceae - Morinda citrifolia",
          "Rubiaceae - Genipa americana",
          "Acanthaceae - Avicennia bicolor",
          "Bignoniaceae - Handroanthus chrysanthus",
          "Rhizophoraceae - Rhizophora mangle",
          "Myrtaceae - Myrciaria floribunda",
          "Lythraceae - Lawsonia inermis",
          "Piperaceae - Peperomia galioides",
          "Verbenaceae - Lantana camara",
          "Polygonaceae - Persicaria pubescens"
         ],
         "yaxis": "y"
        },
        {
         "alignmentgroup": "True",
         "hovertemplate": "chemical_superclass=Terpenoids-Sesquiterpenoids<br>Recurrence=%{x}<br>genus_family=%{y}<extra></extra>",
         "legendgroup": "Terpenoids-Sesquiterpenoids",
         "marker": {
          "color": "#819f83",
          "pattern": {
           "shape": ""
          }
         },
         "name": "Terpenoids-Sesquiterpenoids",
         "offsetgroup": "Terpenoids-Sesquiterpenoids",
         "orientation": "h",
         "showlegend": true,
         "textposition": "auto",
         "type": "bar",
         "x": [
          3,
          10,
          9,
          21,
          4,
          40,
          3,
          1,
          5,
          3,
          3,
          14,
          11,
          1,
          8,
          3,
          30,
          5,
          12,
          6,
          2,
          29
         ],
         "xaxis": "x",
         "y": [
          "Polygonaceae - Persicaria pubescens",
          "Fabaceae - Caesalpinia pulcherrima",
          "Malvaceae - Talipariti tiliaceum",
          "Asteraceae - Mikania micrantha",
          "Pteridaceae - Acrostichum aureum",
          "Verbenaceae - Lantana camara",
          "Apocynaceae - Plumeria rubra",
          "Burseraceae - Trattinnickia aspera",
          "Asteraceae - Onoseris onoseroides",
          "Lamiaceae - Mesosphaerum suaveolens",
          "Piperaceae - Peperomia galioides",
          "Asteraceae - Telanthophora grandifolia",
          "Chloranthaceae - Hedyosmum bonplandianum",
          "Celastraceae - Maytenus woodsonii",
          "Asteraceae - Ageratina ligustrina",
          "Apocynaceae - Catharanthus roseus",
          "Asteraceae - Ageratum conyzoides",
          "Poaceae - Cymbopogon citratus",
          "Asteraceae - Piptocarpha poeppigiana",
          "Asteraceae - Ageratina ixiocladon",
          "Euphorbiaceae - Jatropha gossypiifolia",
          "Asteraceae - Calea urticifolia"
         ],
         "yaxis": "y"
        },
        {
         "alignmentgroup": "True",
         "hovertemplate": "chemical_superclass=Terpenoids-Steroids<br>Recurrence=%{x}<br>genus_family=%{y}<extra></extra>",
         "legendgroup": "Terpenoids-Steroids",
         "marker": {
          "color": "#c0d9c2",
          "pattern": {
           "shape": ""
          }
         },
         "name": "Terpenoids-Steroids",
         "offsetgroup": "Terpenoids-Steroids",
         "orientation": "h",
         "showlegend": true,
         "textposition": "auto",
         "type": "bar",
         "x": [
          3,
          3,
          2,
          31,
          25,
          3,
          5,
          1,
          3,
          3,
          1,
          3,
          1,
          10,
          1,
          4,
          2,
          1,
          3,
          8,
          4,
          2,
          3,
          1,
          7,
          1,
          1,
          1
         ],
         "xaxis": "x",
         "y": [
          "Pontederiaceae - Eichhornia crassipes",
          "Meliaceae - Trichilia pallida",
          "Fabaceae - Caesalpinia pulcherrima",
          "Asparagaceae - Sansevieria trifasciata",
          "Apocynaceae - Catharanthus roseus",
          "Poaceae - Urochloa decumbens",
          "Smilacaceae - Smilax officinalis",
          "Asteraceae - Verbesina myriocephala",
          "Apocynaceae - Cryptostegia madagascariensis",
          "Asteraceae - Ageratum conyzoides",
          "Moraceae - Ficus benjamina",
          "Asteraceae - Mikania micrantha",
          "Fabaceae - Cassia grandis",
          "Rubiaceae - Morinda citrifolia",
          "Asteraceae - Onoseris onoseroides",
          "Lythraceae - Lawsonia inermis",
          "Sapindaceae - Paullinia pinnata",
          "Rubiaceae - Faramea occidentalis",
          "Polygonaceae - Persicaria pubescens",
          "Verbenaceae - Lantana camara",
          "Picramniaceae - Picramnia latifolia",
          "Euphorbiaceae - Jatropha gossypiifolia",
          "Convolvulaceae - Ipomoea nil",
          "Annonaceae - Xylopia frutescens",
          "Fabaceae - Guilandina bonduc",
          "Apocynaceae - Plumeria rubra",
          "Simaroubaceae - Quassia amara",
          "Fabaceae - Gliricidia sepium"
         ],
         "yaxis": "y"
        },
        {
         "alignmentgroup": "True",
         "hovertemplate": "chemical_superclass=Terpenoids-Triterpenoids<br>Recurrence=%{x}<br>genus_family=%{y}<extra></extra>",
         "legendgroup": "Terpenoids-Triterpenoids",
         "marker": {
          "color": "#a0bca3",
          "pattern": {
           "shape": ""
          }
         },
         "name": "Terpenoids-Triterpenoids",
         "offsetgroup": "Terpenoids-Triterpenoids",
         "orientation": "h",
         "showlegend": true,
         "textposition": "auto",
         "type": "bar",
         "x": [
          1,
          12,
          2,
          9,
          18,
          1,
          20,
          4,
          1,
          3,
          1,
          16,
          2,
          1,
          5,
          11,
          4,
          2,
          5,
          1,
          8,
          10,
          69,
          3,
          3,
          1,
          2,
          2,
          11,
          2
         ],
         "xaxis": "x",
         "y": [
          "Moraceae - Maclura tinctoria",
          "Rubiaceae - Morinda citrifolia",
          "Burseraceae - Trattinnickia aspera",
          "Meliaceae - Trichilia pallida",
          "Simaroubaceae - Quassia amara",
          "Calophyllaceae - Marila laxiflora",
          "Celastraceae - Maytenus woodsonii",
          "Lamiaceae - Mesosphaerum suaveolens",
          "Rhizophoraceae - Rhizophora mangle",
          "Asteraceae - Mikania micrantha",
          "Asteraceae - Ageratum conyzoides",
          "Rubiaceae - Alibertia edulis",
          "Asteraceae - Ageratina ligustrina",
          "Asteraceae - Onoseris onoseroides",
          "Fabaceae - Guilandina bonduc",
          "Lythraceae - Lawsonia inermis",
          "Apocynaceae - Catharanthus roseus",
          "Moraceae - Ficus benjamina",
          "Euphorbiaceae - Cnidoscolus urens",
          "Fabaceae - Cojoba arborea",
          "Fabaceae - Gliricidia sepium",
          "Apocynaceae - Plumeria rubra",
          "Verbenaceae - Lantana camara",
          "Poaceae - Saccharum officinarum",
          "Phytolaccaceae - Phytolacca rivinoides",
          "Euphorbiaceae - Jatropha gossypiifolia",
          "Fabaceae - Caesalpinia pulcherrima",
          "Convolvulaceae - Ipomoea nil",
          "Malvaceae - Talipariti tiliaceum",
          "Sapindaceae - Paullinia pinnata"
         ],
         "yaxis": "y"
        }
       ],
       "layout": {
        "barmode": "relative",
        "font": {
         "color": "black",
         "family": "Times New Roman",
         "size": 20
        },
        "height": 2500,
        "legend": {
         "title": {
          "text": "chemical_superclass"
         },
         "tracegroupgap": 0
        },
        "margin": {
         "t": 60
        },
        "plot_bgcolor": "white",
        "template": {
         "data": {
          "bar": [
           {
            "error_x": {
             "color": "#2a3f5f"
            },
            "error_y": {
             "color": "#2a3f5f"
            },
            "marker": {
             "line": {
              "color": "#E5ECF6",
              "width": 0.5
             },
             "pattern": {
              "fillmode": "overlay",
              "size": 10,
              "solidity": 0.2
             }
            },
            "type": "bar"
           }
          ],
          "barpolar": [
           {
            "marker": {
             "line": {
              "color": "#E5ECF6",
              "width": 0.5
             },
             "pattern": {
              "fillmode": "overlay",
              "size": 10,
              "solidity": 0.2
             }
            },
            "type": "barpolar"
           }
          ],
          "carpet": [
           {
            "aaxis": {
             "endlinecolor": "#2a3f5f",
             "gridcolor": "white",
             "linecolor": "white",
             "minorgridcolor": "white",
             "startlinecolor": "#2a3f5f"
            },
            "baxis": {
             "endlinecolor": "#2a3f5f",
             "gridcolor": "white",
             "linecolor": "white",
             "minorgridcolor": "white",
             "startlinecolor": "#2a3f5f"
            },
            "type": "carpet"
           }
          ],
          "choropleth": [
           {
            "colorbar": {
             "outlinewidth": 0,
             "ticks": ""
            },
            "type": "choropleth"
           }
          ],
          "contour": [
           {
            "colorbar": {
             "outlinewidth": 0,
             "ticks": ""
            },
            "colorscale": [
             [
              0,
              "#0d0887"
             ],
             [
              0.1111111111111111,
              "#46039f"
             ],
             [
              0.2222222222222222,
              "#7201a8"
             ],
             [
              0.3333333333333333,
              "#9c179e"
             ],
             [
              0.4444444444444444,
              "#bd3786"
             ],
             [
              0.5555555555555556,
              "#d8576b"
             ],
             [
              0.6666666666666666,
              "#ed7953"
             ],
             [
              0.7777777777777778,
              "#fb9f3a"
             ],
             [
              0.8888888888888888,
              "#fdca26"
             ],
             [
              1,
              "#f0f921"
             ]
            ],
            "type": "contour"
           }
          ],
          "contourcarpet": [
           {
            "colorbar": {
             "outlinewidth": 0,
             "ticks": ""
            },
            "type": "contourcarpet"
           }
          ],
          "heatmap": [
           {
            "colorbar": {
             "outlinewidth": 0,
             "ticks": ""
            },
            "colorscale": [
             [
              0,
              "#0d0887"
             ],
             [
              0.1111111111111111,
              "#46039f"
             ],
             [
              0.2222222222222222,
              "#7201a8"
             ],
             [
              0.3333333333333333,
              "#9c179e"
             ],
             [
              0.4444444444444444,
              "#bd3786"
             ],
             [
              0.5555555555555556,
              "#d8576b"
             ],
             [
              0.6666666666666666,
              "#ed7953"
             ],
             [
              0.7777777777777778,
              "#fb9f3a"
             ],
             [
              0.8888888888888888,
              "#fdca26"
             ],
             [
              1,
              "#f0f921"
             ]
            ],
            "type": "heatmap"
           }
          ],
          "heatmapgl": [
           {
            "colorbar": {
             "outlinewidth": 0,
             "ticks": ""
            },
            "colorscale": [
             [
              0,
              "#0d0887"
             ],
             [
              0.1111111111111111,
              "#46039f"
             ],
             [
              0.2222222222222222,
              "#7201a8"
             ],
             [
              0.3333333333333333,
              "#9c179e"
             ],
             [
              0.4444444444444444,
              "#bd3786"
             ],
             [
              0.5555555555555556,
              "#d8576b"
             ],
             [
              0.6666666666666666,
              "#ed7953"
             ],
             [
              0.7777777777777778,
              "#fb9f3a"
             ],
             [
              0.8888888888888888,
              "#fdca26"
             ],
             [
              1,
              "#f0f921"
             ]
            ],
            "type": "heatmapgl"
           }
          ],
          "histogram": [
           {
            "marker": {
             "pattern": {
              "fillmode": "overlay",
              "size": 10,
              "solidity": 0.2
             }
            },
            "type": "histogram"
           }
          ],
          "histogram2d": [
           {
            "colorbar": {
             "outlinewidth": 0,
             "ticks": ""
            },
            "colorscale": [
             [
              0,
              "#0d0887"
             ],
             [
              0.1111111111111111,
              "#46039f"
             ],
             [
              0.2222222222222222,
              "#7201a8"
             ],
             [
              0.3333333333333333,
              "#9c179e"
             ],
             [
              0.4444444444444444,
              "#bd3786"
             ],
             [
              0.5555555555555556,
              "#d8576b"
             ],
             [
              0.6666666666666666,
              "#ed7953"
             ],
             [
              0.7777777777777778,
              "#fb9f3a"
             ],
             [
              0.8888888888888888,
              "#fdca26"
             ],
             [
              1,
              "#f0f921"
             ]
            ],
            "type": "histogram2d"
           }
          ],
          "histogram2dcontour": [
           {
            "colorbar": {
             "outlinewidth": 0,
             "ticks": ""
            },
            "colorscale": [
             [
              0,
              "#0d0887"
             ],
             [
              0.1111111111111111,
              "#46039f"
             ],
             [
              0.2222222222222222,
              "#7201a8"
             ],
             [
              0.3333333333333333,
              "#9c179e"
             ],
             [
              0.4444444444444444,
              "#bd3786"
             ],
             [
              0.5555555555555556,
              "#d8576b"
             ],
             [
              0.6666666666666666,
              "#ed7953"
             ],
             [
              0.7777777777777778,
              "#fb9f3a"
             ],
             [
              0.8888888888888888,
              "#fdca26"
             ],
             [
              1,
              "#f0f921"
             ]
            ],
            "type": "histogram2dcontour"
           }
          ],
          "mesh3d": [
           {
            "colorbar": {
             "outlinewidth": 0,
             "ticks": ""
            },
            "type": "mesh3d"
           }
          ],
          "parcoords": [
           {
            "line": {
             "colorbar": {
              "outlinewidth": 0,
              "ticks": ""
             }
            },
            "type": "parcoords"
           }
          ],
          "pie": [
           {
            "automargin": true,
            "type": "pie"
           }
          ],
          "scatter": [
           {
            "fillpattern": {
             "fillmode": "overlay",
             "size": 10,
             "solidity": 0.2
            },
            "type": "scatter"
           }
          ],
          "scatter3d": [
           {
            "line": {
             "colorbar": {
              "outlinewidth": 0,
              "ticks": ""
             }
            },
            "marker": {
             "colorbar": {
              "outlinewidth": 0,
              "ticks": ""
             }
            },
            "type": "scatter3d"
           }
          ],
          "scattercarpet": [
           {
            "marker": {
             "colorbar": {
              "outlinewidth": 0,
              "ticks": ""
             }
            },
            "type": "scattercarpet"
           }
          ],
          "scattergeo": [
           {
            "marker": {
             "colorbar": {
              "outlinewidth": 0,
              "ticks": ""
             }
            },
            "type": "scattergeo"
           }
          ],
          "scattergl": [
           {
            "marker": {
             "colorbar": {
              "outlinewidth": 0,
              "ticks": ""
             }
            },
            "type": "scattergl"
           }
          ],
          "scattermapbox": [
           {
            "marker": {
             "colorbar": {
              "outlinewidth": 0,
              "ticks": ""
             }
            },
            "type": "scattermapbox"
           }
          ],
          "scatterpolar": [
           {
            "marker": {
             "colorbar": {
              "outlinewidth": 0,
              "ticks": ""
             }
            },
            "type": "scatterpolar"
           }
          ],
          "scatterpolargl": [
           {
            "marker": {
             "colorbar": {
              "outlinewidth": 0,
              "ticks": ""
             }
            },
            "type": "scatterpolargl"
           }
          ],
          "scatterternary": [
           {
            "marker": {
             "colorbar": {
              "outlinewidth": 0,
              "ticks": ""
             }
            },
            "type": "scatterternary"
           }
          ],
          "surface": [
           {
            "colorbar": {
             "outlinewidth": 0,
             "ticks": ""
            },
            "colorscale": [
             [
              0,
              "#0d0887"
             ],
             [
              0.1111111111111111,
              "#46039f"
             ],
             [
              0.2222222222222222,
              "#7201a8"
             ],
             [
              0.3333333333333333,
              "#9c179e"
             ],
             [
              0.4444444444444444,
              "#bd3786"
             ],
             [
              0.5555555555555556,
              "#d8576b"
             ],
             [
              0.6666666666666666,
              "#ed7953"
             ],
             [
              0.7777777777777778,
              "#fb9f3a"
             ],
             [
              0.8888888888888888,
              "#fdca26"
             ],
             [
              1,
              "#f0f921"
             ]
            ],
            "type": "surface"
           }
          ],
          "table": [
           {
            "cells": {
             "fill": {
              "color": "#EBF0F8"
             },
             "line": {
              "color": "white"
             }
            },
            "header": {
             "fill": {
              "color": "#C8D4E3"
             },
             "line": {
              "color": "white"
             }
            },
            "type": "table"
           }
          ]
         },
         "layout": {
          "annotationdefaults": {
           "arrowcolor": "#2a3f5f",
           "arrowhead": 0,
           "arrowwidth": 1
          },
          "autotypenumbers": "strict",
          "coloraxis": {
           "colorbar": {
            "outlinewidth": 0,
            "ticks": ""
           }
          },
          "colorscale": {
           "diverging": [
            [
             0,
             "#8e0152"
            ],
            [
             0.1,
             "#c51b7d"
            ],
            [
             0.2,
             "#de77ae"
            ],
            [
             0.3,
             "#f1b6da"
            ],
            [
             0.4,
             "#fde0ef"
            ],
            [
             0.5,
             "#f7f7f7"
            ],
            [
             0.6,
             "#e6f5d0"
            ],
            [
             0.7,
             "#b8e186"
            ],
            [
             0.8,
             "#7fbc41"
            ],
            [
             0.9,
             "#4d9221"
            ],
            [
             1,
             "#276419"
            ]
           ],
           "sequential": [
            [
             0,
             "#0d0887"
            ],
            [
             0.1111111111111111,
             "#46039f"
            ],
            [
             0.2222222222222222,
             "#7201a8"
            ],
            [
             0.3333333333333333,
             "#9c179e"
            ],
            [
             0.4444444444444444,
             "#bd3786"
            ],
            [
             0.5555555555555556,
             "#d8576b"
            ],
            [
             0.6666666666666666,
             "#ed7953"
            ],
            [
             0.7777777777777778,
             "#fb9f3a"
            ],
            [
             0.8888888888888888,
             "#fdca26"
            ],
            [
             1,
             "#f0f921"
            ]
           ],
           "sequentialminus": [
            [
             0,
             "#0d0887"
            ],
            [
             0.1111111111111111,
             "#46039f"
            ],
            [
             0.2222222222222222,
             "#7201a8"
            ],
            [
             0.3333333333333333,
             "#9c179e"
            ],
            [
             0.4444444444444444,
             "#bd3786"
            ],
            [
             0.5555555555555556,
             "#d8576b"
            ],
            [
             0.6666666666666666,
             "#ed7953"
            ],
            [
             0.7777777777777778,
             "#fb9f3a"
            ],
            [
             0.8888888888888888,
             "#fdca26"
            ],
            [
             1,
             "#f0f921"
            ]
           ]
          },
          "colorway": [
           "#636efa",
           "#EF553B",
           "#00cc96",
           "#ab63fa",
           "#FFA15A",
           "#19d3f3",
           "#FF6692",
           "#B6E880",
           "#FF97FF",
           "#FECB52"
          ],
          "font": {
           "color": "#2a3f5f"
          },
          "geo": {
           "bgcolor": "white",
           "lakecolor": "white",
           "landcolor": "#E5ECF6",
           "showlakes": true,
           "showland": true,
           "subunitcolor": "white"
          },
          "hoverlabel": {
           "align": "left"
          },
          "hovermode": "closest",
          "mapbox": {
           "style": "light"
          },
          "paper_bgcolor": "white",
          "plot_bgcolor": "#E5ECF6",
          "polar": {
           "angularaxis": {
            "gridcolor": "white",
            "linecolor": "white",
            "ticks": ""
           },
           "bgcolor": "#E5ECF6",
           "radialaxis": {
            "gridcolor": "white",
            "linecolor": "white",
            "ticks": ""
           }
          },
          "scene": {
           "xaxis": {
            "backgroundcolor": "#E5ECF6",
            "gridcolor": "white",
            "gridwidth": 2,
            "linecolor": "white",
            "showbackground": true,
            "ticks": "",
            "zerolinecolor": "white"
           },
           "yaxis": {
            "backgroundcolor": "#E5ECF6",
            "gridcolor": "white",
            "gridwidth": 2,
            "linecolor": "white",
            "showbackground": true,
            "ticks": "",
            "zerolinecolor": "white"
           },
           "zaxis": {
            "backgroundcolor": "#E5ECF6",
            "gridcolor": "white",
            "gridwidth": 2,
            "linecolor": "white",
            "showbackground": true,
            "ticks": "",
            "zerolinecolor": "white"
           }
          },
          "shapedefaults": {
           "line": {
            "color": "#2a3f5f"
           }
          },
          "ternary": {
           "aaxis": {
            "gridcolor": "white",
            "linecolor": "white",
            "ticks": ""
           },
           "baxis": {
            "gridcolor": "white",
            "linecolor": "white",
            "ticks": ""
           },
           "bgcolor": "#E5ECF6",
           "caxis": {
            "gridcolor": "white",
            "linecolor": "white",
            "ticks": ""
           }
          },
          "title": {
           "x": 0.05
          },
          "xaxis": {
           "automargin": true,
           "gridcolor": "white",
           "linecolor": "white",
           "ticks": "",
           "title": {
            "standoff": 15
           },
           "zerolinecolor": "white",
           "zerolinewidth": 2
          },
          "yaxis": {
           "automargin": true,
           "gridcolor": "white",
           "linecolor": "white",
           "ticks": "",
           "title": {
            "standoff": 15
           },
           "zerolinecolor": "white",
           "zerolinewidth": 2
          }
         }
        },
        "title": {
         "font": {
          "color": "black",
          "family": "Times New Roman",
          "size": 20
         }
        },
        "width": 2000,
        "xaxis": {
         "anchor": "y",
         "domain": [
          0,
          1
         ],
         "title": {
          "text": "Recurrence"
         }
        },
        "yaxis": {
         "anchor": "x",
         "categoryarray": [
          "Acanthaceae - Avicennia bicolor",
          "Acanthaceae - Avicennia germinans",
          "Annonaceae - Xylopia frutescens",
          "Apocynaceae - Catharanthus roseus",
          "Apocynaceae - Cryptostegia madagascariensis",
          "Apocynaceae - Plumeria rubra",
          "Apocynaceae - Rauvolfia littoralis",
          "Arecaceae - Acrocomia aculeata",
          "Asparagaceae - Sansevieria trifasciata",
          "Asteraceae - Ageratina ixiocladon",
          "Asteraceae - Ageratina ligustrina",
          "Asteraceae - Ageratum conyzoides",
          "Asteraceae - Calea urticifolia",
          "Asteraceae - Mikania micrantha",
          "Asteraceae - Onoseris onoseroides",
          "Asteraceae - Piptocarpha poeppigiana",
          "Asteraceae - Telanthophora grandifolia",
          "Asteraceae - Verbesina myriocephala",
          "Bignoniaceae - Crescentia cujete",
          "Bignoniaceae - Handroanthus chrysanthus",
          "Brassicaceae - Nasturtium officinale",
          "Burseraceae - Trattinnickia aspera",
          "Calceolariaceae - Calceolaria irazuensis",
          "Calophyllaceae - Marila laxiflora",
          "Caricaceae - Vasconcellea cauliflora",
          "Celastraceae - Maytenus woodsonii",
          "Chloranthaceae - Hedyosmum bonplandianum",
          "Clusiaceae - Tovomita longifolia",
          "Combretaceae - Laguncularia racemosa",
          "Convolvulaceae - Camonea umbellata",
          "Convolvulaceae - Ipomoea nil",
          "Erythroxylaceae - Erythroxylum fimbriatum",
          "Euphorbiaceae - Cnidoscolus urens",
          "Euphorbiaceae - Euphorbia hypericifolia",
          "Euphorbiaceae - Jatropha gossypiifolia",
          "Euphorbiaceae - Omphalea diandra",
          "Euphorbiaceae - Sapium laurifolium",
          "Fabaceae - Albizia adinocephala",
          "Fabaceae - Caesalpinia pulcherrima",
          "Fabaceae - Canavalia rosea",
          "Fabaceae - Cassia grandis",
          "Fabaceae - Cojoba arborea",
          "Fabaceae - Delonix regia",
          "Fabaceae - Erythrina berteroana",
          "Fabaceae - Gliricidia sepium",
          "Fabaceae - Guilandina bonduc",
          "Fabaceae - Hymenaea courbaril",
          "Fabaceae - Indigofera hirsuta",
          "Fabaceae - Lonchocarpus heptaphyllus",
          "Fabaceae - Mimosa pudica",
          "Fabaceae - Prosopis juliflora",
          "Fabaceae - Samanea saman",
          "Lamiaceae - Mesosphaerum suaveolens",
          "Lythraceae - Lawsonia inermis",
          "Malvaceae - Apeiba tibourbou",
          "Malvaceae - Herrania purpurea",
          "Malvaceae - Talipariti tiliaceum",
          "Meliaceae - Trichilia pallida",
          "Moraceae - Clarisia racemosa",
          "Moraceae - Ficus benjamina",
          "Moraceae - Ficus maxima",
          "Moraceae - Maclura tinctoria",
          "Myrtaceae - Myrciaria floribunda",
          "Myrtaceae - Syzygium malaccense",
          "Onagraceae - Fuchsia splendens",
          "Phyllanthaceae - Phyllanthus acuminatus",
          "Phytolaccaceae - Phytolacca rivinoides",
          "Picramniaceae - Picramnia latifolia",
          "Piperaceae - Peperomia galioides",
          "Piperaceae - Piper reticulatum",
          "Piperaceae - Piper tuberculatum",
          "Poaceae - Arthraxon hispidus",
          "Poaceae - Cymbopogon citratus",
          "Poaceae - Saccharum officinarum",
          "Poaceae - Urochloa decumbens",
          "Polygonaceae - Persicaria pubescens",
          "Pontederiaceae - Eichhornia crassipes",
          "Pteridaceae - Acrostichum aureum",
          "Rhizophoraceae - Rhizophora mangle",
          "Rubiaceae - Alibertia edulis",
          "Rubiaceae - Faramea occidentalis",
          "Rubiaceae - Genipa americana",
          "Rubiaceae - Morinda citrifolia",
          "Rubiaceae - Posoqueria latifolia",
          "Sapindaceae - Paullinia pinnata",
          "Simaroubaceae - Quassia amara",
          "Siparunaceae - Siparuna grandiflora",
          "Smilacaceae - Smilax officinalis",
          "Urticaceae - Phenax angustifolius",
          "Verbenaceae - Lantana camara",
          "Vitaceae - Cissus verticillata"
         ],
         "categoryorder": "array",
         "domain": [
          0,
          1
         ],
         "tickfont": {
          "color": "black",
          "family": "Times New Roman",
          "size": 20
         },
         "ticklen": 50,
         "tickmode": "array",
         "ticktext": [
          "Acanthaceae - <i>Avicennia bicolor</i>",
          "Acanthaceae - <i>Avicennia germinans</i>",
          "Annonaceae - <i>Xylopia frutescens</i>",
          "Apocynaceae - <i>Catharanthus roseus</i>",
          "Apocynaceae - <i>Cryptostegia madagascariensis</i>",
          "Apocynaceae - <i>Plumeria rubra</i>",
          "Apocynaceae - <i>Rauvolfia littoralis</i>",
          "Arecaceae - <i>Acrocomia aculeata</i>",
          "Asparagaceae - <i>Sansevieria trifasciata</i>",
          "Asteraceae - <i>Ageratina ixiocladon</i>",
          "Asteraceae - <i>Ageratina ligustrina</i>",
          "Asteraceae - <i>Ageratum conyzoides</i>",
          "Asteraceae - <i>Calea urticifolia</i>",
          "Asteraceae - <i>Mikania micrantha</i>",
          "Asteraceae - <i>Onoseris onoseroides</i>",
          "Asteraceae - <i>Piptocarpha poeppigiana</i>",
          "Asteraceae - <i>Telanthophora grandifolia</i>",
          "Asteraceae - <i>Verbesina myriocephala</i>",
          "Bignoniaceae - <i>Crescentia cujete</i>",
          "Bignoniaceae - <i>Handroanthus chrysanthus</i>",
          "Brassicaceae - <i>Nasturtium officinale</i>",
          "Burseraceae - <i>Trattinnickia aspera</i>",
          "Calceolariaceae - <i>Calceolaria irazuensis</i>",
          "Calophyllaceae - <i>Marila laxiflora</i>",
          "Caricaceae - <i>Vasconcellea cauliflora</i>",
          "Celastraceae - <i>Maytenus woodsonii</i>",
          "Chloranthaceae - <i>Hedyosmum bonplandianum</i>",
          "Clusiaceae - <i>Tovomita longifolia</i>",
          "Combretaceae - <i>Laguncularia racemosa</i>",
          "Convolvulaceae - <i>Camonea umbellata</i>",
          "Convolvulaceae - <i>Ipomoea nil</i>",
          "Erythroxylaceae - <i>Erythroxylum fimbriatum</i>",
          "Euphorbiaceae - <i>Cnidoscolus urens</i>",
          "Euphorbiaceae - <i>Euphorbia hypericifolia</i>",
          "Euphorbiaceae - <i>Jatropha gossypiifolia</i>",
          "Euphorbiaceae - <i>Omphalea diandra</i>",
          "Euphorbiaceae - <i>Sapium laurifolium</i>",
          "Fabaceae - <i>Albizia adinocephala</i>",
          "Fabaceae - <i>Caesalpinia pulcherrima</i>",
          "Fabaceae - <i>Canavalia rosea</i>",
          "Fabaceae - <i>Cassia grandis</i>",
          "Fabaceae - <i>Cojoba arborea</i>",
          "Fabaceae - <i>Delonix regia</i>",
          "Fabaceae - <i>Erythrina berteroana</i>",
          "Fabaceae - <i>Gliricidia sepium</i>",
          "Fabaceae - <i>Guilandina bonduc</i>",
          "Fabaceae - <i>Hymenaea courbaril</i>",
          "Fabaceae - <i>Indigofera hirsuta</i>",
          "Fabaceae - <i>Lonchocarpus heptaphyllus</i>",
          "Fabaceae - <i>Mimosa pudica</i>",
          "Fabaceae - <i>Prosopis juliflora</i>",
          "Fabaceae - <i>Samanea saman</i>",
          "Lamiaceae - <i>Mesosphaerum suaveolens</i>",
          "Lythraceae - <i>Lawsonia inermis</i>",
          "Malvaceae - <i>Apeiba tibourbou</i>",
          "Malvaceae - <i>Herrania purpurea</i>",
          "Malvaceae - <i>Talipariti tiliaceum</i>",
          "Meliaceae - <i>Trichilia pallida</i>",
          "Moraceae - <i>Clarisia racemosa</i>",
          "Moraceae - <i>Ficus benjamina</i>",
          "Moraceae - <i>Ficus maxima</i>",
          "Moraceae - <i>Maclura tinctoria</i>",
          "Myrtaceae - <i>Myrciaria floribunda</i>",
          "Myrtaceae - <i>Syzygium malaccense</i>",
          "Onagraceae - <i>Fuchsia splendens</i>",
          "Phyllanthaceae - <i>Phyllanthus acuminatus</i>",
          "Phytolaccaceae - <i>Phytolacca rivinoides</i>",
          "Picramniaceae - <i>Picramnia latifolia</i>",
          "Piperaceae - <i>Peperomia galioides</i>",
          "Piperaceae - <i>Piper reticulatum</i>",
          "Piperaceae - <i>Piper tuberculatum</i>",
          "Poaceae - <i>Arthraxon hispidus</i>",
          "Poaceae - <i>Cymbopogon citratus</i>",
          "Poaceae - <i>Saccharum officinarum</i>",
          "Poaceae - <i>Urochloa decumbens</i>",
          "Polygonaceae - <i>Persicaria pubescens</i>",
          "Pontederiaceae - <i>Eichhornia crassipes</i>",
          "Pteridaceae - <i>Acrostichum aureum</i>",
          "Rhizophoraceae - <i>Rhizophora mangle</i>",
          "Rubiaceae - <i>Alibertia edulis</i>",
          "Rubiaceae - <i>Faramea occidentalis</i>",
          "Rubiaceae - <i>Genipa americana</i>",
          "Rubiaceae - <i>Morinda citrifolia</i>",
          "Rubiaceae - <i>Posoqueria latifolia</i>",
          "Sapindaceae - <i>Paullinia pinnata</i>",
          "Simaroubaceae - <i>Quassia amara</i>",
          "Siparunaceae - <i>Siparuna grandiflora</i>",
          "Smilacaceae - <i>Smilax officinalis</i>",
          "Urticaceae - <i>Phenax angustifolius</i>",
          "Verbenaceae - <i>Lantana camara</i>",
          "Vitaceae - <i>Cissus verticillata</i>"
         ],
         "tickvals": [
          0,
          1,
          2,
          3,
          4,
          5,
          6,
          7,
          8,
          9,
          10,
          11,
          12,
          13,
          14,
          15,
          16,
          17,
          18,
          19,
          20,
          21,
          22,
          23,
          24,
          25,
          26,
          27,
          28,
          29,
          30,
          31,
          32,
          33,
          34,
          35,
          36,
          37,
          38,
          39,
          40,
          41,
          42,
          43,
          44,
          45,
          46,
          47,
          48,
          49,
          50,
          51,
          52,
          53,
          54,
          55,
          56,
          57,
          58,
          59,
          60,
          61,
          62,
          63,
          64,
          65,
          66,
          67,
          68,
          69,
          70,
          71,
          72,
          73,
          74,
          75,
          76,
          77,
          78,
          79,
          80,
          81,
          82,
          83,
          84,
          85,
          86,
          87,
          88,
          89,
          90
         ],
         "title": {
          "text": "<i>Species<i>"
         }
        }
       }
      }
     },
     "metadata": {},
     "output_type": "display_data"
    }
   ],
   "source": [
    "# Step 1: Initialize an empty DataFrame to store all data\n",
    "all_data = pd.DataFrame(columns=['organism_taxonomy_09species', 'organism_taxonomy_08genus','organism_taxonomy_06family', 'chemical_superclass'])\n",
    "\n",
    "# Step 2: Read data from all .tsv files in the output_folder\n",
    "species_data_folder = os.path.join(output_folder, 'species_data')\n",
    "for filename in os.listdir(species_data_folder):\n",
    "    if filename.endswith(\".tsv\"):\n",
    "        file_data = pd.read_csv(os.path.join(species_data_folder, filename), sep='\\t')\n",
    "        all_data = pd.concat([all_data, file_data])\n",
    "\n",
    "# Step 3: Rename the \"queried_taxaLabel\" column to \"species\"\n",
    "all_data.rename(columns={'organism_taxonomy_09species': 'species', 'organism_taxonomy_08genus': 'genus','organism_taxonomy_06family': 'family',}, inplace=True)\n",
    "\n",
    "# Apply the function to each row\n",
    "all_data[['Pathway', 'superclass']] = all_data.apply(lambda row: split_chemical_superclass(row), axis=1, result_type='expand')\n",
    "\n",
    "# Step 4: Process data for color mapping\n",
    "color_map = {}\n",
    "for pathway, superclasses in all_data.groupby('Pathway')['superclass'].unique().items():\n",
    "    shades = generate_shades(pathway, len(superclasses))\n",
    "    for superclass, shade in zip(superclasses, shades):\n",
    "        color_map[f\"{pathway}-{superclass}\"] = shade\n",
    "\n",
    "# Step 5: Group and aggregate data to calculate recurrence\n",
    "agg_data = all_data.groupby(['species', 'genus', 'family', 'chemical_superclass']).size().reset_index(name='recurrence')\n",
    "\n",
    "#unique_species = agg_data['species'].unique()\n",
    "\n",
    "\n",
    "# Concatenate genus and family for the y-axis labels\n",
    "#agg_data['genus_family'] = agg_data['family'] + ' > ' + agg_data['genus'] + ' > ' + agg_data['species']\n",
    "agg_data['genus_family'] = agg_data['family'] + ' - ' + agg_data['species']\n",
    "\n",
    "# Sort the agg_data DataFrame by 'species' and 'chemical_superclass'\n",
    "agg_data_sorted = agg_data.sort_values(by=['chemical_superclass'])\n",
    "\n",
    "# Step 6: Create the stacked barplot with the custom color palette\n",
    "fig = px.bar(agg_data_sorted, y='genus_family', x='recurrence',\n",
    "             #title='Stacked Barplot of Predicted Superclasses Occurrence for Species',\n",
    "             labels={'recurrence': 'Recurrence'},\n",
    "             color='chemical_superclass',\n",
    "             color_discrete_map=color_map,\n",
    "             orientation='h')\n",
    "\n",
    "# Customize the order of species on the y-axis\n",
    "\n",
    "#fig.update_yaxes(categoryorder='array', categoryarray=unique_species)\n",
    "# Get unique values of 'genus_family_species' for ordering on the y-axis\n",
    "unique_genus_family_species = sorted(agg_data_sorted['genus_family'].unique()) #agg_data_sorted['genus_family'].unique()\n",
    "\n",
    "fig.update_yaxes(categoryorder='array', categoryarray=unique_genus_family_species)\n",
    "\n",
    "# Set species labels in italics\n",
    "#fig.update_layout(yaxis=dict(tickmode='array',\n",
    "#                            tickvals=list(range(len(unique_genus_family_species))),\n",
    "#                            ticktext=[f'<i>{species}</i>' for species in unique_genus_family_species],\n",
    "#                            ticklabelposition='outside', \n",
    "                            #tickangle= 0,\n",
    "                            #autorange=\"reversed\",  # Reverse the y-axis to align labels to the left\n",
    "                            #side='left'\n",
    "#))\n",
    "\n",
    "\n",
    "# Set species labels in italics and justify to the left\n",
    "ticktext = []\n",
    "for species in unique_genus_family_species:\n",
    "    family, species_part = species.split(' - ')\n",
    "    ticktext.append(f'{family} - <i>{species_part}</i>')  # Italicize only the species part\n",
    "\n",
    "fig.update_layout(yaxis=dict(\n",
    "    tickmode='array',\n",
    "    tickvals=list(range(len(unique_genus_family_species))),\n",
    "    ticktext=ticktext,\n",
    "   # ticklabelposition='inside'  # Align tick labels to the left\n",
    "))\n",
    "# Set species labels in italics\n",
    "#fig.update_layout(yaxis=dict(tickmode='array',\n",
    "#                              tickvals=list(range(len(unique_species))),\n",
    "#                              ticktext=[f'<i>{species}</i>' for species in unique_species]\n",
    "#                              ))\n",
    "\n",
    "# Modify the y-axis label\n",
    "fig.update_yaxes(title_text='<i>Species<i>')\n",
    "\n",
    "# Set a white background\n",
    "fig.update_layout(plot_bgcolor='white')\n",
    "\n",
    "# Modify the size of the figure\n",
    "fig.update_layout(width=2000, height=2500)\n",
    "\n",
    "# Define font style\n",
    "font_style = dict(family=\"Times New Roman\", size=20, color=\"black\")\n",
    "\n",
    "# Update the layout with the font style\n",
    "fig.update_layout(\n",
    "    title_font=font_style,  # Title font style\n",
    "    font=font_style,  # Axis labels and tick labels font style\n",
    "    yaxis=dict(tickfont=font_style, ticklen=50)  # Y-axis tick labels font style\n",
    ")\n",
    "\n",
    "\n",
    "# Save the figure as an HTML file\n",
    "fig.write_html(f'{output_folder}Wikidata_superclass_barplot_species.html')\n",
    "\n",
    "# Save the image in high resolution with specific dimensions\n",
    "#fig.write_image('Wikidata_superclass_barplot_species.png', format= 'png', width=1000, height=1000, scale=3) \n",
    "# Show the figure\n",
    "fig.show()"
   ]
  },
  {
   "cell_type": "code",
   "execution_count": 8,
   "metadata": {},
   "outputs": [
    {
     "name": "stderr",
     "output_type": "stream",
     "text": [
      "C:\\Users\\quirosgu\\AppData\\Local\\Temp\\ipykernel_10156\\319300670.py:9: FutureWarning:\n",
      "\n",
      "The behavior of DataFrame concatenation with empty or all-NA entries is deprecated. In a future version, this will no longer exclude empty or all-NA columns when determining the result dtypes. To retain the old behavior, exclude the relevant entries before the concat operation.\n",
      "\n",
      "C:\\Users\\quirosgu\\AppData\\Local\\Temp\\ipykernel_10156\\319300670.py:9: FutureWarning:\n",
      "\n",
      "The behavior of DataFrame concatenation with empty or all-NA entries is deprecated. In a future version, this will no longer exclude empty or all-NA columns when determining the result dtypes. To retain the old behavior, exclude the relevant entries before the concat operation.\n",
      "\n",
      "C:\\Users\\quirosgu\\AppData\\Local\\Temp\\ipykernel_10156\\319300670.py:9: FutureWarning:\n",
      "\n",
      "The behavior of DataFrame concatenation with empty or all-NA entries is deprecated. In a future version, this will no longer exclude empty or all-NA columns when determining the result dtypes. To retain the old behavior, exclude the relevant entries before the concat operation.\n",
      "\n",
      "C:\\Users\\quirosgu\\AppData\\Local\\Temp\\ipykernel_10156\\319300670.py:9: FutureWarning:\n",
      "\n",
      "The behavior of DataFrame concatenation with empty or all-NA entries is deprecated. In a future version, this will no longer exclude empty or all-NA columns when determining the result dtypes. To retain the old behavior, exclude the relevant entries before the concat operation.\n",
      "\n",
      "C:\\Users\\quirosgu\\AppData\\Local\\Temp\\ipykernel_10156\\319300670.py:9: FutureWarning:\n",
      "\n",
      "The behavior of DataFrame concatenation with empty or all-NA entries is deprecated. In a future version, this will no longer exclude empty or all-NA columns when determining the result dtypes. To retain the old behavior, exclude the relevant entries before the concat operation.\n",
      "\n",
      "C:\\Users\\quirosgu\\AppData\\Local\\Temp\\ipykernel_10156\\319300670.py:9: FutureWarning:\n",
      "\n",
      "The behavior of DataFrame concatenation with empty or all-NA entries is deprecated. In a future version, this will no longer exclude empty or all-NA columns when determining the result dtypes. To retain the old behavior, exclude the relevant entries before the concat operation.\n",
      "\n",
      "C:\\Users\\quirosgu\\AppData\\Local\\Temp\\ipykernel_10156\\319300670.py:9: FutureWarning:\n",
      "\n",
      "The behavior of DataFrame concatenation with empty or all-NA entries is deprecated. In a future version, this will no longer exclude empty or all-NA columns when determining the result dtypes. To retain the old behavior, exclude the relevant entries before the concat operation.\n",
      "\n",
      "C:\\Users\\quirosgu\\AppData\\Local\\Temp\\ipykernel_10156\\319300670.py:9: FutureWarning:\n",
      "\n",
      "The behavior of DataFrame concatenation with empty or all-NA entries is deprecated. In a future version, this will no longer exclude empty or all-NA columns when determining the result dtypes. To retain the old behavior, exclude the relevant entries before the concat operation.\n",
      "\n",
      "C:\\Users\\quirosgu\\AppData\\Local\\Temp\\ipykernel_10156\\319300670.py:9: FutureWarning:\n",
      "\n",
      "The behavior of DataFrame concatenation with empty or all-NA entries is deprecated. In a future version, this will no longer exclude empty or all-NA columns when determining the result dtypes. To retain the old behavior, exclude the relevant entries before the concat operation.\n",
      "\n",
      "C:\\Users\\quirosgu\\AppData\\Local\\Temp\\ipykernel_10156\\319300670.py:9: FutureWarning:\n",
      "\n",
      "The behavior of DataFrame concatenation with empty or all-NA entries is deprecated. In a future version, this will no longer exclude empty or all-NA columns when determining the result dtypes. To retain the old behavior, exclude the relevant entries before the concat operation.\n",
      "\n",
      "C:\\Users\\quirosgu\\AppData\\Local\\Temp\\ipykernel_10156\\319300670.py:9: FutureWarning:\n",
      "\n",
      "The behavior of DataFrame concatenation with empty or all-NA entries is deprecated. In a future version, this will no longer exclude empty or all-NA columns when determining the result dtypes. To retain the old behavior, exclude the relevant entries before the concat operation.\n",
      "\n",
      "C:\\Users\\quirosgu\\AppData\\Local\\Temp\\ipykernel_10156\\319300670.py:9: FutureWarning:\n",
      "\n",
      "The behavior of DataFrame concatenation with empty or all-NA entries is deprecated. In a future version, this will no longer exclude empty or all-NA columns when determining the result dtypes. To retain the old behavior, exclude the relevant entries before the concat operation.\n",
      "\n",
      "C:\\Users\\quirosgu\\AppData\\Local\\Temp\\ipykernel_10156\\319300670.py:9: FutureWarning:\n",
      "\n",
      "The behavior of DataFrame concatenation with empty or all-NA entries is deprecated. In a future version, this will no longer exclude empty or all-NA columns when determining the result dtypes. To retain the old behavior, exclude the relevant entries before the concat operation.\n",
      "\n",
      "C:\\Users\\quirosgu\\AppData\\Local\\Temp\\ipykernel_10156\\319300670.py:9: FutureWarning:\n",
      "\n",
      "The behavior of DataFrame concatenation with empty or all-NA entries is deprecated. In a future version, this will no longer exclude empty or all-NA columns when determining the result dtypes. To retain the old behavior, exclude the relevant entries before the concat operation.\n",
      "\n",
      "C:\\Users\\quirosgu\\AppData\\Local\\Temp\\ipykernel_10156\\319300670.py:9: FutureWarning:\n",
      "\n",
      "The behavior of DataFrame concatenation with empty or all-NA entries is deprecated. In a future version, this will no longer exclude empty or all-NA columns when determining the result dtypes. To retain the old behavior, exclude the relevant entries before the concat operation.\n",
      "\n",
      "C:\\Users\\quirosgu\\AppData\\Local\\Temp\\ipykernel_10156\\319300670.py:9: FutureWarning:\n",
      "\n",
      "The behavior of DataFrame concatenation with empty or all-NA entries is deprecated. In a future version, this will no longer exclude empty or all-NA columns when determining the result dtypes. To retain the old behavior, exclude the relevant entries before the concat operation.\n",
      "\n",
      "C:\\Users\\quirosgu\\AppData\\Local\\Temp\\ipykernel_10156\\319300670.py:9: FutureWarning:\n",
      "\n",
      "The behavior of DataFrame concatenation with empty or all-NA entries is deprecated. In a future version, this will no longer exclude empty or all-NA columns when determining the result dtypes. To retain the old behavior, exclude the relevant entries before the concat operation.\n",
      "\n",
      "C:\\Users\\quirosgu\\AppData\\Local\\Temp\\ipykernel_10156\\319300670.py:9: FutureWarning:\n",
      "\n",
      "The behavior of DataFrame concatenation with empty or all-NA entries is deprecated. In a future version, this will no longer exclude empty or all-NA columns when determining the result dtypes. To retain the old behavior, exclude the relevant entries before the concat operation.\n",
      "\n",
      "C:\\Users\\quirosgu\\AppData\\Local\\Temp\\ipykernel_10156\\319300670.py:9: FutureWarning:\n",
      "\n",
      "The behavior of DataFrame concatenation with empty or all-NA entries is deprecated. In a future version, this will no longer exclude empty or all-NA columns when determining the result dtypes. To retain the old behavior, exclude the relevant entries before the concat operation.\n",
      "\n",
      "C:\\Users\\quirosgu\\AppData\\Local\\Temp\\ipykernel_10156\\319300670.py:9: FutureWarning:\n",
      "\n",
      "The behavior of DataFrame concatenation with empty or all-NA entries is deprecated. In a future version, this will no longer exclude empty or all-NA columns when determining the result dtypes. To retain the old behavior, exclude the relevant entries before the concat operation.\n",
      "\n",
      "C:\\Users\\quirosgu\\AppData\\Local\\Temp\\ipykernel_10156\\319300670.py:9: FutureWarning:\n",
      "\n",
      "The behavior of DataFrame concatenation with empty or all-NA entries is deprecated. In a future version, this will no longer exclude empty or all-NA columns when determining the result dtypes. To retain the old behavior, exclude the relevant entries before the concat operation.\n",
      "\n",
      "C:\\Users\\quirosgu\\AppData\\Local\\Temp\\ipykernel_10156\\319300670.py:9: FutureWarning:\n",
      "\n",
      "The behavior of DataFrame concatenation with empty or all-NA entries is deprecated. In a future version, this will no longer exclude empty or all-NA columns when determining the result dtypes. To retain the old behavior, exclude the relevant entries before the concat operation.\n",
      "\n",
      "C:\\Users\\quirosgu\\AppData\\Local\\Temp\\ipykernel_10156\\319300670.py:9: FutureWarning:\n",
      "\n",
      "The behavior of DataFrame concatenation with empty or all-NA entries is deprecated. In a future version, this will no longer exclude empty or all-NA columns when determining the result dtypes. To retain the old behavior, exclude the relevant entries before the concat operation.\n",
      "\n",
      "C:\\Users\\quirosgu\\AppData\\Local\\Temp\\ipykernel_10156\\319300670.py:9: FutureWarning:\n",
      "\n",
      "The behavior of DataFrame concatenation with empty or all-NA entries is deprecated. In a future version, this will no longer exclude empty or all-NA columns when determining the result dtypes. To retain the old behavior, exclude the relevant entries before the concat operation.\n",
      "\n",
      "C:\\Users\\quirosgu\\AppData\\Local\\Temp\\ipykernel_10156\\319300670.py:9: FutureWarning:\n",
      "\n",
      "The behavior of DataFrame concatenation with empty or all-NA entries is deprecated. In a future version, this will no longer exclude empty or all-NA columns when determining the result dtypes. To retain the old behavior, exclude the relevant entries before the concat operation.\n",
      "\n",
      "C:\\Users\\quirosgu\\AppData\\Local\\Temp\\ipykernel_10156\\319300670.py:9: FutureWarning:\n",
      "\n",
      "The behavior of DataFrame concatenation with empty or all-NA entries is deprecated. In a future version, this will no longer exclude empty or all-NA columns when determining the result dtypes. To retain the old behavior, exclude the relevant entries before the concat operation.\n",
      "\n",
      "C:\\Users\\quirosgu\\AppData\\Local\\Temp\\ipykernel_10156\\319300670.py:9: FutureWarning:\n",
      "\n",
      "The behavior of DataFrame concatenation with empty or all-NA entries is deprecated. In a future version, this will no longer exclude empty or all-NA columns when determining the result dtypes. To retain the old behavior, exclude the relevant entries before the concat operation.\n",
      "\n",
      "C:\\Users\\quirosgu\\AppData\\Local\\Temp\\ipykernel_10156\\319300670.py:9: FutureWarning:\n",
      "\n",
      "The behavior of DataFrame concatenation with empty or all-NA entries is deprecated. In a future version, this will no longer exclude empty or all-NA columns when determining the result dtypes. To retain the old behavior, exclude the relevant entries before the concat operation.\n",
      "\n",
      "C:\\Users\\quirosgu\\AppData\\Local\\Temp\\ipykernel_10156\\319300670.py:9: FutureWarning:\n",
      "\n",
      "The behavior of DataFrame concatenation with empty or all-NA entries is deprecated. In a future version, this will no longer exclude empty or all-NA columns when determining the result dtypes. To retain the old behavior, exclude the relevant entries before the concat operation.\n",
      "\n",
      "C:\\Users\\quirosgu\\AppData\\Local\\Temp\\ipykernel_10156\\319300670.py:9: FutureWarning:\n",
      "\n",
      "The behavior of DataFrame concatenation with empty or all-NA entries is deprecated. In a future version, this will no longer exclude empty or all-NA columns when determining the result dtypes. To retain the old behavior, exclude the relevant entries before the concat operation.\n",
      "\n",
      "C:\\Users\\quirosgu\\AppData\\Local\\Temp\\ipykernel_10156\\319300670.py:9: FutureWarning:\n",
      "\n",
      "The behavior of DataFrame concatenation with empty or all-NA entries is deprecated. In a future version, this will no longer exclude empty or all-NA columns when determining the result dtypes. To retain the old behavior, exclude the relevant entries before the concat operation.\n",
      "\n",
      "C:\\Users\\quirosgu\\AppData\\Local\\Temp\\ipykernel_10156\\319300670.py:9: FutureWarning:\n",
      "\n",
      "The behavior of DataFrame concatenation with empty or all-NA entries is deprecated. In a future version, this will no longer exclude empty or all-NA columns when determining the result dtypes. To retain the old behavior, exclude the relevant entries before the concat operation.\n",
      "\n",
      "C:\\Users\\quirosgu\\AppData\\Local\\Temp\\ipykernel_10156\\319300670.py:9: FutureWarning:\n",
      "\n",
      "The behavior of DataFrame concatenation with empty or all-NA entries is deprecated. In a future version, this will no longer exclude empty or all-NA columns when determining the result dtypes. To retain the old behavior, exclude the relevant entries before the concat operation.\n",
      "\n",
      "C:\\Users\\quirosgu\\AppData\\Local\\Temp\\ipykernel_10156\\319300670.py:9: FutureWarning:\n",
      "\n",
      "The behavior of DataFrame concatenation with empty or all-NA entries is deprecated. In a future version, this will no longer exclude empty or all-NA columns when determining the result dtypes. To retain the old behavior, exclude the relevant entries before the concat operation.\n",
      "\n",
      "C:\\Users\\quirosgu\\AppData\\Local\\Temp\\ipykernel_10156\\319300670.py:9: FutureWarning:\n",
      "\n",
      "The behavior of DataFrame concatenation with empty or all-NA entries is deprecated. In a future version, this will no longer exclude empty or all-NA columns when determining the result dtypes. To retain the old behavior, exclude the relevant entries before the concat operation.\n",
      "\n",
      "C:\\Users\\quirosgu\\AppData\\Local\\Temp\\ipykernel_10156\\319300670.py:9: FutureWarning:\n",
      "\n",
      "The behavior of DataFrame concatenation with empty or all-NA entries is deprecated. In a future version, this will no longer exclude empty or all-NA columns when determining the result dtypes. To retain the old behavior, exclude the relevant entries before the concat operation.\n",
      "\n",
      "C:\\Users\\quirosgu\\AppData\\Local\\Temp\\ipykernel_10156\\319300670.py:9: FutureWarning:\n",
      "\n",
      "The behavior of DataFrame concatenation with empty or all-NA entries is deprecated. In a future version, this will no longer exclude empty or all-NA columns when determining the result dtypes. To retain the old behavior, exclude the relevant entries before the concat operation.\n",
      "\n",
      "C:\\Users\\quirosgu\\AppData\\Local\\Temp\\ipykernel_10156\\319300670.py:9: FutureWarning:\n",
      "\n",
      "The behavior of DataFrame concatenation with empty or all-NA entries is deprecated. In a future version, this will no longer exclude empty or all-NA columns when determining the result dtypes. To retain the old behavior, exclude the relevant entries before the concat operation.\n",
      "\n",
      "C:\\Users\\quirosgu\\AppData\\Local\\Temp\\ipykernel_10156\\319300670.py:9: FutureWarning:\n",
      "\n",
      "The behavior of DataFrame concatenation with empty or all-NA entries is deprecated. In a future version, this will no longer exclude empty or all-NA columns when determining the result dtypes. To retain the old behavior, exclude the relevant entries before the concat operation.\n",
      "\n",
      "C:\\Users\\quirosgu\\AppData\\Local\\Temp\\ipykernel_10156\\319300670.py:9: FutureWarning:\n",
      "\n",
      "The behavior of DataFrame concatenation with empty or all-NA entries is deprecated. In a future version, this will no longer exclude empty or all-NA columns when determining the result dtypes. To retain the old behavior, exclude the relevant entries before the concat operation.\n",
      "\n",
      "C:\\Users\\quirosgu\\AppData\\Local\\Temp\\ipykernel_10156\\319300670.py:9: FutureWarning:\n",
      "\n",
      "The behavior of DataFrame concatenation with empty or all-NA entries is deprecated. In a future version, this will no longer exclude empty or all-NA columns when determining the result dtypes. To retain the old behavior, exclude the relevant entries before the concat operation.\n",
      "\n",
      "C:\\Users\\quirosgu\\AppData\\Local\\Temp\\ipykernel_10156\\319300670.py:9: FutureWarning:\n",
      "\n",
      "The behavior of DataFrame concatenation with empty or all-NA entries is deprecated. In a future version, this will no longer exclude empty or all-NA columns when determining the result dtypes. To retain the old behavior, exclude the relevant entries before the concat operation.\n",
      "\n",
      "C:\\Users\\quirosgu\\AppData\\Local\\Temp\\ipykernel_10156\\319300670.py:9: FutureWarning:\n",
      "\n",
      "The behavior of DataFrame concatenation with empty or all-NA entries is deprecated. In a future version, this will no longer exclude empty or all-NA columns when determining the result dtypes. To retain the old behavior, exclude the relevant entries before the concat operation.\n",
      "\n",
      "C:\\Users\\quirosgu\\AppData\\Local\\Temp\\ipykernel_10156\\319300670.py:9: FutureWarning:\n",
      "\n",
      "The behavior of DataFrame concatenation with empty or all-NA entries is deprecated. In a future version, this will no longer exclude empty or all-NA columns when determining the result dtypes. To retain the old behavior, exclude the relevant entries before the concat operation.\n",
      "\n",
      "C:\\Users\\quirosgu\\AppData\\Local\\Temp\\ipykernel_10156\\319300670.py:9: FutureWarning:\n",
      "\n",
      "The behavior of DataFrame concatenation with empty or all-NA entries is deprecated. In a future version, this will no longer exclude empty or all-NA columns when determining the result dtypes. To retain the old behavior, exclude the relevant entries before the concat operation.\n",
      "\n",
      "C:\\Users\\quirosgu\\AppData\\Local\\Temp\\ipykernel_10156\\319300670.py:9: FutureWarning:\n",
      "\n",
      "The behavior of DataFrame concatenation with empty or all-NA entries is deprecated. In a future version, this will no longer exclude empty or all-NA columns when determining the result dtypes. To retain the old behavior, exclude the relevant entries before the concat operation.\n",
      "\n",
      "C:\\Users\\quirosgu\\AppData\\Local\\Temp\\ipykernel_10156\\319300670.py:9: FutureWarning:\n",
      "\n",
      "The behavior of DataFrame concatenation with empty or all-NA entries is deprecated. In a future version, this will no longer exclude empty or all-NA columns when determining the result dtypes. To retain the old behavior, exclude the relevant entries before the concat operation.\n",
      "\n",
      "C:\\Users\\quirosgu\\AppData\\Local\\Temp\\ipykernel_10156\\319300670.py:9: FutureWarning:\n",
      "\n",
      "The behavior of DataFrame concatenation with empty or all-NA entries is deprecated. In a future version, this will no longer exclude empty or all-NA columns when determining the result dtypes. To retain the old behavior, exclude the relevant entries before the concat operation.\n",
      "\n",
      "C:\\Users\\quirosgu\\AppData\\Local\\Temp\\ipykernel_10156\\319300670.py:9: FutureWarning:\n",
      "\n",
      "The behavior of DataFrame concatenation with empty or all-NA entries is deprecated. In a future version, this will no longer exclude empty or all-NA columns when determining the result dtypes. To retain the old behavior, exclude the relevant entries before the concat operation.\n",
      "\n",
      "C:\\Users\\quirosgu\\AppData\\Local\\Temp\\ipykernel_10156\\319300670.py:9: FutureWarning:\n",
      "\n",
      "The behavior of DataFrame concatenation with empty or all-NA entries is deprecated. In a future version, this will no longer exclude empty or all-NA columns when determining the result dtypes. To retain the old behavior, exclude the relevant entries before the concat operation.\n",
      "\n",
      "C:\\Users\\quirosgu\\AppData\\Local\\Temp\\ipykernel_10156\\319300670.py:9: FutureWarning:\n",
      "\n",
      "The behavior of DataFrame concatenation with empty or all-NA entries is deprecated. In a future version, this will no longer exclude empty or all-NA columns when determining the result dtypes. To retain the old behavior, exclude the relevant entries before the concat operation.\n",
      "\n",
      "C:\\Users\\quirosgu\\AppData\\Local\\Temp\\ipykernel_10156\\319300670.py:9: FutureWarning:\n",
      "\n",
      "The behavior of DataFrame concatenation with empty or all-NA entries is deprecated. In a future version, this will no longer exclude empty or all-NA columns when determining the result dtypes. To retain the old behavior, exclude the relevant entries before the concat operation.\n",
      "\n",
      "C:\\Users\\quirosgu\\AppData\\Local\\Temp\\ipykernel_10156\\319300670.py:9: FutureWarning:\n",
      "\n",
      "The behavior of DataFrame concatenation with empty or all-NA entries is deprecated. In a future version, this will no longer exclude empty or all-NA columns when determining the result dtypes. To retain the old behavior, exclude the relevant entries before the concat operation.\n",
      "\n",
      "C:\\Users\\quirosgu\\AppData\\Local\\Temp\\ipykernel_10156\\319300670.py:9: FutureWarning:\n",
      "\n",
      "The behavior of DataFrame concatenation with empty or all-NA entries is deprecated. In a future version, this will no longer exclude empty or all-NA columns when determining the result dtypes. To retain the old behavior, exclude the relevant entries before the concat operation.\n",
      "\n",
      "C:\\Users\\quirosgu\\AppData\\Local\\Temp\\ipykernel_10156\\319300670.py:9: FutureWarning:\n",
      "\n",
      "The behavior of DataFrame concatenation with empty or all-NA entries is deprecated. In a future version, this will no longer exclude empty or all-NA columns when determining the result dtypes. To retain the old behavior, exclude the relevant entries before the concat operation.\n",
      "\n",
      "C:\\Users\\quirosgu\\AppData\\Local\\Temp\\ipykernel_10156\\319300670.py:9: FutureWarning:\n",
      "\n",
      "The behavior of DataFrame concatenation with empty or all-NA entries is deprecated. In a future version, this will no longer exclude empty or all-NA columns when determining the result dtypes. To retain the old behavior, exclude the relevant entries before the concat operation.\n",
      "\n",
      "C:\\Users\\quirosgu\\AppData\\Local\\Temp\\ipykernel_10156\\319300670.py:9: FutureWarning:\n",
      "\n",
      "The behavior of DataFrame concatenation with empty or all-NA entries is deprecated. In a future version, this will no longer exclude empty or all-NA columns when determining the result dtypes. To retain the old behavior, exclude the relevant entries before the concat operation.\n",
      "\n",
      "C:\\Users\\quirosgu\\AppData\\Local\\Temp\\ipykernel_10156\\319300670.py:9: FutureWarning:\n",
      "\n",
      "The behavior of DataFrame concatenation with empty or all-NA entries is deprecated. In a future version, this will no longer exclude empty or all-NA columns when determining the result dtypes. To retain the old behavior, exclude the relevant entries before the concat operation.\n",
      "\n",
      "C:\\Users\\quirosgu\\AppData\\Local\\Temp\\ipykernel_10156\\319300670.py:9: FutureWarning:\n",
      "\n",
      "The behavior of DataFrame concatenation with empty or all-NA entries is deprecated. In a future version, this will no longer exclude empty or all-NA columns when determining the result dtypes. To retain the old behavior, exclude the relevant entries before the concat operation.\n",
      "\n",
      "C:\\Users\\quirosgu\\AppData\\Local\\Temp\\ipykernel_10156\\319300670.py:9: FutureWarning:\n",
      "\n",
      "The behavior of DataFrame concatenation with empty or all-NA entries is deprecated. In a future version, this will no longer exclude empty or all-NA columns when determining the result dtypes. To retain the old behavior, exclude the relevant entries before the concat operation.\n",
      "\n",
      "C:\\Users\\quirosgu\\AppData\\Local\\Temp\\ipykernel_10156\\319300670.py:9: FutureWarning:\n",
      "\n",
      "The behavior of DataFrame concatenation with empty or all-NA entries is deprecated. In a future version, this will no longer exclude empty or all-NA columns when determining the result dtypes. To retain the old behavior, exclude the relevant entries before the concat operation.\n",
      "\n",
      "C:\\Users\\quirosgu\\AppData\\Local\\Temp\\ipykernel_10156\\319300670.py:9: FutureWarning:\n",
      "\n",
      "The behavior of DataFrame concatenation with empty or all-NA entries is deprecated. In a future version, this will no longer exclude empty or all-NA columns when determining the result dtypes. To retain the old behavior, exclude the relevant entries before the concat operation.\n",
      "\n",
      "C:\\Users\\quirosgu\\AppData\\Local\\Temp\\ipykernel_10156\\319300670.py:9: FutureWarning:\n",
      "\n",
      "The behavior of DataFrame concatenation with empty or all-NA entries is deprecated. In a future version, this will no longer exclude empty or all-NA columns when determining the result dtypes. To retain the old behavior, exclude the relevant entries before the concat operation.\n",
      "\n",
      "C:\\Users\\quirosgu\\AppData\\Local\\Temp\\ipykernel_10156\\319300670.py:9: FutureWarning:\n",
      "\n",
      "The behavior of DataFrame concatenation with empty or all-NA entries is deprecated. In a future version, this will no longer exclude empty or all-NA columns when determining the result dtypes. To retain the old behavior, exclude the relevant entries before the concat operation.\n",
      "\n",
      "C:\\Users\\quirosgu\\AppData\\Local\\Temp\\ipykernel_10156\\319300670.py:9: FutureWarning:\n",
      "\n",
      "The behavior of DataFrame concatenation with empty or all-NA entries is deprecated. In a future version, this will no longer exclude empty or all-NA columns when determining the result dtypes. To retain the old behavior, exclude the relevant entries before the concat operation.\n",
      "\n",
      "C:\\Users\\quirosgu\\AppData\\Local\\Temp\\ipykernel_10156\\319300670.py:9: FutureWarning:\n",
      "\n",
      "The behavior of DataFrame concatenation with empty or all-NA entries is deprecated. In a future version, this will no longer exclude empty or all-NA columns when determining the result dtypes. To retain the old behavior, exclude the relevant entries before the concat operation.\n",
      "\n",
      "C:\\Users\\quirosgu\\AppData\\Local\\Temp\\ipykernel_10156\\319300670.py:9: FutureWarning:\n",
      "\n",
      "The behavior of DataFrame concatenation with empty or all-NA entries is deprecated. In a future version, this will no longer exclude empty or all-NA columns when determining the result dtypes. To retain the old behavior, exclude the relevant entries before the concat operation.\n",
      "\n",
      "C:\\Users\\quirosgu\\AppData\\Local\\Temp\\ipykernel_10156\\319300670.py:9: FutureWarning:\n",
      "\n",
      "The behavior of DataFrame concatenation with empty or all-NA entries is deprecated. In a future version, this will no longer exclude empty or all-NA columns when determining the result dtypes. To retain the old behavior, exclude the relevant entries before the concat operation.\n",
      "\n",
      "C:\\Users\\quirosgu\\AppData\\Local\\Temp\\ipykernel_10156\\319300670.py:9: FutureWarning:\n",
      "\n",
      "The behavior of DataFrame concatenation with empty or all-NA entries is deprecated. In a future version, this will no longer exclude empty or all-NA columns when determining the result dtypes. To retain the old behavior, exclude the relevant entries before the concat operation.\n",
      "\n",
      "C:\\Users\\quirosgu\\AppData\\Local\\Temp\\ipykernel_10156\\319300670.py:9: FutureWarning:\n",
      "\n",
      "The behavior of DataFrame concatenation with empty or all-NA entries is deprecated. In a future version, this will no longer exclude empty or all-NA columns when determining the result dtypes. To retain the old behavior, exclude the relevant entries before the concat operation.\n",
      "\n",
      "C:\\Users\\quirosgu\\AppData\\Local\\Temp\\ipykernel_10156\\319300670.py:9: FutureWarning:\n",
      "\n",
      "The behavior of DataFrame concatenation with empty or all-NA entries is deprecated. In a future version, this will no longer exclude empty or all-NA columns when determining the result dtypes. To retain the old behavior, exclude the relevant entries before the concat operation.\n",
      "\n",
      "C:\\Users\\quirosgu\\AppData\\Local\\Temp\\ipykernel_10156\\319300670.py:9: FutureWarning:\n",
      "\n",
      "The behavior of DataFrame concatenation with empty or all-NA entries is deprecated. In a future version, this will no longer exclude empty or all-NA columns when determining the result dtypes. To retain the old behavior, exclude the relevant entries before the concat operation.\n",
      "\n",
      "C:\\Users\\quirosgu\\AppData\\Local\\Temp\\ipykernel_10156\\319300670.py:9: FutureWarning:\n",
      "\n",
      "The behavior of DataFrame concatenation with empty or all-NA entries is deprecated. In a future version, this will no longer exclude empty or all-NA columns when determining the result dtypes. To retain the old behavior, exclude the relevant entries before the concat operation.\n",
      "\n",
      "C:\\Users\\quirosgu\\AppData\\Local\\Temp\\ipykernel_10156\\319300670.py:9: FutureWarning:\n",
      "\n",
      "The behavior of DataFrame concatenation with empty or all-NA entries is deprecated. In a future version, this will no longer exclude empty or all-NA columns when determining the result dtypes. To retain the old behavior, exclude the relevant entries before the concat operation.\n",
      "\n",
      "C:\\Users\\quirosgu\\AppData\\Local\\Temp\\ipykernel_10156\\319300670.py:9: FutureWarning:\n",
      "\n",
      "The behavior of DataFrame concatenation with empty or all-NA entries is deprecated. In a future version, this will no longer exclude empty or all-NA columns when determining the result dtypes. To retain the old behavior, exclude the relevant entries before the concat operation.\n",
      "\n",
      "C:\\Users\\quirosgu\\AppData\\Local\\Temp\\ipykernel_10156\\319300670.py:9: FutureWarning:\n",
      "\n",
      "The behavior of DataFrame concatenation with empty or all-NA entries is deprecated. In a future version, this will no longer exclude empty or all-NA columns when determining the result dtypes. To retain the old behavior, exclude the relevant entries before the concat operation.\n",
      "\n",
      "C:\\Users\\quirosgu\\AppData\\Local\\Temp\\ipykernel_10156\\319300670.py:9: FutureWarning:\n",
      "\n",
      "The behavior of DataFrame concatenation with empty or all-NA entries is deprecated. In a future version, this will no longer exclude empty or all-NA columns when determining the result dtypes. To retain the old behavior, exclude the relevant entries before the concat operation.\n",
      "\n",
      "C:\\Users\\quirosgu\\AppData\\Local\\Temp\\ipykernel_10156\\319300670.py:9: FutureWarning:\n",
      "\n",
      "The behavior of DataFrame concatenation with empty or all-NA entries is deprecated. In a future version, this will no longer exclude empty or all-NA columns when determining the result dtypes. To retain the old behavior, exclude the relevant entries before the concat operation.\n",
      "\n",
      "C:\\Users\\quirosgu\\AppData\\Local\\Temp\\ipykernel_10156\\319300670.py:9: FutureWarning:\n",
      "\n",
      "The behavior of DataFrame concatenation with empty or all-NA entries is deprecated. In a future version, this will no longer exclude empty or all-NA columns when determining the result dtypes. To retain the old behavior, exclude the relevant entries before the concat operation.\n",
      "\n",
      "C:\\Users\\quirosgu\\AppData\\Local\\Temp\\ipykernel_10156\\319300670.py:9: FutureWarning:\n",
      "\n",
      "The behavior of DataFrame concatenation with empty or all-NA entries is deprecated. In a future version, this will no longer exclude empty or all-NA columns when determining the result dtypes. To retain the old behavior, exclude the relevant entries before the concat operation.\n",
      "\n",
      "C:\\Users\\quirosgu\\AppData\\Local\\Temp\\ipykernel_10156\\319300670.py:9: FutureWarning:\n",
      "\n",
      "The behavior of DataFrame concatenation with empty or all-NA entries is deprecated. In a future version, this will no longer exclude empty or all-NA columns when determining the result dtypes. To retain the old behavior, exclude the relevant entries before the concat operation.\n",
      "\n",
      "C:\\Users\\quirosgu\\AppData\\Local\\Temp\\ipykernel_10156\\319300670.py:9: FutureWarning:\n",
      "\n",
      "The behavior of DataFrame concatenation with empty or all-NA entries is deprecated. In a future version, this will no longer exclude empty or all-NA columns when determining the result dtypes. To retain the old behavior, exclude the relevant entries before the concat operation.\n",
      "\n",
      "C:\\Users\\quirosgu\\AppData\\Local\\Temp\\ipykernel_10156\\319300670.py:9: FutureWarning:\n",
      "\n",
      "The behavior of DataFrame concatenation with empty or all-NA entries is deprecated. In a future version, this will no longer exclude empty or all-NA columns when determining the result dtypes. To retain the old behavior, exclude the relevant entries before the concat operation.\n",
      "\n",
      "C:\\Users\\quirosgu\\AppData\\Local\\Temp\\ipykernel_10156\\319300670.py:9: FutureWarning:\n",
      "\n",
      "The behavior of DataFrame concatenation with empty or all-NA entries is deprecated. In a future version, this will no longer exclude empty or all-NA columns when determining the result dtypes. To retain the old behavior, exclude the relevant entries before the concat operation.\n",
      "\n",
      "C:\\Users\\quirosgu\\AppData\\Local\\Temp\\ipykernel_10156\\319300670.py:9: FutureWarning:\n",
      "\n",
      "The behavior of DataFrame concatenation with empty or all-NA entries is deprecated. In a future version, this will no longer exclude empty or all-NA columns when determining the result dtypes. To retain the old behavior, exclude the relevant entries before the concat operation.\n",
      "\n",
      "C:\\Users\\quirosgu\\AppData\\Local\\Temp\\ipykernel_10156\\319300670.py:9: FutureWarning:\n",
      "\n",
      "The behavior of DataFrame concatenation with empty or all-NA entries is deprecated. In a future version, this will no longer exclude empty or all-NA columns when determining the result dtypes. To retain the old behavior, exclude the relevant entries before the concat operation.\n",
      "\n",
      "C:\\Users\\quirosgu\\AppData\\Local\\Temp\\ipykernel_10156\\319300670.py:9: FutureWarning:\n",
      "\n",
      "The behavior of DataFrame concatenation with empty or all-NA entries is deprecated. In a future version, this will no longer exclude empty or all-NA columns when determining the result dtypes. To retain the old behavior, exclude the relevant entries before the concat operation.\n",
      "\n",
      "C:\\Users\\quirosgu\\AppData\\Local\\Temp\\ipykernel_10156\\319300670.py:9: FutureWarning:\n",
      "\n",
      "The behavior of DataFrame concatenation with empty or all-NA entries is deprecated. In a future version, this will no longer exclude empty or all-NA columns when determining the result dtypes. To retain the old behavior, exclude the relevant entries before the concat operation.\n",
      "\n",
      "C:\\Users\\quirosgu\\AppData\\Local\\Temp\\ipykernel_10156\\319300670.py:9: FutureWarning:\n",
      "\n",
      "The behavior of DataFrame concatenation with empty or all-NA entries is deprecated. In a future version, this will no longer exclude empty or all-NA columns when determining the result dtypes. To retain the old behavior, exclude the relevant entries before the concat operation.\n",
      "\n",
      "C:\\Users\\quirosgu\\AppData\\Local\\Temp\\ipykernel_10156\\319300670.py:9: FutureWarning:\n",
      "\n",
      "The behavior of DataFrame concatenation with empty or all-NA entries is deprecated. In a future version, this will no longer exclude empty or all-NA columns when determining the result dtypes. To retain the old behavior, exclude the relevant entries before the concat operation.\n",
      "\n",
      "C:\\Users\\quirosgu\\AppData\\Local\\Temp\\ipykernel_10156\\319300670.py:9: FutureWarning:\n",
      "\n",
      "The behavior of DataFrame concatenation with empty or all-NA entries is deprecated. In a future version, this will no longer exclude empty or all-NA columns when determining the result dtypes. To retain the old behavior, exclude the relevant entries before the concat operation.\n",
      "\n",
      "C:\\Users\\quirosgu\\AppData\\Local\\Temp\\ipykernel_10156\\319300670.py:9: FutureWarning:\n",
      "\n",
      "The behavior of DataFrame concatenation with empty or all-NA entries is deprecated. In a future version, this will no longer exclude empty or all-NA columns when determining the result dtypes. To retain the old behavior, exclude the relevant entries before the concat operation.\n",
      "\n",
      "C:\\Users\\quirosgu\\AppData\\Local\\Temp\\ipykernel_10156\\319300670.py:9: FutureWarning:\n",
      "\n",
      "The behavior of DataFrame concatenation with empty or all-NA entries is deprecated. In a future version, this will no longer exclude empty or all-NA columns when determining the result dtypes. To retain the old behavior, exclude the relevant entries before the concat operation.\n",
      "\n",
      "C:\\Users\\quirosgu\\AppData\\Local\\Temp\\ipykernel_10156\\319300670.py:9: FutureWarning:\n",
      "\n",
      "The behavior of DataFrame concatenation with empty or all-NA entries is deprecated. In a future version, this will no longer exclude empty or all-NA columns when determining the result dtypes. To retain the old behavior, exclude the relevant entries before the concat operation.\n",
      "\n",
      "C:\\Users\\quirosgu\\AppData\\Local\\Temp\\ipykernel_10156\\319300670.py:9: FutureWarning:\n",
      "\n",
      "The behavior of DataFrame concatenation with empty or all-NA entries is deprecated. In a future version, this will no longer exclude empty or all-NA columns when determining the result dtypes. To retain the old behavior, exclude the relevant entries before the concat operation.\n",
      "\n",
      "C:\\Users\\quirosgu\\AppData\\Local\\Temp\\ipykernel_10156\\319300670.py:9: FutureWarning:\n",
      "\n",
      "The behavior of DataFrame concatenation with empty or all-NA entries is deprecated. In a future version, this will no longer exclude empty or all-NA columns when determining the result dtypes. To retain the old behavior, exclude the relevant entries before the concat operation.\n",
      "\n",
      "C:\\Users\\quirosgu\\AppData\\Local\\Temp\\ipykernel_10156\\319300670.py:9: FutureWarning:\n",
      "\n",
      "The behavior of DataFrame concatenation with empty or all-NA entries is deprecated. In a future version, this will no longer exclude empty or all-NA columns when determining the result dtypes. To retain the old behavior, exclude the relevant entries before the concat operation.\n",
      "\n",
      "C:\\Users\\quirosgu\\AppData\\Local\\Temp\\ipykernel_10156\\319300670.py:9: FutureWarning:\n",
      "\n",
      "The behavior of DataFrame concatenation with empty or all-NA entries is deprecated. In a future version, this will no longer exclude empty or all-NA columns when determining the result dtypes. To retain the old behavior, exclude the relevant entries before the concat operation.\n",
      "\n",
      "C:\\Users\\quirosgu\\AppData\\Local\\Temp\\ipykernel_10156\\319300670.py:9: FutureWarning:\n",
      "\n",
      "The behavior of DataFrame concatenation with empty or all-NA entries is deprecated. In a future version, this will no longer exclude empty or all-NA columns when determining the result dtypes. To retain the old behavior, exclude the relevant entries before the concat operation.\n",
      "\n",
      "C:\\Users\\quirosgu\\AppData\\Local\\Temp\\ipykernel_10156\\319300670.py:9: FutureWarning:\n",
      "\n",
      "The behavior of DataFrame concatenation with empty or all-NA entries is deprecated. In a future version, this will no longer exclude empty or all-NA columns when determining the result dtypes. To retain the old behavior, exclude the relevant entries before the concat operation.\n",
      "\n",
      "C:\\Users\\quirosgu\\AppData\\Local\\Temp\\ipykernel_10156\\319300670.py:9: FutureWarning:\n",
      "\n",
      "The behavior of DataFrame concatenation with empty or all-NA entries is deprecated. In a future version, this will no longer exclude empty or all-NA columns when determining the result dtypes. To retain the old behavior, exclude the relevant entries before the concat operation.\n",
      "\n",
      "C:\\Users\\quirosgu\\AppData\\Local\\Temp\\ipykernel_10156\\319300670.py:9: FutureWarning:\n",
      "\n",
      "The behavior of DataFrame concatenation with empty or all-NA entries is deprecated. In a future version, this will no longer exclude empty or all-NA columns when determining the result dtypes. To retain the old behavior, exclude the relevant entries before the concat operation.\n",
      "\n",
      "C:\\Users\\quirosgu\\AppData\\Local\\Temp\\ipykernel_10156\\319300670.py:9: FutureWarning:\n",
      "\n",
      "The behavior of DataFrame concatenation with empty or all-NA entries is deprecated. In a future version, this will no longer exclude empty or all-NA columns when determining the result dtypes. To retain the old behavior, exclude the relevant entries before the concat operation.\n",
      "\n",
      "C:\\Users\\quirosgu\\AppData\\Local\\Temp\\ipykernel_10156\\319300670.py:9: FutureWarning:\n",
      "\n",
      "The behavior of DataFrame concatenation with empty or all-NA entries is deprecated. In a future version, this will no longer exclude empty or all-NA columns when determining the result dtypes. To retain the old behavior, exclude the relevant entries before the concat operation.\n",
      "\n",
      "C:\\Users\\quirosgu\\AppData\\Local\\Temp\\ipykernel_10156\\319300670.py:9: FutureWarning:\n",
      "\n",
      "The behavior of DataFrame concatenation with empty or all-NA entries is deprecated. In a future version, this will no longer exclude empty or all-NA columns when determining the result dtypes. To retain the old behavior, exclude the relevant entries before the concat operation.\n",
      "\n",
      "C:\\Users\\quirosgu\\AppData\\Local\\Temp\\ipykernel_10156\\319300670.py:9: FutureWarning:\n",
      "\n",
      "The behavior of DataFrame concatenation with empty or all-NA entries is deprecated. In a future version, this will no longer exclude empty or all-NA columns when determining the result dtypes. To retain the old behavior, exclude the relevant entries before the concat operation.\n",
      "\n",
      "C:\\Users\\quirosgu\\AppData\\Local\\Temp\\ipykernel_10156\\319300670.py:9: FutureWarning:\n",
      "\n",
      "The behavior of DataFrame concatenation with empty or all-NA entries is deprecated. In a future version, this will no longer exclude empty or all-NA columns when determining the result dtypes. To retain the old behavior, exclude the relevant entries before the concat operation.\n",
      "\n",
      "C:\\Users\\quirosgu\\AppData\\Local\\Temp\\ipykernel_10156\\319300670.py:9: FutureWarning:\n",
      "\n",
      "The behavior of DataFrame concatenation with empty or all-NA entries is deprecated. In a future version, this will no longer exclude empty or all-NA columns when determining the result dtypes. To retain the old behavior, exclude the relevant entries before the concat operation.\n",
      "\n",
      "C:\\Users\\quirosgu\\AppData\\Local\\Temp\\ipykernel_10156\\319300670.py:9: FutureWarning:\n",
      "\n",
      "The behavior of DataFrame concatenation with empty or all-NA entries is deprecated. In a future version, this will no longer exclude empty or all-NA columns when determining the result dtypes. To retain the old behavior, exclude the relevant entries before the concat operation.\n",
      "\n",
      "C:\\Users\\quirosgu\\AppData\\Local\\Temp\\ipykernel_10156\\319300670.py:9: FutureWarning:\n",
      "\n",
      "The behavior of DataFrame concatenation with empty or all-NA entries is deprecated. In a future version, this will no longer exclude empty or all-NA columns when determining the result dtypes. To retain the old behavior, exclude the relevant entries before the concat operation.\n",
      "\n",
      "C:\\Users\\quirosgu\\AppData\\Local\\Temp\\ipykernel_10156\\319300670.py:9: FutureWarning:\n",
      "\n",
      "The behavior of DataFrame concatenation with empty or all-NA entries is deprecated. In a future version, this will no longer exclude empty or all-NA columns when determining the result dtypes. To retain the old behavior, exclude the relevant entries before the concat operation.\n",
      "\n",
      "C:\\Users\\quirosgu\\AppData\\Local\\Temp\\ipykernel_10156\\319300670.py:9: FutureWarning:\n",
      "\n",
      "The behavior of DataFrame concatenation with empty or all-NA entries is deprecated. In a future version, this will no longer exclude empty or all-NA columns when determining the result dtypes. To retain the old behavior, exclude the relevant entries before the concat operation.\n",
      "\n",
      "C:\\Users\\quirosgu\\AppData\\Local\\Temp\\ipykernel_10156\\319300670.py:9: FutureWarning:\n",
      "\n",
      "The behavior of DataFrame concatenation with empty or all-NA entries is deprecated. In a future version, this will no longer exclude empty or all-NA columns when determining the result dtypes. To retain the old behavior, exclude the relevant entries before the concat operation.\n",
      "\n",
      "C:\\Users\\quirosgu\\AppData\\Local\\Temp\\ipykernel_10156\\319300670.py:9: FutureWarning:\n",
      "\n",
      "The behavior of DataFrame concatenation with empty or all-NA entries is deprecated. In a future version, this will no longer exclude empty or all-NA columns when determining the result dtypes. To retain the old behavior, exclude the relevant entries before the concat operation.\n",
      "\n",
      "C:\\Users\\quirosgu\\AppData\\Local\\Temp\\ipykernel_10156\\319300670.py:9: FutureWarning:\n",
      "\n",
      "The behavior of DataFrame concatenation with empty or all-NA entries is deprecated. In a future version, this will no longer exclude empty or all-NA columns when determining the result dtypes. To retain the old behavior, exclude the relevant entries before the concat operation.\n",
      "\n",
      "C:\\Users\\quirosgu\\AppData\\Local\\Temp\\ipykernel_10156\\319300670.py:9: FutureWarning:\n",
      "\n",
      "The behavior of DataFrame concatenation with empty or all-NA entries is deprecated. In a future version, this will no longer exclude empty or all-NA columns when determining the result dtypes. To retain the old behavior, exclude the relevant entries before the concat operation.\n",
      "\n",
      "C:\\Users\\quirosgu\\AppData\\Local\\Temp\\ipykernel_10156\\319300670.py:9: FutureWarning:\n",
      "\n",
      "The behavior of DataFrame concatenation with empty or all-NA entries is deprecated. In a future version, this will no longer exclude empty or all-NA columns when determining the result dtypes. To retain the old behavior, exclude the relevant entries before the concat operation.\n",
      "\n",
      "C:\\Users\\quirosgu\\AppData\\Local\\Temp\\ipykernel_10156\\319300670.py:9: FutureWarning:\n",
      "\n",
      "The behavior of DataFrame concatenation with empty or all-NA entries is deprecated. In a future version, this will no longer exclude empty or all-NA columns when determining the result dtypes. To retain the old behavior, exclude the relevant entries before the concat operation.\n",
      "\n",
      "C:\\Users\\quirosgu\\AppData\\Local\\Temp\\ipykernel_10156\\319300670.py:9: FutureWarning:\n",
      "\n",
      "The behavior of DataFrame concatenation with empty or all-NA entries is deprecated. In a future version, this will no longer exclude empty or all-NA columns when determining the result dtypes. To retain the old behavior, exclude the relevant entries before the concat operation.\n",
      "\n",
      "C:\\Users\\quirosgu\\AppData\\Local\\Temp\\ipykernel_10156\\319300670.py:9: FutureWarning:\n",
      "\n",
      "The behavior of DataFrame concatenation with empty or all-NA entries is deprecated. In a future version, this will no longer exclude empty or all-NA columns when determining the result dtypes. To retain the old behavior, exclude the relevant entries before the concat operation.\n",
      "\n",
      "C:\\Users\\quirosgu\\AppData\\Local\\Temp\\ipykernel_10156\\319300670.py:9: FutureWarning:\n",
      "\n",
      "The behavior of DataFrame concatenation with empty or all-NA entries is deprecated. In a future version, this will no longer exclude empty or all-NA columns when determining the result dtypes. To retain the old behavior, exclude the relevant entries before the concat operation.\n",
      "\n",
      "C:\\Users\\quirosgu\\AppData\\Local\\Temp\\ipykernel_10156\\319300670.py:9: FutureWarning:\n",
      "\n",
      "The behavior of DataFrame concatenation with empty or all-NA entries is deprecated. In a future version, this will no longer exclude empty or all-NA columns when determining the result dtypes. To retain the old behavior, exclude the relevant entries before the concat operation.\n",
      "\n",
      "C:\\Users\\quirosgu\\AppData\\Local\\Temp\\ipykernel_10156\\319300670.py:9: FutureWarning:\n",
      "\n",
      "The behavior of DataFrame concatenation with empty or all-NA entries is deprecated. In a future version, this will no longer exclude empty or all-NA columns when determining the result dtypes. To retain the old behavior, exclude the relevant entries before the concat operation.\n",
      "\n",
      "C:\\Users\\quirosgu\\AppData\\Local\\Temp\\ipykernel_10156\\319300670.py:9: FutureWarning:\n",
      "\n",
      "The behavior of DataFrame concatenation with empty or all-NA entries is deprecated. In a future version, this will no longer exclude empty or all-NA columns when determining the result dtypes. To retain the old behavior, exclude the relevant entries before the concat operation.\n",
      "\n",
      "C:\\Users\\quirosgu\\AppData\\Local\\Temp\\ipykernel_10156\\319300670.py:9: FutureWarning:\n",
      "\n",
      "The behavior of DataFrame concatenation with empty or all-NA entries is deprecated. In a future version, this will no longer exclude empty or all-NA columns when determining the result dtypes. To retain the old behavior, exclude the relevant entries before the concat operation.\n",
      "\n",
      "C:\\Users\\quirosgu\\AppData\\Local\\Temp\\ipykernel_10156\\319300670.py:9: FutureWarning:\n",
      "\n",
      "The behavior of DataFrame concatenation with empty or all-NA entries is deprecated. In a future version, this will no longer exclude empty or all-NA columns when determining the result dtypes. To retain the old behavior, exclude the relevant entries before the concat operation.\n",
      "\n",
      "C:\\Users\\quirosgu\\AppData\\Local\\Temp\\ipykernel_10156\\319300670.py:9: FutureWarning:\n",
      "\n",
      "The behavior of DataFrame concatenation with empty or all-NA entries is deprecated. In a future version, this will no longer exclude empty or all-NA columns when determining the result dtypes. To retain the old behavior, exclude the relevant entries before the concat operation.\n",
      "\n",
      "C:\\Users\\quirosgu\\AppData\\Local\\Temp\\ipykernel_10156\\319300670.py:9: FutureWarning:\n",
      "\n",
      "The behavior of DataFrame concatenation with empty or all-NA entries is deprecated. In a future version, this will no longer exclude empty or all-NA columns when determining the result dtypes. To retain the old behavior, exclude the relevant entries before the concat operation.\n",
      "\n",
      "C:\\Users\\quirosgu\\AppData\\Local\\Temp\\ipykernel_10156\\319300670.py:9: FutureWarning:\n",
      "\n",
      "The behavior of DataFrame concatenation with empty or all-NA entries is deprecated. In a future version, this will no longer exclude empty or all-NA columns when determining the result dtypes. To retain the old behavior, exclude the relevant entries before the concat operation.\n",
      "\n",
      "C:\\Users\\quirosgu\\AppData\\Local\\Temp\\ipykernel_10156\\319300670.py:9: FutureWarning:\n",
      "\n",
      "The behavior of DataFrame concatenation with empty or all-NA entries is deprecated. In a future version, this will no longer exclude empty or all-NA columns when determining the result dtypes. To retain the old behavior, exclude the relevant entries before the concat operation.\n",
      "\n",
      "C:\\Users\\quirosgu\\AppData\\Local\\Temp\\ipykernel_10156\\319300670.py:9: FutureWarning:\n",
      "\n",
      "The behavior of DataFrame concatenation with empty or all-NA entries is deprecated. In a future version, this will no longer exclude empty or all-NA columns when determining the result dtypes. To retain the old behavior, exclude the relevant entries before the concat operation.\n",
      "\n",
      "C:\\Users\\quirosgu\\AppData\\Local\\Temp\\ipykernel_10156\\319300670.py:9: FutureWarning:\n",
      "\n",
      "The behavior of DataFrame concatenation with empty or all-NA entries is deprecated. In a future version, this will no longer exclude empty or all-NA columns when determining the result dtypes. To retain the old behavior, exclude the relevant entries before the concat operation.\n",
      "\n",
      "C:\\Users\\quirosgu\\AppData\\Local\\Temp\\ipykernel_10156\\319300670.py:9: FutureWarning:\n",
      "\n",
      "The behavior of DataFrame concatenation with empty or all-NA entries is deprecated. In a future version, this will no longer exclude empty or all-NA columns when determining the result dtypes. To retain the old behavior, exclude the relevant entries before the concat operation.\n",
      "\n",
      "C:\\Users\\quirosgu\\AppData\\Local\\Temp\\ipykernel_10156\\319300670.py:9: FutureWarning:\n",
      "\n",
      "The behavior of DataFrame concatenation with empty or all-NA entries is deprecated. In a future version, this will no longer exclude empty or all-NA columns when determining the result dtypes. To retain the old behavior, exclude the relevant entries before the concat operation.\n",
      "\n",
      "C:\\Users\\quirosgu\\AppData\\Local\\Temp\\ipykernel_10156\\319300670.py:9: FutureWarning:\n",
      "\n",
      "The behavior of DataFrame concatenation with empty or all-NA entries is deprecated. In a future version, this will no longer exclude empty or all-NA columns when determining the result dtypes. To retain the old behavior, exclude the relevant entries before the concat operation.\n",
      "\n",
      "C:\\Users\\quirosgu\\AppData\\Local\\Temp\\ipykernel_10156\\319300670.py:9: FutureWarning:\n",
      "\n",
      "The behavior of DataFrame concatenation with empty or all-NA entries is deprecated. In a future version, this will no longer exclude empty or all-NA columns when determining the result dtypes. To retain the old behavior, exclude the relevant entries before the concat operation.\n",
      "\n",
      "C:\\Users\\quirosgu\\AppData\\Local\\Temp\\ipykernel_10156\\319300670.py:9: FutureWarning:\n",
      "\n",
      "The behavior of DataFrame concatenation with empty or all-NA entries is deprecated. In a future version, this will no longer exclude empty or all-NA columns when determining the result dtypes. To retain the old behavior, exclude the relevant entries before the concat operation.\n",
      "\n",
      "C:\\Users\\quirosgu\\AppData\\Local\\Temp\\ipykernel_10156\\319300670.py:9: FutureWarning:\n",
      "\n",
      "The behavior of DataFrame concatenation with empty or all-NA entries is deprecated. In a future version, this will no longer exclude empty or all-NA columns when determining the result dtypes. To retain the old behavior, exclude the relevant entries before the concat operation.\n",
      "\n",
      "C:\\Users\\quirosgu\\AppData\\Local\\Temp\\ipykernel_10156\\319300670.py:9: FutureWarning:\n",
      "\n",
      "The behavior of DataFrame concatenation with empty or all-NA entries is deprecated. In a future version, this will no longer exclude empty or all-NA columns when determining the result dtypes. To retain the old behavior, exclude the relevant entries before the concat operation.\n",
      "\n",
      "C:\\Users\\quirosgu\\AppData\\Local\\Temp\\ipykernel_10156\\319300670.py:9: FutureWarning:\n",
      "\n",
      "The behavior of DataFrame concatenation with empty or all-NA entries is deprecated. In a future version, this will no longer exclude empty or all-NA columns when determining the result dtypes. To retain the old behavior, exclude the relevant entries before the concat operation.\n",
      "\n",
      "C:\\Users\\quirosgu\\AppData\\Local\\Temp\\ipykernel_10156\\319300670.py:9: FutureWarning:\n",
      "\n",
      "The behavior of DataFrame concatenation with empty or all-NA entries is deprecated. In a future version, this will no longer exclude empty or all-NA columns when determining the result dtypes. To retain the old behavior, exclude the relevant entries before the concat operation.\n",
      "\n",
      "C:\\Users\\quirosgu\\AppData\\Local\\Temp\\ipykernel_10156\\319300670.py:9: FutureWarning:\n",
      "\n",
      "The behavior of DataFrame concatenation with empty or all-NA entries is deprecated. In a future version, this will no longer exclude empty or all-NA columns when determining the result dtypes. To retain the old behavior, exclude the relevant entries before the concat operation.\n",
      "\n",
      "C:\\Users\\quirosgu\\AppData\\Local\\Temp\\ipykernel_10156\\319300670.py:9: FutureWarning:\n",
      "\n",
      "The behavior of DataFrame concatenation with empty or all-NA entries is deprecated. In a future version, this will no longer exclude empty or all-NA columns when determining the result dtypes. To retain the old behavior, exclude the relevant entries before the concat operation.\n",
      "\n",
      "C:\\Users\\quirosgu\\AppData\\Local\\Temp\\ipykernel_10156\\319300670.py:9: FutureWarning:\n",
      "\n",
      "The behavior of DataFrame concatenation with empty or all-NA entries is deprecated. In a future version, this will no longer exclude empty or all-NA columns when determining the result dtypes. To retain the old behavior, exclude the relevant entries before the concat operation.\n",
      "\n",
      "C:\\Users\\quirosgu\\AppData\\Local\\Temp\\ipykernel_10156\\319300670.py:9: FutureWarning:\n",
      "\n",
      "The behavior of DataFrame concatenation with empty or all-NA entries is deprecated. In a future version, this will no longer exclude empty or all-NA columns when determining the result dtypes. To retain the old behavior, exclude the relevant entries before the concat operation.\n",
      "\n",
      "C:\\Users\\quirosgu\\AppData\\Local\\Temp\\ipykernel_10156\\319300670.py:9: FutureWarning:\n",
      "\n",
      "The behavior of DataFrame concatenation with empty or all-NA entries is deprecated. In a future version, this will no longer exclude empty or all-NA columns when determining the result dtypes. To retain the old behavior, exclude the relevant entries before the concat operation.\n",
      "\n",
      "C:\\Users\\quirosgu\\AppData\\Local\\Temp\\ipykernel_10156\\319300670.py:9: FutureWarning:\n",
      "\n",
      "The behavior of DataFrame concatenation with empty or all-NA entries is deprecated. In a future version, this will no longer exclude empty or all-NA columns when determining the result dtypes. To retain the old behavior, exclude the relevant entries before the concat operation.\n",
      "\n",
      "C:\\Users\\quirosgu\\AppData\\Local\\Temp\\ipykernel_10156\\319300670.py:9: FutureWarning:\n",
      "\n",
      "The behavior of DataFrame concatenation with empty or all-NA entries is deprecated. In a future version, this will no longer exclude empty or all-NA columns when determining the result dtypes. To retain the old behavior, exclude the relevant entries before the concat operation.\n",
      "\n",
      "C:\\Users\\quirosgu\\AppData\\Local\\Temp\\ipykernel_10156\\319300670.py:9: FutureWarning:\n",
      "\n",
      "The behavior of DataFrame concatenation with empty or all-NA entries is deprecated. In a future version, this will no longer exclude empty or all-NA columns when determining the result dtypes. To retain the old behavior, exclude the relevant entries before the concat operation.\n",
      "\n",
      "C:\\Users\\quirosgu\\AppData\\Local\\Temp\\ipykernel_10156\\319300670.py:9: FutureWarning:\n",
      "\n",
      "The behavior of DataFrame concatenation with empty or all-NA entries is deprecated. In a future version, this will no longer exclude empty or all-NA columns when determining the result dtypes. To retain the old behavior, exclude the relevant entries before the concat operation.\n",
      "\n",
      "C:\\Users\\quirosgu\\AppData\\Local\\Temp\\ipykernel_10156\\319300670.py:9: FutureWarning:\n",
      "\n",
      "The behavior of DataFrame concatenation with empty or all-NA entries is deprecated. In a future version, this will no longer exclude empty or all-NA columns when determining the result dtypes. To retain the old behavior, exclude the relevant entries before the concat operation.\n",
      "\n",
      "C:\\Users\\quirosgu\\AppData\\Local\\Temp\\ipykernel_10156\\319300670.py:9: FutureWarning:\n",
      "\n",
      "The behavior of DataFrame concatenation with empty or all-NA entries is deprecated. In a future version, this will no longer exclude empty or all-NA columns when determining the result dtypes. To retain the old behavior, exclude the relevant entries before the concat operation.\n",
      "\n",
      "C:\\Users\\quirosgu\\AppData\\Local\\Temp\\ipykernel_10156\\319300670.py:9: FutureWarning:\n",
      "\n",
      "The behavior of DataFrame concatenation with empty or all-NA entries is deprecated. In a future version, this will no longer exclude empty or all-NA columns when determining the result dtypes. To retain the old behavior, exclude the relevant entries before the concat operation.\n",
      "\n",
      "C:\\Users\\quirosgu\\AppData\\Local\\Temp\\ipykernel_10156\\319300670.py:9: FutureWarning:\n",
      "\n",
      "The behavior of DataFrame concatenation with empty or all-NA entries is deprecated. In a future version, this will no longer exclude empty or all-NA columns when determining the result dtypes. To retain the old behavior, exclude the relevant entries before the concat operation.\n",
      "\n",
      "C:\\Users\\quirosgu\\AppData\\Local\\Temp\\ipykernel_10156\\319300670.py:9: FutureWarning:\n",
      "\n",
      "The behavior of DataFrame concatenation with empty or all-NA entries is deprecated. In a future version, this will no longer exclude empty or all-NA columns when determining the result dtypes. To retain the old behavior, exclude the relevant entries before the concat operation.\n",
      "\n",
      "C:\\Users\\quirosgu\\AppData\\Local\\Temp\\ipykernel_10156\\319300670.py:9: FutureWarning:\n",
      "\n",
      "The behavior of DataFrame concatenation with empty or all-NA entries is deprecated. In a future version, this will no longer exclude empty or all-NA columns when determining the result dtypes. To retain the old behavior, exclude the relevant entries before the concat operation.\n",
      "\n",
      "C:\\Users\\quirosgu\\AppData\\Local\\Temp\\ipykernel_10156\\319300670.py:9: FutureWarning:\n",
      "\n",
      "The behavior of DataFrame concatenation with empty or all-NA entries is deprecated. In a future version, this will no longer exclude empty or all-NA columns when determining the result dtypes. To retain the old behavior, exclude the relevant entries before the concat operation.\n",
      "\n",
      "C:\\Users\\quirosgu\\AppData\\Local\\Temp\\ipykernel_10156\\319300670.py:9: FutureWarning:\n",
      "\n",
      "The behavior of DataFrame concatenation with empty or all-NA entries is deprecated. In a future version, this will no longer exclude empty or all-NA columns when determining the result dtypes. To retain the old behavior, exclude the relevant entries before the concat operation.\n",
      "\n",
      "C:\\Users\\quirosgu\\AppData\\Local\\Temp\\ipykernel_10156\\319300670.py:9: FutureWarning:\n",
      "\n",
      "The behavior of DataFrame concatenation with empty or all-NA entries is deprecated. In a future version, this will no longer exclude empty or all-NA columns when determining the result dtypes. To retain the old behavior, exclude the relevant entries before the concat operation.\n",
      "\n",
      "C:\\Users\\quirosgu\\AppData\\Local\\Temp\\ipykernel_10156\\319300670.py:9: FutureWarning:\n",
      "\n",
      "The behavior of DataFrame concatenation with empty or all-NA entries is deprecated. In a future version, this will no longer exclude empty or all-NA columns when determining the result dtypes. To retain the old behavior, exclude the relevant entries before the concat operation.\n",
      "\n",
      "C:\\Users\\quirosgu\\AppData\\Local\\Temp\\ipykernel_10156\\319300670.py:9: FutureWarning:\n",
      "\n",
      "The behavior of DataFrame concatenation with empty or all-NA entries is deprecated. In a future version, this will no longer exclude empty or all-NA columns when determining the result dtypes. To retain the old behavior, exclude the relevant entries before the concat operation.\n",
      "\n",
      "C:\\Users\\quirosgu\\AppData\\Local\\Temp\\ipykernel_10156\\319300670.py:9: FutureWarning:\n",
      "\n",
      "The behavior of DataFrame concatenation with empty or all-NA entries is deprecated. In a future version, this will no longer exclude empty or all-NA columns when determining the result dtypes. To retain the old behavior, exclude the relevant entries before the concat operation.\n",
      "\n",
      "C:\\Users\\quirosgu\\AppData\\Local\\Temp\\ipykernel_10156\\319300670.py:9: FutureWarning:\n",
      "\n",
      "The behavior of DataFrame concatenation with empty or all-NA entries is deprecated. In a future version, this will no longer exclude empty or all-NA columns when determining the result dtypes. To retain the old behavior, exclude the relevant entries before the concat operation.\n",
      "\n",
      "C:\\Users\\quirosgu\\AppData\\Local\\Temp\\ipykernel_10156\\319300670.py:9: FutureWarning:\n",
      "\n",
      "The behavior of DataFrame concatenation with empty or all-NA entries is deprecated. In a future version, this will no longer exclude empty or all-NA columns when determining the result dtypes. To retain the old behavior, exclude the relevant entries before the concat operation.\n",
      "\n",
      "C:\\Users\\quirosgu\\AppData\\Local\\Temp\\ipykernel_10156\\319300670.py:9: FutureWarning:\n",
      "\n",
      "The behavior of DataFrame concatenation with empty or all-NA entries is deprecated. In a future version, this will no longer exclude empty or all-NA columns when determining the result dtypes. To retain the old behavior, exclude the relevant entries before the concat operation.\n",
      "\n",
      "C:\\Users\\quirosgu\\AppData\\Local\\Temp\\ipykernel_10156\\319300670.py:9: FutureWarning:\n",
      "\n",
      "The behavior of DataFrame concatenation with empty or all-NA entries is deprecated. In a future version, this will no longer exclude empty or all-NA columns when determining the result dtypes. To retain the old behavior, exclude the relevant entries before the concat operation.\n",
      "\n",
      "C:\\Users\\quirosgu\\AppData\\Local\\Temp\\ipykernel_10156\\319300670.py:9: FutureWarning:\n",
      "\n",
      "The behavior of DataFrame concatenation with empty or all-NA entries is deprecated. In a future version, this will no longer exclude empty or all-NA columns when determining the result dtypes. To retain the old behavior, exclude the relevant entries before the concat operation.\n",
      "\n",
      "C:\\Users\\quirosgu\\AppData\\Local\\Temp\\ipykernel_10156\\319300670.py:9: FutureWarning:\n",
      "\n",
      "The behavior of DataFrame concatenation with empty or all-NA entries is deprecated. In a future version, this will no longer exclude empty or all-NA columns when determining the result dtypes. To retain the old behavior, exclude the relevant entries before the concat operation.\n",
      "\n",
      "C:\\Users\\quirosgu\\AppData\\Local\\Temp\\ipykernel_10156\\319300670.py:9: FutureWarning:\n",
      "\n",
      "The behavior of DataFrame concatenation with empty or all-NA entries is deprecated. In a future version, this will no longer exclude empty or all-NA columns when determining the result dtypes. To retain the old behavior, exclude the relevant entries before the concat operation.\n",
      "\n",
      "C:\\Users\\quirosgu\\AppData\\Local\\Temp\\ipykernel_10156\\319300670.py:9: FutureWarning:\n",
      "\n",
      "The behavior of DataFrame concatenation with empty or all-NA entries is deprecated. In a future version, this will no longer exclude empty or all-NA columns when determining the result dtypes. To retain the old behavior, exclude the relevant entries before the concat operation.\n",
      "\n",
      "C:\\Users\\quirosgu\\AppData\\Local\\Temp\\ipykernel_10156\\319300670.py:9: FutureWarning:\n",
      "\n",
      "The behavior of DataFrame concatenation with empty or all-NA entries is deprecated. In a future version, this will no longer exclude empty or all-NA columns when determining the result dtypes. To retain the old behavior, exclude the relevant entries before the concat operation.\n",
      "\n",
      "C:\\Users\\quirosgu\\AppData\\Local\\Temp\\ipykernel_10156\\319300670.py:9: FutureWarning:\n",
      "\n",
      "The behavior of DataFrame concatenation with empty or all-NA entries is deprecated. In a future version, this will no longer exclude empty or all-NA columns when determining the result dtypes. To retain the old behavior, exclude the relevant entries before the concat operation.\n",
      "\n",
      "C:\\Users\\quirosgu\\AppData\\Local\\Temp\\ipykernel_10156\\319300670.py:9: FutureWarning:\n",
      "\n",
      "The behavior of DataFrame concatenation with empty or all-NA entries is deprecated. In a future version, this will no longer exclude empty or all-NA columns when determining the result dtypes. To retain the old behavior, exclude the relevant entries before the concat operation.\n",
      "\n",
      "C:\\Users\\quirosgu\\AppData\\Local\\Temp\\ipykernel_10156\\319300670.py:9: FutureWarning:\n",
      "\n",
      "The behavior of DataFrame concatenation with empty or all-NA entries is deprecated. In a future version, this will no longer exclude empty or all-NA columns when determining the result dtypes. To retain the old behavior, exclude the relevant entries before the concat operation.\n",
      "\n",
      "C:\\Users\\quirosgu\\AppData\\Local\\Temp\\ipykernel_10156\\319300670.py:9: FutureWarning:\n",
      "\n",
      "The behavior of DataFrame concatenation with empty or all-NA entries is deprecated. In a future version, this will no longer exclude empty or all-NA columns when determining the result dtypes. To retain the old behavior, exclude the relevant entries before the concat operation.\n",
      "\n",
      "C:\\Users\\quirosgu\\AppData\\Local\\Temp\\ipykernel_10156\\319300670.py:9: FutureWarning:\n",
      "\n",
      "The behavior of DataFrame concatenation with empty or all-NA entries is deprecated. In a future version, this will no longer exclude empty or all-NA columns when determining the result dtypes. To retain the old behavior, exclude the relevant entries before the concat operation.\n",
      "\n",
      "C:\\Users\\quirosgu\\AppData\\Local\\Temp\\ipykernel_10156\\319300670.py:9: FutureWarning:\n",
      "\n",
      "The behavior of DataFrame concatenation with empty or all-NA entries is deprecated. In a future version, this will no longer exclude empty or all-NA columns when determining the result dtypes. To retain the old behavior, exclude the relevant entries before the concat operation.\n",
      "\n",
      "C:\\Users\\quirosgu\\AppData\\Local\\Temp\\ipykernel_10156\\319300670.py:9: FutureWarning:\n",
      "\n",
      "The behavior of DataFrame concatenation with empty or all-NA entries is deprecated. In a future version, this will no longer exclude empty or all-NA columns when determining the result dtypes. To retain the old behavior, exclude the relevant entries before the concat operation.\n",
      "\n",
      "C:\\Users\\quirosgu\\AppData\\Local\\Temp\\ipykernel_10156\\319300670.py:9: FutureWarning:\n",
      "\n",
      "The behavior of DataFrame concatenation with empty or all-NA entries is deprecated. In a future version, this will no longer exclude empty or all-NA columns when determining the result dtypes. To retain the old behavior, exclude the relevant entries before the concat operation.\n",
      "\n",
      "C:\\Users\\quirosgu\\AppData\\Local\\Temp\\ipykernel_10156\\319300670.py:9: FutureWarning:\n",
      "\n",
      "The behavior of DataFrame concatenation with empty or all-NA entries is deprecated. In a future version, this will no longer exclude empty or all-NA columns when determining the result dtypes. To retain the old behavior, exclude the relevant entries before the concat operation.\n",
      "\n",
      "C:\\Users\\quirosgu\\AppData\\Local\\Temp\\ipykernel_10156\\319300670.py:9: FutureWarning:\n",
      "\n",
      "The behavior of DataFrame concatenation with empty or all-NA entries is deprecated. In a future version, this will no longer exclude empty or all-NA columns when determining the result dtypes. To retain the old behavior, exclude the relevant entries before the concat operation.\n",
      "\n",
      "C:\\Users\\quirosgu\\AppData\\Local\\Temp\\ipykernel_10156\\319300670.py:9: FutureWarning:\n",
      "\n",
      "The behavior of DataFrame concatenation with empty or all-NA entries is deprecated. In a future version, this will no longer exclude empty or all-NA columns when determining the result dtypes. To retain the old behavior, exclude the relevant entries before the concat operation.\n",
      "\n",
      "C:\\Users\\quirosgu\\AppData\\Local\\Temp\\ipykernel_10156\\319300670.py:9: FutureWarning:\n",
      "\n",
      "The behavior of DataFrame concatenation with empty or all-NA entries is deprecated. In a future version, this will no longer exclude empty or all-NA columns when determining the result dtypes. To retain the old behavior, exclude the relevant entries before the concat operation.\n",
      "\n",
      "C:\\Users\\quirosgu\\AppData\\Local\\Temp\\ipykernel_10156\\319300670.py:9: FutureWarning:\n",
      "\n",
      "The behavior of DataFrame concatenation with empty or all-NA entries is deprecated. In a future version, this will no longer exclude empty or all-NA columns when determining the result dtypes. To retain the old behavior, exclude the relevant entries before the concat operation.\n",
      "\n",
      "C:\\Users\\quirosgu\\AppData\\Local\\Temp\\ipykernel_10156\\319300670.py:9: FutureWarning:\n",
      "\n",
      "The behavior of DataFrame concatenation with empty or all-NA entries is deprecated. In a future version, this will no longer exclude empty or all-NA columns when determining the result dtypes. To retain the old behavior, exclude the relevant entries before the concat operation.\n",
      "\n",
      "C:\\Users\\quirosgu\\AppData\\Local\\Temp\\ipykernel_10156\\319300670.py:9: FutureWarning:\n",
      "\n",
      "The behavior of DataFrame concatenation with empty or all-NA entries is deprecated. In a future version, this will no longer exclude empty or all-NA columns when determining the result dtypes. To retain the old behavior, exclude the relevant entries before the concat operation.\n",
      "\n",
      "C:\\Users\\quirosgu\\AppData\\Local\\Temp\\ipykernel_10156\\319300670.py:9: FutureWarning:\n",
      "\n",
      "The behavior of DataFrame concatenation with empty or all-NA entries is deprecated. In a future version, this will no longer exclude empty or all-NA columns when determining the result dtypes. To retain the old behavior, exclude the relevant entries before the concat operation.\n",
      "\n",
      "C:\\Users\\quirosgu\\AppData\\Local\\Temp\\ipykernel_10156\\319300670.py:9: FutureWarning:\n",
      "\n",
      "The behavior of DataFrame concatenation with empty or all-NA entries is deprecated. In a future version, this will no longer exclude empty or all-NA columns when determining the result dtypes. To retain the old behavior, exclude the relevant entries before the concat operation.\n",
      "\n",
      "C:\\Users\\quirosgu\\AppData\\Local\\Temp\\ipykernel_10156\\319300670.py:9: FutureWarning:\n",
      "\n",
      "The behavior of DataFrame concatenation with empty or all-NA entries is deprecated. In a future version, this will no longer exclude empty or all-NA columns when determining the result dtypes. To retain the old behavior, exclude the relevant entries before the concat operation.\n",
      "\n",
      "C:\\Users\\quirosgu\\AppData\\Local\\Temp\\ipykernel_10156\\319300670.py:9: FutureWarning:\n",
      "\n",
      "The behavior of DataFrame concatenation with empty or all-NA entries is deprecated. In a future version, this will no longer exclude empty or all-NA columns when determining the result dtypes. To retain the old behavior, exclude the relevant entries before the concat operation.\n",
      "\n",
      "C:\\Users\\quirosgu\\AppData\\Local\\Temp\\ipykernel_10156\\319300670.py:9: FutureWarning:\n",
      "\n",
      "The behavior of DataFrame concatenation with empty or all-NA entries is deprecated. In a future version, this will no longer exclude empty or all-NA columns when determining the result dtypes. To retain the old behavior, exclude the relevant entries before the concat operation.\n",
      "\n",
      "C:\\Users\\quirosgu\\AppData\\Local\\Temp\\ipykernel_10156\\319300670.py:9: FutureWarning:\n",
      "\n",
      "The behavior of DataFrame concatenation with empty or all-NA entries is deprecated. In a future version, this will no longer exclude empty or all-NA columns when determining the result dtypes. To retain the old behavior, exclude the relevant entries before the concat operation.\n",
      "\n",
      "C:\\Users\\quirosgu\\AppData\\Local\\Temp\\ipykernel_10156\\319300670.py:9: FutureWarning:\n",
      "\n",
      "The behavior of DataFrame concatenation with empty or all-NA entries is deprecated. In a future version, this will no longer exclude empty or all-NA columns when determining the result dtypes. To retain the old behavior, exclude the relevant entries before the concat operation.\n",
      "\n",
      "C:\\Users\\quirosgu\\AppData\\Local\\Temp\\ipykernel_10156\\319300670.py:9: FutureWarning:\n",
      "\n",
      "The behavior of DataFrame concatenation with empty or all-NA entries is deprecated. In a future version, this will no longer exclude empty or all-NA columns when determining the result dtypes. To retain the old behavior, exclude the relevant entries before the concat operation.\n",
      "\n",
      "C:\\Users\\quirosgu\\AppData\\Local\\Temp\\ipykernel_10156\\319300670.py:9: FutureWarning:\n",
      "\n",
      "The behavior of DataFrame concatenation with empty or all-NA entries is deprecated. In a future version, this will no longer exclude empty or all-NA columns when determining the result dtypes. To retain the old behavior, exclude the relevant entries before the concat operation.\n",
      "\n",
      "C:\\Users\\quirosgu\\AppData\\Local\\Temp\\ipykernel_10156\\319300670.py:9: FutureWarning:\n",
      "\n",
      "The behavior of DataFrame concatenation with empty or all-NA entries is deprecated. In a future version, this will no longer exclude empty or all-NA columns when determining the result dtypes. To retain the old behavior, exclude the relevant entries before the concat operation.\n",
      "\n",
      "C:\\Users\\quirosgu\\AppData\\Local\\Temp\\ipykernel_10156\\319300670.py:9: FutureWarning:\n",
      "\n",
      "The behavior of DataFrame concatenation with empty or all-NA entries is deprecated. In a future version, this will no longer exclude empty or all-NA columns when determining the result dtypes. To retain the old behavior, exclude the relevant entries before the concat operation.\n",
      "\n",
      "C:\\Users\\quirosgu\\AppData\\Local\\Temp\\ipykernel_10156\\319300670.py:9: FutureWarning:\n",
      "\n",
      "The behavior of DataFrame concatenation with empty or all-NA entries is deprecated. In a future version, this will no longer exclude empty or all-NA columns when determining the result dtypes. To retain the old behavior, exclude the relevant entries before the concat operation.\n",
      "\n",
      "C:\\Users\\quirosgu\\AppData\\Local\\Temp\\ipykernel_10156\\319300670.py:9: FutureWarning:\n",
      "\n",
      "The behavior of DataFrame concatenation with empty or all-NA entries is deprecated. In a future version, this will no longer exclude empty or all-NA columns when determining the result dtypes. To retain the old behavior, exclude the relevant entries before the concat operation.\n",
      "\n",
      "C:\\Users\\quirosgu\\AppData\\Local\\Temp\\ipykernel_10156\\319300670.py:9: FutureWarning:\n",
      "\n",
      "The behavior of DataFrame concatenation with empty or all-NA entries is deprecated. In a future version, this will no longer exclude empty or all-NA columns when determining the result dtypes. To retain the old behavior, exclude the relevant entries before the concat operation.\n",
      "\n",
      "C:\\Users\\quirosgu\\AppData\\Local\\Temp\\ipykernel_10156\\319300670.py:9: FutureWarning:\n",
      "\n",
      "The behavior of DataFrame concatenation with empty or all-NA entries is deprecated. In a future version, this will no longer exclude empty or all-NA columns when determining the result dtypes. To retain the old behavior, exclude the relevant entries before the concat operation.\n",
      "\n",
      "C:\\Users\\quirosgu\\AppData\\Local\\Temp\\ipykernel_10156\\319300670.py:9: FutureWarning:\n",
      "\n",
      "The behavior of DataFrame concatenation with empty or all-NA entries is deprecated. In a future version, this will no longer exclude empty or all-NA columns when determining the result dtypes. To retain the old behavior, exclude the relevant entries before the concat operation.\n",
      "\n",
      "C:\\Users\\quirosgu\\AppData\\Local\\Temp\\ipykernel_10156\\319300670.py:9: FutureWarning:\n",
      "\n",
      "The behavior of DataFrame concatenation with empty or all-NA entries is deprecated. In a future version, this will no longer exclude empty or all-NA columns when determining the result dtypes. To retain the old behavior, exclude the relevant entries before the concat operation.\n",
      "\n",
      "C:\\Users\\quirosgu\\AppData\\Local\\Temp\\ipykernel_10156\\319300670.py:9: FutureWarning:\n",
      "\n",
      "The behavior of DataFrame concatenation with empty or all-NA entries is deprecated. In a future version, this will no longer exclude empty or all-NA columns when determining the result dtypes. To retain the old behavior, exclude the relevant entries before the concat operation.\n",
      "\n"
     ]
    },
    {
     "data": {
      "application/vnd.plotly.v1+json": {
       "config": {
        "plotlyServerURL": "https://plot.ly"
       },
       "data": [
        {
         "hovertemplate": "chemical_superclass=Alkaloids-Anthranilic acid alkaloids<br>recurrence=%{r}<br>genus_family=%{theta}<extra></extra>",
         "legendgroup": "Alkaloids-Anthranilic acid alkaloids",
         "marker": {
          "color": "#468eaa",
          "pattern": {
           "shape": ""
          }
         },
         "name": "Alkaloids-Anthranilic acid alkaloids",
         "r": [
          1
         ],
         "showlegend": true,
         "subplot": "polar",
         "theta": [
          "Fabaceae - Mimosa pudica"
         ],
         "type": "barpolar"
        },
        {
         "hovertemplate": "chemical_superclass=Alkaloids-Lysine alkaloids<br>recurrence=%{r}<br>genus_family=%{theta}<extra></extra>",
         "legendgroup": "Alkaloids-Lysine alkaloids",
         "marker": {
          "color": "#305f72",
          "pattern": {
           "shape": ""
          }
         },
         "name": "Alkaloids-Lysine alkaloids",
         "r": [
          7,
          1,
          2,
          18,
          1,
          6
         ],
         "showlegend": true,
         "subplot": "polar",
         "theta": [
          "Fabaceae - Erythrina berteroana",
          "Asteraceae - Ageratina ligustrina",
          "Piperaceae - Piper reticulatum",
          "Piperaceae - Piper tuberculatum",
          "Apocynaceae - Plumeria rubra",
          "Fabaceae - Prosopis juliflora"
         ],
         "type": "barpolar"
        },
        {
         "hovertemplate": "chemical_superclass=Alkaloids-Nicotinic acid alkaloids<br>recurrence=%{r}<br>genus_family=%{theta}<extra></extra>",
         "legendgroup": "Alkaloids-Nicotinic acid alkaloids",
         "marker": {
          "color": "#40829c",
          "pattern": {
           "shape": ""
          }
         },
         "name": "Alkaloids-Nicotinic acid alkaloids",
         "r": [
          1
         ],
         "showlegend": true,
         "subplot": "polar",
         "theta": [
          "Fabaceae - Mimosa pudica"
         ],
         "type": "barpolar"
        },
        {
         "hovertemplate": "chemical_superclass=Alkaloids-Ornithine alkaloids<br>recurrence=%{r}<br>genus_family=%{theta}<extra></extra>",
         "legendgroup": "Alkaloids-Ornithine alkaloids",
         "marker": {
          "color": "#56b0d4",
          "pattern": {
           "shape": ""
          }
         },
         "name": "Alkaloids-Ornithine alkaloids",
         "r": [
          4,
          1,
          2,
          1,
          6,
          2,
          1,
          3,
          3,
          1
         ],
         "showlegend": true,
         "subplot": "polar",
         "theta": [
          "Pontederiaceae - Eichhornia crassipes",
          "Erythroxylaceae - Erythroxylum fimbriatum",
          "Convolvulaceae - Ipomoea nil",
          "Rubiaceae - Alibertia edulis",
          "Fabaceae - Albizia adinocephala",
          "Asteraceae - Ageratum conyzoides",
          "Apocynaceae - Catharanthus roseus",
          "Asteraceae - Telanthophora grandifolia",
          "Asteraceae - Ageratina ligustrina",
          "Fabaceae - Samanea saman"
         ],
         "type": "barpolar"
        },
        {
         "hovertemplate": "chemical_superclass=Alkaloids-Peptide alkaloids<br>recurrence=%{r}<br>genus_family=%{theta}<extra></extra>",
         "legendgroup": "Alkaloids-Peptide alkaloids",
         "marker": {
          "color": "#5cbce2",
          "pattern": {
           "shape": ""
          }
         },
         "name": "Alkaloids-Peptide alkaloids",
         "r": [
          9,
          1
         ],
         "showlegend": true,
         "subplot": "polar",
         "theta": [
          "Malvaceae - Talipariti tiliaceum",
          "Poaceae - Cymbopogon citratus"
         ],
         "type": "barpolar"
        },
        {
         "hovertemplate": "chemical_superclass=Alkaloids-Pseudoalkaloids<br>recurrence=%{r}<br>genus_family=%{theta}<extra></extra>",
         "legendgroup": "Alkaloids-Pseudoalkaloids",
         "marker": {
          "color": "#51a5c6",
          "pattern": {
           "shape": ""
          }
         },
         "name": "Alkaloids-Pseudoalkaloids",
         "r": [
          2,
          6,
          1
         ],
         "showlegend": true,
         "subplot": "polar",
         "theta": [
          "Malvaceae - Herrania purpurea",
          "Apocynaceae - Catharanthus roseus",
          "Pontederiaceae - Eichhornia crassipes"
         ],
         "type": "barpolar"
        },
        {
         "hovertemplate": "chemical_superclass=Alkaloids-Tetramate alkaloids<br>recurrence=%{r}<br>genus_family=%{theta}<extra></extra>",
         "legendgroup": "Alkaloids-Tetramate alkaloids",
         "marker": {
          "color": "#3b768e",
          "pattern": {
           "shape": ""
          }
         },
         "name": "Alkaloids-Tetramate alkaloids",
         "r": [
          1,
          2
         ],
         "showlegend": true,
         "subplot": "polar",
         "theta": [
          "Poaceae - Cymbopogon citratus",
          "Fabaceae - Caesalpinia pulcherrima"
         ],
         "type": "barpolar"
        },
        {
         "hovertemplate": "chemical_superclass=Alkaloids-Tryptophan alkaloids<br>recurrence=%{r}<br>genus_family=%{theta}<extra></extra>",
         "legendgroup": "Alkaloids-Tryptophan alkaloids",
         "marker": {
          "color": "#366b80",
          "pattern": {
           "shape": ""
          }
         },
         "name": "Alkaloids-Tryptophan alkaloids",
         "r": [
          1,
          185,
          8,
          2,
          2,
          2,
          7
         ],
         "showlegend": true,
         "subplot": "polar",
         "theta": [
          "Pontederiaceae - Eichhornia crassipes",
          "Apocynaceae - Catharanthus roseus",
          "Fabaceae - Erythrina berteroana",
          "Simaroubaceae - Quassia amara",
          "Rubiaceae - Morinda citrifolia",
          "Convolvulaceae - Ipomoea nil",
          "Apocynaceae - Rauvolfia littoralis"
         ],
         "type": "barpolar"
        },
        {
         "hovertemplate": "chemical_superclass=Alkaloids-Tyrosine alkaloids<br>recurrence=%{r}<br>genus_family=%{theta}<extra></extra>",
         "legendgroup": "Alkaloids-Tyrosine alkaloids",
         "marker": {
          "color": "#4c99b8",
          "pattern": {
           "shape": ""
          }
         },
         "name": "Alkaloids-Tyrosine alkaloids",
         "r": [
          2,
          2,
          1,
          3,
          11
         ],
         "showlegend": true,
         "subplot": "polar",
         "theta": [
          "Pontederiaceae - Eichhornia crassipes",
          "Piperaceae - Piper tuberculatum",
          "Brassicaceae - Nasturtium officinale",
          "Poaceae - Cymbopogon citratus",
          "Siparunaceae - Siparuna grandiflora"
         ],
         "type": "barpolar"
        },
        {
         "hovertemplate": "chemical_superclass=Amino acids and Peptides-Amino acid glycosides<br>recurrence=%{r}<br>genus_family=%{theta}<extra></extra>",
         "legendgroup": "Amino acids and Peptides-Amino acid glycosides",
         "marker": {
          "color": "#f6eb8c",
          "pattern": {
           "shape": ""
          }
         },
         "name": "Amino acids and Peptides-Amino acid glycosides",
         "r": [
          2
         ],
         "showlegend": true,
         "subplot": "polar",
         "theta": [
          "Caricaceae - Vasconcellea cauliflora"
         ],
         "type": "barpolar"
        },
        {
         "hovertemplate": "chemical_superclass=Amino acids and Peptides-Oligopeptides<br>recurrence=%{r}<br>genus_family=%{theta}<extra></extra>",
         "legendgroup": "Amino acids and Peptides-Oligopeptides",
         "marker": {
          "color": "#faf2d3",
          "pattern": {
           "shape": ""
          }
         },
         "name": "Amino acids and Peptides-Oligopeptides",
         "r": [
          1
         ],
         "showlegend": true,
         "subplot": "polar",
         "theta": [
          "Euphorbiaceae - Jatropha gossypiifolia"
         ],
         "type": "barpolar"
        },
        {
         "hovertemplate": "chemical_superclass=Amino acids and Peptides-Phenylpropanoids (C6-C3)<br>recurrence=%{r}<br>genus_family=%{theta}<extra></extra>",
         "legendgroup": "Amino acids and Peptides-Phenylpropanoids (C6-C3)",
         "marker": {
          "color": "#636efa",
          "pattern": {
           "shape": ""
          }
         },
         "name": "Amino acids and Peptides-Phenylpropanoids (C6-C3)",
         "r": [
          4,
          5,
          3,
          3
         ],
         "showlegend": true,
         "subplot": "polar",
         "theta": [
          "Piperaceae - Piper tuberculatum",
          "Malvaceae - Talipariti tiliaceum",
          "Convolvulaceae - Ipomoea nil",
          "Convolvulaceae - Camonea umbellata"
         ],
         "type": "barpolar"
        },
        {
         "hovertemplate": "chemical_superclass=Amino acids and Peptides-Small peptides<br>recurrence=%{r}<br>genus_family=%{theta}<extra></extra>",
         "legendgroup": "Amino acids and Peptides-Small peptides",
         "marker": {
          "color": "#f4e869",
          "pattern": {
           "shape": ""
          }
         },
         "name": "Amino acids and Peptides-Small peptides",
         "r": [
          1,
          21,
          13,
          1,
          1,
          1,
          4,
          1,
          25,
          12,
          1,
          2,
          2,
          1
         ],
         "showlegend": true,
         "subplot": "polar",
         "theta": [
          "Fabaceae - Canavalia rosea",
          "Pontederiaceae - Eichhornia crassipes",
          "Apocynaceae - Catharanthus roseus",
          "Fabaceae - Delonix regia",
          "Fabaceae - Gliricidia sepium",
          "Asteraceae - Ageratum conyzoides",
          "Verbenaceae - Lantana camara",
          "Fabaceae - Guilandina bonduc",
          "Fabaceae - Indigofera hirsuta",
          "Euphorbiaceae - Jatropha gossypiifolia",
          "Fabaceae - Prosopis juliflora",
          "Fabaceae - Mimosa pudica",
          "Brassicaceae - Nasturtium officinale",
          "Apocynaceae - Plumeria rubra"
         ],
         "type": "barpolar"
        },
        {
         "hovertemplate": "chemical_superclass=Carbohydrates-Aminosugars and aminoglycosides<br>recurrence=%{r}<br>genus_family=%{theta}<extra></extra>",
         "legendgroup": "Carbohydrates-Aminosugars and aminoglycosides",
         "marker": {
          "color": "#86683e",
          "pattern": {
           "shape": ""
          }
         },
         "name": "Carbohydrates-Aminosugars and aminoglycosides",
         "r": [
          3,
          4
         ],
         "showlegend": true,
         "subplot": "polar",
         "theta": [
          "Fabaceae - Lonchocarpus heptaphyllus",
          "Euphorbiaceae - Omphalea diandra"
         ],
         "type": "barpolar"
        },
        {
         "hovertemplate": "chemical_superclass=Carbohydrates-Nucleosides<br>recurrence=%{r}<br>genus_family=%{theta}<extra></extra>",
         "legendgroup": "Carbohydrates-Nucleosides",
         "marker": {
          "color": "#a78b5e",
          "pattern": {
           "shape": ""
          }
         },
         "name": "Carbohydrates-Nucleosides",
         "r": [
          1,
          2
         ],
         "showlegend": true,
         "subplot": "polar",
         "theta": [
          "Apocynaceae - Catharanthus roseus",
          "Rubiaceae - Morinda citrifolia"
         ],
         "type": "barpolar"
        },
        {
         "hovertemplate": "chemical_superclass=Carbohydrates-Polyols<br>recurrence=%{r}<br>genus_family=%{theta}<extra></extra>",
         "legendgroup": "Carbohydrates-Polyols",
         "marker": {
          "color": "#c8ae7d",
          "pattern": {
           "shape": ""
          }
         },
         "name": "Carbohydrates-Polyols",
         "r": [
          1
         ],
         "showlegend": true,
         "subplot": "polar",
         "theta": [
          "Fabaceae - Gliricidia sepium"
         ],
         "type": "barpolar"
        },
        {
         "hovertemplate": "chemical_superclass=Carbohydrates-Saccharides<br>recurrence=%{r}<br>genus_family=%{theta}<extra></extra>",
         "legendgroup": "Carbohydrates-Saccharides",
         "marker": {
          "color": "#65451f",
          "pattern": {
           "shape": ""
          }
         },
         "name": "Carbohydrates-Saccharides",
         "r": [
          1,
          10,
          1,
          5,
          6,
          3,
          18,
          5,
          1
         ],
         "showlegend": true,
         "subplot": "polar",
         "theta": [
          "Simaroubaceae - Quassia amara",
          "Apocynaceae - Catharanthus roseus",
          "Rubiaceae - Genipa americana",
          "Euphorbiaceae - Sapium laurifolium",
          "Verbenaceae - Lantana camara",
          "Euphorbiaceae - Jatropha gossypiifolia",
          "Poaceae - Saccharum officinarum",
          "Rubiaceae - Morinda citrifolia",
          "Arecaceae - Acrocomia aculeata"
         ],
         "type": "barpolar"
        },
        {
         "hovertemplate": "chemical_superclass=Fatty acids-Fatty Acids and Conjugates<br>recurrence=%{r}<br>genus_family=%{theta}<extra></extra>",
         "legendgroup": "Fatty acids-Fatty Acids and Conjugates",
         "marker": {
          "color": "#ff771b",
          "pattern": {
           "shape": ""
          }
         },
         "name": "Fatty acids-Fatty Acids and Conjugates",
         "r": [
          5,
          5,
          8,
          2,
          1,
          1,
          10,
          2,
          1,
          3,
          11,
          3,
          7
         ],
         "showlegend": true,
         "subplot": "polar",
         "theta": [
          "Euphorbiaceae - Jatropha gossypiifolia",
          "Convolvulaceae - Ipomoea nil",
          "Fabaceae - Delonix regia",
          "Rubiaceae - Morinda citrifolia",
          "Fabaceae - Samanea saman",
          "Asteraceae - Ageratina ligustrina",
          "Apocynaceae - Catharanthus roseus",
          "Lythraceae - Lawsonia inermis",
          "Fabaceae - Caesalpinia pulcherrima",
          "Asteraceae - Ageratum conyzoides",
          "Verbenaceae - Lantana camara",
          "Poaceae - Saccharum officinarum",
          "Apocynaceae - Plumeria rubra"
         ],
         "type": "barpolar"
        },
        {
         "hovertemplate": "chemical_superclass=Fatty acids-Fatty acyl glycosides<br>recurrence=%{r}<br>genus_family=%{theta}<extra></extra>",
         "legendgroup": "Fatty acids-Fatty acyl glycosides",
         "marker": {
          "color": "#ff9209",
          "pattern": {
           "shape": ""
          }
         },
         "name": "Fatty acids-Fatty acyl glycosides",
         "r": [
          9,
          3
         ],
         "showlegend": true,
         "subplot": "polar",
         "theta": [
          "Rubiaceae - Morinda citrifolia",
          "Bignoniaceae - Crescentia cujete"
         ],
         "type": "barpolar"
        },
        {
         "hovertemplate": "chemical_superclass=Fatty acids-Fatty acyls<br>recurrence=%{r}<br>genus_family=%{theta}<extra></extra>",
         "legendgroup": "Fatty acids-Fatty acyls",
         "marker": {
          "color": "#ff6c22",
          "pattern": {
           "shape": ""
          }
         },
         "name": "Fatty acids-Fatty acyls",
         "r": [
          1,
          5,
          11,
          1,
          18,
          1,
          20,
          2,
          11
         ],
         "showlegend": true,
         "subplot": "polar",
         "theta": [
          "Fabaceae - Gliricidia sepium",
          "Convolvulaceae - Ipomoea nil",
          "Verbenaceae - Lantana camara",
          "Lythraceae - Lawsonia inermis",
          "Poaceae - Cymbopogon citratus",
          "Pteridaceae - Acrostichum aureum",
          "Apocynaceae - Plumeria rubra",
          "Fabaceae - Mimosa pudica",
          "Asteraceae - Ageratum conyzoides"
         ],
         "type": "barpolar"
        },
        {
         "hovertemplate": "chemical_superclass=Fatty acids-Fatty amides<br>recurrence=%{r}<br>genus_family=%{theta}<extra></extra>",
         "legendgroup": "Fatty acids-Fatty amides",
         "marker": {
          "color": "#ff8710",
          "pattern": {
           "shape": ""
          }
         },
         "name": "Fatty acids-Fatty amides",
         "r": [
          5
         ],
         "showlegend": true,
         "subplot": "polar",
         "theta": [
          "Piperaceae - Piper tuberculatum"
         ],
         "type": "barpolar"
        },
        {
         "hovertemplate": "chemical_superclass=Fatty acids-Fatty esters<br>recurrence=%{r}<br>genus_family=%{theta}<extra></extra>",
         "legendgroup": "Fatty acids-Fatty esters",
         "marker": {
          "color": "#ff7c17",
          "pattern": {
           "shape": ""
          }
         },
         "name": "Fatty acids-Fatty esters",
         "r": [
          1,
          1,
          4,
          2,
          2,
          1,
          2
         ],
         "showlegend": true,
         "subplot": "polar",
         "theta": [
          "Moraceae - Ficus benjamina",
          "Rhizophoraceae - Rhizophora mangle",
          "Asteraceae - Ageratum conyzoides",
          "Rubiaceae - Morinda citrifolia",
          "Apocynaceae - Catharanthus roseus",
          "Lythraceae - Lawsonia inermis",
          "Apocynaceae - Plumeria rubra"
         ],
         "type": "barpolar"
        },
        {
         "hovertemplate": "chemical_superclass=Fatty acids-Glycerolipids<br>recurrence=%{r}<br>genus_family=%{theta}<extra></extra>",
         "legendgroup": "Fatty acids-Glycerolipids",
         "marker": {
          "color": "#ff711e",
          "pattern": {
           "shape": ""
          }
         },
         "name": "Fatty acids-Glycerolipids",
         "r": [
          1,
          3,
          3
         ],
         "showlegend": true,
         "subplot": "polar",
         "theta": [
          "Apocynaceae - Plumeria rubra",
          "Convolvulaceae - Ipomoea nil",
          "Rubiaceae - Morinda citrifolia"
         ],
         "type": "barpolar"
        },
        {
         "hovertemplate": "chemical_superclass=Fatty acids-Octadecanoids<br>recurrence=%{r}<br>genus_family=%{theta}<extra></extra>",
         "legendgroup": "Fatty acids-Octadecanoids",
         "marker": {
          "color": "#ff8214",
          "pattern": {
           "shape": ""
          }
         },
         "name": "Fatty acids-Octadecanoids",
         "r": [
          1,
          3,
          2,
          1,
          1,
          1
         ],
         "showlegend": true,
         "subplot": "polar",
         "theta": [
          "Fabaceae - Mimosa pudica",
          "Convolvulaceae - Ipomoea nil",
          "Apocynaceae - Catharanthus roseus",
          "Rubiaceae - Morinda citrifolia",
          "Fabaceae - Samanea saman",
          "Asteraceae - Ageratum conyzoides"
         ],
         "type": "barpolar"
        },
        {
         "hovertemplate": "chemical_superclass=Fatty acids-Sphingolipids<br>recurrence=%{r}<br>genus_family=%{theta}<extra></extra>",
         "legendgroup": "Fatty acids-Sphingolipids",
         "marker": {
          "color": "#ff8d0d",
          "pattern": {
           "shape": ""
          }
         },
         "name": "Fatty acids-Sphingolipids",
         "r": [
          2
         ],
         "showlegend": true,
         "subplot": "polar",
         "theta": [
          "Sapindaceae - Paullinia pinnata"
         ],
         "type": "barpolar"
        },
        {
         "hovertemplate": "chemical_superclass=Polyketides-Aromatic polyketides<br>recurrence=%{r}<br>genus_family=%{theta}<extra></extra>",
         "legendgroup": "Polyketides-Aromatic polyketides",
         "marker": {
          "color": "#ef4b4b",
          "pattern": {
           "shape": ""
          }
         },
         "name": "Polyketides-Aromatic polyketides",
         "r": [
          4,
          2,
          1,
          2,
          1
         ],
         "showlegend": true,
         "subplot": "polar",
         "theta": [
          "Malvaceae - Talipariti tiliaceum",
          "Apocynaceae - Plumeria rubra",
          "Combretaceae - Laguncularia racemosa",
          "Rubiaceae - Morinda citrifolia",
          "Fabaceae - Caesalpinia pulcherrima"
         ],
         "type": "barpolar"
        },
        {
         "hovertemplate": "chemical_superclass=Polyketides-Chromanes<br>recurrence=%{r}<br>genus_family=%{theta}<extra></extra>",
         "legendgroup": "Polyketides-Chromanes",
         "marker": {
          "color": "#ec8f6a",
          "pattern": {
           "shape": ""
          }
         },
         "name": "Polyketides-Chromanes",
         "r": [
          1,
          2
         ],
         "showlegend": true,
         "subplot": "polar",
         "theta": [
          "Asteraceae - Ageratum conyzoides",
          "Malvaceae - Talipariti tiliaceum"
         ],
         "type": "barpolar"
        },
        {
         "hovertemplate": "chemical_superclass=Polyketides-Cyclic polyketides<br>recurrence=%{r}<br>genus_family=%{theta}<extra></extra>",
         "legendgroup": "Polyketides-Cyclic polyketides",
         "marker": {
          "color": "#ec8566",
          "pattern": {
           "shape": ""
          }
         },
         "name": "Polyketides-Cyclic polyketides",
         "r": [
          2,
          1,
          1
         ],
         "showlegend": true,
         "subplot": "polar",
         "theta": [
          "Piperaceae - Piper reticulatum",
          "Rubiaceae - Morinda citrifolia",
          "Verbenaceae - Lantana camara"
         ],
         "type": "barpolar"
        },
        {
         "hovertemplate": "chemical_superclass=Polyketides-Meroterpenoids<br>recurrence=%{r}<br>genus_family=%{theta}<extra></extra>",
         "legendgroup": "Polyketides-Meroterpenoids",
         "marker": {
          "color": "#ef554f",
          "pattern": {
           "shape": ""
          }
         },
         "name": "Polyketides-Meroterpenoids",
         "r": [
          2,
          12
         ],
         "showlegend": true,
         "subplot": "polar",
         "theta": [
          "Calophyllaceae - Marila laxiflora",
          "Piperaceae - Peperomia galioides"
         ],
         "type": "barpolar"
        },
        {
         "hovertemplate": "chemical_superclass=Polyketides-Naphthalenes<br>recurrence=%{r}<br>genus_family=%{theta}<extra></extra>",
         "legendgroup": "Polyketides-Naphthalenes",
         "marker": {
          "color": "#ee5e54",
          "pattern": {
           "shape": ""
          }
         },
         "name": "Polyketides-Naphthalenes",
         "r": [
          1,
          1,
          8,
          2,
          7,
          1,
          5,
          2
         ],
         "showlegend": true,
         "subplot": "polar",
         "theta": [
          "Rubiaceae - Morinda citrifolia",
          "Acanthaceae - Avicennia germinans",
          "Verbenaceae - Lantana camara",
          "Bignoniaceae - Crescentia cujete",
          "Malvaceae - Talipariti tiliaceum",
          "Fabaceae - Caesalpinia pulcherrima",
          "Lythraceae - Lawsonia inermis",
          "Pontederiaceae - Eichhornia crassipes"
         ],
         "type": "barpolar"
        },
        {
         "hovertemplate": "chemical_superclass=Polyketides-Phloroglucinols<br>recurrence=%{r}<br>genus_family=%{theta}<extra></extra>",
         "legendgroup": "Polyketides-Phloroglucinols",
         "marker": {
          "color": "#ee6858",
          "pattern": {
           "shape": ""
          }
         },
         "name": "Polyketides-Phloroglucinols",
         "r": [
          1,
          1,
          8,
          1
         ],
         "showlegend": true,
         "subplot": "polar",
         "theta": [
          "Lythraceae - Lawsonia inermis",
          "Fabaceae - Cassia grandis",
          "Clusiaceae - Tovomita longifolia",
          "Moraceae - Maclura tinctoria"
         ],
         "type": "barpolar"
        },
        {
         "hovertemplate": "chemical_superclass=Polyketides-Polycyclic aromatic polyketides<br>recurrence=%{r}<br>genus_family=%{theta}<extra></extra>",
         "legendgroup": "Polyketides-Polycyclic aromatic polyketides",
         "marker": {
          "color": "#ed725d",
          "pattern": {
           "shape": ""
          }
         },
         "name": "Polyketides-Polycyclic aromatic polyketides",
         "r": [
          18,
          6,
          4,
          51,
          1
         ],
         "showlegend": true,
         "subplot": "polar",
         "theta": [
          "Picramniaceae - Picramnia latifolia",
          "Rubiaceae - Faramea occidentalis",
          "Fabaceae - Cassia grandis",
          "Rubiaceae - Morinda citrifolia",
          "Convolvulaceae - Ipomoea nil"
         ],
         "type": "barpolar"
        },
        {
         "hovertemplate": "chemical_superclass=Polyketides-Xanthones<br>recurrence=%{r}<br>genus_family=%{theta}<extra></extra>",
         "legendgroup": "Polyketides-Xanthones",
         "marker": {
          "color": "#ed7c61",
          "pattern": {
           "shape": ""
          }
         },
         "name": "Polyketides-Xanthones",
         "r": [
          1
         ],
         "showlegend": true,
         "subplot": "polar",
         "theta": [
          "Rubiaceae - Faramea occidentalis"
         ],
         "type": "barpolar"
        },
        {
         "hovertemplate": "chemical_superclass=Shikimates and Phenylpropanoids-Coumarins<br>recurrence=%{r}<br>genus_family=%{theta}<extra></extra>",
         "legendgroup": "Shikimates and Phenylpropanoids-Coumarins",
         "marker": {
          "color": "#a0759b",
          "pattern": {
           "shape": ""
          }
         },
         "name": "Shikimates and Phenylpropanoids-Coumarins",
         "r": [
          2,
          4,
          1,
          1,
          4,
          1,
          4,
          1,
          3,
          1,
          2,
          1,
          4
         ],
         "showlegend": true,
         "subplot": "polar",
         "theta": [
          "Fabaceae - Prosopis juliflora",
          "Convolvulaceae - Ipomoea nil",
          "Convolvulaceae - Camonea umbellata",
          "Apocynaceae - Plumeria rubra",
          "Lythraceae - Lawsonia inermis",
          "Asteraceae - Mikania micrantha",
          "Euphorbiaceae - Jatropha gossypiifolia",
          "Asteraceae - Ageratum conyzoides",
          "Malvaceae - Talipariti tiliaceum",
          "Fabaceae - Gliricidia sepium",
          "Picramniaceae - Picramnia latifolia",
          "Combretaceae - Laguncularia racemosa",
          "Rubiaceae - Morinda citrifolia"
         ],
         "type": "barpolar"
        },
        {
         "hovertemplate": "chemical_superclass=Shikimates and Phenylpropanoids-Flavonoids<br>recurrence=%{r}<br>genus_family=%{theta}<extra></extra>",
         "legendgroup": "Shikimates and Phenylpropanoids-Flavonoids",
         "marker": {
          "color": "#956a96",
          "pattern": {
           "shape": ""
          }
         },
         "name": "Shikimates and Phenylpropanoids-Flavonoids",
         "r": [
          4,
          8,
          1,
          9,
          15,
          20,
          1,
          17,
          14,
          14,
          22,
          2,
          1,
          16,
          4,
          3,
          12,
          1,
          11,
          7,
          4,
          1,
          2,
          13,
          10,
          4,
          4,
          19,
          2,
          1,
          16,
          1,
          24,
          3,
          30,
          7,
          3,
          4,
          1,
          8
         ],
         "showlegend": true,
         "subplot": "polar",
         "theta": [
          "Sapindaceae - Paullinia pinnata",
          "Verbenaceae - Lantana camara",
          "Calophyllaceae - Marila laxiflora",
          "Polygonaceae - Persicaria pubescens",
          "Rubiaceae - Morinda citrifolia",
          "Lythraceae - Lawsonia inermis",
          "Malvaceae - Apeiba tibourbou",
          "Convolvulaceae - Ipomoea nil",
          "Brassicaceae - Nasturtium officinale",
          "Fabaceae - Lonchocarpus heptaphyllus",
          "Moraceae - Maclura tinctoria",
          "Poaceae - Arthraxon hispidus",
          "Piperaceae - Piper reticulatum",
          "Asteraceae - Ageratum conyzoides",
          "Asteraceae - Mikania micrantha",
          "Urticaceae - Phenax angustifolius",
          "Combretaceae - Laguncularia racemosa",
          "Fabaceae - Hymenaea courbaril",
          "Fabaceae - Mimosa pudica",
          "Onagraceae - Fuchsia splendens",
          "Moraceae - Ficus maxima",
          "Euphorbiaceae - Euphorbia hypericifolia",
          "Fabaceae - Erythrina berteroana",
          "Poaceae - Saccharum officinarum",
          "Asteraceae - Ageratina ligustrina",
          "Calceolariaceae - Calceolaria irazuensis",
          "Myrtaceae - Syzygium malaccense",
          "Poaceae - Cymbopogon citratus",
          "Convolvulaceae - Camonea umbellata",
          "Moraceae - Clarisia racemosa",
          "Vitaceae - Cissus verticillata",
          "Asteraceae - Verbesina myriocephala",
          "Apocynaceae - Catharanthus roseus",
          "Fabaceae - Cassia grandis",
          "Fabaceae - Caesalpinia pulcherrima",
          "Fabaceae - Gliricidia sepium",
          "Pontederiaceae - Eichhornia crassipes",
          "Apocynaceae - Plumeria rubra",
          "Chloranthaceae - Hedyosmum bonplandianum",
          "Fabaceae - Prosopis juliflora"
         ],
         "type": "barpolar"
        },
        {
         "hovertemplate": "chemical_superclass=Shikimates and Phenylpropanoids-Isoflavonoids<br>recurrence=%{r}<br>genus_family=%{theta}<extra></extra>",
         "legendgroup": "Shikimates and Phenylpropanoids-Isoflavonoids",
         "marker": {
          "color": "#ab809f",
          "pattern": {
           "shape": ""
          }
         },
         "name": "Shikimates and Phenylpropanoids-Isoflavonoids",
         "r": [
          1,
          2,
          7,
          1,
          2,
          5,
          4,
          1,
          4,
          5,
          18
         ],
         "showlegend": true,
         "subplot": "polar",
         "theta": [
          "Fabaceae - Guilandina bonduc",
          "Fabaceae - Erythrina berteroana",
          "Poaceae - Cymbopogon citratus",
          "Asteraceae - Ageratum conyzoides",
          "Vitaceae - Cissus verticillata",
          "Fabaceae - Canavalia rosea",
          "Fabaceae - Caesalpinia pulcherrima",
          "Fabaceae - Prosopis juliflora",
          "Moraceae - Maclura tinctoria",
          "Fabaceae - Lonchocarpus heptaphyllus",
          "Fabaceae - Gliricidia sepium"
         ],
         "type": "barpolar"
        },
        {
         "hovertemplate": "chemical_superclass=Shikimates and Phenylpropanoids-Lignans<br>recurrence=%{r}<br>genus_family=%{theta}<extra></extra>",
         "legendgroup": "Shikimates and Phenylpropanoids-Lignans",
         "marker": {
          "color": "#8b6091",
          "pattern": {
           "shape": ""
          }
         },
         "name": "Shikimates and Phenylpropanoids-Lignans",
         "r": [
          1,
          4,
          32,
          2,
          1,
          5,
          2,
          1,
          1,
          1,
          2,
          3,
          5,
          1,
          1,
          1,
          2,
          3,
          2,
          2,
          1
         ],
         "showlegend": true,
         "subplot": "polar",
         "theta": [
          "Vitaceae - Cissus verticillata",
          "Lythraceae - Lawsonia inermis",
          "Rubiaceae - Morinda citrifolia",
          "Fabaceae - Gliricidia sepium",
          "Asteraceae - Ageratum conyzoides",
          "Convolvulaceae - Ipomoea nil",
          "Brassicaceae - Nasturtium officinale",
          "Apocynaceae - Plumeria rubra",
          "Acanthaceae - Avicennia germinans",
          "Malvaceae - Talipariti tiliaceum",
          "Bignoniaceae - Crescentia cujete",
          "Euphorbiaceae - Jatropha gossypiifolia",
          "Combretaceae - Laguncularia racemosa",
          "Fabaceae - Cassia grandis",
          "Fabaceae - Prosopis juliflora",
          "Asteraceae - Ageratina ligustrina",
          "Verbenaceae - Lantana camara",
          "Phyllanthaceae - Phyllanthus acuminatus",
          "Urticaceae - Phenax angustifolius",
          "Poaceae - Saccharum officinarum",
          "Piperaceae - Piper tuberculatum"
         ],
         "type": "barpolar"
        },
        {
         "hovertemplate": "chemical_superclass=Shikimates and Phenylpropanoids-Phenanthrenoids<br>recurrence=%{r}<br>genus_family=%{theta}<extra></extra>",
         "legendgroup": "Shikimates and Phenylpropanoids-Phenanthrenoids",
         "marker": {
          "color": "#cba0ae",
          "pattern": {
           "shape": ""
          }
         },
         "name": "Shikimates and Phenylpropanoids-Phenanthrenoids",
         "r": [
          4
         ],
         "showlegend": true,
         "subplot": "polar",
         "theta": [
          "Pontederiaceae - Eichhornia crassipes"
         ],
         "type": "barpolar"
        },
        {
         "hovertemplate": "chemical_superclass=Shikimates and Phenylpropanoids-Phenolic acids (C6-C1)<br>recurrence=%{r}<br>genus_family=%{theta}<extra></extra>",
         "legendgroup": "Shikimates and Phenylpropanoids-Phenolic acids (C6-C1)",
         "marker": {
          "color": "#EF553B",
          "pattern": {
           "shape": ""
          }
         },
         "name": "Shikimates and Phenylpropanoids-Phenolic acids (C6-C1)",
         "r": [
          1,
          3,
          4,
          1,
          1,
          1,
          1,
          2,
          2,
          2,
          4,
          7,
          1,
          1,
          2,
          6,
          2,
          1,
          2,
          3
         ],
         "showlegend": true,
         "subplot": "polar",
         "theta": [
          "Rubiaceae - Morinda citrifolia",
          "Malvaceae - Talipariti tiliaceum",
          "Apocynaceae - Catharanthus roseus",
          "Chloranthaceae - Hedyosmum bonplandianum",
          "Fabaceae - Cassia grandis",
          "Calophyllaceae - Marila laxiflora",
          "Convolvulaceae - Ipomoea nil",
          "Asteraceae - Verbesina myriocephala",
          "Myrtaceae - Syzygium malaccense",
          "Fabaceae - Mimosa pudica",
          "Bignoniaceae - Crescentia cujete",
          "Apocynaceae - Plumeria rubra",
          "Polygonaceae - Persicaria pubescens",
          "Lythraceae - Lawsonia inermis",
          "Euphorbiaceae - Sapium laurifolium",
          "Fabaceae - Gliricidia sepium",
          "Combretaceae - Laguncularia racemosa",
          "Asteraceae - Ageratina ligustrina",
          "Fabaceae - Caesalpinia pulcherrima",
          "Pontederiaceae - Eichhornia crassipes"
         ],
         "type": "barpolar"
        },
        {
         "hovertemplate": "chemical_superclass=Shikimates and Phenylpropanoids-Phenylethanoids (C6-C2)<br>recurrence=%{r}<br>genus_family=%{theta}<extra></extra>",
         "legendgroup": "Shikimates and Phenylpropanoids-Phenylethanoids (C6-C2)",
         "marker": {
          "color": "#00cc96",
          "pattern": {
           "shape": ""
          }
         },
         "name": "Shikimates and Phenylpropanoids-Phenylethanoids (C6-C2)",
         "r": [
          5,
          1
         ],
         "showlegend": true,
         "subplot": "polar",
         "theta": [
          "Convolvulaceae - Ipomoea nil",
          "Apocynaceae - Plumeria rubra"
         ],
         "type": "barpolar"
        },
        {
         "hovertemplate": "chemical_superclass=Shikimates and Phenylpropanoids-Phenylpropanoids (C6-C3)<br>recurrence=%{r}<br>genus_family=%{theta}<extra></extra>",
         "legendgroup": "Shikimates and Phenylpropanoids-Phenylpropanoids (C6-C3)",
         "marker": {
          "color": "#ab63fa",
          "pattern": {
           "shape": ""
          }
         },
         "name": "Shikimates and Phenylpropanoids-Phenylpropanoids (C6-C3)",
         "r": [
          5,
          1,
          2,
          3,
          2,
          6,
          2,
          2,
          1,
          16,
          1,
          1,
          1,
          1,
          10,
          1,
          8,
          2,
          7,
          3
         ],
         "showlegend": true,
         "subplot": "polar",
         "theta": [
          "Apocynaceae - Plumeria rubra",
          "Asteraceae - Ageratum conyzoides",
          "Poaceae - Saccharum officinarum",
          "Rubiaceae - Morinda citrifolia",
          "Malvaceae - Talipariti tiliaceum",
          "Piperaceae - Piper tuberculatum",
          "Asteraceae - Verbesina myriocephala",
          "Poaceae - Urochloa decumbens",
          "Fabaceae - Cassia grandis",
          "Convolvulaceae - Ipomoea nil",
          "Acanthaceae - Avicennia germinans",
          "Fabaceae - Mimosa pudica",
          "Malvaceae - Apeiba tibourbou",
          "Combretaceae - Laguncularia racemosa",
          "Verbenaceae - Lantana camara",
          "Fabaceae - Guilandina bonduc",
          "Fabaceae - Gliricidia sepium",
          "Pontederiaceae - Eichhornia crassipes",
          "Poaceae - Cymbopogon citratus",
          "Convolvulaceae - Camonea umbellata"
         ],
         "type": "barpolar"
        },
        {
         "hovertemplate": "chemical_superclass=Shikimates and Phenylpropanoids-Stilbenoids<br>recurrence=%{r}<br>genus_family=%{theta}<extra></extra>",
         "legendgroup": "Shikimates and Phenylpropanoids-Stilbenoids",
         "marker": {
          "color": "#c095a9",
          "pattern": {
           "shape": ""
          }
         },
         "name": "Shikimates and Phenylpropanoids-Stilbenoids",
         "r": [
          2,
          1
         ],
         "showlegend": true,
         "subplot": "polar",
         "theta": [
          "Fabaceae - Lonchocarpus heptaphyllus",
          "Poaceae - Saccharum officinarum"
         ],
         "type": "barpolar"
        },
        {
         "hovertemplate": "chemical_superclass=Shikimates and Phenylpropanoids-Xanthones<br>recurrence=%{r}<br>genus_family=%{theta}<extra></extra>",
         "legendgroup": "Shikimates and Phenylpropanoids-Xanthones",
         "marker": {
          "color": "#b68ba4",
          "pattern": {
           "shape": ""
          }
         },
         "name": "Shikimates and Phenylpropanoids-Xanthones",
         "r": [
          2,
          4,
          3
         ],
         "showlegend": true,
         "subplot": "polar",
         "theta": [
          "Calophyllaceae - Marila laxiflora",
          "Moraceae - Maclura tinctoria",
          "Lythraceae - Lawsonia inermis"
         ],
         "type": "barpolar"
        },
        {
         "hovertemplate": "chemical_superclass=Terpenoids-Apocarotenoids<br>recurrence=%{r}<br>genus_family=%{theta}<extra></extra>",
         "legendgroup": "Terpenoids-Apocarotenoids",
         "marker": {
          "color": "#b0cab3",
          "pattern": {
           "shape": ""
          }
         },
         "name": "Terpenoids-Apocarotenoids",
         "r": [
          2,
          2,
          1,
          2,
          6,
          2,
          1
         ],
         "showlegend": true,
         "subplot": "polar",
         "theta": [
          "Convolvulaceae - Ipomoea nil",
          "Lythraceae - Lawsonia inermis",
          "Apocynaceae - Plumeria rubra",
          "Poaceae - Saccharum officinarum",
          "Apocynaceae - Catharanthus roseus",
          "Fabaceae - Prosopis juliflora",
          "Rubiaceae - Morinda citrifolia"
         ],
         "type": "barpolar"
        },
        {
         "hovertemplate": "chemical_superclass=Terpenoids-Carotenoids (C40)<br>recurrence=%{r}<br>genus_family=%{theta}<extra></extra>",
         "legendgroup": "Terpenoids-Carotenoids (C40)",
         "marker": {
          "color": "#d0e7d2",
          "pattern": {
           "shape": ""
          }
         },
         "name": "Terpenoids-Carotenoids (C40)",
         "r": [
          4,
          3
         ],
         "showlegend": true,
         "subplot": "polar",
         "theta": [
          "Apocynaceae - Catharanthus roseus",
          "Brassicaceae - Nasturtium officinale"
         ],
         "type": "barpolar"
        },
        {
         "hovertemplate": "chemical_superclass=Terpenoids-Diterpenoids<br>recurrence=%{r}<br>genus_family=%{theta}<extra></extra>",
         "legendgroup": "Terpenoids-Diterpenoids",
         "marker": {
          "color": "#719074",
          "pattern": {
           "shape": ""
          }
         },
         "name": "Terpenoids-Diterpenoids",
         "r": [
          18,
          39,
          85,
          11,
          9,
          1,
          15,
          46,
          5,
          4,
          1,
          2,
          3,
          1,
          2
         ],
         "showlegend": true,
         "subplot": "polar",
         "theta": [
          "Fabaceae - Hymenaea courbaril",
          "Convolvulaceae - Ipomoea nil",
          "Fabaceae - Guilandina bonduc",
          "Euphorbiaceae - Jatropha gossypiifolia",
          "Annonaceae - Xylopia frutescens",
          "Poaceae - Cymbopogon citratus",
          "Asteraceae - Ageratina ixiocladon",
          "Fabaceae - Caesalpinia pulcherrima",
          "Phyllanthaceae - Phyllanthus acuminatus",
          "Rhizophoraceae - Rhizophora mangle",
          "Rubiaceae - Morinda citrifolia",
          "Apocynaceae - Catharanthus roseus",
          "Asteraceae - Mikania micrantha",
          "Euphorbiaceae - Cnidoscolus urens",
          "Rubiaceae - Alibertia edulis"
         ],
         "type": "barpolar"
        },
        {
         "hovertemplate": "chemical_superclass=Terpenoids-Meroterpenoids<br>recurrence=%{r}<br>genus_family=%{theta}<extra></extra>",
         "legendgroup": "Terpenoids-Meroterpenoids",
         "marker": {
          "color": "#91ad93",
          "pattern": {
           "shape": ""
          }
         },
         "name": "Terpenoids-Meroterpenoids",
         "r": [
          9,
          1,
          2
         ],
         "showlegend": true,
         "subplot": "polar",
         "theta": [
          "Asteraceae - Ageratum conyzoides",
          "Asteraceae - Ageratina ixiocladon",
          "Malvaceae - Talipariti tiliaceum"
         ],
         "type": "barpolar"
        },
        {
         "hovertemplate": "chemical_superclass=Terpenoids-Monoterpenoids<br>recurrence=%{r}<br>genus_family=%{theta}<extra></extra>",
         "legendgroup": "Terpenoids-Monoterpenoids",
         "marker": {
          "color": "#618264",
          "pattern": {
           "shape": ""
          }
         },
         "name": "Terpenoids-Monoterpenoids",
         "r": [
          3,
          2,
          44,
          31,
          42,
          2,
          15,
          8,
          2,
          1,
          21,
          37,
          26,
          2,
          3,
          1,
          3,
          1,
          1,
          40,
          1
         ],
         "showlegend": true,
         "subplot": "polar",
         "theta": [
          "Rubiaceae - Alibertia edulis",
          "Rubiaceae - Posoqueria latifolia",
          "Poaceae - Cymbopogon citratus",
          "Asteraceae - Ageratum conyzoides",
          "Apocynaceae - Plumeria rubra",
          "Fabaceae - Prosopis juliflora",
          "Apocynaceae - Catharanthus roseus",
          "Chloranthaceae - Hedyosmum bonplandianum",
          "Acanthaceae - Avicennia germinans",
          "Fabaceae - Caesalpinia pulcherrima",
          "Bignoniaceae - Crescentia cujete",
          "Rubiaceae - Morinda citrifolia",
          "Rubiaceae - Genipa americana",
          "Acanthaceae - Avicennia bicolor",
          "Bignoniaceae - Handroanthus chrysanthus",
          "Rhizophoraceae - Rhizophora mangle",
          "Myrtaceae - Myrciaria floribunda",
          "Lythraceae - Lawsonia inermis",
          "Piperaceae - Peperomia galioides",
          "Verbenaceae - Lantana camara",
          "Polygonaceae - Persicaria pubescens"
         ],
         "type": "barpolar"
        },
        {
         "hovertemplate": "chemical_superclass=Terpenoids-Sesquiterpenoids<br>recurrence=%{r}<br>genus_family=%{theta}<extra></extra>",
         "legendgroup": "Terpenoids-Sesquiterpenoids",
         "marker": {
          "color": "#819f83",
          "pattern": {
           "shape": ""
          }
         },
         "name": "Terpenoids-Sesquiterpenoids",
         "r": [
          3,
          10,
          9,
          21,
          4,
          40,
          3,
          1,
          5,
          3,
          3,
          14,
          11,
          1,
          8,
          3,
          30,
          5,
          12,
          6,
          2,
          29
         ],
         "showlegend": true,
         "subplot": "polar",
         "theta": [
          "Polygonaceae - Persicaria pubescens",
          "Fabaceae - Caesalpinia pulcherrima",
          "Malvaceae - Talipariti tiliaceum",
          "Asteraceae - Mikania micrantha",
          "Pteridaceae - Acrostichum aureum",
          "Verbenaceae - Lantana camara",
          "Apocynaceae - Plumeria rubra",
          "Burseraceae - Trattinnickia aspera",
          "Asteraceae - Onoseris onoseroides",
          "Lamiaceae - Mesosphaerum suaveolens",
          "Piperaceae - Peperomia galioides",
          "Asteraceae - Telanthophora grandifolia",
          "Chloranthaceae - Hedyosmum bonplandianum",
          "Celastraceae - Maytenus woodsonii",
          "Asteraceae - Ageratina ligustrina",
          "Apocynaceae - Catharanthus roseus",
          "Asteraceae - Ageratum conyzoides",
          "Poaceae - Cymbopogon citratus",
          "Asteraceae - Piptocarpha poeppigiana",
          "Asteraceae - Ageratina ixiocladon",
          "Euphorbiaceae - Jatropha gossypiifolia",
          "Asteraceae - Calea urticifolia"
         ],
         "type": "barpolar"
        },
        {
         "hovertemplate": "chemical_superclass=Terpenoids-Steroids<br>recurrence=%{r}<br>genus_family=%{theta}<extra></extra>",
         "legendgroup": "Terpenoids-Steroids",
         "marker": {
          "color": "#c0d9c2",
          "pattern": {
           "shape": ""
          }
         },
         "name": "Terpenoids-Steroids",
         "r": [
          3,
          3,
          2,
          31,
          25,
          3,
          5,
          1,
          3,
          3,
          1,
          3,
          1,
          10,
          1,
          4,
          2,
          1,
          3,
          8,
          4,
          2,
          3,
          1,
          7,
          1,
          1,
          1
         ],
         "showlegend": true,
         "subplot": "polar",
         "theta": [
          "Pontederiaceae - Eichhornia crassipes",
          "Meliaceae - Trichilia pallida",
          "Fabaceae - Caesalpinia pulcherrima",
          "Asparagaceae - Sansevieria trifasciata",
          "Apocynaceae - Catharanthus roseus",
          "Poaceae - Urochloa decumbens",
          "Smilacaceae - Smilax officinalis",
          "Asteraceae - Verbesina myriocephala",
          "Apocynaceae - Cryptostegia madagascariensis",
          "Asteraceae - Ageratum conyzoides",
          "Moraceae - Ficus benjamina",
          "Asteraceae - Mikania micrantha",
          "Fabaceae - Cassia grandis",
          "Rubiaceae - Morinda citrifolia",
          "Asteraceae - Onoseris onoseroides",
          "Lythraceae - Lawsonia inermis",
          "Sapindaceae - Paullinia pinnata",
          "Rubiaceae - Faramea occidentalis",
          "Polygonaceae - Persicaria pubescens",
          "Verbenaceae - Lantana camara",
          "Picramniaceae - Picramnia latifolia",
          "Euphorbiaceae - Jatropha gossypiifolia",
          "Convolvulaceae - Ipomoea nil",
          "Annonaceae - Xylopia frutescens",
          "Fabaceae - Guilandina bonduc",
          "Apocynaceae - Plumeria rubra",
          "Simaroubaceae - Quassia amara",
          "Fabaceae - Gliricidia sepium"
         ],
         "type": "barpolar"
        },
        {
         "hovertemplate": "chemical_superclass=Terpenoids-Triterpenoids<br>recurrence=%{r}<br>genus_family=%{theta}<extra></extra>",
         "legendgroup": "Terpenoids-Triterpenoids",
         "marker": {
          "color": "#a0bca3",
          "pattern": {
           "shape": ""
          }
         },
         "name": "Terpenoids-Triterpenoids",
         "r": [
          1,
          12,
          2,
          9,
          18,
          1,
          20,
          4,
          1,
          3,
          1,
          16,
          2,
          1,
          5,
          11,
          4,
          2,
          5,
          1,
          8,
          10,
          69,
          3,
          3,
          1,
          2,
          2,
          11,
          2
         ],
         "showlegend": true,
         "subplot": "polar",
         "theta": [
          "Moraceae - Maclura tinctoria",
          "Rubiaceae - Morinda citrifolia",
          "Burseraceae - Trattinnickia aspera",
          "Meliaceae - Trichilia pallida",
          "Simaroubaceae - Quassia amara",
          "Calophyllaceae - Marila laxiflora",
          "Celastraceae - Maytenus woodsonii",
          "Lamiaceae - Mesosphaerum suaveolens",
          "Rhizophoraceae - Rhizophora mangle",
          "Asteraceae - Mikania micrantha",
          "Asteraceae - Ageratum conyzoides",
          "Rubiaceae - Alibertia edulis",
          "Asteraceae - Ageratina ligustrina",
          "Asteraceae - Onoseris onoseroides",
          "Fabaceae - Guilandina bonduc",
          "Lythraceae - Lawsonia inermis",
          "Apocynaceae - Catharanthus roseus",
          "Moraceae - Ficus benjamina",
          "Euphorbiaceae - Cnidoscolus urens",
          "Fabaceae - Cojoba arborea",
          "Fabaceae - Gliricidia sepium",
          "Apocynaceae - Plumeria rubra",
          "Verbenaceae - Lantana camara",
          "Poaceae - Saccharum officinarum",
          "Phytolaccaceae - Phytolacca rivinoides",
          "Euphorbiaceae - Jatropha gossypiifolia",
          "Fabaceae - Caesalpinia pulcherrima",
          "Convolvulaceae - Ipomoea nil",
          "Malvaceae - Talipariti tiliaceum",
          "Sapindaceae - Paullinia pinnata"
         ],
         "type": "barpolar"
        }
       ],
       "layout": {
        "barmode": "relative",
        "height": 1500,
        "legend": {
         "title": {
          "text": "chemical_superclass"
         },
         "tracegroupgap": 0
        },
        "polar": {
         "angularaxis": {
          "direction": "clockwise",
          "rotation": 90
         },
         "domain": {
          "x": [
           0,
           1
          ],
          "y": [
           0,
           1
          ]
         },
         "radialaxis": {
          "showticklabels": true,
          "tickmode": "array",
          "ticktext": [
           "0",
           "185"
          ],
          "tickvals": [
           0,
           185
          ],
          "visible": true
         }
        },
        "template": {
         "data": {
          "bar": [
           {
            "error_x": {
             "color": "#2a3f5f"
            },
            "error_y": {
             "color": "#2a3f5f"
            },
            "marker": {
             "line": {
              "color": "#E5ECF6",
              "width": 0.5
             },
             "pattern": {
              "fillmode": "overlay",
              "size": 10,
              "solidity": 0.2
             }
            },
            "type": "bar"
           }
          ],
          "barpolar": [
           {
            "marker": {
             "line": {
              "color": "#E5ECF6",
              "width": 0.5
             },
             "pattern": {
              "fillmode": "overlay",
              "size": 10,
              "solidity": 0.2
             }
            },
            "type": "barpolar"
           }
          ],
          "carpet": [
           {
            "aaxis": {
             "endlinecolor": "#2a3f5f",
             "gridcolor": "white",
             "linecolor": "white",
             "minorgridcolor": "white",
             "startlinecolor": "#2a3f5f"
            },
            "baxis": {
             "endlinecolor": "#2a3f5f",
             "gridcolor": "white",
             "linecolor": "white",
             "minorgridcolor": "white",
             "startlinecolor": "#2a3f5f"
            },
            "type": "carpet"
           }
          ],
          "choropleth": [
           {
            "colorbar": {
             "outlinewidth": 0,
             "ticks": ""
            },
            "type": "choropleth"
           }
          ],
          "contour": [
           {
            "colorbar": {
             "outlinewidth": 0,
             "ticks": ""
            },
            "colorscale": [
             [
              0,
              "#0d0887"
             ],
             [
              0.1111111111111111,
              "#46039f"
             ],
             [
              0.2222222222222222,
              "#7201a8"
             ],
             [
              0.3333333333333333,
              "#9c179e"
             ],
             [
              0.4444444444444444,
              "#bd3786"
             ],
             [
              0.5555555555555556,
              "#d8576b"
             ],
             [
              0.6666666666666666,
              "#ed7953"
             ],
             [
              0.7777777777777778,
              "#fb9f3a"
             ],
             [
              0.8888888888888888,
              "#fdca26"
             ],
             [
              1,
              "#f0f921"
             ]
            ],
            "type": "contour"
           }
          ],
          "contourcarpet": [
           {
            "colorbar": {
             "outlinewidth": 0,
             "ticks": ""
            },
            "type": "contourcarpet"
           }
          ],
          "heatmap": [
           {
            "colorbar": {
             "outlinewidth": 0,
             "ticks": ""
            },
            "colorscale": [
             [
              0,
              "#0d0887"
             ],
             [
              0.1111111111111111,
              "#46039f"
             ],
             [
              0.2222222222222222,
              "#7201a8"
             ],
             [
              0.3333333333333333,
              "#9c179e"
             ],
             [
              0.4444444444444444,
              "#bd3786"
             ],
             [
              0.5555555555555556,
              "#d8576b"
             ],
             [
              0.6666666666666666,
              "#ed7953"
             ],
             [
              0.7777777777777778,
              "#fb9f3a"
             ],
             [
              0.8888888888888888,
              "#fdca26"
             ],
             [
              1,
              "#f0f921"
             ]
            ],
            "type": "heatmap"
           }
          ],
          "heatmapgl": [
           {
            "colorbar": {
             "outlinewidth": 0,
             "ticks": ""
            },
            "colorscale": [
             [
              0,
              "#0d0887"
             ],
             [
              0.1111111111111111,
              "#46039f"
             ],
             [
              0.2222222222222222,
              "#7201a8"
             ],
             [
              0.3333333333333333,
              "#9c179e"
             ],
             [
              0.4444444444444444,
              "#bd3786"
             ],
             [
              0.5555555555555556,
              "#d8576b"
             ],
             [
              0.6666666666666666,
              "#ed7953"
             ],
             [
              0.7777777777777778,
              "#fb9f3a"
             ],
             [
              0.8888888888888888,
              "#fdca26"
             ],
             [
              1,
              "#f0f921"
             ]
            ],
            "type": "heatmapgl"
           }
          ],
          "histogram": [
           {
            "marker": {
             "pattern": {
              "fillmode": "overlay",
              "size": 10,
              "solidity": 0.2
             }
            },
            "type": "histogram"
           }
          ],
          "histogram2d": [
           {
            "colorbar": {
             "outlinewidth": 0,
             "ticks": ""
            },
            "colorscale": [
             [
              0,
              "#0d0887"
             ],
             [
              0.1111111111111111,
              "#46039f"
             ],
             [
              0.2222222222222222,
              "#7201a8"
             ],
             [
              0.3333333333333333,
              "#9c179e"
             ],
             [
              0.4444444444444444,
              "#bd3786"
             ],
             [
              0.5555555555555556,
              "#d8576b"
             ],
             [
              0.6666666666666666,
              "#ed7953"
             ],
             [
              0.7777777777777778,
              "#fb9f3a"
             ],
             [
              0.8888888888888888,
              "#fdca26"
             ],
             [
              1,
              "#f0f921"
             ]
            ],
            "type": "histogram2d"
           }
          ],
          "histogram2dcontour": [
           {
            "colorbar": {
             "outlinewidth": 0,
             "ticks": ""
            },
            "colorscale": [
             [
              0,
              "#0d0887"
             ],
             [
              0.1111111111111111,
              "#46039f"
             ],
             [
              0.2222222222222222,
              "#7201a8"
             ],
             [
              0.3333333333333333,
              "#9c179e"
             ],
             [
              0.4444444444444444,
              "#bd3786"
             ],
             [
              0.5555555555555556,
              "#d8576b"
             ],
             [
              0.6666666666666666,
              "#ed7953"
             ],
             [
              0.7777777777777778,
              "#fb9f3a"
             ],
             [
              0.8888888888888888,
              "#fdca26"
             ],
             [
              1,
              "#f0f921"
             ]
            ],
            "type": "histogram2dcontour"
           }
          ],
          "mesh3d": [
           {
            "colorbar": {
             "outlinewidth": 0,
             "ticks": ""
            },
            "type": "mesh3d"
           }
          ],
          "parcoords": [
           {
            "line": {
             "colorbar": {
              "outlinewidth": 0,
              "ticks": ""
             }
            },
            "type": "parcoords"
           }
          ],
          "pie": [
           {
            "automargin": true,
            "type": "pie"
           }
          ],
          "scatter": [
           {
            "fillpattern": {
             "fillmode": "overlay",
             "size": 10,
             "solidity": 0.2
            },
            "type": "scatter"
           }
          ],
          "scatter3d": [
           {
            "line": {
             "colorbar": {
              "outlinewidth": 0,
              "ticks": ""
             }
            },
            "marker": {
             "colorbar": {
              "outlinewidth": 0,
              "ticks": ""
             }
            },
            "type": "scatter3d"
           }
          ],
          "scattercarpet": [
           {
            "marker": {
             "colorbar": {
              "outlinewidth": 0,
              "ticks": ""
             }
            },
            "type": "scattercarpet"
           }
          ],
          "scattergeo": [
           {
            "marker": {
             "colorbar": {
              "outlinewidth": 0,
              "ticks": ""
             }
            },
            "type": "scattergeo"
           }
          ],
          "scattergl": [
           {
            "marker": {
             "colorbar": {
              "outlinewidth": 0,
              "ticks": ""
             }
            },
            "type": "scattergl"
           }
          ],
          "scattermapbox": [
           {
            "marker": {
             "colorbar": {
              "outlinewidth": 0,
              "ticks": ""
             }
            },
            "type": "scattermapbox"
           }
          ],
          "scatterpolar": [
           {
            "marker": {
             "colorbar": {
              "outlinewidth": 0,
              "ticks": ""
             }
            },
            "type": "scatterpolar"
           }
          ],
          "scatterpolargl": [
           {
            "marker": {
             "colorbar": {
              "outlinewidth": 0,
              "ticks": ""
             }
            },
            "type": "scatterpolargl"
           }
          ],
          "scatterternary": [
           {
            "marker": {
             "colorbar": {
              "outlinewidth": 0,
              "ticks": ""
             }
            },
            "type": "scatterternary"
           }
          ],
          "surface": [
           {
            "colorbar": {
             "outlinewidth": 0,
             "ticks": ""
            },
            "colorscale": [
             [
              0,
              "#0d0887"
             ],
             [
              0.1111111111111111,
              "#46039f"
             ],
             [
              0.2222222222222222,
              "#7201a8"
             ],
             [
              0.3333333333333333,
              "#9c179e"
             ],
             [
              0.4444444444444444,
              "#bd3786"
             ],
             [
              0.5555555555555556,
              "#d8576b"
             ],
             [
              0.6666666666666666,
              "#ed7953"
             ],
             [
              0.7777777777777778,
              "#fb9f3a"
             ],
             [
              0.8888888888888888,
              "#fdca26"
             ],
             [
              1,
              "#f0f921"
             ]
            ],
            "type": "surface"
           }
          ],
          "table": [
           {
            "cells": {
             "fill": {
              "color": "#EBF0F8"
             },
             "line": {
              "color": "white"
             }
            },
            "header": {
             "fill": {
              "color": "#C8D4E3"
             },
             "line": {
              "color": "white"
             }
            },
            "type": "table"
           }
          ]
         },
         "layout": {
          "annotationdefaults": {
           "arrowcolor": "#2a3f5f",
           "arrowhead": 0,
           "arrowwidth": 1
          },
          "autotypenumbers": "strict",
          "coloraxis": {
           "colorbar": {
            "outlinewidth": 0,
            "ticks": ""
           }
          },
          "colorscale": {
           "diverging": [
            [
             0,
             "#8e0152"
            ],
            [
             0.1,
             "#c51b7d"
            ],
            [
             0.2,
             "#de77ae"
            ],
            [
             0.3,
             "#f1b6da"
            ],
            [
             0.4,
             "#fde0ef"
            ],
            [
             0.5,
             "#f7f7f7"
            ],
            [
             0.6,
             "#e6f5d0"
            ],
            [
             0.7,
             "#b8e186"
            ],
            [
             0.8,
             "#7fbc41"
            ],
            [
             0.9,
             "#4d9221"
            ],
            [
             1,
             "#276419"
            ]
           ],
           "sequential": [
            [
             0,
             "#0d0887"
            ],
            [
             0.1111111111111111,
             "#46039f"
            ],
            [
             0.2222222222222222,
             "#7201a8"
            ],
            [
             0.3333333333333333,
             "#9c179e"
            ],
            [
             0.4444444444444444,
             "#bd3786"
            ],
            [
             0.5555555555555556,
             "#d8576b"
            ],
            [
             0.6666666666666666,
             "#ed7953"
            ],
            [
             0.7777777777777778,
             "#fb9f3a"
            ],
            [
             0.8888888888888888,
             "#fdca26"
            ],
            [
             1,
             "#f0f921"
            ]
           ],
           "sequentialminus": [
            [
             0,
             "#0d0887"
            ],
            [
             0.1111111111111111,
             "#46039f"
            ],
            [
             0.2222222222222222,
             "#7201a8"
            ],
            [
             0.3333333333333333,
             "#9c179e"
            ],
            [
             0.4444444444444444,
             "#bd3786"
            ],
            [
             0.5555555555555556,
             "#d8576b"
            ],
            [
             0.6666666666666666,
             "#ed7953"
            ],
            [
             0.7777777777777778,
             "#fb9f3a"
            ],
            [
             0.8888888888888888,
             "#fdca26"
            ],
            [
             1,
             "#f0f921"
            ]
           ]
          },
          "colorway": [
           "#636efa",
           "#EF553B",
           "#00cc96",
           "#ab63fa",
           "#FFA15A",
           "#19d3f3",
           "#FF6692",
           "#B6E880",
           "#FF97FF",
           "#FECB52"
          ],
          "font": {
           "color": "#2a3f5f"
          },
          "geo": {
           "bgcolor": "white",
           "lakecolor": "white",
           "landcolor": "#E5ECF6",
           "showlakes": true,
           "showland": true,
           "subunitcolor": "white"
          },
          "hoverlabel": {
           "align": "left"
          },
          "hovermode": "closest",
          "mapbox": {
           "style": "light"
          },
          "paper_bgcolor": "white",
          "plot_bgcolor": "#E5ECF6",
          "polar": {
           "angularaxis": {
            "gridcolor": "white",
            "linecolor": "white",
            "ticks": ""
           },
           "bgcolor": "#E5ECF6",
           "radialaxis": {
            "gridcolor": "white",
            "linecolor": "white",
            "ticks": ""
           }
          },
          "scene": {
           "xaxis": {
            "backgroundcolor": "#E5ECF6",
            "gridcolor": "white",
            "gridwidth": 2,
            "linecolor": "white",
            "showbackground": true,
            "ticks": "",
            "zerolinecolor": "white"
           },
           "yaxis": {
            "backgroundcolor": "#E5ECF6",
            "gridcolor": "white",
            "gridwidth": 2,
            "linecolor": "white",
            "showbackground": true,
            "ticks": "",
            "zerolinecolor": "white"
           },
           "zaxis": {
            "backgroundcolor": "#E5ECF6",
            "gridcolor": "white",
            "gridwidth": 2,
            "linecolor": "white",
            "showbackground": true,
            "ticks": "",
            "zerolinecolor": "white"
           }
          },
          "shapedefaults": {
           "line": {
            "color": "#2a3f5f"
           }
          },
          "ternary": {
           "aaxis": {
            "gridcolor": "white",
            "linecolor": "white",
            "ticks": ""
           },
           "baxis": {
            "gridcolor": "white",
            "linecolor": "white",
            "ticks": ""
           },
           "bgcolor": "#E5ECF6",
           "caxis": {
            "gridcolor": "white",
            "linecolor": "white",
            "ticks": ""
           }
          },
          "title": {
           "x": 0.05
          },
          "xaxis": {
           "automargin": true,
           "gridcolor": "white",
           "linecolor": "white",
           "ticks": "",
           "title": {
            "standoff": 15
           },
           "zerolinecolor": "white",
           "zerolinewidth": 2
          },
          "yaxis": {
           "automargin": true,
           "gridcolor": "white",
           "linecolor": "white",
           "ticks": "",
           "title": {
            "standoff": 15
           },
           "zerolinecolor": "white",
           "zerolinewidth": 2
          }
         }
        },
        "title": {
         "text": "Circular Bar Plot of Predicted Superclasses Occurrence for Species"
        },
        "width": 1500
       }
      }
     },
     "metadata": {},
     "output_type": "display_data"
    }
   ],
   "source": [
    "\n",
    "# Step 1: Initialize an empty DataFrame to store all data\n",
    "all_data = pd.DataFrame(columns=['organism_taxonomy_09species', 'organism_taxonomy_08genus','organism_taxonomy_06family', 'chemical_superclass'])\n",
    "\n",
    "# Step 2: Read data from all .tsv files in the output_folder\n",
    "species_data_folder = os.path.join(output_folder, 'species_data')\n",
    "for filename in os.listdir(species_data_folder):\n",
    "    if filename.endswith(\".tsv\"):\n",
    "        file_data = pd.read_csv(os.path.join(species_data_folder, filename), sep='\\t')\n",
    "        all_data = pd.concat([all_data, file_data])\n",
    "\n",
    "# Step 3: Rename the \"queried_taxaLabel\" column to \"species\"\n",
    "all_data.rename(columns={'organism_taxonomy_09species': 'species', 'organism_taxonomy_08genus': 'genus','organism_taxonomy_06family': 'family',}, inplace=True)\n",
    "\n",
    "# Apply the function to each row\n",
    "all_data[['Pathway', 'superclass']] = all_data.apply(lambda row: split_chemical_superclass(row), axis=1, result_type='expand')\n",
    "\n",
    "# Step 4: Process data for color mapping\n",
    "color_map = {}\n",
    "for pathway, superclasses in all_data.groupby('Pathway')['superclass'].unique().items():\n",
    "    shades = generate_shades(pathway, len(superclasses))\n",
    "    for superclass, shade in zip(superclasses, shades):\n",
    "        color_map[f\"{pathway}-{superclass}\"] = shade\n",
    "\n",
    "# Step 5: Group and aggregate data to calculate recurrence\n",
    "agg_data = all_data.groupby(['species', 'genus', 'family', 'chemical_superclass']).size().reset_index(name='recurrence')\n",
    "\n",
    "#unique_species = agg_data['species'].unique()\n",
    "\n",
    "\n",
    "# Concatenate genus and family for the y-axis labels\n",
    "#agg_data['genus_family'] = agg_data['family'] + ' > ' + agg_data['genus'] + ' > ' + agg_data['species']\n",
    "agg_data['genus_family'] = agg_data['family'] + ' - ' + agg_data['species']\n",
    "\n",
    "# Sort the agg_data DataFrame by 'species' and 'chemical_superclass'\n",
    "agg_data_sorted = agg_data.sort_values(by=['chemical_superclass'])\n",
    "# Create the circular bar plot\n",
    "fig = px.bar_polar(agg_data_sorted, r='recurrence', theta='genus_family',\n",
    "                   color='chemical_superclass', template='plotly',\n",
    "                   title='Circular Bar Plot of Predicted Superclasses Occurrence for Species',\n",
    "                   color_discrete_map=color_map)\n",
    "\n",
    "# Update the layout\n",
    "fig.update_layout(\n",
    "    polar=dict(\n",
    "        radialaxis=dict(\n",
    "            visible=True,\n",
    "            showticklabels=True,\n",
    "            tickmode='array',\n",
    "            tickvals=[0, max(agg_data_sorted['recurrence'])],\n",
    "            ticktext=['0', str(max(agg_data_sorted['recurrence']))]\n",
    "        )\n",
    "    )\n",
    ")\n",
    "\n",
    "# Modify the size of the figure\n",
    "fig.update_layout(width=1500, height=1500)\n",
    "\n",
    "# Show the figure\n",
    "fig.show()\n"
   ]
  },
  {
   "cell_type": "markdown",
   "metadata": {},
   "source": []
  },
  {
   "cell_type": "code",
   "execution_count": 49,
   "metadata": {},
   "outputs": [
    {
     "name": "stderr",
     "output_type": "stream",
     "text": [
      "C:\\Users\\quirosgu\\AppData\\Local\\Temp\\ipykernel_11824\\3397825090.py:4: FutureWarning:\n",
      "\n",
      "The behavior of DataFrame concatenation with empty or all-NA entries is deprecated. In a future version, this will no longer exclude empty or all-NA columns when determining the result dtypes. To retain the old behavior, exclude the relevant entries before the concat operation.\n",
      "\n",
      "C:\\Users\\quirosgu\\AppData\\Local\\Temp\\ipykernel_11824\\3397825090.py:39: FutureWarning:\n",
      "\n",
      "The default of observed=False is deprecated and will be changed to True in a future version of pandas. Pass observed=False to retain current behavior or observed=True to adopt the future default and silence this warning.\n",
      "\n"
     ]
    },
    {
     "data": {
      "application/vnd.plotly.v1+json": {
       "config": {
        "plotlyServerURL": "https://plot.ly"
       },
       "data": [
        {
         "alignmentgroup": "True",
         "hovertemplate": "chemical_superclass=Alkaloids-Anthranilic acid alkaloids<br>Recurrence=%{x}<br>species=%{y}<extra></extra>",
         "legendgroup": "Alkaloids-Anthranilic acid alkaloids",
         "marker": {
          "color": "#468eaa",
          "pattern": {
           "shape": ""
          }
         },
         "name": "Alkaloids-Anthranilic acid alkaloids",
         "offsetgroup": "Alkaloids-Anthranilic acid alkaloids",
         "orientation": "h",
         "showlegend": true,
         "textposition": "auto",
         "type": "bar",
         "x": [
          4.761904761904762
         ],
         "xaxis": "x",
         "y": [
          "Mimosa pudica"
         ],
         "yaxis": "y"
        },
        {
         "alignmentgroup": "True",
         "hovertemplate": "chemical_superclass=Alkaloids-Lysine alkaloids<br>Recurrence=%{x}<br>species=%{y}<extra></extra>",
         "legendgroup": "Alkaloids-Lysine alkaloids",
         "marker": {
          "color": "#305f72",
          "pattern": {
           "shape": ""
          }
         },
         "name": "Alkaloids-Lysine alkaloids",
         "offsetgroup": "Alkaloids-Lysine alkaloids",
         "orientation": "h",
         "showlegend": true,
         "textposition": "auto",
         "type": "bar",
         "x": [
          3.7037037037037033,
          36.84210526315789,
          40,
          50,
          0.9090909090909091,
          26.08695652173913
         ],
         "xaxis": "x",
         "y": [
          "Ageratina ligustrina",
          "Erythrina berteroana",
          "Piper reticulatum",
          "Piper tuberculatum",
          "Plumeria rubra",
          "Prosopis juliflora"
         ],
         "yaxis": "y"
        },
        {
         "alignmentgroup": "True",
         "hovertemplate": "chemical_superclass=Alkaloids-Nicotinic acid alkaloids<br>Recurrence=%{x}<br>species=%{y}<extra></extra>",
         "legendgroup": "Alkaloids-Nicotinic acid alkaloids",
         "marker": {
          "color": "#40829c",
          "pattern": {
           "shape": ""
          }
         },
         "name": "Alkaloids-Nicotinic acid alkaloids",
         "offsetgroup": "Alkaloids-Nicotinic acid alkaloids",
         "orientation": "h",
         "showlegend": true,
         "textposition": "auto",
         "type": "bar",
         "x": [
          4.761904761904762
         ],
         "xaxis": "x",
         "y": [
          "Mimosa pudica"
         ],
         "yaxis": "y"
        },
        {
         "alignmentgroup": "True",
         "hovertemplate": "chemical_superclass=Alkaloids-Ornithine alkaloids<br>Recurrence=%{x}<br>species=%{y}<extra></extra>",
         "legendgroup": "Alkaloids-Ornithine alkaloids",
         "marker": {
          "color": "#56b0d4",
          "pattern": {
           "shape": ""
          }
         },
         "name": "Alkaloids-Ornithine alkaloids",
         "offsetgroup": "Alkaloids-Ornithine alkaloids",
         "orientation": "h",
         "showlegend": true,
         "textposition": "auto",
         "type": "bar",
         "x": [
          11.11111111111111,
          1.7094017094017095,
          100,
          4.545454545454546,
          0.31545741324921134,
          8.695652173913043,
          100,
          1.694915254237288,
          33.33333333333333,
          17.647058823529413
         ],
         "xaxis": "x",
         "y": [
          "Ageratina ligustrina",
          "Ageratum conyzoides",
          "Albizia adinocephala",
          "Alibertia edulis",
          "Catharanthus roseus",
          "Eichhornia crassipes",
          "Erythroxylum fimbriatum",
          "Ipomoea nil",
          "Samanea saman",
          "Telanthophora grandifolia"
         ],
         "yaxis": "y"
        },
        {
         "alignmentgroup": "True",
         "hovertemplate": "chemical_superclass=Alkaloids-Peptide alkaloids<br>Recurrence=%{x}<br>species=%{y}<extra></extra>",
         "legendgroup": "Alkaloids-Peptide alkaloids",
         "marker": {
          "color": "#5cbce2",
          "pattern": {
           "shape": ""
          }
         },
         "name": "Alkaloids-Peptide alkaloids",
         "offsetgroup": "Alkaloids-Peptide alkaloids",
         "orientation": "h",
         "showlegend": true,
         "textposition": "auto",
         "type": "bar",
         "x": [
          0.9433962264150944,
          15.517241379310345
         ],
         "xaxis": "x",
         "y": [
          "Cymbopogon citratus",
          "Talipariti tiliaceum"
         ],
         "yaxis": "y"
        },
        {
         "alignmentgroup": "True",
         "hovertemplate": "chemical_superclass=Alkaloids-Pseudoalkaloids<br>Recurrence=%{x}<br>species=%{y}<extra></extra>",
         "legendgroup": "Alkaloids-Pseudoalkaloids",
         "marker": {
          "color": "#51a5c6",
          "pattern": {
           "shape": ""
          }
         },
         "name": "Alkaloids-Pseudoalkaloids",
         "offsetgroup": "Alkaloids-Pseudoalkaloids",
         "orientation": "h",
         "showlegend": true,
         "textposition": "auto",
         "type": "bar",
         "x": [
          1.8927444794952681,
          2.1739130434782608,
          100
         ],
         "xaxis": "x",
         "y": [
          "Catharanthus roseus",
          "Eichhornia crassipes",
          "Herrania purpurea"
         ],
         "yaxis": "y"
        },
        {
         "alignmentgroup": "True",
         "hovertemplate": "chemical_superclass=Alkaloids-Tetramate alkaloids<br>Recurrence=%{x}<br>species=%{y}<extra></extra>",
         "legendgroup": "Alkaloids-Tetramate alkaloids",
         "marker": {
          "color": "#3b768e",
          "pattern": {
           "shape": ""
          }
         },
         "name": "Alkaloids-Tetramate alkaloids",
         "offsetgroup": "Alkaloids-Tetramate alkaloids",
         "orientation": "h",
         "showlegend": true,
         "textposition": "auto",
         "type": "bar",
         "x": [
          1.9607843137254901,
          0.9433962264150944
         ],
         "xaxis": "x",
         "y": [
          "Caesalpinia pulcherrima",
          "Cymbopogon citratus"
         ],
         "yaxis": "y"
        },
        {
         "alignmentgroup": "True",
         "hovertemplate": "chemical_superclass=Alkaloids-Tryptophan alkaloids<br>Recurrence=%{x}<br>species=%{y}<extra></extra>",
         "legendgroup": "Alkaloids-Tryptophan alkaloids",
         "marker": {
          "color": "#366b80",
          "pattern": {
           "shape": ""
          }
         },
         "name": "Alkaloids-Tryptophan alkaloids",
         "offsetgroup": "Alkaloids-Tryptophan alkaloids",
         "orientation": "h",
         "showlegend": true,
         "textposition": "auto",
         "type": "bar",
         "x": [
          58.359621451104104,
          2.1739130434782608,
          42.10526315789473,
          1.694915254237288,
          1.015228426395939,
          9.090909090909092,
          100
         ],
         "xaxis": "x",
         "y": [
          "Catharanthus roseus",
          "Eichhornia crassipes",
          "Erythrina berteroana",
          "Ipomoea nil",
          "Morinda citrifolia",
          "Quassia amara",
          "Rauvolfia littoralis"
         ],
         "yaxis": "y"
        },
        {
         "alignmentgroup": "True",
         "hovertemplate": "chemical_superclass=Alkaloids-Tyrosine alkaloids<br>Recurrence=%{x}<br>species=%{y}<extra></extra>",
         "legendgroup": "Alkaloids-Tyrosine alkaloids",
         "marker": {
          "color": "#4c99b8",
          "pattern": {
           "shape": ""
          }
         },
         "name": "Alkaloids-Tyrosine alkaloids",
         "offsetgroup": "Alkaloids-Tyrosine alkaloids",
         "orientation": "h",
         "showlegend": true,
         "textposition": "auto",
         "type": "bar",
         "x": [
          2.8301886792452833,
          4.3478260869565215,
          4.545454545454546,
          5.555555555555555,
          100
         ],
         "xaxis": "x",
         "y": [
          "Cymbopogon citratus",
          "Eichhornia crassipes",
          "Nasturtium officinale",
          "Piper tuberculatum",
          "Siparuna grandiflora"
         ],
         "yaxis": "y"
        },
        {
         "alignmentgroup": "True",
         "hovertemplate": "chemical_superclass=Amino acids and Peptides-Amino acid glycosides<br>Recurrence=%{x}<br>species=%{y}<extra></extra>",
         "legendgroup": "Amino acids and Peptides-Amino acid glycosides",
         "marker": {
          "color": "#f6eb8c",
          "pattern": {
           "shape": ""
          }
         },
         "name": "Amino acids and Peptides-Amino acid glycosides",
         "offsetgroup": "Amino acids and Peptides-Amino acid glycosides",
         "orientation": "h",
         "showlegend": true,
         "textposition": "auto",
         "type": "bar",
         "x": [
          100
         ],
         "xaxis": "x",
         "y": [
          "Vasconcellea cauliflora"
         ],
         "yaxis": "y"
        },
        {
         "alignmentgroup": "True",
         "hovertemplate": "chemical_superclass=Amino acids and Peptides-Oligopeptides<br>Recurrence=%{x}<br>species=%{y}<extra></extra>",
         "legendgroup": "Amino acids and Peptides-Oligopeptides",
         "marker": {
          "color": "#faf2d3",
          "pattern": {
           "shape": ""
          }
         },
         "name": "Amino acids and Peptides-Oligopeptides",
         "offsetgroup": "Amino acids and Peptides-Oligopeptides",
         "orientation": "h",
         "showlegend": true,
         "textposition": "auto",
         "type": "bar",
         "x": [
          2.272727272727273
         ],
         "xaxis": "x",
         "y": [
          "Jatropha gossypiifolia"
         ],
         "yaxis": "y"
        },
        {
         "alignmentgroup": "True",
         "hovertemplate": "chemical_superclass=Amino acids and Peptides-Phenylpropanoids (C6-C3)<br>Recurrence=%{x}<br>species=%{y}<extra></extra>",
         "legendgroup": "Amino acids and Peptides-Phenylpropanoids (C6-C3)",
         "marker": {
          "color": "#636efa",
          "pattern": {
           "shape": ""
          }
         },
         "name": "Amino acids and Peptides-Phenylpropanoids (C6-C3)",
         "offsetgroup": "Amino acids and Peptides-Phenylpropanoids (C6-C3)",
         "orientation": "h",
         "showlegend": true,
         "textposition": "auto",
         "type": "bar",
         "x": [
          33.33333333333333,
          2.5423728813559325,
          11.11111111111111,
          8.620689655172415
         ],
         "xaxis": "x",
         "y": [
          "Camonea umbellata",
          "Ipomoea nil",
          "Piper tuberculatum",
          "Talipariti tiliaceum"
         ],
         "yaxis": "y"
        },
        {
         "alignmentgroup": "True",
         "hovertemplate": "chemical_superclass=Amino acids and Peptides-Small peptides<br>Recurrence=%{x}<br>species=%{y}<extra></extra>",
         "legendgroup": "Amino acids and Peptides-Small peptides",
         "marker": {
          "color": "#f4e869",
          "pattern": {
           "shape": ""
          }
         },
         "name": "Amino acids and Peptides-Small peptides",
         "offsetgroup": "Amino acids and Peptides-Small peptides",
         "orientation": "h",
         "showlegend": true,
         "textposition": "auto",
         "type": "bar",
         "x": [
          0.8547008547008548,
          16.666666666666664,
          4.100946372239748,
          11.11111111111111,
          45.65217391304348,
          1.8518518518518516,
          1,
          100,
          27.27272727272727,
          1.834862385321101,
          9.523809523809524,
          9.090909090909092,
          0.9090909090909091,
          4.3478260869565215
         ],
         "xaxis": "x",
         "y": [
          "Ageratum conyzoides",
          "Canavalia rosea",
          "Catharanthus roseus",
          "Delonix regia",
          "Eichhornia crassipes",
          "Gliricidia sepium",
          "Guilandina bonduc",
          "Indigofera hirsuta",
          "Jatropha gossypiifolia",
          "Lantana camara",
          "Mimosa pudica",
          "Nasturtium officinale",
          "Plumeria rubra",
          "Prosopis juliflora"
         ],
         "yaxis": "y"
        },
        {
         "alignmentgroup": "True",
         "hovertemplate": "chemical_superclass=Carbohydrates-Aminosugars and aminoglycosides<br>Recurrence=%{x}<br>species=%{y}<extra></extra>",
         "legendgroup": "Carbohydrates-Aminosugars and aminoglycosides",
         "marker": {
          "color": "#86683e",
          "pattern": {
           "shape": ""
          }
         },
         "name": "Carbohydrates-Aminosugars and aminoglycosides",
         "offsetgroup": "Carbohydrates-Aminosugars and aminoglycosides",
         "orientation": "h",
         "showlegend": true,
         "textposition": "auto",
         "type": "bar",
         "x": [
          12.5,
          100
         ],
         "xaxis": "x",
         "y": [
          "Lonchocarpus heptaphyllus",
          "Omphalea diandra"
         ],
         "yaxis": "y"
        },
        {
         "alignmentgroup": "True",
         "hovertemplate": "chemical_superclass=Carbohydrates-Nucleosides<br>Recurrence=%{x}<br>species=%{y}<extra></extra>",
         "legendgroup": "Carbohydrates-Nucleosides",
         "marker": {
          "color": "#a78b5e",
          "pattern": {
           "shape": ""
          }
         },
         "name": "Carbohydrates-Nucleosides",
         "offsetgroup": "Carbohydrates-Nucleosides",
         "orientation": "h",
         "showlegend": true,
         "textposition": "auto",
         "type": "bar",
         "x": [
          0.31545741324921134,
          1.015228426395939
         ],
         "xaxis": "x",
         "y": [
          "Catharanthus roseus",
          "Morinda citrifolia"
         ],
         "yaxis": "y"
        },
        {
         "alignmentgroup": "True",
         "hovertemplate": "chemical_superclass=Carbohydrates-Polyols<br>Recurrence=%{x}<br>species=%{y}<extra></extra>",
         "legendgroup": "Carbohydrates-Polyols",
         "marker": {
          "color": "#c8ae7d",
          "pattern": {
           "shape": ""
          }
         },
         "name": "Carbohydrates-Polyols",
         "offsetgroup": "Carbohydrates-Polyols",
         "orientation": "h",
         "showlegend": true,
         "textposition": "auto",
         "type": "bar",
         "x": [
          1.8518518518518516
         ],
         "xaxis": "x",
         "y": [
          "Gliricidia sepium"
         ],
         "yaxis": "y"
        },
        {
         "alignmentgroup": "True",
         "hovertemplate": "chemical_superclass=Carbohydrates-Saccharides<br>Recurrence=%{x}<br>species=%{y}<extra></extra>",
         "legendgroup": "Carbohydrates-Saccharides",
         "marker": {
          "color": "#65451f",
          "pattern": {
           "shape": ""
          }
         },
         "name": "Carbohydrates-Saccharides",
         "offsetgroup": "Carbohydrates-Saccharides",
         "orientation": "h",
         "showlegend": true,
         "textposition": "auto",
         "type": "bar",
         "x": [
          100,
          3.1545741324921135,
          3.7037037037037033,
          6.8181818181818175,
          2.7522935779816518,
          2.5380710659898478,
          4.545454545454546,
          40.909090909090914,
          71.42857142857143
         ],
         "xaxis": "x",
         "y": [
          "Acrocomia aculeata",
          "Catharanthus roseus",
          "Genipa americana",
          "Jatropha gossypiifolia",
          "Lantana camara",
          "Morinda citrifolia",
          "Quassia amara",
          "Saccharum officinarum",
          "Sapium laurifolium"
         ],
         "yaxis": "y"
        },
        {
         "alignmentgroup": "True",
         "hovertemplate": "chemical_superclass=Fatty acids-Fatty Acids and Conjugates<br>Recurrence=%{x}<br>species=%{y}<extra></extra>",
         "legendgroup": "Fatty acids-Fatty Acids and Conjugates",
         "marker": {
          "color": "#ff771b",
          "pattern": {
           "shape": ""
          }
         },
         "name": "Fatty acids-Fatty Acids and Conjugates",
         "offsetgroup": "Fatty acids-Fatty Acids and Conjugates",
         "orientation": "h",
         "showlegend": true,
         "textposition": "auto",
         "type": "bar",
         "x": [
          3.7037037037037033,
          2.564102564102564,
          0.9803921568627451,
          3.1545741324921135,
          88.88888888888889,
          4.23728813559322,
          11.363636363636363,
          5.045871559633028,
          3.3333333333333335,
          1.015228426395939,
          6.363636363636363,
          6.8181818181818175,
          33.33333333333333
         ],
         "xaxis": "x",
         "y": [
          "Ageratina ligustrina",
          "Ageratum conyzoides",
          "Caesalpinia pulcherrima",
          "Catharanthus roseus",
          "Delonix regia",
          "Ipomoea nil",
          "Jatropha gossypiifolia",
          "Lantana camara",
          "Lawsonia inermis",
          "Morinda citrifolia",
          "Plumeria rubra",
          "Saccharum officinarum",
          "Samanea saman"
         ],
         "yaxis": "y"
        },
        {
         "alignmentgroup": "True",
         "hovertemplate": "chemical_superclass=Fatty acids-Fatty acyl glycosides<br>Recurrence=%{x}<br>species=%{y}<extra></extra>",
         "legendgroup": "Fatty acids-Fatty acyl glycosides",
         "marker": {
          "color": "#ff9209",
          "pattern": {
           "shape": ""
          }
         },
         "name": "Fatty acids-Fatty acyl glycosides",
         "offsetgroup": "Fatty acids-Fatty acyl glycosides",
         "orientation": "h",
         "showlegend": true,
         "textposition": "auto",
         "type": "bar",
         "x": [
          9.375,
          4.568527918781726
         ],
         "xaxis": "x",
         "y": [
          "Crescentia cujete",
          "Morinda citrifolia"
         ],
         "yaxis": "y"
        },
        {
         "alignmentgroup": "True",
         "hovertemplate": "chemical_superclass=Fatty acids-Fatty acyls<br>Recurrence=%{x}<br>species=%{y}<extra></extra>",
         "legendgroup": "Fatty acids-Fatty acyls",
         "marker": {
          "color": "#ff6c22",
          "pattern": {
           "shape": ""
          }
         },
         "name": "Fatty acids-Fatty acyls",
         "offsetgroup": "Fatty acids-Fatty acyls",
         "orientation": "h",
         "showlegend": true,
         "textposition": "auto",
         "type": "bar",
         "x": [
          20,
          9.401709401709402,
          16.9811320754717,
          1.8518518518518516,
          4.23728813559322,
          5.045871559633028,
          1.6666666666666667,
          9.523809523809524,
          18.181818181818183
         ],
         "xaxis": "x",
         "y": [
          "Acrostichum aureum",
          "Ageratum conyzoides",
          "Cymbopogon citratus",
          "Gliricidia sepium",
          "Ipomoea nil",
          "Lantana camara",
          "Lawsonia inermis",
          "Mimosa pudica",
          "Plumeria rubra"
         ],
         "yaxis": "y"
        },
        {
         "alignmentgroup": "True",
         "hovertemplate": "chemical_superclass=Fatty acids-Fatty amides<br>Recurrence=%{x}<br>species=%{y}<extra></extra>",
         "legendgroup": "Fatty acids-Fatty amides",
         "marker": {
          "color": "#ff8710",
          "pattern": {
           "shape": ""
          }
         },
         "name": "Fatty acids-Fatty amides",
         "offsetgroup": "Fatty acids-Fatty amides",
         "orientation": "h",
         "showlegend": true,
         "textposition": "auto",
         "type": "bar",
         "x": [
          13.88888888888889
         ],
         "xaxis": "x",
         "y": [
          "Piper tuberculatum"
         ],
         "yaxis": "y"
        },
        {
         "alignmentgroup": "True",
         "hovertemplate": "chemical_superclass=Fatty acids-Fatty esters<br>Recurrence=%{x}<br>species=%{y}<extra></extra>",
         "legendgroup": "Fatty acids-Fatty esters",
         "marker": {
          "color": "#ff7c17",
          "pattern": {
           "shape": ""
          }
         },
         "name": "Fatty acids-Fatty esters",
         "offsetgroup": "Fatty acids-Fatty esters",
         "orientation": "h",
         "showlegend": true,
         "textposition": "auto",
         "type": "bar",
         "x": [
          3.418803418803419,
          0.6309148264984227,
          25,
          1.6666666666666667,
          1.015228426395939,
          1.8181818181818181,
          14.285714285714285
         ],
         "xaxis": "x",
         "y": [
          "Ageratum conyzoides",
          "Catharanthus roseus",
          "Ficus benjamina",
          "Lawsonia inermis",
          "Morinda citrifolia",
          "Plumeria rubra",
          "Rhizophora mangle"
         ],
         "yaxis": "y"
        },
        {
         "alignmentgroup": "True",
         "hovertemplate": "chemical_superclass=Fatty acids-Glycerolipids<br>Recurrence=%{x}<br>species=%{y}<extra></extra>",
         "legendgroup": "Fatty acids-Glycerolipids",
         "marker": {
          "color": "#ff711e",
          "pattern": {
           "shape": ""
          }
         },
         "name": "Fatty acids-Glycerolipids",
         "offsetgroup": "Fatty acids-Glycerolipids",
         "orientation": "h",
         "showlegend": true,
         "textposition": "auto",
         "type": "bar",
         "x": [
          2.5423728813559325,
          1.5228426395939088,
          0.9090909090909091
         ],
         "xaxis": "x",
         "y": [
          "Ipomoea nil",
          "Morinda citrifolia",
          "Plumeria rubra"
         ],
         "yaxis": "y"
        },
        {
         "alignmentgroup": "True",
         "hovertemplate": "chemical_superclass=Fatty acids-Octadecanoids<br>Recurrence=%{x}<br>species=%{y}<extra></extra>",
         "legendgroup": "Fatty acids-Octadecanoids",
         "marker": {
          "color": "#ff8214",
          "pattern": {
           "shape": ""
          }
         },
         "name": "Fatty acids-Octadecanoids",
         "offsetgroup": "Fatty acids-Octadecanoids",
         "orientation": "h",
         "showlegend": true,
         "textposition": "auto",
         "type": "bar",
         "x": [
          0.8547008547008548,
          0.6309148264984227,
          2.5423728813559325,
          4.761904761904762,
          0.5076142131979695,
          33.33333333333333
         ],
         "xaxis": "x",
         "y": [
          "Ageratum conyzoides",
          "Catharanthus roseus",
          "Ipomoea nil",
          "Mimosa pudica",
          "Morinda citrifolia",
          "Samanea saman"
         ],
         "yaxis": "y"
        },
        {
         "alignmentgroup": "True",
         "hovertemplate": "chemical_superclass=Fatty acids-Sphingolipids<br>Recurrence=%{x}<br>species=%{y}<extra></extra>",
         "legendgroup": "Fatty acids-Sphingolipids",
         "marker": {
          "color": "#ff8d0d",
          "pattern": {
           "shape": ""
          }
         },
         "name": "Fatty acids-Sphingolipids",
         "offsetgroup": "Fatty acids-Sphingolipids",
         "orientation": "h",
         "showlegend": true,
         "textposition": "auto",
         "type": "bar",
         "x": [
          20
         ],
         "xaxis": "x",
         "y": [
          "Paullinia pinnata"
         ],
         "yaxis": "y"
        },
        {
         "alignmentgroup": "True",
         "hovertemplate": "chemical_superclass=Polyketides-Aromatic polyketides<br>Recurrence=%{x}<br>species=%{y}<extra></extra>",
         "legendgroup": "Polyketides-Aromatic polyketides",
         "marker": {
          "color": "#ef4b4b",
          "pattern": {
           "shape": ""
          }
         },
         "name": "Polyketides-Aromatic polyketides",
         "offsetgroup": "Polyketides-Aromatic polyketides",
         "orientation": "h",
         "showlegend": true,
         "textposition": "auto",
         "type": "bar",
         "x": [
          0.9803921568627451,
          4.545454545454546,
          1.015228426395939,
          1.8181818181818181,
          6.896551724137931
         ],
         "xaxis": "x",
         "y": [
          "Caesalpinia pulcherrima",
          "Laguncularia racemosa",
          "Morinda citrifolia",
          "Plumeria rubra",
          "Talipariti tiliaceum"
         ],
         "yaxis": "y"
        },
        {
         "alignmentgroup": "True",
         "hovertemplate": "chemical_superclass=Polyketides-Chromanes<br>Recurrence=%{x}<br>species=%{y}<extra></extra>",
         "legendgroup": "Polyketides-Chromanes",
         "marker": {
          "color": "#ec8f6a",
          "pattern": {
           "shape": ""
          }
         },
         "name": "Polyketides-Chromanes",
         "offsetgroup": "Polyketides-Chromanes",
         "orientation": "h",
         "showlegend": true,
         "textposition": "auto",
         "type": "bar",
         "x": [
          0.8547008547008548,
          3.4482758620689653
         ],
         "xaxis": "x",
         "y": [
          "Ageratum conyzoides",
          "Talipariti tiliaceum"
         ],
         "yaxis": "y"
        },
        {
         "alignmentgroup": "True",
         "hovertemplate": "chemical_superclass=Polyketides-Cyclic polyketides<br>Recurrence=%{x}<br>species=%{y}<extra></extra>",
         "legendgroup": "Polyketides-Cyclic polyketides",
         "marker": {
          "color": "#ec8566",
          "pattern": {
           "shape": ""
          }
         },
         "name": "Polyketides-Cyclic polyketides",
         "offsetgroup": "Polyketides-Cyclic polyketides",
         "orientation": "h",
         "showlegend": true,
         "textposition": "auto",
         "type": "bar",
         "x": [
          0.45871559633027525,
          0.5076142131979695,
          40
         ],
         "xaxis": "x",
         "y": [
          "Lantana camara",
          "Morinda citrifolia",
          "Piper reticulatum"
         ],
         "yaxis": "y"
        },
        {
         "alignmentgroup": "True",
         "hovertemplate": "chemical_superclass=Polyketides-Meroterpenoids<br>Recurrence=%{x}<br>species=%{y}<extra></extra>",
         "legendgroup": "Polyketides-Meroterpenoids",
         "marker": {
          "color": "#ef554f",
          "pattern": {
           "shape": ""
          }
         },
         "name": "Polyketides-Meroterpenoids",
         "offsetgroup": "Polyketides-Meroterpenoids",
         "orientation": "h",
         "showlegend": true,
         "textposition": "auto",
         "type": "bar",
         "x": [
          28.57142857142857,
          75
         ],
         "xaxis": "x",
         "y": [
          "Marila laxiflora",
          "Peperomia galioides"
         ],
         "yaxis": "y"
        },
        {
         "alignmentgroup": "True",
         "hovertemplate": "chemical_superclass=Polyketides-Naphthalenes<br>Recurrence=%{x}<br>species=%{y}<extra></extra>",
         "legendgroup": "Polyketides-Naphthalenes",
         "marker": {
          "color": "#ee5e54",
          "pattern": {
           "shape": ""
          }
         },
         "name": "Polyketides-Naphthalenes",
         "offsetgroup": "Polyketides-Naphthalenes",
         "orientation": "h",
         "showlegend": true,
         "textposition": "auto",
         "type": "bar",
         "x": [
          20,
          0.9803921568627451,
          6.25,
          4.3478260869565215,
          3.669724770642202,
          8.333333333333332,
          0.5076142131979695,
          12.068965517241379
         ],
         "xaxis": "x",
         "y": [
          "Avicennia germinans",
          "Caesalpinia pulcherrima",
          "Crescentia cujete",
          "Eichhornia crassipes",
          "Lantana camara",
          "Lawsonia inermis",
          "Morinda citrifolia",
          "Talipariti tiliaceum"
         ],
         "yaxis": "y"
        },
        {
         "alignmentgroup": "True",
         "hovertemplate": "chemical_superclass=Polyketides-Phloroglucinols<br>Recurrence=%{x}<br>species=%{y}<extra></extra>",
         "legendgroup": "Polyketides-Phloroglucinols",
         "marker": {
          "color": "#ee6858",
          "pattern": {
           "shape": ""
          }
         },
         "name": "Polyketides-Phloroglucinols",
         "offsetgroup": "Polyketides-Phloroglucinols",
         "orientation": "h",
         "showlegend": true,
         "textposition": "auto",
         "type": "bar",
         "x": [
          8.333333333333332,
          1.6666666666666667,
          3.125,
          100
         ],
         "xaxis": "x",
         "y": [
          "Cassia grandis",
          "Lawsonia inermis",
          "Maclura tinctoria",
          "Tovomita longifolia"
         ],
         "yaxis": "y"
        },
        {
         "alignmentgroup": "True",
         "hovertemplate": "chemical_superclass=Polyketides-Polycyclic aromatic polyketides<br>Recurrence=%{x}<br>species=%{y}<extra></extra>",
         "legendgroup": "Polyketides-Polycyclic aromatic polyketides",
         "marker": {
          "color": "#ed725d",
          "pattern": {
           "shape": ""
          }
         },
         "name": "Polyketides-Polycyclic aromatic polyketides",
         "offsetgroup": "Polyketides-Polycyclic aromatic polyketides",
         "orientation": "h",
         "showlegend": true,
         "textposition": "auto",
         "type": "bar",
         "x": [
          33.33333333333333,
          75,
          0.847457627118644,
          25.888324873096447,
          75
         ],
         "xaxis": "x",
         "y": [
          "Cassia grandis",
          "Faramea occidentalis",
          "Ipomoea nil",
          "Morinda citrifolia",
          "Picramnia latifolia"
         ],
         "yaxis": "y"
        },
        {
         "alignmentgroup": "True",
         "hovertemplate": "chemical_superclass=Polyketides-Xanthones<br>Recurrence=%{x}<br>species=%{y}<extra></extra>",
         "legendgroup": "Polyketides-Xanthones",
         "marker": {
          "color": "#ed7c61",
          "pattern": {
           "shape": ""
          }
         },
         "name": "Polyketides-Xanthones",
         "offsetgroup": "Polyketides-Xanthones",
         "orientation": "h",
         "showlegend": true,
         "textposition": "auto",
         "type": "bar",
         "x": [
          12.5
         ],
         "xaxis": "x",
         "y": [
          "Faramea occidentalis"
         ],
         "yaxis": "y"
        },
        {
         "alignmentgroup": "True",
         "hovertemplate": "chemical_superclass=Shikimates and Phenylpropanoids-Coumarins<br>Recurrence=%{x}<br>species=%{y}<extra></extra>",
         "legendgroup": "Shikimates and Phenylpropanoids-Coumarins",
         "marker": {
          "color": "#a0759b",
          "pattern": {
           "shape": ""
          }
         },
         "name": "Shikimates and Phenylpropanoids-Coumarins",
         "offsetgroup": "Shikimates and Phenylpropanoids-Coumarins",
         "orientation": "h",
         "showlegend": true,
         "textposition": "auto",
         "type": "bar",
         "x": [
          0.8547008547008548,
          11.11111111111111,
          1.8518518518518516,
          3.389830508474576,
          9.090909090909092,
          4.545454545454546,
          6.666666666666667,
          2.857142857142857,
          2.030456852791878,
          8.333333333333332,
          0.9090909090909091,
          8.695652173913043,
          5.172413793103448
         ],
         "xaxis": "x",
         "y": [
          "Ageratum conyzoides",
          "Camonea umbellata",
          "Gliricidia sepium",
          "Ipomoea nil",
          "Jatropha gossypiifolia",
          "Laguncularia racemosa",
          "Lawsonia inermis",
          "Mikania micrantha",
          "Morinda citrifolia",
          "Picramnia latifolia",
          "Plumeria rubra",
          "Prosopis juliflora",
          "Talipariti tiliaceum"
         ],
         "yaxis": "y"
        },
        {
         "alignmentgroup": "True",
         "hovertemplate": "chemical_superclass=Shikimates and Phenylpropanoids-Flavonoids<br>Recurrence=%{x}<br>species=%{y}<extra></extra>",
         "legendgroup": "Shikimates and Phenylpropanoids-Flavonoids",
         "marker": {
          "color": "#956a96",
          "pattern": {
           "shape": ""
          }
         },
         "name": "Shikimates and Phenylpropanoids-Flavonoids",
         "offsetgroup": "Shikimates and Phenylpropanoids-Flavonoids",
         "orientation": "h",
         "showlegend": true,
         "textposition": "auto",
         "type": "bar",
         "x": [
          37.03703703703704,
          13.675213675213676,
          50,
          100,
          29.411764705882355,
          100,
          22.22222222222222,
          25,
          7.570977917981073,
          84.21052631578947,
          100,
          17.92452830188679,
          6.521739130434782,
          10.526315789473683,
          100,
          100,
          100,
          12.962962962962962,
          4.761904761904762,
          5.263157894736842,
          14.40677966101695,
          54.54545454545454,
          3.669724770642202,
          33.33333333333333,
          58.333333333333336,
          68.75,
          14.285714285714285,
          11.428571428571429,
          52.38095238095239,
          7.614213197969544,
          63.63636363636363,
          40,
          52.94117647058824,
          60,
          20,
          3.6363636363636362,
          34.78260869565217,
          29.545454545454547,
          66.66666666666666,
          16.666666666666664
         ],
         "xaxis": "x",
         "y": [
          "Ageratina ligustrina",
          "Ageratum conyzoides",
          "Apeiba tibourbou",
          "Arthraxon hispidus",
          "Caesalpinia pulcherrima",
          "Calceolaria irazuensis",
          "Camonea umbellata",
          "Cassia grandis",
          "Catharanthus roseus",
          "Cissus verticillata",
          "Clarisia racemosa",
          "Cymbopogon citratus",
          "Eichhornia crassipes",
          "Erythrina berteroana",
          "Euphorbia hypericifolia",
          "Ficus maxima",
          "Fuchsia splendens",
          "Gliricidia sepium",
          "Hedyosmum bonplandianum",
          "Hymenaea courbaril",
          "Ipomoea nil",
          "Laguncularia racemosa",
          "Lantana camara",
          "Lawsonia inermis",
          "Lonchocarpus heptaphyllus",
          "Maclura tinctoria",
          "Marila laxiflora",
          "Mikania micrantha",
          "Mimosa pudica",
          "Morinda citrifolia",
          "Nasturtium officinale",
          "Paullinia pinnata",
          "Persicaria pubescens",
          "Phenax angustifolius",
          "Piper reticulatum",
          "Plumeria rubra",
          "Prosopis juliflora",
          "Saccharum officinarum",
          "Syzygium malaccense",
          "Verbesina myriocephala"
         ],
         "yaxis": "y"
        },
        {
         "alignmentgroup": "True",
         "hovertemplate": "chemical_superclass=Shikimates and Phenylpropanoids-Isoflavonoids<br>Recurrence=%{x}<br>species=%{y}<extra></extra>",
         "legendgroup": "Shikimates and Phenylpropanoids-Isoflavonoids",
         "marker": {
          "color": "#ab809f",
          "pattern": {
           "shape": ""
          }
         },
         "name": "Shikimates and Phenylpropanoids-Isoflavonoids",
         "offsetgroup": "Shikimates and Phenylpropanoids-Isoflavonoids",
         "orientation": "h",
         "showlegend": true,
         "textposition": "auto",
         "type": "bar",
         "x": [
          0.8547008547008548,
          3.9215686274509802,
          83.33333333333334,
          10.526315789473683,
          6.60377358490566,
          10.526315789473683,
          33.33333333333333,
          1,
          20.833333333333336,
          12.5,
          4.3478260869565215
         ],
         "xaxis": "x",
         "y": [
          "Ageratum conyzoides",
          "Caesalpinia pulcherrima",
          "Canavalia rosea",
          "Cissus verticillata",
          "Cymbopogon citratus",
          "Erythrina berteroana",
          "Gliricidia sepium",
          "Guilandina bonduc",
          "Lonchocarpus heptaphyllus",
          "Maclura tinctoria",
          "Prosopis juliflora"
         ],
         "yaxis": "y"
        },
        {
         "alignmentgroup": "True",
         "hovertemplate": "chemical_superclass=Shikimates and Phenylpropanoids-Lignans<br>Recurrence=%{x}<br>species=%{y}<extra></extra>",
         "legendgroup": "Shikimates and Phenylpropanoids-Lignans",
         "marker": {
          "color": "#8b6091",
          "pattern": {
           "shape": ""
          }
         },
         "name": "Shikimates and Phenylpropanoids-Lignans",
         "offsetgroup": "Shikimates and Phenylpropanoids-Lignans",
         "orientation": "h",
         "showlegend": true,
         "textposition": "auto",
         "type": "bar",
         "x": [
          3.7037037037037033,
          0.8547008547008548,
          20,
          8.333333333333332,
          5.263157894736842,
          6.25,
          3.7037037037037033,
          4.23728813559322,
          6.8181818181818175,
          22.727272727272727,
          0.9174311926605505,
          6.666666666666667,
          16.243654822335024,
          9.090909090909092,
          40,
          37.5,
          2.7777777777777777,
          0.9090909090909091,
          4.3478260869565215,
          4.545454545454546,
          1.7241379310344827
         ],
         "xaxis": "x",
         "y": [
          "Ageratina ligustrina",
          "Ageratum conyzoides",
          "Avicennia germinans",
          "Cassia grandis",
          "Cissus verticillata",
          "Crescentia cujete",
          "Gliricidia sepium",
          "Ipomoea nil",
          "Jatropha gossypiifolia",
          "Laguncularia racemosa",
          "Lantana camara",
          "Lawsonia inermis",
          "Morinda citrifolia",
          "Nasturtium officinale",
          "Phenax angustifolius",
          "Phyllanthus acuminatus",
          "Piper tuberculatum",
          "Plumeria rubra",
          "Prosopis juliflora",
          "Saccharum officinarum",
          "Talipariti tiliaceum"
         ],
         "yaxis": "y"
        },
        {
         "alignmentgroup": "True",
         "hovertemplate": "chemical_superclass=Shikimates and Phenylpropanoids-Phenanthrenoids<br>Recurrence=%{x}<br>species=%{y}<extra></extra>",
         "legendgroup": "Shikimates and Phenylpropanoids-Phenanthrenoids",
         "marker": {
          "color": "#cba0ae",
          "pattern": {
           "shape": ""
          }
         },
         "name": "Shikimates and Phenylpropanoids-Phenanthrenoids",
         "offsetgroup": "Shikimates and Phenylpropanoids-Phenanthrenoids",
         "orientation": "h",
         "showlegend": true,
         "textposition": "auto",
         "type": "bar",
         "x": [
          8.695652173913043
         ],
         "xaxis": "x",
         "y": [
          "Eichhornia crassipes"
         ],
         "yaxis": "y"
        },
        {
         "alignmentgroup": "True",
         "hovertemplate": "chemical_superclass=Shikimates and Phenylpropanoids-Phenolic acids (C6-C1)<br>Recurrence=%{x}<br>species=%{y}<extra></extra>",
         "legendgroup": "Shikimates and Phenylpropanoids-Phenolic acids (C6-C1)",
         "marker": {
          "color": "#EF553B",
          "pattern": {
           "shape": ""
          }
         },
         "name": "Shikimates and Phenylpropanoids-Phenolic acids (C6-C1)",
         "offsetgroup": "Shikimates and Phenylpropanoids-Phenolic acids (C6-C1)",
         "orientation": "h",
         "showlegend": true,
         "textposition": "auto",
         "type": "bar",
         "x": [
          3.7037037037037033,
          1.9607843137254901,
          8.333333333333332,
          1.2618296529968454,
          12.5,
          6.521739130434782,
          11.11111111111111,
          4.761904761904762,
          0.847457627118644,
          9.090909090909092,
          1.6666666666666667,
          14.285714285714285,
          9.523809523809524,
          0.5076142131979695,
          5.88235294117647,
          6.363636363636363,
          28.57142857142857,
          33.33333333333333,
          5.172413793103448,
          33.33333333333333
         ],
         "xaxis": "x",
         "y": [
          "Ageratina ligustrina",
          "Caesalpinia pulcherrima",
          "Cassia grandis",
          "Catharanthus roseus",
          "Crescentia cujete",
          "Eichhornia crassipes",
          "Gliricidia sepium",
          "Hedyosmum bonplandianum",
          "Ipomoea nil",
          "Laguncularia racemosa",
          "Lawsonia inermis",
          "Marila laxiflora",
          "Mimosa pudica",
          "Morinda citrifolia",
          "Persicaria pubescens",
          "Plumeria rubra",
          "Sapium laurifolium",
          "Syzygium malaccense",
          "Talipariti tiliaceum",
          "Verbesina myriocephala"
         ],
         "yaxis": "y"
        },
        {
         "alignmentgroup": "True",
         "hovertemplate": "chemical_superclass=Shikimates and Phenylpropanoids-Phenylethanoids (C6-C2)<br>Recurrence=%{x}<br>species=%{y}<extra></extra>",
         "legendgroup": "Shikimates and Phenylpropanoids-Phenylethanoids (C6-C2)",
         "marker": {
          "color": "#00cc96",
          "pattern": {
           "shape": ""
          }
         },
         "name": "Shikimates and Phenylpropanoids-Phenylethanoids (C6-C2)",
         "offsetgroup": "Shikimates and Phenylpropanoids-Phenylethanoids (C6-C2)",
         "orientation": "h",
         "showlegend": true,
         "textposition": "auto",
         "type": "bar",
         "x": [
          4.23728813559322,
          0.9090909090909091
         ],
         "xaxis": "x",
         "y": [
          "Ipomoea nil",
          "Plumeria rubra"
         ],
         "yaxis": "y"
        },
        {
         "alignmentgroup": "True",
         "hovertemplate": "chemical_superclass=Shikimates and Phenylpropanoids-Phenylpropanoids (C6-C3)<br>Recurrence=%{x}<br>species=%{y}<extra></extra>",
         "legendgroup": "Shikimates and Phenylpropanoids-Phenylpropanoids (C6-C3)",
         "marker": {
          "color": "#ab63fa",
          "pattern": {
           "shape": ""
          }
         },
         "name": "Shikimates and Phenylpropanoids-Phenylpropanoids (C6-C3)",
         "offsetgroup": "Shikimates and Phenylpropanoids-Phenylpropanoids (C6-C3)",
         "orientation": "h",
         "showlegend": true,
         "textposition": "auto",
         "type": "bar",
         "x": [
          0.8547008547008548,
          50,
          20,
          33.33333333333333,
          8.333333333333332,
          6.60377358490566,
          4.3478260869565215,
          14.814814814814813,
          1,
          13.559322033898304,
          4.545454545454546,
          4.587155963302752,
          4.761904761904762,
          1.5228426395939088,
          16.666666666666664,
          4.545454545454546,
          4.545454545454546,
          3.4482758620689653,
          40,
          33.33333333333333
         ],
         "xaxis": "x",
         "y": [
          "Ageratum conyzoides",
          "Apeiba tibourbou",
          "Avicennia germinans",
          "Camonea umbellata",
          "Cassia grandis",
          "Cymbopogon citratus",
          "Eichhornia crassipes",
          "Gliricidia sepium",
          "Guilandina bonduc",
          "Ipomoea nil",
          "Laguncularia racemosa",
          "Lantana camara",
          "Mimosa pudica",
          "Morinda citrifolia",
          "Piper tuberculatum",
          "Plumeria rubra",
          "Saccharum officinarum",
          "Talipariti tiliaceum",
          "Urochloa decumbens",
          "Verbesina myriocephala"
         ],
         "yaxis": "y"
        },
        {
         "alignmentgroup": "True",
         "hovertemplate": "chemical_superclass=Shikimates and Phenylpropanoids-Stilbenoids<br>Recurrence=%{x}<br>species=%{y}<extra></extra>",
         "legendgroup": "Shikimates and Phenylpropanoids-Stilbenoids",
         "marker": {
          "color": "#c095a9",
          "pattern": {
           "shape": ""
          }
         },
         "name": "Shikimates and Phenylpropanoids-Stilbenoids",
         "offsetgroup": "Shikimates and Phenylpropanoids-Stilbenoids",
         "orientation": "h",
         "showlegend": true,
         "textposition": "auto",
         "type": "bar",
         "x": [
          8.333333333333332,
          2.272727272727273
         ],
         "xaxis": "x",
         "y": [
          "Lonchocarpus heptaphyllus",
          "Saccharum officinarum"
         ],
         "yaxis": "y"
        },
        {
         "alignmentgroup": "True",
         "hovertemplate": "chemical_superclass=Shikimates and Phenylpropanoids-Xanthones<br>Recurrence=%{x}<br>species=%{y}<extra></extra>",
         "legendgroup": "Shikimates and Phenylpropanoids-Xanthones",
         "marker": {
          "color": "#b68ba4",
          "pattern": {
           "shape": ""
          }
         },
         "name": "Shikimates and Phenylpropanoids-Xanthones",
         "offsetgroup": "Shikimates and Phenylpropanoids-Xanthones",
         "orientation": "h",
         "showlegend": true,
         "textposition": "auto",
         "type": "bar",
         "x": [
          5,
          12.5,
          28.57142857142857
         ],
         "xaxis": "x",
         "y": [
          "Lawsonia inermis",
          "Maclura tinctoria",
          "Marila laxiflora"
         ],
         "yaxis": "y"
        },
        {
         "alignmentgroup": "True",
         "hovertemplate": "chemical_superclass=Terpenoids-Apocarotenoids<br>Recurrence=%{x}<br>species=%{y}<extra></extra>",
         "legendgroup": "Terpenoids-Apocarotenoids",
         "marker": {
          "color": "#b0cab3",
          "pattern": {
           "shape": ""
          }
         },
         "name": "Terpenoids-Apocarotenoids",
         "offsetgroup": "Terpenoids-Apocarotenoids",
         "orientation": "h",
         "showlegend": true,
         "textposition": "auto",
         "type": "bar",
         "x": [
          1.8927444794952681,
          1.694915254237288,
          3.3333333333333335,
          0.5076142131979695,
          0.9090909090909091,
          8.695652173913043,
          4.545454545454546
         ],
         "xaxis": "x",
         "y": [
          "Catharanthus roseus",
          "Ipomoea nil",
          "Lawsonia inermis",
          "Morinda citrifolia",
          "Plumeria rubra",
          "Prosopis juliflora",
          "Saccharum officinarum"
         ],
         "yaxis": "y"
        },
        {
         "alignmentgroup": "True",
         "hovertemplate": "chemical_superclass=Terpenoids-Carotenoids (C40)<br>Recurrence=%{x}<br>species=%{y}<extra></extra>",
         "legendgroup": "Terpenoids-Carotenoids (C40)",
         "marker": {
          "color": "#d0e7d2",
          "pattern": {
           "shape": ""
          }
         },
         "name": "Terpenoids-Carotenoids (C40)",
         "offsetgroup": "Terpenoids-Carotenoids (C40)",
         "orientation": "h",
         "showlegend": true,
         "textposition": "auto",
         "type": "bar",
         "x": [
          1.2618296529968454,
          13.636363636363635
         ],
         "xaxis": "x",
         "y": [
          "Catharanthus roseus",
          "Nasturtium officinale"
         ],
         "yaxis": "y"
        },
        {
         "alignmentgroup": "True",
         "hovertemplate": "chemical_superclass=Terpenoids-Diterpenoids<br>Recurrence=%{x}<br>species=%{y}<extra></extra>",
         "legendgroup": "Terpenoids-Diterpenoids",
         "marker": {
          "color": "#719074",
          "pattern": {
           "shape": ""
          }
         },
         "name": "Terpenoids-Diterpenoids",
         "offsetgroup": "Terpenoids-Diterpenoids",
         "orientation": "h",
         "showlegend": true,
         "textposition": "auto",
         "type": "bar",
         "x": [
          68.18181818181817,
          9.090909090909092,
          45.09803921568628,
          0.6309148264984227,
          16.666666666666664,
          0.9433962264150944,
          85,
          94.73684210526315,
          33.05084745762712,
          25,
          8.571428571428571,
          0.5076142131979695,
          62.5,
          57.14285714285714,
          90
         ],
         "xaxis": "x",
         "y": [
          "Ageratina ixiocladon",
          "Alibertia edulis",
          "Caesalpinia pulcherrima",
          "Catharanthus roseus",
          "Cnidoscolus urens",
          "Cymbopogon citratus",
          "Guilandina bonduc",
          "Hymenaea courbaril",
          "Ipomoea nil",
          "Jatropha gossypiifolia",
          "Mikania micrantha",
          "Morinda citrifolia",
          "Phyllanthus acuminatus",
          "Rhizophora mangle",
          "Xylopia frutescens"
         ],
         "yaxis": "y"
        },
        {
         "alignmentgroup": "True",
         "hovertemplate": "chemical_superclass=Terpenoids-Meroterpenoids<br>Recurrence=%{x}<br>species=%{y}<extra></extra>",
         "legendgroup": "Terpenoids-Meroterpenoids",
         "marker": {
          "color": "#91ad93",
          "pattern": {
           "shape": ""
          }
         },
         "name": "Terpenoids-Meroterpenoids",
         "offsetgroup": "Terpenoids-Meroterpenoids",
         "orientation": "h",
         "showlegend": true,
         "textposition": "auto",
         "type": "bar",
         "x": [
          4.545454545454546,
          7.6923076923076925,
          3.4482758620689653
         ],
         "xaxis": "x",
         "y": [
          "Ageratina ixiocladon",
          "Ageratum conyzoides",
          "Talipariti tiliaceum"
         ],
         "yaxis": "y"
        },
        {
         "alignmentgroup": "True",
         "hovertemplate": "chemical_superclass=Terpenoids-Monoterpenoids<br>Recurrence=%{x}<br>species=%{y}<extra></extra>",
         "legendgroup": "Terpenoids-Monoterpenoids",
         "marker": {
          "color": "#618264",
          "pattern": {
           "shape": ""
          }
         },
         "name": "Terpenoids-Monoterpenoids",
         "offsetgroup": "Terpenoids-Monoterpenoids",
         "orientation": "h",
         "showlegend": true,
         "textposition": "auto",
         "type": "bar",
         "x": [
          26.495726495726498,
          13.636363636363635,
          100,
          40,
          0.9803921568627451,
          4.73186119873817,
          65.625,
          41.509433962264154,
          96.29629629629629,
          100,
          38.095238095238095,
          18.34862385321101,
          1.6666666666666667,
          18.781725888324875,
          100,
          6.25,
          5.88235294117647,
          38.18181818181819,
          100,
          8.695652173913043,
          14.285714285714285
         ],
         "xaxis": "x",
         "y": [
          "Ageratum conyzoides",
          "Alibertia edulis",
          "Avicennia bicolor",
          "Avicennia germinans",
          "Caesalpinia pulcherrima",
          "Catharanthus roseus",
          "Crescentia cujete",
          "Cymbopogon citratus",
          "Genipa americana",
          "Handroanthus chrysanthus",
          "Hedyosmum bonplandianum",
          "Lantana camara",
          "Lawsonia inermis",
          "Morinda citrifolia",
          "Myrciaria floribunda",
          "Peperomia galioides",
          "Persicaria pubescens",
          "Plumeria rubra",
          "Posoqueria latifolia",
          "Prosopis juliflora",
          "Rhizophora mangle"
         ],
         "yaxis": "y"
        },
        {
         "alignmentgroup": "True",
         "hovertemplate": "chemical_superclass=Terpenoids-Sesquiterpenoids<br>Recurrence=%{x}<br>species=%{y}<extra></extra>",
         "legendgroup": "Terpenoids-Sesquiterpenoids",
         "marker": {
          "color": "#819f83",
          "pattern": {
           "shape": ""
          }
         },
         "name": "Terpenoids-Sesquiterpenoids",
         "offsetgroup": "Terpenoids-Sesquiterpenoids",
         "orientation": "h",
         "showlegend": true,
         "textposition": "auto",
         "type": "bar",
         "x": [
          80,
          27.27272727272727,
          29.629629629629626,
          25.64102564102564,
          9.803921568627452,
          100,
          0.9463722397476341,
          4.716981132075472,
          52.38095238095239,
          4.545454545454546,
          18.34862385321101,
          4.761904761904762,
          42.857142857142854,
          60,
          71.42857142857143,
          18.75,
          17.647058823529413,
          100,
          2.727272727272727,
          15.517241379310345,
          82.35294117647058,
          33.33333333333333
         ],
         "xaxis": "x",
         "y": [
          "Acrostichum aureum",
          "Ageratina ixiocladon",
          "Ageratina ligustrina",
          "Ageratum conyzoides",
          "Caesalpinia pulcherrima",
          "Calea urticifolia",
          "Catharanthus roseus",
          "Cymbopogon citratus",
          "Hedyosmum bonplandianum",
          "Jatropha gossypiifolia",
          "Lantana camara",
          "Maytenus woodsonii",
          "Mesosphaerum suaveolens",
          "Mikania micrantha",
          "Onoseris onoseroides",
          "Peperomia galioides",
          "Persicaria pubescens",
          "Piptocarpha poeppigiana",
          "Plumeria rubra",
          "Talipariti tiliaceum",
          "Telanthophora grandifolia",
          "Trattinnickia aspera"
         ],
         "yaxis": "y"
        },
        {
         "alignmentgroup": "True",
         "hovertemplate": "chemical_superclass=Terpenoids-Steroids<br>Recurrence=%{x}<br>species=%{y}<extra></extra>",
         "legendgroup": "Terpenoids-Steroids",
         "marker": {
          "color": "#c0d9c2",
          "pattern": {
           "shape": ""
          }
         },
         "name": "Terpenoids-Steroids",
         "offsetgroup": "Terpenoids-Steroids",
         "orientation": "h",
         "showlegend": true,
         "textposition": "auto",
         "type": "bar",
         "x": [
          2.564102564102564,
          1.9607843137254901,
          8.333333333333332,
          7.886435331230284,
          100,
          6.521739130434782,
          12.5,
          25,
          1.8518518518518516,
          7.000000000000001,
          2.5423728813559325,
          4.545454545454546,
          3.669724770642202,
          6.666666666666667,
          8.571428571428571,
          5.0761421319796955,
          14.285714285714285,
          20,
          17.647058823529413,
          16.666666666666664,
          0.9090909090909091,
          4.545454545454546,
          100,
          100,
          25,
          60,
          16.666666666666664,
          10
         ],
         "xaxis": "x",
         "y": [
          "Ageratum conyzoides",
          "Caesalpinia pulcherrima",
          "Cassia grandis",
          "Catharanthus roseus",
          "Cryptostegia madagascariensis",
          "Eichhornia crassipes",
          "Faramea occidentalis",
          "Ficus benjamina",
          "Gliricidia sepium",
          "Guilandina bonduc",
          "Ipomoea nil",
          "Jatropha gossypiifolia",
          "Lantana camara",
          "Lawsonia inermis",
          "Mikania micrantha",
          "Morinda citrifolia",
          "Onoseris onoseroides",
          "Paullinia pinnata",
          "Persicaria pubescens",
          "Picramnia latifolia",
          "Plumeria rubra",
          "Quassia amara",
          "Sansevieria trifasciata",
          "Smilax officinalis",
          "Trichilia pallida",
          "Urochloa decumbens",
          "Verbesina myriocephala",
          "Xylopia frutescens"
         ],
         "yaxis": "y"
        },
        {
         "alignmentgroup": "True",
         "hovertemplate": "chemical_superclass=Terpenoids-Triterpenoids<br>Recurrence=%{x}<br>species=%{y}<extra></extra>",
         "legendgroup": "Terpenoids-Triterpenoids",
         "marker": {
          "color": "#a0bca3",
          "pattern": {
           "shape": ""
          }
         },
         "name": "Terpenoids-Triterpenoids",
         "offsetgroup": "Terpenoids-Triterpenoids",
         "orientation": "h",
         "showlegend": true,
         "textposition": "auto",
         "type": "bar",
         "x": [
          7.4074074074074066,
          0.8547008547008548,
          72.72727272727273,
          1.9607843137254901,
          1.2618296529968454,
          83.33333333333334,
          100,
          50,
          14.814814814814813,
          5,
          1.694915254237288,
          2.272727272727273,
          31.65137614678899,
          18.333333333333332,
          3.125,
          14.285714285714285,
          95.23809523809523,
          57.14285714285714,
          8.571428571428571,
          6.091370558375635,
          14.285714285714285,
          20,
          100,
          9.090909090909092,
          81.81818181818183,
          14.285714285714285,
          6.8181818181818175,
          18.96551724137931,
          66.66666666666666,
          75
         ],
         "xaxis": "x",
         "y": [
          "Ageratina ligustrina",
          "Ageratum conyzoides",
          "Alibertia edulis",
          "Caesalpinia pulcherrima",
          "Catharanthus roseus",
          "Cnidoscolus urens",
          "Cojoba arborea",
          "Ficus benjamina",
          "Gliricidia sepium",
          "Guilandina bonduc",
          "Ipomoea nil",
          "Jatropha gossypiifolia",
          "Lantana camara",
          "Lawsonia inermis",
          "Maclura tinctoria",
          "Marila laxiflora",
          "Maytenus woodsonii",
          "Mesosphaerum suaveolens",
          "Mikania micrantha",
          "Morinda citrifolia",
          "Onoseris onoseroides",
          "Paullinia pinnata",
          "Phytolacca rivinoides",
          "Plumeria rubra",
          "Quassia amara",
          "Rhizophora mangle",
          "Saccharum officinarum",
          "Talipariti tiliaceum",
          "Trattinnickia aspera",
          "Trichilia pallida"
         ],
         "yaxis": "y"
        }
       ],
       "layout": {
        "annotations": [
         {
          "font": {
           "color": "black",
           "size": 10
          },
          "showarrow": false,
          "text": "Total compounds: 1",
          "x": 100,
          "xanchor": "left",
          "y": "Acrocomia aculeata",
          "yanchor": "middle"
         },
         {
          "font": {
           "color": "black",
           "size": 10
          },
          "showarrow": false,
          "text": "Total compounds: 5",
          "x": 100,
          "xanchor": "left",
          "y": "Acrostichum aureum",
          "yanchor": "middle"
         },
         {
          "font": {
           "color": "black",
           "size": 10
          },
          "showarrow": false,
          "text": "Total compounds: 22",
          "x": 100,
          "xanchor": "left",
          "y": "Ageratina ixiocladon",
          "yanchor": "middle"
         },
         {
          "font": {
           "color": "black",
           "size": 10
          },
          "showarrow": false,
          "text": "Total compounds: 27",
          "x": 100,
          "xanchor": "left",
          "y": "Ageratina ligustrina",
          "yanchor": "middle"
         },
         {
          "font": {
           "color": "black",
           "size": 10
          },
          "showarrow": false,
          "text": "Total compounds: 117",
          "x": 100,
          "xanchor": "left",
          "y": "Ageratum conyzoides",
          "yanchor": "middle"
         },
         {
          "font": {
           "color": "black",
           "size": 10
          },
          "showarrow": false,
          "text": "Total compounds: 6",
          "x": 100,
          "xanchor": "left",
          "y": "Albizia adinocephala",
          "yanchor": "middle"
         },
         {
          "font": {
           "color": "black",
           "size": 10
          },
          "showarrow": false,
          "text": "Total compounds: 22",
          "x": 100,
          "xanchor": "left",
          "y": "Alibertia edulis",
          "yanchor": "middle"
         },
         {
          "font": {
           "color": "black",
           "size": 10
          },
          "showarrow": false,
          "text": "Total compounds: 2",
          "x": 100,
          "xanchor": "left",
          "y": "Apeiba tibourbou",
          "yanchor": "middle"
         },
         {
          "font": {
           "color": "black",
           "size": 10
          },
          "showarrow": false,
          "text": "Total compounds: 2",
          "x": 100,
          "xanchor": "left",
          "y": "Arthraxon hispidus",
          "yanchor": "middle"
         },
         {
          "font": {
           "color": "black",
           "size": 10
          },
          "showarrow": false,
          "text": "Total compounds: 2",
          "x": 100,
          "xanchor": "left",
          "y": "Avicennia bicolor",
          "yanchor": "middle"
         },
         {
          "font": {
           "color": "black",
           "size": 10
          },
          "showarrow": false,
          "text": "Total compounds: 5",
          "x": 100,
          "xanchor": "left",
          "y": "Avicennia germinans",
          "yanchor": "middle"
         },
         {
          "font": {
           "color": "black",
           "size": 10
          },
          "showarrow": false,
          "text": "Total compounds: 102",
          "x": 100,
          "xanchor": "left",
          "y": "Caesalpinia pulcherrima",
          "yanchor": "middle"
         },
         {
          "font": {
           "color": "black",
           "size": 10
          },
          "showarrow": false,
          "text": "Total compounds: 4",
          "x": 100,
          "xanchor": "left",
          "y": "Calceolaria irazuensis",
          "yanchor": "middle"
         },
         {
          "font": {
           "color": "black",
           "size": 10
          },
          "showarrow": false,
          "text": "Total compounds: 29",
          "x": 100,
          "xanchor": "left",
          "y": "Calea urticifolia",
          "yanchor": "middle"
         },
         {
          "font": {
           "color": "black",
           "size": 10
          },
          "showarrow": false,
          "text": "Total compounds: 9",
          "x": 100,
          "xanchor": "left",
          "y": "Camonea umbellata",
          "yanchor": "middle"
         },
         {
          "font": {
           "color": "black",
           "size": 10
          },
          "showarrow": false,
          "text": "Total compounds: 6",
          "x": 100,
          "xanchor": "left",
          "y": "Canavalia rosea",
          "yanchor": "middle"
         },
         {
          "font": {
           "color": "black",
           "size": 10
          },
          "showarrow": false,
          "text": "Total compounds: 12",
          "x": 100,
          "xanchor": "left",
          "y": "Cassia grandis",
          "yanchor": "middle"
         },
         {
          "font": {
           "color": "black",
           "size": 10
          },
          "showarrow": false,
          "text": "Total compounds: 317",
          "x": 100,
          "xanchor": "left",
          "y": "Catharanthus roseus",
          "yanchor": "middle"
         },
         {
          "font": {
           "color": "black",
           "size": 10
          },
          "showarrow": false,
          "text": "Total compounds: 19",
          "x": 100,
          "xanchor": "left",
          "y": "Cissus verticillata",
          "yanchor": "middle"
         },
         {
          "font": {
           "color": "black",
           "size": 10
          },
          "showarrow": false,
          "text": "Total compounds: 1",
          "x": 100,
          "xanchor": "left",
          "y": "Clarisia racemosa",
          "yanchor": "middle"
         },
         {
          "font": {
           "color": "black",
           "size": 10
          },
          "showarrow": false,
          "text": "Total compounds: 6",
          "x": 100,
          "xanchor": "left",
          "y": "Cnidoscolus urens",
          "yanchor": "middle"
         },
         {
          "font": {
           "color": "black",
           "size": 10
          },
          "showarrow": false,
          "text": "Total compounds: 1",
          "x": 100,
          "xanchor": "left",
          "y": "Cojoba arborea",
          "yanchor": "middle"
         },
         {
          "font": {
           "color": "black",
           "size": 10
          },
          "showarrow": false,
          "text": "Total compounds: 32",
          "x": 100,
          "xanchor": "left",
          "y": "Crescentia cujete",
          "yanchor": "middle"
         },
         {
          "font": {
           "color": "black",
           "size": 10
          },
          "showarrow": false,
          "text": "Total compounds: 3",
          "x": 100,
          "xanchor": "left",
          "y": "Cryptostegia madagascariensis",
          "yanchor": "middle"
         },
         {
          "font": {
           "color": "black",
           "size": 10
          },
          "showarrow": false,
          "text": "Total compounds: 106",
          "x": 100,
          "xanchor": "left",
          "y": "Cymbopogon citratus",
          "yanchor": "middle"
         },
         {
          "font": {
           "color": "black",
           "size": 10
          },
          "showarrow": false,
          "text": "Total compounds: 9",
          "x": 100,
          "xanchor": "left",
          "y": "Delonix regia",
          "yanchor": "middle"
         },
         {
          "font": {
           "color": "black",
           "size": 10
          },
          "showarrow": false,
          "text": "Total compounds: 46",
          "x": 100,
          "xanchor": "left",
          "y": "Eichhornia crassipes",
          "yanchor": "middle"
         },
         {
          "font": {
           "color": "black",
           "size": 10
          },
          "showarrow": false,
          "text": "Total compounds: 19",
          "x": 100,
          "xanchor": "left",
          "y": "Erythrina berteroana",
          "yanchor": "middle"
         },
         {
          "font": {
           "color": "black",
           "size": 10
          },
          "showarrow": false,
          "text": "Total compounds: 1",
          "x": 100,
          "xanchor": "left",
          "y": "Erythroxylum fimbriatum",
          "yanchor": "middle"
         },
         {
          "font": {
           "color": "black",
           "size": 10
          },
          "showarrow": false,
          "text": "Total compounds: 1",
          "x": 100,
          "xanchor": "left",
          "y": "Euphorbia hypericifolia",
          "yanchor": "middle"
         },
         {
          "font": {
           "color": "black",
           "size": 10
          },
          "showarrow": false,
          "text": "Total compounds: 8",
          "x": 100,
          "xanchor": "left",
          "y": "Faramea occidentalis",
          "yanchor": "middle"
         },
         {
          "font": {
           "color": "black",
           "size": 10
          },
          "showarrow": false,
          "text": "Total compounds: 4",
          "x": 100,
          "xanchor": "left",
          "y": "Ficus benjamina",
          "yanchor": "middle"
         },
         {
          "font": {
           "color": "black",
           "size": 10
          },
          "showarrow": false,
          "text": "Total compounds: 4",
          "x": 100,
          "xanchor": "left",
          "y": "Ficus maxima",
          "yanchor": "middle"
         },
         {
          "font": {
           "color": "black",
           "size": 10
          },
          "showarrow": false,
          "text": "Total compounds: 7",
          "x": 100,
          "xanchor": "left",
          "y": "Fuchsia splendens",
          "yanchor": "middle"
         },
         {
          "font": {
           "color": "black",
           "size": 10
          },
          "showarrow": false,
          "text": "Total compounds: 27",
          "x": 100,
          "xanchor": "left",
          "y": "Genipa americana",
          "yanchor": "middle"
         },
         {
          "font": {
           "color": "black",
           "size": 10
          },
          "showarrow": false,
          "text": "Total compounds: 54",
          "x": 100,
          "xanchor": "left",
          "y": "Gliricidia sepium",
          "yanchor": "middle"
         },
         {
          "font": {
           "color": "black",
           "size": 10
          },
          "showarrow": false,
          "text": "Total compounds: 100",
          "x": 100,
          "xanchor": "left",
          "y": "Guilandina bonduc",
          "yanchor": "middle"
         },
         {
          "font": {
           "color": "black",
           "size": 10
          },
          "showarrow": false,
          "text": "Total compounds: 3",
          "x": 100,
          "xanchor": "left",
          "y": "Handroanthus chrysanthus",
          "yanchor": "middle"
         },
         {
          "font": {
           "color": "black",
           "size": 10
          },
          "showarrow": false,
          "text": "Total compounds: 21",
          "x": 100,
          "xanchor": "left",
          "y": "Hedyosmum bonplandianum",
          "yanchor": "middle"
         },
         {
          "font": {
           "color": "black",
           "size": 10
          },
          "showarrow": false,
          "text": "Total compounds: 2",
          "x": 100,
          "xanchor": "left",
          "y": "Herrania purpurea",
          "yanchor": "middle"
         },
         {
          "font": {
           "color": "black",
           "size": 10
          },
          "showarrow": false,
          "text": "Total compounds: 19",
          "x": 100,
          "xanchor": "left",
          "y": "Hymenaea courbaril",
          "yanchor": "middle"
         },
         {
          "font": {
           "color": "black",
           "size": 10
          },
          "showarrow": false,
          "text": "Total compounds: 25",
          "x": 100,
          "xanchor": "left",
          "y": "Indigofera hirsuta",
          "yanchor": "middle"
         },
         {
          "font": {
           "color": "black",
           "size": 10
          },
          "showarrow": false,
          "text": "Total compounds: 118",
          "x": 100,
          "xanchor": "left",
          "y": "Ipomoea nil",
          "yanchor": "middle"
         },
         {
          "font": {
           "color": "black",
           "size": 10
          },
          "showarrow": false,
          "text": "Total compounds: 44",
          "x": 100,
          "xanchor": "left",
          "y": "Jatropha gossypiifolia",
          "yanchor": "middle"
         },
         {
          "font": {
           "color": "black",
           "size": 10
          },
          "showarrow": false,
          "text": "Total compounds: 22",
          "x": 100,
          "xanchor": "left",
          "y": "Laguncularia racemosa",
          "yanchor": "middle"
         },
         {
          "font": {
           "color": "black",
           "size": 10
          },
          "showarrow": false,
          "text": "Total compounds: 218",
          "x": 100,
          "xanchor": "left",
          "y": "Lantana camara",
          "yanchor": "middle"
         },
         {
          "font": {
           "color": "black",
           "size": 10
          },
          "showarrow": false,
          "text": "Total compounds: 60",
          "x": 100,
          "xanchor": "left",
          "y": "Lawsonia inermis",
          "yanchor": "middle"
         },
         {
          "font": {
           "color": "black",
           "size": 10
          },
          "showarrow": false,
          "text": "Total compounds: 24",
          "x": 100,
          "xanchor": "left",
          "y": "Lonchocarpus heptaphyllus",
          "yanchor": "middle"
         },
         {
          "font": {
           "color": "black",
           "size": 10
          },
          "showarrow": false,
          "text": "Total compounds: 32",
          "x": 100,
          "xanchor": "left",
          "y": "Maclura tinctoria",
          "yanchor": "middle"
         },
         {
          "font": {
           "color": "black",
           "size": 10
          },
          "showarrow": false,
          "text": "Total compounds: 7",
          "x": 100,
          "xanchor": "left",
          "y": "Marila laxiflora",
          "yanchor": "middle"
         },
         {
          "font": {
           "color": "black",
           "size": 10
          },
          "showarrow": false,
          "text": "Total compounds: 21",
          "x": 100,
          "xanchor": "left",
          "y": "Maytenus woodsonii",
          "yanchor": "middle"
         },
         {
          "font": {
           "color": "black",
           "size": 10
          },
          "showarrow": false,
          "text": "Total compounds: 7",
          "x": 100,
          "xanchor": "left",
          "y": "Mesosphaerum suaveolens",
          "yanchor": "middle"
         },
         {
          "font": {
           "color": "black",
           "size": 10
          },
          "showarrow": false,
          "text": "Total compounds: 35",
          "x": 100,
          "xanchor": "left",
          "y": "Mikania micrantha",
          "yanchor": "middle"
         },
         {
          "font": {
           "color": "black",
           "size": 10
          },
          "showarrow": false,
          "text": "Total compounds: 21",
          "x": 100,
          "xanchor": "left",
          "y": "Mimosa pudica",
          "yanchor": "middle"
         },
         {
          "font": {
           "color": "black",
           "size": 10
          },
          "showarrow": false,
          "text": "Total compounds: 197",
          "x": 100,
          "xanchor": "left",
          "y": "Morinda citrifolia",
          "yanchor": "middle"
         },
         {
          "font": {
           "color": "black",
           "size": 10
          },
          "showarrow": false,
          "text": "Total compounds: 3",
          "x": 100,
          "xanchor": "left",
          "y": "Myrciaria floribunda",
          "yanchor": "middle"
         },
         {
          "font": {
           "color": "black",
           "size": 10
          },
          "showarrow": false,
          "text": "Total compounds: 22",
          "x": 100,
          "xanchor": "left",
          "y": "Nasturtium officinale",
          "yanchor": "middle"
         },
         {
          "font": {
           "color": "black",
           "size": 10
          },
          "showarrow": false,
          "text": "Total compounds: 4",
          "x": 100,
          "xanchor": "left",
          "y": "Omphalea diandra",
          "yanchor": "middle"
         },
         {
          "font": {
           "color": "black",
           "size": 10
          },
          "showarrow": false,
          "text": "Total compounds: 7",
          "x": 100,
          "xanchor": "left",
          "y": "Onoseris onoseroides",
          "yanchor": "middle"
         },
         {
          "font": {
           "color": "black",
           "size": 10
          },
          "showarrow": false,
          "text": "Total compounds: 10",
          "x": 100,
          "xanchor": "left",
          "y": "Paullinia pinnata",
          "yanchor": "middle"
         },
         {
          "font": {
           "color": "black",
           "size": 10
          },
          "showarrow": false,
          "text": "Total compounds: 16",
          "x": 100,
          "xanchor": "left",
          "y": "Peperomia galioides",
          "yanchor": "middle"
         },
         {
          "font": {
           "color": "black",
           "size": 10
          },
          "showarrow": false,
          "text": "Total compounds: 17",
          "x": 100,
          "xanchor": "left",
          "y": "Persicaria pubescens",
          "yanchor": "middle"
         },
         {
          "font": {
           "color": "black",
           "size": 10
          },
          "showarrow": false,
          "text": "Total compounds: 5",
          "x": 100,
          "xanchor": "left",
          "y": "Phenax angustifolius",
          "yanchor": "middle"
         },
         {
          "font": {
           "color": "black",
           "size": 10
          },
          "showarrow": false,
          "text": "Total compounds: 8",
          "x": 100,
          "xanchor": "left",
          "y": "Phyllanthus acuminatus",
          "yanchor": "middle"
         },
         {
          "font": {
           "color": "black",
           "size": 10
          },
          "showarrow": false,
          "text": "Total compounds: 3",
          "x": 100,
          "xanchor": "left",
          "y": "Phytolacca rivinoides",
          "yanchor": "middle"
         },
         {
          "font": {
           "color": "black",
           "size": 10
          },
          "showarrow": false,
          "text": "Total compounds: 24",
          "x": 100,
          "xanchor": "left",
          "y": "Picramnia latifolia",
          "yanchor": "middle"
         },
         {
          "font": {
           "color": "black",
           "size": 10
          },
          "showarrow": false,
          "text": "Total compounds: 5",
          "x": 100,
          "xanchor": "left",
          "y": "Piper reticulatum",
          "yanchor": "middle"
         },
         {
          "font": {
           "color": "black",
           "size": 10
          },
          "showarrow": false,
          "text": "Total compounds: 36",
          "x": 100,
          "xanchor": "left",
          "y": "Piper tuberculatum",
          "yanchor": "middle"
         },
         {
          "font": {
           "color": "black",
           "size": 10
          },
          "showarrow": false,
          "text": "Total compounds: 12",
          "x": 100,
          "xanchor": "left",
          "y": "Piptocarpha poeppigiana",
          "yanchor": "middle"
         },
         {
          "font": {
           "color": "black",
           "size": 10
          },
          "showarrow": false,
          "text": "Total compounds: 110",
          "x": 100,
          "xanchor": "left",
          "y": "Plumeria rubra",
          "yanchor": "middle"
         },
         {
          "font": {
           "color": "black",
           "size": 10
          },
          "showarrow": false,
          "text": "Total compounds: 2",
          "x": 100,
          "xanchor": "left",
          "y": "Posoqueria latifolia",
          "yanchor": "middle"
         },
         {
          "font": {
           "color": "black",
           "size": 10
          },
          "showarrow": false,
          "text": "Total compounds: 23",
          "x": 100,
          "xanchor": "left",
          "y": "Prosopis juliflora",
          "yanchor": "middle"
         },
         {
          "font": {
           "color": "black",
           "size": 10
          },
          "showarrow": false,
          "text": "Total compounds: 22",
          "x": 100,
          "xanchor": "left",
          "y": "Quassia amara",
          "yanchor": "middle"
         },
         {
          "font": {
           "color": "black",
           "size": 10
          },
          "showarrow": false,
          "text": "Total compounds: 7",
          "x": 100,
          "xanchor": "left",
          "y": "Rauvolfia littoralis",
          "yanchor": "middle"
         },
         {
          "font": {
           "color": "black",
           "size": 10
          },
          "showarrow": false,
          "text": "Total compounds: 7",
          "x": 100,
          "xanchor": "left",
          "y": "Rhizophora mangle",
          "yanchor": "middle"
         },
         {
          "font": {
           "color": "black",
           "size": 10
          },
          "showarrow": false,
          "text": "Total compounds: 44",
          "x": 100,
          "xanchor": "left",
          "y": "Saccharum officinarum",
          "yanchor": "middle"
         },
         {
          "font": {
           "color": "black",
           "size": 10
          },
          "showarrow": false,
          "text": "Total compounds: 3",
          "x": 100,
          "xanchor": "left",
          "y": "Samanea saman",
          "yanchor": "middle"
         },
         {
          "font": {
           "color": "black",
           "size": 10
          },
          "showarrow": false,
          "text": "Total compounds: 31",
          "x": 100,
          "xanchor": "left",
          "y": "Sansevieria trifasciata",
          "yanchor": "middle"
         },
         {
          "font": {
           "color": "black",
           "size": 10
          },
          "showarrow": false,
          "text": "Total compounds: 7",
          "x": 100,
          "xanchor": "left",
          "y": "Sapium laurifolium",
          "yanchor": "middle"
         },
         {
          "font": {
           "color": "black",
           "size": 10
          },
          "showarrow": false,
          "text": "Total compounds: 11",
          "x": 100,
          "xanchor": "left",
          "y": "Siparuna grandiflora",
          "yanchor": "middle"
         },
         {
          "font": {
           "color": "black",
           "size": 10
          },
          "showarrow": false,
          "text": "Total compounds: 5",
          "x": 100,
          "xanchor": "left",
          "y": "Smilax officinalis",
          "yanchor": "middle"
         },
         {
          "font": {
           "color": "black",
           "size": 10
          },
          "showarrow": false,
          "text": "Total compounds: 6",
          "x": 100,
          "xanchor": "left",
          "y": "Syzygium malaccense",
          "yanchor": "middle"
         },
         {
          "font": {
           "color": "black",
           "size": 10
          },
          "showarrow": false,
          "text": "Total compounds: 58",
          "x": 100,
          "xanchor": "left",
          "y": "Talipariti tiliaceum",
          "yanchor": "middle"
         },
         {
          "font": {
           "color": "black",
           "size": 10
          },
          "showarrow": false,
          "text": "Total compounds: 17",
          "x": 100,
          "xanchor": "left",
          "y": "Telanthophora grandifolia",
          "yanchor": "middle"
         },
         {
          "font": {
           "color": "black",
           "size": 10
          },
          "showarrow": false,
          "text": "Total compounds: 8",
          "x": 100,
          "xanchor": "left",
          "y": "Tovomita longifolia",
          "yanchor": "middle"
         },
         {
          "font": {
           "color": "black",
           "size": 10
          },
          "showarrow": false,
          "text": "Total compounds: 3",
          "x": 100,
          "xanchor": "left",
          "y": "Trattinnickia aspera",
          "yanchor": "middle"
         },
         {
          "font": {
           "color": "black",
           "size": 10
          },
          "showarrow": false,
          "text": "Total compounds: 12",
          "x": 100,
          "xanchor": "left",
          "y": "Trichilia pallida",
          "yanchor": "middle"
         },
         {
          "font": {
           "color": "black",
           "size": 10
          },
          "showarrow": false,
          "text": "Total compounds: 5",
          "x": 100,
          "xanchor": "left",
          "y": "Urochloa decumbens",
          "yanchor": "middle"
         },
         {
          "font": {
           "color": "black",
           "size": 10
          },
          "showarrow": false,
          "text": "Total compounds: 2",
          "x": 100,
          "xanchor": "left",
          "y": "Vasconcellea cauliflora",
          "yanchor": "middle"
         },
         {
          "font": {
           "color": "black",
           "size": 10
          },
          "showarrow": false,
          "text": "Total compounds: 6",
          "x": 100,
          "xanchor": "left",
          "y": "Verbesina myriocephala",
          "yanchor": "middle"
         },
         {
          "font": {
           "color": "black",
           "size": 10
          },
          "showarrow": false,
          "text": "Total compounds: 10",
          "x": 100,
          "xanchor": "left",
          "y": "Xylopia frutescens",
          "yanchor": "middle"
         }
        ],
        "barmode": "relative",
        "height": 1500,
        "legend": {
         "title": {
          "text": "chemical_superclass"
         },
         "tracegroupgap": 0
        },
        "plot_bgcolor": "white",
        "template": {
         "data": {
          "bar": [
           {
            "error_x": {
             "color": "#2a3f5f"
            },
            "error_y": {
             "color": "#2a3f5f"
            },
            "marker": {
             "line": {
              "color": "#E5ECF6",
              "width": 0.5
             },
             "pattern": {
              "fillmode": "overlay",
              "size": 10,
              "solidity": 0.2
             }
            },
            "type": "bar"
           }
          ],
          "barpolar": [
           {
            "marker": {
             "line": {
              "color": "#E5ECF6",
              "width": 0.5
             },
             "pattern": {
              "fillmode": "overlay",
              "size": 10,
              "solidity": 0.2
             }
            },
            "type": "barpolar"
           }
          ],
          "carpet": [
           {
            "aaxis": {
             "endlinecolor": "#2a3f5f",
             "gridcolor": "white",
             "linecolor": "white",
             "minorgridcolor": "white",
             "startlinecolor": "#2a3f5f"
            },
            "baxis": {
             "endlinecolor": "#2a3f5f",
             "gridcolor": "white",
             "linecolor": "white",
             "minorgridcolor": "white",
             "startlinecolor": "#2a3f5f"
            },
            "type": "carpet"
           }
          ],
          "choropleth": [
           {
            "colorbar": {
             "outlinewidth": 0,
             "ticks": ""
            },
            "type": "choropleth"
           }
          ],
          "contour": [
           {
            "colorbar": {
             "outlinewidth": 0,
             "ticks": ""
            },
            "colorscale": [
             [
              0,
              "#0d0887"
             ],
             [
              0.1111111111111111,
              "#46039f"
             ],
             [
              0.2222222222222222,
              "#7201a8"
             ],
             [
              0.3333333333333333,
              "#9c179e"
             ],
             [
              0.4444444444444444,
              "#bd3786"
             ],
             [
              0.5555555555555556,
              "#d8576b"
             ],
             [
              0.6666666666666666,
              "#ed7953"
             ],
             [
              0.7777777777777778,
              "#fb9f3a"
             ],
             [
              0.8888888888888888,
              "#fdca26"
             ],
             [
              1,
              "#f0f921"
             ]
            ],
            "type": "contour"
           }
          ],
          "contourcarpet": [
           {
            "colorbar": {
             "outlinewidth": 0,
             "ticks": ""
            },
            "type": "contourcarpet"
           }
          ],
          "heatmap": [
           {
            "colorbar": {
             "outlinewidth": 0,
             "ticks": ""
            },
            "colorscale": [
             [
              0,
              "#0d0887"
             ],
             [
              0.1111111111111111,
              "#46039f"
             ],
             [
              0.2222222222222222,
              "#7201a8"
             ],
             [
              0.3333333333333333,
              "#9c179e"
             ],
             [
              0.4444444444444444,
              "#bd3786"
             ],
             [
              0.5555555555555556,
              "#d8576b"
             ],
             [
              0.6666666666666666,
              "#ed7953"
             ],
             [
              0.7777777777777778,
              "#fb9f3a"
             ],
             [
              0.8888888888888888,
              "#fdca26"
             ],
             [
              1,
              "#f0f921"
             ]
            ],
            "type": "heatmap"
           }
          ],
          "heatmapgl": [
           {
            "colorbar": {
             "outlinewidth": 0,
             "ticks": ""
            },
            "colorscale": [
             [
              0,
              "#0d0887"
             ],
             [
              0.1111111111111111,
              "#46039f"
             ],
             [
              0.2222222222222222,
              "#7201a8"
             ],
             [
              0.3333333333333333,
              "#9c179e"
             ],
             [
              0.4444444444444444,
              "#bd3786"
             ],
             [
              0.5555555555555556,
              "#d8576b"
             ],
             [
              0.6666666666666666,
              "#ed7953"
             ],
             [
              0.7777777777777778,
              "#fb9f3a"
             ],
             [
              0.8888888888888888,
              "#fdca26"
             ],
             [
              1,
              "#f0f921"
             ]
            ],
            "type": "heatmapgl"
           }
          ],
          "histogram": [
           {
            "marker": {
             "pattern": {
              "fillmode": "overlay",
              "size": 10,
              "solidity": 0.2
             }
            },
            "type": "histogram"
           }
          ],
          "histogram2d": [
           {
            "colorbar": {
             "outlinewidth": 0,
             "ticks": ""
            },
            "colorscale": [
             [
              0,
              "#0d0887"
             ],
             [
              0.1111111111111111,
              "#46039f"
             ],
             [
              0.2222222222222222,
              "#7201a8"
             ],
             [
              0.3333333333333333,
              "#9c179e"
             ],
             [
              0.4444444444444444,
              "#bd3786"
             ],
             [
              0.5555555555555556,
              "#d8576b"
             ],
             [
              0.6666666666666666,
              "#ed7953"
             ],
             [
              0.7777777777777778,
              "#fb9f3a"
             ],
             [
              0.8888888888888888,
              "#fdca26"
             ],
             [
              1,
              "#f0f921"
             ]
            ],
            "type": "histogram2d"
           }
          ],
          "histogram2dcontour": [
           {
            "colorbar": {
             "outlinewidth": 0,
             "ticks": ""
            },
            "colorscale": [
             [
              0,
              "#0d0887"
             ],
             [
              0.1111111111111111,
              "#46039f"
             ],
             [
              0.2222222222222222,
              "#7201a8"
             ],
             [
              0.3333333333333333,
              "#9c179e"
             ],
             [
              0.4444444444444444,
              "#bd3786"
             ],
             [
              0.5555555555555556,
              "#d8576b"
             ],
             [
              0.6666666666666666,
              "#ed7953"
             ],
             [
              0.7777777777777778,
              "#fb9f3a"
             ],
             [
              0.8888888888888888,
              "#fdca26"
             ],
             [
              1,
              "#f0f921"
             ]
            ],
            "type": "histogram2dcontour"
           }
          ],
          "mesh3d": [
           {
            "colorbar": {
             "outlinewidth": 0,
             "ticks": ""
            },
            "type": "mesh3d"
           }
          ],
          "parcoords": [
           {
            "line": {
             "colorbar": {
              "outlinewidth": 0,
              "ticks": ""
             }
            },
            "type": "parcoords"
           }
          ],
          "pie": [
           {
            "automargin": true,
            "type": "pie"
           }
          ],
          "scatter": [
           {
            "fillpattern": {
             "fillmode": "overlay",
             "size": 10,
             "solidity": 0.2
            },
            "type": "scatter"
           }
          ],
          "scatter3d": [
           {
            "line": {
             "colorbar": {
              "outlinewidth": 0,
              "ticks": ""
             }
            },
            "marker": {
             "colorbar": {
              "outlinewidth": 0,
              "ticks": ""
             }
            },
            "type": "scatter3d"
           }
          ],
          "scattercarpet": [
           {
            "marker": {
             "colorbar": {
              "outlinewidth": 0,
              "ticks": ""
             }
            },
            "type": "scattercarpet"
           }
          ],
          "scattergeo": [
           {
            "marker": {
             "colorbar": {
              "outlinewidth": 0,
              "ticks": ""
             }
            },
            "type": "scattergeo"
           }
          ],
          "scattergl": [
           {
            "marker": {
             "colorbar": {
              "outlinewidth": 0,
              "ticks": ""
             }
            },
            "type": "scattergl"
           }
          ],
          "scattermapbox": [
           {
            "marker": {
             "colorbar": {
              "outlinewidth": 0,
              "ticks": ""
             }
            },
            "type": "scattermapbox"
           }
          ],
          "scatterpolar": [
           {
            "marker": {
             "colorbar": {
              "outlinewidth": 0,
              "ticks": ""
             }
            },
            "type": "scatterpolar"
           }
          ],
          "scatterpolargl": [
           {
            "marker": {
             "colorbar": {
              "outlinewidth": 0,
              "ticks": ""
             }
            },
            "type": "scatterpolargl"
           }
          ],
          "scatterternary": [
           {
            "marker": {
             "colorbar": {
              "outlinewidth": 0,
              "ticks": ""
             }
            },
            "type": "scatterternary"
           }
          ],
          "surface": [
           {
            "colorbar": {
             "outlinewidth": 0,
             "ticks": ""
            },
            "colorscale": [
             [
              0,
              "#0d0887"
             ],
             [
              0.1111111111111111,
              "#46039f"
             ],
             [
              0.2222222222222222,
              "#7201a8"
             ],
             [
              0.3333333333333333,
              "#9c179e"
             ],
             [
              0.4444444444444444,
              "#bd3786"
             ],
             [
              0.5555555555555556,
              "#d8576b"
             ],
             [
              0.6666666666666666,
              "#ed7953"
             ],
             [
              0.7777777777777778,
              "#fb9f3a"
             ],
             [
              0.8888888888888888,
              "#fdca26"
             ],
             [
              1,
              "#f0f921"
             ]
            ],
            "type": "surface"
           }
          ],
          "table": [
           {
            "cells": {
             "fill": {
              "color": "#EBF0F8"
             },
             "line": {
              "color": "white"
             }
            },
            "header": {
             "fill": {
              "color": "#C8D4E3"
             },
             "line": {
              "color": "white"
             }
            },
            "type": "table"
           }
          ]
         },
         "layout": {
          "annotationdefaults": {
           "arrowcolor": "#2a3f5f",
           "arrowhead": 0,
           "arrowwidth": 1
          },
          "autotypenumbers": "strict",
          "coloraxis": {
           "colorbar": {
            "outlinewidth": 0,
            "ticks": ""
           }
          },
          "colorscale": {
           "diverging": [
            [
             0,
             "#8e0152"
            ],
            [
             0.1,
             "#c51b7d"
            ],
            [
             0.2,
             "#de77ae"
            ],
            [
             0.3,
             "#f1b6da"
            ],
            [
             0.4,
             "#fde0ef"
            ],
            [
             0.5,
             "#f7f7f7"
            ],
            [
             0.6,
             "#e6f5d0"
            ],
            [
             0.7,
             "#b8e186"
            ],
            [
             0.8,
             "#7fbc41"
            ],
            [
             0.9,
             "#4d9221"
            ],
            [
             1,
             "#276419"
            ]
           ],
           "sequential": [
            [
             0,
             "#0d0887"
            ],
            [
             0.1111111111111111,
             "#46039f"
            ],
            [
             0.2222222222222222,
             "#7201a8"
            ],
            [
             0.3333333333333333,
             "#9c179e"
            ],
            [
             0.4444444444444444,
             "#bd3786"
            ],
            [
             0.5555555555555556,
             "#d8576b"
            ],
            [
             0.6666666666666666,
             "#ed7953"
            ],
            [
             0.7777777777777778,
             "#fb9f3a"
            ],
            [
             0.8888888888888888,
             "#fdca26"
            ],
            [
             1,
             "#f0f921"
            ]
           ],
           "sequentialminus": [
            [
             0,
             "#0d0887"
            ],
            [
             0.1111111111111111,
             "#46039f"
            ],
            [
             0.2222222222222222,
             "#7201a8"
            ],
            [
             0.3333333333333333,
             "#9c179e"
            ],
            [
             0.4444444444444444,
             "#bd3786"
            ],
            [
             0.5555555555555556,
             "#d8576b"
            ],
            [
             0.6666666666666666,
             "#ed7953"
            ],
            [
             0.7777777777777778,
             "#fb9f3a"
            ],
            [
             0.8888888888888888,
             "#fdca26"
            ],
            [
             1,
             "#f0f921"
            ]
           ]
          },
          "colorway": [
           "#636efa",
           "#EF553B",
           "#00cc96",
           "#ab63fa",
           "#FFA15A",
           "#19d3f3",
           "#FF6692",
           "#B6E880",
           "#FF97FF",
           "#FECB52"
          ],
          "font": {
           "color": "#2a3f5f"
          },
          "geo": {
           "bgcolor": "white",
           "lakecolor": "white",
           "landcolor": "#E5ECF6",
           "showlakes": true,
           "showland": true,
           "subunitcolor": "white"
          },
          "hoverlabel": {
           "align": "left"
          },
          "hovermode": "closest",
          "mapbox": {
           "style": "light"
          },
          "paper_bgcolor": "white",
          "plot_bgcolor": "#E5ECF6",
          "polar": {
           "angularaxis": {
            "gridcolor": "white",
            "linecolor": "white",
            "ticks": ""
           },
           "bgcolor": "#E5ECF6",
           "radialaxis": {
            "gridcolor": "white",
            "linecolor": "white",
            "ticks": ""
           }
          },
          "scene": {
           "xaxis": {
            "backgroundcolor": "#E5ECF6",
            "gridcolor": "white",
            "gridwidth": 2,
            "linecolor": "white",
            "showbackground": true,
            "ticks": "",
            "zerolinecolor": "white"
           },
           "yaxis": {
            "backgroundcolor": "#E5ECF6",
            "gridcolor": "white",
            "gridwidth": 2,
            "linecolor": "white",
            "showbackground": true,
            "ticks": "",
            "zerolinecolor": "white"
           },
           "zaxis": {
            "backgroundcolor": "#E5ECF6",
            "gridcolor": "white",
            "gridwidth": 2,
            "linecolor": "white",
            "showbackground": true,
            "ticks": "",
            "zerolinecolor": "white"
           }
          },
          "shapedefaults": {
           "line": {
            "color": "#2a3f5f"
           }
          },
          "ternary": {
           "aaxis": {
            "gridcolor": "white",
            "linecolor": "white",
            "ticks": ""
           },
           "baxis": {
            "gridcolor": "white",
            "linecolor": "white",
            "ticks": ""
           },
           "bgcolor": "#E5ECF6",
           "caxis": {
            "gridcolor": "white",
            "linecolor": "white",
            "ticks": ""
           }
          },
          "title": {
           "x": 0.05
          },
          "xaxis": {
           "automargin": true,
           "gridcolor": "white",
           "linecolor": "white",
           "ticks": "",
           "title": {
            "standoff": 15
           },
           "zerolinecolor": "white",
           "zerolinewidth": 2
          },
          "yaxis": {
           "automargin": true,
           "gridcolor": "white",
           "linecolor": "white",
           "ticks": "",
           "title": {
            "standoff": 15
           },
           "zerolinecolor": "white",
           "zerolinewidth": 2
          }
         }
        },
        "title": {
         "text": "Normalized Stacked Barplot of Predicted Superclasses Occurrence for Species"
        },
        "width": 1500,
        "xaxis": {
         "anchor": "y",
         "domain": [
          0,
          1
         ],
         "title": {
          "text": "Recurrence"
         }
        },
        "yaxis": {
         "anchor": "x",
         "domain": [
          0,
          1
         ],
         "tickmode": "array",
         "ticktext": [
          "<i>Acrocomia aculeata</i>",
          "<i>Acrostichum aureum</i>",
          "<i>Ageratina ixiocladon</i>",
          "<i>Ageratina ligustrina</i>",
          "<i>Ageratum conyzoides</i>",
          "<i>Albizia adinocephala</i>",
          "<i>Alibertia edulis</i>",
          "<i>Apeiba tibourbou</i>",
          "<i>Arthraxon hispidus</i>",
          "<i>Avicennia bicolor</i>",
          "<i>Avicennia germinans</i>",
          "<i>Caesalpinia pulcherrima</i>",
          "<i>Calceolaria irazuensis</i>",
          "<i>Calea urticifolia</i>",
          "<i>Camonea umbellata</i>",
          "<i>Canavalia rosea</i>",
          "<i>Cassia grandis</i>",
          "<i>Catharanthus roseus</i>",
          "<i>Cissus verticillata</i>",
          "<i>Clarisia racemosa</i>",
          "<i>Cnidoscolus urens</i>",
          "<i>Cojoba arborea</i>",
          "<i>Crescentia cujete</i>",
          "<i>Cryptostegia madagascariensis</i>",
          "<i>Cymbopogon citratus</i>",
          "<i>Delonix regia</i>",
          "<i>Eichhornia crassipes</i>",
          "<i>Erythrina berteroana</i>",
          "<i>Erythroxylum fimbriatum</i>",
          "<i>Euphorbia hypericifolia</i>",
          "<i>Faramea occidentalis</i>",
          "<i>Ficus benjamina</i>",
          "<i>Ficus maxima</i>",
          "<i>Fuchsia splendens</i>",
          "<i>Genipa americana</i>",
          "<i>Gliricidia sepium</i>",
          "<i>Guilandina bonduc</i>",
          "<i>Handroanthus chrysanthus</i>",
          "<i>Hedyosmum bonplandianum</i>",
          "<i>Herrania purpurea</i>",
          "<i>Hymenaea courbaril</i>",
          "<i>Indigofera hirsuta</i>",
          "<i>Ipomoea nil</i>",
          "<i>Jatropha gossypiifolia</i>",
          "<i>Laguncularia racemosa</i>",
          "<i>Lantana camara</i>",
          "<i>Lawsonia inermis</i>",
          "<i>Lonchocarpus heptaphyllus</i>",
          "<i>Maclura tinctoria</i>",
          "<i>Marila laxiflora</i>",
          "<i>Maytenus woodsonii</i>",
          "<i>Mesosphaerum suaveolens</i>",
          "<i>Mikania micrantha</i>",
          "<i>Mimosa pudica</i>",
          "<i>Morinda citrifolia</i>",
          "<i>Myrciaria floribunda</i>",
          "<i>Nasturtium officinale</i>",
          "<i>Omphalea diandra</i>",
          "<i>Onoseris onoseroides</i>",
          "<i>Paullinia pinnata</i>",
          "<i>Peperomia galioides</i>",
          "<i>Persicaria pubescens</i>",
          "<i>Phenax angustifolius</i>",
          "<i>Phyllanthus acuminatus</i>",
          "<i>Phytolacca rivinoides</i>",
          "<i>Picramnia latifolia</i>",
          "<i>Piper reticulatum</i>",
          "<i>Piper tuberculatum</i>",
          "<i>Piptocarpha poeppigiana</i>",
          "<i>Plumeria rubra</i>",
          "<i>Posoqueria latifolia</i>",
          "<i>Prosopis juliflora</i>",
          "<i>Quassia amara</i>",
          "<i>Rauvolfia littoralis</i>",
          "<i>Rhizophora mangle</i>",
          "<i>Saccharum officinarum</i>",
          "<i>Samanea saman</i>",
          "<i>Sansevieria trifasciata</i>",
          "<i>Sapium laurifolium</i>",
          "<i>Siparuna grandiflora</i>",
          "<i>Smilax officinalis</i>",
          "<i>Syzygium malaccense</i>",
          "<i>Talipariti tiliaceum</i>",
          "<i>Telanthophora grandifolia</i>",
          "<i>Tovomita longifolia</i>",
          "<i>Trattinnickia aspera</i>",
          "<i>Trichilia pallida</i>",
          "<i>Urochloa decumbens</i>",
          "<i>Vasconcellea cauliflora</i>",
          "<i>Verbesina myriocephala</i>",
          "<i>Xylopia frutescens</i>"
         ],
         "tickvals": [
          0,
          1,
          2,
          3,
          4,
          5,
          6,
          7,
          8,
          9,
          10,
          11,
          12,
          13,
          14,
          15,
          16,
          17,
          18,
          19,
          20,
          21,
          22,
          23,
          24,
          25,
          26,
          27,
          28,
          29,
          30,
          31,
          32,
          33,
          34,
          35,
          36,
          37,
          38,
          39,
          40,
          41,
          42,
          43,
          44,
          45,
          46,
          47,
          48,
          49,
          50,
          51,
          52,
          53,
          54,
          55,
          56,
          57,
          58,
          59,
          60,
          61,
          62,
          63,
          64,
          65,
          66,
          67,
          68,
          69,
          70,
          71,
          72,
          73,
          74,
          75,
          76,
          77,
          78,
          79,
          80,
          81,
          82,
          83,
          84,
          85,
          86,
          87,
          88,
          89,
          90
         ],
         "title": {
          "text": "<i>Species<i>"
         }
        }
       }
      }
     },
     "metadata": {},
     "output_type": "display_data"
    },
    {
     "ename": "ValueError",
     "evalue": "No objects to concatenate",
     "output_type": "error",
     "traceback": [
      "\u001b[1;31m---------------------------------------------------------------------------\u001b[0m",
      "\u001b[1;31mValueError\u001b[0m                                Traceback (most recent call last)",
      "Cell \u001b[1;32mIn[49], line 95\u001b[0m\n\u001b[0;32m     92\u001b[0m fig\u001b[38;5;241m.\u001b[39mshow()\n\u001b[0;32m     94\u001b[0m \u001b[38;5;66;03m# Step 1: Read data from all .tsv files in the output_folder\u001b[39;00m\n\u001b[1;32m---> 95\u001b[0m all_data \u001b[38;5;241m=\u001b[39m pd\u001b[38;5;241m.\u001b[39mconcat([pd\u001b[38;5;241m.\u001b[39mread_csv(os\u001b[38;5;241m.\u001b[39mpath\u001b[38;5;241m.\u001b[39mjoin(output_folder, filename), sep\u001b[38;5;241m=\u001b[39m\u001b[38;5;124m'\u001b[39m\u001b[38;5;130;01m\\t\u001b[39;00m\u001b[38;5;124m'\u001b[39m) \n\u001b[0;32m     96\u001b[0m                         \u001b[38;5;28;01mfor\u001b[39;00m filename \u001b[38;5;129;01min\u001b[39;00m os\u001b[38;5;241m.\u001b[39mlistdir(output_folder) \u001b[38;5;28;01mif\u001b[39;00m filename\u001b[38;5;241m.\u001b[39mendswith(\u001b[38;5;124m\"\u001b[39m\u001b[38;5;124m.tsv\u001b[39m\u001b[38;5;124m\"\u001b[39m)])\n\u001b[0;32m     98\u001b[0m \u001b[38;5;66;03m# Step 2: Rename the \"organism_taxonomy_09species\" column to \"species\"\u001b[39;00m\n\u001b[0;32m     99\u001b[0m all_data\u001b[38;5;241m.\u001b[39mrename(columns\u001b[38;5;241m=\u001b[39m{\u001b[38;5;124m'\u001b[39m\u001b[38;5;124morganism_taxonomy_09species\u001b[39m\u001b[38;5;124m'\u001b[39m: \u001b[38;5;124m'\u001b[39m\u001b[38;5;124mspecies\u001b[39m\u001b[38;5;124m'\u001b[39m}, inplace\u001b[38;5;241m=\u001b[39m\u001b[38;5;28;01mTrue\u001b[39;00m)\n",
      "File \u001b[1;32mc:\\Users\\quirosgu\\AppData\\Local\\anaconda3\\Lib\\site-packages\\pandas\\core\\reshape\\concat.py:380\u001b[0m, in \u001b[0;36mconcat\u001b[1;34m(objs, axis, join, ignore_index, keys, levels, names, verify_integrity, sort, copy)\u001b[0m\n\u001b[0;32m    377\u001b[0m \u001b[38;5;28;01melif\u001b[39;00m copy \u001b[38;5;129;01mand\u001b[39;00m using_copy_on_write():\n\u001b[0;32m    378\u001b[0m     copy \u001b[38;5;241m=\u001b[39m \u001b[38;5;28;01mFalse\u001b[39;00m\n\u001b[1;32m--> 380\u001b[0m op \u001b[38;5;241m=\u001b[39m _Concatenator(\n\u001b[0;32m    381\u001b[0m     objs,\n\u001b[0;32m    382\u001b[0m     axis\u001b[38;5;241m=\u001b[39maxis,\n\u001b[0;32m    383\u001b[0m     ignore_index\u001b[38;5;241m=\u001b[39mignore_index,\n\u001b[0;32m    384\u001b[0m     join\u001b[38;5;241m=\u001b[39mjoin,\n\u001b[0;32m    385\u001b[0m     keys\u001b[38;5;241m=\u001b[39mkeys,\n\u001b[0;32m    386\u001b[0m     levels\u001b[38;5;241m=\u001b[39mlevels,\n\u001b[0;32m    387\u001b[0m     names\u001b[38;5;241m=\u001b[39mnames,\n\u001b[0;32m    388\u001b[0m     verify_integrity\u001b[38;5;241m=\u001b[39mverify_integrity,\n\u001b[0;32m    389\u001b[0m     copy\u001b[38;5;241m=\u001b[39mcopy,\n\u001b[0;32m    390\u001b[0m     sort\u001b[38;5;241m=\u001b[39msort,\n\u001b[0;32m    391\u001b[0m )\n\u001b[0;32m    393\u001b[0m \u001b[38;5;28;01mreturn\u001b[39;00m op\u001b[38;5;241m.\u001b[39mget_result()\n",
      "File \u001b[1;32mc:\\Users\\quirosgu\\AppData\\Local\\anaconda3\\Lib\\site-packages\\pandas\\core\\reshape\\concat.py:443\u001b[0m, in \u001b[0;36m_Concatenator.__init__\u001b[1;34m(self, objs, axis, join, keys, levels, names, ignore_index, verify_integrity, copy, sort)\u001b[0m\n\u001b[0;32m    440\u001b[0m \u001b[38;5;28mself\u001b[39m\u001b[38;5;241m.\u001b[39mverify_integrity \u001b[38;5;241m=\u001b[39m verify_integrity\n\u001b[0;32m    441\u001b[0m \u001b[38;5;28mself\u001b[39m\u001b[38;5;241m.\u001b[39mcopy \u001b[38;5;241m=\u001b[39m copy\n\u001b[1;32m--> 443\u001b[0m objs, keys \u001b[38;5;241m=\u001b[39m \u001b[38;5;28mself\u001b[39m\u001b[38;5;241m.\u001b[39m_clean_keys_and_objs(objs, keys)\n\u001b[0;32m    445\u001b[0m \u001b[38;5;66;03m# figure out what our result ndim is going to be\u001b[39;00m\n\u001b[0;32m    446\u001b[0m ndims \u001b[38;5;241m=\u001b[39m \u001b[38;5;28mself\u001b[39m\u001b[38;5;241m.\u001b[39m_get_ndims(objs)\n",
      "File \u001b[1;32mc:\\Users\\quirosgu\\AppData\\Local\\anaconda3\\Lib\\site-packages\\pandas\\core\\reshape\\concat.py:505\u001b[0m, in \u001b[0;36m_Concatenator._clean_keys_and_objs\u001b[1;34m(self, objs, keys)\u001b[0m\n\u001b[0;32m    502\u001b[0m     objs_list \u001b[38;5;241m=\u001b[39m \u001b[38;5;28mlist\u001b[39m(objs)\n\u001b[0;32m    504\u001b[0m \u001b[38;5;28;01mif\u001b[39;00m \u001b[38;5;28mlen\u001b[39m(objs_list) \u001b[38;5;241m==\u001b[39m \u001b[38;5;241m0\u001b[39m:\n\u001b[1;32m--> 505\u001b[0m     \u001b[38;5;28;01mraise\u001b[39;00m \u001b[38;5;167;01mValueError\u001b[39;00m(\u001b[38;5;124m\"\u001b[39m\u001b[38;5;124mNo objects to concatenate\u001b[39m\u001b[38;5;124m\"\u001b[39m)\n\u001b[0;32m    507\u001b[0m \u001b[38;5;28;01mif\u001b[39;00m keys \u001b[38;5;129;01mis\u001b[39;00m \u001b[38;5;28;01mNone\u001b[39;00m:\n\u001b[0;32m    508\u001b[0m     objs_list \u001b[38;5;241m=\u001b[39m \u001b[38;5;28mlist\u001b[39m(com\u001b[38;5;241m.\u001b[39mnot_none(\u001b[38;5;241m*\u001b[39mobjs_list))\n",
      "\u001b[1;31mValueError\u001b[0m: No objects to concatenate"
     ]
    }
   ],
   "source": [
    "\n",
    "output_species = 'C:/Users/quirosgu/Desktop/Inmuno/output_data/species_data'\n",
    "\n",
    "# Step 1: Read data from all .tsv files in the output_folder\n",
    "all_data = pd.concat([pd.read_csv(os.path.join(output_species, filename), sep='\\t') \n",
    "                        for filename in os.listdir(output_species) if filename.endswith(\".tsv\")])\n",
    "\n",
    "# Step 2: Rename the \"organism_taxonomy_09species\" column to \"species\"\n",
    "all_data.rename(columns={'organism_taxonomy_09species': 'species'}, inplace=True)\n",
    "\n",
    "# Remove 'API Error-API Error' and 'Not Classified-Not Classified'\n",
    "all_data = all_data[~all_data['chemical_superclass'].isin(['API Error-API Error', 'Not Classified-Not Classified'])]\n",
    "\n",
    "# Apply the function to each row\n",
    "all_data[['Pathway', 'superclass']] = all_data.apply(lambda row: split_chemical_superclass(row), axis=1, result_type='expand')\n",
    "\n",
    "# Step 4: Process data for color mapping\n",
    "color_map = {}\n",
    "for pathway, superclasses in all_data.groupby('Pathway')['superclass'].unique().items():\n",
    "    shades = generate_shades(pathway, len(superclasses))\n",
    "    for superclass, shade in zip(superclasses, shades):\n",
    "        color_map[f\"{pathway}-{superclass}\"] = shade\n",
    "\n",
    "# Step 5: Group and aggregate data to calculate recurrence\n",
    "agg_data = all_data.groupby(['species', 'chemical_superclass']).size().reset_index(name='recurrence')\n",
    "\n",
    "# Normalize the recurrence values within each species group\n",
    "agg_data['recurrence_normalized'] = agg_data.groupby('species')['recurrence'].transform(lambda x: x / x.sum()) * 100\n",
    "\n",
    "# Convert 'species' column to categorical data\n",
    "agg_data['species'] = pd.Categorical(agg_data['species'], categories=agg_data['species'].unique(), ordered=True)\n",
    "\n",
    "# Get unique species names\n",
    "unique_species = agg_data['species'].unique()\n",
    "\n",
    "# Get unique chemical superclasses and sort them alphabetically\n",
    "unique_superclasses = sorted(agg_data['chemical_superclass'].unique())\n",
    "\n",
    "# Calculate total recurrence for each species\n",
    "total_recurrence_per_species = agg_data.groupby('species')['recurrence'].sum()\n",
    "\n",
    "# Create the stacked barplot with the custom color palette\n",
    "fig = px.bar(agg_data, y='species', x='recurrence_normalized',\n",
    "                title='Normalized Stacked Barplot of Predicted Superclasses Occurrence for Species',\n",
    "                labels={'recurrence_normalized': 'Recurrence'},\n",
    "                color='chemical_superclass',\n",
    "                color_discrete_map=color_map,\n",
    "                category_orders={'chemical_superclass': unique_superclasses},\n",
    "                orientation='h')\n",
    "\n",
    "# Modify the y-axis label\n",
    "fig.update_yaxes(title_text='<i>Species<i>')\n",
    "\n",
    "# Set species labels in italics\n",
    "fig.update_layout(yaxis=dict(tickmode='array',\n",
    "                                tickvals=list(range(len(unique_species))),\n",
    "                                ticktext=[f'<i>{species}</i>' for species in unique_species]\n",
    "                                ))\n",
    "\n",
    "# Set a white background\n",
    "fig.update_layout(plot_bgcolor='white')\n",
    "\n",
    "# Get the maximum value of the x-axis\n",
    "max_x = agg_data['recurrence_normalized'].max()\n",
    "\n",
    "for species, total_recurrence in total_recurrence_per_species.items():\n",
    "    # Find the maximum recurrence for this species\n",
    "    max_recurrence = agg_data[agg_data['species'] == species]['recurrence_normalized'].max()\n",
    "\n",
    "    # Position the annotation at the end of the bar with a slight offset\n",
    "    x_position = max_x + 2\n",
    "    if x_position > 100:  # Ensure the label is not outside the plot area\n",
    "        x_position = 100  # Set it to 100 if it exceeds the maximum x-axis value\n",
    "\n",
    "    # Add annotation to the plot\n",
    "    fig.add_annotation(\n",
    "        x=x_position,\n",
    "        y=species,\n",
    "        text=f'Total compounds: {total_recurrence}',\n",
    "        showarrow=False,\n",
    "        font=dict(size=10, color='black'),\n",
    "        xanchor='left',\n",
    "        yanchor='middle'\n",
    "    )\n",
    "\n",
    "# Modify the size of the figure\n",
    "fig.update_layout(width=1500, height=1500)\n",
    "\n",
    "# Save the figure as an HTML file\n",
    "fig.write_html(f'{output_folder}Wikidata_superclass_barplot_species_normalized.html')\n",
    "\n",
    "# Show the figure\n",
    "fig.show()\n",
    "\n",
    "# Step 1: Read data from all .tsv files in the output_folder\n",
    "all_data = pd.concat([pd.read_csv(os.path.join(output_folder, filename), sep='\\t') \n",
    "                        for filename in os.listdir(output_folder) if filename.endswith(\".tsv\")])\n",
    "\n",
    "# Step 2: Rename the \"organism_taxonomy_09species\" column to \"species\"\n",
    "all_data.rename(columns={'organism_taxonomy_09species': 'species'}, inplace=True)\n",
    "\n",
    "# Remove 'API Error-API Error' and 'Not Classified-Not Classified'\n",
    "all_data = all_data[~all_data['chemical_superclass'].isin(['API Error-API Error', 'Not Classified-Not Classified'])]\n",
    "\n",
    "# Apply the function to each row\n",
    "all_data[['Pathway', 'superclass']] = all_data.apply(lambda row: split_chemical_superclass(row), axis=1, result_type='expand')\n",
    "\n",
    "# Step 4: Process data for color mapping\n",
    "color_map = {}\n",
    "for pathway, superclasses in all_data.groupby('Pathway')['superclass'].unique().items():\n",
    "    shades = generate_shades(pathway, len(superclasses))\n",
    "    for superclass, shade in zip(superclasses, shades):\n",
    "        color_map[f\"{pathway}-{superclass}\"] = shade\n",
    "\n",
    "# Step 5: Group and aggregate data to calculate recurrence\n",
    "agg_data = all_data.groupby(['species', 'chemical_superclass']).size().reset_index(name='recurrence')\n",
    "\n",
    "# Normalize the recurrence values within each species group\n",
    "agg_data['recurrence_normalized'] = agg_data.groupby('species')['recurrence'].transform(lambda x: x / x.sum()) * 100\n",
    "\n",
    "# Convert 'species' column to categorical data\n",
    "agg_data['species'] = pd.Categorical(agg_data['species'], categories=agg_data['species'].unique(), ordered=True)\n",
    "\n",
    "# Get unique species names\n",
    "unique_species = agg_data['species'].unique()\n",
    "\n",
    "# Get unique chemical superclasses and sort them alphabetically\n",
    "unique_superclasses = sorted(agg_data['chemical_superclass'].unique())\n",
    "\n",
    "# Calculate total recurrence for each species\n",
    "total_recurrence_per_species = agg_data.groupby('species')['recurrence'].sum()\n",
    "\n",
    "# Create the stacked barplot with the custom color palette\n",
    "fig = px.bar(agg_data, y='species', x='recurrence_normalized',\n",
    "                title='Normalized Stacked Barplot of Predicted Superclasses Occurrence for Species',\n",
    "                labels={'recurrence_normalized': 'Recurrence'},\n",
    "                color='chemical_superclass',\n",
    "                color_discrete_map=color_map,\n",
    "                category_orders={'species': unique_species, 'chemical_superclass': unique_superclasses},\n",
    "                orientation='h')\n",
    "\n",
    "# Modify the y-axis label\n",
    "fig.update_yaxes(title_text='<i>Species<i>')\n",
    "\n",
    "# Set species labels in italics\n",
    "fig.update_layout(yaxis=dict(tickmode='array',\n",
    "                                tickvals=list(range(len(unique_species))),\n",
    "                                ticktext=[f'<i>{species}</i>' for species in unique_species]\n",
    "                                ))\n",
    "\n",
    "# Set a white background\n",
    "fig.update_layout(plot_bgcolor='white')\n",
    "\n",
    "# Get the maximum value of the x-axis\n",
    "max_x = agg_data['recurrence_normalized'].max()\n",
    "\n",
    "for species, total_recurrence in total_recurrence_per_species.items():\n",
    "    # Find the maximum recurrence for this species\n",
    "    max_recurrence = agg_data[agg_data['species'] == species]['recurrence_normalized'].max()\n",
    "\n",
    "    # Position the annotation at the end of the bar with a slight offset\n",
    "    x_position = max_x + 2\n",
    "    if x_position > 100:  # Ensure the label is not outside the plot area\n",
    "        x_position = 100  # Set it to 100 if it exceeds the maximum x-axis value\n",
    "\n",
    "    # Add annotation to the plot\n",
    "    fig.add_annotation(\n",
    "        x=x_position,\n",
    "        y=species,\n",
    "        text=f'Total compounds: {total_recurrence}',\n",
    "        showarrow=False,\n",
    "        font=dict(size=10, color='black'),\n",
    "        xanchor='left',\n",
    "        yanchor='middle'\n",
    "    )\n",
    "\n",
    "# Modify the size of the figure\n",
    "fig.update_layout(width=1500, height=1500)\n",
    "\n",
    "# Save the figure as an HTML file\n",
    "fig.write_html(f'{output_folder}Wikidata_superclass_barplot_species_normalized.html')\n",
    "\n",
    "# Show the figure\n",
    "fig.show()"
   ]
  },
  {
   "cell_type": "code",
   "execution_count": null,
   "metadata": {},
   "outputs": [],
   "source": [
    "heatmap_pathway_species(output_folder):\n",
    "    \"\"\"\n",
    "    Process data from .tsv files in the output folder and visualize it with a normalized stacked barplot.\n",
    "\n",
    "    Parameters:\n",
    "    output_folder (str): Path to the folder containing .tsv files.\n",
    "\n",
    "    Returns:\n",
    "    None\n",
    "    \"\"\"\n",
    "    # Step 1: Initialize an empty DataFrame to store all data\n",
    "    all_data = pd.DataFrame(columns=['organism_taxonomy_09species', 'structure_taxonomy_npclassifier_01pathway'])\n",
    "\n",
    "    # Step 2: Read data from all .tsv files in the output_folder\n",
    "    species_data_folder = os.path.join(output_folder)\n",
    "    for filename in os.listdir(species_data_folder):\n",
    "        if filename.endswith(\".tsv\"):\n",
    "            file_data = pd.read_csv(os.path.join(species_data_folder, filename), sep='\\t')\n",
    "            all_data = pd.concat([all_data, file_data])\n",
    "\n",
    "    # Step 3: Rename the \"queried_taxaLabel\" column to \"species\"\n",
    "    all_data.rename(columns={'organism_taxonomy_09species': 'species'}, inplace=True)\n",
    "    all_data.rename(columns={'structure_taxonomy_npclassifier_01pathway': 'Pathway'}, inplace=True)\n",
    "\n",
    "    # Remove 'API Error-API Error' and 'Not Classified-Not Classified'\n",
    "    all_data = all_data[(all_data['Pathway'] != 'API Error') & (all_data['Pathway'] != 'Not Classified')]\n",
    "\n",
    "    # Step 4: Group and aggregate data to calculate recurrence\n",
    "    agg_data = all_data.groupby(['species', 'Pathway']).size().reset_index(name='recurrence')\n",
    "\n",
    "    # Normalize the recurrence values within each species group\n",
    "    agg_data['recurrence_normalized'] = agg_data.groupby('species')['recurrence'].transform(lambda x: x / x.sum())*100\n",
    "\n",
    "    # Convert 'species' column to categorical data\n",
    "    agg_data['species'] = pd.Categorical(agg_data['species'], categories=agg_data['species'].unique(), ordered=True)\n",
    "\n",
    "    \n",
    "    # Create a DataFrame with all possible combinations of species and pathways\n",
    "    all_species = all_data['species'].unique()\n",
    "    all_pathways = all_data['Pathway'].unique()\n",
    "    all_combinations = pd.DataFrame([(species, pathway) for species in all_species for pathway in all_pathways],\n",
    "                                    columns=['species', 'Pathway'])\n",
    "\n",
    "    # Merge the all_combinations DataFrame with the aggregated data to include all species\n",
    "    merged_data = pd.merge(all_combinations, agg_data, on=['species', 'Pathway'], how='left')\n",
    "\n",
    "    # Fill missing values (NaN) with 0 for recurrence and recurrence_normalized columns\n",
    "    merged_data['recurrence'].fillna(0, inplace=True)\n",
    "    merged_data['recurrence_normalized'].fillna(0, inplace=True)\n",
    "\n",
    "    # Pivot the merged data to have 'species' as rows and 'Pathway' as columns\n",
    "    pivot_data = merged_data.pivot_table(index='species', columns='Pathway', values='recurrence_normalized', fill_value=0)\n",
    "\n",
    "    # Create the heatmap\n",
    "    fig = px.imshow(pivot_data,\n",
    "                    labels=dict(x=\"Pathway\", y=\"Species\", color=\"Normalized Recurrence\"),\n",
    "                    x=pivot_data.columns,\n",
    "                    y=pivot_data.index,\n",
    "                    color_continuous_scale='tealrose',  # You can choose any other color scale\n",
    "                    title='Heatmap of Normalized Recurrence of Pathways for Species')\n",
    "\n",
    "    # Modify the y-axis label\n",
    "    fig.update_yaxes(title_text='<i>Species<i>')\n",
    "\n",
    "    # Set species labels in italics\n",
    "    fig.update_layout(yaxis=dict(tickmode='array', \n",
    "                                tickvals=list(range(len(unique_species))), \n",
    "                                ticktext=[f'<i>{species}</i>' for species in unique_species]\n",
    "                                ))\n",
    "    # Modify the size of the figure\n",
    "    fig.update_layout(width=1500, height=1500)\n",
    "\n",
    "    # Save the figure as an HTML file\n",
    "    fig.write_html(f'{output_folder}Wikidata_pathway_heatmap_species_normalized.html')\n",
    "\n",
    "    # Show the figure\n",
    "    fig.show()"
   ]
  },
  {
   "cell_type": "markdown",
   "metadata": {},
   "source": [
    "Generate une plot by species (samples) and the Pathway"
   ]
  },
  {
   "cell_type": "code",
   "execution_count": 33,
   "metadata": {},
   "outputs": [
    {
     "name": "stderr",
     "output_type": "stream",
     "text": [
      "C:\\Users\\quirosgu\\AppData\\Local\\Temp\\ipykernel_11824\\522357952.py:20: FutureWarning:\n",
      "\n",
      "The behavior of DataFrame concatenation with empty or all-NA entries is deprecated. In a future version, this will no longer exclude empty or all-NA columns when determining the result dtypes. To retain the old behavior, exclude the relevant entries before the concat operation.\n",
      "\n",
      "C:\\Users\\quirosgu\\AppData\\Local\\Temp\\ipykernel_11824\\522357952.py:20: FutureWarning:\n",
      "\n",
      "The behavior of DataFrame concatenation with empty or all-NA entries is deprecated. In a future version, this will no longer exclude empty or all-NA columns when determining the result dtypes. To retain the old behavior, exclude the relevant entries before the concat operation.\n",
      "\n",
      "C:\\Users\\quirosgu\\AppData\\Local\\Temp\\ipykernel_11824\\522357952.py:20: FutureWarning:\n",
      "\n",
      "The behavior of DataFrame concatenation with empty or all-NA entries is deprecated. In a future version, this will no longer exclude empty or all-NA columns when determining the result dtypes. To retain the old behavior, exclude the relevant entries before the concat operation.\n",
      "\n",
      "C:\\Users\\quirosgu\\AppData\\Local\\Temp\\ipykernel_11824\\522357952.py:20: FutureWarning:\n",
      "\n",
      "The behavior of DataFrame concatenation with empty or all-NA entries is deprecated. In a future version, this will no longer exclude empty or all-NA columns when determining the result dtypes. To retain the old behavior, exclude the relevant entries before the concat operation.\n",
      "\n",
      "C:\\Users\\quirosgu\\AppData\\Local\\Temp\\ipykernel_11824\\522357952.py:20: FutureWarning:\n",
      "\n",
      "The behavior of DataFrame concatenation with empty or all-NA entries is deprecated. In a future version, this will no longer exclude empty or all-NA columns when determining the result dtypes. To retain the old behavior, exclude the relevant entries before the concat operation.\n",
      "\n",
      "C:\\Users\\quirosgu\\AppData\\Local\\Temp\\ipykernel_11824\\522357952.py:20: FutureWarning:\n",
      "\n",
      "The behavior of DataFrame concatenation with empty or all-NA entries is deprecated. In a future version, this will no longer exclude empty or all-NA columns when determining the result dtypes. To retain the old behavior, exclude the relevant entries before the concat operation.\n",
      "\n",
      "C:\\Users\\quirosgu\\AppData\\Local\\Temp\\ipykernel_11824\\522357952.py:20: FutureWarning:\n",
      "\n",
      "The behavior of DataFrame concatenation with empty or all-NA entries is deprecated. In a future version, this will no longer exclude empty or all-NA columns when determining the result dtypes. To retain the old behavior, exclude the relevant entries before the concat operation.\n",
      "\n",
      "C:\\Users\\quirosgu\\AppData\\Local\\Temp\\ipykernel_11824\\522357952.py:20: FutureWarning:\n",
      "\n",
      "The behavior of DataFrame concatenation with empty or all-NA entries is deprecated. In a future version, this will no longer exclude empty or all-NA columns when determining the result dtypes. To retain the old behavior, exclude the relevant entries before the concat operation.\n",
      "\n",
      "C:\\Users\\quirosgu\\AppData\\Local\\Temp\\ipykernel_11824\\522357952.py:20: FutureWarning:\n",
      "\n",
      "The behavior of DataFrame concatenation with empty or all-NA entries is deprecated. In a future version, this will no longer exclude empty or all-NA columns when determining the result dtypes. To retain the old behavior, exclude the relevant entries before the concat operation.\n",
      "\n",
      "C:\\Users\\quirosgu\\AppData\\Local\\Temp\\ipykernel_11824\\522357952.py:20: FutureWarning:\n",
      "\n",
      "The behavior of DataFrame concatenation with empty or all-NA entries is deprecated. In a future version, this will no longer exclude empty or all-NA columns when determining the result dtypes. To retain the old behavior, exclude the relevant entries before the concat operation.\n",
      "\n",
      "C:\\Users\\quirosgu\\AppData\\Local\\Temp\\ipykernel_11824\\522357952.py:20: FutureWarning:\n",
      "\n",
      "The behavior of DataFrame concatenation with empty or all-NA entries is deprecated. In a future version, this will no longer exclude empty or all-NA columns when determining the result dtypes. To retain the old behavior, exclude the relevant entries before the concat operation.\n",
      "\n",
      "C:\\Users\\quirosgu\\AppData\\Local\\Temp\\ipykernel_11824\\522357952.py:20: FutureWarning:\n",
      "\n",
      "The behavior of DataFrame concatenation with empty or all-NA entries is deprecated. In a future version, this will no longer exclude empty or all-NA columns when determining the result dtypes. To retain the old behavior, exclude the relevant entries before the concat operation.\n",
      "\n",
      "C:\\Users\\quirosgu\\AppData\\Local\\Temp\\ipykernel_11824\\522357952.py:20: FutureWarning:\n",
      "\n",
      "The behavior of DataFrame concatenation with empty or all-NA entries is deprecated. In a future version, this will no longer exclude empty or all-NA columns when determining the result dtypes. To retain the old behavior, exclude the relevant entries before the concat operation.\n",
      "\n",
      "C:\\Users\\quirosgu\\AppData\\Local\\Temp\\ipykernel_11824\\522357952.py:20: FutureWarning:\n",
      "\n",
      "The behavior of DataFrame concatenation with empty or all-NA entries is deprecated. In a future version, this will no longer exclude empty or all-NA columns when determining the result dtypes. To retain the old behavior, exclude the relevant entries before the concat operation.\n",
      "\n",
      "C:\\Users\\quirosgu\\AppData\\Local\\Temp\\ipykernel_11824\\522357952.py:20: FutureWarning:\n",
      "\n",
      "The behavior of DataFrame concatenation with empty or all-NA entries is deprecated. In a future version, this will no longer exclude empty or all-NA columns when determining the result dtypes. To retain the old behavior, exclude the relevant entries before the concat operation.\n",
      "\n",
      "C:\\Users\\quirosgu\\AppData\\Local\\Temp\\ipykernel_11824\\522357952.py:20: FutureWarning:\n",
      "\n",
      "The behavior of DataFrame concatenation with empty or all-NA entries is deprecated. In a future version, this will no longer exclude empty or all-NA columns when determining the result dtypes. To retain the old behavior, exclude the relevant entries before the concat operation.\n",
      "\n",
      "C:\\Users\\quirosgu\\AppData\\Local\\Temp\\ipykernel_11824\\522357952.py:20: FutureWarning:\n",
      "\n",
      "The behavior of DataFrame concatenation with empty or all-NA entries is deprecated. In a future version, this will no longer exclude empty or all-NA columns when determining the result dtypes. To retain the old behavior, exclude the relevant entries before the concat operation.\n",
      "\n",
      "C:\\Users\\quirosgu\\AppData\\Local\\Temp\\ipykernel_11824\\522357952.py:20: FutureWarning:\n",
      "\n",
      "The behavior of DataFrame concatenation with empty or all-NA entries is deprecated. In a future version, this will no longer exclude empty or all-NA columns when determining the result dtypes. To retain the old behavior, exclude the relevant entries before the concat operation.\n",
      "\n",
      "C:\\Users\\quirosgu\\AppData\\Local\\Temp\\ipykernel_11824\\522357952.py:20: FutureWarning:\n",
      "\n",
      "The behavior of DataFrame concatenation with empty or all-NA entries is deprecated. In a future version, this will no longer exclude empty or all-NA columns when determining the result dtypes. To retain the old behavior, exclude the relevant entries before the concat operation.\n",
      "\n",
      "C:\\Users\\quirosgu\\AppData\\Local\\Temp\\ipykernel_11824\\522357952.py:20: FutureWarning:\n",
      "\n",
      "The behavior of DataFrame concatenation with empty or all-NA entries is deprecated. In a future version, this will no longer exclude empty or all-NA columns when determining the result dtypes. To retain the old behavior, exclude the relevant entries before the concat operation.\n",
      "\n",
      "C:\\Users\\quirosgu\\AppData\\Local\\Temp\\ipykernel_11824\\522357952.py:20: FutureWarning:\n",
      "\n",
      "The behavior of DataFrame concatenation with empty or all-NA entries is deprecated. In a future version, this will no longer exclude empty or all-NA columns when determining the result dtypes. To retain the old behavior, exclude the relevant entries before the concat operation.\n",
      "\n",
      "C:\\Users\\quirosgu\\AppData\\Local\\Temp\\ipykernel_11824\\522357952.py:20: FutureWarning:\n",
      "\n",
      "The behavior of DataFrame concatenation with empty or all-NA entries is deprecated. In a future version, this will no longer exclude empty or all-NA columns when determining the result dtypes. To retain the old behavior, exclude the relevant entries before the concat operation.\n",
      "\n",
      "C:\\Users\\quirosgu\\AppData\\Local\\Temp\\ipykernel_11824\\522357952.py:20: FutureWarning:\n",
      "\n",
      "The behavior of DataFrame concatenation with empty or all-NA entries is deprecated. In a future version, this will no longer exclude empty or all-NA columns when determining the result dtypes. To retain the old behavior, exclude the relevant entries before the concat operation.\n",
      "\n",
      "C:\\Users\\quirosgu\\AppData\\Local\\Temp\\ipykernel_11824\\522357952.py:20: FutureWarning:\n",
      "\n",
      "The behavior of DataFrame concatenation with empty or all-NA entries is deprecated. In a future version, this will no longer exclude empty or all-NA columns when determining the result dtypes. To retain the old behavior, exclude the relevant entries before the concat operation.\n",
      "\n",
      "C:\\Users\\quirosgu\\AppData\\Local\\Temp\\ipykernel_11824\\522357952.py:20: FutureWarning:\n",
      "\n",
      "The behavior of DataFrame concatenation with empty or all-NA entries is deprecated. In a future version, this will no longer exclude empty or all-NA columns when determining the result dtypes. To retain the old behavior, exclude the relevant entries before the concat operation.\n",
      "\n",
      "C:\\Users\\quirosgu\\AppData\\Local\\Temp\\ipykernel_11824\\522357952.py:20: FutureWarning:\n",
      "\n",
      "The behavior of DataFrame concatenation with empty or all-NA entries is deprecated. In a future version, this will no longer exclude empty or all-NA columns when determining the result dtypes. To retain the old behavior, exclude the relevant entries before the concat operation.\n",
      "\n",
      "C:\\Users\\quirosgu\\AppData\\Local\\Temp\\ipykernel_11824\\522357952.py:20: FutureWarning:\n",
      "\n",
      "The behavior of DataFrame concatenation with empty or all-NA entries is deprecated. In a future version, this will no longer exclude empty or all-NA columns when determining the result dtypes. To retain the old behavior, exclude the relevant entries before the concat operation.\n",
      "\n",
      "C:\\Users\\quirosgu\\AppData\\Local\\Temp\\ipykernel_11824\\522357952.py:20: FutureWarning:\n",
      "\n",
      "The behavior of DataFrame concatenation with empty or all-NA entries is deprecated. In a future version, this will no longer exclude empty or all-NA columns when determining the result dtypes. To retain the old behavior, exclude the relevant entries before the concat operation.\n",
      "\n",
      "C:\\Users\\quirosgu\\AppData\\Local\\Temp\\ipykernel_11824\\522357952.py:20: FutureWarning:\n",
      "\n",
      "The behavior of DataFrame concatenation with empty or all-NA entries is deprecated. In a future version, this will no longer exclude empty or all-NA columns when determining the result dtypes. To retain the old behavior, exclude the relevant entries before the concat operation.\n",
      "\n",
      "C:\\Users\\quirosgu\\AppData\\Local\\Temp\\ipykernel_11824\\522357952.py:20: FutureWarning:\n",
      "\n",
      "The behavior of DataFrame concatenation with empty or all-NA entries is deprecated. In a future version, this will no longer exclude empty or all-NA columns when determining the result dtypes. To retain the old behavior, exclude the relevant entries before the concat operation.\n",
      "\n",
      "C:\\Users\\quirosgu\\AppData\\Local\\Temp\\ipykernel_11824\\522357952.py:20: FutureWarning:\n",
      "\n",
      "The behavior of DataFrame concatenation with empty or all-NA entries is deprecated. In a future version, this will no longer exclude empty or all-NA columns when determining the result dtypes. To retain the old behavior, exclude the relevant entries before the concat operation.\n",
      "\n",
      "C:\\Users\\quirosgu\\AppData\\Local\\Temp\\ipykernel_11824\\522357952.py:20: FutureWarning:\n",
      "\n",
      "The behavior of DataFrame concatenation with empty or all-NA entries is deprecated. In a future version, this will no longer exclude empty or all-NA columns when determining the result dtypes. To retain the old behavior, exclude the relevant entries before the concat operation.\n",
      "\n",
      "C:\\Users\\quirosgu\\AppData\\Local\\Temp\\ipykernel_11824\\522357952.py:20: FutureWarning:\n",
      "\n",
      "The behavior of DataFrame concatenation with empty or all-NA entries is deprecated. In a future version, this will no longer exclude empty or all-NA columns when determining the result dtypes. To retain the old behavior, exclude the relevant entries before the concat operation.\n",
      "\n",
      "C:\\Users\\quirosgu\\AppData\\Local\\Temp\\ipykernel_11824\\522357952.py:20: FutureWarning:\n",
      "\n",
      "The behavior of DataFrame concatenation with empty or all-NA entries is deprecated. In a future version, this will no longer exclude empty or all-NA columns when determining the result dtypes. To retain the old behavior, exclude the relevant entries before the concat operation.\n",
      "\n",
      "C:\\Users\\quirosgu\\AppData\\Local\\Temp\\ipykernel_11824\\522357952.py:20: FutureWarning:\n",
      "\n",
      "The behavior of DataFrame concatenation with empty or all-NA entries is deprecated. In a future version, this will no longer exclude empty or all-NA columns when determining the result dtypes. To retain the old behavior, exclude the relevant entries before the concat operation.\n",
      "\n",
      "C:\\Users\\quirosgu\\AppData\\Local\\Temp\\ipykernel_11824\\522357952.py:20: FutureWarning:\n",
      "\n",
      "The behavior of DataFrame concatenation with empty or all-NA entries is deprecated. In a future version, this will no longer exclude empty or all-NA columns when determining the result dtypes. To retain the old behavior, exclude the relevant entries before the concat operation.\n",
      "\n",
      "C:\\Users\\quirosgu\\AppData\\Local\\Temp\\ipykernel_11824\\522357952.py:20: FutureWarning:\n",
      "\n",
      "The behavior of DataFrame concatenation with empty or all-NA entries is deprecated. In a future version, this will no longer exclude empty or all-NA columns when determining the result dtypes. To retain the old behavior, exclude the relevant entries before the concat operation.\n",
      "\n",
      "C:\\Users\\quirosgu\\AppData\\Local\\Temp\\ipykernel_11824\\522357952.py:20: FutureWarning:\n",
      "\n",
      "The behavior of DataFrame concatenation with empty or all-NA entries is deprecated. In a future version, this will no longer exclude empty or all-NA columns when determining the result dtypes. To retain the old behavior, exclude the relevant entries before the concat operation.\n",
      "\n",
      "C:\\Users\\quirosgu\\AppData\\Local\\Temp\\ipykernel_11824\\522357952.py:20: FutureWarning:\n",
      "\n",
      "The behavior of DataFrame concatenation with empty or all-NA entries is deprecated. In a future version, this will no longer exclude empty or all-NA columns when determining the result dtypes. To retain the old behavior, exclude the relevant entries before the concat operation.\n",
      "\n",
      "C:\\Users\\quirosgu\\AppData\\Local\\Temp\\ipykernel_11824\\522357952.py:20: FutureWarning:\n",
      "\n",
      "The behavior of DataFrame concatenation with empty or all-NA entries is deprecated. In a future version, this will no longer exclude empty or all-NA columns when determining the result dtypes. To retain the old behavior, exclude the relevant entries before the concat operation.\n",
      "\n",
      "C:\\Users\\quirosgu\\AppData\\Local\\Temp\\ipykernel_11824\\522357952.py:20: FutureWarning:\n",
      "\n",
      "The behavior of DataFrame concatenation with empty or all-NA entries is deprecated. In a future version, this will no longer exclude empty or all-NA columns when determining the result dtypes. To retain the old behavior, exclude the relevant entries before the concat operation.\n",
      "\n",
      "C:\\Users\\quirosgu\\AppData\\Local\\Temp\\ipykernel_11824\\522357952.py:20: FutureWarning:\n",
      "\n",
      "The behavior of DataFrame concatenation with empty or all-NA entries is deprecated. In a future version, this will no longer exclude empty or all-NA columns when determining the result dtypes. To retain the old behavior, exclude the relevant entries before the concat operation.\n",
      "\n",
      "C:\\Users\\quirosgu\\AppData\\Local\\Temp\\ipykernel_11824\\522357952.py:20: FutureWarning:\n",
      "\n",
      "The behavior of DataFrame concatenation with empty or all-NA entries is deprecated. In a future version, this will no longer exclude empty or all-NA columns when determining the result dtypes. To retain the old behavior, exclude the relevant entries before the concat operation.\n",
      "\n",
      "C:\\Users\\quirosgu\\AppData\\Local\\Temp\\ipykernel_11824\\522357952.py:20: FutureWarning:\n",
      "\n",
      "The behavior of DataFrame concatenation with empty or all-NA entries is deprecated. In a future version, this will no longer exclude empty or all-NA columns when determining the result dtypes. To retain the old behavior, exclude the relevant entries before the concat operation.\n",
      "\n",
      "C:\\Users\\quirosgu\\AppData\\Local\\Temp\\ipykernel_11824\\522357952.py:20: FutureWarning:\n",
      "\n",
      "The behavior of DataFrame concatenation with empty or all-NA entries is deprecated. In a future version, this will no longer exclude empty or all-NA columns when determining the result dtypes. To retain the old behavior, exclude the relevant entries before the concat operation.\n",
      "\n",
      "C:\\Users\\quirosgu\\AppData\\Local\\Temp\\ipykernel_11824\\522357952.py:20: FutureWarning:\n",
      "\n",
      "The behavior of DataFrame concatenation with empty or all-NA entries is deprecated. In a future version, this will no longer exclude empty or all-NA columns when determining the result dtypes. To retain the old behavior, exclude the relevant entries before the concat operation.\n",
      "\n",
      "C:\\Users\\quirosgu\\AppData\\Local\\Temp\\ipykernel_11824\\522357952.py:20: FutureWarning:\n",
      "\n",
      "The behavior of DataFrame concatenation with empty or all-NA entries is deprecated. In a future version, this will no longer exclude empty or all-NA columns when determining the result dtypes. To retain the old behavior, exclude the relevant entries before the concat operation.\n",
      "\n",
      "C:\\Users\\quirosgu\\AppData\\Local\\Temp\\ipykernel_11824\\522357952.py:20: FutureWarning:\n",
      "\n",
      "The behavior of DataFrame concatenation with empty or all-NA entries is deprecated. In a future version, this will no longer exclude empty or all-NA columns when determining the result dtypes. To retain the old behavior, exclude the relevant entries before the concat operation.\n",
      "\n",
      "C:\\Users\\quirosgu\\AppData\\Local\\Temp\\ipykernel_11824\\522357952.py:20: FutureWarning:\n",
      "\n",
      "The behavior of DataFrame concatenation with empty or all-NA entries is deprecated. In a future version, this will no longer exclude empty or all-NA columns when determining the result dtypes. To retain the old behavior, exclude the relevant entries before the concat operation.\n",
      "\n",
      "C:\\Users\\quirosgu\\AppData\\Local\\Temp\\ipykernel_11824\\522357952.py:20: FutureWarning:\n",
      "\n",
      "The behavior of DataFrame concatenation with empty or all-NA entries is deprecated. In a future version, this will no longer exclude empty or all-NA columns when determining the result dtypes. To retain the old behavior, exclude the relevant entries before the concat operation.\n",
      "\n",
      "C:\\Users\\quirosgu\\AppData\\Local\\Temp\\ipykernel_11824\\522357952.py:20: FutureWarning:\n",
      "\n",
      "The behavior of DataFrame concatenation with empty or all-NA entries is deprecated. In a future version, this will no longer exclude empty or all-NA columns when determining the result dtypes. To retain the old behavior, exclude the relevant entries before the concat operation.\n",
      "\n",
      "C:\\Users\\quirosgu\\AppData\\Local\\Temp\\ipykernel_11824\\522357952.py:20: FutureWarning:\n",
      "\n",
      "The behavior of DataFrame concatenation with empty or all-NA entries is deprecated. In a future version, this will no longer exclude empty or all-NA columns when determining the result dtypes. To retain the old behavior, exclude the relevant entries before the concat operation.\n",
      "\n",
      "C:\\Users\\quirosgu\\AppData\\Local\\Temp\\ipykernel_11824\\522357952.py:20: FutureWarning:\n",
      "\n",
      "The behavior of DataFrame concatenation with empty or all-NA entries is deprecated. In a future version, this will no longer exclude empty or all-NA columns when determining the result dtypes. To retain the old behavior, exclude the relevant entries before the concat operation.\n",
      "\n",
      "C:\\Users\\quirosgu\\AppData\\Local\\Temp\\ipykernel_11824\\522357952.py:20: FutureWarning:\n",
      "\n",
      "The behavior of DataFrame concatenation with empty or all-NA entries is deprecated. In a future version, this will no longer exclude empty or all-NA columns when determining the result dtypes. To retain the old behavior, exclude the relevant entries before the concat operation.\n",
      "\n",
      "C:\\Users\\quirosgu\\AppData\\Local\\Temp\\ipykernel_11824\\522357952.py:20: FutureWarning:\n",
      "\n",
      "The behavior of DataFrame concatenation with empty or all-NA entries is deprecated. In a future version, this will no longer exclude empty or all-NA columns when determining the result dtypes. To retain the old behavior, exclude the relevant entries before the concat operation.\n",
      "\n",
      "C:\\Users\\quirosgu\\AppData\\Local\\Temp\\ipykernel_11824\\522357952.py:20: FutureWarning:\n",
      "\n",
      "The behavior of DataFrame concatenation with empty or all-NA entries is deprecated. In a future version, this will no longer exclude empty or all-NA columns when determining the result dtypes. To retain the old behavior, exclude the relevant entries before the concat operation.\n",
      "\n",
      "C:\\Users\\quirosgu\\AppData\\Local\\Temp\\ipykernel_11824\\522357952.py:20: FutureWarning:\n",
      "\n",
      "The behavior of DataFrame concatenation with empty or all-NA entries is deprecated. In a future version, this will no longer exclude empty or all-NA columns when determining the result dtypes. To retain the old behavior, exclude the relevant entries before the concat operation.\n",
      "\n",
      "C:\\Users\\quirosgu\\AppData\\Local\\Temp\\ipykernel_11824\\522357952.py:20: FutureWarning:\n",
      "\n",
      "The behavior of DataFrame concatenation with empty or all-NA entries is deprecated. In a future version, this will no longer exclude empty or all-NA columns when determining the result dtypes. To retain the old behavior, exclude the relevant entries before the concat operation.\n",
      "\n",
      "C:\\Users\\quirosgu\\AppData\\Local\\Temp\\ipykernel_11824\\522357952.py:20: FutureWarning:\n",
      "\n",
      "The behavior of DataFrame concatenation with empty or all-NA entries is deprecated. In a future version, this will no longer exclude empty or all-NA columns when determining the result dtypes. To retain the old behavior, exclude the relevant entries before the concat operation.\n",
      "\n",
      "C:\\Users\\quirosgu\\AppData\\Local\\Temp\\ipykernel_11824\\522357952.py:20: FutureWarning:\n",
      "\n",
      "The behavior of DataFrame concatenation with empty or all-NA entries is deprecated. In a future version, this will no longer exclude empty or all-NA columns when determining the result dtypes. To retain the old behavior, exclude the relevant entries before the concat operation.\n",
      "\n",
      "C:\\Users\\quirosgu\\AppData\\Local\\Temp\\ipykernel_11824\\522357952.py:20: FutureWarning:\n",
      "\n",
      "The behavior of DataFrame concatenation with empty or all-NA entries is deprecated. In a future version, this will no longer exclude empty or all-NA columns when determining the result dtypes. To retain the old behavior, exclude the relevant entries before the concat operation.\n",
      "\n",
      "C:\\Users\\quirosgu\\AppData\\Local\\Temp\\ipykernel_11824\\522357952.py:20: FutureWarning:\n",
      "\n",
      "The behavior of DataFrame concatenation with empty or all-NA entries is deprecated. In a future version, this will no longer exclude empty or all-NA columns when determining the result dtypes. To retain the old behavior, exclude the relevant entries before the concat operation.\n",
      "\n",
      "C:\\Users\\quirosgu\\AppData\\Local\\Temp\\ipykernel_11824\\522357952.py:20: FutureWarning:\n",
      "\n",
      "The behavior of DataFrame concatenation with empty or all-NA entries is deprecated. In a future version, this will no longer exclude empty or all-NA columns when determining the result dtypes. To retain the old behavior, exclude the relevant entries before the concat operation.\n",
      "\n",
      "C:\\Users\\quirosgu\\AppData\\Local\\Temp\\ipykernel_11824\\522357952.py:20: FutureWarning:\n",
      "\n",
      "The behavior of DataFrame concatenation with empty or all-NA entries is deprecated. In a future version, this will no longer exclude empty or all-NA columns when determining the result dtypes. To retain the old behavior, exclude the relevant entries before the concat operation.\n",
      "\n",
      "C:\\Users\\quirosgu\\AppData\\Local\\Temp\\ipykernel_11824\\522357952.py:20: FutureWarning:\n",
      "\n",
      "The behavior of DataFrame concatenation with empty or all-NA entries is deprecated. In a future version, this will no longer exclude empty or all-NA columns when determining the result dtypes. To retain the old behavior, exclude the relevant entries before the concat operation.\n",
      "\n",
      "C:\\Users\\quirosgu\\AppData\\Local\\Temp\\ipykernel_11824\\522357952.py:20: FutureWarning:\n",
      "\n",
      "The behavior of DataFrame concatenation with empty or all-NA entries is deprecated. In a future version, this will no longer exclude empty or all-NA columns when determining the result dtypes. To retain the old behavior, exclude the relevant entries before the concat operation.\n",
      "\n",
      "C:\\Users\\quirosgu\\AppData\\Local\\Temp\\ipykernel_11824\\522357952.py:20: FutureWarning:\n",
      "\n",
      "The behavior of DataFrame concatenation with empty or all-NA entries is deprecated. In a future version, this will no longer exclude empty or all-NA columns when determining the result dtypes. To retain the old behavior, exclude the relevant entries before the concat operation.\n",
      "\n",
      "C:\\Users\\quirosgu\\AppData\\Local\\Temp\\ipykernel_11824\\522357952.py:20: FutureWarning:\n",
      "\n",
      "The behavior of DataFrame concatenation with empty or all-NA entries is deprecated. In a future version, this will no longer exclude empty or all-NA columns when determining the result dtypes. To retain the old behavior, exclude the relevant entries before the concat operation.\n",
      "\n",
      "C:\\Users\\quirosgu\\AppData\\Local\\Temp\\ipykernel_11824\\522357952.py:20: FutureWarning:\n",
      "\n",
      "The behavior of DataFrame concatenation with empty or all-NA entries is deprecated. In a future version, this will no longer exclude empty or all-NA columns when determining the result dtypes. To retain the old behavior, exclude the relevant entries before the concat operation.\n",
      "\n",
      "C:\\Users\\quirosgu\\AppData\\Local\\Temp\\ipykernel_11824\\522357952.py:20: FutureWarning:\n",
      "\n",
      "The behavior of DataFrame concatenation with empty or all-NA entries is deprecated. In a future version, this will no longer exclude empty or all-NA columns when determining the result dtypes. To retain the old behavior, exclude the relevant entries before the concat operation.\n",
      "\n",
      "C:\\Users\\quirosgu\\AppData\\Local\\Temp\\ipykernel_11824\\522357952.py:20: FutureWarning:\n",
      "\n",
      "The behavior of DataFrame concatenation with empty or all-NA entries is deprecated. In a future version, this will no longer exclude empty or all-NA columns when determining the result dtypes. To retain the old behavior, exclude the relevant entries before the concat operation.\n",
      "\n",
      "C:\\Users\\quirosgu\\AppData\\Local\\Temp\\ipykernel_11824\\522357952.py:20: FutureWarning:\n",
      "\n",
      "The behavior of DataFrame concatenation with empty or all-NA entries is deprecated. In a future version, this will no longer exclude empty or all-NA columns when determining the result dtypes. To retain the old behavior, exclude the relevant entries before the concat operation.\n",
      "\n",
      "C:\\Users\\quirosgu\\AppData\\Local\\Temp\\ipykernel_11824\\522357952.py:20: FutureWarning:\n",
      "\n",
      "The behavior of DataFrame concatenation with empty or all-NA entries is deprecated. In a future version, this will no longer exclude empty or all-NA columns when determining the result dtypes. To retain the old behavior, exclude the relevant entries before the concat operation.\n",
      "\n",
      "C:\\Users\\quirosgu\\AppData\\Local\\Temp\\ipykernel_11824\\522357952.py:20: FutureWarning:\n",
      "\n",
      "The behavior of DataFrame concatenation with empty or all-NA entries is deprecated. In a future version, this will no longer exclude empty or all-NA columns when determining the result dtypes. To retain the old behavior, exclude the relevant entries before the concat operation.\n",
      "\n",
      "C:\\Users\\quirosgu\\AppData\\Local\\Temp\\ipykernel_11824\\522357952.py:20: FutureWarning:\n",
      "\n",
      "The behavior of DataFrame concatenation with empty or all-NA entries is deprecated. In a future version, this will no longer exclude empty or all-NA columns when determining the result dtypes. To retain the old behavior, exclude the relevant entries before the concat operation.\n",
      "\n",
      "C:\\Users\\quirosgu\\AppData\\Local\\Temp\\ipykernel_11824\\522357952.py:20: FutureWarning:\n",
      "\n",
      "The behavior of DataFrame concatenation with empty or all-NA entries is deprecated. In a future version, this will no longer exclude empty or all-NA columns when determining the result dtypes. To retain the old behavior, exclude the relevant entries before the concat operation.\n",
      "\n",
      "C:\\Users\\quirosgu\\AppData\\Local\\Temp\\ipykernel_11824\\522357952.py:20: FutureWarning:\n",
      "\n",
      "The behavior of DataFrame concatenation with empty or all-NA entries is deprecated. In a future version, this will no longer exclude empty or all-NA columns when determining the result dtypes. To retain the old behavior, exclude the relevant entries before the concat operation.\n",
      "\n",
      "C:\\Users\\quirosgu\\AppData\\Local\\Temp\\ipykernel_11824\\522357952.py:20: FutureWarning:\n",
      "\n",
      "The behavior of DataFrame concatenation with empty or all-NA entries is deprecated. In a future version, this will no longer exclude empty or all-NA columns when determining the result dtypes. To retain the old behavior, exclude the relevant entries before the concat operation.\n",
      "\n",
      "C:\\Users\\quirosgu\\AppData\\Local\\Temp\\ipykernel_11824\\522357952.py:20: FutureWarning:\n",
      "\n",
      "The behavior of DataFrame concatenation with empty or all-NA entries is deprecated. In a future version, this will no longer exclude empty or all-NA columns when determining the result dtypes. To retain the old behavior, exclude the relevant entries before the concat operation.\n",
      "\n",
      "C:\\Users\\quirosgu\\AppData\\Local\\Temp\\ipykernel_11824\\522357952.py:20: FutureWarning:\n",
      "\n",
      "The behavior of DataFrame concatenation with empty or all-NA entries is deprecated. In a future version, this will no longer exclude empty or all-NA columns when determining the result dtypes. To retain the old behavior, exclude the relevant entries before the concat operation.\n",
      "\n",
      "C:\\Users\\quirosgu\\AppData\\Local\\Temp\\ipykernel_11824\\522357952.py:20: FutureWarning:\n",
      "\n",
      "The behavior of DataFrame concatenation with empty or all-NA entries is deprecated. In a future version, this will no longer exclude empty or all-NA columns when determining the result dtypes. To retain the old behavior, exclude the relevant entries before the concat operation.\n",
      "\n",
      "C:\\Users\\quirosgu\\AppData\\Local\\Temp\\ipykernel_11824\\522357952.py:20: FutureWarning:\n",
      "\n",
      "The behavior of DataFrame concatenation with empty or all-NA entries is deprecated. In a future version, this will no longer exclude empty or all-NA columns when determining the result dtypes. To retain the old behavior, exclude the relevant entries before the concat operation.\n",
      "\n",
      "C:\\Users\\quirosgu\\AppData\\Local\\Temp\\ipykernel_11824\\522357952.py:20: FutureWarning:\n",
      "\n",
      "The behavior of DataFrame concatenation with empty or all-NA entries is deprecated. In a future version, this will no longer exclude empty or all-NA columns when determining the result dtypes. To retain the old behavior, exclude the relevant entries before the concat operation.\n",
      "\n",
      "C:\\Users\\quirosgu\\AppData\\Local\\Temp\\ipykernel_11824\\522357952.py:20: FutureWarning:\n",
      "\n",
      "The behavior of DataFrame concatenation with empty or all-NA entries is deprecated. In a future version, this will no longer exclude empty or all-NA columns when determining the result dtypes. To retain the old behavior, exclude the relevant entries before the concat operation.\n",
      "\n",
      "C:\\Users\\quirosgu\\AppData\\Local\\Temp\\ipykernel_11824\\522357952.py:20: FutureWarning:\n",
      "\n",
      "The behavior of DataFrame concatenation with empty or all-NA entries is deprecated. In a future version, this will no longer exclude empty or all-NA columns when determining the result dtypes. To retain the old behavior, exclude the relevant entries before the concat operation.\n",
      "\n",
      "C:\\Users\\quirosgu\\AppData\\Local\\Temp\\ipykernel_11824\\522357952.py:20: FutureWarning:\n",
      "\n",
      "The behavior of DataFrame concatenation with empty or all-NA entries is deprecated. In a future version, this will no longer exclude empty or all-NA columns when determining the result dtypes. To retain the old behavior, exclude the relevant entries before the concat operation.\n",
      "\n",
      "C:\\Users\\quirosgu\\AppData\\Local\\Temp\\ipykernel_11824\\522357952.py:20: FutureWarning:\n",
      "\n",
      "The behavior of DataFrame concatenation with empty or all-NA entries is deprecated. In a future version, this will no longer exclude empty or all-NA columns when determining the result dtypes. To retain the old behavior, exclude the relevant entries before the concat operation.\n",
      "\n",
      "C:\\Users\\quirosgu\\AppData\\Local\\Temp\\ipykernel_11824\\522357952.py:20: FutureWarning:\n",
      "\n",
      "The behavior of DataFrame concatenation with empty or all-NA entries is deprecated. In a future version, this will no longer exclude empty or all-NA columns when determining the result dtypes. To retain the old behavior, exclude the relevant entries before the concat operation.\n",
      "\n",
      "C:\\Users\\quirosgu\\AppData\\Local\\Temp\\ipykernel_11824\\522357952.py:20: FutureWarning:\n",
      "\n",
      "The behavior of DataFrame concatenation with empty or all-NA entries is deprecated. In a future version, this will no longer exclude empty or all-NA columns when determining the result dtypes. To retain the old behavior, exclude the relevant entries before the concat operation.\n",
      "\n",
      "C:\\Users\\quirosgu\\AppData\\Local\\Temp\\ipykernel_11824\\522357952.py:20: FutureWarning:\n",
      "\n",
      "The behavior of DataFrame concatenation with empty or all-NA entries is deprecated. In a future version, this will no longer exclude empty or all-NA columns when determining the result dtypes. To retain the old behavior, exclude the relevant entries before the concat operation.\n",
      "\n",
      "C:\\Users\\quirosgu\\AppData\\Local\\Temp\\ipykernel_11824\\522357952.py:20: FutureWarning:\n",
      "\n",
      "The behavior of DataFrame concatenation with empty or all-NA entries is deprecated. In a future version, this will no longer exclude empty or all-NA columns when determining the result dtypes. To retain the old behavior, exclude the relevant entries before the concat operation.\n",
      "\n",
      "C:\\Users\\quirosgu\\AppData\\Local\\Temp\\ipykernel_11824\\522357952.py:20: FutureWarning:\n",
      "\n",
      "The behavior of DataFrame concatenation with empty or all-NA entries is deprecated. In a future version, this will no longer exclude empty or all-NA columns when determining the result dtypes. To retain the old behavior, exclude the relevant entries before the concat operation.\n",
      "\n",
      "C:\\Users\\quirosgu\\AppData\\Local\\Temp\\ipykernel_11824\\522357952.py:20: FutureWarning:\n",
      "\n",
      "The behavior of DataFrame concatenation with empty or all-NA entries is deprecated. In a future version, this will no longer exclude empty or all-NA columns when determining the result dtypes. To retain the old behavior, exclude the relevant entries before the concat operation.\n",
      "\n",
      "C:\\Users\\quirosgu\\AppData\\Local\\Temp\\ipykernel_11824\\522357952.py:20: FutureWarning:\n",
      "\n",
      "The behavior of DataFrame concatenation with empty or all-NA entries is deprecated. In a future version, this will no longer exclude empty or all-NA columns when determining the result dtypes. To retain the old behavior, exclude the relevant entries before the concat operation.\n",
      "\n",
      "C:\\Users\\quirosgu\\AppData\\Local\\Temp\\ipykernel_11824\\522357952.py:20: FutureWarning:\n",
      "\n",
      "The behavior of DataFrame concatenation with empty or all-NA entries is deprecated. In a future version, this will no longer exclude empty or all-NA columns when determining the result dtypes. To retain the old behavior, exclude the relevant entries before the concat operation.\n",
      "\n",
      "C:\\Users\\quirosgu\\AppData\\Local\\Temp\\ipykernel_11824\\522357952.py:20: FutureWarning:\n",
      "\n",
      "The behavior of DataFrame concatenation with empty or all-NA entries is deprecated. In a future version, this will no longer exclude empty or all-NA columns when determining the result dtypes. To retain the old behavior, exclude the relevant entries before the concat operation.\n",
      "\n",
      "C:\\Users\\quirosgu\\AppData\\Local\\Temp\\ipykernel_11824\\522357952.py:20: FutureWarning:\n",
      "\n",
      "The behavior of DataFrame concatenation with empty or all-NA entries is deprecated. In a future version, this will no longer exclude empty or all-NA columns when determining the result dtypes. To retain the old behavior, exclude the relevant entries before the concat operation.\n",
      "\n",
      "C:\\Users\\quirosgu\\AppData\\Local\\Temp\\ipykernel_11824\\522357952.py:20: FutureWarning:\n",
      "\n",
      "The behavior of DataFrame concatenation with empty or all-NA entries is deprecated. In a future version, this will no longer exclude empty or all-NA columns when determining the result dtypes. To retain the old behavior, exclude the relevant entries before the concat operation.\n",
      "\n",
      "C:\\Users\\quirosgu\\AppData\\Local\\Temp\\ipykernel_11824\\522357952.py:20: FutureWarning:\n",
      "\n",
      "The behavior of DataFrame concatenation with empty or all-NA entries is deprecated. In a future version, this will no longer exclude empty or all-NA columns when determining the result dtypes. To retain the old behavior, exclude the relevant entries before the concat operation.\n",
      "\n",
      "C:\\Users\\quirosgu\\AppData\\Local\\Temp\\ipykernel_11824\\522357952.py:20: FutureWarning:\n",
      "\n",
      "The behavior of DataFrame concatenation with empty or all-NA entries is deprecated. In a future version, this will no longer exclude empty or all-NA columns when determining the result dtypes. To retain the old behavior, exclude the relevant entries before the concat operation.\n",
      "\n",
      "C:\\Users\\quirosgu\\AppData\\Local\\Temp\\ipykernel_11824\\522357952.py:20: FutureWarning:\n",
      "\n",
      "The behavior of DataFrame concatenation with empty or all-NA entries is deprecated. In a future version, this will no longer exclude empty or all-NA columns when determining the result dtypes. To retain the old behavior, exclude the relevant entries before the concat operation.\n",
      "\n",
      "C:\\Users\\quirosgu\\AppData\\Local\\Temp\\ipykernel_11824\\522357952.py:20: FutureWarning:\n",
      "\n",
      "The behavior of DataFrame concatenation with empty or all-NA entries is deprecated. In a future version, this will no longer exclude empty or all-NA columns when determining the result dtypes. To retain the old behavior, exclude the relevant entries before the concat operation.\n",
      "\n",
      "C:\\Users\\quirosgu\\AppData\\Local\\Temp\\ipykernel_11824\\522357952.py:20: FutureWarning:\n",
      "\n",
      "The behavior of DataFrame concatenation with empty or all-NA entries is deprecated. In a future version, this will no longer exclude empty or all-NA columns when determining the result dtypes. To retain the old behavior, exclude the relevant entries before the concat operation.\n",
      "\n",
      "C:\\Users\\quirosgu\\AppData\\Local\\Temp\\ipykernel_11824\\522357952.py:20: FutureWarning:\n",
      "\n",
      "The behavior of DataFrame concatenation with empty or all-NA entries is deprecated. In a future version, this will no longer exclude empty or all-NA columns when determining the result dtypes. To retain the old behavior, exclude the relevant entries before the concat operation.\n",
      "\n",
      "C:\\Users\\quirosgu\\AppData\\Local\\Temp\\ipykernel_11824\\522357952.py:20: FutureWarning:\n",
      "\n",
      "The behavior of DataFrame concatenation with empty or all-NA entries is deprecated. In a future version, this will no longer exclude empty or all-NA columns when determining the result dtypes. To retain the old behavior, exclude the relevant entries before the concat operation.\n",
      "\n",
      "C:\\Users\\quirosgu\\AppData\\Local\\Temp\\ipykernel_11824\\522357952.py:20: FutureWarning:\n",
      "\n",
      "The behavior of DataFrame concatenation with empty or all-NA entries is deprecated. In a future version, this will no longer exclude empty or all-NA columns when determining the result dtypes. To retain the old behavior, exclude the relevant entries before the concat operation.\n",
      "\n",
      "C:\\Users\\quirosgu\\AppData\\Local\\Temp\\ipykernel_11824\\522357952.py:20: FutureWarning:\n",
      "\n",
      "The behavior of DataFrame concatenation with empty or all-NA entries is deprecated. In a future version, this will no longer exclude empty or all-NA columns when determining the result dtypes. To retain the old behavior, exclude the relevant entries before the concat operation.\n",
      "\n",
      "C:\\Users\\quirosgu\\AppData\\Local\\Temp\\ipykernel_11824\\522357952.py:20: FutureWarning:\n",
      "\n",
      "The behavior of DataFrame concatenation with empty or all-NA entries is deprecated. In a future version, this will no longer exclude empty or all-NA columns when determining the result dtypes. To retain the old behavior, exclude the relevant entries before the concat operation.\n",
      "\n",
      "C:\\Users\\quirosgu\\AppData\\Local\\Temp\\ipykernel_11824\\522357952.py:20: FutureWarning:\n",
      "\n",
      "The behavior of DataFrame concatenation with empty or all-NA entries is deprecated. In a future version, this will no longer exclude empty or all-NA columns when determining the result dtypes. To retain the old behavior, exclude the relevant entries before the concat operation.\n",
      "\n",
      "C:\\Users\\quirosgu\\AppData\\Local\\Temp\\ipykernel_11824\\522357952.py:20: FutureWarning:\n",
      "\n",
      "The behavior of DataFrame concatenation with empty or all-NA entries is deprecated. In a future version, this will no longer exclude empty or all-NA columns when determining the result dtypes. To retain the old behavior, exclude the relevant entries before the concat operation.\n",
      "\n",
      "C:\\Users\\quirosgu\\AppData\\Local\\Temp\\ipykernel_11824\\522357952.py:20: FutureWarning:\n",
      "\n",
      "The behavior of DataFrame concatenation with empty or all-NA entries is deprecated. In a future version, this will no longer exclude empty or all-NA columns when determining the result dtypes. To retain the old behavior, exclude the relevant entries before the concat operation.\n",
      "\n",
      "C:\\Users\\quirosgu\\AppData\\Local\\Temp\\ipykernel_11824\\522357952.py:20: FutureWarning:\n",
      "\n",
      "The behavior of DataFrame concatenation with empty or all-NA entries is deprecated. In a future version, this will no longer exclude empty or all-NA columns when determining the result dtypes. To retain the old behavior, exclude the relevant entries before the concat operation.\n",
      "\n",
      "C:\\Users\\quirosgu\\AppData\\Local\\Temp\\ipykernel_11824\\522357952.py:20: FutureWarning:\n",
      "\n",
      "The behavior of DataFrame concatenation with empty or all-NA entries is deprecated. In a future version, this will no longer exclude empty or all-NA columns when determining the result dtypes. To retain the old behavior, exclude the relevant entries before the concat operation.\n",
      "\n",
      "C:\\Users\\quirosgu\\AppData\\Local\\Temp\\ipykernel_11824\\522357952.py:20: FutureWarning:\n",
      "\n",
      "The behavior of DataFrame concatenation with empty or all-NA entries is deprecated. In a future version, this will no longer exclude empty or all-NA columns when determining the result dtypes. To retain the old behavior, exclude the relevant entries before the concat operation.\n",
      "\n",
      "C:\\Users\\quirosgu\\AppData\\Local\\Temp\\ipykernel_11824\\522357952.py:20: FutureWarning:\n",
      "\n",
      "The behavior of DataFrame concatenation with empty or all-NA entries is deprecated. In a future version, this will no longer exclude empty or all-NA columns when determining the result dtypes. To retain the old behavior, exclude the relevant entries before the concat operation.\n",
      "\n",
      "C:\\Users\\quirosgu\\AppData\\Local\\Temp\\ipykernel_11824\\522357952.py:20: FutureWarning:\n",
      "\n",
      "The behavior of DataFrame concatenation with empty or all-NA entries is deprecated. In a future version, this will no longer exclude empty or all-NA columns when determining the result dtypes. To retain the old behavior, exclude the relevant entries before the concat operation.\n",
      "\n",
      "C:\\Users\\quirosgu\\AppData\\Local\\Temp\\ipykernel_11824\\522357952.py:20: FutureWarning:\n",
      "\n",
      "The behavior of DataFrame concatenation with empty or all-NA entries is deprecated. In a future version, this will no longer exclude empty or all-NA columns when determining the result dtypes. To retain the old behavior, exclude the relevant entries before the concat operation.\n",
      "\n",
      "C:\\Users\\quirosgu\\AppData\\Local\\Temp\\ipykernel_11824\\522357952.py:20: FutureWarning:\n",
      "\n",
      "The behavior of DataFrame concatenation with empty or all-NA entries is deprecated. In a future version, this will no longer exclude empty or all-NA columns when determining the result dtypes. To retain the old behavior, exclude the relevant entries before the concat operation.\n",
      "\n",
      "C:\\Users\\quirosgu\\AppData\\Local\\Temp\\ipykernel_11824\\522357952.py:20: FutureWarning:\n",
      "\n",
      "The behavior of DataFrame concatenation with empty or all-NA entries is deprecated. In a future version, this will no longer exclude empty or all-NA columns when determining the result dtypes. To retain the old behavior, exclude the relevant entries before the concat operation.\n",
      "\n",
      "C:\\Users\\quirosgu\\AppData\\Local\\Temp\\ipykernel_11824\\522357952.py:20: FutureWarning:\n",
      "\n",
      "The behavior of DataFrame concatenation with empty or all-NA entries is deprecated. In a future version, this will no longer exclude empty or all-NA columns when determining the result dtypes. To retain the old behavior, exclude the relevant entries before the concat operation.\n",
      "\n",
      "C:\\Users\\quirosgu\\AppData\\Local\\Temp\\ipykernel_11824\\522357952.py:20: FutureWarning:\n",
      "\n",
      "The behavior of DataFrame concatenation with empty or all-NA entries is deprecated. In a future version, this will no longer exclude empty or all-NA columns when determining the result dtypes. To retain the old behavior, exclude the relevant entries before the concat operation.\n",
      "\n",
      "C:\\Users\\quirosgu\\AppData\\Local\\Temp\\ipykernel_11824\\522357952.py:20: FutureWarning:\n",
      "\n",
      "The behavior of DataFrame concatenation with empty or all-NA entries is deprecated. In a future version, this will no longer exclude empty or all-NA columns when determining the result dtypes. To retain the old behavior, exclude the relevant entries before the concat operation.\n",
      "\n",
      "C:\\Users\\quirosgu\\AppData\\Local\\Temp\\ipykernel_11824\\522357952.py:20: FutureWarning:\n",
      "\n",
      "The behavior of DataFrame concatenation with empty or all-NA entries is deprecated. In a future version, this will no longer exclude empty or all-NA columns when determining the result dtypes. To retain the old behavior, exclude the relevant entries before the concat operation.\n",
      "\n",
      "C:\\Users\\quirosgu\\AppData\\Local\\Temp\\ipykernel_11824\\522357952.py:20: FutureWarning:\n",
      "\n",
      "The behavior of DataFrame concatenation with empty or all-NA entries is deprecated. In a future version, this will no longer exclude empty or all-NA columns when determining the result dtypes. To retain the old behavior, exclude the relevant entries before the concat operation.\n",
      "\n",
      "C:\\Users\\quirosgu\\AppData\\Local\\Temp\\ipykernel_11824\\522357952.py:20: FutureWarning:\n",
      "\n",
      "The behavior of DataFrame concatenation with empty or all-NA entries is deprecated. In a future version, this will no longer exclude empty or all-NA columns when determining the result dtypes. To retain the old behavior, exclude the relevant entries before the concat operation.\n",
      "\n",
      "C:\\Users\\quirosgu\\AppData\\Local\\Temp\\ipykernel_11824\\522357952.py:20: FutureWarning:\n",
      "\n",
      "The behavior of DataFrame concatenation with empty or all-NA entries is deprecated. In a future version, this will no longer exclude empty or all-NA columns when determining the result dtypes. To retain the old behavior, exclude the relevant entries before the concat operation.\n",
      "\n",
      "C:\\Users\\quirosgu\\AppData\\Local\\Temp\\ipykernel_11824\\522357952.py:20: FutureWarning:\n",
      "\n",
      "The behavior of DataFrame concatenation with empty or all-NA entries is deprecated. In a future version, this will no longer exclude empty or all-NA columns when determining the result dtypes. To retain the old behavior, exclude the relevant entries before the concat operation.\n",
      "\n",
      "C:\\Users\\quirosgu\\AppData\\Local\\Temp\\ipykernel_11824\\522357952.py:20: FutureWarning:\n",
      "\n",
      "The behavior of DataFrame concatenation with empty or all-NA entries is deprecated. In a future version, this will no longer exclude empty or all-NA columns when determining the result dtypes. To retain the old behavior, exclude the relevant entries before the concat operation.\n",
      "\n",
      "C:\\Users\\quirosgu\\AppData\\Local\\Temp\\ipykernel_11824\\522357952.py:20: FutureWarning:\n",
      "\n",
      "The behavior of DataFrame concatenation with empty or all-NA entries is deprecated. In a future version, this will no longer exclude empty or all-NA columns when determining the result dtypes. To retain the old behavior, exclude the relevant entries before the concat operation.\n",
      "\n",
      "C:\\Users\\quirosgu\\AppData\\Local\\Temp\\ipykernel_11824\\522357952.py:20: FutureWarning:\n",
      "\n",
      "The behavior of DataFrame concatenation with empty or all-NA entries is deprecated. In a future version, this will no longer exclude empty or all-NA columns when determining the result dtypes. To retain the old behavior, exclude the relevant entries before the concat operation.\n",
      "\n",
      "C:\\Users\\quirosgu\\AppData\\Local\\Temp\\ipykernel_11824\\522357952.py:20: FutureWarning:\n",
      "\n",
      "The behavior of DataFrame concatenation with empty or all-NA entries is deprecated. In a future version, this will no longer exclude empty or all-NA columns when determining the result dtypes. To retain the old behavior, exclude the relevant entries before the concat operation.\n",
      "\n",
      "C:\\Users\\quirosgu\\AppData\\Local\\Temp\\ipykernel_11824\\522357952.py:20: FutureWarning:\n",
      "\n",
      "The behavior of DataFrame concatenation with empty or all-NA entries is deprecated. In a future version, this will no longer exclude empty or all-NA columns when determining the result dtypes. To retain the old behavior, exclude the relevant entries before the concat operation.\n",
      "\n",
      "C:\\Users\\quirosgu\\AppData\\Local\\Temp\\ipykernel_11824\\522357952.py:20: FutureWarning:\n",
      "\n",
      "The behavior of DataFrame concatenation with empty or all-NA entries is deprecated. In a future version, this will no longer exclude empty or all-NA columns when determining the result dtypes. To retain the old behavior, exclude the relevant entries before the concat operation.\n",
      "\n",
      "C:\\Users\\quirosgu\\AppData\\Local\\Temp\\ipykernel_11824\\522357952.py:20: FutureWarning:\n",
      "\n",
      "The behavior of DataFrame concatenation with empty or all-NA entries is deprecated. In a future version, this will no longer exclude empty or all-NA columns when determining the result dtypes. To retain the old behavior, exclude the relevant entries before the concat operation.\n",
      "\n",
      "C:\\Users\\quirosgu\\AppData\\Local\\Temp\\ipykernel_11824\\522357952.py:20: FutureWarning:\n",
      "\n",
      "The behavior of DataFrame concatenation with empty or all-NA entries is deprecated. In a future version, this will no longer exclude empty or all-NA columns when determining the result dtypes. To retain the old behavior, exclude the relevant entries before the concat operation.\n",
      "\n",
      "C:\\Users\\quirosgu\\AppData\\Local\\Temp\\ipykernel_11824\\522357952.py:20: FutureWarning:\n",
      "\n",
      "The behavior of DataFrame concatenation with empty or all-NA entries is deprecated. In a future version, this will no longer exclude empty or all-NA columns when determining the result dtypes. To retain the old behavior, exclude the relevant entries before the concat operation.\n",
      "\n",
      "C:\\Users\\quirosgu\\AppData\\Local\\Temp\\ipykernel_11824\\522357952.py:20: FutureWarning:\n",
      "\n",
      "The behavior of DataFrame concatenation with empty or all-NA entries is deprecated. In a future version, this will no longer exclude empty or all-NA columns when determining the result dtypes. To retain the old behavior, exclude the relevant entries before the concat operation.\n",
      "\n",
      "C:\\Users\\quirosgu\\AppData\\Local\\Temp\\ipykernel_11824\\522357952.py:20: FutureWarning:\n",
      "\n",
      "The behavior of DataFrame concatenation with empty or all-NA entries is deprecated. In a future version, this will no longer exclude empty or all-NA columns when determining the result dtypes. To retain the old behavior, exclude the relevant entries before the concat operation.\n",
      "\n",
      "C:\\Users\\quirosgu\\AppData\\Local\\Temp\\ipykernel_11824\\522357952.py:20: FutureWarning:\n",
      "\n",
      "The behavior of DataFrame concatenation with empty or all-NA entries is deprecated. In a future version, this will no longer exclude empty or all-NA columns when determining the result dtypes. To retain the old behavior, exclude the relevant entries before the concat operation.\n",
      "\n",
      "C:\\Users\\quirosgu\\AppData\\Local\\Temp\\ipykernel_11824\\522357952.py:20: FutureWarning:\n",
      "\n",
      "The behavior of DataFrame concatenation with empty or all-NA entries is deprecated. In a future version, this will no longer exclude empty or all-NA columns when determining the result dtypes. To retain the old behavior, exclude the relevant entries before the concat operation.\n",
      "\n",
      "C:\\Users\\quirosgu\\AppData\\Local\\Temp\\ipykernel_11824\\522357952.py:20: FutureWarning:\n",
      "\n",
      "The behavior of DataFrame concatenation with empty or all-NA entries is deprecated. In a future version, this will no longer exclude empty or all-NA columns when determining the result dtypes. To retain the old behavior, exclude the relevant entries before the concat operation.\n",
      "\n",
      "C:\\Users\\quirosgu\\AppData\\Local\\Temp\\ipykernel_11824\\522357952.py:20: FutureWarning:\n",
      "\n",
      "The behavior of DataFrame concatenation with empty or all-NA entries is deprecated. In a future version, this will no longer exclude empty or all-NA columns when determining the result dtypes. To retain the old behavior, exclude the relevant entries before the concat operation.\n",
      "\n",
      "C:\\Users\\quirosgu\\AppData\\Local\\Temp\\ipykernel_11824\\522357952.py:20: FutureWarning:\n",
      "\n",
      "The behavior of DataFrame concatenation with empty or all-NA entries is deprecated. In a future version, this will no longer exclude empty or all-NA columns when determining the result dtypes. To retain the old behavior, exclude the relevant entries before the concat operation.\n",
      "\n",
      "C:\\Users\\quirosgu\\AppData\\Local\\Temp\\ipykernel_11824\\522357952.py:20: FutureWarning:\n",
      "\n",
      "The behavior of DataFrame concatenation with empty or all-NA entries is deprecated. In a future version, this will no longer exclude empty or all-NA columns when determining the result dtypes. To retain the old behavior, exclude the relevant entries before the concat operation.\n",
      "\n",
      "C:\\Users\\quirosgu\\AppData\\Local\\Temp\\ipykernel_11824\\522357952.py:20: FutureWarning:\n",
      "\n",
      "The behavior of DataFrame concatenation with empty or all-NA entries is deprecated. In a future version, this will no longer exclude empty or all-NA columns when determining the result dtypes. To retain the old behavior, exclude the relevant entries before the concat operation.\n",
      "\n",
      "C:\\Users\\quirosgu\\AppData\\Local\\Temp\\ipykernel_11824\\522357952.py:20: FutureWarning:\n",
      "\n",
      "The behavior of DataFrame concatenation with empty or all-NA entries is deprecated. In a future version, this will no longer exclude empty or all-NA columns when determining the result dtypes. To retain the old behavior, exclude the relevant entries before the concat operation.\n",
      "\n",
      "C:\\Users\\quirosgu\\AppData\\Local\\Temp\\ipykernel_11824\\522357952.py:20: FutureWarning:\n",
      "\n",
      "The behavior of DataFrame concatenation with empty or all-NA entries is deprecated. In a future version, this will no longer exclude empty or all-NA columns when determining the result dtypes. To retain the old behavior, exclude the relevant entries before the concat operation.\n",
      "\n",
      "C:\\Users\\quirosgu\\AppData\\Local\\Temp\\ipykernel_11824\\522357952.py:20: FutureWarning:\n",
      "\n",
      "The behavior of DataFrame concatenation with empty or all-NA entries is deprecated. In a future version, this will no longer exclude empty or all-NA columns when determining the result dtypes. To retain the old behavior, exclude the relevant entries before the concat operation.\n",
      "\n",
      "C:\\Users\\quirosgu\\AppData\\Local\\Temp\\ipykernel_11824\\522357952.py:20: FutureWarning:\n",
      "\n",
      "The behavior of DataFrame concatenation with empty or all-NA entries is deprecated. In a future version, this will no longer exclude empty or all-NA columns when determining the result dtypes. To retain the old behavior, exclude the relevant entries before the concat operation.\n",
      "\n",
      "C:\\Users\\quirosgu\\AppData\\Local\\Temp\\ipykernel_11824\\522357952.py:20: FutureWarning:\n",
      "\n",
      "The behavior of DataFrame concatenation with empty or all-NA entries is deprecated. In a future version, this will no longer exclude empty or all-NA columns when determining the result dtypes. To retain the old behavior, exclude the relevant entries before the concat operation.\n",
      "\n",
      "C:\\Users\\quirosgu\\AppData\\Local\\Temp\\ipykernel_11824\\522357952.py:20: FutureWarning:\n",
      "\n",
      "The behavior of DataFrame concatenation with empty or all-NA entries is deprecated. In a future version, this will no longer exclude empty or all-NA columns when determining the result dtypes. To retain the old behavior, exclude the relevant entries before the concat operation.\n",
      "\n",
      "C:\\Users\\quirosgu\\AppData\\Local\\Temp\\ipykernel_11824\\522357952.py:20: FutureWarning:\n",
      "\n",
      "The behavior of DataFrame concatenation with empty or all-NA entries is deprecated. In a future version, this will no longer exclude empty or all-NA columns when determining the result dtypes. To retain the old behavior, exclude the relevant entries before the concat operation.\n",
      "\n",
      "C:\\Users\\quirosgu\\AppData\\Local\\Temp\\ipykernel_11824\\522357952.py:20: FutureWarning:\n",
      "\n",
      "The behavior of DataFrame concatenation with empty or all-NA entries is deprecated. In a future version, this will no longer exclude empty or all-NA columns when determining the result dtypes. To retain the old behavior, exclude the relevant entries before the concat operation.\n",
      "\n",
      "C:\\Users\\quirosgu\\AppData\\Local\\Temp\\ipykernel_11824\\522357952.py:20: FutureWarning:\n",
      "\n",
      "The behavior of DataFrame concatenation with empty or all-NA entries is deprecated. In a future version, this will no longer exclude empty or all-NA columns when determining the result dtypes. To retain the old behavior, exclude the relevant entries before the concat operation.\n",
      "\n",
      "C:\\Users\\quirosgu\\AppData\\Local\\Temp\\ipykernel_11824\\522357952.py:20: FutureWarning:\n",
      "\n",
      "The behavior of DataFrame concatenation with empty or all-NA entries is deprecated. In a future version, this will no longer exclude empty or all-NA columns when determining the result dtypes. To retain the old behavior, exclude the relevant entries before the concat operation.\n",
      "\n",
      "C:\\Users\\quirosgu\\AppData\\Local\\Temp\\ipykernel_11824\\522357952.py:20: FutureWarning:\n",
      "\n",
      "The behavior of DataFrame concatenation with empty or all-NA entries is deprecated. In a future version, this will no longer exclude empty or all-NA columns when determining the result dtypes. To retain the old behavior, exclude the relevant entries before the concat operation.\n",
      "\n",
      "C:\\Users\\quirosgu\\AppData\\Local\\Temp\\ipykernel_11824\\522357952.py:20: FutureWarning:\n",
      "\n",
      "The behavior of DataFrame concatenation with empty or all-NA entries is deprecated. In a future version, this will no longer exclude empty or all-NA columns when determining the result dtypes. To retain the old behavior, exclude the relevant entries before the concat operation.\n",
      "\n",
      "C:\\Users\\quirosgu\\AppData\\Local\\Temp\\ipykernel_11824\\522357952.py:20: FutureWarning:\n",
      "\n",
      "The behavior of DataFrame concatenation with empty or all-NA entries is deprecated. In a future version, this will no longer exclude empty or all-NA columns when determining the result dtypes. To retain the old behavior, exclude the relevant entries before the concat operation.\n",
      "\n",
      "C:\\Users\\quirosgu\\AppData\\Local\\Temp\\ipykernel_11824\\522357952.py:20: FutureWarning:\n",
      "\n",
      "The behavior of DataFrame concatenation with empty or all-NA entries is deprecated. In a future version, this will no longer exclude empty or all-NA columns when determining the result dtypes. To retain the old behavior, exclude the relevant entries before the concat operation.\n",
      "\n",
      "C:\\Users\\quirosgu\\AppData\\Local\\Temp\\ipykernel_11824\\522357952.py:20: FutureWarning:\n",
      "\n",
      "The behavior of DataFrame concatenation with empty or all-NA entries is deprecated. In a future version, this will no longer exclude empty or all-NA columns when determining the result dtypes. To retain the old behavior, exclude the relevant entries before the concat operation.\n",
      "\n",
      "C:\\Users\\quirosgu\\AppData\\Local\\Temp\\ipykernel_11824\\522357952.py:20: FutureWarning:\n",
      "\n",
      "The behavior of DataFrame concatenation with empty or all-NA entries is deprecated. In a future version, this will no longer exclude empty or all-NA columns when determining the result dtypes. To retain the old behavior, exclude the relevant entries before the concat operation.\n",
      "\n",
      "C:\\Users\\quirosgu\\AppData\\Local\\Temp\\ipykernel_11824\\522357952.py:20: FutureWarning:\n",
      "\n",
      "The behavior of DataFrame concatenation with empty or all-NA entries is deprecated. In a future version, this will no longer exclude empty or all-NA columns when determining the result dtypes. To retain the old behavior, exclude the relevant entries before the concat operation.\n",
      "\n",
      "C:\\Users\\quirosgu\\AppData\\Local\\Temp\\ipykernel_11824\\522357952.py:20: FutureWarning:\n",
      "\n",
      "The behavior of DataFrame concatenation with empty or all-NA entries is deprecated. In a future version, this will no longer exclude empty or all-NA columns when determining the result dtypes. To retain the old behavior, exclude the relevant entries before the concat operation.\n",
      "\n",
      "C:\\Users\\quirosgu\\AppData\\Local\\Temp\\ipykernel_11824\\522357952.py:20: FutureWarning:\n",
      "\n",
      "The behavior of DataFrame concatenation with empty or all-NA entries is deprecated. In a future version, this will no longer exclude empty or all-NA columns when determining the result dtypes. To retain the old behavior, exclude the relevant entries before the concat operation.\n",
      "\n",
      "C:\\Users\\quirosgu\\AppData\\Local\\Temp\\ipykernel_11824\\522357952.py:20: FutureWarning:\n",
      "\n",
      "The behavior of DataFrame concatenation with empty or all-NA entries is deprecated. In a future version, this will no longer exclude empty or all-NA columns when determining the result dtypes. To retain the old behavior, exclude the relevant entries before the concat operation.\n",
      "\n",
      "C:\\Users\\quirosgu\\AppData\\Local\\Temp\\ipykernel_11824\\522357952.py:20: FutureWarning:\n",
      "\n",
      "The behavior of DataFrame concatenation with empty or all-NA entries is deprecated. In a future version, this will no longer exclude empty or all-NA columns when determining the result dtypes. To retain the old behavior, exclude the relevant entries before the concat operation.\n",
      "\n",
      "C:\\Users\\quirosgu\\AppData\\Local\\Temp\\ipykernel_11824\\522357952.py:20: FutureWarning:\n",
      "\n",
      "The behavior of DataFrame concatenation with empty or all-NA entries is deprecated. In a future version, this will no longer exclude empty or all-NA columns when determining the result dtypes. To retain the old behavior, exclude the relevant entries before the concat operation.\n",
      "\n",
      "C:\\Users\\quirosgu\\AppData\\Local\\Temp\\ipykernel_11824\\522357952.py:20: FutureWarning:\n",
      "\n",
      "The behavior of DataFrame concatenation with empty or all-NA entries is deprecated. In a future version, this will no longer exclude empty or all-NA columns when determining the result dtypes. To retain the old behavior, exclude the relevant entries before the concat operation.\n",
      "\n",
      "C:\\Users\\quirosgu\\AppData\\Local\\Temp\\ipykernel_11824\\522357952.py:20: FutureWarning:\n",
      "\n",
      "The behavior of DataFrame concatenation with empty or all-NA entries is deprecated. In a future version, this will no longer exclude empty or all-NA columns when determining the result dtypes. To retain the old behavior, exclude the relevant entries before the concat operation.\n",
      "\n",
      "C:\\Users\\quirosgu\\AppData\\Local\\Temp\\ipykernel_11824\\522357952.py:20: FutureWarning:\n",
      "\n",
      "The behavior of DataFrame concatenation with empty or all-NA entries is deprecated. In a future version, this will no longer exclude empty or all-NA columns when determining the result dtypes. To retain the old behavior, exclude the relevant entries before the concat operation.\n",
      "\n",
      "C:\\Users\\quirosgu\\AppData\\Local\\Temp\\ipykernel_11824\\522357952.py:20: FutureWarning:\n",
      "\n",
      "The behavior of DataFrame concatenation with empty or all-NA entries is deprecated. In a future version, this will no longer exclude empty or all-NA columns when determining the result dtypes. To retain the old behavior, exclude the relevant entries before the concat operation.\n",
      "\n",
      "C:\\Users\\quirosgu\\AppData\\Local\\Temp\\ipykernel_11824\\522357952.py:20: FutureWarning:\n",
      "\n",
      "The behavior of DataFrame concatenation with empty or all-NA entries is deprecated. In a future version, this will no longer exclude empty or all-NA columns when determining the result dtypes. To retain the old behavior, exclude the relevant entries before the concat operation.\n",
      "\n",
      "C:\\Users\\quirosgu\\AppData\\Local\\Temp\\ipykernel_11824\\522357952.py:20: FutureWarning:\n",
      "\n",
      "The behavior of DataFrame concatenation with empty or all-NA entries is deprecated. In a future version, this will no longer exclude empty or all-NA columns when determining the result dtypes. To retain the old behavior, exclude the relevant entries before the concat operation.\n",
      "\n",
      "C:\\Users\\quirosgu\\AppData\\Local\\Temp\\ipykernel_11824\\522357952.py:20: FutureWarning:\n",
      "\n",
      "The behavior of DataFrame concatenation with empty or all-NA entries is deprecated. In a future version, this will no longer exclude empty or all-NA columns when determining the result dtypes. To retain the old behavior, exclude the relevant entries before the concat operation.\n",
      "\n",
      "C:\\Users\\quirosgu\\AppData\\Local\\Temp\\ipykernel_11824\\522357952.py:20: FutureWarning:\n",
      "\n",
      "The behavior of DataFrame concatenation with empty or all-NA entries is deprecated. In a future version, this will no longer exclude empty or all-NA columns when determining the result dtypes. To retain the old behavior, exclude the relevant entries before the concat operation.\n",
      "\n",
      "C:\\Users\\quirosgu\\AppData\\Local\\Temp\\ipykernel_11824\\522357952.py:20: FutureWarning:\n",
      "\n",
      "The behavior of DataFrame concatenation with empty or all-NA entries is deprecated. In a future version, this will no longer exclude empty or all-NA columns when determining the result dtypes. To retain the old behavior, exclude the relevant entries before the concat operation.\n",
      "\n",
      "C:\\Users\\quirosgu\\AppData\\Local\\Temp\\ipykernel_11824\\522357952.py:20: FutureWarning:\n",
      "\n",
      "The behavior of DataFrame concatenation with empty or all-NA entries is deprecated. In a future version, this will no longer exclude empty or all-NA columns when determining the result dtypes. To retain the old behavior, exclude the relevant entries before the concat operation.\n",
      "\n",
      "C:\\Users\\quirosgu\\AppData\\Local\\Temp\\ipykernel_11824\\522357952.py:20: FutureWarning:\n",
      "\n",
      "The behavior of DataFrame concatenation with empty or all-NA entries is deprecated. In a future version, this will no longer exclude empty or all-NA columns when determining the result dtypes. To retain the old behavior, exclude the relevant entries before the concat operation.\n",
      "\n",
      "C:\\Users\\quirosgu\\AppData\\Local\\Temp\\ipykernel_11824\\522357952.py:20: FutureWarning:\n",
      "\n",
      "The behavior of DataFrame concatenation with empty or all-NA entries is deprecated. In a future version, this will no longer exclude empty or all-NA columns when determining the result dtypes. To retain the old behavior, exclude the relevant entries before the concat operation.\n",
      "\n",
      "C:\\Users\\quirosgu\\AppData\\Local\\Temp\\ipykernel_11824\\522357952.py:20: FutureWarning:\n",
      "\n",
      "The behavior of DataFrame concatenation with empty or all-NA entries is deprecated. In a future version, this will no longer exclude empty or all-NA columns when determining the result dtypes. To retain the old behavior, exclude the relevant entries before the concat operation.\n",
      "\n",
      "C:\\Users\\quirosgu\\AppData\\Local\\Temp\\ipykernel_11824\\522357952.py:20: FutureWarning:\n",
      "\n",
      "The behavior of DataFrame concatenation with empty or all-NA entries is deprecated. In a future version, this will no longer exclude empty or all-NA columns when determining the result dtypes. To retain the old behavior, exclude the relevant entries before the concat operation.\n",
      "\n",
      "C:\\Users\\quirosgu\\AppData\\Local\\Temp\\ipykernel_11824\\522357952.py:20: FutureWarning:\n",
      "\n",
      "The behavior of DataFrame concatenation with empty or all-NA entries is deprecated. In a future version, this will no longer exclude empty or all-NA columns when determining the result dtypes. To retain the old behavior, exclude the relevant entries before the concat operation.\n",
      "\n",
      "C:\\Users\\quirosgu\\AppData\\Local\\Temp\\ipykernel_11824\\522357952.py:20: FutureWarning:\n",
      "\n",
      "The behavior of DataFrame concatenation with empty or all-NA entries is deprecated. In a future version, this will no longer exclude empty or all-NA columns when determining the result dtypes. To retain the old behavior, exclude the relevant entries before the concat operation.\n",
      "\n",
      "C:\\Users\\quirosgu\\AppData\\Local\\Temp\\ipykernel_11824\\522357952.py:20: FutureWarning:\n",
      "\n",
      "The behavior of DataFrame concatenation with empty or all-NA entries is deprecated. In a future version, this will no longer exclude empty or all-NA columns when determining the result dtypes. To retain the old behavior, exclude the relevant entries before the concat operation.\n",
      "\n",
      "C:\\Users\\quirosgu\\AppData\\Local\\Temp\\ipykernel_11824\\522357952.py:20: FutureWarning:\n",
      "\n",
      "The behavior of DataFrame concatenation with empty or all-NA entries is deprecated. In a future version, this will no longer exclude empty or all-NA columns when determining the result dtypes. To retain the old behavior, exclude the relevant entries before the concat operation.\n",
      "\n",
      "C:\\Users\\quirosgu\\AppData\\Local\\Temp\\ipykernel_11824\\522357952.py:20: FutureWarning:\n",
      "\n",
      "The behavior of DataFrame concatenation with empty or all-NA entries is deprecated. In a future version, this will no longer exclude empty or all-NA columns when determining the result dtypes. To retain the old behavior, exclude the relevant entries before the concat operation.\n",
      "\n",
      "C:\\Users\\quirosgu\\AppData\\Local\\Temp\\ipykernel_11824\\522357952.py:20: FutureWarning:\n",
      "\n",
      "The behavior of DataFrame concatenation with empty or all-NA entries is deprecated. In a future version, this will no longer exclude empty or all-NA columns when determining the result dtypes. To retain the old behavior, exclude the relevant entries before the concat operation.\n",
      "\n",
      "C:\\Users\\quirosgu\\AppData\\Local\\Temp\\ipykernel_11824\\522357952.py:20: FutureWarning:\n",
      "\n",
      "The behavior of DataFrame concatenation with empty or all-NA entries is deprecated. In a future version, this will no longer exclude empty or all-NA columns when determining the result dtypes. To retain the old behavior, exclude the relevant entries before the concat operation.\n",
      "\n",
      "C:\\Users\\quirosgu\\AppData\\Local\\Temp\\ipykernel_11824\\522357952.py:20: FutureWarning:\n",
      "\n",
      "The behavior of DataFrame concatenation with empty or all-NA entries is deprecated. In a future version, this will no longer exclude empty or all-NA columns when determining the result dtypes. To retain the old behavior, exclude the relevant entries before the concat operation.\n",
      "\n",
      "C:\\Users\\quirosgu\\AppData\\Local\\Temp\\ipykernel_11824\\522357952.py:20: FutureWarning:\n",
      "\n",
      "The behavior of DataFrame concatenation with empty or all-NA entries is deprecated. In a future version, this will no longer exclude empty or all-NA columns when determining the result dtypes. To retain the old behavior, exclude the relevant entries before the concat operation.\n",
      "\n",
      "C:\\Users\\quirosgu\\AppData\\Local\\Temp\\ipykernel_11824\\522357952.py:20: FutureWarning:\n",
      "\n",
      "The behavior of DataFrame concatenation with empty or all-NA entries is deprecated. In a future version, this will no longer exclude empty or all-NA columns when determining the result dtypes. To retain the old behavior, exclude the relevant entries before the concat operation.\n",
      "\n",
      "C:\\Users\\quirosgu\\AppData\\Local\\Temp\\ipykernel_11824\\522357952.py:20: FutureWarning:\n",
      "\n",
      "The behavior of DataFrame concatenation with empty or all-NA entries is deprecated. In a future version, this will no longer exclude empty or all-NA columns when determining the result dtypes. To retain the old behavior, exclude the relevant entries before the concat operation.\n",
      "\n",
      "C:\\Users\\quirosgu\\AppData\\Local\\Temp\\ipykernel_11824\\522357952.py:20: FutureWarning:\n",
      "\n",
      "The behavior of DataFrame concatenation with empty or all-NA entries is deprecated. In a future version, this will no longer exclude empty or all-NA columns when determining the result dtypes. To retain the old behavior, exclude the relevant entries before the concat operation.\n",
      "\n",
      "C:\\Users\\quirosgu\\AppData\\Local\\Temp\\ipykernel_11824\\522357952.py:20: FutureWarning:\n",
      "\n",
      "The behavior of DataFrame concatenation with empty or all-NA entries is deprecated. In a future version, this will no longer exclude empty or all-NA columns when determining the result dtypes. To retain the old behavior, exclude the relevant entries before the concat operation.\n",
      "\n",
      "C:\\Users\\quirosgu\\AppData\\Local\\Temp\\ipykernel_11824\\522357952.py:20: FutureWarning:\n",
      "\n",
      "The behavior of DataFrame concatenation with empty or all-NA entries is deprecated. In a future version, this will no longer exclude empty or all-NA columns when determining the result dtypes. To retain the old behavior, exclude the relevant entries before the concat operation.\n",
      "\n",
      "C:\\Users\\quirosgu\\AppData\\Local\\Temp\\ipykernel_11824\\522357952.py:20: FutureWarning:\n",
      "\n",
      "The behavior of DataFrame concatenation with empty or all-NA entries is deprecated. In a future version, this will no longer exclude empty or all-NA columns when determining the result dtypes. To retain the old behavior, exclude the relevant entries before the concat operation.\n",
      "\n",
      "C:\\Users\\quirosgu\\AppData\\Local\\Temp\\ipykernel_11824\\522357952.py:20: FutureWarning:\n",
      "\n",
      "The behavior of DataFrame concatenation with empty or all-NA entries is deprecated. In a future version, this will no longer exclude empty or all-NA columns when determining the result dtypes. To retain the old behavior, exclude the relevant entries before the concat operation.\n",
      "\n",
      "C:\\Users\\quirosgu\\AppData\\Local\\Temp\\ipykernel_11824\\522357952.py:20: FutureWarning:\n",
      "\n",
      "The behavior of DataFrame concatenation with empty or all-NA entries is deprecated. In a future version, this will no longer exclude empty or all-NA columns when determining the result dtypes. To retain the old behavior, exclude the relevant entries before the concat operation.\n",
      "\n",
      "C:\\Users\\quirosgu\\AppData\\Local\\Temp\\ipykernel_11824\\522357952.py:20: FutureWarning:\n",
      "\n",
      "The behavior of DataFrame concatenation with empty or all-NA entries is deprecated. In a future version, this will no longer exclude empty or all-NA columns when determining the result dtypes. To retain the old behavior, exclude the relevant entries before the concat operation.\n",
      "\n",
      "C:\\Users\\quirosgu\\AppData\\Local\\Temp\\ipykernel_11824\\522357952.py:20: FutureWarning:\n",
      "\n",
      "The behavior of DataFrame concatenation with empty or all-NA entries is deprecated. In a future version, this will no longer exclude empty or all-NA columns when determining the result dtypes. To retain the old behavior, exclude the relevant entries before the concat operation.\n",
      "\n",
      "C:\\Users\\quirosgu\\AppData\\Local\\Temp\\ipykernel_11824\\522357952.py:20: FutureWarning:\n",
      "\n",
      "The behavior of DataFrame concatenation with empty or all-NA entries is deprecated. In a future version, this will no longer exclude empty or all-NA columns when determining the result dtypes. To retain the old behavior, exclude the relevant entries before the concat operation.\n",
      "\n",
      "C:\\Users\\quirosgu\\AppData\\Local\\Temp\\ipykernel_11824\\522357952.py:20: FutureWarning:\n",
      "\n",
      "The behavior of DataFrame concatenation with empty or all-NA entries is deprecated. In a future version, this will no longer exclude empty or all-NA columns when determining the result dtypes. To retain the old behavior, exclude the relevant entries before the concat operation.\n",
      "\n",
      "C:\\Users\\quirosgu\\AppData\\Local\\Temp\\ipykernel_11824\\522357952.py:20: FutureWarning:\n",
      "\n",
      "The behavior of DataFrame concatenation with empty or all-NA entries is deprecated. In a future version, this will no longer exclude empty or all-NA columns when determining the result dtypes. To retain the old behavior, exclude the relevant entries before the concat operation.\n",
      "\n",
      "C:\\Users\\quirosgu\\AppData\\Local\\Temp\\ipykernel_11824\\522357952.py:20: FutureWarning:\n",
      "\n",
      "The behavior of DataFrame concatenation with empty or all-NA entries is deprecated. In a future version, this will no longer exclude empty or all-NA columns when determining the result dtypes. To retain the old behavior, exclude the relevant entries before the concat operation.\n",
      "\n"
     ]
    },
    {
     "data": {
      "application/vnd.plotly.v1+json": {
       "config": {
        "plotlyServerURL": "https://plot.ly"
       },
       "data": [
        {
         "alignmentgroup": "True",
         "hovertemplate": "Pathway=Alkaloids<br>Recurrence=%{x}<br>y=%{y}<extra></extra>",
         "legendgroup": "Alkaloids",
         "marker": {
          "color": "#305F72",
          "pattern": {
           "shape": ""
          }
         },
         "name": "Alkaloids",
         "offsetgroup": "Alkaloids",
         "orientation": "h",
         "showlegend": true,
         "textposition": "auto",
         "type": "bar",
         "x": [
          4,
          2,
          6,
          1,
          2,
          192,
          6,
          10,
          16,
          1,
          2,
          4,
          2,
          2,
          1,
          2,
          24,
          2,
          6,
          2,
          7,
          1,
          11,
          9,
          3
         ],
         "xaxis": "x",
         "y": [
          "<i>Ageratina ligustrina</i>",
          "<i>Ageratum conyzoides</i>",
          "<i>Albizia adinocephala</i>",
          "<i>Alibertia edulis</i>",
          "<i>Caesalpinia pulcherrima</i>",
          "<i>Catharanthus roseus</i>",
          "<i>Cymbopogon citratus</i>",
          "<i>Eichhornia crassipes</i>",
          "<i>Erythrina berteroana</i>",
          "<i>Erythroxylum fimbriatum</i>",
          "<i>Herrania purpurea</i>",
          "<i>Ipomoea nil</i>",
          "<i>Mimosa pudica</i>",
          "<i>Morinda citrifolia</i>",
          "<i>Nasturtium officinale</i>",
          "<i>Piper reticulatum</i>",
          "<i>Piper tuberculatum</i>",
          "<i>Plumeria rubra</i>",
          "<i>Prosopis juliflora</i>",
          "<i>Quassia amara</i>",
          "<i>Rauvolfia littoralis</i>",
          "<i>Samanea saman</i>",
          "<i>Siparuna grandiflora</i>",
          "<i>Talipariti tiliaceum</i>",
          "<i>Telanthophora grandifolia</i>"
         ],
         "yaxis": "y"
        },
        {
         "alignmentgroup": "True",
         "hovertemplate": "Pathway=Amino acids and Peptides<br>Recurrence=%{x}<br>y=%{y}<extra></extra>",
         "legendgroup": "Amino acids and Peptides",
         "marker": {
          "color": "#F4E869",
          "pattern": {
           "shape": ""
          }
         },
         "name": "Amino acids and Peptides",
         "offsetgroup": "Amino acids and Peptides",
         "orientation": "h",
         "showlegend": true,
         "textposition": "auto",
         "type": "bar",
         "x": [
          1,
          3,
          1,
          14,
          1,
          21,
          1,
          1,
          25,
          3,
          13,
          4,
          2,
          2,
          4,
          1,
          1,
          1,
          5,
          3
         ],
         "xaxis": "x",
         "y": [
          "<i>Ageratum conyzoides</i>",
          "<i>Camonea umbellata</i>",
          "<i>Canavalia rosea</i>",
          "<i>Catharanthus roseus</i>",
          "<i>Delonix regia</i>",
          "<i>Eichhornia crassipes</i>",
          "<i>Gliricidia sepium</i>",
          "<i>Guilandina bonduc</i>",
          "<i>Indigofera hirsuta</i>",
          "<i>Ipomoea nil</i>",
          "<i>Jatropha gossypiifolia</i>",
          "<i>Lantana camara</i>",
          "<i>Mimosa pudica</i>",
          "<i>Nasturtium officinale</i>",
          "<i>Piper tuberculatum</i>",
          "<i>Plumeria rubra</i>",
          "<i>Prosopis juliflora</i>",
          "<i>Rauvolfia littoralis</i>",
          "<i>Talipariti tiliaceum</i>",
          "<i>Vasconcellea cauliflora</i>"
         ],
         "yaxis": "y"
        },
        {
         "alignmentgroup": "True",
         "hovertemplate": "Pathway=Carbohydrates<br>Recurrence=%{x}<br>y=%{y}<extra></extra>",
         "legendgroup": "Carbohydrates",
         "marker": {
          "color": "#65451F",
          "pattern": {
           "shape": ""
          }
         },
         "name": "Carbohydrates",
         "offsetgroup": "Carbohydrates",
         "orientation": "h",
         "showlegend": true,
         "textposition": "auto",
         "type": "bar",
         "x": [
          1,
          11,
          1,
          1,
          3,
          6,
          3,
          7,
          4,
          1,
          18,
          5
         ],
         "xaxis": "x",
         "y": [
          "<i>Acrocomia aculeata</i>",
          "<i>Catharanthus roseus</i>",
          "<i>Genipa americana</i>",
          "<i>Gliricidia sepium</i>",
          "<i>Jatropha gossypiifolia</i>",
          "<i>Lantana camara</i>",
          "<i>Lonchocarpus heptaphyllus</i>",
          "<i>Morinda citrifolia</i>",
          "<i>Omphalea diandra</i>",
          "<i>Quassia amara</i>",
          "<i>Saccharum officinarum</i>",
          "<i>Sapium laurifolium</i>"
         ],
         "yaxis": "y"
        },
        {
         "alignmentgroup": "True",
         "hovertemplate": "Pathway=Fatty acids<br>Recurrence=%{x}<br>y=%{y}<extra></extra>",
         "legendgroup": "Fatty acids",
         "marker": {
          "color": "#FF6C22",
          "pattern": {
           "shape": ""
          }
         },
         "name": "Fatty acids",
         "offsetgroup": "Fatty acids",
         "orientation": "h",
         "showlegend": true,
         "textposition": "auto",
         "type": "bar",
         "x": [
          1,
          1,
          19,
          1,
          14,
          3,
          18,
          8,
          1,
          1,
          16,
          5,
          22,
          4,
          3,
          17,
          2,
          5,
          30,
          1,
          3,
          2
         ],
         "xaxis": "x",
         "y": [
          "<i>Acrostichum aureum</i>",
          "<i>Ageratina ligustrina</i>",
          "<i>Ageratum conyzoides</i>",
          "<i>Caesalpinia pulcherrima</i>",
          "<i>Catharanthus roseus</i>",
          "<i>Crescentia cujete</i>",
          "<i>Cymbopogon citratus</i>",
          "<i>Delonix regia</i>",
          "<i>Ficus benjamina</i>",
          "<i>Gliricidia sepium</i>",
          "<i>Ipomoea nil</i>",
          "<i>Jatropha gossypiifolia</i>",
          "<i>Lantana camara</i>",
          "<i>Lawsonia inermis</i>",
          "<i>Mimosa pudica</i>",
          "<i>Morinda citrifolia</i>",
          "<i>Paullinia pinnata</i>",
          "<i>Piper tuberculatum</i>",
          "<i>Plumeria rubra</i>",
          "<i>Rhizophora mangle</i>",
          "<i>Saccharum officinarum</i>",
          "<i>Samanea saman</i>"
         ],
         "yaxis": "y"
        },
        {
         "alignmentgroup": "True",
         "hovertemplate": "Pathway=Polyketides<br>Recurrence=%{x}<br>y=%{y}<extra></extra>",
         "legendgroup": "Polyketides",
         "marker": {
          "color": "#EF4B4B",
          "pattern": {
           "shape": ""
          }
         },
         "name": "Polyketides",
         "offsetgroup": "Polyketides",
         "orientation": "h",
         "showlegend": true,
         "textposition": "auto",
         "type": "bar",
         "x": [
          1,
          2,
          1,
          2,
          2,
          5,
          2,
          2,
          7,
          1,
          2,
          9,
          6,
          1,
          2,
          55,
          12,
          18,
          2,
          2,
          17,
          8
         ],
         "xaxis": "x",
         "y": [
          "<i>Ageratina ixiocladon</i>",
          "<i>Ageratum conyzoides</i>",
          "<i>Avicennia germinans</i>",
          "<i>Caesalpinia pulcherrima</i>",
          "<i>Calea urticifolia</i>",
          "<i>Cassia grandis</i>",
          "<i>Crescentia cujete</i>",
          "<i>Eichhornia crassipes</i>",
          "<i>Faramea occidentalis</i>",
          "<i>Ipomoea nil</i>",
          "<i>Laguncularia racemosa</i>",
          "<i>Lantana camara</i>",
          "<i>Lawsonia inermis</i>",
          "<i>Maclura tinctoria</i>",
          "<i>Marila laxiflora</i>",
          "<i>Morinda citrifolia</i>",
          "<i>Peperomia galioides</i>",
          "<i>Picramnia latifolia</i>",
          "<i>Piper reticulatum</i>",
          "<i>Plumeria rubra</i>",
          "<i>Talipariti tiliaceum</i>",
          "<i>Tovomita longifolia</i>"
         ],
         "yaxis": "y"
        },
        {
         "alignmentgroup": "True",
         "hovertemplate": "Pathway=Shikimates and Phenylpropanoids<br>Recurrence=%{x}<br>y=%{y}<extra></extra>",
         "legendgroup": "Shikimates and Phenylpropanoids",
         "marker": {
          "color": "#80558C",
          "pattern": {
           "shape": ""
          }
         },
         "name": "Shikimates and Phenylpropanoids",
         "offsetgroup": "Shikimates and Phenylpropanoids",
         "orientation": "h",
         "showlegend": true,
         "textposition": "auto",
         "type": "bar",
         "x": [
          12,
          23,
          2,
          2,
          2,
          43,
          6,
          6,
          5,
          8,
          32,
          19,
          1,
          6,
          35,
          18,
          4,
          1,
          1,
          4,
          7,
          43,
          4,
          2,
          1,
          48,
          8,
          27,
          20,
          32,
          21,
          30,
          4,
          5,
          14,
          57,
          18,
          4,
          10,
          5,
          3,
          2,
          1,
          7,
          29,
          12,
          1,
          18,
          2,
          6,
          9,
          2,
          5
         ],
         "xaxis": "x",
         "y": [
          "<i>Ageratina ligustrina</i>",
          "<i>Ageratum conyzoides</i>",
          "<i>Apeiba tibourbou</i>",
          "<i>Arthraxon hispidus</i>",
          "<i>Avicennia germinans</i>",
          "<i>Caesalpinia pulcherrima</i>",
          "<i>Calceolaria irazuensis</i>",
          "<i>Camonea umbellata</i>",
          "<i>Canavalia rosea</i>",
          "<i>Cassia grandis</i>",
          "<i>Catharanthus roseus</i>",
          "<i>Cissus verticillata</i>",
          "<i>Clarisia racemosa</i>",
          "<i>Crescentia cujete</i>",
          "<i>Cymbopogon citratus</i>",
          "<i>Eichhornia crassipes</i>",
          "<i>Erythrina berteroana</i>",
          "<i>Euphorbia hypericifolia</i>",
          "<i>Faramea occidentalis</i>",
          "<i>Ficus maxima</i>",
          "<i>Fuchsia splendens</i>",
          "<i>Gliricidia sepium</i>",
          "<i>Guilandina bonduc</i>",
          "<i>Hedyosmum bonplandianum</i>",
          "<i>Hymenaea courbaril</i>",
          "<i>Ipomoea nil</i>",
          "<i>Jatropha gossypiifolia</i>",
          "<i>Laguncularia racemosa</i>",
          "<i>Lantana camara</i>",
          "<i>Lawsonia inermis</i>",
          "<i>Lonchocarpus heptaphyllus</i>",
          "<i>Maclura tinctoria</i>",
          "<i>Marila laxiflora</i>",
          "<i>Mikania micrantha</i>",
          "<i>Mimosa pudica</i>",
          "<i>Morinda citrifolia</i>",
          "<i>Nasturtium officinale</i>",
          "<i>Paullinia pinnata</i>",
          "<i>Persicaria pubescens</i>",
          "<i>Phenax angustifolius</i>",
          "<i>Phyllanthus acuminatus</i>",
          "<i>Picramnia latifolia</i>",
          "<i>Piper reticulatum</i>",
          "<i>Piper tuberculatum</i>",
          "<i>Plumeria rubra</i>",
          "<i>Prosopis juliflora</i>",
          "<i>Rhizophora mangle</i>",
          "<i>Saccharum officinarum</i>",
          "<i>Sapium laurifolium</i>",
          "<i>Syzygium malaccense</i>",
          "<i>Talipariti tiliaceum</i>",
          "<i>Urochloa decumbens</i>",
          "<i>Verbesina myriocephala</i>"
         ],
         "yaxis": "y"
        },
        {
         "alignmentgroup": "True",
         "hovertemplate": "Pathway=Terpenoids<br>Recurrence=%{x}<br>y=%{y}<extra></extra>",
         "legendgroup": "Terpenoids",
         "marker": {
          "color": "#618264",
          "pattern": {
           "shape": ""
          }
         },
         "name": "Terpenoids",
         "offsetgroup": "Terpenoids",
         "orientation": "h",
         "showlegend": true,
         "textposition": "auto",
         "type": "bar",
         "x": [
          4,
          22,
          10,
          78,
          21,
          2,
          2,
          61,
          29,
          1,
          61,
          6,
          1,
          21,
          3,
          51,
          3,
          1,
          3,
          26,
          9,
          97,
          3,
          19,
          18,
          46,
          16,
          157,
          19,
          1,
          1,
          22,
          7,
          30,
          61,
          3,
          3,
          7,
          4,
          4,
          7,
          13,
          3,
          4,
          1,
          12,
          58,
          2,
          4,
          19,
          7,
          5,
          31,
          5,
          22,
          14,
          3,
          12,
          3,
          1,
          10
         ],
         "xaxis": "x",
         "y": [
          "<i>Acrostichum aureum</i>",
          "<i>Ageratina ixiocladon</i>",
          "<i>Ageratina ligustrina</i>",
          "<i>Ageratum conyzoides</i>",
          "<i>Alibertia edulis</i>",
          "<i>Avicennia bicolor</i>",
          "<i>Avicennia germinans</i>",
          "<i>Caesalpinia pulcherrima</i>",
          "<i>Calea urticifolia</i>",
          "<i>Cassia grandis</i>",
          "<i>Catharanthus roseus</i>",
          "<i>Cnidoscolus urens</i>",
          "<i>Cojoba arborea</i>",
          "<i>Crescentia cujete</i>",
          "<i>Cryptostegia madagascariensis</i>",
          "<i>Cymbopogon citratus</i>",
          "<i>Eichhornia crassipes</i>",
          "<i>Faramea occidentalis</i>",
          "<i>Ficus benjamina</i>",
          "<i>Genipa americana</i>",
          "<i>Gliricidia sepium</i>",
          "<i>Guilandina bonduc</i>",
          "<i>Handroanthus chrysanthus</i>",
          "<i>Hedyosmum bonplandianum</i>",
          "<i>Hymenaea courbaril</i>",
          "<i>Ipomoea nil</i>",
          "<i>Jatropha gossypiifolia</i>",
          "<i>Lantana camara</i>",
          "<i>Lawsonia inermis</i>",
          "<i>Maclura tinctoria</i>",
          "<i>Marila laxiflora</i>",
          "<i>Maytenus woodsonii</i>",
          "<i>Mesosphaerum suaveolens</i>",
          "<i>Mikania micrantha</i>",
          "<i>Morinda citrifolia</i>",
          "<i>Myrciaria floribunda</i>",
          "<i>Nasturtium officinale</i>",
          "<i>Onoseris onoseroides</i>",
          "<i>Paullinia pinnata</i>",
          "<i>Peperomia galioides</i>",
          "<i>Persicaria pubescens</i>",
          "<i>Phyllanthus acuminatus</i>",
          "<i>Phytolacca rivinoides</i>",
          "<i>Picramnia latifolia</i>",
          "<i>Piper multiplinervium</i>",
          "<i>Piptocarpha poeppigiana</i>",
          "<i>Plumeria rubra</i>",
          "<i>Posoqueria latifolia</i>",
          "<i>Prosopis juliflora</i>",
          "<i>Quassia amara</i>",
          "<i>Rhizophora mangle</i>",
          "<i>Saccharum officinarum</i>",
          "<i>Sansevieria trifasciata</i>",
          "<i>Smilax officinalis</i>",
          "<i>Talipariti tiliaceum</i>",
          "<i>Telanthophora grandifolia</i>",
          "<i>Trattinnickia aspera</i>",
          "<i>Trichilia pallida</i>",
          "<i>Urochloa decumbens</i>",
          "<i>Verbesina myriocephala</i>",
          "<i>Xylopia frutescens</i>"
         ],
         "yaxis": "y"
        }
       ],
       "layout": {
        "barmode": "relative",
        "height": 1500,
        "legend": {
         "title": {
          "text": "Pathway"
         },
         "tracegroupgap": 0
        },
        "plot_bgcolor": "white",
        "template": {
         "data": {
          "bar": [
           {
            "error_x": {
             "color": "#2a3f5f"
            },
            "error_y": {
             "color": "#2a3f5f"
            },
            "marker": {
             "line": {
              "color": "#E5ECF6",
              "width": 0.5
             },
             "pattern": {
              "fillmode": "overlay",
              "size": 10,
              "solidity": 0.2
             }
            },
            "type": "bar"
           }
          ],
          "barpolar": [
           {
            "marker": {
             "line": {
              "color": "#E5ECF6",
              "width": 0.5
             },
             "pattern": {
              "fillmode": "overlay",
              "size": 10,
              "solidity": 0.2
             }
            },
            "type": "barpolar"
           }
          ],
          "carpet": [
           {
            "aaxis": {
             "endlinecolor": "#2a3f5f",
             "gridcolor": "white",
             "linecolor": "white",
             "minorgridcolor": "white",
             "startlinecolor": "#2a3f5f"
            },
            "baxis": {
             "endlinecolor": "#2a3f5f",
             "gridcolor": "white",
             "linecolor": "white",
             "minorgridcolor": "white",
             "startlinecolor": "#2a3f5f"
            },
            "type": "carpet"
           }
          ],
          "choropleth": [
           {
            "colorbar": {
             "outlinewidth": 0,
             "ticks": ""
            },
            "type": "choropleth"
           }
          ],
          "contour": [
           {
            "colorbar": {
             "outlinewidth": 0,
             "ticks": ""
            },
            "colorscale": [
             [
              0,
              "#0d0887"
             ],
             [
              0.1111111111111111,
              "#46039f"
             ],
             [
              0.2222222222222222,
              "#7201a8"
             ],
             [
              0.3333333333333333,
              "#9c179e"
             ],
             [
              0.4444444444444444,
              "#bd3786"
             ],
             [
              0.5555555555555556,
              "#d8576b"
             ],
             [
              0.6666666666666666,
              "#ed7953"
             ],
             [
              0.7777777777777778,
              "#fb9f3a"
             ],
             [
              0.8888888888888888,
              "#fdca26"
             ],
             [
              1,
              "#f0f921"
             ]
            ],
            "type": "contour"
           }
          ],
          "contourcarpet": [
           {
            "colorbar": {
             "outlinewidth": 0,
             "ticks": ""
            },
            "type": "contourcarpet"
           }
          ],
          "heatmap": [
           {
            "colorbar": {
             "outlinewidth": 0,
             "ticks": ""
            },
            "colorscale": [
             [
              0,
              "#0d0887"
             ],
             [
              0.1111111111111111,
              "#46039f"
             ],
             [
              0.2222222222222222,
              "#7201a8"
             ],
             [
              0.3333333333333333,
              "#9c179e"
             ],
             [
              0.4444444444444444,
              "#bd3786"
             ],
             [
              0.5555555555555556,
              "#d8576b"
             ],
             [
              0.6666666666666666,
              "#ed7953"
             ],
             [
              0.7777777777777778,
              "#fb9f3a"
             ],
             [
              0.8888888888888888,
              "#fdca26"
             ],
             [
              1,
              "#f0f921"
             ]
            ],
            "type": "heatmap"
           }
          ],
          "heatmapgl": [
           {
            "colorbar": {
             "outlinewidth": 0,
             "ticks": ""
            },
            "colorscale": [
             [
              0,
              "#0d0887"
             ],
             [
              0.1111111111111111,
              "#46039f"
             ],
             [
              0.2222222222222222,
              "#7201a8"
             ],
             [
              0.3333333333333333,
              "#9c179e"
             ],
             [
              0.4444444444444444,
              "#bd3786"
             ],
             [
              0.5555555555555556,
              "#d8576b"
             ],
             [
              0.6666666666666666,
              "#ed7953"
             ],
             [
              0.7777777777777778,
              "#fb9f3a"
             ],
             [
              0.8888888888888888,
              "#fdca26"
             ],
             [
              1,
              "#f0f921"
             ]
            ],
            "type": "heatmapgl"
           }
          ],
          "histogram": [
           {
            "marker": {
             "pattern": {
              "fillmode": "overlay",
              "size": 10,
              "solidity": 0.2
             }
            },
            "type": "histogram"
           }
          ],
          "histogram2d": [
           {
            "colorbar": {
             "outlinewidth": 0,
             "ticks": ""
            },
            "colorscale": [
             [
              0,
              "#0d0887"
             ],
             [
              0.1111111111111111,
              "#46039f"
             ],
             [
              0.2222222222222222,
              "#7201a8"
             ],
             [
              0.3333333333333333,
              "#9c179e"
             ],
             [
              0.4444444444444444,
              "#bd3786"
             ],
             [
              0.5555555555555556,
              "#d8576b"
             ],
             [
              0.6666666666666666,
              "#ed7953"
             ],
             [
              0.7777777777777778,
              "#fb9f3a"
             ],
             [
              0.8888888888888888,
              "#fdca26"
             ],
             [
              1,
              "#f0f921"
             ]
            ],
            "type": "histogram2d"
           }
          ],
          "histogram2dcontour": [
           {
            "colorbar": {
             "outlinewidth": 0,
             "ticks": ""
            },
            "colorscale": [
             [
              0,
              "#0d0887"
             ],
             [
              0.1111111111111111,
              "#46039f"
             ],
             [
              0.2222222222222222,
              "#7201a8"
             ],
             [
              0.3333333333333333,
              "#9c179e"
             ],
             [
              0.4444444444444444,
              "#bd3786"
             ],
             [
              0.5555555555555556,
              "#d8576b"
             ],
             [
              0.6666666666666666,
              "#ed7953"
             ],
             [
              0.7777777777777778,
              "#fb9f3a"
             ],
             [
              0.8888888888888888,
              "#fdca26"
             ],
             [
              1,
              "#f0f921"
             ]
            ],
            "type": "histogram2dcontour"
           }
          ],
          "mesh3d": [
           {
            "colorbar": {
             "outlinewidth": 0,
             "ticks": ""
            },
            "type": "mesh3d"
           }
          ],
          "parcoords": [
           {
            "line": {
             "colorbar": {
              "outlinewidth": 0,
              "ticks": ""
             }
            },
            "type": "parcoords"
           }
          ],
          "pie": [
           {
            "automargin": true,
            "type": "pie"
           }
          ],
          "scatter": [
           {
            "fillpattern": {
             "fillmode": "overlay",
             "size": 10,
             "solidity": 0.2
            },
            "type": "scatter"
           }
          ],
          "scatter3d": [
           {
            "line": {
             "colorbar": {
              "outlinewidth": 0,
              "ticks": ""
             }
            },
            "marker": {
             "colorbar": {
              "outlinewidth": 0,
              "ticks": ""
             }
            },
            "type": "scatter3d"
           }
          ],
          "scattercarpet": [
           {
            "marker": {
             "colorbar": {
              "outlinewidth": 0,
              "ticks": ""
             }
            },
            "type": "scattercarpet"
           }
          ],
          "scattergeo": [
           {
            "marker": {
             "colorbar": {
              "outlinewidth": 0,
              "ticks": ""
             }
            },
            "type": "scattergeo"
           }
          ],
          "scattergl": [
           {
            "marker": {
             "colorbar": {
              "outlinewidth": 0,
              "ticks": ""
             }
            },
            "type": "scattergl"
           }
          ],
          "scattermapbox": [
           {
            "marker": {
             "colorbar": {
              "outlinewidth": 0,
              "ticks": ""
             }
            },
            "type": "scattermapbox"
           }
          ],
          "scatterpolar": [
           {
            "marker": {
             "colorbar": {
              "outlinewidth": 0,
              "ticks": ""
             }
            },
            "type": "scatterpolar"
           }
          ],
          "scatterpolargl": [
           {
            "marker": {
             "colorbar": {
              "outlinewidth": 0,
              "ticks": ""
             }
            },
            "type": "scatterpolargl"
           }
          ],
          "scatterternary": [
           {
            "marker": {
             "colorbar": {
              "outlinewidth": 0,
              "ticks": ""
             }
            },
            "type": "scatterternary"
           }
          ],
          "surface": [
           {
            "colorbar": {
             "outlinewidth": 0,
             "ticks": ""
            },
            "colorscale": [
             [
              0,
              "#0d0887"
             ],
             [
              0.1111111111111111,
              "#46039f"
             ],
             [
              0.2222222222222222,
              "#7201a8"
             ],
             [
              0.3333333333333333,
              "#9c179e"
             ],
             [
              0.4444444444444444,
              "#bd3786"
             ],
             [
              0.5555555555555556,
              "#d8576b"
             ],
             [
              0.6666666666666666,
              "#ed7953"
             ],
             [
              0.7777777777777778,
              "#fb9f3a"
             ],
             [
              0.8888888888888888,
              "#fdca26"
             ],
             [
              1,
              "#f0f921"
             ]
            ],
            "type": "surface"
           }
          ],
          "table": [
           {
            "cells": {
             "fill": {
              "color": "#EBF0F8"
             },
             "line": {
              "color": "white"
             }
            },
            "header": {
             "fill": {
              "color": "#C8D4E3"
             },
             "line": {
              "color": "white"
             }
            },
            "type": "table"
           }
          ]
         },
         "layout": {
          "annotationdefaults": {
           "arrowcolor": "#2a3f5f",
           "arrowhead": 0,
           "arrowwidth": 1
          },
          "autotypenumbers": "strict",
          "coloraxis": {
           "colorbar": {
            "outlinewidth": 0,
            "ticks": ""
           }
          },
          "colorscale": {
           "diverging": [
            [
             0,
             "#8e0152"
            ],
            [
             0.1,
             "#c51b7d"
            ],
            [
             0.2,
             "#de77ae"
            ],
            [
             0.3,
             "#f1b6da"
            ],
            [
             0.4,
             "#fde0ef"
            ],
            [
             0.5,
             "#f7f7f7"
            ],
            [
             0.6,
             "#e6f5d0"
            ],
            [
             0.7,
             "#b8e186"
            ],
            [
             0.8,
             "#7fbc41"
            ],
            [
             0.9,
             "#4d9221"
            ],
            [
             1,
             "#276419"
            ]
           ],
           "sequential": [
            [
             0,
             "#0d0887"
            ],
            [
             0.1111111111111111,
             "#46039f"
            ],
            [
             0.2222222222222222,
             "#7201a8"
            ],
            [
             0.3333333333333333,
             "#9c179e"
            ],
            [
             0.4444444444444444,
             "#bd3786"
            ],
            [
             0.5555555555555556,
             "#d8576b"
            ],
            [
             0.6666666666666666,
             "#ed7953"
            ],
            [
             0.7777777777777778,
             "#fb9f3a"
            ],
            [
             0.8888888888888888,
             "#fdca26"
            ],
            [
             1,
             "#f0f921"
            ]
           ],
           "sequentialminus": [
            [
             0,
             "#0d0887"
            ],
            [
             0.1111111111111111,
             "#46039f"
            ],
            [
             0.2222222222222222,
             "#7201a8"
            ],
            [
             0.3333333333333333,
             "#9c179e"
            ],
            [
             0.4444444444444444,
             "#bd3786"
            ],
            [
             0.5555555555555556,
             "#d8576b"
            ],
            [
             0.6666666666666666,
             "#ed7953"
            ],
            [
             0.7777777777777778,
             "#fb9f3a"
            ],
            [
             0.8888888888888888,
             "#fdca26"
            ],
            [
             1,
             "#f0f921"
            ]
           ]
          },
          "colorway": [
           "#636efa",
           "#EF553B",
           "#00cc96",
           "#ab63fa",
           "#FFA15A",
           "#19d3f3",
           "#FF6692",
           "#B6E880",
           "#FF97FF",
           "#FECB52"
          ],
          "font": {
           "color": "#2a3f5f"
          },
          "geo": {
           "bgcolor": "white",
           "lakecolor": "white",
           "landcolor": "#E5ECF6",
           "showlakes": true,
           "showland": true,
           "subunitcolor": "white"
          },
          "hoverlabel": {
           "align": "left"
          },
          "hovermode": "closest",
          "mapbox": {
           "style": "light"
          },
          "paper_bgcolor": "white",
          "plot_bgcolor": "#E5ECF6",
          "polar": {
           "angularaxis": {
            "gridcolor": "white",
            "linecolor": "white",
            "ticks": ""
           },
           "bgcolor": "#E5ECF6",
           "radialaxis": {
            "gridcolor": "white",
            "linecolor": "white",
            "ticks": ""
           }
          },
          "scene": {
           "xaxis": {
            "backgroundcolor": "#E5ECF6",
            "gridcolor": "white",
            "gridwidth": 2,
            "linecolor": "white",
            "showbackground": true,
            "ticks": "",
            "zerolinecolor": "white"
           },
           "yaxis": {
            "backgroundcolor": "#E5ECF6",
            "gridcolor": "white",
            "gridwidth": 2,
            "linecolor": "white",
            "showbackground": true,
            "ticks": "",
            "zerolinecolor": "white"
           },
           "zaxis": {
            "backgroundcolor": "#E5ECF6",
            "gridcolor": "white",
            "gridwidth": 2,
            "linecolor": "white",
            "showbackground": true,
            "ticks": "",
            "zerolinecolor": "white"
           }
          },
          "shapedefaults": {
           "line": {
            "color": "#2a3f5f"
           }
          },
          "ternary": {
           "aaxis": {
            "gridcolor": "white",
            "linecolor": "white",
            "ticks": ""
           },
           "baxis": {
            "gridcolor": "white",
            "linecolor": "white",
            "ticks": ""
           },
           "bgcolor": "#E5ECF6",
           "caxis": {
            "gridcolor": "white",
            "linecolor": "white",
            "ticks": ""
           }
          },
          "title": {
           "x": 0.05
          },
          "xaxis": {
           "automargin": true,
           "gridcolor": "white",
           "linecolor": "white",
           "ticks": "",
           "title": {
            "standoff": 15
           },
           "zerolinecolor": "white",
           "zerolinewidth": 2
          },
          "yaxis": {
           "automargin": true,
           "gridcolor": "white",
           "linecolor": "white",
           "ticks": "",
           "title": {
            "standoff": 15
           },
           "zerolinecolor": "white",
           "zerolinewidth": 2
          }
         }
        },
        "title": {
         "font": {
          "color": "black",
          "family": "Times New Roman",
          "size": 18
         },
         "text": "Stacked Barplot of Predicted Pathways Ocurrence for Species"
        },
        "width": 1500,
        "xaxis": {
         "anchor": "y",
         "domain": [
          0,
          1
         ],
         "title": {
          "text": "Recurrence"
         }
        },
        "yaxis": {
         "anchor": "x",
         "domain": [
          0,
          1
         ],
         "tickmode": "array",
         "ticktext": [
          "<i>Acrocomia aculeata</i>",
          "<i>Acrostichum aureum</i>",
          "<i>Ageratina ixiocladon</i>",
          "<i>Ageratina ligustrina</i>",
          "<i>Ageratum conyzoides</i>",
          "<i>Albizia adinocephala</i>",
          "<i>Alibertia edulis</i>",
          "<i>Apeiba tibourbou</i>",
          "<i>Arthraxon hispidus</i>",
          "<i>Avicennia bicolor</i>",
          "<i>Avicennia germinans</i>",
          "<i>Caesalpinia pulcherrima</i>",
          "<i>Calceolaria irazuensis</i>",
          "<i>Calea urticifolia</i>",
          "<i>Camonea umbellata</i>",
          "<i>Canavalia rosea</i>",
          "<i>Cassia grandis</i>",
          "<i>Catharanthus roseus</i>",
          "<i>Cissus verticillata</i>",
          "<i>Clarisia racemosa</i>",
          "<i>Cnidoscolus urens</i>",
          "<i>Cojoba arborea</i>",
          "<i>Crescentia cujete</i>",
          "<i>Cryptostegia madagascariensis</i>",
          "<i>Cymbopogon citratus</i>",
          "<i>Delonix regia</i>",
          "<i>Eichhornia crassipes</i>",
          "<i>Erythrina berteroana</i>",
          "<i>Erythroxylum fimbriatum</i>",
          "<i>Euphorbia hypericifolia</i>",
          "<i>Faramea occidentalis</i>",
          "<i>Ficus benjamina</i>",
          "<i>Ficus maxima</i>",
          "<i>Fuchsia splendens</i>",
          "<i>Genipa americana</i>",
          "<i>Gliricidia sepium</i>",
          "<i>Guilandina bonduc</i>",
          "<i>Handroanthus chrysanthus</i>",
          "<i>Hedyosmum bonplandianum</i>",
          "<i>Herrania purpurea</i>",
          "<i>Hymenaea courbaril</i>",
          "<i>Indigofera hirsuta</i>",
          "<i>Ipomoea nil</i>",
          "<i>Jatropha gossypiifolia</i>",
          "<i>Laguncularia racemosa</i>",
          "<i>Lantana camara</i>",
          "<i>Lawsonia inermis</i>",
          "<i>Lonchocarpus heptaphyllus</i>",
          "<i>Maclura tinctoria</i>",
          "<i>Marila laxiflora</i>",
          "<i>Maytenus woodsonii</i>",
          "<i>Mesosphaerum suaveolens</i>",
          "<i>Mikania micrantha</i>",
          "<i>Mimosa pudica</i>",
          "<i>Morinda citrifolia</i>",
          "<i>Myrciaria floribunda</i>",
          "<i>Nasturtium officinale</i>",
          "<i>Omphalea diandra</i>",
          "<i>Onoseris onoseroides</i>",
          "<i>Paullinia pinnata</i>",
          "<i>Peperomia galioides</i>",
          "<i>Persicaria pubescens</i>",
          "<i>Phenax angustifolius</i>",
          "<i>Phyllanthus acuminatus</i>",
          "<i>Phytolacca rivinoides</i>",
          "<i>Picramnia latifolia</i>",
          "<i>Piper multiplinervium</i>",
          "<i>Piper reticulatum</i>",
          "<i>Piper tuberculatum</i>",
          "<i>Piptocarpha poeppigiana</i>",
          "<i>Plumeria rubra</i>",
          "<i>Posoqueria latifolia</i>",
          "<i>Prosopis juliflora</i>",
          "<i>Quassia amara</i>",
          "<i>Rauvolfia littoralis</i>",
          "<i>Rhizophora mangle</i>",
          "<i>Saccharum officinarum</i>",
          "<i>Samanea saman</i>",
          "<i>Sansevieria trifasciata</i>",
          "<i>Sapium laurifolium</i>",
          "<i>Siparuna grandiflora</i>",
          "<i>Smilax officinalis</i>",
          "<i>Syzygium malaccense</i>",
          "<i>Talipariti tiliaceum</i>",
          "<i>Telanthophora grandifolia</i>",
          "<i>Tovomita longifolia</i>",
          "<i>Trattinnickia aspera</i>",
          "<i>Trichilia pallida</i>",
          "<i>Urochloa decumbens</i>",
          "<i>Vasconcellea cauliflora</i>",
          "<i>Verbesina myriocephala</i>",
          "<i>Xylopia frutescens</i>"
         ],
         "tickvals": [
          0,
          1,
          2,
          3,
          4,
          5,
          6,
          7,
          8,
          9,
          10,
          11,
          12,
          13,
          14,
          15,
          16,
          17,
          18,
          19,
          20,
          21,
          22,
          23,
          24,
          25,
          26,
          27,
          28,
          29,
          30,
          31,
          32,
          33,
          34,
          35,
          36,
          37,
          38,
          39,
          40,
          41,
          42,
          43,
          44,
          45,
          46,
          47,
          48,
          49,
          50,
          51,
          52,
          53,
          54,
          55,
          56,
          57,
          58,
          59,
          60,
          61,
          62,
          63,
          64,
          65,
          66,
          67,
          68,
          69,
          70,
          71,
          72,
          73,
          74,
          75,
          76,
          77,
          78,
          79,
          80,
          81,
          82,
          83,
          84,
          85,
          86,
          87,
          88,
          89,
          90,
          91
         ],
         "title": {
          "text": "<i>Species<i>"
         }
        }
       }
      }
     },
     "metadata": {},
     "output_type": "display_data"
    }
   ],
   "source": [
    "# Define custom colors for the 7 pathway categories\n",
    "pathway_colors = {\n",
    "    'Terpenoids': '#618264',  # Green start and lighter green end\n",
    "    'Alkaloids': '#305F72',   # Blue start and lighter blue end\n",
    "    'Shikimates and Phenylpropanoids': '#80558C',  # Purple start and lighter purple end\n",
    "    'Polyketides': '#EF4B4B',  # Red start and lighter purple end\n",
    "    'Fatty acids': '#FF6C22',  # Orange start and lighter purple end\n",
    "    'Amino acids and Peptides': '#F4E869',  # Yellow start and lighter purple end\n",
    "    'Carbohydrates': '#65451F' # Brown start and lighter purple end\n",
    "}\n",
    "\n",
    "# Step 1: Initialize an empty DataFrame to store all data\n",
    "all_data = pd.DataFrame(columns=['organism_taxonomy_09species', 'structure_taxonomy_npclassifier_01pathway'])\n",
    "\n",
    "# Step 2: Read data from all .tsv files in the output_folder\n",
    "species_data_folder = os.path.join(output_folder, 'species_data')\n",
    "for filename in os.listdir(species_data_folder):\n",
    "    if filename.endswith(\".tsv\"):\n",
    "        file_data = pd.read_csv(os.path.join(species_data_folder, filename), sep='\\t')\n",
    "        all_data = pd.concat([all_data, file_data])\n",
    "\n",
    "# Step 3: Rename the \"queried_taxaLabel\" column to \"species\"\n",
    "all_data.rename(columns={'organism_taxonomy_09species': 'species'}, inplace=True)\n",
    "all_data.rename(columns={'structure_taxonomy_npclassifier_01pathway': 'Pathway'}, inplace=True)\n",
    "# Remove 'API Error-API Error' and 'Not Classified-Not Classified'\n",
    "all_data = all_data[(all_data['Pathway'] != 'API Error') & (all_data['Pathway'] != 'Not Classified')]\n",
    "\n",
    "# Step 4: Group and aggregate data to calculate recurrence\n",
    "agg_data = all_data.groupby(['species', 'Pathway']).size().reset_index(name='recurrence')\n",
    "\n",
    "\n",
    "# Get unique species names\n",
    "unique_species = agg_data['species'].unique()\n",
    "\n",
    "# Step 5: Create the stacked barplot with custom colors\n",
    "fig = px.bar(agg_data, y=agg_data['species'].apply(lambda x: f\"<i>{x}</i>\"), x='recurrence',\n",
    "             title='Stacked Barplot of Predicted Pathways Ocurrence for Species',\n",
    "             labels={'recurrence': 'Recurrence'},\n",
    "             color='Pathway',\n",
    "             color_discrete_map=pathway_colors,  # Use custom colors\n",
    "             category_orders={'Pathway': sorted(agg_data['Pathway'].unique())},\n",
    "             orientation='h'\n",
    "            )\n",
    "\n",
    "# Set species labels in italics\n",
    "fig.update_layout(yaxis=dict(tickmode='array',\n",
    "                                  tickvals=list(range(len(unique_species))),\n",
    "                                  ticktext=[f'<i>{species}</i>' for species in unique_species]\n",
    "                                  ))                            \n",
    "\n",
    "# Modify the y-axis label\n",
    "fig.update_yaxes(title_text='<i>Species<i>')\n",
    "\n",
    "# Set a white background\n",
    "fig.update_layout(plot_bgcolor='white')\n",
    "\n",
    "# Modify the size of the figure\n",
    "fig.update_layout(width=1500, height=1500)\n",
    "\n",
    "# Define font style\n",
    "font_style = dict(family=\"Times New Roman\", size=18, color=\"black\")\n",
    "\n",
    "# Set the font style for title\n",
    "fig.update_layout(title_font=font_style)\n",
    "\n",
    "# Save the figure as an HTML file\n",
    "fig.write_html(f'{output_folder}Wikidata_pathway_barplot.html')\n",
    "\n",
    "# Show or save the figure\n",
    "fig.show()"
   ]
  },
  {
   "cell_type": "code",
   "execution_count": null,
   "metadata": {},
   "outputs": [],
   "source": [
    "barplot_pathway_species_normalized(output_folder):\n",
    "    \"\"\"\n",
    "    Process data from .tsv files in the output folder and visualize it with a normalized stacked barplot.\n",
    "\n",
    "    Parameters:\n",
    "    output_folder (str): Path to the folder containing .tsv files.\n",
    "\n",
    "    Returns:\n",
    "    None\n",
    "    \"\"\"\n",
    "    # Define custom colors for the 7 pathway categories\n",
    "    pathway_colors = {\n",
    "        'Terpenoids': '#618264',  # Green start and lighter green end\n",
    "        'Alkaloids': '#305F72',   # Blue start and lighter blue end\n",
    "        'Shikimates and Phenylpropanoids': '#80558C',  # Purple start and lighter purple end\n",
    "        'Polyketides': '#EF4B4B',  # Red start and lighter purple end\n",
    "        'Fatty acids': '#FF6C22',  # Orange start and lighter purple end\n",
    "        'Amino acids and Peptides': '#F4E869',  # Yellow start and lighter purple end\n",
    "        'Carbohydrates': '#65451F' # Brown start and lighter purple end\n",
    "    } \n",
    "    # Step 1: Initialize an empty DataFrame to store all data\n",
    "    all_data = pd.DataFrame(columns=['organism_taxonomy_09species', 'structure_taxonomy_npclassifier_01pathway'])\n",
    "\n",
    "    # Step 2: Read data from all .tsv files in the output_folder\n",
    "    species_data_folder = os.path.join(output_folder)\n",
    "    for filename in os.listdir(species_data_folder):\n",
    "        if filename.endswith(\".tsv\"):\n",
    "            file_data = pd.read_csv(os.path.join(species_data_folder, filename), sep='\\t')\n",
    "            all_data = pd.concat([all_data, file_data])\n",
    "\n",
    "    # Step 3: Rename the \"queried_taxaLabel\" column to \"species\"\n",
    "    all_data.rename(columns={'organism_taxonomy_09species': 'species'}, inplace=True)\n",
    "    all_data.rename(columns={'structure_taxonomy_npclassifier_01pathway': 'Pathway'}, inplace=True)\n",
    "\n",
    "    # Remove 'API Error-API Error' and 'Not Classified-Not Classified'\n",
    "    all_data = all_data[(all_data['Pathway'] != 'API Error') & (all_data['Pathway'] != 'Not Classified')]\n",
    "\n",
    "    # Step 4: Group and aggregate data to calculate recurrence\n",
    "    agg_data = all_data.groupby(['species', 'Pathway']).size().reset_index(name='recurrence')\n",
    "\n",
    "    # Normalize the recurrence values within each species group\n",
    "    agg_data['recurrence_normalized'] = agg_data.groupby('species')['recurrence'].transform(lambda x: x / x.sum())*100\n",
    "\n",
    "    # Convert 'species' column to categorical data\n",
    "    agg_data['species'] = pd.Categorical(agg_data['species'], categories=agg_data['species'].unique(), ordered=True)\n",
    "\n",
    "    # Get unique species names\n",
    "    unique_species = agg_data['species'].unique()\n",
    "\n",
    "    # Get unique pathways and sort them alphabetically\n",
    "    unique_pathways = sorted(agg_data['Pathway'].unique())\n",
    "\n",
    "    # Calculate total recurrence for each species\n",
    "    total_recurrence_per_species = agg_data.groupby('species')['recurrence'].sum()\n",
    "\n",
    "\n",
    "    # Step 5: Create the stacked barplot with custom colors\n",
    "    fig = px.bar(agg_data, y='species', x='recurrence_normalized',\n",
    "                title='Normalized Stacked Barplot of Predicted Pathways Ocurrence for Species',\n",
    "                labels={'recurrence_normalized': 'Recurrence'},\n",
    "                color='Pathway',\n",
    "                color_discrete_map=pathway_colors,  # Use custom colors\n",
    "                category_orders={'species': unique_species, 'Pathway' :unique_pathways },\n",
    "                orientation='h'\n",
    "                )\n",
    "\n",
    "    # Modify the y-axis label\n",
    "    fig.update_yaxes(title_text='<i>Species<i>')\n",
    "\n",
    "    # Set species labels in italics\n",
    "    fig.update_layout(yaxis=dict(tickmode='array', \n",
    "                                tickvals=list(range(len(unique_species))), \n",
    "                                ticktext=[f'<i>{species}</i>' for species in unique_species]\n",
    "                                ))\n",
    "    # Get the maximum value of the x-axis\n",
    "    max_x = agg_data['recurrence_normalized'].max()\n",
    "\n",
    "    for species, total_recurrence in total_recurrence_per_species.items():\n",
    "        # Find the maximum recurrence for this species\n",
    "        max_recurrence = agg_data[agg_data['species'] == species]['recurrence_normalized'].max()\n",
    "        \n",
    "        # Position the annotation at the end of the bar with a slight offset\n",
    "        x_position = max_x + 2\n",
    "        if x_position > 100:  # Ensure the label is not outside the plot area\n",
    "            x_position = 100  # Set it to 100 if it exceeds the maximum x-axis value\n",
    "\n",
    "        # Add annotation to the plot\n",
    "        fig.add_annotation(\n",
    "            x=x_position,\n",
    "            y=species,\n",
    "            text=f'Total compounds: {total_recurrence}',\n",
    "            showarrow=False,\n",
    "            font=dict(size=10, color='black'),\n",
    "            xanchor='left',\n",
    "            yanchor='middle'\n",
    "        )\n",
    "        \n",
    "    # Set a white background\n",
    "    fig.update_layout(plot_bgcolor='white')\n",
    "\n",
    "    # Modify the size of the figure\n",
    "    fig.update_layout(width=1500, height=1500)\n",
    "\n",
    "    # Save the figure as an HTML file\n",
    "    fig.write_html(f'{output_folder}Wikidata_pathway_barplot_normalized.html')\n",
    "\n",
    "    # Show or save the figure\n",
    "    fig.show()"
   ]
  },
  {
   "cell_type": "markdown",
   "metadata": {},
   "source": [
    "Generate une plot by GENUS and the chemical class"
   ]
  },
  {
   "cell_type": "code",
   "execution_count": 34,
   "metadata": {},
   "outputs": [
    {
     "name": "stderr",
     "output_type": "stream",
     "text": [
      "C:\\Users\\quirosgu\\AppData\\Local\\Temp\\ipykernel_11824\\1023424903.py:38: FutureWarning:\n",
      "\n",
      "The behavior of DataFrame concatenation with empty or all-NA entries is deprecated. In a future version, this will no longer exclude empty or all-NA columns when determining the result dtypes. To retain the old behavior, exclude the relevant entries before the concat operation.\n",
      "\n",
      "C:\\Users\\quirosgu\\AppData\\Local\\Temp\\ipykernel_11824\\1023424903.py:38: FutureWarning:\n",
      "\n",
      "The behavior of DataFrame concatenation with empty or all-NA entries is deprecated. In a future version, this will no longer exclude empty or all-NA columns when determining the result dtypes. To retain the old behavior, exclude the relevant entries before the concat operation.\n",
      "\n",
      "C:\\Users\\quirosgu\\AppData\\Local\\Temp\\ipykernel_11824\\1023424903.py:38: FutureWarning:\n",
      "\n",
      "The behavior of DataFrame concatenation with empty or all-NA entries is deprecated. In a future version, this will no longer exclude empty or all-NA columns when determining the result dtypes. To retain the old behavior, exclude the relevant entries before the concat operation.\n",
      "\n",
      "C:\\Users\\quirosgu\\AppData\\Local\\Temp\\ipykernel_11824\\1023424903.py:38: FutureWarning:\n",
      "\n",
      "The behavior of DataFrame concatenation with empty or all-NA entries is deprecated. In a future version, this will no longer exclude empty or all-NA columns when determining the result dtypes. To retain the old behavior, exclude the relevant entries before the concat operation.\n",
      "\n",
      "C:\\Users\\quirosgu\\AppData\\Local\\Temp\\ipykernel_11824\\1023424903.py:38: FutureWarning:\n",
      "\n",
      "The behavior of DataFrame concatenation with empty or all-NA entries is deprecated. In a future version, this will no longer exclude empty or all-NA columns when determining the result dtypes. To retain the old behavior, exclude the relevant entries before the concat operation.\n",
      "\n",
      "C:\\Users\\quirosgu\\AppData\\Local\\Temp\\ipykernel_11824\\1023424903.py:38: FutureWarning:\n",
      "\n",
      "The behavior of DataFrame concatenation with empty or all-NA entries is deprecated. In a future version, this will no longer exclude empty or all-NA columns when determining the result dtypes. To retain the old behavior, exclude the relevant entries before the concat operation.\n",
      "\n",
      "C:\\Users\\quirosgu\\AppData\\Local\\Temp\\ipykernel_11824\\1023424903.py:38: FutureWarning:\n",
      "\n",
      "The behavior of DataFrame concatenation with empty or all-NA entries is deprecated. In a future version, this will no longer exclude empty or all-NA columns when determining the result dtypes. To retain the old behavior, exclude the relevant entries before the concat operation.\n",
      "\n",
      "C:\\Users\\quirosgu\\AppData\\Local\\Temp\\ipykernel_11824\\1023424903.py:38: FutureWarning:\n",
      "\n",
      "The behavior of DataFrame concatenation with empty or all-NA entries is deprecated. In a future version, this will no longer exclude empty or all-NA columns when determining the result dtypes. To retain the old behavior, exclude the relevant entries before the concat operation.\n",
      "\n",
      "C:\\Users\\quirosgu\\AppData\\Local\\Temp\\ipykernel_11824\\1023424903.py:38: FutureWarning:\n",
      "\n",
      "The behavior of DataFrame concatenation with empty or all-NA entries is deprecated. In a future version, this will no longer exclude empty or all-NA columns when determining the result dtypes. To retain the old behavior, exclude the relevant entries before the concat operation.\n",
      "\n",
      "C:\\Users\\quirosgu\\AppData\\Local\\Temp\\ipykernel_11824\\1023424903.py:38: FutureWarning:\n",
      "\n",
      "The behavior of DataFrame concatenation with empty or all-NA entries is deprecated. In a future version, this will no longer exclude empty or all-NA columns when determining the result dtypes. To retain the old behavior, exclude the relevant entries before the concat operation.\n",
      "\n",
      "C:\\Users\\quirosgu\\AppData\\Local\\Temp\\ipykernel_11824\\1023424903.py:38: FutureWarning:\n",
      "\n",
      "The behavior of DataFrame concatenation with empty or all-NA entries is deprecated. In a future version, this will no longer exclude empty or all-NA columns when determining the result dtypes. To retain the old behavior, exclude the relevant entries before the concat operation.\n",
      "\n",
      "C:\\Users\\quirosgu\\AppData\\Local\\Temp\\ipykernel_11824\\1023424903.py:38: FutureWarning:\n",
      "\n",
      "The behavior of DataFrame concatenation with empty or all-NA entries is deprecated. In a future version, this will no longer exclude empty or all-NA columns when determining the result dtypes. To retain the old behavior, exclude the relevant entries before the concat operation.\n",
      "\n",
      "C:\\Users\\quirosgu\\AppData\\Local\\Temp\\ipykernel_11824\\1023424903.py:38: FutureWarning:\n",
      "\n",
      "The behavior of DataFrame concatenation with empty or all-NA entries is deprecated. In a future version, this will no longer exclude empty or all-NA columns when determining the result dtypes. To retain the old behavior, exclude the relevant entries before the concat operation.\n",
      "\n",
      "C:\\Users\\quirosgu\\AppData\\Local\\Temp\\ipykernel_11824\\1023424903.py:38: FutureWarning:\n",
      "\n",
      "The behavior of DataFrame concatenation with empty or all-NA entries is deprecated. In a future version, this will no longer exclude empty or all-NA columns when determining the result dtypes. To retain the old behavior, exclude the relevant entries before the concat operation.\n",
      "\n",
      "C:\\Users\\quirosgu\\AppData\\Local\\Temp\\ipykernel_11824\\1023424903.py:38: FutureWarning:\n",
      "\n",
      "The behavior of DataFrame concatenation with empty or all-NA entries is deprecated. In a future version, this will no longer exclude empty or all-NA columns when determining the result dtypes. To retain the old behavior, exclude the relevant entries before the concat operation.\n",
      "\n",
      "C:\\Users\\quirosgu\\AppData\\Local\\Temp\\ipykernel_11824\\1023424903.py:38: FutureWarning:\n",
      "\n",
      "The behavior of DataFrame concatenation with empty or all-NA entries is deprecated. In a future version, this will no longer exclude empty or all-NA columns when determining the result dtypes. To retain the old behavior, exclude the relevant entries before the concat operation.\n",
      "\n",
      "C:\\Users\\quirosgu\\AppData\\Local\\Temp\\ipykernel_11824\\1023424903.py:38: FutureWarning:\n",
      "\n",
      "The behavior of DataFrame concatenation with empty or all-NA entries is deprecated. In a future version, this will no longer exclude empty or all-NA columns when determining the result dtypes. To retain the old behavior, exclude the relevant entries before the concat operation.\n",
      "\n",
      "C:\\Users\\quirosgu\\AppData\\Local\\Temp\\ipykernel_11824\\1023424903.py:38: FutureWarning:\n",
      "\n",
      "The behavior of DataFrame concatenation with empty or all-NA entries is deprecated. In a future version, this will no longer exclude empty or all-NA columns when determining the result dtypes. To retain the old behavior, exclude the relevant entries before the concat operation.\n",
      "\n",
      "C:\\Users\\quirosgu\\AppData\\Local\\Temp\\ipykernel_11824\\1023424903.py:38: FutureWarning:\n",
      "\n",
      "The behavior of DataFrame concatenation with empty or all-NA entries is deprecated. In a future version, this will no longer exclude empty or all-NA columns when determining the result dtypes. To retain the old behavior, exclude the relevant entries before the concat operation.\n",
      "\n",
      "C:\\Users\\quirosgu\\AppData\\Local\\Temp\\ipykernel_11824\\1023424903.py:38: FutureWarning:\n",
      "\n",
      "The behavior of DataFrame concatenation with empty or all-NA entries is deprecated. In a future version, this will no longer exclude empty or all-NA columns when determining the result dtypes. To retain the old behavior, exclude the relevant entries before the concat operation.\n",
      "\n",
      "C:\\Users\\quirosgu\\AppData\\Local\\Temp\\ipykernel_11824\\1023424903.py:38: FutureWarning:\n",
      "\n",
      "The behavior of DataFrame concatenation with empty or all-NA entries is deprecated. In a future version, this will no longer exclude empty or all-NA columns when determining the result dtypes. To retain the old behavior, exclude the relevant entries before the concat operation.\n",
      "\n",
      "C:\\Users\\quirosgu\\AppData\\Local\\Temp\\ipykernel_11824\\1023424903.py:38: FutureWarning:\n",
      "\n",
      "The behavior of DataFrame concatenation with empty or all-NA entries is deprecated. In a future version, this will no longer exclude empty or all-NA columns when determining the result dtypes. To retain the old behavior, exclude the relevant entries before the concat operation.\n",
      "\n",
      "C:\\Users\\quirosgu\\AppData\\Local\\Temp\\ipykernel_11824\\1023424903.py:38: FutureWarning:\n",
      "\n",
      "The behavior of DataFrame concatenation with empty or all-NA entries is deprecated. In a future version, this will no longer exclude empty or all-NA columns when determining the result dtypes. To retain the old behavior, exclude the relevant entries before the concat operation.\n",
      "\n",
      "C:\\Users\\quirosgu\\AppData\\Local\\Temp\\ipykernel_11824\\1023424903.py:38: FutureWarning:\n",
      "\n",
      "The behavior of DataFrame concatenation with empty or all-NA entries is deprecated. In a future version, this will no longer exclude empty or all-NA columns when determining the result dtypes. To retain the old behavior, exclude the relevant entries before the concat operation.\n",
      "\n",
      "C:\\Users\\quirosgu\\AppData\\Local\\Temp\\ipykernel_11824\\1023424903.py:38: FutureWarning:\n",
      "\n",
      "The behavior of DataFrame concatenation with empty or all-NA entries is deprecated. In a future version, this will no longer exclude empty or all-NA columns when determining the result dtypes. To retain the old behavior, exclude the relevant entries before the concat operation.\n",
      "\n",
      "C:\\Users\\quirosgu\\AppData\\Local\\Temp\\ipykernel_11824\\1023424903.py:38: FutureWarning:\n",
      "\n",
      "The behavior of DataFrame concatenation with empty or all-NA entries is deprecated. In a future version, this will no longer exclude empty or all-NA columns when determining the result dtypes. To retain the old behavior, exclude the relevant entries before the concat operation.\n",
      "\n",
      "C:\\Users\\quirosgu\\AppData\\Local\\Temp\\ipykernel_11824\\1023424903.py:38: FutureWarning:\n",
      "\n",
      "The behavior of DataFrame concatenation with empty or all-NA entries is deprecated. In a future version, this will no longer exclude empty or all-NA columns when determining the result dtypes. To retain the old behavior, exclude the relevant entries before the concat operation.\n",
      "\n",
      "C:\\Users\\quirosgu\\AppData\\Local\\Temp\\ipykernel_11824\\1023424903.py:38: FutureWarning:\n",
      "\n",
      "The behavior of DataFrame concatenation with empty or all-NA entries is deprecated. In a future version, this will no longer exclude empty or all-NA columns when determining the result dtypes. To retain the old behavior, exclude the relevant entries before the concat operation.\n",
      "\n",
      "C:\\Users\\quirosgu\\AppData\\Local\\Temp\\ipykernel_11824\\1023424903.py:38: FutureWarning:\n",
      "\n",
      "The behavior of DataFrame concatenation with empty or all-NA entries is deprecated. In a future version, this will no longer exclude empty or all-NA columns when determining the result dtypes. To retain the old behavior, exclude the relevant entries before the concat operation.\n",
      "\n",
      "C:\\Users\\quirosgu\\AppData\\Local\\Temp\\ipykernel_11824\\1023424903.py:38: FutureWarning:\n",
      "\n",
      "The behavior of DataFrame concatenation with empty or all-NA entries is deprecated. In a future version, this will no longer exclude empty or all-NA columns when determining the result dtypes. To retain the old behavior, exclude the relevant entries before the concat operation.\n",
      "\n",
      "C:\\Users\\quirosgu\\AppData\\Local\\Temp\\ipykernel_11824\\1023424903.py:38: FutureWarning:\n",
      "\n",
      "The behavior of DataFrame concatenation with empty or all-NA entries is deprecated. In a future version, this will no longer exclude empty or all-NA columns when determining the result dtypes. To retain the old behavior, exclude the relevant entries before the concat operation.\n",
      "\n",
      "C:\\Users\\quirosgu\\AppData\\Local\\Temp\\ipykernel_11824\\1023424903.py:38: FutureWarning:\n",
      "\n",
      "The behavior of DataFrame concatenation with empty or all-NA entries is deprecated. In a future version, this will no longer exclude empty or all-NA columns when determining the result dtypes. To retain the old behavior, exclude the relevant entries before the concat operation.\n",
      "\n",
      "C:\\Users\\quirosgu\\AppData\\Local\\Temp\\ipykernel_11824\\1023424903.py:38: FutureWarning:\n",
      "\n",
      "The behavior of DataFrame concatenation with empty or all-NA entries is deprecated. In a future version, this will no longer exclude empty or all-NA columns when determining the result dtypes. To retain the old behavior, exclude the relevant entries before the concat operation.\n",
      "\n",
      "C:\\Users\\quirosgu\\AppData\\Local\\Temp\\ipykernel_11824\\1023424903.py:38: FutureWarning:\n",
      "\n",
      "The behavior of DataFrame concatenation with empty or all-NA entries is deprecated. In a future version, this will no longer exclude empty or all-NA columns when determining the result dtypes. To retain the old behavior, exclude the relevant entries before the concat operation.\n",
      "\n",
      "C:\\Users\\quirosgu\\AppData\\Local\\Temp\\ipykernel_11824\\1023424903.py:38: FutureWarning:\n",
      "\n",
      "The behavior of DataFrame concatenation with empty or all-NA entries is deprecated. In a future version, this will no longer exclude empty or all-NA columns when determining the result dtypes. To retain the old behavior, exclude the relevant entries before the concat operation.\n",
      "\n",
      "C:\\Users\\quirosgu\\AppData\\Local\\Temp\\ipykernel_11824\\1023424903.py:38: FutureWarning:\n",
      "\n",
      "The behavior of DataFrame concatenation with empty or all-NA entries is deprecated. In a future version, this will no longer exclude empty or all-NA columns when determining the result dtypes. To retain the old behavior, exclude the relevant entries before the concat operation.\n",
      "\n",
      "C:\\Users\\quirosgu\\AppData\\Local\\Temp\\ipykernel_11824\\1023424903.py:38: FutureWarning:\n",
      "\n",
      "The behavior of DataFrame concatenation with empty or all-NA entries is deprecated. In a future version, this will no longer exclude empty or all-NA columns when determining the result dtypes. To retain the old behavior, exclude the relevant entries before the concat operation.\n",
      "\n",
      "C:\\Users\\quirosgu\\AppData\\Local\\Temp\\ipykernel_11824\\1023424903.py:38: FutureWarning:\n",
      "\n",
      "The behavior of DataFrame concatenation with empty or all-NA entries is deprecated. In a future version, this will no longer exclude empty or all-NA columns when determining the result dtypes. To retain the old behavior, exclude the relevant entries before the concat operation.\n",
      "\n",
      "C:\\Users\\quirosgu\\AppData\\Local\\Temp\\ipykernel_11824\\1023424903.py:38: FutureWarning:\n",
      "\n",
      "The behavior of DataFrame concatenation with empty or all-NA entries is deprecated. In a future version, this will no longer exclude empty or all-NA columns when determining the result dtypes. To retain the old behavior, exclude the relevant entries before the concat operation.\n",
      "\n",
      "C:\\Users\\quirosgu\\AppData\\Local\\Temp\\ipykernel_11824\\1023424903.py:38: FutureWarning:\n",
      "\n",
      "The behavior of DataFrame concatenation with empty or all-NA entries is deprecated. In a future version, this will no longer exclude empty or all-NA columns when determining the result dtypes. To retain the old behavior, exclude the relevant entries before the concat operation.\n",
      "\n",
      "C:\\Users\\quirosgu\\AppData\\Local\\Temp\\ipykernel_11824\\1023424903.py:38: FutureWarning:\n",
      "\n",
      "The behavior of DataFrame concatenation with empty or all-NA entries is deprecated. In a future version, this will no longer exclude empty or all-NA columns when determining the result dtypes. To retain the old behavior, exclude the relevant entries before the concat operation.\n",
      "\n",
      "C:\\Users\\quirosgu\\AppData\\Local\\Temp\\ipykernel_11824\\1023424903.py:38: FutureWarning:\n",
      "\n",
      "The behavior of DataFrame concatenation with empty or all-NA entries is deprecated. In a future version, this will no longer exclude empty or all-NA columns when determining the result dtypes. To retain the old behavior, exclude the relevant entries before the concat operation.\n",
      "\n",
      "C:\\Users\\quirosgu\\AppData\\Local\\Temp\\ipykernel_11824\\1023424903.py:38: FutureWarning:\n",
      "\n",
      "The behavior of DataFrame concatenation with empty or all-NA entries is deprecated. In a future version, this will no longer exclude empty or all-NA columns when determining the result dtypes. To retain the old behavior, exclude the relevant entries before the concat operation.\n",
      "\n",
      "C:\\Users\\quirosgu\\AppData\\Local\\Temp\\ipykernel_11824\\1023424903.py:38: FutureWarning:\n",
      "\n",
      "The behavior of DataFrame concatenation with empty or all-NA entries is deprecated. In a future version, this will no longer exclude empty or all-NA columns when determining the result dtypes. To retain the old behavior, exclude the relevant entries before the concat operation.\n",
      "\n",
      "C:\\Users\\quirosgu\\AppData\\Local\\Temp\\ipykernel_11824\\1023424903.py:38: FutureWarning:\n",
      "\n",
      "The behavior of DataFrame concatenation with empty or all-NA entries is deprecated. In a future version, this will no longer exclude empty or all-NA columns when determining the result dtypes. To retain the old behavior, exclude the relevant entries before the concat operation.\n",
      "\n",
      "C:\\Users\\quirosgu\\AppData\\Local\\Temp\\ipykernel_11824\\1023424903.py:38: FutureWarning:\n",
      "\n",
      "The behavior of DataFrame concatenation with empty or all-NA entries is deprecated. In a future version, this will no longer exclude empty or all-NA columns when determining the result dtypes. To retain the old behavior, exclude the relevant entries before the concat operation.\n",
      "\n",
      "C:\\Users\\quirosgu\\AppData\\Local\\Temp\\ipykernel_11824\\1023424903.py:38: FutureWarning:\n",
      "\n",
      "The behavior of DataFrame concatenation with empty or all-NA entries is deprecated. In a future version, this will no longer exclude empty or all-NA columns when determining the result dtypes. To retain the old behavior, exclude the relevant entries before the concat operation.\n",
      "\n",
      "C:\\Users\\quirosgu\\AppData\\Local\\Temp\\ipykernel_11824\\1023424903.py:38: FutureWarning:\n",
      "\n",
      "The behavior of DataFrame concatenation with empty or all-NA entries is deprecated. In a future version, this will no longer exclude empty or all-NA columns when determining the result dtypes. To retain the old behavior, exclude the relevant entries before the concat operation.\n",
      "\n",
      "C:\\Users\\quirosgu\\AppData\\Local\\Temp\\ipykernel_11824\\1023424903.py:38: FutureWarning:\n",
      "\n",
      "The behavior of DataFrame concatenation with empty or all-NA entries is deprecated. In a future version, this will no longer exclude empty or all-NA columns when determining the result dtypes. To retain the old behavior, exclude the relevant entries before the concat operation.\n",
      "\n",
      "C:\\Users\\quirosgu\\AppData\\Local\\Temp\\ipykernel_11824\\1023424903.py:38: FutureWarning:\n",
      "\n",
      "The behavior of DataFrame concatenation with empty or all-NA entries is deprecated. In a future version, this will no longer exclude empty or all-NA columns when determining the result dtypes. To retain the old behavior, exclude the relevant entries before the concat operation.\n",
      "\n",
      "C:\\Users\\quirosgu\\AppData\\Local\\Temp\\ipykernel_11824\\1023424903.py:38: FutureWarning:\n",
      "\n",
      "The behavior of DataFrame concatenation with empty or all-NA entries is deprecated. In a future version, this will no longer exclude empty or all-NA columns when determining the result dtypes. To retain the old behavior, exclude the relevant entries before the concat operation.\n",
      "\n",
      "C:\\Users\\quirosgu\\AppData\\Local\\Temp\\ipykernel_11824\\1023424903.py:38: FutureWarning:\n",
      "\n",
      "The behavior of DataFrame concatenation with empty or all-NA entries is deprecated. In a future version, this will no longer exclude empty or all-NA columns when determining the result dtypes. To retain the old behavior, exclude the relevant entries before the concat operation.\n",
      "\n",
      "C:\\Users\\quirosgu\\AppData\\Local\\Temp\\ipykernel_11824\\1023424903.py:38: FutureWarning:\n",
      "\n",
      "The behavior of DataFrame concatenation with empty or all-NA entries is deprecated. In a future version, this will no longer exclude empty or all-NA columns when determining the result dtypes. To retain the old behavior, exclude the relevant entries before the concat operation.\n",
      "\n",
      "C:\\Users\\quirosgu\\AppData\\Local\\Temp\\ipykernel_11824\\1023424903.py:38: FutureWarning:\n",
      "\n",
      "The behavior of DataFrame concatenation with empty or all-NA entries is deprecated. In a future version, this will no longer exclude empty or all-NA columns when determining the result dtypes. To retain the old behavior, exclude the relevant entries before the concat operation.\n",
      "\n",
      "C:\\Users\\quirosgu\\AppData\\Local\\Temp\\ipykernel_11824\\1023424903.py:38: FutureWarning:\n",
      "\n",
      "The behavior of DataFrame concatenation with empty or all-NA entries is deprecated. In a future version, this will no longer exclude empty or all-NA columns when determining the result dtypes. To retain the old behavior, exclude the relevant entries before the concat operation.\n",
      "\n",
      "C:\\Users\\quirosgu\\AppData\\Local\\Temp\\ipykernel_11824\\1023424903.py:38: FutureWarning:\n",
      "\n",
      "The behavior of DataFrame concatenation with empty or all-NA entries is deprecated. In a future version, this will no longer exclude empty or all-NA columns when determining the result dtypes. To retain the old behavior, exclude the relevant entries before the concat operation.\n",
      "\n",
      "C:\\Users\\quirosgu\\AppData\\Local\\Temp\\ipykernel_11824\\1023424903.py:38: FutureWarning:\n",
      "\n",
      "The behavior of DataFrame concatenation with empty or all-NA entries is deprecated. In a future version, this will no longer exclude empty or all-NA columns when determining the result dtypes. To retain the old behavior, exclude the relevant entries before the concat operation.\n",
      "\n",
      "C:\\Users\\quirosgu\\AppData\\Local\\Temp\\ipykernel_11824\\1023424903.py:38: FutureWarning:\n",
      "\n",
      "The behavior of DataFrame concatenation with empty or all-NA entries is deprecated. In a future version, this will no longer exclude empty or all-NA columns when determining the result dtypes. To retain the old behavior, exclude the relevant entries before the concat operation.\n",
      "\n",
      "C:\\Users\\quirosgu\\AppData\\Local\\Temp\\ipykernel_11824\\1023424903.py:38: FutureWarning:\n",
      "\n",
      "The behavior of DataFrame concatenation with empty or all-NA entries is deprecated. In a future version, this will no longer exclude empty or all-NA columns when determining the result dtypes. To retain the old behavior, exclude the relevant entries before the concat operation.\n",
      "\n",
      "C:\\Users\\quirosgu\\AppData\\Local\\Temp\\ipykernel_11824\\1023424903.py:38: FutureWarning:\n",
      "\n",
      "The behavior of DataFrame concatenation with empty or all-NA entries is deprecated. In a future version, this will no longer exclude empty or all-NA columns when determining the result dtypes. To retain the old behavior, exclude the relevant entries before the concat operation.\n",
      "\n",
      "C:\\Users\\quirosgu\\AppData\\Local\\Temp\\ipykernel_11824\\1023424903.py:38: FutureWarning:\n",
      "\n",
      "The behavior of DataFrame concatenation with empty or all-NA entries is deprecated. In a future version, this will no longer exclude empty or all-NA columns when determining the result dtypes. To retain the old behavior, exclude the relevant entries before the concat operation.\n",
      "\n",
      "C:\\Users\\quirosgu\\AppData\\Local\\Temp\\ipykernel_11824\\1023424903.py:38: FutureWarning:\n",
      "\n",
      "The behavior of DataFrame concatenation with empty or all-NA entries is deprecated. In a future version, this will no longer exclude empty or all-NA columns when determining the result dtypes. To retain the old behavior, exclude the relevant entries before the concat operation.\n",
      "\n",
      "C:\\Users\\quirosgu\\AppData\\Local\\Temp\\ipykernel_11824\\1023424903.py:38: FutureWarning:\n",
      "\n",
      "The behavior of DataFrame concatenation with empty or all-NA entries is deprecated. In a future version, this will no longer exclude empty or all-NA columns when determining the result dtypes. To retain the old behavior, exclude the relevant entries before the concat operation.\n",
      "\n",
      "C:\\Users\\quirosgu\\AppData\\Local\\Temp\\ipykernel_11824\\1023424903.py:38: FutureWarning:\n",
      "\n",
      "The behavior of DataFrame concatenation with empty or all-NA entries is deprecated. In a future version, this will no longer exclude empty or all-NA columns when determining the result dtypes. To retain the old behavior, exclude the relevant entries before the concat operation.\n",
      "\n",
      "C:\\Users\\quirosgu\\AppData\\Local\\Temp\\ipykernel_11824\\1023424903.py:38: FutureWarning:\n",
      "\n",
      "The behavior of DataFrame concatenation with empty or all-NA entries is deprecated. In a future version, this will no longer exclude empty or all-NA columns when determining the result dtypes. To retain the old behavior, exclude the relevant entries before the concat operation.\n",
      "\n",
      "C:\\Users\\quirosgu\\AppData\\Local\\Temp\\ipykernel_11824\\1023424903.py:38: FutureWarning:\n",
      "\n",
      "The behavior of DataFrame concatenation with empty or all-NA entries is deprecated. In a future version, this will no longer exclude empty or all-NA columns when determining the result dtypes. To retain the old behavior, exclude the relevant entries before the concat operation.\n",
      "\n"
     ]
    },
    {
     "data": {
      "application/vnd.plotly.v1+json": {
       "config": {
        "plotlyServerURL": "https://plot.ly"
       },
       "data": [
        {
         "alignmentgroup": "True",
         "hovertemplate": "chemical_superclass=Alkaloids-Anthranilic acid alkaloids<br>Recurrence=%{x}<br>y=%{y}<extra></extra>",
         "legendgroup": "Alkaloids-Anthranilic acid alkaloids",
         "marker": {
          "color": "#52a7c9",
          "pattern": {
           "shape": ""
          }
         },
         "name": "Alkaloids-Anthranilic acid alkaloids",
         "offsetgroup": "Alkaloids-Anthranilic acid alkaloids",
         "orientation": "h",
         "showlegend": true,
         "textposition": "auto",
         "type": "bar",
         "x": [
          1,
          1,
          1,
          1,
          1,
          2,
          1,
          1,
          3,
          1,
          3,
          6
         ],
         "xaxis": "x",
         "y": [
          "<i>Albizia</i>",
          "<i>Ardisia</i>",
          "<i>Aspidosperma</i>",
          "<i>Cestrum</i>",
          "<i>Cissus</i>",
          "<i>Indigofera</i>",
          "<i>Mimosa</i>",
          "<i>Palicourea</i>",
          "<i>Persicaria</i>",
          "<i>Piper</i>",
          "<i>Psychotria</i>",
          "<i>Solanum</i>"
         ],
         "yaxis": "y"
        },
        {
         "alignmentgroup": "True",
         "hovertemplate": "chemical_superclass=Alkaloids-Histidine alkaloids<br>Recurrence=%{x}<br>y=%{y}<extra></extra>",
         "legendgroup": "Alkaloids-Histidine alkaloids",
         "marker": {
          "color": "#3a748b",
          "pattern": {
           "shape": ""
          }
         },
         "name": "Alkaloids-Histidine alkaloids",
         "offsetgroup": "Alkaloids-Histidine alkaloids",
         "orientation": "h",
         "showlegend": true,
         "textposition": "auto",
         "type": "bar",
         "x": [
          2,
          2,
          1,
          4,
          1,
          1,
          7
         ],
         "xaxis": "x",
         "y": [
          "<i>Acacia</i>",
          "<i>Alchornea</i>",
          "<i>Cnidoscolus</i>",
          "<i>Cynometra</i>",
          "<i>Lupinus</i>",
          "<i>Phytolacca</i>",
          "<i>Solanum</i>"
         ],
         "yaxis": "y"
        },
        {
         "alignmentgroup": "True",
         "hovertemplate": "chemical_superclass=Alkaloids-Lysine alkaloids<br>Recurrence=%{x}<br>y=%{y}<extra></extra>",
         "legendgroup": "Alkaloids-Lysine alkaloids",
         "marker": {
          "color": "#4893b0",
          "pattern": {
           "shape": ""
          }
         },
         "name": "Alkaloids-Lysine alkaloids",
         "offsetgroup": "Alkaloids-Lysine alkaloids",
         "orientation": "h",
         "showlegend": true,
         "textposition": "auto",
         "type": "bar",
         "x": [
          1,
          1,
          11,
          19,
          2,
          3,
          3,
          1,
          75,
          6,
          2,
          1,
          30,
          5,
          168,
          1,
          1,
          40,
          10,
          223,
          1,
          22,
          24,
          3,
          1
         ],
         "xaxis": "x",
         "y": [
          "<i>Ageratina</i>",
          "<i>Aspidosperma</i>",
          "<i>Cassia</i>",
          "<i>Castilleja</i>",
          "<i>Cissus</i>",
          "<i>Crinum</i>",
          "<i>Croton</i>",
          "<i>Ehretia</i>",
          "<i>Erythrina</i>",
          "<i>Erythroxylum</i>",
          "<i>Eugenia</i>",
          "<i>Euphorbia</i>",
          "<i>Ficus</i>",
          "<i>Ipomoea</i>",
          "<i>Lupinus</i>",
          "<i>Maytenus</i>",
          "<i>Peperomia</i>",
          "<i>Phlegmariurus</i>",
          "<i>Phyllanthus</i>",
          "<i>Piper</i>",
          "<i>Plumeria</i>",
          "<i>Prosopis</i>",
          "<i>Senna</i>",
          "<i>Solanum</i>",
          "<i>Virola</i>"
         ],
         "yaxis": "y"
        },
        {
         "alignmentgroup": "True",
         "hovertemplate": "chemical_superclass=Alkaloids-Nicotinic acid alkaloids<br>Recurrence=%{x}<br>y=%{y}<extra></extra>",
         "legendgroup": "Alkaloids-Nicotinic acid alkaloids",
         "marker": {
          "color": "#3f7e97",
          "pattern": {
           "shape": ""
          }
         },
         "name": "Alkaloids-Nicotinic acid alkaloids",
         "offsetgroup": "Alkaloids-Nicotinic acid alkaloids",
         "orientation": "h",
         "showlegend": true,
         "textposition": "auto",
         "type": "bar",
         "x": [
          1,
          3,
          2,
          2,
          2,
          7,
          4,
          1,
          2,
          2,
          4,
          1,
          1,
          20,
          1,
          1,
          2,
          1,
          2,
          2,
          9,
          6,
          5,
          1,
          1
         ],
         "xaxis": "x",
         "y": [
          "<i>Acacia</i>",
          "<i>Albizia</i>",
          "<i>Ardisia</i>",
          "<i>Aristolochia</i>",
          "<i>Begonia</i>",
          "<i>Castilleja</i>",
          "<i>Cyperus</i>",
          "<i>Desmodium</i>",
          "<i>Erythrina</i>",
          "<i>Erythroxylum</i>",
          "<i>Euphorbia</i>",
          "<i>Ficus</i>",
          "<i>Jatropha</i>",
          "<i>Lupinus</i>",
          "<i>Mimosa</i>",
          "<i>Phlegmariurus</i>",
          "<i>Piper</i>",
          "<i>Pseudolmedia</i>",
          "<i>Psychotria</i>",
          "<i>Rauvolfia</i>",
          "<i>Senna</i>",
          "<i>Solanum</i>",
          "<i>Strychnos</i>",
          "<i>Syzygium</i>",
          "<i>Virola</i>"
         ],
         "yaxis": "y"
        },
        {
         "alignmentgroup": "True",
         "hovertemplate": "chemical_superclass=Alkaloids-Ornithine alkaloids<br>Recurrence=%{x}<br>y=%{y}<extra></extra>",
         "legendgroup": "Alkaloids-Ornithine alkaloids",
         "marker": {
          "color": "#4488a4",
          "pattern": {
           "shape": ""
          }
         },
         "name": "Alkaloids-Ornithine alkaloids",
         "offsetgroup": "Alkaloids-Ornithine alkaloids",
         "orientation": "h",
         "showlegend": true,
         "textposition": "auto",
         "type": "bar",
         "x": [
          3,
          8,
          37,
          1,
          2,
          1,
          8,
          4,
          1,
          1,
          1,
          4,
          3,
          77,
          1,
          2,
          18,
          1,
          2,
          1,
          4,
          3,
          1,
          1,
          1,
          2,
          14,
          1,
          1,
          1,
          1,
          26,
          3,
          3,
          1,
          6
         ],
         "xaxis": "x",
         "y": [
          "<i>Ageratina</i>",
          "<i>Ageratum</i>",
          "<i>Albizia</i>",
          "<i>Alibertia</i>",
          "<i>Ardisia</i>",
          "<i>Calycophyllum</i>",
          "<i>Canavalia</i>",
          "<i>Castilleja</i>",
          "<i>Catharanthus</i>",
          "<i>Crinum</i>",
          "<i>Cupania</i>",
          "<i>Eichhornia</i>",
          "<i>Erythrochiton</i>",
          "<i>Erythroxylum</i>",
          "<i>Ficus</i>",
          "<i>Homalium</i>",
          "<i>Ipomoea</i>",
          "<i>Jatropha</i>",
          "<i>Lupinus</i>",
          "<i>Maytenus</i>",
          "<i>Onoseris</i>",
          "<i>Persea</i>",
          "<i>Phlegmariurus</i>",
          "<i>Phyllanthus</i>",
          "<i>Prosopis</i>",
          "<i>Psychotria</i>",
          "<i>Quercus</i>",
          "<i>Rauvolfia</i>",
          "<i>Samanea</i>",
          "<i>Senna</i>",
          "<i>Smilax</i>",
          "<i>Solanum</i>",
          "<i>Telanthophora</i>",
          "<i>Tournefortia</i>",
          "<i>Trichilia</i>",
          "<i>Verbesina</i>"
         ],
         "yaxis": "y"
        },
        {
         "alignmentgroup": "True",
         "hovertemplate": "chemical_superclass=Alkaloids-Peptide alkaloids<br>Recurrence=%{x}<br>y=%{y}<extra></extra>",
         "legendgroup": "Alkaloids-Peptide alkaloids",
         "marker": {
          "color": "#57b2d6",
          "pattern": {
           "shape": ""
          }
         },
         "name": "Alkaloids-Peptide alkaloids",
         "offsetgroup": "Alkaloids-Peptide alkaloids",
         "orientation": "h",
         "showlegend": true,
         "textposition": "auto",
         "type": "bar",
         "x": [
          1,
          1,
          1,
          1,
          1,
          3,
          1,
          8,
          1,
          9
         ],
         "xaxis": "x",
         "y": [
          "<i>Alchornea</i>",
          "<i>Begonia</i>",
          "<i>Colubrina</i>",
          "<i>Croton</i>",
          "<i>Cymbopogon</i>",
          "<i>Heisteria</i>",
          "<i>Piper</i>",
          "<i>Rhizophora</i>",
          "<i>Solanum</i>",
          "<i>Talipariti</i>"
         ],
         "yaxis": "y"
        },
        {
         "alignmentgroup": "True",
         "hovertemplate": "chemical_superclass=Alkaloids-Pseudoalkaloids<br>Recurrence=%{x}<br>y=%{y}<extra></extra>",
         "legendgroup": "Alkaloids-Pseudoalkaloids",
         "marker": {
          "color": "#4d9dbd",
          "pattern": {
           "shape": ""
          }
         },
         "name": "Alkaloids-Pseudoalkaloids",
         "offsetgroup": "Alkaloids-Pseudoalkaloids",
         "orientation": "h",
         "showlegend": true,
         "textposition": "auto",
         "type": "bar",
         "x": [
          1,
          2,
          6,
          1,
          2,
          6,
          2,
          1,
          1,
          1,
          1,
          1,
          1,
          3,
          1,
          7,
          1,
          3,
          3,
          3,
          3,
          2,
          1,
          1,
          2,
          2,
          1,
          268,
          2,
          2
         ],
         "xaxis": "x",
         "y": [
          "<i>Albizia</i>",
          "<i>Ardisia</i>",
          "<i>Aristolochia</i>",
          "<i>Aspidosperma</i>",
          "<i>Canavalia</i>",
          "<i>Catharanthus</i>",
          "<i>Crinum</i>",
          "<i>Cymbopogon</i>",
          "<i>Desmodium</i>",
          "<i>Eichhornia</i>",
          "<i>Entada</i>",
          "<i>Erythroxylum</i>",
          "<i>Hamelia</i>",
          "<i>Herrania</i>",
          "<i>Indigofera</i>",
          "<i>Ipomoea</i>",
          "<i>Lantana</i>",
          "<i>Lupinus</i>",
          "<i>Lycianthes</i>",
          "<i>Paullinia</i>",
          "<i>Phlegmariurus</i>",
          "<i>Phyllanthus</i>",
          "<i>Piper</i>",
          "<i>Prosopis</i>",
          "<i>Psychotria</i>",
          "<i>Rauvolfia</i>",
          "<i>Senna</i>",
          "<i>Solanum</i>",
          "<i>Syzygium</i>",
          "<i>Tournefortia</i>"
         ],
         "yaxis": "y"
        },
        {
         "alignmentgroup": "True",
         "hovertemplate": "chemical_superclass=Alkaloids-Tetramate alkaloids<br>Recurrence=%{x}<br>y=%{y}<extra></extra>",
         "legendgroup": "Alkaloids-Tetramate alkaloids",
         "marker": {
          "color": "#5cbce2",
          "pattern": {
           "shape": ""
          }
         },
         "name": "Alkaloids-Tetramate alkaloids",
         "offsetgroup": "Alkaloids-Tetramate alkaloids",
         "orientation": "h",
         "showlegend": true,
         "textposition": "auto",
         "type": "bar",
         "x": [
          2,
          1,
          1
         ],
         "xaxis": "x",
         "y": [
          "<i>Caesalpinia</i>",
          "<i>Cymbopogon</i>",
          "<i>Jatropha</i>"
         ],
         "yaxis": "y"
        },
        {
         "alignmentgroup": "True",
         "hovertemplate": "chemical_superclass=Alkaloids-Tryptophan alkaloids<br>Recurrence=%{x}<br>y=%{y}<extra></extra>",
         "legendgroup": "Alkaloids-Tryptophan alkaloids",
         "marker": {
          "color": "#305f72",
          "pattern": {
           "shape": ""
          }
         },
         "name": "Alkaloids-Tryptophan alkaloids",
         "offsetgroup": "Alkaloids-Tryptophan alkaloids",
         "orientation": "h",
         "showlegend": true,
         "textposition": "auto",
         "type": "bar",
         "x": [
          5,
          1,
          1,
          4,
          138,
          3,
          1,
          1,
          203,
          1,
          1,
          1,
          3,
          5,
          6,
          1,
          14,
          1,
          1,
          7,
          4,
          2,
          20,
          3,
          6,
          2,
          21,
          1,
          1,
          4,
          1,
          2,
          2,
          77,
          9,
          2,
          4,
          201,
          1,
          41,
          1,
          448,
          1,
          8
         ],
         "xaxis": "x",
         "y": [
          "<i>Acacia</i>",
          "<i>Albizia</i>",
          "<i>Ardisia</i>",
          "<i>Aristolochia</i>",
          "<i>Aspidosperma</i>",
          "<i>Begonia</i>",
          "<i>Calycophyllum</i>",
          "<i>Cassia</i>",
          "<i>Catharanthus</i>",
          "<i>Cissus</i>",
          "<i>Cnidoscolus</i>",
          "<i>Crinum</i>",
          "<i>Croton</i>",
          "<i>Dalbergia</i>",
          "<i>Desmodium</i>",
          "<i>Eichhornia</i>",
          "<i>Erythrina</i>",
          "<i>Euphorbia</i>",
          "<i>Ficus</i>",
          "<i>Guettarda</i>",
          "<i>Hamelia</i>",
          "<i>Indigofera</i>",
          "<i>Ipomoea</i>",
          "<i>Lupinus</i>",
          "<i>Mimosa</i>",
          "<i>Morinda</i>",
          "<i>Palicourea</i>",
          "<i>Peperomia</i>",
          "<i>Persea</i>",
          "<i>Persicaria</i>",
          "<i>Phlegmariurus</i>",
          "<i>Phyllanthus</i>",
          "<i>Prosopis</i>",
          "<i>Psychotria</i>",
          "<i>Quassia</i>",
          "<i>Quercus</i>",
          "<i>Ranunculus</i>",
          "<i>Rauvolfia</i>",
          "<i>Rinorea</i>",
          "<i>Solanum</i>",
          "<i>Spermacoce</i>",
          "<i>Strychnos</i>",
          "<i>Syzygium</i>",
          "<i>Virola</i>"
         ],
         "yaxis": "y"
        },
        {
         "alignmentgroup": "True",
         "hovertemplate": "chemical_superclass=Alkaloids-Tyrosine alkaloids<br>Recurrence=%{x}<br>y=%{y}<extra></extra>",
         "legendgroup": "Alkaloids-Tyrosine alkaloids",
         "marker": {
          "color": "#35697e",
          "pattern": {
           "shape": ""
          }
         },
         "name": "Alkaloids-Tyrosine alkaloids",
         "offsetgroup": "Alkaloids-Tyrosine alkaloids",
         "orientation": "h",
         "showlegend": true,
         "textposition": "auto",
         "type": "bar",
         "x": [
          3,
          94,
          4,
          1,
          20,
          179,
          52,
          3,
          4,
          2,
          28,
          6,
          1,
          6,
          1,
          1,
          77,
          1,
          3,
          2,
          11,
          29,
          3,
          6,
          3,
          1,
          2,
          1,
          20,
          8,
          1,
          1,
          1,
          103
         ],
         "xaxis": "x",
         "y": [
          "<i>Acacia</i>",
          "<i>Aristolochia</i>",
          "<i>Cinnamomum</i>",
          "<i>Cissus</i>",
          "<i>Colubrina</i>",
          "<i>Crinum</i>",
          "<i>Croton</i>",
          "<i>Cymbopogon</i>",
          "<i>Desmodium</i>",
          "<i>Eichhornia</i>",
          "<i>Erythrina</i>",
          "<i>Ficus</i>",
          "<i>Inga</i>",
          "<i>Licaria</i>",
          "<i>Mimosa</i>",
          "<i>Nasturtium</i>",
          "<i>Ocotea</i>",
          "<i>Palicourea</i>",
          "<i>Peperomia</i>",
          "<i>Philodendron</i>",
          "<i>Phytolacca</i>",
          "<i>Piper</i>",
          "<i>Prosopis</i>",
          "<i>Psychotria</i>",
          "<i>Ranunculus</i>",
          "<i>Rauvolfia</i>",
          "<i>Sapranthus</i>",
          "<i>Senna</i>",
          "<i>Siparuna</i>",
          "<i>Solanum</i>",
          "<i>Strychnos</i>",
          "<i>Syzygium</i>",
          "<i>Virola</i>",
          "<i>Xylopia</i>"
         ],
         "yaxis": "y"
        },
        {
         "alignmentgroup": "True",
         "hovertemplate": "chemical_superclass=Amino acids and Peptides-Amino acid glycosides<br>Recurrence=%{x}<br>y=%{y}<extra></extra>",
         "legendgroup": "Amino acids and Peptides-Amino acid glycosides",
         "marker": {
          "color": "#f4e869",
          "pattern": {
           "shape": ""
          }
         },
         "name": "Amino acids and Peptides-Amino acid glycosides",
         "offsetgroup": "Amino acids and Peptides-Amino acid glycosides",
         "orientation": "h",
         "showlegend": true,
         "textposition": "auto",
         "type": "bar",
         "x": [
          8,
          7,
          1,
          6,
          5,
          1,
          4,
          1,
          6,
          4
         ],
         "xaxis": "x",
         "y": [
          "<i>Acacia</i>",
          "<i>Acalypha</i>",
          "<i>Dalbergia</i>",
          "<i>Ehretia</i>",
          "<i>Euphorbia</i>",
          "<i>Jatropha</i>",
          "<i>Piper</i>",
          "<i>Ruellia</i>",
          "<i>Turnera</i>",
          "<i>Vasconcellea</i>"
         ],
         "yaxis": "y"
        },
        {
         "alignmentgroup": "True",
         "hovertemplate": "chemical_superclass=Amino acids and Peptides-Linear polyketides<br>Recurrence=%{x}<br>y=%{y}<extra></extra>",
         "legendgroup": "Amino acids and Peptides-Linear polyketides",
         "marker": {
          "color": "#faf2d3",
          "pattern": {
           "shape": ""
          }
         },
         "name": "Amino acids and Peptides-Linear polyketides",
         "offsetgroup": "Amino acids and Peptides-Linear polyketides",
         "orientation": "h",
         "showlegend": true,
         "textposition": "auto",
         "type": "bar",
         "x": [
          1
         ],
         "xaxis": "x",
         "y": [
          "<i>Erythrina</i>"
         ],
         "yaxis": "y"
        },
        {
         "alignmentgroup": "True",
         "hovertemplate": "chemical_superclass=Amino acids and Peptides-Oligopeptides<br>Recurrence=%{x}<br>y=%{y}<extra></extra>",
         "legendgroup": "Amino acids and Peptides-Oligopeptides",
         "marker": {
          "color": "#f8efb8",
          "pattern": {
           "shape": ""
          }
         },
         "name": "Amino acids and Peptides-Oligopeptides",
         "offsetgroup": "Amino acids and Peptides-Oligopeptides",
         "orientation": "h",
         "showlegend": true,
         "textposition": "auto",
         "type": "bar",
         "x": [
          1,
          1,
          19,
          11,
          44,
          1
         ],
         "xaxis": "x",
         "y": [
          "<i>Ardisia</i>",
          "<i>Cinnamomum</i>",
          "<i>Jatropha</i>",
          "<i>Palicourea</i>",
          "<i>Phytolacca</i>",
          "<i>Psychotria</i>"
         ],
         "yaxis": "y"
        },
        {
         "alignmentgroup": "True",
         "hovertemplate": "chemical_superclass=Amino acids and Peptides-Phenylpropanoids (C6-C3)<br>Recurrence=%{x}<br>y=%{y}<extra></extra>",
         "legendgroup": "Amino acids and Peptides-Phenylpropanoids (C6-C3)",
         "marker": {
          "color": "#EF553B",
          "pattern": {
           "shape": ""
          }
         },
         "name": "Amino acids and Peptides-Phenylpropanoids (C6-C3)",
         "offsetgroup": "Amino acids and Peptides-Phenylpropanoids (C6-C3)",
         "orientation": "h",
         "showlegend": true,
         "textposition": "auto",
         "type": "bar",
         "x": [
          1,
          1,
          8,
          3,
          2,
          1,
          5,
          4,
          4,
          2,
          7,
          18,
          1,
          25,
          2,
          15,
          5,
          4
         ],
         "xaxis": "x",
         "y": [
          "<i>Acalypha</i>",
          "<i>Alchornea</i>",
          "<i>Aristolochia</i>",
          "<i>Camonea</i>",
          "<i>Celtis</i>",
          "<i>Cestrum</i>",
          "<i>Cinnamomum</i>",
          "<i>Crinum</i>",
          "<i>Dalbergia</i>",
          "<i>Echinochloa</i>",
          "<i>Ipomoea</i>",
          "<i>Peperomia</i>",
          "<i>Persicaria</i>",
          "<i>Piper</i>",
          "<i>Siparuna</i>",
          "<i>Solanum</i>",
          "<i>Talipariti</i>",
          "<i>Xylopia</i>"
         ],
         "yaxis": "y"
        },
        {
         "alignmentgroup": "True",
         "hovertemplate": "chemical_superclass=Amino acids and Peptides-Small peptides<br>Recurrence=%{x}<br>y=%{y}<extra></extra>",
         "legendgroup": "Amino acids and Peptides-Small peptides",
         "marker": {
          "color": "#f6eb84",
          "pattern": {
           "shape": ""
          }
         },
         "name": "Amino acids and Peptides-Small peptides",
         "offsetgroup": "Amino acids and Peptides-Small peptides",
         "orientation": "h",
         "showlegend": true,
         "textposition": "auto",
         "type": "bar",
         "x": [
          9,
          1,
          1,
          23,
          2,
          13,
          5,
          1,
          2,
          1,
          7,
          1,
          21,
          1,
          1,
          21,
          4,
          9,
          3,
          1,
          1,
          25,
          3,
          1,
          12,
          4,
          2,
          11,
          2,
          3,
          2,
          1,
          1,
          2,
          21,
          4,
          5,
          4,
          23,
          1,
          1,
          5,
          15,
          49,
          16,
          1,
          1,
          3,
          1
         ],
         "xaxis": "x",
         "y": [
          "<i>Acacia</i>",
          "<i>Ageratum</i>",
          "<i>Albizia</i>",
          "<i>Ardisia</i>",
          "<i>Canavalia</i>",
          "<i>Catharanthus</i>",
          "<i>Chrysophyllum</i>",
          "<i>Cinnamomum</i>",
          "<i>Clethra</i>",
          "<i>Crinum</i>",
          "<i>Croton</i>",
          "<i>Cymbopogon</i>",
          "<i>Cyperus</i>",
          "<i>Dalbergia</i>",
          "<i>Delonix</i>",
          "<i>Eichhornia</i>",
          "<i>Erythroxylum</i>",
          "<i>Euphorbia</i>",
          "<i>Ficus</i>",
          "<i>Gliricidia</i>",
          "<i>Guilandina</i>",
          "<i>Indigofera</i>",
          "<i>Inga</i>",
          "<i>Ipomoea</i>",
          "<i>Jatropha</i>",
          "<i>Lantana</i>",
          "<i>Lonchocarpus</i>",
          "<i>Lupinus</i>",
          "<i>Maclura</i>",
          "<i>Mimosa</i>",
          "<i>Nasturtium</i>",
          "<i>Ocotea</i>",
          "<i>Persea</i>",
          "<i>Persicaria</i>",
          "<i>Phytolacca</i>",
          "<i>Piper</i>",
          "<i>Plumeria</i>",
          "<i>Prosopis</i>",
          "<i>Psychotria</i>",
          "<i>Rauvolfia</i>",
          "<i>Rinorea</i>",
          "<i>Ruellia</i>",
          "<i>Senna</i>",
          "<i>Solanum</i>",
          "<i>Spermacoce</i>",
          "<i>Strychnos</i>",
          "<i>Ternstroemia</i>",
          "<i>Trichilia</i>",
          "<i>Turnera</i>"
         ],
         "yaxis": "y"
        },
        {
         "alignmentgroup": "True",
         "hovertemplate": "chemical_superclass=Amino acids and Peptides-β-lactams<br>Recurrence=%{x}<br>y=%{y}<extra></extra>",
         "legendgroup": "Amino acids and Peptides-β-lactams",
         "marker": {
          "color": "#00cc96",
          "pattern": {
           "shape": ""
          }
         },
         "name": "Amino acids and Peptides-β-lactams",
         "offsetgroup": "Amino acids and Peptides-β-lactams",
         "orientation": "h",
         "showlegend": true,
         "textposition": "auto",
         "type": "bar",
         "x": [
          2
         ],
         "xaxis": "x",
         "y": [
          "<i>Solanum</i>"
         ],
         "yaxis": "y"
        },
        {
         "alignmentgroup": "True",
         "hovertemplate": "chemical_superclass=Carbohydrates-Aminosugars and aminoglycosides<br>Recurrence=%{x}<br>y=%{y}<extra></extra>",
         "legendgroup": "Carbohydrates-Aminosugars and aminoglycosides",
         "marker": {
          "color": "#c8ae7d",
          "pattern": {
           "shape": ""
          }
         },
         "name": "Carbohydrates-Aminosugars and aminoglycosides",
         "offsetgroup": "Carbohydrates-Aminosugars and aminoglycosides",
         "orientation": "h",
         "showlegend": true,
         "textposition": "auto",
         "type": "bar",
         "x": [
          4,
          4,
          1,
          1
         ],
         "xaxis": "x",
         "y": [
          "<i>Lonchocarpus</i>",
          "<i>Omphalea</i>",
          "<i>Piper</i>",
          "<i>Solanum</i>"
         ],
         "yaxis": "y"
        },
        {
         "alignmentgroup": "True",
         "hovertemplate": "chemical_superclass=Carbohydrates-Nucleosides<br>Recurrence=%{x}<br>y=%{y}<extra></extra>",
         "legendgroup": "Carbohydrates-Nucleosides",
         "marker": {
          "color": "#a78b5e",
          "pattern": {
           "shape": ""
          }
         },
         "name": "Carbohydrates-Nucleosides",
         "offsetgroup": "Carbohydrates-Nucleosides",
         "orientation": "h",
         "showlegend": true,
         "textposition": "auto",
         "type": "bar",
         "x": [
          8,
          1,
          2,
          2,
          2,
          1,
          2,
          8,
          1,
          1,
          14,
          3
         ],
         "xaxis": "x",
         "y": [
          "<i>Ardisia</i>",
          "<i>Catharanthus</i>",
          "<i>Croton</i>",
          "<i>Euphorbia</i>",
          "<i>Maytenus</i>",
          "<i>Mikania</i>",
          "<i>Morinda</i>",
          "<i>Psychotria</i>",
          "<i>Senna</i>",
          "<i>Smilax</i>",
          "<i>Solanum</i>",
          "<i>Strychnos</i>"
         ],
         "yaxis": "y"
        },
        {
         "alignmentgroup": "True",
         "hovertemplate": "chemical_superclass=Carbohydrates-Polyols<br>Recurrence=%{x}<br>y=%{y}<extra></extra>",
         "legendgroup": "Carbohydrates-Polyols",
         "marker": {
          "color": "#86683e",
          "pattern": {
           "shape": ""
          }
         },
         "name": "Carbohydrates-Polyols",
         "offsetgroup": "Carbohydrates-Polyols",
         "orientation": "h",
         "showlegend": true,
         "textposition": "auto",
         "type": "bar",
         "x": [
          2,
          1,
          1,
          3,
          4,
          8,
          3,
          1,
          1,
          5,
          1,
          1,
          1,
          5,
          1,
          2,
          5,
          1
         ],
         "xaxis": "x",
         "y": [
          "<i>Acacia</i>",
          "<i>Acrostichum</i>",
          "<i>Ardisia</i>",
          "<i>Aristolochia</i>",
          "<i>Canavalia</i>",
          "<i>Croton</i>",
          "<i>Dalbergia</i>",
          "<i>Euphorbia</i>",
          "<i>Gliricidia</i>",
          "<i>Lupinus</i>",
          "<i>Maclura</i>",
          "<i>Pseudognaphalium</i>",
          "<i>Psychotria</i>",
          "<i>Quercus</i>",
          "<i>Rhizophora</i>",
          "<i>Senna</i>",
          "<i>Solanum</i>",
          "<i>Virola</i>"
         ],
         "yaxis": "y"
        },
        {
         "alignmentgroup": "True",
         "hovertemplate": "chemical_superclass=Carbohydrates-Saccharides<br>Recurrence=%{x}<br>y=%{y}<extra></extra>",
         "legendgroup": "Carbohydrates-Saccharides",
         "marker": {
          "color": "#65451f",
          "pattern": {
           "shape": ""
          }
         },
         "name": "Carbohydrates-Saccharides",
         "offsetgroup": "Carbohydrates-Saccharides",
         "orientation": "h",
         "showlegend": true,
         "textposition": "auto",
         "type": "bar",
         "x": [
          2,
          1,
          3,
          5,
          5,
          1,
          10,
          4,
          1,
          1,
          1,
          3,
          1,
          2,
          1,
          14,
          1,
          1,
          13,
          10,
          3,
          6,
          1,
          12,
          7,
          1,
          1,
          1,
          2,
          5,
          1,
          4,
          2,
          4,
          6,
          3,
          1,
          2,
          2,
          1,
          3,
          18,
          5,
          1,
          31,
          1,
          1,
          6
         ],
         "xaxis": "x",
         "y": [
          "<i>Acacia</i>",
          "<i>Acrocomia</i>",
          "<i>Ardisia</i>",
          "<i>Aristolochia</i>",
          "<i>Canavalia</i>",
          "<i>Cassia</i>",
          "<i>Catharanthus</i>",
          "<i>Cinnamomum</i>",
          "<i>Crescentia</i>",
          "<i>Croton</i>",
          "<i>Cymbopogon</i>",
          "<i>Cyperus</i>",
          "<i>Dalbergia</i>",
          "<i>Ehretia</i>",
          "<i>Eschweilera</i>",
          "<i>Euphorbia</i>",
          "<i>Ficus</i>",
          "<i>Genipa</i>",
          "<i>Inga</i>",
          "<i>Ipomoea</i>",
          "<i>Jatropha</i>",
          "<i>Lantana</i>",
          "<i>Licaria</i>",
          "<i>Lupinus</i>",
          "<i>Maclura</i>",
          "<i>Maytenus</i>",
          "<i>Megathyrsus</i>",
          "<i>Mesosphaerum</i>",
          "<i>Mikania</i>",
          "<i>Morinda</i>",
          "<i>Persea</i>",
          "<i>Phyllanthus</i>",
          "<i>Phytolacca</i>",
          "<i>Piper</i>",
          "<i>Plumeria</i>",
          "<i>Psychotria</i>",
          "<i>Quassia</i>",
          "<i>Quercus</i>",
          "<i>Rauvolfia</i>",
          "<i>Roldana</i>",
          "<i>Ruellia</i>",
          "<i>Saccharum</i>",
          "<i>Sapium</i>",
          "<i>Senna</i>",
          "<i>Solanum</i>",
          "<i>Strychnos</i>",
          "<i>Syzygium</i>",
          "<i>Turnera</i>"
         ],
         "yaxis": "y"
        },
        {
         "alignmentgroup": "True",
         "hovertemplate": "chemical_superclass=Fatty acids-Eicosanoids<br>Recurrence=%{x}<br>y=%{y}<extra></extra>",
         "legendgroup": "Fatty acids-Eicosanoids",
         "marker": {
          "color": "#ff9209",
          "pattern": {
           "shape": ""
          }
         },
         "name": "Fatty acids-Eicosanoids",
         "offsetgroup": "Fatty acids-Eicosanoids",
         "orientation": "h",
         "showlegend": true,
         "textposition": "auto",
         "type": "bar",
         "x": [
          1,
          2
         ],
         "xaxis": "x",
         "y": [
          "<i>Cyperus</i>",
          "<i>Ehretia</i>"
         ],
         "yaxis": "y"
        },
        {
         "alignmentgroup": "True",
         "hovertemplate": "chemical_superclass=Fatty acids-Fatty Acids and Conjugates<br>Recurrence=%{x}<br>y=%{y}<extra></extra>",
         "legendgroup": "Fatty acids-Fatty Acids and Conjugates",
         "marker": {
          "color": "#ff6c22",
          "pattern": {
           "shape": ""
          }
         },
         "name": "Fatty acids-Fatty Acids and Conjugates",
         "offsetgroup": "Fatty acids-Fatty Acids and Conjugates",
         "orientation": "h",
         "showlegend": true,
         "textposition": "auto",
         "type": "bar",
         "x": [
          18,
          2,
          3,
          3,
          7,
          2,
          11,
          2,
          1,
          2,
          16,
          18,
          10,
          11,
          10,
          3,
          3,
          11,
          7,
          3,
          18,
          5,
          8,
          2,
          1,
          1,
          8,
          8,
          8,
          25,
          2,
          8,
          6,
          2,
          16,
          9,
          13,
          2,
          2,
          5,
          11,
          3,
          27,
          7,
          1,
          3,
          1,
          1,
          2,
          2,
          3,
          11,
          7,
          1,
          10,
          12,
          9,
          11,
          3,
          11,
          1,
          15,
          3,
          3,
          1,
          16,
          3,
          80,
          6,
          4,
          6,
          4,
          11,
          1,
          8,
          12,
          2
         ],
         "xaxis": "x",
         "y": [
          "<i>Acacia</i>",
          "<i>Ageratina</i>",
          "<i>Ageratum</i>",
          "<i>Albizia</i>",
          "<i>Alchemilla</i>",
          "<i>Anthurium</i>",
          "<i>Ardisia</i>",
          "<i>Aristolochia</i>",
          "<i>Caesalpinia</i>",
          "<i>Calea</i>",
          "<i>Canavalia</i>",
          "<i>Cassia</i>",
          "<i>Catharanthus</i>",
          "<i>Cecropia</i>",
          "<i>Cinnamomum</i>",
          "<i>Cissus</i>",
          "<i>Crinum</i>",
          "<i>Croton</i>",
          "<i>Cryptostegia</i>",
          "<i>Cyperus</i>",
          "<i>Dahlia</i>",
          "<i>Dalbergia</i>",
          "<i>Delonix</i>",
          "<i>Desmodium</i>",
          "<i>Dieffenbachia</i>",
          "<i>Echinochloa</i>",
          "<i>Eryngium</i>",
          "<i>Erythrina</i>",
          "<i>Erythroxylum</i>",
          "<i>Euphorbia</i>",
          "<i>Gunnera</i>",
          "<i>Handroanthus</i>",
          "<i>Heisteria</i>",
          "<i>Inga</i>",
          "<i>Ipomoea</i>",
          "<i>Jatropha</i>",
          "<i>Lantana</i>",
          "<i>Lawsonia</i>",
          "<i>Licaria</i>",
          "<i>Lippia</i>",
          "<i>Lupinus</i>",
          "<i>Maclura</i>",
          "<i>Malvaviscus</i>",
          "<i>Mikania</i>",
          "<i>Monticalia</i>",
          "<i>Morinda</i>",
          "<i>Myrciaria</i>",
          "<i>Ocotea</i>",
          "<i>Paullinia</i>",
          "<i>Pentagonia</i>",
          "<i>Peperomia</i>",
          "<i>Persicaria</i>",
          "<i>Phyllanthus</i>",
          "<i>Phytolacca</i>",
          "<i>Piper</i>",
          "<i>Pithecellobium</i>",
          "<i>Plumeria</i>",
          "<i>Psychotria</i>",
          "<i>Quercus</i>",
          "<i>Ranunculus</i>",
          "<i>Rauvolfia</i>",
          "<i>Rhizophora</i>",
          "<i>Ruellia</i>",
          "<i>Saccharum</i>",
          "<i>Samanea</i>",
          "<i>Senna</i>",
          "<i>Smilax</i>",
          "<i>Solanum</i>",
          "<i>Spathiphyllum</i>",
          "<i>Spermacoce</i>",
          "<i>Spondias</i>",
          "<i>Strychnos</i>",
          "<i>Syzygium</i>",
          "<i>Tovomita</i>",
          "<i>Trichilia</i>",
          "<i>Turnera</i>",
          "<i>Virola</i>"
         ],
         "yaxis": "y"
        },
        {
         "alignmentgroup": "True",
         "hovertemplate": "chemical_superclass=Fatty acids-Fatty acyl glycosides<br>Recurrence=%{x}<br>y=%{y}<extra></extra>",
         "legendgroup": "Fatty acids-Fatty acyl glycosides",
         "marker": {
          "color": "#ff8a0f",
          "pattern": {
           "shape": ""
          }
         },
         "name": "Fatty acids-Fatty acyl glycosides",
         "offsetgroup": "Fatty acids-Fatty acyl glycosides",
         "orientation": "h",
         "showlegend": true,
         "textposition": "auto",
         "type": "bar",
         "x": [
          1,
          3,
          1,
          5,
          9,
          2,
          4,
          3,
          2
         ],
         "xaxis": "x",
         "y": [
          "<i>Cinnamomum</i>",
          "<i>Crescentia</i>",
          "<i>Cupania</i>",
          "<i>Euphorbia</i>",
          "<i>Morinda</i>",
          "<i>Phyllanthus</i>",
          "<i>Piper</i>",
          "<i>Solanum</i>",
          "<i>Vasconcellea</i>"
         ],
         "yaxis": "y"
        },
        {
         "alignmentgroup": "True",
         "hovertemplate": "chemical_superclass=Fatty acids-Fatty acyls<br>Recurrence=%{x}<br>y=%{y}<extra></extra>",
         "legendgroup": "Fatty acids-Fatty acyls",
         "marker": {
          "color": "#ff741c",
          "pattern": {
           "shape": ""
          }
         },
         "name": "Fatty acids-Fatty acyls",
         "offsetgroup": "Fatty acids-Fatty acyls",
         "orientation": "h",
         "showlegend": true,
         "textposition": "auto",
         "type": "bar",
         "x": [
          1,
          1,
          2,
          11,
          1,
          9,
          2,
          11,
          8,
          8,
          17,
          15,
          5,
          6,
          14,
          2,
          20,
          1,
          33,
          1,
          2,
          1,
          1,
          14,
          5,
          1,
          2,
          28,
          4,
          1,
          2,
          329,
          3,
          11,
          1,
          3,
          5,
          6,
          22,
          2,
          1,
          2,
          29,
          21,
          6,
          3,
          12,
          20,
          8,
          2,
          24,
          1,
          5,
          1,
          13,
          214,
          5,
          1,
          13,
          1,
          9,
          3,
          2,
          3,
          2
         ],
         "xaxis": "x",
         "y": [
          "<i>Acacia</i>",
          "<i>Acrostichum</i>",
          "<i>Ageratina</i>",
          "<i>Ageratum</i>",
          "<i>Ardisia</i>",
          "<i>Aristolochia</i>",
          "<i>Bixa</i>",
          "<i>Calea</i>",
          "<i>Cassia</i>",
          "<i>Cecropia</i>",
          "<i>Cestrum</i>",
          "<i>Cinnamomum</i>",
          "<i>Cissus</i>",
          "<i>Crinum</i>",
          "<i>Croton</i>",
          "<i>Cryptostegia</i>",
          "<i>Cymbopogon</i>",
          "<i>Cyperus</i>",
          "<i>Dahlia</i>",
          "<i>Dalbergia</i>",
          "<i>Desmodium</i>",
          "<i>Dialium</i>",
          "<i>Entada</i>",
          "<i>Eryngium</i>",
          "<i>Erythrina</i>",
          "<i>Erythroxylum</i>",
          "<i>Eugenia</i>",
          "<i>Euphorbia</i>",
          "<i>Ficus</i>",
          "<i>Gliricidia</i>",
          "<i>Herrania</i>",
          "<i>Ipomoea</i>",
          "<i>Jatropha</i>",
          "<i>Lantana</i>",
          "<i>Lawsonia</i>",
          "<i>Lepechinia</i>",
          "<i>Lippia</i>",
          "<i>Mesosphaerum</i>",
          "<i>Mikania</i>",
          "<i>Mimosa</i>",
          "<i>Morinda</i>",
          "<i>Onoseris</i>",
          "<i>Persea</i>",
          "<i>Persicaria</i>",
          "<i>Phyllanthus</i>",
          "<i>Phytolacca</i>",
          "<i>Piper</i>",
          "<i>Plumeria</i>",
          "<i>Prosopis</i>",
          "<i>Pseudognaphalium</i>",
          "<i>Quercus</i>",
          "<i>Ranunculus</i>",
          "<i>Rhizophora</i>",
          "<i>Ruellia</i>",
          "<i>Senna</i>",
          "<i>Solanum</i>",
          "<i>Spathiphyllum</i>",
          "<i>Spermacoce</i>",
          "<i>Spondias</i>",
          "<i>Strychnos</i>",
          "<i>Syzygium</i>",
          "<i>Vasconcellea</i>",
          "<i>Verbesina</i>",
          "<i>Virola</i>",
          "<i>Xylopia</i>"
         ],
         "yaxis": "y"
        },
        {
         "alignmentgroup": "True",
         "hovertemplate": "chemical_superclass=Fatty acids-Fatty amides<br>Recurrence=%{x}<br>y=%{y}<extra></extra>",
         "legendgroup": "Fatty acids-Fatty amides",
         "marker": {
          "color": "#ff8e0c",
          "pattern": {
           "shape": ""
          }
         },
         "name": "Fatty acids-Fatty amides",
         "offsetgroup": "Fatty acids-Fatty amides",
         "orientation": "h",
         "showlegend": true,
         "textposition": "auto",
         "type": "bar",
         "x": [
          1,
          3,
          2,
          59,
          2
         ],
         "xaxis": "x",
         "y": [
          "<i>Crinum</i>",
          "<i>Croton</i>",
          "<i>Phyllanthus</i>",
          "<i>Piper</i>",
          "<i>Solanum</i>"
         ],
         "yaxis": "y"
        },
        {
         "alignmentgroup": "True",
         "hovertemplate": "chemical_superclass=Fatty acids-Fatty esters<br>Recurrence=%{x}<br>y=%{y}<extra></extra>",
         "legendgroup": "Fatty acids-Fatty esters",
         "marker": {
          "color": "#ff791a",
          "pattern": {
           "shape": ""
          }
         },
         "name": "Fatty acids-Fatty esters",
         "offsetgroup": "Fatty acids-Fatty esters",
         "orientation": "h",
         "showlegend": true,
         "textposition": "auto",
         "type": "bar",
         "x": [
          1,
          4,
          2,
          4,
          12,
          5,
          3,
          2,
          2,
          7,
          2,
          1,
          1,
          3,
          6,
          4,
          2,
          1,
          7,
          3,
          1,
          2,
          1,
          1,
          1,
          3,
          1,
          2,
          2,
          1,
          1,
          1,
          1,
          1,
          3,
          3,
          3,
          5,
          1,
          4,
          47,
          12,
          6,
          1,
          1,
          2,
          1
         ],
         "xaxis": "x",
         "y": [
          "<i>Ageratina</i>",
          "<i>Ageratum</i>",
          "<i>Alchornea</i>",
          "<i>Ardisia</i>",
          "<i>Aristolochia</i>",
          "<i>Begonia</i>",
          "<i>Calea</i>",
          "<i>Cassia</i>",
          "<i>Catharanthus</i>",
          "<i>Cinnamomum</i>",
          "<i>Cissus</i>",
          "<i>Cnidoscolus</i>",
          "<i>Crinum</i>",
          "<i>Cymbopogon</i>",
          "<i>Cyperus</i>",
          "<i>Dahlia</i>",
          "<i>Desmodium</i>",
          "<i>Eryngium</i>",
          "<i>Euphorbia</i>",
          "<i>Ficus</i>",
          "<i>Ipomoea</i>",
          "<i>Lantana</i>",
          "<i>Lawsonia</i>",
          "<i>Licaria</i>",
          "<i>Lippia</i>",
          "<i>Maclura</i>",
          "<i>Malvaviscus</i>",
          "<i>Mikania</i>",
          "<i>Morinda</i>",
          "<i>Myrciaria</i>",
          "<i>Ocotea</i>",
          "<i>Peperomia</i>",
          "<i>Persea</i>",
          "<i>Persicaria</i>",
          "<i>Phytolacca</i>",
          "<i>Piper</i>",
          "<i>Plumeria</i>",
          "<i>Quercus</i>",
          "<i>Rhizophora</i>",
          "<i>Senna</i>",
          "<i>Solanum</i>",
          "<i>Spondias</i>",
          "<i>Syzygium</i>",
          "<i>Tovomita</i>",
          "<i>Trichilia</i>",
          "<i>Vasconcellea</i>",
          "<i>Virola</i>"
         ],
         "yaxis": "y"
        },
        {
         "alignmentgroup": "True",
         "hovertemplate": "chemical_superclass=Fatty acids-Glycerolipids<br>Recurrence=%{x}<br>y=%{y}<extra></extra>",
         "legendgroup": "Fatty acids-Glycerolipids",
         "marker": {
          "color": "#ff701f",
          "pattern": {
           "shape": ""
          }
         },
         "name": "Fatty acids-Glycerolipids",
         "offsetgroup": "Fatty acids-Glycerolipids",
         "orientation": "h",
         "showlegend": true,
         "textposition": "auto",
         "type": "bar",
         "x": [
          1,
          1,
          1,
          2,
          2,
          1,
          2,
          1,
          5,
          2,
          22,
          3,
          1,
          3,
          2,
          4,
          1
         ],
         "xaxis": "x",
         "y": [
          "<i>Acacia</i>",
          "<i>Alchemilla</i>",
          "<i>Ardisia</i>",
          "<i>Aristolochia</i>",
          "<i>Begonia</i>",
          "<i>Cassia</i>",
          "<i>Cinnamomum</i>",
          "<i>Desmodium</i>",
          "<i>Euphorbia</i>",
          "<i>Guapira</i>",
          "<i>Ipomoea</i>",
          "<i>Morinda</i>",
          "<i>Plumeria</i>",
          "<i>Ranunculus</i>",
          "<i>Senna</i>",
          "<i>Solanum</i>",
          "<i>Virola</i>"
         ],
         "yaxis": "y"
        },
        {
         "alignmentgroup": "True",
         "hovertemplate": "chemical_superclass=Fatty acids-Glycerophospholipids<br>Recurrence=%{x}<br>y=%{y}<extra></extra>",
         "legendgroup": "Fatty acids-Glycerophospholipids",
         "marker": {
          "color": "#ff8511",
          "pattern": {
           "shape": ""
          }
         },
         "name": "Fatty acids-Glycerophospholipids",
         "offsetgroup": "Fatty acids-Glycerophospholipids",
         "orientation": "h",
         "showlegend": true,
         "textposition": "auto",
         "type": "bar",
         "x": [
          3,
          3,
          4
         ],
         "xaxis": "x",
         "y": [
          "<i>Alchemilla</i>",
          "<i>Ranunculus</i>",
          "<i>Solanum</i>"
         ],
         "yaxis": "y"
        },
        {
         "alignmentgroup": "True",
         "hovertemplate": "chemical_superclass=Fatty acids-Octadecanoids<br>Recurrence=%{x}<br>y=%{y}<extra></extra>",
         "legendgroup": "Fatty acids-Octadecanoids",
         "marker": {
          "color": "#ff7d17",
          "pattern": {
           "shape": ""
          }
         },
         "name": "Fatty acids-Octadecanoids",
         "offsetgroup": "Fatty acids-Octadecanoids",
         "orientation": "h",
         "showlegend": true,
         "textposition": "auto",
         "type": "bar",
         "x": [
          1,
          2,
          2,
          3,
          1,
          1,
          2,
          4,
          2,
          1,
          1,
          1,
          14
         ],
         "xaxis": "x",
         "y": [
          "<i>Ageratum</i>",
          "<i>Begonia</i>",
          "<i>Catharanthus</i>",
          "<i>Croton</i>",
          "<i>Dracontium</i>",
          "<i>Ehretia</i>",
          "<i>Ficus</i>",
          "<i>Ipomoea</i>",
          "<i>Mimosa</i>",
          "<i>Morinda</i>",
          "<i>Persicaria</i>",
          "<i>Samanea</i>",
          "<i>Solanum</i>"
         ],
         "yaxis": "y"
        },
        {
         "alignmentgroup": "True",
         "hovertemplate": "chemical_superclass=Fatty acids-Sphingolipids<br>Recurrence=%{x}<br>y=%{y}<extra></extra>",
         "legendgroup": "Fatty acids-Sphingolipids",
         "marker": {
          "color": "#ff8114",
          "pattern": {
           "shape": ""
          }
         },
         "name": "Fatty acids-Sphingolipids",
         "offsetgroup": "Fatty acids-Sphingolipids",
         "orientation": "h",
         "showlegend": true,
         "textposition": "auto",
         "type": "bar",
         "x": [
          2,
          1,
          1,
          1,
          26,
          2,
          2,
          2,
          2
         ],
         "xaxis": "x",
         "y": [
          "<i>Albizia</i>",
          "<i>Begonia</i>",
          "<i>Cyperus</i>",
          "<i>Desmodium</i>",
          "<i>Euphorbia</i>",
          "<i>Ficus</i>",
          "<i>Paullinia</i>",
          "<i>Piper</i>",
          "<i>Psychotria</i>"
         ],
         "yaxis": "y"
        },
        {
         "alignmentgroup": "True",
         "hovertemplate": "chemical_superclass=Polyketides-Aromatic polyketides<br>Recurrence=%{x}<br>y=%{y}<extra></extra>",
         "legendgroup": "Polyketides-Aromatic polyketides",
         "marker": {
          "color": "#ee5e53",
          "pattern": {
           "shape": ""
          }
         },
         "name": "Polyketides-Aromatic polyketides",
         "offsetgroup": "Polyketides-Aromatic polyketides",
         "orientation": "h",
         "showlegend": true,
         "textposition": "auto",
         "type": "bar",
         "x": [
          1,
          130,
          1,
          6,
          1,
          1,
          1,
          3,
          3,
          1,
          1,
          1,
          1,
          1,
          1,
          1,
          8,
          2,
          4,
          8,
          1,
          16,
          2,
          4,
          4,
          1,
          2,
          1,
          10,
          16,
          4,
          1,
          8
         ],
         "xaxis": "x",
         "y": [
          "<i>Acacia</i>",
          "<i>Ardisia</i>",
          "<i>Caesalpinia</i>",
          "<i>Calea</i>",
          "<i>Canavalia</i>",
          "<i>Celtis</i>",
          "<i>Cinnamomum</i>",
          "<i>Croton</i>",
          "<i>Cyperus</i>",
          "<i>Dalbergia</i>",
          "<i>Euphorbia</i>",
          "<i>Inga</i>",
          "<i>Laguncularia</i>",
          "<i>Licaria</i>",
          "<i>Machaerium</i>",
          "<i>Maclura</i>",
          "<i>Miconia</i>",
          "<i>Morinda</i>",
          "<i>Peperomia</i>",
          "<i>Philodendron</i>",
          "<i>Phyllanthus</i>",
          "<i>Piper</i>",
          "<i>Plumeria</i>",
          "<i>Quercus</i>",
          "<i>Rhizophora</i>",
          "<i>Ruellia</i>",
          "<i>Senna</i>",
          "<i>Solanum</i>",
          "<i>Spondias</i>",
          "<i>Stylogyne</i>",
          "<i>Talipariti</i>",
          "<i>Verbesina</i>",
          "<i>Virola</i>"
         ],
         "yaxis": "y"
        },
        {
         "alignmentgroup": "True",
         "hovertemplate": "chemical_superclass=Polyketides-Chromanes<br>Recurrence=%{x}<br>y=%{y}<extra></extra>",
         "legendgroup": "Polyketides-Chromanes",
         "marker": {
          "color": "#ed765f",
          "pattern": {
           "shape": ""
          }
         },
         "name": "Polyketides-Chromanes",
         "offsetgroup": "Polyketides-Chromanes",
         "orientation": "h",
         "showlegend": true,
         "textposition": "auto",
         "type": "bar",
         "x": [
          1,
          1,
          10,
          1,
          1,
          3,
          1,
          1,
          2,
          1,
          3,
          1,
          3,
          1,
          8,
          39,
          1,
          2,
          10,
          2
         ],
         "xaxis": "x",
         "y": [
          "<i>Ageratum</i>",
          "<i>Begonia</i>",
          "<i>Cassia</i>",
          "<i>Cissus</i>",
          "<i>Erythrina</i>",
          "<i>Ficus</i>",
          "<i>Hymenaea</i>",
          "<i>Lupinus</i>",
          "<i>Maclura</i>",
          "<i>Mikania</i>",
          "<i>Ocotea</i>",
          "<i>Onoseris</i>",
          "<i>Peperomia</i>",
          "<i>Persicaria</i>",
          "<i>Rhizophora</i>",
          "<i>Senna</i>",
          "<i>Smilax</i>",
          "<i>Solanum</i>",
          "<i>Syzygium</i>",
          "<i>Talipariti</i>"
         ],
         "yaxis": "y"
        },
        {
         "alignmentgroup": "True",
         "hovertemplate": "chemical_superclass=Polyketides-Cyclic polyketides<br>Recurrence=%{x}<br>y=%{y}<extra></extra>",
         "legendgroup": "Polyketides-Cyclic polyketides",
         "marker": {
          "color": "#ee5751",
          "pattern": {
           "shape": ""
          }
         },
         "name": "Polyketides-Cyclic polyketides",
         "offsetgroup": "Polyketides-Cyclic polyketides",
         "orientation": "h",
         "showlegend": true,
         "textposition": "auto",
         "type": "bar",
         "x": [
          1,
          1,
          2,
          3,
          1,
          1,
          1,
          1,
          1,
          3,
          9,
          7,
          2,
          1
         ],
         "xaxis": "x",
         "y": [
          "<i>Acacia</i>",
          "<i>Aristolochia</i>",
          "<i>Cassia</i>",
          "<i>Cinnamomum</i>",
          "<i>Eryngium</i>",
          "<i>Hymenaea</i>",
          "<i>Lantana</i>",
          "<i>Morinda</i>",
          "<i>Peperomia</i>",
          "<i>Piper</i>",
          "<i>Rhizophora</i>",
          "<i>Solanum</i>",
          "<i>Syzygium</i>",
          "<i>Turnera</i>"
         ],
         "yaxis": "y"
        },
        {
         "alignmentgroup": "True",
         "hovertemplate": "chemical_superclass=Polyketides-Diphenyl ethers (DPEs)<br>Recurrence=%{x}<br>y=%{y}<extra></extra>",
         "legendgroup": "Polyketides-Diphenyl ethers (DPEs)",
         "marker": {
          "color": "#ec8f6a",
          "pattern": {
           "shape": ""
          }
         },
         "name": "Polyketides-Diphenyl ethers (DPEs)",
         "offsetgroup": "Polyketides-Diphenyl ethers (DPEs)",
         "orientation": "h",
         "showlegend": true,
         "textposition": "auto",
         "type": "bar",
         "x": [
          1,
          5
         ],
         "xaxis": "x",
         "y": [
          "<i>Cyperus</i>",
          "<i>Rhizophora</i>"
         ],
         "yaxis": "y"
        },
        {
         "alignmentgroup": "True",
         "hovertemplate": "chemical_superclass=Polyketides-Linear polyketides<br>Recurrence=%{x}<br>y=%{y}<extra></extra>",
         "legendgroup": "Polyketides-Linear polyketides",
         "marker": {
          "color": "#ed8364",
          "pattern": {
           "shape": ""
          }
         },
         "name": "Polyketides-Linear polyketides",
         "offsetgroup": "Polyketides-Linear polyketides",
         "orientation": "h",
         "showlegend": true,
         "textposition": "auto",
         "type": "bar",
         "x": [
          1,
          2,
          1,
          4,
          1,
          1,
          2,
          17,
          18
         ],
         "xaxis": "x",
         "y": [
          "<i>Calea</i>",
          "<i>Cinnamomum</i>",
          "<i>Maytenus</i>",
          "<i>Mesosphaerum</i>",
          "<i>Piper</i>",
          "<i>Sapranthus</i>",
          "<i>Trichilia</i>",
          "<i>Virola</i>",
          "<i>Xylopia</i>"
         ],
         "yaxis": "y"
        },
        {
         "alignmentgroup": "True",
         "hovertemplate": "chemical_superclass=Polyketides-Macrolides<br>Recurrence=%{x}<br>y=%{y}<extra></extra>",
         "legendgroup": "Polyketides-Macrolides",
         "marker": {
          "color": "#ec8967",
          "pattern": {
           "shape": ""
          }
         },
         "name": "Polyketides-Macrolides",
         "offsetgroup": "Polyketides-Macrolides",
         "orientation": "h",
         "showlegend": true,
         "textposition": "auto",
         "type": "bar",
         "x": [
          4,
          3,
          1,
          1,
          5,
          3
         ],
         "xaxis": "x",
         "y": [
          "<i>Colubrina</i>",
          "<i>Euphorbia</i>",
          "<i>Ficus</i>",
          "<i>Lonchocarpus</i>",
          "<i>Maytenus</i>",
          "<i>Strychnos</i>"
         ],
         "yaxis": "y"
        },
        {
         "alignmentgroup": "True",
         "hovertemplate": "chemical_superclass=Polyketides-Meroterpenoids<br>Recurrence=%{x}<br>y=%{y}<extra></extra>",
         "legendgroup": "Polyketides-Meroterpenoids",
         "marker": {
          "color": "#ef514e",
          "pattern": {
           "shape": ""
          }
         },
         "name": "Polyketides-Meroterpenoids",
         "offsetgroup": "Polyketides-Meroterpenoids",
         "orientation": "h",
         "showlegend": true,
         "textposition": "auto",
         "type": "bar",
         "x": [
          1,
          1,
          1,
          2,
          1,
          45,
          10,
          1,
          1
         ],
         "xaxis": "x",
         "y": [
          "<i>Acacia</i>",
          "<i>Ehretia</i>",
          "<i>Gunnera</i>",
          "<i>Marila</i>",
          "<i>Mikania</i>",
          "<i>Peperomia</i>",
          "<i>Piper</i>",
          "<i>Solanum</i>",
          "<i>Virola</i>"
         ],
         "yaxis": "y"
        },
        {
         "alignmentgroup": "True",
         "hovertemplate": "chemical_superclass=Polyketides-Miscellaneous polyketides<br>Recurrence=%{x}<br>y=%{y}<extra></extra>",
         "legendgroup": "Polyketides-Miscellaneous polyketides",
         "marker": {
          "color": "#ed705c",
          "pattern": {
           "shape": ""
          }
         },
         "name": "Polyketides-Miscellaneous polyketides",
         "offsetgroup": "Polyketides-Miscellaneous polyketides",
         "orientation": "h",
         "showlegend": true,
         "textposition": "auto",
         "type": "bar",
         "x": [
          1,
          15,
          2
         ],
         "xaxis": "x",
         "y": [
          "<i>Ageratina</i>",
          "<i>Cinnamomum</i>",
          "<i>Persea</i>"
         ],
         "yaxis": "y"
        },
        {
         "alignmentgroup": "True",
         "hovertemplate": "chemical_superclass=Polyketides-Naphthalenes<br>Recurrence=%{x}<br>y=%{y}<extra></extra>",
         "legendgroup": "Polyketides-Naphthalenes",
         "marker": {
          "color": "#ef4b4b",
          "pattern": {
           "shape": ""
          }
         },
         "name": "Polyketides-Naphthalenes",
         "offsetgroup": "Polyketides-Naphthalenes",
         "orientation": "h",
         "showlegend": true,
         "textposition": "auto",
         "type": "bar",
         "x": [
          1,
          3,
          21,
          1,
          1,
          2,
          1,
          2,
          30,
          4,
          19,
          5,
          8,
          3,
          2,
          21,
          10,
          8,
          1
         ],
         "xaxis": "x",
         "y": [
          "<i>Acacia</i>",
          "<i>Aristolochia</i>",
          "<i>Avicennia</i>",
          "<i>Caesalpinia</i>",
          "<i>Calceolaria</i>",
          "<i>Crescentia</i>",
          "<i>Dalbergia</i>",
          "<i>Eichhornia</i>",
          "<i>Handroanthus</i>",
          "<i>Jatropha</i>",
          "<i>Lantana</i>",
          "<i>Lawsonia</i>",
          "<i>Lippia</i>",
          "<i>Morinda</i>",
          "<i>Psychotria</i>",
          "<i>Senna</i>",
          "<i>Strychnos</i>",
          "<i>Talipariti</i>",
          "<i>Trichilia</i>"
         ],
         "yaxis": "y"
        },
        {
         "alignmentgroup": "True",
         "hovertemplate": "chemical_superclass=Polyketides-Phloroglucinols<br>Recurrence=%{x}<br>y=%{y}<extra></extra>",
         "legendgroup": "Polyketides-Phloroglucinols",
         "marker": {
          "color": "#ee6456",
          "pattern": {
           "shape": ""
          }
         },
         "name": "Polyketides-Phloroglucinols",
         "offsetgroup": "Polyketides-Phloroglucinols",
         "orientation": "h",
         "showlegend": true,
         "textposition": "auto",
         "type": "bar",
         "x": [
          1,
          5,
          1,
          2,
          3,
          1,
          3,
          3,
          10,
          2,
          3,
          1,
          6,
          7,
          3,
          1,
          3,
          1,
          1,
          1,
          16,
          14,
          5
         ],
         "xaxis": "x",
         "y": [
          "<i>Acacia</i>",
          "<i>Ardisia</i>",
          "<i>Cassia</i>",
          "<i>Cinnamomum</i>",
          "<i>Croton</i>",
          "<i>Cyperus</i>",
          "<i>Dalbergia</i>",
          "<i>Erythroxylum</i>",
          "<i>Euphorbia</i>",
          "<i>Ficus</i>",
          "<i>Jatropha</i>",
          "<i>Lawsonia</i>",
          "<i>Maclura</i>",
          "<i>Phyllanthus</i>",
          "<i>Piper</i>",
          "<i>Quercus</i>",
          "<i>Renealmia</i>",
          "<i>Senna</i>",
          "<i>Smilax</i>",
          "<i>Strychnos</i>",
          "<i>Syzygium</i>",
          "<i>Tovomita</i>",
          "<i>Virola</i>"
         ],
         "yaxis": "y"
        },
        {
         "alignmentgroup": "True",
         "hovertemplate": "chemical_superclass=Polyketides-Polycyclic aromatic polyketides<br>Recurrence=%{x}<br>y=%{y}<extra></extra>",
         "legendgroup": "Polyketides-Polycyclic aromatic polyketides",
         "marker": {
          "color": "#ee6a59",
          "pattern": {
           "shape": ""
          }
         },
         "name": "Polyketides-Polycyclic aromatic polyketides",
         "offsetgroup": "Polyketides-Polycyclic aromatic polyketides",
         "orientation": "h",
         "showlegend": true,
         "textposition": "auto",
         "type": "bar",
         "x": [
          2,
          2,
          21,
          1,
          1,
          1,
          1,
          6,
          7,
          1,
          2,
          1,
          60,
          51,
          1,
          157,
          2,
          1
         ],
         "xaxis": "x",
         "y": [
          "<i>Ageratina</i>",
          "<i>Aristolochia</i>",
          "<i>Cassia</i>",
          "<i>Celtis</i>",
          "<i>Colubrina</i>",
          "<i>Croton</i>",
          "<i>Euphorbia</i>",
          "<i>Faramea</i>",
          "<i>Handroanthus</i>",
          "<i>Ipomoea</i>",
          "<i>Jatropha</i>",
          "<i>Lippia</i>",
          "<i>Morinda</i>",
          "<i>Picramnia</i>",
          "<i>Plumeria</i>",
          "<i>Senna</i>",
          "<i>Smilax</i>",
          "<i>Xylopia</i>"
         ],
         "yaxis": "y"
        },
        {
         "alignmentgroup": "True",
         "hovertemplate": "chemical_superclass=Polyketides-Xanthones<br>Recurrence=%{x}<br>y=%{y}<extra></extra>",
         "legendgroup": "Polyketides-Xanthones",
         "marker": {
          "color": "#ed7c62",
          "pattern": {
           "shape": ""
          }
         },
         "name": "Polyketides-Xanthones",
         "offsetgroup": "Polyketides-Xanthones",
         "orientation": "h",
         "showlegend": true,
         "textposition": "auto",
         "type": "bar",
         "x": [
          2,
          1,
          1,
          1,
          1,
          3,
          1,
          3,
          10,
          2
         ],
         "xaxis": "x",
         "y": [
          "<i>Aspidosperma</i>",
          "<i>Croton</i>",
          "<i>Dialium</i>",
          "<i>Faramea</i>",
          "<i>Inga</i>",
          "<i>Maclura</i>",
          "<i>Rauvolfia</i>",
          "<i>Rhizophora</i>",
          "<i>Senna</i>",
          "<i>Tovomita</i>"
         ],
         "yaxis": "y"
        },
        {
         "alignmentgroup": "True",
         "hovertemplate": "chemical_superclass=Shikimates and Phenylpropanoids-Coumarins<br>Recurrence=%{x}<br>y=%{y}<extra></extra>",
         "legendgroup": "Shikimates and Phenylpropanoids-Coumarins",
         "marker": {
          "color": "#996e97",
          "pattern": {
           "shape": ""
          }
         },
         "name": "Shikimates and Phenylpropanoids-Coumarins",
         "offsetgroup": "Shikimates and Phenylpropanoids-Coumarins",
         "orientation": "h",
         "showlegend": true,
         "textposition": "auto",
         "type": "bar",
         "x": [
          8,
          1,
          3,
          1,
          2,
          14,
          1,
          24,
          3,
          1,
          2,
          1,
          1,
          3,
          1,
          3,
          1,
          4,
          4,
          6,
          1,
          1,
          38,
          42,
          1,
          11,
          5,
          11,
          1,
          4,
          2,
          1,
          6,
          6,
          18,
          3,
          3,
          6,
          5,
          4,
          3,
          1,
          3,
          2,
          15,
          2,
          2,
          1,
          1,
          2,
          3,
          5,
          4,
          11,
          11,
          3,
          2,
          1
         ],
         "xaxis": "x",
         "y": [
          "<i>Acacia</i>",
          "<i>Ageratina</i>",
          "<i>Ageratum</i>",
          "<i>Alchornea</i>",
          "<i>Alibertia</i>",
          "<i>Ardisia</i>",
          "<i>Aristolochia</i>",
          "<i>Brosimum</i>",
          "<i>Calea</i>",
          "<i>Camonea</i>",
          "<i>Cassia</i>",
          "<i>Cinnamomum</i>",
          "<i>Cissus</i>",
          "<i>Cnidoscolus</i>",
          "<i>Crinum</i>",
          "<i>Croton</i>",
          "<i>Cyperus</i>",
          "<i>Dalbergia</i>",
          "<i>Eryngium</i>",
          "<i>Erythrina</i>",
          "<i>Erythroxylum</i>",
          "<i>Eschweilera</i>",
          "<i>Euphorbia</i>",
          "<i>Ficus</i>",
          "<i>Gliricidia</i>",
          "<i>Handroanthus</i>",
          "<i>Ipomoea</i>",
          "<i>Jatropha</i>",
          "<i>Laguncularia</i>",
          "<i>Lawsonia</i>",
          "<i>Licaria</i>",
          "<i>Lonchocarpus</i>",
          "<i>Lupinus</i>",
          "<i>Maclura</i>",
          "<i>Marila</i>",
          "<i>Maytenus</i>",
          "<i>Miconia</i>",
          "<i>Mikania</i>",
          "<i>Mimosa</i>",
          "<i>Morinda</i>",
          "<i>Myrciaria</i>",
          "<i>Ocotea</i>",
          "<i>Onoseris</i>",
          "<i>Persicaria</i>",
          "<i>Phyllanthus</i>",
          "<i>Picramnia</i>",
          "<i>Piper</i>",
          "<i>Platymiscium</i>",
          "<i>Plumeria</i>",
          "<i>Prosopis</i>",
          "<i>Quassia</i>",
          "<i>Quercus</i>",
          "<i>Ranunculus</i>",
          "<i>Senna</i>",
          "<i>Solanum</i>",
          "<i>Talipariti</i>",
          "<i>Trichilia</i>",
          "<i>Virola</i>"
         ],
         "yaxis": "y"
        },
        {
         "alignmentgroup": "True",
         "hovertemplate": "chemical_superclass=Shikimates and Phenylpropanoids-Diarylheptanoids<br>Recurrence=%{x}<br>y=%{y}<extra></extra>",
         "legendgroup": "Shikimates and Phenylpropanoids-Diarylheptanoids",
         "marker": {
          "color": "#c398aa",
          "pattern": {
           "shape": ""
          }
         },
         "name": "Shikimates and Phenylpropanoids-Diarylheptanoids",
         "offsetgroup": "Shikimates and Phenylpropanoids-Diarylheptanoids",
         "orientation": "h",
         "showlegend": true,
         "textposition": "auto",
         "type": "bar",
         "x": [
          2,
          1,
          3,
          1
         ],
         "xaxis": "x",
         "y": [
          "<i>Maclura</i>",
          "<i>Piper</i>",
          "<i>Renealmia</i>",
          "<i>Strychnos</i>"
         ],
         "yaxis": "y"
        },
        {
         "alignmentgroup": "True",
         "hovertemplate": "chemical_superclass=Shikimates and Phenylpropanoids-Flavonoids<br>Recurrence=%{x}<br>y=%{y}<extra></extra>",
         "legendgroup": "Shikimates and Phenylpropanoids-Flavonoids",
         "marker": {
          "color": "#80558c",
          "pattern": {
           "shape": ""
          }
         },
         "name": "Shikimates and Phenylpropanoids-Flavonoids",
         "offsetgroup": "Shikimates and Phenylpropanoids-Flavonoids",
         "orientation": "h",
         "showlegend": true,
         "textposition": "auto",
         "type": "bar",
         "x": [
          162,
          16,
          1,
          66,
          48,
          41,
          15,
          8,
          10,
          1,
          17,
          30,
          2,
          6,
          16,
          4,
          70,
          31,
          16,
          14,
          2,
          10,
          58,
          24,
          11,
          3,
          4,
          9,
          13,
          92,
          45,
          1,
          11,
          11,
          1,
          23,
          3,
          16,
          46,
          4,
          19,
          41,
          18,
          115,
          34,
          1,
          2,
          3,
          23,
          15,
          139,
          41,
          2,
          40,
          110,
          2,
          87,
          21,
          8,
          6,
          3,
          15,
          1,
          2,
          1,
          9,
          17,
          12,
          9,
          54,
          16,
          12,
          34,
          20,
          4,
          32,
          119,
          52,
          3,
          4,
          5,
          88,
          3,
          2,
          4,
          1,
          16,
          24,
          50,
          32,
          14,
          13,
          1,
          13,
          12,
          31,
          81,
          3,
          84,
          13,
          125,
          10,
          6,
          5,
          33,
          43,
          8,
          8,
          77,
          49,
          2,
          6,
          14,
          2,
          1,
          3,
          5,
          17,
          4,
          12,
          80,
          8,
          61,
          123,
          26,
          2,
          43,
          2,
          84,
          1,
          1,
          19,
          22,
          6,
          9,
          3,
          7
         ],
         "xaxis": "x",
         "y": [
          "<i>Acacia</i>",
          "<i>Acalypha</i>",
          "<i>Aeschynomene</i>",
          "<i>Ageratina</i>",
          "<i>Ageratum</i>",
          "<i>Albizia</i>",
          "<i>Alchemilla</i>",
          "<i>Alchornea</i>",
          "<i>Anthurium</i>",
          "<i>Apeiba</i>",
          "<i>Ardisia</i>",
          "<i>Aristolochia</i>",
          "<i>Arthraxon</i>",
          "<i>Avicennia</i>",
          "<i>Begonia</i>",
          "<i>Bixa</i>",
          "<i>Brosimum</i>",
          "<i>Caesalpinia</i>",
          "<i>Calceolaria</i>",
          "<i>Calea</i>",
          "<i>Camonea</i>",
          "<i>Canavalia</i>",
          "<i>Cassia</i>",
          "<i>Catharanthus</i>",
          "<i>Cecropia</i>",
          "<i>Celtis</i>",
          "<i>Centrosema</i>",
          "<i>Cestrum</i>",
          "<i>Chrysophyllum</i>",
          "<i>Cinnamomum</i>",
          "<i>Cissus</i>",
          "<i>Clarisia</i>",
          "<i>Cnidoscolus</i>",
          "<i>Colubrina</i>",
          "<i>Columnea</i>",
          "<i>Costus</i>",
          "<i>Crescentia</i>",
          "<i>Crinum</i>",
          "<i>Croton</i>",
          "<i>Cupania</i>",
          "<i>Cymbopogon</i>",
          "<i>Cyperus</i>",
          "<i>Dahlia</i>",
          "<i>Dalbergia</i>",
          "<i>Desmodium</i>",
          "<i>Dialium</i>",
          "<i>Echinochloa</i>",
          "<i>Eichhornia</i>",
          "<i>Entada</i>",
          "<i>Eryngium</i>",
          "<i>Erythrina</i>",
          "<i>Erythroxylum</i>",
          "<i>Eschweilera</i>",
          "<i>Eugenia</i>",
          "<i>Euphorbia</i>",
          "<i>Faramea</i>",
          "<i>Ficus</i>",
          "<i>Fuchsia</i>",
          "<i>Gliricidia</i>",
          "<i>Guilandina</i>",
          "<i>Hamelia</i>",
          "<i>Handroanthus</i>",
          "<i>Hedyosmum</i>",
          "<i>Heisteria</i>",
          "<i>Homalium</i>",
          "<i>Hymenaea</i>",
          "<i>Hyparrhenia</i>",
          "<i>Indigofera</i>",
          "<i>Inga</i>",
          "<i>Ipomoea</i>",
          "<i>Jatropha</i>",
          "<i>Laguncularia</i>",
          "<i>Lantana</i>",
          "<i>Lawsonia</i>",
          "<i>Lepechinia</i>",
          "<i>Lippia</i>",
          "<i>Lonchocarpus</i>",
          "<i>Lupinus</i>",
          "<i>Lycianthes</i>",
          "<i>Mabea</i>",
          "<i>Machaerium</i>",
          "<i>Maclura</i>",
          "<i>Malvaviscus</i>",
          "<i>Marila</i>",
          "<i>Maytenus</i>",
          "<i>Mesosphaerum</i>",
          "<i>Miconia</i>",
          "<i>Mikania</i>",
          "<i>Mimosa</i>",
          "<i>Morinda</i>",
          "<i>Nasturtium</i>",
          "<i>Ocotea</i>",
          "<i>Oreopanax</i>",
          "<i>Paullinia</i>",
          "<i>Peperomia</i>",
          "<i>Persea</i>",
          "<i>Persicaria</i>",
          "<i>Phenax</i>",
          "<i>Phyllanthus</i>",
          "<i>Phytolacca</i>",
          "<i>Piper</i>",
          "<i>Pithecellobium</i>",
          "<i>Platymiscium</i>",
          "<i>Plumeria</i>",
          "<i>Prosopis</i>",
          "<i>Pseudognaphalium</i>",
          "<i>Psychotria</i>",
          "<i>Puya</i>",
          "<i>Quercus</i>",
          "<i>Ranunculus</i>",
          "<i>Rauvolfia</i>",
          "<i>Renealmia</i>",
          "<i>Rhizophora</i>",
          "<i>Rhynchospora</i>",
          "<i>Rinorea</i>",
          "<i>Roldana</i>",
          "<i>Ruellia</i>",
          "<i>Saccharum</i>",
          "<i>Sapium</i>",
          "<i>Scleria</i>",
          "<i>Senna</i>",
          "<i>Siparuna</i>",
          "<i>Smilax</i>",
          "<i>Solanum</i>",
          "<i>Sorocea</i>",
          "<i>Spermacoce</i>",
          "<i>Strychnos</i>",
          "<i>Stylogyne</i>",
          "<i>Syzygium</i>",
          "<i>Ternstroemia</i>",
          "<i>Trattinnickia</i>",
          "<i>Trichilia</i>",
          "<i>Turnera</i>",
          "<i>Verbesina</i>",
          "<i>Virola</i>",
          "<i>Vochysia</i>",
          "<i>Xylopia</i>"
         ],
         "yaxis": "y"
        },
        {
         "alignmentgroup": "True",
         "hovertemplate": "chemical_superclass=Shikimates and Phenylpropanoids-Isoflavonoids<br>Recurrence=%{x}<br>y=%{y}<extra></extra>",
         "legendgroup": "Shikimates and Phenylpropanoids-Isoflavonoids",
         "marker": {
          "color": "#916694",
          "pattern": {
           "shape": ""
          }
         },
         "name": "Shikimates and Phenylpropanoids-Isoflavonoids",
         "offsetgroup": "Shikimates and Phenylpropanoids-Isoflavonoids",
         "orientation": "h",
         "showlegend": true,
         "textposition": "auto",
         "type": "bar",
         "x": [
          9,
          1,
          1,
          16,
          2,
          1,
          5,
          5,
          1,
          10,
          8,
          7,
          289,
          67,
          350,
          2,
          1,
          30,
          20,
          1,
          4,
          14,
          132,
          13,
          34,
          1,
          3,
          3,
          2,
          1,
          14,
          1,
          1,
          2,
          1,
          2,
          2,
          8,
          14,
          5,
          4,
          8
         ],
         "xaxis": "x",
         "y": [
          "<i>Acacia</i>",
          "<i>Ageratum</i>",
          "<i>Albizia</i>",
          "<i>Ardisia</i>",
          "<i>Begonia</i>",
          "<i>Brosimum</i>",
          "<i>Caesalpinia</i>",
          "<i>Canavalia</i>",
          "<i>Cassia</i>",
          "<i>Centrosema</i>",
          "<i>Cissus</i>",
          "<i>Cymbopogon</i>",
          "<i>Dalbergia</i>",
          "<i>Desmodium</i>",
          "<i>Erythrina</i>",
          "<i>Erythroxylum</i>",
          "<i>Euphorbia</i>",
          "<i>Ficus</i>",
          "<i>Gliricidia</i>",
          "<i>Guilandina</i>",
          "<i>Indigofera</i>",
          "<i>Lonchocarpus</i>",
          "<i>Lupinus</i>",
          "<i>Machaerium</i>",
          "<i>Maclura</i>",
          "<i>Ocotea</i>",
          "<i>Peperomia</i>",
          "<i>Persicaria</i>",
          "<i>Piper</i>",
          "<i>Pithecellobium</i>",
          "<i>Platymiscium</i>",
          "<i>Plumeria</i>",
          "<i>Prosopis</i>",
          "<i>Quercus</i>",
          "<i>Sansevieria</i>",
          "<i>Senna</i>",
          "<i>Smilax</i>",
          "<i>Solanum</i>",
          "<i>Sorocea</i>",
          "<i>Syzygium</i>",
          "<i>Tournefortia</i>",
          "<i>Virola</i>"
         ],
         "yaxis": "y"
        },
        {
         "alignmentgroup": "True",
         "hovertemplate": "chemical_superclass=Shikimates and Phenylpropanoids-Lignans<br>Recurrence=%{x}<br>y=%{y}<extra></extra>",
         "legendgroup": "Shikimates and Phenylpropanoids-Lignans",
         "marker": {
          "color": "#a1769b",
          "pattern": {
           "shape": ""
          }
         },
         "name": "Shikimates and Phenylpropanoids-Lignans",
         "offsetgroup": "Shikimates and Phenylpropanoids-Lignans",
         "orientation": "h",
         "showlegend": true,
         "textposition": "auto",
         "type": "bar",
         "x": [
          2,
          1,
          27,
          80,
          2,
          4,
          4,
          1,
          31,
          1,
          2,
          2,
          5,
          3,
          3,
          5,
          1,
          3,
          1,
          12,
          2,
          11,
          1,
          10,
          11,
          4,
          5,
          3,
          4,
          64,
          4,
          2,
          33,
          2,
          146,
          1,
          104,
          23,
          2,
          85,
          16,
          235,
          1,
          1,
          7,
          1,
          4,
          2,
          8,
          1,
          9,
          17,
          11,
          1,
          4,
          164,
          8
         ],
         "xaxis": "x",
         "y": [
          "<i>Ageratina</i>",
          "<i>Ageratum</i>",
          "<i>Albizia</i>",
          "<i>Aristolochia</i>",
          "<i>Aspidosperma</i>",
          "<i>Avicennia</i>",
          "<i>Brosimum</i>",
          "<i>Cassia</i>",
          "<i>Cinnamomum</i>",
          "<i>Cissus</i>",
          "<i>Crescentia</i>",
          "<i>Crinum</i>",
          "<i>Croton</i>",
          "<i>Dalbergia</i>",
          "<i>Doliocarpus</i>",
          "<i>Ehretia</i>",
          "<i>Erythrina</i>",
          "<i>Euphorbia</i>",
          "<i>Faramea</i>",
          "<i>Ficus</i>",
          "<i>Gliricidia</i>",
          "<i>Handroanthus</i>",
          "<i>Hyparrhenia</i>",
          "<i>Inga</i>",
          "<i>Ipomoea</i>",
          "<i>Jatropha</i>",
          "<i>Laguncularia</i>",
          "<i>Lantana</i>",
          "<i>Lawsonia</i>",
          "<i>Licaria</i>",
          "<i>Lippia</i>",
          "<i>Mikania</i>",
          "<i>Morinda</i>",
          "<i>Nasturtium</i>",
          "<i>Ocotea</i>",
          "<i>Oreopanax</i>",
          "<i>Peperomia</i>",
          "<i>Persea</i>",
          "<i>Phenax</i>",
          "<i>Phyllanthus</i>",
          "<i>Phytolacca</i>",
          "<i>Piper</i>",
          "<i>Plumeria</i>",
          "<i>Prosopis</i>",
          "<i>Quercus</i>",
          "<i>Rinorea</i>",
          "<i>Ruellia</i>",
          "<i>Saccharum</i>",
          "<i>Senna</i>",
          "<i>Smilax</i>",
          "<i>Solanum</i>",
          "<i>Strychnos</i>",
          "<i>Syzygium</i>",
          "<i>Talipariti</i>",
          "<i>Tournefortia</i>",
          "<i>Virola</i>",
          "<i>Xylopia</i>"
         ],
         "yaxis": "y"
        },
        {
         "alignmentgroup": "True",
         "hovertemplate": "chemical_superclass=Shikimates and Phenylpropanoids-Phenanthrenoids<br>Recurrence=%{x}<br>y=%{y}<extra></extra>",
         "legendgroup": "Shikimates and Phenylpropanoids-Phenanthrenoids",
         "marker": {
          "color": "#aa7f9f",
          "pattern": {
           "shape": ""
          }
         },
         "name": "Shikimates and Phenylpropanoids-Phenanthrenoids",
         "offsetgroup": "Shikimates and Phenylpropanoids-Phenanthrenoids",
         "orientation": "h",
         "showlegend": true,
         "textposition": "auto",
         "type": "bar",
         "x": [
          18,
          2,
          4,
          1,
          1,
          1
         ],
         "xaxis": "x",
         "y": [
          "<i>Aristolochia</i>",
          "<i>Cecropia</i>",
          "<i>Eichhornia</i>",
          "<i>Piper</i>",
          "<i>Senna</i>",
          "<i>Syzygium</i>"
         ],
         "yaxis": "y"
        },
        {
         "alignmentgroup": "True",
         "hovertemplate": "chemical_superclass=Shikimates and Phenylpropanoids-Phenolic acids (C6-C1)<br>Recurrence=%{x}<br>y=%{y}<extra></extra>",
         "legendgroup": "Shikimates and Phenylpropanoids-Phenolic acids (C6-C1)",
         "marker": {
          "color": "#ab63fa",
          "pattern": {
           "shape": ""
          }
         },
         "name": "Shikimates and Phenylpropanoids-Phenolic acids (C6-C1)",
         "offsetgroup": "Shikimates and Phenylpropanoids-Phenolic acids (C6-C1)",
         "orientation": "h",
         "showlegend": true,
         "textposition": "auto",
         "type": "bar",
         "x": [
          7,
          29,
          5,
          5,
          14,
          1,
          8,
          24,
          1,
          9,
          1,
          1,
          2,
          2,
          2,
          3,
          4,
          1,
          6,
          1,
          11,
          5,
          2,
          2,
          4,
          2,
          9,
          2,
          2,
          2,
          3,
          5,
          1,
          3,
          2,
          3,
          16,
          156,
          6,
          6,
          10,
          1,
          17,
          1,
          2,
          1,
          2,
          2,
          1,
          1,
          7,
          1,
          3,
          1,
          1,
          1,
          3,
          2,
          6,
          2,
          1,
          15,
          8,
          6,
          135,
          1,
          67,
          2,
          7,
          1,
          3,
          185,
          4,
          1,
          5,
          2,
          2,
          8,
          5,
          2,
          23,
          1,
          1,
          7,
          2,
          67,
          3,
          3,
          1,
          1,
          3,
          2,
          3
         ],
         "xaxis": "x",
         "y": [
          "<i>Acacia</i>",
          "<i>Acalypha</i>",
          "<i>Ageratina</i>",
          "<i>Alchemilla</i>",
          "<i>Alchornea</i>",
          "<i>Alibertia</i>",
          "<i>Ardisia</i>",
          "<i>Aristolochia</i>",
          "<i>Avicennia</i>",
          "<i>Begonia</i>",
          "<i>Bixa</i>",
          "<i>Brosimum</i>",
          "<i>Caesalpinia</i>",
          "<i>Calea</i>",
          "<i>Canavalia</i>",
          "<i>Cassia</i>",
          "<i>Catharanthus</i>",
          "<i>Cecropia</i>",
          "<i>Cestrum</i>",
          "<i>Chrysophyllum</i>",
          "<i>Cinnamomum</i>",
          "<i>Cissus</i>",
          "<i>Clidemia</i>",
          "<i>Colubrina</i>",
          "<i>Crescentia</i>",
          "<i>Crinum</i>",
          "<i>Croton</i>",
          "<i>Cyperus</i>",
          "<i>Dalbergia</i>",
          "<i>Desmodium</i>",
          "<i>Eichhornia</i>",
          "<i>Entada</i>",
          "<i>Eryngium</i>",
          "<i>Erythrina</i>",
          "<i>Erythroxylum</i>",
          "<i>Eschweilera</i>",
          "<i>Eugenia</i>",
          "<i>Euphorbia</i>",
          "<i>Ficus</i>",
          "<i>Gliricidia</i>",
          "<i>Handroanthus</i>",
          "<i>Hedyosmum</i>",
          "<i>Homalium</i>",
          "<i>Indigofera</i>",
          "<i>Ipomoea</i>",
          "<i>Jatropha</i>",
          "<i>Laguncularia</i>",
          "<i>Lantana</i>",
          "<i>Lawsonia</i>",
          "<i>Lippia</i>",
          "<i>Lupinus</i>",
          "<i>Mabea</i>",
          "<i>Maclura</i>",
          "<i>Maianthemum</i>",
          "<i>Marila</i>",
          "<i>Maytenus</i>",
          "<i>Miconia</i>",
          "<i>Mikania</i>",
          "<i>Mimosa</i>",
          "<i>Morinda</i>",
          "<i>Myrciaria</i>",
          "<i>Peperomia</i>",
          "<i>Persea</i>",
          "<i>Persicaria</i>",
          "<i>Phyllanthus</i>",
          "<i>Phytolacca</i>",
          "<i>Piper</i>",
          "<i>Pithecellobium</i>",
          "<i>Plumeria</i>",
          "<i>Prosopis</i>",
          "<i>Psychotria</i>",
          "<i>Quercus</i>",
          "<i>Ranunculus</i>",
          "<i>Rauvolfia</i>",
          "<i>Rhizophora</i>",
          "<i>Ruellia</i>",
          "<i>Sapium</i>",
          "<i>Senna</i>",
          "<i>Sloanea</i>",
          "<i>Smilax</i>",
          "<i>Solanum</i>",
          "<i>Sorocea</i>",
          "<i>Spathiphyllum</i>",
          "<i>Spondias</i>",
          "<i>Strychnos</i>",
          "<i>Syzygium</i>",
          "<i>Talipariti</i>",
          "<i>Tournefortia</i>",
          "<i>Tovomita</i>",
          "<i>Trattinnickia</i>",
          "<i>Trichilia</i>",
          "<i>Verbesina</i>",
          "<i>Virola</i>"
         ],
         "yaxis": "y"
        },
        {
         "alignmentgroup": "True",
         "hovertemplate": "chemical_superclass=Shikimates and Phenylpropanoids-Phenylethanoids (C6-C2)<br>Recurrence=%{x}<br>y=%{y}<extra></extra>",
         "legendgroup": "Shikimates and Phenylpropanoids-Phenylethanoids (C6-C2)",
         "marker": {
          "color": "#FFA15A",
          "pattern": {
           "shape": ""
          }
         },
         "name": "Shikimates and Phenylpropanoids-Phenylethanoids (C6-C2)",
         "offsetgroup": "Shikimates and Phenylpropanoids-Phenylethanoids (C6-C2)",
         "orientation": "h",
         "showlegend": true,
         "textposition": "auto",
         "type": "bar",
         "x": [
          4,
          1,
          3,
          3,
          1,
          1,
          9,
          5,
          5,
          1,
          2,
          2,
          1,
          4,
          1,
          1,
          8,
          4,
          1,
          1,
          3,
          1,
          7
         ],
         "xaxis": "x",
         "y": [
          "<i>Aristolochia</i>",
          "<i>Cestrum</i>",
          "<i>Cinnamomum</i>",
          "<i>Croton</i>",
          "<i>Entada</i>",
          "<i>Euphorbia</i>",
          "<i>Handroanthus</i>",
          "<i>Inga</i>",
          "<i>Ipomoea</i>",
          "<i>Lantana</i>",
          "<i>Lippia</i>",
          "<i>Mikania</i>",
          "<i>Ocotea</i>",
          "<i>Peperomia</i>",
          "<i>Phyllanthus</i>",
          "<i>Plumeria</i>",
          "<i>Quercus</i>",
          "<i>Ruellia</i>",
          "<i>Smilax</i>",
          "<i>Solanum</i>",
          "<i>Strychnos</i>",
          "<i>Syzygium</i>",
          "<i>Ternstroemia</i>"
         ],
         "yaxis": "y"
        },
        {
         "alignmentgroup": "True",
         "hovertemplate": "chemical_superclass=Shikimates and Phenylpropanoids-Phenylpropanoids (C6-C3)<br>Recurrence=%{x}<br>y=%{y}<extra></extra>",
         "legendgroup": "Shikimates and Phenylpropanoids-Phenylpropanoids (C6-C3)",
         "marker": {
          "color": "#19d3f3",
          "pattern": {
           "shape": ""
          }
         },
         "name": "Shikimates and Phenylpropanoids-Phenylpropanoids (C6-C3)",
         "offsetgroup": "Shikimates and Phenylpropanoids-Phenylpropanoids (C6-C3)",
         "orientation": "h",
         "showlegend": true,
         "textposition": "auto",
         "type": "bar",
         "x": [
          1,
          1,
          2,
          21,
          1,
          4,
          2,
          6,
          2,
          1,
          1,
          21,
          5,
          7,
          3,
          3,
          7,
          2,
          4,
          4,
          2,
          1,
          10,
          59,
          4,
          3,
          5,
          2,
          17,
          13,
          9,
          1,
          59,
          3,
          2,
          1,
          8,
          11,
          4,
          22,
          2,
          13,
          8,
          1,
          1,
          1,
          6,
          1,
          1,
          40,
          1,
          1,
          28,
          1,
          13,
          13,
          6,
          10,
          1,
          2,
          1,
          17,
          1,
          3,
          12,
          2,
          3,
          18,
          12,
          29,
          12,
          1,
          6,
          79,
          1,
          7,
          1,
          15,
          3,
          1,
          1,
          8,
          2,
          8,
          59,
          65,
          4,
          9,
          13,
          35,
          2,
          3,
          1,
          2,
          7,
          10,
          2
         ],
         "xaxis": "x",
         "y": [
          "<i>Acacia</i>",
          "<i>Acalypha</i>",
          "<i>Aeschynomene</i>",
          "<i>Ageratina</i>",
          "<i>Ageratum</i>",
          "<i>Albizia</i>",
          "<i>Alchemilla</i>",
          "<i>Alibertia</i>",
          "<i>Anthurium</i>",
          "<i>Apeiba</i>",
          "<i>Ardisia</i>",
          "<i>Aristolochia</i>",
          "<i>Avicennia</i>",
          "<i>Begonia</i>",
          "<i>Brosimum</i>",
          "<i>Caesalpinia</i>",
          "<i>Calceolaria</i>",
          "<i>Calea</i>",
          "<i>Camonea</i>",
          "<i>Cassia</i>",
          "<i>Castilleja</i>",
          "<i>Cecropia</i>",
          "<i>Cestrum</i>",
          "<i>Cinnamomum</i>",
          "<i>Cissus</i>",
          "<i>Cnidoscolus</i>",
          "<i>Colubrina</i>",
          "<i>Crinum</i>",
          "<i>Croton</i>",
          "<i>Cymbopogon</i>",
          "<i>Cyperus</i>",
          "<i>Dahlia</i>",
          "<i>Dalbergia</i>",
          "<i>Ehretia</i>",
          "<i>Eichhornia</i>",
          "<i>Entada</i>",
          "<i>Eryngium</i>",
          "<i>Erythrina</i>",
          "<i>Erythroxylum</i>",
          "<i>Euphorbia</i>",
          "<i>Faramea</i>",
          "<i>Ficus</i>",
          "<i>Gliricidia</i>",
          "<i>Guilandina</i>",
          "<i>Gunnera</i>",
          "<i>Hamelia</i>",
          "<i>Handroanthus</i>",
          "<i>Homalium</i>",
          "<i>Inga</i>",
          "<i>Ipomoea</i>",
          "<i>Jatropha</i>",
          "<i>Laguncularia</i>",
          "<i>Lantana</i>",
          "<i>Lepechinia</i>",
          "<i>Licaria</i>",
          "<i>Lippia</i>",
          "<i>Lupinus</i>",
          "<i>Machaerium</i>",
          "<i>Maclura</i>",
          "<i>Maianthemum</i>",
          "<i>Mesosphaerum</i>",
          "<i>Mikania</i>",
          "<i>Mimosa</i>",
          "<i>Morinda</i>",
          "<i>Ocotea</i>",
          "<i>Onoseris</i>",
          "<i>Paullinia</i>",
          "<i>Peperomia</i>",
          "<i>Persea</i>",
          "<i>Persicaria</i>",
          "<i>Phyllanthus</i>",
          "<i>Phytolacca</i>",
          "<i>Piofontia</i>",
          "<i>Piper</i>",
          "<i>Piptocarpha</i>",
          "<i>Plumeria</i>",
          "<i>Psychotria</i>",
          "<i>Quercus</i>",
          "<i>Ranunculus</i>",
          "<i>Rhizophora</i>",
          "<i>Roldana</i>",
          "<i>Ruellia</i>",
          "<i>Saccharum</i>",
          "<i>Senna</i>",
          "<i>Smilax</i>",
          "<i>Solanum</i>",
          "<i>Spathiphyllum</i>",
          "<i>Spondias</i>",
          "<i>Strychnos</i>",
          "<i>Syzygium</i>",
          "<i>Talipariti</i>",
          "<i>Tournefortia</i>",
          "<i>Turnera</i>",
          "<i>Urochloa</i>",
          "<i>Verbesina</i>",
          "<i>Virola</i>",
          "<i>Xylopia</i>"
         ],
         "yaxis": "y"
        },
        {
         "alignmentgroup": "True",
         "hovertemplate": "chemical_superclass=Shikimates and Phenylpropanoids-Stilbenoids<br>Recurrence=%{x}<br>y=%{y}<extra></extra>",
         "legendgroup": "Shikimates and Phenylpropanoids-Stilbenoids",
         "marker": {
          "color": "#b287a3",
          "pattern": {
           "shape": ""
          }
         },
         "name": "Shikimates and Phenylpropanoids-Stilbenoids",
         "offsetgroup": "Shikimates and Phenylpropanoids-Stilbenoids",
         "orientation": "h",
         "showlegend": true,
         "textposition": "auto",
         "type": "bar",
         "x": [
          4,
          1,
          15,
          16,
          2,
          3,
          23,
          6,
          1,
          30,
          18,
          3,
          14,
          8,
          7
         ],
         "xaxis": "x",
         "y": [
          "<i>Brosimum</i>",
          "<i>Cassia</i>",
          "<i>Cissus</i>",
          "<i>Cyperus</i>",
          "<i>Erythrina</i>",
          "<i>Euphorbia</i>",
          "<i>Lonchocarpus</i>",
          "<i>Maclura</i>",
          "<i>Saccharum</i>",
          "<i>Senna</i>",
          "<i>Smilax</i>",
          "<i>Solanum</i>",
          "<i>Sorocea</i>",
          "<i>Tournefortia</i>",
          "<i>Virola</i>"
         ],
         "yaxis": "y"
        },
        {
         "alignmentgroup": "True",
         "hovertemplate": "chemical_superclass=Shikimates and Phenylpropanoids-Styrylpyrones<br>Recurrence=%{x}<br>y=%{y}<extra></extra>",
         "legendgroup": "Shikimates and Phenylpropanoids-Styrylpyrones",
         "marker": {
          "color": "#cba0ae",
          "pattern": {
           "shape": ""
          }
         },
         "name": "Shikimates and Phenylpropanoids-Styrylpyrones",
         "offsetgroup": "Shikimates and Phenylpropanoids-Styrylpyrones",
         "orientation": "h",
         "showlegend": true,
         "textposition": "auto",
         "type": "bar",
         "x": [
          30,
          1,
          3,
          2
         ],
         "xaxis": "x",
         "y": [
          "<i>Piper</i>",
          "<i>Ranunculus</i>",
          "<i>Renealmia</i>",
          "<i>Solanum</i>"
         ],
         "yaxis": "y"
        },
        {
         "alignmentgroup": "True",
         "hovertemplate": "chemical_superclass=Shikimates and Phenylpropanoids-Xanthones<br>Recurrence=%{x}<br>y=%{y}<extra></extra>",
         "legendgroup": "Shikimates and Phenylpropanoids-Xanthones",
         "marker": {
          "color": "#ba8fa6",
          "pattern": {
           "shape": ""
          }
         },
         "name": "Shikimates and Phenylpropanoids-Xanthones",
         "offsetgroup": "Shikimates and Phenylpropanoids-Xanthones",
         "orientation": "h",
         "showlegend": true,
         "textposition": "auto",
         "type": "bar",
         "x": [
          2,
          3,
          114,
          2,
          1,
          2,
          2,
          24
         ],
         "xaxis": "x",
         "y": [
          "<i>Dalbergia</i>",
          "<i>Lawsonia</i>",
          "<i>Maclura</i>",
          "<i>Marila</i>",
          "<i>Piper</i>",
          "<i>Senna</i>",
          "<i>Smilax</i>",
          "<i>Tovomita</i>"
         ],
         "yaxis": "y"
        },
        {
         "alignmentgroup": "True",
         "hovertemplate": "chemical_superclass=Terpenoids-Apocarotenoids<br>Recurrence=%{x}<br>y=%{y}<extra></extra>",
         "legendgroup": "Terpenoids-Apocarotenoids",
         "marker": {
          "color": "#c2dac4",
          "pattern": {
           "shape": ""
          }
         },
         "name": "Terpenoids-Apocarotenoids",
         "offsetgroup": "Terpenoids-Apocarotenoids",
         "orientation": "h",
         "showlegend": true,
         "textposition": "auto",
         "type": "bar",
         "x": [
          1,
          2,
          2,
          43,
          6,
          2,
          16,
          3,
          1,
          1,
          12,
          2,
          1,
          1,
          22,
          3,
          4,
          2,
          2,
          1,
          1,
          2,
          9,
          9,
          2,
          5,
          12,
          1,
          2,
          1,
          2,
          3,
          2,
          2,
          35,
          1
         ],
         "xaxis": "x",
         "y": [
          "<i>Agrostis</i>",
          "<i>Albizia</i>",
          "<i>Aristolochia</i>",
          "<i>Bixa</i>",
          "<i>Catharanthus</i>",
          "<i>Cecropia</i>",
          "<i>Cestrum</i>",
          "<i>Cinnamomum</i>",
          "<i>Cissus</i>",
          "<i>Crinum</i>",
          "<i>Croton</i>",
          "<i>Dalbergia</i>",
          "<i>Eryngium</i>",
          "<i>Erythroxylum</i>",
          "<i>Euphorbia</i>",
          "<i>Ficus</i>",
          "<i>Ipomoea</i>",
          "<i>Lawsonia</i>",
          "<i>Mikania</i>",
          "<i>Morinda</i>",
          "<i>Onoseris</i>",
          "<i>Palicourea</i>",
          "<i>Peperomia</i>",
          "<i>Persea</i>",
          "<i>Persicaria</i>",
          "<i>Phyllanthus</i>",
          "<i>Piper</i>",
          "<i>Plumeria</i>",
          "<i>Prosopis</i>",
          "<i>Psychotria</i>",
          "<i>Quercus</i>",
          "<i>Ruellia</i>",
          "<i>Saccharum</i>",
          "<i>Senna</i>",
          "<i>Solanum</i>",
          "<i>Syzygium</i>"
         ],
         "yaxis": "y"
        },
        {
         "alignmentgroup": "True",
         "hovertemplate": "chemical_superclass=Terpenoids-Carotenoids (C40)<br>Recurrence=%{x}<br>y=%{y}<extra></extra>",
         "legendgroup": "Terpenoids-Carotenoids (C40)",
         "marker": {
          "color": "#6f8f72",
          "pattern": {
           "shape": ""
          }
         },
         "name": "Terpenoids-Carotenoids (C40)",
         "offsetgroup": "Terpenoids-Carotenoids (C40)",
         "orientation": "h",
         "showlegend": true,
         "textposition": "auto",
         "type": "bar",
         "x": [
          7,
          1,
          1,
          4,
          4,
          1,
          1,
          18,
          2,
          1,
          3,
          2,
          2,
          1,
          4,
          1,
          1,
          56,
          2,
          1
         ],
         "xaxis": "x",
         "y": [
          "<i>Acacia</i>",
          "<i>Ageratum</i>",
          "<i>Begonia</i>",
          "<i>Bixa</i>",
          "<i>Catharanthus</i>",
          "<i>Croton</i>",
          "<i>Euphorbia</i>",
          "<i>Ipomoea</i>",
          "<i>Lupinus</i>",
          "<i>Mimosa</i>",
          "<i>Nasturtium</i>",
          "<i>Persea</i>",
          "<i>Piper</i>",
          "<i>Psychotria</i>",
          "<i>Ranunculus</i>",
          "<i>Renealmia</i>",
          "<i>Sansevieria</i>",
          "<i>Solanum</i>",
          "<i>Ternstroemia</i>",
          "<i>Xylopia</i>"
         ],
         "yaxis": "y"
        },
        {
         "alignmentgroup": "True",
         "hovertemplate": "chemical_superclass=Terpenoids-Diterpenoids<br>Recurrence=%{x}<br>y=%{y}<extra></extra>",
         "legendgroup": "Terpenoids-Diterpenoids",
         "marker": {
          "color": "#98b49b",
          "pattern": {
           "shape": ""
          }
         },
         "name": "Terpenoids-Diterpenoids",
         "offsetgroup": "Terpenoids-Diterpenoids",
         "orientation": "h",
         "showlegend": true,
         "textposition": "auto",
         "type": "bar",
         "x": [
          6,
          2,
          28,
          11,
          1,
          3,
          59,
          2,
          113,
          45,
          4,
          6,
          1,
          2,
          2,
          2,
          17,
          9,
          437,
          3,
          7,
          6,
          4,
          2,
          25,
          1067,
          184,
          1,
          31,
          1,
          68,
          1,
          102,
          1,
          14,
          11,
          1,
          3,
          4,
          106,
          7,
          1,
          5,
          4,
          5,
          2,
          18,
          12,
          14,
          16,
          1,
          12,
          6,
          1,
          4,
          2,
          28,
          1,
          2,
          5,
          6,
          2,
          52
         ],
         "xaxis": "x",
         "y": [
          "<i>Acacia</i>",
          "<i>Acalypha</i>",
          "<i>Ageratina</i>",
          "<i>Ageratum</i>",
          "<i>Albizia</i>",
          "<i>Alibertia</i>",
          "<i>Aristolochia</i>",
          "<i>Avicennia</i>",
          "<i>Caesalpinia</i>",
          "<i>Calceolaria</i>",
          "<i>Calea</i>",
          "<i>Canavalia</i>",
          "<i>Cassia</i>",
          "<i>Catharanthus</i>",
          "<i>Cecropia</i>",
          "<i>Cestrum</i>",
          "<i>Cinnamomum</i>",
          "<i>Cnidoscolus</i>",
          "<i>Croton</i>",
          "<i>Cymbopogon</i>",
          "<i>Cyperus</i>",
          "<i>Dalbergia</i>",
          "<i>Desmodium</i>",
          "<i>Entada</i>",
          "<i>Erythroxylum</i>",
          "<i>Euphorbia</i>",
          "<i>Guilandina</i>",
          "<i>Gunnera</i>",
          "<i>Hymenaea</i>",
          "<i>Indigofera</i>",
          "<i>Ipomoea</i>",
          "<i>Jamesonia</i>",
          "<i>Jatropha</i>",
          "<i>Lantana</i>",
          "<i>Lepechinia</i>",
          "<i>Lupinus</i>",
          "<i>Mabea</i>",
          "<i>Maytenus</i>",
          "<i>Mesosphaerum</i>",
          "<i>Mikania</i>",
          "<i>Mimosa</i>",
          "<i>Morinda</i>",
          "<i>Onoseris</i>",
          "<i>Peperomia</i>",
          "<i>Persea</i>",
          "<i>Persicaria</i>",
          "<i>Phyllanthus</i>",
          "<i>Piofontia</i>",
          "<i>Piper</i>",
          "<i>Pseudognaphalium</i>",
          "<i>Rauvolfia</i>",
          "<i>Renealmia</i>",
          "<i>Rhizophora</i>",
          "<i>Ruellia</i>",
          "<i>Sapium</i>",
          "<i>Senna</i>",
          "<i>Solanum</i>",
          "<i>Spermacoce</i>",
          "<i>Strychnos</i>",
          "<i>Syzygium</i>",
          "<i>Trichilia</i>",
          "<i>Verbesina</i>",
          "<i>Xylopia</i>"
         ],
         "yaxis": "y"
        },
        {
         "alignmentgroup": "True",
         "hovertemplate": "chemical_superclass=Terpenoids-Meroterpenoids<br>Recurrence=%{x}<br>y=%{y}<extra></extra>",
         "legendgroup": "Terpenoids-Meroterpenoids",
         "marker": {
          "color": "#b4ceb6",
          "pattern": {
           "shape": ""
          }
         },
         "name": "Terpenoids-Meroterpenoids",
         "offsetgroup": "Terpenoids-Meroterpenoids",
         "orientation": "h",
         "showlegend": true,
         "textposition": "auto",
         "type": "bar",
         "x": [
          19,
          9,
          2,
          2,
          2,
          20,
          1,
          2,
          5,
          2,
          4,
          1,
          7,
          2,
          1,
          8,
          1,
          8,
          1,
          47,
          2,
          6,
          8,
          2,
          6,
          2,
          1,
          1
         ],
         "xaxis": "x",
         "y": [
          "<i>Ageratina</i>",
          "<i>Ageratum</i>",
          "<i>Ardisia</i>",
          "<i>Aristolochia</i>",
          "<i>Bixa</i>",
          "<i>Calea</i>",
          "<i>Cinnamomum</i>",
          "<i>Croton</i>",
          "<i>Cupania</i>",
          "<i>Cyperus</i>",
          "<i>Ehretia</i>",
          "<i>Erythrina</i>",
          "<i>Ficus</i>",
          "<i>Gunnera</i>",
          "<i>Maclura</i>",
          "<i>Maytenus</i>",
          "<i>Mikania</i>",
          "<i>Peperomia</i>",
          "<i>Persicaria</i>",
          "<i>Piper</i>",
          "<i>Quercus</i>",
          "<i>Rhizophora</i>",
          "<i>Roldana</i>",
          "<i>Smilax</i>",
          "<i>Solanum</i>",
          "<i>Talipariti</i>",
          "<i>Trichilia</i>",
          "<i>Verbesina</i>"
         ],
         "yaxis": "y"
        },
        {
         "alignmentgroup": "True",
         "hovertemplate": "chemical_superclass=Terpenoids-Monoterpenoids<br>Recurrence=%{x}<br>y=%{y}<extra></extra>",
         "legendgroup": "Terpenoids-Monoterpenoids",
         "marker": {
          "color": "#7d9b80",
          "pattern": {
           "shape": ""
          }
         },
         "name": "Terpenoids-Monoterpenoids",
         "offsetgroup": "Terpenoids-Monoterpenoids",
         "orientation": "h",
         "showlegend": true,
         "textposition": "auto",
         "type": "bar",
         "x": [
          1,
          6,
          35,
          2,
          1,
          13,
          32,
          19,
          5,
          1,
          18,
          18,
          37,
          15,
          1,
          92,
          24,
          61,
          1,
          81,
          53,
          1,
          1,
          12,
          25,
          9,
          11,
          26,
          9,
          22,
          14,
          6,
          1,
          50,
          1,
          37,
          12,
          92,
          1,
          33,
          32,
          73,
          3,
          7,
          1,
          2,
          5,
          26,
          24,
          105,
          51,
          2,
          2,
          6,
          18,
          6,
          24,
          3,
          3,
          2,
          8,
          1,
          1,
          82,
          7,
          13,
          60,
          38,
          9,
          19,
          73
         ],
         "xaxis": "x",
         "y": [
          "<i>Acacia</i>",
          "<i>Ageratina</i>",
          "<i>Ageratum</i>",
          "<i>Albizia</i>",
          "<i>Alchornea</i>",
          "<i>Alibertia</i>",
          "<i>Aristolochia</i>",
          "<i>Avicennia</i>",
          "<i>Bixa</i>",
          "<i>Caesalpinia</i>",
          "<i>Calea</i>",
          "<i>Calycophyllum</i>",
          "<i>Castilleja</i>",
          "<i>Catharanthus</i>",
          "<i>Cecropia</i>",
          "<i>Cinnamomum</i>",
          "<i>Crescentia</i>",
          "<i>Croton</i>",
          "<i>Cryptostegia</i>",
          "<i>Cymbopogon</i>",
          "<i>Cyperus</i>",
          "<i>Dahlia</i>",
          "<i>Dalbergia</i>",
          "<i>Eryngium</i>",
          "<i>Eugenia</i>",
          "<i>Euphorbia</i>",
          "<i>Ficus</i>",
          "<i>Genipa</i>",
          "<i>Guettarda</i>",
          "<i>Handroanthus</i>",
          "<i>Hedyosmum</i>",
          "<i>Inga</i>",
          "<i>Ipomoea</i>",
          "<i>Lantana</i>",
          "<i>Lawsonia</i>",
          "<i>Lepechinia</i>",
          "<i>Licaria</i>",
          "<i>Lippia</i>",
          "<i>Maytenus</i>",
          "<i>Mesosphaerum</i>",
          "<i>Mikania</i>",
          "<i>Morinda</i>",
          "<i>Myrciaria</i>",
          "<i>Ocotea</i>",
          "<i>Palicourea</i>",
          "<i>Paullinia</i>",
          "<i>Peperomia</i>",
          "<i>Persea</i>",
          "<i>Persicaria</i>",
          "<i>Piper</i>",
          "<i>Plumeria</i>",
          "<i>Posoqueria</i>",
          "<i>Prosopis</i>",
          "<i>Psychotria</i>",
          "<i>Quercus</i>",
          "<i>Rauvolfia</i>",
          "<i>Renealmia</i>",
          "<i>Rhizophora</i>",
          "<i>Roldana</i>",
          "<i>Ruellia</i>",
          "<i>Senna</i>",
          "<i>Siparuna</i>",
          "<i>Smilax</i>",
          "<i>Solanum</i>",
          "<i>Spermacoce</i>",
          "<i>Spondias</i>",
          "<i>Strychnos</i>",
          "<i>Syzygium</i>",
          "<i>Verbesina</i>",
          "<i>Virola</i>",
          "<i>Xylopia</i>"
         ],
         "yaxis": "y"
        },
        {
         "alignmentgroup": "True",
         "hovertemplate": "chemical_superclass=Terpenoids-Polyprenols<br>Recurrence=%{x}<br>y=%{y}<extra></extra>",
         "legendgroup": "Terpenoids-Polyprenols",
         "marker": {
          "color": "#d0e7d2",
          "pattern": {
           "shape": ""
          }
         },
         "name": "Terpenoids-Polyprenols",
         "offsetgroup": "Terpenoids-Polyprenols",
         "orientation": "h",
         "showlegend": true,
         "textposition": "auto",
         "type": "bar",
         "x": [
          4,
          2,
          1,
          1,
          2
         ],
         "xaxis": "x",
         "y": [
          "<i>Cinnamomum</i>",
          "<i>Cupania</i>",
          "<i>Quercus</i>",
          "<i>Solanum</i>",
          "<i>Turnera</i>"
         ],
         "yaxis": "y"
        },
        {
         "alignmentgroup": "True",
         "hovertemplate": "chemical_superclass=Terpenoids-Sesquiterpenoids<br>Recurrence=%{x}<br>y=%{y}<extra></extra>",
         "legendgroup": "Terpenoids-Sesquiterpenoids",
         "marker": {
          "color": "#a6c1a9",
          "pattern": {
           "shape": ""
          }
         },
         "name": "Terpenoids-Sesquiterpenoids",
         "offsetgroup": "Terpenoids-Sesquiterpenoids",
         "orientation": "h",
         "showlegend": true,
         "textposition": "auto",
         "type": "bar",
         "x": [
          3,
          1,
          4,
          110,
          46,
          1,
          2,
          1,
          156,
          10,
          279,
          3,
          3,
          2,
          102,
          9,
          115,
          73,
          178,
          5,
          9,
          1,
          2,
          46,
          38,
          10,
          35,
          2,
          3,
          2,
          17,
          59,
          50,
          8,
          46,
          2,
          1,
          72,
          33,
          220,
          11,
          31,
          12,
          2,
          12,
          40,
          77,
          19,
          1,
          2,
          189,
          14,
          3,
          5,
          1,
          1,
          16,
          40,
          1,
          1,
          12,
          112,
          19,
          27,
          11,
          14,
          4,
          15,
          3,
          78,
          20,
          60
         ],
         "xaxis": "x",
         "y": [
          "<i>Acacia</i>",
          "<i>Acalypha</i>",
          "<i>Acrostichum</i>",
          "<i>Ageratina</i>",
          "<i>Ageratum</i>",
          "<i>Alchornea</i>",
          "<i>Alibertia</i>",
          "<i>Ardisia</i>",
          "<i>Aristolochia</i>",
          "<i>Caesalpinia</i>",
          "<i>Calea</i>",
          "<i>Catharanthus</i>",
          "<i>Cecropia</i>",
          "<i>Cestrum</i>",
          "<i>Cinnamomum</i>",
          "<i>Costus</i>",
          "<i>Croton</i>",
          "<i>Cymbopogon</i>",
          "<i>Cyperus</i>",
          "<i>Dalbergia</i>",
          "<i>Eryngium</i>",
          "<i>Erythrina</i>",
          "<i>Erythroxylum</i>",
          "<i>Eugenia</i>",
          "<i>Euphorbia</i>",
          "<i>Ficus</i>",
          "<i>Hedyosmum</i>",
          "<i>Indigofera</i>",
          "<i>Ipomoea</i>",
          "<i>Jamesonia</i>",
          "<i>Jatropha</i>",
          "<i>Lantana</i>",
          "<i>Lepechinia</i>",
          "<i>Licaria</i>",
          "<i>Lippia</i>",
          "<i>Lycianthes</i>",
          "<i>Maclura</i>",
          "<i>Maytenus</i>",
          "<i>Mesosphaerum</i>",
          "<i>Mikania</i>",
          "<i>Monticalia</i>",
          "<i>Ocotea</i>",
          "<i>Onoseris</i>",
          "<i>Paullinia</i>",
          "<i>Peperomia</i>",
          "<i>Persea</i>",
          "<i>Persicaria</i>",
          "<i>Phyllanthus</i>",
          "<i>Phytolacca</i>",
          "<i>Piofontia</i>",
          "<i>Piper</i>",
          "<i>Piptocarpha</i>",
          "<i>Plumeria</i>",
          "<i>Pseudognaphalium</i>",
          "<i>Psychotria</i>",
          "<i>Quercus</i>",
          "<i>Renealmia</i>",
          "<i>Roldana</i>",
          "<i>Ruellia</i>",
          "<i>Sapium</i>",
          "<i>Siparuna</i>",
          "<i>Solanum</i>",
          "<i>Spondias</i>",
          "<i>Syzygium</i>",
          "<i>Talipariti</i>",
          "<i>Telanthophora</i>",
          "<i>Trattinnickia</i>",
          "<i>Trichilia</i>",
          "<i>Turnera</i>",
          "<i>Verbesina</i>",
          "<i>Virola</i>",
          "<i>Xylopia</i>"
         ],
         "yaxis": "y"
        },
        {
         "alignmentgroup": "True",
         "hovertemplate": "chemical_superclass=Terpenoids-Steroids<br>Recurrence=%{x}<br>y=%{y}<extra></extra>",
         "legendgroup": "Terpenoids-Steroids",
         "marker": {
          "color": "#8ba88d",
          "pattern": {
           "shape": ""
          }
         },
         "name": "Terpenoids-Steroids",
         "offsetgroup": "Terpenoids-Steroids",
         "orientation": "h",
         "showlegend": true,
         "textposition": "auto",
         "type": "bar",
         "x": [
          3,
          2,
          7,
          5,
          4,
          2,
          2,
          9,
          16,
          6,
          9,
          4,
          6,
          4,
          8,
          7,
          25,
          2,
          3,
          7,
          38,
          4,
          13,
          5,
          2,
          26,
          1,
          3,
          26,
          22,
          1,
          6,
          4,
          14,
          2,
          2,
          3,
          8,
          12,
          1,
          1,
          2,
          57,
          1,
          30,
          1,
          1,
          1,
          7,
          6,
          1,
          2,
          3,
          1,
          2,
          11,
          4,
          8,
          4,
          2,
          3,
          1,
          4,
          4,
          7,
          5,
          5,
          18,
          1,
          3,
          2,
          1,
          12,
          4,
          10,
          2,
          1,
          2,
          9,
          2,
          10,
          11,
          4,
          7,
          31,
          6,
          6,
          7,
          3,
          2,
          1,
          11,
          4,
          5,
          6,
          1,
          2,
          5,
          48,
          5,
          1,
          25,
          2,
          88,
          385,
          18,
          12,
          4,
          4,
          30,
          1,
          3,
          3,
          6,
          3,
          7
         ],
         "xaxis": "x",
         "y": [
          "<i>Acacia</i>",
          "<i>Acalypha</i>",
          "<i>Ageratina</i>",
          "<i>Ageratum</i>",
          "<i>Albizia</i>",
          "<i>Alchornea</i>",
          "<i>Alibertia</i>",
          "<i>Ardisia</i>",
          "<i>Aristolochia</i>",
          "<i>Avicennia</i>",
          "<i>Begonia</i>",
          "<i>Brosimum</i>",
          "<i>Caesalpinia</i>",
          "<i>Calea</i>",
          "<i>Canavalia</i>",
          "<i>Cassia</i>",
          "<i>Catharanthus</i>",
          "<i>Cecropia</i>",
          "<i>Celtis</i>",
          "<i>Centrosema</i>",
          "<i>Cestrum</i>",
          "<i>Chrysophyllum</i>",
          "<i>Cinnamomum</i>",
          "<i>Cissus</i>",
          "<i>Cnidoscolus</i>",
          "<i>Costus</i>",
          "<i>Crescentia</i>",
          "<i>Crinum</i>",
          "<i>Croton</i>",
          "<i>Cryptostegia</i>",
          "<i>Cupania</i>",
          "<i>Cymbopogon</i>",
          "<i>Cyperus</i>",
          "<i>Dalbergia</i>",
          "<i>Desmodium</i>",
          "<i>Dialium</i>",
          "<i>Eichhornia</i>",
          "<i>Eryngium</i>",
          "<i>Erythrina</i>",
          "<i>Erythrochiton</i>",
          "<i>Erythroxylum</i>",
          "<i>Eugenia</i>",
          "<i>Euphorbia</i>",
          "<i>Faramea</i>",
          "<i>Ficus</i>",
          "<i>Gliricidia</i>",
          "<i>Guapira</i>",
          "<i>Guettarda</i>",
          "<i>Guilandina</i>",
          "<i>Handroanthus</i>",
          "<i>Hedyosmum</i>",
          "<i>Heisteria</i>",
          "<i>Herrania</i>",
          "<i>Hymenaea</i>",
          "<i>Indigofera</i>",
          "<i>Ipomoea</i>",
          "<i>Jatropha</i>",
          "<i>Lantana</i>",
          "<i>Lawsonia</i>",
          "<i>Lepechinia</i>",
          "<i>Licaria</i>",
          "<i>Lippia</i>",
          "<i>Lonchocarpus</i>",
          "<i>Lophanthera</i>",
          "<i>Lupinus</i>",
          "<i>Lycianthes</i>",
          "<i>Maclura</i>",
          "<i>Maianthemum</i>",
          "<i>Malvaviscus</i>",
          "<i>Maytenus</i>",
          "<i>Mesosphaerum</i>",
          "<i>Miconia</i>",
          "<i>Mikania</i>",
          "<i>Mimosa</i>",
          "<i>Morinda</i>",
          "<i>Ocotea</i>",
          "<i>Onoseris</i>",
          "<i>Paullinia</i>",
          "<i>Peperomia</i>",
          "<i>Persea</i>",
          "<i>Persicaria</i>",
          "<i>Phyllanthus</i>",
          "<i>Phytolacca</i>",
          "<i>Picramnia</i>",
          "<i>Piper</i>",
          "<i>Piptocarpha</i>",
          "<i>Plumeria</i>",
          "<i>Prosopis</i>",
          "<i>Pseudognaphalium</i>",
          "<i>Psychotria</i>",
          "<i>Quassia</i>",
          "<i>Quercus</i>",
          "<i>Ranunculus</i>",
          "<i>Rauvolfia</i>",
          "<i>Rhizophora</i>",
          "<i>Rhynchospora</i>",
          "<i>Roldana</i>",
          "<i>Ruellia</i>",
          "<i>Sansevieria</i>",
          "<i>Sapium</i>",
          "<i>Sapranthus</i>",
          "<i>Senna</i>",
          "<i>Siparuna</i>",
          "<i>Smilax</i>",
          "<i>Solanum</i>",
          "<i>Strychnos</i>",
          "<i>Syzygium</i>",
          "<i>Ternstroemia</i>",
          "<i>Tovomita</i>",
          "<i>Trichilia</i>",
          "<i>Urera</i>",
          "<i>Urochloa</i>",
          "<i>Verbesina</i>",
          "<i>Virola</i>",
          "<i>Vochysia</i>",
          "<i>Xylopia</i>"
         ],
         "yaxis": "y"
        },
        {
         "alignmentgroup": "True",
         "hovertemplate": "chemical_superclass=Terpenoids-Triterpenoids<br>Recurrence=%{x}<br>y=%{y}<extra></extra>",
         "legendgroup": "Terpenoids-Triterpenoids",
         "marker": {
          "color": "#618264",
          "pattern": {
           "shape": ""
          }
         },
         "name": "Terpenoids-Triterpenoids",
         "offsetgroup": "Terpenoids-Triterpenoids",
         "orientation": "h",
         "showlegend": true,
         "textposition": "auto",
         "type": "bar",
         "x": [
          43,
          4,
          16,
          9,
          112,
          5,
          10,
          27,
          118,
          3,
          7,
          20,
          1,
          7,
          3,
          7,
          6,
          5,
          4,
          8,
          12,
          19,
          4,
          12,
          6,
          15,
          1,
          30,
          15,
          4,
          43,
          1,
          7,
          3,
          15,
          8,
          7,
          3,
          7,
          3,
          19,
          4,
          25,
          26,
          6,
          8,
          396,
          75,
          3,
          8,
          4,
          31,
          5,
          4,
          1,
          1,
          2,
          2,
          2,
          10,
          12,
          84,
          11,
          10,
          21,
          7,
          6,
          4,
          22,
          6,
          16,
          5,
          1,
          59,
          18,
          16,
          13,
          19,
          6,
          1,
          12,
          2,
          11,
          32,
          1,
          2,
          2,
          10,
          21,
          65,
          166,
          8,
          5,
          3,
          13,
          45,
          4,
          2,
          4,
          28,
          71,
          7,
          3,
          14,
          3,
          6,
          3,
          3,
          15,
          16,
          4,
          42,
          2,
          5,
          27,
          44,
          11,
          25,
          6,
          19,
          102,
          6,
          19,
          1,
          16
         ],
         "xaxis": "x",
         "y": [
          "<i>Acacia</i>",
          "<i>Acalypha</i>",
          "<i>Ageratina</i>",
          "<i>Ageratum</i>",
          "<i>Albizia</i>",
          "<i>Alchemilla</i>",
          "<i>Alchornea</i>",
          "<i>Alibertia</i>",
          "<i>Ardisia</i>",
          "<i>Aristolochia</i>",
          "<i>Avicennia</i>",
          "<i>Begonia</i>",
          "<i>Brosimum</i>",
          "<i>Caesalpinia</i>",
          "<i>Calceolaria</i>",
          "<i>Calea</i>",
          "<i>Canavalia</i>",
          "<i>Cassia</i>",
          "<i>Catharanthus</i>",
          "<i>Cecropia</i>",
          "<i>Celtis</i>",
          "<i>Chrysophyllum</i>",
          "<i>Cinnamomum</i>",
          "<i>Cissus</i>",
          "<i>Clethra</i>",
          "<i>Cnidoscolus</i>",
          "<i>Cojoba</i>",
          "<i>Colubrina</i>",
          "<i>Costus</i>",
          "<i>Crinum</i>",
          "<i>Croton</i>",
          "<i>Cryptostegia</i>",
          "<i>Cupania</i>",
          "<i>Cyperus</i>",
          "<i>Dalbergia</i>",
          "<i>Desmodium</i>",
          "<i>Dialium</i>",
          "<i>Doliocarpus</i>",
          "<i>Drymonia</i>",
          "<i>Ehretia</i>",
          "<i>Entada</i>",
          "<i>Enterolobium</i>",
          "<i>Eryngium</i>",
          "<i>Erythrina</i>",
          "<i>Erythroxylum</i>",
          "<i>Eugenia</i>",
          "<i>Euphorbia</i>",
          "<i>Ficus</i>",
          "<i>Genipa</i>",
          "<i>Gliricidia</i>",
          "<i>Guapira</i>",
          "<i>Guettarda</i>",
          "<i>Guilandina</i>",
          "<i>Gurania</i>",
          "<i>Handroanthus</i>",
          "<i>Heisteria</i>",
          "<i>Herrania</i>",
          "<i>Homalium</i>",
          "<i>Inga</i>",
          "<i>Ipomoea</i>",
          "<i>Jatropha</i>",
          "<i>Lantana</i>",
          "<i>Lawsonia</i>",
          "<i>Lepechinia</i>",
          "<i>Lippia</i>",
          "<i>Lomariocycas</i>",
          "<i>Lonchocarpus</i>",
          "<i>Lophanthera</i>",
          "<i>Lupinus</i>",
          "<i>Machaerium</i>",
          "<i>Maclura</i>",
          "<i>Maianthemum</i>",
          "<i>Marila</i>",
          "<i>Maytenus</i>",
          "<i>Meliosma</i>",
          "<i>Mesosphaerum</i>",
          "<i>Miconia</i>",
          "<i>Mikania</i>",
          "<i>Mimosa</i>",
          "<i>Monticalia</i>",
          "<i>Morinda</i>",
          "<i>Ocotea</i>",
          "<i>Onoseris</i>",
          "<i>Oreopanax</i>",
          "<i>Palicourea</i>",
          "<i>Paullinia</i>",
          "<i>Peperomia</i>",
          "<i>Persicaria</i>",
          "<i>Phlegmariurus</i>",
          "<i>Phyllanthus</i>",
          "<i>Phytolacca</i>",
          "<i>Picramnia</i>",
          "<i>Piper</i>",
          "<i>Piptocarpha</i>",
          "<i>Pithecellobium</i>",
          "<i>Plumeria</i>",
          "<i>Prosopis</i>",
          "<i>Pseudognaphalium</i>",
          "<i>Psychotria</i>",
          "<i>Quassia</i>",
          "<i>Quercus</i>",
          "<i>Ranunculus</i>",
          "<i>Rauvolfia</i>",
          "<i>Rhizophora</i>",
          "<i>Roldana</i>",
          "<i>Ruellia</i>",
          "<i>Saccharum</i>",
          "<i>Sansevieria</i>",
          "<i>Sapium</i>",
          "<i>Senna</i>",
          "<i>Sloanea</i>",
          "<i>Solanum</i>",
          "<i>Sorocea</i>",
          "<i>Spermacoce</i>",
          "<i>Strychnos</i>",
          "<i>Syzygium</i>",
          "<i>Talipariti</i>",
          "<i>Ternstroemia</i>",
          "<i>Tovomita</i>",
          "<i>Trattinnickia</i>",
          "<i>Trichilia</i>",
          "<i>Turnera</i>",
          "<i>Verbesina</i>",
          "<i>Virola</i>",
          "<i>Vochysia</i>"
         ],
         "yaxis": "y"
        }
       ],
       "layout": {
        "barmode": "relative",
        "height": 1600,
        "legend": {
         "title": {
          "text": "chemical_superclass"
         },
         "tracegroupgap": 0
        },
        "plot_bgcolor": "white",
        "template": {
         "data": {
          "bar": [
           {
            "error_x": {
             "color": "#2a3f5f"
            },
            "error_y": {
             "color": "#2a3f5f"
            },
            "marker": {
             "line": {
              "color": "#E5ECF6",
              "width": 0.5
             },
             "pattern": {
              "fillmode": "overlay",
              "size": 10,
              "solidity": 0.2
             }
            },
            "type": "bar"
           }
          ],
          "barpolar": [
           {
            "marker": {
             "line": {
              "color": "#E5ECF6",
              "width": 0.5
             },
             "pattern": {
              "fillmode": "overlay",
              "size": 10,
              "solidity": 0.2
             }
            },
            "type": "barpolar"
           }
          ],
          "carpet": [
           {
            "aaxis": {
             "endlinecolor": "#2a3f5f",
             "gridcolor": "white",
             "linecolor": "white",
             "minorgridcolor": "white",
             "startlinecolor": "#2a3f5f"
            },
            "baxis": {
             "endlinecolor": "#2a3f5f",
             "gridcolor": "white",
             "linecolor": "white",
             "minorgridcolor": "white",
             "startlinecolor": "#2a3f5f"
            },
            "type": "carpet"
           }
          ],
          "choropleth": [
           {
            "colorbar": {
             "outlinewidth": 0,
             "ticks": ""
            },
            "type": "choropleth"
           }
          ],
          "contour": [
           {
            "colorbar": {
             "outlinewidth": 0,
             "ticks": ""
            },
            "colorscale": [
             [
              0,
              "#0d0887"
             ],
             [
              0.1111111111111111,
              "#46039f"
             ],
             [
              0.2222222222222222,
              "#7201a8"
             ],
             [
              0.3333333333333333,
              "#9c179e"
             ],
             [
              0.4444444444444444,
              "#bd3786"
             ],
             [
              0.5555555555555556,
              "#d8576b"
             ],
             [
              0.6666666666666666,
              "#ed7953"
             ],
             [
              0.7777777777777778,
              "#fb9f3a"
             ],
             [
              0.8888888888888888,
              "#fdca26"
             ],
             [
              1,
              "#f0f921"
             ]
            ],
            "type": "contour"
           }
          ],
          "contourcarpet": [
           {
            "colorbar": {
             "outlinewidth": 0,
             "ticks": ""
            },
            "type": "contourcarpet"
           }
          ],
          "heatmap": [
           {
            "colorbar": {
             "outlinewidth": 0,
             "ticks": ""
            },
            "colorscale": [
             [
              0,
              "#0d0887"
             ],
             [
              0.1111111111111111,
              "#46039f"
             ],
             [
              0.2222222222222222,
              "#7201a8"
             ],
             [
              0.3333333333333333,
              "#9c179e"
             ],
             [
              0.4444444444444444,
              "#bd3786"
             ],
             [
              0.5555555555555556,
              "#d8576b"
             ],
             [
              0.6666666666666666,
              "#ed7953"
             ],
             [
              0.7777777777777778,
              "#fb9f3a"
             ],
             [
              0.8888888888888888,
              "#fdca26"
             ],
             [
              1,
              "#f0f921"
             ]
            ],
            "type": "heatmap"
           }
          ],
          "heatmapgl": [
           {
            "colorbar": {
             "outlinewidth": 0,
             "ticks": ""
            },
            "colorscale": [
             [
              0,
              "#0d0887"
             ],
             [
              0.1111111111111111,
              "#46039f"
             ],
             [
              0.2222222222222222,
              "#7201a8"
             ],
             [
              0.3333333333333333,
              "#9c179e"
             ],
             [
              0.4444444444444444,
              "#bd3786"
             ],
             [
              0.5555555555555556,
              "#d8576b"
             ],
             [
              0.6666666666666666,
              "#ed7953"
             ],
             [
              0.7777777777777778,
              "#fb9f3a"
             ],
             [
              0.8888888888888888,
              "#fdca26"
             ],
             [
              1,
              "#f0f921"
             ]
            ],
            "type": "heatmapgl"
           }
          ],
          "histogram": [
           {
            "marker": {
             "pattern": {
              "fillmode": "overlay",
              "size": 10,
              "solidity": 0.2
             }
            },
            "type": "histogram"
           }
          ],
          "histogram2d": [
           {
            "colorbar": {
             "outlinewidth": 0,
             "ticks": ""
            },
            "colorscale": [
             [
              0,
              "#0d0887"
             ],
             [
              0.1111111111111111,
              "#46039f"
             ],
             [
              0.2222222222222222,
              "#7201a8"
             ],
             [
              0.3333333333333333,
              "#9c179e"
             ],
             [
              0.4444444444444444,
              "#bd3786"
             ],
             [
              0.5555555555555556,
              "#d8576b"
             ],
             [
              0.6666666666666666,
              "#ed7953"
             ],
             [
              0.7777777777777778,
              "#fb9f3a"
             ],
             [
              0.8888888888888888,
              "#fdca26"
             ],
             [
              1,
              "#f0f921"
             ]
            ],
            "type": "histogram2d"
           }
          ],
          "histogram2dcontour": [
           {
            "colorbar": {
             "outlinewidth": 0,
             "ticks": ""
            },
            "colorscale": [
             [
              0,
              "#0d0887"
             ],
             [
              0.1111111111111111,
              "#46039f"
             ],
             [
              0.2222222222222222,
              "#7201a8"
             ],
             [
              0.3333333333333333,
              "#9c179e"
             ],
             [
              0.4444444444444444,
              "#bd3786"
             ],
             [
              0.5555555555555556,
              "#d8576b"
             ],
             [
              0.6666666666666666,
              "#ed7953"
             ],
             [
              0.7777777777777778,
              "#fb9f3a"
             ],
             [
              0.8888888888888888,
              "#fdca26"
             ],
             [
              1,
              "#f0f921"
             ]
            ],
            "type": "histogram2dcontour"
           }
          ],
          "mesh3d": [
           {
            "colorbar": {
             "outlinewidth": 0,
             "ticks": ""
            },
            "type": "mesh3d"
           }
          ],
          "parcoords": [
           {
            "line": {
             "colorbar": {
              "outlinewidth": 0,
              "ticks": ""
             }
            },
            "type": "parcoords"
           }
          ],
          "pie": [
           {
            "automargin": true,
            "type": "pie"
           }
          ],
          "scatter": [
           {
            "fillpattern": {
             "fillmode": "overlay",
             "size": 10,
             "solidity": 0.2
            },
            "type": "scatter"
           }
          ],
          "scatter3d": [
           {
            "line": {
             "colorbar": {
              "outlinewidth": 0,
              "ticks": ""
             }
            },
            "marker": {
             "colorbar": {
              "outlinewidth": 0,
              "ticks": ""
             }
            },
            "type": "scatter3d"
           }
          ],
          "scattercarpet": [
           {
            "marker": {
             "colorbar": {
              "outlinewidth": 0,
              "ticks": ""
             }
            },
            "type": "scattercarpet"
           }
          ],
          "scattergeo": [
           {
            "marker": {
             "colorbar": {
              "outlinewidth": 0,
              "ticks": ""
             }
            },
            "type": "scattergeo"
           }
          ],
          "scattergl": [
           {
            "marker": {
             "colorbar": {
              "outlinewidth": 0,
              "ticks": ""
             }
            },
            "type": "scattergl"
           }
          ],
          "scattermapbox": [
           {
            "marker": {
             "colorbar": {
              "outlinewidth": 0,
              "ticks": ""
             }
            },
            "type": "scattermapbox"
           }
          ],
          "scatterpolar": [
           {
            "marker": {
             "colorbar": {
              "outlinewidth": 0,
              "ticks": ""
             }
            },
            "type": "scatterpolar"
           }
          ],
          "scatterpolargl": [
           {
            "marker": {
             "colorbar": {
              "outlinewidth": 0,
              "ticks": ""
             }
            },
            "type": "scatterpolargl"
           }
          ],
          "scatterternary": [
           {
            "marker": {
             "colorbar": {
              "outlinewidth": 0,
              "ticks": ""
             }
            },
            "type": "scatterternary"
           }
          ],
          "surface": [
           {
            "colorbar": {
             "outlinewidth": 0,
             "ticks": ""
            },
            "colorscale": [
             [
              0,
              "#0d0887"
             ],
             [
              0.1111111111111111,
              "#46039f"
             ],
             [
              0.2222222222222222,
              "#7201a8"
             ],
             [
              0.3333333333333333,
              "#9c179e"
             ],
             [
              0.4444444444444444,
              "#bd3786"
             ],
             [
              0.5555555555555556,
              "#d8576b"
             ],
             [
              0.6666666666666666,
              "#ed7953"
             ],
             [
              0.7777777777777778,
              "#fb9f3a"
             ],
             [
              0.8888888888888888,
              "#fdca26"
             ],
             [
              1,
              "#f0f921"
             ]
            ],
            "type": "surface"
           }
          ],
          "table": [
           {
            "cells": {
             "fill": {
              "color": "#EBF0F8"
             },
             "line": {
              "color": "white"
             }
            },
            "header": {
             "fill": {
              "color": "#C8D4E3"
             },
             "line": {
              "color": "white"
             }
            },
            "type": "table"
           }
          ]
         },
         "layout": {
          "annotationdefaults": {
           "arrowcolor": "#2a3f5f",
           "arrowhead": 0,
           "arrowwidth": 1
          },
          "autotypenumbers": "strict",
          "coloraxis": {
           "colorbar": {
            "outlinewidth": 0,
            "ticks": ""
           }
          },
          "colorscale": {
           "diverging": [
            [
             0,
             "#8e0152"
            ],
            [
             0.1,
             "#c51b7d"
            ],
            [
             0.2,
             "#de77ae"
            ],
            [
             0.3,
             "#f1b6da"
            ],
            [
             0.4,
             "#fde0ef"
            ],
            [
             0.5,
             "#f7f7f7"
            ],
            [
             0.6,
             "#e6f5d0"
            ],
            [
             0.7,
             "#b8e186"
            ],
            [
             0.8,
             "#7fbc41"
            ],
            [
             0.9,
             "#4d9221"
            ],
            [
             1,
             "#276419"
            ]
           ],
           "sequential": [
            [
             0,
             "#0d0887"
            ],
            [
             0.1111111111111111,
             "#46039f"
            ],
            [
             0.2222222222222222,
             "#7201a8"
            ],
            [
             0.3333333333333333,
             "#9c179e"
            ],
            [
             0.4444444444444444,
             "#bd3786"
            ],
            [
             0.5555555555555556,
             "#d8576b"
            ],
            [
             0.6666666666666666,
             "#ed7953"
            ],
            [
             0.7777777777777778,
             "#fb9f3a"
            ],
            [
             0.8888888888888888,
             "#fdca26"
            ],
            [
             1,
             "#f0f921"
            ]
           ],
           "sequentialminus": [
            [
             0,
             "#0d0887"
            ],
            [
             0.1111111111111111,
             "#46039f"
            ],
            [
             0.2222222222222222,
             "#7201a8"
            ],
            [
             0.3333333333333333,
             "#9c179e"
            ],
            [
             0.4444444444444444,
             "#bd3786"
            ],
            [
             0.5555555555555556,
             "#d8576b"
            ],
            [
             0.6666666666666666,
             "#ed7953"
            ],
            [
             0.7777777777777778,
             "#fb9f3a"
            ],
            [
             0.8888888888888888,
             "#fdca26"
            ],
            [
             1,
             "#f0f921"
            ]
           ]
          },
          "colorway": [
           "#636efa",
           "#EF553B",
           "#00cc96",
           "#ab63fa",
           "#FFA15A",
           "#19d3f3",
           "#FF6692",
           "#B6E880",
           "#FF97FF",
           "#FECB52"
          ],
          "font": {
           "color": "#2a3f5f"
          },
          "geo": {
           "bgcolor": "white",
           "lakecolor": "white",
           "landcolor": "#E5ECF6",
           "showlakes": true,
           "showland": true,
           "subunitcolor": "white"
          },
          "hoverlabel": {
           "align": "left"
          },
          "hovermode": "closest",
          "mapbox": {
           "style": "light"
          },
          "paper_bgcolor": "white",
          "plot_bgcolor": "#E5ECF6",
          "polar": {
           "angularaxis": {
            "gridcolor": "white",
            "linecolor": "white",
            "ticks": ""
           },
           "bgcolor": "#E5ECF6",
           "radialaxis": {
            "gridcolor": "white",
            "linecolor": "white",
            "ticks": ""
           }
          },
          "scene": {
           "xaxis": {
            "backgroundcolor": "#E5ECF6",
            "gridcolor": "white",
            "gridwidth": 2,
            "linecolor": "white",
            "showbackground": true,
            "ticks": "",
            "zerolinecolor": "white"
           },
           "yaxis": {
            "backgroundcolor": "#E5ECF6",
            "gridcolor": "white",
            "gridwidth": 2,
            "linecolor": "white",
            "showbackground": true,
            "ticks": "",
            "zerolinecolor": "white"
           },
           "zaxis": {
            "backgroundcolor": "#E5ECF6",
            "gridcolor": "white",
            "gridwidth": 2,
            "linecolor": "white",
            "showbackground": true,
            "ticks": "",
            "zerolinecolor": "white"
           }
          },
          "shapedefaults": {
           "line": {
            "color": "#2a3f5f"
           }
          },
          "ternary": {
           "aaxis": {
            "gridcolor": "white",
            "linecolor": "white",
            "ticks": ""
           },
           "baxis": {
            "gridcolor": "white",
            "linecolor": "white",
            "ticks": ""
           },
           "bgcolor": "#E5ECF6",
           "caxis": {
            "gridcolor": "white",
            "linecolor": "white",
            "ticks": ""
           }
          },
          "title": {
           "x": 0.05
          },
          "xaxis": {
           "automargin": true,
           "gridcolor": "white",
           "linecolor": "white",
           "ticks": "",
           "title": {
            "standoff": 15
           },
           "zerolinecolor": "white",
           "zerolinewidth": 2
          },
          "yaxis": {
           "automargin": true,
           "gridcolor": "white",
           "linecolor": "white",
           "ticks": "",
           "title": {
            "standoff": 15
           },
           "zerolinecolor": "white",
           "zerolinewidth": 2
          }
         }
        },
        "title": {
         "text": "Stacked Barplot of Predicted Superclasses Ocurrence for Genus"
        },
        "width": 1500,
        "xaxis": {
         "anchor": "y",
         "domain": [
          0,
          1
         ],
         "title": {
          "text": "Recurrence"
         }
        },
        "yaxis": {
         "anchor": "x",
         "domain": [
          0,
          1
         ],
         "title": {
          "text": "<i>Genus<i>"
         }
        }
       }
      }
     },
     "metadata": {},
     "output_type": "display_data"
    }
   ],
   "source": [
    "# Define base colors for each Pathway\n",
    "\n",
    "pathway_colors = {\n",
    "    'Terpenoids': ('#618264', '#D0E7D2'),  # Green start and lighter green end\n",
    "    'Alkaloids': ('#305F72', '#5CBCE2'),   # Blue start and lighter blue end  \n",
    "    'Shikimates and Phenylpropanoids': ('#80558C', '#CBA0AE'),  # Purple start and lighter purple end\n",
    "    'Polyketides': ('#EF4B4B', '#EC8F6A'),  # Red start and lighter purple end\n",
    "    'Fatty acids': ('#FF6C22', '#FF9209'),  # Orange start and lighter purple end\n",
    "    'Amino acids and Peptides': ('#F4E869', '#FAF2D3'),  # Yellow start and lighter purple end\n",
    "    'Carbohydrates': ('#65451F','#C8AE7D')  # Brown start and lighter purple end\n",
    "}\n",
    "\n",
    "def interpolate_color(color1, color2, factor: float):\n",
    "    \"\"\"Interpolate between two colors\"\"\"\n",
    "    color1 = np.array(mcolors.to_rgb(color1))\n",
    "    color2 = np.array(mcolors.to_rgb(color2))\n",
    "    return mcolors.to_hex((1 - factor) * color1 + factor * color2)\n",
    "\n",
    "def generate_shades(pathway, num_shades):\n",
    "    base_color, end_color = pathway_colors.get(pathway, ('gray', 'lightgray'))\n",
    "    if num_shades == 1:\n",
    "        return [base_color]  # Return the base color if only one shade is requested\n",
    "    shades = []\n",
    "    for i in range(num_shades):\n",
    "        factor = i / (num_shades - 1)\n",
    "        shades.append(interpolate_color(base_color, end_color, factor))\n",
    "    return shades\n",
    "\n",
    "\n",
    "# Step 1: Initialize an empty DataFrame to store all data\n",
    "all_data = pd.DataFrame(columns=['organism_taxonomy_08genus', 'chemical_superclass'])\n",
    "\n",
    "# Step 2: Read data from all .tsv files in the output_folder\n",
    "genus_data_folder = os.path.join(output_folder, 'genus_data')\n",
    "for filename in os.listdir(genus_data_folder):\n",
    "    if filename.endswith(\".tsv\"):\n",
    "        file_data = pd.read_csv(os.path.join(genus_data_folder, filename), sep='\\t')\n",
    "        all_data = pd.concat([all_data, file_data])\n",
    "\n",
    "# Step 3: Rename the \"queried_taxaLabel\" column to \"species\"\n",
    "all_data.rename(columns={'organism_taxonomy_08genus': 'genus'}, inplace=True)\n",
    "\n",
    "# Remove 'API Error-API Error' and 'Not Classified-Not Classified'\n",
    "all_data = all_data[(all_data['chemical_superclass'] != 'API Error-API Error') & \n",
    "                    (all_data['chemical_superclass'] != 'Not Classified-Not Classified')]\n",
    "\n",
    "def split_chemical_superclass(row):\n",
    "    # Check if the value is a string before splitting\n",
    "    if isinstance(row['chemical_superclass'], str):\n",
    "        parts = row['chemical_superclass'].split('-')\n",
    "        if len(parts) == 2:\n",
    "            return parts[0], parts[1]  # Pathway and Superclass are present\n",
    "        else:\n",
    "            return parts[0], 'Unknown'  # Only Pathway is present, or the format is not as expected\n",
    "    else:\n",
    "        # Return default values if the entry is NaN or not a string\n",
    "        return 'Unknown', 'Unknown'\n",
    "\n",
    "# Apply the function to each row\n",
    "all_data[['Pathway', 'superclass']] = all_data.apply(lambda row: split_chemical_superclass(row), axis=1, result_type='expand')\n",
    "\n",
    "# Step 4: Process data for color mapping\n",
    "color_map = {}\n",
    "for pathway, superclasses in all_data.groupby('Pathway')['superclass'].unique().items():\n",
    "    shades = generate_shades(pathway, len(superclasses))\n",
    "    for superclass, shade in zip(superclasses, shades):\n",
    "        color_map[f\"{pathway}-{superclass}\"] = shade\n",
    "\n",
    "# Step 5: Group and aggregate data to calculate recurrence\n",
    "agg_data = all_data.groupby(['genus', 'chemical_superclass']).size().reset_index(name='recurrence')\n",
    "\n",
    "# Step 6: Create the stacked barplot with the custom color palette\n",
    "fig = px.bar(agg_data, y=agg_data['genus'].apply(lambda x: f\"<i>{x}</i>\"), x='recurrence',\n",
    "             title='Stacked Barplot of Predicted Superclasses Ocurrence for Genus',\n",
    "             labels={'recurrence': 'Recurrence'},\n",
    "             color='chemical_superclass',\n",
    "             color_discrete_map=color_map,\n",
    "             category_orders={'chemical_superclass': sorted(agg_data['chemical_superclass'].unique())},\n",
    "             orientation='h')\n",
    "\n",
    "# Modify the y-axis label\n",
    "fig.update_yaxes(title_text='<i>Genus<i>')\n",
    "\n",
    "# Set a white background\n",
    "fig.update_layout(plot_bgcolor='white')\n",
    "\n",
    "# Modify the size of the figure\n",
    "fig.update_layout(width=1500, height=1600)\n",
    "\n",
    "# Save the figure as an HTML file\n",
    "fig.write_html(f'{output_folder}Wikidata_superclass_barplot_genus.html')\n",
    "\n",
    "# Show the figure\n",
    "fig.show()\n"
   ]
  },
  {
   "cell_type": "markdown",
   "metadata": {},
   "source": [
    "Generate une plot by Genus and the Pathway"
   ]
  },
  {
   "cell_type": "code",
   "execution_count": 27,
   "metadata": {},
   "outputs": [
    {
     "name": "stderr",
     "output_type": "stream",
     "text": [
      "/tmp/ipykernel_1352/4133780139.py:20: FutureWarning:\n",
      "\n",
      "The behavior of DataFrame concatenation with empty or all-NA entries is deprecated. In a future version, this will no longer exclude empty or all-NA columns when determining the result dtypes. To retain the old behavior, exclude the relevant entries before the concat operation.\n",
      "\n",
      "/tmp/ipykernel_1352/4133780139.py:20: FutureWarning:\n",
      "\n",
      "The behavior of DataFrame concatenation with empty or all-NA entries is deprecated. In a future version, this will no longer exclude empty or all-NA columns when determining the result dtypes. To retain the old behavior, exclude the relevant entries before the concat operation.\n",
      "\n",
      "/tmp/ipykernel_1352/4133780139.py:20: FutureWarning:\n",
      "\n",
      "The behavior of DataFrame concatenation with empty or all-NA entries is deprecated. In a future version, this will no longer exclude empty or all-NA columns when determining the result dtypes. To retain the old behavior, exclude the relevant entries before the concat operation.\n",
      "\n",
      "/tmp/ipykernel_1352/4133780139.py:20: FutureWarning:\n",
      "\n",
      "The behavior of DataFrame concatenation with empty or all-NA entries is deprecated. In a future version, this will no longer exclude empty or all-NA columns when determining the result dtypes. To retain the old behavior, exclude the relevant entries before the concat operation.\n",
      "\n",
      "/tmp/ipykernel_1352/4133780139.py:20: FutureWarning:\n",
      "\n",
      "The behavior of DataFrame concatenation with empty or all-NA entries is deprecated. In a future version, this will no longer exclude empty or all-NA columns when determining the result dtypes. To retain the old behavior, exclude the relevant entries before the concat operation.\n",
      "\n",
      "/tmp/ipykernel_1352/4133780139.py:20: FutureWarning:\n",
      "\n",
      "The behavior of DataFrame concatenation with empty or all-NA entries is deprecated. In a future version, this will no longer exclude empty or all-NA columns when determining the result dtypes. To retain the old behavior, exclude the relevant entries before the concat operation.\n",
      "\n"
     ]
    },
    {
     "data": {
      "application/vnd.plotly.v1+json": {
       "config": {
        "plotlyServerURL": "https://plot.ly"
       },
       "data": [
        {
         "alignmentgroup": "True",
         "hovertemplate": "Pathway=Alkaloids<br>Recurrence=%{x}<br>y=%{y}<extra></extra>",
         "legendgroup": "Alkaloids",
         "marker": {
          "color": "#305F72",
          "pattern": {
           "shape": ""
          }
         },
         "name": "Alkaloids",
         "offsetgroup": "Alkaloids",
         "orientation": "h",
         "showlegend": true,
         "textposition": "auto",
         "type": "bar",
         "x": [
          3,
          3,
          2,
          19,
          22,
          11,
          122,
          2,
          19
         ],
         "xaxis": "x",
         "y": [
          "<i>Ampelocissus</i>",
          "<i>Atractylodes</i>",
          "<i>Erythrophleum</i>",
          "<i>Garcinia</i>",
          "<i>Gnetum</i>",
          "<i>Mangifera</i>",
          "<i>Melodinus</i>",
          "<i>Rheum</i>",
          "<i>Tinospora</i>"
         ],
         "yaxis": "y"
        },
        {
         "alignmentgroup": "True",
         "hovertemplate": "Pathway=Polyketides<br>Recurrence=%{x}<br>y=%{y}<extra></extra>",
         "legendgroup": "Polyketides",
         "marker": {
          "color": "#EF4B4B",
          "pattern": {
           "shape": ""
          }
         },
         "name": "Polyketides",
         "offsetgroup": "Polyketides",
         "orientation": "h",
         "showlegend": true,
         "textposition": "auto",
         "type": "bar",
         "x": [
          2,
          7,
          1,
          364,
          3,
          39,
          1,
          73,
          2,
          1
         ],
         "xaxis": "x",
         "y": [
          "<i>Ampelocissus</i>",
          "<i>Atractylodes</i>",
          "<i>Cyphostemma</i>",
          "<i>Garcinia</i>",
          "<i>Hopea</i>",
          "<i>Mangifera</i>",
          "<i>Melodinus</i>",
          "<i>Rheum</i>",
          "<i>Shorea</i>",
          "<i>Stauntonia</i>"
         ],
         "yaxis": "y"
        },
        {
         "alignmentgroup": "True",
         "hovertemplate": "Pathway=Shikimates and Phenylpropanoids<br>Recurrence=%{x}<br>y=%{y}<extra></extra>",
         "legendgroup": "Shikimates and Phenylpropanoids",
         "marker": {
          "color": "#80558C",
          "pattern": {
           "shape": ""
          }
         },
         "name": "Shikimates and Phenylpropanoids",
         "offsetgroup": "Shikimates and Phenylpropanoids",
         "orientation": "h",
         "showlegend": true,
         "textposition": "auto",
         "type": "bar",
         "x": [
          1,
          20,
          14,
          1,
          8,
          17,
          5,
          838,
          253,
          67,
          137,
          28,
          94,
          74,
          6,
          49
         ],
         "xaxis": "x",
         "y": [
          "<i>Ampelocissus</i>",
          "<i>Atractylodes</i>",
          "<i>Bischofia</i>",
          "<i>Calycopteris</i>",
          "<i>Ceiba</i>",
          "<i>Cyphostemma</i>",
          "<i>Erythrophleum</i>",
          "<i>Garcinia</i>",
          "<i>Gnetum</i>",
          "<i>Hopea</i>",
          "<i>Mangifera</i>",
          "<i>Pachyrhizus</i>",
          "<i>Rheum</i>",
          "<i>Shorea</i>",
          "<i>Stauntonia</i>",
          "<i>Tinospora</i>"
         ],
         "yaxis": "y"
        },
        {
         "alignmentgroup": "True",
         "hovertemplate": "Pathway=Amino acids and Peptides<br>Recurrence=%{x}<br>y=%{y}<extra></extra>",
         "legendgroup": "Amino acids and Peptides",
         "marker": {
          "color": "#F4E869",
          "pattern": {
           "shape": ""
          }
         },
         "name": "Amino acids and Peptides",
         "offsetgroup": "Amino acids and Peptides",
         "orientation": "h",
         "showlegend": true,
         "textposition": "auto",
         "type": "bar",
         "x": [
          4,
          6,
          23,
          2,
          1,
          1,
          7
         ],
         "xaxis": "x",
         "y": [
          "<i>Atractylodes</i>",
          "<i>Erythrophleum</i>",
          "<i>Garcinia</i>",
          "<i>Mangifera</i>",
          "<i>Melodinus</i>",
          "<i>Rheum</i>",
          "<i>Tinospora</i>"
         ],
         "yaxis": "y"
        },
        {
         "alignmentgroup": "True",
         "hovertemplate": "Pathway=Carbohydrates<br>Recurrence=%{x}<br>y=%{y}<extra></extra>",
         "legendgroup": "Carbohydrates",
         "marker": {
          "color": "#65451F",
          "pattern": {
           "shape": ""
          }
         },
         "name": "Carbohydrates",
         "offsetgroup": "Carbohydrates",
         "orientation": "h",
         "showlegend": true,
         "textposition": "auto",
         "type": "bar",
         "x": [
          5,
          1,
          1,
          7,
          1,
          4,
          2
         ],
         "xaxis": "x",
         "y": [
          "<i>Atractylodes</i>",
          "<i>Ceiba</i>",
          "<i>Erythrophleum</i>",
          "<i>Garcinia</i>",
          "<i>Gnetum</i>",
          "<i>Mangifera</i>",
          "<i>Pachyrhizus</i>"
         ],
         "yaxis": "y"
        },
        {
         "alignmentgroup": "True",
         "hovertemplate": "Pathway=Fatty acids<br>Recurrence=%{x}<br>y=%{y}<extra></extra>",
         "legendgroup": "Fatty acids",
         "marker": {
          "color": "#FF6C22",
          "pattern": {
           "shape": ""
          }
         },
         "name": "Fatty acids",
         "offsetgroup": "Fatty acids",
         "orientation": "h",
         "showlegend": true,
         "textposition": "auto",
         "type": "bar",
         "x": [
          25,
          1,
          2,
          53,
          11,
          2,
          228,
          4,
          3,
          3
         ],
         "xaxis": "x",
         "y": [
          "<i>Atractylodes</i>",
          "<i>Bischofia</i>",
          "<i>Ceiba</i>",
          "<i>Garcinia</i>",
          "<i>Gnetum</i>",
          "<i>Holoptelea</i>",
          "<i>Mangifera</i>",
          "<i>Rheum</i>",
          "<i>Shorea</i>",
          "<i>Tinospora</i>"
         ],
         "yaxis": "y"
        },
        {
         "alignmentgroup": "True",
         "hovertemplate": "Pathway=Terpenoids<br>Recurrence=%{x}<br>y=%{y}<extra></extra>",
         "legendgroup": "Terpenoids",
         "marker": {
          "color": "#618264",
          "pattern": {
           "shape": ""
          }
         },
         "name": "Terpenoids",
         "offsetgroup": "Terpenoids",
         "orientation": "h",
         "showlegend": true,
         "textposition": "auto",
         "type": "bar",
         "x": [
          116,
          3,
          7,
          6,
          96,
          211,
          6,
          7,
          319,
          2,
          7,
          9,
          42,
          102,
          141
         ],
         "xaxis": "x",
         "y": [
          "<i>Atractylodes</i>",
          "<i>Bischofia</i>",
          "<i>Ceiba</i>",
          "<i>Cyphostemma</i>",
          "<i>Erythrophleum</i>",
          "<i>Garcinia</i>",
          "<i>Gnetum</i>",
          "<i>Holoptelea</i>",
          "<i>Mangifera</i>",
          "<i>Melodinus</i>",
          "<i>Platycerium</i>",
          "<i>Rheum</i>",
          "<i>Shorea</i>",
          "<i>Stauntonia</i>",
          "<i>Tinospora</i>"
         ],
         "yaxis": "y"
        }
       ],
       "layout": {
        "barmode": "relative",
        "height": 1400,
        "legend": {
         "title": {
          "text": "Pathway"
         },
         "tracegroupgap": 0
        },
        "plot_bgcolor": "white",
        "template": {
         "data": {
          "bar": [
           {
            "error_x": {
             "color": "#2a3f5f"
            },
            "error_y": {
             "color": "#2a3f5f"
            },
            "marker": {
             "line": {
              "color": "#E5ECF6",
              "width": 0.5
             },
             "pattern": {
              "fillmode": "overlay",
              "size": 10,
              "solidity": 0.2
             }
            },
            "type": "bar"
           }
          ],
          "barpolar": [
           {
            "marker": {
             "line": {
              "color": "#E5ECF6",
              "width": 0.5
             },
             "pattern": {
              "fillmode": "overlay",
              "size": 10,
              "solidity": 0.2
             }
            },
            "type": "barpolar"
           }
          ],
          "carpet": [
           {
            "aaxis": {
             "endlinecolor": "#2a3f5f",
             "gridcolor": "white",
             "linecolor": "white",
             "minorgridcolor": "white",
             "startlinecolor": "#2a3f5f"
            },
            "baxis": {
             "endlinecolor": "#2a3f5f",
             "gridcolor": "white",
             "linecolor": "white",
             "minorgridcolor": "white",
             "startlinecolor": "#2a3f5f"
            },
            "type": "carpet"
           }
          ],
          "choropleth": [
           {
            "colorbar": {
             "outlinewidth": 0,
             "ticks": ""
            },
            "type": "choropleth"
           }
          ],
          "contour": [
           {
            "colorbar": {
             "outlinewidth": 0,
             "ticks": ""
            },
            "colorscale": [
             [
              0,
              "#0d0887"
             ],
             [
              0.1111111111111111,
              "#46039f"
             ],
             [
              0.2222222222222222,
              "#7201a8"
             ],
             [
              0.3333333333333333,
              "#9c179e"
             ],
             [
              0.4444444444444444,
              "#bd3786"
             ],
             [
              0.5555555555555556,
              "#d8576b"
             ],
             [
              0.6666666666666666,
              "#ed7953"
             ],
             [
              0.7777777777777778,
              "#fb9f3a"
             ],
             [
              0.8888888888888888,
              "#fdca26"
             ],
             [
              1,
              "#f0f921"
             ]
            ],
            "type": "contour"
           }
          ],
          "contourcarpet": [
           {
            "colorbar": {
             "outlinewidth": 0,
             "ticks": ""
            },
            "type": "contourcarpet"
           }
          ],
          "heatmap": [
           {
            "colorbar": {
             "outlinewidth": 0,
             "ticks": ""
            },
            "colorscale": [
             [
              0,
              "#0d0887"
             ],
             [
              0.1111111111111111,
              "#46039f"
             ],
             [
              0.2222222222222222,
              "#7201a8"
             ],
             [
              0.3333333333333333,
              "#9c179e"
             ],
             [
              0.4444444444444444,
              "#bd3786"
             ],
             [
              0.5555555555555556,
              "#d8576b"
             ],
             [
              0.6666666666666666,
              "#ed7953"
             ],
             [
              0.7777777777777778,
              "#fb9f3a"
             ],
             [
              0.8888888888888888,
              "#fdca26"
             ],
             [
              1,
              "#f0f921"
             ]
            ],
            "type": "heatmap"
           }
          ],
          "heatmapgl": [
           {
            "colorbar": {
             "outlinewidth": 0,
             "ticks": ""
            },
            "colorscale": [
             [
              0,
              "#0d0887"
             ],
             [
              0.1111111111111111,
              "#46039f"
             ],
             [
              0.2222222222222222,
              "#7201a8"
             ],
             [
              0.3333333333333333,
              "#9c179e"
             ],
             [
              0.4444444444444444,
              "#bd3786"
             ],
             [
              0.5555555555555556,
              "#d8576b"
             ],
             [
              0.6666666666666666,
              "#ed7953"
             ],
             [
              0.7777777777777778,
              "#fb9f3a"
             ],
             [
              0.8888888888888888,
              "#fdca26"
             ],
             [
              1,
              "#f0f921"
             ]
            ],
            "type": "heatmapgl"
           }
          ],
          "histogram": [
           {
            "marker": {
             "pattern": {
              "fillmode": "overlay",
              "size": 10,
              "solidity": 0.2
             }
            },
            "type": "histogram"
           }
          ],
          "histogram2d": [
           {
            "colorbar": {
             "outlinewidth": 0,
             "ticks": ""
            },
            "colorscale": [
             [
              0,
              "#0d0887"
             ],
             [
              0.1111111111111111,
              "#46039f"
             ],
             [
              0.2222222222222222,
              "#7201a8"
             ],
             [
              0.3333333333333333,
              "#9c179e"
             ],
             [
              0.4444444444444444,
              "#bd3786"
             ],
             [
              0.5555555555555556,
              "#d8576b"
             ],
             [
              0.6666666666666666,
              "#ed7953"
             ],
             [
              0.7777777777777778,
              "#fb9f3a"
             ],
             [
              0.8888888888888888,
              "#fdca26"
             ],
             [
              1,
              "#f0f921"
             ]
            ],
            "type": "histogram2d"
           }
          ],
          "histogram2dcontour": [
           {
            "colorbar": {
             "outlinewidth": 0,
             "ticks": ""
            },
            "colorscale": [
             [
              0,
              "#0d0887"
             ],
             [
              0.1111111111111111,
              "#46039f"
             ],
             [
              0.2222222222222222,
              "#7201a8"
             ],
             [
              0.3333333333333333,
              "#9c179e"
             ],
             [
              0.4444444444444444,
              "#bd3786"
             ],
             [
              0.5555555555555556,
              "#d8576b"
             ],
             [
              0.6666666666666666,
              "#ed7953"
             ],
             [
              0.7777777777777778,
              "#fb9f3a"
             ],
             [
              0.8888888888888888,
              "#fdca26"
             ],
             [
              1,
              "#f0f921"
             ]
            ],
            "type": "histogram2dcontour"
           }
          ],
          "mesh3d": [
           {
            "colorbar": {
             "outlinewidth": 0,
             "ticks": ""
            },
            "type": "mesh3d"
           }
          ],
          "parcoords": [
           {
            "line": {
             "colorbar": {
              "outlinewidth": 0,
              "ticks": ""
             }
            },
            "type": "parcoords"
           }
          ],
          "pie": [
           {
            "automargin": true,
            "type": "pie"
           }
          ],
          "scatter": [
           {
            "fillpattern": {
             "fillmode": "overlay",
             "size": 10,
             "solidity": 0.2
            },
            "type": "scatter"
           }
          ],
          "scatter3d": [
           {
            "line": {
             "colorbar": {
              "outlinewidth": 0,
              "ticks": ""
             }
            },
            "marker": {
             "colorbar": {
              "outlinewidth": 0,
              "ticks": ""
             }
            },
            "type": "scatter3d"
           }
          ],
          "scattercarpet": [
           {
            "marker": {
             "colorbar": {
              "outlinewidth": 0,
              "ticks": ""
             }
            },
            "type": "scattercarpet"
           }
          ],
          "scattergeo": [
           {
            "marker": {
             "colorbar": {
              "outlinewidth": 0,
              "ticks": ""
             }
            },
            "type": "scattergeo"
           }
          ],
          "scattergl": [
           {
            "marker": {
             "colorbar": {
              "outlinewidth": 0,
              "ticks": ""
             }
            },
            "type": "scattergl"
           }
          ],
          "scattermapbox": [
           {
            "marker": {
             "colorbar": {
              "outlinewidth": 0,
              "ticks": ""
             }
            },
            "type": "scattermapbox"
           }
          ],
          "scatterpolar": [
           {
            "marker": {
             "colorbar": {
              "outlinewidth": 0,
              "ticks": ""
             }
            },
            "type": "scatterpolar"
           }
          ],
          "scatterpolargl": [
           {
            "marker": {
             "colorbar": {
              "outlinewidth": 0,
              "ticks": ""
             }
            },
            "type": "scatterpolargl"
           }
          ],
          "scatterternary": [
           {
            "marker": {
             "colorbar": {
              "outlinewidth": 0,
              "ticks": ""
             }
            },
            "type": "scatterternary"
           }
          ],
          "surface": [
           {
            "colorbar": {
             "outlinewidth": 0,
             "ticks": ""
            },
            "colorscale": [
             [
              0,
              "#0d0887"
             ],
             [
              0.1111111111111111,
              "#46039f"
             ],
             [
              0.2222222222222222,
              "#7201a8"
             ],
             [
              0.3333333333333333,
              "#9c179e"
             ],
             [
              0.4444444444444444,
              "#bd3786"
             ],
             [
              0.5555555555555556,
              "#d8576b"
             ],
             [
              0.6666666666666666,
              "#ed7953"
             ],
             [
              0.7777777777777778,
              "#fb9f3a"
             ],
             [
              0.8888888888888888,
              "#fdca26"
             ],
             [
              1,
              "#f0f921"
             ]
            ],
            "type": "surface"
           }
          ],
          "table": [
           {
            "cells": {
             "fill": {
              "color": "#EBF0F8"
             },
             "line": {
              "color": "white"
             }
            },
            "header": {
             "fill": {
              "color": "#C8D4E3"
             },
             "line": {
              "color": "white"
             }
            },
            "type": "table"
           }
          ]
         },
         "layout": {
          "annotationdefaults": {
           "arrowcolor": "#2a3f5f",
           "arrowhead": 0,
           "arrowwidth": 1
          },
          "autotypenumbers": "strict",
          "coloraxis": {
           "colorbar": {
            "outlinewidth": 0,
            "ticks": ""
           }
          },
          "colorscale": {
           "diverging": [
            [
             0,
             "#8e0152"
            ],
            [
             0.1,
             "#c51b7d"
            ],
            [
             0.2,
             "#de77ae"
            ],
            [
             0.3,
             "#f1b6da"
            ],
            [
             0.4,
             "#fde0ef"
            ],
            [
             0.5,
             "#f7f7f7"
            ],
            [
             0.6,
             "#e6f5d0"
            ],
            [
             0.7,
             "#b8e186"
            ],
            [
             0.8,
             "#7fbc41"
            ],
            [
             0.9,
             "#4d9221"
            ],
            [
             1,
             "#276419"
            ]
           ],
           "sequential": [
            [
             0,
             "#0d0887"
            ],
            [
             0.1111111111111111,
             "#46039f"
            ],
            [
             0.2222222222222222,
             "#7201a8"
            ],
            [
             0.3333333333333333,
             "#9c179e"
            ],
            [
             0.4444444444444444,
             "#bd3786"
            ],
            [
             0.5555555555555556,
             "#d8576b"
            ],
            [
             0.6666666666666666,
             "#ed7953"
            ],
            [
             0.7777777777777778,
             "#fb9f3a"
            ],
            [
             0.8888888888888888,
             "#fdca26"
            ],
            [
             1,
             "#f0f921"
            ]
           ],
           "sequentialminus": [
            [
             0,
             "#0d0887"
            ],
            [
             0.1111111111111111,
             "#46039f"
            ],
            [
             0.2222222222222222,
             "#7201a8"
            ],
            [
             0.3333333333333333,
             "#9c179e"
            ],
            [
             0.4444444444444444,
             "#bd3786"
            ],
            [
             0.5555555555555556,
             "#d8576b"
            ],
            [
             0.6666666666666666,
             "#ed7953"
            ],
            [
             0.7777777777777778,
             "#fb9f3a"
            ],
            [
             0.8888888888888888,
             "#fdca26"
            ],
            [
             1,
             "#f0f921"
            ]
           ]
          },
          "colorway": [
           "#636efa",
           "#EF553B",
           "#00cc96",
           "#ab63fa",
           "#FFA15A",
           "#19d3f3",
           "#FF6692",
           "#B6E880",
           "#FF97FF",
           "#FECB52"
          ],
          "font": {
           "color": "#2a3f5f"
          },
          "geo": {
           "bgcolor": "white",
           "lakecolor": "white",
           "landcolor": "#E5ECF6",
           "showlakes": true,
           "showland": true,
           "subunitcolor": "white"
          },
          "hoverlabel": {
           "align": "left"
          },
          "hovermode": "closest",
          "mapbox": {
           "style": "light"
          },
          "paper_bgcolor": "white",
          "plot_bgcolor": "#E5ECF6",
          "polar": {
           "angularaxis": {
            "gridcolor": "white",
            "linecolor": "white",
            "ticks": ""
           },
           "bgcolor": "#E5ECF6",
           "radialaxis": {
            "gridcolor": "white",
            "linecolor": "white",
            "ticks": ""
           }
          },
          "scene": {
           "xaxis": {
            "backgroundcolor": "#E5ECF6",
            "gridcolor": "white",
            "gridwidth": 2,
            "linecolor": "white",
            "showbackground": true,
            "ticks": "",
            "zerolinecolor": "white"
           },
           "yaxis": {
            "backgroundcolor": "#E5ECF6",
            "gridcolor": "white",
            "gridwidth": 2,
            "linecolor": "white",
            "showbackground": true,
            "ticks": "",
            "zerolinecolor": "white"
           },
           "zaxis": {
            "backgroundcolor": "#E5ECF6",
            "gridcolor": "white",
            "gridwidth": 2,
            "linecolor": "white",
            "showbackground": true,
            "ticks": "",
            "zerolinecolor": "white"
           }
          },
          "shapedefaults": {
           "line": {
            "color": "#2a3f5f"
           }
          },
          "ternary": {
           "aaxis": {
            "gridcolor": "white",
            "linecolor": "white",
            "ticks": ""
           },
           "baxis": {
            "gridcolor": "white",
            "linecolor": "white",
            "ticks": ""
           },
           "bgcolor": "#E5ECF6",
           "caxis": {
            "gridcolor": "white",
            "linecolor": "white",
            "ticks": ""
           }
          },
          "title": {
           "x": 0.05
          },
          "xaxis": {
           "automargin": true,
           "gridcolor": "white",
           "linecolor": "white",
           "ticks": "",
           "title": {
            "standoff": 15
           },
           "zerolinecolor": "white",
           "zerolinewidth": 2
          },
          "yaxis": {
           "automargin": true,
           "gridcolor": "white",
           "linecolor": "white",
           "ticks": "",
           "title": {
            "standoff": 15
           },
           "zerolinecolor": "white",
           "zerolinewidth": 2
          }
         }
        },
        "title": {
         "text": "Stacked Barplot of Predicted Pathways Ocurrence for Genus"
        },
        "width": 1200,
        "xaxis": {
         "anchor": "y",
         "domain": [
          0,
          1
         ],
         "title": {
          "text": "Recurrence"
         }
        },
        "yaxis": {
         "anchor": "x",
         "domain": [
          0,
          1
         ],
         "title": {
          "text": "Genus"
         }
        }
       }
      },
      "text/html": [
       "<div>                            <div id=\"73f72595-5890-461e-8cd9-2e228e50365a\" class=\"plotly-graph-div\" style=\"height:1400px; width:1200px;\"></div>            <script type=\"text/javascript\">                require([\"plotly\"], function(Plotly) {                    window.PLOTLYENV=window.PLOTLYENV || {};                                    if (document.getElementById(\"73f72595-5890-461e-8cd9-2e228e50365a\")) {                    Plotly.newPlot(                        \"73f72595-5890-461e-8cd9-2e228e50365a\",                        [{\"alignmentgroup\":\"True\",\"hovertemplate\":\"Pathway=Alkaloids\\u003cbr\\u003eRecurrence=%{x}\\u003cbr\\u003ey=%{y}\\u003cextra\\u003e\\u003c\\u002fextra\\u003e\",\"legendgroup\":\"Alkaloids\",\"marker\":{\"color\":\"#305F72\",\"pattern\":{\"shape\":\"\"}},\"name\":\"Alkaloids\",\"offsetgroup\":\"Alkaloids\",\"orientation\":\"h\",\"showlegend\":true,\"textposition\":\"auto\",\"x\":[3,3,2,19,22,11,122,2,19],\"xaxis\":\"x\",\"y\":[\"\\u003ci\\u003eAmpelocissus\\u003c\\u002fi\\u003e\",\"\\u003ci\\u003eAtractylodes\\u003c\\u002fi\\u003e\",\"\\u003ci\\u003eErythrophleum\\u003c\\u002fi\\u003e\",\"\\u003ci\\u003eGarcinia\\u003c\\u002fi\\u003e\",\"\\u003ci\\u003eGnetum\\u003c\\u002fi\\u003e\",\"\\u003ci\\u003eMangifera\\u003c\\u002fi\\u003e\",\"\\u003ci\\u003eMelodinus\\u003c\\u002fi\\u003e\",\"\\u003ci\\u003eRheum\\u003c\\u002fi\\u003e\",\"\\u003ci\\u003eTinospora\\u003c\\u002fi\\u003e\"],\"yaxis\":\"y\",\"type\":\"bar\"},{\"alignmentgroup\":\"True\",\"hovertemplate\":\"Pathway=Polyketides\\u003cbr\\u003eRecurrence=%{x}\\u003cbr\\u003ey=%{y}\\u003cextra\\u003e\\u003c\\u002fextra\\u003e\",\"legendgroup\":\"Polyketides\",\"marker\":{\"color\":\"#EF4B4B\",\"pattern\":{\"shape\":\"\"}},\"name\":\"Polyketides\",\"offsetgroup\":\"Polyketides\",\"orientation\":\"h\",\"showlegend\":true,\"textposition\":\"auto\",\"x\":[2,7,1,364,3,39,1,73,2,1],\"xaxis\":\"x\",\"y\":[\"\\u003ci\\u003eAmpelocissus\\u003c\\u002fi\\u003e\",\"\\u003ci\\u003eAtractylodes\\u003c\\u002fi\\u003e\",\"\\u003ci\\u003eCyphostemma\\u003c\\u002fi\\u003e\",\"\\u003ci\\u003eGarcinia\\u003c\\u002fi\\u003e\",\"\\u003ci\\u003eHopea\\u003c\\u002fi\\u003e\",\"\\u003ci\\u003eMangifera\\u003c\\u002fi\\u003e\",\"\\u003ci\\u003eMelodinus\\u003c\\u002fi\\u003e\",\"\\u003ci\\u003eRheum\\u003c\\u002fi\\u003e\",\"\\u003ci\\u003eShorea\\u003c\\u002fi\\u003e\",\"\\u003ci\\u003eStauntonia\\u003c\\u002fi\\u003e\"],\"yaxis\":\"y\",\"type\":\"bar\"},{\"alignmentgroup\":\"True\",\"hovertemplate\":\"Pathway=Shikimates and Phenylpropanoids\\u003cbr\\u003eRecurrence=%{x}\\u003cbr\\u003ey=%{y}\\u003cextra\\u003e\\u003c\\u002fextra\\u003e\",\"legendgroup\":\"Shikimates and Phenylpropanoids\",\"marker\":{\"color\":\"#80558C\",\"pattern\":{\"shape\":\"\"}},\"name\":\"Shikimates and Phenylpropanoids\",\"offsetgroup\":\"Shikimates and Phenylpropanoids\",\"orientation\":\"h\",\"showlegend\":true,\"textposition\":\"auto\",\"x\":[1,20,14,1,8,17,5,838,253,67,137,28,94,74,6,49],\"xaxis\":\"x\",\"y\":[\"\\u003ci\\u003eAmpelocissus\\u003c\\u002fi\\u003e\",\"\\u003ci\\u003eAtractylodes\\u003c\\u002fi\\u003e\",\"\\u003ci\\u003eBischofia\\u003c\\u002fi\\u003e\",\"\\u003ci\\u003eCalycopteris\\u003c\\u002fi\\u003e\",\"\\u003ci\\u003eCeiba\\u003c\\u002fi\\u003e\",\"\\u003ci\\u003eCyphostemma\\u003c\\u002fi\\u003e\",\"\\u003ci\\u003eErythrophleum\\u003c\\u002fi\\u003e\",\"\\u003ci\\u003eGarcinia\\u003c\\u002fi\\u003e\",\"\\u003ci\\u003eGnetum\\u003c\\u002fi\\u003e\",\"\\u003ci\\u003eHopea\\u003c\\u002fi\\u003e\",\"\\u003ci\\u003eMangifera\\u003c\\u002fi\\u003e\",\"\\u003ci\\u003ePachyrhizus\\u003c\\u002fi\\u003e\",\"\\u003ci\\u003eRheum\\u003c\\u002fi\\u003e\",\"\\u003ci\\u003eShorea\\u003c\\u002fi\\u003e\",\"\\u003ci\\u003eStauntonia\\u003c\\u002fi\\u003e\",\"\\u003ci\\u003eTinospora\\u003c\\u002fi\\u003e\"],\"yaxis\":\"y\",\"type\":\"bar\"},{\"alignmentgroup\":\"True\",\"hovertemplate\":\"Pathway=Amino acids and Peptides\\u003cbr\\u003eRecurrence=%{x}\\u003cbr\\u003ey=%{y}\\u003cextra\\u003e\\u003c\\u002fextra\\u003e\",\"legendgroup\":\"Amino acids and Peptides\",\"marker\":{\"color\":\"#F4E869\",\"pattern\":{\"shape\":\"\"}},\"name\":\"Amino acids and Peptides\",\"offsetgroup\":\"Amino acids and Peptides\",\"orientation\":\"h\",\"showlegend\":true,\"textposition\":\"auto\",\"x\":[4,6,23,2,1,1,7],\"xaxis\":\"x\",\"y\":[\"\\u003ci\\u003eAtractylodes\\u003c\\u002fi\\u003e\",\"\\u003ci\\u003eErythrophleum\\u003c\\u002fi\\u003e\",\"\\u003ci\\u003eGarcinia\\u003c\\u002fi\\u003e\",\"\\u003ci\\u003eMangifera\\u003c\\u002fi\\u003e\",\"\\u003ci\\u003eMelodinus\\u003c\\u002fi\\u003e\",\"\\u003ci\\u003eRheum\\u003c\\u002fi\\u003e\",\"\\u003ci\\u003eTinospora\\u003c\\u002fi\\u003e\"],\"yaxis\":\"y\",\"type\":\"bar\"},{\"alignmentgroup\":\"True\",\"hovertemplate\":\"Pathway=Carbohydrates\\u003cbr\\u003eRecurrence=%{x}\\u003cbr\\u003ey=%{y}\\u003cextra\\u003e\\u003c\\u002fextra\\u003e\",\"legendgroup\":\"Carbohydrates\",\"marker\":{\"color\":\"#65451F\",\"pattern\":{\"shape\":\"\"}},\"name\":\"Carbohydrates\",\"offsetgroup\":\"Carbohydrates\",\"orientation\":\"h\",\"showlegend\":true,\"textposition\":\"auto\",\"x\":[5,1,1,7,1,4,2],\"xaxis\":\"x\",\"y\":[\"\\u003ci\\u003eAtractylodes\\u003c\\u002fi\\u003e\",\"\\u003ci\\u003eCeiba\\u003c\\u002fi\\u003e\",\"\\u003ci\\u003eErythrophleum\\u003c\\u002fi\\u003e\",\"\\u003ci\\u003eGarcinia\\u003c\\u002fi\\u003e\",\"\\u003ci\\u003eGnetum\\u003c\\u002fi\\u003e\",\"\\u003ci\\u003eMangifera\\u003c\\u002fi\\u003e\",\"\\u003ci\\u003ePachyrhizus\\u003c\\u002fi\\u003e\"],\"yaxis\":\"y\",\"type\":\"bar\"},{\"alignmentgroup\":\"True\",\"hovertemplate\":\"Pathway=Fatty acids\\u003cbr\\u003eRecurrence=%{x}\\u003cbr\\u003ey=%{y}\\u003cextra\\u003e\\u003c\\u002fextra\\u003e\",\"legendgroup\":\"Fatty acids\",\"marker\":{\"color\":\"#FF6C22\",\"pattern\":{\"shape\":\"\"}},\"name\":\"Fatty acids\",\"offsetgroup\":\"Fatty acids\",\"orientation\":\"h\",\"showlegend\":true,\"textposition\":\"auto\",\"x\":[25,1,2,53,11,2,228,4,3,3],\"xaxis\":\"x\",\"y\":[\"\\u003ci\\u003eAtractylodes\\u003c\\u002fi\\u003e\",\"\\u003ci\\u003eBischofia\\u003c\\u002fi\\u003e\",\"\\u003ci\\u003eCeiba\\u003c\\u002fi\\u003e\",\"\\u003ci\\u003eGarcinia\\u003c\\u002fi\\u003e\",\"\\u003ci\\u003eGnetum\\u003c\\u002fi\\u003e\",\"\\u003ci\\u003eHoloptelea\\u003c\\u002fi\\u003e\",\"\\u003ci\\u003eMangifera\\u003c\\u002fi\\u003e\",\"\\u003ci\\u003eRheum\\u003c\\u002fi\\u003e\",\"\\u003ci\\u003eShorea\\u003c\\u002fi\\u003e\",\"\\u003ci\\u003eTinospora\\u003c\\u002fi\\u003e\"],\"yaxis\":\"y\",\"type\":\"bar\"},{\"alignmentgroup\":\"True\",\"hovertemplate\":\"Pathway=Terpenoids\\u003cbr\\u003eRecurrence=%{x}\\u003cbr\\u003ey=%{y}\\u003cextra\\u003e\\u003c\\u002fextra\\u003e\",\"legendgroup\":\"Terpenoids\",\"marker\":{\"color\":\"#618264\",\"pattern\":{\"shape\":\"\"}},\"name\":\"Terpenoids\",\"offsetgroup\":\"Terpenoids\",\"orientation\":\"h\",\"showlegend\":true,\"textposition\":\"auto\",\"x\":[116,3,7,6,96,211,6,7,319,2,7,9,42,102,141],\"xaxis\":\"x\",\"y\":[\"\\u003ci\\u003eAtractylodes\\u003c\\u002fi\\u003e\",\"\\u003ci\\u003eBischofia\\u003c\\u002fi\\u003e\",\"\\u003ci\\u003eCeiba\\u003c\\u002fi\\u003e\",\"\\u003ci\\u003eCyphostemma\\u003c\\u002fi\\u003e\",\"\\u003ci\\u003eErythrophleum\\u003c\\u002fi\\u003e\",\"\\u003ci\\u003eGarcinia\\u003c\\u002fi\\u003e\",\"\\u003ci\\u003eGnetum\\u003c\\u002fi\\u003e\",\"\\u003ci\\u003eHoloptelea\\u003c\\u002fi\\u003e\",\"\\u003ci\\u003eMangifera\\u003c\\u002fi\\u003e\",\"\\u003ci\\u003eMelodinus\\u003c\\u002fi\\u003e\",\"\\u003ci\\u003ePlatycerium\\u003c\\u002fi\\u003e\",\"\\u003ci\\u003eRheum\\u003c\\u002fi\\u003e\",\"\\u003ci\\u003eShorea\\u003c\\u002fi\\u003e\",\"\\u003ci\\u003eStauntonia\\u003c\\u002fi\\u003e\",\"\\u003ci\\u003eTinospora\\u003c\\u002fi\\u003e\"],\"yaxis\":\"y\",\"type\":\"bar\"}],                        {\"template\":{\"data\":{\"histogram2dcontour\":[{\"type\":\"histogram2dcontour\",\"colorbar\":{\"outlinewidth\":0,\"ticks\":\"\"},\"colorscale\":[[0.0,\"#0d0887\"],[0.1111111111111111,\"#46039f\"],[0.2222222222222222,\"#7201a8\"],[0.3333333333333333,\"#9c179e\"],[0.4444444444444444,\"#bd3786\"],[0.5555555555555556,\"#d8576b\"],[0.6666666666666666,\"#ed7953\"],[0.7777777777777778,\"#fb9f3a\"],[0.8888888888888888,\"#fdca26\"],[1.0,\"#f0f921\"]]}],\"choropleth\":[{\"type\":\"choropleth\",\"colorbar\":{\"outlinewidth\":0,\"ticks\":\"\"}}],\"histogram2d\":[{\"type\":\"histogram2d\",\"colorbar\":{\"outlinewidth\":0,\"ticks\":\"\"},\"colorscale\":[[0.0,\"#0d0887\"],[0.1111111111111111,\"#46039f\"],[0.2222222222222222,\"#7201a8\"],[0.3333333333333333,\"#9c179e\"],[0.4444444444444444,\"#bd3786\"],[0.5555555555555556,\"#d8576b\"],[0.6666666666666666,\"#ed7953\"],[0.7777777777777778,\"#fb9f3a\"],[0.8888888888888888,\"#fdca26\"],[1.0,\"#f0f921\"]]}],\"heatmap\":[{\"type\":\"heatmap\",\"colorbar\":{\"outlinewidth\":0,\"ticks\":\"\"},\"colorscale\":[[0.0,\"#0d0887\"],[0.1111111111111111,\"#46039f\"],[0.2222222222222222,\"#7201a8\"],[0.3333333333333333,\"#9c179e\"],[0.4444444444444444,\"#bd3786\"],[0.5555555555555556,\"#d8576b\"],[0.6666666666666666,\"#ed7953\"],[0.7777777777777778,\"#fb9f3a\"],[0.8888888888888888,\"#fdca26\"],[1.0,\"#f0f921\"]]}],\"heatmapgl\":[{\"type\":\"heatmapgl\",\"colorbar\":{\"outlinewidth\":0,\"ticks\":\"\"},\"colorscale\":[[0.0,\"#0d0887\"],[0.1111111111111111,\"#46039f\"],[0.2222222222222222,\"#7201a8\"],[0.3333333333333333,\"#9c179e\"],[0.4444444444444444,\"#bd3786\"],[0.5555555555555556,\"#d8576b\"],[0.6666666666666666,\"#ed7953\"],[0.7777777777777778,\"#fb9f3a\"],[0.8888888888888888,\"#fdca26\"],[1.0,\"#f0f921\"]]}],\"contourcarpet\":[{\"type\":\"contourcarpet\",\"colorbar\":{\"outlinewidth\":0,\"ticks\":\"\"}}],\"contour\":[{\"type\":\"contour\",\"colorbar\":{\"outlinewidth\":0,\"ticks\":\"\"},\"colorscale\":[[0.0,\"#0d0887\"],[0.1111111111111111,\"#46039f\"],[0.2222222222222222,\"#7201a8\"],[0.3333333333333333,\"#9c179e\"],[0.4444444444444444,\"#bd3786\"],[0.5555555555555556,\"#d8576b\"],[0.6666666666666666,\"#ed7953\"],[0.7777777777777778,\"#fb9f3a\"],[0.8888888888888888,\"#fdca26\"],[1.0,\"#f0f921\"]]}],\"surface\":[{\"type\":\"surface\",\"colorbar\":{\"outlinewidth\":0,\"ticks\":\"\"},\"colorscale\":[[0.0,\"#0d0887\"],[0.1111111111111111,\"#46039f\"],[0.2222222222222222,\"#7201a8\"],[0.3333333333333333,\"#9c179e\"],[0.4444444444444444,\"#bd3786\"],[0.5555555555555556,\"#d8576b\"],[0.6666666666666666,\"#ed7953\"],[0.7777777777777778,\"#fb9f3a\"],[0.8888888888888888,\"#fdca26\"],[1.0,\"#f0f921\"]]}],\"mesh3d\":[{\"type\":\"mesh3d\",\"colorbar\":{\"outlinewidth\":0,\"ticks\":\"\"}}],\"scatter\":[{\"fillpattern\":{\"fillmode\":\"overlay\",\"size\":10,\"solidity\":0.2},\"type\":\"scatter\"}],\"parcoords\":[{\"type\":\"parcoords\",\"line\":{\"colorbar\":{\"outlinewidth\":0,\"ticks\":\"\"}}}],\"scatterpolargl\":[{\"type\":\"scatterpolargl\",\"marker\":{\"colorbar\":{\"outlinewidth\":0,\"ticks\":\"\"}}}],\"bar\":[{\"error_x\":{\"color\":\"#2a3f5f\"},\"error_y\":{\"color\":\"#2a3f5f\"},\"marker\":{\"line\":{\"color\":\"#E5ECF6\",\"width\":0.5},\"pattern\":{\"fillmode\":\"overlay\",\"size\":10,\"solidity\":0.2}},\"type\":\"bar\"}],\"scattergeo\":[{\"type\":\"scattergeo\",\"marker\":{\"colorbar\":{\"outlinewidth\":0,\"ticks\":\"\"}}}],\"scatterpolar\":[{\"type\":\"scatterpolar\",\"marker\":{\"colorbar\":{\"outlinewidth\":0,\"ticks\":\"\"}}}],\"histogram\":[{\"marker\":{\"pattern\":{\"fillmode\":\"overlay\",\"size\":10,\"solidity\":0.2}},\"type\":\"histogram\"}],\"scattergl\":[{\"type\":\"scattergl\",\"marker\":{\"colorbar\":{\"outlinewidth\":0,\"ticks\":\"\"}}}],\"scatter3d\":[{\"type\":\"scatter3d\",\"line\":{\"colorbar\":{\"outlinewidth\":0,\"ticks\":\"\"}},\"marker\":{\"colorbar\":{\"outlinewidth\":0,\"ticks\":\"\"}}}],\"scattermapbox\":[{\"type\":\"scattermapbox\",\"marker\":{\"colorbar\":{\"outlinewidth\":0,\"ticks\":\"\"}}}],\"scatterternary\":[{\"type\":\"scatterternary\",\"marker\":{\"colorbar\":{\"outlinewidth\":0,\"ticks\":\"\"}}}],\"scattercarpet\":[{\"type\":\"scattercarpet\",\"marker\":{\"colorbar\":{\"outlinewidth\":0,\"ticks\":\"\"}}}],\"carpet\":[{\"aaxis\":{\"endlinecolor\":\"#2a3f5f\",\"gridcolor\":\"white\",\"linecolor\":\"white\",\"minorgridcolor\":\"white\",\"startlinecolor\":\"#2a3f5f\"},\"baxis\":{\"endlinecolor\":\"#2a3f5f\",\"gridcolor\":\"white\",\"linecolor\":\"white\",\"minorgridcolor\":\"white\",\"startlinecolor\":\"#2a3f5f\"},\"type\":\"carpet\"}],\"table\":[{\"cells\":{\"fill\":{\"color\":\"#EBF0F8\"},\"line\":{\"color\":\"white\"}},\"header\":{\"fill\":{\"color\":\"#C8D4E3\"},\"line\":{\"color\":\"white\"}},\"type\":\"table\"}],\"barpolar\":[{\"marker\":{\"line\":{\"color\":\"#E5ECF6\",\"width\":0.5},\"pattern\":{\"fillmode\":\"overlay\",\"size\":10,\"solidity\":0.2}},\"type\":\"barpolar\"}],\"pie\":[{\"automargin\":true,\"type\":\"pie\"}]},\"layout\":{\"autotypenumbers\":\"strict\",\"colorway\":[\"#636efa\",\"#EF553B\",\"#00cc96\",\"#ab63fa\",\"#FFA15A\",\"#19d3f3\",\"#FF6692\",\"#B6E880\",\"#FF97FF\",\"#FECB52\"],\"font\":{\"color\":\"#2a3f5f\"},\"hovermode\":\"closest\",\"hoverlabel\":{\"align\":\"left\"},\"paper_bgcolor\":\"white\",\"plot_bgcolor\":\"#E5ECF6\",\"polar\":{\"bgcolor\":\"#E5ECF6\",\"angularaxis\":{\"gridcolor\":\"white\",\"linecolor\":\"white\",\"ticks\":\"\"},\"radialaxis\":{\"gridcolor\":\"white\",\"linecolor\":\"white\",\"ticks\":\"\"}},\"ternary\":{\"bgcolor\":\"#E5ECF6\",\"aaxis\":{\"gridcolor\":\"white\",\"linecolor\":\"white\",\"ticks\":\"\"},\"baxis\":{\"gridcolor\":\"white\",\"linecolor\":\"white\",\"ticks\":\"\"},\"caxis\":{\"gridcolor\":\"white\",\"linecolor\":\"white\",\"ticks\":\"\"}},\"coloraxis\":{\"colorbar\":{\"outlinewidth\":0,\"ticks\":\"\"}},\"colorscale\":{\"sequential\":[[0.0,\"#0d0887\"],[0.1111111111111111,\"#46039f\"],[0.2222222222222222,\"#7201a8\"],[0.3333333333333333,\"#9c179e\"],[0.4444444444444444,\"#bd3786\"],[0.5555555555555556,\"#d8576b\"],[0.6666666666666666,\"#ed7953\"],[0.7777777777777778,\"#fb9f3a\"],[0.8888888888888888,\"#fdca26\"],[1.0,\"#f0f921\"]],\"sequentialminus\":[[0.0,\"#0d0887\"],[0.1111111111111111,\"#46039f\"],[0.2222222222222222,\"#7201a8\"],[0.3333333333333333,\"#9c179e\"],[0.4444444444444444,\"#bd3786\"],[0.5555555555555556,\"#d8576b\"],[0.6666666666666666,\"#ed7953\"],[0.7777777777777778,\"#fb9f3a\"],[0.8888888888888888,\"#fdca26\"],[1.0,\"#f0f921\"]],\"diverging\":[[0,\"#8e0152\"],[0.1,\"#c51b7d\"],[0.2,\"#de77ae\"],[0.3,\"#f1b6da\"],[0.4,\"#fde0ef\"],[0.5,\"#f7f7f7\"],[0.6,\"#e6f5d0\"],[0.7,\"#b8e186\"],[0.8,\"#7fbc41\"],[0.9,\"#4d9221\"],[1,\"#276419\"]]},\"xaxis\":{\"gridcolor\":\"white\",\"linecolor\":\"white\",\"ticks\":\"\",\"title\":{\"standoff\":15},\"zerolinecolor\":\"white\",\"automargin\":true,\"zerolinewidth\":2},\"yaxis\":{\"gridcolor\":\"white\",\"linecolor\":\"white\",\"ticks\":\"\",\"title\":{\"standoff\":15},\"zerolinecolor\":\"white\",\"automargin\":true,\"zerolinewidth\":2},\"scene\":{\"xaxis\":{\"backgroundcolor\":\"#E5ECF6\",\"gridcolor\":\"white\",\"linecolor\":\"white\",\"showbackground\":true,\"ticks\":\"\",\"zerolinecolor\":\"white\",\"gridwidth\":2},\"yaxis\":{\"backgroundcolor\":\"#E5ECF6\",\"gridcolor\":\"white\",\"linecolor\":\"white\",\"showbackground\":true,\"ticks\":\"\",\"zerolinecolor\":\"white\",\"gridwidth\":2},\"zaxis\":{\"backgroundcolor\":\"#E5ECF6\",\"gridcolor\":\"white\",\"linecolor\":\"white\",\"showbackground\":true,\"ticks\":\"\",\"zerolinecolor\":\"white\",\"gridwidth\":2}},\"shapedefaults\":{\"line\":{\"color\":\"#2a3f5f\"}},\"annotationdefaults\":{\"arrowcolor\":\"#2a3f5f\",\"arrowhead\":0,\"arrowwidth\":1},\"geo\":{\"bgcolor\":\"white\",\"landcolor\":\"#E5ECF6\",\"subunitcolor\":\"white\",\"showland\":true,\"showlakes\":true,\"lakecolor\":\"white\"},\"title\":{\"x\":0.05},\"mapbox\":{\"style\":\"light\"}}},\"xaxis\":{\"anchor\":\"y\",\"domain\":[0.0,1.0],\"title\":{\"text\":\"Recurrence\"}},\"yaxis\":{\"anchor\":\"x\",\"domain\":[0.0,1.0],\"title\":{\"text\":\"Genus\"}},\"legend\":{\"title\":{\"text\":\"Pathway\"},\"tracegroupgap\":0},\"title\":{\"text\":\"Stacked Barplot of Predicted Pathways Ocurrence for Genus\"},\"barmode\":\"relative\",\"plot_bgcolor\":\"white\",\"width\":1200,\"height\":1400},                        {\"responsive\": true}                    ).then(function(){\n",
       "                            \n",
       "var gd = document.getElementById('73f72595-5890-461e-8cd9-2e228e50365a');\n",
       "var x = new MutationObserver(function (mutations, observer) {{\n",
       "        var display = window.getComputedStyle(gd).display;\n",
       "        if (!display || display === 'none') {{\n",
       "            console.log([gd, 'removed!']);\n",
       "            Plotly.purge(gd);\n",
       "            observer.disconnect();\n",
       "        }}\n",
       "}});\n",
       "\n",
       "// Listen for the removal of the full notebook cells\n",
       "var notebookContainer = gd.closest('#notebook-container');\n",
       "if (notebookContainer) {{\n",
       "    x.observe(notebookContainer, {childList: true});\n",
       "}}\n",
       "\n",
       "// Listen for the clearing of the current output cell\n",
       "var outputEl = gd.closest('.output');\n",
       "if (outputEl) {{\n",
       "    x.observe(outputEl, {childList: true});\n",
       "}}\n",
       "\n",
       "                        })                };                });            </script>        </div>"
      ]
     },
     "metadata": {},
     "output_type": "display_data"
    }
   ],
   "source": [
    "# Define custom colors for the 7 pathway categories\n",
    "pathway_colors = {\n",
    "    'Terpenoids': '#618264',  # Green start and lighter green end\n",
    "    'Alkaloids': '#305F72',   # Blue start and lighter blue end\n",
    "    'Shikimates and Phenylpropanoids': '#80558C',  # Purple start and lighter purple end\n",
    "    'Polyketides': '#EF4B4B',  # Red start and lighter purple end\n",
    "    'Fatty acids': '#FF6C22',  # Orange start and lighter purple end\n",
    "    'Amino acids and Peptides': '#F4E869',  # Yellow start and lighter purple end\n",
    "    'Carbohydrates': '#65451F' # Brown start and lighter purple end\n",
    "}\n",
    "\n",
    "# Step 1: Initialize an empty DataFrame to store all data\n",
    "all_data = pd.DataFrame(columns=['organism_taxonomy_08genus', 'chemical_superclass'])\n",
    "\n",
    "# Step 2: Read data from all .tsv files in the output_folder\n",
    "genus_data_folder = os.path.join(output_folder, 'genus_data')\n",
    "for filename in os.listdir(genus_data_folder):\n",
    "    if filename.endswith(\".tsv\"):\n",
    "        file_data = pd.read_csv(os.path.join(genus_data_folder, filename), sep='\\t')\n",
    "        all_data = pd.concat([all_data, file_data])\n",
    "\n",
    "# Step 3: Rename the \"queried_taxaLabel\" column to \"species\"\n",
    "all_data.rename(columns={'organism_taxonomy_08genus': 'genus'}, inplace=True)\n",
    "all_data.rename(columns={'structure_taxonomy_npclassifier_01pathway': 'Pathway'}, inplace=True)\n",
    "\n",
    "# Remove 'API Error-API Error' and 'Not Classified-Not Classified'\n",
    "all_data = all_data[(all_data['Pathway'] != 'API Error') & (all_data['Pathway'] != 'Not Classified')]\n",
    "\n",
    "# Step 4: Group and aggregate data to calculate recurrence\n",
    "agg_data = all_data.groupby(['genus', 'Pathway']).size().reset_index(name='recurrence')\n",
    "\n",
    "# Sort the DataFrame by 'genus' alphabetically\n",
    "agg_data = agg_data.sort_values(by='genus')\n",
    "\n",
    "# Step 5: Create the stacked barplot with custom colors\n",
    "fig = px.bar(agg_data, y=agg_data['genus'].apply(lambda x: f\"<i>{x}</i>\"), x='recurrence',\n",
    "             title='Stacked Barplot of Predicted Pathways Ocurrence for Genus',\n",
    "             labels={'recurrence': 'Recurrence'},\n",
    "             color='Pathway',\n",
    "             color_discrete_map=pathway_colors,  # Use custom colors\n",
    "             category_orders={'genus': sorted(agg_data['genus'].unique())},  # Sort 'genus' alphabetically,\n",
    "             orientation='h'\n",
    "            )\n",
    "\n",
    "# Modify the y-axis label\n",
    "fig.update_yaxes(title_text='Genus')\n",
    "\n",
    "# Set a white background\n",
    "fig.update_layout(plot_bgcolor='white')\n",
    "\n",
    "# Modify the size of the figure\n",
    "fig.update_layout(width=1200, height=1400)\n",
    "\n",
    "# Save the figure as an HTML file\n",
    "fig.write_html(f'{output_folder}Wikidata_pathway_barplot_genus.html')\n",
    "\n",
    "# Show or save the figure\n",
    "fig.show()\n"
   ]
  }
 ],
 "metadata": {
  "interpreter": {
   "hash": "2c38b6a57c2d4f85bcd8a646c69c70f453ebfd581092159d4a2b022d1b3585cd"
  },
  "kernelspec": {
   "display_name": "Python 3.8.5 64-bit ('base': conda)",
   "language": "python",
   "name": "python3"
  },
  "language_info": {
   "codemirror_mode": {
    "name": "ipython",
    "version": 3
   },
   "file_extension": ".py",
   "mimetype": "text/x-python",
   "name": "python",
   "nbconvert_exporter": "python",
   "pygments_lexer": "ipython3",
   "version": "3.11.7"
  },
  "orig_nbformat": 4
 },
 "nbformat": 4,
 "nbformat_minor": 2
}
