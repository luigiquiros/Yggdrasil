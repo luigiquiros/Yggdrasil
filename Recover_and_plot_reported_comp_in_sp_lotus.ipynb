{
 "cells": [
  {
   "cell_type": "code",
   "execution_count": 4,
   "metadata": {},
   "outputs": [],
   "source": [
    "import requests\n",
    "import pandas as pd\n",
    "import numpy as np\n",
    "import requests \n",
    "import os\n",
    "from io import StringIO  # Import StringIO from the io module\n",
    "import time  # Import the time module\n",
    "from urllib.parse import quote  # To URL encode SMILES\n",
    "import plotly.express as px\n",
    "import matplotlib.colors as mcolors"
   ]
  },
  {
   "cell_type": "markdown",
   "metadata": {},
   "source": [
    "Befor runing this code: \n",
    "1) create a .csv file containing a 'species_header' like 'species', 'names', etc. this column should contain the name of the species (or genuses by default) resolved by Open Tree of Life.\n",
    "2) creta an empty folder (input_folder) and put the .csv file inside! \n",
    "\n",
    "That's all"
   ]
  },
  {
   "cell_type": "markdown",
   "metadata": {},
   "source": [
    "DEFINE THE FOLLOWING PARAMETERS"
   ]
  },
  {
   "cell_type": "code",
   "execution_count": 9,
   "metadata": {},
   "outputs": [],
   "source": [
    "#Paths\n",
    "# Input folder containing CSV files\n",
    "input_folder = '/mnt/c/Users/quirosgu/Desktop/OK/test/' #/home/quirosgu/Desktop/FARMA-SHARE/RECHERCHE/FASIE_LAB/LuisQ/V1V2/'\n",
    "\n",
    "species_header = 'species'#'query_otol_species' #put the column of your species\n",
    "genus_header = 'genus'\n",
    "\n",
    "LOTUSDB = '/mnt/c/Users/quirosgu/Documents/Github/Yggdrasil/data_loc/LotusDB_inhouse_metadata.csv' #'/home/quirosgu/Desktop/FARMA-SHARE/RECHERCHE/FASIE_LAB/LuisQ/Yggdrasil/data_loc/LotusDB_inhouse_metadata.csv'\n",
    "LOTUSDB_rc = '/mnt/c/Users/quirosgu/Documents/Github/Yggdrasil/data_loc/LotusDB_inhouse_rc.csv' #'/home/quirosgu/Desktop/FARMA-SHARE/RECHERCHE/FASIE_LAB/LuisQ/Yggdrasil/data_loc/LotusDB_inhouse_rc.csv'\n",
    "\n",
    "# Output folder for the processed CSV files\n",
    "output_folder = f'{input_folder}output_data/'"
   ]
  },
  {
   "cell_type": "markdown",
   "metadata": {},
   "source": [
    "FIRST RECOVER THE Q CODES FROM WIKIDATA AND UPDATE THE METADATA FILE"
   ]
  },
  {
   "cell_type": "code",
   "execution_count": 10,
   "metadata": {},
   "outputs": [],
   "source": [
    "# Function to process a single CSV file and retrieve Q codes\n",
    "def process_csv_file(input_file, output_folder):\n",
    "    # Read the original CSV file containing the species names\n",
    "    df_species = pd.read_csv(input_file)\n",
    "    \n",
    "    # Define the Wikidata Query Service endpoint URL\n",
    "    endpoint_url = \"https://query.wikidata.org/sparql\"\n",
    "    \n",
    "    # Initialize an empty list to store the Q codes\n",
    "    q_codes = []\n",
    "    \n",
    "    # Initialize a placeholder value for cases where no Q code is found\n",
    "    placeholder_value = \"Not Found\"\n",
    "    \n",
    "    # Define the number of requests allowed per minute (adjust according to Wikidata's rate limits)\n",
    "    requests_per_minute = 30\n",
    "    \n",
    "    # Iterate through the species names in the CSV file\n",
    "    for index, row in df_species.iterrows():\n",
    "        species_name = row[species_header]\n",
    "    \n",
    "        # Check if the species_name is a valid string\n",
    "        if isinstance(species_name, str):\n",
    "            # Query Wikidata to retrieve the corresponding Q code for the species\n",
    "            sparql_query = f\"\"\"\n",
    "            SELECT ?species ?speciesLabel WHERE {{\n",
    "                \n",
    "                ?species rdfs:label \"{species_name}\"@en.\n",
    "                SERVICE wikibase:label {{ bd:serviceParam wikibase:language \"[AUTO_LANGUAGE],en\". }}\n",
    "            }}\n",
    "            \"\"\"\n",
    "    \n",
    "            response = requests.get(endpoint_url, headers={'Accept': 'text/csv'}, params={'query': sparql_query})\n",
    "    \n",
    "            if response.status_code == 200:\n",
    "                csv_data = response.text\n",
    "                df_qcode = pd.read_csv(StringIO(csv_data))\n",
    "    \n",
    "                if not df_qcode.empty:\n",
    "                    q_code = df_qcode['species'].values[0]  # Extract the Q code\n",
    "                    q_codes.append(q_code)  # Append the Q code to the list\n",
    "                    print(f\"Retrieved Q code {q_code} for species: {species_name}\")\n",
    "                else:\n",
    "                    q_codes.append(placeholder_value)  # Add a placeholder value\n",
    "                    print(f\"No Q code found for species: {species_name}\")\n",
    "            else:\n",
    "                q_codes.append(placeholder_value)  # Add a placeholder value for failed requests\n",
    "                print(f\"Failed to retrieve Q code for species: {species_name}. Status code: {response.status_code}\")\n",
    "    \n",
    "            # Implement rate limiting by waiting between requests\n",
    "            time.sleep(60 / requests_per_minute)  # Wait for one minute divided by the allowed requests per minute\n",
    "        else:\n",
    "            q_codes.append(placeholder_value)  # Add a placeholder value for invalid species names\n",
    "    \n",
    "    # Add the Q codes hyperlinks to the original CSV with a new column\n",
    "    df_species['wikidata_Qcode_hyperlink'] = q_codes\n",
    "    \n",
    "    # Add the Q codes only to the original CSV with a new column\n",
    "    df_species['wikidata_Qcode_species'] = df_species['wikidata_Qcode_hyperlink'].str.rsplit('/', n=1).str[-1]\n",
    "    \n",
    "    # Save the updated CSV file with Q codes in the output folder\n",
    "    output_csv_filename = os.path.join(output_folder, os.path.basename(input_file))\n",
    "    df_species.to_csv(output_csv_filename, index=False)\n",
    "    print(f\"Saved updated CSV with Q codes to {output_csv_filename}\")\n",
    "\n",
    "# Create the output folder if it doesn't exist\n",
    "os.makedirs(output_folder, exist_ok=True)\n",
    "\n",
    "# List all CSV files in the input folder and process each one\n",
    "for filename in os.listdir(input_folder):\n",
    "    if filename.endswith('.csv'):\n",
    "        input_file = os.path.join(input_folder, filename)\n",
    "        process_csv_file(input_file, output_folder)\n",
    "\n",
    "#once finished... check the lines for 'NOT FOUND' manually"
   ]
  },
  {
   "cell_type": "markdown",
   "metadata": {},
   "source": [
    "NOW, LETS USE THE QCODES TO RECOVER ALL THE COMPOUNDS (WITH REFERENCES) PRESENT IN EACH QCODE AND SAVE THEM AS INDIVIDUAL CSV FILES FROM LOTUS_DB FROZEN METADATA"
   ]
  },
  {
   "cell_type": "code",
   "execution_count": 11,
   "metadata": {},
   "outputs": [
    {
     "ename": "FileNotFoundError",
     "evalue": "[Errno 2] No such file or directory: '/mnt/c/Users/quirosgu/Documents/Github/Yggdrasil/data_loc/LotusDB_inhouse_metadata.csv'",
     "output_type": "error",
     "traceback": [
      "\u001b[1;31m---------------------------------------------------------------------------\u001b[0m",
      "\u001b[1;31mFileNotFoundError\u001b[0m                         Traceback (most recent call last)",
      "Cell \u001b[1;32mIn[11], line 2\u001b[0m\n\u001b[0;32m      1\u001b[0m \u001b[38;5;66;03m# Load the LOTUSDB CSV\u001b[39;00m\n\u001b[1;32m----> 2\u001b[0m lotusdb_df \u001b[38;5;241m=\u001b[39m pd\u001b[38;5;241m.\u001b[39mread_csv(LOTUSDB, low_memory\u001b[38;5;241m=\u001b[39m\u001b[38;5;28;01mFalse\u001b[39;00m)\n\u001b[0;32m      4\u001b[0m \u001b[38;5;66;03m# Iterate through all CSV files in the input folder\u001b[39;00m\n\u001b[0;32m      5\u001b[0m \u001b[38;5;28;01mfor\u001b[39;00m filename \u001b[38;5;129;01min\u001b[39;00m os\u001b[38;5;241m.\u001b[39mlistdir(output_folder):\n",
      "File \u001b[1;32mc:\\ProgramData\\anaconda3\\Lib\\site-packages\\pandas\\io\\parsers\\readers.py:912\u001b[0m, in \u001b[0;36mread_csv\u001b[1;34m(filepath_or_buffer, sep, delimiter, header, names, index_col, usecols, dtype, engine, converters, true_values, false_values, skipinitialspace, skiprows, skipfooter, nrows, na_values, keep_default_na, na_filter, verbose, skip_blank_lines, parse_dates, infer_datetime_format, keep_date_col, date_parser, date_format, dayfirst, cache_dates, iterator, chunksize, compression, thousands, decimal, lineterminator, quotechar, quoting, doublequote, escapechar, comment, encoding, encoding_errors, dialect, on_bad_lines, delim_whitespace, low_memory, memory_map, float_precision, storage_options, dtype_backend)\u001b[0m\n\u001b[0;32m    899\u001b[0m kwds_defaults \u001b[38;5;241m=\u001b[39m _refine_defaults_read(\n\u001b[0;32m    900\u001b[0m     dialect,\n\u001b[0;32m    901\u001b[0m     delimiter,\n\u001b[1;32m   (...)\u001b[0m\n\u001b[0;32m    908\u001b[0m     dtype_backend\u001b[38;5;241m=\u001b[39mdtype_backend,\n\u001b[0;32m    909\u001b[0m )\n\u001b[0;32m    910\u001b[0m kwds\u001b[38;5;241m.\u001b[39mupdate(kwds_defaults)\n\u001b[1;32m--> 912\u001b[0m \u001b[38;5;28;01mreturn\u001b[39;00m _read(filepath_or_buffer, kwds)\n",
      "File \u001b[1;32mc:\\ProgramData\\anaconda3\\Lib\\site-packages\\pandas\\io\\parsers\\readers.py:577\u001b[0m, in \u001b[0;36m_read\u001b[1;34m(filepath_or_buffer, kwds)\u001b[0m\n\u001b[0;32m    574\u001b[0m _validate_names(kwds\u001b[38;5;241m.\u001b[39mget(\u001b[38;5;124m\"\u001b[39m\u001b[38;5;124mnames\u001b[39m\u001b[38;5;124m\"\u001b[39m, \u001b[38;5;28;01mNone\u001b[39;00m))\n\u001b[0;32m    576\u001b[0m \u001b[38;5;66;03m# Create the parser.\u001b[39;00m\n\u001b[1;32m--> 577\u001b[0m parser \u001b[38;5;241m=\u001b[39m TextFileReader(filepath_or_buffer, \u001b[38;5;241m*\u001b[39m\u001b[38;5;241m*\u001b[39mkwds)\n\u001b[0;32m    579\u001b[0m \u001b[38;5;28;01mif\u001b[39;00m chunksize \u001b[38;5;129;01mor\u001b[39;00m iterator:\n\u001b[0;32m    580\u001b[0m     \u001b[38;5;28;01mreturn\u001b[39;00m parser\n",
      "File \u001b[1;32mc:\\ProgramData\\anaconda3\\Lib\\site-packages\\pandas\\io\\parsers\\readers.py:1407\u001b[0m, in \u001b[0;36mTextFileReader.__init__\u001b[1;34m(self, f, engine, **kwds)\u001b[0m\n\u001b[0;32m   1404\u001b[0m     \u001b[38;5;28mself\u001b[39m\u001b[38;5;241m.\u001b[39moptions[\u001b[38;5;124m\"\u001b[39m\u001b[38;5;124mhas_index_names\u001b[39m\u001b[38;5;124m\"\u001b[39m] \u001b[38;5;241m=\u001b[39m kwds[\u001b[38;5;124m\"\u001b[39m\u001b[38;5;124mhas_index_names\u001b[39m\u001b[38;5;124m\"\u001b[39m]\n\u001b[0;32m   1406\u001b[0m \u001b[38;5;28mself\u001b[39m\u001b[38;5;241m.\u001b[39mhandles: IOHandles \u001b[38;5;241m|\u001b[39m \u001b[38;5;28;01mNone\u001b[39;00m \u001b[38;5;241m=\u001b[39m \u001b[38;5;28;01mNone\u001b[39;00m\n\u001b[1;32m-> 1407\u001b[0m \u001b[38;5;28mself\u001b[39m\u001b[38;5;241m.\u001b[39m_engine \u001b[38;5;241m=\u001b[39m \u001b[38;5;28mself\u001b[39m\u001b[38;5;241m.\u001b[39m_make_engine(f, \u001b[38;5;28mself\u001b[39m\u001b[38;5;241m.\u001b[39mengine)\n",
      "File \u001b[1;32mc:\\ProgramData\\anaconda3\\Lib\\site-packages\\pandas\\io\\parsers\\readers.py:1661\u001b[0m, in \u001b[0;36mTextFileReader._make_engine\u001b[1;34m(self, f, engine)\u001b[0m\n\u001b[0;32m   1659\u001b[0m     \u001b[38;5;28;01mif\u001b[39;00m \u001b[38;5;124m\"\u001b[39m\u001b[38;5;124mb\u001b[39m\u001b[38;5;124m\"\u001b[39m \u001b[38;5;129;01mnot\u001b[39;00m \u001b[38;5;129;01min\u001b[39;00m mode:\n\u001b[0;32m   1660\u001b[0m         mode \u001b[38;5;241m+\u001b[39m\u001b[38;5;241m=\u001b[39m \u001b[38;5;124m\"\u001b[39m\u001b[38;5;124mb\u001b[39m\u001b[38;5;124m\"\u001b[39m\n\u001b[1;32m-> 1661\u001b[0m \u001b[38;5;28mself\u001b[39m\u001b[38;5;241m.\u001b[39mhandles \u001b[38;5;241m=\u001b[39m get_handle(\n\u001b[0;32m   1662\u001b[0m     f,\n\u001b[0;32m   1663\u001b[0m     mode,\n\u001b[0;32m   1664\u001b[0m     encoding\u001b[38;5;241m=\u001b[39m\u001b[38;5;28mself\u001b[39m\u001b[38;5;241m.\u001b[39moptions\u001b[38;5;241m.\u001b[39mget(\u001b[38;5;124m\"\u001b[39m\u001b[38;5;124mencoding\u001b[39m\u001b[38;5;124m\"\u001b[39m, \u001b[38;5;28;01mNone\u001b[39;00m),\n\u001b[0;32m   1665\u001b[0m     compression\u001b[38;5;241m=\u001b[39m\u001b[38;5;28mself\u001b[39m\u001b[38;5;241m.\u001b[39moptions\u001b[38;5;241m.\u001b[39mget(\u001b[38;5;124m\"\u001b[39m\u001b[38;5;124mcompression\u001b[39m\u001b[38;5;124m\"\u001b[39m, \u001b[38;5;28;01mNone\u001b[39;00m),\n\u001b[0;32m   1666\u001b[0m     memory_map\u001b[38;5;241m=\u001b[39m\u001b[38;5;28mself\u001b[39m\u001b[38;5;241m.\u001b[39moptions\u001b[38;5;241m.\u001b[39mget(\u001b[38;5;124m\"\u001b[39m\u001b[38;5;124mmemory_map\u001b[39m\u001b[38;5;124m\"\u001b[39m, \u001b[38;5;28;01mFalse\u001b[39;00m),\n\u001b[0;32m   1667\u001b[0m     is_text\u001b[38;5;241m=\u001b[39mis_text,\n\u001b[0;32m   1668\u001b[0m     errors\u001b[38;5;241m=\u001b[39m\u001b[38;5;28mself\u001b[39m\u001b[38;5;241m.\u001b[39moptions\u001b[38;5;241m.\u001b[39mget(\u001b[38;5;124m\"\u001b[39m\u001b[38;5;124mencoding_errors\u001b[39m\u001b[38;5;124m\"\u001b[39m, \u001b[38;5;124m\"\u001b[39m\u001b[38;5;124mstrict\u001b[39m\u001b[38;5;124m\"\u001b[39m),\n\u001b[0;32m   1669\u001b[0m     storage_options\u001b[38;5;241m=\u001b[39m\u001b[38;5;28mself\u001b[39m\u001b[38;5;241m.\u001b[39moptions\u001b[38;5;241m.\u001b[39mget(\u001b[38;5;124m\"\u001b[39m\u001b[38;5;124mstorage_options\u001b[39m\u001b[38;5;124m\"\u001b[39m, \u001b[38;5;28;01mNone\u001b[39;00m),\n\u001b[0;32m   1670\u001b[0m )\n\u001b[0;32m   1671\u001b[0m \u001b[38;5;28;01massert\u001b[39;00m \u001b[38;5;28mself\u001b[39m\u001b[38;5;241m.\u001b[39mhandles \u001b[38;5;129;01mis\u001b[39;00m \u001b[38;5;129;01mnot\u001b[39;00m \u001b[38;5;28;01mNone\u001b[39;00m\n\u001b[0;32m   1672\u001b[0m f \u001b[38;5;241m=\u001b[39m \u001b[38;5;28mself\u001b[39m\u001b[38;5;241m.\u001b[39mhandles\u001b[38;5;241m.\u001b[39mhandle\n",
      "File \u001b[1;32mc:\\ProgramData\\anaconda3\\Lib\\site-packages\\pandas\\io\\common.py:859\u001b[0m, in \u001b[0;36mget_handle\u001b[1;34m(path_or_buf, mode, encoding, compression, memory_map, is_text, errors, storage_options)\u001b[0m\n\u001b[0;32m    854\u001b[0m \u001b[38;5;28;01melif\u001b[39;00m \u001b[38;5;28misinstance\u001b[39m(handle, \u001b[38;5;28mstr\u001b[39m):\n\u001b[0;32m    855\u001b[0m     \u001b[38;5;66;03m# Check whether the filename is to be opened in binary mode.\u001b[39;00m\n\u001b[0;32m    856\u001b[0m     \u001b[38;5;66;03m# Binary mode does not support 'encoding' and 'newline'.\u001b[39;00m\n\u001b[0;32m    857\u001b[0m     \u001b[38;5;28;01mif\u001b[39;00m ioargs\u001b[38;5;241m.\u001b[39mencoding \u001b[38;5;129;01mand\u001b[39;00m \u001b[38;5;124m\"\u001b[39m\u001b[38;5;124mb\u001b[39m\u001b[38;5;124m\"\u001b[39m \u001b[38;5;129;01mnot\u001b[39;00m \u001b[38;5;129;01min\u001b[39;00m ioargs\u001b[38;5;241m.\u001b[39mmode:\n\u001b[0;32m    858\u001b[0m         \u001b[38;5;66;03m# Encoding\u001b[39;00m\n\u001b[1;32m--> 859\u001b[0m         handle \u001b[38;5;241m=\u001b[39m \u001b[38;5;28mopen\u001b[39m(\n\u001b[0;32m    860\u001b[0m             handle,\n\u001b[0;32m    861\u001b[0m             ioargs\u001b[38;5;241m.\u001b[39mmode,\n\u001b[0;32m    862\u001b[0m             encoding\u001b[38;5;241m=\u001b[39mioargs\u001b[38;5;241m.\u001b[39mencoding,\n\u001b[0;32m    863\u001b[0m             errors\u001b[38;5;241m=\u001b[39merrors,\n\u001b[0;32m    864\u001b[0m             newline\u001b[38;5;241m=\u001b[39m\u001b[38;5;124m\"\u001b[39m\u001b[38;5;124m\"\u001b[39m,\n\u001b[0;32m    865\u001b[0m         )\n\u001b[0;32m    866\u001b[0m     \u001b[38;5;28;01melse\u001b[39;00m:\n\u001b[0;32m    867\u001b[0m         \u001b[38;5;66;03m# Binary mode\u001b[39;00m\n\u001b[0;32m    868\u001b[0m         handle \u001b[38;5;241m=\u001b[39m \u001b[38;5;28mopen\u001b[39m(handle, ioargs\u001b[38;5;241m.\u001b[39mmode)\n",
      "\u001b[1;31mFileNotFoundError\u001b[0m: [Errno 2] No such file or directory: '/mnt/c/Users/quirosgu/Documents/Github/Yggdrasil/data_loc/LotusDB_inhouse_metadata.csv'"
     ]
    }
   ],
   "source": [
    "# Load the LOTUSDB CSV\n",
    "lotusdb_df = pd.read_csv(LOTUSDB, low_memory=False)\n",
    "\n",
    "# Iterate through all CSV files in the input folder\n",
    "for filename in os.listdir(output_folder):\n",
    "    if filename.endswith('.csv'):\n",
    "        input_file = os.path.join(output_folder, filename)\n",
    "\n",
    "        # Load the CSV file with Q codes\n",
    "        df_species = pd.read_csv(input_file)\n",
    "\n",
    "        # Iterate through the Q codes in the species CSV\n",
    "        for q_code in df_species['wikidata_Qcode_species']:  # Ensure this column name matches your species CSV\n",
    "            # Skip processing if Q code is 'Not Found'\n",
    "            if q_code == 'Not Found':\n",
    "                continue\n",
    "\n",
    "            # Filter LOTUSDB data for the current Q code\n",
    "            filtered_lotusdb = lotusdb_df[lotusdb_df['wikidata_Qcode'] == q_code]  # Ensure this column name matches your LOTUSDB CSV\n",
    "\n",
    "            # Group and aggregate the data\n",
    "            grouped_df = filtered_lotusdb.groupby(\"structure_inchikey\").agg({\n",
    "                # Add all the aggregation rules here\n",
    "                # Example:\n",
    "                \"structure_wikidata\": \"first\",\n",
    "                \"structure_inchi\": \"first\",\n",
    "                \"structure_smiles\": \"first\",\n",
    "                \"structure_molecular_formula\": \"first\",\n",
    "                \"structure_exact_mass\": \"first\",\n",
    "                \"structure_xlogp\": \"first\",\n",
    "                \"structure_smiles_2D\": \"first\",\n",
    "                \"structure_cid\": \"first\",\n",
    "                \"structure_nameIupac\": \"first\",\n",
    "                \"structure_nameTraditional\": \"first\",\n",
    "                \"structure_taxonomy_npclassifier_01pathway\": \"first\",\n",
    "                \"structure_taxonomy_npclassifier_02superclass\": \"first\",\n",
    "                \"structure_taxonomy_npclassifier_03class\": \"first\",\n",
    "                \"organism_wikidata\": \"first\",\n",
    "                \"organism_taxonomy_gbifid\": \"first\",\n",
    "                \"organism_taxonomy_ncbiid\": \"first\",\n",
    "                \"organism_taxonomy_ottid\": \"first\",\n",
    "                \"organism_taxonomy_01domain\": \"first\",\n",
    "                \"organism_taxonomy_02kingdom\": \"first\",\n",
    "                \"organism_taxonomy_03phylum\": \"first\",\n",
    "                \"organism_taxonomy_04class\": \"first\",\n",
    "                \"organism_taxonomy_05order\": \"first\",\n",
    "                \"organism_taxonomy_06family\": \"first\",\n",
    "                \"organism_taxonomy_07tribe\": \"first\",\n",
    "                \"organism_taxonomy_08genus\": \"first\",\n",
    "                \"organism_taxonomy_09species\": \"first\",\n",
    "                \"organism_taxonomy_10varietas\": \"first\",\n",
    "                \"reference_wikidata\": lambda x: \"|\".join(map(str, x)),\n",
    "                \"reference_doi\": lambda x: \"|\".join(map(str, x))\n",
    "            }).reset_index()\n",
    "            \n",
    "            #create a 'chemical_superclass' column\n",
    "            grouped_df['chemical_superclass'] =  grouped_df['structure_taxonomy_npclassifier_01pathway'] + '-' +  grouped_df['structure_taxonomy_npclassifier_02superclass']\n",
    "            grouped_df['chemical_class'] =  grouped_df['structure_taxonomy_npclassifier_01pathway'] + '-' +  grouped_df['structure_taxonomy_npclassifier_03class']\n",
    "            # Save the grouped data as a TSV file with the Q code as the filename\n",
    "            output_subfolder = os.path.join(output_folder, 'species_data')\n",
    "            os.makedirs(output_subfolder, exist_ok=True)\n",
    "            output_filename = os.path.join(output_subfolder, f\"{q_code}.tsv\")\n",
    "            grouped_df.to_csv(output_filename, index=False, sep='\\t')\n",
    "\n",
    "            print(f\"Saved grouped data for Q code {q_code} to {output_filename}\")\n"
   ]
  },
  {
   "cell_type": "code",
   "execution_count": 20,
   "metadata": {},
   "outputs": [
    {
     "name": "stdout",
     "output_type": "stream",
     "text": [
      "Saved grouped data for genus Paraboea to /mnt/c/Users/quirosgu/Desktop/OK/Literature/output_data/genus_data/Paraboea.tsv\n",
      "Saved grouped data for genus Bischofia to /mnt/c/Users/quirosgu/Desktop/OK/Literature/output_data/genus_data/Bischofia.tsv\n",
      "Saved grouped data for genus Mangifera to /mnt/c/Users/quirosgu/Desktop/OK/Literature/output_data/genus_data/Mangifera.tsv\n",
      "Saved grouped data for genus Mangifera to /mnt/c/Users/quirosgu/Desktop/OK/Literature/output_data/genus_data/Mangifera.tsv\n",
      "Saved grouped data for genus Ischaemum to /mnt/c/Users/quirosgu/Desktop/OK/Literature/output_data/genus_data/Ischaemum.tsv\n",
      "Saved grouped data for genus Ischaemum to /mnt/c/Users/quirosgu/Desktop/OK/Literature/output_data/genus_data/Ischaemum.tsv\n",
      "Saved grouped data for genus Melodinus to /mnt/c/Users/quirosgu/Desktop/OK/Literature/output_data/genus_data/Melodinus.tsv\n",
      "Saved grouped data for genus Micromelum  to /mnt/c/Users/quirosgu/Desktop/OK/Literature/output_data/genus_data/Micromelum .tsv\n",
      "Saved grouped data for genus Micromelum  to /mnt/c/Users/quirosgu/Desktop/OK/Literature/output_data/genus_data/Micromelum .tsv\n",
      "Saved grouped data for genus Pachyrhizus to /mnt/c/Users/quirosgu/Desktop/OK/Literature/output_data/genus_data/Pachyrhizus.tsv\n",
      "Saved grouped data for genus Tinospora to /mnt/c/Users/quirosgu/Desktop/OK/Literature/output_data/genus_data/Tinospora.tsv\n",
      "Saved grouped data for genus Calycopteris to /mnt/c/Users/quirosgu/Desktop/OK/Literature/output_data/genus_data/Calycopteris.tsv\n",
      "Saved grouped data for genus Calycopteris to /mnt/c/Users/quirosgu/Desktop/OK/Literature/output_data/genus_data/Calycopteris.tsv\n",
      "Saved grouped data for genus Ceiba to /mnt/c/Users/quirosgu/Desktop/OK/Literature/output_data/genus_data/Ceiba.tsv\n",
      "Saved grouped data for genus Ceiba to /mnt/c/Users/quirosgu/Desktop/OK/Literature/output_data/genus_data/Ceiba.tsv\n",
      "Saved grouped data for genus Erythrophleum to /mnt/c/Users/quirosgu/Desktop/OK/Literature/output_data/genus_data/Erythrophleum.tsv\n",
      "Saved grouped data for genus Platycerium to /mnt/c/Users/quirosgu/Desktop/OK/Literature/output_data/genus_data/Platycerium.tsv\n",
      "Saved grouped data for genus Desplatsia  to /mnt/c/Users/quirosgu/Desktop/OK/Literature/output_data/genus_data/Desplatsia .tsv\n",
      "Saved grouped data for genus Rheum to /mnt/c/Users/quirosgu/Desktop/OK/Literature/output_data/genus_data/Rheum.tsv\n",
      "Saved grouped data for genus Rheum to /mnt/c/Users/quirosgu/Desktop/OK/Literature/output_data/genus_data/Rheum.tsv\n",
      "Saved grouped data for genus Gnetum to /mnt/c/Users/quirosgu/Desktop/OK/Literature/output_data/genus_data/Gnetum.tsv\n",
      "Saved grouped data for genus Gnetum to /mnt/c/Users/quirosgu/Desktop/OK/Literature/output_data/genus_data/Gnetum.tsv\n",
      "Saved grouped data for genus Holoptelea to /mnt/c/Users/quirosgu/Desktop/OK/Literature/output_data/genus_data/Holoptelea.tsv\n",
      "Saved grouped data for genus Hopea to /mnt/c/Users/quirosgu/Desktop/OK/Literature/output_data/genus_data/Hopea.tsv\n",
      "Saved grouped data for genus Hopea to /mnt/c/Users/quirosgu/Desktop/OK/Literature/output_data/genus_data/Hopea.tsv\n",
      "Saved grouped data for genus Parashorea to /mnt/c/Users/quirosgu/Desktop/OK/Literature/output_data/genus_data/Parashorea.tsv\n",
      "Saved grouped data for genus Hopea to /mnt/c/Users/quirosgu/Desktop/OK/Literature/output_data/genus_data/Hopea.tsv\n",
      "Saved grouped data for genus Hopea to /mnt/c/Users/quirosgu/Desktop/OK/Literature/output_data/genus_data/Hopea.tsv\n",
      "Saved grouped data for genus Satyrium to /mnt/c/Users/quirosgu/Desktop/OK/Literature/output_data/genus_data/Satyrium.tsv\n",
      "Saved grouped data for genus Stauntonia to /mnt/c/Users/quirosgu/Desktop/OK/Literature/output_data/genus_data/Stauntonia.tsv\n",
      "Saved grouped data for genus Cyphostemma to /mnt/c/Users/quirosgu/Desktop/OK/Literature/output_data/genus_data/Cyphostemma.tsv\n",
      "Saved grouped data for genus Ampelocissus to /mnt/c/Users/quirosgu/Desktop/OK/Literature/output_data/genus_data/Ampelocissus.tsv\n",
      "Saved grouped data for genus Garcinia to /mnt/c/Users/quirosgu/Desktop/OK/Literature/output_data/genus_data/Garcinia.tsv\n",
      "Saved grouped data for genus Shorea to /mnt/c/Users/quirosgu/Desktop/OK/Literature/output_data/genus_data/Shorea.tsv\n",
      "Saved grouped data for genus Shorea to /mnt/c/Users/quirosgu/Desktop/OK/Literature/output_data/genus_data/Shorea.tsv\n",
      "Saved grouped data for genus Atractylodes to /mnt/c/Users/quirosgu/Desktop/OK/Literature/output_data/genus_data/Atractylodes.tsv\n",
      "Saved grouped data for genus Atractylodes to /mnt/c/Users/quirosgu/Desktop/OK/Literature/output_data/genus_data/Atractylodes.tsv\n",
      "Saved grouped data for genus Atractylodes to /mnt/c/Users/quirosgu/Desktop/OK/Literature/output_data/genus_data/Atractylodes.tsv\n",
      "Saved grouped data for genus Atractylodes to /mnt/c/Users/quirosgu/Desktop/OK/Literature/output_data/genus_data/Atractylodes.tsv\n",
      "Saved grouped data for genus Atractylodes to /mnt/c/Users/quirosgu/Desktop/OK/Literature/output_data/genus_data/Atractylodes.tsv\n",
      "Saved grouped data for genus Atractylodes to /mnt/c/Users/quirosgu/Desktop/OK/Literature/output_data/genus_data/Atractylodes.tsv\n",
      "Saved grouped data for genus Atractylodes to /mnt/c/Users/quirosgu/Desktop/OK/Literature/output_data/genus_data/Atractylodes.tsv\n"
     ]
    }
   ],
   "source": [
    "# Create a subfolder for genus data\n",
    "genus_subfolder = os.path.join(output_folder, 'genus_data')\n",
    "os.makedirs(genus_subfolder, exist_ok=True)\n",
    "\n",
    "# Iterate through all CSV files in the input folder\n",
    "for filename in os.listdir(output_folder):\n",
    "    if filename.endswith('.csv'):\n",
    "        input_file = os.path.join(output_folder, filename)\n",
    "\n",
    "        # Load the CSV file with Q codes\n",
    "        df_species = pd.read_csv(input_file)\n",
    "\n",
    "        # Iterate through the Q codes in the species CSV\n",
    "        for genus in df_species[genus_header]:  # Ensure this column name matches your species CSV\n",
    "            # Skip processing if Q code is 'Not Found'\n",
    "            if genus == 'Not Found':\n",
    "                continue\n",
    "\n",
    "            # Filter LOTUSDB data for the current Q code\n",
    "            filtered_lotusdb = lotusdb_df[lotusdb_df['organism_taxonomy_08genus'] == genus]  # Ensure this column name matches your LOTUSDB CSV\n",
    "\n",
    "            # Group and aggregate the data at the genus level based on 'genus_header' column\n",
    "            grouped_df = filtered_lotusdb.groupby(\"structure_inchikey\").agg({\n",
    "                # Add all the aggregation rules here\n",
    "                # Example:\n",
    "                \"structure_wikidata\": \"first\",\n",
    "                \"structure_inchi\": \"first\",\n",
    "                \"structure_smiles\": \"first\",\n",
    "                \"structure_molecular_formula\": \"first\",\n",
    "                \"structure_exact_mass\": \"first\",\n",
    "                \"structure_xlogp\": \"first\",\n",
    "                \"structure_smiles_2D\": \"first\",\n",
    "                \"structure_cid\": \"first\",\n",
    "                \"structure_nameIupac\": \"first\",\n",
    "                \"structure_nameTraditional\": \"first\",\n",
    "                \"structure_taxonomy_npclassifier_01pathway\": \"first\",\n",
    "                \"structure_taxonomy_npclassifier_02superclass\": \"first\",\n",
    "                \"structure_taxonomy_npclassifier_03class\": \"first\",\n",
    "                \"organism_wikidata\": \"first\",\n",
    "                \"organism_taxonomy_gbifid\": \"first\",\n",
    "                \"organism_taxonomy_ncbiid\": \"first\",\n",
    "                \"organism_taxonomy_ottid\": \"first\",\n",
    "                \"organism_taxonomy_01domain\": \"first\",\n",
    "                \"organism_taxonomy_02kingdom\": \"first\",\n",
    "                \"organism_taxonomy_03phylum\": \"first\",\n",
    "                \"organism_taxonomy_04class\": \"first\",\n",
    "                \"organism_taxonomy_05order\": \"first\",\n",
    "                \"organism_taxonomy_06family\": \"first\",\n",
    "                \"organism_taxonomy_07tribe\": \"first\",\n",
    "                \"organism_taxonomy_08genus\": \"first\",\n",
    "                \"organism_taxonomy_09species\": \"first\",\n",
    "                \"organism_taxonomy_10varietas\": \"first\",\n",
    "                \"reference_wikidata\": lambda x: \"|\".join(map(str, x)),\n",
    "                \"reference_doi\": lambda x: \"|\".join(map(str, x))\n",
    "            }).reset_index()\n",
    "            \n",
    "            # Create a 'chemical_superclass' column\n",
    "            grouped_df['chemical_superclass'] =  grouped_df['structure_taxonomy_npclassifier_01pathway'] + '-' +  grouped_df['structure_taxonomy_npclassifier_02superclass']\n",
    "            grouped_df['chemical_class'] =  grouped_df['structure_taxonomy_npclassifier_01pathway'] + '-' +  grouped_df['structure_taxonomy_npclassifier_03class']\n",
    "            \n",
    "            # Save the grouped data as a TSV file in the genus_data subfolder\n",
    "            output_filename = os.path.join(genus_subfolder, f\"{genus}.tsv\")\n",
    "            grouped_df.to_csv(output_filename, index=False, sep='\\t')\n",
    "\n",
    "            print(f\"Saved grouped data for genus {genus} to {output_filename}\")\n"
   ]
  },
  {
   "cell_type": "markdown",
   "metadata": {},
   "source": [
    "RECOVER THE FRECUENCE BY CHEMICAL CLASS AND ADDED TO THE GENERAL TABLE"
   ]
  },
  {
   "cell_type": "code",
   "execution_count": 23,
   "metadata": {},
   "outputs": [],
   "source": [
    "# Step 1: Initialize variables to store data\n",
    "total_compounds = {}\n",
    "chemical_classes = {}\n",
    "chemical_superclasses = {}\n",
    "references = {}\n",
    "hyperlinks = {}\n",
    "\n",
    "# Step 2: Iterate through .tsv files in the folder\n",
    "\n",
    "species_data_folder = os.path.join(output_folder, 'species_data')\n",
    "for filename in os.listdir(species_data_folder):\n",
    "    if filename.endswith(\".tsv\"):\n",
    "        qcode = filename.split(\".\")[0]  # Extract Qcode from the filename\n",
    "\n",
    "        # Load the .tsv file into a DataFrame\n",
    "        df_compounds = pd.read_csv(os.path.join(species_data_folder, filename), sep='\\t')\n",
    "\n",
    "        # Step 3: Calculate frequencies of chemical classes for each Qcode (excluding 'not classified')\n",
    "        filtered_classes = df_compounds[df_compounds['structure_taxonomy_npclassifier_03class'] != 'Not Classified']\n",
    "        grouped = filtered_classes['structure_taxonomy_npclassifier_03class'].value_counts().reset_index()\n",
    "        frequencies = grouped.apply(lambda row: f\"{row.name} {row['structure_taxonomy_npclassifier_03class']}\", axis=1)\n",
    "        chemical_classes[qcode] = \"|\".join(frequencies)\n",
    "\n",
    "        # Step 4: Calculate frequencies of chemical superclasses for each Qcode (excluding 'not classified')\n",
    "        filtered_sclasses = df_compounds[df_compounds['structure_taxonomy_npclassifier_02superclass'] != 'Not Classified']\n",
    "        sgrouped = filtered_sclasses['structure_taxonomy_npclassifier_02superclass'].value_counts().reset_index()\n",
    "        frequencies = sgrouped.apply(lambda row: f\"{row.name} {row['structure_taxonomy_npclassifier_02superclass']}\", axis=1)\n",
    "        chemical_superclasses[qcode] = \"|\".join(frequencies)\n",
    "        chemical_classes[qcode] = \"|\".join(frequencies)\n",
    "        \n",
    "        # Step 5: Combine references and hyperlinks\n",
    "        #references[qcode] = \"|\".join(df_compounds['reference_wikidata'].dropna())\n",
    "        #hyperlinks[qcode] = \"|\".join(df_compounds['reference_doi'].dropna())\n",
    "\n",
    "        # Step 6: Calculate the total number of reported compounds\n",
    "        #total_compounds[qcode] = len(df_compounds)\n",
    "\n",
    "# Step 7: Load the general info .csv into a DataFrame\n",
    "csv_file = None\n",
    "for filename in os.listdir(output_folder):\n",
    "    if filename.endswith(\".csv\"):\n",
    "        csv_file = os.path.join(output_folder, filename)\n",
    "        break  # Stop searching after finding the first CSV file\n",
    "\n",
    "if csv_file is not None:\n",
    "    # Load the CSV file into the df_general_info DataFrame\n",
    "    df_general_info = pd.read_csv(csv_file)\n",
    "\n",
    "# Step 7: Create new columns for combined information\n",
    "df_general_info['predicted_class'] = df_general_info['wikidata_Qcode_species'].map(chemical_classes)\n",
    "df_general_info['predicted_superclass'] = df_general_info['wikidata_Qcode_species'].map(chemical_superclasses)\n",
    "#df_general_info['references'] = df_general_info['wikidata_Qcode_species'].map(references)\n",
    "#df_general_info['referenceLabel'] = df_general_info['wikidata_Qcode_species'].map(hyperlinks)\n",
    "\n",
    "# Step 7: Save the updated DataFrame to the .csv file\n",
    "\n",
    "# Replace values matching the pattern with an empty cell\n",
    "df_general_info['predicted_class'] = df_general_info['predicted_class'].replace('index|predicted_class', '')\n",
    "df_general_info['predicted_superclass'] = df_general_info['predicted_superclass'].replace('index|predicted_superclass', '')\n",
    "\n",
    "#add reported compounds to each Q code\n",
    "LotusDB_rc = pd.read_csv(LOTUSDB_rc)\n",
    "\n",
    "spDB = LotusDB_rc[['wikidata_Qcode', 'Reported_comp_Species']].drop_duplicates()\n",
    "gDB = LotusDB_rc[['organism_taxonomy_08genus', 'Reported_comp_Genus']].drop_duplicates()\n",
    "fDB = LotusDB_rc[['organism_taxonomy_06family', 'Reported_comp_Family']].drop_duplicates()\n",
    "\n",
    "df = pd.merge(df_general_info, spDB,\n",
    "            how= 'left', left_on='wikidata_Qcode_species', right_on='wikidata_Qcode')#.drop_duplicates(subset=['CODE'])\n",
    "df.drop('wikidata_Qcode', axis=1, inplace=True)\n",
    "\n",
    "df = pd.merge(df, gDB,\n",
    "            how= 'left', left_on='genus', right_on='organism_taxonomy_08genus')#.drop_duplicates(subset=['full_species'])\n",
    "df.drop('organism_taxonomy_08genus', axis=1, inplace=True)\n",
    "\n",
    "df = pd.merge(df, fDB,\n",
    "            how= 'left', left_on='family', right_on='organism_taxonomy_06family')#.drop_duplicates(subset=['full_species'])\n",
    "df.drop('organism_taxonomy_06family', axis=1, inplace=True)\n",
    "\n",
    "output_csv_file = output_folder + 'Full_results.csv'\n",
    "df.to_csv(output_csv_file, index=False, sep =',')"
   ]
  },
  {
   "cell_type": "markdown",
   "metadata": {},
   "source": [
    "Generate une plot by species (samples) and the chemical class"
   ]
  },
  {
   "cell_type": "code",
   "execution_count": 24,
   "metadata": {},
   "outputs": [
    {
     "name": "stderr",
     "output_type": "stream",
     "text": [
      "/tmp/ipykernel_1352/1116008366.py:38: FutureWarning:\n",
      "\n",
      "The behavior of DataFrame concatenation with empty or all-NA entries is deprecated. In a future version, this will no longer exclude empty or all-NA columns when determining the result dtypes. To retain the old behavior, exclude the relevant entries before the concat operation.\n",
      "\n",
      "/tmp/ipykernel_1352/1116008366.py:38: FutureWarning:\n",
      "\n",
      "The behavior of DataFrame concatenation with empty or all-NA entries is deprecated. In a future version, this will no longer exclude empty or all-NA columns when determining the result dtypes. To retain the old behavior, exclude the relevant entries before the concat operation.\n",
      "\n",
      "/tmp/ipykernel_1352/1116008366.py:38: FutureWarning:\n",
      "\n",
      "The behavior of DataFrame concatenation with empty or all-NA entries is deprecated. In a future version, this will no longer exclude empty or all-NA columns when determining the result dtypes. To retain the old behavior, exclude the relevant entries before the concat operation.\n",
      "\n",
      "/tmp/ipykernel_1352/1116008366.py:38: FutureWarning:\n",
      "\n",
      "The behavior of DataFrame concatenation with empty or all-NA entries is deprecated. In a future version, this will no longer exclude empty or all-NA columns when determining the result dtypes. To retain the old behavior, exclude the relevant entries before the concat operation.\n",
      "\n",
      "/tmp/ipykernel_1352/1116008366.py:38: FutureWarning:\n",
      "\n",
      "The behavior of DataFrame concatenation with empty or all-NA entries is deprecated. In a future version, this will no longer exclude empty or all-NA columns when determining the result dtypes. To retain the old behavior, exclude the relevant entries before the concat operation.\n",
      "\n",
      "/tmp/ipykernel_1352/1116008366.py:38: FutureWarning:\n",
      "\n",
      "The behavior of DataFrame concatenation with empty or all-NA entries is deprecated. In a future version, this will no longer exclude empty or all-NA columns when determining the result dtypes. To retain the old behavior, exclude the relevant entries before the concat operation.\n",
      "\n",
      "/tmp/ipykernel_1352/1116008366.py:38: FutureWarning:\n",
      "\n",
      "The behavior of DataFrame concatenation with empty or all-NA entries is deprecated. In a future version, this will no longer exclude empty or all-NA columns when determining the result dtypes. To retain the old behavior, exclude the relevant entries before the concat operation.\n",
      "\n",
      "/tmp/ipykernel_1352/1116008366.py:38: FutureWarning:\n",
      "\n",
      "The behavior of DataFrame concatenation with empty or all-NA entries is deprecated. In a future version, this will no longer exclude empty or all-NA columns when determining the result dtypes. To retain the old behavior, exclude the relevant entries before the concat operation.\n",
      "\n",
      "/tmp/ipykernel_1352/1116008366.py:38: FutureWarning:\n",
      "\n",
      "The behavior of DataFrame concatenation with empty or all-NA entries is deprecated. In a future version, this will no longer exclude empty or all-NA columns when determining the result dtypes. To retain the old behavior, exclude the relevant entries before the concat operation.\n",
      "\n",
      "/tmp/ipykernel_1352/1116008366.py:38: FutureWarning:\n",
      "\n",
      "The behavior of DataFrame concatenation with empty or all-NA entries is deprecated. In a future version, this will no longer exclude empty or all-NA columns when determining the result dtypes. To retain the old behavior, exclude the relevant entries before the concat operation.\n",
      "\n",
      "/tmp/ipykernel_1352/1116008366.py:38: FutureWarning:\n",
      "\n",
      "The behavior of DataFrame concatenation with empty or all-NA entries is deprecated. In a future version, this will no longer exclude empty or all-NA columns when determining the result dtypes. To retain the old behavior, exclude the relevant entries before the concat operation.\n",
      "\n",
      "/tmp/ipykernel_1352/1116008366.py:38: FutureWarning:\n",
      "\n",
      "The behavior of DataFrame concatenation with empty or all-NA entries is deprecated. In a future version, this will no longer exclude empty or all-NA columns when determining the result dtypes. To retain the old behavior, exclude the relevant entries before the concat operation.\n",
      "\n",
      "/tmp/ipykernel_1352/1116008366.py:38: FutureWarning:\n",
      "\n",
      "The behavior of DataFrame concatenation with empty or all-NA entries is deprecated. In a future version, this will no longer exclude empty or all-NA columns when determining the result dtypes. To retain the old behavior, exclude the relevant entries before the concat operation.\n",
      "\n"
     ]
    },
    {
     "data": {
      "application/vnd.plotly.v1+json": {
       "config": {
        "plotlyServerURL": "https://plot.ly"
       },
       "data": [
        {
         "alignmentgroup": "True",
         "hovertemplate": "chemical_superclass=Alkaloids-Pseudoalkaloids<br>Recurrence=%{x}<br>y=%{y}<extra></extra>",
         "legendgroup": "Alkaloids-Pseudoalkaloids",
         "marker": {
          "color": "#5cbce2",
          "pattern": {
           "shape": ""
          }
         },
         "name": "Alkaloids-Pseudoalkaloids",
         "offsetgroup": "Alkaloids-Pseudoalkaloids",
         "orientation": "h",
         "showlegend": true,
         "textposition": "auto",
         "type": "bar",
         "x": [
          1
         ],
         "xaxis": "x",
         "y": [
          "<i>Atractylodes lancea</i>"
         ],
         "yaxis": "y"
        },
        {
         "alignmentgroup": "True",
         "hovertemplate": "chemical_superclass=Alkaloids-Tryptophan alkaloids<br>Recurrence=%{x}<br>y=%{y}<extra></extra>",
         "legendgroup": "Alkaloids-Tryptophan alkaloids",
         "marker": {
          "color": "#305f72",
          "pattern": {
           "shape": ""
          }
         },
         "name": "Alkaloids-Tryptophan alkaloids",
         "offsetgroup": "Alkaloids-Tryptophan alkaloids",
         "orientation": "h",
         "showlegend": true,
         "textposition": "auto",
         "type": "bar",
         "x": [
          60,
          7
         ],
         "xaxis": "x",
         "y": [
          "<i>Melodinus cochinchinensis</i>",
          "<i>Micromelum hirsutum</i>"
         ],
         "yaxis": "y"
        },
        {
         "alignmentgroup": "True",
         "hovertemplate": "chemical_superclass=Alkaloids-Tyrosine alkaloids<br>Recurrence=%{x}<br>y=%{y}<extra></extra>",
         "legendgroup": "Alkaloids-Tyrosine alkaloids",
         "marker": {
          "color": "#468eaa",
          "pattern": {
           "shape": ""
          }
         },
         "name": "Alkaloids-Tyrosine alkaloids",
         "offsetgroup": "Alkaloids-Tyrosine alkaloids",
         "orientation": "h",
         "showlegend": true,
         "textposition": "auto",
         "type": "bar",
         "x": [
          4
         ],
         "xaxis": "x",
         "y": [
          "<i>Tinospora baenzigeri</i>"
         ],
         "yaxis": "y"
        },
        {
         "alignmentgroup": "True",
         "hovertemplate": "chemical_superclass=Amino acids and Peptides-Small peptides<br>Recurrence=%{x}<br>y=%{y}<extra></extra>",
         "legendgroup": "Amino acids and Peptides-Small peptides",
         "marker": {
          "color": "#f4e869",
          "pattern": {
           "shape": ""
          }
         },
         "name": "Amino acids and Peptides-Small peptides",
         "offsetgroup": "Amino acids and Peptides-Small peptides",
         "orientation": "h",
         "showlegend": true,
         "textposition": "auto",
         "type": "bar",
         "x": [
          2,
          4
         ],
         "xaxis": "x",
         "y": [
          "<i>Atractylodes japonica</i>",
          "<i>Atractylodes lancea</i>"
         ],
         "yaxis": "y"
        },
        {
         "alignmentgroup": "True",
         "hovertemplate": "chemical_superclass=Amino acids and Peptides-β-lactams<br>Recurrence=%{x}<br>y=%{y}<extra></extra>",
         "legendgroup": "Amino acids and Peptides-β-lactams",
         "marker": {
          "color": "#FF6692",
          "pattern": {
           "shape": ""
          }
         },
         "name": "Amino acids and Peptides-β-lactams",
         "offsetgroup": "Amino acids and Peptides-β-lactams",
         "orientation": "h",
         "showlegend": true,
         "textposition": "auto",
         "type": "bar",
         "x": [
          1
         ],
         "xaxis": "x",
         "y": [
          "<i>Melodinus cochinchinensis</i>"
         ],
         "yaxis": "y"
        },
        {
         "alignmentgroup": "True",
         "hovertemplate": "chemical_superclass=Carbohydrates-Nucleosides<br>Recurrence=%{x}<br>y=%{y}<extra></extra>",
         "legendgroup": "Carbohydrates-Nucleosides",
         "marker": {
          "color": "#c8ae7d",
          "pattern": {
           "shape": ""
          }
         },
         "name": "Carbohydrates-Nucleosides",
         "offsetgroup": "Carbohydrates-Nucleosides",
         "orientation": "h",
         "showlegend": true,
         "textposition": "auto",
         "type": "bar",
         "x": [
          4
         ],
         "xaxis": "x",
         "y": [
          "<i>Atractylodes lancea</i>"
         ],
         "yaxis": "y"
        },
        {
         "alignmentgroup": "True",
         "hovertemplate": "chemical_superclass=Carbohydrates-Saccharides<br>Recurrence=%{x}<br>y=%{y}<extra></extra>",
         "legendgroup": "Carbohydrates-Saccharides",
         "marker": {
          "color": "#65451f",
          "pattern": {
           "shape": ""
          }
         },
         "name": "Carbohydrates-Saccharides",
         "offsetgroup": "Carbohydrates-Saccharides",
         "orientation": "h",
         "showlegend": true,
         "textposition": "auto",
         "type": "bar",
         "x": [
          1,
          1
         ],
         "xaxis": "x",
         "y": [
          "<i>Gnetum edule</i>",
          "<i>Pachyrhizus erosus</i>"
         ],
         "yaxis": "y"
        },
        {
         "alignmentgroup": "True",
         "hovertemplate": "chemical_superclass=Fatty acids-Fatty Acids and Conjugates<br>Recurrence=%{x}<br>y=%{y}<extra></extra>",
         "legendgroup": "Fatty acids-Fatty Acids and Conjugates",
         "marker": {
          "color": "#ff9209",
          "pattern": {
           "shape": ""
          }
         },
         "name": "Fatty acids-Fatty Acids and Conjugates",
         "offsetgroup": "Fatty acids-Fatty Acids and Conjugates",
         "orientation": "h",
         "showlegend": true,
         "textposition": "auto",
         "type": "bar",
         "x": [
          5,
          1,
          1,
          9,
          1
         ],
         "xaxis": "x",
         "y": [
          "<i>Atractylodes lancea</i>",
          "<i>Atractylodes macrocephala</i>",
          "<i>Ceiba pentandra</i>",
          "<i>Gnetum edule</i>",
          "<i>Rheum rhabarbarum</i>"
         ],
         "yaxis": "y"
        },
        {
         "alignmentgroup": "True",
         "hovertemplate": "chemical_superclass=Fatty acids-Fatty acyls<br>Recurrence=%{x}<br>y=%{y}<extra></extra>",
         "legendgroup": "Fatty acids-Fatty acyls",
         "marker": {
          "color": "#ff7f16",
          "pattern": {
           "shape": ""
          }
         },
         "name": "Fatty acids-Fatty acyls",
         "offsetgroup": "Fatty acids-Fatty acyls",
         "orientation": "h",
         "showlegend": true,
         "textposition": "auto",
         "type": "bar",
         "x": [
          1,
          5,
          4,
          1,
          2
         ],
         "xaxis": "x",
         "y": [
          "<i>Atractylodes chinensis</i>",
          "<i>Atractylodes lancea</i>",
          "<i>Atractylodes macrocephala</i>",
          "<i>Bischofia javanica</i>",
          "<i>Holoptelea integrifolia</i>"
         ],
         "yaxis": "y"
        },
        {
         "alignmentgroup": "True",
         "hovertemplate": "chemical_superclass=Fatty acids-Fatty esters<br>Recurrence=%{x}<br>y=%{y}<extra></extra>",
         "legendgroup": "Fatty acids-Fatty esters",
         "marker": {
          "color": "#ff6c22",
          "pattern": {
           "shape": ""
          }
         },
         "name": "Fatty acids-Fatty esters",
         "offsetgroup": "Fatty acids-Fatty esters",
         "orientation": "h",
         "showlegend": true,
         "textposition": "auto",
         "type": "bar",
         "x": [
          1,
          2,
          9,
          1,
          2
         ],
         "xaxis": "x",
         "y": [
          "<i>Atractylodes chinensis</i>",
          "<i>Atractylodes japonica</i>",
          "<i>Atractylodes lancea</i>",
          "<i>Atractylodes macrocephala</i>",
          "<i>Micromelum hirsutum</i>"
         ],
         "yaxis": "y"
        },
        {
         "alignmentgroup": "True",
         "hovertemplate": "chemical_superclass=Polyketides-Aromatic polyketides<br>Recurrence=%{x}<br>y=%{y}<extra></extra>",
         "legendgroup": "Polyketides-Aromatic polyketides",
         "marker": {
          "color": "#ef4b4b",
          "pattern": {
           "shape": ""
          }
         },
         "name": "Polyketides-Aromatic polyketides",
         "offsetgroup": "Polyketides-Aromatic polyketides",
         "orientation": "h",
         "showlegend": true,
         "textposition": "auto",
         "type": "bar",
         "x": [
          1,
          1
         ],
         "xaxis": "x",
         "y": [
          "<i>Atractylodes macrocephala</i>",
          "<i>Melodinus cochinchinensis</i>"
         ],
         "yaxis": "y"
        },
        {
         "alignmentgroup": "True",
         "hovertemplate": "chemical_superclass=Polyketides-Meroterpenoids<br>Recurrence=%{x}<br>y=%{y}<extra></extra>",
         "legendgroup": "Polyketides-Meroterpenoids",
         "marker": {
          "color": "#ed7860",
          "pattern": {
           "shape": ""
          }
         },
         "name": "Polyketides-Meroterpenoids",
         "offsetgroup": "Polyketides-Meroterpenoids",
         "orientation": "h",
         "showlegend": true,
         "textposition": "auto",
         "type": "bar",
         "x": [
          6
         ],
         "xaxis": "x",
         "y": [
          "<i>Atractylodes lancea</i>"
         ],
         "yaxis": "y"
        },
        {
         "alignmentgroup": "True",
         "hovertemplate": "chemical_superclass=Polyketides-Naphthalenes<br>Recurrence=%{x}<br>y=%{y}<extra></extra>",
         "legendgroup": "Polyketides-Naphthalenes",
         "marker": {
          "color": "#ec8f6a",
          "pattern": {
           "shape": ""
          }
         },
         "name": "Polyketides-Naphthalenes",
         "offsetgroup": "Polyketides-Naphthalenes",
         "orientation": "h",
         "showlegend": true,
         "textposition": "auto",
         "type": "bar",
         "x": [
          1
         ],
         "xaxis": "x",
         "y": [
          "<i>Rheum rhabarbarum</i>"
         ],
         "yaxis": "y"
        },
        {
         "alignmentgroup": "True",
         "hovertemplate": "chemical_superclass=Polyketides-Polycyclic aromatic polyketides<br>Recurrence=%{x}<br>y=%{y}<extra></extra>",
         "legendgroup": "Polyketides-Polycyclic aromatic polyketides",
         "marker": {
          "color": "#ee6255",
          "pattern": {
           "shape": ""
          }
         },
         "name": "Polyketides-Polycyclic aromatic polyketides",
         "offsetgroup": "Polyketides-Polycyclic aromatic polyketides",
         "orientation": "h",
         "showlegend": true,
         "textposition": "auto",
         "type": "bar",
         "x": [
          10,
          6
         ],
         "xaxis": "x",
         "y": [
          "<i>Rheum officinale</i>",
          "<i>Rheum rhabarbarum</i>"
         ],
         "yaxis": "y"
        },
        {
         "alignmentgroup": "True",
         "hovertemplate": "chemical_superclass=Shikimates and Phenylpropanoids-Coumarins<br>Recurrence=%{x}<br>y=%{y}<extra></extra>",
         "legendgroup": "Shikimates and Phenylpropanoids-Coumarins",
         "marker": {
          "color": "#cba0ae",
          "pattern": {
           "shape": ""
          }
         },
         "name": "Shikimates and Phenylpropanoids-Coumarins",
         "offsetgroup": "Shikimates and Phenylpropanoids-Coumarins",
         "orientation": "h",
         "showlegend": true,
         "textposition": "auto",
         "type": "bar",
         "x": [
          3,
          2,
          2,
          1
         ],
         "xaxis": "x",
         "y": [
          "<i>Atractylodes lancea</i>",
          "<i>Atractylodes macrocephala</i>",
          "<i>Micromelum hirsutum</i>",
          "<i>Pachyrhizus erosus</i>"
         ],
         "yaxis": "y"
        },
        {
         "alignmentgroup": "True",
         "hovertemplate": "chemical_superclass=Shikimates and Phenylpropanoids-Flavonoids<br>Recurrence=%{x}<br>y=%{y}<extra></extra>",
         "legendgroup": "Shikimates and Phenylpropanoids-Flavonoids",
         "marker": {
          "color": "#a57a9d",
          "pattern": {
           "shape": ""
          }
         },
         "name": "Shikimates and Phenylpropanoids-Flavonoids",
         "offsetgroup": "Shikimates and Phenylpropanoids-Flavonoids",
         "orientation": "h",
         "showlegend": true,
         "textposition": "auto",
         "type": "bar",
         "x": [
          1,
          3,
          6,
          1,
          2,
          1,
          3,
          6,
          1
         ],
         "xaxis": "x",
         "y": [
          "<i>Atractylodes lancea</i>",
          "<i>Atractylodes macrocephala</i>",
          "<i>Bischofia javanica</i>",
          "<i>Ceiba pentandra</i>",
          "<i>Gnetum edule</i>",
          "<i>Micromelum hirsutum</i>",
          "<i>Rheum officinale</i>",
          "<i>Rheum rhabarbarum</i>",
          "<i>Shorea roxburghii</i>"
         ],
         "yaxis": "y"
        },
        {
         "alignmentgroup": "True",
         "hovertemplate": "chemical_superclass=Shikimates and Phenylpropanoids-Isoflavonoids<br>Recurrence=%{x}<br>y=%{y}<extra></extra>",
         "legendgroup": "Shikimates and Phenylpropanoids-Isoflavonoids",
         "marker": {
          "color": "#b88da5",
          "pattern": {
           "shape": ""
          }
         },
         "name": "Shikimates and Phenylpropanoids-Isoflavonoids",
         "offsetgroup": "Shikimates and Phenylpropanoids-Isoflavonoids",
         "orientation": "h",
         "showlegend": true,
         "textposition": "auto",
         "type": "bar",
         "x": [
          5,
          15
         ],
         "xaxis": "x",
         "y": [
          "<i>Ceiba pentandra</i>",
          "<i>Pachyrhizus erosus</i>"
         ],
         "yaxis": "y"
        },
        {
         "alignmentgroup": "True",
         "hovertemplate": "chemical_superclass=Shikimates and Phenylpropanoids-Phenolic acids (C6-C1)<br>Recurrence=%{x}<br>y=%{y}<extra></extra>",
         "legendgroup": "Shikimates and Phenylpropanoids-Phenolic acids (C6-C1)",
         "marker": {
          "color": "#B6E880",
          "pattern": {
           "shape": ""
          }
         },
         "name": "Shikimates and Phenylpropanoids-Phenolic acids (C6-C1)",
         "offsetgroup": "Shikimates and Phenylpropanoids-Phenolic acids (C6-C1)",
         "orientation": "h",
         "showlegend": true,
         "textposition": "auto",
         "type": "bar",
         "x": [
          8,
          7
         ],
         "xaxis": "x",
         "y": [
          "<i>Bischofia javanica</i>",
          "<i>Rheum officinale</i>"
         ],
         "yaxis": "y"
        },
        {
         "alignmentgroup": "True",
         "hovertemplate": "chemical_superclass=Shikimates and Phenylpropanoids-Phenylethanoids (C6-C2)<br>Recurrence=%{x}<br>y=%{y}<extra></extra>",
         "legendgroup": "Shikimates and Phenylpropanoids-Phenylethanoids (C6-C2)",
         "marker": {
          "color": "#FF97FF",
          "pattern": {
           "shape": ""
          }
         },
         "name": "Shikimates and Phenylpropanoids-Phenylethanoids (C6-C2)",
         "offsetgroup": "Shikimates and Phenylpropanoids-Phenylethanoids (C6-C2)",
         "orientation": "h",
         "showlegend": true,
         "textposition": "auto",
         "type": "bar",
         "x": [
          4,
          4
         ],
         "xaxis": "x",
         "y": [
          "<i>Atractylodes japonica</i>",
          "<i>Atractylodes lancea</i>"
         ],
         "yaxis": "y"
        },
        {
         "alignmentgroup": "True",
         "hovertemplate": "chemical_superclass=Shikimates and Phenylpropanoids-Phenylpropanoids (C6-C3)<br>Recurrence=%{x}<br>y=%{y}<extra></extra>",
         "legendgroup": "Shikimates and Phenylpropanoids-Phenylpropanoids (C6-C3)",
         "marker": {
          "color": "#FECB52",
          "pattern": {
           "shape": ""
          }
         },
         "name": "Shikimates and Phenylpropanoids-Phenylpropanoids (C6-C3)",
         "offsetgroup": "Shikimates and Phenylpropanoids-Phenylpropanoids (C6-C3)",
         "orientation": "h",
         "showlegend": true,
         "textposition": "auto",
         "type": "bar",
         "x": [
          1,
          2,
          3,
          3
         ],
         "xaxis": "x",
         "y": [
          "<i>Atractylodes japonica</i>",
          "<i>Atractylodes lancea</i>",
          "<i>Atractylodes macrocephala</i>",
          "<i>Rheum rhabarbarum</i>"
         ],
         "yaxis": "y"
        },
        {
         "alignmentgroup": "True",
         "hovertemplate": "chemical_superclass=Shikimates and Phenylpropanoids-Stilbenoids<br>Recurrence=%{x}<br>y=%{y}<extra></extra>",
         "legendgroup": "Shikimates and Phenylpropanoids-Stilbenoids",
         "marker": {
          "color": "#936894",
          "pattern": {
           "shape": ""
          }
         },
         "name": "Shikimates and Phenylpropanoids-Stilbenoids",
         "offsetgroup": "Shikimates and Phenylpropanoids-Stilbenoids",
         "orientation": "h",
         "showlegend": true,
         "textposition": "auto",
         "type": "bar",
         "x": [
          13,
          3,
          8,
          21,
          12
         ],
         "xaxis": "x",
         "y": [
          "<i>Gnetum edule</i>",
          "<i>Hopea chinensis</i>",
          "<i>Rheum officinale</i>",
          "<i>Rheum rhabarbarum</i>",
          "<i>Shorea roxburghii</i>"
         ],
         "yaxis": "y"
        },
        {
         "alignmentgroup": "True",
         "hovertemplate": "chemical_superclass=Terpenoids-Diterpenoids<br>Recurrence=%{x}<br>y=%{y}<extra></extra>",
         "legendgroup": "Terpenoids-Diterpenoids",
         "marker": {
          "color": "#bad3bc",
          "pattern": {
           "shape": ""
          }
         },
         "name": "Terpenoids-Diterpenoids",
         "offsetgroup": "Terpenoids-Diterpenoids",
         "orientation": "h",
         "showlegend": true,
         "textposition": "auto",
         "type": "bar",
         "x": [
          25,
          2,
          3
         ],
         "xaxis": "x",
         "y": [
          "<i>Erythrophleum suaveolens</i>",
          "<i>Melodinus cochinchinensis</i>",
          "<i>Tinospora baenzigeri</i>"
         ],
         "yaxis": "y"
        },
        {
         "alignmentgroup": "True",
         "hovertemplate": "chemical_superclass=Terpenoids-Meroterpenoids<br>Recurrence=%{x}<br>y=%{y}<extra></extra>",
         "legendgroup": "Terpenoids-Meroterpenoids",
         "marker": {
          "color": "#d0e7d2",
          "pattern": {
           "shape": ""
          }
         },
         "name": "Terpenoids-Meroterpenoids",
         "offsetgroup": "Terpenoids-Meroterpenoids",
         "orientation": "h",
         "showlegend": true,
         "textposition": "auto",
         "type": "bar",
         "x": [
          1
         ],
         "xaxis": "x",
         "y": [
          "<i>Atractylodes macrocephala</i>"
         ],
         "yaxis": "y"
        },
        {
         "alignmentgroup": "True",
         "hovertemplate": "chemical_superclass=Terpenoids-Monoterpenoids<br>Recurrence=%{x}<br>y=%{y}<extra></extra>",
         "legendgroup": "Terpenoids-Monoterpenoids",
         "marker": {
          "color": "#77967a",
          "pattern": {
           "shape": ""
          }
         },
         "name": "Terpenoids-Monoterpenoids",
         "offsetgroup": "Terpenoids-Monoterpenoids",
         "orientation": "h",
         "showlegend": true,
         "textposition": "auto",
         "type": "bar",
         "x": [
          2,
          15
         ],
         "xaxis": "x",
         "y": [
          "<i>Atractylodes japonica</i>",
          "<i>Atractylodes lancea</i>"
         ],
         "yaxis": "y"
        },
        {
         "alignmentgroup": "True",
         "hovertemplate": "chemical_superclass=Terpenoids-Sesquiterpenoids<br>Recurrence=%{x}<br>y=%{y}<extra></extra>",
         "legendgroup": "Terpenoids-Sesquiterpenoids",
         "marker": {
          "color": "#618264",
          "pattern": {
           "shape": ""
          }
         },
         "name": "Terpenoids-Sesquiterpenoids",
         "offsetgroup": "Terpenoids-Sesquiterpenoids",
         "orientation": "h",
         "showlegend": true,
         "textposition": "auto",
         "type": "bar",
         "x": [
          1,
          21,
          69,
          27,
          4,
          1
         ],
         "xaxis": "x",
         "y": [
          "<i>Atractylodes chinensis</i>",
          "<i>Atractylodes japonica</i>",
          "<i>Atractylodes lancea</i>",
          "<i>Atractylodes macrocephala</i>",
          "<i>Ceiba pentandra</i>",
          "<i>Micromelum hirsutum</i>"
         ],
         "yaxis": "y"
        },
        {
         "alignmentgroup": "True",
         "hovertemplate": "chemical_superclass=Terpenoids-Steroids<br>Recurrence=%{x}<br>y=%{y}<extra></extra>",
         "legendgroup": "Terpenoids-Steroids",
         "marker": {
          "color": "#a4bfa6",
          "pattern": {
           "shape": ""
          }
         },
         "name": "Terpenoids-Steroids",
         "offsetgroup": "Terpenoids-Steroids",
         "orientation": "h",
         "showlegend": true,
         "textposition": "auto",
         "type": "bar",
         "x": [
          2,
          4,
          2,
          1,
          5
         ],
         "xaxis": "x",
         "y": [
          "<i>Atractylodes lancea</i>",
          "<i>Atractylodes macrocephala</i>",
          "<i>Ceiba pentandra</i>",
          "<i>Holoptelea integrifolia</i>",
          "<i>Rheum rhabarbarum</i>"
         ],
         "yaxis": "y"
        },
        {
         "alignmentgroup": "True",
         "hovertemplate": "chemical_superclass=Terpenoids-Triterpenoids<br>Recurrence=%{x}<br>y=%{y}<extra></extra>",
         "legendgroup": "Terpenoids-Triterpenoids",
         "marker": {
          "color": "#8daa90",
          "pattern": {
           "shape": ""
          }
         },
         "name": "Terpenoids-Triterpenoids",
         "offsetgroup": "Terpenoids-Triterpenoids",
         "orientation": "h",
         "showlegend": true,
         "textposition": "auto",
         "type": "bar",
         "x": [
          4,
          2,
          3,
          6,
          2,
          2
         ],
         "xaxis": "x",
         "y": [
          "<i>Atractylodes lancea</i>",
          "<i>Atractylodes macrocephala</i>",
          "<i>Bischofia javanica</i>",
          "<i>Holoptelea integrifolia</i>",
          "<i>Rheum rhabarbarum</i>",
          "<i>Tinospora baenzigeri</i>"
         ],
         "yaxis": "y"
        }
       ],
       "layout": {
        "barmode": "relative",
        "height": 1500,
        "legend": {
         "title": {
          "text": "chemical_superclass"
         },
         "tracegroupgap": 0
        },
        "plot_bgcolor": "white",
        "template": {
         "data": {
          "bar": [
           {
            "error_x": {
             "color": "#2a3f5f"
            },
            "error_y": {
             "color": "#2a3f5f"
            },
            "marker": {
             "line": {
              "color": "#E5ECF6",
              "width": 0.5
             },
             "pattern": {
              "fillmode": "overlay",
              "size": 10,
              "solidity": 0.2
             }
            },
            "type": "bar"
           }
          ],
          "barpolar": [
           {
            "marker": {
             "line": {
              "color": "#E5ECF6",
              "width": 0.5
             },
             "pattern": {
              "fillmode": "overlay",
              "size": 10,
              "solidity": 0.2
             }
            },
            "type": "barpolar"
           }
          ],
          "carpet": [
           {
            "aaxis": {
             "endlinecolor": "#2a3f5f",
             "gridcolor": "white",
             "linecolor": "white",
             "minorgridcolor": "white",
             "startlinecolor": "#2a3f5f"
            },
            "baxis": {
             "endlinecolor": "#2a3f5f",
             "gridcolor": "white",
             "linecolor": "white",
             "minorgridcolor": "white",
             "startlinecolor": "#2a3f5f"
            },
            "type": "carpet"
           }
          ],
          "choropleth": [
           {
            "colorbar": {
             "outlinewidth": 0,
             "ticks": ""
            },
            "type": "choropleth"
           }
          ],
          "contour": [
           {
            "colorbar": {
             "outlinewidth": 0,
             "ticks": ""
            },
            "colorscale": [
             [
              0,
              "#0d0887"
             ],
             [
              0.1111111111111111,
              "#46039f"
             ],
             [
              0.2222222222222222,
              "#7201a8"
             ],
             [
              0.3333333333333333,
              "#9c179e"
             ],
             [
              0.4444444444444444,
              "#bd3786"
             ],
             [
              0.5555555555555556,
              "#d8576b"
             ],
             [
              0.6666666666666666,
              "#ed7953"
             ],
             [
              0.7777777777777778,
              "#fb9f3a"
             ],
             [
              0.8888888888888888,
              "#fdca26"
             ],
             [
              1,
              "#f0f921"
             ]
            ],
            "type": "contour"
           }
          ],
          "contourcarpet": [
           {
            "colorbar": {
             "outlinewidth": 0,
             "ticks": ""
            },
            "type": "contourcarpet"
           }
          ],
          "heatmap": [
           {
            "colorbar": {
             "outlinewidth": 0,
             "ticks": ""
            },
            "colorscale": [
             [
              0,
              "#0d0887"
             ],
             [
              0.1111111111111111,
              "#46039f"
             ],
             [
              0.2222222222222222,
              "#7201a8"
             ],
             [
              0.3333333333333333,
              "#9c179e"
             ],
             [
              0.4444444444444444,
              "#bd3786"
             ],
             [
              0.5555555555555556,
              "#d8576b"
             ],
             [
              0.6666666666666666,
              "#ed7953"
             ],
             [
              0.7777777777777778,
              "#fb9f3a"
             ],
             [
              0.8888888888888888,
              "#fdca26"
             ],
             [
              1,
              "#f0f921"
             ]
            ],
            "type": "heatmap"
           }
          ],
          "heatmapgl": [
           {
            "colorbar": {
             "outlinewidth": 0,
             "ticks": ""
            },
            "colorscale": [
             [
              0,
              "#0d0887"
             ],
             [
              0.1111111111111111,
              "#46039f"
             ],
             [
              0.2222222222222222,
              "#7201a8"
             ],
             [
              0.3333333333333333,
              "#9c179e"
             ],
             [
              0.4444444444444444,
              "#bd3786"
             ],
             [
              0.5555555555555556,
              "#d8576b"
             ],
             [
              0.6666666666666666,
              "#ed7953"
             ],
             [
              0.7777777777777778,
              "#fb9f3a"
             ],
             [
              0.8888888888888888,
              "#fdca26"
             ],
             [
              1,
              "#f0f921"
             ]
            ],
            "type": "heatmapgl"
           }
          ],
          "histogram": [
           {
            "marker": {
             "pattern": {
              "fillmode": "overlay",
              "size": 10,
              "solidity": 0.2
             }
            },
            "type": "histogram"
           }
          ],
          "histogram2d": [
           {
            "colorbar": {
             "outlinewidth": 0,
             "ticks": ""
            },
            "colorscale": [
             [
              0,
              "#0d0887"
             ],
             [
              0.1111111111111111,
              "#46039f"
             ],
             [
              0.2222222222222222,
              "#7201a8"
             ],
             [
              0.3333333333333333,
              "#9c179e"
             ],
             [
              0.4444444444444444,
              "#bd3786"
             ],
             [
              0.5555555555555556,
              "#d8576b"
             ],
             [
              0.6666666666666666,
              "#ed7953"
             ],
             [
              0.7777777777777778,
              "#fb9f3a"
             ],
             [
              0.8888888888888888,
              "#fdca26"
             ],
             [
              1,
              "#f0f921"
             ]
            ],
            "type": "histogram2d"
           }
          ],
          "histogram2dcontour": [
           {
            "colorbar": {
             "outlinewidth": 0,
             "ticks": ""
            },
            "colorscale": [
             [
              0,
              "#0d0887"
             ],
             [
              0.1111111111111111,
              "#46039f"
             ],
             [
              0.2222222222222222,
              "#7201a8"
             ],
             [
              0.3333333333333333,
              "#9c179e"
             ],
             [
              0.4444444444444444,
              "#bd3786"
             ],
             [
              0.5555555555555556,
              "#d8576b"
             ],
             [
              0.6666666666666666,
              "#ed7953"
             ],
             [
              0.7777777777777778,
              "#fb9f3a"
             ],
             [
              0.8888888888888888,
              "#fdca26"
             ],
             [
              1,
              "#f0f921"
             ]
            ],
            "type": "histogram2dcontour"
           }
          ],
          "mesh3d": [
           {
            "colorbar": {
             "outlinewidth": 0,
             "ticks": ""
            },
            "type": "mesh3d"
           }
          ],
          "parcoords": [
           {
            "line": {
             "colorbar": {
              "outlinewidth": 0,
              "ticks": ""
             }
            },
            "type": "parcoords"
           }
          ],
          "pie": [
           {
            "automargin": true,
            "type": "pie"
           }
          ],
          "scatter": [
           {
            "fillpattern": {
             "fillmode": "overlay",
             "size": 10,
             "solidity": 0.2
            },
            "type": "scatter"
           }
          ],
          "scatter3d": [
           {
            "line": {
             "colorbar": {
              "outlinewidth": 0,
              "ticks": ""
             }
            },
            "marker": {
             "colorbar": {
              "outlinewidth": 0,
              "ticks": ""
             }
            },
            "type": "scatter3d"
           }
          ],
          "scattercarpet": [
           {
            "marker": {
             "colorbar": {
              "outlinewidth": 0,
              "ticks": ""
             }
            },
            "type": "scattercarpet"
           }
          ],
          "scattergeo": [
           {
            "marker": {
             "colorbar": {
              "outlinewidth": 0,
              "ticks": ""
             }
            },
            "type": "scattergeo"
           }
          ],
          "scattergl": [
           {
            "marker": {
             "colorbar": {
              "outlinewidth": 0,
              "ticks": ""
             }
            },
            "type": "scattergl"
           }
          ],
          "scattermapbox": [
           {
            "marker": {
             "colorbar": {
              "outlinewidth": 0,
              "ticks": ""
             }
            },
            "type": "scattermapbox"
           }
          ],
          "scatterpolar": [
           {
            "marker": {
             "colorbar": {
              "outlinewidth": 0,
              "ticks": ""
             }
            },
            "type": "scatterpolar"
           }
          ],
          "scatterpolargl": [
           {
            "marker": {
             "colorbar": {
              "outlinewidth": 0,
              "ticks": ""
             }
            },
            "type": "scatterpolargl"
           }
          ],
          "scatterternary": [
           {
            "marker": {
             "colorbar": {
              "outlinewidth": 0,
              "ticks": ""
             }
            },
            "type": "scatterternary"
           }
          ],
          "surface": [
           {
            "colorbar": {
             "outlinewidth": 0,
             "ticks": ""
            },
            "colorscale": [
             [
              0,
              "#0d0887"
             ],
             [
              0.1111111111111111,
              "#46039f"
             ],
             [
              0.2222222222222222,
              "#7201a8"
             ],
             [
              0.3333333333333333,
              "#9c179e"
             ],
             [
              0.4444444444444444,
              "#bd3786"
             ],
             [
              0.5555555555555556,
              "#d8576b"
             ],
             [
              0.6666666666666666,
              "#ed7953"
             ],
             [
              0.7777777777777778,
              "#fb9f3a"
             ],
             [
              0.8888888888888888,
              "#fdca26"
             ],
             [
              1,
              "#f0f921"
             ]
            ],
            "type": "surface"
           }
          ],
          "table": [
           {
            "cells": {
             "fill": {
              "color": "#EBF0F8"
             },
             "line": {
              "color": "white"
             }
            },
            "header": {
             "fill": {
              "color": "#C8D4E3"
             },
             "line": {
              "color": "white"
             }
            },
            "type": "table"
           }
          ]
         },
         "layout": {
          "annotationdefaults": {
           "arrowcolor": "#2a3f5f",
           "arrowhead": 0,
           "arrowwidth": 1
          },
          "autotypenumbers": "strict",
          "coloraxis": {
           "colorbar": {
            "outlinewidth": 0,
            "ticks": ""
           }
          },
          "colorscale": {
           "diverging": [
            [
             0,
             "#8e0152"
            ],
            [
             0.1,
             "#c51b7d"
            ],
            [
             0.2,
             "#de77ae"
            ],
            [
             0.3,
             "#f1b6da"
            ],
            [
             0.4,
             "#fde0ef"
            ],
            [
             0.5,
             "#f7f7f7"
            ],
            [
             0.6,
             "#e6f5d0"
            ],
            [
             0.7,
             "#b8e186"
            ],
            [
             0.8,
             "#7fbc41"
            ],
            [
             0.9,
             "#4d9221"
            ],
            [
             1,
             "#276419"
            ]
           ],
           "sequential": [
            [
             0,
             "#0d0887"
            ],
            [
             0.1111111111111111,
             "#46039f"
            ],
            [
             0.2222222222222222,
             "#7201a8"
            ],
            [
             0.3333333333333333,
             "#9c179e"
            ],
            [
             0.4444444444444444,
             "#bd3786"
            ],
            [
             0.5555555555555556,
             "#d8576b"
            ],
            [
             0.6666666666666666,
             "#ed7953"
            ],
            [
             0.7777777777777778,
             "#fb9f3a"
            ],
            [
             0.8888888888888888,
             "#fdca26"
            ],
            [
             1,
             "#f0f921"
            ]
           ],
           "sequentialminus": [
            [
             0,
             "#0d0887"
            ],
            [
             0.1111111111111111,
             "#46039f"
            ],
            [
             0.2222222222222222,
             "#7201a8"
            ],
            [
             0.3333333333333333,
             "#9c179e"
            ],
            [
             0.4444444444444444,
             "#bd3786"
            ],
            [
             0.5555555555555556,
             "#d8576b"
            ],
            [
             0.6666666666666666,
             "#ed7953"
            ],
            [
             0.7777777777777778,
             "#fb9f3a"
            ],
            [
             0.8888888888888888,
             "#fdca26"
            ],
            [
             1,
             "#f0f921"
            ]
           ]
          },
          "colorway": [
           "#636efa",
           "#EF553B",
           "#00cc96",
           "#ab63fa",
           "#FFA15A",
           "#19d3f3",
           "#FF6692",
           "#B6E880",
           "#FF97FF",
           "#FECB52"
          ],
          "font": {
           "color": "#2a3f5f"
          },
          "geo": {
           "bgcolor": "white",
           "lakecolor": "white",
           "landcolor": "#E5ECF6",
           "showlakes": true,
           "showland": true,
           "subunitcolor": "white"
          },
          "hoverlabel": {
           "align": "left"
          },
          "hovermode": "closest",
          "mapbox": {
           "style": "light"
          },
          "paper_bgcolor": "white",
          "plot_bgcolor": "#E5ECF6",
          "polar": {
           "angularaxis": {
            "gridcolor": "white",
            "linecolor": "white",
            "ticks": ""
           },
           "bgcolor": "#E5ECF6",
           "radialaxis": {
            "gridcolor": "white",
            "linecolor": "white",
            "ticks": ""
           }
          },
          "scene": {
           "xaxis": {
            "backgroundcolor": "#E5ECF6",
            "gridcolor": "white",
            "gridwidth": 2,
            "linecolor": "white",
            "showbackground": true,
            "ticks": "",
            "zerolinecolor": "white"
           },
           "yaxis": {
            "backgroundcolor": "#E5ECF6",
            "gridcolor": "white",
            "gridwidth": 2,
            "linecolor": "white",
            "showbackground": true,
            "ticks": "",
            "zerolinecolor": "white"
           },
           "zaxis": {
            "backgroundcolor": "#E5ECF6",
            "gridcolor": "white",
            "gridwidth": 2,
            "linecolor": "white",
            "showbackground": true,
            "ticks": "",
            "zerolinecolor": "white"
           }
          },
          "shapedefaults": {
           "line": {
            "color": "#2a3f5f"
           }
          },
          "ternary": {
           "aaxis": {
            "gridcolor": "white",
            "linecolor": "white",
            "ticks": ""
           },
           "baxis": {
            "gridcolor": "white",
            "linecolor": "white",
            "ticks": ""
           },
           "bgcolor": "#E5ECF6",
           "caxis": {
            "gridcolor": "white",
            "linecolor": "white",
            "ticks": ""
           }
          },
          "title": {
           "x": 0.05
          },
          "xaxis": {
           "automargin": true,
           "gridcolor": "white",
           "linecolor": "white",
           "ticks": "",
           "title": {
            "standoff": 15
           },
           "zerolinecolor": "white",
           "zerolinewidth": 2
          },
          "yaxis": {
           "automargin": true,
           "gridcolor": "white",
           "linecolor": "white",
           "ticks": "",
           "title": {
            "standoff": 15
           },
           "zerolinecolor": "white",
           "zerolinewidth": 2
          }
         }
        },
        "title": {
         "text": "Stacked Barplot of Predicted Superclasses Ocurrence for Species"
        },
        "width": 1500,
        "xaxis": {
         "anchor": "y",
         "domain": [
          0,
          1
         ],
         "title": {
          "text": "Recurrence"
         }
        },
        "yaxis": {
         "anchor": "x",
         "domain": [
          0,
          1
         ],
         "title": {
          "text": "<i>Species<i>"
         }
        }
       }
      },
      "text/html": [
       "<div>                            <div id=\"60f3e08f-f52e-4d3a-b2f6-1b8a66eb8dc5\" class=\"plotly-graph-div\" style=\"height:1500px; width:1500px;\"></div>            <script type=\"text/javascript\">                require([\"plotly\"], function(Plotly) {                    window.PLOTLYENV=window.PLOTLYENV || {};                                    if (document.getElementById(\"60f3e08f-f52e-4d3a-b2f6-1b8a66eb8dc5\")) {                    Plotly.newPlot(                        \"60f3e08f-f52e-4d3a-b2f6-1b8a66eb8dc5\",                        [{\"alignmentgroup\":\"True\",\"hovertemplate\":\"chemical_superclass=Alkaloids-Pseudoalkaloids\\u003cbr\\u003eRecurrence=%{x}\\u003cbr\\u003ey=%{y}\\u003cextra\\u003e\\u003c\\u002fextra\\u003e\",\"legendgroup\":\"Alkaloids-Pseudoalkaloids\",\"marker\":{\"color\":\"#5cbce2\",\"pattern\":{\"shape\":\"\"}},\"name\":\"Alkaloids-Pseudoalkaloids\",\"offsetgroup\":\"Alkaloids-Pseudoalkaloids\",\"orientation\":\"h\",\"showlegend\":true,\"textposition\":\"auto\",\"x\":[1],\"xaxis\":\"x\",\"y\":[\"\\u003ci\\u003eAtractylodes lancea\\u003c\\u002fi\\u003e\"],\"yaxis\":\"y\",\"type\":\"bar\"},{\"alignmentgroup\":\"True\",\"hovertemplate\":\"chemical_superclass=Alkaloids-Tryptophan alkaloids\\u003cbr\\u003eRecurrence=%{x}\\u003cbr\\u003ey=%{y}\\u003cextra\\u003e\\u003c\\u002fextra\\u003e\",\"legendgroup\":\"Alkaloids-Tryptophan alkaloids\",\"marker\":{\"color\":\"#305f72\",\"pattern\":{\"shape\":\"\"}},\"name\":\"Alkaloids-Tryptophan alkaloids\",\"offsetgroup\":\"Alkaloids-Tryptophan alkaloids\",\"orientation\":\"h\",\"showlegend\":true,\"textposition\":\"auto\",\"x\":[60,7],\"xaxis\":\"x\",\"y\":[\"\\u003ci\\u003eMelodinus cochinchinensis\\u003c\\u002fi\\u003e\",\"\\u003ci\\u003eMicromelum hirsutum\\u003c\\u002fi\\u003e\"],\"yaxis\":\"y\",\"type\":\"bar\"},{\"alignmentgroup\":\"True\",\"hovertemplate\":\"chemical_superclass=Alkaloids-Tyrosine alkaloids\\u003cbr\\u003eRecurrence=%{x}\\u003cbr\\u003ey=%{y}\\u003cextra\\u003e\\u003c\\u002fextra\\u003e\",\"legendgroup\":\"Alkaloids-Tyrosine alkaloids\",\"marker\":{\"color\":\"#468eaa\",\"pattern\":{\"shape\":\"\"}},\"name\":\"Alkaloids-Tyrosine alkaloids\",\"offsetgroup\":\"Alkaloids-Tyrosine alkaloids\",\"orientation\":\"h\",\"showlegend\":true,\"textposition\":\"auto\",\"x\":[4],\"xaxis\":\"x\",\"y\":[\"\\u003ci\\u003eTinospora baenzigeri\\u003c\\u002fi\\u003e\"],\"yaxis\":\"y\",\"type\":\"bar\"},{\"alignmentgroup\":\"True\",\"hovertemplate\":\"chemical_superclass=Amino acids and Peptides-Small peptides\\u003cbr\\u003eRecurrence=%{x}\\u003cbr\\u003ey=%{y}\\u003cextra\\u003e\\u003c\\u002fextra\\u003e\",\"legendgroup\":\"Amino acids and Peptides-Small peptides\",\"marker\":{\"color\":\"#f4e869\",\"pattern\":{\"shape\":\"\"}},\"name\":\"Amino acids and Peptides-Small peptides\",\"offsetgroup\":\"Amino acids and Peptides-Small peptides\",\"orientation\":\"h\",\"showlegend\":true,\"textposition\":\"auto\",\"x\":[2,4],\"xaxis\":\"x\",\"y\":[\"\\u003ci\\u003eAtractylodes japonica\\u003c\\u002fi\\u003e\",\"\\u003ci\\u003eAtractylodes lancea\\u003c\\u002fi\\u003e\"],\"yaxis\":\"y\",\"type\":\"bar\"},{\"alignmentgroup\":\"True\",\"hovertemplate\":\"chemical_superclass=Amino acids and Peptides-\\u03b2-lactams\\u003cbr\\u003eRecurrence=%{x}\\u003cbr\\u003ey=%{y}\\u003cextra\\u003e\\u003c\\u002fextra\\u003e\",\"legendgroup\":\"Amino acids and Peptides-\\u03b2-lactams\",\"marker\":{\"color\":\"#FF6692\",\"pattern\":{\"shape\":\"\"}},\"name\":\"Amino acids and Peptides-\\u03b2-lactams\",\"offsetgroup\":\"Amino acids and Peptides-\\u03b2-lactams\",\"orientation\":\"h\",\"showlegend\":true,\"textposition\":\"auto\",\"x\":[1],\"xaxis\":\"x\",\"y\":[\"\\u003ci\\u003eMelodinus cochinchinensis\\u003c\\u002fi\\u003e\"],\"yaxis\":\"y\",\"type\":\"bar\"},{\"alignmentgroup\":\"True\",\"hovertemplate\":\"chemical_superclass=Carbohydrates-Nucleosides\\u003cbr\\u003eRecurrence=%{x}\\u003cbr\\u003ey=%{y}\\u003cextra\\u003e\\u003c\\u002fextra\\u003e\",\"legendgroup\":\"Carbohydrates-Nucleosides\",\"marker\":{\"color\":\"#c8ae7d\",\"pattern\":{\"shape\":\"\"}},\"name\":\"Carbohydrates-Nucleosides\",\"offsetgroup\":\"Carbohydrates-Nucleosides\",\"orientation\":\"h\",\"showlegend\":true,\"textposition\":\"auto\",\"x\":[4],\"xaxis\":\"x\",\"y\":[\"\\u003ci\\u003eAtractylodes lancea\\u003c\\u002fi\\u003e\"],\"yaxis\":\"y\",\"type\":\"bar\"},{\"alignmentgroup\":\"True\",\"hovertemplate\":\"chemical_superclass=Carbohydrates-Saccharides\\u003cbr\\u003eRecurrence=%{x}\\u003cbr\\u003ey=%{y}\\u003cextra\\u003e\\u003c\\u002fextra\\u003e\",\"legendgroup\":\"Carbohydrates-Saccharides\",\"marker\":{\"color\":\"#65451f\",\"pattern\":{\"shape\":\"\"}},\"name\":\"Carbohydrates-Saccharides\",\"offsetgroup\":\"Carbohydrates-Saccharides\",\"orientation\":\"h\",\"showlegend\":true,\"textposition\":\"auto\",\"x\":[1,1],\"xaxis\":\"x\",\"y\":[\"\\u003ci\\u003eGnetum edule\\u003c\\u002fi\\u003e\",\"\\u003ci\\u003ePachyrhizus erosus\\u003c\\u002fi\\u003e\"],\"yaxis\":\"y\",\"type\":\"bar\"},{\"alignmentgroup\":\"True\",\"hovertemplate\":\"chemical_superclass=Fatty acids-Fatty Acids and Conjugates\\u003cbr\\u003eRecurrence=%{x}\\u003cbr\\u003ey=%{y}\\u003cextra\\u003e\\u003c\\u002fextra\\u003e\",\"legendgroup\":\"Fatty acids-Fatty Acids and Conjugates\",\"marker\":{\"color\":\"#ff9209\",\"pattern\":{\"shape\":\"\"}},\"name\":\"Fatty acids-Fatty Acids and Conjugates\",\"offsetgroup\":\"Fatty acids-Fatty Acids and Conjugates\",\"orientation\":\"h\",\"showlegend\":true,\"textposition\":\"auto\",\"x\":[5,1,1,9,1],\"xaxis\":\"x\",\"y\":[\"\\u003ci\\u003eAtractylodes lancea\\u003c\\u002fi\\u003e\",\"\\u003ci\\u003eAtractylodes macrocephala\\u003c\\u002fi\\u003e\",\"\\u003ci\\u003eCeiba pentandra\\u003c\\u002fi\\u003e\",\"\\u003ci\\u003eGnetum edule\\u003c\\u002fi\\u003e\",\"\\u003ci\\u003eRheum rhabarbarum\\u003c\\u002fi\\u003e\"],\"yaxis\":\"y\",\"type\":\"bar\"},{\"alignmentgroup\":\"True\",\"hovertemplate\":\"chemical_superclass=Fatty acids-Fatty acyls\\u003cbr\\u003eRecurrence=%{x}\\u003cbr\\u003ey=%{y}\\u003cextra\\u003e\\u003c\\u002fextra\\u003e\",\"legendgroup\":\"Fatty acids-Fatty acyls\",\"marker\":{\"color\":\"#ff7f16\",\"pattern\":{\"shape\":\"\"}},\"name\":\"Fatty acids-Fatty acyls\",\"offsetgroup\":\"Fatty acids-Fatty acyls\",\"orientation\":\"h\",\"showlegend\":true,\"textposition\":\"auto\",\"x\":[1,5,4,1,2],\"xaxis\":\"x\",\"y\":[\"\\u003ci\\u003eAtractylodes chinensis\\u003c\\u002fi\\u003e\",\"\\u003ci\\u003eAtractylodes lancea\\u003c\\u002fi\\u003e\",\"\\u003ci\\u003eAtractylodes macrocephala\\u003c\\u002fi\\u003e\",\"\\u003ci\\u003eBischofia javanica\\u003c\\u002fi\\u003e\",\"\\u003ci\\u003eHoloptelea integrifolia\\u003c\\u002fi\\u003e\"],\"yaxis\":\"y\",\"type\":\"bar\"},{\"alignmentgroup\":\"True\",\"hovertemplate\":\"chemical_superclass=Fatty acids-Fatty esters\\u003cbr\\u003eRecurrence=%{x}\\u003cbr\\u003ey=%{y}\\u003cextra\\u003e\\u003c\\u002fextra\\u003e\",\"legendgroup\":\"Fatty acids-Fatty esters\",\"marker\":{\"color\":\"#ff6c22\",\"pattern\":{\"shape\":\"\"}},\"name\":\"Fatty acids-Fatty esters\",\"offsetgroup\":\"Fatty acids-Fatty esters\",\"orientation\":\"h\",\"showlegend\":true,\"textposition\":\"auto\",\"x\":[1,2,9,1,2],\"xaxis\":\"x\",\"y\":[\"\\u003ci\\u003eAtractylodes chinensis\\u003c\\u002fi\\u003e\",\"\\u003ci\\u003eAtractylodes japonica\\u003c\\u002fi\\u003e\",\"\\u003ci\\u003eAtractylodes lancea\\u003c\\u002fi\\u003e\",\"\\u003ci\\u003eAtractylodes macrocephala\\u003c\\u002fi\\u003e\",\"\\u003ci\\u003eMicromelum hirsutum\\u003c\\u002fi\\u003e\"],\"yaxis\":\"y\",\"type\":\"bar\"},{\"alignmentgroup\":\"True\",\"hovertemplate\":\"chemical_superclass=Polyketides-Aromatic polyketides\\u003cbr\\u003eRecurrence=%{x}\\u003cbr\\u003ey=%{y}\\u003cextra\\u003e\\u003c\\u002fextra\\u003e\",\"legendgroup\":\"Polyketides-Aromatic polyketides\",\"marker\":{\"color\":\"#ef4b4b\",\"pattern\":{\"shape\":\"\"}},\"name\":\"Polyketides-Aromatic polyketides\",\"offsetgroup\":\"Polyketides-Aromatic polyketides\",\"orientation\":\"h\",\"showlegend\":true,\"textposition\":\"auto\",\"x\":[1,1],\"xaxis\":\"x\",\"y\":[\"\\u003ci\\u003eAtractylodes macrocephala\\u003c\\u002fi\\u003e\",\"\\u003ci\\u003eMelodinus cochinchinensis\\u003c\\u002fi\\u003e\"],\"yaxis\":\"y\",\"type\":\"bar\"},{\"alignmentgroup\":\"True\",\"hovertemplate\":\"chemical_superclass=Polyketides-Meroterpenoids\\u003cbr\\u003eRecurrence=%{x}\\u003cbr\\u003ey=%{y}\\u003cextra\\u003e\\u003c\\u002fextra\\u003e\",\"legendgroup\":\"Polyketides-Meroterpenoids\",\"marker\":{\"color\":\"#ed7860\",\"pattern\":{\"shape\":\"\"}},\"name\":\"Polyketides-Meroterpenoids\",\"offsetgroup\":\"Polyketides-Meroterpenoids\",\"orientation\":\"h\",\"showlegend\":true,\"textposition\":\"auto\",\"x\":[6],\"xaxis\":\"x\",\"y\":[\"\\u003ci\\u003eAtractylodes lancea\\u003c\\u002fi\\u003e\"],\"yaxis\":\"y\",\"type\":\"bar\"},{\"alignmentgroup\":\"True\",\"hovertemplate\":\"chemical_superclass=Polyketides-Naphthalenes\\u003cbr\\u003eRecurrence=%{x}\\u003cbr\\u003ey=%{y}\\u003cextra\\u003e\\u003c\\u002fextra\\u003e\",\"legendgroup\":\"Polyketides-Naphthalenes\",\"marker\":{\"color\":\"#ec8f6a\",\"pattern\":{\"shape\":\"\"}},\"name\":\"Polyketides-Naphthalenes\",\"offsetgroup\":\"Polyketides-Naphthalenes\",\"orientation\":\"h\",\"showlegend\":true,\"textposition\":\"auto\",\"x\":[1],\"xaxis\":\"x\",\"y\":[\"\\u003ci\\u003eRheum rhabarbarum\\u003c\\u002fi\\u003e\"],\"yaxis\":\"y\",\"type\":\"bar\"},{\"alignmentgroup\":\"True\",\"hovertemplate\":\"chemical_superclass=Polyketides-Polycyclic aromatic polyketides\\u003cbr\\u003eRecurrence=%{x}\\u003cbr\\u003ey=%{y}\\u003cextra\\u003e\\u003c\\u002fextra\\u003e\",\"legendgroup\":\"Polyketides-Polycyclic aromatic polyketides\",\"marker\":{\"color\":\"#ee6255\",\"pattern\":{\"shape\":\"\"}},\"name\":\"Polyketides-Polycyclic aromatic polyketides\",\"offsetgroup\":\"Polyketides-Polycyclic aromatic polyketides\",\"orientation\":\"h\",\"showlegend\":true,\"textposition\":\"auto\",\"x\":[10,6],\"xaxis\":\"x\",\"y\":[\"\\u003ci\\u003eRheum officinale\\u003c\\u002fi\\u003e\",\"\\u003ci\\u003eRheum rhabarbarum\\u003c\\u002fi\\u003e\"],\"yaxis\":\"y\",\"type\":\"bar\"},{\"alignmentgroup\":\"True\",\"hovertemplate\":\"chemical_superclass=Shikimates and Phenylpropanoids-Coumarins\\u003cbr\\u003eRecurrence=%{x}\\u003cbr\\u003ey=%{y}\\u003cextra\\u003e\\u003c\\u002fextra\\u003e\",\"legendgroup\":\"Shikimates and Phenylpropanoids-Coumarins\",\"marker\":{\"color\":\"#cba0ae\",\"pattern\":{\"shape\":\"\"}},\"name\":\"Shikimates and Phenylpropanoids-Coumarins\",\"offsetgroup\":\"Shikimates and Phenylpropanoids-Coumarins\",\"orientation\":\"h\",\"showlegend\":true,\"textposition\":\"auto\",\"x\":[3,2,2,1],\"xaxis\":\"x\",\"y\":[\"\\u003ci\\u003eAtractylodes lancea\\u003c\\u002fi\\u003e\",\"\\u003ci\\u003eAtractylodes macrocephala\\u003c\\u002fi\\u003e\",\"\\u003ci\\u003eMicromelum hirsutum\\u003c\\u002fi\\u003e\",\"\\u003ci\\u003ePachyrhizus erosus\\u003c\\u002fi\\u003e\"],\"yaxis\":\"y\",\"type\":\"bar\"},{\"alignmentgroup\":\"True\",\"hovertemplate\":\"chemical_superclass=Shikimates and Phenylpropanoids-Flavonoids\\u003cbr\\u003eRecurrence=%{x}\\u003cbr\\u003ey=%{y}\\u003cextra\\u003e\\u003c\\u002fextra\\u003e\",\"legendgroup\":\"Shikimates and Phenylpropanoids-Flavonoids\",\"marker\":{\"color\":\"#a57a9d\",\"pattern\":{\"shape\":\"\"}},\"name\":\"Shikimates and Phenylpropanoids-Flavonoids\",\"offsetgroup\":\"Shikimates and Phenylpropanoids-Flavonoids\",\"orientation\":\"h\",\"showlegend\":true,\"textposition\":\"auto\",\"x\":[1,3,6,1,2,1,3,6,1],\"xaxis\":\"x\",\"y\":[\"\\u003ci\\u003eAtractylodes lancea\\u003c\\u002fi\\u003e\",\"\\u003ci\\u003eAtractylodes macrocephala\\u003c\\u002fi\\u003e\",\"\\u003ci\\u003eBischofia javanica\\u003c\\u002fi\\u003e\",\"\\u003ci\\u003eCeiba pentandra\\u003c\\u002fi\\u003e\",\"\\u003ci\\u003eGnetum edule\\u003c\\u002fi\\u003e\",\"\\u003ci\\u003eMicromelum hirsutum\\u003c\\u002fi\\u003e\",\"\\u003ci\\u003eRheum officinale\\u003c\\u002fi\\u003e\",\"\\u003ci\\u003eRheum rhabarbarum\\u003c\\u002fi\\u003e\",\"\\u003ci\\u003eShorea roxburghii\\u003c\\u002fi\\u003e\"],\"yaxis\":\"y\",\"type\":\"bar\"},{\"alignmentgroup\":\"True\",\"hovertemplate\":\"chemical_superclass=Shikimates and Phenylpropanoids-Isoflavonoids\\u003cbr\\u003eRecurrence=%{x}\\u003cbr\\u003ey=%{y}\\u003cextra\\u003e\\u003c\\u002fextra\\u003e\",\"legendgroup\":\"Shikimates and Phenylpropanoids-Isoflavonoids\",\"marker\":{\"color\":\"#b88da5\",\"pattern\":{\"shape\":\"\"}},\"name\":\"Shikimates and Phenylpropanoids-Isoflavonoids\",\"offsetgroup\":\"Shikimates and Phenylpropanoids-Isoflavonoids\",\"orientation\":\"h\",\"showlegend\":true,\"textposition\":\"auto\",\"x\":[5,15],\"xaxis\":\"x\",\"y\":[\"\\u003ci\\u003eCeiba pentandra\\u003c\\u002fi\\u003e\",\"\\u003ci\\u003ePachyrhizus erosus\\u003c\\u002fi\\u003e\"],\"yaxis\":\"y\",\"type\":\"bar\"},{\"alignmentgroup\":\"True\",\"hovertemplate\":\"chemical_superclass=Shikimates and Phenylpropanoids-Phenolic acids (C6-C1)\\u003cbr\\u003eRecurrence=%{x}\\u003cbr\\u003ey=%{y}\\u003cextra\\u003e\\u003c\\u002fextra\\u003e\",\"legendgroup\":\"Shikimates and Phenylpropanoids-Phenolic acids (C6-C1)\",\"marker\":{\"color\":\"#B6E880\",\"pattern\":{\"shape\":\"\"}},\"name\":\"Shikimates and Phenylpropanoids-Phenolic acids (C6-C1)\",\"offsetgroup\":\"Shikimates and Phenylpropanoids-Phenolic acids (C6-C1)\",\"orientation\":\"h\",\"showlegend\":true,\"textposition\":\"auto\",\"x\":[8,7],\"xaxis\":\"x\",\"y\":[\"\\u003ci\\u003eBischofia javanica\\u003c\\u002fi\\u003e\",\"\\u003ci\\u003eRheum officinale\\u003c\\u002fi\\u003e\"],\"yaxis\":\"y\",\"type\":\"bar\"},{\"alignmentgroup\":\"True\",\"hovertemplate\":\"chemical_superclass=Shikimates and Phenylpropanoids-Phenylethanoids (C6-C2)\\u003cbr\\u003eRecurrence=%{x}\\u003cbr\\u003ey=%{y}\\u003cextra\\u003e\\u003c\\u002fextra\\u003e\",\"legendgroup\":\"Shikimates and Phenylpropanoids-Phenylethanoids (C6-C2)\",\"marker\":{\"color\":\"#FF97FF\",\"pattern\":{\"shape\":\"\"}},\"name\":\"Shikimates and Phenylpropanoids-Phenylethanoids (C6-C2)\",\"offsetgroup\":\"Shikimates and Phenylpropanoids-Phenylethanoids (C6-C2)\",\"orientation\":\"h\",\"showlegend\":true,\"textposition\":\"auto\",\"x\":[4,4],\"xaxis\":\"x\",\"y\":[\"\\u003ci\\u003eAtractylodes japonica\\u003c\\u002fi\\u003e\",\"\\u003ci\\u003eAtractylodes lancea\\u003c\\u002fi\\u003e\"],\"yaxis\":\"y\",\"type\":\"bar\"},{\"alignmentgroup\":\"True\",\"hovertemplate\":\"chemical_superclass=Shikimates and Phenylpropanoids-Phenylpropanoids (C6-C3)\\u003cbr\\u003eRecurrence=%{x}\\u003cbr\\u003ey=%{y}\\u003cextra\\u003e\\u003c\\u002fextra\\u003e\",\"legendgroup\":\"Shikimates and Phenylpropanoids-Phenylpropanoids (C6-C3)\",\"marker\":{\"color\":\"#FECB52\",\"pattern\":{\"shape\":\"\"}},\"name\":\"Shikimates and Phenylpropanoids-Phenylpropanoids (C6-C3)\",\"offsetgroup\":\"Shikimates and Phenylpropanoids-Phenylpropanoids (C6-C3)\",\"orientation\":\"h\",\"showlegend\":true,\"textposition\":\"auto\",\"x\":[1,2,3,3],\"xaxis\":\"x\",\"y\":[\"\\u003ci\\u003eAtractylodes japonica\\u003c\\u002fi\\u003e\",\"\\u003ci\\u003eAtractylodes lancea\\u003c\\u002fi\\u003e\",\"\\u003ci\\u003eAtractylodes macrocephala\\u003c\\u002fi\\u003e\",\"\\u003ci\\u003eRheum rhabarbarum\\u003c\\u002fi\\u003e\"],\"yaxis\":\"y\",\"type\":\"bar\"},{\"alignmentgroup\":\"True\",\"hovertemplate\":\"chemical_superclass=Shikimates and Phenylpropanoids-Stilbenoids\\u003cbr\\u003eRecurrence=%{x}\\u003cbr\\u003ey=%{y}\\u003cextra\\u003e\\u003c\\u002fextra\\u003e\",\"legendgroup\":\"Shikimates and Phenylpropanoids-Stilbenoids\",\"marker\":{\"color\":\"#936894\",\"pattern\":{\"shape\":\"\"}},\"name\":\"Shikimates and Phenylpropanoids-Stilbenoids\",\"offsetgroup\":\"Shikimates and Phenylpropanoids-Stilbenoids\",\"orientation\":\"h\",\"showlegend\":true,\"textposition\":\"auto\",\"x\":[13,3,8,21,12],\"xaxis\":\"x\",\"y\":[\"\\u003ci\\u003eGnetum edule\\u003c\\u002fi\\u003e\",\"\\u003ci\\u003eHopea chinensis\\u003c\\u002fi\\u003e\",\"\\u003ci\\u003eRheum officinale\\u003c\\u002fi\\u003e\",\"\\u003ci\\u003eRheum rhabarbarum\\u003c\\u002fi\\u003e\",\"\\u003ci\\u003eShorea roxburghii\\u003c\\u002fi\\u003e\"],\"yaxis\":\"y\",\"type\":\"bar\"},{\"alignmentgroup\":\"True\",\"hovertemplate\":\"chemical_superclass=Terpenoids-Diterpenoids\\u003cbr\\u003eRecurrence=%{x}\\u003cbr\\u003ey=%{y}\\u003cextra\\u003e\\u003c\\u002fextra\\u003e\",\"legendgroup\":\"Terpenoids-Diterpenoids\",\"marker\":{\"color\":\"#bad3bc\",\"pattern\":{\"shape\":\"\"}},\"name\":\"Terpenoids-Diterpenoids\",\"offsetgroup\":\"Terpenoids-Diterpenoids\",\"orientation\":\"h\",\"showlegend\":true,\"textposition\":\"auto\",\"x\":[25,2,3],\"xaxis\":\"x\",\"y\":[\"\\u003ci\\u003eErythrophleum suaveolens\\u003c\\u002fi\\u003e\",\"\\u003ci\\u003eMelodinus cochinchinensis\\u003c\\u002fi\\u003e\",\"\\u003ci\\u003eTinospora baenzigeri\\u003c\\u002fi\\u003e\"],\"yaxis\":\"y\",\"type\":\"bar\"},{\"alignmentgroup\":\"True\",\"hovertemplate\":\"chemical_superclass=Terpenoids-Meroterpenoids\\u003cbr\\u003eRecurrence=%{x}\\u003cbr\\u003ey=%{y}\\u003cextra\\u003e\\u003c\\u002fextra\\u003e\",\"legendgroup\":\"Terpenoids-Meroterpenoids\",\"marker\":{\"color\":\"#d0e7d2\",\"pattern\":{\"shape\":\"\"}},\"name\":\"Terpenoids-Meroterpenoids\",\"offsetgroup\":\"Terpenoids-Meroterpenoids\",\"orientation\":\"h\",\"showlegend\":true,\"textposition\":\"auto\",\"x\":[1],\"xaxis\":\"x\",\"y\":[\"\\u003ci\\u003eAtractylodes macrocephala\\u003c\\u002fi\\u003e\"],\"yaxis\":\"y\",\"type\":\"bar\"},{\"alignmentgroup\":\"True\",\"hovertemplate\":\"chemical_superclass=Terpenoids-Monoterpenoids\\u003cbr\\u003eRecurrence=%{x}\\u003cbr\\u003ey=%{y}\\u003cextra\\u003e\\u003c\\u002fextra\\u003e\",\"legendgroup\":\"Terpenoids-Monoterpenoids\",\"marker\":{\"color\":\"#77967a\",\"pattern\":{\"shape\":\"\"}},\"name\":\"Terpenoids-Monoterpenoids\",\"offsetgroup\":\"Terpenoids-Monoterpenoids\",\"orientation\":\"h\",\"showlegend\":true,\"textposition\":\"auto\",\"x\":[2,15],\"xaxis\":\"x\",\"y\":[\"\\u003ci\\u003eAtractylodes japonica\\u003c\\u002fi\\u003e\",\"\\u003ci\\u003eAtractylodes lancea\\u003c\\u002fi\\u003e\"],\"yaxis\":\"y\",\"type\":\"bar\"},{\"alignmentgroup\":\"True\",\"hovertemplate\":\"chemical_superclass=Terpenoids-Sesquiterpenoids\\u003cbr\\u003eRecurrence=%{x}\\u003cbr\\u003ey=%{y}\\u003cextra\\u003e\\u003c\\u002fextra\\u003e\",\"legendgroup\":\"Terpenoids-Sesquiterpenoids\",\"marker\":{\"color\":\"#618264\",\"pattern\":{\"shape\":\"\"}},\"name\":\"Terpenoids-Sesquiterpenoids\",\"offsetgroup\":\"Terpenoids-Sesquiterpenoids\",\"orientation\":\"h\",\"showlegend\":true,\"textposition\":\"auto\",\"x\":[1,21,69,27,4,1],\"xaxis\":\"x\",\"y\":[\"\\u003ci\\u003eAtractylodes chinensis\\u003c\\u002fi\\u003e\",\"\\u003ci\\u003eAtractylodes japonica\\u003c\\u002fi\\u003e\",\"\\u003ci\\u003eAtractylodes lancea\\u003c\\u002fi\\u003e\",\"\\u003ci\\u003eAtractylodes macrocephala\\u003c\\u002fi\\u003e\",\"\\u003ci\\u003eCeiba pentandra\\u003c\\u002fi\\u003e\",\"\\u003ci\\u003eMicromelum hirsutum\\u003c\\u002fi\\u003e\"],\"yaxis\":\"y\",\"type\":\"bar\"},{\"alignmentgroup\":\"True\",\"hovertemplate\":\"chemical_superclass=Terpenoids-Steroids\\u003cbr\\u003eRecurrence=%{x}\\u003cbr\\u003ey=%{y}\\u003cextra\\u003e\\u003c\\u002fextra\\u003e\",\"legendgroup\":\"Terpenoids-Steroids\",\"marker\":{\"color\":\"#a4bfa6\",\"pattern\":{\"shape\":\"\"}},\"name\":\"Terpenoids-Steroids\",\"offsetgroup\":\"Terpenoids-Steroids\",\"orientation\":\"h\",\"showlegend\":true,\"textposition\":\"auto\",\"x\":[2,4,2,1,5],\"xaxis\":\"x\",\"y\":[\"\\u003ci\\u003eAtractylodes lancea\\u003c\\u002fi\\u003e\",\"\\u003ci\\u003eAtractylodes macrocephala\\u003c\\u002fi\\u003e\",\"\\u003ci\\u003eCeiba pentandra\\u003c\\u002fi\\u003e\",\"\\u003ci\\u003eHoloptelea integrifolia\\u003c\\u002fi\\u003e\",\"\\u003ci\\u003eRheum rhabarbarum\\u003c\\u002fi\\u003e\"],\"yaxis\":\"y\",\"type\":\"bar\"},{\"alignmentgroup\":\"True\",\"hovertemplate\":\"chemical_superclass=Terpenoids-Triterpenoids\\u003cbr\\u003eRecurrence=%{x}\\u003cbr\\u003ey=%{y}\\u003cextra\\u003e\\u003c\\u002fextra\\u003e\",\"legendgroup\":\"Terpenoids-Triterpenoids\",\"marker\":{\"color\":\"#8daa90\",\"pattern\":{\"shape\":\"\"}},\"name\":\"Terpenoids-Triterpenoids\",\"offsetgroup\":\"Terpenoids-Triterpenoids\",\"orientation\":\"h\",\"showlegend\":true,\"textposition\":\"auto\",\"x\":[4,2,3,6,2,2],\"xaxis\":\"x\",\"y\":[\"\\u003ci\\u003eAtractylodes lancea\\u003c\\u002fi\\u003e\",\"\\u003ci\\u003eAtractylodes macrocephala\\u003c\\u002fi\\u003e\",\"\\u003ci\\u003eBischofia javanica\\u003c\\u002fi\\u003e\",\"\\u003ci\\u003eHoloptelea integrifolia\\u003c\\u002fi\\u003e\",\"\\u003ci\\u003eRheum rhabarbarum\\u003c\\u002fi\\u003e\",\"\\u003ci\\u003eTinospora baenzigeri\\u003c\\u002fi\\u003e\"],\"yaxis\":\"y\",\"type\":\"bar\"}],                        {\"template\":{\"data\":{\"histogram2dcontour\":[{\"type\":\"histogram2dcontour\",\"colorbar\":{\"outlinewidth\":0,\"ticks\":\"\"},\"colorscale\":[[0.0,\"#0d0887\"],[0.1111111111111111,\"#46039f\"],[0.2222222222222222,\"#7201a8\"],[0.3333333333333333,\"#9c179e\"],[0.4444444444444444,\"#bd3786\"],[0.5555555555555556,\"#d8576b\"],[0.6666666666666666,\"#ed7953\"],[0.7777777777777778,\"#fb9f3a\"],[0.8888888888888888,\"#fdca26\"],[1.0,\"#f0f921\"]]}],\"choropleth\":[{\"type\":\"choropleth\",\"colorbar\":{\"outlinewidth\":0,\"ticks\":\"\"}}],\"histogram2d\":[{\"type\":\"histogram2d\",\"colorbar\":{\"outlinewidth\":0,\"ticks\":\"\"},\"colorscale\":[[0.0,\"#0d0887\"],[0.1111111111111111,\"#46039f\"],[0.2222222222222222,\"#7201a8\"],[0.3333333333333333,\"#9c179e\"],[0.4444444444444444,\"#bd3786\"],[0.5555555555555556,\"#d8576b\"],[0.6666666666666666,\"#ed7953\"],[0.7777777777777778,\"#fb9f3a\"],[0.8888888888888888,\"#fdca26\"],[1.0,\"#f0f921\"]]}],\"heatmap\":[{\"type\":\"heatmap\",\"colorbar\":{\"outlinewidth\":0,\"ticks\":\"\"},\"colorscale\":[[0.0,\"#0d0887\"],[0.1111111111111111,\"#46039f\"],[0.2222222222222222,\"#7201a8\"],[0.3333333333333333,\"#9c179e\"],[0.4444444444444444,\"#bd3786\"],[0.5555555555555556,\"#d8576b\"],[0.6666666666666666,\"#ed7953\"],[0.7777777777777778,\"#fb9f3a\"],[0.8888888888888888,\"#fdca26\"],[1.0,\"#f0f921\"]]}],\"heatmapgl\":[{\"type\":\"heatmapgl\",\"colorbar\":{\"outlinewidth\":0,\"ticks\":\"\"},\"colorscale\":[[0.0,\"#0d0887\"],[0.1111111111111111,\"#46039f\"],[0.2222222222222222,\"#7201a8\"],[0.3333333333333333,\"#9c179e\"],[0.4444444444444444,\"#bd3786\"],[0.5555555555555556,\"#d8576b\"],[0.6666666666666666,\"#ed7953\"],[0.7777777777777778,\"#fb9f3a\"],[0.8888888888888888,\"#fdca26\"],[1.0,\"#f0f921\"]]}],\"contourcarpet\":[{\"type\":\"contourcarpet\",\"colorbar\":{\"outlinewidth\":0,\"ticks\":\"\"}}],\"contour\":[{\"type\":\"contour\",\"colorbar\":{\"outlinewidth\":0,\"ticks\":\"\"},\"colorscale\":[[0.0,\"#0d0887\"],[0.1111111111111111,\"#46039f\"],[0.2222222222222222,\"#7201a8\"],[0.3333333333333333,\"#9c179e\"],[0.4444444444444444,\"#bd3786\"],[0.5555555555555556,\"#d8576b\"],[0.6666666666666666,\"#ed7953\"],[0.7777777777777778,\"#fb9f3a\"],[0.8888888888888888,\"#fdca26\"],[1.0,\"#f0f921\"]]}],\"surface\":[{\"type\":\"surface\",\"colorbar\":{\"outlinewidth\":0,\"ticks\":\"\"},\"colorscale\":[[0.0,\"#0d0887\"],[0.1111111111111111,\"#46039f\"],[0.2222222222222222,\"#7201a8\"],[0.3333333333333333,\"#9c179e\"],[0.4444444444444444,\"#bd3786\"],[0.5555555555555556,\"#d8576b\"],[0.6666666666666666,\"#ed7953\"],[0.7777777777777778,\"#fb9f3a\"],[0.8888888888888888,\"#fdca26\"],[1.0,\"#f0f921\"]]}],\"mesh3d\":[{\"type\":\"mesh3d\",\"colorbar\":{\"outlinewidth\":0,\"ticks\":\"\"}}],\"scatter\":[{\"fillpattern\":{\"fillmode\":\"overlay\",\"size\":10,\"solidity\":0.2},\"type\":\"scatter\"}],\"parcoords\":[{\"type\":\"parcoords\",\"line\":{\"colorbar\":{\"outlinewidth\":0,\"ticks\":\"\"}}}],\"scatterpolargl\":[{\"type\":\"scatterpolargl\",\"marker\":{\"colorbar\":{\"outlinewidth\":0,\"ticks\":\"\"}}}],\"bar\":[{\"error_x\":{\"color\":\"#2a3f5f\"},\"error_y\":{\"color\":\"#2a3f5f\"},\"marker\":{\"line\":{\"color\":\"#E5ECF6\",\"width\":0.5},\"pattern\":{\"fillmode\":\"overlay\",\"size\":10,\"solidity\":0.2}},\"type\":\"bar\"}],\"scattergeo\":[{\"type\":\"scattergeo\",\"marker\":{\"colorbar\":{\"outlinewidth\":0,\"ticks\":\"\"}}}],\"scatterpolar\":[{\"type\":\"scatterpolar\",\"marker\":{\"colorbar\":{\"outlinewidth\":0,\"ticks\":\"\"}}}],\"histogram\":[{\"marker\":{\"pattern\":{\"fillmode\":\"overlay\",\"size\":10,\"solidity\":0.2}},\"type\":\"histogram\"}],\"scattergl\":[{\"type\":\"scattergl\",\"marker\":{\"colorbar\":{\"outlinewidth\":0,\"ticks\":\"\"}}}],\"scatter3d\":[{\"type\":\"scatter3d\",\"line\":{\"colorbar\":{\"outlinewidth\":0,\"ticks\":\"\"}},\"marker\":{\"colorbar\":{\"outlinewidth\":0,\"ticks\":\"\"}}}],\"scattermapbox\":[{\"type\":\"scattermapbox\",\"marker\":{\"colorbar\":{\"outlinewidth\":0,\"ticks\":\"\"}}}],\"scatterternary\":[{\"type\":\"scatterternary\",\"marker\":{\"colorbar\":{\"outlinewidth\":0,\"ticks\":\"\"}}}],\"scattercarpet\":[{\"type\":\"scattercarpet\",\"marker\":{\"colorbar\":{\"outlinewidth\":0,\"ticks\":\"\"}}}],\"carpet\":[{\"aaxis\":{\"endlinecolor\":\"#2a3f5f\",\"gridcolor\":\"white\",\"linecolor\":\"white\",\"minorgridcolor\":\"white\",\"startlinecolor\":\"#2a3f5f\"},\"baxis\":{\"endlinecolor\":\"#2a3f5f\",\"gridcolor\":\"white\",\"linecolor\":\"white\",\"minorgridcolor\":\"white\",\"startlinecolor\":\"#2a3f5f\"},\"type\":\"carpet\"}],\"table\":[{\"cells\":{\"fill\":{\"color\":\"#EBF0F8\"},\"line\":{\"color\":\"white\"}},\"header\":{\"fill\":{\"color\":\"#C8D4E3\"},\"line\":{\"color\":\"white\"}},\"type\":\"table\"}],\"barpolar\":[{\"marker\":{\"line\":{\"color\":\"#E5ECF6\",\"width\":0.5},\"pattern\":{\"fillmode\":\"overlay\",\"size\":10,\"solidity\":0.2}},\"type\":\"barpolar\"}],\"pie\":[{\"automargin\":true,\"type\":\"pie\"}]},\"layout\":{\"autotypenumbers\":\"strict\",\"colorway\":[\"#636efa\",\"#EF553B\",\"#00cc96\",\"#ab63fa\",\"#FFA15A\",\"#19d3f3\",\"#FF6692\",\"#B6E880\",\"#FF97FF\",\"#FECB52\"],\"font\":{\"color\":\"#2a3f5f\"},\"hovermode\":\"closest\",\"hoverlabel\":{\"align\":\"left\"},\"paper_bgcolor\":\"white\",\"plot_bgcolor\":\"#E5ECF6\",\"polar\":{\"bgcolor\":\"#E5ECF6\",\"angularaxis\":{\"gridcolor\":\"white\",\"linecolor\":\"white\",\"ticks\":\"\"},\"radialaxis\":{\"gridcolor\":\"white\",\"linecolor\":\"white\",\"ticks\":\"\"}},\"ternary\":{\"bgcolor\":\"#E5ECF6\",\"aaxis\":{\"gridcolor\":\"white\",\"linecolor\":\"white\",\"ticks\":\"\"},\"baxis\":{\"gridcolor\":\"white\",\"linecolor\":\"white\",\"ticks\":\"\"},\"caxis\":{\"gridcolor\":\"white\",\"linecolor\":\"white\",\"ticks\":\"\"}},\"coloraxis\":{\"colorbar\":{\"outlinewidth\":0,\"ticks\":\"\"}},\"colorscale\":{\"sequential\":[[0.0,\"#0d0887\"],[0.1111111111111111,\"#46039f\"],[0.2222222222222222,\"#7201a8\"],[0.3333333333333333,\"#9c179e\"],[0.4444444444444444,\"#bd3786\"],[0.5555555555555556,\"#d8576b\"],[0.6666666666666666,\"#ed7953\"],[0.7777777777777778,\"#fb9f3a\"],[0.8888888888888888,\"#fdca26\"],[1.0,\"#f0f921\"]],\"sequentialminus\":[[0.0,\"#0d0887\"],[0.1111111111111111,\"#46039f\"],[0.2222222222222222,\"#7201a8\"],[0.3333333333333333,\"#9c179e\"],[0.4444444444444444,\"#bd3786\"],[0.5555555555555556,\"#d8576b\"],[0.6666666666666666,\"#ed7953\"],[0.7777777777777778,\"#fb9f3a\"],[0.8888888888888888,\"#fdca26\"],[1.0,\"#f0f921\"]],\"diverging\":[[0,\"#8e0152\"],[0.1,\"#c51b7d\"],[0.2,\"#de77ae\"],[0.3,\"#f1b6da\"],[0.4,\"#fde0ef\"],[0.5,\"#f7f7f7\"],[0.6,\"#e6f5d0\"],[0.7,\"#b8e186\"],[0.8,\"#7fbc41\"],[0.9,\"#4d9221\"],[1,\"#276419\"]]},\"xaxis\":{\"gridcolor\":\"white\",\"linecolor\":\"white\",\"ticks\":\"\",\"title\":{\"standoff\":15},\"zerolinecolor\":\"white\",\"automargin\":true,\"zerolinewidth\":2},\"yaxis\":{\"gridcolor\":\"white\",\"linecolor\":\"white\",\"ticks\":\"\",\"title\":{\"standoff\":15},\"zerolinecolor\":\"white\",\"automargin\":true,\"zerolinewidth\":2},\"scene\":{\"xaxis\":{\"backgroundcolor\":\"#E5ECF6\",\"gridcolor\":\"white\",\"linecolor\":\"white\",\"showbackground\":true,\"ticks\":\"\",\"zerolinecolor\":\"white\",\"gridwidth\":2},\"yaxis\":{\"backgroundcolor\":\"#E5ECF6\",\"gridcolor\":\"white\",\"linecolor\":\"white\",\"showbackground\":true,\"ticks\":\"\",\"zerolinecolor\":\"white\",\"gridwidth\":2},\"zaxis\":{\"backgroundcolor\":\"#E5ECF6\",\"gridcolor\":\"white\",\"linecolor\":\"white\",\"showbackground\":true,\"ticks\":\"\",\"zerolinecolor\":\"white\",\"gridwidth\":2}},\"shapedefaults\":{\"line\":{\"color\":\"#2a3f5f\"}},\"annotationdefaults\":{\"arrowcolor\":\"#2a3f5f\",\"arrowhead\":0,\"arrowwidth\":1},\"geo\":{\"bgcolor\":\"white\",\"landcolor\":\"#E5ECF6\",\"subunitcolor\":\"white\",\"showland\":true,\"showlakes\":true,\"lakecolor\":\"white\"},\"title\":{\"x\":0.05},\"mapbox\":{\"style\":\"light\"}}},\"xaxis\":{\"anchor\":\"y\",\"domain\":[0.0,1.0],\"title\":{\"text\":\"Recurrence\"}},\"yaxis\":{\"anchor\":\"x\",\"domain\":[0.0,1.0],\"title\":{\"text\":\"\\u003ci\\u003eSpecies\\u003ci\\u003e\"}},\"legend\":{\"title\":{\"text\":\"chemical_superclass\"},\"tracegroupgap\":0},\"title\":{\"text\":\"Stacked Barplot of Predicted Superclasses Ocurrence for Species\"},\"barmode\":\"relative\",\"plot_bgcolor\":\"white\",\"width\":1500,\"height\":1500},                        {\"responsive\": true}                    ).then(function(){\n",
       "                            \n",
       "var gd = document.getElementById('60f3e08f-f52e-4d3a-b2f6-1b8a66eb8dc5');\n",
       "var x = new MutationObserver(function (mutations, observer) {{\n",
       "        var display = window.getComputedStyle(gd).display;\n",
       "        if (!display || display === 'none') {{\n",
       "            console.log([gd, 'removed!']);\n",
       "            Plotly.purge(gd);\n",
       "            observer.disconnect();\n",
       "        }}\n",
       "}});\n",
       "\n",
       "// Listen for the removal of the full notebook cells\n",
       "var notebookContainer = gd.closest('#notebook-container');\n",
       "if (notebookContainer) {{\n",
       "    x.observe(notebookContainer, {childList: true});\n",
       "}}\n",
       "\n",
       "// Listen for the clearing of the current output cell\n",
       "var outputEl = gd.closest('.output');\n",
       "if (outputEl) {{\n",
       "    x.observe(outputEl, {childList: true});\n",
       "}}\n",
       "\n",
       "                        })                };                });            </script>        </div>"
      ]
     },
     "metadata": {},
     "output_type": "display_data"
    }
   ],
   "source": [
    "# Define base colors for each Pathway\n",
    "\n",
    "pathway_colors = {\n",
    "    'Terpenoids': ('#618264', '#D0E7D2'),  # Green start and lighter green end\n",
    "    'Alkaloids': ('#305F72', '#5CBCE2'),   # Blue start and lighter blue end  \n",
    "    'Shikimates and Phenylpropanoids': ('#80558C', '#CBA0AE'),  # Purple start and lighter purple end\n",
    "    'Polyketides': ('#EF4B4B', '#EC8F6A'),  # Red start and lighter purple end\n",
    "    'Fatty acids': ('#FF6C22', '#FF9209'),  # Orange start and lighter purple end\n",
    "    'Amino acids and Peptides': ('#F4E869', '#FAF2D3'),  # Yellow start and lighter purple end\n",
    "    'Carbohydrates': ('#65451F','#C8AE7D')  # Brown start and lighter purple end\n",
    "}\n",
    "\n",
    "def interpolate_color(color1, color2, factor: float):\n",
    "    \"\"\"Interpolate between two colors\"\"\"\n",
    "    color1 = np.array(mcolors.to_rgb(color1))\n",
    "    color2 = np.array(mcolors.to_rgb(color2))\n",
    "    return mcolors.to_hex((1 - factor) * color1 + factor * color2)\n",
    "\n",
    "def generate_shades(pathway, num_shades):\n",
    "    base_color, end_color = pathway_colors.get(pathway, ('gray', 'lightgray'))\n",
    "    if num_shades == 1:\n",
    "        return [base_color]  # Return the base color if only one shade is requested\n",
    "    shades = []\n",
    "    for i in range(num_shades):\n",
    "        factor = i / (num_shades - 1)\n",
    "        shades.append(interpolate_color(base_color, end_color, factor))\n",
    "    return shades\n",
    "\n",
    "\n",
    "# Step 1: Initialize an empty DataFrame to store all data\n",
    "all_data = pd.DataFrame(columns=['organism_taxonomy_09species', 'chemical_superclass'])\n",
    "\n",
    "# Step 2: Read data from all .tsv files in the output_folder\n",
    "species_data_folder = os.path.join(output_folder, 'species_data')\n",
    "for filename in os.listdir(species_data_folder):\n",
    "    if filename.endswith(\".tsv\"):\n",
    "        file_data = pd.read_csv(os.path.join(species_data_folder, filename), sep='\\t')\n",
    "        all_data = pd.concat([all_data, file_data])\n",
    "\n",
    "# Step 3: Rename the \"queried_taxaLabel\" column to \"species\"\n",
    "all_data.rename(columns={'organism_taxonomy_09species': 'species'}, inplace=True)\n",
    "\n",
    "# Remove 'API Error-API Error' and 'Not Classified-Not Classified'\n",
    "all_data = all_data[(all_data['chemical_superclass'] != 'API Error-API Error') & \n",
    "                    (all_data['chemical_superclass'] != 'Not Classified-Not Classified')]\n",
    "\n",
    "def split_chemical_superclass(row):\n",
    "    # Check if the value is a string before splitting\n",
    "    if isinstance(row['chemical_superclass'], str):\n",
    "        parts = row['chemical_superclass'].split('-')\n",
    "        if len(parts) == 2:\n",
    "            return parts[0], parts[1]  # Pathway and Superclass are present\n",
    "        else:\n",
    "            return parts[0], 'Unknown'  # Only Pathway is present, or the format is not as expected\n",
    "    else:\n",
    "        # Return default values if the entry is NaN or not a string\n",
    "        return 'Unknown', 'Unknown'\n",
    "\n",
    "# Apply the function to each row\n",
    "all_data[['Pathway', 'superclass']] = all_data.apply(lambda row: split_chemical_superclass(row), axis=1, result_type='expand')\n",
    "\n",
    "# Step 4: Process data for color mapping\n",
    "color_map = {}\n",
    "for pathway, superclasses in all_data.groupby('Pathway')['superclass'].unique().items():\n",
    "    shades = generate_shades(pathway, len(superclasses))\n",
    "    for superclass, shade in zip(superclasses, shades):\n",
    "        color_map[f\"{pathway}-{superclass}\"] = shade\n",
    "\n",
    "# Step 5: Group and aggregate data to calculate recurrence\n",
    "agg_data = all_data.groupby(['species', 'chemical_superclass']).size().reset_index(name='recurrence')\n",
    "\n",
    "# Step 6: Create the stacked barplot with the custom color palette\n",
    "fig = px.bar(agg_data, y=agg_data['species'].apply(lambda x: f\"<i>{x}</i>\"), x='recurrence',\n",
    "             title='Stacked Barplot of Predicted Superclasses Ocurrence for Species',\n",
    "             labels={'recurrence': 'Recurrence'},\n",
    "             color='chemical_superclass',\n",
    "             color_discrete_map=color_map,\n",
    "             category_orders={'chemical_superclass': sorted(agg_data['chemical_superclass'].unique())},\n",
    "             orientation='h')\n",
    "\n",
    "# Modify the y-axis label\n",
    "fig.update_yaxes(title_text='<i>Species<i>')\n",
    "\n",
    "# Set a white background\n",
    "fig.update_layout(plot_bgcolor='white')\n",
    "\n",
    "# Modify the size of the figure\n",
    "fig.update_layout(width=1500, height=1500)\n",
    "\n",
    "# Save the figure as an HTML file\n",
    "fig.write_html(f'{output_folder}Wikidata_superclass_barplot_species.html')\n",
    "\n",
    "# Show the figure\n",
    "fig.show()\n"
   ]
  },
  {
   "cell_type": "markdown",
   "metadata": {},
   "source": [
    "Generate une plot by species (samples) and the Pathway"
   ]
  },
  {
   "cell_type": "code",
   "execution_count": 25,
   "metadata": {},
   "outputs": [
    {
     "name": "stderr",
     "output_type": "stream",
     "text": [
      "/tmp/ipykernel_1352/2858114341.py:20: FutureWarning:\n",
      "\n",
      "The behavior of DataFrame concatenation with empty or all-NA entries is deprecated. In a future version, this will no longer exclude empty or all-NA columns when determining the result dtypes. To retain the old behavior, exclude the relevant entries before the concat operation.\n",
      "\n",
      "/tmp/ipykernel_1352/2858114341.py:20: FutureWarning:\n",
      "\n",
      "The behavior of DataFrame concatenation with empty or all-NA entries is deprecated. In a future version, this will no longer exclude empty or all-NA columns when determining the result dtypes. To retain the old behavior, exclude the relevant entries before the concat operation.\n",
      "\n",
      "/tmp/ipykernel_1352/2858114341.py:20: FutureWarning:\n",
      "\n",
      "The behavior of DataFrame concatenation with empty or all-NA entries is deprecated. In a future version, this will no longer exclude empty or all-NA columns when determining the result dtypes. To retain the old behavior, exclude the relevant entries before the concat operation.\n",
      "\n",
      "/tmp/ipykernel_1352/2858114341.py:20: FutureWarning:\n",
      "\n",
      "The behavior of DataFrame concatenation with empty or all-NA entries is deprecated. In a future version, this will no longer exclude empty or all-NA columns when determining the result dtypes. To retain the old behavior, exclude the relevant entries before the concat operation.\n",
      "\n",
      "/tmp/ipykernel_1352/2858114341.py:20: FutureWarning:\n",
      "\n",
      "The behavior of DataFrame concatenation with empty or all-NA entries is deprecated. In a future version, this will no longer exclude empty or all-NA columns when determining the result dtypes. To retain the old behavior, exclude the relevant entries before the concat operation.\n",
      "\n",
      "/tmp/ipykernel_1352/2858114341.py:20: FutureWarning:\n",
      "\n",
      "The behavior of DataFrame concatenation with empty or all-NA entries is deprecated. In a future version, this will no longer exclude empty or all-NA columns when determining the result dtypes. To retain the old behavior, exclude the relevant entries before the concat operation.\n",
      "\n",
      "/tmp/ipykernel_1352/2858114341.py:20: FutureWarning:\n",
      "\n",
      "The behavior of DataFrame concatenation with empty or all-NA entries is deprecated. In a future version, this will no longer exclude empty or all-NA columns when determining the result dtypes. To retain the old behavior, exclude the relevant entries before the concat operation.\n",
      "\n",
      "/tmp/ipykernel_1352/2858114341.py:20: FutureWarning:\n",
      "\n",
      "The behavior of DataFrame concatenation with empty or all-NA entries is deprecated. In a future version, this will no longer exclude empty or all-NA columns when determining the result dtypes. To retain the old behavior, exclude the relevant entries before the concat operation.\n",
      "\n",
      "/tmp/ipykernel_1352/2858114341.py:20: FutureWarning:\n",
      "\n",
      "The behavior of DataFrame concatenation with empty or all-NA entries is deprecated. In a future version, this will no longer exclude empty or all-NA columns when determining the result dtypes. To retain the old behavior, exclude the relevant entries before the concat operation.\n",
      "\n",
      "/tmp/ipykernel_1352/2858114341.py:20: FutureWarning:\n",
      "\n",
      "The behavior of DataFrame concatenation with empty or all-NA entries is deprecated. In a future version, this will no longer exclude empty or all-NA columns when determining the result dtypes. To retain the old behavior, exclude the relevant entries before the concat operation.\n",
      "\n",
      "/tmp/ipykernel_1352/2858114341.py:20: FutureWarning:\n",
      "\n",
      "The behavior of DataFrame concatenation with empty or all-NA entries is deprecated. In a future version, this will no longer exclude empty or all-NA columns when determining the result dtypes. To retain the old behavior, exclude the relevant entries before the concat operation.\n",
      "\n",
      "/tmp/ipykernel_1352/2858114341.py:20: FutureWarning:\n",
      "\n",
      "The behavior of DataFrame concatenation with empty or all-NA entries is deprecated. In a future version, this will no longer exclude empty or all-NA columns when determining the result dtypes. To retain the old behavior, exclude the relevant entries before the concat operation.\n",
      "\n",
      "/tmp/ipykernel_1352/2858114341.py:20: FutureWarning:\n",
      "\n",
      "The behavior of DataFrame concatenation with empty or all-NA entries is deprecated. In a future version, this will no longer exclude empty or all-NA columns when determining the result dtypes. To retain the old behavior, exclude the relevant entries before the concat operation.\n",
      "\n"
     ]
    },
    {
     "data": {
      "application/vnd.plotly.v1+json": {
       "config": {
        "plotlyServerURL": "https://plot.ly"
       },
       "data": [
        {
         "alignmentgroup": "True",
         "hovertemplate": "Pathway=Alkaloids<br>Recurrence=%{x}<br>y=%{y}<extra></extra>",
         "legendgroup": "Alkaloids",
         "marker": {
          "color": "#305F72",
          "pattern": {
           "shape": ""
          }
         },
         "name": "Alkaloids",
         "offsetgroup": "Alkaloids",
         "orientation": "h",
         "showlegend": true,
         "textposition": "auto",
         "type": "bar",
         "x": [
          1,
          61,
          7,
          4
         ],
         "xaxis": "x",
         "y": [
          "<i>Atractylodes lancea</i>",
          "<i>Melodinus cochinchinensis</i>",
          "<i>Micromelum hirsutum</i>",
          "<i>Tinospora baenzigeri</i>"
         ],
         "yaxis": "y"
        },
        {
         "alignmentgroup": "True",
         "hovertemplate": "Pathway=Amino acids and Peptides<br>Recurrence=%{x}<br>y=%{y}<extra></extra>",
         "legendgroup": "Amino acids and Peptides",
         "marker": {
          "color": "#F4E869",
          "pattern": {
           "shape": ""
          }
         },
         "name": "Amino acids and Peptides",
         "offsetgroup": "Amino acids and Peptides",
         "orientation": "h",
         "showlegend": true,
         "textposition": "auto",
         "type": "bar",
         "x": [
          2,
          4,
          1
         ],
         "xaxis": "x",
         "y": [
          "<i>Atractylodes japonica</i>",
          "<i>Atractylodes lancea</i>",
          "<i>Melodinus cochinchinensis</i>"
         ],
         "yaxis": "y"
        },
        {
         "alignmentgroup": "True",
         "hovertemplate": "Pathway=Carbohydrates<br>Recurrence=%{x}<br>y=%{y}<extra></extra>",
         "legendgroup": "Carbohydrates",
         "marker": {
          "color": "#65451F",
          "pattern": {
           "shape": ""
          }
         },
         "name": "Carbohydrates",
         "offsetgroup": "Carbohydrates",
         "orientation": "h",
         "showlegend": true,
         "textposition": "auto",
         "type": "bar",
         "x": [
          4,
          1,
          1
         ],
         "xaxis": "x",
         "y": [
          "<i>Atractylodes lancea</i>",
          "<i>Gnetum edule</i>",
          "<i>Pachyrhizus erosus</i>"
         ],
         "yaxis": "y"
        },
        {
         "alignmentgroup": "True",
         "hovertemplate": "Pathway=Fatty acids<br>Recurrence=%{x}<br>y=%{y}<extra></extra>",
         "legendgroup": "Fatty acids",
         "marker": {
          "color": "#FF6C22",
          "pattern": {
           "shape": ""
          }
         },
         "name": "Fatty acids",
         "offsetgroup": "Fatty acids",
         "orientation": "h",
         "showlegend": true,
         "textposition": "auto",
         "type": "bar",
         "x": [
          2,
          2,
          19,
          6,
          1,
          1,
          9,
          2,
          2,
          1
         ],
         "xaxis": "x",
         "y": [
          "<i>Atractylodes chinensis</i>",
          "<i>Atractylodes japonica</i>",
          "<i>Atractylodes lancea</i>",
          "<i>Atractylodes macrocephala</i>",
          "<i>Bischofia javanica</i>",
          "<i>Ceiba pentandra</i>",
          "<i>Gnetum edule</i>",
          "<i>Holoptelea integrifolia</i>",
          "<i>Micromelum hirsutum</i>",
          "<i>Rheum rhabarbarum</i>"
         ],
         "yaxis": "y"
        },
        {
         "alignmentgroup": "True",
         "hovertemplate": "Pathway=Polyketides<br>Recurrence=%{x}<br>y=%{y}<extra></extra>",
         "legendgroup": "Polyketides",
         "marker": {
          "color": "#EF4B4B",
          "pattern": {
           "shape": ""
          }
         },
         "name": "Polyketides",
         "offsetgroup": "Polyketides",
         "orientation": "h",
         "showlegend": true,
         "textposition": "auto",
         "type": "bar",
         "x": [
          6,
          1,
          1,
          10,
          7
         ],
         "xaxis": "x",
         "y": [
          "<i>Atractylodes lancea</i>",
          "<i>Atractylodes macrocephala</i>",
          "<i>Melodinus cochinchinensis</i>",
          "<i>Rheum officinale</i>",
          "<i>Rheum rhabarbarum</i>"
         ],
         "yaxis": "y"
        },
        {
         "alignmentgroup": "True",
         "hovertemplate": "Pathway=Shikimates and Phenylpropanoids<br>Recurrence=%{x}<br>y=%{y}<extra></extra>",
         "legendgroup": "Shikimates and Phenylpropanoids",
         "marker": {
          "color": "#80558C",
          "pattern": {
           "shape": ""
          }
         },
         "name": "Shikimates and Phenylpropanoids",
         "offsetgroup": "Shikimates and Phenylpropanoids",
         "orientation": "h",
         "showlegend": true,
         "textposition": "auto",
         "type": "bar",
         "x": [
          7,
          12,
          8,
          14,
          6,
          15,
          3,
          3,
          16,
          20,
          30,
          18
         ],
         "xaxis": "x",
         "y": [
          "<i>Atractylodes japonica</i>",
          "<i>Atractylodes lancea</i>",
          "<i>Atractylodes macrocephala</i>",
          "<i>Bischofia javanica</i>",
          "<i>Ceiba pentandra</i>",
          "<i>Gnetum edule</i>",
          "<i>Hopea chinensis</i>",
          "<i>Micromelum hirsutum</i>",
          "<i>Pachyrhizus erosus</i>",
          "<i>Rheum officinale</i>",
          "<i>Rheum rhabarbarum</i>",
          "<i>Shorea roxburghii</i>"
         ],
         "yaxis": "y"
        },
        {
         "alignmentgroup": "True",
         "hovertemplate": "Pathway=Terpenoids<br>Recurrence=%{x}<br>y=%{y}<extra></extra>",
         "legendgroup": "Terpenoids",
         "marker": {
          "color": "#618264",
          "pattern": {
           "shape": ""
          }
         },
         "name": "Terpenoids",
         "offsetgroup": "Terpenoids",
         "orientation": "h",
         "showlegend": true,
         "textposition": "auto",
         "type": "bar",
         "x": [
          1,
          23,
          95,
          35,
          3,
          6,
          25,
          7,
          2,
          1,
          7,
          8
         ],
         "xaxis": "x",
         "y": [
          "<i>Atractylodes chinensis</i>",
          "<i>Atractylodes japonica</i>",
          "<i>Atractylodes lancea</i>",
          "<i>Atractylodes macrocephala</i>",
          "<i>Bischofia javanica</i>",
          "<i>Ceiba pentandra</i>",
          "<i>Erythrophleum suaveolens</i>",
          "<i>Holoptelea integrifolia</i>",
          "<i>Melodinus cochinchinensis</i>",
          "<i>Micromelum hirsutum</i>",
          "<i>Rheum rhabarbarum</i>",
          "<i>Tinospora baenzigeri</i>"
         ],
         "yaxis": "y"
        }
       ],
       "layout": {
        "barmode": "relative",
        "height": 1500,
        "legend": {
         "title": {
          "text": "Pathway"
         },
         "tracegroupgap": 0
        },
        "plot_bgcolor": "white",
        "template": {
         "data": {
          "bar": [
           {
            "error_x": {
             "color": "#2a3f5f"
            },
            "error_y": {
             "color": "#2a3f5f"
            },
            "marker": {
             "line": {
              "color": "#E5ECF6",
              "width": 0.5
             },
             "pattern": {
              "fillmode": "overlay",
              "size": 10,
              "solidity": 0.2
             }
            },
            "type": "bar"
           }
          ],
          "barpolar": [
           {
            "marker": {
             "line": {
              "color": "#E5ECF6",
              "width": 0.5
             },
             "pattern": {
              "fillmode": "overlay",
              "size": 10,
              "solidity": 0.2
             }
            },
            "type": "barpolar"
           }
          ],
          "carpet": [
           {
            "aaxis": {
             "endlinecolor": "#2a3f5f",
             "gridcolor": "white",
             "linecolor": "white",
             "minorgridcolor": "white",
             "startlinecolor": "#2a3f5f"
            },
            "baxis": {
             "endlinecolor": "#2a3f5f",
             "gridcolor": "white",
             "linecolor": "white",
             "minorgridcolor": "white",
             "startlinecolor": "#2a3f5f"
            },
            "type": "carpet"
           }
          ],
          "choropleth": [
           {
            "colorbar": {
             "outlinewidth": 0,
             "ticks": ""
            },
            "type": "choropleth"
           }
          ],
          "contour": [
           {
            "colorbar": {
             "outlinewidth": 0,
             "ticks": ""
            },
            "colorscale": [
             [
              0,
              "#0d0887"
             ],
             [
              0.1111111111111111,
              "#46039f"
             ],
             [
              0.2222222222222222,
              "#7201a8"
             ],
             [
              0.3333333333333333,
              "#9c179e"
             ],
             [
              0.4444444444444444,
              "#bd3786"
             ],
             [
              0.5555555555555556,
              "#d8576b"
             ],
             [
              0.6666666666666666,
              "#ed7953"
             ],
             [
              0.7777777777777778,
              "#fb9f3a"
             ],
             [
              0.8888888888888888,
              "#fdca26"
             ],
             [
              1,
              "#f0f921"
             ]
            ],
            "type": "contour"
           }
          ],
          "contourcarpet": [
           {
            "colorbar": {
             "outlinewidth": 0,
             "ticks": ""
            },
            "type": "contourcarpet"
           }
          ],
          "heatmap": [
           {
            "colorbar": {
             "outlinewidth": 0,
             "ticks": ""
            },
            "colorscale": [
             [
              0,
              "#0d0887"
             ],
             [
              0.1111111111111111,
              "#46039f"
             ],
             [
              0.2222222222222222,
              "#7201a8"
             ],
             [
              0.3333333333333333,
              "#9c179e"
             ],
             [
              0.4444444444444444,
              "#bd3786"
             ],
             [
              0.5555555555555556,
              "#d8576b"
             ],
             [
              0.6666666666666666,
              "#ed7953"
             ],
             [
              0.7777777777777778,
              "#fb9f3a"
             ],
             [
              0.8888888888888888,
              "#fdca26"
             ],
             [
              1,
              "#f0f921"
             ]
            ],
            "type": "heatmap"
           }
          ],
          "heatmapgl": [
           {
            "colorbar": {
             "outlinewidth": 0,
             "ticks": ""
            },
            "colorscale": [
             [
              0,
              "#0d0887"
             ],
             [
              0.1111111111111111,
              "#46039f"
             ],
             [
              0.2222222222222222,
              "#7201a8"
             ],
             [
              0.3333333333333333,
              "#9c179e"
             ],
             [
              0.4444444444444444,
              "#bd3786"
             ],
             [
              0.5555555555555556,
              "#d8576b"
             ],
             [
              0.6666666666666666,
              "#ed7953"
             ],
             [
              0.7777777777777778,
              "#fb9f3a"
             ],
             [
              0.8888888888888888,
              "#fdca26"
             ],
             [
              1,
              "#f0f921"
             ]
            ],
            "type": "heatmapgl"
           }
          ],
          "histogram": [
           {
            "marker": {
             "pattern": {
              "fillmode": "overlay",
              "size": 10,
              "solidity": 0.2
             }
            },
            "type": "histogram"
           }
          ],
          "histogram2d": [
           {
            "colorbar": {
             "outlinewidth": 0,
             "ticks": ""
            },
            "colorscale": [
             [
              0,
              "#0d0887"
             ],
             [
              0.1111111111111111,
              "#46039f"
             ],
             [
              0.2222222222222222,
              "#7201a8"
             ],
             [
              0.3333333333333333,
              "#9c179e"
             ],
             [
              0.4444444444444444,
              "#bd3786"
             ],
             [
              0.5555555555555556,
              "#d8576b"
             ],
             [
              0.6666666666666666,
              "#ed7953"
             ],
             [
              0.7777777777777778,
              "#fb9f3a"
             ],
             [
              0.8888888888888888,
              "#fdca26"
             ],
             [
              1,
              "#f0f921"
             ]
            ],
            "type": "histogram2d"
           }
          ],
          "histogram2dcontour": [
           {
            "colorbar": {
             "outlinewidth": 0,
             "ticks": ""
            },
            "colorscale": [
             [
              0,
              "#0d0887"
             ],
             [
              0.1111111111111111,
              "#46039f"
             ],
             [
              0.2222222222222222,
              "#7201a8"
             ],
             [
              0.3333333333333333,
              "#9c179e"
             ],
             [
              0.4444444444444444,
              "#bd3786"
             ],
             [
              0.5555555555555556,
              "#d8576b"
             ],
             [
              0.6666666666666666,
              "#ed7953"
             ],
             [
              0.7777777777777778,
              "#fb9f3a"
             ],
             [
              0.8888888888888888,
              "#fdca26"
             ],
             [
              1,
              "#f0f921"
             ]
            ],
            "type": "histogram2dcontour"
           }
          ],
          "mesh3d": [
           {
            "colorbar": {
             "outlinewidth": 0,
             "ticks": ""
            },
            "type": "mesh3d"
           }
          ],
          "parcoords": [
           {
            "line": {
             "colorbar": {
              "outlinewidth": 0,
              "ticks": ""
             }
            },
            "type": "parcoords"
           }
          ],
          "pie": [
           {
            "automargin": true,
            "type": "pie"
           }
          ],
          "scatter": [
           {
            "fillpattern": {
             "fillmode": "overlay",
             "size": 10,
             "solidity": 0.2
            },
            "type": "scatter"
           }
          ],
          "scatter3d": [
           {
            "line": {
             "colorbar": {
              "outlinewidth": 0,
              "ticks": ""
             }
            },
            "marker": {
             "colorbar": {
              "outlinewidth": 0,
              "ticks": ""
             }
            },
            "type": "scatter3d"
           }
          ],
          "scattercarpet": [
           {
            "marker": {
             "colorbar": {
              "outlinewidth": 0,
              "ticks": ""
             }
            },
            "type": "scattercarpet"
           }
          ],
          "scattergeo": [
           {
            "marker": {
             "colorbar": {
              "outlinewidth": 0,
              "ticks": ""
             }
            },
            "type": "scattergeo"
           }
          ],
          "scattergl": [
           {
            "marker": {
             "colorbar": {
              "outlinewidth": 0,
              "ticks": ""
             }
            },
            "type": "scattergl"
           }
          ],
          "scattermapbox": [
           {
            "marker": {
             "colorbar": {
              "outlinewidth": 0,
              "ticks": ""
             }
            },
            "type": "scattermapbox"
           }
          ],
          "scatterpolar": [
           {
            "marker": {
             "colorbar": {
              "outlinewidth": 0,
              "ticks": ""
             }
            },
            "type": "scatterpolar"
           }
          ],
          "scatterpolargl": [
           {
            "marker": {
             "colorbar": {
              "outlinewidth": 0,
              "ticks": ""
             }
            },
            "type": "scatterpolargl"
           }
          ],
          "scatterternary": [
           {
            "marker": {
             "colorbar": {
              "outlinewidth": 0,
              "ticks": ""
             }
            },
            "type": "scatterternary"
           }
          ],
          "surface": [
           {
            "colorbar": {
             "outlinewidth": 0,
             "ticks": ""
            },
            "colorscale": [
             [
              0,
              "#0d0887"
             ],
             [
              0.1111111111111111,
              "#46039f"
             ],
             [
              0.2222222222222222,
              "#7201a8"
             ],
             [
              0.3333333333333333,
              "#9c179e"
             ],
             [
              0.4444444444444444,
              "#bd3786"
             ],
             [
              0.5555555555555556,
              "#d8576b"
             ],
             [
              0.6666666666666666,
              "#ed7953"
             ],
             [
              0.7777777777777778,
              "#fb9f3a"
             ],
             [
              0.8888888888888888,
              "#fdca26"
             ],
             [
              1,
              "#f0f921"
             ]
            ],
            "type": "surface"
           }
          ],
          "table": [
           {
            "cells": {
             "fill": {
              "color": "#EBF0F8"
             },
             "line": {
              "color": "white"
             }
            },
            "header": {
             "fill": {
              "color": "#C8D4E3"
             },
             "line": {
              "color": "white"
             }
            },
            "type": "table"
           }
          ]
         },
         "layout": {
          "annotationdefaults": {
           "arrowcolor": "#2a3f5f",
           "arrowhead": 0,
           "arrowwidth": 1
          },
          "autotypenumbers": "strict",
          "coloraxis": {
           "colorbar": {
            "outlinewidth": 0,
            "ticks": ""
           }
          },
          "colorscale": {
           "diverging": [
            [
             0,
             "#8e0152"
            ],
            [
             0.1,
             "#c51b7d"
            ],
            [
             0.2,
             "#de77ae"
            ],
            [
             0.3,
             "#f1b6da"
            ],
            [
             0.4,
             "#fde0ef"
            ],
            [
             0.5,
             "#f7f7f7"
            ],
            [
             0.6,
             "#e6f5d0"
            ],
            [
             0.7,
             "#b8e186"
            ],
            [
             0.8,
             "#7fbc41"
            ],
            [
             0.9,
             "#4d9221"
            ],
            [
             1,
             "#276419"
            ]
           ],
           "sequential": [
            [
             0,
             "#0d0887"
            ],
            [
             0.1111111111111111,
             "#46039f"
            ],
            [
             0.2222222222222222,
             "#7201a8"
            ],
            [
             0.3333333333333333,
             "#9c179e"
            ],
            [
             0.4444444444444444,
             "#bd3786"
            ],
            [
             0.5555555555555556,
             "#d8576b"
            ],
            [
             0.6666666666666666,
             "#ed7953"
            ],
            [
             0.7777777777777778,
             "#fb9f3a"
            ],
            [
             0.8888888888888888,
             "#fdca26"
            ],
            [
             1,
             "#f0f921"
            ]
           ],
           "sequentialminus": [
            [
             0,
             "#0d0887"
            ],
            [
             0.1111111111111111,
             "#46039f"
            ],
            [
             0.2222222222222222,
             "#7201a8"
            ],
            [
             0.3333333333333333,
             "#9c179e"
            ],
            [
             0.4444444444444444,
             "#bd3786"
            ],
            [
             0.5555555555555556,
             "#d8576b"
            ],
            [
             0.6666666666666666,
             "#ed7953"
            ],
            [
             0.7777777777777778,
             "#fb9f3a"
            ],
            [
             0.8888888888888888,
             "#fdca26"
            ],
            [
             1,
             "#f0f921"
            ]
           ]
          },
          "colorway": [
           "#636efa",
           "#EF553B",
           "#00cc96",
           "#ab63fa",
           "#FFA15A",
           "#19d3f3",
           "#FF6692",
           "#B6E880",
           "#FF97FF",
           "#FECB52"
          ],
          "font": {
           "color": "#2a3f5f"
          },
          "geo": {
           "bgcolor": "white",
           "lakecolor": "white",
           "landcolor": "#E5ECF6",
           "showlakes": true,
           "showland": true,
           "subunitcolor": "white"
          },
          "hoverlabel": {
           "align": "left"
          },
          "hovermode": "closest",
          "mapbox": {
           "style": "light"
          },
          "paper_bgcolor": "white",
          "plot_bgcolor": "#E5ECF6",
          "polar": {
           "angularaxis": {
            "gridcolor": "white",
            "linecolor": "white",
            "ticks": ""
           },
           "bgcolor": "#E5ECF6",
           "radialaxis": {
            "gridcolor": "white",
            "linecolor": "white",
            "ticks": ""
           }
          },
          "scene": {
           "xaxis": {
            "backgroundcolor": "#E5ECF6",
            "gridcolor": "white",
            "gridwidth": 2,
            "linecolor": "white",
            "showbackground": true,
            "ticks": "",
            "zerolinecolor": "white"
           },
           "yaxis": {
            "backgroundcolor": "#E5ECF6",
            "gridcolor": "white",
            "gridwidth": 2,
            "linecolor": "white",
            "showbackground": true,
            "ticks": "",
            "zerolinecolor": "white"
           },
           "zaxis": {
            "backgroundcolor": "#E5ECF6",
            "gridcolor": "white",
            "gridwidth": 2,
            "linecolor": "white",
            "showbackground": true,
            "ticks": "",
            "zerolinecolor": "white"
           }
          },
          "shapedefaults": {
           "line": {
            "color": "#2a3f5f"
           }
          },
          "ternary": {
           "aaxis": {
            "gridcolor": "white",
            "linecolor": "white",
            "ticks": ""
           },
           "baxis": {
            "gridcolor": "white",
            "linecolor": "white",
            "ticks": ""
           },
           "bgcolor": "#E5ECF6",
           "caxis": {
            "gridcolor": "white",
            "linecolor": "white",
            "ticks": ""
           }
          },
          "title": {
           "x": 0.05
          },
          "xaxis": {
           "automargin": true,
           "gridcolor": "white",
           "linecolor": "white",
           "ticks": "",
           "title": {
            "standoff": 15
           },
           "zerolinecolor": "white",
           "zerolinewidth": 2
          },
          "yaxis": {
           "automargin": true,
           "gridcolor": "white",
           "linecolor": "white",
           "ticks": "",
           "title": {
            "standoff": 15
           },
           "zerolinecolor": "white",
           "zerolinewidth": 2
          }
         }
        },
        "title": {
         "text": "Stacked Barplot of Predicted Pathways Ocurrence for Species"
        },
        "width": 1500,
        "xaxis": {
         "anchor": "y",
         "domain": [
          0,
          1
         ],
         "title": {
          "text": "Recurrence"
         }
        },
        "yaxis": {
         "anchor": "x",
         "domain": [
          0,
          1
         ],
         "title": {
          "text": "Species"
         }
        }
       }
      },
      "text/html": [
       "<div>                            <div id=\"22becb0c-ae67-4e16-9ddf-765f8df3cefa\" class=\"plotly-graph-div\" style=\"height:1500px; width:1500px;\"></div>            <script type=\"text/javascript\">                require([\"plotly\"], function(Plotly) {                    window.PLOTLYENV=window.PLOTLYENV || {};                                    if (document.getElementById(\"22becb0c-ae67-4e16-9ddf-765f8df3cefa\")) {                    Plotly.newPlot(                        \"22becb0c-ae67-4e16-9ddf-765f8df3cefa\",                        [{\"alignmentgroup\":\"True\",\"hovertemplate\":\"Pathway=Alkaloids\\u003cbr\\u003eRecurrence=%{x}\\u003cbr\\u003ey=%{y}\\u003cextra\\u003e\\u003c\\u002fextra\\u003e\",\"legendgroup\":\"Alkaloids\",\"marker\":{\"color\":\"#305F72\",\"pattern\":{\"shape\":\"\"}},\"name\":\"Alkaloids\",\"offsetgroup\":\"Alkaloids\",\"orientation\":\"h\",\"showlegend\":true,\"textposition\":\"auto\",\"x\":[1,61,7,4],\"xaxis\":\"x\",\"y\":[\"\\u003ci\\u003eAtractylodes lancea\\u003c\\u002fi\\u003e\",\"\\u003ci\\u003eMelodinus cochinchinensis\\u003c\\u002fi\\u003e\",\"\\u003ci\\u003eMicromelum hirsutum\\u003c\\u002fi\\u003e\",\"\\u003ci\\u003eTinospora baenzigeri\\u003c\\u002fi\\u003e\"],\"yaxis\":\"y\",\"type\":\"bar\"},{\"alignmentgroup\":\"True\",\"hovertemplate\":\"Pathway=Amino acids and Peptides\\u003cbr\\u003eRecurrence=%{x}\\u003cbr\\u003ey=%{y}\\u003cextra\\u003e\\u003c\\u002fextra\\u003e\",\"legendgroup\":\"Amino acids and Peptides\",\"marker\":{\"color\":\"#F4E869\",\"pattern\":{\"shape\":\"\"}},\"name\":\"Amino acids and Peptides\",\"offsetgroup\":\"Amino acids and Peptides\",\"orientation\":\"h\",\"showlegend\":true,\"textposition\":\"auto\",\"x\":[2,4,1],\"xaxis\":\"x\",\"y\":[\"\\u003ci\\u003eAtractylodes japonica\\u003c\\u002fi\\u003e\",\"\\u003ci\\u003eAtractylodes lancea\\u003c\\u002fi\\u003e\",\"\\u003ci\\u003eMelodinus cochinchinensis\\u003c\\u002fi\\u003e\"],\"yaxis\":\"y\",\"type\":\"bar\"},{\"alignmentgroup\":\"True\",\"hovertemplate\":\"Pathway=Carbohydrates\\u003cbr\\u003eRecurrence=%{x}\\u003cbr\\u003ey=%{y}\\u003cextra\\u003e\\u003c\\u002fextra\\u003e\",\"legendgroup\":\"Carbohydrates\",\"marker\":{\"color\":\"#65451F\",\"pattern\":{\"shape\":\"\"}},\"name\":\"Carbohydrates\",\"offsetgroup\":\"Carbohydrates\",\"orientation\":\"h\",\"showlegend\":true,\"textposition\":\"auto\",\"x\":[4,1,1],\"xaxis\":\"x\",\"y\":[\"\\u003ci\\u003eAtractylodes lancea\\u003c\\u002fi\\u003e\",\"\\u003ci\\u003eGnetum edule\\u003c\\u002fi\\u003e\",\"\\u003ci\\u003ePachyrhizus erosus\\u003c\\u002fi\\u003e\"],\"yaxis\":\"y\",\"type\":\"bar\"},{\"alignmentgroup\":\"True\",\"hovertemplate\":\"Pathway=Fatty acids\\u003cbr\\u003eRecurrence=%{x}\\u003cbr\\u003ey=%{y}\\u003cextra\\u003e\\u003c\\u002fextra\\u003e\",\"legendgroup\":\"Fatty acids\",\"marker\":{\"color\":\"#FF6C22\",\"pattern\":{\"shape\":\"\"}},\"name\":\"Fatty acids\",\"offsetgroup\":\"Fatty acids\",\"orientation\":\"h\",\"showlegend\":true,\"textposition\":\"auto\",\"x\":[2,2,19,6,1,1,9,2,2,1],\"xaxis\":\"x\",\"y\":[\"\\u003ci\\u003eAtractylodes chinensis\\u003c\\u002fi\\u003e\",\"\\u003ci\\u003eAtractylodes japonica\\u003c\\u002fi\\u003e\",\"\\u003ci\\u003eAtractylodes lancea\\u003c\\u002fi\\u003e\",\"\\u003ci\\u003eAtractylodes macrocephala\\u003c\\u002fi\\u003e\",\"\\u003ci\\u003eBischofia javanica\\u003c\\u002fi\\u003e\",\"\\u003ci\\u003eCeiba pentandra\\u003c\\u002fi\\u003e\",\"\\u003ci\\u003eGnetum edule\\u003c\\u002fi\\u003e\",\"\\u003ci\\u003eHoloptelea integrifolia\\u003c\\u002fi\\u003e\",\"\\u003ci\\u003eMicromelum hirsutum\\u003c\\u002fi\\u003e\",\"\\u003ci\\u003eRheum rhabarbarum\\u003c\\u002fi\\u003e\"],\"yaxis\":\"y\",\"type\":\"bar\"},{\"alignmentgroup\":\"True\",\"hovertemplate\":\"Pathway=Polyketides\\u003cbr\\u003eRecurrence=%{x}\\u003cbr\\u003ey=%{y}\\u003cextra\\u003e\\u003c\\u002fextra\\u003e\",\"legendgroup\":\"Polyketides\",\"marker\":{\"color\":\"#EF4B4B\",\"pattern\":{\"shape\":\"\"}},\"name\":\"Polyketides\",\"offsetgroup\":\"Polyketides\",\"orientation\":\"h\",\"showlegend\":true,\"textposition\":\"auto\",\"x\":[6,1,1,10,7],\"xaxis\":\"x\",\"y\":[\"\\u003ci\\u003eAtractylodes lancea\\u003c\\u002fi\\u003e\",\"\\u003ci\\u003eAtractylodes macrocephala\\u003c\\u002fi\\u003e\",\"\\u003ci\\u003eMelodinus cochinchinensis\\u003c\\u002fi\\u003e\",\"\\u003ci\\u003eRheum officinale\\u003c\\u002fi\\u003e\",\"\\u003ci\\u003eRheum rhabarbarum\\u003c\\u002fi\\u003e\"],\"yaxis\":\"y\",\"type\":\"bar\"},{\"alignmentgroup\":\"True\",\"hovertemplate\":\"Pathway=Shikimates and Phenylpropanoids\\u003cbr\\u003eRecurrence=%{x}\\u003cbr\\u003ey=%{y}\\u003cextra\\u003e\\u003c\\u002fextra\\u003e\",\"legendgroup\":\"Shikimates and Phenylpropanoids\",\"marker\":{\"color\":\"#80558C\",\"pattern\":{\"shape\":\"\"}},\"name\":\"Shikimates and Phenylpropanoids\",\"offsetgroup\":\"Shikimates and Phenylpropanoids\",\"orientation\":\"h\",\"showlegend\":true,\"textposition\":\"auto\",\"x\":[7,12,8,14,6,15,3,3,16,20,30,18],\"xaxis\":\"x\",\"y\":[\"\\u003ci\\u003eAtractylodes japonica\\u003c\\u002fi\\u003e\",\"\\u003ci\\u003eAtractylodes lancea\\u003c\\u002fi\\u003e\",\"\\u003ci\\u003eAtractylodes macrocephala\\u003c\\u002fi\\u003e\",\"\\u003ci\\u003eBischofia javanica\\u003c\\u002fi\\u003e\",\"\\u003ci\\u003eCeiba pentandra\\u003c\\u002fi\\u003e\",\"\\u003ci\\u003eGnetum edule\\u003c\\u002fi\\u003e\",\"\\u003ci\\u003eHopea chinensis\\u003c\\u002fi\\u003e\",\"\\u003ci\\u003eMicromelum hirsutum\\u003c\\u002fi\\u003e\",\"\\u003ci\\u003ePachyrhizus erosus\\u003c\\u002fi\\u003e\",\"\\u003ci\\u003eRheum officinale\\u003c\\u002fi\\u003e\",\"\\u003ci\\u003eRheum rhabarbarum\\u003c\\u002fi\\u003e\",\"\\u003ci\\u003eShorea roxburghii\\u003c\\u002fi\\u003e\"],\"yaxis\":\"y\",\"type\":\"bar\"},{\"alignmentgroup\":\"True\",\"hovertemplate\":\"Pathway=Terpenoids\\u003cbr\\u003eRecurrence=%{x}\\u003cbr\\u003ey=%{y}\\u003cextra\\u003e\\u003c\\u002fextra\\u003e\",\"legendgroup\":\"Terpenoids\",\"marker\":{\"color\":\"#618264\",\"pattern\":{\"shape\":\"\"}},\"name\":\"Terpenoids\",\"offsetgroup\":\"Terpenoids\",\"orientation\":\"h\",\"showlegend\":true,\"textposition\":\"auto\",\"x\":[1,23,95,35,3,6,25,7,2,1,7,8],\"xaxis\":\"x\",\"y\":[\"\\u003ci\\u003eAtractylodes chinensis\\u003c\\u002fi\\u003e\",\"\\u003ci\\u003eAtractylodes japonica\\u003c\\u002fi\\u003e\",\"\\u003ci\\u003eAtractylodes lancea\\u003c\\u002fi\\u003e\",\"\\u003ci\\u003eAtractylodes macrocephala\\u003c\\u002fi\\u003e\",\"\\u003ci\\u003eBischofia javanica\\u003c\\u002fi\\u003e\",\"\\u003ci\\u003eCeiba pentandra\\u003c\\u002fi\\u003e\",\"\\u003ci\\u003eErythrophleum suaveolens\\u003c\\u002fi\\u003e\",\"\\u003ci\\u003eHoloptelea integrifolia\\u003c\\u002fi\\u003e\",\"\\u003ci\\u003eMelodinus cochinchinensis\\u003c\\u002fi\\u003e\",\"\\u003ci\\u003eMicromelum hirsutum\\u003c\\u002fi\\u003e\",\"\\u003ci\\u003eRheum rhabarbarum\\u003c\\u002fi\\u003e\",\"\\u003ci\\u003eTinospora baenzigeri\\u003c\\u002fi\\u003e\"],\"yaxis\":\"y\",\"type\":\"bar\"}],                        {\"template\":{\"data\":{\"histogram2dcontour\":[{\"type\":\"histogram2dcontour\",\"colorbar\":{\"outlinewidth\":0,\"ticks\":\"\"},\"colorscale\":[[0.0,\"#0d0887\"],[0.1111111111111111,\"#46039f\"],[0.2222222222222222,\"#7201a8\"],[0.3333333333333333,\"#9c179e\"],[0.4444444444444444,\"#bd3786\"],[0.5555555555555556,\"#d8576b\"],[0.6666666666666666,\"#ed7953\"],[0.7777777777777778,\"#fb9f3a\"],[0.8888888888888888,\"#fdca26\"],[1.0,\"#f0f921\"]]}],\"choropleth\":[{\"type\":\"choropleth\",\"colorbar\":{\"outlinewidth\":0,\"ticks\":\"\"}}],\"histogram2d\":[{\"type\":\"histogram2d\",\"colorbar\":{\"outlinewidth\":0,\"ticks\":\"\"},\"colorscale\":[[0.0,\"#0d0887\"],[0.1111111111111111,\"#46039f\"],[0.2222222222222222,\"#7201a8\"],[0.3333333333333333,\"#9c179e\"],[0.4444444444444444,\"#bd3786\"],[0.5555555555555556,\"#d8576b\"],[0.6666666666666666,\"#ed7953\"],[0.7777777777777778,\"#fb9f3a\"],[0.8888888888888888,\"#fdca26\"],[1.0,\"#f0f921\"]]}],\"heatmap\":[{\"type\":\"heatmap\",\"colorbar\":{\"outlinewidth\":0,\"ticks\":\"\"},\"colorscale\":[[0.0,\"#0d0887\"],[0.1111111111111111,\"#46039f\"],[0.2222222222222222,\"#7201a8\"],[0.3333333333333333,\"#9c179e\"],[0.4444444444444444,\"#bd3786\"],[0.5555555555555556,\"#d8576b\"],[0.6666666666666666,\"#ed7953\"],[0.7777777777777778,\"#fb9f3a\"],[0.8888888888888888,\"#fdca26\"],[1.0,\"#f0f921\"]]}],\"heatmapgl\":[{\"type\":\"heatmapgl\",\"colorbar\":{\"outlinewidth\":0,\"ticks\":\"\"},\"colorscale\":[[0.0,\"#0d0887\"],[0.1111111111111111,\"#46039f\"],[0.2222222222222222,\"#7201a8\"],[0.3333333333333333,\"#9c179e\"],[0.4444444444444444,\"#bd3786\"],[0.5555555555555556,\"#d8576b\"],[0.6666666666666666,\"#ed7953\"],[0.7777777777777778,\"#fb9f3a\"],[0.8888888888888888,\"#fdca26\"],[1.0,\"#f0f921\"]]}],\"contourcarpet\":[{\"type\":\"contourcarpet\",\"colorbar\":{\"outlinewidth\":0,\"ticks\":\"\"}}],\"contour\":[{\"type\":\"contour\",\"colorbar\":{\"outlinewidth\":0,\"ticks\":\"\"},\"colorscale\":[[0.0,\"#0d0887\"],[0.1111111111111111,\"#46039f\"],[0.2222222222222222,\"#7201a8\"],[0.3333333333333333,\"#9c179e\"],[0.4444444444444444,\"#bd3786\"],[0.5555555555555556,\"#d8576b\"],[0.6666666666666666,\"#ed7953\"],[0.7777777777777778,\"#fb9f3a\"],[0.8888888888888888,\"#fdca26\"],[1.0,\"#f0f921\"]]}],\"surface\":[{\"type\":\"surface\",\"colorbar\":{\"outlinewidth\":0,\"ticks\":\"\"},\"colorscale\":[[0.0,\"#0d0887\"],[0.1111111111111111,\"#46039f\"],[0.2222222222222222,\"#7201a8\"],[0.3333333333333333,\"#9c179e\"],[0.4444444444444444,\"#bd3786\"],[0.5555555555555556,\"#d8576b\"],[0.6666666666666666,\"#ed7953\"],[0.7777777777777778,\"#fb9f3a\"],[0.8888888888888888,\"#fdca26\"],[1.0,\"#f0f921\"]]}],\"mesh3d\":[{\"type\":\"mesh3d\",\"colorbar\":{\"outlinewidth\":0,\"ticks\":\"\"}}],\"scatter\":[{\"fillpattern\":{\"fillmode\":\"overlay\",\"size\":10,\"solidity\":0.2},\"type\":\"scatter\"}],\"parcoords\":[{\"type\":\"parcoords\",\"line\":{\"colorbar\":{\"outlinewidth\":0,\"ticks\":\"\"}}}],\"scatterpolargl\":[{\"type\":\"scatterpolargl\",\"marker\":{\"colorbar\":{\"outlinewidth\":0,\"ticks\":\"\"}}}],\"bar\":[{\"error_x\":{\"color\":\"#2a3f5f\"},\"error_y\":{\"color\":\"#2a3f5f\"},\"marker\":{\"line\":{\"color\":\"#E5ECF6\",\"width\":0.5},\"pattern\":{\"fillmode\":\"overlay\",\"size\":10,\"solidity\":0.2}},\"type\":\"bar\"}],\"scattergeo\":[{\"type\":\"scattergeo\",\"marker\":{\"colorbar\":{\"outlinewidth\":0,\"ticks\":\"\"}}}],\"scatterpolar\":[{\"type\":\"scatterpolar\",\"marker\":{\"colorbar\":{\"outlinewidth\":0,\"ticks\":\"\"}}}],\"histogram\":[{\"marker\":{\"pattern\":{\"fillmode\":\"overlay\",\"size\":10,\"solidity\":0.2}},\"type\":\"histogram\"}],\"scattergl\":[{\"type\":\"scattergl\",\"marker\":{\"colorbar\":{\"outlinewidth\":0,\"ticks\":\"\"}}}],\"scatter3d\":[{\"type\":\"scatter3d\",\"line\":{\"colorbar\":{\"outlinewidth\":0,\"ticks\":\"\"}},\"marker\":{\"colorbar\":{\"outlinewidth\":0,\"ticks\":\"\"}}}],\"scattermapbox\":[{\"type\":\"scattermapbox\",\"marker\":{\"colorbar\":{\"outlinewidth\":0,\"ticks\":\"\"}}}],\"scatterternary\":[{\"type\":\"scatterternary\",\"marker\":{\"colorbar\":{\"outlinewidth\":0,\"ticks\":\"\"}}}],\"scattercarpet\":[{\"type\":\"scattercarpet\",\"marker\":{\"colorbar\":{\"outlinewidth\":0,\"ticks\":\"\"}}}],\"carpet\":[{\"aaxis\":{\"endlinecolor\":\"#2a3f5f\",\"gridcolor\":\"white\",\"linecolor\":\"white\",\"minorgridcolor\":\"white\",\"startlinecolor\":\"#2a3f5f\"},\"baxis\":{\"endlinecolor\":\"#2a3f5f\",\"gridcolor\":\"white\",\"linecolor\":\"white\",\"minorgridcolor\":\"white\",\"startlinecolor\":\"#2a3f5f\"},\"type\":\"carpet\"}],\"table\":[{\"cells\":{\"fill\":{\"color\":\"#EBF0F8\"},\"line\":{\"color\":\"white\"}},\"header\":{\"fill\":{\"color\":\"#C8D4E3\"},\"line\":{\"color\":\"white\"}},\"type\":\"table\"}],\"barpolar\":[{\"marker\":{\"line\":{\"color\":\"#E5ECF6\",\"width\":0.5},\"pattern\":{\"fillmode\":\"overlay\",\"size\":10,\"solidity\":0.2}},\"type\":\"barpolar\"}],\"pie\":[{\"automargin\":true,\"type\":\"pie\"}]},\"layout\":{\"autotypenumbers\":\"strict\",\"colorway\":[\"#636efa\",\"#EF553B\",\"#00cc96\",\"#ab63fa\",\"#FFA15A\",\"#19d3f3\",\"#FF6692\",\"#B6E880\",\"#FF97FF\",\"#FECB52\"],\"font\":{\"color\":\"#2a3f5f\"},\"hovermode\":\"closest\",\"hoverlabel\":{\"align\":\"left\"},\"paper_bgcolor\":\"white\",\"plot_bgcolor\":\"#E5ECF6\",\"polar\":{\"bgcolor\":\"#E5ECF6\",\"angularaxis\":{\"gridcolor\":\"white\",\"linecolor\":\"white\",\"ticks\":\"\"},\"radialaxis\":{\"gridcolor\":\"white\",\"linecolor\":\"white\",\"ticks\":\"\"}},\"ternary\":{\"bgcolor\":\"#E5ECF6\",\"aaxis\":{\"gridcolor\":\"white\",\"linecolor\":\"white\",\"ticks\":\"\"},\"baxis\":{\"gridcolor\":\"white\",\"linecolor\":\"white\",\"ticks\":\"\"},\"caxis\":{\"gridcolor\":\"white\",\"linecolor\":\"white\",\"ticks\":\"\"}},\"coloraxis\":{\"colorbar\":{\"outlinewidth\":0,\"ticks\":\"\"}},\"colorscale\":{\"sequential\":[[0.0,\"#0d0887\"],[0.1111111111111111,\"#46039f\"],[0.2222222222222222,\"#7201a8\"],[0.3333333333333333,\"#9c179e\"],[0.4444444444444444,\"#bd3786\"],[0.5555555555555556,\"#d8576b\"],[0.6666666666666666,\"#ed7953\"],[0.7777777777777778,\"#fb9f3a\"],[0.8888888888888888,\"#fdca26\"],[1.0,\"#f0f921\"]],\"sequentialminus\":[[0.0,\"#0d0887\"],[0.1111111111111111,\"#46039f\"],[0.2222222222222222,\"#7201a8\"],[0.3333333333333333,\"#9c179e\"],[0.4444444444444444,\"#bd3786\"],[0.5555555555555556,\"#d8576b\"],[0.6666666666666666,\"#ed7953\"],[0.7777777777777778,\"#fb9f3a\"],[0.8888888888888888,\"#fdca26\"],[1.0,\"#f0f921\"]],\"diverging\":[[0,\"#8e0152\"],[0.1,\"#c51b7d\"],[0.2,\"#de77ae\"],[0.3,\"#f1b6da\"],[0.4,\"#fde0ef\"],[0.5,\"#f7f7f7\"],[0.6,\"#e6f5d0\"],[0.7,\"#b8e186\"],[0.8,\"#7fbc41\"],[0.9,\"#4d9221\"],[1,\"#276419\"]]},\"xaxis\":{\"gridcolor\":\"white\",\"linecolor\":\"white\",\"ticks\":\"\",\"title\":{\"standoff\":15},\"zerolinecolor\":\"white\",\"automargin\":true,\"zerolinewidth\":2},\"yaxis\":{\"gridcolor\":\"white\",\"linecolor\":\"white\",\"ticks\":\"\",\"title\":{\"standoff\":15},\"zerolinecolor\":\"white\",\"automargin\":true,\"zerolinewidth\":2},\"scene\":{\"xaxis\":{\"backgroundcolor\":\"#E5ECF6\",\"gridcolor\":\"white\",\"linecolor\":\"white\",\"showbackground\":true,\"ticks\":\"\",\"zerolinecolor\":\"white\",\"gridwidth\":2},\"yaxis\":{\"backgroundcolor\":\"#E5ECF6\",\"gridcolor\":\"white\",\"linecolor\":\"white\",\"showbackground\":true,\"ticks\":\"\",\"zerolinecolor\":\"white\",\"gridwidth\":2},\"zaxis\":{\"backgroundcolor\":\"#E5ECF6\",\"gridcolor\":\"white\",\"linecolor\":\"white\",\"showbackground\":true,\"ticks\":\"\",\"zerolinecolor\":\"white\",\"gridwidth\":2}},\"shapedefaults\":{\"line\":{\"color\":\"#2a3f5f\"}},\"annotationdefaults\":{\"arrowcolor\":\"#2a3f5f\",\"arrowhead\":0,\"arrowwidth\":1},\"geo\":{\"bgcolor\":\"white\",\"landcolor\":\"#E5ECF6\",\"subunitcolor\":\"white\",\"showland\":true,\"showlakes\":true,\"lakecolor\":\"white\"},\"title\":{\"x\":0.05},\"mapbox\":{\"style\":\"light\"}}},\"xaxis\":{\"anchor\":\"y\",\"domain\":[0.0,1.0],\"title\":{\"text\":\"Recurrence\"}},\"yaxis\":{\"anchor\":\"x\",\"domain\":[0.0,1.0],\"title\":{\"text\":\"Species\"}},\"legend\":{\"title\":{\"text\":\"Pathway\"},\"tracegroupgap\":0},\"title\":{\"text\":\"Stacked Barplot of Predicted Pathways Ocurrence for Species\"},\"barmode\":\"relative\",\"plot_bgcolor\":\"white\",\"width\":1500,\"height\":1500},                        {\"responsive\": true}                    ).then(function(){\n",
       "                            \n",
       "var gd = document.getElementById('22becb0c-ae67-4e16-9ddf-765f8df3cefa');\n",
       "var x = new MutationObserver(function (mutations, observer) {{\n",
       "        var display = window.getComputedStyle(gd).display;\n",
       "        if (!display || display === 'none') {{\n",
       "            console.log([gd, 'removed!']);\n",
       "            Plotly.purge(gd);\n",
       "            observer.disconnect();\n",
       "        }}\n",
       "}});\n",
       "\n",
       "// Listen for the removal of the full notebook cells\n",
       "var notebookContainer = gd.closest('#notebook-container');\n",
       "if (notebookContainer) {{\n",
       "    x.observe(notebookContainer, {childList: true});\n",
       "}}\n",
       "\n",
       "// Listen for the clearing of the current output cell\n",
       "var outputEl = gd.closest('.output');\n",
       "if (outputEl) {{\n",
       "    x.observe(outputEl, {childList: true});\n",
       "}}\n",
       "\n",
       "                        })                };                });            </script>        </div>"
      ]
     },
     "metadata": {},
     "output_type": "display_data"
    }
   ],
   "source": [
    "# Define custom colors for the 7 pathway categories\n",
    "pathway_colors = {\n",
    "    'Terpenoids': '#618264',  # Green start and lighter green end\n",
    "    'Alkaloids': '#305F72',   # Blue start and lighter blue end\n",
    "    'Shikimates and Phenylpropanoids': '#80558C',  # Purple start and lighter purple end\n",
    "    'Polyketides': '#EF4B4B',  # Red start and lighter purple end\n",
    "    'Fatty acids': '#FF6C22',  # Orange start and lighter purple end\n",
    "    'Amino acids and Peptides': '#F4E869',  # Yellow start and lighter purple end\n",
    "    'Carbohydrates': '#65451F' # Brown start and lighter purple end\n",
    "}\n",
    "\n",
    "# Step 1: Initialize an empty DataFrame to store all data\n",
    "all_data = pd.DataFrame(columns=['organism_taxonomy_09species', 'structure_taxonomy_npclassifier_01pathway'])\n",
    "\n",
    "# Step 2: Read data from all .tsv files in the output_folder\n",
    "species_data_folder = os.path.join(output_folder, 'species_data')\n",
    "for filename in os.listdir(species_data_folder):\n",
    "    if filename.endswith(\".tsv\"):\n",
    "        file_data = pd.read_csv(os.path.join(species_data_folder, filename), sep='\\t')\n",
    "        all_data = pd.concat([all_data, file_data])\n",
    "\n",
    "# Step 3: Rename the \"queried_taxaLabel\" column to \"species\"\n",
    "all_data.rename(columns={'organism_taxonomy_09species': 'species'}, inplace=True)\n",
    "all_data.rename(columns={'structure_taxonomy_npclassifier_01pathway': 'Pathway'}, inplace=True)\n",
    "# Remove 'API Error-API Error' and 'Not Classified-Not Classified'\n",
    "all_data = all_data[(all_data['Pathway'] != 'API Error') & (all_data['Pathway'] != 'Not Classified')]\n",
    "\n",
    "# Step 4: Group and aggregate data to calculate recurrence\n",
    "agg_data = all_data.groupby(['species', 'Pathway']).size().reset_index(name='recurrence')\n",
    "\n",
    "# Step 5: Create the stacked barplot with custom colors\n",
    "fig = px.bar(agg_data, y=agg_data['species'].apply(lambda x: f\"<i>{x}</i>\"), x='recurrence',\n",
    "             title='Stacked Barplot of Predicted Pathways Ocurrence for Species',\n",
    "             labels={'recurrence': 'Recurrence'},\n",
    "             color='Pathway',\n",
    "             color_discrete_map=pathway_colors,  # Use custom colors\n",
    "             category_orders={'Pathway': sorted(agg_data['Pathway'].unique())},\n",
    "             orientation='h'\n",
    "            )\n",
    "\n",
    "# Modify the y-axis label\n",
    "fig.update_yaxes(title_text='Species')\n",
    "\n",
    "# Set a white background\n",
    "fig.update_layout(plot_bgcolor='white')\n",
    "\n",
    "# Modify the size of the figure\n",
    "fig.update_layout(width=1500, height=1500)\n",
    "\n",
    "# Save the figure as an HTML file\n",
    "fig.write_html(f'{output_folder}Wikidata_pathway_barplot.html')\n",
    "\n",
    "# Show or save the figure\n",
    "fig.show()\n"
   ]
  },
  {
   "cell_type": "markdown",
   "metadata": {},
   "source": [
    "Generate une plot by GENUS and the chemical class"
   ]
  },
  {
   "cell_type": "code",
   "execution_count": 26,
   "metadata": {},
   "outputs": [
    {
     "name": "stderr",
     "output_type": "stream",
     "text": [
      "/tmp/ipykernel_1352/1023424903.py:38: FutureWarning:\n",
      "\n",
      "The behavior of DataFrame concatenation with empty or all-NA entries is deprecated. In a future version, this will no longer exclude empty or all-NA columns when determining the result dtypes. To retain the old behavior, exclude the relevant entries before the concat operation.\n",
      "\n",
      "/tmp/ipykernel_1352/1023424903.py:38: FutureWarning:\n",
      "\n",
      "The behavior of DataFrame concatenation with empty or all-NA entries is deprecated. In a future version, this will no longer exclude empty or all-NA columns when determining the result dtypes. To retain the old behavior, exclude the relevant entries before the concat operation.\n",
      "\n",
      "/tmp/ipykernel_1352/1023424903.py:38: FutureWarning:\n",
      "\n",
      "The behavior of DataFrame concatenation with empty or all-NA entries is deprecated. In a future version, this will no longer exclude empty or all-NA columns when determining the result dtypes. To retain the old behavior, exclude the relevant entries before the concat operation.\n",
      "\n",
      "/tmp/ipykernel_1352/1023424903.py:38: FutureWarning:\n",
      "\n",
      "The behavior of DataFrame concatenation with empty or all-NA entries is deprecated. In a future version, this will no longer exclude empty or all-NA columns when determining the result dtypes. To retain the old behavior, exclude the relevant entries before the concat operation.\n",
      "\n",
      "/tmp/ipykernel_1352/1023424903.py:38: FutureWarning:\n",
      "\n",
      "The behavior of DataFrame concatenation with empty or all-NA entries is deprecated. In a future version, this will no longer exclude empty or all-NA columns when determining the result dtypes. To retain the old behavior, exclude the relevant entries before the concat operation.\n",
      "\n",
      "/tmp/ipykernel_1352/1023424903.py:38: FutureWarning:\n",
      "\n",
      "The behavior of DataFrame concatenation with empty or all-NA entries is deprecated. In a future version, this will no longer exclude empty or all-NA columns when determining the result dtypes. To retain the old behavior, exclude the relevant entries before the concat operation.\n",
      "\n"
     ]
    },
    {
     "data": {
      "application/vnd.plotly.v1+json": {
       "config": {
        "plotlyServerURL": "https://plot.ly"
       },
       "data": [
        {
         "alignmentgroup": "True",
         "hovertemplate": "chemical_superclass=Alkaloids-Anthranilic acid alkaloids<br>Recurrence=%{x}<br>y=%{y}<extra></extra>",
         "legendgroup": "Alkaloids-Anthranilic acid alkaloids",
         "marker": {
          "color": "#56afd2",
          "pattern": {
           "shape": ""
          }
         },
         "name": "Alkaloids-Anthranilic acid alkaloids",
         "offsetgroup": "Alkaloids-Anthranilic acid alkaloids",
         "orientation": "h",
         "showlegend": true,
         "textposition": "auto",
         "type": "bar",
         "x": [
          1
         ],
         "xaxis": "x",
         "y": [
          "<i>Mangifera</i>"
         ],
         "yaxis": "y"
        },
        {
         "alignmentgroup": "True",
         "hovertemplate": "chemical_superclass=Alkaloids-Nicotinic acid alkaloids<br>Recurrence=%{x}<br>y=%{y}<extra></extra>",
         "legendgroup": "Alkaloids-Nicotinic acid alkaloids",
         "marker": {
          "color": "#4994b2",
          "pattern": {
           "shape": ""
          }
         },
         "name": "Alkaloids-Nicotinic acid alkaloids",
         "offsetgroup": "Alkaloids-Nicotinic acid alkaloids",
         "orientation": "h",
         "showlegend": true,
         "textposition": "auto",
         "type": "bar",
         "x": [
          3,
          1,
          2
         ],
         "xaxis": "x",
         "y": [
          "<i>Garcinia</i>",
          "<i>Gnetum</i>",
          "<i>Mangifera</i>"
         ],
         "yaxis": "y"
        },
        {
         "alignmentgroup": "True",
         "hovertemplate": "chemical_superclass=Alkaloids-Ornithine alkaloids<br>Recurrence=%{x}<br>y=%{y}<extra></extra>",
         "legendgroup": "Alkaloids-Ornithine alkaloids",
         "marker": {
          "color": "#4387a2",
          "pattern": {
           "shape": ""
          }
         },
         "name": "Alkaloids-Ornithine alkaloids",
         "offsetgroup": "Alkaloids-Ornithine alkaloids",
         "orientation": "h",
         "showlegend": true,
         "textposition": "auto",
         "type": "bar",
         "x": [
          3,
          1
         ],
         "xaxis": "x",
         "y": [
          "<i>Garcinia</i>",
          "<i>Rheum</i>"
         ],
         "yaxis": "y"
        },
        {
         "alignmentgroup": "True",
         "hovertemplate": "chemical_superclass=Alkaloids-Peptide alkaloids<br>Recurrence=%{x}<br>y=%{y}<extra></extra>",
         "legendgroup": "Alkaloids-Peptide alkaloids",
         "marker": {
          "color": "#3d7a92",
          "pattern": {
           "shape": ""
          }
         },
         "name": "Alkaloids-Peptide alkaloids",
         "offsetgroup": "Alkaloids-Peptide alkaloids",
         "orientation": "h",
         "showlegend": true,
         "textposition": "auto",
         "type": "bar",
         "x": [
          1
         ],
         "xaxis": "x",
         "y": [
          "<i>Erythrophleum</i>"
         ],
         "yaxis": "y"
        },
        {
         "alignmentgroup": "True",
         "hovertemplate": "chemical_superclass=Alkaloids-Pseudoalkaloids<br>Recurrence=%{x}<br>y=%{y}<extra></extra>",
         "legendgroup": "Alkaloids-Pseudoalkaloids",
         "marker": {
          "color": "#366c82",
          "pattern": {
           "shape": ""
          }
         },
         "name": "Alkaloids-Pseudoalkaloids",
         "offsetgroup": "Alkaloids-Pseudoalkaloids",
         "orientation": "h",
         "showlegend": true,
         "textposition": "auto",
         "type": "bar",
         "x": [
          1,
          4,
          2
         ],
         "xaxis": "x",
         "y": [
          "<i>Atractylodes</i>",
          "<i>Garcinia</i>",
          "<i>Mangifera</i>"
         ],
         "yaxis": "y"
        },
        {
         "alignmentgroup": "True",
         "hovertemplate": "chemical_superclass=Alkaloids-Tetramate alkaloids<br>Recurrence=%{x}<br>y=%{y}<extra></extra>",
         "legendgroup": "Alkaloids-Tetramate alkaloids",
         "marker": {
          "color": "#5cbce2",
          "pattern": {
           "shape": ""
          }
         },
         "name": "Alkaloids-Tetramate alkaloids",
         "offsetgroup": "Alkaloids-Tetramate alkaloids",
         "orientation": "h",
         "showlegend": true,
         "textposition": "auto",
         "type": "bar",
         "x": [
          1
         ],
         "xaxis": "x",
         "y": [
          "<i>Mangifera</i>"
         ],
         "yaxis": "y"
        },
        {
         "alignmentgroup": "True",
         "hovertemplate": "chemical_superclass=Alkaloids-Tryptophan alkaloids<br>Recurrence=%{x}<br>y=%{y}<extra></extra>",
         "legendgroup": "Alkaloids-Tryptophan alkaloids",
         "marker": {
          "color": "#4fa1c2",
          "pattern": {
           "shape": ""
          }
         },
         "name": "Alkaloids-Tryptophan alkaloids",
         "offsetgroup": "Alkaloids-Tryptophan alkaloids",
         "orientation": "h",
         "showlegend": true,
         "textposition": "auto",
         "type": "bar",
         "x": [
          1,
          120,
          1,
          1
         ],
         "xaxis": "x",
         "y": [
          "<i>Garcinia</i>",
          "<i>Melodinus</i>",
          "<i>Rheum</i>",
          "<i>Tinospora</i>"
         ],
         "yaxis": "y"
        },
        {
         "alignmentgroup": "True",
         "hovertemplate": "chemical_superclass=Alkaloids-Tyrosine alkaloids<br>Recurrence=%{x}<br>y=%{y}<extra></extra>",
         "legendgroup": "Alkaloids-Tyrosine alkaloids",
         "marker": {
          "color": "#305f72",
          "pattern": {
           "shape": ""
          }
         },
         "name": "Alkaloids-Tyrosine alkaloids",
         "offsetgroup": "Alkaloids-Tyrosine alkaloids",
         "orientation": "h",
         "showlegend": true,
         "textposition": "auto",
         "type": "bar",
         "x": [
          3,
          5,
          21,
          1,
          1,
          17
         ],
         "xaxis": "x",
         "y": [
          "<i>Ampelocissus</i>",
          "<i>Garcinia</i>",
          "<i>Gnetum</i>",
          "<i>Mangifera</i>",
          "<i>Melodinus</i>",
          "<i>Tinospora</i>"
         ],
         "yaxis": "y"
        },
        {
         "alignmentgroup": "True",
         "hovertemplate": "chemical_superclass=Amino acids and Peptides-Amino acid glycosides<br>Recurrence=%{x}<br>y=%{y}<extra></extra>",
         "legendgroup": "Amino acids and Peptides-Amino acid glycosides",
         "marker": {
          "color": "#faf2d3",
          "pattern": {
           "shape": ""
          }
         },
         "name": "Amino acids and Peptides-Amino acid glycosides",
         "offsetgroup": "Amino acids and Peptides-Amino acid glycosides",
         "orientation": "h",
         "showlegend": true,
         "textposition": "auto",
         "type": "bar",
         "x": [
          2
         ],
         "xaxis": "x",
         "y": [
          "<i>Garcinia</i>"
         ],
         "yaxis": "y"
        },
        {
         "alignmentgroup": "True",
         "hovertemplate": "chemical_superclass=Amino acids and Peptides-Phenylpropanoids (C6-C3)<br>Recurrence=%{x}<br>y=%{y}<extra></extra>",
         "legendgroup": "Amino acids and Peptides-Phenylpropanoids (C6-C3)",
         "marker": {
          "color": "#FFA15A",
          "pattern": {
           "shape": ""
          }
         },
         "name": "Amino acids and Peptides-Phenylpropanoids (C6-C3)",
         "offsetgroup": "Amino acids and Peptides-Phenylpropanoids (C6-C3)",
         "orientation": "h",
         "showlegend": true,
         "textposition": "auto",
         "type": "bar",
         "x": [
          6,
          7
         ],
         "xaxis": "x",
         "y": [
          "<i>Erythrophleum</i>",
          "<i>Tinospora</i>"
         ],
         "yaxis": "y"
        },
        {
         "alignmentgroup": "True",
         "hovertemplate": "chemical_superclass=Amino acids and Peptides-Small peptides<br>Recurrence=%{x}<br>y=%{y}<extra></extra>",
         "legendgroup": "Amino acids and Peptides-Small peptides",
         "marker": {
          "color": "#f4e869",
          "pattern": {
           "shape": ""
          }
         },
         "name": "Amino acids and Peptides-Small peptides",
         "offsetgroup": "Amino acids and Peptides-Small peptides",
         "orientation": "h",
         "showlegend": true,
         "textposition": "auto",
         "type": "bar",
         "x": [
          4,
          18,
          2,
          1
         ],
         "xaxis": "x",
         "y": [
          "<i>Atractylodes</i>",
          "<i>Garcinia</i>",
          "<i>Mangifera</i>",
          "<i>Rheum</i>"
         ],
         "yaxis": "y"
        },
        {
         "alignmentgroup": "True",
         "hovertemplate": "chemical_superclass=Amino acids and Peptides-β-lactams<br>Recurrence=%{x}<br>y=%{y}<extra></extra>",
         "legendgroup": "Amino acids and Peptides-β-lactams",
         "marker": {
          "color": "#19d3f3",
          "pattern": {
           "shape": ""
          }
         },
         "name": "Amino acids and Peptides-β-lactams",
         "offsetgroup": "Amino acids and Peptides-β-lactams",
         "orientation": "h",
         "showlegend": true,
         "textposition": "auto",
         "type": "bar",
         "x": [
          1
         ],
         "xaxis": "x",
         "y": [
          "<i>Melodinus</i>"
         ],
         "yaxis": "y"
        },
        {
         "alignmentgroup": "True",
         "hovertemplate": "chemical_superclass=Carbohydrates-Aminosugars and aminoglycosides<br>Recurrence=%{x}<br>y=%{y}<extra></extra>",
         "legendgroup": "Carbohydrates-Aminosugars and aminoglycosides",
         "marker": {
          "color": "#c8ae7d",
          "pattern": {
           "shape": ""
          }
         },
         "name": "Carbohydrates-Aminosugars and aminoglycosides",
         "offsetgroup": "Carbohydrates-Aminosugars and aminoglycosides",
         "orientation": "h",
         "showlegend": true,
         "textposition": "auto",
         "type": "bar",
         "x": [
          1
         ],
         "xaxis": "x",
         "y": [
          "<i>Garcinia</i>"
         ],
         "yaxis": "y"
        },
        {
         "alignmentgroup": "True",
         "hovertemplate": "chemical_superclass=Carbohydrates-Nucleosides<br>Recurrence=%{x}<br>y=%{y}<extra></extra>",
         "legendgroup": "Carbohydrates-Nucleosides",
         "marker": {
          "color": "#65451f",
          "pattern": {
           "shape": ""
          }
         },
         "name": "Carbohydrates-Nucleosides",
         "offsetgroup": "Carbohydrates-Nucleosides",
         "orientation": "h",
         "showlegend": true,
         "textposition": "auto",
         "type": "bar",
         "x": [
          5,
          1,
          1
         ],
         "xaxis": "x",
         "y": [
          "<i>Atractylodes</i>",
          "<i>Garcinia</i>",
          "<i>Mangifera</i>"
         ],
         "yaxis": "y"
        },
        {
         "alignmentgroup": "True",
         "hovertemplate": "chemical_superclass=Carbohydrates-Polyols<br>Recurrence=%{x}<br>y=%{y}<extra></extra>",
         "legendgroup": "Carbohydrates-Polyols",
         "marker": {
          "color": "#a78b5e",
          "pattern": {
           "shape": ""
          }
         },
         "name": "Carbohydrates-Polyols",
         "offsetgroup": "Carbohydrates-Polyols",
         "orientation": "h",
         "showlegend": true,
         "textposition": "auto",
         "type": "bar",
         "x": [
          1
         ],
         "xaxis": "x",
         "y": [
          "<i>Erythrophleum</i>"
         ],
         "yaxis": "y"
        },
        {
         "alignmentgroup": "True",
         "hovertemplate": "chemical_superclass=Carbohydrates-Saccharides<br>Recurrence=%{x}<br>y=%{y}<extra></extra>",
         "legendgroup": "Carbohydrates-Saccharides",
         "marker": {
          "color": "#86683e",
          "pattern": {
           "shape": ""
          }
         },
         "name": "Carbohydrates-Saccharides",
         "offsetgroup": "Carbohydrates-Saccharides",
         "orientation": "h",
         "showlegend": true,
         "textposition": "auto",
         "type": "bar",
         "x": [
          1,
          4,
          1,
          3,
          2
         ],
         "xaxis": "x",
         "y": [
          "<i>Ceiba</i>",
          "<i>Garcinia</i>",
          "<i>Gnetum</i>",
          "<i>Mangifera</i>",
          "<i>Pachyrhizus</i>"
         ],
         "yaxis": "y"
        },
        {
         "alignmentgroup": "True",
         "hovertemplate": "chemical_superclass=Fatty acids-Eicosanoids<br>Recurrence=%{x}<br>y=%{y}<extra></extra>",
         "legendgroup": "Fatty acids-Eicosanoids",
         "marker": {
          "color": "#ff8c0d",
          "pattern": {
           "shape": ""
          }
         },
         "name": "Fatty acids-Eicosanoids",
         "offsetgroup": "Fatty acids-Eicosanoids",
         "orientation": "h",
         "showlegend": true,
         "textposition": "auto",
         "type": "bar",
         "x": [
          1
         ],
         "xaxis": "x",
         "y": [
          "<i>Garcinia</i>"
         ],
         "yaxis": "y"
        },
        {
         "alignmentgroup": "True",
         "hovertemplate": "chemical_superclass=Fatty acids-Fatty Acids and Conjugates<br>Recurrence=%{x}<br>y=%{y}<extra></extra>",
         "legendgroup": "Fatty acids-Fatty Acids and Conjugates",
         "marker": {
          "color": "#ff721e",
          "pattern": {
           "shape": ""
          }
         },
         "name": "Fatty acids-Fatty Acids and Conjugates",
         "offsetgroup": "Fatty acids-Fatty Acids and Conjugates",
         "orientation": "h",
         "showlegend": true,
         "textposition": "auto",
         "type": "bar",
         "x": [
          5,
          2,
          32,
          11,
          38,
          4,
          1
         ],
         "xaxis": "x",
         "y": [
          "<i>Atractylodes</i>",
          "<i>Ceiba</i>",
          "<i>Garcinia</i>",
          "<i>Gnetum</i>",
          "<i>Mangifera</i>",
          "<i>Rheum</i>",
          "<i>Shorea</i>"
         ],
         "yaxis": "y"
        },
        {
         "alignmentgroup": "True",
         "hovertemplate": "chemical_superclass=Fatty acids-Fatty acyls<br>Recurrence=%{x}<br>y=%{y}<extra></extra>",
         "legendgroup": "Fatty acids-Fatty acyls",
         "marker": {
          "color": "#ff791a",
          "pattern": {
           "shape": ""
          }
         },
         "name": "Fatty acids-Fatty acyls",
         "offsetgroup": "Fatty acids-Fatty acyls",
         "orientation": "h",
         "showlegend": true,
         "textposition": "auto",
         "type": "bar",
         "x": [
          9,
          1,
          12,
          2,
          81,
          2
         ],
         "xaxis": "x",
         "y": [
          "<i>Atractylodes</i>",
          "<i>Bischofia</i>",
          "<i>Garcinia</i>",
          "<i>Holoptelea</i>",
          "<i>Mangifera</i>",
          "<i>Tinospora</i>"
         ],
         "yaxis": "y"
        },
        {
         "alignmentgroup": "True",
         "hovertemplate": "chemical_superclass=Fatty acids-Fatty amides<br>Recurrence=%{x}<br>y=%{y}<extra></extra>",
         "legendgroup": "Fatty acids-Fatty amides",
         "marker": {
          "color": "#ff9209",
          "pattern": {
           "shape": ""
          }
         },
         "name": "Fatty acids-Fatty amides",
         "offsetgroup": "Fatty acids-Fatty amides",
         "orientation": "h",
         "showlegend": true,
         "textposition": "auto",
         "type": "bar",
         "x": [
          2
         ],
         "xaxis": "x",
         "y": [
          "<i>Mangifera</i>"
         ],
         "yaxis": "y"
        },
        {
         "alignmentgroup": "True",
         "hovertemplate": "chemical_superclass=Fatty acids-Fatty esters<br>Recurrence=%{x}<br>y=%{y}<extra></extra>",
         "legendgroup": "Fatty acids-Fatty esters",
         "marker": {
          "color": "#ff6c22",
          "pattern": {
           "shape": ""
          }
         },
         "name": "Fatty acids-Fatty esters",
         "offsetgroup": "Fatty acids-Fatty esters",
         "orientation": "h",
         "showlegend": true,
         "textposition": "auto",
         "type": "bar",
         "x": [
          11,
          6,
          107,
          1,
          1
         ],
         "xaxis": "x",
         "y": [
          "<i>Atractylodes</i>",
          "<i>Garcinia</i>",
          "<i>Mangifera</i>",
          "<i>Shorea</i>",
          "<i>Tinospora</i>"
         ],
         "yaxis": "y"
        },
        {
         "alignmentgroup": "True",
         "hovertemplate": "chemical_superclass=Fatty acids-Glycerolipids<br>Recurrence=%{x}<br>y=%{y}<extra></extra>",
         "legendgroup": "Fatty acids-Glycerolipids",
         "marker": {
          "color": "#ff8511",
          "pattern": {
           "shape": ""
          }
         },
         "name": "Fatty acids-Glycerolipids",
         "offsetgroup": "Fatty acids-Glycerolipids",
         "orientation": "h",
         "showlegend": true,
         "textposition": "auto",
         "type": "bar",
         "x": [
          1
         ],
         "xaxis": "x",
         "y": [
          "<i>Garcinia</i>"
         ],
         "yaxis": "y"
        },
        {
         "alignmentgroup": "True",
         "hovertemplate": "chemical_superclass=Fatty acids-Octadecanoids<br>Recurrence=%{x}<br>y=%{y}<extra></extra>",
         "legendgroup": "Fatty acids-Octadecanoids",
         "marker": {
          "color": "#ff7f16",
          "pattern": {
           "shape": ""
          }
         },
         "name": "Fatty acids-Octadecanoids",
         "offsetgroup": "Fatty acids-Octadecanoids",
         "orientation": "h",
         "showlegend": true,
         "textposition": "auto",
         "type": "bar",
         "x": [
          1,
          1
         ],
         "xaxis": "x",
         "y": [
          "<i>Garcinia</i>",
          "<i>Shorea</i>"
         ],
         "yaxis": "y"
        },
        {
         "alignmentgroup": "True",
         "hovertemplate": "chemical_superclass=Polyketides-Aromatic polyketides<br>Recurrence=%{x}<br>y=%{y}<extra></extra>",
         "legendgroup": "Polyketides-Aromatic polyketides",
         "marker": {
          "color": "#ee5751",
          "pattern": {
           "shape": ""
          }
         },
         "name": "Polyketides-Aromatic polyketides",
         "offsetgroup": "Polyketides-Aromatic polyketides",
         "orientation": "h",
         "showlegend": true,
         "textposition": "auto",
         "type": "bar",
         "x": [
          1,
          22,
          3,
          6,
          1,
          1,
          1
         ],
         "xaxis": "x",
         "y": [
          "<i>Atractylodes</i>",
          "<i>Garcinia</i>",
          "<i>Hopea</i>",
          "<i>Mangifera</i>",
          "<i>Melodinus</i>",
          "<i>Shorea</i>",
          "<i>Stauntonia</i>"
         ],
         "yaxis": "y"
        },
        {
         "alignmentgroup": "True",
         "hovertemplate": "chemical_superclass=Polyketides-Chromanes<br>Recurrence=%{x}<br>y=%{y}<extra></extra>",
         "legendgroup": "Polyketides-Chromanes",
         "marker": {
          "color": "#ec8967",
          "pattern": {
           "shape": ""
          }
         },
         "name": "Polyketides-Chromanes",
         "offsetgroup": "Polyketides-Chromanes",
         "orientation": "h",
         "showlegend": true,
         "textposition": "auto",
         "type": "bar",
         "x": [
          7,
          4
         ],
         "xaxis": "x",
         "y": [
          "<i>Garcinia</i>",
          "<i>Rheum</i>"
         ],
         "yaxis": "y"
        },
        {
         "alignmentgroup": "True",
         "hovertemplate": "chemical_superclass=Polyketides-Cyclic polyketides<br>Recurrence=%{x}<br>y=%{y}<extra></extra>",
         "legendgroup": "Polyketides-Cyclic polyketides",
         "marker": {
          "color": "#ed765f",
          "pattern": {
           "shape": ""
          }
         },
         "name": "Polyketides-Cyclic polyketides",
         "offsetgroup": "Polyketides-Cyclic polyketides",
         "orientation": "h",
         "showlegend": true,
         "textposition": "auto",
         "type": "bar",
         "x": [
          8,
          11
         ],
         "xaxis": "x",
         "y": [
          "<i>Garcinia</i>",
          "<i>Mangifera</i>"
         ],
         "yaxis": "y"
        },
        {
         "alignmentgroup": "True",
         "hovertemplate": "chemical_superclass=Polyketides-Diphenyl ethers (DPEs)<br>Recurrence=%{x}<br>y=%{y}<extra></extra>",
         "legendgroup": "Polyketides-Diphenyl ethers (DPEs)",
         "marker": {
          "color": "#ed705c",
          "pattern": {
           "shape": ""
          }
         },
         "name": "Polyketides-Diphenyl ethers (DPEs)",
         "offsetgroup": "Polyketides-Diphenyl ethers (DPEs)",
         "orientation": "h",
         "showlegend": true,
         "textposition": "auto",
         "type": "bar",
         "x": [
          1
         ],
         "xaxis": "x",
         "y": [
          "<i>Garcinia</i>"
         ],
         "yaxis": "y"
        },
        {
         "alignmentgroup": "True",
         "hovertemplate": "chemical_superclass=Polyketides-Linear polyketides<br>Recurrence=%{x}<br>y=%{y}<extra></extra>",
         "legendgroup": "Polyketides-Linear polyketides",
         "marker": {
          "color": "#ef4b4b",
          "pattern": {
           "shape": ""
          }
         },
         "name": "Polyketides-Linear polyketides",
         "offsetgroup": "Polyketides-Linear polyketides",
         "orientation": "h",
         "showlegend": true,
         "textposition": "auto",
         "type": "bar",
         "x": [
          2
         ],
         "xaxis": "x",
         "y": [
          "<i>Ampelocissus</i>"
         ],
         "yaxis": "y"
        },
        {
         "alignmentgroup": "True",
         "hovertemplate": "chemical_superclass=Polyketides-Macrolides<br>Recurrence=%{x}<br>y=%{y}<extra></extra>",
         "legendgroup": "Polyketides-Macrolides",
         "marker": {
          "color": "#ee5e53",
          "pattern": {
           "shape": ""
          }
         },
         "name": "Polyketides-Macrolides",
         "offsetgroup": "Polyketides-Macrolides",
         "orientation": "h",
         "showlegend": true,
         "textposition": "auto",
         "type": "bar",
         "x": [
          1,
          3,
          1
         ],
         "xaxis": "x",
         "y": [
          "<i>Cyphostemma</i>",
          "<i>Garcinia</i>",
          "<i>Mangifera</i>"
         ],
         "yaxis": "y"
        },
        {
         "alignmentgroup": "True",
         "hovertemplate": "chemical_superclass=Polyketides-Meroterpenoids<br>Recurrence=%{x}<br>y=%{y}<extra></extra>",
         "legendgroup": "Polyketides-Meroterpenoids",
         "marker": {
          "color": "#ef514e",
          "pattern": {
           "shape": ""
          }
         },
         "name": "Polyketides-Meroterpenoids",
         "offsetgroup": "Polyketides-Meroterpenoids",
         "orientation": "h",
         "showlegend": true,
         "textposition": "auto",
         "type": "bar",
         "x": [
          6,
          247,
          1
         ],
         "xaxis": "x",
         "y": [
          "<i>Atractylodes</i>",
          "<i>Garcinia</i>",
          "<i>Mangifera</i>"
         ],
         "yaxis": "y"
        },
        {
         "alignmentgroup": "True",
         "hovertemplate": "chemical_superclass=Polyketides-Naphthalenes<br>Recurrence=%{x}<br>y=%{y}<extra></extra>",
         "legendgroup": "Polyketides-Naphthalenes",
         "marker": {
          "color": "#ec8f6a",
          "pattern": {
           "shape": ""
          }
         },
         "name": "Polyketides-Naphthalenes",
         "offsetgroup": "Polyketides-Naphthalenes",
         "orientation": "h",
         "showlegend": true,
         "textposition": "auto",
         "type": "bar",
         "x": [
          5,
          1,
          5
         ],
         "xaxis": "x",
         "y": [
          "<i>Garcinia</i>",
          "<i>Mangifera</i>",
          "<i>Rheum</i>"
         ],
         "yaxis": "y"
        },
        {
         "alignmentgroup": "True",
         "hovertemplate": "chemical_superclass=Polyketides-Phloroglucinols<br>Recurrence=%{x}<br>y=%{y}<extra></extra>",
         "legendgroup": "Polyketides-Phloroglucinols",
         "marker": {
          "color": "#ee6a59",
          "pattern": {
           "shape": ""
          }
         },
         "name": "Polyketides-Phloroglucinols",
         "offsetgroup": "Polyketides-Phloroglucinols",
         "orientation": "h",
         "showlegend": true,
         "textposition": "auto",
         "type": "bar",
         "x": [
          38,
          13
         ],
         "xaxis": "x",
         "y": [
          "<i>Garcinia</i>",
          "<i>Mangifera</i>"
         ],
         "yaxis": "y"
        },
        {
         "alignmentgroup": "True",
         "hovertemplate": "chemical_superclass=Polyketides-Polycyclic aromatic polyketides<br>Recurrence=%{x}<br>y=%{y}<extra></extra>",
         "legendgroup": "Polyketides-Polycyclic aromatic polyketides",
         "marker": {
          "color": "#ed7c62",
          "pattern": {
           "shape": ""
          }
         },
         "name": "Polyketides-Polycyclic aromatic polyketides",
         "offsetgroup": "Polyketides-Polycyclic aromatic polyketides",
         "orientation": "h",
         "showlegend": true,
         "textposition": "auto",
         "type": "bar",
         "x": [
          1,
          57,
          1
         ],
         "xaxis": "x",
         "y": [
          "<i>Garcinia</i>",
          "<i>Rheum</i>",
          "<i>Shorea</i>"
         ],
         "yaxis": "y"
        },
        {
         "alignmentgroup": "True",
         "hovertemplate": "chemical_superclass=Polyketides-Polyethers<br>Recurrence=%{x}<br>y=%{y}<extra></extra>",
         "legendgroup": "Polyketides-Polyethers",
         "marker": {
          "color": "#ed8364",
          "pattern": {
           "shape": ""
          }
         },
         "name": "Polyketides-Polyethers",
         "offsetgroup": "Polyketides-Polyethers",
         "orientation": "h",
         "showlegend": true,
         "textposition": "auto",
         "type": "bar",
         "x": [
          1
         ],
         "xaxis": "x",
         "y": [
          "<i>Garcinia</i>"
         ],
         "yaxis": "y"
        },
        {
         "alignmentgroup": "True",
         "hovertemplate": "chemical_superclass=Polyketides-Xanthones<br>Recurrence=%{x}<br>y=%{y}<extra></extra>",
         "legendgroup": "Polyketides-Xanthones",
         "marker": {
          "color": "#ee6456",
          "pattern": {
           "shape": ""
          }
         },
         "name": "Polyketides-Xanthones",
         "offsetgroup": "Polyketides-Xanthones",
         "orientation": "h",
         "showlegend": true,
         "textposition": "auto",
         "type": "bar",
         "x": [
          17,
          4
         ],
         "xaxis": "x",
         "y": [
          "<i>Garcinia</i>",
          "<i>Mangifera</i>"
         ],
         "yaxis": "y"
        },
        {
         "alignmentgroup": "True",
         "hovertemplate": "chemical_superclass=Shikimates and Phenylpropanoids-Coumarins<br>Recurrence=%{x}<br>y=%{y}<extra></extra>",
         "legendgroup": "Shikimates and Phenylpropanoids-Coumarins",
         "marker": {
          "color": "#885c8f",
          "pattern": {
           "shape": ""
          }
         },
         "name": "Shikimates and Phenylpropanoids-Coumarins",
         "offsetgroup": "Shikimates and Phenylpropanoids-Coumarins",
         "orientation": "h",
         "showlegend": true,
         "textposition": "auto",
         "type": "bar",
         "x": [
          5,
          16,
          3,
          1,
          2,
          1
         ],
         "xaxis": "x",
         "y": [
          "<i>Atractylodes</i>",
          "<i>Garcinia</i>",
          "<i>Hopea</i>",
          "<i>Mangifera</i>",
          "<i>Pachyrhizus</i>",
          "<i>Shorea</i>"
         ],
         "yaxis": "y"
        },
        {
         "alignmentgroup": "True",
         "hovertemplate": "chemical_superclass=Shikimates and Phenylpropanoids-Diarylheptanoids<br>Recurrence=%{x}<br>y=%{y}<extra></extra>",
         "legendgroup": "Shikimates and Phenylpropanoids-Diarylheptanoids",
         "marker": {
          "color": "#bc91a7",
          "pattern": {
           "shape": ""
          }
         },
         "name": "Shikimates and Phenylpropanoids-Diarylheptanoids",
         "offsetgroup": "Shikimates and Phenylpropanoids-Diarylheptanoids",
         "orientation": "h",
         "showlegend": true,
         "textposition": "auto",
         "type": "bar",
         "x": [
          1
         ],
         "xaxis": "x",
         "y": [
          "<i>Gnetum</i>"
         ],
         "yaxis": "y"
        },
        {
         "alignmentgroup": "True",
         "hovertemplate": "chemical_superclass=Shikimates and Phenylpropanoids-Flavonoids<br>Recurrence=%{x}<br>y=%{y}<extra></extra>",
         "legendgroup": "Shikimates and Phenylpropanoids-Flavonoids",
         "marker": {
          "color": "#80558c",
          "pattern": {
           "shape": ""
          }
         },
         "name": "Shikimates and Phenylpropanoids-Flavonoids",
         "offsetgroup": "Shikimates and Phenylpropanoids-Flavonoids",
         "orientation": "h",
         "showlegend": true,
         "textposition": "auto",
         "type": "bar",
         "x": [
          1,
          4,
          6,
          1,
          2,
          3,
          1,
          162,
          38,
          1,
          43,
          22,
          4,
          1,
          22
         ],
         "xaxis": "x",
         "y": [
          "<i>Ampelocissus</i>",
          "<i>Atractylodes</i>",
          "<i>Bischofia</i>",
          "<i>Calycopteris</i>",
          "<i>Ceiba</i>",
          "<i>Cyphostemma</i>",
          "<i>Erythrophleum</i>",
          "<i>Garcinia</i>",
          "<i>Gnetum</i>",
          "<i>Hopea</i>",
          "<i>Mangifera</i>",
          "<i>Rheum</i>",
          "<i>Shorea</i>",
          "<i>Stauntonia</i>",
          "<i>Tinospora</i>"
         ],
         "yaxis": "y"
        },
        {
         "alignmentgroup": "True",
         "hovertemplate": "chemical_superclass=Shikimates and Phenylpropanoids-Isoflavonoids<br>Recurrence=%{x}<br>y=%{y}<extra></extra>",
         "legendgroup": "Shikimates and Phenylpropanoids-Isoflavonoids",
         "marker": {
          "color": "#966b96",
          "pattern": {
           "shape": ""
          }
         },
         "name": "Shikimates and Phenylpropanoids-Isoflavonoids",
         "offsetgroup": "Shikimates and Phenylpropanoids-Isoflavonoids",
         "orientation": "h",
         "showlegend": true,
         "textposition": "auto",
         "type": "bar",
         "x": [
          5,
          27,
          5,
          1,
          26
         ],
         "xaxis": "x",
         "y": [
          "<i>Ceiba</i>",
          "<i>Garcinia</i>",
          "<i>Gnetum</i>",
          "<i>Mangifera</i>",
          "<i>Pachyrhizus</i>"
         ],
         "yaxis": "y"
        },
        {
         "alignmentgroup": "True",
         "hovertemplate": "chemical_superclass=Shikimates and Phenylpropanoids-Lignans<br>Recurrence=%{x}<br>y=%{y}<extra></extra>",
         "legendgroup": "Shikimates and Phenylpropanoids-Lignans",
         "marker": {
          "color": "#ad82a0",
          "pattern": {
           "shape": ""
          }
         },
         "name": "Shikimates and Phenylpropanoids-Lignans",
         "offsetgroup": "Shikimates and Phenylpropanoids-Lignans",
         "orientation": "h",
         "showlegend": true,
         "textposition": "auto",
         "type": "bar",
         "x": [
          11,
          10,
          1,
          2,
          2,
          3,
          21
         ],
         "xaxis": "x",
         "y": [
          "<i>Garcinia</i>",
          "<i>Gnetum</i>",
          "<i>Hopea</i>",
          "<i>Mangifera</i>",
          "<i>Rheum</i>",
          "<i>Stauntonia</i>",
          "<i>Tinospora</i>"
         ],
         "yaxis": "y"
        },
        {
         "alignmentgroup": "True",
         "hovertemplate": "chemical_superclass=Shikimates and Phenylpropanoids-Phenanthrenoids<br>Recurrence=%{x}<br>y=%{y}<extra></extra>",
         "legendgroup": "Shikimates and Phenylpropanoids-Phenanthrenoids",
         "marker": {
          "color": "#cba0ae",
          "pattern": {
           "shape": ""
          }
         },
         "name": "Shikimates and Phenylpropanoids-Phenanthrenoids",
         "offsetgroup": "Shikimates and Phenylpropanoids-Phenanthrenoids",
         "orientation": "h",
         "showlegend": true,
         "textposition": "auto",
         "type": "bar",
         "x": [
          2
         ],
         "xaxis": "x",
         "y": [
          "<i>Mangifera</i>"
         ],
         "yaxis": "y"
        },
        {
         "alignmentgroup": "True",
         "hovertemplate": "chemical_superclass=Shikimates and Phenylpropanoids-Phenolic acids (C6-C1)<br>Recurrence=%{x}<br>y=%{y}<extra></extra>",
         "legendgroup": "Shikimates and Phenylpropanoids-Phenolic acids (C6-C1)",
         "marker": {
          "color": "#FF6692",
          "pattern": {
           "shape": ""
          }
         },
         "name": "Shikimates and Phenylpropanoids-Phenolic acids (C6-C1)",
         "offsetgroup": "Shikimates and Phenylpropanoids-Phenolic acids (C6-C1)",
         "orientation": "h",
         "showlegend": true,
         "textposition": "auto",
         "type": "bar",
         "x": [
          8,
          1,
          1,
          11,
          2,
          25,
          12
         ],
         "xaxis": "x",
         "y": [
          "<i>Bischofia</i>",
          "<i>Ceiba</i>",
          "<i>Erythrophleum</i>",
          "<i>Garcinia</i>",
          "<i>Gnetum</i>",
          "<i>Mangifera</i>",
          "<i>Rheum</i>"
         ],
         "yaxis": "y"
        },
        {
         "alignmentgroup": "True",
         "hovertemplate": "chemical_superclass=Shikimates and Phenylpropanoids-Phenylethanoids (C6-C2)<br>Recurrence=%{x}<br>y=%{y}<extra></extra>",
         "legendgroup": "Shikimates and Phenylpropanoids-Phenylethanoids (C6-C2)",
         "marker": {
          "color": "#B6E880",
          "pattern": {
           "shape": ""
          }
         },
         "name": "Shikimates and Phenylpropanoids-Phenylethanoids (C6-C2)",
         "offsetgroup": "Shikimates and Phenylpropanoids-Phenylethanoids (C6-C2)",
         "orientation": "h",
         "showlegend": true,
         "textposition": "auto",
         "type": "bar",
         "x": [
          4,
          1,
          2,
          2
         ],
         "xaxis": "x",
         "y": [
          "<i>Atractylodes</i>",
          "<i>Garcinia</i>",
          "<i>Mangifera</i>",
          "<i>Tinospora</i>"
         ],
         "yaxis": "y"
        },
        {
         "alignmentgroup": "True",
         "hovertemplate": "chemical_superclass=Shikimates and Phenylpropanoids-Phenylpropanoids (C6-C3)<br>Recurrence=%{x}<br>y=%{y}<extra></extra>",
         "legendgroup": "Shikimates and Phenylpropanoids-Phenylpropanoids (C6-C3)",
         "marker": {
          "color": "#FF97FF",
          "pattern": {
           "shape": ""
          }
         },
         "name": "Shikimates and Phenylpropanoids-Phenylpropanoids (C6-C3)",
         "offsetgroup": "Shikimates and Phenylpropanoids-Phenylpropanoids (C6-C3)",
         "orientation": "h",
         "showlegend": true,
         "textposition": "auto",
         "type": "bar",
         "x": [
          5,
          2,
          6,
          2,
          23,
          4,
          1,
          4
         ],
         "xaxis": "x",
         "y": [
          "<i>Atractylodes</i>",
          "<i>Erythrophleum</i>",
          "<i>Garcinia</i>",
          "<i>Gnetum</i>",
          "<i>Mangifera</i>",
          "<i>Rheum</i>",
          "<i>Stauntonia</i>",
          "<i>Tinospora</i>"
         ],
         "yaxis": "y"
        },
        {
         "alignmentgroup": "True",
         "hovertemplate": "chemical_superclass=Shikimates and Phenylpropanoids-Stilbenoids<br>Recurrence=%{x}<br>y=%{y}<extra></extra>",
         "legendgroup": "Shikimates and Phenylpropanoids-Stilbenoids",
         "marker": {
          "color": "#9e739a",
          "pattern": {
           "shape": ""
          }
         },
         "name": "Shikimates and Phenylpropanoids-Stilbenoids",
         "offsetgroup": "Shikimates and Phenylpropanoids-Stilbenoids",
         "orientation": "h",
         "showlegend": true,
         "textposition": "auto",
         "type": "bar",
         "x": [
          14,
          1,
          192,
          60,
          39,
          64
         ],
         "xaxis": "x",
         "y": [
          "<i>Cyphostemma</i>",
          "<i>Erythrophleum</i>",
          "<i>Gnetum</i>",
          "<i>Hopea</i>",
          "<i>Rheum</i>",
          "<i>Shorea</i>"
         ],
         "yaxis": "y"
        },
        {
         "alignmentgroup": "True",
         "hovertemplate": "chemical_superclass=Shikimates and Phenylpropanoids-Styrylpyrones<br>Recurrence=%{x}<br>y=%{y}<extra></extra>",
         "legendgroup": "Shikimates and Phenylpropanoids-Styrylpyrones",
         "marker": {
          "color": "#c398ab",
          "pattern": {
           "shape": ""
          }
         },
         "name": "Shikimates and Phenylpropanoids-Styrylpyrones",
         "offsetgroup": "Shikimates and Phenylpropanoids-Styrylpyrones",
         "orientation": "h",
         "showlegend": true,
         "textposition": "auto",
         "type": "bar",
         "x": [
          1
         ],
         "xaxis": "x",
         "y": [
          "<i>Hopea</i>"
         ],
         "yaxis": "y"
        },
        {
         "alignmentgroup": "True",
         "hovertemplate": "chemical_superclass=Shikimates and Phenylpropanoids-Terphenyls<br>Recurrence=%{x}<br>y=%{y}<extra></extra>",
         "legendgroup": "Shikimates and Phenylpropanoids-Terphenyls",
         "marker": {
          "color": "#b48aa4",
          "pattern": {
           "shape": ""
          }
         },
         "name": "Shikimates and Phenylpropanoids-Terphenyls",
         "offsetgroup": "Shikimates and Phenylpropanoids-Terphenyls",
         "orientation": "h",
         "showlegend": true,
         "textposition": "auto",
         "type": "bar",
         "x": [
          3
         ],
         "xaxis": "x",
         "y": [
          "<i>Garcinia</i>"
         ],
         "yaxis": "y"
        },
        {
         "alignmentgroup": "True",
         "hovertemplate": "chemical_superclass=Shikimates and Phenylpropanoids-Xanthones<br>Recurrence=%{x}<br>y=%{y}<extra></extra>",
         "legendgroup": "Shikimates and Phenylpropanoids-Xanthones",
         "marker": {
          "color": "#a57a9d",
          "pattern": {
           "shape": ""
          }
         },
         "name": "Shikimates and Phenylpropanoids-Xanthones",
         "offsetgroup": "Shikimates and Phenylpropanoids-Xanthones",
         "orientation": "h",
         "showlegend": true,
         "textposition": "auto",
         "type": "bar",
         "x": [
          578,
          10
         ],
         "xaxis": "x",
         "y": [
          "<i>Garcinia</i>",
          "<i>Mangifera</i>"
         ],
         "yaxis": "y"
        },
        {
         "alignmentgroup": "True",
         "hovertemplate": "chemical_superclass=Terpenoids-Apocarotenoids<br>Recurrence=%{x}<br>y=%{y}<extra></extra>",
         "legendgroup": "Terpenoids-Apocarotenoids",
         "marker": {
          "color": "#d0e7d2",
          "pattern": {
           "shape": ""
          }
         },
         "name": "Terpenoids-Apocarotenoids",
         "offsetgroup": "Terpenoids-Apocarotenoids",
         "orientation": "h",
         "showlegend": true,
         "textposition": "auto",
         "type": "bar",
         "x": [
          1,
          5,
          16,
          1
         ],
         "xaxis": "x",
         "y": [
          "<i>Erythrophleum</i>",
          "<i>Garcinia</i>",
          "<i>Mangifera</i>",
          "<i>Stauntonia</i>"
         ],
         "yaxis": "y"
        },
        {
         "alignmentgroup": "True",
         "hovertemplate": "chemical_superclass=Terpenoids-Carotenoids (C40)<br>Recurrence=%{x}<br>y=%{y}<extra></extra>",
         "legendgroup": "Terpenoids-Carotenoids (C40)",
         "marker": {
          "color": "#c0d9c2",
          "pattern": {
           "shape": ""
          }
         },
         "name": "Terpenoids-Carotenoids (C40)",
         "offsetgroup": "Terpenoids-Carotenoids (C40)",
         "orientation": "h",
         "showlegend": true,
         "textposition": "auto",
         "type": "bar",
         "x": [
          1,
          28,
          7
         ],
         "xaxis": "x",
         "y": [
          "<i>Erythrophleum</i>",
          "<i>Mangifera</i>",
          "<i>Platycerium</i>"
         ],
         "yaxis": "y"
        },
        {
         "alignmentgroup": "True",
         "hovertemplate": "chemical_superclass=Terpenoids-Diterpenoids<br>Recurrence=%{x}<br>y=%{y}<extra></extra>",
         "legendgroup": "Terpenoids-Diterpenoids",
         "marker": {
          "color": "#b0cab3",
          "pattern": {
           "shape": ""
          }
         },
         "name": "Terpenoids-Diterpenoids",
         "offsetgroup": "Terpenoids-Diterpenoids",
         "orientation": "h",
         "showlegend": true,
         "textposition": "auto",
         "type": "bar",
         "x": [
          1,
          76,
          7,
          2,
          2,
          98
         ],
         "xaxis": "x",
         "y": [
          "<i>Cyphostemma</i>",
          "<i>Erythrophleum</i>",
          "<i>Garcinia</i>",
          "<i>Mangifera</i>",
          "<i>Melodinus</i>",
          "<i>Tinospora</i>"
         ],
         "yaxis": "y"
        },
        {
         "alignmentgroup": "True",
         "hovertemplate": "chemical_superclass=Terpenoids-Meroterpenoids<br>Recurrence=%{x}<br>y=%{y}<extra></extra>",
         "legendgroup": "Terpenoids-Meroterpenoids",
         "marker": {
          "color": "#a0bca3",
          "pattern": {
           "shape": ""
          }
         },
         "name": "Terpenoids-Meroterpenoids",
         "offsetgroup": "Terpenoids-Meroterpenoids",
         "orientation": "h",
         "showlegend": true,
         "textposition": "auto",
         "type": "bar",
         "x": [
          1,
          26
         ],
         "xaxis": "x",
         "y": [
          "<i>Atractylodes</i>",
          "<i>Garcinia</i>"
         ],
         "yaxis": "y"
        },
        {
         "alignmentgroup": "True",
         "hovertemplate": "chemical_superclass=Terpenoids-Monoterpenoids<br>Recurrence=%{x}<br>y=%{y}<extra></extra>",
         "legendgroup": "Terpenoids-Monoterpenoids",
         "marker": {
          "color": "#719074",
          "pattern": {
           "shape": ""
          }
         },
         "name": "Terpenoids-Monoterpenoids",
         "offsetgroup": "Terpenoids-Monoterpenoids",
         "orientation": "h",
         "showlegend": true,
         "textposition": "auto",
         "type": "bar",
         "x": [
          15,
          27,
          114,
          9
         ],
         "xaxis": "x",
         "y": [
          "<i>Atractylodes</i>",
          "<i>Garcinia</i>",
          "<i>Mangifera</i>",
          "<i>Tinospora</i>"
         ],
         "yaxis": "y"
        },
        {
         "alignmentgroup": "True",
         "hovertemplate": "chemical_superclass=Terpenoids-Sesquiterpenoids<br>Recurrence=%{x}<br>y=%{y}<extra></extra>",
         "legendgroup": "Terpenoids-Sesquiterpenoids",
         "marker": {
          "color": "#618264",
          "pattern": {
           "shape": ""
          }
         },
         "name": "Terpenoids-Sesquiterpenoids",
         "offsetgroup": "Terpenoids-Sesquiterpenoids",
         "orientation": "h",
         "showlegend": true,
         "textposition": "auto",
         "type": "bar",
         "x": [
          86,
          4,
          2,
          17,
          72,
          7,
          5
         ],
         "xaxis": "x",
         "y": [
          "<i>Atractylodes</i>",
          "<i>Ceiba</i>",
          "<i>Cyphostemma</i>",
          "<i>Garcinia</i>",
          "<i>Mangifera</i>",
          "<i>Shorea</i>",
          "<i>Tinospora</i>"
         ],
         "yaxis": "y"
        },
        {
         "alignmentgroup": "True",
         "hovertemplate": "chemical_superclass=Terpenoids-Steroids<br>Recurrence=%{x}<br>y=%{y}<extra></extra>",
         "legendgroup": "Terpenoids-Steroids",
         "marker": {
          "color": "#819f83",
          "pattern": {
           "shape": ""
          }
         },
         "name": "Terpenoids-Steroids",
         "offsetgroup": "Terpenoids-Steroids",
         "orientation": "h",
         "showlegend": true,
         "textposition": "auto",
         "type": "bar",
         "x": [
          4,
          3,
          5,
          19,
          5,
          1,
          17,
          7,
          2,
          6,
          12
         ],
         "xaxis": "x",
         "y": [
          "<i>Atractylodes</i>",
          "<i>Ceiba</i>",
          "<i>Erythrophleum</i>",
          "<i>Garcinia</i>",
          "<i>Gnetum</i>",
          "<i>Holoptelea</i>",
          "<i>Mangifera</i>",
          "<i>Rheum</i>",
          "<i>Shorea</i>",
          "<i>Stauntonia</i>",
          "<i>Tinospora</i>"
         ],
         "yaxis": "y"
        },
        {
         "alignmentgroup": "True",
         "hovertemplate": "chemical_superclass=Terpenoids-Triterpenoids<br>Recurrence=%{x}<br>y=%{y}<extra></extra>",
         "legendgroup": "Terpenoids-Triterpenoids",
         "marker": {
          "color": "#91ad93",
          "pattern": {
           "shape": ""
          }
         },
         "name": "Terpenoids-Triterpenoids",
         "offsetgroup": "Terpenoids-Triterpenoids",
         "orientation": "h",
         "showlegend": true,
         "textposition": "auto",
         "type": "bar",
         "x": [
          4,
          3,
          3,
          13,
          89,
          1,
          6,
          62,
          2,
          33,
          95,
          6
         ],
         "xaxis": "x",
         "y": [
          "<i>Atractylodes</i>",
          "<i>Bischofia</i>",
          "<i>Cyphostemma</i>",
          "<i>Erythrophleum</i>",
          "<i>Garcinia</i>",
          "<i>Gnetum</i>",
          "<i>Holoptelea</i>",
          "<i>Mangifera</i>",
          "<i>Rheum</i>",
          "<i>Shorea</i>",
          "<i>Stauntonia</i>",
          "<i>Tinospora</i>"
         ],
         "yaxis": "y"
        }
       ],
       "layout": {
        "barmode": "relative",
        "height": 1600,
        "legend": {
         "title": {
          "text": "chemical_superclass"
         },
         "tracegroupgap": 0
        },
        "plot_bgcolor": "white",
        "template": {
         "data": {
          "bar": [
           {
            "error_x": {
             "color": "#2a3f5f"
            },
            "error_y": {
             "color": "#2a3f5f"
            },
            "marker": {
             "line": {
              "color": "#E5ECF6",
              "width": 0.5
             },
             "pattern": {
              "fillmode": "overlay",
              "size": 10,
              "solidity": 0.2
             }
            },
            "type": "bar"
           }
          ],
          "barpolar": [
           {
            "marker": {
             "line": {
              "color": "#E5ECF6",
              "width": 0.5
             },
             "pattern": {
              "fillmode": "overlay",
              "size": 10,
              "solidity": 0.2
             }
            },
            "type": "barpolar"
           }
          ],
          "carpet": [
           {
            "aaxis": {
             "endlinecolor": "#2a3f5f",
             "gridcolor": "white",
             "linecolor": "white",
             "minorgridcolor": "white",
             "startlinecolor": "#2a3f5f"
            },
            "baxis": {
             "endlinecolor": "#2a3f5f",
             "gridcolor": "white",
             "linecolor": "white",
             "minorgridcolor": "white",
             "startlinecolor": "#2a3f5f"
            },
            "type": "carpet"
           }
          ],
          "choropleth": [
           {
            "colorbar": {
             "outlinewidth": 0,
             "ticks": ""
            },
            "type": "choropleth"
           }
          ],
          "contour": [
           {
            "colorbar": {
             "outlinewidth": 0,
             "ticks": ""
            },
            "colorscale": [
             [
              0,
              "#0d0887"
             ],
             [
              0.1111111111111111,
              "#46039f"
             ],
             [
              0.2222222222222222,
              "#7201a8"
             ],
             [
              0.3333333333333333,
              "#9c179e"
             ],
             [
              0.4444444444444444,
              "#bd3786"
             ],
             [
              0.5555555555555556,
              "#d8576b"
             ],
             [
              0.6666666666666666,
              "#ed7953"
             ],
             [
              0.7777777777777778,
              "#fb9f3a"
             ],
             [
              0.8888888888888888,
              "#fdca26"
             ],
             [
              1,
              "#f0f921"
             ]
            ],
            "type": "contour"
           }
          ],
          "contourcarpet": [
           {
            "colorbar": {
             "outlinewidth": 0,
             "ticks": ""
            },
            "type": "contourcarpet"
           }
          ],
          "heatmap": [
           {
            "colorbar": {
             "outlinewidth": 0,
             "ticks": ""
            },
            "colorscale": [
             [
              0,
              "#0d0887"
             ],
             [
              0.1111111111111111,
              "#46039f"
             ],
             [
              0.2222222222222222,
              "#7201a8"
             ],
             [
              0.3333333333333333,
              "#9c179e"
             ],
             [
              0.4444444444444444,
              "#bd3786"
             ],
             [
              0.5555555555555556,
              "#d8576b"
             ],
             [
              0.6666666666666666,
              "#ed7953"
             ],
             [
              0.7777777777777778,
              "#fb9f3a"
             ],
             [
              0.8888888888888888,
              "#fdca26"
             ],
             [
              1,
              "#f0f921"
             ]
            ],
            "type": "heatmap"
           }
          ],
          "heatmapgl": [
           {
            "colorbar": {
             "outlinewidth": 0,
             "ticks": ""
            },
            "colorscale": [
             [
              0,
              "#0d0887"
             ],
             [
              0.1111111111111111,
              "#46039f"
             ],
             [
              0.2222222222222222,
              "#7201a8"
             ],
             [
              0.3333333333333333,
              "#9c179e"
             ],
             [
              0.4444444444444444,
              "#bd3786"
             ],
             [
              0.5555555555555556,
              "#d8576b"
             ],
             [
              0.6666666666666666,
              "#ed7953"
             ],
             [
              0.7777777777777778,
              "#fb9f3a"
             ],
             [
              0.8888888888888888,
              "#fdca26"
             ],
             [
              1,
              "#f0f921"
             ]
            ],
            "type": "heatmapgl"
           }
          ],
          "histogram": [
           {
            "marker": {
             "pattern": {
              "fillmode": "overlay",
              "size": 10,
              "solidity": 0.2
             }
            },
            "type": "histogram"
           }
          ],
          "histogram2d": [
           {
            "colorbar": {
             "outlinewidth": 0,
             "ticks": ""
            },
            "colorscale": [
             [
              0,
              "#0d0887"
             ],
             [
              0.1111111111111111,
              "#46039f"
             ],
             [
              0.2222222222222222,
              "#7201a8"
             ],
             [
              0.3333333333333333,
              "#9c179e"
             ],
             [
              0.4444444444444444,
              "#bd3786"
             ],
             [
              0.5555555555555556,
              "#d8576b"
             ],
             [
              0.6666666666666666,
              "#ed7953"
             ],
             [
              0.7777777777777778,
              "#fb9f3a"
             ],
             [
              0.8888888888888888,
              "#fdca26"
             ],
             [
              1,
              "#f0f921"
             ]
            ],
            "type": "histogram2d"
           }
          ],
          "histogram2dcontour": [
           {
            "colorbar": {
             "outlinewidth": 0,
             "ticks": ""
            },
            "colorscale": [
             [
              0,
              "#0d0887"
             ],
             [
              0.1111111111111111,
              "#46039f"
             ],
             [
              0.2222222222222222,
              "#7201a8"
             ],
             [
              0.3333333333333333,
              "#9c179e"
             ],
             [
              0.4444444444444444,
              "#bd3786"
             ],
             [
              0.5555555555555556,
              "#d8576b"
             ],
             [
              0.6666666666666666,
              "#ed7953"
             ],
             [
              0.7777777777777778,
              "#fb9f3a"
             ],
             [
              0.8888888888888888,
              "#fdca26"
             ],
             [
              1,
              "#f0f921"
             ]
            ],
            "type": "histogram2dcontour"
           }
          ],
          "mesh3d": [
           {
            "colorbar": {
             "outlinewidth": 0,
             "ticks": ""
            },
            "type": "mesh3d"
           }
          ],
          "parcoords": [
           {
            "line": {
             "colorbar": {
              "outlinewidth": 0,
              "ticks": ""
             }
            },
            "type": "parcoords"
           }
          ],
          "pie": [
           {
            "automargin": true,
            "type": "pie"
           }
          ],
          "scatter": [
           {
            "fillpattern": {
             "fillmode": "overlay",
             "size": 10,
             "solidity": 0.2
            },
            "type": "scatter"
           }
          ],
          "scatter3d": [
           {
            "line": {
             "colorbar": {
              "outlinewidth": 0,
              "ticks": ""
             }
            },
            "marker": {
             "colorbar": {
              "outlinewidth": 0,
              "ticks": ""
             }
            },
            "type": "scatter3d"
           }
          ],
          "scattercarpet": [
           {
            "marker": {
             "colorbar": {
              "outlinewidth": 0,
              "ticks": ""
             }
            },
            "type": "scattercarpet"
           }
          ],
          "scattergeo": [
           {
            "marker": {
             "colorbar": {
              "outlinewidth": 0,
              "ticks": ""
             }
            },
            "type": "scattergeo"
           }
          ],
          "scattergl": [
           {
            "marker": {
             "colorbar": {
              "outlinewidth": 0,
              "ticks": ""
             }
            },
            "type": "scattergl"
           }
          ],
          "scattermapbox": [
           {
            "marker": {
             "colorbar": {
              "outlinewidth": 0,
              "ticks": ""
             }
            },
            "type": "scattermapbox"
           }
          ],
          "scatterpolar": [
           {
            "marker": {
             "colorbar": {
              "outlinewidth": 0,
              "ticks": ""
             }
            },
            "type": "scatterpolar"
           }
          ],
          "scatterpolargl": [
           {
            "marker": {
             "colorbar": {
              "outlinewidth": 0,
              "ticks": ""
             }
            },
            "type": "scatterpolargl"
           }
          ],
          "scatterternary": [
           {
            "marker": {
             "colorbar": {
              "outlinewidth": 0,
              "ticks": ""
             }
            },
            "type": "scatterternary"
           }
          ],
          "surface": [
           {
            "colorbar": {
             "outlinewidth": 0,
             "ticks": ""
            },
            "colorscale": [
             [
              0,
              "#0d0887"
             ],
             [
              0.1111111111111111,
              "#46039f"
             ],
             [
              0.2222222222222222,
              "#7201a8"
             ],
             [
              0.3333333333333333,
              "#9c179e"
             ],
             [
              0.4444444444444444,
              "#bd3786"
             ],
             [
              0.5555555555555556,
              "#d8576b"
             ],
             [
              0.6666666666666666,
              "#ed7953"
             ],
             [
              0.7777777777777778,
              "#fb9f3a"
             ],
             [
              0.8888888888888888,
              "#fdca26"
             ],
             [
              1,
              "#f0f921"
             ]
            ],
            "type": "surface"
           }
          ],
          "table": [
           {
            "cells": {
             "fill": {
              "color": "#EBF0F8"
             },
             "line": {
              "color": "white"
             }
            },
            "header": {
             "fill": {
              "color": "#C8D4E3"
             },
             "line": {
              "color": "white"
             }
            },
            "type": "table"
           }
          ]
         },
         "layout": {
          "annotationdefaults": {
           "arrowcolor": "#2a3f5f",
           "arrowhead": 0,
           "arrowwidth": 1
          },
          "autotypenumbers": "strict",
          "coloraxis": {
           "colorbar": {
            "outlinewidth": 0,
            "ticks": ""
           }
          },
          "colorscale": {
           "diverging": [
            [
             0,
             "#8e0152"
            ],
            [
             0.1,
             "#c51b7d"
            ],
            [
             0.2,
             "#de77ae"
            ],
            [
             0.3,
             "#f1b6da"
            ],
            [
             0.4,
             "#fde0ef"
            ],
            [
             0.5,
             "#f7f7f7"
            ],
            [
             0.6,
             "#e6f5d0"
            ],
            [
             0.7,
             "#b8e186"
            ],
            [
             0.8,
             "#7fbc41"
            ],
            [
             0.9,
             "#4d9221"
            ],
            [
             1,
             "#276419"
            ]
           ],
           "sequential": [
            [
             0,
             "#0d0887"
            ],
            [
             0.1111111111111111,
             "#46039f"
            ],
            [
             0.2222222222222222,
             "#7201a8"
            ],
            [
             0.3333333333333333,
             "#9c179e"
            ],
            [
             0.4444444444444444,
             "#bd3786"
            ],
            [
             0.5555555555555556,
             "#d8576b"
            ],
            [
             0.6666666666666666,
             "#ed7953"
            ],
            [
             0.7777777777777778,
             "#fb9f3a"
            ],
            [
             0.8888888888888888,
             "#fdca26"
            ],
            [
             1,
             "#f0f921"
            ]
           ],
           "sequentialminus": [
            [
             0,
             "#0d0887"
            ],
            [
             0.1111111111111111,
             "#46039f"
            ],
            [
             0.2222222222222222,
             "#7201a8"
            ],
            [
             0.3333333333333333,
             "#9c179e"
            ],
            [
             0.4444444444444444,
             "#bd3786"
            ],
            [
             0.5555555555555556,
             "#d8576b"
            ],
            [
             0.6666666666666666,
             "#ed7953"
            ],
            [
             0.7777777777777778,
             "#fb9f3a"
            ],
            [
             0.8888888888888888,
             "#fdca26"
            ],
            [
             1,
             "#f0f921"
            ]
           ]
          },
          "colorway": [
           "#636efa",
           "#EF553B",
           "#00cc96",
           "#ab63fa",
           "#FFA15A",
           "#19d3f3",
           "#FF6692",
           "#B6E880",
           "#FF97FF",
           "#FECB52"
          ],
          "font": {
           "color": "#2a3f5f"
          },
          "geo": {
           "bgcolor": "white",
           "lakecolor": "white",
           "landcolor": "#E5ECF6",
           "showlakes": true,
           "showland": true,
           "subunitcolor": "white"
          },
          "hoverlabel": {
           "align": "left"
          },
          "hovermode": "closest",
          "mapbox": {
           "style": "light"
          },
          "paper_bgcolor": "white",
          "plot_bgcolor": "#E5ECF6",
          "polar": {
           "angularaxis": {
            "gridcolor": "white",
            "linecolor": "white",
            "ticks": ""
           },
           "bgcolor": "#E5ECF6",
           "radialaxis": {
            "gridcolor": "white",
            "linecolor": "white",
            "ticks": ""
           }
          },
          "scene": {
           "xaxis": {
            "backgroundcolor": "#E5ECF6",
            "gridcolor": "white",
            "gridwidth": 2,
            "linecolor": "white",
            "showbackground": true,
            "ticks": "",
            "zerolinecolor": "white"
           },
           "yaxis": {
            "backgroundcolor": "#E5ECF6",
            "gridcolor": "white",
            "gridwidth": 2,
            "linecolor": "white",
            "showbackground": true,
            "ticks": "",
            "zerolinecolor": "white"
           },
           "zaxis": {
            "backgroundcolor": "#E5ECF6",
            "gridcolor": "white",
            "gridwidth": 2,
            "linecolor": "white",
            "showbackground": true,
            "ticks": "",
            "zerolinecolor": "white"
           }
          },
          "shapedefaults": {
           "line": {
            "color": "#2a3f5f"
           }
          },
          "ternary": {
           "aaxis": {
            "gridcolor": "white",
            "linecolor": "white",
            "ticks": ""
           },
           "baxis": {
            "gridcolor": "white",
            "linecolor": "white",
            "ticks": ""
           },
           "bgcolor": "#E5ECF6",
           "caxis": {
            "gridcolor": "white",
            "linecolor": "white",
            "ticks": ""
           }
          },
          "title": {
           "x": 0.05
          },
          "xaxis": {
           "automargin": true,
           "gridcolor": "white",
           "linecolor": "white",
           "ticks": "",
           "title": {
            "standoff": 15
           },
           "zerolinecolor": "white",
           "zerolinewidth": 2
          },
          "yaxis": {
           "automargin": true,
           "gridcolor": "white",
           "linecolor": "white",
           "ticks": "",
           "title": {
            "standoff": 15
           },
           "zerolinecolor": "white",
           "zerolinewidth": 2
          }
         }
        },
        "title": {
         "text": "Stacked Barplot of Predicted Superclasses Ocurrence for Genus"
        },
        "width": 1500,
        "xaxis": {
         "anchor": "y",
         "domain": [
          0,
          1
         ],
         "title": {
          "text": "Recurrence"
         }
        },
        "yaxis": {
         "anchor": "x",
         "domain": [
          0,
          1
         ],
         "title": {
          "text": "<i>Genus<i>"
         }
        }
       }
      },
      "text/html": [
       "<div>                            <div id=\"7df6876a-b76b-42e5-b00a-c42f4a85e981\" class=\"plotly-graph-div\" style=\"height:1600px; width:1500px;\"></div>            <script type=\"text/javascript\">                require([\"plotly\"], function(Plotly) {                    window.PLOTLYENV=window.PLOTLYENV || {};                                    if (document.getElementById(\"7df6876a-b76b-42e5-b00a-c42f4a85e981\")) {                    Plotly.newPlot(                        \"7df6876a-b76b-42e5-b00a-c42f4a85e981\",                        [{\"alignmentgroup\":\"True\",\"hovertemplate\":\"chemical_superclass=Alkaloids-Anthranilic acid alkaloids\\u003cbr\\u003eRecurrence=%{x}\\u003cbr\\u003ey=%{y}\\u003cextra\\u003e\\u003c\\u002fextra\\u003e\",\"legendgroup\":\"Alkaloids-Anthranilic acid alkaloids\",\"marker\":{\"color\":\"#56afd2\",\"pattern\":{\"shape\":\"\"}},\"name\":\"Alkaloids-Anthranilic acid alkaloids\",\"offsetgroup\":\"Alkaloids-Anthranilic acid alkaloids\",\"orientation\":\"h\",\"showlegend\":true,\"textposition\":\"auto\",\"x\":[1],\"xaxis\":\"x\",\"y\":[\"\\u003ci\\u003eMangifera\\u003c\\u002fi\\u003e\"],\"yaxis\":\"y\",\"type\":\"bar\"},{\"alignmentgroup\":\"True\",\"hovertemplate\":\"chemical_superclass=Alkaloids-Nicotinic acid alkaloids\\u003cbr\\u003eRecurrence=%{x}\\u003cbr\\u003ey=%{y}\\u003cextra\\u003e\\u003c\\u002fextra\\u003e\",\"legendgroup\":\"Alkaloids-Nicotinic acid alkaloids\",\"marker\":{\"color\":\"#4994b2\",\"pattern\":{\"shape\":\"\"}},\"name\":\"Alkaloids-Nicotinic acid alkaloids\",\"offsetgroup\":\"Alkaloids-Nicotinic acid alkaloids\",\"orientation\":\"h\",\"showlegend\":true,\"textposition\":\"auto\",\"x\":[3,1,2],\"xaxis\":\"x\",\"y\":[\"\\u003ci\\u003eGarcinia\\u003c\\u002fi\\u003e\",\"\\u003ci\\u003eGnetum\\u003c\\u002fi\\u003e\",\"\\u003ci\\u003eMangifera\\u003c\\u002fi\\u003e\"],\"yaxis\":\"y\",\"type\":\"bar\"},{\"alignmentgroup\":\"True\",\"hovertemplate\":\"chemical_superclass=Alkaloids-Ornithine alkaloids\\u003cbr\\u003eRecurrence=%{x}\\u003cbr\\u003ey=%{y}\\u003cextra\\u003e\\u003c\\u002fextra\\u003e\",\"legendgroup\":\"Alkaloids-Ornithine alkaloids\",\"marker\":{\"color\":\"#4387a2\",\"pattern\":{\"shape\":\"\"}},\"name\":\"Alkaloids-Ornithine alkaloids\",\"offsetgroup\":\"Alkaloids-Ornithine alkaloids\",\"orientation\":\"h\",\"showlegend\":true,\"textposition\":\"auto\",\"x\":[3,1],\"xaxis\":\"x\",\"y\":[\"\\u003ci\\u003eGarcinia\\u003c\\u002fi\\u003e\",\"\\u003ci\\u003eRheum\\u003c\\u002fi\\u003e\"],\"yaxis\":\"y\",\"type\":\"bar\"},{\"alignmentgroup\":\"True\",\"hovertemplate\":\"chemical_superclass=Alkaloids-Peptide alkaloids\\u003cbr\\u003eRecurrence=%{x}\\u003cbr\\u003ey=%{y}\\u003cextra\\u003e\\u003c\\u002fextra\\u003e\",\"legendgroup\":\"Alkaloids-Peptide alkaloids\",\"marker\":{\"color\":\"#3d7a92\",\"pattern\":{\"shape\":\"\"}},\"name\":\"Alkaloids-Peptide alkaloids\",\"offsetgroup\":\"Alkaloids-Peptide alkaloids\",\"orientation\":\"h\",\"showlegend\":true,\"textposition\":\"auto\",\"x\":[1],\"xaxis\":\"x\",\"y\":[\"\\u003ci\\u003eErythrophleum\\u003c\\u002fi\\u003e\"],\"yaxis\":\"y\",\"type\":\"bar\"},{\"alignmentgroup\":\"True\",\"hovertemplate\":\"chemical_superclass=Alkaloids-Pseudoalkaloids\\u003cbr\\u003eRecurrence=%{x}\\u003cbr\\u003ey=%{y}\\u003cextra\\u003e\\u003c\\u002fextra\\u003e\",\"legendgroup\":\"Alkaloids-Pseudoalkaloids\",\"marker\":{\"color\":\"#366c82\",\"pattern\":{\"shape\":\"\"}},\"name\":\"Alkaloids-Pseudoalkaloids\",\"offsetgroup\":\"Alkaloids-Pseudoalkaloids\",\"orientation\":\"h\",\"showlegend\":true,\"textposition\":\"auto\",\"x\":[1,4,2],\"xaxis\":\"x\",\"y\":[\"\\u003ci\\u003eAtractylodes\\u003c\\u002fi\\u003e\",\"\\u003ci\\u003eGarcinia\\u003c\\u002fi\\u003e\",\"\\u003ci\\u003eMangifera\\u003c\\u002fi\\u003e\"],\"yaxis\":\"y\",\"type\":\"bar\"},{\"alignmentgroup\":\"True\",\"hovertemplate\":\"chemical_superclass=Alkaloids-Tetramate alkaloids\\u003cbr\\u003eRecurrence=%{x}\\u003cbr\\u003ey=%{y}\\u003cextra\\u003e\\u003c\\u002fextra\\u003e\",\"legendgroup\":\"Alkaloids-Tetramate alkaloids\",\"marker\":{\"color\":\"#5cbce2\",\"pattern\":{\"shape\":\"\"}},\"name\":\"Alkaloids-Tetramate alkaloids\",\"offsetgroup\":\"Alkaloids-Tetramate alkaloids\",\"orientation\":\"h\",\"showlegend\":true,\"textposition\":\"auto\",\"x\":[1],\"xaxis\":\"x\",\"y\":[\"\\u003ci\\u003eMangifera\\u003c\\u002fi\\u003e\"],\"yaxis\":\"y\",\"type\":\"bar\"},{\"alignmentgroup\":\"True\",\"hovertemplate\":\"chemical_superclass=Alkaloids-Tryptophan alkaloids\\u003cbr\\u003eRecurrence=%{x}\\u003cbr\\u003ey=%{y}\\u003cextra\\u003e\\u003c\\u002fextra\\u003e\",\"legendgroup\":\"Alkaloids-Tryptophan alkaloids\",\"marker\":{\"color\":\"#4fa1c2\",\"pattern\":{\"shape\":\"\"}},\"name\":\"Alkaloids-Tryptophan alkaloids\",\"offsetgroup\":\"Alkaloids-Tryptophan alkaloids\",\"orientation\":\"h\",\"showlegend\":true,\"textposition\":\"auto\",\"x\":[1,120,1,1],\"xaxis\":\"x\",\"y\":[\"\\u003ci\\u003eGarcinia\\u003c\\u002fi\\u003e\",\"\\u003ci\\u003eMelodinus\\u003c\\u002fi\\u003e\",\"\\u003ci\\u003eRheum\\u003c\\u002fi\\u003e\",\"\\u003ci\\u003eTinospora\\u003c\\u002fi\\u003e\"],\"yaxis\":\"y\",\"type\":\"bar\"},{\"alignmentgroup\":\"True\",\"hovertemplate\":\"chemical_superclass=Alkaloids-Tyrosine alkaloids\\u003cbr\\u003eRecurrence=%{x}\\u003cbr\\u003ey=%{y}\\u003cextra\\u003e\\u003c\\u002fextra\\u003e\",\"legendgroup\":\"Alkaloids-Tyrosine alkaloids\",\"marker\":{\"color\":\"#305f72\",\"pattern\":{\"shape\":\"\"}},\"name\":\"Alkaloids-Tyrosine alkaloids\",\"offsetgroup\":\"Alkaloids-Tyrosine alkaloids\",\"orientation\":\"h\",\"showlegend\":true,\"textposition\":\"auto\",\"x\":[3,5,21,1,1,17],\"xaxis\":\"x\",\"y\":[\"\\u003ci\\u003eAmpelocissus\\u003c\\u002fi\\u003e\",\"\\u003ci\\u003eGarcinia\\u003c\\u002fi\\u003e\",\"\\u003ci\\u003eGnetum\\u003c\\u002fi\\u003e\",\"\\u003ci\\u003eMangifera\\u003c\\u002fi\\u003e\",\"\\u003ci\\u003eMelodinus\\u003c\\u002fi\\u003e\",\"\\u003ci\\u003eTinospora\\u003c\\u002fi\\u003e\"],\"yaxis\":\"y\",\"type\":\"bar\"},{\"alignmentgroup\":\"True\",\"hovertemplate\":\"chemical_superclass=Amino acids and Peptides-Amino acid glycosides\\u003cbr\\u003eRecurrence=%{x}\\u003cbr\\u003ey=%{y}\\u003cextra\\u003e\\u003c\\u002fextra\\u003e\",\"legendgroup\":\"Amino acids and Peptides-Amino acid glycosides\",\"marker\":{\"color\":\"#faf2d3\",\"pattern\":{\"shape\":\"\"}},\"name\":\"Amino acids and Peptides-Amino acid glycosides\",\"offsetgroup\":\"Amino acids and Peptides-Amino acid glycosides\",\"orientation\":\"h\",\"showlegend\":true,\"textposition\":\"auto\",\"x\":[2],\"xaxis\":\"x\",\"y\":[\"\\u003ci\\u003eGarcinia\\u003c\\u002fi\\u003e\"],\"yaxis\":\"y\",\"type\":\"bar\"},{\"alignmentgroup\":\"True\",\"hovertemplate\":\"chemical_superclass=Amino acids and Peptides-Phenylpropanoids (C6-C3)\\u003cbr\\u003eRecurrence=%{x}\\u003cbr\\u003ey=%{y}\\u003cextra\\u003e\\u003c\\u002fextra\\u003e\",\"legendgroup\":\"Amino acids and Peptides-Phenylpropanoids (C6-C3)\",\"marker\":{\"color\":\"#FFA15A\",\"pattern\":{\"shape\":\"\"}},\"name\":\"Amino acids and Peptides-Phenylpropanoids (C6-C3)\",\"offsetgroup\":\"Amino acids and Peptides-Phenylpropanoids (C6-C3)\",\"orientation\":\"h\",\"showlegend\":true,\"textposition\":\"auto\",\"x\":[6,7],\"xaxis\":\"x\",\"y\":[\"\\u003ci\\u003eErythrophleum\\u003c\\u002fi\\u003e\",\"\\u003ci\\u003eTinospora\\u003c\\u002fi\\u003e\"],\"yaxis\":\"y\",\"type\":\"bar\"},{\"alignmentgroup\":\"True\",\"hovertemplate\":\"chemical_superclass=Amino acids and Peptides-Small peptides\\u003cbr\\u003eRecurrence=%{x}\\u003cbr\\u003ey=%{y}\\u003cextra\\u003e\\u003c\\u002fextra\\u003e\",\"legendgroup\":\"Amino acids and Peptides-Small peptides\",\"marker\":{\"color\":\"#f4e869\",\"pattern\":{\"shape\":\"\"}},\"name\":\"Amino acids and Peptides-Small peptides\",\"offsetgroup\":\"Amino acids and Peptides-Small peptides\",\"orientation\":\"h\",\"showlegend\":true,\"textposition\":\"auto\",\"x\":[4,18,2,1],\"xaxis\":\"x\",\"y\":[\"\\u003ci\\u003eAtractylodes\\u003c\\u002fi\\u003e\",\"\\u003ci\\u003eGarcinia\\u003c\\u002fi\\u003e\",\"\\u003ci\\u003eMangifera\\u003c\\u002fi\\u003e\",\"\\u003ci\\u003eRheum\\u003c\\u002fi\\u003e\"],\"yaxis\":\"y\",\"type\":\"bar\"},{\"alignmentgroup\":\"True\",\"hovertemplate\":\"chemical_superclass=Amino acids and Peptides-\\u03b2-lactams\\u003cbr\\u003eRecurrence=%{x}\\u003cbr\\u003ey=%{y}\\u003cextra\\u003e\\u003c\\u002fextra\\u003e\",\"legendgroup\":\"Amino acids and Peptides-\\u03b2-lactams\",\"marker\":{\"color\":\"#19d3f3\",\"pattern\":{\"shape\":\"\"}},\"name\":\"Amino acids and Peptides-\\u03b2-lactams\",\"offsetgroup\":\"Amino acids and Peptides-\\u03b2-lactams\",\"orientation\":\"h\",\"showlegend\":true,\"textposition\":\"auto\",\"x\":[1],\"xaxis\":\"x\",\"y\":[\"\\u003ci\\u003eMelodinus\\u003c\\u002fi\\u003e\"],\"yaxis\":\"y\",\"type\":\"bar\"},{\"alignmentgroup\":\"True\",\"hovertemplate\":\"chemical_superclass=Carbohydrates-Aminosugars and aminoglycosides\\u003cbr\\u003eRecurrence=%{x}\\u003cbr\\u003ey=%{y}\\u003cextra\\u003e\\u003c\\u002fextra\\u003e\",\"legendgroup\":\"Carbohydrates-Aminosugars and aminoglycosides\",\"marker\":{\"color\":\"#c8ae7d\",\"pattern\":{\"shape\":\"\"}},\"name\":\"Carbohydrates-Aminosugars and aminoglycosides\",\"offsetgroup\":\"Carbohydrates-Aminosugars and aminoglycosides\",\"orientation\":\"h\",\"showlegend\":true,\"textposition\":\"auto\",\"x\":[1],\"xaxis\":\"x\",\"y\":[\"\\u003ci\\u003eGarcinia\\u003c\\u002fi\\u003e\"],\"yaxis\":\"y\",\"type\":\"bar\"},{\"alignmentgroup\":\"True\",\"hovertemplate\":\"chemical_superclass=Carbohydrates-Nucleosides\\u003cbr\\u003eRecurrence=%{x}\\u003cbr\\u003ey=%{y}\\u003cextra\\u003e\\u003c\\u002fextra\\u003e\",\"legendgroup\":\"Carbohydrates-Nucleosides\",\"marker\":{\"color\":\"#65451f\",\"pattern\":{\"shape\":\"\"}},\"name\":\"Carbohydrates-Nucleosides\",\"offsetgroup\":\"Carbohydrates-Nucleosides\",\"orientation\":\"h\",\"showlegend\":true,\"textposition\":\"auto\",\"x\":[5,1,1],\"xaxis\":\"x\",\"y\":[\"\\u003ci\\u003eAtractylodes\\u003c\\u002fi\\u003e\",\"\\u003ci\\u003eGarcinia\\u003c\\u002fi\\u003e\",\"\\u003ci\\u003eMangifera\\u003c\\u002fi\\u003e\"],\"yaxis\":\"y\",\"type\":\"bar\"},{\"alignmentgroup\":\"True\",\"hovertemplate\":\"chemical_superclass=Carbohydrates-Polyols\\u003cbr\\u003eRecurrence=%{x}\\u003cbr\\u003ey=%{y}\\u003cextra\\u003e\\u003c\\u002fextra\\u003e\",\"legendgroup\":\"Carbohydrates-Polyols\",\"marker\":{\"color\":\"#a78b5e\",\"pattern\":{\"shape\":\"\"}},\"name\":\"Carbohydrates-Polyols\",\"offsetgroup\":\"Carbohydrates-Polyols\",\"orientation\":\"h\",\"showlegend\":true,\"textposition\":\"auto\",\"x\":[1],\"xaxis\":\"x\",\"y\":[\"\\u003ci\\u003eErythrophleum\\u003c\\u002fi\\u003e\"],\"yaxis\":\"y\",\"type\":\"bar\"},{\"alignmentgroup\":\"True\",\"hovertemplate\":\"chemical_superclass=Carbohydrates-Saccharides\\u003cbr\\u003eRecurrence=%{x}\\u003cbr\\u003ey=%{y}\\u003cextra\\u003e\\u003c\\u002fextra\\u003e\",\"legendgroup\":\"Carbohydrates-Saccharides\",\"marker\":{\"color\":\"#86683e\",\"pattern\":{\"shape\":\"\"}},\"name\":\"Carbohydrates-Saccharides\",\"offsetgroup\":\"Carbohydrates-Saccharides\",\"orientation\":\"h\",\"showlegend\":true,\"textposition\":\"auto\",\"x\":[1,4,1,3,2],\"xaxis\":\"x\",\"y\":[\"\\u003ci\\u003eCeiba\\u003c\\u002fi\\u003e\",\"\\u003ci\\u003eGarcinia\\u003c\\u002fi\\u003e\",\"\\u003ci\\u003eGnetum\\u003c\\u002fi\\u003e\",\"\\u003ci\\u003eMangifera\\u003c\\u002fi\\u003e\",\"\\u003ci\\u003ePachyrhizus\\u003c\\u002fi\\u003e\"],\"yaxis\":\"y\",\"type\":\"bar\"},{\"alignmentgroup\":\"True\",\"hovertemplate\":\"chemical_superclass=Fatty acids-Eicosanoids\\u003cbr\\u003eRecurrence=%{x}\\u003cbr\\u003ey=%{y}\\u003cextra\\u003e\\u003c\\u002fextra\\u003e\",\"legendgroup\":\"Fatty acids-Eicosanoids\",\"marker\":{\"color\":\"#ff8c0d\",\"pattern\":{\"shape\":\"\"}},\"name\":\"Fatty acids-Eicosanoids\",\"offsetgroup\":\"Fatty acids-Eicosanoids\",\"orientation\":\"h\",\"showlegend\":true,\"textposition\":\"auto\",\"x\":[1],\"xaxis\":\"x\",\"y\":[\"\\u003ci\\u003eGarcinia\\u003c\\u002fi\\u003e\"],\"yaxis\":\"y\",\"type\":\"bar\"},{\"alignmentgroup\":\"True\",\"hovertemplate\":\"chemical_superclass=Fatty acids-Fatty Acids and Conjugates\\u003cbr\\u003eRecurrence=%{x}\\u003cbr\\u003ey=%{y}\\u003cextra\\u003e\\u003c\\u002fextra\\u003e\",\"legendgroup\":\"Fatty acids-Fatty Acids and Conjugates\",\"marker\":{\"color\":\"#ff721e\",\"pattern\":{\"shape\":\"\"}},\"name\":\"Fatty acids-Fatty Acids and Conjugates\",\"offsetgroup\":\"Fatty acids-Fatty Acids and Conjugates\",\"orientation\":\"h\",\"showlegend\":true,\"textposition\":\"auto\",\"x\":[5,2,32,11,38,4,1],\"xaxis\":\"x\",\"y\":[\"\\u003ci\\u003eAtractylodes\\u003c\\u002fi\\u003e\",\"\\u003ci\\u003eCeiba\\u003c\\u002fi\\u003e\",\"\\u003ci\\u003eGarcinia\\u003c\\u002fi\\u003e\",\"\\u003ci\\u003eGnetum\\u003c\\u002fi\\u003e\",\"\\u003ci\\u003eMangifera\\u003c\\u002fi\\u003e\",\"\\u003ci\\u003eRheum\\u003c\\u002fi\\u003e\",\"\\u003ci\\u003eShorea\\u003c\\u002fi\\u003e\"],\"yaxis\":\"y\",\"type\":\"bar\"},{\"alignmentgroup\":\"True\",\"hovertemplate\":\"chemical_superclass=Fatty acids-Fatty acyls\\u003cbr\\u003eRecurrence=%{x}\\u003cbr\\u003ey=%{y}\\u003cextra\\u003e\\u003c\\u002fextra\\u003e\",\"legendgroup\":\"Fatty acids-Fatty acyls\",\"marker\":{\"color\":\"#ff791a\",\"pattern\":{\"shape\":\"\"}},\"name\":\"Fatty acids-Fatty acyls\",\"offsetgroup\":\"Fatty acids-Fatty acyls\",\"orientation\":\"h\",\"showlegend\":true,\"textposition\":\"auto\",\"x\":[9,1,12,2,81,2],\"xaxis\":\"x\",\"y\":[\"\\u003ci\\u003eAtractylodes\\u003c\\u002fi\\u003e\",\"\\u003ci\\u003eBischofia\\u003c\\u002fi\\u003e\",\"\\u003ci\\u003eGarcinia\\u003c\\u002fi\\u003e\",\"\\u003ci\\u003eHoloptelea\\u003c\\u002fi\\u003e\",\"\\u003ci\\u003eMangifera\\u003c\\u002fi\\u003e\",\"\\u003ci\\u003eTinospora\\u003c\\u002fi\\u003e\"],\"yaxis\":\"y\",\"type\":\"bar\"},{\"alignmentgroup\":\"True\",\"hovertemplate\":\"chemical_superclass=Fatty acids-Fatty amides\\u003cbr\\u003eRecurrence=%{x}\\u003cbr\\u003ey=%{y}\\u003cextra\\u003e\\u003c\\u002fextra\\u003e\",\"legendgroup\":\"Fatty acids-Fatty amides\",\"marker\":{\"color\":\"#ff9209\",\"pattern\":{\"shape\":\"\"}},\"name\":\"Fatty acids-Fatty amides\",\"offsetgroup\":\"Fatty acids-Fatty amides\",\"orientation\":\"h\",\"showlegend\":true,\"textposition\":\"auto\",\"x\":[2],\"xaxis\":\"x\",\"y\":[\"\\u003ci\\u003eMangifera\\u003c\\u002fi\\u003e\"],\"yaxis\":\"y\",\"type\":\"bar\"},{\"alignmentgroup\":\"True\",\"hovertemplate\":\"chemical_superclass=Fatty acids-Fatty esters\\u003cbr\\u003eRecurrence=%{x}\\u003cbr\\u003ey=%{y}\\u003cextra\\u003e\\u003c\\u002fextra\\u003e\",\"legendgroup\":\"Fatty acids-Fatty esters\",\"marker\":{\"color\":\"#ff6c22\",\"pattern\":{\"shape\":\"\"}},\"name\":\"Fatty acids-Fatty esters\",\"offsetgroup\":\"Fatty acids-Fatty esters\",\"orientation\":\"h\",\"showlegend\":true,\"textposition\":\"auto\",\"x\":[11,6,107,1,1],\"xaxis\":\"x\",\"y\":[\"\\u003ci\\u003eAtractylodes\\u003c\\u002fi\\u003e\",\"\\u003ci\\u003eGarcinia\\u003c\\u002fi\\u003e\",\"\\u003ci\\u003eMangifera\\u003c\\u002fi\\u003e\",\"\\u003ci\\u003eShorea\\u003c\\u002fi\\u003e\",\"\\u003ci\\u003eTinospora\\u003c\\u002fi\\u003e\"],\"yaxis\":\"y\",\"type\":\"bar\"},{\"alignmentgroup\":\"True\",\"hovertemplate\":\"chemical_superclass=Fatty acids-Glycerolipids\\u003cbr\\u003eRecurrence=%{x}\\u003cbr\\u003ey=%{y}\\u003cextra\\u003e\\u003c\\u002fextra\\u003e\",\"legendgroup\":\"Fatty acids-Glycerolipids\",\"marker\":{\"color\":\"#ff8511\",\"pattern\":{\"shape\":\"\"}},\"name\":\"Fatty acids-Glycerolipids\",\"offsetgroup\":\"Fatty acids-Glycerolipids\",\"orientation\":\"h\",\"showlegend\":true,\"textposition\":\"auto\",\"x\":[1],\"xaxis\":\"x\",\"y\":[\"\\u003ci\\u003eGarcinia\\u003c\\u002fi\\u003e\"],\"yaxis\":\"y\",\"type\":\"bar\"},{\"alignmentgroup\":\"True\",\"hovertemplate\":\"chemical_superclass=Fatty acids-Octadecanoids\\u003cbr\\u003eRecurrence=%{x}\\u003cbr\\u003ey=%{y}\\u003cextra\\u003e\\u003c\\u002fextra\\u003e\",\"legendgroup\":\"Fatty acids-Octadecanoids\",\"marker\":{\"color\":\"#ff7f16\",\"pattern\":{\"shape\":\"\"}},\"name\":\"Fatty acids-Octadecanoids\",\"offsetgroup\":\"Fatty acids-Octadecanoids\",\"orientation\":\"h\",\"showlegend\":true,\"textposition\":\"auto\",\"x\":[1,1],\"xaxis\":\"x\",\"y\":[\"\\u003ci\\u003eGarcinia\\u003c\\u002fi\\u003e\",\"\\u003ci\\u003eShorea\\u003c\\u002fi\\u003e\"],\"yaxis\":\"y\",\"type\":\"bar\"},{\"alignmentgroup\":\"True\",\"hovertemplate\":\"chemical_superclass=Polyketides-Aromatic polyketides\\u003cbr\\u003eRecurrence=%{x}\\u003cbr\\u003ey=%{y}\\u003cextra\\u003e\\u003c\\u002fextra\\u003e\",\"legendgroup\":\"Polyketides-Aromatic polyketides\",\"marker\":{\"color\":\"#ee5751\",\"pattern\":{\"shape\":\"\"}},\"name\":\"Polyketides-Aromatic polyketides\",\"offsetgroup\":\"Polyketides-Aromatic polyketides\",\"orientation\":\"h\",\"showlegend\":true,\"textposition\":\"auto\",\"x\":[1,22,3,6,1,1,1],\"xaxis\":\"x\",\"y\":[\"\\u003ci\\u003eAtractylodes\\u003c\\u002fi\\u003e\",\"\\u003ci\\u003eGarcinia\\u003c\\u002fi\\u003e\",\"\\u003ci\\u003eHopea\\u003c\\u002fi\\u003e\",\"\\u003ci\\u003eMangifera\\u003c\\u002fi\\u003e\",\"\\u003ci\\u003eMelodinus\\u003c\\u002fi\\u003e\",\"\\u003ci\\u003eShorea\\u003c\\u002fi\\u003e\",\"\\u003ci\\u003eStauntonia\\u003c\\u002fi\\u003e\"],\"yaxis\":\"y\",\"type\":\"bar\"},{\"alignmentgroup\":\"True\",\"hovertemplate\":\"chemical_superclass=Polyketides-Chromanes\\u003cbr\\u003eRecurrence=%{x}\\u003cbr\\u003ey=%{y}\\u003cextra\\u003e\\u003c\\u002fextra\\u003e\",\"legendgroup\":\"Polyketides-Chromanes\",\"marker\":{\"color\":\"#ec8967\",\"pattern\":{\"shape\":\"\"}},\"name\":\"Polyketides-Chromanes\",\"offsetgroup\":\"Polyketides-Chromanes\",\"orientation\":\"h\",\"showlegend\":true,\"textposition\":\"auto\",\"x\":[7,4],\"xaxis\":\"x\",\"y\":[\"\\u003ci\\u003eGarcinia\\u003c\\u002fi\\u003e\",\"\\u003ci\\u003eRheum\\u003c\\u002fi\\u003e\"],\"yaxis\":\"y\",\"type\":\"bar\"},{\"alignmentgroup\":\"True\",\"hovertemplate\":\"chemical_superclass=Polyketides-Cyclic polyketides\\u003cbr\\u003eRecurrence=%{x}\\u003cbr\\u003ey=%{y}\\u003cextra\\u003e\\u003c\\u002fextra\\u003e\",\"legendgroup\":\"Polyketides-Cyclic polyketides\",\"marker\":{\"color\":\"#ed765f\",\"pattern\":{\"shape\":\"\"}},\"name\":\"Polyketides-Cyclic polyketides\",\"offsetgroup\":\"Polyketides-Cyclic polyketides\",\"orientation\":\"h\",\"showlegend\":true,\"textposition\":\"auto\",\"x\":[8,11],\"xaxis\":\"x\",\"y\":[\"\\u003ci\\u003eGarcinia\\u003c\\u002fi\\u003e\",\"\\u003ci\\u003eMangifera\\u003c\\u002fi\\u003e\"],\"yaxis\":\"y\",\"type\":\"bar\"},{\"alignmentgroup\":\"True\",\"hovertemplate\":\"chemical_superclass=Polyketides-Diphenyl ethers (DPEs)\\u003cbr\\u003eRecurrence=%{x}\\u003cbr\\u003ey=%{y}\\u003cextra\\u003e\\u003c\\u002fextra\\u003e\",\"legendgroup\":\"Polyketides-Diphenyl ethers (DPEs)\",\"marker\":{\"color\":\"#ed705c\",\"pattern\":{\"shape\":\"\"}},\"name\":\"Polyketides-Diphenyl ethers (DPEs)\",\"offsetgroup\":\"Polyketides-Diphenyl ethers (DPEs)\",\"orientation\":\"h\",\"showlegend\":true,\"textposition\":\"auto\",\"x\":[1],\"xaxis\":\"x\",\"y\":[\"\\u003ci\\u003eGarcinia\\u003c\\u002fi\\u003e\"],\"yaxis\":\"y\",\"type\":\"bar\"},{\"alignmentgroup\":\"True\",\"hovertemplate\":\"chemical_superclass=Polyketides-Linear polyketides\\u003cbr\\u003eRecurrence=%{x}\\u003cbr\\u003ey=%{y}\\u003cextra\\u003e\\u003c\\u002fextra\\u003e\",\"legendgroup\":\"Polyketides-Linear polyketides\",\"marker\":{\"color\":\"#ef4b4b\",\"pattern\":{\"shape\":\"\"}},\"name\":\"Polyketides-Linear polyketides\",\"offsetgroup\":\"Polyketides-Linear polyketides\",\"orientation\":\"h\",\"showlegend\":true,\"textposition\":\"auto\",\"x\":[2],\"xaxis\":\"x\",\"y\":[\"\\u003ci\\u003eAmpelocissus\\u003c\\u002fi\\u003e\"],\"yaxis\":\"y\",\"type\":\"bar\"},{\"alignmentgroup\":\"True\",\"hovertemplate\":\"chemical_superclass=Polyketides-Macrolides\\u003cbr\\u003eRecurrence=%{x}\\u003cbr\\u003ey=%{y}\\u003cextra\\u003e\\u003c\\u002fextra\\u003e\",\"legendgroup\":\"Polyketides-Macrolides\",\"marker\":{\"color\":\"#ee5e53\",\"pattern\":{\"shape\":\"\"}},\"name\":\"Polyketides-Macrolides\",\"offsetgroup\":\"Polyketides-Macrolides\",\"orientation\":\"h\",\"showlegend\":true,\"textposition\":\"auto\",\"x\":[1,3,1],\"xaxis\":\"x\",\"y\":[\"\\u003ci\\u003eCyphostemma\\u003c\\u002fi\\u003e\",\"\\u003ci\\u003eGarcinia\\u003c\\u002fi\\u003e\",\"\\u003ci\\u003eMangifera\\u003c\\u002fi\\u003e\"],\"yaxis\":\"y\",\"type\":\"bar\"},{\"alignmentgroup\":\"True\",\"hovertemplate\":\"chemical_superclass=Polyketides-Meroterpenoids\\u003cbr\\u003eRecurrence=%{x}\\u003cbr\\u003ey=%{y}\\u003cextra\\u003e\\u003c\\u002fextra\\u003e\",\"legendgroup\":\"Polyketides-Meroterpenoids\",\"marker\":{\"color\":\"#ef514e\",\"pattern\":{\"shape\":\"\"}},\"name\":\"Polyketides-Meroterpenoids\",\"offsetgroup\":\"Polyketides-Meroterpenoids\",\"orientation\":\"h\",\"showlegend\":true,\"textposition\":\"auto\",\"x\":[6,247,1],\"xaxis\":\"x\",\"y\":[\"\\u003ci\\u003eAtractylodes\\u003c\\u002fi\\u003e\",\"\\u003ci\\u003eGarcinia\\u003c\\u002fi\\u003e\",\"\\u003ci\\u003eMangifera\\u003c\\u002fi\\u003e\"],\"yaxis\":\"y\",\"type\":\"bar\"},{\"alignmentgroup\":\"True\",\"hovertemplate\":\"chemical_superclass=Polyketides-Naphthalenes\\u003cbr\\u003eRecurrence=%{x}\\u003cbr\\u003ey=%{y}\\u003cextra\\u003e\\u003c\\u002fextra\\u003e\",\"legendgroup\":\"Polyketides-Naphthalenes\",\"marker\":{\"color\":\"#ec8f6a\",\"pattern\":{\"shape\":\"\"}},\"name\":\"Polyketides-Naphthalenes\",\"offsetgroup\":\"Polyketides-Naphthalenes\",\"orientation\":\"h\",\"showlegend\":true,\"textposition\":\"auto\",\"x\":[5,1,5],\"xaxis\":\"x\",\"y\":[\"\\u003ci\\u003eGarcinia\\u003c\\u002fi\\u003e\",\"\\u003ci\\u003eMangifera\\u003c\\u002fi\\u003e\",\"\\u003ci\\u003eRheum\\u003c\\u002fi\\u003e\"],\"yaxis\":\"y\",\"type\":\"bar\"},{\"alignmentgroup\":\"True\",\"hovertemplate\":\"chemical_superclass=Polyketides-Phloroglucinols\\u003cbr\\u003eRecurrence=%{x}\\u003cbr\\u003ey=%{y}\\u003cextra\\u003e\\u003c\\u002fextra\\u003e\",\"legendgroup\":\"Polyketides-Phloroglucinols\",\"marker\":{\"color\":\"#ee6a59\",\"pattern\":{\"shape\":\"\"}},\"name\":\"Polyketides-Phloroglucinols\",\"offsetgroup\":\"Polyketides-Phloroglucinols\",\"orientation\":\"h\",\"showlegend\":true,\"textposition\":\"auto\",\"x\":[38,13],\"xaxis\":\"x\",\"y\":[\"\\u003ci\\u003eGarcinia\\u003c\\u002fi\\u003e\",\"\\u003ci\\u003eMangifera\\u003c\\u002fi\\u003e\"],\"yaxis\":\"y\",\"type\":\"bar\"},{\"alignmentgroup\":\"True\",\"hovertemplate\":\"chemical_superclass=Polyketides-Polycyclic aromatic polyketides\\u003cbr\\u003eRecurrence=%{x}\\u003cbr\\u003ey=%{y}\\u003cextra\\u003e\\u003c\\u002fextra\\u003e\",\"legendgroup\":\"Polyketides-Polycyclic aromatic polyketides\",\"marker\":{\"color\":\"#ed7c62\",\"pattern\":{\"shape\":\"\"}},\"name\":\"Polyketides-Polycyclic aromatic polyketides\",\"offsetgroup\":\"Polyketides-Polycyclic aromatic polyketides\",\"orientation\":\"h\",\"showlegend\":true,\"textposition\":\"auto\",\"x\":[1,57,1],\"xaxis\":\"x\",\"y\":[\"\\u003ci\\u003eGarcinia\\u003c\\u002fi\\u003e\",\"\\u003ci\\u003eRheum\\u003c\\u002fi\\u003e\",\"\\u003ci\\u003eShorea\\u003c\\u002fi\\u003e\"],\"yaxis\":\"y\",\"type\":\"bar\"},{\"alignmentgroup\":\"True\",\"hovertemplate\":\"chemical_superclass=Polyketides-Polyethers\\u003cbr\\u003eRecurrence=%{x}\\u003cbr\\u003ey=%{y}\\u003cextra\\u003e\\u003c\\u002fextra\\u003e\",\"legendgroup\":\"Polyketides-Polyethers\",\"marker\":{\"color\":\"#ed8364\",\"pattern\":{\"shape\":\"\"}},\"name\":\"Polyketides-Polyethers\",\"offsetgroup\":\"Polyketides-Polyethers\",\"orientation\":\"h\",\"showlegend\":true,\"textposition\":\"auto\",\"x\":[1],\"xaxis\":\"x\",\"y\":[\"\\u003ci\\u003eGarcinia\\u003c\\u002fi\\u003e\"],\"yaxis\":\"y\",\"type\":\"bar\"},{\"alignmentgroup\":\"True\",\"hovertemplate\":\"chemical_superclass=Polyketides-Xanthones\\u003cbr\\u003eRecurrence=%{x}\\u003cbr\\u003ey=%{y}\\u003cextra\\u003e\\u003c\\u002fextra\\u003e\",\"legendgroup\":\"Polyketides-Xanthones\",\"marker\":{\"color\":\"#ee6456\",\"pattern\":{\"shape\":\"\"}},\"name\":\"Polyketides-Xanthones\",\"offsetgroup\":\"Polyketides-Xanthones\",\"orientation\":\"h\",\"showlegend\":true,\"textposition\":\"auto\",\"x\":[17,4],\"xaxis\":\"x\",\"y\":[\"\\u003ci\\u003eGarcinia\\u003c\\u002fi\\u003e\",\"\\u003ci\\u003eMangifera\\u003c\\u002fi\\u003e\"],\"yaxis\":\"y\",\"type\":\"bar\"},{\"alignmentgroup\":\"True\",\"hovertemplate\":\"chemical_superclass=Shikimates and Phenylpropanoids-Coumarins\\u003cbr\\u003eRecurrence=%{x}\\u003cbr\\u003ey=%{y}\\u003cextra\\u003e\\u003c\\u002fextra\\u003e\",\"legendgroup\":\"Shikimates and Phenylpropanoids-Coumarins\",\"marker\":{\"color\":\"#885c8f\",\"pattern\":{\"shape\":\"\"}},\"name\":\"Shikimates and Phenylpropanoids-Coumarins\",\"offsetgroup\":\"Shikimates and Phenylpropanoids-Coumarins\",\"orientation\":\"h\",\"showlegend\":true,\"textposition\":\"auto\",\"x\":[5,16,3,1,2,1],\"xaxis\":\"x\",\"y\":[\"\\u003ci\\u003eAtractylodes\\u003c\\u002fi\\u003e\",\"\\u003ci\\u003eGarcinia\\u003c\\u002fi\\u003e\",\"\\u003ci\\u003eHopea\\u003c\\u002fi\\u003e\",\"\\u003ci\\u003eMangifera\\u003c\\u002fi\\u003e\",\"\\u003ci\\u003ePachyrhizus\\u003c\\u002fi\\u003e\",\"\\u003ci\\u003eShorea\\u003c\\u002fi\\u003e\"],\"yaxis\":\"y\",\"type\":\"bar\"},{\"alignmentgroup\":\"True\",\"hovertemplate\":\"chemical_superclass=Shikimates and Phenylpropanoids-Diarylheptanoids\\u003cbr\\u003eRecurrence=%{x}\\u003cbr\\u003ey=%{y}\\u003cextra\\u003e\\u003c\\u002fextra\\u003e\",\"legendgroup\":\"Shikimates and Phenylpropanoids-Diarylheptanoids\",\"marker\":{\"color\":\"#bc91a7\",\"pattern\":{\"shape\":\"\"}},\"name\":\"Shikimates and Phenylpropanoids-Diarylheptanoids\",\"offsetgroup\":\"Shikimates and Phenylpropanoids-Diarylheptanoids\",\"orientation\":\"h\",\"showlegend\":true,\"textposition\":\"auto\",\"x\":[1],\"xaxis\":\"x\",\"y\":[\"\\u003ci\\u003eGnetum\\u003c\\u002fi\\u003e\"],\"yaxis\":\"y\",\"type\":\"bar\"},{\"alignmentgroup\":\"True\",\"hovertemplate\":\"chemical_superclass=Shikimates and Phenylpropanoids-Flavonoids\\u003cbr\\u003eRecurrence=%{x}\\u003cbr\\u003ey=%{y}\\u003cextra\\u003e\\u003c\\u002fextra\\u003e\",\"legendgroup\":\"Shikimates and Phenylpropanoids-Flavonoids\",\"marker\":{\"color\":\"#80558c\",\"pattern\":{\"shape\":\"\"}},\"name\":\"Shikimates and Phenylpropanoids-Flavonoids\",\"offsetgroup\":\"Shikimates and Phenylpropanoids-Flavonoids\",\"orientation\":\"h\",\"showlegend\":true,\"textposition\":\"auto\",\"x\":[1,4,6,1,2,3,1,162,38,1,43,22,4,1,22],\"xaxis\":\"x\",\"y\":[\"\\u003ci\\u003eAmpelocissus\\u003c\\u002fi\\u003e\",\"\\u003ci\\u003eAtractylodes\\u003c\\u002fi\\u003e\",\"\\u003ci\\u003eBischofia\\u003c\\u002fi\\u003e\",\"\\u003ci\\u003eCalycopteris\\u003c\\u002fi\\u003e\",\"\\u003ci\\u003eCeiba\\u003c\\u002fi\\u003e\",\"\\u003ci\\u003eCyphostemma\\u003c\\u002fi\\u003e\",\"\\u003ci\\u003eErythrophleum\\u003c\\u002fi\\u003e\",\"\\u003ci\\u003eGarcinia\\u003c\\u002fi\\u003e\",\"\\u003ci\\u003eGnetum\\u003c\\u002fi\\u003e\",\"\\u003ci\\u003eHopea\\u003c\\u002fi\\u003e\",\"\\u003ci\\u003eMangifera\\u003c\\u002fi\\u003e\",\"\\u003ci\\u003eRheum\\u003c\\u002fi\\u003e\",\"\\u003ci\\u003eShorea\\u003c\\u002fi\\u003e\",\"\\u003ci\\u003eStauntonia\\u003c\\u002fi\\u003e\",\"\\u003ci\\u003eTinospora\\u003c\\u002fi\\u003e\"],\"yaxis\":\"y\",\"type\":\"bar\"},{\"alignmentgroup\":\"True\",\"hovertemplate\":\"chemical_superclass=Shikimates and Phenylpropanoids-Isoflavonoids\\u003cbr\\u003eRecurrence=%{x}\\u003cbr\\u003ey=%{y}\\u003cextra\\u003e\\u003c\\u002fextra\\u003e\",\"legendgroup\":\"Shikimates and Phenylpropanoids-Isoflavonoids\",\"marker\":{\"color\":\"#966b96\",\"pattern\":{\"shape\":\"\"}},\"name\":\"Shikimates and Phenylpropanoids-Isoflavonoids\",\"offsetgroup\":\"Shikimates and Phenylpropanoids-Isoflavonoids\",\"orientation\":\"h\",\"showlegend\":true,\"textposition\":\"auto\",\"x\":[5,27,5,1,26],\"xaxis\":\"x\",\"y\":[\"\\u003ci\\u003eCeiba\\u003c\\u002fi\\u003e\",\"\\u003ci\\u003eGarcinia\\u003c\\u002fi\\u003e\",\"\\u003ci\\u003eGnetum\\u003c\\u002fi\\u003e\",\"\\u003ci\\u003eMangifera\\u003c\\u002fi\\u003e\",\"\\u003ci\\u003ePachyrhizus\\u003c\\u002fi\\u003e\"],\"yaxis\":\"y\",\"type\":\"bar\"},{\"alignmentgroup\":\"True\",\"hovertemplate\":\"chemical_superclass=Shikimates and Phenylpropanoids-Lignans\\u003cbr\\u003eRecurrence=%{x}\\u003cbr\\u003ey=%{y}\\u003cextra\\u003e\\u003c\\u002fextra\\u003e\",\"legendgroup\":\"Shikimates and Phenylpropanoids-Lignans\",\"marker\":{\"color\":\"#ad82a0\",\"pattern\":{\"shape\":\"\"}},\"name\":\"Shikimates and Phenylpropanoids-Lignans\",\"offsetgroup\":\"Shikimates and Phenylpropanoids-Lignans\",\"orientation\":\"h\",\"showlegend\":true,\"textposition\":\"auto\",\"x\":[11,10,1,2,2,3,21],\"xaxis\":\"x\",\"y\":[\"\\u003ci\\u003eGarcinia\\u003c\\u002fi\\u003e\",\"\\u003ci\\u003eGnetum\\u003c\\u002fi\\u003e\",\"\\u003ci\\u003eHopea\\u003c\\u002fi\\u003e\",\"\\u003ci\\u003eMangifera\\u003c\\u002fi\\u003e\",\"\\u003ci\\u003eRheum\\u003c\\u002fi\\u003e\",\"\\u003ci\\u003eStauntonia\\u003c\\u002fi\\u003e\",\"\\u003ci\\u003eTinospora\\u003c\\u002fi\\u003e\"],\"yaxis\":\"y\",\"type\":\"bar\"},{\"alignmentgroup\":\"True\",\"hovertemplate\":\"chemical_superclass=Shikimates and Phenylpropanoids-Phenanthrenoids\\u003cbr\\u003eRecurrence=%{x}\\u003cbr\\u003ey=%{y}\\u003cextra\\u003e\\u003c\\u002fextra\\u003e\",\"legendgroup\":\"Shikimates and Phenylpropanoids-Phenanthrenoids\",\"marker\":{\"color\":\"#cba0ae\",\"pattern\":{\"shape\":\"\"}},\"name\":\"Shikimates and Phenylpropanoids-Phenanthrenoids\",\"offsetgroup\":\"Shikimates and Phenylpropanoids-Phenanthrenoids\",\"orientation\":\"h\",\"showlegend\":true,\"textposition\":\"auto\",\"x\":[2],\"xaxis\":\"x\",\"y\":[\"\\u003ci\\u003eMangifera\\u003c\\u002fi\\u003e\"],\"yaxis\":\"y\",\"type\":\"bar\"},{\"alignmentgroup\":\"True\",\"hovertemplate\":\"chemical_superclass=Shikimates and Phenylpropanoids-Phenolic acids (C6-C1)\\u003cbr\\u003eRecurrence=%{x}\\u003cbr\\u003ey=%{y}\\u003cextra\\u003e\\u003c\\u002fextra\\u003e\",\"legendgroup\":\"Shikimates and Phenylpropanoids-Phenolic acids (C6-C1)\",\"marker\":{\"color\":\"#FF6692\",\"pattern\":{\"shape\":\"\"}},\"name\":\"Shikimates and Phenylpropanoids-Phenolic acids (C6-C1)\",\"offsetgroup\":\"Shikimates and Phenylpropanoids-Phenolic acids (C6-C1)\",\"orientation\":\"h\",\"showlegend\":true,\"textposition\":\"auto\",\"x\":[8,1,1,11,2,25,12],\"xaxis\":\"x\",\"y\":[\"\\u003ci\\u003eBischofia\\u003c\\u002fi\\u003e\",\"\\u003ci\\u003eCeiba\\u003c\\u002fi\\u003e\",\"\\u003ci\\u003eErythrophleum\\u003c\\u002fi\\u003e\",\"\\u003ci\\u003eGarcinia\\u003c\\u002fi\\u003e\",\"\\u003ci\\u003eGnetum\\u003c\\u002fi\\u003e\",\"\\u003ci\\u003eMangifera\\u003c\\u002fi\\u003e\",\"\\u003ci\\u003eRheum\\u003c\\u002fi\\u003e\"],\"yaxis\":\"y\",\"type\":\"bar\"},{\"alignmentgroup\":\"True\",\"hovertemplate\":\"chemical_superclass=Shikimates and Phenylpropanoids-Phenylethanoids (C6-C2)\\u003cbr\\u003eRecurrence=%{x}\\u003cbr\\u003ey=%{y}\\u003cextra\\u003e\\u003c\\u002fextra\\u003e\",\"legendgroup\":\"Shikimates and Phenylpropanoids-Phenylethanoids (C6-C2)\",\"marker\":{\"color\":\"#B6E880\",\"pattern\":{\"shape\":\"\"}},\"name\":\"Shikimates and Phenylpropanoids-Phenylethanoids (C6-C2)\",\"offsetgroup\":\"Shikimates and Phenylpropanoids-Phenylethanoids (C6-C2)\",\"orientation\":\"h\",\"showlegend\":true,\"textposition\":\"auto\",\"x\":[4,1,2,2],\"xaxis\":\"x\",\"y\":[\"\\u003ci\\u003eAtractylodes\\u003c\\u002fi\\u003e\",\"\\u003ci\\u003eGarcinia\\u003c\\u002fi\\u003e\",\"\\u003ci\\u003eMangifera\\u003c\\u002fi\\u003e\",\"\\u003ci\\u003eTinospora\\u003c\\u002fi\\u003e\"],\"yaxis\":\"y\",\"type\":\"bar\"},{\"alignmentgroup\":\"True\",\"hovertemplate\":\"chemical_superclass=Shikimates and Phenylpropanoids-Phenylpropanoids (C6-C3)\\u003cbr\\u003eRecurrence=%{x}\\u003cbr\\u003ey=%{y}\\u003cextra\\u003e\\u003c\\u002fextra\\u003e\",\"legendgroup\":\"Shikimates and Phenylpropanoids-Phenylpropanoids (C6-C3)\",\"marker\":{\"color\":\"#FF97FF\",\"pattern\":{\"shape\":\"\"}},\"name\":\"Shikimates and Phenylpropanoids-Phenylpropanoids (C6-C3)\",\"offsetgroup\":\"Shikimates and Phenylpropanoids-Phenylpropanoids (C6-C3)\",\"orientation\":\"h\",\"showlegend\":true,\"textposition\":\"auto\",\"x\":[5,2,6,2,23,4,1,4],\"xaxis\":\"x\",\"y\":[\"\\u003ci\\u003eAtractylodes\\u003c\\u002fi\\u003e\",\"\\u003ci\\u003eErythrophleum\\u003c\\u002fi\\u003e\",\"\\u003ci\\u003eGarcinia\\u003c\\u002fi\\u003e\",\"\\u003ci\\u003eGnetum\\u003c\\u002fi\\u003e\",\"\\u003ci\\u003eMangifera\\u003c\\u002fi\\u003e\",\"\\u003ci\\u003eRheum\\u003c\\u002fi\\u003e\",\"\\u003ci\\u003eStauntonia\\u003c\\u002fi\\u003e\",\"\\u003ci\\u003eTinospora\\u003c\\u002fi\\u003e\"],\"yaxis\":\"y\",\"type\":\"bar\"},{\"alignmentgroup\":\"True\",\"hovertemplate\":\"chemical_superclass=Shikimates and Phenylpropanoids-Stilbenoids\\u003cbr\\u003eRecurrence=%{x}\\u003cbr\\u003ey=%{y}\\u003cextra\\u003e\\u003c\\u002fextra\\u003e\",\"legendgroup\":\"Shikimates and Phenylpropanoids-Stilbenoids\",\"marker\":{\"color\":\"#9e739a\",\"pattern\":{\"shape\":\"\"}},\"name\":\"Shikimates and Phenylpropanoids-Stilbenoids\",\"offsetgroup\":\"Shikimates and Phenylpropanoids-Stilbenoids\",\"orientation\":\"h\",\"showlegend\":true,\"textposition\":\"auto\",\"x\":[14,1,192,60,39,64],\"xaxis\":\"x\",\"y\":[\"\\u003ci\\u003eCyphostemma\\u003c\\u002fi\\u003e\",\"\\u003ci\\u003eErythrophleum\\u003c\\u002fi\\u003e\",\"\\u003ci\\u003eGnetum\\u003c\\u002fi\\u003e\",\"\\u003ci\\u003eHopea\\u003c\\u002fi\\u003e\",\"\\u003ci\\u003eRheum\\u003c\\u002fi\\u003e\",\"\\u003ci\\u003eShorea\\u003c\\u002fi\\u003e\"],\"yaxis\":\"y\",\"type\":\"bar\"},{\"alignmentgroup\":\"True\",\"hovertemplate\":\"chemical_superclass=Shikimates and Phenylpropanoids-Styrylpyrones\\u003cbr\\u003eRecurrence=%{x}\\u003cbr\\u003ey=%{y}\\u003cextra\\u003e\\u003c\\u002fextra\\u003e\",\"legendgroup\":\"Shikimates and Phenylpropanoids-Styrylpyrones\",\"marker\":{\"color\":\"#c398ab\",\"pattern\":{\"shape\":\"\"}},\"name\":\"Shikimates and Phenylpropanoids-Styrylpyrones\",\"offsetgroup\":\"Shikimates and Phenylpropanoids-Styrylpyrones\",\"orientation\":\"h\",\"showlegend\":true,\"textposition\":\"auto\",\"x\":[1],\"xaxis\":\"x\",\"y\":[\"\\u003ci\\u003eHopea\\u003c\\u002fi\\u003e\"],\"yaxis\":\"y\",\"type\":\"bar\"},{\"alignmentgroup\":\"True\",\"hovertemplate\":\"chemical_superclass=Shikimates and Phenylpropanoids-Terphenyls\\u003cbr\\u003eRecurrence=%{x}\\u003cbr\\u003ey=%{y}\\u003cextra\\u003e\\u003c\\u002fextra\\u003e\",\"legendgroup\":\"Shikimates and Phenylpropanoids-Terphenyls\",\"marker\":{\"color\":\"#b48aa4\",\"pattern\":{\"shape\":\"\"}},\"name\":\"Shikimates and Phenylpropanoids-Terphenyls\",\"offsetgroup\":\"Shikimates and Phenylpropanoids-Terphenyls\",\"orientation\":\"h\",\"showlegend\":true,\"textposition\":\"auto\",\"x\":[3],\"xaxis\":\"x\",\"y\":[\"\\u003ci\\u003eGarcinia\\u003c\\u002fi\\u003e\"],\"yaxis\":\"y\",\"type\":\"bar\"},{\"alignmentgroup\":\"True\",\"hovertemplate\":\"chemical_superclass=Shikimates and Phenylpropanoids-Xanthones\\u003cbr\\u003eRecurrence=%{x}\\u003cbr\\u003ey=%{y}\\u003cextra\\u003e\\u003c\\u002fextra\\u003e\",\"legendgroup\":\"Shikimates and Phenylpropanoids-Xanthones\",\"marker\":{\"color\":\"#a57a9d\",\"pattern\":{\"shape\":\"\"}},\"name\":\"Shikimates and Phenylpropanoids-Xanthones\",\"offsetgroup\":\"Shikimates and Phenylpropanoids-Xanthones\",\"orientation\":\"h\",\"showlegend\":true,\"textposition\":\"auto\",\"x\":[578,10],\"xaxis\":\"x\",\"y\":[\"\\u003ci\\u003eGarcinia\\u003c\\u002fi\\u003e\",\"\\u003ci\\u003eMangifera\\u003c\\u002fi\\u003e\"],\"yaxis\":\"y\",\"type\":\"bar\"},{\"alignmentgroup\":\"True\",\"hovertemplate\":\"chemical_superclass=Terpenoids-Apocarotenoids\\u003cbr\\u003eRecurrence=%{x}\\u003cbr\\u003ey=%{y}\\u003cextra\\u003e\\u003c\\u002fextra\\u003e\",\"legendgroup\":\"Terpenoids-Apocarotenoids\",\"marker\":{\"color\":\"#d0e7d2\",\"pattern\":{\"shape\":\"\"}},\"name\":\"Terpenoids-Apocarotenoids\",\"offsetgroup\":\"Terpenoids-Apocarotenoids\",\"orientation\":\"h\",\"showlegend\":true,\"textposition\":\"auto\",\"x\":[1,5,16,1],\"xaxis\":\"x\",\"y\":[\"\\u003ci\\u003eErythrophleum\\u003c\\u002fi\\u003e\",\"\\u003ci\\u003eGarcinia\\u003c\\u002fi\\u003e\",\"\\u003ci\\u003eMangifera\\u003c\\u002fi\\u003e\",\"\\u003ci\\u003eStauntonia\\u003c\\u002fi\\u003e\"],\"yaxis\":\"y\",\"type\":\"bar\"},{\"alignmentgroup\":\"True\",\"hovertemplate\":\"chemical_superclass=Terpenoids-Carotenoids (C40)\\u003cbr\\u003eRecurrence=%{x}\\u003cbr\\u003ey=%{y}\\u003cextra\\u003e\\u003c\\u002fextra\\u003e\",\"legendgroup\":\"Terpenoids-Carotenoids (C40)\",\"marker\":{\"color\":\"#c0d9c2\",\"pattern\":{\"shape\":\"\"}},\"name\":\"Terpenoids-Carotenoids (C40)\",\"offsetgroup\":\"Terpenoids-Carotenoids (C40)\",\"orientation\":\"h\",\"showlegend\":true,\"textposition\":\"auto\",\"x\":[1,28,7],\"xaxis\":\"x\",\"y\":[\"\\u003ci\\u003eErythrophleum\\u003c\\u002fi\\u003e\",\"\\u003ci\\u003eMangifera\\u003c\\u002fi\\u003e\",\"\\u003ci\\u003ePlatycerium\\u003c\\u002fi\\u003e\"],\"yaxis\":\"y\",\"type\":\"bar\"},{\"alignmentgroup\":\"True\",\"hovertemplate\":\"chemical_superclass=Terpenoids-Diterpenoids\\u003cbr\\u003eRecurrence=%{x}\\u003cbr\\u003ey=%{y}\\u003cextra\\u003e\\u003c\\u002fextra\\u003e\",\"legendgroup\":\"Terpenoids-Diterpenoids\",\"marker\":{\"color\":\"#b0cab3\",\"pattern\":{\"shape\":\"\"}},\"name\":\"Terpenoids-Diterpenoids\",\"offsetgroup\":\"Terpenoids-Diterpenoids\",\"orientation\":\"h\",\"showlegend\":true,\"textposition\":\"auto\",\"x\":[1,76,7,2,2,98],\"xaxis\":\"x\",\"y\":[\"\\u003ci\\u003eCyphostemma\\u003c\\u002fi\\u003e\",\"\\u003ci\\u003eErythrophleum\\u003c\\u002fi\\u003e\",\"\\u003ci\\u003eGarcinia\\u003c\\u002fi\\u003e\",\"\\u003ci\\u003eMangifera\\u003c\\u002fi\\u003e\",\"\\u003ci\\u003eMelodinus\\u003c\\u002fi\\u003e\",\"\\u003ci\\u003eTinospora\\u003c\\u002fi\\u003e\"],\"yaxis\":\"y\",\"type\":\"bar\"},{\"alignmentgroup\":\"True\",\"hovertemplate\":\"chemical_superclass=Terpenoids-Meroterpenoids\\u003cbr\\u003eRecurrence=%{x}\\u003cbr\\u003ey=%{y}\\u003cextra\\u003e\\u003c\\u002fextra\\u003e\",\"legendgroup\":\"Terpenoids-Meroterpenoids\",\"marker\":{\"color\":\"#a0bca3\",\"pattern\":{\"shape\":\"\"}},\"name\":\"Terpenoids-Meroterpenoids\",\"offsetgroup\":\"Terpenoids-Meroterpenoids\",\"orientation\":\"h\",\"showlegend\":true,\"textposition\":\"auto\",\"x\":[1,26],\"xaxis\":\"x\",\"y\":[\"\\u003ci\\u003eAtractylodes\\u003c\\u002fi\\u003e\",\"\\u003ci\\u003eGarcinia\\u003c\\u002fi\\u003e\"],\"yaxis\":\"y\",\"type\":\"bar\"},{\"alignmentgroup\":\"True\",\"hovertemplate\":\"chemical_superclass=Terpenoids-Monoterpenoids\\u003cbr\\u003eRecurrence=%{x}\\u003cbr\\u003ey=%{y}\\u003cextra\\u003e\\u003c\\u002fextra\\u003e\",\"legendgroup\":\"Terpenoids-Monoterpenoids\",\"marker\":{\"color\":\"#719074\",\"pattern\":{\"shape\":\"\"}},\"name\":\"Terpenoids-Monoterpenoids\",\"offsetgroup\":\"Terpenoids-Monoterpenoids\",\"orientation\":\"h\",\"showlegend\":true,\"textposition\":\"auto\",\"x\":[15,27,114,9],\"xaxis\":\"x\",\"y\":[\"\\u003ci\\u003eAtractylodes\\u003c\\u002fi\\u003e\",\"\\u003ci\\u003eGarcinia\\u003c\\u002fi\\u003e\",\"\\u003ci\\u003eMangifera\\u003c\\u002fi\\u003e\",\"\\u003ci\\u003eTinospora\\u003c\\u002fi\\u003e\"],\"yaxis\":\"y\",\"type\":\"bar\"},{\"alignmentgroup\":\"True\",\"hovertemplate\":\"chemical_superclass=Terpenoids-Sesquiterpenoids\\u003cbr\\u003eRecurrence=%{x}\\u003cbr\\u003ey=%{y}\\u003cextra\\u003e\\u003c\\u002fextra\\u003e\",\"legendgroup\":\"Terpenoids-Sesquiterpenoids\",\"marker\":{\"color\":\"#618264\",\"pattern\":{\"shape\":\"\"}},\"name\":\"Terpenoids-Sesquiterpenoids\",\"offsetgroup\":\"Terpenoids-Sesquiterpenoids\",\"orientation\":\"h\",\"showlegend\":true,\"textposition\":\"auto\",\"x\":[86,4,2,17,72,7,5],\"xaxis\":\"x\",\"y\":[\"\\u003ci\\u003eAtractylodes\\u003c\\u002fi\\u003e\",\"\\u003ci\\u003eCeiba\\u003c\\u002fi\\u003e\",\"\\u003ci\\u003eCyphostemma\\u003c\\u002fi\\u003e\",\"\\u003ci\\u003eGarcinia\\u003c\\u002fi\\u003e\",\"\\u003ci\\u003eMangifera\\u003c\\u002fi\\u003e\",\"\\u003ci\\u003eShorea\\u003c\\u002fi\\u003e\",\"\\u003ci\\u003eTinospora\\u003c\\u002fi\\u003e\"],\"yaxis\":\"y\",\"type\":\"bar\"},{\"alignmentgroup\":\"True\",\"hovertemplate\":\"chemical_superclass=Terpenoids-Steroids\\u003cbr\\u003eRecurrence=%{x}\\u003cbr\\u003ey=%{y}\\u003cextra\\u003e\\u003c\\u002fextra\\u003e\",\"legendgroup\":\"Terpenoids-Steroids\",\"marker\":{\"color\":\"#819f83\",\"pattern\":{\"shape\":\"\"}},\"name\":\"Terpenoids-Steroids\",\"offsetgroup\":\"Terpenoids-Steroids\",\"orientation\":\"h\",\"showlegend\":true,\"textposition\":\"auto\",\"x\":[4,3,5,19,5,1,17,7,2,6,12],\"xaxis\":\"x\",\"y\":[\"\\u003ci\\u003eAtractylodes\\u003c\\u002fi\\u003e\",\"\\u003ci\\u003eCeiba\\u003c\\u002fi\\u003e\",\"\\u003ci\\u003eErythrophleum\\u003c\\u002fi\\u003e\",\"\\u003ci\\u003eGarcinia\\u003c\\u002fi\\u003e\",\"\\u003ci\\u003eGnetum\\u003c\\u002fi\\u003e\",\"\\u003ci\\u003eHoloptelea\\u003c\\u002fi\\u003e\",\"\\u003ci\\u003eMangifera\\u003c\\u002fi\\u003e\",\"\\u003ci\\u003eRheum\\u003c\\u002fi\\u003e\",\"\\u003ci\\u003eShorea\\u003c\\u002fi\\u003e\",\"\\u003ci\\u003eStauntonia\\u003c\\u002fi\\u003e\",\"\\u003ci\\u003eTinospora\\u003c\\u002fi\\u003e\"],\"yaxis\":\"y\",\"type\":\"bar\"},{\"alignmentgroup\":\"True\",\"hovertemplate\":\"chemical_superclass=Terpenoids-Triterpenoids\\u003cbr\\u003eRecurrence=%{x}\\u003cbr\\u003ey=%{y}\\u003cextra\\u003e\\u003c\\u002fextra\\u003e\",\"legendgroup\":\"Terpenoids-Triterpenoids\",\"marker\":{\"color\":\"#91ad93\",\"pattern\":{\"shape\":\"\"}},\"name\":\"Terpenoids-Triterpenoids\",\"offsetgroup\":\"Terpenoids-Triterpenoids\",\"orientation\":\"h\",\"showlegend\":true,\"textposition\":\"auto\",\"x\":[4,3,3,13,89,1,6,62,2,33,95,6],\"xaxis\":\"x\",\"y\":[\"\\u003ci\\u003eAtractylodes\\u003c\\u002fi\\u003e\",\"\\u003ci\\u003eBischofia\\u003c\\u002fi\\u003e\",\"\\u003ci\\u003eCyphostemma\\u003c\\u002fi\\u003e\",\"\\u003ci\\u003eErythrophleum\\u003c\\u002fi\\u003e\",\"\\u003ci\\u003eGarcinia\\u003c\\u002fi\\u003e\",\"\\u003ci\\u003eGnetum\\u003c\\u002fi\\u003e\",\"\\u003ci\\u003eHoloptelea\\u003c\\u002fi\\u003e\",\"\\u003ci\\u003eMangifera\\u003c\\u002fi\\u003e\",\"\\u003ci\\u003eRheum\\u003c\\u002fi\\u003e\",\"\\u003ci\\u003eShorea\\u003c\\u002fi\\u003e\",\"\\u003ci\\u003eStauntonia\\u003c\\u002fi\\u003e\",\"\\u003ci\\u003eTinospora\\u003c\\u002fi\\u003e\"],\"yaxis\":\"y\",\"type\":\"bar\"}],                        {\"template\":{\"data\":{\"histogram2dcontour\":[{\"type\":\"histogram2dcontour\",\"colorbar\":{\"outlinewidth\":0,\"ticks\":\"\"},\"colorscale\":[[0.0,\"#0d0887\"],[0.1111111111111111,\"#46039f\"],[0.2222222222222222,\"#7201a8\"],[0.3333333333333333,\"#9c179e\"],[0.4444444444444444,\"#bd3786\"],[0.5555555555555556,\"#d8576b\"],[0.6666666666666666,\"#ed7953\"],[0.7777777777777778,\"#fb9f3a\"],[0.8888888888888888,\"#fdca26\"],[1.0,\"#f0f921\"]]}],\"choropleth\":[{\"type\":\"choropleth\",\"colorbar\":{\"outlinewidth\":0,\"ticks\":\"\"}}],\"histogram2d\":[{\"type\":\"histogram2d\",\"colorbar\":{\"outlinewidth\":0,\"ticks\":\"\"},\"colorscale\":[[0.0,\"#0d0887\"],[0.1111111111111111,\"#46039f\"],[0.2222222222222222,\"#7201a8\"],[0.3333333333333333,\"#9c179e\"],[0.4444444444444444,\"#bd3786\"],[0.5555555555555556,\"#d8576b\"],[0.6666666666666666,\"#ed7953\"],[0.7777777777777778,\"#fb9f3a\"],[0.8888888888888888,\"#fdca26\"],[1.0,\"#f0f921\"]]}],\"heatmap\":[{\"type\":\"heatmap\",\"colorbar\":{\"outlinewidth\":0,\"ticks\":\"\"},\"colorscale\":[[0.0,\"#0d0887\"],[0.1111111111111111,\"#46039f\"],[0.2222222222222222,\"#7201a8\"],[0.3333333333333333,\"#9c179e\"],[0.4444444444444444,\"#bd3786\"],[0.5555555555555556,\"#d8576b\"],[0.6666666666666666,\"#ed7953\"],[0.7777777777777778,\"#fb9f3a\"],[0.8888888888888888,\"#fdca26\"],[1.0,\"#f0f921\"]]}],\"heatmapgl\":[{\"type\":\"heatmapgl\",\"colorbar\":{\"outlinewidth\":0,\"ticks\":\"\"},\"colorscale\":[[0.0,\"#0d0887\"],[0.1111111111111111,\"#46039f\"],[0.2222222222222222,\"#7201a8\"],[0.3333333333333333,\"#9c179e\"],[0.4444444444444444,\"#bd3786\"],[0.5555555555555556,\"#d8576b\"],[0.6666666666666666,\"#ed7953\"],[0.7777777777777778,\"#fb9f3a\"],[0.8888888888888888,\"#fdca26\"],[1.0,\"#f0f921\"]]}],\"contourcarpet\":[{\"type\":\"contourcarpet\",\"colorbar\":{\"outlinewidth\":0,\"ticks\":\"\"}}],\"contour\":[{\"type\":\"contour\",\"colorbar\":{\"outlinewidth\":0,\"ticks\":\"\"},\"colorscale\":[[0.0,\"#0d0887\"],[0.1111111111111111,\"#46039f\"],[0.2222222222222222,\"#7201a8\"],[0.3333333333333333,\"#9c179e\"],[0.4444444444444444,\"#bd3786\"],[0.5555555555555556,\"#d8576b\"],[0.6666666666666666,\"#ed7953\"],[0.7777777777777778,\"#fb9f3a\"],[0.8888888888888888,\"#fdca26\"],[1.0,\"#f0f921\"]]}],\"surface\":[{\"type\":\"surface\",\"colorbar\":{\"outlinewidth\":0,\"ticks\":\"\"},\"colorscale\":[[0.0,\"#0d0887\"],[0.1111111111111111,\"#46039f\"],[0.2222222222222222,\"#7201a8\"],[0.3333333333333333,\"#9c179e\"],[0.4444444444444444,\"#bd3786\"],[0.5555555555555556,\"#d8576b\"],[0.6666666666666666,\"#ed7953\"],[0.7777777777777778,\"#fb9f3a\"],[0.8888888888888888,\"#fdca26\"],[1.0,\"#f0f921\"]]}],\"mesh3d\":[{\"type\":\"mesh3d\",\"colorbar\":{\"outlinewidth\":0,\"ticks\":\"\"}}],\"scatter\":[{\"fillpattern\":{\"fillmode\":\"overlay\",\"size\":10,\"solidity\":0.2},\"type\":\"scatter\"}],\"parcoords\":[{\"type\":\"parcoords\",\"line\":{\"colorbar\":{\"outlinewidth\":0,\"ticks\":\"\"}}}],\"scatterpolargl\":[{\"type\":\"scatterpolargl\",\"marker\":{\"colorbar\":{\"outlinewidth\":0,\"ticks\":\"\"}}}],\"bar\":[{\"error_x\":{\"color\":\"#2a3f5f\"},\"error_y\":{\"color\":\"#2a3f5f\"},\"marker\":{\"line\":{\"color\":\"#E5ECF6\",\"width\":0.5},\"pattern\":{\"fillmode\":\"overlay\",\"size\":10,\"solidity\":0.2}},\"type\":\"bar\"}],\"scattergeo\":[{\"type\":\"scattergeo\",\"marker\":{\"colorbar\":{\"outlinewidth\":0,\"ticks\":\"\"}}}],\"scatterpolar\":[{\"type\":\"scatterpolar\",\"marker\":{\"colorbar\":{\"outlinewidth\":0,\"ticks\":\"\"}}}],\"histogram\":[{\"marker\":{\"pattern\":{\"fillmode\":\"overlay\",\"size\":10,\"solidity\":0.2}},\"type\":\"histogram\"}],\"scattergl\":[{\"type\":\"scattergl\",\"marker\":{\"colorbar\":{\"outlinewidth\":0,\"ticks\":\"\"}}}],\"scatter3d\":[{\"type\":\"scatter3d\",\"line\":{\"colorbar\":{\"outlinewidth\":0,\"ticks\":\"\"}},\"marker\":{\"colorbar\":{\"outlinewidth\":0,\"ticks\":\"\"}}}],\"scattermapbox\":[{\"type\":\"scattermapbox\",\"marker\":{\"colorbar\":{\"outlinewidth\":0,\"ticks\":\"\"}}}],\"scatterternary\":[{\"type\":\"scatterternary\",\"marker\":{\"colorbar\":{\"outlinewidth\":0,\"ticks\":\"\"}}}],\"scattercarpet\":[{\"type\":\"scattercarpet\",\"marker\":{\"colorbar\":{\"outlinewidth\":0,\"ticks\":\"\"}}}],\"carpet\":[{\"aaxis\":{\"endlinecolor\":\"#2a3f5f\",\"gridcolor\":\"white\",\"linecolor\":\"white\",\"minorgridcolor\":\"white\",\"startlinecolor\":\"#2a3f5f\"},\"baxis\":{\"endlinecolor\":\"#2a3f5f\",\"gridcolor\":\"white\",\"linecolor\":\"white\",\"minorgridcolor\":\"white\",\"startlinecolor\":\"#2a3f5f\"},\"type\":\"carpet\"}],\"table\":[{\"cells\":{\"fill\":{\"color\":\"#EBF0F8\"},\"line\":{\"color\":\"white\"}},\"header\":{\"fill\":{\"color\":\"#C8D4E3\"},\"line\":{\"color\":\"white\"}},\"type\":\"table\"}],\"barpolar\":[{\"marker\":{\"line\":{\"color\":\"#E5ECF6\",\"width\":0.5},\"pattern\":{\"fillmode\":\"overlay\",\"size\":10,\"solidity\":0.2}},\"type\":\"barpolar\"}],\"pie\":[{\"automargin\":true,\"type\":\"pie\"}]},\"layout\":{\"autotypenumbers\":\"strict\",\"colorway\":[\"#636efa\",\"#EF553B\",\"#00cc96\",\"#ab63fa\",\"#FFA15A\",\"#19d3f3\",\"#FF6692\",\"#B6E880\",\"#FF97FF\",\"#FECB52\"],\"font\":{\"color\":\"#2a3f5f\"},\"hovermode\":\"closest\",\"hoverlabel\":{\"align\":\"left\"},\"paper_bgcolor\":\"white\",\"plot_bgcolor\":\"#E5ECF6\",\"polar\":{\"bgcolor\":\"#E5ECF6\",\"angularaxis\":{\"gridcolor\":\"white\",\"linecolor\":\"white\",\"ticks\":\"\"},\"radialaxis\":{\"gridcolor\":\"white\",\"linecolor\":\"white\",\"ticks\":\"\"}},\"ternary\":{\"bgcolor\":\"#E5ECF6\",\"aaxis\":{\"gridcolor\":\"white\",\"linecolor\":\"white\",\"ticks\":\"\"},\"baxis\":{\"gridcolor\":\"white\",\"linecolor\":\"white\",\"ticks\":\"\"},\"caxis\":{\"gridcolor\":\"white\",\"linecolor\":\"white\",\"ticks\":\"\"}},\"coloraxis\":{\"colorbar\":{\"outlinewidth\":0,\"ticks\":\"\"}},\"colorscale\":{\"sequential\":[[0.0,\"#0d0887\"],[0.1111111111111111,\"#46039f\"],[0.2222222222222222,\"#7201a8\"],[0.3333333333333333,\"#9c179e\"],[0.4444444444444444,\"#bd3786\"],[0.5555555555555556,\"#d8576b\"],[0.6666666666666666,\"#ed7953\"],[0.7777777777777778,\"#fb9f3a\"],[0.8888888888888888,\"#fdca26\"],[1.0,\"#f0f921\"]],\"sequentialminus\":[[0.0,\"#0d0887\"],[0.1111111111111111,\"#46039f\"],[0.2222222222222222,\"#7201a8\"],[0.3333333333333333,\"#9c179e\"],[0.4444444444444444,\"#bd3786\"],[0.5555555555555556,\"#d8576b\"],[0.6666666666666666,\"#ed7953\"],[0.7777777777777778,\"#fb9f3a\"],[0.8888888888888888,\"#fdca26\"],[1.0,\"#f0f921\"]],\"diverging\":[[0,\"#8e0152\"],[0.1,\"#c51b7d\"],[0.2,\"#de77ae\"],[0.3,\"#f1b6da\"],[0.4,\"#fde0ef\"],[0.5,\"#f7f7f7\"],[0.6,\"#e6f5d0\"],[0.7,\"#b8e186\"],[0.8,\"#7fbc41\"],[0.9,\"#4d9221\"],[1,\"#276419\"]]},\"xaxis\":{\"gridcolor\":\"white\",\"linecolor\":\"white\",\"ticks\":\"\",\"title\":{\"standoff\":15},\"zerolinecolor\":\"white\",\"automargin\":true,\"zerolinewidth\":2},\"yaxis\":{\"gridcolor\":\"white\",\"linecolor\":\"white\",\"ticks\":\"\",\"title\":{\"standoff\":15},\"zerolinecolor\":\"white\",\"automargin\":true,\"zerolinewidth\":2},\"scene\":{\"xaxis\":{\"backgroundcolor\":\"#E5ECF6\",\"gridcolor\":\"white\",\"linecolor\":\"white\",\"showbackground\":true,\"ticks\":\"\",\"zerolinecolor\":\"white\",\"gridwidth\":2},\"yaxis\":{\"backgroundcolor\":\"#E5ECF6\",\"gridcolor\":\"white\",\"linecolor\":\"white\",\"showbackground\":true,\"ticks\":\"\",\"zerolinecolor\":\"white\",\"gridwidth\":2},\"zaxis\":{\"backgroundcolor\":\"#E5ECF6\",\"gridcolor\":\"white\",\"linecolor\":\"white\",\"showbackground\":true,\"ticks\":\"\",\"zerolinecolor\":\"white\",\"gridwidth\":2}},\"shapedefaults\":{\"line\":{\"color\":\"#2a3f5f\"}},\"annotationdefaults\":{\"arrowcolor\":\"#2a3f5f\",\"arrowhead\":0,\"arrowwidth\":1},\"geo\":{\"bgcolor\":\"white\",\"landcolor\":\"#E5ECF6\",\"subunitcolor\":\"white\",\"showland\":true,\"showlakes\":true,\"lakecolor\":\"white\"},\"title\":{\"x\":0.05},\"mapbox\":{\"style\":\"light\"}}},\"xaxis\":{\"anchor\":\"y\",\"domain\":[0.0,1.0],\"title\":{\"text\":\"Recurrence\"}},\"yaxis\":{\"anchor\":\"x\",\"domain\":[0.0,1.0],\"title\":{\"text\":\"\\u003ci\\u003eGenus\\u003ci\\u003e\"}},\"legend\":{\"title\":{\"text\":\"chemical_superclass\"},\"tracegroupgap\":0},\"title\":{\"text\":\"Stacked Barplot of Predicted Superclasses Ocurrence for Genus\"},\"barmode\":\"relative\",\"plot_bgcolor\":\"white\",\"width\":1500,\"height\":1600},                        {\"responsive\": true}                    ).then(function(){\n",
       "                            \n",
       "var gd = document.getElementById('7df6876a-b76b-42e5-b00a-c42f4a85e981');\n",
       "var x = new MutationObserver(function (mutations, observer) {{\n",
       "        var display = window.getComputedStyle(gd).display;\n",
       "        if (!display || display === 'none') {{\n",
       "            console.log([gd, 'removed!']);\n",
       "            Plotly.purge(gd);\n",
       "            observer.disconnect();\n",
       "        }}\n",
       "}});\n",
       "\n",
       "// Listen for the removal of the full notebook cells\n",
       "var notebookContainer = gd.closest('#notebook-container');\n",
       "if (notebookContainer) {{\n",
       "    x.observe(notebookContainer, {childList: true});\n",
       "}}\n",
       "\n",
       "// Listen for the clearing of the current output cell\n",
       "var outputEl = gd.closest('.output');\n",
       "if (outputEl) {{\n",
       "    x.observe(outputEl, {childList: true});\n",
       "}}\n",
       "\n",
       "                        })                };                });            </script>        </div>"
      ]
     },
     "metadata": {},
     "output_type": "display_data"
    }
   ],
   "source": [
    "# Define base colors for each Pathway\n",
    "\n",
    "pathway_colors = {\n",
    "    'Terpenoids': ('#618264', '#D0E7D2'),  # Green start and lighter green end\n",
    "    'Alkaloids': ('#305F72', '#5CBCE2'),   # Blue start and lighter blue end  \n",
    "    'Shikimates and Phenylpropanoids': ('#80558C', '#CBA0AE'),  # Purple start and lighter purple end\n",
    "    'Polyketides': ('#EF4B4B', '#EC8F6A'),  # Red start and lighter purple end\n",
    "    'Fatty acids': ('#FF6C22', '#FF9209'),  # Orange start and lighter purple end\n",
    "    'Amino acids and Peptides': ('#F4E869', '#FAF2D3'),  # Yellow start and lighter purple end\n",
    "    'Carbohydrates': ('#65451F','#C8AE7D')  # Brown start and lighter purple end\n",
    "}\n",
    "\n",
    "def interpolate_color(color1, color2, factor: float):\n",
    "    \"\"\"Interpolate between two colors\"\"\"\n",
    "    color1 = np.array(mcolors.to_rgb(color1))\n",
    "    color2 = np.array(mcolors.to_rgb(color2))\n",
    "    return mcolors.to_hex((1 - factor) * color1 + factor * color2)\n",
    "\n",
    "def generate_shades(pathway, num_shades):\n",
    "    base_color, end_color = pathway_colors.get(pathway, ('gray', 'lightgray'))\n",
    "    if num_shades == 1:\n",
    "        return [base_color]  # Return the base color if only one shade is requested\n",
    "    shades = []\n",
    "    for i in range(num_shades):\n",
    "        factor = i / (num_shades - 1)\n",
    "        shades.append(interpolate_color(base_color, end_color, factor))\n",
    "    return shades\n",
    "\n",
    "\n",
    "# Step 1: Initialize an empty DataFrame to store all data\n",
    "all_data = pd.DataFrame(columns=['organism_taxonomy_08genus', 'chemical_superclass'])\n",
    "\n",
    "# Step 2: Read data from all .tsv files in the output_folder\n",
    "genus_data_folder = os.path.join(output_folder, 'genus_data')\n",
    "for filename in os.listdir(genus_data_folder):\n",
    "    if filename.endswith(\".tsv\"):\n",
    "        file_data = pd.read_csv(os.path.join(genus_data_folder, filename), sep='\\t')\n",
    "        all_data = pd.concat([all_data, file_data])\n",
    "\n",
    "# Step 3: Rename the \"queried_taxaLabel\" column to \"species\"\n",
    "all_data.rename(columns={'organism_taxonomy_08genus': 'genus'}, inplace=True)\n",
    "\n",
    "# Remove 'API Error-API Error' and 'Not Classified-Not Classified'\n",
    "all_data = all_data[(all_data['chemical_superclass'] != 'API Error-API Error') & \n",
    "                    (all_data['chemical_superclass'] != 'Not Classified-Not Classified')]\n",
    "\n",
    "def split_chemical_superclass(row):\n",
    "    # Check if the value is a string before splitting\n",
    "    if isinstance(row['chemical_superclass'], str):\n",
    "        parts = row['chemical_superclass'].split('-')\n",
    "        if len(parts) == 2:\n",
    "            return parts[0], parts[1]  # Pathway and Superclass are present\n",
    "        else:\n",
    "            return parts[0], 'Unknown'  # Only Pathway is present, or the format is not as expected\n",
    "    else:\n",
    "        # Return default values if the entry is NaN or not a string\n",
    "        return 'Unknown', 'Unknown'\n",
    "\n",
    "# Apply the function to each row\n",
    "all_data[['Pathway', 'superclass']] = all_data.apply(lambda row: split_chemical_superclass(row), axis=1, result_type='expand')\n",
    "\n",
    "# Step 4: Process data for color mapping\n",
    "color_map = {}\n",
    "for pathway, superclasses in all_data.groupby('Pathway')['superclass'].unique().items():\n",
    "    shades = generate_shades(pathway, len(superclasses))\n",
    "    for superclass, shade in zip(superclasses, shades):\n",
    "        color_map[f\"{pathway}-{superclass}\"] = shade\n",
    "\n",
    "# Step 5: Group and aggregate data to calculate recurrence\n",
    "agg_data = all_data.groupby(['genus', 'chemical_superclass']).size().reset_index(name='recurrence')\n",
    "\n",
    "# Step 6: Create the stacked barplot with the custom color palette\n",
    "fig = px.bar(agg_data, y=agg_data['genus'].apply(lambda x: f\"<i>{x}</i>\"), x='recurrence',\n",
    "             title='Stacked Barplot of Predicted Superclasses Ocurrence for Genus',\n",
    "             labels={'recurrence': 'Recurrence'},\n",
    "             color='chemical_superclass',\n",
    "             color_discrete_map=color_map,\n",
    "             category_orders={'chemical_superclass': sorted(agg_data['chemical_superclass'].unique())},\n",
    "             orientation='h')\n",
    "\n",
    "# Modify the y-axis label\n",
    "fig.update_yaxes(title_text='<i>Genus<i>')\n",
    "\n",
    "# Set a white background\n",
    "fig.update_layout(plot_bgcolor='white')\n",
    "\n",
    "# Modify the size of the figure\n",
    "fig.update_layout(width=1500, height=1600)\n",
    "\n",
    "# Save the figure as an HTML file\n",
    "fig.write_html(f'{output_folder}Wikidata_superclass_barplot_genus.html')\n",
    "\n",
    "# Show the figure\n",
    "fig.show()\n"
   ]
  },
  {
   "cell_type": "markdown",
   "metadata": {},
   "source": [
    "Generate une plot by Genus and the Pathway"
   ]
  },
  {
   "cell_type": "code",
   "execution_count": 27,
   "metadata": {},
   "outputs": [
    {
     "name": "stderr",
     "output_type": "stream",
     "text": [
      "/tmp/ipykernel_1352/4133780139.py:20: FutureWarning:\n",
      "\n",
      "The behavior of DataFrame concatenation with empty or all-NA entries is deprecated. In a future version, this will no longer exclude empty or all-NA columns when determining the result dtypes. To retain the old behavior, exclude the relevant entries before the concat operation.\n",
      "\n",
      "/tmp/ipykernel_1352/4133780139.py:20: FutureWarning:\n",
      "\n",
      "The behavior of DataFrame concatenation with empty or all-NA entries is deprecated. In a future version, this will no longer exclude empty or all-NA columns when determining the result dtypes. To retain the old behavior, exclude the relevant entries before the concat operation.\n",
      "\n",
      "/tmp/ipykernel_1352/4133780139.py:20: FutureWarning:\n",
      "\n",
      "The behavior of DataFrame concatenation with empty or all-NA entries is deprecated. In a future version, this will no longer exclude empty or all-NA columns when determining the result dtypes. To retain the old behavior, exclude the relevant entries before the concat operation.\n",
      "\n",
      "/tmp/ipykernel_1352/4133780139.py:20: FutureWarning:\n",
      "\n",
      "The behavior of DataFrame concatenation with empty or all-NA entries is deprecated. In a future version, this will no longer exclude empty or all-NA columns when determining the result dtypes. To retain the old behavior, exclude the relevant entries before the concat operation.\n",
      "\n",
      "/tmp/ipykernel_1352/4133780139.py:20: FutureWarning:\n",
      "\n",
      "The behavior of DataFrame concatenation with empty or all-NA entries is deprecated. In a future version, this will no longer exclude empty or all-NA columns when determining the result dtypes. To retain the old behavior, exclude the relevant entries before the concat operation.\n",
      "\n",
      "/tmp/ipykernel_1352/4133780139.py:20: FutureWarning:\n",
      "\n",
      "The behavior of DataFrame concatenation with empty or all-NA entries is deprecated. In a future version, this will no longer exclude empty or all-NA columns when determining the result dtypes. To retain the old behavior, exclude the relevant entries before the concat operation.\n",
      "\n"
     ]
    },
    {
     "data": {
      "application/vnd.plotly.v1+json": {
       "config": {
        "plotlyServerURL": "https://plot.ly"
       },
       "data": [
        {
         "alignmentgroup": "True",
         "hovertemplate": "Pathway=Alkaloids<br>Recurrence=%{x}<br>y=%{y}<extra></extra>",
         "legendgroup": "Alkaloids",
         "marker": {
          "color": "#305F72",
          "pattern": {
           "shape": ""
          }
         },
         "name": "Alkaloids",
         "offsetgroup": "Alkaloids",
         "orientation": "h",
         "showlegend": true,
         "textposition": "auto",
         "type": "bar",
         "x": [
          3,
          3,
          2,
          19,
          22,
          11,
          122,
          2,
          19
         ],
         "xaxis": "x",
         "y": [
          "<i>Ampelocissus</i>",
          "<i>Atractylodes</i>",
          "<i>Erythrophleum</i>",
          "<i>Garcinia</i>",
          "<i>Gnetum</i>",
          "<i>Mangifera</i>",
          "<i>Melodinus</i>",
          "<i>Rheum</i>",
          "<i>Tinospora</i>"
         ],
         "yaxis": "y"
        },
        {
         "alignmentgroup": "True",
         "hovertemplate": "Pathway=Polyketides<br>Recurrence=%{x}<br>y=%{y}<extra></extra>",
         "legendgroup": "Polyketides",
         "marker": {
          "color": "#EF4B4B",
          "pattern": {
           "shape": ""
          }
         },
         "name": "Polyketides",
         "offsetgroup": "Polyketides",
         "orientation": "h",
         "showlegend": true,
         "textposition": "auto",
         "type": "bar",
         "x": [
          2,
          7,
          1,
          364,
          3,
          39,
          1,
          73,
          2,
          1
         ],
         "xaxis": "x",
         "y": [
          "<i>Ampelocissus</i>",
          "<i>Atractylodes</i>",
          "<i>Cyphostemma</i>",
          "<i>Garcinia</i>",
          "<i>Hopea</i>",
          "<i>Mangifera</i>",
          "<i>Melodinus</i>",
          "<i>Rheum</i>",
          "<i>Shorea</i>",
          "<i>Stauntonia</i>"
         ],
         "yaxis": "y"
        },
        {
         "alignmentgroup": "True",
         "hovertemplate": "Pathway=Shikimates and Phenylpropanoids<br>Recurrence=%{x}<br>y=%{y}<extra></extra>",
         "legendgroup": "Shikimates and Phenylpropanoids",
         "marker": {
          "color": "#80558C",
          "pattern": {
           "shape": ""
          }
         },
         "name": "Shikimates and Phenylpropanoids",
         "offsetgroup": "Shikimates and Phenylpropanoids",
         "orientation": "h",
         "showlegend": true,
         "textposition": "auto",
         "type": "bar",
         "x": [
          1,
          20,
          14,
          1,
          8,
          17,
          5,
          838,
          253,
          67,
          137,
          28,
          94,
          74,
          6,
          49
         ],
         "xaxis": "x",
         "y": [
          "<i>Ampelocissus</i>",
          "<i>Atractylodes</i>",
          "<i>Bischofia</i>",
          "<i>Calycopteris</i>",
          "<i>Ceiba</i>",
          "<i>Cyphostemma</i>",
          "<i>Erythrophleum</i>",
          "<i>Garcinia</i>",
          "<i>Gnetum</i>",
          "<i>Hopea</i>",
          "<i>Mangifera</i>",
          "<i>Pachyrhizus</i>",
          "<i>Rheum</i>",
          "<i>Shorea</i>",
          "<i>Stauntonia</i>",
          "<i>Tinospora</i>"
         ],
         "yaxis": "y"
        },
        {
         "alignmentgroup": "True",
         "hovertemplate": "Pathway=Amino acids and Peptides<br>Recurrence=%{x}<br>y=%{y}<extra></extra>",
         "legendgroup": "Amino acids and Peptides",
         "marker": {
          "color": "#F4E869",
          "pattern": {
           "shape": ""
          }
         },
         "name": "Amino acids and Peptides",
         "offsetgroup": "Amino acids and Peptides",
         "orientation": "h",
         "showlegend": true,
         "textposition": "auto",
         "type": "bar",
         "x": [
          4,
          6,
          23,
          2,
          1,
          1,
          7
         ],
         "xaxis": "x",
         "y": [
          "<i>Atractylodes</i>",
          "<i>Erythrophleum</i>",
          "<i>Garcinia</i>",
          "<i>Mangifera</i>",
          "<i>Melodinus</i>",
          "<i>Rheum</i>",
          "<i>Tinospora</i>"
         ],
         "yaxis": "y"
        },
        {
         "alignmentgroup": "True",
         "hovertemplate": "Pathway=Carbohydrates<br>Recurrence=%{x}<br>y=%{y}<extra></extra>",
         "legendgroup": "Carbohydrates",
         "marker": {
          "color": "#65451F",
          "pattern": {
           "shape": ""
          }
         },
         "name": "Carbohydrates",
         "offsetgroup": "Carbohydrates",
         "orientation": "h",
         "showlegend": true,
         "textposition": "auto",
         "type": "bar",
         "x": [
          5,
          1,
          1,
          7,
          1,
          4,
          2
         ],
         "xaxis": "x",
         "y": [
          "<i>Atractylodes</i>",
          "<i>Ceiba</i>",
          "<i>Erythrophleum</i>",
          "<i>Garcinia</i>",
          "<i>Gnetum</i>",
          "<i>Mangifera</i>",
          "<i>Pachyrhizus</i>"
         ],
         "yaxis": "y"
        },
        {
         "alignmentgroup": "True",
         "hovertemplate": "Pathway=Fatty acids<br>Recurrence=%{x}<br>y=%{y}<extra></extra>",
         "legendgroup": "Fatty acids",
         "marker": {
          "color": "#FF6C22",
          "pattern": {
           "shape": ""
          }
         },
         "name": "Fatty acids",
         "offsetgroup": "Fatty acids",
         "orientation": "h",
         "showlegend": true,
         "textposition": "auto",
         "type": "bar",
         "x": [
          25,
          1,
          2,
          53,
          11,
          2,
          228,
          4,
          3,
          3
         ],
         "xaxis": "x",
         "y": [
          "<i>Atractylodes</i>",
          "<i>Bischofia</i>",
          "<i>Ceiba</i>",
          "<i>Garcinia</i>",
          "<i>Gnetum</i>",
          "<i>Holoptelea</i>",
          "<i>Mangifera</i>",
          "<i>Rheum</i>",
          "<i>Shorea</i>",
          "<i>Tinospora</i>"
         ],
         "yaxis": "y"
        },
        {
         "alignmentgroup": "True",
         "hovertemplate": "Pathway=Terpenoids<br>Recurrence=%{x}<br>y=%{y}<extra></extra>",
         "legendgroup": "Terpenoids",
         "marker": {
          "color": "#618264",
          "pattern": {
           "shape": ""
          }
         },
         "name": "Terpenoids",
         "offsetgroup": "Terpenoids",
         "orientation": "h",
         "showlegend": true,
         "textposition": "auto",
         "type": "bar",
         "x": [
          116,
          3,
          7,
          6,
          96,
          211,
          6,
          7,
          319,
          2,
          7,
          9,
          42,
          102,
          141
         ],
         "xaxis": "x",
         "y": [
          "<i>Atractylodes</i>",
          "<i>Bischofia</i>",
          "<i>Ceiba</i>",
          "<i>Cyphostemma</i>",
          "<i>Erythrophleum</i>",
          "<i>Garcinia</i>",
          "<i>Gnetum</i>",
          "<i>Holoptelea</i>",
          "<i>Mangifera</i>",
          "<i>Melodinus</i>",
          "<i>Platycerium</i>",
          "<i>Rheum</i>",
          "<i>Shorea</i>",
          "<i>Stauntonia</i>",
          "<i>Tinospora</i>"
         ],
         "yaxis": "y"
        }
       ],
       "layout": {
        "barmode": "relative",
        "height": 1400,
        "legend": {
         "title": {
          "text": "Pathway"
         },
         "tracegroupgap": 0
        },
        "plot_bgcolor": "white",
        "template": {
         "data": {
          "bar": [
           {
            "error_x": {
             "color": "#2a3f5f"
            },
            "error_y": {
             "color": "#2a3f5f"
            },
            "marker": {
             "line": {
              "color": "#E5ECF6",
              "width": 0.5
             },
             "pattern": {
              "fillmode": "overlay",
              "size": 10,
              "solidity": 0.2
             }
            },
            "type": "bar"
           }
          ],
          "barpolar": [
           {
            "marker": {
             "line": {
              "color": "#E5ECF6",
              "width": 0.5
             },
             "pattern": {
              "fillmode": "overlay",
              "size": 10,
              "solidity": 0.2
             }
            },
            "type": "barpolar"
           }
          ],
          "carpet": [
           {
            "aaxis": {
             "endlinecolor": "#2a3f5f",
             "gridcolor": "white",
             "linecolor": "white",
             "minorgridcolor": "white",
             "startlinecolor": "#2a3f5f"
            },
            "baxis": {
             "endlinecolor": "#2a3f5f",
             "gridcolor": "white",
             "linecolor": "white",
             "minorgridcolor": "white",
             "startlinecolor": "#2a3f5f"
            },
            "type": "carpet"
           }
          ],
          "choropleth": [
           {
            "colorbar": {
             "outlinewidth": 0,
             "ticks": ""
            },
            "type": "choropleth"
           }
          ],
          "contour": [
           {
            "colorbar": {
             "outlinewidth": 0,
             "ticks": ""
            },
            "colorscale": [
             [
              0,
              "#0d0887"
             ],
             [
              0.1111111111111111,
              "#46039f"
             ],
             [
              0.2222222222222222,
              "#7201a8"
             ],
             [
              0.3333333333333333,
              "#9c179e"
             ],
             [
              0.4444444444444444,
              "#bd3786"
             ],
             [
              0.5555555555555556,
              "#d8576b"
             ],
             [
              0.6666666666666666,
              "#ed7953"
             ],
             [
              0.7777777777777778,
              "#fb9f3a"
             ],
             [
              0.8888888888888888,
              "#fdca26"
             ],
             [
              1,
              "#f0f921"
             ]
            ],
            "type": "contour"
           }
          ],
          "contourcarpet": [
           {
            "colorbar": {
             "outlinewidth": 0,
             "ticks": ""
            },
            "type": "contourcarpet"
           }
          ],
          "heatmap": [
           {
            "colorbar": {
             "outlinewidth": 0,
             "ticks": ""
            },
            "colorscale": [
             [
              0,
              "#0d0887"
             ],
             [
              0.1111111111111111,
              "#46039f"
             ],
             [
              0.2222222222222222,
              "#7201a8"
             ],
             [
              0.3333333333333333,
              "#9c179e"
             ],
             [
              0.4444444444444444,
              "#bd3786"
             ],
             [
              0.5555555555555556,
              "#d8576b"
             ],
             [
              0.6666666666666666,
              "#ed7953"
             ],
             [
              0.7777777777777778,
              "#fb9f3a"
             ],
             [
              0.8888888888888888,
              "#fdca26"
             ],
             [
              1,
              "#f0f921"
             ]
            ],
            "type": "heatmap"
           }
          ],
          "heatmapgl": [
           {
            "colorbar": {
             "outlinewidth": 0,
             "ticks": ""
            },
            "colorscale": [
             [
              0,
              "#0d0887"
             ],
             [
              0.1111111111111111,
              "#46039f"
             ],
             [
              0.2222222222222222,
              "#7201a8"
             ],
             [
              0.3333333333333333,
              "#9c179e"
             ],
             [
              0.4444444444444444,
              "#bd3786"
             ],
             [
              0.5555555555555556,
              "#d8576b"
             ],
             [
              0.6666666666666666,
              "#ed7953"
             ],
             [
              0.7777777777777778,
              "#fb9f3a"
             ],
             [
              0.8888888888888888,
              "#fdca26"
             ],
             [
              1,
              "#f0f921"
             ]
            ],
            "type": "heatmapgl"
           }
          ],
          "histogram": [
           {
            "marker": {
             "pattern": {
              "fillmode": "overlay",
              "size": 10,
              "solidity": 0.2
             }
            },
            "type": "histogram"
           }
          ],
          "histogram2d": [
           {
            "colorbar": {
             "outlinewidth": 0,
             "ticks": ""
            },
            "colorscale": [
             [
              0,
              "#0d0887"
             ],
             [
              0.1111111111111111,
              "#46039f"
             ],
             [
              0.2222222222222222,
              "#7201a8"
             ],
             [
              0.3333333333333333,
              "#9c179e"
             ],
             [
              0.4444444444444444,
              "#bd3786"
             ],
             [
              0.5555555555555556,
              "#d8576b"
             ],
             [
              0.6666666666666666,
              "#ed7953"
             ],
             [
              0.7777777777777778,
              "#fb9f3a"
             ],
             [
              0.8888888888888888,
              "#fdca26"
             ],
             [
              1,
              "#f0f921"
             ]
            ],
            "type": "histogram2d"
           }
          ],
          "histogram2dcontour": [
           {
            "colorbar": {
             "outlinewidth": 0,
             "ticks": ""
            },
            "colorscale": [
             [
              0,
              "#0d0887"
             ],
             [
              0.1111111111111111,
              "#46039f"
             ],
             [
              0.2222222222222222,
              "#7201a8"
             ],
             [
              0.3333333333333333,
              "#9c179e"
             ],
             [
              0.4444444444444444,
              "#bd3786"
             ],
             [
              0.5555555555555556,
              "#d8576b"
             ],
             [
              0.6666666666666666,
              "#ed7953"
             ],
             [
              0.7777777777777778,
              "#fb9f3a"
             ],
             [
              0.8888888888888888,
              "#fdca26"
             ],
             [
              1,
              "#f0f921"
             ]
            ],
            "type": "histogram2dcontour"
           }
          ],
          "mesh3d": [
           {
            "colorbar": {
             "outlinewidth": 0,
             "ticks": ""
            },
            "type": "mesh3d"
           }
          ],
          "parcoords": [
           {
            "line": {
             "colorbar": {
              "outlinewidth": 0,
              "ticks": ""
             }
            },
            "type": "parcoords"
           }
          ],
          "pie": [
           {
            "automargin": true,
            "type": "pie"
           }
          ],
          "scatter": [
           {
            "fillpattern": {
             "fillmode": "overlay",
             "size": 10,
             "solidity": 0.2
            },
            "type": "scatter"
           }
          ],
          "scatter3d": [
           {
            "line": {
             "colorbar": {
              "outlinewidth": 0,
              "ticks": ""
             }
            },
            "marker": {
             "colorbar": {
              "outlinewidth": 0,
              "ticks": ""
             }
            },
            "type": "scatter3d"
           }
          ],
          "scattercarpet": [
           {
            "marker": {
             "colorbar": {
              "outlinewidth": 0,
              "ticks": ""
             }
            },
            "type": "scattercarpet"
           }
          ],
          "scattergeo": [
           {
            "marker": {
             "colorbar": {
              "outlinewidth": 0,
              "ticks": ""
             }
            },
            "type": "scattergeo"
           }
          ],
          "scattergl": [
           {
            "marker": {
             "colorbar": {
              "outlinewidth": 0,
              "ticks": ""
             }
            },
            "type": "scattergl"
           }
          ],
          "scattermapbox": [
           {
            "marker": {
             "colorbar": {
              "outlinewidth": 0,
              "ticks": ""
             }
            },
            "type": "scattermapbox"
           }
          ],
          "scatterpolar": [
           {
            "marker": {
             "colorbar": {
              "outlinewidth": 0,
              "ticks": ""
             }
            },
            "type": "scatterpolar"
           }
          ],
          "scatterpolargl": [
           {
            "marker": {
             "colorbar": {
              "outlinewidth": 0,
              "ticks": ""
             }
            },
            "type": "scatterpolargl"
           }
          ],
          "scatterternary": [
           {
            "marker": {
             "colorbar": {
              "outlinewidth": 0,
              "ticks": ""
             }
            },
            "type": "scatterternary"
           }
          ],
          "surface": [
           {
            "colorbar": {
             "outlinewidth": 0,
             "ticks": ""
            },
            "colorscale": [
             [
              0,
              "#0d0887"
             ],
             [
              0.1111111111111111,
              "#46039f"
             ],
             [
              0.2222222222222222,
              "#7201a8"
             ],
             [
              0.3333333333333333,
              "#9c179e"
             ],
             [
              0.4444444444444444,
              "#bd3786"
             ],
             [
              0.5555555555555556,
              "#d8576b"
             ],
             [
              0.6666666666666666,
              "#ed7953"
             ],
             [
              0.7777777777777778,
              "#fb9f3a"
             ],
             [
              0.8888888888888888,
              "#fdca26"
             ],
             [
              1,
              "#f0f921"
             ]
            ],
            "type": "surface"
           }
          ],
          "table": [
           {
            "cells": {
             "fill": {
              "color": "#EBF0F8"
             },
             "line": {
              "color": "white"
             }
            },
            "header": {
             "fill": {
              "color": "#C8D4E3"
             },
             "line": {
              "color": "white"
             }
            },
            "type": "table"
           }
          ]
         },
         "layout": {
          "annotationdefaults": {
           "arrowcolor": "#2a3f5f",
           "arrowhead": 0,
           "arrowwidth": 1
          },
          "autotypenumbers": "strict",
          "coloraxis": {
           "colorbar": {
            "outlinewidth": 0,
            "ticks": ""
           }
          },
          "colorscale": {
           "diverging": [
            [
             0,
             "#8e0152"
            ],
            [
             0.1,
             "#c51b7d"
            ],
            [
             0.2,
             "#de77ae"
            ],
            [
             0.3,
             "#f1b6da"
            ],
            [
             0.4,
             "#fde0ef"
            ],
            [
             0.5,
             "#f7f7f7"
            ],
            [
             0.6,
             "#e6f5d0"
            ],
            [
             0.7,
             "#b8e186"
            ],
            [
             0.8,
             "#7fbc41"
            ],
            [
             0.9,
             "#4d9221"
            ],
            [
             1,
             "#276419"
            ]
           ],
           "sequential": [
            [
             0,
             "#0d0887"
            ],
            [
             0.1111111111111111,
             "#46039f"
            ],
            [
             0.2222222222222222,
             "#7201a8"
            ],
            [
             0.3333333333333333,
             "#9c179e"
            ],
            [
             0.4444444444444444,
             "#bd3786"
            ],
            [
             0.5555555555555556,
             "#d8576b"
            ],
            [
             0.6666666666666666,
             "#ed7953"
            ],
            [
             0.7777777777777778,
             "#fb9f3a"
            ],
            [
             0.8888888888888888,
             "#fdca26"
            ],
            [
             1,
             "#f0f921"
            ]
           ],
           "sequentialminus": [
            [
             0,
             "#0d0887"
            ],
            [
             0.1111111111111111,
             "#46039f"
            ],
            [
             0.2222222222222222,
             "#7201a8"
            ],
            [
             0.3333333333333333,
             "#9c179e"
            ],
            [
             0.4444444444444444,
             "#bd3786"
            ],
            [
             0.5555555555555556,
             "#d8576b"
            ],
            [
             0.6666666666666666,
             "#ed7953"
            ],
            [
             0.7777777777777778,
             "#fb9f3a"
            ],
            [
             0.8888888888888888,
             "#fdca26"
            ],
            [
             1,
             "#f0f921"
            ]
           ]
          },
          "colorway": [
           "#636efa",
           "#EF553B",
           "#00cc96",
           "#ab63fa",
           "#FFA15A",
           "#19d3f3",
           "#FF6692",
           "#B6E880",
           "#FF97FF",
           "#FECB52"
          ],
          "font": {
           "color": "#2a3f5f"
          },
          "geo": {
           "bgcolor": "white",
           "lakecolor": "white",
           "landcolor": "#E5ECF6",
           "showlakes": true,
           "showland": true,
           "subunitcolor": "white"
          },
          "hoverlabel": {
           "align": "left"
          },
          "hovermode": "closest",
          "mapbox": {
           "style": "light"
          },
          "paper_bgcolor": "white",
          "plot_bgcolor": "#E5ECF6",
          "polar": {
           "angularaxis": {
            "gridcolor": "white",
            "linecolor": "white",
            "ticks": ""
           },
           "bgcolor": "#E5ECF6",
           "radialaxis": {
            "gridcolor": "white",
            "linecolor": "white",
            "ticks": ""
           }
          },
          "scene": {
           "xaxis": {
            "backgroundcolor": "#E5ECF6",
            "gridcolor": "white",
            "gridwidth": 2,
            "linecolor": "white",
            "showbackground": true,
            "ticks": "",
            "zerolinecolor": "white"
           },
           "yaxis": {
            "backgroundcolor": "#E5ECF6",
            "gridcolor": "white",
            "gridwidth": 2,
            "linecolor": "white",
            "showbackground": true,
            "ticks": "",
            "zerolinecolor": "white"
           },
           "zaxis": {
            "backgroundcolor": "#E5ECF6",
            "gridcolor": "white",
            "gridwidth": 2,
            "linecolor": "white",
            "showbackground": true,
            "ticks": "",
            "zerolinecolor": "white"
           }
          },
          "shapedefaults": {
           "line": {
            "color": "#2a3f5f"
           }
          },
          "ternary": {
           "aaxis": {
            "gridcolor": "white",
            "linecolor": "white",
            "ticks": ""
           },
           "baxis": {
            "gridcolor": "white",
            "linecolor": "white",
            "ticks": ""
           },
           "bgcolor": "#E5ECF6",
           "caxis": {
            "gridcolor": "white",
            "linecolor": "white",
            "ticks": ""
           }
          },
          "title": {
           "x": 0.05
          },
          "xaxis": {
           "automargin": true,
           "gridcolor": "white",
           "linecolor": "white",
           "ticks": "",
           "title": {
            "standoff": 15
           },
           "zerolinecolor": "white",
           "zerolinewidth": 2
          },
          "yaxis": {
           "automargin": true,
           "gridcolor": "white",
           "linecolor": "white",
           "ticks": "",
           "title": {
            "standoff": 15
           },
           "zerolinecolor": "white",
           "zerolinewidth": 2
          }
         }
        },
        "title": {
         "text": "Stacked Barplot of Predicted Pathways Ocurrence for Genus"
        },
        "width": 1200,
        "xaxis": {
         "anchor": "y",
         "domain": [
          0,
          1
         ],
         "title": {
          "text": "Recurrence"
         }
        },
        "yaxis": {
         "anchor": "x",
         "domain": [
          0,
          1
         ],
         "title": {
          "text": "Genus"
         }
        }
       }
      },
      "text/html": [
       "<div>                            <div id=\"73f72595-5890-461e-8cd9-2e228e50365a\" class=\"plotly-graph-div\" style=\"height:1400px; width:1200px;\"></div>            <script type=\"text/javascript\">                require([\"plotly\"], function(Plotly) {                    window.PLOTLYENV=window.PLOTLYENV || {};                                    if (document.getElementById(\"73f72595-5890-461e-8cd9-2e228e50365a\")) {                    Plotly.newPlot(                        \"73f72595-5890-461e-8cd9-2e228e50365a\",                        [{\"alignmentgroup\":\"True\",\"hovertemplate\":\"Pathway=Alkaloids\\u003cbr\\u003eRecurrence=%{x}\\u003cbr\\u003ey=%{y}\\u003cextra\\u003e\\u003c\\u002fextra\\u003e\",\"legendgroup\":\"Alkaloids\",\"marker\":{\"color\":\"#305F72\",\"pattern\":{\"shape\":\"\"}},\"name\":\"Alkaloids\",\"offsetgroup\":\"Alkaloids\",\"orientation\":\"h\",\"showlegend\":true,\"textposition\":\"auto\",\"x\":[3,3,2,19,22,11,122,2,19],\"xaxis\":\"x\",\"y\":[\"\\u003ci\\u003eAmpelocissus\\u003c\\u002fi\\u003e\",\"\\u003ci\\u003eAtractylodes\\u003c\\u002fi\\u003e\",\"\\u003ci\\u003eErythrophleum\\u003c\\u002fi\\u003e\",\"\\u003ci\\u003eGarcinia\\u003c\\u002fi\\u003e\",\"\\u003ci\\u003eGnetum\\u003c\\u002fi\\u003e\",\"\\u003ci\\u003eMangifera\\u003c\\u002fi\\u003e\",\"\\u003ci\\u003eMelodinus\\u003c\\u002fi\\u003e\",\"\\u003ci\\u003eRheum\\u003c\\u002fi\\u003e\",\"\\u003ci\\u003eTinospora\\u003c\\u002fi\\u003e\"],\"yaxis\":\"y\",\"type\":\"bar\"},{\"alignmentgroup\":\"True\",\"hovertemplate\":\"Pathway=Polyketides\\u003cbr\\u003eRecurrence=%{x}\\u003cbr\\u003ey=%{y}\\u003cextra\\u003e\\u003c\\u002fextra\\u003e\",\"legendgroup\":\"Polyketides\",\"marker\":{\"color\":\"#EF4B4B\",\"pattern\":{\"shape\":\"\"}},\"name\":\"Polyketides\",\"offsetgroup\":\"Polyketides\",\"orientation\":\"h\",\"showlegend\":true,\"textposition\":\"auto\",\"x\":[2,7,1,364,3,39,1,73,2,1],\"xaxis\":\"x\",\"y\":[\"\\u003ci\\u003eAmpelocissus\\u003c\\u002fi\\u003e\",\"\\u003ci\\u003eAtractylodes\\u003c\\u002fi\\u003e\",\"\\u003ci\\u003eCyphostemma\\u003c\\u002fi\\u003e\",\"\\u003ci\\u003eGarcinia\\u003c\\u002fi\\u003e\",\"\\u003ci\\u003eHopea\\u003c\\u002fi\\u003e\",\"\\u003ci\\u003eMangifera\\u003c\\u002fi\\u003e\",\"\\u003ci\\u003eMelodinus\\u003c\\u002fi\\u003e\",\"\\u003ci\\u003eRheum\\u003c\\u002fi\\u003e\",\"\\u003ci\\u003eShorea\\u003c\\u002fi\\u003e\",\"\\u003ci\\u003eStauntonia\\u003c\\u002fi\\u003e\"],\"yaxis\":\"y\",\"type\":\"bar\"},{\"alignmentgroup\":\"True\",\"hovertemplate\":\"Pathway=Shikimates and Phenylpropanoids\\u003cbr\\u003eRecurrence=%{x}\\u003cbr\\u003ey=%{y}\\u003cextra\\u003e\\u003c\\u002fextra\\u003e\",\"legendgroup\":\"Shikimates and Phenylpropanoids\",\"marker\":{\"color\":\"#80558C\",\"pattern\":{\"shape\":\"\"}},\"name\":\"Shikimates and Phenylpropanoids\",\"offsetgroup\":\"Shikimates and Phenylpropanoids\",\"orientation\":\"h\",\"showlegend\":true,\"textposition\":\"auto\",\"x\":[1,20,14,1,8,17,5,838,253,67,137,28,94,74,6,49],\"xaxis\":\"x\",\"y\":[\"\\u003ci\\u003eAmpelocissus\\u003c\\u002fi\\u003e\",\"\\u003ci\\u003eAtractylodes\\u003c\\u002fi\\u003e\",\"\\u003ci\\u003eBischofia\\u003c\\u002fi\\u003e\",\"\\u003ci\\u003eCalycopteris\\u003c\\u002fi\\u003e\",\"\\u003ci\\u003eCeiba\\u003c\\u002fi\\u003e\",\"\\u003ci\\u003eCyphostemma\\u003c\\u002fi\\u003e\",\"\\u003ci\\u003eErythrophleum\\u003c\\u002fi\\u003e\",\"\\u003ci\\u003eGarcinia\\u003c\\u002fi\\u003e\",\"\\u003ci\\u003eGnetum\\u003c\\u002fi\\u003e\",\"\\u003ci\\u003eHopea\\u003c\\u002fi\\u003e\",\"\\u003ci\\u003eMangifera\\u003c\\u002fi\\u003e\",\"\\u003ci\\u003ePachyrhizus\\u003c\\u002fi\\u003e\",\"\\u003ci\\u003eRheum\\u003c\\u002fi\\u003e\",\"\\u003ci\\u003eShorea\\u003c\\u002fi\\u003e\",\"\\u003ci\\u003eStauntonia\\u003c\\u002fi\\u003e\",\"\\u003ci\\u003eTinospora\\u003c\\u002fi\\u003e\"],\"yaxis\":\"y\",\"type\":\"bar\"},{\"alignmentgroup\":\"True\",\"hovertemplate\":\"Pathway=Amino acids and Peptides\\u003cbr\\u003eRecurrence=%{x}\\u003cbr\\u003ey=%{y}\\u003cextra\\u003e\\u003c\\u002fextra\\u003e\",\"legendgroup\":\"Amino acids and Peptides\",\"marker\":{\"color\":\"#F4E869\",\"pattern\":{\"shape\":\"\"}},\"name\":\"Amino acids and Peptides\",\"offsetgroup\":\"Amino acids and Peptides\",\"orientation\":\"h\",\"showlegend\":true,\"textposition\":\"auto\",\"x\":[4,6,23,2,1,1,7],\"xaxis\":\"x\",\"y\":[\"\\u003ci\\u003eAtractylodes\\u003c\\u002fi\\u003e\",\"\\u003ci\\u003eErythrophleum\\u003c\\u002fi\\u003e\",\"\\u003ci\\u003eGarcinia\\u003c\\u002fi\\u003e\",\"\\u003ci\\u003eMangifera\\u003c\\u002fi\\u003e\",\"\\u003ci\\u003eMelodinus\\u003c\\u002fi\\u003e\",\"\\u003ci\\u003eRheum\\u003c\\u002fi\\u003e\",\"\\u003ci\\u003eTinospora\\u003c\\u002fi\\u003e\"],\"yaxis\":\"y\",\"type\":\"bar\"},{\"alignmentgroup\":\"True\",\"hovertemplate\":\"Pathway=Carbohydrates\\u003cbr\\u003eRecurrence=%{x}\\u003cbr\\u003ey=%{y}\\u003cextra\\u003e\\u003c\\u002fextra\\u003e\",\"legendgroup\":\"Carbohydrates\",\"marker\":{\"color\":\"#65451F\",\"pattern\":{\"shape\":\"\"}},\"name\":\"Carbohydrates\",\"offsetgroup\":\"Carbohydrates\",\"orientation\":\"h\",\"showlegend\":true,\"textposition\":\"auto\",\"x\":[5,1,1,7,1,4,2],\"xaxis\":\"x\",\"y\":[\"\\u003ci\\u003eAtractylodes\\u003c\\u002fi\\u003e\",\"\\u003ci\\u003eCeiba\\u003c\\u002fi\\u003e\",\"\\u003ci\\u003eErythrophleum\\u003c\\u002fi\\u003e\",\"\\u003ci\\u003eGarcinia\\u003c\\u002fi\\u003e\",\"\\u003ci\\u003eGnetum\\u003c\\u002fi\\u003e\",\"\\u003ci\\u003eMangifera\\u003c\\u002fi\\u003e\",\"\\u003ci\\u003ePachyrhizus\\u003c\\u002fi\\u003e\"],\"yaxis\":\"y\",\"type\":\"bar\"},{\"alignmentgroup\":\"True\",\"hovertemplate\":\"Pathway=Fatty acids\\u003cbr\\u003eRecurrence=%{x}\\u003cbr\\u003ey=%{y}\\u003cextra\\u003e\\u003c\\u002fextra\\u003e\",\"legendgroup\":\"Fatty acids\",\"marker\":{\"color\":\"#FF6C22\",\"pattern\":{\"shape\":\"\"}},\"name\":\"Fatty acids\",\"offsetgroup\":\"Fatty acids\",\"orientation\":\"h\",\"showlegend\":true,\"textposition\":\"auto\",\"x\":[25,1,2,53,11,2,228,4,3,3],\"xaxis\":\"x\",\"y\":[\"\\u003ci\\u003eAtractylodes\\u003c\\u002fi\\u003e\",\"\\u003ci\\u003eBischofia\\u003c\\u002fi\\u003e\",\"\\u003ci\\u003eCeiba\\u003c\\u002fi\\u003e\",\"\\u003ci\\u003eGarcinia\\u003c\\u002fi\\u003e\",\"\\u003ci\\u003eGnetum\\u003c\\u002fi\\u003e\",\"\\u003ci\\u003eHoloptelea\\u003c\\u002fi\\u003e\",\"\\u003ci\\u003eMangifera\\u003c\\u002fi\\u003e\",\"\\u003ci\\u003eRheum\\u003c\\u002fi\\u003e\",\"\\u003ci\\u003eShorea\\u003c\\u002fi\\u003e\",\"\\u003ci\\u003eTinospora\\u003c\\u002fi\\u003e\"],\"yaxis\":\"y\",\"type\":\"bar\"},{\"alignmentgroup\":\"True\",\"hovertemplate\":\"Pathway=Terpenoids\\u003cbr\\u003eRecurrence=%{x}\\u003cbr\\u003ey=%{y}\\u003cextra\\u003e\\u003c\\u002fextra\\u003e\",\"legendgroup\":\"Terpenoids\",\"marker\":{\"color\":\"#618264\",\"pattern\":{\"shape\":\"\"}},\"name\":\"Terpenoids\",\"offsetgroup\":\"Terpenoids\",\"orientation\":\"h\",\"showlegend\":true,\"textposition\":\"auto\",\"x\":[116,3,7,6,96,211,6,7,319,2,7,9,42,102,141],\"xaxis\":\"x\",\"y\":[\"\\u003ci\\u003eAtractylodes\\u003c\\u002fi\\u003e\",\"\\u003ci\\u003eBischofia\\u003c\\u002fi\\u003e\",\"\\u003ci\\u003eCeiba\\u003c\\u002fi\\u003e\",\"\\u003ci\\u003eCyphostemma\\u003c\\u002fi\\u003e\",\"\\u003ci\\u003eErythrophleum\\u003c\\u002fi\\u003e\",\"\\u003ci\\u003eGarcinia\\u003c\\u002fi\\u003e\",\"\\u003ci\\u003eGnetum\\u003c\\u002fi\\u003e\",\"\\u003ci\\u003eHoloptelea\\u003c\\u002fi\\u003e\",\"\\u003ci\\u003eMangifera\\u003c\\u002fi\\u003e\",\"\\u003ci\\u003eMelodinus\\u003c\\u002fi\\u003e\",\"\\u003ci\\u003ePlatycerium\\u003c\\u002fi\\u003e\",\"\\u003ci\\u003eRheum\\u003c\\u002fi\\u003e\",\"\\u003ci\\u003eShorea\\u003c\\u002fi\\u003e\",\"\\u003ci\\u003eStauntonia\\u003c\\u002fi\\u003e\",\"\\u003ci\\u003eTinospora\\u003c\\u002fi\\u003e\"],\"yaxis\":\"y\",\"type\":\"bar\"}],                        {\"template\":{\"data\":{\"histogram2dcontour\":[{\"type\":\"histogram2dcontour\",\"colorbar\":{\"outlinewidth\":0,\"ticks\":\"\"},\"colorscale\":[[0.0,\"#0d0887\"],[0.1111111111111111,\"#46039f\"],[0.2222222222222222,\"#7201a8\"],[0.3333333333333333,\"#9c179e\"],[0.4444444444444444,\"#bd3786\"],[0.5555555555555556,\"#d8576b\"],[0.6666666666666666,\"#ed7953\"],[0.7777777777777778,\"#fb9f3a\"],[0.8888888888888888,\"#fdca26\"],[1.0,\"#f0f921\"]]}],\"choropleth\":[{\"type\":\"choropleth\",\"colorbar\":{\"outlinewidth\":0,\"ticks\":\"\"}}],\"histogram2d\":[{\"type\":\"histogram2d\",\"colorbar\":{\"outlinewidth\":0,\"ticks\":\"\"},\"colorscale\":[[0.0,\"#0d0887\"],[0.1111111111111111,\"#46039f\"],[0.2222222222222222,\"#7201a8\"],[0.3333333333333333,\"#9c179e\"],[0.4444444444444444,\"#bd3786\"],[0.5555555555555556,\"#d8576b\"],[0.6666666666666666,\"#ed7953\"],[0.7777777777777778,\"#fb9f3a\"],[0.8888888888888888,\"#fdca26\"],[1.0,\"#f0f921\"]]}],\"heatmap\":[{\"type\":\"heatmap\",\"colorbar\":{\"outlinewidth\":0,\"ticks\":\"\"},\"colorscale\":[[0.0,\"#0d0887\"],[0.1111111111111111,\"#46039f\"],[0.2222222222222222,\"#7201a8\"],[0.3333333333333333,\"#9c179e\"],[0.4444444444444444,\"#bd3786\"],[0.5555555555555556,\"#d8576b\"],[0.6666666666666666,\"#ed7953\"],[0.7777777777777778,\"#fb9f3a\"],[0.8888888888888888,\"#fdca26\"],[1.0,\"#f0f921\"]]}],\"heatmapgl\":[{\"type\":\"heatmapgl\",\"colorbar\":{\"outlinewidth\":0,\"ticks\":\"\"},\"colorscale\":[[0.0,\"#0d0887\"],[0.1111111111111111,\"#46039f\"],[0.2222222222222222,\"#7201a8\"],[0.3333333333333333,\"#9c179e\"],[0.4444444444444444,\"#bd3786\"],[0.5555555555555556,\"#d8576b\"],[0.6666666666666666,\"#ed7953\"],[0.7777777777777778,\"#fb9f3a\"],[0.8888888888888888,\"#fdca26\"],[1.0,\"#f0f921\"]]}],\"contourcarpet\":[{\"type\":\"contourcarpet\",\"colorbar\":{\"outlinewidth\":0,\"ticks\":\"\"}}],\"contour\":[{\"type\":\"contour\",\"colorbar\":{\"outlinewidth\":0,\"ticks\":\"\"},\"colorscale\":[[0.0,\"#0d0887\"],[0.1111111111111111,\"#46039f\"],[0.2222222222222222,\"#7201a8\"],[0.3333333333333333,\"#9c179e\"],[0.4444444444444444,\"#bd3786\"],[0.5555555555555556,\"#d8576b\"],[0.6666666666666666,\"#ed7953\"],[0.7777777777777778,\"#fb9f3a\"],[0.8888888888888888,\"#fdca26\"],[1.0,\"#f0f921\"]]}],\"surface\":[{\"type\":\"surface\",\"colorbar\":{\"outlinewidth\":0,\"ticks\":\"\"},\"colorscale\":[[0.0,\"#0d0887\"],[0.1111111111111111,\"#46039f\"],[0.2222222222222222,\"#7201a8\"],[0.3333333333333333,\"#9c179e\"],[0.4444444444444444,\"#bd3786\"],[0.5555555555555556,\"#d8576b\"],[0.6666666666666666,\"#ed7953\"],[0.7777777777777778,\"#fb9f3a\"],[0.8888888888888888,\"#fdca26\"],[1.0,\"#f0f921\"]]}],\"mesh3d\":[{\"type\":\"mesh3d\",\"colorbar\":{\"outlinewidth\":0,\"ticks\":\"\"}}],\"scatter\":[{\"fillpattern\":{\"fillmode\":\"overlay\",\"size\":10,\"solidity\":0.2},\"type\":\"scatter\"}],\"parcoords\":[{\"type\":\"parcoords\",\"line\":{\"colorbar\":{\"outlinewidth\":0,\"ticks\":\"\"}}}],\"scatterpolargl\":[{\"type\":\"scatterpolargl\",\"marker\":{\"colorbar\":{\"outlinewidth\":0,\"ticks\":\"\"}}}],\"bar\":[{\"error_x\":{\"color\":\"#2a3f5f\"},\"error_y\":{\"color\":\"#2a3f5f\"},\"marker\":{\"line\":{\"color\":\"#E5ECF6\",\"width\":0.5},\"pattern\":{\"fillmode\":\"overlay\",\"size\":10,\"solidity\":0.2}},\"type\":\"bar\"}],\"scattergeo\":[{\"type\":\"scattergeo\",\"marker\":{\"colorbar\":{\"outlinewidth\":0,\"ticks\":\"\"}}}],\"scatterpolar\":[{\"type\":\"scatterpolar\",\"marker\":{\"colorbar\":{\"outlinewidth\":0,\"ticks\":\"\"}}}],\"histogram\":[{\"marker\":{\"pattern\":{\"fillmode\":\"overlay\",\"size\":10,\"solidity\":0.2}},\"type\":\"histogram\"}],\"scattergl\":[{\"type\":\"scattergl\",\"marker\":{\"colorbar\":{\"outlinewidth\":0,\"ticks\":\"\"}}}],\"scatter3d\":[{\"type\":\"scatter3d\",\"line\":{\"colorbar\":{\"outlinewidth\":0,\"ticks\":\"\"}},\"marker\":{\"colorbar\":{\"outlinewidth\":0,\"ticks\":\"\"}}}],\"scattermapbox\":[{\"type\":\"scattermapbox\",\"marker\":{\"colorbar\":{\"outlinewidth\":0,\"ticks\":\"\"}}}],\"scatterternary\":[{\"type\":\"scatterternary\",\"marker\":{\"colorbar\":{\"outlinewidth\":0,\"ticks\":\"\"}}}],\"scattercarpet\":[{\"type\":\"scattercarpet\",\"marker\":{\"colorbar\":{\"outlinewidth\":0,\"ticks\":\"\"}}}],\"carpet\":[{\"aaxis\":{\"endlinecolor\":\"#2a3f5f\",\"gridcolor\":\"white\",\"linecolor\":\"white\",\"minorgridcolor\":\"white\",\"startlinecolor\":\"#2a3f5f\"},\"baxis\":{\"endlinecolor\":\"#2a3f5f\",\"gridcolor\":\"white\",\"linecolor\":\"white\",\"minorgridcolor\":\"white\",\"startlinecolor\":\"#2a3f5f\"},\"type\":\"carpet\"}],\"table\":[{\"cells\":{\"fill\":{\"color\":\"#EBF0F8\"},\"line\":{\"color\":\"white\"}},\"header\":{\"fill\":{\"color\":\"#C8D4E3\"},\"line\":{\"color\":\"white\"}},\"type\":\"table\"}],\"barpolar\":[{\"marker\":{\"line\":{\"color\":\"#E5ECF6\",\"width\":0.5},\"pattern\":{\"fillmode\":\"overlay\",\"size\":10,\"solidity\":0.2}},\"type\":\"barpolar\"}],\"pie\":[{\"automargin\":true,\"type\":\"pie\"}]},\"layout\":{\"autotypenumbers\":\"strict\",\"colorway\":[\"#636efa\",\"#EF553B\",\"#00cc96\",\"#ab63fa\",\"#FFA15A\",\"#19d3f3\",\"#FF6692\",\"#B6E880\",\"#FF97FF\",\"#FECB52\"],\"font\":{\"color\":\"#2a3f5f\"},\"hovermode\":\"closest\",\"hoverlabel\":{\"align\":\"left\"},\"paper_bgcolor\":\"white\",\"plot_bgcolor\":\"#E5ECF6\",\"polar\":{\"bgcolor\":\"#E5ECF6\",\"angularaxis\":{\"gridcolor\":\"white\",\"linecolor\":\"white\",\"ticks\":\"\"},\"radialaxis\":{\"gridcolor\":\"white\",\"linecolor\":\"white\",\"ticks\":\"\"}},\"ternary\":{\"bgcolor\":\"#E5ECF6\",\"aaxis\":{\"gridcolor\":\"white\",\"linecolor\":\"white\",\"ticks\":\"\"},\"baxis\":{\"gridcolor\":\"white\",\"linecolor\":\"white\",\"ticks\":\"\"},\"caxis\":{\"gridcolor\":\"white\",\"linecolor\":\"white\",\"ticks\":\"\"}},\"coloraxis\":{\"colorbar\":{\"outlinewidth\":0,\"ticks\":\"\"}},\"colorscale\":{\"sequential\":[[0.0,\"#0d0887\"],[0.1111111111111111,\"#46039f\"],[0.2222222222222222,\"#7201a8\"],[0.3333333333333333,\"#9c179e\"],[0.4444444444444444,\"#bd3786\"],[0.5555555555555556,\"#d8576b\"],[0.6666666666666666,\"#ed7953\"],[0.7777777777777778,\"#fb9f3a\"],[0.8888888888888888,\"#fdca26\"],[1.0,\"#f0f921\"]],\"sequentialminus\":[[0.0,\"#0d0887\"],[0.1111111111111111,\"#46039f\"],[0.2222222222222222,\"#7201a8\"],[0.3333333333333333,\"#9c179e\"],[0.4444444444444444,\"#bd3786\"],[0.5555555555555556,\"#d8576b\"],[0.6666666666666666,\"#ed7953\"],[0.7777777777777778,\"#fb9f3a\"],[0.8888888888888888,\"#fdca26\"],[1.0,\"#f0f921\"]],\"diverging\":[[0,\"#8e0152\"],[0.1,\"#c51b7d\"],[0.2,\"#de77ae\"],[0.3,\"#f1b6da\"],[0.4,\"#fde0ef\"],[0.5,\"#f7f7f7\"],[0.6,\"#e6f5d0\"],[0.7,\"#b8e186\"],[0.8,\"#7fbc41\"],[0.9,\"#4d9221\"],[1,\"#276419\"]]},\"xaxis\":{\"gridcolor\":\"white\",\"linecolor\":\"white\",\"ticks\":\"\",\"title\":{\"standoff\":15},\"zerolinecolor\":\"white\",\"automargin\":true,\"zerolinewidth\":2},\"yaxis\":{\"gridcolor\":\"white\",\"linecolor\":\"white\",\"ticks\":\"\",\"title\":{\"standoff\":15},\"zerolinecolor\":\"white\",\"automargin\":true,\"zerolinewidth\":2},\"scene\":{\"xaxis\":{\"backgroundcolor\":\"#E5ECF6\",\"gridcolor\":\"white\",\"linecolor\":\"white\",\"showbackground\":true,\"ticks\":\"\",\"zerolinecolor\":\"white\",\"gridwidth\":2},\"yaxis\":{\"backgroundcolor\":\"#E5ECF6\",\"gridcolor\":\"white\",\"linecolor\":\"white\",\"showbackground\":true,\"ticks\":\"\",\"zerolinecolor\":\"white\",\"gridwidth\":2},\"zaxis\":{\"backgroundcolor\":\"#E5ECF6\",\"gridcolor\":\"white\",\"linecolor\":\"white\",\"showbackground\":true,\"ticks\":\"\",\"zerolinecolor\":\"white\",\"gridwidth\":2}},\"shapedefaults\":{\"line\":{\"color\":\"#2a3f5f\"}},\"annotationdefaults\":{\"arrowcolor\":\"#2a3f5f\",\"arrowhead\":0,\"arrowwidth\":1},\"geo\":{\"bgcolor\":\"white\",\"landcolor\":\"#E5ECF6\",\"subunitcolor\":\"white\",\"showland\":true,\"showlakes\":true,\"lakecolor\":\"white\"},\"title\":{\"x\":0.05},\"mapbox\":{\"style\":\"light\"}}},\"xaxis\":{\"anchor\":\"y\",\"domain\":[0.0,1.0],\"title\":{\"text\":\"Recurrence\"}},\"yaxis\":{\"anchor\":\"x\",\"domain\":[0.0,1.0],\"title\":{\"text\":\"Genus\"}},\"legend\":{\"title\":{\"text\":\"Pathway\"},\"tracegroupgap\":0},\"title\":{\"text\":\"Stacked Barplot of Predicted Pathways Ocurrence for Genus\"},\"barmode\":\"relative\",\"plot_bgcolor\":\"white\",\"width\":1200,\"height\":1400},                        {\"responsive\": true}                    ).then(function(){\n",
       "                            \n",
       "var gd = document.getElementById('73f72595-5890-461e-8cd9-2e228e50365a');\n",
       "var x = new MutationObserver(function (mutations, observer) {{\n",
       "        var display = window.getComputedStyle(gd).display;\n",
       "        if (!display || display === 'none') {{\n",
       "            console.log([gd, 'removed!']);\n",
       "            Plotly.purge(gd);\n",
       "            observer.disconnect();\n",
       "        }}\n",
       "}});\n",
       "\n",
       "// Listen for the removal of the full notebook cells\n",
       "var notebookContainer = gd.closest('#notebook-container');\n",
       "if (notebookContainer) {{\n",
       "    x.observe(notebookContainer, {childList: true});\n",
       "}}\n",
       "\n",
       "// Listen for the clearing of the current output cell\n",
       "var outputEl = gd.closest('.output');\n",
       "if (outputEl) {{\n",
       "    x.observe(outputEl, {childList: true});\n",
       "}}\n",
       "\n",
       "                        })                };                });            </script>        </div>"
      ]
     },
     "metadata": {},
     "output_type": "display_data"
    }
   ],
   "source": [
    "# Define custom colors for the 7 pathway categories\n",
    "pathway_colors = {\n",
    "    'Terpenoids': '#618264',  # Green start and lighter green end\n",
    "    'Alkaloids': '#305F72',   # Blue start and lighter blue end\n",
    "    'Shikimates and Phenylpropanoids': '#80558C',  # Purple start and lighter purple end\n",
    "    'Polyketides': '#EF4B4B',  # Red start and lighter purple end\n",
    "    'Fatty acids': '#FF6C22',  # Orange start and lighter purple end\n",
    "    'Amino acids and Peptides': '#F4E869',  # Yellow start and lighter purple end\n",
    "    'Carbohydrates': '#65451F' # Brown start and lighter purple end\n",
    "}\n",
    "\n",
    "# Step 1: Initialize an empty DataFrame to store all data\n",
    "all_data = pd.DataFrame(columns=['organism_taxonomy_08genus', 'chemical_superclass'])\n",
    "\n",
    "# Step 2: Read data from all .tsv files in the output_folder\n",
    "genus_data_folder = os.path.join(output_folder, 'genus_data')\n",
    "for filename in os.listdir(genus_data_folder):\n",
    "    if filename.endswith(\".tsv\"):\n",
    "        file_data = pd.read_csv(os.path.join(genus_data_folder, filename), sep='\\t')\n",
    "        all_data = pd.concat([all_data, file_data])\n",
    "\n",
    "# Step 3: Rename the \"queried_taxaLabel\" column to \"species\"\n",
    "all_data.rename(columns={'organism_taxonomy_08genus': 'genus'}, inplace=True)\n",
    "all_data.rename(columns={'structure_taxonomy_npclassifier_01pathway': 'Pathway'}, inplace=True)\n",
    "\n",
    "# Remove 'API Error-API Error' and 'Not Classified-Not Classified'\n",
    "all_data = all_data[(all_data['Pathway'] != 'API Error') & (all_data['Pathway'] != 'Not Classified')]\n",
    "\n",
    "# Step 4: Group and aggregate data to calculate recurrence\n",
    "agg_data = all_data.groupby(['genus', 'Pathway']).size().reset_index(name='recurrence')\n",
    "\n",
    "# Sort the DataFrame by 'genus' alphabetically\n",
    "agg_data = agg_data.sort_values(by='genus')\n",
    "\n",
    "# Step 5: Create the stacked barplot with custom colors\n",
    "fig = px.bar(agg_data, y=agg_data['genus'].apply(lambda x: f\"<i>{x}</i>\"), x='recurrence',\n",
    "             title='Stacked Barplot of Predicted Pathways Ocurrence for Genus',\n",
    "             labels={'recurrence': 'Recurrence'},\n",
    "             color='Pathway',\n",
    "             color_discrete_map=pathway_colors,  # Use custom colors\n",
    "             category_orders={'genus': sorted(agg_data['genus'].unique())},  # Sort 'genus' alphabetically,\n",
    "             orientation='h'\n",
    "            )\n",
    "\n",
    "# Modify the y-axis label\n",
    "fig.update_yaxes(title_text='Genus')\n",
    "\n",
    "# Set a white background\n",
    "fig.update_layout(plot_bgcolor='white')\n",
    "\n",
    "# Modify the size of the figure\n",
    "fig.update_layout(width=1200, height=1400)\n",
    "\n",
    "# Save the figure as an HTML file\n",
    "fig.write_html(f'{output_folder}Wikidata_pathway_barplot_genus.html')\n",
    "\n",
    "# Show or save the figure\n",
    "fig.show()\n"
   ]
  }
 ],
 "metadata": {
  "interpreter": {
   "hash": "2c38b6a57c2d4f85bcd8a646c69c70f453ebfd581092159d4a2b022d1b3585cd"
  },
  "kernelspec": {
   "display_name": "Python 3.8.5 64-bit ('base': conda)",
   "language": "python",
   "name": "python3"
  },
  "language_info": {
   "codemirror_mode": {
    "name": "ipython",
    "version": 3
   },
   "file_extension": ".py",
   "mimetype": "text/x-python",
   "name": "python",
   "nbconvert_exporter": "python",
   "pygments_lexer": "ipython3",
   "version": "3.11.5"
  },
  "orig_nbformat": 4
 },
 "nbformat": 4,
 "nbformat_minor": 2
}
