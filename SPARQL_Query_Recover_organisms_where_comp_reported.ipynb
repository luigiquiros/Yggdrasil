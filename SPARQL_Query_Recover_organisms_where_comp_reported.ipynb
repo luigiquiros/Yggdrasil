{
 "cells": [
  {
   "cell_type": "code",
   "execution_count": 1,
   "metadata": {},
   "outputs": [],
   "source": [
    "import requests \n",
    "import pandas as pd\n",
    "import os\n",
    "from io import StringIO  # Import StringIO from the io module\n",
    "import time  # Import the time module\n",
    "import requests \n",
    "from urllib.parse import quote  # To URL encode SMILES\n",
    "import plotly.express as px"
   ]
  },
  {
   "cell_type": "markdown",
   "metadata": {},
   "source": [
    "Befor runing this code: \n",
    "1) create a .csv file containing a 'species_header' like 'species', 'names', etc. this column should contain the name of the species (or genuses by default) resolved by Open Tree of Life.\n",
    "2) creta an empty folder (input_folder) and put the .csv file inside! \n",
    "\n",
    "That's all"
   ]
  },
  {
   "cell_type": "markdown",
   "metadata": {},
   "source": [
    "DEFINE THE FOLLOWING PARAMETERS"
   ]
  },
  {
   "cell_type": "code",
   "execution_count": 2,
   "metadata": {},
   "outputs": [],
   "source": [
    "#Paths\n",
    "# Input folder containing CSV files\n",
    "input_folder = '/mnt/c/Users/quirosgu/Desktop/MetaUV/'\n",
    "\n",
    "SMILES_header = 'SMILES'\n",
    "\n",
    "# Output folder for the processed CSV files\n",
    "output_folder = '/mnt/c/Users/quirosgu/Desktop/test/output_data/'"
   ]
  },
  {
   "cell_type": "markdown",
   "metadata": {},
   "source": [
    "FIRST RECOVER THE Q CODES FROM WIKIDATA AND UPDATE THE METADATA FILE"
   ]
  },
  {
   "cell_type": "code",
   "execution_count": 3,
   "metadata": {},
   "outputs": [
    {
     "ename": "ModuleNotFoundError",
     "evalue": "No module named 'rdkit'",
     "output_type": "error",
     "traceback": [
      "\u001b[1;31m---------------------------------------------------------------------------\u001b[0m",
      "\u001b[1;31mModuleNotFoundError\u001b[0m                       Traceback (most recent call last)",
      "Cell \u001b[1;32mIn[3], line 6\u001b[0m\n\u001b[0;32m      4\u001b[0m \u001b[38;5;28;01mimport\u001b[39;00m \u001b[38;5;21;01mtime\u001b[39;00m\n\u001b[0;32m      5\u001b[0m \u001b[38;5;28;01mimport\u001b[39;00m \u001b[38;5;21;01mos\u001b[39;00m\n\u001b[1;32m----> 6\u001b[0m \u001b[38;5;28;01mfrom\u001b[39;00m \u001b[38;5;21;01mrdkit\u001b[39;00m \u001b[38;5;28;01mimport\u001b[39;00m Chem\n\u001b[0;32m      8\u001b[0m \u001b[38;5;28;01mdef\u001b[39;00m \u001b[38;5;21mprocess_csv_file\u001b[39m(input_file, output_folder):\n\u001b[0;32m      9\u001b[0m     \u001b[38;5;66;03m# Read the original CSV file containing the SMILES\u001b[39;00m\n\u001b[0;32m     10\u001b[0m     df_compounds \u001b[38;5;241m=\u001b[39m pd\u001b[38;5;241m.\u001b[39mread_csv(input_file, encoding\u001b[38;5;241m=\u001b[39m\u001b[38;5;124m'\u001b[39m\u001b[38;5;124mISO-8859-1\u001b[39m\u001b[38;5;124m'\u001b[39m)\n",
      "\u001b[1;31mModuleNotFoundError\u001b[0m: No module named 'rdkit'"
     ]
    }
   ],
   "source": [
    "import pandas as pd\n",
    "from io import StringIO\n",
    "import requests\n",
    "import time\n",
    "import os\n",
    "from rdkit import Chem\n",
    "\n",
    "def process_csv_file(input_file, output_folder):\n",
    "    # Read the original CSV file containing the SMILES\n",
    "    df_compounds = pd.read_csv(input_file, encoding='ISO-8859-1')\n",
    "    \n",
    "    endpoint_url = \"https://query.wikidata.org/sparql\"\n",
    "    q_codes = []\n",
    "    placeholder_value = \"Not Found\"\n",
    "    requests_per_minute = 10\n",
    "\n",
    "    for index, row in df_compounds.iterrows():\n",
    "        compound_smiles = row['SMILES']  # Assuming 'SMILES' is the column header for the compounds\n",
    "        \n",
    "        if isinstance(compound_smiles, str):\n",
    "            # Convert SMILES to canonical form\n",
    "            mol = Chem.MolFromSmiles(compound_smiles)\n",
    "            if mol is not None:\n",
    "                canonical_smiles = Chem.MolToSmiles(mol, isomericSmiles=True)\n",
    "\n",
    "            #sparql\n",
    "            sparql_query = f\"\"\"\n",
    "            SELECT ?compound ?compoundLabel WHERE {{\n",
    "              ?compound ?propertyForSMILES \"{compound_smiles}\".\n",
    "              SERVICE wikibase:label {{ bd:serviceParam wikibase:language \"[AUTO_LANGUAGE],en\". }}\n",
    "            }}\n",
    "            \"\"\"\n",
    "    \n",
    "            response = requests.get(endpoint_url, headers={'Accept': 'text/csv'}, params={'query': sparql_query})\n",
    "    \n",
    "            if response.status_code == 200:\n",
    "                csv_data = response.text\n",
    "                df_qcode = pd.read_csv(StringIO(csv_data))\n",
    "    \n",
    "                if not df_qcode.empty:\n",
    "                    q_code = df_qcode['compound'].values[0]  # Extract the Q code\n",
    "                    q_codes.append(q_code)\n",
    "                    print(f\"Retrieved Q code {q_code} for compound with SMILES: {compound_smiles}\")\n",
    "                else:\n",
    "                    q_codes.append(placeholder_value)\n",
    "                    print(f\"No Q code found for compound with SMILES: {compound_smiles}\")\n",
    "            else:\n",
    "                q_codes.append(placeholder_value)\n",
    "                print(f\"Failed to retrieve Q code for compound with SMILES: {compound_smiles}. Status code: {response.status_code}\")\n",
    "    \n",
    "            time.sleep(60 / requests_per_minute)\n",
    "        else:\n",
    "            q_codes.append(placeholder_value)\n",
    "    \n",
    "    df_compounds['wikidata_Qcode'] = q_codes\n",
    "    output_csv_filename = os.path.join(output_folder, os.path.basename(input_file))\n",
    "    df_compounds.to_csv(output_csv_filename, index=False)\n",
    "    print(f\"Saved updated CSV with Q codes to {output_csv_filename}\")\n",
    "\n",
    "# Create the output folder if it doesn't exist\n",
    "os.makedirs(output_folder, exist_ok=True)\n",
    "\n",
    "# List all CSV files in the input folder and process each one\n",
    "for filename in os.listdir(input_folder):\n",
    "    if filename.endswith('.csv'):\n",
    "        input_file = os.path.join(input_folder, filename)\n",
    "        process_csv_file(input_file, input_folder)\n",
    "\n",
    "#once finished... check the lines for 'NOT FOUND' manually"
   ]
  },
  {
   "cell_type": "markdown",
   "metadata": {},
   "source": [
    "NOW, LETS USE THE QCODES TO RECOVER ALL THE COMPOUNDS (WITH REFERENCES) PRESENT IN EACH QCODE AND SAVE THEM AS INDIVIDUAL CSV FILES"
   ]
  },
  {
   "cell_type": "code",
   "execution_count": 109,
   "metadata": {},
   "outputs": [
    {
     "name": "stdout",
     "output_type": "stream",
     "text": [
      "Saved grouped data for Q code Q15287263 to /mnt/c/Users/quirosgu/Desktop/Inmuno/output_data/Q15287263.tsv\n",
      "Saved grouped data for Q code Q8186515 to /mnt/c/Users/quirosgu/Desktop/Inmuno/output_data/Q8186515.tsv\n",
      "Saved grouped data for Q code Q1882542 to /mnt/c/Users/quirosgu/Desktop/Inmuno/output_data/Q1882542.tsv\n",
      "Saved grouped data for Q code Q4676527 to /mnt/c/Users/quirosgu/Desktop/Inmuno/output_data/Q4676527.tsv\n",
      "Saved grouped data for Q code Q5657528 to /mnt/c/Users/quirosgu/Desktop/Inmuno/output_data/Q5657528.tsv\n",
      "Saved grouped data for Q code Q11079071 to /mnt/c/Users/quirosgu/Desktop/Inmuno/output_data/Q11079071.tsv\n",
      "Saved grouped data for Q code Q104912462 to /mnt/c/Users/quirosgu/Desktop/Inmuno/output_data/Q104912462.tsv\n",
      "Saved grouped data for Q code Q4692127 to /mnt/c/Users/quirosgu/Desktop/Inmuno/output_data/Q4692127.tsv\n",
      "Saved grouped data for Q code Q1949712 to /mnt/c/Users/quirosgu/Desktop/Inmuno/output_data/Q1949712.tsv\n",
      "Saved grouped data for Q code Q159717 to /mnt/c/Users/quirosgu/Desktop/Inmuno/output_data/Q159717.tsv\n",
      "Saved grouped data for Q code Q15492162 to /mnt/c/Users/quirosgu/Desktop/Inmuno/output_data/Q15492162.tsv\n",
      "Saved grouped data for Q code Q15384605 to /mnt/c/Users/quirosgu/Desktop/Inmuno/output_data/Q15384605.tsv\n",
      "Saved grouped data for Q code Q15396944 to /mnt/c/Users/quirosgu/Desktop/Inmuno/output_data/Q15396944.tsv\n",
      "Saved grouped data for Q code Q15395163 to /mnt/c/Users/quirosgu/Desktop/Inmuno/output_data/Q15395163.tsv\n",
      "Saved grouped data for Q code Q15577068 to /mnt/c/Users/quirosgu/Desktop/Inmuno/output_data/Q15577068.tsv\n",
      "Saved grouped data for Q code Q15318795 to /mnt/c/Users/quirosgu/Desktop/Inmuno/output_data/Q15318795.tsv\n",
      "Saved grouped data for Q code Q15320656 to /mnt/c/Users/quirosgu/Desktop/Inmuno/output_data/Q15320656.tsv\n",
      "Saved grouped data for Q code Q4779309 to /mnt/c/Users/quirosgu/Desktop/Inmuno/output_data/Q4779309.tsv\n",
      "Saved grouped data for Q code Q15598546 to /mnt/c/Users/quirosgu/Desktop/Inmuno/output_data/Q15598546.tsv\n",
      "Saved grouped data for Q code Q15324297 to /mnt/c/Users/quirosgu/Desktop/Inmuno/output_data/Q15324297.tsv\n",
      "Saved grouped data for Q code Q15464421 to /mnt/c/Users/quirosgu/Desktop/Inmuno/output_data/Q15464421.tsv\n",
      "Saved grouped data for Q code Q5702217 to /mnt/c/Users/quirosgu/Desktop/Inmuno/output_data/Q5702217.tsv\n",
      "Saved grouped data for Q code Q15506735 to /mnt/c/Users/quirosgu/Desktop/Inmuno/output_data/Q15506735.tsv\n",
      "Saved grouped data for Q code Q15396304 to /mnt/c/Users/quirosgu/Desktop/Inmuno/output_data/Q15396304.tsv\n",
      "Saved grouped data for Q code Q15344491 to /mnt/c/Users/quirosgu/Desktop/Inmuno/output_data/Q15344491.tsv\n",
      "Saved grouped data for Q code Q570551 to /mnt/c/Users/quirosgu/Desktop/Inmuno/output_data/Q570551.tsv\n",
      "Saved grouped data for Q code Q15457484 to /mnt/c/Users/quirosgu/Desktop/Inmuno/output_data/Q15457484.tsv\n",
      "Saved grouped data for Q code Q15476416 to /mnt/c/Users/quirosgu/Desktop/Inmuno/output_data/Q15476416.tsv\n",
      "Saved grouped data for Q code Q15331063 to /mnt/c/Users/quirosgu/Desktop/Inmuno/output_data/Q15331063.tsv\n",
      "Saved grouped data for Q code Q15393186 to /mnt/c/Users/quirosgu/Desktop/Inmuno/output_data/Q15393186.tsv\n",
      "Saved grouped data for Q code Q15490685 to /mnt/c/Users/quirosgu/Desktop/Inmuno/output_data/Q15490685.tsv\n",
      "Saved grouped data for Q code Q15547718 to /mnt/c/Users/quirosgu/Desktop/Inmuno/output_data/Q15547718.tsv\n",
      "Saved grouped data for Q code Q15588567 to /mnt/c/Users/quirosgu/Desktop/Inmuno/output_data/Q15588567.tsv\n",
      "Saved grouped data for Q code Q42746921 to /mnt/c/Users/quirosgu/Desktop/Inmuno/output_data/Q42746921.tsv\n",
      "Saved grouped data for Q code Q10890773 to /mnt/c/Users/quirosgu/Desktop/Inmuno/output_data/Q10890773.tsv\n",
      "Saved grouped data for Q code Q5733430 to /mnt/c/Users/quirosgu/Desktop/Inmuno/output_data/Q5733430.tsv\n",
      "Saved grouped data for Q code Q990886 to /mnt/c/Users/quirosgu/Desktop/Inmuno/output_data/Q990886.tsv\n",
      "Saved grouped data for Q code Q15471496 to /mnt/c/Users/quirosgu/Desktop/Inmuno/output_data/Q15471496.tsv\n",
      "Saved grouped data for Q code Q15387620 to /mnt/c/Users/quirosgu/Desktop/Inmuno/output_data/Q15387620.tsv\n",
      "Saved grouped data for Q code Q21874434 to /mnt/c/Users/quirosgu/Desktop/Inmuno/output_data/Q21874434.tsv\n",
      "Saved grouped data for Q code Q1428973 to /mnt/c/Users/quirosgu/Desktop/Inmuno/output_data/Q1428973.tsv\n",
      "Saved grouped data for Q code Q92367804 to /mnt/c/Users/quirosgu/Desktop/Inmuno/output_data/Q92367804.tsv\n",
      "Saved grouped data for Q code Q92368903 to /mnt/c/Users/quirosgu/Desktop/Inmuno/output_data/Q92368903.tsv\n",
      "Saved grouped data for Q code Q18082984 to /mnt/c/Users/quirosgu/Desktop/Inmuno/output_data/Q18082984.tsv\n",
      "Saved grouped data for Q code Q15348798 to /mnt/c/Users/quirosgu/Desktop/Inmuno/output_data/Q15348798.tsv\n",
      "Saved grouped data for Q code Q15554410 to /mnt/c/Users/quirosgu/Desktop/Inmuno/output_data/Q15554410.tsv\n",
      "Saved grouped data for Q code Q5741578 to /mnt/c/Users/quirosgu/Desktop/Inmuno/output_data/Q5741578.tsv\n",
      "Saved grouped data for Q code Q1317365 to /mnt/c/Users/quirosgu/Desktop/Inmuno/output_data/Q1317365.tsv\n",
      "Saved grouped data for Q code Q15593376 to /mnt/c/Users/quirosgu/Desktop/Inmuno/output_data/Q15593376.tsv\n",
      "Saved grouped data for Q code Q1043450 to /mnt/c/Users/quirosgu/Desktop/Inmuno/output_data/Q1043450.tsv\n",
      "Saved grouped data for Q code Q164094 to /mnt/c/Users/quirosgu/Desktop/Inmuno/output_data/Q164094.tsv\n",
      "Saved grouped data for Q code Q15348729 to /mnt/c/Users/quirosgu/Desktop/Inmuno/output_data/Q15348729.tsv\n",
      "Saved grouped data for Q code Q161093 to /mnt/c/Users/quirosgu/Desktop/Inmuno/output_data/Q161093.tsv\n",
      "Saved grouped data for Q code Q15371226 to /mnt/c/Users/quirosgu/Desktop/Inmuno/output_data/Q15371226.tsv\n",
      "Saved grouped data for Q code Q2998776 to /mnt/c/Users/quirosgu/Desktop/Inmuno/output_data/Q2998776.tsv\n",
      "Saved grouped data for Q code Q4744662 to /mnt/c/Users/quirosgu/Desktop/Inmuno/output_data/Q4744662.tsv\n",
      "Saved grouped data for Q code Q15604947 to /mnt/c/Users/quirosgu/Desktop/Inmuno/output_data/Q15604947.tsv\n",
      "Saved grouped data for Q code Q12488371 to /mnt/c/Users/quirosgu/Desktop/Inmuno/output_data/Q12488371.tsv\n",
      "Saved grouped data for Q code Q15387668 to /mnt/c/Users/quirosgu/Desktop/Inmuno/output_data/Q15387668.tsv\n",
      "Saved grouped data for Q code Q15526424 to /mnt/c/Users/quirosgu/Desktop/Inmuno/output_data/Q15526424.tsv\n",
      "Saved grouped data for Q code Q21250345 to /mnt/c/Users/quirosgu/Desktop/Inmuno/output_data/Q21250345.tsv\n",
      "Saved grouped data for Q code Q15387384 to /mnt/c/Users/quirosgu/Desktop/Inmuno/output_data/Q15387384.tsv\n",
      "Saved grouped data for Q code Q15232465 to /mnt/c/Users/quirosgu/Desktop/Inmuno/output_data/Q15232465.tsv\n",
      "Saved grouped data for Q code Q49522122 to /mnt/c/Users/quirosgu/Desktop/Inmuno/output_data/Q49522122.tsv\n",
      "Saved grouped data for Q code Q15399421 to /mnt/c/Users/quirosgu/Desktop/Inmuno/output_data/Q15399421.tsv\n",
      "Saved grouped data for Q code Q9191371 to /mnt/c/Users/quirosgu/Desktop/Inmuno/output_data/Q9191371.tsv\n",
      "Saved grouped data for Q code Q15513903 to /mnt/c/Users/quirosgu/Desktop/Inmuno/output_data/Q15513903.tsv\n",
      "Saved grouped data for Q code Q50839388 to /mnt/c/Users/quirosgu/Desktop/Inmuno/output_data/Q50839388.tsv\n",
      "Saved grouped data for Q code Q15565299 to /mnt/c/Users/quirosgu/Desktop/Inmuno/output_data/Q15565299.tsv\n",
      "Saved grouped data for Q code Q2714097 to /mnt/c/Users/quirosgu/Desktop/Inmuno/output_data/Q2714097.tsv\n",
      "Saved grouped data for Q code Q15471701 to /mnt/c/Users/quirosgu/Desktop/Inmuno/output_data/Q15471701.tsv\n",
      "Saved grouped data for Q code Q5771221 to /mnt/c/Users/quirosgu/Desktop/Inmuno/output_data/Q5771221.tsv\n",
      "Saved grouped data for Q code Q15391131 to /mnt/c/Users/quirosgu/Desktop/Inmuno/output_data/Q15391131.tsv\n",
      "Saved grouped data for Q code Q15394067 to /mnt/c/Users/quirosgu/Desktop/Inmuno/output_data/Q15394067.tsv\n",
      "Saved grouped data for Q code Q15581202 to /mnt/c/Users/quirosgu/Desktop/Inmuno/output_data/Q15581202.tsv\n",
      "Saved grouped data for Q code Q2980990 to /mnt/c/Users/quirosgu/Desktop/Inmuno/output_data/Q2980990.tsv\n",
      "Saved grouped data for Q code Q5141681 to /mnt/c/Users/quirosgu/Desktop/Inmuno/output_data/Q5141681.tsv\n",
      "Saved grouped data for Q code Q15536508 to /mnt/c/Users/quirosgu/Desktop/Inmuno/output_data/Q15536508.tsv\n",
      "Saved grouped data for Q code Q15493816 to /mnt/c/Users/quirosgu/Desktop/Inmuno/output_data/Q15493816.tsv\n",
      "Saved grouped data for Q code Q15401274 to /mnt/c/Users/quirosgu/Desktop/Inmuno/output_data/Q15401274.tsv\n",
      "Saved grouped data for Q code Q15250450 to /mnt/c/Users/quirosgu/Desktop/Inmuno/output_data/Q15250450.tsv\n",
      "Saved grouped data for Q code Q214542 to /mnt/c/Users/quirosgu/Desktop/Inmuno/output_data/Q214542.tsv\n",
      "Saved grouped data for Q code Q1140089 to /mnt/c/Users/quirosgu/Desktop/Inmuno/output_data/Q1140089.tsv\n",
      "Saved grouped data for Q code Q3004011 to /mnt/c/Users/quirosgu/Desktop/Inmuno/output_data/Q3004011.tsv\n",
      "Saved grouped data for Q code Q15397864 to /mnt/c/Users/quirosgu/Desktop/Inmuno/output_data/Q15397864.tsv\n",
      "Saved grouped data for Q code Q15337356 to /mnt/c/Users/quirosgu/Desktop/Inmuno/output_data/Q15337356.tsv\n",
      "Saved grouped data for Q code Q15547182 to /mnt/c/Users/quirosgu/Desktop/Inmuno/output_data/Q15547182.tsv\n",
      "Saved grouped data for Q code Q33913 to /mnt/c/Users/quirosgu/Desktop/Inmuno/output_data/Q33913.tsv\n",
      "Saved grouped data for Q code Q5795462 to /mnt/c/Users/quirosgu/Desktop/Inmuno/output_data/Q5795462.tsv\n",
      "Saved grouped data for Q code Q5795507 to /mnt/c/Users/quirosgu/Desktop/Inmuno/output_data/Q5795507.tsv\n",
      "Saved grouped data for Q code Q5208908 to /mnt/c/Users/quirosgu/Desktop/Inmuno/output_data/Q5208908.tsv\n",
      "Saved grouped data for Q code Q15531517 to /mnt/c/Users/quirosgu/Desktop/Inmuno/output_data/Q15531517.tsv\n",
      "Saved grouped data for Q code Q17024682 to /mnt/c/Users/quirosgu/Desktop/Inmuno/output_data/Q17024682.tsv\n",
      "Saved grouped data for Q code Q238486 to /mnt/c/Users/quirosgu/Desktop/Inmuno/output_data/Q238486.tsv\n",
      "Saved grouped data for Q code Q5764728 to /mnt/c/Users/quirosgu/Desktop/Inmuno/output_data/Q5764728.tsv\n",
      "Saved grouped data for Q code Q10306429 to /mnt/c/Users/quirosgu/Desktop/Inmuno/output_data/Q10306429.tsv\n",
      "Saved grouped data for Q code Q15560885 to /mnt/c/Users/quirosgu/Desktop/Inmuno/output_data/Q15560885.tsv\n",
      "Saved grouped data for Q code Q15546614 to /mnt/c/Users/quirosgu/Desktop/Inmuno/output_data/Q15546614.tsv\n",
      "Saved grouped data for Q code Q15339270 to /mnt/c/Users/quirosgu/Desktop/Inmuno/output_data/Q15339270.tsv\n",
      "Saved grouped data for Q code Q89188901 to /mnt/c/Users/quirosgu/Desktop/Inmuno/output_data/Q89188901.tsv\n",
      "Saved grouped data for Q code Q17398458 to /mnt/c/Users/quirosgu/Desktop/Inmuno/output_data/Q17398458.tsv\n",
      "Saved grouped data for Q code Q15313056 to /mnt/c/Users/quirosgu/Desktop/Inmuno/output_data/Q15313056.tsv\n",
      "Saved grouped data for Q code Q15500679 to /mnt/c/Users/quirosgu/Desktop/Inmuno/output_data/Q15500679.tsv\n",
      "Saved grouped data for Q code Q15507751 to /mnt/c/Users/quirosgu/Desktop/Inmuno/output_data/Q15507751.tsv\n",
      "Saved grouped data for Q code Q15586829 to /mnt/c/Users/quirosgu/Desktop/Inmuno/output_data/Q15586829.tsv\n",
      "Saved grouped data for Q code Q690645 to /mnt/c/Users/quirosgu/Desktop/Inmuno/output_data/Q690645.tsv\n",
      "Saved grouped data for Q code Q15473365 to /mnt/c/Users/quirosgu/Desktop/Inmuno/output_data/Q15473365.tsv\n",
      "Saved grouped data for Q code Q135127 to /mnt/c/Users/quirosgu/Desktop/Inmuno/output_data/Q135127.tsv\n",
      "Saved grouped data for Q code Q15575790 to /mnt/c/Users/quirosgu/Desktop/Inmuno/output_data/Q15575790.tsv\n",
      "Saved grouped data for Q code Q5837307 to /mnt/c/Users/quirosgu/Desktop/Inmuno/output_data/Q5837307.tsv\n",
      "Saved grouped data for Q code Q5396455 to /mnt/c/Users/quirosgu/Desktop/Inmuno/output_data/Q5396455.tsv\n",
      "Saved grouped data for Q code Q15376475 to /mnt/c/Users/quirosgu/Desktop/Inmuno/output_data/Q15376475.tsv\n",
      "Saved grouped data for Q code Q5397254 to /mnt/c/Users/quirosgu/Desktop/Inmuno/output_data/Q5397254.tsv\n",
      "Saved grouped data for Q code Q6433663 to /mnt/c/Users/quirosgu/Desktop/Inmuno/output_data/Q6433663.tsv\n",
      "Saved grouped data for Q code Q15443900 to /mnt/c/Users/quirosgu/Desktop/Inmuno/output_data/Q15443900.tsv\n",
      "Saved grouped data for Q code Q81748456 to /mnt/c/Users/quirosgu/Desktop/Inmuno/output_data/Q81748456.tsv\n",
      "Saved grouped data for Q code Q275160 to /mnt/c/Users/quirosgu/Desktop/Inmuno/output_data/Q275160.tsv\n",
      "Saved grouped data for Q code Q3585414 to /mnt/c/Users/quirosgu/Desktop/Inmuno/output_data/Q3585414.tsv\n",
      "Saved grouped data for Q code Q5446654 to /mnt/c/Users/quirosgu/Desktop/Inmuno/output_data/Q5446654.tsv\n",
      "Saved grouped data for Q code Q12175320 to /mnt/c/Users/quirosgu/Desktop/Inmuno/output_data/Q12175320.tsv\n",
      "Saved grouped data for Q code Q1353278 to /mnt/c/Users/quirosgu/Desktop/Inmuno/output_data/Q1353278.tsv\n",
      "Saved grouped data for Q code Q15457271 to /mnt/c/Users/quirosgu/Desktop/Inmuno/output_data/Q15457271.tsv\n",
      "Saved grouped data for Q code Q2717303 to /mnt/c/Users/quirosgu/Desktop/Inmuno/output_data/Q2717303.tsv\n",
      "Saved grouped data for Q code Q15602003 to /mnt/c/Users/quirosgu/Desktop/Inmuno/output_data/Q15602003.tsv\n",
      "Saved grouped data for Q code Q15399631 to /mnt/c/Users/quirosgu/Desktop/Inmuno/output_data/Q15399631.tsv\n",
      "Saved grouped data for Q code Q17246257 to /mnt/c/Users/quirosgu/Desktop/Inmuno/output_data/Q17246257.tsv\n",
      "Saved grouped data for Q code Q15458083 to /mnt/c/Users/quirosgu/Desktop/Inmuno/output_data/Q15458083.tsv\n",
      "Saved grouped data for Q code Q15459428 to /mnt/c/Users/quirosgu/Desktop/Inmuno/output_data/Q15459428.tsv\n",
      "Saved grouped data for Q code Q15341503 to /mnt/c/Users/quirosgu/Desktop/Inmuno/output_data/Q15341503.tsv\n",
      "Saved grouped data for Q code Q15536135 to /mnt/c/Users/quirosgu/Desktop/Inmuno/output_data/Q15536135.tsv\n",
      "Saved grouped data for Q code Q15460898 to /mnt/c/Users/quirosgu/Desktop/Inmuno/output_data/Q15460898.tsv\n",
      "Saved grouped data for Q code Q15373210 to /mnt/c/Users/quirosgu/Desktop/Inmuno/output_data/Q15373210.tsv\n",
      "Saved grouped data for Q code Q17395072 to /mnt/c/Users/quirosgu/Desktop/Inmuno/output_data/Q17395072.tsv\n",
      "Saved grouped data for Q code Q15383418 to /mnt/c/Users/quirosgu/Desktop/Inmuno/output_data/Q15383418.tsv\n",
      "Saved grouped data for Q code Q1602492 to /mnt/c/Users/quirosgu/Desktop/Inmuno/output_data/Q1602492.tsv\n",
      "Saved grouped data for Q code Q15373239 to /mnt/c/Users/quirosgu/Desktop/Inmuno/output_data/Q15373239.tsv\n",
      "Saved grouped data for Q code Q15462028 to /mnt/c/Users/quirosgu/Desktop/Inmuno/output_data/Q15462028.tsv\n",
      "Saved grouped data for Q code Q15393584 to /mnt/c/Users/quirosgu/Desktop/Inmuno/output_data/Q15393584.tsv\n",
      "Saved grouped data for Q code Q158110 to /mnt/c/Users/quirosgu/Desktop/Inmuno/output_data/Q158110.tsv\n",
      "Saved grouped data for Q code Q15392758 to /mnt/c/Users/quirosgu/Desktop/Inmuno/output_data/Q15392758.tsv\n",
      "Saved grouped data for Q code Q92422947 to /mnt/c/Users/quirosgu/Desktop/Inmuno/output_data/Q92422947.tsv\n",
      "Saved grouped data for Q code Q2001703 to /mnt/c/Users/quirosgu/Desktop/Inmuno/output_data/Q2001703.tsv\n",
      "Saved grouped data for Q code Q10299053 to /mnt/c/Users/quirosgu/Desktop/Inmuno/output_data/Q10299053.tsv\n",
      "Saved grouped data for Q code Q2234016 to /mnt/c/Users/quirosgu/Desktop/Inmuno/output_data/Q2234016.tsv\n",
      "Saved grouped data for Q code Q3144082 to /mnt/c/Users/quirosgu/Desktop/Inmuno/output_data/Q3144082.tsv\n",
      "Saved grouped data for Q code Q50846819 to /mnt/c/Users/quirosgu/Desktop/Inmuno/output_data/Q50846819.tsv\n",
      "Saved grouped data for Q code Q15502494 to /mnt/c/Users/quirosgu/Desktop/Inmuno/output_data/Q15502494.tsv\n",
      "Saved grouped data for Q code Q43372103 to /mnt/c/Users/quirosgu/Desktop/Inmuno/output_data/Q43372103.tsv\n",
      "Saved grouped data for Q code Q11127145 to /mnt/c/Users/quirosgu/Desktop/Inmuno/output_data/Q11127145.tsv\n",
      "Saved grouped data for Q code Q1330992 to /mnt/c/Users/quirosgu/Desktop/Inmuno/output_data/Q1330992.tsv\n",
      "Saved grouped data for Q code Q162117 to /mnt/c/Users/quirosgu/Desktop/Inmuno/output_data/Q162117.tsv\n",
      "Saved grouped data for Q code Q1672259 to /mnt/c/Users/quirosgu/Desktop/Inmuno/output_data/Q1672259.tsv\n",
      "Saved grouped data for Q code Q15568994 to /mnt/c/Users/quirosgu/Desktop/Inmuno/output_data/Q15568994.tsv\n",
      "Saved grouped data for Q code Q3163048 to /mnt/c/Users/quirosgu/Desktop/Inmuno/output_data/Q3163048.tsv\n",
      "Saved grouped data for Q code Q15467921 to /mnt/c/Users/quirosgu/Desktop/Inmuno/output_data/Q15467921.tsv\n",
      "Failed to retrieve data for Q code Q15288897. Status code: 429\n",
      "Saved grouped data for Q code Q15598153 to /mnt/c/Users/quirosgu/Desktop/Inmuno/output_data/Q15598153.tsv\n",
      "Saved grouped data for Q code Q1760533 to /mnt/c/Users/quirosgu/Desktop/Inmuno/output_data/Q1760533.tsv\n",
      "Saved grouped data for Q code Q332469 to /mnt/c/Users/quirosgu/Desktop/Inmuno/output_data/Q332469.tsv\n",
      "Failed to retrieve data for Q code Q182448. Status code: 429\n",
      "Saved grouped data for Q code Q15337880 to /mnt/c/Users/quirosgu/Desktop/Inmuno/output_data/Q15337880.tsv\n",
      "Saved grouped data for Q code Q15613116 to /mnt/c/Users/quirosgu/Desktop/Inmuno/output_data/Q15613116.tsv\n",
      "Saved grouped data for Q code Q15432557 to /mnt/c/Users/quirosgu/Desktop/Inmuno/output_data/Q15432557.tsv\n",
      "Saved grouped data for Q code Q15471009 to /mnt/c/Users/quirosgu/Desktop/Inmuno/output_data/Q15471009.tsv\n",
      "Saved grouped data for Q code Q17551560 to /mnt/c/Users/quirosgu/Desktop/Inmuno/output_data/Q17551560.tsv\n",
      "Saved grouped data for Q code Q17584503 to /mnt/c/Users/quirosgu/Desktop/Inmuno/output_data/Q17584503.tsv\n",
      "Saved grouped data for Q code Q15469680 to /mnt/c/Users/quirosgu/Desktop/Inmuno/output_data/Q15469680.tsv\n",
      "Failed to retrieve data for Q code Not Found. Status code: 400\n",
      "Saved grouped data for Q code Q15357631 to /mnt/c/Users/quirosgu/Desktop/Inmuno/output_data/Q15357631.tsv\n",
      "Saved grouped data for Q code Q15477328 to /mnt/c/Users/quirosgu/Desktop/Inmuno/output_data/Q15477328.tsv\n",
      "Saved grouped data for Q code Q168042 to /mnt/c/Users/quirosgu/Desktop/Inmuno/output_data/Q168042.tsv\n",
      "Saved grouped data for Q code Q15531888 to /mnt/c/Users/quirosgu/Desktop/Inmuno/output_data/Q15531888.tsv\n",
      "Saved grouped data for Q code Q15523112 to /mnt/c/Users/quirosgu/Desktop/Inmuno/output_data/Q15523112.tsv\n",
      "Saved grouped data for Q code Q15375506 to /mnt/c/Users/quirosgu/Desktop/Inmuno/output_data/Q15375506.tsv\n",
      "Saved grouped data for Q code Q15364734 to /mnt/c/Users/quirosgu/Desktop/Inmuno/output_data/Q15364734.tsv\n",
      "Saved grouped data for Q code Q55879736 to /mnt/c/Users/quirosgu/Desktop/Inmuno/output_data/Q55879736.tsv\n",
      "Saved grouped data for Q code Q18112872 to /mnt/c/Users/quirosgu/Desktop/Inmuno/output_data/Q18112872.tsv\n",
      "Saved grouped data for Q code Q43373466 to /mnt/c/Users/quirosgu/Desktop/Inmuno/output_data/Q43373466.tsv\n",
      "Saved grouped data for Q code Q15393683 to /mnt/c/Users/quirosgu/Desktop/Inmuno/output_data/Q15393683.tsv\n",
      "Saved grouped data for Q code Q15396943 to /mnt/c/Users/quirosgu/Desktop/Inmuno/output_data/Q15396943.tsv\n",
      "Saved grouped data for Q code Q15397711 to /mnt/c/Users/quirosgu/Desktop/Inmuno/output_data/Q15397711.tsv\n",
      "Saved grouped data for Q code Q2717688 to /mnt/c/Users/quirosgu/Desktop/Inmuno/output_data/Q2717688.tsv\n",
      "Saved grouped data for Q code Q15447942 to /mnt/c/Users/quirosgu/Desktop/Inmuno/output_data/Q15447942.tsv\n",
      "Saved grouped data for Q code Q148532 to /mnt/c/Users/quirosgu/Desktop/Inmuno/output_data/Q148532.tsv\n",
      "Saved grouped data for Q code Q234238 to /mnt/c/Users/quirosgu/Desktop/Inmuno/output_data/Q234238.tsv\n",
      "Saved grouped data for Q code Q2464662 to /mnt/c/Users/quirosgu/Desktop/Inmuno/output_data/Q2464662.tsv\n",
      "Saved grouped data for Q code Q150452 to /mnt/c/Users/quirosgu/Desktop/Inmuno/output_data/Q150452.tsv\n",
      "Saved grouped data for Q code Q144670 to /mnt/c/Users/quirosgu/Desktop/Inmuno/output_data/Q144670.tsv\n",
      "Saved grouped data for Q code Q15608959 to /mnt/c/Users/quirosgu/Desktop/Inmuno/output_data/Q15608959.tsv\n",
      "Saved grouped data for Q code Q15478932 to /mnt/c/Users/quirosgu/Desktop/Inmuno/output_data/Q15478932.tsv\n",
      "Saved grouped data for Q code Q6050389 to /mnt/c/Users/quirosgu/Desktop/Inmuno/output_data/Q6050389.tsv\n",
      "Saved grouped data for Q code Q15367938 to /mnt/c/Users/quirosgu/Desktop/Inmuno/output_data/Q15367938.tsv\n",
      "Saved grouped data for Q code Q15573034 to /mnt/c/Users/quirosgu/Desktop/Inmuno/output_data/Q15573034.tsv\n",
      "Saved grouped data for Q code Q15553498 to /mnt/c/Users/quirosgu/Desktop/Inmuno/output_data/Q15553498.tsv\n",
      "Saved grouped data for Q code Q3887771 to /mnt/c/Users/quirosgu/Desktop/Inmuno/output_data/Q3887771.tsv\n",
      "Saved grouped data for Q code Q15484900 to /mnt/c/Users/quirosgu/Desktop/Inmuno/output_data/Q15484900.tsv\n",
      "Saved grouped data for Q code Q50846435 to /mnt/c/Users/quirosgu/Desktop/Inmuno/output_data/Q50846435.tsv\n",
      "Saved grouped data for Q code Q2063965 to /mnt/c/Users/quirosgu/Desktop/Inmuno/output_data/Q2063965.tsv\n",
      "Saved grouped data for Q code Q2321967 to /mnt/c/Users/quirosgu/Desktop/Inmuno/output_data/Q2321967.tsv\n",
      "Saved grouped data for Q code Q15488531 to /mnt/c/Users/quirosgu/Desktop/Inmuno/output_data/Q15488531.tsv\n",
      "Saved grouped data for Q code Q5972602 to /mnt/c/Users/quirosgu/Desktop/Inmuno/output_data/Q5972602.tsv\n",
      "Saved grouped data for Q code Q11815583 to /mnt/c/Users/quirosgu/Desktop/Inmuno/output_data/Q11815583.tsv\n",
      "Saved grouped data for Q code Q15606062 to /mnt/c/Users/quirosgu/Desktop/Inmuno/output_data/Q15606062.tsv\n",
      "Saved grouped data for Q code Q1606492 to /mnt/c/Users/quirosgu/Desktop/Inmuno/output_data/Q1606492.tsv\n",
      "Saved grouped data for Q code Q15610265 to /mnt/c/Users/quirosgu/Desktop/Inmuno/output_data/Q15610265.tsv\n",
      "Saved grouped data for Q code Q15312826 to /mnt/c/Users/quirosgu/Desktop/Inmuno/output_data/Q15312826.tsv\n",
      "Saved grouped data for Q code Q144322 to /mnt/c/Users/quirosgu/Desktop/Inmuno/output_data/Q144322.tsv\n",
      "Saved grouped data for Q code Q7188495 to /mnt/c/Users/quirosgu/Desktop/Inmuno/output_data/Q7188495.tsv\n",
      "Saved grouped data for Q code Q12219768 to /mnt/c/Users/quirosgu/Desktop/Inmuno/output_data/Q12219768.tsv\n",
      "Saved grouped data for Q code Q17586813 to /mnt/c/Users/quirosgu/Desktop/Inmuno/output_data/Q17586813.tsv\n",
      "Saved grouped data for Q code Q110666042 to /mnt/c/Users/quirosgu/Desktop/Inmuno/output_data/Q110666042.tsv\n",
      "Saved grouped data for Q code Q15601163 to /mnt/c/Users/quirosgu/Desktop/Inmuno/output_data/Q15601163.tsv\n",
      "Saved grouped data for Q code Q15603602 to /mnt/c/Users/quirosgu/Desktop/Inmuno/output_data/Q15603602.tsv\n",
      "Saved grouped data for Q code Q15604543 to /mnt/c/Users/quirosgu/Desktop/Inmuno/output_data/Q15604543.tsv\n",
      "Failed to retrieve data for Q code Q15606320. Status code: 429\n",
      "Saved grouped data for Q code Q15591891 to /mnt/c/Users/quirosgu/Desktop/Inmuno/output_data/Q15591891.tsv\n",
      "Saved grouped data for Q code Q5476022 to /mnt/c/Users/quirosgu/Desktop/Inmuno/output_data/Q5476022.tsv\n",
      "Saved grouped data for Q code Q55935331 to /mnt/c/Users/quirosgu/Desktop/Inmuno/output_data/Q55935331.tsv\n",
      "Saved grouped data for Q code Q15553281 to /mnt/c/Users/quirosgu/Desktop/Inmuno/output_data/Q15553281.tsv\n",
      "Failed to retrieve data for Q code Q1097328. Status code: 429\n",
      "Saved grouped data for Q code Q5980290 to /mnt/c/Users/quirosgu/Desktop/Inmuno/output_data/Q5980290.tsv\n",
      "Saved grouped data for Q code Q10352100 to /mnt/c/Users/quirosgu/Desktop/Inmuno/output_data/Q10352100.tsv\n",
      "Saved grouped data for Q code Q600793 to /mnt/c/Users/quirosgu/Desktop/Inmuno/output_data/Q600793.tsv\n",
      "Saved grouped data for Q code Q6089768 to /mnt/c/Users/quirosgu/Desktop/Inmuno/output_data/Q6089768.tsv\n",
      "Saved grouped data for Q code Q15479818 to /mnt/c/Users/quirosgu/Desktop/Inmuno/output_data/Q15479818.tsv\n",
      "Saved grouped data for Q code Q15537084 to /mnt/c/Users/quirosgu/Desktop/Inmuno/output_data/Q15537084.tsv\n",
      "Saved grouped data for Q code Q28819997 to /mnt/c/Users/quirosgu/Desktop/Inmuno/output_data/Q28819997.tsv\n",
      "Saved grouped data for Q code Q15495113 to /mnt/c/Users/quirosgu/Desktop/Inmuno/output_data/Q15495113.tsv\n",
      "Saved grouped data for Q code Q67193328 to /mnt/c/Users/quirosgu/Desktop/Inmuno/output_data/Q67193328.tsv\n",
      "Saved grouped data for Q code Q7262580 to /mnt/c/Users/quirosgu/Desktop/Inmuno/output_data/Q7262580.tsv\n",
      "Saved grouped data for Q code Q135389 to /mnt/c/Users/quirosgu/Desktop/Inmuno/output_data/Q135389.tsv\n",
      "Saved grouped data for Q code Q15338790 to /mnt/c/Users/quirosgu/Desktop/Inmuno/output_data/Q15338790.tsv\n",
      "Saved grouped data for Q code Q15375053 to /mnt/c/Users/quirosgu/Desktop/Inmuno/output_data/Q15375053.tsv\n",
      "Saved grouped data for Q code Q15435840 to /mnt/c/Users/quirosgu/Desktop/Inmuno/output_data/Q15435840.tsv\n",
      "Saved grouped data for Q code Q15436074 to /mnt/c/Users/quirosgu/Desktop/Inmuno/output_data/Q15436074.tsv\n",
      "Saved grouped data for Q code Q15376747 to /mnt/c/Users/quirosgu/Desktop/Inmuno/output_data/Q15376747.tsv\n",
      "Saved grouped data for Q code Q15374366 to /mnt/c/Users/quirosgu/Desktop/Inmuno/output_data/Q15374366.tsv\n",
      "Saved grouped data for Q code Q15334943 to /mnt/c/Users/quirosgu/Desktop/Inmuno/output_data/Q15334943.tsv\n",
      "Saved grouped data for Q code Q853914 to /mnt/c/Users/quirosgu/Desktop/Inmuno/output_data/Q853914.tsv\n",
      "Saved grouped data for Q code Q15555200 to /mnt/c/Users/quirosgu/Desktop/Inmuno/output_data/Q15555200.tsv\n",
      "Saved grouped data for Q code Q5436334 to /mnt/c/Users/quirosgu/Desktop/Inmuno/output_data/Q5436334.tsv\n",
      "Saved grouped data for Q code Q15549873 to /mnt/c/Users/quirosgu/Desktop/Inmuno/output_data/Q15549873.tsv\n",
      "Saved grouped data for Q code Q15057501 to /mnt/c/Users/quirosgu/Desktop/Inmuno/output_data/Q15057501.tsv\n",
      "Saved grouped data for Q code Q7377841 to /mnt/c/Users/quirosgu/Desktop/Inmuno/output_data/Q7377841.tsv\n",
      "Saved grouped data for Q code Q3391243 to /mnt/c/Users/quirosgu/Desktop/Inmuno/output_data/Q3391243.tsv\n",
      "Saved grouped data for Q code Q17566084 to /mnt/c/Users/quirosgu/Desktop/Inmuno/output_data/Q17566084.tsv\n",
      "Saved grouped data for Q code Q259500 to /mnt/c/Users/quirosgu/Desktop/Inmuno/output_data/Q259500.tsv\n",
      "Saved grouped data for Q code Q5859273 to /mnt/c/Users/quirosgu/Desktop/Inmuno/output_data/Q5859273.tsv\n",
      "Saved grouped data for Q code Q15379566 to /mnt/c/Users/quirosgu/Desktop/Inmuno/output_data/Q15379566.tsv\n",
      "Saved grouped data for Q code Q15366241 to /mnt/c/Users/quirosgu/Desktop/Inmuno/output_data/Q15366241.tsv\n",
      "Saved grouped data for Q code Q15345651 to /mnt/c/Users/quirosgu/Desktop/Inmuno/output_data/Q15345651.tsv\n",
      "Saved grouped data for Q code Q2711230 to /mnt/c/Users/quirosgu/Desktop/Inmuno/output_data/Q2711230.tsv\n",
      "Saved grouped data for Q code Q15562981 to /mnt/c/Users/quirosgu/Desktop/Inmuno/output_data/Q15562981.tsv\n",
      "Saved grouped data for Q code Q17351916 to /mnt/c/Users/quirosgu/Desktop/Inmuno/output_data/Q17351916.tsv\n",
      "Saved grouped data for Q code Q15563877 to /mnt/c/Users/quirosgu/Desktop/Inmuno/output_data/Q15563877.tsv\n",
      "Saved grouped data for Q code Q50326244 to /mnt/c/Users/quirosgu/Desktop/Inmuno/output_data/Q50326244.tsv\n",
      "Saved grouped data for Q code Q15557984 to /mnt/c/Users/quirosgu/Desktop/Inmuno/output_data/Q15557984.tsv\n",
      "Saved grouped data for Q code Q15535713 to /mnt/c/Users/quirosgu/Desktop/Inmuno/output_data/Q15535713.tsv\n",
      "Saved grouped data for Q code Q15599569 to /mnt/c/Users/quirosgu/Desktop/Inmuno/output_data/Q15599569.tsv\n",
      "Saved grouped data for Q code Q15348500 to /mnt/c/Users/quirosgu/Desktop/Inmuno/output_data/Q15348500.tsv\n",
      "Saved grouped data for Q code Q2295155 to /mnt/c/Users/quirosgu/Desktop/Inmuno/output_data/Q2295155.tsv\n",
      "Saved grouped data for Q code Q15532787 to /mnt/c/Users/quirosgu/Desktop/Inmuno/output_data/Q15532787.tsv\n",
      "Saved grouped data for Q code Q15533130 to /mnt/c/Users/quirosgu/Desktop/Inmuno/output_data/Q15533130.tsv\n",
      "Saved grouped data for Q code Q15534583 to /mnt/c/Users/quirosgu/Desktop/Inmuno/output_data/Q15534583.tsv\n",
      "Saved grouped data for Q code Q15536849 to /mnt/c/Users/quirosgu/Desktop/Inmuno/output_data/Q15536849.tsv\n",
      "Saved grouped data for Q code Q15537449 to /mnt/c/Users/quirosgu/Desktop/Inmuno/output_data/Q15537449.tsv\n",
      "Saved grouped data for Q code Q15538200 to /mnt/c/Users/quirosgu/Desktop/Inmuno/output_data/Q15538200.tsv\n",
      "Saved grouped data for Q code Q17401125 to /mnt/c/Users/quirosgu/Desktop/Inmuno/output_data/Q17401125.tsv\n",
      "Saved grouped data for Q code Q15538442 to /mnt/c/Users/quirosgu/Desktop/Inmuno/output_data/Q15538442.tsv\n",
      "Saved grouped data for Q code Q15480762 to /mnt/c/Users/quirosgu/Desktop/Inmuno/output_data/Q15480762.tsv\n",
      "Saved grouped data for Q code Q15594912 to /mnt/c/Users/quirosgu/Desktop/Inmuno/output_data/Q15594912.tsv\n",
      "Saved grouped data for Q code Q9340113 to /mnt/c/Users/quirosgu/Desktop/Inmuno/output_data/Q9340113.tsv\n",
      "Saved grouped data for Q code Q7578948 to /mnt/c/Users/quirosgu/Desktop/Inmuno/output_data/Q7578948.tsv\n",
      "Saved grouped data for Q code Q15348772 to /mnt/c/Users/quirosgu/Desktop/Inmuno/output_data/Q15348772.tsv\n",
      "Saved grouped data for Q code Q17565541 to /mnt/c/Users/quirosgu/Desktop/Inmuno/output_data/Q17565541.tsv\n",
      "Saved grouped data for Q code Q15544832 to /mnt/c/Users/quirosgu/Desktop/Inmuno/output_data/Q15544832.tsv\n",
      "Saved grouped data for Q code Q15349206 to /mnt/c/Users/quirosgu/Desktop/Inmuno/output_data/Q15349206.tsv\n",
      "Saved grouped data for Q code Q49523637 to /mnt/c/Users/quirosgu/Desktop/Inmuno/output_data/Q49523637.tsv\n",
      "Saved grouped data for Q code Q13403357 to /mnt/c/Users/quirosgu/Desktop/Inmuno/output_data/Q13403357.tsv\n",
      "Saved grouped data for Q code Q31936 to /mnt/c/Users/quirosgu/Desktop/Inmuno/output_data/Q31936.tsv\n",
      "Saved grouped data for Q code Q15549607 to /mnt/c/Users/quirosgu/Desktop/Inmuno/output_data/Q15549607.tsv\n",
      "Saved grouped data for Q code Q715899 to /mnt/c/Users/quirosgu/Desktop/Inmuno/output_data/Q715899.tsv\n",
      "Saved grouped data for Q code Q15529660 to /mnt/c/Users/quirosgu/Desktop/Inmuno/output_data/Q15529660.tsv\n",
      "Saved grouped data for Q code Q17248087 to /mnt/c/Users/quirosgu/Desktop/Inmuno/output_data/Q17248087.tsv\n",
      "Saved grouped data for Q code Q15598512 to /mnt/c/Users/quirosgu/Desktop/Inmuno/output_data/Q15598512.tsv\n",
      "Saved grouped data for Q code Q15384264 to /mnt/c/Users/quirosgu/Desktop/Inmuno/output_data/Q15384264.tsv\n",
      "Saved grouped data for Q code Q15525761 to /mnt/c/Users/quirosgu/Desktop/Inmuno/output_data/Q15525761.tsv\n",
      "Saved grouped data for Q code Q15526615 to /mnt/c/Users/quirosgu/Desktop/Inmuno/output_data/Q15526615.tsv\n",
      "Saved grouped data for Q code Q10280832 to /mnt/c/Users/quirosgu/Desktop/Inmuno/output_data/Q10280832.tsv\n",
      "Saved grouped data for Q code Q50876289 to /mnt/c/Users/quirosgu/Desktop/Inmuno/output_data/Q50876289.tsv\n",
      "Saved grouped data for Q code Q15553726 to /mnt/c/Users/quirosgu/Desktop/Inmuno/output_data/Q15553726.tsv\n",
      "Saved grouped data for Q code Q21304319 to /mnt/c/Users/quirosgu/Desktop/Inmuno/output_data/Q21304319.tsv\n",
      "Saved grouped data for Q code Q48682711 to /mnt/c/Users/quirosgu/Desktop/Inmuno/output_data/Q48682711.tsv\n",
      "Saved grouped data for Q code Q15490748 to /mnt/c/Users/quirosgu/Desktop/Inmuno/output_data/Q15490748.tsv\n",
      "Saved grouped data for Q code Q15332877 to /mnt/c/Users/quirosgu/Desktop/Inmuno/output_data/Q15332877.tsv\n",
      "Saved grouped data for Q code Q15601401 to /mnt/c/Users/quirosgu/Desktop/Inmuno/output_data/Q15601401.tsv\n",
      "Saved grouped data for Q code Q7983179 to /mnt/c/Users/quirosgu/Desktop/Inmuno/output_data/Q7983179.tsv\n",
      "Saved grouped data for Q code Q17140701 to /mnt/c/Users/quirosgu/Desktop/Inmuno/output_data/Q17140701.tsv\n",
      "Saved grouped data for Q code Q4118130 to /mnt/c/Users/quirosgu/Desktop/Inmuno/output_data/Q4118130.tsv\n",
      "Saved grouped data for Q code Q10395363 to /mnt/c/Users/quirosgu/Desktop/Inmuno/output_data/Q10395363.tsv\n"
     ]
    }
   ],
   "source": [
    "# Define your SPARQL query template\n",
    "sparql_template = \"\"\"\n",
    "SELECT ?chemical_compound ?chemical_compoundLabel ?smiles_canonical ?mf ?mass ?chembl ?chemblLabel ?queried_taxa ?queried_taxaLabel ?reference ?referenceLabel\n",
    "WHERE {\n",
    "  ?chemical_compound wdt:P235 ?inchikey.\n",
    "  OPTIONAL { ?chemical_compound wdt:P231 ?cas. }\n",
    "  OPTIONAL { ?chemical_compound wdt:P233 ?smiles_canonical. }\n",
    "  OPTIONAL { ?chemical_compound wdt:P234 ?inchi. }\n",
    "  OPTIONAL { ?chemical_compound wdt:P592 ?chembl. }\n",
    "  OPTIONAL { ?chemical_compound wdt:P662 ?pubchem. }\n",
    "  OPTIONAL { ?chemical_compound wdt:P683 ?chebi. }\n",
    "  OPTIONAL { ?chemical_compound wdt:P2017 ?smiles_isomeric. }\n",
    "  OPTIONAL { ?chemical_compound wdt:P274 ?mf. }\n",
    "  OPTIONAL { ?chemical_compound wdt:P2067 ?mass. }\n",
    "  VALUES ?queried_taxa {\n",
    "    wd:%s\n",
    "  }\n",
    "  {\n",
    "    ?chemical_compound p:P703 ?stmt.\n",
    "    ?queried_taxall (wdt:P171*) ?queried_taxa.\n",
    "    ?stmt ps:P703 ?queried_taxall.\n",
    "  }\n",
    "  OPTIONAL {\n",
    "    ?stmt prov:wasDerivedFrom ?ref.\n",
    "    ?ref pr:P248 ?reference.\n",
    "  }\n",
    "  SERVICE wikibase:label { bd:serviceParam wikibase:language \"[AUTO_LANGUAGE],en\". }\n",
    "}\n",
    "\"\"\"\n",
    "# Define the Wikidata Query Service endpoint URL\n",
    "endpoint_url = \"https://query.wikidata.org/sparql\"\n",
    "\n",
    "# Define the number of requests allowed per minute (adjust according to Wikidata's rate limits)\n",
    "requests_per_minute = 40\n",
    "\n",
    "# Create the output folder if it doesn't exist\n",
    "os.makedirs(output_folder, exist_ok=True)\n",
    "\n",
    "# Iterate through all CSV files in the input folder\n",
    "for filename in os.listdir(input_folder):\n",
    "    if filename.endswith('.csv'):\n",
    "        input_file = os.path.join(input_folder, filename)\n",
    "\n",
    "        # Load the CSV file with Q codes\n",
    "        q_codes_df = pd.read_csv(input_file)\n",
    "\n",
    "        # Iterate through the Q codes and run the SPARQL query with rate limiting\n",
    "        for q_code in q_codes_df['wikidata_Qcode']:\n",
    "            # Construct the specific query with the Q code\n",
    "            sparql_query = sparql_template % q_code\n",
    "\n",
    "            # Query Wikidata for chemical compounds and save the results\n",
    "            response = requests.get(endpoint_url, headers={'Accept': 'text/csv'}, params={'query': sparql_query})\n",
    "\n",
    "            if response.status_code == 200:\n",
    "                csv_data = response.text\n",
    "                df = pd.read_csv(StringIO(csv_data))\n",
    "\n",
    "                # Group and aggregate the data for the specific Q code as described in the previous answer\n",
    "                grouped_df = df.groupby(\"chemical_compound\").agg({\n",
    "                    \"chemical_compoundLabel\": \"first\",\n",
    "                    \"smiles_canonical\": \"first\",\n",
    "                    \"mf\": \"first\",\n",
    "                    \"mass\": \"first\",\n",
    "                    \"chembl\": \"first\",\n",
    "                    \"chemblLabel\": \"first\",\n",
    "                    \"queried_taxa\": \"first\",\n",
    "                    \"queried_taxaLabel\": \"first\",\n",
    "                    \"reference\": \"|\".join,\n",
    "                    \"referenceLabel\": \"|\".join\n",
    "                }).reset_index()\n",
    "\n",
    "                # Save the grouped data as a CSV file with the Q code as the filename\n",
    "                output_filename = os.path.join(output_folder, f\"{q_code}.tsv\")\n",
    "                grouped_df.to_csv(output_filename, index=False, sep='\\t')  # Use tab as the separator\n",
    "\n",
    "                print(f\"Saved grouped data for Q code {q_code} to {output_filename}\")\n",
    "            else:\n",
    "                print(f\"Failed to retrieve data for Q code {q_code}. Status code: {response.status_code}\")\n",
    "\n",
    "            # Implement rate limiting by waiting between requests\n",
    "            time.sleep(60 / requests_per_minute)  # Wait for one minute divided by the desired requests per minute\n"
   ]
  },
  {
   "cell_type": "markdown",
   "metadata": {},
   "source": [
    "NOW LETS UPDATE THE CHEMICAL CLASSES OF THE REPORTED COMPOUNDS IN ALL THE FILES"
   ]
  },
  {
   "cell_type": "code",
   "execution_count": 111,
   "metadata": {},
   "outputs": [
    {
     "name": "stdout",
     "output_type": "stream",
     "text": [
      "Saved updated CSV with predictions to /mnt/c/Users/quirosgu/Desktop/Inmuno/output_data/Q10280832.tsv\n",
      "Saved updated CSV with predictions to /mnt/c/Users/quirosgu/Desktop/Inmuno/output_data/Q10299053.tsv\n",
      "Saved updated CSV with predictions to /mnt/c/Users/quirosgu/Desktop/Inmuno/output_data/Q10306429.tsv\n",
      "Saved updated CSV with predictions to /mnt/c/Users/quirosgu/Desktop/Inmuno/output_data/Q10352100.tsv\n",
      "Saved updated CSV with predictions to /mnt/c/Users/quirosgu/Desktop/Inmuno/output_data/Q10395363.tsv\n",
      "Saved updated CSV with predictions to /mnt/c/Users/quirosgu/Desktop/Inmuno/output_data/Q1043450.tsv\n",
      "Error processing JSON for SMILES: O=C(C1=CC=2C=CC(OC2C=C1O)(OC)C)C\n",
      "Saved updated CSV with predictions to /mnt/c/Users/quirosgu/Desktop/Inmuno/output_data/Q104912462.tsv\n",
      "Saved updated CSV with predictions to /mnt/c/Users/quirosgu/Desktop/Inmuno/output_data/Q10890773.tsv\n",
      "Saved updated CSV with predictions to /mnt/c/Users/quirosgu/Desktop/Inmuno/output_data/Q110666042.tsv\n",
      "Saved updated CSV with predictions to /mnt/c/Users/quirosgu/Desktop/Inmuno/output_data/Q11079071.tsv\n",
      "Saved updated CSV with predictions to /mnt/c/Users/quirosgu/Desktop/Inmuno/output_data/Q11127145.tsv\n",
      "Saved updated CSV with predictions to /mnt/c/Users/quirosgu/Desktop/Inmuno/output_data/Q1140089.tsv\n",
      "Saved updated CSV with predictions to /mnt/c/Users/quirosgu/Desktop/Inmuno/output_data/Q11815583.tsv\n",
      "Saved updated CSV with predictions to /mnt/c/Users/quirosgu/Desktop/Inmuno/output_data/Q12175320.tsv\n",
      "Saved updated CSV with predictions to /mnt/c/Users/quirosgu/Desktop/Inmuno/output_data/Q12219768.tsv\n",
      "Saved updated CSV with predictions to /mnt/c/Users/quirosgu/Desktop/Inmuno/output_data/Q12488371.tsv\n",
      "Saved updated CSV with predictions to /mnt/c/Users/quirosgu/Desktop/Inmuno/output_data/Q1317365.tsv\n",
      "Saved updated CSV with predictions to /mnt/c/Users/quirosgu/Desktop/Inmuno/output_data/Q1330992.tsv\n",
      "Saved updated CSV with predictions to /mnt/c/Users/quirosgu/Desktop/Inmuno/output_data/Q13403357.tsv\n",
      "Saved updated CSV with predictions to /mnt/c/Users/quirosgu/Desktop/Inmuno/output_data/Q135127.tsv\n",
      "Saved updated CSV with predictions to /mnt/c/Users/quirosgu/Desktop/Inmuno/output_data/Q1353278.tsv\n",
      "Saved updated CSV with predictions to /mnt/c/Users/quirosgu/Desktop/Inmuno/output_data/Q135389.tsv\n",
      "Error processing JSON for SMILES: O=C1C2=CC=C(O)C=C2OCC1=CC3=CC=C4OCOC4=C3\n",
      "Error processing JSON for SMILES: O=C1C2=CC=C(O)C=C2OCC1=CC3=CC=C4OCOC4=C3\n",
      "Error processing JSON for SMILES: O=C1C2=CC=C(OC)C=C2OCC1=CC3=CC=C4OCOC4=C3\n",
      "Error processing JSON for SMILES: O=C1C2=CC=C(OC)C=C2OCC1=CC3=CC=C4OCOC4=C3\n",
      "Error processing JSON for SMILES: O=C1C=2OCC=3C=4OCOC4C=CC3C2OC=5C=C(OC)C(OC)=C(O)C15\n",
      "Error processing JSON for SMILES: O=C1C2=CC(OC)=C(OC)C=C2OCC1=CC3=CC=C(OC)C(O)=C3\n",
      "Error processing JSON for SMILES: O=C1C2=CC(OC)=C(OC)C=C2OCC1=CC3=CC=C(OC)C(O)=C3\n",
      "Error processing JSON for SMILES: O=C1C2=CC=C(O)C=C2OCC1=CC3=CC(OC)=C(OC)C(OC)=C3\n",
      "Error processing JSON for SMILES: O=C1C2=CC=C(O)C=C2OCC1=CC3=CC(OC)=C(OC)C(OC)=C3\n",
      "Error processing JSON for SMILES: O=C1C=2OCC=3C=4OCOC4C=CC3C2OC=5C=C(OC)C=C(O)C15\n",
      "Error processing JSON for SMILES: O=C1C2=CC=C(OC)C=C2OCC1=CC3=CC=C(OC)C(OC)=C3\n",
      "Error processing JSON for SMILES: O=C1C(OC)=C(OC2=CC(OC)=C(OC)C(O)=C12)C3C=C(O)C(OC)=C(OC)C3\n",
      "Error processing JSON for SMILES: COC1=CC2=C(C=C1)C(=O)C(=CC3=CC(=C(C=C3)OC)OC)CO2\n",
      "Saved updated CSV with predictions to /mnt/c/Users/quirosgu/Desktop/Inmuno/output_data/Q1428973.tsv\n",
      "Saved updated CSV with predictions to /mnt/c/Users/quirosgu/Desktop/Inmuno/output_data/Q144322.tsv\n",
      "Saved updated CSV with predictions to /mnt/c/Users/quirosgu/Desktop/Inmuno/output_data/Q144670.tsv\n",
      "Error processing JSON for SMILES: C1=CC=C(C(=C1)N)S\n",
      "Saved updated CSV with predictions to /mnt/c/Users/quirosgu/Desktop/Inmuno/output_data/Q148532.tsv\n",
      "Error processing JSON for SMILES: S=C=NCCCCCCCCSC\n",
      "Error processing JSON for SMILES: S=C=NCCCCCCCSC\n",
      "Error processing JSON for SMILES: C1=CC=C(C=C1)CCC#N\n",
      "Error processing JSON for SMILES: C1=CC=C(C=C1)CCN=C=S\n",
      "Saved updated CSV with predictions to /mnt/c/Users/quirosgu/Desktop/Inmuno/output_data/Q150452.tsv\n",
      "Saved updated CSV with predictions to /mnt/c/Users/quirosgu/Desktop/Inmuno/output_data/Q15057501.tsv\n",
      "Saved updated CSV with predictions to /mnt/c/Users/quirosgu/Desktop/Inmuno/output_data/Q15232465.tsv\n",
      "Saved updated CSV with predictions to /mnt/c/Users/quirosgu/Desktop/Inmuno/output_data/Q15250450.tsv\n",
      "Saved updated CSV with predictions to /mnt/c/Users/quirosgu/Desktop/Inmuno/output_data/Q15287263.tsv\n",
      "Saved updated CSV with predictions to /mnt/c/Users/quirosgu/Desktop/Inmuno/output_data/Q15312826.tsv\n",
      "Saved updated CSV with predictions to /mnt/c/Users/quirosgu/Desktop/Inmuno/output_data/Q15313056.tsv\n",
      "Saved updated CSV with predictions to /mnt/c/Users/quirosgu/Desktop/Inmuno/output_data/Q15318795.tsv\n",
      "Saved updated CSV with predictions to /mnt/c/Users/quirosgu/Desktop/Inmuno/output_data/Q15320656.tsv\n",
      "Saved updated CSV with predictions to /mnt/c/Users/quirosgu/Desktop/Inmuno/output_data/Q15324297.tsv\n",
      "Saved updated CSV with predictions to /mnt/c/Users/quirosgu/Desktop/Inmuno/output_data/Q15331063.tsv\n",
      "Saved updated CSV with predictions to /mnt/c/Users/quirosgu/Desktop/Inmuno/output_data/Q15332877.tsv\n",
      "Saved updated CSV with predictions to /mnt/c/Users/quirosgu/Desktop/Inmuno/output_data/Q15334943.tsv\n",
      "Saved updated CSV with predictions to /mnt/c/Users/quirosgu/Desktop/Inmuno/output_data/Q15337356.tsv\n",
      "Saved updated CSV with predictions to /mnt/c/Users/quirosgu/Desktop/Inmuno/output_data/Q15337880.tsv\n",
      "Saved updated CSV with predictions to /mnt/c/Users/quirosgu/Desktop/Inmuno/output_data/Q15338790.tsv\n",
      "Saved updated CSV with predictions to /mnt/c/Users/quirosgu/Desktop/Inmuno/output_data/Q15339270.tsv\n",
      "Saved updated CSV with predictions to /mnt/c/Users/quirosgu/Desktop/Inmuno/output_data/Q15341503.tsv\n",
      "Saved updated CSV with predictions to /mnt/c/Users/quirosgu/Desktop/Inmuno/output_data/Q15344491.tsv\n",
      "Saved updated CSV with predictions to /mnt/c/Users/quirosgu/Desktop/Inmuno/output_data/Q15345651.tsv\n",
      "Saved updated CSV with predictions to /mnt/c/Users/quirosgu/Desktop/Inmuno/output_data/Q15348500.tsv\n",
      "Saved updated CSV with predictions to /mnt/c/Users/quirosgu/Desktop/Inmuno/output_data/Q15348729.tsv\n",
      "Saved updated CSV with predictions to /mnt/c/Users/quirosgu/Desktop/Inmuno/output_data/Q15348772.tsv\n",
      "Error processing JSON for SMILES: O=C1C=2C(O)=CC(O)=CC2OC(=C3C=CC(O)(OC)C=C3)C1O\n",
      "Error processing JSON for SMILES: O=C1C=2C(O)=CC(O)=CC2OC(=C3C=CC(O)(OC)C=C3)C1\n",
      "Saved updated CSV with predictions to /mnt/c/Users/quirosgu/Desktop/Inmuno/output_data/Q15348798.tsv\n",
      "Saved updated CSV with predictions to /mnt/c/Users/quirosgu/Desktop/Inmuno/output_data/Q15349206.tsv\n",
      "Saved updated CSV with predictions to /mnt/c/Users/quirosgu/Desktop/Inmuno/output_data/Q15357631.tsv\n",
      "Saved updated CSV with predictions to /mnt/c/Users/quirosgu/Desktop/Inmuno/output_data/Q15364734.tsv\n",
      "Saved updated CSV with predictions to /mnt/c/Users/quirosgu/Desktop/Inmuno/output_data/Q15366241.tsv\n",
      "Saved updated CSV with predictions to /mnt/c/Users/quirosgu/Desktop/Inmuno/output_data/Q15367938.tsv\n",
      "Saved updated CSV with predictions to /mnt/c/Users/quirosgu/Desktop/Inmuno/output_data/Q15371226.tsv\n",
      "Saved updated CSV with predictions to /mnt/c/Users/quirosgu/Desktop/Inmuno/output_data/Q15373210.tsv\n",
      "Saved updated CSV with predictions to /mnt/c/Users/quirosgu/Desktop/Inmuno/output_data/Q15373239.tsv\n",
      "Error processing JSON for SMILES: O[Si](O)(O)O\n",
      "Saved updated CSV with predictions to /mnt/c/Users/quirosgu/Desktop/Inmuno/output_data/Q15374366.tsv\n",
      "Saved updated CSV with predictions to /mnt/c/Users/quirosgu/Desktop/Inmuno/output_data/Q15375053.tsv\n",
      "Saved updated CSV with predictions to /mnt/c/Users/quirosgu/Desktop/Inmuno/output_data/Q15375506.tsv\n",
      "Saved updated CSV with predictions to /mnt/c/Users/quirosgu/Desktop/Inmuno/output_data/Q15376475.tsv\n",
      "Saved updated CSV with predictions to /mnt/c/Users/quirosgu/Desktop/Inmuno/output_data/Q15376747.tsv\n",
      "Saved updated CSV with predictions to /mnt/c/Users/quirosgu/Desktop/Inmuno/output_data/Q15379566.tsv\n",
      "Saved updated CSV with predictions to /mnt/c/Users/quirosgu/Desktop/Inmuno/output_data/Q15383418.tsv\n",
      "Saved updated CSV with predictions to /mnt/c/Users/quirosgu/Desktop/Inmuno/output_data/Q15384264.tsv\n",
      "Saved updated CSV with predictions to /mnt/c/Users/quirosgu/Desktop/Inmuno/output_data/Q15384605.tsv\n",
      "Saved updated CSV with predictions to /mnt/c/Users/quirosgu/Desktop/Inmuno/output_data/Q15387384.tsv\n",
      "Saved updated CSV with predictions to /mnt/c/Users/quirosgu/Desktop/Inmuno/output_data/Q15387620.tsv\n",
      "Saved updated CSV with predictions to /mnt/c/Users/quirosgu/Desktop/Inmuno/output_data/Q15387668.tsv\n",
      "Saved updated CSV with predictions to /mnt/c/Users/quirosgu/Desktop/Inmuno/output_data/Q15391131.tsv\n",
      "Saved updated CSV with predictions to /mnt/c/Users/quirosgu/Desktop/Inmuno/output_data/Q15392758.tsv\n",
      "Saved updated CSV with predictions to /mnt/c/Users/quirosgu/Desktop/Inmuno/output_data/Q15393186.tsv\n",
      "Saved updated CSV with predictions to /mnt/c/Users/quirosgu/Desktop/Inmuno/output_data/Q15393584.tsv\n",
      "Saved updated CSV with predictions to /mnt/c/Users/quirosgu/Desktop/Inmuno/output_data/Q15393683.tsv\n",
      "Saved updated CSV with predictions to /mnt/c/Users/quirosgu/Desktop/Inmuno/output_data/Q15394067.tsv\n",
      "Saved updated CSV with predictions to /mnt/c/Users/quirosgu/Desktop/Inmuno/output_data/Q15395163.tsv\n",
      "Saved updated CSV with predictions to /mnt/c/Users/quirosgu/Desktop/Inmuno/output_data/Q15396304.tsv\n",
      "Saved updated CSV with predictions to /mnt/c/Users/quirosgu/Desktop/Inmuno/output_data/Q15396943.tsv\n",
      "Error processing JSON for SMILES: COC1=CC(=CC(=C1OC)OC)OC2C(C(C(C(O2)COC3C(C(CO3)(CO)O)O)O)O)O\n",
      "Saved updated CSV with predictions to /mnt/c/Users/quirosgu/Desktop/Inmuno/output_data/Q15396944.tsv\n",
      "Saved updated CSV with predictions to /mnt/c/Users/quirosgu/Desktop/Inmuno/output_data/Q15397711.tsv\n",
      "Saved updated CSV with predictions to /mnt/c/Users/quirosgu/Desktop/Inmuno/output_data/Q15397864.tsv\n",
      "Saved updated CSV with predictions to /mnt/c/Users/quirosgu/Desktop/Inmuno/output_data/Q15399421.tsv\n",
      "Saved updated CSV with predictions to /mnt/c/Users/quirosgu/Desktop/Inmuno/output_data/Q15399631.tsv\n",
      "Saved updated CSV with predictions to /mnt/c/Users/quirosgu/Desktop/Inmuno/output_data/Q15401274.tsv\n",
      "Saved updated CSV with predictions to /mnt/c/Users/quirosgu/Desktop/Inmuno/output_data/Q15432557.tsv\n",
      "Saved updated CSV with predictions to /mnt/c/Users/quirosgu/Desktop/Inmuno/output_data/Q15435840.tsv\n",
      "Saved updated CSV with predictions to /mnt/c/Users/quirosgu/Desktop/Inmuno/output_data/Q15436074.tsv\n",
      "Error processing JSON for SMILES: OC1CC=2C=CC=3C(OC)=CC=CC3C2OC1(C)C\n",
      "Error processing JSON for SMILES: OC1CC=2C=CC=3C=CC=CC3C2OC1(C)C\n",
      "Saved updated CSV with predictions to /mnt/c/Users/quirosgu/Desktop/Inmuno/output_data/Q15443900.tsv\n",
      "Saved updated CSV with predictions to /mnt/c/Users/quirosgu/Desktop/Inmuno/output_data/Q15447942.tsv\n",
      "Saved updated CSV with predictions to /mnt/c/Users/quirosgu/Desktop/Inmuno/output_data/Q15457271.tsv\n",
      "Saved updated CSV with predictions to /mnt/c/Users/quirosgu/Desktop/Inmuno/output_data/Q15457484.tsv\n",
      "Saved updated CSV with predictions to /mnt/c/Users/quirosgu/Desktop/Inmuno/output_data/Q15458083.tsv\n",
      "Saved updated CSV with predictions to /mnt/c/Users/quirosgu/Desktop/Inmuno/output_data/Q15459428.tsv\n",
      "Saved updated CSV with predictions to /mnt/c/Users/quirosgu/Desktop/Inmuno/output_data/Q15460898.tsv\n",
      "Saved updated CSV with predictions to /mnt/c/Users/quirosgu/Desktop/Inmuno/output_data/Q15462028.tsv\n",
      "Saved updated CSV with predictions to /mnt/c/Users/quirosgu/Desktop/Inmuno/output_data/Q15464421.tsv\n",
      "Saved updated CSV with predictions to /mnt/c/Users/quirosgu/Desktop/Inmuno/output_data/Q15467921.tsv\n",
      "Saved updated CSV with predictions to /mnt/c/Users/quirosgu/Desktop/Inmuno/output_data/Q15469680.tsv\n",
      "Saved updated CSV with predictions to /mnt/c/Users/quirosgu/Desktop/Inmuno/output_data/Q15471009.tsv\n",
      "Saved updated CSV with predictions to /mnt/c/Users/quirosgu/Desktop/Inmuno/output_data/Q15471496.tsv\n",
      "Saved updated CSV with predictions to /mnt/c/Users/quirosgu/Desktop/Inmuno/output_data/Q15471701.tsv\n",
      "Saved updated CSV with predictions to /mnt/c/Users/quirosgu/Desktop/Inmuno/output_data/Q15473365.tsv\n",
      "Saved updated CSV with predictions to /mnt/c/Users/quirosgu/Desktop/Inmuno/output_data/Q15476416.tsv\n",
      "Saved updated CSV with predictions to /mnt/c/Users/quirosgu/Desktop/Inmuno/output_data/Q15477328.tsv\n",
      "Saved updated CSV with predictions to /mnt/c/Users/quirosgu/Desktop/Inmuno/output_data/Q15478932.tsv\n",
      "Saved updated CSV with predictions to /mnt/c/Users/quirosgu/Desktop/Inmuno/output_data/Q15479818.tsv\n",
      "Saved updated CSV with predictions to /mnt/c/Users/quirosgu/Desktop/Inmuno/output_data/Q15480762.tsv\n",
      "Saved updated CSV with predictions to /mnt/c/Users/quirosgu/Desktop/Inmuno/output_data/Q15484900.tsv\n",
      "Saved updated CSV with predictions to /mnt/c/Users/quirosgu/Desktop/Inmuno/output_data/Q15488531.tsv\n",
      "Saved updated CSV with predictions to /mnt/c/Users/quirosgu/Desktop/Inmuno/output_data/Q15490685.tsv\n",
      "Saved updated CSV with predictions to /mnt/c/Users/quirosgu/Desktop/Inmuno/output_data/Q15490748.tsv\n",
      "Saved updated CSV with predictions to /mnt/c/Users/quirosgu/Desktop/Inmuno/output_data/Q15492162.tsv\n",
      "Saved updated CSV with predictions to /mnt/c/Users/quirosgu/Desktop/Inmuno/output_data/Q15493816.tsv\n",
      "Saved updated CSV with predictions to /mnt/c/Users/quirosgu/Desktop/Inmuno/output_data/Q15495113.tsv\n",
      "Saved updated CSV with predictions to /mnt/c/Users/quirosgu/Desktop/Inmuno/output_data/Q15500679.tsv\n",
      "Saved updated CSV with predictions to /mnt/c/Users/quirosgu/Desktop/Inmuno/output_data/Q15502494.tsv\n",
      "Saved updated CSV with predictions to /mnt/c/Users/quirosgu/Desktop/Inmuno/output_data/Q15506735.tsv\n",
      "Saved updated CSV with predictions to /mnt/c/Users/quirosgu/Desktop/Inmuno/output_data/Q15507751.tsv\n",
      "Saved updated CSV with predictions to /mnt/c/Users/quirosgu/Desktop/Inmuno/output_data/Q15513903.tsv\n",
      "Saved updated CSV with predictions to /mnt/c/Users/quirosgu/Desktop/Inmuno/output_data/Q15523112.tsv\n",
      "Saved updated CSV with predictions to /mnt/c/Users/quirosgu/Desktop/Inmuno/output_data/Q15525761.tsv\n",
      "Saved updated CSV with predictions to /mnt/c/Users/quirosgu/Desktop/Inmuno/output_data/Q15526424.tsv\n",
      "Saved updated CSV with predictions to /mnt/c/Users/quirosgu/Desktop/Inmuno/output_data/Q15526615.tsv\n",
      "Saved updated CSV with predictions to /mnt/c/Users/quirosgu/Desktop/Inmuno/output_data/Q15529660.tsv\n",
      "Saved updated CSV with predictions to /mnt/c/Users/quirosgu/Desktop/Inmuno/output_data/Q15531517.tsv\n",
      "Saved updated CSV with predictions to /mnt/c/Users/quirosgu/Desktop/Inmuno/output_data/Q15531888.tsv\n",
      "Saved updated CSV with predictions to /mnt/c/Users/quirosgu/Desktop/Inmuno/output_data/Q15532787.tsv\n",
      "Saved updated CSV with predictions to /mnt/c/Users/quirosgu/Desktop/Inmuno/output_data/Q15533130.tsv\n",
      "Saved updated CSV with predictions to /mnt/c/Users/quirosgu/Desktop/Inmuno/output_data/Q15534583.tsv\n",
      "Saved updated CSV with predictions to /mnt/c/Users/quirosgu/Desktop/Inmuno/output_data/Q15535713.tsv\n",
      "Saved updated CSV with predictions to /mnt/c/Users/quirosgu/Desktop/Inmuno/output_data/Q15536135.tsv\n",
      "Saved updated CSV with predictions to /mnt/c/Users/quirosgu/Desktop/Inmuno/output_data/Q15536508.tsv\n",
      "Saved updated CSV with predictions to /mnt/c/Users/quirosgu/Desktop/Inmuno/output_data/Q15536849.tsv\n",
      "Saved updated CSV with predictions to /mnt/c/Users/quirosgu/Desktop/Inmuno/output_data/Q15537084.tsv\n",
      "Saved updated CSV with predictions to /mnt/c/Users/quirosgu/Desktop/Inmuno/output_data/Q15537449.tsv\n",
      "Saved updated CSV with predictions to /mnt/c/Users/quirosgu/Desktop/Inmuno/output_data/Q15538200.tsv\n",
      "Saved updated CSV with predictions to /mnt/c/Users/quirosgu/Desktop/Inmuno/output_data/Q15538442.tsv\n",
      "Saved updated CSV with predictions to /mnt/c/Users/quirosgu/Desktop/Inmuno/output_data/Q15544832.tsv\n",
      "Saved updated CSV with predictions to /mnt/c/Users/quirosgu/Desktop/Inmuno/output_data/Q15546614.tsv\n",
      "Saved updated CSV with predictions to /mnt/c/Users/quirosgu/Desktop/Inmuno/output_data/Q15547182.tsv\n",
      "Saved updated CSV with predictions to /mnt/c/Users/quirosgu/Desktop/Inmuno/output_data/Q15547718.tsv\n",
      "Saved updated CSV with predictions to /mnt/c/Users/quirosgu/Desktop/Inmuno/output_data/Q15549607.tsv\n",
      "Saved updated CSV with predictions to /mnt/c/Users/quirosgu/Desktop/Inmuno/output_data/Q15549873.tsv\n",
      "Saved updated CSV with predictions to /mnt/c/Users/quirosgu/Desktop/Inmuno/output_data/Q15553281.tsv\n",
      "Saved updated CSV with predictions to /mnt/c/Users/quirosgu/Desktop/Inmuno/output_data/Q15553498.tsv\n",
      "Saved updated CSV with predictions to /mnt/c/Users/quirosgu/Desktop/Inmuno/output_data/Q15553726.tsv\n",
      "Error processing JSON for SMILES: O=C(OC1C(OC(=O)C=CC)C(O)(C(=O)C2OC2C(C)CC3OC(=O)C(=C)C31)C)C=CC\n",
      "Error processing JSON for SMILES: O=C(OC1=C(OC)C=C(C=CC)C=C1OC)C(C)C\n",
      "Error processing JSON for SMILES: O=C(OC1=C(OC)C=C(C=CC)C=C1OC)C(C)C\n",
      "Saved updated CSV with predictions to /mnt/c/Users/quirosgu/Desktop/Inmuno/output_data/Q15554410.tsv\n",
      "Saved updated CSV with predictions to /mnt/c/Users/quirosgu/Desktop/Inmuno/output_data/Q15555200.tsv\n",
      "Saved updated CSV with predictions to /mnt/c/Users/quirosgu/Desktop/Inmuno/output_data/Q15557984.tsv\n",
      "Saved updated CSV with predictions to /mnt/c/Users/quirosgu/Desktop/Inmuno/output_data/Q15560885.tsv\n",
      "Saved updated CSV with predictions to /mnt/c/Users/quirosgu/Desktop/Inmuno/output_data/Q15562981.tsv\n",
      "Saved updated CSV with predictions to /mnt/c/Users/quirosgu/Desktop/Inmuno/output_data/Q15563877.tsv\n",
      "Saved updated CSV with predictions to /mnt/c/Users/quirosgu/Desktop/Inmuno/output_data/Q15565299.tsv\n",
      "Saved updated CSV with predictions to /mnt/c/Users/quirosgu/Desktop/Inmuno/output_data/Q15568994.tsv\n",
      "Saved updated CSV with predictions to /mnt/c/Users/quirosgu/Desktop/Inmuno/output_data/Q15573034.tsv\n",
      "Saved updated CSV with predictions to /mnt/c/Users/quirosgu/Desktop/Inmuno/output_data/Q15575790.tsv\n",
      "Saved updated CSV with predictions to /mnt/c/Users/quirosgu/Desktop/Inmuno/output_data/Q15577068.tsv\n",
      "Saved updated CSV with predictions to /mnt/c/Users/quirosgu/Desktop/Inmuno/output_data/Q15581202.tsv\n",
      "Saved updated CSV with predictions to /mnt/c/Users/quirosgu/Desktop/Inmuno/output_data/Q15586829.tsv\n",
      "Saved updated CSV with predictions to /mnt/c/Users/quirosgu/Desktop/Inmuno/output_data/Q15588567.tsv\n",
      "Saved updated CSV with predictions to /mnt/c/Users/quirosgu/Desktop/Inmuno/output_data/Q15591891.tsv\n",
      "Saved updated CSV with predictions to /mnt/c/Users/quirosgu/Desktop/Inmuno/output_data/Q15593376.tsv\n",
      "Saved updated CSV with predictions to /mnt/c/Users/quirosgu/Desktop/Inmuno/output_data/Q15594912.tsv\n",
      "Saved updated CSV with predictions to /mnt/c/Users/quirosgu/Desktop/Inmuno/output_data/Q15598153.tsv\n",
      "Saved updated CSV with predictions to /mnt/c/Users/quirosgu/Desktop/Inmuno/output_data/Q15598512.tsv\n",
      "Saved updated CSV with predictions to /mnt/c/Users/quirosgu/Desktop/Inmuno/output_data/Q15598546.tsv\n",
      "Saved updated CSV with predictions to /mnt/c/Users/quirosgu/Desktop/Inmuno/output_data/Q15599569.tsv\n",
      "Saved updated CSV with predictions to /mnt/c/Users/quirosgu/Desktop/Inmuno/output_data/Q15601163.tsv\n",
      "Saved updated CSV with predictions to /mnt/c/Users/quirosgu/Desktop/Inmuno/output_data/Q15601401.tsv\n",
      "Saved updated CSV with predictions to /mnt/c/Users/quirosgu/Desktop/Inmuno/output_data/Q15602003.tsv\n",
      "Error processing JSON for SMILES: O=C(O)C1=CC=CC(=C1O)CC=C(C)CCC=C(C)CCC=C(C)C\n",
      "Saved updated CSV with predictions to /mnt/c/Users/quirosgu/Desktop/Inmuno/output_data/Q15603602.tsv\n",
      "Saved updated CSV with predictions to /mnt/c/Users/quirosgu/Desktop/Inmuno/output_data/Q15604543.tsv\n",
      "Saved updated CSV with predictions to /mnt/c/Users/quirosgu/Desktop/Inmuno/output_data/Q15604947.tsv\n",
      "Saved updated CSV with predictions to /mnt/c/Users/quirosgu/Desktop/Inmuno/output_data/Q15606062.tsv\n",
      "Saved updated CSV with predictions to /mnt/c/Users/quirosgu/Desktop/Inmuno/output_data/Q15608959.tsv\n",
      "Saved updated CSV with predictions to /mnt/c/Users/quirosgu/Desktop/Inmuno/output_data/Q15610265.tsv\n",
      "Saved updated CSV with predictions to /mnt/c/Users/quirosgu/Desktop/Inmuno/output_data/Q15613116.tsv\n",
      "Saved updated CSV with predictions to /mnt/c/Users/quirosgu/Desktop/Inmuno/output_data/Q158110.tsv\n",
      "Saved updated CSV with predictions to /mnt/c/Users/quirosgu/Desktop/Inmuno/output_data/Q159717.tsv\n",
      "Saved updated CSV with predictions to /mnt/c/Users/quirosgu/Desktop/Inmuno/output_data/Q1602492.tsv\n",
      "Saved updated CSV with predictions to /mnt/c/Users/quirosgu/Desktop/Inmuno/output_data/Q1606492.tsv\n",
      "Error processing JSON for SMILES: O=C(OCC1OC(OC2=CC3=CC(=CC(=C3C=C2OC)C)C)C(O)C(O)C1O)C45CCCC(C)(C)C5CCC6CC(C)(CC)CCC64\n",
      "Error processing JSON for SMILES: O=C(OC1COC(OC=2C=CC=3C(=CC(=CC3C)C)C2OC)C(O)C1O)C45CCCC(C)(C)C5CCC6CC(C)(CC)CCC64\n",
      "Error processing JSON for SMILES: O=C(C)C(O)O\n",
      "Error processing JSON for SMILES: OC=1C=CC=CC1COC2OC(CO)C(O)C(O)C2O\n",
      "Error processing JSON for SMILES: O=C(O)C(=O)OC1C(O)=C(C=CC1)C(=O)O\n",
      "Error processing JSON for SMILES: O=C1C(OC2OC(CO)C(OC(CCC(C)CCCC(C)CCCC(C)C)C(C)CC)C(O)C2O)=C(OC=3C=C(O)C=C(O)C13)C=4C=CC(OC)=CC4\n",
      "Error processing JSON for SMILES: O=CC=1C=2N=C(C=C3C(=C4C(=O)C(C(=O)OC)C=5C6=NC(=CC7=C(C(C=C)=C(C2)N7[Mg]N3C45)C)C(C)C6CCC(=O)OCC=C(C)CCCC(C)CCCC(C)CCCC(C)C)C)C1CC\n",
      "API Error for SMILES: O=C(OCC=C(C)CCCC(C)CCCC(C)CCCC(C)C)CCC1C=2C3=C4C(C(=O)C3C(=O)OC)=C(C5=CC=6C(=C(C7=CC8=C(C=C)C(=C9C=C([N+]2[Mg](N89)(N54)[N+]76)C1C)C)C)CC)C\n",
      "Error processing JSON for SMILES: C(=O)O\n",
      "Error processing JSON for SMILES: C[N+](C)(C)CCO\n",
      "Error processing JSON for SMILES: CN(C)C1=CC2=C(C=C1)C(=C3C=CC(=[N+](C)C)C=C3O2)C4=CC=CC=C4\n",
      "Error processing JSON for SMILES: C1=CC=C(C=C1)C=O\n",
      "Error processing JSON for SMILES: O[Si](O)(O)O\n",
      "Saved updated CSV with predictions to /mnt/c/Users/quirosgu/Desktop/Inmuno/output_data/Q161093.tsv\n",
      "Error processing JSON for SMILES: OC(=NCCCNCCCCN=C(O)C(=CC)C)C(=CC)C\n",
      "Error processing JSON for SMILES: OC(=NCCCNCCCCN=C(O)C(=CC)C)C(=CC)C\n",
      "Error processing JSON for SMILES: CCCCOC1C(C(C(C(O1)CO)O)O)O\n",
      "Error processing JSON for SMILES: COC1=CC=C(C=C1)CO\n",
      "Saved updated CSV with predictions to /mnt/c/Users/quirosgu/Desktop/Inmuno/output_data/Q162117.tsv\n",
      "Error processing JSON for SMILES: O=CC=CC1=CC(OC)=C2OCOC2=C1\n",
      "Error processing JSON for SMILES: O=CC=CC1=CC(OC)=C2OCOC2=C1\n",
      "Saved updated CSV with predictions to /mnt/c/Users/quirosgu/Desktop/Inmuno/output_data/Q164094.tsv\n",
      "Saved updated CSV with predictions to /mnt/c/Users/quirosgu/Desktop/Inmuno/output_data/Q1672259.tsv\n",
      "Saved updated CSV with predictions to /mnt/c/Users/quirosgu/Desktop/Inmuno/output_data/Q168042.tsv\n",
      "Saved updated CSV with predictions to /mnt/c/Users/quirosgu/Desktop/Inmuno/output_data/Q17024682.tsv\n",
      "Saved updated CSV with predictions to /mnt/c/Users/quirosgu/Desktop/Inmuno/output_data/Q17140701.tsv\n",
      "Saved updated CSV with predictions to /mnt/c/Users/quirosgu/Desktop/Inmuno/output_data/Q17246257.tsv\n",
      "Saved updated CSV with predictions to /mnt/c/Users/quirosgu/Desktop/Inmuno/output_data/Q17248087.tsv\n",
      "Saved updated CSV with predictions to /mnt/c/Users/quirosgu/Desktop/Inmuno/output_data/Q17351916.tsv\n",
      "Saved updated CSV with predictions to /mnt/c/Users/quirosgu/Desktop/Inmuno/output_data/Q17395072.tsv\n",
      "Saved updated CSV with predictions to /mnt/c/Users/quirosgu/Desktop/Inmuno/output_data/Q17398458.tsv\n",
      "Saved updated CSV with predictions to /mnt/c/Users/quirosgu/Desktop/Inmuno/output_data/Q17401125.tsv\n",
      "Saved updated CSV with predictions to /mnt/c/Users/quirosgu/Desktop/Inmuno/output_data/Q17551560.tsv\n",
      "Saved updated CSV with predictions to /mnt/c/Users/quirosgu/Desktop/Inmuno/output_data/Q17565541.tsv\n",
      "Saved updated CSV with predictions to /mnt/c/Users/quirosgu/Desktop/Inmuno/output_data/Q17566084.tsv\n",
      "Saved updated CSV with predictions to /mnt/c/Users/quirosgu/Desktop/Inmuno/output_data/Q17584503.tsv\n",
      "Error processing JSON for SMILES: O=C1C=2C(O)=CC=CC2C3=CC=CC=4C(=CC(O)=C1C34)C\n",
      "Saved updated CSV with predictions to /mnt/c/Users/quirosgu/Desktop/Inmuno/output_data/Q17586813.tsv\n",
      "Error processing JSON for SMILES: OC=1C=C(OC)C(OC2OC(CO)C(O)C(O)C2O)=C(OC)C1\n",
      "Error processing JSON for SMILES: OC1=CC=C(OC2OC(CO)C(O)C(O)C2O)C=C1OC\n",
      "Error processing JSON for SMILES: O=C(OCC1OC(OC2=CC=C(O)C(OC)=C2)C(O)C(O)C1O)C3=CC(O)=C(O)C(O)=C3\n",
      "Error processing JSON for SMILES: O=C1OC2=C(O)C(OC)=CC=3C(=O)OC=4C(OC)=C(OC)C=C1C4C23\n",
      "Error processing JSON for SMILES: O=C(OC(CCC)CCCCCCCC=1C=C(O)C=C(OS(=O)(=O)O)C1)C=2C(O)=CC(O)=CC2CCCCCCCC(OC(=O)C)CCC\n",
      "Error processing JSON for SMILES: O=C(OCC1OC(OC=2C=C(OC)C(O)=C(OC)C2)C(O)C(O)C1O)C3=CC(O)=C(O)C(O)=C3\n",
      "Error processing JSON for SMILES: O=C1OC2=C(OC)C(OC)=CC=3C(=O)OC=4C(OC)=C(OC)C=C1C4C23\n",
      "Error processing JSON for SMILES: O=C(C1=CC=C(O)C(OC)=C1)C(O)CO\n",
      "Error processing JSON for SMILES: COC1=CC(=CC(=C1O)OC)OC2C(C(C(C(O2)CO)O)O)O\n",
      "Error processing JSON for SMILES: COC1=C(C=CC(=C1)CO)OC2C(C(C(C(O2)CO)O)O)O\n",
      "Error processing JSON for SMILES: C1=CC=C(C=C1)COC2C(C(C(C(O2)CO)O)O)O\n",
      "Saved updated CSV with predictions to /mnt/c/Users/quirosgu/Desktop/Inmuno/output_data/Q1760533.tsv\n",
      "Saved updated CSV with predictions to /mnt/c/Users/quirosgu/Desktop/Inmuno/output_data/Q18082984.tsv\n",
      "Saved updated CSV with predictions to /mnt/c/Users/quirosgu/Desktop/Inmuno/output_data/Q18112872.tsv\n",
      "Saved updated CSV with predictions to /mnt/c/Users/quirosgu/Desktop/Inmuno/output_data/Q1882542.tsv\n",
      "Error processing JSON for SMILES: O=C(OCC(N=C(O)C(N=C(O)C=1C=CC=CC1)CC=2C=CC=CC2)CC=3C=CC=CC3)C\n",
      "Error processing JSON for SMILES: O1C=2C=C(OC)C(OC)=CC2C=C1C(C)C\n",
      "Error processing JSON for SMILES: O=C(C=1C=C2C(OC(C(=C)CO)C2)=CC1O)C\n",
      "Error processing JSON for SMILES: O=C1C2=CC(OC)=C(OC)C=C2OC(C=C(C)C)(C)C1\n",
      "Error processing JSON for SMILES: OCC1OC(OC=2C=CC=3C=CC(OC3C2)(C)C)C(O)C(O)C1O\n",
      "Error processing JSON for SMILES: O=C(C(C)C)C1(OC=2C=C(OC)C(OC)=CC2C=C1)C\n",
      "Error processing JSON for SMILES: O(C1=CC=2OC(C=CC2C=C1C(OCC)C)(C)C)C\n",
      "Error processing JSON for SMILES: O(C1=CC=2OC(C=CC2C=C1C(OC(C3=CC=4C=CC(OC4C=C3OC)(C)C)C)C)(C)C)C\n",
      "Error processing JSON for SMILES: O(C1=CC=2OC(C=CC2C=C1C(OC(C3=CC=4C=CC(OC4C=C3OC)(C)C)C)C)(C)C)C\n",
      "Error processing JSON for SMILES: CC1=CCC(=C(C)C)CC1\n",
      "Error processing JSON for SMILES: CC1(C2CC3C1(C3C2)C)C\n",
      "Error processing JSON for SMILES: CC1=CC(=C(C=C1)O)C(=O)C\n",
      "Saved updated CSV with predictions to /mnt/c/Users/quirosgu/Desktop/Inmuno/output_data/Q1949712.tsv\n",
      "Saved updated CSV with predictions to /mnt/c/Users/quirosgu/Desktop/Inmuno/output_data/Q2001703.tsv\n",
      "Error processing JSON for SMILES: OC(=NC(CO)C(O)C(O)CCCCCCCC=CCCCCCCCCCCC)CCCCCCCCCCCCCCCCC\n",
      "Saved updated CSV with predictions to /mnt/c/Users/quirosgu/Desktop/Inmuno/output_data/Q2063965.tsv\n",
      "Saved updated CSV with predictions to /mnt/c/Users/quirosgu/Desktop/Inmuno/output_data/Q21250345.tsv\n",
      "Saved updated CSV with predictions to /mnt/c/Users/quirosgu/Desktop/Inmuno/output_data/Q21304319.tsv\n",
      "Error processing JSON for SMILES: OC(C)CC(OC1OC(COC2OCC(O)C(O)C2O)C(O)C(O)C1O)C\n",
      "Error processing JSON for SMILES: OCC1OC(OCCC(O)CCCCC)C(OC2OCC(O)(CO)C2O)C(O)C1O\n",
      "Error processing JSON for SMILES: O=C(O)C1=C(C)CC(O)C1CCO\n",
      "Error processing JSON for SMILES: OCC1OC(OCC2OC(OC(C)CC(O)C)C(O)C(O)C2O)C(O)C(O)C1O\n",
      "Error processing JSON for SMILES: O=C(C)CC(OC1OC(CO)C(O)C(O)C1O)C\n",
      "Error processing JSON for SMILES: OCC1OC(OC(C)CC(O)C)C(O)C(O)C1O\n",
      "Saved updated CSV with predictions to /mnt/c/Users/quirosgu/Desktop/Inmuno/output_data/Q214542.tsv\n",
      "Error processing JSON for SMILES: O1C2=CC=C(C=CCCCCCCCCCC)C=C2OC1\n",
      "Error processing JSON for SMILES: O1C2=CC=C(C=CCCCCCCCCCC)C=C2OC1\n",
      "Error processing JSON for SMILES: C1C2=CC(=C(C=C2C3C1(COC4=C3C=CC(=C4)O)O)O)O\n",
      "Saved updated CSV with predictions to /mnt/c/Users/quirosgu/Desktop/Inmuno/output_data/Q21874434.tsv\n",
      "Saved updated CSV with predictions to /mnt/c/Users/quirosgu/Desktop/Inmuno/output_data/Q2234016.tsv\n",
      "Saved updated CSV with predictions to /mnt/c/Users/quirosgu/Desktop/Inmuno/output_data/Q2295155.tsv\n",
      "Saved updated CSV with predictions to /mnt/c/Users/quirosgu/Desktop/Inmuno/output_data/Q2321967.tsv\n",
      "Error processing JSON for SMILES: O=C(OC1OC(CO)C(O)C(O)C1OC2OC(CO)C(O)C(O)C2O)CCCCC\n",
      "Error processing JSON for SMILES: O=C(OC)CCC1=CC(OC)=C(O)C=C1O\n",
      "Error processing JSON for SMILES: O=C(OC1OC(CO)C(O)C(O)C1OC2OC(CO)C(O)C(O)C2O)CCCCCCC\n",
      "Error processing JSON for SMILES: O=C(OCCCC)CCC1=CC(OC)=C(O)C=C1O\n",
      "Error processing JSON for SMILES: O=C(OCC1OC(OC(=O)CCCCCCC)C(O)C(O)C1O)CCCCCCC\n",
      "Error processing JSON for SMILES: O=C(OC1OC(CO)C(O)C(O)C1OC2OC(CO)C(O)C(O)C2O)CCCCCCC\n",
      "Error processing JSON for SMILES: OCC1OC(O)(CCC(=C)C)C(O)C(O)C1O\n",
      "Error processing JSON for SMILES: CC(=C)CCOC1C(C(C(C(O1)COC2C(C(C(C(O2)CO)O)O)O)O)O)O\n",
      "Error processing JSON for SMILES: CCCCCC(=O)OC1C(C(C(C(O1)COC2C(C(C(C(O2)CO)O)O)O)O)O)OC3C(C(C(C(O3)CO)O)O)O\n",
      "Error processing JSON for SMILES: COC1=C(C=CC(=C1)C(=O)CCO)O\n",
      "Saved updated CSV with predictions to /mnt/c/Users/quirosgu/Desktop/Inmuno/output_data/Q234238.tsv\n",
      "Error processing JSON for SMILES: C(=O)C(=O)O\n",
      "Saved updated CSV with predictions to /mnt/c/Users/quirosgu/Desktop/Inmuno/output_data/Q238486.tsv\n",
      "Saved updated CSV with predictions to /mnt/c/Users/quirosgu/Desktop/Inmuno/output_data/Q2464662.tsv\n",
      "Saved updated CSV with predictions to /mnt/c/Users/quirosgu/Desktop/Inmuno/output_data/Q259500.tsv\n",
      "Saved updated CSV with predictions to /mnt/c/Users/quirosgu/Desktop/Inmuno/output_data/Q2711230.tsv\n",
      "Saved updated CSV with predictions to /mnt/c/Users/quirosgu/Desktop/Inmuno/output_data/Q2714097.tsv\n",
      "Error processing JSON for SMILES: O=C(O)CCC=1C=CC=C(OC2OC(CO)C(O)C(O)C2O)C1\n",
      "Error processing JSON for SMILES: OC=1C=CC=2C=C(C3=CC=C(OC)C(O)=C3OC)COC2C1\n",
      "Error processing JSON for SMILES: OC=1C=CC=2C=C(C3=CC=C(OC)C(O)=C3O)COC2C1\n",
      "Saved updated CSV with predictions to /mnt/c/Users/quirosgu/Desktop/Inmuno/output_data/Q2717303.tsv\n",
      "Error processing JSON for SMILES: O=C1OC2C=C1C(O)C(O)C3OC3(C)CC4OC(=O)C(C)C24\n",
      "Saved updated CSV with predictions to /mnt/c/Users/quirosgu/Desktop/Inmuno/output_data/Q2717688.tsv\n",
      "Saved updated CSV with predictions to /mnt/c/Users/quirosgu/Desktop/Inmuno/output_data/Q275160.tsv\n",
      "Saved updated CSV with predictions to /mnt/c/Users/quirosgu/Desktop/Inmuno/output_data/Q28819997.tsv\n",
      "Saved updated CSV with predictions to /mnt/c/Users/quirosgu/Desktop/Inmuno/output_data/Q2980990.tsv\n",
      "Saved updated CSV with predictions to /mnt/c/Users/quirosgu/Desktop/Inmuno/output_data/Q2998776.tsv\n",
      "Saved updated CSV with predictions to /mnt/c/Users/quirosgu/Desktop/Inmuno/output_data/Q3004011.tsv\n",
      "Saved updated CSV with predictions to /mnt/c/Users/quirosgu/Desktop/Inmuno/output_data/Q3144082.tsv\n",
      "Error processing JSON for SMILES: O=C1C(=CC23OC3C(C)CC2C(=O)C4(C(=O)CC(C)(C)C4C1)C)C\n",
      "Error processing JSON for SMILES: O=C1C(=CC23OC3C(C)CC2C(=O)C4(C(=O)CC(C)(C)C4C1)C)C\n",
      "Error processing JSON for SMILES: O=C(OC)C(=CC=1C=CC=C2OCOC21)C(=CC=3C=CC=C4OCOC43)C(=O)OC\n",
      "Saved updated CSV with predictions to /mnt/c/Users/quirosgu/Desktop/Inmuno/output_data/Q3163048.tsv\n",
      "Saved updated CSV with predictions to /mnt/c/Users/quirosgu/Desktop/Inmuno/output_data/Q31936.tsv\n",
      "Error processing JSON for SMILES: CC1=CCC(=C(C)C)CC1\n",
      "Error processing JSON for SMILES: CC1(C2CCC(C23CCC1(C=C3)C)C=O)C\n",
      "Saved updated CSV with predictions to /mnt/c/Users/quirosgu/Desktop/Inmuno/output_data/Q332469.tsv\n",
      "Saved updated CSV with predictions to /mnt/c/Users/quirosgu/Desktop/Inmuno/output_data/Q3391243.tsv\n",
      "Error processing JSON for SMILES: O=C1C=C(OC2C=C(OC)C(=C(O)C12)C3OC(CO)C(O)C(O)C3O)C=4C=CC(O)=C(O)C4\n",
      "Error processing JSON for SMILES: O=C1C=2C=CC=CC2C(=O)N1C3C(O)C4OC4C(O)C5CC35\n",
      "Error processing JSON for SMILES: CC1=CCC(=C(C)C)CC1\n",
      "Error processing JSON for SMILES: CC1=NC2=CC=CC=C2O1\n",
      "Error processing JSON for SMILES: CC1=CC=C(C=C1)C(=C)C\n",
      "Error processing JSON for SMILES: CC(=O)C1=CC=CC=C1\n",
      "Error processing JSON for SMILES: C1C=CC=C1\n",
      "Error processing JSON for SMILES: C=CC(=CC=CC(C)C)C\n",
      "Saved updated CSV with predictions to /mnt/c/Users/quirosgu/Desktop/Inmuno/output_data/Q33913.tsv\n",
      "Saved updated CSV with predictions to /mnt/c/Users/quirosgu/Desktop/Inmuno/output_data/Q3585414.tsv\n",
      "Saved updated CSV with predictions to /mnt/c/Users/quirosgu/Desktop/Inmuno/output_data/Q3887771.tsv\n",
      "Saved updated CSV with predictions to /mnt/c/Users/quirosgu/Desktop/Inmuno/output_data/Q4118130.tsv\n",
      "Saved updated CSV with predictions to /mnt/c/Users/quirosgu/Desktop/Inmuno/output_data/Q42746921.tsv\n",
      "Saved updated CSV with predictions to /mnt/c/Users/quirosgu/Desktop/Inmuno/output_data/Q43372103.tsv\n",
      "Saved updated CSV with predictions to /mnt/c/Users/quirosgu/Desktop/Inmuno/output_data/Q43373466.tsv\n",
      "Saved updated CSV with predictions to /mnt/c/Users/quirosgu/Desktop/Inmuno/output_data/Q4676527.tsv\n",
      "Saved updated CSV with predictions to /mnt/c/Users/quirosgu/Desktop/Inmuno/output_data/Q4692127.tsv\n",
      "Saved updated CSV with predictions to /mnt/c/Users/quirosgu/Desktop/Inmuno/output_data/Q4744662.tsv\n",
      "Saved updated CSV with predictions to /mnt/c/Users/quirosgu/Desktop/Inmuno/output_data/Q4779309.tsv\n",
      "Saved updated CSV with predictions to /mnt/c/Users/quirosgu/Desktop/Inmuno/output_data/Q48682711.tsv\n",
      "Saved updated CSV with predictions to /mnt/c/Users/quirosgu/Desktop/Inmuno/output_data/Q49522122.tsv\n",
      "Saved updated CSV with predictions to /mnt/c/Users/quirosgu/Desktop/Inmuno/output_data/Q49523637.tsv\n",
      "Saved updated CSV with predictions to /mnt/c/Users/quirosgu/Desktop/Inmuno/output_data/Q50326244.tsv\n",
      "Saved updated CSV with predictions to /mnt/c/Users/quirosgu/Desktop/Inmuno/output_data/Q50839388.tsv\n",
      "Saved updated CSV with predictions to /mnt/c/Users/quirosgu/Desktop/Inmuno/output_data/Q50846435.tsv\n",
      "Saved updated CSV with predictions to /mnt/c/Users/quirosgu/Desktop/Inmuno/output_data/Q50846819.tsv\n",
      "Saved updated CSV with predictions to /mnt/c/Users/quirosgu/Desktop/Inmuno/output_data/Q50876289.tsv\n",
      "Saved updated CSV with predictions to /mnt/c/Users/quirosgu/Desktop/Inmuno/output_data/Q5141681.tsv\n",
      "Saved updated CSV with predictions to /mnt/c/Users/quirosgu/Desktop/Inmuno/output_data/Q5208908.tsv\n",
      "Saved updated CSV with predictions to /mnt/c/Users/quirosgu/Desktop/Inmuno/output_data/Q5396455.tsv\n",
      "Saved updated CSV with predictions to /mnt/c/Users/quirosgu/Desktop/Inmuno/output_data/Q5397254.tsv\n",
      "Saved updated CSV with predictions to /mnt/c/Users/quirosgu/Desktop/Inmuno/output_data/Q5436334.tsv\n",
      "Saved updated CSV with predictions to /mnt/c/Users/quirosgu/Desktop/Inmuno/output_data/Q5446654.tsv\n",
      "Saved updated CSV with predictions to /mnt/c/Users/quirosgu/Desktop/Inmuno/output_data/Q5476022.tsv\n",
      "Error processing JSON for SMILES: O=C(O)C=1C(O)=C(O)C=C2C1C(=O)C=C3C2(C)CCC4(C)C5CC(C(=O)OC)(C)CCC5(C)CCC34C\n",
      "Error processing JSON for SMILES: O=C1C=C2C(C3=CC(O)=C(O)C(=C13)C)(C)CCC4(C)C5CC(C(=O)OC)(C)CCC5(C)CCC24C\n",
      "Error processing JSON for SMILES: O=C1C=C2C(C3=CC(O)=C(O)C(O)=C13)(C)CCC4(C)C5CC(C(=O)OC)(C)CCC5(C)CCC24C\n",
      "Error processing JSON for SMILES: O=C1C(O)=C2C(C3=CC(O)=C(O)C(=C13)C)(C)CCC4(C)C5CC(C(=O)OC)(C)CCC5(C)CCC24C\n",
      "Error processing JSON for SMILES: CC1CC2C(CCC3(C2(CCC4(C3=CC=C5C4=CC(=O)C(=C5C)O)C)C)C)(CC1=O)C\n",
      "Error processing JSON for SMILES: CC1=C(C(=O)C=C2C1=CC=C3C2(CCC4(C3(CCC5(C4CC(CC5)(C)C(=O)O)C)C)C)C)O\n",
      "Error processing JSON for SMILES: O=C1C=C2C(=CC=C3C2(C)CCC4(C)C5CC(C(=O)CC5(C)CCC34C)C)C(=C1O)C\n",
      "Saved updated CSV with predictions to /mnt/c/Users/quirosgu/Desktop/Inmuno/output_data/Q55879736.tsv\n",
      "Saved updated CSV with predictions to /mnt/c/Users/quirosgu/Desktop/Inmuno/output_data/Q55935331.tsv\n",
      "Saved updated CSV with predictions to /mnt/c/Users/quirosgu/Desktop/Inmuno/output_data/Q5657528.tsv\n",
      "Saved updated CSV with predictions to /mnt/c/Users/quirosgu/Desktop/Inmuno/output_data/Q5702217.tsv\n",
      "Saved updated CSV with predictions to /mnt/c/Users/quirosgu/Desktop/Inmuno/output_data/Q570551.tsv\n",
      "Saved updated CSV with predictions to /mnt/c/Users/quirosgu/Desktop/Inmuno/output_data/Q5733430.tsv\n",
      "Saved updated CSV with predictions to /mnt/c/Users/quirosgu/Desktop/Inmuno/output_data/Q5741578.tsv\n",
      "Saved updated CSV with predictions to /mnt/c/Users/quirosgu/Desktop/Inmuno/output_data/Q5764728.tsv\n",
      "Saved updated CSV with predictions to /mnt/c/Users/quirosgu/Desktop/Inmuno/output_data/Q5771221.tsv\n",
      "Saved updated CSV with predictions to /mnt/c/Users/quirosgu/Desktop/Inmuno/output_data/Q5795462.tsv\n",
      "Saved updated CSV with predictions to /mnt/c/Users/quirosgu/Desktop/Inmuno/output_data/Q5795507.tsv\n",
      "Error processing JSON for SMILES: O=C1OCC2C(=C1)C3(NCC2)CC=CC(OC)C3\n",
      "Saved updated CSV with predictions to /mnt/c/Users/quirosgu/Desktop/Inmuno/output_data/Q5837307.tsv\n",
      "Saved updated CSV with predictions to /mnt/c/Users/quirosgu/Desktop/Inmuno/output_data/Q5859273.tsv\n",
      "Saved updated CSV with predictions to /mnt/c/Users/quirosgu/Desktop/Inmuno/output_data/Q5972602.tsv\n",
      "Saved updated CSV with predictions to /mnt/c/Users/quirosgu/Desktop/Inmuno/output_data/Q5980290.tsv\n",
      "Saved updated CSV with predictions to /mnt/c/Users/quirosgu/Desktop/Inmuno/output_data/Q600793.tsv\n",
      "Saved updated CSV with predictions to /mnt/c/Users/quirosgu/Desktop/Inmuno/output_data/Q6050389.tsv\n",
      "Saved updated CSV with predictions to /mnt/c/Users/quirosgu/Desktop/Inmuno/output_data/Q6089768.tsv\n",
      "Saved updated CSV with predictions to /mnt/c/Users/quirosgu/Desktop/Inmuno/output_data/Q6433663.tsv\n",
      "Saved updated CSV with predictions to /mnt/c/Users/quirosgu/Desktop/Inmuno/output_data/Q67193328.tsv\n",
      "Error processing JSON for SMILES: O=C1C(O)=CC=2C=CC=C3C=CC(C=4C=CC(O)=CC4)=C1C32\n",
      "Error processing JSON for SMILES: O(C1=CC=C2C3=C1C(OC)=C(C=4C(OC)=C5C(OC)=CC=C6C5=C(C4C=7C=CC=CC7)C(OC)CC6)C(C=8C=CC=CC8)=C3C(OC)CC2)C\n",
      "Error processing JSON for SMILES: O=C(OCC([N+](=O)[O-])CCCCCCCCCCN=C(O)C)C1=CC=C(C=C1C(=O)OCC([N+](=O)[O-])CCCCCCCCCCN=C(O)C)C\n",
      "Error processing JSON for SMILES: O(C=1C=CC(=CC1)C2=C(C(OC)=C3C(OC)=CC=C4C3=C2C(OC)CC4)C5=C(OC)C6=C(OC)C=CC7=C6C(=C5C8=CC=C(OC)C=C8)C(OC)CC7)C\n",
      "Error processing JSON for SMILES: O(C1=CC=C(C=C1)C=2C(=C(OC)C=3C(OC)=CC=C4C3C2C(OC)CC4)C=5C=C(C=6C=CC=CC6)C7=C8C(=CC(OC)=C(OC)C58)CCC7OC)C\n",
      "Error processing JSON for SMILES: OC1=CC=C2C=C(OC)C(O)=C3C2=C1CCC3C=4C=CC=CC4\n",
      "Error processing JSON for SMILES: O=C1C=CC2=CC(OC)=C(OC)C3=C(C=CC1=C23)C=4C=CC=CC4\n",
      "Error processing JSON for SMILES: O=C1OCCCCCC(=C(C)CCCCCOC(=O)C=2C=CC=CC12)C\n",
      "Error processing JSON for SMILES: O(C1=CC=C(C=C1)C2=C(C(OC)=C3C(OC)=CC=C4C3=C2C(OC)CC4)C5=C(OC)C(C=6C=CC=CC6)=C7C=8C(=CC=C(OC)C58)CCC7OC)C\n",
      "Error processing JSON for SMILES: ClC=1C=C2C(=CC1OCCN(CC)CC)C(=NN=C(O)C)C=3C=C(OCCCCN(CC)CC)C(Cl)=CC32\n",
      "Error processing JSON for SMILES: O=C1C=CC2=CC(OC)=C(OC)C3=C(C=CC1=C23)C=4C=CC(O)=CC4\n",
      "Error processing JSON for SMILES: OC(C=1C=CC=CC1)C=2C=CC=C(C2)C\n",
      "Error processing JSON for SMILES: C1=CC2=CC(=CC3=C2C(=C1)C=C(C3=O)O)C4=CC=C(C=C4)O\n",
      "Error processing JSON for SMILES: CCN(CC)C1=CC=C(C=C1)C(C)C2=CC=C(C=C2)N(CC)CC\n",
      "Saved updated CSV with predictions to /mnt/c/Users/quirosgu/Desktop/Inmuno/output_data/Q690645.tsv\n",
      "Error processing JSON for SMILES: O=CC1=C(O)C(=CC(O)=C1C=CCCCCC)CC=C(C)C\n",
      "Error processing JSON for SMILES: OC1=NC(C(O)=NC1C)CC=2C=3C=CC=CC3NC2C(C=C)(C)C\n",
      "Error processing JSON for SMILES: O=CC1=C(O)C(=CC=2OC(C)C3CCC(O)C3C21)CC=C(C)C\n",
      "Error processing JSON for SMILES: OC(=NCCC1=CC(OC)=C(O)C(OC)=C1)C=CC2=CC=C(O)C(OC)=C2\n",
      "Error processing JSON for SMILES: OC(=NCCC1=CC(OC)=C(O)C(OC)=C1)C=CC2=CC=C(O)C(OC)=C2\n",
      "Error processing JSON for SMILES: O=CC1=C(O)C(=CC(O)=C1CCCCC=CC)CC=C(C)C\n",
      "Error processing JSON for SMILES: O=CC=1C(O)=C(C=C2OC(C=CC=CC)=CC21)CC=C(C)C\n",
      "Error processing JSON for SMILES: O=CC=1C(O)=C(C=C2OC(C=CC=CC)=CC21)CC=C(C)C\n",
      "Error processing JSON for SMILES: CCCCCCCC1=C(C=C(C(=C1C=O)O)CC=C(C)C)O\n",
      "Saved updated CSV with predictions to /mnt/c/Users/quirosgu/Desktop/Inmuno/output_data/Q715899.tsv\n",
      "Error processing JSON for SMILES: O=C(OC1CC2(OCC1C)OC3CC(C(=O)OC4OC(C)C(O)C(OC(=O)C)C4OC5OC(C)C(O)C(OC(=O)C)C5O)CCC3C62OC6)C=CC=7C=CC=CC7\n",
      "Error processing JSON for SMILES: O=C(OC1CC2(OCC1C)OC3CC(C(=O)OC4OC(CO)C(O)C(O)C4OC5OC(C)C(O)C(O)C5O)CCC3C62OC6)C=CC=7C=CC=CC7\n",
      "Error processing JSON for SMILES: O=C(OC1CC2(OCC1C)OC3CC(C(=O)OC4OC(CO)C(O)C(OC(=O)C)C4OC5OC(C)C(O)C(OC(=O)C)C5O)CCC3C62OC6)C=CC=7C=CC=CC7\n",
      "Error processing JSON for SMILES: O=C(OC1CC2(OCC1C)OC3CC(C(=O)OC4OC(CO)C(O)C(OC(=O)C)C4OC5OC(C)C(O)C(OC(=O)C)C5O)CCC3C62OC6)C=CC=7C=CC=CC7\n",
      "Error processing JSON for SMILES: O=C(OC1CC2(OCC1C)OC3CC(C(=O)OC4OC(CO)C(O)C(OC(=O)C)C4OC5OC(C)C(O)C(OC(=O)C)C5O)CCC3C62OC6)C=CC=7C=CC=CC7\n",
      "Error processing JSON for SMILES: O=C(OC1CC2(OCC1C)OC3CC(C(=O)OC4OC(C)C(OC(=O)C)C(O)C4OC5OC(C)C(O)C(OC(=O)C)C5O)CCC3C62OC6)C=CC=7C=CC=CC7\n",
      "Error processing JSON for SMILES: O=C(OC1CC2(OCC1C)OC3CC(C(=O)OC4OC(C)C(OC(=O)C)C(O)C4OC5OC(C)C(O)C(OC(=O)C)C5O)CCC3C62OC6)C=CC=7C=CC=CC7\n",
      "Error processing JSON for SMILES: O=C(OC1CC2(OCC1C)OC3CC(C(=O)OC4OC(C)C(OC5OC(C)C(O)C(OC(=O)C)C5O)C(OC(=O)C)C4O)CCC3C62OC6)C=CC=7C=CC=CC7\n",
      "Error processing JSON for SMILES: O=C(OC1CC2(OCC1C)OC3CC(C(=O)OC4OC(CO)C(O)C(OC(=O)C)C4OC5OC(C)C(O)C(OC(=O)C)C5O)CCC3C2(O)CO)C=CC=6C=CC=CC6\n",
      "Error processing JSON for SMILES: O=C(OC1CC2(OCC1C)OC3CC(C(=O)OC4OC(C)C(O)C(OC(=O)C)C4OC5OC(C)C(O)C(OC(=O)C)C5O)CCC3C62OC6)C=CC=7C=CC=CC7\n",
      "Error processing JSON for SMILES: O=C(OC1CC2(OCC1C)OC3CC(C(=O)OC4OC(C)C(O)C(OC(=O)C)C4OC5OC(C)C(O)C(OC(=O)C)C5O)CCC3C2(O)CO)C=CC=6C=CC=CC6\n",
      "Error processing JSON for SMILES: O=C(OC1CC2(OCC1C)OC3CC(C(=O)OC4OC(CO)C(O)C(O)C4OC5OC(C)C(O)C(O)C5O)CCC3C62OC6)C=CC=7C=CC=CC7\n",
      "Error processing JSON for SMILES: CC1COC2(CC1OC(=O)C=CC3=CC=CC=C3)C4(CO4)C5CCC(CC5O2)C(=O)OC6C(C(C(C(O6)C)O)OC(=O)C)OC7C(C(C(C(O7)C)O)OC(=O)C)O\n",
      "Saved updated CSV with predictions to /mnt/c/Users/quirosgu/Desktop/Inmuno/output_data/Q7188495.tsv\n",
      "Saved updated CSV with predictions to /mnt/c/Users/quirosgu/Desktop/Inmuno/output_data/Q7262580.tsv\n",
      "Saved updated CSV with predictions to /mnt/c/Users/quirosgu/Desktop/Inmuno/output_data/Q7377841.tsv\n",
      "Saved updated CSV with predictions to /mnt/c/Users/quirosgu/Desktop/Inmuno/output_data/Q7578948.tsv\n",
      "Saved updated CSV with predictions to /mnt/c/Users/quirosgu/Desktop/Inmuno/output_data/Q7983179.tsv\n",
      "Saved updated CSV with predictions to /mnt/c/Users/quirosgu/Desktop/Inmuno/output_data/Q81748456.tsv\n",
      "Saved updated CSV with predictions to /mnt/c/Users/quirosgu/Desktop/Inmuno/output_data/Q8186515.tsv\n",
      "Error processing JSON for SMILES: CC1=C(C=CC(=C1)C=O)O\n",
      "Error processing JSON for SMILES: C1=CC=C(C=C1)C=O\n",
      "Saved updated CSV with predictions to /mnt/c/Users/quirosgu/Desktop/Inmuno/output_data/Q853914.tsv\n",
      "Saved updated CSV with predictions to /mnt/c/Users/quirosgu/Desktop/Inmuno/output_data/Q89188901.tsv\n",
      "Saved updated CSV with predictions to /mnt/c/Users/quirosgu/Desktop/Inmuno/output_data/Q9191371.tsv\n",
      "Saved updated CSV with predictions to /mnt/c/Users/quirosgu/Desktop/Inmuno/output_data/Q92367804.tsv\n",
      "Saved updated CSV with predictions to /mnt/c/Users/quirosgu/Desktop/Inmuno/output_data/Q92368903.tsv\n",
      "Saved updated CSV with predictions to /mnt/c/Users/quirosgu/Desktop/Inmuno/output_data/Q92422947.tsv\n",
      "Saved updated CSV with predictions to /mnt/c/Users/quirosgu/Desktop/Inmuno/output_data/Q9340113.tsv\n",
      "Saved updated CSV with predictions to /mnt/c/Users/quirosgu/Desktop/Inmuno/output_data/Q990886.tsv\n"
     ]
    }
   ],
   "source": [
    "# Define the NPClassifier API URL\n",
    "npclassifier_url = \"https://npclassifier.gnps2.org/classify\"\n",
    "\n",
    "# Define the maximum requests per minute\n",
    "max_requests_per_minute = 40  # Adjust as needed\n",
    "\n",
    "# Iterate through CSV files in the folder\n",
    "for filename in os.listdir(output_folder):\n",
    "    if filename.endswith(\".tsv\"):\n",
    "        # Load the CSV file\n",
    "        file_path = os.path.join(output_folder, filename)\n",
    "        df_compounds = pd.read_csv(file_path, sep='\\t', on_bad_lines='skip')\n",
    "\n",
    "        # Drop rows with missing 'smiles_canonical'\n",
    "        df_compounds.dropna(subset=['smiles_canonical'], inplace=True)\n",
    "\n",
    "        # Initialize empty lists to store the predicted chemical classes\n",
    "        pathways = []\n",
    "        superclasses = []\n",
    "        classes = []\n",
    "\n",
    "        # Iterate through the compounds in the CSV\n",
    "        for index, row in df_compounds.iterrows():\n",
    "            smiles = row['smiles_canonical']\n",
    "\n",
    "            # URL-encode the SMILES string\n",
    "            encoded_smiles = quote(smiles)\n",
    "\n",
    "            # Make an HTTP GET request to the NPClassifier API\n",
    "            url = f\"{npclassifier_url}?smiles={encoded_smiles}\"\n",
    "            response = requests.get(url)\n",
    "\n",
    "            if response.status_code == 200:\n",
    "                try:\n",
    "                    # Parse the response to extract the chemical class predictions\n",
    "                    result = response.json()\n",
    "                    pathway = result.get(\"pathway_results\", [\"Not Classified\"])[0]\n",
    "                    superclass = result.get(\"superclass_results\", [\"Not Classified\"])[0]\n",
    "                    chemical_class = result.get(\"class_results\", [\"Not Classified\"])[0]\n",
    "                except Exception as e:\n",
    "                    # Handle variations in the JSON structure\n",
    "                    print(f\"Error processing JSON for SMILES: {smiles}\")\n",
    "                    pathway = \"Not Classified\"\n",
    "                    superclass = \"Not Classified\"\n",
    "                    chemical_class = \"Not Classified\"\n",
    "\n",
    "                pathways.append(pathway)\n",
    "                superclasses.append(superclass)\n",
    "                classes.append(chemical_class)\n",
    "            else:\n",
    "                # Handle API errors by adding 'API Error' as a placeholder\n",
    "                print(f\"API Error for SMILES: {smiles}\")\n",
    "                pathways.append(\"API Error\")\n",
    "                superclasses.append(\"API Error\")\n",
    "                classes.append(\"API Error\")\n",
    "\n",
    "            # Implement rate limiting by waiting between requests\n",
    "            time.sleep(60 / max_requests_per_minute)\n",
    "\n",
    "        # Add the predicted chemical class values to new columns in the DataFrame\n",
    "        df_compounds['predicted_pathway'] = pathways\n",
    "        df_compounds['predicted_superclass'] = superclasses\n",
    "        df_compounds['predicted_class'] = classes\n",
    "        \n",
    "        # Add triples and pairs \n",
    "        \n",
    "        # Convert non-string values to strings in columns A, B, and C\n",
    "        df_compounds['predicted_pathway'] = df_compounds['predicted_pathway'].astype(str)\n",
    "        df_compounds['predicted_superclass'] = df_compounds['predicted_superclass'].astype(str)\n",
    "        df_compounds['predicted_class'] = df_compounds['predicted_class'].astype(str)\n",
    "\n",
    "        #df_compounds['chemical_class'] =  df_compounds['predicted_pathway'] + '-' +  df_compounds['predicted_superclass'] + '-' +  df_compounds['predicted_class']\n",
    "        df_compounds['chemical_superclass'] =  df_compounds['predicted_pathway'] + '-' +  df_compounds['predicted_superclass']\n",
    "\n",
    "        # Save the updated CSV file with the same name\n",
    "        updated_file_path = os.path.join(output_folder, filename)\n",
    "        df_compounds.to_csv(updated_file_path, index=False, sep='\\t')\n",
    "        print(f\"Saved updated CSV with predictions to {updated_file_path}\")\n"
   ]
  },
  {
   "cell_type": "markdown",
   "metadata": {},
   "source": [
    "RECOVER THE FRECUENCE BY CHEMICAL CLASS AND ADDED TO THE GENERAL TABLE"
   ]
  },
  {
   "cell_type": "code",
   "execution_count": 112,
   "metadata": {},
   "outputs": [],
   "source": [
    "# Step 1: Initialize variables to store data\n",
    "total_compounds = {}\n",
    "chemical_classes = {}\n",
    "chemical_superclasses ={}\n",
    "references = {}\n",
    "hyperlinks = {}\n",
    "\n",
    "# Step 2: Iterate through .tsv files in the folder\n",
    "for filename in os.listdir(output_folder):\n",
    "    if filename.endswith(\".tsv\"):\n",
    "        qcode = filename.split(\".\")[0]  # Extract Qcode from the filename\n",
    "\n",
    "        # Load the .tsv file into a DataFrame\n",
    "        df_compounds = pd.read_csv(os.path.join(output_folder, filename), sep='\\t')\n",
    "\n",
    "        # Step 3: Calculate frequencies of chemical classes for each Qcode (excluding 'not classified')\n",
    "        filtered_classes = df_compounds[df_compounds['predicted_class'] != 'Not Classified'] # filter the rows with unclassified compounds\n",
    "        grouped = filtered_classes['predicted_class'].value_counts().reset_index()\n",
    "        frequencies = grouped.apply(lambda row: f\"{row['index']} {row['predicted_class']}\", axis=1)\n",
    "        chemical_classes[qcode] = \"|\".join(frequencies)\n",
    "        \n",
    "        # Step 3: Calculate frequencies of chemical superclasses for each Qcode (excluding 'not classified')\n",
    "        filtered_sclasses = df_compounds[df_compounds['predicted_superclass'] != 'Not Classified'] # filter the rows with unclassified compounds\n",
    "        sgrouped = filtered_sclasses['predicted_superclass'].value_counts().reset_index()\n",
    "        frequencies = sgrouped.apply(lambda row: f\"{row['index']} {row['predicted_superclass']}\", axis=1)\n",
    "        chemical_superclasses[qcode] = \"|\".join(frequencies)\n",
    "        \n",
    "        # Step 4: Combine references and hyperlinks\n",
    "        references[qcode] = \"|\".join(df_compounds['reference'].dropna())\n",
    "        hyperlinks[qcode] = \"|\".join(df_compounds['referenceLabel'].dropna())\n",
    "\n",
    "        # Step 5: Calculate the total number of reported compounds\n",
    "        total_compounds[qcode] = len(df_compounds)\n",
    "\n",
    "# Step 6: Load the general info .csv into a DataFrame\n",
    "csv_file = None\n",
    "for filename in os.listdir(input_folder):\n",
    "    if filename.endswith(\".csv\"):\n",
    "        csv_file = os.path.join(input_folder, filename)\n",
    "        break  # Stop searching after finding the first CSV file\n",
    "\n",
    "if csv_file is not None:\n",
    "    # Load the CSV file into the df_general_info DataFrame\n",
    "    df_general_info = pd.read_csv(csv_file)\n",
    "\n",
    "# Step 7: Create new columns for combined information\n",
    "df_general_info['predicted_class'] = df_general_info['wikidata_Qcode'].map(chemical_classes)\n",
    "df_general_info['predicted_superclass'] = df_general_info['wikidata_Qcode'].map(chemical_superclasses)\n",
    "df_general_info['references'] = df_general_info['wikidata_Qcode'].map(references)\n",
    "df_general_info['referenceLabel'] = df_general_info['wikidata_Qcode'].map(hyperlinks)\n",
    "\n",
    "# Step 8: Create a new column for total compounds\n",
    "df_general_info['total_compounds'] = df_general_info['wikidata_Qcode'].map(total_compounds)\n",
    "\n",
    "# Step 7: Save the updated DataFrame to the .csv file\n",
    "\n",
    "# Replace values matching the pattern with an empty cell\n",
    "df_general_info['predicted_class'] = df_general_info['predicted_class'].replace('index|predicted_class', '')\n",
    "df_general_info['predicted_superclass'] = df_general_info['predicted_superclass'].replace('index|predicted_superclass', '')\n",
    "output_csv_file = input_folder + 'Full_results.csv'\n",
    "df_general_info.to_csv(output_csv_file, index=False, sep =',')"
   ]
  },
  {
   "cell_type": "markdown",
   "metadata": {},
   "source": [
    "Generate une plot by species (samples) and the chemical class"
   ]
  },
  {
   "cell_type": "code",
   "execution_count": 144,
   "metadata": {},
   "outputs": [
    {
     "data": {
      "application/vnd.plotly.v1+json": {
       "config": {
        "plotlyServerURL": "https://plot.ly"
       },
       "data": [
        {
         "alignmentgroup": "True",
         "hovertemplate": "chemical_superclass=Alkaloids-Aminosugars and aminoglycosides<br>Recurrence=%{x}<br>y=%{y}<extra></extra>",
         "legendgroup": "Alkaloids-Aminosugars and aminoglycosides",
         "marker": {
          "color": "rgb(229, 134, 6)",
          "pattern": {
           "shape": ""
          }
         },
         "name": "Alkaloids-Aminosugars and aminoglycosides",
         "offsetgroup": "Alkaloids-Aminosugars and aminoglycosides",
         "orientation": "h",
         "showlegend": true,
         "textposition": "auto",
         "type": "bar",
         "x": [
          1
         ],
         "xaxis": "x",
         "y": [
          "<i>Lonchocarpus heptaphyllus</i>"
         ],
         "yaxis": "y"
        },
        {
         "alignmentgroup": "True",
         "hovertemplate": "chemical_superclass=Alkaloids-Anthranilic acid alkaloids<br>Recurrence=%{x}<br>y=%{y}<extra></extra>",
         "legendgroup": "Alkaloids-Anthranilic acid alkaloids",
         "marker": {
          "color": "rgb(93, 105, 177)",
          "pattern": {
           "shape": ""
          }
         },
         "name": "Alkaloids-Anthranilic acid alkaloids",
         "offsetgroup": "Alkaloids-Anthranilic acid alkaloids",
         "orientation": "h",
         "showlegend": true,
         "textposition": "auto",
         "type": "bar",
         "x": [
          1
         ],
         "xaxis": "x",
         "y": [
          "<i>Mimosa pudica</i>"
         ],
         "yaxis": "y"
        },
        {
         "alignmentgroup": "True",
         "hovertemplate": "chemical_superclass=Alkaloids-Histidine alkaloids<br>Recurrence=%{x}<br>y=%{y}<extra></extra>",
         "legendgroup": "Alkaloids-Histidine alkaloids",
         "marker": {
          "color": "rgb(82, 188, 163)",
          "pattern": {
           "shape": ""
          }
         },
         "name": "Alkaloids-Histidine alkaloids",
         "offsetgroup": "Alkaloids-Histidine alkaloids",
         "orientation": "h",
         "showlegend": true,
         "textposition": "auto",
         "type": "bar",
         "x": [
          1
         ],
         "xaxis": "x",
         "y": [
          "<i>Talipariti tiliaceum</i>"
         ],
         "yaxis": "y"
        },
        {
         "alignmentgroup": "True",
         "hovertemplate": "chemical_superclass=Alkaloids-Lysine alkaloids<br>Recurrence=%{x}<br>y=%{y}<extra></extra>",
         "legendgroup": "Alkaloids-Lysine alkaloids",
         "marker": {
          "color": "rgb(153, 201, 69)",
          "pattern": {
           "shape": ""
          }
         },
         "name": "Alkaloids-Lysine alkaloids",
         "offsetgroup": "Alkaloids-Lysine alkaloids",
         "orientation": "h",
         "showlegend": true,
         "textposition": "auto",
         "type": "bar",
         "x": [
          1,
          7,
          2,
          6
         ],
         "xaxis": "x",
         "y": [
          "<i>Ageratina ligustrina</i>",
          "<i>Erythrina berteroana</i>",
          "<i>Piper reticulatum</i>",
          "<i>Prosopis juliflora</i>"
         ],
         "yaxis": "y"
        },
        {
         "alignmentgroup": "True",
         "hovertemplate": "chemical_superclass=Alkaloids-Nicotinic acid alkaloids<br>Recurrence=%{x}<br>y=%{y}<extra></extra>",
         "legendgroup": "Alkaloids-Nicotinic acid alkaloids",
         "marker": {
          "color": "rgb(204, 97, 176)",
          "pattern": {
           "shape": ""
          }
         },
         "name": "Alkaloids-Nicotinic acid alkaloids",
         "offsetgroup": "Alkaloids-Nicotinic acid alkaloids",
         "orientation": "h",
         "showlegend": true,
         "textposition": "auto",
         "type": "bar",
         "x": [
          1
         ],
         "xaxis": "x",
         "y": [
          "<i>Mimosa pudica</i>"
         ],
         "yaxis": "y"
        },
        {
         "alignmentgroup": "True",
         "hovertemplate": "chemical_superclass=Alkaloids-Ornithine alkaloids<br>Recurrence=%{x}<br>y=%{y}<extra></extra>",
         "legendgroup": "Alkaloids-Ornithine alkaloids",
         "marker": {
          "color": "rgb(36, 121, 108)",
          "pattern": {
           "shape": ""
          }
         },
         "name": "Alkaloids-Ornithine alkaloids",
         "offsetgroup": "Alkaloids-Ornithine alkaloids",
         "orientation": "h",
         "showlegend": true,
         "textposition": "auto",
         "type": "bar",
         "x": [
          3,
          2,
          6,
          1,
          1,
          4,
          1,
          1,
          3
         ],
         "xaxis": "x",
         "y": [
          "<i>Ageratina ligustrina</i>",
          "<i>Ageratum conyzoides</i>",
          "<i>Albizia adinocephala</i>",
          "<i>Alibertia edulis</i>",
          "<i>Catharanthus roseus</i>",
          "<i>Eichhornia crassipes</i>",
          "<i>Erythroxylum fimbriatum</i>",
          "<i>Samanea saman</i>",
          "<i>Telanthophora grandifolia</i>"
         ],
         "yaxis": "y"
        },
        {
         "alignmentgroup": "True",
         "hovertemplate": "chemical_superclass=Alkaloids-Peptide alkaloids<br>Recurrence=%{x}<br>y=%{y}<extra></extra>",
         "legendgroup": "Alkaloids-Peptide alkaloids",
         "marker": {
          "color": "rgb(218, 165, 27)",
          "pattern": {
           "shape": ""
          }
         },
         "name": "Alkaloids-Peptide alkaloids",
         "offsetgroup": "Alkaloids-Peptide alkaloids",
         "orientation": "h",
         "showlegend": true,
         "textposition": "auto",
         "type": "bar",
         "x": [
          1,
          7
         ],
         "xaxis": "x",
         "y": [
          "<i>Cymbopogon citratus</i>",
          "<i>Talipariti tiliaceum</i>"
         ],
         "yaxis": "y"
        },
        {
         "alignmentgroup": "True",
         "hovertemplate": "chemical_superclass=Alkaloids-Pseudoalkaloids<br>Recurrence=%{x}<br>y=%{y}<extra></extra>",
         "legendgroup": "Alkaloids-Pseudoalkaloids",
         "marker": {
          "color": "rgb(47, 138, 196)",
          "pattern": {
           "shape": ""
          }
         },
         "name": "Alkaloids-Pseudoalkaloids",
         "offsetgroup": "Alkaloids-Pseudoalkaloids",
         "orientation": "h",
         "showlegend": true,
         "textposition": "auto",
         "type": "bar",
         "x": [
          6,
          1,
          2,
          1
         ],
         "xaxis": "x",
         "y": [
          "<i>Catharanthus roseus</i>",
          "<i>Eichhornia crassipes</i>",
          "<i>Herrania purpurea</i>",
          "<i>Vasconcellea cauliflora</i>"
         ],
         "yaxis": "y"
        },
        {
         "alignmentgroup": "True",
         "hovertemplate": "chemical_superclass=Alkaloids-Tetramate alkaloids<br>Recurrence=%{x}<br>y=%{y}<extra></extra>",
         "legendgroup": "Alkaloids-Tetramate alkaloids",
         "marker": {
          "color": "rgb(118, 78, 159)",
          "pattern": {
           "shape": ""
          }
         },
         "name": "Alkaloids-Tetramate alkaloids",
         "offsetgroup": "Alkaloids-Tetramate alkaloids",
         "orientation": "h",
         "showlegend": true,
         "textposition": "auto",
         "type": "bar",
         "x": [
          2,
          1
         ],
         "xaxis": "x",
         "y": [
          "<i>Caesalpinia pulcherrima</i>",
          "<i>Cymbopogon citratus</i>"
         ],
         "yaxis": "y"
        },
        {
         "alignmentgroup": "True",
         "hovertemplate": "chemical_superclass=Alkaloids-Tryptophan alkaloids<br>Recurrence=%{x}<br>y=%{y}<extra></extra>",
         "legendgroup": "Alkaloids-Tryptophan alkaloids",
         "marker": {
          "color": "rgb(237, 100, 90)",
          "pattern": {
           "shape": ""
          }
         },
         "name": "Alkaloids-Tryptophan alkaloids",
         "offsetgroup": "Alkaloids-Tryptophan alkaloids",
         "orientation": "h",
         "showlegend": true,
         "textposition": "auto",
         "type": "bar",
         "x": [
          202,
          1,
          8,
          2,
          2,
          2,
          7
         ],
         "xaxis": "x",
         "y": [
          "<i>Catharanthus roseus</i>",
          "<i>Eichhornia crassipes</i>",
          "<i>Erythrina berteroana</i>",
          "<i>Ipomoea nil</i>",
          "<i>Morinda citrifolia</i>",
          "<i>Quassia amara</i>",
          "<i>Rauvolfia littoralis</i>"
         ],
         "yaxis": "y"
        },
        {
         "alignmentgroup": "True",
         "hovertemplate": "chemical_superclass=Alkaloids-Tyrosine alkaloids<br>Recurrence=%{x}<br>y=%{y}<extra></extra>",
         "legendgroup": "Alkaloids-Tyrosine alkaloids",
         "marker": {
          "color": "rgb(165, 170, 153)",
          "pattern": {
           "shape": ""
          }
         },
         "name": "Alkaloids-Tyrosine alkaloids",
         "offsetgroup": "Alkaloids-Tyrosine alkaloids",
         "orientation": "h",
         "showlegend": true,
         "textposition": "auto",
         "type": "bar",
         "x": [
          3,
          2,
          1,
          11
         ],
         "xaxis": "x",
         "y": [
          "<i>Cymbopogon citratus</i>",
          "<i>Eichhornia crassipes</i>",
          "<i>Nasturtium officinale</i>",
          "<i>Siparuna grandiflora</i>"
         ],
         "yaxis": "y"
        },
        {
         "alignmentgroup": "True",
         "hovertemplate": "chemical_superclass=Amino acids and Peptides-Amino acid glycosides<br>Recurrence=%{x}<br>y=%{y}<extra></extra>",
         "legendgroup": "Amino acids and Peptides-Amino acid glycosides",
         "marker": {
          "color": "rgb(229, 134, 6)",
          "pattern": {
           "shape": ""
          }
         },
         "name": "Amino acids and Peptides-Amino acid glycosides",
         "offsetgroup": "Amino acids and Peptides-Amino acid glycosides",
         "orientation": "h",
         "showlegend": true,
         "textposition": "auto",
         "type": "bar",
         "x": [
          2
         ],
         "xaxis": "x",
         "y": [
          "<i>Vasconcellea cauliflora</i>"
         ],
         "yaxis": "y"
        },
        {
         "alignmentgroup": "True",
         "hovertemplate": "chemical_superclass=Amino acids and Peptides-Oligopeptides<br>Recurrence=%{x}<br>y=%{y}<extra></extra>",
         "legendgroup": "Amino acids and Peptides-Oligopeptides",
         "marker": {
          "color": "rgb(93, 105, 177)",
          "pattern": {
           "shape": ""
          }
         },
         "name": "Amino acids and Peptides-Oligopeptides",
         "offsetgroup": "Amino acids and Peptides-Oligopeptides",
         "orientation": "h",
         "showlegend": true,
         "textposition": "auto",
         "type": "bar",
         "x": [
          1
         ],
         "xaxis": "x",
         "y": [
          "<i>Jatropha gossypiifolia</i>"
         ],
         "yaxis": "y"
        },
        {
         "alignmentgroup": "True",
         "hovertemplate": "chemical_superclass=Amino acids and Peptides-Phenylpropanoids (C6-C3)<br>Recurrence=%{x}<br>y=%{y}<extra></extra>",
         "legendgroup": "Amino acids and Peptides-Phenylpropanoids (C6-C3)",
         "marker": {
          "color": "rgb(82, 188, 163)",
          "pattern": {
           "shape": ""
          }
         },
         "name": "Amino acids and Peptides-Phenylpropanoids (C6-C3)",
         "offsetgroup": "Amino acids and Peptides-Phenylpropanoids (C6-C3)",
         "orientation": "h",
         "showlegend": true,
         "textposition": "auto",
         "type": "bar",
         "x": [
          1,
          1
         ],
         "xaxis": "x",
         "y": [
          "<i>Camonea umbellata</i>",
          "<i>Talipariti tiliaceum</i>"
         ],
         "yaxis": "y"
        },
        {
         "alignmentgroup": "True",
         "hovertemplate": "chemical_superclass=Amino acids and Peptides-Small peptides<br>Recurrence=%{x}<br>y=%{y}<extra></extra>",
         "legendgroup": "Amino acids and Peptides-Small peptides",
         "marker": {
          "color": "rgb(153, 201, 69)",
          "pattern": {
           "shape": ""
          }
         },
         "name": "Amino acids and Peptides-Small peptides",
         "offsetgroup": "Amino acids and Peptides-Small peptides",
         "orientation": "h",
         "showlegend": true,
         "textposition": "auto",
         "type": "bar",
         "x": [
          1,
          13,
          1,
          21,
          1,
          1,
          25,
          12,
          4,
          2,
          2,
          1
         ],
         "xaxis": "x",
         "y": [
          "<i>Canavalia rosea</i>",
          "<i>Catharanthus roseus</i>",
          "<i>Delonix regia</i>",
          "<i>Eichhornia crassipes</i>",
          "<i>Gliricidia sepium</i>",
          "<i>Guilandina bonduc</i>",
          "<i>Indigofera hirsuta</i>",
          "<i>Jatropha gossypiifolia</i>",
          "<i>Lantana camara</i>",
          "<i>Mimosa pudica</i>",
          "<i>Nasturtium officinale</i>",
          "<i>Prosopis juliflora</i>"
         ],
         "yaxis": "y"
        },
        {
         "alignmentgroup": "True",
         "hovertemplate": "chemical_superclass=Carbohydrates-Aminosugars and aminoglycosides<br>Recurrence=%{x}<br>y=%{y}<extra></extra>",
         "legendgroup": "Carbohydrates-Aminosugars and aminoglycosides",
         "marker": {
          "color": "rgb(204, 97, 176)",
          "pattern": {
           "shape": ""
          }
         },
         "name": "Carbohydrates-Aminosugars and aminoglycosides",
         "offsetgroup": "Carbohydrates-Aminosugars and aminoglycosides",
         "orientation": "h",
         "showlegend": true,
         "textposition": "auto",
         "type": "bar",
         "x": [
          2,
          4
         ],
         "xaxis": "x",
         "y": [
          "<i>Lonchocarpus heptaphyllus</i>",
          "<i>Omphalea diandra</i>"
         ],
         "yaxis": "y"
        },
        {
         "alignmentgroup": "True",
         "hovertemplate": "chemical_superclass=Carbohydrates-Nucleosides<br>Recurrence=%{x}<br>y=%{y}<extra></extra>",
         "legendgroup": "Carbohydrates-Nucleosides",
         "marker": {
          "color": "rgb(36, 121, 108)",
          "pattern": {
           "shape": ""
          }
         },
         "name": "Carbohydrates-Nucleosides",
         "offsetgroup": "Carbohydrates-Nucleosides",
         "orientation": "h",
         "showlegend": true,
         "textposition": "auto",
         "type": "bar",
         "x": [
          1,
          2
         ],
         "xaxis": "x",
         "y": [
          "<i>Catharanthus roseus</i>",
          "<i>Morinda citrifolia</i>"
         ],
         "yaxis": "y"
        },
        {
         "alignmentgroup": "True",
         "hovertemplate": "chemical_superclass=Carbohydrates-Polyols<br>Recurrence=%{x}<br>y=%{y}<extra></extra>",
         "legendgroup": "Carbohydrates-Polyols",
         "marker": {
          "color": "rgb(218, 165, 27)",
          "pattern": {
           "shape": ""
          }
         },
         "name": "Carbohydrates-Polyols",
         "offsetgroup": "Carbohydrates-Polyols",
         "orientation": "h",
         "showlegend": true,
         "textposition": "auto",
         "type": "bar",
         "x": [
          1
         ],
         "xaxis": "x",
         "y": [
          "<i>Gliricidia sepium</i>"
         ],
         "yaxis": "y"
        },
        {
         "alignmentgroup": "True",
         "hovertemplate": "chemical_superclass=Carbohydrates-Saccharides<br>Recurrence=%{x}<br>y=%{y}<extra></extra>",
         "legendgroup": "Carbohydrates-Saccharides",
         "marker": {
          "color": "rgb(47, 138, 196)",
          "pattern": {
           "shape": ""
          }
         },
         "name": "Carbohydrates-Saccharides",
         "offsetgroup": "Carbohydrates-Saccharides",
         "orientation": "h",
         "showlegend": true,
         "textposition": "auto",
         "type": "bar",
         "x": [
          1,
          10,
          1,
          3,
          6,
          5,
          1,
          18,
          5
         ],
         "xaxis": "x",
         "y": [
          "<i>Acrocomia aculeata</i>",
          "<i>Catharanthus roseus</i>",
          "<i>Genipa americana</i>",
          "<i>Jatropha gossypiifolia</i>",
          "<i>Lantana camara</i>",
          "<i>Morinda citrifolia</i>",
          "<i>Quassia amara</i>",
          "<i>Saccharum officinarum</i>",
          "<i>Sapium laurifolium</i>"
         ],
         "yaxis": "y"
        },
        {
         "alignmentgroup": "True",
         "hovertemplate": "chemical_superclass=Fatty acids-Apocarotenoids<br>Recurrence=%{x}<br>y=%{y}<extra></extra>",
         "legendgroup": "Fatty acids-Apocarotenoids",
         "marker": {
          "color": "rgb(118, 78, 159)",
          "pattern": {
           "shape": ""
          }
         },
         "name": "Fatty acids-Apocarotenoids",
         "offsetgroup": "Fatty acids-Apocarotenoids",
         "orientation": "h",
         "showlegend": true,
         "textposition": "auto",
         "type": "bar",
         "x": [
          1,
          1
         ],
         "xaxis": "x",
         "y": [
          "<i>Catharanthus roseus</i>",
          "<i>Cymbopogon citratus</i>"
         ],
         "yaxis": "y"
        },
        {
         "alignmentgroup": "True",
         "hovertemplate": "chemical_superclass=Fatty acids-Fatty Acids and Conjugates<br>Recurrence=%{x}<br>y=%{y}<extra></extra>",
         "legendgroup": "Fatty acids-Fatty Acids and Conjugates",
         "marker": {
          "color": "rgb(237, 100, 90)",
          "pattern": {
           "shape": ""
          }
         },
         "name": "Fatty acids-Fatty Acids and Conjugates",
         "offsetgroup": "Fatty acids-Fatty Acids and Conjugates",
         "orientation": "h",
         "showlegend": true,
         "textposition": "auto",
         "type": "bar",
         "x": [
          1,
          3,
          1,
          10,
          3,
          8,
          7,
          5,
          11,
          2,
          3,
          1
         ],
         "xaxis": "x",
         "y": [
          "<i>Ageratina ligustrina</i>",
          "<i>Ageratum conyzoides</i>",
          "<i>Caesalpinia pulcherrima</i>",
          "<i>Catharanthus roseus</i>",
          "<i>Cymbopogon citratus</i>",
          "<i>Delonix regia</i>",
          "<i>Ipomoea nil</i>",
          "<i>Jatropha gossypiifolia</i>",
          "<i>Lantana camara</i>",
          "<i>Morinda citrifolia</i>",
          "<i>Saccharum officinarum</i>",
          "<i>Samanea saman</i>"
         ],
         "yaxis": "y"
        },
        {
         "alignmentgroup": "True",
         "hovertemplate": "chemical_superclass=Fatty acids-Fatty acyl glycosides<br>Recurrence=%{x}<br>y=%{y}<extra></extra>",
         "legendgroup": "Fatty acids-Fatty acyl glycosides",
         "marker": {
          "color": "rgb(165, 170, 153)",
          "pattern": {
           "shape": ""
          }
         },
         "name": "Fatty acids-Fatty acyl glycosides",
         "offsetgroup": "Fatty acids-Fatty acyl glycosides",
         "orientation": "h",
         "showlegend": true,
         "textposition": "auto",
         "type": "bar",
         "x": [
          3,
          9,
          1
         ],
         "xaxis": "x",
         "y": [
          "<i>Crescentia cujete</i>",
          "<i>Morinda citrifolia</i>",
          "<i>Paullinia pinnata</i>"
         ],
         "yaxis": "y"
        },
        {
         "alignmentgroup": "True",
         "hovertemplate": "chemical_superclass=Fatty acids-Fatty acyls<br>Recurrence=%{x}<br>y=%{y}<extra></extra>",
         "legendgroup": "Fatty acids-Fatty acyls",
         "marker": {
          "color": "rgb(229, 134, 6)",
          "pattern": {
           "shape": ""
          }
         },
         "name": "Fatty acids-Fatty acyls",
         "offsetgroup": "Fatty acids-Fatty acyls",
         "orientation": "h",
         "showlegend": true,
         "textposition": "auto",
         "type": "bar",
         "x": [
          1,
          12,
          18,
          1,
          5,
          11,
          2
         ],
         "xaxis": "x",
         "y": [
          "<i>Acrostichum aureum</i>",
          "<i>Ageratum conyzoides</i>",
          "<i>Cymbopogon citratus</i>",
          "<i>Gliricidia sepium</i>",
          "<i>Ipomoea nil</i>",
          "<i>Lantana camara</i>",
          "<i>Mimosa pudica</i>"
         ],
         "yaxis": "y"
        },
        {
         "alignmentgroup": "True",
         "hovertemplate": "chemical_superclass=Fatty acids-Fatty esters<br>Recurrence=%{x}<br>y=%{y}<extra></extra>",
         "legendgroup": "Fatty acids-Fatty esters",
         "marker": {
          "color": "rgb(93, 105, 177)",
          "pattern": {
           "shape": ""
          }
         },
         "name": "Fatty acids-Fatty esters",
         "offsetgroup": "Fatty acids-Fatty esters",
         "orientation": "h",
         "showlegend": true,
         "textposition": "auto",
         "type": "bar",
         "x": [
          4,
          2,
          1,
          2,
          1
         ],
         "xaxis": "x",
         "y": [
          "<i>Ageratum conyzoides</i>",
          "<i>Catharanthus roseus</i>",
          "<i>Ficus benjamina</i>",
          "<i>Morinda citrifolia</i>",
          "<i>Rhizophora mangle</i>"
         ],
         "yaxis": "y"
        },
        {
         "alignmentgroup": "True",
         "hovertemplate": "chemical_superclass=Fatty acids-Glycerolipids<br>Recurrence=%{x}<br>y=%{y}<extra></extra>",
         "legendgroup": "Fatty acids-Glycerolipids",
         "marker": {
          "color": "rgb(82, 188, 163)",
          "pattern": {
           "shape": ""
          }
         },
         "name": "Fatty acids-Glycerolipids",
         "offsetgroup": "Fatty acids-Glycerolipids",
         "orientation": "h",
         "showlegend": true,
         "textposition": "auto",
         "type": "bar",
         "x": [
          3,
          3,
          2
         ],
         "xaxis": "x",
         "y": [
          "<i>Ipomoea nil</i>",
          "<i>Morinda citrifolia</i>",
          "<i>Phoradendron</i>"
         ],
         "yaxis": "y"
        },
        {
         "alignmentgroup": "True",
         "hovertemplate": "chemical_superclass=Fatty acids-Monoterpenoids<br>Recurrence=%{x}<br>y=%{y}<extra></extra>",
         "legendgroup": "Fatty acids-Monoterpenoids",
         "marker": {
          "color": "rgb(153, 201, 69)",
          "pattern": {
           "shape": ""
          }
         },
         "name": "Fatty acids-Monoterpenoids",
         "offsetgroup": "Fatty acids-Monoterpenoids",
         "orientation": "h",
         "showlegend": true,
         "textposition": "auto",
         "type": "bar",
         "x": [
          1,
          1
         ],
         "xaxis": "x",
         "y": [
          "<i>Cymbopogon citratus</i>",
          "<i>Lantana camara</i>"
         ],
         "yaxis": "y"
        },
        {
         "alignmentgroup": "True",
         "hovertemplate": "chemical_superclass=Fatty acids-Octadecanoids<br>Recurrence=%{x}<br>y=%{y}<extra></extra>",
         "legendgroup": "Fatty acids-Octadecanoids",
         "marker": {
          "color": "rgb(204, 97, 176)",
          "pattern": {
           "shape": ""
          }
         },
         "name": "Fatty acids-Octadecanoids",
         "offsetgroup": "Fatty acids-Octadecanoids",
         "orientation": "h",
         "showlegend": true,
         "textposition": "auto",
         "type": "bar",
         "x": [
          1,
          2,
          1,
          1,
          1,
          1
         ],
         "xaxis": "x",
         "y": [
          "<i>Ageratum conyzoides</i>",
          "<i>Catharanthus roseus</i>",
          "<i>Ipomoea nil</i>",
          "<i>Mimosa pudica</i>",
          "<i>Morinda citrifolia</i>",
          "<i>Samanea saman</i>"
         ],
         "yaxis": "y"
        },
        {
         "alignmentgroup": "True",
         "hovertemplate": "chemical_superclass=Polyketides-Aromatic polyketides<br>Recurrence=%{x}<br>y=%{y}<extra></extra>",
         "legendgroup": "Polyketides-Aromatic polyketides",
         "marker": {
          "color": "rgb(36, 121, 108)",
          "pattern": {
           "shape": ""
          }
         },
         "name": "Polyketides-Aromatic polyketides",
         "offsetgroup": "Polyketides-Aromatic polyketides",
         "orientation": "h",
         "showlegend": true,
         "textposition": "auto",
         "type": "bar",
         "x": [
          1,
          1,
          2,
          2
         ],
         "xaxis": "x",
         "y": [
          "<i>Caesalpinia pulcherrima</i>",
          "<i>Laguncularia racemosa</i>",
          "<i>Morinda citrifolia</i>",
          "<i>Talipariti tiliaceum</i>"
         ],
         "yaxis": "y"
        },
        {
         "alignmentgroup": "True",
         "hovertemplate": "chemical_superclass=Polyketides-Chromanes<br>Recurrence=%{x}<br>y=%{y}<extra></extra>",
         "legendgroup": "Polyketides-Chromanes",
         "marker": {
          "color": "rgb(218, 165, 27)",
          "pattern": {
           "shape": ""
          }
         },
         "name": "Polyketides-Chromanes",
         "offsetgroup": "Polyketides-Chromanes",
         "orientation": "h",
         "showlegend": true,
         "textposition": "auto",
         "type": "bar",
         "x": [
          1,
          2
         ],
         "xaxis": "x",
         "y": [
          "<i>Ageratum conyzoides</i>",
          "<i>Talipariti tiliaceum</i>"
         ],
         "yaxis": "y"
        },
        {
         "alignmentgroup": "True",
         "hovertemplate": "chemical_superclass=Polyketides-Cyclic polyketides<br>Recurrence=%{x}<br>y=%{y}<extra></extra>",
         "legendgroup": "Polyketides-Cyclic polyketides",
         "marker": {
          "color": "rgb(47, 138, 196)",
          "pattern": {
           "shape": ""
          }
         },
         "name": "Polyketides-Cyclic polyketides",
         "offsetgroup": "Polyketides-Cyclic polyketides",
         "orientation": "h",
         "showlegend": true,
         "textposition": "auto",
         "type": "bar",
         "x": [
          1,
          1,
          2
         ],
         "xaxis": "x",
         "y": [
          "<i>Lantana camara</i>",
          "<i>Morinda citrifolia</i>",
          "<i>Piper reticulatum</i>"
         ],
         "yaxis": "y"
        },
        {
         "alignmentgroup": "True",
         "hovertemplate": "chemical_superclass=Polyketides-Meroterpenoids<br>Recurrence=%{x}<br>y=%{y}<extra></extra>",
         "legendgroup": "Polyketides-Meroterpenoids",
         "marker": {
          "color": "rgb(118, 78, 159)",
          "pattern": {
           "shape": ""
          }
         },
         "name": "Polyketides-Meroterpenoids",
         "offsetgroup": "Polyketides-Meroterpenoids",
         "orientation": "h",
         "showlegend": true,
         "textposition": "auto",
         "type": "bar",
         "x": [
          2,
          11,
          2
         ],
         "xaxis": "x",
         "y": [
          "<i>Marila laxiflora</i>",
          "<i>Peperomia galioides</i>",
          "<i>Talipariti tiliaceum</i>"
         ],
         "yaxis": "y"
        },
        {
         "alignmentgroup": "True",
         "hovertemplate": "chemical_superclass=Polyketides-Naphthalenes<br>Recurrence=%{x}<br>y=%{y}<extra></extra>",
         "legendgroup": "Polyketides-Naphthalenes",
         "marker": {
          "color": "rgb(237, 100, 90)",
          "pattern": {
           "shape": ""
          }
         },
         "name": "Polyketides-Naphthalenes",
         "offsetgroup": "Polyketides-Naphthalenes",
         "orientation": "h",
         "showlegend": true,
         "textposition": "auto",
         "type": "bar",
         "x": [
          1,
          1,
          2,
          1,
          8,
          1,
          7
         ],
         "xaxis": "x",
         "y": [
          "<i>Avicennia germinans</i>",
          "<i>Caesalpinia pulcherrima</i>",
          "<i>Crescentia cujete</i>",
          "<i>Eichhornia crassipes</i>",
          "<i>Lantana camara</i>",
          "<i>Morinda citrifolia</i>",
          "<i>Talipariti tiliaceum</i>"
         ],
         "yaxis": "y"
        },
        {
         "alignmentgroup": "True",
         "hovertemplate": "chemical_superclass=Polyketides-Phloroglucinols<br>Recurrence=%{x}<br>y=%{y}<extra></extra>",
         "legendgroup": "Polyketides-Phloroglucinols",
         "marker": {
          "color": "rgb(165, 170, 153)",
          "pattern": {
           "shape": ""
          }
         },
         "name": "Polyketides-Phloroglucinols",
         "offsetgroup": "Polyketides-Phloroglucinols",
         "orientation": "h",
         "showlegend": true,
         "textposition": "auto",
         "type": "bar",
         "x": [
          1,
          1,
          8
         ],
         "xaxis": "x",
         "y": [
          "<i>Cassia grandis</i>",
          "<i>Maclura tinctoria</i>",
          "<i>Tovomita longifolia</i>"
         ],
         "yaxis": "y"
        },
        {
         "alignmentgroup": "True",
         "hovertemplate": "chemical_superclass=Polyketides-Polycyclic aromatic polyketides<br>Recurrence=%{x}<br>y=%{y}<extra></extra>",
         "legendgroup": "Polyketides-Polycyclic aromatic polyketides",
         "marker": {
          "color": "rgb(229, 134, 6)",
          "pattern": {
           "shape": ""
          }
         },
         "name": "Polyketides-Polycyclic aromatic polyketides",
         "offsetgroup": "Polyketides-Polycyclic aromatic polyketides",
         "orientation": "h",
         "showlegend": true,
         "textposition": "auto",
         "type": "bar",
         "x": [
          4,
          6,
          1,
          51,
          17
         ],
         "xaxis": "x",
         "y": [
          "<i>Cassia grandis</i>",
          "<i>Faramea occidentalis</i>",
          "<i>Ipomoea nil</i>",
          "<i>Morinda citrifolia</i>",
          "<i>Picramnia latifolia</i>"
         ],
         "yaxis": "y"
        },
        {
         "alignmentgroup": "True",
         "hovertemplate": "chemical_superclass=Polyketides-Xanthones<br>Recurrence=%{x}<br>y=%{y}<extra></extra>",
         "legendgroup": "Polyketides-Xanthones",
         "marker": {
          "color": "rgb(93, 105, 177)",
          "pattern": {
           "shape": ""
          }
         },
         "name": "Polyketides-Xanthones",
         "offsetgroup": "Polyketides-Xanthones",
         "orientation": "h",
         "showlegend": true,
         "textposition": "auto",
         "type": "bar",
         "x": [
          1
         ],
         "xaxis": "x",
         "y": [
          "<i>Faramea occidentalis</i>"
         ],
         "yaxis": "y"
        },
        {
         "alignmentgroup": "True",
         "hovertemplate": "chemical_superclass=Shikimates and Phenylpropanoids-Coumarins<br>Recurrence=%{x}<br>y=%{y}<extra></extra>",
         "legendgroup": "Shikimates and Phenylpropanoids-Coumarins",
         "marker": {
          "color": "rgb(82, 188, 163)",
          "pattern": {
           "shape": ""
          }
         },
         "name": "Shikimates and Phenylpropanoids-Coumarins",
         "offsetgroup": "Shikimates and Phenylpropanoids-Coumarins",
         "orientation": "h",
         "showlegend": true,
         "textposition": "auto",
         "type": "bar",
         "x": [
          1,
          1,
          4,
          4,
          1,
          4,
          2,
          2,
          3
         ],
         "xaxis": "x",
         "y": [
          "<i>Ageratum conyzoides</i>",
          "<i>Gliricidia sepium</i>",
          "<i>Ipomoea nil</i>",
          "<i>Jatropha gossypiifolia</i>",
          "<i>Mikania micrantha</i>",
          "<i>Morinda citrifolia</i>",
          "<i>Picramnia latifolia</i>",
          "<i>Prosopis juliflora</i>",
          "<i>Talipariti tiliaceum</i>"
         ],
         "yaxis": "y"
        },
        {
         "alignmentgroup": "True",
         "hovertemplate": "chemical_superclass=Shikimates and Phenylpropanoids-Diarylheptanoids<br>Recurrence=%{x}<br>y=%{y}<extra></extra>",
         "legendgroup": "Shikimates and Phenylpropanoids-Diarylheptanoids",
         "marker": {
          "color": "rgb(153, 201, 69)",
          "pattern": {
           "shape": ""
          }
         },
         "name": "Shikimates and Phenylpropanoids-Diarylheptanoids",
         "offsetgroup": "Shikimates and Phenylpropanoids-Diarylheptanoids",
         "orientation": "h",
         "showlegend": true,
         "textposition": "auto",
         "type": "bar",
         "x": [
          1,
          2
         ],
         "xaxis": "x",
         "y": [
          "<i>Camonea umbellata</i>",
          "<i>Talipariti tiliaceum</i>"
         ],
         "yaxis": "y"
        },
        {
         "alignmentgroup": "True",
         "hovertemplate": "chemical_superclass=Shikimates and Phenylpropanoids-Flavonoids<br>Recurrence=%{x}<br>y=%{y}<extra></extra>",
         "legendgroup": "Shikimates and Phenylpropanoids-Flavonoids",
         "marker": {
          "color": "rgb(204, 97, 176)",
          "pattern": {
           "shape": ""
          }
         },
         "name": "Shikimates and Phenylpropanoids-Flavonoids",
         "offsetgroup": "Shikimates and Phenylpropanoids-Flavonoids",
         "orientation": "h",
         "showlegend": true,
         "textposition": "auto",
         "type": "bar",
         "x": [
          11,
          16,
          1,
          2,
          26,
          4,
          3,
          23,
          16,
          1,
          19,
          3,
          1,
          4,
          7,
          7,
          1,
          1,
          17,
          12,
          8,
          14,
          22,
          1,
          4,
          11,
          15,
          14,
          4,
          9,
          3,
          5,
          1,
          8,
          13,
          4,
          1
         ],
         "xaxis": "x",
         "y": [
          "<i>Ageratina ligustrina</i>",
          "<i>Ageratum conyzoides</i>",
          "<i>Apeiba tibourbou</i>",
          "<i>Arthraxon hispidus</i>",
          "<i>Caesalpinia pulcherrima</i>",
          "<i>Calceolaria irazuensis</i>",
          "<i>Cassia grandis</i>",
          "<i>Catharanthus roseus</i>",
          "<i>Cissus verticillata</i>",
          "<i>Clarisia racemosa</i>",
          "<i>Cymbopogon citratus</i>",
          "<i>Eichhornia crassipes</i>",
          "<i>Euphorbia hypericifolia</i>",
          "<i>Ficus maxima</i>",
          "<i>Fuchsia splendens</i>",
          "<i>Gliricidia sepium</i>",
          "<i>Hedyosmum bonplandianum</i>",
          "<i>Hymenaea courbaril</i>",
          "<i>Ipomoea nil</i>",
          "<i>Laguncularia racemosa</i>",
          "<i>Lantana camara</i>",
          "<i>Lonchocarpus heptaphyllus</i>",
          "<i>Maclura tinctoria</i>",
          "<i>Marila laxiflora</i>",
          "<i>Mikania micrantha</i>",
          "<i>Mimosa pudica</i>",
          "<i>Morinda citrifolia</i>",
          "<i>Nasturtium officinale</i>",
          "<i>Paullinia pinnata</i>",
          "<i>Persicaria pubescens</i>",
          "<i>Phenax angustifolius</i>",
          "<i>Phoradendron</i>",
          "<i>Piper reticulatum</i>",
          "<i>Prosopis juliflora</i>",
          "<i>Saccharum officinarum</i>",
          "<i>Syzygium malaccense</i>",
          "<i>Verbesina myriocephala</i>"
         ],
         "yaxis": "y"
        },
        {
         "alignmentgroup": "True",
         "hovertemplate": "chemical_superclass=Shikimates and Phenylpropanoids-Isoflavonoids<br>Recurrence=%{x}<br>y=%{y}<extra></extra>",
         "legendgroup": "Shikimates and Phenylpropanoids-Isoflavonoids",
         "marker": {
          "color": "rgb(36, 121, 108)",
          "pattern": {
           "shape": ""
          }
         },
         "name": "Shikimates and Phenylpropanoids-Isoflavonoids",
         "offsetgroup": "Shikimates and Phenylpropanoids-Isoflavonoids",
         "orientation": "h",
         "showlegend": true,
         "textposition": "auto",
         "type": "bar",
         "x": [
          1,
          2,
          5,
          2,
          7,
          4,
          16,
          5,
          4,
          1
         ],
         "xaxis": "x",
         "y": [
          "<i>Ageratum conyzoides</i>",
          "<i>Caesalpinia pulcherrima</i>",
          "<i>Canavalia rosea</i>",
          "<i>Cissus verticillata</i>",
          "<i>Cymbopogon citratus</i>",
          "<i>Erythrina berteroana</i>",
          "<i>Gliricidia sepium</i>",
          "<i>Lonchocarpus heptaphyllus</i>",
          "<i>Maclura tinctoria</i>",
          "<i>Prosopis juliflora</i>"
         ],
         "yaxis": "y"
        },
        {
         "alignmentgroup": "True",
         "hovertemplate": "chemical_superclass=Shikimates and Phenylpropanoids-Lignans<br>Recurrence=%{x}<br>y=%{y}<extra></extra>",
         "legendgroup": "Shikimates and Phenylpropanoids-Lignans",
         "marker": {
          "color": "rgb(218, 165, 27)",
          "pattern": {
           "shape": ""
          }
         },
         "name": "Shikimates and Phenylpropanoids-Lignans",
         "offsetgroup": "Shikimates and Phenylpropanoids-Lignans",
         "orientation": "h",
         "showlegend": true,
         "textposition": "auto",
         "type": "bar",
         "x": [
          1,
          1,
          1,
          1,
          1,
          2,
          2,
          5,
          3,
          5,
          2,
          32,
          2,
          2,
          3,
          1,
          2,
          1
         ],
         "xaxis": "x",
         "y": [
          "<i>Ageratina ligustrina</i>",
          "<i>Ageratum conyzoides</i>",
          "<i>Avicennia germinans</i>",
          "<i>Cassia grandis</i>",
          "<i>Cissus verticillata</i>",
          "<i>Crescentia cujete</i>",
          "<i>Gliricidia sepium</i>",
          "<i>Ipomoea nil</i>",
          "<i>Jatropha gossypiifolia</i>",
          "<i>Laguncularia racemosa</i>",
          "<i>Lantana camara</i>",
          "<i>Morinda citrifolia</i>",
          "<i>Nasturtium officinale</i>",
          "<i>Phenax angustifolius</i>",
          "<i>Phyllanthus acuminatus</i>",
          "<i>Prosopis juliflora</i>",
          "<i>Saccharum officinarum</i>",
          "<i>Talipariti tiliaceum</i>"
         ],
         "yaxis": "y"
        },
        {
         "alignmentgroup": "True",
         "hovertemplate": "chemical_superclass=Shikimates and Phenylpropanoids-Phenanthrenoids<br>Recurrence=%{x}<br>y=%{y}<extra></extra>",
         "legendgroup": "Shikimates and Phenylpropanoids-Phenanthrenoids",
         "marker": {
          "color": "rgb(47, 138, 196)",
          "pattern": {
           "shape": ""
          }
         },
         "name": "Shikimates and Phenylpropanoids-Phenanthrenoids",
         "offsetgroup": "Shikimates and Phenylpropanoids-Phenanthrenoids",
         "orientation": "h",
         "showlegend": true,
         "textposition": "auto",
         "type": "bar",
         "x": [
          4
         ],
         "xaxis": "x",
         "y": [
          "<i>Eichhornia crassipes</i>"
         ],
         "yaxis": "y"
        },
        {
         "alignmentgroup": "True",
         "hovertemplate": "chemical_superclass=Shikimates and Phenylpropanoids-Phenolic acids (C6-C1)<br>Recurrence=%{x}<br>y=%{y}<extra></extra>",
         "legendgroup": "Shikimates and Phenylpropanoids-Phenolic acids (C6-C1)",
         "marker": {
          "color": "rgb(118, 78, 159)",
          "pattern": {
           "shape": ""
          }
         },
         "name": "Shikimates and Phenylpropanoids-Phenolic acids (C6-C1)",
         "offsetgroup": "Shikimates and Phenylpropanoids-Phenolic acids (C6-C1)",
         "orientation": "h",
         "showlegend": true,
         "textposition": "auto",
         "type": "bar",
         "x": [
          1,
          2,
          1,
          4,
          4,
          3,
          7,
          1,
          1,
          1,
          3,
          1,
          2,
          2,
          1,
          2,
          2,
          4,
          2
         ],
         "xaxis": "x",
         "y": [
          "<i>Ageratina ligustrina</i>",
          "<i>Caesalpinia pulcherrima</i>",
          "<i>Cassia grandis</i>",
          "<i>Catharanthus roseus</i>",
          "<i>Crescentia cujete</i>",
          "<i>Eichhornia crassipes</i>",
          "<i>Gliricidia sepium</i>",
          "<i>Guilandina bonduc</i>",
          "<i>Hedyosmum bonplandianum</i>",
          "<i>Ipomoea nil</i>",
          "<i>Laguncularia racemosa</i>",
          "<i>Marila laxiflora</i>",
          "<i>Mimosa pudica</i>",
          "<i>Morinda citrifolia</i>",
          "<i>Persicaria pubescens</i>",
          "<i>Sapium laurifolium</i>",
          "<i>Syzygium malaccense</i>",
          "<i>Talipariti tiliaceum</i>",
          "<i>Verbesina myriocephala</i>"
         ],
         "yaxis": "y"
        },
        {
         "alignmentgroup": "True",
         "hovertemplate": "chemical_superclass=Shikimates and Phenylpropanoids-Phenylethanoids (C6-C2)<br>Recurrence=%{x}<br>y=%{y}<extra></extra>",
         "legendgroup": "Shikimates and Phenylpropanoids-Phenylethanoids (C6-C2)",
         "marker": {
          "color": "rgb(237, 100, 90)",
          "pattern": {
           "shape": ""
          }
         },
         "name": "Shikimates and Phenylpropanoids-Phenylethanoids (C6-C2)",
         "offsetgroup": "Shikimates and Phenylpropanoids-Phenylethanoids (C6-C2)",
         "orientation": "h",
         "showlegend": true,
         "textposition": "auto",
         "type": "bar",
         "x": [
          1,
          6,
          6
         ],
         "xaxis": "x",
         "y": [
          "<i>Avicennia germinans</i>",
          "<i>Ipomoea nil</i>",
          "<i>Lantana camara</i>"
         ],
         "yaxis": "y"
        },
        {
         "alignmentgroup": "True",
         "hovertemplate": "chemical_superclass=Shikimates and Phenylpropanoids-Phenylpropanoids (C6-C3)<br>Recurrence=%{x}<br>y=%{y}<extra></extra>",
         "legendgroup": "Shikimates and Phenylpropanoids-Phenylpropanoids (C6-C3)",
         "marker": {
          "color": "rgb(165, 170, 153)",
          "pattern": {
           "shape": ""
          }
         },
         "name": "Shikimates and Phenylpropanoids-Phenylpropanoids (C6-C3)",
         "offsetgroup": "Shikimates and Phenylpropanoids-Phenylpropanoids (C6-C3)",
         "orientation": "h",
         "showlegend": true,
         "textposition": "auto",
         "type": "bar",
         "x": [
          1,
          1,
          2,
          1,
          7,
          2,
          7,
          18,
          4,
          1,
          2,
          2,
          1,
          2,
          2
         ],
         "xaxis": "x",
         "y": [
          "<i>Ageratum conyzoides</i>",
          "<i>Apeiba tibourbou</i>",
          "<i>Camonea umbellata</i>",
          "<i>Cassia grandis</i>",
          "<i>Cymbopogon citratus</i>",
          "<i>Eichhornia crassipes</i>",
          "<i>Gliricidia sepium</i>",
          "<i>Ipomoea nil</i>",
          "<i>Lantana camara</i>",
          "<i>Mimosa pudica</i>",
          "<i>Morinda citrifolia</i>",
          "<i>Saccharum officinarum</i>",
          "<i>Talipariti tiliaceum</i>",
          "<i>Urochloa decumbens</i>",
          "<i>Verbesina myriocephala</i>"
         ],
         "yaxis": "y"
        },
        {
         "alignmentgroup": "True",
         "hovertemplate": "chemical_superclass=Shikimates and Phenylpropanoids-Stilbenoids<br>Recurrence=%{x}<br>y=%{y}<extra></extra>",
         "legendgroup": "Shikimates and Phenylpropanoids-Stilbenoids",
         "marker": {
          "color": "rgb(229, 134, 6)",
          "pattern": {
           "shape": ""
          }
         },
         "name": "Shikimates and Phenylpropanoids-Stilbenoids",
         "offsetgroup": "Shikimates and Phenylpropanoids-Stilbenoids",
         "orientation": "h",
         "showlegend": true,
         "textposition": "auto",
         "type": "bar",
         "x": [
          2,
          1
         ],
         "xaxis": "x",
         "y": [
          "<i>Lonchocarpus heptaphyllus</i>",
          "<i>Saccharum officinarum</i>"
         ],
         "yaxis": "y"
        },
        {
         "alignmentgroup": "True",
         "hovertemplate": "chemical_superclass=Shikimates and Phenylpropanoids-Xanthones<br>Recurrence=%{x}<br>y=%{y}<extra></extra>",
         "legendgroup": "Shikimates and Phenylpropanoids-Xanthones",
         "marker": {
          "color": "rgb(93, 105, 177)",
          "pattern": {
           "shape": ""
          }
         },
         "name": "Shikimates and Phenylpropanoids-Xanthones",
         "offsetgroup": "Shikimates and Phenylpropanoids-Xanthones",
         "orientation": "h",
         "showlegend": true,
         "textposition": "auto",
         "type": "bar",
         "x": [
          4,
          2
         ],
         "xaxis": "x",
         "y": [
          "<i>Maclura tinctoria</i>",
          "<i>Marila laxiflora</i>"
         ],
         "yaxis": "y"
        },
        {
         "alignmentgroup": "True",
         "hovertemplate": "chemical_superclass=Terpenoids-Apocarotenoids<br>Recurrence=%{x}<br>y=%{y}<extra></extra>",
         "legendgroup": "Terpenoids-Apocarotenoids",
         "marker": {
          "color": "rgb(82, 188, 163)",
          "pattern": {
           "shape": ""
          }
         },
         "name": "Terpenoids-Apocarotenoids",
         "offsetgroup": "Terpenoids-Apocarotenoids",
         "orientation": "h",
         "showlegend": true,
         "textposition": "auto",
         "type": "bar",
         "x": [
          5,
          2,
          1,
          2,
          2
         ],
         "xaxis": "x",
         "y": [
          "<i>Catharanthus roseus</i>",
          "<i>Ipomoea nil</i>",
          "<i>Morinda citrifolia</i>",
          "<i>Prosopis juliflora</i>",
          "<i>Saccharum officinarum</i>"
         ],
         "yaxis": "y"
        },
        {
         "alignmentgroup": "True",
         "hovertemplate": "chemical_superclass=Terpenoids-Carotenoids (C40)<br>Recurrence=%{x}<br>y=%{y}<extra></extra>",
         "legendgroup": "Terpenoids-Carotenoids (C40)",
         "marker": {
          "color": "rgb(153, 201, 69)",
          "pattern": {
           "shape": ""
          }
         },
         "name": "Terpenoids-Carotenoids (C40)",
         "offsetgroup": "Terpenoids-Carotenoids (C40)",
         "orientation": "h",
         "showlegend": true,
         "textposition": "auto",
         "type": "bar",
         "x": [
          4,
          3
         ],
         "xaxis": "x",
         "y": [
          "<i>Catharanthus roseus</i>",
          "<i>Nasturtium officinale</i>"
         ],
         "yaxis": "y"
        },
        {
         "alignmentgroup": "True",
         "hovertemplate": "chemical_superclass=Terpenoids-Diterpenoids<br>Recurrence=%{x}<br>y=%{y}<extra></extra>",
         "legendgroup": "Terpenoids-Diterpenoids",
         "marker": {
          "color": "rgb(204, 97, 176)",
          "pattern": {
           "shape": ""
          }
         },
         "name": "Terpenoids-Diterpenoids",
         "offsetgroup": "Terpenoids-Diterpenoids",
         "orientation": "h",
         "showlegend": true,
         "textposition": "auto",
         "type": "bar",
         "x": [
          15,
          2,
          46,
          2,
          1,
          1,
          85,
          21,
          39,
          11,
          2,
          1,
          4,
          9
         ],
         "xaxis": "x",
         "y": [
          "<i>Ageratina ixiocladon</i>",
          "<i>Alibertia edulis</i>",
          "<i>Caesalpinia pulcherrima</i>",
          "<i>Catharanthus roseus</i>",
          "<i>Cnidoscolus urens</i>",
          "<i>Cymbopogon citratus</i>",
          "<i>Guilandina bonduc</i>",
          "<i>Hymenaea courbaril</i>",
          "<i>Ipomoea nil</i>",
          "<i>Jatropha gossypiifolia</i>",
          "<i>Mikania micrantha</i>",
          "<i>Morinda citrifolia</i>",
          "<i>Rhizophora mangle</i>",
          "<i>Xylopia frutescens</i>"
         ],
         "yaxis": "y"
        },
        {
         "alignmentgroup": "True",
         "hovertemplate": "chemical_superclass=Terpenoids-Meroterpenoids<br>Recurrence=%{x}<br>y=%{y}<extra></extra>",
         "legendgroup": "Terpenoids-Meroterpenoids",
         "marker": {
          "color": "rgb(36, 121, 108)",
          "pattern": {
           "shape": ""
          }
         },
         "name": "Terpenoids-Meroterpenoids",
         "offsetgroup": "Terpenoids-Meroterpenoids",
         "orientation": "h",
         "showlegend": true,
         "textposition": "auto",
         "type": "bar",
         "x": [
          1,
          9,
          1
         ],
         "xaxis": "x",
         "y": [
          "<i>Ageratina ixiocladon</i>",
          "<i>Ageratum conyzoides</i>",
          "<i>Peperomia galioides</i>"
         ],
         "yaxis": "y"
        },
        {
         "alignmentgroup": "True",
         "hovertemplate": "chemical_superclass=Terpenoids-Monoterpenoids<br>Recurrence=%{x}<br>y=%{y}<extra></extra>",
         "legendgroup": "Terpenoids-Monoterpenoids",
         "marker": {
          "color": "rgb(218, 165, 27)",
          "pattern": {
           "shape": ""
          }
         },
         "name": "Terpenoids-Monoterpenoids",
         "offsetgroup": "Terpenoids-Monoterpenoids",
         "orientation": "h",
         "showlegend": true,
         "textposition": "auto",
         "type": "bar",
         "x": [
          25,
          3,
          2,
          2,
          1,
          15,
          21,
          41,
          26,
          3,
          8,
          33,
          37,
          1,
          1,
          2,
          2,
          1,
          3
         ],
         "xaxis": "x",
         "y": [
          "<i>Ageratum conyzoides</i>",
          "<i>Alibertia edulis</i>",
          "<i>Avicennia bicolor</i>",
          "<i>Avicennia germinans</i>",
          "<i>Caesalpinia pulcherrima</i>",
          "<i>Catharanthus roseus</i>",
          "<i>Crescentia cujete</i>",
          "<i>Cymbopogon citratus</i>",
          "<i>Genipa americana</i>",
          "<i>Guavaberry</i>",
          "<i>Hedyosmum bonplandianum</i>",
          "<i>Lantana camara</i>",
          "<i>Morinda citrifolia</i>",
          "<i>Peperomia galioides</i>",
          "<i>Persicaria pubescens</i>",
          "<i>Posoqueria latifolia</i>",
          "<i>Prosopis juliflora</i>",
          "<i>Rhizophora mangle</i>",
          "<i>araguaney</i>"
         ],
         "yaxis": "y"
        },
        {
         "alignmentgroup": "True",
         "hovertemplate": "chemical_superclass=Terpenoids-Sesquiterpenoids<br>Recurrence=%{x}<br>y=%{y}<extra></extra>",
         "legendgroup": "Terpenoids-Sesquiterpenoids",
         "marker": {
          "color": "rgb(47, 138, 196)",
          "pattern": {
           "shape": ""
          }
         },
         "name": "Terpenoids-Sesquiterpenoids",
         "offsetgroup": "Terpenoids-Sesquiterpenoids",
         "orientation": "h",
         "showlegend": true,
         "textposition": "auto",
         "type": "bar",
         "x": [
          4,
          6,
          8,
          33,
          10,
          29,
          3,
          5,
          11,
          45,
          1,
          3,
          21,
          5,
          3,
          3,
          12,
          11,
          14,
          1
         ],
         "xaxis": "x",
         "y": [
          "<i>Acrostichum aureum</i>",
          "<i>Ageratina ixiocladon</i>",
          "<i>Ageratina ligustrina</i>",
          "<i>Ageratum conyzoides</i>",
          "<i>Caesalpinia pulcherrima</i>",
          "<i>Calea urticifolia</i>",
          "<i>Catharanthus roseus</i>",
          "<i>Cymbopogon citratus</i>",
          "<i>Hedyosmum bonplandianum</i>",
          "<i>Lantana camara</i>",
          "<i>Maytenus woodsonii</i>",
          "<i>Mesosphaerum suaveolens</i>",
          "<i>Mikania micrantha</i>",
          "<i>Onoseris onoseroides</i>",
          "<i>Peperomia galioides</i>",
          "<i>Persicaria pubescens</i>",
          "<i>Piptocarpha poeppigiana</i>",
          "<i>Talipariti tiliaceum</i>",
          "<i>Telanthophora grandifolia</i>",
          "<i>Trattinnickia aspera</i>"
         ],
         "yaxis": "y"
        },
        {
         "alignmentgroup": "True",
         "hovertemplate": "chemical_superclass=Terpenoids-Steroids<br>Recurrence=%{x}<br>y=%{y}<extra></extra>",
         "legendgroup": "Terpenoids-Steroids",
         "marker": {
          "color": "rgb(118, 78, 159)",
          "pattern": {
           "shape": ""
          }
         },
         "name": "Terpenoids-Steroids",
         "offsetgroup": "Terpenoids-Steroids",
         "orientation": "h",
         "showlegend": true,
         "textposition": "auto",
         "type": "bar",
         "x": [
          3,
          2,
          1,
          25,
          3,
          3,
          1,
          1,
          1,
          7,
          3,
          2,
          8,
          3,
          10,
          1,
          2,
          3,
          2,
          4,
          1,
          31,
          5,
          3,
          3,
          1,
          1
         ],
         "xaxis": "x",
         "y": [
          "<i>Ageratum conyzoides</i>",
          "<i>Caesalpinia pulcherrima</i>",
          "<i>Cassia grandis</i>",
          "<i>Catharanthus roseus</i>",
          "<i>Cryptostegia madagascariensis</i>",
          "<i>Eichhornia crassipes</i>",
          "<i>Faramea occidentalis</i>",
          "<i>Ficus benjamina</i>",
          "<i>Gliricidia sepium</i>",
          "<i>Guilandina bonduc</i>",
          "<i>Ipomoea nil</i>",
          "<i>Jatropha gossypiifolia</i>",
          "<i>Lantana camara</i>",
          "<i>Mikania micrantha</i>",
          "<i>Morinda citrifolia</i>",
          "<i>Onoseris onoseroides</i>",
          "<i>Paullinia pinnata</i>",
          "<i>Persicaria pubescens</i>",
          "<i>Phoradendron</i>",
          "<i>Picramnia latifolia</i>",
          "<i>Quassia amara</i>",
          "<i>Sansevieria trifasciata</i>",
          "<i>Smilax officinalis</i>",
          "<i>Trichilia pallida</i>",
          "<i>Urochloa decumbens</i>",
          "<i>Verbesina myriocephala</i>",
          "<i>Xylopia frutescens</i>"
         ],
         "yaxis": "y"
        },
        {
         "alignmentgroup": "True",
         "hovertemplate": "chemical_superclass=Terpenoids-Triterpenoids<br>Recurrence=%{x}<br>y=%{y}<extra></extra>",
         "legendgroup": "Terpenoids-Triterpenoids",
         "marker": {
          "color": "rgb(237, 100, 90)",
          "pattern": {
           "shape": ""
          }
         },
         "name": "Terpenoids-Triterpenoids",
         "offsetgroup": "Terpenoids-Triterpenoids",
         "orientation": "h",
         "showlegend": true,
         "textposition": "auto",
         "type": "bar",
         "x": [
          2,
          1,
          16,
          2,
          4,
          5,
          1,
          2,
          8,
          5,
          2,
          1,
          69,
          1,
          1,
          14,
          4,
          3,
          12,
          1,
          2,
          19,
          3,
          18,
          1,
          3,
          11,
          2,
          9
         ],
         "xaxis": "x",
         "y": [
          "<i>Ageratina ligustrina</i>",
          "<i>Ageratum conyzoides</i>",
          "<i>Alibertia edulis</i>",
          "<i>Caesalpinia pulcherrima</i>",
          "<i>Catharanthus roseus</i>",
          "<i>Cnidoscolus urens</i>",
          "<i>Cojoba arborea</i>",
          "<i>Ficus benjamina</i>",
          "<i>Gliricidia sepium</i>",
          "<i>Guilandina bonduc</i>",
          "<i>Ipomoea nil</i>",
          "<i>Jatropha gossypiifolia</i>",
          "<i>Lantana camara</i>",
          "<i>Maclura tinctoria</i>",
          "<i>Marila laxiflora</i>",
          "<i>Maytenus woodsonii</i>",
          "<i>Mesosphaerum suaveolens</i>",
          "<i>Mikania micrantha</i>",
          "<i>Morinda citrifolia</i>",
          "<i>Onoseris onoseroides</i>",
          "<i>Paullinia pinnata</i>",
          "<i>Phoradendron</i>",
          "<i>Phytolacca rivinoides</i>",
          "<i>Quassia amara</i>",
          "<i>Rhizophora mangle</i>",
          "<i>Saccharum officinarum</i>",
          "<i>Talipariti tiliaceum</i>",
          "<i>Trattinnickia aspera</i>",
          "<i>Trichilia pallida</i>"
         ],
         "yaxis": "y"
        }
       ],
       "layout": {
        "barmode": "relative",
        "height": 900,
        "legend": {
         "title": {
          "text": "chemical_superclass"
         },
         "tracegroupgap": 0
        },
        "plot_bgcolor": "white",
        "template": {
         "data": {
          "bar": [
           {
            "error_x": {
             "color": "#2a3f5f"
            },
            "error_y": {
             "color": "#2a3f5f"
            },
            "marker": {
             "line": {
              "color": "#E5ECF6",
              "width": 0.5
             },
             "pattern": {
              "fillmode": "overlay",
              "size": 10,
              "solidity": 0.2
             }
            },
            "type": "bar"
           }
          ],
          "barpolar": [
           {
            "marker": {
             "line": {
              "color": "#E5ECF6",
              "width": 0.5
             },
             "pattern": {
              "fillmode": "overlay",
              "size": 10,
              "solidity": 0.2
             }
            },
            "type": "barpolar"
           }
          ],
          "carpet": [
           {
            "aaxis": {
             "endlinecolor": "#2a3f5f",
             "gridcolor": "white",
             "linecolor": "white",
             "minorgridcolor": "white",
             "startlinecolor": "#2a3f5f"
            },
            "baxis": {
             "endlinecolor": "#2a3f5f",
             "gridcolor": "white",
             "linecolor": "white",
             "minorgridcolor": "white",
             "startlinecolor": "#2a3f5f"
            },
            "type": "carpet"
           }
          ],
          "choropleth": [
           {
            "colorbar": {
             "outlinewidth": 0,
             "ticks": ""
            },
            "type": "choropleth"
           }
          ],
          "contour": [
           {
            "colorbar": {
             "outlinewidth": 0,
             "ticks": ""
            },
            "colorscale": [
             [
              0,
              "#0d0887"
             ],
             [
              0.1111111111111111,
              "#46039f"
             ],
             [
              0.2222222222222222,
              "#7201a8"
             ],
             [
              0.3333333333333333,
              "#9c179e"
             ],
             [
              0.4444444444444444,
              "#bd3786"
             ],
             [
              0.5555555555555556,
              "#d8576b"
             ],
             [
              0.6666666666666666,
              "#ed7953"
             ],
             [
              0.7777777777777778,
              "#fb9f3a"
             ],
             [
              0.8888888888888888,
              "#fdca26"
             ],
             [
              1,
              "#f0f921"
             ]
            ],
            "type": "contour"
           }
          ],
          "contourcarpet": [
           {
            "colorbar": {
             "outlinewidth": 0,
             "ticks": ""
            },
            "type": "contourcarpet"
           }
          ],
          "heatmap": [
           {
            "colorbar": {
             "outlinewidth": 0,
             "ticks": ""
            },
            "colorscale": [
             [
              0,
              "#0d0887"
             ],
             [
              0.1111111111111111,
              "#46039f"
             ],
             [
              0.2222222222222222,
              "#7201a8"
             ],
             [
              0.3333333333333333,
              "#9c179e"
             ],
             [
              0.4444444444444444,
              "#bd3786"
             ],
             [
              0.5555555555555556,
              "#d8576b"
             ],
             [
              0.6666666666666666,
              "#ed7953"
             ],
             [
              0.7777777777777778,
              "#fb9f3a"
             ],
             [
              0.8888888888888888,
              "#fdca26"
             ],
             [
              1,
              "#f0f921"
             ]
            ],
            "type": "heatmap"
           }
          ],
          "heatmapgl": [
           {
            "colorbar": {
             "outlinewidth": 0,
             "ticks": ""
            },
            "colorscale": [
             [
              0,
              "#0d0887"
             ],
             [
              0.1111111111111111,
              "#46039f"
             ],
             [
              0.2222222222222222,
              "#7201a8"
             ],
             [
              0.3333333333333333,
              "#9c179e"
             ],
             [
              0.4444444444444444,
              "#bd3786"
             ],
             [
              0.5555555555555556,
              "#d8576b"
             ],
             [
              0.6666666666666666,
              "#ed7953"
             ],
             [
              0.7777777777777778,
              "#fb9f3a"
             ],
             [
              0.8888888888888888,
              "#fdca26"
             ],
             [
              1,
              "#f0f921"
             ]
            ],
            "type": "heatmapgl"
           }
          ],
          "histogram": [
           {
            "marker": {
             "pattern": {
              "fillmode": "overlay",
              "size": 10,
              "solidity": 0.2
             }
            },
            "type": "histogram"
           }
          ],
          "histogram2d": [
           {
            "colorbar": {
             "outlinewidth": 0,
             "ticks": ""
            },
            "colorscale": [
             [
              0,
              "#0d0887"
             ],
             [
              0.1111111111111111,
              "#46039f"
             ],
             [
              0.2222222222222222,
              "#7201a8"
             ],
             [
              0.3333333333333333,
              "#9c179e"
             ],
             [
              0.4444444444444444,
              "#bd3786"
             ],
             [
              0.5555555555555556,
              "#d8576b"
             ],
             [
              0.6666666666666666,
              "#ed7953"
             ],
             [
              0.7777777777777778,
              "#fb9f3a"
             ],
             [
              0.8888888888888888,
              "#fdca26"
             ],
             [
              1,
              "#f0f921"
             ]
            ],
            "type": "histogram2d"
           }
          ],
          "histogram2dcontour": [
           {
            "colorbar": {
             "outlinewidth": 0,
             "ticks": ""
            },
            "colorscale": [
             [
              0,
              "#0d0887"
             ],
             [
              0.1111111111111111,
              "#46039f"
             ],
             [
              0.2222222222222222,
              "#7201a8"
             ],
             [
              0.3333333333333333,
              "#9c179e"
             ],
             [
              0.4444444444444444,
              "#bd3786"
             ],
             [
              0.5555555555555556,
              "#d8576b"
             ],
             [
              0.6666666666666666,
              "#ed7953"
             ],
             [
              0.7777777777777778,
              "#fb9f3a"
             ],
             [
              0.8888888888888888,
              "#fdca26"
             ],
             [
              1,
              "#f0f921"
             ]
            ],
            "type": "histogram2dcontour"
           }
          ],
          "mesh3d": [
           {
            "colorbar": {
             "outlinewidth": 0,
             "ticks": ""
            },
            "type": "mesh3d"
           }
          ],
          "parcoords": [
           {
            "line": {
             "colorbar": {
              "outlinewidth": 0,
              "ticks": ""
             }
            },
            "type": "parcoords"
           }
          ],
          "pie": [
           {
            "automargin": true,
            "type": "pie"
           }
          ],
          "scatter": [
           {
            "marker": {
             "colorbar": {
              "outlinewidth": 0,
              "ticks": ""
             }
            },
            "type": "scatter"
           }
          ],
          "scatter3d": [
           {
            "line": {
             "colorbar": {
              "outlinewidth": 0,
              "ticks": ""
             }
            },
            "marker": {
             "colorbar": {
              "outlinewidth": 0,
              "ticks": ""
             }
            },
            "type": "scatter3d"
           }
          ],
          "scattercarpet": [
           {
            "marker": {
             "colorbar": {
              "outlinewidth": 0,
              "ticks": ""
             }
            },
            "type": "scattercarpet"
           }
          ],
          "scattergeo": [
           {
            "marker": {
             "colorbar": {
              "outlinewidth": 0,
              "ticks": ""
             }
            },
            "type": "scattergeo"
           }
          ],
          "scattergl": [
           {
            "marker": {
             "colorbar": {
              "outlinewidth": 0,
              "ticks": ""
             }
            },
            "type": "scattergl"
           }
          ],
          "scattermapbox": [
           {
            "marker": {
             "colorbar": {
              "outlinewidth": 0,
              "ticks": ""
             }
            },
            "type": "scattermapbox"
           }
          ],
          "scatterpolar": [
           {
            "marker": {
             "colorbar": {
              "outlinewidth": 0,
              "ticks": ""
             }
            },
            "type": "scatterpolar"
           }
          ],
          "scatterpolargl": [
           {
            "marker": {
             "colorbar": {
              "outlinewidth": 0,
              "ticks": ""
             }
            },
            "type": "scatterpolargl"
           }
          ],
          "scatterternary": [
           {
            "marker": {
             "colorbar": {
              "outlinewidth": 0,
              "ticks": ""
             }
            },
            "type": "scatterternary"
           }
          ],
          "surface": [
           {
            "colorbar": {
             "outlinewidth": 0,
             "ticks": ""
            },
            "colorscale": [
             [
              0,
              "#0d0887"
             ],
             [
              0.1111111111111111,
              "#46039f"
             ],
             [
              0.2222222222222222,
              "#7201a8"
             ],
             [
              0.3333333333333333,
              "#9c179e"
             ],
             [
              0.4444444444444444,
              "#bd3786"
             ],
             [
              0.5555555555555556,
              "#d8576b"
             ],
             [
              0.6666666666666666,
              "#ed7953"
             ],
             [
              0.7777777777777778,
              "#fb9f3a"
             ],
             [
              0.8888888888888888,
              "#fdca26"
             ],
             [
              1,
              "#f0f921"
             ]
            ],
            "type": "surface"
           }
          ],
          "table": [
           {
            "cells": {
             "fill": {
              "color": "#EBF0F8"
             },
             "line": {
              "color": "white"
             }
            },
            "header": {
             "fill": {
              "color": "#C8D4E3"
             },
             "line": {
              "color": "white"
             }
            },
            "type": "table"
           }
          ]
         },
         "layout": {
          "annotationdefaults": {
           "arrowcolor": "#2a3f5f",
           "arrowhead": 0,
           "arrowwidth": 1
          },
          "autotypenumbers": "strict",
          "coloraxis": {
           "colorbar": {
            "outlinewidth": 0,
            "ticks": ""
           }
          },
          "colorscale": {
           "diverging": [
            [
             0,
             "#8e0152"
            ],
            [
             0.1,
             "#c51b7d"
            ],
            [
             0.2,
             "#de77ae"
            ],
            [
             0.3,
             "#f1b6da"
            ],
            [
             0.4,
             "#fde0ef"
            ],
            [
             0.5,
             "#f7f7f7"
            ],
            [
             0.6,
             "#e6f5d0"
            ],
            [
             0.7,
             "#b8e186"
            ],
            [
             0.8,
             "#7fbc41"
            ],
            [
             0.9,
             "#4d9221"
            ],
            [
             1,
             "#276419"
            ]
           ],
           "sequential": [
            [
             0,
             "#0d0887"
            ],
            [
             0.1111111111111111,
             "#46039f"
            ],
            [
             0.2222222222222222,
             "#7201a8"
            ],
            [
             0.3333333333333333,
             "#9c179e"
            ],
            [
             0.4444444444444444,
             "#bd3786"
            ],
            [
             0.5555555555555556,
             "#d8576b"
            ],
            [
             0.6666666666666666,
             "#ed7953"
            ],
            [
             0.7777777777777778,
             "#fb9f3a"
            ],
            [
             0.8888888888888888,
             "#fdca26"
            ],
            [
             1,
             "#f0f921"
            ]
           ],
           "sequentialminus": [
            [
             0,
             "#0d0887"
            ],
            [
             0.1111111111111111,
             "#46039f"
            ],
            [
             0.2222222222222222,
             "#7201a8"
            ],
            [
             0.3333333333333333,
             "#9c179e"
            ],
            [
             0.4444444444444444,
             "#bd3786"
            ],
            [
             0.5555555555555556,
             "#d8576b"
            ],
            [
             0.6666666666666666,
             "#ed7953"
            ],
            [
             0.7777777777777778,
             "#fb9f3a"
            ],
            [
             0.8888888888888888,
             "#fdca26"
            ],
            [
             1,
             "#f0f921"
            ]
           ]
          },
          "colorway": [
           "#636efa",
           "#EF553B",
           "#00cc96",
           "#ab63fa",
           "#FFA15A",
           "#19d3f3",
           "#FF6692",
           "#B6E880",
           "#FF97FF",
           "#FECB52"
          ],
          "font": {
           "color": "#2a3f5f"
          },
          "geo": {
           "bgcolor": "white",
           "lakecolor": "white",
           "landcolor": "#E5ECF6",
           "showlakes": true,
           "showland": true,
           "subunitcolor": "white"
          },
          "hoverlabel": {
           "align": "left"
          },
          "hovermode": "closest",
          "mapbox": {
           "style": "light"
          },
          "paper_bgcolor": "white",
          "plot_bgcolor": "#E5ECF6",
          "polar": {
           "angularaxis": {
            "gridcolor": "white",
            "linecolor": "white",
            "ticks": ""
           },
           "bgcolor": "#E5ECF6",
           "radialaxis": {
            "gridcolor": "white",
            "linecolor": "white",
            "ticks": ""
           }
          },
          "scene": {
           "xaxis": {
            "backgroundcolor": "#E5ECF6",
            "gridcolor": "white",
            "gridwidth": 2,
            "linecolor": "white",
            "showbackground": true,
            "ticks": "",
            "zerolinecolor": "white"
           },
           "yaxis": {
            "backgroundcolor": "#E5ECF6",
            "gridcolor": "white",
            "gridwidth": 2,
            "linecolor": "white",
            "showbackground": true,
            "ticks": "",
            "zerolinecolor": "white"
           },
           "zaxis": {
            "backgroundcolor": "#E5ECF6",
            "gridcolor": "white",
            "gridwidth": 2,
            "linecolor": "white",
            "showbackground": true,
            "ticks": "",
            "zerolinecolor": "white"
           }
          },
          "shapedefaults": {
           "line": {
            "color": "#2a3f5f"
           }
          },
          "ternary": {
           "aaxis": {
            "gridcolor": "white",
            "linecolor": "white",
            "ticks": ""
           },
           "baxis": {
            "gridcolor": "white",
            "linecolor": "white",
            "ticks": ""
           },
           "bgcolor": "#E5ECF6",
           "caxis": {
            "gridcolor": "white",
            "linecolor": "white",
            "ticks": ""
           }
          },
          "title": {
           "x": 0.05
          },
          "xaxis": {
           "automargin": true,
           "gridcolor": "white",
           "linecolor": "white",
           "ticks": "",
           "title": {
            "standoff": 15
           },
           "zerolinecolor": "white",
           "zerolinewidth": 2
          },
          "yaxis": {
           "automargin": true,
           "gridcolor": "white",
           "linecolor": "white",
           "ticks": "",
           "title": {
            "standoff": 15
           },
           "zerolinecolor": "white",
           "zerolinewidth": 2
          }
         }
        },
        "title": {
         "text": "Stacked Barplot of Predicted Superclasses Recurrence for All Species"
        },
        "width": 1500,
        "xaxis": {
         "anchor": "y",
         "domain": [
          0,
          1
         ],
         "title": {
          "text": "Recurrence"
         }
        },
        "yaxis": {
         "anchor": "x",
         "domain": [
          0,
          1
         ],
         "title": {
          "text": "Species"
         }
        }
       }
      },
      "text/html": [
       "<div>                            <div id=\"19633189-86a6-4120-89f3-d65fa9783956\" class=\"plotly-graph-div\" style=\"height:900px; width:1500px;\"></div>            <script type=\"text/javascript\">                require([\"plotly\"], function(Plotly) {                    window.PLOTLYENV=window.PLOTLYENV || {};                                    if (document.getElementById(\"19633189-86a6-4120-89f3-d65fa9783956\")) {                    Plotly.newPlot(                        \"19633189-86a6-4120-89f3-d65fa9783956\",                        [{\"alignmentgroup\":\"True\",\"hovertemplate\":\"chemical_superclass=Alkaloids-Aminosugars and aminoglycosides<br>Recurrence=%{x}<br>y=%{y}<extra></extra>\",\"legendgroup\":\"Alkaloids-Aminosugars and aminoglycosides\",\"marker\":{\"color\":\"rgb(229, 134, 6)\",\"pattern\":{\"shape\":\"\"}},\"name\":\"Alkaloids-Aminosugars and aminoglycosides\",\"offsetgroup\":\"Alkaloids-Aminosugars and aminoglycosides\",\"orientation\":\"h\",\"showlegend\":true,\"textposition\":\"auto\",\"type\":\"bar\",\"x\":[1],\"xaxis\":\"x\",\"y\":[\"<i>Lonchocarpus heptaphyllus</i>\"],\"yaxis\":\"y\"},{\"alignmentgroup\":\"True\",\"hovertemplate\":\"chemical_superclass=Alkaloids-Anthranilic acid alkaloids<br>Recurrence=%{x}<br>y=%{y}<extra></extra>\",\"legendgroup\":\"Alkaloids-Anthranilic acid alkaloids\",\"marker\":{\"color\":\"rgb(93, 105, 177)\",\"pattern\":{\"shape\":\"\"}},\"name\":\"Alkaloids-Anthranilic acid alkaloids\",\"offsetgroup\":\"Alkaloids-Anthranilic acid alkaloids\",\"orientation\":\"h\",\"showlegend\":true,\"textposition\":\"auto\",\"type\":\"bar\",\"x\":[1],\"xaxis\":\"x\",\"y\":[\"<i>Mimosa pudica</i>\"],\"yaxis\":\"y\"},{\"alignmentgroup\":\"True\",\"hovertemplate\":\"chemical_superclass=Alkaloids-Histidine alkaloids<br>Recurrence=%{x}<br>y=%{y}<extra></extra>\",\"legendgroup\":\"Alkaloids-Histidine alkaloids\",\"marker\":{\"color\":\"rgb(82, 188, 163)\",\"pattern\":{\"shape\":\"\"}},\"name\":\"Alkaloids-Histidine alkaloids\",\"offsetgroup\":\"Alkaloids-Histidine alkaloids\",\"orientation\":\"h\",\"showlegend\":true,\"textposition\":\"auto\",\"type\":\"bar\",\"x\":[1],\"xaxis\":\"x\",\"y\":[\"<i>Talipariti tiliaceum</i>\"],\"yaxis\":\"y\"},{\"alignmentgroup\":\"True\",\"hovertemplate\":\"chemical_superclass=Alkaloids-Lysine alkaloids<br>Recurrence=%{x}<br>y=%{y}<extra></extra>\",\"legendgroup\":\"Alkaloids-Lysine alkaloids\",\"marker\":{\"color\":\"rgb(153, 201, 69)\",\"pattern\":{\"shape\":\"\"}},\"name\":\"Alkaloids-Lysine alkaloids\",\"offsetgroup\":\"Alkaloids-Lysine alkaloids\",\"orientation\":\"h\",\"showlegend\":true,\"textposition\":\"auto\",\"type\":\"bar\",\"x\":[1,7,2,6],\"xaxis\":\"x\",\"y\":[\"<i>Ageratina ligustrina</i>\",\"<i>Erythrina berteroana</i>\",\"<i>Piper reticulatum</i>\",\"<i>Prosopis juliflora</i>\"],\"yaxis\":\"y\"},{\"alignmentgroup\":\"True\",\"hovertemplate\":\"chemical_superclass=Alkaloids-Nicotinic acid alkaloids<br>Recurrence=%{x}<br>y=%{y}<extra></extra>\",\"legendgroup\":\"Alkaloids-Nicotinic acid alkaloids\",\"marker\":{\"color\":\"rgb(204, 97, 176)\",\"pattern\":{\"shape\":\"\"}},\"name\":\"Alkaloids-Nicotinic acid alkaloids\",\"offsetgroup\":\"Alkaloids-Nicotinic acid alkaloids\",\"orientation\":\"h\",\"showlegend\":true,\"textposition\":\"auto\",\"type\":\"bar\",\"x\":[1],\"xaxis\":\"x\",\"y\":[\"<i>Mimosa pudica</i>\"],\"yaxis\":\"y\"},{\"alignmentgroup\":\"True\",\"hovertemplate\":\"chemical_superclass=Alkaloids-Ornithine alkaloids<br>Recurrence=%{x}<br>y=%{y}<extra></extra>\",\"legendgroup\":\"Alkaloids-Ornithine alkaloids\",\"marker\":{\"color\":\"rgb(36, 121, 108)\",\"pattern\":{\"shape\":\"\"}},\"name\":\"Alkaloids-Ornithine alkaloids\",\"offsetgroup\":\"Alkaloids-Ornithine alkaloids\",\"orientation\":\"h\",\"showlegend\":true,\"textposition\":\"auto\",\"type\":\"bar\",\"x\":[3,2,6,1,1,4,1,1,3],\"xaxis\":\"x\",\"y\":[\"<i>Ageratina ligustrina</i>\",\"<i>Ageratum conyzoides</i>\",\"<i>Albizia adinocephala</i>\",\"<i>Alibertia edulis</i>\",\"<i>Catharanthus roseus</i>\",\"<i>Eichhornia crassipes</i>\",\"<i>Erythroxylum fimbriatum</i>\",\"<i>Samanea saman</i>\",\"<i>Telanthophora grandifolia</i>\"],\"yaxis\":\"y\"},{\"alignmentgroup\":\"True\",\"hovertemplate\":\"chemical_superclass=Alkaloids-Peptide alkaloids<br>Recurrence=%{x}<br>y=%{y}<extra></extra>\",\"legendgroup\":\"Alkaloids-Peptide alkaloids\",\"marker\":{\"color\":\"rgb(218, 165, 27)\",\"pattern\":{\"shape\":\"\"}},\"name\":\"Alkaloids-Peptide alkaloids\",\"offsetgroup\":\"Alkaloids-Peptide alkaloids\",\"orientation\":\"h\",\"showlegend\":true,\"textposition\":\"auto\",\"type\":\"bar\",\"x\":[1,7],\"xaxis\":\"x\",\"y\":[\"<i>Cymbopogon citratus</i>\",\"<i>Talipariti tiliaceum</i>\"],\"yaxis\":\"y\"},{\"alignmentgroup\":\"True\",\"hovertemplate\":\"chemical_superclass=Alkaloids-Pseudoalkaloids<br>Recurrence=%{x}<br>y=%{y}<extra></extra>\",\"legendgroup\":\"Alkaloids-Pseudoalkaloids\",\"marker\":{\"color\":\"rgb(47, 138, 196)\",\"pattern\":{\"shape\":\"\"}},\"name\":\"Alkaloids-Pseudoalkaloids\",\"offsetgroup\":\"Alkaloids-Pseudoalkaloids\",\"orientation\":\"h\",\"showlegend\":true,\"textposition\":\"auto\",\"type\":\"bar\",\"x\":[6,1,2,1],\"xaxis\":\"x\",\"y\":[\"<i>Catharanthus roseus</i>\",\"<i>Eichhornia crassipes</i>\",\"<i>Herrania purpurea</i>\",\"<i>Vasconcellea cauliflora</i>\"],\"yaxis\":\"y\"},{\"alignmentgroup\":\"True\",\"hovertemplate\":\"chemical_superclass=Alkaloids-Tetramate alkaloids<br>Recurrence=%{x}<br>y=%{y}<extra></extra>\",\"legendgroup\":\"Alkaloids-Tetramate alkaloids\",\"marker\":{\"color\":\"rgb(118, 78, 159)\",\"pattern\":{\"shape\":\"\"}},\"name\":\"Alkaloids-Tetramate alkaloids\",\"offsetgroup\":\"Alkaloids-Tetramate alkaloids\",\"orientation\":\"h\",\"showlegend\":true,\"textposition\":\"auto\",\"type\":\"bar\",\"x\":[2,1],\"xaxis\":\"x\",\"y\":[\"<i>Caesalpinia pulcherrima</i>\",\"<i>Cymbopogon citratus</i>\"],\"yaxis\":\"y\"},{\"alignmentgroup\":\"True\",\"hovertemplate\":\"chemical_superclass=Alkaloids-Tryptophan alkaloids<br>Recurrence=%{x}<br>y=%{y}<extra></extra>\",\"legendgroup\":\"Alkaloids-Tryptophan alkaloids\",\"marker\":{\"color\":\"rgb(237, 100, 90)\",\"pattern\":{\"shape\":\"\"}},\"name\":\"Alkaloids-Tryptophan alkaloids\",\"offsetgroup\":\"Alkaloids-Tryptophan alkaloids\",\"orientation\":\"h\",\"showlegend\":true,\"textposition\":\"auto\",\"type\":\"bar\",\"x\":[202,1,8,2,2,2,7],\"xaxis\":\"x\",\"y\":[\"<i>Catharanthus roseus</i>\",\"<i>Eichhornia crassipes</i>\",\"<i>Erythrina berteroana</i>\",\"<i>Ipomoea nil</i>\",\"<i>Morinda citrifolia</i>\",\"<i>Quassia amara</i>\",\"<i>Rauvolfia littoralis</i>\"],\"yaxis\":\"y\"},{\"alignmentgroup\":\"True\",\"hovertemplate\":\"chemical_superclass=Alkaloids-Tyrosine alkaloids<br>Recurrence=%{x}<br>y=%{y}<extra></extra>\",\"legendgroup\":\"Alkaloids-Tyrosine alkaloids\",\"marker\":{\"color\":\"rgb(165, 170, 153)\",\"pattern\":{\"shape\":\"\"}},\"name\":\"Alkaloids-Tyrosine alkaloids\",\"offsetgroup\":\"Alkaloids-Tyrosine alkaloids\",\"orientation\":\"h\",\"showlegend\":true,\"textposition\":\"auto\",\"type\":\"bar\",\"x\":[3,2,1,11],\"xaxis\":\"x\",\"y\":[\"<i>Cymbopogon citratus</i>\",\"<i>Eichhornia crassipes</i>\",\"<i>Nasturtium officinale</i>\",\"<i>Siparuna grandiflora</i>\"],\"yaxis\":\"y\"},{\"alignmentgroup\":\"True\",\"hovertemplate\":\"chemical_superclass=Amino acids and Peptides-Amino acid glycosides<br>Recurrence=%{x}<br>y=%{y}<extra></extra>\",\"legendgroup\":\"Amino acids and Peptides-Amino acid glycosides\",\"marker\":{\"color\":\"rgb(229, 134, 6)\",\"pattern\":{\"shape\":\"\"}},\"name\":\"Amino acids and Peptides-Amino acid glycosides\",\"offsetgroup\":\"Amino acids and Peptides-Amino acid glycosides\",\"orientation\":\"h\",\"showlegend\":true,\"textposition\":\"auto\",\"type\":\"bar\",\"x\":[2],\"xaxis\":\"x\",\"y\":[\"<i>Vasconcellea cauliflora</i>\"],\"yaxis\":\"y\"},{\"alignmentgroup\":\"True\",\"hovertemplate\":\"chemical_superclass=Amino acids and Peptides-Oligopeptides<br>Recurrence=%{x}<br>y=%{y}<extra></extra>\",\"legendgroup\":\"Amino acids and Peptides-Oligopeptides\",\"marker\":{\"color\":\"rgb(93, 105, 177)\",\"pattern\":{\"shape\":\"\"}},\"name\":\"Amino acids and Peptides-Oligopeptides\",\"offsetgroup\":\"Amino acids and Peptides-Oligopeptides\",\"orientation\":\"h\",\"showlegend\":true,\"textposition\":\"auto\",\"type\":\"bar\",\"x\":[1],\"xaxis\":\"x\",\"y\":[\"<i>Jatropha gossypiifolia</i>\"],\"yaxis\":\"y\"},{\"alignmentgroup\":\"True\",\"hovertemplate\":\"chemical_superclass=Amino acids and Peptides-Phenylpropanoids (C6-C3)<br>Recurrence=%{x}<br>y=%{y}<extra></extra>\",\"legendgroup\":\"Amino acids and Peptides-Phenylpropanoids (C6-C3)\",\"marker\":{\"color\":\"rgb(82, 188, 163)\",\"pattern\":{\"shape\":\"\"}},\"name\":\"Amino acids and Peptides-Phenylpropanoids (C6-C3)\",\"offsetgroup\":\"Amino acids and Peptides-Phenylpropanoids (C6-C3)\",\"orientation\":\"h\",\"showlegend\":true,\"textposition\":\"auto\",\"type\":\"bar\",\"x\":[1,1],\"xaxis\":\"x\",\"y\":[\"<i>Camonea umbellata</i>\",\"<i>Talipariti tiliaceum</i>\"],\"yaxis\":\"y\"},{\"alignmentgroup\":\"True\",\"hovertemplate\":\"chemical_superclass=Amino acids and Peptides-Small peptides<br>Recurrence=%{x}<br>y=%{y}<extra></extra>\",\"legendgroup\":\"Amino acids and Peptides-Small peptides\",\"marker\":{\"color\":\"rgb(153, 201, 69)\",\"pattern\":{\"shape\":\"\"}},\"name\":\"Amino acids and Peptides-Small peptides\",\"offsetgroup\":\"Amino acids and Peptides-Small peptides\",\"orientation\":\"h\",\"showlegend\":true,\"textposition\":\"auto\",\"type\":\"bar\",\"x\":[1,13,1,21,1,1,25,12,4,2,2,1],\"xaxis\":\"x\",\"y\":[\"<i>Canavalia rosea</i>\",\"<i>Catharanthus roseus</i>\",\"<i>Delonix regia</i>\",\"<i>Eichhornia crassipes</i>\",\"<i>Gliricidia sepium</i>\",\"<i>Guilandina bonduc</i>\",\"<i>Indigofera hirsuta</i>\",\"<i>Jatropha gossypiifolia</i>\",\"<i>Lantana camara</i>\",\"<i>Mimosa pudica</i>\",\"<i>Nasturtium officinale</i>\",\"<i>Prosopis juliflora</i>\"],\"yaxis\":\"y\"},{\"alignmentgroup\":\"True\",\"hovertemplate\":\"chemical_superclass=Carbohydrates-Aminosugars and aminoglycosides<br>Recurrence=%{x}<br>y=%{y}<extra></extra>\",\"legendgroup\":\"Carbohydrates-Aminosugars and aminoglycosides\",\"marker\":{\"color\":\"rgb(204, 97, 176)\",\"pattern\":{\"shape\":\"\"}},\"name\":\"Carbohydrates-Aminosugars and aminoglycosides\",\"offsetgroup\":\"Carbohydrates-Aminosugars and aminoglycosides\",\"orientation\":\"h\",\"showlegend\":true,\"textposition\":\"auto\",\"type\":\"bar\",\"x\":[2,4],\"xaxis\":\"x\",\"y\":[\"<i>Lonchocarpus heptaphyllus</i>\",\"<i>Omphalea diandra</i>\"],\"yaxis\":\"y\"},{\"alignmentgroup\":\"True\",\"hovertemplate\":\"chemical_superclass=Carbohydrates-Nucleosides<br>Recurrence=%{x}<br>y=%{y}<extra></extra>\",\"legendgroup\":\"Carbohydrates-Nucleosides\",\"marker\":{\"color\":\"rgb(36, 121, 108)\",\"pattern\":{\"shape\":\"\"}},\"name\":\"Carbohydrates-Nucleosides\",\"offsetgroup\":\"Carbohydrates-Nucleosides\",\"orientation\":\"h\",\"showlegend\":true,\"textposition\":\"auto\",\"type\":\"bar\",\"x\":[1,2],\"xaxis\":\"x\",\"y\":[\"<i>Catharanthus roseus</i>\",\"<i>Morinda citrifolia</i>\"],\"yaxis\":\"y\"},{\"alignmentgroup\":\"True\",\"hovertemplate\":\"chemical_superclass=Carbohydrates-Polyols<br>Recurrence=%{x}<br>y=%{y}<extra></extra>\",\"legendgroup\":\"Carbohydrates-Polyols\",\"marker\":{\"color\":\"rgb(218, 165, 27)\",\"pattern\":{\"shape\":\"\"}},\"name\":\"Carbohydrates-Polyols\",\"offsetgroup\":\"Carbohydrates-Polyols\",\"orientation\":\"h\",\"showlegend\":true,\"textposition\":\"auto\",\"type\":\"bar\",\"x\":[1],\"xaxis\":\"x\",\"y\":[\"<i>Gliricidia sepium</i>\"],\"yaxis\":\"y\"},{\"alignmentgroup\":\"True\",\"hovertemplate\":\"chemical_superclass=Carbohydrates-Saccharides<br>Recurrence=%{x}<br>y=%{y}<extra></extra>\",\"legendgroup\":\"Carbohydrates-Saccharides\",\"marker\":{\"color\":\"rgb(47, 138, 196)\",\"pattern\":{\"shape\":\"\"}},\"name\":\"Carbohydrates-Saccharides\",\"offsetgroup\":\"Carbohydrates-Saccharides\",\"orientation\":\"h\",\"showlegend\":true,\"textposition\":\"auto\",\"type\":\"bar\",\"x\":[1,10,1,3,6,5,1,18,5],\"xaxis\":\"x\",\"y\":[\"<i>Acrocomia aculeata</i>\",\"<i>Catharanthus roseus</i>\",\"<i>Genipa americana</i>\",\"<i>Jatropha gossypiifolia</i>\",\"<i>Lantana camara</i>\",\"<i>Morinda citrifolia</i>\",\"<i>Quassia amara</i>\",\"<i>Saccharum officinarum</i>\",\"<i>Sapium laurifolium</i>\"],\"yaxis\":\"y\"},{\"alignmentgroup\":\"True\",\"hovertemplate\":\"chemical_superclass=Fatty acids-Apocarotenoids<br>Recurrence=%{x}<br>y=%{y}<extra></extra>\",\"legendgroup\":\"Fatty acids-Apocarotenoids\",\"marker\":{\"color\":\"rgb(118, 78, 159)\",\"pattern\":{\"shape\":\"\"}},\"name\":\"Fatty acids-Apocarotenoids\",\"offsetgroup\":\"Fatty acids-Apocarotenoids\",\"orientation\":\"h\",\"showlegend\":true,\"textposition\":\"auto\",\"type\":\"bar\",\"x\":[1,1],\"xaxis\":\"x\",\"y\":[\"<i>Catharanthus roseus</i>\",\"<i>Cymbopogon citratus</i>\"],\"yaxis\":\"y\"},{\"alignmentgroup\":\"True\",\"hovertemplate\":\"chemical_superclass=Fatty acids-Fatty Acids and Conjugates<br>Recurrence=%{x}<br>y=%{y}<extra></extra>\",\"legendgroup\":\"Fatty acids-Fatty Acids and Conjugates\",\"marker\":{\"color\":\"rgb(237, 100, 90)\",\"pattern\":{\"shape\":\"\"}},\"name\":\"Fatty acids-Fatty Acids and Conjugates\",\"offsetgroup\":\"Fatty acids-Fatty Acids and Conjugates\",\"orientation\":\"h\",\"showlegend\":true,\"textposition\":\"auto\",\"type\":\"bar\",\"x\":[1,3,1,10,3,8,7,5,11,2,3,1],\"xaxis\":\"x\",\"y\":[\"<i>Ageratina ligustrina</i>\",\"<i>Ageratum conyzoides</i>\",\"<i>Caesalpinia pulcherrima</i>\",\"<i>Catharanthus roseus</i>\",\"<i>Cymbopogon citratus</i>\",\"<i>Delonix regia</i>\",\"<i>Ipomoea nil</i>\",\"<i>Jatropha gossypiifolia</i>\",\"<i>Lantana camara</i>\",\"<i>Morinda citrifolia</i>\",\"<i>Saccharum officinarum</i>\",\"<i>Samanea saman</i>\"],\"yaxis\":\"y\"},{\"alignmentgroup\":\"True\",\"hovertemplate\":\"chemical_superclass=Fatty acids-Fatty acyl glycosides<br>Recurrence=%{x}<br>y=%{y}<extra></extra>\",\"legendgroup\":\"Fatty acids-Fatty acyl glycosides\",\"marker\":{\"color\":\"rgb(165, 170, 153)\",\"pattern\":{\"shape\":\"\"}},\"name\":\"Fatty acids-Fatty acyl glycosides\",\"offsetgroup\":\"Fatty acids-Fatty acyl glycosides\",\"orientation\":\"h\",\"showlegend\":true,\"textposition\":\"auto\",\"type\":\"bar\",\"x\":[3,9,1],\"xaxis\":\"x\",\"y\":[\"<i>Crescentia cujete</i>\",\"<i>Morinda citrifolia</i>\",\"<i>Paullinia pinnata</i>\"],\"yaxis\":\"y\"},{\"alignmentgroup\":\"True\",\"hovertemplate\":\"chemical_superclass=Fatty acids-Fatty acyls<br>Recurrence=%{x}<br>y=%{y}<extra></extra>\",\"legendgroup\":\"Fatty acids-Fatty acyls\",\"marker\":{\"color\":\"rgb(229, 134, 6)\",\"pattern\":{\"shape\":\"\"}},\"name\":\"Fatty acids-Fatty acyls\",\"offsetgroup\":\"Fatty acids-Fatty acyls\",\"orientation\":\"h\",\"showlegend\":true,\"textposition\":\"auto\",\"type\":\"bar\",\"x\":[1,12,18,1,5,11,2],\"xaxis\":\"x\",\"y\":[\"<i>Acrostichum aureum</i>\",\"<i>Ageratum conyzoides</i>\",\"<i>Cymbopogon citratus</i>\",\"<i>Gliricidia sepium</i>\",\"<i>Ipomoea nil</i>\",\"<i>Lantana camara</i>\",\"<i>Mimosa pudica</i>\"],\"yaxis\":\"y\"},{\"alignmentgroup\":\"True\",\"hovertemplate\":\"chemical_superclass=Fatty acids-Fatty esters<br>Recurrence=%{x}<br>y=%{y}<extra></extra>\",\"legendgroup\":\"Fatty acids-Fatty esters\",\"marker\":{\"color\":\"rgb(93, 105, 177)\",\"pattern\":{\"shape\":\"\"}},\"name\":\"Fatty acids-Fatty esters\",\"offsetgroup\":\"Fatty acids-Fatty esters\",\"orientation\":\"h\",\"showlegend\":true,\"textposition\":\"auto\",\"type\":\"bar\",\"x\":[4,2,1,2,1],\"xaxis\":\"x\",\"y\":[\"<i>Ageratum conyzoides</i>\",\"<i>Catharanthus roseus</i>\",\"<i>Ficus benjamina</i>\",\"<i>Morinda citrifolia</i>\",\"<i>Rhizophora mangle</i>\"],\"yaxis\":\"y\"},{\"alignmentgroup\":\"True\",\"hovertemplate\":\"chemical_superclass=Fatty acids-Glycerolipids<br>Recurrence=%{x}<br>y=%{y}<extra></extra>\",\"legendgroup\":\"Fatty acids-Glycerolipids\",\"marker\":{\"color\":\"rgb(82, 188, 163)\",\"pattern\":{\"shape\":\"\"}},\"name\":\"Fatty acids-Glycerolipids\",\"offsetgroup\":\"Fatty acids-Glycerolipids\",\"orientation\":\"h\",\"showlegend\":true,\"textposition\":\"auto\",\"type\":\"bar\",\"x\":[3,3,2],\"xaxis\":\"x\",\"y\":[\"<i>Ipomoea nil</i>\",\"<i>Morinda citrifolia</i>\",\"<i>Phoradendron</i>\"],\"yaxis\":\"y\"},{\"alignmentgroup\":\"True\",\"hovertemplate\":\"chemical_superclass=Fatty acids-Monoterpenoids<br>Recurrence=%{x}<br>y=%{y}<extra></extra>\",\"legendgroup\":\"Fatty acids-Monoterpenoids\",\"marker\":{\"color\":\"rgb(153, 201, 69)\",\"pattern\":{\"shape\":\"\"}},\"name\":\"Fatty acids-Monoterpenoids\",\"offsetgroup\":\"Fatty acids-Monoterpenoids\",\"orientation\":\"h\",\"showlegend\":true,\"textposition\":\"auto\",\"type\":\"bar\",\"x\":[1,1],\"xaxis\":\"x\",\"y\":[\"<i>Cymbopogon citratus</i>\",\"<i>Lantana camara</i>\"],\"yaxis\":\"y\"},{\"alignmentgroup\":\"True\",\"hovertemplate\":\"chemical_superclass=Fatty acids-Octadecanoids<br>Recurrence=%{x}<br>y=%{y}<extra></extra>\",\"legendgroup\":\"Fatty acids-Octadecanoids\",\"marker\":{\"color\":\"rgb(204, 97, 176)\",\"pattern\":{\"shape\":\"\"}},\"name\":\"Fatty acids-Octadecanoids\",\"offsetgroup\":\"Fatty acids-Octadecanoids\",\"orientation\":\"h\",\"showlegend\":true,\"textposition\":\"auto\",\"type\":\"bar\",\"x\":[1,2,1,1,1,1],\"xaxis\":\"x\",\"y\":[\"<i>Ageratum conyzoides</i>\",\"<i>Catharanthus roseus</i>\",\"<i>Ipomoea nil</i>\",\"<i>Mimosa pudica</i>\",\"<i>Morinda citrifolia</i>\",\"<i>Samanea saman</i>\"],\"yaxis\":\"y\"},{\"alignmentgroup\":\"True\",\"hovertemplate\":\"chemical_superclass=Polyketides-Aromatic polyketides<br>Recurrence=%{x}<br>y=%{y}<extra></extra>\",\"legendgroup\":\"Polyketides-Aromatic polyketides\",\"marker\":{\"color\":\"rgb(36, 121, 108)\",\"pattern\":{\"shape\":\"\"}},\"name\":\"Polyketides-Aromatic polyketides\",\"offsetgroup\":\"Polyketides-Aromatic polyketides\",\"orientation\":\"h\",\"showlegend\":true,\"textposition\":\"auto\",\"type\":\"bar\",\"x\":[1,1,2,2],\"xaxis\":\"x\",\"y\":[\"<i>Caesalpinia pulcherrima</i>\",\"<i>Laguncularia racemosa</i>\",\"<i>Morinda citrifolia</i>\",\"<i>Talipariti tiliaceum</i>\"],\"yaxis\":\"y\"},{\"alignmentgroup\":\"True\",\"hovertemplate\":\"chemical_superclass=Polyketides-Chromanes<br>Recurrence=%{x}<br>y=%{y}<extra></extra>\",\"legendgroup\":\"Polyketides-Chromanes\",\"marker\":{\"color\":\"rgb(218, 165, 27)\",\"pattern\":{\"shape\":\"\"}},\"name\":\"Polyketides-Chromanes\",\"offsetgroup\":\"Polyketides-Chromanes\",\"orientation\":\"h\",\"showlegend\":true,\"textposition\":\"auto\",\"type\":\"bar\",\"x\":[1,2],\"xaxis\":\"x\",\"y\":[\"<i>Ageratum conyzoides</i>\",\"<i>Talipariti tiliaceum</i>\"],\"yaxis\":\"y\"},{\"alignmentgroup\":\"True\",\"hovertemplate\":\"chemical_superclass=Polyketides-Cyclic polyketides<br>Recurrence=%{x}<br>y=%{y}<extra></extra>\",\"legendgroup\":\"Polyketides-Cyclic polyketides\",\"marker\":{\"color\":\"rgb(47, 138, 196)\",\"pattern\":{\"shape\":\"\"}},\"name\":\"Polyketides-Cyclic polyketides\",\"offsetgroup\":\"Polyketides-Cyclic polyketides\",\"orientation\":\"h\",\"showlegend\":true,\"textposition\":\"auto\",\"type\":\"bar\",\"x\":[1,1,2],\"xaxis\":\"x\",\"y\":[\"<i>Lantana camara</i>\",\"<i>Morinda citrifolia</i>\",\"<i>Piper reticulatum</i>\"],\"yaxis\":\"y\"},{\"alignmentgroup\":\"True\",\"hovertemplate\":\"chemical_superclass=Polyketides-Meroterpenoids<br>Recurrence=%{x}<br>y=%{y}<extra></extra>\",\"legendgroup\":\"Polyketides-Meroterpenoids\",\"marker\":{\"color\":\"rgb(118, 78, 159)\",\"pattern\":{\"shape\":\"\"}},\"name\":\"Polyketides-Meroterpenoids\",\"offsetgroup\":\"Polyketides-Meroterpenoids\",\"orientation\":\"h\",\"showlegend\":true,\"textposition\":\"auto\",\"type\":\"bar\",\"x\":[2,11,2],\"xaxis\":\"x\",\"y\":[\"<i>Marila laxiflora</i>\",\"<i>Peperomia galioides</i>\",\"<i>Talipariti tiliaceum</i>\"],\"yaxis\":\"y\"},{\"alignmentgroup\":\"True\",\"hovertemplate\":\"chemical_superclass=Polyketides-Naphthalenes<br>Recurrence=%{x}<br>y=%{y}<extra></extra>\",\"legendgroup\":\"Polyketides-Naphthalenes\",\"marker\":{\"color\":\"rgb(237, 100, 90)\",\"pattern\":{\"shape\":\"\"}},\"name\":\"Polyketides-Naphthalenes\",\"offsetgroup\":\"Polyketides-Naphthalenes\",\"orientation\":\"h\",\"showlegend\":true,\"textposition\":\"auto\",\"type\":\"bar\",\"x\":[1,1,2,1,8,1,7],\"xaxis\":\"x\",\"y\":[\"<i>Avicennia germinans</i>\",\"<i>Caesalpinia pulcherrima</i>\",\"<i>Crescentia cujete</i>\",\"<i>Eichhornia crassipes</i>\",\"<i>Lantana camara</i>\",\"<i>Morinda citrifolia</i>\",\"<i>Talipariti tiliaceum</i>\"],\"yaxis\":\"y\"},{\"alignmentgroup\":\"True\",\"hovertemplate\":\"chemical_superclass=Polyketides-Phloroglucinols<br>Recurrence=%{x}<br>y=%{y}<extra></extra>\",\"legendgroup\":\"Polyketides-Phloroglucinols\",\"marker\":{\"color\":\"rgb(165, 170, 153)\",\"pattern\":{\"shape\":\"\"}},\"name\":\"Polyketides-Phloroglucinols\",\"offsetgroup\":\"Polyketides-Phloroglucinols\",\"orientation\":\"h\",\"showlegend\":true,\"textposition\":\"auto\",\"type\":\"bar\",\"x\":[1,1,8],\"xaxis\":\"x\",\"y\":[\"<i>Cassia grandis</i>\",\"<i>Maclura tinctoria</i>\",\"<i>Tovomita longifolia</i>\"],\"yaxis\":\"y\"},{\"alignmentgroup\":\"True\",\"hovertemplate\":\"chemical_superclass=Polyketides-Polycyclic aromatic polyketides<br>Recurrence=%{x}<br>y=%{y}<extra></extra>\",\"legendgroup\":\"Polyketides-Polycyclic aromatic polyketides\",\"marker\":{\"color\":\"rgb(229, 134, 6)\",\"pattern\":{\"shape\":\"\"}},\"name\":\"Polyketides-Polycyclic aromatic polyketides\",\"offsetgroup\":\"Polyketides-Polycyclic aromatic polyketides\",\"orientation\":\"h\",\"showlegend\":true,\"textposition\":\"auto\",\"type\":\"bar\",\"x\":[4,6,1,51,17],\"xaxis\":\"x\",\"y\":[\"<i>Cassia grandis</i>\",\"<i>Faramea occidentalis</i>\",\"<i>Ipomoea nil</i>\",\"<i>Morinda citrifolia</i>\",\"<i>Picramnia latifolia</i>\"],\"yaxis\":\"y\"},{\"alignmentgroup\":\"True\",\"hovertemplate\":\"chemical_superclass=Polyketides-Xanthones<br>Recurrence=%{x}<br>y=%{y}<extra></extra>\",\"legendgroup\":\"Polyketides-Xanthones\",\"marker\":{\"color\":\"rgb(93, 105, 177)\",\"pattern\":{\"shape\":\"\"}},\"name\":\"Polyketides-Xanthones\",\"offsetgroup\":\"Polyketides-Xanthones\",\"orientation\":\"h\",\"showlegend\":true,\"textposition\":\"auto\",\"type\":\"bar\",\"x\":[1],\"xaxis\":\"x\",\"y\":[\"<i>Faramea occidentalis</i>\"],\"yaxis\":\"y\"},{\"alignmentgroup\":\"True\",\"hovertemplate\":\"chemical_superclass=Shikimates and Phenylpropanoids-Coumarins<br>Recurrence=%{x}<br>y=%{y}<extra></extra>\",\"legendgroup\":\"Shikimates and Phenylpropanoids-Coumarins\",\"marker\":{\"color\":\"rgb(82, 188, 163)\",\"pattern\":{\"shape\":\"\"}},\"name\":\"Shikimates and Phenylpropanoids-Coumarins\",\"offsetgroup\":\"Shikimates and Phenylpropanoids-Coumarins\",\"orientation\":\"h\",\"showlegend\":true,\"textposition\":\"auto\",\"type\":\"bar\",\"x\":[1,1,4,4,1,4,2,2,3],\"xaxis\":\"x\",\"y\":[\"<i>Ageratum conyzoides</i>\",\"<i>Gliricidia sepium</i>\",\"<i>Ipomoea nil</i>\",\"<i>Jatropha gossypiifolia</i>\",\"<i>Mikania micrantha</i>\",\"<i>Morinda citrifolia</i>\",\"<i>Picramnia latifolia</i>\",\"<i>Prosopis juliflora</i>\",\"<i>Talipariti tiliaceum</i>\"],\"yaxis\":\"y\"},{\"alignmentgroup\":\"True\",\"hovertemplate\":\"chemical_superclass=Shikimates and Phenylpropanoids-Diarylheptanoids<br>Recurrence=%{x}<br>y=%{y}<extra></extra>\",\"legendgroup\":\"Shikimates and Phenylpropanoids-Diarylheptanoids\",\"marker\":{\"color\":\"rgb(153, 201, 69)\",\"pattern\":{\"shape\":\"\"}},\"name\":\"Shikimates and Phenylpropanoids-Diarylheptanoids\",\"offsetgroup\":\"Shikimates and Phenylpropanoids-Diarylheptanoids\",\"orientation\":\"h\",\"showlegend\":true,\"textposition\":\"auto\",\"type\":\"bar\",\"x\":[1,2],\"xaxis\":\"x\",\"y\":[\"<i>Camonea umbellata</i>\",\"<i>Talipariti tiliaceum</i>\"],\"yaxis\":\"y\"},{\"alignmentgroup\":\"True\",\"hovertemplate\":\"chemical_superclass=Shikimates and Phenylpropanoids-Flavonoids<br>Recurrence=%{x}<br>y=%{y}<extra></extra>\",\"legendgroup\":\"Shikimates and Phenylpropanoids-Flavonoids\",\"marker\":{\"color\":\"rgb(204, 97, 176)\",\"pattern\":{\"shape\":\"\"}},\"name\":\"Shikimates and Phenylpropanoids-Flavonoids\",\"offsetgroup\":\"Shikimates and Phenylpropanoids-Flavonoids\",\"orientation\":\"h\",\"showlegend\":true,\"textposition\":\"auto\",\"type\":\"bar\",\"x\":[11,16,1,2,26,4,3,23,16,1,19,3,1,4,7,7,1,1,17,12,8,14,22,1,4,11,15,14,4,9,3,5,1,8,13,4,1],\"xaxis\":\"x\",\"y\":[\"<i>Ageratina ligustrina</i>\",\"<i>Ageratum conyzoides</i>\",\"<i>Apeiba tibourbou</i>\",\"<i>Arthraxon hispidus</i>\",\"<i>Caesalpinia pulcherrima</i>\",\"<i>Calceolaria irazuensis</i>\",\"<i>Cassia grandis</i>\",\"<i>Catharanthus roseus</i>\",\"<i>Cissus verticillata</i>\",\"<i>Clarisia racemosa</i>\",\"<i>Cymbopogon citratus</i>\",\"<i>Eichhornia crassipes</i>\",\"<i>Euphorbia hypericifolia</i>\",\"<i>Ficus maxima</i>\",\"<i>Fuchsia splendens</i>\",\"<i>Gliricidia sepium</i>\",\"<i>Hedyosmum bonplandianum</i>\",\"<i>Hymenaea courbaril</i>\",\"<i>Ipomoea nil</i>\",\"<i>Laguncularia racemosa</i>\",\"<i>Lantana camara</i>\",\"<i>Lonchocarpus heptaphyllus</i>\",\"<i>Maclura tinctoria</i>\",\"<i>Marila laxiflora</i>\",\"<i>Mikania micrantha</i>\",\"<i>Mimosa pudica</i>\",\"<i>Morinda citrifolia</i>\",\"<i>Nasturtium officinale</i>\",\"<i>Paullinia pinnata</i>\",\"<i>Persicaria pubescens</i>\",\"<i>Phenax angustifolius</i>\",\"<i>Phoradendron</i>\",\"<i>Piper reticulatum</i>\",\"<i>Prosopis juliflora</i>\",\"<i>Saccharum officinarum</i>\",\"<i>Syzygium malaccense</i>\",\"<i>Verbesina myriocephala</i>\"],\"yaxis\":\"y\"},{\"alignmentgroup\":\"True\",\"hovertemplate\":\"chemical_superclass=Shikimates and Phenylpropanoids-Isoflavonoids<br>Recurrence=%{x}<br>y=%{y}<extra></extra>\",\"legendgroup\":\"Shikimates and Phenylpropanoids-Isoflavonoids\",\"marker\":{\"color\":\"rgb(36, 121, 108)\",\"pattern\":{\"shape\":\"\"}},\"name\":\"Shikimates and Phenylpropanoids-Isoflavonoids\",\"offsetgroup\":\"Shikimates and Phenylpropanoids-Isoflavonoids\",\"orientation\":\"h\",\"showlegend\":true,\"textposition\":\"auto\",\"type\":\"bar\",\"x\":[1,2,5,2,7,4,16,5,4,1],\"xaxis\":\"x\",\"y\":[\"<i>Ageratum conyzoides</i>\",\"<i>Caesalpinia pulcherrima</i>\",\"<i>Canavalia rosea</i>\",\"<i>Cissus verticillata</i>\",\"<i>Cymbopogon citratus</i>\",\"<i>Erythrina berteroana</i>\",\"<i>Gliricidia sepium</i>\",\"<i>Lonchocarpus heptaphyllus</i>\",\"<i>Maclura tinctoria</i>\",\"<i>Prosopis juliflora</i>\"],\"yaxis\":\"y\"},{\"alignmentgroup\":\"True\",\"hovertemplate\":\"chemical_superclass=Shikimates and Phenylpropanoids-Lignans<br>Recurrence=%{x}<br>y=%{y}<extra></extra>\",\"legendgroup\":\"Shikimates and Phenylpropanoids-Lignans\",\"marker\":{\"color\":\"rgb(218, 165, 27)\",\"pattern\":{\"shape\":\"\"}},\"name\":\"Shikimates and Phenylpropanoids-Lignans\",\"offsetgroup\":\"Shikimates and Phenylpropanoids-Lignans\",\"orientation\":\"h\",\"showlegend\":true,\"textposition\":\"auto\",\"type\":\"bar\",\"x\":[1,1,1,1,1,2,2,5,3,5,2,32,2,2,3,1,2,1],\"xaxis\":\"x\",\"y\":[\"<i>Ageratina ligustrina</i>\",\"<i>Ageratum conyzoides</i>\",\"<i>Avicennia germinans</i>\",\"<i>Cassia grandis</i>\",\"<i>Cissus verticillata</i>\",\"<i>Crescentia cujete</i>\",\"<i>Gliricidia sepium</i>\",\"<i>Ipomoea nil</i>\",\"<i>Jatropha gossypiifolia</i>\",\"<i>Laguncularia racemosa</i>\",\"<i>Lantana camara</i>\",\"<i>Morinda citrifolia</i>\",\"<i>Nasturtium officinale</i>\",\"<i>Phenax angustifolius</i>\",\"<i>Phyllanthus acuminatus</i>\",\"<i>Prosopis juliflora</i>\",\"<i>Saccharum officinarum</i>\",\"<i>Talipariti tiliaceum</i>\"],\"yaxis\":\"y\"},{\"alignmentgroup\":\"True\",\"hovertemplate\":\"chemical_superclass=Shikimates and Phenylpropanoids-Phenanthrenoids<br>Recurrence=%{x}<br>y=%{y}<extra></extra>\",\"legendgroup\":\"Shikimates and Phenylpropanoids-Phenanthrenoids\",\"marker\":{\"color\":\"rgb(47, 138, 196)\",\"pattern\":{\"shape\":\"\"}},\"name\":\"Shikimates and Phenylpropanoids-Phenanthrenoids\",\"offsetgroup\":\"Shikimates and Phenylpropanoids-Phenanthrenoids\",\"orientation\":\"h\",\"showlegend\":true,\"textposition\":\"auto\",\"type\":\"bar\",\"x\":[4],\"xaxis\":\"x\",\"y\":[\"<i>Eichhornia crassipes</i>\"],\"yaxis\":\"y\"},{\"alignmentgroup\":\"True\",\"hovertemplate\":\"chemical_superclass=Shikimates and Phenylpropanoids-Phenolic acids (C6-C1)<br>Recurrence=%{x}<br>y=%{y}<extra></extra>\",\"legendgroup\":\"Shikimates and Phenylpropanoids-Phenolic acids (C6-C1)\",\"marker\":{\"color\":\"rgb(118, 78, 159)\",\"pattern\":{\"shape\":\"\"}},\"name\":\"Shikimates and Phenylpropanoids-Phenolic acids (C6-C1)\",\"offsetgroup\":\"Shikimates and Phenylpropanoids-Phenolic acids (C6-C1)\",\"orientation\":\"h\",\"showlegend\":true,\"textposition\":\"auto\",\"type\":\"bar\",\"x\":[1,2,1,4,4,3,7,1,1,1,3,1,2,2,1,2,2,4,2],\"xaxis\":\"x\",\"y\":[\"<i>Ageratina ligustrina</i>\",\"<i>Caesalpinia pulcherrima</i>\",\"<i>Cassia grandis</i>\",\"<i>Catharanthus roseus</i>\",\"<i>Crescentia cujete</i>\",\"<i>Eichhornia crassipes</i>\",\"<i>Gliricidia sepium</i>\",\"<i>Guilandina bonduc</i>\",\"<i>Hedyosmum bonplandianum</i>\",\"<i>Ipomoea nil</i>\",\"<i>Laguncularia racemosa</i>\",\"<i>Marila laxiflora</i>\",\"<i>Mimosa pudica</i>\",\"<i>Morinda citrifolia</i>\",\"<i>Persicaria pubescens</i>\",\"<i>Sapium laurifolium</i>\",\"<i>Syzygium malaccense</i>\",\"<i>Talipariti tiliaceum</i>\",\"<i>Verbesina myriocephala</i>\"],\"yaxis\":\"y\"},{\"alignmentgroup\":\"True\",\"hovertemplate\":\"chemical_superclass=Shikimates and Phenylpropanoids-Phenylethanoids (C6-C2)<br>Recurrence=%{x}<br>y=%{y}<extra></extra>\",\"legendgroup\":\"Shikimates and Phenylpropanoids-Phenylethanoids (C6-C2)\",\"marker\":{\"color\":\"rgb(237, 100, 90)\",\"pattern\":{\"shape\":\"\"}},\"name\":\"Shikimates and Phenylpropanoids-Phenylethanoids (C6-C2)\",\"offsetgroup\":\"Shikimates and Phenylpropanoids-Phenylethanoids (C6-C2)\",\"orientation\":\"h\",\"showlegend\":true,\"textposition\":\"auto\",\"type\":\"bar\",\"x\":[1,6,6],\"xaxis\":\"x\",\"y\":[\"<i>Avicennia germinans</i>\",\"<i>Ipomoea nil</i>\",\"<i>Lantana camara</i>\"],\"yaxis\":\"y\"},{\"alignmentgroup\":\"True\",\"hovertemplate\":\"chemical_superclass=Shikimates and Phenylpropanoids-Phenylpropanoids (C6-C3)<br>Recurrence=%{x}<br>y=%{y}<extra></extra>\",\"legendgroup\":\"Shikimates and Phenylpropanoids-Phenylpropanoids (C6-C3)\",\"marker\":{\"color\":\"rgb(165, 170, 153)\",\"pattern\":{\"shape\":\"\"}},\"name\":\"Shikimates and Phenylpropanoids-Phenylpropanoids (C6-C3)\",\"offsetgroup\":\"Shikimates and Phenylpropanoids-Phenylpropanoids (C6-C3)\",\"orientation\":\"h\",\"showlegend\":true,\"textposition\":\"auto\",\"type\":\"bar\",\"x\":[1,1,2,1,7,2,7,18,4,1,2,2,1,2,2],\"xaxis\":\"x\",\"y\":[\"<i>Ageratum conyzoides</i>\",\"<i>Apeiba tibourbou</i>\",\"<i>Camonea umbellata</i>\",\"<i>Cassia grandis</i>\",\"<i>Cymbopogon citratus</i>\",\"<i>Eichhornia crassipes</i>\",\"<i>Gliricidia sepium</i>\",\"<i>Ipomoea nil</i>\",\"<i>Lantana camara</i>\",\"<i>Mimosa pudica</i>\",\"<i>Morinda citrifolia</i>\",\"<i>Saccharum officinarum</i>\",\"<i>Talipariti tiliaceum</i>\",\"<i>Urochloa decumbens</i>\",\"<i>Verbesina myriocephala</i>\"],\"yaxis\":\"y\"},{\"alignmentgroup\":\"True\",\"hovertemplate\":\"chemical_superclass=Shikimates and Phenylpropanoids-Stilbenoids<br>Recurrence=%{x}<br>y=%{y}<extra></extra>\",\"legendgroup\":\"Shikimates and Phenylpropanoids-Stilbenoids\",\"marker\":{\"color\":\"rgb(229, 134, 6)\",\"pattern\":{\"shape\":\"\"}},\"name\":\"Shikimates and Phenylpropanoids-Stilbenoids\",\"offsetgroup\":\"Shikimates and Phenylpropanoids-Stilbenoids\",\"orientation\":\"h\",\"showlegend\":true,\"textposition\":\"auto\",\"type\":\"bar\",\"x\":[2,1],\"xaxis\":\"x\",\"y\":[\"<i>Lonchocarpus heptaphyllus</i>\",\"<i>Saccharum officinarum</i>\"],\"yaxis\":\"y\"},{\"alignmentgroup\":\"True\",\"hovertemplate\":\"chemical_superclass=Shikimates and Phenylpropanoids-Xanthones<br>Recurrence=%{x}<br>y=%{y}<extra></extra>\",\"legendgroup\":\"Shikimates and Phenylpropanoids-Xanthones\",\"marker\":{\"color\":\"rgb(93, 105, 177)\",\"pattern\":{\"shape\":\"\"}},\"name\":\"Shikimates and Phenylpropanoids-Xanthones\",\"offsetgroup\":\"Shikimates and Phenylpropanoids-Xanthones\",\"orientation\":\"h\",\"showlegend\":true,\"textposition\":\"auto\",\"type\":\"bar\",\"x\":[4,2],\"xaxis\":\"x\",\"y\":[\"<i>Maclura tinctoria</i>\",\"<i>Marila laxiflora</i>\"],\"yaxis\":\"y\"},{\"alignmentgroup\":\"True\",\"hovertemplate\":\"chemical_superclass=Terpenoids-Apocarotenoids<br>Recurrence=%{x}<br>y=%{y}<extra></extra>\",\"legendgroup\":\"Terpenoids-Apocarotenoids\",\"marker\":{\"color\":\"rgb(82, 188, 163)\",\"pattern\":{\"shape\":\"\"}},\"name\":\"Terpenoids-Apocarotenoids\",\"offsetgroup\":\"Terpenoids-Apocarotenoids\",\"orientation\":\"h\",\"showlegend\":true,\"textposition\":\"auto\",\"type\":\"bar\",\"x\":[5,2,1,2,2],\"xaxis\":\"x\",\"y\":[\"<i>Catharanthus roseus</i>\",\"<i>Ipomoea nil</i>\",\"<i>Morinda citrifolia</i>\",\"<i>Prosopis juliflora</i>\",\"<i>Saccharum officinarum</i>\"],\"yaxis\":\"y\"},{\"alignmentgroup\":\"True\",\"hovertemplate\":\"chemical_superclass=Terpenoids-Carotenoids (C40)<br>Recurrence=%{x}<br>y=%{y}<extra></extra>\",\"legendgroup\":\"Terpenoids-Carotenoids (C40)\",\"marker\":{\"color\":\"rgb(153, 201, 69)\",\"pattern\":{\"shape\":\"\"}},\"name\":\"Terpenoids-Carotenoids (C40)\",\"offsetgroup\":\"Terpenoids-Carotenoids (C40)\",\"orientation\":\"h\",\"showlegend\":true,\"textposition\":\"auto\",\"type\":\"bar\",\"x\":[4,3],\"xaxis\":\"x\",\"y\":[\"<i>Catharanthus roseus</i>\",\"<i>Nasturtium officinale</i>\"],\"yaxis\":\"y\"},{\"alignmentgroup\":\"True\",\"hovertemplate\":\"chemical_superclass=Terpenoids-Diterpenoids<br>Recurrence=%{x}<br>y=%{y}<extra></extra>\",\"legendgroup\":\"Terpenoids-Diterpenoids\",\"marker\":{\"color\":\"rgb(204, 97, 176)\",\"pattern\":{\"shape\":\"\"}},\"name\":\"Terpenoids-Diterpenoids\",\"offsetgroup\":\"Terpenoids-Diterpenoids\",\"orientation\":\"h\",\"showlegend\":true,\"textposition\":\"auto\",\"type\":\"bar\",\"x\":[15,2,46,2,1,1,85,21,39,11,2,1,4,9],\"xaxis\":\"x\",\"y\":[\"<i>Ageratina ixiocladon</i>\",\"<i>Alibertia edulis</i>\",\"<i>Caesalpinia pulcherrima</i>\",\"<i>Catharanthus roseus</i>\",\"<i>Cnidoscolus urens</i>\",\"<i>Cymbopogon citratus</i>\",\"<i>Guilandina bonduc</i>\",\"<i>Hymenaea courbaril</i>\",\"<i>Ipomoea nil</i>\",\"<i>Jatropha gossypiifolia</i>\",\"<i>Mikania micrantha</i>\",\"<i>Morinda citrifolia</i>\",\"<i>Rhizophora mangle</i>\",\"<i>Xylopia frutescens</i>\"],\"yaxis\":\"y\"},{\"alignmentgroup\":\"True\",\"hovertemplate\":\"chemical_superclass=Terpenoids-Meroterpenoids<br>Recurrence=%{x}<br>y=%{y}<extra></extra>\",\"legendgroup\":\"Terpenoids-Meroterpenoids\",\"marker\":{\"color\":\"rgb(36, 121, 108)\",\"pattern\":{\"shape\":\"\"}},\"name\":\"Terpenoids-Meroterpenoids\",\"offsetgroup\":\"Terpenoids-Meroterpenoids\",\"orientation\":\"h\",\"showlegend\":true,\"textposition\":\"auto\",\"type\":\"bar\",\"x\":[1,9,1],\"xaxis\":\"x\",\"y\":[\"<i>Ageratina ixiocladon</i>\",\"<i>Ageratum conyzoides</i>\",\"<i>Peperomia galioides</i>\"],\"yaxis\":\"y\"},{\"alignmentgroup\":\"True\",\"hovertemplate\":\"chemical_superclass=Terpenoids-Monoterpenoids<br>Recurrence=%{x}<br>y=%{y}<extra></extra>\",\"legendgroup\":\"Terpenoids-Monoterpenoids\",\"marker\":{\"color\":\"rgb(218, 165, 27)\",\"pattern\":{\"shape\":\"\"}},\"name\":\"Terpenoids-Monoterpenoids\",\"offsetgroup\":\"Terpenoids-Monoterpenoids\",\"orientation\":\"h\",\"showlegend\":true,\"textposition\":\"auto\",\"type\":\"bar\",\"x\":[25,3,2,2,1,15,21,41,26,3,8,33,37,1,1,2,2,1,3],\"xaxis\":\"x\",\"y\":[\"<i>Ageratum conyzoides</i>\",\"<i>Alibertia edulis</i>\",\"<i>Avicennia bicolor</i>\",\"<i>Avicennia germinans</i>\",\"<i>Caesalpinia pulcherrima</i>\",\"<i>Catharanthus roseus</i>\",\"<i>Crescentia cujete</i>\",\"<i>Cymbopogon citratus</i>\",\"<i>Genipa americana</i>\",\"<i>Guavaberry</i>\",\"<i>Hedyosmum bonplandianum</i>\",\"<i>Lantana camara</i>\",\"<i>Morinda citrifolia</i>\",\"<i>Peperomia galioides</i>\",\"<i>Persicaria pubescens</i>\",\"<i>Posoqueria latifolia</i>\",\"<i>Prosopis juliflora</i>\",\"<i>Rhizophora mangle</i>\",\"<i>araguaney</i>\"],\"yaxis\":\"y\"},{\"alignmentgroup\":\"True\",\"hovertemplate\":\"chemical_superclass=Terpenoids-Sesquiterpenoids<br>Recurrence=%{x}<br>y=%{y}<extra></extra>\",\"legendgroup\":\"Terpenoids-Sesquiterpenoids\",\"marker\":{\"color\":\"rgb(47, 138, 196)\",\"pattern\":{\"shape\":\"\"}},\"name\":\"Terpenoids-Sesquiterpenoids\",\"offsetgroup\":\"Terpenoids-Sesquiterpenoids\",\"orientation\":\"h\",\"showlegend\":true,\"textposition\":\"auto\",\"type\":\"bar\",\"x\":[4,6,8,33,10,29,3,5,11,45,1,3,21,5,3,3,12,11,14,1],\"xaxis\":\"x\",\"y\":[\"<i>Acrostichum aureum</i>\",\"<i>Ageratina ixiocladon</i>\",\"<i>Ageratina ligustrina</i>\",\"<i>Ageratum conyzoides</i>\",\"<i>Caesalpinia pulcherrima</i>\",\"<i>Calea urticifolia</i>\",\"<i>Catharanthus roseus</i>\",\"<i>Cymbopogon citratus</i>\",\"<i>Hedyosmum bonplandianum</i>\",\"<i>Lantana camara</i>\",\"<i>Maytenus woodsonii</i>\",\"<i>Mesosphaerum suaveolens</i>\",\"<i>Mikania micrantha</i>\",\"<i>Onoseris onoseroides</i>\",\"<i>Peperomia galioides</i>\",\"<i>Persicaria pubescens</i>\",\"<i>Piptocarpha poeppigiana</i>\",\"<i>Talipariti tiliaceum</i>\",\"<i>Telanthophora grandifolia</i>\",\"<i>Trattinnickia aspera</i>\"],\"yaxis\":\"y\"},{\"alignmentgroup\":\"True\",\"hovertemplate\":\"chemical_superclass=Terpenoids-Steroids<br>Recurrence=%{x}<br>y=%{y}<extra></extra>\",\"legendgroup\":\"Terpenoids-Steroids\",\"marker\":{\"color\":\"rgb(118, 78, 159)\",\"pattern\":{\"shape\":\"\"}},\"name\":\"Terpenoids-Steroids\",\"offsetgroup\":\"Terpenoids-Steroids\",\"orientation\":\"h\",\"showlegend\":true,\"textposition\":\"auto\",\"type\":\"bar\",\"x\":[3,2,1,25,3,3,1,1,1,7,3,2,8,3,10,1,2,3,2,4,1,31,5,3,3,1,1],\"xaxis\":\"x\",\"y\":[\"<i>Ageratum conyzoides</i>\",\"<i>Caesalpinia pulcherrima</i>\",\"<i>Cassia grandis</i>\",\"<i>Catharanthus roseus</i>\",\"<i>Cryptostegia madagascariensis</i>\",\"<i>Eichhornia crassipes</i>\",\"<i>Faramea occidentalis</i>\",\"<i>Ficus benjamina</i>\",\"<i>Gliricidia sepium</i>\",\"<i>Guilandina bonduc</i>\",\"<i>Ipomoea nil</i>\",\"<i>Jatropha gossypiifolia</i>\",\"<i>Lantana camara</i>\",\"<i>Mikania micrantha</i>\",\"<i>Morinda citrifolia</i>\",\"<i>Onoseris onoseroides</i>\",\"<i>Paullinia pinnata</i>\",\"<i>Persicaria pubescens</i>\",\"<i>Phoradendron</i>\",\"<i>Picramnia latifolia</i>\",\"<i>Quassia amara</i>\",\"<i>Sansevieria trifasciata</i>\",\"<i>Smilax officinalis</i>\",\"<i>Trichilia pallida</i>\",\"<i>Urochloa decumbens</i>\",\"<i>Verbesina myriocephala</i>\",\"<i>Xylopia frutescens</i>\"],\"yaxis\":\"y\"},{\"alignmentgroup\":\"True\",\"hovertemplate\":\"chemical_superclass=Terpenoids-Triterpenoids<br>Recurrence=%{x}<br>y=%{y}<extra></extra>\",\"legendgroup\":\"Terpenoids-Triterpenoids\",\"marker\":{\"color\":\"rgb(237, 100, 90)\",\"pattern\":{\"shape\":\"\"}},\"name\":\"Terpenoids-Triterpenoids\",\"offsetgroup\":\"Terpenoids-Triterpenoids\",\"orientation\":\"h\",\"showlegend\":true,\"textposition\":\"auto\",\"type\":\"bar\",\"x\":[2,1,16,2,4,5,1,2,8,5,2,1,69,1,1,14,4,3,12,1,2,19,3,18,1,3,11,2,9],\"xaxis\":\"x\",\"y\":[\"<i>Ageratina ligustrina</i>\",\"<i>Ageratum conyzoides</i>\",\"<i>Alibertia edulis</i>\",\"<i>Caesalpinia pulcherrima</i>\",\"<i>Catharanthus roseus</i>\",\"<i>Cnidoscolus urens</i>\",\"<i>Cojoba arborea</i>\",\"<i>Ficus benjamina</i>\",\"<i>Gliricidia sepium</i>\",\"<i>Guilandina bonduc</i>\",\"<i>Ipomoea nil</i>\",\"<i>Jatropha gossypiifolia</i>\",\"<i>Lantana camara</i>\",\"<i>Maclura tinctoria</i>\",\"<i>Marila laxiflora</i>\",\"<i>Maytenus woodsonii</i>\",\"<i>Mesosphaerum suaveolens</i>\",\"<i>Mikania micrantha</i>\",\"<i>Morinda citrifolia</i>\",\"<i>Onoseris onoseroides</i>\",\"<i>Paullinia pinnata</i>\",\"<i>Phoradendron</i>\",\"<i>Phytolacca rivinoides</i>\",\"<i>Quassia amara</i>\",\"<i>Rhizophora mangle</i>\",\"<i>Saccharum officinarum</i>\",\"<i>Talipariti tiliaceum</i>\",\"<i>Trattinnickia aspera</i>\",\"<i>Trichilia pallida</i>\"],\"yaxis\":\"y\"}],                        {\"barmode\":\"relative\",\"height\":900,\"legend\":{\"title\":{\"text\":\"chemical_superclass\"},\"tracegroupgap\":0},\"plot_bgcolor\":\"white\",\"template\":{\"data\":{\"bar\":[{\"error_x\":{\"color\":\"#2a3f5f\"},\"error_y\":{\"color\":\"#2a3f5f\"},\"marker\":{\"line\":{\"color\":\"#E5ECF6\",\"width\":0.5},\"pattern\":{\"fillmode\":\"overlay\",\"size\":10,\"solidity\":0.2}},\"type\":\"bar\"}],\"barpolar\":[{\"marker\":{\"line\":{\"color\":\"#E5ECF6\",\"width\":0.5},\"pattern\":{\"fillmode\":\"overlay\",\"size\":10,\"solidity\":0.2}},\"type\":\"barpolar\"}],\"carpet\":[{\"aaxis\":{\"endlinecolor\":\"#2a3f5f\",\"gridcolor\":\"white\",\"linecolor\":\"white\",\"minorgridcolor\":\"white\",\"startlinecolor\":\"#2a3f5f\"},\"baxis\":{\"endlinecolor\":\"#2a3f5f\",\"gridcolor\":\"white\",\"linecolor\":\"white\",\"minorgridcolor\":\"white\",\"startlinecolor\":\"#2a3f5f\"},\"type\":\"carpet\"}],\"choropleth\":[{\"colorbar\":{\"outlinewidth\":0,\"ticks\":\"\"},\"type\":\"choropleth\"}],\"contour\":[{\"colorbar\":{\"outlinewidth\":0,\"ticks\":\"\"},\"colorscale\":[[0.0,\"#0d0887\"],[0.1111111111111111,\"#46039f\"],[0.2222222222222222,\"#7201a8\"],[0.3333333333333333,\"#9c179e\"],[0.4444444444444444,\"#bd3786\"],[0.5555555555555556,\"#d8576b\"],[0.6666666666666666,\"#ed7953\"],[0.7777777777777778,\"#fb9f3a\"],[0.8888888888888888,\"#fdca26\"],[1.0,\"#f0f921\"]],\"type\":\"contour\"}],\"contourcarpet\":[{\"colorbar\":{\"outlinewidth\":0,\"ticks\":\"\"},\"type\":\"contourcarpet\"}],\"heatmap\":[{\"colorbar\":{\"outlinewidth\":0,\"ticks\":\"\"},\"colorscale\":[[0.0,\"#0d0887\"],[0.1111111111111111,\"#46039f\"],[0.2222222222222222,\"#7201a8\"],[0.3333333333333333,\"#9c179e\"],[0.4444444444444444,\"#bd3786\"],[0.5555555555555556,\"#d8576b\"],[0.6666666666666666,\"#ed7953\"],[0.7777777777777778,\"#fb9f3a\"],[0.8888888888888888,\"#fdca26\"],[1.0,\"#f0f921\"]],\"type\":\"heatmap\"}],\"heatmapgl\":[{\"colorbar\":{\"outlinewidth\":0,\"ticks\":\"\"},\"colorscale\":[[0.0,\"#0d0887\"],[0.1111111111111111,\"#46039f\"],[0.2222222222222222,\"#7201a8\"],[0.3333333333333333,\"#9c179e\"],[0.4444444444444444,\"#bd3786\"],[0.5555555555555556,\"#d8576b\"],[0.6666666666666666,\"#ed7953\"],[0.7777777777777778,\"#fb9f3a\"],[0.8888888888888888,\"#fdca26\"],[1.0,\"#f0f921\"]],\"type\":\"heatmapgl\"}],\"histogram\":[{\"marker\":{\"pattern\":{\"fillmode\":\"overlay\",\"size\":10,\"solidity\":0.2}},\"type\":\"histogram\"}],\"histogram2d\":[{\"colorbar\":{\"outlinewidth\":0,\"ticks\":\"\"},\"colorscale\":[[0.0,\"#0d0887\"],[0.1111111111111111,\"#46039f\"],[0.2222222222222222,\"#7201a8\"],[0.3333333333333333,\"#9c179e\"],[0.4444444444444444,\"#bd3786\"],[0.5555555555555556,\"#d8576b\"],[0.6666666666666666,\"#ed7953\"],[0.7777777777777778,\"#fb9f3a\"],[0.8888888888888888,\"#fdca26\"],[1.0,\"#f0f921\"]],\"type\":\"histogram2d\"}],\"histogram2dcontour\":[{\"colorbar\":{\"outlinewidth\":0,\"ticks\":\"\"},\"colorscale\":[[0.0,\"#0d0887\"],[0.1111111111111111,\"#46039f\"],[0.2222222222222222,\"#7201a8\"],[0.3333333333333333,\"#9c179e\"],[0.4444444444444444,\"#bd3786\"],[0.5555555555555556,\"#d8576b\"],[0.6666666666666666,\"#ed7953\"],[0.7777777777777778,\"#fb9f3a\"],[0.8888888888888888,\"#fdca26\"],[1.0,\"#f0f921\"]],\"type\":\"histogram2dcontour\"}],\"mesh3d\":[{\"colorbar\":{\"outlinewidth\":0,\"ticks\":\"\"},\"type\":\"mesh3d\"}],\"parcoords\":[{\"line\":{\"colorbar\":{\"outlinewidth\":0,\"ticks\":\"\"}},\"type\":\"parcoords\"}],\"pie\":[{\"automargin\":true,\"type\":\"pie\"}],\"scatter\":[{\"marker\":{\"colorbar\":{\"outlinewidth\":0,\"ticks\":\"\"}},\"type\":\"scatter\"}],\"scatter3d\":[{\"line\":{\"colorbar\":{\"outlinewidth\":0,\"ticks\":\"\"}},\"marker\":{\"colorbar\":{\"outlinewidth\":0,\"ticks\":\"\"}},\"type\":\"scatter3d\"}],\"scattercarpet\":[{\"marker\":{\"colorbar\":{\"outlinewidth\":0,\"ticks\":\"\"}},\"type\":\"scattercarpet\"}],\"scattergeo\":[{\"marker\":{\"colorbar\":{\"outlinewidth\":0,\"ticks\":\"\"}},\"type\":\"scattergeo\"}],\"scattergl\":[{\"marker\":{\"colorbar\":{\"outlinewidth\":0,\"ticks\":\"\"}},\"type\":\"scattergl\"}],\"scattermapbox\":[{\"marker\":{\"colorbar\":{\"outlinewidth\":0,\"ticks\":\"\"}},\"type\":\"scattermapbox\"}],\"scatterpolar\":[{\"marker\":{\"colorbar\":{\"outlinewidth\":0,\"ticks\":\"\"}},\"type\":\"scatterpolar\"}],\"scatterpolargl\":[{\"marker\":{\"colorbar\":{\"outlinewidth\":0,\"ticks\":\"\"}},\"type\":\"scatterpolargl\"}],\"scatterternary\":[{\"marker\":{\"colorbar\":{\"outlinewidth\":0,\"ticks\":\"\"}},\"type\":\"scatterternary\"}],\"surface\":[{\"colorbar\":{\"outlinewidth\":0,\"ticks\":\"\"},\"colorscale\":[[0.0,\"#0d0887\"],[0.1111111111111111,\"#46039f\"],[0.2222222222222222,\"#7201a8\"],[0.3333333333333333,\"#9c179e\"],[0.4444444444444444,\"#bd3786\"],[0.5555555555555556,\"#d8576b\"],[0.6666666666666666,\"#ed7953\"],[0.7777777777777778,\"#fb9f3a\"],[0.8888888888888888,\"#fdca26\"],[1.0,\"#f0f921\"]],\"type\":\"surface\"}],\"table\":[{\"cells\":{\"fill\":{\"color\":\"#EBF0F8\"},\"line\":{\"color\":\"white\"}},\"header\":{\"fill\":{\"color\":\"#C8D4E3\"},\"line\":{\"color\":\"white\"}},\"type\":\"table\"}]},\"layout\":{\"annotationdefaults\":{\"arrowcolor\":\"#2a3f5f\",\"arrowhead\":0,\"arrowwidth\":1},\"autotypenumbers\":\"strict\",\"coloraxis\":{\"colorbar\":{\"outlinewidth\":0,\"ticks\":\"\"}},\"colorscale\":{\"diverging\":[[0,\"#8e0152\"],[0.1,\"#c51b7d\"],[0.2,\"#de77ae\"],[0.3,\"#f1b6da\"],[0.4,\"#fde0ef\"],[0.5,\"#f7f7f7\"],[0.6,\"#e6f5d0\"],[0.7,\"#b8e186\"],[0.8,\"#7fbc41\"],[0.9,\"#4d9221\"],[1,\"#276419\"]],\"sequential\":[[0.0,\"#0d0887\"],[0.1111111111111111,\"#46039f\"],[0.2222222222222222,\"#7201a8\"],[0.3333333333333333,\"#9c179e\"],[0.4444444444444444,\"#bd3786\"],[0.5555555555555556,\"#d8576b\"],[0.6666666666666666,\"#ed7953\"],[0.7777777777777778,\"#fb9f3a\"],[0.8888888888888888,\"#fdca26\"],[1.0,\"#f0f921\"]],\"sequentialminus\":[[0.0,\"#0d0887\"],[0.1111111111111111,\"#46039f\"],[0.2222222222222222,\"#7201a8\"],[0.3333333333333333,\"#9c179e\"],[0.4444444444444444,\"#bd3786\"],[0.5555555555555556,\"#d8576b\"],[0.6666666666666666,\"#ed7953\"],[0.7777777777777778,\"#fb9f3a\"],[0.8888888888888888,\"#fdca26\"],[1.0,\"#f0f921\"]]},\"colorway\":[\"#636efa\",\"#EF553B\",\"#00cc96\",\"#ab63fa\",\"#FFA15A\",\"#19d3f3\",\"#FF6692\",\"#B6E880\",\"#FF97FF\",\"#FECB52\"],\"font\":{\"color\":\"#2a3f5f\"},\"geo\":{\"bgcolor\":\"white\",\"lakecolor\":\"white\",\"landcolor\":\"#E5ECF6\",\"showlakes\":true,\"showland\":true,\"subunitcolor\":\"white\"},\"hoverlabel\":{\"align\":\"left\"},\"hovermode\":\"closest\",\"mapbox\":{\"style\":\"light\"},\"paper_bgcolor\":\"white\",\"plot_bgcolor\":\"#E5ECF6\",\"polar\":{\"angularaxis\":{\"gridcolor\":\"white\",\"linecolor\":\"white\",\"ticks\":\"\"},\"bgcolor\":\"#E5ECF6\",\"radialaxis\":{\"gridcolor\":\"white\",\"linecolor\":\"white\",\"ticks\":\"\"}},\"scene\":{\"xaxis\":{\"backgroundcolor\":\"#E5ECF6\",\"gridcolor\":\"white\",\"gridwidth\":2,\"linecolor\":\"white\",\"showbackground\":true,\"ticks\":\"\",\"zerolinecolor\":\"white\"},\"yaxis\":{\"backgroundcolor\":\"#E5ECF6\",\"gridcolor\":\"white\",\"gridwidth\":2,\"linecolor\":\"white\",\"showbackground\":true,\"ticks\":\"\",\"zerolinecolor\":\"white\"},\"zaxis\":{\"backgroundcolor\":\"#E5ECF6\",\"gridcolor\":\"white\",\"gridwidth\":2,\"linecolor\":\"white\",\"showbackground\":true,\"ticks\":\"\",\"zerolinecolor\":\"white\"}},\"shapedefaults\":{\"line\":{\"color\":\"#2a3f5f\"}},\"ternary\":{\"aaxis\":{\"gridcolor\":\"white\",\"linecolor\":\"white\",\"ticks\":\"\"},\"baxis\":{\"gridcolor\":\"white\",\"linecolor\":\"white\",\"ticks\":\"\"},\"bgcolor\":\"#E5ECF6\",\"caxis\":{\"gridcolor\":\"white\",\"linecolor\":\"white\",\"ticks\":\"\"}},\"title\":{\"x\":0.05},\"xaxis\":{\"automargin\":true,\"gridcolor\":\"white\",\"linecolor\":\"white\",\"ticks\":\"\",\"title\":{\"standoff\":15},\"zerolinecolor\":\"white\",\"zerolinewidth\":2},\"yaxis\":{\"automargin\":true,\"gridcolor\":\"white\",\"linecolor\":\"white\",\"ticks\":\"\",\"title\":{\"standoff\":15},\"zerolinecolor\":\"white\",\"zerolinewidth\":2}}},\"title\":{\"text\":\"Stacked Barplot of Predicted Superclasses Recurrence for All Species\"},\"width\":1500,\"xaxis\":{\"anchor\":\"y\",\"domain\":[0.0,1.0],\"title\":{\"text\":\"Recurrence\"}},\"yaxis\":{\"anchor\":\"x\",\"domain\":[0.0,1.0],\"title\":{\"text\":\"Species\"}}},                        {\"responsive\": true}                    ).then(function(){\n",
       "                            \n",
       "var gd = document.getElementById('19633189-86a6-4120-89f3-d65fa9783956');\n",
       "var x = new MutationObserver(function (mutations, observer) {{\n",
       "        var display = window.getComputedStyle(gd).display;\n",
       "        if (!display || display === 'none') {{\n",
       "            console.log([gd, 'removed!']);\n",
       "            Plotly.purge(gd);\n",
       "            observer.disconnect();\n",
       "        }}\n",
       "}});\n",
       "\n",
       "// Listen for the removal of the full notebook cells\n",
       "var notebookContainer = gd.closest('#notebook-container');\n",
       "if (notebookContainer) {{\n",
       "    x.observe(notebookContainer, {childList: true});\n",
       "}}\n",
       "\n",
       "// Listen for the clearing of the current output cell\n",
       "var outputEl = gd.closest('.output');\n",
       "if (outputEl) {{\n",
       "    x.observe(outputEl, {childList: true});\n",
       "}}\n",
       "\n",
       "                        })                };                });            </script>        </div>"
      ]
     },
     "metadata": {},
     "output_type": "display_data"
    }
   ],
   "source": [
    "import pandas as pd\n",
    "import plotly.express as px\n",
    "import os\n",
    "\n",
    "# Define the Vivid color palette (you can customize this as needed)\n",
    "vivid_palette = px.colors.qualitative.Vivid\n",
    "\n",
    "# Step 1: Initialize an empty DataFrame to store all data\n",
    "all_data = pd.DataFrame(columns=['queried_taxaLabel', 'chemical_superclass'])\n",
    "\n",
    "# Step 2: Read data from all .tsv files in the output_folder\n",
    "for filename in os.listdir(output_folder):\n",
    "    if filename.endswith(\".tsv\"):\n",
    "        file_data = pd.read_csv(os.path.join(output_folder, filename), sep='\\t')\n",
    "        all_data = pd.concat([all_data, file_data])\n",
    "\n",
    "# Step 3: Rename the \"queried_taxaLabel\" column to \"species\"\n",
    "all_data.rename(columns={'queried_taxaLabel': 'species'}, inplace=True)\n",
    "\n",
    "# Remove 'API Error-API Error' and 'Not Classified-Not Classified'\n",
    "all_data = all_data[(all_data['chemical_superclass'] != 'API Error-API Error') & (all_data['chemical_superclass'] != 'Not Classified-Not Classified')]\n",
    "\n",
    "# Step 4: Group and aggregate data to calculate recurrence\n",
    "agg_data = all_data.groupby(['species', 'chemical_superclass']).size().reset_index(name='recurrence')\n",
    "\n",
    "# Define a sequential color palette for 'chemical_superclass'\n",
    "#color_palette = plotly.colors.sequential.Cividis\n",
    "\n",
    "# Step 5: Create the stacked barplot with the Vivid color palette\n",
    "fig = px.bar(agg_data, y=agg_data['species'].apply(lambda x: f\"<i>{x}</i>\"), x='recurrence',\n",
    "             title='Stacked Barplot of Predicted Superclasses Recurrence for All Species',\n",
    "             labels={'recurrence': 'Recurrence'},\n",
    "             color='chemical_superclass',\n",
    "             color_discrete_sequence=px.colors.qualitative.Vivid,  # Use the Vivid color palette\n",
    "             #color_discrete_sequence=color_palette,\n",
    "             category_orders={'chemical_superclass': sorted(agg_data['chemical_superclass'].unique())},\n",
    "             orientation='h'#,\n",
    "             #hover_data=['chemical_compound'] \n",
    "            )\n",
    "\n",
    "# Modify the y-axis label\n",
    "fig.update_yaxes(title_text='Species')\n",
    "\n",
    "# Set a white background\n",
    "fig.update_layout(plot_bgcolor='white')\n",
    "\n",
    "# Modify the size of the figure\n",
    "fig.update_layout(width=1500, height=900)\n",
    "\n",
    "# Save the figure as an HTML file\n",
    "fig.write_html(\"Wikidata_superclass_barplot.html\")\n",
    "\n",
    "# Show or save the figure\n",
    "fig.show()\n"
   ]
  },
  {
   "cell_type": "code",
   "execution_count": 152,
   "metadata": {},
   "outputs": [
    {
     "data": {
      "application/vnd.plotly.v1+json": {
       "config": {
        "plotlyServerURL": "https://plot.ly"
       },
       "data": [
        {
         "alignmentgroup": "True",
         "hovertemplate": "predicted_pathway=Alkaloids<br>Recurrence=%{x}<br>y=%{y}<extra></extra>",
         "legendgroup": "Alkaloids",
         "marker": {
          "color": "#B6E880",
          "pattern": {
           "shape": ""
          }
         },
         "name": "Alkaloids",
         "offsetgroup": "Alkaloids",
         "orientation": "h",
         "showlegend": true,
         "textposition": "auto",
         "type": "bar",
         "x": [
          4,
          2,
          6,
          1,
          2,
          209,
          5,
          8,
          15,
          1,
          2,
          2,
          1,
          2,
          2,
          1,
          2,
          6,
          2,
          7,
          1,
          11,
          8,
          3,
          1
         ],
         "xaxis": "x",
         "y": [
          "<i>Ageratina ligustrina</i>",
          "<i>Ageratum conyzoides</i>",
          "<i>Albizia adinocephala</i>",
          "<i>Alibertia edulis</i>",
          "<i>Caesalpinia pulcherrima</i>",
          "<i>Catharanthus roseus</i>",
          "<i>Cymbopogon citratus</i>",
          "<i>Eichhornia crassipes</i>",
          "<i>Erythrina berteroana</i>",
          "<i>Erythroxylum fimbriatum</i>",
          "<i>Herrania purpurea</i>",
          "<i>Ipomoea nil</i>",
          "<i>Lonchocarpus heptaphyllus</i>",
          "<i>Mimosa pudica</i>",
          "<i>Morinda citrifolia</i>",
          "<i>Nasturtium officinale</i>",
          "<i>Piper reticulatum</i>",
          "<i>Prosopis juliflora</i>",
          "<i>Quassia amara</i>",
          "<i>Rauvolfia littoralis</i>",
          "<i>Samanea saman</i>",
          "<i>Siparuna grandiflora</i>",
          "<i>Talipariti tiliaceum</i>",
          "<i>Telanthophora grandifolia</i>",
          "<i>Vasconcellea cauliflora</i>"
         ],
         "yaxis": "y"
        },
        {
         "alignmentgroup": "True",
         "hovertemplate": "predicted_pathway=Amino acids and Peptides<br>Recurrence=%{x}<br>y=%{y}<extra></extra>",
         "legendgroup": "Amino acids and Peptides",
         "marker": {
          "color": "#FF97FF",
          "pattern": {
           "shape": ""
          }
         },
         "name": "Amino acids and Peptides",
         "offsetgroup": "Amino acids and Peptides",
         "orientation": "h",
         "showlegend": true,
         "textposition": "auto",
         "type": "bar",
         "x": [
          1,
          1,
          13,
          1,
          21,
          1,
          1,
          25,
          13,
          4,
          2,
          2,
          1,
          1,
          2
         ],
         "xaxis": "x",
         "y": [
          "<i>Camonea umbellata</i>",
          "<i>Canavalia rosea</i>",
          "<i>Catharanthus roseus</i>",
          "<i>Delonix regia</i>",
          "<i>Eichhornia crassipes</i>",
          "<i>Gliricidia sepium</i>",
          "<i>Guilandina bonduc</i>",
          "<i>Indigofera hirsuta</i>",
          "<i>Jatropha gossypiifolia</i>",
          "<i>Lantana camara</i>",
          "<i>Mimosa pudica</i>",
          "<i>Nasturtium officinale</i>",
          "<i>Prosopis juliflora</i>",
          "<i>Talipariti tiliaceum</i>",
          "<i>Vasconcellea cauliflora</i>"
         ],
         "yaxis": "y"
        },
        {
         "alignmentgroup": "True",
         "hovertemplate": "predicted_pathway=Carbohydrates<br>Recurrence=%{x}<br>y=%{y}<extra></extra>",
         "legendgroup": "Carbohydrates",
         "marker": {
          "color": "#FECB52",
          "pattern": {
           "shape": ""
          }
         },
         "name": "Carbohydrates",
         "offsetgroup": "Carbohydrates",
         "orientation": "h",
         "showlegend": true,
         "textposition": "auto",
         "type": "bar",
         "x": [
          1,
          11,
          1,
          1,
          3,
          6,
          2,
          7,
          4,
          1,
          18,
          5
         ],
         "xaxis": "x",
         "y": [
          "<i>Acrocomia aculeata</i>",
          "<i>Catharanthus roseus</i>",
          "<i>Genipa americana</i>",
          "<i>Gliricidia sepium</i>",
          "<i>Jatropha gossypiifolia</i>",
          "<i>Lantana camara</i>",
          "<i>Lonchocarpus heptaphyllus</i>",
          "<i>Morinda citrifolia</i>",
          "<i>Omphalea diandra</i>",
          "<i>Quassia amara</i>",
          "<i>Saccharum officinarum</i>",
          "<i>Sapium laurifolium</i>"
         ],
         "yaxis": "y"
        },
        {
         "alignmentgroup": "True",
         "hovertemplate": "predicted_pathway=Fatty acids<br>Recurrence=%{x}<br>y=%{y}<extra></extra>",
         "legendgroup": "Fatty acids",
         "marker": {
          "color": "#636efa",
          "pattern": {
           "shape": ""
          }
         },
         "name": "Fatty acids",
         "offsetgroup": "Fatty acids",
         "orientation": "h",
         "showlegend": true,
         "textposition": "auto",
         "type": "bar",
         "x": [
          1,
          1,
          20,
          1,
          15,
          3,
          23,
          8,
          1,
          1,
          16,
          5,
          23,
          3,
          17,
          1,
          2,
          1,
          3,
          2
         ],
         "xaxis": "x",
         "y": [
          "<i>Acrostichum aureum</i>",
          "<i>Ageratina ligustrina</i>",
          "<i>Ageratum conyzoides</i>",
          "<i>Caesalpinia pulcherrima</i>",
          "<i>Catharanthus roseus</i>",
          "<i>Crescentia cujete</i>",
          "<i>Cymbopogon citratus</i>",
          "<i>Delonix regia</i>",
          "<i>Ficus benjamina</i>",
          "<i>Gliricidia sepium</i>",
          "<i>Ipomoea nil</i>",
          "<i>Jatropha gossypiifolia</i>",
          "<i>Lantana camara</i>",
          "<i>Mimosa pudica</i>",
          "<i>Morinda citrifolia</i>",
          "<i>Paullinia pinnata</i>",
          "<i>Phoradendron</i>",
          "<i>Rhizophora mangle</i>",
          "<i>Saccharum officinarum</i>",
          "<i>Samanea saman</i>"
         ],
         "yaxis": "y"
        },
        {
         "alignmentgroup": "True",
         "hovertemplate": "predicted_pathway=Polyketides<br>Recurrence=%{x}<br>y=%{y}<extra></extra>",
         "legendgroup": "Polyketides",
         "marker": {
          "color": "#EF553B",
          "pattern": {
           "shape": ""
          }
         },
         "name": "Polyketides",
         "offsetgroup": "Polyketides",
         "orientation": "h",
         "showlegend": true,
         "textposition": "auto",
         "type": "bar",
         "x": [
          1,
          1,
          2,
          5,
          2,
          1,
          7,
          1,
          1,
          9,
          1,
          2,
          55,
          11,
          17,
          2,
          13,
          8
         ],
         "xaxis": "x",
         "y": [
          "<i>Ageratum conyzoides</i>",
          "<i>Avicennia germinans</i>",
          "<i>Caesalpinia pulcherrima</i>",
          "<i>Cassia grandis</i>",
          "<i>Crescentia cujete</i>",
          "<i>Eichhornia crassipes</i>",
          "<i>Faramea occidentalis</i>",
          "<i>Ipomoea nil</i>",
          "<i>Laguncularia racemosa</i>",
          "<i>Lantana camara</i>",
          "<i>Maclura tinctoria</i>",
          "<i>Marila laxiflora</i>",
          "<i>Morinda citrifolia</i>",
          "<i>Peperomia galioides</i>",
          "<i>Picramnia latifolia</i>",
          "<i>Piper reticulatum</i>",
          "<i>Talipariti tiliaceum</i>",
          "<i>Tovomita longifolia</i>"
         ],
         "yaxis": "y"
        },
        {
         "alignmentgroup": "True",
         "hovertemplate": "predicted_pathway=Shikimates and Phenylpropanoids<br>Recurrence=%{x}<br>y=%{y}<extra></extra>",
         "legendgroup": "Shikimates and Phenylpropanoids",
         "marker": {
          "color": "#00cc96",
          "pattern": {
           "shape": ""
          }
         },
         "name": "Shikimates and Phenylpropanoids",
         "offsetgroup": "Shikimates and Phenylpropanoids",
         "orientation": "h",
         "showlegend": true,
         "textposition": "auto",
         "type": "bar",
         "x": [
          13,
          20,
          2,
          2,
          2,
          30,
          4,
          3,
          5,
          6,
          27,
          19,
          1,
          6,
          33,
          12,
          4,
          1,
          4,
          7,
          40,
          1,
          2,
          1,
          51,
          7,
          20,
          20,
          21,
          30,
          4,
          5,
          14,
          55,
          16,
          4,
          10,
          5,
          5,
          3,
          2,
          1,
          12,
          18,
          2,
          6,
          11,
          2,
          5
         ],
         "xaxis": "x",
         "y": [
          "<i>Ageratina ligustrina</i>",
          "<i>Ageratum conyzoides</i>",
          "<i>Apeiba tibourbou</i>",
          "<i>Arthraxon hispidus</i>",
          "<i>Avicennia germinans</i>",
          "<i>Caesalpinia pulcherrima</i>",
          "<i>Calceolaria irazuensis</i>",
          "<i>Camonea umbellata</i>",
          "<i>Canavalia rosea</i>",
          "<i>Cassia grandis</i>",
          "<i>Catharanthus roseus</i>",
          "<i>Cissus verticillata</i>",
          "<i>Clarisia racemosa</i>",
          "<i>Crescentia cujete</i>",
          "<i>Cymbopogon citratus</i>",
          "<i>Eichhornia crassipes</i>",
          "<i>Erythrina berteroana</i>",
          "<i>Euphorbia hypericifolia</i>",
          "<i>Ficus maxima</i>",
          "<i>Fuchsia splendens</i>",
          "<i>Gliricidia sepium</i>",
          "<i>Guilandina bonduc</i>",
          "<i>Hedyosmum bonplandianum</i>",
          "<i>Hymenaea courbaril</i>",
          "<i>Ipomoea nil</i>",
          "<i>Jatropha gossypiifolia</i>",
          "<i>Laguncularia racemosa</i>",
          "<i>Lantana camara</i>",
          "<i>Lonchocarpus heptaphyllus</i>",
          "<i>Maclura tinctoria</i>",
          "<i>Marila laxiflora</i>",
          "<i>Mikania micrantha</i>",
          "<i>Mimosa pudica</i>",
          "<i>Morinda citrifolia</i>",
          "<i>Nasturtium officinale</i>",
          "<i>Paullinia pinnata</i>",
          "<i>Persicaria pubescens</i>",
          "<i>Phenax angustifolius</i>",
          "<i>Phoradendron</i>",
          "<i>Phyllanthus acuminatus</i>",
          "<i>Picramnia latifolia</i>",
          "<i>Piper reticulatum</i>",
          "<i>Prosopis juliflora</i>",
          "<i>Saccharum officinarum</i>",
          "<i>Sapium laurifolium</i>",
          "<i>Syzygium malaccense</i>",
          "<i>Talipariti tiliaceum</i>",
          "<i>Urochloa decumbens</i>",
          "<i>Verbesina myriocephala</i>"
         ],
         "yaxis": "y"
        },
        {
         "alignmentgroup": "True",
         "hovertemplate": "predicted_pathway=Terpenoids<br>Recurrence=%{x}<br>y=%{y}<extra></extra>",
         "legendgroup": "Terpenoids",
         "marker": {
          "color": "#ab63fa",
          "pattern": {
           "shape": ""
          }
         },
         "name": "Terpenoids",
         "offsetgroup": "Terpenoids",
         "orientation": "h",
         "showlegend": true,
         "textposition": "auto",
         "type": "bar",
         "x": [
          4,
          22,
          10,
          71,
          21,
          2,
          2,
          61,
          29,
          1,
          58,
          6,
          1,
          21,
          3,
          47,
          3,
          1,
          3,
          26,
          9,
          3,
          97,
          19,
          21,
          46,
          14,
          155,
          1,
          1,
          15,
          7,
          29,
          61,
          3,
          7,
          4,
          5,
          7,
          21,
          3,
          4,
          12,
          2,
          4,
          19,
          6,
          5,
          31,
          5,
          22,
          14,
          3,
          12,
          3,
          1,
          10,
          3
         ],
         "xaxis": "x",
         "y": [
          "<i>Acrostichum aureum</i>",
          "<i>Ageratina ixiocladon</i>",
          "<i>Ageratina ligustrina</i>",
          "<i>Ageratum conyzoides</i>",
          "<i>Alibertia edulis</i>",
          "<i>Avicennia bicolor</i>",
          "<i>Avicennia germinans</i>",
          "<i>Caesalpinia pulcherrima</i>",
          "<i>Calea urticifolia</i>",
          "<i>Cassia grandis</i>",
          "<i>Catharanthus roseus</i>",
          "<i>Cnidoscolus urens</i>",
          "<i>Cojoba arborea</i>",
          "<i>Crescentia cujete</i>",
          "<i>Cryptostegia madagascariensis</i>",
          "<i>Cymbopogon citratus</i>",
          "<i>Eichhornia crassipes</i>",
          "<i>Faramea occidentalis</i>",
          "<i>Ficus benjamina</i>",
          "<i>Genipa americana</i>",
          "<i>Gliricidia sepium</i>",
          "<i>Guavaberry</i>",
          "<i>Guilandina bonduc</i>",
          "<i>Hedyosmum bonplandianum</i>",
          "<i>Hymenaea courbaril</i>",
          "<i>Ipomoea nil</i>",
          "<i>Jatropha gossypiifolia</i>",
          "<i>Lantana camara</i>",
          "<i>Maclura tinctoria</i>",
          "<i>Marila laxiflora</i>",
          "<i>Maytenus woodsonii</i>",
          "<i>Mesosphaerum suaveolens</i>",
          "<i>Mikania micrantha</i>",
          "<i>Morinda citrifolia</i>",
          "<i>Nasturtium officinale</i>",
          "<i>Onoseris onoseroides</i>",
          "<i>Paullinia pinnata</i>",
          "<i>Peperomia galioides</i>",
          "<i>Persicaria pubescens</i>",
          "<i>Phoradendron</i>",
          "<i>Phytolacca rivinoides</i>",
          "<i>Picramnia latifolia</i>",
          "<i>Piptocarpha poeppigiana</i>",
          "<i>Posoqueria latifolia</i>",
          "<i>Prosopis juliflora</i>",
          "<i>Quassia amara</i>",
          "<i>Rhizophora mangle</i>",
          "<i>Saccharum officinarum</i>",
          "<i>Sansevieria trifasciata</i>",
          "<i>Smilax officinalis</i>",
          "<i>Talipariti tiliaceum</i>",
          "<i>Telanthophora grandifolia</i>",
          "<i>Trattinnickia aspera</i>",
          "<i>Trichilia pallida</i>",
          "<i>Urochloa decumbens</i>",
          "<i>Verbesina myriocephala</i>",
          "<i>Xylopia frutescens</i>",
          "<i>araguaney</i>"
         ],
         "yaxis": "y"
        }
       ],
       "layout": {
        "barmode": "relative",
        "height": 900,
        "legend": {
         "title": {
          "text": "predicted_pathway"
         },
         "tracegroupgap": 0
        },
        "plot_bgcolor": "white",
        "template": {
         "data": {
          "bar": [
           {
            "error_x": {
             "color": "#2a3f5f"
            },
            "error_y": {
             "color": "#2a3f5f"
            },
            "marker": {
             "line": {
              "color": "#E5ECF6",
              "width": 0.5
             },
             "pattern": {
              "fillmode": "overlay",
              "size": 10,
              "solidity": 0.2
             }
            },
            "type": "bar"
           }
          ],
          "barpolar": [
           {
            "marker": {
             "line": {
              "color": "#E5ECF6",
              "width": 0.5
             },
             "pattern": {
              "fillmode": "overlay",
              "size": 10,
              "solidity": 0.2
             }
            },
            "type": "barpolar"
           }
          ],
          "carpet": [
           {
            "aaxis": {
             "endlinecolor": "#2a3f5f",
             "gridcolor": "white",
             "linecolor": "white",
             "minorgridcolor": "white",
             "startlinecolor": "#2a3f5f"
            },
            "baxis": {
             "endlinecolor": "#2a3f5f",
             "gridcolor": "white",
             "linecolor": "white",
             "minorgridcolor": "white",
             "startlinecolor": "#2a3f5f"
            },
            "type": "carpet"
           }
          ],
          "choropleth": [
           {
            "colorbar": {
             "outlinewidth": 0,
             "ticks": ""
            },
            "type": "choropleth"
           }
          ],
          "contour": [
           {
            "colorbar": {
             "outlinewidth": 0,
             "ticks": ""
            },
            "colorscale": [
             [
              0,
              "#0d0887"
             ],
             [
              0.1111111111111111,
              "#46039f"
             ],
             [
              0.2222222222222222,
              "#7201a8"
             ],
             [
              0.3333333333333333,
              "#9c179e"
             ],
             [
              0.4444444444444444,
              "#bd3786"
             ],
             [
              0.5555555555555556,
              "#d8576b"
             ],
             [
              0.6666666666666666,
              "#ed7953"
             ],
             [
              0.7777777777777778,
              "#fb9f3a"
             ],
             [
              0.8888888888888888,
              "#fdca26"
             ],
             [
              1,
              "#f0f921"
             ]
            ],
            "type": "contour"
           }
          ],
          "contourcarpet": [
           {
            "colorbar": {
             "outlinewidth": 0,
             "ticks": ""
            },
            "type": "contourcarpet"
           }
          ],
          "heatmap": [
           {
            "colorbar": {
             "outlinewidth": 0,
             "ticks": ""
            },
            "colorscale": [
             [
              0,
              "#0d0887"
             ],
             [
              0.1111111111111111,
              "#46039f"
             ],
             [
              0.2222222222222222,
              "#7201a8"
             ],
             [
              0.3333333333333333,
              "#9c179e"
             ],
             [
              0.4444444444444444,
              "#bd3786"
             ],
             [
              0.5555555555555556,
              "#d8576b"
             ],
             [
              0.6666666666666666,
              "#ed7953"
             ],
             [
              0.7777777777777778,
              "#fb9f3a"
             ],
             [
              0.8888888888888888,
              "#fdca26"
             ],
             [
              1,
              "#f0f921"
             ]
            ],
            "type": "heatmap"
           }
          ],
          "heatmapgl": [
           {
            "colorbar": {
             "outlinewidth": 0,
             "ticks": ""
            },
            "colorscale": [
             [
              0,
              "#0d0887"
             ],
             [
              0.1111111111111111,
              "#46039f"
             ],
             [
              0.2222222222222222,
              "#7201a8"
             ],
             [
              0.3333333333333333,
              "#9c179e"
             ],
             [
              0.4444444444444444,
              "#bd3786"
             ],
             [
              0.5555555555555556,
              "#d8576b"
             ],
             [
              0.6666666666666666,
              "#ed7953"
             ],
             [
              0.7777777777777778,
              "#fb9f3a"
             ],
             [
              0.8888888888888888,
              "#fdca26"
             ],
             [
              1,
              "#f0f921"
             ]
            ],
            "type": "heatmapgl"
           }
          ],
          "histogram": [
           {
            "marker": {
             "pattern": {
              "fillmode": "overlay",
              "size": 10,
              "solidity": 0.2
             }
            },
            "type": "histogram"
           }
          ],
          "histogram2d": [
           {
            "colorbar": {
             "outlinewidth": 0,
             "ticks": ""
            },
            "colorscale": [
             [
              0,
              "#0d0887"
             ],
             [
              0.1111111111111111,
              "#46039f"
             ],
             [
              0.2222222222222222,
              "#7201a8"
             ],
             [
              0.3333333333333333,
              "#9c179e"
             ],
             [
              0.4444444444444444,
              "#bd3786"
             ],
             [
              0.5555555555555556,
              "#d8576b"
             ],
             [
              0.6666666666666666,
              "#ed7953"
             ],
             [
              0.7777777777777778,
              "#fb9f3a"
             ],
             [
              0.8888888888888888,
              "#fdca26"
             ],
             [
              1,
              "#f0f921"
             ]
            ],
            "type": "histogram2d"
           }
          ],
          "histogram2dcontour": [
           {
            "colorbar": {
             "outlinewidth": 0,
             "ticks": ""
            },
            "colorscale": [
             [
              0,
              "#0d0887"
             ],
             [
              0.1111111111111111,
              "#46039f"
             ],
             [
              0.2222222222222222,
              "#7201a8"
             ],
             [
              0.3333333333333333,
              "#9c179e"
             ],
             [
              0.4444444444444444,
              "#bd3786"
             ],
             [
              0.5555555555555556,
              "#d8576b"
             ],
             [
              0.6666666666666666,
              "#ed7953"
             ],
             [
              0.7777777777777778,
              "#fb9f3a"
             ],
             [
              0.8888888888888888,
              "#fdca26"
             ],
             [
              1,
              "#f0f921"
             ]
            ],
            "type": "histogram2dcontour"
           }
          ],
          "mesh3d": [
           {
            "colorbar": {
             "outlinewidth": 0,
             "ticks": ""
            },
            "type": "mesh3d"
           }
          ],
          "parcoords": [
           {
            "line": {
             "colorbar": {
              "outlinewidth": 0,
              "ticks": ""
             }
            },
            "type": "parcoords"
           }
          ],
          "pie": [
           {
            "automargin": true,
            "type": "pie"
           }
          ],
          "scatter": [
           {
            "marker": {
             "colorbar": {
              "outlinewidth": 0,
              "ticks": ""
             }
            },
            "type": "scatter"
           }
          ],
          "scatter3d": [
           {
            "line": {
             "colorbar": {
              "outlinewidth": 0,
              "ticks": ""
             }
            },
            "marker": {
             "colorbar": {
              "outlinewidth": 0,
              "ticks": ""
             }
            },
            "type": "scatter3d"
           }
          ],
          "scattercarpet": [
           {
            "marker": {
             "colorbar": {
              "outlinewidth": 0,
              "ticks": ""
             }
            },
            "type": "scattercarpet"
           }
          ],
          "scattergeo": [
           {
            "marker": {
             "colorbar": {
              "outlinewidth": 0,
              "ticks": ""
             }
            },
            "type": "scattergeo"
           }
          ],
          "scattergl": [
           {
            "marker": {
             "colorbar": {
              "outlinewidth": 0,
              "ticks": ""
             }
            },
            "type": "scattergl"
           }
          ],
          "scattermapbox": [
           {
            "marker": {
             "colorbar": {
              "outlinewidth": 0,
              "ticks": ""
             }
            },
            "type": "scattermapbox"
           }
          ],
          "scatterpolar": [
           {
            "marker": {
             "colorbar": {
              "outlinewidth": 0,
              "ticks": ""
             }
            },
            "type": "scatterpolar"
           }
          ],
          "scatterpolargl": [
           {
            "marker": {
             "colorbar": {
              "outlinewidth": 0,
              "ticks": ""
             }
            },
            "type": "scatterpolargl"
           }
          ],
          "scatterternary": [
           {
            "marker": {
             "colorbar": {
              "outlinewidth": 0,
              "ticks": ""
             }
            },
            "type": "scatterternary"
           }
          ],
          "surface": [
           {
            "colorbar": {
             "outlinewidth": 0,
             "ticks": ""
            },
            "colorscale": [
             [
              0,
              "#0d0887"
             ],
             [
              0.1111111111111111,
              "#46039f"
             ],
             [
              0.2222222222222222,
              "#7201a8"
             ],
             [
              0.3333333333333333,
              "#9c179e"
             ],
             [
              0.4444444444444444,
              "#bd3786"
             ],
             [
              0.5555555555555556,
              "#d8576b"
             ],
             [
              0.6666666666666666,
              "#ed7953"
             ],
             [
              0.7777777777777778,
              "#fb9f3a"
             ],
             [
              0.8888888888888888,
              "#fdca26"
             ],
             [
              1,
              "#f0f921"
             ]
            ],
            "type": "surface"
           }
          ],
          "table": [
           {
            "cells": {
             "fill": {
              "color": "#EBF0F8"
             },
             "line": {
              "color": "white"
             }
            },
            "header": {
             "fill": {
              "color": "#C8D4E3"
             },
             "line": {
              "color": "white"
             }
            },
            "type": "table"
           }
          ]
         },
         "layout": {
          "annotationdefaults": {
           "arrowcolor": "#2a3f5f",
           "arrowhead": 0,
           "arrowwidth": 1
          },
          "autotypenumbers": "strict",
          "coloraxis": {
           "colorbar": {
            "outlinewidth": 0,
            "ticks": ""
           }
          },
          "colorscale": {
           "diverging": [
            [
             0,
             "#8e0152"
            ],
            [
             0.1,
             "#c51b7d"
            ],
            [
             0.2,
             "#de77ae"
            ],
            [
             0.3,
             "#f1b6da"
            ],
            [
             0.4,
             "#fde0ef"
            ],
            [
             0.5,
             "#f7f7f7"
            ],
            [
             0.6,
             "#e6f5d0"
            ],
            [
             0.7,
             "#b8e186"
            ],
            [
             0.8,
             "#7fbc41"
            ],
            [
             0.9,
             "#4d9221"
            ],
            [
             1,
             "#276419"
            ]
           ],
           "sequential": [
            [
             0,
             "#0d0887"
            ],
            [
             0.1111111111111111,
             "#46039f"
            ],
            [
             0.2222222222222222,
             "#7201a8"
            ],
            [
             0.3333333333333333,
             "#9c179e"
            ],
            [
             0.4444444444444444,
             "#bd3786"
            ],
            [
             0.5555555555555556,
             "#d8576b"
            ],
            [
             0.6666666666666666,
             "#ed7953"
            ],
            [
             0.7777777777777778,
             "#fb9f3a"
            ],
            [
             0.8888888888888888,
             "#fdca26"
            ],
            [
             1,
             "#f0f921"
            ]
           ],
           "sequentialminus": [
            [
             0,
             "#0d0887"
            ],
            [
             0.1111111111111111,
             "#46039f"
            ],
            [
             0.2222222222222222,
             "#7201a8"
            ],
            [
             0.3333333333333333,
             "#9c179e"
            ],
            [
             0.4444444444444444,
             "#bd3786"
            ],
            [
             0.5555555555555556,
             "#d8576b"
            ],
            [
             0.6666666666666666,
             "#ed7953"
            ],
            [
             0.7777777777777778,
             "#fb9f3a"
            ],
            [
             0.8888888888888888,
             "#fdca26"
            ],
            [
             1,
             "#f0f921"
            ]
           ]
          },
          "colorway": [
           "#636efa",
           "#EF553B",
           "#00cc96",
           "#ab63fa",
           "#FFA15A",
           "#19d3f3",
           "#FF6692",
           "#B6E880",
           "#FF97FF",
           "#FECB52"
          ],
          "font": {
           "color": "#2a3f5f"
          },
          "geo": {
           "bgcolor": "white",
           "lakecolor": "white",
           "landcolor": "#E5ECF6",
           "showlakes": true,
           "showland": true,
           "subunitcolor": "white"
          },
          "hoverlabel": {
           "align": "left"
          },
          "hovermode": "closest",
          "mapbox": {
           "style": "light"
          },
          "paper_bgcolor": "white",
          "plot_bgcolor": "#E5ECF6",
          "polar": {
           "angularaxis": {
            "gridcolor": "white",
            "linecolor": "white",
            "ticks": ""
           },
           "bgcolor": "#E5ECF6",
           "radialaxis": {
            "gridcolor": "white",
            "linecolor": "white",
            "ticks": ""
           }
          },
          "scene": {
           "xaxis": {
            "backgroundcolor": "#E5ECF6",
            "gridcolor": "white",
            "gridwidth": 2,
            "linecolor": "white",
            "showbackground": true,
            "ticks": "",
            "zerolinecolor": "white"
           },
           "yaxis": {
            "backgroundcolor": "#E5ECF6",
            "gridcolor": "white",
            "gridwidth": 2,
            "linecolor": "white",
            "showbackground": true,
            "ticks": "",
            "zerolinecolor": "white"
           },
           "zaxis": {
            "backgroundcolor": "#E5ECF6",
            "gridcolor": "white",
            "gridwidth": 2,
            "linecolor": "white",
            "showbackground": true,
            "ticks": "",
            "zerolinecolor": "white"
           }
          },
          "shapedefaults": {
           "line": {
            "color": "#2a3f5f"
           }
          },
          "ternary": {
           "aaxis": {
            "gridcolor": "white",
            "linecolor": "white",
            "ticks": ""
           },
           "baxis": {
            "gridcolor": "white",
            "linecolor": "white",
            "ticks": ""
           },
           "bgcolor": "#E5ECF6",
           "caxis": {
            "gridcolor": "white",
            "linecolor": "white",
            "ticks": ""
           }
          },
          "title": {
           "x": 0.05
          },
          "xaxis": {
           "automargin": true,
           "gridcolor": "white",
           "linecolor": "white",
           "ticks": "",
           "title": {
            "standoff": 15
           },
           "zerolinecolor": "white",
           "zerolinewidth": 2
          },
          "yaxis": {
           "automargin": true,
           "gridcolor": "white",
           "linecolor": "white",
           "ticks": "",
           "title": {
            "standoff": 15
           },
           "zerolinecolor": "white",
           "zerolinewidth": 2
          }
         }
        },
        "title": {
         "text": "Stacked Barplot of Predicted Pathways Recurrence for All Species"
        },
        "width": 1500,
        "xaxis": {
         "anchor": "y",
         "domain": [
          0,
          1
         ],
         "title": {
          "text": "Recurrence"
         }
        },
        "yaxis": {
         "anchor": "x",
         "domain": [
          0,
          1
         ],
         "title": {
          "text": "Species"
         }
        }
       }
      },
      "text/html": [
       "<div>                            <div id=\"4a64bd67-2ac2-49e7-bac1-5667ec5b5dd0\" class=\"plotly-graph-div\" style=\"height:900px; width:1500px;\"></div>            <script type=\"text/javascript\">                require([\"plotly\"], function(Plotly) {                    window.PLOTLYENV=window.PLOTLYENV || {};                                    if (document.getElementById(\"4a64bd67-2ac2-49e7-bac1-5667ec5b5dd0\")) {                    Plotly.newPlot(                        \"4a64bd67-2ac2-49e7-bac1-5667ec5b5dd0\",                        [{\"alignmentgroup\":\"True\",\"hovertemplate\":\"predicted_pathway=Alkaloids<br>Recurrence=%{x}<br>y=%{y}<extra></extra>\",\"legendgroup\":\"Alkaloids\",\"marker\":{\"color\":\"#B6E880\",\"pattern\":{\"shape\":\"\"}},\"name\":\"Alkaloids\",\"offsetgroup\":\"Alkaloids\",\"orientation\":\"h\",\"showlegend\":true,\"textposition\":\"auto\",\"type\":\"bar\",\"x\":[4,2,6,1,2,209,5,8,15,1,2,2,1,2,2,1,2,6,2,7,1,11,8,3,1],\"xaxis\":\"x\",\"y\":[\"<i>Ageratina ligustrina</i>\",\"<i>Ageratum conyzoides</i>\",\"<i>Albizia adinocephala</i>\",\"<i>Alibertia edulis</i>\",\"<i>Caesalpinia pulcherrima</i>\",\"<i>Catharanthus roseus</i>\",\"<i>Cymbopogon citratus</i>\",\"<i>Eichhornia crassipes</i>\",\"<i>Erythrina berteroana</i>\",\"<i>Erythroxylum fimbriatum</i>\",\"<i>Herrania purpurea</i>\",\"<i>Ipomoea nil</i>\",\"<i>Lonchocarpus heptaphyllus</i>\",\"<i>Mimosa pudica</i>\",\"<i>Morinda citrifolia</i>\",\"<i>Nasturtium officinale</i>\",\"<i>Piper reticulatum</i>\",\"<i>Prosopis juliflora</i>\",\"<i>Quassia amara</i>\",\"<i>Rauvolfia littoralis</i>\",\"<i>Samanea saman</i>\",\"<i>Siparuna grandiflora</i>\",\"<i>Talipariti tiliaceum</i>\",\"<i>Telanthophora grandifolia</i>\",\"<i>Vasconcellea cauliflora</i>\"],\"yaxis\":\"y\"},{\"alignmentgroup\":\"True\",\"hovertemplate\":\"predicted_pathway=Amino acids and Peptides<br>Recurrence=%{x}<br>y=%{y}<extra></extra>\",\"legendgroup\":\"Amino acids and Peptides\",\"marker\":{\"color\":\"#FF97FF\",\"pattern\":{\"shape\":\"\"}},\"name\":\"Amino acids and Peptides\",\"offsetgroup\":\"Amino acids and Peptides\",\"orientation\":\"h\",\"showlegend\":true,\"textposition\":\"auto\",\"type\":\"bar\",\"x\":[1,1,13,1,21,1,1,25,13,4,2,2,1,1,2],\"xaxis\":\"x\",\"y\":[\"<i>Camonea umbellata</i>\",\"<i>Canavalia rosea</i>\",\"<i>Catharanthus roseus</i>\",\"<i>Delonix regia</i>\",\"<i>Eichhornia crassipes</i>\",\"<i>Gliricidia sepium</i>\",\"<i>Guilandina bonduc</i>\",\"<i>Indigofera hirsuta</i>\",\"<i>Jatropha gossypiifolia</i>\",\"<i>Lantana camara</i>\",\"<i>Mimosa pudica</i>\",\"<i>Nasturtium officinale</i>\",\"<i>Prosopis juliflora</i>\",\"<i>Talipariti tiliaceum</i>\",\"<i>Vasconcellea cauliflora</i>\"],\"yaxis\":\"y\"},{\"alignmentgroup\":\"True\",\"hovertemplate\":\"predicted_pathway=Carbohydrates<br>Recurrence=%{x}<br>y=%{y}<extra></extra>\",\"legendgroup\":\"Carbohydrates\",\"marker\":{\"color\":\"#FECB52\",\"pattern\":{\"shape\":\"\"}},\"name\":\"Carbohydrates\",\"offsetgroup\":\"Carbohydrates\",\"orientation\":\"h\",\"showlegend\":true,\"textposition\":\"auto\",\"type\":\"bar\",\"x\":[1,11,1,1,3,6,2,7,4,1,18,5],\"xaxis\":\"x\",\"y\":[\"<i>Acrocomia aculeata</i>\",\"<i>Catharanthus roseus</i>\",\"<i>Genipa americana</i>\",\"<i>Gliricidia sepium</i>\",\"<i>Jatropha gossypiifolia</i>\",\"<i>Lantana camara</i>\",\"<i>Lonchocarpus heptaphyllus</i>\",\"<i>Morinda citrifolia</i>\",\"<i>Omphalea diandra</i>\",\"<i>Quassia amara</i>\",\"<i>Saccharum officinarum</i>\",\"<i>Sapium laurifolium</i>\"],\"yaxis\":\"y\"},{\"alignmentgroup\":\"True\",\"hovertemplate\":\"predicted_pathway=Fatty acids<br>Recurrence=%{x}<br>y=%{y}<extra></extra>\",\"legendgroup\":\"Fatty acids\",\"marker\":{\"color\":\"#636efa\",\"pattern\":{\"shape\":\"\"}},\"name\":\"Fatty acids\",\"offsetgroup\":\"Fatty acids\",\"orientation\":\"h\",\"showlegend\":true,\"textposition\":\"auto\",\"type\":\"bar\",\"x\":[1,1,20,1,15,3,23,8,1,1,16,5,23,3,17,1,2,1,3,2],\"xaxis\":\"x\",\"y\":[\"<i>Acrostichum aureum</i>\",\"<i>Ageratina ligustrina</i>\",\"<i>Ageratum conyzoides</i>\",\"<i>Caesalpinia pulcherrima</i>\",\"<i>Catharanthus roseus</i>\",\"<i>Crescentia cujete</i>\",\"<i>Cymbopogon citratus</i>\",\"<i>Delonix regia</i>\",\"<i>Ficus benjamina</i>\",\"<i>Gliricidia sepium</i>\",\"<i>Ipomoea nil</i>\",\"<i>Jatropha gossypiifolia</i>\",\"<i>Lantana camara</i>\",\"<i>Mimosa pudica</i>\",\"<i>Morinda citrifolia</i>\",\"<i>Paullinia pinnata</i>\",\"<i>Phoradendron</i>\",\"<i>Rhizophora mangle</i>\",\"<i>Saccharum officinarum</i>\",\"<i>Samanea saman</i>\"],\"yaxis\":\"y\"},{\"alignmentgroup\":\"True\",\"hovertemplate\":\"predicted_pathway=Polyketides<br>Recurrence=%{x}<br>y=%{y}<extra></extra>\",\"legendgroup\":\"Polyketides\",\"marker\":{\"color\":\"#EF553B\",\"pattern\":{\"shape\":\"\"}},\"name\":\"Polyketides\",\"offsetgroup\":\"Polyketides\",\"orientation\":\"h\",\"showlegend\":true,\"textposition\":\"auto\",\"type\":\"bar\",\"x\":[1,1,2,5,2,1,7,1,1,9,1,2,55,11,17,2,13,8],\"xaxis\":\"x\",\"y\":[\"<i>Ageratum conyzoides</i>\",\"<i>Avicennia germinans</i>\",\"<i>Caesalpinia pulcherrima</i>\",\"<i>Cassia grandis</i>\",\"<i>Crescentia cujete</i>\",\"<i>Eichhornia crassipes</i>\",\"<i>Faramea occidentalis</i>\",\"<i>Ipomoea nil</i>\",\"<i>Laguncularia racemosa</i>\",\"<i>Lantana camara</i>\",\"<i>Maclura tinctoria</i>\",\"<i>Marila laxiflora</i>\",\"<i>Morinda citrifolia</i>\",\"<i>Peperomia galioides</i>\",\"<i>Picramnia latifolia</i>\",\"<i>Piper reticulatum</i>\",\"<i>Talipariti tiliaceum</i>\",\"<i>Tovomita longifolia</i>\"],\"yaxis\":\"y\"},{\"alignmentgroup\":\"True\",\"hovertemplate\":\"predicted_pathway=Shikimates and Phenylpropanoids<br>Recurrence=%{x}<br>y=%{y}<extra></extra>\",\"legendgroup\":\"Shikimates and Phenylpropanoids\",\"marker\":{\"color\":\"#00cc96\",\"pattern\":{\"shape\":\"\"}},\"name\":\"Shikimates and Phenylpropanoids\",\"offsetgroup\":\"Shikimates and Phenylpropanoids\",\"orientation\":\"h\",\"showlegend\":true,\"textposition\":\"auto\",\"type\":\"bar\",\"x\":[13,20,2,2,2,30,4,3,5,6,27,19,1,6,33,12,4,1,4,7,40,1,2,1,51,7,20,20,21,30,4,5,14,55,16,4,10,5,5,3,2,1,12,18,2,6,11,2,5],\"xaxis\":\"x\",\"y\":[\"<i>Ageratina ligustrina</i>\",\"<i>Ageratum conyzoides</i>\",\"<i>Apeiba tibourbou</i>\",\"<i>Arthraxon hispidus</i>\",\"<i>Avicennia germinans</i>\",\"<i>Caesalpinia pulcherrima</i>\",\"<i>Calceolaria irazuensis</i>\",\"<i>Camonea umbellata</i>\",\"<i>Canavalia rosea</i>\",\"<i>Cassia grandis</i>\",\"<i>Catharanthus roseus</i>\",\"<i>Cissus verticillata</i>\",\"<i>Clarisia racemosa</i>\",\"<i>Crescentia cujete</i>\",\"<i>Cymbopogon citratus</i>\",\"<i>Eichhornia crassipes</i>\",\"<i>Erythrina berteroana</i>\",\"<i>Euphorbia hypericifolia</i>\",\"<i>Ficus maxima</i>\",\"<i>Fuchsia splendens</i>\",\"<i>Gliricidia sepium</i>\",\"<i>Guilandina bonduc</i>\",\"<i>Hedyosmum bonplandianum</i>\",\"<i>Hymenaea courbaril</i>\",\"<i>Ipomoea nil</i>\",\"<i>Jatropha gossypiifolia</i>\",\"<i>Laguncularia racemosa</i>\",\"<i>Lantana camara</i>\",\"<i>Lonchocarpus heptaphyllus</i>\",\"<i>Maclura tinctoria</i>\",\"<i>Marila laxiflora</i>\",\"<i>Mikania micrantha</i>\",\"<i>Mimosa pudica</i>\",\"<i>Morinda citrifolia</i>\",\"<i>Nasturtium officinale</i>\",\"<i>Paullinia pinnata</i>\",\"<i>Persicaria pubescens</i>\",\"<i>Phenax angustifolius</i>\",\"<i>Phoradendron</i>\",\"<i>Phyllanthus acuminatus</i>\",\"<i>Picramnia latifolia</i>\",\"<i>Piper reticulatum</i>\",\"<i>Prosopis juliflora</i>\",\"<i>Saccharum officinarum</i>\",\"<i>Sapium laurifolium</i>\",\"<i>Syzygium malaccense</i>\",\"<i>Talipariti tiliaceum</i>\",\"<i>Urochloa decumbens</i>\",\"<i>Verbesina myriocephala</i>\"],\"yaxis\":\"y\"},{\"alignmentgroup\":\"True\",\"hovertemplate\":\"predicted_pathway=Terpenoids<br>Recurrence=%{x}<br>y=%{y}<extra></extra>\",\"legendgroup\":\"Terpenoids\",\"marker\":{\"color\":\"#ab63fa\",\"pattern\":{\"shape\":\"\"}},\"name\":\"Terpenoids\",\"offsetgroup\":\"Terpenoids\",\"orientation\":\"h\",\"showlegend\":true,\"textposition\":\"auto\",\"type\":\"bar\",\"x\":[4,22,10,71,21,2,2,61,29,1,58,6,1,21,3,47,3,1,3,26,9,3,97,19,21,46,14,155,1,1,15,7,29,61,3,7,4,5,7,21,3,4,12,2,4,19,6,5,31,5,22,14,3,12,3,1,10,3],\"xaxis\":\"x\",\"y\":[\"<i>Acrostichum aureum</i>\",\"<i>Ageratina ixiocladon</i>\",\"<i>Ageratina ligustrina</i>\",\"<i>Ageratum conyzoides</i>\",\"<i>Alibertia edulis</i>\",\"<i>Avicennia bicolor</i>\",\"<i>Avicennia germinans</i>\",\"<i>Caesalpinia pulcherrima</i>\",\"<i>Calea urticifolia</i>\",\"<i>Cassia grandis</i>\",\"<i>Catharanthus roseus</i>\",\"<i>Cnidoscolus urens</i>\",\"<i>Cojoba arborea</i>\",\"<i>Crescentia cujete</i>\",\"<i>Cryptostegia madagascariensis</i>\",\"<i>Cymbopogon citratus</i>\",\"<i>Eichhornia crassipes</i>\",\"<i>Faramea occidentalis</i>\",\"<i>Ficus benjamina</i>\",\"<i>Genipa americana</i>\",\"<i>Gliricidia sepium</i>\",\"<i>Guavaberry</i>\",\"<i>Guilandina bonduc</i>\",\"<i>Hedyosmum bonplandianum</i>\",\"<i>Hymenaea courbaril</i>\",\"<i>Ipomoea nil</i>\",\"<i>Jatropha gossypiifolia</i>\",\"<i>Lantana camara</i>\",\"<i>Maclura tinctoria</i>\",\"<i>Marila laxiflora</i>\",\"<i>Maytenus woodsonii</i>\",\"<i>Mesosphaerum suaveolens</i>\",\"<i>Mikania micrantha</i>\",\"<i>Morinda citrifolia</i>\",\"<i>Nasturtium officinale</i>\",\"<i>Onoseris onoseroides</i>\",\"<i>Paullinia pinnata</i>\",\"<i>Peperomia galioides</i>\",\"<i>Persicaria pubescens</i>\",\"<i>Phoradendron</i>\",\"<i>Phytolacca rivinoides</i>\",\"<i>Picramnia latifolia</i>\",\"<i>Piptocarpha poeppigiana</i>\",\"<i>Posoqueria latifolia</i>\",\"<i>Prosopis juliflora</i>\",\"<i>Quassia amara</i>\",\"<i>Rhizophora mangle</i>\",\"<i>Saccharum officinarum</i>\",\"<i>Sansevieria trifasciata</i>\",\"<i>Smilax officinalis</i>\",\"<i>Talipariti tiliaceum</i>\",\"<i>Telanthophora grandifolia</i>\",\"<i>Trattinnickia aspera</i>\",\"<i>Trichilia pallida</i>\",\"<i>Urochloa decumbens</i>\",\"<i>Verbesina myriocephala</i>\",\"<i>Xylopia frutescens</i>\",\"<i>araguaney</i>\"],\"yaxis\":\"y\"}],                        {\"barmode\":\"relative\",\"height\":900,\"legend\":{\"title\":{\"text\":\"predicted_pathway\"},\"tracegroupgap\":0},\"plot_bgcolor\":\"white\",\"template\":{\"data\":{\"bar\":[{\"error_x\":{\"color\":\"#2a3f5f\"},\"error_y\":{\"color\":\"#2a3f5f\"},\"marker\":{\"line\":{\"color\":\"#E5ECF6\",\"width\":0.5},\"pattern\":{\"fillmode\":\"overlay\",\"size\":10,\"solidity\":0.2}},\"type\":\"bar\"}],\"barpolar\":[{\"marker\":{\"line\":{\"color\":\"#E5ECF6\",\"width\":0.5},\"pattern\":{\"fillmode\":\"overlay\",\"size\":10,\"solidity\":0.2}},\"type\":\"barpolar\"}],\"carpet\":[{\"aaxis\":{\"endlinecolor\":\"#2a3f5f\",\"gridcolor\":\"white\",\"linecolor\":\"white\",\"minorgridcolor\":\"white\",\"startlinecolor\":\"#2a3f5f\"},\"baxis\":{\"endlinecolor\":\"#2a3f5f\",\"gridcolor\":\"white\",\"linecolor\":\"white\",\"minorgridcolor\":\"white\",\"startlinecolor\":\"#2a3f5f\"},\"type\":\"carpet\"}],\"choropleth\":[{\"colorbar\":{\"outlinewidth\":0,\"ticks\":\"\"},\"type\":\"choropleth\"}],\"contour\":[{\"colorbar\":{\"outlinewidth\":0,\"ticks\":\"\"},\"colorscale\":[[0.0,\"#0d0887\"],[0.1111111111111111,\"#46039f\"],[0.2222222222222222,\"#7201a8\"],[0.3333333333333333,\"#9c179e\"],[0.4444444444444444,\"#bd3786\"],[0.5555555555555556,\"#d8576b\"],[0.6666666666666666,\"#ed7953\"],[0.7777777777777778,\"#fb9f3a\"],[0.8888888888888888,\"#fdca26\"],[1.0,\"#f0f921\"]],\"type\":\"contour\"}],\"contourcarpet\":[{\"colorbar\":{\"outlinewidth\":0,\"ticks\":\"\"},\"type\":\"contourcarpet\"}],\"heatmap\":[{\"colorbar\":{\"outlinewidth\":0,\"ticks\":\"\"},\"colorscale\":[[0.0,\"#0d0887\"],[0.1111111111111111,\"#46039f\"],[0.2222222222222222,\"#7201a8\"],[0.3333333333333333,\"#9c179e\"],[0.4444444444444444,\"#bd3786\"],[0.5555555555555556,\"#d8576b\"],[0.6666666666666666,\"#ed7953\"],[0.7777777777777778,\"#fb9f3a\"],[0.8888888888888888,\"#fdca26\"],[1.0,\"#f0f921\"]],\"type\":\"heatmap\"}],\"heatmapgl\":[{\"colorbar\":{\"outlinewidth\":0,\"ticks\":\"\"},\"colorscale\":[[0.0,\"#0d0887\"],[0.1111111111111111,\"#46039f\"],[0.2222222222222222,\"#7201a8\"],[0.3333333333333333,\"#9c179e\"],[0.4444444444444444,\"#bd3786\"],[0.5555555555555556,\"#d8576b\"],[0.6666666666666666,\"#ed7953\"],[0.7777777777777778,\"#fb9f3a\"],[0.8888888888888888,\"#fdca26\"],[1.0,\"#f0f921\"]],\"type\":\"heatmapgl\"}],\"histogram\":[{\"marker\":{\"pattern\":{\"fillmode\":\"overlay\",\"size\":10,\"solidity\":0.2}},\"type\":\"histogram\"}],\"histogram2d\":[{\"colorbar\":{\"outlinewidth\":0,\"ticks\":\"\"},\"colorscale\":[[0.0,\"#0d0887\"],[0.1111111111111111,\"#46039f\"],[0.2222222222222222,\"#7201a8\"],[0.3333333333333333,\"#9c179e\"],[0.4444444444444444,\"#bd3786\"],[0.5555555555555556,\"#d8576b\"],[0.6666666666666666,\"#ed7953\"],[0.7777777777777778,\"#fb9f3a\"],[0.8888888888888888,\"#fdca26\"],[1.0,\"#f0f921\"]],\"type\":\"histogram2d\"}],\"histogram2dcontour\":[{\"colorbar\":{\"outlinewidth\":0,\"ticks\":\"\"},\"colorscale\":[[0.0,\"#0d0887\"],[0.1111111111111111,\"#46039f\"],[0.2222222222222222,\"#7201a8\"],[0.3333333333333333,\"#9c179e\"],[0.4444444444444444,\"#bd3786\"],[0.5555555555555556,\"#d8576b\"],[0.6666666666666666,\"#ed7953\"],[0.7777777777777778,\"#fb9f3a\"],[0.8888888888888888,\"#fdca26\"],[1.0,\"#f0f921\"]],\"type\":\"histogram2dcontour\"}],\"mesh3d\":[{\"colorbar\":{\"outlinewidth\":0,\"ticks\":\"\"},\"type\":\"mesh3d\"}],\"parcoords\":[{\"line\":{\"colorbar\":{\"outlinewidth\":0,\"ticks\":\"\"}},\"type\":\"parcoords\"}],\"pie\":[{\"automargin\":true,\"type\":\"pie\"}],\"scatter\":[{\"marker\":{\"colorbar\":{\"outlinewidth\":0,\"ticks\":\"\"}},\"type\":\"scatter\"}],\"scatter3d\":[{\"line\":{\"colorbar\":{\"outlinewidth\":0,\"ticks\":\"\"}},\"marker\":{\"colorbar\":{\"outlinewidth\":0,\"ticks\":\"\"}},\"type\":\"scatter3d\"}],\"scattercarpet\":[{\"marker\":{\"colorbar\":{\"outlinewidth\":0,\"ticks\":\"\"}},\"type\":\"scattercarpet\"}],\"scattergeo\":[{\"marker\":{\"colorbar\":{\"outlinewidth\":0,\"ticks\":\"\"}},\"type\":\"scattergeo\"}],\"scattergl\":[{\"marker\":{\"colorbar\":{\"outlinewidth\":0,\"ticks\":\"\"}},\"type\":\"scattergl\"}],\"scattermapbox\":[{\"marker\":{\"colorbar\":{\"outlinewidth\":0,\"ticks\":\"\"}},\"type\":\"scattermapbox\"}],\"scatterpolar\":[{\"marker\":{\"colorbar\":{\"outlinewidth\":0,\"ticks\":\"\"}},\"type\":\"scatterpolar\"}],\"scatterpolargl\":[{\"marker\":{\"colorbar\":{\"outlinewidth\":0,\"ticks\":\"\"}},\"type\":\"scatterpolargl\"}],\"scatterternary\":[{\"marker\":{\"colorbar\":{\"outlinewidth\":0,\"ticks\":\"\"}},\"type\":\"scatterternary\"}],\"surface\":[{\"colorbar\":{\"outlinewidth\":0,\"ticks\":\"\"},\"colorscale\":[[0.0,\"#0d0887\"],[0.1111111111111111,\"#46039f\"],[0.2222222222222222,\"#7201a8\"],[0.3333333333333333,\"#9c179e\"],[0.4444444444444444,\"#bd3786\"],[0.5555555555555556,\"#d8576b\"],[0.6666666666666666,\"#ed7953\"],[0.7777777777777778,\"#fb9f3a\"],[0.8888888888888888,\"#fdca26\"],[1.0,\"#f0f921\"]],\"type\":\"surface\"}],\"table\":[{\"cells\":{\"fill\":{\"color\":\"#EBF0F8\"},\"line\":{\"color\":\"white\"}},\"header\":{\"fill\":{\"color\":\"#C8D4E3\"},\"line\":{\"color\":\"white\"}},\"type\":\"table\"}]},\"layout\":{\"annotationdefaults\":{\"arrowcolor\":\"#2a3f5f\",\"arrowhead\":0,\"arrowwidth\":1},\"autotypenumbers\":\"strict\",\"coloraxis\":{\"colorbar\":{\"outlinewidth\":0,\"ticks\":\"\"}},\"colorscale\":{\"diverging\":[[0,\"#8e0152\"],[0.1,\"#c51b7d\"],[0.2,\"#de77ae\"],[0.3,\"#f1b6da\"],[0.4,\"#fde0ef\"],[0.5,\"#f7f7f7\"],[0.6,\"#e6f5d0\"],[0.7,\"#b8e186\"],[0.8,\"#7fbc41\"],[0.9,\"#4d9221\"],[1,\"#276419\"]],\"sequential\":[[0.0,\"#0d0887\"],[0.1111111111111111,\"#46039f\"],[0.2222222222222222,\"#7201a8\"],[0.3333333333333333,\"#9c179e\"],[0.4444444444444444,\"#bd3786\"],[0.5555555555555556,\"#d8576b\"],[0.6666666666666666,\"#ed7953\"],[0.7777777777777778,\"#fb9f3a\"],[0.8888888888888888,\"#fdca26\"],[1.0,\"#f0f921\"]],\"sequentialminus\":[[0.0,\"#0d0887\"],[0.1111111111111111,\"#46039f\"],[0.2222222222222222,\"#7201a8\"],[0.3333333333333333,\"#9c179e\"],[0.4444444444444444,\"#bd3786\"],[0.5555555555555556,\"#d8576b\"],[0.6666666666666666,\"#ed7953\"],[0.7777777777777778,\"#fb9f3a\"],[0.8888888888888888,\"#fdca26\"],[1.0,\"#f0f921\"]]},\"colorway\":[\"#636efa\",\"#EF553B\",\"#00cc96\",\"#ab63fa\",\"#FFA15A\",\"#19d3f3\",\"#FF6692\",\"#B6E880\",\"#FF97FF\",\"#FECB52\"],\"font\":{\"color\":\"#2a3f5f\"},\"geo\":{\"bgcolor\":\"white\",\"lakecolor\":\"white\",\"landcolor\":\"#E5ECF6\",\"showlakes\":true,\"showland\":true,\"subunitcolor\":\"white\"},\"hoverlabel\":{\"align\":\"left\"},\"hovermode\":\"closest\",\"mapbox\":{\"style\":\"light\"},\"paper_bgcolor\":\"white\",\"plot_bgcolor\":\"#E5ECF6\",\"polar\":{\"angularaxis\":{\"gridcolor\":\"white\",\"linecolor\":\"white\",\"ticks\":\"\"},\"bgcolor\":\"#E5ECF6\",\"radialaxis\":{\"gridcolor\":\"white\",\"linecolor\":\"white\",\"ticks\":\"\"}},\"scene\":{\"xaxis\":{\"backgroundcolor\":\"#E5ECF6\",\"gridcolor\":\"white\",\"gridwidth\":2,\"linecolor\":\"white\",\"showbackground\":true,\"ticks\":\"\",\"zerolinecolor\":\"white\"},\"yaxis\":{\"backgroundcolor\":\"#E5ECF6\",\"gridcolor\":\"white\",\"gridwidth\":2,\"linecolor\":\"white\",\"showbackground\":true,\"ticks\":\"\",\"zerolinecolor\":\"white\"},\"zaxis\":{\"backgroundcolor\":\"#E5ECF6\",\"gridcolor\":\"white\",\"gridwidth\":2,\"linecolor\":\"white\",\"showbackground\":true,\"ticks\":\"\",\"zerolinecolor\":\"white\"}},\"shapedefaults\":{\"line\":{\"color\":\"#2a3f5f\"}},\"ternary\":{\"aaxis\":{\"gridcolor\":\"white\",\"linecolor\":\"white\",\"ticks\":\"\"},\"baxis\":{\"gridcolor\":\"white\",\"linecolor\":\"white\",\"ticks\":\"\"},\"bgcolor\":\"#E5ECF6\",\"caxis\":{\"gridcolor\":\"white\",\"linecolor\":\"white\",\"ticks\":\"\"}},\"title\":{\"x\":0.05},\"xaxis\":{\"automargin\":true,\"gridcolor\":\"white\",\"linecolor\":\"white\",\"ticks\":\"\",\"title\":{\"standoff\":15},\"zerolinecolor\":\"white\",\"zerolinewidth\":2},\"yaxis\":{\"automargin\":true,\"gridcolor\":\"white\",\"linecolor\":\"white\",\"ticks\":\"\",\"title\":{\"standoff\":15},\"zerolinecolor\":\"white\",\"zerolinewidth\":2}}},\"title\":{\"text\":\"Stacked Barplot of Predicted Pathways Recurrence for All Species\"},\"width\":1500,\"xaxis\":{\"anchor\":\"y\",\"domain\":[0.0,1.0],\"title\":{\"text\":\"Recurrence\"}},\"yaxis\":{\"anchor\":\"x\",\"domain\":[0.0,1.0],\"title\":{\"text\":\"Species\"}}},                        {\"responsive\": true}                    ).then(function(){\n",
       "                            \n",
       "var gd = document.getElementById('4a64bd67-2ac2-49e7-bac1-5667ec5b5dd0');\n",
       "var x = new MutationObserver(function (mutations, observer) {{\n",
       "        var display = window.getComputedStyle(gd).display;\n",
       "        if (!display || display === 'none') {{\n",
       "            console.log([gd, 'removed!']);\n",
       "            Plotly.purge(gd);\n",
       "            observer.disconnect();\n",
       "        }}\n",
       "}});\n",
       "\n",
       "// Listen for the removal of the full notebook cells\n",
       "var notebookContainer = gd.closest('#notebook-container');\n",
       "if (notebookContainer) {{\n",
       "    x.observe(notebookContainer, {childList: true});\n",
       "}}\n",
       "\n",
       "// Listen for the clearing of the current output cell\n",
       "var outputEl = gd.closest('.output');\n",
       "if (outputEl) {{\n",
       "    x.observe(outputEl, {childList: true});\n",
       "}}\n",
       "\n",
       "                        })                };                });            </script>        </div>"
      ]
     },
     "metadata": {},
     "output_type": "display_data"
    }
   ],
   "source": [
    "import pandas as pd\n",
    "import plotly.express as px\n",
    "import os\n",
    "\n",
    "# Define the Vivid color palette (you can customize this as needed)\n",
    "vivid_palette = px.colors.qualitative.Vivid\n",
    "\n",
    "# Define custom colors for the 7 pathway categories\n",
    "pathway_colors = {\n",
    "    'Category1': 'red',\n",
    "    'Category2': 'blue',\n",
    "    'Category3': 'green',\n",
    "    'Category4': 'purple',\n",
    "    'Category5': 'orange',\n",
    "    'Category6': 'pink',\n",
    "    'Category7': 'brown'\n",
    "}\n",
    "\n",
    "# Step 1: Initialize an empty DataFrame to store all data\n",
    "all_data = pd.DataFrame(columns=['queried_taxaLabel', 'predicted_pathway'])\n",
    "\n",
    "# Step 2: Read data from all .tsv files in the output_folder\n",
    "for filename in os.listdir(output_folder):\n",
    "    if filename.endswith(\".tsv\"):\n",
    "        file_data = pd.read_csv(os.path.join(output_folder, filename), sep='\\t')\n",
    "        all_data = pd.concat([all_data, file_data])\n",
    "\n",
    "# Step 3: Rename the \"queried_taxaLabel\" column to \"species\"\n",
    "all_data.rename(columns={'queried_taxaLabel': 'species'}, inplace=True)\n",
    "\n",
    "# Remove 'API Error-API Error' and 'Not Classified-Not Classified'\n",
    "all_data = all_data[(all_data['predicted_pathway'] != 'API Error') & (all_data['predicted_pathway'] != 'Not Classified')]\n",
    "\n",
    "# Step 4: Group and aggregate data to calculate recurrence\n",
    "agg_data = all_data.groupby(['species', 'predicted_pathway']).size().reset_index(name='recurrence')\n",
    "\n",
    "# Step 5: Create the stacked barplot with custom colors\n",
    "fig = px.bar(agg_data, y=agg_data['species'].apply(lambda x: f\"<i>{x}</i>\"), x='recurrence',\n",
    "             title='Stacked Barplot of Predicted Pathways Recurrence for All Species',\n",
    "             labels={'recurrence': 'Recurrence'},\n",
    "             color='predicted_pathway',\n",
    "             color_discrete_map=pathway_colors,  # Use custom colors\n",
    "             category_orders={'predicted_pathway': sorted(agg_data['predicted_pathway'].unique())},\n",
    "             orientation='h'\n",
    "            )\n",
    "\n",
    "# Modify the y-axis label\n",
    "fig.update_yaxes(title_text='Species')\n",
    "\n",
    "# Set a white background\n",
    "fig.update_layout(plot_bgcolor='white')\n",
    "\n",
    "# Modify the size of the figure\n",
    "fig.update_layout(width=1500, height=900)\n",
    "\n",
    "# Save the figure as an HTML file\n",
    "fig.write_html(\"Wikidata_pathway_barplot.html\")\n",
    "\n",
    "# Show or save the figure\n",
    "fig.show()\n"
   ]
  }
 ],
 "metadata": {
  "interpreter": {
   "hash": "2c38b6a57c2d4f85bcd8a646c69c70f453ebfd581092159d4a2b022d1b3585cd"
  },
  "kernelspec": {
   "display_name": "Python 3.8.5 64-bit ('base': conda)",
   "language": "python",
   "name": "python3"
  },
  "language_info": {
   "codemirror_mode": {
    "name": "ipython",
    "version": 3
   },
   "file_extension": ".py",
   "mimetype": "text/x-python",
   "name": "python",
   "nbconvert_exporter": "python",
   "pygments_lexer": "ipython3",
   "version": "3.11.5"
  },
  "orig_nbformat": 4
 },
 "nbformat": 4,
 "nbformat_minor": 2
}
